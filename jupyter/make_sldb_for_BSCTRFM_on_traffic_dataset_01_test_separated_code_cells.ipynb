{
 "cells": [
  {
   "cell_type": "code",
   "execution_count": 1,
   "metadata": {},
   "outputs": [],
   "source": [
    "# make SLDB datasets for BSCTRFM from individual time series\n",
    "# on traffic dataset"
   ]
  },
  {
   "cell_type": "code",
   "execution_count": 2,
   "metadata": {},
   "outputs": [],
   "source": [
    "import numpy as np\n",
    "import pandas as pd"
   ]
  },
  {
   "cell_type": "code",
   "execution_count": 3,
   "metadata": {},
   "outputs": [],
   "source": [
    "import json"
   ]
  },
  {
   "cell_type": "code",
   "execution_count": 4,
   "metadata": {},
   "outputs": [],
   "source": [
    "import os"
   ]
  },
  {
   "cell_type": "code",
   "execution_count": 5,
   "metadata": {},
   "outputs": [],
   "source": [
    "import tensorflow as tf"
   ]
  },
  {
   "cell_type": "code",
   "execution_count": 6,
   "metadata": {},
   "outputs": [],
   "source": [
    "from sklearn.preprocessing import MinMaxScaler\n",
    "from sklearn.preprocessing import StandardScaler\n",
    "\n",
    "import joblib"
   ]
  },
  {
   "cell_type": "code",
   "execution_count": 7,
   "metadata": {},
   "outputs": [],
   "source": [
    "# a function to encode float values for serialized examples\n",
    "def _float_feature_from_list_of_values(list_of_values):\n",
    "    \"\"\"Returns a float_list from a list of floats / doubles.\"\"\"\n",
    "    return tf.train.Feature(float_list=tf.train.FloatList(value=list_of_values))"
   ]
  },
  {
   "cell_type": "code",
   "execution_count": 8,
   "metadata": {},
   "outputs": [],
   "source": [
    "# the main source is the traffic dataset PEMS-SF from UCI"
   ]
  },
  {
   "cell_type": "code",
   "execution_count": 9,
   "metadata": {},
   "outputs": [],
   "source": [
    "# it resides in\n",
    "dataset_path = '/home/developer/gcp/cbidmltsf/datasets/traffic'"
   ]
  },
  {
   "cell_type": "code",
   "execution_count": 10,
   "metadata": {},
   "outputs": [
    {
     "data": {
      "text/plain": [
       "['PEMS-SF', 'separated_raw']"
      ]
     },
     "execution_count": 10,
     "metadata": {},
     "output_type": "execute_result"
    }
   ],
   "source": [
    "os.listdir(dataset_path)"
   ]
  },
  {
   "cell_type": "code",
   "execution_count": 11,
   "metadata": {},
   "outputs": [],
   "source": [
    "# a SLDB is produced from separated time series (raw or preprocessed)\n",
    "\n",
    "# SLDB contents are:\n",
    "# TFRecord files for training\n",
    "# TFRecord files for evaluation (if eval required)\n",
    "# time series pickles for testing"
   ]
  },
  {
   "cell_type": "code",
   "execution_count": 12,
   "metadata": {},
   "outputs": [],
   "source": [
    "# constant values for positional encodings\n",
    "hours_in_day = 24\n",
    "days_in_week = 7\n",
    "# days_in_month = 30\n",
    "# days_in_year = 365"
   ]
  },
  {
   "cell_type": "code",
   "execution_count": 13,
   "metadata": {},
   "outputs": [
    {
     "data": {
      "text/plain": [
       "4151"
      ]
     },
     "execution_count": 13,
     "metadata": {},
     "output_type": "execute_result"
    }
   ],
   "source": [
    "# a constant to make sin/cos functions from hours_from_start (the 'age' covariate)\n",
    "# hourly lectures on first day: from 1 to 23\n",
    "# hourly lectures on remaining 172 days: from 0 to 23, then\n",
    "total_hours = 23 + 172*24\n",
    "total_hours"
   ]
  },
  {
   "cell_type": "code",
   "execution_count": 14,
   "metadata": {},
   "outputs": [],
   "source": [
    "# no dates available for traffic dataset, then work only on values and covariates"
   ]
  },
  {
   "cell_type": "code",
   "execution_count": 15,
   "metadata": {},
   "outputs": [],
   "source": [
    "# define global dataset intervals (they might not be precise when missing values exist)\n",
    "\n",
    "# split the time series in seen (train, eval) and unseen (test) data\n",
    "# according to academic papers:\n",
    "\n",
    "# 23 hours + 165 days on seen data, 7 days on unseen data \n",
    "\n",
    "# seen data:      lecture 0 to lecture 3982, initial 23 + 165*24 = 3983 lectures\n",
    "\n",
    "# train/eval split is 0.9/0.1, then\n",
    "\n",
    "# train data:     lecture 0 to lecture 3584, for 3585 lectures\n",
    "no_lectures_train_dataset = 3585\n",
    "\n",
    "# eval data:      lecture 3585 to lecture 3982, for 398 lectures\n",
    "no_lectures_eval_dataset = 398\n",
    "\n",
    "# unseen data:    lecture 3983 to lecture 4150, 7*24 = 168 lectures\n"
   ]
  },
  {
   "cell_type": "code",
   "execution_count": null,
   "metadata": {},
   "outputs": [],
   "source": []
  },
  {
   "cell_type": "code",
   "execution_count": 16,
   "metadata": {},
   "outputs": [],
   "source": [
    "# build sub-series to be persisted as serialized training examples\n",
    "\n",
    "# dimensionality of the encoder input\n",
    "m = 168\n",
    "\n",
    "# dimensionality of the decoder output \n",
    "t = 168"
   ]
  },
  {
   "cell_type": "code",
   "execution_count": 17,
   "metadata": {},
   "outputs": [],
   "source": [
    "# columns to be included in the SLDB\n",
    "\n",
    "# use 7D encoder (age, hour-day, day-week)\n",
    "\n",
    "sldb_columns = [\n",
    "    # no timestamp information for traffic dataset, work only on pos encoding covariates\n",
    "    # 'date',\n",
    "    'id',\n",
    "    # car lane occupancy was recorded as a variable from 0 to 1\n",
    "    'occupancy_scaled',\n",
    "    'sin_hours_from_start',\n",
    "    'cos_hours_from_start',\n",
    "    'sin_hour_day',\n",
    "    'cos_hour_day',\n",
    "    'sin_day_week',\n",
    "    'cos_day_week',\n",
    "    # 'sin_day_month',\n",
    "    # 'cos_day_month',\n",
    "    # 'sin_day_year',\n",
    "    # 'cos_day_year'    \n",
    "]"
   ]
  },
  {
   "cell_type": "code",
   "execution_count": 18,
   "metadata": {},
   "outputs": [],
   "source": [
    "sldb = {\n",
    "    'ts': 'PEMS-SF_SEPARATED_FULL',\n",
    "    'embedding': {\n",
    "        'hourly': 168\n",
    "    },\n",
    "    'tau': {\n",
    "        'hourly': 1\n",
    "    },\n",
    "    'no_targets': 168,\n",
    "    'BSCTRFM': 1,\n",
    "    'preprocessed': 0\n",
    "}"
   ]
  },
  {
   "cell_type": "code",
   "execution_count": 19,
   "metadata": {},
   "outputs": [
    {
     "data": {
      "text/plain": [
       "{'ts': 'PEMS-SF_SEPARATED_FULL',\n",
       " 'embedding': {'hourly': 168},\n",
       " 'tau': {'hourly': 1},\n",
       " 'no_targets': 168,\n",
       " 'BSCTRFM': 1,\n",
       " 'preprocessed': 0}"
      ]
     },
     "execution_count": 19,
     "metadata": {},
     "output_type": "execute_result"
    }
   ],
   "source": [
    "sldb"
   ]
  },
  {
   "cell_type": "code",
   "execution_count": 20,
   "metadata": {},
   "outputs": [
    {
     "data": {
      "text/plain": [
       "'BSCTRFM_168_168_07DB_MMX'"
      ]
     },
     "execution_count": 20,
     "metadata": {},
     "output_type": "execute_result"
    }
   ],
   "source": [
    "# a string with the basic specifications of the SLDB, as part of the SLDB identifier\n",
    "\n",
    "# add the suffix '11D', '07D', etc., to differentiate this SLDB from the original one, which is 09D\n",
    "\n",
    "# add the suffix MMX to indicate the scaler used was MinMax\n",
    "# add the suffix STD to indicate the scaler used was Standard\n",
    "\n",
    "sldb_specs = 'BSCTRFM_{:03d}_{:03d}_07DB_MMX'.format(sldb['embedding']['hourly'], sldb['no_targets'])\n",
    "sldb_specs"
   ]
  },
  {
   "cell_type": "code",
   "execution_count": 21,
   "metadata": {},
   "outputs": [
    {
     "data": {
      "text/plain": [
       "'PEMS-SF_SEPARATED_FULL_BSCTRFM_168_168_07DB_MMX'"
      ]
     },
     "execution_count": 21,
     "metadata": {},
     "output_type": "execute_result"
    }
   ],
   "source": [
    "# get the time-based identifier for the SLDB\n",
    "sldb_identifier = '{}_{}'.format(sldb['ts'], sldb_specs)\n",
    "sldb_identifier"
   ]
  },
  {
   "cell_type": "code",
   "execution_count": 22,
   "metadata": {},
   "outputs": [
    {
     "data": {
      "text/plain": [
       "'/home/developer/gcp/cbidmltsf/sldbs/PEMS-SF_SEPARATED_FULL_BSCTRFM_168_168_07DB_MMX'"
      ]
     },
     "execution_count": 22,
     "metadata": {},
     "output_type": "execute_result"
    }
   ],
   "source": [
    "sldb_dir = '/home/developer/gcp/cbidmltsf/sldbs/{}'.format(sldb_identifier)\n",
    "sldb_dir"
   ]
  },
  {
   "cell_type": "code",
   "execution_count": 23,
   "metadata": {},
   "outputs": [
    {
     "data": {
      "text/plain": [
       "'/home/developer/gcp/cbidmltsf/sldbs/PEMS-SF_SEPARATED_FULL_BSCTRFM_168_168_07DB_MMX/scalers'"
      ]
     },
     "execution_count": 23,
     "metadata": {},
     "output_type": "execute_result"
    }
   ],
   "source": [
    "# get a path to the scalers sub-directory\n",
    "scalers_dir = '{}/scalers'.format(sldb_dir)\n",
    "scalers_dir"
   ]
  },
  {
   "cell_type": "code",
   "execution_count": 24,
   "metadata": {},
   "outputs": [],
   "source": [
    "encoder_input_columns = [\n",
    "    'occupancy_scaled',\n",
    "    'sin_hours_from_start',\n",
    "    'cos_hours_from_start',\n",
    "    'sin_hour_day',\n",
    "    'cos_hour_day',\n",
    "    'sin_day_week',\n",
    "    'cos_day_week'\n",
    "]"
   ]
  },
  {
   "cell_type": "code",
   "execution_count": 25,
   "metadata": {},
   "outputs": [],
   "source": [
    "# both the encoder input and the decoder input use the same columns from the source sub_series dataframe\n",
    "decoder_input_columns = encoder_input_columns"
   ]
  },
  {
   "cell_type": "code",
   "execution_count": 26,
   "metadata": {},
   "outputs": [],
   "source": [
    "target_columns = ['occupancy_scaled']"
   ]
  },
  {
   "cell_type": "code",
   "execution_count": 27,
   "metadata": {},
   "outputs": [],
   "source": [
    "id_columns = ['id']"
   ]
  },
  {
   "cell_type": "code",
   "execution_count": 28,
   "metadata": {},
   "outputs": [],
   "source": [
    "# a dictionary to manage data per individual station_id\n",
    "data = dict()"
   ]
  },
  {
   "cell_type": "code",
   "execution_count": 29,
   "metadata": {},
   "outputs": [],
   "source": [
    "# a dictionary to store the number of examples per customer_id, stage\n",
    "count = dict()"
   ]
  },
  {
   "cell_type": "code",
   "execution_count": 30,
   "metadata": {},
   "outputs": [],
   "source": [
    "# the number of cores available for training in Cloud TPU\n",
    "num_cores = 8"
   ]
  },
  {
   "cell_type": "code",
   "execution_count": 31,
   "metadata": {},
   "outputs": [],
   "source": [
    "# are we training over raw data or preprocessed data?\n",
    "state = 'raw'"
   ]
  },
  {
   "cell_type": "code",
   "execution_count": 32,
   "metadata": {},
   "outputs": [],
   "source": [
    "# build a list with all the station ids"
   ]
  },
  {
   "cell_type": "code",
   "execution_count": 33,
   "metadata": {},
   "outputs": [],
   "source": [
    "data_folder = '{}/PEMS-SF'.format(dataset_path)"
   ]
  },
  {
   "cell_type": "code",
   "execution_count": 34,
   "metadata": {},
   "outputs": [],
   "source": [
    "def process_list(s, variable_type=int, delimiter=None):\n",
    "    \"\"\"Parses a line in the PEMS format to a list.\"\"\"\n",
    "    if delimiter is None:\n",
    "      l = [\n",
    "          variable_type(i) for i in s.replace('[', '').replace(']', '').split()\n",
    "      ]\n",
    "    else:\n",
    "      l = [\n",
    "          variable_type(i)\n",
    "          for i in s.replace('[', '').replace(']', '').split(delimiter)\n",
    "      ]\n",
    "\n",
    "    return l"
   ]
  },
  {
   "cell_type": "code",
   "execution_count": 35,
   "metadata": {},
   "outputs": [],
   "source": [
    "def read_single_list(filename):\n",
    "    \"\"\"Returns single list from a file in the PEMS-custom format.\"\"\"\n",
    "    with open(os.path.join(data_folder, filename), 'r') as dat:\n",
    "        l = process_list(dat.readlines()[0])\n",
    "    return l"
   ]
  },
  {
   "cell_type": "code",
   "execution_count": 36,
   "metadata": {},
   "outputs": [
    {
     "data": {
      "text/plain": [
       "963"
      ]
     },
     "execution_count": 36,
     "metadata": {},
     "output_type": "execute_result"
    }
   ],
   "source": [
    "station_ids = [id for id in read_single_list('stations_list')]\n",
    "len(station_ids)"
   ]
  },
  {
   "cell_type": "code",
   "execution_count": 37,
   "metadata": {},
   "outputs": [],
   "source": [
    "# from the stations list build the main data dictionary\n",
    "for station_id in station_ids:\n",
    "    station_data_path = '{}/separated_{}/ST_{}.pkl'.format(dataset_path, state, station_id)\n",
    "    data[station_id] = pd.read_pickle(station_data_path)"
   ]
  },
  {
   "cell_type": "code",
   "execution_count": 38,
   "metadata": {},
   "outputs": [
    {
     "data": {
      "text/plain": [
       "963"
      ]
     },
     "execution_count": 38,
     "metadata": {},
     "output_type": "execute_result"
    }
   ],
   "source": [
    "len(data.keys())"
   ]
  },
  {
   "cell_type": "code",
   "execution_count": null,
   "metadata": {},
   "outputs": [],
   "source": []
  },
  {
   "cell_type": "code",
   "execution_count": 39,
   "metadata": {},
   "outputs": [],
   "source": [
    "# isolated-code cells to verify functionality before launching the batch job"
   ]
  },
  {
   "cell_type": "code",
   "execution_count": 40,
   "metadata": {},
   "outputs": [
    {
     "data": {
      "text/html": [
       "<div>\n",
       "<style scoped>\n",
       "    .dataframe tbody tr th:only-of-type {\n",
       "        vertical-align: middle;\n",
       "    }\n",
       "\n",
       "    .dataframe tbody tr th {\n",
       "        vertical-align: top;\n",
       "    }\n",
       "\n",
       "    .dataframe thead th {\n",
       "        text-align: right;\n",
       "    }\n",
       "</style>\n",
       "<table border=\"1\" class=\"dataframe\">\n",
       "  <thead>\n",
       "    <tr style=\"text-align: right;\">\n",
       "      <th></th>\n",
       "      <th>values</th>\n",
       "      <th>sensor_day</th>\n",
       "      <th>time_on_day</th>\n",
       "      <th>day_of_week</th>\n",
       "      <th>id</th>\n",
       "      <th>hours_from_start</th>\n",
       "    </tr>\n",
       "  </thead>\n",
       "  <tbody>\n",
       "    <tr>\n",
       "      <th>0</th>\n",
       "      <td>0.019333</td>\n",
       "      <td>0</td>\n",
       "      <td>1</td>\n",
       "      <td>4</td>\n",
       "      <td>400000</td>\n",
       "      <td>1</td>\n",
       "    </tr>\n",
       "    <tr>\n",
       "      <th>1</th>\n",
       "      <td>0.020200</td>\n",
       "      <td>0</td>\n",
       "      <td>2</td>\n",
       "      <td>4</td>\n",
       "      <td>400000</td>\n",
       "      <td>2</td>\n",
       "    </tr>\n",
       "    <tr>\n",
       "      <th>2</th>\n",
       "      <td>0.022450</td>\n",
       "      <td>0</td>\n",
       "      <td>3</td>\n",
       "      <td>4</td>\n",
       "      <td>400000</td>\n",
       "      <td>3</td>\n",
       "    </tr>\n",
       "    <tr>\n",
       "      <th>3</th>\n",
       "      <td>0.029283</td>\n",
       "      <td>0</td>\n",
       "      <td>4</td>\n",
       "      <td>4</td>\n",
       "      <td>400000</td>\n",
       "      <td>4</td>\n",
       "    </tr>\n",
       "    <tr>\n",
       "      <th>4</th>\n",
       "      <td>0.055483</td>\n",
       "      <td>0</td>\n",
       "      <td>5</td>\n",
       "      <td>4</td>\n",
       "      <td>400000</td>\n",
       "      <td>5</td>\n",
       "    </tr>\n",
       "    <tr>\n",
       "      <th>...</th>\n",
       "      <td>...</td>\n",
       "      <td>...</td>\n",
       "      <td>...</td>\n",
       "      <td>...</td>\n",
       "      <td>...</td>\n",
       "      <td>...</td>\n",
       "    </tr>\n",
       "    <tr>\n",
       "      <th>4146</th>\n",
       "      <td>0.038100</td>\n",
       "      <td>172</td>\n",
       "      <td>19</td>\n",
       "      <td>5</td>\n",
       "      <td>400000</td>\n",
       "      <td>4147</td>\n",
       "    </tr>\n",
       "    <tr>\n",
       "      <th>4147</th>\n",
       "      <td>0.033550</td>\n",
       "      <td>172</td>\n",
       "      <td>20</td>\n",
       "      <td>5</td>\n",
       "      <td>400000</td>\n",
       "      <td>4148</td>\n",
       "    </tr>\n",
       "    <tr>\n",
       "      <th>4148</th>\n",
       "      <td>0.027783</td>\n",
       "      <td>172</td>\n",
       "      <td>21</td>\n",
       "      <td>5</td>\n",
       "      <td>400000</td>\n",
       "      <td>4149</td>\n",
       "    </tr>\n",
       "    <tr>\n",
       "      <th>4149</th>\n",
       "      <td>0.019467</td>\n",
       "      <td>172</td>\n",
       "      <td>22</td>\n",
       "      <td>5</td>\n",
       "      <td>400000</td>\n",
       "      <td>4150</td>\n",
       "    </tr>\n",
       "    <tr>\n",
       "      <th>4150</th>\n",
       "      <td>0.014167</td>\n",
       "      <td>172</td>\n",
       "      <td>23</td>\n",
       "      <td>5</td>\n",
       "      <td>400000</td>\n",
       "      <td>4151</td>\n",
       "    </tr>\n",
       "  </tbody>\n",
       "</table>\n",
       "<p>4151 rows × 6 columns</p>\n",
       "</div>"
      ],
      "text/plain": [
       "        values sensor_day time_on_day day_of_week      id hours_from_start\n",
       "0     0.019333          0           1           4  400000                1\n",
       "1     0.020200          0           2           4  400000                2\n",
       "2     0.022450          0           3           4  400000                3\n",
       "3     0.029283          0           4           4  400000                4\n",
       "4     0.055483          0           5           4  400000                5\n",
       "...        ...        ...         ...         ...     ...              ...\n",
       "4146  0.038100        172          19           5  400000             4147\n",
       "4147  0.033550        172          20           5  400000             4148\n",
       "4148  0.027783        172          21           5  400000             4149\n",
       "4149  0.019467        172          22           5  400000             4150\n",
       "4150  0.014167        172          23           5  400000             4151\n",
       "\n",
       "[4151 rows x 6 columns]"
      ]
     },
     "execution_count": 40,
     "metadata": {},
     "output_type": "execute_result"
    }
   ],
   "source": [
    "data[400000]"
   ]
  },
  {
   "cell_type": "code",
   "execution_count": null,
   "metadata": {},
   "outputs": [],
   "source": []
  },
  {
   "cell_type": "code",
   "execution_count": 42,
   "metadata": {},
   "outputs": [],
   "source": [
    "# use pd.to_numeric() to convert objects in the time series to numbers\n",
    "# this is not required for the electricity dataset!"
   ]
  },
  {
   "cell_type": "code",
   "execution_count": 41,
   "metadata": {},
   "outputs": [
    {
     "name": "stdout",
     "output_type": "stream",
     "text": [
      "Added positional encodings to 400000.\n"
     ]
    }
   ],
   "source": [
    "for station_id in station_ids[:1]:\n",
    "\n",
    "    # initialize the examples dictionary for each station\n",
    "    examples = {\n",
    "        'train': [],\n",
    "        'eval': [],\n",
    "        # test dataset is not passed to SLDB, but persisted as a time series\n",
    "        # 'test': []\n",
    "    }\n",
    "    \n",
    "    # use now a reference to the dataframe in the data dictionary \n",
    "    data_df = data[station_id]\n",
    "    \n",
    "    # a sub-dictionary to keep the number of examples per station_id, stage\n",
    "    count[station_id] = dict()\n",
    "\n",
    "    # expand with positional encodings\n",
    "    data_df['sin_hours_from_start'] = np.sin(2*np.pi*pd.to_numeric(data_df.hours_from_start)/total_hours)\n",
    "    data_df['cos_hours_from_start'] = np.cos(2*np.pi*pd.to_numeric(data_df.hours_from_start)/total_hours)\n",
    "    data_df['sin_hour_day'] = np.sin(2*np.pi*pd.to_numeric(data_df.time_on_day)/hours_in_day)\n",
    "    data_df['cos_hour_day'] = np.cos(2*np.pi*pd.to_numeric(data_df.time_on_day)/hours_in_day)\n",
    "    data_df['sin_day_week'] = np.sin(2*np.pi*pd.to_numeric(data_df.day_of_week)/days_in_week)\n",
    "    data_df['cos_day_week'] = np.cos(2*np.pi*pd.to_numeric(data_df.day_of_week)/days_in_week)\n",
    "    \n",
    "    print('Added positional encodings to {}.'.format(station_id))\n"
   ]
  },
  {
   "cell_type": "code",
   "execution_count": 42,
   "metadata": {},
   "outputs": [
    {
     "data": {
      "text/plain": [
       "Int64Index([   0,    1,    2,    3,    4,    5,    6,    7,    8,    9,\n",
       "            ...\n",
       "            4141, 4142, 4143, 4144, 4145, 4146, 4147, 4148, 4149, 4150],\n",
       "           dtype='int64', length=4151)"
      ]
     },
     "execution_count": 42,
     "metadata": {},
     "output_type": "execute_result"
    }
   ],
   "source": [
    "data_df.index"
   ]
  },
  {
   "cell_type": "code",
   "execution_count": 46,
   "metadata": {},
   "outputs": [],
   "source": [
    "# DISCARD USE OF ABSOLUTE INDEXES TO SLICE THE TIME SERIES WITH .loc\n",
    "# USE RELATIVE INDEXES TO SLICE THE TIME SERIES WITH .iloc\n",
    "# train_start_index = data_df.index[0]\n",
    "# train_start_index"
   ]
  },
  {
   "cell_type": "code",
   "execution_count": 48,
   "metadata": {},
   "outputs": [],
   "source": [
    "# DISCARD USE OF ABSOLUTE INDEXES TO SLICE THE TIME SERIES WITH .loc\n",
    "# USE RELATIVE INDEXES TO SLICE THE TIME SERIES WITH .iloc\n",
    "# train_end_index = train_start_index + no_lectures_train_dataset\n",
    "# train_end_index"
   ]
  },
  {
   "cell_type": "code",
   "execution_count": 49,
   "metadata": {},
   "outputs": [],
   "source": [
    "# DISCARD USE OF ABSOLUTE INDEXES TO SLICE THE TIME SERIES WITH .loc\n",
    "# USE RELATIVE INDEXES TO SLICE THE TIME SERIES WITH .iloc\n",
    "# time series for train dataset\n",
    "# substract 1 to end index because Pandas slicing includes the tail lecture\n",
    "# data_df.loc[train_start_index:train_end_index - 1]"
   ]
  },
  {
   "cell_type": "code",
   "execution_count": 50,
   "metadata": {},
   "outputs": [
    {
     "data": {
      "text/html": [
       "<div>\n",
       "<style scoped>\n",
       "    .dataframe tbody tr th:only-of-type {\n",
       "        vertical-align: middle;\n",
       "    }\n",
       "\n",
       "    .dataframe tbody tr th {\n",
       "        vertical-align: top;\n",
       "    }\n",
       "\n",
       "    .dataframe thead th {\n",
       "        text-align: right;\n",
       "    }\n",
       "</style>\n",
       "<table border=\"1\" class=\"dataframe\">\n",
       "  <thead>\n",
       "    <tr style=\"text-align: right;\">\n",
       "      <th></th>\n",
       "      <th>values</th>\n",
       "      <th>sensor_day</th>\n",
       "      <th>time_on_day</th>\n",
       "      <th>day_of_week</th>\n",
       "      <th>id</th>\n",
       "      <th>hours_from_start</th>\n",
       "      <th>sin_hours_from_start</th>\n",
       "      <th>cos_hours_from_start</th>\n",
       "      <th>sin_hour_day</th>\n",
       "      <th>cos_hour_day</th>\n",
       "      <th>sin_day_week</th>\n",
       "      <th>cos_day_week</th>\n",
       "    </tr>\n",
       "  </thead>\n",
       "  <tbody>\n",
       "    <tr>\n",
       "      <th>0</th>\n",
       "      <td>0.019333</td>\n",
       "      <td>0</td>\n",
       "      <td>1</td>\n",
       "      <td>4</td>\n",
       "      <td>400000</td>\n",
       "      <td>1</td>\n",
       "      <td>0.001514</td>\n",
       "      <td>0.999999</td>\n",
       "      <td>0.258819</td>\n",
       "      <td>9.659258e-01</td>\n",
       "      <td>-0.433884</td>\n",
       "      <td>-0.900969</td>\n",
       "    </tr>\n",
       "    <tr>\n",
       "      <th>1</th>\n",
       "      <td>0.020200</td>\n",
       "      <td>0</td>\n",
       "      <td>2</td>\n",
       "      <td>4</td>\n",
       "      <td>400000</td>\n",
       "      <td>2</td>\n",
       "      <td>0.003027</td>\n",
       "      <td>0.999995</td>\n",
       "      <td>0.500000</td>\n",
       "      <td>8.660254e-01</td>\n",
       "      <td>-0.433884</td>\n",
       "      <td>-0.900969</td>\n",
       "    </tr>\n",
       "    <tr>\n",
       "      <th>2</th>\n",
       "      <td>0.022450</td>\n",
       "      <td>0</td>\n",
       "      <td>3</td>\n",
       "      <td>4</td>\n",
       "      <td>400000</td>\n",
       "      <td>3</td>\n",
       "      <td>0.004541</td>\n",
       "      <td>0.999990</td>\n",
       "      <td>0.707107</td>\n",
       "      <td>7.071068e-01</td>\n",
       "      <td>-0.433884</td>\n",
       "      <td>-0.900969</td>\n",
       "    </tr>\n",
       "    <tr>\n",
       "      <th>3</th>\n",
       "      <td>0.029283</td>\n",
       "      <td>0</td>\n",
       "      <td>4</td>\n",
       "      <td>4</td>\n",
       "      <td>400000</td>\n",
       "      <td>4</td>\n",
       "      <td>0.006055</td>\n",
       "      <td>0.999982</td>\n",
       "      <td>0.866025</td>\n",
       "      <td>5.000000e-01</td>\n",
       "      <td>-0.433884</td>\n",
       "      <td>-0.900969</td>\n",
       "    </tr>\n",
       "    <tr>\n",
       "      <th>4</th>\n",
       "      <td>0.055483</td>\n",
       "      <td>0</td>\n",
       "      <td>5</td>\n",
       "      <td>4</td>\n",
       "      <td>400000</td>\n",
       "      <td>5</td>\n",
       "      <td>0.007568</td>\n",
       "      <td>0.999971</td>\n",
       "      <td>0.965926</td>\n",
       "      <td>2.588190e-01</td>\n",
       "      <td>-0.433884</td>\n",
       "      <td>-0.900969</td>\n",
       "    </tr>\n",
       "    <tr>\n",
       "      <th>...</th>\n",
       "      <td>...</td>\n",
       "      <td>...</td>\n",
       "      <td>...</td>\n",
       "      <td>...</td>\n",
       "      <td>...</td>\n",
       "      <td>...</td>\n",
       "      <td>...</td>\n",
       "      <td>...</td>\n",
       "      <td>...</td>\n",
       "      <td>...</td>\n",
       "      <td>...</td>\n",
       "      <td>...</td>\n",
       "    </tr>\n",
       "    <tr>\n",
       "      <th>3580</th>\n",
       "      <td>0.056800</td>\n",
       "      <td>149</td>\n",
       "      <td>5</td>\n",
       "      <td>3</td>\n",
       "      <td>400000</td>\n",
       "      <td>3581</td>\n",
       "      <td>-0.759656</td>\n",
       "      <td>0.650325</td>\n",
       "      <td>0.965926</td>\n",
       "      <td>2.588190e-01</td>\n",
       "      <td>0.433884</td>\n",
       "      <td>-0.900969</td>\n",
       "    </tr>\n",
       "    <tr>\n",
       "      <th>3581</th>\n",
       "      <td>0.126300</td>\n",
       "      <td>149</td>\n",
       "      <td>6</td>\n",
       "      <td>3</td>\n",
       "      <td>400000</td>\n",
       "      <td>3582</td>\n",
       "      <td>-0.758671</td>\n",
       "      <td>0.651474</td>\n",
       "      <td>1.000000</td>\n",
       "      <td>6.123234e-17</td>\n",
       "      <td>0.433884</td>\n",
       "      <td>-0.900969</td>\n",
       "    </tr>\n",
       "    <tr>\n",
       "      <th>3582</th>\n",
       "      <td>0.083983</td>\n",
       "      <td>149</td>\n",
       "      <td>7</td>\n",
       "      <td>3</td>\n",
       "      <td>400000</td>\n",
       "      <td>3583</td>\n",
       "      <td>-0.757684</td>\n",
       "      <td>0.652622</td>\n",
       "      <td>0.965926</td>\n",
       "      <td>-2.588190e-01</td>\n",
       "      <td>0.433884</td>\n",
       "      <td>-0.900969</td>\n",
       "    </tr>\n",
       "    <tr>\n",
       "      <th>3583</th>\n",
       "      <td>0.062917</td>\n",
       "      <td>149</td>\n",
       "      <td>8</td>\n",
       "      <td>3</td>\n",
       "      <td>400000</td>\n",
       "      <td>3584</td>\n",
       "      <td>-0.756695</td>\n",
       "      <td>0.653768</td>\n",
       "      <td>0.866025</td>\n",
       "      <td>-5.000000e-01</td>\n",
       "      <td>0.433884</td>\n",
       "      <td>-0.900969</td>\n",
       "    </tr>\n",
       "    <tr>\n",
       "      <th>3584</th>\n",
       "      <td>0.063867</td>\n",
       "      <td>149</td>\n",
       "      <td>9</td>\n",
       "      <td>3</td>\n",
       "      <td>400000</td>\n",
       "      <td>3585</td>\n",
       "      <td>-0.755705</td>\n",
       "      <td>0.654913</td>\n",
       "      <td>0.707107</td>\n",
       "      <td>-7.071068e-01</td>\n",
       "      <td>0.433884</td>\n",
       "      <td>-0.900969</td>\n",
       "    </tr>\n",
       "  </tbody>\n",
       "</table>\n",
       "<p>3585 rows × 12 columns</p>\n",
       "</div>"
      ],
      "text/plain": [
       "        values sensor_day time_on_day day_of_week      id hours_from_start  \\\n",
       "0     0.019333          0           1           4  400000                1   \n",
       "1     0.020200          0           2           4  400000                2   \n",
       "2     0.022450          0           3           4  400000                3   \n",
       "3     0.029283          0           4           4  400000                4   \n",
       "4     0.055483          0           5           4  400000                5   \n",
       "...        ...        ...         ...         ...     ...              ...   \n",
       "3580  0.056800        149           5           3  400000             3581   \n",
       "3581  0.126300        149           6           3  400000             3582   \n",
       "3582  0.083983        149           7           3  400000             3583   \n",
       "3583  0.062917        149           8           3  400000             3584   \n",
       "3584  0.063867        149           9           3  400000             3585   \n",
       "\n",
       "      sin_hours_from_start  cos_hours_from_start  sin_hour_day  cos_hour_day  \\\n",
       "0                 0.001514              0.999999      0.258819  9.659258e-01   \n",
       "1                 0.003027              0.999995      0.500000  8.660254e-01   \n",
       "2                 0.004541              0.999990      0.707107  7.071068e-01   \n",
       "3                 0.006055              0.999982      0.866025  5.000000e-01   \n",
       "4                 0.007568              0.999971      0.965926  2.588190e-01   \n",
       "...                    ...                   ...           ...           ...   \n",
       "3580             -0.759656              0.650325      0.965926  2.588190e-01   \n",
       "3581             -0.758671              0.651474      1.000000  6.123234e-17   \n",
       "3582             -0.757684              0.652622      0.965926 -2.588190e-01   \n",
       "3583             -0.756695              0.653768      0.866025 -5.000000e-01   \n",
       "3584             -0.755705              0.654913      0.707107 -7.071068e-01   \n",
       "\n",
       "      sin_day_week  cos_day_week  \n",
       "0        -0.433884     -0.900969  \n",
       "1        -0.433884     -0.900969  \n",
       "2        -0.433884     -0.900969  \n",
       "3        -0.433884     -0.900969  \n",
       "4        -0.433884     -0.900969  \n",
       "...            ...           ...  \n",
       "3580      0.433884     -0.900969  \n",
       "3581      0.433884     -0.900969  \n",
       "3582      0.433884     -0.900969  \n",
       "3583      0.433884     -0.900969  \n",
       "3584      0.433884     -0.900969  \n",
       "\n",
       "[3585 rows x 12 columns]"
      ]
     },
     "execution_count": 50,
     "metadata": {},
     "output_type": "execute_result"
    }
   ],
   "source": [
    "# all datasets per station_id keep their indexes from the original time series\n",
    "# then use iloc (integer location) instead of loc to avoid calculating the original indexes\n",
    "data_df.iloc[:no_lectures_train_dataset]"
   ]
  },
  {
   "cell_type": "code",
   "execution_count": null,
   "metadata": {},
   "outputs": [],
   "source": []
  },
  {
   "cell_type": "code",
   "execution_count": 51,
   "metadata": {},
   "outputs": [],
   "source": [
    "# DISCARD USE OF ABSOLUTE INDEXES TO SLICE THE TIME SERIES WITH .loc\n",
    "# USE RELATIVE INDEXES TO SLICE THE TIME SERIES WITH .iloc\n",
    "# because Pandas slicing includes the tail lecture\n",
    "# eval_start_index = train_end_index\n",
    "# eval_start_index"
   ]
  },
  {
   "cell_type": "code",
   "execution_count": 52,
   "metadata": {},
   "outputs": [],
   "source": [
    "# DISCARD USE OF ABSOLUTE INDEXES TO SLICE THE TIME SERIES WITH .loc\n",
    "# USE RELATIVE INDEXES TO SLICE THE TIME SERIES WITH .iloc\n",
    "# eval_end_index = eval_start_index + no_lectures_eval_dataset\n",
    "# eval_end_index"
   ]
  },
  {
   "cell_type": "code",
   "execution_count": 53,
   "metadata": {},
   "outputs": [],
   "source": [
    "# DISCARD USE OF ABSOLUTE INDEXES TO SLICE THE TIME SERIES WITH .loc\n",
    "# USE RELATIVE INDEXES TO SLICE THE TIME SERIES WITH .iloc\n",
    "# time series for eval dataset\n",
    "# substract 1 to end index because Pandas slicing includes the tail lecture\n",
    "# data_df.loc[eval_start_index:eval_end_index - 1]"
   ]
  },
  {
   "cell_type": "code",
   "execution_count": 54,
   "metadata": {},
   "outputs": [
    {
     "data": {
      "text/html": [
       "<div>\n",
       "<style scoped>\n",
       "    .dataframe tbody tr th:only-of-type {\n",
       "        vertical-align: middle;\n",
       "    }\n",
       "\n",
       "    .dataframe tbody tr th {\n",
       "        vertical-align: top;\n",
       "    }\n",
       "\n",
       "    .dataframe thead th {\n",
       "        text-align: right;\n",
       "    }\n",
       "</style>\n",
       "<table border=\"1\" class=\"dataframe\">\n",
       "  <thead>\n",
       "    <tr style=\"text-align: right;\">\n",
       "      <th></th>\n",
       "      <th>values</th>\n",
       "      <th>sensor_day</th>\n",
       "      <th>time_on_day</th>\n",
       "      <th>day_of_week</th>\n",
       "      <th>id</th>\n",
       "      <th>hours_from_start</th>\n",
       "      <th>sin_hours_from_start</th>\n",
       "      <th>cos_hours_from_start</th>\n",
       "      <th>sin_hour_day</th>\n",
       "      <th>cos_hour_day</th>\n",
       "      <th>sin_day_week</th>\n",
       "      <th>cos_day_week</th>\n",
       "    </tr>\n",
       "  </thead>\n",
       "  <tbody>\n",
       "    <tr>\n",
       "      <th>3585</th>\n",
       "      <td>0.064617</td>\n",
       "      <td>149</td>\n",
       "      <td>10</td>\n",
       "      <td>3</td>\n",
       "      <td>400000</td>\n",
       "      <td>3586</td>\n",
       "      <td>-0.754712</td>\n",
       "      <td>0.656056</td>\n",
       "      <td>5.000000e-01</td>\n",
       "      <td>-0.866025</td>\n",
       "      <td>0.433884</td>\n",
       "      <td>-0.900969</td>\n",
       "    </tr>\n",
       "    <tr>\n",
       "      <th>3586</th>\n",
       "      <td>0.062400</td>\n",
       "      <td>149</td>\n",
       "      <td>11</td>\n",
       "      <td>3</td>\n",
       "      <td>400000</td>\n",
       "      <td>3587</td>\n",
       "      <td>-0.753718</td>\n",
       "      <td>0.657197</td>\n",
       "      <td>2.588190e-01</td>\n",
       "      <td>-0.965926</td>\n",
       "      <td>0.433884</td>\n",
       "      <td>-0.900969</td>\n",
       "    </tr>\n",
       "    <tr>\n",
       "      <th>3587</th>\n",
       "      <td>0.059717</td>\n",
       "      <td>149</td>\n",
       "      <td>12</td>\n",
       "      <td>3</td>\n",
       "      <td>400000</td>\n",
       "      <td>3588</td>\n",
       "      <td>-0.752723</td>\n",
       "      <td>0.658338</td>\n",
       "      <td>1.224647e-16</td>\n",
       "      <td>-1.000000</td>\n",
       "      <td>0.433884</td>\n",
       "      <td>-0.900969</td>\n",
       "    </tr>\n",
       "    <tr>\n",
       "      <th>3588</th>\n",
       "      <td>0.060133</td>\n",
       "      <td>149</td>\n",
       "      <td>13</td>\n",
       "      <td>3</td>\n",
       "      <td>400000</td>\n",
       "      <td>3589</td>\n",
       "      <td>-0.751725</td>\n",
       "      <td>0.659476</td>\n",
       "      <td>-2.588190e-01</td>\n",
       "      <td>-0.965926</td>\n",
       "      <td>0.433884</td>\n",
       "      <td>-0.900969</td>\n",
       "    </tr>\n",
       "    <tr>\n",
       "      <th>3589</th>\n",
       "      <td>0.057683</td>\n",
       "      <td>149</td>\n",
       "      <td>14</td>\n",
       "      <td>3</td>\n",
       "      <td>400000</td>\n",
       "      <td>3590</td>\n",
       "      <td>-0.750726</td>\n",
       "      <td>0.660613</td>\n",
       "      <td>-5.000000e-01</td>\n",
       "      <td>-0.866025</td>\n",
       "      <td>0.433884</td>\n",
       "      <td>-0.900969</td>\n",
       "    </tr>\n",
       "    <tr>\n",
       "      <th>...</th>\n",
       "      <td>...</td>\n",
       "      <td>...</td>\n",
       "      <td>...</td>\n",
       "      <td>...</td>\n",
       "      <td>...</td>\n",
       "      <td>...</td>\n",
       "      <td>...</td>\n",
       "      <td>...</td>\n",
       "      <td>...</td>\n",
       "      <td>...</td>\n",
       "      <td>...</td>\n",
       "      <td>...</td>\n",
       "    </tr>\n",
       "    <tr>\n",
       "      <th>3978</th>\n",
       "      <td>0.039050</td>\n",
       "      <td>165</td>\n",
       "      <td>19</td>\n",
       "      <td>5</td>\n",
       "      <td>400000</td>\n",
       "      <td>3979</td>\n",
       "      <td>-0.257418</td>\n",
       "      <td>0.966300</td>\n",
       "      <td>-9.659258e-01</td>\n",
       "      <td>0.258819</td>\n",
       "      <td>-0.974928</td>\n",
       "      <td>-0.222521</td>\n",
       "    </tr>\n",
       "    <tr>\n",
       "      <th>3979</th>\n",
       "      <td>0.035333</td>\n",
       "      <td>165</td>\n",
       "      <td>20</td>\n",
       "      <td>5</td>\n",
       "      <td>400000</td>\n",
       "      <td>3980</td>\n",
       "      <td>-0.255955</td>\n",
       "      <td>0.966689</td>\n",
       "      <td>-8.660254e-01</td>\n",
       "      <td>0.500000</td>\n",
       "      <td>-0.974928</td>\n",
       "      <td>-0.222521</td>\n",
       "    </tr>\n",
       "    <tr>\n",
       "      <th>3980</th>\n",
       "      <td>0.028650</td>\n",
       "      <td>165</td>\n",
       "      <td>21</td>\n",
       "      <td>5</td>\n",
       "      <td>400000</td>\n",
       "      <td>3981</td>\n",
       "      <td>-0.254491</td>\n",
       "      <td>0.967075</td>\n",
       "      <td>-7.071068e-01</td>\n",
       "      <td>0.707107</td>\n",
       "      <td>-0.974928</td>\n",
       "      <td>-0.222521</td>\n",
       "    </tr>\n",
       "    <tr>\n",
       "      <th>3981</th>\n",
       "      <td>0.022067</td>\n",
       "      <td>165</td>\n",
       "      <td>22</td>\n",
       "      <td>5</td>\n",
       "      <td>400000</td>\n",
       "      <td>3982</td>\n",
       "      <td>-0.253027</td>\n",
       "      <td>0.967459</td>\n",
       "      <td>-5.000000e-01</td>\n",
       "      <td>0.866025</td>\n",
       "      <td>-0.974928</td>\n",
       "      <td>-0.222521</td>\n",
       "    </tr>\n",
       "    <tr>\n",
       "      <th>3982</th>\n",
       "      <td>0.013583</td>\n",
       "      <td>165</td>\n",
       "      <td>23</td>\n",
       "      <td>5</td>\n",
       "      <td>400000</td>\n",
       "      <td>3983</td>\n",
       "      <td>-0.251562</td>\n",
       "      <td>0.967841</td>\n",
       "      <td>-2.588190e-01</td>\n",
       "      <td>0.965926</td>\n",
       "      <td>-0.974928</td>\n",
       "      <td>-0.222521</td>\n",
       "    </tr>\n",
       "  </tbody>\n",
       "</table>\n",
       "<p>398 rows × 12 columns</p>\n",
       "</div>"
      ],
      "text/plain": [
       "        values sensor_day time_on_day day_of_week      id hours_from_start  \\\n",
       "3585  0.064617        149          10           3  400000             3586   \n",
       "3586  0.062400        149          11           3  400000             3587   \n",
       "3587  0.059717        149          12           3  400000             3588   \n",
       "3588  0.060133        149          13           3  400000             3589   \n",
       "3589  0.057683        149          14           3  400000             3590   \n",
       "...        ...        ...         ...         ...     ...              ...   \n",
       "3978  0.039050        165          19           5  400000             3979   \n",
       "3979  0.035333        165          20           5  400000             3980   \n",
       "3980  0.028650        165          21           5  400000             3981   \n",
       "3981  0.022067        165          22           5  400000             3982   \n",
       "3982  0.013583        165          23           5  400000             3983   \n",
       "\n",
       "      sin_hours_from_start  cos_hours_from_start  sin_hour_day  cos_hour_day  \\\n",
       "3585             -0.754712              0.656056  5.000000e-01     -0.866025   \n",
       "3586             -0.753718              0.657197  2.588190e-01     -0.965926   \n",
       "3587             -0.752723              0.658338  1.224647e-16     -1.000000   \n",
       "3588             -0.751725              0.659476 -2.588190e-01     -0.965926   \n",
       "3589             -0.750726              0.660613 -5.000000e-01     -0.866025   \n",
       "...                    ...                   ...           ...           ...   \n",
       "3978             -0.257418              0.966300 -9.659258e-01      0.258819   \n",
       "3979             -0.255955              0.966689 -8.660254e-01      0.500000   \n",
       "3980             -0.254491              0.967075 -7.071068e-01      0.707107   \n",
       "3981             -0.253027              0.967459 -5.000000e-01      0.866025   \n",
       "3982             -0.251562              0.967841 -2.588190e-01      0.965926   \n",
       "\n",
       "      sin_day_week  cos_day_week  \n",
       "3585      0.433884     -0.900969  \n",
       "3586      0.433884     -0.900969  \n",
       "3587      0.433884     -0.900969  \n",
       "3588      0.433884     -0.900969  \n",
       "3589      0.433884     -0.900969  \n",
       "...            ...           ...  \n",
       "3978     -0.974928     -0.222521  \n",
       "3979     -0.974928     -0.222521  \n",
       "3980     -0.974928     -0.222521  \n",
       "3981     -0.974928     -0.222521  \n",
       "3982     -0.974928     -0.222521  \n",
       "\n",
       "[398 rows x 12 columns]"
      ]
     },
     "execution_count": 54,
     "metadata": {},
     "output_type": "execute_result"
    }
   ],
   "source": [
    "# all datasets per station_id keep their indexes from the original time series\n",
    "# then use iloc (integer location) instead of loc to avoid calculating the original indexes\n",
    "data_df.iloc[no_lectures_train_dataset:no_lectures_train_dataset + no_lectures_eval_dataset]"
   ]
  },
  {
   "cell_type": "code",
   "execution_count": null,
   "metadata": {},
   "outputs": [],
   "source": []
  },
  {
   "cell_type": "code",
   "execution_count": null,
   "metadata": {},
   "outputs": [],
   "source": []
  },
  {
   "cell_type": "code",
   "execution_count": 55,
   "metadata": {},
   "outputs": [
    {
     "data": {
      "text/plain": [
       "0       0.019333\n",
       "1       0.020200\n",
       "2       0.022450\n",
       "3       0.029283\n",
       "4       0.055483\n",
       "          ...   \n",
       "3580    0.056800\n",
       "3581    0.126300\n",
       "3582    0.083983\n",
       "3583    0.062917\n",
       "3584    0.063867\n",
       "Name: values, Length: 3585, dtype: float64"
      ]
     },
     "execution_count": 55,
     "metadata": {},
     "output_type": "execute_result"
    }
   ],
   "source": [
    "# get a series for the occupancy variable on the training dataset, to fit the scaler\n",
    "# lectures_train_data = data_df['values'].loc[train_start_index:train_end_index - 1]\n",
    "\n",
    "lectures_train_data = data_df['values'].iloc[:no_lectures_train_dataset]\n",
    "lectures_train_data"
   ]
  },
  {
   "cell_type": "code",
   "execution_count": 56,
   "metadata": {},
   "outputs": [
    {
     "data": {
      "text/plain": [
       "(3585, 1)"
      ]
     },
     "execution_count": 56,
     "metadata": {},
     "output_type": "execute_result"
    }
   ],
   "source": [
    "# fit a scaler only on train data\n",
    "# it is required to pass the occupancy time series to a (?, 1) NumPy array\n",
    "lectures_train_data_array = np.array(lectures_train_data).reshape(-1, 1)\n",
    "lectures_train_data_array.shape"
   ]
  },
  {
   "cell_type": "code",
   "execution_count": 57,
   "metadata": {},
   "outputs": [
    {
     "name": "stdout",
     "output_type": "stream",
     "text": [
      "Scaler min_max generated on training data for 400000\n"
     ]
    }
   ],
   "source": [
    "# get MinMaxScaler on train data, store it in a dictionary\n",
    "scaler_type = 'min_max'\n",
    "scaler = MinMaxScaler()\n",
    "fitted_scaler = scaler.fit(lectures_train_data_array)\n",
    "print('Scaler {} generated on training data for {}'.format(scaler_type, station_id))"
   ]
  },
  {
   "cell_type": "code",
   "execution_count": 58,
   "metadata": {},
   "outputs": [
    {
     "name": "stdout",
     "output_type": "stream",
     "text": [
      "Scaler min_max persisted for 400000\n"
     ]
    }
   ],
   "source": [
    "# persist the scaler\n",
    "scaler_filename = '{}/{}_{}.save'.format(scalers_dir, scaler_type, station_id)\n",
    "joblib.dump(fitted_scaler, scaler_filename)\n",
    "print('Scaler {} persisted for {}'.format(scaler_type, station_id))"
   ]
  },
  {
   "cell_type": "code",
   "execution_count": 59,
   "metadata": {},
   "outputs": [],
   "source": [
    "# get an array from the variable time series (seen and unseen)\n",
    "# replace data_df.values with data_df['values']\n",
    "# to select only the values of the 'values' column, and not all the columns values\n",
    "all_data_variable_array = np.array(data_df['values']).reshape(-1, 1)"
   ]
  },
  {
   "cell_type": "code",
   "execution_count": 60,
   "metadata": {},
   "outputs": [
    {
     "data": {
      "text/plain": [
       "(4151, 1)"
      ]
     },
     "execution_count": 60,
     "metadata": {},
     "output_type": "execute_result"
    }
   ],
   "source": [
    "all_data_variable_array.shape"
   ]
  },
  {
   "cell_type": "code",
   "execution_count": 61,
   "metadata": {},
   "outputs": [],
   "source": [
    "# apply the scaler over all data (seen and unseen)\n",
    "# rescale, and squeeze to drop the extra dimension, then assign to the new column kw_scaled\n",
    "data_df['occupancy_scaled'] = np.squeeze(fitted_scaler.transform(all_data_variable_array))"
   ]
  },
  {
   "cell_type": "code",
   "execution_count": 63,
   "metadata": {},
   "outputs": [
    {
     "data": {
      "text/html": [
       "<div>\n",
       "<style scoped>\n",
       "    .dataframe tbody tr th:only-of-type {\n",
       "        vertical-align: middle;\n",
       "    }\n",
       "\n",
       "    .dataframe tbody tr th {\n",
       "        vertical-align: top;\n",
       "    }\n",
       "\n",
       "    .dataframe thead th {\n",
       "        text-align: right;\n",
       "    }\n",
       "</style>\n",
       "<table border=\"1\" class=\"dataframe\">\n",
       "  <thead>\n",
       "    <tr style=\"text-align: right;\">\n",
       "      <th></th>\n",
       "      <th>occupancy_scaled</th>\n",
       "    </tr>\n",
       "  </thead>\n",
       "  <tbody>\n",
       "    <tr>\n",
       "      <th>0</th>\n",
       "      <td>0.037424</td>\n",
       "    </tr>\n",
       "    <tr>\n",
       "      <th>1</th>\n",
       "      <td>0.039929</td>\n",
       "    </tr>\n",
       "    <tr>\n",
       "      <th>2</th>\n",
       "      <td>0.046431</td>\n",
       "    </tr>\n",
       "    <tr>\n",
       "      <th>3</th>\n",
       "      <td>0.066179</td>\n",
       "    </tr>\n",
       "    <tr>\n",
       "      <th>4</th>\n",
       "      <td>0.141894</td>\n",
       "    </tr>\n",
       "    <tr>\n",
       "      <th>...</th>\n",
       "      <td>...</td>\n",
       "    </tr>\n",
       "    <tr>\n",
       "      <th>4146</th>\n",
       "      <td>0.091658</td>\n",
       "    </tr>\n",
       "    <tr>\n",
       "      <th>4147</th>\n",
       "      <td>0.078509</td>\n",
       "    </tr>\n",
       "    <tr>\n",
       "      <th>4148</th>\n",
       "      <td>0.061844</td>\n",
       "    </tr>\n",
       "    <tr>\n",
       "      <th>4149</th>\n",
       "      <td>0.037809</td>\n",
       "    </tr>\n",
       "    <tr>\n",
       "      <th>4150</th>\n",
       "      <td>0.022493</td>\n",
       "    </tr>\n",
       "  </tbody>\n",
       "</table>\n",
       "<p>4151 rows × 1 columns</p>\n",
       "</div>"
      ],
      "text/plain": [
       "      occupancy_scaled\n",
       "0             0.037424\n",
       "1             0.039929\n",
       "2             0.046431\n",
       "3             0.066179\n",
       "4             0.141894\n",
       "...                ...\n",
       "4146          0.091658\n",
       "4147          0.078509\n",
       "4148          0.061844\n",
       "4149          0.037809\n",
       "4150          0.022493\n",
       "\n",
       "[4151 rows x 1 columns]"
      ]
     },
     "execution_count": 63,
     "metadata": {},
     "output_type": "execute_result"
    }
   ],
   "source": [
    "data_df[['occupancy_scaled']]"
   ]
  },
  {
   "cell_type": "code",
   "execution_count": 64,
   "metadata": {},
   "outputs": [],
   "source": [
    "# at this moment, the individual time series are ready to be window-rolled to produce\n",
    "# sub-series/examples to serialize\n",
    "\n",
    "# BSCTRFM inference process is not direct, but iterative, therefore\n",
    "# no TFRecord SLDB is required for test dataset,"
   ]
  },
  {
   "cell_type": "code",
   "execution_count": 65,
   "metadata": {},
   "outputs": [],
   "source": [
    "# the time series used to build the test dataset must go\n",
    "# from lecture t3648 to lecture t4150 (starting counter from t0)\n",
    "# in order to extract 168 features with targets\n",
    "# (the last element in the decoder output)\n",
    "# ranging from lecture t3983 to lecture t4150\n",
    "\n",
    "test_ts_start = 3648\n",
    "test_ts_end = 4150\n",
    "\n",
    "# rolling over the time series for the test dataset:\n",
    "# remember the model was trained with data up to t3584, then no seen data is used for test stage\n",
    "# eval data is indeed used for test stage, but eval does not modify training processs in CloudTPU\n",
    "# first encoder input: t3648 to t3815\n",
    "# first decoder input: t3815 to t3982\n",
    "# first decoder output: t3816 to t3983,\n",
    "# then predictions from t3983 to t3983+23 (one-day-ahead) are built iteratively\n",
    "# and process is repeated for the following six days, to complete a week"
   ]
  },
  {
   "cell_type": "code",
   "execution_count": 66,
   "metadata": {},
   "outputs": [],
   "source": [
    "# DISCARD USE OF ABSOLUTE INDEXES TO SLICE THE TIME SERIES WITH .loc\n",
    "# USE RELATIVE INDEXES TO SLICE THE TIME SERIES WITH .iloc\n",
    "# test_ts_start_index = train_start_index + test_start_offset\n",
    "# test_end_index = train_start_index + test_end_offset"
   ]
  },
  {
   "cell_type": "code",
   "execution_count": 67,
   "metadata": {},
   "outputs": [],
   "source": [
    "# DISCARD USE OF ABSOLUTE INDEXES TO SLICE THE TIME SERIES WITH .loc\n",
    "# USE RELATIVE INDEXES TO SLICE THE TIME SERIES WITH .iloc\n",
    "# test_time_series = data_df[sldb_columns].loc[test_ts_start_index:test_end_index]\n",
    "# test_time_series"
   ]
  },
  {
   "cell_type": "code",
   "execution_count": 68,
   "metadata": {},
   "outputs": [
    {
     "data": {
      "text/html": [
       "<div>\n",
       "<style scoped>\n",
       "    .dataframe tbody tr th:only-of-type {\n",
       "        vertical-align: middle;\n",
       "    }\n",
       "\n",
       "    .dataframe tbody tr th {\n",
       "        vertical-align: top;\n",
       "    }\n",
       "\n",
       "    .dataframe thead th {\n",
       "        text-align: right;\n",
       "    }\n",
       "</style>\n",
       "<table border=\"1\" class=\"dataframe\">\n",
       "  <thead>\n",
       "    <tr style=\"text-align: right;\">\n",
       "      <th></th>\n",
       "      <th>id</th>\n",
       "      <th>occupancy_scaled</th>\n",
       "      <th>sin_hours_from_start</th>\n",
       "      <th>cos_hours_from_start</th>\n",
       "      <th>sin_hour_day</th>\n",
       "      <th>cos_hour_day</th>\n",
       "      <th>sin_day_week</th>\n",
       "      <th>cos_day_week</th>\n",
       "    </tr>\n",
       "  </thead>\n",
       "  <tbody>\n",
       "    <tr>\n",
       "      <th>3648</th>\n",
       "      <td>400000</td>\n",
       "      <td>0.010404</td>\n",
       "      <td>-6.888165e-01</td>\n",
       "      <td>0.724936</td>\n",
       "      <td>0.258819</td>\n",
       "      <td>0.965926</td>\n",
       "      <td>-0.781831</td>\n",
       "      <td>0.623490</td>\n",
       "    </tr>\n",
       "    <tr>\n",
       "      <th>3649</th>\n",
       "      <td>400000</td>\n",
       "      <td>0.009777</td>\n",
       "      <td>-6.877184e-01</td>\n",
       "      <td>0.725978</td>\n",
       "      <td>0.500000</td>\n",
       "      <td>0.866025</td>\n",
       "      <td>-0.781831</td>\n",
       "      <td>0.623490</td>\n",
       "    </tr>\n",
       "    <tr>\n",
       "      <th>3650</th>\n",
       "      <td>400000</td>\n",
       "      <td>0.015509</td>\n",
       "      <td>-6.866187e-01</td>\n",
       "      <td>0.727018</td>\n",
       "      <td>0.707107</td>\n",
       "      <td>0.707107</td>\n",
       "      <td>-0.781831</td>\n",
       "      <td>0.623490</td>\n",
       "    </tr>\n",
       "    <tr>\n",
       "      <th>3651</th>\n",
       "      <td>400000</td>\n",
       "      <td>0.035642</td>\n",
       "      <td>-6.855175e-01</td>\n",
       "      <td>0.728056</td>\n",
       "      <td>0.866025</td>\n",
       "      <td>0.500000</td>\n",
       "      <td>-0.781831</td>\n",
       "      <td>0.623490</td>\n",
       "    </tr>\n",
       "    <tr>\n",
       "      <th>3652</th>\n",
       "      <td>400000</td>\n",
       "      <td>0.122387</td>\n",
       "      <td>-6.844147e-01</td>\n",
       "      <td>0.729093</td>\n",
       "      <td>0.965926</td>\n",
       "      <td>0.258819</td>\n",
       "      <td>-0.781831</td>\n",
       "      <td>0.623490</td>\n",
       "    </tr>\n",
       "    <tr>\n",
       "      <th>...</th>\n",
       "      <td>...</td>\n",
       "      <td>...</td>\n",
       "      <td>...</td>\n",
       "      <td>...</td>\n",
       "      <td>...</td>\n",
       "      <td>...</td>\n",
       "      <td>...</td>\n",
       "      <td>...</td>\n",
       "    </tr>\n",
       "    <tr>\n",
       "      <th>4146</th>\n",
       "      <td>400000</td>\n",
       "      <td>0.091658</td>\n",
       "      <td>-6.054586e-03</td>\n",
       "      <td>0.999982</td>\n",
       "      <td>-0.965926</td>\n",
       "      <td>0.258819</td>\n",
       "      <td>-0.974928</td>\n",
       "      <td>-0.222521</td>\n",
       "    </tr>\n",
       "    <tr>\n",
       "      <th>4147</th>\n",
       "      <td>400000</td>\n",
       "      <td>0.078509</td>\n",
       "      <td>-4.540952e-03</td>\n",
       "      <td>0.999990</td>\n",
       "      <td>-0.866025</td>\n",
       "      <td>0.500000</td>\n",
       "      <td>-0.974928</td>\n",
       "      <td>-0.222521</td>\n",
       "    </tr>\n",
       "    <tr>\n",
       "      <th>4148</th>\n",
       "      <td>400000</td>\n",
       "      <td>0.061844</td>\n",
       "      <td>-3.027307e-03</td>\n",
       "      <td>0.999995</td>\n",
       "      <td>-0.707107</td>\n",
       "      <td>0.707107</td>\n",
       "      <td>-0.974928</td>\n",
       "      <td>-0.222521</td>\n",
       "    </tr>\n",
       "    <tr>\n",
       "      <th>4149</th>\n",
       "      <td>400000</td>\n",
       "      <td>0.037809</td>\n",
       "      <td>-1.513655e-03</td>\n",
       "      <td>0.999999</td>\n",
       "      <td>-0.500000</td>\n",
       "      <td>0.866025</td>\n",
       "      <td>-0.974928</td>\n",
       "      <td>-0.222521</td>\n",
       "    </tr>\n",
       "    <tr>\n",
       "      <th>4150</th>\n",
       "      <td>400000</td>\n",
       "      <td>0.022493</td>\n",
       "      <td>-2.449294e-16</td>\n",
       "      <td>1.000000</td>\n",
       "      <td>-0.258819</td>\n",
       "      <td>0.965926</td>\n",
       "      <td>-0.974928</td>\n",
       "      <td>-0.222521</td>\n",
       "    </tr>\n",
       "  </tbody>\n",
       "</table>\n",
       "<p>503 rows × 8 columns</p>\n",
       "</div>"
      ],
      "text/plain": [
       "          id  occupancy_scaled  sin_hours_from_start  cos_hours_from_start  \\\n",
       "3648  400000          0.010404         -6.888165e-01              0.724936   \n",
       "3649  400000          0.009777         -6.877184e-01              0.725978   \n",
       "3650  400000          0.015509         -6.866187e-01              0.727018   \n",
       "3651  400000          0.035642         -6.855175e-01              0.728056   \n",
       "3652  400000          0.122387         -6.844147e-01              0.729093   \n",
       "...      ...               ...                   ...                   ...   \n",
       "4146  400000          0.091658         -6.054586e-03              0.999982   \n",
       "4147  400000          0.078509         -4.540952e-03              0.999990   \n",
       "4148  400000          0.061844         -3.027307e-03              0.999995   \n",
       "4149  400000          0.037809         -1.513655e-03              0.999999   \n",
       "4150  400000          0.022493         -2.449294e-16              1.000000   \n",
       "\n",
       "      sin_hour_day  cos_hour_day  sin_day_week  cos_day_week  \n",
       "3648      0.258819      0.965926     -0.781831      0.623490  \n",
       "3649      0.500000      0.866025     -0.781831      0.623490  \n",
       "3650      0.707107      0.707107     -0.781831      0.623490  \n",
       "3651      0.866025      0.500000     -0.781831      0.623490  \n",
       "3652      0.965926      0.258819     -0.781831      0.623490  \n",
       "...            ...           ...           ...           ...  \n",
       "4146     -0.965926      0.258819     -0.974928     -0.222521  \n",
       "4147     -0.866025      0.500000     -0.974928     -0.222521  \n",
       "4148     -0.707107      0.707107     -0.974928     -0.222521  \n",
       "4149     -0.500000      0.866025     -0.974928     -0.222521  \n",
       "4150     -0.258819      0.965926     -0.974928     -0.222521  \n",
       "\n",
       "[503 rows x 8 columns]"
      ]
     },
     "execution_count": 68,
     "metadata": {},
     "output_type": "execute_result"
    }
   ],
   "source": [
    "test_time_series = data_df[sldb_columns].iloc[test_ts_start:test_ts_end + 1]\n",
    "test_time_series"
   ]
  },
  {
   "cell_type": "code",
   "execution_count": 76,
   "metadata": {},
   "outputs": [
    {
     "data": {
      "text/plain": [
       "3648"
      ]
     },
     "execution_count": 76,
     "metadata": {},
     "output_type": "execute_result"
    }
   ],
   "source": [
    "test_time_series.index[0]"
   ]
  },
  {
   "cell_type": "code",
   "execution_count": 78,
   "metadata": {},
   "outputs": [
    {
     "name": "stdout",
     "output_type": "stream",
     "text": [
      "Test interval for staion 400000: from index 3648 to index 4150 for 503 lectures\n"
     ]
    }
   ],
   "source": [
    "print('Test interval for staion {}: from index {} to index {} for {} lectures'.\\\n",
    "     format(station_id,\n",
    "            test_time_series.index[0],\n",
    "            test_time_series.index[-1],\n",
    "            test_time_series.index[-1] - test_time_series.index[0] + 1))"
   ]
  },
  {
   "cell_type": "code",
   "execution_count": 79,
   "metadata": {},
   "outputs": [
    {
     "data": {
      "text/plain": [
       "'/home/developer/gcp/cbidmltsf/sldbs/PEMS-SF_SEPARATED_FULL_BSCTRFM_168_168_07DB_MMX/test/ST_400000.pkl'"
      ]
     },
     "execution_count": 79,
     "metadata": {},
     "output_type": "execute_result"
    }
   ],
   "source": [
    "# path to persist the time series dataframe corresponding to test dataset\n",
    "path = '{}/test/ST_{}.pkl'.format(sldb_dir, station_id)\n",
    "path"
   ]
  },
  {
   "cell_type": "code",
   "execution_count": 80,
   "metadata": {},
   "outputs": [
    {
     "name": "stdout",
     "output_type": "stream",
     "text": [
      "Test dataset persisted as a time series pickle for 400000\n"
     ]
    }
   ],
   "source": [
    "test_time_series.to_pickle(path)\n",
    "print('Test dataset persisted as a time series pickle for {}'.format(station_id))"
   ]
  },
  {
   "cell_type": "code",
   "execution_count": 74,
   "metadata": {},
   "outputs": [],
   "source": [
    "# global numeralia for traffic dataset\n",
    "\n",
    "# 963 time series, one for each traffic sensor or station_id\n",
    "# 4151 lectures on each time series\n",
    "# 23 hourly lectures for the first day, 24 lectures for the following 172 days\n",
    "\n",
    "# time series for train dataset:\n",
    "# 3585 lectures\n",
    "# from t0 to t3584 (for first station, subsequent stations add an offset to starting index)\n",
    "# 3585 - (168 + 168) + 1 = 3250 sub-series/examples \n",
    "\n",
    "# time series for eval dataset:\n",
    "# 398 lectures\n",
    "# from t3585 to t3982 (for first station, subsequent stations add an offset to starting index)\n",
    "# 398 - (168 + 168) + 1 = 63 sub-series/examples\n",
    "\n",
    "# time series for test dataset:\n",
    "# 503 lectures\n",
    "# from t3648 to t4150 (for first station, subsequent stations add an offset to starting index)\n",
    "# 503 - (168 + 168) + 1 = 168 sub-series/examples\n"
   ]
  },
  {
   "cell_type": "code",
   "execution_count": 81,
   "metadata": {},
   "outputs": [],
   "source": [
    "# DISCARD USE OF ABSOLUTE INDEXES TO SLICE THE TIME SERIES WITH .loc\n",
    "# USE RELATIVE INDEXES TO SLICE THE TIME SERIES WITH .iloc\n",
    "# make SLDB training dataset\n",
    "# get an iterable with all the possible sub-series for training examples\n",
    "# train_starting_indexes = np.arange(train_start_index, train_end_index - (m + t) + 1)\n",
    "# train_starting_indexes"
   ]
  },
  {
   "cell_type": "code",
   "execution_count": 82,
   "metadata": {},
   "outputs": [
    {
     "data": {
      "text/plain": [
       "array([   0,    1,    2, ..., 3247, 3248, 3249])"
      ]
     },
     "execution_count": 82,
     "metadata": {},
     "output_type": "execute_result"
    }
   ],
   "source": [
    "# make SLDB training dataset\n",
    "# get an iterable with all the possible sub-series for training examples\n",
    "train_starting_indexes = np.arange(no_lectures_train_dataset - (m + t) + 1)\n",
    "train_starting_indexes"
   ]
  },
  {
   "cell_type": "code",
   "execution_count": 83,
   "metadata": {},
   "outputs": [
    {
     "data": {
      "text/plain": [
       "3250"
      ]
     },
     "execution_count": 83,
     "metadata": {},
     "output_type": "execute_result"
    }
   ],
   "source": [
    "len(train_starting_indexes)"
   ]
  },
  {
   "cell_type": "code",
   "execution_count": 85,
   "metadata": {},
   "outputs": [
    {
     "data": {
      "text/html": [
       "<div>\n",
       "<style scoped>\n",
       "    .dataframe tbody tr th:only-of-type {\n",
       "        vertical-align: middle;\n",
       "    }\n",
       "\n",
       "    .dataframe tbody tr th {\n",
       "        vertical-align: top;\n",
       "    }\n",
       "\n",
       "    .dataframe thead th {\n",
       "        text-align: right;\n",
       "    }\n",
       "</style>\n",
       "<table border=\"1\" class=\"dataframe\">\n",
       "  <thead>\n",
       "    <tr style=\"text-align: right;\">\n",
       "      <th></th>\n",
       "      <th>id</th>\n",
       "      <th>occupancy_scaled</th>\n",
       "      <th>sin_hours_from_start</th>\n",
       "      <th>cos_hours_from_start</th>\n",
       "      <th>sin_hour_day</th>\n",
       "      <th>cos_hour_day</th>\n",
       "      <th>sin_day_week</th>\n",
       "      <th>cos_day_week</th>\n",
       "    </tr>\n",
       "  </thead>\n",
       "  <tbody>\n",
       "    <tr>\n",
       "      <th>3249</th>\n",
       "      <td>400000</td>\n",
       "      <td>0.162557</td>\n",
       "      <td>-0.978653</td>\n",
       "      <td>0.205517</td>\n",
       "      <td>5.000000e-01</td>\n",
       "      <td>-8.660254e-01</td>\n",
       "      <td>0.974928</td>\n",
       "      <td>-0.222521</td>\n",
       "    </tr>\n",
       "    <tr>\n",
       "      <th>3250</th>\n",
       "      <td>400000</td>\n",
       "      <td>0.160534</td>\n",
       "      <td>-0.978341</td>\n",
       "      <td>0.206999</td>\n",
       "      <td>2.588190e-01</td>\n",
       "      <td>-9.659258e-01</td>\n",
       "      <td>0.974928</td>\n",
       "      <td>-0.222521</td>\n",
       "    </tr>\n",
       "    <tr>\n",
       "      <th>3251</th>\n",
       "      <td>400000</td>\n",
       "      <td>0.164772</td>\n",
       "      <td>-0.978027</td>\n",
       "      <td>0.208479</td>\n",
       "      <td>1.224647e-16</td>\n",
       "      <td>-1.000000e+00</td>\n",
       "      <td>0.974928</td>\n",
       "      <td>-0.222521</td>\n",
       "    </tr>\n",
       "    <tr>\n",
       "      <th>3252</th>\n",
       "      <td>400000</td>\n",
       "      <td>0.161401</td>\n",
       "      <td>-0.977710</td>\n",
       "      <td>0.209959</td>\n",
       "      <td>-2.588190e-01</td>\n",
       "      <td>-9.659258e-01</td>\n",
       "      <td>0.974928</td>\n",
       "      <td>-0.222521</td>\n",
       "    </tr>\n",
       "    <tr>\n",
       "      <th>3253</th>\n",
       "      <td>400000</td>\n",
       "      <td>0.163761</td>\n",
       "      <td>-0.977391</td>\n",
       "      <td>0.211439</td>\n",
       "      <td>-5.000000e-01</td>\n",
       "      <td>-8.660254e-01</td>\n",
       "      <td>0.974928</td>\n",
       "      <td>-0.222521</td>\n",
       "    </tr>\n",
       "    <tr>\n",
       "      <th>...</th>\n",
       "      <td>...</td>\n",
       "      <td>...</td>\n",
       "      <td>...</td>\n",
       "      <td>...</td>\n",
       "      <td>...</td>\n",
       "      <td>...</td>\n",
       "      <td>...</td>\n",
       "      <td>...</td>\n",
       "    </tr>\n",
       "    <tr>\n",
       "      <th>3580</th>\n",
       "      <td>400000</td>\n",
       "      <td>0.145699</td>\n",
       "      <td>-0.759656</td>\n",
       "      <td>0.650325</td>\n",
       "      <td>9.659258e-01</td>\n",
       "      <td>2.588190e-01</td>\n",
       "      <td>0.433884</td>\n",
       "      <td>-0.900969</td>\n",
       "    </tr>\n",
       "    <tr>\n",
       "      <th>3581</th>\n",
       "      <td>400000</td>\n",
       "      <td>0.346547</td>\n",
       "      <td>-0.758671</td>\n",
       "      <td>0.651474</td>\n",
       "      <td>1.000000e+00</td>\n",
       "      <td>6.123234e-17</td>\n",
       "      <td>0.433884</td>\n",
       "      <td>-0.900969</td>\n",
       "    </tr>\n",
       "    <tr>\n",
       "      <th>3582</th>\n",
       "      <td>400000</td>\n",
       "      <td>0.224256</td>\n",
       "      <td>-0.757684</td>\n",
       "      <td>0.652622</td>\n",
       "      <td>9.659258e-01</td>\n",
       "      <td>-2.588190e-01</td>\n",
       "      <td>0.433884</td>\n",
       "      <td>-0.900969</td>\n",
       "    </tr>\n",
       "    <tr>\n",
       "      <th>3583</th>\n",
       "      <td>400000</td>\n",
       "      <td>0.163375</td>\n",
       "      <td>-0.756695</td>\n",
       "      <td>0.653768</td>\n",
       "      <td>8.660254e-01</td>\n",
       "      <td>-5.000000e-01</td>\n",
       "      <td>0.433884</td>\n",
       "      <td>-0.900969</td>\n",
       "    </tr>\n",
       "    <tr>\n",
       "      <th>3584</th>\n",
       "      <td>400000</td>\n",
       "      <td>0.166121</td>\n",
       "      <td>-0.755705</td>\n",
       "      <td>0.654913</td>\n",
       "      <td>7.071068e-01</td>\n",
       "      <td>-7.071068e-01</td>\n",
       "      <td>0.433884</td>\n",
       "      <td>-0.900969</td>\n",
       "    </tr>\n",
       "  </tbody>\n",
       "</table>\n",
       "<p>336 rows × 8 columns</p>\n",
       "</div>"
      ],
      "text/plain": [
       "          id  occupancy_scaled  sin_hours_from_start  cos_hours_from_start  \\\n",
       "3249  400000          0.162557             -0.978653              0.205517   \n",
       "3250  400000          0.160534             -0.978341              0.206999   \n",
       "3251  400000          0.164772             -0.978027              0.208479   \n",
       "3252  400000          0.161401             -0.977710              0.209959   \n",
       "3253  400000          0.163761             -0.977391              0.211439   \n",
       "...      ...               ...                   ...                   ...   \n",
       "3580  400000          0.145699             -0.759656              0.650325   \n",
       "3581  400000          0.346547             -0.758671              0.651474   \n",
       "3582  400000          0.224256             -0.757684              0.652622   \n",
       "3583  400000          0.163375             -0.756695              0.653768   \n",
       "3584  400000          0.166121             -0.755705              0.654913   \n",
       "\n",
       "      sin_hour_day  cos_hour_day  sin_day_week  cos_day_week  \n",
       "3249  5.000000e-01 -8.660254e-01      0.974928     -0.222521  \n",
       "3250  2.588190e-01 -9.659258e-01      0.974928     -0.222521  \n",
       "3251  1.224647e-16 -1.000000e+00      0.974928     -0.222521  \n",
       "3252 -2.588190e-01 -9.659258e-01      0.974928     -0.222521  \n",
       "3253 -5.000000e-01 -8.660254e-01      0.974928     -0.222521  \n",
       "...            ...           ...           ...           ...  \n",
       "3580  9.659258e-01  2.588190e-01      0.433884     -0.900969  \n",
       "3581  1.000000e+00  6.123234e-17      0.433884     -0.900969  \n",
       "3582  9.659258e-01 -2.588190e-01      0.433884     -0.900969  \n",
       "3583  8.660254e-01 -5.000000e-01      0.433884     -0.900969  \n",
       "3584  7.071068e-01 -7.071068e-01      0.433884     -0.900969  \n",
       "\n",
       "[336 rows x 8 columns]"
      ]
     },
     "execution_count": 85,
     "metadata": {},
     "output_type": "execute_result"
    }
   ],
   "source": [
    "# verify sub-series generation for the last starting index\n",
    "for train_starting_index in train_starting_indexes[-1:]:\n",
    "\n",
    "    # do not substract 1 at the end of the slice because using iloc\n",
    "    sub_series_df = data_df[sldb_columns].iloc[train_starting_index:train_starting_index + (m + t)]\n",
    "    \n",
    "sub_series_df"
   ]
  },
  {
   "cell_type": "code",
   "execution_count": 86,
   "metadata": {},
   "outputs": [
    {
     "data": {
      "text/html": [
       "<div>\n",
       "<style scoped>\n",
       "    .dataframe tbody tr th:only-of-type {\n",
       "        vertical-align: middle;\n",
       "    }\n",
       "\n",
       "    .dataframe tbody tr th {\n",
       "        vertical-align: top;\n",
       "    }\n",
       "\n",
       "    .dataframe thead th {\n",
       "        text-align: right;\n",
       "    }\n",
       "</style>\n",
       "<table border=\"1\" class=\"dataframe\">\n",
       "  <thead>\n",
       "    <tr style=\"text-align: right;\">\n",
       "      <th></th>\n",
       "      <th>occupancy_scaled</th>\n",
       "      <th>sin_hours_from_start</th>\n",
       "      <th>cos_hours_from_start</th>\n",
       "      <th>sin_hour_day</th>\n",
       "      <th>cos_hour_day</th>\n",
       "      <th>sin_day_week</th>\n",
       "      <th>cos_day_week</th>\n",
       "    </tr>\n",
       "  </thead>\n",
       "  <tbody>\n",
       "    <tr>\n",
       "      <th>3249</th>\n",
       "      <td>0.162557</td>\n",
       "      <td>-0.978653</td>\n",
       "      <td>0.205517</td>\n",
       "      <td>5.000000e-01</td>\n",
       "      <td>-8.660254e-01</td>\n",
       "      <td>0.974928</td>\n",
       "      <td>-0.222521</td>\n",
       "    </tr>\n",
       "    <tr>\n",
       "      <th>3250</th>\n",
       "      <td>0.160534</td>\n",
       "      <td>-0.978341</td>\n",
       "      <td>0.206999</td>\n",
       "      <td>2.588190e-01</td>\n",
       "      <td>-9.659258e-01</td>\n",
       "      <td>0.974928</td>\n",
       "      <td>-0.222521</td>\n",
       "    </tr>\n",
       "    <tr>\n",
       "      <th>3251</th>\n",
       "      <td>0.164772</td>\n",
       "      <td>-0.978027</td>\n",
       "      <td>0.208479</td>\n",
       "      <td>1.224647e-16</td>\n",
       "      <td>-1.000000e+00</td>\n",
       "      <td>0.974928</td>\n",
       "      <td>-0.222521</td>\n",
       "    </tr>\n",
       "    <tr>\n",
       "      <th>3252</th>\n",
       "      <td>0.161401</td>\n",
       "      <td>-0.977710</td>\n",
       "      <td>0.209959</td>\n",
       "      <td>-2.588190e-01</td>\n",
       "      <td>-9.659258e-01</td>\n",
       "      <td>0.974928</td>\n",
       "      <td>-0.222521</td>\n",
       "    </tr>\n",
       "    <tr>\n",
       "      <th>3253</th>\n",
       "      <td>0.163761</td>\n",
       "      <td>-0.977391</td>\n",
       "      <td>0.211439</td>\n",
       "      <td>-5.000000e-01</td>\n",
       "      <td>-8.660254e-01</td>\n",
       "      <td>0.974928</td>\n",
       "      <td>-0.222521</td>\n",
       "    </tr>\n",
       "    <tr>\n",
       "      <th>...</th>\n",
       "      <td>...</td>\n",
       "      <td>...</td>\n",
       "      <td>...</td>\n",
       "      <td>...</td>\n",
       "      <td>...</td>\n",
       "      <td>...</td>\n",
       "      <td>...</td>\n",
       "    </tr>\n",
       "    <tr>\n",
       "      <th>3412</th>\n",
       "      <td>0.142857</td>\n",
       "      <td>-0.898824</td>\n",
       "      <td>0.438311</td>\n",
       "      <td>9.659258e-01</td>\n",
       "      <td>2.588190e-01</td>\n",
       "      <td>0.433884</td>\n",
       "      <td>-0.900969</td>\n",
       "    </tr>\n",
       "    <tr>\n",
       "      <th>3413</th>\n",
       "      <td>0.376842</td>\n",
       "      <td>-0.898159</td>\n",
       "      <td>0.439671</td>\n",
       "      <td>1.000000e+00</td>\n",
       "      <td>6.123234e-17</td>\n",
       "      <td>0.433884</td>\n",
       "      <td>-0.900969</td>\n",
       "    </tr>\n",
       "    <tr>\n",
       "      <th>3414</th>\n",
       "      <td>0.736538</td>\n",
       "      <td>-0.897493</td>\n",
       "      <td>0.441030</td>\n",
       "      <td>9.659258e-01</td>\n",
       "      <td>-2.588190e-01</td>\n",
       "      <td>0.433884</td>\n",
       "      <td>-0.900969</td>\n",
       "    </tr>\n",
       "    <tr>\n",
       "      <th>3415</th>\n",
       "      <td>0.655380</td>\n",
       "      <td>-0.896824</td>\n",
       "      <td>0.442388</td>\n",
       "      <td>8.660254e-01</td>\n",
       "      <td>-5.000000e-01</td>\n",
       "      <td>0.433884</td>\n",
       "      <td>-0.900969</td>\n",
       "    </tr>\n",
       "    <tr>\n",
       "      <th>3416</th>\n",
       "      <td>0.252529</td>\n",
       "      <td>-0.896153</td>\n",
       "      <td>0.443745</td>\n",
       "      <td>7.071068e-01</td>\n",
       "      <td>-7.071068e-01</td>\n",
       "      <td>0.433884</td>\n",
       "      <td>-0.900969</td>\n",
       "    </tr>\n",
       "  </tbody>\n",
       "</table>\n",
       "<p>168 rows × 7 columns</p>\n",
       "</div>"
      ],
      "text/plain": [
       "      occupancy_scaled  sin_hours_from_start  cos_hours_from_start  \\\n",
       "3249          0.162557             -0.978653              0.205517   \n",
       "3250          0.160534             -0.978341              0.206999   \n",
       "3251          0.164772             -0.978027              0.208479   \n",
       "3252          0.161401             -0.977710              0.209959   \n",
       "3253          0.163761             -0.977391              0.211439   \n",
       "...                ...                   ...                   ...   \n",
       "3412          0.142857             -0.898824              0.438311   \n",
       "3413          0.376842             -0.898159              0.439671   \n",
       "3414          0.736538             -0.897493              0.441030   \n",
       "3415          0.655380             -0.896824              0.442388   \n",
       "3416          0.252529             -0.896153              0.443745   \n",
       "\n",
       "      sin_hour_day  cos_hour_day  sin_day_week  cos_day_week  \n",
       "3249  5.000000e-01 -8.660254e-01      0.974928     -0.222521  \n",
       "3250  2.588190e-01 -9.659258e-01      0.974928     -0.222521  \n",
       "3251  1.224647e-16 -1.000000e+00      0.974928     -0.222521  \n",
       "3252 -2.588190e-01 -9.659258e-01      0.974928     -0.222521  \n",
       "3253 -5.000000e-01 -8.660254e-01      0.974928     -0.222521  \n",
       "...            ...           ...           ...           ...  \n",
       "3412  9.659258e-01  2.588190e-01      0.433884     -0.900969  \n",
       "3413  1.000000e+00  6.123234e-17      0.433884     -0.900969  \n",
       "3414  9.659258e-01 -2.588190e-01      0.433884     -0.900969  \n",
       "3415  8.660254e-01 -5.000000e-01      0.433884     -0.900969  \n",
       "3416  7.071068e-01 -7.071068e-01      0.433884     -0.900969  \n",
       "\n",
       "[168 rows x 7 columns]"
      ]
     },
     "execution_count": 86,
     "metadata": {},
     "output_type": "execute_result"
    }
   ],
   "source": [
    "encoder_input_df = sub_series_df[encoder_input_columns][:m]\n",
    "encoder_input_df"
   ]
  },
  {
   "cell_type": "code",
   "execution_count": 87,
   "metadata": {},
   "outputs": [
    {
     "data": {
      "text/html": [
       "<div>\n",
       "<style scoped>\n",
       "    .dataframe tbody tr th:only-of-type {\n",
       "        vertical-align: middle;\n",
       "    }\n",
       "\n",
       "    .dataframe tbody tr th {\n",
       "        vertical-align: top;\n",
       "    }\n",
       "\n",
       "    .dataframe thead th {\n",
       "        text-align: right;\n",
       "    }\n",
       "</style>\n",
       "<table border=\"1\" class=\"dataframe\">\n",
       "  <thead>\n",
       "    <tr style=\"text-align: right;\">\n",
       "      <th></th>\n",
       "      <th>occupancy_scaled</th>\n",
       "      <th>sin_hours_from_start</th>\n",
       "      <th>cos_hours_from_start</th>\n",
       "      <th>sin_hour_day</th>\n",
       "      <th>cos_hour_day</th>\n",
       "      <th>sin_day_week</th>\n",
       "      <th>cos_day_week</th>\n",
       "    </tr>\n",
       "  </thead>\n",
       "  <tbody>\n",
       "    <tr>\n",
       "      <th>3416</th>\n",
       "      <td>0.252529</td>\n",
       "      <td>-0.896153</td>\n",
       "      <td>0.443745</td>\n",
       "      <td>7.071068e-01</td>\n",
       "      <td>-7.071068e-01</td>\n",
       "      <td>0.433884</td>\n",
       "      <td>-0.900969</td>\n",
       "    </tr>\n",
       "    <tr>\n",
       "      <th>3417</th>\n",
       "      <td>0.158848</td>\n",
       "      <td>-0.895481</td>\n",
       "      <td>0.445101</td>\n",
       "      <td>5.000000e-01</td>\n",
       "      <td>-8.660254e-01</td>\n",
       "      <td>0.433884</td>\n",
       "      <td>-0.900969</td>\n",
       "    </tr>\n",
       "    <tr>\n",
       "      <th>3418</th>\n",
       "      <td>0.166121</td>\n",
       "      <td>-0.894806</td>\n",
       "      <td>0.446456</td>\n",
       "      <td>2.588190e-01</td>\n",
       "      <td>-9.659258e-01</td>\n",
       "      <td>0.433884</td>\n",
       "      <td>-0.900969</td>\n",
       "    </tr>\n",
       "    <tr>\n",
       "      <th>3419</th>\n",
       "      <td>0.164002</td>\n",
       "      <td>-0.894129</td>\n",
       "      <td>0.447809</td>\n",
       "      <td>1.224647e-16</td>\n",
       "      <td>-1.000000e+00</td>\n",
       "      <td>0.433884</td>\n",
       "      <td>-0.900969</td>\n",
       "    </tr>\n",
       "    <tr>\n",
       "      <th>3420</th>\n",
       "      <td>0.160052</td>\n",
       "      <td>-0.893450</td>\n",
       "      <td>0.449162</td>\n",
       "      <td>-2.588190e-01</td>\n",
       "      <td>-9.659258e-01</td>\n",
       "      <td>0.433884</td>\n",
       "      <td>-0.900969</td>\n",
       "    </tr>\n",
       "    <tr>\n",
       "      <th>...</th>\n",
       "      <td>...</td>\n",
       "      <td>...</td>\n",
       "      <td>...</td>\n",
       "      <td>...</td>\n",
       "      <td>...</td>\n",
       "      <td>...</td>\n",
       "      <td>...</td>\n",
       "    </tr>\n",
       "    <tr>\n",
       "      <th>3579</th>\n",
       "      <td>0.037328</td>\n",
       "      <td>-0.760639</td>\n",
       "      <td>0.649175</td>\n",
       "      <td>8.660254e-01</td>\n",
       "      <td>5.000000e-01</td>\n",
       "      <td>0.433884</td>\n",
       "      <td>-0.900969</td>\n",
       "    </tr>\n",
       "    <tr>\n",
       "      <th>3580</th>\n",
       "      <td>0.145699</td>\n",
       "      <td>-0.759656</td>\n",
       "      <td>0.650325</td>\n",
       "      <td>9.659258e-01</td>\n",
       "      <td>2.588190e-01</td>\n",
       "      <td>0.433884</td>\n",
       "      <td>-0.900969</td>\n",
       "    </tr>\n",
       "    <tr>\n",
       "      <th>3581</th>\n",
       "      <td>0.346547</td>\n",
       "      <td>-0.758671</td>\n",
       "      <td>0.651474</td>\n",
       "      <td>1.000000e+00</td>\n",
       "      <td>6.123234e-17</td>\n",
       "      <td>0.433884</td>\n",
       "      <td>-0.900969</td>\n",
       "    </tr>\n",
       "    <tr>\n",
       "      <th>3582</th>\n",
       "      <td>0.224256</td>\n",
       "      <td>-0.757684</td>\n",
       "      <td>0.652622</td>\n",
       "      <td>9.659258e-01</td>\n",
       "      <td>-2.588190e-01</td>\n",
       "      <td>0.433884</td>\n",
       "      <td>-0.900969</td>\n",
       "    </tr>\n",
       "    <tr>\n",
       "      <th>3583</th>\n",
       "      <td>0.163375</td>\n",
       "      <td>-0.756695</td>\n",
       "      <td>0.653768</td>\n",
       "      <td>8.660254e-01</td>\n",
       "      <td>-5.000000e-01</td>\n",
       "      <td>0.433884</td>\n",
       "      <td>-0.900969</td>\n",
       "    </tr>\n",
       "  </tbody>\n",
       "</table>\n",
       "<p>168 rows × 7 columns</p>\n",
       "</div>"
      ],
      "text/plain": [
       "      occupancy_scaled  sin_hours_from_start  cos_hours_from_start  \\\n",
       "3416          0.252529             -0.896153              0.443745   \n",
       "3417          0.158848             -0.895481              0.445101   \n",
       "3418          0.166121             -0.894806              0.446456   \n",
       "3419          0.164002             -0.894129              0.447809   \n",
       "3420          0.160052             -0.893450              0.449162   \n",
       "...                ...                   ...                   ...   \n",
       "3579          0.037328             -0.760639              0.649175   \n",
       "3580          0.145699             -0.759656              0.650325   \n",
       "3581          0.346547             -0.758671              0.651474   \n",
       "3582          0.224256             -0.757684              0.652622   \n",
       "3583          0.163375             -0.756695              0.653768   \n",
       "\n",
       "      sin_hour_day  cos_hour_day  sin_day_week  cos_day_week  \n",
       "3416  7.071068e-01 -7.071068e-01      0.433884     -0.900969  \n",
       "3417  5.000000e-01 -8.660254e-01      0.433884     -0.900969  \n",
       "3418  2.588190e-01 -9.659258e-01      0.433884     -0.900969  \n",
       "3419  1.224647e-16 -1.000000e+00      0.433884     -0.900969  \n",
       "3420 -2.588190e-01 -9.659258e-01      0.433884     -0.900969  \n",
       "...            ...           ...           ...           ...  \n",
       "3579  8.660254e-01  5.000000e-01      0.433884     -0.900969  \n",
       "3580  9.659258e-01  2.588190e-01      0.433884     -0.900969  \n",
       "3581  1.000000e+00  6.123234e-17      0.433884     -0.900969  \n",
       "3582  9.659258e-01 -2.588190e-01      0.433884     -0.900969  \n",
       "3583  8.660254e-01 -5.000000e-01      0.433884     -0.900969  \n",
       "\n",
       "[168 rows x 7 columns]"
      ]
     },
     "execution_count": 87,
     "metadata": {},
     "output_type": "execute_result"
    }
   ],
   "source": [
    "decoder_input_df = sub_series_df[decoder_input_columns][m-1:m-1+t]\n",
    "decoder_input_df"
   ]
  },
  {
   "cell_type": "code",
   "execution_count": 88,
   "metadata": {},
   "outputs": [
    {
     "data": {
      "text/html": [
       "<div>\n",
       "<style scoped>\n",
       "    .dataframe tbody tr th:only-of-type {\n",
       "        vertical-align: middle;\n",
       "    }\n",
       "\n",
       "    .dataframe tbody tr th {\n",
       "        vertical-align: top;\n",
       "    }\n",
       "\n",
       "    .dataframe thead th {\n",
       "        text-align: right;\n",
       "    }\n",
       "</style>\n",
       "<table border=\"1\" class=\"dataframe\">\n",
       "  <thead>\n",
       "    <tr style=\"text-align: right;\">\n",
       "      <th></th>\n",
       "      <th>occupancy_scaled</th>\n",
       "    </tr>\n",
       "  </thead>\n",
       "  <tbody>\n",
       "    <tr>\n",
       "      <th>3417</th>\n",
       "      <td>0.158848</td>\n",
       "    </tr>\n",
       "    <tr>\n",
       "      <th>3418</th>\n",
       "      <td>0.166121</td>\n",
       "    </tr>\n",
       "    <tr>\n",
       "      <th>3419</th>\n",
       "      <td>0.164002</td>\n",
       "    </tr>\n",
       "    <tr>\n",
       "      <th>3420</th>\n",
       "      <td>0.160052</td>\n",
       "    </tr>\n",
       "    <tr>\n",
       "      <th>3421</th>\n",
       "      <td>0.133658</td>\n",
       "    </tr>\n",
       "    <tr>\n",
       "      <th>...</th>\n",
       "      <td>...</td>\n",
       "    </tr>\n",
       "    <tr>\n",
       "      <th>3580</th>\n",
       "      <td>0.145699</td>\n",
       "    </tr>\n",
       "    <tr>\n",
       "      <th>3581</th>\n",
       "      <td>0.346547</td>\n",
       "    </tr>\n",
       "    <tr>\n",
       "      <th>3582</th>\n",
       "      <td>0.224256</td>\n",
       "    </tr>\n",
       "    <tr>\n",
       "      <th>3583</th>\n",
       "      <td>0.163375</td>\n",
       "    </tr>\n",
       "    <tr>\n",
       "      <th>3584</th>\n",
       "      <td>0.166121</td>\n",
       "    </tr>\n",
       "  </tbody>\n",
       "</table>\n",
       "<p>168 rows × 1 columns</p>\n",
       "</div>"
      ],
      "text/plain": [
       "      occupancy_scaled\n",
       "3417          0.158848\n",
       "3418          0.166121\n",
       "3419          0.164002\n",
       "3420          0.160052\n",
       "3421          0.133658\n",
       "...                ...\n",
       "3580          0.145699\n",
       "3581          0.346547\n",
       "3582          0.224256\n",
       "3583          0.163375\n",
       "3584          0.166121\n",
       "\n",
       "[168 rows x 1 columns]"
      ]
     },
     "execution_count": 88,
     "metadata": {},
     "output_type": "execute_result"
    }
   ],
   "source": [
    "target_df = sub_series_df[target_columns][m:m+t]\n",
    "target_df"
   ]
  },
  {
   "cell_type": "code",
   "execution_count": 89,
   "metadata": {},
   "outputs": [
    {
     "data": {
      "text/html": [
       "<div>\n",
       "<style scoped>\n",
       "    .dataframe tbody tr th:only-of-type {\n",
       "        vertical-align: middle;\n",
       "    }\n",
       "\n",
       "    .dataframe tbody tr th {\n",
       "        vertical-align: top;\n",
       "    }\n",
       "\n",
       "    .dataframe thead th {\n",
       "        text-align: right;\n",
       "    }\n",
       "</style>\n",
       "<table border=\"1\" class=\"dataframe\">\n",
       "  <thead>\n",
       "    <tr style=\"text-align: right;\">\n",
       "      <th></th>\n",
       "      <th>id</th>\n",
       "    </tr>\n",
       "  </thead>\n",
       "  <tbody>\n",
       "    <tr>\n",
       "      <th>3249</th>\n",
       "      <td>400000</td>\n",
       "    </tr>\n",
       "  </tbody>\n",
       "</table>\n",
       "</div>"
      ],
      "text/plain": [
       "          id\n",
       "3249  400000"
      ]
     },
     "execution_count": 89,
     "metadata": {},
     "output_type": "execute_result"
    }
   ],
   "source": [
    "id_df = sub_series_df[id_columns][:1]\n",
    "id_df"
   ]
  },
  {
   "cell_type": "code",
   "execution_count": null,
   "metadata": {},
   "outputs": [],
   "source": []
  },
  {
   "cell_type": "code",
   "execution_count": 90,
   "metadata": {},
   "outputs": [],
   "source": [
    "# DISCARD USE OF ABSOLUTE INDEXES TO SLICE THE TIME SERIES WITH .loc\n",
    "# USE RELATIVE INDEXES TO SLICE THE TIME SERIES WITH .iloc\n",
    "# make SLDB evaluation dataset\n",
    "# get an iterable with all the possible sub-series for evaluation examples\n",
    "# eval_starting_indexes = np.arange(eval_start_index, eval_end_index - (m + t) + 2)\n",
    "# eval_starting_indexes"
   ]
  },
  {
   "cell_type": "code",
   "execution_count": 91,
   "metadata": {},
   "outputs": [
    {
     "data": {
      "text/plain": [
       "array([3585, 3586, 3587, 3588, 3589, 3590, 3591, 3592, 3593, 3594, 3595,\n",
       "       3596, 3597, 3598, 3599, 3600, 3601, 3602, 3603, 3604, 3605, 3606,\n",
       "       3607, 3608, 3609, 3610, 3611, 3612, 3613, 3614, 3615, 3616, 3617,\n",
       "       3618, 3619, 3620, 3621, 3622, 3623, 3624, 3625, 3626, 3627, 3628,\n",
       "       3629, 3630, 3631, 3632, 3633, 3634, 3635, 3636, 3637, 3638, 3639,\n",
       "       3640, 3641, 3642, 3643, 3644, 3645, 3646, 3647])"
      ]
     },
     "execution_count": 91,
     "metadata": {},
     "output_type": "execute_result"
    }
   ],
   "source": [
    "# make SLDB evaluation dataset\n",
    "# get an iterable with all the possible sub-series for evaluation examples\n",
    "eval_starting_indexes = np.arange(no_lectures_train_dataset,\n",
    "                                  no_lectures_train_dataset + no_lectures_eval_dataset - (m + t) + 1)\n",
    "                                  \n",
    "eval_starting_indexes"
   ]
  },
  {
   "cell_type": "code",
   "execution_count": 92,
   "metadata": {},
   "outputs": [
    {
     "data": {
      "text/plain": [
       "63"
      ]
     },
     "execution_count": 92,
     "metadata": {},
     "output_type": "execute_result"
    }
   ],
   "source": [
    "len(eval_starting_indexes)"
   ]
  },
  {
   "cell_type": "code",
   "execution_count": 93,
   "metadata": {},
   "outputs": [
    {
     "data": {
      "text/html": [
       "<div>\n",
       "<style scoped>\n",
       "    .dataframe tbody tr th:only-of-type {\n",
       "        vertical-align: middle;\n",
       "    }\n",
       "\n",
       "    .dataframe tbody tr th {\n",
       "        vertical-align: top;\n",
       "    }\n",
       "\n",
       "    .dataframe thead th {\n",
       "        text-align: right;\n",
       "    }\n",
       "</style>\n",
       "<table border=\"1\" class=\"dataframe\">\n",
       "  <thead>\n",
       "    <tr style=\"text-align: right;\">\n",
       "      <th></th>\n",
       "      <th>id</th>\n",
       "      <th>occupancy_scaled</th>\n",
       "      <th>sin_hours_from_start</th>\n",
       "      <th>cos_hours_from_start</th>\n",
       "      <th>sin_hour_day</th>\n",
       "      <th>cos_hour_day</th>\n",
       "      <th>sin_day_week</th>\n",
       "      <th>cos_day_week</th>\n",
       "    </tr>\n",
       "  </thead>\n",
       "  <tbody>\n",
       "    <tr>\n",
       "      <th>3647</th>\n",
       "      <td>400000</td>\n",
       "      <td>0.011078</td>\n",
       "      <td>-0.689913</td>\n",
       "      <td>0.723892</td>\n",
       "      <td>0.000000</td>\n",
       "      <td>1.000000</td>\n",
       "      <td>-0.781831</td>\n",
       "      <td>0.623490</td>\n",
       "    </tr>\n",
       "    <tr>\n",
       "      <th>3648</th>\n",
       "      <td>400000</td>\n",
       "      <td>0.010404</td>\n",
       "      <td>-0.688816</td>\n",
       "      <td>0.724936</td>\n",
       "      <td>0.258819</td>\n",
       "      <td>0.965926</td>\n",
       "      <td>-0.781831</td>\n",
       "      <td>0.623490</td>\n",
       "    </tr>\n",
       "    <tr>\n",
       "      <th>3649</th>\n",
       "      <td>400000</td>\n",
       "      <td>0.009777</td>\n",
       "      <td>-0.687718</td>\n",
       "      <td>0.725978</td>\n",
       "      <td>0.500000</td>\n",
       "      <td>0.866025</td>\n",
       "      <td>-0.781831</td>\n",
       "      <td>0.623490</td>\n",
       "    </tr>\n",
       "    <tr>\n",
       "      <th>3650</th>\n",
       "      <td>400000</td>\n",
       "      <td>0.015509</td>\n",
       "      <td>-0.686619</td>\n",
       "      <td>0.727018</td>\n",
       "      <td>0.707107</td>\n",
       "      <td>0.707107</td>\n",
       "      <td>-0.781831</td>\n",
       "      <td>0.623490</td>\n",
       "    </tr>\n",
       "    <tr>\n",
       "      <th>3651</th>\n",
       "      <td>400000</td>\n",
       "      <td>0.035642</td>\n",
       "      <td>-0.685517</td>\n",
       "      <td>0.728056</td>\n",
       "      <td>0.866025</td>\n",
       "      <td>0.500000</td>\n",
       "      <td>-0.781831</td>\n",
       "      <td>0.623490</td>\n",
       "    </tr>\n",
       "    <tr>\n",
       "      <th>...</th>\n",
       "      <td>...</td>\n",
       "      <td>...</td>\n",
       "      <td>...</td>\n",
       "      <td>...</td>\n",
       "      <td>...</td>\n",
       "      <td>...</td>\n",
       "      <td>...</td>\n",
       "      <td>...</td>\n",
       "    </tr>\n",
       "    <tr>\n",
       "      <th>3978</th>\n",
       "      <td>400000</td>\n",
       "      <td>0.094403</td>\n",
       "      <td>-0.257418</td>\n",
       "      <td>0.966300</td>\n",
       "      <td>-0.965926</td>\n",
       "      <td>0.258819</td>\n",
       "      <td>-0.974928</td>\n",
       "      <td>-0.222521</td>\n",
       "    </tr>\n",
       "    <tr>\n",
       "      <th>3979</th>\n",
       "      <td>400000</td>\n",
       "      <td>0.083662</td>\n",
       "      <td>-0.255955</td>\n",
       "      <td>0.966689</td>\n",
       "      <td>-0.866025</td>\n",
       "      <td>0.500000</td>\n",
       "      <td>-0.974928</td>\n",
       "      <td>-0.222521</td>\n",
       "    </tr>\n",
       "    <tr>\n",
       "      <th>3980</th>\n",
       "      <td>400000</td>\n",
       "      <td>0.064348</td>\n",
       "      <td>-0.254491</td>\n",
       "      <td>0.967075</td>\n",
       "      <td>-0.707107</td>\n",
       "      <td>0.707107</td>\n",
       "      <td>-0.974928</td>\n",
       "      <td>-0.222521</td>\n",
       "    </tr>\n",
       "    <tr>\n",
       "      <th>3981</th>\n",
       "      <td>400000</td>\n",
       "      <td>0.045323</td>\n",
       "      <td>-0.253027</td>\n",
       "      <td>0.967459</td>\n",
       "      <td>-0.500000</td>\n",
       "      <td>0.866025</td>\n",
       "      <td>-0.974928</td>\n",
       "      <td>-0.222521</td>\n",
       "    </tr>\n",
       "    <tr>\n",
       "      <th>3982</th>\n",
       "      <td>400000</td>\n",
       "      <td>0.020807</td>\n",
       "      <td>-0.251562</td>\n",
       "      <td>0.967841</td>\n",
       "      <td>-0.258819</td>\n",
       "      <td>0.965926</td>\n",
       "      <td>-0.974928</td>\n",
       "      <td>-0.222521</td>\n",
       "    </tr>\n",
       "  </tbody>\n",
       "</table>\n",
       "<p>336 rows × 8 columns</p>\n",
       "</div>"
      ],
      "text/plain": [
       "          id  occupancy_scaled  sin_hours_from_start  cos_hours_from_start  \\\n",
       "3647  400000          0.011078             -0.689913              0.723892   \n",
       "3648  400000          0.010404             -0.688816              0.724936   \n",
       "3649  400000          0.009777             -0.687718              0.725978   \n",
       "3650  400000          0.015509             -0.686619              0.727018   \n",
       "3651  400000          0.035642             -0.685517              0.728056   \n",
       "...      ...               ...                   ...                   ...   \n",
       "3978  400000          0.094403             -0.257418              0.966300   \n",
       "3979  400000          0.083662             -0.255955              0.966689   \n",
       "3980  400000          0.064348             -0.254491              0.967075   \n",
       "3981  400000          0.045323             -0.253027              0.967459   \n",
       "3982  400000          0.020807             -0.251562              0.967841   \n",
       "\n",
       "      sin_hour_day  cos_hour_day  sin_day_week  cos_day_week  \n",
       "3647      0.000000      1.000000     -0.781831      0.623490  \n",
       "3648      0.258819      0.965926     -0.781831      0.623490  \n",
       "3649      0.500000      0.866025     -0.781831      0.623490  \n",
       "3650      0.707107      0.707107     -0.781831      0.623490  \n",
       "3651      0.866025      0.500000     -0.781831      0.623490  \n",
       "...            ...           ...           ...           ...  \n",
       "3978     -0.965926      0.258819     -0.974928     -0.222521  \n",
       "3979     -0.866025      0.500000     -0.974928     -0.222521  \n",
       "3980     -0.707107      0.707107     -0.974928     -0.222521  \n",
       "3981     -0.500000      0.866025     -0.974928     -0.222521  \n",
       "3982     -0.258819      0.965926     -0.974928     -0.222521  \n",
       "\n",
       "[336 rows x 8 columns]"
      ]
     },
     "execution_count": 93,
     "metadata": {},
     "output_type": "execute_result"
    }
   ],
   "source": [
    "# verify sub-series generation for the last starting index\n",
    "for eval_starting_index in eval_starting_indexes[-1:]:\n",
    "\n",
    "    # do not substract 1 at the end of the slice because using iloc\n",
    "    sub_series_df = data_df[sldb_columns].iloc[eval_starting_index:eval_starting_index + (m + t)]\n",
    "    \n",
    "sub_series_df"
   ]
  },
  {
   "cell_type": "code",
   "execution_count": null,
   "metadata": {},
   "outputs": [],
   "source": []
  },
  {
   "cell_type": "code",
   "execution_count": 94,
   "metadata": {},
   "outputs": [],
   "source": [
    "# NOW ASSEMBLE THE TESTED, SEPARATED CODE CELLS INTO AN ITERATIVE CYCLE,\n",
    "# USE NEXT VERSION OF JUPYTER NOTEBOOK"
   ]
  },
  {
   "cell_type": "code",
   "execution_count": null,
   "metadata": {},
   "outputs": [],
   "source": []
  }
 ],
 "metadata": {
  "kernelspec": {
   "display_name": "Python 3",
   "language": "python",
   "name": "python3"
  },
  "language_info": {
   "codemirror_mode": {
    "name": "ipython",
    "version": 3
   },
   "file_extension": ".py",
   "mimetype": "text/x-python",
   "name": "python",
   "nbconvert_exporter": "python",
   "pygments_lexer": "ipython3",
   "version": "3.7.6"
  }
 },
 "nbformat": 4,
 "nbformat_minor": 4
}

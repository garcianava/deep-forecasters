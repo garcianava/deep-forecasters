{
 "cells": [
  {
   "cell_type": "code",
   "execution_count": 3,
   "metadata": {},
   "outputs": [],
   "source": [
    "# once tested in local environmnent, this notebook will have to be passed to GCP!!!"
   ]
  },
  {
   "cell_type": "code",
   "execution_count": 33,
   "metadata": {},
   "outputs": [],
   "source": [
    "import json"
   ]
  },
  {
   "cell_type": "code",
   "execution_count": 79,
   "metadata": {},
   "outputs": [],
   "source": [
    "# command line arguments for training script\n",
    "CONFIG_FILE = 'DMSLSTM_TPU_005.json'"
   ]
  },
  {
   "cell_type": "code",
   "execution_count": 81,
   "metadata": {},
   "outputs": [],
   "source": [
    "parameters = {\n",
    "    'experiment_id': CONFIG_FILE.replace('.json', ''),\n",
    "    'sldb': {},\n",
    "    'architecture': {},\n",
    "    'training': {}\n",
    "}"
   ]
  },
  {
   "cell_type": "code",
   "execution_count": 82,
   "metadata": {},
   "outputs": [
    {
     "data": {
      "text/plain": [
       "'DMSLSTM_TPU_005'"
      ]
     },
     "execution_count": 82,
     "metadata": {},
     "output_type": "execute_result"
    }
   ],
   "source": [
    "parameters['experiment_id']"
   ]
  },
  {
   "cell_type": "code",
   "execution_count": 83,
   "metadata": {},
   "outputs": [],
   "source": [
    "with open('../parameters/{}'.format(CONFIG_FILE), 'r') as input_file:\n",
    "    configuration = json.load(input_file)"
   ]
  },
  {
   "cell_type": "code",
   "execution_count": 84,
   "metadata": {},
   "outputs": [],
   "source": [
    "# get data_dir from configuration file\n",
    "with open('../sldbs/{}/sldb.json'.format(configuration['data_dir']), 'r') as input_file:\n",
    "    sldb_parameters = json.load(input_file)"
   ]
  },
  {
   "cell_type": "code",
   "execution_count": 85,
   "metadata": {},
   "outputs": [],
   "source": [
    "parameters['sldb']['embedding'] = sldb_parameters['embedding']"
   ]
  },
  {
   "cell_type": "code",
   "execution_count": 86,
   "metadata": {},
   "outputs": [],
   "source": [
    "parameters['sldb']['tau'] = sldb_parameters['tau']"
   ]
  },
  {
   "cell_type": "code",
   "execution_count": 87,
   "metadata": {},
   "outputs": [],
   "source": [
    "parameters['sldb']['no_targets'] = sldb_parameters['no_targets']"
   ]
  },
  {
   "cell_type": "code",
   "execution_count": 88,
   "metadata": {},
   "outputs": [],
   "source": [
    "parameters['sldb']['total_train_rows'] = sldb_parameters['stats']['train']['trimmed_to_count']"
   ]
  },
  {
   "cell_type": "code",
   "execution_count": 89,
   "metadata": {},
   "outputs": [],
   "source": [
    "parameters['sldb']['total_eval_rows'] = sldb_parameters['stats']['eval']['trimmed_to_count']"
   ]
  },
  {
   "cell_type": "code",
   "execution_count": 90,
   "metadata": {},
   "outputs": [],
   "source": [
    "# this parameter might not be needed\n",
    "# parameters['sldb']['total_test_rows'] = sldb_parameters['stats']['test']['trimmed_to_count']"
   ]
  },
  {
   "cell_type": "code",
   "execution_count": 91,
   "metadata": {},
   "outputs": [
    {
     "data": {
      "text/plain": [
       "{'embedding': {'hourly': 8, 'daily': 8, 'weekly': 8},\n",
       " 'tau': {'hourly': 1, 'daily': 24, 'weekly': 168},\n",
       " 'no_targets': 24,\n",
       " 'total_train_rows': 16736,\n",
       " 'total_eval_rows': 896}"
      ]
     },
     "execution_count": 91,
     "metadata": {},
     "output_type": "execute_result"
    }
   ],
   "source": [
    "parameters['sldb']"
   ]
  },
  {
   "cell_type": "code",
   "execution_count": 92,
   "metadata": {},
   "outputs": [],
   "source": [
    "parameters['architecture'] = configuration['architecture']"
   ]
  },
  {
   "cell_type": "code",
   "execution_count": 93,
   "metadata": {},
   "outputs": [
    {
     "data": {
      "text/plain": [
       "{'hourly': {'structure': [64, 128],\n",
       "  'dropout': 0.2,\n",
       "  'unroll': False,\n",
       "  'implementation_mode': 1},\n",
       " 'daily': {'structure': [64, 128],\n",
       "  'dropout': 0.2,\n",
       "  'unroll': False,\n",
       "  'implementation_mode': 1},\n",
       " 'weekly': {'structure': [64, 128],\n",
       "  'dropout': 0.2,\n",
       "  'unroll': False,\n",
       "  'implementation_mode': 1},\n",
       " 'use_timestamps': True,\n",
       " 'dense': {'structure': [512, 128, 24],\n",
       "  'activation': ['relu', 'relu', 'sigmoid']}}"
      ]
     },
     "execution_count": 93,
     "metadata": {},
     "output_type": "execute_result"
    }
   ],
   "source": [
    "parameters['architecture']"
   ]
  },
  {
   "cell_type": "code",
   "execution_count": 94,
   "metadata": {},
   "outputs": [
    {
     "data": {
      "text/plain": [
       "{}"
      ]
     },
     "execution_count": 94,
     "metadata": {},
     "output_type": "execute_result"
    }
   ],
   "source": [
    "parameters['training']"
   ]
  },
  {
   "cell_type": "code",
   "execution_count": null,
   "metadata": {},
   "outputs": [],
   "source": []
  }
 ],
 "metadata": {
  "kernelspec": {
   "display_name": "Python 3",
   "language": "python",
   "name": "python3"
  },
  "language_info": {
   "codemirror_mode": {
    "name": "ipython",
    "version": 3
   },
   "file_extension": ".py",
   "mimetype": "text/x-python",
   "name": "python",
   "nbconvert_exporter": "python",
   "pygments_lexer": "ipython3",
   "version": "3.7.6"
  }
 },
 "nbformat": 4,
 "nbformat_minor": 4
}

{
 "cells": [
  {
   "cell_type": "markdown",
   "metadata": {},
   "source": [
    "## Recursive inference (multi-step) for BSCTRFM models\n",
    "\n",
    "### use time series instead of SLDB arrays for easier and more efficient timestamp management"
   ]
  },
  {
   "cell_type": "code",
   "execution_count": 1,
   "metadata": {},
   "outputs": [],
   "source": [
    "import os\n",
    "import json\n",
    "import numpy as np\n",
    "import pandas as pd\n",
    "import joblib\n",
    "from datetime import datetime\n",
    "from math import sqrt\n",
    "from sklearn.metrics import mean_squared_error, mean_absolute_error\n",
    "\n",
    "# uncomment the following line for compatibility with TensorFlow 1.15 (on GCP)\n",
    "# import tensorflow.compat.v1 as tf\n",
    "# uncomment the following line for TensorFlow 2.X (local execution)\n",
    "import tensorflow as tf\n",
    "\n",
    "# forecast model was saved in TensorFlow 1.15\n",
    "# but, in order to make predictions locally, has to be loaded with TensorFlow 2\n",
    "from tensorflow.saved_model import load"
   ]
  },
  {
   "cell_type": "code",
   "execution_count": 2,
   "metadata": {},
   "outputs": [
    {
     "data": {
      "text/html": [
       "\n",
       "    <div class=\"bk-root\">\n",
       "        <a href=\"https://bokeh.org\" target=\"_blank\" class=\"bk-logo bk-logo-small bk-logo-notebook\"></a>\n",
       "        <span id=\"1001\">Loading BokehJS ...</span>\n",
       "    </div>"
      ]
     },
     "metadata": {},
     "output_type": "display_data"
    },
    {
     "data": {
      "application/javascript": [
       "\n",
       "(function(root) {\n",
       "  function now() {\n",
       "    return new Date();\n",
       "  }\n",
       "\n",
       "  var force = true;\n",
       "\n",
       "  if (typeof root._bokeh_onload_callbacks === \"undefined\" || force === true) {\n",
       "    root._bokeh_onload_callbacks = [];\n",
       "    root._bokeh_is_loading = undefined;\n",
       "  }\n",
       "\n",
       "  var JS_MIME_TYPE = 'application/javascript';\n",
       "  var HTML_MIME_TYPE = 'text/html';\n",
       "  var EXEC_MIME_TYPE = 'application/vnd.bokehjs_exec.v0+json';\n",
       "  var CLASS_NAME = 'output_bokeh rendered_html';\n",
       "\n",
       "  /**\n",
       "   * Render data to the DOM node\n",
       "   */\n",
       "  function render(props, node) {\n",
       "    var script = document.createElement(\"script\");\n",
       "    node.appendChild(script);\n",
       "  }\n",
       "\n",
       "  /**\n",
       "   * Handle when an output is cleared or removed\n",
       "   */\n",
       "  function handleClearOutput(event, handle) {\n",
       "    var cell = handle.cell;\n",
       "\n",
       "    var id = cell.output_area._bokeh_element_id;\n",
       "    var server_id = cell.output_area._bokeh_server_id;\n",
       "    // Clean up Bokeh references\n",
       "    if (id != null && id in Bokeh.index) {\n",
       "      Bokeh.index[id].model.document.clear();\n",
       "      delete Bokeh.index[id];\n",
       "    }\n",
       "\n",
       "    if (server_id !== undefined) {\n",
       "      // Clean up Bokeh references\n",
       "      var cmd = \"from bokeh.io.state import curstate; print(curstate().uuid_to_server['\" + server_id + \"'].get_sessions()[0].document.roots[0]._id)\";\n",
       "      cell.notebook.kernel.execute(cmd, {\n",
       "        iopub: {\n",
       "          output: function(msg) {\n",
       "            var id = msg.content.text.trim();\n",
       "            if (id in Bokeh.index) {\n",
       "              Bokeh.index[id].model.document.clear();\n",
       "              delete Bokeh.index[id];\n",
       "            }\n",
       "          }\n",
       "        }\n",
       "      });\n",
       "      // Destroy server and session\n",
       "      var cmd = \"import bokeh.io.notebook as ion; ion.destroy_server('\" + server_id + \"')\";\n",
       "      cell.notebook.kernel.execute(cmd);\n",
       "    }\n",
       "  }\n",
       "\n",
       "  /**\n",
       "   * Handle when a new output is added\n",
       "   */\n",
       "  function handleAddOutput(event, handle) {\n",
       "    var output_area = handle.output_area;\n",
       "    var output = handle.output;\n",
       "\n",
       "    // limit handleAddOutput to display_data with EXEC_MIME_TYPE content only\n",
       "    if ((output.output_type != \"display_data\") || (!output.data.hasOwnProperty(EXEC_MIME_TYPE))) {\n",
       "      return\n",
       "    }\n",
       "\n",
       "    var toinsert = output_area.element.find(\".\" + CLASS_NAME.split(' ')[0]);\n",
       "\n",
       "    if (output.metadata[EXEC_MIME_TYPE][\"id\"] !== undefined) {\n",
       "      toinsert[toinsert.length - 1].firstChild.textContent = output.data[JS_MIME_TYPE];\n",
       "      // store reference to embed id on output_area\n",
       "      output_area._bokeh_element_id = output.metadata[EXEC_MIME_TYPE][\"id\"];\n",
       "    }\n",
       "    if (output.metadata[EXEC_MIME_TYPE][\"server_id\"] !== undefined) {\n",
       "      var bk_div = document.createElement(\"div\");\n",
       "      bk_div.innerHTML = output.data[HTML_MIME_TYPE];\n",
       "      var script_attrs = bk_div.children[0].attributes;\n",
       "      for (var i = 0; i < script_attrs.length; i++) {\n",
       "        toinsert[toinsert.length - 1].firstChild.setAttribute(script_attrs[i].name, script_attrs[i].value);\n",
       "      }\n",
       "      // store reference to server id on output_area\n",
       "      output_area._bokeh_server_id = output.metadata[EXEC_MIME_TYPE][\"server_id\"];\n",
       "    }\n",
       "  }\n",
       "\n",
       "  function register_renderer(events, OutputArea) {\n",
       "\n",
       "    function append_mime(data, metadata, element) {\n",
       "      // create a DOM node to render to\n",
       "      var toinsert = this.create_output_subarea(\n",
       "        metadata,\n",
       "        CLASS_NAME,\n",
       "        EXEC_MIME_TYPE\n",
       "      );\n",
       "      this.keyboard_manager.register_events(toinsert);\n",
       "      // Render to node\n",
       "      var props = {data: data, metadata: metadata[EXEC_MIME_TYPE]};\n",
       "      render(props, toinsert[toinsert.length - 1]);\n",
       "      element.append(toinsert);\n",
       "      return toinsert\n",
       "    }\n",
       "\n",
       "    /* Handle when an output is cleared or removed */\n",
       "    events.on('clear_output.CodeCell', handleClearOutput);\n",
       "    events.on('delete.Cell', handleClearOutput);\n",
       "\n",
       "    /* Handle when a new output is added */\n",
       "    events.on('output_added.OutputArea', handleAddOutput);\n",
       "\n",
       "    /**\n",
       "     * Register the mime type and append_mime function with output_area\n",
       "     */\n",
       "    OutputArea.prototype.register_mime_type(EXEC_MIME_TYPE, append_mime, {\n",
       "      /* Is output safe? */\n",
       "      safe: true,\n",
       "      /* Index of renderer in `output_area.display_order` */\n",
       "      index: 0\n",
       "    });\n",
       "  }\n",
       "\n",
       "  // register the mime type if in Jupyter Notebook environment and previously unregistered\n",
       "  if (root.Jupyter !== undefined) {\n",
       "    var events = require('base/js/events');\n",
       "    var OutputArea = require('notebook/js/outputarea').OutputArea;\n",
       "\n",
       "    if (OutputArea.prototype.mime_types().indexOf(EXEC_MIME_TYPE) == -1) {\n",
       "      register_renderer(events, OutputArea);\n",
       "    }\n",
       "  }\n",
       "\n",
       "  \n",
       "  if (typeof (root._bokeh_timeout) === \"undefined\" || force === true) {\n",
       "    root._bokeh_timeout = Date.now() + 5000;\n",
       "    root._bokeh_failed_load = false;\n",
       "  }\n",
       "\n",
       "  var NB_LOAD_WARNING = {'data': {'text/html':\n",
       "     \"<div style='background-color: #fdd'>\\n\"+\n",
       "     \"<p>\\n\"+\n",
       "     \"BokehJS does not appear to have successfully loaded. If loading BokehJS from CDN, this \\n\"+\n",
       "     \"may be due to a slow or bad network connection. Possible fixes:\\n\"+\n",
       "     \"</p>\\n\"+\n",
       "     \"<ul>\\n\"+\n",
       "     \"<li>re-rerun `output_notebook()` to attempt to load from CDN again, or</li>\\n\"+\n",
       "     \"<li>use INLINE resources instead, as so:</li>\\n\"+\n",
       "     \"</ul>\\n\"+\n",
       "     \"<code>\\n\"+\n",
       "     \"from bokeh.resources import INLINE\\n\"+\n",
       "     \"output_notebook(resources=INLINE)\\n\"+\n",
       "     \"</code>\\n\"+\n",
       "     \"</div>\"}};\n",
       "\n",
       "  function display_loaded() {\n",
       "    var el = document.getElementById(\"1001\");\n",
       "    if (el != null) {\n",
       "      el.textContent = \"BokehJS is loading...\";\n",
       "    }\n",
       "    if (root.Bokeh !== undefined) {\n",
       "      if (el != null) {\n",
       "        el.textContent = \"BokehJS \" + root.Bokeh.version + \" successfully loaded.\";\n",
       "      }\n",
       "    } else if (Date.now() < root._bokeh_timeout) {\n",
       "      setTimeout(display_loaded, 100)\n",
       "    }\n",
       "  }\n",
       "\n",
       "\n",
       "  function run_callbacks() {\n",
       "    try {\n",
       "      root._bokeh_onload_callbacks.forEach(function(callback) {\n",
       "        if (callback != null)\n",
       "          callback();\n",
       "      });\n",
       "    } finally {\n",
       "      delete root._bokeh_onload_callbacks\n",
       "    }\n",
       "    console.debug(\"Bokeh: all callbacks have finished\");\n",
       "  }\n",
       "\n",
       "  function load_libs(css_urls, js_urls, callback) {\n",
       "    if (css_urls == null) css_urls = [];\n",
       "    if (js_urls == null) js_urls = [];\n",
       "\n",
       "    root._bokeh_onload_callbacks.push(callback);\n",
       "    if (root._bokeh_is_loading > 0) {\n",
       "      console.debug(\"Bokeh: BokehJS is being loaded, scheduling callback at\", now());\n",
       "      return null;\n",
       "    }\n",
       "    if (js_urls == null || js_urls.length === 0) {\n",
       "      run_callbacks();\n",
       "      return null;\n",
       "    }\n",
       "    console.debug(\"Bokeh: BokehJS not loaded, scheduling load and callback at\", now());\n",
       "    root._bokeh_is_loading = css_urls.length + js_urls.length;\n",
       "\n",
       "    function on_load() {\n",
       "      root._bokeh_is_loading--;\n",
       "      if (root._bokeh_is_loading === 0) {\n",
       "        console.debug(\"Bokeh: all BokehJS libraries/stylesheets loaded\");\n",
       "        run_callbacks()\n",
       "      }\n",
       "    }\n",
       "\n",
       "    function on_error() {\n",
       "      console.error(\"failed to load \" + url);\n",
       "    }\n",
       "\n",
       "    for (var i = 0; i < css_urls.length; i++) {\n",
       "      var url = css_urls[i];\n",
       "      const element = document.createElement(\"link\");\n",
       "      element.onload = on_load;\n",
       "      element.onerror = on_error;\n",
       "      element.rel = \"stylesheet\";\n",
       "      element.type = \"text/css\";\n",
       "      element.href = url;\n",
       "      console.debug(\"Bokeh: injecting link tag for BokehJS stylesheet: \", url);\n",
       "      document.body.appendChild(element);\n",
       "    }\n",
       "\n",
       "    for (var i = 0; i < js_urls.length; i++) {\n",
       "      var url = js_urls[i];\n",
       "      var element = document.createElement('script');\n",
       "      element.onload = on_load;\n",
       "      element.onerror = on_error;\n",
       "      element.async = false;\n",
       "      element.src = url;\n",
       "      console.debug(\"Bokeh: injecting script tag for BokehJS library: \", url);\n",
       "      document.head.appendChild(element);\n",
       "    }\n",
       "  };var element = document.getElementById(\"1001\");\n",
       "  if (element == null) {\n",
       "    console.error(\"Bokeh: ERROR: autoload.js configured with elementid '1001' but no matching script tag was found. \")\n",
       "    return false;\n",
       "  }\n",
       "\n",
       "  function inject_raw_css(css) {\n",
       "    const element = document.createElement(\"style\");\n",
       "    element.appendChild(document.createTextNode(css));\n",
       "    document.body.appendChild(element);\n",
       "  }\n",
       "\n",
       "  \n",
       "  var js_urls = [\"https://cdn.pydata.org/bokeh/release/bokeh-1.4.0.min.js\", \"https://cdn.pydata.org/bokeh/release/bokeh-widgets-1.4.0.min.js\", \"https://cdn.pydata.org/bokeh/release/bokeh-tables-1.4.0.min.js\", \"https://cdn.pydata.org/bokeh/release/bokeh-gl-1.4.0.min.js\"];\n",
       "  var css_urls = [];\n",
       "  \n",
       "\n",
       "  var inline_js = [\n",
       "    function(Bokeh) {\n",
       "      Bokeh.set_log_level(\"info\");\n",
       "    },\n",
       "    function(Bokeh) {\n",
       "    \n",
       "    \n",
       "    }\n",
       "  ];\n",
       "\n",
       "  function run_inline_js() {\n",
       "    \n",
       "    if (root.Bokeh !== undefined || force === true) {\n",
       "      \n",
       "    for (var i = 0; i < inline_js.length; i++) {\n",
       "      inline_js[i].call(root, root.Bokeh);\n",
       "    }\n",
       "    if (force === true) {\n",
       "        display_loaded();\n",
       "      }} else if (Date.now() < root._bokeh_timeout) {\n",
       "      setTimeout(run_inline_js, 100);\n",
       "    } else if (!root._bokeh_failed_load) {\n",
       "      console.log(\"Bokeh: BokehJS failed to load within specified timeout.\");\n",
       "      root._bokeh_failed_load = true;\n",
       "    } else if (force !== true) {\n",
       "      var cell = $(document.getElementById(\"1001\")).parents('.cell').data().cell;\n",
       "      cell.output_area.append_execute_result(NB_LOAD_WARNING)\n",
       "    }\n",
       "\n",
       "  }\n",
       "\n",
       "  if (root._bokeh_is_loading === 0) {\n",
       "    console.debug(\"Bokeh: BokehJS loaded, going straight to plotting\");\n",
       "    run_inline_js();\n",
       "  } else {\n",
       "    load_libs(css_urls, js_urls, function() {\n",
       "      console.debug(\"Bokeh: BokehJS plotting callback run at\", now());\n",
       "      run_inline_js();\n",
       "    });\n",
       "  }\n",
       "}(window));"
      ],
      "application/vnd.bokehjs_load.v0+json": "\n(function(root) {\n  function now() {\n    return new Date();\n  }\n\n  var force = true;\n\n  if (typeof root._bokeh_onload_callbacks === \"undefined\" || force === true) {\n    root._bokeh_onload_callbacks = [];\n    root._bokeh_is_loading = undefined;\n  }\n\n  \n\n  \n  if (typeof (root._bokeh_timeout) === \"undefined\" || force === true) {\n    root._bokeh_timeout = Date.now() + 5000;\n    root._bokeh_failed_load = false;\n  }\n\n  var NB_LOAD_WARNING = {'data': {'text/html':\n     \"<div style='background-color: #fdd'>\\n\"+\n     \"<p>\\n\"+\n     \"BokehJS does not appear to have successfully loaded. If loading BokehJS from CDN, this \\n\"+\n     \"may be due to a slow or bad network connection. Possible fixes:\\n\"+\n     \"</p>\\n\"+\n     \"<ul>\\n\"+\n     \"<li>re-rerun `output_notebook()` to attempt to load from CDN again, or</li>\\n\"+\n     \"<li>use INLINE resources instead, as so:</li>\\n\"+\n     \"</ul>\\n\"+\n     \"<code>\\n\"+\n     \"from bokeh.resources import INLINE\\n\"+\n     \"output_notebook(resources=INLINE)\\n\"+\n     \"</code>\\n\"+\n     \"</div>\"}};\n\n  function display_loaded() {\n    var el = document.getElementById(\"1001\");\n    if (el != null) {\n      el.textContent = \"BokehJS is loading...\";\n    }\n    if (root.Bokeh !== undefined) {\n      if (el != null) {\n        el.textContent = \"BokehJS \" + root.Bokeh.version + \" successfully loaded.\";\n      }\n    } else if (Date.now() < root._bokeh_timeout) {\n      setTimeout(display_loaded, 100)\n    }\n  }\n\n\n  function run_callbacks() {\n    try {\n      root._bokeh_onload_callbacks.forEach(function(callback) {\n        if (callback != null)\n          callback();\n      });\n    } finally {\n      delete root._bokeh_onload_callbacks\n    }\n    console.debug(\"Bokeh: all callbacks have finished\");\n  }\n\n  function load_libs(css_urls, js_urls, callback) {\n    if (css_urls == null) css_urls = [];\n    if (js_urls == null) js_urls = [];\n\n    root._bokeh_onload_callbacks.push(callback);\n    if (root._bokeh_is_loading > 0) {\n      console.debug(\"Bokeh: BokehJS is being loaded, scheduling callback at\", now());\n      return null;\n    }\n    if (js_urls == null || js_urls.length === 0) {\n      run_callbacks();\n      return null;\n    }\n    console.debug(\"Bokeh: BokehJS not loaded, scheduling load and callback at\", now());\n    root._bokeh_is_loading = css_urls.length + js_urls.length;\n\n    function on_load() {\n      root._bokeh_is_loading--;\n      if (root._bokeh_is_loading === 0) {\n        console.debug(\"Bokeh: all BokehJS libraries/stylesheets loaded\");\n        run_callbacks()\n      }\n    }\n\n    function on_error() {\n      console.error(\"failed to load \" + url);\n    }\n\n    for (var i = 0; i < css_urls.length; i++) {\n      var url = css_urls[i];\n      const element = document.createElement(\"link\");\n      element.onload = on_load;\n      element.onerror = on_error;\n      element.rel = \"stylesheet\";\n      element.type = \"text/css\";\n      element.href = url;\n      console.debug(\"Bokeh: injecting link tag for BokehJS stylesheet: \", url);\n      document.body.appendChild(element);\n    }\n\n    for (var i = 0; i < js_urls.length; i++) {\n      var url = js_urls[i];\n      var element = document.createElement('script');\n      element.onload = on_load;\n      element.onerror = on_error;\n      element.async = false;\n      element.src = url;\n      console.debug(\"Bokeh: injecting script tag for BokehJS library: \", url);\n      document.head.appendChild(element);\n    }\n  };var element = document.getElementById(\"1001\");\n  if (element == null) {\n    console.error(\"Bokeh: ERROR: autoload.js configured with elementid '1001' but no matching script tag was found. \")\n    return false;\n  }\n\n  function inject_raw_css(css) {\n    const element = document.createElement(\"style\");\n    element.appendChild(document.createTextNode(css));\n    document.body.appendChild(element);\n  }\n\n  \n  var js_urls = [\"https://cdn.pydata.org/bokeh/release/bokeh-1.4.0.min.js\", \"https://cdn.pydata.org/bokeh/release/bokeh-widgets-1.4.0.min.js\", \"https://cdn.pydata.org/bokeh/release/bokeh-tables-1.4.0.min.js\", \"https://cdn.pydata.org/bokeh/release/bokeh-gl-1.4.0.min.js\"];\n  var css_urls = [];\n  \n\n  var inline_js = [\n    function(Bokeh) {\n      Bokeh.set_log_level(\"info\");\n    },\n    function(Bokeh) {\n    \n    \n    }\n  ];\n\n  function run_inline_js() {\n    \n    if (root.Bokeh !== undefined || force === true) {\n      \n    for (var i = 0; i < inline_js.length; i++) {\n      inline_js[i].call(root, root.Bokeh);\n    }\n    if (force === true) {\n        display_loaded();\n      }} else if (Date.now() < root._bokeh_timeout) {\n      setTimeout(run_inline_js, 100);\n    } else if (!root._bokeh_failed_load) {\n      console.log(\"Bokeh: BokehJS failed to load within specified timeout.\");\n      root._bokeh_failed_load = true;\n    } else if (force !== true) {\n      var cell = $(document.getElementById(\"1001\")).parents('.cell').data().cell;\n      cell.output_area.append_execute_result(NB_LOAD_WARNING)\n    }\n\n  }\n\n  if (root._bokeh_is_loading === 0) {\n    console.debug(\"Bokeh: BokehJS loaded, going straight to plotting\");\n    run_inline_js();\n  } else {\n    load_libs(css_urls, js_urls, function() {\n      console.debug(\"Bokeh: BokehJS plotting callback run at\", now());\n      run_inline_js();\n    });\n  }\n}(window));"
     },
     "metadata": {},
     "output_type": "display_data"
    }
   ],
   "source": [
    "from bokeh.plotting import figure, show, output_file, save\n",
    "from bokeh.io import output_notebook\n",
    "# select a palette\n",
    "from bokeh.palettes import d3\n",
    "output_notebook()"
   ]
  },
  {
   "cell_type": "code",
   "execution_count": 3,
   "metadata": {},
   "outputs": [],
   "source": [
    "# symmetrical mean absolute percentage error\n",
    "def smape(targets, predictions):\n",
    "    '''\n",
    "    predictions: a list with the predicted values\n",
    "    targets: a list with the actual values\n",
    "    '''\n",
    "    import numpy as np\n",
    "    # lists to NumPy arrays\n",
    "    targets, predictions = np.array(targets), np.array(predictions)\n",
    "    # verify predictions and targets have the same shape\n",
    "    if predictions.shape == targets.shape:\n",
    "            return(np.sum(2*np.abs(predictions - targets) /\n",
    "                          (np.abs(targets) + np.abs(predictions)))/predictions.shape[0])"
   ]
  },
  {
   "cell_type": "code",
   "execution_count": 4,
   "metadata": {},
   "outputs": [],
   "source": [
    "# a function to encode float values for serialized examples\n",
    "def _float_feature_from_list_of_values(list_of_values):\n",
    "    \"\"\"Returns a float_list from a list of floats / doubles.\"\"\"\n",
    "    return tf.train.Feature(float_list=tf.train.FloatList(value=list_of_values))"
   ]
  },
  {
   "cell_type": "code",
   "execution_count": 5,
   "metadata": {},
   "outputs": [],
   "source": [
    "# converts a set of tensors to a feature dict to a serialized example to pass it\n",
    "# to the prediction function of the saved model \n",
    "def input_tensors_to_serialized_example(encoder_input_float_tensor,\n",
    "                                        decoder_input_float_tensor,\n",
    "                                        id_float_tensor):\n",
    "    # first, pass the float tensors to NumPy array, then flatten them\n",
    "    encoder_input_flat_array = encoder_input_float_tensor.numpy().flatten()\n",
    "    decoder_input_flat_array = decoder_input_float_tensor.numpy().flatten()\n",
    "    id_flat_array = id_float_tensor.numpy().flatten()\n",
    "    \n",
    "    # second, build the protobuffer example\n",
    "    example = tf.train.Example(\n",
    "        # features within the example\n",
    "        features=tf.train.Features(\n",
    "            # feature definition\n",
    "            feature={\n",
    "                'encoder_input': _float_feature_from_list_of_values(encoder_input_flat_array),\n",
    "                'decoder_input': _float_feature_from_list_of_values(decoder_input_flat_array),\n",
    "                'id': _float_feature_from_list_of_values(id_flat_array)\n",
    "            }\n",
    "        )\n",
    "    )    \n",
    "    # third, serialize the example dictionary to a string\n",
    "    serialized_example = example.SerializeToString()\n",
    "    # fourth, wrap the serialized example as a NumPy-string array\n",
    "    numpy_example = np.array(serialized_example, dtype='S')\n",
    "    # fifth, wrap the NumPy-string array as a string tensor\n",
    "    serialized_example = tf.convert_to_tensor(numpy_example)\n",
    "\n",
    "    return serialized_example"
   ]
  },
  {
   "cell_type": "code",
   "execution_count": 25,
   "metadata": {},
   "outputs": [],
   "source": [
    "PROJECT_ROOT = '/home/developer/gcp/cbidmltsf'"
   ]
  },
  {
   "cell_type": "code",
   "execution_count": 26,
   "metadata": {},
   "outputs": [],
   "source": [
    "# during batch prediction, the model identifier is obtained via Abseil Flags\n",
    "# remember this notebook is based on local execution,\n",
    "# therefore model directory must be downloaded from GS before running the notebook\n",
    "model_id = 'BSCTRFM_TPU_014'"
   ]
  },
  {
   "cell_type": "code",
   "execution_count": 27,
   "metadata": {},
   "outputs": [],
   "source": [
    "# during batch prediction, the SLDB identifier is obtained via Abseil Flags\n",
    "# THE SLDB FOR INFERENCE MUST BE THE SAME USED FOR TRAINING! (THE ONE SETUP IN THE CONFIGURATION FILE)\n",
    "sldb_id = 'LD2011-2014_MT320-MT330_BSCTRFM_168_168'"
   ]
  },
  {
   "cell_type": "code",
   "execution_count": 28,
   "metadata": {},
   "outputs": [],
   "source": [
    "# during batch prediction, the dataset name is obtained via Abseil Flags\n",
    "dataset = 'test'"
   ]
  },
  {
   "cell_type": "code",
   "execution_count": 29,
   "metadata": {},
   "outputs": [],
   "source": [
    "# define a forecast window to guide the iterative prediction process\n",
    "# start with a hourly, day-ahead process\n",
    "forecast_window = 24"
   ]
  },
  {
   "cell_type": "code",
   "execution_count": 30,
   "metadata": {},
   "outputs": [],
   "source": [
    "# ADD AN INFERENCE IDENTIFIER, BECAUSE FOR TRANSFORMER-BASED MODELS, DIFFERENT INFERENCES\n",
    "# CAN BE PRODUCED FROM A SINGLE SAVED MODEL (USUALLY TO PRODUCE DIFFERENT FORECAST WINDOWS)\n",
    "# during batch prediction, the inference identifier should be obtained via Abseil Flags\n",
    "inference = '{:03d}'.format(forecast_window)"
   ]
  },
  {
   "cell_type": "code",
   "execution_count": 31,
   "metadata": {},
   "outputs": [],
   "source": [
    "# build a path to the SLDB json file\n",
    "data_dir = '{}/{}/{}'.format(PROJECT_ROOT, 'sldbs', sldb_id)\n",
    "\n",
    "# then get the ts_identifier from the json file in the sldb directory\n",
    "sldb_json_file = '{}/sldb.json'.format(data_dir)"
   ]
  },
  {
   "cell_type": "code",
   "execution_count": 32,
   "metadata": {},
   "outputs": [],
   "source": [
    "# open the json file\n",
    "with open(sldb_json_file, 'r') as inputfile:\n",
    "    sldb_dict = json.load(inputfile)"
   ]
  },
  {
   "cell_type": "code",
   "execution_count": 33,
   "metadata": {},
   "outputs": [
    {
     "data": {
      "text/plain": [
       "'LD2011-2014_MT320-MT330'"
      ]
     },
     "execution_count": 33,
     "metadata": {},
     "output_type": "execute_result"
    }
   ],
   "source": [
    "# and get the time series identifier\n",
    "ts_identifier = sldb_dict['ts']\n",
    "ts_identifier"
   ]
  },
  {
   "cell_type": "code",
   "execution_count": null,
   "metadata": {},
   "outputs": [],
   "source": [
    "# get the SLDB parameters for the forecasting model\n",
    "config_json_file = '{}/{}/{}.json'.format(PROJECT_ROOT,\n",
    "                                          'parameters',\n",
    "                                          model_id)\n",
    "\n",
    "# recover the sldb dictionary from the json file in parameters/\n",
    "with open(config_json_file, 'r') as inputfile:\n",
    "    configuration = json.load(inputfile)"
   ]
  },
  {
   "cell_type": "code",
   "execution_count": null,
   "metadata": {},
   "outputs": [],
   "source": [
    "m = sldb_dict['embedding']['hourly']\n",
    "m"
   ]
  },
  {
   "cell_type": "code",
   "execution_count": null,
   "metadata": {},
   "outputs": [],
   "source": [
    "t = sldb_dict['no_targets']\n",
    "t"
   ]
  },
  {
   "cell_type": "code",
   "execution_count": null,
   "metadata": {},
   "outputs": [],
   "source": [
    "# verify the values of the variables for batch inference\n",
    "model_id, dataset, inference"
   ]
  },
  {
   "cell_type": "code",
   "execution_count": null,
   "metadata": {},
   "outputs": [],
   "source": [
    "encoder_input_columns = [\n",
    "    'kw_scaled',\n",
    "    'sin_hour_day',\n",
    "    'cos_hour_day',\n",
    "    'sin_day_week',\n",
    "    'cos_day_week',\n",
    "    'sin_day_month',\n",
    "    'cos_day_month',\n",
    "    'sin_day_year',\n",
    "    'cos_day_year'\n",
    "]"
   ]
  },
  {
   "cell_type": "code",
   "execution_count": null,
   "metadata": {},
   "outputs": [],
   "source": [
    "decoder_input_columns = encoder_input_columns"
   ]
  },
  {
   "cell_type": "code",
   "execution_count": null,
   "metadata": {},
   "outputs": [],
   "source": [
    "id_columns = ['token_id']"
   ]
  },
  {
   "cell_type": "code",
   "execution_count": 7,
   "metadata": {},
   "outputs": [],
   "source": [
    "# now get the time series for the test dataset (unseen data)"
   ]
  },
  {
   "cell_type": "code",
   "execution_count": 8,
   "metadata": {},
   "outputs": [],
   "source": [
    "# define a identifier string to access to the preprocessed time series\n",
    "identifier = 'LD2011-2014'"
   ]
  },
  {
   "cell_type": "code",
   "execution_count": 9,
   "metadata": {},
   "outputs": [],
   "source": [
    "# build the time series directory\n",
    "time_series_folder = '/home/developer/gcp/cbidmltsf/timeseries/{}'.format(identifier)"
   ]
  },
  {
   "cell_type": "code",
   "execution_count": 10,
   "metadata": {},
   "outputs": [],
   "source": [
    "# use a dictionary to remain the code consistent with the SLDB building process\n",
    "# most of the times, only ts['test'] will be used for inference\n",
    "# however, ts['eval'] might also be used, as it have not really been seen by training process\n",
    "# (no tranining modification resulted from evaluation stage)"
   ]
  },
  {
   "cell_type": "markdown",
   "metadata": {},
   "source": [
    "### rename the time series dictionary to ts_test, use the customer_id as key"
   ]
  },
  {
   "cell_type": "code",
   "execution_count": 11,
   "metadata": {},
   "outputs": [],
   "source": [
    "ts_test = dict()"
   ]
  },
  {
   "cell_type": "code",
   "execution_count": 12,
   "metadata": {},
   "outputs": [],
   "source": [
    "# a dictionary to store predictions detail dataframe per customer id\n",
    "predictions_detail = dict()"
   ]
  },
  {
   "cell_type": "code",
   "execution_count": 13,
   "metadata": {},
   "outputs": [],
   "source": [
    "# a dictionary to store predictions summary dataframe per customer id\n",
    "predictions_summary = dict()"
   ]
  },
  {
   "cell_type": "code",
   "execution_count": 65,
   "metadata": {},
   "outputs": [],
   "source": [
    "customer_id = 'MT_321'"
   ]
  },
  {
   "cell_type": "code",
   "execution_count": 66,
   "metadata": {},
   "outputs": [],
   "source": [
    "# build the time series filename\n",
    "ts_filename = '{}_{}'.format(customer_id, 'test')\n",
    "# ts_filename"
   ]
  },
  {
   "cell_type": "code",
   "execution_count": 67,
   "metadata": {},
   "outputs": [],
   "source": [
    "ts_test[customer_id] = pd.read_pickle('{}/{}.pkl'.format(time_series_folder, ts_filename))\n",
    "# ts_test[customer_id]"
   ]
  },
  {
   "cell_type": "code",
   "execution_count": 68,
   "metadata": {},
   "outputs": [],
   "source": [
    "# for consistency, rename the column date as timestamp\n",
    "ts_test[customer_id] = ts_test[customer_id].rename(columns={\"date\": \"timestamp\"})"
   ]
  },
  {
   "cell_type": "code",
   "execution_count": 69,
   "metadata": {},
   "outputs": [],
   "source": [
    "ts_test[customer_id] = ts_test[customer_id].set_index('timestamp')"
   ]
  },
  {
   "cell_type": "code",
   "execution_count": 70,
   "metadata": {},
   "outputs": [],
   "source": [
    "# ts_test[customer_id]"
   ]
  },
  {
   "cell_type": "code",
   "execution_count": 71,
   "metadata": {},
   "outputs": [
    {
     "data": {
      "text/plain": [
       "(DatetimeIndex(['2014-08-18 01:00:00'], dtype='datetime64[ns]', name='timestamp', freq=None),\n",
       " DatetimeIndex(['2014-09-07 23:00:00'], dtype='datetime64[ns]', name='timestamp', freq=None))"
      ]
     },
     "execution_count": 71,
     "metadata": {},
     "output_type": "execute_result"
    }
   ],
   "source": [
    "# review start and end dates for test dataset, use relative-index slices instead of scalar index!!!\n",
    "ts_test[customer_id].index[:1], ts_test[customer_id].index[-1:]"
   ]
  },
  {
   "cell_type": "markdown",
   "metadata": {},
   "source": [
    "### and the time series to produce the test SLDB is now verified"
   ]
  },
  {
   "cell_type": "code",
   "execution_count": 72,
   "metadata": {},
   "outputs": [
    {
     "data": {
      "text/plain": [
       "'/home/developer/gcp/cbidmltsf/sldbs/LD2011-2014_MT320-MT330_BSCTRFM_168_168/scalers/MT_321_min_max.save'"
      ]
     },
     "execution_count": 72,
     "metadata": {},
     "output_type": "execute_result"
    }
   ],
   "source": [
    "# load the scaler for the requested customer_id\n",
    "scaler_path = '{}/scalers/{}_min_max.save'.format(data_dir, customer_id)\n",
    "scaler_path"
   ]
  },
  {
   "cell_type": "code",
   "execution_count": 73,
   "metadata": {},
   "outputs": [
    {
     "name": "stderr",
     "output_type": "stream",
     "text": [
      "/home/developer/anaconda3/lib/python3.7/site-packages/sklearn/base.py:334: UserWarning: Trying to unpickle estimator MinMaxScaler from version 0.24.2 when using version 0.23.2. This might lead to breaking code or invalid results. Use at your own risk.\n",
      "  UserWarning)\n"
     ]
    }
   ],
   "source": [
    "min_max_scaler = joblib.load(scaler_path)"
   ]
  },
  {
   "cell_type": "code",
   "execution_count": null,
   "metadata": {},
   "outputs": [],
   "source": []
  },
  {
   "cell_type": "markdown",
   "metadata": {},
   "source": [
    "### run inference process and build databases"
   ]
  },
  {
   "cell_type": "code",
   "execution_count": 74,
   "metadata": {},
   "outputs": [
    {
     "name": "stdout",
     "output_type": "stream",
     "text": [
      "Exported model path is /home/developer/gcp/cbidmltsf/models/BSCTRFM_TPU_014_04/export/exporter/1631533140\n"
     ]
    }
   ],
   "source": [
    "# during batch prediction, the execution identifier is obtained via Abseil Flags\n",
    "for execution in [4]:\n",
    "    # a columns list for the predictions dataframe\n",
    "    pred_df_columns = ['model_id',\n",
    "                       'execution',\n",
    "                       'dataset',\n",
    "                       'inference',\n",
    "                       'customer_id',\n",
    "                       'string_timestamps',\n",
    "                       'predictions',\n",
    "                       'targets']\n",
    "    \n",
    "    # build the predictions dataframe as a key-value pair of the dictionary\n",
    "    predictions_detail[customer_id] = pd.DataFrame(columns=pred_df_columns)\n",
    "\n",
    "    # use model identifier and execution number to build the model directory string\n",
    "    model_dir = '{}_{:02d}'.format(model_id, execution)\n",
    "\n",
    "    # get the path to the saved model main directory\n",
    "    saved_model_path = '{}/{}/{}/export/exporter'.format(PROJECT_ROOT,\n",
    "                                                         'models',\n",
    "                                                         model_dir)\n",
    "\n",
    "    # get all the files in the saved model path, to find the most recent one\n",
    "    all_files = os.listdir(saved_model_path)\n",
    "    # get the path to the most recent saved model\n",
    "    latest_saved_model_id = sorted(all_files)[-1]\n",
    "\n",
    "    # build the full path for the latest saved model dir\n",
    "    export_dir = '{}/{}'.format(saved_model_path, latest_saved_model_id)\n",
    "    print ('Exported model path is {}'.format(export_dir))\n",
    "\n",
    "    # load the saved model and the prediction function\n",
    "    imported = load(export_dir=export_dir, tags='serve')\n",
    "    predict_fn = imported.signatures[\"serving_default\"]\n",
    "    \n",
    "    # iterate on a set of valid rows of the test dataset\n",
    "    starting_point = 0 # based on the inference dataset\n",
    "    span = 1 + 6*24 # number of days in the test dataset, expressed in hours\n",
    "    dataset_row_indexes_list = starting_point + np.arange(span)\n",
    "    \n",
    "    for start_index in dataset_row_indexes_list:\n",
    "\n",
    "        # define first prediction interval with start- and end-index\n",
    "        # given the interval time_series[start_index:end_index]\n",
    "        # the conditioning range is the union of the encoder-input and the decoder-input\n",
    "        # and the prediction range is only the last lecture in the interval,\n",
    "        # by means of a recursive inference process\n",
    "        # on each step the last prediction is added to the decoder input\n",
    "        # and the prediction range grows one step into the future\n",
    "\n",
    "        # get the end-index of this recursive inference interval\n",
    "        end_index = start_index + (m + t)\n",
    "\n",
    "        # initialize a list to store recurrent predictions for this interval\n",
    "        predictions_list = list()\n",
    "\n",
    "        for i in np.arange(forecast_window):\n",
    "\n",
    "            # build the inference interval as a sub-series of the dataset\n",
    "            sub_series = ts_test[customer_id][start_index + i : end_index + i]\n",
    "\n",
    "            # important: build sources as copies of the sub-series (and therefore of the global time series)\n",
    "            # to avoid overwriting the original dataset\n",
    "\n",
    "            # the encoder input source\n",
    "            encoder_input = sub_series[encoder_input_columns][:m].copy()\n",
    "\n",
    "            # the decoder input source\n",
    "            # decoder_input = sub_series[m-1:-1].copy()\n",
    "            decoder_input = sub_series[decoder_input_columns][m-1:m-1+t].copy()\n",
    "            \n",
    "            # the id (integer) for the customer\n",
    "            id_input = sub_series[id_columns][:1].copy()\n",
    "\n",
    "            # on first step (i=0), the decoder input carries only true values\n",
    "            # and the predictions list is empty\n",
    "            # on subsequent steps, the decoder input includes all previous predictions\n",
    "            # (stored in the predictions list)\n",
    "            if i > 0:\n",
    "                decoder_input['kw_scaled'][-i:] = predictions_list\n",
    "\n",
    "            # the target source, for metrics calculation\n",
    "            # the first part of the sub-series is the encoder input, and\n",
    "            # the second part of the sub-series is the target (only the variable column!)\n",
    "            target = sub_series['kw_scaled'][m:].copy()\n",
    "\n",
    "            # build source tensors from the sub-series    \n",
    "            encoder_input_tensor = tf.expand_dims(encoder_input, axis=0)\n",
    "            decoder_input_tensor = tf.expand_dims(decoder_input, axis=0)\n",
    "            id_tensor = tf.expand_dims(id_input, axis=0)\n",
    "\n",
    "            # make input example for the prediction function\n",
    "            input_example = input_tensors_to_serialized_example(encoder_input_tensor,\n",
    "                                                                decoder_input_tensor,\n",
    "                                                                id_tensor)\n",
    "\n",
    "            # get the output of the prediction function as a dictionary\n",
    "            predict_output_dict = predict_fn(input_example)\n",
    "\n",
    "            # get the prediction output tensor\n",
    "            predict_output_tensor = predict_output_dict['forecast']\n",
    "\n",
    "            # get the most recent prediction\n",
    "            most_recent_prediction = predict_output_tensor[0, :, 0].numpy()[-1]\n",
    "\n",
    "            # append the most recent prediction timestep to the predictions list\n",
    "            predictions_list.append(most_recent_prediction)\n",
    "\n",
    "            # pass the predictions list to an array\n",
    "            # current_predictions_array = np.array(predictions_list).reshape(-1, 1)\n",
    "            # get the targets vector to be compared with the current predictions array\n",
    "            # current_targets = np.array(target[-i-1:]).reshape(-1, 1)\n",
    "\n",
    "            # calculate SMAPE on the rescaled variable\n",
    "            # rescaled_predictions = min_max_scaler.inverse_transform(current_predictions_array)\n",
    "            # rescaled_targets = min_max_scaler.inverse_transform(current_targets)\n",
    "\n",
    "            # current_smape = smape(rescaled_targets, rescaled_predictions)\n",
    "            # print('On row {}, SMAPE for the first {} rescaled prediction(s) is {}'.format(start_index,\n",
    "            #                                                                               i + 1,\n",
    "            #                                                                               current_smape))        \n",
    "\n",
    "        # iterative predictions over the forecast window reside in predictions_list\n",
    "        # convert list to array, then expand feature dimension with value 1\n",
    "        predicted_values = np.array(predictions_list).reshape(-1, 1)\n",
    "\n",
    "        # inverse-scale predictions\n",
    "        rescaled_predicted_values = min_max_scaler.inverse_transform(predicted_values)\n",
    "\n",
    "        # and the true values remain in the prediction tensor, pass them to a NumPy array\n",
    "        # for the true values array, expand feature dimension with value 1\n",
    "        true_values = np.array(target[-i-1:]).reshape(-1, 1)\n",
    "\n",
    "        # inverse-scale true values\n",
    "        rescaled_true_values = min_max_scaler.inverse_transform(true_values)\n",
    "\n",
    "        # a temporary dataframe built from the data in the current row\n",
    "        df = pd.DataFrame(columns=pred_df_columns)\n",
    "        df['model_id'] = [model_id]\n",
    "        df['execution'] = [execution]\n",
    "        df['dataset'] = [dataset]\n",
    "        df['inference'] = [inference]\n",
    "        df['customer_id'] = [customer_id]\n",
    "        df['string_timestamps']= [pd.to_datetime(target.index[-i-1:]).astype(str).tolist()]\n",
    "        df['predictions'] = [np.squeeze(rescaled_predicted_values).tolist()]\n",
    "        df['targets'] = [np.squeeze(rescaled_true_values).tolist()]\n",
    "        \n",
    "        # calculate mean absolute error and normalized deviation\n",
    "        mae = mean_absolute_error(rescaled_true_values, rescaled_predicted_values)\n",
    "        df['mae'] = mae\n",
    "        \n",
    "        true_values_average = np.mean(rescaled_true_values)\n",
    "        df['nd'] = mae/true_values_average\n",
    "        \n",
    "        # calculate root mean squared error and normalized root mean squared error\n",
    "        rmse = sqrt(mean_squared_error(rescaled_true_values, rescaled_predicted_values))\n",
    "        df['rmse'] = rmse\n",
    "        df['nrmse'] = rmse/true_values_average\n",
    "        \n",
    "        df['smape'] = smape(rescaled_true_values, rescaled_predicted_values)\n",
    "\n",
    "        # append the temporary dataframe to the predictions detail dataframe\n",
    "        predictions_detail[customer_id] = pd.concat([predictions_detail[customer_id], df])\n",
    "\n",
    "    \n",
    "    # reset the index of final dataframe, once all of its rows (dataset) have been processed\n",
    "    predictions_detail[customer_id] = predictions_detail[customer_id].reset_index(drop=True)\n",
    "    \n",
    "\n",
    "    # build a predictions summary dataframe, reset index to avoid making a multi-column index when grouping by\n",
    "    predictions_summary[customer_id] = predictions_detail[customer_id].groupby(['model_id',\n",
    "                                                                                'execution',\n",
    "                                                                                'dataset',\n",
    "                                                                                'inference',\n",
    "                                                                                'customer_id']).mean().reset_index()\n",
    "\n",
    "    \n",
    "    # DO NOT CALCULATE THE VECTOR METRICS\n",
    "    calculate_vector_metrics = False\n",
    "    \n",
    "    if calculate_vector_metrics:\n",
    "        \n",
    "        # a range to iterate on prediction timesteps\n",
    "        targets_range = np.arange(forecast_window)\n",
    "\n",
    "        # vector metric (vector component to vector component)\n",
    "        # an array forecast_window-d: metric for 1, 2,..., no_targets step-ahead\n",
    "        # (target versus prediction for rows in dataset)\n",
    "\n",
    "        # for index, row in dataframe.iterrows()\n",
    "        mae_vector = [\n",
    "            mean_absolute_error(\n",
    "                # a list with the n-rows target values for the n-th step ahead\n",
    "                [row.targets[n] for _, row in predictions_detail_df.iterrows()],\n",
    "                # a list with the n-rows prediction values for the n-th step ahead\n",
    "                [row.predictions[n] for _, row in predictions_detail_df.iterrows()]\n",
    "            ) for n in targets_range\n",
    "        ]\n",
    "        predictions_summary_df['mae_vector'] = [mae_vector]\n",
    "\n",
    "        # for index, row in dataframe.iterrows()\n",
    "        rmse_vector = [\n",
    "            sqrt(mean_squared_error(\n",
    "                # a list with the n-rows target values for the n-th step ahead\n",
    "                [row.targets[n] for _, row in predictions_detail_df.iterrows()],\n",
    "                # a list with the n-rows prediction values for the n-th step ahead\n",
    "                [row.predictions[n] for _, row in predictions_detail_df.iterrows()]\n",
    "            )) for n in targets_range\n",
    "        ]\n",
    "        predictions_summary_df['rmse_vector'] = [rmse_vector]\n",
    "\n",
    "        # for index, row in dataframe.iterrows()\n",
    "        smape_vector = [\n",
    "            smape(\n",
    "                [row.targets[n] for _, row in predictions_detail_df.iterrows()],\n",
    "                [row.predictions[n] for _, row in predictions_detail_df.iterrows()]\n",
    "            ) for n in targets_range\n",
    "        ]\n",
    "        predictions_summary_df['smape_vector'] = [smape_vector]\n",
    "\n",
    "        \n",
    "    # insert count of rows as a column value\n",
    "    predictions_summary[customer_id].insert(4, 'count', len(dataset_row_indexes_list))\n",
    "    \n",
    "    \n",
    "    # DO NOT PERSIST THE PREDICTIONS DETAIL DATAFRAME\n",
    "    persist_detail = False\n",
    "    if persist_detail:\n",
    "        # build a path to persist the dataframe to database/predictions_detail/\n",
    "        detail_pickle_path = '{}/{}/{}/{}_{:02d}_{}_{}.pkl'.format(\n",
    "            PROJECT_ROOT,\n",
    "            'database',\n",
    "            'predictions_detail',\n",
    "            model_id,\n",
    "            execution,\n",
    "            dataset,\n",
    "            inference)\n",
    "\n",
    "        # persist the Pandas dataframe to database/predictions_detail/\n",
    "        predictions_detail_df.to_pickle(detail_pickle_path)\n",
    "        print('Persisted Pandas dataframe for predictions detail of {}_{:02d}_{}_{}'.format(model_id,\n",
    "                                                                                            execution,\n",
    "                                                                                            dataset,\n",
    "                                                                                            inference))\n",
    "\n",
    "    # DO NOT PERSIST THE PREDICTIONS SUMMARY DATAFRAME\n",
    "    persist_summary = False\n",
    "    if persist_summary:\n",
    "        # build a path to persist the dataframe to database/predictions_summary/\n",
    "        summary_pickle_path = '{}/{}/{}/{}_{:02d}_{}_{}.pkl'.format(\n",
    "            PROJECT_ROOT,\n",
    "            'database',\n",
    "            'predictions_summary',\n",
    "            model_id,\n",
    "            execution,\n",
    "            dataset,\n",
    "            inference)\n",
    "\n",
    "        # persist the Pandas dataframe to database/predictions_summary/\n",
    "        predictions_summary_df.to_pickle(summary_pickle_path)\n",
    "        print('Persisted Pandas dataframe for predictions summary of {}_{:02d}_{}_{}'.format(model_id,\n",
    "                                                                                             execution,\n",
    "                                                                                             dataset,\n",
    "                                                                                             inference))\n"
   ]
  },
  {
   "cell_type": "code",
   "execution_count": 75,
   "metadata": {},
   "outputs": [
    {
     "data": {
      "text/html": [
       "<div>\n",
       "<style scoped>\n",
       "    .dataframe tbody tr th:only-of-type {\n",
       "        vertical-align: middle;\n",
       "    }\n",
       "\n",
       "    .dataframe tbody tr th {\n",
       "        vertical-align: top;\n",
       "    }\n",
       "\n",
       "    .dataframe thead th {\n",
       "        text-align: right;\n",
       "    }\n",
       "</style>\n",
       "<table border=\"1\" class=\"dataframe\">\n",
       "  <thead>\n",
       "    <tr style=\"text-align: right;\">\n",
       "      <th></th>\n",
       "      <th>model_id</th>\n",
       "      <th>execution</th>\n",
       "      <th>dataset</th>\n",
       "      <th>inference</th>\n",
       "      <th>customer_id</th>\n",
       "      <th>string_timestamps</th>\n",
       "      <th>predictions</th>\n",
       "      <th>targets</th>\n",
       "      <th>mae</th>\n",
       "      <th>nd</th>\n",
       "      <th>rmse</th>\n",
       "      <th>nrmse</th>\n",
       "      <th>smape</th>\n",
       "    </tr>\n",
       "  </thead>\n",
       "  <tbody>\n",
       "    <tr>\n",
       "      <th>0</th>\n",
       "      <td>BSCTRFM_TPU_014</td>\n",
       "      <td>4</td>\n",
       "      <td>test</td>\n",
       "      <td>024</td>\n",
       "      <td>MT_321</td>\n",
       "      <td>[2014-09-01 00:00:00, 2014-09-01 01:00:00, 201...</td>\n",
       "      <td>[88.3076171875, 78.01968383789062, 76.50577545...</td>\n",
       "      <td>[82.37394957983194, 76.06569900687546, 76.2547...</td>\n",
       "      <td>8.850989</td>\n",
       "      <td>0.073609</td>\n",
       "      <td>11.166868</td>\n",
       "      <td>0.092870</td>\n",
       "      <td>0.065336</td>\n",
       "    </tr>\n",
       "    <tr>\n",
       "      <th>1</th>\n",
       "      <td>BSCTRFM_TPU_014</td>\n",
       "      <td>4</td>\n",
       "      <td>test</td>\n",
       "      <td>024</td>\n",
       "      <td>MT_321</td>\n",
       "      <td>[2014-09-01 01:00:00, 2014-09-01 02:00:00, 201...</td>\n",
       "      <td>[75.10681915283203, 69.64851379394531, 67.7572...</td>\n",
       "      <td>[76.06569900687546, 76.25477463712757, 69.7593...</td>\n",
       "      <td>8.105304</td>\n",
       "      <td>0.067372</td>\n",
       "      <td>10.486399</td>\n",
       "      <td>0.087164</td>\n",
       "      <td>0.065640</td>\n",
       "    </tr>\n",
       "    <tr>\n",
       "      <th>2</th>\n",
       "      <td>BSCTRFM_TPU_014</td>\n",
       "      <td>4</td>\n",
       "      <td>test</td>\n",
       "      <td>024</td>\n",
       "      <td>MT_321</td>\n",
       "      <td>[2014-09-01 02:00:00, 2014-09-01 03:00:00, 201...</td>\n",
       "      <td>[71.50824737548828, 67.32380676269531, 63.4030...</td>\n",
       "      <td>[76.25477463712757, 69.75935828877004, 68.8006...</td>\n",
       "      <td>8.422953</td>\n",
       "      <td>0.069943</td>\n",
       "      <td>10.622921</td>\n",
       "      <td>0.088211</td>\n",
       "      <td>0.064843</td>\n",
       "    </tr>\n",
       "    <tr>\n",
       "      <th>3</th>\n",
       "      <td>BSCTRFM_TPU_014</td>\n",
       "      <td>4</td>\n",
       "      <td>test</td>\n",
       "      <td>024</td>\n",
       "      <td>MT_321</td>\n",
       "      <td>[2014-09-01 03:00:00, 2014-09-01 04:00:00, 201...</td>\n",
       "      <td>[71.019775390625, 67.63922882080078, 63.755115...</td>\n",
       "      <td>[69.75935828877004, 68.80061115355232, 68.6115...</td>\n",
       "      <td>9.375288</td>\n",
       "      <td>0.077841</td>\n",
       "      <td>12.232538</td>\n",
       "      <td>0.101564</td>\n",
       "      <td>0.069089</td>\n",
       "    </tr>\n",
       "    <tr>\n",
       "      <th>4</th>\n",
       "      <td>BSCTRFM_TPU_014</td>\n",
       "      <td>4</td>\n",
       "      <td>test</td>\n",
       "      <td>024</td>\n",
       "      <td>MT_321</td>\n",
       "      <td>[2014-09-01 04:00:00, 2014-09-01 05:00:00, 201...</td>\n",
       "      <td>[63.527626037597656, 61.554813385009766, 73.33...</td>\n",
       "      <td>[68.80061115355232, 68.61153552330026, 77.5954...</td>\n",
       "      <td>10.847628</td>\n",
       "      <td>0.090065</td>\n",
       "      <td>15.331624</td>\n",
       "      <td>0.127295</td>\n",
       "      <td>0.078591</td>\n",
       "    </tr>\n",
       "    <tr>\n",
       "      <th>...</th>\n",
       "      <td>...</td>\n",
       "      <td>...</td>\n",
       "      <td>...</td>\n",
       "      <td>...</td>\n",
       "      <td>...</td>\n",
       "      <td>...</td>\n",
       "      <td>...</td>\n",
       "      <td>...</td>\n",
       "      <td>...</td>\n",
       "      <td>...</td>\n",
       "      <td>...</td>\n",
       "      <td>...</td>\n",
       "      <td>...</td>\n",
       "    </tr>\n",
       "    <tr>\n",
       "      <th>140</th>\n",
       "      <td>BSCTRFM_TPU_014</td>\n",
       "      <td>4</td>\n",
       "      <td>test</td>\n",
       "      <td>024</td>\n",
       "      <td>MT_321</td>\n",
       "      <td>[2014-09-06 20:00:00, 2014-09-06 21:00:00, 201...</td>\n",
       "      <td>[137.6163330078125, 122.4196548461914, 98.6898...</td>\n",
       "      <td>[136.74560733384274, 137.320473644003, 111.495...</td>\n",
       "      <td>13.294221</td>\n",
       "      <td>0.103773</td>\n",
       "      <td>19.254165</td>\n",
       "      <td>0.150296</td>\n",
       "      <td>0.098566</td>\n",
       "    </tr>\n",
       "    <tr>\n",
       "      <th>141</th>\n",
       "      <td>BSCTRFM_TPU_014</td>\n",
       "      <td>4</td>\n",
       "      <td>test</td>\n",
       "      <td>024</td>\n",
       "      <td>MT_321</td>\n",
       "      <td>[2014-09-06 21:00:00, 2014-09-06 22:00:00, 201...</td>\n",
       "      <td>[117.67369842529297, 95.13550567626953, 79.293...</td>\n",
       "      <td>[137.320473644003, 111.4954163483576, 91.92704...</td>\n",
       "      <td>13.257244</td>\n",
       "      <td>0.103356</td>\n",
       "      <td>18.850493</td>\n",
       "      <td>0.146962</td>\n",
       "      <td>0.098271</td>\n",
       "    </tr>\n",
       "    <tr>\n",
       "      <th>142</th>\n",
       "      <td>BSCTRFM_TPU_014</td>\n",
       "      <td>4</td>\n",
       "      <td>test</td>\n",
       "      <td>024</td>\n",
       "      <td>MT_321</td>\n",
       "      <td>[2014-09-06 22:00:00, 2014-09-06 23:00:00, 201...</td>\n",
       "      <td>[101.82263946533203, 85.4152603149414, 82.7541...</td>\n",
       "      <td>[111.4954163483576, 91.92704354469063, 84.2838...</td>\n",
       "      <td>12.877235</td>\n",
       "      <td>0.100368</td>\n",
       "      <td>18.847192</td>\n",
       "      <td>0.146899</td>\n",
       "      <td>0.092586</td>\n",
       "    </tr>\n",
       "    <tr>\n",
       "      <th>143</th>\n",
       "      <td>BSCTRFM_TPU_014</td>\n",
       "      <td>4</td>\n",
       "      <td>test</td>\n",
       "      <td>024</td>\n",
       "      <td>MT_321</td>\n",
       "      <td>[2014-09-06 23:00:00, 2014-09-07 00:00:00, 201...</td>\n",
       "      <td>[88.86087799072266, 84.66204833984375, 79.7032...</td>\n",
       "      <td>[91.92704354469063, 84.28380443086326, 79.5072...</td>\n",
       "      <td>12.642913</td>\n",
       "      <td>0.098375</td>\n",
       "      <td>19.486085</td>\n",
       "      <td>0.151622</td>\n",
       "      <td>0.091951</td>\n",
       "    </tr>\n",
       "    <tr>\n",
       "      <th>144</th>\n",
       "      <td>BSCTRFM_TPU_014</td>\n",
       "      <td>4</td>\n",
       "      <td>test</td>\n",
       "      <td>024</td>\n",
       "      <td>MT_321</td>\n",
       "      <td>[2014-09-07 00:00:00, 2014-09-07 01:00:00, 201...</td>\n",
       "      <td>[83.22797393798828, 80.95112609863281, 76.9473...</td>\n",
       "      <td>[84.28380443086326, 79.50725744843393, 83.5179...</td>\n",
       "      <td>12.194302</td>\n",
       "      <td>0.094808</td>\n",
       "      <td>18.862945</td>\n",
       "      <td>0.146655</td>\n",
       "      <td>0.089426</td>\n",
       "    </tr>\n",
       "  </tbody>\n",
       "</table>\n",
       "<p>145 rows × 13 columns</p>\n",
       "</div>"
      ],
      "text/plain": [
       "            model_id execution dataset inference customer_id  \\\n",
       "0    BSCTRFM_TPU_014         4    test       024      MT_321   \n",
       "1    BSCTRFM_TPU_014         4    test       024      MT_321   \n",
       "2    BSCTRFM_TPU_014         4    test       024      MT_321   \n",
       "3    BSCTRFM_TPU_014         4    test       024      MT_321   \n",
       "4    BSCTRFM_TPU_014         4    test       024      MT_321   \n",
       "..               ...       ...     ...       ...         ...   \n",
       "140  BSCTRFM_TPU_014         4    test       024      MT_321   \n",
       "141  BSCTRFM_TPU_014         4    test       024      MT_321   \n",
       "142  BSCTRFM_TPU_014         4    test       024      MT_321   \n",
       "143  BSCTRFM_TPU_014         4    test       024      MT_321   \n",
       "144  BSCTRFM_TPU_014         4    test       024      MT_321   \n",
       "\n",
       "                                     string_timestamps  \\\n",
       "0    [2014-09-01 00:00:00, 2014-09-01 01:00:00, 201...   \n",
       "1    [2014-09-01 01:00:00, 2014-09-01 02:00:00, 201...   \n",
       "2    [2014-09-01 02:00:00, 2014-09-01 03:00:00, 201...   \n",
       "3    [2014-09-01 03:00:00, 2014-09-01 04:00:00, 201...   \n",
       "4    [2014-09-01 04:00:00, 2014-09-01 05:00:00, 201...   \n",
       "..                                                 ...   \n",
       "140  [2014-09-06 20:00:00, 2014-09-06 21:00:00, 201...   \n",
       "141  [2014-09-06 21:00:00, 2014-09-06 22:00:00, 201...   \n",
       "142  [2014-09-06 22:00:00, 2014-09-06 23:00:00, 201...   \n",
       "143  [2014-09-06 23:00:00, 2014-09-07 00:00:00, 201...   \n",
       "144  [2014-09-07 00:00:00, 2014-09-07 01:00:00, 201...   \n",
       "\n",
       "                                           predictions  \\\n",
       "0    [88.3076171875, 78.01968383789062, 76.50577545...   \n",
       "1    [75.10681915283203, 69.64851379394531, 67.7572...   \n",
       "2    [71.50824737548828, 67.32380676269531, 63.4030...   \n",
       "3    [71.019775390625, 67.63922882080078, 63.755115...   \n",
       "4    [63.527626037597656, 61.554813385009766, 73.33...   \n",
       "..                                                 ...   \n",
       "140  [137.6163330078125, 122.4196548461914, 98.6898...   \n",
       "141  [117.67369842529297, 95.13550567626953, 79.293...   \n",
       "142  [101.82263946533203, 85.4152603149414, 82.7541...   \n",
       "143  [88.86087799072266, 84.66204833984375, 79.7032...   \n",
       "144  [83.22797393798828, 80.95112609863281, 76.9473...   \n",
       "\n",
       "                                               targets        mae        nd  \\\n",
       "0    [82.37394957983194, 76.06569900687546, 76.2547...   8.850989  0.073609   \n",
       "1    [76.06569900687546, 76.25477463712757, 69.7593...   8.105304  0.067372   \n",
       "2    [76.25477463712757, 69.75935828877004, 68.8006...   8.422953  0.069943   \n",
       "3    [69.75935828877004, 68.80061115355232, 68.6115...   9.375288  0.077841   \n",
       "4    [68.80061115355232, 68.61153552330026, 77.5954...  10.847628  0.090065   \n",
       "..                                                 ...        ...       ...   \n",
       "140  [136.74560733384274, 137.320473644003, 111.495...  13.294221  0.103773   \n",
       "141  [137.320473644003, 111.4954163483576, 91.92704...  13.257244  0.103356   \n",
       "142  [111.4954163483576, 91.92704354469063, 84.2838...  12.877235  0.100368   \n",
       "143  [91.92704354469063, 84.28380443086326, 79.5072...  12.642913  0.098375   \n",
       "144  [84.28380443086326, 79.50725744843393, 83.5179...  12.194302  0.094808   \n",
       "\n",
       "          rmse     nrmse     smape  \n",
       "0    11.166868  0.092870  0.065336  \n",
       "1    10.486399  0.087164  0.065640  \n",
       "2    10.622921  0.088211  0.064843  \n",
       "3    12.232538  0.101564  0.069089  \n",
       "4    15.331624  0.127295  0.078591  \n",
       "..         ...       ...       ...  \n",
       "140  19.254165  0.150296  0.098566  \n",
       "141  18.850493  0.146962  0.098271  \n",
       "142  18.847192  0.146899  0.092586  \n",
       "143  19.486085  0.151622  0.091951  \n",
       "144  18.862945  0.146655  0.089426  \n",
       "\n",
       "[145 rows x 13 columns]"
      ]
     },
     "execution_count": 75,
     "metadata": {},
     "output_type": "execute_result"
    }
   ],
   "source": [
    "predictions_detail[customer_id]"
   ]
  },
  {
   "cell_type": "code",
   "execution_count": 76,
   "metadata": {},
   "outputs": [
    {
     "data": {
      "text/html": [
       "<div>\n",
       "<style scoped>\n",
       "    .dataframe tbody tr th:only-of-type {\n",
       "        vertical-align: middle;\n",
       "    }\n",
       "\n",
       "    .dataframe tbody tr th {\n",
       "        vertical-align: top;\n",
       "    }\n",
       "\n",
       "    .dataframe thead th {\n",
       "        text-align: right;\n",
       "    }\n",
       "</style>\n",
       "<table border=\"1\" class=\"dataframe\">\n",
       "  <thead>\n",
       "    <tr style=\"text-align: right;\">\n",
       "      <th></th>\n",
       "      <th>model_id</th>\n",
       "      <th>execution</th>\n",
       "      <th>dataset</th>\n",
       "      <th>inference</th>\n",
       "      <th>count</th>\n",
       "      <th>customer_id</th>\n",
       "      <th>mae</th>\n",
       "      <th>nd</th>\n",
       "      <th>rmse</th>\n",
       "      <th>nrmse</th>\n",
       "      <th>smape</th>\n",
       "    </tr>\n",
       "  </thead>\n",
       "  <tbody>\n",
       "    <tr>\n",
       "      <th>0</th>\n",
       "      <td>BSCTRFM_TPU_014</td>\n",
       "      <td>4</td>\n",
       "      <td>test</td>\n",
       "      <td>024</td>\n",
       "      <td>145</td>\n",
       "      <td>MT_321</td>\n",
       "      <td>7.749949</td>\n",
       "      <td>0.063973</td>\n",
       "      <td>10.79609</td>\n",
       "      <td>0.089021</td>\n",
       "      <td>0.061606</td>\n",
       "    </tr>\n",
       "  </tbody>\n",
       "</table>\n",
       "</div>"
      ],
      "text/plain": [
       "          model_id  execution dataset inference  count customer_id       mae  \\\n",
       "0  BSCTRFM_TPU_014          4    test       024    145      MT_321  7.749949   \n",
       "\n",
       "         nd      rmse     nrmse     smape  \n",
       "0  0.063973  10.79609  0.089021  0.061606  "
      ]
     },
     "execution_count": 76,
     "metadata": {},
     "output_type": "execute_result"
    }
   ],
   "source": [
    "predictions_summary[customer_id]"
   ]
  },
  {
   "cell_type": "code",
   "execution_count": 77,
   "metadata": {},
   "outputs": [],
   "source": [
    "# plot metrics for the set of predictions"
   ]
  },
  {
   "cell_type": "code",
   "execution_count": 78,
   "metadata": {},
   "outputs": [
    {
     "data": {
      "text/html": [
       "\n",
       "\n",
       "\n",
       "\n",
       "\n",
       "\n",
       "  <div class=\"bk-root\" id=\"5836b9c2-f28c-487e-87a3-ffcff4ab5e1f\" data-root-id=\"1848\"></div>\n"
      ]
     },
     "metadata": {},
     "output_type": "display_data"
    },
    {
     "data": {
      "application/javascript": [
       "(function(root) {\n",
       "  function embed_document(root) {\n",
       "    \n",
       "  var docs_json = {\"92b5fd8d-cd52-4d45-9ac9-250c7a1fde4c\":{\"roots\":{\"references\":[{\"attributes\":{\"below\":[{\"id\":\"1859\",\"type\":\"LinearAxis\"}],\"center\":[{\"id\":\"1863\",\"type\":\"Grid\"},{\"id\":\"1868\",\"type\":\"Grid\"},{\"id\":\"1893\",\"type\":\"Legend\"}],\"left\":[{\"id\":\"1864\",\"type\":\"LinearAxis\"}],\"plot_height\":320,\"plot_width\":960,\"renderers\":[{\"id\":\"1885\",\"type\":\"GlyphRenderer\"},{\"id\":\"1898\",\"type\":\"GlyphRenderer\"}],\"title\":{\"id\":\"1849\",\"type\":\"Title\"},\"toolbar\":{\"id\":\"1875\",\"type\":\"Toolbar\"},\"x_range\":{\"id\":\"1851\",\"type\":\"DataRange1d\"},\"x_scale\":{\"id\":\"1855\",\"type\":\"LinearScale\"},\"y_range\":{\"id\":\"1853\",\"type\":\"DataRange1d\"},\"y_scale\":{\"id\":\"1857\",\"type\":\"LinearScale\"}},\"id\":\"1848\",\"subtype\":\"Figure\",\"type\":\"Plot\"},{\"attributes\":{\"ticker\":{\"id\":\"1860\",\"type\":\"BasicTicker\"}},\"id\":\"1863\",\"type\":\"Grid\"},{\"attributes\":{\"axis_label\":\"Test Dataset Row Index\",\"formatter\":{\"id\":\"1891\",\"type\":\"BasicTickFormatter\"},\"ticker\":{\"id\":\"1860\",\"type\":\"BasicTicker\"}},\"id\":\"1859\",\"type\":\"LinearAxis\"},{\"attributes\":{},\"id\":\"1889\",\"type\":\"BasicTickFormatter\"},{\"attributes\":{\"callback\":null},\"id\":\"1851\",\"type\":\"DataRange1d\"},{\"attributes\":{\"line_alpha\":0.1,\"line_color\":\"#1f77b4\",\"x\":{\"field\":\"x\"},\"y\":{\"field\":\"y\"}},\"id\":\"1897\",\"type\":\"Line\"},{\"attributes\":{\"text\":\"MAE and RMSE over the test set for MT_321\"},\"id\":\"1849\",\"type\":\"Title\"},{\"attributes\":{\"data_source\":{\"id\":\"1895\",\"type\":\"ColumnDataSource\"},\"glyph\":{\"id\":\"1896\",\"type\":\"Line\"},\"hover_glyph\":null,\"muted_glyph\":null,\"nonselection_glyph\":{\"id\":\"1897\",\"type\":\"Line\"},\"selection_glyph\":null,\"view\":{\"id\":\"1899\",\"type\":\"CDSView\"}},\"id\":\"1898\",\"type\":\"GlyphRenderer\"},{\"attributes\":{},\"id\":\"1874\",\"type\":\"HelpTool\"},{\"attributes\":{\"dimension\":1,\"ticker\":{\"id\":\"1865\",\"type\":\"BasicTicker\"}},\"id\":\"1868\",\"type\":\"Grid\"},{\"attributes\":{\"source\":{\"id\":\"1895\",\"type\":\"ColumnDataSource\"}},\"id\":\"1899\",\"type\":\"CDSView\"},{\"attributes\":{\"bottom_units\":\"screen\",\"fill_alpha\":{\"value\":0.5},\"fill_color\":{\"value\":\"lightgrey\"},\"left_units\":\"screen\",\"level\":\"overlay\",\"line_alpha\":{\"value\":1.0},\"line_color\":{\"value\":\"black\"},\"line_dash\":[4,4],\"line_width\":{\"value\":2},\"render_mode\":\"css\",\"right_units\":\"screen\",\"top_units\":\"screen\"},\"id\":\"1892\",\"type\":\"BoxAnnotation\"},{\"attributes\":{\"data_source\":{\"id\":\"1882\",\"type\":\"ColumnDataSource\"},\"glyph\":{\"id\":\"1883\",\"type\":\"Line\"},\"hover_glyph\":null,\"muted_glyph\":null,\"nonselection_glyph\":{\"id\":\"1884\",\"type\":\"Line\"},\"selection_glyph\":null,\"view\":{\"id\":\"1886\",\"type\":\"CDSView\"}},\"id\":\"1885\",\"type\":\"GlyphRenderer\"},{\"attributes\":{},\"id\":\"1865\",\"type\":\"BasicTicker\"},{\"attributes\":{\"line_alpha\":0.1,\"line_color\":\"#1f77b4\",\"x\":{\"field\":\"x\"},\"y\":{\"field\":\"y\"}},\"id\":\"1884\",\"type\":\"Line\"},{\"attributes\":{},\"id\":\"1891\",\"type\":\"BasicTickFormatter\"},{\"attributes\":{},\"id\":\"1983\",\"type\":\"UnionRenderers\"},{\"attributes\":{},\"id\":\"1855\",\"type\":\"LinearScale\"},{\"attributes\":{\"callback\":null,\"data\":{\"x\":[0,1,2,3,4,5,6,7,8,9,10,11,12,13,14,15,16,17,18,19,20,21,22,23,24,25,26,27,28,29,30,31,32,33,34,35,36,37,38,39,40,41,42,43,44,45,46,47,48,49,50,51,52,53,54,55,56,57,58,59,60,61,62,63,64,65,66,67,68,69,70,71,72,73,74,75,76,77,78,79,80,81,82,83,84,85,86,87,88,89,90,91,92,93,94,95,96,97,98,99,100,101,102,103,104,105,106,107,108,109,110,111,112,113,114,115,116,117,118,119,120,121,122,123,124,125,126,127,128,129,130,131,132,133,134,135,136,137,138,139,140,141,142,143,144],\"y\":{\"__ndarray__\":\"QMB94bSzIUDloARf6jUgQPf1jkmN2CBA6HsltyXAIkA9Xy1I/LElQGU5iVHqfh1AOwz1V/00H0CNJEmSs88iQNVWFPhgSyBA+EfQw/jfIUBI2S/uYksdQJHvyoHVwB5AKE8nQ4o2IUD9aDpARRMeQPn//1/o4iJAG9M24arnIEAdzsqPCwIhQGdCAyJ+iiJAFjASf+HMIEBXT1mKSR0dQI1KH2ARVyBAD6ItnKSgH0BHcw/lzkYhQPDhejWk9CZA6DwEeQGiHUDPFZ5RNTQkQEwAZG7H3x5AaxCcCo8+IECDWJ41wGQeQNRp/753dSNAbHFTAEHsHEBPaKdoOUMhQCcKCorJTyFAO+wdE5y+HUBXP1OVwdAiQBDuC9+7wiBAAGy4hXbVIEDHeENTGeYfQHOK0yU4Lh9A3elkrGGdGkBlfLvcqLkbQBPo2i7d3RxARVwTgSpcGUDb6sJ+1ZkZQJ0Hu23kgBVAyv49n2tFEUB0kiRJEF0OQGEwRKZ4xRFAWlTFG0vxEUAj/wi6vbQTQNWzvW7AIhJAsFgCBBzJEkCIs4tHrQsRQBZ9GS/q6xJAGHe5FW3+EEBpLxj7hnwUQJhE7m9OtxFAp8XmNKYcD0BLes0QJo4RQHyPClJ/zAtAHjZAccKqE0CZfnTD4rcQQH+495gfJQ9AVxFh6c2uDUAxQE257agJQCffYJ7cIQ1A/BuX3kFKD0CWk7FEof0RQD/QgzYqUxNAiyZpBVI0EEB+GFE8ssoSQHs/7KgspxBAiEpURdjpDEDVM1gh9zwNQPX3Sk4b3AxA85NHOkCqEED3WrtqPYISQOAZqVK18A5AD78fj2puDUCFc3NzRkMLQBfvNIxPoxBAbe1DQn2gDUDBh7kuZqsQQLXREDJZWhNAqP5A3UcCDkBN+aIki1kPQDBnflsi5A1ACNbpCxZgEEBnLxj7n28VQLMmaQVjbxxA8N7KqAPxHUDjSoPu6T4fQNnARd41WiFAd9omtLQ7IUD3rYy+m5YiQM32IcHXGiNAZ9ETsCSsIUAjLot/psQkQJmn+r2btSBAFLkmgrdQJEBEHcBr9uYjQMVFfhmO6SRAG2zqzOLxJkBhiUOM9pQiQKmylAFQJiJAZSZsww9XJkAl75vYWRcpQMnmG2yt4ilA5JLsNb3nJ0AVReuxM4gnQBAkgfXDHypAp5+pGjxUJ0D79uybCoAnQNtKHKK6XSFA8tt+yhMHJUCHWZXbHR4jQNTXPmRV4iJAkMzZhQTxI0AfsdW+NCIkQEjK7ncIQyNAabQeHw4IIECnK24qEvUgQBY07vYQLSFAr/r9eKHrIUBLSDSSxXciQHsKoL/sZSNAfKzNGwHuI0D4hJ+X6jskQHiS7yPWFCBAuOUkRiIVI0BMJmwDU98hQOnRdGCZvyJAaAOt7o2FIkAd4kWwvMYhQANWT9moDiRA8xdXmKvxJkD5nCi3sCsnQJUyyKem7ydAOORlY+W/JkDoYLfVXOAmQNyeFiOklipAqPqWbLWDKkAg1Vb0JMEpQKtSbeUrSSlA9WBQiXtjKEA=\",\"dtype\":\"float64\",\"shape\":[145]}},\"selected\":{\"id\":\"1905\",\"type\":\"Selection\"},\"selection_policy\":{\"id\":\"1906\",\"type\":\"UnionRenderers\"}},\"id\":\"1882\",\"type\":\"ColumnDataSource\"},{\"attributes\":{\"overlay\":{\"id\":\"1892\",\"type\":\"BoxAnnotation\"}},\"id\":\"1871\",\"type\":\"BoxZoomTool\"},{\"attributes\":{\"label\":{\"value\":\"RMSE\"},\"renderers\":[{\"id\":\"1898\",\"type\":\"GlyphRenderer\"}]},\"id\":\"1908\",\"type\":\"LegendItem\"},{\"attributes\":{},\"id\":\"1905\",\"type\":\"Selection\"},{\"attributes\":{\"callback\":null},\"id\":\"1853\",\"type\":\"DataRange1d\"},{\"attributes\":{\"source\":{\"id\":\"1882\",\"type\":\"ColumnDataSource\"}},\"id\":\"1886\",\"type\":\"CDSView\"},{\"attributes\":{\"label\":{\"value\":\"MAE\"},\"renderers\":[{\"id\":\"1885\",\"type\":\"GlyphRenderer\"}]},\"id\":\"1894\",\"type\":\"LegendItem\"},{\"attributes\":{},\"id\":\"1857\",\"type\":\"LinearScale\"},{\"attributes\":{\"items\":[{\"id\":\"1894\",\"type\":\"LegendItem\"},{\"id\":\"1908\",\"type\":\"LegendItem\"}]},\"id\":\"1893\",\"type\":\"Legend\"},{\"attributes\":{\"line_color\":\"orange\",\"x\":{\"field\":\"x\"},\"y\":{\"field\":\"y\"}},\"id\":\"1883\",\"type\":\"Line\"},{\"attributes\":{\"callback\":null,\"data\":{\"x\":[0,1,2,3,4,5,6,7,8,9,10,11,12,13,14,15,16,17,18,19,20,21,22,23,24,25,26,27,28,29,30,31,32,33,34,35,36,37,38,39,40,41,42,43,44,45,46,47,48,49,50,51,52,53,54,55,56,57,58,59,60,61,62,63,64,65,66,67,68,69,70,71,72,73,74,75,76,77,78,79,80,81,82,83,84,85,86,87,88,89,90,91,92,93,94,95,96,97,98,99,100,101,102,103,104,105,106,107,108,109,110,111,112,113,114,115,116,117,118,119,120,121,122,123,124,125,126,127,128,129,130,131,132,133,134,135,136,137,138,139,140,141,142,143,144],\"y\":{\"__ndarray__\":\"o/Rcqm9VJkCb6lU/CfkkQMcjwHzvPiVAFz2gNA93KEAiSgyfyqkuQKyN9/PAcSNAQxcgmhhcI0D8Y8pidSkoQExH2f18MyVA/JX+VUJwJkBXhdAh9aciQFaoNS/QlSRAIboNqP4wJkDbdSSjcz8kQOPFxDQhaCdAnx09xFIPJUAKSl8H8EQnQGPSvzKYiypAY3LRcjBIKUD+U9Oi9fslQMp/HWP1ByZAoQ26yiWmJ0C03ELfiNcmQKS0cv0hJi5Ayc4rrfdnJkCdRRQIHJsoQB8pDHjhrydAysea2yaLJ0B+npZVCCQmQD2j2XqZFCtANIjjLES9JUDCpqPfON4nQN5p3Zq5tihA1xd6yl7UJUC2ZDS6u8koQEb1mhzE9yZAXPRBVn/iKECEbvN03BYnQGKbDbUn9SZAFFIZc8KAJUCmiOzfC90kQKb45NoguSFAQSFGumVzHkDO2ZB+iccdQP2YmHu9FxpAdc4DUoQsF0Ctf0GzO2kTQLlvlLsTuxhAI70oZBMhF0AXGZUw5oQYQFWgyA+9URdA+iWkhFXPF0DXA+w8d+4VQBOoTwqTcxhAc+pCsrILFEAQKn86KA8YQJMLmtBg+hRAXrxqPx2gE0BwG1t7B2MUQIN0sn+WtBFAK8GCTuZcGEDysYEizlQWQCNYTpiMqxNAaiOnB2iTE0CzrjT6yoYPQCmXf0IJvxJAPr8oW6zZFEAwl1z1M04WQBeSrof84BpArDu6GslFE0Dq3MHFX7cXQDNcFF79YhZAzlizC5T+EkABIXKEX4UTQIU3d48YfRNAslDmWZotFUA7okGQSUYZQIDAO3yHDRNAW0srsei6E0AEIqWsCvASQFcX3JWYChRAi+y61GG2EkAI5dvNY+0UQNSUvzuFLBhAdCBM/Dv8EkCmJJOf4u8UQHyq06MUnhNACHZ0mIlbE0DFZAl7wtIiQMAvOH6qaitA0xmtIGrqLEB9q/D8jTEvQFiEOS28njBAbgKh6OIKL0CKZQaULRAwQB0GxARQ7jBA+I0sXZZwL0DxDY0MYP4vQBQ8Ma2gAS9Akqx10zydMUDEiqJv2IUxQFXozxYKezBAbipe6r+rMkCG94RJ3pIwQI2fA9Vpjy5ASPf2ovCnMECShIOasJQxQCRamQzGaDJACEKSKU7oMUB8fsuzA74xQGHSREOCLTJALVqowzIlMUAn0S+KB24uQNSkfBNUrSVAsdPsjGWzJkD8pZ2DCkEnQNZjg0myASdAsde1KrbXJ0BhhKdhOdwnQChnO9yTjyZALlXJRwDII0AQXasu1qUkQFyihqKdRSVA0ZVObZNyJkB12NjjxtolQMwSgDr3qCdA7/qVMWYqJ0D2Oq28lZImQBfNWaUDsiNAFQd76IxsJUDuG+IfhCglQDXWqkH5riVAykT/Tjv1JECaFUTASMkkQIz8Up9HUSlAbeyrwgn6MUDkfrQAeG4yQMyCY+yO+TBANyhFacjLMUDsIUlH2OUxQG1PJP0QQTNAh+o44rnZMkBiwFGa4dgyQLOzSRJwfDNAvXWV+uncMkA=\",\"dtype\":\"float64\",\"shape\":[145]}},\"selected\":{\"id\":\"1982\",\"type\":\"Selection\"},\"selection_policy\":{\"id\":\"1983\",\"type\":\"UnionRenderers\"}},\"id\":\"1895\",\"type\":\"ColumnDataSource\"},{\"attributes\":{\"line_color\":\"green\",\"x\":{\"field\":\"x\"},\"y\":{\"field\":\"y\"}},\"id\":\"1896\",\"type\":\"Line\"},{\"attributes\":{},\"id\":\"1869\",\"type\":\"PanTool\"},{\"attributes\":{},\"id\":\"1872\",\"type\":\"SaveTool\"},{\"attributes\":{},\"id\":\"1873\",\"type\":\"ResetTool\"},{\"attributes\":{},\"id\":\"1870\",\"type\":\"WheelZoomTool\"},{\"attributes\":{},\"id\":\"1906\",\"type\":\"UnionRenderers\"},{\"attributes\":{},\"id\":\"1982\",\"type\":\"Selection\"},{\"attributes\":{\"active_drag\":\"auto\",\"active_inspect\":\"auto\",\"active_multi\":null,\"active_scroll\":\"auto\",\"active_tap\":\"auto\",\"tools\":[{\"id\":\"1869\",\"type\":\"PanTool\"},{\"id\":\"1870\",\"type\":\"WheelZoomTool\"},{\"id\":\"1871\",\"type\":\"BoxZoomTool\"},{\"id\":\"1872\",\"type\":\"SaveTool\"},{\"id\":\"1873\",\"type\":\"ResetTool\"},{\"id\":\"1874\",\"type\":\"HelpTool\"}]},\"id\":\"1875\",\"type\":\"Toolbar\"},{\"attributes\":{},\"id\":\"1860\",\"type\":\"BasicTicker\"},{\"attributes\":{\"axis_label\":\"Error\",\"formatter\":{\"id\":\"1889\",\"type\":\"BasicTickFormatter\"},\"ticker\":{\"id\":\"1865\",\"type\":\"BasicTicker\"}},\"id\":\"1864\",\"type\":\"LinearAxis\"}],\"root_ids\":[\"1848\"]},\"title\":\"Bokeh Application\",\"version\":\"1.4.0\"}};\n",
       "  var render_items = [{\"docid\":\"92b5fd8d-cd52-4d45-9ac9-250c7a1fde4c\",\"roots\":{\"1848\":\"5836b9c2-f28c-487e-87a3-ffcff4ab5e1f\"}}];\n",
       "  root.Bokeh.embed.embed_items_notebook(docs_json, render_items);\n",
       "\n",
       "  }\n",
       "  if (root.Bokeh !== undefined) {\n",
       "    embed_document(root);\n",
       "  } else {\n",
       "    var attempts = 0;\n",
       "    var timer = setInterval(function(root) {\n",
       "      if (root.Bokeh !== undefined) {\n",
       "        clearInterval(timer);\n",
       "        embed_document(root);\n",
       "      } else {\n",
       "        attempts++;\n",
       "        if (attempts > 100) {\n",
       "          clearInterval(timer);\n",
       "          console.log(\"Bokeh: ERROR: Unable to run BokehJS code because BokehJS library is missing\");\n",
       "        }\n",
       "      }\n",
       "    }, 10, root)\n",
       "  }\n",
       "})(window);"
      ],
      "application/vnd.bokehjs_exec.v0+json": ""
     },
     "metadata": {
      "application/vnd.bokehjs_exec.v0+json": {
       "id": "1848"
      }
     },
     "output_type": "display_data"
    }
   ],
   "source": [
    "p = figure(title='MAE and RMSE over the test set for {}'.format(customer_id),\n",
    "           width=960,\n",
    "           height=320,\n",
    "           x_axis_label='Test Dataset Row Index',\n",
    "           y_axis_label='Error')\n",
    "\n",
    "p.line(x=predictions_detail[customer_id].index,\n",
    "       y=predictions_detail[customer_id]['mae'],\n",
    "       legend_label='MAE',\n",
    "       color='orange',\n",
    "       line_width=1)\n",
    "\n",
    "p.line(x=predictions_detail[customer_id].index,\n",
    "       y=predictions_detail[customer_id]['rmse'],\n",
    "       legend_label='RMSE',\n",
    "       color='green',\n",
    "       line_width=1)\n",
    "\n",
    "show(p)"
   ]
  },
  {
   "cell_type": "code",
   "execution_count": 79,
   "metadata": {},
   "outputs": [
    {
     "data": {
      "text/html": [
       "\n",
       "\n",
       "\n",
       "\n",
       "\n",
       "\n",
       "  <div class=\"bk-root\" id=\"fcf908b7-52e5-43e1-befd-f5e58bfc201a\" data-root-id=\"2045\"></div>\n"
      ]
     },
     "metadata": {},
     "output_type": "display_data"
    },
    {
     "data": {
      "application/javascript": [
       "(function(root) {\n",
       "  function embed_document(root) {\n",
       "    \n",
       "  var docs_json = {\"9586c868-c5e7-4b28-a026-901a6d357987\":{\"roots\":{\"references\":[{\"attributes\":{\"below\":[{\"id\":\"2056\",\"type\":\"LinearAxis\"}],\"center\":[{\"id\":\"2060\",\"type\":\"Grid\"},{\"id\":\"2065\",\"type\":\"Grid\"},{\"id\":\"2090\",\"type\":\"Legend\"}],\"left\":[{\"id\":\"2061\",\"type\":\"LinearAxis\"}],\"plot_height\":320,\"plot_width\":960,\"renderers\":[{\"id\":\"2082\",\"type\":\"GlyphRenderer\"},{\"id\":\"2095\",\"type\":\"GlyphRenderer\"},{\"id\":\"2109\",\"type\":\"GlyphRenderer\"}],\"title\":{\"id\":\"2046\",\"type\":\"Title\"},\"toolbar\":{\"id\":\"2072\",\"type\":\"Toolbar\"},\"x_range\":{\"id\":\"2048\",\"type\":\"DataRange1d\"},\"x_scale\":{\"id\":\"2052\",\"type\":\"LinearScale\"},\"y_range\":{\"id\":\"2050\",\"type\":\"DataRange1d\"},\"y_scale\":{\"id\":\"2054\",\"type\":\"LinearScale\"}},\"id\":\"2045\",\"subtype\":\"Figure\",\"type\":\"Plot\"},{\"attributes\":{\"items\":[{\"id\":\"2091\",\"type\":\"LegendItem\"},{\"id\":\"2105\",\"type\":\"LegendItem\"},{\"id\":\"2121\",\"type\":\"LegendItem\"}]},\"id\":\"2090\",\"type\":\"Legend\"},{\"attributes\":{},\"id\":\"2057\",\"type\":\"BasicTicker\"},{\"attributes\":{},\"id\":\"2208\",\"type\":\"UnionRenderers\"},{\"attributes\":{\"label\":{\"value\":\"SMAPE\"},\"renderers\":[{\"id\":\"2109\",\"type\":\"GlyphRenderer\"}]},\"id\":\"2121\",\"type\":\"LegendItem\"},{\"attributes\":{\"dimension\":1,\"ticker\":{\"id\":\"2062\",\"type\":\"BasicTicker\"}},\"id\":\"2065\",\"type\":\"Grid\"},{\"attributes\":{\"data_source\":{\"id\":\"2092\",\"type\":\"ColumnDataSource\"},\"glyph\":{\"id\":\"2093\",\"type\":\"Line\"},\"hover_glyph\":null,\"muted_glyph\":null,\"nonselection_glyph\":{\"id\":\"2094\",\"type\":\"Line\"},\"selection_glyph\":null,\"view\":{\"id\":\"2096\",\"type\":\"CDSView\"}},\"id\":\"2095\",\"type\":\"GlyphRenderer\"},{\"attributes\":{},\"id\":\"2062\",\"type\":\"BasicTicker\"},{\"attributes\":{\"label\":{\"value\":\"NRMSE\"},\"renderers\":[{\"id\":\"2095\",\"type\":\"GlyphRenderer\"}]},\"id\":\"2105\",\"type\":\"LegendItem\"},{\"attributes\":{\"callback\":null},\"id\":\"2048\",\"type\":\"DataRange1d\"},{\"attributes\":{},\"id\":\"2054\",\"type\":\"LinearScale\"},{\"attributes\":{},\"id\":\"2102\",\"type\":\"Selection\"},{\"attributes\":{},\"id\":\"2207\",\"type\":\"Selection\"},{\"attributes\":{\"callback\":null},\"id\":\"2050\",\"type\":\"DataRange1d\"},{\"attributes\":{},\"id\":\"2088\",\"type\":\"BasicTickFormatter\"},{\"attributes\":{\"axis_label\":\"Error\",\"formatter\":{\"id\":\"2086\",\"type\":\"BasicTickFormatter\"},\"ticker\":{\"id\":\"2062\",\"type\":\"BasicTicker\"}},\"id\":\"2061\",\"type\":\"LinearAxis\"},{\"attributes\":{\"callback\":null,\"data\":{\"x\":[0,1,2,3,4,5,6,7,8,9,10,11,12,13,14,15,16,17,18,19,20,21,22,23,24,25,26,27,28,29,30,31,32,33,34,35,36,37,38,39,40,41,42,43,44,45,46,47,48,49,50,51,52,53,54,55,56,57,58,59,60,61,62,63,64,65,66,67,68,69,70,71,72,73,74,75,76,77,78,79,80,81,82,83,84,85,86,87,88,89,90,91,92,93,94,95,96,97,98,99,100,101,102,103,104,105,106,107,108,109,110,111,112,113,114,115,116,117,118,119,120,121,122,123,124,125,126,127,128,129,130,131,132,133,134,135,136,137,138,139,140,141,142,143,144],\"y\":{\"__ndarray__\":\"Ld717UvGtz+jqootZFC2P/sedGsFlbY/BS5vSBgAuj8eWVIcNEvAP4VKO2IhqrQ/pq/GOT2OtD9jdMwX2pu5P1yFq2XWdbY/zA2ou7bNtz9t8MVM07SzPyGAIj7kwrU/fvmHA5hktz/fclK9onC1P+JIpsR4vrg/EDaY1xU7tj8E/wMXMbW4PzwyWgYB/Ls/BUV8skOQuj/0zkCNqRK3P4ALGDM6Grc/08wSpBfFuD+rwH2ySey3P2SVrRnKnb8/vNcVkIGBtz+JjwO959W5P+Oo5HRA4rg/7y0KVQG6uD+dzO3QrD+3Pxl4IGRgcrw/8x52JfjXtj9sHn4s7hK5P6lwvF/8+Lk/tMYUAbXbtj8oNlbNpAm6PyPQaP1QGbg/73Z/BTw1uj9rq4TpxUe4Py+IvaWkQbg/SXW8Qxi6tj/whdux+Se2P0Ah/aDOGLM/m+agBWR3sD9Yj0FgPB2wP+WDqo/KSKw/m7pgn2ohqT+b1pH9+gqlP7LXchLuz6o/PkiHizoOqT+hblanxY6qP4iTG0yCQqk/71IvUI7KqT+TLRZxIcSnPzBCa4sJgao/Cn77+ly8pT8Cm5kvghqqP67Jbk9HxKY/crFTaJxGpT/QYTrJqAqmPyMmAMgtI6M/xknQWCVSqj8dLB+tgCuoP3i3KfnwTqU/aSxFAnY4pT80EfSp1hChP+lW7uF4VqQ/03y+6w+epj+Fwj+EGE2oPxTILbuWRq0/qEtI5PQDpT9OsH9GxuOpP84BwQfidKg//YnqkoPEpD+vdIeZolilP0iARqbXTqU/8ce/hlMnpz+Zk4dc8Z6rP74j4xMm0KQ/MHTssyuQpT8EYxCmQbSkP4NFTzXX66U/sBT7ej55pD9E92amCv+mP+SffMT/lKo/sRDnYaHmpD+ugp0tDgmnPy7F2hWql6U/uYYUQW04pT+PnrK4vHW0P82uRegFKb0/xjU4GWyuvj/jbAiW1I7APxiUn0vEncE/dR3QGchywD/qwzR+HAHBP+++fcej6sE/bzPShn2fwD95FJ+OLejAP2snwZc8YcA/eyb10naYwj/+YIM7dX/CP/q717EMZME/1Np3JBmuwz/Ns8xI+XTBP3ToRUobCMA/gae8t2VuwT91LDEaD0nCP3jC5X9lHcM/cVSdQi6Kwj+s9BP63k/CPycRHIKTq8I/+tmPnjqmwT/yo4j3ZbO/P80PurQnErc/RQerW3lPuD+5dRMEas+4P1V0gi06qbg/GzH9gBGPuT8VjntEN465P2+N2J+oKbg/xs+MFdYutT+gn2YiwRm2Pz7uFU/UwrY/JmyFkRj9tz9epnMX9FC3P0JDVbo0NLk/8eMJu1meuD/IFvTClPq3PyVGKib92bQ/ECxck7qytj+spQw7eHm2P3gz2CLE/bY/ly/wTTM5tj9MD9rTegm2P8egBL/xgro/28ws+L96wj+pOU2C7d7CPyCLWNT0Z8E/sTgo/AIzwj8L8CFm3TDCP3uIxzvjPMM/6g1fKqPPwj9DxkTFmM3CP4HbfOxWaMM/C7mhkZXFwj8=\",\"dtype\":\"float64\",\"shape\":[145]}},\"selected\":{\"id\":\"2118\",\"type\":\"Selection\"},\"selection_policy\":{\"id\":\"2119\",\"type\":\"UnionRenderers\"}},\"id\":\"2092\",\"type\":\"ColumnDataSource\"},{\"attributes\":{},\"id\":\"2103\",\"type\":\"UnionRenderers\"},{\"attributes\":{\"ticker\":{\"id\":\"2057\",\"type\":\"BasicTicker\"}},\"id\":\"2060\",\"type\":\"Grid\"},{\"attributes\":{\"line_alpha\":0.1,\"line_color\":\"#1f77b4\",\"line_width\":2,\"x\":{\"field\":\"x\"},\"y\":{\"field\":\"y\"}},\"id\":\"2081\",\"type\":\"Line\"},{\"attributes\":{\"callback\":null,\"data\":{\"x\":[0,1,2,3,4,5,6,7,8,9,10,11,12,13,14,15,16,17,18,19,20,21,22,23,24,25,26,27,28,29,30,31,32,33,34,35,36,37,38,39,40,41,42,43,44,45,46,47,48,49,50,51,52,53,54,55,56,57,58,59,60,61,62,63,64,65,66,67,68,69,70,71,72,73,74,75,76,77,78,79,80,81,82,83,84,85,86,87,88,89,90,91,92,93,94,95,96,97,98,99,100,101,102,103,104,105,106,107,108,109,110,111,112,113,114,115,116,117,118,119,120,121,122,123,124,125,126,127,128,129,130,131,132,133,134,135,136,137,138,139,140,141,142,143,144],\"y\":{\"__ndarray__\":\"L5bR0hHYsj+a8CmGTj+xP93Yw/rK57E/yHTG3mDtsz/B+f/3hg63P8JrMgPFWK8/aZFXIT2RsD/tuHxtEvCzPz+ddQ0gQ7E/cXw/ZVr2sj9sQbWfkvGuP0oe751QQbA/fAvDKCIlsj+/6VzNk9ivP0bkFqoi97M/oWRzFErYsT/ky/OhNQ+yP4Ze/3LQi7M/hrf0duSmsT/5qY3fYY6uP0S3Eht9IrE/q7VNgzKQsD+XJPK1IRiyPxmFkkurErg/7sAmj1kWrz8yqIcBsDa1P8A+NPKNN7A/3XwXzoQPsT/oJmB4HuqvP0aS/W3NcLQ/TUtSlF9krj/1F8JtfyKyP93vLNaGMbI/oSNbbm0lrz+1zRDplcOzP89fRS4IlrE/Kqjr7Zu6sT+fB2p2rMWwPy502QbmeLA/uuJ8XDQhrD/gMGx4bXGtP4VFsn+pGq8/Kn94q1Ntqz/k4Di5zLSrPyk117JDT6c/Oyti17u6oj/9ozuGQnWgP2izCD5gRKM/sTaZvdtvoz9WuKqOK1ilP1Y/EOQYpaM/JQ/fY0xZpD+2ENy+tXiiPwS4WhuKgqQ/wxB8cDhtoj+nssxRKTqmP+gptVABOqM/3lA1nDbdoD+EQLKl8PqiP9JnF3oSDJ4/6WBWcmQ/pT8/0878RRiiP5jpjmqW3qA/kaYUBqAWoD+7zkf6tsebP6wtuOoHm58/Vu0WQ5T4oD/+dzZJspmjP1pA2UdSDKU/C8Mf3nWroT+wqSJkkIOkP7extxlaMaI/K23HCtScnz+xRSAy0vifPy8QIsLOjZ8/PUIILDQ4oj8K0zm6GjqkP7ZsKR495qA/31huszQVoD/fqW9oSc6dP3LJkmbUMqI/fx5T6Ck1oD+1PGtRSlGiPwHx0xjiR6U/jOnozrWEoD+Kb7n+7j6hPxSlUN8+c6A/UzM8d4HzoT+cE0MkwkynP7Tn9xlTPq4/uYWjkQ7Frz/V7yLv65WwPx+z8sJ6ZLI/8/W65zhDsj+vohOGaq2zP/mJdK2RN7Q/jsXNcw6wsj8PjRtgIvO1P9R/ZRV+p7E/bma84XdytT/tn7wUeAK1PxV2kfo4EbY/McRejV8vuD9GqeMKd5KzPyaMGzHYCrM/dtTnsj5htz95zfi+xRi6PzjxRSun4Lo/W+rY89S/uD9Vdg7Up0m4PzzAMEjx1Lo/ShfGcM0DuD+rpFnGUHu4P8m7BeOXe7I/Cvngf8iEtj8mo8KToGW0P2Mw5QX5PbQ/ON5Uj3xgtT9xUhwXapC1PxnU+TkmobQ/nneUWd4qsT9rQuCOgyayPzykcZ/gYLI/OZwA8JUmsz9+2VSe9rOzP9X87m34qbQ/kK2Ryv8ttT/Hf/nTnX61PxRhIGuABrE/2tZC5Kk3tD+55rfQ8vuyP++b7w0T4bM/GFLIGN2jsz+kjTsckdiyPwaNOOPQALU/sL6TlfKVtz/qSC6iELm3Pyh5WqJSi7g/0KTk3NtDtz/OWGIvQEC3P1QmROTekLo/Xfo8qIR1uj8gXQ9mubG5PwOgXF8XL7k/T5nWlVFFuD8=\",\"dtype\":\"float64\",\"shape\":[145]}},\"selected\":{\"id\":\"2102\",\"type\":\"Selection\"},\"selection_policy\":{\"id\":\"2103\",\"type\":\"UnionRenderers\"}},\"id\":\"2079\",\"type\":\"ColumnDataSource\"},{\"attributes\":{},\"id\":\"2066\",\"type\":\"PanTool\"},{\"attributes\":{},\"id\":\"2071\",\"type\":\"HelpTool\"},{\"attributes\":{\"line_color\":\"green\",\"x\":{\"field\":\"x\"},\"y\":{\"field\":\"y\"}},\"id\":\"2093\",\"type\":\"Line\"},{\"attributes\":{\"callback\":null,\"data\":{\"x\":[0,1,2,3,4,5,6,7,8,9,10,11,12,13,14,15,16,17,18,19,20,21,22,23,24,25,26,27,28,29,30,31,32,33,34,35,36,37,38,39,40,41,42,43,44,45,46,47,48,49,50,51,52,53,54,55,56,57,58,59,60,61,62,63,64,65,66,67,68,69,70,71,72,73,74,75,76,77,78,79,80,81,82,83,84,85,86,87,88,89,90,91,92,93,94,95,96,97,98,99,100,101,102,103,104,105,106,107,108,109,110,111,112,113,114,115,116,117,118,119,120,121,122,123,124,125,126,127,128,129,130,131,132,133,134,135,136,137,138,139,140,141,142,143,144],\"y\":{\"__ndarray__\":\"Aw3iVuC5sD/4nIkFzM2wP39dtYeSmbA/Jazwh9evsT9YmOxmjR60P4uA45e63as/u7UgMo4TsD/h4iIV5LqxP0NuGzC1ja8/K6kblVitsT8jsNmnCbmtPyVl846L264/pwwEMtxTsT8Zj8Pw6nKuP0iFqB6Ye7I/NcqGJYsGsT+FkGaD156wP+mnnYwdZ7I/4F8DRAZ3rz9RdZEipWOtP4eJzdv+UbA/46eI6m7Jrz+AlscId1OxPx1jmYwBEbY/y/9JCCegrj9dBGIpyI20PyCdNp+6L64/MxichKXhrz/Afac5AkquPwUh57iI+LI/jUp91PYQqz9PNv+WoVGxP/vDfFPPcLA/2Qxm8dDHqz8jQ3pu31WzP4vMaY21QbA/4X4tGKU3rz+Fx4R4e56wP6h7qdYr/q4/aKeAuMRNqj/fVbcLIC+tP2Pr2mNl4a0/qdl1tA2hqz8rpT93ebysP0A5L7is2ac/Kfd+k/zRoj/d/hmBeGyhP/yjvAF996M/xOhrt7WXoz8IWHMrn8WlP/EegjqKhKM/req5spE/pT87gX3mdXGiPxwESxYKpKM/6XXhz2yVoz8/6oG7SB+pP4nvIH5VX6Q/QQt6wqXWoD8vy+it5RmjP3PnjsP9aZ8/MG67heN1pz9+3jdh7AKjP8iltgu4cKE/x44ZUOhKoT/rry8ywhGbPzn2ySxjjqA/VZg0maJUoD8Yc9A6HrOkP8m7z4d7K6c/+AcD25MXoj/jo0ScqESlP5Tc1SSLQaM/YCoyTKeBnj/l0cvkQQigP7lLCph0dp8/otaOiuOfoT+bptvwqHGiPz1TEri+F6E/ddMXNKF2nT/gVMsEsgqdP8zi7dcI6KI/nSL2+5oZoD/lZKBAa7OhP2OVStAphKQ/XZx5+74loD8EdEQ1+lWgPzWhQU+JS6A/D1JOxOVGoj8gYJDlfW6mP69nuN23Pao/hRRClUnmqj94AlTGidisPzi6l6eVqa8/ECmkBxN/rz8A9cf56gWxP1TvPERPtbE/ODNKN/56sD8pRDboNxC0P/BqUmrsLa8/BLx5G3ZytD/4xIADdDWzP2GCEDwZD7U/0OT8s7uZtj8JGjh3GQ6yP1NqLYl+6bE/fdP5NOCytj9Lskqqice5P3ttkgIWRbo/+SQsrLNPtz+zB5k5wbC2P9hWdxFgbrk/LU5coMfxtj9w2sS4Z5C4P3MAfSNlBrI/XdbLVCHXtz/Da6kRsD20PytRl70ST7Q/QM0rYvYMtT8wiS+rrDC1P1fa67kEmbQ/MTXWeJHjsD99R4uqMCOyP3fDB4oSwbE/oVp+cXQEsz/xSg+OeY6zP+ds6WGuKLQ/WX5CJjIBtj+rUisVuRO3P2X2NBLw5LA/k24tr+pltT/vHzO5hbyzP3yu7EgWYrQ/u2mmXOchtD9hhvT9ysOzPwX6AckoYrY/eFgcabm6tj9t0zmTCOS2P+GzijFoorc/2ILuYhlttT/59KK3VR62Pzsv5fOmO7k/YAhHB0couT9F8KBmsLO3P0u9hbUhirc/BTsJIaHktj8=\",\"dtype\":\"float64\",\"shape\":[145]}},\"selected\":{\"id\":\"2207\",\"type\":\"Selection\"},\"selection_policy\":{\"id\":\"2208\",\"type\":\"UnionRenderers\"}},\"id\":\"2106\",\"type\":\"ColumnDataSource\"},{\"attributes\":{},\"id\":\"2069\",\"type\":\"SaveTool\"},{\"attributes\":{},\"id\":\"2070\",\"type\":\"ResetTool\"},{\"attributes\":{},\"id\":\"2118\",\"type\":\"Selection\"},{\"attributes\":{\"bottom_units\":\"screen\",\"fill_alpha\":{\"value\":0.5},\"fill_color\":{\"value\":\"lightgrey\"},\"left_units\":\"screen\",\"level\":\"overlay\",\"line_alpha\":{\"value\":1.0},\"line_color\":{\"value\":\"black\"},\"line_dash\":[4,4],\"line_width\":{\"value\":2},\"render_mode\":\"css\",\"right_units\":\"screen\",\"top_units\":\"screen\"},\"id\":\"2089\",\"type\":\"BoxAnnotation\"},{\"attributes\":{\"source\":{\"id\":\"2079\",\"type\":\"ColumnDataSource\"}},\"id\":\"2083\",\"type\":\"CDSView\"},{\"attributes\":{\"data_source\":{\"id\":\"2106\",\"type\":\"ColumnDataSource\"},\"glyph\":{\"id\":\"2107\",\"type\":\"Line\"},\"hover_glyph\":null,\"muted_glyph\":null,\"nonselection_glyph\":{\"id\":\"2108\",\"type\":\"Line\"},\"selection_glyph\":null,\"view\":{\"id\":\"2110\",\"type\":\"CDSView\"}},\"id\":\"2109\",\"type\":\"GlyphRenderer\"},{\"attributes\":{},\"id\":\"2067\",\"type\":\"WheelZoomTool\"},{\"attributes\":{\"text\":\"ND, NRMSE, and SMAPE over the test set for MT_321\"},\"id\":\"2046\",\"type\":\"Title\"},{\"attributes\":{\"line_alpha\":0.1,\"line_color\":\"#1f77b4\",\"x\":{\"field\":\"x\"},\"y\":{\"field\":\"y\"}},\"id\":\"2108\",\"type\":\"Line\"},{\"attributes\":{},\"id\":\"2052\",\"type\":\"LinearScale\"},{\"attributes\":{\"active_drag\":\"auto\",\"active_inspect\":\"auto\",\"active_multi\":null,\"active_scroll\":\"auto\",\"active_tap\":\"auto\",\"tools\":[{\"id\":\"2066\",\"type\":\"PanTool\"},{\"id\":\"2067\",\"type\":\"WheelZoomTool\"},{\"id\":\"2068\",\"type\":\"BoxZoomTool\"},{\"id\":\"2069\",\"type\":\"SaveTool\"},{\"id\":\"2070\",\"type\":\"ResetTool\"},{\"id\":\"2071\",\"type\":\"HelpTool\"}]},\"id\":\"2072\",\"type\":\"Toolbar\"},{\"attributes\":{\"source\":{\"id\":\"2092\",\"type\":\"ColumnDataSource\"}},\"id\":\"2096\",\"type\":\"CDSView\"},{\"attributes\":{\"source\":{\"id\":\"2106\",\"type\":\"ColumnDataSource\"}},\"id\":\"2110\",\"type\":\"CDSView\"},{\"attributes\":{},\"id\":\"2086\",\"type\":\"BasicTickFormatter\"},{\"attributes\":{},\"id\":\"2119\",\"type\":\"UnionRenderers\"},{\"attributes\":{\"line_alpha\":0.1,\"line_color\":\"#1f77b4\",\"x\":{\"field\":\"x\"},\"y\":{\"field\":\"y\"}},\"id\":\"2094\",\"type\":\"Line\"},{\"attributes\":{\"axis_label\":\"Test Dataset Row Index\",\"formatter\":{\"id\":\"2088\",\"type\":\"BasicTickFormatter\"},\"ticker\":{\"id\":\"2057\",\"type\":\"BasicTicker\"}},\"id\":\"2056\",\"type\":\"LinearAxis\"},{\"attributes\":{\"overlay\":{\"id\":\"2089\",\"type\":\"BoxAnnotation\"}},\"id\":\"2068\",\"type\":\"BoxZoomTool\"},{\"attributes\":{\"data_source\":{\"id\":\"2079\",\"type\":\"ColumnDataSource\"},\"glyph\":{\"id\":\"2080\",\"type\":\"Line\"},\"hover_glyph\":null,\"muted_glyph\":null,\"nonselection_glyph\":{\"id\":\"2081\",\"type\":\"Line\"},\"selection_glyph\":null,\"view\":{\"id\":\"2083\",\"type\":\"CDSView\"}},\"id\":\"2082\",\"type\":\"GlyphRenderer\"},{\"attributes\":{\"line_color\":\"purple\",\"x\":{\"field\":\"x\"},\"y\":{\"field\":\"y\"}},\"id\":\"2107\",\"type\":\"Line\"},{\"attributes\":{\"label\":{\"value\":\"ND\"},\"renderers\":[{\"id\":\"2082\",\"type\":\"GlyphRenderer\"}]},\"id\":\"2091\",\"type\":\"LegendItem\"},{\"attributes\":{\"line_color\":\"orange\",\"line_width\":2,\"x\":{\"field\":\"x\"},\"y\":{\"field\":\"y\"}},\"id\":\"2080\",\"type\":\"Line\"}],\"root_ids\":[\"2045\"]},\"title\":\"Bokeh Application\",\"version\":\"1.4.0\"}};\n",
       "  var render_items = [{\"docid\":\"9586c868-c5e7-4b28-a026-901a6d357987\",\"roots\":{\"2045\":\"fcf908b7-52e5-43e1-befd-f5e58bfc201a\"}}];\n",
       "  root.Bokeh.embed.embed_items_notebook(docs_json, render_items);\n",
       "\n",
       "  }\n",
       "  if (root.Bokeh !== undefined) {\n",
       "    embed_document(root);\n",
       "  } else {\n",
       "    var attempts = 0;\n",
       "    var timer = setInterval(function(root) {\n",
       "      if (root.Bokeh !== undefined) {\n",
       "        clearInterval(timer);\n",
       "        embed_document(root);\n",
       "      } else {\n",
       "        attempts++;\n",
       "        if (attempts > 100) {\n",
       "          clearInterval(timer);\n",
       "          console.log(\"Bokeh: ERROR: Unable to run BokehJS code because BokehJS library is missing\");\n",
       "        }\n",
       "      }\n",
       "    }, 10, root)\n",
       "  }\n",
       "})(window);"
      ],
      "application/vnd.bokehjs_exec.v0+json": ""
     },
     "metadata": {
      "application/vnd.bokehjs_exec.v0+json": {
       "id": "2045"
      }
     },
     "output_type": "display_data"
    }
   ],
   "source": [
    "p = figure(title='ND, NRMSE, and SMAPE over the test set for {}'.format(customer_id),\n",
    "           width=960,\n",
    "           height=320,\n",
    "           x_axis_label='Test Dataset Row Index',\n",
    "           y_axis_label='Error')\n",
    "\n",
    "p.line(x=predictions_detail[customer_id].index,\n",
    "       y=predictions_detail[customer_id]['nd'],\n",
    "       legend_label='ND',\n",
    "       color='orange',\n",
    "       line_width=2)\n",
    "\n",
    "p.line(x=predictions_detail[customer_id].index,\n",
    "       y=predictions_detail[customer_id]['nrmse'],\n",
    "       legend_label='NRMSE',\n",
    "       color='green',\n",
    "       line_width=1)\n",
    "\n",
    "p.line(x=predictions_detail[customer_id].index,\n",
    "       y=predictions_detail[customer_id]['smape'],\n",
    "       legend_label='SMAPE',\n",
    "       color='purple',\n",
    "       line_width=1)\n",
    "\n",
    "show(p)"
   ]
  },
  {
   "cell_type": "code",
   "execution_count": 80,
   "metadata": {},
   "outputs": [],
   "source": [
    "# now get a global, unique value for ND and NRSME for the 7 days in the test dataset"
   ]
  },
  {
   "cell_type": "code",
   "execution_count": 81,
   "metadata": {},
   "outputs": [],
   "source": [
    "global_df = pd.DataFrame(columns=['prediction', 'target'])"
   ]
  },
  {
   "cell_type": "code",
   "execution_count": 82,
   "metadata": {},
   "outputs": [],
   "source": [
    "# starting timestamps to predict over a complete day\n",
    "start_timestamps = [0, 24, 48, 72, 96, 120, 144]"
   ]
  },
  {
   "cell_type": "code",
   "execution_count": 83,
   "metadata": {},
   "outputs": [],
   "source": [
    "for start_timestamp in start_timestamps:\n",
    "    # make a buffer dataframe for one-day predictions\n",
    "    buffer_df = pd.DataFrame()\n",
    "    # populate the buffer dataframe\n",
    "    buffer_df['timestamp'] = pd.to_datetime(\n",
    "        predictions_detail[customer_id]['string_timestamps'][start_timestamp:start_timestamp+1][start_timestamp]\n",
    "    )\n",
    "    buffer_df['prediction'] = \\\n",
    "        predictions_detail[customer_id]['predictions'][start_timestamp:start_timestamp+1][start_timestamp]\n",
    "    \n",
    "    buffer_df['target'] = \\\n",
    "        predictions_detail[customer_id]['targets'][start_timestamp:start_timestamp+1][start_timestamp]\n",
    "    \n",
    "    buffer_df = buffer_df.set_index('timestamp')\n",
    "    \n",
    "    global_df = pd.concat([global_df, buffer_df])"
   ]
  },
  {
   "cell_type": "code",
   "execution_count": 84,
   "metadata": {},
   "outputs": [
    {
     "data": {
      "text/html": [
       "<div>\n",
       "<style scoped>\n",
       "    .dataframe tbody tr th:only-of-type {\n",
       "        vertical-align: middle;\n",
       "    }\n",
       "\n",
       "    .dataframe tbody tr th {\n",
       "        vertical-align: top;\n",
       "    }\n",
       "\n",
       "    .dataframe thead th {\n",
       "        text-align: right;\n",
       "    }\n",
       "</style>\n",
       "<table border=\"1\" class=\"dataframe\">\n",
       "  <thead>\n",
       "    <tr style=\"text-align: right;\">\n",
       "      <th></th>\n",
       "      <th>prediction</th>\n",
       "      <th>target</th>\n",
       "    </tr>\n",
       "  </thead>\n",
       "  <tbody>\n",
       "    <tr>\n",
       "      <th>2014-09-01 00:00:00</th>\n",
       "      <td>88.307617</td>\n",
       "      <td>82.373950</td>\n",
       "    </tr>\n",
       "    <tr>\n",
       "      <th>2014-09-01 01:00:00</th>\n",
       "      <td>78.019684</td>\n",
       "      <td>76.065699</td>\n",
       "    </tr>\n",
       "    <tr>\n",
       "      <th>2014-09-01 02:00:00</th>\n",
       "      <td>76.505775</td>\n",
       "      <td>76.254775</td>\n",
       "    </tr>\n",
       "    <tr>\n",
       "      <th>2014-09-01 03:00:00</th>\n",
       "      <td>71.705681</td>\n",
       "      <td>69.759358</td>\n",
       "    </tr>\n",
       "    <tr>\n",
       "      <th>2014-09-01 04:00:00</th>\n",
       "      <td>65.189095</td>\n",
       "      <td>68.800611</td>\n",
       "    </tr>\n",
       "    <tr>\n",
       "      <th>...</th>\n",
       "      <td>...</td>\n",
       "      <td>...</td>\n",
       "    </tr>\n",
       "    <tr>\n",
       "      <th>2014-09-07 19:00:00</th>\n",
       "      <td>144.437561</td>\n",
       "      <td>182.328113</td>\n",
       "    </tr>\n",
       "    <tr>\n",
       "      <th>2014-09-07 20:00:00</th>\n",
       "      <td>138.360474</td>\n",
       "      <td>140.574866</td>\n",
       "    </tr>\n",
       "    <tr>\n",
       "      <th>2014-09-07 21:00:00</th>\n",
       "      <td>130.450760</td>\n",
       "      <td>138.086325</td>\n",
       "    </tr>\n",
       "    <tr>\n",
       "      <th>2014-09-07 22:00:00</th>\n",
       "      <td>110.668182</td>\n",
       "      <td>116.720779</td>\n",
       "    </tr>\n",
       "    <tr>\n",
       "      <th>2014-09-07 23:00:00</th>\n",
       "      <td>92.604378</td>\n",
       "      <td>94.413675</td>\n",
       "    </tr>\n",
       "  </tbody>\n",
       "</table>\n",
       "<p>168 rows × 2 columns</p>\n",
       "</div>"
      ],
      "text/plain": [
       "                     prediction      target\n",
       "2014-09-01 00:00:00   88.307617   82.373950\n",
       "2014-09-01 01:00:00   78.019684   76.065699\n",
       "2014-09-01 02:00:00   76.505775   76.254775\n",
       "2014-09-01 03:00:00   71.705681   69.759358\n",
       "2014-09-01 04:00:00   65.189095   68.800611\n",
       "...                         ...         ...\n",
       "2014-09-07 19:00:00  144.437561  182.328113\n",
       "2014-09-07 20:00:00  138.360474  140.574866\n",
       "2014-09-07 21:00:00  130.450760  138.086325\n",
       "2014-09-07 22:00:00  110.668182  116.720779\n",
       "2014-09-07 23:00:00   92.604378   94.413675\n",
       "\n",
       "[168 rows x 2 columns]"
      ]
     },
     "execution_count": 84,
     "metadata": {},
     "output_type": "execute_result"
    }
   ],
   "source": [
    "global_df"
   ]
  },
  {
   "cell_type": "code",
   "execution_count": 85,
   "metadata": {},
   "outputs": [
    {
     "data": {
      "text/html": [
       "\n",
       "\n",
       "\n",
       "\n",
       "\n",
       "\n",
       "  <div class=\"bk-root\" id=\"57019df6-0320-46b3-82cf-1a09cf4f732f\" data-root-id=\"2282\"></div>\n"
      ]
     },
     "metadata": {},
     "output_type": "display_data"
    },
    {
     "data": {
      "application/javascript": [
       "(function(root) {\n",
       "  function embed_document(root) {\n",
       "    \n",
       "  var docs_json = {\"38788f72-c59e-4a70-81fd-5ceaf730ad2e\":{\"roots\":{\"references\":[{\"attributes\":{\"below\":[{\"id\":\"2293\",\"type\":\"DatetimeAxis\"}],\"center\":[{\"id\":\"2297\",\"type\":\"Grid\"},{\"id\":\"2302\",\"type\":\"Grid\"},{\"id\":\"2339\",\"type\":\"Legend\"}],\"left\":[{\"id\":\"2298\",\"type\":\"LinearAxis\"}],\"plot_height\":320,\"plot_width\":960,\"renderers\":[{\"id\":\"2319\",\"type\":\"GlyphRenderer\"},{\"id\":\"2344\",\"type\":\"GlyphRenderer\"}],\"title\":{\"id\":\"2283\",\"type\":\"Title\"},\"toolbar\":{\"id\":\"2309\",\"type\":\"Toolbar\"},\"x_range\":{\"id\":\"2285\",\"type\":\"DataRange1d\"},\"x_scale\":{\"id\":\"2289\",\"type\":\"LinearScale\"},\"y_range\":{\"id\":\"2287\",\"type\":\"DataRange1d\"},\"y_scale\":{\"id\":\"2291\",\"type\":\"LinearScale\"}},\"id\":\"2282\",\"subtype\":\"Figure\",\"type\":\"Plot\"},{\"attributes\":{\"callback\":null,\"data\":{\"x\":{\"__ndarray__\":\"AACALeiCdEIAAGic64J0QgAAUAvvgnRCAAA4evKCdEIAACDp9YJ0QgAACFj5gnRCAADwxvyCdEIAANg1AIN0QgAAwKQDg3RCAACoEweDdEIAAJCCCoN0QgAAePENg3RCAABgYBGDdEIAAEjPFIN0QgAAMD4Yg3RCAAAYrRuDdEIAAAAcH4N0QgAA6Ioig3RCAADQ+SWDdEIAALhoKYN0QgAAoNcsg3RCAACIRjCDdEIAAHC1M4N0QgAAWCQ3g3RCAABAkzqDdEIAACgCPoN0QgAAEHFBg3RCAAD430SDdEIAAOBOSIN0QgAAyL1Lg3RCAACwLE+DdEIAAJibUoN0QgAAgApWg3RCAABoeVmDdEIAAFDoXIN0QgAAOFdgg3RCAAAgxmODdEIAAAg1Z4N0QgAA8KNqg3RCAADYEm6DdEIAAMCBcYN0QgAAqPB0g3RCAACQX3iDdEIAAHjOe4N0QgAAYD1/g3RCAABIrIKDdEIAADAbhoN0QgAAGIqJg3RCAAAA+YyDdEIAAOhnkIN0QgAA0NaTg3RCAAC4RZeDdEIAAKC0moN0QgAAiCOeg3RCAABwkqGDdEIAAFgBpYN0QgAAQHCog3RCAAAo36uDdEIAABBOr4N0QgAA+Lyyg3RCAADgK7aDdEIAAMiauYN0QgAAsAm9g3RCAACYeMCDdEIAAIDnw4N0QgAAaFbHg3RCAABQxcqDdEIAADg0zoN0QgAAIKPRg3RCAAAIEtWDdEIAAPCA2IN0QgAA2O/bg3RCAADAXt+DdEIAAKjN4oN0QgAAkDzmg3RCAAB4q+mDdEIAAGAa7YN0QgAASInwg3RCAAAw+PODdEIAABhn94N0QgAAANb6g3RCAADoRP6DdEIAANCzAYR0QgAAuCIFhHRCAACgkQiEdEIAAIgADIR0QgAAcG8PhHRCAABY3hKEdEIAAEBNFoR0QgAAKLwZhHRCAAAQKx2EdEIAAPiZIIR0QgAA4AgkhHRCAADIdyeEdEIAALDmKoR0QgAAmFUuhHRCAACAxDGEdEIAAGgzNYR0QgAAUKI4hHRCAAA4ETyEdEIAACCAP4R0QgAACO9ChHRCAADwXUaEdEIAANjMSYR0QgAAwDtNhHRCAACoqlCEdEIAAJAZVIR0QgAAeIhXhHRCAABg91qEdEIAAEhmXoR0QgAAMNVhhHRCAAAYRGWEdEIAAACzaIR0QgAA6CFshHRCAADQkG+EdEIAALj/coR0QgAAoG52hHRCAACI3XmEdEIAAHBMfYR0QgAAWLuAhHRCAABAKoSEdEIAACiZh4R0QgAAEAiLhHRCAAD4do6EdEIAAODlkYR0QgAAyFSVhHRCAACww5iEdEIAAJgynIR0QgAAgKGfhHRCAABoEKOEdEIAAFB/poR0QgAAOO6phHRCAAAgXa2EdEIAAAjMsIR0QgAA8Dq0hHRCAADYqbeEdEIAAMAYu4R0QgAAqIe+hHRCAACQ9sGEdEIAAHhlxYR0QgAAYNTIhHRCAABIQ8yEdEIAADCyz4R0QgAAGCHThHRCAAAAkNaEdEIAAOj+2YR0QgAA0G3dhHRCAAC43OCEdEIAAKBL5IR0QgAAiLrnhHRCAABwKeuEdEIAAFiY7oR0QgAAQAfyhHRCAAAodvWEdEIAABDl+IR0QgAA+FP8hHRCAADgwv+EdEIAAMgxA4V0QgAAsKAGhXRCAACYDwqFdEIAAIB+DYV0QgAAaO0QhXRCAABQXBSFdEIAADjLF4V0QgAAIDobhXRCAAAIqR6FdEIAAPAXIoV0QgAA2IYlhXRC\",\"dtype\":\"float64\",\"shape\":[168]},\"y\":{\"__ndarray__\":\"AAAAALATVkAAAACAQoFTQAAAAKBeIFNAAAAA4CntUUAAAAAgGkxQQAAAAMDxqk9AAAAAwGJPUkAAAACgCgpcQAAAAMDBsV5AAAAAIOfKYEAAAABgdzJiQAAAAMDTT2RAAAAAAEfJZEAAAACAbIVkQAAAAGAIW2RAAAAAoFRrY0AAAACgeqxjQAAAAIDgOWZAAAAAQGXgZEAAAADgjx5jQAAAAGDPw2JAAAAAAPZ+YEAAAAAAz3ZcQAAAAGDjmVZAAAAAYHjHVEAAAABgjYtSQAAAAIDaR1JAAAAAYDA0UUAAAAAAdRdQQAAAACCFsk9AAAAAwFRxUUAAAAAgMzdbQAAAACCJ315AAAAAwLaVYUAAAADAh55iQAAAAIB20WNAAAAAQAdVZEAAAAAg+2xjQAAAAABWWGJAAAAAgH28YkAAAACg5TJjQAAAAMAnXmVAAAAA4Dk9ZEAAAABAIYdjQAAAAEA7Q2JAAAAAYII3YUAAAABgCK1dQAAAAIAhXFZAAAAAYMnCU0AAAABAEZhSQAAAAMBdsFJAAAAAoO8bUUAAAACgkytRQAAAAGAu61BAAAAAYJX8U0AAAADgfHRdQAAAAGDsV2BAAAAAIB+GYUAAAADgcBNiQAAAACDL+WFAAAAAwEfsYkAAAADAg7xiQAAAACCiemJAAAAA4KWOYkAAAACg6UdjQAAAACB+5WNAAAAAYEOBY0AAAAAgbuRiQAAAAODDamFAAAAAoOe8YEAAAADgANJcQAAAAGAW7FhAAAAAwKaiVUAAAADA8bVTQAAAAEBE+lJAAAAAIDWkUUAAAABA12lRQAAAAKA0F1FAAAAAAEyyVEAAAACgAylbQAAAAOCXCWBAAAAAYCV5YUAAAAAgJsRhQAAAAADr+GFAAAAAwLPCYUAAAAAg0X1iQAAAACB3g2FAAAAAQHPMYUAAAADA71xiQAAAAEAvi2NAAAAAoG8XY0AAAACgMnBhQAAAAMAWf2FAAAAAYCbsX0AAAAAggMpaQAAAAIAOzlVAAAAAQFmJVEAAAABgL6xTQAAAACCSm1NAAAAAwBLvUUAAAAAgv2JRQAAAAKCZ8VFAAAAAYFPXVEAAAABgov9ZQAAAAMC9911AAAAAAO5jYEAAAAAA7aRgQAAAAGAuYGFAAAAAwHmQYkAAAABg6FVhQAAAAIC2pWFAAAAAYEpUYUAAAADgQpRiQAAAAECQJWNAAAAAQEgZY0AAAADAv6thQAAAAAD+pmBAAAAAgPS2XkAAAACAaOlYQAAAAABWT1RAAAAAwLNxVUAAAABgq19TQAAAAEBHoVNAAAAAwJg+UkAAAABAQLtRQAAAACDXl1FAAAAAAIX0UkAAAADg/vdZQAAAAMCdTFxAAAAAgHYPYEAAAADg37ZhQAAAAAAHHmFAAAAAADTjYUAAAADANb9hQAAAAMDAImFAAAAAgNJUYEAAAADguQxiQAAAAGDrZ2NAAAAA4I+QY0AAAADAR6lhQAAAAEBV1GBAAAAAYH1jXkAAAADgQZBZQAAAAMA1JFRAAAAAIJfOVEAAAABA3zxUQAAAACChPFNAAAAAwIqyUUAAAAAAH+tQQAAAAAAt6FBAAAAAAAv9U0AAAACAIgdcQAAAAAAfs1xAAAAAgLO9YEAAAAAAjCdhQAAAAODtlGJAAAAAIPgOY0AAAADAROJhQAAAAKBs1mFAAAAAAHT3YUAAAABAHARkQAAAAEB68GNAAAAAIKuZY0AAAACAAA5iQAAAAACJS2FAAAAAoGxOYEAAAACAw6pbQAAAACCuJldA\",\"dtype\":\"float64\",\"shape\":[168]}},\"selected\":{\"id\":\"2363\",\"type\":\"Selection\"},\"selection_policy\":{\"id\":\"2364\",\"type\":\"UnionRenderers\"}},\"id\":\"2316\",\"type\":\"ColumnDataSource\"},{\"attributes\":{},\"id\":\"2474\",\"type\":\"Selection\"},{\"attributes\":{\"text\":\"Predictions over the test dataset for MT_321\"},\"id\":\"2283\",\"type\":\"Title\"},{\"attributes\":{},\"id\":\"2299\",\"type\":\"BasicTicker\"},{\"attributes\":{\"line_color\":\"red\",\"x\":{\"field\":\"x\"},\"y\":{\"field\":\"y\"}},\"id\":\"2317\",\"type\":\"Line\"},{\"attributes\":{\"months\":[0,4,8]},\"id\":\"2335\",\"type\":\"MonthsTicker\"},{\"attributes\":{\"line_alpha\":0.1,\"line_color\":\"#1f77b4\",\"x\":{\"field\":\"x\"},\"y\":{\"field\":\"y\"}},\"id\":\"2343\",\"type\":\"Line\"},{\"attributes\":{},\"id\":\"2308\",\"type\":\"HelpTool\"},{\"attributes\":{\"base\":60,\"mantissas\":[1,2,5,10,15,20,30],\"max_interval\":1800000.0,\"min_interval\":1000.0,\"num_minor_ticks\":0},\"id\":\"2327\",\"type\":\"AdaptiveTicker\"},{\"attributes\":{},\"id\":\"2337\",\"type\":\"YearsTicker\"},{\"attributes\":{\"bottom_units\":\"screen\",\"fill_alpha\":{\"value\":0.5},\"fill_color\":{\"value\":\"lightgrey\"},\"left_units\":\"screen\",\"level\":\"overlay\",\"line_alpha\":{\"value\":1.0},\"line_color\":{\"value\":\"black\"},\"line_dash\":[4,4],\"line_width\":{\"value\":2},\"render_mode\":\"css\",\"right_units\":\"screen\",\"top_units\":\"screen\"},\"id\":\"2338\",\"type\":\"BoxAnnotation\"},{\"attributes\":{\"data_source\":{\"id\":\"2316\",\"type\":\"ColumnDataSource\"},\"glyph\":{\"id\":\"2317\",\"type\":\"Line\"},\"hover_glyph\":null,\"muted_glyph\":null,\"nonselection_glyph\":{\"id\":\"2318\",\"type\":\"Line\"},\"selection_glyph\":null,\"view\":{\"id\":\"2320\",\"type\":\"CDSView\"}},\"id\":\"2319\",\"type\":\"GlyphRenderer\"},{\"attributes\":{},\"id\":\"2363\",\"type\":\"Selection\"},{\"attributes\":{},\"id\":\"2323\",\"type\":\"BasicTickFormatter\"},{\"attributes\":{},\"id\":\"2307\",\"type\":\"ResetTool\"},{\"attributes\":{},\"id\":\"2291\",\"type\":\"LinearScale\"},{\"attributes\":{},\"id\":\"2304\",\"type\":\"WheelZoomTool\"},{\"attributes\":{},\"id\":\"2364\",\"type\":\"UnionRenderers\"},{\"attributes\":{\"num_minor_ticks\":5,\"tickers\":[{\"id\":\"2326\",\"type\":\"AdaptiveTicker\"},{\"id\":\"2327\",\"type\":\"AdaptiveTicker\"},{\"id\":\"2328\",\"type\":\"AdaptiveTicker\"},{\"id\":\"2329\",\"type\":\"DaysTicker\"},{\"id\":\"2330\",\"type\":\"DaysTicker\"},{\"id\":\"2331\",\"type\":\"DaysTicker\"},{\"id\":\"2332\",\"type\":\"DaysTicker\"},{\"id\":\"2333\",\"type\":\"MonthsTicker\"},{\"id\":\"2334\",\"type\":\"MonthsTicker\"},{\"id\":\"2335\",\"type\":\"MonthsTicker\"},{\"id\":\"2336\",\"type\":\"MonthsTicker\"},{\"id\":\"2337\",\"type\":\"YearsTicker\"}]},\"id\":\"2294\",\"type\":\"DatetimeTicker\"},{\"attributes\":{\"months\":[0,1,2,3,4,5,6,7,8,9,10,11]},\"id\":\"2333\",\"type\":\"MonthsTicker\"},{\"attributes\":{\"days\":[1,15]},\"id\":\"2332\",\"type\":\"DaysTicker\"},{\"attributes\":{\"active_drag\":\"auto\",\"active_inspect\":\"auto\",\"active_multi\":null,\"active_scroll\":\"auto\",\"active_tap\":\"auto\",\"tools\":[{\"id\":\"2303\",\"type\":\"PanTool\"},{\"id\":\"2304\",\"type\":\"WheelZoomTool\"},{\"id\":\"2305\",\"type\":\"BoxZoomTool\"},{\"id\":\"2306\",\"type\":\"SaveTool\"},{\"id\":\"2307\",\"type\":\"ResetTool\"},{\"id\":\"2308\",\"type\":\"HelpTool\"}]},\"id\":\"2309\",\"type\":\"Toolbar\"},{\"attributes\":{\"axis_label\":\"Value\",\"formatter\":{\"id\":\"2323\",\"type\":\"BasicTickFormatter\"},\"ticker\":{\"id\":\"2299\",\"type\":\"BasicTicker\"}},\"id\":\"2298\",\"type\":\"LinearAxis\"},{\"attributes\":{\"mantissas\":[1,2,5],\"max_interval\":500.0,\"num_minor_ticks\":0},\"id\":\"2326\",\"type\":\"AdaptiveTicker\"},{\"attributes\":{\"days\":[1,8,15,22]},\"id\":\"2331\",\"type\":\"DaysTicker\"},{\"attributes\":{\"items\":[{\"id\":\"2340\",\"type\":\"LegendItem\"},{\"id\":\"2366\",\"type\":\"LegendItem\"}]},\"id\":\"2339\",\"type\":\"Legend\"},{\"attributes\":{\"base\":24,\"mantissas\":[1,2,4,6,8,12],\"max_interval\":43200000.0,\"min_interval\":3600000.0,\"num_minor_ticks\":0},\"id\":\"2328\",\"type\":\"AdaptiveTicker\"},{\"attributes\":{\"dimension\":1,\"ticker\":{\"id\":\"2299\",\"type\":\"BasicTicker\"}},\"id\":\"2302\",\"type\":\"Grid\"},{\"attributes\":{\"ticker\":{\"id\":\"2294\",\"type\":\"DatetimeTicker\"}},\"id\":\"2297\",\"type\":\"Grid\"},{\"attributes\":{\"callback\":null},\"id\":\"2285\",\"type\":\"DataRange1d\"},{\"attributes\":{\"callback\":null},\"id\":\"2287\",\"type\":\"DataRange1d\"},{\"attributes\":{},\"id\":\"2289\",\"type\":\"LinearScale\"},{\"attributes\":{\"months\":[0,6]},\"id\":\"2336\",\"type\":\"MonthsTicker\"},{\"attributes\":{\"line_alpha\":0.1,\"line_color\":\"#1f77b4\",\"x\":{\"field\":\"x\"},\"y\":{\"field\":\"y\"}},\"id\":\"2318\",\"type\":\"Line\"},{\"attributes\":{\"source\":{\"id\":\"2341\",\"type\":\"ColumnDataSource\"}},\"id\":\"2345\",\"type\":\"CDSView\"},{\"attributes\":{\"days\":[1,2,3,4,5,6,7,8,9,10,11,12,13,14,15,16,17,18,19,20,21,22,23,24,25,26,27,28,29,30,31]},\"id\":\"2329\",\"type\":\"DaysTicker\"},{\"attributes\":{\"label\":{\"value\":\"predictions\"},\"renderers\":[{\"id\":\"2319\",\"type\":\"GlyphRenderer\"}]},\"id\":\"2340\",\"type\":\"LegendItem\"},{\"attributes\":{\"source\":{\"id\":\"2316\",\"type\":\"ColumnDataSource\"}},\"id\":\"2320\",\"type\":\"CDSView\"},{\"attributes\":{\"callback\":null,\"data\":{\"x\":{\"__ndarray__\":\"AACALeiCdEIAAGic64J0QgAAUAvvgnRCAAA4evKCdEIAACDp9YJ0QgAACFj5gnRCAADwxvyCdEIAANg1AIN0QgAAwKQDg3RCAACoEweDdEIAAJCCCoN0QgAAePENg3RCAABgYBGDdEIAAEjPFIN0QgAAMD4Yg3RCAAAYrRuDdEIAAAAcH4N0QgAA6Ioig3RCAADQ+SWDdEIAALhoKYN0QgAAoNcsg3RCAACIRjCDdEIAAHC1M4N0QgAAWCQ3g3RCAABAkzqDdEIAACgCPoN0QgAAEHFBg3RCAAD430SDdEIAAOBOSIN0QgAAyL1Lg3RCAACwLE+DdEIAAJibUoN0QgAAgApWg3RCAABoeVmDdEIAAFDoXIN0QgAAOFdgg3RCAAAgxmODdEIAAAg1Z4N0QgAA8KNqg3RCAADYEm6DdEIAAMCBcYN0QgAAqPB0g3RCAACQX3iDdEIAAHjOe4N0QgAAYD1/g3RCAABIrIKDdEIAADAbhoN0QgAAGIqJg3RCAAAA+YyDdEIAAOhnkIN0QgAA0NaTg3RCAAC4RZeDdEIAAKC0moN0QgAAiCOeg3RCAABwkqGDdEIAAFgBpYN0QgAAQHCog3RCAAAo36uDdEIAABBOr4N0QgAA+Lyyg3RCAADgK7aDdEIAAMiauYN0QgAAsAm9g3RCAACYeMCDdEIAAIDnw4N0QgAAaFbHg3RCAABQxcqDdEIAADg0zoN0QgAAIKPRg3RCAAAIEtWDdEIAAPCA2IN0QgAA2O/bg3RCAADAXt+DdEIAAKjN4oN0QgAAkDzmg3RCAAB4q+mDdEIAAGAa7YN0QgAASInwg3RCAAAw+PODdEIAABhn94N0QgAAANb6g3RCAADoRP6DdEIAANCzAYR0QgAAuCIFhHRCAACgkQiEdEIAAIgADIR0QgAAcG8PhHRCAABY3hKEdEIAAEBNFoR0QgAAKLwZhHRCAAAQKx2EdEIAAPiZIIR0QgAA4AgkhHRCAADIdyeEdEIAALDmKoR0QgAAmFUuhHRCAACAxDGEdEIAAGgzNYR0QgAAUKI4hHRCAAA4ETyEdEIAACCAP4R0QgAACO9ChHRCAADwXUaEdEIAANjMSYR0QgAAwDtNhHRCAACoqlCEdEIAAJAZVIR0QgAAeIhXhHRCAABg91qEdEIAAEhmXoR0QgAAMNVhhHRCAAAYRGWEdEIAAACzaIR0QgAA6CFshHRCAADQkG+EdEIAALj/coR0QgAAoG52hHRCAACI3XmEdEIAAHBMfYR0QgAAWLuAhHRCAABAKoSEdEIAACiZh4R0QgAAEAiLhHRCAAD4do6EdEIAAODlkYR0QgAAyFSVhHRCAACww5iEdEIAAJgynIR0QgAAgKGfhHRCAABoEKOEdEIAAFB/poR0QgAAOO6phHRCAAAgXa2EdEIAAAjMsIR0QgAA8Dq0hHRCAADYqbeEdEIAAMAYu4R0QgAAqIe+hHRCAACQ9sGEdEIAAHhlxYR0QgAAYNTIhHRCAABIQ8yEdEIAADCyz4R0QgAAGCHThHRCAAAAkNaEdEIAAOj+2YR0QgAA0G3dhHRCAAC43OCEdEIAAKBL5IR0QgAAiLrnhHRCAABwKeuEdEIAAFiY7oR0QgAAQAfyhHRCAAAodvWEdEIAABDl+IR0QgAA+FP8hHRCAADgwv+EdEIAAMgxA4V0QgAAsKAGhXRCAACYDwqFdEIAAIB+DYV0QgAAaO0QhXRCAABQXBSFdEIAADjLF4V0QgAAIDobhXRCAAAIqR6FdEIAAPAXIoV0QgAA2IYlhXRC\",\"dtype\":\"float64\",\"shape\":[168]},\"y\":{\"__ndarray__\":\"y+43yu6XVEA6eptpNARTQAuURzpOEFNAsA2CU5lwUUB8VJA2PTNRQK465GUjJ1FA6pCXjRxmU0Dayk+Is/JaQOCUc6XaqlxAr+uHHb2NX0CqnSJbhgVhQPdgUOkD/GJAA/eFL7HeY0BMQtF6/JliQBLGRwVpw2FAJLzWruqAZkB12r/nq4VlQPqfppwrlWNAxZdYN2kOY0DgKbJlWIxhQCADsKwxKmFAsDFqldS1YEAa/hH0oB1dQKytKPDEpVZAegU07tb5VEC+feFLrLtTQLvfKLvfKFNArAX/CHpwUUCAXBOBXDNRQGAkfneB0lFAbyoTtkGwVECqvxyRYkhbQPze/E9TrltAhwFY1hhVYUCNPsB94btgQI7o13CLA2RAczCo9AE+YkBPBWnTMzNjQFLWGLVKSmJAVvoA94VfZEClBvaOqSFoQOC+8CXWzWRAYcuw2Jx2Y0DQESmG+tthQKxL4YCRmGFAn8IBI/G7YEDyWcQkFC1cQKfaigJPXFZAmz3J97FaVEAQZ+UnxFlTQBt367wCWlNAKmuMWiWVUUCBkfjdBepQQDFzD6VElVFAxrHPIibhVECf5PtYzf5aQCl9gPvCV15AaCGZ5fIuYEA6chgfFSRhQCDgvvAlpmJAqU3PjPDKYkAab2hy43lhQMF94UusK2JAKmQAljWmYkAyKkibnuliQFBcSGa5fGNANhpCBmA5Y0C6W+cV0EhhQCve0OTGc2FAMBs5jI/aYECHJy4ksxxcQKp4Q5Mb71ZARYEnLiRzVEA7RbYMi01TQBt367wCWlNALKBxt85LUUAmArkmArlQQPq5HYjoV1FASHmk4wRzVEBTXT/s6M1aQHiacq5UG19APPZZxCQkYUDlObj6ljxhQJrm6WQs0WJA2mgIGYAlYkAgA7CsMSphQJTE7y5Q7mFAmrmHUqIaY0DA+Z+mnCtiQBv6NdziiGNAYBOBXBOxYUBmp8iWYWFhQIcuuuiiC2FAJvhH0IN2YEBRm54Z4ZVbQKfaigJPXFZAmT3J97FaVEDniBRD/WVTQOqQl40cZlNAMHMPpUSVUUAr1VYUeAJRQCfN08lYAlFAF9C4W+c1VEB1aHLjOXhaQKgq3tDk5l5AFhAGlT5AX0C6iEkoWv9gQPaykcP4aGJAFonfXaBcYkChnSJbhgVhQNDuN8ruV2NAgQzAssYYZkCly3vzP+1pQDsHV9+SZWRA9/////9/YUBy2chhfPRhQEvhgJH4HWFAJpf35n/aYEAtbXpmhNdbQNZWFHji4lZASlTFG5q8VEAQMgDLGqNTQPAuUB7p+FNAB5U+wH2hUUAyqPQB7ktRQGMkfneB0lFAPkxC0Xq8VEAIjrL7jVJdQNE0GkIGYGBArTNYoTPoYUCRWDdpnp5hQFBcSGa5fGNALu3f89WCY0Bu8z9NOddiQKF6MZ96gWJAeHpmhNeqYUDr13CLYx9iQMF94UusK2JAbvM/TTnXYkAb6TjBdEdgQGVQ6QPcF2FAIYfxUUEqYUBghsXmtN9bQIKacq5U+1ZAIEEP2ikSVUBG6/HnduBTQMaxzyIm4VRA5vLe/E/TUkBgurO9LmVSQGXuoZSoilNARBdddNEFVUBSrJs0T8dfQKJmT/J9HGBAwnNw9S35YEBrwT+CHkRiQFdHbzONdmNA+yPoQTuVY0BSMN3ZXldnQIkdvc00WmlAV/CPoActY0DWpXDASIxhQFh00UUXLWNApciWYbEpZUAml/fmf8pmQMU2CE5lkmFA1U6RLcNCYUCJOCs/IS5dQGBi3aR5mldA\",\"dtype\":\"float64\",\"shape\":[168]}},\"selected\":{\"id\":\"2474\",\"type\":\"Selection\"},\"selection_policy\":{\"id\":\"2475\",\"type\":\"UnionRenderers\"}},\"id\":\"2341\",\"type\":\"ColumnDataSource\"},{\"attributes\":{},\"id\":\"2325\",\"type\":\"DatetimeTickFormatter\"},{\"attributes\":{},\"id\":\"2303\",\"type\":\"PanTool\"},{\"attributes\":{\"overlay\":{\"id\":\"2338\",\"type\":\"BoxAnnotation\"}},\"id\":\"2305\",\"type\":\"BoxZoomTool\"},{\"attributes\":{\"days\":[1,4,7,10,13,16,19,22,25,28]},\"id\":\"2330\",\"type\":\"DaysTicker\"},{\"attributes\":{\"line_color\":\"blue\",\"x\":{\"field\":\"x\"},\"y\":{\"field\":\"y\"}},\"id\":\"2342\",\"type\":\"Line\"},{\"attributes\":{\"months\":[0,2,4,6,8,10]},\"id\":\"2334\",\"type\":\"MonthsTicker\"},{\"attributes\":{},\"id\":\"2475\",\"type\":\"UnionRenderers\"},{\"attributes\":{\"axis_label\":\"Timestmap\",\"formatter\":{\"id\":\"2325\",\"type\":\"DatetimeTickFormatter\"},\"ticker\":{\"id\":\"2294\",\"type\":\"DatetimeTicker\"}},\"id\":\"2293\",\"type\":\"DatetimeAxis\"},{\"attributes\":{\"label\":{\"value\":\"targets\"},\"renderers\":[{\"id\":\"2344\",\"type\":\"GlyphRenderer\"}]},\"id\":\"2366\",\"type\":\"LegendItem\"},{\"attributes\":{\"data_source\":{\"id\":\"2341\",\"type\":\"ColumnDataSource\"},\"glyph\":{\"id\":\"2342\",\"type\":\"Line\"},\"hover_glyph\":null,\"muted_glyph\":null,\"nonselection_glyph\":{\"id\":\"2343\",\"type\":\"Line\"},\"selection_glyph\":null,\"view\":{\"id\":\"2345\",\"type\":\"CDSView\"}},\"id\":\"2344\",\"type\":\"GlyphRenderer\"},{\"attributes\":{},\"id\":\"2306\",\"type\":\"SaveTool\"}],\"root_ids\":[\"2282\"]},\"title\":\"Bokeh Application\",\"version\":\"1.4.0\"}};\n",
       "  var render_items = [{\"docid\":\"38788f72-c59e-4a70-81fd-5ceaf730ad2e\",\"roots\":{\"2282\":\"57019df6-0320-46b3-82cf-1a09cf4f732f\"}}];\n",
       "  root.Bokeh.embed.embed_items_notebook(docs_json, render_items);\n",
       "\n",
       "  }\n",
       "  if (root.Bokeh !== undefined) {\n",
       "    embed_document(root);\n",
       "  } else {\n",
       "    var attempts = 0;\n",
       "    var timer = setInterval(function(root) {\n",
       "      if (root.Bokeh !== undefined) {\n",
       "        clearInterval(timer);\n",
       "        embed_document(root);\n",
       "      } else {\n",
       "        attempts++;\n",
       "        if (attempts > 100) {\n",
       "          clearInterval(timer);\n",
       "          console.log(\"Bokeh: ERROR: Unable to run BokehJS code because BokehJS library is missing\");\n",
       "        }\n",
       "      }\n",
       "    }, 10, root)\n",
       "  }\n",
       "})(window);"
      ],
      "application/vnd.bokehjs_exec.v0+json": ""
     },
     "metadata": {
      "application/vnd.bokehjs_exec.v0+json": {
       "id": "2282"
      }
     },
     "output_type": "display_data"
    }
   ],
   "source": [
    "p = figure(title='Predictions over the test dataset for {}'.format(customer_id),\n",
    "           width=960,\n",
    "           height=320,\n",
    "           x_axis_type='datetime',\n",
    "           x_axis_label='Timestmap',\n",
    "           y_axis_label='Value')\n",
    "\n",
    "p.line(x=global_df.index,\n",
    "       y=global_df['prediction'],\n",
    "       legend_label='predictions',\n",
    "       color='red',\n",
    "       line_width=1)\n",
    "\n",
    "p.line(x=global_df.index,\n",
    "       y=global_df['target'],\n",
    "       legend_label='targets',\n",
    "       color='blue',\n",
    "       line_width=1)\n",
    "\n",
    "show(p)"
   ]
  },
  {
   "cell_type": "markdown",
   "metadata": {},
   "source": [
    "### over the 7 days of the test dataset, daily forecasting windows, starting at midnight (2014-09-0X 00:00:00)"
   ]
  },
  {
   "cell_type": "code",
   "execution_count": 86,
   "metadata": {},
   "outputs": [
    {
     "data": {
      "text/plain": [
       "7.6293243243377145"
      ]
     },
     "execution_count": 86,
     "metadata": {},
     "output_type": "execute_result"
    }
   ],
   "source": [
    "# get a global value for MAE\n",
    "global_mae = mean_absolute_error(global_df['prediction'], global_df['target'])\n",
    "global_mae"
   ]
  },
  {
   "cell_type": "code",
   "execution_count": 87,
   "metadata": {},
   "outputs": [
    {
     "data": {
      "text/plain": [
       "120.95444996180292"
      ]
     },
     "execution_count": 87,
     "metadata": {},
     "output_type": "execute_result"
    }
   ],
   "source": [
    "# get a global average for true values\n",
    "global_true_values_average = np.mean(global_df['target'])\n",
    "global_true_values_average"
   ]
  },
  {
   "cell_type": "code",
   "execution_count": 88,
   "metadata": {},
   "outputs": [
    {
     "data": {
      "text/plain": [
       "0.06307601189329565"
      ]
     },
     "execution_count": 88,
     "metadata": {},
     "output_type": "execute_result"
    }
   ],
   "source": [
    "# get a global value for ND\n",
    "global_nd = global_mae/global_true_values_average\n",
    "global_nd"
   ]
  },
  {
   "cell_type": "code",
   "execution_count": 89,
   "metadata": {},
   "outputs": [
    {
     "data": {
      "text/plain": [
       "11.993701951898492"
      ]
     },
     "execution_count": 89,
     "metadata": {},
     "output_type": "execute_result"
    }
   ],
   "source": [
    "# get a global value for RMSE\n",
    "global_rmse = sqrt(mean_squared_error(global_df['prediction'], global_df['target']))\n",
    "global_rmse"
   ]
  },
  {
   "cell_type": "code",
   "execution_count": 90,
   "metadata": {},
   "outputs": [
    {
     "data": {
      "text/plain": [
       "0.09915883173943638"
      ]
     },
     "execution_count": 90,
     "metadata": {},
     "output_type": "execute_result"
    }
   ],
   "source": [
    "# get a global value for NRMSE\n",
    "global_nrmse = global_rmse/global_true_values_average\n",
    "global_nrmse"
   ]
  },
  {
   "cell_type": "code",
   "execution_count": 91,
   "metadata": {},
   "outputs": [
    {
     "data": {
      "text/plain": [
       "0.05899791509145672"
      ]
     },
     "execution_count": 91,
     "metadata": {},
     "output_type": "execute_result"
    }
   ],
   "source": [
    "# get a global vale for SMAPE\n",
    "global_smape = smape(global_df['prediction'], global_df['target'])\n",
    "global_smape"
   ]
  },
  {
   "cell_type": "code",
   "execution_count": null,
   "metadata": {},
   "outputs": [],
   "source": []
  },
  {
   "cell_type": "code",
   "execution_count": 93,
   "metadata": {},
   "outputs": [],
   "source": []
  },
  {
   "cell_type": "code",
   "execution_count": 97,
   "metadata": {},
   "outputs": [],
   "source": []
  },
  {
   "cell_type": "code",
   "execution_count": 104,
   "metadata": {},
   "outputs": [],
   "source": []
  }
 ],
 "metadata": {
  "kernelspec": {
   "display_name": "Python 3",
   "language": "python",
   "name": "python3"
  },
  "language_info": {
   "codemirror_mode": {
    "name": "ipython",
    "version": 3
   },
   "file_extension": ".py",
   "mimetype": "text/x-python",
   "name": "python",
   "nbconvert_exporter": "python",
   "pygments_lexer": "ipython3",
   "version": "3.7.6"
  }
 },
 "nbformat": 4,
 "nbformat_minor": 4
}

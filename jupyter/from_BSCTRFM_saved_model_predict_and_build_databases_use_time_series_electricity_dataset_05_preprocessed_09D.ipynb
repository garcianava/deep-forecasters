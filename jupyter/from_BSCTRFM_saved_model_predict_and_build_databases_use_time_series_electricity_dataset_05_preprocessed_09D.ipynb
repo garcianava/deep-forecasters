{
 "cells": [
  {
   "cell_type": "markdown",
   "metadata": {},
   "source": [
    "## Recursive inference (multi-step) for BSCTRFM models\n",
    "\n",
    "### use time series instead of SLDB arrays for easier and more efficient timestamp management"
   ]
  },
  {
   "cell_type": "code",
   "execution_count": 1,
   "metadata": {},
   "outputs": [],
   "source": [
    "import os\n",
    "import json\n",
    "import numpy as np\n",
    "import pandas as pd\n",
    "import joblib\n",
    "from datetime import datetime\n",
    "from math import sqrt\n",
    "from sklearn.metrics import mean_squared_error, mean_absolute_error\n",
    "\n",
    "# uncomment the following line for compatibility with TensorFlow 1.15 (on GCP)\n",
    "# import tensorflow.compat.v1 as tf\n",
    "# uncomment the following line for TensorFlow 2.X (local execution)\n",
    "import tensorflow as tf\n",
    "\n",
    "# forecast model was saved in TensorFlow 1.15\n",
    "# but, in order to make predictions locally, has to be loaded with TensorFlow 2\n",
    "from tensorflow.saved_model import load"
   ]
  },
  {
   "cell_type": "code",
   "execution_count": 2,
   "metadata": {},
   "outputs": [
    {
     "data": {
      "text/html": [
       "\n",
       "    <div class=\"bk-root\">\n",
       "        <a href=\"https://bokeh.org\" target=\"_blank\" class=\"bk-logo bk-logo-small bk-logo-notebook\"></a>\n",
       "        <span id=\"1001\">Loading BokehJS ...</span>\n",
       "    </div>"
      ]
     },
     "metadata": {},
     "output_type": "display_data"
    },
    {
     "data": {
      "application/javascript": [
       "\n",
       "(function(root) {\n",
       "  function now() {\n",
       "    return new Date();\n",
       "  }\n",
       "\n",
       "  var force = true;\n",
       "\n",
       "  if (typeof root._bokeh_onload_callbacks === \"undefined\" || force === true) {\n",
       "    root._bokeh_onload_callbacks = [];\n",
       "    root._bokeh_is_loading = undefined;\n",
       "  }\n",
       "\n",
       "  var JS_MIME_TYPE = 'application/javascript';\n",
       "  var HTML_MIME_TYPE = 'text/html';\n",
       "  var EXEC_MIME_TYPE = 'application/vnd.bokehjs_exec.v0+json';\n",
       "  var CLASS_NAME = 'output_bokeh rendered_html';\n",
       "\n",
       "  /**\n",
       "   * Render data to the DOM node\n",
       "   */\n",
       "  function render(props, node) {\n",
       "    var script = document.createElement(\"script\");\n",
       "    node.appendChild(script);\n",
       "  }\n",
       "\n",
       "  /**\n",
       "   * Handle when an output is cleared or removed\n",
       "   */\n",
       "  function handleClearOutput(event, handle) {\n",
       "    var cell = handle.cell;\n",
       "\n",
       "    var id = cell.output_area._bokeh_element_id;\n",
       "    var server_id = cell.output_area._bokeh_server_id;\n",
       "    // Clean up Bokeh references\n",
       "    if (id != null && id in Bokeh.index) {\n",
       "      Bokeh.index[id].model.document.clear();\n",
       "      delete Bokeh.index[id];\n",
       "    }\n",
       "\n",
       "    if (server_id !== undefined) {\n",
       "      // Clean up Bokeh references\n",
       "      var cmd = \"from bokeh.io.state import curstate; print(curstate().uuid_to_server['\" + server_id + \"'].get_sessions()[0].document.roots[0]._id)\";\n",
       "      cell.notebook.kernel.execute(cmd, {\n",
       "        iopub: {\n",
       "          output: function(msg) {\n",
       "            var id = msg.content.text.trim();\n",
       "            if (id in Bokeh.index) {\n",
       "              Bokeh.index[id].model.document.clear();\n",
       "              delete Bokeh.index[id];\n",
       "            }\n",
       "          }\n",
       "        }\n",
       "      });\n",
       "      // Destroy server and session\n",
       "      var cmd = \"import bokeh.io.notebook as ion; ion.destroy_server('\" + server_id + \"')\";\n",
       "      cell.notebook.kernel.execute(cmd);\n",
       "    }\n",
       "  }\n",
       "\n",
       "  /**\n",
       "   * Handle when a new output is added\n",
       "   */\n",
       "  function handleAddOutput(event, handle) {\n",
       "    var output_area = handle.output_area;\n",
       "    var output = handle.output;\n",
       "\n",
       "    // limit handleAddOutput to display_data with EXEC_MIME_TYPE content only\n",
       "    if ((output.output_type != \"display_data\") || (!output.data.hasOwnProperty(EXEC_MIME_TYPE))) {\n",
       "      return\n",
       "    }\n",
       "\n",
       "    var toinsert = output_area.element.find(\".\" + CLASS_NAME.split(' ')[0]);\n",
       "\n",
       "    if (output.metadata[EXEC_MIME_TYPE][\"id\"] !== undefined) {\n",
       "      toinsert[toinsert.length - 1].firstChild.textContent = output.data[JS_MIME_TYPE];\n",
       "      // store reference to embed id on output_area\n",
       "      output_area._bokeh_element_id = output.metadata[EXEC_MIME_TYPE][\"id\"];\n",
       "    }\n",
       "    if (output.metadata[EXEC_MIME_TYPE][\"server_id\"] !== undefined) {\n",
       "      var bk_div = document.createElement(\"div\");\n",
       "      bk_div.innerHTML = output.data[HTML_MIME_TYPE];\n",
       "      var script_attrs = bk_div.children[0].attributes;\n",
       "      for (var i = 0; i < script_attrs.length; i++) {\n",
       "        toinsert[toinsert.length - 1].firstChild.setAttribute(script_attrs[i].name, script_attrs[i].value);\n",
       "      }\n",
       "      // store reference to server id on output_area\n",
       "      output_area._bokeh_server_id = output.metadata[EXEC_MIME_TYPE][\"server_id\"];\n",
       "    }\n",
       "  }\n",
       "\n",
       "  function register_renderer(events, OutputArea) {\n",
       "\n",
       "    function append_mime(data, metadata, element) {\n",
       "      // create a DOM node to render to\n",
       "      var toinsert = this.create_output_subarea(\n",
       "        metadata,\n",
       "        CLASS_NAME,\n",
       "        EXEC_MIME_TYPE\n",
       "      );\n",
       "      this.keyboard_manager.register_events(toinsert);\n",
       "      // Render to node\n",
       "      var props = {data: data, metadata: metadata[EXEC_MIME_TYPE]};\n",
       "      render(props, toinsert[toinsert.length - 1]);\n",
       "      element.append(toinsert);\n",
       "      return toinsert\n",
       "    }\n",
       "\n",
       "    /* Handle when an output is cleared or removed */\n",
       "    events.on('clear_output.CodeCell', handleClearOutput);\n",
       "    events.on('delete.Cell', handleClearOutput);\n",
       "\n",
       "    /* Handle when a new output is added */\n",
       "    events.on('output_added.OutputArea', handleAddOutput);\n",
       "\n",
       "    /**\n",
       "     * Register the mime type and append_mime function with output_area\n",
       "     */\n",
       "    OutputArea.prototype.register_mime_type(EXEC_MIME_TYPE, append_mime, {\n",
       "      /* Is output safe? */\n",
       "      safe: true,\n",
       "      /* Index of renderer in `output_area.display_order` */\n",
       "      index: 0\n",
       "    });\n",
       "  }\n",
       "\n",
       "  // register the mime type if in Jupyter Notebook environment and previously unregistered\n",
       "  if (root.Jupyter !== undefined) {\n",
       "    var events = require('base/js/events');\n",
       "    var OutputArea = require('notebook/js/outputarea').OutputArea;\n",
       "\n",
       "    if (OutputArea.prototype.mime_types().indexOf(EXEC_MIME_TYPE) == -1) {\n",
       "      register_renderer(events, OutputArea);\n",
       "    }\n",
       "  }\n",
       "\n",
       "  \n",
       "  if (typeof (root._bokeh_timeout) === \"undefined\" || force === true) {\n",
       "    root._bokeh_timeout = Date.now() + 5000;\n",
       "    root._bokeh_failed_load = false;\n",
       "  }\n",
       "\n",
       "  var NB_LOAD_WARNING = {'data': {'text/html':\n",
       "     \"<div style='background-color: #fdd'>\\n\"+\n",
       "     \"<p>\\n\"+\n",
       "     \"BokehJS does not appear to have successfully loaded. If loading BokehJS from CDN, this \\n\"+\n",
       "     \"may be due to a slow or bad network connection. Possible fixes:\\n\"+\n",
       "     \"</p>\\n\"+\n",
       "     \"<ul>\\n\"+\n",
       "     \"<li>re-rerun `output_notebook()` to attempt to load from CDN again, or</li>\\n\"+\n",
       "     \"<li>use INLINE resources instead, as so:</li>\\n\"+\n",
       "     \"</ul>\\n\"+\n",
       "     \"<code>\\n\"+\n",
       "     \"from bokeh.resources import INLINE\\n\"+\n",
       "     \"output_notebook(resources=INLINE)\\n\"+\n",
       "     \"</code>\\n\"+\n",
       "     \"</div>\"}};\n",
       "\n",
       "  function display_loaded() {\n",
       "    var el = document.getElementById(\"1001\");\n",
       "    if (el != null) {\n",
       "      el.textContent = \"BokehJS is loading...\";\n",
       "    }\n",
       "    if (root.Bokeh !== undefined) {\n",
       "      if (el != null) {\n",
       "        el.textContent = \"BokehJS \" + root.Bokeh.version + \" successfully loaded.\";\n",
       "      }\n",
       "    } else if (Date.now() < root._bokeh_timeout) {\n",
       "      setTimeout(display_loaded, 100)\n",
       "    }\n",
       "  }\n",
       "\n",
       "\n",
       "  function run_callbacks() {\n",
       "    try {\n",
       "      root._bokeh_onload_callbacks.forEach(function(callback) {\n",
       "        if (callback != null)\n",
       "          callback();\n",
       "      });\n",
       "    } finally {\n",
       "      delete root._bokeh_onload_callbacks\n",
       "    }\n",
       "    console.debug(\"Bokeh: all callbacks have finished\");\n",
       "  }\n",
       "\n",
       "  function load_libs(css_urls, js_urls, callback) {\n",
       "    if (css_urls == null) css_urls = [];\n",
       "    if (js_urls == null) js_urls = [];\n",
       "\n",
       "    root._bokeh_onload_callbacks.push(callback);\n",
       "    if (root._bokeh_is_loading > 0) {\n",
       "      console.debug(\"Bokeh: BokehJS is being loaded, scheduling callback at\", now());\n",
       "      return null;\n",
       "    }\n",
       "    if (js_urls == null || js_urls.length === 0) {\n",
       "      run_callbacks();\n",
       "      return null;\n",
       "    }\n",
       "    console.debug(\"Bokeh: BokehJS not loaded, scheduling load and callback at\", now());\n",
       "    root._bokeh_is_loading = css_urls.length + js_urls.length;\n",
       "\n",
       "    function on_load() {\n",
       "      root._bokeh_is_loading--;\n",
       "      if (root._bokeh_is_loading === 0) {\n",
       "        console.debug(\"Bokeh: all BokehJS libraries/stylesheets loaded\");\n",
       "        run_callbacks()\n",
       "      }\n",
       "    }\n",
       "\n",
       "    function on_error() {\n",
       "      console.error(\"failed to load \" + url);\n",
       "    }\n",
       "\n",
       "    for (var i = 0; i < css_urls.length; i++) {\n",
       "      var url = css_urls[i];\n",
       "      const element = document.createElement(\"link\");\n",
       "      element.onload = on_load;\n",
       "      element.onerror = on_error;\n",
       "      element.rel = \"stylesheet\";\n",
       "      element.type = \"text/css\";\n",
       "      element.href = url;\n",
       "      console.debug(\"Bokeh: injecting link tag for BokehJS stylesheet: \", url);\n",
       "      document.body.appendChild(element);\n",
       "    }\n",
       "\n",
       "    for (var i = 0; i < js_urls.length; i++) {\n",
       "      var url = js_urls[i];\n",
       "      var element = document.createElement('script');\n",
       "      element.onload = on_load;\n",
       "      element.onerror = on_error;\n",
       "      element.async = false;\n",
       "      element.src = url;\n",
       "      console.debug(\"Bokeh: injecting script tag for BokehJS library: \", url);\n",
       "      document.head.appendChild(element);\n",
       "    }\n",
       "  };var element = document.getElementById(\"1001\");\n",
       "  if (element == null) {\n",
       "    console.error(\"Bokeh: ERROR: autoload.js configured with elementid '1001' but no matching script tag was found. \")\n",
       "    return false;\n",
       "  }\n",
       "\n",
       "  function inject_raw_css(css) {\n",
       "    const element = document.createElement(\"style\");\n",
       "    element.appendChild(document.createTextNode(css));\n",
       "    document.body.appendChild(element);\n",
       "  }\n",
       "\n",
       "  \n",
       "  var js_urls = [\"https://cdn.pydata.org/bokeh/release/bokeh-1.4.0.min.js\", \"https://cdn.pydata.org/bokeh/release/bokeh-widgets-1.4.0.min.js\", \"https://cdn.pydata.org/bokeh/release/bokeh-tables-1.4.0.min.js\", \"https://cdn.pydata.org/bokeh/release/bokeh-gl-1.4.0.min.js\"];\n",
       "  var css_urls = [];\n",
       "  \n",
       "\n",
       "  var inline_js = [\n",
       "    function(Bokeh) {\n",
       "      Bokeh.set_log_level(\"info\");\n",
       "    },\n",
       "    function(Bokeh) {\n",
       "    \n",
       "    \n",
       "    }\n",
       "  ];\n",
       "\n",
       "  function run_inline_js() {\n",
       "    \n",
       "    if (root.Bokeh !== undefined || force === true) {\n",
       "      \n",
       "    for (var i = 0; i < inline_js.length; i++) {\n",
       "      inline_js[i].call(root, root.Bokeh);\n",
       "    }\n",
       "    if (force === true) {\n",
       "        display_loaded();\n",
       "      }} else if (Date.now() < root._bokeh_timeout) {\n",
       "      setTimeout(run_inline_js, 100);\n",
       "    } else if (!root._bokeh_failed_load) {\n",
       "      console.log(\"Bokeh: BokehJS failed to load within specified timeout.\");\n",
       "      root._bokeh_failed_load = true;\n",
       "    } else if (force !== true) {\n",
       "      var cell = $(document.getElementById(\"1001\")).parents('.cell').data().cell;\n",
       "      cell.output_area.append_execute_result(NB_LOAD_WARNING)\n",
       "    }\n",
       "\n",
       "  }\n",
       "\n",
       "  if (root._bokeh_is_loading === 0) {\n",
       "    console.debug(\"Bokeh: BokehJS loaded, going straight to plotting\");\n",
       "    run_inline_js();\n",
       "  } else {\n",
       "    load_libs(css_urls, js_urls, function() {\n",
       "      console.debug(\"Bokeh: BokehJS plotting callback run at\", now());\n",
       "      run_inline_js();\n",
       "    });\n",
       "  }\n",
       "}(window));"
      ],
      "application/vnd.bokehjs_load.v0+json": "\n(function(root) {\n  function now() {\n    return new Date();\n  }\n\n  var force = true;\n\n  if (typeof root._bokeh_onload_callbacks === \"undefined\" || force === true) {\n    root._bokeh_onload_callbacks = [];\n    root._bokeh_is_loading = undefined;\n  }\n\n  \n\n  \n  if (typeof (root._bokeh_timeout) === \"undefined\" || force === true) {\n    root._bokeh_timeout = Date.now() + 5000;\n    root._bokeh_failed_load = false;\n  }\n\n  var NB_LOAD_WARNING = {'data': {'text/html':\n     \"<div style='background-color: #fdd'>\\n\"+\n     \"<p>\\n\"+\n     \"BokehJS does not appear to have successfully loaded. If loading BokehJS from CDN, this \\n\"+\n     \"may be due to a slow or bad network connection. Possible fixes:\\n\"+\n     \"</p>\\n\"+\n     \"<ul>\\n\"+\n     \"<li>re-rerun `output_notebook()` to attempt to load from CDN again, or</li>\\n\"+\n     \"<li>use INLINE resources instead, as so:</li>\\n\"+\n     \"</ul>\\n\"+\n     \"<code>\\n\"+\n     \"from bokeh.resources import INLINE\\n\"+\n     \"output_notebook(resources=INLINE)\\n\"+\n     \"</code>\\n\"+\n     \"</div>\"}};\n\n  function display_loaded() {\n    var el = document.getElementById(\"1001\");\n    if (el != null) {\n      el.textContent = \"BokehJS is loading...\";\n    }\n    if (root.Bokeh !== undefined) {\n      if (el != null) {\n        el.textContent = \"BokehJS \" + root.Bokeh.version + \" successfully loaded.\";\n      }\n    } else if (Date.now() < root._bokeh_timeout) {\n      setTimeout(display_loaded, 100)\n    }\n  }\n\n\n  function run_callbacks() {\n    try {\n      root._bokeh_onload_callbacks.forEach(function(callback) {\n        if (callback != null)\n          callback();\n      });\n    } finally {\n      delete root._bokeh_onload_callbacks\n    }\n    console.debug(\"Bokeh: all callbacks have finished\");\n  }\n\n  function load_libs(css_urls, js_urls, callback) {\n    if (css_urls == null) css_urls = [];\n    if (js_urls == null) js_urls = [];\n\n    root._bokeh_onload_callbacks.push(callback);\n    if (root._bokeh_is_loading > 0) {\n      console.debug(\"Bokeh: BokehJS is being loaded, scheduling callback at\", now());\n      return null;\n    }\n    if (js_urls == null || js_urls.length === 0) {\n      run_callbacks();\n      return null;\n    }\n    console.debug(\"Bokeh: BokehJS not loaded, scheduling load and callback at\", now());\n    root._bokeh_is_loading = css_urls.length + js_urls.length;\n\n    function on_load() {\n      root._bokeh_is_loading--;\n      if (root._bokeh_is_loading === 0) {\n        console.debug(\"Bokeh: all BokehJS libraries/stylesheets loaded\");\n        run_callbacks()\n      }\n    }\n\n    function on_error() {\n      console.error(\"failed to load \" + url);\n    }\n\n    for (var i = 0; i < css_urls.length; i++) {\n      var url = css_urls[i];\n      const element = document.createElement(\"link\");\n      element.onload = on_load;\n      element.onerror = on_error;\n      element.rel = \"stylesheet\";\n      element.type = \"text/css\";\n      element.href = url;\n      console.debug(\"Bokeh: injecting link tag for BokehJS stylesheet: \", url);\n      document.body.appendChild(element);\n    }\n\n    for (var i = 0; i < js_urls.length; i++) {\n      var url = js_urls[i];\n      var element = document.createElement('script');\n      element.onload = on_load;\n      element.onerror = on_error;\n      element.async = false;\n      element.src = url;\n      console.debug(\"Bokeh: injecting script tag for BokehJS library: \", url);\n      document.head.appendChild(element);\n    }\n  };var element = document.getElementById(\"1001\");\n  if (element == null) {\n    console.error(\"Bokeh: ERROR: autoload.js configured with elementid '1001' but no matching script tag was found. \")\n    return false;\n  }\n\n  function inject_raw_css(css) {\n    const element = document.createElement(\"style\");\n    element.appendChild(document.createTextNode(css));\n    document.body.appendChild(element);\n  }\n\n  \n  var js_urls = [\"https://cdn.pydata.org/bokeh/release/bokeh-1.4.0.min.js\", \"https://cdn.pydata.org/bokeh/release/bokeh-widgets-1.4.0.min.js\", \"https://cdn.pydata.org/bokeh/release/bokeh-tables-1.4.0.min.js\", \"https://cdn.pydata.org/bokeh/release/bokeh-gl-1.4.0.min.js\"];\n  var css_urls = [];\n  \n\n  var inline_js = [\n    function(Bokeh) {\n      Bokeh.set_log_level(\"info\");\n    },\n    function(Bokeh) {\n    \n    \n    }\n  ];\n\n  function run_inline_js() {\n    \n    if (root.Bokeh !== undefined || force === true) {\n      \n    for (var i = 0; i < inline_js.length; i++) {\n      inline_js[i].call(root, root.Bokeh);\n    }\n    if (force === true) {\n        display_loaded();\n      }} else if (Date.now() < root._bokeh_timeout) {\n      setTimeout(run_inline_js, 100);\n    } else if (!root._bokeh_failed_load) {\n      console.log(\"Bokeh: BokehJS failed to load within specified timeout.\");\n      root._bokeh_failed_load = true;\n    } else if (force !== true) {\n      var cell = $(document.getElementById(\"1001\")).parents('.cell').data().cell;\n      cell.output_area.append_execute_result(NB_LOAD_WARNING)\n    }\n\n  }\n\n  if (root._bokeh_is_loading === 0) {\n    console.debug(\"Bokeh: BokehJS loaded, going straight to plotting\");\n    run_inline_js();\n  } else {\n    load_libs(css_urls, js_urls, function() {\n      console.debug(\"Bokeh: BokehJS plotting callback run at\", now());\n      run_inline_js();\n    });\n  }\n}(window));"
     },
     "metadata": {},
     "output_type": "display_data"
    }
   ],
   "source": [
    "from bokeh.plotting import figure, show, output_file, save\n",
    "from bokeh.io import output_notebook\n",
    "# select a palette\n",
    "from bokeh.palettes import d3\n",
    "output_notebook()"
   ]
  },
  {
   "cell_type": "code",
   "execution_count": 3,
   "metadata": {},
   "outputs": [],
   "source": [
    "# symmetric mean absolute percentage error\n",
    "def symmetric_mean_absolute_percentage_error(targets, predictions):\n",
    "    '''\n",
    "    predictions: a list with the predicted values\n",
    "    targets: a list with the actual values\n",
    "    '''\n",
    "    import numpy as np\n",
    "    # lists to NumPy arrays\n",
    "    targets, predictions = np.array(targets), np.array(predictions)\n",
    "    # verify predictions and targets have the same shape\n",
    "    if predictions.shape == targets.shape:\n",
    "            return(np.sum(2*np.abs(predictions - targets) /\n",
    "                          (np.abs(targets) + np.abs(predictions)))/predictions.shape[0])"
   ]
  },
  {
   "cell_type": "code",
   "execution_count": 4,
   "metadata": {},
   "outputs": [],
   "source": [
    "# a function to encode float values for serialized examples\n",
    "def _float_feature_from_list_of_values(list_of_values):\n",
    "    \"\"\"Returns a float_list from a list of floats / doubles.\"\"\"\n",
    "    return tf.train.Feature(float_list=tf.train.FloatList(value=list_of_values))"
   ]
  },
  {
   "cell_type": "code",
   "execution_count": 5,
   "metadata": {},
   "outputs": [],
   "source": [
    "# converts a set of tensors to a feature dict to a serialized example to pass it\n",
    "# to the prediction function of the saved model \n",
    "def input_tensors_to_serialized_example(encoder_input_float_tensor,\n",
    "                                        decoder_input_float_tensor,\n",
    "                                        id_float_tensor):\n",
    "    # first, pass the float tensors to NumPy array, then flatten them\n",
    "    encoder_input_flat_array = encoder_input_float_tensor.numpy().flatten()\n",
    "    decoder_input_flat_array = decoder_input_float_tensor.numpy().flatten()\n",
    "    id_flat_array = id_float_tensor.numpy().flatten()\n",
    "    \n",
    "    # second, build the protobuffer example\n",
    "    example = tf.train.Example(\n",
    "        # features within the example\n",
    "        features=tf.train.Features(\n",
    "            # feature definition\n",
    "            feature={\n",
    "                'encoder_input': _float_feature_from_list_of_values(encoder_input_flat_array),\n",
    "                'decoder_input': _float_feature_from_list_of_values(decoder_input_flat_array),\n",
    "                'id': _float_feature_from_list_of_values(id_flat_array)\n",
    "            }\n",
    "        )\n",
    "    )    \n",
    "    # third, serialize the example dictionary to a string\n",
    "    serialized_example = example.SerializeToString()\n",
    "    # fourth, wrap the serialized example as a NumPy-string array\n",
    "    numpy_example = np.array(serialized_example, dtype='S')\n",
    "    # fifth, wrap the NumPy-string array as a string tensor\n",
    "    serialized_example = tf.convert_to_tensor(numpy_example)\n",
    "\n",
    "    return serialized_example"
   ]
  },
  {
   "cell_type": "code",
   "execution_count": 6,
   "metadata": {},
   "outputs": [],
   "source": [
    "PROJECT_ROOT = '/home/developer/gcp/cbidmltsf'"
   ]
  },
  {
   "cell_type": "code",
   "execution_count": 32,
   "metadata": {},
   "outputs": [],
   "source": [
    "# during batch prediction, the model identifier is obtained via Abseil Flags\n",
    "# remember this notebook is based on local execution,\n",
    "# therefore model directory must be downloaded from GS before running the notebook\n",
    "model_id = 'BSCTRFM_TPU_017'"
   ]
  },
  {
   "cell_type": "code",
   "execution_count": 33,
   "metadata": {},
   "outputs": [],
   "source": [
    "# during batch prediction, the execution identifier is obtained via Abseil Flags\n",
    "execution = 0"
   ]
  },
  {
   "cell_type": "code",
   "execution_count": 34,
   "metadata": {},
   "outputs": [],
   "source": [
    "# during batch prediction, the SLDB identifier is obtained via Abseil Flags\n",
    "# THE SLDB FOR INFERENCE MUST BE THE SAME USED FOR TRAINING! (THE ONE SETUP IN THE CONFIGURATION FILE)\n",
    "sldb_id = 'LD2011-2014_SEPARATED_MT_320-MT_330_BSCTRFM_168_168'"
   ]
  },
  {
   "cell_type": "code",
   "execution_count": 35,
   "metadata": {},
   "outputs": [],
   "source": [
    "# during batch prediction, the dataset name is obtained via Abseil Flags\n",
    "dataset = 'test'"
   ]
  },
  {
   "cell_type": "code",
   "execution_count": 36,
   "metadata": {},
   "outputs": [],
   "source": [
    "# define a forecast window to guide the iterative prediction process\n",
    "# start with a hourly, day-ahead process\n",
    "forecast_window = 24"
   ]
  },
  {
   "cell_type": "code",
   "execution_count": 37,
   "metadata": {},
   "outputs": [],
   "source": [
    "# ADD AN INFERENCE IDENTIFIER, BECAUSE FOR TRANSFORMER-BASED MODELS, DIFFERENT INFERENCES\n",
    "# CAN BE PRODUCED FROM A SINGLE SAVED MODEL (USUALLY TO PRODUCE DIFFERENT FORECAST WINDOWS)\n",
    "# during batch prediction, the inference identifier should be obtained via Abseil Flags\n",
    "inference = '{:03d}'.format(forecast_window)"
   ]
  },
  {
   "cell_type": "code",
   "execution_count": 38,
   "metadata": {},
   "outputs": [],
   "source": [
    "# build a path to the SLDB json file\n",
    "data_dir = '{}/{}/{}'.format(PROJECT_ROOT, 'sldbs', sldb_id)\n",
    "\n",
    "# then get the ts_identifier from the json file in the sldb directory\n",
    "sldb_json_file = '{}/sldb.json'.format(data_dir)"
   ]
  },
  {
   "cell_type": "code",
   "execution_count": 39,
   "metadata": {},
   "outputs": [],
   "source": [
    "# open the json file\n",
    "with open(sldb_json_file, 'r') as inputfile:\n",
    "    sldb_dict = json.load(inputfile)"
   ]
  },
  {
   "cell_type": "code",
   "execution_count": 40,
   "metadata": {},
   "outputs": [
    {
     "data": {
      "text/plain": [
       "'LD2011-2014_SEPARATED_MT_320-MT_330'"
      ]
     },
     "execution_count": 40,
     "metadata": {},
     "output_type": "execute_result"
    }
   ],
   "source": [
    "# and get the time series identifier\n",
    "ts_identifier = sldb_dict['ts']\n",
    "ts_identifier"
   ]
  },
  {
   "cell_type": "code",
   "execution_count": 41,
   "metadata": {},
   "outputs": [],
   "source": [
    "# get the SLDB parameters for the forecasting model\n",
    "config_json_file = '{}/{}/{}.json'.format(PROJECT_ROOT,\n",
    "                                          'parameters',\n",
    "                                          model_id)\n",
    "\n",
    "# recover the sldb dictionary from the json file in parameters/\n",
    "with open(config_json_file, 'r') as inputfile:\n",
    "    configuration = json.load(inputfile)"
   ]
  },
  {
   "cell_type": "code",
   "execution_count": 42,
   "metadata": {},
   "outputs": [
    {
     "data": {
      "text/plain": [
       "168"
      ]
     },
     "execution_count": 42,
     "metadata": {},
     "output_type": "execute_result"
    }
   ],
   "source": [
    "m = sldb_dict['embedding']['hourly']\n",
    "m"
   ]
  },
  {
   "cell_type": "code",
   "execution_count": 43,
   "metadata": {},
   "outputs": [
    {
     "data": {
      "text/plain": [
       "168"
      ]
     },
     "execution_count": 43,
     "metadata": {},
     "output_type": "execute_result"
    }
   ],
   "source": [
    "t = sldb_dict['no_targets']\n",
    "t"
   ]
  },
  {
   "cell_type": "code",
   "execution_count": 44,
   "metadata": {},
   "outputs": [
    {
     "data": {
      "text/plain": [
       "('BSCTRFM_TPU_017', 0, 'test', '024')"
      ]
     },
     "execution_count": 44,
     "metadata": {},
     "output_type": "execute_result"
    }
   ],
   "source": [
    "# verify the values of the variables for batch inference\n",
    "model_id, execution, dataset, inference"
   ]
  },
  {
   "cell_type": "code",
   "execution_count": 45,
   "metadata": {},
   "outputs": [],
   "source": [
    "# build a list of saved models, given the parameters in the previous cell\n",
    "saved_models = os.listdir('{}/models/{}_{:02d}/export/exporter'.format(PROJECT_ROOT, model_id, execution))"
   ]
  },
  {
   "cell_type": "code",
   "execution_count": 46,
   "metadata": {},
   "outputs": [
    {
     "data": {
      "text/plain": [
       "['1633532109', '1633532387', '1633532611', '1633532845', '1633533083']"
      ]
     },
     "execution_count": 46,
     "metadata": {},
     "output_type": "execute_result"
    }
   ],
   "source": [
    "saved_models.sort()\n",
    "saved_models"
   ]
  },
  {
   "cell_type": "code",
   "execution_count": null,
   "metadata": {},
   "outputs": [],
   "source": []
  },
  {
   "cell_type": "code",
   "execution_count": 47,
   "metadata": {},
   "outputs": [],
   "source": [
    "encoder_input_columns = [\n",
    "    'kw_scaled',\n",
    "    'sin_hour_day',\n",
    "    'cos_hour_day',\n",
    "    'sin_day_week',\n",
    "    'cos_day_week',\n",
    "    'sin_day_month',\n",
    "    'cos_day_month',\n",
    "    'sin_day_year',\n",
    "    'cos_day_year'\n",
    "]"
   ]
  },
  {
   "cell_type": "code",
   "execution_count": 48,
   "metadata": {},
   "outputs": [],
   "source": [
    "decoder_input_columns = encoder_input_columns"
   ]
  },
  {
   "cell_type": "code",
   "execution_count": 49,
   "metadata": {},
   "outputs": [],
   "source": [
    "id_columns = ['token_id']"
   ]
  },
  {
   "cell_type": "code",
   "execution_count": 50,
   "metadata": {},
   "outputs": [],
   "source": [
    "# now get the time series for the test dataset (unseen data)"
   ]
  },
  {
   "cell_type": "code",
   "execution_count": 51,
   "metadata": {},
   "outputs": [
    {
     "data": {
      "text/plain": [
       "'/home/developer/gcp/cbidmltsf/sldbs/LD2011-2014_SEPARATED_MT_320-MT_330_BSCTRFM_168_168/test'"
      ]
     },
     "execution_count": 51,
     "metadata": {},
     "output_type": "execute_result"
    }
   ],
   "source": [
    "# build the time series directory\n",
    "time_series_folder = '{}/test'.format(data_dir)\n",
    "time_series_folder"
   ]
  },
  {
   "cell_type": "code",
   "execution_count": 52,
   "metadata": {},
   "outputs": [
    {
     "name": "stdout",
     "output_type": "stream",
     "text": [
      "total 572\r\n",
      "-rw-rw-r-- 1 developer developer 49488 oct  3 10:40 MT_320.pkl\r\n",
      "-rw-rw-r-- 1 developer developer 49488 oct  3 10:40 MT_321.pkl\r\n",
      "-rw-rw-r-- 1 developer developer 49488 oct  3 10:40 MT_322.pkl\r\n",
      "-rw-rw-r-- 1 developer developer 49488 oct  3 10:40 MT_323.pkl\r\n",
      "-rw-rw-r-- 1 developer developer 49488 oct  3 10:40 MT_324.pkl\r\n",
      "-rw-rw-r-- 1 developer developer 49488 oct  3 10:40 MT_325.pkl\r\n",
      "-rw-rw-r-- 1 developer developer 49488 oct  3 10:40 MT_326.pkl\r\n",
      "-rw-rw-r-- 1 developer developer 49488 oct  3 10:40 MT_327.pkl\r\n",
      "-rw-rw-r-- 1 developer developer 49488 oct  3 10:40 MT_328.pkl\r\n",
      "-rw-rw-r-- 1 developer developer 49488 oct  3 10:40 MT_329.pkl\r\n",
      "-rw-rw-r-- 1 developer developer 49488 oct  3 10:40 MT_330.pkl\r\n"
     ]
    }
   ],
   "source": [
    "! ls -l /home/developer/gcp/cbidmltsf/sldbs/LD2011-2014_SEPARATED_MT_320-MT_330_BSCTRFM_168_168/test"
   ]
  },
  {
   "cell_type": "code",
   "execution_count": 53,
   "metadata": {},
   "outputs": [],
   "source": [
    "# use a dictionary to remain the code consistent with the SLDB building process\n",
    "# most of the times, only ts['test'] will be used for inference\n",
    "# however, ts['eval'] might also be used, as it have not really been seen by training process\n",
    "# (no tranining modification resulted from evaluation stage)"
   ]
  },
  {
   "cell_type": "markdown",
   "metadata": {},
   "source": [
    "### rename the time series dictionary to ts_test, use the customer_id as key"
   ]
  },
  {
   "cell_type": "code",
   "execution_count": 54,
   "metadata": {},
   "outputs": [],
   "source": [
    "ts_test = dict()"
   ]
  },
  {
   "cell_type": "code",
   "execution_count": 55,
   "metadata": {},
   "outputs": [],
   "source": [
    "# a dictionary to store predictions detail dataframe per customer id\n",
    "predictions_detail = dict()"
   ]
  },
  {
   "cell_type": "code",
   "execution_count": null,
   "metadata": {},
   "outputs": [],
   "source": []
  },
  {
   "cell_type": "code",
   "execution_count": null,
   "metadata": {},
   "outputs": [],
   "source": []
  },
  {
   "cell_type": "markdown",
   "metadata": {},
   "source": [
    "## skip the following code to avoid inference process"
   ]
  },
  {
   "cell_type": "markdown",
   "metadata": {},
   "source": [
    "### set customer_id, load time series and scaler on training data"
   ]
  },
  {
   "cell_type": "code",
   "execution_count": 56,
   "metadata": {
    "scrolled": true
   },
   "outputs": [
    {
     "name": "stdout",
     "output_type": "stream",
     "text": [
      "Loaded test time series for MT_320, which spans from 2014-08-18 01:00:00 to 2014-09-07 23:00:00\n",
      "Exported model path is /home/developer/gcp/cbidmltsf/models/BSCTRFM_TPU_017_00/export/exporter/1633532109\n",
      "Persisted predictions detail of BSCTRFM_TPU_017_00_1633532109_MT_320_024_00\n",
      "Exported model path is /home/developer/gcp/cbidmltsf/models/BSCTRFM_TPU_017_00/export/exporter/1633532387\n",
      "Persisted predictions detail of BSCTRFM_TPU_017_00_1633532387_MT_320_024_00\n",
      "Exported model path is /home/developer/gcp/cbidmltsf/models/BSCTRFM_TPU_017_00/export/exporter/1633532611\n",
      "Persisted predictions detail of BSCTRFM_TPU_017_00_1633532611_MT_320_024_00\n",
      "Exported model path is /home/developer/gcp/cbidmltsf/models/BSCTRFM_TPU_017_00/export/exporter/1633532845\n",
      "Persisted predictions detail of BSCTRFM_TPU_017_00_1633532845_MT_320_024_00\n",
      "Exported model path is /home/developer/gcp/cbidmltsf/models/BSCTRFM_TPU_017_00/export/exporter/1633533083\n",
      "Persisted predictions detail of BSCTRFM_TPU_017_00_1633533083_MT_320_024_00\n",
      "Loaded test time series for MT_321, which spans from 2014-08-18 01:00:00 to 2014-09-07 23:00:00\n",
      "Exported model path is /home/developer/gcp/cbidmltsf/models/BSCTRFM_TPU_017_00/export/exporter/1633532109\n",
      "Persisted predictions detail of BSCTRFM_TPU_017_00_1633532109_MT_321_024_00\n",
      "Exported model path is /home/developer/gcp/cbidmltsf/models/BSCTRFM_TPU_017_00/export/exporter/1633532387\n",
      "Persisted predictions detail of BSCTRFM_TPU_017_00_1633532387_MT_321_024_00\n",
      "Exported model path is /home/developer/gcp/cbidmltsf/models/BSCTRFM_TPU_017_00/export/exporter/1633532611\n",
      "Persisted predictions detail of BSCTRFM_TPU_017_00_1633532611_MT_321_024_00\n",
      "Exported model path is /home/developer/gcp/cbidmltsf/models/BSCTRFM_TPU_017_00/export/exporter/1633532845\n",
      "Persisted predictions detail of BSCTRFM_TPU_017_00_1633532845_MT_321_024_00\n",
      "Exported model path is /home/developer/gcp/cbidmltsf/models/BSCTRFM_TPU_017_00/export/exporter/1633533083\n",
      "Persisted predictions detail of BSCTRFM_TPU_017_00_1633533083_MT_321_024_00\n",
      "Loaded test time series for MT_322, which spans from 2014-08-18 01:00:00 to 2014-09-07 23:00:00\n",
      "Exported model path is /home/developer/gcp/cbidmltsf/models/BSCTRFM_TPU_017_00/export/exporter/1633532109\n",
      "Persisted predictions detail of BSCTRFM_TPU_017_00_1633532109_MT_322_024_00\n",
      "Exported model path is /home/developer/gcp/cbidmltsf/models/BSCTRFM_TPU_017_00/export/exporter/1633532387\n",
      "Persisted predictions detail of BSCTRFM_TPU_017_00_1633532387_MT_322_024_00\n",
      "Exported model path is /home/developer/gcp/cbidmltsf/models/BSCTRFM_TPU_017_00/export/exporter/1633532611\n",
      "Persisted predictions detail of BSCTRFM_TPU_017_00_1633532611_MT_322_024_00\n",
      "Exported model path is /home/developer/gcp/cbidmltsf/models/BSCTRFM_TPU_017_00/export/exporter/1633532845\n",
      "Persisted predictions detail of BSCTRFM_TPU_017_00_1633532845_MT_322_024_00\n",
      "Exported model path is /home/developer/gcp/cbidmltsf/models/BSCTRFM_TPU_017_00/export/exporter/1633533083\n",
      "Persisted predictions detail of BSCTRFM_TPU_017_00_1633533083_MT_322_024_00\n",
      "Loaded test time series for MT_323, which spans from 2014-08-18 01:00:00 to 2014-09-07 23:00:00\n",
      "Exported model path is /home/developer/gcp/cbidmltsf/models/BSCTRFM_TPU_017_00/export/exporter/1633532109\n",
      "Persisted predictions detail of BSCTRFM_TPU_017_00_1633532109_MT_323_024_00\n",
      "Exported model path is /home/developer/gcp/cbidmltsf/models/BSCTRFM_TPU_017_00/export/exporter/1633532387\n",
      "Persisted predictions detail of BSCTRFM_TPU_017_00_1633532387_MT_323_024_00\n",
      "Exported model path is /home/developer/gcp/cbidmltsf/models/BSCTRFM_TPU_017_00/export/exporter/1633532611\n",
      "Persisted predictions detail of BSCTRFM_TPU_017_00_1633532611_MT_323_024_00\n",
      "Exported model path is /home/developer/gcp/cbidmltsf/models/BSCTRFM_TPU_017_00/export/exporter/1633532845\n",
      "Persisted predictions detail of BSCTRFM_TPU_017_00_1633532845_MT_323_024_00\n",
      "Exported model path is /home/developer/gcp/cbidmltsf/models/BSCTRFM_TPU_017_00/export/exporter/1633533083\n",
      "Persisted predictions detail of BSCTRFM_TPU_017_00_1633533083_MT_323_024_00\n",
      "Loaded test time series for MT_324, which spans from 2014-08-18 01:00:00 to 2014-09-07 23:00:00\n",
      "Exported model path is /home/developer/gcp/cbidmltsf/models/BSCTRFM_TPU_017_00/export/exporter/1633532109\n",
      "Persisted predictions detail of BSCTRFM_TPU_017_00_1633532109_MT_324_024_00\n",
      "Exported model path is /home/developer/gcp/cbidmltsf/models/BSCTRFM_TPU_017_00/export/exporter/1633532387\n",
      "Persisted predictions detail of BSCTRFM_TPU_017_00_1633532387_MT_324_024_00\n",
      "Exported model path is /home/developer/gcp/cbidmltsf/models/BSCTRFM_TPU_017_00/export/exporter/1633532611\n",
      "Persisted predictions detail of BSCTRFM_TPU_017_00_1633532611_MT_324_024_00\n",
      "Exported model path is /home/developer/gcp/cbidmltsf/models/BSCTRFM_TPU_017_00/export/exporter/1633532845\n",
      "Persisted predictions detail of BSCTRFM_TPU_017_00_1633532845_MT_324_024_00\n",
      "Exported model path is /home/developer/gcp/cbidmltsf/models/BSCTRFM_TPU_017_00/export/exporter/1633533083\n",
      "Persisted predictions detail of BSCTRFM_TPU_017_00_1633533083_MT_324_024_00\n",
      "Loaded test time series for MT_325, which spans from 2014-08-18 01:00:00 to 2014-09-07 23:00:00\n",
      "Exported model path is /home/developer/gcp/cbidmltsf/models/BSCTRFM_TPU_017_00/export/exporter/1633532109\n",
      "Persisted predictions detail of BSCTRFM_TPU_017_00_1633532109_MT_325_024_00\n",
      "Exported model path is /home/developer/gcp/cbidmltsf/models/BSCTRFM_TPU_017_00/export/exporter/1633532387\n",
      "Persisted predictions detail of BSCTRFM_TPU_017_00_1633532387_MT_325_024_00\n",
      "Exported model path is /home/developer/gcp/cbidmltsf/models/BSCTRFM_TPU_017_00/export/exporter/1633532611\n",
      "Persisted predictions detail of BSCTRFM_TPU_017_00_1633532611_MT_325_024_00\n",
      "Exported model path is /home/developer/gcp/cbidmltsf/models/BSCTRFM_TPU_017_00/export/exporter/1633532845\n",
      "Persisted predictions detail of BSCTRFM_TPU_017_00_1633532845_MT_325_024_00\n",
      "Exported model path is /home/developer/gcp/cbidmltsf/models/BSCTRFM_TPU_017_00/export/exporter/1633533083\n",
      "Persisted predictions detail of BSCTRFM_TPU_017_00_1633533083_MT_325_024_00\n",
      "Loaded test time series for MT_326, which spans from 2014-08-18 01:00:00 to 2014-09-07 23:00:00\n",
      "Exported model path is /home/developer/gcp/cbidmltsf/models/BSCTRFM_TPU_017_00/export/exporter/1633532109\n",
      "Persisted predictions detail of BSCTRFM_TPU_017_00_1633532109_MT_326_024_00\n",
      "Exported model path is /home/developer/gcp/cbidmltsf/models/BSCTRFM_TPU_017_00/export/exporter/1633532387\n",
      "Persisted predictions detail of BSCTRFM_TPU_017_00_1633532387_MT_326_024_00\n",
      "Exported model path is /home/developer/gcp/cbidmltsf/models/BSCTRFM_TPU_017_00/export/exporter/1633532611\n",
      "Persisted predictions detail of BSCTRFM_TPU_017_00_1633532611_MT_326_024_00\n",
      "Exported model path is /home/developer/gcp/cbidmltsf/models/BSCTRFM_TPU_017_00/export/exporter/1633532845\n",
      "Persisted predictions detail of BSCTRFM_TPU_017_00_1633532845_MT_326_024_00\n",
      "Exported model path is /home/developer/gcp/cbidmltsf/models/BSCTRFM_TPU_017_00/export/exporter/1633533083\n",
      "Persisted predictions detail of BSCTRFM_TPU_017_00_1633533083_MT_326_024_00\n",
      "Loaded test time series for MT_327, which spans from 2014-08-18 01:00:00 to 2014-09-07 23:00:00\n",
      "Exported model path is /home/developer/gcp/cbidmltsf/models/BSCTRFM_TPU_017_00/export/exporter/1633532109\n",
      "Persisted predictions detail of BSCTRFM_TPU_017_00_1633532109_MT_327_024_00\n",
      "Exported model path is /home/developer/gcp/cbidmltsf/models/BSCTRFM_TPU_017_00/export/exporter/1633532387\n",
      "Persisted predictions detail of BSCTRFM_TPU_017_00_1633532387_MT_327_024_00\n",
      "Exported model path is /home/developer/gcp/cbidmltsf/models/BSCTRFM_TPU_017_00/export/exporter/1633532611\n",
      "Persisted predictions detail of BSCTRFM_TPU_017_00_1633532611_MT_327_024_00\n",
      "Exported model path is /home/developer/gcp/cbidmltsf/models/BSCTRFM_TPU_017_00/export/exporter/1633532845\n",
      "Persisted predictions detail of BSCTRFM_TPU_017_00_1633532845_MT_327_024_00\n",
      "Exported model path is /home/developer/gcp/cbidmltsf/models/BSCTRFM_TPU_017_00/export/exporter/1633533083\n",
      "Persisted predictions detail of BSCTRFM_TPU_017_00_1633533083_MT_327_024_00\n",
      "Loaded test time series for MT_328, which spans from 2014-08-18 01:00:00 to 2014-09-07 23:00:00\n",
      "Exported model path is /home/developer/gcp/cbidmltsf/models/BSCTRFM_TPU_017_00/export/exporter/1633532109\n"
     ]
    },
    {
     "name": "stdout",
     "output_type": "stream",
     "text": [
      "Persisted predictions detail of BSCTRFM_TPU_017_00_1633532109_MT_328_024_00\n",
      "Exported model path is /home/developer/gcp/cbidmltsf/models/BSCTRFM_TPU_017_00/export/exporter/1633532387\n",
      "Persisted predictions detail of BSCTRFM_TPU_017_00_1633532387_MT_328_024_00\n",
      "Exported model path is /home/developer/gcp/cbidmltsf/models/BSCTRFM_TPU_017_00/export/exporter/1633532611\n",
      "Persisted predictions detail of BSCTRFM_TPU_017_00_1633532611_MT_328_024_00\n",
      "Exported model path is /home/developer/gcp/cbidmltsf/models/BSCTRFM_TPU_017_00/export/exporter/1633532845\n",
      "Persisted predictions detail of BSCTRFM_TPU_017_00_1633532845_MT_328_024_00\n",
      "Exported model path is /home/developer/gcp/cbidmltsf/models/BSCTRFM_TPU_017_00/export/exporter/1633533083\n",
      "Persisted predictions detail of BSCTRFM_TPU_017_00_1633533083_MT_328_024_00\n",
      "Loaded test time series for MT_329, which spans from 2014-08-18 01:00:00 to 2014-09-07 23:00:00\n",
      "Exported model path is /home/developer/gcp/cbidmltsf/models/BSCTRFM_TPU_017_00/export/exporter/1633532109\n",
      "Persisted predictions detail of BSCTRFM_TPU_017_00_1633532109_MT_329_024_00\n",
      "Exported model path is /home/developer/gcp/cbidmltsf/models/BSCTRFM_TPU_017_00/export/exporter/1633532387\n",
      "Persisted predictions detail of BSCTRFM_TPU_017_00_1633532387_MT_329_024_00\n",
      "Exported model path is /home/developer/gcp/cbidmltsf/models/BSCTRFM_TPU_017_00/export/exporter/1633532611\n",
      "Persisted predictions detail of BSCTRFM_TPU_017_00_1633532611_MT_329_024_00\n",
      "Exported model path is /home/developer/gcp/cbidmltsf/models/BSCTRFM_TPU_017_00/export/exporter/1633532845\n",
      "Persisted predictions detail of BSCTRFM_TPU_017_00_1633532845_MT_329_024_00\n",
      "Exported model path is /home/developer/gcp/cbidmltsf/models/BSCTRFM_TPU_017_00/export/exporter/1633533083\n",
      "Persisted predictions detail of BSCTRFM_TPU_017_00_1633533083_MT_329_024_00\n",
      "Loaded test time series for MT_330, which spans from 2014-08-18 01:00:00 to 2014-09-07 23:00:00\n",
      "Exported model path is /home/developer/gcp/cbidmltsf/models/BSCTRFM_TPU_017_00/export/exporter/1633532109\n",
      "Persisted predictions detail of BSCTRFM_TPU_017_00_1633532109_MT_330_024_00\n",
      "Exported model path is /home/developer/gcp/cbidmltsf/models/BSCTRFM_TPU_017_00/export/exporter/1633532387\n",
      "Persisted predictions detail of BSCTRFM_TPU_017_00_1633532387_MT_330_024_00\n",
      "Exported model path is /home/developer/gcp/cbidmltsf/models/BSCTRFM_TPU_017_00/export/exporter/1633532611\n",
      "Persisted predictions detail of BSCTRFM_TPU_017_00_1633532611_MT_330_024_00\n",
      "Exported model path is /home/developer/gcp/cbidmltsf/models/BSCTRFM_TPU_017_00/export/exporter/1633532845\n",
      "Persisted predictions detail of BSCTRFM_TPU_017_00_1633532845_MT_330_024_00\n",
      "Exported model path is /home/developer/gcp/cbidmltsf/models/BSCTRFM_TPU_017_00/export/exporter/1633533083\n",
      "Persisted predictions detail of BSCTRFM_TPU_017_00_1633533083_MT_330_024_00\n"
     ]
    }
   ],
   "source": [
    "# a second inference identifier to run more than one inference\n",
    "# on the same combination model_id, execution, inference;\n",
    "# to produce different inference processes because predict_fn is stochastic\n",
    "event = 0\n",
    "\n",
    "for customer_id in ['MT_320', 'MT_321', 'MT_322', 'MT_323', 'MT_324', 'MT_325',\n",
    "                    'MT_326', 'MT_327', 'MT_328', 'MT_329', 'MT_330']:\n",
    "    \n",
    "    # read the time series for the current customer\n",
    "    ts_test[customer_id] = pd.read_pickle('{}/test/{}.pkl'.format(data_dir, customer_id))\n",
    "\n",
    "    # for consistency, rename the column 'date' as 'timestamp'\n",
    "    ts_test[customer_id] = ts_test[customer_id].rename(columns={\"date\": \"timestamp\"})\n",
    "    # set the column 'timestamp' as index\n",
    "    ts_test[customer_id] = ts_test[customer_id].set_index('timestamp')\n",
    "\n",
    "    # report start and end timestamp for the loaded time series\n",
    "    print('Loaded test time series for {}, which spans from {} to {}'.\\\n",
    "         format(customer_id,\n",
    "                str(ts_test[customer_id].index[:1][0]),\n",
    "                str(ts_test[customer_id].index[-1:][0])))\n",
    "\n",
    "    # build a path to the scaler of the time series\n",
    "    scaler_path = '{}/scalers/{}_min_max.save'.format(data_dir, customer_id)\n",
    "    # and load it\n",
    "    min_max_scaler = joblib.load(scaler_path)\n",
    "\n",
    "    # pass the saved model identifier (it determines the number of training epochs)\n",
    "    # and avoid using the latest saved model by default\n",
    "    for saved_model_id in saved_models:\n",
    "\n",
    "        # a columns list for the predictions dataframe\n",
    "        pred_df_columns = ['model_id',\n",
    "                           'execution',\n",
    "                           'dataset',\n",
    "                           'inference',\n",
    "                           'customer_id',\n",
    "                           'string_timestamps',\n",
    "                           'predictions',\n",
    "                           'targets']\n",
    "\n",
    "        # build the predictions dataframe as a key-value pair of the dictionary\n",
    "        predictions_detail[customer_id] = pd.DataFrame(columns=pred_df_columns)\n",
    "\n",
    "        # use model identifier and execution number to build the model directory string\n",
    "        model_dir = '{}_{:02d}'.format(model_id, execution)\n",
    "\n",
    "        # get the path to the saved model main directory\n",
    "        saved_model_path = '{}/{}/{}/export/exporter'.format(PROJECT_ROOT,\n",
    "                                                             'models',\n",
    "                                                             model_dir)\n",
    "\n",
    "        # get all the files in the saved model path, to find the most recent one\n",
    "        # all_files = os.listdir(saved_model_path)\n",
    "        # get the path to the most recent saved model\n",
    "        # latest_saved_model_id = sorted(all_files)[-1]\n",
    "\n",
    "        # build the full path for the latest saved model dir\n",
    "        export_dir = '{}/{}'.format(saved_model_path, saved_model_id)\n",
    "        print ('Exported model path is {}'.format(export_dir))\n",
    "\n",
    "        # load the saved model and the prediction function\n",
    "        imported = load(export_dir=export_dir, tags='serve')\n",
    "        predict_fn = imported.signatures[\"serving_default\"]\n",
    "\n",
    "        # iterate on a set of valid rows of the test dataset\n",
    "        starting_point = 0 # based on the inference dataset\n",
    "        span = 1 + 6*24 # number of days in the test dataset, expressed in hours\n",
    "        dataset_row_indexes_list = starting_point + np.arange(span)\n",
    "\n",
    "        for start_index in dataset_row_indexes_list:\n",
    "\n",
    "            # define first prediction interval with start- and end-index\n",
    "            # given the interval time_series[start_index:end_index]\n",
    "            # the conditioning range is the union of the encoder-input and the decoder-input\n",
    "            # and the prediction range is only the last lecture in the interval,\n",
    "            # by means of a recursive inference process\n",
    "            # on each step the last prediction is added to the decoder input\n",
    "            # and the prediction range grows one step into the future\n",
    "\n",
    "            # get the end-index of this recursive inference interval\n",
    "            end_index = start_index + (m + t)\n",
    "\n",
    "            # initialize a list to store recurrent predictions for this interval\n",
    "            predictions_list = list()\n",
    "\n",
    "            for i in np.arange(forecast_window):\n",
    "\n",
    "                # build the inference interval as a sub-series of the dataset\n",
    "                sub_series = ts_test[customer_id][start_index + i : end_index + i]\n",
    "\n",
    "                # important: build sources as copies of the sub-series (and therefore of the global time series)\n",
    "                # to avoid overwriting the original dataset\n",
    "\n",
    "                # the encoder input source\n",
    "                encoder_input = sub_series[encoder_input_columns][:m].copy()\n",
    "\n",
    "                # the decoder input source\n",
    "                # decoder_input = sub_series[m-1:-1].copy()\n",
    "                decoder_input = sub_series[decoder_input_columns][m-1:m-1+t].copy()\n",
    "\n",
    "                # the id (integer) for the customer\n",
    "                id_input = sub_series[id_columns][:1].copy()\n",
    "\n",
    "                # on first step (i=0), the decoder input carries only true values\n",
    "                # and the predictions list is empty\n",
    "                # on subsequent steps, the decoder input includes all previous predictions\n",
    "                # (stored in the predictions list)\n",
    "                if i > 0:\n",
    "                    decoder_input['kw_scaled'][-i:] = predictions_list\n",
    "\n",
    "                # the target source, for metrics calculation\n",
    "                # the first part of the sub-series is the encoder input, and\n",
    "                # the second part of the sub-series is the target (only the variable column!)\n",
    "                target = sub_series['kw_scaled'][m:].copy()\n",
    "\n",
    "                # build source tensors from the sub-series    \n",
    "                encoder_input_tensor = tf.expand_dims(encoder_input, axis=0)\n",
    "                decoder_input_tensor = tf.expand_dims(decoder_input, axis=0)\n",
    "                id_tensor = tf.expand_dims(id_input, axis=0)\n",
    "\n",
    "                # make input example for the prediction function\n",
    "                input_example = input_tensors_to_serialized_example(encoder_input_tensor,\n",
    "                                                                    decoder_input_tensor,\n",
    "                                                                    id_tensor)\n",
    "\n",
    "                # get the output of the prediction function as a dictionary\n",
    "                predict_output_dict = predict_fn(input_example)\n",
    "\n",
    "                # get the prediction output tensor\n",
    "                predict_output_tensor = predict_output_dict['forecast']\n",
    "\n",
    "                # get the most recent prediction\n",
    "                most_recent_prediction = predict_output_tensor[0, :, 0].numpy()[-1]\n",
    "\n",
    "                # append the most recent prediction timestep to the predictions list\n",
    "                predictions_list.append(most_recent_prediction)\n",
    "\n",
    "                # pass the predictions list to an array\n",
    "                # current_predictions_array = np.array(predictions_list).reshape(-1, 1)\n",
    "                # get the targets vector to be compared with the current predictions array\n",
    "                # current_targets = np.array(target[-i-1:]).reshape(-1, 1)\n",
    "\n",
    "                # calculate SMAPE on the rescaled variable\n",
    "                # rescaled_predictions = min_max_scaler.inverse_transform(current_predictions_array)\n",
    "                # rescaled_targets = min_max_scaler.inverse_transform(current_targets)\n",
    "\n",
    "                # current_smape = symmetric_mean_absolute_percentage_error(\n",
    "                #     rescaled_targets, rescaled_predictions)\n",
    "                # print('On row {}, SMAPE for the first {} rescaled prediction(s) is {}'.format(start_index,\n",
    "                #                                                                               i + 1,\n",
    "                #                                                                               current_smape))        \n",
    "\n",
    "            # iterative predictions over the forecast window reside in predictions_list\n",
    "            # convert list to array, then expand feature dimension with value 1\n",
    "            predicted_values = np.array(predictions_list).reshape(-1, 1)\n",
    "\n",
    "            # inverse-scale predictions\n",
    "            rescaled_predicted_values = min_max_scaler.inverse_transform(predicted_values)\n",
    "\n",
    "            # and the true values remain in the prediction tensor, pass them to a NumPy array\n",
    "            # for the true values array, expand feature dimension with value 1\n",
    "            true_values = np.array(target[-i-1:]).reshape(-1, 1)\n",
    "\n",
    "            # inverse-scale true values\n",
    "            rescaled_true_values = min_max_scaler.inverse_transform(true_values)\n",
    "\n",
    "            # a temporary dataframe built from the data in the current row\n",
    "            df = pd.DataFrame(columns=pred_df_columns)\n",
    "            df['model_id'] = [model_id]\n",
    "            df['execution'] = [execution]\n",
    "            df['dataset'] = [dataset]\n",
    "            df['inference'] = [inference]\n",
    "            df['customer_id'] = [customer_id]\n",
    "            df['string_timestamps']= [pd.to_datetime(target.index[-i-1:]).astype(str).tolist()]\n",
    "            df['predictions'] = [np.squeeze(rescaled_predicted_values).tolist()]\n",
    "            df['targets'] = [np.squeeze(rescaled_true_values).tolist()]\n",
    "\n",
    "            # calculate mean absolute error and normalized deviation\n",
    "            mae = mean_absolute_error(rescaled_true_values, rescaled_predicted_values)\n",
    "            df['mae'] = mae\n",
    "\n",
    "            true_values_average = np.mean(rescaled_true_values)\n",
    "            df['nd'] = mae/true_values_average\n",
    "\n",
    "            # calculate root mean squared error and normalized root mean squared error\n",
    "            rmse = sqrt(mean_squared_error(rescaled_true_values, rescaled_predicted_values))\n",
    "            df['rmse'] = rmse\n",
    "            df['nrmse'] = rmse/true_values_average\n",
    "\n",
    "            df['smape'] = symmetric_mean_absolute_percentage_error(rescaled_true_values,\n",
    "                                                                   rescaled_predicted_values)\n",
    "\n",
    "            # append the temporary dataframe to the predictions detail dataframe\n",
    "            predictions_detail[customer_id] = pd.concat([predictions_detail[customer_id], df])\n",
    "\n",
    "\n",
    "        # reset the index of final dataframe, once all of its rows (dataset) have been processed\n",
    "        predictions_detail[customer_id] = predictions_detail[customer_id].reset_index(drop=True)\n",
    "\n",
    "\n",
    "        # hard-wired switcher to persist dataframe\n",
    "        persist_detail = True\n",
    "        \n",
    "        if persist_detail:\n",
    "            # build a path to persist the dataframe to database/predictions_detail/\n",
    "            detail_pickle_path = '{}/{}/{}/{}_{:02d}_{}_{}_{}_{:02d}.pkl'.format(\n",
    "                PROJECT_ROOT,\n",
    "                'database',\n",
    "                'predictions_detail',\n",
    "                model_id,\n",
    "                execution,\n",
    "                saved_model_id,\n",
    "                # for electricity dataset, replace dataset with customer_id\n",
    "                customer_id,\n",
    "                inference,\n",
    "                event)\n",
    "\n",
    "            # persist the Pandas dataframe to database/predictions_detail/\n",
    "            predictions_detail[customer_id].to_pickle(detail_pickle_path)\n",
    "            print(\n",
    "                'Persisted predictions detail of {}_{:02d}_{}_{}_{}_{:02d}'.format(model_id,\n",
    "                                                                                   execution,\n",
    "                                                                                   saved_model_id,\n",
    "                                                                                   customer_id,\n",
    "                                                                                   inference,\n",
    "                                                                                   event)\n",
    "            )"
   ]
  },
  {
   "cell_type": "code",
   "execution_count": null,
   "metadata": {},
   "outputs": [],
   "source": []
  },
  {
   "cell_type": "markdown",
   "metadata": {},
   "source": [
    "## load predictions detail dataframes from the database directory"
   ]
  },
  {
   "cell_type": "code",
   "execution_count": 30,
   "metadata": {},
   "outputs": [],
   "source": [
    "model_id = 'BSCTRFM_TPU_014'\n",
    "execution = 4\n",
    "saved_model_id = '1631533140'\n",
    "inference = '024'"
   ]
  },
  {
   "cell_type": "code",
   "execution_count": 31,
   "metadata": {},
   "outputs": [],
   "source": [
    "customer_ids = [\n",
    "    'MT_320', 'MT_321', 'MT_322', 'MT_323', 'MT_324', 'MT_325', 'MT_326', 'MT_327', 'MT_328', 'MT_329', 'MT_330'\n",
    "]"
   ]
  },
  {
   "cell_type": "code",
   "execution_count": 32,
   "metadata": {},
   "outputs": [],
   "source": [
    "for customer_id in customer_ids:\n",
    "    detail_pickle_path = '{}/{}/{}/{}_{:02d}_{}_{}_{}.pkl'.format(\n",
    "        PROJECT_ROOT,\n",
    "        'database',\n",
    "        'predictions_detail',\n",
    "        model_id,\n",
    "        execution,\n",
    "        saved_model_id,\n",
    "        # for electricity dataset, replace dataset with customer_id\n",
    "        customer_id,\n",
    "        inference)\n",
    "    \n",
    "    predictions_detail[customer_id] = pd.read_pickle(detail_pickle_path)"
   ]
  },
  {
   "cell_type": "code",
   "execution_count": null,
   "metadata": {},
   "outputs": [],
   "source": []
  },
  {
   "cell_type": "code",
   "execution_count": 33,
   "metadata": {},
   "outputs": [],
   "source": [
    "# a dictionary to manage Bokeh plots\n",
    "plots = dict()"
   ]
  },
  {
   "cell_type": "code",
   "execution_count": 34,
   "metadata": {
    "scrolled": false
   },
   "outputs": [
    {
     "data": {
      "text/html": [
       "\n",
       "\n",
       "\n",
       "\n",
       "\n",
       "\n",
       "  <div class=\"bk-root\" id=\"eda5dabd-e98c-469b-b6ee-75bf78544f30\" data-root-id=\"1002\"></div>\n"
      ]
     },
     "metadata": {},
     "output_type": "display_data"
    },
    {
     "data": {
      "application/javascript": [
       "(function(root) {\n",
       "  function embed_document(root) {\n",
       "    \n",
       "  var docs_json = {\"8f3f0755-ae23-49ed-bcb4-2dccec529308\":{\"roots\":{\"references\":[{\"attributes\":{\"below\":[{\"id\":\"1013\",\"type\":\"LinearAxis\"}],\"center\":[{\"id\":\"1017\",\"type\":\"Grid\"},{\"id\":\"1022\",\"type\":\"Grid\"},{\"id\":\"1047\",\"type\":\"Legend\"}],\"left\":[{\"id\":\"1018\",\"type\":\"LinearAxis\"}],\"plot_height\":320,\"plot_width\":960,\"renderers\":[{\"id\":\"1039\",\"type\":\"GlyphRenderer\"},{\"id\":\"1052\",\"type\":\"GlyphRenderer\"},{\"id\":\"1066\",\"type\":\"GlyphRenderer\"}],\"title\":{\"id\":\"1003\",\"type\":\"Title\"},\"toolbar\":{\"id\":\"1029\",\"type\":\"Toolbar\"},\"x_range\":{\"id\":\"1005\",\"type\":\"DataRange1d\"},\"x_scale\":{\"id\":\"1009\",\"type\":\"LinearScale\"},\"y_range\":{\"id\":\"1007\",\"type\":\"DataRange1d\"},\"y_scale\":{\"id\":\"1011\",\"type\":\"LinearScale\"}},\"id\":\"1002\",\"subtype\":\"Figure\",\"type\":\"Plot\"},{\"attributes\":{\"source\":{\"id\":\"1036\",\"type\":\"ColumnDataSource\"}},\"id\":\"1040\",\"type\":\"CDSView\"},{\"attributes\":{\"callback\":null,\"data\":{\"x\":[0,1,2,3,4,5,6,7,8,9,10,11,12,13,14,15,16,17,18,19,20,21,22,23,24,25,26,27,28,29,30,31,32,33,34,35,36,37,38,39,40,41,42,43,44,45,46,47,48,49,50,51,52,53,54,55,56,57,58,59,60,61,62,63,64,65,66,67,68,69,70,71,72,73,74,75,76,77,78,79,80,81,82,83,84,85,86,87,88,89,90,91,92,93,94,95,96,97,98,99,100,101,102,103,104,105,106,107,108,109,110,111,112,113,114,115,116,117,118,119,120,121,122,123,124,125,126,127,128,129,130,131,132,133,134,135,136,137,138,139,140,141,142,143,144],\"y\":{\"__ndarray__\":\"y4w69E6UtT8a3sw50mK0P65SvP2/3rI/ddrpo+vOtT/ntP8742m0P3f1M/BdXbM/YJRP8IZptT9sTsri7iu1P9i8Q1nVG7Y/w26wXKxftD94FE4ayZe2P0xW5DPMd7U/EetsRmrLtT9PDMgycUa0Pwza/jT11LI/qDlirm1DsD+iT35vUWKvP+mC5llt0qs/JKQbDvU9sT9tYCfDmZywP+XMVhAPYbA/lWPQDIAYsD909IqVDHOwP1O1ZxCm6K8/rVMu/oZSrT98cgEHADCvP1UQB2/opK8/GSNH7tj+rT+XmEhFMkyvP/oXzKFx3bA/q/3C0vSVsD/90oE3W76yP6ZYWJLNnrQ/n31NZNPgsD/Cm+JzjGevP/rGYifIZbA/s+SPQ/YesD9M4hP8UVOyP/Fcj8XygrA/d2FauQYItT8amqPiGBO1PxkKUqyh1LU/gt/EL+O2tD/z8DjTZmiyP4Ra7t9JiLQ/Qri12A8bsz8R+ZpFqO60PyVib+9JbbU/LHV0ZvCisT+UIPNl/1S0Pww9Qsz3JbI/1osm3f25tT8gHF96sB62P5+AU8EK/rM/6FG1n4Cssz+wY67VwDW0P8HmH7qxj7I/h1PBXkelsz/3IrIsPkO0P08E5sOGFbI/41dcDs1Usj8Xurl4CXazP5KAClfpUbY//GOll3VYsT8S339LhmyzP74B9vr6L7I/gdmom6datD9RijWPeDKwPxTDxCf8dbM/2pBJAFUpsz8r0OoFg1y0P4jS+teD1rI/F3t5obyktD8+8ihAwQOxP3WqGVYor7M/9RDKc3qSsj+J7nytBGWyP2mQ9DV5JbI/irHBKVrusj9bA+qNB/6xP/qtqtE8q7Q/GehgiFnpsj8Wkyktrs+zP9cHNqJcTLU/KMUvwrFntj/hDDGMNnS1P/W2LJyrdLY/TBaD/Vhdtz8koiXTfje5P4mbVnh1JbU/84RSISWLtz8MuwPr8lK2P2RnnWMjGbg/C8w64jpVuD96ucsPGqu5P3FBatDW6Lg/6NnCYFDXuj895ZSAq3W5P4/QlNy8Mbo/zo8R3Ad3uD80VD6Jvxm2P/jBOEz6a7k/jDvzwO5iuT801+SzEEa4P0oXs10RXrk/LJADrjN9uT9YzwKTOEe7P3L2SmA9k7k/Nn2+giMFuD+xxOwr/0m6P0KwCYMlTLs/hn0wJVDduz8eocfOFQC9P1Tt0q3bOr4/n5NggvN/vj9uNVLhozS9P8WlCJH3cL0/FyZhhmKrvD+VTCCqzQy7P5bOxSSrKMA/Z/7XYBvevj/6fjoy7N+/P+FfO04i7r4/8GYahrJEvz8HEOMD/Ry8P2en4nQxxb0/hfa3kxa+wD9O8c1acES+P5TvB8EFRb8/6DVQQR8ruT/fkiJDRG+9P47llnJQabw/l1RmwSz2uj+k0tyg1665P06+NheasLc/k8Hr9VPKtz9ObHKIaXS4P9DrBGb7zrs/B9WaVeG8uz93udkh6NO6P5uYuTPnmrk/277als7/uz/4yMf3w9a4P4M+wLX26Lk/Veoh9HGSvT8=\",\"dtype\":\"float64\",\"shape\":[145]}},\"selected\":{\"id\":\"1060\",\"type\":\"Selection\"},\"selection_policy\":{\"id\":\"1061\",\"type\":\"UnionRenderers\"}},\"id\":\"1036\",\"type\":\"ColumnDataSource\"},{\"attributes\":{\"line_color\":\"orange\",\"line_width\":2,\"x\":{\"field\":\"x\"},\"y\":{\"field\":\"y\"}},\"id\":\"1037\",\"type\":\"Line\"},{\"attributes\":{\"callback\":null,\"data\":{\"x\":[0,1,2,3,4,5,6,7,8,9,10,11,12,13,14,15,16,17,18,19,20,21,22,23,24,25,26,27,28,29,30,31,32,33,34,35,36,37,38,39,40,41,42,43,44,45,46,47,48,49,50,51,52,53,54,55,56,57,58,59,60,61,62,63,64,65,66,67,68,69,70,71,72,73,74,75,76,77,78,79,80,81,82,83,84,85,86,87,88,89,90,91,92,93,94,95,96,97,98,99,100,101,102,103,104,105,106,107,108,109,110,111,112,113,114,115,116,117,118,119,120,121,122,123,124,125,126,127,128,129,130,131,132,133,134,135,136,137,138,139,140,141,142,143,144],\"y\":{\"__ndarray__\":\"SEKoYl4lvT97KbpmpDe7P+WENefIX7k/dP03lCqauz/NdDEuhBy5P/XS8F06S7k//tWPQjSauj/J7yz13Pe6PyIrYxBBEr0/qUFps1vcuj/TwG9Ki2+8P0GNLPsegrw/Lb7aV1Dhuz/cwflnYWC5P0Llod/wq7g/tpn3pgUitD9vPKNl1V2zP3cpMJxw/rI/SL2WAT/Rtz8X/K/ZORu2P+322d1cPbU/yMgQE59otT9R31Y8DbW0P4tdKY4f17Q/jmqRcorNsz8As4ZYWT+1P34GF7R+obQ/kWD6/HFrsz+Bfz9oknqzP7pcXKdMw7U/CxPbMvfKtD9MLfFJ5mq3P+f2o1Hbnrg/dCJ3ZECytT9n/8HRruG0P7krh+AIY7Q/9e/REF2ytT+IYAPRDeq3P69p+MYoHLU/pQHNyuZ+uD8HJSnuv8W3P5L8IXtNjLk/cIPwfPW6tz+Wg6qW2Ky1P8t7xVoHqrg/ltxIUxO3tj8l4SQZHI23P1AfL3Vkw7g/HzNlJTmVtT/VQgUY+2W5PzN3sqM8KbY/Pc1EV73muT+eRfxSQSW5P7rBmEhIC7k/3KCZqzy6tT+KEFhMsBS2P6K+zOxSMLY/5cQ4r4lhtz9I3cO6kQW3P5rAfz8HLrU/vK9HIQBJtT+GxbQznuO2P58x7TlTjLk/KX8meVB1tD/CAPsmF7W3P27HDjvKJLY/z1SG+Ja7uD9NPsjb+Tu0P5gT86h4Vbc/nnsy9iaDtj8wv8XiIFG3P/rN+KYbA7Y/Qetf00shuD/xP4Gh58S0P/Oblu9fh7g/g3op9SBitz9IYlWuzBW3P6Pmxw1tqbU/JUJt6UKatz+xxrcLlGu1P2EKN69+8bc/iLKzYuXCtj9KtiMusoa2P2nDXzZFQ7s/nrZ3lnM5vD+j8TNPpjO5P7btOZm4c7w/9woUDixAvD/0wFuwsSu/P8eWO8d3Hbo/W018dnw1vD9e3PJTS3a8P0uJweo0tL0/e1buFDzXvT8T8T2tK22+P2UR7JFnzrw/M1STc4UFvz+pWx4+DNK/P/Lz07oQuL8/axkM+BUIvz8+CiuckTK8P3VmYJbiJb8/yyIbS2e6vz+1OfMP0PS+P7kpYLaFb78/WR6Y0j01wD8KBU357MHAP8il7MMrvr4/fSQzOHiJvj+4oO2NcHnAP7eAM33kdcI/I2cfeVOawj92CB4974rCP0gVWP8aksM/+LS2zxBPwz/p0ORnUGbCPxlNeQTi08I/er8ObT/mwT8tkKdVc3LBP1Lc1W6cxcQ/Gdgr7rKAwz+Zf4h7ZzvFP2mcYY7/TsM/3Ep+yS3Twz9Y05xld4XBPzYKoa00ssI/Za3jlx/axD+DdP1LNmfDP+oDjYEFk8M/bxNcSnmawD8obKLKmenBP/W/+danKMI/v+eJRXIHwT8rlTOwItG/P3uxu3lQzb8/5enqQQg/vj9lvQsjP7i/P00e3F0dX8I/IriqdxfvwD+4sdyVqRDBP0P1b9s7rr8/JRSdNW1+wD8nmQUK8q69P2kWmhTwlsA/3tT6tHvqwT8=\",\"dtype\":\"float64\",\"shape\":[145]}},\"selected\":{\"id\":\"1076\",\"type\":\"Selection\"},\"selection_policy\":{\"id\":\"1077\",\"type\":\"UnionRenderers\"}},\"id\":\"1049\",\"type\":\"ColumnDataSource\"},{\"attributes\":{},\"id\":\"1023\",\"type\":\"PanTool\"},{\"attributes\":{\"source\":{\"id\":\"1063\",\"type\":\"ColumnDataSource\"}},\"id\":\"1067\",\"type\":\"CDSView\"},{\"attributes\":{\"line_alpha\":0.1,\"line_color\":\"#1f77b4\",\"x\":{\"field\":\"x\"},\"y\":{\"field\":\"y\"}},\"id\":\"1051\",\"type\":\"Line\"},{\"attributes\":{},\"id\":\"1024\",\"type\":\"WheelZoomTool\"},{\"attributes\":{\"data_source\":{\"id\":\"1036\",\"type\":\"ColumnDataSource\"},\"glyph\":{\"id\":\"1037\",\"type\":\"Line\"},\"hover_glyph\":null,\"muted_glyph\":null,\"nonselection_glyph\":{\"id\":\"1038\",\"type\":\"Line\"},\"selection_glyph\":null,\"view\":{\"id\":\"1040\",\"type\":\"CDSView\"}},\"id\":\"1039\",\"type\":\"GlyphRenderer\"},{\"attributes\":{\"overlay\":{\"id\":\"1046\",\"type\":\"BoxAnnotation\"}},\"id\":\"1025\",\"type\":\"BoxZoomTool\"},{\"attributes\":{\"line_alpha\":0.1,\"line_color\":\"#1f77b4\",\"line_width\":2,\"x\":{\"field\":\"x\"},\"y\":{\"field\":\"y\"}},\"id\":\"1038\",\"type\":\"Line\"},{\"attributes\":{\"callback\":null,\"data\":{\"x\":[0,1,2,3,4,5,6,7,8,9,10,11,12,13,14,15,16,17,18,19,20,21,22,23,24,25,26,27,28,29,30,31,32,33,34,35,36,37,38,39,40,41,42,43,44,45,46,47,48,49,50,51,52,53,54,55,56,57,58,59,60,61,62,63,64,65,66,67,68,69,70,71,72,73,74,75,76,77,78,79,80,81,82,83,84,85,86,87,88,89,90,91,92,93,94,95,96,97,98,99,100,101,102,103,104,105,106,107,108,109,110,111,112,113,114,115,116,117,118,119,120,121,122,123,124,125,126,127,128,129,130,131,132,133,134,135,136,137,138,139,140,141,142,143,144],\"y\":{\"__ndarray__\":\"1fCLYg1PtT8FebYc++GzP5xfudP1W7I/m+5yHdTWtT/J1XYKmGe0P54SjtZx0LI/BbtoOq3OtT9d940n/me1PxM1pLjXM7Y/8+c7AeO8tD89109d6QW2P//yEzttULU/VXIifTWLtT/wDrarziC0P9VQmudOw7I/q2hO7r8DsT8vqvRug46wPwP1GkZ6XK4/RUFnftbGsj+YI7wp7RyxP8yZign1mrA/TS++ZdHKsD8wJHa1OJyxP8lt6ZEzE7E/GyZkUYVkrj9ljBuFhJmwP/XHKRkTrLE/T/7yTpmgsD9ErInzLe+wPxCsTgZUA7M/qUfs5mk5sj9K7ZrJaae0P3ii+XGNKrc/a/6MKif9sj9o9n6wcHyyP5bl1QZs17I/Qxb8ZnYRsj8pvMNJwqm1P+zJNTVmk7E/DWzehKZBtz+VKCJvGEa2P0E44vCHALc/cDcrK+Lgtz+9kKjyeZ20P5NJBRMF7bY/66GQGaH2tD+zuEKMuO63P1eoGi+Lvbc/gwiqKQWEsj99IU1VxsK0P4vt2dfihbI/I9+v42e6tz/UkBi6OZ63P4t6Y7iJY7U/xuSGAltHtT9YLqqH9921PxROMRIwXrM/Db49aCCXtT9B14Sdtiy1P2h/QlVVLLM/HYmQTyKPsz8Vgw8/yzi0P8i2+gZzvLc/4Ie+1uLysj+3OLRCzeu0P+d0oBseNrM/izzuI/+gtT/U+mWPR6+wP2jci9GSwLQ/H98SbpC9tD/PsqCODwK2Px/lT0ON/LM/aN+ZIcA6tj+LUN4LfK2xP3lB7gyTp7Q/BziGsKrGsj+/ciy2dsayP5OPyNCLEbM/Bv28O6ZUtD9fibMWoSazP/9vKjyTurU/ZW7Glwo3sz8yOlJAMiu1P1CfeazOrrY/Sz+weKJdtz9lvjJEqaW2P6s+EvL0v7Y/lUWF8fDgtz9F+rm/eBC6P3jZQdF+FrY/+y5MElJtuD8JI9Lstn+2PzcIqJO/8Lg/j7bIfPCUuD+vWSJI1366P+UTlZmX+7k/AZS+G/BVvD8UHPKWhS+5Pz9Hl4aT+rk/s6cV968otz8RW+rJGpm1P1P+UWxfXbg/sPmhqz/htz9EMVqV6Lu2P+VHLbZm47c/1b3D2cqGuD+Z4lc2P666P9U5QZMcY7k/fR4rVfostz/zKOaWi2a5P4BLSmQY47k/97IyxAlNuj/bT3aB+3K7P/Qg2CwiRrw/uETWZRbmvD89+H1WbK27P2OZgQ7GCLw/y+KN7wL/uj9rHKTxZmG5Pw2bilM6uL4/pUtx0o5Kvj9b4N85sIG+P12Dc4whQL4//OEgXiPUvT/AMrVDGly7P426NXWS2bw/YZYXQgQPwT+1KVyCepu9PzkqKvEuhb4/fYTszMOetz9NBdSKhFa+Pw1wl0KqHrw/oywFfKOCuj8Aep/KFWG5P7kHpmbv4LY/G6ZoBsy4tz89RqT9lXq4PzgKzwigDbs/m9NsMzvNuz/gC4MJhcu5P9ePb/3Scbk/+HRDiaCXvj+hKeGnRIe5P+NfQKGEybg/qODVUSspvj8=\",\"dtype\":\"float64\",\"shape\":[145]}},\"selected\":{\"id\":\"1089\",\"type\":\"Selection\"},\"selection_policy\":{\"id\":\"1090\",\"type\":\"UnionRenderers\"}},\"id\":\"1063\",\"type\":\"ColumnDataSource\"},{\"attributes\":{\"label\":{\"value\":\"ND\"},\"renderers\":[{\"id\":\"1039\",\"type\":\"GlyphRenderer\"}]},\"id\":\"1048\",\"type\":\"LegendItem\"},{\"attributes\":{\"source\":{\"id\":\"1049\",\"type\":\"ColumnDataSource\"}},\"id\":\"1053\",\"type\":\"CDSView\"},{\"attributes\":{},\"id\":\"1026\",\"type\":\"SaveTool\"},{\"attributes\":{},\"id\":\"1061\",\"type\":\"UnionRenderers\"},{\"attributes\":{\"callback\":null},\"id\":\"1005\",\"type\":\"DataRange1d\"},{\"attributes\":{\"label\":{\"value\":\"NRMSE\"},\"renderers\":[{\"id\":\"1052\",\"type\":\"GlyphRenderer\"}]},\"id\":\"1062\",\"type\":\"LegendItem\"},{\"attributes\":{},\"id\":\"1027\",\"type\":\"ResetTool\"},{\"attributes\":{\"text\":\"ND, NRMSE, and SMAPE over the test set for MT_320\"},\"id\":\"1003\",\"type\":\"Title\"},{\"attributes\":{\"callback\":null},\"id\":\"1007\",\"type\":\"DataRange1d\"},{\"attributes\":{},\"id\":\"1028\",\"type\":\"HelpTool\"},{\"attributes\":{\"line_color\":\"purple\",\"x\":{\"field\":\"x\"},\"y\":{\"field\":\"y\"}},\"id\":\"1064\",\"type\":\"Line\"},{\"attributes\":{},\"id\":\"1009\",\"type\":\"LinearScale\"},{\"attributes\":{},\"id\":\"1011\",\"type\":\"LinearScale\"},{\"attributes\":{\"label\":{\"value\":\"SMAPE\"},\"renderers\":[{\"id\":\"1066\",\"type\":\"GlyphRenderer\"}]},\"id\":\"1078\",\"type\":\"LegendItem\"},{\"attributes\":{\"data_source\":{\"id\":\"1049\",\"type\":\"ColumnDataSource\"},\"glyph\":{\"id\":\"1050\",\"type\":\"Line\"},\"hover_glyph\":null,\"muted_glyph\":null,\"nonselection_glyph\":{\"id\":\"1051\",\"type\":\"Line\"},\"selection_glyph\":null,\"view\":{\"id\":\"1053\",\"type\":\"CDSView\"}},\"id\":\"1052\",\"type\":\"GlyphRenderer\"},{\"attributes\":{\"line_alpha\":0.1,\"line_color\":\"#1f77b4\",\"x\":{\"field\":\"x\"},\"y\":{\"field\":\"y\"}},\"id\":\"1065\",\"type\":\"Line\"},{\"attributes\":{},\"id\":\"1060\",\"type\":\"Selection\"},{\"attributes\":{\"axis_label\":\"Test Dataset Row Index\",\"formatter\":{\"id\":\"1043\",\"type\":\"BasicTickFormatter\"},\"ticker\":{\"id\":\"1014\",\"type\":\"BasicTicker\"}},\"id\":\"1013\",\"type\":\"LinearAxis\"},{\"attributes\":{},\"id\":\"1045\",\"type\":\"BasicTickFormatter\"},{\"attributes\":{},\"id\":\"1076\",\"type\":\"Selection\"},{\"attributes\":{\"dimension\":1,\"ticker\":{\"id\":\"1019\",\"type\":\"BasicTicker\"}},\"id\":\"1022\",\"type\":\"Grid\"},{\"attributes\":{},\"id\":\"1043\",\"type\":\"BasicTickFormatter\"},{\"attributes\":{},\"id\":\"1014\",\"type\":\"BasicTicker\"},{\"attributes\":{},\"id\":\"1077\",\"type\":\"UnionRenderers\"},{\"attributes\":{\"data_source\":{\"id\":\"1063\",\"type\":\"ColumnDataSource\"},\"glyph\":{\"id\":\"1064\",\"type\":\"Line\"},\"hover_glyph\":null,\"muted_glyph\":null,\"nonselection_glyph\":{\"id\":\"1065\",\"type\":\"Line\"},\"selection_glyph\":null,\"view\":{\"id\":\"1067\",\"type\":\"CDSView\"}},\"id\":\"1066\",\"type\":\"GlyphRenderer\"},{\"attributes\":{\"ticker\":{\"id\":\"1014\",\"type\":\"BasicTicker\"}},\"id\":\"1017\",\"type\":\"Grid\"},{\"attributes\":{\"bottom_units\":\"screen\",\"fill_alpha\":{\"value\":0.5},\"fill_color\":{\"value\":\"lightgrey\"},\"left_units\":\"screen\",\"level\":\"overlay\",\"line_alpha\":{\"value\":1.0},\"line_color\":{\"value\":\"black\"},\"line_dash\":[4,4],\"line_width\":{\"value\":2},\"render_mode\":\"css\",\"right_units\":\"screen\",\"top_units\":\"screen\"},\"id\":\"1046\",\"type\":\"BoxAnnotation\"},{\"attributes\":{\"items\":[{\"id\":\"1048\",\"type\":\"LegendItem\"},{\"id\":\"1062\",\"type\":\"LegendItem\"},{\"id\":\"1078\",\"type\":\"LegendItem\"}]},\"id\":\"1047\",\"type\":\"Legend\"},{\"attributes\":{},\"id\":\"1019\",\"type\":\"BasicTicker\"},{\"attributes\":{\"axis_label\":\"Error\",\"formatter\":{\"id\":\"1045\",\"type\":\"BasicTickFormatter\"},\"ticker\":{\"id\":\"1019\",\"type\":\"BasicTicker\"}},\"id\":\"1018\",\"type\":\"LinearAxis\"},{\"attributes\":{},\"id\":\"1089\",\"type\":\"Selection\"},{\"attributes\":{\"line_color\":\"green\",\"x\":{\"field\":\"x\"},\"y\":{\"field\":\"y\"}},\"id\":\"1050\",\"type\":\"Line\"},{\"attributes\":{\"active_drag\":\"auto\",\"active_inspect\":\"auto\",\"active_multi\":null,\"active_scroll\":\"auto\",\"active_tap\":\"auto\",\"tools\":[{\"id\":\"1023\",\"type\":\"PanTool\"},{\"id\":\"1024\",\"type\":\"WheelZoomTool\"},{\"id\":\"1025\",\"type\":\"BoxZoomTool\"},{\"id\":\"1026\",\"type\":\"SaveTool\"},{\"id\":\"1027\",\"type\":\"ResetTool\"},{\"id\":\"1028\",\"type\":\"HelpTool\"}]},\"id\":\"1029\",\"type\":\"Toolbar\"},{\"attributes\":{},\"id\":\"1090\",\"type\":\"UnionRenderers\"}],\"root_ids\":[\"1002\"]},\"title\":\"Bokeh Application\",\"version\":\"1.4.0\"}};\n",
       "  var render_items = [{\"docid\":\"8f3f0755-ae23-49ed-bcb4-2dccec529308\",\"roots\":{\"1002\":\"eda5dabd-e98c-469b-b6ee-75bf78544f30\"}}];\n",
       "  root.Bokeh.embed.embed_items_notebook(docs_json, render_items);\n",
       "\n",
       "  }\n",
       "  if (root.Bokeh !== undefined) {\n",
       "    embed_document(root);\n",
       "  } else {\n",
       "    var attempts = 0;\n",
       "    var timer = setInterval(function(root) {\n",
       "      if (root.Bokeh !== undefined) {\n",
       "        clearInterval(timer);\n",
       "        embed_document(root);\n",
       "      } else {\n",
       "        attempts++;\n",
       "        if (attempts > 100) {\n",
       "          clearInterval(timer);\n",
       "          console.log(\"Bokeh: ERROR: Unable to run BokehJS code because BokehJS library is missing\");\n",
       "        }\n",
       "      }\n",
       "    }, 10, root)\n",
       "  }\n",
       "})(window);"
      ],
      "application/vnd.bokehjs_exec.v0+json": ""
     },
     "metadata": {
      "application/vnd.bokehjs_exec.v0+json": {
       "id": "1002"
      }
     },
     "output_type": "display_data"
    },
    {
     "data": {
      "text/html": [
       "\n",
       "\n",
       "\n",
       "\n",
       "\n",
       "\n",
       "  <div class=\"bk-root\" id=\"af2f3e5d-a89d-4c47-a800-451a7b55205a\" data-root-id=\"1163\"></div>\n"
      ]
     },
     "metadata": {},
     "output_type": "display_data"
    },
    {
     "data": {
      "application/javascript": [
       "(function(root) {\n",
       "  function embed_document(root) {\n",
       "    \n",
       "  var docs_json = {\"769c4a89-6b76-42fb-bf6c-708a340108f6\":{\"roots\":{\"references\":[{\"attributes\":{\"below\":[{\"id\":\"1174\",\"type\":\"LinearAxis\"}],\"center\":[{\"id\":\"1178\",\"type\":\"Grid\"},{\"id\":\"1183\",\"type\":\"Grid\"},{\"id\":\"1208\",\"type\":\"Legend\"}],\"left\":[{\"id\":\"1179\",\"type\":\"LinearAxis\"}],\"plot_height\":320,\"plot_width\":960,\"renderers\":[{\"id\":\"1200\",\"type\":\"GlyphRenderer\"},{\"id\":\"1213\",\"type\":\"GlyphRenderer\"},{\"id\":\"1227\",\"type\":\"GlyphRenderer\"}],\"title\":{\"id\":\"1164\",\"type\":\"Title\"},\"toolbar\":{\"id\":\"1190\",\"type\":\"Toolbar\"},\"x_range\":{\"id\":\"1166\",\"type\":\"DataRange1d\"},\"x_scale\":{\"id\":\"1170\",\"type\":\"LinearScale\"},\"y_range\":{\"id\":\"1168\",\"type\":\"DataRange1d\"},\"y_scale\":{\"id\":\"1172\",\"type\":\"LinearScale\"}},\"id\":\"1163\",\"subtype\":\"Figure\",\"type\":\"Plot\"},{\"attributes\":{},\"id\":\"1180\",\"type\":\"BasicTicker\"},{\"attributes\":{\"ticker\":{\"id\":\"1175\",\"type\":\"BasicTicker\"}},\"id\":\"1178\",\"type\":\"Grid\"},{\"attributes\":{\"callback\":null,\"data\":{\"x\":[0,1,2,3,4,5,6,7,8,9,10,11,12,13,14,15,16,17,18,19,20,21,22,23,24,25,26,27,28,29,30,31,32,33,34,35,36,37,38,39,40,41,42,43,44,45,46,47,48,49,50,51,52,53,54,55,56,57,58,59,60,61,62,63,64,65,66,67,68,69,70,71,72,73,74,75,76,77,78,79,80,81,82,83,84,85,86,87,88,89,90,91,92,93,94,95,96,97,98,99,100,101,102,103,104,105,106,107,108,109,110,111,112,113,114,115,116,117,118,119,120,121,122,123,124,125,126,127,128,129,130,131,132,133,134,135,136,137,138,139,140,141,142,143,144],\"y\":{\"__ndarray__\":\"9xAcjwTvsD+PrDtNdhG0PzxGHMF6Rrg/rFfmcNk1sT+EPqHbJIuxP/4Cwe4SE7E/RmyOOEoKtT+G/vJYEmWxP//lrGDEpbQ/s58si8GTtT9M0LPhpK+yP10p2XT89bE/dKU0j39Hsj9+RFe+hcixP/GnvvXS8bI/k73vtLUpsj9IOJAXnESxP19C9z+JYbI/px3JAHs2sz9rR3Ra0RqxP7nWMFRch7Q/KADvCXfFsD8fbyJN0r6xP5bButDmnrI/FJkZjpQ2sj+2nd+TzoqxPzlf/PAxA7I/+5XeehWpsT/CDd/4vCC3P3WVddqlsrk/Ysr0EUYjtD/Yy9MROPC0PzHdOJAJn7Q/z/2m9APrsD/Tw+48rLW0P8NP7+Yuva4/Ki6cMBCSsD/FG/zzbpCsP16f+K2SDbI/0x5bYjz3qj9gMy4twPWrP/L2cDvan7M/tdPOBN6jrz9cr7sXkIKqP5tvgy0Gn6Y/ubOCvcFwnz+ryFefopqiP3DfXat3w6U/FrEd46GIoj//fAjxPbymP308RyxHIqI/b2hk40xUnj8fiIuxTPymP87RyB7fl6M/jTV7dM+Tpz+gJ93lSFenP+v1INoCAaM/4JLQ91LapD+EoLnUj+ShP9yshPpnFaA/YvjV/cq0nz9P2QLuviSjP9HqLxRz154/sm6x7fCpoD8Xv24Lld+fP0a7tRRhKKY/yU66TJhsoz9RURg223ehP4Z51qn27Ko/v+w1BxOJoz8P5iQ8N3ijP4mC8spePJw/XyEejazBoD8sBynHukekPwmKUFEYq50/y5IhYtLgnT/nyGilQO6hPz9LRHFU/qE/CYQgx8xzqD/REJ+xxdSgPwI3QsWFj54/Xo6tVxi/oT/awFZBE2WiP+jxtF8a9KA/HjwfrXxQoj9DNkF0olKiP2Ar1jqj1Zo/pB+4UX+Poz8T7zyyz5epPxCmtLWDbrA/wYGGjuL1sT/V9z6gStWuP6fpzX4MArA/jNe2mGywrj/jqDXqfc6wP1A0bXCd8bM/Pi6F6K5Esz/4Sk+s7xS1Pw2wabXQMrc/ORnYA8bysj8Qg8+NGk20P0p5b4xXz7U/lk/UUOBFtT9ZzeUiLmG2P1d86grdX7Y/zLV2jNHAtT+/YHOj3LCzP6In2NlbQ7o/XteS0i3muD/AZ5oguPO2P6mreJJvzbs/mI3Jnb3ZuD983rZWxlu6P0nKESmwsbU/QGO2eUGxsj+FoH2HPNqzPxUYUz5fRrE/IO16Gf75tD+EBmdfK5awP6OI7ThYNLI/4i1BRZ7asT/mdbO++3ezPxABUsXEybU/ut9mueJcsj/x/7JeXEa1P4k1OgQA47I/U44fezd2sz93vhaF+ii1P7oIaw8K6LE/4EUhRK9xtT/zuzC2odyyP0LD1/7tDLQ/Z6KrlClnrj/ZZvJ5H/e0P7jipMm5pLU//W8jLnSCtz/qc5MPGIu3P86rWsQBxbg/AaQ/PmSouj84IDa7F6i4P5H62txp2rs/Wslk7PkAuz91YUXZFqa8P7vvlpsAark/0WS5r6r/uT8=\",\"dtype\":\"float64\",\"shape\":[145]}},\"selected\":{\"id\":\"1221\",\"type\":\"Selection\"},\"selection_policy\":{\"id\":\"1222\",\"type\":\"UnionRenderers\"}},\"id\":\"1197\",\"type\":\"ColumnDataSource\"},{\"attributes\":{\"callback\":null,\"data\":{\"x\":[0,1,2,3,4,5,6,7,8,9,10,11,12,13,14,15,16,17,18,19,20,21,22,23,24,25,26,27,28,29,30,31,32,33,34,35,36,37,38,39,40,41,42,43,44,45,46,47,48,49,50,51,52,53,54,55,56,57,58,59,60,61,62,63,64,65,66,67,68,69,70,71,72,73,74,75,76,77,78,79,80,81,82,83,84,85,86,87,88,89,90,91,92,93,94,95,96,97,98,99,100,101,102,103,104,105,106,107,108,109,110,111,112,113,114,115,116,117,118,119,120,121,122,123,124,125,126,127,128,129,130,131,132,133,134,135,136,137,138,139,140,141,142,143,144],\"y\":{\"__ndarray__\":\"HR5sdL0Yrz9yI1ISrYaxP0RU6nMVT7U/ANAgY7Esrz/XkYYpYravP3gcu2b0YK4/EYx1QCL0sj8EfcoBrIywPxffwnuN97I/BbO2gH5XtD92i/j9/mOyP7ATOcVUGbE/jNINKsU+sT+hOPTGl7ywP/yqu5XtLbI/c7lEiQ/YsT+DNsNfAXOvP7yrXH7o5rA/mukfzBKBsT/QTDPOBiWwP2H6wJdTyrI/L5GgAXq2sD+JP5yTGO2wPxNUjdCHqrE/yQd4O1z4sD+rHw2XdVqwP93WS0IWfrE/xZTyrELBsD8QRONr+z23PwUaPxicd7k/D7DQtNLNsj+kQ1e6mtSzPx9RWKP73bI/a9tNgruYsD8ZhmjsTXG0P3m0utGCQqw/G5qpNvvorz9lUhl0AIepP1YXFLiif7E/tzv8tVyPqD+oJ3xQUTWrPxziyhjEnbM/KWcvMXirsD8zNAihNPesP0OOAZlnZKY/IG8GgKYPoD/BHGhZZwmjP+i+fioD06g/kx6mm1UWoj9PurHfJFqnP+BP2zGhLKI/zf9jc/LEnj9NCZVyTYKnP4tIO4Rmz6Q/jzStpSVVpz99HAyEeB2nP6+6/wej8KI/AfmXv6mupT/F/eU7Q1eiP18lOqdnzqA/JQqCWudOoT+YVj9xGiKkP89mHZKFfZ0/G/6t8zRuoD+NQ7IDUKegPwjk4IfJuKY/u9N/WJQipT8/q/7xfQ2iP8u6RDH2uK0/dfeN41hVpT8wFyelt2yjP7sOcYR8j5s/m68MJZqQnz/R7P8kXpqkP+U6Dr6gv50/y2Gfph8+nT+gaJ2UAXKgP8Sol8t7JqI/8+5DaHPypz+0UqqB2SCgP42Al2pXGJ8/tEx9de5OoT+s6kMpQbOhP4L2wQp2H6A/u5XYXHNIoj9vtVXF6uuhPwRjhecbKZo/0OKaVdGgoz94X22mocCmP9j/Z3eEFqw/+81OMsAUrj+9bH/lk26pP7EEOBfwh6s/gA7U6ZacqT+Vy3GThaWsP7fEeA38jrE/XihXpK2usD+rYBQZwsqyP2jqV6XSaLU/07mtQCbksT8nRgCO/smyP+H29zR+/LQ/E7ZdsjkptT+p8XYVHPe1P/OJJ4kczrU/i9gDJXqcsz9y4LFXegayP8WAvMzeTLo/w7lG6hd3tz93ao0dXgm1P9OqqEoVT7s/azfcTyM2tz+/4ab7TWq6PwGboPRGzrY/lR1MOk+Nsz/T/Ys3FAq0P9WOhmYe4bA/x8q0fQeZtD9yoARJaNCwP/NMJcsMr7E/TQkS5z3CsT9l74LNJf6yP6hlHETIpLU/tCoiXLu+sj/pefrwsry0P6uVahZDbbI/cQtTLdDWsz+/ML9Z11i3P7+9XImv7rE/AG6DIcXetT+4eKy1QcWyP+iM5NEkgbU/52CWYwf/rT8FnIHgYlm3P4UjovUgjLY/JR0K6XN4tj+fwomB03q3P307OVqm0bc/a3EdP59Yuz/bAoJnVEi3P8vgaFgi7ro/G3pJHRcWuj/E92imxSe8P22FTEKN3rY/TITfJi4LuD8=\",\"dtype\":\"float64\",\"shape\":[145]}},\"selected\":{\"id\":\"1262\",\"type\":\"Selection\"},\"selection_policy\":{\"id\":\"1263\",\"type\":\"UnionRenderers\"}},\"id\":\"1224\",\"type\":\"ColumnDataSource\"},{\"attributes\":{\"line_color\":\"orange\",\"line_width\":2,\"x\":{\"field\":\"x\"},\"y\":{\"field\":\"y\"}},\"id\":\"1198\",\"type\":\"Line\"},{\"attributes\":{},\"id\":\"1221\",\"type\":\"Selection\"},{\"attributes\":{\"axis_label\":\"Test Dataset Row Index\",\"formatter\":{\"id\":\"1204\",\"type\":\"BasicTickFormatter\"},\"ticker\":{\"id\":\"1175\",\"type\":\"BasicTicker\"}},\"id\":\"1174\",\"type\":\"LinearAxis\"},{\"attributes\":{\"label\":{\"value\":\"NRMSE\"},\"renderers\":[{\"id\":\"1213\",\"type\":\"GlyphRenderer\"}]},\"id\":\"1223\",\"type\":\"LegendItem\"},{\"attributes\":{},\"id\":\"1188\",\"type\":\"ResetTool\"},{\"attributes\":{},\"id\":\"1222\",\"type\":\"UnionRenderers\"},{\"attributes\":{},\"id\":\"1189\",\"type\":\"HelpTool\"},{\"attributes\":{\"axis_label\":\"Error\",\"formatter\":{\"id\":\"1206\",\"type\":\"BasicTickFormatter\"},\"ticker\":{\"id\":\"1180\",\"type\":\"BasicTicker\"}},\"id\":\"1179\",\"type\":\"LinearAxis\"},{\"attributes\":{},\"id\":\"1175\",\"type\":\"BasicTicker\"},{\"attributes\":{\"line_color\":\"purple\",\"x\":{\"field\":\"x\"},\"y\":{\"field\":\"y\"}},\"id\":\"1225\",\"type\":\"Line\"},{\"attributes\":{\"bottom_units\":\"screen\",\"fill_alpha\":{\"value\":0.5},\"fill_color\":{\"value\":\"lightgrey\"},\"left_units\":\"screen\",\"level\":\"overlay\",\"line_alpha\":{\"value\":1.0},\"line_color\":{\"value\":\"black\"},\"line_dash\":[4,4],\"line_width\":{\"value\":2},\"render_mode\":\"css\",\"right_units\":\"screen\",\"top_units\":\"screen\"},\"id\":\"1207\",\"type\":\"BoxAnnotation\"},{\"attributes\":{\"line_alpha\":0.1,\"line_color\":\"#1f77b4\",\"line_width\":2,\"x\":{\"field\":\"x\"},\"y\":{\"field\":\"y\"}},\"id\":\"1199\",\"type\":\"Line\"},{\"attributes\":{\"line_color\":\"green\",\"x\":{\"field\":\"x\"},\"y\":{\"field\":\"y\"}},\"id\":\"1211\",\"type\":\"Line\"},{\"attributes\":{},\"id\":\"1172\",\"type\":\"LinearScale\"},{\"attributes\":{\"source\":{\"id\":\"1224\",\"type\":\"ColumnDataSource\"}},\"id\":\"1228\",\"type\":\"CDSView\"},{\"attributes\":{\"line_alpha\":0.1,\"line_color\":\"#1f77b4\",\"x\":{\"field\":\"x\"},\"y\":{\"field\":\"y\"}},\"id\":\"1226\",\"type\":\"Line\"},{\"attributes\":{},\"id\":\"1262\",\"type\":\"Selection\"},{\"attributes\":{\"callback\":null},\"id\":\"1166\",\"type\":\"DataRange1d\"},{\"attributes\":{\"text\":\"ND, NRMSE, and SMAPE over the test set for MT_321\"},\"id\":\"1164\",\"type\":\"Title\"},{\"attributes\":{\"overlay\":{\"id\":\"1207\",\"type\":\"BoxAnnotation\"}},\"id\":\"1186\",\"type\":\"BoxZoomTool\"},{\"attributes\":{},\"id\":\"1204\",\"type\":\"BasicTickFormatter\"},{\"attributes\":{\"data_source\":{\"id\":\"1224\",\"type\":\"ColumnDataSource\"},\"glyph\":{\"id\":\"1225\",\"type\":\"Line\"},\"hover_glyph\":null,\"muted_glyph\":null,\"nonselection_glyph\":{\"id\":\"1226\",\"type\":\"Line\"},\"selection_glyph\":null,\"view\":{\"id\":\"1228\",\"type\":\"CDSView\"}},\"id\":\"1227\",\"type\":\"GlyphRenderer\"},{\"attributes\":{\"line_alpha\":0.1,\"line_color\":\"#1f77b4\",\"x\":{\"field\":\"x\"},\"y\":{\"field\":\"y\"}},\"id\":\"1212\",\"type\":\"Line\"},{\"attributes\":{},\"id\":\"1170\",\"type\":\"LinearScale\"},{\"attributes\":{},\"id\":\"1187\",\"type\":\"SaveTool\"},{\"attributes\":{\"source\":{\"id\":\"1197\",\"type\":\"ColumnDataSource\"}},\"id\":\"1201\",\"type\":\"CDSView\"},{\"attributes\":{\"data_source\":{\"id\":\"1197\",\"type\":\"ColumnDataSource\"},\"glyph\":{\"id\":\"1198\",\"type\":\"Line\"},\"hover_glyph\":null,\"muted_glyph\":null,\"nonselection_glyph\":{\"id\":\"1199\",\"type\":\"Line\"},\"selection_glyph\":null,\"view\":{\"id\":\"1201\",\"type\":\"CDSView\"}},\"id\":\"1200\",\"type\":\"GlyphRenderer\"},{\"attributes\":{},\"id\":\"1237\",\"type\":\"Selection\"},{\"attributes\":{\"items\":[{\"id\":\"1209\",\"type\":\"LegendItem\"},{\"id\":\"1223\",\"type\":\"LegendItem\"},{\"id\":\"1239\",\"type\":\"LegendItem\"}]},\"id\":\"1208\",\"type\":\"Legend\"},{\"attributes\":{\"dimension\":1,\"ticker\":{\"id\":\"1180\",\"type\":\"BasicTicker\"}},\"id\":\"1183\",\"type\":\"Grid\"},{\"attributes\":{\"label\":{\"value\":\"SMAPE\"},\"renderers\":[{\"id\":\"1227\",\"type\":\"GlyphRenderer\"}]},\"id\":\"1239\",\"type\":\"LegendItem\"},{\"attributes\":{},\"id\":\"1206\",\"type\":\"BasicTickFormatter\"},{\"attributes\":{},\"id\":\"1238\",\"type\":\"UnionRenderers\"},{\"attributes\":{\"data_source\":{\"id\":\"1210\",\"type\":\"ColumnDataSource\"},\"glyph\":{\"id\":\"1211\",\"type\":\"Line\"},\"hover_glyph\":null,\"muted_glyph\":null,\"nonselection_glyph\":{\"id\":\"1212\",\"type\":\"Line\"},\"selection_glyph\":null,\"view\":{\"id\":\"1214\",\"type\":\"CDSView\"}},\"id\":\"1213\",\"type\":\"GlyphRenderer\"},{\"attributes\":{},\"id\":\"1184\",\"type\":\"PanTool\"},{\"attributes\":{\"active_drag\":\"auto\",\"active_inspect\":\"auto\",\"active_multi\":null,\"active_scroll\":\"auto\",\"active_tap\":\"auto\",\"tools\":[{\"id\":\"1184\",\"type\":\"PanTool\"},{\"id\":\"1185\",\"type\":\"WheelZoomTool\"},{\"id\":\"1186\",\"type\":\"BoxZoomTool\"},{\"id\":\"1187\",\"type\":\"SaveTool\"},{\"id\":\"1188\",\"type\":\"ResetTool\"},{\"id\":\"1189\",\"type\":\"HelpTool\"}]},\"id\":\"1190\",\"type\":\"Toolbar\"},{\"attributes\":{\"callback\":null},\"id\":\"1168\",\"type\":\"DataRange1d\"},{\"attributes\":{\"label\":{\"value\":\"ND\"},\"renderers\":[{\"id\":\"1200\",\"type\":\"GlyphRenderer\"}]},\"id\":\"1209\",\"type\":\"LegendItem\"},{\"attributes\":{},\"id\":\"1185\",\"type\":\"WheelZoomTool\"},{\"attributes\":{\"callback\":null,\"data\":{\"x\":[0,1,2,3,4,5,6,7,8,9,10,11,12,13,14,15,16,17,18,19,20,21,22,23,24,25,26,27,28,29,30,31,32,33,34,35,36,37,38,39,40,41,42,43,44,45,46,47,48,49,50,51,52,53,54,55,56,57,58,59,60,61,62,63,64,65,66,67,68,69,70,71,72,73,74,75,76,77,78,79,80,81,82,83,84,85,86,87,88,89,90,91,92,93,94,95,96,97,98,99,100,101,102,103,104,105,106,107,108,109,110,111,112,113,114,115,116,117,118,119,120,121,122,123,124,125,126,127,128,129,130,131,132,133,134,135,136,137,138,139,140,141,142,143,144],\"y\":{\"__ndarray__\":\"PjO8zheZtT9/AAYcaXy5P7kV9EL2174/nO+y5QBOtj+s2zvSqLi1Pymgicsg57U/fdtX3sGvuj+bheeAAf21P95OSxIzn7k/E7L9hcmLuT8FIBYaHhi3P0zUzmo0aLc/kFMxfETRtj96IhS6bYu3P4WwYh/Ja7g/FAxAaFdMtz+xU/Imoju3P+XhlHai47o/6fVid3Xxuj8hblEPXRq5P+2soTVQEb0/QtHdiOk4uD+T/Z5DRBW5P9C4EPurXLk/fEMd4qbZuT80qP1mB+W4PzfleHz0ALk/RQW+78s2uD/JAcL/vjy8PweUjzTYa74/oxG/liLXuj/ukKL2Uxe7P/kPdFqQvrs/9L4JfjdZuD+sqtKEmJS5P2/VWGip/LU/FEBkphLdtj9FTx2XiHC2P1uRK2uExrk/Jv1/DwBRtD9J0jEhN/G0P1kA1mlIc7g/H+w+KoTQsT+29bTh/mywP0DJYNgYuqs/AEvlPGukpD+jpFgx1r6nP+TL5dbOpKs/PpK6OuG8pT//SBBs0AOsP+alf0vxyqY/TKfNBEJDoz9E4oeiZxqqP7ewf8aI9ag/Fb8swGMfrz+Bu3O0jDWtP3dA/8cXrKg/XHDJ3Tp4qT9aeHoshwqmP4uXEtCezqM/a1Io8Xd6oz9HOD/Gb1OoP5kCAqJHdaM/BFRlpKTYoz/BPESwFsqjP+tdxfby36k/2GRNjxV0pz9bmyN68D6mP0qiyYSm07A/sreeyq8kqT8keYd4RF+nP/Hs/WEyLqE/SceExTwopj+Uwn6Qhm+oP71y5pKCQqM/NaTOdy4upD8KU37eq6CoP9KKdRlkQaY/9+H7JG2SrT+xk7LrUPOmP/Bu+PK9p6M/UidNoMBfqT+mM5IWh8umP7SxYnV3oKU/Y8IpU6vopD8Cxu8HEAunP+wxqwj626A/Kh1OLd2Apz8gReASLfezPyxT7aIaQ8E/SGHeiymFwj/ZN7ofJTnAP9ho9ahHJMA/onUV1Js9wD9DmyMaNrjAP1zb2QgtHsE/Y6FEpB0ewT+mxbo45CjCPwohS8TwhMM/ZWFfGVSLvz/m68NObFDAPwVa50ZdicI/ULXWQXpRwT+DemQ8NY3BP6xg5MOIVMI/o+ZJ+FsNwz882VXMBZjAPyIw2wDxUsM/zpnC647hwT8qXDgG7fDBP1xZ6Zo60sI/yCMnfsENwj9JoCb/AIXBPx/GssfaPLo/yVo6LBrEtT+dGtvpHS+3P0IMKz7Wl7U/xwXiE8xTuT++Jn+LA8+zP7WQ/NdOwLY/JSdkuszrtT8OHPzFM8y3P50klE461bk/ywqFvcLttT8kE4L1/fG5P6b4Q/r1V7c/Qpxfr7/ktj9MJcMOGpy3P6+aN6OPjrU/sxWp5P4KuT9I2NE/D2+2P0vZOa+ATrY/tnEBXAulsj82391S8TG3PwK7Ct/kzrs/UnEHEs7GwT+CoBTyxH7BP6M1XYjhEcI/JUE38Tndwj8n0dkM1FHDP7KBy0tlWMM/5et8wth1wz+y7+QfpLDEPwQc/LsG8sM/uCpVwr8Zwz8=\",\"dtype\":\"float64\",\"shape\":[145]}},\"selected\":{\"id\":\"1237\",\"type\":\"Selection\"},\"selection_policy\":{\"id\":\"1238\",\"type\":\"UnionRenderers\"}},\"id\":\"1210\",\"type\":\"ColumnDataSource\"},{\"attributes\":{},\"id\":\"1263\",\"type\":\"UnionRenderers\"},{\"attributes\":{\"source\":{\"id\":\"1210\",\"type\":\"ColumnDataSource\"}},\"id\":\"1214\",\"type\":\"CDSView\"}],\"root_ids\":[\"1163\"]},\"title\":\"Bokeh Application\",\"version\":\"1.4.0\"}};\n",
       "  var render_items = [{\"docid\":\"769c4a89-6b76-42fb-bf6c-708a340108f6\",\"roots\":{\"1163\":\"af2f3e5d-a89d-4c47-a800-451a7b55205a\"}}];\n",
       "  root.Bokeh.embed.embed_items_notebook(docs_json, render_items);\n",
       "\n",
       "  }\n",
       "  if (root.Bokeh !== undefined) {\n",
       "    embed_document(root);\n",
       "  } else {\n",
       "    var attempts = 0;\n",
       "    var timer = setInterval(function(root) {\n",
       "      if (root.Bokeh !== undefined) {\n",
       "        clearInterval(timer);\n",
       "        embed_document(root);\n",
       "      } else {\n",
       "        attempts++;\n",
       "        if (attempts > 100) {\n",
       "          clearInterval(timer);\n",
       "          console.log(\"Bokeh: ERROR: Unable to run BokehJS code because BokehJS library is missing\");\n",
       "        }\n",
       "      }\n",
       "    }, 10, root)\n",
       "  }\n",
       "})(window);"
      ],
      "application/vnd.bokehjs_exec.v0+json": ""
     },
     "metadata": {
      "application/vnd.bokehjs_exec.v0+json": {
       "id": "1163"
      }
     },
     "output_type": "display_data"
    },
    {
     "data": {
      "text/html": [
       "\n",
       "\n",
       "\n",
       "\n",
       "\n",
       "\n",
       "  <div class=\"bk-root\" id=\"040ea1f3-7a09-4bab-9c77-3c30f51eaca5\" data-root-id=\"1336\"></div>\n"
      ]
     },
     "metadata": {},
     "output_type": "display_data"
    },
    {
     "data": {
      "application/javascript": [
       "(function(root) {\n",
       "  function embed_document(root) {\n",
       "    \n",
       "  var docs_json = {\"fe3d3323-e360-447f-be95-0a19a20f86fa\":{\"roots\":{\"references\":[{\"attributes\":{\"below\":[{\"id\":\"1347\",\"type\":\"LinearAxis\"}],\"center\":[{\"id\":\"1351\",\"type\":\"Grid\"},{\"id\":\"1356\",\"type\":\"Grid\"},{\"id\":\"1381\",\"type\":\"Legend\"}],\"left\":[{\"id\":\"1352\",\"type\":\"LinearAxis\"}],\"plot_height\":320,\"plot_width\":960,\"renderers\":[{\"id\":\"1373\",\"type\":\"GlyphRenderer\"},{\"id\":\"1386\",\"type\":\"GlyphRenderer\"},{\"id\":\"1400\",\"type\":\"GlyphRenderer\"}],\"title\":{\"id\":\"1337\",\"type\":\"Title\"},\"toolbar\":{\"id\":\"1363\",\"type\":\"Toolbar\"},\"x_range\":{\"id\":\"1339\",\"type\":\"DataRange1d\"},\"x_scale\":{\"id\":\"1343\",\"type\":\"LinearScale\"},\"y_range\":{\"id\":\"1341\",\"type\":\"DataRange1d\"},\"y_scale\":{\"id\":\"1345\",\"type\":\"LinearScale\"}},\"id\":\"1336\",\"subtype\":\"Figure\",\"type\":\"Plot\"},{\"attributes\":{\"data_source\":{\"id\":\"1383\",\"type\":\"ColumnDataSource\"},\"glyph\":{\"id\":\"1384\",\"type\":\"Line\"},\"hover_glyph\":null,\"muted_glyph\":null,\"nonselection_glyph\":{\"id\":\"1385\",\"type\":\"Line\"},\"selection_glyph\":null,\"view\":{\"id\":\"1387\",\"type\":\"CDSView\"}},\"id\":\"1386\",\"type\":\"GlyphRenderer\"},{\"attributes\":{\"line_alpha\":0.1,\"line_color\":\"#1f77b4\",\"line_width\":2,\"x\":{\"field\":\"x\"},\"y\":{\"field\":\"y\"}},\"id\":\"1372\",\"type\":\"Line\"},{\"attributes\":{},\"id\":\"1357\",\"type\":\"PanTool\"},{\"attributes\":{\"line_color\":\"green\",\"x\":{\"field\":\"x\"},\"y\":{\"field\":\"y\"}},\"id\":\"1384\",\"type\":\"Line\"},{\"attributes\":{\"data_source\":{\"id\":\"1370\",\"type\":\"ColumnDataSource\"},\"glyph\":{\"id\":\"1371\",\"type\":\"Line\"},\"hover_glyph\":null,\"muted_glyph\":null,\"nonselection_glyph\":{\"id\":\"1372\",\"type\":\"Line\"},\"selection_glyph\":null,\"view\":{\"id\":\"1374\",\"type\":\"CDSView\"}},\"id\":\"1373\",\"type\":\"GlyphRenderer\"},{\"attributes\":{},\"id\":\"1358\",\"type\":\"WheelZoomTool\"},{\"attributes\":{\"source\":{\"id\":\"1383\",\"type\":\"ColumnDataSource\"}},\"id\":\"1387\",\"type\":\"CDSView\"},{\"attributes\":{},\"id\":\"1448\",\"type\":\"UnionRenderers\"},{\"attributes\":{\"overlay\":{\"id\":\"1380\",\"type\":\"BoxAnnotation\"}},\"id\":\"1359\",\"type\":\"BoxZoomTool\"},{\"attributes\":{},\"id\":\"1447\",\"type\":\"Selection\"},{\"attributes\":{\"line_alpha\":0.1,\"line_color\":\"#1f77b4\",\"x\":{\"field\":\"x\"},\"y\":{\"field\":\"y\"}},\"id\":\"1385\",\"type\":\"Line\"},{\"attributes\":{\"callback\":null,\"data\":{\"x\":[0,1,2,3,4,5,6,7,8,9,10,11,12,13,14,15,16,17,18,19,20,21,22,23,24,25,26,27,28,29,30,31,32,33,34,35,36,37,38,39,40,41,42,43,44,45,46,47,48,49,50,51,52,53,54,55,56,57,58,59,60,61,62,63,64,65,66,67,68,69,70,71,72,73,74,75,76,77,78,79,80,81,82,83,84,85,86,87,88,89,90,91,92,93,94,95,96,97,98,99,100,101,102,103,104,105,106,107,108,109,110,111,112,113,114,115,116,117,118,119,120,121,122,123,124,125,126,127,128,129,130,131,132,133,134,135,136,137,138,139,140,141,142,143,144],\"y\":{\"__ndarray__\":\"vIjFwCOjrj8VAczf/u+wP4X2VqeW/K8/vVBoGV29sj+ArQTZ6CWwP80OcpephbY/wbPPTiZFtD9/zlZOtsCyP08TyUjKSrI/0SnN7tDPsj8VsdDGNYC2P+eX0PZBJbU/8yGVnUeJtD93RGDDDNK2P8ENU3PfDrI/pq/vxcREtT+1c4rL1rWyP3Sg2YarELM/hzhKE6OmtD936Q2qskyzP6nTBUqr67M/aBbRPs8ysz9ZBBKrjcKyPyncOevEFbQ/sxAq6q2jrz84Addn5fuyP6+uONcm37I/k0ewdcx0tj/wWnUyuN20P5V3GKGdt7Y/aJW5LSIVuz+UpTuhqk62P7GmWwE3vrY/xlvj15NDsD8grCUEpg22P/ccyCzNqrA/VvfL88Jzsz83YQiuOeG1P8NlKfGwJbE/8WrrwXZwtD+fXAdkWh60PwXMMzZbRLg/1Dqp63sNtD8E0KI598OzP61/WJjAQbQ/mQedNW8VsT9AfkHmXuC3PytPLUXcWbQ/i9Hgf7MDtT+nJwRp8WG2Px3MaDo5/7c/TK+GuuEJtz81PEXHbP27P78ReySrfbs/z3TBautLvT+RKDgMG0y6PwvOikvHE8A/dHz/3OgwwD8oWcDvnQm9P+vX9VAC/bs/WbQCzhJbvj84lFzrolTEPwMdsN2eccI/d/PoHKDhuD/D3ENW2DS5Pzy+yMNiw7o/6yXvtbNWtz/wA89uAoG6P80yN9wCtbg/ELSM2cPuuD+zAsGdcke/P3Pqefc1xr0/49FO64I9uj9bryoO5fSwP6OuSeYyEbQ/EjJpTHF1sj/TtvXJ+dO1P8GojBc3nLU/vDVH8FZ3tD+PK7rFSmy1P9kUR1rnP7U/5SL64tpStz9ABzQtuCi2PxcZh/R8bbY/NwkXvqaztD+A7mT/u66zP7leOVYgULM/DFAdrgsXuD99UVwpopqzP3gDfuRGzLU/u9bcaFA+uD9ADVc5re+6P5DPThxwerc/BxicCgeKuD9goP64lsu5P0tbL3fC/rk/Jx4+10p7tT9l185EspmyP0x+7bRIR7A/qEnhMYVptD+wM5BE1zGtP49y9/LrUrA/aTRts+B3sj+jNSlLzKa1P2guk6mYB7c/FJS+cd8vsz/1hDUNyOu2P8USq8eMR7c/bfW4Wxe5tD+mR3lEQRy1P9u1xAjIfLA/bI2bor+ssD/YtkCnWA+2P3D28d9SpLU/gT5mK+aTtT/V4t/fk8q1P+NmlVZUB7M/F/mUAT1ltT8JCm++nnC0P3MBbPqFoLc/76gXteIGsz/wBPjMIt6vP+t9+SAcerI/5ziSxDMYtD/FbYYY0wK2Pw3NAgM9B7Q/O26IQprJtT/1JbJM5RizP+ZqR25FO7Q/WxgMFU+rtj8J9tmcYLWzP5cUCR6HCrk/s0r9Ktu7uD/dCB2wgQKvP6VLpBjDmLg/1b03jgICsz/NJ1Vbfxe2P4MB4khf47o/WPA0ACfstz8HiKoAQ0W2P9L4tY41CLQ/nTtYmrkGtD8sx84nJSC5P4hJBgfhjbg/Jbx92f2Gtz8=\",\"dtype\":\"float64\",\"shape\":[145]}},\"selected\":{\"id\":\"1447\",\"type\":\"Selection\"},\"selection_policy\":{\"id\":\"1448\",\"type\":\"UnionRenderers\"}},\"id\":\"1397\",\"type\":\"ColumnDataSource\"},{\"attributes\":{},\"id\":\"1360\",\"type\":\"SaveTool\"},{\"attributes\":{\"callback\":null},\"id\":\"1339\",\"type\":\"DataRange1d\"},{\"attributes\":{\"callback\":null,\"data\":{\"x\":[0,1,2,3,4,5,6,7,8,9,10,11,12,13,14,15,16,17,18,19,20,21,22,23,24,25,26,27,28,29,30,31,32,33,34,35,36,37,38,39,40,41,42,43,44,45,46,47,48,49,50,51,52,53,54,55,56,57,58,59,60,61,62,63,64,65,66,67,68,69,70,71,72,73,74,75,76,77,78,79,80,81,82,83,84,85,86,87,88,89,90,91,92,93,94,95,96,97,98,99,100,101,102,103,104,105,106,107,108,109,110,111,112,113,114,115,116,117,118,119,120,121,122,123,124,125,126,127,128,129,130,131,132,133,134,135,136,137,138,139,140,141,142,143,144],\"y\":{\"__ndarray__\":\"+awjj+UfsD8sksAYmQqxP1fWzq19C7A/jUwI+glKsT/GJPIuxvGvP737p28nTrQ/qz3Uw1Pisj+epBaOBheyPwM4aSWHSbE/2m8+X+15sj/E+DkbN5e1Pzc6Q2WOYLY/wB47C+pYtD8Nity0S1e1P2WFfcuuhLI/sYuafN27sz8MJ9cs0eWwP03vyEUcWbM/fNrZcGiMsj8qQ6chGcyxP0NPZA43IbI/jMBahQESsT+2IV8xek2wP5nqWgPLBrI//OKwkW8crj+oJcaMysKwP84bRyUIcrE/sCCuzDZesz/WM1S5gM2wP9GwnRSgYLI/L39dpPCPtD9IA7Ys9jSyP8wchlgxeLI/SmO0/oSkqz/UFBsDYduwP6qNNG/HYq0/o98CdKiIrz9c+S5pQymxP3tHgWUtUK0/spYEh2lNsD8yPJlz8HmwP4OB/sI0l7M/g6A6yc5EsT/9RXKTIZOwPxVmaVNsfLE/eJSxPHxbrj9kdbWEEXWzPywHOBAiKbI/RFyTMh8msj8Hp2M/Eh20P+2rS7QAk7Q/AWrDr7Nhsz9rwIVVKRS3P6xlL6s0WbU/g1VrDsrxtz+J3boX8Wu0P0dMp+zgirk/kN6QPCxXuT9+LG+DIW22PzKf98KyvbY/3XeI0MsFuT+7etfyg9++P8YGBCX6orw/nkmGOVFdsz/iUmgznvW1P08tgHtut7Q/abRSHoYvsj9qNC2DCGy1P91gjwfhE7Q/0ZI827w6tD+UF73rBi65P+ljPfIHsbg/i0tVeGzItj+hyuiCepSwPwHLBTC5ObI/X68nNexrsT9ONb0GdZi0P6qAlEVQ87M/Ck3jGS2usj9hx/lB8/GzP9Sgm+95sbI/dvMSqJbAtD+x7yB7a9mzPyyNNq3BH7Q/APqmH0pRsz83bOpWBgmyP3WNq/DxybI/az15aBJ5tT/NP7J34FCyP7qOAIv1urQ/CmsmYEHTtT9FXRnMvoq2PwfmLYaT2LU/vvHyhAYItz+8DCsdede2P1YAn0amMbY/rBFXhMvRtD+lSZpixFm0Px9gMoUIbbE/VJVew98ZtD9XrtjOtUewP1mSbEiU1bE/QpB7PkXgsz87CT9TIRG2PzsNWetRMbU/ascgeNLMsz/0ZQr33Nq1PzLue0KTGrc/1nCHBVYltD/PHrPgote0P2KHSQDt1LA/+zlFlNmXsD/gD2ROh8O1P36efpeVu7Q/21+2ZVKetT/1eSIuABC1P86NAKyA6LE/C6BsVCvjsz+bWTQ11o2zP1bjsDBhxLM/88rC9RAjsT8WEW1UwaKuP5zMPZfgObE/Iq/d/3atsj+OT2qOvg2zPz4xA0gp8LE/m1WHnjc4tD9rk/OkVbKxP8Pil9imy7I/MLQKbWIjtD9UUbWWeaayP9O7qEasabY/PqLGU+yotz90YBuMxY+wP6fn3ypFYbc/2XNIhR5ztD+TSMx8TRC2P8dNdpatarg/UwB6JUq5tj/ll8quYm21P2WpNQwx4LI/r6erynMPtD/Sp2KdLJO3P8uCoMLearc/pkdkv+7dtj8=\",\"dtype\":\"float64\",\"shape\":[145]}},\"selected\":{\"id\":\"1394\",\"type\":\"Selection\"},\"selection_policy\":{\"id\":\"1395\",\"type\":\"UnionRenderers\"}},\"id\":\"1370\",\"type\":\"ColumnDataSource\"},{\"attributes\":{},\"id\":\"1361\",\"type\":\"ResetTool\"},{\"attributes\":{\"line_color\":\"orange\",\"line_width\":2,\"x\":{\"field\":\"x\"},\"y\":{\"field\":\"y\"}},\"id\":\"1371\",\"type\":\"Line\"},{\"attributes\":{},\"id\":\"1394\",\"type\":\"Selection\"},{\"attributes\":{},\"id\":\"1353\",\"type\":\"BasicTicker\"},{\"attributes\":{},\"id\":\"1362\",\"type\":\"HelpTool\"},{\"attributes\":{\"label\":{\"value\":\"NRMSE\"},\"renderers\":[{\"id\":\"1386\",\"type\":\"GlyphRenderer\"}]},\"id\":\"1396\",\"type\":\"LegendItem\"},{\"attributes\":{},\"id\":\"1395\",\"type\":\"UnionRenderers\"},{\"attributes\":{\"axis_label\":\"Error\",\"formatter\":{\"id\":\"1379\",\"type\":\"BasicTickFormatter\"},\"ticker\":{\"id\":\"1353\",\"type\":\"BasicTicker\"}},\"id\":\"1352\",\"type\":\"LinearAxis\"},{\"attributes\":{\"active_drag\":\"auto\",\"active_inspect\":\"auto\",\"active_multi\":null,\"active_scroll\":\"auto\",\"active_tap\":\"auto\",\"tools\":[{\"id\":\"1357\",\"type\":\"PanTool\"},{\"id\":\"1358\",\"type\":\"WheelZoomTool\"},{\"id\":\"1359\",\"type\":\"BoxZoomTool\"},{\"id\":\"1360\",\"type\":\"SaveTool\"},{\"id\":\"1361\",\"type\":\"ResetTool\"},{\"id\":\"1362\",\"type\":\"HelpTool\"}]},\"id\":\"1363\",\"type\":\"Toolbar\"},{\"attributes\":{},\"id\":\"1343\",\"type\":\"LinearScale\"},{\"attributes\":{\"ticker\":{\"id\":\"1348\",\"type\":\"BasicTicker\"}},\"id\":\"1351\",\"type\":\"Grid\"},{\"attributes\":{},\"id\":\"1377\",\"type\":\"BasicTickFormatter\"},{\"attributes\":{\"line_color\":\"purple\",\"x\":{\"field\":\"x\"},\"y\":{\"field\":\"y\"}},\"id\":\"1398\",\"type\":\"Line\"},{\"attributes\":{\"source\":{\"id\":\"1370\",\"type\":\"ColumnDataSource\"}},\"id\":\"1374\",\"type\":\"CDSView\"},{\"attributes\":{},\"id\":\"1348\",\"type\":\"BasicTicker\"},{\"attributes\":{\"dimension\":1,\"ticker\":{\"id\":\"1353\",\"type\":\"BasicTicker\"}},\"id\":\"1356\",\"type\":\"Grid\"},{\"attributes\":{\"source\":{\"id\":\"1397\",\"type\":\"ColumnDataSource\"}},\"id\":\"1401\",\"type\":\"CDSView\"},{\"attributes\":{\"axis_label\":\"Test Dataset Row Index\",\"formatter\":{\"id\":\"1377\",\"type\":\"BasicTickFormatter\"},\"ticker\":{\"id\":\"1348\",\"type\":\"BasicTicker\"}},\"id\":\"1347\",\"type\":\"LinearAxis\"},{\"attributes\":{\"line_alpha\":0.1,\"line_color\":\"#1f77b4\",\"x\":{\"field\":\"x\"},\"y\":{\"field\":\"y\"}},\"id\":\"1399\",\"type\":\"Line\"},{\"attributes\":{\"callback\":null},\"id\":\"1341\",\"type\":\"DataRange1d\"},{\"attributes\":{\"items\":[{\"id\":\"1382\",\"type\":\"LegendItem\"},{\"id\":\"1396\",\"type\":\"LegendItem\"},{\"id\":\"1412\",\"type\":\"LegendItem\"}]},\"id\":\"1381\",\"type\":\"Legend\"},{\"attributes\":{\"data_source\":{\"id\":\"1397\",\"type\":\"ColumnDataSource\"},\"glyph\":{\"id\":\"1398\",\"type\":\"Line\"},\"hover_glyph\":null,\"muted_glyph\":null,\"nonselection_glyph\":{\"id\":\"1399\",\"type\":\"Line\"},\"selection_glyph\":null,\"view\":{\"id\":\"1401\",\"type\":\"CDSView\"}},\"id\":\"1400\",\"type\":\"GlyphRenderer\"},{\"attributes\":{},\"id\":\"1379\",\"type\":\"BasicTickFormatter\"},{\"attributes\":{\"bottom_units\":\"screen\",\"fill_alpha\":{\"value\":0.5},\"fill_color\":{\"value\":\"lightgrey\"},\"left_units\":\"screen\",\"level\":\"overlay\",\"line_alpha\":{\"value\":1.0},\"line_color\":{\"value\":\"black\"},\"line_dash\":[4,4],\"line_width\":{\"value\":2},\"render_mode\":\"css\",\"right_units\":\"screen\",\"top_units\":\"screen\"},\"id\":\"1380\",\"type\":\"BoxAnnotation\"},{\"attributes\":{},\"id\":\"1345\",\"type\":\"LinearScale\"},{\"attributes\":{},\"id\":\"1411\",\"type\":\"UnionRenderers\"},{\"attributes\":{\"text\":\"ND, NRMSE, and SMAPE over the test set for MT_322\"},\"id\":\"1337\",\"type\":\"Title\"},{\"attributes\":{},\"id\":\"1410\",\"type\":\"Selection\"},{\"attributes\":{\"label\":{\"value\":\"ND\"},\"renderers\":[{\"id\":\"1373\",\"type\":\"GlyphRenderer\"}]},\"id\":\"1382\",\"type\":\"LegendItem\"},{\"attributes\":{\"label\":{\"value\":\"SMAPE\"},\"renderers\":[{\"id\":\"1400\",\"type\":\"GlyphRenderer\"}]},\"id\":\"1412\",\"type\":\"LegendItem\"},{\"attributes\":{\"callback\":null,\"data\":{\"x\":[0,1,2,3,4,5,6,7,8,9,10,11,12,13,14,15,16,17,18,19,20,21,22,23,24,25,26,27,28,29,30,31,32,33,34,35,36,37,38,39,40,41,42,43,44,45,46,47,48,49,50,51,52,53,54,55,56,57,58,59,60,61,62,63,64,65,66,67,68,69,70,71,72,73,74,75,76,77,78,79,80,81,82,83,84,85,86,87,88,89,90,91,92,93,94,95,96,97,98,99,100,101,102,103,104,105,106,107,108,109,110,111,112,113,114,115,116,117,118,119,120,121,122,123,124,125,126,127,128,129,130,131,132,133,134,135,136,137,138,139,140,141,142,143,144],\"y\":{\"__ndarray__\":\"Oj2GL3LitT80u+Qpjrm3P6lDj6wRgLU/v2HE6vgptT9ofFdJeUO2P6nUjRW6grg/1O34jKqvuD9cQJD4shS4P1FkyoduNLY/4zZA68Uatz8lyxqT/7W6P2BN9Bx3CLw/HUF2X5gXuT+iQ8rMwWi5P2UTvy9BeLc/oEtjP9esuD8bdlKdFhq1P7u8SKPwlbg/csxczGpntj+cZaCtwWa1P3UQAILuxbQ/Y1oxJdcvsz+qYde9fxm0P4fDsJVLt7U/Fihtwesqsj8FScrJwDS0P66c7mcjqrQ/feaCBdfptT+4lOm18WK0P0JECMBA6bU/5Cp/nj1AuD+HZv7P7OW1P1G9Yzj0KLY/JEbZlAlwsT9Ddhj42Fe0P8BnqWtgSrE/qPc/GSv/sj86zJlEaRS1Py3Gt6FQhrE/972+Tkezsz89lpVwNJ6zP9WlkMAZc7c/RBQk4Oywsz+yxPjpCyGzP45yGKUtCLQ/XTRgpW4bsz/A7dRs7vS2P3Q6znWqBbU/GYJ3w/kItT/LTkRbgYi4PxxBrfwDRrk/D/z427evtj+01XiMfJq6PzVRAoCi6rg/YcFr3uZnvD+IcEU7wKK3P6IjmWRA57w/OWELpFfwvD9Xzh23upu6P+C7deb0jLk/NQ7ZIqxvvD9hN1sqyzvCP4AyvpBnDsE/10b16oZTtj8/4bqKv5C4P39q4BMTQLc/co5jy3WgtD8CTrblGEy4PwjTXakcrrY/i8zegwyluT98jrKtnXO8P1Mwo1jzcbw/0YU+9b24uT+I1FJ//G61P9ZlSS6TlLY/1Fu1/T5Vtj/ODn/15Vi5PxeMz4kB0rc/X0Ojubrjtj/rT+EwkXG4P+dF9RbntrY/j/9KLK+mtz9nVifsH5i4P7g9+kHkprc/vb/BzRUwuD+LeezV35W3PxCw4SpRqLc/8DkyBeKruT/M86r4v1e2P+uS4bzqDbk/TH0Zz4ucuT+cGKsB3oO6P0Z+btUDX7s/tb88EJojvD/+H1zgzse6P9hpmW1j2ro/2R5kKhhyuT/BLSKeXhu7P1NyNMpnoLY/X+R89SNPuT+2kx3pDn63P109ywpLb7k/aSAecBjkuj9eh0I40Im7P3h9FUvtkLk/Sg2Mn3uKuT84Sram5US6P2C2IdWx/bs/AyhHwwUwuj/RUs667e66P20Axz/ZIrc/CrUCPu+Qtz+0lSFYsH67P/IW/OGZCrs/SxFX3XozvD9obiAPDwu6P84qMUnymrc/690JvJkquj8gHhvYD+C4P9Pi27wAArc/6uPV/hEgtj8GcwjNFSS0PzH9IQpE67U/E5gOYPeruD91LtdPVYS3PzM+GEhQcrY/bljW9NazuT+8HsUWzhS3P6D8BUZoMbg/SSbaBvbZtz+XvHKv9iy4PwdnksmdYLo/R3LLXDR6uz9U/CY6DtG2Pyo1QXzZLLs/O5py8GXMuT9E7EutBkW7Px1tB7BAkrs/sEV802nFuT+Y+pdvNbm5PzP6diJTLrY/SfkgeSpCuT/4YbU4COS7P7Et74Pbhbs/YLLTvbUpvD8=\",\"dtype\":\"float64\",\"shape\":[145]}},\"selected\":{\"id\":\"1410\",\"type\":\"Selection\"},\"selection_policy\":{\"id\":\"1411\",\"type\":\"UnionRenderers\"}},\"id\":\"1383\",\"type\":\"ColumnDataSource\"}],\"root_ids\":[\"1336\"]},\"title\":\"Bokeh Application\",\"version\":\"1.4.0\"}};\n",
       "  var render_items = [{\"docid\":\"fe3d3323-e360-447f-be95-0a19a20f86fa\",\"roots\":{\"1336\":\"040ea1f3-7a09-4bab-9c77-3c30f51eaca5\"}}];\n",
       "  root.Bokeh.embed.embed_items_notebook(docs_json, render_items);\n",
       "\n",
       "  }\n",
       "  if (root.Bokeh !== undefined) {\n",
       "    embed_document(root);\n",
       "  } else {\n",
       "    var attempts = 0;\n",
       "    var timer = setInterval(function(root) {\n",
       "      if (root.Bokeh !== undefined) {\n",
       "        clearInterval(timer);\n",
       "        embed_document(root);\n",
       "      } else {\n",
       "        attempts++;\n",
       "        if (attempts > 100) {\n",
       "          clearInterval(timer);\n",
       "          console.log(\"Bokeh: ERROR: Unable to run BokehJS code because BokehJS library is missing\");\n",
       "        }\n",
       "      }\n",
       "    }, 10, root)\n",
       "  }\n",
       "})(window);"
      ],
      "application/vnd.bokehjs_exec.v0+json": ""
     },
     "metadata": {
      "application/vnd.bokehjs_exec.v0+json": {
       "id": "1336"
      }
     },
     "output_type": "display_data"
    },
    {
     "data": {
      "text/html": [
       "\n",
       "\n",
       "\n",
       "\n",
       "\n",
       "\n",
       "  <div class=\"bk-root\" id=\"0a0c1f7d-5606-42a2-8ddc-c8e2a3228f3c\" data-root-id=\"1521\"></div>\n"
      ]
     },
     "metadata": {},
     "output_type": "display_data"
    },
    {
     "data": {
      "application/javascript": [
       "(function(root) {\n",
       "  function embed_document(root) {\n",
       "    \n",
       "  var docs_json = {\"5272db20-4a08-4b29-b1e0-45fcc7d44483\":{\"roots\":{\"references\":[{\"attributes\":{\"below\":[{\"id\":\"1532\",\"type\":\"LinearAxis\"}],\"center\":[{\"id\":\"1536\",\"type\":\"Grid\"},{\"id\":\"1541\",\"type\":\"Grid\"},{\"id\":\"1566\",\"type\":\"Legend\"}],\"left\":[{\"id\":\"1537\",\"type\":\"LinearAxis\"}],\"plot_height\":320,\"plot_width\":960,\"renderers\":[{\"id\":\"1558\",\"type\":\"GlyphRenderer\"},{\"id\":\"1571\",\"type\":\"GlyphRenderer\"},{\"id\":\"1585\",\"type\":\"GlyphRenderer\"}],\"title\":{\"id\":\"1522\",\"type\":\"Title\"},\"toolbar\":{\"id\":\"1548\",\"type\":\"Toolbar\"},\"x_range\":{\"id\":\"1524\",\"type\":\"DataRange1d\"},\"x_scale\":{\"id\":\"1528\",\"type\":\"LinearScale\"},\"y_range\":{\"id\":\"1526\",\"type\":\"DataRange1d\"},\"y_scale\":{\"id\":\"1530\",\"type\":\"LinearScale\"}},\"id\":\"1521\",\"subtype\":\"Figure\",\"type\":\"Plot\"},{\"attributes\":{\"ticker\":{\"id\":\"1533\",\"type\":\"BasicTicker\"}},\"id\":\"1536\",\"type\":\"Grid\"},{\"attributes\":{},\"id\":\"1596\",\"type\":\"UnionRenderers\"},{\"attributes\":{\"axis_label\":\"Error\",\"formatter\":{\"id\":\"1564\",\"type\":\"BasicTickFormatter\"},\"ticker\":{\"id\":\"1538\",\"type\":\"BasicTicker\"}},\"id\":\"1537\",\"type\":\"LinearAxis\"},{\"attributes\":{\"label\":{\"value\":\"SMAPE\"},\"renderers\":[{\"id\":\"1585\",\"type\":\"GlyphRenderer\"}]},\"id\":\"1597\",\"type\":\"LegendItem\"},{\"attributes\":{},\"id\":\"1530\",\"type\":\"LinearScale\"},{\"attributes\":{\"label\":{\"value\":\"NRMSE\"},\"renderers\":[{\"id\":\"1571\",\"type\":\"GlyphRenderer\"}]},\"id\":\"1581\",\"type\":\"LegendItem\"},{\"attributes\":{\"dimension\":1,\"ticker\":{\"id\":\"1538\",\"type\":\"BasicTicker\"}},\"id\":\"1541\",\"type\":\"Grid\"},{\"attributes\":{\"callback\":null,\"data\":{\"x\":[0,1,2,3,4,5,6,7,8,9,10,11,12,13,14,15,16,17,18,19,20,21,22,23,24,25,26,27,28,29,30,31,32,33,34,35,36,37,38,39,40,41,42,43,44,45,46,47,48,49,50,51,52,53,54,55,56,57,58,59,60,61,62,63,64,65,66,67,68,69,70,71,72,73,74,75,76,77,78,79,80,81,82,83,84,85,86,87,88,89,90,91,92,93,94,95,96,97,98,99,100,101,102,103,104,105,106,107,108,109,110,111,112,113,114,115,116,117,118,119,120,121,122,123,124,125,126,127,128,129,130,131,132,133,134,135,136,137,138,139,140,141,142,143,144],\"y\":{\"__ndarray__\":\"J0C0DxBjqz/5LKbc9nqsP0f/msyzAbA/ya3QhKuUrD98FWNP7T6uP9HXPBf2RqU/Ny6TCkIbqj+5nWhMgIatPw50+tjCWbE/lpeYpU2lsT/lktkk0p6sPzsTu5qSAK0/+sive9UCsT8LmsxRFBGwP0OghG3Abqs/VS5kHKsUrD8Ib4rWl56zP3vExiBUfq4/mif+7QQarT+K/w8sF6+uP8EENNBjs64/IoTvQ+hkqj97EeXTKEWuP4L1F2/Nt68/SFapS3fXrD94H1RjaxCwP+Rr6kk3sKg/J9oeBsGgqj9uZxAYj8ynP5meLxwLs64/Y6GHoGc3sD8v9AfZxkmoPxYyjKSL0Kk/4tUSQeIsqT9ycYEjX32sP60jnBWVya0/9+pqo3JZrD/uov57p52nP3tMIpTvLq0/OEnVwVY6rj9ybxRRnZWqPy4Nf1vi+LA/42sj/ONCrj/Tgq17YmqyP9Sc/wT2QLg/9MkqlxU9uz/PXZTSJxy7P3ZaCJlbQbo/TccKW+1OvT+ru5WzoSO5PxtoyPhLc7k/AwZ2msk9uz+/2J0bL6e4P5Xownfz5rg/n9zfKDzSuD+hOBlI6IW+P86PFMlgH74/PNsX0fjMuj8HwNUpZVe9PxKD6pDUsLU/ly3vxWTMuz/mVhG2v1S+Px4G5gwGfbk/Lb8ZCwu2vT9gCbVa/NK6P0sKsXJVnrY/lgV+xd3/uT93WHDxtmC4Pw0ru1+XMbE/Bl/qChS/tT/hTyZ8SxGxPxKGWYl/ObI/9zC5ZU+Trz+K+7LXNsutPxgdr5+sLrE/mPF84xMMsD8oxplyiousPwt3SqItb7E/GcIlePyIsj+xJdB1YwurP6QIWgAumbE/IAyI4lelsD9OGOcxgO6uP7GFP6KtCa0/54ALbD6frz+VwgPdJo6wP/eNO5mRV7M/eOK2kqhTsz9G/5OY2m+zPwYxkdMTzLU//Nltr/6mtD9hfBRv6uu3PwJARTC0+rU/SFY4fGOOuz9dadB9OSm4P3xthMiV8Lo/bZrFt6vuuj8kjVqGx5e8P1WDuOyByLk/lcHo1TdGvD+egsYmWN+4P5vUl2e5bL0/35UIqr5ftz+oaqKoy3i+P84x2p7c7Lw/skrjE1vauz9oD1dTJva+P0zeUOnorb0/yeJvBjWOvj/gZPRPSxvCP7x7mIhOn8A/Rv5ymU7/wT/hce+rNrDFP/P/pPiaq8Q/++PLAogFxT/L0Ri7MD/GP1m0PkrJiMU/sLAioyWBxT9WR6dKbdrEP28RJxYzkMU/noX0+tZlxT/lkfQclKPDP4+AIKKBx8M/Q66r150qxj+fDHv7GODDP+5g+aEw+MY/JC4K1ywzxj/4L5tZA5XFP5Q6hxXthMI/Zyaam9kywz8VtAPDPi7EPxsx/8KN6cM/M3C5kLNGxT+5QxzGhkPAP9ZeMU3OH8A/kUHav9F4vj9ZVc3CqC+6P2Kqtmy6ALU/KqV1EBOQtT/U4UO++0K2PzXBdWefxLc/wm0ywOUFtD+61nh0n6qyP+IjV6X8qbE/MV3ykDA8tD8=\",\"dtype\":\"float64\",\"shape\":[145]}},\"selected\":{\"id\":\"1595\",\"type\":\"Selection\"},\"selection_policy\":{\"id\":\"1596\",\"type\":\"UnionRenderers\"}},\"id\":\"1568\",\"type\":\"ColumnDataSource\"},{\"attributes\":{\"axis_label\":\"Test Dataset Row Index\",\"formatter\":{\"id\":\"1562\",\"type\":\"BasicTickFormatter\"},\"ticker\":{\"id\":\"1533\",\"type\":\"BasicTicker\"}},\"id\":\"1532\",\"type\":\"LinearAxis\"},{\"attributes\":{},\"id\":\"1645\",\"type\":\"UnionRenderers\"},{\"attributes\":{},\"id\":\"1546\",\"type\":\"ResetTool\"},{\"attributes\":{\"source\":{\"id\":\"1568\",\"type\":\"ColumnDataSource\"}},\"id\":\"1572\",\"type\":\"CDSView\"},{\"attributes\":{},\"id\":\"1528\",\"type\":\"LinearScale\"},{\"attributes\":{\"line_color\":\"green\",\"x\":{\"field\":\"x\"},\"y\":{\"field\":\"y\"}},\"id\":\"1569\",\"type\":\"Line\"},{\"attributes\":{},\"id\":\"1644\",\"type\":\"Selection\"},{\"attributes\":{},\"id\":\"1545\",\"type\":\"SaveTool\"},{\"attributes\":{\"callback\":null},\"id\":\"1526\",\"type\":\"DataRange1d\"},{\"attributes\":{\"callback\":null},\"id\":\"1524\",\"type\":\"DataRange1d\"},{\"attributes\":{\"source\":{\"id\":\"1582\",\"type\":\"ColumnDataSource\"}},\"id\":\"1586\",\"type\":\"CDSView\"},{\"attributes\":{},\"id\":\"1547\",\"type\":\"HelpTool\"},{\"attributes\":{\"line_alpha\":0.1,\"line_color\":\"#1f77b4\",\"x\":{\"field\":\"x\"},\"y\":{\"field\":\"y\"}},\"id\":\"1570\",\"type\":\"Line\"},{\"attributes\":{\"overlay\":{\"id\":\"1565\",\"type\":\"BoxAnnotation\"}},\"id\":\"1544\",\"type\":\"BoxZoomTool\"},{\"attributes\":{\"data_source\":{\"id\":\"1568\",\"type\":\"ColumnDataSource\"},\"glyph\":{\"id\":\"1569\",\"type\":\"Line\"},\"hover_glyph\":null,\"muted_glyph\":null,\"nonselection_glyph\":{\"id\":\"1570\",\"type\":\"Line\"},\"selection_glyph\":null,\"view\":{\"id\":\"1572\",\"type\":\"CDSView\"}},\"id\":\"1571\",\"type\":\"GlyphRenderer\"},{\"attributes\":{},\"id\":\"1543\",\"type\":\"WheelZoomTool\"},{\"attributes\":{},\"id\":\"1579\",\"type\":\"Selection\"},{\"attributes\":{\"active_drag\":\"auto\",\"active_inspect\":\"auto\",\"active_multi\":null,\"active_scroll\":\"auto\",\"active_tap\":\"auto\",\"tools\":[{\"id\":\"1542\",\"type\":\"PanTool\"},{\"id\":\"1543\",\"type\":\"WheelZoomTool\"},{\"id\":\"1544\",\"type\":\"BoxZoomTool\"},{\"id\":\"1545\",\"type\":\"SaveTool\"},{\"id\":\"1546\",\"type\":\"ResetTool\"},{\"id\":\"1547\",\"type\":\"HelpTool\"}]},\"id\":\"1548\",\"type\":\"Toolbar\"},{\"attributes\":{},\"id\":\"1542\",\"type\":\"PanTool\"},{\"attributes\":{\"callback\":null,\"data\":{\"x\":[0,1,2,3,4,5,6,7,8,9,10,11,12,13,14,15,16,17,18,19,20,21,22,23,24,25,26,27,28,29,30,31,32,33,34,35,36,37,38,39,40,41,42,43,44,45,46,47,48,49,50,51,52,53,54,55,56,57,58,59,60,61,62,63,64,65,66,67,68,69,70,71,72,73,74,75,76,77,78,79,80,81,82,83,84,85,86,87,88,89,90,91,92,93,94,95,96,97,98,99,100,101,102,103,104,105,106,107,108,109,110,111,112,113,114,115,116,117,118,119,120,121,122,123,124,125,126,127,128,129,130,131,132,133,134,135,136,137,138,139,140,141,142,143,144],\"y\":{\"__ndarray__\":\"jLogEb38pD+5QRf/mu2kP4Dr9Oxcwqo/LQh/rFGTpj8FuUP+JxmsP0EieC9Ki6M/nSkXzxuopj/Ir7pEdFysP1MVOEtCnKw/E0aJXdKOrj/FbwcHA4aoPxM8gNyH4qg/50RSVYsuqz+IZv4wVr6qPyzLGWEh9Kc/QxHYncj0pz/s9qxevW2wP/BGqamc0qk/LS+S7ZWBqT8VY4oHQPupPzGb6Zz/Iaw/A/5V20Nhpj/jJJYQpf6mP+/UA+G74Ko/PewUB+b1pD9oAou5BAKpP6zvdv3hsqI/+y2xGC6Hpj/7+qpnAHOiP5N2rME80qk/l6EbJj7hsD9HbAPKOI2kP0hYuyyYpKc/t74s10J1qD+ryTawnBasP5UWXM9Avaw/s8PwlGuCoz99kckD7FGnP8HUZmxsnas/KHlZAmpHrD+jkVTsNIuoP0kFGWi8p7E/Uw2ducUmrj91fDWcHVysP4yLZs5Cn6w/NmnKjZeWsT/DetPPLR+wP3tLPAjXyrE/WXPSF961tD+pR3BQM1SwP2nNGetNL7E/8VEYgzgysT/HpTmUKfSuP5zUcPUT87E/ZjsklkCIsT9p1D51auqzPwzsVL9e8LQ/Dvyft3u2sj8oY/eUoG22Pzt7GZjYBK8/8KS5awomtD+cNMJ5/lO0P80vERF3pbE/+22owEBFtT+oBcd4+HW0P5zgBNyYwqw/6L8LA51OtD9n7UusE0mzP70AqPcThK8/ziAgTqZ6tD+kz6iTWa2uP904TO/WG64/vE5+fMOJrD/8Z43G7K2oP/U+7gFcF6s/ZRwaLAs6rT/PaS9UdJeoP5v8gnVC9a4/r+xB/M/ErT+biHZ/zKSqP2fWAS8DTq0/kBdQroFgrD+dTpVgKuupP021kWYSdKY/hCSQQpFXqT8Yt12MHs+qPzuwwCCuPa0/odffAoUPrz+Pdfo2tT2wP/++hsNZHLM/9Dcf9I5jrT9PzTTSW9CzP6BdRAdp3bE/RIxyRFx7tD8sazYUzh+0P6OI9J2dL7M/r32lwULAsz9H9+7O2hG1P2Wg8xZyo7E/sOGCkISgtT886UzN7pmxPzWL7AXJDrY/NEDorYpbsT+UVkm4RU62PwNcviqk9LU/Y7q+g1mgtT/9Aj9kIJy3PzMFL7gw4rY/LGhlVr+dtz+NgtnGsea6Pym/z5nN+7g/8wFFEAJttz/tJy4/6+y/PwkhQQQMIL4/++X7eV3Evz8kXVKEIIC+P5c1iTByn70/c9TN/oCIvT+R5NTFlLG/PxcAnMlx574/XHV4LNWfwD/TOIvmccq+P3hZJgyi1L8/Gae4Iom2wT8A+BQo2ae/P3wE6Fr4YsE//7ibnRWYwT/snjndSDnBP7VcM2lkDL0/q45CP3UGvj8bV34u9KC+PykBlKOt970/cGXMdZh0vz8F2u3kzCa3P0sBPTLq8Lg/HzD+y5J9tT98hRZ0Hay0PzyX6/u+gLA/QzUMfbdusD8QZm4Z4GKxPx3bJRYFVLM/dOYt0rV7rz9dXI+oWouuP2Vh7Lb91qo//I7jWK1NsD8=\",\"dtype\":\"float64\",\"shape\":[145]}},\"selected\":{\"id\":\"1644\",\"type\":\"Selection\"},\"selection_policy\":{\"id\":\"1645\",\"type\":\"UnionRenderers\"}},\"id\":\"1582\",\"type\":\"ColumnDataSource\"},{\"attributes\":{\"data_source\":{\"id\":\"1555\",\"type\":\"ColumnDataSource\"},\"glyph\":{\"id\":\"1556\",\"type\":\"Line\"},\"hover_glyph\":null,\"muted_glyph\":null,\"nonselection_glyph\":{\"id\":\"1557\",\"type\":\"Line\"},\"selection_glyph\":null,\"view\":{\"id\":\"1559\",\"type\":\"CDSView\"}},\"id\":\"1558\",\"type\":\"GlyphRenderer\"},{\"attributes\":{},\"id\":\"1595\",\"type\":\"Selection\"},{\"attributes\":{},\"id\":\"1538\",\"type\":\"BasicTicker\"},{\"attributes\":{},\"id\":\"1580\",\"type\":\"UnionRenderers\"},{\"attributes\":{\"text\":\"ND, NRMSE, and SMAPE over the test set for MT_323\"},\"id\":\"1522\",\"type\":\"Title\"},{\"attributes\":{\"items\":[{\"id\":\"1567\",\"type\":\"LegendItem\"},{\"id\":\"1581\",\"type\":\"LegendItem\"},{\"id\":\"1597\",\"type\":\"LegendItem\"}]},\"id\":\"1566\",\"type\":\"Legend\"},{\"attributes\":{\"line_alpha\":0.1,\"line_color\":\"#1f77b4\",\"line_width\":2,\"x\":{\"field\":\"x\"},\"y\":{\"field\":\"y\"}},\"id\":\"1557\",\"type\":\"Line\"},{\"attributes\":{\"line_alpha\":0.1,\"line_color\":\"#1f77b4\",\"x\":{\"field\":\"x\"},\"y\":{\"field\":\"y\"}},\"id\":\"1584\",\"type\":\"Line\"},{\"attributes\":{\"line_color\":\"purple\",\"x\":{\"field\":\"x\"},\"y\":{\"field\":\"y\"}},\"id\":\"1583\",\"type\":\"Line\"},{\"attributes\":{\"source\":{\"id\":\"1555\",\"type\":\"ColumnDataSource\"}},\"id\":\"1559\",\"type\":\"CDSView\"},{\"attributes\":{\"label\":{\"value\":\"ND\"},\"renderers\":[{\"id\":\"1558\",\"type\":\"GlyphRenderer\"}]},\"id\":\"1567\",\"type\":\"LegendItem\"},{\"attributes\":{\"callback\":null,\"data\":{\"x\":[0,1,2,3,4,5,6,7,8,9,10,11,12,13,14,15,16,17,18,19,20,21,22,23,24,25,26,27,28,29,30,31,32,33,34,35,36,37,38,39,40,41,42,43,44,45,46,47,48,49,50,51,52,53,54,55,56,57,58,59,60,61,62,63,64,65,66,67,68,69,70,71,72,73,74,75,76,77,78,79,80,81,82,83,84,85,86,87,88,89,90,91,92,93,94,95,96,97,98,99,100,101,102,103,104,105,106,107,108,109,110,111,112,113,114,115,116,117,118,119,120,121,122,123,124,125,126,127,128,129,130,131,132,133,134,135,136,137,138,139,140,141,142,143,144],\"y\":{\"__ndarray__\":\"T8obBE33pD/6LHu8bnalP6qikaUcKqk/zdiwyVGvpj+TIxFNNIyoP3eOzAMzvKE/KzOckBOxpD+Ju1chT5eoP2qEhQowEqs/5kKP8m07qj+QtEPuRe6lPySDLuok1ac/PEF6ysMQqD/sflHYzD+pP20BWl0KeqY/WMArKfIhpj/uZbZd/02tPyZu449wY6Y/zhyYdgjHpj+yYgI6AXunP2OIkgu4Oqc/V72lqyCdpD+nSRjq6jSlP2gyXsXBpac//gufJYL+oz8nZbkd52qmPwMJ6n/tFaE/4nKEpehnpD80BPnFwsygPz1YRL+zT6c/kiGtTkS5qj+U3JFkeuuhPyT+REzSDaU/7B9KUA7upD+1x0xXhjWnP4uOK/qDQqg/M3ltMObcoj+JU2/QyN+iP1M/0WFfTak/NBp/Q91EqT9CGV/T1cWlP/zgoQBRC6w/E8eKDmCXqT/4Fy+yaziqPz+soZ3hnqw/NAV+P1d9sT/xaqxsk3ixPwYCwaqig7I/mOZ+dW32tD/HA41BKLOwPwv9/GdZkrE/X7hy+mvtsT8/lxW80RywP+KQtcjO6rE/sd0Zd+RCsT/u1R2zOGS0P7GpEoMZ0LU/YJlKtSjRsj97OT/dJby1PzshdMhuw64/1B7hELs3tD+QLnw/MUi1PwclH9+inrE/+LyGt52UtT9oUfeFx1K0PxYhPIepK60/Dhh7juj3sz8cw1B697OyP4UyHXXP5q0/EIWqQyVnsj8FScJhBOWrP8/IA+LM9Ks/qja2whmQqT/iKuPWfKCmPzFjAQHw26k/+kaub7Wiqj/Ci5f1oiimP4qQhjT9uKw/Cw1cuoo+rD+6Cg6+e1WoPxL+hPZDb6s/jn6wRhDaqj9To9T0wLuoPwGFIwNOQqU/pdFJcEhNqD/92y9A71epP1FcrJvi1aw/9Si8fnYLrj8QJFVmO+2vPxKid+noQ7I/dQ19ZmWCrT+GReOiI86zP4pLvM6iM7I/bfWZ/pOjtT9HoJR2mPazP9O2CJ8ebbQ/U3P8hFzmtD8la9R6qiu2P7ZmPz7KK7M/8FNjQ0yltj9ZYD/3G8eyP5im5jXre7Y/YAIAienGsT+v0l/8f9a3P+y3PLE157Y/bvZwiTwotj+Nx9EptMG4Pxe8LHqyBrg/UKAi/TqvuD8tA0Fwxmm8P9pHPVTMLbo/lTrxuGqeuT94z4plNNTAP++JOhu5DMA/IlC39OuIwD+XtD+eC5XAPxt+FTofQcA/711pgzAuwD/IjVQl6MDAP06CNHYatMA/e+CPTVYjwT8DcZMjVvS/P79XydHn4b8/NyWCLpIewj/ZpSNMSkjAP1bgVI20BsI/BD3z6/HwwT9Pq1QjDpPBP8N/Z1/j470/2/OShm3Jvj9bCztaHfS/P5OeFEfSab8/KsK/JN9pwD8c+qtJfoW4P9+pq9cK8bg/HXLY7s53tj/RylWon+20P/1UADFJHLE/hokJ1e1usD/sGhZlhO+wP9b66hjjx7I/J7UvmcLJrj+ITxa7HcauPxFeQdb456s/SReX3QZksD8=\",\"dtype\":\"float64\",\"shape\":[145]}},\"selected\":{\"id\":\"1579\",\"type\":\"Selection\"},\"selection_policy\":{\"id\":\"1580\",\"type\":\"UnionRenderers\"}},\"id\":\"1555\",\"type\":\"ColumnDataSource\"},{\"attributes\":{\"line_color\":\"orange\",\"line_width\":2,\"x\":{\"field\":\"x\"},\"y\":{\"field\":\"y\"}},\"id\":\"1556\",\"type\":\"Line\"},{\"attributes\":{\"data_source\":{\"id\":\"1582\",\"type\":\"ColumnDataSource\"},\"glyph\":{\"id\":\"1583\",\"type\":\"Line\"},\"hover_glyph\":null,\"muted_glyph\":null,\"nonselection_glyph\":{\"id\":\"1584\",\"type\":\"Line\"},\"selection_glyph\":null,\"view\":{\"id\":\"1586\",\"type\":\"CDSView\"}},\"id\":\"1585\",\"type\":\"GlyphRenderer\"},{\"attributes\":{},\"id\":\"1562\",\"type\":\"BasicTickFormatter\"},{\"attributes\":{\"bottom_units\":\"screen\",\"fill_alpha\":{\"value\":0.5},\"fill_color\":{\"value\":\"lightgrey\"},\"left_units\":\"screen\",\"level\":\"overlay\",\"line_alpha\":{\"value\":1.0},\"line_color\":{\"value\":\"black\"},\"line_dash\":[4,4],\"line_width\":{\"value\":2},\"render_mode\":\"css\",\"right_units\":\"screen\",\"top_units\":\"screen\"},\"id\":\"1565\",\"type\":\"BoxAnnotation\"},{\"attributes\":{},\"id\":\"1533\",\"type\":\"BasicTicker\"},{\"attributes\":{},\"id\":\"1564\",\"type\":\"BasicTickFormatter\"}],\"root_ids\":[\"1521\"]},\"title\":\"Bokeh Application\",\"version\":\"1.4.0\"}};\n",
       "  var render_items = [{\"docid\":\"5272db20-4a08-4b29-b1e0-45fcc7d44483\",\"roots\":{\"1521\":\"0a0c1f7d-5606-42a2-8ddc-c8e2a3228f3c\"}}];\n",
       "  root.Bokeh.embed.embed_items_notebook(docs_json, render_items);\n",
       "\n",
       "  }\n",
       "  if (root.Bokeh !== undefined) {\n",
       "    embed_document(root);\n",
       "  } else {\n",
       "    var attempts = 0;\n",
       "    var timer = setInterval(function(root) {\n",
       "      if (root.Bokeh !== undefined) {\n",
       "        clearInterval(timer);\n",
       "        embed_document(root);\n",
       "      } else {\n",
       "        attempts++;\n",
       "        if (attempts > 100) {\n",
       "          clearInterval(timer);\n",
       "          console.log(\"Bokeh: ERROR: Unable to run BokehJS code because BokehJS library is missing\");\n",
       "        }\n",
       "      }\n",
       "    }, 10, root)\n",
       "  }\n",
       "})(window);"
      ],
      "application/vnd.bokehjs_exec.v0+json": ""
     },
     "metadata": {
      "application/vnd.bokehjs_exec.v0+json": {
       "id": "1521"
      }
     },
     "output_type": "display_data"
    },
    {
     "data": {
      "text/html": [
       "\n",
       "\n",
       "\n",
       "\n",
       "\n",
       "\n",
       "  <div class=\"bk-root\" id=\"0574596f-149b-4b16-9093-8fd04d8cde8b\" data-root-id=\"1718\"></div>\n"
      ]
     },
     "metadata": {},
     "output_type": "display_data"
    },
    {
     "data": {
      "application/javascript": [
       "(function(root) {\n",
       "  function embed_document(root) {\n",
       "    \n",
       "  var docs_json = {\"b8b9e83d-bea0-427c-ba81-3eb617777c2d\":{\"roots\":{\"references\":[{\"attributes\":{\"below\":[{\"id\":\"1729\",\"type\":\"LinearAxis\"}],\"center\":[{\"id\":\"1733\",\"type\":\"Grid\"},{\"id\":\"1738\",\"type\":\"Grid\"},{\"id\":\"1763\",\"type\":\"Legend\"}],\"left\":[{\"id\":\"1734\",\"type\":\"LinearAxis\"}],\"plot_height\":320,\"plot_width\":960,\"renderers\":[{\"id\":\"1755\",\"type\":\"GlyphRenderer\"},{\"id\":\"1768\",\"type\":\"GlyphRenderer\"},{\"id\":\"1782\",\"type\":\"GlyphRenderer\"}],\"title\":{\"id\":\"1719\",\"type\":\"Title\"},\"toolbar\":{\"id\":\"1745\",\"type\":\"Toolbar\"},\"x_range\":{\"id\":\"1721\",\"type\":\"DataRange1d\"},\"x_scale\":{\"id\":\"1725\",\"type\":\"LinearScale\"},\"y_range\":{\"id\":\"1723\",\"type\":\"DataRange1d\"},\"y_scale\":{\"id\":\"1727\",\"type\":\"LinearScale\"}},\"id\":\"1718\",\"subtype\":\"Figure\",\"type\":\"Plot\"},{\"attributes\":{\"label\":{\"value\":\"ND\"},\"renderers\":[{\"id\":\"1755\",\"type\":\"GlyphRenderer\"}]},\"id\":\"1764\",\"type\":\"LegendItem\"},{\"attributes\":{\"source\":{\"id\":\"1779\",\"type\":\"ColumnDataSource\"}},\"id\":\"1783\",\"type\":\"CDSView\"},{\"attributes\":{\"dimension\":1,\"ticker\":{\"id\":\"1735\",\"type\":\"BasicTicker\"}},\"id\":\"1738\",\"type\":\"Grid\"},{\"attributes\":{},\"id\":\"1761\",\"type\":\"BasicTickFormatter\"},{\"attributes\":{\"line_color\":\"orange\",\"line_width\":2,\"x\":{\"field\":\"x\"},\"y\":{\"field\":\"y\"}},\"id\":\"1753\",\"type\":\"Line\"},{\"attributes\":{},\"id\":\"1792\",\"type\":\"Selection\"},{\"attributes\":{\"callback\":null,\"data\":{\"x\":[0,1,2,3,4,5,6,7,8,9,10,11,12,13,14,15,16,17,18,19,20,21,22,23,24,25,26,27,28,29,30,31,32,33,34,35,36,37,38,39,40,41,42,43,44,45,46,47,48,49,50,51,52,53,54,55,56,57,58,59,60,61,62,63,64,65,66,67,68,69,70,71,72,73,74,75,76,77,78,79,80,81,82,83,84,85,86,87,88,89,90,91,92,93,94,95,96,97,98,99,100,101,102,103,104,105,106,107,108,109,110,111,112,113,114,115,116,117,118,119,120,121,122,123,124,125,126,127,128,129,130,131,132,133,134,135,136,137,138,139,140,141,142,143,144],\"y\":{\"__ndarray__\":\"NcWNjwW6wD/jLdPVoGu7P5pvOvbD070//KllqCBsuD9CjpwZOVK4P/y/7bI2crY//8xAu4QMtz9sQ4PTRgW4P4ATBt4g87g/L/s9+dAptz/sa3c7Qo64Pzx0tjKcYbc/l0BxKoNBvD8/oxAMoSe+P5+LH1yTvb4/kyr8IsVUuz8wl7frTyC9P0qp0ZJqE74//2rb8f1/vD9V1f/8eZa+PzPcBEo+IcA/ijz1I69twD9DaAWSjR/AP5M483UixsA/qBhFLPROwT8/5E9wYUTAP86RUWlnRMA/LWF+z0FbwD88poenMXfBP8/5vToMgME/DYHnA1G7wD+9YRZG+W7BP3Bv2nromcA/8aG2lcQywD9HjnTmtUTBPwEiTEmAHsA/uj5Pw4AivT/6rf4QDcW8PxzkzH0hqr0/vsAhjOTLuj+7bd2zPnK3P/BKl4agqLc/nGYeyajXtD+y7y6cqGm3P+p2agkZArY/k3va52/ZtD+JMqzz+qO0P937UBSP1rM/0nP9L+9KsT8l+N9ASUiyP0WurcG0z7U/u/GOCWDxsD9t1i0CgmCzP5nmyZtsmrY/MhmPYnIDuT+7Xan/pCi4P+r+rouLJLk/rBpGOYzJtj9e4iSrwTa3Pw+ULYaBSbQ/++aXssHQtD83EJU+z4q1P40QvsMU4bM/gZRE2ltetT+JYvCp1CG0P8aFPjc+/7U/YFC9wDRVtT9MJsCT79u1P2H9x+gpGrY/7AVmoOA3tT+gj9MkH5e1P2TP1tLeb7Y/oVS8DZlWtz+HNXs4kYuyP7NjmzjaLLQ/N3u1pISjsT9NNfTeK5SxPwg2ObqKUK4/TndK7/ADrz8DIUREkIGvP6L07rRRKrA/8eNRfLiorj9Hd90qiG+xP2zQiCYyKa8/RCjvIF6Orz9c6ZgPLqitP9YOqoEINLA/RwLqwnRosj+cVJ8ZpieqPx9wA46fLao//V+kkocNqz8l9A4KpSGsP5I0FKgOZ6o/C89RWWMqrT9TPZIuG1CmP8h1YPJsTK4/mLnymAjkqD/fpxwFL6ilP0DWmLabYqs///C17Ot7qD/W+g4huG+rPzycG73pdqc/i3gH2SEppD+avKiuFualP8zKeK1gpKk/l5f6FTOfpz+0LaT40CikP4WQ01UgOaU/f/rVzKyCoz8qk3qaty+oP6LI/sQ4L6w/w8PzY2AxrT9vDKuXpxqwP/jYlU1IiK0/hMuL+UAlsD9vdAEYiTysPwpXLgfhO6s/62E9u7sNsD+xx94oWlawP1clig/cQLA/45xS/VRarj+eZ+06bIatPwq53qWLCbA/BTs1YhZNrT+qb/4KyF6xP2YeWoxa47I/93pKnXSLsT8Ng3Swz02xP8q98n4/C7E/cQsX4PuAsT/EsxHbOG62P8amwXhSqbI/AwPii1U9sj919BAXwl60P4KHGJn76rA/gKKn+i7HsT+cCbF4DhuzP/sgklBQk7A/aDABCio3sT+5HKbS//6xP5q2RiG21bI/boJ5YYH0sD+g4nDqafmwP53/eAm/4bI//3W0DUY9sD8=\",\"dtype\":\"float64\",\"shape\":[145]}},\"selected\":{\"id\":\"1776\",\"type\":\"Selection\"},\"selection_policy\":{\"id\":\"1777\",\"type\":\"UnionRenderers\"}},\"id\":\"1752\",\"type\":\"ColumnDataSource\"},{\"attributes\":{\"bottom_units\":\"screen\",\"fill_alpha\":{\"value\":0.5},\"fill_color\":{\"value\":\"lightgrey\"},\"left_units\":\"screen\",\"level\":\"overlay\",\"line_alpha\":{\"value\":1.0},\"line_color\":{\"value\":\"black\"},\"line_dash\":[4,4],\"line_width\":{\"value\":2},\"render_mode\":\"css\",\"right_units\":\"screen\",\"top_units\":\"screen\"},\"id\":\"1762\",\"type\":\"BoxAnnotation\"},{\"attributes\":{\"items\":[{\"id\":\"1764\",\"type\":\"LegendItem\"},{\"id\":\"1778\",\"type\":\"LegendItem\"},{\"id\":\"1794\",\"type\":\"LegendItem\"}]},\"id\":\"1763\",\"type\":\"Legend\"},{\"attributes\":{\"callback\":null,\"data\":{\"x\":[0,1,2,3,4,5,6,7,8,9,10,11,12,13,14,15,16,17,18,19,20,21,22,23,24,25,26,27,28,29,30,31,32,33,34,35,36,37,38,39,40,41,42,43,44,45,46,47,48,49,50,51,52,53,54,55,56,57,58,59,60,61,62,63,64,65,66,67,68,69,70,71,72,73,74,75,76,77,78,79,80,81,82,83,84,85,86,87,88,89,90,91,92,93,94,95,96,97,98,99,100,101,102,103,104,105,106,107,108,109,110,111,112,113,114,115,116,117,118,119,120,121,122,123,124,125,126,127,128,129,130,131,132,133,134,135,136,137,138,139,140,141,142,143,144],\"y\":{\"__ndarray__\":\"Ff5tVrK+wT9R2WqJUe2+P1er8ldKR8A/rOafsIcHuz/UhssxS4+8Pwmnd/bJlLo/OXGsIlnCuT8rxyTPX7i6P6xCmn2KGbw/cz6vASequj8V4lauRqa7P6/4b0oIH7s/AEUsIkOHvz8KsleNW4vBP37yjeLTkME/gpF7mGwNwD8EUfo0f+zAP24pzIFqJsE/sw6OOcUewD8cyyC6cKXBP/H7RfVKY8I/fQ8VClMzwj/JSDWFj3vCPx9YnO4sNMM/1+tr2U8VxD/ar43FbenCPw/323PHtcI/KoiCQlVxwj/6X7wS7WnDP5zQ3y1fRMM/vAy69c99wj/Bg9CdxVzDP/xs+TN9/ME/tFfZtt6Awj/HFvb7OQfDP2m37Cr/yME/ykjL3XobwD8ltCM74qy/P33+8UlcVsE/ufGKgLlWvz98RVxegIS6P5f9AXqOibo/om+9hengtz+xaZpzTUy6P4Tv0n4AYbg/TcEz2hQZtz+TFFuvAp+3P1YDWQUHvLY/BeoY0IFHtD84r/J4Gsa1PxkJSxUwc7g/UqSYBycttD93oQYi4n+2P0XpTAYh3bk/dPiSQC3xuz/GfWkoXZ27PxLtIAaAg7w/Nuuo9MQiuj9JGydRwWW6P72bLH6+hrc/h8ppv5Dttz/COkav/dy5P4MNCa1ExLc/mPQZq1mluT+Xkywh/k24P4t3OMMynrk/YzZOpFsLuj/IRiDt9UK6P7ucfDiMpLo/mU8aRTTiuT+bTfa4vGC5P8vRSj3ZWro/E7mH1yFtuz8Hoxn/JJW2P/OE1AYZDLg/clZBSeqhtD8QKMQa6OSzPz2uiKL4N7E/uvQD5wXGsT+vhDnbnNmxP7R5c/bfZbI/FgIekBEAsj93O+cV+vW0P0o4DYtbQLM/UoQJ3CChsj+HUHBAjoeyP8QIM8ufxLM/pYFfDmv0tT/JR7VEoVOwP+/qFVyWBLA/nlq7XOSRsT+JsRQMkjexP6ktol/34LA/UL1UMy80sj9hwMo8fcivP+DgnR2y/7E/lJS5EIRorj8GRfCvN2itP13JeMrh87A/kEJMTj/HsD/1lc39YqexP7Nh/bWnnK4/2O72gEsMrj+46covcA+rP1U6u8DWdrA/A46AJlu2rT+EQDtpgdapP1xIRpnhG6o/2aCZCGyUqj+1G7opMG6sP57kYdMIWbI/6rLrSghUsz9SQg3kXpa3PyBQZF8UAbQ/OHRTOU1Gtj/unRwLU7yxP4k1HJPvSbM/LoR0qXPMtD+PvJQD6oq0P0m34Uc7yrQ/ok2v81QWtD8CCs4KdluzP7Op/CxRHbQ/2xkVH0oqsz9XXbpX29W2P1GUcTABsLY/WHE/uh39tT/XeBa5nfm0P5HDUmrhobQ/rGXXiDmDtT+1M6iKfmK7P+ms9sFfx7Y/x9aGQN/rtD9n7DkZPV24P9GrbHdUn7M/btb7iGBUtD/cDuYa4/e1P2MZBnI2IbM/8RbEEhFzsz+EFv+V/Te0P8+E++TRwLQ/r/s8n0bNsj9cXKLZgdyyP1EMBUahebU/YlShWLvNsz8=\",\"dtype\":\"float64\",\"shape\":[145]}},\"selected\":{\"id\":\"1792\",\"type\":\"Selection\"},\"selection_policy\":{\"id\":\"1793\",\"type\":\"UnionRenderers\"}},\"id\":\"1765\",\"type\":\"ColumnDataSource\"},{\"attributes\":{\"label\":{\"value\":\"SMAPE\"},\"renderers\":[{\"id\":\"1782\",\"type\":\"GlyphRenderer\"}]},\"id\":\"1794\",\"type\":\"LegendItem\"},{\"attributes\":{},\"id\":\"1793\",\"type\":\"UnionRenderers\"},{\"attributes\":{\"active_drag\":\"auto\",\"active_inspect\":\"auto\",\"active_multi\":null,\"active_scroll\":\"auto\",\"active_tap\":\"auto\",\"tools\":[{\"id\":\"1739\",\"type\":\"PanTool\"},{\"id\":\"1740\",\"type\":\"WheelZoomTool\"},{\"id\":\"1741\",\"type\":\"BoxZoomTool\"},{\"id\":\"1742\",\"type\":\"SaveTool\"},{\"id\":\"1743\",\"type\":\"ResetTool\"},{\"id\":\"1744\",\"type\":\"HelpTool\"}]},\"id\":\"1745\",\"type\":\"Toolbar\"},{\"attributes\":{\"ticker\":{\"id\":\"1730\",\"type\":\"BasicTicker\"}},\"id\":\"1733\",\"type\":\"Grid\"},{\"attributes\":{\"line_color\":\"green\",\"x\":{\"field\":\"x\"},\"y\":{\"field\":\"y\"}},\"id\":\"1766\",\"type\":\"Line\"},{\"attributes\":{},\"id\":\"1739\",\"type\":\"PanTool\"},{\"attributes\":{\"source\":{\"id\":\"1765\",\"type\":\"ColumnDataSource\"}},\"id\":\"1769\",\"type\":\"CDSView\"},{\"attributes\":{\"line_alpha\":0.1,\"line_color\":\"#1f77b4\",\"x\":{\"field\":\"x\"},\"y\":{\"field\":\"y\"}},\"id\":\"1767\",\"type\":\"Line\"},{\"attributes\":{},\"id\":\"1740\",\"type\":\"WheelZoomTool\"},{\"attributes\":{},\"id\":\"1725\",\"type\":\"LinearScale\"},{\"attributes\":{},\"id\":\"1854\",\"type\":\"UnionRenderers\"},{\"attributes\":{\"callback\":null,\"data\":{\"x\":[0,1,2,3,4,5,6,7,8,9,10,11,12,13,14,15,16,17,18,19,20,21,22,23,24,25,26,27,28,29,30,31,32,33,34,35,36,37,38,39,40,41,42,43,44,45,46,47,48,49,50,51,52,53,54,55,56,57,58,59,60,61,62,63,64,65,66,67,68,69,70,71,72,73,74,75,76,77,78,79,80,81,82,83,84,85,86,87,88,89,90,91,92,93,94,95,96,97,98,99,100,101,102,103,104,105,106,107,108,109,110,111,112,113,114,115,116,117,118,119,120,121,122,123,124,125,126,127,128,129,130,131,132,133,134,135,136,137,138,139,140,141,142,143,144],\"y\":{\"__ndarray__\":\"l2sYswuxwT8vVHRt8cG6Pzl0b3+etb4/Aba/DmupuD+TkRm/yUW3P9kFUskeIbQ/5P4kTDYYtj+bxpRZ0Ra3Pzsg7uPZGbg/Pxeg/mYatj/sKLqCW6a3P3EqgAevJrY/5RKa5OFHuz9ATT8/age8P9tyibBZJ7w/45z/kNTruD8TxZa34yG7P9C4rDrnBLw/oI161DtUuj/YUuutoI+7Pz2lh2NaIL0/iJ+64a4Zvj8NkzYgdce9P8AsE+awNr4/1TS7Yt1Cvj+jD84/08C8P7DGZiqo6rw/29liDTHXvT/99RMzpQfAP+i+Prc72L8/g7gLul+pvj+l4jQlsn6/P8FfTfyzsr4/g4I81bfxvD9c8BieUwu/P6iPTwGDar0/pf7awsqEuj+JFAAueSK7P1sF5hGoQ7s/4yDFRevOuD/sJ2gHrrG2PwRYSSWy0LY/zUGTnIeGtD9Ijarndxu3P2sQhZxEzLU/uqJHtiCXtD8ReGScJZu0P+0aPPBWzrM/syw0TflXsD/h/d4PUZKxPwQ+FNhR+7Q/q0gUYBk/sD8eHc/NbiK0Pxw4UffEv7c/MwZNBConuz+L2+XkP8u6PxWitYdLi7s/TU3+LcJDuT/XeO4ZnJC5P2FmbRvlzbY/fCYOUyBPtz+F2SLRVg64P+UA9g7ERrY/k2CqW/BAuD+rdGyRFHS2P92pxvF7e7g/gHyywVqOtz/IEoPtHES4PzBDhdg98rg/sfhEHl4HuD9XZDF7NO63P+VCB4Sf4rg/B8+VCvw7uj93nSnwTn60P6utHDXCnrY/O25vHGZUsz+TWckHEKmyP2OMuomzL68/BaC5D84Srz+LGF3HVYavP8FbU6m4e7A/faSAy8b5rj9Rvb1LPV6xP4D6SeoXnq8/aUEWFp4wsD80u+oNuQ6uP6qEmfzTZbA/bhHdtBhzsj/QXRw/iqmqP7B9Ei3JBKs/eVHiZQHZqz9ldrUi0kOtP4SwsUAGj6s/HRUohNyJrj+4hq3PAhOoP8v/8srnt68//WVquG/XqT9YnnBjyOalP2/YeV4A56w/2/A5oVpRqj8Vn7zRofGrP93xEGipk6g/fxdLgjiMpD/N+6iMbK6mPxeXuF5LZKo/iKPWsgcEqD/X3xYIt3akP3T8S5xvQqY/yVhMOWmooz8QBD5+bqSoP4VqYAPxi6s/TU0ojK06rD8zCCYjs+uvP23AZSYdJa0/5eUhZK/mrj+pbIYWhG+sPzHmx+I406k/mJV9DoPurz8jGNyu8XmwP+uyOxd/KLA/dycI/XWTrj8Td1boVYOsPyR2DSwHQbA/NFMAJmP9rD8cnypE2gWxPzM5O/dhD7M/xO77ddbcsT9FdT3kKSSyPyWqSwtZ37E/zIo024RLsj8UdUpRihm3P6BOMtrIU7M/Gwsm5f65sj/kBSSe4pC0P+SDqoi97LE/qY9W6o3Dsj+LZXr4/i20P8crY/K6arE/AM5sn8Ijsj+v3KfVsl6zP/SOABTm/bM/xucF6HG9sT+V4v3jCsOxP9E//Rgnk7M/M8jyZtkqsT8=\",\"dtype\":\"float64\",\"shape\":[145]}},\"selected\":{\"id\":\"1853\",\"type\":\"Selection\"},\"selection_policy\":{\"id\":\"1854\",\"type\":\"UnionRenderers\"}},\"id\":\"1779\",\"type\":\"ColumnDataSource\"},{\"attributes\":{\"data_source\":{\"id\":\"1765\",\"type\":\"ColumnDataSource\"},\"glyph\":{\"id\":\"1766\",\"type\":\"Line\"},\"hover_glyph\":null,\"muted_glyph\":null,\"nonselection_glyph\":{\"id\":\"1767\",\"type\":\"Line\"},\"selection_glyph\":null,\"view\":{\"id\":\"1769\",\"type\":\"CDSView\"}},\"id\":\"1768\",\"type\":\"GlyphRenderer\"},{\"attributes\":{\"overlay\":{\"id\":\"1762\",\"type\":\"BoxAnnotation\"}},\"id\":\"1741\",\"type\":\"BoxZoomTool\"},{\"attributes\":{},\"id\":\"1853\",\"type\":\"Selection\"},{\"attributes\":{},\"id\":\"1742\",\"type\":\"SaveTool\"},{\"attributes\":{\"source\":{\"id\":\"1752\",\"type\":\"ColumnDataSource\"}},\"id\":\"1756\",\"type\":\"CDSView\"},{\"attributes\":{},\"id\":\"1730\",\"type\":\"BasicTicker\"},{\"attributes\":{},\"id\":\"1735\",\"type\":\"BasicTicker\"},{\"attributes\":{\"callback\":null},\"id\":\"1721\",\"type\":\"DataRange1d\"},{\"attributes\":{\"axis_label\":\"Error\",\"formatter\":{\"id\":\"1761\",\"type\":\"BasicTickFormatter\"},\"ticker\":{\"id\":\"1735\",\"type\":\"BasicTicker\"}},\"id\":\"1734\",\"type\":\"LinearAxis\"},{\"attributes\":{\"line_alpha\":0.1,\"line_color\":\"#1f77b4\",\"x\":{\"field\":\"x\"},\"y\":{\"field\":\"y\"}},\"id\":\"1781\",\"type\":\"Line\"},{\"attributes\":{},\"id\":\"1776\",\"type\":\"Selection\"},{\"attributes\":{\"axis_label\":\"Test Dataset Row Index\",\"formatter\":{\"id\":\"1759\",\"type\":\"BasicTickFormatter\"},\"ticker\":{\"id\":\"1730\",\"type\":\"BasicTicker\"}},\"id\":\"1729\",\"type\":\"LinearAxis\"},{\"attributes\":{},\"id\":\"1743\",\"type\":\"ResetTool\"},{\"attributes\":{\"label\":{\"value\":\"NRMSE\"},\"renderers\":[{\"id\":\"1768\",\"type\":\"GlyphRenderer\"}]},\"id\":\"1778\",\"type\":\"LegendItem\"},{\"attributes\":{\"text\":\"ND, NRMSE, and SMAPE over the test set for MT_324\"},\"id\":\"1719\",\"type\":\"Title\"},{\"attributes\":{},\"id\":\"1777\",\"type\":\"UnionRenderers\"},{\"attributes\":{\"data_source\":{\"id\":\"1752\",\"type\":\"ColumnDataSource\"},\"glyph\":{\"id\":\"1753\",\"type\":\"Line\"},\"hover_glyph\":null,\"muted_glyph\":null,\"nonselection_glyph\":{\"id\":\"1754\",\"type\":\"Line\"},\"selection_glyph\":null,\"view\":{\"id\":\"1756\",\"type\":\"CDSView\"}},\"id\":\"1755\",\"type\":\"GlyphRenderer\"},{\"attributes\":{},\"id\":\"1744\",\"type\":\"HelpTool\"},{\"attributes\":{\"line_alpha\":0.1,\"line_color\":\"#1f77b4\",\"line_width\":2,\"x\":{\"field\":\"x\"},\"y\":{\"field\":\"y\"}},\"id\":\"1754\",\"type\":\"Line\"},{\"attributes\":{\"callback\":null},\"id\":\"1723\",\"type\":\"DataRange1d\"},{\"attributes\":{\"line_color\":\"purple\",\"x\":{\"field\":\"x\"},\"y\":{\"field\":\"y\"}},\"id\":\"1780\",\"type\":\"Line\"},{\"attributes\":{},\"id\":\"1759\",\"type\":\"BasicTickFormatter\"},{\"attributes\":{},\"id\":\"1727\",\"type\":\"LinearScale\"},{\"attributes\":{\"data_source\":{\"id\":\"1779\",\"type\":\"ColumnDataSource\"},\"glyph\":{\"id\":\"1780\",\"type\":\"Line\"},\"hover_glyph\":null,\"muted_glyph\":null,\"nonselection_glyph\":{\"id\":\"1781\",\"type\":\"Line\"},\"selection_glyph\":null,\"view\":{\"id\":\"1783\",\"type\":\"CDSView\"}},\"id\":\"1782\",\"type\":\"GlyphRenderer\"}],\"root_ids\":[\"1718\"]},\"title\":\"Bokeh Application\",\"version\":\"1.4.0\"}};\n",
       "  var render_items = [{\"docid\":\"b8b9e83d-bea0-427c-ba81-3eb617777c2d\",\"roots\":{\"1718\":\"0574596f-149b-4b16-9093-8fd04d8cde8b\"}}];\n",
       "  root.Bokeh.embed.embed_items_notebook(docs_json, render_items);\n",
       "\n",
       "  }\n",
       "  if (root.Bokeh !== undefined) {\n",
       "    embed_document(root);\n",
       "  } else {\n",
       "    var attempts = 0;\n",
       "    var timer = setInterval(function(root) {\n",
       "      if (root.Bokeh !== undefined) {\n",
       "        clearInterval(timer);\n",
       "        embed_document(root);\n",
       "      } else {\n",
       "        attempts++;\n",
       "        if (attempts > 100) {\n",
       "          clearInterval(timer);\n",
       "          console.log(\"Bokeh: ERROR: Unable to run BokehJS code because BokehJS library is missing\");\n",
       "        }\n",
       "      }\n",
       "    }, 10, root)\n",
       "  }\n",
       "})(window);"
      ],
      "application/vnd.bokehjs_exec.v0+json": ""
     },
     "metadata": {
      "application/vnd.bokehjs_exec.v0+json": {
       "id": "1718"
      }
     },
     "output_type": "display_data"
    },
    {
     "data": {
      "text/html": [
       "\n",
       "\n",
       "\n",
       "\n",
       "\n",
       "\n",
       "  <div class=\"bk-root\" id=\"d018187f-c385-4ed9-b45c-b3cff63ede7d\" data-root-id=\"1927\"></div>\n"
      ]
     },
     "metadata": {},
     "output_type": "display_data"
    },
    {
     "data": {
      "application/javascript": [
       "(function(root) {\n",
       "  function embed_document(root) {\n",
       "    \n",
       "  var docs_json = {\"e56d9442-123b-49fc-8094-8eb9489d8f62\":{\"roots\":{\"references\":[{\"attributes\":{\"below\":[{\"id\":\"1938\",\"type\":\"LinearAxis\"}],\"center\":[{\"id\":\"1942\",\"type\":\"Grid\"},{\"id\":\"1947\",\"type\":\"Grid\"},{\"id\":\"1972\",\"type\":\"Legend\"}],\"left\":[{\"id\":\"1943\",\"type\":\"LinearAxis\"}],\"plot_height\":320,\"plot_width\":960,\"renderers\":[{\"id\":\"1964\",\"type\":\"GlyphRenderer\"},{\"id\":\"1977\",\"type\":\"GlyphRenderer\"},{\"id\":\"1991\",\"type\":\"GlyphRenderer\"}],\"title\":{\"id\":\"1928\",\"type\":\"Title\"},\"toolbar\":{\"id\":\"1954\",\"type\":\"Toolbar\"},\"x_range\":{\"id\":\"1930\",\"type\":\"DataRange1d\"},\"x_scale\":{\"id\":\"1934\",\"type\":\"LinearScale\"},\"y_range\":{\"id\":\"1932\",\"type\":\"DataRange1d\"},\"y_scale\":{\"id\":\"1936\",\"type\":\"LinearScale\"}},\"id\":\"1927\",\"subtype\":\"Figure\",\"type\":\"Plot\"},{\"attributes\":{\"source\":{\"id\":\"1988\",\"type\":\"ColumnDataSource\"}},\"id\":\"1992\",\"type\":\"CDSView\"},{\"attributes\":{\"line_color\":\"purple\",\"x\":{\"field\":\"x\"},\"y\":{\"field\":\"y\"}},\"id\":\"1989\",\"type\":\"Line\"},{\"attributes\":{\"line_alpha\":0.1,\"line_color\":\"#1f77b4\",\"x\":{\"field\":\"x\"},\"y\":{\"field\":\"y\"}},\"id\":\"1990\",\"type\":\"Line\"},{\"attributes\":{},\"id\":\"1970\",\"type\":\"BasicTickFormatter\"},{\"attributes\":{\"active_drag\":\"auto\",\"active_inspect\":\"auto\",\"active_multi\":null,\"active_scroll\":\"auto\",\"active_tap\":\"auto\",\"tools\":[{\"id\":\"1948\",\"type\":\"PanTool\"},{\"id\":\"1949\",\"type\":\"WheelZoomTool\"},{\"id\":\"1950\",\"type\":\"BoxZoomTool\"},{\"id\":\"1951\",\"type\":\"SaveTool\"},{\"id\":\"1952\",\"type\":\"ResetTool\"},{\"id\":\"1953\",\"type\":\"HelpTool\"}]},\"id\":\"1954\",\"type\":\"Toolbar\"},{\"attributes\":{\"data_source\":{\"id\":\"1988\",\"type\":\"ColumnDataSource\"},\"glyph\":{\"id\":\"1989\",\"type\":\"Line\"},\"hover_glyph\":null,\"muted_glyph\":null,\"nonselection_glyph\":{\"id\":\"1990\",\"type\":\"Line\"},\"selection_glyph\":null,\"view\":{\"id\":\"1992\",\"type\":\"CDSView\"}},\"id\":\"1991\",\"type\":\"GlyphRenderer\"},{\"attributes\":{\"data_source\":{\"id\":\"1961\",\"type\":\"ColumnDataSource\"},\"glyph\":{\"id\":\"1962\",\"type\":\"Line\"},\"hover_glyph\":null,\"muted_glyph\":null,\"nonselection_glyph\":{\"id\":\"1963\",\"type\":\"Line\"},\"selection_glyph\":null,\"view\":{\"id\":\"1965\",\"type\":\"CDSView\"}},\"id\":\"1964\",\"type\":\"GlyphRenderer\"},{\"attributes\":{\"source\":{\"id\":\"1961\",\"type\":\"ColumnDataSource\"}},\"id\":\"1965\",\"type\":\"CDSView\"},{\"attributes\":{},\"id\":\"2001\",\"type\":\"Selection\"},{\"attributes\":{\"callback\":null,\"data\":{\"x\":[0,1,2,3,4,5,6,7,8,9,10,11,12,13,14,15,16,17,18,19,20,21,22,23,24,25,26,27,28,29,30,31,32,33,34,35,36,37,38,39,40,41,42,43,44,45,46,47,48,49,50,51,52,53,54,55,56,57,58,59,60,61,62,63,64,65,66,67,68,69,70,71,72,73,74,75,76,77,78,79,80,81,82,83,84,85,86,87,88,89,90,91,92,93,94,95,96,97,98,99,100,101,102,103,104,105,106,107,108,109,110,111,112,113,114,115,116,117,118,119,120,121,122,123,124,125,126,127,128,129,130,131,132,133,134,135,136,137,138,139,140,141,142,143,144],\"y\":{\"__ndarray__\":\"T8iJD509qT+U2Pc7y+mkPz6Nry+tUaY/0ukNNpdopj/qoz+ceBOrP2yhzDVo6ak/6bzIIxn3rz8P5/X/FPOtP61RkZXcXrA/ODnCPThgqj8n+SP+mwCwP05XsxjStrE/fVPD/4DOrj9vThb1xmSwP2Ol3rL2cqo/5Z+qiEQrrz83zXLib0qtP+ZaDrW8ra4/v2WfRTmEsT+LRvEjKkKvP+jmQHaQIK0/4Nt16mIJsT8m0RRg2D6wP2lI+F7EEqs/1DD94k4zsD9dGzkggNSlP8md71GLBak/yF8F0Bx8pT/UAl6AuQKnPxWa+Acp2aY/hv+eIWp1pT9R5nQtfXOlP7tSPnXGQ6g/YtDK2usUqT9CROdzqNilP5D160BWQqU//pYglsgTqD9jxCjbB1mhP+vF1EoWH6Y/5pS7umNJoj/Ltfv8J1OgP6v4Z1F74KM/tLWaRDb0pD/yVoLGiZmmP1ghzQNJzqU/zK4DeQuypD+voSc2V2KiP8OWF2eNoaU/8My2IlikqT/M8q8VcJelPw10dLjjDqc/8CfuWWRvpD86TwrOh/SmP75o1qyTAKQ/6ON5ZmR/pj+wG8G07++rP+Y58G8yWqg/dLwfZFsPqD8jySKEIXWqP4WXgE2OG60/ejLbM8kXrj/EmbGWvmCrPyW4OiGlcqs/yPAMaCJDrT+yDVlUzJutP+EeHKYAZKs/Og+I53pBqz/D5d6xR5auP+awZP2Z66s/w7QFVt2hrT9Z9ygoKc2vPy/3y+5IKqw/hMWe0VLUqz/gVDrbXhSxP6Qh736u7a4/NWlZCrW6sD9y4lW+aGCrP7mvkx9eqKs/BbPRX++Fsj9Q2/DlH4GsPzLOEMzJC64/872I3Tksrj+Ayjrnj+G0P53Kf5O3va8/2FFz88y0sD+K55AiMGizP4S60CYCELI/tdAnfm3zrD+yR+efeHWtPzhMkCL+rqg/qIJ8tiQyqj930QBjy+OsP29hybwPhKw/8KA9oAMRpj9+4+QUGB2mP6KEECtaRq8/dWOEla6YrT/hB3Su6V6tP5+Iu20uzbA/jn2ks8uwqz/LA2991NWvP8ZbyBdgcK4/CDJCx5m6sz+2Z+vCaye0PwTOP/p9e7M/hV/OjJDRtD8hhhlhXHqyP06EdPPmHrU/k2f1Jx/7sz+LTQkckmexP+A0BJWa0rU/Vw6S0/Lssz9EQabjz6i2P5JdEdhLWbc/5Eysogghtz8NLCw9YXS7P5D7Phsul7U/q6qwObSVuD8Thh6v0hmxP8kKgpN/oLA/Zz4gFa6Esj+qXsgmNpuwP66BXXg3DrM/i/yxCyt6sD8KhkcXvV2wPw2bokXPfKk/3664o3werz8qXP/fg9quP+pVvvb8e7A/dQDKESWurT9iqY7An7asP8MTR0pruKw/edbBcBTsrz/Um6o6pN+wP+SEq34ghq4/tUbehhkqqj95pWZbB3yxP6L1lutXEa4/GGd0TRqpsD/0XR6i9x+rP0HbqSHnYrE/mu4D/2bPsD97pNXTxcKxP+TLx94adq4/pr709cdfqz8=\",\"dtype\":\"float64\",\"shape\":[145]}},\"selected\":{\"id\":\"1985\",\"type\":\"Selection\"},\"selection_policy\":{\"id\":\"1986\",\"type\":\"UnionRenderers\"}},\"id\":\"1961\",\"type\":\"ColumnDataSource\"},{\"attributes\":{\"items\":[{\"id\":\"1973\",\"type\":\"LegendItem\"},{\"id\":\"1987\",\"type\":\"LegendItem\"},{\"id\":\"2003\",\"type\":\"LegendItem\"}]},\"id\":\"1972\",\"type\":\"Legend\"},{\"attributes\":{\"label\":{\"value\":\"SMAPE\"},\"renderers\":[{\"id\":\"1991\",\"type\":\"GlyphRenderer\"}]},\"id\":\"2003\",\"type\":\"LegendItem\"},{\"attributes\":{\"ticker\":{\"id\":\"1939\",\"type\":\"BasicTicker\"}},\"id\":\"1942\",\"type\":\"Grid\"},{\"attributes\":{\"bottom_units\":\"screen\",\"fill_alpha\":{\"value\":0.5},\"fill_color\":{\"value\":\"lightgrey\"},\"left_units\":\"screen\",\"level\":\"overlay\",\"line_alpha\":{\"value\":1.0},\"line_color\":{\"value\":\"black\"},\"line_dash\":[4,4],\"line_width\":{\"value\":2},\"render_mode\":\"css\",\"right_units\":\"screen\",\"top_units\":\"screen\"},\"id\":\"1971\",\"type\":\"BoxAnnotation\"},{\"attributes\":{},\"id\":\"2002\",\"type\":\"UnionRenderers\"},{\"attributes\":{\"axis_label\":\"Error\",\"formatter\":{\"id\":\"1970\",\"type\":\"BasicTickFormatter\"},\"ticker\":{\"id\":\"1944\",\"type\":\"BasicTicker\"}},\"id\":\"1943\",\"type\":\"LinearAxis\"},{\"attributes\":{},\"id\":\"1944\",\"type\":\"BasicTicker\"},{\"attributes\":{},\"id\":\"1953\",\"type\":\"HelpTool\"},{\"attributes\":{\"line_color\":\"orange\",\"line_width\":2,\"x\":{\"field\":\"x\"},\"y\":{\"field\":\"y\"}},\"id\":\"1962\",\"type\":\"Line\"},{\"attributes\":{\"label\":{\"value\":\"ND\"},\"renderers\":[{\"id\":\"1964\",\"type\":\"GlyphRenderer\"}]},\"id\":\"1973\",\"type\":\"LegendItem\"},{\"attributes\":{\"axis_label\":\"Test Dataset Row Index\",\"formatter\":{\"id\":\"1968\",\"type\":\"BasicTickFormatter\"},\"ticker\":{\"id\":\"1939\",\"type\":\"BasicTicker\"}},\"id\":\"1938\",\"type\":\"LinearAxis\"},{\"attributes\":{\"callback\":null,\"data\":{\"x\":[0,1,2,3,4,5,6,7,8,9,10,11,12,13,14,15,16,17,18,19,20,21,22,23,24,25,26,27,28,29,30,31,32,33,34,35,36,37,38,39,40,41,42,43,44,45,46,47,48,49,50,51,52,53,54,55,56,57,58,59,60,61,62,63,64,65,66,67,68,69,70,71,72,73,74,75,76,77,78,79,80,81,82,83,84,85,86,87,88,89,90,91,92,93,94,95,96,97,98,99,100,101,102,103,104,105,106,107,108,109,110,111,112,113,114,115,116,117,118,119,120,121,122,123,124,125,126,127,128,129,130,131,132,133,134,135,136,137,138,139,140,141,142,143,144],\"y\":{\"__ndarray__\":\"TPLKvhf/rT9As832KCqpP72vmg0G/qs/grIQN3g0qj91AxQjbyywP+nGkFa77q4/kKPNhcrCsT/mag5K7b6wPxXv7nAFLrQ/6TEZJunIrj9ORi1qHiGyP+gp/V3xaLU/NkT45mf7sj8zzul6wUyzP5EUwu7Nfq8/G4HHK5QGsj802AsTG6OyPwQI0dWupLE/kVD42Qu2tT9wZTORs5eyPxM7mgSnYLI/TiVwlo45sz8m3H7so3mzP2EGgLKR4q8/HvJ48E7Fsj/N2sX2cbWrPwe/5b8Vma4/d3sXxN8/qT8Y3o2O+WusPyS/ZQZf1Ks/aAb45thFqj9gkAMF2uaoP3PKjizWIa0/fw6/ICcErj9+mqiWvYOrPxIE9C3BcKg/33uh8HXYrT+DmVlCbfukP5aAVBfG/6s/1CuFmhYYqD8vM7fPq2SkP47oZPhl66o/Rk6HqJH6qT+b6krwYR+sP3XTDNYK7K0/wxIBVaNTqT9Wv/VZ+deoP04R5NtD/6o/+x5iVpOfsD/iKOAh81CsP10Iw0P5Sq0/1coeUGC5qT+WjG+1tX+sP8erm+OCIao/YzXWXOSBqz+6pOEp4TqxP2br03wAGq8/lropawMhrT8kZ1sOh3iwP2x8U6tpIbI/IQzXd6qWsj9qGxYV/z2xP1pqkJWBZLE/zpRXmgEDsT85YnUHYlOxPzUDt1D4fLA/8cfB73gasT+EISD6fKaxP7yvYlQnS7E/m0O1LmJusT/3kxzPpQKyPyNKjBfhjrE/1eiy7/LZsT9h1X7qhKq0PxwvT8/KNrI/SZGdURGTsz+r66WtiISxPw6PmykhPbI/jGSnF+QCtj+xQshKCCuxPzgSHxVbWbI/q4quSJC5sT+3lk7a3TK3PyWtDZYviLM/J3WxL5W9tD/jDzYoszG3PwfIFG165LU/B0BxM3g3sT8ppDzKXGiyPzBlfLZFK7A/5/XuTVYssT+iDC+J7++xP2F4utG2PrI/kTaGbaqQrT+zhsxie8CtP0rPSdULB7M/vc8Hxa32sz+//odcQJa0P6DqL7vR+7Y/qwWciqKgsj9PJNahkgq0PxRx+exPn7M/2AtE9FHgtz+bl4XRvMS5P8kjuF5aT7k/Qx0/Kis/uz/rDjvo8iK3P5AtSfxa4bk/Uh0Ds43atz9wOIMM6GK2Pwsy4LMYTrs/S00ISqZ3tz+OWxDaCma6P1flrgZbKLs/+LP87tQBuj/tD6/dMYu+P+V4E6NbV7k/x9W7x6zGuz/Uwj4BspC1P8qtUXaVtLQ/VIwlZ4NTtj+lWk58VBG0P+G69uVZM7g//dCiMV0rtT/knklA3wu0P+BZinvgDLE/ukkzyp7esz9KeJwp9O+yP6Yeka/iCLU/f8WjCZ3Fsz+yma3U2qqyP1XVX1835rI/gKASwe4RtD/sCeH7hLm0P2kAxTn/wbI/Cyo0rn82sj8/KFAKc9W1Py7xEsO+bbI/EmSL23NHtT+XwVOb8SezPz43X8f5v7U/iti1rXd9tT+4R1myrrC0P4UkKyDx4bE/OQO/S1eWsD8=\",\"dtype\":\"float64\",\"shape\":[145]}},\"selected\":{\"id\":\"2001\",\"type\":\"Selection\"},\"selection_policy\":{\"id\":\"2002\",\"type\":\"UnionRenderers\"}},\"id\":\"1974\",\"type\":\"ColumnDataSource\"},{\"attributes\":{},\"id\":\"2074\",\"type\":\"Selection\"},{\"attributes\":{\"line_alpha\":0.1,\"line_color\":\"#1f77b4\",\"line_width\":2,\"x\":{\"field\":\"x\"},\"y\":{\"field\":\"y\"}},\"id\":\"1963\",\"type\":\"Line\"},{\"attributes\":{},\"id\":\"1985\",\"type\":\"Selection\"},{\"attributes\":{\"line_alpha\":0.1,\"line_color\":\"#1f77b4\",\"x\":{\"field\":\"x\"},\"y\":{\"field\":\"y\"}},\"id\":\"1976\",\"type\":\"Line\"},{\"attributes\":{},\"id\":\"1939\",\"type\":\"BasicTicker\"},{\"attributes\":{},\"id\":\"1986\",\"type\":\"UnionRenderers\"},{\"attributes\":{},\"id\":\"2075\",\"type\":\"UnionRenderers\"},{\"attributes\":{\"dimension\":1,\"ticker\":{\"id\":\"1944\",\"type\":\"BasicTicker\"}},\"id\":\"1947\",\"type\":\"Grid\"},{\"attributes\":{\"data_source\":{\"id\":\"1974\",\"type\":\"ColumnDataSource\"},\"glyph\":{\"id\":\"1975\",\"type\":\"Line\"},\"hover_glyph\":null,\"muted_glyph\":null,\"nonselection_glyph\":{\"id\":\"1976\",\"type\":\"Line\"},\"selection_glyph\":null,\"view\":{\"id\":\"1978\",\"type\":\"CDSView\"}},\"id\":\"1977\",\"type\":\"GlyphRenderer\"},{\"attributes\":{},\"id\":\"1952\",\"type\":\"ResetTool\"},{\"attributes\":{},\"id\":\"1936\",\"type\":\"LinearScale\"},{\"attributes\":{\"source\":{\"id\":\"1974\",\"type\":\"ColumnDataSource\"}},\"id\":\"1978\",\"type\":\"CDSView\"},{\"attributes\":{},\"id\":\"1934\",\"type\":\"LinearScale\"},{\"attributes\":{},\"id\":\"1968\",\"type\":\"BasicTickFormatter\"},{\"attributes\":{\"callback\":null,\"data\":{\"x\":[0,1,2,3,4,5,6,7,8,9,10,11,12,13,14,15,16,17,18,19,20,21,22,23,24,25,26,27,28,29,30,31,32,33,34,35,36,37,38,39,40,41,42,43,44,45,46,47,48,49,50,51,52,53,54,55,56,57,58,59,60,61,62,63,64,65,66,67,68,69,70,71,72,73,74,75,76,77,78,79,80,81,82,83,84,85,86,87,88,89,90,91,92,93,94,95,96,97,98,99,100,101,102,103,104,105,106,107,108,109,110,111,112,113,114,115,116,117,118,119,120,121,122,123,124,125,126,127,128,129,130,131,132,133,134,135,136,137,138,139,140,141,142,143,144],\"y\":{\"__ndarray__\":\"zIUUrqBPqT9swPV8ayylPxAWC1EGX6Y/jPf1rVyVpj81nOVUR2GrP7CUqUoT96s/lGoq9MgMsD9Y3tTW7OiuP3Ws3n2ZvLE/4bh4mB2mrD/M3gMxgcewP8WejDP+D7M/MYVNODkcsT8lHQVpOuuxPy//9aI4Oqw/+xgIDSuDsD/YQ4jK94ewP3WqYqhMQrA/+Xnkh8kRsz8MNL17NNGwPySOgvpRJbA/FAfe2bkMsj80StL139KxP7umPEECfK0/f3Ztkw1nsT9vcmaEVkOlPwvOyRAkHak/EKOG/GeVpT+w80+DUT6mPxQmdn8FnKU/AYbfdV5gpT8WtCkEHVSlPzMwaP4ixqc/SGywk0XLqD8BkhjFx5mlPzhUI+S3P6U/t2gaTwlMpz+bkt9pL06hPwBlePriiqY/Va2TF0ggoj/Z3vsDKnGgP5+hOyT81qM/cqbfXeTdpD/VhQmdsg6nP9lDvGSgvKU/mE1flkqbpD+CX9+RPsOiP5QV1R+uXqY/o9FnAKG8qj/0Pivae8WmP8vZFacvhKc/TO3UgAJipT/YEejq/NGnP2d8JYYmv6Q/tXW3Y1tLpz8rSqTcKxOtP/CWoBB0Oqk/kHD5aAr7qD9VVRIg/e6qP+sBcMNaXa4/Gyl8Om8lrz+5LTfMog2sPwEm3TEalas/c6S6CEiCrj/3YysKpVWuPyBRtFxXiaw/g78kKZDZqz8kxTsM/72uP9UFuvTdbKw/rCjCdm01rj9bhtnQskuwP2HoUIwr2aw/6NB346GhrT9r/Puud4SxP2ndfngEILA/y16Lucm1sT8zTI1WSq2rP3vdEAa4rqs/+c457Tz6sz/nC5a0FlGtP6gGTIAK164/s6HbTsCrrz9hjqYcItC2Pzrp4qgESrE/xxdArwWnsj/WZzMtkfS0PwZ7h4w5+LI/MMB534ZSrT/7qA2krYavP/FplGTy+ak/rCCUCpxnrD/ThyXX+fOtP9erKpD4xK4/TAPi2+5Bpj+kJvySrjOmP90OC8tanrA/69+9NZzQrj/30cuNfR+vP8tANtxCi7I/VQjmBZterj9hQcnyj/+xP6FtDhDxsrA/RZKIPXeHtj+IH5ZrlXO3P1iqFpOCUbc/cEG+sb1RuD9TdTyWNqK0P9OsT/qm5Lc/uLRi3sADtj+TQ/sHmoGzP6Hn83heIbk/SXVVoM3Xtj8x5+um1em5P/B6NyRuabs/6EsG+wO/uT+4NXjq3cK+Pzjk7pr/sLc/dY5yKq2FvD/AfFmZpEGzP4H+AFqsm7E/jc6dBqEltD9Iy5ZNRpeyPz2ewBpCeLU/xoPVQ+KCsT9rxQi1wOWxPxu4Czfoa6s/2x1wYnDOsD+1JiXWp4CwP+lF9/snTbE//SJ22Tghrz+99Dm24RmvPxiUeyG/Iq8/zFH2NgWFsT+pABDwaEayP5f2rI8lDrA/FZjn1OkVrD/nP+wz1VyzP9+FDsPmla8/fx6M+DDasT97gGLXeF2tP+RLTezvlLI/IzafdqnwsT+Pe1TRXvCxP2iZ3neTva4/KYM30CgkrD8=\",\"dtype\":\"float64\",\"shape\":[145]}},\"selected\":{\"id\":\"2074\",\"type\":\"Selection\"},\"selection_policy\":{\"id\":\"2075\",\"type\":\"UnionRenderers\"}},\"id\":\"1988\",\"type\":\"ColumnDataSource\"},{\"attributes\":{\"line_color\":\"green\",\"x\":{\"field\":\"x\"},\"y\":{\"field\":\"y\"}},\"id\":\"1975\",\"type\":\"Line\"},{\"attributes\":{\"callback\":null},\"id\":\"1932\",\"type\":\"DataRange1d\"},{\"attributes\":{},\"id\":\"1951\",\"type\":\"SaveTool\"},{\"attributes\":{\"label\":{\"value\":\"NRMSE\"},\"renderers\":[{\"id\":\"1977\",\"type\":\"GlyphRenderer\"}]},\"id\":\"1987\",\"type\":\"LegendItem\"},{\"attributes\":{\"overlay\":{\"id\":\"1971\",\"type\":\"BoxAnnotation\"}},\"id\":\"1950\",\"type\":\"BoxZoomTool\"},{\"attributes\":{\"text\":\"ND, NRMSE, and SMAPE over the test set for MT_325\"},\"id\":\"1928\",\"type\":\"Title\"},{\"attributes\":{},\"id\":\"1948\",\"type\":\"PanTool\"},{\"attributes\":{\"callback\":null},\"id\":\"1930\",\"type\":\"DataRange1d\"},{\"attributes\":{},\"id\":\"1949\",\"type\":\"WheelZoomTool\"}],\"root_ids\":[\"1927\"]},\"title\":\"Bokeh Application\",\"version\":\"1.4.0\"}};\n",
       "  var render_items = [{\"docid\":\"e56d9442-123b-49fc-8094-8eb9489d8f62\",\"roots\":{\"1927\":\"d018187f-c385-4ed9-b45c-b3cff63ede7d\"}}];\n",
       "  root.Bokeh.embed.embed_items_notebook(docs_json, render_items);\n",
       "\n",
       "  }\n",
       "  if (root.Bokeh !== undefined) {\n",
       "    embed_document(root);\n",
       "  } else {\n",
       "    var attempts = 0;\n",
       "    var timer = setInterval(function(root) {\n",
       "      if (root.Bokeh !== undefined) {\n",
       "        clearInterval(timer);\n",
       "        embed_document(root);\n",
       "      } else {\n",
       "        attempts++;\n",
       "        if (attempts > 100) {\n",
       "          clearInterval(timer);\n",
       "          console.log(\"Bokeh: ERROR: Unable to run BokehJS code because BokehJS library is missing\");\n",
       "        }\n",
       "      }\n",
       "    }, 10, root)\n",
       "  }\n",
       "})(window);"
      ],
      "application/vnd.bokehjs_exec.v0+json": ""
     },
     "metadata": {
      "application/vnd.bokehjs_exec.v0+json": {
       "id": "1927"
      }
     },
     "output_type": "display_data"
    },
    {
     "data": {
      "text/html": [
       "\n",
       "\n",
       "\n",
       "\n",
       "\n",
       "\n",
       "  <div class=\"bk-root\" id=\"78db7e1f-9fea-45c0-9770-66871c1586a1\" data-root-id=\"2148\"></div>\n"
      ]
     },
     "metadata": {},
     "output_type": "display_data"
    },
    {
     "data": {
      "application/javascript": [
       "(function(root) {\n",
       "  function embed_document(root) {\n",
       "    \n",
       "  var docs_json = {\"575508a4-1ac1-4d7c-9aea-ab1a9e79851f\":{\"roots\":{\"references\":[{\"attributes\":{\"below\":[{\"id\":\"2159\",\"type\":\"LinearAxis\"}],\"center\":[{\"id\":\"2163\",\"type\":\"Grid\"},{\"id\":\"2168\",\"type\":\"Grid\"},{\"id\":\"2193\",\"type\":\"Legend\"}],\"left\":[{\"id\":\"2164\",\"type\":\"LinearAxis\"}],\"plot_height\":320,\"plot_width\":960,\"renderers\":[{\"id\":\"2185\",\"type\":\"GlyphRenderer\"},{\"id\":\"2198\",\"type\":\"GlyphRenderer\"},{\"id\":\"2212\",\"type\":\"GlyphRenderer\"}],\"title\":{\"id\":\"2149\",\"type\":\"Title\"},\"toolbar\":{\"id\":\"2175\",\"type\":\"Toolbar\"},\"x_range\":{\"id\":\"2151\",\"type\":\"DataRange1d\"},\"x_scale\":{\"id\":\"2155\",\"type\":\"LinearScale\"},\"y_range\":{\"id\":\"2153\",\"type\":\"DataRange1d\"},\"y_scale\":{\"id\":\"2157\",\"type\":\"LinearScale\"}},\"id\":\"2148\",\"subtype\":\"Figure\",\"type\":\"Plot\"},{\"attributes\":{\"axis_label\":\"Test Dataset Row Index\",\"formatter\":{\"id\":\"2189\",\"type\":\"BasicTickFormatter\"},\"ticker\":{\"id\":\"2160\",\"type\":\"BasicTicker\"}},\"id\":\"2159\",\"type\":\"LinearAxis\"},{\"attributes\":{\"label\":{\"value\":\"ND\"},\"renderers\":[{\"id\":\"2185\",\"type\":\"GlyphRenderer\"}]},\"id\":\"2194\",\"type\":\"LegendItem\"},{\"attributes\":{},\"id\":\"2174\",\"type\":\"HelpTool\"},{\"attributes\":{},\"id\":\"2206\",\"type\":\"Selection\"},{\"attributes\":{},\"id\":\"2157\",\"type\":\"LinearScale\"},{\"attributes\":{\"callback\":null},\"id\":\"2153\",\"type\":\"DataRange1d\"},{\"attributes\":{\"line_color\":\"purple\",\"x\":{\"field\":\"x\"},\"y\":{\"field\":\"y\"}},\"id\":\"2210\",\"type\":\"Line\"},{\"attributes\":{\"line_alpha\":0.1,\"line_color\":\"#1f77b4\",\"line_width\":2,\"x\":{\"field\":\"x\"},\"y\":{\"field\":\"y\"}},\"id\":\"2184\",\"type\":\"Line\"},{\"attributes\":{\"label\":{\"value\":\"SMAPE\"},\"renderers\":[{\"id\":\"2212\",\"type\":\"GlyphRenderer\"}]},\"id\":\"2224\",\"type\":\"LegendItem\"},{\"attributes\":{},\"id\":\"2155\",\"type\":\"LinearScale\"},{\"attributes\":{},\"id\":\"2173\",\"type\":\"ResetTool\"},{\"attributes\":{\"callback\":null,\"data\":{\"x\":[0,1,2,3,4,5,6,7,8,9,10,11,12,13,14,15,16,17,18,19,20,21,22,23,24,25,26,27,28,29,30,31,32,33,34,35,36,37,38,39,40,41,42,43,44,45,46,47,48,49,50,51,52,53,54,55,56,57,58,59,60,61,62,63,64,65,66,67,68,69,70,71,72,73,74,75,76,77,78,79,80,81,82,83,84,85,86,87,88,89,90,91,92,93,94,95,96,97,98,99,100,101,102,103,104,105,106,107,108,109,110,111,112,113,114,115,116,117,118,119,120,121,122,123,124,125,126,127,128,129,130,131,132,133,134,135,136,137,138,139,140,141,142,143,144],\"y\":{\"__ndarray__\":\"sdqPH5rTpD93EPrXklSnP8UBfuJDBKM/d4Lq+R7NqD/pJ+odEBOjP+lXi+v5HaU/fcE65hPMqD//3g/XID6mPwh7xELPOag/cGpFrl4dpj/fQ6BMDdGpP6AVgZwNyqs/cOrTbZfPpD/p4+y9U4ykP8EqiWGswKM/miFbBg4opD+g+u0MvnmlP6XOdo+C16Y/paNibI9bqz8wV7uiH7ymP51fPte/+6s/HSHy9eqLqz9D1sXcZlGnP9NAbe2Gea0/GV7IUJx0rj8Lj9HqHJ6tPx/6lkhOn7A/yyol3+HBrj+LZuaaS7SxP+0Rvl6bdbY/1fjHhz9Csz8gsUuxcHu0P/3ar6CcoLE/I/Xt+xUfrz9z0YIeBZCzPzHW2PMQebE/3iSW5byktD+vRm5JQn+0P1Up2Ck537E/6wZfkoBktT9wyRzyCU6zP2wEoB4g/a8/JgMHIwmVsz8pkZP0joyvP+eZlWD2LbA/pbe6RLsLrz8fFKtO2xWyP1gdbPjqLKk/4+fbQceorj+8jcCtC/OsP9WAWvlDtqo/z2BWOO01rT9F25JglmKoP5wDvPn5TKw/Q1jaebmlrD9dRufLFguwP9EvBCJVHqI/oHOA3uO0pD/OWRKIzbGwP3BAYPPxMbM/k3iujvo1rT/b+OTOv+OpP0h/sgIjH60//2jg6SOoqD8ja7rkmJWsPx0Tq5NI3qw/eHAzkuBarj9l4tylZU2qP0MQjqkvtq8/yDYkXp7EqT80dOXCve2mP4Bl0lROm6c/gwYPb9j8pj+TTUSnSTumP7MFFwO9Fqg/UCPiJV4eqj9lEncuSYivP8vu+73/zq0/qTiue1n2oz/VeGUaSemxP33JtupfOrA/i24VLqzlpj/b8O6let2vP/GbkXDZVaY/DUtjgtV3qT9XkEU/Zd6oP2hFVvrsY6o/YyWWKrFYpz/CJKYytP6zP6XyqFj4oq8/jBzLujCYrD8AAu8TDdawP82Monf83q4/peYXLZC8rT/QNGJyfgGwPy4rQhn6n7M/cbtDjmdOsD8kBCYf316uP8dbvTOx7q8/bXtalSqwrj9Q+16TjEWvPzOp/oUBA7I/HY/8TcVSsT950K4vmlmwPy5kpWoS57E/uM4ISDf7sT89CRsfHJmzP2gCQ9uqQbg/bDMQlktCtD+YEfiGh2W3PxT2hApmVrU/x8jRiR+Wsj8cZMvoymmzP8MKeQH+B7M/Ud4WhWwHtD/M7GhjjH6xP27LsPkVmLE/EYlCKQa/tj/45ThIrKqvP40AodKwk7M/G+gXjm9AtT957Tm1AKGyP7O5lvEc0LE/6mVekZjZsz/y6t9SnIa0P4Btvbd9cbI/bz+zkdb8sj9B3eeK2kC0PwkQmfdasrQ/qXtTnXH4sz/FKtbUxwq1PzE1YQZKPbA/vdmjG4yysT95ws+56kOwP78oEVqfJLQ/BFNsXlUlsT97rVVaqPytP+cLes8wz7M/QwJh+gb5sD/lOtxWYKexP4Ufzdfx8K8/zyCLCZ3grT+/JXse5OixP6OcJDPRS6c//IrX7bSBsD8=\",\"dtype\":\"float64\",\"shape\":[145]}},\"selected\":{\"id\":\"2307\",\"type\":\"Selection\"},\"selection_policy\":{\"id\":\"2308\",\"type\":\"UnionRenderers\"}},\"id\":\"2209\",\"type\":\"ColumnDataSource\"},{\"attributes\":{},\"id\":\"2207\",\"type\":\"UnionRenderers\"},{\"attributes\":{},\"id\":\"2172\",\"type\":\"SaveTool\"},{\"attributes\":{\"items\":[{\"id\":\"2194\",\"type\":\"LegendItem\"},{\"id\":\"2208\",\"type\":\"LegendItem\"},{\"id\":\"2224\",\"type\":\"LegendItem\"}]},\"id\":\"2193\",\"type\":\"Legend\"},{\"attributes\":{},\"id\":\"2169\",\"type\":\"PanTool\"},{\"attributes\":{\"data_source\":{\"id\":\"2182\",\"type\":\"ColumnDataSource\"},\"glyph\":{\"id\":\"2183\",\"type\":\"Line\"},\"hover_glyph\":null,\"muted_glyph\":null,\"nonselection_glyph\":{\"id\":\"2184\",\"type\":\"Line\"},\"selection_glyph\":null,\"view\":{\"id\":\"2186\",\"type\":\"CDSView\"}},\"id\":\"2185\",\"type\":\"GlyphRenderer\"},{\"attributes\":{},\"id\":\"2307\",\"type\":\"Selection\"},{\"attributes\":{},\"id\":\"2170\",\"type\":\"WheelZoomTool\"},{\"attributes\":{},\"id\":\"2308\",\"type\":\"UnionRenderers\"},{\"attributes\":{\"source\":{\"id\":\"2209\",\"type\":\"ColumnDataSource\"}},\"id\":\"2213\",\"type\":\"CDSView\"},{\"attributes\":{},\"id\":\"2189\",\"type\":\"BasicTickFormatter\"},{\"attributes\":{},\"id\":\"2223\",\"type\":\"UnionRenderers\"},{\"attributes\":{\"overlay\":{\"id\":\"2192\",\"type\":\"BoxAnnotation\"}},\"id\":\"2171\",\"type\":\"BoxZoomTool\"},{\"attributes\":{\"source\":{\"id\":\"2182\",\"type\":\"ColumnDataSource\"}},\"id\":\"2186\",\"type\":\"CDSView\"},{\"attributes\":{\"line_alpha\":0.1,\"line_color\":\"#1f77b4\",\"x\":{\"field\":\"x\"},\"y\":{\"field\":\"y\"}},\"id\":\"2211\",\"type\":\"Line\"},{\"attributes\":{\"bottom_units\":\"screen\",\"fill_alpha\":{\"value\":0.5},\"fill_color\":{\"value\":\"lightgrey\"},\"left_units\":\"screen\",\"level\":\"overlay\",\"line_alpha\":{\"value\":1.0},\"line_color\":{\"value\":\"black\"},\"line_dash\":[4,4],\"line_width\":{\"value\":2},\"render_mode\":\"css\",\"right_units\":\"screen\",\"top_units\":\"screen\"},\"id\":\"2192\",\"type\":\"BoxAnnotation\"},{\"attributes\":{},\"id\":\"2222\",\"type\":\"Selection\"},{\"attributes\":{\"line_color\":\"orange\",\"line_width\":2,\"x\":{\"field\":\"x\"},\"y\":{\"field\":\"y\"}},\"id\":\"2183\",\"type\":\"Line\"},{\"attributes\":{\"active_drag\":\"auto\",\"active_inspect\":\"auto\",\"active_multi\":null,\"active_scroll\":\"auto\",\"active_tap\":\"auto\",\"tools\":[{\"id\":\"2169\",\"type\":\"PanTool\"},{\"id\":\"2170\",\"type\":\"WheelZoomTool\"},{\"id\":\"2171\",\"type\":\"BoxZoomTool\"},{\"id\":\"2172\",\"type\":\"SaveTool\"},{\"id\":\"2173\",\"type\":\"ResetTool\"},{\"id\":\"2174\",\"type\":\"HelpTool\"}]},\"id\":\"2175\",\"type\":\"Toolbar\"},{\"attributes\":{},\"id\":\"2191\",\"type\":\"BasicTickFormatter\"},{\"attributes\":{\"data_source\":{\"id\":\"2209\",\"type\":\"ColumnDataSource\"},\"glyph\":{\"id\":\"2210\",\"type\":\"Line\"},\"hover_glyph\":null,\"muted_glyph\":null,\"nonselection_glyph\":{\"id\":\"2211\",\"type\":\"Line\"},\"selection_glyph\":null,\"view\":{\"id\":\"2213\",\"type\":\"CDSView\"}},\"id\":\"2212\",\"type\":\"GlyphRenderer\"},{\"attributes\":{\"label\":{\"value\":\"NRMSE\"},\"renderers\":[{\"id\":\"2198\",\"type\":\"GlyphRenderer\"}]},\"id\":\"2208\",\"type\":\"LegendItem\"},{\"attributes\":{\"data_source\":{\"id\":\"2195\",\"type\":\"ColumnDataSource\"},\"glyph\":{\"id\":\"2196\",\"type\":\"Line\"},\"hover_glyph\":null,\"muted_glyph\":null,\"nonselection_glyph\":{\"id\":\"2197\",\"type\":\"Line\"},\"selection_glyph\":null,\"view\":{\"id\":\"2199\",\"type\":\"CDSView\"}},\"id\":\"2198\",\"type\":\"GlyphRenderer\"},{\"attributes\":{\"callback\":null,\"data\":{\"x\":[0,1,2,3,4,5,6,7,8,9,10,11,12,13,14,15,16,17,18,19,20,21,22,23,24,25,26,27,28,29,30,31,32,33,34,35,36,37,38,39,40,41,42,43,44,45,46,47,48,49,50,51,52,53,54,55,56,57,58,59,60,61,62,63,64,65,66,67,68,69,70,71,72,73,74,75,76,77,78,79,80,81,82,83,84,85,86,87,88,89,90,91,92,93,94,95,96,97,98,99,100,101,102,103,104,105,106,107,108,109,110,111,112,113,114,115,116,117,118,119,120,121,122,123,124,125,126,127,128,129,130,131,132,133,134,135,136,137,138,139,140,141,142,143,144],\"y\":{\"__ndarray__\":\"qeraiu1/oz+R6ndtBlWmP58DjRc+k6M/c/ZYXyhbqD+557Kj09yiP4kxg9gjxaU/c6Si9KGxqD8TJPnuRvKmP8aPuCNC8Kg/daFjdjNbpT9Vsr665l+pP8RhIV78sao/lBVZSlEspD9Mbv4U1aKjP2qvRMrCJKM/34WBg1j7oj+dcVOqboGjP0P08DPOFqU/qM8cQtiHqT+RjCTES9OmP9MmTJSBnao/7uQadh+yqj9/OQ4q9m2oP+5tUL0Cd6w/udlZ0EuWqz8AlM9tic2sP09WB2xM1a0/iwTbSQUMrD/UjF2tQUqwP6ovgzIUQLQ/jP8+9ipSsT8sSHNarhGyPw1SdDzrULA/Qu0M1+eJrD8+VAIXMiqxPwXPNh11N68/ae2rUdSEsj9NWv2zXduxPyCho2YME7A/TrfvlihJsz+btDESjq6wPykzEPYHf60/cQn5bgZ9sD8Uxv9VPc2sP9nXzKyKDK0/ekE/28xuqz+jvDnyZBOxP7AxQ9y4Bak/AX3TCIewrT8zIdduqEurP0KIS6ZVxag/WpXVeS2lqj+eG04JQlqpP6bSrAHRbas/nrmU4VlFrD9SlRbSIzmtPylnSrOcnqI/qVk/81XppD8lad1kv/+tPwxrntTtXrE/v04dea2Yqz+WYFBsmC2qP3PBbswOB60/P3J9i92qqT9aMirZBLWrP6PFM1L/Iqw/z2PRElb0qz8ZGfPgdJ2oPzsg8ySQMaw/3mM2MBE2qD+rgOmE6m6mPy87ZAHDgKc/9aIUF9KCpj9GlN6W2SukP81wYYMXrqY/WVx9UpqUqD9LQqun6c2qP2p12F+zCqs/4U8mmvnnoz/JAidpI2KtPyH1TJ65Oqw/W/faOoN5pT/eadg3qSyrP01YTBApFqQ/p337hstXpj9zBhLZNgOkP/z7cJQ2lKc/z/cTLaSppT+3J++4FWWxP9FmfwVYTK0/C+dCLFsjrD8X5bL6XiqwP9M2PEJZMK8/tpi/JabyrT+2BgtWRoCwPxrXGtCiO7M/3TplGzMUsD/n2thlxCOvP8fyZjc2nLA/W7qD9qFKsD8pJM/UflyvP8b+0WhRfbE/CICXV9fMsD/1zI+vfwmwP3BEageJxbI/0P1yyGIqsT+doK7OY1SzPxh3pumVC7Y/M7RkklB/tD//DHj88ou2P60ro9QJHLU/m21Bdck8sj8Ar0ljopOzP18tYP+pIrM/NtShwZcHsz9lAb3McjKxP4ZNGO2b0rA/gxH7fBIntT8oPYE6U1CvP2F3NtuPCrM/qnEE87VntD8Nd+YVnW2yP5aZaOkiw7E/PkOwjNB8sz8U4+yi31a0P2i5bTUAQrI/Rz+78sM6sz/SeCUluFy0Px+YPcZ3KrQ/SKWxbrX9sz+D1hj4t1G0P9Yp6gczTbA/iAVJKXP4sD8BTEelZgCwPzQniYZxHLM/jvl6QJbLrz9Z9n8n9SytP+Nf/uTQeLM/hUhpq4hAsT/2wQXKCB6xP23iIeSw+K0/5iR90HV1rD+AUYhA/k6wP57o9XlXKac/Cl90s72Orj8=\",\"dtype\":\"float64\",\"shape\":[145]}},\"selected\":{\"id\":\"2206\",\"type\":\"Selection\"},\"selection_policy\":{\"id\":\"2207\",\"type\":\"UnionRenderers\"}},\"id\":\"2182\",\"type\":\"ColumnDataSource\"},{\"attributes\":{\"callback\":null},\"id\":\"2151\",\"type\":\"DataRange1d\"},{\"attributes\":{\"line_alpha\":0.1,\"line_color\":\"#1f77b4\",\"x\":{\"field\":\"x\"},\"y\":{\"field\":\"y\"}},\"id\":\"2197\",\"type\":\"Line\"},{\"attributes\":{\"axis_label\":\"Error\",\"formatter\":{\"id\":\"2191\",\"type\":\"BasicTickFormatter\"},\"ticker\":{\"id\":\"2165\",\"type\":\"BasicTicker\"}},\"id\":\"2164\",\"type\":\"LinearAxis\"},{\"attributes\":{\"text\":\"ND, NRMSE, and SMAPE over the test set for MT_326\"},\"id\":\"2149\",\"type\":\"Title\"},{\"attributes\":{\"source\":{\"id\":\"2195\",\"type\":\"ColumnDataSource\"}},\"id\":\"2199\",\"type\":\"CDSView\"},{\"attributes\":{},\"id\":\"2160\",\"type\":\"BasicTicker\"},{\"attributes\":{},\"id\":\"2165\",\"type\":\"BasicTicker\"},{\"attributes\":{\"line_color\":\"green\",\"x\":{\"field\":\"x\"},\"y\":{\"field\":\"y\"}},\"id\":\"2196\",\"type\":\"Line\"},{\"attributes\":{\"ticker\":{\"id\":\"2160\",\"type\":\"BasicTicker\"}},\"id\":\"2163\",\"type\":\"Grid\"},{\"attributes\":{\"callback\":null,\"data\":{\"x\":[0,1,2,3,4,5,6,7,8,9,10,11,12,13,14,15,16,17,18,19,20,21,22,23,24,25,26,27,28,29,30,31,32,33,34,35,36,37,38,39,40,41,42,43,44,45,46,47,48,49,50,51,52,53,54,55,56,57,58,59,60,61,62,63,64,65,66,67,68,69,70,71,72,73,74,75,76,77,78,79,80,81,82,83,84,85,86,87,88,89,90,91,92,93,94,95,96,97,98,99,100,101,102,103,104,105,106,107,108,109,110,111,112,113,114,115,116,117,118,119,120,121,122,123,124,125,126,127,128,129,130,131,132,133,134,135,136,137,138,139,140,141,142,143,144],\"y\":{\"__ndarray__\":\"77CtH+Hhqz+AfN9mqLusP9zC5ef2Xqk/19r95/n/rz/UEAW6LcaqP1GNEdiufq0/R3kg07gtrz+tE88B24yvP9n7eqgf4rA/xml6vH3VqT9gD/RaWsGvP3ZHOCKtubE/UVM9U4mAqT+ZBH1CTzioP9mJjW8Ivqc/CMSXqzXHpT91fc2ENU6pP3/MRlzfCKk/7/9eKkM5rz+2xcV38surPzMv8thQO68/0EWJi+8csD+O5M2T+12uP9xTryAx17A/adNmouQIsT9bmTP0UdCyP43FVSxJHbI/GhzvBVisrz8fv7UOWTOyP0ojOuHJHbc/o2sSxFEnsz8HxREmSUK1P90hG0Hv1bI/HFozE03PsD+vLHr7FeGzP6fpytbItrI/FnzkNBfntD9QB0iwWG20P236A9Ww1bI/QhZclNkitj+2prOQYfayPyoTiT5nhLE/ICNisg6Ssz80nVa0d6WxP7lujrHjv7A/ox9D2oI+sD+DFi8OouqzPyroGZc/Z68/Mej1sz9Ssj8dddKu9ESwP9gihLx5La4/nUjh3ucbsD/KZZ0eC8evP6elc2KYyK8/yLPrsgmJsD/MkfASJ5CxP/kSw2k40ak/YLs0dTYHrD86GfA8MH6xP4cn4MiqOrM/0pzNd4xhsT8JgeudnmKvP2dml/yBCbI/q9ClcIyHsD8Yklj745GwP+h6hP9fObE/P0JIIiVusT/5/xW0ul6tPzRDuVBGNbI/tglu/e6ZrD+wXANmmkWvP7DLOqLV26w/XIPZXD1frT/sM6kQIEerPyRoEDSMxq4/E2zHg+mDrz+B+gh7a8GuP97WfwQDe68/bpC/IC+grD828H0n+Y2wP7pAmNiujLA/IEXX6Pe2rD8POARQMNawP8vu98mGU6s/iXzTL4m4qz/uC584JQqoP1JklNnnWbA/W8RsAFgyrT+0spfVGja0P5+U2/4LTrM/EfqY2M2Ysz87O18s8M6yP7OM451ojrI/lY1e7bB8sz8T+3fk7re0P8MU9AXG87U/yGmVvlF/sz/waJkgCMyyPyg5Zov/HbU/czgO+ol7tD+hrqsQ5MyyP6hh/VIKdrQ/hOe4x2QLtT9CWj17hQ2zPz25Cp+Ljrc/SDWL24Rvsz/wY4T2Xwa3P4vDec19o7g/C2tbK5Q6uT8Lug7GtZW5P4+5ZevVfbg/ChU7szEltT9pRneWl462P6vIRYSRlrY/Eo34tpAqtj/MMhp/s2C0P0k21MY6cLQ/H9A0sHdCuT/rZsdcAky2PwYR34AgDLg/jtLHFElduj8EqLa7qb63P2qIOIeG9rc/SPJv+IEMuT9GWyXUVmG7PxvSqRZ6Ybg/eeZiYX4muT/TGNQSsnO7P9uap0Gs77k/mxbkOW/wuT8Xck6h0z+5P/4c8H3blLc/OysrBdDftz/QjKe7h8O2P4/hJ1bEa7o/NY5DSmi4tD8AMDaTzeCzP5Jln+Vh97o/fX+bB9yLtz83PF5QpOu2PwM56dtw/bM/xhRPOtFJsz8rah2kkDC1P92/kW0Zd68/2Q7ynf4RtD8=\",\"dtype\":\"float64\",\"shape\":[145]}},\"selected\":{\"id\":\"2222\",\"type\":\"Selection\"},\"selection_policy\":{\"id\":\"2223\",\"type\":\"UnionRenderers\"}},\"id\":\"2195\",\"type\":\"ColumnDataSource\"},{\"attributes\":{\"dimension\":1,\"ticker\":{\"id\":\"2165\",\"type\":\"BasicTicker\"}},\"id\":\"2168\",\"type\":\"Grid\"}],\"root_ids\":[\"2148\"]},\"title\":\"Bokeh Application\",\"version\":\"1.4.0\"}};\n",
       "  var render_items = [{\"docid\":\"575508a4-1ac1-4d7c-9aea-ab1a9e79851f\",\"roots\":{\"2148\":\"78db7e1f-9fea-45c0-9770-66871c1586a1\"}}];\n",
       "  root.Bokeh.embed.embed_items_notebook(docs_json, render_items);\n",
       "\n",
       "  }\n",
       "  if (root.Bokeh !== undefined) {\n",
       "    embed_document(root);\n",
       "  } else {\n",
       "    var attempts = 0;\n",
       "    var timer = setInterval(function(root) {\n",
       "      if (root.Bokeh !== undefined) {\n",
       "        clearInterval(timer);\n",
       "        embed_document(root);\n",
       "      } else {\n",
       "        attempts++;\n",
       "        if (attempts > 100) {\n",
       "          clearInterval(timer);\n",
       "          console.log(\"Bokeh: ERROR: Unable to run BokehJS code because BokehJS library is missing\");\n",
       "        }\n",
       "      }\n",
       "    }, 10, root)\n",
       "  }\n",
       "})(window);"
      ],
      "application/vnd.bokehjs_exec.v0+json": ""
     },
     "metadata": {
      "application/vnd.bokehjs_exec.v0+json": {
       "id": "2148"
      }
     },
     "output_type": "display_data"
    },
    {
     "data": {
      "text/html": [
       "\n",
       "\n",
       "\n",
       "\n",
       "\n",
       "\n",
       "  <div class=\"bk-root\" id=\"6229850e-b9ac-4eff-9950-0dd99f2e8c25\" data-root-id=\"2381\"></div>\n"
      ]
     },
     "metadata": {},
     "output_type": "display_data"
    },
    {
     "data": {
      "application/javascript": [
       "(function(root) {\n",
       "  function embed_document(root) {\n",
       "    \n",
       "  var docs_json = {\"0920f288-d372-4251-a66b-5ef0c0ae7b2b\":{\"roots\":{\"references\":[{\"attributes\":{\"below\":[{\"id\":\"2392\",\"type\":\"LinearAxis\"}],\"center\":[{\"id\":\"2396\",\"type\":\"Grid\"},{\"id\":\"2401\",\"type\":\"Grid\"},{\"id\":\"2426\",\"type\":\"Legend\"}],\"left\":[{\"id\":\"2397\",\"type\":\"LinearAxis\"}],\"plot_height\":320,\"plot_width\":960,\"renderers\":[{\"id\":\"2418\",\"type\":\"GlyphRenderer\"},{\"id\":\"2431\",\"type\":\"GlyphRenderer\"},{\"id\":\"2445\",\"type\":\"GlyphRenderer\"}],\"title\":{\"id\":\"2382\",\"type\":\"Title\"},\"toolbar\":{\"id\":\"2408\",\"type\":\"Toolbar\"},\"x_range\":{\"id\":\"2384\",\"type\":\"DataRange1d\"},\"x_scale\":{\"id\":\"2388\",\"type\":\"LinearScale\"},\"y_range\":{\"id\":\"2386\",\"type\":\"DataRange1d\"},\"y_scale\":{\"id\":\"2390\",\"type\":\"LinearScale\"}},\"id\":\"2381\",\"subtype\":\"Figure\",\"type\":\"Plot\"},{\"attributes\":{\"line_alpha\":0.1,\"line_color\":\"#1f77b4\",\"line_width\":2,\"x\":{\"field\":\"x\"},\"y\":{\"field\":\"y\"}},\"id\":\"2417\",\"type\":\"Line\"},{\"attributes\":{\"line_color\":\"green\",\"x\":{\"field\":\"x\"},\"y\":{\"field\":\"y\"}},\"id\":\"2429\",\"type\":\"Line\"},{\"attributes\":{\"callback\":null,\"data\":{\"x\":[0,1,2,3,4,5,6,7,8,9,10,11,12,13,14,15,16,17,18,19,20,21,22,23,24,25,26,27,28,29,30,31,32,33,34,35,36,37,38,39,40,41,42,43,44,45,46,47,48,49,50,51,52,53,54,55,56,57,58,59,60,61,62,63,64,65,66,67,68,69,70,71,72,73,74,75,76,77,78,79,80,81,82,83,84,85,86,87,88,89,90,91,92,93,94,95,96,97,98,99,100,101,102,103,104,105,106,107,108,109,110,111,112,113,114,115,116,117,118,119,120,121,122,123,124,125,126,127,128,129,130,131,132,133,134,135,136,137,138,139,140,141,142,143,144],\"y\":{\"__ndarray__\":\"YSL8g3l3qD8B2NeT+M2oP8OIbcoqUqo/VGxsza2Nqj+xYr40si2lP9UcTd/ssKo/q0THi5CLrT/Me/4BnB6uP/yrjLQKg7A//5hchjpPrz8vY8mt1kGlP2h5ZYnd9qY/FJ32xdSzqj/cfWrn5pypP0dPeCa6PrA/X5nYNULtpj/ns+aa55amP23VvG9pjaQ/2HL2CTUjrD9DcaZMRVutP0S/6ZvqP68/2PiTrpNTrz/99kxsXnaqP9nBy3+34qc/wWg/LfMcqj+EFxhlwAGuP7N79X2aZ6k/QeRiqgK4qD9hwK3QO2irP1WdqiUoDKk/v44d+eNwsj/dyCx2KPumPxVFKzP9jqY/rf84ydXwrT9vgDDHjrGrPzt9hgzZN6g/yw0tBj4XqD+AJO+l2WurP6Vn79DymK4/R6XS0MAqqz/95kWqvZuqP6EX3VuvBbE/WOv2GCq1rT8zEEW5ph+xPyVnhcc34K8/loRBNoEisD+0b2LRtHuvP+3vE74Xta8/7egez+yMsT/10GLpwFuwP0mR+Z57C6w/zTx8qD+5rT9E/vd8vzavP00kd1lGmq8/QL4AXsSasj+bWSwUmOCuP5PjSo3IYq8/r5B8Y39KsD9E2t2aMXqyPw373/7UpKw//2e4Pkfprj+3SBNIjSeyP2PG9L5R4bM/yQAbDjA7sT8+HCkuN+mzP3o/xU5cJLM/aTIN0S9rtT/4XkzLenK4PyWwgFI1gLc/U+oV45PUuT/9BaBbLPS3P5XQATE2Xr0/EBRWiS83vD9MnDAPNW22P81NtVujT7c/vV56d5Lptz8+JFJR+MO0P4f0QtXhS7g/aFE+CgIFtj8tfudOhdq1P0+UAb9dQbg/AxFsLr5Lsz+AMnMkgFi3P1wuxWf8RrY/jTuT4jR/tj/PuRp/pye4P3CunXQq/LU/VXc7T9c6tj9To8T1+Tq3P4FFQVCreLU/PJfjoDCMtj/1bASAKce4P9RGt2Pn9rg/+CwN35fPvD8pxTe1uDy9P1tBi7gEIL4/0yQaTvoTvj/Y6lAzSZHAP0EEDM4318A/aXzzQsGSwD+t2SghRLrAPxto0CkotsA/XBglsKcxwD97mkQKO6++P80tzfecm8A/9S3x8nxPvT/UaHj6shLCP1uNjIBB074/QHF6hKPLwD8dtHKjx5G7P8ff5zYnT7k/I+kvoUGBtz9YOraRaJi5P1BOQcrsGLY/M8lilGZVtj+bazL+JPy2P1tJmsvlkrc/I3hco/bYsz9tVU4ptIS2P9l40QvFfbI/GLqIXc20rT9rx1mITBS2P6lDhWQv+7A/u5XDIYKWsT+7G3nr9Di0P2WZ73gms6w/5TspSL0rsz8l373kIXW2P70ugAmjqbc/qLM/GVlhtD/TpEmK3qO1Px1vUGF3R6o/0GwgdBjLqT8UuTSl3ZawP5mgwmPhQLE/QwYH6SYXrj8NOuO+EM6uPw2oipWtorE/O20hQcIhsD8DH7DCmDm1P+lIjcTgd7I/G7g8J52LrT+AD0qmduKqP+mfDu16g60/7f3k0EJZqD8=\",\"dtype\":\"float64\",\"shape\":[145]}},\"selected\":{\"id\":\"2552\",\"type\":\"Selection\"},\"selection_policy\":{\"id\":\"2553\",\"type\":\"UnionRenderers\"}},\"id\":\"2442\",\"type\":\"ColumnDataSource\"},{\"attributes\":{\"data_source\":{\"id\":\"2428\",\"type\":\"ColumnDataSource\"},\"glyph\":{\"id\":\"2429\",\"type\":\"Line\"},\"hover_glyph\":null,\"muted_glyph\":null,\"nonselection_glyph\":{\"id\":\"2430\",\"type\":\"Line\"},\"selection_glyph\":null,\"view\":{\"id\":\"2432\",\"type\":\"CDSView\"}},\"id\":\"2431\",\"type\":\"GlyphRenderer\"},{\"attributes\":{},\"id\":\"2405\",\"type\":\"SaveTool\"},{\"attributes\":{},\"id\":\"2406\",\"type\":\"ResetTool\"},{\"attributes\":{\"callback\":null,\"data\":{\"x\":[0,1,2,3,4,5,6,7,8,9,10,11,12,13,14,15,16,17,18,19,20,21,22,23,24,25,26,27,28,29,30,31,32,33,34,35,36,37,38,39,40,41,42,43,44,45,46,47,48,49,50,51,52,53,54,55,56,57,58,59,60,61,62,63,64,65,66,67,68,69,70,71,72,73,74,75,76,77,78,79,80,81,82,83,84,85,86,87,88,89,90,91,92,93,94,95,96,97,98,99,100,101,102,103,104,105,106,107,108,109,110,111,112,113,114,115,116,117,118,119,120,121,122,123,124,125,126,127,128,129,130,131,132,133,134,135,136,137,138,139,140,141,142,143,144],\"y\":{\"__ndarray__\":\"n8WXVo7aqD9ghDHzg4KoP7ITRnhc56s/pUkQZyhaqz9wqXReq1elPx/zZjWQUqw/vPi6avaerT/2nVikniWuPzK/hrBl9q8/0f0Y1ZvPrz+eYKmdkvakPwe17uk2Nqc/5kP0WX/Wqz9VksJp1vOnP2ISSKudIa4/MCTxnaYQpz9hUj3EBPClP1L27cg2JqM/wH19ZmNuqz+GdZMAY6mtP99u66ZFca8/Ca/ZrfNVrz/uwh5dRJSpP9yXqEiWe6g/oIsekpzjqD8ThbG85JOsPwUix13Hr6g/2Agl8Pt/qD9DVEbVxMKnP4W9bbM0Vqg/49uayVeHsD+lXPsDk1OnP85lVEUwmaQ/Ia+Jh9forD/9jVXONBirP3dYGdGsYqY/5q535JJKpj+WTLkws9irPx+ospKpT6w/B1/T9txlqj8DqGhUZJOqP+yZ92vumK8/SqLPzgo4rT9zXpRDTe+wP7HDe+H0qK4/Ze/rAB+Lrz+NO29drtSvP42MI/cXpa4/fI2cdmHjsD887o3W+iGwP838dkp6Oa0/5oal2nKrrT8ZbUB2HP6vPzcYtmK0Ka4/VOERedLvsT+anT5HUD+vP6QrWMfX4q4//kaslmx3sD+sb74CYbqxP3ktoBDEBKw/28mBArmsrT/BzdAHo6myP2kOEJo9m7Q/qGiaI+mIsT9nkdKscK6zP8FJ0AEi4bQ/p8gtfrkAtj+6x/l23qa5P4olHukKjrg/V1kmONRBuj9LIN653Ji4P4I0LEkYlLw/0biIw41IvD9eeVyRhSy4P0BZteINYbk/+lxCxTX1uT8CZsWJGpG2P4X9z+Lbcro/oIcGq3wMuD95WwVLbKm3P3MBP57lQ7o/YWepY99otT/+GTXcdYq5P7mMbsOeabg/bccn3gdouD9kA2K/t6m4P5iM9u7Dsrc/fCYZMAq7tz+e5obEQWm5Pwo9Pl/HEbg/vhcVkzDluD/2rztvP/a7P8SDofN0vLw/qAI1gZEQwD/io3AICSvAP9uGfCdfnMA/j9H3krkowD+gbyVJqoTBP7gX74LyCcI/lbogtht5wT89Af3QO+jBPxTH8Gy5f8E/4DVOvq2JwT84N04Hh+bAP/OxW+rTi8E/BIIfq7xDwD+vDDrWdyLCP+uVW/x5pMA/wxlwiGKpwT8UXnWsXU29P8BwUBhMFrs/G/DV1QtauD8TONWnePq5P7sz17Xc6rc//EFwAPKttj9c49NTQqK2P7Qb6wFY4rY/eFhL6cW4sz+c8qHqHIG1P++oAFVo27I/wkkva11jrD8M9gEHh8O0P0QiqNR4+rA/ifTOlTBfsT8Fy07TF9WzP9yNVUV3ras/3cPoVptqsz/R8fndho20P/h4GsxxRLY/nxTrSVOcsj/47wk7h4azP/0LnZC99Ko/jQkIFYqEqj+zgLg9xU+tP1Vumx7xs64/kvpp9GAurT+oWZoKvnyvPxfMEM4GQLE/AEq40P4wrj8GNA1XNtmyP2UuRuFPEbE/BsFH7pZbrT9dOhAGOReqPxd9eLqvsK8/ugRyxGACqT8=\",\"dtype\":\"float64\",\"shape\":[145]}},\"selected\":{\"id\":\"2439\",\"type\":\"Selection\"},\"selection_policy\":{\"id\":\"2440\",\"type\":\"UnionRenderers\"}},\"id\":\"2415\",\"type\":\"ColumnDataSource\"},{\"attributes\":{\"dimension\":1,\"ticker\":{\"id\":\"2398\",\"type\":\"BasicTicker\"}},\"id\":\"2401\",\"type\":\"Grid\"},{\"attributes\":{\"line_alpha\":0.1,\"line_color\":\"#1f77b4\",\"x\":{\"field\":\"x\"},\"y\":{\"field\":\"y\"}},\"id\":\"2430\",\"type\":\"Line\"},{\"attributes\":{},\"id\":\"2440\",\"type\":\"UnionRenderers\"},{\"attributes\":{\"axis_label\":\"Error\",\"formatter\":{\"id\":\"2424\",\"type\":\"BasicTickFormatter\"},\"ticker\":{\"id\":\"2398\",\"type\":\"BasicTicker\"}},\"id\":\"2397\",\"type\":\"LinearAxis\"},{\"attributes\":{},\"id\":\"2407\",\"type\":\"HelpTool\"},{\"attributes\":{\"label\":{\"value\":\"NRMSE\"},\"renderers\":[{\"id\":\"2431\",\"type\":\"GlyphRenderer\"}]},\"id\":\"2441\",\"type\":\"LegendItem\"},{\"attributes\":{},\"id\":\"2398\",\"type\":\"BasicTicker\"},{\"attributes\":{\"active_drag\":\"auto\",\"active_inspect\":\"auto\",\"active_multi\":null,\"active_scroll\":\"auto\",\"active_tap\":\"auto\",\"tools\":[{\"id\":\"2402\",\"type\":\"PanTool\"},{\"id\":\"2403\",\"type\":\"WheelZoomTool\"},{\"id\":\"2404\",\"type\":\"BoxZoomTool\"},{\"id\":\"2405\",\"type\":\"SaveTool\"},{\"id\":\"2406\",\"type\":\"ResetTool\"},{\"id\":\"2407\",\"type\":\"HelpTool\"}]},\"id\":\"2408\",\"type\":\"Toolbar\"},{\"attributes\":{\"line_color\":\"orange\",\"line_width\":2,\"x\":{\"field\":\"x\"},\"y\":{\"field\":\"y\"}},\"id\":\"2416\",\"type\":\"Line\"},{\"attributes\":{\"line_color\":\"purple\",\"x\":{\"field\":\"x\"},\"y\":{\"field\":\"y\"}},\"id\":\"2443\",\"type\":\"Line\"},{\"attributes\":{},\"id\":\"2390\",\"type\":\"LinearScale\"},{\"attributes\":{},\"id\":\"2422\",\"type\":\"BasicTickFormatter\"},{\"attributes\":{},\"id\":\"2439\",\"type\":\"Selection\"},{\"attributes\":{\"axis_label\":\"Test Dataset Row Index\",\"formatter\":{\"id\":\"2422\",\"type\":\"BasicTickFormatter\"},\"ticker\":{\"id\":\"2393\",\"type\":\"BasicTicker\"}},\"id\":\"2392\",\"type\":\"LinearAxis\"},{\"attributes\":{\"source\":{\"id\":\"2442\",\"type\":\"ColumnDataSource\"}},\"id\":\"2446\",\"type\":\"CDSView\"},{\"attributes\":{\"source\":{\"id\":\"2415\",\"type\":\"ColumnDataSource\"}},\"id\":\"2419\",\"type\":\"CDSView\"},{\"attributes\":{\"line_alpha\":0.1,\"line_color\":\"#1f77b4\",\"x\":{\"field\":\"x\"},\"y\":{\"field\":\"y\"}},\"id\":\"2444\",\"type\":\"Line\"},{\"attributes\":{\"ticker\":{\"id\":\"2393\",\"type\":\"BasicTicker\"}},\"id\":\"2396\",\"type\":\"Grid\"},{\"attributes\":{},\"id\":\"2552\",\"type\":\"Selection\"},{\"attributes\":{\"data_source\":{\"id\":\"2442\",\"type\":\"ColumnDataSource\"},\"glyph\":{\"id\":\"2443\",\"type\":\"Line\"},\"hover_glyph\":null,\"muted_glyph\":null,\"nonselection_glyph\":{\"id\":\"2444\",\"type\":\"Line\"},\"selection_glyph\":null,\"view\":{\"id\":\"2446\",\"type\":\"CDSView\"}},\"id\":\"2445\",\"type\":\"GlyphRenderer\"},{\"attributes\":{},\"id\":\"2403\",\"type\":\"WheelZoomTool\"},{\"attributes\":{},\"id\":\"2393\",\"type\":\"BasicTicker\"},{\"attributes\":{\"items\":[{\"id\":\"2427\",\"type\":\"LegendItem\"},{\"id\":\"2441\",\"type\":\"LegendItem\"},{\"id\":\"2457\",\"type\":\"LegendItem\"}]},\"id\":\"2426\",\"type\":\"Legend\"},{\"attributes\":{\"callback\":null},\"id\":\"2386\",\"type\":\"DataRange1d\"},{\"attributes\":{},\"id\":\"2424\",\"type\":\"BasicTickFormatter\"},{\"attributes\":{},\"id\":\"2388\",\"type\":\"LinearScale\"},{\"attributes\":{},\"id\":\"2455\",\"type\":\"Selection\"},{\"attributes\":{\"overlay\":{\"id\":\"2425\",\"type\":\"BoxAnnotation\"}},\"id\":\"2404\",\"type\":\"BoxZoomTool\"},{\"attributes\":{\"bottom_units\":\"screen\",\"fill_alpha\":{\"value\":0.5},\"fill_color\":{\"value\":\"lightgrey\"},\"left_units\":\"screen\",\"level\":\"overlay\",\"line_alpha\":{\"value\":1.0},\"line_color\":{\"value\":\"black\"},\"line_dash\":[4,4],\"line_width\":{\"value\":2},\"render_mode\":\"css\",\"right_units\":\"screen\",\"top_units\":\"screen\"},\"id\":\"2425\",\"type\":\"BoxAnnotation\"},{\"attributes\":{\"label\":{\"value\":\"SMAPE\"},\"renderers\":[{\"id\":\"2445\",\"type\":\"GlyphRenderer\"}]},\"id\":\"2457\",\"type\":\"LegendItem\"},{\"attributes\":{},\"id\":\"2456\",\"type\":\"UnionRenderers\"},{\"attributes\":{\"callback\":null},\"id\":\"2384\",\"type\":\"DataRange1d\"},{\"attributes\":{\"label\":{\"value\":\"ND\"},\"renderers\":[{\"id\":\"2418\",\"type\":\"GlyphRenderer\"}]},\"id\":\"2427\",\"type\":\"LegendItem\"},{\"attributes\":{\"data_source\":{\"id\":\"2415\",\"type\":\"ColumnDataSource\"},\"glyph\":{\"id\":\"2416\",\"type\":\"Line\"},\"hover_glyph\":null,\"muted_glyph\":null,\"nonselection_glyph\":{\"id\":\"2417\",\"type\":\"Line\"},\"selection_glyph\":null,\"view\":{\"id\":\"2419\",\"type\":\"CDSView\"}},\"id\":\"2418\",\"type\":\"GlyphRenderer\"},{\"attributes\":{\"callback\":null,\"data\":{\"x\":[0,1,2,3,4,5,6,7,8,9,10,11,12,13,14,15,16,17,18,19,20,21,22,23,24,25,26,27,28,29,30,31,32,33,34,35,36,37,38,39,40,41,42,43,44,45,46,47,48,49,50,51,52,53,54,55,56,57,58,59,60,61,62,63,64,65,66,67,68,69,70,71,72,73,74,75,76,77,78,79,80,81,82,83,84,85,86,87,88,89,90,91,92,93,94,95,96,97,98,99,100,101,102,103,104,105,106,107,108,109,110,111,112,113,114,115,116,117,118,119,120,121,122,123,124,125,126,127,128,129,130,131,132,133,134,135,136,137,138,139,140,141,142,143,144],\"y\":{\"__ndarray__\":\"i2t2sMn9rz8q1SEyo5WuP4KQZesxn7E/NCTBRx+EsT/cYrDF/cOrP2SDLQUY3bE/syxUiF4Csz9OohorSeqyP46beCq/uLM/zQYtE0oFtz/gEvRGqG2tP0XETA3s264/c7MnLlc2sj/axaRHJVCwPwF/bQfRbLI/tf7FLQVLrT9KBsGgMKqrP4PGd/CckKg/FJVYoWfUsT+ifZgMiA6yP0O47TGdkrM/C/xZ1Jmbsz9Tp72ioFaxP9g7PERXcrA/5r38/z5Trj995lh/vNCxP+YuD9wo3q8/qM3Fon0IsD/g/Q6lZWSuPxuDvCuBP7E/djSgamTZsj+8z/i3RrOuP5jwKHfUxKk/z9T/daj7sT/SkXoQmXuyP9M1R4GAG64/C+oefHILqz9IHqWvbfOxP8yagMTYDLA/MBVgz33osT/ulmrTSvKzPwCU1tXGOLU/F2Iar2KWsz/AP4chmdu3P9xZ0bmQ1LM/Onea1f0ctj+IqX5vJSO3P0TLyNUM/7Q/gAbTqtfztT/pHwrlA1W3P+hzbuoATbU/CemALmxetD/tknvJJKO3P6AqT/fQhLQ/EWndNaWvuD9TqgY6bGe1P21fw761CLQ/ZIx2PoNEtj8h7oeFADC3P8D2sYmXVLM/akRjbqQwsz/8ytcZi025P0roihHG0bw/KWYF1l6QuT9UHVMQbse5P6e64xFPAb8/v/DrRW5KvT+6AtUe1pTAPzNvv5gSQ8A/pXOEDZ3HwT9YpDQnU5m/P50IfjFUb8E/wRQvKjYJwj/rcrsCJw2/P/PjpcefHsE/VOx9Cu0rwT/bjV4f4JC9P1xRo5xa28E/ZlUWvEhivz+SHQlT2dO+P3T49x0CVME/BdCQf/CovT/0yrygy6XAPx2EeSu5pMA/wDFQo3YXwD8Ydt+pmgrAP96zj8gjWsA/iPS7T569wD+b3mId8xHCP2J9CGnHQ8I/azfkTAWewT8NcTtrnqfEP2qqvsx/McU/CltayLknxj+TI2vuuWLFP/ngQI6MwcU/i504ZBKCxD+bdYIfqknGP1/WkE4w/sY/JVTvj+e4xT9wKAYsskPGPz3s/ZHT2cU/n8mAqQkWxz/LX8Ds15/GP4aqfGIVYcY/eD5zieXAxT/6Ru5AIhnGPxPH6h4rQ8U/+/AE/0KExT/HMNHPzDTCP3WAsHRgIME/LqBr01fyvT8Av0RXal++P7PIlTQRYL4/ugUVN9v0uj+V+oyIYay7P2s1qR2AY7o/nNm0adRwtz89Ru1X+Zy4P7IQCumllrc/kw+M+/5ssj/7UCi48Uq6P9HC4taMnLU/M7ZIkajVtT/epwjQlNm4P7ZVGFZuAbM/tWFcX0XQtz+FmAIVWGy4Px7D3YKZY7k/XKLG7EUOtz9jmrHkoRq3P9IYXT0MrbQ/yqk3/gV6sj9pAQdNGWWzPwATY8mSOrQ/4g1DB1WVsz/x/UPxjOm2Px1gfzjHlrc/vSrGVFrSsz+K1awcqe63PzLPibMq8LU/OR7kRZJ5tD9axr3vPYKxP1zgB53zErQ/YPSvvyZmsT8=\",\"dtype\":\"float64\",\"shape\":[145]}},\"selected\":{\"id\":\"2455\",\"type\":\"Selection\"},\"selection_policy\":{\"id\":\"2456\",\"type\":\"UnionRenderers\"}},\"id\":\"2428\",\"type\":\"ColumnDataSource\"},{\"attributes\":{},\"id\":\"2553\",\"type\":\"UnionRenderers\"},{\"attributes\":{\"text\":\"ND, NRMSE, and SMAPE over the test set for MT_327\"},\"id\":\"2382\",\"type\":\"Title\"},{\"attributes\":{},\"id\":\"2402\",\"type\":\"PanTool\"},{\"attributes\":{\"source\":{\"id\":\"2428\",\"type\":\"ColumnDataSource\"}},\"id\":\"2432\",\"type\":\"CDSView\"}],\"root_ids\":[\"2381\"]},\"title\":\"Bokeh Application\",\"version\":\"1.4.0\"}};\n",
       "  var render_items = [{\"docid\":\"0920f288-d372-4251-a66b-5ef0c0ae7b2b\",\"roots\":{\"2381\":\"6229850e-b9ac-4eff-9950-0dd99f2e8c25\"}}];\n",
       "  root.Bokeh.embed.embed_items_notebook(docs_json, render_items);\n",
       "\n",
       "  }\n",
       "  if (root.Bokeh !== undefined) {\n",
       "    embed_document(root);\n",
       "  } else {\n",
       "    var attempts = 0;\n",
       "    var timer = setInterval(function(root) {\n",
       "      if (root.Bokeh !== undefined) {\n",
       "        clearInterval(timer);\n",
       "        embed_document(root);\n",
       "      } else {\n",
       "        attempts++;\n",
       "        if (attempts > 100) {\n",
       "          clearInterval(timer);\n",
       "          console.log(\"Bokeh: ERROR: Unable to run BokehJS code because BokehJS library is missing\");\n",
       "        }\n",
       "      }\n",
       "    }, 10, root)\n",
       "  }\n",
       "})(window);"
      ],
      "application/vnd.bokehjs_exec.v0+json": ""
     },
     "metadata": {
      "application/vnd.bokehjs_exec.v0+json": {
       "id": "2381"
      }
     },
     "output_type": "display_data"
    },
    {
     "data": {
      "text/html": [
       "\n",
       "\n",
       "\n",
       "\n",
       "\n",
       "\n",
       "  <div class=\"bk-root\" id=\"bd253ba9-78ee-4b8e-bf56-392f64424308\" data-root-id=\"2626\"></div>\n"
      ]
     },
     "metadata": {},
     "output_type": "display_data"
    },
    {
     "data": {
      "application/javascript": [
       "(function(root) {\n",
       "  function embed_document(root) {\n",
       "    \n",
       "  var docs_json = {\"88072e70-37af-43e6-952b-b0f5f6dd1070\":{\"roots\":{\"references\":[{\"attributes\":{\"below\":[{\"id\":\"2637\",\"type\":\"LinearAxis\"}],\"center\":[{\"id\":\"2641\",\"type\":\"Grid\"},{\"id\":\"2646\",\"type\":\"Grid\"},{\"id\":\"2671\",\"type\":\"Legend\"}],\"left\":[{\"id\":\"2642\",\"type\":\"LinearAxis\"}],\"plot_height\":320,\"plot_width\":960,\"renderers\":[{\"id\":\"2663\",\"type\":\"GlyphRenderer\"},{\"id\":\"2676\",\"type\":\"GlyphRenderer\"},{\"id\":\"2690\",\"type\":\"GlyphRenderer\"}],\"title\":{\"id\":\"2627\",\"type\":\"Title\"},\"toolbar\":{\"id\":\"2653\",\"type\":\"Toolbar\"},\"x_range\":{\"id\":\"2629\",\"type\":\"DataRange1d\"},\"x_scale\":{\"id\":\"2633\",\"type\":\"LinearScale\"},\"y_range\":{\"id\":\"2631\",\"type\":\"DataRange1d\"},\"y_scale\":{\"id\":\"2635\",\"type\":\"LinearScale\"}},\"id\":\"2626\",\"subtype\":\"Figure\",\"type\":\"Plot\"},{\"attributes\":{\"callback\":null},\"id\":\"2629\",\"type\":\"DataRange1d\"},{\"attributes\":{\"overlay\":{\"id\":\"2670\",\"type\":\"BoxAnnotation\"}},\"id\":\"2649\",\"type\":\"BoxZoomTool\"},{\"attributes\":{\"source\":{\"id\":\"2673\",\"type\":\"ColumnDataSource\"}},\"id\":\"2677\",\"type\":\"CDSView\"},{\"attributes\":{\"data_source\":{\"id\":\"2673\",\"type\":\"ColumnDataSource\"},\"glyph\":{\"id\":\"2674\",\"type\":\"Line\"},\"hover_glyph\":null,\"muted_glyph\":null,\"nonselection_glyph\":{\"id\":\"2675\",\"type\":\"Line\"},\"selection_glyph\":null,\"view\":{\"id\":\"2677\",\"type\":\"CDSView\"}},\"id\":\"2676\",\"type\":\"GlyphRenderer\"},{\"attributes\":{\"callback\":null},\"id\":\"2631\",\"type\":\"DataRange1d\"},{\"attributes\":{},\"id\":\"2650\",\"type\":\"SaveTool\"},{\"attributes\":{\"callback\":null,\"data\":{\"x\":[0,1,2,3,4,5,6,7,8,9,10,11,12,13,14,15,16,17,18,19,20,21,22,23,24,25,26,27,28,29,30,31,32,33,34,35,36,37,38,39,40,41,42,43,44,45,46,47,48,49,50,51,52,53,54,55,56,57,58,59,60,61,62,63,64,65,66,67,68,69,70,71,72,73,74,75,76,77,78,79,80,81,82,83,84,85,86,87,88,89,90,91,92,93,94,95,96,97,98,99,100,101,102,103,104,105,106,107,108,109,110,111,112,113,114,115,116,117,118,119,120,121,122,123,124,125,126,127,128,129,130,131,132,133,134,135,136,137,138,139,140,141,142,143,144],\"y\":{\"__ndarray__\":\"WCpuAzEjvj8fWzEL6xe8P0hydFjImLg/b+/6i3A8vT+ryDlGYwW7P40qlaDir7o/86j6ZCx/vT8IX6mfJoa6P0FuFXN5Abk/IKXjGRVeuT+Zgq7SPXS7P0lG5JOq9rw/SGa4cVKNuj+cNxiMZp26PxFrNvt3Wro/2yPpXgqWvD90spfB9s+6Pzhw3Qbg0bw/aWlH9nyPwD9U7NGQUkW/P4ud0qbJ578/Um5Hq5zLwT9wlOLZ2JLAPxDKLErR9Lw/NeYJcrIZvT9vChYOLKTAP7cgCS1mvsA/AH4EvY1owT85JmN3jM3CP3yk2XPMasI/1AMyruQhwj+Y7MzFZ0HFP9Fy9CpbvcM/K3NExBOhwz8N1KARQPXDP0ebtIxzXcQ/NADGXwU7wT/Q7CIXa1zAP5T/tnxw0cA/yG3Henv6vj/74NMMN4O8P3XDAa1enbs/4+Y69YM6vD9tRYWhQTK3P5smh+yr4rc/013sxUYCuz+zoeo2r++5P0UY1ouOJ7g/GM1cMxjNuD+9UE6/1zq7P7Wn87ZqqrY/jOoe1UrStT+MYku6zcyzP+AlGEs/+7M/HgK8g5k5tT9bLOV0XiO3PxOqhqNhuLk/yRqSIfObtD/7AjVnC1C1PwH7r957FrA/xF7kRfW/sz9jtjtsiwO0P02NhLNDrrA/ugJSSLqLtD8fK8MCc0avPzVTpofIiLE/GMNlq/ZeuD/FKi8qbwKrPyOViDEFSbI/ThEyKPDNsz+MYxwJWx+wP8gWKL8unK0/4e8a8D66sT9jv+FsIiexP8GP9KtRErA/E7YQz7iesT+wmRDgYeSsP+3szfAEzLA/5EBM+qJ2tj8BUA8H8rKwP7dp+4u2ra0/9M9vzb1crT8TSJx1DuWxP1yHmp9s4rI/f6/uwJqVsj+L9oA8uiKtP0A3xUl7FLM/OQatyCPwsT99++EcXCqzPy301lcXZrQ/05yoUgr5rz8DCYH/jY60P91WmA+kjq8/24Yto7VMuT9xBsYZTZ2yP9i27hm13bI//VH6i+xYuD/9MTY2qii5P9WEjgT1jLY/5BUj65P9tD8kl4rMpR20PyRGOk+tmbU/QI/h+1kQuT/zlEU0Et2xPw946b6oxrQ/ZGaJqQfDsT9dJz2ul+qwP3eG/581AbM/EbY3Ej9KtD8ljDos12SzP6TyqF2huLI/W+ENm+xlsT/iPeJ246y0P5AL+5q1EbY/d5CHpSI1sz+N3YZHcz60P/2P6pmxebM/RKGh1NZStj/YgtI9yHO1P1MhRD3vuLE/MNQccuHusz84IXUyeja3P7QYV7Leu7Y/kPiFihqjsT/cz8fXxRaxP5wfxRRdbrk/xCGqt2O4vD9Do0KN5/K3P/UlICzmqbo/UPxdIQLtuj8ow6DEcO+5P9sqGpO4abo/3K1UGBhGwj+4dGnqjRC6P1Pb2Mf2Sr4/4HEKFDERvz+VFPtG3vG4P/e+JG76/sE/j8brI4Uivz9gVT4MWv/BP7a/nYXIMsI/1w1mqfcfxD85GTW5W9vAP1OcjpbX6MU/BdHQ/5qCxD8=\",\"dtype\":\"float64\",\"shape\":[145]}},\"selected\":{\"id\":\"2809\",\"type\":\"Selection\"},\"selection_policy\":{\"id\":\"2810\",\"type\":\"UnionRenderers\"}},\"id\":\"2687\",\"type\":\"ColumnDataSource\"},{\"attributes\":{},\"id\":\"2684\",\"type\":\"Selection\"},{\"attributes\":{},\"id\":\"2633\",\"type\":\"LinearScale\"},{\"attributes\":{},\"id\":\"2651\",\"type\":\"ResetTool\"},{\"attributes\":{\"label\":{\"value\":\"NRMSE\"},\"renderers\":[{\"id\":\"2676\",\"type\":\"GlyphRenderer\"}]},\"id\":\"2686\",\"type\":\"LegendItem\"},{\"attributes\":{},\"id\":\"2652\",\"type\":\"HelpTool\"},{\"attributes\":{},\"id\":\"2685\",\"type\":\"UnionRenderers\"},{\"attributes\":{},\"id\":\"2635\",\"type\":\"LinearScale\"},{\"attributes\":{\"line_alpha\":0.1,\"line_color\":\"#1f77b4\",\"line_width\":2,\"x\":{\"field\":\"x\"},\"y\":{\"field\":\"y\"}},\"id\":\"2662\",\"type\":\"Line\"},{\"attributes\":{},\"id\":\"2810\",\"type\":\"UnionRenderers\"},{\"attributes\":{\"axis_label\":\"Test Dataset Row Index\",\"formatter\":{\"id\":\"2667\",\"type\":\"BasicTickFormatter\"},\"ticker\":{\"id\":\"2638\",\"type\":\"BasicTicker\"}},\"id\":\"2637\",\"type\":\"LinearAxis\"},{\"attributes\":{\"dimension\":1,\"ticker\":{\"id\":\"2643\",\"type\":\"BasicTicker\"}},\"id\":\"2646\",\"type\":\"Grid\"},{\"attributes\":{\"line_color\":\"purple\",\"x\":{\"field\":\"x\"},\"y\":{\"field\":\"y\"}},\"id\":\"2688\",\"type\":\"Line\"},{\"attributes\":{},\"id\":\"2667\",\"type\":\"BasicTickFormatter\"},{\"attributes\":{},\"id\":\"2638\",\"type\":\"BasicTicker\"},{\"attributes\":{\"source\":{\"id\":\"2660\",\"type\":\"ColumnDataSource\"}},\"id\":\"2664\",\"type\":\"CDSView\"},{\"attributes\":{\"source\":{\"id\":\"2687\",\"type\":\"ColumnDataSource\"}},\"id\":\"2691\",\"type\":\"CDSView\"},{\"attributes\":{\"data_source\":{\"id\":\"2660\",\"type\":\"ColumnDataSource\"},\"glyph\":{\"id\":\"2661\",\"type\":\"Line\"},\"hover_glyph\":null,\"muted_glyph\":null,\"nonselection_glyph\":{\"id\":\"2662\",\"type\":\"Line\"},\"selection_glyph\":null,\"view\":{\"id\":\"2664\",\"type\":\"CDSView\"}},\"id\":\"2663\",\"type\":\"GlyphRenderer\"},{\"attributes\":{\"ticker\":{\"id\":\"2638\",\"type\":\"BasicTicker\"}},\"id\":\"2641\",\"type\":\"Grid\"},{\"attributes\":{\"line_alpha\":0.1,\"line_color\":\"#1f77b4\",\"x\":{\"field\":\"x\"},\"y\":{\"field\":\"y\"}},\"id\":\"2689\",\"type\":\"Line\"},{\"attributes\":{\"label\":{\"value\":\"ND\"},\"renderers\":[{\"id\":\"2663\",\"type\":\"GlyphRenderer\"}]},\"id\":\"2672\",\"type\":\"LegendItem\"},{\"attributes\":{},\"id\":\"2643\",\"type\":\"BasicTicker\"},{\"attributes\":{\"data_source\":{\"id\":\"2687\",\"type\":\"ColumnDataSource\"},\"glyph\":{\"id\":\"2688\",\"type\":\"Line\"},\"hover_glyph\":null,\"muted_glyph\":null,\"nonselection_glyph\":{\"id\":\"2689\",\"type\":\"Line\"},\"selection_glyph\":null,\"view\":{\"id\":\"2691\",\"type\":\"CDSView\"}},\"id\":\"2690\",\"type\":\"GlyphRenderer\"},{\"attributes\":{\"axis_label\":\"Error\",\"formatter\":{\"id\":\"2669\",\"type\":\"BasicTickFormatter\"},\"ticker\":{\"id\":\"2643\",\"type\":\"BasicTicker\"}},\"id\":\"2642\",\"type\":\"LinearAxis\"},{\"attributes\":{},\"id\":\"2669\",\"type\":\"BasicTickFormatter\"},{\"attributes\":{\"line_color\":\"orange\",\"line_width\":2,\"x\":{\"field\":\"x\"},\"y\":{\"field\":\"y\"}},\"id\":\"2661\",\"type\":\"Line\"},{\"attributes\":{\"callback\":null,\"data\":{\"x\":[0,1,2,3,4,5,6,7,8,9,10,11,12,13,14,15,16,17,18,19,20,21,22,23,24,25,26,27,28,29,30,31,32,33,34,35,36,37,38,39,40,41,42,43,44,45,46,47,48,49,50,51,52,53,54,55,56,57,58,59,60,61,62,63,64,65,66,67,68,69,70,71,72,73,74,75,76,77,78,79,80,81,82,83,84,85,86,87,88,89,90,91,92,93,94,95,96,97,98,99,100,101,102,103,104,105,106,107,108,109,110,111,112,113,114,115,116,117,118,119,120,121,122,123,124,125,126,127,128,129,130,131,132,133,134,135,136,137,138,139,140,141,142,143,144],\"y\":{\"__ndarray__\":\"DF19m9R8wD+zKywUe4e/P0PK6i6ZGr0/XgDjhq0vwT9wuDIqW9i/P1coU0KAAsA/oaQKDrdbwT/LgMyGNNC+PyfCOvE0s74/zM5kN/ywvj8/+WtJmKi+P0SU8LpDocA/sqmU1fk2vz/RXFR1GE++PywPz0Ao7b4/sjrtMfnfwD/hPg3fXlC/Pysyy5rZO8E/LpNwJfogxD8JeI/vxb7CP83lgdPXVsM/ssAay1PvxD/DjDsYzHbEP/PUIORFpcE/eTpwxc+DwT9Pd8l7hWDEP9RM7xJggcQ/4Ehn4w0SxT9GbhovWPrFP11giRNE3sQ/eFCtTP4dxT+4UQptMSnHP2F1WxZmjsU/lk+gPh00xj/Q7vLCWi/HP5sxvmNPJMY/TG7uqpypwz+6EsGyZlHBP1k4mV5jjME/37tA1RwIwD/k64fxnGC9Pzc/4hpyqLo/SYFQc48ovD/rs2uIZ5G2P4UZ6V2tlLY/zOSXaa2LuD/v6KxTJjK3Pyxur6T//Lc/oRRx8n2rtj8AomzDIYi5PyRH9N3Ki7Q/gov+DUuFtT8ErPQuE8uyP9vlVn90obM/12qQrUZHtT+KMNhrVaC2P8sWoFn8ibg/th2394ijtD/Su5zV2Hq0P1JdELhrvrA/2IJvs3F2sj8pAdDp9b+wP4iSmp+1Da8/YtSFeAeWsT+c9FMHmTGsPxFJtY4EWa0/W28KOKbAsz+UluRdyEqnP/n0x8bhh68/+g8NQkfvsD+oYi/XmG+rP+o1nWm2dKk/HUFPTYfvrj+pwFVA0ZSuPzbhxDUbMqs/t/2lJ2Afrz9EYtohZiOpP+AnsTr5ba8/5quh1u+Ysj8pUYBnXBWsP3I2XfpCEqo/NRkUqtMKqj/5UpRYypWuP8dI9rfLTrA/xgmyHlSkrj/R2pHiOUipP9TpOz7giq8/GO4mOZFTrj8326x4nGawP1+pvPs2ebE/MmIMKUgGrj/436+pwWiyP3m9uk8MXKw/L6ABGqBYtj8deSc4xIOwPyNkyw2mw7E/lSmLShx+tj9XzaLC0Ai4P7TYzjrRl7M/oPLhL3ITsz+8PL5lwaWyPxKNxIvrsbM/rbFYcKnptj/UemG0wfKxPxCFCiD4IrM/udUuLuLBsT8XwZixqlGvP42TrL/wbLE/ZQGD8HSSsj/w6uMOhtawP5k8ZAaQ/LE/t5YWW5RssD9X/A1eq6uzPwL9HOi8mLQ/apgBRhtUsz/8uMBamLOzP1SrubT8frI/GVD2bgsWtj9AiRGcNsi1P79Oz9tKp7A/qJuSlTXLsj/hTS5ngl+0P31JBVGQXLU/wWhQLq1zsT+fbItQ6+atP73hu3k9abk/0CnVs/jouT/7GLD/gGC0P2s68UuaALc/4Uakqq4kuD/dPKUjXbS2P7DGFOUzArc/ah7Tu1O+vz/Uu28B+aG4Pxj901bS4Lo/UNf8Nhu9uz9s8hgbKdC3P4d+R0YFGcA/tazM8cQ5vD8F0SqHvFPAPwApLPhRmMA/IPD4w2Vpwj9FDx5wJpi/P5s+P8vWf8M/4u069P4Cwz8=\",\"dtype\":\"float64\",\"shape\":[145]}},\"selected\":{\"id\":\"2684\",\"type\":\"Selection\"},\"selection_policy\":{\"id\":\"2685\",\"type\":\"UnionRenderers\"}},\"id\":\"2660\",\"type\":\"ColumnDataSource\"},{\"attributes\":{\"bottom_units\":\"screen\",\"fill_alpha\":{\"value\":0.5},\"fill_color\":{\"value\":\"lightgrey\"},\"left_units\":\"screen\",\"level\":\"overlay\",\"line_alpha\":{\"value\":1.0},\"line_color\":{\"value\":\"black\"},\"line_dash\":[4,4],\"line_width\":{\"value\":2},\"render_mode\":\"css\",\"right_units\":\"screen\",\"top_units\":\"screen\"},\"id\":\"2670\",\"type\":\"BoxAnnotation\"},{\"attributes\":{},\"id\":\"2700\",\"type\":\"Selection\"},{\"attributes\":{\"callback\":null,\"data\":{\"x\":[0,1,2,3,4,5,6,7,8,9,10,11,12,13,14,15,16,17,18,19,20,21,22,23,24,25,26,27,28,29,30,31,32,33,34,35,36,37,38,39,40,41,42,43,44,45,46,47,48,49,50,51,52,53,54,55,56,57,58,59,60,61,62,63,64,65,66,67,68,69,70,71,72,73,74,75,76,77,78,79,80,81,82,83,84,85,86,87,88,89,90,91,92,93,94,95,96,97,98,99,100,101,102,103,104,105,106,107,108,109,110,111,112,113,114,115,116,117,118,119,120,121,122,123,124,125,126,127,128,129,130,131,132,133,134,135,136,137,138,139,140,141,142,143,144],\"y\":{\"__ndarray__\":\"Loyl5NA9wz/ARobSs4XCP3n2lsvVDsI/DwQ8ve7vxD9/z9fq/oHDP4WnU84I4MM/muvDYHhlxT/+VPDOPK/CP4GN4djWhcM/cK5Og6p2wz93iGBXrFDCP8qzjTN1BcQ/TsOvanMowz/23g2YpUHCP/Rlwfh78sI/O8MRBQe1xT9x/5yt5JnDP/dNEkWdysU/1M+SxV2eyT8VdF+AC9zHP2Bt+i2Tecg/zr7WYOGPyT9PV+5T7e3JPwwYK1JrbcY/iK8mQV5gxj9xpO6U2YfJP+E/mrevDso/6Js2D91cyj+OJgO1rwrLP/OwiwJIWck/pxz36BU7yT+G65gop1jKPxSoMt74Bsk/FoerUsfgyj9UwRZTK/rLP86lDmHiSsk/qYWTjqWMxz/FYWfUxGjEP2HlKz/xrsQ/tXXyAB//wj9V6z3B+KjAP08NwptU6r0/Zo6tNRNBwD89CIF3KGS6Pw1DYe/JEro/FtATA+jkvD8DN4A3v8i5P76a9i5rgLw/HHcUkHhluj+W4vDnc9u9P9abi3LSu7c/8PXBsW/mtz/qEDD2/yC3P49Y8iPDALg/tgon5U8kuD8wtxa0ZTa6P3vfLUryNLw/+wqbYW3otz/dYV75fLm2P9fA1jWOtbM/xr2DFTuGtj9AOuomXEmzPx1B+FQwwbI/IiEw4HGZtD9B4n7z8x+wPzMfT7NKCrE/QxMV+IV8tz8kGwwf3M6qP6UNWTPSJ7E/jhvIUv4Bsz8CwrgQbLCuP+T6wDkL760/a5Qa3Eqlsz+IJNk7wI+xP2aN+HqBBq8/4KEWwCE/sj/V0hJxB0qvP3ajgqXYtrI/BHawr/tItT/hoh41zGqwPxFbRkTEt68/43ubZ7blrj/bwcqg1p2xP2S3L7fun7I/DTeXlWxesj/ujPuwwCauP4UvGMnk4rI/Rw2v11CQsT+nOHViqrCzPz+X5fWCNrY/Gyrn1EqxsT90Hp2MXXy2P4/9Izt4krE/XruzdP8Cuj/SgEHLfvGzP2YZKpjPErQ/sfhTw8CcuT9hPbrb7Ry8P+NxToKf97U/fi2oK7grtj92ol0KAyK1PxA3CjFQFbc/DmvXVk+vvD8bvNa+PWm4P/UBaazriLU/aT3Uj5mctj87nKu6lMK0P3qz5Dj6+rY/CFwzKFiYtj9FwyKlYnC1P/g1KOyJPbc/VTVVcxvRtD+g3t9ws3+3P5kSOTvbSrg/+MnviIr8uD+SLO1ncva3P//FGVeS/7U/fklNwYBluT/BeMv42Ri7P8gD6SPH97Q/HtxjBK21tT/qBLhasy23P8muqI+Mlrk/+c0vVOFttT/2qiGYHpGzP5NIYYRiDL4/x0ZlXSkBwD9X/Naph7C4P1FevY+1Pbw/ADSDNqMVvD+ONAG5KSG6PwIWM7iynbo/1KVx0GqGwj8MRaWOrHq8Pztlddiqg78/TCOvZe8BwD8t0Zme0FK7P7rQ8P5DiMI/iT9hiuF9wD/4GIVHJY3CP0cwnazSR8I/P9wnsxUXxD/vOrRTzPDBP+ejNfDM3cY/wvqffXWnxT8=\",\"dtype\":\"float64\",\"shape\":[145]}},\"selected\":{\"id\":\"2700\",\"type\":\"Selection\"},\"selection_policy\":{\"id\":\"2701\",\"type\":\"UnionRenderers\"}},\"id\":\"2673\",\"type\":\"ColumnDataSource\"},{\"attributes\":{\"label\":{\"value\":\"SMAPE\"},\"renderers\":[{\"id\":\"2690\",\"type\":\"GlyphRenderer\"}]},\"id\":\"2702\",\"type\":\"LegendItem\"},{\"attributes\":{\"items\":[{\"id\":\"2672\",\"type\":\"LegendItem\"},{\"id\":\"2686\",\"type\":\"LegendItem\"},{\"id\":\"2702\",\"type\":\"LegendItem\"}]},\"id\":\"2671\",\"type\":\"Legend\"},{\"attributes\":{},\"id\":\"2701\",\"type\":\"UnionRenderers\"},{\"attributes\":{\"active_drag\":\"auto\",\"active_inspect\":\"auto\",\"active_multi\":null,\"active_scroll\":\"auto\",\"active_tap\":\"auto\",\"tools\":[{\"id\":\"2647\",\"type\":\"PanTool\"},{\"id\":\"2648\",\"type\":\"WheelZoomTool\"},{\"id\":\"2649\",\"type\":\"BoxZoomTool\"},{\"id\":\"2650\",\"type\":\"SaveTool\"},{\"id\":\"2651\",\"type\":\"ResetTool\"},{\"id\":\"2652\",\"type\":\"HelpTool\"}]},\"id\":\"2653\",\"type\":\"Toolbar\"},{\"attributes\":{\"text\":\"ND, NRMSE, and SMAPE over the test set for MT_328\"},\"id\":\"2627\",\"type\":\"Title\"},{\"attributes\":{\"line_color\":\"green\",\"x\":{\"field\":\"x\"},\"y\":{\"field\":\"y\"}},\"id\":\"2674\",\"type\":\"Line\"},{\"attributes\":{},\"id\":\"2809\",\"type\":\"Selection\"},{\"attributes\":{},\"id\":\"2647\",\"type\":\"PanTool\"},{\"attributes\":{\"line_alpha\":0.1,\"line_color\":\"#1f77b4\",\"x\":{\"field\":\"x\"},\"y\":{\"field\":\"y\"}},\"id\":\"2675\",\"type\":\"Line\"},{\"attributes\":{},\"id\":\"2648\",\"type\":\"WheelZoomTool\"}],\"root_ids\":[\"2626\"]},\"title\":\"Bokeh Application\",\"version\":\"1.4.0\"}};\n",
       "  var render_items = [{\"docid\":\"88072e70-37af-43e6-952b-b0f5f6dd1070\",\"roots\":{\"2626\":\"bd253ba9-78ee-4b8e-bf56-392f64424308\"}}];\n",
       "  root.Bokeh.embed.embed_items_notebook(docs_json, render_items);\n",
       "\n",
       "  }\n",
       "  if (root.Bokeh !== undefined) {\n",
       "    embed_document(root);\n",
       "  } else {\n",
       "    var attempts = 0;\n",
       "    var timer = setInterval(function(root) {\n",
       "      if (root.Bokeh !== undefined) {\n",
       "        clearInterval(timer);\n",
       "        embed_document(root);\n",
       "      } else {\n",
       "        attempts++;\n",
       "        if (attempts > 100) {\n",
       "          clearInterval(timer);\n",
       "          console.log(\"Bokeh: ERROR: Unable to run BokehJS code because BokehJS library is missing\");\n",
       "        }\n",
       "      }\n",
       "    }, 10, root)\n",
       "  }\n",
       "})(window);"
      ],
      "application/vnd.bokehjs_exec.v0+json": ""
     },
     "metadata": {
      "application/vnd.bokehjs_exec.v0+json": {
       "id": "2626"
      }
     },
     "output_type": "display_data"
    },
    {
     "data": {
      "text/html": [
       "\n",
       "\n",
       "\n",
       "\n",
       "\n",
       "\n",
       "  <div class=\"bk-root\" id=\"f821cb05-0fad-4ac2-82f2-9d33eb54e0e9\" data-root-id=\"2883\"></div>\n"
      ]
     },
     "metadata": {},
     "output_type": "display_data"
    },
    {
     "data": {
      "application/javascript": [
       "(function(root) {\n",
       "  function embed_document(root) {\n",
       "    \n",
       "  var docs_json = {\"fe17ccd6-547c-4c9d-9cca-28387c9f2dfa\":{\"roots\":{\"references\":[{\"attributes\":{\"below\":[{\"id\":\"2894\",\"type\":\"LinearAxis\"}],\"center\":[{\"id\":\"2898\",\"type\":\"Grid\"},{\"id\":\"2903\",\"type\":\"Grid\"},{\"id\":\"2928\",\"type\":\"Legend\"}],\"left\":[{\"id\":\"2899\",\"type\":\"LinearAxis\"}],\"plot_height\":320,\"plot_width\":960,\"renderers\":[{\"id\":\"2920\",\"type\":\"GlyphRenderer\"},{\"id\":\"2933\",\"type\":\"GlyphRenderer\"},{\"id\":\"2947\",\"type\":\"GlyphRenderer\"}],\"title\":{\"id\":\"2884\",\"type\":\"Title\"},\"toolbar\":{\"id\":\"2910\",\"type\":\"Toolbar\"},\"x_range\":{\"id\":\"2886\",\"type\":\"DataRange1d\"},\"x_scale\":{\"id\":\"2890\",\"type\":\"LinearScale\"},\"y_range\":{\"id\":\"2888\",\"type\":\"DataRange1d\"},\"y_scale\":{\"id\":\"2892\",\"type\":\"LinearScale\"}},\"id\":\"2883\",\"subtype\":\"Figure\",\"type\":\"Plot\"},{\"attributes\":{\"label\":{\"value\":\"ND\"},\"renderers\":[{\"id\":\"2920\",\"type\":\"GlyphRenderer\"}]},\"id\":\"2929\",\"type\":\"LegendItem\"},{\"attributes\":{\"line_color\":\"orange\",\"line_width\":2,\"x\":{\"field\":\"x\"},\"y\":{\"field\":\"y\"}},\"id\":\"2918\",\"type\":\"Line\"},{\"attributes\":{\"callback\":null,\"data\":{\"x\":[0,1,2,3,4,5,6,7,8,9,10,11,12,13,14,15,16,17,18,19,20,21,22,23,24,25,26,27,28,29,30,31,32,33,34,35,36,37,38,39,40,41,42,43,44,45,46,47,48,49,50,51,52,53,54,55,56,57,58,59,60,61,62,63,64,65,66,67,68,69,70,71,72,73,74,75,76,77,78,79,80,81,82,83,84,85,86,87,88,89,90,91,92,93,94,95,96,97,98,99,100,101,102,103,104,105,106,107,108,109,110,111,112,113,114,115,116,117,118,119,120,121,122,123,124,125,126,127,128,129,130,131,132,133,134,135,136,137,138,139,140,141,142,143,144],\"y\":{\"__ndarray__\":\"rCKkvG8lqT93fI2/4LSpP6ppaMOwd6g/7Or4YKreqj8CBAq6plGrP/tYyrngbK8/zHKp/lJLpj/shZqoOferP+L5qL0pK7A/132WV3OLpj9fF1wsrfKrPysF9xUxTaw/QdUOc+JNqD/m3ugylq+oPxPW6+AtVqo/CLc8b4Ydqz/ZVgXxVGipP419sVtA56s/npE4brMCqT+f2BSjl0KnP2ZbSaab26g/hiJkfZHCqz/OcnIrBP+qPxN2WwKKy64/WERQ1FZ6qz9pAC++D2CwP9wmue4XFK4/HY10sKs3sT/NBQFtfK6uP0WvTWr/pLE/ea9XoJmasz+17ZCJ5DixP7UxXpDONbE/dcmq7LK6sz+QVG8i8wquP21Q+BpsdrE/sTC2CN1wsj8P/ZpY57mxP7gUKiXkebM/Zn8Q6T3osT9hjdznCXuxP6ABzkzlBLM/x4TFHBYhsT+MjG7sDgmxPyC+wgUWZLE/464p9Jfcrz9XiUbQUC+xPz3wOlDuW7E/VegEXvDisT/lBM5D59mvP10wVvsgbrA/XecaZBolsD/WRBKYKgmwP4JDXjJlyrE/QZx4cuWCsT/E1Oo9cwqwPzyVITBCrK8/PwGlUC94sT82RWOA1vewPz4WWx4qErI/z6S7OzAEsT93gjE8CN+uPwgIUhUz5K4/Yje897oYrj+LVLsayJWyP/4s86F+h7E/a2BPFjHoqz9Nlq754LOqP9w/WTzFe64/I04fHLMNsT+tBPo5euypP7SqMzYt+6s/q9iD2D8QsD8SD/1UoeujP6NciQLMcKk/n1CITM/jqT9NwpU1TkmoP0M5HPXjAqk/dXpbOk2UqD/3+VxnYZ6sP5apdBpb0qw/LeOxcoxtqz/C6nZJG3ysP7OT5qvLYac/vnK82qONrT8Kt40Kex+tP+C6vdmi66s/jI8qUnxssD8BlyLInt2tP1p8ccUgqK0/gFHfbvZNsD9eDz6ykvSsP+LmWXEuILA//hx/7seWqT/Ab3Ww0QCwP8iasrAEc7E/l15sEA9prj/tkBGSLLmqP4zbkwOKjqo/Dq81LRSrqz/VLKArOnGqPwgvvf2IRa4/HtO0QPjcqT9OFO2KffetP4MQyxUHirI/BRLfy6z2rD8GpJ5EUzWvP/Ec3CnTaLI/dJjHtqTVsj+CELmBRMuyPxsLltu74bI/qMNvtkqptz8fQWIqKy24P0yUMpXPS7o/K+NXVmhpvD9QEXRI+xO1P5iG5HPLZro/YVgUmNXuuT8GCsXL+rC7PyI+GJL9gbw/yxe1AyhVuz97crxOyry4P2HBaWoPI70/why5vTJXuz+8OVvsoE2+P2IeTl1k9Lo/+fKLuEDOuD9vMievvHC7PxCFn8o+DLo/1+eR8xFwuj8ikrgdoJ65P4/kj2r3m7g/S1+gxogZuT8dWdnlKEW3PyIYFZ45KbY/Q8GXqJ/yuD/upvtPajCyPwXExOcarLI/Kxyn1YZasT8eFhaW+cCwP+FXRV1RC7E/T4BY2yoosT+FeSv+abitP0+Z7Qg15ao/7L/SjW8irT8=\",\"dtype\":\"float64\",\"shape\":[145]}},\"selected\":{\"id\":\"2957\",\"type\":\"Selection\"},\"selection_policy\":{\"id\":\"2958\",\"type\":\"UnionRenderers\"}},\"id\":\"2930\",\"type\":\"ColumnDataSource\"},{\"attributes\":{},\"id\":\"2926\",\"type\":\"BasicTickFormatter\"},{\"attributes\":{},\"id\":\"2957\",\"type\":\"Selection\"},{\"attributes\":{\"active_drag\":\"auto\",\"active_inspect\":\"auto\",\"active_multi\":null,\"active_scroll\":\"auto\",\"active_tap\":\"auto\",\"tools\":[{\"id\":\"2904\",\"type\":\"PanTool\"},{\"id\":\"2905\",\"type\":\"WheelZoomTool\"},{\"id\":\"2906\",\"type\":\"BoxZoomTool\"},{\"id\":\"2907\",\"type\":\"SaveTool\"},{\"id\":\"2908\",\"type\":\"ResetTool\"},{\"id\":\"2909\",\"type\":\"HelpTool\"}]},\"id\":\"2910\",\"type\":\"Toolbar\"},{\"attributes\":{\"label\":{\"value\":\"SMAPE\"},\"renderers\":[{\"id\":\"2947\",\"type\":\"GlyphRenderer\"}]},\"id\":\"2959\",\"type\":\"LegendItem\"},{\"attributes\":{},\"id\":\"3078\",\"type\":\"Selection\"},{\"attributes\":{},\"id\":\"2904\",\"type\":\"PanTool\"},{\"attributes\":{\"axis_label\":\"Error\",\"formatter\":{\"id\":\"2926\",\"type\":\"BasicTickFormatter\"},\"ticker\":{\"id\":\"2900\",\"type\":\"BasicTicker\"}},\"id\":\"2899\",\"type\":\"LinearAxis\"},{\"attributes\":{\"source\":{\"id\":\"2930\",\"type\":\"ColumnDataSource\"}},\"id\":\"2934\",\"type\":\"CDSView\"},{\"attributes\":{},\"id\":\"2905\",\"type\":\"WheelZoomTool\"},{\"attributes\":{\"line_alpha\":0.1,\"line_color\":\"#1f77b4\",\"x\":{\"field\":\"x\"},\"y\":{\"field\":\"y\"}},\"id\":\"2932\",\"type\":\"Line\"},{\"attributes\":{},\"id\":\"2900\",\"type\":\"BasicTicker\"},{\"attributes\":{},\"id\":\"3079\",\"type\":\"UnionRenderers\"},{\"attributes\":{\"overlay\":{\"id\":\"2927\",\"type\":\"BoxAnnotation\"}},\"id\":\"2906\",\"type\":\"BoxZoomTool\"},{\"attributes\":{\"line_color\":\"green\",\"x\":{\"field\":\"x\"},\"y\":{\"field\":\"y\"}},\"id\":\"2931\",\"type\":\"Line\"},{\"attributes\":{\"data_source\":{\"id\":\"2930\",\"type\":\"ColumnDataSource\"},\"glyph\":{\"id\":\"2931\",\"type\":\"Line\"},\"hover_glyph\":null,\"muted_glyph\":null,\"nonselection_glyph\":{\"id\":\"2932\",\"type\":\"Line\"},\"selection_glyph\":null,\"view\":{\"id\":\"2934\",\"type\":\"CDSView\"}},\"id\":\"2933\",\"type\":\"GlyphRenderer\"},{\"attributes\":{\"text\":\"ND, NRMSE, and SMAPE over the test set for MT_329\"},\"id\":\"2884\",\"type\":\"Title\"},{\"attributes\":{},\"id\":\"2907\",\"type\":\"SaveTool\"},{\"attributes\":{\"callback\":null,\"data\":{\"x\":[0,1,2,3,4,5,6,7,8,9,10,11,12,13,14,15,16,17,18,19,20,21,22,23,24,25,26,27,28,29,30,31,32,33,34,35,36,37,38,39,40,41,42,43,44,45,46,47,48,49,50,51,52,53,54,55,56,57,58,59,60,61,62,63,64,65,66,67,68,69,70,71,72,73,74,75,76,77,78,79,80,81,82,83,84,85,86,87,88,89,90,91,92,93,94,95,96,97,98,99,100,101,102,103,104,105,106,107,108,109,110,111,112,113,114,115,116,117,118,119,120,121,122,123,124,125,126,127,128,129,130,131,132,133,134,135,136,137,138,139,140,141,142,143,144],\"y\":{\"__ndarray__\":\"GIUx6mvxoD+MCMqhGnmjP9h4W3dHEKI/HXHFlgqIoz9TZYzuQO2jP3/2uuXnQKs/JFlsUjwloT8j7csSY3qoP53AyZ/dvao/nKZu7WLHoz9R1feNWSqpPztRVh1uUaU/zf5OCiHtpj9bZk6Im2KlP38zOIXcc6U/8C2Cmy/OqT/UrYaXu1GoPxkYRG7t2ag/r7dJpsyOoz8ADd6TzXmlP2zN0GmCkKI/1CYJD6qFqD9A0jNRKfKoP4XAoRhJ6as/q/3RJxlKpj9o0SowL8yrP0trT+lEXag/fXEOO95xrD9UirNEXRmtP3sPBK6nTLE/PWoT2ZIktD/taOBR/DOxP8scRhSewbA/wWCUb2xXsz+lpbPtiBCqPz8/mo5nmLA/syJRajQjsT/68CB985OwP7ki0rylqbI/h1N9F4sAsD+WGzvE4qqwP1Pyk7OBmLI/F0EuTuZZsT/0W7wQzEWwPy8JCFu8BLE/Hd0hixY8rT+YH4NOUQOxP4wtIc4SfK8/Q66phXHurz8DBR+USUqvP9fWZeTiV68/z059e/88rj8lrQWxQaquP80Ut6u/BbE/22hgCIHysD/sv3AJ8KStPwMiJn6+aa8/7TPUwYpisT/I51XthsOwP8PJ2xVherA/NcLZpjfwrj/7P10y2c+sP2vSG4Bs060/G/cPcx5qrj+f4rPkK8qxP1TRIFK/KbE/cPa41J2XqT/LSR/4EGyoP2MLXX6l+q0/oRpcmrk6sT/zgEiXhTSpP63byTdmNaw/f5OQPT8wsD9FDc7c+AWjP+AnJEzJU6k/4KAmZgrXqD8lHLlVacimPx246/EdL6g/C+JqUre9pz+HRgL5aD2sP4zyWZuJzKw/2AiVy8wvqj9tD09SMCGrPwPTUXfKgqY/uHsRrJFxrD/z8pJyRtOqP2s8ScPZ6qs/vnmGSV+ZsD8w7kTOHv+tP+19+v7Vn64/4CI5sPy5rz/cBXNaxbysP92iFJqFtK8/YTsJZG9zqT8EHbwl3q6vP+lF3KT/9K8/e2mrmbjsrD8oAGRJooqoP8v/o4b4RKM/ZqlDcMndpD/lKiucoN2lP4jxy8Nj3qw/taxXKZ4Apz+trNSpfK6rP1xMyKCTnrA/JS+q705Nqj8j67WHJNisP0XFbuT6prE/AeC/Y+p4sj8NiMPCIHywP4yW8yEde68/yBNof/S2tj9X0J2ZXw60P18fuFmRjrY/O+chZ2V2tz+kfGgHUia0P/VHX9wgbrY/s6OkffVFuD/YWaKQRPO2P5MbHav9rrg/6CV7hy3XtT9FsI2PjmKyP99A1FOGorY/j3t10URptj/dzadCQ2K5P7MCUI8LlLU/3bMVFJ0zsz/13bJjlUO1P+oP+ipvMbQ/O71WSRXHsj87rCDuva6yP7u/56JQcLM/B3bxdmyptD/zI1YMttewP1foHoqWerE/AxWnceT8sj99COTXf0qpP6t5Y2LJtK4/aGzIE8u0qz8V7IuauvGpP2H9fbeDCqg/IYgw2vCyqT/zs+GLa8OqPxJddazxDaI/Dc/3z71hpz8=\",\"dtype\":\"float64\",\"shape\":[145]}},\"selected\":{\"id\":\"3078\",\"type\":\"Selection\"},\"selection_policy\":{\"id\":\"3079\",\"type\":\"UnionRenderers\"}},\"id\":\"2944\",\"type\":\"ColumnDataSource\"},{\"attributes\":{\"ticker\":{\"id\":\"2895\",\"type\":\"BasicTicker\"}},\"id\":\"2898\",\"type\":\"Grid\"},{\"attributes\":{},\"id\":\"2908\",\"type\":\"ResetTool\"},{\"attributes\":{},\"id\":\"2941\",\"type\":\"Selection\"},{\"attributes\":{},\"id\":\"2892\",\"type\":\"LinearScale\"},{\"attributes\":{},\"id\":\"2909\",\"type\":\"HelpTool\"},{\"attributes\":{\"dimension\":1,\"ticker\":{\"id\":\"2900\",\"type\":\"BasicTicker\"}},\"id\":\"2903\",\"type\":\"Grid\"},{\"attributes\":{\"items\":[{\"id\":\"2929\",\"type\":\"LegendItem\"},{\"id\":\"2943\",\"type\":\"LegendItem\"},{\"id\":\"2959\",\"type\":\"LegendItem\"}]},\"id\":\"2928\",\"type\":\"Legend\"},{\"attributes\":{},\"id\":\"2942\",\"type\":\"UnionRenderers\"},{\"attributes\":{\"axis_label\":\"Test Dataset Row Index\",\"formatter\":{\"id\":\"2924\",\"type\":\"BasicTickFormatter\"},\"ticker\":{\"id\":\"2895\",\"type\":\"BasicTicker\"}},\"id\":\"2894\",\"type\":\"LinearAxis\"},{\"attributes\":{\"line_alpha\":0.1,\"line_color\":\"#1f77b4\",\"line_width\":2,\"x\":{\"field\":\"x\"},\"y\":{\"field\":\"y\"}},\"id\":\"2919\",\"type\":\"Line\"},{\"attributes\":{},\"id\":\"2895\",\"type\":\"BasicTicker\"},{\"attributes\":{},\"id\":\"2890\",\"type\":\"LinearScale\"},{\"attributes\":{\"line_color\":\"purple\",\"x\":{\"field\":\"x\"},\"y\":{\"field\":\"y\"}},\"id\":\"2945\",\"type\":\"Line\"},{\"attributes\":{\"source\":{\"id\":\"2917\",\"type\":\"ColumnDataSource\"}},\"id\":\"2921\",\"type\":\"CDSView\"},{\"attributes\":{\"source\":{\"id\":\"2944\",\"type\":\"ColumnDataSource\"}},\"id\":\"2948\",\"type\":\"CDSView\"},{\"attributes\":{\"data_source\":{\"id\":\"2917\",\"type\":\"ColumnDataSource\"},\"glyph\":{\"id\":\"2918\",\"type\":\"Line\"},\"hover_glyph\":null,\"muted_glyph\":null,\"nonselection_glyph\":{\"id\":\"2919\",\"type\":\"Line\"},\"selection_glyph\":null,\"view\":{\"id\":\"2921\",\"type\":\"CDSView\"}},\"id\":\"2920\",\"type\":\"GlyphRenderer\"},{\"attributes\":{\"callback\":null},\"id\":\"2888\",\"type\":\"DataRange1d\"},{\"attributes\":{\"line_alpha\":0.1,\"line_color\":\"#1f77b4\",\"x\":{\"field\":\"x\"},\"y\":{\"field\":\"y\"}},\"id\":\"2946\",\"type\":\"Line\"},{\"attributes\":{},\"id\":\"2924\",\"type\":\"BasicTickFormatter\"},{\"attributes\":{\"data_source\":{\"id\":\"2944\",\"type\":\"ColumnDataSource\"},\"glyph\":{\"id\":\"2945\",\"type\":\"Line\"},\"hover_glyph\":null,\"muted_glyph\":null,\"nonselection_glyph\":{\"id\":\"2946\",\"type\":\"Line\"},\"selection_glyph\":null,\"view\":{\"id\":\"2948\",\"type\":\"CDSView\"}},\"id\":\"2947\",\"type\":\"GlyphRenderer\"},{\"attributes\":{},\"id\":\"2958\",\"type\":\"UnionRenderers\"},{\"attributes\":{\"callback\":null,\"data\":{\"x\":[0,1,2,3,4,5,6,7,8,9,10,11,12,13,14,15,16,17,18,19,20,21,22,23,24,25,26,27,28,29,30,31,32,33,34,35,36,37,38,39,40,41,42,43,44,45,46,47,48,49,50,51,52,53,54,55,56,57,58,59,60,61,62,63,64,65,66,67,68,69,70,71,72,73,74,75,76,77,78,79,80,81,82,83,84,85,86,87,88,89,90,91,92,93,94,95,96,97,98,99,100,101,102,103,104,105,106,107,108,109,110,111,112,113,114,115,116,117,118,119,120,121,122,123,124,125,126,127,128,129,130,131,132,133,134,135,136,137,138,139,140,141,142,143,144],\"y\":{\"__ndarray__\":\"2Ykj93S2oj++d2g18ROlPxv2bN6IWqM/xER9YTShpD+yEC2g6dOlPw508t+3tao/VIQQDjEgoj90ZeNrG/+mP8J6dkEJc6o/W2RNxTEToz/CvIt7W9GmP1J9fwcSjKY/fubrZscFpT8CnTOP92ykP3+f66SKhaU/p+7359NJpz9bOPl69wenP0Psz7wizqc/f43fQyAzpD9PFc8k3oWkP93R0ArOT6M/Eb2N4L00pz9q0gDqu56mP9YmdAcB4ao/ypwre57rpj+2zjZ+gy+rPxnXvm+Xh6g/UXq0OVFlqz9bMAI1OfuqPwkqhSlJqa4/fdPfZcrgsT+pnBObqc+uP0ck+L05Aq4/soupGYBUsT9SoffXyjyoP/91gAQ9j6w/xsbPewBnrj9sBAdC0cquP5Jt0cwsz7A/i7e9ycl4rT/QDP/QqF6uPxqEquOAGLA/jybKVdsirj/fJMABeSOtP9WPyK9Sfa0/GQ0XcyQvqj92ffXnbiCvP1/3nZ7bSq0/l1bvDBfNrD+ju5l87qWsPwQi/P9LD6w/tgiM1kl2qz+BkiMtf1SsP1rKAPGq564/+//AbUAnrz/uGl87zI6qPxWaKrKuR6w/v1Vlqzgxrz9i2Hco7dutP8mY1+q3aK8/uHeARNJWrT9gB5yDs4SpP+zBux5H+6o/eZbnFtkEqz+ZtnArprmuP3lRtrDbe60/tBqBy+9epj9pzlHfhP6lP8Vz810xtqo/LU12PH+arj/SEtQ7ocCkP5gT/7jy9qg/UB0IGjfyqz+hnDnxbzWgP0a/sssbGqY/Qqv3xa5Wpj96OhIdNUGjP8Ep0+fNNaQ/aS80zdA4pD8h2ErRHLuoPywZGU6LP6g/2i+QMn/Mpj8oziUFgl6nP3O0ZYZXs6I/pA/B3EbKpz/YNwRm4MymP8z1PyY026c/v17CqNCHqz9J9uux2WmpPxmWxq244qk/G4RdisulrD/IrXEEBxOoPyrkBXjR66o/MPUg6/x6pT8TlcdsdsqrP6OTWGwVZ6w/fb4j3sDPqD/7N7ht2uKlPzJY9zj+NqM/yWgIUVwdpT+OThxC8KmlP5uOQxSy86o/54cp97wJpT/NYGNkguyoPzvN+tTGUK4/pyFxGQCgqD/9VeQopv6qP3ekFUmwZa8/XvnpjklVsD9eTcNqlDCvP8yRdlRTXa4/4V9hkOjmtD+4uVZFuUmzPzf/sfk8tbU/kC/apEGktj/4PXIf8r+yP/1j7h+ErrU/hCKOxT7Ntj9OiBljMaq2P3+OqRWuALg/e0fX01autT9lo90L73ayPwYzeHWvorY/ozTTvsb3tT+JrYr++Ce5P7MBc56d77U/q/sssPuEsz9vQh4qTNe1P+CSXPZvEbU/qFfEI+ipsz+gtshj/cazP0joQqkoqLM/j/4Z0x6RtD+1i0qq3EmxP18/zEcwirE/wzmEtEgNsz87zPZAHqyqP600om5/+q4/SEeEqicXqz/z2P071fOpP6fvl4Zr8Kc/c6WaWOzfqT+1rkFHg+upP11FT2aJoKI/dpt8ftfMpz8=\",\"dtype\":\"float64\",\"shape\":[145]}},\"selected\":{\"id\":\"2941\",\"type\":\"Selection\"},\"selection_policy\":{\"id\":\"2942\",\"type\":\"UnionRenderers\"}},\"id\":\"2917\",\"type\":\"ColumnDataSource\"},{\"attributes\":{\"bottom_units\":\"screen\",\"fill_alpha\":{\"value\":0.5},\"fill_color\":{\"value\":\"lightgrey\"},\"left_units\":\"screen\",\"level\":\"overlay\",\"line_alpha\":{\"value\":1.0},\"line_color\":{\"value\":\"black\"},\"line_dash\":[4,4],\"line_width\":{\"value\":2},\"render_mode\":\"css\",\"right_units\":\"screen\",\"top_units\":\"screen\"},\"id\":\"2927\",\"type\":\"BoxAnnotation\"},{\"attributes\":{\"callback\":null},\"id\":\"2886\",\"type\":\"DataRange1d\"},{\"attributes\":{\"label\":{\"value\":\"NRMSE\"},\"renderers\":[{\"id\":\"2933\",\"type\":\"GlyphRenderer\"}]},\"id\":\"2943\",\"type\":\"LegendItem\"}],\"root_ids\":[\"2883\"]},\"title\":\"Bokeh Application\",\"version\":\"1.4.0\"}};\n",
       "  var render_items = [{\"docid\":\"fe17ccd6-547c-4c9d-9cca-28387c9f2dfa\",\"roots\":{\"2883\":\"f821cb05-0fad-4ac2-82f2-9d33eb54e0e9\"}}];\n",
       "  root.Bokeh.embed.embed_items_notebook(docs_json, render_items);\n",
       "\n",
       "  }\n",
       "  if (root.Bokeh !== undefined) {\n",
       "    embed_document(root);\n",
       "  } else {\n",
       "    var attempts = 0;\n",
       "    var timer = setInterval(function(root) {\n",
       "      if (root.Bokeh !== undefined) {\n",
       "        clearInterval(timer);\n",
       "        embed_document(root);\n",
       "      } else {\n",
       "        attempts++;\n",
       "        if (attempts > 100) {\n",
       "          clearInterval(timer);\n",
       "          console.log(\"Bokeh: ERROR: Unable to run BokehJS code because BokehJS library is missing\");\n",
       "        }\n",
       "      }\n",
       "    }, 10, root)\n",
       "  }\n",
       "})(window);"
      ],
      "application/vnd.bokehjs_exec.v0+json": ""
     },
     "metadata": {
      "application/vnd.bokehjs_exec.v0+json": {
       "id": "2883"
      }
     },
     "output_type": "display_data"
    },
    {
     "data": {
      "text/html": [
       "\n",
       "\n",
       "\n",
       "\n",
       "\n",
       "\n",
       "  <div class=\"bk-root\" id=\"687ee061-bf91-4663-9709-b15e21b0cbe2\" data-root-id=\"3152\"></div>\n"
      ]
     },
     "metadata": {},
     "output_type": "display_data"
    },
    {
     "data": {
      "application/javascript": [
       "(function(root) {\n",
       "  function embed_document(root) {\n",
       "    \n",
       "  var docs_json = {\"e46ac57f-bcf8-4a8c-b32b-8f64e6486536\":{\"roots\":{\"references\":[{\"attributes\":{\"below\":[{\"id\":\"3163\",\"type\":\"LinearAxis\"}],\"center\":[{\"id\":\"3167\",\"type\":\"Grid\"},{\"id\":\"3172\",\"type\":\"Grid\"},{\"id\":\"3197\",\"type\":\"Legend\"}],\"left\":[{\"id\":\"3168\",\"type\":\"LinearAxis\"}],\"plot_height\":320,\"plot_width\":960,\"renderers\":[{\"id\":\"3189\",\"type\":\"GlyphRenderer\"},{\"id\":\"3202\",\"type\":\"GlyphRenderer\"},{\"id\":\"3216\",\"type\":\"GlyphRenderer\"}],\"title\":{\"id\":\"3153\",\"type\":\"Title\"},\"toolbar\":{\"id\":\"3179\",\"type\":\"Toolbar\"},\"x_range\":{\"id\":\"3155\",\"type\":\"DataRange1d\"},\"x_scale\":{\"id\":\"3159\",\"type\":\"LinearScale\"},\"y_range\":{\"id\":\"3157\",\"type\":\"DataRange1d\"},\"y_scale\":{\"id\":\"3161\",\"type\":\"LinearScale\"}},\"id\":\"3152\",\"subtype\":\"Figure\",\"type\":\"Plot\"},{\"attributes\":{\"active_drag\":\"auto\",\"active_inspect\":\"auto\",\"active_multi\":null,\"active_scroll\":\"auto\",\"active_tap\":\"auto\",\"tools\":[{\"id\":\"3173\",\"type\":\"PanTool\"},{\"id\":\"3174\",\"type\":\"WheelZoomTool\"},{\"id\":\"3175\",\"type\":\"BoxZoomTool\"},{\"id\":\"3176\",\"type\":\"SaveTool\"},{\"id\":\"3177\",\"type\":\"ResetTool\"},{\"id\":\"3178\",\"type\":\"HelpTool\"}]},\"id\":\"3179\",\"type\":\"Toolbar\"},{\"attributes\":{},\"id\":\"3193\",\"type\":\"BasicTickFormatter\"},{\"attributes\":{\"callback\":null,\"data\":{\"x\":[0,1,2,3,4,5,6,7,8,9,10,11,12,13,14,15,16,17,18,19,20,21,22,23,24,25,26,27,28,29,30,31,32,33,34,35,36,37,38,39,40,41,42,43,44,45,46,47,48,49,50,51,52,53,54,55,56,57,58,59,60,61,62,63,64,65,66,67,68,69,70,71,72,73,74,75,76,77,78,79,80,81,82,83,84,85,86,87,88,89,90,91,92,93,94,95,96,97,98,99,100,101,102,103,104,105,106,107,108,109,110,111,112,113,114,115,116,117,118,119,120,121,122,123,124,125,126,127,128,129,130,131,132,133,134,135,136,137,138,139,140,141,142,143,144],\"y\":{\"__ndarray__\":\"FEMWf5j+vz/rp2mWtxvBPzUWdrczvcA/akq8IsvBwT9BrHKO8+fAP277zdOKWb8/RO2T95oNvz/23QFK5Q3APxoojcagHcI/aRi8ocasvz/gAM3DhMa8PzR/Ps8Ctr0/5yUPQO0MvD/6NLbTwYq8PzaVdmB+A7k/Ui8MDXfUtz8LkeXkmpq1P1go5tFO0bY/tsZf3ytdtz+Bjq1eEva1Pw8qRjUwOrc/mxeq/VOrtD82O5gpm4i1P/bi1NJv9bU/GF1Rfg/Mtj8yUCDSUHWxPxtl7kS0wbM/dGBoJ/Jqtj/V2PaPHsq1Pyf0HMy03bM/JpO5hi56sj8IMEQITuqzP4HaApILcrU/UK4UjlfZtT+DrU6/yQO0P1Q4zm0Y0rU/KMqVHBRzuj9LixitwF2yP4KqFrCN2bQ/BX35A23hsz+d2v6D5B+uP88mudxEYaw/6F00hSHFsD/YrtHiPsqwP+NLZno/7LA/uCknyn/krT9etV9LZiWuP5trEgwCMa4/SXJXV/k3rz/ADPZLPx6xP0NbyNo6xrE/mR5zQ8LErT/I/Rb6sEKwP05S54xJ9aw/mp0GHgLorj9w5HFxnXSxP7FHrhLyO7E/N/BBAktqrj/cQWDMIrirP950/BX+CK8/Hl29mgBiqj8kogVsx4CzP88wdIjhJa0/mQUfK3xQsD+vBfMkTRKvP7rFD1pfRK0/NE6/mdT4sj9u8pysPoW0P9IRQ5jCALQ/ppU7LRntsD/CYrevrvqzP3XwJRwZobQ/EqThdsFztD8OExFlILqzP55ZjGgdeLM/iMuOjOEYsz93uRLsC0e1P22oAPxosbU/VbiHv1UFsz9dDAo9M12zP2D9FNj74rY/5tNyeU9Ytj/NvT8RIMq1P1mpJKlb1rU/s+WOV4FDtD9HWWDOxre1P7STUIXYqrg/VUwFqgDLtj8lO12NJ/G4PxaxtutSwbk/ATi02ECquj8oCFtRr/a7P8DN4/gplrw/Hqr9plG7wD8P3ATeUk3APwdcQ/5XhsA/hJ3xOPYWwD8dvtK7Lcm9PwxGpy0oZr4/HV6x25QGvz/NGdAEDqDAP8b0j9p0O8A/ti84PF1mwD/H52lPHZu/P40T3iYOWMA/PJ/Ex8IswD8Kso9JZ7HAP29mgZxUzcA/3DOfoSTZwT9XCBi10FrCPwzqqrOSy8E/JgSb210nwT8XIOLxuwPBP/2uqAFYG8A/9gI1Zq6yvj/vMWp6DkG/P5mPEawxdrw/FqDTW9OdwD/HO1cY6zi8P9fmZNhHlMA/+u3Em+EMvj/5YrMmWWy9P+FrGoQvFL0/u7CfmWkJwD8WoTU9GL68PyrIj7KOBrs/RWKUCVpFvT9wIGPteE29P3C3xCskPr4/Q4vtxyUovj86tY1pAwK5P2usWM7dyLk/vnlt8mRkuT9/0ytpsza4P9Lm9H3ozLo/Xmaixafuuz95/njknwq8P2yGIqr48ro/RftgIgxYuT//Jd8BGHG6Pw7/2X+a/Lo/pfHCxnW6vj8YTz0khmi9Pw1zTXfHFr0/J5s4KB6xuj8=\",\"dtype\":\"float64\",\"shape\":[145]}},\"selected\":{\"id\":\"3210\",\"type\":\"Selection\"},\"selection_policy\":{\"id\":\"3211\",\"type\":\"UnionRenderers\"}},\"id\":\"3186\",\"type\":\"ColumnDataSource\"},{\"attributes\":{\"source\":{\"id\":\"3213\",\"type\":\"ColumnDataSource\"}},\"id\":\"3217\",\"type\":\"CDSView\"},{\"attributes\":{\"items\":[{\"id\":\"3198\",\"type\":\"LegendItem\"},{\"id\":\"3212\",\"type\":\"LegendItem\"},{\"id\":\"3228\",\"type\":\"LegendItem\"}]},\"id\":\"3197\",\"type\":\"Legend\"},{\"attributes\":{\"line_alpha\":0.1,\"line_color\":\"#1f77b4\",\"x\":{\"field\":\"x\"},\"y\":{\"field\":\"y\"}},\"id\":\"3215\",\"type\":\"Line\"},{\"attributes\":{},\"id\":\"3169\",\"type\":\"BasicTicker\"},{\"attributes\":{},\"id\":\"3195\",\"type\":\"BasicTickFormatter\"},{\"attributes\":{\"data_source\":{\"id\":\"3213\",\"type\":\"ColumnDataSource\"},\"glyph\":{\"id\":\"3214\",\"type\":\"Line\"},\"hover_glyph\":null,\"muted_glyph\":null,\"nonselection_glyph\":{\"id\":\"3215\",\"type\":\"Line\"},\"selection_glyph\":null,\"view\":{\"id\":\"3217\",\"type\":\"CDSView\"}},\"id\":\"3216\",\"type\":\"GlyphRenderer\"},{\"attributes\":{\"axis_label\":\"Error\",\"formatter\":{\"id\":\"3195\",\"type\":\"BasicTickFormatter\"},\"ticker\":{\"id\":\"3169\",\"type\":\"BasicTicker\"}},\"id\":\"3168\",\"type\":\"LinearAxis\"},{\"attributes\":{\"bottom_units\":\"screen\",\"fill_alpha\":{\"value\":0.5},\"fill_color\":{\"value\":\"lightgrey\"},\"left_units\":\"screen\",\"level\":\"overlay\",\"line_alpha\":{\"value\":1.0},\"line_color\":{\"value\":\"black\"},\"line_dash\":[4,4],\"line_width\":{\"value\":2},\"render_mode\":\"css\",\"right_units\":\"screen\",\"top_units\":\"screen\"},\"id\":\"3196\",\"type\":\"BoxAnnotation\"},{\"attributes\":{\"line_color\":\"orange\",\"line_width\":2,\"x\":{\"field\":\"x\"},\"y\":{\"field\":\"y\"}},\"id\":\"3187\",\"type\":\"Line\"},{\"attributes\":{\"data_source\":{\"id\":\"3186\",\"type\":\"ColumnDataSource\"},\"glyph\":{\"id\":\"3187\",\"type\":\"Line\"},\"hover_glyph\":null,\"muted_glyph\":null,\"nonselection_glyph\":{\"id\":\"3188\",\"type\":\"Line\"},\"selection_glyph\":null,\"view\":{\"id\":\"3190\",\"type\":\"CDSView\"}},\"id\":\"3189\",\"type\":\"GlyphRenderer\"},{\"attributes\":{\"dimension\":1,\"ticker\":{\"id\":\"3169\",\"type\":\"BasicTicker\"}},\"id\":\"3172\",\"type\":\"Grid\"},{\"attributes\":{\"overlay\":{\"id\":\"3196\",\"type\":\"BoxAnnotation\"}},\"id\":\"3175\",\"type\":\"BoxZoomTool\"},{\"attributes\":{\"text\":\"ND, NRMSE, and SMAPE over the test set for MT_330\"},\"id\":\"3153\",\"type\":\"Title\"},{\"attributes\":{\"label\":{\"value\":\"ND\"},\"renderers\":[{\"id\":\"3189\",\"type\":\"GlyphRenderer\"}]},\"id\":\"3198\",\"type\":\"LegendItem\"},{\"attributes\":{\"ticker\":{\"id\":\"3164\",\"type\":\"BasicTicker\"}},\"id\":\"3167\",\"type\":\"Grid\"},{\"attributes\":{\"callback\":null,\"data\":{\"x\":[0,1,2,3,4,5,6,7,8,9,10,11,12,13,14,15,16,17,18,19,20,21,22,23,24,25,26,27,28,29,30,31,32,33,34,35,36,37,38,39,40,41,42,43,44,45,46,47,48,49,50,51,52,53,54,55,56,57,58,59,60,61,62,63,64,65,66,67,68,69,70,71,72,73,74,75,76,77,78,79,80,81,82,83,84,85,86,87,88,89,90,91,92,93,94,95,96,97,98,99,100,101,102,103,104,105,106,107,108,109,110,111,112,113,114,115,116,117,118,119,120,121,122,123,124,125,126,127,128,129,130,131,132,133,134,135,136,137,138,139,140,141,142,143,144],\"y\":{\"__ndarray__\":\"5bCe870XxT+006JnBjrGP/lSaaTz58U/DRv7w3dBxz8H8fJnX0THP42Cj69NksU/sFizc1B7xD/RfJBcls7EP0HHO/d6occ/EEGQbgcFxT+cGKUKRVLDP7j6IC3+8MM/t25YMeJTwz8NZmqhXFPEP06anAfpMsI/2Mk/MBwvwT8daggaJ7a8P0qdOKiABb4/FcOQARfAvj9+Xh7kgQa8P+EYhR6fjb4/f3auEvz5vD9rBbhaIAS/PynxsBfQHr8/n+nm+AUewD8SzNXDKxW4P0VCxMNMsb0/Ridv9S9hvz8prnmcxXC8P4zHdvXgIbs/tXiqiDn+uj/y1SsOA0W7P2o22OqfD74/zGvxKn9Qvj/L+yPZ9A2+P9dQj01HXr0/I8o/8wOMwT97nMtr20K6PxVwYmvML78//LtjDXGmuj8q6i7rhB6zP35rNavQzLM/OWjVnZMMuT8tuX70HxC2PxhLweMFDbc/zHpQtMAHtT+R8I0Y0a20P3BcAsvQDrU/a4zIyEnDsz/yROhVAUm3P7eJvIctvLk/rTiYsLzEsj+D1HcTjEW3P3vyqnzJxbM/ldUwpJ5Dtj/o0RIj4a62P3DUFNrOjrc/FD+1txiWtT/8bjiDzHizP9Jhzb/c1LQ/2Z/6Ozhssz9ZPm8j3PW6P/i5vFzqErM/J568rapQtj/RaRTKeXO0P/W2HXXsSrU/VvqVxvsvuz9NbeWnJW+9PxLVRGwoUrw/UGwDAEL2uT/fzaZFUaS9PxJUw+WNNb4/d0VmFnQpuz+uarA/ufC+P3KFUZ2bZ70/e8wLG7pruz8itMivzY++P1VZzE+8jb4/1DjQlo4zvD9utTsRHYa8P8s9XZj9t78/nAQfgfoMwD/9fPougwS/P7VTVUh3P78/BSYQvHDSuj+/5UhnRTi9P7Mv6tjMiMA/YKHYHxttwD85Vyjd43q/PxxNs7ys6cE/HIoecV8FxD/5DjBMbSfEPw3Bj4PZTcU/PiYeLZSMxz/gTyrEeb/GP1dM0YKpwMY/ure3oebwxT8Yl+qVLSrFPzmFWWIt28U/+64n6wmxxT/H3XHyD1PHP5yNjEWu5cY/VwpmHKF1xj8KTO/i/CDGPzmrEoMyQ8Y/ThNHL1gyxj+BYG2vetrFP02Oe1W2Z8c/0jWzmGcIxz+KLkKzM+DHP18M0y/TrcY/hyhKKo3/xj9INwS0A2nGPyf7ketY08M/svTmeJZnwj8bBAXcYZrCP0JJ0WMracI/rW6eR/rjwz+WaQ0E0ajBP3ucO1g4FsQ/+n3BofRZwj++niWh8bfCP0pQTH3cQ8I/zgbBNnThwz/aFeYZmP7BPwh49x1cU8E/xx0wx4Fywz+1JexBBhDCP+Bz2LuHhcM/FO8sYvhjwz8aBsR4bZzAPw7QBuqShsE/VzMxSUX0vz+a/Z6l6WfAP56ISipynsE/sYn8vF3pwj8gzKMNLmrBP1kiME9Z38A/fzvyx1cGwD8QKkaa6UnBPx2nhNAiVsE/laEbOc0Zwz91RecjlqvCP6Taupt42cI//xzHB7M/wT8=\",\"dtype\":\"float64\",\"shape\":[145]}},\"selected\":{\"id\":\"3226\",\"type\":\"Selection\"},\"selection_policy\":{\"id\":\"3227\",\"type\":\"UnionRenderers\"}},\"id\":\"3199\",\"type\":\"ColumnDataSource\"},{\"attributes\":{},\"id\":\"3226\",\"type\":\"Selection\"},{\"attributes\":{\"source\":{\"id\":\"3186\",\"type\":\"ColumnDataSource\"}},\"id\":\"3190\",\"type\":\"CDSView\"},{\"attributes\":{\"label\":{\"value\":\"SMAPE\"},\"renderers\":[{\"id\":\"3216\",\"type\":\"GlyphRenderer\"}]},\"id\":\"3228\",\"type\":\"LegendItem\"},{\"attributes\":{},\"id\":\"3178\",\"type\":\"HelpTool\"},{\"attributes\":{},\"id\":\"3164\",\"type\":\"BasicTicker\"},{\"attributes\":{\"axis_label\":\"Test Dataset Row Index\",\"formatter\":{\"id\":\"3193\",\"type\":\"BasicTickFormatter\"},\"ticker\":{\"id\":\"3164\",\"type\":\"BasicTicker\"}},\"id\":\"3163\",\"type\":\"LinearAxis\"},{\"attributes\":{\"line_color\":\"green\",\"x\":{\"field\":\"x\"},\"y\":{\"field\":\"y\"}},\"id\":\"3200\",\"type\":\"Line\"},{\"attributes\":{},\"id\":\"3359\",\"type\":\"Selection\"},{\"attributes\":{},\"id\":\"3161\",\"type\":\"LinearScale\"},{\"attributes\":{},\"id\":\"3177\",\"type\":\"ResetTool\"},{\"attributes\":{},\"id\":\"3159\",\"type\":\"LinearScale\"},{\"attributes\":{},\"id\":\"3360\",\"type\":\"UnionRenderers\"},{\"attributes\":{\"callback\":null,\"data\":{\"x\":[0,1,2,3,4,5,6,7,8,9,10,11,12,13,14,15,16,17,18,19,20,21,22,23,24,25,26,27,28,29,30,31,32,33,34,35,36,37,38,39,40,41,42,43,44,45,46,47,48,49,50,51,52,53,54,55,56,57,58,59,60,61,62,63,64,65,66,67,68,69,70,71,72,73,74,75,76,77,78,79,80,81,82,83,84,85,86,87,88,89,90,91,92,93,94,95,96,97,98,99,100,101,102,103,104,105,106,107,108,109,110,111,112,113,114,115,116,117,118,119,120,121,122,123,124,125,126,127,128,129,130,131,132,133,134,135,136,137,138,139,140,141,142,143,144],\"y\":{\"__ndarray__\":\"1RaTm0wLuz9sqhAOa1S+P9vpUP49Xr0/M9NbvryBvz+MQzyZrNy8P4u7aU66lro/wdQOHkdIuz/H0qJU4ba8P13zoHpap78/mBc0wYgxuz9Dfhalula5P7OTjUAnmLk/9OaP7ki/uD9FlO3j/ES5P1vvb/VRHrU/b3EdraVXtD8KpdTSVtGzP9lkABx6OrQ/sFDEvqgHtT8n+K67yqKzP6y/Wcu4PbU/Z22xhxl/sj+7vRaoh7uzP4Q4XsqsDLQ/oBNKqsOKtD9zX02JQ/uvP4EcM0+McbE/0Tl4YgsHtT8lhrKWD1a1P+FFnqq9IrM/NCWeo6cqsT/gLxw76YqyPxSflkc8I7Q/I+oodpn1tD+tHifQrMayPzH9xZycNrU/HbeRzPtBuT+BzoKwM5ixPzX4zc1uEbQ/bSGaumRrsz+576fi2ievP6Vzsh12Cq0/mWjwoq7EsD/2B+zcIqawP2yUC98Ss7A/sBW+h1frrj8gO+8Dc+yvP6B+vmiiqa8/wM+9Wm4gsT/cL4cl8miyP9sNcn3WYLM/7UOr4gmYsT/wVuo+Ad6xP4EfdAw+YbA/8DVHDmflrz9aung6LGWzP6fQmwqRArE/m5fO4QjXrz/Q7qjuiU6uP5C589PeZK8/XT98kCyEqj/LXi8nD+WzP9vrht6RObA/RDWt/q6FsT9wbDBHOiqwP4DrkaU0X60/cZY4393Bsj+VuyMJZDy1PzyeL37eKbM/6Rvb0+RXsD+XS86lLbizP2uErUiDALQ/YgE2pxhSsz+zG35Z5umyP7TzCl+mr7I/+aWRS13wsj+ZQZ7JSBi0P2WQfAyQXbU/9PN77Pi0sj+pRe1BCmSyP90nU+9bBrY/P6UjxM/0tD87LV3u6yi1P9BQPCUbqLQ/JdLOvV11tD+wRr3ueBO0P+uqdnJQ9bc/YH/5L0S+tT/PcVLqluC3P1UZaipcjbg/4xMV/LTWuD+ozH5SCea5P7TMCCU/grk/UIpmL7nUvj9gZRyXF3++P8cX3hwUab4/SDYd7hQMvT8QrUdiSCO6Py8gMSdkoro/HbVAySqOuz8bxU1kWfK9P5uyTVuNMb4/3/Zzqe/dvj/hgJzvAHC9P1Xm1+8r4L4/zaKrsJa4vj8dphQd+Yi/P61+e/BZMb8/Kf4rFPmnwD8SAp6xmTDBPzP0WcsiA8E/M5NB/mNrwD9npNAmnybAP9hoMQJZkL8/xQaSJffmvT9Vyf0SP1C/P9NuwIfYIbs/uYJquYApwD/1nj1OmiS7P9+yY6jAJ8A/AMJGnkl+vT/E08ZFZsy8P6geBR3QUbw/QYeiypspvj/9pr1zSaO7P+uM0wyFcbk/Jdgx/lURuz/jKyTy2Ui7P2mOyuexIbw/NRtAJuKluz/koWZAxZq2P1eJYxc9Qrc/dCoO1xpruD875fBWmx+2P8smHPx4R7g/S0dxfiAwuT9V2zWz2ZG6Pzf7GGCj6rg/KUG4dc5etz/Po3W+EXu4PxTQ8T5FU7k/GYY9Ze8TvD+kgpamY6i6PzMYb6DE9Lk/8CD4OE9otz8=\",\"dtype\":\"float64\",\"shape\":[145]}},\"selected\":{\"id\":\"3359\",\"type\":\"Selection\"},\"selection_policy\":{\"id\":\"3360\",\"type\":\"UnionRenderers\"}},\"id\":\"3213\",\"type\":\"ColumnDataSource\"},{\"attributes\":{\"line_alpha\":0.1,\"line_color\":\"#1f77b4\",\"line_width\":2,\"x\":{\"field\":\"x\"},\"y\":{\"field\":\"y\"}},\"id\":\"3188\",\"type\":\"Line\"},{\"attributes\":{\"line_alpha\":0.1,\"line_color\":\"#1f77b4\",\"x\":{\"field\":\"x\"},\"y\":{\"field\":\"y\"}},\"id\":\"3201\",\"type\":\"Line\"},{\"attributes\":{\"callback\":null},\"id\":\"3157\",\"type\":\"DataRange1d\"},{\"attributes\":{\"source\":{\"id\":\"3199\",\"type\":\"ColumnDataSource\"}},\"id\":\"3203\",\"type\":\"CDSView\"},{\"attributes\":{},\"id\":\"3176\",\"type\":\"SaveTool\"},{\"attributes\":{\"data_source\":{\"id\":\"3199\",\"type\":\"ColumnDataSource\"},\"glyph\":{\"id\":\"3200\",\"type\":\"Line\"},\"hover_glyph\":null,\"muted_glyph\":null,\"nonselection_glyph\":{\"id\":\"3201\",\"type\":\"Line\"},\"selection_glyph\":null,\"view\":{\"id\":\"3203\",\"type\":\"CDSView\"}},\"id\":\"3202\",\"type\":\"GlyphRenderer\"},{\"attributes\":{},\"id\":\"3227\",\"type\":\"UnionRenderers\"},{\"attributes\":{\"line_color\":\"purple\",\"x\":{\"field\":\"x\"},\"y\":{\"field\":\"y\"}},\"id\":\"3214\",\"type\":\"Line\"},{\"attributes\":{},\"id\":\"3173\",\"type\":\"PanTool\"},{\"attributes\":{},\"id\":\"3211\",\"type\":\"UnionRenderers\"},{\"attributes\":{},\"id\":\"3210\",\"type\":\"Selection\"},{\"attributes\":{},\"id\":\"3174\",\"type\":\"WheelZoomTool\"},{\"attributes\":{\"label\":{\"value\":\"NRMSE\"},\"renderers\":[{\"id\":\"3202\",\"type\":\"GlyphRenderer\"}]},\"id\":\"3212\",\"type\":\"LegendItem\"},{\"attributes\":{\"callback\":null},\"id\":\"3155\",\"type\":\"DataRange1d\"}],\"root_ids\":[\"3152\"]},\"title\":\"Bokeh Application\",\"version\":\"1.4.0\"}};\n",
       "  var render_items = [{\"docid\":\"e46ac57f-bcf8-4a8c-b32b-8f64e6486536\",\"roots\":{\"3152\":\"687ee061-bf91-4663-9709-b15e21b0cbe2\"}}];\n",
       "  root.Bokeh.embed.embed_items_notebook(docs_json, render_items);\n",
       "\n",
       "  }\n",
       "  if (root.Bokeh !== undefined) {\n",
       "    embed_document(root);\n",
       "  } else {\n",
       "    var attempts = 0;\n",
       "    var timer = setInterval(function(root) {\n",
       "      if (root.Bokeh !== undefined) {\n",
       "        clearInterval(timer);\n",
       "        embed_document(root);\n",
       "      } else {\n",
       "        attempts++;\n",
       "        if (attempts > 100) {\n",
       "          clearInterval(timer);\n",
       "          console.log(\"Bokeh: ERROR: Unable to run BokehJS code because BokehJS library is missing\");\n",
       "        }\n",
       "      }\n",
       "    }, 10, root)\n",
       "  }\n",
       "})(window);"
      ],
      "application/vnd.bokehjs_exec.v0+json": ""
     },
     "metadata": {
      "application/vnd.bokehjs_exec.v0+json": {
       "id": "3152"
      }
     },
     "output_type": "display_data"
    }
   ],
   "source": [
    "for customer_id in customer_ids:\n",
    "    # label the metrics plot per customer_id\n",
    "    label = '{}_metrics'.format(customer_id)\n",
    "    \n",
    "    plots[label] = figure(\n",
    "        title='ND, NRMSE, and SMAPE over the test set for {}'.format(customer_id),\n",
    "        width=960,\n",
    "        height=320,\n",
    "        x_axis_label='Test Dataset Row Index',\n",
    "        y_axis_label='Error')\n",
    "\n",
    "    plots[label].line(\n",
    "        x=predictions_detail[customer_id].index,\n",
    "        y=predictions_detail[customer_id]['nd'],\n",
    "        legend_label='ND',\n",
    "        color='orange',\n",
    "        line_width=2)\n",
    "\n",
    "    plots[label].line(\n",
    "        x=predictions_detail[customer_id].index,\n",
    "        y=predictions_detail[customer_id]['nrmse'],\n",
    "        legend_label='NRMSE',\n",
    "        color='green',\n",
    "        line_width=1)\n",
    "\n",
    "    plots[label].line(\n",
    "        x=predictions_detail[customer_id].index,\n",
    "        y=predictions_detail[customer_id]['smape'],\n",
    "        legend_label='SMAPE',\n",
    "        color='purple',\n",
    "        line_width=1)\n",
    "\n",
    "    show(plots[label])"
   ]
  },
  {
   "cell_type": "code",
   "execution_count": 36,
   "metadata": {},
   "outputs": [],
   "source": [
    "# now get a global, unique value for ND and NRSME for the 7 days in the test dataset"
   ]
  },
  {
   "cell_type": "code",
   "execution_count": 37,
   "metadata": {},
   "outputs": [],
   "source": [
    "global_df = pd.DataFrame(columns=['customer_id', 'timestamp', 'prediction', 'target'])"
   ]
  },
  {
   "cell_type": "code",
   "execution_count": 38,
   "metadata": {},
   "outputs": [],
   "source": [
    "# starting timestamps to predict over a complete day\n",
    "start_row_ids = [0, 24, 48, 72, 96, 120, 144]"
   ]
  },
  {
   "cell_type": "code",
   "execution_count": 39,
   "metadata": {},
   "outputs": [],
   "source": [
    "# iterate over customer_ids\n",
    "for customer_id in customer_ids:\n",
    "    \n",
    "    # for each customer, iterate on starting rows for each day\n",
    "    for start_row_id in start_row_ids:\n",
    "        # make a buffer dataframe for one-day predictions\n",
    "        buffer_df = pd.DataFrame()\n",
    "        # populate the buffer dataframe\n",
    "\n",
    "        # build a 24-time repeated list for the customer_id column\n",
    "        buffer_df['customer_id'] = 24*[customer_id]\n",
    "        # remember that predictions_detail dataframe stores lists,\n",
    "        # then the index required to retrieve the list contents is the row index (find out why, later...)\n",
    "        buffer_df['timestamp'] = pd.to_datetime(\n",
    "            predictions_detail[customer_id]['string_timestamps'][start_row_id:start_row_id+1][start_row_id]\n",
    "        )\n",
    "        buffer_df['prediction'] = \\\n",
    "            predictions_detail[customer_id]['predictions'][start_row_id:start_row_id+1][start_row_id]\n",
    "\n",
    "        buffer_df['target'] = \\\n",
    "            predictions_detail[customer_id]['targets'][start_row_id:start_row_id+1][start_row_id]\n",
    "\n",
    "        # buffer_df = buffer_df.set_index('timestamp')\n",
    "\n",
    "        global_df = pd.concat([global_df, buffer_df])"
   ]
  },
  {
   "cell_type": "code",
   "execution_count": 40,
   "metadata": {},
   "outputs": [
    {
     "data": {
      "text/html": [
       "<div>\n",
       "<style scoped>\n",
       "    .dataframe tbody tr th:only-of-type {\n",
       "        vertical-align: middle;\n",
       "    }\n",
       "\n",
       "    .dataframe tbody tr th {\n",
       "        vertical-align: top;\n",
       "    }\n",
       "\n",
       "    .dataframe thead th {\n",
       "        text-align: right;\n",
       "    }\n",
       "</style>\n",
       "<table border=\"1\" class=\"dataframe\">\n",
       "  <thead>\n",
       "    <tr style=\"text-align: right;\">\n",
       "      <th></th>\n",
       "      <th>customer_id</th>\n",
       "      <th>timestamp</th>\n",
       "      <th>prediction</th>\n",
       "      <th>target</th>\n",
       "    </tr>\n",
       "  </thead>\n",
       "  <tbody>\n",
       "    <tr>\n",
       "      <th>0</th>\n",
       "      <td>MT_320</td>\n",
       "      <td>2014-09-01 00:00:00</td>\n",
       "      <td>69.997803</td>\n",
       "      <td>74.781215</td>\n",
       "    </tr>\n",
       "    <tr>\n",
       "      <th>1</th>\n",
       "      <td>MT_320</td>\n",
       "      <td>2014-09-01 01:00:00</td>\n",
       "      <td>69.530457</td>\n",
       "      <td>69.396600</td>\n",
       "    </tr>\n",
       "    <tr>\n",
       "      <th>2</th>\n",
       "      <td>MT_320</td>\n",
       "      <td>2014-09-01 02:00:00</td>\n",
       "      <td>66.366066</td>\n",
       "      <td>63.776477</td>\n",
       "    </tr>\n",
       "    <tr>\n",
       "      <th>3</th>\n",
       "      <td>MT_320</td>\n",
       "      <td>2014-09-01 03:00:00</td>\n",
       "      <td>62.189232</td>\n",
       "      <td>64.335284</td>\n",
       "    </tr>\n",
       "    <tr>\n",
       "      <th>4</th>\n",
       "      <td>MT_320</td>\n",
       "      <td>2014-09-01 04:00:00</td>\n",
       "      <td>55.775852</td>\n",
       "      <td>61.266722</td>\n",
       "    </tr>\n",
       "    <tr>\n",
       "      <th>...</th>\n",
       "      <td>...</td>\n",
       "      <td>...</td>\n",
       "      <td>...</td>\n",
       "      <td>...</td>\n",
       "    </tr>\n",
       "    <tr>\n",
       "      <th>19</th>\n",
       "      <td>MT_330</td>\n",
       "      <td>2014-09-07 19:00:00</td>\n",
       "      <td>129.202454</td>\n",
       "      <td>141.406250</td>\n",
       "    </tr>\n",
       "    <tr>\n",
       "      <th>20</th>\n",
       "      <td>MT_330</td>\n",
       "      <td>2014-09-07 20:00:00</td>\n",
       "      <td>121.608742</td>\n",
       "      <td>130.750000</td>\n",
       "    </tr>\n",
       "    <tr>\n",
       "      <th>21</th>\n",
       "      <td>MT_330</td>\n",
       "      <td>2014-09-07 21:00:00</td>\n",
       "      <td>117.416702</td>\n",
       "      <td>134.042188</td>\n",
       "    </tr>\n",
       "    <tr>\n",
       "      <th>22</th>\n",
       "      <td>MT_330</td>\n",
       "      <td>2014-09-07 22:00:00</td>\n",
       "      <td>93.051590</td>\n",
       "      <td>100.467187</td>\n",
       "    </tr>\n",
       "    <tr>\n",
       "      <th>23</th>\n",
       "      <td>MT_330</td>\n",
       "      <td>2014-09-07 23:00:00</td>\n",
       "      <td>60.971844</td>\n",
       "      <td>56.967187</td>\n",
       "    </tr>\n",
       "  </tbody>\n",
       "</table>\n",
       "<p>1848 rows × 4 columns</p>\n",
       "</div>"
      ],
      "text/plain": [
       "   customer_id           timestamp  prediction      target\n",
       "0       MT_320 2014-09-01 00:00:00   69.997803   74.781215\n",
       "1       MT_320 2014-09-01 01:00:00   69.530457   69.396600\n",
       "2       MT_320 2014-09-01 02:00:00   66.366066   63.776477\n",
       "3       MT_320 2014-09-01 03:00:00   62.189232   64.335284\n",
       "4       MT_320 2014-09-01 04:00:00   55.775852   61.266722\n",
       "..         ...                 ...         ...         ...\n",
       "19      MT_330 2014-09-07 19:00:00  129.202454  141.406250\n",
       "20      MT_330 2014-09-07 20:00:00  121.608742  130.750000\n",
       "21      MT_330 2014-09-07 21:00:00  117.416702  134.042188\n",
       "22      MT_330 2014-09-07 22:00:00   93.051590  100.467187\n",
       "23      MT_330 2014-09-07 23:00:00   60.971844   56.967187\n",
       "\n",
       "[1848 rows x 4 columns]"
      ]
     },
     "execution_count": 40,
     "metadata": {},
     "output_type": "execute_result"
    }
   ],
   "source": [
    "global_df"
   ]
  },
  {
   "cell_type": "markdown",
   "metadata": {},
   "source": [
    "### over the 7 days of the test dataset, daily forecasting windows, starting at midnight (2014-09-0X 00:00:00)"
   ]
  },
  {
   "cell_type": "code",
   "execution_count": 41,
   "metadata": {},
   "outputs": [
    {
     "data": {
      "text/plain": [
       "38.7537443218111"
      ]
     },
     "execution_count": 41,
     "metadata": {},
     "output_type": "execute_result"
    }
   ],
   "source": [
    "# get a global value for MAE\n",
    "global_mae = mean_absolute_error(global_df['prediction'], global_df['target'])\n",
    "global_mae"
   ]
  },
  {
   "cell_type": "code",
   "execution_count": 42,
   "metadata": {},
   "outputs": [
    {
     "data": {
      "text/plain": [
       "498.16469337378595"
      ]
     },
     "execution_count": 42,
     "metadata": {},
     "output_type": "execute_result"
    }
   ],
   "source": [
    "# get a global average for true values\n",
    "global_true_values_average = np.mean(global_df['target'])\n",
    "global_true_values_average"
   ]
  },
  {
   "cell_type": "code",
   "execution_count": 43,
   "metadata": {},
   "outputs": [
    {
     "data": {
      "text/plain": [
       "0.07779303679543013"
      ]
     },
     "execution_count": 43,
     "metadata": {},
     "output_type": "execute_result"
    }
   ],
   "source": [
    "# get a global value for ND\n",
    "global_nd = global_mae/global_true_values_average\n",
    "global_nd"
   ]
  },
  {
   "cell_type": "code",
   "execution_count": 44,
   "metadata": {},
   "outputs": [
    {
     "data": {
      "text/plain": [
       "80.13435767330789"
      ]
     },
     "execution_count": 44,
     "metadata": {},
     "output_type": "execute_result"
    }
   ],
   "source": [
    "# get a global value for RMSE\n",
    "global_rmse = sqrt(mean_squared_error(global_df['prediction'], global_df['target']))\n",
    "global_rmse"
   ]
  },
  {
   "cell_type": "code",
   "execution_count": 45,
   "metadata": {},
   "outputs": [
    {
     "data": {
      "text/plain": [
       "0.16085916713728443"
      ]
     },
     "execution_count": 45,
     "metadata": {},
     "output_type": "execute_result"
    }
   ],
   "source": [
    "# get a global value for NRMSE\n",
    "global_nrmse = global_rmse/global_true_values_average\n",
    "global_nrmse"
   ]
  },
  {
   "cell_type": "code",
   "execution_count": 46,
   "metadata": {},
   "outputs": [
    {
     "data": {
      "text/plain": [
       "0.07562048439581362"
      ]
     },
     "execution_count": 46,
     "metadata": {},
     "output_type": "execute_result"
    }
   ],
   "source": [
    "# get a global vale for SMAPE\n",
    "global_smape = symmetric_mean_absolute_percentage_error(global_df['prediction'], global_df['target'])\n",
    "global_smape"
   ]
  },
  {
   "cell_type": "code",
   "execution_count": 47,
   "metadata": {},
   "outputs": [
    {
     "data": {
      "text/html": [
       "\n",
       "\n",
       "\n",
       "\n",
       "\n",
       "\n",
       "  <div class=\"bk-root\" id=\"5e352c26-153e-48c2-9442-0a3aa3675630\" data-root-id=\"3433\"></div>\n"
      ]
     },
     "metadata": {},
     "output_type": "display_data"
    },
    {
     "data": {
      "application/javascript": [
       "(function(root) {\n",
       "  function embed_document(root) {\n",
       "    \n",
       "  var docs_json = {\"9bb870e3-3f2f-489e-90bf-c8f00a77de89\":{\"roots\":{\"references\":[{\"attributes\":{\"below\":[{\"id\":\"3444\",\"type\":\"DatetimeAxis\"}],\"center\":[{\"id\":\"3448\",\"type\":\"Grid\"},{\"id\":\"3453\",\"type\":\"Grid\"},{\"id\":\"3490\",\"type\":\"Legend\"}],\"left\":[{\"id\":\"3449\",\"type\":\"LinearAxis\"}],\"plot_height\":320,\"plot_width\":960,\"renderers\":[{\"id\":\"3470\",\"type\":\"GlyphRenderer\"},{\"id\":\"3495\",\"type\":\"GlyphRenderer\"}],\"title\":{\"id\":\"3434\",\"type\":\"Title\"},\"toolbar\":{\"id\":\"3460\",\"type\":\"Toolbar\"},\"x_range\":{\"id\":\"3436\",\"type\":\"DataRange1d\"},\"x_scale\":{\"id\":\"3440\",\"type\":\"LinearScale\"},\"y_range\":{\"id\":\"3438\",\"type\":\"DataRange1d\"},\"y_scale\":{\"id\":\"3442\",\"type\":\"LinearScale\"}},\"id\":\"3433\",\"subtype\":\"Figure\",\"type\":\"Plot\"},{\"attributes\":{},\"id\":\"3455\",\"type\":\"WheelZoomTool\"},{\"attributes\":{\"text\":\"Predictions over the test dataset for MT_320\"},\"id\":\"3434\",\"type\":\"Title\"},{\"attributes\":{\"overlay\":{\"id\":\"3477\",\"type\":\"BoxAnnotation\"}},\"id\":\"3456\",\"type\":\"BoxZoomTool\"},{\"attributes\":{\"months\":[0,2,4,6,8,10]},\"id\":\"3486\",\"type\":\"MonthsTicker\"},{\"attributes\":{\"callback\":null},\"id\":\"3436\",\"type\":\"DataRange1d\"},{\"attributes\":{},\"id\":\"3457\",\"type\":\"SaveTool\"},{\"attributes\":{},\"id\":\"3659\",\"type\":\"UnionRenderers\"},{\"attributes\":{\"days\":[1,2,3,4,5,6,7,8,9,10,11,12,13,14,15,16,17,18,19,20,21,22,23,24,25,26,27,28,29,30,31]},\"id\":\"3481\",\"type\":\"DaysTicker\"},{\"attributes\":{\"ticker\":{\"id\":\"3445\",\"type\":\"DatetimeTicker\"}},\"id\":\"3448\",\"type\":\"Grid\"},{\"attributes\":{\"num_minor_ticks\":5,\"tickers\":[{\"id\":\"3478\",\"type\":\"AdaptiveTicker\"},{\"id\":\"3479\",\"type\":\"AdaptiveTicker\"},{\"id\":\"3480\",\"type\":\"AdaptiveTicker\"},{\"id\":\"3481\",\"type\":\"DaysTicker\"},{\"id\":\"3482\",\"type\":\"DaysTicker\"},{\"id\":\"3483\",\"type\":\"DaysTicker\"},{\"id\":\"3484\",\"type\":\"DaysTicker\"},{\"id\":\"3485\",\"type\":\"MonthsTicker\"},{\"id\":\"3486\",\"type\":\"MonthsTicker\"},{\"id\":\"3487\",\"type\":\"MonthsTicker\"},{\"id\":\"3488\",\"type\":\"MonthsTicker\"},{\"id\":\"3489\",\"type\":\"YearsTicker\"}]},\"id\":\"3445\",\"type\":\"DatetimeTicker\"},{\"attributes\":{},\"id\":\"3458\",\"type\":\"ResetTool\"},{\"attributes\":{\"active_drag\":\"auto\",\"active_inspect\":\"auto\",\"active_multi\":null,\"active_scroll\":\"auto\",\"active_tap\":\"auto\",\"tools\":[{\"id\":\"3454\",\"type\":\"PanTool\"},{\"id\":\"3455\",\"type\":\"WheelZoomTool\"},{\"id\":\"3456\",\"type\":\"BoxZoomTool\"},{\"id\":\"3457\",\"type\":\"SaveTool\"},{\"id\":\"3458\",\"type\":\"ResetTool\"},{\"id\":\"3459\",\"type\":\"HelpTool\"}]},\"id\":\"3460\",\"type\":\"Toolbar\"},{\"attributes\":{\"months\":[0,1,2,3,4,5,6,7,8,9,10,11]},\"id\":\"3485\",\"type\":\"MonthsTicker\"},{\"attributes\":{\"callback\":null},\"id\":\"3438\",\"type\":\"DataRange1d\"},{\"attributes\":{\"line_color\":\"red\",\"x\":{\"field\":\"x\"},\"y\":{\"field\":\"y\"}},\"id\":\"3468\",\"type\":\"Line\"},{\"attributes\":{\"line_alpha\":0.1,\"line_color\":\"#1f77b4\",\"x\":{\"field\":\"x\"},\"y\":{\"field\":\"y\"}},\"id\":\"3494\",\"type\":\"Line\"},{\"attributes\":{\"line_color\":\"blue\",\"x\":{\"field\":\"x\"},\"y\":{\"field\":\"y\"}},\"id\":\"3493\",\"type\":\"Line\"},{\"attributes\":{},\"id\":\"3459\",\"type\":\"HelpTool\"},{\"attributes\":{\"label\":{\"value\":\"targets\"},\"renderers\":[{\"id\":\"3495\",\"type\":\"GlyphRenderer\"}]},\"id\":\"3517\",\"type\":\"LegendItem\"},{\"attributes\":{},\"id\":\"3658\",\"type\":\"Selection\"},{\"attributes\":{\"callback\":null,\"data\":{\"x\":{\"__ndarray__\":\"AACALeiCdEIAAGic64J0QgAAUAvvgnRCAAA4evKCdEIAACDp9YJ0QgAACFj5gnRCAADwxvyCdEIAANg1AIN0QgAAwKQDg3RCAACoEweDdEIAAJCCCoN0QgAAePENg3RCAABgYBGDdEIAAEjPFIN0QgAAMD4Yg3RCAAAYrRuDdEIAAAAcH4N0QgAA6Ioig3RCAADQ+SWDdEIAALhoKYN0QgAAoNcsg3RCAACIRjCDdEIAAHC1M4N0QgAAWCQ3g3RCAABAkzqDdEIAACgCPoN0QgAAEHFBg3RCAAD430SDdEIAAOBOSIN0QgAAyL1Lg3RCAACwLE+DdEIAAJibUoN0QgAAgApWg3RCAABoeVmDdEIAAFDoXIN0QgAAOFdgg3RCAAAgxmODdEIAAAg1Z4N0QgAA8KNqg3RCAADYEm6DdEIAAMCBcYN0QgAAqPB0g3RCAACQX3iDdEIAAHjOe4N0QgAAYD1/g3RCAABIrIKDdEIAADAbhoN0QgAAGIqJg3RCAAAA+YyDdEIAAOhnkIN0QgAA0NaTg3RCAAC4RZeDdEIAAKC0moN0QgAAiCOeg3RCAABwkqGDdEIAAFgBpYN0QgAAQHCog3RCAAAo36uDdEIAABBOr4N0QgAA+Lyyg3RCAADgK7aDdEIAAMiauYN0QgAAsAm9g3RCAACYeMCDdEIAAIDnw4N0QgAAaFbHg3RCAABQxcqDdEIAADg0zoN0QgAAIKPRg3RCAAAIEtWDdEIAAPCA2IN0QgAA2O/bg3RCAADAXt+DdEIAAKjN4oN0QgAAkDzmg3RCAAB4q+mDdEIAAGAa7YN0QgAASInwg3RCAAAw+PODdEIAABhn94N0QgAAANb6g3RCAADoRP6DdEIAANCzAYR0QgAAuCIFhHRCAACgkQiEdEIAAIgADIR0QgAAcG8PhHRCAABY3hKEdEIAAEBNFoR0QgAAKLwZhHRCAAAQKx2EdEIAAPiZIIR0QgAA4AgkhHRCAADIdyeEdEIAALDmKoR0QgAAmFUuhHRCAACAxDGEdEIAAGgzNYR0QgAAUKI4hHRCAAA4ETyEdEIAACCAP4R0QgAACO9ChHRCAADwXUaEdEIAANjMSYR0QgAAwDtNhHRCAACoqlCEdEIAAJAZVIR0QgAAeIhXhHRCAABg91qEdEIAAEhmXoR0QgAAMNVhhHRCAAAYRGWEdEIAAACzaIR0QgAA6CFshHRCAADQkG+EdEIAALj/coR0QgAAoG52hHRCAACI3XmEdEIAAHBMfYR0QgAAWLuAhHRCAABAKoSEdEIAACiZh4R0QgAAEAiLhHRCAAD4do6EdEIAAODlkYR0QgAAyFSVhHRCAACww5iEdEIAAJgynIR0QgAAgKGfhHRCAABoEKOEdEIAAFB/poR0QgAAOO6phHRCAAAgXa2EdEIAAAjMsIR0QgAA8Dq0hHRCAADYqbeEdEIAAMAYu4R0QgAAqIe+hHRCAACQ9sGEdEIAAHhlxYR0QgAAYNTIhHRCAABIQ8yEdEIAADCyz4R0QgAAGCHThHRCAAAAkNaEdEIAAOj+2YR0QgAA0G3dhHRCAAC43OCEdEIAAKBL5IR0QgAAiLrnhHRCAABwKeuEdEIAAFiY7oR0QgAAQAfyhHRCAAAodvWEdEIAABDl+IR0QgAA+FP8hHRCAADgwv+EdEIAAMgxA4V0QgAAsKAGhXRCAACYDwqFdEIAAIB+DYV0QgAAaO0QhXRCAABQXBSFdEIAADjLF4V0QgAAIDobhXRCAAAIqR6FdEIAAPAXIoV0QgAA2IYlhXRC\",\"dtype\":\"float64\",\"shape\":[168]},\"y\":{\"__ndarray__\":\"Qpvgbf+xUkC4/QfkYVlRQPArZppj409ACV8zTHUVUEDpyrn1I6JOQMXRoUn+xU5Aqg3Qp7Q3WkBAixiqrHNUQHNqC9iL9lNAEjuxEztRV0DlY6JHhZ1bQMjPKPEzemFAxa0fEcTJYkCgYaor5x5kQGiU+BklhmVAwXZgrh3gY0DBPiQB/BVkQLh2YK4d4GNA+nrRIoYaY0DWrR8RxKFiQLWkP6FL72BAthM7sRN7XkD9rKLGSMFbQPEjgjg6BFhAagvYixbhUkD/hqc1ROFSQIK777h4WVFAMkx15dwaUUDGyzZAnzJQQDBW0p/QZVBAVocm+ResWkBnFTVGCjxWQKLA3XdcXFVAsHTnVVPMWUCcSf4Fa5lhQFRpD8o8Y2FAQjytIYosY0CX7EMSwLdiQNQUN79ihmJAh68ZprrSYkDozqumuKFiQG1y7zm1bWBAyTJO7j33YUB57cBcO2hhQCALWchCpmFAVIWtoE0gYUB5NsHb/oNeQCXzrKLG2FpAUOjSnVf9VUAB/oanNcRUQAdnF66e5FNA9h0XL9vAU0CSg7MLV89SQB8ZqDPLKFNAtLaAvWjxXEDWcfGyDcBYQHLVFDe/QlhAjm2APqUdXUCU/oQu3elhQIRAHpbyZmJA3upJfclmZEAIPSpsBQ1kQAvUmWWcnGRAkIUsZCGzZEDSpTuvmsphQP90ZhknH2JAes+pLWAfYkBTXTm3fixjQLkr59aPAGJAkOrKufWrYEAavO0/II9cQNX0pje9OVhAWsRQZR1JUkBEjZECd39RQNwAfUp7kE5A+JjoUWErTUAvYC9axJBLQGUfkgD+ZkxA4eDswtUjXECwGx8TPVpXQGVwduHqOVhAi6munFuvW0D+AXlYyhtfQE5lHRmoI2JA586rpriBZEAk955TW1BkQIxCl+68ymFAiCxkIQvZYEBlwtcMU91gQIehyjoy4GJAgDg6NMmPYUANUeTg7OpgQJlpjo0QvmBAc80w1ZVjX0DPKmqMFMhdQGlu/YggrlhA+xFBHB0qUUDf9h+QhzVRQHJshDBWEk9AnORfsJaQS0DSp7QHZd5KQK8VtAnelkpApbaAvWjhWEBXUWOkwB1VQCgLWchCBlZA6VfMNMdWXkB/VlFjpAhjQDbNsRHCwGJAkHfd+JjAZEBfsJbwNbNjQN4Eb/sPuGJABWsJXzNEYUAXM82xEaJhQMhCFrKQfWNAXUGb4G1HY0Ak955TW5hiQOvk3nNqa2NACFnIQhbCYUBrhDBW0j9fQEX6E7p011dAIwXuvuPCUUC+6U1venNSQIybXzHTfFBAjBI/o8TvTUBrgD6lPahNQIGvGaa6ck1AUIWtoE0gW0D8pje96X1XQMCS/oQuPVlA586rprghYEAeZppjIwRjQPqIII4OxWRABHvRIobSZEAEbYK3/ZdmQK6unFs/qmNA8M6rprjJYkAIc+3AXENiQAIM1hK+rmJAtJhpjo0IY0CSAnffcVljQPDAXDsw12JAbIA+pT1gYEBw60cEcdReQDUs5V03rlhAPDJQZ5YBUkClvOvGxzRSQCvtQZln9U9AXbIPSQAfT0DRnVdNcRNOQGK2AfqUlk1Af2iSf8FKW0DF3/C0hnhYQH+lvOvG91ZA8ResJXxtX0AO3H3HxZNjQNZ142Oi/2JANtsAfUprZECPoco6MphkQBItYqiyXmJAuJCFLGQxYkADe9EihhpjQGl4WkMU6WNAy0xzbIRQYkBsnNx7TsViQDhYS/iaEWNAzJ/QpTtXYEBmwF60iCFeQGaMFLj7HlhA\",\"dtype\":\"float64\",\"shape\":[168]}},\"selected\":{\"id\":\"3658\",\"type\":\"Selection\"},\"selection_policy\":{\"id\":\"3659\",\"type\":\"UnionRenderers\"}},\"id\":\"3492\",\"type\":\"ColumnDataSource\"},{\"attributes\":{},\"id\":\"3440\",\"type\":\"LinearScale\"},{\"attributes\":{},\"id\":\"3504\",\"type\":\"UnionRenderers\"},{\"attributes\":{},\"id\":\"3442\",\"type\":\"LinearScale\"},{\"attributes\":{\"items\":[{\"id\":\"3491\",\"type\":\"LegendItem\"},{\"id\":\"3517\",\"type\":\"LegendItem\"}]},\"id\":\"3490\",\"type\":\"Legend\"},{\"attributes\":{\"months\":[0,4,8]},\"id\":\"3487\",\"type\":\"MonthsTicker\"},{\"attributes\":{},\"id\":\"3489\",\"type\":\"YearsTicker\"},{\"attributes\":{},\"id\":\"3503\",\"type\":\"Selection\"},{\"attributes\":{\"data_source\":{\"id\":\"3492\",\"type\":\"ColumnDataSource\"},\"glyph\":{\"id\":\"3493\",\"type\":\"Line\"},\"hover_glyph\":null,\"muted_glyph\":null,\"nonselection_glyph\":{\"id\":\"3494\",\"type\":\"Line\"},\"selection_glyph\":null,\"view\":{\"id\":\"3496\",\"type\":\"CDSView\"}},\"id\":\"3495\",\"type\":\"GlyphRenderer\"},{\"attributes\":{\"axis_label\":\"Timestmap\",\"formatter\":{\"id\":\"3474\",\"type\":\"DatetimeTickFormatter\"},\"ticker\":{\"id\":\"3445\",\"type\":\"DatetimeTicker\"}},\"id\":\"3444\",\"type\":\"DatetimeAxis\"},{\"attributes\":{\"data_source\":{\"id\":\"3467\",\"type\":\"ColumnDataSource\"},\"glyph\":{\"id\":\"3468\",\"type\":\"Line\"},\"hover_glyph\":null,\"muted_glyph\":null,\"nonselection_glyph\":{\"id\":\"3469\",\"type\":\"Line\"},\"selection_glyph\":null,\"view\":{\"id\":\"3471\",\"type\":\"CDSView\"}},\"id\":\"3470\",\"type\":\"GlyphRenderer\"},{\"attributes\":{\"line_alpha\":0.1,\"line_color\":\"#1f77b4\",\"x\":{\"field\":\"x\"},\"y\":{\"field\":\"y\"}},\"id\":\"3469\",\"type\":\"Line\"},{\"attributes\":{\"base\":24,\"mantissas\":[1,2,4,6,8,12],\"max_interval\":43200000.0,\"min_interval\":3600000.0,\"num_minor_ticks\":0},\"id\":\"3480\",\"type\":\"AdaptiveTicker\"},{\"attributes\":{\"days\":[1,15]},\"id\":\"3484\",\"type\":\"DaysTicker\"},{\"attributes\":{\"source\":{\"id\":\"3467\",\"type\":\"ColumnDataSource\"}},\"id\":\"3471\",\"type\":\"CDSView\"},{\"attributes\":{},\"id\":\"3450\",\"type\":\"BasicTicker\"},{\"attributes\":{\"dimension\":1,\"ticker\":{\"id\":\"3450\",\"type\":\"BasicTicker\"}},\"id\":\"3453\",\"type\":\"Grid\"},{\"attributes\":{\"callback\":null,\"data\":{\"x\":{\"__ndarray__\":\"AACALeiCdEIAAGic64J0QgAAUAvvgnRCAAA4evKCdEIAACDp9YJ0QgAACFj5gnRCAADwxvyCdEIAANg1AIN0QgAAwKQDg3RCAACoEweDdEIAAJCCCoN0QgAAePENg3RCAABgYBGDdEIAAEjPFIN0QgAAMD4Yg3RCAAAYrRuDdEIAAAAcH4N0QgAA6Ioig3RCAADQ+SWDdEIAALhoKYN0QgAAoNcsg3RCAACIRjCDdEIAAHC1M4N0QgAAWCQ3g3RCAABAkzqDdEIAACgCPoN0QgAAEHFBg3RCAAD430SDdEIAAOBOSIN0QgAAyL1Lg3RCAACwLE+DdEIAAJibUoN0QgAAgApWg3RCAABoeVmDdEIAAFDoXIN0QgAAOFdgg3RCAAAgxmODdEIAAAg1Z4N0QgAA8KNqg3RCAADYEm6DdEIAAMCBcYN0QgAAqPB0g3RCAACQX3iDdEIAAHjOe4N0QgAAYD1/g3RCAABIrIKDdEIAADAbhoN0QgAAGIqJg3RCAAAA+YyDdEIAAOhnkIN0QgAA0NaTg3RCAAC4RZeDdEIAAKC0moN0QgAAiCOeg3RCAABwkqGDdEIAAFgBpYN0QgAAQHCog3RCAAAo36uDdEIAABBOr4N0QgAA+Lyyg3RCAADgK7aDdEIAAMiauYN0QgAAsAm9g3RCAACYeMCDdEIAAIDnw4N0QgAAaFbHg3RCAABQxcqDdEIAADg0zoN0QgAAIKPRg3RCAAAIEtWDdEIAAPCA2IN0QgAA2O/bg3RCAADAXt+DdEIAAKjN4oN0QgAAkDzmg3RCAAB4q+mDdEIAAGAa7YN0QgAASInwg3RCAAAw+PODdEIAABhn94N0QgAAANb6g3RCAADoRP6DdEIAANCzAYR0QgAAuCIFhHRCAACgkQiEdEIAAIgADIR0QgAAcG8PhHRCAABY3hKEdEIAAEBNFoR0QgAAKLwZhHRCAAAQKx2EdEIAAPiZIIR0QgAA4AgkhHRCAADIdyeEdEIAALDmKoR0QgAAmFUuhHRCAACAxDGEdEIAAGgzNYR0QgAAUKI4hHRCAAA4ETyEdEIAACCAP4R0QgAACO9ChHRCAADwXUaEdEIAANjMSYR0QgAAwDtNhHRCAACoqlCEdEIAAJAZVIR0QgAAeIhXhHRCAABg91qEdEIAAEhmXoR0QgAAMNVhhHRCAAAYRGWEdEIAAACzaIR0QgAA6CFshHRCAADQkG+EdEIAALj/coR0QgAAoG52hHRCAACI3XmEdEIAAHBMfYR0QgAAWLuAhHRCAABAKoSEdEIAACiZh4R0QgAAEAiLhHRCAAD4do6EdEIAAODlkYR0QgAAyFSVhHRCAACww5iEdEIAAJgynIR0QgAAgKGfhHRCAABoEKOEdEIAAFB/poR0QgAAOO6phHRCAAAgXa2EdEIAAAjMsIR0QgAA8Dq0hHRCAADYqbeEdEIAAMAYu4R0QgAAqIe+hHRCAACQ9sGEdEIAAHhlxYR0QgAAYNTIhHRCAABIQ8yEdEIAADCyz4R0QgAAGCHThHRCAAAAkNaEdEIAAOj+2YR0QgAA0G3dhHRCAAC43OCEdEIAAKBL5IR0QgAAiLrnhHRCAABwKeuEdEIAAFiY7oR0QgAAQAfyhHRCAAAodvWEdEIAABDl+IR0QgAA+FP8hHRCAADgwv+EdEIAAMgxA4V0QgAAsKAGhXRCAACYDwqFdEIAAIB+DYV0QgAAaO0QhXRCAABQXBSFdEIAADjLF4V0QgAAIDobhXRCAAAIqR6FdEIAAPAXIoV0QgAA2IYlhXRC\",\"dtype\":\"float64\",\"shape\":[168]},\"y\":{\"__ndarray__\":\"AAAAANx/UUAAAAAA82FRQAAAAKBtl1BAAAAAwDgYT0AAAAAgT+NLQAAAAED7XUtAAAAAIJBzWEAAAACAaOVWQAAAACAoelZAAAAAwHOfXUAAAABgeatfQAAAAIDNd2FAAAAAgD1BYkAAAADg+RZiQAAAAEDuM2FAAAAAQG/1YUAAAABgOfthQAAAAAAMdWJAAAAAoBM5Y0AAAABgfbViQAAAAGCFiGFAAAAA4Pn0YUAAAADgc+VeQAAAAEBj0FdAAAAAYEsTU0AAAAAgQ+ZSQAAAACCvY1FAAAAAICjyT0AAAABgwatNQAAAAOABWExAAAAAAPEsV0AAAABA8KtVQAAAAMCfe1hAAAAAACLbXUAAAABgEcRfQAAAAGBOSGJAAAAAIOs7Y0AAAACAh7JiQAAAAEDprGFAAAAAgJ3dYkAAAACA2v1iQAAAAGBf92JAAAAAYA34Y0AAAACAQ5FiQAAAACBikGFAAAAAAJX0YUAAAABgqx1gQAAAAMB3blpAAAAAQJ5JVUAAAAAAZ0pUQAAAAKAFdFNAAAAAADX3UUAAAADAtBdQQAAAAEDhyE5AAAAAAExsWEAAAADgs7lXQAAAAEBEKFlAAAAAoO8RXUAAAABgSjJgQAAAAMCY0WFAAAAA4BlXYkAAAACAm8JiQAAAAIDvI2JAAAAAQLhqYkAAAADgtpxiQAAAAAAGkmNAAAAAYEyYY0AAAACgV65iQAAAAOB5J2JAAAAAwFkxYUAAAAAgZPFeQAAAAEDSLFdAAAAAwIRUVEAAAAAA9ulTQAAAAGDby1JAAAAAQOleUUAAAACA9X9QQAAAACDkvU5AAAAAoMOqWEAAAAAAzwtWQAAAAOB7y1dAAAAAoNDTXEAAAACgcExgQAAAAIDzAWFAAAAAwPrAYUAAAABAq7phQAAAAKBymmFAAAAAgMb7YUAAAADA0/xhQAAAAKAzKGNAAAAAoDBxY0AAAAAAa9FhQAAAAGDxzmFAAAAAYKCKYUAAAABgMpldQAAAAADxsVZAAAAAQLEiVEAAAAAA7FdTQAAAAEBJiVFAAAAAQIggUEAAAAAgQn5PQAAAAADwV09AAAAAQEMzWEAAAACg/glWQAAAAOCQ11ZAAAAAoELtXEAAAABAX9tfQAAAAEA+qGBAAAAAgOYCYUAAAAAAxNdgQAAAACCMuGBAAAAAAKaDYEAAAADgJohhQAAAAAAP+WFAAAAAwBaOYUAAAACgb8pgQAAAAIA0ZWFAAAAAIF0FYEAAAADAFdlaQAAAAKBgFlRAAAAAwAcpVEAAAADARApTQAAAAECaE1JAAAAA4MvCUEAAAABgYJJOQAAAAGB2Ak1AAAAAQMIgV0AAAACgKRlWQAAAAMA/61ZAAAAAQJtoW0AAAADg/I1gQAAAAMDvIWBAAAAAwD1nYUAAAACAFjBhQAAAAMCG1l9AAAAAID3sX0AAAAAAQDxgQAAAAICydWJAAAAAIPVTYkAAAACgxjNhQAAAAOBm+mBAAAAA4JCLYEAAAAAgj4haQAAAAEBZZ1RAAAAAQEbMU0AAAADAPGhTQAAAACAkI1NAAAAA4LP2UEAAAADAnX1PQAAAAGDvnFFAAAAAYO6mWUAAAABAwxtXQAAAAKBgZ1ZAAAAAoF8DXEAAAADAF5ldQAAAAKDAfmBAAAAAAHvjYUAAAACASlBgQAAAAMBSqGBAAAAAgMClX0AAAAAg9m9gQAAAAKArHGJAAAAAgAedYkAAAADABgViQAAAAID4FGBAAAAAoGu4XkAAAAAgzslZQAAAAMBZcVNA\",\"dtype\":\"float64\",\"shape\":[168]}},\"selected\":{\"id\":\"3503\",\"type\":\"Selection\"},\"selection_policy\":{\"id\":\"3504\",\"type\":\"UnionRenderers\"}},\"id\":\"3467\",\"type\":\"ColumnDataSource\"},{\"attributes\":{\"source\":{\"id\":\"3492\",\"type\":\"ColumnDataSource\"}},\"id\":\"3496\",\"type\":\"CDSView\"},{\"attributes\":{\"label\":{\"value\":\"predictions\"},\"renderers\":[{\"id\":\"3470\",\"type\":\"GlyphRenderer\"}]},\"id\":\"3491\",\"type\":\"LegendItem\"},{\"attributes\":{\"axis_label\":\"Value\",\"formatter\":{\"id\":\"3476\",\"type\":\"BasicTickFormatter\"},\"ticker\":{\"id\":\"3450\",\"type\":\"BasicTicker\"}},\"id\":\"3449\",\"type\":\"LinearAxis\"},{\"attributes\":{\"days\":[1,4,7,10,13,16,19,22,25,28]},\"id\":\"3482\",\"type\":\"DaysTicker\"},{\"attributes\":{\"mantissas\":[1,2,5],\"max_interval\":500.0,\"num_minor_ticks\":0},\"id\":\"3478\",\"type\":\"AdaptiveTicker\"},{\"attributes\":{\"bottom_units\":\"screen\",\"fill_alpha\":{\"value\":0.5},\"fill_color\":{\"value\":\"lightgrey\"},\"left_units\":\"screen\",\"level\":\"overlay\",\"line_alpha\":{\"value\":1.0},\"line_color\":{\"value\":\"black\"},\"line_dash\":[4,4],\"line_width\":{\"value\":2},\"render_mode\":\"css\",\"right_units\":\"screen\",\"top_units\":\"screen\"},\"id\":\"3477\",\"type\":\"BoxAnnotation\"},{\"attributes\":{\"months\":[0,6]},\"id\":\"3488\",\"type\":\"MonthsTicker\"},{\"attributes\":{},\"id\":\"3476\",\"type\":\"BasicTickFormatter\"},{\"attributes\":{},\"id\":\"3474\",\"type\":\"DatetimeTickFormatter\"},{\"attributes\":{\"base\":60,\"mantissas\":[1,2,5,10,15,20,30],\"max_interval\":1800000.0,\"min_interval\":1000.0,\"num_minor_ticks\":0},\"id\":\"3479\",\"type\":\"AdaptiveTicker\"},{\"attributes\":{\"days\":[1,8,15,22]},\"id\":\"3483\",\"type\":\"DaysTicker\"},{\"attributes\":{},\"id\":\"3454\",\"type\":\"PanTool\"}],\"root_ids\":[\"3433\"]},\"title\":\"Bokeh Application\",\"version\":\"1.4.0\"}};\n",
       "  var render_items = [{\"docid\":\"9bb870e3-3f2f-489e-90bf-c8f00a77de89\",\"roots\":{\"3433\":\"5e352c26-153e-48c2-9442-0a3aa3675630\"}}];\n",
       "  root.Bokeh.embed.embed_items_notebook(docs_json, render_items);\n",
       "\n",
       "  }\n",
       "  if (root.Bokeh !== undefined) {\n",
       "    embed_document(root);\n",
       "  } else {\n",
       "    var attempts = 0;\n",
       "    var timer = setInterval(function(root) {\n",
       "      if (root.Bokeh !== undefined) {\n",
       "        clearInterval(timer);\n",
       "        embed_document(root);\n",
       "      } else {\n",
       "        attempts++;\n",
       "        if (attempts > 100) {\n",
       "          clearInterval(timer);\n",
       "          console.log(\"Bokeh: ERROR: Unable to run BokehJS code because BokehJS library is missing\");\n",
       "        }\n",
       "      }\n",
       "    }, 10, root)\n",
       "  }\n",
       "})(window);"
      ],
      "application/vnd.bokehjs_exec.v0+json": ""
     },
     "metadata": {
      "application/vnd.bokehjs_exec.v0+json": {
       "id": "3433"
      }
     },
     "output_type": "display_data"
    },
    {
     "data": {
      "text/html": [
       "\n",
       "\n",
       "\n",
       "\n",
       "\n",
       "\n",
       "  <div class=\"bk-root\" id=\"19fc15be-0fcf-4fc6-b3ab-40af75f375ef\" data-root-id=\"3804\"></div>\n"
      ]
     },
     "metadata": {},
     "output_type": "display_data"
    },
    {
     "data": {
      "application/javascript": [
       "(function(root) {\n",
       "  function embed_document(root) {\n",
       "    \n",
       "  var docs_json = {\"c5d5c287-b056-4cf4-b4fe-d02af15fd473\":{\"roots\":{\"references\":[{\"attributes\":{\"below\":[{\"id\":\"3815\",\"type\":\"DatetimeAxis\"}],\"center\":[{\"id\":\"3819\",\"type\":\"Grid\"},{\"id\":\"3824\",\"type\":\"Grid\"},{\"id\":\"3861\",\"type\":\"Legend\"}],\"left\":[{\"id\":\"3820\",\"type\":\"LinearAxis\"}],\"plot_height\":320,\"plot_width\":960,\"renderers\":[{\"id\":\"3841\",\"type\":\"GlyphRenderer\"},{\"id\":\"3866\",\"type\":\"GlyphRenderer\"}],\"title\":{\"id\":\"3805\",\"type\":\"Title\"},\"toolbar\":{\"id\":\"3831\",\"type\":\"Toolbar\"},\"x_range\":{\"id\":\"3807\",\"type\":\"DataRange1d\"},\"x_scale\":{\"id\":\"3811\",\"type\":\"LinearScale\"},\"y_range\":{\"id\":\"3809\",\"type\":\"DataRange1d\"},\"y_scale\":{\"id\":\"3813\",\"type\":\"LinearScale\"}},\"id\":\"3804\",\"subtype\":\"Figure\",\"type\":\"Plot\"},{\"attributes\":{\"line_color\":\"blue\",\"x\":{\"field\":\"x\"},\"y\":{\"field\":\"y\"}},\"id\":\"3864\",\"type\":\"Line\"},{\"attributes\":{\"days\":[1,15]},\"id\":\"3855\",\"type\":\"DaysTicker\"},{\"attributes\":{},\"id\":\"3830\",\"type\":\"HelpTool\"},{\"attributes\":{\"months\":[0,1,2,3,4,5,6,7,8,9,10,11]},\"id\":\"3856\",\"type\":\"MonthsTicker\"},{\"attributes\":{\"months\":[0,2,4,6,8,10]},\"id\":\"3857\",\"type\":\"MonthsTicker\"},{\"attributes\":{\"data_source\":{\"id\":\"3838\",\"type\":\"ColumnDataSource\"},\"glyph\":{\"id\":\"3839\",\"type\":\"Line\"},\"hover_glyph\":null,\"muted_glyph\":null,\"nonselection_glyph\":{\"id\":\"3840\",\"type\":\"Line\"},\"selection_glyph\":null,\"view\":{\"id\":\"3842\",\"type\":\"CDSView\"}},\"id\":\"3841\",\"type\":\"GlyphRenderer\"},{\"attributes\":{\"months\":[0,4,8]},\"id\":\"3858\",\"type\":\"MonthsTicker\"},{\"attributes\":{\"overlay\":{\"id\":\"3848\",\"type\":\"BoxAnnotation\"}},\"id\":\"3827\",\"type\":\"BoxZoomTool\"},{\"attributes\":{\"source\":{\"id\":\"3838\",\"type\":\"ColumnDataSource\"}},\"id\":\"3842\",\"type\":\"CDSView\"},{\"attributes\":{\"months\":[0,6]},\"id\":\"3859\",\"type\":\"MonthsTicker\"},{\"attributes\":{},\"id\":\"3845\",\"type\":\"DatetimeTickFormatter\"},{\"attributes\":{},\"id\":\"3860\",\"type\":\"YearsTicker\"},{\"attributes\":{\"items\":[{\"id\":\"3862\",\"type\":\"LegendItem\"},{\"id\":\"3888\",\"type\":\"LegendItem\"}]},\"id\":\"3861\",\"type\":\"Legend\"},{\"attributes\":{},\"id\":\"3821\",\"type\":\"BasicTicker\"},{\"attributes\":{\"label\":{\"value\":\"predictions\"},\"renderers\":[{\"id\":\"3841\",\"type\":\"GlyphRenderer\"}]},\"id\":\"3862\",\"type\":\"LegendItem\"},{\"attributes\":{},\"id\":\"3847\",\"type\":\"BasicTickFormatter\"},{\"attributes\":{\"callback\":null,\"data\":{\"x\":{\"__ndarray__\":\"AACALeiCdEIAAGic64J0QgAAUAvvgnRCAAA4evKCdEIAACDp9YJ0QgAACFj5gnRCAADwxvyCdEIAANg1AIN0QgAAwKQDg3RCAACoEweDdEIAAJCCCoN0QgAAePENg3RCAABgYBGDdEIAAEjPFIN0QgAAMD4Yg3RCAAAYrRuDdEIAAAAcH4N0QgAA6Ioig3RCAADQ+SWDdEIAALhoKYN0QgAAoNcsg3RCAACIRjCDdEIAAHC1M4N0QgAAWCQ3g3RCAABAkzqDdEIAACgCPoN0QgAAEHFBg3RCAAD430SDdEIAAOBOSIN0QgAAyL1Lg3RCAACwLE+DdEIAAJibUoN0QgAAgApWg3RCAABoeVmDdEIAAFDoXIN0QgAAOFdgg3RCAAAgxmODdEIAAAg1Z4N0QgAA8KNqg3RCAADYEm6DdEIAAMCBcYN0QgAAqPB0g3RCAACQX3iDdEIAAHjOe4N0QgAAYD1/g3RCAABIrIKDdEIAADAbhoN0QgAAGIqJg3RCAAAA+YyDdEIAAOhnkIN0QgAA0NaTg3RCAAC4RZeDdEIAAKC0moN0QgAAiCOeg3RCAABwkqGDdEIAAFgBpYN0QgAAQHCog3RCAAAo36uDdEIAABBOr4N0QgAA+Lyyg3RCAADgK7aDdEIAAMiauYN0QgAAsAm9g3RCAACYeMCDdEIAAIDnw4N0QgAAaFbHg3RCAABQxcqDdEIAADg0zoN0QgAAIKPRg3RCAAAIEtWDdEIAAPCA2IN0QgAA2O/bg3RCAADAXt+DdEIAAKjN4oN0QgAAkDzmg3RCAAB4q+mDdEIAAGAa7YN0QgAASInwg3RCAAAw+PODdEIAABhn94N0QgAAANb6g3RCAADoRP6DdEIAANCzAYR0QgAAuCIFhHRCAACgkQiEdEIAAIgADIR0QgAAcG8PhHRCAABY3hKEdEIAAEBNFoR0QgAAKLwZhHRCAAAQKx2EdEIAAPiZIIR0QgAA4AgkhHRCAADIdyeEdEIAALDmKoR0QgAAmFUuhHRCAACAxDGEdEIAAGgzNYR0QgAAUKI4hHRCAAA4ETyEdEIAACCAP4R0QgAACO9ChHRCAADwXUaEdEIAANjMSYR0QgAAwDtNhHRCAACoqlCEdEIAAJAZVIR0QgAAeIhXhHRCAABg91qEdEIAAEhmXoR0QgAAMNVhhHRCAAAYRGWEdEIAAACzaIR0QgAA6CFshHRCAADQkG+EdEIAALj/coR0QgAAoG52hHRCAACI3XmEdEIAAHBMfYR0QgAAWLuAhHRCAABAKoSEdEIAACiZh4R0QgAAEAiLhHRCAAD4do6EdEIAAODlkYR0QgAAyFSVhHRCAACww5iEdEIAAJgynIR0QgAAgKGfhHRCAABoEKOEdEIAAFB/poR0QgAAOO6phHRCAAAgXa2EdEIAAAjMsIR0QgAA8Dq0hHRCAADYqbeEdEIAAMAYu4R0QgAAqIe+hHRCAACQ9sGEdEIAAHhlxYR0QgAAYNTIhHRCAABIQ8yEdEIAADCyz4R0QgAAGCHThHRCAAAAkNaEdEIAAOj+2YR0QgAA0G3dhHRCAAC43OCEdEIAAKBL5IR0QgAAiLrnhHRCAABwKeuEdEIAAFiY7oR0QgAAQAfyhHRCAAAodvWEdEIAABDl+IR0QgAA+FP8hHRCAADgwv+EdEIAAMgxA4V0QgAAsKAGhXRCAACYDwqFdEIAAIB+DYV0QgAAaO0QhXRCAABQXBSFdEIAADjLF4V0QgAAIDobhXRCAAAIqR6FdEIAAPAXIoV0QgAA2IYlhXRC\",\"dtype\":\"float64\",\"shape\":[168]},\"y\":{\"__ndarray__\":\"y+43yu6XVEA6eptpNARTQAuURzpOEFNAsA2CU5lwUUB8VJA2PTNRQK465GUjJ1FA6pCXjRxmU0Dayk+Is/JaQOCUc6XaqlxAr+uHHb2NX0CqnSJbhgVhQPdgUOkD/GJAA/eFL7HeY0BMQtF6/JliQBLGRwVpw2FAJLzWruqAZkB12r/nq4VlQPqfppwrlWNAxZdYN2kOY0DgKbJlWIxhQCADsKwxKmFAsDFqldS1YEAa/hH0oB1dQKytKPDEpVZAegU07tb5VEC+feFLrLtTQLvfKLvfKFNArAX/CHpwUUCAXBOBXDNRQGAkfneB0lFAbyoTtkGwVECqvxyRYkhbQPze/E9TrltAhwFY1hhVYUCNPsB94btgQI7o13CLA2RAczCo9AE+YkBPBWnTMzNjQFLWGLVKSmJAVvoA94VfZEClBvaOqSFoQOC+8CXWzWRAYcuw2Jx2Y0DQESmG+tthQKxL4YCRmGFAn8IBI/G7YEDyWcQkFC1cQKfaigJPXFZAmz3J97FaVEAQZ+UnxFlTQBt367wCWlNAKmuMWiWVUUCBkfjdBepQQDFzD6VElVFAxrHPIibhVECf5PtYzf5aQCl9gPvCV15AaCGZ5fIuYEA6chgfFSRhQCDgvvAlpmJAqU3PjPDKYkAab2hy43lhQMF94UusK2JAKmQAljWmYkAyKkibnuliQFBcSGa5fGNANhpCBmA5Y0C6W+cV0EhhQCve0OTGc2FAMBs5jI/aYECHJy4ksxxcQKp4Q5Mb71ZARYEnLiRzVEA7RbYMi01TQBt367wCWlNALKBxt85LUUAmArkmArlQQPq5HYjoV1FASHmk4wRzVEBTXT/s6M1aQHiacq5UG19APPZZxCQkYUDlObj6ljxhQJrm6WQs0WJA2mgIGYAlYkAgA7CsMSphQJTE7y5Q7mFAmrmHUqIaY0DA+Z+mnCtiQBv6NdziiGNAYBOBXBOxYUBmp8iWYWFhQIcuuuiiC2FAJvhH0IN2YEBRm54Z4ZVbQKfaigJPXFZAmT3J97FaVEDniBRD/WVTQOqQl40cZlNAMHMPpUSVUUAr1VYUeAJRQCfN08lYAlFAF9C4W+c1VEB1aHLjOXhaQKgq3tDk5l5AFhAGlT5AX0C6iEkoWv9gQPaykcP4aGJAFonfXaBcYkChnSJbhgVhQNDuN8ruV2NAgQzAssYYZkCly3vzP+1pQDsHV9+SZWRA9/////9/YUBy2chhfPRhQEvhgJH4HWFAJpf35n/aYEAtbXpmhNdbQNZWFHji4lZASlTFG5q8VEAQMgDLGqNTQPAuUB7p+FNAB5U+wH2hUUAyqPQB7ktRQGMkfneB0lFAPkxC0Xq8VEAIjrL7jVJdQNE0GkIGYGBArTNYoTPoYUCRWDdpnp5hQFBcSGa5fGNALu3f89WCY0Bu8z9NOddiQKF6MZ96gWJAeHpmhNeqYUDr13CLYx9iQMF94UusK2JAbvM/TTnXYkAb6TjBdEdgQGVQ6QPcF2FAIYfxUUEqYUBghsXmtN9bQIKacq5U+1ZAIEEP2ikSVUBG6/HnduBTQMaxzyIm4VRA5vLe/E/TUkBgurO9LmVSQGXuoZSoilNARBdddNEFVUBSrJs0T8dfQKJmT/J9HGBAwnNw9S35YEBrwT+CHkRiQFdHbzONdmNA+yPoQTuVY0BSMN3ZXldnQIkdvc00WmlAV/CPoActY0DWpXDASIxhQFh00UUXLWNApciWYbEpZUAml/fmf8pmQMU2CE5lkmFA1U6RLcNCYUCJOCs/IS5dQGBi3aR5mldA\",\"dtype\":\"float64\",\"shape\":[168]}},\"selected\":{\"id\":\"4051\",\"type\":\"Selection\"},\"selection_policy\":{\"id\":\"4052\",\"type\":\"UnionRenderers\"}},\"id\":\"3863\",\"type\":\"ColumnDataSource\"},{\"attributes\":{\"line_alpha\":0.1,\"line_color\":\"#1f77b4\",\"x\":{\"field\":\"x\"},\"y\":{\"field\":\"y\"}},\"id\":\"3865\",\"type\":\"Line\"},{\"attributes\":{\"bottom_units\":\"screen\",\"fill_alpha\":{\"value\":0.5},\"fill_color\":{\"value\":\"lightgrey\"},\"left_units\":\"screen\",\"level\":\"overlay\",\"line_alpha\":{\"value\":1.0},\"line_color\":{\"value\":\"black\"},\"line_dash\":[4,4],\"line_width\":{\"value\":2},\"render_mode\":\"css\",\"right_units\":\"screen\",\"top_units\":\"screen\"},\"id\":\"3848\",\"type\":\"BoxAnnotation\"},{\"attributes\":{\"ticker\":{\"id\":\"3816\",\"type\":\"DatetimeTicker\"}},\"id\":\"3819\",\"type\":\"Grid\"},{\"attributes\":{\"line_color\":\"red\",\"x\":{\"field\":\"x\"},\"y\":{\"field\":\"y\"}},\"id\":\"3839\",\"type\":\"Line\"},{\"attributes\":{},\"id\":\"4051\",\"type\":\"Selection\"},{\"attributes\":{\"mantissas\":[1,2,5],\"max_interval\":500.0,\"num_minor_ticks\":0},\"id\":\"3849\",\"type\":\"AdaptiveTicker\"},{\"attributes\":{\"axis_label\":\"Timestmap\",\"formatter\":{\"id\":\"3845\",\"type\":\"DatetimeTickFormatter\"},\"ticker\":{\"id\":\"3816\",\"type\":\"DatetimeTicker\"}},\"id\":\"3815\",\"type\":\"DatetimeAxis\"},{\"attributes\":{\"data_source\":{\"id\":\"3863\",\"type\":\"ColumnDataSource\"},\"glyph\":{\"id\":\"3864\",\"type\":\"Line\"},\"hover_glyph\":null,\"muted_glyph\":null,\"nonselection_glyph\":{\"id\":\"3865\",\"type\":\"Line\"},\"selection_glyph\":null,\"view\":{\"id\":\"3867\",\"type\":\"CDSView\"}},\"id\":\"3866\",\"type\":\"GlyphRenderer\"},{\"attributes\":{},\"id\":\"3825\",\"type\":\"PanTool\"},{\"attributes\":{\"source\":{\"id\":\"3863\",\"type\":\"ColumnDataSource\"}},\"id\":\"3867\",\"type\":\"CDSView\"},{\"attributes\":{\"callback\":null},\"id\":\"3809\",\"type\":\"DataRange1d\"},{\"attributes\":{\"base\":24,\"mantissas\":[1,2,4,6,8,12],\"max_interval\":43200000.0,\"min_interval\":3600000.0,\"num_minor_ticks\":0},\"id\":\"3851\",\"type\":\"AdaptiveTicker\"},{\"attributes\":{},\"id\":\"3811\",\"type\":\"LinearScale\"},{\"attributes\":{\"callback\":null,\"data\":{\"x\":{\"__ndarray__\":\"AACALeiCdEIAAGic64J0QgAAUAvvgnRCAAA4evKCdEIAACDp9YJ0QgAACFj5gnRCAADwxvyCdEIAANg1AIN0QgAAwKQDg3RCAACoEweDdEIAAJCCCoN0QgAAePENg3RCAABgYBGDdEIAAEjPFIN0QgAAMD4Yg3RCAAAYrRuDdEIAAAAcH4N0QgAA6Ioig3RCAADQ+SWDdEIAALhoKYN0QgAAoNcsg3RCAACIRjCDdEIAAHC1M4N0QgAAWCQ3g3RCAABAkzqDdEIAACgCPoN0QgAAEHFBg3RCAAD430SDdEIAAOBOSIN0QgAAyL1Lg3RCAACwLE+DdEIAAJibUoN0QgAAgApWg3RCAABoeVmDdEIAAFDoXIN0QgAAOFdgg3RCAAAgxmODdEIAAAg1Z4N0QgAA8KNqg3RCAADYEm6DdEIAAMCBcYN0QgAAqPB0g3RCAACQX3iDdEIAAHjOe4N0QgAAYD1/g3RCAABIrIKDdEIAADAbhoN0QgAAGIqJg3RCAAAA+YyDdEIAAOhnkIN0QgAA0NaTg3RCAAC4RZeDdEIAAKC0moN0QgAAiCOeg3RCAABwkqGDdEIAAFgBpYN0QgAAQHCog3RCAAAo36uDdEIAABBOr4N0QgAA+Lyyg3RCAADgK7aDdEIAAMiauYN0QgAAsAm9g3RCAACYeMCDdEIAAIDnw4N0QgAAaFbHg3RCAABQxcqDdEIAADg0zoN0QgAAIKPRg3RCAAAIEtWDdEIAAPCA2IN0QgAA2O/bg3RCAADAXt+DdEIAAKjN4oN0QgAAkDzmg3RCAAB4q+mDdEIAAGAa7YN0QgAASInwg3RCAAAw+PODdEIAABhn94N0QgAAANb6g3RCAADoRP6DdEIAANCzAYR0QgAAuCIFhHRCAACgkQiEdEIAAIgADIR0QgAAcG8PhHRCAABY3hKEdEIAAEBNFoR0QgAAKLwZhHRCAAAQKx2EdEIAAPiZIIR0QgAA4AgkhHRCAADIdyeEdEIAALDmKoR0QgAAmFUuhHRCAACAxDGEdEIAAGgzNYR0QgAAUKI4hHRCAAA4ETyEdEIAACCAP4R0QgAACO9ChHRCAADwXUaEdEIAANjMSYR0QgAAwDtNhHRCAACoqlCEdEIAAJAZVIR0QgAAeIhXhHRCAABg91qEdEIAAEhmXoR0QgAAMNVhhHRCAAAYRGWEdEIAAACzaIR0QgAA6CFshHRCAADQkG+EdEIAALj/coR0QgAAoG52hHRCAACI3XmEdEIAAHBMfYR0QgAAWLuAhHRCAABAKoSEdEIAACiZh4R0QgAAEAiLhHRCAAD4do6EdEIAAODlkYR0QgAAyFSVhHRCAACww5iEdEIAAJgynIR0QgAAgKGfhHRCAABoEKOEdEIAAFB/poR0QgAAOO6phHRCAAAgXa2EdEIAAAjMsIR0QgAA8Dq0hHRCAADYqbeEdEIAAMAYu4R0QgAAqIe+hHRCAACQ9sGEdEIAAHhlxYR0QgAAYNTIhHRCAABIQ8yEdEIAADCyz4R0QgAAGCHThHRCAAAAkNaEdEIAAOj+2YR0QgAA0G3dhHRCAAC43OCEdEIAAKBL5IR0QgAAiLrnhHRCAABwKeuEdEIAAFiY7oR0QgAAQAfyhHRCAAAodvWEdEIAABDl+IR0QgAA+FP8hHRCAADgwv+EdEIAAMgxA4V0QgAAsKAGhXRCAACYDwqFdEIAAIB+DYV0QgAAaO0QhXRCAABQXBSFdEIAADjLF4V0QgAAIDobhXRCAAAIqR6FdEIAAPAXIoV0QgAA2IYlhXRC\",\"dtype\":\"float64\",\"shape\":[168]},\"y\":{\"__ndarray__\":\"AAAAILugVEAAAACgI+RSQAAAAICmPVJAAAAAgEzvUEAAAAAARl1QQAAAACCFLlBAAAAAgNMcUUAAAAAgVkpcQAAAAMBuel5AAAAAgGfQYEAAAACAPmNiQAAAAGA0NWRAAAAAoECWZEAAAADgkiNkQAAAAGCyN2NAAAAAwIYiY0AAAAAgEtVjQAAAAADzEmZAAAAAII/yZEAAAADA/phiQAAAAEBZiWFAAAAAAEoEYUAAAADgQKBcQAAAAGBBI1hAAAAAQGHkVEAAAACgVJJTQAAAAADcj1JAAAAAgFYdUUAAAABgHb5QQAAAAID7hlBAAAAA4LfeUkAAAABgLE1cQAAAAOBw119AAAAAwETHYEAAAAAgKBBiQAAAAMBYfWNAAAAA4MtsZEAAAACg9UdjQAAAAKDlr2NAAAAAoDdqYkAAAAAg599iQAAAAEABGWVAAAAAQMDZZEAAAACg1WdjQAAAAMC+I2JAAAAAwLm3YUAAAACA99ZeQAAAAIBFyVlAAAAAoE6CVUAAAADgUolUQAAAAKCLs1NAAAAA4KsvUkAAAADALTRRQAAAAOD5w1FAAAAAwElZVEAAAACgQ11cQAAAAKChDWBAAAAAYNBpYUAAAABgfMRhQAAAAOB1l2JAAAAAoOsiY0AAAAAg5yBiQAAAAOBpGWNAAAAAIDD5YUAAAACgnUdjQAAAAOCMsmRAAAAAoGGMY0AAAAAgO1liQAAAAGAR0WFAAAAAYJlvYEAAAACAXuBcQAAAACDd4FdAAAAAoGC2VEAAAACA4ZNTQAAAACCJ6VJAAAAA4P3rUUAAAACAVihQQAAAAMCphFFAAAAAYNy3VEAAAADgqmJcQAAAAKANs19AAAAAwNmhYUAAAABgCHJhQAAAAMCMV2JAAAAAYMUGYkAAAAAAdqBiQAAAAGCPv2FAAAAAQMWYYUAAAABgdmljQAAAAOCyXGRAAAAAQM1WYkAAAABAzLJgQAAAAIAZlGFAAAAAQNeaYEAAAADgJmNbQAAAAMAxZVVAAAAAIEUrVUAAAADgmGZTQAAAAMChLFNAAAAAoCPlUUAAAACA4epQQAAAAIDAMlFAAAAAAHz1UkAAAACgL4laQAAAAIBZVV1AAAAAAAu/XkAAAAAAsNBgQAAAAABc2WFAAAAAgM7dYUAAAACgWXdhQAAAAKB7g2FAAAAA4FG8YUAAAACALz9iQAAAAEBCl2JAAAAAoCiqYkAAAABgqAVhQAAAAGA1UWBAAAAAQKHHXEAAAACACc5YQAAAAKA2ulVAAAAAwNVaVEAAAAAAa15TQAAAAIBFKVNAAAAAgJ3RUUAAAABgyyRRQAAAAGC8CFJAAAAAINVcUkAAAACgZ2VZQAAAAOAS+11AAAAAYPsJX0AAAAAATflgQAAAACDWk2FAAAAAAF02YkAAAABAl3VhQAAAAODxkGBAAAAAgJqxYEAAAAAAu5FiQAAAACDr4GJAAAAAAH5SY0AAAAAgnghhQAAAACAmWGBAAAAAQG9xXUAAAACAkPhXQAAAAOBrMFRAAAAA4HGgVEAAAABAEHdTQAAAAKBwRFNAAAAAgI/jUUAAAADAT7RRQAAAAKAAn1FAAAAAgHbiU0AAAACAvTpcQAAAAICW1VtAAAAAQERWYEAAAADA8C9hQAAAAECDlmJAAAAAwMhjYkAAAAAgWr1iQAAAAKDSFmJAAAAAwFvgYEAAAACA4Y5jQAAAAGDUsmRAAAAAIGu3Y0AAAABgEf5gQAAAAGBnsWBAAAAAAJ4MYEAAAADAVK9bQAAAAIBtcldA\",\"dtype\":\"float64\",\"shape\":[168]}},\"selected\":{\"id\":\"3874\",\"type\":\"Selection\"},\"selection_policy\":{\"id\":\"3875\",\"type\":\"UnionRenderers\"}},\"id\":\"3838\",\"type\":\"ColumnDataSource\"},{\"attributes\":{\"base\":60,\"mantissas\":[1,2,5,10,15,20,30],\"max_interval\":1800000.0,\"min_interval\":1000.0,\"num_minor_ticks\":0},\"id\":\"3850\",\"type\":\"AdaptiveTicker\"},{\"attributes\":{},\"id\":\"3826\",\"type\":\"WheelZoomTool\"},{\"attributes\":{\"num_minor_ticks\":5,\"tickers\":[{\"id\":\"3849\",\"type\":\"AdaptiveTicker\"},{\"id\":\"3850\",\"type\":\"AdaptiveTicker\"},{\"id\":\"3851\",\"type\":\"AdaptiveTicker\"},{\"id\":\"3852\",\"type\":\"DaysTicker\"},{\"id\":\"3853\",\"type\":\"DaysTicker\"},{\"id\":\"3854\",\"type\":\"DaysTicker\"},{\"id\":\"3855\",\"type\":\"DaysTicker\"},{\"id\":\"3856\",\"type\":\"MonthsTicker\"},{\"id\":\"3857\",\"type\":\"MonthsTicker\"},{\"id\":\"3858\",\"type\":\"MonthsTicker\"},{\"id\":\"3859\",\"type\":\"MonthsTicker\"},{\"id\":\"3860\",\"type\":\"YearsTicker\"}]},\"id\":\"3816\",\"type\":\"DatetimeTicker\"},{\"attributes\":{\"dimension\":1,\"ticker\":{\"id\":\"3821\",\"type\":\"BasicTicker\"}},\"id\":\"3824\",\"type\":\"Grid\"},{\"attributes\":{\"text\":\"Predictions over the test dataset for MT_321\"},\"id\":\"3805\",\"type\":\"Title\"},{\"attributes\":{},\"id\":\"3828\",\"type\":\"SaveTool\"},{\"attributes\":{},\"id\":\"3874\",\"type\":\"Selection\"},{\"attributes\":{},\"id\":\"3829\",\"type\":\"ResetTool\"},{\"attributes\":{\"label\":{\"value\":\"targets\"},\"renderers\":[{\"id\":\"3866\",\"type\":\"GlyphRenderer\"}]},\"id\":\"3888\",\"type\":\"LegendItem\"},{\"attributes\":{\"days\":[1,2,3,4,5,6,7,8,9,10,11,12,13,14,15,16,17,18,19,20,21,22,23,24,25,26,27,28,29,30,31]},\"id\":\"3852\",\"type\":\"DaysTicker\"},{\"attributes\":{\"active_drag\":\"auto\",\"active_inspect\":\"auto\",\"active_multi\":null,\"active_scroll\":\"auto\",\"active_tap\":\"auto\",\"tools\":[{\"id\":\"3825\",\"type\":\"PanTool\"},{\"id\":\"3826\",\"type\":\"WheelZoomTool\"},{\"id\":\"3827\",\"type\":\"BoxZoomTool\"},{\"id\":\"3828\",\"type\":\"SaveTool\"},{\"id\":\"3829\",\"type\":\"ResetTool\"},{\"id\":\"3830\",\"type\":\"HelpTool\"}]},\"id\":\"3831\",\"type\":\"Toolbar\"},{\"attributes\":{},\"id\":\"3813\",\"type\":\"LinearScale\"},{\"attributes\":{\"callback\":null},\"id\":\"3807\",\"type\":\"DataRange1d\"},{\"attributes\":{},\"id\":\"3875\",\"type\":\"UnionRenderers\"},{\"attributes\":{\"days\":[1,4,7,10,13,16,19,22,25,28]},\"id\":\"3853\",\"type\":\"DaysTicker\"},{\"attributes\":{\"axis_label\":\"Value\",\"formatter\":{\"id\":\"3847\",\"type\":\"BasicTickFormatter\"},\"ticker\":{\"id\":\"3821\",\"type\":\"BasicTicker\"}},\"id\":\"3820\",\"type\":\"LinearAxis\"},{\"attributes\":{},\"id\":\"4052\",\"type\":\"UnionRenderers\"},{\"attributes\":{\"days\":[1,8,15,22]},\"id\":\"3854\",\"type\":\"DaysTicker\"},{\"attributes\":{\"line_alpha\":0.1,\"line_color\":\"#1f77b4\",\"x\":{\"field\":\"x\"},\"y\":{\"field\":\"y\"}},\"id\":\"3840\",\"type\":\"Line\"}],\"root_ids\":[\"3804\"]},\"title\":\"Bokeh Application\",\"version\":\"1.4.0\"}};\n",
       "  var render_items = [{\"docid\":\"c5d5c287-b056-4cf4-b4fe-d02af15fd473\",\"roots\":{\"3804\":\"19fc15be-0fcf-4fc6-b3ab-40af75f375ef\"}}];\n",
       "  root.Bokeh.embed.embed_items_notebook(docs_json, render_items);\n",
       "\n",
       "  }\n",
       "  if (root.Bokeh !== undefined) {\n",
       "    embed_document(root);\n",
       "  } else {\n",
       "    var attempts = 0;\n",
       "    var timer = setInterval(function(root) {\n",
       "      if (root.Bokeh !== undefined) {\n",
       "        clearInterval(timer);\n",
       "        embed_document(root);\n",
       "      } else {\n",
       "        attempts++;\n",
       "        if (attempts > 100) {\n",
       "          clearInterval(timer);\n",
       "          console.log(\"Bokeh: ERROR: Unable to run BokehJS code because BokehJS library is missing\");\n",
       "        }\n",
       "      }\n",
       "    }, 10, root)\n",
       "  }\n",
       "})(window);"
      ],
      "application/vnd.bokehjs_exec.v0+json": ""
     },
     "metadata": {
      "application/vnd.bokehjs_exec.v0+json": {
       "id": "3804"
      }
     },
     "output_type": "display_data"
    },
    {
     "data": {
      "text/html": [
       "\n",
       "\n",
       "\n",
       "\n",
       "\n",
       "\n",
       "  <div class=\"bk-root\" id=\"4cfe0e55-f74e-4686-b08d-468beb71b8e1\" data-root-id=\"4197\"></div>\n"
      ]
     },
     "metadata": {},
     "output_type": "display_data"
    },
    {
     "data": {
      "application/javascript": [
       "(function(root) {\n",
       "  function embed_document(root) {\n",
       "    \n",
       "  var docs_json = {\"edc5cb09-f10c-4dab-9626-04c00d8377c7\":{\"roots\":{\"references\":[{\"attributes\":{\"below\":[{\"id\":\"4208\",\"type\":\"DatetimeAxis\"}],\"center\":[{\"id\":\"4212\",\"type\":\"Grid\"},{\"id\":\"4217\",\"type\":\"Grid\"},{\"id\":\"4254\",\"type\":\"Legend\"}],\"left\":[{\"id\":\"4213\",\"type\":\"LinearAxis\"}],\"plot_height\":320,\"plot_width\":960,\"renderers\":[{\"id\":\"4234\",\"type\":\"GlyphRenderer\"},{\"id\":\"4259\",\"type\":\"GlyphRenderer\"}],\"title\":{\"id\":\"4198\",\"type\":\"Title\"},\"toolbar\":{\"id\":\"4224\",\"type\":\"Toolbar\"},\"x_range\":{\"id\":\"4200\",\"type\":\"DataRange1d\"},\"x_scale\":{\"id\":\"4204\",\"type\":\"LinearScale\"},\"y_range\":{\"id\":\"4202\",\"type\":\"DataRange1d\"},\"y_scale\":{\"id\":\"4206\",\"type\":\"LinearScale\"}},\"id\":\"4197\",\"subtype\":\"Figure\",\"type\":\"Plot\"},{\"attributes\":{\"axis_label\":\"Value\",\"formatter\":{\"id\":\"4240\",\"type\":\"BasicTickFormatter\"},\"ticker\":{\"id\":\"4214\",\"type\":\"BasicTicker\"}},\"id\":\"4213\",\"type\":\"LinearAxis\"},{\"attributes\":{\"line_color\":\"blue\",\"x\":{\"field\":\"x\"},\"y\":{\"field\":\"y\"}},\"id\":\"4257\",\"type\":\"Line\"},{\"attributes\":{\"items\":[{\"id\":\"4255\",\"type\":\"LegendItem\"},{\"id\":\"4281\",\"type\":\"LegendItem\"}]},\"id\":\"4254\",\"type\":\"Legend\"},{\"attributes\":{\"mantissas\":[1,2,5],\"max_interval\":500.0,\"num_minor_ticks\":0},\"id\":\"4242\",\"type\":\"AdaptiveTicker\"},{\"attributes\":{\"data_source\":{\"id\":\"4256\",\"type\":\"ColumnDataSource\"},\"glyph\":{\"id\":\"4257\",\"type\":\"Line\"},\"hover_glyph\":null,\"muted_glyph\":null,\"nonselection_glyph\":{\"id\":\"4258\",\"type\":\"Line\"},\"selection_glyph\":null,\"view\":{\"id\":\"4260\",\"type\":\"CDSView\"}},\"id\":\"4259\",\"type\":\"GlyphRenderer\"},{\"attributes\":{\"axis_label\":\"Timestmap\",\"formatter\":{\"id\":\"4238\",\"type\":\"DatetimeTickFormatter\"},\"ticker\":{\"id\":\"4209\",\"type\":\"DatetimeTicker\"}},\"id\":\"4208\",\"type\":\"DatetimeAxis\"},{\"attributes\":{\"callback\":null,\"data\":{\"x\":{\"__ndarray__\":\"AACALeiCdEIAAGic64J0QgAAUAvvgnRCAAA4evKCdEIAACDp9YJ0QgAACFj5gnRCAADwxvyCdEIAANg1AIN0QgAAwKQDg3RCAACoEweDdEIAAJCCCoN0QgAAePENg3RCAABgYBGDdEIAAEjPFIN0QgAAMD4Yg3RCAAAYrRuDdEIAAAAcH4N0QgAA6Ioig3RCAADQ+SWDdEIAALhoKYN0QgAAoNcsg3RCAACIRjCDdEIAAHC1M4N0QgAAWCQ3g3RCAABAkzqDdEIAACgCPoN0QgAAEHFBg3RCAAD430SDdEIAAOBOSIN0QgAAyL1Lg3RCAACwLE+DdEIAAJibUoN0QgAAgApWg3RCAABoeVmDdEIAAFDoXIN0QgAAOFdgg3RCAAAgxmODdEIAAAg1Z4N0QgAA8KNqg3RCAADYEm6DdEIAAMCBcYN0QgAAqPB0g3RCAACQX3iDdEIAAHjOe4N0QgAAYD1/g3RCAABIrIKDdEIAADAbhoN0QgAAGIqJg3RCAAAA+YyDdEIAAOhnkIN0QgAA0NaTg3RCAAC4RZeDdEIAAKC0moN0QgAAiCOeg3RCAABwkqGDdEIAAFgBpYN0QgAAQHCog3RCAAAo36uDdEIAABBOr4N0QgAA+Lyyg3RCAADgK7aDdEIAAMiauYN0QgAAsAm9g3RCAACYeMCDdEIAAIDnw4N0QgAAaFbHg3RCAABQxcqDdEIAADg0zoN0QgAAIKPRg3RCAAAIEtWDdEIAAPCA2IN0QgAA2O/bg3RCAADAXt+DdEIAAKjN4oN0QgAAkDzmg3RCAAB4q+mDdEIAAGAa7YN0QgAASInwg3RCAAAw+PODdEIAABhn94N0QgAAANb6g3RCAADoRP6DdEIAANCzAYR0QgAAuCIFhHRCAACgkQiEdEIAAIgADIR0QgAAcG8PhHRCAABY3hKEdEIAAEBNFoR0QgAAKLwZhHRCAAAQKx2EdEIAAPiZIIR0QgAA4AgkhHRCAADIdyeEdEIAALDmKoR0QgAAmFUuhHRCAACAxDGEdEIAAGgzNYR0QgAAUKI4hHRCAAA4ETyEdEIAACCAP4R0QgAACO9ChHRCAADwXUaEdEIAANjMSYR0QgAAwDtNhHRCAACoqlCEdEIAAJAZVIR0QgAAeIhXhHRCAABg91qEdEIAAEhmXoR0QgAAMNVhhHRCAAAYRGWEdEIAAACzaIR0QgAA6CFshHRCAADQkG+EdEIAALj/coR0QgAAoG52hHRCAACI3XmEdEIAAHBMfYR0QgAAWLuAhHRCAABAKoSEdEIAACiZh4R0QgAAEAiLhHRCAAD4do6EdEIAAODlkYR0QgAAyFSVhHRCAACww5iEdEIAAJgynIR0QgAAgKGfhHRCAABoEKOEdEIAAFB/poR0QgAAOO6phHRCAAAgXa2EdEIAAAjMsIR0QgAA8Dq0hHRCAADYqbeEdEIAAMAYu4R0QgAAqIe+hHRCAACQ9sGEdEIAAHhlxYR0QgAAYNTIhHRCAABIQ8yEdEIAADCyz4R0QgAAGCHThHRCAAAAkNaEdEIAAOj+2YR0QgAA0G3dhHRCAAC43OCEdEIAAKBL5IR0QgAAiLrnhHRCAABwKeuEdEIAAFiY7oR0QgAAQAfyhHRCAAAodvWEdEIAABDl+IR0QgAA+FP8hHRCAADgwv+EdEIAAMgxA4V0QgAAsKAGhXRCAACYDwqFdEIAAIB+DYV0QgAAaO0QhXRCAABQXBSFdEIAADjLF4V0QgAAIDobhXRCAAAIqR6FdEIAAPAXIoV0QgAA2IYlhXRC\",\"dtype\":\"float64\",\"shape\":[168]},\"y\":{\"__ndarray__\":\"t8arVTDiR0AEs/OMYj9HQP+y84xiP0dAMLW8qKI8SECuo837FJdIQMoxaLA1BU9AliFYR5t3U0D8mqmMFKJUQBdLkfR2ulVA6+C+cb58W0DNUZMWxG1gQNKjdMqhUmBA4PgIcgwaXkBGY4LDURNgQEUYmJ1nVGFAXLgWa7zaXUCaW+/6Kr9gQB/QEs7wwGFAgjEaExxOYEDY3pwkCztiQI0JDkdN2mBAogTg1JmxYEDxMqAlnGFbQB5MIptQW0pAYNpjHv6ESEAttbyoojxIQC21vKiiPEhAs8arVTDiR0BvOGrSgrhJQCF5A6hfs1FAcE6ShR0UU0CKrSnge+hYQC2pl6j77VZA+ps6M+5CWUCQut+G/NdeQBxt3qe4ZGBASumUQ6W6YEAsy+RbPZhhQAY4dWbcRWNAGCci9IHOYUAk/xUos1piQCcuGYJ19GJACX4xGhPcYUAcViVORGhiQLgL12KN12FAarxaBSMeYUDggri9OUlaQDrlUKk+d01AlyLp7XQYSEAxtbyoojxIQLTGq1Uw4kdAy0eQY9BgSECmgO+h+UtJQGUTaiu0K1FA5hnFfnQjVEBCKny2m2xXQG39QXgZ0FdAxQ35r0AZW0AMeu1/rJheQMVRkxbEbWBARkzJad0WYkDVr5nKSKFhQFjNrXd9lWJA9tluslcSYkA/WO5phGVjQIhsQm2FNmJADyci9IHOYUCTRDahtsJiQKPtJnsltWJAM3TVNayKYUDQJLIJtRVZQHRbSCyeA0lAGTTYmgK+R0CDoQTg1JlHQC21vKiiPEhAZf1BeBnQR0DgyHRxcN9IQPlWDyaRTU9AUp6qHbv7UUD2d8sy+VZVQBY02JoCvldAOc0GqfDZWkAiFs+BJ1dgQAvVQECk6WFAtdzTCMs9YUBIb6fD+GFhQH63LJNv9WBACckbQP2aYEASyRtA/ZpgQK4z4y5cS2FAb9SkBXG7Y0DLjLtwLVZiQA8ERJpmg2JAio8gx6CBYUDi4L5xvnxbQOwmeyX1EkpATVl/EF4GSEAZNNiaAr5HQJci6e10GEhA5etSy4sqSEBe2mMe/oRIQPpho39e+0tASVjuaYRlU0A371NcMoRVQBhvAPVrpllAtrsX/GI0W0By8z7FJcNfQBOhD3QuJ2FAoOEBe35mYUBwQm2FdsVhQJAVM0f0KGJAf7csk2/1YEBSe8zDn7BiQFJHm/cp7mFAr+j4CHKMYkCTeGdtLIVjQC/657X/MWJAvqiiPFV7YEBgfe4QU/JbQP1ho39e+0tA9mw32SupSED5bDfZK6lIQMdHkGPQYEhA1qWWF1WUSUDYpZYXVZRJQAbVQECk6VFApouD+8b5VUARBdVAQCRXQOkOMSWndVdAe1C00tBVXEAFTy7AUEJhQClR99uQP2JAaJl8qwfTYUC8hcTiOTBhQFxqeVFFOWFAR2+nw/hhYUBUU8D30DxjQAytNHTVdWJAuGrH7l7wX0ByZUvfkRBhQMhduBZrvGFAR7qR6eIgYEAmTCKbUFtaQKFdEUjeAEpAYNpjHv6ESED2bDfZK6lIQOLrUsuLKkhAV7eFxOI5SUAP7hvnyydJQOv4CHIMGk5AivJU7djdUkA7EjK2Tc9UQHqhBODUmVdAWcQ7a2MpX0CIO8SUnFZfQPgfK2aOqGBAzru+yu/vYkD6vYfmL+1jQM3jypa+Y2JAPCnrD8LLYkD4sWLmiJ5iQL+R6eLgfmJAgsNRkxZEYkDqX4Eyq7liQJ0cKtXnTmNATfW5Q0wJYkBXoMxqbj1bQE5xyRCso0pA\",\"dtype\":\"float64\",\"shape\":[168]}},\"selected\":{\"id\":\"4466\",\"type\":\"Selection\"},\"selection_policy\":{\"id\":\"4467\",\"type\":\"UnionRenderers\"}},\"id\":\"4256\",\"type\":\"ColumnDataSource\"},{\"attributes\":{},\"id\":\"4267\",\"type\":\"Selection\"},{\"attributes\":{},\"id\":\"4240\",\"type\":\"BasicTickFormatter\"},{\"attributes\":{},\"id\":\"4221\",\"type\":\"SaveTool\"},{\"attributes\":{},\"id\":\"4206\",\"type\":\"LinearScale\"},{\"attributes\":{\"base\":24,\"mantissas\":[1,2,4,6,8,12],\"max_interval\":43200000.0,\"min_interval\":3600000.0,\"num_minor_ticks\":0},\"id\":\"4244\",\"type\":\"AdaptiveTicker\"},{\"attributes\":{\"months\":[0,6]},\"id\":\"4252\",\"type\":\"MonthsTicker\"},{\"attributes\":{\"base\":60,\"mantissas\":[1,2,5,10,15,20,30],\"max_interval\":1800000.0,\"min_interval\":1000.0,\"num_minor_ticks\":0},\"id\":\"4243\",\"type\":\"AdaptiveTicker\"},{\"attributes\":{\"callback\":null},\"id\":\"4202\",\"type\":\"DataRange1d\"},{\"attributes\":{},\"id\":\"4238\",\"type\":\"DatetimeTickFormatter\"},{\"attributes\":{},\"id\":\"4214\",\"type\":\"BasicTicker\"},{\"attributes\":{},\"id\":\"4268\",\"type\":\"UnionRenderers\"},{\"attributes\":{\"data_source\":{\"id\":\"4231\",\"type\":\"ColumnDataSource\"},\"glyph\":{\"id\":\"4232\",\"type\":\"Line\"},\"hover_glyph\":null,\"muted_glyph\":null,\"nonselection_glyph\":{\"id\":\"4233\",\"type\":\"Line\"},\"selection_glyph\":null,\"view\":{\"id\":\"4235\",\"type\":\"CDSView\"}},\"id\":\"4234\",\"type\":\"GlyphRenderer\"},{\"attributes\":{\"label\":{\"value\":\"targets\"},\"renderers\":[{\"id\":\"4259\",\"type\":\"GlyphRenderer\"}]},\"id\":\"4281\",\"type\":\"LegendItem\"},{\"attributes\":{\"bottom_units\":\"screen\",\"fill_alpha\":{\"value\":0.5},\"fill_color\":{\"value\":\"lightgrey\"},\"left_units\":\"screen\",\"level\":\"overlay\",\"line_alpha\":{\"value\":1.0},\"line_color\":{\"value\":\"black\"},\"line_dash\":[4,4],\"line_width\":{\"value\":2},\"render_mode\":\"css\",\"right_units\":\"screen\",\"top_units\":\"screen\"},\"id\":\"4241\",\"type\":\"BoxAnnotation\"},{\"attributes\":{\"days\":[1,2,3,4,5,6,7,8,9,10,11,12,13,14,15,16,17,18,19,20,21,22,23,24,25,26,27,28,29,30,31]},\"id\":\"4245\",\"type\":\"DaysTicker\"},{\"attributes\":{\"num_minor_ticks\":5,\"tickers\":[{\"id\":\"4242\",\"type\":\"AdaptiveTicker\"},{\"id\":\"4243\",\"type\":\"AdaptiveTicker\"},{\"id\":\"4244\",\"type\":\"AdaptiveTicker\"},{\"id\":\"4245\",\"type\":\"DaysTicker\"},{\"id\":\"4246\",\"type\":\"DaysTicker\"},{\"id\":\"4247\",\"type\":\"DaysTicker\"},{\"id\":\"4248\",\"type\":\"DaysTicker\"},{\"id\":\"4249\",\"type\":\"MonthsTicker\"},{\"id\":\"4250\",\"type\":\"MonthsTicker\"},{\"id\":\"4251\",\"type\":\"MonthsTicker\"},{\"id\":\"4252\",\"type\":\"MonthsTicker\"},{\"id\":\"4253\",\"type\":\"YearsTicker\"}]},\"id\":\"4209\",\"type\":\"DatetimeTicker\"},{\"attributes\":{\"overlay\":{\"id\":\"4241\",\"type\":\"BoxAnnotation\"}},\"id\":\"4220\",\"type\":\"BoxZoomTool\"},{\"attributes\":{\"label\":{\"value\":\"predictions\"},\"renderers\":[{\"id\":\"4234\",\"type\":\"GlyphRenderer\"}]},\"id\":\"4255\",\"type\":\"LegendItem\"},{\"attributes\":{\"days\":[1,4,7,10,13,16,19,22,25,28]},\"id\":\"4246\",\"type\":\"DaysTicker\"},{\"attributes\":{\"callback\":null},\"id\":\"4200\",\"type\":\"DataRange1d\"},{\"attributes\":{\"callback\":null,\"data\":{\"x\":{\"__ndarray__\":\"AACALeiCdEIAAGic64J0QgAAUAvvgnRCAAA4evKCdEIAACDp9YJ0QgAACFj5gnRCAADwxvyCdEIAANg1AIN0QgAAwKQDg3RCAACoEweDdEIAAJCCCoN0QgAAePENg3RCAABgYBGDdEIAAEjPFIN0QgAAMD4Yg3RCAAAYrRuDdEIAAAAcH4N0QgAA6Ioig3RCAADQ+SWDdEIAALhoKYN0QgAAoNcsg3RCAACIRjCDdEIAAHC1M4N0QgAAWCQ3g3RCAABAkzqDdEIAACgCPoN0QgAAEHFBg3RCAAD430SDdEIAAOBOSIN0QgAAyL1Lg3RCAACwLE+DdEIAAJibUoN0QgAAgApWg3RCAABoeVmDdEIAAFDoXIN0QgAAOFdgg3RCAAAgxmODdEIAAAg1Z4N0QgAA8KNqg3RCAADYEm6DdEIAAMCBcYN0QgAAqPB0g3RCAACQX3iDdEIAAHjOe4N0QgAAYD1/g3RCAABIrIKDdEIAADAbhoN0QgAAGIqJg3RCAAAA+YyDdEIAAOhnkIN0QgAA0NaTg3RCAAC4RZeDdEIAAKC0moN0QgAAiCOeg3RCAABwkqGDdEIAAFgBpYN0QgAAQHCog3RCAAAo36uDdEIAABBOr4N0QgAA+Lyyg3RCAADgK7aDdEIAAMiauYN0QgAAsAm9g3RCAACYeMCDdEIAAIDnw4N0QgAAaFbHg3RCAABQxcqDdEIAADg0zoN0QgAAIKPRg3RCAAAIEtWDdEIAAPCA2IN0QgAA2O/bg3RCAADAXt+DdEIAAKjN4oN0QgAAkDzmg3RCAAB4q+mDdEIAAGAa7YN0QgAASInwg3RCAAAw+PODdEIAABhn94N0QgAAANb6g3RCAADoRP6DdEIAANCzAYR0QgAAuCIFhHRCAACgkQiEdEIAAIgADIR0QgAAcG8PhHRCAABY3hKEdEIAAEBNFoR0QgAAKLwZhHRCAAAQKx2EdEIAAPiZIIR0QgAA4AgkhHRCAADIdyeEdEIAALDmKoR0QgAAmFUuhHRCAACAxDGEdEIAAGgzNYR0QgAAUKI4hHRCAAA4ETyEdEIAACCAP4R0QgAACO9ChHRCAADwXUaEdEIAANjMSYR0QgAAwDtNhHRCAACoqlCEdEIAAJAZVIR0QgAAeIhXhHRCAABg91qEdEIAAEhmXoR0QgAAMNVhhHRCAAAYRGWEdEIAAACzaIR0QgAA6CFshHRCAADQkG+EdEIAALj/coR0QgAAoG52hHRCAACI3XmEdEIAAHBMfYR0QgAAWLuAhHRCAABAKoSEdEIAACiZh4R0QgAAEAiLhHRCAAD4do6EdEIAAODlkYR0QgAAyFSVhHRCAACww5iEdEIAAJgynIR0QgAAgKGfhHRCAABoEKOEdEIAAFB/poR0QgAAOO6phHRCAAAgXa2EdEIAAAjMsIR0QgAA8Dq0hHRCAADYqbeEdEIAAMAYu4R0QgAAqIe+hHRCAACQ9sGEdEIAAHhlxYR0QgAAYNTIhHRCAABIQ8yEdEIAADCyz4R0QgAAGCHThHRCAAAAkNaEdEIAAOj+2YR0QgAA0G3dhHRCAAC43OCEdEIAAKBL5IR0QgAAiLrnhHRCAABwKeuEdEIAAFiY7oR0QgAAQAfyhHRCAAAodvWEdEIAABDl+IR0QgAA+FP8hHRCAADgwv+EdEIAAMgxA4V0QgAAsKAGhXRCAACYDwqFdEIAAIB+DYV0QgAAaO0QhXRCAABQXBSFdEIAADjLF4V0QgAAIDobhXRCAAAIqR6FdEIAAPAXIoV0QgAA2IYlhXRC\",\"dtype\":\"float64\",\"shape\":[168]},\"y\":{\"__ndarray__\":\"AAAAACGjSEAAAABgWh1IQAAAAKCg1EdAAAAAgARgR0AAAACgoglIQAAAAAA7JExAAAAAAPtnUUAAAAAg+qtUQAAAAMCJY1dAAAAAIB05XEAAAAAAw0BfQAAAAGAZ/WBAAAAAAN62YUAAAAAASAlhQAAAAGAf7GFAAAAAIA14YUAAAACARr9hQAAAAEDNL2JAAAAA4Fu4YkAAAABAEwZiQAAAAIAzV2BAAAAAgOP4X0AAAAAAs4ZZQAAAAOAJCk1AAAAA4Fj0SEAAAABA5LVJQAAAAGD/eElAAAAAgDbsSUAAAACAZnFJQAAAAKCs4UxAAAAAwMpdUUAAAABgAH5VQAAAAEC4EFlAAAAAoMQyXUAAAABAE0pgQAAAAGAPJ2FAAAAAgJfeYUAAAAAA+U5iQAAAAKAdI2JAAAAAgNX+YEAAAABA0NdhQAAAAEB0YGJAAAAAQPE0Y0AAAACgUqpiQAAAAAASk2FAAAAAoHfCX0AAAABAWmJZQAAAAOAJZE1AAAAAYFzBS0AAAAAAsZFMQAAAAADyDUxAAAAAQNrsS0AAAAAgJc1MQAAAAICGzVBAAAAAgMGiVEAAAAAgOyNWQAAAAIC52FhAAAAA4BZCXEAAAABgnQ9gQAAAAOAN9WBAAAAAoCtGYUAAAABAnoJhQAAAAMBs82BAAAAAQE9dYEAAAABg+3hhQAAAACAtaWJAAAAAAHXAYkAAAAAgaFZhQAAAAODn4mBAAAAAgAb4X0AAAABA//hZQAAAAGB5HVBAAAAAIC0JTUAAAACATepMQAAAACCSdUxAAAAAQF/0TEAAAABgDUdNQAAAACCsQVFAAAAAQNrTU0AAAABg4R1XQAAAAICuBVpAAAAAoP8nXUAAAADg8vFdQAAAAICol2BAAAAAgIixYEAAAADAmelfQAAAAAAYrV9AAAAA4E2FYEAAAAAgU4ZgQAAAACArA2FAAAAAoHm9YUAAAADAuyBhQAAAAKDxVmBAAAAA4Ay/XUAAAACgSWdXQAAAAMDskUxAAAAAwLdMTEAAAAAghh9LQAAAAOBe5kpAAAAAwIeASkAAAAAAVIRKQAAAAECRkk5AAAAAIBXsU0AAAAAgjB5VQAAAACAEt1dAAAAA4Oe2W0AAAABgf81dQAAAAMCtlmBAAAAAQAluYEAAAAAgy5pgQAAAAOBTYGBAAAAAoKQLX0AAAABgRBhhQAAAAKB1nmFAAAAAYNrzYEAAAAAgEzlgQAAAAOC9k19AAAAA4L13XUAAAABAfkxYQAAAAKBofExAAAAA4JphSkAAAABAHzVLQAAAACBYNUpAAAAA4PRlS0AAAABgUGtLQAAAACBfIE9AAAAAYNxOUkAAAACAU4hUQAAAAIBjY1ZAAAAA4NuqXEAAAACg2AVhQAAAAGCCm2FAAAAAoLB7YkAAAAAgHShhQAAAAECXIWFAAAAAwNgzYEAAAAAgRVJgQAAAAADRSWJAAAAAgODzYUAAAACA6HNhQAAAAGCSQWBAAAAAoDcZXUAAAABAWpdWQAAAAMArYUxAAAAAAL04SkAAAADgSLJKQAAAAOB/50pAAAAAgBHMS0AAAACAqtJMQAAAAAD/x1BAAAAAwMONVEAAAADAqA5VQAAAAAAteFhAAAAAwJejXUAAAAAAftdhQAAAAABnc2JAAAAAwLdOYkAAAAAgd/phQAAAAKCjBmFAAAAAQAFrYUAAAADg9FRhQAAAACDz+2FAAAAAAHANYkAAAABgacRgQAAAAICCImBAAAAAoNUWXUAAAAAAvwpXQAAAAOBRI05A\",\"dtype\":\"float64\",\"shape\":[168]}},\"selected\":{\"id\":\"4267\",\"type\":\"Selection\"},\"selection_policy\":{\"id\":\"4268\",\"type\":\"UnionRenderers\"}},\"id\":\"4231\",\"type\":\"ColumnDataSource\"},{\"attributes\":{},\"id\":\"4466\",\"type\":\"Selection\"},{\"attributes\":{\"text\":\"Predictions over the test dataset for MT_322\"},\"id\":\"4198\",\"type\":\"Title\"},{\"attributes\":{\"days\":[1,8,15,22]},\"id\":\"4247\",\"type\":\"DaysTicker\"},{\"attributes\":{\"line_alpha\":0.1,\"line_color\":\"#1f77b4\",\"x\":{\"field\":\"x\"},\"y\":{\"field\":\"y\"}},\"id\":\"4233\",\"type\":\"Line\"},{\"attributes\":{\"line_color\":\"red\",\"x\":{\"field\":\"x\"},\"y\":{\"field\":\"y\"}},\"id\":\"4232\",\"type\":\"Line\"},{\"attributes\":{\"active_drag\":\"auto\",\"active_inspect\":\"auto\",\"active_multi\":null,\"active_scroll\":\"auto\",\"active_tap\":\"auto\",\"tools\":[{\"id\":\"4218\",\"type\":\"PanTool\"},{\"id\":\"4219\",\"type\":\"WheelZoomTool\"},{\"id\":\"4220\",\"type\":\"BoxZoomTool\"},{\"id\":\"4221\",\"type\":\"SaveTool\"},{\"id\":\"4222\",\"type\":\"ResetTool\"},{\"id\":\"4223\",\"type\":\"HelpTool\"}]},\"id\":\"4224\",\"type\":\"Toolbar\"},{\"attributes\":{\"days\":[1,15]},\"id\":\"4248\",\"type\":\"DaysTicker\"},{\"attributes\":{\"months\":[0,1,2,3,4,5,6,7,8,9,10,11]},\"id\":\"4249\",\"type\":\"MonthsTicker\"},{\"attributes\":{\"months\":[0,2,4,6,8,10]},\"id\":\"4250\",\"type\":\"MonthsTicker\"},{\"attributes\":{\"ticker\":{\"id\":\"4209\",\"type\":\"DatetimeTicker\"}},\"id\":\"4212\",\"type\":\"Grid\"},{\"attributes\":{},\"id\":\"4223\",\"type\":\"HelpTool\"},{\"attributes\":{},\"id\":\"4218\",\"type\":\"PanTool\"},{\"attributes\":{\"months\":[0,4,8]},\"id\":\"4251\",\"type\":\"MonthsTicker\"},{\"attributes\":{\"dimension\":1,\"ticker\":{\"id\":\"4214\",\"type\":\"BasicTicker\"}},\"id\":\"4217\",\"type\":\"Grid\"},{\"attributes\":{},\"id\":\"4219\",\"type\":\"WheelZoomTool\"},{\"attributes\":{},\"id\":\"4222\",\"type\":\"ResetTool\"},{\"attributes\":{},\"id\":\"4467\",\"type\":\"UnionRenderers\"},{\"attributes\":{},\"id\":\"4253\",\"type\":\"YearsTicker\"},{\"attributes\":{},\"id\":\"4204\",\"type\":\"LinearScale\"},{\"attributes\":{\"line_alpha\":0.1,\"line_color\":\"#1f77b4\",\"x\":{\"field\":\"x\"},\"y\":{\"field\":\"y\"}},\"id\":\"4258\",\"type\":\"Line\"},{\"attributes\":{\"source\":{\"id\":\"4231\",\"type\":\"ColumnDataSource\"}},\"id\":\"4235\",\"type\":\"CDSView\"},{\"attributes\":{\"source\":{\"id\":\"4256\",\"type\":\"ColumnDataSource\"}},\"id\":\"4260\",\"type\":\"CDSView\"}],\"root_ids\":[\"4197\"]},\"title\":\"Bokeh Application\",\"version\":\"1.4.0\"}};\n",
       "  var render_items = [{\"docid\":\"edc5cb09-f10c-4dab-9626-04c00d8377c7\",\"roots\":{\"4197\":\"4cfe0e55-f74e-4686-b08d-468beb71b8e1\"}}];\n",
       "  root.Bokeh.embed.embed_items_notebook(docs_json, render_items);\n",
       "\n",
       "  }\n",
       "  if (root.Bokeh !== undefined) {\n",
       "    embed_document(root);\n",
       "  } else {\n",
       "    var attempts = 0;\n",
       "    var timer = setInterval(function(root) {\n",
       "      if (root.Bokeh !== undefined) {\n",
       "        clearInterval(timer);\n",
       "        embed_document(root);\n",
       "      } else {\n",
       "        attempts++;\n",
       "        if (attempts > 100) {\n",
       "          clearInterval(timer);\n",
       "          console.log(\"Bokeh: ERROR: Unable to run BokehJS code because BokehJS library is missing\");\n",
       "        }\n",
       "      }\n",
       "    }, 10, root)\n",
       "  }\n",
       "})(window);"
      ],
      "application/vnd.bokehjs_exec.v0+json": ""
     },
     "metadata": {
      "application/vnd.bokehjs_exec.v0+json": {
       "id": "4197"
      }
     },
     "output_type": "display_data"
    },
    {
     "data": {
      "text/html": [
       "\n",
       "\n",
       "\n",
       "\n",
       "\n",
       "\n",
       "  <div class=\"bk-root\" id=\"634d0825-8a23-4ff6-8d10-ea462293d68b\" data-root-id=\"4612\"></div>\n"
      ]
     },
     "metadata": {},
     "output_type": "display_data"
    },
    {
     "data": {
      "application/javascript": [
       "(function(root) {\n",
       "  function embed_document(root) {\n",
       "    \n",
       "  var docs_json = {\"b308bda6-88da-44bc-9185-93854a36074c\":{\"roots\":{\"references\":[{\"attributes\":{\"below\":[{\"id\":\"4623\",\"type\":\"DatetimeAxis\"}],\"center\":[{\"id\":\"4627\",\"type\":\"Grid\"},{\"id\":\"4632\",\"type\":\"Grid\"},{\"id\":\"4669\",\"type\":\"Legend\"}],\"left\":[{\"id\":\"4628\",\"type\":\"LinearAxis\"}],\"plot_height\":320,\"plot_width\":960,\"renderers\":[{\"id\":\"4649\",\"type\":\"GlyphRenderer\"},{\"id\":\"4674\",\"type\":\"GlyphRenderer\"}],\"title\":{\"id\":\"4613\",\"type\":\"Title\"},\"toolbar\":{\"id\":\"4639\",\"type\":\"Toolbar\"},\"x_range\":{\"id\":\"4615\",\"type\":\"DataRange1d\"},\"x_scale\":{\"id\":\"4619\",\"type\":\"LinearScale\"},\"y_range\":{\"id\":\"4617\",\"type\":\"DataRange1d\"},\"y_scale\":{\"id\":\"4621\",\"type\":\"LinearScale\"}},\"id\":\"4612\",\"subtype\":\"Figure\",\"type\":\"Plot\"},{\"attributes\":{\"axis_label\":\"Timestmap\",\"formatter\":{\"id\":\"4653\",\"type\":\"DatetimeTickFormatter\"},\"ticker\":{\"id\":\"4624\",\"type\":\"DatetimeTicker\"}},\"id\":\"4623\",\"type\":\"DatetimeAxis\"},{\"attributes\":{},\"id\":\"4638\",\"type\":\"HelpTool\"},{\"attributes\":{},\"id\":\"4903\",\"type\":\"Selection\"},{\"attributes\":{},\"id\":\"4653\",\"type\":\"DatetimeTickFormatter\"},{\"attributes\":{\"days\":[1,15]},\"id\":\"4663\",\"type\":\"DaysTicker\"},{\"attributes\":{\"data_source\":{\"id\":\"4646\",\"type\":\"ColumnDataSource\"},\"glyph\":{\"id\":\"4647\",\"type\":\"Line\"},\"hover_glyph\":null,\"muted_glyph\":null,\"nonselection_glyph\":{\"id\":\"4648\",\"type\":\"Line\"},\"selection_glyph\":null,\"view\":{\"id\":\"4650\",\"type\":\"CDSView\"}},\"id\":\"4649\",\"type\":\"GlyphRenderer\"},{\"attributes\":{\"months\":[0,4,8]},\"id\":\"4666\",\"type\":\"MonthsTicker\"},{\"attributes\":{\"months\":[0,6]},\"id\":\"4667\",\"type\":\"MonthsTicker\"},{\"attributes\":{\"bottom_units\":\"screen\",\"fill_alpha\":{\"value\":0.5},\"fill_color\":{\"value\":\"lightgrey\"},\"left_units\":\"screen\",\"level\":\"overlay\",\"line_alpha\":{\"value\":1.0},\"line_color\":{\"value\":\"black\"},\"line_dash\":[4,4],\"line_width\":{\"value\":2},\"render_mode\":\"css\",\"right_units\":\"screen\",\"top_units\":\"screen\"},\"id\":\"4656\",\"type\":\"BoxAnnotation\"},{\"attributes\":{},\"id\":\"4668\",\"type\":\"YearsTicker\"},{\"attributes\":{\"data_source\":{\"id\":\"4671\",\"type\":\"ColumnDataSource\"},\"glyph\":{\"id\":\"4672\",\"type\":\"Line\"},\"hover_glyph\":null,\"muted_glyph\":null,\"nonselection_glyph\":{\"id\":\"4673\",\"type\":\"Line\"},\"selection_glyph\":null,\"view\":{\"id\":\"4675\",\"type\":\"CDSView\"}},\"id\":\"4674\",\"type\":\"GlyphRenderer\"},{\"attributes\":{},\"id\":\"4633\",\"type\":\"PanTool\"},{\"attributes\":{\"line_alpha\":0.1,\"line_color\":\"#1f77b4\",\"x\":{\"field\":\"x\"},\"y\":{\"field\":\"y\"}},\"id\":\"4673\",\"type\":\"Line\"},{\"attributes\":{\"label\":{\"value\":\"predictions\"},\"renderers\":[{\"id\":\"4649\",\"type\":\"GlyphRenderer\"}]},\"id\":\"4670\",\"type\":\"LegendItem\"},{\"attributes\":{\"items\":[{\"id\":\"4670\",\"type\":\"LegendItem\"},{\"id\":\"4696\",\"type\":\"LegendItem\"}]},\"id\":\"4669\",\"type\":\"Legend\"},{\"attributes\":{\"callback\":null},\"id\":\"4615\",\"type\":\"DataRange1d\"},{\"attributes\":{},\"id\":\"4637\",\"type\":\"ResetTool\"},{\"attributes\":{\"line_alpha\":0.1,\"line_color\":\"#1f77b4\",\"x\":{\"field\":\"x\"},\"y\":{\"field\":\"y\"}},\"id\":\"4648\",\"type\":\"Line\"},{\"attributes\":{},\"id\":\"4636\",\"type\":\"SaveTool\"},{\"attributes\":{\"source\":{\"id\":\"4671\",\"type\":\"ColumnDataSource\"}},\"id\":\"4675\",\"type\":\"CDSView\"},{\"attributes\":{},\"id\":\"4655\",\"type\":\"BasicTickFormatter\"},{\"attributes\":{},\"id\":\"4634\",\"type\":\"WheelZoomTool\"},{\"attributes\":{\"callback\":null,\"data\":{\"x\":{\"__ndarray__\":\"AACALeiCdEIAAGic64J0QgAAUAvvgnRCAAA4evKCdEIAACDp9YJ0QgAACFj5gnRCAADwxvyCdEIAANg1AIN0QgAAwKQDg3RCAACoEweDdEIAAJCCCoN0QgAAePENg3RCAABgYBGDdEIAAEjPFIN0QgAAMD4Yg3RCAAAYrRuDdEIAAAAcH4N0QgAA6Ioig3RCAADQ+SWDdEIAALhoKYN0QgAAoNcsg3RCAACIRjCDdEIAAHC1M4N0QgAAWCQ3g3RCAABAkzqDdEIAACgCPoN0QgAAEHFBg3RCAAD430SDdEIAAOBOSIN0QgAAyL1Lg3RCAACwLE+DdEIAAJibUoN0QgAAgApWg3RCAABoeVmDdEIAAFDoXIN0QgAAOFdgg3RCAAAgxmODdEIAAAg1Z4N0QgAA8KNqg3RCAADYEm6DdEIAAMCBcYN0QgAAqPB0g3RCAACQX3iDdEIAAHjOe4N0QgAAYD1/g3RCAABIrIKDdEIAADAbhoN0QgAAGIqJg3RCAAAA+YyDdEIAAOhnkIN0QgAA0NaTg3RCAAC4RZeDdEIAAKC0moN0QgAAiCOeg3RCAABwkqGDdEIAAFgBpYN0QgAAQHCog3RCAAAo36uDdEIAABBOr4N0QgAA+Lyyg3RCAADgK7aDdEIAAMiauYN0QgAAsAm9g3RCAACYeMCDdEIAAIDnw4N0QgAAaFbHg3RCAABQxcqDdEIAADg0zoN0QgAAIKPRg3RCAAAIEtWDdEIAAPCA2IN0QgAA2O/bg3RCAADAXt+DdEIAAKjN4oN0QgAAkDzmg3RCAAB4q+mDdEIAAGAa7YN0QgAASInwg3RCAAAw+PODdEIAABhn94N0QgAAANb6g3RCAADoRP6DdEIAANCzAYR0QgAAuCIFhHRCAACgkQiEdEIAAIgADIR0QgAAcG8PhHRCAABY3hKEdEIAAEBNFoR0QgAAKLwZhHRCAAAQKx2EdEIAAPiZIIR0QgAA4AgkhHRCAADIdyeEdEIAALDmKoR0QgAAmFUuhHRCAACAxDGEdEIAAGgzNYR0QgAAUKI4hHRCAAA4ETyEdEIAACCAP4R0QgAACO9ChHRCAADwXUaEdEIAANjMSYR0QgAAwDtNhHRCAACoqlCEdEIAAJAZVIR0QgAAeIhXhHRCAABg91qEdEIAAEhmXoR0QgAAMNVhhHRCAAAYRGWEdEIAAACzaIR0QgAA6CFshHRCAADQkG+EdEIAALj/coR0QgAAoG52hHRCAACI3XmEdEIAAHBMfYR0QgAAWLuAhHRCAABAKoSEdEIAACiZh4R0QgAAEAiLhHRCAAD4do6EdEIAAODlkYR0QgAAyFSVhHRCAACww5iEdEIAAJgynIR0QgAAgKGfhHRCAABoEKOEdEIAAFB/poR0QgAAOO6phHRCAAAgXa2EdEIAAAjMsIR0QgAA8Dq0hHRCAADYqbeEdEIAAMAYu4R0QgAAqIe+hHRCAACQ9sGEdEIAAHhlxYR0QgAAYNTIhHRCAABIQ8yEdEIAADCyz4R0QgAAGCHThHRCAAAAkNaEdEIAAOj+2YR0QgAA0G3dhHRCAAC43OCEdEIAAKBL5IR0QgAAiLrnhHRCAABwKeuEdEIAAFiY7oR0QgAAQAfyhHRCAAAodvWEdEIAABDl+IR0QgAA+FP8hHRCAADgwv+EdEIAAMgxA4V0QgAAsKAGhXRCAACYDwqFdEIAAIB+DYV0QgAAaO0QhXRCAABQXBSFdEIAADjLF4V0QgAAIDobhXRCAAAIqR6FdEIAAPAXIoV0QgAA2IYlhXRC\",\"dtype\":\"float64\",\"shape\":[168]},\"y\":{\"__ndarray__\":\"1MfgfAxmkEB7JWpXooqQQFO7ErUrZpBA8ErUrkQ1kEC4RO1K1BSPQJaoXYnajY1AxuB8DM55mkD/5mNwPs+cQAAAAAAAPZ1AfSVqV6KznkBWonYlaq6jQORjcD4GzaNAbD4G5+MupEBsPgbn45ykQCw4H4PznKRAicH5GBzapEDsMTgfA0KlQHQMzsfg2qVAkKhdidoEpUA6BudjcE2kQN58DM5HR6RA5GNwPgYEpEBwV6J2JbubQKpdidqVc5VAGrUrUbspk0C4K1G7ElqRQNh8DM7HfpFAnI/B+RgdkUBYcD4G5xCRQBjnY3A+cpBA9f////9lnECOwfkYnIKeQPpjcD4G+Z5AVLsStSuIoUDkY3A+BjukQEHtStQuQaRAELUrUbtfpEAzH4PzseujQMnH4HwMbKRAu/kYnI8ppUA87UrUrpelQHIlalciHqZAdAzOx+BspUClXYnaFamkQKVdidoVcqRA8zE4H4N9o0A3OB+D8/+aQHUMzsfg7JJA6Ricj8G7kUDilahdibuQQI/B+Ricx5BAtitRuxIpkEDDK1G7EimQQLhE7UrUFI9AZz4G52PDmEBGBudjcGaeQOGuRO1Kcp1AYqJ2JWrAn0A5H4PzscekQJ52JWpXR6RACc7H4Pw0pEAH52NwvrOiQFaidiVqd6NApV2J2hXNo0DJx+B8DDWkQMjH4HwMo6RAnI/B+RiPokDarkTtyp+gQGlwPgZnLKFAxvkYnI8yoUDVrkTtSoWZQHQMzsfg7JJA9uZjcD4RkkDjY3A+BqOQQLkStStR7JBATR+D8zHYj0AwOB+D89ePQCyD8zE4LY9AuCtRuxLomUArUbsStX6eQBjnY3A+7J1AU9SuRO0GoECADM7H4OOhQA3Ox+B8wqVA0K5E7crxo0A5H4PzMZWiQKxE7UrUiaNASNSuRO39o0AsOB+D82WkQC04H4PzZaRAsytRu5Lro0CI2pWo3SGjQLIrUbuSfaNAvhK1K9GsoUAPtStRu8+cQI3alahdc5RAyq5E7UrIkkDIx+B8DAWSQGglaleiu5FAIjgfg/PHkUDEErUrUeyQQCtRuxK1UY5APdSuRO3zmEC3RO1K1FGeQGOidiVqBJ1AHJyPwXkloEBB7UrULkGkQFaidiVqrqNAjsH5GJyDo0BcidqVKKKjQCpRuxI1cqRAsitRu5K0o0CzK1G7kn2jQNaVqF2JHKRAz65E7coopEAkalei9syjQGVXonYlqaRAXYnalSg0o0AM52NwPs6YQOZK1K5El5JArhK1K1EdkkBI1K5E7dOQQBq1K1G7x5BARQbnY3B+kEDJx+B8DGaQQI6oXYnaWZBArhK1K1F6mUAwUbsSNbKgQEfUrkTtjp5A4K5E7UrHnUD3MTgfA/ChQGpXonalbaZApF2J2hU7pEDzMTgfg0ajQFyJ2pUoa6NAegzOx2Coo0CsRO1K1ImjQOtK1K7EiaNAI2pXovaVo0BdidqVKDSjQLgrUbsSuaFATtSuRG3LoUBwV6J2JeibQHBXonYlpJRAu/kYnI/gkkAcnI/B+YqRQKaoXYnaWZBAmqhdidpZkEDTx+B8DGaQQGS7ErUrp49ABLUrUbvDmUB/JWpXov2fQPBjcD4GAJ1AWInalagsnUBO1K5EbTmiQI/B+RicFaNAE87H4Px0oECFDM7HYFagQCKD8zG43aFAIoPzMbimoUCUwfkYHPahQIbzMTifoKFAnY/B+RiPokB4JWpXIl6iQNWuRO1Km6JAeCVqVyJeokAog/MxOHmZQKFE7UrUNZJA\",\"dtype\":\"float64\",\"shape\":[168]}},\"selected\":{\"id\":\"4903\",\"type\":\"Selection\"},\"selection_policy\":{\"id\":\"4904\",\"type\":\"UnionRenderers\"}},\"id\":\"4671\",\"type\":\"ColumnDataSource\"},{\"attributes\":{\"mantissas\":[1,2,5],\"max_interval\":500.0,\"num_minor_ticks\":0},\"id\":\"4657\",\"type\":\"AdaptiveTicker\"},{\"attributes\":{\"months\":[0,1,2,3,4,5,6,7,8,9,10,11]},\"id\":\"4664\",\"type\":\"MonthsTicker\"},{\"attributes\":{\"active_drag\":\"auto\",\"active_inspect\":\"auto\",\"active_multi\":null,\"active_scroll\":\"auto\",\"active_tap\":\"auto\",\"tools\":[{\"id\":\"4633\",\"type\":\"PanTool\"},{\"id\":\"4634\",\"type\":\"WheelZoomTool\"},{\"id\":\"4635\",\"type\":\"BoxZoomTool\"},{\"id\":\"4636\",\"type\":\"SaveTool\"},{\"id\":\"4637\",\"type\":\"ResetTool\"},{\"id\":\"4638\",\"type\":\"HelpTool\"}]},\"id\":\"4639\",\"type\":\"Toolbar\"},{\"attributes\":{\"line_color\":\"red\",\"x\":{\"field\":\"x\"},\"y\":{\"field\":\"y\"}},\"id\":\"4647\",\"type\":\"Line\"},{\"attributes\":{\"line_color\":\"blue\",\"x\":{\"field\":\"x\"},\"y\":{\"field\":\"y\"}},\"id\":\"4672\",\"type\":\"Line\"},{\"attributes\":{},\"id\":\"4904\",\"type\":\"UnionRenderers\"},{\"attributes\":{},\"id\":\"4619\",\"type\":\"LinearScale\"},{\"attributes\":{\"overlay\":{\"id\":\"4656\",\"type\":\"BoxAnnotation\"}},\"id\":\"4635\",\"type\":\"BoxZoomTool\"},{\"attributes\":{\"days\":[1,2,3,4,5,6,7,8,9,10,11,12,13,14,15,16,17,18,19,20,21,22,23,24,25,26,27,28,29,30,31]},\"id\":\"4660\",\"type\":\"DaysTicker\"},{\"attributes\":{\"axis_label\":\"Value\",\"formatter\":{\"id\":\"4655\",\"type\":\"BasicTickFormatter\"},\"ticker\":{\"id\":\"4629\",\"type\":\"BasicTicker\"}},\"id\":\"4628\",\"type\":\"LinearAxis\"},{\"attributes\":{\"base\":60,\"mantissas\":[1,2,5,10,15,20,30],\"max_interval\":1800000.0,\"min_interval\":1000.0,\"num_minor_ticks\":0},\"id\":\"4658\",\"type\":\"AdaptiveTicker\"},{\"attributes\":{\"days\":[1,8,15,22]},\"id\":\"4662\",\"type\":\"DaysTicker\"},{\"attributes\":{\"text\":\"Predictions over the test dataset for MT_323\"},\"id\":\"4613\",\"type\":\"Title\"},{\"attributes\":{\"callback\":null,\"data\":{\"x\":{\"__ndarray__\":\"AACALeiCdEIAAGic64J0QgAAUAvvgnRCAAA4evKCdEIAACDp9YJ0QgAACFj5gnRCAADwxvyCdEIAANg1AIN0QgAAwKQDg3RCAACoEweDdEIAAJCCCoN0QgAAePENg3RCAABgYBGDdEIAAEjPFIN0QgAAMD4Yg3RCAAAYrRuDdEIAAAAcH4N0QgAA6Ioig3RCAADQ+SWDdEIAALhoKYN0QgAAoNcsg3RCAACIRjCDdEIAAHC1M4N0QgAAWCQ3g3RCAABAkzqDdEIAACgCPoN0QgAAEHFBg3RCAAD430SDdEIAAOBOSIN0QgAAyL1Lg3RCAACwLE+DdEIAAJibUoN0QgAAgApWg3RCAABoeVmDdEIAAFDoXIN0QgAAOFdgg3RCAAAgxmODdEIAAAg1Z4N0QgAA8KNqg3RCAADYEm6DdEIAAMCBcYN0QgAAqPB0g3RCAACQX3iDdEIAAHjOe4N0QgAAYD1/g3RCAABIrIKDdEIAADAbhoN0QgAAGIqJg3RCAAAA+YyDdEIAAOhnkIN0QgAA0NaTg3RCAAC4RZeDdEIAAKC0moN0QgAAiCOeg3RCAABwkqGDdEIAAFgBpYN0QgAAQHCog3RCAAAo36uDdEIAABBOr4N0QgAA+Lyyg3RCAADgK7aDdEIAAMiauYN0QgAAsAm9g3RCAACYeMCDdEIAAIDnw4N0QgAAaFbHg3RCAABQxcqDdEIAADg0zoN0QgAAIKPRg3RCAAAIEtWDdEIAAPCA2IN0QgAA2O/bg3RCAADAXt+DdEIAAKjN4oN0QgAAkDzmg3RCAAB4q+mDdEIAAGAa7YN0QgAASInwg3RCAAAw+PODdEIAABhn94N0QgAAANb6g3RCAADoRP6DdEIAANCzAYR0QgAAuCIFhHRCAACgkQiEdEIAAIgADIR0QgAAcG8PhHRCAABY3hKEdEIAAEBNFoR0QgAAKLwZhHRCAAAQKx2EdEIAAPiZIIR0QgAA4AgkhHRCAADIdyeEdEIAALDmKoR0QgAAmFUuhHRCAACAxDGEdEIAAGgzNYR0QgAAUKI4hHRCAAA4ETyEdEIAACCAP4R0QgAACO9ChHRCAADwXUaEdEIAANjMSYR0QgAAwDtNhHRCAACoqlCEdEIAAJAZVIR0QgAAeIhXhHRCAABg91qEdEIAAEhmXoR0QgAAMNVhhHRCAAAYRGWEdEIAAACzaIR0QgAA6CFshHRCAADQkG+EdEIAALj/coR0QgAAoG52hHRCAACI3XmEdEIAAHBMfYR0QgAAWLuAhHRCAABAKoSEdEIAACiZh4R0QgAAEAiLhHRCAAD4do6EdEIAAODlkYR0QgAAyFSVhHRCAACww5iEdEIAAJgynIR0QgAAgKGfhHRCAABoEKOEdEIAAFB/poR0QgAAOO6phHRCAAAgXa2EdEIAAAjMsIR0QgAA8Dq0hHRCAADYqbeEdEIAAMAYu4R0QgAAqIe+hHRCAACQ9sGEdEIAAHhlxYR0QgAAYNTIhHRCAABIQ8yEdEIAADCyz4R0QgAAGCHThHRCAAAAkNaEdEIAAOj+2YR0QgAA0G3dhHRCAAC43OCEdEIAAKBL5IR0QgAAiLrnhHRCAABwKeuEdEIAAFiY7oR0QgAAQAfyhHRCAAAodvWEdEIAABDl+IR0QgAA+FP8hHRCAADgwv+EdEIAAMgxA4V0QgAAsKAGhXRCAACYDwqFdEIAAIB+DYV0QgAAaO0QhXRCAABQXBSFdEIAADjLF4V0QgAAIDobhXRCAAAIqR6FdEIAAPAXIoV0QgAA2IYlhXRC\",\"dtype\":\"float64\",\"shape\":[168]},\"y\":{\"__ndarray__\":\"AAAAwDKQkUAAAAAAv/OQQAAAAMAbspBAAAAAYAHoj0AAAADg1tmOQAAAAMCywo5AAAAAwGpNmkAAAACgUmGdQAAAACDeWp5AAAAAQDoCoUAAAABg5JuiQAAAAMCPyaNAAAAA4JSopEAAAACAVhekQAAAACANEaNAAAAAQAgCpEAAAAAAPCikQAAAAOByE6VAAAAAwDDupEAAAADgKFGlQAAAAGBEI6RAAAAAQH0TokAAAAAgfk2aQAAAAEB+IZNAAAAAIHABk0AAAACAeUSSQAAAAGB6f5FAAAAAYOi2kEAAAAAgTCOQQAAAAOAeJ49AAAAA4PM8lkAAAADggumdQAAAAIAmSJ5AAAAAwD5noEAAAAAAxxajQAAAACAlzaRAAAAAIFympEAAAACAGbmjQAAAAICo46NAAAAAAE8TpEAAAADAFjakQAAAAIAbqKRAAAAAwLgIpUAAAABglk6lQAAAAAAUlqRAAAAA4OKuo0AAAABAgyqaQAAAAGDDl5JAAAAAAIO3kkAAAAAg1jSTQAAAAIBEl5JAAAAAoEkUkkAAAACg6OqRQAAAAMBYoZFAAAAAIN0xmkAAAAAgTvOdQAAAAMBdYp9AAAAAIOLSoUAAAABgWDGjQAAAAICrqqRAAAAAIM6ppEAAAAAgFRakQAAAAOBf+6NAAAAAwHveo0AAAAAgfwWlQAAAAKCBP6VAAAAAoCMFpkAAAABgmCimQAAAAMAn86NAAAAAQIIEo0AAAACgHyeaQAAAAED3mZNAAAAAoNnukkAAAABAqjOSQAAAAKBGRZFAAAAAQEUekkAAAABAdLuRQAAAACD5lZFAAAAAoBcjmkAAAAAgz76dQAAAAACZD5xAAAAAAFYgoUAAAABAMIijQAAAAIAgSqNAAAAA4MyEo0AAAAAAFzOjQAAAAIAPpaNAAAAA4FJCo0AAAABAYBWjQAAAAABfU6RAAAAAIOqXo0AAAAAgtjajQAAAACAzjKJAAAAA4GUSoUAAAABghjWaQAAAAGDgypJAAAAAQHY7lEAAAADgq2eSQAAAAOBRC5JAAAAAgIrmkEAAAACg1JmPQAAAAMAUBJFAAAAAwNpimEAAAACAp9idQAAAACD7gJtAAAAAYLlqn0AAAADgMp+iQAAAAIAIsaJAAAAAQCzEokAAAABgjz+hQAAAAMDSB6JAAAAAYLn+oUAAAABAudShQAAAAECzDqJAAAAAQKbioUAAAABAa4OhQAAAAAByoaFAAAAAIDycnkAAAAAAjwmYQAAAAAAXxZJAAAAAYIALkkAAAABAiwqRQAAAAAAvnJBAAAAAwGE/kEAAAABACOmOQAAAAMAog45AAAAAQCLil0AAAACAIjSdQAAAAOCce5pAAAAAAGTYnUAAAABgMiGgQAAAAMACW6JAAAAA4LMAoUAAAACg9aeeQAAAAECxDJ9AAAAAoPbsnUAAAAAgVtSgQAAAACCYY6BAAAAAACbLoEAAAADANgmhQAAAAIBW2KBAAAAA4EyWnEAAAACg7lqTQAAAACCMWJFAAAAAwOzvkkAAAABAaDGSQAAAAICqQZFAAAAAoDyUkUAAAABgCimRQAAAAGCLM5FAAAAAwE0AnEAAAAAgJRGeQAAAAGBHc55AAAAA4FpRoEAAAACg2UeiQAAAAOAqYaJAAAAAgPpHokAAAABgPV6fQAAAAED9NZ9AAAAAQPxooEAAAABgZDugQAAAAICDYqFAAAAAwHiNoUAAAADAO+uhQAAAACA/yaFAAAAAoPFen0AAAADAec2XQAAAAOAuBZFA\",\"dtype\":\"float64\",\"shape\":[168]}},\"selected\":{\"id\":\"4682\",\"type\":\"Selection\"},\"selection_policy\":{\"id\":\"4683\",\"type\":\"UnionRenderers\"}},\"id\":\"4646\",\"type\":\"ColumnDataSource\"},{\"attributes\":{\"base\":24,\"mantissas\":[1,2,4,6,8,12],\"max_interval\":43200000.0,\"min_interval\":3600000.0,\"num_minor_ticks\":0},\"id\":\"4659\",\"type\":\"AdaptiveTicker\"},{\"attributes\":{\"dimension\":1,\"ticker\":{\"id\":\"4629\",\"type\":\"BasicTicker\"}},\"id\":\"4632\",\"type\":\"Grid\"},{\"attributes\":{\"callback\":null},\"id\":\"4617\",\"type\":\"DataRange1d\"},{\"attributes\":{},\"id\":\"4682\",\"type\":\"Selection\"},{\"attributes\":{\"months\":[0,2,4,6,8,10]},\"id\":\"4665\",\"type\":\"MonthsTicker\"},{\"attributes\":{},\"id\":\"4621\",\"type\":\"LinearScale\"},{\"attributes\":{\"ticker\":{\"id\":\"4624\",\"type\":\"DatetimeTicker\"}},\"id\":\"4627\",\"type\":\"Grid\"},{\"attributes\":{\"label\":{\"value\":\"targets\"},\"renderers\":[{\"id\":\"4674\",\"type\":\"GlyphRenderer\"}]},\"id\":\"4696\",\"type\":\"LegendItem\"},{\"attributes\":{\"days\":[1,4,7,10,13,16,19,22,25,28]},\"id\":\"4661\",\"type\":\"DaysTicker\"},{\"attributes\":{\"source\":{\"id\":\"4646\",\"type\":\"ColumnDataSource\"}},\"id\":\"4650\",\"type\":\"CDSView\"},{\"attributes\":{},\"id\":\"4683\",\"type\":\"UnionRenderers\"},{\"attributes\":{\"num_minor_ticks\":5,\"tickers\":[{\"id\":\"4657\",\"type\":\"AdaptiveTicker\"},{\"id\":\"4658\",\"type\":\"AdaptiveTicker\"},{\"id\":\"4659\",\"type\":\"AdaptiveTicker\"},{\"id\":\"4660\",\"type\":\"DaysTicker\"},{\"id\":\"4661\",\"type\":\"DaysTicker\"},{\"id\":\"4662\",\"type\":\"DaysTicker\"},{\"id\":\"4663\",\"type\":\"DaysTicker\"},{\"id\":\"4664\",\"type\":\"MonthsTicker\"},{\"id\":\"4665\",\"type\":\"MonthsTicker\"},{\"id\":\"4666\",\"type\":\"MonthsTicker\"},{\"id\":\"4667\",\"type\":\"MonthsTicker\"},{\"id\":\"4668\",\"type\":\"YearsTicker\"}]},\"id\":\"4624\",\"type\":\"DatetimeTicker\"},{\"attributes\":{},\"id\":\"4629\",\"type\":\"BasicTicker\"}],\"root_ids\":[\"4612\"]},\"title\":\"Bokeh Application\",\"version\":\"1.4.0\"}};\n",
       "  var render_items = [{\"docid\":\"b308bda6-88da-44bc-9185-93854a36074c\",\"roots\":{\"4612\":\"634d0825-8a23-4ff6-8d10-ea462293d68b\"}}];\n",
       "  root.Bokeh.embed.embed_items_notebook(docs_json, render_items);\n",
       "\n",
       "  }\n",
       "  if (root.Bokeh !== undefined) {\n",
       "    embed_document(root);\n",
       "  } else {\n",
       "    var attempts = 0;\n",
       "    var timer = setInterval(function(root) {\n",
       "      if (root.Bokeh !== undefined) {\n",
       "        clearInterval(timer);\n",
       "        embed_document(root);\n",
       "      } else {\n",
       "        attempts++;\n",
       "        if (attempts > 100) {\n",
       "          clearInterval(timer);\n",
       "          console.log(\"Bokeh: ERROR: Unable to run BokehJS code because BokehJS library is missing\");\n",
       "        }\n",
       "      }\n",
       "    }, 10, root)\n",
       "  }\n",
       "})(window);"
      ],
      "application/vnd.bokehjs_exec.v0+json": ""
     },
     "metadata": {
      "application/vnd.bokehjs_exec.v0+json": {
       "id": "4612"
      }
     },
     "output_type": "display_data"
    },
    {
     "data": {
      "text/html": [
       "\n",
       "\n",
       "\n",
       "\n",
       "\n",
       "\n",
       "  <div class=\"bk-root\" id=\"e5b82494-5c4a-455e-9bbb-422277870e4b\" data-root-id=\"5049\"></div>\n"
      ]
     },
     "metadata": {},
     "output_type": "display_data"
    },
    {
     "data": {
      "application/javascript": [
       "(function(root) {\n",
       "  function embed_document(root) {\n",
       "    \n",
       "  var docs_json = {\"85610a10-15cd-4ade-91cd-154141ae537a\":{\"roots\":{\"references\":[{\"attributes\":{\"below\":[{\"id\":\"5060\",\"type\":\"DatetimeAxis\"}],\"center\":[{\"id\":\"5064\",\"type\":\"Grid\"},{\"id\":\"5069\",\"type\":\"Grid\"},{\"id\":\"5106\",\"type\":\"Legend\"}],\"left\":[{\"id\":\"5065\",\"type\":\"LinearAxis\"}],\"plot_height\":320,\"plot_width\":960,\"renderers\":[{\"id\":\"5086\",\"type\":\"GlyphRenderer\"},{\"id\":\"5111\",\"type\":\"GlyphRenderer\"}],\"title\":{\"id\":\"5050\",\"type\":\"Title\"},\"toolbar\":{\"id\":\"5076\",\"type\":\"Toolbar\"},\"x_range\":{\"id\":\"5052\",\"type\":\"DataRange1d\"},\"x_scale\":{\"id\":\"5056\",\"type\":\"LinearScale\"},\"y_range\":{\"id\":\"5054\",\"type\":\"DataRange1d\"},\"y_scale\":{\"id\":\"5058\",\"type\":\"LinearScale\"}},\"id\":\"5049\",\"subtype\":\"Figure\",\"type\":\"Plot\"},{\"attributes\":{\"items\":[{\"id\":\"5107\",\"type\":\"LegendItem\"},{\"id\":\"5133\",\"type\":\"LegendItem\"}]},\"id\":\"5106\",\"type\":\"Legend\"},{\"attributes\":{\"line_alpha\":0.1,\"line_color\":\"#1f77b4\",\"x\":{\"field\":\"x\"},\"y\":{\"field\":\"y\"}},\"id\":\"5085\",\"type\":\"Line\"},{\"attributes\":{},\"id\":\"5058\",\"type\":\"LinearScale\"},{\"attributes\":{},\"id\":\"5092\",\"type\":\"BasicTickFormatter\"},{\"attributes\":{},\"id\":\"5105\",\"type\":\"YearsTicker\"},{\"attributes\":{\"source\":{\"id\":\"5083\",\"type\":\"ColumnDataSource\"}},\"id\":\"5087\",\"type\":\"CDSView\"},{\"attributes\":{\"bottom_units\":\"screen\",\"fill_alpha\":{\"value\":0.5},\"fill_color\":{\"value\":\"lightgrey\"},\"left_units\":\"screen\",\"level\":\"overlay\",\"line_alpha\":{\"value\":1.0},\"line_color\":{\"value\":\"black\"},\"line_dash\":[4,4],\"line_width\":{\"value\":2},\"render_mode\":\"css\",\"right_units\":\"screen\",\"top_units\":\"screen\"},\"id\":\"5093\",\"type\":\"BoxAnnotation\"},{\"attributes\":{\"active_drag\":\"auto\",\"active_inspect\":\"auto\",\"active_multi\":null,\"active_scroll\":\"auto\",\"active_tap\":\"auto\",\"tools\":[{\"id\":\"5070\",\"type\":\"PanTool\"},{\"id\":\"5071\",\"type\":\"WheelZoomTool\"},{\"id\":\"5072\",\"type\":\"BoxZoomTool\"},{\"id\":\"5073\",\"type\":\"SaveTool\"},{\"id\":\"5074\",\"type\":\"ResetTool\"},{\"id\":\"5075\",\"type\":\"HelpTool\"}]},\"id\":\"5076\",\"type\":\"Toolbar\"},{\"attributes\":{\"line_alpha\":0.1,\"line_color\":\"#1f77b4\",\"x\":{\"field\":\"x\"},\"y\":{\"field\":\"y\"}},\"id\":\"5110\",\"type\":\"Line\"},{\"attributes\":{\"callback\":null,\"data\":{\"x\":{\"__ndarray__\":\"AACALeiCdEIAAGic64J0QgAAUAvvgnRCAAA4evKCdEIAACDp9YJ0QgAACFj5gnRCAADwxvyCdEIAANg1AIN0QgAAwKQDg3RCAACoEweDdEIAAJCCCoN0QgAAePENg3RCAABgYBGDdEIAAEjPFIN0QgAAMD4Yg3RCAAAYrRuDdEIAAAAcH4N0QgAA6Ioig3RCAADQ+SWDdEIAALhoKYN0QgAAoNcsg3RCAACIRjCDdEIAAHC1M4N0QgAAWCQ3g3RCAABAkzqDdEIAACgCPoN0QgAAEHFBg3RCAAD430SDdEIAAOBOSIN0QgAAyL1Lg3RCAACwLE+DdEIAAJibUoN0QgAAgApWg3RCAABoeVmDdEIAAFDoXIN0QgAAOFdgg3RCAAAgxmODdEIAAAg1Z4N0QgAA8KNqg3RCAADYEm6DdEIAAMCBcYN0QgAAqPB0g3RCAACQX3iDdEIAAHjOe4N0QgAAYD1/g3RCAABIrIKDdEIAADAbhoN0QgAAGIqJg3RCAAAA+YyDdEIAAOhnkIN0QgAA0NaTg3RCAAC4RZeDdEIAAKC0moN0QgAAiCOeg3RCAABwkqGDdEIAAFgBpYN0QgAAQHCog3RCAAAo36uDdEIAABBOr4N0QgAA+Lyyg3RCAADgK7aDdEIAAMiauYN0QgAAsAm9g3RCAACYeMCDdEIAAIDnw4N0QgAAaFbHg3RCAABQxcqDdEIAADg0zoN0QgAAIKPRg3RCAAAIEtWDdEIAAPCA2IN0QgAA2O/bg3RCAADAXt+DdEIAAKjN4oN0QgAAkDzmg3RCAAB4q+mDdEIAAGAa7YN0QgAASInwg3RCAAAw+PODdEIAABhn94N0QgAAANb6g3RCAADoRP6DdEIAANCzAYR0QgAAuCIFhHRCAACgkQiEdEIAAIgADIR0QgAAcG8PhHRCAABY3hKEdEIAAEBNFoR0QgAAKLwZhHRCAAAQKx2EdEIAAPiZIIR0QgAA4AgkhHRCAADIdyeEdEIAALDmKoR0QgAAmFUuhHRCAACAxDGEdEIAAGgzNYR0QgAAUKI4hHRCAAA4ETyEdEIAACCAP4R0QgAACO9ChHRCAADwXUaEdEIAANjMSYR0QgAAwDtNhHRCAACoqlCEdEIAAJAZVIR0QgAAeIhXhHRCAABg91qEdEIAAEhmXoR0QgAAMNVhhHRCAAAYRGWEdEIAAACzaIR0QgAA6CFshHRCAADQkG+EdEIAALj/coR0QgAAoG52hHRCAACI3XmEdEIAAHBMfYR0QgAAWLuAhHRCAABAKoSEdEIAACiZh4R0QgAAEAiLhHRCAAD4do6EdEIAAODlkYR0QgAAyFSVhHRCAACww5iEdEIAAJgynIR0QgAAgKGfhHRCAABoEKOEdEIAAFB/poR0QgAAOO6phHRCAAAgXa2EdEIAAAjMsIR0QgAA8Dq0hHRCAADYqbeEdEIAAMAYu4R0QgAAqIe+hHRCAACQ9sGEdEIAAHhlxYR0QgAAYNTIhHRCAABIQ8yEdEIAADCyz4R0QgAAGCHThHRCAAAAkNaEdEIAAOj+2YR0QgAA0G3dhHRCAAC43OCEdEIAAKBL5IR0QgAAiLrnhHRCAABwKeuEdEIAAFiY7oR0QgAAQAfyhHRCAAAodvWEdEIAABDl+IR0QgAA+FP8hHRCAADgwv+EdEIAAMgxA4V0QgAAsKAGhXRCAACYDwqFdEIAAIB+DYV0QgAAaO0QhXRCAABQXBSFdEIAADjLF4V0QgAAIDobhXRCAAAIqR6FdEIAAPAXIoV0QgAA2IYlhXRC\",\"dtype\":\"float64\",\"shape\":[168]},\"y\":{\"__ndarray__\":\"AAAAwM8ZckAAAABgDyBxQAAAAMB/gnBAAAAAIE8gcEAAAADgc3VuQAAAAKB7q2pAAAAA4AHga0AAAABgJAp1QAAAAIB2RnRAAAAAgBcdeEAAAABgXBp8QAAAAKD66n5AAAAAYF41f0AAAABg4SV/QAAAAKCOPH5AAAAAAO3/fUAAAADg6sB9QAAAAED+e35AAAAAwDwCf0AAAACAZFZ+QAAAAEDvH31AAAAA4DLfe0AAAADguF14QAAAAKAtYHVAAAAAYMVHcEAAAADg1P9wQAAAAADNVXBAAAAAABwmcEAAAACA/8VuQAAAAOCpP2tAAAAAYI+Ca0AAAABgEHB1QAAAAOCQvHRAAAAAAJVFekAAAABgvK9+QAAAAMBvkX9AAAAAgO5Yf0AAAADgI19/QAAAACCUBX9AAAAAYIY/f0AAAACAojp/QAAAAGDls35AAAAAwBVxfkAAAAAgk2N+QAAAAKAGm31AAAAAgG2Re0AAAADge4d5QAAAAOCnTHZAAAAAgFOfbkAAAABAz0pvQAAAAIAiKnBAAAAA4MYccEAAAACgK6xuQAAAAGC27WtAAAAAIKJVbkAAAACgkC11QAAAAGAXaXZAAAAAQFAOe0AAAADAM3t8QAAAAGCtwXxAAAAAQFkYe0AAAADAbiR7QAAAAADZWXpAAAAAQKHlekAAAACgoON7QAAAAMCMynxAAAAA4GagfUAAAABg56Z9QAAAAECZG3xAAAAAoE19ekAAAABgA0V4QAAAAMDZAnVAAAAA4NHRc0AAAADgrhhyQAAAAMAY2HBAAAAAIJykcEAAAACgIGpvQAAAAGD87G9AAAAAIBGAcUAAAABg6fB1QAAAAEAJBHdAAAAAoK0hekAAAACgcZZ6QAAAAMDaN3pAAAAAwGYge0AAAADggIZ5QAAAAOCjI3lAAAAAICSxekAAAABAyud6QAAAAODmtXtAAAAAoID/fEAAAACA9tJ7QAAAACB6YntAAAAAwEWuekAAAABghjB3QAAAAODbRHRAAAAAIMowcUAAAACAb8JvQAAAAIC1LnBAAAAAoLpEcEAAAADgALRvQAAAAMCQiW1AAAAAoAYrbUAAAADgdaJ0QAAAAEDE6HVAAAAAwHrsd0AAAABg0BV6QAAAAGDZgnlAAAAAYEK4eUAAAACAP7R5QAAAAAAALXlAAAAAII5FeUAAAACAqDl6QAAAACDWUHpAAAAA4FEUfEAAAABg0AB7QAAAAKBnLXpAAAAAgBsveUAAAABgwbp2QAAAAMBYCHRAAAAAILSyckAAAACA695wQAAAAGDhB3FAAAAAQONkcEAAAAAAObJvQAAAACC5rm1AAAAAoOQKbUAAAABg4B10QAAAACBaVHRAAAAAoAyfeEAAAADAj3d6QAAAAADhz3lAAAAAQIUge0AAAACgbMt5QAAAAEA6fnhAAAAAYA3ieEAAAACgddh5QAAAAKAR2ntAAAAAIFnpe0AAAACAlGp8QAAAACD05HpAAAAA4AXkeEAAAACADZN1QAAAAKBE93JAAAAA4F7ncEAAAABglu9wQAAAAOA1wHBAAAAAwAuycEAAAACAhJBwQAAAAMBH425AAAAA4HbLcEAAAAAguZt0QAAAAMCLB3RAAAAAIEd2eEAAAAAAUZ56QAAAAABPfHtAAAAAwIaie0AAAADAzDZ5QAAAAICQgXdAAAAAQAoqeUAAAAAgXlJ6QAAAACADe3tAAAAA4Diwe0AAAABACkh7QAAAAMCb8HhAAAAAIEdEeEAAAADgL1R1QAAAAODglnJA\",\"dtype\":\"float64\",\"shape\":[168]}},\"selected\":{\"id\":\"5119\",\"type\":\"Selection\"},\"selection_policy\":{\"id\":\"5120\",\"type\":\"UnionRenderers\"}},\"id\":\"5083\",\"type\":\"ColumnDataSource\"},{\"attributes\":{\"mantissas\":[1,2,5],\"max_interval\":500.0,\"num_minor_ticks\":0},\"id\":\"5094\",\"type\":\"AdaptiveTicker\"},{\"attributes\":{\"data_source\":{\"id\":\"5083\",\"type\":\"ColumnDataSource\"},\"glyph\":{\"id\":\"5084\",\"type\":\"Line\"},\"hover_glyph\":null,\"muted_glyph\":null,\"nonselection_glyph\":{\"id\":\"5085\",\"type\":\"Line\"},\"selection_glyph\":null,\"view\":{\"id\":\"5087\",\"type\":\"CDSView\"}},\"id\":\"5086\",\"type\":\"GlyphRenderer\"},{\"attributes\":{},\"id\":\"5056\",\"type\":\"LinearScale\"},{\"attributes\":{},\"id\":\"5363\",\"type\":\"UnionRenderers\"},{\"attributes\":{},\"id\":\"5070\",\"type\":\"PanTool\"},{\"attributes\":{\"source\":{\"id\":\"5108\",\"type\":\"ColumnDataSource\"}},\"id\":\"5112\",\"type\":\"CDSView\"},{\"attributes\":{\"ticker\":{\"id\":\"5061\",\"type\":\"DatetimeTicker\"}},\"id\":\"5064\",\"type\":\"Grid\"},{\"attributes\":{\"line_color\":\"blue\",\"x\":{\"field\":\"x\"},\"y\":{\"field\":\"y\"}},\"id\":\"5109\",\"type\":\"Line\"},{\"attributes\":{},\"id\":\"5071\",\"type\":\"WheelZoomTool\"},{\"attributes\":{\"callback\":null,\"data\":{\"x\":{\"__ndarray__\":\"AACALeiCdEIAAGic64J0QgAAUAvvgnRCAAA4evKCdEIAACDp9YJ0QgAACFj5gnRCAADwxvyCdEIAANg1AIN0QgAAwKQDg3RCAACoEweDdEIAAJCCCoN0QgAAePENg3RCAABgYBGDdEIAAEjPFIN0QgAAMD4Yg3RCAAAYrRuDdEIAAAAcH4N0QgAA6Ioig3RCAADQ+SWDdEIAALhoKYN0QgAAoNcsg3RCAACIRjCDdEIAAHC1M4N0QgAAWCQ3g3RCAABAkzqDdEIAACgCPoN0QgAAEHFBg3RCAAD430SDdEIAAOBOSIN0QgAAyL1Lg3RCAACwLE+DdEIAAJibUoN0QgAAgApWg3RCAABoeVmDdEIAAFDoXIN0QgAAOFdgg3RCAAAgxmODdEIAAAg1Z4N0QgAA8KNqg3RCAADYEm6DdEIAAMCBcYN0QgAAqPB0g3RCAACQX3iDdEIAAHjOe4N0QgAAYD1/g3RCAABIrIKDdEIAADAbhoN0QgAAGIqJg3RCAAAA+YyDdEIAAOhnkIN0QgAA0NaTg3RCAAC4RZeDdEIAAKC0moN0QgAAiCOeg3RCAABwkqGDdEIAAFgBpYN0QgAAQHCog3RCAAAo36uDdEIAABBOr4N0QgAA+Lyyg3RCAADgK7aDdEIAAMiauYN0QgAAsAm9g3RCAACYeMCDdEIAAIDnw4N0QgAAaFbHg3RCAABQxcqDdEIAADg0zoN0QgAAIKPRg3RCAAAIEtWDdEIAAPCA2IN0QgAA2O/bg3RCAADAXt+DdEIAAKjN4oN0QgAAkDzmg3RCAAB4q+mDdEIAAGAa7YN0QgAASInwg3RCAAAw+PODdEIAABhn94N0QgAAANb6g3RCAADoRP6DdEIAANCzAYR0QgAAuCIFhHRCAACgkQiEdEIAAIgADIR0QgAAcG8PhHRCAABY3hKEdEIAAEBNFoR0QgAAKLwZhHRCAAAQKx2EdEIAAPiZIIR0QgAA4AgkhHRCAADIdyeEdEIAALDmKoR0QgAAmFUuhHRCAACAxDGEdEIAAGgzNYR0QgAAUKI4hHRCAAA4ETyEdEIAACCAP4R0QgAACO9ChHRCAADwXUaEdEIAANjMSYR0QgAAwDtNhHRCAACoqlCEdEIAAJAZVIR0QgAAeIhXhHRCAABg91qEdEIAAEhmXoR0QgAAMNVhhHRCAAAYRGWEdEIAAACzaIR0QgAA6CFshHRCAADQkG+EdEIAALj/coR0QgAAoG52hHRCAACI3XmEdEIAAHBMfYR0QgAAWLuAhHRCAABAKoSEdEIAACiZh4R0QgAAEAiLhHRCAAD4do6EdEIAAODlkYR0QgAAyFSVhHRCAACww5iEdEIAAJgynIR0QgAAgKGfhHRCAABoEKOEdEIAAFB/poR0QgAAOO6phHRCAAAgXa2EdEIAAAjMsIR0QgAA8Dq0hHRCAADYqbeEdEIAAMAYu4R0QgAAqIe+hHRCAACQ9sGEdEIAAHhlxYR0QgAAYNTIhHRCAABIQ8yEdEIAADCyz4R0QgAAGCHThHRCAAAAkNaEdEIAAOj+2YR0QgAA0G3dhHRCAAC43OCEdEIAAKBL5IR0QgAAiLrnhHRCAABwKeuEdEIAAFiY7oR0QgAAQAfyhHRCAAAodvWEdEIAABDl+IR0QgAA+FP8hHRCAADgwv+EdEIAAMgxA4V0QgAAsKAGhXRCAACYDwqFdEIAAIB+DYV0QgAAaO0QhXRCAABQXBSFdEIAADjLF4V0QgAAIDobhXRCAAAIqR6FdEIAAPAXIoV0QgAA2IYlhXRC\",\"dtype\":\"float64\",\"shape\":[168]},\"y\":{\"__ndarray__\":\"58n47VLzbUD07VJPxh9tQDRsDiRabWpAdTJ+u9QTZkAdSLTC5nhlQDgHEq2w3WRAmvHbpZ7UaEAe0QqbA4t0QFxhcyDRyHFAf7vUk/FCdkBj/HapJ+B5QCZsDiRaonxAt8LmQKLFfEB4qSfjt1t8QF7qyfjtjntA1hxItMItekAyfrvUk3t6QEg9Gb9dwHtA4i71ZPwre0ARNgcSrR96QJ6M3y71QnpAFK2wOZCgeUBJPRm/Xd52QCtsDiRa3nJA1ZPx26W4bkAQrbA5kKpuQHIg0QqbA21AboXNgUTLbECCzYFEKxRsQPXtUk/Gs2pA+9ulnozba0B5Mn671Et1QEYrbA4kG3JAVE/Gb5fcd0CQ8dulnk14QJ6M3y71d3xA3S71ZPyzekC5Sz0Zv5d6QPp2qSfj/3tAMPVk/HZ0ekBfcyDRCtl5QHIg0Qqbp3lASLTC5kBBe0CssDmQaJJ5QMXmQKIVaHlA1pPx26U2eUAAAAAAACV3QPNk/Hap+nJAdyDRCpsacEB+Mn671EduQJJ6Mn67kG1A4i71ZPy6bUC/OZBohfVsQHMg0QqbzWtASLTC5kAub0ADEq2wOe51QEi0wuZAsnNAtsLmQKJrd0Ap47dLPXZ5QKSejN8uyXpAxuZAohWde0DbHEi0wmJ8QNwcSLTC6ntA1hxItMItekBcYXMg0VJ5QCz1ZPx27HpA+3apJ+OHe0AyfrvUk/N6QF5zINEK2XlA3rdLPRl2eUDbHEi0wgh3QOVAohU2I3RAs8LmQKL+cEByINEKmxpwQFVPxm+XWmxA/napJ+NxaEBjcyDRCuVnQGX8dqkn2WZAXGFzINFCcEDC5kCiFQ50QInfLvVkonRAwF3qyfizdkDft0s9GYZ4QEIrbA4kwnpAyoFEK2zlekDx26WejIJ6QGoOJFphIXlA8VJPxm+LeUB7u9ST8Xd4QDqQaIXNvHlA5LdLPRkze0CjFTYHEkp6QD4Zv13qw3lA5ECiFTYFeUD7/////yR3QI/fLvVklXJADyRaYXO2b0DI+O1ST7ZvQGT8dqknDW9AU8Zvl3qcbkDxUk/Gbx1uQLlLPRm/A21AnYzfLvUVcEBLtMLmQLJzQDJ+u9STnHJABBKtsDl2dUCMVtgcSH15QLnUk/HbnnpAR7TC5kCEeUDI+O1ST2Z6QOVAohU2BXlAaPx2qSfgeUCQaIXNgfN6QDgHEq2w6ntA0oFEK2wafUBNPRm/XcB7QAmbA4lWT3tARaIVNge7ekBqDiRaYSF5QL/Uk/HbRHVAR7TC5kAub0AUrbA5kBNwQE/Gb5d6oHBAOZBohc1hb0DI+O1ST4BuQLSwOZBoy2xAY3Mg0QrjbkAGiVbYHPd0QJp6Mn67YnRA9napJ+Mdd0ACiVbYHFF6QH4yfrvUtXlAPAcSrbBye0DQCpsDiZl9QFDGb5d6P3xA5sn47VIxfEBZT8ZvlxF6QJ2M3y71ynlAPZBohc1pfECO3y71ZJl9QLI5kGiFRnxAbA4kWmHeekAdSLTC5nB4QMBd6sn4fnRAs8LmQKKGcECAu9ST8VJwQPLbpZ6MN29A78n47VLzbUDZLvVk/IRsQILNgUQrFGxAfjJ+u9QRbUB6Mn671At0QEorbA4kM3NAlfHbpZ4YdkAx9WT8dux6QAAAAAAA93xAx2+XejKUfEDHb5d6Mhx8QOBAohU2sntApJ6M3y7JekAJmwOJVk97QF1hcyDR/3tATLTC5kBBe0BIPRm/XUh7QNAKmwOJZHtAOhm/Xeo7ekAubA4kWsB3QJTx26WeG3NA\",\"dtype\":\"float64\",\"shape\":[168]}},\"selected\":{\"id\":\"5362\",\"type\":\"Selection\"},\"selection_policy\":{\"id\":\"5363\",\"type\":\"UnionRenderers\"}},\"id\":\"5108\",\"type\":\"ColumnDataSource\"},{\"attributes\":{},\"id\":\"5362\",\"type\":\"Selection\"},{\"attributes\":{\"overlay\":{\"id\":\"5093\",\"type\":\"BoxAnnotation\"}},\"id\":\"5072\",\"type\":\"BoxZoomTool\"},{\"attributes\":{\"base\":24,\"mantissas\":[1,2,4,6,8,12],\"max_interval\":43200000.0,\"min_interval\":3600000.0,\"num_minor_ticks\":0},\"id\":\"5096\",\"type\":\"AdaptiveTicker\"},{\"attributes\":{\"data_source\":{\"id\":\"5108\",\"type\":\"ColumnDataSource\"},\"glyph\":{\"id\":\"5109\",\"type\":\"Line\"},\"hover_glyph\":null,\"muted_glyph\":null,\"nonselection_glyph\":{\"id\":\"5110\",\"type\":\"Line\"},\"selection_glyph\":null,\"view\":{\"id\":\"5112\",\"type\":\"CDSView\"}},\"id\":\"5111\",\"type\":\"GlyphRenderer\"},{\"attributes\":{},\"id\":\"5073\",\"type\":\"SaveTool\"},{\"attributes\":{\"axis_label\":\"Value\",\"formatter\":{\"id\":\"5092\",\"type\":\"BasicTickFormatter\"},\"ticker\":{\"id\":\"5066\",\"type\":\"BasicTicker\"}},\"id\":\"5065\",\"type\":\"LinearAxis\"},{\"attributes\":{\"text\":\"Predictions over the test dataset for MT_324\"},\"id\":\"5050\",\"type\":\"Title\"},{\"attributes\":{\"base\":60,\"mantissas\":[1,2,5,10,15,20,30],\"max_interval\":1800000.0,\"min_interval\":1000.0,\"num_minor_ticks\":0},\"id\":\"5095\",\"type\":\"AdaptiveTicker\"},{\"attributes\":{},\"id\":\"5074\",\"type\":\"ResetTool\"},{\"attributes\":{\"line_color\":\"red\",\"x\":{\"field\":\"x\"},\"y\":{\"field\":\"y\"}},\"id\":\"5084\",\"type\":\"Line\"},{\"attributes\":{},\"id\":\"5075\",\"type\":\"HelpTool\"},{\"attributes\":{\"num_minor_ticks\":5,\"tickers\":[{\"id\":\"5094\",\"type\":\"AdaptiveTicker\"},{\"id\":\"5095\",\"type\":\"AdaptiveTicker\"},{\"id\":\"5096\",\"type\":\"AdaptiveTicker\"},{\"id\":\"5097\",\"type\":\"DaysTicker\"},{\"id\":\"5098\",\"type\":\"DaysTicker\"},{\"id\":\"5099\",\"type\":\"DaysTicker\"},{\"id\":\"5100\",\"type\":\"DaysTicker\"},{\"id\":\"5101\",\"type\":\"MonthsTicker\"},{\"id\":\"5102\",\"type\":\"MonthsTicker\"},{\"id\":\"5103\",\"type\":\"MonthsTicker\"},{\"id\":\"5104\",\"type\":\"MonthsTicker\"},{\"id\":\"5105\",\"type\":\"YearsTicker\"}]},\"id\":\"5061\",\"type\":\"DatetimeTicker\"},{\"attributes\":{\"days\":[1,2,3,4,5,6,7,8,9,10,11,12,13,14,15,16,17,18,19,20,21,22,23,24,25,26,27,28,29,30,31]},\"id\":\"5097\",\"type\":\"DaysTicker\"},{\"attributes\":{\"dimension\":1,\"ticker\":{\"id\":\"5066\",\"type\":\"BasicTicker\"}},\"id\":\"5069\",\"type\":\"Grid\"},{\"attributes\":{\"days\":[1,4,7,10,13,16,19,22,25,28]},\"id\":\"5098\",\"type\":\"DaysTicker\"},{\"attributes\":{},\"id\":\"5119\",\"type\":\"Selection\"},{\"attributes\":{},\"id\":\"5066\",\"type\":\"BasicTicker\"},{\"attributes\":{\"label\":{\"value\":\"targets\"},\"renderers\":[{\"id\":\"5111\",\"type\":\"GlyphRenderer\"}]},\"id\":\"5133\",\"type\":\"LegendItem\"},{\"attributes\":{\"days\":[1,8,15,22]},\"id\":\"5099\",\"type\":\"DaysTicker\"},{\"attributes\":{\"callback\":null},\"id\":\"5052\",\"type\":\"DataRange1d\"},{\"attributes\":{},\"id\":\"5120\",\"type\":\"UnionRenderers\"},{\"attributes\":{\"days\":[1,15]},\"id\":\"5100\",\"type\":\"DaysTicker\"},{\"attributes\":{\"months\":[0,6]},\"id\":\"5104\",\"type\":\"MonthsTicker\"},{\"attributes\":{\"axis_label\":\"Timestmap\",\"formatter\":{\"id\":\"5090\",\"type\":\"DatetimeTickFormatter\"},\"ticker\":{\"id\":\"5061\",\"type\":\"DatetimeTicker\"}},\"id\":\"5060\",\"type\":\"DatetimeAxis\"},{\"attributes\":{\"label\":{\"value\":\"predictions\"},\"renderers\":[{\"id\":\"5086\",\"type\":\"GlyphRenderer\"}]},\"id\":\"5107\",\"type\":\"LegendItem\"},{\"attributes\":{\"months\":[0,1,2,3,4,5,6,7,8,9,10,11]},\"id\":\"5101\",\"type\":\"MonthsTicker\"},{\"attributes\":{},\"id\":\"5090\",\"type\":\"DatetimeTickFormatter\"},{\"attributes\":{\"months\":[0,2,4,6,8,10]},\"id\":\"5102\",\"type\":\"MonthsTicker\"},{\"attributes\":{\"months\":[0,4,8]},\"id\":\"5103\",\"type\":\"MonthsTicker\"},{\"attributes\":{\"callback\":null},\"id\":\"5054\",\"type\":\"DataRange1d\"}],\"root_ids\":[\"5049\"]},\"title\":\"Bokeh Application\",\"version\":\"1.4.0\"}};\n",
       "  var render_items = [{\"docid\":\"85610a10-15cd-4ade-91cd-154141ae537a\",\"roots\":{\"5049\":\"e5b82494-5c4a-455e-9bbb-422277870e4b\"}}];\n",
       "  root.Bokeh.embed.embed_items_notebook(docs_json, render_items);\n",
       "\n",
       "  }\n",
       "  if (root.Bokeh !== undefined) {\n",
       "    embed_document(root);\n",
       "  } else {\n",
       "    var attempts = 0;\n",
       "    var timer = setInterval(function(root) {\n",
       "      if (root.Bokeh !== undefined) {\n",
       "        clearInterval(timer);\n",
       "        embed_document(root);\n",
       "      } else {\n",
       "        attempts++;\n",
       "        if (attempts > 100) {\n",
       "          clearInterval(timer);\n",
       "          console.log(\"Bokeh: ERROR: Unable to run BokehJS code because BokehJS library is missing\");\n",
       "        }\n",
       "      }\n",
       "    }, 10, root)\n",
       "  }\n",
       "})(window);"
      ],
      "application/vnd.bokehjs_exec.v0+json": ""
     },
     "metadata": {
      "application/vnd.bokehjs_exec.v0+json": {
       "id": "5049"
      }
     },
     "output_type": "display_data"
    },
    {
     "data": {
      "text/html": [
       "\n",
       "\n",
       "\n",
       "\n",
       "\n",
       "\n",
       "  <div class=\"bk-root\" id=\"2e7d7aaf-aa7b-495e-abdf-0a5210e8f302\" data-root-id=\"5508\"></div>\n"
      ]
     },
     "metadata": {},
     "output_type": "display_data"
    },
    {
     "data": {
      "application/javascript": [
       "(function(root) {\n",
       "  function embed_document(root) {\n",
       "    \n",
       "  var docs_json = {\"cc1918b2-f950-4c53-8280-127687222aeb\":{\"roots\":{\"references\":[{\"attributes\":{\"below\":[{\"id\":\"5519\",\"type\":\"DatetimeAxis\"}],\"center\":[{\"id\":\"5523\",\"type\":\"Grid\"},{\"id\":\"5528\",\"type\":\"Grid\"},{\"id\":\"5565\",\"type\":\"Legend\"}],\"left\":[{\"id\":\"5524\",\"type\":\"LinearAxis\"}],\"plot_height\":320,\"plot_width\":960,\"renderers\":[{\"id\":\"5545\",\"type\":\"GlyphRenderer\"},{\"id\":\"5570\",\"type\":\"GlyphRenderer\"}],\"title\":{\"id\":\"5509\",\"type\":\"Title\"},\"toolbar\":{\"id\":\"5535\",\"type\":\"Toolbar\"},\"x_range\":{\"id\":\"5511\",\"type\":\"DataRange1d\"},\"x_scale\":{\"id\":\"5515\",\"type\":\"LinearScale\"},\"y_range\":{\"id\":\"5513\",\"type\":\"DataRange1d\"},\"y_scale\":{\"id\":\"5517\",\"type\":\"LinearScale\"}},\"id\":\"5508\",\"subtype\":\"Figure\",\"type\":\"Plot\"},{\"attributes\":{},\"id\":\"5533\",\"type\":\"ResetTool\"},{\"attributes\":{\"bottom_units\":\"screen\",\"fill_alpha\":{\"value\":0.5},\"fill_color\":{\"value\":\"lightgrey\"},\"left_units\":\"screen\",\"level\":\"overlay\",\"line_alpha\":{\"value\":1.0},\"line_color\":{\"value\":\"black\"},\"line_dash\":[4,4],\"line_width\":{\"value\":2},\"render_mode\":\"css\",\"right_units\":\"screen\",\"top_units\":\"screen\"},\"id\":\"5552\",\"type\":\"BoxAnnotation\"},{\"attributes\":{\"data_source\":{\"id\":\"5567\",\"type\":\"ColumnDataSource\"},\"glyph\":{\"id\":\"5568\",\"type\":\"Line\"},\"hover_glyph\":null,\"muted_glyph\":null,\"nonselection_glyph\":{\"id\":\"5569\",\"type\":\"Line\"},\"selection_glyph\":null,\"view\":{\"id\":\"5571\",\"type\":\"CDSView\"}},\"id\":\"5570\",\"type\":\"GlyphRenderer\"},{\"attributes\":{\"num_minor_ticks\":5,\"tickers\":[{\"id\":\"5553\",\"type\":\"AdaptiveTicker\"},{\"id\":\"5554\",\"type\":\"AdaptiveTicker\"},{\"id\":\"5555\",\"type\":\"AdaptiveTicker\"},{\"id\":\"5556\",\"type\":\"DaysTicker\"},{\"id\":\"5557\",\"type\":\"DaysTicker\"},{\"id\":\"5558\",\"type\":\"DaysTicker\"},{\"id\":\"5559\",\"type\":\"DaysTicker\"},{\"id\":\"5560\",\"type\":\"MonthsTicker\"},{\"id\":\"5561\",\"type\":\"MonthsTicker\"},{\"id\":\"5562\",\"type\":\"MonthsTicker\"},{\"id\":\"5563\",\"type\":\"MonthsTicker\"},{\"id\":\"5564\",\"type\":\"YearsTicker\"}]},\"id\":\"5520\",\"type\":\"DatetimeTicker\"},{\"attributes\":{\"axis_label\":\"Timestmap\",\"formatter\":{\"id\":\"5549\",\"type\":\"DatetimeTickFormatter\"},\"ticker\":{\"id\":\"5520\",\"type\":\"DatetimeTicker\"}},\"id\":\"5519\",\"type\":\"DatetimeAxis\"},{\"attributes\":{},\"id\":\"5532\",\"type\":\"SaveTool\"},{\"attributes\":{},\"id\":\"5534\",\"type\":\"HelpTool\"},{\"attributes\":{\"line_color\":\"red\",\"x\":{\"field\":\"x\"},\"y\":{\"field\":\"y\"}},\"id\":\"5543\",\"type\":\"Line\"},{\"attributes\":{\"source\":{\"id\":\"5567\",\"type\":\"ColumnDataSource\"}},\"id\":\"5571\",\"type\":\"CDSView\"},{\"attributes\":{\"overlay\":{\"id\":\"5552\",\"type\":\"BoxAnnotation\"}},\"id\":\"5531\",\"type\":\"BoxZoomTool\"},{\"attributes\":{},\"id\":\"5843\",\"type\":\"Selection\"},{\"attributes\":{\"days\":[1,15]},\"id\":\"5559\",\"type\":\"DaysTicker\"},{\"attributes\":{\"line_alpha\":0.1,\"line_color\":\"#1f77b4\",\"x\":{\"field\":\"x\"},\"y\":{\"field\":\"y\"}},\"id\":\"5569\",\"type\":\"Line\"},{\"attributes\":{\"callback\":null,\"data\":{\"x\":{\"__ndarray__\":\"AACALeiCdEIAAGic64J0QgAAUAvvgnRCAAA4evKCdEIAACDp9YJ0QgAACFj5gnRCAADwxvyCdEIAANg1AIN0QgAAwKQDg3RCAACoEweDdEIAAJCCCoN0QgAAePENg3RCAABgYBGDdEIAAEjPFIN0QgAAMD4Yg3RCAAAYrRuDdEIAAAAcH4N0QgAA6Ioig3RCAADQ+SWDdEIAALhoKYN0QgAAoNcsg3RCAACIRjCDdEIAAHC1M4N0QgAAWCQ3g3RCAABAkzqDdEIAACgCPoN0QgAAEHFBg3RCAAD430SDdEIAAOBOSIN0QgAAyL1Lg3RCAACwLE+DdEIAAJibUoN0QgAAgApWg3RCAABoeVmDdEIAAFDoXIN0QgAAOFdgg3RCAAAgxmODdEIAAAg1Z4N0QgAA8KNqg3RCAADYEm6DdEIAAMCBcYN0QgAAqPB0g3RCAACQX3iDdEIAAHjOe4N0QgAAYD1/g3RCAABIrIKDdEIAADAbhoN0QgAAGIqJg3RCAAAA+YyDdEIAAOhnkIN0QgAA0NaTg3RCAAC4RZeDdEIAAKC0moN0QgAAiCOeg3RCAABwkqGDdEIAAFgBpYN0QgAAQHCog3RCAAAo36uDdEIAABBOr4N0QgAA+Lyyg3RCAADgK7aDdEIAAMiauYN0QgAAsAm9g3RCAACYeMCDdEIAAIDnw4N0QgAAaFbHg3RCAABQxcqDdEIAADg0zoN0QgAAIKPRg3RCAAAIEtWDdEIAAPCA2IN0QgAA2O/bg3RCAADAXt+DdEIAAKjN4oN0QgAAkDzmg3RCAAB4q+mDdEIAAGAa7YN0QgAASInwg3RCAAAw+PODdEIAABhn94N0QgAAANb6g3RCAADoRP6DdEIAANCzAYR0QgAAuCIFhHRCAACgkQiEdEIAAIgADIR0QgAAcG8PhHRCAABY3hKEdEIAAEBNFoR0QgAAKLwZhHRCAAAQKx2EdEIAAPiZIIR0QgAA4AgkhHRCAADIdyeEdEIAALDmKoR0QgAAmFUuhHRCAACAxDGEdEIAAGgzNYR0QgAAUKI4hHRCAAA4ETyEdEIAACCAP4R0QgAACO9ChHRCAADwXUaEdEIAANjMSYR0QgAAwDtNhHRCAACoqlCEdEIAAJAZVIR0QgAAeIhXhHRCAABg91qEdEIAAEhmXoR0QgAAMNVhhHRCAAAYRGWEdEIAAACzaIR0QgAA6CFshHRCAADQkG+EdEIAALj/coR0QgAAoG52hHRCAACI3XmEdEIAAHBMfYR0QgAAWLuAhHRCAABAKoSEdEIAACiZh4R0QgAAEAiLhHRCAAD4do6EdEIAAODlkYR0QgAAyFSVhHRCAACww5iEdEIAAJgynIR0QgAAgKGfhHRCAABoEKOEdEIAAFB/poR0QgAAOO6phHRCAAAgXa2EdEIAAAjMsIR0QgAA8Dq0hHRCAADYqbeEdEIAAMAYu4R0QgAAqIe+hHRCAACQ9sGEdEIAAHhlxYR0QgAAYNTIhHRCAABIQ8yEdEIAADCyz4R0QgAAGCHThHRCAAAAkNaEdEIAAOj+2YR0QgAA0G3dhHRCAAC43OCEdEIAAKBL5IR0QgAAiLrnhHRCAABwKeuEdEIAAFiY7oR0QgAAQAfyhHRCAAAodvWEdEIAABDl+IR0QgAA+FP8hHRCAADgwv+EdEIAAMgxA4V0QgAAsKAGhXRCAACYDwqFdEIAAIB+DYV0QgAAaO0QhXRCAABQXBSFdEIAADjLF4V0QgAAIDobhXRCAAAIqR6FdEIAAPAXIoV0QgAA2IYlhXRC\",\"dtype\":\"float64\",\"shape\":[168]},\"y\":{\"__ndarray__\":\"AAAAoCCIckAAAADgD/xyQAAAAECT3HJAAAAAIBeJckAAAACgOjhyQAAAAIARLHNAAAAAYFPfd0AAAACAzRh4QAAAAKDjaHhAAAAAYP/0eUAAAABgOiB8QAAAACCg8X1AAAAAoMFXfkAAAACglTt+QAAAAGBlLX1AAAAA4NVhfEAAAAAAhkV+QAAAAGCTl31AAAAAwD6ifUAAAAAgOJl9QAAAAGBmfHtAAAAAgIeMeUAAAABgFJ13QAAAACAynHVAAAAAAF9KdEAAAABgDhhzQAAAAIC5oHJAAAAAANpicUAAAABgYuFxQAAAAAD4+nNAAAAAAJ+Fd0AAAAAgntx3QAAAAMBiunhAAAAAoBcNekAAAADgnJ17QAAAACCY3n1AAAAAwBzJfkAAAADAwFR+QAAAAGCjg31AAAAA4D9ofUAAAAAgTzR+QAAAAGDeoX1AAAAAAMShfkAAAADgBF1+QAAAAGAOlXxAAAAAoPS7ekAAAADAQld4QAAAAECcmXVAAAAAYFQEdEAAAACgbyl0QAAAAIAGdXNAAAAAILdNc0AAAAAgTJpzQAAAAOBrSXNAAAAAAMljdUAAAADg3nV2QAAAAKAWkHhAAAAAoJBleEAAAADgSH17QAAAAMBxAHxAAAAAoKZ0fEAAAACAht97QAAAAGAJLHtAAAAAYKzkekAAAADgIol6QAAAAIDcf3pAAAAAYF6+ekAAAAAgPWp7QAAAACA1xHpAAAAAIChOeUAAAAAAPR92QAAAAMBMsXNAAAAAQE0vdEAAAADgjjxzQAAAAGAjinNAAAAAwJlUckAAAADARZVyQAAAAEDePnJAAAAAALKadUAAAAAggY92QAAAAADBYXdAAAAAoDLseEAAAAAAE4d6QAAAAEDfpnpAAAAAAEzPe0AAAABgTY56QAAAAEACDntAAAAAgHM2ekAAAACAwlR6QAAAAAB9DXtAAAAAQDU6fEAAAABACst7QAAAAKAKxHpAAAAA4Ce6eUAAAAAgD792QAAAAOChSHNAAAAA4JStckAAAADAHidyQAAAAOAbE3JAAAAAQEvucEAAAABgG7RwQAAAAEBgFHJAAAAAQFPOdUAAAAAA5ZV3QAAAAKCYCXdAAAAAoPb6d0AAAAAgvmB6QAAAAICpb3xAAAAAgGg4e0AAAADAeLF8QAAAAOCRZ3tAAAAAQCtAe0AAAABAiS16QAAAAEA5uHtAAAAA4CZ3fEAAAADgEDB7QAAAACAI7nhAAAAA4HK1d0AAAAAAC7R0QAAAAGDHlHFAAAAAIBkbckAAAADA1t1xQAAAAEDdJ3FAAAAAQFaIcEAAAADgdztwQAAAAACo93BAAAAAoGA3dUAAAABgdlJ2QAAAACCgxHZAAAAAIFadeEAAAACgvt55QAAAAEA4+XtAAAAAoF+ofEAAAACgcWF7QAAAACADtnpAAAAAYM3VekAAAAAAGXt7QAAAAOA1dnxAAAAAYOTFfEAAAADAA2R8QAAAAODTm3pAAAAAQB5MeEAAAACAE1N1QAAAAMBZiXFAAAAAgEUWcUAAAADgBphxQAAAAMBz+XBAAAAAwAyicEAAAABA+bFyQAAAAMBHd3NAAAAAQOStdkAAAAAAERN4QAAAAIDUKXlAAAAAYDxoekAAAACgZsh7QAAAAECQKX1AAAAAAA4kfUAAAADgMEV8QAAAAOD9X3tAAAAAYNyne0AAAABgIPh6QAAAACBJ6ntAAAAA4GyifEAAAAAg8OV8QAAAACCEv3pAAAAAQNWMeUAAAADAQWh2QAAAAGAsR3JA\",\"dtype\":\"float64\",\"shape\":[168]}},\"selected\":{\"id\":\"5578\",\"type\":\"Selection\"},\"selection_policy\":{\"id\":\"5579\",\"type\":\"UnionRenderers\"}},\"id\":\"5542\",\"type\":\"ColumnDataSource\"},{\"attributes\":{\"data_source\":{\"id\":\"5542\",\"type\":\"ColumnDataSource\"},\"glyph\":{\"id\":\"5543\",\"type\":\"Line\"},\"hover_glyph\":null,\"muted_glyph\":null,\"nonselection_glyph\":{\"id\":\"5544\",\"type\":\"Line\"},\"selection_glyph\":null,\"view\":{\"id\":\"5546\",\"type\":\"CDSView\"}},\"id\":\"5545\",\"type\":\"GlyphRenderer\"},{\"attributes\":{\"ticker\":{\"id\":\"5520\",\"type\":\"DatetimeTicker\"}},\"id\":\"5523\",\"type\":\"Grid\"},{\"attributes\":{},\"id\":\"5578\",\"type\":\"Selection\"},{\"attributes\":{\"days\":[1,8,15,22]},\"id\":\"5558\",\"type\":\"DaysTicker\"},{\"attributes\":{\"source\":{\"id\":\"5542\",\"type\":\"ColumnDataSource\"}},\"id\":\"5546\",\"type\":\"CDSView\"},{\"attributes\":{\"label\":{\"value\":\"targets\"},\"renderers\":[{\"id\":\"5570\",\"type\":\"GlyphRenderer\"}]},\"id\":\"5592\",\"type\":\"LegendItem\"},{\"attributes\":{\"axis_label\":\"Value\",\"formatter\":{\"id\":\"5551\",\"type\":\"BasicTickFormatter\"},\"ticker\":{\"id\":\"5525\",\"type\":\"BasicTicker\"}},\"id\":\"5524\",\"type\":\"LinearAxis\"},{\"attributes\":{},\"id\":\"5579\",\"type\":\"UnionRenderers\"},{\"attributes\":{\"mantissas\":[1,2,5],\"max_interval\":500.0,\"num_minor_ticks\":0},\"id\":\"5553\",\"type\":\"AdaptiveTicker\"},{\"attributes\":{\"base\":60,\"mantissas\":[1,2,5,10,15,20,30],\"max_interval\":1800000.0,\"min_interval\":1000.0,\"num_minor_ticks\":0},\"id\":\"5554\",\"type\":\"AdaptiveTicker\"},{\"attributes\":{},\"id\":\"5517\",\"type\":\"LinearScale\"},{\"attributes\":{\"label\":{\"value\":\"predictions\"},\"renderers\":[{\"id\":\"5545\",\"type\":\"GlyphRenderer\"}]},\"id\":\"5566\",\"type\":\"LegendItem\"},{\"attributes\":{\"text\":\"Predictions over the test dataset for MT_325\"},\"id\":\"5509\",\"type\":\"Title\"},{\"attributes\":{},\"id\":\"5530\",\"type\":\"WheelZoomTool\"},{\"attributes\":{},\"id\":\"5525\",\"type\":\"BasicTicker\"},{\"attributes\":{\"months\":[0,1,2,3,4,5,6,7,8,9,10,11]},\"id\":\"5560\",\"type\":\"MonthsTicker\"},{\"attributes\":{\"days\":[1,2,3,4,5,6,7,8,9,10,11,12,13,14,15,16,17,18,19,20,21,22,23,24,25,26,27,28,29,30,31]},\"id\":\"5556\",\"type\":\"DaysTicker\"},{\"attributes\":{\"callback\":null},\"id\":\"5511\",\"type\":\"DataRange1d\"},{\"attributes\":{\"dimension\":1,\"ticker\":{\"id\":\"5525\",\"type\":\"BasicTicker\"}},\"id\":\"5528\",\"type\":\"Grid\"},{\"attributes\":{},\"id\":\"5529\",\"type\":\"PanTool\"},{\"attributes\":{\"days\":[1,4,7,10,13,16,19,22,25,28]},\"id\":\"5557\",\"type\":\"DaysTicker\"},{\"attributes\":{},\"id\":\"5549\",\"type\":\"DatetimeTickFormatter\"},{\"attributes\":{\"line_color\":\"blue\",\"x\":{\"field\":\"x\"},\"y\":{\"field\":\"y\"}},\"id\":\"5568\",\"type\":\"Line\"},{\"attributes\":{\"line_alpha\":0.1,\"line_color\":\"#1f77b4\",\"x\":{\"field\":\"x\"},\"y\":{\"field\":\"y\"}},\"id\":\"5544\",\"type\":\"Line\"},{\"attributes\":{\"callback\":null},\"id\":\"5513\",\"type\":\"DataRange1d\"},{\"attributes\":{\"months\":[0,2,4,6,8,10]},\"id\":\"5561\",\"type\":\"MonthsTicker\"},{\"attributes\":{},\"id\":\"5515\",\"type\":\"LinearScale\"},{\"attributes\":{\"active_drag\":\"auto\",\"active_inspect\":\"auto\",\"active_multi\":null,\"active_scroll\":\"auto\",\"active_tap\":\"auto\",\"tools\":[{\"id\":\"5529\",\"type\":\"PanTool\"},{\"id\":\"5530\",\"type\":\"WheelZoomTool\"},{\"id\":\"5531\",\"type\":\"BoxZoomTool\"},{\"id\":\"5532\",\"type\":\"SaveTool\"},{\"id\":\"5533\",\"type\":\"ResetTool\"},{\"id\":\"5534\",\"type\":\"HelpTool\"}]},\"id\":\"5535\",\"type\":\"Toolbar\"},{\"attributes\":{\"items\":[{\"id\":\"5566\",\"type\":\"LegendItem\"},{\"id\":\"5592\",\"type\":\"LegendItem\"}]},\"id\":\"5565\",\"type\":\"Legend\"},{\"attributes\":{\"months\":[0,4,8]},\"id\":\"5562\",\"type\":\"MonthsTicker\"},{\"attributes\":{\"callback\":null,\"data\":{\"x\":{\"__ndarray__\":\"AACALeiCdEIAAGic64J0QgAAUAvvgnRCAAA4evKCdEIAACDp9YJ0QgAACFj5gnRCAADwxvyCdEIAANg1AIN0QgAAwKQDg3RCAACoEweDdEIAAJCCCoN0QgAAePENg3RCAABgYBGDdEIAAEjPFIN0QgAAMD4Yg3RCAAAYrRuDdEIAAAAcH4N0QgAA6Ioig3RCAADQ+SWDdEIAALhoKYN0QgAAoNcsg3RCAACIRjCDdEIAAHC1M4N0QgAAWCQ3g3RCAABAkzqDdEIAACgCPoN0QgAAEHFBg3RCAAD430SDdEIAAOBOSIN0QgAAyL1Lg3RCAACwLE+DdEIAAJibUoN0QgAAgApWg3RCAABoeVmDdEIAAFDoXIN0QgAAOFdgg3RCAAAgxmODdEIAAAg1Z4N0QgAA8KNqg3RCAADYEm6DdEIAAMCBcYN0QgAAqPB0g3RCAACQX3iDdEIAAHjOe4N0QgAAYD1/g3RCAABIrIKDdEIAADAbhoN0QgAAGIqJg3RCAAAA+YyDdEIAAOhnkIN0QgAA0NaTg3RCAAC4RZeDdEIAAKC0moN0QgAAiCOeg3RCAABwkqGDdEIAAFgBpYN0QgAAQHCog3RCAAAo36uDdEIAABBOr4N0QgAA+Lyyg3RCAADgK7aDdEIAAMiauYN0QgAAsAm9g3RCAACYeMCDdEIAAIDnw4N0QgAAaFbHg3RCAABQxcqDdEIAADg0zoN0QgAAIKPRg3RCAAAIEtWDdEIAAPCA2IN0QgAA2O/bg3RCAADAXt+DdEIAAKjN4oN0QgAAkDzmg3RCAAB4q+mDdEIAAGAa7YN0QgAASInwg3RCAAAw+PODdEIAABhn94N0QgAAANb6g3RCAADoRP6DdEIAANCzAYR0QgAAuCIFhHRCAACgkQiEdEIAAIgADIR0QgAAcG8PhHRCAABY3hKEdEIAAEBNFoR0QgAAKLwZhHRCAAAQKx2EdEIAAPiZIIR0QgAA4AgkhHRCAADIdyeEdEIAALDmKoR0QgAAmFUuhHRCAACAxDGEdEIAAGgzNYR0QgAAUKI4hHRCAAA4ETyEdEIAACCAP4R0QgAACO9ChHRCAADwXUaEdEIAANjMSYR0QgAAwDtNhHRCAACoqlCEdEIAAJAZVIR0QgAAeIhXhHRCAABg91qEdEIAAEhmXoR0QgAAMNVhhHRCAAAYRGWEdEIAAACzaIR0QgAA6CFshHRCAADQkG+EdEIAALj/coR0QgAAoG52hHRCAACI3XmEdEIAAHBMfYR0QgAAWLuAhHRCAABAKoSEdEIAACiZh4R0QgAAEAiLhHRCAAD4do6EdEIAAODlkYR0QgAAyFSVhHRCAACww5iEdEIAAJgynIR0QgAAgKGfhHRCAABoEKOEdEIAAFB/poR0QgAAOO6phHRCAAAgXa2EdEIAAAjMsIR0QgAA8Dq0hHRCAADYqbeEdEIAAMAYu4R0QgAAqIe+hHRCAACQ9sGEdEIAAHhlxYR0QgAAYNTIhHRCAABIQ8yEdEIAADCyz4R0QgAAGCHThHRCAAAAkNaEdEIAAOj+2YR0QgAA0G3dhHRCAAC43OCEdEIAAKBL5IR0QgAAiLrnhHRCAABwKeuEdEIAAFiY7oR0QgAAQAfyhHRCAAAodvWEdEIAABDl+IR0QgAA+FP8hHRCAADgwv+EdEIAAMgxA4V0QgAAsKAGhXRCAACYDwqFdEIAAIB+DYV0QgAAaO0QhXRCAABQXBSFdEIAADjLF4V0QgAAIDobhXRCAAAIqR6FdEIAAPAXIoV0QgAA2IYlhXRC\",\"dtype\":\"float64\",\"shape\":[168]},\"y\":{\"__ndarray__\":\"22hMhRMncEArEEnXulNxQMT9i2+oRnFAWaf8UafMcEDZnQ8s8/RxQH4r1oArlnJA/MAyTxYoeUA/H1jmycJ3QKilpaWl5XdABQUFBQWVeUCeDyzzZIF7QD7NsOl3y3tA1F5Cewl9e0BM+aNO+WN8QNsWpYjB/3tAYdj0uy1ae0DoWnc+sGx8QEBBQUFB4XtA5P7FN1QrfEBAtdGYCvd7QIIr1oArZnpAzEFeJZeDeUB0Vo8dAep3QGXd+cAyr3VAEaCDvEpOcEAVoIO8Sk5wQEhjKpy4X3BAqjEVTtyfb0DrCNBBXtVwQI065Y86NXFArsyTBSJZdkBnEr1nEn13QEJ7Ce0lBHhAjfsX31C9ekBZfEO10Rh7QK4jQAd5RXxA5P7FN1QrfEB97AjQQR58QLZnEr1nsnxAZvDTDJsue0C4C2G2C3F8QPWeSfSe2XxAHVPhxP1LfkAmes8ker98QAEi6Vp3jntAaEyFE/dve0DfbVGKGBx6QPijTvmjLndAdecDyzwpckD2gWWeLBBzQO4ltJfQznJARoAO8ipZckCWJwtE0oVzQDn9botSpHNAu7m5ubmpeEDfxP2Lbzh4QHLKH3XK/3dAO8ir5HKmeUCBSLrWnV98QBLaS2gvEXxAVjhx/+KrekCwr6+vry98QP+tWAOueHtAatj0uy1ae0Anes8ker98QJAAHeRV4nxAGjb9botSfEBwqDYaU7F7QFPE4KcZlnpAds8kes8kekCfZtj0u515QLwQZrsQxnZA8nxgmSfrcECfZtj0u81xQAGRdK07r3FAYF9fX19PcUC0BlyxBnxyQEj0nkn0bnJANfhphk1PeUC+FWvAFet4QAroIK+Sm3dAOFQbjamQeUAQ8iq5nOV7QCGSrnXnk3xA2i6E2S7Ue0AGCgoKCrp7QGRMhRP3b3tA/sU3VBtNe0DwtihFDK58QAzaS2gvEXxADn6aYdPPe0Cig7xKLpd7QEe10ZgK93tAai+hvYR2eUBvF8JsF6J5QBAPDw8PD3ZAtUUpYvDDcEA24Io14KpxQGovob2EpnFAHsx2IczmcEDSKX/UKd9xQNO17nxgyXFAvLm5ubmpeEAkWObJAqF4QG9ubm5uvndAOFQbjamQeUB7YJknCzR8QPtphk2/C3tA6j2T6D1zekCaJwtE0lV7QKxT/qhT7ntAJF3rzgfGekAm6Vp3PrB6QMgCkXStO3tAw76+vr7OekDS6rEjQGd7QFY4cf/iq3pAdP/iG6rNeUA9PDw8PLx5QKxYA65YQ3ZA5iCvksupcECafrdFKaJxQHJzc3NzE3JAz83Nzc2dcUDzDdVGY/pyQCyhvYT2YnNAX19fX18feUB9mmHT71Z4QBaIpGvdSXhA57EjQAeJekA+zbDpd8t7QP9ui1LEMH1A4oo14IoVfED6hmqjMQV9QCxi8NMM63xAtPOBZZ6cfEAies8ker98QKhr3fnAwntACAoKCgq6e0A8QUFBQeF7QFogkq5113pAUsTgpxmWekCqHjsCdCB6QHchzHYhHHZAifYS2kvIcEAy4Io14KpxQGijMRVOvHFAXtPvtihlcUD+NMOm321xQOfE/YtvaHBACLNdCLPNdUCrcOL+xRd2QMH4hmqj8XZAEKCDvEoeeEDoVXI5q0d6QJbQXkJ7OX1A41p3PrBsfEBR+aNO+WN8QGrd+cAyf31A09LS0tKSe0A4/W6LUnR7QI3jOI7j6HpAUFBQUFCAekD3aYZNvwt7QHdblCIGD3pADLhiDbjyd0DiOI7jOE54QLp/8Q3VtnRA\",\"dtype\":\"float64\",\"shape\":[168]}},\"selected\":{\"id\":\"5843\",\"type\":\"Selection\"},\"selection_policy\":{\"id\":\"5844\",\"type\":\"UnionRenderers\"}},\"id\":\"5567\",\"type\":\"ColumnDataSource\"},{\"attributes\":{},\"id\":\"5844\",\"type\":\"UnionRenderers\"},{\"attributes\":{\"base\":24,\"mantissas\":[1,2,4,6,8,12],\"max_interval\":43200000.0,\"min_interval\":3600000.0,\"num_minor_ticks\":0},\"id\":\"5555\",\"type\":\"AdaptiveTicker\"},{\"attributes\":{\"months\":[0,6]},\"id\":\"5563\",\"type\":\"MonthsTicker\"},{\"attributes\":{},\"id\":\"5564\",\"type\":\"YearsTicker\"},{\"attributes\":{},\"id\":\"5551\",\"type\":\"BasicTickFormatter\"}],\"root_ids\":[\"5508\"]},\"title\":\"Bokeh Application\",\"version\":\"1.4.0\"}};\n",
       "  var render_items = [{\"docid\":\"cc1918b2-f950-4c53-8280-127687222aeb\",\"roots\":{\"5508\":\"2e7d7aaf-aa7b-495e-abdf-0a5210e8f302\"}}];\n",
       "  root.Bokeh.embed.embed_items_notebook(docs_json, render_items);\n",
       "\n",
       "  }\n",
       "  if (root.Bokeh !== undefined) {\n",
       "    embed_document(root);\n",
       "  } else {\n",
       "    var attempts = 0;\n",
       "    var timer = setInterval(function(root) {\n",
       "      if (root.Bokeh !== undefined) {\n",
       "        clearInterval(timer);\n",
       "        embed_document(root);\n",
       "      } else {\n",
       "        attempts++;\n",
       "        if (attempts > 100) {\n",
       "          clearInterval(timer);\n",
       "          console.log(\"Bokeh: ERROR: Unable to run BokehJS code because BokehJS library is missing\");\n",
       "        }\n",
       "      }\n",
       "    }, 10, root)\n",
       "  }\n",
       "})(window);"
      ],
      "application/vnd.bokehjs_exec.v0+json": ""
     },
     "metadata": {
      "application/vnd.bokehjs_exec.v0+json": {
       "id": "5508"
      }
     },
     "output_type": "display_data"
    },
    {
     "data": {
      "text/html": [
       "\n",
       "\n",
       "\n",
       "\n",
       "\n",
       "\n",
       "  <div class=\"bk-root\" id=\"c1ed9870-bb30-4614-bedd-b567e3a4eac9\" data-root-id=\"5989\"></div>\n"
      ]
     },
     "metadata": {},
     "output_type": "display_data"
    },
    {
     "data": {
      "application/javascript": [
       "(function(root) {\n",
       "  function embed_document(root) {\n",
       "    \n",
       "  var docs_json = {\"282597a6-5237-49e1-8cc2-c8b5c5c43a39\":{\"roots\":{\"references\":[{\"attributes\":{\"below\":[{\"id\":\"6000\",\"type\":\"DatetimeAxis\"}],\"center\":[{\"id\":\"6004\",\"type\":\"Grid\"},{\"id\":\"6009\",\"type\":\"Grid\"},{\"id\":\"6046\",\"type\":\"Legend\"}],\"left\":[{\"id\":\"6005\",\"type\":\"LinearAxis\"}],\"plot_height\":320,\"plot_width\":960,\"renderers\":[{\"id\":\"6026\",\"type\":\"GlyphRenderer\"},{\"id\":\"6051\",\"type\":\"GlyphRenderer\"}],\"title\":{\"id\":\"5990\",\"type\":\"Title\"},\"toolbar\":{\"id\":\"6016\",\"type\":\"Toolbar\"},\"x_range\":{\"id\":\"5992\",\"type\":\"DataRange1d\"},\"x_scale\":{\"id\":\"5996\",\"type\":\"LinearScale\"},\"y_range\":{\"id\":\"5994\",\"type\":\"DataRange1d\"},\"y_scale\":{\"id\":\"5998\",\"type\":\"LinearScale\"}},\"id\":\"5989\",\"subtype\":\"Figure\",\"type\":\"Plot\"},{\"attributes\":{},\"id\":\"6010\",\"type\":\"PanTool\"},{\"attributes\":{},\"id\":\"6346\",\"type\":\"Selection\"},{\"attributes\":{\"days\":[1,15]},\"id\":\"6040\",\"type\":\"DaysTicker\"},{\"attributes\":{\"callback\":null},\"id\":\"5992\",\"type\":\"DataRange1d\"},{\"attributes\":{\"days\":[1,4,7,10,13,16,19,22,25,28]},\"id\":\"6038\",\"type\":\"DaysTicker\"},{\"attributes\":{},\"id\":\"6015\",\"type\":\"HelpTool\"},{\"attributes\":{},\"id\":\"6032\",\"type\":\"BasicTickFormatter\"},{\"attributes\":{\"months\":[0,1,2,3,4,5,6,7,8,9,10,11]},\"id\":\"6041\",\"type\":\"MonthsTicker\"},{\"attributes\":{\"callback\":null,\"data\":{\"x\":{\"__ndarray__\":\"AACALeiCdEIAAGic64J0QgAAUAvvgnRCAAA4evKCdEIAACDp9YJ0QgAACFj5gnRCAADwxvyCdEIAANg1AIN0QgAAwKQDg3RCAACoEweDdEIAAJCCCoN0QgAAePENg3RCAABgYBGDdEIAAEjPFIN0QgAAMD4Yg3RCAAAYrRuDdEIAAAAcH4N0QgAA6Ioig3RCAADQ+SWDdEIAALhoKYN0QgAAoNcsg3RCAACIRjCDdEIAAHC1M4N0QgAAWCQ3g3RCAABAkzqDdEIAACgCPoN0QgAAEHFBg3RCAAD430SDdEIAAOBOSIN0QgAAyL1Lg3RCAACwLE+DdEIAAJibUoN0QgAAgApWg3RCAABoeVmDdEIAAFDoXIN0QgAAOFdgg3RCAAAgxmODdEIAAAg1Z4N0QgAA8KNqg3RCAADYEm6DdEIAAMCBcYN0QgAAqPB0g3RCAACQX3iDdEIAAHjOe4N0QgAAYD1/g3RCAABIrIKDdEIAADAbhoN0QgAAGIqJg3RCAAAA+YyDdEIAAOhnkIN0QgAA0NaTg3RCAAC4RZeDdEIAAKC0moN0QgAAiCOeg3RCAABwkqGDdEIAAFgBpYN0QgAAQHCog3RCAAAo36uDdEIAABBOr4N0QgAA+Lyyg3RCAADgK7aDdEIAAMiauYN0QgAAsAm9g3RCAACYeMCDdEIAAIDnw4N0QgAAaFbHg3RCAABQxcqDdEIAADg0zoN0QgAAIKPRg3RCAAAIEtWDdEIAAPCA2IN0QgAA2O/bg3RCAADAXt+DdEIAAKjN4oN0QgAAkDzmg3RCAAB4q+mDdEIAAGAa7YN0QgAASInwg3RCAAAw+PODdEIAABhn94N0QgAAANb6g3RCAADoRP6DdEIAANCzAYR0QgAAuCIFhHRCAACgkQiEdEIAAIgADIR0QgAAcG8PhHRCAABY3hKEdEIAAEBNFoR0QgAAKLwZhHRCAAAQKx2EdEIAAPiZIIR0QgAA4AgkhHRCAADIdyeEdEIAALDmKoR0QgAAmFUuhHRCAACAxDGEdEIAAGgzNYR0QgAAUKI4hHRCAAA4ETyEdEIAACCAP4R0QgAACO9ChHRCAADwXUaEdEIAANjMSYR0QgAAwDtNhHRCAACoqlCEdEIAAJAZVIR0QgAAeIhXhHRCAABg91qEdEIAAEhmXoR0QgAAMNVhhHRCAAAYRGWEdEIAAACzaIR0QgAA6CFshHRCAADQkG+EdEIAALj/coR0QgAAoG52hHRCAACI3XmEdEIAAHBMfYR0QgAAWLuAhHRCAABAKoSEdEIAACiZh4R0QgAAEAiLhHRCAAD4do6EdEIAAODlkYR0QgAAyFSVhHRCAACww5iEdEIAAJgynIR0QgAAgKGfhHRCAABoEKOEdEIAAFB/poR0QgAAOO6phHRCAAAgXa2EdEIAAAjMsIR0QgAA8Dq0hHRCAADYqbeEdEIAAMAYu4R0QgAAqIe+hHRCAACQ9sGEdEIAAHhlxYR0QgAAYNTIhHRCAABIQ8yEdEIAADCyz4R0QgAAGCHThHRCAAAAkNaEdEIAAOj+2YR0QgAA0G3dhHRCAAC43OCEdEIAAKBL5IR0QgAAiLrnhHRCAABwKeuEdEIAAFiY7oR0QgAAQAfyhHRCAAAodvWEdEIAABDl+IR0QgAA+FP8hHRCAADgwv+EdEIAAMgxA4V0QgAAsKAGhXRCAACYDwqFdEIAAIB+DYV0QgAAaO0QhXRCAABQXBSFdEIAADjLF4V0QgAAIDobhXRCAAAIqR6FdEIAAPAXIoV0QgAA2IYlhXRC\",\"dtype\":\"float64\",\"shape\":[168]},\"y\":{\"__ndarray__\":\"AAAAoPwUYkAAAABAVVxiQAAAAIAOeWFAAAAAYK8CYUAAAAAA3YVgQAAAAIA0KGFAAAAAQFPAaUAAAAAg4F9uQAAAACDam2xAAAAAIDRCcUAAAADAEFlzQAAAACBOo3RAAAAAoK1MdUAAAABApk93QAAAAMDiyXdAAAAAYLNReUAAAACAHPt4QAAAAKBamXlAAAAAwLpFdkAAAAAAJ4B0QAAAAADqlnJAAAAAQKcGckAAAABg7bBuQAAAAOBkq2VAAAAA4MI4YkAAAAAgPMtiQAAAAGDIO2JAAAAAYNbPYUAAAACAfTRhQAAAAMCDKmFAAAAAIAw+Z0AAAACgOxFuQAAAAIA3BW1AAAAAIKjxcUAAAAAgLCtzQAAAAGCdsHRAAAAAoObvdUAAAABAN+x2QAAAAEAo6HdAAAAAAD03eEAAAADA4Id4QAAAAACN+XdAAAAAQJt6dkAAAAAAoLV0QAAAAKA/KXNAAAAAIFUickAAAADg++hvQAAAAODdZGdAAAAA4PJHY0AAAADgQwxkQAAAAIC6yWJAAAAAoB5IYkAAAADAreRhQAAAAIBXGWFAAAAA4J5HaEAAAACgD3dvQAAAAGCrU21AAAAAwLZcckAAAACAW85zQAAAAACsE3RAAAAA4MKBdUAAAAAANgF3QAAAAKDpl3dAAAAAAOATd0AAAAAg1yh4QAAAAMDMMXhAAAAAQKUDd0AAAAAAU0p1QAAAAEDi73JAAAAAwPjpcUAAAABg+TBwQAAAAODx12hAAAAAoNyJY0AAAADgTTRjQAAAAMBjyGNAAAAA4GlNY0AAAABAkF5jQAAAAGCyx2JAAAAAoA4FakAAAACghftsQAAAAOBRpW1AAAAAgPsickAAAACAR6ByQAAAAKCkiXRAAAAA4HqidEAAAAAgXNh0QAAAAGAyOHVAAAAAQFUTdUAAAACg3tV1QAAAAIDsy3VAAAAAwA5qdEAAAACgKvFyQAAAAIAjU3JAAAAAADm8cEAAAAAggeJsQAAAAOBGpGRAAAAAwKlzYkAAAABgZdxiQAAAACCbvGFAAAAAYA9gYkAAAABg2ApiQAAAACCTEWFAAAAAQNsjaUAAAAAgd0xuQAAAAECn42tAAAAAoKsWcUAAAACAj4ByQAAAAMDuanNAAAAAwNoVdEAAAAAgNQl1QAAAAAA3gnRAAAAA4KLhdEAAAACgyDx1QAAAAADIOHVAAAAAADoTdEAAAABAM3tyQAAAAACBwHBAAAAAgD4UcEAAAABg44dqQAAAACDUfmFAAAAAAFUBYkAAAADgzW5iQAAAAABWH2JAAAAAYF1WYkAAAAAAt6dhQAAAAOAccWFAAAAAoJi5Z0AAAAAgE09tQAAAAMB9rWtAAAAAgF28cEAAAABAm1hyQAAAAMDpi3JAAAAAwCT9c0AAAABgHmN0QAAAAADoj3VAAAAAoAEvdUAAAACAzM11QAAAACDBMHVAAAAAQBrEc0AAAADArdVxQAAAAED4s29AAAAAwOAIbkAAAABgNNNpQAAAAGDIbGBAAAAAoOu8Y0AAAACg47BjQAAAAMDrj2NAAAAAQFvjYkAAAACACAtjQAAAAMAMvmJAAAAAAHnxa0AAAABAcXxwQAAAAMC9Um9AAAAAQN08cUAAAADgBi1zQAAAAMCe1XRAAAAAoB+6dUAAAACgcIB2QAAAAKD9gXZAAAAAoG29dkAAAACADL92QAAAAGDb0XZAAAAAoMM4dUAAAADAqn9yQAAAAODg4HBAAAAAoBo6cEAAAACgFbRrQAAAAIADK2RA\",\"dtype\":\"float64\",\"shape\":[168]}},\"selected\":{\"id\":\"6059\",\"type\":\"Selection\"},\"selection_policy\":{\"id\":\"6060\",\"type\":\"UnionRenderers\"}},\"id\":\"6023\",\"type\":\"ColumnDataSource\"},{\"attributes\":{\"active_drag\":\"auto\",\"active_inspect\":\"auto\",\"active_multi\":null,\"active_scroll\":\"auto\",\"active_tap\":\"auto\",\"tools\":[{\"id\":\"6010\",\"type\":\"PanTool\"},{\"id\":\"6011\",\"type\":\"WheelZoomTool\"},{\"id\":\"6012\",\"type\":\"BoxZoomTool\"},{\"id\":\"6013\",\"type\":\"SaveTool\"},{\"id\":\"6014\",\"type\":\"ResetTool\"},{\"id\":\"6015\",\"type\":\"HelpTool\"}]},\"id\":\"6016\",\"type\":\"Toolbar\"},{\"attributes\":{\"months\":[0,2,4,6,8,10]},\"id\":\"6042\",\"type\":\"MonthsTicker\"},{\"attributes\":{\"overlay\":{\"id\":\"6033\",\"type\":\"BoxAnnotation\"}},\"id\":\"6012\",\"type\":\"BoxZoomTool\"},{\"attributes\":{\"months\":[0,4,8]},\"id\":\"6043\",\"type\":\"MonthsTicker\"},{\"attributes\":{\"months\":[0,6]},\"id\":\"6044\",\"type\":\"MonthsTicker\"},{\"attributes\":{\"axis_label\":\"Value\",\"formatter\":{\"id\":\"6032\",\"type\":\"BasicTickFormatter\"},\"ticker\":{\"id\":\"6006\",\"type\":\"BasicTicker\"}},\"id\":\"6005\",\"type\":\"LinearAxis\"},{\"attributes\":{\"source\":{\"id\":\"6023\",\"type\":\"ColumnDataSource\"}},\"id\":\"6027\",\"type\":\"CDSView\"},{\"attributes\":{},\"id\":\"6045\",\"type\":\"YearsTicker\"},{\"attributes\":{\"data_source\":{\"id\":\"6023\",\"type\":\"ColumnDataSource\"},\"glyph\":{\"id\":\"6024\",\"type\":\"Line\"},\"hover_glyph\":null,\"muted_glyph\":null,\"nonselection_glyph\":{\"id\":\"6025\",\"type\":\"Line\"},\"selection_glyph\":null,\"view\":{\"id\":\"6027\",\"type\":\"CDSView\"}},\"id\":\"6026\",\"type\":\"GlyphRenderer\"},{\"attributes\":{\"dimension\":1,\"ticker\":{\"id\":\"6006\",\"type\":\"BasicTicker\"}},\"id\":\"6009\",\"type\":\"Grid\"},{\"attributes\":{\"label\":{\"value\":\"predictions\"},\"renderers\":[{\"id\":\"6026\",\"type\":\"GlyphRenderer\"}]},\"id\":\"6047\",\"type\":\"LegendItem\"},{\"attributes\":{\"line_alpha\":0.1,\"line_color\":\"#1f77b4\",\"x\":{\"field\":\"x\"},\"y\":{\"field\":\"y\"}},\"id\":\"6050\",\"type\":\"Line\"},{\"attributes\":{},\"id\":\"6030\",\"type\":\"DatetimeTickFormatter\"},{\"attributes\":{\"line_color\":\"red\",\"x\":{\"field\":\"x\"},\"y\":{\"field\":\"y\"}},\"id\":\"6024\",\"type\":\"Line\"},{\"attributes\":{},\"id\":\"6347\",\"type\":\"UnionRenderers\"},{\"attributes\":{\"source\":{\"id\":\"6048\",\"type\":\"ColumnDataSource\"}},\"id\":\"6052\",\"type\":\"CDSView\"},{\"attributes\":{\"bottom_units\":\"screen\",\"fill_alpha\":{\"value\":0.5},\"fill_color\":{\"value\":\"lightgrey\"},\"left_units\":\"screen\",\"level\":\"overlay\",\"line_alpha\":{\"value\":1.0},\"line_color\":{\"value\":\"black\"},\"line_dash\":[4,4],\"line_width\":{\"value\":2},\"render_mode\":\"css\",\"right_units\":\"screen\",\"top_units\":\"screen\"},\"id\":\"6033\",\"type\":\"BoxAnnotation\"},{\"attributes\":{},\"id\":\"5996\",\"type\":\"LinearScale\"},{\"attributes\":{\"items\":[{\"id\":\"6047\",\"type\":\"LegendItem\"},{\"id\":\"6073\",\"type\":\"LegendItem\"}]},\"id\":\"6046\",\"type\":\"Legend\"},{\"attributes\":{},\"id\":\"5998\",\"type\":\"LinearScale\"},{\"attributes\":{\"line_color\":\"blue\",\"x\":{\"field\":\"x\"},\"y\":{\"field\":\"y\"}},\"id\":\"6049\",\"type\":\"Line\"},{\"attributes\":{\"ticker\":{\"id\":\"6001\",\"type\":\"DatetimeTicker\"}},\"id\":\"6004\",\"type\":\"Grid\"},{\"attributes\":{\"mantissas\":[1,2,5],\"max_interval\":500.0,\"num_minor_ticks\":0},\"id\":\"6034\",\"type\":\"AdaptiveTicker\"},{\"attributes\":{\"data_source\":{\"id\":\"6048\",\"type\":\"ColumnDataSource\"},\"glyph\":{\"id\":\"6049\",\"type\":\"Line\"},\"hover_glyph\":null,\"muted_glyph\":null,\"nonselection_glyph\":{\"id\":\"6050\",\"type\":\"Line\"},\"selection_glyph\":null,\"view\":{\"id\":\"6052\",\"type\":\"CDSView\"}},\"id\":\"6051\",\"type\":\"GlyphRenderer\"},{\"attributes\":{},\"id\":\"6013\",\"type\":\"SaveTool\"},{\"attributes\":{\"line_alpha\":0.1,\"line_color\":\"#1f77b4\",\"x\":{\"field\":\"x\"},\"y\":{\"field\":\"y\"}},\"id\":\"6025\",\"type\":\"Line\"},{\"attributes\":{\"num_minor_ticks\":5,\"tickers\":[{\"id\":\"6034\",\"type\":\"AdaptiveTicker\"},{\"id\":\"6035\",\"type\":\"AdaptiveTicker\"},{\"id\":\"6036\",\"type\":\"AdaptiveTicker\"},{\"id\":\"6037\",\"type\":\"DaysTicker\"},{\"id\":\"6038\",\"type\":\"DaysTicker\"},{\"id\":\"6039\",\"type\":\"DaysTicker\"},{\"id\":\"6040\",\"type\":\"DaysTicker\"},{\"id\":\"6041\",\"type\":\"MonthsTicker\"},{\"id\":\"6042\",\"type\":\"MonthsTicker\"},{\"id\":\"6043\",\"type\":\"MonthsTicker\"},{\"id\":\"6044\",\"type\":\"MonthsTicker\"},{\"id\":\"6045\",\"type\":\"YearsTicker\"}]},\"id\":\"6001\",\"type\":\"DatetimeTicker\"},{\"attributes\":{},\"id\":\"6011\",\"type\":\"WheelZoomTool\"},{\"attributes\":{\"callback\":null,\"data\":{\"x\":{\"__ndarray__\":\"AACALeiCdEIAAGic64J0QgAAUAvvgnRCAAA4evKCdEIAACDp9YJ0QgAACFj5gnRCAADwxvyCdEIAANg1AIN0QgAAwKQDg3RCAACoEweDdEIAAJCCCoN0QgAAePENg3RCAABgYBGDdEIAAEjPFIN0QgAAMD4Yg3RCAAAYrRuDdEIAAAAcH4N0QgAA6Ioig3RCAADQ+SWDdEIAALhoKYN0QgAAoNcsg3RCAACIRjCDdEIAAHC1M4N0QgAAWCQ3g3RCAABAkzqDdEIAACgCPoN0QgAAEHFBg3RCAAD430SDdEIAAOBOSIN0QgAAyL1Lg3RCAACwLE+DdEIAAJibUoN0QgAAgApWg3RCAABoeVmDdEIAAFDoXIN0QgAAOFdgg3RCAAAgxmODdEIAAAg1Z4N0QgAA8KNqg3RCAADYEm6DdEIAAMCBcYN0QgAAqPB0g3RCAACQX3iDdEIAAHjOe4N0QgAAYD1/g3RCAABIrIKDdEIAADAbhoN0QgAAGIqJg3RCAAAA+YyDdEIAAOhnkIN0QgAA0NaTg3RCAAC4RZeDdEIAAKC0moN0QgAAiCOeg3RCAABwkqGDdEIAAFgBpYN0QgAAQHCog3RCAAAo36uDdEIAABBOr4N0QgAA+Lyyg3RCAADgK7aDdEIAAMiauYN0QgAAsAm9g3RCAACYeMCDdEIAAIDnw4N0QgAAaFbHg3RCAABQxcqDdEIAADg0zoN0QgAAIKPRg3RCAAAIEtWDdEIAAPCA2IN0QgAA2O/bg3RCAADAXt+DdEIAAKjN4oN0QgAAkDzmg3RCAAB4q+mDdEIAAGAa7YN0QgAASInwg3RCAAAw+PODdEIAABhn94N0QgAAANb6g3RCAADoRP6DdEIAANCzAYR0QgAAuCIFhHRCAACgkQiEdEIAAIgADIR0QgAAcG8PhHRCAABY3hKEdEIAAEBNFoR0QgAAKLwZhHRCAAAQKx2EdEIAAPiZIIR0QgAA4AgkhHRCAADIdyeEdEIAALDmKoR0QgAAmFUuhHRCAACAxDGEdEIAAGgzNYR0QgAAUKI4hHRCAAA4ETyEdEIAACCAP4R0QgAACO9ChHRCAADwXUaEdEIAANjMSYR0QgAAwDtNhHRCAACoqlCEdEIAAJAZVIR0QgAAeIhXhHRCAABg91qEdEIAAEhmXoR0QgAAMNVhhHRCAAAYRGWEdEIAAACzaIR0QgAA6CFshHRCAADQkG+EdEIAALj/coR0QgAAoG52hHRCAACI3XmEdEIAAHBMfYR0QgAAWLuAhHRCAABAKoSEdEIAACiZh4R0QgAAEAiLhHRCAAD4do6EdEIAAODlkYR0QgAAyFSVhHRCAACww5iEdEIAAJgynIR0QgAAgKGfhHRCAABoEKOEdEIAAFB/poR0QgAAOO6phHRCAAAgXa2EdEIAAAjMsIR0QgAA8Dq0hHRCAADYqbeEdEIAAMAYu4R0QgAAqIe+hHRCAACQ9sGEdEIAAHhlxYR0QgAAYNTIhHRCAABIQ8yEdEIAADCyz4R0QgAAGCHThHRCAAAAkNaEdEIAAOj+2YR0QgAA0G3dhHRCAAC43OCEdEIAAKBL5IR0QgAAiLrnhHRCAABwKeuEdEIAAFiY7oR0QgAAQAfyhHRCAAAodvWEdEIAABDl+IR0QgAA+FP8hHRCAADgwv+EdEIAAMgxA4V0QgAAsKAGhXRCAACYDwqFdEIAAIB+DYV0QgAAaO0QhXRCAABQXBSFdEIAADjLF4V0QgAAIDobhXRCAAAIqR6FdEIAAPAXIoV0QgAA2IYlhXRC\",\"dtype\":\"float64\",\"shape\":[168]},\"y\":{\"__ndarray__\":\"thwjuf6BYUDYdDlGcl1iQCy5/uG+vWFAvxwjuf5ZYUCmpssxkitiQIxOtaQeKGFA8CYTwtDJZkDl42tnfhpvQMRtFOAR3GtAlesf7ltocUCLVdoKf7FzQOAv5YmoZHVAzt7zYpUydUD0tTM/TSd5QNvsPS9WRXpAGec2CvDMeUAti8a5jdZ4QLdRgEeQXnlAlAlh6FSvdkDS3vNilX50QJXrH+5bzHFArtJW+EsJcUBKAR5B+rBrQBiUmIFlwWJAkVz/cN+6Y0AkwCNIHy9jQO/FKm2Ft2JADW8yIQwlY0DYdDlGcoViQDDliah4e2JAlOT6h/tmaEAhstl7XuxvQAhh6FRL2m1A2HQ5RnLpckB2bqMAj9RzQNLe82KV4nRAnBCGTrW0dUBi6FRL6r14QDYK8AjSj3dAcYzk+ofbd0AA0sfXzqh3QKphd3XITndAhL+UJ6K+dUCPVdoKf/1yQNYKfylPQHFAZbP3vFj1cEBdJNc/3MdqQOSgxAwsG2NAqtJW+EsRY0Aiuf7hvg1iQFFb4S/lqWFAm5+myzEKYUAUaA27qytiQPDqkM3es2FA9tqZn6bzakB+mi7HSApwQGDROLdRcG5AeATp42srckBybqMAj2B0QObFKm2F+3RAQjZ7z4tRdED2vFilrVR4QNaZn6bLmXdAYNE4t1FUd0Cu8JfyRLR2QLT3vFilWXZAzd7zYpWmdEDAjQI8gvxzQMEjSB9fd3FANXvPi1UicUDqkM3e81psQJ6IijeZUGRAqtJW+EsRY0Ajm73nxQpkQC7AI0gfV2NAIpSYgWXBYkAgbzIhDE1jQHopT0TF22FA1gp/KU+caUB6mi7HSL5wQGDROLdREG9AIJSYgWX5cUDrxSpthed0QLT3vFilpXVAgL+UJ6JGdUBUh2z2nq91QP4WHJSYGXVAyEiuf7gTdkDygNawu4Z2QCK5/uG+bXZA/RYclJgFdUCoPBEVbz5zQNoKfylPyHBAl4Fl0ThzcEAOM7AsGgdrQF2HbPaeP2JAkXpAa9iVYUBgrNJW+GNhQAph6FRL4mBAz5J6QGuwYECRekBr2L1hQKrwl/JE7GBARJA+vnbGZUDBQYkZWAZvQIROtaQekGxABUOnWlI7cUDUdDlGcjlzQBb+Up6IVnRAzt7zYpVCdEDHSK5/uNt2QLxBiRlYNndAQKA17K4idkBS8SYTwlh3QKphd3XIwnZAzt7zYpUKdUCepssxkqdzQJDrH+5bCHJAqDwRFW8SckAPM7AsGudsQDnsrg7ZxGNAjTB0qiUlY0CSgWXROAdjQHgE6eNrZ2JAXGIGlkXzYkB6Cw5KzLBjQMVP0+UYYWNAgmXROLdBZ0D/YOhUS0JvQGDROLdRWG1AHJSYgWWZckAW/lKeiH50QLD3vFilkXVA5sUqbYVHdEDHSK5/uIt2QE6AR5A+vnZAPKA17K4idkCw97xYpeF1QIm/lCeilnVAnabLMZK/dEApT0TFm5x0QObFKm2F93NAHJSYgWU1ckCqltQDWoNsQEA9oDXspmNAVYds9p4/YkCepssxklNiQFSHbPaeF2JA/RYclJghYkAuwCNIHy9jQJJ6QGvYvWFARnL9w30LZkC4QYkZWD5uQJIgfXzt1GpAZbP3vFhtcUApT0TFm2R1QJ6myzGSv3RAQjZ7z4tldEDISK5/uHd2QNWZn6bLDXdAcozk+oeLd0DygNawu3J2QJIQhk61VHZADGgNu6vDdUAW/lKeiAZ0QI9V2gp/nXNA7FtwUGLqcUC9E1HxJvtsQJyBZdE4B2NA\",\"dtype\":\"float64\",\"shape\":[168]}},\"selected\":{\"id\":\"6346\",\"type\":\"Selection\"},\"selection_policy\":{\"id\":\"6347\",\"type\":\"UnionRenderers\"}},\"id\":\"6048\",\"type\":\"ColumnDataSource\"},{\"attributes\":{},\"id\":\"6006\",\"type\":\"BasicTicker\"},{\"attributes\":{\"callback\":null},\"id\":\"5994\",\"type\":\"DataRange1d\"},{\"attributes\":{\"axis_label\":\"Timestmap\",\"formatter\":{\"id\":\"6030\",\"type\":\"DatetimeTickFormatter\"},\"ticker\":{\"id\":\"6001\",\"type\":\"DatetimeTicker\"}},\"id\":\"6000\",\"type\":\"DatetimeAxis\"},{\"attributes\":{\"base\":24,\"mantissas\":[1,2,4,6,8,12],\"max_interval\":43200000.0,\"min_interval\":3600000.0,\"num_minor_ticks\":0},\"id\":\"6036\",\"type\":\"AdaptiveTicker\"},{\"attributes\":{},\"id\":\"6014\",\"type\":\"ResetTool\"},{\"attributes\":{\"base\":60,\"mantissas\":[1,2,5,10,15,20,30],\"max_interval\":1800000.0,\"min_interval\":1000.0,\"num_minor_ticks\":0},\"id\":\"6035\",\"type\":\"AdaptiveTicker\"},{\"attributes\":{},\"id\":\"6059\",\"type\":\"Selection\"},{\"attributes\":{\"days\":[1,8,15,22]},\"id\":\"6039\",\"type\":\"DaysTicker\"},{\"attributes\":{\"label\":{\"value\":\"targets\"},\"renderers\":[{\"id\":\"6051\",\"type\":\"GlyphRenderer\"}]},\"id\":\"6073\",\"type\":\"LegendItem\"},{\"attributes\":{\"days\":[1,2,3,4,5,6,7,8,9,10,11,12,13,14,15,16,17,18,19,20,21,22,23,24,25,26,27,28,29,30,31]},\"id\":\"6037\",\"type\":\"DaysTicker\"},{\"attributes\":{},\"id\":\"6060\",\"type\":\"UnionRenderers\"},{\"attributes\":{\"text\":\"Predictions over the test dataset for MT_326\"},\"id\":\"5990\",\"type\":\"Title\"}],\"root_ids\":[\"5989\"]},\"title\":\"Bokeh Application\",\"version\":\"1.4.0\"}};\n",
       "  var render_items = [{\"docid\":\"282597a6-5237-49e1-8cc2-c8b5c5c43a39\",\"roots\":{\"5989\":\"c1ed9870-bb30-4614-bedd-b567e3a4eac9\"}}];\n",
       "  root.Bokeh.embed.embed_items_notebook(docs_json, render_items);\n",
       "\n",
       "  }\n",
       "  if (root.Bokeh !== undefined) {\n",
       "    embed_document(root);\n",
       "  } else {\n",
       "    var attempts = 0;\n",
       "    var timer = setInterval(function(root) {\n",
       "      if (root.Bokeh !== undefined) {\n",
       "        clearInterval(timer);\n",
       "        embed_document(root);\n",
       "      } else {\n",
       "        attempts++;\n",
       "        if (attempts > 100) {\n",
       "          clearInterval(timer);\n",
       "          console.log(\"Bokeh: ERROR: Unable to run BokehJS code because BokehJS library is missing\");\n",
       "        }\n",
       "      }\n",
       "    }, 10, root)\n",
       "  }\n",
       "})(window);"
      ],
      "application/vnd.bokehjs_exec.v0+json": ""
     },
     "metadata": {
      "application/vnd.bokehjs_exec.v0+json": {
       "id": "5989"
      }
     },
     "output_type": "display_data"
    },
    {
     "data": {
      "text/html": [
       "\n",
       "\n",
       "\n",
       "\n",
       "\n",
       "\n",
       "  <div class=\"bk-root\" id=\"72e2dd91-f309-4cd3-ae4d-e36267399486\" data-root-id=\"6492\"></div>\n"
      ]
     },
     "metadata": {},
     "output_type": "display_data"
    },
    {
     "data": {
      "application/javascript": [
       "(function(root) {\n",
       "  function embed_document(root) {\n",
       "    \n",
       "  var docs_json = {\"c9fa1ac2-7b68-43d6-bace-5a2614a5c625\":{\"roots\":{\"references\":[{\"attributes\":{\"below\":[{\"id\":\"6503\",\"type\":\"DatetimeAxis\"}],\"center\":[{\"id\":\"6507\",\"type\":\"Grid\"},{\"id\":\"6512\",\"type\":\"Grid\"},{\"id\":\"6549\",\"type\":\"Legend\"}],\"left\":[{\"id\":\"6508\",\"type\":\"LinearAxis\"}],\"plot_height\":320,\"plot_width\":960,\"renderers\":[{\"id\":\"6529\",\"type\":\"GlyphRenderer\"},{\"id\":\"6554\",\"type\":\"GlyphRenderer\"}],\"title\":{\"id\":\"6493\",\"type\":\"Title\"},\"toolbar\":{\"id\":\"6519\",\"type\":\"Toolbar\"},\"x_range\":{\"id\":\"6495\",\"type\":\"DataRange1d\"},\"x_scale\":{\"id\":\"6499\",\"type\":\"LinearScale\"},\"y_range\":{\"id\":\"6497\",\"type\":\"DataRange1d\"},\"y_scale\":{\"id\":\"6501\",\"type\":\"LinearScale\"}},\"id\":\"6492\",\"subtype\":\"Figure\",\"type\":\"Plot\"},{\"attributes\":{\"months\":[0,2,4,6,8,10]},\"id\":\"6545\",\"type\":\"MonthsTicker\"},{\"attributes\":{\"items\":[{\"id\":\"6550\",\"type\":\"LegendItem\"},{\"id\":\"6576\",\"type\":\"LegendItem\"}]},\"id\":\"6549\",\"type\":\"Legend\"},{\"attributes\":{\"months\":[0,4,8]},\"id\":\"6546\",\"type\":\"MonthsTicker\"},{\"attributes\":{\"dimension\":1,\"ticker\":{\"id\":\"6509\",\"type\":\"BasicTicker\"}},\"id\":\"6512\",\"type\":\"Grid\"},{\"attributes\":{\"num_minor_ticks\":5,\"tickers\":[{\"id\":\"6537\",\"type\":\"AdaptiveTicker\"},{\"id\":\"6538\",\"type\":\"AdaptiveTicker\"},{\"id\":\"6539\",\"type\":\"AdaptiveTicker\"},{\"id\":\"6540\",\"type\":\"DaysTicker\"},{\"id\":\"6541\",\"type\":\"DaysTicker\"},{\"id\":\"6542\",\"type\":\"DaysTicker\"},{\"id\":\"6543\",\"type\":\"DaysTicker\"},{\"id\":\"6544\",\"type\":\"MonthsTicker\"},{\"id\":\"6545\",\"type\":\"MonthsTicker\"},{\"id\":\"6546\",\"type\":\"MonthsTicker\"},{\"id\":\"6547\",\"type\":\"MonthsTicker\"},{\"id\":\"6548\",\"type\":\"YearsTicker\"}]},\"id\":\"6504\",\"type\":\"DatetimeTicker\"},{\"attributes\":{},\"id\":\"6871\",\"type\":\"Selection\"},{\"attributes\":{\"months\":[0,6]},\"id\":\"6547\",\"type\":\"MonthsTicker\"},{\"attributes\":{},\"id\":\"6517\",\"type\":\"ResetTool\"},{\"attributes\":{},\"id\":\"6533\",\"type\":\"DatetimeTickFormatter\"},{\"attributes\":{},\"id\":\"6548\",\"type\":\"YearsTicker\"},{\"attributes\":{\"ticker\":{\"id\":\"6504\",\"type\":\"DatetimeTicker\"}},\"id\":\"6507\",\"type\":\"Grid\"},{\"attributes\":{\"axis_label\":\"Value\",\"formatter\":{\"id\":\"6535\",\"type\":\"BasicTickFormatter\"},\"ticker\":{\"id\":\"6509\",\"type\":\"BasicTicker\"}},\"id\":\"6508\",\"type\":\"LinearAxis\"},{\"attributes\":{\"label\":{\"value\":\"predictions\"},\"renderers\":[{\"id\":\"6529\",\"type\":\"GlyphRenderer\"}]},\"id\":\"6550\",\"type\":\"LegendItem\"},{\"attributes\":{\"callback\":null},\"id\":\"6495\",\"type\":\"DataRange1d\"},{\"attributes\":{\"line_alpha\":0.1,\"line_color\":\"#1f77b4\",\"x\":{\"field\":\"x\"},\"y\":{\"field\":\"y\"}},\"id\":\"6553\",\"type\":\"Line\"},{\"attributes\":{},\"id\":\"6535\",\"type\":\"BasicTickFormatter\"},{\"attributes\":{\"callback\":null,\"data\":{\"x\":{\"__ndarray__\":\"AACALeiCdEIAAGic64J0QgAAUAvvgnRCAAA4evKCdEIAACDp9YJ0QgAACFj5gnRCAADwxvyCdEIAANg1AIN0QgAAwKQDg3RCAACoEweDdEIAAJCCCoN0QgAAePENg3RCAABgYBGDdEIAAEjPFIN0QgAAMD4Yg3RCAAAYrRuDdEIAAAAcH4N0QgAA6Ioig3RCAADQ+SWDdEIAALhoKYN0QgAAoNcsg3RCAACIRjCDdEIAAHC1M4N0QgAAWCQ3g3RCAABAkzqDdEIAACgCPoN0QgAAEHFBg3RCAAD430SDdEIAAOBOSIN0QgAAyL1Lg3RCAACwLE+DdEIAAJibUoN0QgAAgApWg3RCAABoeVmDdEIAAFDoXIN0QgAAOFdgg3RCAAAgxmODdEIAAAg1Z4N0QgAA8KNqg3RCAADYEm6DdEIAAMCBcYN0QgAAqPB0g3RCAACQX3iDdEIAAHjOe4N0QgAAYD1/g3RCAABIrIKDdEIAADAbhoN0QgAAGIqJg3RCAAAA+YyDdEIAAOhnkIN0QgAA0NaTg3RCAAC4RZeDdEIAAKC0moN0QgAAiCOeg3RCAABwkqGDdEIAAFgBpYN0QgAAQHCog3RCAAAo36uDdEIAABBOr4N0QgAA+Lyyg3RCAADgK7aDdEIAAMiauYN0QgAAsAm9g3RCAACYeMCDdEIAAIDnw4N0QgAAaFbHg3RCAABQxcqDdEIAADg0zoN0QgAAIKPRg3RCAAAIEtWDdEIAAPCA2IN0QgAA2O/bg3RCAADAXt+DdEIAAKjN4oN0QgAAkDzmg3RCAAB4q+mDdEIAAGAa7YN0QgAASInwg3RCAAAw+PODdEIAABhn94N0QgAAANb6g3RCAADoRP6DdEIAANCzAYR0QgAAuCIFhHRCAACgkQiEdEIAAIgADIR0QgAAcG8PhHRCAABY3hKEdEIAAEBNFoR0QgAAKLwZhHRCAAAQKx2EdEIAAPiZIIR0QgAA4AgkhHRCAADIdyeEdEIAALDmKoR0QgAAmFUuhHRCAACAxDGEdEIAAGgzNYR0QgAAUKI4hHRCAAA4ETyEdEIAACCAP4R0QgAACO9ChHRCAADwXUaEdEIAANjMSYR0QgAAwDtNhHRCAACoqlCEdEIAAJAZVIR0QgAAeIhXhHRCAABg91qEdEIAAEhmXoR0QgAAMNVhhHRCAAAYRGWEdEIAAACzaIR0QgAA6CFshHRCAADQkG+EdEIAALj/coR0QgAAoG52hHRCAACI3XmEdEIAAHBMfYR0QgAAWLuAhHRCAABAKoSEdEIAACiZh4R0QgAAEAiLhHRCAAD4do6EdEIAAODlkYR0QgAAyFSVhHRCAACww5iEdEIAAJgynIR0QgAAgKGfhHRCAABoEKOEdEIAAFB/poR0QgAAOO6phHRCAAAgXa2EdEIAAAjMsIR0QgAA8Dq0hHRCAADYqbeEdEIAAMAYu4R0QgAAqIe+hHRCAACQ9sGEdEIAAHhlxYR0QgAAYNTIhHRCAABIQ8yEdEIAADCyz4R0QgAAGCHThHRCAAAAkNaEdEIAAOj+2YR0QgAA0G3dhHRCAAC43OCEdEIAAKBL5IR0QgAAiLrnhHRCAABwKeuEdEIAAFiY7oR0QgAAQAfyhHRCAAAodvWEdEIAABDl+IR0QgAA+FP8hHRCAADgwv+EdEIAAMgxA4V0QgAAsKAGhXRCAACYDwqFdEIAAIB+DYV0QgAAaO0QhXRCAABQXBSFdEIAADjLF4V0QgAAIDobhXRCAAAIqR6FdEIAAPAXIoV0QgAA2IYlhXRC\",\"dtype\":\"float64\",\"shape\":[168]},\"y\":{\"__ndarray__\":\"AAAAYL1vdUAAAACgITF0QAAAAOCg0HJAAAAAoDEUckAAAAAgphZxQAAAAEC7nnNAAAAAQMeFd0AAAABgXFh/QAAAAOCJToJAAAAAwCNSg0AAAADA/j2EQAAAAEDg7YZAAAAAIAl5iEAAAACA546IQAAAAKDPI4hAAAAAgC4SiEAAAACAj+OHQAAAAIADjolAAAAAgApaikAAAACAarOJQAAAAAC2NohAAAAA4F7IhkAAAADAr3CDQAAAAOBRRH1AAAAAwDQadEAAAACA+FtzQAAAAEB0CHJAAAAAgL5AcUAAAADAnWBwQAAAAOAFHnNAAAAAAAYtd0AAAADg64iAQAAAAIDBx4FAAAAAoFqygkAAAACA4zOEQAAAAGBGI4dAAAAAoHjXh0AAAAAgVKOIQAAAAMBlAIhAAAAAgCklh0AAAABAFG2HQAAAAACfgYhAAAAAILFuiUAAAAAAaeeIQAAAAOB9Y4dAAAAAQAcvhkAAAACgKhWDQAAAACDWOH1AAAAAwFxTdEAAAACgwU90QAAAAGBeWHRAAAAAABd6c0AAAAAgDw9yQAAAAOBklXVAAAAA4MvWekAAAACgOi+BQAAAAOAld4JAAAAAoMoJg0AAAABgd9uEQAAAAICyXIVAAAAAILjvhEAAAADgBUKDQAAAAEBFVINAAAAAAHSjg0AAAAAAuYqEQAAAAOBcCoZAAAAAAEgghkAAAABANNeGQAAAAKA8NIVAAAAAwMsrhUAAAACA7UCCQAAAAGAiBn9AAAAA4K7ldUAAAAAgWCB1QAAAAOA0G3RAAAAAQK1udEAAAABg1FB0QAAAAICp43ZAAAAAgKAee0AAAAAAq/mAQAAAAMBKFIJAAAAAQLi9gkAAAADgZsqDQAAAAMDFVYRAAAAAYA2Mg0AAAADARemCQAAAAACceIJAAAAAQE9GgkAAAAAAptqEQAAAACC7mIVAAAAAwHSvhEAAAADg1b6EQAAAAGC/NIVAAAAA4KiYhEAAAAAgaWeCQAAAACDDs3xAAAAAgF/+dUAAAAAAF/t0QAAAACD22HNAAAAAAEtrc0AAAACAqsVxQAAAACCUrHVAAAAAwBCSeUAAAADgp+5/QAAAAEDZ9YFAAAAAQH89gkAAAACAl6yDQAAAAIDOlINAAAAAYNjRg0AAAABg73yEQAAAAIAtcoNAAAAAAO7hg0AAAAAA776EQAAAAEBBWYVAAAAAgPE3hUAAAAAAf8eEQAAAAIDbYYRAAAAA4KI+g0AAAACAFC+BQAAAAGDVTH1AAAAAgPlAdEAAAABAHipzQAAAAEC7DHNAAAAAQCTxcUAAAAAgbfhxQAAAAMA03nVAAAAAYDHteEAAAAAAGQB/QAAAAECOHIFAAAAAYI02gkAAAABAu2CEQAAAAAAiHoRAAAAAwCUGhEAAAAAgmn+DQAAAAGBf2oJAAAAAoBcYg0AAAAAg46GDQAAAAICnKIVAAAAAIO1IhUAAAACgRVqEQAAAAMCoDYRAAAAAQIcFg0AAAACAzdeAQAAAAABEIXxAAAAAQF+fdUAAAADgTcx0QAAAAABL7HNAAAAAoAZedEAAAADAuRdzQAAAAGBZYnZAAAAAgNBse0AAAABAmXaAQAAAAAAI1IFAAAAA4N4Qg0AAAAAghzGEQAAAAEAji4VAAAAAIKG+hkAAAADgzESFQAAAAAA7FYRAAAAAIHrLhEAAAABg1kyEQAAAAEBmNYVAAAAAYFcxhUAAAADgPeCEQAAAAIB8/INAAAAA4OH6gkAAAABg7ZeAQAAAACDSS31A\",\"dtype\":\"float64\",\"shape\":[168]}},\"selected\":{\"id\":\"6562\",\"type\":\"Selection\"},\"selection_policy\":{\"id\":\"6563\",\"type\":\"UnionRenderers\"}},\"id\":\"6526\",\"type\":\"ColumnDataSource\"},{\"attributes\":{\"source\":{\"id\":\"6551\",\"type\":\"ColumnDataSource\"}},\"id\":\"6555\",\"type\":\"CDSView\"},{\"attributes\":{\"bottom_units\":\"screen\",\"fill_alpha\":{\"value\":0.5},\"fill_color\":{\"value\":\"lightgrey\"},\"left_units\":\"screen\",\"level\":\"overlay\",\"line_alpha\":{\"value\":1.0},\"line_color\":{\"value\":\"black\"},\"line_dash\":[4,4],\"line_width\":{\"value\":2},\"render_mode\":\"css\",\"right_units\":\"screen\",\"top_units\":\"screen\"},\"id\":\"6536\",\"type\":\"BoxAnnotation\"},{\"attributes\":{\"line_color\":\"blue\",\"x\":{\"field\":\"x\"},\"y\":{\"field\":\"y\"}},\"id\":\"6552\",\"type\":\"Line\"},{\"attributes\":{},\"id\":\"6509\",\"type\":\"BasicTicker\"},{\"attributes\":{\"axis_label\":\"Timestmap\",\"formatter\":{\"id\":\"6533\",\"type\":\"DatetimeTickFormatter\"},\"ticker\":{\"id\":\"6504\",\"type\":\"DatetimeTicker\"}},\"id\":\"6503\",\"type\":\"DatetimeAxis\"},{\"attributes\":{\"mantissas\":[1,2,5],\"max_interval\":500.0,\"num_minor_ticks\":0},\"id\":\"6537\",\"type\":\"AdaptiveTicker\"},{\"attributes\":{},\"id\":\"6513\",\"type\":\"PanTool\"},{\"attributes\":{},\"id\":\"6501\",\"type\":\"LinearScale\"},{\"attributes\":{\"callback\":null,\"data\":{\"x\":{\"__ndarray__\":\"AACALeiCdEIAAGic64J0QgAAUAvvgnRCAAA4evKCdEIAACDp9YJ0QgAACFj5gnRCAADwxvyCdEIAANg1AIN0QgAAwKQDg3RCAACoEweDdEIAAJCCCoN0QgAAePENg3RCAABgYBGDdEIAAEjPFIN0QgAAMD4Yg3RCAAAYrRuDdEIAAAAcH4N0QgAA6Ioig3RCAADQ+SWDdEIAALhoKYN0QgAAoNcsg3RCAACIRjCDdEIAAHC1M4N0QgAAWCQ3g3RCAABAkzqDdEIAACgCPoN0QgAAEHFBg3RCAAD430SDdEIAAOBOSIN0QgAAyL1Lg3RCAACwLE+DdEIAAJibUoN0QgAAgApWg3RCAABoeVmDdEIAAFDoXIN0QgAAOFdgg3RCAAAgxmODdEIAAAg1Z4N0QgAA8KNqg3RCAADYEm6DdEIAAMCBcYN0QgAAqPB0g3RCAACQX3iDdEIAAHjOe4N0QgAAYD1/g3RCAABIrIKDdEIAADAbhoN0QgAAGIqJg3RCAAAA+YyDdEIAAOhnkIN0QgAA0NaTg3RCAAC4RZeDdEIAAKC0moN0QgAAiCOeg3RCAABwkqGDdEIAAFgBpYN0QgAAQHCog3RCAAAo36uDdEIAABBOr4N0QgAA+Lyyg3RCAADgK7aDdEIAAMiauYN0QgAAsAm9g3RCAACYeMCDdEIAAIDnw4N0QgAAaFbHg3RCAABQxcqDdEIAADg0zoN0QgAAIKPRg3RCAAAIEtWDdEIAAPCA2IN0QgAA2O/bg3RCAADAXt+DdEIAAKjN4oN0QgAAkDzmg3RCAAB4q+mDdEIAAGAa7YN0QgAASInwg3RCAAAw+PODdEIAABhn94N0QgAAANb6g3RCAADoRP6DdEIAANCzAYR0QgAAuCIFhHRCAACgkQiEdEIAAIgADIR0QgAAcG8PhHRCAABY3hKEdEIAAEBNFoR0QgAAKLwZhHRCAAAQKx2EdEIAAPiZIIR0QgAA4AgkhHRCAADIdyeEdEIAALDmKoR0QgAAmFUuhHRCAACAxDGEdEIAAGgzNYR0QgAAUKI4hHRCAAA4ETyEdEIAACCAP4R0QgAACO9ChHRCAADwXUaEdEIAANjMSYR0QgAAwDtNhHRCAACoqlCEdEIAAJAZVIR0QgAAeIhXhHRCAABg91qEdEIAAEhmXoR0QgAAMNVhhHRCAAAYRGWEdEIAAACzaIR0QgAA6CFshHRCAADQkG+EdEIAALj/coR0QgAAoG52hHRCAACI3XmEdEIAAHBMfYR0QgAAWLuAhHRCAABAKoSEdEIAACiZh4R0QgAAEAiLhHRCAAD4do6EdEIAAODlkYR0QgAAyFSVhHRCAACww5iEdEIAAJgynIR0QgAAgKGfhHRCAABoEKOEdEIAAFB/poR0QgAAOO6phHRCAAAgXa2EdEIAAAjMsIR0QgAA8Dq0hHRCAADYqbeEdEIAAMAYu4R0QgAAqIe+hHRCAACQ9sGEdEIAAHhlxYR0QgAAYNTIhHRCAABIQ8yEdEIAADCyz4R0QgAAGCHThHRCAAAAkNaEdEIAAOj+2YR0QgAA0G3dhHRCAAC43OCEdEIAAKBL5IR0QgAAiLrnhHRCAABwKeuEdEIAAFiY7oR0QgAAQAfyhHRCAAAodvWEdEIAABDl+IR0QgAA+FP8hHRCAADgwv+EdEIAAMgxA4V0QgAAsKAGhXRCAACYDwqFdEIAAIB+DYV0QgAAaO0QhXRCAABQXBSFdEIAADjLF4V0QgAAIDobhXRCAAAIqR6FdEIAAPAXIoV0QgAA2IYlhXRC\",\"dtype\":\"float64\",\"shape\":[168]},\"y\":{\"__ndarray__\":\"XP4NCTOGc0Dk+6KWf9NzQOIzx2K4+HJAs5+ykam2cUBjTW5WoVxxQNrIVK+t83VAPI8+7KcMeEDSXeL7omZ+QE58X9TyO4BAeXvmWAxvg0AZLngCa/aDQB0EXWmANIZAFliTm1V0iUBVNjLVa9uJQD1zLIYLzolAkhTRDoJCikAqoh0EXfGKQNR59GE/nYpAHH3YT9lgiUDjgiewJmeJQGiOxXDBv4hAgrw9cyxSiEB+ykamej2EQFt3ie+Lcn9A0wB5e+Y4c0Ak6EoD5EVzQK8mN6tQEnNACiVFtIPQcUDk7ZljMRxxQIULnsCaLHdAxPdFLf8eeUBzie+LWg5/QLxLfF/UvoFAdwJrcrNOg0DaT9nIVMeCQFY2MtVrd4RArkJJEe3IhkAG1uRmFTKIQICuNEDeRolA6NGH/ZTxh0BTRDsIuh6IQK67xPdF9YlAsvwbEmbkh0B9X9Tyb8SHQEQt/4aE8YdAq0JJEe0AhkDIcMETWAOEQMjpPPqw135Ahq40QN7eckDzEt8XtYRyQLf8GxJmRHJAl/i+qOVPcUDrIOhKA9xwQLd1l/i+oHdABiVFtIPweUDBE1iTmx2BQHn0YT9l/4FAnM6jD/u1g0C/IWHG6fyDQG/rLvF9sYRAz5UGyNsPh0BB0JUGyNOFQObfkDDjsIdAhCewJjdbhkC9L2r5N9yGQCXaQdCVqodANLlZhZJuhkC6WYWSIi6GQM8Ogq40oIVAGLX8GxIuhkDE6Tz6sFuDQNXWXeL7sn9AXP4NCTOGc0CvJjerUBJzQED6sJ+ykXJAZqrX1l3qcUBAcyyGCzZxQMhUr627LHdA3kHQlQb4eEBUr627xOd+QPB9Ucu/yYBA5O2ZYzHUgkDrPPqwn6KDQLrgCazJDYZAOo8+7Kfkh0DDBU9gTVKIQISuNEDeyodAWgwXPIG1hkDDBU9gTYqHQCuGC57ABolAkhTRDoL+h0Aci+GCJ6SHQPTow37KjoZANjLVa+v+hEBtZKrX1kGDQPewn7KR2X9AmBTRDoLGc0B7bd0lvl9zQOs8+rCfUnNAnsCa3KwqckAkYcbpPOpxQCASZpzOE3RA5jz6sJ+yd0DmPPqwn/J9QMZiuOAJJIFADpC3Z44hg0BKEe0g6MKDQPAS3xe1GIVAMmr5NyR0iUBwOo8+7FOJQAZdaYC82YhA7SDoSgMwh0AXPIE1uZ2HQLbuEt8XtYlAshgueAK7iUCvJjerUMaIQISgKw2Qv4hA50oD5O1Jh0CXBsjbM4+DQNZd4vuiBoBAEdEOgq6UdED2YT9lI7t0QBJ0pQHyBnRAJFO9tu6Sc0DsPPqwn1JzQEa0g6Ar9XZAhzW5WYVieUAE5O2ZY/2AQDFc8ATWwIJA2E/ZyFTHgkCIaAdBV0qEQE9uVqGk4IVAzr8hYcbRhEByswolRRCEQJcGyNszj4NAB7rSAHk7g0CSt2eOxVCEQD6BNblZBYVAAnl75liEhEDTh/2UjTCEQOyZYzFciIZAEWaczqNfhUCGGafz6HuDQKzJzSqUQIBArNfWXeI7dUBpjsVwwTt1QCRvzxyLoXRAX1t3ie8TdECo5d+QMJNzQIPKRqZ6NXdATXxf1PKveUBPUkQ7CCKAQHj0YT9lN4FA3xe1/BsmgkAslBTRDvKEQGHU8m9ITIVAL+N0Hn3AhUCDoCsNkLOFQKZ6bd0l2oVAX9Tyb0gUhkBrcrMKJVmFQK5CSRHtOIVAxfdFLf9yhUCipIh2ECyFQJzcrEJJzYVAAAAAAAD0hUCtu8T3RcmDQOB0Hn3Yv39A\",\"dtype\":\"float64\",\"shape\":[168]}},\"selected\":{\"id\":\"6871\",\"type\":\"Selection\"},\"selection_policy\":{\"id\":\"6872\",\"type\":\"UnionRenderers\"}},\"id\":\"6551\",\"type\":\"ColumnDataSource\"},{\"attributes\":{\"data_source\":{\"id\":\"6551\",\"type\":\"ColumnDataSource\"},\"glyph\":{\"id\":\"6552\",\"type\":\"Line\"},\"hover_glyph\":null,\"muted_glyph\":null,\"nonselection_glyph\":{\"id\":\"6553\",\"type\":\"Line\"},\"selection_glyph\":null,\"view\":{\"id\":\"6555\",\"type\":\"CDSView\"}},\"id\":\"6554\",\"type\":\"GlyphRenderer\"},{\"attributes\":{},\"id\":\"6499\",\"type\":\"LinearScale\"},{\"attributes\":{\"line_color\":\"red\",\"x\":{\"field\":\"x\"},\"y\":{\"field\":\"y\"}},\"id\":\"6527\",\"type\":\"Line\"},{\"attributes\":{\"base\":24,\"mantissas\":[1,2,4,6,8,12],\"max_interval\":43200000.0,\"min_interval\":3600000.0,\"num_minor_ticks\":0},\"id\":\"6539\",\"type\":\"AdaptiveTicker\"},{\"attributes\":{\"callback\":null},\"id\":\"6497\",\"type\":\"DataRange1d\"},{\"attributes\":{},\"id\":\"6516\",\"type\":\"SaveTool\"},{\"attributes\":{\"base\":60,\"mantissas\":[1,2,5,10,15,20,30],\"max_interval\":1800000.0,\"min_interval\":1000.0,\"num_minor_ticks\":0},\"id\":\"6538\",\"type\":\"AdaptiveTicker\"},{\"attributes\":{},\"id\":\"6514\",\"type\":\"WheelZoomTool\"},{\"attributes\":{\"days\":[1,2,3,4,5,6,7,8,9,10,11,12,13,14,15,16,17,18,19,20,21,22,23,24,25,26,27,28,29,30,31]},\"id\":\"6540\",\"type\":\"DaysTicker\"},{\"attributes\":{\"months\":[0,1,2,3,4,5,6,7,8,9,10,11]},\"id\":\"6544\",\"type\":\"MonthsTicker\"},{\"attributes\":{\"source\":{\"id\":\"6526\",\"type\":\"ColumnDataSource\"}},\"id\":\"6530\",\"type\":\"CDSView\"},{\"attributes\":{},\"id\":\"6872\",\"type\":\"UnionRenderers\"},{\"attributes\":{\"text\":\"Predictions over the test dataset for MT_327\"},\"id\":\"6493\",\"type\":\"Title\"},{\"attributes\":{},\"id\":\"6562\",\"type\":\"Selection\"},{\"attributes\":{\"days\":[1,4,7,10,13,16,19,22,25,28]},\"id\":\"6541\",\"type\":\"DaysTicker\"},{\"attributes\":{\"data_source\":{\"id\":\"6526\",\"type\":\"ColumnDataSource\"},\"glyph\":{\"id\":\"6527\",\"type\":\"Line\"},\"hover_glyph\":null,\"muted_glyph\":null,\"nonselection_glyph\":{\"id\":\"6528\",\"type\":\"Line\"},\"selection_glyph\":null,\"view\":{\"id\":\"6530\",\"type\":\"CDSView\"}},\"id\":\"6529\",\"type\":\"GlyphRenderer\"},{\"attributes\":{\"label\":{\"value\":\"targets\"},\"renderers\":[{\"id\":\"6554\",\"type\":\"GlyphRenderer\"}]},\"id\":\"6576\",\"type\":\"LegendItem\"},{\"attributes\":{\"days\":[1,8,15,22]},\"id\":\"6542\",\"type\":\"DaysTicker\"},{\"attributes\":{\"line_alpha\":0.1,\"line_color\":\"#1f77b4\",\"x\":{\"field\":\"x\"},\"y\":{\"field\":\"y\"}},\"id\":\"6528\",\"type\":\"Line\"},{\"attributes\":{},\"id\":\"6563\",\"type\":\"UnionRenderers\"},{\"attributes\":{},\"id\":\"6518\",\"type\":\"HelpTool\"},{\"attributes\":{\"days\":[1,15]},\"id\":\"6543\",\"type\":\"DaysTicker\"},{\"attributes\":{\"overlay\":{\"id\":\"6536\",\"type\":\"BoxAnnotation\"}},\"id\":\"6515\",\"type\":\"BoxZoomTool\"},{\"attributes\":{\"active_drag\":\"auto\",\"active_inspect\":\"auto\",\"active_multi\":null,\"active_scroll\":\"auto\",\"active_tap\":\"auto\",\"tools\":[{\"id\":\"6513\",\"type\":\"PanTool\"},{\"id\":\"6514\",\"type\":\"WheelZoomTool\"},{\"id\":\"6515\",\"type\":\"BoxZoomTool\"},{\"id\":\"6516\",\"type\":\"SaveTool\"},{\"id\":\"6517\",\"type\":\"ResetTool\"},{\"id\":\"6518\",\"type\":\"HelpTool\"}]},\"id\":\"6519\",\"type\":\"Toolbar\"}],\"root_ids\":[\"6492\"]},\"title\":\"Bokeh Application\",\"version\":\"1.4.0\"}};\n",
       "  var render_items = [{\"docid\":\"c9fa1ac2-7b68-43d6-bace-5a2614a5c625\",\"roots\":{\"6492\":\"72e2dd91-f309-4cd3-ae4d-e36267399486\"}}];\n",
       "  root.Bokeh.embed.embed_items_notebook(docs_json, render_items);\n",
       "\n",
       "  }\n",
       "  if (root.Bokeh !== undefined) {\n",
       "    embed_document(root);\n",
       "  } else {\n",
       "    var attempts = 0;\n",
       "    var timer = setInterval(function(root) {\n",
       "      if (root.Bokeh !== undefined) {\n",
       "        clearInterval(timer);\n",
       "        embed_document(root);\n",
       "      } else {\n",
       "        attempts++;\n",
       "        if (attempts > 100) {\n",
       "          clearInterval(timer);\n",
       "          console.log(\"Bokeh: ERROR: Unable to run BokehJS code because BokehJS library is missing\");\n",
       "        }\n",
       "      }\n",
       "    }, 10, root)\n",
       "  }\n",
       "})(window);"
      ],
      "application/vnd.bokehjs_exec.v0+json": ""
     },
     "metadata": {
      "application/vnd.bokehjs_exec.v0+json": {
       "id": "6492"
      }
     },
     "output_type": "display_data"
    },
    {
     "data": {
      "text/html": [
       "\n",
       "\n",
       "\n",
       "\n",
       "\n",
       "\n",
       "  <div class=\"bk-root\" id=\"b7bde67b-4589-47cf-aa70-8a337a21acaa\" data-root-id=\"7017\"></div>\n"
      ]
     },
     "metadata": {},
     "output_type": "display_data"
    },
    {
     "data": {
      "application/javascript": [
       "(function(root) {\n",
       "  function embed_document(root) {\n",
       "    \n",
       "  var docs_json = {\"1528a125-5774-4694-8ecc-985a7499d51d\":{\"roots\":{\"references\":[{\"attributes\":{\"below\":[{\"id\":\"7028\",\"type\":\"DatetimeAxis\"}],\"center\":[{\"id\":\"7032\",\"type\":\"Grid\"},{\"id\":\"7037\",\"type\":\"Grid\"},{\"id\":\"7074\",\"type\":\"Legend\"}],\"left\":[{\"id\":\"7033\",\"type\":\"LinearAxis\"}],\"plot_height\":320,\"plot_width\":960,\"renderers\":[{\"id\":\"7054\",\"type\":\"GlyphRenderer\"},{\"id\":\"7079\",\"type\":\"GlyphRenderer\"}],\"title\":{\"id\":\"7018\",\"type\":\"Title\"},\"toolbar\":{\"id\":\"7044\",\"type\":\"Toolbar\"},\"x_range\":{\"id\":\"7020\",\"type\":\"DataRange1d\"},\"x_scale\":{\"id\":\"7024\",\"type\":\"LinearScale\"},\"y_range\":{\"id\":\"7022\",\"type\":\"DataRange1d\"},\"y_scale\":{\"id\":\"7026\",\"type\":\"LinearScale\"}},\"id\":\"7017\",\"subtype\":\"Figure\",\"type\":\"Plot\"},{\"attributes\":{\"source\":{\"id\":\"7076\",\"type\":\"ColumnDataSource\"}},\"id\":\"7080\",\"type\":\"CDSView\"},{\"attributes\":{},\"id\":\"7034\",\"type\":\"BasicTicker\"},{\"attributes\":{\"axis_label\":\"Value\",\"formatter\":{\"id\":\"7060\",\"type\":\"BasicTickFormatter\"},\"ticker\":{\"id\":\"7034\",\"type\":\"BasicTicker\"}},\"id\":\"7033\",\"type\":\"LinearAxis\"},{\"attributes\":{\"mantissas\":[1,2,5],\"max_interval\":500.0,\"num_minor_ticks\":0},\"id\":\"7062\",\"type\":\"AdaptiveTicker\"},{\"attributes\":{\"line_alpha\":0.1,\"line_color\":\"#1f77b4\",\"x\":{\"field\":\"x\"},\"y\":{\"field\":\"y\"}},\"id\":\"7078\",\"type\":\"Line\"},{\"attributes\":{},\"id\":\"7024\",\"type\":\"LinearScale\"},{\"attributes\":{\"bottom_units\":\"screen\",\"fill_alpha\":{\"value\":0.5},\"fill_color\":{\"value\":\"lightgrey\"},\"left_units\":\"screen\",\"level\":\"overlay\",\"line_alpha\":{\"value\":1.0},\"line_color\":{\"value\":\"black\"},\"line_dash\":[4,4],\"line_width\":{\"value\":2},\"render_mode\":\"css\",\"right_units\":\"screen\",\"top_units\":\"screen\"},\"id\":\"7061\",\"type\":\"BoxAnnotation\"},{\"attributes\":{},\"id\":\"7418\",\"type\":\"Selection\"},{\"attributes\":{},\"id\":\"7038\",\"type\":\"PanTool\"},{\"attributes\":{},\"id\":\"7026\",\"type\":\"LinearScale\"},{\"attributes\":{\"label\":{\"value\":\"predictions\"},\"renderers\":[{\"id\":\"7054\",\"type\":\"GlyphRenderer\"}]},\"id\":\"7075\",\"type\":\"LegendItem\"},{\"attributes\":{\"base\":24,\"mantissas\":[1,2,4,6,8,12],\"max_interval\":43200000.0,\"min_interval\":3600000.0,\"num_minor_ticks\":0},\"id\":\"7064\",\"type\":\"AdaptiveTicker\"},{\"attributes\":{\"base\":60,\"mantissas\":[1,2,5,10,15,20,30],\"max_interval\":1800000.0,\"min_interval\":1000.0,\"num_minor_ticks\":0},\"id\":\"7063\",\"type\":\"AdaptiveTicker\"},{\"attributes\":{\"overlay\":{\"id\":\"7061\",\"type\":\"BoxAnnotation\"}},\"id\":\"7040\",\"type\":\"BoxZoomTool\"},{\"attributes\":{\"label\":{\"value\":\"targets\"},\"renderers\":[{\"id\":\"7079\",\"type\":\"GlyphRenderer\"}]},\"id\":\"7101\",\"type\":\"LegendItem\"},{\"attributes\":{\"callback\":null},\"id\":\"7022\",\"type\":\"DataRange1d\"},{\"attributes\":{\"callback\":null,\"data\":{\"x\":{\"__ndarray__\":\"AACALeiCdEIAAGic64J0QgAAUAvvgnRCAAA4evKCdEIAACDp9YJ0QgAACFj5gnRCAADwxvyCdEIAANg1AIN0QgAAwKQDg3RCAACoEweDdEIAAJCCCoN0QgAAePENg3RCAABgYBGDdEIAAEjPFIN0QgAAMD4Yg3RCAAAYrRuDdEIAAAAcH4N0QgAA6Ioig3RCAADQ+SWDdEIAALhoKYN0QgAAoNcsg3RCAACIRjCDdEIAAHC1M4N0QgAAWCQ3g3RCAABAkzqDdEIAACgCPoN0QgAAEHFBg3RCAAD430SDdEIAAOBOSIN0QgAAyL1Lg3RCAACwLE+DdEIAAJibUoN0QgAAgApWg3RCAABoeVmDdEIAAFDoXIN0QgAAOFdgg3RCAAAgxmODdEIAAAg1Z4N0QgAA8KNqg3RCAADYEm6DdEIAAMCBcYN0QgAAqPB0g3RCAACQX3iDdEIAAHjOe4N0QgAAYD1/g3RCAABIrIKDdEIAADAbhoN0QgAAGIqJg3RCAAAA+YyDdEIAAOhnkIN0QgAA0NaTg3RCAAC4RZeDdEIAAKC0moN0QgAAiCOeg3RCAABwkqGDdEIAAFgBpYN0QgAAQHCog3RCAAAo36uDdEIAABBOr4N0QgAA+Lyyg3RCAADgK7aDdEIAAMiauYN0QgAAsAm9g3RCAACYeMCDdEIAAIDnw4N0QgAAaFbHg3RCAABQxcqDdEIAADg0zoN0QgAAIKPRg3RCAAAIEtWDdEIAAPCA2IN0QgAA2O/bg3RCAADAXt+DdEIAAKjN4oN0QgAAkDzmg3RCAAB4q+mDdEIAAGAa7YN0QgAASInwg3RCAAAw+PODdEIAABhn94N0QgAAANb6g3RCAADoRP6DdEIAANCzAYR0QgAAuCIFhHRCAACgkQiEdEIAAIgADIR0QgAAcG8PhHRCAABY3hKEdEIAAEBNFoR0QgAAKLwZhHRCAAAQKx2EdEIAAPiZIIR0QgAA4AgkhHRCAADIdyeEdEIAALDmKoR0QgAAmFUuhHRCAACAxDGEdEIAAGgzNYR0QgAAUKI4hHRCAAA4ETyEdEIAACCAP4R0QgAACO9ChHRCAADwXUaEdEIAANjMSYR0QgAAwDtNhHRCAACoqlCEdEIAAJAZVIR0QgAAeIhXhHRCAABg91qEdEIAAEhmXoR0QgAAMNVhhHRCAAAYRGWEdEIAAACzaIR0QgAA6CFshHRCAADQkG+EdEIAALj/coR0QgAAoG52hHRCAACI3XmEdEIAAHBMfYR0QgAAWLuAhHRCAABAKoSEdEIAACiZh4R0QgAAEAiLhHRCAAD4do6EdEIAAODlkYR0QgAAyFSVhHRCAACww5iEdEIAAJgynIR0QgAAgKGfhHRCAABoEKOEdEIAAFB/poR0QgAAOO6phHRCAAAgXa2EdEIAAAjMsIR0QgAA8Dq0hHRCAADYqbeEdEIAAMAYu4R0QgAAqIe+hHRCAACQ9sGEdEIAAHhlxYR0QgAAYNTIhHRCAABIQ8yEdEIAADCyz4R0QgAAGCHThHRCAAAAkNaEdEIAAOj+2YR0QgAA0G3dhHRCAAC43OCEdEIAAKBL5IR0QgAAiLrnhHRCAABwKeuEdEIAAFiY7oR0QgAAQAfyhHRCAAAodvWEdEIAABDl+IR0QgAA+FP8hHRCAADgwv+EdEIAAMgxA4V0QgAAsKAGhXRCAACYDwqFdEIAAIB+DYV0QgAAaO0QhXRCAABQXBSFdEIAADjLF4V0QgAAIDobhXRCAAAIqR6FdEIAAPAXIoV0QgAA2IYlhXRC\",\"dtype\":\"float64\",\"shape\":[168]},\"y\":{\"__ndarray__\":\"AAAAwGCXi0AAAABgAeSJQAAAAGCEPIZAAAAA4NFxhUAAAABg7V6FQAAAAOA4doRAAAAAwCcphEAAAAAg9kyOQAAAAACcGZJAAAAAQBefl0AAAAAgfiScQAAAAGCpeJ1AAAAAIMvSnUAAAADg9hueQAAAAGCcbp1AAAAAoAvwnUAAAADA6sKeQAAAACBQEaBAAAAAYFdcoEAAAADgWF6eQAAAAMCT75tAAAAAQCZdmUAAAADAEn2WQAAAAOC4J5JAAAAAoDsbi0AAAADgHNCKQAAAAOAn1YhAAAAAwEsWh0AAAABg9HOEQAAAAKBgooNAAAAA4M+Wg0AAAAAg6VaQQAAAAGDh/pFAAAAAgJsTmEAAAADgpKCcQAAAAAC0Bp1AAAAA4KcinkAAAACA33mdQAAAAABuM51AAAAA4JjPm0AAAADgZwydQAAAAAD+6Z5AAAAAQMYIoEAAAABgEZOfQAAAAMAELJ1AAAAAwH6ZmUAAAACg8/qWQAAAAMAwV5JAAAAAQOB2jEAAAAAghmyMQAAAAEBATIpAAAAA4NAIiEAAAADga0CIQAAAAMBTJYZAAAAAgAjjhEAAAADgS6mPQAAAAMC/S5JAAAAAQIJGmUAAAADA87SaQAAAACDSv5tAAAAA4L+6mkAAAACAh8SaQAAAACAYIppAAAAAoBq1mUAAAACAABSaQAAAAKDor5tAAAAAoGsrnEAAAACgxPebQAAAAKBunplAAAAAgLW8mEAAAACgjTyWQAAAAGAf1JFAAAAAIO+OjUAAAAAgbgqMQAAAAEBeG4lAAAAAQF0BiEAAAABAPc2FQAAAAECFCIVAAAAAQF0qgUAAAACga0OIQAAAAEC51pJAAAAAQHjfl0AAAAAgcsuYQAAAAADxRZlAAAAAgARBmUAAAADgH9qZQAAAACCWW5hAAAAAYN1mmUAAAACAHIeaQAAAAAB5cJtAAAAAoK4Om0AAAABggVOaQAAAAODCRplAAAAA4DZRmUAAAAAAw/SVQAAAAGBcepFAAAAAIMrNi0AAAABAkD+LQAAAAIAMlYhAAAAAAKLUiEAAAABAwEeHQAAAAAAaa4ZAAAAAYI6dhUAAAADAW7KRQAAAAMBIJ5NAAAAAwNTLlkAAAADAxPyYQAAAAAApj5pAAAAAwDZ3m0AAAADgbDSbQAAAAABFEJtAAAAAYKURmkAAAAAAHBmaQAAAAMDlMJtAAAAAYBWwmkAAAAAgwmqaQAAAAABCQphAAAAAwEKDmEAAAADgslmUQAAAACDTdJBAAAAA4NJDi0AAAABgU8SKQAAAAIAjdIlAAAAAwLlQiEAAAADAqGGIQAAAAIDl4ohAAAAAwMbVh0AAAADgUB+RQAAAAEAzn5JAAAAAgH70lkAAAADADcmXQAAAAEAuzJlAAAAAQO6bmUAAAACAbqSZQAAAAKBK05hAAAAAYBYwmkAAAACg8jacQAAAAOBL5pxAAAAAwEkLnUAAAADgmWaaQAAAAIB8U5lAAAAAQNsSmEAAAADAMmyVQAAAAKBGGJFAAAAAgFVsikAAAACgiF2KQAAAAIDAwItAAAAAwLZAjUAAAADAAByMQAAAAABTiItAAAAAACqwkEAAAABAs2GTQAAAAGD2E5RAAAAA4EAumEAAAAAAGZ6ZQAAAAABFUZxAAAAAoGKqm0AAAACAAlicQAAAAKBQ+ZlAAAAAoHXOmkAAAADAh6WbQAAAAEAvJ51AAAAAoJA7nkAAAACAcF2dQAAAACBgO5tAAAAAgHH+lkAAAADA7eiTQAAAAABGY5BA\",\"dtype\":\"float64\",\"shape\":[168]}},\"selected\":{\"id\":\"7087\",\"type\":\"Selection\"},\"selection_policy\":{\"id\":\"7088\",\"type\":\"UnionRenderers\"}},\"id\":\"7051\",\"type\":\"ColumnDataSource\"},{\"attributes\":{},\"id\":\"7087\",\"type\":\"Selection\"},{\"attributes\":{\"days\":[1,2,3,4,5,6,7,8,9,10,11,12,13,14,15,16,17,18,19,20,21,22,23,24,25,26,27,28,29,30,31]},\"id\":\"7065\",\"type\":\"DaysTicker\"},{\"attributes\":{\"text\":\"Predictions over the test dataset for MT_328\"},\"id\":\"7018\",\"type\":\"Title\"},{\"attributes\":{},\"id\":\"7088\",\"type\":\"UnionRenderers\"},{\"attributes\":{\"days\":[1,4,7,10,13,16,19,22,25,28]},\"id\":\"7066\",\"type\":\"DaysTicker\"},{\"attributes\":{\"line_color\":\"blue\",\"x\":{\"field\":\"x\"},\"y\":{\"field\":\"y\"}},\"id\":\"7077\",\"type\":\"Line\"},{\"attributes\":{\"callback\":null},\"id\":\"7020\",\"type\":\"DataRange1d\"},{\"attributes\":{},\"id\":\"7041\",\"type\":\"SaveTool\"},{\"attributes\":{\"days\":[1,8,15,22]},\"id\":\"7067\",\"type\":\"DaysTicker\"},{\"attributes\":{\"line_color\":\"red\",\"x\":{\"field\":\"x\"},\"y\":{\"field\":\"y\"}},\"id\":\"7052\",\"type\":\"Line\"},{\"attributes\":{},\"id\":\"7058\",\"type\":\"DatetimeTickFormatter\"},{\"attributes\":{},\"id\":\"7419\",\"type\":\"UnionRenderers\"},{\"attributes\":{\"days\":[1,15]},\"id\":\"7068\",\"type\":\"DaysTicker\"},{\"attributes\":{\"source\":{\"id\":\"7051\",\"type\":\"ColumnDataSource\"}},\"id\":\"7055\",\"type\":\"CDSView\"},{\"attributes\":{},\"id\":\"7039\",\"type\":\"WheelZoomTool\"},{\"attributes\":{\"months\":[0,1,2,3,4,5,6,7,8,9,10,11]},\"id\":\"7069\",\"type\":\"MonthsTicker\"},{\"attributes\":{},\"id\":\"7042\",\"type\":\"ResetTool\"},{\"attributes\":{},\"id\":\"7060\",\"type\":\"BasicTickFormatter\"},{\"attributes\":{\"callback\":null,\"data\":{\"x\":{\"__ndarray__\":\"AACALeiCdEIAAGic64J0QgAAUAvvgnRCAAA4evKCdEIAACDp9YJ0QgAACFj5gnRCAADwxvyCdEIAANg1AIN0QgAAwKQDg3RCAACoEweDdEIAAJCCCoN0QgAAePENg3RCAABgYBGDdEIAAEjPFIN0QgAAMD4Yg3RCAAAYrRuDdEIAAAAcH4N0QgAA6Ioig3RCAADQ+SWDdEIAALhoKYN0QgAAoNcsg3RCAACIRjCDdEIAAHC1M4N0QgAAWCQ3g3RCAABAkzqDdEIAACgCPoN0QgAAEHFBg3RCAAD430SDdEIAAOBOSIN0QgAAyL1Lg3RCAACwLE+DdEIAAJibUoN0QgAAgApWg3RCAABoeVmDdEIAAFDoXIN0QgAAOFdgg3RCAAAgxmODdEIAAAg1Z4N0QgAA8KNqg3RCAADYEm6DdEIAAMCBcYN0QgAAqPB0g3RCAACQX3iDdEIAAHjOe4N0QgAAYD1/g3RCAABIrIKDdEIAADAbhoN0QgAAGIqJg3RCAAAA+YyDdEIAAOhnkIN0QgAA0NaTg3RCAAC4RZeDdEIAAKC0moN0QgAAiCOeg3RCAABwkqGDdEIAAFgBpYN0QgAAQHCog3RCAAAo36uDdEIAABBOr4N0QgAA+Lyyg3RCAADgK7aDdEIAAMiauYN0QgAAsAm9g3RCAACYeMCDdEIAAIDnw4N0QgAAaFbHg3RCAABQxcqDdEIAADg0zoN0QgAAIKPRg3RCAAAIEtWDdEIAAPCA2IN0QgAA2O/bg3RCAADAXt+DdEIAAKjN4oN0QgAAkDzmg3RCAAB4q+mDdEIAAGAa7YN0QgAASInwg3RCAAAw+PODdEIAABhn94N0QgAAANb6g3RCAADoRP6DdEIAANCzAYR0QgAAuCIFhHRCAACgkQiEdEIAAIgADIR0QgAAcG8PhHRCAABY3hKEdEIAAEBNFoR0QgAAKLwZhHRCAAAQKx2EdEIAAPiZIIR0QgAA4AgkhHRCAADIdyeEdEIAALDmKoR0QgAAmFUuhHRCAACAxDGEdEIAAGgzNYR0QgAAUKI4hHRCAAA4ETyEdEIAACCAP4R0QgAACO9ChHRCAADwXUaEdEIAANjMSYR0QgAAwDtNhHRCAACoqlCEdEIAAJAZVIR0QgAAeIhXhHRCAABg91qEdEIAAEhmXoR0QgAAMNVhhHRCAAAYRGWEdEIAAACzaIR0QgAA6CFshHRCAADQkG+EdEIAALj/coR0QgAAoG52hHRCAACI3XmEdEIAAHBMfYR0QgAAWLuAhHRCAABAKoSEdEIAACiZh4R0QgAAEAiLhHRCAAD4do6EdEIAAODlkYR0QgAAyFSVhHRCAACww5iEdEIAAJgynIR0QgAAgKGfhHRCAABoEKOEdEIAAFB/poR0QgAAOO6phHRCAAAgXa2EdEIAAAjMsIR0QgAA8Dq0hHRCAADYqbeEdEIAAMAYu4R0QgAAqIe+hHRCAACQ9sGEdEIAAHhlxYR0QgAAYNTIhHRCAABIQ8yEdEIAADCyz4R0QgAAGCHThHRCAAAAkNaEdEIAAOj+2YR0QgAA0G3dhHRCAAC43OCEdEIAAKBL5IR0QgAAiLrnhHRCAABwKeuEdEIAAFiY7oR0QgAAQAfyhHRCAAAodvWEdEIAABDl+IR0QgAA+FP8hHRCAADgwv+EdEIAAMgxA4V0QgAAsKAGhXRCAACYDwqFdEIAAIB+DYV0QgAAaO0QhXRCAABQXBSFdEIAADjLF4V0QgAAIDobhXRCAAAIqR6FdEIAAPAXIoV0QgAA2IYlhXRC\",\"dtype\":\"float64\",\"shape\":[168]},\"y\":{\"__ndarray__\":\"2EtoL6EdiUCW0F5Ce2mFQOQ4juM4noNA5TiO4zieg0C0l9BeQvuCQNpLaC+h3YJAVlVVVVW1gUBfL6G9hLaPQF9CewntHZBAzXEcx3FElUDgOI7jOIaXQA3aS2gvuZlAPo7jOI7TmEAltJfQXqqZQJiqqqqqQplALKG9hPZqmkBfL6G9hM6bQAAAAAAA6JxAu4T2EtrDmkByHMdxHDeaQOgltJfQDplAOnsJ7SVcmkBYQnsJ7e2XQPEltJfQzpJA7CW0l9CeikAax3Ecx7GJQFRVVVVV1YRAN47jOI4jhEAJ7SW0l4CDQCa0l9BeMoRAxnEcx3HsgkAEAAAAAGiQQM9eQnsJjZBA9CW0l9AmlUAsob2E9hKYQMleQnsJ7ZlAtJfQXkKrl0CuqqqqqnqYQB/HcRzHIZhAJrSX0F4amEAsob2E9hKYQHscx3EcN5pAS2gvob1UmkAN2ktoL4GaQM1xHMdxZJhAaS+hvYR2mUAktJfQXlKXQPX/////h5NA0F5Cewl9i0C1l9BeQquHQJjQXkJ72YNAcBzHcRz3g0AI7SW0l4CDQIL2EtpL6INAVlVVVVVFg0A8juM4jjuQQD57Ce0l1I9AWEJ7Ce2VlUD//////2+XQLyE9hLaa5hAWEJ7Ce3tl0DhOI7jOBaZQOYltJfQfpdAcBzHcRynmEBYQnsJ7X2ZQFdoL6G9HJtAN6G9hPZqmkBqL6G9hD6aQNBLaC+hHZlA2ktoL6EdmUBLaC+hvTSXQB/HcRzHcZNAai+hvYQmjkDuJbSX0L6NQK2qqqqq6oZAVlVVVVXVhEA5juM4jiOEQFxCewntBYRAQHsJ7SVUg0A1ob2E9gqRQJ69hPYSspBAZRzHcRyHlUDDcRzHcZyXQAAAAAAAkJpAWEJ7Ce21mED5EtpLaD+YQIvQXkJ7iZhAcRzHcRynmEAex3Ecx+mYQOE4juM4pppALKG9hPaimUDCcRzHcSyZQAbtJbSX+JhAUlVVVVW9mEDuEtpLaK+WQDWhvYT2mpJACO0ltJfAiUBCewntJZSJQJfQXkJ7aYVACe0ltJcQhUAvob2E9mKDQBzHcRzHcYNAHMdxHMdxg0BOVVVVVSWQQGBCewntHZBAXy+hvYRWlkBlHMdxHBeXQDKO4ziOm5lApKqqqqpCmUCW0F5Ce8GXQIMJ7SW015dA7hLaS2g/mEDIXkJ7CSWZQKmX0F5CA5pAXFVVVVWFmUCuqqqqqgqaQNBLaC+hHZlAggntJbQvmkBeL6G9hOaXQHgJ7SW075NAv4T2EtobjUDaS2gvoT2MQLOX0F5CG4ZA3EtoL6H9hUBfQnsJ7ZWFQOoltJfQ7oVATmgvob0UhECmqqqqqqqQQFxCewnt5ZBABu0ltJfYlUB3Ce0ltNeXQKm9hPYSEppA+hLaS2gHmUAsob2E9kqXQCiO4ziOe5ZAltBeQnuJmEC0l9BeQjuZQM1xHMdxvJpAN6G9hPaimUDKXkJ7Ce2ZQGYcx3Ecp5hAFMdxHMd5mkA/aC+hvTSXQC+0l9BeopJA0F5CewntiUCE9hLaSyiKQAntJbSXEIVA9hLaS2gfhUAS2ktoL0GEQFZVVVVV1YRA4ziO4zieg0CxqqqqqqqQQCa0l9BeEpFAltBeQnv5lkB2Ce0ltJ+YQOgltJfQDplAZEJ7Ce3tl0BRVVVVVb2YQAAAAAAAqJZAtZfQXkKrl0CJ9hLaS2CZQITjOI7jIJpA4TiO4zjemUAex3Ecx2GeQK+qqqqqYpxAyF5CewkNnUAG7SW0l/iYQKS9hPYSCpNA\",\"dtype\":\"float64\",\"shape\":[168]}},\"selected\":{\"id\":\"7418\",\"type\":\"Selection\"},\"selection_policy\":{\"id\":\"7419\",\"type\":\"UnionRenderers\"}},\"id\":\"7076\",\"type\":\"ColumnDataSource\"},{\"attributes\":{\"months\":[0,2,4,6,8,10]},\"id\":\"7070\",\"type\":\"MonthsTicker\"},{\"attributes\":{},\"id\":\"7043\",\"type\":\"HelpTool\"},{\"attributes\":{\"active_drag\":\"auto\",\"active_inspect\":\"auto\",\"active_multi\":null,\"active_scroll\":\"auto\",\"active_tap\":\"auto\",\"tools\":[{\"id\":\"7038\",\"type\":\"PanTool\"},{\"id\":\"7039\",\"type\":\"WheelZoomTool\"},{\"id\":\"7040\",\"type\":\"BoxZoomTool\"},{\"id\":\"7041\",\"type\":\"SaveTool\"},{\"id\":\"7042\",\"type\":\"ResetTool\"},{\"id\":\"7043\",\"type\":\"HelpTool\"}]},\"id\":\"7044\",\"type\":\"Toolbar\"},{\"attributes\":{\"months\":[0,4,8]},\"id\":\"7071\",\"type\":\"MonthsTicker\"},{\"attributes\":{\"data_source\":{\"id\":\"7076\",\"type\":\"ColumnDataSource\"},\"glyph\":{\"id\":\"7077\",\"type\":\"Line\"},\"hover_glyph\":null,\"muted_glyph\":null,\"nonselection_glyph\":{\"id\":\"7078\",\"type\":\"Line\"},\"selection_glyph\":null,\"view\":{\"id\":\"7080\",\"type\":\"CDSView\"}},\"id\":\"7079\",\"type\":\"GlyphRenderer\"},{\"attributes\":{\"dimension\":1,\"ticker\":{\"id\":\"7034\",\"type\":\"BasicTicker\"}},\"id\":\"7037\",\"type\":\"Grid\"},{\"attributes\":{\"data_source\":{\"id\":\"7051\",\"type\":\"ColumnDataSource\"},\"glyph\":{\"id\":\"7052\",\"type\":\"Line\"},\"hover_glyph\":null,\"muted_glyph\":null,\"nonselection_glyph\":{\"id\":\"7053\",\"type\":\"Line\"},\"selection_glyph\":null,\"view\":{\"id\":\"7055\",\"type\":\"CDSView\"}},\"id\":\"7054\",\"type\":\"GlyphRenderer\"},{\"attributes\":{\"items\":[{\"id\":\"7075\",\"type\":\"LegendItem\"},{\"id\":\"7101\",\"type\":\"LegendItem\"}]},\"id\":\"7074\",\"type\":\"Legend\"},{\"attributes\":{\"months\":[0,6]},\"id\":\"7072\",\"type\":\"MonthsTicker\"},{\"attributes\":{\"ticker\":{\"id\":\"7029\",\"type\":\"DatetimeTicker\"}},\"id\":\"7032\",\"type\":\"Grid\"},{\"attributes\":{\"num_minor_ticks\":5,\"tickers\":[{\"id\":\"7062\",\"type\":\"AdaptiveTicker\"},{\"id\":\"7063\",\"type\":\"AdaptiveTicker\"},{\"id\":\"7064\",\"type\":\"AdaptiveTicker\"},{\"id\":\"7065\",\"type\":\"DaysTicker\"},{\"id\":\"7066\",\"type\":\"DaysTicker\"},{\"id\":\"7067\",\"type\":\"DaysTicker\"},{\"id\":\"7068\",\"type\":\"DaysTicker\"},{\"id\":\"7069\",\"type\":\"MonthsTicker\"},{\"id\":\"7070\",\"type\":\"MonthsTicker\"},{\"id\":\"7071\",\"type\":\"MonthsTicker\"},{\"id\":\"7072\",\"type\":\"MonthsTicker\"},{\"id\":\"7073\",\"type\":\"YearsTicker\"}]},\"id\":\"7029\",\"type\":\"DatetimeTicker\"},{\"attributes\":{},\"id\":\"7073\",\"type\":\"YearsTicker\"},{\"attributes\":{\"line_alpha\":0.1,\"line_color\":\"#1f77b4\",\"x\":{\"field\":\"x\"},\"y\":{\"field\":\"y\"}},\"id\":\"7053\",\"type\":\"Line\"},{\"attributes\":{\"axis_label\":\"Timestmap\",\"formatter\":{\"id\":\"7058\",\"type\":\"DatetimeTickFormatter\"},\"ticker\":{\"id\":\"7029\",\"type\":\"DatetimeTicker\"}},\"id\":\"7028\",\"type\":\"DatetimeAxis\"}],\"root_ids\":[\"7017\"]},\"title\":\"Bokeh Application\",\"version\":\"1.4.0\"}};\n",
       "  var render_items = [{\"docid\":\"1528a125-5774-4694-8ecc-985a7499d51d\",\"roots\":{\"7017\":\"b7bde67b-4589-47cf-aa70-8a337a21acaa\"}}];\n",
       "  root.Bokeh.embed.embed_items_notebook(docs_json, render_items);\n",
       "\n",
       "  }\n",
       "  if (root.Bokeh !== undefined) {\n",
       "    embed_document(root);\n",
       "  } else {\n",
       "    var attempts = 0;\n",
       "    var timer = setInterval(function(root) {\n",
       "      if (root.Bokeh !== undefined) {\n",
       "        clearInterval(timer);\n",
       "        embed_document(root);\n",
       "      } else {\n",
       "        attempts++;\n",
       "        if (attempts > 100) {\n",
       "          clearInterval(timer);\n",
       "          console.log(\"Bokeh: ERROR: Unable to run BokehJS code because BokehJS library is missing\");\n",
       "        }\n",
       "      }\n",
       "    }, 10, root)\n",
       "  }\n",
       "})(window);"
      ],
      "application/vnd.bokehjs_exec.v0+json": ""
     },
     "metadata": {
      "application/vnd.bokehjs_exec.v0+json": {
       "id": "7017"
      }
     },
     "output_type": "display_data"
    },
    {
     "data": {
      "text/html": [
       "\n",
       "\n",
       "\n",
       "\n",
       "\n",
       "\n",
       "  <div class=\"bk-root\" id=\"7abc8be0-3307-49ac-9651-fb5cd0f3af6f\" data-root-id=\"7564\"></div>\n"
      ]
     },
     "metadata": {},
     "output_type": "display_data"
    },
    {
     "data": {
      "application/javascript": [
       "(function(root) {\n",
       "  function embed_document(root) {\n",
       "    \n",
       "  var docs_json = {\"e5a9722e-f61a-4ab6-b2c5-6e73e09e57d1\":{\"roots\":{\"references\":[{\"attributes\":{\"below\":[{\"id\":\"7575\",\"type\":\"DatetimeAxis\"}],\"center\":[{\"id\":\"7579\",\"type\":\"Grid\"},{\"id\":\"7584\",\"type\":\"Grid\"},{\"id\":\"7621\",\"type\":\"Legend\"}],\"left\":[{\"id\":\"7580\",\"type\":\"LinearAxis\"}],\"plot_height\":320,\"plot_width\":960,\"renderers\":[{\"id\":\"7601\",\"type\":\"GlyphRenderer\"},{\"id\":\"7626\",\"type\":\"GlyphRenderer\"}],\"title\":{\"id\":\"7565\",\"type\":\"Title\"},\"toolbar\":{\"id\":\"7591\",\"type\":\"Toolbar\"},\"x_range\":{\"id\":\"7567\",\"type\":\"DataRange1d\"},\"x_scale\":{\"id\":\"7571\",\"type\":\"LinearScale\"},\"y_range\":{\"id\":\"7569\",\"type\":\"DataRange1d\"},\"y_scale\":{\"id\":\"7573\",\"type\":\"LinearScale\"}},\"id\":\"7564\",\"subtype\":\"Figure\",\"type\":\"Plot\"},{\"attributes\":{\"axis_label\":\"Timestmap\",\"formatter\":{\"id\":\"7605\",\"type\":\"DatetimeTickFormatter\"},\"ticker\":{\"id\":\"7576\",\"type\":\"DatetimeTicker\"}},\"id\":\"7575\",\"type\":\"DatetimeAxis\"},{\"attributes\":{\"text\":\"Predictions over the test dataset for MT_329\"},\"id\":\"7565\",\"type\":\"Title\"},{\"attributes\":{\"line_color\":\"red\",\"x\":{\"field\":\"x\"},\"y\":{\"field\":\"y\"}},\"id\":\"7599\",\"type\":\"Line\"},{\"attributes\":{},\"id\":\"7573\",\"type\":\"LinearScale\"},{\"attributes\":{\"days\":[1,8,15,22]},\"id\":\"7614\",\"type\":\"DaysTicker\"},{\"attributes\":{},\"id\":\"7588\",\"type\":\"SaveTool\"},{\"attributes\":{},\"id\":\"7590\",\"type\":\"HelpTool\"},{\"attributes\":{},\"id\":\"7589\",\"type\":\"ResetTool\"},{\"attributes\":{\"line_color\":\"blue\",\"x\":{\"field\":\"x\"},\"y\":{\"field\":\"y\"}},\"id\":\"7624\",\"type\":\"Line\"},{\"attributes\":{\"callback\":null,\"data\":{\"x\":{\"__ndarray__\":\"AACALeiCdEIAAGic64J0QgAAUAvvgnRCAAA4evKCdEIAACDp9YJ0QgAACFj5gnRCAADwxvyCdEIAANg1AIN0QgAAwKQDg3RCAACoEweDdEIAAJCCCoN0QgAAePENg3RCAABgYBGDdEIAAEjPFIN0QgAAMD4Yg3RCAAAYrRuDdEIAAAAcH4N0QgAA6Ioig3RCAADQ+SWDdEIAALhoKYN0QgAAoNcsg3RCAACIRjCDdEIAAHC1M4N0QgAAWCQ3g3RCAABAkzqDdEIAACgCPoN0QgAAEHFBg3RCAAD430SDdEIAAOBOSIN0QgAAyL1Lg3RCAACwLE+DdEIAAJibUoN0QgAAgApWg3RCAABoeVmDdEIAAFDoXIN0QgAAOFdgg3RCAAAgxmODdEIAAAg1Z4N0QgAA8KNqg3RCAADYEm6DdEIAAMCBcYN0QgAAqPB0g3RCAACQX3iDdEIAAHjOe4N0QgAAYD1/g3RCAABIrIKDdEIAADAbhoN0QgAAGIqJg3RCAAAA+YyDdEIAAOhnkIN0QgAA0NaTg3RCAAC4RZeDdEIAAKC0moN0QgAAiCOeg3RCAABwkqGDdEIAAFgBpYN0QgAAQHCog3RCAAAo36uDdEIAABBOr4N0QgAA+Lyyg3RCAADgK7aDdEIAAMiauYN0QgAAsAm9g3RCAACYeMCDdEIAAIDnw4N0QgAAaFbHg3RCAABQxcqDdEIAADg0zoN0QgAAIKPRg3RCAAAIEtWDdEIAAPCA2IN0QgAA2O/bg3RCAADAXt+DdEIAAKjN4oN0QgAAkDzmg3RCAAB4q+mDdEIAAGAa7YN0QgAASInwg3RCAAAw+PODdEIAABhn94N0QgAAANb6g3RCAADoRP6DdEIAANCzAYR0QgAAuCIFhHRCAACgkQiEdEIAAIgADIR0QgAAcG8PhHRCAABY3hKEdEIAAEBNFoR0QgAAKLwZhHRCAAAQKx2EdEIAAPiZIIR0QgAA4AgkhHRCAADIdyeEdEIAALDmKoR0QgAAmFUuhHRCAACAxDGEdEIAAGgzNYR0QgAAUKI4hHRCAAA4ETyEdEIAACCAP4R0QgAACO9ChHRCAADwXUaEdEIAANjMSYR0QgAAwDtNhHRCAACoqlCEdEIAAJAZVIR0QgAAeIhXhHRCAABg91qEdEIAAEhmXoR0QgAAMNVhhHRCAAAYRGWEdEIAAACzaIR0QgAA6CFshHRCAADQkG+EdEIAALj/coR0QgAAoG52hHRCAACI3XmEdEIAAHBMfYR0QgAAWLuAhHRCAABAKoSEdEIAACiZh4R0QgAAEAiLhHRCAAD4do6EdEIAAODlkYR0QgAAyFSVhHRCAACww5iEdEIAAJgynIR0QgAAgKGfhHRCAABoEKOEdEIAAFB/poR0QgAAOO6phHRCAAAgXa2EdEIAAAjMsIR0QgAA8Dq0hHRCAADYqbeEdEIAAMAYu4R0QgAAqIe+hHRCAACQ9sGEdEIAAHhlxYR0QgAAYNTIhHRCAABIQ8yEdEIAADCyz4R0QgAAGCHThHRCAAAAkNaEdEIAAOj+2YR0QgAA0G3dhHRCAAC43OCEdEIAAKBL5IR0QgAAiLrnhHRCAABwKeuEdEIAAFiY7oR0QgAAQAfyhHRCAAAodvWEdEIAABDl+IR0QgAA+FP8hHRCAADgwv+EdEIAAMgxA4V0QgAAsKAGhXRCAACYDwqFdEIAAIB+DYV0QgAAaO0QhXRCAABQXBSFdEIAADjLF4V0QgAAIDobhXRCAAAIqR6FdEIAAPAXIoV0QgAA2IYlhXRC\",\"dtype\":\"float64\",\"shape\":[168]},\"y\":{\"__ndarray__\":\"9/////8zYEBeaWlpaU1fQG9paWlpeV5AQy0tLS29XUB7eHh4eBhdQNjh4eHh0VxAe3h4eHjiYkCRlpaWlsRlQJCWlpaW2GhA4eHh4eF/bEB2eHh4eDVwQEhLS0tLBW5ALS0tLS2CcEC6w8PDw8VvQLe0tLS0NG5AhoeHh4dbb0DEw8PDw09vQC4tLS0tDHBAr7S0tLQUb0AaHh4eHgxwQC4tLS0tgnBAfHh4eHiib0BIS0tLS0FrQCEtLS0taWJAPjw8PDySYECvtLS0tHpgQCAtLS0tTV9Ae3h4eHioXkDJtLS0tNRdQK2lpaWlpV1A9vDw8PBmZEAAAAAAALJnQGhpaWlpt2tAXFpaWlqib0ByeHh4eOZwQPbw8PDwim9A3eHh4eFYcEDl8PDw8PRvQB4eHh4eTG5AMi0tLS2HbkCGh4eHh29uQAAAAAAABHFAcnh4eHiWb0BSWlpaWixvQDk8PDw8fHBAOTw8PDx8cEBeaWlpaYFqQBYeHh4e0GFAwsPDw8OpYEBAWlpaWvJfQBYeHh4eHl9AcGlpaWl5XkDf0tLS0jJeQODS0tLSMl5ApKWlpaWtZEDM0tLS0m5oQJmWlpaWcGtA8fDw8PBScEAKDw8PD8NwQPbw8PDwkm5Ab2lpaWlnb0AjHh4eHhJwQBMPDw8PMW1A4uHh4eFjbkCFh4eHh29uQGtpaWlpAHBAenh4eHiWb0Dr8PDw8H5vQHt4eHh4cHBAIx4eHh6IcECQlpaWloRqQB4eHh4eOmJAFh4eHh78YEA/S0tLS1dgQMzS0tLS2l9AAAAAAADAXkAAAAAAAMBeQE88PDw87F1AFA8PDw/xY0BcWlpaWvxoQJmWlpaWDmpAhoeHh4dvbkBnaWlpaWdvQCAeHh4eTG5AjoeHh4dbb0BcWlpaWkBuQOrh4eHhY25AwsPDw8NjbkBbWlpaWkBuQFNaWlpaO3BA4eHh4eFDb0APDw8PDxJwQGZpaWlpO3BA4eHh4eGTcEADDw8PD9dqQI6Hh4eHUWJA2OHh4eGdYECbpaWlpTVfQJKWlpaWBl9Ab2lpaWl5XkA9PDw8POxdQAwPDw8PX11A4uHh4eFvY0BIS0tLS0toQKulpaWlUWlA9/////9LbkCFh4eHh+VuQCceHh4e4m1Ae3h4eHhAbkDs8PDw8JJuQAoPDw8PJW1AuLS0tLSebkDN0tLS0jBtQOHh4eHhCXFAhoeHh4cvcEDHw8PDwyNwQOzw8PDwA3FAAAAAAADJcEBwaWlpabdrQNbS0tLSHGRAKS0tLS09Y0A9PDw8PJhiQAsPDw8PC2JAUUtLS0vzYUAoHh4eHjpiQP7w8PDwCmJAhYeHh4f5Y0BTWlpaWlRtQCktLS0tj21A0tLS0tKZcEDi4eHh4fVxQIaHh4eHpXBA8fDw8PDIcEC0tLS0tJ9wQLe0tLS0ZHBAx8PDw8OZcEDh4eHh4R1wQKSlpaWli3FACw8PDw/+cEBIS0tLS3NvQKSlpaWli3FALi0tLS1ackBwaWlpabdrQBQPDw8P02JAZmlpaWnzYUB6eHh4ePBgQJulpaWltWBASEtLS0tjYEBTWlpaWihgQJulpaWlNV9AU1paWloAZUA0PDw8PBBoQF1aWlpapGlAIB4eHh6ub0DHw8PDw9pwQB8eHh4eEnBA0tLS0tLOcEDt8PDw8JNwQAAAAAAARG9A4eHh4eFjbkCQlpaWljRuQMPDw8PDmXBALi0tLS1HcED28PDw8H5vQOHh4eHhznBASEtLS0u3cECGh4eHh79qQI6Hh4eHUWJA\",\"dtype\":\"float64\",\"shape\":[168]}},\"selected\":{\"id\":\"7987\",\"type\":\"Selection\"},\"selection_policy\":{\"id\":\"7988\",\"type\":\"UnionRenderers\"}},\"id\":\"7623\",\"type\":\"ColumnDataSource\"},{\"attributes\":{\"data_source\":{\"id\":\"7623\",\"type\":\"ColumnDataSource\"},\"glyph\":{\"id\":\"7624\",\"type\":\"Line\"},\"hover_glyph\":null,\"muted_glyph\":null,\"nonselection_glyph\":{\"id\":\"7625\",\"type\":\"Line\"},\"selection_glyph\":null,\"view\":{\"id\":\"7627\",\"type\":\"CDSView\"}},\"id\":\"7626\",\"type\":\"GlyphRenderer\"},{\"attributes\":{\"label\":{\"value\":\"predictions\"},\"renderers\":[{\"id\":\"7601\",\"type\":\"GlyphRenderer\"}]},\"id\":\"7622\",\"type\":\"LegendItem\"},{\"attributes\":{\"overlay\":{\"id\":\"7608\",\"type\":\"BoxAnnotation\"}},\"id\":\"7587\",\"type\":\"BoxZoomTool\"},{\"attributes\":{\"source\":{\"id\":\"7623\",\"type\":\"ColumnDataSource\"}},\"id\":\"7627\",\"type\":\"CDSView\"},{\"attributes\":{\"months\":[0,6]},\"id\":\"7619\",\"type\":\"MonthsTicker\"},{\"attributes\":{},\"id\":\"7607\",\"type\":\"BasicTickFormatter\"},{\"attributes\":{},\"id\":\"7585\",\"type\":\"PanTool\"},{\"attributes\":{\"line_alpha\":0.1,\"line_color\":\"#1f77b4\",\"x\":{\"field\":\"x\"},\"y\":{\"field\":\"y\"}},\"id\":\"7625\",\"type\":\"Line\"},{\"attributes\":{},\"id\":\"7586\",\"type\":\"WheelZoomTool\"},{\"attributes\":{\"items\":[{\"id\":\"7622\",\"type\":\"LegendItem\"},{\"id\":\"7648\",\"type\":\"LegendItem\"}]},\"id\":\"7621\",\"type\":\"Legend\"},{\"attributes\":{},\"id\":\"7605\",\"type\":\"DatetimeTickFormatter\"},{\"attributes\":{\"data_source\":{\"id\":\"7598\",\"type\":\"ColumnDataSource\"},\"glyph\":{\"id\":\"7599\",\"type\":\"Line\"},\"hover_glyph\":null,\"muted_glyph\":null,\"nonselection_glyph\":{\"id\":\"7600\",\"type\":\"Line\"},\"selection_glyph\":null,\"view\":{\"id\":\"7602\",\"type\":\"CDSView\"}},\"id\":\"7601\",\"type\":\"GlyphRenderer\"},{\"attributes\":{\"callback\":null},\"id\":\"7569\",\"type\":\"DataRange1d\"},{\"attributes\":{\"active_drag\":\"auto\",\"active_inspect\":\"auto\",\"active_multi\":null,\"active_scroll\":\"auto\",\"active_tap\":\"auto\",\"tools\":[{\"id\":\"7585\",\"type\":\"PanTool\"},{\"id\":\"7586\",\"type\":\"WheelZoomTool\"},{\"id\":\"7587\",\"type\":\"BoxZoomTool\"},{\"id\":\"7588\",\"type\":\"SaveTool\"},{\"id\":\"7589\",\"type\":\"ResetTool\"},{\"id\":\"7590\",\"type\":\"HelpTool\"}]},\"id\":\"7591\",\"type\":\"Toolbar\"},{\"attributes\":{},\"id\":\"7620\",\"type\":\"YearsTicker\"},{\"attributes\":{\"source\":{\"id\":\"7598\",\"type\":\"ColumnDataSource\"}},\"id\":\"7602\",\"type\":\"CDSView\"},{\"attributes\":{\"callback\":null,\"data\":{\"x\":{\"__ndarray__\":\"AACALeiCdEIAAGic64J0QgAAUAvvgnRCAAA4evKCdEIAACDp9YJ0QgAACFj5gnRCAADwxvyCdEIAANg1AIN0QgAAwKQDg3RCAACoEweDdEIAAJCCCoN0QgAAePENg3RCAABgYBGDdEIAAEjPFIN0QgAAMD4Yg3RCAAAYrRuDdEIAAAAcH4N0QgAA6Ioig3RCAADQ+SWDdEIAALhoKYN0QgAAoNcsg3RCAACIRjCDdEIAAHC1M4N0QgAAWCQ3g3RCAABAkzqDdEIAACgCPoN0QgAAEHFBg3RCAAD430SDdEIAAOBOSIN0QgAAyL1Lg3RCAACwLE+DdEIAAJibUoN0QgAAgApWg3RCAABoeVmDdEIAAFDoXIN0QgAAOFdgg3RCAAAgxmODdEIAAAg1Z4N0QgAA8KNqg3RCAADYEm6DdEIAAMCBcYN0QgAAqPB0g3RCAACQX3iDdEIAAHjOe4N0QgAAYD1/g3RCAABIrIKDdEIAADAbhoN0QgAAGIqJg3RCAAAA+YyDdEIAAOhnkIN0QgAA0NaTg3RCAAC4RZeDdEIAAKC0moN0QgAAiCOeg3RCAABwkqGDdEIAAFgBpYN0QgAAQHCog3RCAAAo36uDdEIAABBOr4N0QgAA+Lyyg3RCAADgK7aDdEIAAMiauYN0QgAAsAm9g3RCAACYeMCDdEIAAIDnw4N0QgAAaFbHg3RCAABQxcqDdEIAADg0zoN0QgAAIKPRg3RCAAAIEtWDdEIAAPCA2IN0QgAA2O/bg3RCAADAXt+DdEIAAKjN4oN0QgAAkDzmg3RCAAB4q+mDdEIAAGAa7YN0QgAASInwg3RCAAAw+PODdEIAABhn94N0QgAAANb6g3RCAADoRP6DdEIAANCzAYR0QgAAuCIFhHRCAACgkQiEdEIAAIgADIR0QgAAcG8PhHRCAABY3hKEdEIAAEBNFoR0QgAAKLwZhHRCAAAQKx2EdEIAAPiZIIR0QgAA4AgkhHRCAADIdyeEdEIAALDmKoR0QgAAmFUuhHRCAACAxDGEdEIAAGgzNYR0QgAAUKI4hHRCAAA4ETyEdEIAACCAP4R0QgAACO9ChHRCAADwXUaEdEIAANjMSYR0QgAAwDtNhHRCAACoqlCEdEIAAJAZVIR0QgAAeIhXhHRCAABg91qEdEIAAEhmXoR0QgAAMNVhhHRCAAAYRGWEdEIAAACzaIR0QgAA6CFshHRCAADQkG+EdEIAALj/coR0QgAAoG52hHRCAACI3XmEdEIAAHBMfYR0QgAAWLuAhHRCAABAKoSEdEIAACiZh4R0QgAAEAiLhHRCAAD4do6EdEIAAODlkYR0QgAAyFSVhHRCAACww5iEdEIAAJgynIR0QgAAgKGfhHRCAABoEKOEdEIAAFB/poR0QgAAOO6phHRCAAAgXa2EdEIAAAjMsIR0QgAA8Dq0hHRCAADYqbeEdEIAAMAYu4R0QgAAqIe+hHRCAACQ9sGEdEIAAHhlxYR0QgAAYNTIhHRCAABIQ8yEdEIAADCyz4R0QgAAGCHThHRCAAAAkNaEdEIAAOj+2YR0QgAA0G3dhHRCAAC43OCEdEIAAKBL5IR0QgAAiLrnhHRCAABwKeuEdEIAAFiY7oR0QgAAQAfyhHRCAAAodvWEdEIAABDl+IR0QgAA+FP8hHRCAADgwv+EdEIAAMgxA4V0QgAAsKAGhXRCAACYDwqFdEIAAIB+DYV0QgAAaO0QhXRCAABQXBSFdEIAADjLF4V0QgAAIDobhXRCAAAIqR6FdEIAAPAXIoV0QgAA2IYlhXRC\",\"dtype\":\"float64\",\"shape\":[168]},\"y\":{\"__ndarray__\":\"AAAAYHNQYEAAAADAQj1gQAAAACCpp15AAAAAADw5XkAAAAAg5X9dQAAAAKBbdlxAAAAAIH0KY0AAAAAgAgtnQAAAAMAQZGpAAAAAoIAAb0AAAAAgOx9wQAAAAACl+m9AAAAAgDQdcEAAAABAuNtuQAAAAAByJW9AAAAAoOyVb0AAAABg9CRwQAAAACDXm3BAAAAAIJjycEAAAADAYnFxQAAAAICUKnFAAAAAAB4hcEAAAADgZnVrQAAAAOBl1mFAAAAAoCbOYEAAAADgPkdhQAAAAMCARGBAAAAAgAxiYEAAAACA5TtfQAAAAIATH15AAAAAgIifY0AAAADAgEBnQAAAAABYzWpAAAAAQK6ubkAAAAAAGrhvQAAAAIClh3BAAAAA4P+3b0AAAADgMY1vQAAAAGAOIXBAAAAAoOBAcEAAAAAgFyxwQAAAAOBG1XBAAAAAACL7cEAAAAAAZEFxQAAAAKAmPnFAAAAAQCJUcEAAAABgOchrQAAAAMArE2NAAAAAIM1pYUAAAABgd9tiQAAAAOBJN2JAAAAAILFiYkAAAADAbaxhQAAAAMBbrmBAAAAAQL3wZEAAAACg/EJpQAAAAKCneGtAAAAAIIxzb0AAAAAA9aJwQAAAAOB4rHBAAAAA4Mk3cEAAAADg1q5vQAAAAKDEwm9AAAAAgIeyb0AAAAAAEhVwQAAAAOADg3BAAAAAoGcicUAAAADgpXZxQAAAAECW0nBAAAAAQLklcEAAAADgp4BqQAAAAIBUg2JAAAAAwNQLY0AAAADgC+piQAAAAOCV72JAAAAAYC8CYkAAAAAAywBhQAAAACATwWBAAAAAoEdXZUAAAACgCcBoQAAAACAdl2tAAAAAgFkibkAAAADAZzVwQAAAAEA0LHBAAAAAoCn+b0AAAABAZZVtQAAAACCKW21AAAAAIH9NbkAAAADgkiFwQAAAAGCLk3BAAAAAIOYzcEAAAACAWCNxQAAAAEC9oXBAAAAAgHFJcEAAAADgkIlsQAAAACC7T2RAAAAAIMMRY0AAAADAjp9iQAAAAOCYT2JAAAAAAEwrYUAAAAAA+0RgQAAAAGCrYl9AAAAAQHLfYkAAAABgNnFpQAAAAIDqmmpAAAAAYICTbkAAAABATlxuQAAAAGB46G5AAAAAoHa3bUAAAABAqXptQAAAAAAi5WxAAAAA4ITWbEAAAABAytNtQAAAAICGHG9AAAAAQOwHcEAAAADggjpwQAAAAMAyVnBAAAAAQG93b0AAAADgR5prQAAAAEC/6GJAAAAAoMENY0AAAAAgXt1iQAAAAMD272FAAAAAQJwoYUAAAABAWU1gQAAAAIDORl9AAAAAYMA6YkAAAADADRFqQAAAAEBYIW1AAAAAoNc+cEAAAADgM11wQAAAAABHU3BAAAAAQFggb0AAAAAgKUhtQAAAACBm+WtAAAAAoDgLa0AAAABg6khsQAAAAAAA2m5AAAAAQFrib0AAAAAAUahvQAAAAABz529AAAAAYI04bkAAAAAgjD5pQAAAAGBFUWFAAAAAALJpYUAAAADgXQ5hQAAAAIDe22BAAAAA4AVUYUAAAAAAf7ZgQAAAAKATVGBAAAAAIKP7YkAAAACg+LloQAAAAEBv8WhAAAAAwJUqbUAAAAAgI4lwQAAAAMBYkXBAAAAAoFgRcEAAAABg9sduQAAAACADPm1AAAAAYLvrbEAAAABAeGJtQAAAAAB/PW9AAAAA4PGxb0AAAABgNERwQAAAAGAwZXBAAAAAoHqHbUAAAACA2+9oQAAAAKD/3mFA\",\"dtype\":\"float64\",\"shape\":[168]}},\"selected\":{\"id\":\"7634\",\"type\":\"Selection\"},\"selection_policy\":{\"id\":\"7635\",\"type\":\"UnionRenderers\"}},\"id\":\"7598\",\"type\":\"ColumnDataSource\"},{\"attributes\":{\"label\":{\"value\":\"targets\"},\"renderers\":[{\"id\":\"7626\",\"type\":\"GlyphRenderer\"}]},\"id\":\"7648\",\"type\":\"LegendItem\"},{\"attributes\":{\"months\":[0,4,8]},\"id\":\"7618\",\"type\":\"MonthsTicker\"},{\"attributes\":{},\"id\":\"7635\",\"type\":\"UnionRenderers\"},{\"attributes\":{\"dimension\":1,\"ticker\":{\"id\":\"7581\",\"type\":\"BasicTicker\"}},\"id\":\"7584\",\"type\":\"Grid\"},{\"attributes\":{\"mantissas\":[1,2,5],\"max_interval\":500.0,\"num_minor_ticks\":0},\"id\":\"7609\",\"type\":\"AdaptiveTicker\"},{\"attributes\":{},\"id\":\"7571\",\"type\":\"LinearScale\"},{\"attributes\":{\"line_alpha\":0.1,\"line_color\":\"#1f77b4\",\"x\":{\"field\":\"x\"},\"y\":{\"field\":\"y\"}},\"id\":\"7600\",\"type\":\"Line\"},{\"attributes\":{},\"id\":\"7987\",\"type\":\"Selection\"},{\"attributes\":{\"base\":60,\"mantissas\":[1,2,5,10,15,20,30],\"max_interval\":1800000.0,\"min_interval\":1000.0,\"num_minor_ticks\":0},\"id\":\"7610\",\"type\":\"AdaptiveTicker\"},{\"attributes\":{\"bottom_units\":\"screen\",\"fill_alpha\":{\"value\":0.5},\"fill_color\":{\"value\":\"lightgrey\"},\"left_units\":\"screen\",\"level\":\"overlay\",\"line_alpha\":{\"value\":1.0},\"line_color\":{\"value\":\"black\"},\"line_dash\":[4,4],\"line_width\":{\"value\":2},\"render_mode\":\"css\",\"right_units\":\"screen\",\"top_units\":\"screen\"},\"id\":\"7608\",\"type\":\"BoxAnnotation\"},{\"attributes\":{},\"id\":\"7634\",\"type\":\"Selection\"},{\"attributes\":{\"days\":[1,15]},\"id\":\"7615\",\"type\":\"DaysTicker\"},{\"attributes\":{\"axis_label\":\"Value\",\"formatter\":{\"id\":\"7607\",\"type\":\"BasicTickFormatter\"},\"ticker\":{\"id\":\"7581\",\"type\":\"BasicTicker\"}},\"id\":\"7580\",\"type\":\"LinearAxis\"},{\"attributes\":{\"days\":[1,2,3,4,5,6,7,8,9,10,11,12,13,14,15,16,17,18,19,20,21,22,23,24,25,26,27,28,29,30,31]},\"id\":\"7612\",\"type\":\"DaysTicker\"},{\"attributes\":{\"months\":[0,2,4,6,8,10]},\"id\":\"7617\",\"type\":\"MonthsTicker\"},{\"attributes\":{\"months\":[0,1,2,3,4,5,6,7,8,9,10,11]},\"id\":\"7616\",\"type\":\"MonthsTicker\"},{\"attributes\":{\"ticker\":{\"id\":\"7576\",\"type\":\"DatetimeTicker\"}},\"id\":\"7579\",\"type\":\"Grid\"},{\"attributes\":{},\"id\":\"7988\",\"type\":\"UnionRenderers\"},{\"attributes\":{\"base\":24,\"mantissas\":[1,2,4,6,8,12],\"max_interval\":43200000.0,\"min_interval\":3600000.0,\"num_minor_ticks\":0},\"id\":\"7611\",\"type\":\"AdaptiveTicker\"},{\"attributes\":{\"num_minor_ticks\":5,\"tickers\":[{\"id\":\"7609\",\"type\":\"AdaptiveTicker\"},{\"id\":\"7610\",\"type\":\"AdaptiveTicker\"},{\"id\":\"7611\",\"type\":\"AdaptiveTicker\"},{\"id\":\"7612\",\"type\":\"DaysTicker\"},{\"id\":\"7613\",\"type\":\"DaysTicker\"},{\"id\":\"7614\",\"type\":\"DaysTicker\"},{\"id\":\"7615\",\"type\":\"DaysTicker\"},{\"id\":\"7616\",\"type\":\"MonthsTicker\"},{\"id\":\"7617\",\"type\":\"MonthsTicker\"},{\"id\":\"7618\",\"type\":\"MonthsTicker\"},{\"id\":\"7619\",\"type\":\"MonthsTicker\"},{\"id\":\"7620\",\"type\":\"YearsTicker\"}]},\"id\":\"7576\",\"type\":\"DatetimeTicker\"},{\"attributes\":{\"days\":[1,4,7,10,13,16,19,22,25,28]},\"id\":\"7613\",\"type\":\"DaysTicker\"},{\"attributes\":{\"callback\":null},\"id\":\"7567\",\"type\":\"DataRange1d\"},{\"attributes\":{},\"id\":\"7581\",\"type\":\"BasicTicker\"}],\"root_ids\":[\"7564\"]},\"title\":\"Bokeh Application\",\"version\":\"1.4.0\"}};\n",
       "  var render_items = [{\"docid\":\"e5a9722e-f61a-4ab6-b2c5-6e73e09e57d1\",\"roots\":{\"7564\":\"7abc8be0-3307-49ac-9651-fb5cd0f3af6f\"}}];\n",
       "  root.Bokeh.embed.embed_items_notebook(docs_json, render_items);\n",
       "\n",
       "  }\n",
       "  if (root.Bokeh !== undefined) {\n",
       "    embed_document(root);\n",
       "  } else {\n",
       "    var attempts = 0;\n",
       "    var timer = setInterval(function(root) {\n",
       "      if (root.Bokeh !== undefined) {\n",
       "        clearInterval(timer);\n",
       "        embed_document(root);\n",
       "      } else {\n",
       "        attempts++;\n",
       "        if (attempts > 100) {\n",
       "          clearInterval(timer);\n",
       "          console.log(\"Bokeh: ERROR: Unable to run BokehJS code because BokehJS library is missing\");\n",
       "        }\n",
       "      }\n",
       "    }, 10, root)\n",
       "  }\n",
       "})(window);"
      ],
      "application/vnd.bokehjs_exec.v0+json": ""
     },
     "metadata": {
      "application/vnd.bokehjs_exec.v0+json": {
       "id": "7564"
      }
     },
     "output_type": "display_data"
    },
    {
     "data": {
      "text/html": [
       "\n",
       "\n",
       "\n",
       "\n",
       "\n",
       "\n",
       "  <div class=\"bk-root\" id=\"36f9e8e1-cdba-4135-b037-55794641b29a\" data-root-id=\"8133\"></div>\n"
      ]
     },
     "metadata": {},
     "output_type": "display_data"
    },
    {
     "data": {
      "application/javascript": [
       "(function(root) {\n",
       "  function embed_document(root) {\n",
       "    \n",
       "  var docs_json = {\"287839ac-7c54-4729-8f68-68458e6c502a\":{\"roots\":{\"references\":[{\"attributes\":{\"below\":[{\"id\":\"8144\",\"type\":\"DatetimeAxis\"}],\"center\":[{\"id\":\"8148\",\"type\":\"Grid\"},{\"id\":\"8153\",\"type\":\"Grid\"},{\"id\":\"8190\",\"type\":\"Legend\"}],\"left\":[{\"id\":\"8149\",\"type\":\"LinearAxis\"}],\"plot_height\":320,\"plot_width\":960,\"renderers\":[{\"id\":\"8170\",\"type\":\"GlyphRenderer\"},{\"id\":\"8195\",\"type\":\"GlyphRenderer\"}],\"title\":{\"id\":\"8134\",\"type\":\"Title\"},\"toolbar\":{\"id\":\"8160\",\"type\":\"Toolbar\"},\"x_range\":{\"id\":\"8136\",\"type\":\"DataRange1d\"},\"x_scale\":{\"id\":\"8140\",\"type\":\"LinearScale\"},\"y_range\":{\"id\":\"8138\",\"type\":\"DataRange1d\"},\"y_scale\":{\"id\":\"8142\",\"type\":\"LinearScale\"}},\"id\":\"8133\",\"subtype\":\"Figure\",\"type\":\"Plot\"},{\"attributes\":{\"callback\":null,\"data\":{\"x\":{\"__ndarray__\":\"AACALeiCdEIAAGic64J0QgAAUAvvgnRCAAA4evKCdEIAACDp9YJ0QgAACFj5gnRCAADwxvyCdEIAANg1AIN0QgAAwKQDg3RCAACoEweDdEIAAJCCCoN0QgAAePENg3RCAABgYBGDdEIAAEjPFIN0QgAAMD4Yg3RCAAAYrRuDdEIAAAAcH4N0QgAA6Ioig3RCAADQ+SWDdEIAALhoKYN0QgAAoNcsg3RCAACIRjCDdEIAAHC1M4N0QgAAWCQ3g3RCAABAkzqDdEIAACgCPoN0QgAAEHFBg3RCAAD430SDdEIAAOBOSIN0QgAAyL1Lg3RCAACwLE+DdEIAAJibUoN0QgAAgApWg3RCAABoeVmDdEIAAFDoXIN0QgAAOFdgg3RCAAAgxmODdEIAAAg1Z4N0QgAA8KNqg3RCAADYEm6DdEIAAMCBcYN0QgAAqPB0g3RCAACQX3iDdEIAAHjOe4N0QgAAYD1/g3RCAABIrIKDdEIAADAbhoN0QgAAGIqJg3RCAAAA+YyDdEIAAOhnkIN0QgAA0NaTg3RCAAC4RZeDdEIAAKC0moN0QgAAiCOeg3RCAABwkqGDdEIAAFgBpYN0QgAAQHCog3RCAAAo36uDdEIAABBOr4N0QgAA+Lyyg3RCAADgK7aDdEIAAMiauYN0QgAAsAm9g3RCAACYeMCDdEIAAIDnw4N0QgAAaFbHg3RCAABQxcqDdEIAADg0zoN0QgAAIKPRg3RCAAAIEtWDdEIAAPCA2IN0QgAA2O/bg3RCAADAXt+DdEIAAKjN4oN0QgAAkDzmg3RCAAB4q+mDdEIAAGAa7YN0QgAASInwg3RCAAAw+PODdEIAABhn94N0QgAAANb6g3RCAADoRP6DdEIAANCzAYR0QgAAuCIFhHRCAACgkQiEdEIAAIgADIR0QgAAcG8PhHRCAABY3hKEdEIAAEBNFoR0QgAAKLwZhHRCAAAQKx2EdEIAAPiZIIR0QgAA4AgkhHRCAADIdyeEdEIAALDmKoR0QgAAmFUuhHRCAACAxDGEdEIAAGgzNYR0QgAAUKI4hHRCAAA4ETyEdEIAACCAP4R0QgAACO9ChHRCAADwXUaEdEIAANjMSYR0QgAAwDtNhHRCAACoqlCEdEIAAJAZVIR0QgAAeIhXhHRCAABg91qEdEIAAEhmXoR0QgAAMNVhhHRCAAAYRGWEdEIAAACzaIR0QgAA6CFshHRCAADQkG+EdEIAALj/coR0QgAAoG52hHRCAACI3XmEdEIAAHBMfYR0QgAAWLuAhHRCAABAKoSEdEIAACiZh4R0QgAAEAiLhHRCAAD4do6EdEIAAODlkYR0QgAAyFSVhHRCAACww5iEdEIAAJgynIR0QgAAgKGfhHRCAABoEKOEdEIAAFB/poR0QgAAOO6phHRCAAAgXa2EdEIAAAjMsIR0QgAA8Dq0hHRCAADYqbeEdEIAAMAYu4R0QgAAqIe+hHRCAACQ9sGEdEIAAHhlxYR0QgAAYNTIhHRCAABIQ8yEdEIAADCyz4R0QgAAGCHThHRCAAAAkNaEdEIAAOj+2YR0QgAA0G3dhHRCAAC43OCEdEIAAKBL5IR0QgAAiLrnhHRCAABwKeuEdEIAAFiY7oR0QgAAQAfyhHRCAAAodvWEdEIAABDl+IR0QgAA+FP8hHRCAADgwv+EdEIAAMgxA4V0QgAAsKAGhXRCAACYDwqFdEIAAIB+DYV0QgAAaO0QhXRCAABQXBSFdEIAADjLF4V0QgAAIDobhXRCAAAIqR6FdEIAAPAXIoV0QgAA2IYlhXRC\",\"dtype\":\"float64\",\"shape\":[168]},\"y\":{\"__ndarray__\":\"AAAAIAw/TUAAAADAXKxKQAAAAMB/fUlAAAAAAIl5SUAAAACgHyJKQAAAAADFv0hAAAAAgPgETkAAAAAAGipVQAAAAMDGp1RAAAAAAHrMW0AAAACAMyxgQAAAAKDTFWFAAAAAoPXhYUAAAACgjQphQAAAAOD6ZGFAAAAAYLuHYUAAAADgX/BiQAAAAABDFmVAAAAAgEJjZEAAAACALx1jQAAAAIDAjWBAAAAA4A1IYEAAAACAbtlXQAAAAOAKFFBAAAAAQCMXTkAAAACg751KQAAAAODu+0pAAAAA4OudSkAAAAAgi4hJQAAAAMC6e0hAAAAA4GvVTEAAAADA7lZVQAAAAMDe+VZAAAAAgLAcX0AAAABA5VhiQAAAAOAlcmJAAAAAAMRIYUAAAAAg/jthQAAAAKA7umBAAAAAQLODYUAAAAAA1gJiQAAAAMBrrGJAAAAAoPWaY0AAAADgVX9iQAAAAOBkGWFAAAAAwLspYEAAAABgkSVWQAAAAEBkHE9AAAAAIKdPT0AAAACgeldNQAAAAGDgdkxAAAAAoFPxS0AAAACgVcNKQAAAAKBYtUlAAAAAwNQGTkAAAABABTpWQAAAACCt91ZAAAAAwIQXYEAAAACA30FiQAAAACD2TmJAAAAA4Pb+YUAAAADAD1NhQAAAAMCm/GBAAAAAgK8zYUAAAAAgqcZiQAAAAABnV2NAAAAAwHoIY0AAAACAHjBiQAAAAED3519AAAAAIPeHYEAAAADA1+5ZQAAAAAAxnVFAAAAAYJL+TkAAAAAAgyhNQAAAAIDVIUtAAAAAYBfGSkAAAADAha9JQAAAAGBtN0pAAAAAICn5TkAAAAAgY9hWQAAAAIDnbVhAAAAAAPqhXUAAAACAV5tgQAAAAEByVWFAAAAAwGixYUAAAACA6qdgQAAAAGCmYmBAAAAAwOgSYUAAAABgV+thQAAAAABSgmFAAAAAANxtYUAAAACATDVhQAAAAEAvA2FAAAAAIFoYYEAAAADArWVWQAAAAEAYI09AAAAAIKapTEAAAABg6qpLQAAAAICsw0lAAAAAwLzNSEAAAADg/GpIQAAAAIBkbUlAAAAAoN0oT0AAAACgsUFWQAAAAOBKaFRAAAAAgCMPXUAAAAAgrk5gQAAAAKCaOWBAAAAAIHAOYUAAAACg165eQAAAAGC8CWBAAAAAQK8QYEAAAABg7GtgQAAAAMBEjWFAAAAAoFZrYEAAAAAgajhgQAAAAKBo8l5AAAAA4P8OXEAAAABAl3xUQAAAAKAP5UxAAAAAgAB1TEAAAAAgdp9JQAAAAOAIS0lAAAAAwN1TSUAAAACAtSRJQAAAAMDG4EhAAAAAgJ7XTEAAAACg4whWQAAAAKD8xlRAAAAAwNpTXEAAAAAAKAReQAAAAKCI119AAAAAwNGBXkAAAACA8WpdQAAAAGDxvlxAAAAAwHclXUAAAACgo0xfQAAAAMDdR15AAAAAwBYBYEAAAACgk+dfQAAAAAAUjV1AAAAAQFRzW0AAAADAmnxUQAAAAOChMUxAAAAAwLzVTEAAAABA1DRKQAAAAED2I0tAAAAAANt1SkAAAABA9EhKQAAAAGAt3UpAAAAAoGaQTkAAAAAAgb1WQAAAAMDDclVAAAAAgFTZWkAAAAAgZ1NfQAAAAGA4QGBAAAAAYOUqYEAAAADgOpteQAAAAAAsZ15AAAAA4BjnXkAAAAAA/FtgQAAAAEClzmBAAAAAgDmtYEAAAACAeiZgQAAAAKD1Zl5AAAAAQKtaXUAAAABATUNXQAAAAGBlfE5A\",\"dtype\":\"float64\",\"shape\":[168]}},\"selected\":{\"id\":\"8203\",\"type\":\"Selection\"},\"selection_policy\":{\"id\":\"8204\",\"type\":\"UnionRenderers\"}},\"id\":\"8167\",\"type\":\"ColumnDataSource\"},{\"attributes\":{\"base\":60,\"mantissas\":[1,2,5,10,15,20,30],\"max_interval\":1800000.0,\"min_interval\":1000.0,\"num_minor_ticks\":0},\"id\":\"8179\",\"type\":\"AdaptiveTicker\"},{\"attributes\":{},\"id\":\"8154\",\"type\":\"PanTool\"},{\"attributes\":{\"line_color\":\"red\",\"x\":{\"field\":\"x\"},\"y\":{\"field\":\"y\"}},\"id\":\"8168\",\"type\":\"Line\"},{\"attributes\":{\"base\":24,\"mantissas\":[1,2,4,6,8,12],\"max_interval\":43200000.0,\"min_interval\":3600000.0,\"num_minor_ticks\":0},\"id\":\"8180\",\"type\":\"AdaptiveTicker\"},{\"attributes\":{},\"id\":\"8159\",\"type\":\"HelpTool\"},{\"attributes\":{},\"id\":\"8203\",\"type\":\"Selection\"},{\"attributes\":{},\"id\":\"8158\",\"type\":\"ResetTool\"},{\"attributes\":{\"days\":[1,2,3,4,5,6,7,8,9,10,11,12,13,14,15,16,17,18,19,20,21,22,23,24,25,26,27,28,29,30,31]},\"id\":\"8181\",\"type\":\"DaysTicker\"},{\"attributes\":{\"label\":{\"value\":\"targets\"},\"renderers\":[{\"id\":\"8195\",\"type\":\"GlyphRenderer\"}]},\"id\":\"8217\",\"type\":\"LegendItem\"},{\"attributes\":{},\"id\":\"8157\",\"type\":\"SaveTool\"},{\"attributes\":{\"axis_label\":\"Value\",\"formatter\":{\"id\":\"8176\",\"type\":\"BasicTickFormatter\"},\"ticker\":{\"id\":\"8150\",\"type\":\"BasicTicker\"}},\"id\":\"8149\",\"type\":\"LinearAxis\"},{\"attributes\":{},\"id\":\"8204\",\"type\":\"UnionRenderers\"},{\"attributes\":{\"days\":[1,4,7,10,13,16,19,22,25,28]},\"id\":\"8182\",\"type\":\"DaysTicker\"},{\"attributes\":{\"overlay\":{\"id\":\"8177\",\"type\":\"BoxAnnotation\"}},\"id\":\"8156\",\"type\":\"BoxZoomTool\"},{\"attributes\":{\"days\":[1,8,15,22]},\"id\":\"8183\",\"type\":\"DaysTicker\"},{\"attributes\":{\"dimension\":1,\"ticker\":{\"id\":\"8150\",\"type\":\"BasicTicker\"}},\"id\":\"8153\",\"type\":\"Grid\"},{\"attributes\":{\"text\":\"Predictions over the test dataset for MT_330\"},\"id\":\"8134\",\"type\":\"Title\"},{\"attributes\":{\"line_alpha\":0.1,\"line_color\":\"#1f77b4\",\"x\":{\"field\":\"x\"},\"y\":{\"field\":\"y\"}},\"id\":\"8194\",\"type\":\"Line\"},{\"attributes\":{\"data_source\":{\"id\":\"8167\",\"type\":\"ColumnDataSource\"},\"glyph\":{\"id\":\"8168\",\"type\":\"Line\"},\"hover_glyph\":null,\"muted_glyph\":null,\"nonselection_glyph\":{\"id\":\"8169\",\"type\":\"Line\"},\"selection_glyph\":null,\"view\":{\"id\":\"8171\",\"type\":\"CDSView\"}},\"id\":\"8170\",\"type\":\"GlyphRenderer\"},{\"attributes\":{},\"id\":\"8189\",\"type\":\"YearsTicker\"},{\"attributes\":{\"source\":{\"id\":\"8167\",\"type\":\"ColumnDataSource\"}},\"id\":\"8171\",\"type\":\"CDSView\"},{\"attributes\":{\"label\":{\"value\":\"predictions\"},\"renderers\":[{\"id\":\"8170\",\"type\":\"GlyphRenderer\"}]},\"id\":\"8191\",\"type\":\"LegendItem\"},{\"attributes\":{},\"id\":\"8176\",\"type\":\"BasicTickFormatter\"},{\"attributes\":{\"num_minor_ticks\":5,\"tickers\":[{\"id\":\"8178\",\"type\":\"AdaptiveTicker\"},{\"id\":\"8179\",\"type\":\"AdaptiveTicker\"},{\"id\":\"8180\",\"type\":\"AdaptiveTicker\"},{\"id\":\"8181\",\"type\":\"DaysTicker\"},{\"id\":\"8182\",\"type\":\"DaysTicker\"},{\"id\":\"8183\",\"type\":\"DaysTicker\"},{\"id\":\"8184\",\"type\":\"DaysTicker\"},{\"id\":\"8185\",\"type\":\"MonthsTicker\"},{\"id\":\"8186\",\"type\":\"MonthsTicker\"},{\"id\":\"8187\",\"type\":\"MonthsTicker\"},{\"id\":\"8188\",\"type\":\"MonthsTicker\"},{\"id\":\"8189\",\"type\":\"YearsTicker\"}]},\"id\":\"8145\",\"type\":\"DatetimeTicker\"},{\"attributes\":{},\"id\":\"8150\",\"type\":\"BasicTicker\"},{\"attributes\":{},\"id\":\"8579\",\"type\":\"UnionRenderers\"},{\"attributes\":{\"months\":[0,6]},\"id\":\"8188\",\"type\":\"MonthsTicker\"},{\"attributes\":{},\"id\":\"8142\",\"type\":\"LinearScale\"},{\"attributes\":{},\"id\":\"8578\",\"type\":\"Selection\"},{\"attributes\":{\"months\":[0,4,8]},\"id\":\"8187\",\"type\":\"MonthsTicker\"},{\"attributes\":{\"active_drag\":\"auto\",\"active_inspect\":\"auto\",\"active_multi\":null,\"active_scroll\":\"auto\",\"active_tap\":\"auto\",\"tools\":[{\"id\":\"8154\",\"type\":\"PanTool\"},{\"id\":\"8155\",\"type\":\"WheelZoomTool\"},{\"id\":\"8156\",\"type\":\"BoxZoomTool\"},{\"id\":\"8157\",\"type\":\"SaveTool\"},{\"id\":\"8158\",\"type\":\"ResetTool\"},{\"id\":\"8159\",\"type\":\"HelpTool\"}]},\"id\":\"8160\",\"type\":\"Toolbar\"},{\"attributes\":{\"months\":[0,2,4,6,8,10]},\"id\":\"8186\",\"type\":\"MonthsTicker\"},{\"attributes\":{},\"id\":\"8140\",\"type\":\"LinearScale\"},{\"attributes\":{\"items\":[{\"id\":\"8191\",\"type\":\"LegendItem\"},{\"id\":\"8217\",\"type\":\"LegendItem\"}]},\"id\":\"8190\",\"type\":\"Legend\"},{\"attributes\":{\"axis_label\":\"Timestmap\",\"formatter\":{\"id\":\"8174\",\"type\":\"DatetimeTickFormatter\"},\"ticker\":{\"id\":\"8145\",\"type\":\"DatetimeTicker\"}},\"id\":\"8144\",\"type\":\"DatetimeAxis\"},{\"attributes\":{\"months\":[0,1,2,3,4,5,6,7,8,9,10,11]},\"id\":\"8185\",\"type\":\"MonthsTicker\"},{\"attributes\":{\"callback\":null},\"id\":\"8136\",\"type\":\"DataRange1d\"},{\"attributes\":{},\"id\":\"8155\",\"type\":\"WheelZoomTool\"},{\"attributes\":{\"callback\":null,\"data\":{\"x\":{\"__ndarray__\":\"AACALeiCdEIAAGic64J0QgAAUAvvgnRCAAA4evKCdEIAACDp9YJ0QgAACFj5gnRCAADwxvyCdEIAANg1AIN0QgAAwKQDg3RCAACoEweDdEIAAJCCCoN0QgAAePENg3RCAABgYBGDdEIAAEjPFIN0QgAAMD4Yg3RCAAAYrRuDdEIAAAAcH4N0QgAA6Ioig3RCAADQ+SWDdEIAALhoKYN0QgAAoNcsg3RCAACIRjCDdEIAAHC1M4N0QgAAWCQ3g3RCAABAkzqDdEIAACgCPoN0QgAAEHFBg3RCAAD430SDdEIAAOBOSIN0QgAAyL1Lg3RCAACwLE+DdEIAAJibUoN0QgAAgApWg3RCAABoeVmDdEIAAFDoXIN0QgAAOFdgg3RCAAAgxmODdEIAAAg1Z4N0QgAA8KNqg3RCAADYEm6DdEIAAMCBcYN0QgAAqPB0g3RCAACQX3iDdEIAAHjOe4N0QgAAYD1/g3RCAABIrIKDdEIAADAbhoN0QgAAGIqJg3RCAAAA+YyDdEIAAOhnkIN0QgAA0NaTg3RCAAC4RZeDdEIAAKC0moN0QgAAiCOeg3RCAABwkqGDdEIAAFgBpYN0QgAAQHCog3RCAAAo36uDdEIAABBOr4N0QgAA+Lyyg3RCAADgK7aDdEIAAMiauYN0QgAAsAm9g3RCAACYeMCDdEIAAIDnw4N0QgAAaFbHg3RCAABQxcqDdEIAADg0zoN0QgAAIKPRg3RCAAAIEtWDdEIAAPCA2IN0QgAA2O/bg3RCAADAXt+DdEIAAKjN4oN0QgAAkDzmg3RCAAB4q+mDdEIAAGAa7YN0QgAASInwg3RCAAAw+PODdEIAABhn94N0QgAAANb6g3RCAADoRP6DdEIAANCzAYR0QgAAuCIFhHRCAACgkQiEdEIAAIgADIR0QgAAcG8PhHRCAABY3hKEdEIAAEBNFoR0QgAAKLwZhHRCAAAQKx2EdEIAAPiZIIR0QgAA4AgkhHRCAADIdyeEdEIAALDmKoR0QgAAmFUuhHRCAACAxDGEdEIAAGgzNYR0QgAAUKI4hHRCAAA4ETyEdEIAACCAP4R0QgAACO9ChHRCAADwXUaEdEIAANjMSYR0QgAAwDtNhHRCAACoqlCEdEIAAJAZVIR0QgAAeIhXhHRCAABg91qEdEIAAEhmXoR0QgAAMNVhhHRCAAAYRGWEdEIAAACzaIR0QgAA6CFshHRCAADQkG+EdEIAALj/coR0QgAAoG52hHRCAACI3XmEdEIAAHBMfYR0QgAAWLuAhHRCAABAKoSEdEIAACiZh4R0QgAAEAiLhHRCAAD4do6EdEIAAODlkYR0QgAAyFSVhHRCAACww5iEdEIAAJgynIR0QgAAgKGfhHRCAABoEKOEdEIAAFB/poR0QgAAOO6phHRCAAAgXa2EdEIAAAjMsIR0QgAA8Dq0hHRCAADYqbeEdEIAAMAYu4R0QgAAqIe+hHRCAACQ9sGEdEIAAHhlxYR0QgAAYNTIhHRCAABIQ8yEdEIAADCyz4R0QgAAGCHThHRCAAAAkNaEdEIAAOj+2YR0QgAA0G3dhHRCAAC43OCEdEIAAKBL5IR0QgAAiLrnhHRCAABwKeuEdEIAAFiY7oR0QgAAQAfyhHRCAAAodvWEdEIAABDl+IR0QgAA+FP8hHRCAADgwv+EdEIAAMgxA4V0QgAAsKAGhXRCAACYDwqFdEIAAIB+DYV0QgAAaO0QhXRCAABQXBSFdEIAADjLF4V0QgAAIDobhXRCAAAIqR6FdEIAAPAXIoV0QgAA2IYlhXRC\",\"dtype\":\"float64\",\"shape\":[168]},\"y\":{\"__ndarray__\":\"mpmZmZlTTEAyMzMzM6tJQDMzMzMzR0lAMzMzMzMPSkBoZmZmZtdKQDMzMzMzp0hAZ2ZmZmYQT0DNzMzMzL5XQGZmZmbm/VVAmpmZmRlvX0AAAAAAAPhiQDQzMzOzhGVAmpmZmdlcZUBmZmZmJiBjQM3MzMwMDGNAZmZmZmbAY0CamZmZ2epnQJqZmZlZ7GlAzczMzEzDaEBmZmZmpmJmQAAAAACAk2JAzczMzIyEYkAzMzMzM21bQM3MzMxMAFBAMzMzMzP0TEDOzMzMzCtMQGhmZmZmr0pAzczMzMzHS0CbmZmZmRdMQDMzMzMzv0lAMzMzMzPkTUBmZmZmZulXQMzMzMxMU1VAAAAAAACxXEBmZmZm5oRhQDMzMzMzdWNAzMzMzAyOZEDNzMzMTAdiQM3MzMyMXGJAmpmZmRmnY0BmZmZm5oBmQAAAAACAJmdAZmZmZiZYZkBmZmZm5sViQM3MzMxMwWBAMjMzM/OOYUD+////f9dYQJqZmZmZJE9AzMzMzMxTTEBnZmZmZptKQJqZmZmZJ0tAAAAAAAD0TEAAAAAAABxNQGZmZmZmT0tAZmZmZmZkUEAAAAAAgIRZQDQzMzOzKldAMzMzMzMkXkCamZmZ2WZhQGZmZmYmk2NAMzMzM7PZYkAzMzMz85NhQAAAAAAAmWFAzczMzIxhYkAAAAAAQIBlQAAAAACAYWVAZmZmZub3Y0BmZmZmpmFiQGZmZmbmIGBAZmZmZuYlYEBmZmZm5idZQJqZmZmZi0tAzczMzMzvS0AzMzMzMyNKQDIzMzMzq0lAmpmZmZmfS0AzMzMzM5tKQDUzMzMzl0lAMzMzMzMQT0DMzMzMTEtYQJqZmZmZ+FZANDMzM7PsXkDNzMzMDLdhQAAAAAAADGNAzczMzIxSYkA0MzMz84lhQJqZmZkZxmFAAAAAAMCOYkBmZmZmZqNlQAAAAABAPmVAAAAAAADuY0A0MzMzs39iQAAAAABAmWBAMzMzM7M5YUDNzMzMTCNYQM3MzMzMn0tAZmZmZmbTSUAzMzMzM/dIQDMzMzMzl0lAmpmZmZlzSkBmZmZmZl9KQDQzMzMzC0lAMjMzMzOETkAAAAAAgAdYQJqZmZkZWFZAMjMzMzMuXkAzMzMz84RhQDMzMzOzxWJAMzMzM7OYYkDNzMzMDLxhQMzMzMwMqGFAZ2ZmZqZ6YkDMzMzMDJVmQMzMzMxMbGZAAAAAAIAvZUAzMzMzs7tiQM3MzMxMt2BAAAAAAIAMYUDLzMzMzCdZQAAAAAAAME1AmpmZmZmLS0CamZmZmddKQGZmZmZmO0tAzczMzMy3TEAAAAAAABxNQMzMzMzMT0tAZmZmZmZGUEAAAAAAALJYQDMzMzOzy1VAmpmZmRmNX0CamZmZ2XVhQJqZmZmZa2JAMzMzMzPVYUBnZmZmZr9fQAAAAACAnF5AZmZmZibfYUCZmZmZ2R9jQGdmZmbmu2JAMzMzM/OEYUBmZmZmJopgQJqZmZkZdmBAAAAAAID4YEA0MzMzs9dYQJqZmZmZ20tAmpmZmZmLS0AzMzMzM5tKQJqZmZmZc0pAmpmZmZmfS0CZmZmZmWNLQGdmZmZml0lAZmZmZmZcTkBmZmZmZhRXQM3MzMzMllVAZmZmZuZGX0DNzMzMzGFhQJmZmZkZL2NAMzMzM7MpY0AzMzMz845hQJqZmZmZIGFAAAAAAED4YUA0MzMzs95jQAAAAADAJGRAMzMzM/MVY0AAAAAAAK1hQAAAAAAAWGBAmpmZmVnBYEBmZmZm5h1ZQMzMzMzMe0xA\",\"dtype\":\"float64\",\"shape\":[168]}},\"selected\":{\"id\":\"8578\",\"type\":\"Selection\"},\"selection_policy\":{\"id\":\"8579\",\"type\":\"UnionRenderers\"}},\"id\":\"8192\",\"type\":\"ColumnDataSource\"},{\"attributes\":{\"mantissas\":[1,2,5],\"max_interval\":500.0,\"num_minor_ticks\":0},\"id\":\"8178\",\"type\":\"AdaptiveTicker\"},{\"attributes\":{\"callback\":null},\"id\":\"8138\",\"type\":\"DataRange1d\"},{\"attributes\":{\"source\":{\"id\":\"8192\",\"type\":\"ColumnDataSource\"}},\"id\":\"8196\",\"type\":\"CDSView\"},{\"attributes\":{},\"id\":\"8174\",\"type\":\"DatetimeTickFormatter\"},{\"attributes\":{\"bottom_units\":\"screen\",\"fill_alpha\":{\"value\":0.5},\"fill_color\":{\"value\":\"lightgrey\"},\"left_units\":\"screen\",\"level\":\"overlay\",\"line_alpha\":{\"value\":1.0},\"line_color\":{\"value\":\"black\"},\"line_dash\":[4,4],\"line_width\":{\"value\":2},\"render_mode\":\"css\",\"right_units\":\"screen\",\"top_units\":\"screen\"},\"id\":\"8177\",\"type\":\"BoxAnnotation\"},{\"attributes\":{\"line_color\":\"blue\",\"x\":{\"field\":\"x\"},\"y\":{\"field\":\"y\"}},\"id\":\"8193\",\"type\":\"Line\"},{\"attributes\":{\"days\":[1,15]},\"id\":\"8184\",\"type\":\"DaysTicker\"},{\"attributes\":{\"data_source\":{\"id\":\"8192\",\"type\":\"ColumnDataSource\"},\"glyph\":{\"id\":\"8193\",\"type\":\"Line\"},\"hover_glyph\":null,\"muted_glyph\":null,\"nonselection_glyph\":{\"id\":\"8194\",\"type\":\"Line\"},\"selection_glyph\":null,\"view\":{\"id\":\"8196\",\"type\":\"CDSView\"}},\"id\":\"8195\",\"type\":\"GlyphRenderer\"},{\"attributes\":{\"line_alpha\":0.1,\"line_color\":\"#1f77b4\",\"x\":{\"field\":\"x\"},\"y\":{\"field\":\"y\"}},\"id\":\"8169\",\"type\":\"Line\"},{\"attributes\":{\"ticker\":{\"id\":\"8145\",\"type\":\"DatetimeTicker\"}},\"id\":\"8148\",\"type\":\"Grid\"}],\"root_ids\":[\"8133\"]},\"title\":\"Bokeh Application\",\"version\":\"1.4.0\"}};\n",
       "  var render_items = [{\"docid\":\"287839ac-7c54-4729-8f68-68458e6c502a\",\"roots\":{\"8133\":\"36f9e8e1-cdba-4135-b037-55794641b29a\"}}];\n",
       "  root.Bokeh.embed.embed_items_notebook(docs_json, render_items);\n",
       "\n",
       "  }\n",
       "  if (root.Bokeh !== undefined) {\n",
       "    embed_document(root);\n",
       "  } else {\n",
       "    var attempts = 0;\n",
       "    var timer = setInterval(function(root) {\n",
       "      if (root.Bokeh !== undefined) {\n",
       "        clearInterval(timer);\n",
       "        embed_document(root);\n",
       "      } else {\n",
       "        attempts++;\n",
       "        if (attempts > 100) {\n",
       "          clearInterval(timer);\n",
       "          console.log(\"Bokeh: ERROR: Unable to run BokehJS code because BokehJS library is missing\");\n",
       "        }\n",
       "      }\n",
       "    }, 10, root)\n",
       "  }\n",
       "})(window);"
      ],
      "application/vnd.bokehjs_exec.v0+json": ""
     },
     "metadata": {
      "application/vnd.bokehjs_exec.v0+json": {
       "id": "8133"
      }
     },
     "output_type": "display_data"
    }
   ],
   "source": [
    "for customer_id in customer_ids:\n",
    "    \n",
    "    label = '{}_predictions'.format(customer_id)\n",
    "\n",
    "    plots[label] = figure(\n",
    "        title='Predictions over the test dataset for {}'.format(customer_id),\n",
    "        width=960,\n",
    "        height=320,\n",
    "        x_axis_type='datetime',\n",
    "        x_axis_label='Timestmap',\n",
    "        y_axis_label='Value')\n",
    "\n",
    "    plots[label].line(\n",
    "        x=global_df[global_df['customer_id'] == customer_id]['timestamp'],\n",
    "        y=global_df[global_df['customer_id'] == customer_id]['prediction'],\n",
    "        legend_label='predictions',\n",
    "        color='red',\n",
    "        line_width=1)\n",
    "\n",
    "    plots[label].line(\n",
    "        x=global_df[global_df['customer_id'] == customer_id]['timestamp'],\n",
    "        y=global_df[global_df['customer_id'] == customer_id]['target'],\n",
    "        legend_label='targets',\n",
    "        color='blue',\n",
    "        line_width=1)\n",
    "\n",
    "    show(plots[label])"
   ]
  },
  {
   "cell_type": "code",
   "execution_count": 104,
   "metadata": {},
   "outputs": [],
   "source": []
  }
 ],
 "metadata": {
  "kernelspec": {
   "display_name": "Python 3",
   "language": "python",
   "name": "python3"
  },
  "language_info": {
   "codemirror_mode": {
    "name": "ipython",
    "version": 3
   },
   "file_extension": ".py",
   "mimetype": "text/x-python",
   "name": "python",
   "nbconvert_exporter": "python",
   "pygments_lexer": "ipython3",
   "version": "3.7.6"
  }
 },
 "nbformat": 4,
 "nbformat_minor": 4
}

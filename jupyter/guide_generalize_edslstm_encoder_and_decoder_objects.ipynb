{
 "cells": [
  {
   "cell_type": "code",
   "execution_count": 3,
   "metadata": {},
   "outputs": [],
   "source": [
    "import numpy as np\n",
    "import json"
   ]
  },
  {
   "cell_type": "code",
   "execution_count": 4,
   "metadata": {},
   "outputs": [],
   "source": [
    "import tensorflow as tf"
   ]
  },
  {
   "cell_type": "code",
   "execution_count": 5,
   "metadata": {},
   "outputs": [],
   "source": [
    "json_filename = '/home/developer/gcp/cbidmltsf/parameters/EDSLSTM_TPU_011.json'"
   ]
  },
  {
   "cell_type": "code",
   "execution_count": 6,
   "metadata": {},
   "outputs": [],
   "source": [
    "# get the model parameters from configuration json file\n",
    "with open(json_filename, 'r') as input_file:\n",
    "    model_params = json.load(input_file)"
   ]
  },
  {
   "cell_type": "code",
   "execution_count": 7,
   "metadata": {},
   "outputs": [
    {
     "data": {
      "text/plain": [
       "{'no_hidden': [256, 256, 256],\n",
       " 'activation': ['elu', 'elu', 'elu'],\n",
       " 'dropout': [0.2, 0.2, 0.2],\n",
       " 'recurrent_dropout': [0.2, 0.2, 0.2],\n",
       " 'momentum_h': 0.6,\n",
       " 'momentum_c': 0.6}"
      ]
     },
     "execution_count": 7,
     "metadata": {},
     "output_type": "execute_result"
    }
   ],
   "source": [
    "model_params['encoder']"
   ]
  },
  {
   "cell_type": "code",
   "execution_count": 8,
   "metadata": {},
   "outputs": [],
   "source": [
    "indexes = list(np.arange(len(model_params['encoder']['no_hidden'])))"
   ]
  },
  {
   "cell_type": "code",
   "execution_count": 11,
   "metadata": {},
   "outputs": [],
   "source": [
    "no_hiddens = model_params['encoder']['no_hidden']\n",
    "activations = model_params['encoder']['activation']\n",
    "dropouts = model_params['encoder']['dropout']\n",
    "recurrent_dropouts = model_params['encoder']['recurrent_dropout']"
   ]
  },
  {
   "cell_type": "code",
   "execution_count": 20,
   "metadata": {},
   "outputs": [],
   "source": [
    "# a dict to store all layers of the encoder\n",
    "encoder = dict()"
   ]
  },
  {
   "cell_type": "code",
   "execution_count": 21,
   "metadata": {},
   "outputs": [],
   "source": [
    "for index, no_hidden, activation, dropout, recurrent_dropout in zip(indexes,\n",
    "                                                                    no_hiddens,\n",
    "                                                                    activations,\n",
    "                                                                    dropouts,\n",
    "                                                                    recurrent_dropouts):\n",
    "    '''\n",
    "    zip returns an iterable like this one\n",
    "    0 256 elu 0.2 0.2\n",
    "    1 256 elu 0.2 0.2\n",
    "    2 256 elu 0.2 0.2\n",
    "    '''\n",
    "    \n",
    "    level_key = 'level_{}'.format(index)\n",
    "    encoder[level_key] = tf.keras.layers.LSTM(\n",
    "        units=no_hidden,\n",
    "        activation=activation,\n",
    "        dropout=dropout,\n",
    "        recurrent_dropout=recurrent_dropout,\n",
    "        # LSTMs in all levels return sequences\n",
    "        return_sequences=True,\n",
    "        # LSTM in the uppermost level returns also the state\n",
    "        return_state=index==indexes[-1],\n",
    "        name='encoder_{}'.format(level_key))"
   ]
  },
  {
   "cell_type": "code",
   "execution_count": 26,
   "metadata": {},
   "outputs": [
    {
     "data": {
      "text/plain": [
       "{'level_0': <tensorflow.python.keras.layers.recurrent_v2.LSTM at 0x7fce1034ab90>,\n",
       " 'level_1': <tensorflow.python.keras.layers.recurrent_v2.LSTM at 0x7fce11a98890>,\n",
       " 'level_2': <tensorflow.python.keras.layers.recurrent_v2.LSTM at 0x7fce90082fd0>}"
      ]
     },
     "execution_count": 26,
     "metadata": {},
     "output_type": "execute_result"
    }
   ],
   "source": [
    "# the encoder dictionary stores all the stacked LSTMs\n",
    "encoder"
   ]
  },
  {
   "cell_type": "code",
   "execution_count": 28,
   "metadata": {},
   "outputs": [],
   "source": [
    "# now build a list to generalize the encoder output management\n",
    "encoder_output = list()"
   ]
  },
  {
   "cell_type": "code",
   "execution_count": null,
   "metadata": {},
   "outputs": [],
   "source": [
    "# initialize the encoder output list with the features\n",
    "encoder_output.append(features['hourly'])"
   ]
  },
  {
   "cell_type": "code",
   "execution_count": 30,
   "metadata": {},
   "outputs": [],
   "source": [
    "# build a list of level keys (on indexes) to iterate on\n",
    "level_keys = ['level_{}'.format(index) for index in indexes]"
   ]
  },
  {
   "cell_type": "code",
   "execution_count": 31,
   "metadata": {},
   "outputs": [
    {
     "data": {
      "text/plain": [
       "['level_0', 'level_1', 'level_2']"
      ]
     },
     "execution_count": 31,
     "metadata": {},
     "output_type": "execute_result"
    }
   ],
   "source": [
    "level_keys"
   ]
  },
  {
   "cell_type": "code",
   "execution_count": null,
   "metadata": {},
   "outputs": [],
   "source": [
    "# now process the encoder stack of LSTMs as a cascade:\n",
    "# list[n] is the input for list[n+1]\n",
    "for level_key in level_keys:\n",
    "    encoder_output.append(encoder[level_key](encoder_output[-1]))\n",
    "    \n",
    "    '''\n",
    "    encoder['level_0'] LSTM receives features['hourly'] and returns encoder_stack_h0 (return_sequences=True)\n",
    "    encoder['level_1'] LSTM receives encoder_stack_h0 and returns encoder_stack_h1 (return_sequences=True)\n",
    "    encoder['level_2'] LSTM receives encoder_stack_h1 and returns the tuple\n",
    "                       (encoder_stack_h2, encoder_last_h2, encoder_last_c2)\n",
    "                       (return_sequences=True, return_state=True)\n",
    "    '''"
   ]
  },
  {
   "cell_type": "code",
   "execution_count": null,
   "metadata": {},
   "outputs": [],
   "source": []
  },
  {
   "cell_type": "code",
   "execution_count": 8,
   "metadata": {},
   "outputs": [
    {
     "data": {
      "text/plain": [
       "{'no_hidden': [256, 256],\n",
       " 'activation': ['elu', 'elu'],\n",
       " 'dropout': [0.2, 0.2],\n",
       " 'recurrent_dropout': [0.2, 0.2]}"
      ]
     },
     "execution_count": 8,
     "metadata": {},
     "output_type": "execute_result"
    }
   ],
   "source": [
    "model_params['decoder']"
   ]
  },
  {
   "cell_type": "code",
   "execution_count": 9,
   "metadata": {},
   "outputs": [],
   "source": [
    "# generalize now the decoder object construction"
   ]
  },
  {
   "cell_type": "code",
   "execution_count": 10,
   "metadata": {},
   "outputs": [],
   "source": [
    "# a list of indexes for the decoder layers\n",
    "# use any decoder feature list to get the number of layers\n",
    "indexes = list(np.arange(len(model_params['decoder']['no_hidden'])))"
   ]
  },
  {
   "cell_type": "code",
   "execution_count": 11,
   "metadata": {},
   "outputs": [],
   "source": [
    "# load all the decoder feature lists\n",
    "no_hiddens = model_params['decoder']['no_hidden']\n",
    "activations = model_params['decoder']['activation']\n",
    "dropouts = model_params['decoder']['dropout']\n",
    "recurrent_dropouts = model_params['decoder']['recurrent_dropout']"
   ]
  },
  {
   "cell_type": "code",
   "execution_count": 14,
   "metadata": {},
   "outputs": [],
   "source": [
    "# a dict to store all layers of the decoder\n",
    "decoder = dict()"
   ]
  },
  {
   "cell_type": "code",
   "execution_count": 15,
   "metadata": {},
   "outputs": [],
   "source": [
    "for index, no_hidden, activation, dropout, recurrent_dropout in zip(indexes,\n",
    "                                                                    no_hiddens,\n",
    "                                                                    activations,\n",
    "                                                                    dropouts,\n",
    "                                                                    recurrent_dropouts):\n",
    "    '''\n",
    "    zip returns an iterable like this one\n",
    "    0 256 elu 0.2 0.2\n",
    "    1 256 elu 0.2 0.2\n",
    "    2 256 elu 0.2 0.2\n",
    "    '''\n",
    "\n",
    "    level_key = 'level_{}'.format(index)\n",
    "    decoder[level_key] = tf.keras.layers.LSTM(\n",
    "        units=no_hidden,\n",
    "        activation=activation,\n",
    "        dropout=dropout,\n",
    "        recurrent_dropout=recurrent_dropout,\n",
    "        # LSTMs in all levels return sequences\n",
    "        return_sequences=True,\n",
    "        # LSTMs in all levels do not return state\n",
    "        return_state=False,\n",
    "        name='decoder_{}'.format(level_key))"
   ]
  },
  {
   "cell_type": "code",
   "execution_count": 16,
   "metadata": {},
   "outputs": [
    {
     "data": {
      "text/plain": [
       "{'level_0': <tensorflow.python.keras.layers.recurrent_v2.LSTM at 0x7fbc863feed0>,\n",
       " 'level_1': <tensorflow.python.keras.layers.recurrent_v2.LSTM at 0x7fbc864159d0>}"
      ]
     },
     "execution_count": 16,
     "metadata": {},
     "output_type": "execute_result"
    }
   ],
   "source": [
    "decoder"
   ]
  },
  {
   "cell_type": "code",
   "execution_count": 26,
   "metadata": {},
   "outputs": [],
   "source": [
    "# now build a list to generalize the decoder output management\n",
    "decoder_output = list()"
   ]
  },
  {
   "cell_type": "code",
   "execution_count": null,
   "metadata": {},
   "outputs": [],
   "source": [
    "# initialize the decoder output list with the TimeDistributed decoder input\n",
    "decoder_output.append(decoder_input)"
   ]
  },
  {
   "cell_type": "code",
   "execution_count": 27,
   "metadata": {},
   "outputs": [],
   "source": [
    "# build a list of level keys (on indexes) to iterate on\n",
    "level_keys = ['level_{}'.format(index) for index in indexes]"
   ]
  },
  {
   "cell_type": "code",
   "execution_count": 28,
   "metadata": {},
   "outputs": [
    {
     "data": {
      "text/plain": [
       "['level_0', 'level_1']"
      ]
     },
     "execution_count": 28,
     "metadata": {},
     "output_type": "execute_result"
    }
   ],
   "source": [
    "level_keys"
   ]
  },
  {
   "cell_type": "code",
   "execution_count": 4,
   "metadata": {},
   "outputs": [],
   "source": [
    "level_key = 'level_1'"
   ]
  },
  {
   "cell_type": "code",
   "execution_count": 5,
   "metadata": {},
   "outputs": [],
   "source": [
    "initial_state = [3, 3] if level_key == 'level_0' else None"
   ]
  },
  {
   "cell_type": "code",
   "execution_count": 6,
   "metadata": {},
   "outputs": [],
   "source": [
    "initial_state"
   ]
  },
  {
   "cell_type": "code",
   "execution_count": null,
   "metadata": {},
   "outputs": [],
   "source": [
    "# now process the decoder stack of LSTMs as a cascade:\n",
    "# list[n] is the input for list[n+1]\n",
    "for level_key in level_keys:\n",
    "    # last hidden state and last cell state in encoder stack\n",
    "    # are passed as initial state for first decoder layer\n",
    "    initial_state = [encoder_last_hn, encoder_last_cn] if level_key == 'level_0' else None\n",
    "    # ensure initial_state is passed as a call argument\n",
    "    decoder_output.append(decoder[level_key](decoder_output[-1], initial_state=initial_state))"
   ]
  },
  {
   "cell_type": "code",
   "execution_count": null,
   "metadata": {},
   "outputs": [],
   "source": []
  },
  {
   "cell_type": "code",
   "execution_count": null,
   "metadata": {},
   "outputs": [],
   "source": []
  }
 ],
 "metadata": {
  "kernelspec": {
   "display_name": "Python 3",
   "language": "python",
   "name": "python3"
  },
  "language_info": {
   "codemirror_mode": {
    "name": "ipython",
    "version": 3
   },
   "file_extension": ".py",
   "mimetype": "text/x-python",
   "name": "python",
   "nbconvert_exporter": "python",
   "pygments_lexer": "ipython3",
   "version": "3.7.6"
  }
 },
 "nbformat": 4,
 "nbformat_minor": 4
}

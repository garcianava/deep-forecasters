{
 "cells": [
  {
   "cell_type": "code",
   "execution_count": 1,
   "metadata": {},
   "outputs": [],
   "source": [
    "import pandas as pd\n",
    "import numpy as np\n",
    "import json"
   ]
  },
  {
   "cell_type": "code",
   "execution_count": 2,
   "metadata": {},
   "outputs": [],
   "source": [
    "# data structure: names of model directories and number of executions for each model\n",
    "# to build the paths to all of the model directories\n",
    "targets = [\n",
    "    ['166404_083202_043201_TPU_10', 10],\n",
    "    ['086404_043202_043201_TPU_11', 10],\n",
    "    ['086404_043202_043201_TPU_13', 10],\n",
    "    ['086404_086402_043201_TPU_14', 10],\n",
    "    ['086404_086402_043201_TPU_15', 10],\n",
    "    ['086403_083202_043201_TPU_16', 10],\n",
    "    ['086401_083201_043201_TPU_17', 10],    \n",
    "    ['086404_086404_043202_TPU_18', 10],\n",
    "    ['086404_086404_043202_TPU_19', 10],\n",
    "    ['086404_086404_043202_TPU_20', 10],\n",
    "    ['086404_086404_046404_TPU_21', 10],\n",
    "    ['086404_086404_043202_TPU_22', 10],\n",
    "    ['086404_086404_043202_TPU_23', 10],\n",
    "    ['086404_086404_043202_TPU_24', 10],\n",
    "    ['089604_089604_043202_TPU_25', 10],\n",
    "    ['084804_084804_043202_TPU_26', 10],\n",
    "    ['0812804_0812804_046402_TPU_27', 10],\n",
    "    ['0812804_0812804_046402_TPU_30', 10],\n",
    "    ['0812804_0812804_046402_TPU_31', 10],\n",
    "    ['0812804_0812804_046402_TPU_32', 10],\n",
    "    ['0812804_0812804_046402_TPU_33', 10],\n",
    "    ['0812804_0812804_046402_TPU_34', 10],\n",
    "    ['0812804_0812804_046402_TPU_35', 10],\n",
    "    ['0812804_0812804_046402_TPU_36', 9],\n",
    "    ['0812804_0812804_046402_TPU_37', 10],\n",
    "    ['0812804_0812804_046402_TPU_38', 10],\n",
    "    ['0812804_0812804_046402_TPU_39', 10],\n",
    "    ['0812804_0812804_046402_TPU_40', 10],\n",
    "    ['0812804_0812804_046402_TPU_41', 10],\n",
    "    ['0812804_0812804_046402_TPU_42', 10],\n",
    "    ['0812804_0812804_046402_TPU_50', 30],\n",
    "    ['0812804_0812804_046402_TPU_51', 30],\n",
    "    ['0812804_0812804_046402_TPU_52', 20],\n",
    "]"
   ]
  },
  {
   "cell_type": "raw",
   "metadata": {},
   "source": [
    "# add the counter suffix to model_dir\n",
    "for target in targets:\n",
    "    # use only 'TPU_XX' as model identifier\n",
    "    model_id = target[0][-6:]\n",
    "    for counter in np.arange(target[1]):\n",
    "        counter_string = '{:02d}'.format(counter)\n",
    "        path = '/home/developer/gcp/cbidmltsf/stats/DMSLSTM_{}_{}/training_parameters.json'.format(model_id, counter_string) \n",
    "        # print(path)\n",
    "        with open(path, 'r') as json_file:\n",
    "            training_parameters = json.load(json_file)\n",
    "            # avoid in place transformation of dictionary value\n",
    "            previous_model_dir = training_parameters['model_dir']\n",
    "            # update dictionary value\n",
    "            training_parameters['model_dir'] = '{}_{}'.format(training_parameters['model_dir'], counter_string)\n",
    "            # print(training_parameters['model_dir'])\n",
    "            \n",
    "        # now update the json file\n",
    "        with open(path, 'w') as json_file:\n",
    "            json.dump(training_parameters, json_file, indent=4)\n",
    "            \n",
    "        # print('Model directory updated for {}.'.format(training_parameters['model_dir']))"
   ]
  },
  {
   "cell_type": "raw",
   "metadata": {},
   "source": [
    "# add precision\n",
    "for target in targets:\n",
    "    # use only 'TPU_XX' as model identifier\n",
    "    model_id = target[0][-6:]\n",
    "    for counter in np.arange(target[1]):\n",
    "        counter_string = '{:02d}'.format(counter)\n",
    "        path = '/home/developer/gcp/cbidmltsf/stats/DMSLSTM_{}_{}/training_parameters.json'.format(model_id, counter_string) \n",
    "        # print(path)\n",
    "        with open(path, 'r') as json_file:\n",
    "            training_parameters = json.load(json_file)\n",
    "            # avoid in place transformation of dictionary value\n",
    "            # previous_model_dir = training_parameters['model_dir']\n",
    "            # update dictionary value\n",
    "            training_parameters['precision'] = \"float32\"\n",
    "            \n",
    "        # now update the json file\n",
    "        with open(path, 'w') as json_file:\n",
    "            json.dump(training_parameters, json_file, indent=4)\n",
    "            \n",
    "        # print('Model directory updated for {}.'.format(training_parameters['model_dir']))"
   ]
  },
  {
   "cell_type": "code",
   "execution_count": null,
   "metadata": {},
   "outputs": [],
   "source": []
  }
 ],
 "metadata": {
  "kernelspec": {
   "display_name": "Python 3",
   "language": "python",
   "name": "python3"
  },
  "language_info": {
   "codemirror_mode": {
    "name": "ipython",
    "version": 3
   },
   "file_extension": ".py",
   "mimetype": "text/x-python",
   "name": "python",
   "nbconvert_exporter": "python",
   "pygments_lexer": "ipython3",
   "version": "3.7.6"
  }
 },
 "nbformat": 4,
 "nbformat_minor": 4
}

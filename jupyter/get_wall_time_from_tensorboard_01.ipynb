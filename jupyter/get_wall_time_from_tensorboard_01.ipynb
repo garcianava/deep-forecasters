{
 "cells": [
  {
   "cell_type": "raw",
   "metadata": {},
   "source": [
    "https://stackoverflow.com/questions/41074688/how-do-you-read-tensorboard-files-programmatically"
   ]
  },
  {
   "cell_type": "code",
   "execution_count": 1,
   "metadata": {},
   "outputs": [],
   "source": [
    "import os"
   ]
  },
  {
   "cell_type": "code",
   "execution_count": 2,
   "metadata": {},
   "outputs": [],
   "source": [
    "import time"
   ]
  },
  {
   "cell_type": "code",
   "execution_count": 4,
   "metadata": {},
   "outputs": [],
   "source": [
    "from tensorboard.backend.event_processing import event_accumulator"
   ]
  },
  {
   "cell_type": "code",
   "execution_count": 5,
   "metadata": {},
   "outputs": [],
   "source": [
    "path = '../models/DMSLSTM_TPU_98_09'"
   ]
  },
  {
   "cell_type": "code",
   "execution_count": 6,
   "metadata": {},
   "outputs": [
    {
     "data": {
      "text/plain": [
       "['model.ckpt-469.data-00000-of-00001',\n",
       " 'events.out.tfevents.1602034416.n-0aaf33cc-w-0.10010.7238.v2',\n",
       " 'model.ckpt-469.index',\n",
       " 'export',\n",
       " 'model.ckpt-0.index',\n",
       " 'events.out.tfevents.1602034365.tpuestimator-tensorflow-1-15-vm',\n",
       " 'model.ckpt-0.data-00000-of-00001',\n",
       " 'checkpoint',\n",
       " 'graph.pbtxt',\n",
       " 'model.ckpt-469.meta',\n",
       " 'model.ckpt-0.meta']"
      ]
     },
     "execution_count": 6,
     "metadata": {},
     "output_type": "execute_result"
    }
   ],
   "source": [
    "os.listdir(path)"
   ]
  },
  {
   "cell_type": "code",
   "execution_count": 7,
   "metadata": {},
   "outputs": [],
   "source": [
    "ea = event_accumulator.EventAccumulator(path,\n",
    "                                        size_guidance={ # see below regarding this argument\n",
    "                                            # event_accumulator.COMPRESSED_HISTOGRAMS: 500, # not used\n",
    "                                            # event_accumulator.IMAGES: 4, # not used\n",
    "                                            # event_accumulator.AUDIO: 4, # not used\n",
    "                                            event_accumulator.SCALARS: 0, # retrieve all\n",
    "                                            event_accumulator.TENSORS: 0, # retrieve all\n",
    "                                            # event_accumulator.HISTOGRAMS: 1 # not used\n",
    "                                        }\n",
    "                                       )"
   ]
  },
  {
   "cell_type": "code",
   "execution_count": 8,
   "metadata": {},
   "outputs": [
    {
     "name": "stderr",
     "output_type": "stream",
     "text": [
      "Found more than one graph event per run, or there was a metagraph containing a graph_def, as well as one or more graph events.  Overwriting the graph with the newest event.\n",
      "Found more than one metagraph event per run. Overwriting the metagraph with the newest event.\n"
     ]
    },
    {
     "data": {
      "text/plain": [
       "<tensorboard.backend.event_processing.event_accumulator.EventAccumulator at 0x7fc7f0649850>"
      ]
     },
     "execution_count": 8,
     "metadata": {},
     "output_type": "execute_result"
    }
   ],
   "source": [
    "ea.Reload() # loads events from file"
   ]
  },
  {
   "cell_type": "code",
   "execution_count": 9,
   "metadata": {},
   "outputs": [
    {
     "data": {
      "text/plain": [
       "{'images': [],\n",
       " 'audio': [],\n",
       " 'histograms': [],\n",
       " 'scalars': ['loss_1', 'loss_2'],\n",
       " 'distributions': [],\n",
       " 'tensors': ['loss', 'current_epoch', 'learning_rate'],\n",
       " 'graph': True,\n",
       " 'meta_graph': True,\n",
       " 'run_metadata': []}"
      ]
     },
     "execution_count": 9,
     "metadata": {},
     "output_type": "execute_result"
    }
   ],
   "source": [
    "ea.Tags()"
   ]
  },
  {
   "cell_type": "code",
   "execution_count": 10,
   "metadata": {},
   "outputs": [
    {
     "data": {
      "text/plain": [
       "([ScalarEvent(wall_time=1602034429.2212405, step=469, value=0.0036084107123315334)],\n",
       " [ScalarEvent(wall_time=1602034429.2212405, step=469, value=0.0036084107123315334)])"
      ]
     },
     "execution_count": 10,
     "metadata": {},
     "output_type": "execute_result"
    }
   ],
   "source": [
    "ea.Scalars('loss_1'), ea.Scalars('loss_2')"
   ]
  },
  {
   "cell_type": "code",
   "execution_count": 11,
   "metadata": {},
   "outputs": [],
   "source": [
    "# ea.Tensors('loss')"
   ]
  },
  {
   "cell_type": "code",
   "execution_count": 21,
   "metadata": {},
   "outputs": [],
   "source": [
    "# wall time of the first Tensor input\n",
    "start_time = ea.Tensors('loss')[0][0]"
   ]
  },
  {
   "cell_type": "code",
   "execution_count": 22,
   "metadata": {},
   "outputs": [],
   "source": [
    "# wall time of the last Tensor input\n",
    "end_time = ea.Tensors('loss')[-1][0]"
   ]
  },
  {
   "cell_type": "code",
   "execution_count": 23,
   "metadata": {},
   "outputs": [],
   "source": [
    "wall_time = end_time - start_time"
   ]
  },
  {
   "cell_type": "code",
   "execution_count": 24,
   "metadata": {},
   "outputs": [
    {
     "data": {
      "text/plain": [
       "5.316589832305908"
      ]
     },
     "execution_count": 24,
     "metadata": {},
     "output_type": "execute_result"
    }
   ],
   "source": [
    "wall_time"
   ]
  },
  {
   "cell_type": "code",
   "execution_count": null,
   "metadata": {},
   "outputs": [],
   "source": []
  }
 ],
 "metadata": {
  "kernelspec": {
   "display_name": "Python 3",
   "language": "python",
   "name": "python3"
  },
  "language_info": {
   "codemirror_mode": {
    "name": "ipython",
    "version": 3
   },
   "file_extension": ".py",
   "mimetype": "text/x-python",
   "name": "python",
   "nbconvert_exporter": "python",
   "pygments_lexer": "ipython3",
   "version": "3.7.6"
  }
 },
 "nbformat": 4,
 "nbformat_minor": 4
}

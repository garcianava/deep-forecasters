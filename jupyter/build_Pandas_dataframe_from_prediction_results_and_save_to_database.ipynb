{
 "cells": [
  {
   "cell_type": "code",
   "execution_count": 1,
   "metadata": {},
   "outputs": [],
   "source": [
    "# prototyping a Python script to persist prediction results on the database\n",
    "# per DMSLSTM model, per test dataset"
   ]
  },
  {
   "cell_type": "code",
   "execution_count": 2,
   "metadata": {},
   "outputs": [],
   "source": [
    "import json\n",
    "import numpy as np\n",
    "import pandas as pd"
   ]
  },
  {
   "cell_type": "code",
   "execution_count": 13,
   "metadata": {},
   "outputs": [],
   "source": [
    "# arguments to parse:\n",
    "# model identifier in the stats/ folder\n",
    "# json file per dataset to test on"
   ]
  },
  {
   "cell_type": "code",
   "execution_count": 14,
   "metadata": {},
   "outputs": [],
   "source": [
    "model_id = 'DMSLSTM_TPU_70_00'"
   ]
  },
  {
   "cell_type": "code",
   "execution_count": 16,
   "metadata": {},
   "outputs": [],
   "source": [
    "dataset = 'test'"
   ]
  },
  {
   "cell_type": "markdown",
   "metadata": {},
   "source": [
    "if source == 'gcp':\n",
    "    prefix = 'gs://'\n",
    "elif source == 'local':\n",
    "    prefix = '/home/developer/gcp'"
   ]
  },
  {
   "cell_type": "code",
   "execution_count": null,
   "metadata": {},
   "outputs": [],
   "source": [
    "# prepare the script for local execution only"
   ]
  },
  {
   "cell_type": "code",
   "execution_count": 20,
   "metadata": {},
   "outputs": [],
   "source": [
    "path = '/home/developer/gcp/cbidmltsf/stats/{}/prediction_results_on_{}_tfrecord.json'.format(model_id, dataset)"
   ]
  },
  {
   "cell_type": "code",
   "execution_count": 21,
   "metadata": {},
   "outputs": [
    {
     "data": {
      "text/plain": [
       "'/home/developer/gcp/cbidmltsf/stats/DMSLSTM_TPU_70_00/prediction_results_on_test_tfrecord.json'"
      ]
     },
     "execution_count": 21,
     "metadata": {},
     "output_type": "execute_result"
    }
   ],
   "source": [
    "path"
   ]
  },
  {
   "cell_type": "code",
   "execution_count": 22,
   "metadata": {},
   "outputs": [],
   "source": [
    "# build a Python dict from the json file\n",
    "with open(path, 'r') as json_file:\n",
    "    predictions_dict = json.load(json_file)"
   ]
  },
  {
   "cell_type": "code",
   "execution_count": 27,
   "metadata": {},
   "outputs": [],
   "source": [
    "columns=['model_id', 'dataset', 'string_timestamp', 'prediction', 'target']"
   ]
  },
  {
   "cell_type": "code",
   "execution_count": 28,
   "metadata": {},
   "outputs": [],
   "source": [
    "# how many predictions in the dataset?\n",
    "length = len(predictions_dict['predictions'])\n",
    "# a list with model_id repeated length times\n",
    "model_id_repeat_list = [model_id]*length\n",
    "# same for dataset\n",
    "dataset_repeat_list = [dataset]*length\n",
    "# predictions dataframe\n",
    "predictions_df = pd.DataFrame(list(zip(model_id_repeat_list,\n",
    "                                       dataset_repeat_list,\n",
    "                                       predictions_dict['string_timestamps'],\n",
    "                                       predictions_dict['predictions'],\n",
    "                                       predictions_dict['targets'])), columns = columns)"
   ]
  },
  {
   "cell_type": "code",
   "execution_count": 29,
   "metadata": {},
   "outputs": [
    {
     "data": {
      "text/html": [
       "<div>\n",
       "<style scoped>\n",
       "    .dataframe tbody tr th:only-of-type {\n",
       "        vertical-align: middle;\n",
       "    }\n",
       "\n",
       "    .dataframe tbody tr th {\n",
       "        vertical-align: top;\n",
       "    }\n",
       "\n",
       "    .dataframe thead th {\n",
       "        text-align: right;\n",
       "    }\n",
       "</style>\n",
       "<table border=\"1\" class=\"dataframe\">\n",
       "  <thead>\n",
       "    <tr style=\"text-align: right;\">\n",
       "      <th></th>\n",
       "      <th>model_id</th>\n",
       "      <th>dataset</th>\n",
       "      <th>string_timestamp</th>\n",
       "      <th>prediction</th>\n",
       "      <th>target</th>\n",
       "    </tr>\n",
       "  </thead>\n",
       "  <tbody>\n",
       "    <tr>\n",
       "      <th>0</th>\n",
       "      <td>DMSLSTM_TPU_70_00</td>\n",
       "      <td>test</td>\n",
       "      <td>2018-02-23 14:00:00</td>\n",
       "      <td>8.744109</td>\n",
       "      <td>6.213650</td>\n",
       "    </tr>\n",
       "    <tr>\n",
       "      <th>1</th>\n",
       "      <td>DMSLSTM_TPU_70_00</td>\n",
       "      <td>test</td>\n",
       "      <td>2018-02-23 15:00:00</td>\n",
       "      <td>8.350501</td>\n",
       "      <td>8.161867</td>\n",
       "    </tr>\n",
       "    <tr>\n",
       "      <th>2</th>\n",
       "      <td>DMSLSTM_TPU_70_00</td>\n",
       "      <td>test</td>\n",
       "      <td>2018-02-23 16:00:00</td>\n",
       "      <td>8.017948</td>\n",
       "      <td>6.752000</td>\n",
       "    </tr>\n",
       "    <tr>\n",
       "      <th>3</th>\n",
       "      <td>DMSLSTM_TPU_70_00</td>\n",
       "      <td>test</td>\n",
       "      <td>2018-02-23 17:00:00</td>\n",
       "      <td>4.895577</td>\n",
       "      <td>5.244833</td>\n",
       "    </tr>\n",
       "    <tr>\n",
       "      <th>4</th>\n",
       "      <td>DMSLSTM_TPU_70_00</td>\n",
       "      <td>test</td>\n",
       "      <td>2018-02-23 18:00:00</td>\n",
       "      <td>6.951962</td>\n",
       "      <td>7.247250</td>\n",
       "    </tr>\n",
       "    <tr>\n",
       "      <th>...</th>\n",
       "      <td>...</td>\n",
       "      <td>...</td>\n",
       "      <td>...</td>\n",
       "      <td>...</td>\n",
       "      <td>...</td>\n",
       "    </tr>\n",
       "    <tr>\n",
       "      <th>125</th>\n",
       "      <td>DMSLSTM_TPU_70_00</td>\n",
       "      <td>test</td>\n",
       "      <td>2018-02-28 19:00:00</td>\n",
       "      <td>8.483326</td>\n",
       "      <td>9.289534</td>\n",
       "    </tr>\n",
       "    <tr>\n",
       "      <th>126</th>\n",
       "      <td>DMSLSTM_TPU_70_00</td>\n",
       "      <td>test</td>\n",
       "      <td>2018-02-28 20:00:00</td>\n",
       "      <td>8.870011</td>\n",
       "      <td>9.598534</td>\n",
       "    </tr>\n",
       "    <tr>\n",
       "      <th>127</th>\n",
       "      <td>DMSLSTM_TPU_70_00</td>\n",
       "      <td>test</td>\n",
       "      <td>2018-02-28 21:00:00</td>\n",
       "      <td>8.932780</td>\n",
       "      <td>6.592383</td>\n",
       "    </tr>\n",
       "    <tr>\n",
       "      <th>128</th>\n",
       "      <td>DMSLSTM_TPU_70_00</td>\n",
       "      <td>test</td>\n",
       "      <td>2018-02-28 22:00:00</td>\n",
       "      <td>5.522929</td>\n",
       "      <td>6.462183</td>\n",
       "    </tr>\n",
       "    <tr>\n",
       "      <th>129</th>\n",
       "      <td>DMSLSTM_TPU_70_00</td>\n",
       "      <td>test</td>\n",
       "      <td>2018-02-28 23:00:00</td>\n",
       "      <td>3.378306</td>\n",
       "      <td>3.636467</td>\n",
       "    </tr>\n",
       "  </tbody>\n",
       "</table>\n",
       "<p>130 rows × 5 columns</p>\n",
       "</div>"
      ],
      "text/plain": [
       "              model_id dataset     string_timestamp  prediction    target\n",
       "0    DMSLSTM_TPU_70_00    test  2018-02-23 14:00:00    8.744109  6.213650\n",
       "1    DMSLSTM_TPU_70_00    test  2018-02-23 15:00:00    8.350501  8.161867\n",
       "2    DMSLSTM_TPU_70_00    test  2018-02-23 16:00:00    8.017948  6.752000\n",
       "3    DMSLSTM_TPU_70_00    test  2018-02-23 17:00:00    4.895577  5.244833\n",
       "4    DMSLSTM_TPU_70_00    test  2018-02-23 18:00:00    6.951962  7.247250\n",
       "..                 ...     ...                  ...         ...       ...\n",
       "125  DMSLSTM_TPU_70_00    test  2018-02-28 19:00:00    8.483326  9.289534\n",
       "126  DMSLSTM_TPU_70_00    test  2018-02-28 20:00:00    8.870011  9.598534\n",
       "127  DMSLSTM_TPU_70_00    test  2018-02-28 21:00:00    8.932780  6.592383\n",
       "128  DMSLSTM_TPU_70_00    test  2018-02-28 22:00:00    5.522929  6.462183\n",
       "129  DMSLSTM_TPU_70_00    test  2018-02-28 23:00:00    3.378306  3.636467\n",
       "\n",
       "[130 rows x 5 columns]"
      ]
     },
     "execution_count": 29,
     "metadata": {},
     "output_type": "execute_result"
    }
   ],
   "source": [
    "predictions_df"
   ]
  },
  {
   "cell_type": "code",
   "execution_count": 30,
   "metadata": {},
   "outputs": [],
   "source": [
    "# build a path to persist the dataframe to database/\n",
    "# /home/developer/gcp/cbidmltsf/database/predictions/DMSLSTM_TPU_10_00_on_test_tfrecord.pkl"
   ]
  },
  {
   "cell_type": "code",
   "execution_count": 32,
   "metadata": {},
   "outputs": [],
   "source": [
    "pickle_path = '/home/developer/gcp/cbidmltsf/database/predictions/{}_on_{}_tfrecord.pkl'.format(model_id, dataset)"
   ]
  },
  {
   "cell_type": "code",
   "execution_count": 34,
   "metadata": {},
   "outputs": [],
   "source": [
    "# persist the Pandas dataframe to database/\n",
    "predictions_df.to_pickle(pickle_path)"
   ]
  },
  {
   "cell_type": "code",
   "execution_count": 36,
   "metadata": {},
   "outputs": [],
   "source": [
    "# verify the persisted dataframe\n",
    "df = pd.read_pickle(pickle_path)"
   ]
  },
  {
   "cell_type": "code",
   "execution_count": 37,
   "metadata": {},
   "outputs": [
    {
     "data": {
      "text/html": [
       "<div>\n",
       "<style scoped>\n",
       "    .dataframe tbody tr th:only-of-type {\n",
       "        vertical-align: middle;\n",
       "    }\n",
       "\n",
       "    .dataframe tbody tr th {\n",
       "        vertical-align: top;\n",
       "    }\n",
       "\n",
       "    .dataframe thead th {\n",
       "        text-align: right;\n",
       "    }\n",
       "</style>\n",
       "<table border=\"1\" class=\"dataframe\">\n",
       "  <thead>\n",
       "    <tr style=\"text-align: right;\">\n",
       "      <th></th>\n",
       "      <th>model_id</th>\n",
       "      <th>dataset</th>\n",
       "      <th>string_timestamp</th>\n",
       "      <th>prediction</th>\n",
       "      <th>target</th>\n",
       "    </tr>\n",
       "  </thead>\n",
       "  <tbody>\n",
       "    <tr>\n",
       "      <th>0</th>\n",
       "      <td>DMSLSTM_TPU_70_00</td>\n",
       "      <td>test</td>\n",
       "      <td>2018-02-23 14:00:00</td>\n",
       "      <td>8.744109</td>\n",
       "      <td>6.213650</td>\n",
       "    </tr>\n",
       "    <tr>\n",
       "      <th>1</th>\n",
       "      <td>DMSLSTM_TPU_70_00</td>\n",
       "      <td>test</td>\n",
       "      <td>2018-02-23 15:00:00</td>\n",
       "      <td>8.350501</td>\n",
       "      <td>8.161867</td>\n",
       "    </tr>\n",
       "    <tr>\n",
       "      <th>2</th>\n",
       "      <td>DMSLSTM_TPU_70_00</td>\n",
       "      <td>test</td>\n",
       "      <td>2018-02-23 16:00:00</td>\n",
       "      <td>8.017948</td>\n",
       "      <td>6.752000</td>\n",
       "    </tr>\n",
       "    <tr>\n",
       "      <th>3</th>\n",
       "      <td>DMSLSTM_TPU_70_00</td>\n",
       "      <td>test</td>\n",
       "      <td>2018-02-23 17:00:00</td>\n",
       "      <td>4.895577</td>\n",
       "      <td>5.244833</td>\n",
       "    </tr>\n",
       "    <tr>\n",
       "      <th>4</th>\n",
       "      <td>DMSLSTM_TPU_70_00</td>\n",
       "      <td>test</td>\n",
       "      <td>2018-02-23 18:00:00</td>\n",
       "      <td>6.951962</td>\n",
       "      <td>7.247250</td>\n",
       "    </tr>\n",
       "    <tr>\n",
       "      <th>...</th>\n",
       "      <td>...</td>\n",
       "      <td>...</td>\n",
       "      <td>...</td>\n",
       "      <td>...</td>\n",
       "      <td>...</td>\n",
       "    </tr>\n",
       "    <tr>\n",
       "      <th>125</th>\n",
       "      <td>DMSLSTM_TPU_70_00</td>\n",
       "      <td>test</td>\n",
       "      <td>2018-02-28 19:00:00</td>\n",
       "      <td>8.483326</td>\n",
       "      <td>9.289534</td>\n",
       "    </tr>\n",
       "    <tr>\n",
       "      <th>126</th>\n",
       "      <td>DMSLSTM_TPU_70_00</td>\n",
       "      <td>test</td>\n",
       "      <td>2018-02-28 20:00:00</td>\n",
       "      <td>8.870011</td>\n",
       "      <td>9.598534</td>\n",
       "    </tr>\n",
       "    <tr>\n",
       "      <th>127</th>\n",
       "      <td>DMSLSTM_TPU_70_00</td>\n",
       "      <td>test</td>\n",
       "      <td>2018-02-28 21:00:00</td>\n",
       "      <td>8.932780</td>\n",
       "      <td>6.592383</td>\n",
       "    </tr>\n",
       "    <tr>\n",
       "      <th>128</th>\n",
       "      <td>DMSLSTM_TPU_70_00</td>\n",
       "      <td>test</td>\n",
       "      <td>2018-02-28 22:00:00</td>\n",
       "      <td>5.522929</td>\n",
       "      <td>6.462183</td>\n",
       "    </tr>\n",
       "    <tr>\n",
       "      <th>129</th>\n",
       "      <td>DMSLSTM_TPU_70_00</td>\n",
       "      <td>test</td>\n",
       "      <td>2018-02-28 23:00:00</td>\n",
       "      <td>3.378306</td>\n",
       "      <td>3.636467</td>\n",
       "    </tr>\n",
       "  </tbody>\n",
       "</table>\n",
       "<p>130 rows × 5 columns</p>\n",
       "</div>"
      ],
      "text/plain": [
       "              model_id dataset     string_timestamp  prediction    target\n",
       "0    DMSLSTM_TPU_70_00    test  2018-02-23 14:00:00    8.744109  6.213650\n",
       "1    DMSLSTM_TPU_70_00    test  2018-02-23 15:00:00    8.350501  8.161867\n",
       "2    DMSLSTM_TPU_70_00    test  2018-02-23 16:00:00    8.017948  6.752000\n",
       "3    DMSLSTM_TPU_70_00    test  2018-02-23 17:00:00    4.895577  5.244833\n",
       "4    DMSLSTM_TPU_70_00    test  2018-02-23 18:00:00    6.951962  7.247250\n",
       "..                 ...     ...                  ...         ...       ...\n",
       "125  DMSLSTM_TPU_70_00    test  2018-02-28 19:00:00    8.483326  9.289534\n",
       "126  DMSLSTM_TPU_70_00    test  2018-02-28 20:00:00    8.870011  9.598534\n",
       "127  DMSLSTM_TPU_70_00    test  2018-02-28 21:00:00    8.932780  6.592383\n",
       "128  DMSLSTM_TPU_70_00    test  2018-02-28 22:00:00    5.522929  6.462183\n",
       "129  DMSLSTM_TPU_70_00    test  2018-02-28 23:00:00    3.378306  3.636467\n",
       "\n",
       "[130 rows x 5 columns]"
      ]
     },
     "execution_count": 37,
     "metadata": {},
     "output_type": "execute_result"
    }
   ],
   "source": [
    "df"
   ]
  },
  {
   "cell_type": "code",
   "execution_count": 38,
   "metadata": {},
   "outputs": [],
   "source": [
    "# now make a script from the previous code"
   ]
  }
 ],
 "metadata": {
  "kernelspec": {
   "display_name": "Python 3",
   "language": "python",
   "name": "python3"
  },
  "language_info": {
   "codemirror_mode": {
    "name": "ipython",
    "version": 3
   },
   "file_extension": ".py",
   "mimetype": "text/x-python",
   "name": "python",
   "nbconvert_exporter": "python",
   "pygments_lexer": "ipython3",
   "version": "3.7.6"
  }
 },
 "nbformat": 4,
 "nbformat_minor": 4
}

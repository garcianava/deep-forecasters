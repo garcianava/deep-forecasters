{
 "cells": [
  {
   "cell_type": "code",
   "execution_count": 1,
   "metadata": {},
   "outputs": [],
   "source": [
    "# Notebook for iterative inference (multi-step) on ARTRFDC models"
   ]
  },
  {
   "cell_type": "code",
   "execution_count": 2,
   "metadata": {},
   "outputs": [],
   "source": [
    "import os\n",
    "import json\n",
    "import numpy as np\n",
    "import pandas as pd\n",
    "import joblib\n",
    "from datetime import datetime\n",
    "from math import sqrt\n",
    "from sklearn.metrics import mean_squared_error, mean_absolute_error\n",
    "\n",
    "# uncomment the following line for compatibility with TensorFlow 1.15 (on GCP)\n",
    "# import tensorflow.compat.v1 as tf\n",
    "# uncomment the following line for TensorFlow 2.X (local execution)\n",
    "import tensorflow as tf\n",
    "\n",
    "# forecast model was saved in TensorFlow 1.15\n",
    "# but, in order to make predictions locally, has to be loaded with TensorFlow 2\n",
    "from tensorflow.saved_model import load"
   ]
  },
  {
   "cell_type": "code",
   "execution_count": 3,
   "metadata": {},
   "outputs": [
    {
     "data": {
      "text/html": [
       "\n",
       "    <div class=\"bk-root\">\n",
       "        <a href=\"https://bokeh.org\" target=\"_blank\" class=\"bk-logo bk-logo-small bk-logo-notebook\"></a>\n",
       "        <span id=\"1001\">Loading BokehJS ...</span>\n",
       "    </div>"
      ]
     },
     "metadata": {},
     "output_type": "display_data"
    },
    {
     "data": {
      "application/javascript": [
       "\n",
       "(function(root) {\n",
       "  function now() {\n",
       "    return new Date();\n",
       "  }\n",
       "\n",
       "  var force = true;\n",
       "\n",
       "  if (typeof root._bokeh_onload_callbacks === \"undefined\" || force === true) {\n",
       "    root._bokeh_onload_callbacks = [];\n",
       "    root._bokeh_is_loading = undefined;\n",
       "  }\n",
       "\n",
       "  var JS_MIME_TYPE = 'application/javascript';\n",
       "  var HTML_MIME_TYPE = 'text/html';\n",
       "  var EXEC_MIME_TYPE = 'application/vnd.bokehjs_exec.v0+json';\n",
       "  var CLASS_NAME = 'output_bokeh rendered_html';\n",
       "\n",
       "  /**\n",
       "   * Render data to the DOM node\n",
       "   */\n",
       "  function render(props, node) {\n",
       "    var script = document.createElement(\"script\");\n",
       "    node.appendChild(script);\n",
       "  }\n",
       "\n",
       "  /**\n",
       "   * Handle when an output is cleared or removed\n",
       "   */\n",
       "  function handleClearOutput(event, handle) {\n",
       "    var cell = handle.cell;\n",
       "\n",
       "    var id = cell.output_area._bokeh_element_id;\n",
       "    var server_id = cell.output_area._bokeh_server_id;\n",
       "    // Clean up Bokeh references\n",
       "    if (id != null && id in Bokeh.index) {\n",
       "      Bokeh.index[id].model.document.clear();\n",
       "      delete Bokeh.index[id];\n",
       "    }\n",
       "\n",
       "    if (server_id !== undefined) {\n",
       "      // Clean up Bokeh references\n",
       "      var cmd = \"from bokeh.io.state import curstate; print(curstate().uuid_to_server['\" + server_id + \"'].get_sessions()[0].document.roots[0]._id)\";\n",
       "      cell.notebook.kernel.execute(cmd, {\n",
       "        iopub: {\n",
       "          output: function(msg) {\n",
       "            var id = msg.content.text.trim();\n",
       "            if (id in Bokeh.index) {\n",
       "              Bokeh.index[id].model.document.clear();\n",
       "              delete Bokeh.index[id];\n",
       "            }\n",
       "          }\n",
       "        }\n",
       "      });\n",
       "      // Destroy server and session\n",
       "      var cmd = \"import bokeh.io.notebook as ion; ion.destroy_server('\" + server_id + \"')\";\n",
       "      cell.notebook.kernel.execute(cmd);\n",
       "    }\n",
       "  }\n",
       "\n",
       "  /**\n",
       "   * Handle when a new output is added\n",
       "   */\n",
       "  function handleAddOutput(event, handle) {\n",
       "    var output_area = handle.output_area;\n",
       "    var output = handle.output;\n",
       "\n",
       "    // limit handleAddOutput to display_data with EXEC_MIME_TYPE content only\n",
       "    if ((output.output_type != \"display_data\") || (!output.data.hasOwnProperty(EXEC_MIME_TYPE))) {\n",
       "      return\n",
       "    }\n",
       "\n",
       "    var toinsert = output_area.element.find(\".\" + CLASS_NAME.split(' ')[0]);\n",
       "\n",
       "    if (output.metadata[EXEC_MIME_TYPE][\"id\"] !== undefined) {\n",
       "      toinsert[toinsert.length - 1].firstChild.textContent = output.data[JS_MIME_TYPE];\n",
       "      // store reference to embed id on output_area\n",
       "      output_area._bokeh_element_id = output.metadata[EXEC_MIME_TYPE][\"id\"];\n",
       "    }\n",
       "    if (output.metadata[EXEC_MIME_TYPE][\"server_id\"] !== undefined) {\n",
       "      var bk_div = document.createElement(\"div\");\n",
       "      bk_div.innerHTML = output.data[HTML_MIME_TYPE];\n",
       "      var script_attrs = bk_div.children[0].attributes;\n",
       "      for (var i = 0; i < script_attrs.length; i++) {\n",
       "        toinsert[toinsert.length - 1].firstChild.setAttribute(script_attrs[i].name, script_attrs[i].value);\n",
       "      }\n",
       "      // store reference to server id on output_area\n",
       "      output_area._bokeh_server_id = output.metadata[EXEC_MIME_TYPE][\"server_id\"];\n",
       "    }\n",
       "  }\n",
       "\n",
       "  function register_renderer(events, OutputArea) {\n",
       "\n",
       "    function append_mime(data, metadata, element) {\n",
       "      // create a DOM node to render to\n",
       "      var toinsert = this.create_output_subarea(\n",
       "        metadata,\n",
       "        CLASS_NAME,\n",
       "        EXEC_MIME_TYPE\n",
       "      );\n",
       "      this.keyboard_manager.register_events(toinsert);\n",
       "      // Render to node\n",
       "      var props = {data: data, metadata: metadata[EXEC_MIME_TYPE]};\n",
       "      render(props, toinsert[toinsert.length - 1]);\n",
       "      element.append(toinsert);\n",
       "      return toinsert\n",
       "    }\n",
       "\n",
       "    /* Handle when an output is cleared or removed */\n",
       "    events.on('clear_output.CodeCell', handleClearOutput);\n",
       "    events.on('delete.Cell', handleClearOutput);\n",
       "\n",
       "    /* Handle when a new output is added */\n",
       "    events.on('output_added.OutputArea', handleAddOutput);\n",
       "\n",
       "    /**\n",
       "     * Register the mime type and append_mime function with output_area\n",
       "     */\n",
       "    OutputArea.prototype.register_mime_type(EXEC_MIME_TYPE, append_mime, {\n",
       "      /* Is output safe? */\n",
       "      safe: true,\n",
       "      /* Index of renderer in `output_area.display_order` */\n",
       "      index: 0\n",
       "    });\n",
       "  }\n",
       "\n",
       "  // register the mime type if in Jupyter Notebook environment and previously unregistered\n",
       "  if (root.Jupyter !== undefined) {\n",
       "    var events = require('base/js/events');\n",
       "    var OutputArea = require('notebook/js/outputarea').OutputArea;\n",
       "\n",
       "    if (OutputArea.prototype.mime_types().indexOf(EXEC_MIME_TYPE) == -1) {\n",
       "      register_renderer(events, OutputArea);\n",
       "    }\n",
       "  }\n",
       "\n",
       "  \n",
       "  if (typeof (root._bokeh_timeout) === \"undefined\" || force === true) {\n",
       "    root._bokeh_timeout = Date.now() + 5000;\n",
       "    root._bokeh_failed_load = false;\n",
       "  }\n",
       "\n",
       "  var NB_LOAD_WARNING = {'data': {'text/html':\n",
       "     \"<div style='background-color: #fdd'>\\n\"+\n",
       "     \"<p>\\n\"+\n",
       "     \"BokehJS does not appear to have successfully loaded. If loading BokehJS from CDN, this \\n\"+\n",
       "     \"may be due to a slow or bad network connection. Possible fixes:\\n\"+\n",
       "     \"</p>\\n\"+\n",
       "     \"<ul>\\n\"+\n",
       "     \"<li>re-rerun `output_notebook()` to attempt to load from CDN again, or</li>\\n\"+\n",
       "     \"<li>use INLINE resources instead, as so:</li>\\n\"+\n",
       "     \"</ul>\\n\"+\n",
       "     \"<code>\\n\"+\n",
       "     \"from bokeh.resources import INLINE\\n\"+\n",
       "     \"output_notebook(resources=INLINE)\\n\"+\n",
       "     \"</code>\\n\"+\n",
       "     \"</div>\"}};\n",
       "\n",
       "  function display_loaded() {\n",
       "    var el = document.getElementById(\"1001\");\n",
       "    if (el != null) {\n",
       "      el.textContent = \"BokehJS is loading...\";\n",
       "    }\n",
       "    if (root.Bokeh !== undefined) {\n",
       "      if (el != null) {\n",
       "        el.textContent = \"BokehJS \" + root.Bokeh.version + \" successfully loaded.\";\n",
       "      }\n",
       "    } else if (Date.now() < root._bokeh_timeout) {\n",
       "      setTimeout(display_loaded, 100)\n",
       "    }\n",
       "  }\n",
       "\n",
       "\n",
       "  function run_callbacks() {\n",
       "    try {\n",
       "      root._bokeh_onload_callbacks.forEach(function(callback) {\n",
       "        if (callback != null)\n",
       "          callback();\n",
       "      });\n",
       "    } finally {\n",
       "      delete root._bokeh_onload_callbacks\n",
       "    }\n",
       "    console.debug(\"Bokeh: all callbacks have finished\");\n",
       "  }\n",
       "\n",
       "  function load_libs(css_urls, js_urls, callback) {\n",
       "    if (css_urls == null) css_urls = [];\n",
       "    if (js_urls == null) js_urls = [];\n",
       "\n",
       "    root._bokeh_onload_callbacks.push(callback);\n",
       "    if (root._bokeh_is_loading > 0) {\n",
       "      console.debug(\"Bokeh: BokehJS is being loaded, scheduling callback at\", now());\n",
       "      return null;\n",
       "    }\n",
       "    if (js_urls == null || js_urls.length === 0) {\n",
       "      run_callbacks();\n",
       "      return null;\n",
       "    }\n",
       "    console.debug(\"Bokeh: BokehJS not loaded, scheduling load and callback at\", now());\n",
       "    root._bokeh_is_loading = css_urls.length + js_urls.length;\n",
       "\n",
       "    function on_load() {\n",
       "      root._bokeh_is_loading--;\n",
       "      if (root._bokeh_is_loading === 0) {\n",
       "        console.debug(\"Bokeh: all BokehJS libraries/stylesheets loaded\");\n",
       "        run_callbacks()\n",
       "      }\n",
       "    }\n",
       "\n",
       "    function on_error() {\n",
       "      console.error(\"failed to load \" + url);\n",
       "    }\n",
       "\n",
       "    for (var i = 0; i < css_urls.length; i++) {\n",
       "      var url = css_urls[i];\n",
       "      const element = document.createElement(\"link\");\n",
       "      element.onload = on_load;\n",
       "      element.onerror = on_error;\n",
       "      element.rel = \"stylesheet\";\n",
       "      element.type = \"text/css\";\n",
       "      element.href = url;\n",
       "      console.debug(\"Bokeh: injecting link tag for BokehJS stylesheet: \", url);\n",
       "      document.body.appendChild(element);\n",
       "    }\n",
       "\n",
       "    for (var i = 0; i < js_urls.length; i++) {\n",
       "      var url = js_urls[i];\n",
       "      var element = document.createElement('script');\n",
       "      element.onload = on_load;\n",
       "      element.onerror = on_error;\n",
       "      element.async = false;\n",
       "      element.src = url;\n",
       "      console.debug(\"Bokeh: injecting script tag for BokehJS library: \", url);\n",
       "      document.head.appendChild(element);\n",
       "    }\n",
       "  };var element = document.getElementById(\"1001\");\n",
       "  if (element == null) {\n",
       "    console.error(\"Bokeh: ERROR: autoload.js configured with elementid '1001' but no matching script tag was found. \")\n",
       "    return false;\n",
       "  }\n",
       "\n",
       "  function inject_raw_css(css) {\n",
       "    const element = document.createElement(\"style\");\n",
       "    element.appendChild(document.createTextNode(css));\n",
       "    document.body.appendChild(element);\n",
       "  }\n",
       "\n",
       "  \n",
       "  var js_urls = [\"https://cdn.pydata.org/bokeh/release/bokeh-1.4.0.min.js\", \"https://cdn.pydata.org/bokeh/release/bokeh-widgets-1.4.0.min.js\", \"https://cdn.pydata.org/bokeh/release/bokeh-tables-1.4.0.min.js\", \"https://cdn.pydata.org/bokeh/release/bokeh-gl-1.4.0.min.js\"];\n",
       "  var css_urls = [];\n",
       "  \n",
       "\n",
       "  var inline_js = [\n",
       "    function(Bokeh) {\n",
       "      Bokeh.set_log_level(\"info\");\n",
       "    },\n",
       "    function(Bokeh) {\n",
       "    \n",
       "    \n",
       "    }\n",
       "  ];\n",
       "\n",
       "  function run_inline_js() {\n",
       "    \n",
       "    if (root.Bokeh !== undefined || force === true) {\n",
       "      \n",
       "    for (var i = 0; i < inline_js.length; i++) {\n",
       "      inline_js[i].call(root, root.Bokeh);\n",
       "    }\n",
       "    if (force === true) {\n",
       "        display_loaded();\n",
       "      }} else if (Date.now() < root._bokeh_timeout) {\n",
       "      setTimeout(run_inline_js, 100);\n",
       "    } else if (!root._bokeh_failed_load) {\n",
       "      console.log(\"Bokeh: BokehJS failed to load within specified timeout.\");\n",
       "      root._bokeh_failed_load = true;\n",
       "    } else if (force !== true) {\n",
       "      var cell = $(document.getElementById(\"1001\")).parents('.cell').data().cell;\n",
       "      cell.output_area.append_execute_result(NB_LOAD_WARNING)\n",
       "    }\n",
       "\n",
       "  }\n",
       "\n",
       "  if (root._bokeh_is_loading === 0) {\n",
       "    console.debug(\"Bokeh: BokehJS loaded, going straight to plotting\");\n",
       "    run_inline_js();\n",
       "  } else {\n",
       "    load_libs(css_urls, js_urls, function() {\n",
       "      console.debug(\"Bokeh: BokehJS plotting callback run at\", now());\n",
       "      run_inline_js();\n",
       "    });\n",
       "  }\n",
       "}(window));"
      ],
      "application/vnd.bokehjs_load.v0+json": "\n(function(root) {\n  function now() {\n    return new Date();\n  }\n\n  var force = true;\n\n  if (typeof root._bokeh_onload_callbacks === \"undefined\" || force === true) {\n    root._bokeh_onload_callbacks = [];\n    root._bokeh_is_loading = undefined;\n  }\n\n  \n\n  \n  if (typeof (root._bokeh_timeout) === \"undefined\" || force === true) {\n    root._bokeh_timeout = Date.now() + 5000;\n    root._bokeh_failed_load = false;\n  }\n\n  var NB_LOAD_WARNING = {'data': {'text/html':\n     \"<div style='background-color: #fdd'>\\n\"+\n     \"<p>\\n\"+\n     \"BokehJS does not appear to have successfully loaded. If loading BokehJS from CDN, this \\n\"+\n     \"may be due to a slow or bad network connection. Possible fixes:\\n\"+\n     \"</p>\\n\"+\n     \"<ul>\\n\"+\n     \"<li>re-rerun `output_notebook()` to attempt to load from CDN again, or</li>\\n\"+\n     \"<li>use INLINE resources instead, as so:</li>\\n\"+\n     \"</ul>\\n\"+\n     \"<code>\\n\"+\n     \"from bokeh.resources import INLINE\\n\"+\n     \"output_notebook(resources=INLINE)\\n\"+\n     \"</code>\\n\"+\n     \"</div>\"}};\n\n  function display_loaded() {\n    var el = document.getElementById(\"1001\");\n    if (el != null) {\n      el.textContent = \"BokehJS is loading...\";\n    }\n    if (root.Bokeh !== undefined) {\n      if (el != null) {\n        el.textContent = \"BokehJS \" + root.Bokeh.version + \" successfully loaded.\";\n      }\n    } else if (Date.now() < root._bokeh_timeout) {\n      setTimeout(display_loaded, 100)\n    }\n  }\n\n\n  function run_callbacks() {\n    try {\n      root._bokeh_onload_callbacks.forEach(function(callback) {\n        if (callback != null)\n          callback();\n      });\n    } finally {\n      delete root._bokeh_onload_callbacks\n    }\n    console.debug(\"Bokeh: all callbacks have finished\");\n  }\n\n  function load_libs(css_urls, js_urls, callback) {\n    if (css_urls == null) css_urls = [];\n    if (js_urls == null) js_urls = [];\n\n    root._bokeh_onload_callbacks.push(callback);\n    if (root._bokeh_is_loading > 0) {\n      console.debug(\"Bokeh: BokehJS is being loaded, scheduling callback at\", now());\n      return null;\n    }\n    if (js_urls == null || js_urls.length === 0) {\n      run_callbacks();\n      return null;\n    }\n    console.debug(\"Bokeh: BokehJS not loaded, scheduling load and callback at\", now());\n    root._bokeh_is_loading = css_urls.length + js_urls.length;\n\n    function on_load() {\n      root._bokeh_is_loading--;\n      if (root._bokeh_is_loading === 0) {\n        console.debug(\"Bokeh: all BokehJS libraries/stylesheets loaded\");\n        run_callbacks()\n      }\n    }\n\n    function on_error() {\n      console.error(\"failed to load \" + url);\n    }\n\n    for (var i = 0; i < css_urls.length; i++) {\n      var url = css_urls[i];\n      const element = document.createElement(\"link\");\n      element.onload = on_load;\n      element.onerror = on_error;\n      element.rel = \"stylesheet\";\n      element.type = \"text/css\";\n      element.href = url;\n      console.debug(\"Bokeh: injecting link tag for BokehJS stylesheet: \", url);\n      document.body.appendChild(element);\n    }\n\n    for (var i = 0; i < js_urls.length; i++) {\n      var url = js_urls[i];\n      var element = document.createElement('script');\n      element.onload = on_load;\n      element.onerror = on_error;\n      element.async = false;\n      element.src = url;\n      console.debug(\"Bokeh: injecting script tag for BokehJS library: \", url);\n      document.head.appendChild(element);\n    }\n  };var element = document.getElementById(\"1001\");\n  if (element == null) {\n    console.error(\"Bokeh: ERROR: autoload.js configured with elementid '1001' but no matching script tag was found. \")\n    return false;\n  }\n\n  function inject_raw_css(css) {\n    const element = document.createElement(\"style\");\n    element.appendChild(document.createTextNode(css));\n    document.body.appendChild(element);\n  }\n\n  \n  var js_urls = [\"https://cdn.pydata.org/bokeh/release/bokeh-1.4.0.min.js\", \"https://cdn.pydata.org/bokeh/release/bokeh-widgets-1.4.0.min.js\", \"https://cdn.pydata.org/bokeh/release/bokeh-tables-1.4.0.min.js\", \"https://cdn.pydata.org/bokeh/release/bokeh-gl-1.4.0.min.js\"];\n  var css_urls = [];\n  \n\n  var inline_js = [\n    function(Bokeh) {\n      Bokeh.set_log_level(\"info\");\n    },\n    function(Bokeh) {\n    \n    \n    }\n  ];\n\n  function run_inline_js() {\n    \n    if (root.Bokeh !== undefined || force === true) {\n      \n    for (var i = 0; i < inline_js.length; i++) {\n      inline_js[i].call(root, root.Bokeh);\n    }\n    if (force === true) {\n        display_loaded();\n      }} else if (Date.now() < root._bokeh_timeout) {\n      setTimeout(run_inline_js, 100);\n    } else if (!root._bokeh_failed_load) {\n      console.log(\"Bokeh: BokehJS failed to load within specified timeout.\");\n      root._bokeh_failed_load = true;\n    } else if (force !== true) {\n      var cell = $(document.getElementById(\"1001\")).parents('.cell').data().cell;\n      cell.output_area.append_execute_result(NB_LOAD_WARNING)\n    }\n\n  }\n\n  if (root._bokeh_is_loading === 0) {\n    console.debug(\"Bokeh: BokehJS loaded, going straight to plotting\");\n    run_inline_js();\n  } else {\n    load_libs(css_urls, js_urls, function() {\n      console.debug(\"Bokeh: BokehJS plotting callback run at\", now());\n      run_inline_js();\n    });\n  }\n}(window));"
     },
     "metadata": {},
     "output_type": "display_data"
    }
   ],
   "source": [
    "from bokeh.plotting import figure, show, output_file, save\n",
    "from bokeh.io import output_notebook\n",
    "# select a palette\n",
    "from bokeh.palettes import d3\n",
    "output_notebook()"
   ]
  },
  {
   "cell_type": "code",
   "execution_count": 4,
   "metadata": {},
   "outputs": [],
   "source": [
    "# symmetrical mean absolute percentage error\n",
    "def smape(targets, predictions):\n",
    "    '''\n",
    "    predictions: a list with the predicted values\n",
    "    targets: a list with the actual values\n",
    "    '''\n",
    "    import numpy as np\n",
    "    # lists to NumPy arrays\n",
    "    targets, predictions = np.array(targets), np.array(predictions)\n",
    "    # verify predictions and targets have the same shape\n",
    "    if predictions.shape == targets.shape:\n",
    "            return(np.sum(2*np.abs(predictions - targets) /\n",
    "                          (np.abs(targets) + np.abs(predictions)))/predictions.shape[0])"
   ]
  },
  {
   "cell_type": "code",
   "execution_count": 5,
   "metadata": {},
   "outputs": [],
   "source": [
    "# for iterative inference on an ARTRFDC model, all information in SLDB should be parsed\n",
    "# therefore this version of parsing function is different from the one in the train-eval loop\n",
    "def _parse_full_dataset_function(example_proto, objective_shapes):\n",
    "    # parse the input tf.Example proto using the dictionary above\n",
    "    row = tf.io.parse_single_example(example_proto, read_features)\n",
    "    \n",
    "    # pass objective shape as a list of lists\n",
    "    source = tf.reshape(row['source'].values, objective_shapes['source'])\n",
    "    target = tf.reshape(row['target'].values, objective_shapes['target'])\n",
    "    target_pos_encoding = tf.reshape(row['target_pos_encoding'].values, objective_shapes['target_pos_encoding'])\n",
    "    source_timestamp = tf.reshape(row['source_timestamp'].values, objective_shapes['source_timestamp'])\n",
    "    target_timestamp = tf.reshape(row['target_timestamp'].values, objective_shapes['target_timestamp'])\n",
    "\n",
    "\n",
    "    # the parsed dataset have now the shape {features}, {labels}\n",
    "    # so:\n",
    "    features_dict = {\n",
    "        'source': source,\n",
    "        'target_pos_encoding': target_pos_encoding,\n",
    "        'source_timestamp': source_timestamp,\n",
    "        'target_timestamp': target_timestamp\n",
    "    }\n",
    "        \n",
    "    # _parse_dataset_function returns:\n",
    "    # features_dict as model features\n",
    "    # target as model labels\n",
    "    return features_dict, target"
   ]
  },
  {
   "cell_type": "code",
   "execution_count": 6,
   "metadata": {},
   "outputs": [],
   "source": [
    "# a function to encode float values for serialized examples\n",
    "def _float_feature_from_list_of_values(list_of_values):\n",
    "    \"\"\"Returns a float_list from a list of floats / doubles.\"\"\"\n",
    "    return tf.train.Feature(float_list=tf.train.FloatList(value=list_of_values))"
   ]
  },
  {
   "cell_type": "code",
   "execution_count": 7,
   "metadata": {},
   "outputs": [],
   "source": [
    "def tensor_to_tensor_example(float_tensor):\n",
    "    # first, pass the float tensor to NumPy array, then flatten it\n",
    "    flat_array = float_tensor.numpy().flatten()\n",
    "    # second, build the protobuffer example\n",
    "    example = tf.train.Example(\n",
    "        # features within the example\n",
    "        features=tf.train.Features(\n",
    "            # individual feature definition\n",
    "            feature={'source': _float_feature_from_list_of_values(flat_array)}\n",
    "        )\n",
    "    )    \n",
    "    # third, serialize the example dictionary to a string\n",
    "    serialized_example = example.SerializeToString()\n",
    "    # fourth, wrap the serialized example as a NumPy-string array\n",
    "    numpy_example = np.array(serialized_example, dtype='S')\n",
    "    # fifth, wrap the NumPy-string array as a string tensor\n",
    "    tensor_example = tf.convert_to_tensor(numpy_example)\n",
    "\n",
    "    return tensor_example"
   ]
  },
  {
   "cell_type": "code",
   "execution_count": 9,
   "metadata": {},
   "outputs": [],
   "source": [
    "read_features = {\n",
    "    'source': tf.io.VarLenFeature(dtype=tf.float32),\n",
    "    'target': tf.io.VarLenFeature(dtype=tf.float32),\n",
    "    'target_pos_encoding': tf.io.VarLenFeature(dtype=tf.float32),\n",
    "    'source_timestamp': tf.io.VarLenFeature(dtype=tf.string),\n",
    "    'target_timestamp': tf.io.VarLenFeature(dtype=tf.string)\n",
    "}"
   ]
  },
  {
   "cell_type": "code",
   "execution_count": 10,
   "metadata": {},
   "outputs": [],
   "source": [
    "PROJECT_ROOT = '/home/developer/gcp/cbidmltsf'"
   ]
  },
  {
   "cell_type": "code",
   "execution_count": 11,
   "metadata": {},
   "outputs": [],
   "source": [
    "# during batch prediction, the model identifier is obtained via Abseil Flags\n",
    "# remember this notebook is based on local execution,\n",
    "# therefore model directory must be downloaded from GS before running the notebook\n",
    "model_id = 'ARTRFDC_TPU_001'\n",
    "\n",
    "# during batch prediction, the SLDB identifier is obtained via Abseil Flags\n",
    "# THE SLDB FOR INFERENCE MUST BE THE SAME USED FOR TRAINING! (THE ONE SETUP IN THE CONFIGURATION FILE)\n",
    "sldb_id = 'CPE04115_H_kw_20210526212214_ARTRFDC_168'\n",
    "\n",
    "# during batch prediction, the dataset name is obtained via Abseil Flags\n",
    "dataset = 'test'\n",
    "\n",
    "# define a forecast window to guide the iterative prediction process\n",
    "# start with a hourly, day-ahead process\n",
    "forecast_window = 24\n",
    "\n",
    "# ADD AN INFERENCE IDENTIFIER, BECAUSE FOR ARTRFDC MODELS, DIFFERENT INFERENCES\n",
    "# CAN BE PRODUCED FROM A SINGLE SAVED MODEL (USUALLY DIFFERENT FORECAST WINDOWS)\n",
    "# during batch prediction, the inference identifier should be obtained via Abseil Flags\n",
    "inference = '024'"
   ]
  },
  {
   "cell_type": "code",
   "execution_count": 12,
   "metadata": {},
   "outputs": [],
   "source": [
    "# build a path to the SLDB json file\n",
    "data_dir = '{}/{}/{}'.format(PROJECT_ROOT, 'sldbs', sldb_id)\n",
    "\n",
    "# then get the ts_identifier from the json file in the sldb directory\n",
    "sldb_json_file = '{}/sldb.json'.format(data_dir)"
   ]
  },
  {
   "cell_type": "code",
   "execution_count": 13,
   "metadata": {},
   "outputs": [],
   "source": [
    "# open the json file\n",
    "with open(sldb_json_file, 'r') as inputfile:\n",
    "    sldb_dict = json.load(inputfile)"
   ]
  },
  {
   "cell_type": "code",
   "execution_count": 14,
   "metadata": {},
   "outputs": [],
   "source": [
    "# and get the time series identifier\n",
    "ts_identifier = sldb_dict['ts']"
   ]
  },
  {
   "cell_type": "code",
   "execution_count": 15,
   "metadata": {},
   "outputs": [
    {
     "name": "stdout",
     "output_type": "stream",
     "text": [
      "Scaler on test dataset loaded for time series CPE04115_H_kw_20210526212214\n"
     ]
    }
   ],
   "source": [
    "# use the time series identifier to obtain the SK-Learn scaler used on it\n",
    "# get the scaler used to normalize the test dataset (unseen)\n",
    "scaler_test = joblib.load('{}/{}/{}/scaler_test.save'.format(PROJECT_ROOT,\n",
    "                                                             'timeseries',\n",
    "                                                             ts_identifier))\n",
    "\n",
    "print('Scaler on test dataset loaded for time series {}'.format(ts_identifier))"
   ]
  },
  {
   "cell_type": "code",
   "execution_count": 16,
   "metadata": {},
   "outputs": [],
   "source": [
    "# pass all the code to a single notebook cell, then to a function, later..."
   ]
  },
  {
   "cell_type": "code",
   "execution_count": 17,
   "metadata": {},
   "outputs": [],
   "source": [
    "# get the SLDB parameters for the forecasting model\n",
    "config_json_file = '{}/{}/{}.json'.format(PROJECT_ROOT,\n",
    "                                          'parameters',\n",
    "                                          model_id)\n",
    "\n",
    "# recover the sldb dictionary from the json file in parameters/\n",
    "with open(config_json_file, 'r') as inputfile:\n",
    "    configuration = json.load(inputfile)"
   ]
  },
  {
   "cell_type": "code",
   "execution_count": 18,
   "metadata": {},
   "outputs": [],
   "source": [
    "# store the objective shapes for reshaping tensors in a dictionary\n",
    "_EXTRACTING_OBJECTIVE_SHAPES = {\n",
    "    'source': [configuration['num_timesteps'], configuration['model_dimension']],\n",
    "    'target': [configuration['num_timesteps'], 1],\n",
    "    'target_pos_encoding': [configuration['num_timesteps'], 6],\n",
    "    'source_timestamp': [configuration['num_timesteps'], 1],\n",
    "    'target_timestamp': [configuration['num_timesteps'], 1]\n",
    "}"
   ]
  },
  {
   "cell_type": "code",
   "execution_count": 19,
   "metadata": {},
   "outputs": [],
   "source": [
    "# build a path to the dataset for prediction\n",
    "dataset_path = '{}/{}.tfrecord'.format(data_dir, dataset)\n",
    "\n",
    "# load the dataset\n",
    "tfrecord_dataset = tf.data.TFRecordDataset(dataset_path)"
   ]
  },
  {
   "cell_type": "code",
   "execution_count": 20,
   "metadata": {},
   "outputs": [],
   "source": [
    "# parse the test dataset from the TFRecord file\n",
    "# and use its features to produce predictions in a different way\n",
    "\n",
    "parsed_dataset = tfrecord_dataset.map(\n",
    "    lambda row: _parse_full_dataset_function(\n",
    "        example_proto=row,\n",
    "        objective_shapes=_EXTRACTING_OBJECTIVE_SHAPES\n",
    "    )\n",
    ")"
   ]
  },
  {
   "cell_type": "code",
   "execution_count": 21,
   "metadata": {},
   "outputs": [],
   "source": [
    "# build temporary lists to store source (features) and target (labels) tensors\n",
    "source_list = list()\n",
    "source_timestamp_list = list()\n",
    "\n",
    "target_list = list()\n",
    "target_pos_encoding_list = list()\n",
    "target_timestamp_list = list()\n",
    "\n",
    "# fill in the lists from the parsed dataset\n",
    "for element in parsed_dataset:\n",
    "    source_list.append(element[0]['source'])\n",
    "    # convert timestamps from bytes to strings to flat array to datetime\n",
    "    source_timestamp_list.append(pd.to_datetime(element[0]['source_timestamp'].numpy().astype(str).squeeze()))\n",
    "    \n",
    "    target_list.append(element[1])\n",
    "    target_pos_encoding_list.append(element[0]['target_pos_encoding'])\n",
    "    # convert timestamps from bytes to strings to flat array to datetime\n",
    "    target_timestamp_list.append(pd.to_datetime(element[0]['target_timestamp'].numpy().astype(str).squeeze()))\n",
    "\n",
    "# from the temporary lists, build NumPy arrays to feed the model\n",
    "source_array = np.array(source_list)\n",
    "source_timestamp_array = np.array(source_timestamp_list)\n",
    "\n",
    "target_array = np.array(target_list)\n",
    "target_pos_encoding_array = np.array(target_pos_encoding_list)\n",
    "target_timestamp_array = np.array(target_timestamp_list)"
   ]
  },
  {
   "cell_type": "code",
   "execution_count": 22,
   "metadata": {},
   "outputs": [],
   "source": [
    "# from now on, inferences for ARTRFDC are produced in a very different way\n",
    "# from the used for DMSLSTM or EDALSTM models (prediction process has to be iterative)"
   ]
  },
  {
   "cell_type": "code",
   "execution_count": 23,
   "metadata": {},
   "outputs": [],
   "source": [
    "# each predicted row is a sequence of n_timesteps values,\n",
    "# but only the first element in this sequence is used, as the first prediction,\n",
    "# then it is added (with its positional encoding) to the end of the input sequence\n",
    "# (first entry of the input sequence is discarded to keep tensor shape)\n",
    "# to get the second prediction, and so on up to the n_timesteps-th prediction,\n",
    "# which completes the n_timesteps prediction sequence (the forecast window)\n",
    "# that starts immediately after the source input sequence ends (in time dimension)"
   ]
  },
  {
   "cell_type": "code",
   "execution_count": 24,
   "metadata": {},
   "outputs": [],
   "source": [
    "# the iterative process for inference over the ARTRFDC saved model can be initiated now:\n",
    "# source feature (?, 168, 7) (values and pos encoding, unseen data) is on parsed_dataset[0]['source']\n",
    "# target feature (?, 168, 1) (values only, unseen data) is on parsed_dataset[1]\n",
    "\n",
    "# uncomment and run the following two cells to confirm that"
   ]
  },
  {
   "cell_type": "code",
   "execution_count": 25,
   "metadata": {},
   "outputs": [],
   "source": [
    "# now follow the inference process detailed in Klingenbrunn to:\n",
    "# predict over the forecast window,\n",
    "# calculate prediction error metrics, and\n",
    "# plot prediction results"
   ]
  },
  {
   "cell_type": "code",
   "execution_count": 26,
   "metadata": {},
   "outputs": [],
   "source": [
    "# ToDo: adjust previous code to new SLDB\n",
    "# target was [168, 7] and now is [168, 1]\n",
    "# while the missing features are now in target_pos_encoding [168, 6]"
   ]
  },
  {
   "cell_type": "code",
   "execution_count": 27,
   "metadata": {},
   "outputs": [
    {
     "name": "stdout",
     "output_type": "stream",
     "text": [
      "Given the current dataset and the number of timesteps in the input sequence,\n",
      "predictions can be made between row 0 and row 1871 of the source array.\n"
     ]
    }
   ],
   "source": [
    "# in the source array, the index of the last row that can be used\n",
    "# to build a forecast-window sized set of predictions\n",
    "max_row_index = len(source_list) - configuration['num_timesteps'] - 1\n",
    "\n",
    "print('Given the current dataset and the number of timesteps in the input sequence,')\n",
    "print('predictions can be made between row 0 and row {} of the source array.'.format(max_row_index))"
   ]
  },
  {
   "cell_type": "code",
   "execution_count": 28,
   "metadata": {},
   "outputs": [],
   "source": [
    "# the first source or input to the model is the first source row\n",
    "# that means, the true variable value, plus the six positional encodings for the timestamp\n",
    "# in the first row of the test dataset"
   ]
  },
  {
   "cell_type": "code",
   "execution_count": 29,
   "metadata": {},
   "outputs": [],
   "source": [
    "# uncomment the following line to get the source as a tensor with TensorShape([1, 168, 7])\n",
    "# source_tensor = tf.expand_dims(source_array[0, :, :], axis=0)"
   ]
  },
  {
   "cell_type": "code",
   "execution_count": 30,
   "metadata": {},
   "outputs": [],
   "source": [
    "# important, the inference cycle was coded for tensors, not for NumPy arrays\n",
    "# then use source and prediction tensors and translate to tensor examples from float tensors"
   ]
  },
  {
   "cell_type": "markdown",
   "metadata": {},
   "source": [
    "### run inference process and build databases"
   ]
  },
  {
   "cell_type": "code",
   "execution_count": 31,
   "metadata": {},
   "outputs": [
    {
     "name": "stdout",
     "output_type": "stream",
     "text": [
      "Exported model path is /home/developer/gcp/cbidmltsf/models/ARTRFDC_TPU_001_00/export/exporter/1622675695\n",
      "Persisted Pandas dataframe for predictions detail of ARTRFDC_TPU_001_00_test_024\n",
      "Persisted Pandas dataframe for predictions summary of ARTRFDC_TPU_001_00_test_024\n",
      "Exported model path is /home/developer/gcp/cbidmltsf/models/ARTRFDC_TPU_001_01/export/exporter/1622676190\n",
      "Persisted Pandas dataframe for predictions detail of ARTRFDC_TPU_001_01_test_024\n",
      "Persisted Pandas dataframe for predictions summary of ARTRFDC_TPU_001_01_test_024\n",
      "Exported model path is /home/developer/gcp/cbidmltsf/models/ARTRFDC_TPU_001_02/export/exporter/1622676387\n",
      "Persisted Pandas dataframe for predictions detail of ARTRFDC_TPU_001_02_test_024\n",
      "Persisted Pandas dataframe for predictions summary of ARTRFDC_TPU_001_02_test_024\n",
      "Exported model path is /home/developer/gcp/cbidmltsf/models/ARTRFDC_TPU_001_03/export/exporter/1622676597\n",
      "Persisted Pandas dataframe for predictions detail of ARTRFDC_TPU_001_03_test_024\n",
      "Persisted Pandas dataframe for predictions summary of ARTRFDC_TPU_001_03_test_024\n",
      "Exported model path is /home/developer/gcp/cbidmltsf/models/ARTRFDC_TPU_001_04/export/exporter/1622676796\n",
      "Persisted Pandas dataframe for predictions detail of ARTRFDC_TPU_001_04_test_024\n",
      "Persisted Pandas dataframe for predictions summary of ARTRFDC_TPU_001_04_test_024\n",
      "Exported model path is /home/developer/gcp/cbidmltsf/models/ARTRFDC_TPU_001_05/export/exporter/1622677001\n",
      "Persisted Pandas dataframe for predictions detail of ARTRFDC_TPU_001_05_test_024\n",
      "Persisted Pandas dataframe for predictions summary of ARTRFDC_TPU_001_05_test_024\n",
      "Exported model path is /home/developer/gcp/cbidmltsf/models/ARTRFDC_TPU_001_06/export/exporter/1622677207\n",
      "Persisted Pandas dataframe for predictions detail of ARTRFDC_TPU_001_06_test_024\n",
      "Persisted Pandas dataframe for predictions summary of ARTRFDC_TPU_001_06_test_024\n",
      "Exported model path is /home/developer/gcp/cbidmltsf/models/ARTRFDC_TPU_001_07/export/exporter/1622677418\n",
      "Persisted Pandas dataframe for predictions detail of ARTRFDC_TPU_001_07_test_024\n",
      "Persisted Pandas dataframe for predictions summary of ARTRFDC_TPU_001_07_test_024\n",
      "Exported model path is /home/developer/gcp/cbidmltsf/models/ARTRFDC_TPU_001_08/export/exporter/1622677623\n",
      "Persisted Pandas dataframe for predictions detail of ARTRFDC_TPU_001_08_test_024\n",
      "Persisted Pandas dataframe for predictions summary of ARTRFDC_TPU_001_08_test_024\n",
      "Exported model path is /home/developer/gcp/cbidmltsf/models/ARTRFDC_TPU_001_09/export/exporter/1622677825\n",
      "Persisted Pandas dataframe for predictions detail of ARTRFDC_TPU_001_09_test_024\n",
      "Persisted Pandas dataframe for predictions summary of ARTRFDC_TPU_001_09_test_024\n"
     ]
    }
   ],
   "source": [
    "# during batch prediction, the execution identifier is obtained via Abseil Flags\n",
    "for execution in [0, 1, 2, 3, 4, 5, 6, 7, 8, 9]:\n",
    "    \n",
    "    # a columns list for the predictions dataframe\n",
    "    pred_df_columns = ['model_id',\n",
    "                       'execution',\n",
    "                       'dataset',\n",
    "                       'inference',\n",
    "                       'string_timestamps',\n",
    "                       'predictions',\n",
    "                       'targets']\n",
    "    \n",
    "    predictions_detail_df = pd.DataFrame(columns=pred_df_columns)\n",
    "\n",
    "    # use model identifier and execution number to build the model directory string\n",
    "    model_dir = '{}_{:02d}'.format(model_id, execution)\n",
    "\n",
    "    # get the path to the saved model main directory\n",
    "    saved_model_path = '{}/{}/{}/export/exporter'.format(PROJECT_ROOT,\n",
    "                                                         'models',\n",
    "                                                         model_dir)\n",
    "\n",
    "    # get all the files in the saved model path, to find the most recent one\n",
    "    all_files = os.listdir(saved_model_path)\n",
    "    # get the path to the most recent saved model\n",
    "    latest_saved_model_id = sorted(all_files)[-1]\n",
    "\n",
    "    # build the full path for the latest saved model dir\n",
    "    export_dir = '{}/{}'.format(saved_model_path, latest_saved_model_id)\n",
    "    print ('Exported model path is {}'.format(export_dir))\n",
    "\n",
    "    # load the saved model and the prediction function\n",
    "    imported = load(export_dir=export_dir, tags='serve')\n",
    "    predict_fn = imported.signatures[\"serving_default\"]\n",
    "    \n",
    "    # iterate on the valid rows of the test dataset\n",
    "    for row in np.arange(max_row_index + 1):\n",
    "\n",
    "        # then again, build the initial source tensor\n",
    "        source_tensor = tf.expand_dims(source_array[row, :, :], axis=0)\n",
    "\n",
    "        # and build the initial prediction tensor\n",
    "        # a forecast-window-sized tensor (1, forecast_window, 7)\n",
    "        # formed with the forecast_window true values, starting at the end of the source tensor\n",
    "        # that means\n",
    "\n",
    "        prediction_tensor = tf.expand_dims(\n",
    "            source_array[row + configuration['num_timesteps'], :forecast_window, :],\n",
    "            axis=0)\n",
    "\n",
    "        # remember source_array is (?, timesteps, features), but source_timestamp_array is (?, timesteps) only\n",
    "        prediction_timestamps = source_timestamp_array[row + configuration['num_timesteps'], :forecast_window]\n",
    "\n",
    "\n",
    "        next_input_model = source_tensor\n",
    "\n",
    "        # re-initialize the prediction list previously used for prediction over TFRecords\n",
    "        predictions_list = list()\n",
    "\n",
    "        # iterate on the forecast window timesteps for the current row of the test dataset\n",
    "        # fill the predictions list over the forecast window\n",
    "        for i in range(forecast_window):\n",
    "\n",
    "            # from the current next_input_model tensor (1, 168, 7)\n",
    "            # get a prediction as NumPy array (1, 168, 1)\n",
    "            prediction = predict_fn(tensor_to_tensor_example(next_input_model))['forecast'].numpy()\n",
    "\n",
    "            # get the value of the most recent prediction (last timestep) into the predictions list\n",
    "            predictions_list.append(prediction[:, -1, :][0][0])\n",
    "\n",
    "            # from the source tensor, get the positional encodings for ti+1 to t167 (that is 168-i-1 values)\n",
    "            pos_encoding_old_values = source_tensor[:, i+1:, 1:]\n",
    "\n",
    "            # from target tensor, get the positional encodings for t168 to t168+i (that is i+1 values)\n",
    "            pos_encoding_new_val = prediction_tensor[:, :i+1, 1:]\n",
    "\n",
    "            # build new positional encodings with 168 values\n",
    "            pos_encodings = tf.concat([pos_encoding_old_values, pos_encoding_new_val], axis=1)\n",
    "            pos_encodings = tf.cast(pos_encodings, dtype=tf.float32)\n",
    "\n",
    "            # build the values feature for the next input to the model\n",
    "            # pop i+1 values at the beginning of the previous input\n",
    "            value_feature_old_values = tf.expand_dims(source_tensor[:, i+1:, 0], axis=-1)\n",
    "            value_feature_old_values = tf.cast(value_feature_old_values, dtype=tf.float32)\n",
    "\n",
    "            # current predictions_list to NumPy array\n",
    "            value_feature_new_values = np.array(predictions_list[:i+1])\n",
    "\n",
    "            # current prediction array to tensor\n",
    "            value_feature_new_values = tf.convert_to_tensor(value_feature_new_values)\n",
    "\n",
    "            # expand dimensions of current prediction tensor to single-value feature\n",
    "            value_feature_new_values = tf.expand_dims(value_feature_new_values, axis=-1)\n",
    "\n",
    "            # expand dimensions of current prediction tensor to single-value batch\n",
    "            value_feature_new_values = tf.expand_dims(value_feature_new_values, axis=0)\n",
    "\n",
    "            # build the value feature tensor\n",
    "            next_input_model = tf.concat([value_feature_old_values, value_feature_new_values], axis=1)\n",
    "\n",
    "            # build the next input tensor for the model\n",
    "            next_input_model = tf.concat([next_input_model, pos_encodings], axis=2)\n",
    "\n",
    "\n",
    "        # iterative predictions over the forecast window reside in predictions_list\n",
    "        # convert list to array, then expand feature dimension with value 1\n",
    "        predicted_values = np.array(predictions_list).reshape(-1, 1)\n",
    "\n",
    "        # inverse-scale predictions\n",
    "        rescaled_predicted_values = scaler_test.inverse_transform(predicted_values)\n",
    "\n",
    "        # and the true values remain in the prediction tensor, pass them to a NumPy array\n",
    "        # for the true values array, expand feature dimension with value 1\n",
    "        true_values = prediction_tensor[0, :, 0].numpy().reshape(-1, 1)\n",
    "\n",
    "        # inverse-scale true values\n",
    "        rescaled_true_values = scaler_test.inverse_transform(true_values)\n",
    "\n",
    "        # a temporary dataframe built from the data in the current row\n",
    "        df = pd.DataFrame(columns=pred_df_columns)\n",
    "        df['model_id'] = [model_id]\n",
    "        df['execution'] = [execution]\n",
    "        df['dataset'] = [dataset]\n",
    "        df['inference'] = [inference]\n",
    "        df['string_timestamps']= [pd.to_datetime(prediction_timestamps).astype(str).tolist()]\n",
    "        df['predictions'] = [np.squeeze(rescaled_predicted_values).tolist()]\n",
    "        df['targets'] = [np.squeeze(rescaled_true_values).tolist()]\n",
    "        df['mae'] = mean_absolute_error(rescaled_true_values, rescaled_predicted_values)\n",
    "        df['rmse'] = sqrt(mean_squared_error(rescaled_true_values, rescaled_predicted_values))\n",
    "        df['smape'] = smape(rescaled_true_values, rescaled_predicted_values)\n",
    "\n",
    "        # append the temporary dataframe to the predictions detail dataframe\n",
    "        predictions_detail_df = pd.concat([predictions_detail_df, df])\n",
    "\n",
    "    \n",
    "    # reset the index of final dataframe, once all of its rows (dataset) have been processed\n",
    "    predictions_detail_df = predictions_detail_df.reset_index(drop=True)\n",
    "\n",
    "    # build a predictions summary dataframe, reset index to avoid making a multi-column index when grouping by\n",
    "    predictions_summary_df = predictions_detail_df.groupby(['model_id',\n",
    "                                                            'execution',\n",
    "                                                            'dataset',\n",
    "                                                            'inference']).mean().reset_index()\n",
    "\n",
    "    # a range to iterate on prediction timesteps\n",
    "    targets_range = np.arange(forecast_window)\n",
    "\n",
    "    # vector metric (vector component to vector component)\n",
    "    # an array forecast_window-d: metric for 1, 2,..., no_targets step-ahead\n",
    "    # (target versus prediction for rows in dataset)\n",
    "\n",
    "    # for index, row in dataframe.iterrows()\n",
    "    mae_vector = [\n",
    "        mean_absolute_error(\n",
    "            # a list with the n-rows target values for the n-th step ahead\n",
    "            [row.targets[n] for _, row in predictions_detail_df.iterrows()],\n",
    "            # a list with the n-rows prediction values for the n-th step ahead\n",
    "            [row.predictions[n] for _, row in predictions_detail_df.iterrows()]\n",
    "        ) for n in targets_range\n",
    "    ]\n",
    "    predictions_summary_df['mae_vector'] = [mae_vector]\n",
    "\n",
    "    # for index, row in dataframe.iterrows()\n",
    "    rmse_vector = [\n",
    "        sqrt(mean_squared_error(\n",
    "            # a list with the n-rows target values for the n-th step ahead\n",
    "            [row.targets[n] for _, row in predictions_detail_df.iterrows()],\n",
    "            # a list with the n-rows prediction values for the n-th step ahead\n",
    "            [row.predictions[n] for _, row in predictions_detail_df.iterrows()]\n",
    "        )) for n in targets_range\n",
    "    ]\n",
    "    predictions_summary_df['rmse_vector'] = [rmse_vector]\n",
    "    \n",
    "    # for index, row in dataframe.iterrows()\n",
    "    smape_vector = [\n",
    "        smape(\n",
    "            [row.targets[n] for _, row in predictions_detail_df.iterrows()],\n",
    "            [row.predictions[n] for _, row in predictions_detail_df.iterrows()]\n",
    "        ) for n in targets_range\n",
    "    ]\n",
    "    predictions_summary_df['smape_vector'] = [smape_vector]\n",
    "\n",
    "    # insert count of rows as a column value\n",
    "    predictions_summary_df.insert(4, 'count', max_row_index + 1)\n",
    "\n",
    "    # build a path to persist the dataframe to database/predictions_detail/\n",
    "    detail_pickle_path = '{}/{}/{}/{}_{:02d}_{}_{}.pkl'.format(\n",
    "        PROJECT_ROOT,\n",
    "        'database',\n",
    "        'predictions_detail',\n",
    "        model_id,\n",
    "        execution,\n",
    "        dataset,\n",
    "        inference)\n",
    "    \n",
    "    # persist the Pandas dataframe to database/predictions_detail/\n",
    "    predictions_detail_df.to_pickle(detail_pickle_path)\n",
    "    print('Persisted Pandas dataframe for predictions detail of {}_{:02d}_{}_{}'.format(model_id,\n",
    "                                                                                        execution,\n",
    "                                                                                        dataset,\n",
    "                                                                                        inference))\n",
    "\n",
    "    # build a path to persist the dataframe to database/predictions_summary/\n",
    "    summary_pickle_path = '{}/{}/{}/{}_{:02d}_{}_{}.pkl'.format(\n",
    "        PROJECT_ROOT,\n",
    "        'database',\n",
    "        'predictions_summary',\n",
    "        model_id,\n",
    "        execution,\n",
    "        dataset,\n",
    "        inference)\n",
    "\n",
    "    # persist the Pandas dataframe to database/predictions_summary/\n",
    "    predictions_summary_df.to_pickle(summary_pickle_path)\n",
    "    print('Persisted Pandas dataframe for predictions summary of {}_{:02d}_{}_{}'.format(model_id,\n",
    "                                                                                         execution,\n",
    "                                                                                         dataset,\n",
    "                                                                                         inference))\n"
   ]
  },
  {
   "cell_type": "code",
   "execution_count": null,
   "metadata": {},
   "outputs": [],
   "source": []
  },
  {
   "cell_type": "code",
   "execution_count": null,
   "metadata": {},
   "outputs": [],
   "source": []
  },
  {
   "cell_type": "code",
   "execution_count": 34,
   "metadata": {},
   "outputs": [],
   "source": [
    "# ToDo: adjust the following code to include the new column 'inference'"
   ]
  },
  {
   "cell_type": "code",
   "execution_count": null,
   "metadata": {},
   "outputs": [],
   "source": []
  },
  {
   "cell_type": "code",
   "execution_count": 20,
   "metadata": {},
   "outputs": [],
   "source": [
    "# to plot results, get the required predictions detail dataframe from a pickle file"
   ]
  },
  {
   "cell_type": "code",
   "execution_count": 26,
   "metadata": {},
   "outputs": [],
   "source": [
    "model_id, execution, dataset = 'ARTRFDC_TPU_001', 9, 'test'"
   ]
  },
  {
   "cell_type": "code",
   "execution_count": 27,
   "metadata": {},
   "outputs": [],
   "source": [
    "# build a path to persist the dataframe to database/predictions_detail/\n",
    "detail_pickle_path = '{}/{}/{}/{}_{:02d}_on_{}_tfrecord.pkl'.format(\n",
    "    PROJECT_ROOT,\n",
    "    'database',\n",
    "    'predictions_detail',\n",
    "    model_id,\n",
    "    execution,\n",
    "    dataset)"
   ]
  },
  {
   "cell_type": "code",
   "execution_count": 28,
   "metadata": {},
   "outputs": [],
   "source": [
    "predictions_detail_df = pd.read_pickle(detail_pickle_path)"
   ]
  },
  {
   "cell_type": "code",
   "execution_count": 38,
   "metadata": {},
   "outputs": [],
   "source": [
    "# how does behave SMAPE on forecast_window-th-step-ahead predictions, over the test dataset\n",
    "# (as predictions go further from the training and evaluation datasets periods)"
   ]
  },
  {
   "cell_type": "code",
   "execution_count": 39,
   "metadata": {},
   "outputs": [],
   "source": [
    "# a dictionary to manage plots\n",
    "plots = dict()"
   ]
  },
  {
   "cell_type": "code",
   "execution_count": 72,
   "metadata": {},
   "outputs": [
    {
     "data": {
      "text/html": [
       "\n",
       "\n",
       "\n",
       "\n",
       "\n",
       "\n",
       "  <div class=\"bk-root\" id=\"470661d6-23cc-4710-b61c-9f26b9d6d85d\" data-root-id=\"1037\"></div>\n"
      ]
     },
     "metadata": {},
     "output_type": "display_data"
    },
    {
     "data": {
      "application/javascript": [
       "(function(root) {\n",
       "  function embed_document(root) {\n",
       "    \n",
       "  var docs_json = {\"58441132-124f-4f1f-bc15-c57cf94c2811\":{\"roots\":{\"references\":[{\"attributes\":{\"below\":[{\"id\":\"1048\",\"type\":\"LinearAxis\"}],\"center\":[{\"id\":\"1052\",\"type\":\"Grid\"},{\"id\":\"1057\",\"type\":\"Grid\"},{\"id\":\"1082\",\"type\":\"Legend\"}],\"left\":[{\"id\":\"1053\",\"type\":\"LinearAxis\"}],\"plot_height\":400,\"plot_width\":960,\"renderers\":[{\"id\":\"1074\",\"type\":\"GlyphRenderer\"}],\"title\":{\"id\":\"1038\",\"type\":\"Title\"},\"toolbar\":{\"id\":\"1064\",\"type\":\"Toolbar\"},\"x_range\":{\"id\":\"1040\",\"type\":\"DataRange1d\"},\"x_scale\":{\"id\":\"1044\",\"type\":\"LinearScale\"},\"y_range\":{\"id\":\"1042\",\"type\":\"DataRange1d\"},\"y_scale\":{\"id\":\"1046\",\"type\":\"LinearScale\"}},\"id\":\"1037\",\"subtype\":\"Figure\",\"type\":\"Plot\"},{\"attributes\":{\"source\":{\"id\":\"1071\",\"type\":\"ColumnDataSource\"}},\"id\":\"1075\",\"type\":\"CDSView\"},{\"attributes\":{},\"id\":\"1062\",\"type\":\"ResetTool\"},{\"attributes\":{\"axis_label\":\"SMAPE for the forecast window\",\"formatter\":{\"id\":\"1080\",\"type\":\"BasicTickFormatter\"},\"ticker\":{\"id\":\"1054\",\"type\":\"BasicTicker\"}},\"id\":\"1053\",\"type\":\"LinearAxis\"},{\"attributes\":{},\"id\":\"1091\",\"type\":\"Selection\"},{\"attributes\":{\"dimension\":1,\"grid_line_alpha\":0.5,\"ticker\":{\"id\":\"1054\",\"type\":\"BasicTicker\"}},\"id\":\"1057\",\"type\":\"Grid\"},{\"attributes\":{},\"id\":\"1058\",\"type\":\"PanTool\"},{\"attributes\":{\"callback\":null},\"id\":\"1040\",\"type\":\"DataRange1d\"},{\"attributes\":{},\"id\":\"1090\",\"type\":\"UnionRenderers\"},{\"attributes\":{},\"id\":\"1044\",\"type\":\"LinearScale\"},{\"attributes\":{\"callback\":null},\"id\":\"1042\",\"type\":\"DataRange1d\"},{\"attributes\":{\"data_source\":{\"id\":\"1071\",\"type\":\"ColumnDataSource\"},\"glyph\":{\"id\":\"1072\",\"type\":\"Line\"},\"hover_glyph\":null,\"muted_glyph\":null,\"nonselection_glyph\":{\"id\":\"1073\",\"type\":\"Line\"},\"selection_glyph\":null,\"view\":{\"id\":\"1075\",\"type\":\"CDSView\"}},\"id\":\"1074\",\"type\":\"GlyphRenderer\"},{\"attributes\":{\"label\":{\"value\":\"SMAPE\"},\"renderers\":[{\"id\":\"1074\",\"type\":\"GlyphRenderer\"}]},\"id\":\"1083\",\"type\":\"LegendItem\"},{\"attributes\":{\"bottom_units\":\"screen\",\"fill_alpha\":{\"value\":0.5},\"fill_color\":{\"value\":\"lightgrey\"},\"left_units\":\"screen\",\"level\":\"overlay\",\"line_alpha\":{\"value\":1.0},\"line_color\":{\"value\":\"black\"},\"line_dash\":[4,4],\"line_width\":{\"value\":2},\"render_mode\":\"css\",\"right_units\":\"screen\",\"top_units\":\"screen\"},\"id\":\"1081\",\"type\":\"BoxAnnotation\"},{\"attributes\":{},\"id\":\"1061\",\"type\":\"SaveTool\"},{\"attributes\":{\"line_color\":\"red\",\"x\":{\"field\":\"x\"},\"y\":{\"field\":\"y\"}},\"id\":\"1072\",\"type\":\"Line\"},{\"attributes\":{},\"id\":\"1080\",\"type\":\"BasicTickFormatter\"},{\"attributes\":{},\"id\":\"1063\",\"type\":\"HelpTool\"},{\"attributes\":{},\"id\":\"1046\",\"type\":\"LinearScale\"},{\"attributes\":{\"axis_label\":\"Row of test dataset\",\"formatter\":{\"id\":\"1078\",\"type\":\"BasicTickFormatter\"},\"ticker\":{\"id\":\"1049\",\"type\":\"BasicTicker\"}},\"id\":\"1048\",\"type\":\"LinearAxis\"},{\"attributes\":{\"line_alpha\":0.1,\"line_color\":\"#1f77b4\",\"x\":{\"field\":\"x\"},\"y\":{\"field\":\"y\"}},\"id\":\"1073\",\"type\":\"Line\"},{\"attributes\":{\"grid_line_alpha\":0.5,\"ticker\":{\"id\":\"1049\",\"type\":\"BasicTicker\"}},\"id\":\"1052\",\"type\":\"Grid\"},{\"attributes\":{\"active_drag\":\"auto\",\"active_inspect\":\"auto\",\"active_multi\":null,\"active_scroll\":\"auto\",\"active_tap\":\"auto\",\"tools\":[{\"id\":\"1058\",\"type\":\"PanTool\"},{\"id\":\"1059\",\"type\":\"WheelZoomTool\"},{\"id\":\"1060\",\"type\":\"BoxZoomTool\"},{\"id\":\"1061\",\"type\":\"SaveTool\"},{\"id\":\"1062\",\"type\":\"ResetTool\"},{\"id\":\"1063\",\"type\":\"HelpTool\"}]},\"id\":\"1064\",\"type\":\"Toolbar\"},{\"attributes\":{\"callback\":null,\"data\":{\"x\":[0,1,2,3,4,5,6,7,8,9,10,11,12,13,14,15,16,17,18,19,20,21,22,23,24,25,26,27,28,29,30,31,32,33,34,35,36,37,38,39,40,41,42,43,44,45,46,47,48,49,50,51,52,53,54,55,56,57,58,59,60,61,62,63,64,65,66,67,68,69,70,71,72,73,74,75,76,77,78,79,80,81,82,83,84,85,86,87,88,89,90,91,92,93,94,95,96,97,98,99,100,101,102,103,104,105,106,107,108,109,110,111,112,113,114,115,116,117,118,119,120,121,122,123,124,125,126,127,128,129,130,131,132,133,134,135,136,137,138,139,140,141,142,143,144,145,146,147,148,149,150,151,152,153,154,155,156,157,158,159,160,161,162,163,164,165,166,167,168,169,170,171,172,173,174,175,176,177,178,179,180,181,182,183,184,185,186,187,188,189,190,191,192,193,194,195,196,197,198,199,200,201,202,203,204,205,206,207,208,209,210,211,212,213,214,215,216,217,218,219,220,221,222,223,224,225,226,227,228,229,230,231,232,233,234,235,236,237,238,239,240,241,242,243,244,245,246,247,248,249,250,251,252,253,254,255,256,257,258,259,260,261,262,263,264,265,266,267,268,269,270,271,272,273,274,275,276,277,278,279,280,281,282,283,284,285,286,287,288,289,290,291,292,293,294,295,296,297,298,299,300,301,302,303,304,305,306,307,308,309,310,311,312,313,314,315,316,317,318,319,320,321,322,323,324,325,326,327,328,329,330,331,332,333,334,335,336,337,338,339,340,341,342,343,344,345,346,347,348,349,350,351,352,353,354,355,356,357,358,359,360,361,362,363,364,365,366,367,368,369,370,371,372,373,374,375,376,377,378,379,380,381,382,383,384,385,386,387,388,389,390,391,392,393,394,395,396,397,398,399,400,401,402,403,404,405,406,407,408,409,410,411,412,413,414,415,416,417,418,419,420,421,422,423,424,425,426,427,428,429,430,431,432,433,434,435,436,437,438,439,440,441,442,443,444,445,446,447,448,449,450,451,452,453,454,455,456,457,458,459,460,461,462,463,464,465,466,467,468,469,470,471,472,473,474,475,476,477,478,479,480,481,482,483,484,485,486,487,488,489,490,491,492,493,494,495,496,497,498,499,500,501,502,503,504,505,506,507,508,509,510,511,512,513,514,515,516,517,518,519,520,521,522,523,524,525,526,527,528,529,530,531,532,533,534,535,536,537,538,539,540,541,542,543,544,545,546,547,548,549,550,551,552,553,554,555,556,557,558,559,560,561,562,563,564,565,566,567,568,569,570,571,572,573,574,575,576,577,578,579,580,581,582,583,584,585,586,587,588,589,590,591,592,593,594,595,596,597,598,599,600,601,602,603,604,605,606,607,608,609,610,611,612,613,614,615,616,617,618,619,620,621,622,623,624,625,626,627,628,629,630,631,632,633,634,635,636,637,638,639,640,641,642,643,644,645,646,647,648,649,650,651,652,653,654,655,656,657,658,659,660,661,662,663,664,665,666,667,668,669,670,671,672,673,674,675,676,677,678,679,680,681,682,683,684,685,686,687,688,689,690,691,692,693,694,695,696,697,698,699,700,701,702,703,704,705,706,707,708,709,710,711,712,713,714,715,716,717,718,719,720,721,722,723,724,725,726,727,728,729,730,731,732,733,734,735,736,737,738,739,740,741,742,743,744,745,746,747,748,749,750,751,752,753,754,755,756,757,758,759,760,761,762,763,764,765,766,767,768,769,770,771,772,773,774,775,776,777,778,779,780,781,782,783,784,785,786,787,788,789,790,791,792,793,794,795,796,797,798,799,800,801,802,803,804,805,806,807,808,809,810,811,812,813,814,815,816,817,818,819,820,821,822,823,824,825,826,827,828,829,830,831,832,833,834,835,836,837,838,839,840,841,842,843,844,845,846,847,848,849,850,851,852,853,854,855,856,857,858,859,860,861,862,863,864,865,866,867,868,869,870,871,872,873,874,875,876,877,878,879,880,881,882,883,884,885,886,887,888,889,890,891,892,893,894,895,896,897,898,899,900,901,902,903,904,905,906,907,908,909,910,911,912,913,914,915,916,917,918,919,920,921,922,923,924,925,926,927,928,929,930,931,932,933,934,935,936,937,938,939,940,941,942,943,944,945,946,947,948,949,950,951,952,953,954,955,956,957,958,959,960,961,962,963,964,965,966,967,968,969,970,971,972,973,974,975,976,977,978,979,980,981,982,983,984,985,986,987,988,989,990,991,992,993,994,995,996,997,998,999,1000,1001,1002,1003,1004,1005,1006,1007,1008,1009,1010,1011,1012,1013,1014,1015,1016,1017,1018,1019,1020,1021,1022,1023,1024,1025,1026,1027,1028,1029,1030,1031,1032,1033,1034,1035,1036,1037,1038,1039,1040,1041,1042,1043,1044,1045,1046,1047,1048,1049,1050,1051,1052,1053,1054,1055,1056,1057,1058,1059,1060,1061,1062,1063,1064,1065,1066,1067,1068,1069,1070,1071,1072,1073,1074,1075,1076,1077,1078,1079,1080,1081,1082,1083,1084,1085,1086,1087,1088,1089,1090,1091,1092,1093,1094,1095,1096,1097,1098,1099,1100,1101,1102,1103,1104,1105,1106,1107,1108,1109,1110,1111,1112,1113,1114,1115,1116,1117,1118,1119,1120,1121,1122,1123,1124,1125,1126,1127,1128,1129,1130,1131,1132,1133,1134,1135,1136,1137,1138,1139,1140,1141,1142,1143,1144,1145,1146,1147,1148,1149,1150,1151,1152,1153,1154,1155,1156,1157,1158,1159,1160,1161,1162,1163,1164,1165,1166,1167,1168,1169,1170,1171,1172,1173,1174,1175,1176,1177,1178,1179,1180,1181,1182,1183,1184,1185,1186,1187,1188,1189,1190,1191,1192,1193,1194,1195,1196,1197,1198,1199,1200,1201,1202,1203,1204,1205,1206,1207,1208,1209,1210,1211,1212,1213,1214,1215,1216,1217,1218,1219,1220,1221,1222,1223,1224,1225,1226,1227,1228,1229,1230,1231,1232,1233,1234,1235,1236,1237,1238,1239,1240,1241,1242,1243,1244,1245,1246,1247,1248,1249,1250,1251,1252,1253,1254,1255,1256,1257,1258,1259,1260,1261,1262,1263,1264,1265,1266,1267,1268,1269,1270,1271,1272,1273,1274,1275,1276,1277,1278,1279,1280,1281,1282,1283,1284,1285,1286,1287,1288,1289,1290,1291,1292,1293,1294,1295,1296,1297,1298,1299,1300,1301,1302,1303,1304,1305,1306,1307,1308,1309,1310,1311,1312,1313,1314,1315,1316,1317,1318,1319,1320,1321,1322,1323,1324,1325,1326,1327,1328,1329,1330,1331,1332,1333,1334,1335,1336,1337,1338,1339,1340,1341,1342,1343,1344,1345,1346,1347,1348,1349,1350,1351,1352,1353,1354,1355,1356,1357,1358,1359,1360,1361,1362,1363,1364,1365,1366,1367,1368,1369,1370,1371,1372,1373,1374,1375,1376,1377,1378,1379,1380,1381,1382,1383,1384,1385,1386,1387,1388,1389,1390,1391,1392,1393,1394,1395,1396,1397,1398,1399,1400,1401,1402,1403,1404,1405,1406,1407,1408,1409,1410,1411,1412,1413,1414,1415,1416,1417,1418,1419,1420,1421,1422,1423,1424,1425,1426,1427,1428,1429,1430,1431,1432,1433,1434,1435,1436,1437,1438,1439,1440,1441,1442,1443,1444,1445,1446,1447,1448,1449,1450,1451,1452,1453,1454,1455,1456,1457,1458,1459,1460,1461,1462,1463,1464,1465,1466,1467,1468,1469,1470,1471,1472,1473,1474,1475,1476,1477,1478,1479,1480,1481,1482,1483,1484,1485,1486,1487,1488,1489,1490,1491,1492,1493,1494,1495,1496,1497,1498,1499,1500,1501,1502,1503,1504,1505,1506,1507,1508,1509,1510,1511,1512,1513,1514,1515,1516,1517,1518,1519,1520,1521,1522,1523,1524,1525,1526,1527,1528,1529,1530,1531,1532,1533,1534,1535,1536,1537,1538,1539,1540,1541,1542,1543,1544,1545,1546,1547,1548,1549,1550,1551,1552,1553,1554,1555,1556,1557,1558,1559,1560,1561,1562,1563,1564,1565,1566,1567,1568,1569,1570,1571,1572,1573,1574,1575,1576,1577,1578,1579,1580,1581,1582,1583,1584,1585,1586,1587,1588,1589,1590,1591,1592,1593,1594,1595,1596,1597,1598,1599,1600,1601,1602,1603,1604,1605,1606,1607,1608,1609,1610,1611,1612,1613,1614,1615,1616,1617,1618,1619,1620,1621,1622,1623,1624,1625,1626,1627,1628,1629,1630,1631,1632,1633,1634,1635,1636,1637,1638,1639,1640,1641,1642,1643,1644,1645,1646,1647,1648,1649,1650,1651,1652,1653,1654,1655,1656,1657,1658,1659,1660,1661,1662,1663,1664,1665,1666,1667,1668,1669,1670,1671,1672,1673,1674,1675,1676,1677,1678,1679,1680,1681,1682,1683,1684,1685,1686,1687,1688,1689,1690,1691,1692,1693,1694,1695,1696,1697,1698,1699,1700,1701,1702,1703,1704,1705,1706,1707,1708,1709,1710,1711,1712,1713,1714,1715,1716,1717,1718,1719,1720,1721,1722,1723,1724,1725,1726,1727,1728,1729,1730,1731,1732,1733,1734,1735,1736,1737,1738,1739,1740,1741,1742,1743,1744,1745,1746,1747,1748,1749,1750,1751,1752,1753,1754,1755,1756,1757,1758,1759,1760,1761,1762,1763,1764,1765,1766,1767,1768,1769,1770,1771,1772,1773,1774,1775,1776,1777,1778,1779,1780,1781,1782,1783,1784,1785,1786,1787,1788,1789,1790,1791,1792,1793,1794,1795,1796,1797,1798,1799,1800,1801,1802,1803,1804,1805,1806,1807,1808,1809,1810,1811,1812,1813,1814,1815,1816,1817,1818,1819,1820,1821,1822,1823,1824,1825,1826,1827,1828,1829,1830,1831,1832,1833,1834,1835,1836,1837,1838,1839,1840,1841,1842,1843,1844,1845,1846,1847,1848,1849,1850,1851,1852,1853,1854,1855,1856,1857,1858,1859,1860,1861,1862,1863,1864,1865,1866,1867,1868,1869,1870,1871],\"y\":{\"__ndarray__\":\"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\",\"dtype\":\"float64\",\"shape\":[1872]}},\"selected\":{\"id\":\"1091\",\"type\":\"Selection\"},\"selection_policy\":{\"id\":\"1090\",\"type\":\"UnionRenderers\"}},\"id\":\"1071\",\"type\":\"ColumnDataSource\"},{\"attributes\":{\"text\":\"SMAPE for model ARTRFDC_TPU_001, execution 9, on test dataset\"},\"id\":\"1038\",\"type\":\"Title\"},{\"attributes\":{},\"id\":\"1049\",\"type\":\"BasicTicker\"},{\"attributes\":{\"overlay\":{\"id\":\"1081\",\"type\":\"BoxAnnotation\"}},\"id\":\"1060\",\"type\":\"BoxZoomTool\"},{\"attributes\":{},\"id\":\"1054\",\"type\":\"BasicTicker\"},{\"attributes\":{},\"id\":\"1059\",\"type\":\"WheelZoomTool\"},{\"attributes\":{},\"id\":\"1078\",\"type\":\"BasicTickFormatter\"},{\"attributes\":{\"items\":[{\"id\":\"1083\",\"type\":\"LegendItem\"}]},\"id\":\"1082\",\"type\":\"Legend\"}],\"root_ids\":[\"1037\"]},\"title\":\"Bokeh Application\",\"version\":\"1.4.0\"}};\n",
       "  var render_items = [{\"docid\":\"58441132-124f-4f1f-bc15-c57cf94c2811\",\"roots\":{\"1037\":\"470661d6-23cc-4710-b61c-9f26b9d6d85d\"}}];\n",
       "  root.Bokeh.embed.embed_items_notebook(docs_json, render_items);\n",
       "\n",
       "  }\n",
       "  if (root.Bokeh !== undefined) {\n",
       "    embed_document(root);\n",
       "  } else {\n",
       "    var attempts = 0;\n",
       "    var timer = setInterval(function(root) {\n",
       "      if (root.Bokeh !== undefined) {\n",
       "        clearInterval(timer);\n",
       "        embed_document(root);\n",
       "      } else {\n",
       "        attempts++;\n",
       "        if (attempts > 100) {\n",
       "          clearInterval(timer);\n",
       "          console.log(\"Bokeh: ERROR: Unable to run BokehJS code because BokehJS library is missing\");\n",
       "        }\n",
       "      }\n",
       "    }, 10, root)\n",
       "  }\n",
       "})(window);"
      ],
      "application/vnd.bokehjs_exec.v0+json": ""
     },
     "metadata": {
      "application/vnd.bokehjs_exec.v0+json": {
       "id": "1037"
      }
     },
     "output_type": "display_data"
    }
   ],
   "source": [
    "plots['smape'] = figure(\n",
    "    # x_axis_type='datetime',\n",
    "    plot_width=960,\n",
    "    plot_height=400,\n",
    "    title='SMAPE for model {}, execution {}, on {} dataset'.format(\n",
    "        model_id,\n",
    "        execution,\n",
    "        dataset))\n",
    "\n",
    "plots['smape'].grid.grid_line_alpha=0.5\n",
    "\n",
    "plots['smape'].xaxis.axis_label = 'Row of test dataset'\n",
    "plots['smape'].yaxis.axis_label = 'SMAPE for the forecast window'\n",
    "\n",
    "plots['smape'].line(\n",
    "    np.arange(max_row_index + 1),\n",
    "    predictions_detail_df['smape'],\n",
    "    color='red',\n",
    "    legend_label='SMAPE')\n",
    "\n",
    "# uncomment the following two lines to save plot\n",
    "# output_file('/home/developer/gcp/cbidmltsf/datasets/cfe/{}_H_kw.html'.format(device))\n",
    "# save(fig_kw)\n",
    "\n",
    "# uncomment the following line to display plot\n",
    "show(plots['smape'])"
   ]
  },
  {
   "cell_type": "code",
   "execution_count": 74,
   "metadata": {},
   "outputs": [],
   "source": [
    "# repeat the previous plot, replace row ordinal with its start timestamp"
   ]
  },
  {
   "cell_type": "code",
   "execution_count": 86,
   "metadata": {},
   "outputs": [],
   "source": [
    "# 1-d dataframe contains 1-d lists, change it to 2-d array\n",
    "# for index, row in dataframe.iterrows():\n",
    "temporary_list = list()\n",
    "for _, row in predictions_detail_df.iterrows():\n",
    "    # append the first timestamp in 'string_timestamps to the temporary list'\n",
    "    temporary_list.append(pd.to_datetime(row['string_timestamps'][0]))"
   ]
  },
  {
   "cell_type": "code",
   "execution_count": 88,
   "metadata": {},
   "outputs": [],
   "source": [
    "first_timestamps_array = np.array(temporary_list)"
   ]
  },
  {
   "cell_type": "code",
   "execution_count": 96,
   "metadata": {},
   "outputs": [],
   "source": [
    "# VERY IMPORTANT!:due to the transformer nature (iterative along a given num_timesteps),\n",
    "# given the number of timesteps of the model and the starting timestamp of the data for inference,\n",
    "# the first prediction that can be made starts num_timesteps beyond the inference starting timestamp"
   ]
  },
  {
   "cell_type": "code",
   "execution_count": 98,
   "metadata": {},
   "outputs": [
    {
     "data": {
      "text/plain": [
       "168"
      ]
     },
     "execution_count": 98,
     "metadata": {},
     "output_type": "execute_result"
    }
   ],
   "source": [
    "# for the present experiment, num_timesteps is:\n",
    "configuration['num_timesteps']"
   ]
  },
  {
   "cell_type": "code",
   "execution_count": 99,
   "metadata": {},
   "outputs": [
    {
     "data": {
      "text/plain": [
       "Timestamp('2018-05-01 00:00:00')"
      ]
     },
     "execution_count": 99,
     "metadata": {},
     "output_type": "execute_result"
    }
   ],
   "source": [
    "# and the starting timestamp for inference data is\n",
    "source_timestamp_list[0][0]"
   ]
  },
  {
   "cell_type": "code",
   "execution_count": 100,
   "metadata": {},
   "outputs": [
    {
     "data": {
      "text/plain": [
       "Timestamp('2018-05-08 00:00:00')"
      ]
     },
     "execution_count": 100,
     "metadata": {},
     "output_type": "execute_result"
    }
   ],
   "source": [
    "# then the first prediction can be made on:\n",
    "first_timestamps_array[0]"
   ]
  },
  {
   "cell_type": "code",
   "execution_count": 113,
   "metadata": {},
   "outputs": [],
   "source": [
    "# redefine the previous plot for a given number of days and not for the complete test dataset\n",
    "num_days_ahead_for_inference = 1\n",
    "num_selected_rows = 24*num_days_ahead_for_inference"
   ]
  },
  {
   "cell_type": "code",
   "execution_count": 114,
   "metadata": {},
   "outputs": [
    {
     "data": {
      "text/html": [
       "\n",
       "\n",
       "\n",
       "\n",
       "\n",
       "\n",
       "  <div class=\"bk-root\" id=\"3e74b41e-e69f-4307-ab6c-198937fa36d3\" data-root-id=\"3779\"></div>\n"
      ]
     },
     "metadata": {},
     "output_type": "display_data"
    },
    {
     "data": {
      "application/javascript": [
       "(function(root) {\n",
       "  function embed_document(root) {\n",
       "    \n",
       "  var docs_json = {\"99b9ed13-fa76-40fe-9f44-0414d8860746\":{\"roots\":{\"references\":[{\"attributes\":{\"below\":[{\"id\":\"3790\",\"type\":\"DatetimeAxis\"}],\"center\":[{\"id\":\"3794\",\"type\":\"Grid\"},{\"id\":\"3799\",\"type\":\"Grid\"},{\"id\":\"3836\",\"type\":\"Legend\"}],\"left\":[{\"id\":\"3795\",\"type\":\"LinearAxis\"}],\"plot_height\":400,\"plot_width\":960,\"renderers\":[{\"id\":\"3816\",\"type\":\"GlyphRenderer\"}],\"title\":{\"id\":\"3780\",\"type\":\"Title\"},\"toolbar\":{\"id\":\"3806\",\"type\":\"Toolbar\"},\"x_range\":{\"id\":\"3782\",\"type\":\"DataRange1d\"},\"x_scale\":{\"id\":\"3786\",\"type\":\"LinearScale\"},\"y_range\":{\"id\":\"3784\",\"type\":\"DataRange1d\"},\"y_scale\":{\"id\":\"3788\",\"type\":\"LinearScale\"}},\"id\":\"3779\",\"subtype\":\"Figure\",\"type\":\"Plot\"},{\"attributes\":{\"grid_line_alpha\":0.5,\"ticker\":{\"id\":\"3791\",\"type\":\"DatetimeTicker\"}},\"id\":\"3794\",\"type\":\"Grid\"},{\"attributes\":{\"months\":[0,6]},\"id\":\"3833\",\"type\":\"MonthsTicker\"},{\"attributes\":{\"callback\":null,\"data\":{\"x\":[1525737600000.0,1525741200000.0,1525744800000.0,1525748400000.0,1525752000000.0,1525755600000.0,1525759200000.0,1525762800000.0,1525766400000.0,1525770000000.0,1525773600000.0,1525777200000.0,1525780800000.0,1525784400000.0,1525788000000.0,1525791600000.0,1525795200000.0,1525798800000.0,1525802400000.0,1525806000000.0,1525809600000.0,1525813200000.0,1525816800000.0,1525820400000.0],\"y\":{\"__ndarray__\":\"AAAAAA/Tqj8AAACAEAyrP1VVVdXiaKo/VVVVVWBgqj8AAACAEkSqP6uqqqqwaqo/AAAAACmfqj8AAAAA/nmpP1VVVdWUErE/VVVV1dVmqD+rqqoqNi6qP6uqqqphs6g/AAAAgDwhpj8AAABAxU+jP1VVVVVMA6I/AAAAAMJOoD+rqqoqn62gP1VVVRXifqE/AAAAABCroT9VVVUVXsGiPwAAAAC5RKI/AAAAQBZaoT+rqqqqTv6hP6uqqmqsAqM/\",\"dtype\":\"float64\",\"shape\":[24]}},\"selected\":{\"id\":\"4047\",\"type\":\"Selection\"},\"selection_policy\":{\"id\":\"4046\",\"type\":\"UnionRenderers\"}},\"id\":\"3813\",\"type\":\"ColumnDataSource\"},{\"attributes\":{\"items\":[{\"id\":\"3837\",\"type\":\"LegendItem\"}]},\"id\":\"3836\",\"type\":\"Legend\"},{\"attributes\":{\"dimension\":1,\"grid_line_alpha\":0.5,\"ticker\":{\"id\":\"3796\",\"type\":\"BasicTicker\"}},\"id\":\"3799\",\"type\":\"Grid\"},{\"attributes\":{\"months\":[0,4,8]},\"id\":\"3832\",\"type\":\"MonthsTicker\"},{\"attributes\":{},\"id\":\"3822\",\"type\":\"BasicTickFormatter\"},{\"attributes\":{},\"id\":\"3834\",\"type\":\"YearsTicker\"},{\"attributes\":{},\"id\":\"4046\",\"type\":\"UnionRenderers\"},{\"attributes\":{},\"id\":\"3796\",\"type\":\"BasicTicker\"},{\"attributes\":{},\"id\":\"3820\",\"type\":\"DatetimeTickFormatter\"},{\"attributes\":{\"source\":{\"id\":\"3813\",\"type\":\"ColumnDataSource\"}},\"id\":\"3817\",\"type\":\"CDSView\"},{\"attributes\":{\"mantissas\":[1,2,5],\"max_interval\":500.0,\"num_minor_ticks\":0},\"id\":\"3823\",\"type\":\"AdaptiveTicker\"},{\"attributes\":{\"line_color\":\"red\",\"x\":{\"field\":\"x\"},\"y\":{\"field\":\"y\"}},\"id\":\"3814\",\"type\":\"Line\"},{\"attributes\":{\"active_drag\":\"auto\",\"active_inspect\":\"auto\",\"active_multi\":null,\"active_scroll\":\"auto\",\"active_tap\":\"auto\",\"tools\":[{\"id\":\"3800\",\"type\":\"PanTool\"},{\"id\":\"3801\",\"type\":\"WheelZoomTool\"},{\"id\":\"3802\",\"type\":\"BoxZoomTool\"},{\"id\":\"3803\",\"type\":\"SaveTool\"},{\"id\":\"3804\",\"type\":\"ResetTool\"},{\"id\":\"3805\",\"type\":\"HelpTool\"}]},\"id\":\"3806\",\"type\":\"Toolbar\"},{\"attributes\":{\"axis_label\":\"SMAPE for the forecast window\",\"formatter\":{\"id\":\"3822\",\"type\":\"BasicTickFormatter\"},\"ticker\":{\"id\":\"3796\",\"type\":\"BasicTicker\"}},\"id\":\"3795\",\"type\":\"LinearAxis\"},{\"attributes\":{},\"id\":\"4047\",\"type\":\"Selection\"},{\"attributes\":{},\"id\":\"3800\",\"type\":\"PanTool\"},{\"attributes\":{\"base\":24,\"mantissas\":[1,2,4,6,8,12],\"max_interval\":43200000.0,\"min_interval\":3600000.0,\"num_minor_ticks\":0},\"id\":\"3825\",\"type\":\"AdaptiveTicker\"},{\"attributes\":{\"text\":\"SMAPE for model ARTRFDC_TPU_001, execution 9, on test dataset\"},\"id\":\"3780\",\"type\":\"Title\"},{\"attributes\":{\"label\":{\"value\":\"SMAPE\"},\"renderers\":[{\"id\":\"3816\",\"type\":\"GlyphRenderer\"}]},\"id\":\"3837\",\"type\":\"LegendItem\"},{\"attributes\":{\"base\":60,\"mantissas\":[1,2,5,10,15,20,30],\"max_interval\":1800000.0,\"min_interval\":1000.0,\"num_minor_ticks\":0},\"id\":\"3824\",\"type\":\"AdaptiveTicker\"},{\"attributes\":{},\"id\":\"3801\",\"type\":\"WheelZoomTool\"},{\"attributes\":{\"callback\":null},\"id\":\"3782\",\"type\":\"DataRange1d\"},{\"attributes\":{\"bottom_units\":\"screen\",\"fill_alpha\":{\"value\":0.5},\"fill_color\":{\"value\":\"lightgrey\"},\"left_units\":\"screen\",\"level\":\"overlay\",\"line_alpha\":{\"value\":1.0},\"line_color\":{\"value\":\"black\"},\"line_dash\":[4,4],\"line_width\":{\"value\":2},\"render_mode\":\"css\",\"right_units\":\"screen\",\"top_units\":\"screen\"},\"id\":\"3835\",\"type\":\"BoxAnnotation\"},{\"attributes\":{\"overlay\":{\"id\":\"3835\",\"type\":\"BoxAnnotation\"}},\"id\":\"3802\",\"type\":\"BoxZoomTool\"},{\"attributes\":{\"days\":[1,2,3,4,5,6,7,8,9,10,11,12,13,14,15,16,17,18,19,20,21,22,23,24,25,26,27,28,29,30,31]},\"id\":\"3826\",\"type\":\"DaysTicker\"},{\"attributes\":{},\"id\":\"3803\",\"type\":\"SaveTool\"},{\"attributes\":{},\"id\":\"3786\",\"type\":\"LinearScale\"},{\"attributes\":{\"days\":[1,4,7,10,13,16,19,22,25,28]},\"id\":\"3827\",\"type\":\"DaysTicker\"},{\"attributes\":{\"callback\":null},\"id\":\"3784\",\"type\":\"DataRange1d\"},{\"attributes\":{},\"id\":\"3804\",\"type\":\"ResetTool\"},{\"attributes\":{\"days\":[1,8,15,22]},\"id\":\"3828\",\"type\":\"DaysTicker\"},{\"attributes\":{},\"id\":\"3805\",\"type\":\"HelpTool\"},{\"attributes\":{\"days\":[1,15]},\"id\":\"3829\",\"type\":\"DaysTicker\"},{\"attributes\":{},\"id\":\"3788\",\"type\":\"LinearScale\"},{\"attributes\":{\"line_alpha\":0.1,\"line_color\":\"#1f77b4\",\"x\":{\"field\":\"x\"},\"y\":{\"field\":\"y\"}},\"id\":\"3815\",\"type\":\"Line\"},{\"attributes\":{\"months\":[0,1,2,3,4,5,6,7,8,9,10,11]},\"id\":\"3830\",\"type\":\"MonthsTicker\"},{\"attributes\":{\"axis_label\":\"Forecast window initial timestamp\",\"formatter\":{\"id\":\"3820\",\"type\":\"DatetimeTickFormatter\"},\"ticker\":{\"id\":\"3791\",\"type\":\"DatetimeTicker\"}},\"id\":\"3790\",\"type\":\"DatetimeAxis\"},{\"attributes\":{\"data_source\":{\"id\":\"3813\",\"type\":\"ColumnDataSource\"},\"glyph\":{\"id\":\"3814\",\"type\":\"Line\"},\"hover_glyph\":null,\"muted_glyph\":null,\"nonselection_glyph\":{\"id\":\"3815\",\"type\":\"Line\"},\"selection_glyph\":null,\"view\":{\"id\":\"3817\",\"type\":\"CDSView\"}},\"id\":\"3816\",\"type\":\"GlyphRenderer\"},{\"attributes\":{\"months\":[0,2,4,6,8,10]},\"id\":\"3831\",\"type\":\"MonthsTicker\"},{\"attributes\":{\"num_minor_ticks\":5,\"tickers\":[{\"id\":\"3823\",\"type\":\"AdaptiveTicker\"},{\"id\":\"3824\",\"type\":\"AdaptiveTicker\"},{\"id\":\"3825\",\"type\":\"AdaptiveTicker\"},{\"id\":\"3826\",\"type\":\"DaysTicker\"},{\"id\":\"3827\",\"type\":\"DaysTicker\"},{\"id\":\"3828\",\"type\":\"DaysTicker\"},{\"id\":\"3829\",\"type\":\"DaysTicker\"},{\"id\":\"3830\",\"type\":\"MonthsTicker\"},{\"id\":\"3831\",\"type\":\"MonthsTicker\"},{\"id\":\"3832\",\"type\":\"MonthsTicker\"},{\"id\":\"3833\",\"type\":\"MonthsTicker\"},{\"id\":\"3834\",\"type\":\"YearsTicker\"}]},\"id\":\"3791\",\"type\":\"DatetimeTicker\"}],\"root_ids\":[\"3779\"]},\"title\":\"Bokeh Application\",\"version\":\"1.4.0\"}};\n",
       "  var render_items = [{\"docid\":\"99b9ed13-fa76-40fe-9f44-0414d8860746\",\"roots\":{\"3779\":\"3e74b41e-e69f-4307-ab6c-198937fa36d3\"}}];\n",
       "  root.Bokeh.embed.embed_items_notebook(docs_json, render_items);\n",
       "\n",
       "  }\n",
       "  if (root.Bokeh !== undefined) {\n",
       "    embed_document(root);\n",
       "  } else {\n",
       "    var attempts = 0;\n",
       "    var timer = setInterval(function(root) {\n",
       "      if (root.Bokeh !== undefined) {\n",
       "        clearInterval(timer);\n",
       "        embed_document(root);\n",
       "      } else {\n",
       "        attempts++;\n",
       "        if (attempts > 100) {\n",
       "          clearInterval(timer);\n",
       "          console.log(\"Bokeh: ERROR: Unable to run BokehJS code because BokehJS library is missing\");\n",
       "        }\n",
       "      }\n",
       "    }, 10, root)\n",
       "  }\n",
       "})(window);"
      ],
      "application/vnd.bokehjs_exec.v0+json": ""
     },
     "metadata": {
      "application/vnd.bokehjs_exec.v0+json": {
       "id": "3779"
      }
     },
     "output_type": "display_data"
    }
   ],
   "source": [
    "plots['smape_timestamp'] = figure(\n",
    "    x_axis_type='datetime',\n",
    "    plot_width=960,\n",
    "    plot_height=400,\n",
    "    title='SMAPE for model {}, execution {}, on {} dataset'.format(\n",
    "        model_id,\n",
    "        execution,\n",
    "        dataset))\n",
    "\n",
    "plots['smape_timestamp'].grid.grid_line_alpha=0.5\n",
    "\n",
    "plots['smape_timestamp'].xaxis.axis_label = 'Forecast window initial timestamp'\n",
    "plots['smape_timestamp'].yaxis.axis_label = 'SMAPE for the forecast window'\n",
    "\n",
    "plots['smape_timestamp'].line(\n",
    "    first_timestamps_array[:num_selected_rows],\n",
    "    predictions_detail_df['smape'][:num_selected_rows],\n",
    "    color='red',\n",
    "    legend_label='SMAPE')\n",
    "\n",
    "# uncomment the following two lines to save plot\n",
    "# output_file('/home/developer/gcp/cbidmltsf/datasets/cfe/{}_H_kw.html'.format(device))\n",
    "# save(fig_kw)\n",
    "\n",
    "# uncomment the following line to display plot\n",
    "show(plots['smape_timestamp'])"
   ]
  },
  {
   "cell_type": "code",
   "execution_count": null,
   "metadata": {},
   "outputs": [],
   "source": []
  },
  {
   "cell_type": "code",
   "execution_count": null,
   "metadata": {},
   "outputs": [],
   "source": []
  },
  {
   "cell_type": "code",
   "execution_count": 73,
   "metadata": {},
   "outputs": [
    {
     "data": {
      "text/html": [
       "\n",
       "\n",
       "\n",
       "\n",
       "\n",
       "\n",
       "  <div class=\"bk-root\" id=\"21936aff-e295-4677-9e20-4fc74a18e13a\" data-root-id=\"1140\"></div>\n"
      ]
     },
     "metadata": {},
     "output_type": "display_data"
    },
    {
     "data": {
      "application/javascript": [
       "(function(root) {\n",
       "  function embed_document(root) {\n",
       "    \n",
       "  var docs_json = {\"195f3da7-7c73-4d3d-9868-540515ce9fb3\":{\"roots\":{\"references\":[{\"attributes\":{\"below\":[{\"id\":\"1151\",\"type\":\"DatetimeAxis\"}],\"center\":[{\"id\":\"1155\",\"type\":\"Grid\"},{\"id\":\"1160\",\"type\":\"Grid\"},{\"id\":\"1197\",\"type\":\"Legend\"}],\"left\":[{\"id\":\"1156\",\"type\":\"LinearAxis\"}],\"plot_height\":400,\"plot_width\":960,\"renderers\":[{\"id\":\"1177\",\"type\":\"GlyphRenderer\"},{\"id\":\"1202\",\"type\":\"GlyphRenderer\"}],\"title\":{\"id\":\"1141\",\"type\":\"Title\"},\"toolbar\":{\"id\":\"1167\",\"type\":\"Toolbar\"},\"x_range\":{\"id\":\"1143\",\"type\":\"DataRange1d\"},\"x_scale\":{\"id\":\"1147\",\"type\":\"LinearScale\"},\"y_range\":{\"id\":\"1145\",\"type\":\"DataRange1d\"},\"y_scale\":{\"id\":\"1149\",\"type\":\"LinearScale\"}},\"id\":\"1140\",\"subtype\":\"Figure\",\"type\":\"Plot\"},{\"attributes\":{\"days\":[1,8,15,22]},\"id\":\"1189\",\"type\":\"DaysTicker\"},{\"attributes\":{\"source\":{\"id\":\"1174\",\"type\":\"ColumnDataSource\"}},\"id\":\"1178\",\"type\":\"CDSView\"},{\"attributes\":{\"axis_label\":\"Active Power [KW]\",\"formatter\":{\"id\":\"1183\",\"type\":\"BasicTickFormatter\"},\"ticker\":{\"id\":\"1157\",\"type\":\"BasicTicker\"}},\"id\":\"1156\",\"type\":\"LinearAxis\"},{\"attributes\":{},\"id\":\"1222\",\"type\":\"UnionRenderers\"},{\"attributes\":{\"mantissas\":[1,2,5],\"max_interval\":500.0,\"num_minor_ticks\":0},\"id\":\"1184\",\"type\":\"AdaptiveTicker\"},{\"attributes\":{\"months\":[0,2,4,6,8,10]},\"id\":\"1192\",\"type\":\"MonthsTicker\"},{\"attributes\":{\"items\":[{\"id\":\"1198\",\"type\":\"LegendItem\"},{\"id\":\"1224\",\"type\":\"LegendItem\"}]},\"id\":\"1197\",\"type\":\"Legend\"},{\"attributes\":{},\"id\":\"1166\",\"type\":\"HelpTool\"},{\"attributes\":{},\"id\":\"1147\",\"type\":\"LinearScale\"},{\"attributes\":{\"base\":24,\"mantissas\":[1,2,4,6,8,12],\"max_interval\":43200000.0,\"min_interval\":3600000.0,\"num_minor_ticks\":0},\"id\":\"1186\",\"type\":\"AdaptiveTicker\"},{\"attributes\":{\"months\":[0,4,8]},\"id\":\"1193\",\"type\":\"MonthsTicker\"},{\"attributes\":{},\"id\":\"1253\",\"type\":\"UnionRenderers\"},{\"attributes\":{\"months\":[0,6]},\"id\":\"1194\",\"type\":\"MonthsTicker\"},{\"attributes\":{},\"id\":\"1149\",\"type\":\"LinearScale\"},{\"attributes\":{},\"id\":\"1161\",\"type\":\"PanTool\"},{\"attributes\":{},\"id\":\"1195\",\"type\":\"YearsTicker\"},{\"attributes\":{\"bottom_units\":\"screen\",\"fill_alpha\":{\"value\":0.5},\"fill_color\":{\"value\":\"lightgrey\"},\"left_units\":\"screen\",\"level\":\"overlay\",\"line_alpha\":{\"value\":1.0},\"line_color\":{\"value\":\"black\"},\"line_dash\":[4,4],\"line_width\":{\"value\":2},\"render_mode\":\"css\",\"right_units\":\"screen\",\"top_units\":\"screen\"},\"id\":\"1196\",\"type\":\"BoxAnnotation\"},{\"attributes\":{\"callback\":null},\"id\":\"1145\",\"type\":\"DataRange1d\"},{\"attributes\":{\"axis_label\":\"Timestamp\",\"formatter\":{\"id\":\"1181\",\"type\":\"DatetimeTickFormatter\"},\"ticker\":{\"id\":\"1152\",\"type\":\"DatetimeTicker\"}},\"id\":\"1151\",\"type\":\"DatetimeAxis\"},{\"attributes\":{\"active_drag\":\"auto\",\"active_inspect\":\"auto\",\"active_multi\":null,\"active_scroll\":\"auto\",\"active_tap\":\"auto\",\"tools\":[{\"id\":\"1161\",\"type\":\"PanTool\"},{\"id\":\"1162\",\"type\":\"WheelZoomTool\"},{\"id\":\"1163\",\"type\":\"BoxZoomTool\"},{\"id\":\"1164\",\"type\":\"SaveTool\"},{\"id\":\"1165\",\"type\":\"ResetTool\"},{\"id\":\"1166\",\"type\":\"HelpTool\"}]},\"id\":\"1167\",\"type\":\"Toolbar\"},{\"attributes\":{},\"id\":\"1165\",\"type\":\"ResetTool\"},{\"attributes\":{},\"id\":\"1164\",\"type\":\"SaveTool\"},{\"attributes\":{\"num_minor_ticks\":5,\"tickers\":[{\"id\":\"1184\",\"type\":\"AdaptiveTicker\"},{\"id\":\"1185\",\"type\":\"AdaptiveTicker\"},{\"id\":\"1186\",\"type\":\"AdaptiveTicker\"},{\"id\":\"1187\",\"type\":\"DaysTicker\"},{\"id\":\"1188\",\"type\":\"DaysTicker\"},{\"id\":\"1189\",\"type\":\"DaysTicker\"},{\"id\":\"1190\",\"type\":\"DaysTicker\"},{\"id\":\"1191\",\"type\":\"MonthsTicker\"},{\"id\":\"1192\",\"type\":\"MonthsTicker\"},{\"id\":\"1193\",\"type\":\"MonthsTicker\"},{\"id\":\"1194\",\"type\":\"MonthsTicker\"},{\"id\":\"1195\",\"type\":\"YearsTicker\"}]},\"id\":\"1152\",\"type\":\"DatetimeTicker\"},{\"attributes\":{\"dimension\":1,\"grid_line_alpha\":0.5,\"ticker\":{\"id\":\"1157\",\"type\":\"BasicTicker\"}},\"id\":\"1160\",\"type\":\"Grid\"},{\"attributes\":{\"callback\":null,\"data\":{\"x\":{\"__ndarray__\":\"AACA/8g3dkIAAGhuzDd2QgAAUN3PN3ZCAAA4TNM3dkIAACC71jd2QgAACCraN3ZCAADwmN03dkIAANgH4Td2QgAAwHbkN3ZCAACo5ec3dkIAAJBU6zd2QgAAeMPuN3ZCAABgMvI3dkIAAEih9Td2QgAAMBD5N3ZCAAAYf/w3dkIAAADu/zd2QgAA6FwDOHZCAADQywY4dkIAALg6Cjh2QgAAoKkNOHZCAACIGBE4dkIAAHCHFDh2QgAAWPYXOHZC\",\"dtype\":\"float64\",\"shape\":[24]},\"y\":[2039.1234130859375,2162.436767578125,2392.580078125,2670.56494140625,2843.684814453125,2927.0849609375,2974.686767578125,3002.5634765625,2965.546630859375,2896.08154296875,2885.800048828125,2812.18505859375,2935.909912109375,3034.091552734375,2834.824951171875,2590.526611328125,2227.125,2019.530029296875,1887.8016357421875,1828.9400634765625,1801.058349609375,1796.9150390625,1979.5833740234375,2111.5166015625]},\"selected\":{\"id\":\"1254\",\"type\":\"Selection\"},\"selection_policy\":{\"id\":\"1253\",\"type\":\"UnionRenderers\"}},\"id\":\"1199\",\"type\":\"ColumnDataSource\"},{\"attributes\":{\"grid_line_alpha\":0.5,\"ticker\":{\"id\":\"1152\",\"type\":\"DatetimeTicker\"}},\"id\":\"1155\",\"type\":\"Grid\"},{\"attributes\":{\"base\":60,\"mantissas\":[1,2,5,10,15,20,30],\"max_interval\":1800000.0,\"min_interval\":1000.0,\"num_minor_ticks\":0},\"id\":\"1185\",\"type\":\"AdaptiveTicker\"},{\"attributes\":{\"months\":[0,1,2,3,4,5,6,7,8,9,10,11]},\"id\":\"1191\",\"type\":\"MonthsTicker\"},{\"attributes\":{},\"id\":\"1157\",\"type\":\"BasicTicker\"},{\"attributes\":{\"source\":{\"id\":\"1199\",\"type\":\"ColumnDataSource\"}},\"id\":\"1203\",\"type\":\"CDSView\"},{\"attributes\":{},\"id\":\"1254\",\"type\":\"Selection\"},{\"attributes\":{\"line_alpha\":0.1,\"line_color\":\"#1f77b4\",\"x\":{\"field\":\"x\"},\"y\":{\"field\":\"y\"}},\"id\":\"1176\",\"type\":\"Line\"},{\"attributes\":{\"line_alpha\":0.1,\"line_color\":\"#1f77b4\",\"x\":{\"field\":\"x\"},\"y\":{\"field\":\"y\"}},\"id\":\"1201\",\"type\":\"Line\"},{\"attributes\":{\"callback\":null},\"id\":\"1143\",\"type\":\"DataRange1d\"},{\"attributes\":{},\"id\":\"1183\",\"type\":\"BasicTickFormatter\"},{\"attributes\":{\"days\":[1,2,3,4,5,6,7,8,9,10,11,12,13,14,15,16,17,18,19,20,21,22,23,24,25,26,27,28,29,30,31]},\"id\":\"1187\",\"type\":\"DaysTicker\"},{\"attributes\":{\"days\":[1,15]},\"id\":\"1190\",\"type\":\"DaysTicker\"},{\"attributes\":{\"line_color\":\"green\",\"x\":{\"field\":\"x\"},\"y\":{\"field\":\"y\"}},\"id\":\"1175\",\"type\":\"Line\"},{\"attributes\":{\"data_source\":{\"id\":\"1199\",\"type\":\"ColumnDataSource\"},\"glyph\":{\"id\":\"1200\",\"type\":\"Line\"},\"hover_glyph\":null,\"muted_glyph\":null,\"nonselection_glyph\":{\"id\":\"1201\",\"type\":\"Line\"},\"selection_glyph\":null,\"view\":{\"id\":\"1203\",\"type\":\"CDSView\"}},\"id\":\"1202\",\"type\":\"GlyphRenderer\"},{\"attributes\":{},\"id\":\"1181\",\"type\":\"DatetimeTickFormatter\"},{\"attributes\":{\"line_color\":\"blue\",\"x\":{\"field\":\"x\"},\"y\":{\"field\":\"y\"}},\"id\":\"1200\",\"type\":\"Line\"},{\"attributes\":{\"callback\":null,\"data\":{\"x\":{\"__ndarray__\":\"AACA/8g3dkIAAGhuzDd2QgAAUN3PN3ZCAAA4TNM3dkIAACC71jd2QgAACCraN3ZCAADwmN03dkIAANgH4Td2QgAAwHbkN3ZCAACo5ec3dkIAAJBU6zd2QgAAeMPuN3ZCAABgMvI3dkIAAEih9Td2QgAAMBD5N3ZCAAAYf/w3dkIAAADu/zd2QgAA6FwDOHZCAADQywY4dkIAALg6Cjh2QgAAoKkNOHZCAACIGBE4dkIAAHCHFDh2QgAAWPYXOHZC\",\"dtype\":\"float64\",\"shape\":[24]},\"y\":[2045.0206298828125,2241.182373046875,2514.633056640625,2722.520263671875,2956.75146484375,3020.3994140625,2991.157958984375,2960.73046875,2907.9150390625,2887.947265625,2885.56103515625,2825.17578125,2938.427978515625,3035.670166015625,2831.556640625,2541.327392578125,2246.2099609375,2038.7044677734375,1900.31884765625,1810.795654296875,1783.9793701171875,1799.79736328125,1933.7279052734375,1970.3551025390625]},\"selected\":{\"id\":\"1223\",\"type\":\"Selection\"},\"selection_policy\":{\"id\":\"1222\",\"type\":\"UnionRenderers\"}},\"id\":\"1174\",\"type\":\"ColumnDataSource\"},{\"attributes\":{\"text\":\"Multi-step prediction for model ARTRFDC_TPU_001, execution 9, on row 296 of test dataset, SMAPE = 0.016029462218284607\"},\"id\":\"1141\",\"type\":\"Title\"},{\"attributes\":{\"data_source\":{\"id\":\"1174\",\"type\":\"ColumnDataSource\"},\"glyph\":{\"id\":\"1175\",\"type\":\"Line\"},\"hover_glyph\":null,\"muted_glyph\":null,\"nonselection_glyph\":{\"id\":\"1176\",\"type\":\"Line\"},\"selection_glyph\":null,\"view\":{\"id\":\"1178\",\"type\":\"CDSView\"}},\"id\":\"1177\",\"type\":\"GlyphRenderer\"},{\"attributes\":{},\"id\":\"1162\",\"type\":\"WheelZoomTool\"},{\"attributes\":{\"overlay\":{\"id\":\"1196\",\"type\":\"BoxAnnotation\"}},\"id\":\"1163\",\"type\":\"BoxZoomTool\"},{\"attributes\":{\"label\":{\"value\":\"real\"},\"renderers\":[{\"id\":\"1177\",\"type\":\"GlyphRenderer\"}]},\"id\":\"1198\",\"type\":\"LegendItem\"},{\"attributes\":{\"days\":[1,4,7,10,13,16,19,22,25,28]},\"id\":\"1188\",\"type\":\"DaysTicker\"},{\"attributes\":{},\"id\":\"1223\",\"type\":\"Selection\"},{\"attributes\":{\"label\":{\"value\":\"predicted\"},\"renderers\":[{\"id\":\"1202\",\"type\":\"GlyphRenderer\"}]},\"id\":\"1224\",\"type\":\"LegendItem\"}],\"root_ids\":[\"1140\"]},\"title\":\"Bokeh Application\",\"version\":\"1.4.0\"}};\n",
       "  var render_items = [{\"docid\":\"195f3da7-7c73-4d3d-9868-540515ce9fb3\",\"roots\":{\"1140\":\"21936aff-e295-4677-9e20-4fc74a18e13a\"}}];\n",
       "  root.Bokeh.embed.embed_items_notebook(docs_json, render_items);\n",
       "\n",
       "  }\n",
       "  if (root.Bokeh !== undefined) {\n",
       "    embed_document(root);\n",
       "  } else {\n",
       "    var attempts = 0;\n",
       "    var timer = setInterval(function(root) {\n",
       "      if (root.Bokeh !== undefined) {\n",
       "        clearInterval(timer);\n",
       "        embed_document(root);\n",
       "      } else {\n",
       "        attempts++;\n",
       "        if (attempts > 100) {\n",
       "          clearInterval(timer);\n",
       "          console.log(\"Bokeh: ERROR: Unable to run BokehJS code because BokehJS library is missing\");\n",
       "        }\n",
       "      }\n",
       "    }, 10, root)\n",
       "  }\n",
       "})(window);"
      ],
      "application/vnd.bokehjs_exec.v0+json": ""
     },
     "metadata": {
      "application/vnd.bokehjs_exec.v0+json": {
       "id": "1140"
      }
     },
     "output_type": "display_data"
    }
   ],
   "source": [
    "# plot predictions for a single row in the test dataset\n",
    "row = 296\n",
    "\n",
    "plots['identifier'] = figure(\n",
    "    x_axis_type='datetime',\n",
    "    plot_width=960,\n",
    "    plot_height=400,\n",
    "    title='Multi-step prediction for model {}, execution {}, on row {} of {} dataset, SMAPE = {}'.format(\n",
    "        model_id,\n",
    "        execution,\n",
    "        row,\n",
    "        dataset,\n",
    "        predictions_detail_df.loc[row, 'smape']))\n",
    "\n",
    "plots['identifier'].grid.grid_line_alpha=0.5\n",
    "\n",
    "plots['identifier'].xaxis.axis_label = 'Timestamp'\n",
    "plots['identifier'].yaxis.axis_label = 'Active Power [KW]'\n",
    "\n",
    "plots['identifier'].line(\n",
    "    pd.to_datetime(predictions_detail_df.loc[row, 'string_timestamps']),\n",
    "    predictions_detail_df.loc[row, 'predictions'],\n",
    "    color='green',\n",
    "    legend_label='real')\n",
    "\n",
    "plots['identifier'].line(\n",
    "    pd.to_datetime(predictions_detail_df.loc[row, 'string_timestamps']),\n",
    "    predictions_detail_df.loc[row, 'targets'],\n",
    "    color='blue',\n",
    "    legend_label='predicted')\n",
    "\n",
    "# uncomment the following two lines to save plot\n",
    "# output_file('/home/developer/gcp/cbidmltsf/datasets/cfe/{}_H_kw.html'.format(device))\n",
    "# save(fig_kw)\n",
    "\n",
    "# uncomment the following line to display plot\n",
    "show(plots['identifier'])"
   ]
  },
  {
   "cell_type": "code",
   "execution_count": null,
   "metadata": {},
   "outputs": [],
   "source": []
  }
 ],
 "metadata": {
  "kernelspec": {
   "display_name": "Python 3",
   "language": "python",
   "name": "python3"
  },
  "language_info": {
   "codemirror_mode": {
    "name": "ipython",
    "version": 3
   },
   "file_extension": ".py",
   "mimetype": "text/x-python",
   "name": "python",
   "nbconvert_exporter": "python",
   "pygments_lexer": "ipython3",
   "version": "3.7.6"
  }
 },
 "nbformat": 4,
 "nbformat_minor": 4
}

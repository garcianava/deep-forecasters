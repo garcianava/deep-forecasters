{
 "cells": [
  {
   "cell_type": "code",
   "execution_count": 1,
   "metadata": {},
   "outputs": [],
   "source": [
    "# once tested in local environmnent, this notebook will have to be passed to GCP!!!"
   ]
  },
  {
   "cell_type": "code",
   "execution_count": 2,
   "metadata": {},
   "outputs": [],
   "source": [
    "import json"
   ]
  },
  {
   "cell_type": "code",
   "execution_count": 3,
   "metadata": {},
   "outputs": [],
   "source": [
    "# command line arguments for training script\n",
    "CONFIG_FILE = 'DMSLSTM_TPU_005.json'\n",
    "EXECUTION = 0\n",
    "PERSIST_PARAMETERS = True"
   ]
  },
  {
   "cell_type": "code",
   "execution_count": 4,
   "metadata": {},
   "outputs": [],
   "source": [
    "with open('../parameters/{}'.format(CONFIG_FILE), 'r') as input_file:\n",
    "    configuration = json.load(input_file)"
   ]
  },
  {
   "cell_type": "code",
   "execution_count": 5,
   "metadata": {},
   "outputs": [],
   "source": [
    "# keep it simple!\n",
    "# the configuration file should not depend on the sldb description to get sldb parameters,\n",
    "# populate the config file with all required parameters, so it can be used also as a model database"
   ]
  },
  {
   "cell_type": "code",
   "execution_count": 6,
   "metadata": {},
   "outputs": [],
   "source": [
    "parameters = {\n",
    "    'experiment_id': CONFIG_FILE.replace('.json', ''),\n",
    "    'sldb': configuration['sldb'],\n",
    "    'architecture': configuration['architecture'],\n",
    "    'training': configuration['training']\n",
    "}"
   ]
  },
  {
   "cell_type": "code",
   "execution_count": 7,
   "metadata": {},
   "outputs": [
    {
     "data": {
      "text/plain": [
       "'DMSLSTM_TPU_005'"
      ]
     },
     "execution_count": 7,
     "metadata": {},
     "output_type": "execute_result"
    }
   ],
   "source": [
    "parameters['experiment_id']"
   ]
  },
  {
   "cell_type": "code",
   "execution_count": 8,
   "metadata": {},
   "outputs": [
    {
     "data": {
      "text/plain": [
       "{'embedding': {'hourly': 8, 'daily': 8, 'weekly': 8},\n",
       " 'tau': {'hourly': 1, 'daily': 24, 'weekly': 168},\n",
       " 'no_targets': 24,\n",
       " 'total_train_rows': 16736,\n",
       " 'total_eval_rows': 896}"
      ]
     },
     "execution_count": 8,
     "metadata": {},
     "output_type": "execute_result"
    }
   ],
   "source": [
    "parameters['sldb']"
   ]
  },
  {
   "cell_type": "code",
   "execution_count": 9,
   "metadata": {},
   "outputs": [
    {
     "data": {
      "text/plain": [
       "{'hourly': {'structure': [64, 128],\n",
       "  'dropout': 0.2,\n",
       "  'unroll': False,\n",
       "  'implementation_mode': 1},\n",
       " 'daily': {'structure': [64, 128],\n",
       "  'dropout': 0.2,\n",
       "  'unroll': False,\n",
       "  'implementation_mode': 1},\n",
       " 'weekly': {'structure': [64, 128],\n",
       "  'dropout': 0.2,\n",
       "  'unroll': False,\n",
       "  'implementation_mode': 1},\n",
       " 'use_timestamps': True,\n",
       " 'dense': {'structure': [512, 128, 24],\n",
       "  'activation': ['relu', 'relu', 'sigmoid']}}"
      ]
     },
     "execution_count": 9,
     "metadata": {},
     "output_type": "execute_result"
    }
   ],
   "source": [
    "parameters['architecture']"
   ]
  },
  {
   "cell_type": "code",
   "execution_count": 10,
   "metadata": {},
   "outputs": [
    {
     "data": {
      "text/plain": [
       "{'base_learning_rate': 0.8,\n",
       " 'train_batch_size': 1024,\n",
       " 'training_steps': 1635,\n",
       " 'use_tpu': True,\n",
       " 'iterarions_per_loop': 20000,\n",
       " 'skip_host_call': False,\n",
       " 'save_summary_steps': 20000,\n",
       " 'log_step_count_steps': 20000,\n",
       " 'mode': 'train_and_evaluate',\n",
       " 'precision': 'bfloat16',\n",
       " 'eval_interval': 300,\n",
       " 'keep_checkpoint_max': 3,\n",
       " 'start_delay_secs': 600,\n",
       " 'throttle_secs': 600,\n",
       " 'job-dir': 'junk',\n",
       " 'project': 'spheric-rhythm-234515',\n",
       " 'num_cores': 8,\n",
       " 'tpu': 'tpu-v3-8-tensorflow-1-15-preemptible',\n",
       " 'tpu_zone': 'us-central1-a',\n",
       " 'lrs_steps': [5, 30, 60, 80],\n",
       " 'lrs_weights': [1.0, 0.1, 0.01, 0.001]}"
      ]
     },
     "execution_count": 10,
     "metadata": {},
     "output_type": "execute_result"
    }
   ],
   "source": [
    "parameters['training']"
   ]
  },
  {
   "cell_type": "code",
   "execution_count": 11,
   "metadata": {},
   "outputs": [],
   "source": [
    "model_dir = 'gs://cbidmltsf/models/{}_{:02d}'.format(parameters['experiment_id'], EXECUTION)"
   ]
  },
  {
   "cell_type": "code",
   "execution_count": 12,
   "metadata": {},
   "outputs": [
    {
     "data": {
      "text/plain": [
       "'gs://cbidmltsf/models/DMSLSTM_TPU_005_00'"
      ]
     },
     "execution_count": 12,
     "metadata": {},
     "output_type": "execute_result"
    }
   ],
   "source": [
    "model_dir"
   ]
  },
  {
   "cell_type": "code",
   "execution_count": null,
   "metadata": {},
   "outputs": [],
   "source": []
  }
 ],
 "metadata": {
  "kernelspec": {
   "display_name": "Python 3",
   "language": "python",
   "name": "python3"
  },
  "language_info": {
   "codemirror_mode": {
    "name": "ipython",
    "version": 3
   },
   "file_extension": ".py",
   "mimetype": "text/x-python",
   "name": "python",
   "nbconvert_exporter": "python",
   "pygments_lexer": "ipython3",
   "version": "3.7.6"
  }
 },
 "nbformat": 4,
 "nbformat_minor": 4
}

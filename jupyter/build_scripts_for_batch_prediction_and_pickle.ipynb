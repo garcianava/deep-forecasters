{
 "cells": [
  {
   "cell_type": "code",
   "execution_count": 2,
   "metadata": {},
   "outputs": [],
   "source": [
    "import numpy as np"
   ]
  },
  {
   "cell_type": "code",
   "execution_count": 3,
   "metadata": {},
   "outputs": [],
   "source": [
    "architecture = 'DMSLSTM'"
   ]
  },
  {
   "cell_type": "code",
   "execution_count": 4,
   "metadata": {},
   "outputs": [],
   "source": [
    "infrastructure = 'TPU'"
   ]
  },
  {
   "cell_type": "code",
   "execution_count": 5,
   "metadata": {},
   "outputs": [],
   "source": [
    "# exp_range_list = [x for x in range(70, 80)]"
   ]
  },
  {
   "cell_type": "code",
   "execution_count": 6,
   "metadata": {},
   "outputs": [],
   "source": [
    "exp_range_list = [87, 88, 89, 91, 92, 93, 94, 95, 96, 97, 98]"
   ]
  },
  {
   "cell_type": "code",
   "execution_count": 7,
   "metadata": {},
   "outputs": [],
   "source": [
    "model_ids_list = ['{}_{}_{:02}'.format(architecture, infrastructure, item)\\\n",
    "                  for item in exp_range_list]"
   ]
  },
  {
   "cell_type": "code",
   "execution_count": 8,
   "metadata": {},
   "outputs": [
    {
     "data": {
      "text/plain": [
       "['DMSLSTM_TPU_87',\n",
       " 'DMSLSTM_TPU_88',\n",
       " 'DMSLSTM_TPU_89',\n",
       " 'DMSLSTM_TPU_91',\n",
       " 'DMSLSTM_TPU_92',\n",
       " 'DMSLSTM_TPU_93',\n",
       " 'DMSLSTM_TPU_94',\n",
       " 'DMSLSTM_TPU_95',\n",
       " 'DMSLSTM_TPU_96',\n",
       " 'DMSLSTM_TPU_97',\n",
       " 'DMSLSTM_TPU_98']"
      ]
     },
     "execution_count": 8,
     "metadata": {},
     "output_type": "execute_result"
    }
   ],
   "source": [
    "model_ids_list"
   ]
  },
  {
   "cell_type": "code",
   "execution_count": 9,
   "metadata": {},
   "outputs": [],
   "source": [
    "num_executions = 10"
   ]
  },
  {
   "cell_type": "code",
   "execution_count": 10,
   "metadata": {},
   "outputs": [],
   "source": [
    "data_dir = 'gs://cbidmltsf/sldbs/CPE04015_desbI_H_2017-04-01_00:00:00_2018-02-28_23:00:00_H008001001_D008024001_W004168001'"
   ]
  },
  {
   "cell_type": "code",
   "execution_count": 11,
   "metadata": {},
   "outputs": [],
   "source": [
    "dataset = 'test.tfrecord'"
   ]
  },
  {
   "cell_type": "code",
   "execution_count": 12,
   "metadata": {},
   "outputs": [
    {
     "name": "stdout",
     "output_type": "stream",
     "text": [
      "python3 make_predictions.py --model_dir='gs://cbidmltsf/models/DMSLSTM_TPU_87_00' --data_dir='gs://cbidmltsf/sldbs/CPE04015_desbI_H_2017-04-01_00:00:00_2018-02-28_23:00:00_H008001001_D008024001_W004168001' --dataset='test.tfrecord'\n",
      "python3 make_predictions.py --model_dir='gs://cbidmltsf/models/DMSLSTM_TPU_87_01' --data_dir='gs://cbidmltsf/sldbs/CPE04015_desbI_H_2017-04-01_00:00:00_2018-02-28_23:00:00_H008001001_D008024001_W004168001' --dataset='test.tfrecord'\n",
      "python3 make_predictions.py --model_dir='gs://cbidmltsf/models/DMSLSTM_TPU_87_02' --data_dir='gs://cbidmltsf/sldbs/CPE04015_desbI_H_2017-04-01_00:00:00_2018-02-28_23:00:00_H008001001_D008024001_W004168001' --dataset='test.tfrecord'\n",
      "python3 make_predictions.py --model_dir='gs://cbidmltsf/models/DMSLSTM_TPU_87_03' --data_dir='gs://cbidmltsf/sldbs/CPE04015_desbI_H_2017-04-01_00:00:00_2018-02-28_23:00:00_H008001001_D008024001_W004168001' --dataset='test.tfrecord'\n",
      "python3 make_predictions.py --model_dir='gs://cbidmltsf/models/DMSLSTM_TPU_87_04' --data_dir='gs://cbidmltsf/sldbs/CPE04015_desbI_H_2017-04-01_00:00:00_2018-02-28_23:00:00_H008001001_D008024001_W004168001' --dataset='test.tfrecord'\n",
      "python3 make_predictions.py --model_dir='gs://cbidmltsf/models/DMSLSTM_TPU_87_05' --data_dir='gs://cbidmltsf/sldbs/CPE04015_desbI_H_2017-04-01_00:00:00_2018-02-28_23:00:00_H008001001_D008024001_W004168001' --dataset='test.tfrecord'\n",
      "python3 make_predictions.py --model_dir='gs://cbidmltsf/models/DMSLSTM_TPU_87_06' --data_dir='gs://cbidmltsf/sldbs/CPE04015_desbI_H_2017-04-01_00:00:00_2018-02-28_23:00:00_H008001001_D008024001_W004168001' --dataset='test.tfrecord'\n",
      "python3 make_predictions.py --model_dir='gs://cbidmltsf/models/DMSLSTM_TPU_87_07' --data_dir='gs://cbidmltsf/sldbs/CPE04015_desbI_H_2017-04-01_00:00:00_2018-02-28_23:00:00_H008001001_D008024001_W004168001' --dataset='test.tfrecord'\n",
      "python3 make_predictions.py --model_dir='gs://cbidmltsf/models/DMSLSTM_TPU_87_08' --data_dir='gs://cbidmltsf/sldbs/CPE04015_desbI_H_2017-04-01_00:00:00_2018-02-28_23:00:00_H008001001_D008024001_W004168001' --dataset='test.tfrecord'\n",
      "python3 make_predictions.py --model_dir='gs://cbidmltsf/models/DMSLSTM_TPU_87_09' --data_dir='gs://cbidmltsf/sldbs/CPE04015_desbI_H_2017-04-01_00:00:00_2018-02-28_23:00:00_H008001001_D008024001_W004168001' --dataset='test.tfrecord'\n",
      "python3 make_predictions.py --model_dir='gs://cbidmltsf/models/DMSLSTM_TPU_88_00' --data_dir='gs://cbidmltsf/sldbs/CPE04015_desbI_H_2017-04-01_00:00:00_2018-02-28_23:00:00_H008001001_D008024001_W004168001' --dataset='test.tfrecord'\n",
      "python3 make_predictions.py --model_dir='gs://cbidmltsf/models/DMSLSTM_TPU_88_01' --data_dir='gs://cbidmltsf/sldbs/CPE04015_desbI_H_2017-04-01_00:00:00_2018-02-28_23:00:00_H008001001_D008024001_W004168001' --dataset='test.tfrecord'\n",
      "python3 make_predictions.py --model_dir='gs://cbidmltsf/models/DMSLSTM_TPU_88_02' --data_dir='gs://cbidmltsf/sldbs/CPE04015_desbI_H_2017-04-01_00:00:00_2018-02-28_23:00:00_H008001001_D008024001_W004168001' --dataset='test.tfrecord'\n",
      "python3 make_predictions.py --model_dir='gs://cbidmltsf/models/DMSLSTM_TPU_88_03' --data_dir='gs://cbidmltsf/sldbs/CPE04015_desbI_H_2017-04-01_00:00:00_2018-02-28_23:00:00_H008001001_D008024001_W004168001' --dataset='test.tfrecord'\n",
      "python3 make_predictions.py --model_dir='gs://cbidmltsf/models/DMSLSTM_TPU_88_04' --data_dir='gs://cbidmltsf/sldbs/CPE04015_desbI_H_2017-04-01_00:00:00_2018-02-28_23:00:00_H008001001_D008024001_W004168001' --dataset='test.tfrecord'\n",
      "python3 make_predictions.py --model_dir='gs://cbidmltsf/models/DMSLSTM_TPU_88_05' --data_dir='gs://cbidmltsf/sldbs/CPE04015_desbI_H_2017-04-01_00:00:00_2018-02-28_23:00:00_H008001001_D008024001_W004168001' --dataset='test.tfrecord'\n",
      "python3 make_predictions.py --model_dir='gs://cbidmltsf/models/DMSLSTM_TPU_88_06' --data_dir='gs://cbidmltsf/sldbs/CPE04015_desbI_H_2017-04-01_00:00:00_2018-02-28_23:00:00_H008001001_D008024001_W004168001' --dataset='test.tfrecord'\n",
      "python3 make_predictions.py --model_dir='gs://cbidmltsf/models/DMSLSTM_TPU_88_07' --data_dir='gs://cbidmltsf/sldbs/CPE04015_desbI_H_2017-04-01_00:00:00_2018-02-28_23:00:00_H008001001_D008024001_W004168001' --dataset='test.tfrecord'\n",
      "python3 make_predictions.py --model_dir='gs://cbidmltsf/models/DMSLSTM_TPU_88_08' --data_dir='gs://cbidmltsf/sldbs/CPE04015_desbI_H_2017-04-01_00:00:00_2018-02-28_23:00:00_H008001001_D008024001_W004168001' --dataset='test.tfrecord'\n",
      "python3 make_predictions.py --model_dir='gs://cbidmltsf/models/DMSLSTM_TPU_88_09' --data_dir='gs://cbidmltsf/sldbs/CPE04015_desbI_H_2017-04-01_00:00:00_2018-02-28_23:00:00_H008001001_D008024001_W004168001' --dataset='test.tfrecord'\n",
      "python3 make_predictions.py --model_dir='gs://cbidmltsf/models/DMSLSTM_TPU_89_00' --data_dir='gs://cbidmltsf/sldbs/CPE04015_desbI_H_2017-04-01_00:00:00_2018-02-28_23:00:00_H008001001_D008024001_W004168001' --dataset='test.tfrecord'\n",
      "python3 make_predictions.py --model_dir='gs://cbidmltsf/models/DMSLSTM_TPU_89_01' --data_dir='gs://cbidmltsf/sldbs/CPE04015_desbI_H_2017-04-01_00:00:00_2018-02-28_23:00:00_H008001001_D008024001_W004168001' --dataset='test.tfrecord'\n",
      "python3 make_predictions.py --model_dir='gs://cbidmltsf/models/DMSLSTM_TPU_89_02' --data_dir='gs://cbidmltsf/sldbs/CPE04015_desbI_H_2017-04-01_00:00:00_2018-02-28_23:00:00_H008001001_D008024001_W004168001' --dataset='test.tfrecord'\n",
      "python3 make_predictions.py --model_dir='gs://cbidmltsf/models/DMSLSTM_TPU_89_03' --data_dir='gs://cbidmltsf/sldbs/CPE04015_desbI_H_2017-04-01_00:00:00_2018-02-28_23:00:00_H008001001_D008024001_W004168001' --dataset='test.tfrecord'\n",
      "python3 make_predictions.py --model_dir='gs://cbidmltsf/models/DMSLSTM_TPU_89_04' --data_dir='gs://cbidmltsf/sldbs/CPE04015_desbI_H_2017-04-01_00:00:00_2018-02-28_23:00:00_H008001001_D008024001_W004168001' --dataset='test.tfrecord'\n",
      "python3 make_predictions.py --model_dir='gs://cbidmltsf/models/DMSLSTM_TPU_89_05' --data_dir='gs://cbidmltsf/sldbs/CPE04015_desbI_H_2017-04-01_00:00:00_2018-02-28_23:00:00_H008001001_D008024001_W004168001' --dataset='test.tfrecord'\n",
      "python3 make_predictions.py --model_dir='gs://cbidmltsf/models/DMSLSTM_TPU_89_06' --data_dir='gs://cbidmltsf/sldbs/CPE04015_desbI_H_2017-04-01_00:00:00_2018-02-28_23:00:00_H008001001_D008024001_W004168001' --dataset='test.tfrecord'\n",
      "python3 make_predictions.py --model_dir='gs://cbidmltsf/models/DMSLSTM_TPU_89_07' --data_dir='gs://cbidmltsf/sldbs/CPE04015_desbI_H_2017-04-01_00:00:00_2018-02-28_23:00:00_H008001001_D008024001_W004168001' --dataset='test.tfrecord'\n",
      "python3 make_predictions.py --model_dir='gs://cbidmltsf/models/DMSLSTM_TPU_89_08' --data_dir='gs://cbidmltsf/sldbs/CPE04015_desbI_H_2017-04-01_00:00:00_2018-02-28_23:00:00_H008001001_D008024001_W004168001' --dataset='test.tfrecord'\n",
      "python3 make_predictions.py --model_dir='gs://cbidmltsf/models/DMSLSTM_TPU_89_09' --data_dir='gs://cbidmltsf/sldbs/CPE04015_desbI_H_2017-04-01_00:00:00_2018-02-28_23:00:00_H008001001_D008024001_W004168001' --dataset='test.tfrecord'\n",
      "python3 make_predictions.py --model_dir='gs://cbidmltsf/models/DMSLSTM_TPU_91_00' --data_dir='gs://cbidmltsf/sldbs/CPE04015_desbI_H_2017-04-01_00:00:00_2018-02-28_23:00:00_H008001001_D008024001_W004168001' --dataset='test.tfrecord'\n",
      "python3 make_predictions.py --model_dir='gs://cbidmltsf/models/DMSLSTM_TPU_91_01' --data_dir='gs://cbidmltsf/sldbs/CPE04015_desbI_H_2017-04-01_00:00:00_2018-02-28_23:00:00_H008001001_D008024001_W004168001' --dataset='test.tfrecord'\n",
      "python3 make_predictions.py --model_dir='gs://cbidmltsf/models/DMSLSTM_TPU_91_02' --data_dir='gs://cbidmltsf/sldbs/CPE04015_desbI_H_2017-04-01_00:00:00_2018-02-28_23:00:00_H008001001_D008024001_W004168001' --dataset='test.tfrecord'\n",
      "python3 make_predictions.py --model_dir='gs://cbidmltsf/models/DMSLSTM_TPU_91_03' --data_dir='gs://cbidmltsf/sldbs/CPE04015_desbI_H_2017-04-01_00:00:00_2018-02-28_23:00:00_H008001001_D008024001_W004168001' --dataset='test.tfrecord'\n",
      "python3 make_predictions.py --model_dir='gs://cbidmltsf/models/DMSLSTM_TPU_91_04' --data_dir='gs://cbidmltsf/sldbs/CPE04015_desbI_H_2017-04-01_00:00:00_2018-02-28_23:00:00_H008001001_D008024001_W004168001' --dataset='test.tfrecord'\n",
      "python3 make_predictions.py --model_dir='gs://cbidmltsf/models/DMSLSTM_TPU_91_05' --data_dir='gs://cbidmltsf/sldbs/CPE04015_desbI_H_2017-04-01_00:00:00_2018-02-28_23:00:00_H008001001_D008024001_W004168001' --dataset='test.tfrecord'\n",
      "python3 make_predictions.py --model_dir='gs://cbidmltsf/models/DMSLSTM_TPU_91_06' --data_dir='gs://cbidmltsf/sldbs/CPE04015_desbI_H_2017-04-01_00:00:00_2018-02-28_23:00:00_H008001001_D008024001_W004168001' --dataset='test.tfrecord'\n",
      "python3 make_predictions.py --model_dir='gs://cbidmltsf/models/DMSLSTM_TPU_91_07' --data_dir='gs://cbidmltsf/sldbs/CPE04015_desbI_H_2017-04-01_00:00:00_2018-02-28_23:00:00_H008001001_D008024001_W004168001' --dataset='test.tfrecord'\n",
      "python3 make_predictions.py --model_dir='gs://cbidmltsf/models/DMSLSTM_TPU_91_08' --data_dir='gs://cbidmltsf/sldbs/CPE04015_desbI_H_2017-04-01_00:00:00_2018-02-28_23:00:00_H008001001_D008024001_W004168001' --dataset='test.tfrecord'\n",
      "python3 make_predictions.py --model_dir='gs://cbidmltsf/models/DMSLSTM_TPU_91_09' --data_dir='gs://cbidmltsf/sldbs/CPE04015_desbI_H_2017-04-01_00:00:00_2018-02-28_23:00:00_H008001001_D008024001_W004168001' --dataset='test.tfrecord'\n",
      "python3 make_predictions.py --model_dir='gs://cbidmltsf/models/DMSLSTM_TPU_92_00' --data_dir='gs://cbidmltsf/sldbs/CPE04015_desbI_H_2017-04-01_00:00:00_2018-02-28_23:00:00_H008001001_D008024001_W004168001' --dataset='test.tfrecord'\n",
      "python3 make_predictions.py --model_dir='gs://cbidmltsf/models/DMSLSTM_TPU_92_01' --data_dir='gs://cbidmltsf/sldbs/CPE04015_desbI_H_2017-04-01_00:00:00_2018-02-28_23:00:00_H008001001_D008024001_W004168001' --dataset='test.tfrecord'\n",
      "python3 make_predictions.py --model_dir='gs://cbidmltsf/models/DMSLSTM_TPU_92_02' --data_dir='gs://cbidmltsf/sldbs/CPE04015_desbI_H_2017-04-01_00:00:00_2018-02-28_23:00:00_H008001001_D008024001_W004168001' --dataset='test.tfrecord'\n",
      "python3 make_predictions.py --model_dir='gs://cbidmltsf/models/DMSLSTM_TPU_92_03' --data_dir='gs://cbidmltsf/sldbs/CPE04015_desbI_H_2017-04-01_00:00:00_2018-02-28_23:00:00_H008001001_D008024001_W004168001' --dataset='test.tfrecord'\n",
      "python3 make_predictions.py --model_dir='gs://cbidmltsf/models/DMSLSTM_TPU_92_04' --data_dir='gs://cbidmltsf/sldbs/CPE04015_desbI_H_2017-04-01_00:00:00_2018-02-28_23:00:00_H008001001_D008024001_W004168001' --dataset='test.tfrecord'\n",
      "python3 make_predictions.py --model_dir='gs://cbidmltsf/models/DMSLSTM_TPU_92_05' --data_dir='gs://cbidmltsf/sldbs/CPE04015_desbI_H_2017-04-01_00:00:00_2018-02-28_23:00:00_H008001001_D008024001_W004168001' --dataset='test.tfrecord'\n",
      "python3 make_predictions.py --model_dir='gs://cbidmltsf/models/DMSLSTM_TPU_92_06' --data_dir='gs://cbidmltsf/sldbs/CPE04015_desbI_H_2017-04-01_00:00:00_2018-02-28_23:00:00_H008001001_D008024001_W004168001' --dataset='test.tfrecord'\n",
      "python3 make_predictions.py --model_dir='gs://cbidmltsf/models/DMSLSTM_TPU_92_07' --data_dir='gs://cbidmltsf/sldbs/CPE04015_desbI_H_2017-04-01_00:00:00_2018-02-28_23:00:00_H008001001_D008024001_W004168001' --dataset='test.tfrecord'\n",
      "python3 make_predictions.py --model_dir='gs://cbidmltsf/models/DMSLSTM_TPU_92_08' --data_dir='gs://cbidmltsf/sldbs/CPE04015_desbI_H_2017-04-01_00:00:00_2018-02-28_23:00:00_H008001001_D008024001_W004168001' --dataset='test.tfrecord'\n",
      "python3 make_predictions.py --model_dir='gs://cbidmltsf/models/DMSLSTM_TPU_92_09' --data_dir='gs://cbidmltsf/sldbs/CPE04015_desbI_H_2017-04-01_00:00:00_2018-02-28_23:00:00_H008001001_D008024001_W004168001' --dataset='test.tfrecord'\n",
      "python3 make_predictions.py --model_dir='gs://cbidmltsf/models/DMSLSTM_TPU_93_00' --data_dir='gs://cbidmltsf/sldbs/CPE04015_desbI_H_2017-04-01_00:00:00_2018-02-28_23:00:00_H008001001_D008024001_W004168001' --dataset='test.tfrecord'\n",
      "python3 make_predictions.py --model_dir='gs://cbidmltsf/models/DMSLSTM_TPU_93_01' --data_dir='gs://cbidmltsf/sldbs/CPE04015_desbI_H_2017-04-01_00:00:00_2018-02-28_23:00:00_H008001001_D008024001_W004168001' --dataset='test.tfrecord'\n",
      "python3 make_predictions.py --model_dir='gs://cbidmltsf/models/DMSLSTM_TPU_93_02' --data_dir='gs://cbidmltsf/sldbs/CPE04015_desbI_H_2017-04-01_00:00:00_2018-02-28_23:00:00_H008001001_D008024001_W004168001' --dataset='test.tfrecord'\n",
      "python3 make_predictions.py --model_dir='gs://cbidmltsf/models/DMSLSTM_TPU_93_03' --data_dir='gs://cbidmltsf/sldbs/CPE04015_desbI_H_2017-04-01_00:00:00_2018-02-28_23:00:00_H008001001_D008024001_W004168001' --dataset='test.tfrecord'\n",
      "python3 make_predictions.py --model_dir='gs://cbidmltsf/models/DMSLSTM_TPU_93_04' --data_dir='gs://cbidmltsf/sldbs/CPE04015_desbI_H_2017-04-01_00:00:00_2018-02-28_23:00:00_H008001001_D008024001_W004168001' --dataset='test.tfrecord'\n",
      "python3 make_predictions.py --model_dir='gs://cbidmltsf/models/DMSLSTM_TPU_93_05' --data_dir='gs://cbidmltsf/sldbs/CPE04015_desbI_H_2017-04-01_00:00:00_2018-02-28_23:00:00_H008001001_D008024001_W004168001' --dataset='test.tfrecord'\n",
      "python3 make_predictions.py --model_dir='gs://cbidmltsf/models/DMSLSTM_TPU_93_06' --data_dir='gs://cbidmltsf/sldbs/CPE04015_desbI_H_2017-04-01_00:00:00_2018-02-28_23:00:00_H008001001_D008024001_W004168001' --dataset='test.tfrecord'\n",
      "python3 make_predictions.py --model_dir='gs://cbidmltsf/models/DMSLSTM_TPU_93_07' --data_dir='gs://cbidmltsf/sldbs/CPE04015_desbI_H_2017-04-01_00:00:00_2018-02-28_23:00:00_H008001001_D008024001_W004168001' --dataset='test.tfrecord'\n",
      "python3 make_predictions.py --model_dir='gs://cbidmltsf/models/DMSLSTM_TPU_93_08' --data_dir='gs://cbidmltsf/sldbs/CPE04015_desbI_H_2017-04-01_00:00:00_2018-02-28_23:00:00_H008001001_D008024001_W004168001' --dataset='test.tfrecord'\n",
      "python3 make_predictions.py --model_dir='gs://cbidmltsf/models/DMSLSTM_TPU_93_09' --data_dir='gs://cbidmltsf/sldbs/CPE04015_desbI_H_2017-04-01_00:00:00_2018-02-28_23:00:00_H008001001_D008024001_W004168001' --dataset='test.tfrecord'\n",
      "python3 make_predictions.py --model_dir='gs://cbidmltsf/models/DMSLSTM_TPU_94_00' --data_dir='gs://cbidmltsf/sldbs/CPE04015_desbI_H_2017-04-01_00:00:00_2018-02-28_23:00:00_H008001001_D008024001_W004168001' --dataset='test.tfrecord'\n",
      "python3 make_predictions.py --model_dir='gs://cbidmltsf/models/DMSLSTM_TPU_94_01' --data_dir='gs://cbidmltsf/sldbs/CPE04015_desbI_H_2017-04-01_00:00:00_2018-02-28_23:00:00_H008001001_D008024001_W004168001' --dataset='test.tfrecord'\n",
      "python3 make_predictions.py --model_dir='gs://cbidmltsf/models/DMSLSTM_TPU_94_02' --data_dir='gs://cbidmltsf/sldbs/CPE04015_desbI_H_2017-04-01_00:00:00_2018-02-28_23:00:00_H008001001_D008024001_W004168001' --dataset='test.tfrecord'\n",
      "python3 make_predictions.py --model_dir='gs://cbidmltsf/models/DMSLSTM_TPU_94_03' --data_dir='gs://cbidmltsf/sldbs/CPE04015_desbI_H_2017-04-01_00:00:00_2018-02-28_23:00:00_H008001001_D008024001_W004168001' --dataset='test.tfrecord'\n",
      "python3 make_predictions.py --model_dir='gs://cbidmltsf/models/DMSLSTM_TPU_94_04' --data_dir='gs://cbidmltsf/sldbs/CPE04015_desbI_H_2017-04-01_00:00:00_2018-02-28_23:00:00_H008001001_D008024001_W004168001' --dataset='test.tfrecord'\n",
      "python3 make_predictions.py --model_dir='gs://cbidmltsf/models/DMSLSTM_TPU_94_05' --data_dir='gs://cbidmltsf/sldbs/CPE04015_desbI_H_2017-04-01_00:00:00_2018-02-28_23:00:00_H008001001_D008024001_W004168001' --dataset='test.tfrecord'\n",
      "python3 make_predictions.py --model_dir='gs://cbidmltsf/models/DMSLSTM_TPU_94_06' --data_dir='gs://cbidmltsf/sldbs/CPE04015_desbI_H_2017-04-01_00:00:00_2018-02-28_23:00:00_H008001001_D008024001_W004168001' --dataset='test.tfrecord'\n",
      "python3 make_predictions.py --model_dir='gs://cbidmltsf/models/DMSLSTM_TPU_94_07' --data_dir='gs://cbidmltsf/sldbs/CPE04015_desbI_H_2017-04-01_00:00:00_2018-02-28_23:00:00_H008001001_D008024001_W004168001' --dataset='test.tfrecord'\n",
      "python3 make_predictions.py --model_dir='gs://cbidmltsf/models/DMSLSTM_TPU_94_08' --data_dir='gs://cbidmltsf/sldbs/CPE04015_desbI_H_2017-04-01_00:00:00_2018-02-28_23:00:00_H008001001_D008024001_W004168001' --dataset='test.tfrecord'\n",
      "python3 make_predictions.py --model_dir='gs://cbidmltsf/models/DMSLSTM_TPU_94_09' --data_dir='gs://cbidmltsf/sldbs/CPE04015_desbI_H_2017-04-01_00:00:00_2018-02-28_23:00:00_H008001001_D008024001_W004168001' --dataset='test.tfrecord'\n",
      "python3 make_predictions.py --model_dir='gs://cbidmltsf/models/DMSLSTM_TPU_95_00' --data_dir='gs://cbidmltsf/sldbs/CPE04015_desbI_H_2017-04-01_00:00:00_2018-02-28_23:00:00_H008001001_D008024001_W004168001' --dataset='test.tfrecord'\n",
      "python3 make_predictions.py --model_dir='gs://cbidmltsf/models/DMSLSTM_TPU_95_01' --data_dir='gs://cbidmltsf/sldbs/CPE04015_desbI_H_2017-04-01_00:00:00_2018-02-28_23:00:00_H008001001_D008024001_W004168001' --dataset='test.tfrecord'\n",
      "python3 make_predictions.py --model_dir='gs://cbidmltsf/models/DMSLSTM_TPU_95_02' --data_dir='gs://cbidmltsf/sldbs/CPE04015_desbI_H_2017-04-01_00:00:00_2018-02-28_23:00:00_H008001001_D008024001_W004168001' --dataset='test.tfrecord'\n",
      "python3 make_predictions.py --model_dir='gs://cbidmltsf/models/DMSLSTM_TPU_95_03' --data_dir='gs://cbidmltsf/sldbs/CPE04015_desbI_H_2017-04-01_00:00:00_2018-02-28_23:00:00_H008001001_D008024001_W004168001' --dataset='test.tfrecord'\n",
      "python3 make_predictions.py --model_dir='gs://cbidmltsf/models/DMSLSTM_TPU_95_04' --data_dir='gs://cbidmltsf/sldbs/CPE04015_desbI_H_2017-04-01_00:00:00_2018-02-28_23:00:00_H008001001_D008024001_W004168001' --dataset='test.tfrecord'\n",
      "python3 make_predictions.py --model_dir='gs://cbidmltsf/models/DMSLSTM_TPU_95_05' --data_dir='gs://cbidmltsf/sldbs/CPE04015_desbI_H_2017-04-01_00:00:00_2018-02-28_23:00:00_H008001001_D008024001_W004168001' --dataset='test.tfrecord'\n",
      "python3 make_predictions.py --model_dir='gs://cbidmltsf/models/DMSLSTM_TPU_95_06' --data_dir='gs://cbidmltsf/sldbs/CPE04015_desbI_H_2017-04-01_00:00:00_2018-02-28_23:00:00_H008001001_D008024001_W004168001' --dataset='test.tfrecord'\n",
      "python3 make_predictions.py --model_dir='gs://cbidmltsf/models/DMSLSTM_TPU_95_07' --data_dir='gs://cbidmltsf/sldbs/CPE04015_desbI_H_2017-04-01_00:00:00_2018-02-28_23:00:00_H008001001_D008024001_W004168001' --dataset='test.tfrecord'\n",
      "python3 make_predictions.py --model_dir='gs://cbidmltsf/models/DMSLSTM_TPU_95_08' --data_dir='gs://cbidmltsf/sldbs/CPE04015_desbI_H_2017-04-01_00:00:00_2018-02-28_23:00:00_H008001001_D008024001_W004168001' --dataset='test.tfrecord'\n",
      "python3 make_predictions.py --model_dir='gs://cbidmltsf/models/DMSLSTM_TPU_95_09' --data_dir='gs://cbidmltsf/sldbs/CPE04015_desbI_H_2017-04-01_00:00:00_2018-02-28_23:00:00_H008001001_D008024001_W004168001' --dataset='test.tfrecord'\n",
      "python3 make_predictions.py --model_dir='gs://cbidmltsf/models/DMSLSTM_TPU_96_00' --data_dir='gs://cbidmltsf/sldbs/CPE04015_desbI_H_2017-04-01_00:00:00_2018-02-28_23:00:00_H008001001_D008024001_W004168001' --dataset='test.tfrecord'\n",
      "python3 make_predictions.py --model_dir='gs://cbidmltsf/models/DMSLSTM_TPU_96_01' --data_dir='gs://cbidmltsf/sldbs/CPE04015_desbI_H_2017-04-01_00:00:00_2018-02-28_23:00:00_H008001001_D008024001_W004168001' --dataset='test.tfrecord'\n",
      "python3 make_predictions.py --model_dir='gs://cbidmltsf/models/DMSLSTM_TPU_96_02' --data_dir='gs://cbidmltsf/sldbs/CPE04015_desbI_H_2017-04-01_00:00:00_2018-02-28_23:00:00_H008001001_D008024001_W004168001' --dataset='test.tfrecord'\n",
      "python3 make_predictions.py --model_dir='gs://cbidmltsf/models/DMSLSTM_TPU_96_03' --data_dir='gs://cbidmltsf/sldbs/CPE04015_desbI_H_2017-04-01_00:00:00_2018-02-28_23:00:00_H008001001_D008024001_W004168001' --dataset='test.tfrecord'\n",
      "python3 make_predictions.py --model_dir='gs://cbidmltsf/models/DMSLSTM_TPU_96_04' --data_dir='gs://cbidmltsf/sldbs/CPE04015_desbI_H_2017-04-01_00:00:00_2018-02-28_23:00:00_H008001001_D008024001_W004168001' --dataset='test.tfrecord'\n",
      "python3 make_predictions.py --model_dir='gs://cbidmltsf/models/DMSLSTM_TPU_96_05' --data_dir='gs://cbidmltsf/sldbs/CPE04015_desbI_H_2017-04-01_00:00:00_2018-02-28_23:00:00_H008001001_D008024001_W004168001' --dataset='test.tfrecord'\n",
      "python3 make_predictions.py --model_dir='gs://cbidmltsf/models/DMSLSTM_TPU_96_06' --data_dir='gs://cbidmltsf/sldbs/CPE04015_desbI_H_2017-04-01_00:00:00_2018-02-28_23:00:00_H008001001_D008024001_W004168001' --dataset='test.tfrecord'\n",
      "python3 make_predictions.py --model_dir='gs://cbidmltsf/models/DMSLSTM_TPU_96_07' --data_dir='gs://cbidmltsf/sldbs/CPE04015_desbI_H_2017-04-01_00:00:00_2018-02-28_23:00:00_H008001001_D008024001_W004168001' --dataset='test.tfrecord'\n",
      "python3 make_predictions.py --model_dir='gs://cbidmltsf/models/DMSLSTM_TPU_96_08' --data_dir='gs://cbidmltsf/sldbs/CPE04015_desbI_H_2017-04-01_00:00:00_2018-02-28_23:00:00_H008001001_D008024001_W004168001' --dataset='test.tfrecord'\n",
      "python3 make_predictions.py --model_dir='gs://cbidmltsf/models/DMSLSTM_TPU_96_09' --data_dir='gs://cbidmltsf/sldbs/CPE04015_desbI_H_2017-04-01_00:00:00_2018-02-28_23:00:00_H008001001_D008024001_W004168001' --dataset='test.tfrecord'\n",
      "python3 make_predictions.py --model_dir='gs://cbidmltsf/models/DMSLSTM_TPU_97_00' --data_dir='gs://cbidmltsf/sldbs/CPE04015_desbI_H_2017-04-01_00:00:00_2018-02-28_23:00:00_H008001001_D008024001_W004168001' --dataset='test.tfrecord'\n",
      "python3 make_predictions.py --model_dir='gs://cbidmltsf/models/DMSLSTM_TPU_97_01' --data_dir='gs://cbidmltsf/sldbs/CPE04015_desbI_H_2017-04-01_00:00:00_2018-02-28_23:00:00_H008001001_D008024001_W004168001' --dataset='test.tfrecord'\n",
      "python3 make_predictions.py --model_dir='gs://cbidmltsf/models/DMSLSTM_TPU_97_02' --data_dir='gs://cbidmltsf/sldbs/CPE04015_desbI_H_2017-04-01_00:00:00_2018-02-28_23:00:00_H008001001_D008024001_W004168001' --dataset='test.tfrecord'\n",
      "python3 make_predictions.py --model_dir='gs://cbidmltsf/models/DMSLSTM_TPU_97_03' --data_dir='gs://cbidmltsf/sldbs/CPE04015_desbI_H_2017-04-01_00:00:00_2018-02-28_23:00:00_H008001001_D008024001_W004168001' --dataset='test.tfrecord'\n",
      "python3 make_predictions.py --model_dir='gs://cbidmltsf/models/DMSLSTM_TPU_97_04' --data_dir='gs://cbidmltsf/sldbs/CPE04015_desbI_H_2017-04-01_00:00:00_2018-02-28_23:00:00_H008001001_D008024001_W004168001' --dataset='test.tfrecord'\n",
      "python3 make_predictions.py --model_dir='gs://cbidmltsf/models/DMSLSTM_TPU_97_05' --data_dir='gs://cbidmltsf/sldbs/CPE04015_desbI_H_2017-04-01_00:00:00_2018-02-28_23:00:00_H008001001_D008024001_W004168001' --dataset='test.tfrecord'\n",
      "python3 make_predictions.py --model_dir='gs://cbidmltsf/models/DMSLSTM_TPU_97_06' --data_dir='gs://cbidmltsf/sldbs/CPE04015_desbI_H_2017-04-01_00:00:00_2018-02-28_23:00:00_H008001001_D008024001_W004168001' --dataset='test.tfrecord'\n",
      "python3 make_predictions.py --model_dir='gs://cbidmltsf/models/DMSLSTM_TPU_97_07' --data_dir='gs://cbidmltsf/sldbs/CPE04015_desbI_H_2017-04-01_00:00:00_2018-02-28_23:00:00_H008001001_D008024001_W004168001' --dataset='test.tfrecord'\n",
      "python3 make_predictions.py --model_dir='gs://cbidmltsf/models/DMSLSTM_TPU_97_08' --data_dir='gs://cbidmltsf/sldbs/CPE04015_desbI_H_2017-04-01_00:00:00_2018-02-28_23:00:00_H008001001_D008024001_W004168001' --dataset='test.tfrecord'\n",
      "python3 make_predictions.py --model_dir='gs://cbidmltsf/models/DMSLSTM_TPU_97_09' --data_dir='gs://cbidmltsf/sldbs/CPE04015_desbI_H_2017-04-01_00:00:00_2018-02-28_23:00:00_H008001001_D008024001_W004168001' --dataset='test.tfrecord'\n",
      "python3 make_predictions.py --model_dir='gs://cbidmltsf/models/DMSLSTM_TPU_98_00' --data_dir='gs://cbidmltsf/sldbs/CPE04015_desbI_H_2017-04-01_00:00:00_2018-02-28_23:00:00_H008001001_D008024001_W004168001' --dataset='test.tfrecord'\n",
      "python3 make_predictions.py --model_dir='gs://cbidmltsf/models/DMSLSTM_TPU_98_01' --data_dir='gs://cbidmltsf/sldbs/CPE04015_desbI_H_2017-04-01_00:00:00_2018-02-28_23:00:00_H008001001_D008024001_W004168001' --dataset='test.tfrecord'\n",
      "python3 make_predictions.py --model_dir='gs://cbidmltsf/models/DMSLSTM_TPU_98_02' --data_dir='gs://cbidmltsf/sldbs/CPE04015_desbI_H_2017-04-01_00:00:00_2018-02-28_23:00:00_H008001001_D008024001_W004168001' --dataset='test.tfrecord'\n",
      "python3 make_predictions.py --model_dir='gs://cbidmltsf/models/DMSLSTM_TPU_98_03' --data_dir='gs://cbidmltsf/sldbs/CPE04015_desbI_H_2017-04-01_00:00:00_2018-02-28_23:00:00_H008001001_D008024001_W004168001' --dataset='test.tfrecord'\n",
      "python3 make_predictions.py --model_dir='gs://cbidmltsf/models/DMSLSTM_TPU_98_04' --data_dir='gs://cbidmltsf/sldbs/CPE04015_desbI_H_2017-04-01_00:00:00_2018-02-28_23:00:00_H008001001_D008024001_W004168001' --dataset='test.tfrecord'\n",
      "python3 make_predictions.py --model_dir='gs://cbidmltsf/models/DMSLSTM_TPU_98_05' --data_dir='gs://cbidmltsf/sldbs/CPE04015_desbI_H_2017-04-01_00:00:00_2018-02-28_23:00:00_H008001001_D008024001_W004168001' --dataset='test.tfrecord'\n",
      "python3 make_predictions.py --model_dir='gs://cbidmltsf/models/DMSLSTM_TPU_98_06' --data_dir='gs://cbidmltsf/sldbs/CPE04015_desbI_H_2017-04-01_00:00:00_2018-02-28_23:00:00_H008001001_D008024001_W004168001' --dataset='test.tfrecord'\n",
      "python3 make_predictions.py --model_dir='gs://cbidmltsf/models/DMSLSTM_TPU_98_07' --data_dir='gs://cbidmltsf/sldbs/CPE04015_desbI_H_2017-04-01_00:00:00_2018-02-28_23:00:00_H008001001_D008024001_W004168001' --dataset='test.tfrecord'\n",
      "python3 make_predictions.py --model_dir='gs://cbidmltsf/models/DMSLSTM_TPU_98_08' --data_dir='gs://cbidmltsf/sldbs/CPE04015_desbI_H_2017-04-01_00:00:00_2018-02-28_23:00:00_H008001001_D008024001_W004168001' --dataset='test.tfrecord'\n",
      "python3 make_predictions.py --model_dir='gs://cbidmltsf/models/DMSLSTM_TPU_98_09' --data_dir='gs://cbidmltsf/sldbs/CPE04015_desbI_H_2017-04-01_00:00:00_2018-02-28_23:00:00_H008001001_D008024001_W004168001' --dataset='test.tfrecord'\n"
     ]
    }
   ],
   "source": [
    "# build a batch script for making predictions\n",
    "for model_id in model_ids_list:\n",
    "    for execution in range(num_executions):\n",
    "        print(\"python3 make_predictions.py --model_dir='gs://cbidmltsf/models/{}_{:02d}' --data_dir='{}' --dataset='{}'\".\\\n",
    "              format(model_id,\n",
    "                     execution,\n",
    "                     data_dir,\n",
    "                     dataset))"
   ]
  },
  {
   "cell_type": "code",
   "execution_count": 15,
   "metadata": {},
   "outputs": [
    {
     "name": "stdout",
     "output_type": "stream",
     "text": [
      "python predictions_json_to_pandas.py --model_id=DMSLSTM_TPU_87 --execution=0 --dataset=test\n",
      "python predictions_json_to_pandas.py --model_id=DMSLSTM_TPU_87 --execution=1 --dataset=test\n",
      "python predictions_json_to_pandas.py --model_id=DMSLSTM_TPU_87 --execution=2 --dataset=test\n",
      "python predictions_json_to_pandas.py --model_id=DMSLSTM_TPU_87 --execution=3 --dataset=test\n",
      "python predictions_json_to_pandas.py --model_id=DMSLSTM_TPU_87 --execution=4 --dataset=test\n",
      "python predictions_json_to_pandas.py --model_id=DMSLSTM_TPU_87 --execution=5 --dataset=test\n",
      "python predictions_json_to_pandas.py --model_id=DMSLSTM_TPU_87 --execution=6 --dataset=test\n",
      "python predictions_json_to_pandas.py --model_id=DMSLSTM_TPU_87 --execution=7 --dataset=test\n",
      "python predictions_json_to_pandas.py --model_id=DMSLSTM_TPU_87 --execution=8 --dataset=test\n",
      "python predictions_json_to_pandas.py --model_id=DMSLSTM_TPU_87 --execution=9 --dataset=test\n",
      "python predictions_json_to_pandas.py --model_id=DMSLSTM_TPU_88 --execution=0 --dataset=test\n",
      "python predictions_json_to_pandas.py --model_id=DMSLSTM_TPU_88 --execution=1 --dataset=test\n",
      "python predictions_json_to_pandas.py --model_id=DMSLSTM_TPU_88 --execution=2 --dataset=test\n",
      "python predictions_json_to_pandas.py --model_id=DMSLSTM_TPU_88 --execution=3 --dataset=test\n",
      "python predictions_json_to_pandas.py --model_id=DMSLSTM_TPU_88 --execution=4 --dataset=test\n",
      "python predictions_json_to_pandas.py --model_id=DMSLSTM_TPU_88 --execution=5 --dataset=test\n",
      "python predictions_json_to_pandas.py --model_id=DMSLSTM_TPU_88 --execution=6 --dataset=test\n",
      "python predictions_json_to_pandas.py --model_id=DMSLSTM_TPU_88 --execution=7 --dataset=test\n",
      "python predictions_json_to_pandas.py --model_id=DMSLSTM_TPU_88 --execution=8 --dataset=test\n",
      "python predictions_json_to_pandas.py --model_id=DMSLSTM_TPU_88 --execution=9 --dataset=test\n",
      "python predictions_json_to_pandas.py --model_id=DMSLSTM_TPU_89 --execution=0 --dataset=test\n",
      "python predictions_json_to_pandas.py --model_id=DMSLSTM_TPU_89 --execution=1 --dataset=test\n",
      "python predictions_json_to_pandas.py --model_id=DMSLSTM_TPU_89 --execution=2 --dataset=test\n",
      "python predictions_json_to_pandas.py --model_id=DMSLSTM_TPU_89 --execution=3 --dataset=test\n",
      "python predictions_json_to_pandas.py --model_id=DMSLSTM_TPU_89 --execution=4 --dataset=test\n",
      "python predictions_json_to_pandas.py --model_id=DMSLSTM_TPU_89 --execution=5 --dataset=test\n",
      "python predictions_json_to_pandas.py --model_id=DMSLSTM_TPU_89 --execution=6 --dataset=test\n",
      "python predictions_json_to_pandas.py --model_id=DMSLSTM_TPU_89 --execution=7 --dataset=test\n",
      "python predictions_json_to_pandas.py --model_id=DMSLSTM_TPU_89 --execution=8 --dataset=test\n",
      "python predictions_json_to_pandas.py --model_id=DMSLSTM_TPU_89 --execution=9 --dataset=test\n",
      "python predictions_json_to_pandas.py --model_id=DMSLSTM_TPU_91 --execution=0 --dataset=test\n",
      "python predictions_json_to_pandas.py --model_id=DMSLSTM_TPU_91 --execution=1 --dataset=test\n",
      "python predictions_json_to_pandas.py --model_id=DMSLSTM_TPU_91 --execution=2 --dataset=test\n",
      "python predictions_json_to_pandas.py --model_id=DMSLSTM_TPU_91 --execution=3 --dataset=test\n",
      "python predictions_json_to_pandas.py --model_id=DMSLSTM_TPU_91 --execution=4 --dataset=test\n",
      "python predictions_json_to_pandas.py --model_id=DMSLSTM_TPU_91 --execution=5 --dataset=test\n",
      "python predictions_json_to_pandas.py --model_id=DMSLSTM_TPU_91 --execution=6 --dataset=test\n",
      "python predictions_json_to_pandas.py --model_id=DMSLSTM_TPU_91 --execution=7 --dataset=test\n",
      "python predictions_json_to_pandas.py --model_id=DMSLSTM_TPU_91 --execution=8 --dataset=test\n",
      "python predictions_json_to_pandas.py --model_id=DMSLSTM_TPU_91 --execution=9 --dataset=test\n",
      "python predictions_json_to_pandas.py --model_id=DMSLSTM_TPU_92 --execution=0 --dataset=test\n",
      "python predictions_json_to_pandas.py --model_id=DMSLSTM_TPU_92 --execution=1 --dataset=test\n",
      "python predictions_json_to_pandas.py --model_id=DMSLSTM_TPU_92 --execution=2 --dataset=test\n",
      "python predictions_json_to_pandas.py --model_id=DMSLSTM_TPU_92 --execution=3 --dataset=test\n",
      "python predictions_json_to_pandas.py --model_id=DMSLSTM_TPU_92 --execution=4 --dataset=test\n",
      "python predictions_json_to_pandas.py --model_id=DMSLSTM_TPU_92 --execution=5 --dataset=test\n",
      "python predictions_json_to_pandas.py --model_id=DMSLSTM_TPU_92 --execution=6 --dataset=test\n",
      "python predictions_json_to_pandas.py --model_id=DMSLSTM_TPU_92 --execution=7 --dataset=test\n",
      "python predictions_json_to_pandas.py --model_id=DMSLSTM_TPU_92 --execution=8 --dataset=test\n",
      "python predictions_json_to_pandas.py --model_id=DMSLSTM_TPU_92 --execution=9 --dataset=test\n",
      "python predictions_json_to_pandas.py --model_id=DMSLSTM_TPU_93 --execution=0 --dataset=test\n",
      "python predictions_json_to_pandas.py --model_id=DMSLSTM_TPU_93 --execution=1 --dataset=test\n",
      "python predictions_json_to_pandas.py --model_id=DMSLSTM_TPU_93 --execution=2 --dataset=test\n",
      "python predictions_json_to_pandas.py --model_id=DMSLSTM_TPU_93 --execution=3 --dataset=test\n",
      "python predictions_json_to_pandas.py --model_id=DMSLSTM_TPU_93 --execution=4 --dataset=test\n",
      "python predictions_json_to_pandas.py --model_id=DMSLSTM_TPU_93 --execution=5 --dataset=test\n",
      "python predictions_json_to_pandas.py --model_id=DMSLSTM_TPU_93 --execution=6 --dataset=test\n",
      "python predictions_json_to_pandas.py --model_id=DMSLSTM_TPU_93 --execution=7 --dataset=test\n",
      "python predictions_json_to_pandas.py --model_id=DMSLSTM_TPU_93 --execution=8 --dataset=test\n",
      "python predictions_json_to_pandas.py --model_id=DMSLSTM_TPU_93 --execution=9 --dataset=test\n",
      "python predictions_json_to_pandas.py --model_id=DMSLSTM_TPU_94 --execution=0 --dataset=test\n",
      "python predictions_json_to_pandas.py --model_id=DMSLSTM_TPU_94 --execution=1 --dataset=test\n",
      "python predictions_json_to_pandas.py --model_id=DMSLSTM_TPU_94 --execution=2 --dataset=test\n",
      "python predictions_json_to_pandas.py --model_id=DMSLSTM_TPU_94 --execution=3 --dataset=test\n",
      "python predictions_json_to_pandas.py --model_id=DMSLSTM_TPU_94 --execution=4 --dataset=test\n",
      "python predictions_json_to_pandas.py --model_id=DMSLSTM_TPU_94 --execution=5 --dataset=test\n",
      "python predictions_json_to_pandas.py --model_id=DMSLSTM_TPU_94 --execution=6 --dataset=test\n",
      "python predictions_json_to_pandas.py --model_id=DMSLSTM_TPU_94 --execution=7 --dataset=test\n",
      "python predictions_json_to_pandas.py --model_id=DMSLSTM_TPU_94 --execution=8 --dataset=test\n",
      "python predictions_json_to_pandas.py --model_id=DMSLSTM_TPU_94 --execution=9 --dataset=test\n",
      "python predictions_json_to_pandas.py --model_id=DMSLSTM_TPU_95 --execution=0 --dataset=test\n",
      "python predictions_json_to_pandas.py --model_id=DMSLSTM_TPU_95 --execution=1 --dataset=test\n",
      "python predictions_json_to_pandas.py --model_id=DMSLSTM_TPU_95 --execution=2 --dataset=test\n",
      "python predictions_json_to_pandas.py --model_id=DMSLSTM_TPU_95 --execution=3 --dataset=test\n",
      "python predictions_json_to_pandas.py --model_id=DMSLSTM_TPU_95 --execution=4 --dataset=test\n",
      "python predictions_json_to_pandas.py --model_id=DMSLSTM_TPU_95 --execution=5 --dataset=test\n",
      "python predictions_json_to_pandas.py --model_id=DMSLSTM_TPU_95 --execution=6 --dataset=test\n",
      "python predictions_json_to_pandas.py --model_id=DMSLSTM_TPU_95 --execution=7 --dataset=test\n",
      "python predictions_json_to_pandas.py --model_id=DMSLSTM_TPU_95 --execution=8 --dataset=test\n",
      "python predictions_json_to_pandas.py --model_id=DMSLSTM_TPU_95 --execution=9 --dataset=test\n",
      "python predictions_json_to_pandas.py --model_id=DMSLSTM_TPU_96 --execution=0 --dataset=test\n",
      "python predictions_json_to_pandas.py --model_id=DMSLSTM_TPU_96 --execution=1 --dataset=test\n",
      "python predictions_json_to_pandas.py --model_id=DMSLSTM_TPU_96 --execution=2 --dataset=test\n",
      "python predictions_json_to_pandas.py --model_id=DMSLSTM_TPU_96 --execution=3 --dataset=test\n",
      "python predictions_json_to_pandas.py --model_id=DMSLSTM_TPU_96 --execution=4 --dataset=test\n",
      "python predictions_json_to_pandas.py --model_id=DMSLSTM_TPU_96 --execution=5 --dataset=test\n",
      "python predictions_json_to_pandas.py --model_id=DMSLSTM_TPU_96 --execution=6 --dataset=test\n",
      "python predictions_json_to_pandas.py --model_id=DMSLSTM_TPU_96 --execution=7 --dataset=test\n",
      "python predictions_json_to_pandas.py --model_id=DMSLSTM_TPU_96 --execution=8 --dataset=test\n",
      "python predictions_json_to_pandas.py --model_id=DMSLSTM_TPU_96 --execution=9 --dataset=test\n",
      "python predictions_json_to_pandas.py --model_id=DMSLSTM_TPU_97 --execution=0 --dataset=test\n",
      "python predictions_json_to_pandas.py --model_id=DMSLSTM_TPU_97 --execution=1 --dataset=test\n",
      "python predictions_json_to_pandas.py --model_id=DMSLSTM_TPU_97 --execution=2 --dataset=test\n",
      "python predictions_json_to_pandas.py --model_id=DMSLSTM_TPU_97 --execution=3 --dataset=test\n",
      "python predictions_json_to_pandas.py --model_id=DMSLSTM_TPU_97 --execution=4 --dataset=test\n",
      "python predictions_json_to_pandas.py --model_id=DMSLSTM_TPU_97 --execution=5 --dataset=test\n",
      "python predictions_json_to_pandas.py --model_id=DMSLSTM_TPU_97 --execution=6 --dataset=test\n",
      "python predictions_json_to_pandas.py --model_id=DMSLSTM_TPU_97 --execution=7 --dataset=test\n",
      "python predictions_json_to_pandas.py --model_id=DMSLSTM_TPU_97 --execution=8 --dataset=test\n",
      "python predictions_json_to_pandas.py --model_id=DMSLSTM_TPU_97 --execution=9 --dataset=test\n",
      "python predictions_json_to_pandas.py --model_id=DMSLSTM_TPU_98 --execution=0 --dataset=test\n",
      "python predictions_json_to_pandas.py --model_id=DMSLSTM_TPU_98 --execution=1 --dataset=test\n",
      "python predictions_json_to_pandas.py --model_id=DMSLSTM_TPU_98 --execution=2 --dataset=test\n",
      "python predictions_json_to_pandas.py --model_id=DMSLSTM_TPU_98 --execution=3 --dataset=test\n",
      "python predictions_json_to_pandas.py --model_id=DMSLSTM_TPU_98 --execution=4 --dataset=test\n",
      "python predictions_json_to_pandas.py --model_id=DMSLSTM_TPU_98 --execution=5 --dataset=test\n",
      "python predictions_json_to_pandas.py --model_id=DMSLSTM_TPU_98 --execution=6 --dataset=test\n",
      "python predictions_json_to_pandas.py --model_id=DMSLSTM_TPU_98 --execution=7 --dataset=test\n",
      "python predictions_json_to_pandas.py --model_id=DMSLSTM_TPU_98 --execution=8 --dataset=test\n",
      "python predictions_json_to_pandas.py --model_id=DMSLSTM_TPU_98 --execution=9 --dataset=test\n"
     ]
    }
   ],
   "source": [
    "# build a batch script for making pickles from json files\n",
    "for model_id in model_ids_list:\n",
    "    for execution in range(num_executions):\n",
    "        print(\"python predictions_json_to_pandas.py --model_id={} --execution={} --dataset={}\".\\\n",
    "              format(model_id,\n",
    "                     execution,\n",
    "                     dataset.replace('.tfrecord', '')))"
   ]
  },
  {
   "cell_type": "code",
   "execution_count": null,
   "metadata": {},
   "outputs": [],
   "source": []
  }
 ],
 "metadata": {
  "kernelspec": {
   "display_name": "Python 3",
   "language": "python",
   "name": "python3"
  },
  "language_info": {
   "codemirror_mode": {
    "name": "ipython",
    "version": 3
   },
   "file_extension": ".py",
   "mimetype": "text/x-python",
   "name": "python",
   "nbconvert_exporter": "python",
   "pygments_lexer": "ipython3",
   "version": "3.7.6"
  }
 },
 "nbformat": 4,
 "nbformat_minor": 4
}

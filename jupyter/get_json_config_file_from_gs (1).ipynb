{
 "cells": [
  {
   "cell_type": "code",
   "execution_count": 1,
   "metadata": {},
   "outputs": [],
   "source": [
    "# https://stackoverflow.com/questions/58708081/how-to-read-json-file-in-python-code-from-google-cloud-storage-bucket"
   ]
  },
  {
   "cell_type": "code",
   "execution_count": 2,
   "metadata": {},
   "outputs": [],
   "source": [
    "import json"
   ]
  },
  {
   "cell_type": "code",
   "execution_count": 3,
   "metadata": {},
   "outputs": [],
   "source": [
    "from google.cloud import storage"
   ]
  },
  {
   "cell_type": "code",
   "execution_count": 4,
   "metadata": {},
   "outputs": [],
   "source": [
    "storage_client = storage.Client()"
   ]
  },
  {
   "cell_type": "code",
   "execution_count": 5,
   "metadata": {},
   "outputs": [],
   "source": [
    "bucket = storage_client.get_bucket('cbidmltsf')"
   ]
  },
  {
   "cell_type": "code",
   "execution_count": 6,
   "metadata": {},
   "outputs": [],
   "source": [
    "blob = bucket.blob('parameters/DMSLSTM_TPU_005.json')"
   ]
  },
  {
   "cell_type": "code",
   "execution_count": null,
   "metadata": {},
   "outputs": [],
   "source": [
    "# https://stackoverflow.com/questions/60156335/cloud-function-attribute-error-bytes-object-has-no-attribute-get-when-readi"
   ]
  },
  {
   "cell_type": "code",
   "execution_count": 9,
   "metadata": {},
   "outputs": [],
   "source": [
    "json_data_string = blob.download_as_string().decode('utf8')"
   ]
  },
  {
   "cell_type": "code",
   "execution_count": 10,
   "metadata": {},
   "outputs": [],
   "source": [
    "parameters = json.loads(json_data_string)"
   ]
  },
  {
   "cell_type": "code",
   "execution_count": 12,
   "metadata": {},
   "outputs": [
    {
     "data": {
      "text/plain": [
       "{'embedding': {'daily': 8, 'hourly': 8, 'weekly': 8},\n",
       " 'no_targets': 24,\n",
       " 'tau': {'daily': 24, 'hourly': 1, 'weekly': 168},\n",
       " 'total_eval_rows': 896,\n",
       " 'total_train_rows': 16736}"
      ]
     },
     "execution_count": 12,
     "metadata": {},
     "output_type": "execute_result"
    }
   ],
   "source": [
    "parameters['sldb']"
   ]
  },
  {
   "cell_type": "code",
   "execution_count": 13,
   "metadata": {},
   "outputs": [
    {
     "data": {
      "text/plain": [
       "{'daily': {'dropout': 0.2,\n",
       "  'implementation_mode': 1,\n",
       "  'structure': [64, 128],\n",
       "  'unroll': False},\n",
       " 'dense': {'activation': ['relu', 'relu', 'sigmoid'],\n",
       "  'structure': [512, 128, 24]},\n",
       " 'hourly': {'dropout': 0.2,\n",
       "  'implementation_mode': 1,\n",
       "  'structure': [64, 128],\n",
       "  'unroll': False},\n",
       " 'use_timestamps': True,\n",
       " 'weekly': {'dropout': 0.2,\n",
       "  'implementation_mode': 1,\n",
       "  'structure': [64, 128],\n",
       "  'unroll': False}}"
      ]
     },
     "execution_count": 13,
     "metadata": {},
     "output_type": "execute_result"
    }
   ],
   "source": [
    "parameters['architecture']"
   ]
  },
  {
   "cell_type": "code",
   "execution_count": 14,
   "metadata": {},
   "outputs": [
    {
     "data": {
      "text/plain": [
       "{'base_learning_rate': 0.8,\n",
       " 'eval_interval': 300,\n",
       " 'iterarions_per_loop': 20000,\n",
       " 'job-dir': 'junk',\n",
       " 'keep_checkpoint_max': 3,\n",
       " 'log_step_count_steps': 20000,\n",
       " 'lrs_steps': [5, 30, 60, 80],\n",
       " 'lrs_weights': [1.0, 0.1, 0.01, 0.001],\n",
       " 'mode': 'train_and_evaluate',\n",
       " 'num_cores': 8,\n",
       " 'precision': 'bfloat16',\n",
       " 'project': 'spheric-rhythm-234515',\n",
       " 'save_summary_steps': 20000,\n",
       " 'skip_host_call': False,\n",
       " 'start_delay_secs': 600,\n",
       " 'throttle_secs': 600,\n",
       " 'tpu': 'tpu-v3-8-tensorflow-1-15-preemptible',\n",
       " 'tpu_zone': 'us-central1-a',\n",
       " 'train_batch_size': 1024,\n",
       " 'training_steps': 1635,\n",
       " 'use_tpu': True}"
      ]
     },
     "execution_count": 14,
     "metadata": {},
     "output_type": "execute_result"
    }
   ],
   "source": [
    "parameters['training']"
   ]
  }
 ],
 "metadata": {
  "kernelspec": {
   "display_name": "Python 3",
   "language": "python",
   "name": "python3"
  },
  "language_info": {
   "codemirror_mode": {
    "name": "ipython",
    "version": 3
   },
   "file_extension": ".py",
   "mimetype": "text/x-python",
   "name": "python",
   "nbconvert_exporter": "python",
   "pygments_lexer": "ipython3",
   "version": "3.5.3"
  }
 },
 "nbformat": 4,
 "nbformat_minor": 4
}

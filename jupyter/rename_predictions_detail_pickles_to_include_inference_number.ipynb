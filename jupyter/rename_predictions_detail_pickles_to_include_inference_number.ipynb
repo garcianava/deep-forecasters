{
 "cells": [
  {
   "cell_type": "code",
   "execution_count": 1,
   "metadata": {},
   "outputs": [],
   "source": [
    "import os"
   ]
  },
  {
   "cell_type": "code",
   "execution_count": 4,
   "metadata": {},
   "outputs": [],
   "source": [
    "PROJECT_ROOT = '/home/developer/gcp/cbidmltsf'"
   ]
  },
  {
   "cell_type": "code",
   "execution_count": 6,
   "metadata": {},
   "outputs": [],
   "source": [
    "path = '{}/database/predictions_detail'.format(PROJECT_ROOT)"
   ]
  },
  {
   "cell_type": "code",
   "execution_count": 9,
   "metadata": {},
   "outputs": [],
   "source": [
    "all_pickles = os.listdir(path)"
   ]
  },
  {
   "cell_type": "code",
   "execution_count": 12,
   "metadata": {},
   "outputs": [],
   "source": [
    "filenames_to_edit = [filename for filename in all_pickles if filename[:19] == 'BSCTRFM_TPU_015_00_']"
   ]
  },
  {
   "cell_type": "code",
   "execution_count": 13,
   "metadata": {},
   "outputs": [
    {
     "data": {
      "text/plain": [
       "110"
      ]
     },
     "execution_count": 13,
     "metadata": {},
     "output_type": "execute_result"
    }
   ],
   "source": [
    "len(filenames_to_edit)"
   ]
  },
  {
   "cell_type": "code",
   "execution_count": 19,
   "metadata": {},
   "outputs": [],
   "source": [
    "filenames_to_edit.sort()"
   ]
  },
  {
   "cell_type": "code",
   "execution_count": 22,
   "metadata": {},
   "outputs": [
    {
     "data": {
      "text/plain": [
       "'/home/developer/gcp/cbidmltsf/database/predictions_detail/BSCTRFM_TPU_015_00_1633196871_MT_320_024.pkl'"
      ]
     },
     "execution_count": 22,
     "metadata": {},
     "output_type": "execute_result"
    }
   ],
   "source": [
    "'{}/BSCTRFM_TPU_015_00_1633196871_MT_320_024.pkl'.format(path)"
   ]
  },
  {
   "cell_type": "code",
   "execution_count": 26,
   "metadata": {},
   "outputs": [
    {
     "name": "stdout",
     "output_type": "stream",
     "text": [
      "/home/developer/gcp/cbidmltsf/database/predictions_detail/BSCTRFM_TPU_015_00_1633196871_MT_321_024.pkl changed to /home/developer/gcp/cbidmltsf/database/predictions_detail/BSCTRFM_TPU_015_00_1633196871_MT_321_024_00.pkl\n",
      "/home/developer/gcp/cbidmltsf/database/predictions_detail/BSCTRFM_TPU_015_00_1633196871_MT_322_024.pkl changed to /home/developer/gcp/cbidmltsf/database/predictions_detail/BSCTRFM_TPU_015_00_1633196871_MT_322_024_00.pkl\n",
      "/home/developer/gcp/cbidmltsf/database/predictions_detail/BSCTRFM_TPU_015_00_1633196871_MT_323_024.pkl changed to /home/developer/gcp/cbidmltsf/database/predictions_detail/BSCTRFM_TPU_015_00_1633196871_MT_323_024_00.pkl\n",
      "/home/developer/gcp/cbidmltsf/database/predictions_detail/BSCTRFM_TPU_015_00_1633196871_MT_324_024.pkl changed to /home/developer/gcp/cbidmltsf/database/predictions_detail/BSCTRFM_TPU_015_00_1633196871_MT_324_024_00.pkl\n",
      "/home/developer/gcp/cbidmltsf/database/predictions_detail/BSCTRFM_TPU_015_00_1633196871_MT_325_024.pkl changed to /home/developer/gcp/cbidmltsf/database/predictions_detail/BSCTRFM_TPU_015_00_1633196871_MT_325_024_00.pkl\n",
      "/home/developer/gcp/cbidmltsf/database/predictions_detail/BSCTRFM_TPU_015_00_1633196871_MT_326_024.pkl changed to /home/developer/gcp/cbidmltsf/database/predictions_detail/BSCTRFM_TPU_015_00_1633196871_MT_326_024_00.pkl\n",
      "/home/developer/gcp/cbidmltsf/database/predictions_detail/BSCTRFM_TPU_015_00_1633196871_MT_327_024.pkl changed to /home/developer/gcp/cbidmltsf/database/predictions_detail/BSCTRFM_TPU_015_00_1633196871_MT_327_024_00.pkl\n",
      "/home/developer/gcp/cbidmltsf/database/predictions_detail/BSCTRFM_TPU_015_00_1633196871_MT_328_024.pkl changed to /home/developer/gcp/cbidmltsf/database/predictions_detail/BSCTRFM_TPU_015_00_1633196871_MT_328_024_00.pkl\n",
      "/home/developer/gcp/cbidmltsf/database/predictions_detail/BSCTRFM_TPU_015_00_1633196871_MT_329_024.pkl changed to /home/developer/gcp/cbidmltsf/database/predictions_detail/BSCTRFM_TPU_015_00_1633196871_MT_329_024_00.pkl\n",
      "/home/developer/gcp/cbidmltsf/database/predictions_detail/BSCTRFM_TPU_015_00_1633196871_MT_330_024.pkl changed to /home/developer/gcp/cbidmltsf/database/predictions_detail/BSCTRFM_TPU_015_00_1633196871_MT_330_024_00.pkl\n",
      "/home/developer/gcp/cbidmltsf/database/predictions_detail/BSCTRFM_TPU_015_00_1633197126_MT_320_024.pkl changed to /home/developer/gcp/cbidmltsf/database/predictions_detail/BSCTRFM_TPU_015_00_1633197126_MT_320_024_00.pkl\n",
      "/home/developer/gcp/cbidmltsf/database/predictions_detail/BSCTRFM_TPU_015_00_1633197126_MT_321_024.pkl changed to /home/developer/gcp/cbidmltsf/database/predictions_detail/BSCTRFM_TPU_015_00_1633197126_MT_321_024_00.pkl\n",
      "/home/developer/gcp/cbidmltsf/database/predictions_detail/BSCTRFM_TPU_015_00_1633197126_MT_322_024.pkl changed to /home/developer/gcp/cbidmltsf/database/predictions_detail/BSCTRFM_TPU_015_00_1633197126_MT_322_024_00.pkl\n",
      "/home/developer/gcp/cbidmltsf/database/predictions_detail/BSCTRFM_TPU_015_00_1633197126_MT_323_024.pkl changed to /home/developer/gcp/cbidmltsf/database/predictions_detail/BSCTRFM_TPU_015_00_1633197126_MT_323_024_00.pkl\n",
      "/home/developer/gcp/cbidmltsf/database/predictions_detail/BSCTRFM_TPU_015_00_1633197126_MT_324_024.pkl changed to /home/developer/gcp/cbidmltsf/database/predictions_detail/BSCTRFM_TPU_015_00_1633197126_MT_324_024_00.pkl\n",
      "/home/developer/gcp/cbidmltsf/database/predictions_detail/BSCTRFM_TPU_015_00_1633197126_MT_325_024.pkl changed to /home/developer/gcp/cbidmltsf/database/predictions_detail/BSCTRFM_TPU_015_00_1633197126_MT_325_024_00.pkl\n",
      "/home/developer/gcp/cbidmltsf/database/predictions_detail/BSCTRFM_TPU_015_00_1633197126_MT_326_024.pkl changed to /home/developer/gcp/cbidmltsf/database/predictions_detail/BSCTRFM_TPU_015_00_1633197126_MT_326_024_00.pkl\n",
      "/home/developer/gcp/cbidmltsf/database/predictions_detail/BSCTRFM_TPU_015_00_1633197126_MT_327_024.pkl changed to /home/developer/gcp/cbidmltsf/database/predictions_detail/BSCTRFM_TPU_015_00_1633197126_MT_327_024_00.pkl\n",
      "/home/developer/gcp/cbidmltsf/database/predictions_detail/BSCTRFM_TPU_015_00_1633197126_MT_328_024.pkl changed to /home/developer/gcp/cbidmltsf/database/predictions_detail/BSCTRFM_TPU_015_00_1633197126_MT_328_024_00.pkl\n",
      "/home/developer/gcp/cbidmltsf/database/predictions_detail/BSCTRFM_TPU_015_00_1633197126_MT_329_024.pkl changed to /home/developer/gcp/cbidmltsf/database/predictions_detail/BSCTRFM_TPU_015_00_1633197126_MT_329_024_00.pkl\n",
      "/home/developer/gcp/cbidmltsf/database/predictions_detail/BSCTRFM_TPU_015_00_1633197126_MT_330_024.pkl changed to /home/developer/gcp/cbidmltsf/database/predictions_detail/BSCTRFM_TPU_015_00_1633197126_MT_330_024_00.pkl\n",
      "/home/developer/gcp/cbidmltsf/database/predictions_detail/BSCTRFM_TPU_015_00_1633197345_MT_320_024.pkl changed to /home/developer/gcp/cbidmltsf/database/predictions_detail/BSCTRFM_TPU_015_00_1633197345_MT_320_024_00.pkl\n",
      "/home/developer/gcp/cbidmltsf/database/predictions_detail/BSCTRFM_TPU_015_00_1633197345_MT_321_024.pkl changed to /home/developer/gcp/cbidmltsf/database/predictions_detail/BSCTRFM_TPU_015_00_1633197345_MT_321_024_00.pkl\n",
      "/home/developer/gcp/cbidmltsf/database/predictions_detail/BSCTRFM_TPU_015_00_1633197345_MT_322_024.pkl changed to /home/developer/gcp/cbidmltsf/database/predictions_detail/BSCTRFM_TPU_015_00_1633197345_MT_322_024_00.pkl\n",
      "/home/developer/gcp/cbidmltsf/database/predictions_detail/BSCTRFM_TPU_015_00_1633197345_MT_323_024.pkl changed to /home/developer/gcp/cbidmltsf/database/predictions_detail/BSCTRFM_TPU_015_00_1633197345_MT_323_024_00.pkl\n",
      "/home/developer/gcp/cbidmltsf/database/predictions_detail/BSCTRFM_TPU_015_00_1633197345_MT_324_024.pkl changed to /home/developer/gcp/cbidmltsf/database/predictions_detail/BSCTRFM_TPU_015_00_1633197345_MT_324_024_00.pkl\n",
      "/home/developer/gcp/cbidmltsf/database/predictions_detail/BSCTRFM_TPU_015_00_1633197345_MT_325_024.pkl changed to /home/developer/gcp/cbidmltsf/database/predictions_detail/BSCTRFM_TPU_015_00_1633197345_MT_325_024_00.pkl\n",
      "/home/developer/gcp/cbidmltsf/database/predictions_detail/BSCTRFM_TPU_015_00_1633197345_MT_326_024.pkl changed to /home/developer/gcp/cbidmltsf/database/predictions_detail/BSCTRFM_TPU_015_00_1633197345_MT_326_024_00.pkl\n",
      "/home/developer/gcp/cbidmltsf/database/predictions_detail/BSCTRFM_TPU_015_00_1633197345_MT_327_024.pkl changed to /home/developer/gcp/cbidmltsf/database/predictions_detail/BSCTRFM_TPU_015_00_1633197345_MT_327_024_00.pkl\n",
      "/home/developer/gcp/cbidmltsf/database/predictions_detail/BSCTRFM_TPU_015_00_1633197345_MT_328_024.pkl changed to /home/developer/gcp/cbidmltsf/database/predictions_detail/BSCTRFM_TPU_015_00_1633197345_MT_328_024_00.pkl\n",
      "/home/developer/gcp/cbidmltsf/database/predictions_detail/BSCTRFM_TPU_015_00_1633197345_MT_329_024.pkl changed to /home/developer/gcp/cbidmltsf/database/predictions_detail/BSCTRFM_TPU_015_00_1633197345_MT_329_024_00.pkl\n",
      "/home/developer/gcp/cbidmltsf/database/predictions_detail/BSCTRFM_TPU_015_00_1633197345_MT_330_024.pkl changed to /home/developer/gcp/cbidmltsf/database/predictions_detail/BSCTRFM_TPU_015_00_1633197345_MT_330_024_00.pkl\n",
      "/home/developer/gcp/cbidmltsf/database/predictions_detail/BSCTRFM_TPU_015_00_1633197575_MT_320_024.pkl changed to /home/developer/gcp/cbidmltsf/database/predictions_detail/BSCTRFM_TPU_015_00_1633197575_MT_320_024_00.pkl\n",
      "/home/developer/gcp/cbidmltsf/database/predictions_detail/BSCTRFM_TPU_015_00_1633197575_MT_321_024.pkl changed to /home/developer/gcp/cbidmltsf/database/predictions_detail/BSCTRFM_TPU_015_00_1633197575_MT_321_024_00.pkl\n",
      "/home/developer/gcp/cbidmltsf/database/predictions_detail/BSCTRFM_TPU_015_00_1633197575_MT_322_024.pkl changed to /home/developer/gcp/cbidmltsf/database/predictions_detail/BSCTRFM_TPU_015_00_1633197575_MT_322_024_00.pkl\n",
      "/home/developer/gcp/cbidmltsf/database/predictions_detail/BSCTRFM_TPU_015_00_1633197575_MT_323_024.pkl changed to /home/developer/gcp/cbidmltsf/database/predictions_detail/BSCTRFM_TPU_015_00_1633197575_MT_323_024_00.pkl\n",
      "/home/developer/gcp/cbidmltsf/database/predictions_detail/BSCTRFM_TPU_015_00_1633197575_MT_324_024.pkl changed to /home/developer/gcp/cbidmltsf/database/predictions_detail/BSCTRFM_TPU_015_00_1633197575_MT_324_024_00.pkl\n",
      "/home/developer/gcp/cbidmltsf/database/predictions_detail/BSCTRFM_TPU_015_00_1633197575_MT_325_024.pkl changed to /home/developer/gcp/cbidmltsf/database/predictions_detail/BSCTRFM_TPU_015_00_1633197575_MT_325_024_00.pkl\n",
      "/home/developer/gcp/cbidmltsf/database/predictions_detail/BSCTRFM_TPU_015_00_1633197575_MT_326_024.pkl changed to /home/developer/gcp/cbidmltsf/database/predictions_detail/BSCTRFM_TPU_015_00_1633197575_MT_326_024_00.pkl\n",
      "/home/developer/gcp/cbidmltsf/database/predictions_detail/BSCTRFM_TPU_015_00_1633197575_MT_327_024.pkl changed to /home/developer/gcp/cbidmltsf/database/predictions_detail/BSCTRFM_TPU_015_00_1633197575_MT_327_024_00.pkl\n",
      "/home/developer/gcp/cbidmltsf/database/predictions_detail/BSCTRFM_TPU_015_00_1633197575_MT_328_024.pkl changed to /home/developer/gcp/cbidmltsf/database/predictions_detail/BSCTRFM_TPU_015_00_1633197575_MT_328_024_00.pkl\n",
      "/home/developer/gcp/cbidmltsf/database/predictions_detail/BSCTRFM_TPU_015_00_1633197575_MT_329_024.pkl changed to /home/developer/gcp/cbidmltsf/database/predictions_detail/BSCTRFM_TPU_015_00_1633197575_MT_329_024_00.pkl\n",
      "/home/developer/gcp/cbidmltsf/database/predictions_detail/BSCTRFM_TPU_015_00_1633197575_MT_330_024.pkl changed to /home/developer/gcp/cbidmltsf/database/predictions_detail/BSCTRFM_TPU_015_00_1633197575_MT_330_024_00.pkl\n",
      "/home/developer/gcp/cbidmltsf/database/predictions_detail/BSCTRFM_TPU_015_00_1633197797_MT_320_024.pkl changed to /home/developer/gcp/cbidmltsf/database/predictions_detail/BSCTRFM_TPU_015_00_1633197797_MT_320_024_00.pkl\n",
      "/home/developer/gcp/cbidmltsf/database/predictions_detail/BSCTRFM_TPU_015_00_1633197797_MT_321_024.pkl changed to /home/developer/gcp/cbidmltsf/database/predictions_detail/BSCTRFM_TPU_015_00_1633197797_MT_321_024_00.pkl\n",
      "/home/developer/gcp/cbidmltsf/database/predictions_detail/BSCTRFM_TPU_015_00_1633197797_MT_322_024.pkl changed to /home/developer/gcp/cbidmltsf/database/predictions_detail/BSCTRFM_TPU_015_00_1633197797_MT_322_024_00.pkl\n",
      "/home/developer/gcp/cbidmltsf/database/predictions_detail/BSCTRFM_TPU_015_00_1633197797_MT_323_024.pkl changed to /home/developer/gcp/cbidmltsf/database/predictions_detail/BSCTRFM_TPU_015_00_1633197797_MT_323_024_00.pkl\n",
      "/home/developer/gcp/cbidmltsf/database/predictions_detail/BSCTRFM_TPU_015_00_1633197797_MT_324_024.pkl changed to /home/developer/gcp/cbidmltsf/database/predictions_detail/BSCTRFM_TPU_015_00_1633197797_MT_324_024_00.pkl\n",
      "/home/developer/gcp/cbidmltsf/database/predictions_detail/BSCTRFM_TPU_015_00_1633197797_MT_325_024.pkl changed to /home/developer/gcp/cbidmltsf/database/predictions_detail/BSCTRFM_TPU_015_00_1633197797_MT_325_024_00.pkl\n",
      "/home/developer/gcp/cbidmltsf/database/predictions_detail/BSCTRFM_TPU_015_00_1633197797_MT_326_024.pkl changed to /home/developer/gcp/cbidmltsf/database/predictions_detail/BSCTRFM_TPU_015_00_1633197797_MT_326_024_00.pkl\n",
      "/home/developer/gcp/cbidmltsf/database/predictions_detail/BSCTRFM_TPU_015_00_1633197797_MT_327_024.pkl changed to /home/developer/gcp/cbidmltsf/database/predictions_detail/BSCTRFM_TPU_015_00_1633197797_MT_327_024_00.pkl\n",
      "/home/developer/gcp/cbidmltsf/database/predictions_detail/BSCTRFM_TPU_015_00_1633197797_MT_328_024.pkl changed to /home/developer/gcp/cbidmltsf/database/predictions_detail/BSCTRFM_TPU_015_00_1633197797_MT_328_024_00.pkl\n",
      "/home/developer/gcp/cbidmltsf/database/predictions_detail/BSCTRFM_TPU_015_00_1633197797_MT_329_024.pkl changed to /home/developer/gcp/cbidmltsf/database/predictions_detail/BSCTRFM_TPU_015_00_1633197797_MT_329_024_00.pkl\n",
      "/home/developer/gcp/cbidmltsf/database/predictions_detail/BSCTRFM_TPU_015_00_1633197797_MT_330_024.pkl changed to /home/developer/gcp/cbidmltsf/database/predictions_detail/BSCTRFM_TPU_015_00_1633197797_MT_330_024_00.pkl\n",
      "/home/developer/gcp/cbidmltsf/database/predictions_detail/BSCTRFM_TPU_015_00_1633198016_MT_320_024.pkl changed to /home/developer/gcp/cbidmltsf/database/predictions_detail/BSCTRFM_TPU_015_00_1633198016_MT_320_024_00.pkl\n",
      "/home/developer/gcp/cbidmltsf/database/predictions_detail/BSCTRFM_TPU_015_00_1633198016_MT_321_024.pkl changed to /home/developer/gcp/cbidmltsf/database/predictions_detail/BSCTRFM_TPU_015_00_1633198016_MT_321_024_00.pkl\n",
      "/home/developer/gcp/cbidmltsf/database/predictions_detail/BSCTRFM_TPU_015_00_1633198016_MT_322_024.pkl changed to /home/developer/gcp/cbidmltsf/database/predictions_detail/BSCTRFM_TPU_015_00_1633198016_MT_322_024_00.pkl\n",
      "/home/developer/gcp/cbidmltsf/database/predictions_detail/BSCTRFM_TPU_015_00_1633198016_MT_323_024.pkl changed to /home/developer/gcp/cbidmltsf/database/predictions_detail/BSCTRFM_TPU_015_00_1633198016_MT_323_024_00.pkl\n",
      "/home/developer/gcp/cbidmltsf/database/predictions_detail/BSCTRFM_TPU_015_00_1633198016_MT_324_024.pkl changed to /home/developer/gcp/cbidmltsf/database/predictions_detail/BSCTRFM_TPU_015_00_1633198016_MT_324_024_00.pkl\n",
      "/home/developer/gcp/cbidmltsf/database/predictions_detail/BSCTRFM_TPU_015_00_1633198016_MT_325_024.pkl changed to /home/developer/gcp/cbidmltsf/database/predictions_detail/BSCTRFM_TPU_015_00_1633198016_MT_325_024_00.pkl\n",
      "/home/developer/gcp/cbidmltsf/database/predictions_detail/BSCTRFM_TPU_015_00_1633198016_MT_326_024.pkl changed to /home/developer/gcp/cbidmltsf/database/predictions_detail/BSCTRFM_TPU_015_00_1633198016_MT_326_024_00.pkl\n",
      "/home/developer/gcp/cbidmltsf/database/predictions_detail/BSCTRFM_TPU_015_00_1633198016_MT_327_024.pkl changed to /home/developer/gcp/cbidmltsf/database/predictions_detail/BSCTRFM_TPU_015_00_1633198016_MT_327_024_00.pkl\n",
      "/home/developer/gcp/cbidmltsf/database/predictions_detail/BSCTRFM_TPU_015_00_1633198016_MT_328_024.pkl changed to /home/developer/gcp/cbidmltsf/database/predictions_detail/BSCTRFM_TPU_015_00_1633198016_MT_328_024_00.pkl\n",
      "/home/developer/gcp/cbidmltsf/database/predictions_detail/BSCTRFM_TPU_015_00_1633198016_MT_329_024.pkl changed to /home/developer/gcp/cbidmltsf/database/predictions_detail/BSCTRFM_TPU_015_00_1633198016_MT_329_024_00.pkl\n",
      "/home/developer/gcp/cbidmltsf/database/predictions_detail/BSCTRFM_TPU_015_00_1633198016_MT_330_024.pkl changed to /home/developer/gcp/cbidmltsf/database/predictions_detail/BSCTRFM_TPU_015_00_1633198016_MT_330_024_00.pkl\n",
      "/home/developer/gcp/cbidmltsf/database/predictions_detail/BSCTRFM_TPU_015_00_1633198227_MT_320_024.pkl changed to /home/developer/gcp/cbidmltsf/database/predictions_detail/BSCTRFM_TPU_015_00_1633198227_MT_320_024_00.pkl\n",
      "/home/developer/gcp/cbidmltsf/database/predictions_detail/BSCTRFM_TPU_015_00_1633198227_MT_321_024.pkl changed to /home/developer/gcp/cbidmltsf/database/predictions_detail/BSCTRFM_TPU_015_00_1633198227_MT_321_024_00.pkl\n",
      "/home/developer/gcp/cbidmltsf/database/predictions_detail/BSCTRFM_TPU_015_00_1633198227_MT_322_024.pkl changed to /home/developer/gcp/cbidmltsf/database/predictions_detail/BSCTRFM_TPU_015_00_1633198227_MT_322_024_00.pkl\n",
      "/home/developer/gcp/cbidmltsf/database/predictions_detail/BSCTRFM_TPU_015_00_1633198227_MT_323_024.pkl changed to /home/developer/gcp/cbidmltsf/database/predictions_detail/BSCTRFM_TPU_015_00_1633198227_MT_323_024_00.pkl\n",
      "/home/developer/gcp/cbidmltsf/database/predictions_detail/BSCTRFM_TPU_015_00_1633198227_MT_324_024.pkl changed to /home/developer/gcp/cbidmltsf/database/predictions_detail/BSCTRFM_TPU_015_00_1633198227_MT_324_024_00.pkl\n",
      "/home/developer/gcp/cbidmltsf/database/predictions_detail/BSCTRFM_TPU_015_00_1633198227_MT_325_024.pkl changed to /home/developer/gcp/cbidmltsf/database/predictions_detail/BSCTRFM_TPU_015_00_1633198227_MT_325_024_00.pkl\n",
      "/home/developer/gcp/cbidmltsf/database/predictions_detail/BSCTRFM_TPU_015_00_1633198227_MT_326_024.pkl changed to /home/developer/gcp/cbidmltsf/database/predictions_detail/BSCTRFM_TPU_015_00_1633198227_MT_326_024_00.pkl\n",
      "/home/developer/gcp/cbidmltsf/database/predictions_detail/BSCTRFM_TPU_015_00_1633198227_MT_327_024.pkl changed to /home/developer/gcp/cbidmltsf/database/predictions_detail/BSCTRFM_TPU_015_00_1633198227_MT_327_024_00.pkl\n",
      "/home/developer/gcp/cbidmltsf/database/predictions_detail/BSCTRFM_TPU_015_00_1633198227_MT_328_024.pkl changed to /home/developer/gcp/cbidmltsf/database/predictions_detail/BSCTRFM_TPU_015_00_1633198227_MT_328_024_00.pkl\n",
      "/home/developer/gcp/cbidmltsf/database/predictions_detail/BSCTRFM_TPU_015_00_1633198227_MT_329_024.pkl changed to /home/developer/gcp/cbidmltsf/database/predictions_detail/BSCTRFM_TPU_015_00_1633198227_MT_329_024_00.pkl\n",
      "/home/developer/gcp/cbidmltsf/database/predictions_detail/BSCTRFM_TPU_015_00_1633198227_MT_330_024.pkl changed to /home/developer/gcp/cbidmltsf/database/predictions_detail/BSCTRFM_TPU_015_00_1633198227_MT_330_024_00.pkl\n",
      "/home/developer/gcp/cbidmltsf/database/predictions_detail/BSCTRFM_TPU_015_00_1633198439_MT_320_024.pkl changed to /home/developer/gcp/cbidmltsf/database/predictions_detail/BSCTRFM_TPU_015_00_1633198439_MT_320_024_00.pkl\n",
      "/home/developer/gcp/cbidmltsf/database/predictions_detail/BSCTRFM_TPU_015_00_1633198439_MT_321_024.pkl changed to /home/developer/gcp/cbidmltsf/database/predictions_detail/BSCTRFM_TPU_015_00_1633198439_MT_321_024_00.pkl\n",
      "/home/developer/gcp/cbidmltsf/database/predictions_detail/BSCTRFM_TPU_015_00_1633198439_MT_322_024.pkl changed to /home/developer/gcp/cbidmltsf/database/predictions_detail/BSCTRFM_TPU_015_00_1633198439_MT_322_024_00.pkl\n",
      "/home/developer/gcp/cbidmltsf/database/predictions_detail/BSCTRFM_TPU_015_00_1633198439_MT_323_024.pkl changed to /home/developer/gcp/cbidmltsf/database/predictions_detail/BSCTRFM_TPU_015_00_1633198439_MT_323_024_00.pkl\n",
      "/home/developer/gcp/cbidmltsf/database/predictions_detail/BSCTRFM_TPU_015_00_1633198439_MT_324_024.pkl changed to /home/developer/gcp/cbidmltsf/database/predictions_detail/BSCTRFM_TPU_015_00_1633198439_MT_324_024_00.pkl\n",
      "/home/developer/gcp/cbidmltsf/database/predictions_detail/BSCTRFM_TPU_015_00_1633198439_MT_325_024.pkl changed to /home/developer/gcp/cbidmltsf/database/predictions_detail/BSCTRFM_TPU_015_00_1633198439_MT_325_024_00.pkl\n",
      "/home/developer/gcp/cbidmltsf/database/predictions_detail/BSCTRFM_TPU_015_00_1633198439_MT_326_024.pkl changed to /home/developer/gcp/cbidmltsf/database/predictions_detail/BSCTRFM_TPU_015_00_1633198439_MT_326_024_00.pkl\n",
      "/home/developer/gcp/cbidmltsf/database/predictions_detail/BSCTRFM_TPU_015_00_1633198439_MT_327_024.pkl changed to /home/developer/gcp/cbidmltsf/database/predictions_detail/BSCTRFM_TPU_015_00_1633198439_MT_327_024_00.pkl\n",
      "/home/developer/gcp/cbidmltsf/database/predictions_detail/BSCTRFM_TPU_015_00_1633198439_MT_328_024.pkl changed to /home/developer/gcp/cbidmltsf/database/predictions_detail/BSCTRFM_TPU_015_00_1633198439_MT_328_024_00.pkl\n",
      "/home/developer/gcp/cbidmltsf/database/predictions_detail/BSCTRFM_TPU_015_00_1633198439_MT_329_024.pkl changed to /home/developer/gcp/cbidmltsf/database/predictions_detail/BSCTRFM_TPU_015_00_1633198439_MT_329_024_00.pkl\n",
      "/home/developer/gcp/cbidmltsf/database/predictions_detail/BSCTRFM_TPU_015_00_1633198439_MT_330_024.pkl changed to /home/developer/gcp/cbidmltsf/database/predictions_detail/BSCTRFM_TPU_015_00_1633198439_MT_330_024_00.pkl\n",
      "/home/developer/gcp/cbidmltsf/database/predictions_detail/BSCTRFM_TPU_015_00_1633198645_MT_320_024.pkl changed to /home/developer/gcp/cbidmltsf/database/predictions_detail/BSCTRFM_TPU_015_00_1633198645_MT_320_024_00.pkl\n",
      "/home/developer/gcp/cbidmltsf/database/predictions_detail/BSCTRFM_TPU_015_00_1633198645_MT_321_024.pkl changed to /home/developer/gcp/cbidmltsf/database/predictions_detail/BSCTRFM_TPU_015_00_1633198645_MT_321_024_00.pkl\n",
      "/home/developer/gcp/cbidmltsf/database/predictions_detail/BSCTRFM_TPU_015_00_1633198645_MT_322_024.pkl changed to /home/developer/gcp/cbidmltsf/database/predictions_detail/BSCTRFM_TPU_015_00_1633198645_MT_322_024_00.pkl\n",
      "/home/developer/gcp/cbidmltsf/database/predictions_detail/BSCTRFM_TPU_015_00_1633198645_MT_323_024.pkl changed to /home/developer/gcp/cbidmltsf/database/predictions_detail/BSCTRFM_TPU_015_00_1633198645_MT_323_024_00.pkl\n",
      "/home/developer/gcp/cbidmltsf/database/predictions_detail/BSCTRFM_TPU_015_00_1633198645_MT_324_024.pkl changed to /home/developer/gcp/cbidmltsf/database/predictions_detail/BSCTRFM_TPU_015_00_1633198645_MT_324_024_00.pkl\n",
      "/home/developer/gcp/cbidmltsf/database/predictions_detail/BSCTRFM_TPU_015_00_1633198645_MT_325_024.pkl changed to /home/developer/gcp/cbidmltsf/database/predictions_detail/BSCTRFM_TPU_015_00_1633198645_MT_325_024_00.pkl\n",
      "/home/developer/gcp/cbidmltsf/database/predictions_detail/BSCTRFM_TPU_015_00_1633198645_MT_326_024.pkl changed to /home/developer/gcp/cbidmltsf/database/predictions_detail/BSCTRFM_TPU_015_00_1633198645_MT_326_024_00.pkl\n",
      "/home/developer/gcp/cbidmltsf/database/predictions_detail/BSCTRFM_TPU_015_00_1633198645_MT_327_024.pkl changed to /home/developer/gcp/cbidmltsf/database/predictions_detail/BSCTRFM_TPU_015_00_1633198645_MT_327_024_00.pkl\n",
      "/home/developer/gcp/cbidmltsf/database/predictions_detail/BSCTRFM_TPU_015_00_1633198645_MT_328_024.pkl changed to /home/developer/gcp/cbidmltsf/database/predictions_detail/BSCTRFM_TPU_015_00_1633198645_MT_328_024_00.pkl\n",
      "/home/developer/gcp/cbidmltsf/database/predictions_detail/BSCTRFM_TPU_015_00_1633198645_MT_329_024.pkl changed to /home/developer/gcp/cbidmltsf/database/predictions_detail/BSCTRFM_TPU_015_00_1633198645_MT_329_024_00.pkl\n",
      "/home/developer/gcp/cbidmltsf/database/predictions_detail/BSCTRFM_TPU_015_00_1633198645_MT_330_024.pkl changed to /home/developer/gcp/cbidmltsf/database/predictions_detail/BSCTRFM_TPU_015_00_1633198645_MT_330_024_00.pkl\n",
      "/home/developer/gcp/cbidmltsf/database/predictions_detail/BSCTRFM_TPU_015_00_1633198846_MT_320_024.pkl changed to /home/developer/gcp/cbidmltsf/database/predictions_detail/BSCTRFM_TPU_015_00_1633198846_MT_320_024_00.pkl\n",
      "/home/developer/gcp/cbidmltsf/database/predictions_detail/BSCTRFM_TPU_015_00_1633198846_MT_321_024.pkl changed to /home/developer/gcp/cbidmltsf/database/predictions_detail/BSCTRFM_TPU_015_00_1633198846_MT_321_024_00.pkl\n",
      "/home/developer/gcp/cbidmltsf/database/predictions_detail/BSCTRFM_TPU_015_00_1633198846_MT_322_024.pkl changed to /home/developer/gcp/cbidmltsf/database/predictions_detail/BSCTRFM_TPU_015_00_1633198846_MT_322_024_00.pkl\n",
      "/home/developer/gcp/cbidmltsf/database/predictions_detail/BSCTRFM_TPU_015_00_1633198846_MT_323_024.pkl changed to /home/developer/gcp/cbidmltsf/database/predictions_detail/BSCTRFM_TPU_015_00_1633198846_MT_323_024_00.pkl\n",
      "/home/developer/gcp/cbidmltsf/database/predictions_detail/BSCTRFM_TPU_015_00_1633198846_MT_324_024.pkl changed to /home/developer/gcp/cbidmltsf/database/predictions_detail/BSCTRFM_TPU_015_00_1633198846_MT_324_024_00.pkl\n",
      "/home/developer/gcp/cbidmltsf/database/predictions_detail/BSCTRFM_TPU_015_00_1633198846_MT_325_024.pkl changed to /home/developer/gcp/cbidmltsf/database/predictions_detail/BSCTRFM_TPU_015_00_1633198846_MT_325_024_00.pkl\n",
      "/home/developer/gcp/cbidmltsf/database/predictions_detail/BSCTRFM_TPU_015_00_1633198846_MT_326_024.pkl changed to /home/developer/gcp/cbidmltsf/database/predictions_detail/BSCTRFM_TPU_015_00_1633198846_MT_326_024_00.pkl\n",
      "/home/developer/gcp/cbidmltsf/database/predictions_detail/BSCTRFM_TPU_015_00_1633198846_MT_327_024.pkl changed to /home/developer/gcp/cbidmltsf/database/predictions_detail/BSCTRFM_TPU_015_00_1633198846_MT_327_024_00.pkl\n",
      "/home/developer/gcp/cbidmltsf/database/predictions_detail/BSCTRFM_TPU_015_00_1633198846_MT_328_024.pkl changed to /home/developer/gcp/cbidmltsf/database/predictions_detail/BSCTRFM_TPU_015_00_1633198846_MT_328_024_00.pkl\n",
      "/home/developer/gcp/cbidmltsf/database/predictions_detail/BSCTRFM_TPU_015_00_1633198846_MT_329_024.pkl changed to /home/developer/gcp/cbidmltsf/database/predictions_detail/BSCTRFM_TPU_015_00_1633198846_MT_329_024_00.pkl\n",
      "/home/developer/gcp/cbidmltsf/database/predictions_detail/BSCTRFM_TPU_015_00_1633198846_MT_330_024.pkl changed to /home/developer/gcp/cbidmltsf/database/predictions_detail/BSCTRFM_TPU_015_00_1633198846_MT_330_024_00.pkl\n"
     ]
    }
   ],
   "source": [
    "for filename in filenames_to_edit[1:]:\n",
    "    original_path = '{}/{}'.format(path, filename)\n",
    "    new_path = '{}/{}_00.pkl'.format(path, filename[:40])\n",
    "    \n",
    "    os.rename(original_path, new_path)\n",
    "    \n",
    "    print('{} changed to {}'.format(original_path, new_path))"
   ]
  },
  {
   "cell_type": "code",
   "execution_count": null,
   "metadata": {},
   "outputs": [],
   "source": [
    "# use os library to edit filenames"
   ]
  }
 ],
 "metadata": {
  "kernelspec": {
   "display_name": "Python 3",
   "language": "python",
   "name": "python3"
  },
  "language_info": {
   "codemirror_mode": {
    "name": "ipython",
    "version": 3
   },
   "file_extension": ".py",
   "mimetype": "text/x-python",
   "name": "python",
   "nbconvert_exporter": "python",
   "pygments_lexer": "ipython3",
   "version": "3.7.6"
  }
 },
 "nbformat": 4,
 "nbformat_minor": 4
}

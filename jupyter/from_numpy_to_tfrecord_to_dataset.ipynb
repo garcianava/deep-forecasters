{
 "cells": [
  {
   "cell_type": "code",
   "execution_count": 7,
   "metadata": {},
   "outputs": [],
   "source": [
    "import tensorflow as tf\n",
    "import numpy as np"
   ]
  },
  {
   "cell_type": "code",
   "execution_count": null,
   "metadata": {},
   "outputs": [],
   "source": [
    "sess = tf.InteractiveSession()"
   ]
  },
  {
   "cell_type": "code",
   "execution_count": 8,
   "metadata": {},
   "outputs": [],
   "source": [
    "# retrieve data sets from data arrays path\n",
    "Xadj_train = np.load('../data/arrays/Xadj_train.npy')\n",
    "y_train = np.load('../data/arrays/y_train.npy')"
   ]
  },
  {
   "cell_type": "code",
   "execution_count": 9,
   "metadata": {},
   "outputs": [
    {
     "data": {
      "text/plain": [
       "((8995, 24, 1), (8995, 168))"
      ]
     },
     "execution_count": 9,
     "metadata": {},
     "output_type": "execute_result"
    }
   ],
   "source": [
    "Xadj_train.shape, y_train.shape"
   ]
  },
  {
   "cell_type": "code",
   "execution_count": 10,
   "metadata": {},
   "outputs": [],
   "source": [
    "# y_train array keeps 168 possible targets, one for each hour in the week\n",
    "# get only targets for the first model (first-step-ahead)\n",
    "n = 0\n",
    "ytarget_train = y_train[:,n]"
   ]
  },
  {
   "cell_type": "code",
   "execution_count": 11,
   "metadata": {},
   "outputs": [],
   "source": [
    "# required for input_fn's\n",
    "ytarget_train = ytarget_train.reshape(ytarget_train.shape[0], 1)"
   ]
  },
  {
   "cell_type": "code",
   "execution_count": 12,
   "metadata": {
    "scrolled": true
   },
   "outputs": [
    {
     "data": {
      "text/plain": [
       "((8995, 24, 1), (8995, 1))"
      ]
     },
     "execution_count": 12,
     "metadata": {},
     "output_type": "execute_result"
    }
   ],
   "source": [
    "Xadj_train.shape, ytarget_train.shape"
   ]
  },
  {
   "cell_type": "code",
   "execution_count": 13,
   "metadata": {},
   "outputs": [],
   "source": [
    "def _float_feature(value):\n",
    "  \"\"\"Returns a float_list from a float / double.\"\"\"\n",
    "  return tf.train.Feature(float_list=tf.train.FloatList(value=[value]))"
   ]
  },
  {
   "cell_type": "code",
   "execution_count": 1,
   "metadata": {},
   "outputs": [
    {
     "ename": "NameError",
     "evalue": "name 'Xadj_train' is not defined",
     "output_type": "error",
     "traceback": [
      "\u001b[0;31m---------------------------------------------------------------------------\u001b[0m",
      "\u001b[0;31mNameError\u001b[0m                                 Traceback (most recent call last)",
      "\u001b[0;32m<ipython-input-1-bb34619c680d>\u001b[0m in \u001b[0;36m<module>\u001b[0;34m\u001b[0m\n\u001b[0;32m----> 1\u001b[0;31m \u001b[0mlist_of_values\u001b[0m \u001b[0;34m=\u001b[0m \u001b[0;34m[\u001b[0m\u001b[0mlecture\u001b[0m \u001b[0;32mfor\u001b[0m \u001b[0mlecture\u001b[0m \u001b[0;32min\u001b[0m \u001b[0mXadj_train\u001b[0m\u001b[0;34m[\u001b[0m\u001b[0;36m0\u001b[0m\u001b[0;34m]\u001b[0m\u001b[0;34m]\u001b[0m\u001b[0;34m\u001b[0m\u001b[0;34m\u001b[0m\u001b[0m\n\u001b[0m\u001b[1;32m      2\u001b[0m \u001b[0mlist_of_values\u001b[0m\u001b[0;34m\u001b[0m\u001b[0;34m\u001b[0m\u001b[0m\n",
      "\u001b[0;31mNameError\u001b[0m: name 'Xadj_train' is not defined"
     ]
    }
   ],
   "source": [
    "list_of_values = [lecture[0] for lecture in Xadj_train[0]]\n",
    "list_of_values"
   ]
  },
  {
   "cell_type": "code",
   "execution_count": 19,
   "metadata": {},
   "outputs": [],
   "source": [
    "def _float_feature_from_list_of_values(list_of_values):\n",
    "  \"\"\"Returns a float_list from a list of floats / doubles.\"\"\"\n",
    "  return tf.train.Feature(float_list=tf.train.FloatList(value=list_of_values))"
   ]
  },
  {
   "cell_type": "code",
   "execution_count": 20,
   "metadata": {},
   "outputs": [
    {
     "data": {
      "text/plain": [
       "float_list {\n",
       "  value: 0.5809716582298279\n",
       "  value: 0.6275303363800049\n",
       "  value: 0.6680161952972412\n",
       "  value: 0.6538461446762085\n",
       "  value: 0.6761133670806885\n",
       "  value: 0.7408906817436218\n",
       "  value: 0.6862348318099976\n",
       "  value: 0.5769230723381042\n",
       "  value: 0.5526315569877625\n",
       "  value: 0.5303643941879272\n",
       "  value: 0.5870445370674133\n",
       "  value: 0.5121457576751709\n",
       "  value: 0.4615384638309479\n",
       "  value: 0.5566801428794861\n",
       "  value: 0.6255060434341431\n",
       "  value: 0.6497975587844849\n",
       "  value: 0.6356275081634521\n",
       "  value: 0.6356275081634521\n",
       "  value: 0.5020242929458618\n",
       "  value: 0.3785425126552582\n",
       "  value: 0.36032387614250183\n",
       "  value: 0.4615384638309479\n",
       "  value: 0.4777328073978424\n",
       "  value: 0.5323886871337891\n",
       "}"
      ]
     },
     "execution_count": 20,
     "metadata": {},
     "output_type": "execute_result"
    }
   ],
   "source": [
    "adjacent_hours = _float_feature_from_list_of_values(list_of_values)\n",
    "adjacent_hours"
   ]
  },
  {
   "cell_type": "code",
   "execution_count": 21,
   "metadata": {},
   "outputs": [
    {
     "data": {
      "text/plain": [
       "float_list {\n",
       "  value: 0.6336032152175903\n",
       "}"
      ]
     },
     "execution_count": 21,
     "metadata": {},
     "output_type": "execute_result"
    }
   ],
   "source": [
    "_float_feature(ytarget_train[0])"
   ]
  },
  {
   "cell_type": "code",
   "execution_count": 19,
   "metadata": {},
   "outputs": [
    {
     "name": "stdout",
     "output_type": "stream",
     "text": [
      "features {\n",
      "  feature {\n",
      "    key: \"adjacent_hours\"\n",
      "    value {\n",
      "      float_list {\n",
      "        value: 0.5809716582298279\n",
      "        value: 0.6275303363800049\n",
      "        value: 0.6680161952972412\n",
      "        value: 0.6538461446762085\n",
      "        value: 0.6761133670806885\n",
      "        value: 0.7408906817436218\n",
      "        value: 0.6862348318099976\n",
      "        value: 0.5769230723381042\n",
      "        value: 0.5526315569877625\n",
      "        value: 0.5303643941879272\n",
      "        value: 0.5870445370674133\n",
      "        value: 0.5121457576751709\n",
      "        value: 0.4615384638309479\n",
      "        value: 0.5566801428794861\n",
      "        value: 0.6255060434341431\n",
      "        value: 0.6497975587844849\n",
      "        value: 0.6356275081634521\n",
      "        value: 0.6356275081634521\n",
      "        value: 0.5020242929458618\n",
      "        value: 0.3785425126552582\n",
      "        value: 0.36032387614250183\n",
      "        value: 0.4615384638309479\n",
      "        value: 0.4777328073978424\n",
      "        value: 0.5323886871337891\n",
      "      }\n",
      "    }\n",
      "  }\n",
      "  feature {\n",
      "    key: \"target\"\n",
      "    value {\n",
      "      float_list {\n",
      "        value: 0.6336032152175903\n",
      "      }\n",
      "    }\n",
      "  }\n",
      "}\n",
      "\n"
     ]
    }
   ],
   "source": [
    "# create a TFRecord example for just the first row in the dataset\n",
    "example = tf.train.Example(\n",
    "    # features within the example\n",
    "    features=tf.train.Features(\n",
    "        # individual feature definition\n",
    "        feature={'adjacent_hours': _float_feature_from_list_of_values([lecture[0] for lecture in Xadj_train[0]]),\n",
    "                 'target': _float_feature(ytarget_train[0]),\n",
    "                }\n",
    "    )\n",
    ")\n",
    "\n",
    "print(example)"
   ]
  },
  {
   "cell_type": "code",
   "execution_count": 20,
   "metadata": {},
   "outputs": [
    {
     "data": {
      "text/plain": [
       "b'\\n\\x8c\\x01\\nv\\n\\x0eadjacent_hours\\x12d\\x12b\\n`\\x8f\\xba\\x14?\\xd4\\xa5 ?\\x1c\\x03+?vb\\'?\\xc4\\x15-?\\x03\\xab=?\\x16\\xad/?;\\xb1\\x13?Cy\\r?\\xf6\\xc5\\x07?\\x8dH\\x16?\\xfc\\x1b\\x03?\\xc5N\\xec>\\x97\\x82\\x0e?*! ?\"Y&?|\\xb8\"?|\\xb8\"?\\xaa\\x84\\x00?S\\xd0\\xc1>_|\\xb8>\\xc5N\\xec>e\\x99\\xf4>\\xa0J\\x08?\\n\\x12\\n\\x06target\\x12\\x08\\x12\\x06\\n\\x04\\xd23\"?'"
      ]
     },
     "execution_count": 20,
     "metadata": {},
     "output_type": "execute_result"
    }
   ],
   "source": [
    "example.SerializeToString()"
   ]
  },
  {
   "cell_type": "code",
   "execution_count": 21,
   "metadata": {},
   "outputs": [],
   "source": [
    "# write the basic `tf.Example` (only the first row of adjacent hours training set) to a file\n",
    "with tf.io.TFRecordWriter('../data/tfrecord/first_row.tfrecord') as writer:\n",
    "    serialized_example = example.SerializeToString()\n",
    "    writer.write(serialized_example)"
   ]
  },
  {
   "cell_type": "code",
   "execution_count": 24,
   "metadata": {},
   "outputs": [
    {
     "data": {
      "text/plain": [
       "<TFRecordDataset shapes: (), types: tf.string>"
      ]
     },
     "execution_count": 24,
     "metadata": {},
     "output_type": "execute_result"
    }
   ],
   "source": [
    "# now read the dataset from TFRecord file using non-deprecated methods from tf.data module\n",
    "first_row_train_raw_dataset = tf.data.TFRecordDataset('../data/tfrecord/first_row.tfrecord')\n",
    "first_row_train_raw_dataset"
   ]
  },
  {
   "cell_type": "code",
   "execution_count": 25,
   "metadata": {},
   "outputs": [
    {
     "data": {
      "text/plain": [
       "tf.string"
      ]
     },
     "execution_count": 25,
     "metadata": {},
     "output_type": "execute_result"
    }
   ],
   "source": [
    "first_row_train_raw_dataset.output_types"
   ]
  },
  {
   "cell_type": "code",
   "execution_count": 26,
   "metadata": {},
   "outputs": [
    {
     "data": {
      "text/plain": [
       "TensorShape([])"
      ]
     },
     "execution_count": 26,
     "metadata": {},
     "output_type": "execute_result"
    }
   ],
   "source": [
    "first_row_train_raw_dataset.output_shapes"
   ]
  },
  {
   "cell_type": "code",
   "execution_count": 27,
   "metadata": {},
   "outputs": [
    {
     "name": "stdout",
     "output_type": "stream",
     "text": [
      "b'\\n\\x8c\\x01\\nv\\n\\x0eadjacent_hours\\x12d\\x12b\\n`\\x8f\\xba\\x14?\\xd4\\xa5 ?\\x1c\\x03+?vb\\'?\\xc4\\x15-?\\x03\\xab=?\\x16\\xad/?;\\xb1\\x13?Cy\\r?\\xf6\\xc5\\x07?\\x8dH\\x16?\\xfc\\x1b\\x03?\\xc5N\\xec>\\x97\\x82\\x0e?*! ?\"Y&?|\\xb8\"?|\\xb8\"?\\xaa\\x84\\x00?S\\xd0\\xc1>_|\\xb8>\\xc5N\\xec>e\\x99\\xf4>\\xa0J\\x08?\\n\\x12\\n\\x06target\\x12\\x08\\x12\\x06\\n\\x04\\xd23\"?'\n"
     ]
    }
   ],
   "source": [
    "# can I access to the binary, string-based, raw dataset using a one-shot iterator?\n",
    "iterator = first_row_train_raw_dataset.make_one_shot_iterator()\n",
    "next_element = iterator.get_next()\n",
    "\n",
    "# there is only one row in the raw dataset\n",
    "value = sess.run(next_element)\n",
    "print(value)"
   ]
  },
  {
   "cell_type": "code",
   "execution_count": 48,
   "metadata": {},
   "outputs": [],
   "source": [
    "# define features\n",
    "read_features = {\n",
    "    'adjacent_hours': tf.VarLenFeature(dtype=tf.float32),\n",
    "    'target': tf.FixedLenFeature([], dtype=tf.float32)}"
   ]
  },
  {
   "cell_type": "code",
   "execution_count": 33,
   "metadata": {},
   "outputs": [
    {
     "data": {
      "text/plain": [
       "<MapDataset shapes: {adjacent_hours: (?,), target: ()}, types: {adjacent_hours: tf.float32, target: tf.float32}>"
      ]
     },
     "execution_count": 33,
     "metadata": {},
     "output_type": "execute_result"
    }
   ],
   "source": [
    "def _parse_dataset_function(example_proto):\n",
    "  # parse the input tf.Example proto using the dictionary above.\n",
    "  return tf.io.parse_single_example(example_proto, read_features)\n",
    "\n",
    "parsed_dataset = first_row_train_raw_dataset.map(_parse_dataset_function)\n",
    "parsed_dataset"
   ]
  },
  {
   "cell_type": "code",
   "execution_count": 34,
   "metadata": {},
   "outputs": [
    {
     "name": "stdout",
     "output_type": "stream",
     "text": [
      "[0.58097166 0.62753034 0.6680162  0.65384614 0.67611337 0.7408907\n",
      " 0.68623483 0.5769231  0.55263156 0.5303644  0.58704454 0.51214576\n",
      " 0.46153846 0.55668014 0.62550604 0.64979756 0.6356275  0.6356275\n",
      " 0.5020243  0.3785425  0.36032388 0.46153846 0.4777328  0.5323887 ] (24,)\n"
     ]
    }
   ],
   "source": [
    "iterator = parsed_dataset.make_one_shot_iterator()\n",
    "next_element = iterator.get_next()\n",
    "\n",
    "# there is only one row in the raw dataset\n",
    "value = sess.run(next_element)\n",
    "print(value['adjacent_hours'].values, value['adjacent_hours'].values.shape)"
   ]
  },
  {
   "cell_type": "code",
   "execution_count": 35,
   "metadata": {},
   "outputs": [
    {
     "data": {
      "text/plain": [
       "<MapDataset shapes: ({adjacent_hours: (?, 1)}, (1,)), types: ({adjacent_hours: tf.float32}, tf.float32)>"
      ]
     },
     "execution_count": 35,
     "metadata": {},
     "output_type": "execute_result"
    }
   ],
   "source": [
    "# TEST WITH DIFFERENT PARSING FUNCTIONS\n",
    "def _parse_dataset_function(example_proto):\n",
    "    # parse the input tf.Example proto using the dictionary above\n",
    "    row = tf.io.parse_single_example(example_proto, read_features)\n",
    "    adjacent_hours = tf.reshape(row['adjacent_hours'].values, [-1, 1])\n",
    "    target = tf.reshape(row['target'], [1,])\n",
    "    \n",
    "    return ({'adjacent_hours': adjacent_hours}, target)\n",
    "    \n",
    "\n",
    "parsed_dataset = first_row_train_raw_dataset.map(_parse_dataset_function)\n",
    "parsed_dataset"
   ]
  },
  {
   "cell_type": "code",
   "execution_count": 36,
   "metadata": {},
   "outputs": [
    {
     "name": "stdout",
     "output_type": "stream",
     "text": [
      "({'adjacent_hours': array([[0.58097166],\n",
      "       [0.62753034],\n",
      "       [0.6680162 ],\n",
      "       [0.65384614],\n",
      "       [0.67611337],\n",
      "       [0.7408907 ],\n",
      "       [0.68623483],\n",
      "       [0.5769231 ],\n",
      "       [0.55263156],\n",
      "       [0.5303644 ],\n",
      "       [0.58704454],\n",
      "       [0.51214576],\n",
      "       [0.46153846],\n",
      "       [0.55668014],\n",
      "       [0.62550604],\n",
      "       [0.64979756],\n",
      "       [0.6356275 ],\n",
      "       [0.6356275 ],\n",
      "       [0.5020243 ],\n",
      "       [0.3785425 ],\n",
      "       [0.36032388],\n",
      "       [0.46153846],\n",
      "       [0.4777328 ],\n",
      "       [0.5323887 ]], dtype=float32)}, array([0.6336032], dtype=float32))\n"
     ]
    }
   ],
   "source": [
    "iterator = parsed_dataset.make_one_shot_iterator()\n",
    "next_element = iterator.get_next()\n",
    "\n",
    "# there is only one row in the raw dataset\n",
    "value = sess.run(next_element)\n",
    "print(value)"
   ]
  },
  {
   "cell_type": "code",
   "execution_count": 37,
   "metadata": {},
   "outputs": [],
   "source": [
    "# everything works fine, now build the dataset to serialize with more than one record"
   ]
  },
  {
   "cell_type": "code",
   "execution_count": 41,
   "metadata": {},
   "outputs": [],
   "source": [
    "with tf.io.TFRecordWriter('../data/tfrecord/ten_rows.tfrecord') as writer:\n",
    "    # get an iterable with the indexes of the NumPy array to be stored in the TFRecord file\n",
    "    # test with only 10 rows\n",
    "    for row in np.arange(10):\n",
    "        example = tf.train.Example(\n",
    "            # features within the example\n",
    "            features=tf.train.Features(\n",
    "                # individual feature definition\n",
    "                feature={'adjacent_hours': _float_feature_from_list_of_values([lecture[0] for lecture in Xadj_train[row]]),\n",
    "                         'target': _float_feature(ytarget_train[row]),\n",
    "                        }\n",
    "            )\n",
    "        )\n",
    "        serialized_example = example.SerializeToString()\n",
    "        writer.write(serialized_example)"
   ]
  },
  {
   "cell_type": "code",
   "execution_count": 43,
   "metadata": {},
   "outputs": [],
   "source": [
    "# read and parse the bigger dataset from the bigger TFRecord file"
   ]
  },
  {
   "cell_type": "code",
   "execution_count": 42,
   "metadata": {},
   "outputs": [],
   "source": [
    "bigger_raw_dataset = tf.data.TFRecordDataset('../data/tfrecord/ten_rows.tfrecord')"
   ]
  },
  {
   "cell_type": "code",
   "execution_count": 44,
   "metadata": {},
   "outputs": [
    {
     "data": {
      "text/plain": [
       "<MapDataset shapes: ({adjacent_hours: (?, 1)}, (1,)), types: ({adjacent_hours: tf.float32}, tf.float32)>"
      ]
     },
     "execution_count": 44,
     "metadata": {},
     "output_type": "execute_result"
    }
   ],
   "source": [
    "bigger_parsed_dataset = bigger_raw_dataset.map(_parse_dataset_function)\n",
    "parsed_dataset"
   ]
  },
  {
   "cell_type": "code",
   "execution_count": 47,
   "metadata": {},
   "outputs": [
    {
     "name": "stdout",
     "output_type": "stream",
     "text": [
      "({'adjacent_hours': array([[0.58097166],\n",
      "       [0.62753034],\n",
      "       [0.6680162 ],\n",
      "       [0.65384614],\n",
      "       [0.67611337],\n",
      "       [0.7408907 ],\n",
      "       [0.68623483],\n",
      "       [0.5769231 ],\n",
      "       [0.55263156],\n",
      "       [0.5303644 ],\n",
      "       [0.58704454],\n",
      "       [0.51214576],\n",
      "       [0.46153846],\n",
      "       [0.55668014],\n",
      "       [0.62550604],\n",
      "       [0.64979756],\n",
      "       [0.6356275 ],\n",
      "       [0.6356275 ],\n",
      "       [0.5020243 ],\n",
      "       [0.3785425 ],\n",
      "       [0.36032388],\n",
      "       [0.46153846],\n",
      "       [0.4777328 ],\n",
      "       [0.5323887 ]], dtype=float32)}, array([0.6336032], dtype=float32))\n",
      "({'adjacent_hours': array([[0.62753034],\n",
      "       [0.6680162 ],\n",
      "       [0.65384614],\n",
      "       [0.67611337],\n",
      "       [0.7408907 ],\n",
      "       [0.68623483],\n",
      "       [0.5769231 ],\n",
      "       [0.55263156],\n",
      "       [0.5303644 ],\n",
      "       [0.58704454],\n",
      "       [0.51214576],\n",
      "       [0.46153846],\n",
      "       [0.55668014],\n",
      "       [0.62550604],\n",
      "       [0.64979756],\n",
      "       [0.6356275 ],\n",
      "       [0.6356275 ],\n",
      "       [0.5020243 ],\n",
      "       [0.3785425 ],\n",
      "       [0.36032388],\n",
      "       [0.46153846],\n",
      "       [0.4777328 ],\n",
      "       [0.5323887 ],\n",
      "       [0.6336032 ]], dtype=float32)}, array([0.6437247], dtype=float32))\n",
      "({'adjacent_hours': array([[0.6680162 ],\n",
      "       [0.65384614],\n",
      "       [0.67611337],\n",
      "       [0.7408907 ],\n",
      "       [0.68623483],\n",
      "       [0.5769231 ],\n",
      "       [0.55263156],\n",
      "       [0.5303644 ],\n",
      "       [0.58704454],\n",
      "       [0.51214576],\n",
      "       [0.46153846],\n",
      "       [0.55668014],\n",
      "       [0.62550604],\n",
      "       [0.64979756],\n",
      "       [0.6356275 ],\n",
      "       [0.6356275 ],\n",
      "       [0.5020243 ],\n",
      "       [0.3785425 ],\n",
      "       [0.36032388],\n",
      "       [0.46153846],\n",
      "       [0.4777328 ],\n",
      "       [0.5323887 ],\n",
      "       [0.6336032 ],\n",
      "       [0.6437247 ]], dtype=float32)}, array([0.68016195], dtype=float32))\n",
      "({'adjacent_hours': array([[0.65384614],\n",
      "       [0.67611337],\n",
      "       [0.7408907 ],\n",
      "       [0.68623483],\n",
      "       [0.5769231 ],\n",
      "       [0.55263156],\n",
      "       [0.5303644 ],\n",
      "       [0.58704454],\n",
      "       [0.51214576],\n",
      "       [0.46153846],\n",
      "       [0.55668014],\n",
      "       [0.62550604],\n",
      "       [0.64979756],\n",
      "       [0.6356275 ],\n",
      "       [0.6356275 ],\n",
      "       [0.5020243 ],\n",
      "       [0.3785425 ],\n",
      "       [0.36032388],\n",
      "       [0.46153846],\n",
      "       [0.4777328 ],\n",
      "       [0.5323887 ],\n",
      "       [0.6336032 ],\n",
      "       [0.6437247 ],\n",
      "       [0.68016195]], dtype=float32)}, array([0.6619433], dtype=float32))\n",
      "({'adjacent_hours': array([[0.67611337],\n",
      "       [0.7408907 ],\n",
      "       [0.68623483],\n",
      "       [0.5769231 ],\n",
      "       [0.55263156],\n",
      "       [0.5303644 ],\n",
      "       [0.58704454],\n",
      "       [0.51214576],\n",
      "       [0.46153846],\n",
      "       [0.55668014],\n",
      "       [0.62550604],\n",
      "       [0.64979756],\n",
      "       [0.6356275 ],\n",
      "       [0.6356275 ],\n",
      "       [0.5020243 ],\n",
      "       [0.3785425 ],\n",
      "       [0.36032388],\n",
      "       [0.46153846],\n",
      "       [0.4777328 ],\n",
      "       [0.5323887 ],\n",
      "       [0.6336032 ],\n",
      "       [0.6437247 ],\n",
      "       [0.68016195],\n",
      "       [0.6619433 ]], dtype=float32)}, array([0.6396761], dtype=float32))\n",
      "({'adjacent_hours': array([[0.7408907 ],\n",
      "       [0.68623483],\n",
      "       [0.5769231 ],\n",
      "       [0.55263156],\n",
      "       [0.5303644 ],\n",
      "       [0.58704454],\n",
      "       [0.51214576],\n",
      "       [0.46153846],\n",
      "       [0.55668014],\n",
      "       [0.62550604],\n",
      "       [0.64979756],\n",
      "       [0.6356275 ],\n",
      "       [0.6356275 ],\n",
      "       [0.5020243 ],\n",
      "       [0.3785425 ],\n",
      "       [0.36032388],\n",
      "       [0.46153846],\n",
      "       [0.4777328 ],\n",
      "       [0.5323887 ],\n",
      "       [0.6336032 ],\n",
      "       [0.6437247 ],\n",
      "       [0.68016195],\n",
      "       [0.6619433 ],\n",
      "       [0.6396761 ]], dtype=float32)}, array([0.6234818], dtype=float32))\n",
      "({'adjacent_hours': array([[0.68623483],\n",
      "       [0.5769231 ],\n",
      "       [0.55263156],\n",
      "       [0.5303644 ],\n",
      "       [0.58704454],\n",
      "       [0.51214576],\n",
      "       [0.46153846],\n",
      "       [0.55668014],\n",
      "       [0.62550604],\n",
      "       [0.64979756],\n",
      "       [0.6356275 ],\n",
      "       [0.6356275 ],\n",
      "       [0.5020243 ],\n",
      "       [0.3785425 ],\n",
      "       [0.36032388],\n",
      "       [0.46153846],\n",
      "       [0.4777328 ],\n",
      "       [0.5323887 ],\n",
      "       [0.6336032 ],\n",
      "       [0.6437247 ],\n",
      "       [0.68016195],\n",
      "       [0.6619433 ],\n",
      "       [0.6396761 ],\n",
      "       [0.6234818 ]], dtype=float32)}, array([0.597166], dtype=float32))\n",
      "({'adjacent_hours': array([[0.5769231 ],\n",
      "       [0.55263156],\n",
      "       [0.5303644 ],\n",
      "       [0.58704454],\n",
      "       [0.51214576],\n",
      "       [0.46153846],\n",
      "       [0.55668014],\n",
      "       [0.62550604],\n",
      "       [0.64979756],\n",
      "       [0.6356275 ],\n",
      "       [0.6356275 ],\n",
      "       [0.5020243 ],\n",
      "       [0.3785425 ],\n",
      "       [0.36032388],\n",
      "       [0.46153846],\n",
      "       [0.4777328 ],\n",
      "       [0.5323887 ],\n",
      "       [0.6336032 ],\n",
      "       [0.6437247 ],\n",
      "       [0.68016195],\n",
      "       [0.6619433 ],\n",
      "       [0.6396761 ],\n",
      "       [0.6234818 ],\n",
      "       [0.597166  ]], dtype=float32)}, array([0.62753034], dtype=float32))\n",
      "({'adjacent_hours': array([[0.55263156],\n",
      "       [0.5303644 ],\n",
      "       [0.58704454],\n",
      "       [0.51214576],\n",
      "       [0.46153846],\n",
      "       [0.55668014],\n",
      "       [0.62550604],\n",
      "       [0.64979756],\n",
      "       [0.6356275 ],\n",
      "       [0.6356275 ],\n",
      "       [0.5020243 ],\n",
      "       [0.3785425 ],\n",
      "       [0.36032388],\n",
      "       [0.46153846],\n",
      "       [0.4777328 ],\n",
      "       [0.5323887 ],\n",
      "       [0.6336032 ],\n",
      "       [0.6437247 ],\n",
      "       [0.68016195],\n",
      "       [0.6619433 ],\n",
      "       [0.6396761 ],\n",
      "       [0.6234818 ],\n",
      "       [0.597166  ],\n",
      "       [0.62753034]], dtype=float32)}, array([0.65182185], dtype=float32))\n",
      "({'adjacent_hours': array([[0.5303644 ],\n",
      "       [0.58704454],\n",
      "       [0.51214576],\n",
      "       [0.46153846],\n",
      "       [0.55668014],\n",
      "       [0.62550604],\n",
      "       [0.64979756],\n",
      "       [0.6356275 ],\n",
      "       [0.6356275 ],\n",
      "       [0.5020243 ],\n",
      "       [0.3785425 ],\n",
      "       [0.36032388],\n",
      "       [0.46153846],\n",
      "       [0.4777328 ],\n",
      "       [0.5323887 ],\n",
      "       [0.6336032 ],\n",
      "       [0.6437247 ],\n",
      "       [0.68016195],\n",
      "       [0.6619433 ],\n",
      "       [0.6396761 ],\n",
      "       [0.6234818 ],\n",
      "       [0.597166  ],\n",
      "       [0.62753034],\n",
      "       [0.65182185]], dtype=float32)}, array([0.5263158], dtype=float32))\n"
     ]
    }
   ],
   "source": [
    "iterator = bigger_parsed_dataset.make_one_shot_iterator()\n",
    "\n",
    "for row in np.arange(10):\n",
    "    next_element = iterator.get_next()\n",
    "    value = sess.run(next_element)\n",
    "    print(value)"
   ]
  },
  {
   "cell_type": "code",
   "execution_count": null,
   "metadata": {
    "collapsed": true
   },
   "outputs": [],
   "source": [
    "# everything seems to be working fine, now feed a simple Estimator model with\n",
    "# only the adjacent hours SLDB and test the whole process... tomorrow"
   ]
  },
  {
   "cell_type": "code",
   "execution_count": null,
   "metadata": {},
   "outputs": [],
   "source": []
  },
  {
   "cell_type": "code",
   "execution_count": 7,
   "metadata": {},
   "outputs": [],
   "source": [
    "# ToDo: verify if targets can be declared as a Feature, as with the feature vector\n",
    "# later, now just run with the previous, working code\n",
    "# def train_input_fn():\n",
    "#     dataset = (\n",
    "#         tf.data.Dataset.from_tensor_slices(\n",
    "#             (\n",
    "#                 {\n",
    "#                     'adjacent_hours': tf.cast(Xadj_train, tf.float32),\n",
    "#                     'target': tf.cast(ytarget_train, tf.float32) \n",
    "#                 }\n",
    "#             )\n",
    "#         )\n",
    "#     )\n",
    "#     dataset = dataset.shuffle(buffer_size=9000).repeat(count=1).batch(batch_size=32)    \n",
    "#     return dataset"
   ]
  },
  {
   "cell_type": "code",
   "execution_count": 8,
   "metadata": {},
   "outputs": [],
   "source": [
    "def train_input_fn():\n",
    "    dataset = (\n",
    "        tf.data.Dataset.from_tensor_slices(\n",
    "            (\n",
    "                {\n",
    "                    'adjacent_hours': tf.cast(Xadj_train, tf.float32)\n",
    "                },\n",
    "                tf.cast(ytarget_train, tf.float32)\n",
    "            )\n",
    "        )\n",
    "    )\n",
    "    dataset = dataset.shuffle(buffer_size=9000).repeat(count=1).batch(batch_size=32)    \n",
    "    return dataset"
   ]
  }
 ],
 "metadata": {
  "kernelspec": {
   "display_name": "Python 3",
   "language": "python",
   "name": "python3"
  },
  "language_info": {
   "codemirror_mode": {
    "name": "ipython",
    "version": 3
   },
   "file_extension": ".py",
   "mimetype": "text/x-python",
   "name": "python",
   "nbconvert_exporter": "python",
   "pygments_lexer": "ipython3",
   "version": "3.6.8"
  }
 },
 "nbformat": 4,
 "nbformat_minor": 2
}

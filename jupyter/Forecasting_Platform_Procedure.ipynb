{
 "cells": [
  {
   "cell_type": "code",
   "execution_count": 1,
   "metadata": {},
   "outputs": [],
   "source": [
    "# load Parquet data, plot, analyze, and persist to time series pickle with\n",
    "# load_analyze_prepare_persist_CPE04115_H_kw.ipynb notebook"
   ]
  },
  {
   "cell_type": "code",
   "execution_count": 2,
   "metadata": {},
   "outputs": [],
   "source": [
    "# make SLDB from time series with\n",
    "# make_sldb_new_version_prototype.ipynb notebook"
   ]
  },
  {
   "cell_type": "code",
   "execution_count": 3,
   "metadata": {},
   "outputs": [],
   "source": [
    "# for DMSLSTM, adjust forecasting framework configuration in\n",
    "# dplstm/configs/dmslstm_config.py"
   ]
  },
  {
   "cell_type": "code",
   "execution_count": null,
   "metadata": {},
   "outputs": [],
   "source": [
    "# prepare and execute training task\n",
    "\n",
    "# at batch_size=512, suggested base_learning_rate=0.005\n",
    "# at batch_size=256, suggested base_learning_rate=0.01\n",
    "# at batch_size=128, suggested base_learning_rate=0.02\n",
    "# at batch_size=64, suggested base_learning_rate=0.04"
   ]
  },
  {
   "cell_type": "code",
   "execution_count": null,
   "metadata": {},
   "outputs": [],
   "source": [
    "# CPU-based\n",
    "# test the TPUEstimator program before executing it on super-fast, expensive TPUs\n",
    "# evaluate the model after checkpoint saving, to confirm there is no overfitting\n",
    "# (evaluation stage is not suggested on TPU because it requires to shutdown and startup the accelerator)\n",
    "# host_call does not seem to be executed on CPU-based training, find out why!\n",
    "# standard summaries provided by RunConfig() are saved every save_summary_steps\n",
    "'''\n",
    "python3 train.py\n",
    "    --model_dir='gs://cbidmltsf/models/model_dir'\n",
    "    --data_dir='gs://cbidmltsf/sldbs/sldb_dir'\n",
    "    --use_tpu=false\n",
    "    --base_learning_rate=0.04\n",
    "    --train_batch_size=64\n",
    "    --train_steps=calculate_this_number_to_get_the_desired_number_of_epochs\n",
    "    --iterations_per_loop=run_evaluation_every_this_number_of_steps\n",
    "    --skip_host_call=true\n",
    "    --save_summary_steps=save_scalar_summaries_from_run_config_every_this_number_of_steps\n",
    "    --log_step_count_steps=log_count_of_steps_and_examples_per_second_every_this_number_of_steps\n",
    "    --mode='train_and_eval'\n",
    "    --precision='float32'\n",
    "    --persist_parameters=true_for_the_first_job_on_this_model_false_otherwise\n",
    "    1>../logs/model_dir.txt 2>&1\n",
    "    '''"
   ]
  },
  {
   "cell_type": "code",
   "execution_count": null,
   "metadata": {},
   "outputs": [],
   "source": [
    "# TPU-based\n",
    "'''\n",
    "python3 train.py\n",
    "    --model_dir='gs://cbidmltsf/models/model_dir'\n",
    "    --data_dir='gs://cbidmltsf/sldbs/sldb_dir'\n",
    "    --use_tpu=true\n",
    "    --base_learning_rate=0.04\n",
    "    --train_batch_size=64\n",
    "    --train_steps=calculate_this_number_to_get_the_desired_number_of_epochs\n",
    "    --iterations_per_loop=any_number_bigger_than_train_steps\n",
    "    --skip_host_call=false\n",
    "    --save_summary_steps=any_number_bigger_than_train_steps\n",
    "    --log_step_count_steps=any_number_bigger_than_train_steps\n",
    "    --mode='train'\n",
    "    --precision='bfloat16'\n",
    "    --persist_parameters=true_for_the_first_job_on_this_model_false_otherwise\n",
    "    1>../logs/model_dir.txt 2>&1\n",
    "    '''"
   ]
  },
  {
   "cell_type": "code",
   "execution_count": 5,
   "metadata": {},
   "outputs": [],
   "source": [
    "# BEFORE TRAINING BATCH\n",
    "# sync dplstm/: local -> GS -> GCE"
   ]
  },
  {
   "cell_type": "code",
   "execution_count": 6,
   "metadata": {},
   "outputs": [],
   "source": [
    "# AFTER TRAINING BATCH\n",
    "# sync logs/: GCE -> GS -> local\n",
    "# sync models/: GS -> local\n",
    "# sync parameters/: GS -> local"
   ]
  },
  {
   "cell_type": "code",
   "execution_count": null,
   "metadata": {},
   "outputs": [],
   "source": [
    "# make predictions with make_predictions.py"
   ]
  },
  {
   "cell_type": "code",
   "execution_count": 7,
   "metadata": {},
   "outputs": [],
   "source": [
    "# AFTER PREDICTION BATCH\n",
    "# sync stats/: GS -> local"
   ]
  },
  {
   "cell_type": "code",
   "execution_count": 1,
   "metadata": {},
   "outputs": [],
   "source": [
    "# get_wall_time_from_tensorboard_to_json.ipyb"
   ]
  },
  {
   "cell_type": "code",
   "execution_count": null,
   "metadata": {},
   "outputs": [],
   "source": []
  }
 ],
 "metadata": {
  "kernelspec": {
   "display_name": "Python 3",
   "language": "python",
   "name": "python3"
  },
  "language_info": {
   "codemirror_mode": {
    "name": "ipython",
    "version": 3
   },
   "file_extension": ".py",
   "mimetype": "text/x-python",
   "name": "python",
   "nbconvert_exporter": "python",
   "pygments_lexer": "ipython3",
   "version": "3.7.6"
  }
 },
 "nbformat": 4,
 "nbformat_minor": 4
}

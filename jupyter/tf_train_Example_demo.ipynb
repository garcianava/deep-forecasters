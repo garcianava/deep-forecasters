{
 "cells": [
  {
   "cell_type": "code",
   "execution_count": 1,
   "metadata": {},
   "outputs": [],
   "source": [
    "# https://medium.com/mostly-ai/tensorflow-records-what-they-are-and-how-to-use-them-c46bc4bbb564"
   ]
  },
  {
   "cell_type": "code",
   "execution_count": 2,
   "metadata": {},
   "outputs": [],
   "source": [
    "import tensorflow as tf"
   ]
  },
  {
   "cell_type": "code",
   "execution_count": 3,
   "metadata": {},
   "outputs": [
    {
     "name": "stdout",
     "output_type": "stream",
     "text": [
      "{'Age': 29, 'Movie': ['The Shawshank Redemption', 'Fight Club'], 'Movie Ratings': [9.0, 9.7], 'Suggestion': 'Inception', 'Suggestion Purchased': 1.0, 'Purchase Price': 9.99}\n"
     ]
    }
   ],
   "source": [
    "# data dictionary from the example, a single row with two features ('Movie', 'Movie Ratigns')\n",
    "# that present multiple values\n",
    "# this characteristic is not required for supervised-learning databases\n",
    "data = {\n",
    "    'Age': 29,\n",
    "    'Movie': ['The Shawshank Redemption', 'Fight Club'],\n",
    "    'Movie Ratings': [9.0, 9.7],\n",
    "    'Suggestion': 'Inception',\n",
    "    'Suggestion Purchased': 1.0,\n",
    "    'Purchase Price': 9.99\n",
    "}\n",
    "\n",
    "print(data)"
   ]
  },
  {
   "cell_type": "code",
   "execution_count": 4,
   "metadata": {},
   "outputs": [
    {
     "name": "stdout",
     "output_type": "stream",
     "text": [
      "features {\n",
      "  feature {\n",
      "    key: \"Age\"\n",
      "    value {\n",
      "      int64_list {\n",
      "        value: 29\n",
      "      }\n",
      "    }\n",
      "  }\n",
      "  feature {\n",
      "    key: \"Movie\"\n",
      "    value {\n",
      "      bytes_list {\n",
      "        value: \"The Shawshank Redemption\"\n",
      "        value: \"Fight Club\"\n",
      "      }\n",
      "    }\n",
      "  }\n",
      "  feature {\n",
      "    key: \"Movie Ratings\"\n",
      "    value {\n",
      "      float_list {\n",
      "        value: 9.0\n",
      "        value: 9.699999809265137\n",
      "      }\n",
      "    }\n",
      "  }\n",
      "  feature {\n",
      "    key: \"Purchase Price\"\n",
      "    value {\n",
      "      float_list {\n",
      "        value: 9.989999771118164\n",
      "      }\n",
      "    }\n",
      "  }\n",
      "  feature {\n",
      "    key: \"Suggestion\"\n",
      "    value {\n",
      "      bytes_list {\n",
      "        value: \"Inception\"\n",
      "      }\n",
      "    }\n",
      "  }\n",
      "  feature {\n",
      "    key: \"Suggestion Purchased\"\n",
      "    value {\n",
      "      float_list {\n",
      "        value: 1.0\n",
      "      }\n",
      "    }\n",
      "  }\n",
      "}\n",
      "\n"
     ]
    }
   ],
   "source": [
    "# from the data dictionary to the TFRecord example\n",
    "example = tf.train.Example(\n",
    "    # features within the example\n",
    "    features=tf.train.Features(\n",
    "        # individual feature definition\n",
    "        feature={'Age': tf.train.Feature(int64_list=tf.train.Int64List(value=[data['Age']])),\n",
    "                 'Movie': tf.train.Feature(bytes_list=tf.train.BytesList(value=[m.encode('utf-8') for m in data['Movie']])),\n",
    "                 'Movie Ratings': tf.train.Feature(float_list=tf.train.FloatList(value=data['Movie Ratings'])),\n",
    "                 'Suggestion': tf.train.Feature(bytes_list=tf.train.BytesList(value=[data['Suggestion'].encode('utf-8')])),\n",
    "                 'Suggestion Purchased': tf.train.Feature(float_list=tf.train.FloatList(value=[data['Suggestion Purchased']])),\n",
    "                 'Purchase Price': tf.train.Feature(float_list=tf.train.FloatList(value=[data['Purchase Price']]))\n",
    "                }\n",
    "    )\n",
    ")\n",
    "\n",
    "print(example)"
   ]
  },
  {
   "cell_type": "code",
   "execution_count": 6,
   "metadata": {},
   "outputs": [],
   "source": [
    "# write TFRecord file\n",
    "with tf.python_io.TFRecordWriter('../data/tfrecord/customer_1.tfrecord') as writer:\n",
    "    writer.write(example.SerializeToString())"
   ]
  },
  {
   "cell_type": "code",
   "execution_count": 7,
   "metadata": {},
   "outputs": [
    {
     "name": "stdout",
     "output_type": "stream",
     "text": [
      "WARNING:tensorflow:From <ipython-input-7-45028a605144>:6: TFRecordReader.__init__ (from tensorflow.python.ops.io_ops) is deprecated and will be removed in a future version.\n",
      "Instructions for updating:\n",
      "Queue-based input pipelines have been replaced by `tf.data`. Use `tf.data.TFRecordDataset`.\n",
      "WARNING:tensorflow:From <ipython-input-7-45028a605144>:7: string_input_producer (from tensorflow.python.training.input) is deprecated and will be removed in a future version.\n",
      "Instructions for updating:\n",
      "Queue-based input pipelines have been replaced by `tf.data`. Use `tf.data.Dataset.from_tensor_slices(string_tensor).shuffle(tf.shape(input_tensor, out_type=tf.int64)[0]).repeat(num_epochs)`. If `shuffle=False`, omit the `.shuffle(...)`.\n",
      "WARNING:tensorflow:From /home/developer/anaconda3/envs/tensorflow/lib/python3.6/site-packages/tensorflow/python/training/input.py:276: input_producer (from tensorflow.python.training.input) is deprecated and will be removed in a future version.\n",
      "Instructions for updating:\n",
      "Queue-based input pipelines have been replaced by `tf.data`. Use `tf.data.Dataset.from_tensor_slices(input_tensor).shuffle(tf.shape(input_tensor, out_type=tf.int64)[0]).repeat(num_epochs)`. If `shuffle=False`, omit the `.shuffle(...)`.\n",
      "WARNING:tensorflow:From /home/developer/anaconda3/envs/tensorflow/lib/python3.6/site-packages/tensorflow/python/training/input.py:188: limit_epochs (from tensorflow.python.training.input) is deprecated and will be removed in a future version.\n",
      "Instructions for updating:\n",
      "Queue-based input pipelines have been replaced by `tf.data`. Use `tf.data.Dataset.from_tensors(tensor).repeat(num_epochs)`.\n",
      "WARNING:tensorflow:From /home/developer/anaconda3/envs/tensorflow/lib/python3.6/site-packages/tensorflow/python/training/input.py:197: QueueRunner.__init__ (from tensorflow.python.training.queue_runner_impl) is deprecated and will be removed in a future version.\n",
      "Instructions for updating:\n",
      "To construct input pipelines, use the `tf.data` module.\n",
      "WARNING:tensorflow:From /home/developer/anaconda3/envs/tensorflow/lib/python3.6/site-packages/tensorflow/python/training/input.py:197: add_queue_runner (from tensorflow.python.training.queue_runner_impl) is deprecated and will be removed in a future version.\n",
      "Instructions for updating:\n",
      "To construct input pipelines, use the `tf.data` module.\n",
      "WARNING:tensorflow:From <ipython-input-7-45028a605144>:28: start_queue_runners (from tensorflow.python.training.queue_runner_impl) is deprecated and will be removed in a future version.\n",
      "Instructions for updating:\n",
      "To construct input pipelines, use the `tf.data` module.\n",
      "Movie: SparseTensorValue(indices=array([[0],\n",
      "       [1]]), values=array([b'The Shawshank Redemption', b'Fight Club'], dtype=object), dense_shape=array([2]))\n",
      "Movie Ratings: SparseTensorValue(indices=array([[0],\n",
      "       [1]]), values=array([9. , 9.7], dtype=float32), dense_shape=array([2]))\n",
      "Age: 29\n",
      "Purchase Price: 9.989999771118164\n",
      "Suggestion: b'Inception'\n",
      "Suggestion Purchased: 1.0\n"
     ]
    }
   ],
   "source": [
    "# read and print data:\n",
    "# ToDo: the following line might need to be changed when running a script\n",
    "sess = tf.InteractiveSession()\n",
    "\n",
    "# read TFRecord file\n",
    "reader = tf.TFRecordReader()\n",
    "filename_queue = tf.train.string_input_producer(['../data/tfrecord/customer_1.tfrecord'])\n",
    "\n",
    "_, serialized_example = reader.read(filename_queue)\n",
    "\n",
    "# define features\n",
    "read_features = {\n",
    "    'Age': tf.FixedLenFeature([], dtype=tf.int64),\n",
    "    # the number of movies the suggestion is based on may vary\n",
    "    'Movie': tf.VarLenFeature(dtype=tf.string),\n",
    "    # and so does the number of ratings assigned to the movies\n",
    "    'Movie Ratings': tf.VarLenFeature(dtype=tf.float32),\n",
    "    'Suggestion': tf.FixedLenFeature([], dtype=tf.string),\n",
    "    'Suggestion Purchased': tf.FixedLenFeature([], dtype=tf.float32),\n",
    "    'Purchase Price': tf.FixedLenFeature([], dtype=tf.float32)}\n",
    "\n",
    "# extract features from serialized data\n",
    "read_data = tf.parse_single_example(serialized=serialized_example,\n",
    "                                    features=read_features)\n",
    "\n",
    "# important! many tf.train functions use tf.train.QueueRunner,\n",
    "# so we need to start it before we read\n",
    "tf.train.start_queue_runners(sess)\n",
    "\n",
    "# Print features\n",
    "for name, tensor in read_data.items():\n",
    "    print('{}: {}'.format(name, tensor.eval()))"
   ]
  }
 ],
 "metadata": {
  "kernelspec": {
   "display_name": "Python 3",
   "language": "python",
   "name": "python3"
  },
  "language_info": {
   "codemirror_mode": {
    "name": "ipython",
    "version": 3
   },
   "file_extension": ".py",
   "mimetype": "text/x-python",
   "name": "python",
   "nbconvert_exporter": "python",
   "pygments_lexer": "ipython3",
   "version": "3.6.8"
  }
 },
 "nbformat": 4,
 "nbformat_minor": 2
}

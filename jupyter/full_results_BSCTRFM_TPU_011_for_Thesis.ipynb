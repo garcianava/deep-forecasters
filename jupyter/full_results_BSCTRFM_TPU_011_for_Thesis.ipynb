{
 "cells": [
  {
   "cell_type": "code",
   "execution_count": 1,
   "metadata": {},
   "outputs": [],
   "source": [
    "import json\n",
    "import numpy as np\n",
    "import pandas as pd\n",
    "import os"
   ]
  },
  {
   "cell_type": "code",
   "execution_count": 2,
   "metadata": {},
   "outputs": [],
   "source": [
    "from datetime import timedelta"
   ]
  },
  {
   "cell_type": "code",
   "execution_count": 3,
   "metadata": {},
   "outputs": [],
   "source": [
    "from math import sqrt\n",
    "from sklearn.metrics import mean_squared_error, mean_absolute_error"
   ]
  },
  {
   "cell_type": "code",
   "execution_count": 4,
   "metadata": {},
   "outputs": [
    {
     "data": {
      "text/html": [
       "\n",
       "    <div class=\"bk-root\">\n",
       "        <a href=\"https://bokeh.org\" target=\"_blank\" class=\"bk-logo bk-logo-small bk-logo-notebook\"></a>\n",
       "        <span id=\"1001\">Loading BokehJS ...</span>\n",
       "    </div>"
      ]
     },
     "metadata": {},
     "output_type": "display_data"
    },
    {
     "data": {
      "application/javascript": [
       "\n",
       "(function(root) {\n",
       "  function now() {\n",
       "    return new Date();\n",
       "  }\n",
       "\n",
       "  var force = true;\n",
       "\n",
       "  if (typeof root._bokeh_onload_callbacks === \"undefined\" || force === true) {\n",
       "    root._bokeh_onload_callbacks = [];\n",
       "    root._bokeh_is_loading = undefined;\n",
       "  }\n",
       "\n",
       "  var JS_MIME_TYPE = 'application/javascript';\n",
       "  var HTML_MIME_TYPE = 'text/html';\n",
       "  var EXEC_MIME_TYPE = 'application/vnd.bokehjs_exec.v0+json';\n",
       "  var CLASS_NAME = 'output_bokeh rendered_html';\n",
       "\n",
       "  /**\n",
       "   * Render data to the DOM node\n",
       "   */\n",
       "  function render(props, node) {\n",
       "    var script = document.createElement(\"script\");\n",
       "    node.appendChild(script);\n",
       "  }\n",
       "\n",
       "  /**\n",
       "   * Handle when an output is cleared or removed\n",
       "   */\n",
       "  function handleClearOutput(event, handle) {\n",
       "    var cell = handle.cell;\n",
       "\n",
       "    var id = cell.output_area._bokeh_element_id;\n",
       "    var server_id = cell.output_area._bokeh_server_id;\n",
       "    // Clean up Bokeh references\n",
       "    if (id != null && id in Bokeh.index) {\n",
       "      Bokeh.index[id].model.document.clear();\n",
       "      delete Bokeh.index[id];\n",
       "    }\n",
       "\n",
       "    if (server_id !== undefined) {\n",
       "      // Clean up Bokeh references\n",
       "      var cmd = \"from bokeh.io.state import curstate; print(curstate().uuid_to_server['\" + server_id + \"'].get_sessions()[0].document.roots[0]._id)\";\n",
       "      cell.notebook.kernel.execute(cmd, {\n",
       "        iopub: {\n",
       "          output: function(msg) {\n",
       "            var id = msg.content.text.trim();\n",
       "            if (id in Bokeh.index) {\n",
       "              Bokeh.index[id].model.document.clear();\n",
       "              delete Bokeh.index[id];\n",
       "            }\n",
       "          }\n",
       "        }\n",
       "      });\n",
       "      // Destroy server and session\n",
       "      var cmd = \"import bokeh.io.notebook as ion; ion.destroy_server('\" + server_id + \"')\";\n",
       "      cell.notebook.kernel.execute(cmd);\n",
       "    }\n",
       "  }\n",
       "\n",
       "  /**\n",
       "   * Handle when a new output is added\n",
       "   */\n",
       "  function handleAddOutput(event, handle) {\n",
       "    var output_area = handle.output_area;\n",
       "    var output = handle.output;\n",
       "\n",
       "    // limit handleAddOutput to display_data with EXEC_MIME_TYPE content only\n",
       "    if ((output.output_type != \"display_data\") || (!output.data.hasOwnProperty(EXEC_MIME_TYPE))) {\n",
       "      return\n",
       "    }\n",
       "\n",
       "    var toinsert = output_area.element.find(\".\" + CLASS_NAME.split(' ')[0]);\n",
       "\n",
       "    if (output.metadata[EXEC_MIME_TYPE][\"id\"] !== undefined) {\n",
       "      toinsert[toinsert.length - 1].firstChild.textContent = output.data[JS_MIME_TYPE];\n",
       "      // store reference to embed id on output_area\n",
       "      output_area._bokeh_element_id = output.metadata[EXEC_MIME_TYPE][\"id\"];\n",
       "    }\n",
       "    if (output.metadata[EXEC_MIME_TYPE][\"server_id\"] !== undefined) {\n",
       "      var bk_div = document.createElement(\"div\");\n",
       "      bk_div.innerHTML = output.data[HTML_MIME_TYPE];\n",
       "      var script_attrs = bk_div.children[0].attributes;\n",
       "      for (var i = 0; i < script_attrs.length; i++) {\n",
       "        toinsert[toinsert.length - 1].firstChild.setAttribute(script_attrs[i].name, script_attrs[i].value);\n",
       "      }\n",
       "      // store reference to server id on output_area\n",
       "      output_area._bokeh_server_id = output.metadata[EXEC_MIME_TYPE][\"server_id\"];\n",
       "    }\n",
       "  }\n",
       "\n",
       "  function register_renderer(events, OutputArea) {\n",
       "\n",
       "    function append_mime(data, metadata, element) {\n",
       "      // create a DOM node to render to\n",
       "      var toinsert = this.create_output_subarea(\n",
       "        metadata,\n",
       "        CLASS_NAME,\n",
       "        EXEC_MIME_TYPE\n",
       "      );\n",
       "      this.keyboard_manager.register_events(toinsert);\n",
       "      // Render to node\n",
       "      var props = {data: data, metadata: metadata[EXEC_MIME_TYPE]};\n",
       "      render(props, toinsert[toinsert.length - 1]);\n",
       "      element.append(toinsert);\n",
       "      return toinsert\n",
       "    }\n",
       "\n",
       "    /* Handle when an output is cleared or removed */\n",
       "    events.on('clear_output.CodeCell', handleClearOutput);\n",
       "    events.on('delete.Cell', handleClearOutput);\n",
       "\n",
       "    /* Handle when a new output is added */\n",
       "    events.on('output_added.OutputArea', handleAddOutput);\n",
       "\n",
       "    /**\n",
       "     * Register the mime type and append_mime function with output_area\n",
       "     */\n",
       "    OutputArea.prototype.register_mime_type(EXEC_MIME_TYPE, append_mime, {\n",
       "      /* Is output safe? */\n",
       "      safe: true,\n",
       "      /* Index of renderer in `output_area.display_order` */\n",
       "      index: 0\n",
       "    });\n",
       "  }\n",
       "\n",
       "  // register the mime type if in Jupyter Notebook environment and previously unregistered\n",
       "  if (root.Jupyter !== undefined) {\n",
       "    var events = require('base/js/events');\n",
       "    var OutputArea = require('notebook/js/outputarea').OutputArea;\n",
       "\n",
       "    if (OutputArea.prototype.mime_types().indexOf(EXEC_MIME_TYPE) == -1) {\n",
       "      register_renderer(events, OutputArea);\n",
       "    }\n",
       "  }\n",
       "\n",
       "  \n",
       "  if (typeof (root._bokeh_timeout) === \"undefined\" || force === true) {\n",
       "    root._bokeh_timeout = Date.now() + 5000;\n",
       "    root._bokeh_failed_load = false;\n",
       "  }\n",
       "\n",
       "  var NB_LOAD_WARNING = {'data': {'text/html':\n",
       "     \"<div style='background-color: #fdd'>\\n\"+\n",
       "     \"<p>\\n\"+\n",
       "     \"BokehJS does not appear to have successfully loaded. If loading BokehJS from CDN, this \\n\"+\n",
       "     \"may be due to a slow or bad network connection. Possible fixes:\\n\"+\n",
       "     \"</p>\\n\"+\n",
       "     \"<ul>\\n\"+\n",
       "     \"<li>re-rerun `output_notebook()` to attempt to load from CDN again, or</li>\\n\"+\n",
       "     \"<li>use INLINE resources instead, as so:</li>\\n\"+\n",
       "     \"</ul>\\n\"+\n",
       "     \"<code>\\n\"+\n",
       "     \"from bokeh.resources import INLINE\\n\"+\n",
       "     \"output_notebook(resources=INLINE)\\n\"+\n",
       "     \"</code>\\n\"+\n",
       "     \"</div>\"}};\n",
       "\n",
       "  function display_loaded() {\n",
       "    var el = document.getElementById(\"1001\");\n",
       "    if (el != null) {\n",
       "      el.textContent = \"BokehJS is loading...\";\n",
       "    }\n",
       "    if (root.Bokeh !== undefined) {\n",
       "      if (el != null) {\n",
       "        el.textContent = \"BokehJS \" + root.Bokeh.version + \" successfully loaded.\";\n",
       "      }\n",
       "    } else if (Date.now() < root._bokeh_timeout) {\n",
       "      setTimeout(display_loaded, 100)\n",
       "    }\n",
       "  }\n",
       "\n",
       "\n",
       "  function run_callbacks() {\n",
       "    try {\n",
       "      root._bokeh_onload_callbacks.forEach(function(callback) {\n",
       "        if (callback != null)\n",
       "          callback();\n",
       "      });\n",
       "    } finally {\n",
       "      delete root._bokeh_onload_callbacks\n",
       "    }\n",
       "    console.debug(\"Bokeh: all callbacks have finished\");\n",
       "  }\n",
       "\n",
       "  function load_libs(css_urls, js_urls, callback) {\n",
       "    if (css_urls == null) css_urls = [];\n",
       "    if (js_urls == null) js_urls = [];\n",
       "\n",
       "    root._bokeh_onload_callbacks.push(callback);\n",
       "    if (root._bokeh_is_loading > 0) {\n",
       "      console.debug(\"Bokeh: BokehJS is being loaded, scheduling callback at\", now());\n",
       "      return null;\n",
       "    }\n",
       "    if (js_urls == null || js_urls.length === 0) {\n",
       "      run_callbacks();\n",
       "      return null;\n",
       "    }\n",
       "    console.debug(\"Bokeh: BokehJS not loaded, scheduling load and callback at\", now());\n",
       "    root._bokeh_is_loading = css_urls.length + js_urls.length;\n",
       "\n",
       "    function on_load() {\n",
       "      root._bokeh_is_loading--;\n",
       "      if (root._bokeh_is_loading === 0) {\n",
       "        console.debug(\"Bokeh: all BokehJS libraries/stylesheets loaded\");\n",
       "        run_callbacks()\n",
       "      }\n",
       "    }\n",
       "\n",
       "    function on_error() {\n",
       "      console.error(\"failed to load \" + url);\n",
       "    }\n",
       "\n",
       "    for (var i = 0; i < css_urls.length; i++) {\n",
       "      var url = css_urls[i];\n",
       "      const element = document.createElement(\"link\");\n",
       "      element.onload = on_load;\n",
       "      element.onerror = on_error;\n",
       "      element.rel = \"stylesheet\";\n",
       "      element.type = \"text/css\";\n",
       "      element.href = url;\n",
       "      console.debug(\"Bokeh: injecting link tag for BokehJS stylesheet: \", url);\n",
       "      document.body.appendChild(element);\n",
       "    }\n",
       "\n",
       "    for (var i = 0; i < js_urls.length; i++) {\n",
       "      var url = js_urls[i];\n",
       "      var element = document.createElement('script');\n",
       "      element.onload = on_load;\n",
       "      element.onerror = on_error;\n",
       "      element.async = false;\n",
       "      element.src = url;\n",
       "      console.debug(\"Bokeh: injecting script tag for BokehJS library: \", url);\n",
       "      document.head.appendChild(element);\n",
       "    }\n",
       "  };var element = document.getElementById(\"1001\");\n",
       "  if (element == null) {\n",
       "    console.error(\"Bokeh: ERROR: autoload.js configured with elementid '1001' but no matching script tag was found. \")\n",
       "    return false;\n",
       "  }\n",
       "\n",
       "  function inject_raw_css(css) {\n",
       "    const element = document.createElement(\"style\");\n",
       "    element.appendChild(document.createTextNode(css));\n",
       "    document.body.appendChild(element);\n",
       "  }\n",
       "\n",
       "  \n",
       "  var js_urls = [\"https://cdn.pydata.org/bokeh/release/bokeh-1.4.0.min.js\", \"https://cdn.pydata.org/bokeh/release/bokeh-widgets-1.4.0.min.js\", \"https://cdn.pydata.org/bokeh/release/bokeh-tables-1.4.0.min.js\", \"https://cdn.pydata.org/bokeh/release/bokeh-gl-1.4.0.min.js\"];\n",
       "  var css_urls = [];\n",
       "  \n",
       "\n",
       "  var inline_js = [\n",
       "    function(Bokeh) {\n",
       "      Bokeh.set_log_level(\"info\");\n",
       "    },\n",
       "    function(Bokeh) {\n",
       "    \n",
       "    \n",
       "    }\n",
       "  ];\n",
       "\n",
       "  function run_inline_js() {\n",
       "    \n",
       "    if (root.Bokeh !== undefined || force === true) {\n",
       "      \n",
       "    for (var i = 0; i < inline_js.length; i++) {\n",
       "      inline_js[i].call(root, root.Bokeh);\n",
       "    }\n",
       "    if (force === true) {\n",
       "        display_loaded();\n",
       "      }} else if (Date.now() < root._bokeh_timeout) {\n",
       "      setTimeout(run_inline_js, 100);\n",
       "    } else if (!root._bokeh_failed_load) {\n",
       "      console.log(\"Bokeh: BokehJS failed to load within specified timeout.\");\n",
       "      root._bokeh_failed_load = true;\n",
       "    } else if (force !== true) {\n",
       "      var cell = $(document.getElementById(\"1001\")).parents('.cell').data().cell;\n",
       "      cell.output_area.append_execute_result(NB_LOAD_WARNING)\n",
       "    }\n",
       "\n",
       "  }\n",
       "\n",
       "  if (root._bokeh_is_loading === 0) {\n",
       "    console.debug(\"Bokeh: BokehJS loaded, going straight to plotting\");\n",
       "    run_inline_js();\n",
       "  } else {\n",
       "    load_libs(css_urls, js_urls, function() {\n",
       "      console.debug(\"Bokeh: BokehJS plotting callback run at\", now());\n",
       "      run_inline_js();\n",
       "    });\n",
       "  }\n",
       "}(window));"
      ],
      "application/vnd.bokehjs_load.v0+json": "\n(function(root) {\n  function now() {\n    return new Date();\n  }\n\n  var force = true;\n\n  if (typeof root._bokeh_onload_callbacks === \"undefined\" || force === true) {\n    root._bokeh_onload_callbacks = [];\n    root._bokeh_is_loading = undefined;\n  }\n\n  \n\n  \n  if (typeof (root._bokeh_timeout) === \"undefined\" || force === true) {\n    root._bokeh_timeout = Date.now() + 5000;\n    root._bokeh_failed_load = false;\n  }\n\n  var NB_LOAD_WARNING = {'data': {'text/html':\n     \"<div style='background-color: #fdd'>\\n\"+\n     \"<p>\\n\"+\n     \"BokehJS does not appear to have successfully loaded. If loading BokehJS from CDN, this \\n\"+\n     \"may be due to a slow or bad network connection. Possible fixes:\\n\"+\n     \"</p>\\n\"+\n     \"<ul>\\n\"+\n     \"<li>re-rerun `output_notebook()` to attempt to load from CDN again, or</li>\\n\"+\n     \"<li>use INLINE resources instead, as so:</li>\\n\"+\n     \"</ul>\\n\"+\n     \"<code>\\n\"+\n     \"from bokeh.resources import INLINE\\n\"+\n     \"output_notebook(resources=INLINE)\\n\"+\n     \"</code>\\n\"+\n     \"</div>\"}};\n\n  function display_loaded() {\n    var el = document.getElementById(\"1001\");\n    if (el != null) {\n      el.textContent = \"BokehJS is loading...\";\n    }\n    if (root.Bokeh !== undefined) {\n      if (el != null) {\n        el.textContent = \"BokehJS \" + root.Bokeh.version + \" successfully loaded.\";\n      }\n    } else if (Date.now() < root._bokeh_timeout) {\n      setTimeout(display_loaded, 100)\n    }\n  }\n\n\n  function run_callbacks() {\n    try {\n      root._bokeh_onload_callbacks.forEach(function(callback) {\n        if (callback != null)\n          callback();\n      });\n    } finally {\n      delete root._bokeh_onload_callbacks\n    }\n    console.debug(\"Bokeh: all callbacks have finished\");\n  }\n\n  function load_libs(css_urls, js_urls, callback) {\n    if (css_urls == null) css_urls = [];\n    if (js_urls == null) js_urls = [];\n\n    root._bokeh_onload_callbacks.push(callback);\n    if (root._bokeh_is_loading > 0) {\n      console.debug(\"Bokeh: BokehJS is being loaded, scheduling callback at\", now());\n      return null;\n    }\n    if (js_urls == null || js_urls.length === 0) {\n      run_callbacks();\n      return null;\n    }\n    console.debug(\"Bokeh: BokehJS not loaded, scheduling load and callback at\", now());\n    root._bokeh_is_loading = css_urls.length + js_urls.length;\n\n    function on_load() {\n      root._bokeh_is_loading--;\n      if (root._bokeh_is_loading === 0) {\n        console.debug(\"Bokeh: all BokehJS libraries/stylesheets loaded\");\n        run_callbacks()\n      }\n    }\n\n    function on_error() {\n      console.error(\"failed to load \" + url);\n    }\n\n    for (var i = 0; i < css_urls.length; i++) {\n      var url = css_urls[i];\n      const element = document.createElement(\"link\");\n      element.onload = on_load;\n      element.onerror = on_error;\n      element.rel = \"stylesheet\";\n      element.type = \"text/css\";\n      element.href = url;\n      console.debug(\"Bokeh: injecting link tag for BokehJS stylesheet: \", url);\n      document.body.appendChild(element);\n    }\n\n    for (var i = 0; i < js_urls.length; i++) {\n      var url = js_urls[i];\n      var element = document.createElement('script');\n      element.onload = on_load;\n      element.onerror = on_error;\n      element.async = false;\n      element.src = url;\n      console.debug(\"Bokeh: injecting script tag for BokehJS library: \", url);\n      document.head.appendChild(element);\n    }\n  };var element = document.getElementById(\"1001\");\n  if (element == null) {\n    console.error(\"Bokeh: ERROR: autoload.js configured with elementid '1001' but no matching script tag was found. \")\n    return false;\n  }\n\n  function inject_raw_css(css) {\n    const element = document.createElement(\"style\");\n    element.appendChild(document.createTextNode(css));\n    document.body.appendChild(element);\n  }\n\n  \n  var js_urls = [\"https://cdn.pydata.org/bokeh/release/bokeh-1.4.0.min.js\", \"https://cdn.pydata.org/bokeh/release/bokeh-widgets-1.4.0.min.js\", \"https://cdn.pydata.org/bokeh/release/bokeh-tables-1.4.0.min.js\", \"https://cdn.pydata.org/bokeh/release/bokeh-gl-1.4.0.min.js\"];\n  var css_urls = [];\n  \n\n  var inline_js = [\n    function(Bokeh) {\n      Bokeh.set_log_level(\"info\");\n    },\n    function(Bokeh) {\n    \n    \n    }\n  ];\n\n  function run_inline_js() {\n    \n    if (root.Bokeh !== undefined || force === true) {\n      \n    for (var i = 0; i < inline_js.length; i++) {\n      inline_js[i].call(root, root.Bokeh);\n    }\n    if (force === true) {\n        display_loaded();\n      }} else if (Date.now() < root._bokeh_timeout) {\n      setTimeout(run_inline_js, 100);\n    } else if (!root._bokeh_failed_load) {\n      console.log(\"Bokeh: BokehJS failed to load within specified timeout.\");\n      root._bokeh_failed_load = true;\n    } else if (force !== true) {\n      var cell = $(document.getElementById(\"1001\")).parents('.cell').data().cell;\n      cell.output_area.append_execute_result(NB_LOAD_WARNING)\n    }\n\n  }\n\n  if (root._bokeh_is_loading === 0) {\n    console.debug(\"Bokeh: BokehJS loaded, going straight to plotting\");\n    run_inline_js();\n  } else {\n    load_libs(css_urls, js_urls, function() {\n      console.debug(\"Bokeh: BokehJS plotting callback run at\", now());\n      run_inline_js();\n    });\n  }\n}(window));"
     },
     "metadata": {},
     "output_type": "display_data"
    }
   ],
   "source": [
    "from bokeh.plotting import figure, show, output_file, save\n",
    "\n",
    "from bokeh.io import output_notebook\n",
    "\n",
    "from bokeh.models import Span, Range1d\n",
    "\n",
    "from bokeh.palettes import d3\n",
    "\n",
    "output_notebook()"
   ]
  },
  {
   "cell_type": "code",
   "execution_count": 5,
   "metadata": {},
   "outputs": [],
   "source": [
    "pd.set_option('display.max_rows', 20)"
   ]
  },
  {
   "cell_type": "code",
   "execution_count": 6,
   "metadata": {},
   "outputs": [],
   "source": [
    "def symmetric_mean_absolute_percentage_error(targets, predictions):\n",
    "    '''\n",
    "    predictions: a list with the predicted values\n",
    "    targets: a list with the actual values\n",
    "    '''\n",
    "    import numpy as np\n",
    "    # lists to NumPy arrays\n",
    "    targets, predictions = np.array(targets), np.array(predictions)\n",
    "    # verify predictions and targets have the same shape\n",
    "    if predictions.shape == targets.shape:\n",
    "            return(np.sum(2*np.abs(predictions - targets) /\n",
    "                          (np.abs(targets) + np.abs(predictions)))/predictions.shape[0])"
   ]
  },
  {
   "cell_type": "code",
   "execution_count": 7,
   "metadata": {},
   "outputs": [],
   "source": [
    "# build a list to select specific pickle files per model architecture\n",
    "selected_pkl_list = [\n",
    "    # 'DMSLSTM_TPU_006_00_test_024.pkl',\n",
    "    # 'DMSLSTM_TPU_006_01_test_024.pkl',\n",
    "    # 'DMSLSTM_TPU_006_02_test_024.pkl',\n",
    "    # 'DMSLSTM_TPU_006_03_test_024.pkl',\n",
    "    # 'DMSLSTM_TPU_006_04_test_024.pkl',\n",
    "    # 'DMSLSTM_TPU_006_05_test_024.pkl',\n",
    "    # 'DMSLSTM_TPU_006_06_test_024.pkl',\n",
    "    # 'DMSLSTM_TPU_006_07_test_024.pkl',\n",
    "    # 'DMSLSTM_TPU_006_08_test_024.pkl',\n",
    "    # 'DMSLSTM_TPU_006_09_test_024.pkl',\n",
    "    # 'EDSLSTM_TPU_013_00_test_024.pkl',\n",
    "    # 'EDSLSTM_TPU_013_01_test_024.pkl',\n",
    "    # 'EDSLSTM_TPU_013_02_test_024.pkl',\n",
    "    # 'EDSLSTM_TPU_013_03_test_024.pkl',\n",
    "    # 'EDSLSTM_TPU_013_04_test_024.pkl',\n",
    "    # 'EDSLSTM_TPU_013_05_test_024.pkl',\n",
    "    # 'EDSLSTM_TPU_013_06_test_024.pkl',\n",
    "    # 'EDSLSTM_TPU_013_07_test_024.pkl',\n",
    "    # 'EDSLSTM_TPU_013_08_test_024.pkl',\n",
    "    # 'EDSLSTM_TPU_013_09_test_024.pkl',\n",
    "    'BSCTRFM_TPU_011_00_test_024.pkl',\n",
    "    'BSCTRFM_TPU_011_01_test_024.pkl',\n",
    "    'BSCTRFM_TPU_011_02_test_024.pkl',\n",
    "    'BSCTRFM_TPU_011_03_test_024.pkl',\n",
    "    'BSCTRFM_TPU_011_04_test_024.pkl',\n",
    "    'BSCTRFM_TPU_011_05_test_024.pkl',\n",
    "    'BSCTRFM_TPU_011_06_test_024.pkl',\n",
    "    'BSCTRFM_TPU_011_07_test_024.pkl',\n",
    "    'BSCTRFM_TPU_011_08_test_024.pkl',\n",
    "    'BSCTRFM_TPU_011_09_test_024.pkl',\n",
    "]"
   ]
  },
  {
   "cell_type": "code",
   "execution_count": 8,
   "metadata": {},
   "outputs": [],
   "source": [
    "# a Pandas dataframe to store all predictions detail items\n",
    "global_df_columns = [\n",
    "    'model_id', 'execution', 'dataset',\n",
    "    'string_timestamps', 'predictions', 'targets',\n",
    "    'mae', 'rmse', 'smape'\n",
    "]\n",
    "\n",
    "global_df = pd.DataFrame(columns=global_df_columns)"
   ]
  },
  {
   "cell_type": "code",
   "execution_count": 9,
   "metadata": {},
   "outputs": [
    {
     "data": {
      "text/html": [
       "<div>\n",
       "<style scoped>\n",
       "    .dataframe tbody tr th:only-of-type {\n",
       "        vertical-align: middle;\n",
       "    }\n",
       "\n",
       "    .dataframe tbody tr th {\n",
       "        vertical-align: top;\n",
       "    }\n",
       "\n",
       "    .dataframe thead th {\n",
       "        text-align: right;\n",
       "    }\n",
       "</style>\n",
       "<table border=\"1\" class=\"dataframe\">\n",
       "  <thead>\n",
       "    <tr style=\"text-align: right;\">\n",
       "      <th></th>\n",
       "      <th>model_id</th>\n",
       "      <th>execution</th>\n",
       "      <th>dataset</th>\n",
       "      <th>string_timestamps</th>\n",
       "      <th>predictions</th>\n",
       "      <th>targets</th>\n",
       "      <th>mae</th>\n",
       "      <th>rmse</th>\n",
       "      <th>smape</th>\n",
       "    </tr>\n",
       "  </thead>\n",
       "  <tbody>\n",
       "  </tbody>\n",
       "</table>\n",
       "</div>"
      ],
      "text/plain": [
       "Empty DataFrame\n",
       "Columns: [model_id, execution, dataset, string_timestamps, predictions, targets, mae, rmse, smape]\n",
       "Index: []"
      ]
     },
     "execution_count": 9,
     "metadata": {},
     "output_type": "execute_result"
    }
   ],
   "source": [
    "global_df"
   ]
  },
  {
   "cell_type": "code",
   "execution_count": 10,
   "metadata": {},
   "outputs": [],
   "source": [
    "# collect prediction items from all available pickle files into a single dataframe\n",
    "# for available_pickle in avail_pkl_list:\n",
    "#     buffer_df = pd.read_pickle('../database/predictions_detail/{}'.format(available_pickle))\n",
    "#     # append buffer to final dataframe\n",
    "#     df = df.append(buffer_df, ignore_index=True)  "
   ]
  },
  {
   "cell_type": "code",
   "execution_count": 11,
   "metadata": {},
   "outputs": [],
   "source": [
    "# collect prediction items from all available pickle files into a single dataframe\n",
    "for selected_pickle in selected_pkl_list:\n",
    "    buffer_df = pd.read_pickle('../database/predictions_detail/{}'.format(selected_pickle))\n",
    "    # append buffer to final dataframe\n",
    "    global_df = global_df.append(buffer_df, ignore_index=True)  "
   ]
  },
  {
   "cell_type": "code",
   "execution_count": 12,
   "metadata": {},
   "outputs": [
    {
     "data": {
      "text/html": [
       "<div>\n",
       "<style scoped>\n",
       "    .dataframe tbody tr th:only-of-type {\n",
       "        vertical-align: middle;\n",
       "    }\n",
       "\n",
       "    .dataframe tbody tr th {\n",
       "        vertical-align: top;\n",
       "    }\n",
       "\n",
       "    .dataframe thead th {\n",
       "        text-align: right;\n",
       "    }\n",
       "</style>\n",
       "<table border=\"1\" class=\"dataframe\">\n",
       "  <thead>\n",
       "    <tr style=\"text-align: right;\">\n",
       "      <th></th>\n",
       "      <th>model_id</th>\n",
       "      <th>execution</th>\n",
       "      <th>dataset</th>\n",
       "      <th>string_timestamps</th>\n",
       "      <th>predictions</th>\n",
       "      <th>targets</th>\n",
       "      <th>mae</th>\n",
       "      <th>rmse</th>\n",
       "      <th>smape</th>\n",
       "      <th>inference</th>\n",
       "    </tr>\n",
       "  </thead>\n",
       "  <tbody>\n",
       "    <tr>\n",
       "      <th>0</th>\n",
       "      <td>BSCTRFM_TPU_011</td>\n",
       "      <td>0</td>\n",
       "      <td>test</td>\n",
       "      <td>[2018-05-14 23:00:00, 2018-05-15 00:00:00, 201...</td>\n",
       "      <td>[2399.04248046875, 2159.216796875, 1973.577392...</td>\n",
       "      <td>[2451.085, 2157.115, 1955.9133333333332, 1843....</td>\n",
       "      <td>109.123205</td>\n",
       "      <td>146.486437</td>\n",
       "      <td>0.038758</td>\n",
       "      <td>024</td>\n",
       "    </tr>\n",
       "    <tr>\n",
       "      <th>1</th>\n",
       "      <td>BSCTRFM_TPU_011</td>\n",
       "      <td>0</td>\n",
       "      <td>test</td>\n",
       "      <td>[2018-05-15 00:00:00, 2018-05-15 01:00:00, 201...</td>\n",
       "      <td>[2168.987548828125, 1971.5181884765625, 1859.5...</td>\n",
       "      <td>[2157.115, 1955.9133333333332, 1843.0166666666...</td>\n",
       "      <td>98.966384</td>\n",
       "      <td>130.302648</td>\n",
       "      <td>0.035279</td>\n",
       "      <td>024</td>\n",
       "    </tr>\n",
       "    <tr>\n",
       "      <th>2</th>\n",
       "      <td>BSCTRFM_TPU_011</td>\n",
       "      <td>0</td>\n",
       "      <td>test</td>\n",
       "      <td>[2018-05-15 01:00:00, 2018-05-15 02:00:00, 201...</td>\n",
       "      <td>[1970.384521484375, 1859.541748046875, 1789.20...</td>\n",
       "      <td>[1955.9133333333332, 1843.0166666666667, 1821....</td>\n",
       "      <td>116.845018</td>\n",
       "      <td>150.060406</td>\n",
       "      <td>0.041870</td>\n",
       "      <td>024</td>\n",
       "    </tr>\n",
       "    <tr>\n",
       "      <th>3</th>\n",
       "      <td>BSCTRFM_TPU_011</td>\n",
       "      <td>0</td>\n",
       "      <td>test</td>\n",
       "      <td>[2018-05-15 02:00:00, 2018-05-15 03:00:00, 201...</td>\n",
       "      <td>[1873.4947509765625, 1774.694580078125, 1746.9...</td>\n",
       "      <td>[1843.0166666666667, 1821.4583333333333, 1782....</td>\n",
       "      <td>108.792343</td>\n",
       "      <td>139.819054</td>\n",
       "      <td>0.039360</td>\n",
       "      <td>024</td>\n",
       "    </tr>\n",
       "    <tr>\n",
       "      <th>4</th>\n",
       "      <td>BSCTRFM_TPU_011</td>\n",
       "      <td>0</td>\n",
       "      <td>test</td>\n",
       "      <td>[2018-05-15 03:00:00, 2018-05-15 04:00:00, 201...</td>\n",
       "      <td>[1759.6932373046875, 1745.5762939453125, 1768....</td>\n",
       "      <td>[1821.4583333333333, 1782.45, 1804.09333333333...</td>\n",
       "      <td>120.769787</td>\n",
       "      <td>146.576474</td>\n",
       "      <td>0.044456</td>\n",
       "      <td>024</td>\n",
       "    </tr>\n",
       "    <tr>\n",
       "      <th>...</th>\n",
       "      <td>...</td>\n",
       "      <td>...</td>\n",
       "      <td>...</td>\n",
       "      <td>...</td>\n",
       "      <td>...</td>\n",
       "      <td>...</td>\n",
       "      <td>...</td>\n",
       "      <td>...</td>\n",
       "      <td>...</td>\n",
       "      <td>...</td>\n",
       "    </tr>\n",
       "    <tr>\n",
       "      <th>13435</th>\n",
       "      <td>BSCTRFM_TPU_011</td>\n",
       "      <td>9</td>\n",
       "      <td>test</td>\n",
       "      <td>[2018-07-09 18:00:00, 2018-07-09 19:00:00, 201...</td>\n",
       "      <td>[2722.053466796875, 2667.195068359375, 2750.78...</td>\n",
       "      <td>[2663.6699999999996, 2692.1733333333336, 2778....</td>\n",
       "      <td>44.559751</td>\n",
       "      <td>54.611187</td>\n",
       "      <td>0.017755</td>\n",
       "      <td>024</td>\n",
       "    </tr>\n",
       "    <tr>\n",
       "      <th>13436</th>\n",
       "      <td>BSCTRFM_TPU_011</td>\n",
       "      <td>9</td>\n",
       "      <td>test</td>\n",
       "      <td>[2018-07-09 19:00:00, 2018-07-09 20:00:00, 201...</td>\n",
       "      <td>[2605.48095703125, 2702.561767578125, 2748.385...</td>\n",
       "      <td>[2692.1733333333336, 2778.8350000000005, 2831....</td>\n",
       "      <td>63.507753</td>\n",
       "      <td>73.075090</td>\n",
       "      <td>0.025014</td>\n",
       "      <td>024</td>\n",
       "    </tr>\n",
       "    <tr>\n",
       "      <th>13437</th>\n",
       "      <td>BSCTRFM_TPU_011</td>\n",
       "      <td>9</td>\n",
       "      <td>test</td>\n",
       "      <td>[2018-07-09 20:00:00, 2018-07-09 21:00:00, 201...</td>\n",
       "      <td>[2764.382568359375, 2800.093505859375, 2662.28...</td>\n",
       "      <td>[2778.8350000000005, 2831.001666666667, 2681.7...</td>\n",
       "      <td>44.798409</td>\n",
       "      <td>62.312385</td>\n",
       "      <td>0.018300</td>\n",
       "      <td>024</td>\n",
       "    </tr>\n",
       "    <tr>\n",
       "      <th>13438</th>\n",
       "      <td>BSCTRFM_TPU_011</td>\n",
       "      <td>9</td>\n",
       "      <td>test</td>\n",
       "      <td>[2018-07-09 21:00:00, 2018-07-09 22:00:00, 201...</td>\n",
       "      <td>[2842.487060546875, 2709.059814453125, 2394.05...</td>\n",
       "      <td>[2831.001666666667, 2681.786666666667, 2392.92...</td>\n",
       "      <td>50.307819</td>\n",
       "      <td>74.629660</td>\n",
       "      <td>0.019715</td>\n",
       "      <td>024</td>\n",
       "    </tr>\n",
       "    <tr>\n",
       "      <th>13439</th>\n",
       "      <td>BSCTRFM_TPU_011</td>\n",
       "      <td>9</td>\n",
       "      <td>test</td>\n",
       "      <td>[2018-07-09 22:00:00, 2018-07-09 23:00:00, 201...</td>\n",
       "      <td>[2686.329833984375, 2376.633056640625, 2097.19...</td>\n",
       "      <td>[2681.786666666667, 2392.925, 2076.67333333333...</td>\n",
       "      <td>55.033790</td>\n",
       "      <td>71.972688</td>\n",
       "      <td>0.021481</td>\n",
       "      <td>024</td>\n",
       "    </tr>\n",
       "  </tbody>\n",
       "</table>\n",
       "<p>13440 rows × 10 columns</p>\n",
       "</div>"
      ],
      "text/plain": [
       "              model_id execution dataset  \\\n",
       "0      BSCTRFM_TPU_011         0    test   \n",
       "1      BSCTRFM_TPU_011         0    test   \n",
       "2      BSCTRFM_TPU_011         0    test   \n",
       "3      BSCTRFM_TPU_011         0    test   \n",
       "4      BSCTRFM_TPU_011         0    test   \n",
       "...                ...       ...     ...   \n",
       "13435  BSCTRFM_TPU_011         9    test   \n",
       "13436  BSCTRFM_TPU_011         9    test   \n",
       "13437  BSCTRFM_TPU_011         9    test   \n",
       "13438  BSCTRFM_TPU_011         9    test   \n",
       "13439  BSCTRFM_TPU_011         9    test   \n",
       "\n",
       "                                       string_timestamps  \\\n",
       "0      [2018-05-14 23:00:00, 2018-05-15 00:00:00, 201...   \n",
       "1      [2018-05-15 00:00:00, 2018-05-15 01:00:00, 201...   \n",
       "2      [2018-05-15 01:00:00, 2018-05-15 02:00:00, 201...   \n",
       "3      [2018-05-15 02:00:00, 2018-05-15 03:00:00, 201...   \n",
       "4      [2018-05-15 03:00:00, 2018-05-15 04:00:00, 201...   \n",
       "...                                                  ...   \n",
       "13435  [2018-07-09 18:00:00, 2018-07-09 19:00:00, 201...   \n",
       "13436  [2018-07-09 19:00:00, 2018-07-09 20:00:00, 201...   \n",
       "13437  [2018-07-09 20:00:00, 2018-07-09 21:00:00, 201...   \n",
       "13438  [2018-07-09 21:00:00, 2018-07-09 22:00:00, 201...   \n",
       "13439  [2018-07-09 22:00:00, 2018-07-09 23:00:00, 201...   \n",
       "\n",
       "                                             predictions  \\\n",
       "0      [2399.04248046875, 2159.216796875, 1973.577392...   \n",
       "1      [2168.987548828125, 1971.5181884765625, 1859.5...   \n",
       "2      [1970.384521484375, 1859.541748046875, 1789.20...   \n",
       "3      [1873.4947509765625, 1774.694580078125, 1746.9...   \n",
       "4      [1759.6932373046875, 1745.5762939453125, 1768....   \n",
       "...                                                  ...   \n",
       "13435  [2722.053466796875, 2667.195068359375, 2750.78...   \n",
       "13436  [2605.48095703125, 2702.561767578125, 2748.385...   \n",
       "13437  [2764.382568359375, 2800.093505859375, 2662.28...   \n",
       "13438  [2842.487060546875, 2709.059814453125, 2394.05...   \n",
       "13439  [2686.329833984375, 2376.633056640625, 2097.19...   \n",
       "\n",
       "                                                 targets         mae  \\\n",
       "0      [2451.085, 2157.115, 1955.9133333333332, 1843....  109.123205   \n",
       "1      [2157.115, 1955.9133333333332, 1843.0166666666...   98.966384   \n",
       "2      [1955.9133333333332, 1843.0166666666667, 1821....  116.845018   \n",
       "3      [1843.0166666666667, 1821.4583333333333, 1782....  108.792343   \n",
       "4      [1821.4583333333333, 1782.45, 1804.09333333333...  120.769787   \n",
       "...                                                  ...         ...   \n",
       "13435  [2663.6699999999996, 2692.1733333333336, 2778....   44.559751   \n",
       "13436  [2692.1733333333336, 2778.8350000000005, 2831....   63.507753   \n",
       "13437  [2778.8350000000005, 2831.001666666667, 2681.7...   44.798409   \n",
       "13438  [2831.001666666667, 2681.786666666667, 2392.92...   50.307819   \n",
       "13439  [2681.786666666667, 2392.925, 2076.67333333333...   55.033790   \n",
       "\n",
       "             rmse     smape inference  \n",
       "0      146.486437  0.038758       024  \n",
       "1      130.302648  0.035279       024  \n",
       "2      150.060406  0.041870       024  \n",
       "3      139.819054  0.039360       024  \n",
       "4      146.576474  0.044456       024  \n",
       "...           ...       ...       ...  \n",
       "13435   54.611187  0.017755       024  \n",
       "13436   73.075090  0.025014       024  \n",
       "13437   62.312385  0.018300       024  \n",
       "13438   74.629660  0.019715       024  \n",
       "13439   71.972688  0.021481       024  \n",
       "\n",
       "[13440 rows x 10 columns]"
      ]
     },
     "execution_count": 12,
     "metadata": {},
     "output_type": "execute_result"
    }
   ],
   "source": [
    "global_df"
   ]
  },
  {
   "cell_type": "code",
   "execution_count": 13,
   "metadata": {},
   "outputs": [
    {
     "data": {
      "text/plain": [
       "['2018-05-14 23:00:00',\n",
       " '2018-05-15 00:00:00',\n",
       " '2018-05-15 01:00:00',\n",
       " '2018-05-15 02:00:00',\n",
       " '2018-05-15 03:00:00',\n",
       " '2018-05-15 04:00:00',\n",
       " '2018-05-15 05:00:00',\n",
       " '2018-05-15 06:00:00',\n",
       " '2018-05-15 07:00:00',\n",
       " '2018-05-15 08:00:00',\n",
       " '2018-05-15 09:00:00',\n",
       " '2018-05-15 10:00:00',\n",
       " '2018-05-15 11:00:00',\n",
       " '2018-05-15 12:00:00',\n",
       " '2018-05-15 13:00:00',\n",
       " '2018-05-15 14:00:00',\n",
       " '2018-05-15 15:00:00',\n",
       " '2018-05-15 16:00:00',\n",
       " '2018-05-15 17:00:00',\n",
       " '2018-05-15 18:00:00',\n",
       " '2018-05-15 19:00:00',\n",
       " '2018-05-15 20:00:00',\n",
       " '2018-05-15 21:00:00',\n",
       " '2018-05-15 22:00:00']"
      ]
     },
     "execution_count": 13,
     "metadata": {},
     "output_type": "execute_result"
    }
   ],
   "source": [
    "# day-1 predictions for this model\n",
    "global_df['string_timestamps'][0]"
   ]
  },
  {
   "cell_type": "code",
   "execution_count": 14,
   "metadata": {},
   "outputs": [
    {
     "data": {
      "text/plain": [
       "['2018-05-20 23:00:00',\n",
       " '2018-05-21 00:00:00',\n",
       " '2018-05-21 01:00:00',\n",
       " '2018-05-21 02:00:00',\n",
       " '2018-05-21 03:00:00',\n",
       " '2018-05-21 04:00:00',\n",
       " '2018-05-21 05:00:00',\n",
       " '2018-05-21 06:00:00',\n",
       " '2018-05-21 07:00:00',\n",
       " '2018-05-21 08:00:00',\n",
       " '2018-05-21 09:00:00',\n",
       " '2018-05-21 10:00:00',\n",
       " '2018-05-21 11:00:00',\n",
       " '2018-05-21 12:00:00',\n",
       " '2018-05-21 13:00:00',\n",
       " '2018-05-21 14:00:00',\n",
       " '2018-05-21 15:00:00',\n",
       " '2018-05-21 16:00:00',\n",
       " '2018-05-21 17:00:00',\n",
       " '2018-05-21 18:00:00',\n",
       " '2018-05-21 19:00:00',\n",
       " '2018-05-21 20:00:00',\n",
       " '2018-05-21 21:00:00',\n",
       " '2018-05-21 22:00:00']"
      ]
     },
     "execution_count": 14,
     "metadata": {},
     "output_type": "execute_result"
    }
   ],
   "source": [
    "# day-7 predictions for this model\n",
    "global_df['string_timestamps'][144]"
   ]
  },
  {
   "cell_type": "code",
   "execution_count": 15,
   "metadata": {},
   "outputs": [],
   "source": [
    "# a Pandas dataframe to store all predictions detail items\n",
    "buffer_df_columns = [\n",
    "    'timestamp',\n",
    "    'model_id', 'execution',\n",
    "    'prediction', 'target']\n",
    "\n",
    "predictions_df = pd.DataFrame(columns=buffer_df_columns)"
   ]
  },
  {
   "cell_type": "code",
   "execution_count": 16,
   "metadata": {},
   "outputs": [
    {
     "data": {
      "text/html": [
       "<div>\n",
       "<style scoped>\n",
       "    .dataframe tbody tr th:only-of-type {\n",
       "        vertical-align: middle;\n",
       "    }\n",
       "\n",
       "    .dataframe tbody tr th {\n",
       "        vertical-align: top;\n",
       "    }\n",
       "\n",
       "    .dataframe thead th {\n",
       "        text-align: right;\n",
       "    }\n",
       "</style>\n",
       "<table border=\"1\" class=\"dataframe\">\n",
       "  <thead>\n",
       "    <tr style=\"text-align: right;\">\n",
       "      <th></th>\n",
       "      <th>timestamp</th>\n",
       "      <th>model_id</th>\n",
       "      <th>execution</th>\n",
       "      <th>prediction</th>\n",
       "      <th>target</th>\n",
       "    </tr>\n",
       "  </thead>\n",
       "  <tbody>\n",
       "  </tbody>\n",
       "</table>\n",
       "</div>"
      ],
      "text/plain": [
       "Empty DataFrame\n",
       "Columns: [timestamp, model_id, execution, prediction, target]\n",
       "Index: []"
      ]
     },
     "execution_count": 16,
     "metadata": {},
     "output_type": "execute_result"
    }
   ],
   "source": [
    "predictions_df"
   ]
  },
  {
   "cell_type": "code",
   "execution_count": 17,
   "metadata": {},
   "outputs": [],
   "source": [
    "# use the prediction values for the three architectures for local forecasting comparison\n",
    "# plot a number of 24-hour ahead predictions, starting the first prediction available,\n",
    "# against ground thruth"
   ]
  },
  {
   "cell_type": "code",
   "execution_count": 18,
   "metadata": {},
   "outputs": [],
   "source": [
    "# get a filtered dataframe from a given model-execution-dataset-inference combination\n",
    "dataset, inference = 'test', '024'\n",
    "\n",
    "for model_id in ['BSCTRFM_TPU_011']:\n",
    "    for execution in [0, 1, 2, 3, 4, 5, 6, 7, 8, 9]:\n",
    "        flag = \\\n",
    "        global_df.model_id.eq(model_id) & \\\n",
    "        global_df.execution.eq(execution) & \\\n",
    "        global_df.dataset.eq(dataset) & \\\n",
    "        global_df.inference.eq(inference)\n",
    "        # reset index to use the same row, drop the index column\n",
    "        filtered_df = global_df[flag].reset_index(drop=True)\n",
    "\n",
    "        # pass the array predictions and array targets for selected intervals to dataframe columns\n",
    "        start_indexes = [0, 24, 48, 72, 96, 120, 144]\n",
    "        for start_index in start_indexes: \n",
    "\n",
    "            buffer_df = pd.DataFrame(columns=buffer_df_columns)\n",
    "\n",
    "            buffer_df['timestamp'] = pd.to_datetime(filtered_df.iloc[start_index]['string_timestamps'])\n",
    "            buffer_df['model_id'] = filtered_df.iloc[start_index]['model_id']\n",
    "            buffer_df['execution'] = filtered_df.iloc[start_index]['execution']\n",
    "            buffer_df['prediction'] = filtered_df.iloc[start_index]['predictions']\n",
    "            buffer_df['target'] = filtered_df.iloc[start_index]['targets']\n",
    "\n",
    "            predictions_df = pd.concat([predictions_df, buffer_df])\n",
    "\n",
    "# reset index to use the same row, drop the index column\n",
    "predictions_df = predictions_df.reset_index(drop=True)"
   ]
  },
  {
   "cell_type": "code",
   "execution_count": 19,
   "metadata": {},
   "outputs": [
    {
     "data": {
      "text/html": [
       "<div>\n",
       "<style scoped>\n",
       "    .dataframe tbody tr th:only-of-type {\n",
       "        vertical-align: middle;\n",
       "    }\n",
       "\n",
       "    .dataframe tbody tr th {\n",
       "        vertical-align: top;\n",
       "    }\n",
       "\n",
       "    .dataframe thead th {\n",
       "        text-align: right;\n",
       "    }\n",
       "</style>\n",
       "<table border=\"1\" class=\"dataframe\">\n",
       "  <thead>\n",
       "    <tr style=\"text-align: right;\">\n",
       "      <th></th>\n",
       "      <th>timestamp</th>\n",
       "      <th>model_id</th>\n",
       "      <th>execution</th>\n",
       "      <th>prediction</th>\n",
       "      <th>target</th>\n",
       "    </tr>\n",
       "  </thead>\n",
       "  <tbody>\n",
       "    <tr>\n",
       "      <th>0</th>\n",
       "      <td>2018-05-14 23:00:00</td>\n",
       "      <td>BSCTRFM_TPU_011</td>\n",
       "      <td>0</td>\n",
       "      <td>2399.042480</td>\n",
       "      <td>2451.085000</td>\n",
       "    </tr>\n",
       "    <tr>\n",
       "      <th>1</th>\n",
       "      <td>2018-05-15 00:00:00</td>\n",
       "      <td>BSCTRFM_TPU_011</td>\n",
       "      <td>0</td>\n",
       "      <td>2159.216797</td>\n",
       "      <td>2157.115000</td>\n",
       "    </tr>\n",
       "    <tr>\n",
       "      <th>2</th>\n",
       "      <td>2018-05-15 01:00:00</td>\n",
       "      <td>BSCTRFM_TPU_011</td>\n",
       "      <td>0</td>\n",
       "      <td>1973.577393</td>\n",
       "      <td>1955.913333</td>\n",
       "    </tr>\n",
       "    <tr>\n",
       "      <th>3</th>\n",
       "      <td>2018-05-15 02:00:00</td>\n",
       "      <td>BSCTRFM_TPU_011</td>\n",
       "      <td>0</td>\n",
       "      <td>1875.570801</td>\n",
       "      <td>1843.016667</td>\n",
       "    </tr>\n",
       "    <tr>\n",
       "      <th>4</th>\n",
       "      <td>2018-05-15 03:00:00</td>\n",
       "      <td>BSCTRFM_TPU_011</td>\n",
       "      <td>0</td>\n",
       "      <td>1788.225098</td>\n",
       "      <td>1821.458333</td>\n",
       "    </tr>\n",
       "    <tr>\n",
       "      <th>...</th>\n",
       "      <td>...</td>\n",
       "      <td>...</td>\n",
       "      <td>...</td>\n",
       "      <td>...</td>\n",
       "      <td>...</td>\n",
       "    </tr>\n",
       "    <tr>\n",
       "      <th>1675</th>\n",
       "      <td>2018-05-21 18:00:00</td>\n",
       "      <td>BSCTRFM_TPU_011</td>\n",
       "      <td>9</td>\n",
       "      <td>2834.733887</td>\n",
       "      <td>2841.735000</td>\n",
       "    </tr>\n",
       "    <tr>\n",
       "      <th>1676</th>\n",
       "      <td>2018-05-21 19:00:00</td>\n",
       "      <td>BSCTRFM_TPU_011</td>\n",
       "      <td>9</td>\n",
       "      <td>2757.825928</td>\n",
       "      <td>2777.203333</td>\n",
       "    </tr>\n",
       "    <tr>\n",
       "      <th>1677</th>\n",
       "      <td>2018-05-21 20:00:00</td>\n",
       "      <td>BSCTRFM_TPU_011</td>\n",
       "      <td>9</td>\n",
       "      <td>2786.501953</td>\n",
       "      <td>2851.368333</td>\n",
       "    </tr>\n",
       "    <tr>\n",
       "      <th>1678</th>\n",
       "      <td>2018-05-21 21:00:00</td>\n",
       "      <td>BSCTRFM_TPU_011</td>\n",
       "      <td>9</td>\n",
       "      <td>2882.727539</td>\n",
       "      <td>2980.845000</td>\n",
       "    </tr>\n",
       "    <tr>\n",
       "      <th>1679</th>\n",
       "      <td>2018-05-21 22:00:00</td>\n",
       "      <td>BSCTRFM_TPU_011</td>\n",
       "      <td>9</td>\n",
       "      <td>2734.678955</td>\n",
       "      <td>2803.260000</td>\n",
       "    </tr>\n",
       "  </tbody>\n",
       "</table>\n",
       "<p>1680 rows × 5 columns</p>\n",
       "</div>"
      ],
      "text/plain": [
       "               timestamp         model_id execution   prediction       target\n",
       "0    2018-05-14 23:00:00  BSCTRFM_TPU_011         0  2399.042480  2451.085000\n",
       "1    2018-05-15 00:00:00  BSCTRFM_TPU_011         0  2159.216797  2157.115000\n",
       "2    2018-05-15 01:00:00  BSCTRFM_TPU_011         0  1973.577393  1955.913333\n",
       "3    2018-05-15 02:00:00  BSCTRFM_TPU_011         0  1875.570801  1843.016667\n",
       "4    2018-05-15 03:00:00  BSCTRFM_TPU_011         0  1788.225098  1821.458333\n",
       "...                  ...              ...       ...          ...          ...\n",
       "1675 2018-05-21 18:00:00  BSCTRFM_TPU_011         9  2834.733887  2841.735000\n",
       "1676 2018-05-21 19:00:00  BSCTRFM_TPU_011         9  2757.825928  2777.203333\n",
       "1677 2018-05-21 20:00:00  BSCTRFM_TPU_011         9  2786.501953  2851.368333\n",
       "1678 2018-05-21 21:00:00  BSCTRFM_TPU_011         9  2882.727539  2980.845000\n",
       "1679 2018-05-21 22:00:00  BSCTRFM_TPU_011         9  2734.678955  2803.260000\n",
       "\n",
       "[1680 rows x 5 columns]"
      ]
     },
     "execution_count": 19,
     "metadata": {},
     "output_type": "execute_result"
    }
   ],
   "source": [
    "predictions_df"
   ]
  },
  {
   "cell_type": "code",
   "execution_count": null,
   "metadata": {},
   "outputs": [],
   "source": []
  },
  {
   "cell_type": "code",
   "execution_count": 20,
   "metadata": {},
   "outputs": [],
   "source": [
    "bigquery_arima_columns = [\n",
    "    'forecast_timestamp',\n",
    "    'forecast_value',\n",
    "    'standard_error',\n",
    "    'confidence_level',\n",
    "    'prediction_interval_lower_bound',\n",
    "    'prediction_interval_upper_bound',\n",
    "    'confidence_interval_lower_bound',\n",
    "    'confidence_interval_upper_bound'\n",
    "]"
   ]
  },
  {
   "cell_type": "code",
   "execution_count": 21,
   "metadata": {},
   "outputs": [],
   "source": [
    "bigquery_bsctrfm_df = pd.DataFrame(columns=bigquery_arima_columns)"
   ]
  },
  {
   "cell_type": "code",
   "execution_count": 22,
   "metadata": {},
   "outputs": [
    {
     "data": {
      "text/html": [
       "<div>\n",
       "<style scoped>\n",
       "    .dataframe tbody tr th:only-of-type {\n",
       "        vertical-align: middle;\n",
       "    }\n",
       "\n",
       "    .dataframe tbody tr th {\n",
       "        vertical-align: top;\n",
       "    }\n",
       "\n",
       "    .dataframe thead th {\n",
       "        text-align: right;\n",
       "    }\n",
       "</style>\n",
       "<table border=\"1\" class=\"dataframe\">\n",
       "  <thead>\n",
       "    <tr style=\"text-align: right;\">\n",
       "      <th></th>\n",
       "      <th>forecast_timestamp</th>\n",
       "      <th>forecast_value</th>\n",
       "      <th>standard_error</th>\n",
       "      <th>confidence_level</th>\n",
       "      <th>prediction_interval_lower_bound</th>\n",
       "      <th>prediction_interval_upper_bound</th>\n",
       "      <th>confidence_interval_lower_bound</th>\n",
       "      <th>confidence_interval_upper_bound</th>\n",
       "    </tr>\n",
       "  </thead>\n",
       "  <tbody>\n",
       "  </tbody>\n",
       "</table>\n",
       "</div>"
      ],
      "text/plain": [
       "Empty DataFrame\n",
       "Columns: [forecast_timestamp, forecast_value, standard_error, confidence_level, prediction_interval_lower_bound, prediction_interval_upper_bound, confidence_interval_lower_bound, confidence_interval_upper_bound]\n",
       "Index: []"
      ]
     },
     "execution_count": 22,
     "metadata": {},
     "output_type": "execute_result"
    }
   ],
   "source": [
    "bigquery_bsctrfm_df"
   ]
  },
  {
   "cell_type": "code",
   "execution_count": 23,
   "metadata": {},
   "outputs": [],
   "source": [
    "csv_files = [\n",
    "    'arima_bsctrfm_forecast_01.csv',\n",
    "    'arima_bsctrfm_forecast_02.csv',\n",
    "    'arima_bsctrfm_forecast_03.csv',\n",
    "    'arima_bsctrfm_forecast_04.csv',\n",
    "    'arima_bsctrfm_forecast_05.csv',\n",
    "    'arima_bsctrfm_forecast_06.csv',\n",
    "    'arima_bsctrfm_forecast_07.csv',\n",
    "]"
   ]
  },
  {
   "cell_type": "code",
   "execution_count": 24,
   "metadata": {},
   "outputs": [],
   "source": [
    "for csv_file in csv_files:\n",
    "    buffer_bigquery_bsctrfm_df = pd.read_csv(\n",
    "        '/home/developer/gcp/cbidmltsf/database/bigquery/{}'.format(csv_file)\n",
    "    )\n",
    "    bigquery_bsctrfm_df = pd.concat([bigquery_bsctrfm_df, buffer_bigquery_bsctrfm_df])\n",
    "\n",
    "\n",
    "bigquery_bsctrfm_df = bigquery_bsctrfm_df.reset_index(drop=True)"
   ]
  },
  {
   "cell_type": "code",
   "execution_count": 25,
   "metadata": {},
   "outputs": [
    {
     "data": {
      "text/html": [
       "<div>\n",
       "<style scoped>\n",
       "    .dataframe tbody tr th:only-of-type {\n",
       "        vertical-align: middle;\n",
       "    }\n",
       "\n",
       "    .dataframe tbody tr th {\n",
       "        vertical-align: top;\n",
       "    }\n",
       "\n",
       "    .dataframe thead th {\n",
       "        text-align: right;\n",
       "    }\n",
       "</style>\n",
       "<table border=\"1\" class=\"dataframe\">\n",
       "  <thead>\n",
       "    <tr style=\"text-align: right;\">\n",
       "      <th></th>\n",
       "      <th>forecast_timestamp</th>\n",
       "      <th>forecast_value</th>\n",
       "      <th>standard_error</th>\n",
       "      <th>confidence_level</th>\n",
       "      <th>prediction_interval_lower_bound</th>\n",
       "      <th>prediction_interval_upper_bound</th>\n",
       "      <th>confidence_interval_lower_bound</th>\n",
       "      <th>confidence_interval_upper_bound</th>\n",
       "    </tr>\n",
       "  </thead>\n",
       "  <tbody>\n",
       "    <tr>\n",
       "      <th>0</th>\n",
       "      <td>2018-05-14T23:00:00Z</td>\n",
       "      <td>2468.502288</td>\n",
       "      <td>62.970652</td>\n",
       "      <td>0.9</td>\n",
       "      <td>2365.037025</td>\n",
       "      <td>2571.967550</td>\n",
       "      <td>2365.037025</td>\n",
       "      <td>2571.967550</td>\n",
       "    </tr>\n",
       "    <tr>\n",
       "      <th>1</th>\n",
       "      <td>2018-05-15T00:00:00Z</td>\n",
       "      <td>2216.765495</td>\n",
       "      <td>72.737819</td>\n",
       "      <td>0.9</td>\n",
       "      <td>2097.252081</td>\n",
       "      <td>2336.278909</td>\n",
       "      <td>2097.252081</td>\n",
       "      <td>2336.278909</td>\n",
       "    </tr>\n",
       "    <tr>\n",
       "      <th>2</th>\n",
       "      <td>2018-05-15T01:00:00Z</td>\n",
       "      <td>2017.767872</td>\n",
       "      <td>78.265392</td>\n",
       "      <td>0.9</td>\n",
       "      <td>1889.172263</td>\n",
       "      <td>2146.363481</td>\n",
       "      <td>1889.172263</td>\n",
       "      <td>2146.363481</td>\n",
       "    </tr>\n",
       "    <tr>\n",
       "      <th>3</th>\n",
       "      <td>2018-05-15T02:00:00Z</td>\n",
       "      <td>1911.130583</td>\n",
       "      <td>87.725004</td>\n",
       "      <td>0.9</td>\n",
       "      <td>1766.992157</td>\n",
       "      <td>2055.269009</td>\n",
       "      <td>1766.992157</td>\n",
       "      <td>2055.269009</td>\n",
       "    </tr>\n",
       "    <tr>\n",
       "      <th>4</th>\n",
       "      <td>2018-05-15T03:00:00Z</td>\n",
       "      <td>1835.874515</td>\n",
       "      <td>92.640870</td>\n",
       "      <td>0.9</td>\n",
       "      <td>1683.658972</td>\n",
       "      <td>1988.090057</td>\n",
       "      <td>1683.658972</td>\n",
       "      <td>1988.090057</td>\n",
       "    </tr>\n",
       "    <tr>\n",
       "      <th>...</th>\n",
       "      <td>...</td>\n",
       "      <td>...</td>\n",
       "      <td>...</td>\n",
       "      <td>...</td>\n",
       "      <td>...</td>\n",
       "      <td>...</td>\n",
       "      <td>...</td>\n",
       "      <td>...</td>\n",
       "    </tr>\n",
       "    <tr>\n",
       "      <th>163</th>\n",
       "      <td>2018-05-21T18:00:00Z</td>\n",
       "      <td>2901.328266</td>\n",
       "      <td>119.031339</td>\n",
       "      <td>0.9</td>\n",
       "      <td>2705.751305</td>\n",
       "      <td>3096.905228</td>\n",
       "      <td>2705.751305</td>\n",
       "      <td>3096.905228</td>\n",
       "    </tr>\n",
       "    <tr>\n",
       "      <th>164</th>\n",
       "      <td>2018-05-21T19:00:00Z</td>\n",
       "      <td>2846.886231</td>\n",
       "      <td>120.462841</td>\n",
       "      <td>0.9</td>\n",
       "      <td>2648.957209</td>\n",
       "      <td>3044.815253</td>\n",
       "      <td>2648.957209</td>\n",
       "      <td>3044.815253</td>\n",
       "    </tr>\n",
       "    <tr>\n",
       "      <th>165</th>\n",
       "      <td>2018-05-21T20:00:00Z</td>\n",
       "      <td>2952.512151</td>\n",
       "      <td>121.877506</td>\n",
       "      <td>0.9</td>\n",
       "      <td>2752.258734</td>\n",
       "      <td>3152.765567</td>\n",
       "      <td>2752.258734</td>\n",
       "      <td>3152.765567</td>\n",
       "    </tr>\n",
       "    <tr>\n",
       "      <th>166</th>\n",
       "      <td>2018-05-21T21:00:00Z</td>\n",
       "      <td>2970.495280</td>\n",
       "      <td>123.275923</td>\n",
       "      <td>0.9</td>\n",
       "      <td>2767.944164</td>\n",
       "      <td>3173.046396</td>\n",
       "      <td>2767.944164</td>\n",
       "      <td>3173.046396</td>\n",
       "    </tr>\n",
       "    <tr>\n",
       "      <th>167</th>\n",
       "      <td>2018-05-21T22:00:00Z</td>\n",
       "      <td>2815.699160</td>\n",
       "      <td>124.658648</td>\n",
       "      <td>0.9</td>\n",
       "      <td>2610.876129</td>\n",
       "      <td>3020.522191</td>\n",
       "      <td>2610.876129</td>\n",
       "      <td>3020.522191</td>\n",
       "    </tr>\n",
       "  </tbody>\n",
       "</table>\n",
       "<p>168 rows × 8 columns</p>\n",
       "</div>"
      ],
      "text/plain": [
       "       forecast_timestamp  forecast_value  standard_error  confidence_level  \\\n",
       "0    2018-05-14T23:00:00Z     2468.502288       62.970652               0.9   \n",
       "1    2018-05-15T00:00:00Z     2216.765495       72.737819               0.9   \n",
       "2    2018-05-15T01:00:00Z     2017.767872       78.265392               0.9   \n",
       "3    2018-05-15T02:00:00Z     1911.130583       87.725004               0.9   \n",
       "4    2018-05-15T03:00:00Z     1835.874515       92.640870               0.9   \n",
       "..                    ...             ...             ...               ...   \n",
       "163  2018-05-21T18:00:00Z     2901.328266      119.031339               0.9   \n",
       "164  2018-05-21T19:00:00Z     2846.886231      120.462841               0.9   \n",
       "165  2018-05-21T20:00:00Z     2952.512151      121.877506               0.9   \n",
       "166  2018-05-21T21:00:00Z     2970.495280      123.275923               0.9   \n",
       "167  2018-05-21T22:00:00Z     2815.699160      124.658648               0.9   \n",
       "\n",
       "     prediction_interval_lower_bound  prediction_interval_upper_bound  \\\n",
       "0                        2365.037025                      2571.967550   \n",
       "1                        2097.252081                      2336.278909   \n",
       "2                        1889.172263                      2146.363481   \n",
       "3                        1766.992157                      2055.269009   \n",
       "4                        1683.658972                      1988.090057   \n",
       "..                               ...                              ...   \n",
       "163                      2705.751305                      3096.905228   \n",
       "164                      2648.957209                      3044.815253   \n",
       "165                      2752.258734                      3152.765567   \n",
       "166                      2767.944164                      3173.046396   \n",
       "167                      2610.876129                      3020.522191   \n",
       "\n",
       "     confidence_interval_lower_bound  confidence_interval_upper_bound  \n",
       "0                        2365.037025                      2571.967550  \n",
       "1                        2097.252081                      2336.278909  \n",
       "2                        1889.172263                      2146.363481  \n",
       "3                        1766.992157                      2055.269009  \n",
       "4                        1683.658972                      1988.090057  \n",
       "..                               ...                              ...  \n",
       "163                      2705.751305                      3096.905228  \n",
       "164                      2648.957209                      3044.815253  \n",
       "165                      2752.258734                      3152.765567  \n",
       "166                      2767.944164                      3173.046396  \n",
       "167                      2610.876129                      3020.522191  \n",
       "\n",
       "[168 rows x 8 columns]"
      ]
     },
     "execution_count": 25,
     "metadata": {},
     "output_type": "execute_result"
    }
   ],
   "source": [
    "bigquery_bsctrfm_df"
   ]
  },
  {
   "cell_type": "code",
   "execution_count": null,
   "metadata": {},
   "outputs": [],
   "source": []
  },
  {
   "cell_type": "code",
   "execution_count": 26,
   "metadata": {},
   "outputs": [],
   "source": [
    "# timestamp for EDSLSTM_TPU_006 first prediction is '2018-06-26 00:00:00'\n",
    "# daily interval endings are '2018-06-26 23:00:00', '2018-06-27 23:00:00', ..., '2018-07-02 23:00:00'\n",
    "# BigQuery ARIMA is fed with the 8 previous weeks,\n",
    "# starting on '2018-05-01 00:00:00' - '2018-06-25 23:00:00' (for the first 24-hour ahead prediction)\n",
    "\n",
    "\n",
    "# timestamp for EDSLSTM_TPU_013 first prediction is '2018-05-03 16:00:00'\n",
    "# BigQuery ARIMA is fed with the 8 previous weeks,\n",
    "# prediction for day 1 is based on a model trained from '2018-03-08 16:00:00' to '2018-05-03 15:00:00'\n",
    "# prediction for day 2 is based on a model trained from '2018-03-09 16:00:00' to '2018-05-04 15:00:00'\n",
    "# prediction for day 3 is based on a model trained from '2018-03-10 16:00:00' to '2018-05-05 15:00:00'\n",
    "# prediction for day 4 is based on a model trained from '2018-03-11 16:00:00' to '2018-05-06 15:00:00'\n",
    "# prediction for day 5 is based on a model trained from '2018-03-12 16:00:00' to '2018-05-07 15:00:00'\n",
    "# prediction for day 6 is based on a model trained from '2018-03-13 16:00:00' to '2018-05-08 15:00:00'\n",
    "# prediction for day 7 is based on a model trained from '2018-03-14 16:00:00' to '2018-05-09 15:00:00'\n",
    "\n",
    "\n",
    "# timestamp for BSCTRFM_TPU_011 first prediction is '2018-05-14 23:00:00'\n",
    "# BigQuery ARIMA is fed with the 8 previous weeks,\n",
    "# prediction for day 1 is based on a model trained from '2018-03-19 23:00:00' to '2018-05-14 22:00:00'\n",
    "# prediction for day 2 is based on a model trained from '2018-03-20 23:00:00' to '2018-05-15 22:00:00'\n",
    "# prediction for day 3 is based on a model trained from '2018-03-21 23:00:00' to '2018-05-16 22:00:00'\n",
    "# prediction for day 4 is based on a model trained from '2018-03-22 23:00:00' to '2018-05-17 22:00:00'\n",
    "# prediction for day 5 is based on a model trained from '2018-03-23 23:00:00' to '2018-05-18 22:00:00'\n",
    "# prediction for day 6 is based on a model trained from '2018-03-24 23:00:00' to '2018-05-19 22:00:00'\n",
    "# prediction for day 7 is based on a model trained from '2018-03-25 23:00:00' to '2018-05-20 22:00:00'\n"
   ]
  },
  {
   "cell_type": "code",
   "execution_count": 27,
   "metadata": {},
   "outputs": [],
   "source": [
    "# build separated dataframes with metrics per model and date interval"
   ]
  },
  {
   "cell_type": "code",
   "execution_count": 28,
   "metadata": {},
   "outputs": [],
   "source": [
    "metrics_columns = [\n",
    "    'model_id', 'execution', 'start_timestamp', 'end_timestamp', 'mae', 'rmse', 'smape'\n",
    "]"
   ]
  },
  {
   "cell_type": "code",
   "execution_count": 29,
   "metadata": {},
   "outputs": [
    {
     "data": {
      "text/html": [
       "<div>\n",
       "<style scoped>\n",
       "    .dataframe tbody tr th:only-of-type {\n",
       "        vertical-align: middle;\n",
       "    }\n",
       "\n",
       "    .dataframe tbody tr th {\n",
       "        vertical-align: top;\n",
       "    }\n",
       "\n",
       "    .dataframe thead th {\n",
       "        text-align: right;\n",
       "    }\n",
       "</style>\n",
       "<table border=\"1\" class=\"dataframe\">\n",
       "  <thead>\n",
       "    <tr style=\"text-align: right;\">\n",
       "      <th></th>\n",
       "      <th>model_id</th>\n",
       "      <th>execution</th>\n",
       "      <th>start_timestamp</th>\n",
       "      <th>end_timestamp</th>\n",
       "      <th>mae</th>\n",
       "      <th>rmse</th>\n",
       "      <th>smape</th>\n",
       "    </tr>\n",
       "  </thead>\n",
       "  <tbody>\n",
       "  </tbody>\n",
       "</table>\n",
       "</div>"
      ],
      "text/plain": [
       "Empty DataFrame\n",
       "Columns: [model_id, execution, start_timestamp, end_timestamp, mae, rmse, smape]\n",
       "Index: []"
      ]
     },
     "execution_count": 29,
     "metadata": {},
     "output_type": "execute_result"
    }
   ],
   "source": [
    "bsctrfm_metrics_df = pd.DataFrame(columns=metrics_columns)\n",
    "bsctrfm_metrics_df"
   ]
  },
  {
   "cell_type": "code",
   "execution_count": 30,
   "metadata": {},
   "outputs": [],
   "source": [
    "# The next cell calculates performace metrics for 1-day, 2-day, ..., up to 7-day periods\n",
    "# which is not really useful as all predictions are produced on a 24-hour basis,\n",
    "# then markdown the cell and change metrics calculation to a day 1, day 2, ... up to day 7 scheme"
   ]
  },
  {
   "cell_type": "markdown",
   "metadata": {},
   "source": [
    "model_id = 'DMSLSTM_TPU_006'\n",
    "\n",
    "executions = [0, 1, 2, 3, 4, 5, 6, 7, 8, 9]\n",
    "\n",
    "start_timestamp = '2018-06-26 00:00:00'\n",
    "\n",
    "end_timestamps = [\n",
    "    '2018-06-26 23:00:00',\n",
    "    '2018-06-27 23:00:00',\n",
    "    '2018-06-28 23:00:00',\n",
    "    '2018-06-29 23:00:00',\n",
    "    '2018-06-30 23:00:00',\n",
    "    '2018-07-01 23:00:00',\n",
    "    '2018-07-02 23:00:00',\n",
    "]\n",
    "\n",
    "for execution in executions:\n",
    "    \n",
    "    for end_timestamp in end_timestamps:\n",
    "\n",
    "        flag = \\\n",
    "        predictions_df.model_id.eq(model_id) & \\\n",
    "        predictions_df.execution.eq(execution) & \\\n",
    "        predictions_df.timestamp.ge(start_timestamp) & \\\n",
    "        predictions_df.timestamp.le(end_timestamp)\n",
    "        \n",
    "        results_df = predictions_df[flag].reset_index(drop=True)\n",
    "        \n",
    "        mae = mean_absolute_error(results_df.target, results_df.prediction)\n",
    "        rmse = sqrt(mean_squared_error(results_df.target, results_df.prediction))\n",
    "        smape =  symmetric_mean_absolute_percentage_error(results_df.target, results_df.prediction)\n",
    "\n",
    "        row_list = [\n",
    "            model_id, execution,\n",
    "            start_timestamp, end_timestamp,\n",
    "            mae, rmse, smape\n",
    "        ]\n",
    "        row_metrics_df = pd.DataFrame([row_list], columns=metrics_columns)\n",
    "        \n",
    "        dmslstm_metrics_df = pd.concat([dmslstm_metrics_df, row_metrics_df])"
   ]
  },
  {
   "cell_type": "code",
   "execution_count": 31,
   "metadata": {},
   "outputs": [],
   "source": [
    "# execution with best metrics over all intervals\n",
    "# dmslstm_metrics_df.groupby(['execution']).mean().style.highlight_min(color = 'lightgreen', axis = 0)"
   ]
  },
  {
   "cell_type": "code",
   "execution_count": 32,
   "metadata": {},
   "outputs": [],
   "source": [
    "# execution with worst metrics over all intervals\n",
    "# dmslstm_metrics_df.groupby(['execution']).mean().style.highlight_max(color = 'yellow', axis = 0)"
   ]
  },
  {
   "cell_type": "code",
   "execution_count": 33,
   "metadata": {},
   "outputs": [],
   "source": [
    "# metrics average for 10 executions on different intervals\n",
    "# dmslstm_metrics_df.groupby(['end_timestamp']).mean()"
   ]
  },
  {
   "cell_type": "code",
   "execution_count": 34,
   "metadata": {},
   "outputs": [],
   "source": [
    "# metrics standard deviation for 10 executions on different intervals\n",
    "# dmslstm_metrics_df.groupby(['end_timestamp']).std()"
   ]
  },
  {
   "cell_type": "code",
   "execution_count": 35,
   "metadata": {},
   "outputs": [],
   "source": [
    "# now get metrics from BigQuery ARIMA\n",
    "# use target values from results_df with execution = 0 (they are the same across executions)"
   ]
  },
  {
   "cell_type": "code",
   "execution_count": 36,
   "metadata": {},
   "outputs": [
    {
     "name": "stdout",
     "output_type": "stream",
     "text": [
      "ARIMA MAE for 0 to 24 interval is: 160.6660\n",
      "ARIMA MAE for 24 to 48 interval is: 100.7960\n",
      "ARIMA MAE for 48 to 72 interval is: 90.7451\n",
      "ARIMA MAE for 72 to 96 interval is: 71.1904\n",
      "ARIMA MAE for 96 to 120 interval is: 58.2965\n",
      "ARIMA MAE for 120 to 144 interval is: 124.5701\n",
      "ARIMA MAE for 144 to 168 interval is: 65.9860\n"
     ]
    }
   ],
   "source": [
    "arima_one_week_mae = list()\n",
    "\n",
    "for start_index in [0, 24, 48, 72, 96, 120, 144]:\n",
    "    end_index = start_index + 24\n",
    "    mae = mean_absolute_error(\n",
    "        predictions_df.target[start_index:end_index],\n",
    "        bigquery_bsctrfm_df.forecast_value[start_index:end_index]\n",
    "    )\n",
    "    \n",
    "    arima_one_week_mae.append(mae)\n",
    "    print('ARIMA MAE for {} to {} interval is: {:.4f}'.format(start_index, end_index, mae))"
   ]
  },
  {
   "cell_type": "code",
   "execution_count": 37,
   "metadata": {},
   "outputs": [
    {
     "name": "stdout",
     "output_type": "stream",
     "text": [
      "ARIMA RMSE for 0 to 24 interval is: 205.4609\n",
      "ARIMA RMSE for 24 to 48 interval is: 117.6361\n",
      "ARIMA RMSE for 48 to 72 interval is: 104.4511\n",
      "ARIMA RMSE for 72 to 96 interval is: 86.0171\n",
      "ARIMA RMSE for 96 to 120 interval is: 71.5076\n",
      "ARIMA RMSE for 120 to 144 interval is: 144.9715\n",
      "ARIMA RMSE for 144 to 168 interval is: 75.4550\n"
     ]
    }
   ],
   "source": [
    "arima_one_week_rmse = list()\n",
    "\n",
    "for start_index in [0, 24, 48, 72, 96, 120, 144]:\n",
    "    end_index = start_index + 24\n",
    "    rmse = sqrt(mean_squared_error(\n",
    "        predictions_df.target[start_index:end_index],\n",
    "        bigquery_bsctrfm_df.forecast_value[start_index:end_index]\n",
    "    ))\n",
    "    \n",
    "    arima_one_week_rmse.append(rmse)\n",
    "    print('ARIMA RMSE for {} to {} interval is: {:.4f}'.format(start_index, end_index, rmse))"
   ]
  },
  {
   "cell_type": "code",
   "execution_count": 38,
   "metadata": {},
   "outputs": [
    {
     "name": "stdout",
     "output_type": "stream",
     "text": [
      "ARIMA SMAPE for 0 to 24 interval is: 5.8152\n",
      "ARIMA SMAPE for 24 to 48 interval is: 4.3112\n",
      "ARIMA SMAPE for 48 to 72 interval is: 3.6705\n",
      "ARIMA SMAPE for 72 to 96 interval is: 2.8952\n",
      "ARIMA SMAPE for 96 to 120 interval is: 2.4724\n",
      "ARIMA SMAPE for 120 to 144 interval is: 4.8394\n",
      "ARIMA SMAPE for 144 to 168 interval is: 2.7351\n"
     ]
    }
   ],
   "source": [
    "arima_one_week_smape = list()\n",
    "\n",
    "for start_index in [0, 24, 48, 72, 96, 120, 144]:\n",
    "    end_index = start_index + 24\n",
    "    \n",
    "    # adjust SMAPE to percentage value\n",
    "    smape = 100*symmetric_mean_absolute_percentage_error(\n",
    "        predictions_df.target[start_index:end_index],\n",
    "        bigquery_bsctrfm_df.forecast_value[start_index:end_index]\n",
    "    )\n",
    "    \n",
    "    arima_one_week_smape.append(smape)\n",
    "    print('ARIMA SMAPE for {} to {} interval is: {:.4f}'.format(start_index, end_index, smape))"
   ]
  },
  {
   "cell_type": "code",
   "execution_count": null,
   "metadata": {},
   "outputs": [],
   "source": []
  },
  {
   "cell_type": "markdown",
   "metadata": {},
   "source": [
    "for end_index in [24, 48, 72, 96, 120, 144, 168]:\n",
    "    mae = mean_absolute_error(\n",
    "        predictions_df.target[:end_index],\n",
    "        bigquery_dmslstm_df.forecast_value[:end_index]\n",
    "    )\n",
    "    print('ARIMA MAE for {}-hour interval is: {:.4f}'.format(end_index, mae))"
   ]
  },
  {
   "cell_type": "markdown",
   "metadata": {},
   "source": [
    "for end_index in [24, 48, 72, 96, 120, 144, 168]:\n",
    "    rmse = sqrt(mean_squared_error(\n",
    "        predictions_df.target[:end_index],\n",
    "        bigquery_dmslstm_df.forecast_value[:end_index]\n",
    "    ))\n",
    "    print('ARIMA RMSE for {}-hour interval is: {:.4f}'.format(end_index, rmse))"
   ]
  },
  {
   "cell_type": "markdown",
   "metadata": {},
   "source": [
    "for end_index in [24, 48, 72, 96, 120, 144, 168]:\n",
    "    smape = symmetric_mean_absolute_percentage_error(\n",
    "        predictions_df.target[:end_index],\n",
    "        bigquery_dmslstm_df.forecast_value[:end_index]\n",
    "    )\n",
    "    print('ARIMA SMAPE for {}-hour interval is: {:.4f}'.format(end_index, smape))"
   ]
  },
  {
   "cell_type": "code",
   "execution_count": null,
   "metadata": {},
   "outputs": [],
   "source": []
  },
  {
   "cell_type": "code",
   "execution_count": 39,
   "metadata": {},
   "outputs": [],
   "source": [
    "# a flag to isolate all pairs prediction-target for a given model in predictions_df\n",
    "selected_model = 'BSCTRFM_TPU_011'\n",
    "flag = predictions_df['model_id'] == selected_model"
   ]
  },
  {
   "cell_type": "code",
   "execution_count": 40,
   "metadata": {},
   "outputs": [],
   "source": [
    "average_predictions_df = predictions_df[flag].groupby(['timestamp']).mean()"
   ]
  },
  {
   "cell_type": "code",
   "execution_count": 41,
   "metadata": {},
   "outputs": [
    {
     "data": {
      "text/html": [
       "<div>\n",
       "<style scoped>\n",
       "    .dataframe tbody tr th:only-of-type {\n",
       "        vertical-align: middle;\n",
       "    }\n",
       "\n",
       "    .dataframe tbody tr th {\n",
       "        vertical-align: top;\n",
       "    }\n",
       "\n",
       "    .dataframe thead th {\n",
       "        text-align: right;\n",
       "    }\n",
       "</style>\n",
       "<table border=\"1\" class=\"dataframe\">\n",
       "  <thead>\n",
       "    <tr style=\"text-align: right;\">\n",
       "      <th></th>\n",
       "      <th>prediction</th>\n",
       "      <th>target</th>\n",
       "    </tr>\n",
       "    <tr>\n",
       "      <th>timestamp</th>\n",
       "      <th></th>\n",
       "      <th></th>\n",
       "    </tr>\n",
       "  </thead>\n",
       "  <tbody>\n",
       "    <tr>\n",
       "      <th>2018-05-14 23:00:00</th>\n",
       "      <td>2400.121509</td>\n",
       "      <td>2451.085000</td>\n",
       "    </tr>\n",
       "    <tr>\n",
       "      <th>2018-05-15 00:00:00</th>\n",
       "      <td>2122.198242</td>\n",
       "      <td>2157.115000</td>\n",
       "    </tr>\n",
       "    <tr>\n",
       "      <th>2018-05-15 01:00:00</th>\n",
       "      <td>1946.261780</td>\n",
       "      <td>1955.913333</td>\n",
       "    </tr>\n",
       "    <tr>\n",
       "      <th>2018-05-15 02:00:00</th>\n",
       "      <td>1839.255969</td>\n",
       "      <td>1843.016667</td>\n",
       "    </tr>\n",
       "    <tr>\n",
       "      <th>2018-05-15 03:00:00</th>\n",
       "      <td>1771.545740</td>\n",
       "      <td>1821.458333</td>\n",
       "    </tr>\n",
       "    <tr>\n",
       "      <th>...</th>\n",
       "      <td>...</td>\n",
       "      <td>...</td>\n",
       "    </tr>\n",
       "    <tr>\n",
       "      <th>2018-05-21 18:00:00</th>\n",
       "      <td>2863.161060</td>\n",
       "      <td>2841.735000</td>\n",
       "    </tr>\n",
       "    <tr>\n",
       "      <th>2018-05-21 19:00:00</th>\n",
       "      <td>2804.030176</td>\n",
       "      <td>2777.203333</td>\n",
       "    </tr>\n",
       "    <tr>\n",
       "      <th>2018-05-21 20:00:00</th>\n",
       "      <td>2856.024292</td>\n",
       "      <td>2851.368333</td>\n",
       "    </tr>\n",
       "    <tr>\n",
       "      <th>2018-05-21 21:00:00</th>\n",
       "      <td>2914.492114</td>\n",
       "      <td>2980.845000</td>\n",
       "    </tr>\n",
       "    <tr>\n",
       "      <th>2018-05-21 22:00:00</th>\n",
       "      <td>2772.049072</td>\n",
       "      <td>2803.260000</td>\n",
       "    </tr>\n",
       "  </tbody>\n",
       "</table>\n",
       "<p>168 rows × 2 columns</p>\n",
       "</div>"
      ],
      "text/plain": [
       "                      prediction       target\n",
       "timestamp                                    \n",
       "2018-05-14 23:00:00  2400.121509  2451.085000\n",
       "2018-05-15 00:00:00  2122.198242  2157.115000\n",
       "2018-05-15 01:00:00  1946.261780  1955.913333\n",
       "2018-05-15 02:00:00  1839.255969  1843.016667\n",
       "2018-05-15 03:00:00  1771.545740  1821.458333\n",
       "...                          ...          ...\n",
       "2018-05-21 18:00:00  2863.161060  2841.735000\n",
       "2018-05-21 19:00:00  2804.030176  2777.203333\n",
       "2018-05-21 20:00:00  2856.024292  2851.368333\n",
       "2018-05-21 21:00:00  2914.492114  2980.845000\n",
       "2018-05-21 22:00:00  2772.049072  2803.260000\n",
       "\n",
       "[168 rows x 2 columns]"
      ]
     },
     "execution_count": 41,
     "metadata": {},
     "output_type": "execute_result"
    }
   ],
   "source": [
    "average_predictions_df"
   ]
  },
  {
   "cell_type": "code",
   "execution_count": 42,
   "metadata": {},
   "outputs": [],
   "source": [
    "plots = dict()"
   ]
  },
  {
   "cell_type": "code",
   "execution_count": 43,
   "metadata": {},
   "outputs": [],
   "source": [
    "# a datetime range for the prediction interval\n",
    "# for datetime in pd.date_range(start='2018-07-02 00:00:00', end='2018-07-02 23:00:00', freq='H'):\n",
    "#     print(datetime)"
   ]
  },
  {
   "cell_type": "code",
   "execution_count": null,
   "metadata": {},
   "outputs": [],
   "source": []
  },
  {
   "cell_type": "code",
   "execution_count": 44,
   "metadata": {},
   "outputs": [
    {
     "data": {
      "text/html": [
       "\n",
       "\n",
       "\n",
       "\n",
       "\n",
       "\n",
       "  <div class=\"bk-root\" id=\"a96a7e8f-a1b9-4e58-a100-dac4b8620773\" data-root-id=\"1002\"></div>\n"
      ]
     },
     "metadata": {},
     "output_type": "display_data"
    },
    {
     "data": {
      "application/javascript": [
       "(function(root) {\n",
       "  function embed_document(root) {\n",
       "    \n",
       "  var docs_json = {\"6292a284-7eca-42ba-ac8e-980824831a7d\":{\"roots\":{\"references\":[{\"attributes\":{\"below\":[{\"id\":\"1013\",\"type\":\"DatetimeAxis\"}],\"center\":[{\"id\":\"1017\",\"type\":\"Grid\"},{\"id\":\"1022\",\"type\":\"Grid\"},{\"id\":\"1060\",\"type\":\"Legend\"}],\"left\":[{\"id\":\"1018\",\"type\":\"LinearAxis\"}],\"plot_height\":320,\"plot_width\":960,\"renderers\":[{\"id\":\"1040\",\"type\":\"GlyphRenderer\"},{\"id\":\"1065\",\"type\":\"GlyphRenderer\"},{\"id\":\"1090\",\"type\":\"GlyphRenderer\"},{\"id\":\"1118\",\"type\":\"GlyphRenderer\"},{\"id\":\"1147\",\"type\":\"GlyphRenderer\"},{\"id\":\"1179\",\"type\":\"GlyphRenderer\"}],\"title\":{\"id\":\"1003\",\"type\":\"Title\"},\"toolbar\":{\"id\":\"1029\",\"type\":\"Toolbar\"},\"toolbar_location\":null,\"x_range\":{\"id\":\"1036\",\"type\":\"Range1d\"},\"x_scale\":{\"id\":\"1009\",\"type\":\"LinearScale\"},\"y_range\":{\"id\":\"1007\",\"type\":\"DataRange1d\"},\"y_scale\":{\"id\":\"1011\",\"type\":\"LinearScale\"}},\"id\":\"1002\",\"subtype\":\"Figure\",\"type\":\"Plot\"},{\"attributes\":{\"fill_alpha\":{\"value\":0.1},\"fill_color\":{\"value\":\"#1f77b4\"},\"line_alpha\":{\"value\":0.1},\"line_color\":{\"value\":\"#1f77b4\"},\"size\":{\"units\":\"screen\",\"value\":8},\"x\":{\"field\":\"x\"},\"y\":{\"field\":\"y\"}},\"id\":\"1146\",\"type\":\"Circle\"},{\"attributes\":{\"data_source\":{\"id\":\"1144\",\"type\":\"ColumnDataSource\"},\"glyph\":{\"id\":\"1145\",\"type\":\"Circle\"},\"hover_glyph\":null,\"muted_glyph\":null,\"nonselection_glyph\":{\"id\":\"1146\",\"type\":\"Circle\"},\"selection_glyph\":null,\"view\":{\"id\":\"1148\",\"type\":\"CDSView\"}},\"id\":\"1147\",\"type\":\"GlyphRenderer\"},{\"attributes\":{\"source\":{\"id\":\"1144\",\"type\":\"ColumnDataSource\"}},\"id\":\"1148\",\"type\":\"CDSView\"},{\"attributes\":{\"label\":{\"value\":\"Real\"},\"renderers\":[{\"id\":\"1147\",\"type\":\"GlyphRenderer\"},{\"id\":\"1179\",\"type\":\"GlyphRenderer\"}]},\"id\":\"1175\",\"type\":\"LegendItem\"},{\"attributes\":{\"callback\":null,\"data\":{\"x\":{\"__ndarray__\":\"AAAYf/w3dkIAAADu/zd2QgAA6FwDOHZCAADQywY4dkIAALg6Cjh2QgAAoKkNOHZCAACIGBE4dkIAAHCHFDh2QgAAWPYXOHZCAABAZRs4dkIAACjUHjh2QgAAEEMiOHZCAAD4sSU4dkIAAOAgKTh2QgAAyI8sOHZCAACw/i84dkIAAJhtMzh2QgAAgNw2OHZCAABoSzo4dkIAAFC6PTh2QgAAOClBOHZCAAAgmEQ4dkIAAAgHSDh2QgAA8HVLOHZC\",\"dtype\":\"float64\",\"shape\":[24]},\"y\":{\"__ndarray__\":\"c9pApw09pEAAAAAAQGahQIXrUbgejp9Agk4b6DR/nUD1KFyPwpOcQLq7u7s7JJxAXo/C9agTnEBVVVVVVe6eQIiIiIgIf6BAEREREdEaoUCX/GLJ79aiQNpApw10LKRA+sWSX+xdpkAIOm2gE+inQNejcD2KfKhAtoFOG2g5qEDOzMzMDAuoQCa/WPIL86dA+cWSXyy/pkAfhetReDOmQLOBThtosqVAYskvlrxGpkA+CtejsEmnQO1RuB6F5qVA\",\"dtype\":\"float64\",\"shape\":[24]}},\"selected\":{\"id\":\"1238\",\"type\":\"Selection\"},\"selection_policy\":{\"id\":\"1237\",\"type\":\"UnionRenderers\"}},\"id\":\"1176\",\"type\":\"ColumnDataSource\"},{\"attributes\":{\"data_source\":{\"id\":\"1176\",\"type\":\"ColumnDataSource\"},\"glyph\":{\"id\":\"1177\",\"type\":\"Line\"},\"hover_glyph\":null,\"muted_glyph\":null,\"nonselection_glyph\":{\"id\":\"1178\",\"type\":\"Line\"},\"selection_glyph\":null,\"view\":{\"id\":\"1180\",\"type\":\"CDSView\"}},\"id\":\"1179\",\"type\":\"GlyphRenderer\"},{\"attributes\":{\"fill_color\":{\"value\":null},\"size\":{\"units\":\"screen\",\"value\":8},\"x\":{\"field\":\"x\"},\"y\":{\"field\":\"y\"}},\"id\":\"1038\",\"type\":\"Square\"},{\"attributes\":{\"source\":{\"id\":\"1176\",\"type\":\"ColumnDataSource\"}},\"id\":\"1180\",\"type\":\"CDSView\"},{\"attributes\":{\"fill_alpha\":{\"value\":0.1},\"fill_color\":{\"value\":\"#1f77b4\"},\"line_alpha\":{\"value\":0.1},\"line_color\":{\"value\":\"#1f77b4\"},\"size\":{\"units\":\"screen\",\"value\":8},\"x\":{\"field\":\"x\"},\"y\":{\"field\":\"y\"}},\"id\":\"1039\",\"type\":\"Square\"},{\"attributes\":{},\"id\":\"1207\",\"type\":\"UnionRenderers\"},{\"attributes\":{\"data_source\":{\"id\":\"1037\",\"type\":\"ColumnDataSource\"},\"glyph\":{\"id\":\"1038\",\"type\":\"Square\"},\"hover_glyph\":null,\"muted_glyph\":null,\"nonselection_glyph\":{\"id\":\"1039\",\"type\":\"Square\"},\"selection_glyph\":null,\"view\":{\"id\":\"1041\",\"type\":\"CDSView\"}},\"id\":\"1040\",\"type\":\"GlyphRenderer\"},{\"attributes\":{\"line_alpha\":0.1,\"line_color\":\"#1f77b4\",\"x\":{\"field\":\"x\"},\"y\":{\"field\":\"y\"}},\"id\":\"1178\",\"type\":\"Line\"},{\"attributes\":{},\"id\":\"1174\",\"type\":\"Selection\"},{\"attributes\":{\"x\":{\"field\":\"x\"},\"y\":{\"field\":\"y\"}},\"id\":\"1177\",\"type\":\"Line\"},{\"attributes\":{},\"id\":\"1238\",\"type\":\"Selection\"},{\"attributes\":{},\"id\":\"1208\",\"type\":\"Selection\"},{\"attributes\":{},\"id\":\"1237\",\"type\":\"UnionRenderers\"},{\"attributes\":{\"callback\":null,\"end\":1526950800000.0,\"start\":1526853600000.0},\"id\":\"1036\",\"type\":\"Range1d\"},{\"attributes\":{},\"id\":\"1142\",\"type\":\"UnionRenderers\"},{\"attributes\":{},\"id\":\"1173\",\"type\":\"UnionRenderers\"},{\"attributes\":{\"x\":{\"field\":\"x\"},\"y\":{\"field\":\"y\"}},\"id\":\"1116\",\"type\":\"Line\"},{\"attributes\":{\"source\":{\"id\":\"1062\",\"type\":\"ColumnDataSource\"}},\"id\":\"1066\",\"type\":\"CDSView\"},{\"attributes\":{\"callback\":null,\"data\":{\"x\":{\"__ndarray__\":\"AAAYf/w3dkIAAADu/zd2QgAA6FwDOHZCAADQywY4dkIAALg6Cjh2QgAAoKkNOHZCAACIGBE4dkIAAHCHFDh2QgAAWPYXOHZCAABAZRs4dkIAACjUHjh2QgAAEEMiOHZCAAD4sSU4dkIAAOAgKTh2QgAAyI8sOHZCAACw/i84dkIAAJhtMzh2QgAAgNw2OHZCAABoSzo4dkIAAFC6PTh2QgAAOClBOHZCAAAgmEQ4dkIAAAgHSDh2QgAA8HVLOHZC\",\"dtype\":\"float64\",\"shape\":[24]},\"y\":{\"__ndarray__\":\"AAAA4HGdo0CamZl5UIShQGZmZhbJtJ9AzczMXJK5nUAAAADAezacQM3MzHw7zptAZmZmRuQrnEAzMzNT3XCeQGZmZqawLKBAzczM7CfqoEDNzMwsM3qiQAAAAJB/RKRAZmZmpl2ipUBmZmaGBsSmQDMzMzMzXadAZmZm1laJp0DNzMy86YynQGZmZkYXUKdAZmZmJoPgpkBmZmZ2Ul6mQDMzM3MP6KVAAAAAcAxQpkBmZmb2+8SmQAAAACAZqKVA\",\"dtype\":\"float64\",\"shape\":[24]}},\"selected\":{\"id\":\"1086\",\"type\":\"Selection\"},\"selection_policy\":{\"id\":\"1085\",\"type\":\"UnionRenderers\"}},\"id\":\"1037\",\"type\":\"ColumnDataSource\"},{\"attributes\":{\"active_drag\":\"auto\",\"active_inspect\":\"auto\",\"active_multi\":null,\"active_scroll\":\"auto\",\"active_tap\":\"auto\",\"tools\":[{\"id\":\"1023\",\"type\":\"PanTool\"},{\"id\":\"1024\",\"type\":\"WheelZoomTool\"},{\"id\":\"1025\",\"type\":\"BoxZoomTool\"},{\"id\":\"1026\",\"type\":\"SaveTool\"},{\"id\":\"1027\",\"type\":\"ResetTool\"},{\"id\":\"1028\",\"type\":\"HelpTool\"}]},\"id\":\"1029\",\"type\":\"Toolbar\"},{\"attributes\":{\"line_alpha\":0.1,\"line_color\":\"#1f77b4\",\"x\":{\"field\":\"x\"},\"y\":{\"field\":\"y\"}},\"id\":\"1064\",\"type\":\"Line\"},{\"attributes\":{\"data_source\":{\"id\":\"1062\",\"type\":\"ColumnDataSource\"},\"glyph\":{\"id\":\"1063\",\"type\":\"Line\"},\"hover_glyph\":null,\"muted_glyph\":null,\"nonselection_glyph\":{\"id\":\"1064\",\"type\":\"Line\"},\"selection_glyph\":null,\"view\":{\"id\":\"1066\",\"type\":\"CDSView\"}},\"id\":\"1065\",\"type\":\"GlyphRenderer\"},{\"attributes\":{},\"id\":\"1043\",\"type\":\"BasicTickFormatter\"},{\"attributes\":{},\"id\":\"1023\",\"type\":\"PanTool\"},{\"attributes\":{\"fill_color\":{\"value\":null},\"size\":{\"units\":\"screen\",\"value\":8},\"x\":{\"field\":\"x\"},\"y\":{\"field\":\"y\"}},\"id\":\"1088\",\"type\":\"Triangle\"},{\"attributes\":{},\"id\":\"1024\",\"type\":\"WheelZoomTool\"},{\"attributes\":{},\"id\":\"1085\",\"type\":\"UnionRenderers\"},{\"attributes\":{\"overlay\":{\"id\":\"1047\",\"type\":\"BoxAnnotation\"}},\"id\":\"1025\",\"type\":\"BoxZoomTool\"},{\"attributes\":{},\"id\":\"1026\",\"type\":\"SaveTool\"},{\"attributes\":{\"fill_alpha\":{\"value\":0.1},\"fill_color\":{\"value\":\"#1f77b4\"},\"line_alpha\":{\"value\":0.1},\"line_color\":{\"value\":\"#1f77b4\"},\"size\":{\"units\":\"screen\",\"value\":8},\"x\":{\"field\":\"x\"},\"y\":{\"field\":\"y\"}},\"id\":\"1089\",\"type\":\"Triangle\"},{\"attributes\":{},\"id\":\"1027\",\"type\":\"ResetTool\"},{\"attributes\":{\"source\":{\"id\":\"1037\",\"type\":\"ColumnDataSource\"}},\"id\":\"1041\",\"type\":\"CDSView\"},{\"attributes\":{},\"id\":\"1086\",\"type\":\"Selection\"},{\"attributes\":{},\"id\":\"1028\",\"type\":\"HelpTool\"},{\"attributes\":{\"bottom_units\":\"screen\",\"fill_alpha\":{\"value\":0.5},\"fill_color\":{\"value\":\"lightgrey\"},\"left_units\":\"screen\",\"level\":\"overlay\",\"line_alpha\":{\"value\":1.0},\"line_color\":{\"value\":\"black\"},\"line_dash\":[4,4],\"line_width\":{\"value\":2},\"render_mode\":\"css\",\"right_units\":\"screen\",\"top_units\":\"screen\"},\"id\":\"1047\",\"type\":\"BoxAnnotation\"},{\"attributes\":{\"callback\":null,\"data\":{\"x\":{\"__ndarray__\":\"AAAYf/w3dkIAAADu/zd2QgAA6FwDOHZCAADQywY4dkIAALg6Cjh2QgAAoKkNOHZCAACIGBE4dkIAAHCHFDh2QgAAWPYXOHZCAABAZRs4dkIAACjUHjh2QgAAEEMiOHZCAAD4sSU4dkIAAOAgKTh2QgAAyI8sOHZCAACw/i84dkIAAJhtMzh2QgAAgNw2OHZCAABoSzo4dkIAAFC6PTh2QgAAOClBOHZCAAAgmEQ4dkIAAAgHSDh2QgAA8HVLOHZC\",\"dtype\":\"float64\",\"shape\":[24]},\"y\":{\"__ndarray__\":\"mOBWVP/mo0Cdg/0Vk7KhQEeanyl3fZ9AebKQwvhEnUD0Jm3BLZSbQMVdaifAs5pAB88T/LrrmkD4S7KvSpCdQNeAd3CWT59Aoyy/Zl9yoEDBUDks8b2hQN35tb/6s6NAePEbFv+QpUDCdn9UP/KmQOYe45w0r6dAXxcK19Shp0CeLsJnZLinQMpTh+MaoKdAisSaztICp0DOAYQSqKqmQNBAFcDFPaZADrChOAYRp0Cab1SV/TSnQOGCRPhl/6VA\",\"dtype\":\"float64\",\"shape\":[24]}},\"selected\":{\"id\":\"1143\",\"type\":\"Selection\"},\"selection_policy\":{\"id\":\"1142\",\"type\":\"UnionRenderers\"}},\"id\":\"1087\",\"type\":\"ColumnDataSource\"},{\"attributes\":{\"items\":[{\"id\":\"1061\",\"type\":\"LegendItem\"},{\"id\":\"1114\",\"type\":\"LegendItem\"},{\"id\":\"1175\",\"type\":\"LegendItem\"}],\"label_text_font_size\":{\"value\":\"12pt\"},\"location\":\"bottom_right\"},\"id\":\"1060\",\"type\":\"Legend\"},{\"attributes\":{\"data_source\":{\"id\":\"1087\",\"type\":\"ColumnDataSource\"},\"glyph\":{\"id\":\"1088\",\"type\":\"Triangle\"},\"hover_glyph\":null,\"muted_glyph\":null,\"nonselection_glyph\":{\"id\":\"1089\",\"type\":\"Triangle\"},\"selection_glyph\":null,\"view\":{\"id\":\"1091\",\"type\":\"CDSView\"}},\"id\":\"1090\",\"type\":\"GlyphRenderer\"},{\"attributes\":{},\"id\":\"1045\",\"type\":\"DatetimeTickFormatter\"},{\"attributes\":{},\"id\":\"1112\",\"type\":\"UnionRenderers\"},{\"attributes\":{\"mantissas\":[1,2,5],\"max_interval\":500.0,\"num_minor_ticks\":0},\"id\":\"1048\",\"type\":\"AdaptiveTicker\"},{\"attributes\":{\"label\":{\"value\":\"ARIMA\"},\"renderers\":[{\"id\":\"1090\",\"type\":\"GlyphRenderer\"},{\"id\":\"1118\",\"type\":\"GlyphRenderer\"}]},\"id\":\"1114\",\"type\":\"LegendItem\"},{\"attributes\":{\"source\":{\"id\":\"1087\",\"type\":\"ColumnDataSource\"}},\"id\":\"1091\",\"type\":\"CDSView\"},{\"attributes\":{\"base\":24,\"mantissas\":[1,2,4,6,8,12],\"max_interval\":43200000.0,\"min_interval\":3600000.0,\"num_minor_ticks\":0},\"id\":\"1050\",\"type\":\"AdaptiveTicker\"},{\"attributes\":{\"base\":60,\"mantissas\":[1,2,5,10,15,20,30],\"max_interval\":1800000.0,\"min_interval\":1000.0,\"num_minor_ticks\":0},\"id\":\"1049\",\"type\":\"AdaptiveTicker\"},{\"attributes\":{},\"id\":\"1113\",\"type\":\"Selection\"},{\"attributes\":{\"fill_color\":{\"value\":null},\"size\":{\"units\":\"screen\",\"value\":8},\"x\":{\"field\":\"x\"},\"y\":{\"field\":\"y\"}},\"id\":\"1145\",\"type\":\"Circle\"},{\"attributes\":{\"callback\":null,\"data\":{\"x\":{\"__ndarray__\":\"AAAYf/w3dkIAAADu/zd2QgAA6FwDOHZCAADQywY4dkIAALg6Cjh2QgAAoKkNOHZCAACIGBE4dkIAAHCHFDh2QgAAWPYXOHZCAABAZRs4dkIAACjUHjh2QgAAEEMiOHZCAAD4sSU4dkIAAOAgKTh2QgAAyI8sOHZCAACw/i84dkIAAJhtMzh2QgAAgNw2OHZCAABoSzo4dkIAAFC6PTh2QgAAOClBOHZCAAAgmEQ4dkIAAAgHSDh2QgAA8HVLOHZC\",\"dtype\":\"float64\",\"shape\":[24]},\"y\":{\"__ndarray__\":\"mOBWVP/mo0Cdg/0Vk7KhQEeanyl3fZ9AebKQwvhEnUD0Jm3BLZSbQMVdaifAs5pAB88T/LrrmkD4S7KvSpCdQNeAd3CWT59Aoyy/Zl9yoEDBUDks8b2hQN35tb/6s6NAePEbFv+QpUDCdn9UP/KmQOYe45w0r6dAXxcK19Shp0CeLsJnZLinQMpTh+MaoKdAisSaztICp0DOAYQSqKqmQNBAFcDFPaZADrChOAYRp0Cab1SV/TSnQOGCRPhl/6VA\",\"dtype\":\"float64\",\"shape\":[24]}},\"selected\":{\"id\":\"1174\",\"type\":\"Selection\"},\"selection_policy\":{\"id\":\"1173\",\"type\":\"UnionRenderers\"}},\"id\":\"1115\",\"type\":\"ColumnDataSource\"},{\"attributes\":{\"days\":[1,2,3,4,5,6,7,8,9,10,11,12,13,14,15,16,17,18,19,20,21,22,23,24,25,26,27,28,29,30,31]},\"id\":\"1051\",\"type\":\"DaysTicker\"},{\"attributes\":{\"text\":\"BSCTRFM (average) vs. ARIMA vs. Real / Day 7.\",\"text_font_size\":{\"value\":\"14pt\"}},\"id\":\"1003\",\"type\":\"Title\"},{\"attributes\":{\"days\":[1,4,7,10,13,16,19,22,25,28]},\"id\":\"1052\",\"type\":\"DaysTicker\"},{\"attributes\":{},\"id\":\"1011\",\"type\":\"LinearScale\"},{\"attributes\":{\"days\":[1,8,15,22]},\"id\":\"1053\",\"type\":\"DaysTicker\"},{\"attributes\":{\"days\":[1,15]},\"id\":\"1054\",\"type\":\"DaysTicker\"},{\"attributes\":{\"source\":{\"id\":\"1115\",\"type\":\"ColumnDataSource\"}},\"id\":\"1119\",\"type\":\"CDSView\"},{\"attributes\":{\"months\":[0,1,2,3,4,5,6,7,8,9,10,11]},\"id\":\"1055\",\"type\":\"MonthsTicker\"},{\"attributes\":{},\"id\":\"1009\",\"type\":\"LinearScale\"},{\"attributes\":{\"line_alpha\":0.1,\"line_color\":\"#1f77b4\",\"x\":{\"field\":\"x\"},\"y\":{\"field\":\"y\"}},\"id\":\"1117\",\"type\":\"Line\"},{\"attributes\":{\"months\":[0,2,4,6,8,10]},\"id\":\"1056\",\"type\":\"MonthsTicker\"},{\"attributes\":{\"callback\":null},\"id\":\"1007\",\"type\":\"DataRange1d\"},{\"attributes\":{\"data_source\":{\"id\":\"1115\",\"type\":\"ColumnDataSource\"},\"glyph\":{\"id\":\"1116\",\"type\":\"Line\"},\"hover_glyph\":null,\"muted_glyph\":null,\"nonselection_glyph\":{\"id\":\"1117\",\"type\":\"Line\"},\"selection_glyph\":null,\"view\":{\"id\":\"1119\",\"type\":\"CDSView\"}},\"id\":\"1118\",\"type\":\"GlyphRenderer\"},{\"attributes\":{\"months\":[0,4,8]},\"id\":\"1057\",\"type\":\"MonthsTicker\"},{\"attributes\":{\"axis_label\":\"Date\",\"axis_label_text_font_size\":{\"value\":\"14pt\"},\"formatter\":{\"id\":\"1045\",\"type\":\"DatetimeTickFormatter\"},\"major_label_text_font_size\":{\"value\":\"12pt\"},\"ticker\":{\"id\":\"1014\",\"type\":\"DatetimeTicker\"}},\"id\":\"1013\",\"type\":\"DatetimeAxis\"},{\"attributes\":{\"dimension\":1,\"grid_line_alpha\":0.3,\"ticker\":{\"id\":\"1019\",\"type\":\"BasicTicker\"}},\"id\":\"1022\",\"type\":\"Grid\"},{\"attributes\":{\"months\":[0,6]},\"id\":\"1058\",\"type\":\"MonthsTicker\"},{\"attributes\":{\"num_minor_ticks\":5,\"tickers\":[{\"id\":\"1048\",\"type\":\"AdaptiveTicker\"},{\"id\":\"1049\",\"type\":\"AdaptiveTicker\"},{\"id\":\"1050\",\"type\":\"AdaptiveTicker\"},{\"id\":\"1051\",\"type\":\"DaysTicker\"},{\"id\":\"1052\",\"type\":\"DaysTicker\"},{\"id\":\"1053\",\"type\":\"DaysTicker\"},{\"id\":\"1054\",\"type\":\"DaysTicker\"},{\"id\":\"1055\",\"type\":\"MonthsTicker\"},{\"id\":\"1056\",\"type\":\"MonthsTicker\"},{\"id\":\"1057\",\"type\":\"MonthsTicker\"},{\"id\":\"1058\",\"type\":\"MonthsTicker\"},{\"id\":\"1059\",\"type\":\"YearsTicker\"}]},\"id\":\"1014\",\"type\":\"DatetimeTicker\"},{\"attributes\":{\"callback\":null,\"data\":{\"x\":{\"__ndarray__\":\"AAAYf/w3dkIAAADu/zd2QgAA6FwDOHZCAADQywY4dkIAALg6Cjh2QgAAoKkNOHZCAACIGBE4dkIAAHCHFDh2QgAAWPYXOHZCAABAZRs4dkIAACjUHjh2QgAAEEMiOHZCAAD4sSU4dkIAAOAgKTh2QgAAyI8sOHZCAACw/i84dkIAAJhtMzh2QgAAgNw2OHZCAABoSzo4dkIAAFC6PTh2QgAAOClBOHZCAAAgmEQ4dkIAAAgHSDh2QgAA8HVLOHZC\",\"dtype\":\"float64\",\"shape\":[24]},\"y\":{\"__ndarray__\":\"c9pApw09pEAAAAAAQGahQIXrUbgejp9Agk4b6DR/nUD1KFyPwpOcQLq7u7s7JJxAXo/C9agTnEBVVVVVVe6eQIiIiIgIf6BAEREREdEaoUCX/GLJ79aiQNpApw10LKRA+sWSX+xdpkAIOm2gE+inQNejcD2KfKhAtoFOG2g5qEDOzMzMDAuoQCa/WPIL86dA+cWSXyy/pkAfhetReDOmQLOBThtosqVAYskvlrxGpkA+CtejsEmnQO1RuB6F5qVA\",\"dtype\":\"float64\",\"shape\":[24]}},\"selected\":{\"id\":\"1208\",\"type\":\"Selection\"},\"selection_policy\":{\"id\":\"1207\",\"type\":\"UnionRenderers\"}},\"id\":\"1144\",\"type\":\"ColumnDataSource\"},{\"attributes\":{},\"id\":\"1059\",\"type\":\"YearsTicker\"},{\"attributes\":{\"grid_line_alpha\":0.3,\"ticker\":{\"id\":\"1014\",\"type\":\"DatetimeTicker\"}},\"id\":\"1017\",\"type\":\"Grid\"},{\"attributes\":{\"label\":{\"value\":\"BSCTRFM\"},\"renderers\":[{\"id\":\"1040\",\"type\":\"GlyphRenderer\"},{\"id\":\"1065\",\"type\":\"GlyphRenderer\"}]},\"id\":\"1061\",\"type\":\"LegendItem\"},{\"attributes\":{},\"id\":\"1143\",\"type\":\"Selection\"},{\"attributes\":{},\"id\":\"1019\",\"type\":\"BasicTicker\"},{\"attributes\":{\"axis_label\":\"Active Power [KW]\",\"axis_label_text_font_size\":{\"value\":\"14pt\"},\"formatter\":{\"id\":\"1043\",\"type\":\"BasicTickFormatter\"},\"major_label_text_font_size\":{\"value\":\"12pt\"},\"ticker\":{\"id\":\"1019\",\"type\":\"BasicTicker\"}},\"id\":\"1018\",\"type\":\"LinearAxis\"},{\"attributes\":{\"x\":{\"field\":\"x\"},\"y\":{\"field\":\"y\"}},\"id\":\"1063\",\"type\":\"Line\"},{\"attributes\":{\"callback\":null,\"data\":{\"x\":{\"__ndarray__\":\"AAAYf/w3dkIAAADu/zd2QgAA6FwDOHZCAADQywY4dkIAALg6Cjh2QgAAoKkNOHZCAACIGBE4dkIAAHCHFDh2QgAAWPYXOHZCAABAZRs4dkIAACjUHjh2QgAAEEMiOHZCAAD4sSU4dkIAAOAgKTh2QgAAyI8sOHZCAACw/i84dkIAAJhtMzh2QgAAgNw2OHZCAABoSzo4dkIAAFC6PTh2QgAAOClBOHZCAAAgmEQ4dkIAAAgHSDh2QgAA8HVLOHZC\",\"dtype\":\"float64\",\"shape\":[24]},\"y\":{\"__ndarray__\":\"AAAA4HGdo0CamZl5UIShQGZmZhbJtJ9AzczMXJK5nUAAAADAezacQM3MzHw7zptAZmZmRuQrnEAzMzNT3XCeQGZmZqawLKBAzczM7CfqoEDNzMwsM3qiQAAAAJB/RKRAZmZmpl2ipUBmZmaGBsSmQDMzMzMzXadAZmZm1laJp0DNzMy86YynQGZmZkYXUKdAZmZmJoPgpkBmZmZ2Ul6mQDMzM3MP6KVAAAAAcAxQpkBmZmb2+8SmQAAAACAZqKVA\",\"dtype\":\"float64\",\"shape\":[24]}},\"selected\":{\"id\":\"1113\",\"type\":\"Selection\"},\"selection_policy\":{\"id\":\"1112\",\"type\":\"UnionRenderers\"}},\"id\":\"1062\",\"type\":\"ColumnDataSource\"}],\"root_ids\":[\"1002\"]},\"title\":\"Bokeh Application\",\"version\":\"1.4.0\"}};\n",
       "  var render_items = [{\"docid\":\"6292a284-7eca-42ba-ac8e-980824831a7d\",\"roots\":{\"1002\":\"a96a7e8f-a1b9-4e58-a100-dac4b8620773\"}}];\n",
       "  root.Bokeh.embed.embed_items_notebook(docs_json, render_items);\n",
       "\n",
       "  }\n",
       "  if (root.Bokeh !== undefined) {\n",
       "    embed_document(root);\n",
       "  } else {\n",
       "    var attempts = 0;\n",
       "    var timer = setInterval(function(root) {\n",
       "      if (root.Bokeh !== undefined) {\n",
       "        clearInterval(timer);\n",
       "        embed_document(root);\n",
       "      } else {\n",
       "        attempts++;\n",
       "        if (attempts > 100) {\n",
       "          clearInterval(timer);\n",
       "          console.log(\"Bokeh: ERROR: Unable to run BokehJS code because BokehJS library is missing\");\n",
       "        }\n",
       "      }\n",
       "    }, 10, root)\n",
       "  }\n",
       "})(window);"
      ],
      "application/vnd.bokehjs_exec.v0+json": ""
     },
     "metadata": {
      "application/vnd.bokehjs_exec.v0+json": {
       "id": "1002"
      }
     },
     "output_type": "display_data"
    }
   ],
   "source": [
    "day = 7\n",
    "start, end = 24*(day - 1), 24*day\n",
    "\n",
    "size = 8\n",
    "\n",
    "plots['bsctrfm'] = figure(\n",
    "    x_axis_type='datetime',\n",
    "    plot_width=960,\n",
    "    plot_height=320,\n",
    "    title='BSCTRFM (average) vs. ARIMA vs. Real / Day {}.'.format(day),\n",
    "    toolbar_location=None,\n",
    ")\n",
    "\n",
    "plots['bsctrfm'].grid.grid_line_alpha=0.3\n",
    "\n",
    "plots['bsctrfm'].xaxis.axis_label = 'Date'\n",
    "plots['bsctrfm'].yaxis.axis_label = 'Active Power [KW]'\n",
    "\n",
    "plots['bsctrfm'].title.text_font_size = '14pt'\n",
    "\n",
    "plots['bsctrfm'].xaxis.axis_label_text_font_size = \"14pt\"\n",
    "plots['bsctrfm'].yaxis.axis_label_text_font_size = \"14pt\"\n",
    "\n",
    "plots['bsctrfm'].xaxis.major_label_text_font_size = \"12pt\"\n",
    "plots['bsctrfm'].yaxis.major_label_text_font_size = \"12pt\"\n",
    "\n",
    "# a custom x range to visuallly improve the the plot\n",
    "plots['bsctrfm'].x_range = Range1d(\n",
    "    start=average_predictions_df.index[start] - timedelta(hours=1),\n",
    "    end=average_predictions_df.index[end-1] + timedelta(hours=3)\n",
    ")\n",
    "\n",
    "# the target value in average_predictions_df is the average of targets, then the only target\n",
    "plots['bsctrfm'].square(\n",
    "    x=average_predictions_df.index[start:end],\n",
    "    y=average_predictions_df.prediction[start:end],\n",
    "    size=size,\n",
    "    fill_color=None,\n",
    "    color='black',\n",
    "    legend_label='BSCTRFM'\n",
    ")\n",
    "plots['bsctrfm'].line(\n",
    "    x=average_predictions_df.index[start:end],\n",
    "    y=average_predictions_df.prediction[start:end],\n",
    "    color='black',\n",
    "    legend_label='BSCTRFM'\n",
    ")\n",
    "\n",
    "plots['bsctrfm'].triangle(\n",
    "    x=pd.to_datetime(bigquery_bsctrfm_df.forecast_timestamp)[start:end],\n",
    "    y=bigquery_bsctrfm_df.forecast_value[start:end],\n",
    "    size=size,\n",
    "    fill_color=None,\n",
    "    color='black',\n",
    "    legend_label='ARIMA'\n",
    ")\n",
    "plots['bsctrfm'].line(\n",
    "    x=pd.to_datetime(bigquery_bsctrfm_df.forecast_timestamp)[start:end],\n",
    "    y=bigquery_bsctrfm_df.forecast_value[start:end],\n",
    "    color='black',\n",
    "    legend_label='ARIMA'\n",
    ")\n",
    "\n",
    "plots['bsctrfm'].circle(\n",
    "    x=average_predictions_df.index[start:end],\n",
    "    y=average_predictions_df.target[start:end],\n",
    "    size=size,\n",
    "    fill_color=None,\n",
    "    color='black',\n",
    "    legend_label='Real'\n",
    ")\n",
    "plots['bsctrfm'].line(\n",
    "    x=average_predictions_df.index[start:end],\n",
    "    y=average_predictions_df.target[start:end],\n",
    "    color='black',\n",
    "    legend_label='Real'\n",
    ")\n",
    "\n",
    "plots['bsctrfm'].legend.label_text_font_size = '12pt'\n",
    "plots['bsctrfm'].legend.location = 'bottom_right'\n",
    "\n",
    "# uncomment the following two lines to save plot\n",
    "# output_file('/home/developer/gcp/cbidmltsf/datasets/cfe/{}_H_kw.html'.format(device))\n",
    "# save(fig_kw)\n",
    "\n",
    "# uncomment the following line to display plot\n",
    "show(plots['bsctrfm'])"
   ]
  },
  {
   "cell_type": "code",
   "execution_count": null,
   "metadata": {},
   "outputs": [],
   "source": []
  },
  {
   "cell_type": "code",
   "execution_count": 45,
   "metadata": {},
   "outputs": [],
   "source": [
    "# a Pandas dataframe to store all predictions detail items\n",
    "buffer_df_columns = [\n",
    "    'start_timestamp',\n",
    "    'end_timestamp',\n",
    "    'model_id',\n",
    "    'execution',\n",
    "    'mae',\n",
    "    'rmse',\n",
    "    'smape'\n",
    "]\n",
    "\n",
    "day_by_day_predictions_df = pd.DataFrame(columns=buffer_df_columns)"
   ]
  },
  {
   "cell_type": "code",
   "execution_count": 46,
   "metadata": {},
   "outputs": [
    {
     "data": {
      "text/html": [
       "<div>\n",
       "<style scoped>\n",
       "    .dataframe tbody tr th:only-of-type {\n",
       "        vertical-align: middle;\n",
       "    }\n",
       "\n",
       "    .dataframe tbody tr th {\n",
       "        vertical-align: top;\n",
       "    }\n",
       "\n",
       "    .dataframe thead th {\n",
       "        text-align: right;\n",
       "    }\n",
       "</style>\n",
       "<table border=\"1\" class=\"dataframe\">\n",
       "  <thead>\n",
       "    <tr style=\"text-align: right;\">\n",
       "      <th></th>\n",
       "      <th>start_timestamp</th>\n",
       "      <th>end_timestamp</th>\n",
       "      <th>model_id</th>\n",
       "      <th>execution</th>\n",
       "      <th>mae</th>\n",
       "      <th>rmse</th>\n",
       "      <th>smape</th>\n",
       "    </tr>\n",
       "  </thead>\n",
       "  <tbody>\n",
       "  </tbody>\n",
       "</table>\n",
       "</div>"
      ],
      "text/plain": [
       "Empty DataFrame\n",
       "Columns: [start_timestamp, end_timestamp, model_id, execution, mae, rmse, smape]\n",
       "Index: []"
      ]
     },
     "execution_count": 46,
     "metadata": {},
     "output_type": "execute_result"
    }
   ],
   "source": [
    "day_by_day_predictions_df"
   ]
  },
  {
   "cell_type": "code",
   "execution_count": 47,
   "metadata": {},
   "outputs": [],
   "source": [
    "\n",
    "model_id, dataset, inference = 'BSCTRFM_TPU_011', 'test', '024'\n",
    "executions = [0, 1, 2, 3, 4, 5, 6, 7, 8, 9]\n",
    "\n",
    "num_days = 28\n",
    "start_indexes = 24*np.arange(num_days)\n",
    "\n",
    "for execution in executions:\n",
    "    \n",
    "    flag = \\\n",
    "    global_df.model_id.eq(model_id) & \\\n",
    "    global_df.execution.eq(execution) & \\\n",
    "    global_df.dataset.eq(dataset) & \\\n",
    "    global_df.inference.eq(inference)\n",
    "\n",
    "    # reset index to use the same row, drop the index column\n",
    "    filtered_df = global_df[flag].reset_index(drop=True)\n",
    "    \n",
    "    for start_index in start_indexes:\n",
    "        \n",
    "        list_to_row = [\n",
    "            pd.to_datetime(filtered_df.iloc[start_index]['string_timestamps'][0]),\n",
    "            pd.to_datetime(filtered_df.iloc[start_index]['string_timestamps'][-1]),\n",
    "            filtered_df.iloc[start_index]['model_id'],\n",
    "            filtered_df.iloc[start_index]['execution'],\n",
    "            filtered_df.iloc[start_index]['mae'],\n",
    "            filtered_df.iloc[start_index]['rmse'],\n",
    "            filtered_df.iloc[start_index]['smape']\n",
    "        ]\n",
    "        \n",
    "        list_to_row_df = pd.DataFrame([list_to_row], columns=buffer_df_columns)\n",
    "\n",
    "        day_by_day_predictions_df = pd.concat([day_by_day_predictions_df, list_to_row_df])\n",
    "\n",
    "day_by_day_predictions_df = day_by_day_predictions_df.reset_index(drop=True)"
   ]
  },
  {
   "cell_type": "code",
   "execution_count": 48,
   "metadata": {},
   "outputs": [
    {
     "data": {
      "text/html": [
       "<div>\n",
       "<style scoped>\n",
       "    .dataframe tbody tr th:only-of-type {\n",
       "        vertical-align: middle;\n",
       "    }\n",
       "\n",
       "    .dataframe tbody tr th {\n",
       "        vertical-align: top;\n",
       "    }\n",
       "\n",
       "    .dataframe thead th {\n",
       "        text-align: right;\n",
       "    }\n",
       "</style>\n",
       "<table border=\"1\" class=\"dataframe\">\n",
       "  <thead>\n",
       "    <tr style=\"text-align: right;\">\n",
       "      <th></th>\n",
       "      <th>start_timestamp</th>\n",
       "      <th>end_timestamp</th>\n",
       "      <th>model_id</th>\n",
       "      <th>execution</th>\n",
       "      <th>mae</th>\n",
       "      <th>rmse</th>\n",
       "      <th>smape</th>\n",
       "    </tr>\n",
       "  </thead>\n",
       "  <tbody>\n",
       "    <tr>\n",
       "      <th>0</th>\n",
       "      <td>2018-05-14 23:00:00</td>\n",
       "      <td>2018-05-15 22:00:00</td>\n",
       "      <td>BSCTRFM_TPU_011</td>\n",
       "      <td>0</td>\n",
       "      <td>109.123205</td>\n",
       "      <td>146.486437</td>\n",
       "      <td>0.038758</td>\n",
       "    </tr>\n",
       "    <tr>\n",
       "      <th>1</th>\n",
       "      <td>2018-05-15 23:00:00</td>\n",
       "      <td>2018-05-16 22:00:00</td>\n",
       "      <td>BSCTRFM_TPU_011</td>\n",
       "      <td>0</td>\n",
       "      <td>90.000387</td>\n",
       "      <td>115.694452</td>\n",
       "      <td>0.032139</td>\n",
       "    </tr>\n",
       "    <tr>\n",
       "      <th>2</th>\n",
       "      <td>2018-05-16 23:00:00</td>\n",
       "      <td>2018-05-17 22:00:00</td>\n",
       "      <td>BSCTRFM_TPU_011</td>\n",
       "      <td>0</td>\n",
       "      <td>110.370862</td>\n",
       "      <td>142.735858</td>\n",
       "      <td>0.038335</td>\n",
       "    </tr>\n",
       "    <tr>\n",
       "      <th>3</th>\n",
       "      <td>2018-05-17 23:00:00</td>\n",
       "      <td>2018-05-18 22:00:00</td>\n",
       "      <td>BSCTRFM_TPU_011</td>\n",
       "      <td>0</td>\n",
       "      <td>62.592673</td>\n",
       "      <td>73.603474</td>\n",
       "      <td>0.023556</td>\n",
       "    </tr>\n",
       "    <tr>\n",
       "      <th>4</th>\n",
       "      <td>2018-05-18 23:00:00</td>\n",
       "      <td>2018-05-19 22:00:00</td>\n",
       "      <td>BSCTRFM_TPU_011</td>\n",
       "      <td>0</td>\n",
       "      <td>160.378849</td>\n",
       "      <td>207.757680</td>\n",
       "      <td>0.057703</td>\n",
       "    </tr>\n",
       "    <tr>\n",
       "      <th>...</th>\n",
       "      <td>...</td>\n",
       "      <td>...</td>\n",
       "      <td>...</td>\n",
       "      <td>...</td>\n",
       "      <td>...</td>\n",
       "      <td>...</td>\n",
       "      <td>...</td>\n",
       "    </tr>\n",
       "    <tr>\n",
       "      <th>275</th>\n",
       "      <td>2018-06-06 23:00:00</td>\n",
       "      <td>2018-06-07 22:00:00</td>\n",
       "      <td>BSCTRFM_TPU_011</td>\n",
       "      <td>9</td>\n",
       "      <td>53.397563</td>\n",
       "      <td>72.454433</td>\n",
       "      <td>0.019158</td>\n",
       "    </tr>\n",
       "    <tr>\n",
       "      <th>276</th>\n",
       "      <td>2018-06-07 23:00:00</td>\n",
       "      <td>2018-06-08 22:00:00</td>\n",
       "      <td>BSCTRFM_TPU_011</td>\n",
       "      <td>9</td>\n",
       "      <td>153.315137</td>\n",
       "      <td>181.741249</td>\n",
       "      <td>0.054060</td>\n",
       "    </tr>\n",
       "    <tr>\n",
       "      <th>277</th>\n",
       "      <td>2018-06-08 23:00:00</td>\n",
       "      <td>2018-06-09 22:00:00</td>\n",
       "      <td>BSCTRFM_TPU_011</td>\n",
       "      <td>9</td>\n",
       "      <td>138.157958</td>\n",
       "      <td>162.042527</td>\n",
       "      <td>0.051972</td>\n",
       "    </tr>\n",
       "    <tr>\n",
       "      <th>278</th>\n",
       "      <td>2018-06-09 23:00:00</td>\n",
       "      <td>2018-06-10 22:00:00</td>\n",
       "      <td>BSCTRFM_TPU_011</td>\n",
       "      <td>9</td>\n",
       "      <td>60.418738</td>\n",
       "      <td>73.855813</td>\n",
       "      <td>0.023666</td>\n",
       "    </tr>\n",
       "    <tr>\n",
       "      <th>279</th>\n",
       "      <td>2018-06-10 23:00:00</td>\n",
       "      <td>2018-06-11 22:00:00</td>\n",
       "      <td>BSCTRFM_TPU_011</td>\n",
       "      <td>9</td>\n",
       "      <td>98.312386</td>\n",
       "      <td>110.866597</td>\n",
       "      <td>0.038712</td>\n",
       "    </tr>\n",
       "  </tbody>\n",
       "</table>\n",
       "<p>280 rows × 7 columns</p>\n",
       "</div>"
      ],
      "text/plain": [
       "        start_timestamp       end_timestamp         model_id execution  \\\n",
       "0   2018-05-14 23:00:00 2018-05-15 22:00:00  BSCTRFM_TPU_011         0   \n",
       "1   2018-05-15 23:00:00 2018-05-16 22:00:00  BSCTRFM_TPU_011         0   \n",
       "2   2018-05-16 23:00:00 2018-05-17 22:00:00  BSCTRFM_TPU_011         0   \n",
       "3   2018-05-17 23:00:00 2018-05-18 22:00:00  BSCTRFM_TPU_011         0   \n",
       "4   2018-05-18 23:00:00 2018-05-19 22:00:00  BSCTRFM_TPU_011         0   \n",
       "..                  ...                 ...              ...       ...   \n",
       "275 2018-06-06 23:00:00 2018-06-07 22:00:00  BSCTRFM_TPU_011         9   \n",
       "276 2018-06-07 23:00:00 2018-06-08 22:00:00  BSCTRFM_TPU_011         9   \n",
       "277 2018-06-08 23:00:00 2018-06-09 22:00:00  BSCTRFM_TPU_011         9   \n",
       "278 2018-06-09 23:00:00 2018-06-10 22:00:00  BSCTRFM_TPU_011         9   \n",
       "279 2018-06-10 23:00:00 2018-06-11 22:00:00  BSCTRFM_TPU_011         9   \n",
       "\n",
       "            mae        rmse     smape  \n",
       "0    109.123205  146.486437  0.038758  \n",
       "1     90.000387  115.694452  0.032139  \n",
       "2    110.370862  142.735858  0.038335  \n",
       "3     62.592673   73.603474  0.023556  \n",
       "4    160.378849  207.757680  0.057703  \n",
       "..          ...         ...       ...  \n",
       "275   53.397563   72.454433  0.019158  \n",
       "276  153.315137  181.741249  0.054060  \n",
       "277  138.157958  162.042527  0.051972  \n",
       "278   60.418738   73.855813  0.023666  \n",
       "279   98.312386  110.866597  0.038712  \n",
       "\n",
       "[280 rows x 7 columns]"
      ]
     },
     "execution_count": 48,
     "metadata": {},
     "output_type": "execute_result"
    }
   ],
   "source": [
    "day_by_day_predictions_df"
   ]
  },
  {
   "cell_type": "code",
   "execution_count": null,
   "metadata": {},
   "outputs": [],
   "source": []
  },
  {
   "cell_type": "code",
   "execution_count": 49,
   "metadata": {},
   "outputs": [
    {
     "data": {
      "text/html": [
       "<div>\n",
       "<style scoped>\n",
       "    .dataframe tbody tr th:only-of-type {\n",
       "        vertical-align: middle;\n",
       "    }\n",
       "\n",
       "    .dataframe tbody tr th {\n",
       "        vertical-align: top;\n",
       "    }\n",
       "\n",
       "    .dataframe thead th {\n",
       "        text-align: right;\n",
       "    }\n",
       "</style>\n",
       "<table border=\"1\" class=\"dataframe\">\n",
       "  <thead>\n",
       "    <tr style=\"text-align: right;\">\n",
       "      <th></th>\n",
       "      <th>mae</th>\n",
       "      <th>rmse</th>\n",
       "      <th>smape</th>\n",
       "    </tr>\n",
       "    <tr>\n",
       "      <th>execution</th>\n",
       "      <th></th>\n",
       "      <th></th>\n",
       "      <th></th>\n",
       "    </tr>\n",
       "  </thead>\n",
       "  <tbody>\n",
       "    <tr>\n",
       "      <th>0</th>\n",
       "      <td>102.593828</td>\n",
       "      <td>127.342715</td>\n",
       "      <td>0.036752</td>\n",
       "    </tr>\n",
       "    <tr>\n",
       "      <th>1</th>\n",
       "      <td>101.749160</td>\n",
       "      <td>126.835146</td>\n",
       "      <td>0.036303</td>\n",
       "    </tr>\n",
       "    <tr>\n",
       "      <th>2</th>\n",
       "      <td>109.109167</td>\n",
       "      <td>134.945207</td>\n",
       "      <td>0.039349</td>\n",
       "    </tr>\n",
       "    <tr>\n",
       "      <th>3</th>\n",
       "      <td>102.966932</td>\n",
       "      <td>127.123587</td>\n",
       "      <td>0.037098</td>\n",
       "    </tr>\n",
       "    <tr>\n",
       "      <th>4</th>\n",
       "      <td>106.292597</td>\n",
       "      <td>131.230450</td>\n",
       "      <td>0.038244</td>\n",
       "    </tr>\n",
       "    <tr>\n",
       "      <th>5</th>\n",
       "      <td>121.988044</td>\n",
       "      <td>148.250277</td>\n",
       "      <td>0.043944</td>\n",
       "    </tr>\n",
       "    <tr>\n",
       "      <th>6</th>\n",
       "      <td>105.332637</td>\n",
       "      <td>130.514264</td>\n",
       "      <td>0.037660</td>\n",
       "    </tr>\n",
       "    <tr>\n",
       "      <th>7</th>\n",
       "      <td>98.939150</td>\n",
       "      <td>122.640985</td>\n",
       "      <td>0.035460</td>\n",
       "    </tr>\n",
       "    <tr>\n",
       "      <th>8</th>\n",
       "      <td>109.267071</td>\n",
       "      <td>134.786016</td>\n",
       "      <td>0.039057</td>\n",
       "    </tr>\n",
       "    <tr>\n",
       "      <th>9</th>\n",
       "      <td>120.149468</td>\n",
       "      <td>144.267681</td>\n",
       "      <td>0.043571</td>\n",
       "    </tr>\n",
       "  </tbody>\n",
       "</table>\n",
       "</div>"
      ],
      "text/plain": [
       "                  mae        rmse     smape\n",
       "execution                                  \n",
       "0          102.593828  127.342715  0.036752\n",
       "1          101.749160  126.835146  0.036303\n",
       "2          109.109167  134.945207  0.039349\n",
       "3          102.966932  127.123587  0.037098\n",
       "4          106.292597  131.230450  0.038244\n",
       "5          121.988044  148.250277  0.043944\n",
       "6          105.332637  130.514264  0.037660\n",
       "7           98.939150  122.640985  0.035460\n",
       "8          109.267071  134.786016  0.039057\n",
       "9          120.149468  144.267681  0.043571"
      ]
     },
     "execution_count": 49,
     "metadata": {},
     "output_type": "execute_result"
    }
   ],
   "source": [
    "# locating the model execution with the best performance\n",
    "day_by_day_predictions_df.groupby(['execution']).mean()"
   ]
  },
  {
   "cell_type": "code",
   "execution_count": 50,
   "metadata": {},
   "outputs": [],
   "source": [
    "# execution 7 presents the best error metrics!"
   ]
  },
  {
   "cell_type": "code",
   "execution_count": null,
   "metadata": {},
   "outputs": [],
   "source": []
  },
  {
   "cell_type": "code",
   "execution_count": 51,
   "metadata": {},
   "outputs": [
    {
     "data": {
      "text/plain": [
       "DatetimeIndex(['2018-05-14 23:00:00', '2018-05-15 23:00:00',\n",
       "               '2018-05-16 23:00:00', '2018-05-17 23:00:00',\n",
       "               '2018-05-18 23:00:00', '2018-05-19 23:00:00',\n",
       "               '2018-05-20 23:00:00', '2018-05-21 23:00:00',\n",
       "               '2018-05-22 23:00:00', '2018-05-23 23:00:00',\n",
       "               '2018-05-24 23:00:00', '2018-05-25 23:00:00',\n",
       "               '2018-05-26 23:00:00', '2018-05-27 23:00:00',\n",
       "               '2018-05-28 23:00:00', '2018-05-29 23:00:00',\n",
       "               '2018-05-30 23:00:00', '2018-05-31 23:00:00',\n",
       "               '2018-06-01 23:00:00', '2018-06-02 23:00:00',\n",
       "               '2018-06-03 23:00:00', '2018-06-04 23:00:00',\n",
       "               '2018-06-05 23:00:00', '2018-06-06 23:00:00',\n",
       "               '2018-06-07 23:00:00', '2018-06-08 23:00:00',\n",
       "               '2018-06-09 23:00:00', '2018-06-10 23:00:00'],\n",
       "              dtype='datetime64[ns]', name='start_timestamp', freq=None)"
      ]
     },
     "execution_count": 51,
     "metadata": {},
     "output_type": "execute_result"
    }
   ],
   "source": [
    "# get the time line, on a daily basis, from the grouped dataframe\n",
    "day_by_day_predictions_df.groupby(['start_timestamp']).mean().index"
   ]
  },
  {
   "cell_type": "code",
   "execution_count": null,
   "metadata": {},
   "outputs": [],
   "source": []
  },
  {
   "cell_type": "code",
   "execution_count": 52,
   "metadata": {},
   "outputs": [],
   "source": [
    "# compare metrics: BSCTRFM average predictions vs. ARIMA\n",
    "# express them as percentage for tabulation"
   ]
  },
  {
   "cell_type": "code",
   "execution_count": 53,
   "metadata": {},
   "outputs": [],
   "source": [
    "# get a metric average (on the 10 executions) for a given 24-hour interval\n",
    "bsctrfm_average_one_week_mae_mean = day_by_day_predictions_df.groupby(['start_timestamp']).mean()['mae'][:7]"
   ]
  },
  {
   "cell_type": "code",
   "execution_count": 55,
   "metadata": {},
   "outputs": [
    {
     "name": "stdout",
     "output_type": "stream",
     "text": [
      "98.0120\n",
      "69.7494\n",
      "121.9528\n",
      "65.9552\n",
      "138.2748\n",
      "119.1735\n",
      "50.1857\n"
     ]
    }
   ],
   "source": [
    "for x in bsctrfm_average_one_week_mae_mean:\n",
    "    print('{:0.4f}'.format(x))"
   ]
  },
  {
   "cell_type": "code",
   "execution_count": 56,
   "metadata": {},
   "outputs": [],
   "source": [
    "bsctrfm_average_one_week_mae_std = day_by_day_predictions_df.groupby(['start_timestamp']).std()['mae'][:7]"
   ]
  },
  {
   "cell_type": "code",
   "execution_count": 57,
   "metadata": {},
   "outputs": [
    {
     "name": "stdout",
     "output_type": "stream",
     "text": [
      "15.1866\n",
      "16.6103\n",
      "10.0949\n",
      "11.4839\n",
      "25.6004\n",
      "33.1681\n",
      "9.6781\n"
     ]
    }
   ],
   "source": [
    "for x in bsctrfm_average_one_week_mae_std:\n",
    "    print('{:0.4f}'.format(x))"
   ]
  },
  {
   "cell_type": "code",
   "execution_count": 58,
   "metadata": {},
   "outputs": [],
   "source": [
    "bsctrfm_average_one_week_rmse_mean = day_by_day_predictions_df.groupby(['start_timestamp']).mean()['rmse'][:7]"
   ]
  },
  {
   "cell_type": "code",
   "execution_count": 59,
   "metadata": {},
   "outputs": [
    {
     "name": "stdout",
     "output_type": "stream",
     "text": [
      "127.4635\n",
      "89.5919\n",
      "150.1624\n",
      "79.5432\n",
      "176.9964\n",
      "140.0774\n",
      "65.5064\n"
     ]
    }
   ],
   "source": [
    "for x in bsctrfm_average_one_week_rmse_mean:\n",
    "    print('{:0.4f}'.format(x))"
   ]
  },
  {
   "cell_type": "code",
   "execution_count": 60,
   "metadata": {},
   "outputs": [],
   "source": [
    "bsctrfm_average_one_week_rmse_std = day_by_day_predictions_df.groupby(['start_timestamp']).std()['rmse'][:7]"
   ]
  },
  {
   "cell_type": "code",
   "execution_count": 61,
   "metadata": {},
   "outputs": [
    {
     "name": "stdout",
     "output_type": "stream",
     "text": [
      "17.8284\n",
      "20.8463\n",
      "13.0129\n",
      "13.1284\n",
      "33.3925\n",
      "39.3061\n",
      "14.2024\n"
     ]
    }
   ],
   "source": [
    "for x in bsctrfm_average_one_week_rmse_std:\n",
    "    print('{:0.4f}'.format(x))"
   ]
  },
  {
   "cell_type": "code",
   "execution_count": 62,
   "metadata": {},
   "outputs": [],
   "source": [
    "bsctrfm_average_one_week_smape_mean = 100*day_by_day_predictions_df.groupby(['start_timestamp']).mean()['smape'][:7]"
   ]
  },
  {
   "cell_type": "code",
   "execution_count": 63,
   "metadata": {},
   "outputs": [
    {
     "name": "stdout",
     "output_type": "stream",
     "text": [
      "3.5497\n",
      "2.5155\n",
      "4.3103\n",
      "2.5464\n",
      "4.9897\n",
      "4.6401\n",
      "1.8822\n"
     ]
    }
   ],
   "source": [
    "for x in bsctrfm_average_one_week_smape_mean:\n",
    "    print('{:0.4f}'.format(x))"
   ]
  },
  {
   "cell_type": "code",
   "execution_count": 64,
   "metadata": {},
   "outputs": [],
   "source": [
    "bsctrfm_average_one_week_smape_std = 100*day_by_day_predictions_df.groupby(['start_timestamp']).std()['smape'][:7]"
   ]
  },
  {
   "cell_type": "code",
   "execution_count": 65,
   "metadata": {},
   "outputs": [
    {
     "name": "stdout",
     "output_type": "stream",
     "text": [
      "0.5502\n",
      "0.5738\n",
      "0.3610\n",
      "0.4579\n",
      "0.9020\n",
      "1.2906\n",
      "0.3484\n"
     ]
    }
   ],
   "source": [
    "for x in bsctrfm_average_one_week_smape_std:\n",
    "    print('{:0.4f}'.format(x))"
   ]
  },
  {
   "cell_type": "code",
   "execution_count": null,
   "metadata": {},
   "outputs": [],
   "source": []
  },
  {
   "cell_type": "code",
   "execution_count": 66,
   "metadata": {},
   "outputs": [],
   "source": [
    "baseline_mae_pct = -100*(arima_one_week_mae - bsctrfm_average_one_week_mae_mean)/arima_one_week_mae"
   ]
  },
  {
   "cell_type": "code",
   "execution_count": 67,
   "metadata": {},
   "outputs": [
    {
     "name": "stdout",
     "output_type": "stream",
     "text": [
      "-39.00\n",
      "-30.80\n",
      "34.39\n",
      "-7.35\n",
      "137.19\n",
      "-4.33\n",
      "-23.94\n"
     ]
    }
   ],
   "source": [
    "for x in baseline_mae_pct:\n",
    "    print('{:0.2f}'.format(x))"
   ]
  },
  {
   "cell_type": "code",
   "execution_count": 68,
   "metadata": {},
   "outputs": [],
   "source": [
    "baseline_rmse_pct = -100*(arima_one_week_rmse - bsctrfm_average_one_week_rmse_mean)/arima_one_week_rmse"
   ]
  },
  {
   "cell_type": "code",
   "execution_count": 69,
   "metadata": {},
   "outputs": [
    {
     "name": "stdout",
     "output_type": "stream",
     "text": [
      "-37.96\n",
      "-23.84\n",
      "43.76\n",
      "-7.53\n",
      "147.52\n",
      "-3.38\n",
      "-13.18\n"
     ]
    }
   ],
   "source": [
    "for x in baseline_rmse_pct:\n",
    "    print('{:0.2f}'.format(x))"
   ]
  },
  {
   "cell_type": "code",
   "execution_count": 70,
   "metadata": {},
   "outputs": [],
   "source": [
    "baseline_smape_pct = -100*(arima_one_week_smape - bsctrfm_average_one_week_smape_mean)/arima_one_week_smape"
   ]
  },
  {
   "cell_type": "code",
   "execution_count": 71,
   "metadata": {},
   "outputs": [
    {
     "name": "stdout",
     "output_type": "stream",
     "text": [
      "-38.96\n",
      "-41.65\n",
      "17.43\n",
      "-12.05\n",
      "101.81\n",
      "-4.12\n",
      "-31.18\n"
     ]
    }
   ],
   "source": [
    "for x in baseline_smape_pct:\n",
    "    print('{:0.2f}'.format(x))"
   ]
  },
  {
   "cell_type": "code",
   "execution_count": null,
   "metadata": {},
   "outputs": [],
   "source": []
  },
  {
   "cell_type": "code",
   "execution_count": null,
   "metadata": {},
   "outputs": [],
   "source": []
  },
  {
   "cell_type": "code",
   "execution_count": 60,
   "metadata": {},
   "outputs": [
    {
     "data": {
      "text/html": [
       "\n",
       "\n",
       "\n",
       "\n",
       "\n",
       "\n",
       "  <div class=\"bk-root\" id=\"6a591214-5331-48f6-b4b0-2b39ab0ac0cd\" data-root-id=\"1866\"></div>\n"
      ]
     },
     "metadata": {},
     "output_type": "display_data"
    },
    {
     "data": {
      "application/javascript": [
       "(function(root) {\n",
       "  function embed_document(root) {\n",
       "    \n",
       "  var docs_json = {\"57c0a1b2-61e1-4c1d-bcff-a866ad42fdce\":{\"roots\":{\"references\":[{\"attributes\":{\"below\":[{\"id\":\"1877\",\"type\":\"DatetimeAxis\"}],\"center\":[{\"id\":\"1881\",\"type\":\"Grid\"},{\"id\":\"1886\",\"type\":\"Grid\"},{\"id\":\"1910\",\"type\":\"Span\"}],\"left\":[{\"id\":\"1882\",\"type\":\"LinearAxis\"}],\"plot_height\":320,\"plot_width\":960,\"renderers\":[{\"id\":\"1903\",\"type\":\"GlyphRenderer\"},{\"id\":\"1908\",\"type\":\"GlyphRenderer\"}],\"title\":{\"id\":\"1867\",\"type\":\"Title\"},\"toolbar\":{\"id\":\"1893\",\"type\":\"Toolbar\"},\"toolbar_location\":null,\"x_range\":{\"id\":\"1869\",\"type\":\"DataRange1d\"},\"x_scale\":{\"id\":\"1873\",\"type\":\"LinearScale\"},\"y_range\":{\"id\":\"1871\",\"type\":\"DataRange1d\"},\"y_scale\":{\"id\":\"1875\",\"type\":\"LinearScale\"}},\"id\":\"1866\",\"subtype\":\"Figure\",\"type\":\"Plot\"},{\"attributes\":{\"fill_color\":{\"value\":null},\"x\":{\"field\":\"x\"},\"y\":{\"field\":\"y\"}},\"id\":\"1901\",\"type\":\"Circle\"},{\"attributes\":{\"source\":{\"id\":\"1900\",\"type\":\"ColumnDataSource\"}},\"id\":\"1904\",\"type\":\"CDSView\"},{\"attributes\":{\"fill_alpha\":{\"value\":0.1},\"fill_color\":{\"value\":\"#1f77b4\"},\"line_alpha\":{\"value\":0.1},\"line_color\":{\"value\":\"#1f77b4\"},\"x\":{\"field\":\"x\"},\"y\":{\"field\":\"y\"}},\"id\":\"1902\",\"type\":\"Circle\"},{\"attributes\":{\"mantissas\":[1,2,5],\"max_interval\":500.0,\"num_minor_ticks\":0},\"id\":\"1976\",\"type\":\"AdaptiveTicker\"},{\"attributes\":{},\"id\":\"1975\",\"type\":\"BasicTickFormatter\"},{\"attributes\":{\"months\":[0,2,4,6,8,10]},\"id\":\"1984\",\"type\":\"MonthsTicker\"},{\"attributes\":{\"active_drag\":\"auto\",\"active_inspect\":\"auto\",\"active_multi\":null,\"active_scroll\":\"auto\",\"active_tap\":\"auto\",\"tools\":[{\"id\":\"1887\",\"type\":\"PanTool\"},{\"id\":\"1888\",\"type\":\"WheelZoomTool\"},{\"id\":\"1889\",\"type\":\"BoxZoomTool\"},{\"id\":\"1890\",\"type\":\"SaveTool\"},{\"id\":\"1891\",\"type\":\"ResetTool\"},{\"id\":\"1892\",\"type\":\"HelpTool\"}]},\"id\":\"1893\",\"type\":\"Toolbar\"},{\"attributes\":{},\"id\":\"1973\",\"type\":\"DatetimeTickFormatter\"},{\"attributes\":{\"months\":[0,4,8]},\"id\":\"1985\",\"type\":\"MonthsTicker\"},{\"attributes\":{\"x\":{\"field\":\"x\"},\"y\":{\"field\":\"y\"}},\"id\":\"1906\",\"type\":\"Line\"},{\"attributes\":{},\"id\":\"1887\",\"type\":\"PanTool\"},{\"attributes\":{\"months\":[0,6]},\"id\":\"1986\",\"type\":\"MonthsTicker\"},{\"attributes\":{},\"id\":\"1989\",\"type\":\"Selection\"},{\"attributes\":{\"text\":\"BSCTRFM Performance: MAE for 28 Consecutive 24-hour Prediction Intervals.\",\"text_font_size\":{\"value\":\"14pt\"}},\"id\":\"1867\",\"type\":\"Title\"},{\"attributes\":{},\"id\":\"1888\",\"type\":\"WheelZoomTool\"},{\"attributes\":{},\"id\":\"1987\",\"type\":\"YearsTicker\"},{\"attributes\":{},\"id\":\"1873\",\"type\":\"LinearScale\"},{\"attributes\":{\"days\":[1,4,7,10,13,16,19,22,25,28]},\"id\":\"1980\",\"type\":\"DaysTicker\"},{\"attributes\":{\"callback\":null},\"id\":\"1869\",\"type\":\"DataRange1d\"},{\"attributes\":{\"overlay\":{\"id\":\"1992\",\"type\":\"BoxAnnotation\"}},\"id\":\"1889\",\"type\":\"BoxZoomTool\"},{\"attributes\":{},\"id\":\"1988\",\"type\":\"UnionRenderers\"},{\"attributes\":{},\"id\":\"1990\",\"type\":\"UnionRenderers\"},{\"attributes\":{},\"id\":\"1890\",\"type\":\"SaveTool\"},{\"attributes\":{\"callback\":null,\"data\":{\"x\":{\"__ndarray__\":\"AACYHA42dkIAAFiCYDZ2QgAAGOiyNnZCAADYTQU3dkIAAJizVzd2QgAAWBmqN3ZCAAAYf/w3dkIAANjkTjh2QgAAmEqhOHZCAABYsPM4dkIAABgWRjl2QgAA2HuYOXZCAACY4eo5dkIAAFhHPTp2QgAAGK2POnZCAADYEuI6dkIAAJh4NDt2QgAAWN6GO3ZCAAAYRNk7dkIAANipKzx2QgAAmA9+PHZCAABYddA8dkIAABjbIj12QgAA2EB1PXZCAACYpsc9dkIAAFgMGj52QgAAGHJsPnZCAADY174+dkI=\",\"dtype\":\"float64\",\"shape\":[28]},\"y\":{\"__ndarray__\":\"meVjFcWAWEBUJSym9m9RQAjfvDr7fF5AlHvNxSJ9UEDI3in4ykhhQC0fqxAby11AjrMP38QXSUAZiGKjEvdTQOrkqn0/kVlAx/rKtN+EYEBgJ1dtkRRYQHYZUCCQWEpAyOPLYG5PVUB6gbsIYv5jQBXULK+92GtA6hztFkIbb0DWC9xFDK9mQCEiIuJnAmBAEFg51EwJWkB25IRYFdlQQPEU1CzOnVZAEpKmlPcYVECVq/b0HrhNQA2kAzAhx0lAws9Dft3TY0A4TF3O/otfQKOCmuVe6UlAkqv29H8gU0A=\",\"dtype\":\"float64\",\"shape\":[28]}},\"selected\":{\"id\":\"1989\",\"type\":\"Selection\"},\"selection_policy\":{\"id\":\"1988\",\"type\":\"UnionRenderers\"}},\"id\":\"1900\",\"type\":\"ColumnDataSource\"},{\"attributes\":{},\"id\":\"1991\",\"type\":\"Selection\"},{\"attributes\":{},\"id\":\"1891\",\"type\":\"ResetTool\"},{\"attributes\":{\"days\":[1,2,3,4,5,6,7,8,9,10,11,12,13,14,15,16,17,18,19,20,21,22,23,24,25,26,27,28,29,30,31]},\"id\":\"1979\",\"type\":\"DaysTicker\"},{\"attributes\":{\"bottom_units\":\"screen\",\"fill_alpha\":{\"value\":0.5},\"fill_color\":{\"value\":\"lightgrey\"},\"left_units\":\"screen\",\"level\":\"overlay\",\"line_alpha\":{\"value\":1.0},\"line_color\":{\"value\":\"black\"},\"line_dash\":[4,4],\"line_width\":{\"value\":2},\"render_mode\":\"css\",\"right_units\":\"screen\",\"top_units\":\"screen\"},\"id\":\"1992\",\"type\":\"BoxAnnotation\"},{\"attributes\":{\"callback\":null},\"id\":\"1871\",\"type\":\"DataRange1d\"},{\"attributes\":{\"data_source\":{\"id\":\"1900\",\"type\":\"ColumnDataSource\"},\"glyph\":{\"id\":\"1901\",\"type\":\"Circle\"},\"hover_glyph\":null,\"muted_glyph\":null,\"nonselection_glyph\":{\"id\":\"1902\",\"type\":\"Circle\"},\"selection_glyph\":null,\"view\":{\"id\":\"1904\",\"type\":\"CDSView\"}},\"id\":\"1903\",\"type\":\"GlyphRenderer\"},{\"attributes\":{},\"id\":\"1892\",\"type\":\"HelpTool\"},{\"attributes\":{},\"id\":\"1875\",\"type\":\"LinearScale\"},{\"attributes\":{\"axis_label\":\"Date\",\"axis_label_text_font_size\":{\"value\":\"14pt\"},\"formatter\":{\"id\":\"1973\",\"type\":\"DatetimeTickFormatter\"},\"major_label_text_font_size\":{\"value\":\"12pt\"},\"ticker\":{\"id\":\"1878\",\"type\":\"DatetimeTicker\"}},\"id\":\"1877\",\"type\":\"DatetimeAxis\"},{\"attributes\":{\"base\":60,\"mantissas\":[1,2,5,10,15,20,30],\"max_interval\":1800000.0,\"min_interval\":1000.0,\"num_minor_ticks\":0},\"id\":\"1977\",\"type\":\"AdaptiveTicker\"},{\"attributes\":{\"dimension\":1,\"grid_line_alpha\":0.3,\"ticker\":{\"id\":\"1883\",\"type\":\"BasicTicker\"}},\"id\":\"1886\",\"type\":\"Grid\"},{\"attributes\":{\"days\":[1,15]},\"id\":\"1982\",\"type\":\"DaysTicker\"},{\"attributes\":{\"num_minor_ticks\":5,\"tickers\":[{\"id\":\"1976\",\"type\":\"AdaptiveTicker\"},{\"id\":\"1977\",\"type\":\"AdaptiveTicker\"},{\"id\":\"1978\",\"type\":\"AdaptiveTicker\"},{\"id\":\"1979\",\"type\":\"DaysTicker\"},{\"id\":\"1980\",\"type\":\"DaysTicker\"},{\"id\":\"1981\",\"type\":\"DaysTicker\"},{\"id\":\"1982\",\"type\":\"DaysTicker\"},{\"id\":\"1983\",\"type\":\"MonthsTicker\"},{\"id\":\"1984\",\"type\":\"MonthsTicker\"},{\"id\":\"1985\",\"type\":\"MonthsTicker\"},{\"id\":\"1986\",\"type\":\"MonthsTicker\"},{\"id\":\"1987\",\"type\":\"YearsTicker\"}]},\"id\":\"1878\",\"type\":\"DatetimeTicker\"},{\"attributes\":{\"line_dash\":[6],\"line_width\":{\"value\":2},\"location\":96.03572718752135},\"id\":\"1910\",\"type\":\"Span\"},{\"attributes\":{\"callback\":null,\"data\":{\"x\":{\"__ndarray__\":\"AACYHA42dkIAAFiCYDZ2QgAAGOiyNnZCAADYTQU3dkIAAJizVzd2QgAAWBmqN3ZCAAAYf/w3dkIAANjkTjh2QgAAmEqhOHZCAABYsPM4dkIAABgWRjl2QgAA2HuYOXZCAACY4eo5dkIAAFhHPTp2QgAAGK2POnZCAADYEuI6dkIAAJh4NDt2QgAAWN6GO3ZCAAAYRNk7dkIAANipKzx2QgAAmA9+PHZCAABYddA8dkIAABjbIj12QgAA2EB1PXZCAACYpsc9dkIAAFgMGj52QgAAGHJsPnZCAADY174+dkI=\",\"dtype\":\"float64\",\"shape\":[28]},\"y\":{\"__ndarray__\":\"meVjFcWAWEBUJSym9m9RQAjfvDr7fF5AlHvNxSJ9UEDI3in4ykhhQC0fqxAby11AjrMP38QXSUAZiGKjEvdTQOrkqn0/kVlAx/rKtN+EYEBgJ1dtkRRYQHYZUCCQWEpAyOPLYG5PVUB6gbsIYv5jQBXULK+92GtA6hztFkIbb0DWC9xFDK9mQCEiIuJnAmBAEFg51EwJWkB25IRYFdlQQPEU1CzOnVZAEpKmlPcYVECVq/b0HrhNQA2kAzAhx0lAws9Dft3TY0A4TF3O/otfQKOCmuVe6UlAkqv29H8gU0A=\",\"dtype\":\"float64\",\"shape\":[28]}},\"selected\":{\"id\":\"1991\",\"type\":\"Selection\"},\"selection_policy\":{\"id\":\"1990\",\"type\":\"UnionRenderers\"}},\"id\":\"1905\",\"type\":\"ColumnDataSource\"},{\"attributes\":{\"days\":[1,8,15,22]},\"id\":\"1981\",\"type\":\"DaysTicker\"},{\"attributes\":{\"months\":[0,1,2,3,4,5,6,7,8,9,10,11]},\"id\":\"1983\",\"type\":\"MonthsTicker\"},{\"attributes\":{\"grid_line_alpha\":0.3,\"ticker\":{\"id\":\"1878\",\"type\":\"DatetimeTicker\"}},\"id\":\"1881\",\"type\":\"Grid\"},{\"attributes\":{\"base\":24,\"mantissas\":[1,2,4,6,8,12],\"max_interval\":43200000.0,\"min_interval\":3600000.0,\"num_minor_ticks\":0},\"id\":\"1978\",\"type\":\"AdaptiveTicker\"},{\"attributes\":{},\"id\":\"1883\",\"type\":\"BasicTicker\"},{\"attributes\":{\"line_alpha\":0.1,\"line_color\":\"#1f77b4\",\"x\":{\"field\":\"x\"},\"y\":{\"field\":\"y\"}},\"id\":\"1907\",\"type\":\"Line\"},{\"attributes\":{\"source\":{\"id\":\"1905\",\"type\":\"ColumnDataSource\"}},\"id\":\"1909\",\"type\":\"CDSView\"},{\"attributes\":{\"axis_label\":\"MAE [KW]\",\"axis_label_text_font_size\":{\"value\":\"14pt\"},\"formatter\":{\"id\":\"1975\",\"type\":\"BasicTickFormatter\"},\"major_label_text_font_size\":{\"value\":\"12pt\"},\"ticker\":{\"id\":\"1883\",\"type\":\"BasicTicker\"}},\"id\":\"1882\",\"type\":\"LinearAxis\"},{\"attributes\":{\"data_source\":{\"id\":\"1905\",\"type\":\"ColumnDataSource\"},\"glyph\":{\"id\":\"1906\",\"type\":\"Line\"},\"hover_glyph\":null,\"muted_glyph\":null,\"nonselection_glyph\":{\"id\":\"1907\",\"type\":\"Line\"},\"selection_glyph\":null,\"view\":{\"id\":\"1909\",\"type\":\"CDSView\"}},\"id\":\"1908\",\"type\":\"GlyphRenderer\"}],\"root_ids\":[\"1866\"]},\"title\":\"Bokeh Application\",\"version\":\"1.4.0\"}};\n",
       "  var render_items = [{\"docid\":\"57c0a1b2-61e1-4c1d-bcff-a866ad42fdce\",\"roots\":{\"1866\":\"6a591214-5331-48f6-b4b0-2b39ab0ac0cd\"}}];\n",
       "  root.Bokeh.embed.embed_items_notebook(docs_json, render_items);\n",
       "\n",
       "  }\n",
       "  if (root.Bokeh !== undefined) {\n",
       "    embed_document(root);\n",
       "  } else {\n",
       "    var attempts = 0;\n",
       "    var timer = setInterval(function(root) {\n",
       "      if (root.Bokeh !== undefined) {\n",
       "        clearInterval(timer);\n",
       "        embed_document(root);\n",
       "      } else {\n",
       "        attempts++;\n",
       "        if (attempts > 100) {\n",
       "          clearInterval(timer);\n",
       "          console.log(\"Bokeh: ERROR: Unable to run BokehJS code because BokehJS library is missing\");\n",
       "        }\n",
       "      }\n",
       "    }, 10, root)\n",
       "  }\n",
       "})(window);"
      ],
      "application/vnd.bokehjs_exec.v0+json": ""
     },
     "metadata": {
      "application/vnd.bokehjs_exec.v0+json": {
       "id": "1866"
      }
     },
     "output_type": "display_data"
    }
   ],
   "source": [
    "size = 4\n",
    "\n",
    "plots['bsctrfm_week_metric'] = figure(\n",
    "    x_axis_type='datetime',\n",
    "    plot_width=960,\n",
    "    plot_height=320,\n",
    "    title='BSCTRFM Performance: {} for {} Consecutive 24-hour Prediction Intervals.'\\\n",
    "    .format('MAE', num_days),\n",
    "    toolbar_location=None,\n",
    ")\n",
    "\n",
    "plots['bsctrfm_week_metric'].grid.grid_line_alpha=0.3\n",
    "\n",
    "# a custom x range to visuallly improve the the plot\n",
    "# plots['bsctrfm_week_metric'].x_range = Range1d(\n",
    "#     start=pd.to_datetime('2018-05-02 16:00:00'),\n",
    "#     end=pd.to_datetime('2018-06-01 16:00:00')\n",
    "# )\n",
    "\n",
    "plots['bsctrfm_week_metric'].xaxis.axis_label = 'Date'\n",
    "plots['bsctrfm_week_metric'].yaxis.axis_label = 'MAE [KW]'\n",
    "\n",
    "plots['bsctrfm_week_metric'].title.text_font_size = '14pt'\n",
    "\n",
    "plots['bsctrfm_week_metric'].xaxis.axis_label_text_font_size = \"14pt\"\n",
    "plots['bsctrfm_week_metric'].yaxis.axis_label_text_font_size = \"14pt\"\n",
    "\n",
    "plots['bsctrfm_week_metric'].xaxis.major_label_text_font_size = \"12pt\"\n",
    "plots['bsctrfm_week_metric'].yaxis.major_label_text_font_size = \"12pt\"\n",
    "\n",
    "\n",
    "plots['bsctrfm_week_metric'].circle(\n",
    "    x=day_by_day_predictions_df.groupby(['start_timestamp']).mean().index,\n",
    "    y=day_by_day_predictions_df.groupby(['start_timestamp']).mean()['mae'],\n",
    "    color='black',\n",
    "    size=size,\n",
    "    fill_color=None,\n",
    ")\n",
    "plots['bsctrfm_week_metric'].line(\n",
    "    x=day_by_day_predictions_df.groupby(['start_timestamp']).mean().index,\n",
    "    y=day_by_day_predictions_df.groupby(['start_timestamp']).mean()['mae'],\n",
    "    color='black',\n",
    ")\n",
    "\n",
    "arima_one_week_mae_average = Span(\n",
    "    location=np.mean(np.array(arima_one_week_mae)),\n",
    "    dimension='width',\n",
    "    line_color='black',\n",
    "    line_dash='dashed',\n",
    "    line_width=2)\n",
    "\n",
    "plots['bsctrfm_week_metric'].add_layout(arima_one_week_mae_average)\n",
    "\n",
    "show(plots['bsctrfm_week_metric'])"
   ]
  },
  {
   "cell_type": "code",
   "execution_count": 61,
   "metadata": {},
   "outputs": [
    {
     "data": {
      "text/html": [
       "\n",
       "\n",
       "\n",
       "\n",
       "\n",
       "\n",
       "  <div class=\"bk-root\" id=\"82a843ca-3413-4e4b-8a6f-28ba90af09c4\" data-root-id=\"2125\"></div>\n"
      ]
     },
     "metadata": {},
     "output_type": "display_data"
    },
    {
     "data": {
      "application/javascript": [
       "(function(root) {\n",
       "  function embed_document(root) {\n",
       "    \n",
       "  var docs_json = {\"a4120625-c4b3-4843-831f-b073f138605d\":{\"roots\":{\"references\":[{\"attributes\":{\"below\":[{\"id\":\"2136\",\"type\":\"DatetimeAxis\"}],\"center\":[{\"id\":\"2140\",\"type\":\"Grid\"},{\"id\":\"2145\",\"type\":\"Grid\"},{\"id\":\"2169\",\"type\":\"Span\"}],\"left\":[{\"id\":\"2141\",\"type\":\"LinearAxis\"}],\"plot_height\":320,\"plot_width\":960,\"renderers\":[{\"id\":\"2162\",\"type\":\"GlyphRenderer\"},{\"id\":\"2167\",\"type\":\"GlyphRenderer\"}],\"title\":{\"id\":\"2126\",\"type\":\"Title\"},\"toolbar\":{\"id\":\"2152\",\"type\":\"Toolbar\"},\"toolbar_location\":null,\"x_range\":{\"id\":\"2128\",\"type\":\"DataRange1d\"},\"x_scale\":{\"id\":\"2132\",\"type\":\"LinearScale\"},\"y_range\":{\"id\":\"2130\",\"type\":\"DataRange1d\"},\"y_scale\":{\"id\":\"2134\",\"type\":\"LinearScale\"}},\"id\":\"2125\",\"subtype\":\"Figure\",\"type\":\"Plot\"},{\"attributes\":{\"line_alpha\":0.1,\"line_color\":\"#1f77b4\",\"x\":{\"field\":\"x\"},\"y\":{\"field\":\"y\"}},\"id\":\"2166\",\"type\":\"Line\"},{\"attributes\":{},\"id\":\"2268\",\"type\":\"YearsTicker\"},{\"attributes\":{\"dimension\":1,\"grid_line_alpha\":0.3,\"ticker\":{\"id\":\"2142\",\"type\":\"BasicTicker\"}},\"id\":\"2145\",\"type\":\"Grid\"},{\"attributes\":{\"source\":{\"id\":\"2159\",\"type\":\"ColumnDataSource\"}},\"id\":\"2163\",\"type\":\"CDSView\"},{\"attributes\":{},\"id\":\"2270\",\"type\":\"Selection\"},{\"attributes\":{},\"id\":\"2142\",\"type\":\"BasicTicker\"},{\"attributes\":{\"axis_label\":\"RMSE [KW]\",\"axis_label_text_font_size\":{\"value\":\"14pt\"},\"formatter\":{\"id\":\"2256\",\"type\":\"BasicTickFormatter\"},\"major_label_text_font_size\":{\"value\":\"12pt\"},\"ticker\":{\"id\":\"2142\",\"type\":\"BasicTicker\"}},\"id\":\"2141\",\"type\":\"LinearAxis\"},{\"attributes\":{\"callback\":null,\"data\":{\"x\":{\"__ndarray__\":\"AACYHA42dkIAAFiCYDZ2QgAAGOiyNnZCAADYTQU3dkIAAJizVzd2QgAAWBmqN3ZCAAAYf/w3dkIAANjkTjh2QgAAmEqhOHZCAABYsPM4dkIAABgWRjl2QgAA2HuYOXZCAACY4eo5dkIAAFhHPTp2QgAAGK2POnZCAADYEuI6dkIAAJh4NDt2QgAAWN6GO3ZCAAAYRNk7dkIAANipKzx2QgAAmA9+PHZCAABYddA8dkIAABjbIj12QgAA2EB1PXZCAACYpsc9dkIAAFgMGj52QgAAGHJsPnZCAADY174+dkI=\",\"dtype\":\"float64\",\"shape\":[28]},\"y\":{\"__ndarray__\":\"K/zhl6rdX0AeOJJ14mVWQFgSPZEyxWJANdihisTiU0Bbpagn4h9mQJ6/K9N5gmFAfLKeDmlgUEAS51bsoPhZQBKdKLlO0lxA6sidLrd9ZUAL3uhjIDFcQCRn9OzmjFBAAARzJCRWW0CSElhcUE9rQCYjrSwPB3JAP9FdSHoDckCql97hvh1sQFhHR35NRGJAYl7W4LOlXkD7MBVkEVdUQFt33ziJo15AkF0N+JQkWEBy3jJjGtZSQNv7/rWhwFBAevNOulP6ZkDNWtue6U1iQBhY6vlOiE9A87ZJTq4gVUA=\",\"dtype\":\"float64\",\"shape\":[28]}},\"selected\":{\"id\":\"2272\",\"type\":\"Selection\"},\"selection_policy\":{\"id\":\"2271\",\"type\":\"UnionRenderers\"}},\"id\":\"2164\",\"type\":\"ColumnDataSource\"},{\"attributes\":{},\"id\":\"2269\",\"type\":\"UnionRenderers\"},{\"attributes\":{\"months\":[0,1,2,3,4,5,6,7,8,9,10,11]},\"id\":\"2264\",\"type\":\"MonthsTicker\"},{\"attributes\":{},\"id\":\"2271\",\"type\":\"UnionRenderers\"},{\"attributes\":{\"mantissas\":[1,2,5],\"max_interval\":500.0,\"num_minor_ticks\":0},\"id\":\"2257\",\"type\":\"AdaptiveTicker\"},{\"attributes\":{},\"id\":\"2272\",\"type\":\"Selection\"},{\"attributes\":{\"data_source\":{\"id\":\"2164\",\"type\":\"ColumnDataSource\"},\"glyph\":{\"id\":\"2165\",\"type\":\"Line\"},\"hover_glyph\":null,\"muted_glyph\":null,\"nonselection_glyph\":{\"id\":\"2166\",\"type\":\"Line\"},\"selection_glyph\":null,\"view\":{\"id\":\"2168\",\"type\":\"CDSView\"}},\"id\":\"2167\",\"type\":\"GlyphRenderer\"},{\"attributes\":{\"bottom_units\":\"screen\",\"fill_alpha\":{\"value\":0.5},\"fill_color\":{\"value\":\"lightgrey\"},\"left_units\":\"screen\",\"level\":\"overlay\",\"line_alpha\":{\"value\":1.0},\"line_color\":{\"value\":\"black\"},\"line_dash\":[4,4],\"line_width\":{\"value\":2},\"render_mode\":\"css\",\"right_units\":\"screen\",\"top_units\":\"screen\"},\"id\":\"2273\",\"type\":\"BoxAnnotation\"},{\"attributes\":{\"active_drag\":\"auto\",\"active_inspect\":\"auto\",\"active_multi\":null,\"active_scroll\":\"auto\",\"active_tap\":\"auto\",\"tools\":[{\"id\":\"2146\",\"type\":\"PanTool\"},{\"id\":\"2147\",\"type\":\"WheelZoomTool\"},{\"id\":\"2148\",\"type\":\"BoxZoomTool\"},{\"id\":\"2149\",\"type\":\"SaveTool\"},{\"id\":\"2150\",\"type\":\"ResetTool\"},{\"id\":\"2151\",\"type\":\"HelpTool\"}]},\"id\":\"2152\",\"type\":\"Toolbar\"},{\"attributes\":{\"data_source\":{\"id\":\"2159\",\"type\":\"ColumnDataSource\"},\"glyph\":{\"id\":\"2160\",\"type\":\"Circle\"},\"hover_glyph\":null,\"muted_glyph\":null,\"nonselection_glyph\":{\"id\":\"2161\",\"type\":\"Circle\"},\"selection_glyph\":null,\"view\":{\"id\":\"2163\",\"type\":\"CDSView\"}},\"id\":\"2162\",\"type\":\"GlyphRenderer\"},{\"attributes\":{\"axis_label\":\"Date\",\"axis_label_text_font_size\":{\"value\":\"14pt\"},\"formatter\":{\"id\":\"2254\",\"type\":\"DatetimeTickFormatter\"},\"major_label_text_font_size\":{\"value\":\"12pt\"},\"ticker\":{\"id\":\"2137\",\"type\":\"DatetimeTicker\"}},\"id\":\"2136\",\"type\":\"DatetimeAxis\"},{\"attributes\":{\"base\":60,\"mantissas\":[1,2,5,10,15,20,30],\"max_interval\":1800000.0,\"min_interval\":1000.0,\"num_minor_ticks\":0},\"id\":\"2258\",\"type\":\"AdaptiveTicker\"},{\"attributes\":{},\"id\":\"2146\",\"type\":\"PanTool\"},{\"attributes\":{\"base\":24,\"mantissas\":[1,2,4,6,8,12],\"max_interval\":43200000.0,\"min_interval\":3600000.0,\"num_minor_ticks\":0},\"id\":\"2259\",\"type\":\"AdaptiveTicker\"},{\"attributes\":{\"line_dash\":[6],\"line_width\":{\"value\":2},\"location\":115.07131474356186},\"id\":\"2169\",\"type\":\"Span\"},{\"attributes\":{\"callback\":null,\"data\":{\"x\":{\"__ndarray__\":\"AACYHA42dkIAAFiCYDZ2QgAAGOiyNnZCAADYTQU3dkIAAJizVzd2QgAAWBmqN3ZCAAAYf/w3dkIAANjkTjh2QgAAmEqhOHZCAABYsPM4dkIAABgWRjl2QgAA2HuYOXZCAACY4eo5dkIAAFhHPTp2QgAAGK2POnZCAADYEuI6dkIAAJh4NDt2QgAAWN6GO3ZCAAAYRNk7dkIAANipKzx2QgAAmA9+PHZCAABYddA8dkIAABjbIj12QgAA2EB1PXZCAACYpsc9dkIAAFgMGj52QgAAGHJsPnZCAADY174+dkI=\",\"dtype\":\"float64\",\"shape\":[28]},\"y\":{\"__ndarray__\":\"K/zhl6rdX0AeOJJ14mVWQFgSPZEyxWJANdihisTiU0Bbpagn4h9mQJ6/K9N5gmFAfLKeDmlgUEAS51bsoPhZQBKdKLlO0lxA6sidLrd9ZUAL3uhjIDFcQCRn9OzmjFBAAARzJCRWW0CSElhcUE9rQCYjrSwPB3JAP9FdSHoDckCql97hvh1sQFhHR35NRGJAYl7W4LOlXkD7MBVkEVdUQFt33ziJo15AkF0N+JQkWEBy3jJjGtZSQNv7/rWhwFBAevNOulP6ZkDNWtue6U1iQBhY6vlOiE9A87ZJTq4gVUA=\",\"dtype\":\"float64\",\"shape\":[28]}},\"selected\":{\"id\":\"2270\",\"type\":\"Selection\"},\"selection_policy\":{\"id\":\"2269\",\"type\":\"UnionRenderers\"}},\"id\":\"2159\",\"type\":\"ColumnDataSource\"},{\"attributes\":{\"x\":{\"field\":\"x\"},\"y\":{\"field\":\"y\"}},\"id\":\"2165\",\"type\":\"Line\"},{\"attributes\":{\"text\":\"BSCTRFM Performance: RMSE for 28 Consecutive 24-hour Prediction Intervals.\",\"text_font_size\":{\"value\":\"14pt\"}},\"id\":\"2126\",\"type\":\"Title\"},{\"attributes\":{},\"id\":\"2147\",\"type\":\"WheelZoomTool\"},{\"attributes\":{\"days\":[1,2,3,4,5,6,7,8,9,10,11,12,13,14,15,16,17,18,19,20,21,22,23,24,25,26,27,28,29,30,31]},\"id\":\"2260\",\"type\":\"DaysTicker\"},{\"attributes\":{},\"id\":\"2132\",\"type\":\"LinearScale\"},{\"attributes\":{},\"id\":\"2256\",\"type\":\"BasicTickFormatter\"},{\"attributes\":{\"callback\":null},\"id\":\"2128\",\"type\":\"DataRange1d\"},{\"attributes\":{\"fill_color\":{\"value\":null},\"x\":{\"field\":\"x\"},\"y\":{\"field\":\"y\"}},\"id\":\"2160\",\"type\":\"Circle\"},{\"attributes\":{\"overlay\":{\"id\":\"2273\",\"type\":\"BoxAnnotation\"}},\"id\":\"2148\",\"type\":\"BoxZoomTool\"},{\"attributes\":{\"grid_line_alpha\":0.3,\"ticker\":{\"id\":\"2137\",\"type\":\"DatetimeTicker\"}},\"id\":\"2140\",\"type\":\"Grid\"},{\"attributes\":{},\"id\":\"2149\",\"type\":\"SaveTool\"},{\"attributes\":{\"num_minor_ticks\":5,\"tickers\":[{\"id\":\"2257\",\"type\":\"AdaptiveTicker\"},{\"id\":\"2258\",\"type\":\"AdaptiveTicker\"},{\"id\":\"2259\",\"type\":\"AdaptiveTicker\"},{\"id\":\"2260\",\"type\":\"DaysTicker\"},{\"id\":\"2261\",\"type\":\"DaysTicker\"},{\"id\":\"2262\",\"type\":\"DaysTicker\"},{\"id\":\"2263\",\"type\":\"DaysTicker\"},{\"id\":\"2264\",\"type\":\"MonthsTicker\"},{\"id\":\"2265\",\"type\":\"MonthsTicker\"},{\"id\":\"2266\",\"type\":\"MonthsTicker\"},{\"id\":\"2267\",\"type\":\"MonthsTicker\"},{\"id\":\"2268\",\"type\":\"YearsTicker\"}]},\"id\":\"2137\",\"type\":\"DatetimeTicker\"},{\"attributes\":{},\"id\":\"2150\",\"type\":\"ResetTool\"},{\"attributes\":{\"days\":[1,4,7,10,13,16,19,22,25,28]},\"id\":\"2261\",\"type\":\"DaysTicker\"},{\"attributes\":{\"source\":{\"id\":\"2164\",\"type\":\"ColumnDataSource\"}},\"id\":\"2168\",\"type\":\"CDSView\"},{\"attributes\":{\"months\":[0,6]},\"id\":\"2267\",\"type\":\"MonthsTicker\"},{\"attributes\":{\"callback\":null},\"id\":\"2130\",\"type\":\"DataRange1d\"},{\"attributes\":{},\"id\":\"2151\",\"type\":\"HelpTool\"},{\"attributes\":{\"days\":[1,8,15,22]},\"id\":\"2262\",\"type\":\"DaysTicker\"},{\"attributes\":{\"months\":[0,4,8]},\"id\":\"2266\",\"type\":\"MonthsTicker\"},{\"attributes\":{},\"id\":\"2134\",\"type\":\"LinearScale\"},{\"attributes\":{},\"id\":\"2254\",\"type\":\"DatetimeTickFormatter\"},{\"attributes\":{\"days\":[1,15]},\"id\":\"2263\",\"type\":\"DaysTicker\"},{\"attributes\":{\"months\":[0,2,4,6,8,10]},\"id\":\"2265\",\"type\":\"MonthsTicker\"},{\"attributes\":{\"fill_alpha\":{\"value\":0.1},\"fill_color\":{\"value\":\"#1f77b4\"},\"line_alpha\":{\"value\":0.1},\"line_color\":{\"value\":\"#1f77b4\"},\"x\":{\"field\":\"x\"},\"y\":{\"field\":\"y\"}},\"id\":\"2161\",\"type\":\"Circle\"}],\"root_ids\":[\"2125\"]},\"title\":\"Bokeh Application\",\"version\":\"1.4.0\"}};\n",
       "  var render_items = [{\"docid\":\"a4120625-c4b3-4843-831f-b073f138605d\",\"roots\":{\"2125\":\"82a843ca-3413-4e4b-8a6f-28ba90af09c4\"}}];\n",
       "  root.Bokeh.embed.embed_items_notebook(docs_json, render_items);\n",
       "\n",
       "  }\n",
       "  if (root.Bokeh !== undefined) {\n",
       "    embed_document(root);\n",
       "  } else {\n",
       "    var attempts = 0;\n",
       "    var timer = setInterval(function(root) {\n",
       "      if (root.Bokeh !== undefined) {\n",
       "        clearInterval(timer);\n",
       "        embed_document(root);\n",
       "      } else {\n",
       "        attempts++;\n",
       "        if (attempts > 100) {\n",
       "          clearInterval(timer);\n",
       "          console.log(\"Bokeh: ERROR: Unable to run BokehJS code because BokehJS library is missing\");\n",
       "        }\n",
       "      }\n",
       "    }, 10, root)\n",
       "  }\n",
       "})(window);"
      ],
      "application/vnd.bokehjs_exec.v0+json": ""
     },
     "metadata": {
      "application/vnd.bokehjs_exec.v0+json": {
       "id": "2125"
      }
     },
     "output_type": "display_data"
    }
   ],
   "source": [
    "size = 4\n",
    "\n",
    "plots['bsctrfm_week_metric'] = figure(\n",
    "    x_axis_type='datetime',\n",
    "    plot_width=960,\n",
    "    plot_height=320,\n",
    "    title='BSCTRFM Performance: {} for {} Consecutive 24-hour Prediction Intervals.'\\\n",
    "    .format('RMSE', num_days),\n",
    "    toolbar_location=None,\n",
    ")\n",
    "\n",
    "plots['bsctrfm_week_metric'].grid.grid_line_alpha=0.3\n",
    "\n",
    "# a custom x range to visuallly improve the the plot\n",
    "# plots['bsctrfm_week_metric'].x_range = Range1d(\n",
    "#     start=pd.to_datetime('2018-05-02 16:00:00'),\n",
    "#     end=pd.to_datetime('2018-06-01 16:00:00')\n",
    "# )\n",
    "\n",
    "plots['bsctrfm_week_metric'].title.text_font_size = '14pt'\n",
    "\n",
    "plots['bsctrfm_week_metric'].xaxis.axis_label_text_font_size = \"14pt\"\n",
    "plots['bsctrfm_week_metric'].yaxis.axis_label_text_font_size = \"14pt\"\n",
    "\n",
    "plots['bsctrfm_week_metric'].xaxis.major_label_text_font_size = \"12pt\"\n",
    "plots['bsctrfm_week_metric'].yaxis.major_label_text_font_size = \"12pt\"\n",
    "\n",
    "plots['bsctrfm_week_metric'].xaxis.axis_label = 'Date'\n",
    "plots['bsctrfm_week_metric'].yaxis.axis_label = 'RMSE [KW]'\n",
    "\n",
    "plots['bsctrfm_week_metric'].circle(\n",
    "    x=day_by_day_predictions_df.groupby(['start_timestamp']).mean().index,\n",
    "    y=day_by_day_predictions_df.groupby(['start_timestamp']).mean()['rmse'],\n",
    "    color='black',\n",
    "    size=size,\n",
    "    fill_color=None,\n",
    ")\n",
    "plots['bsctrfm_week_metric'].line(\n",
    "    x=day_by_day_predictions_df.groupby(['start_timestamp']).mean().index,\n",
    "    y=day_by_day_predictions_df.groupby(['start_timestamp']).mean()['rmse'],\n",
    "    color='black',\n",
    ")\n",
    "\n",
    "arima_one_week_rmse_average = Span(\n",
    "    location=np.mean(np.array(arima_one_week_rmse)),\n",
    "    dimension='width',\n",
    "    line_color='black',\n",
    "    line_dash='dashed',\n",
    "    line_width=2)\n",
    "\n",
    "plots['bsctrfm_week_metric'].add_layout(arima_one_week_rmse_average)\n",
    "\n",
    "\n",
    "show(plots['bsctrfm_week_metric'])"
   ]
  },
  {
   "cell_type": "code",
   "execution_count": 62,
   "metadata": {},
   "outputs": [
    {
     "data": {
      "text/html": [
       "\n",
       "\n",
       "\n",
       "\n",
       "\n",
       "\n",
       "  <div class=\"bk-root\" id=\"8ad3c308-db87-4af1-80af-94e37c1825e3\" data-root-id=\"2406\"></div>\n"
      ]
     },
     "metadata": {},
     "output_type": "display_data"
    },
    {
     "data": {
      "application/javascript": [
       "(function(root) {\n",
       "  function embed_document(root) {\n",
       "    \n",
       "  var docs_json = {\"4accef1d-ede6-4f16-8fa4-79e90d59c31c\":{\"roots\":{\"references\":[{\"attributes\":{\"below\":[{\"id\":\"2417\",\"type\":\"DatetimeAxis\"}],\"center\":[{\"id\":\"2421\",\"type\":\"Grid\"},{\"id\":\"2426\",\"type\":\"Grid\"},{\"id\":\"2450\",\"type\":\"Span\"}],\"left\":[{\"id\":\"2422\",\"type\":\"LinearAxis\"}],\"plot_height\":320,\"plot_width\":960,\"renderers\":[{\"id\":\"2443\",\"type\":\"GlyphRenderer\"},{\"id\":\"2448\",\"type\":\"GlyphRenderer\"}],\"title\":{\"id\":\"2407\",\"type\":\"Title\"},\"toolbar\":{\"id\":\"2433\",\"type\":\"Toolbar\"},\"toolbar_location\":null,\"x_range\":{\"id\":\"2409\",\"type\":\"DataRange1d\"},\"x_scale\":{\"id\":\"2413\",\"type\":\"LinearScale\"},\"y_range\":{\"id\":\"2411\",\"type\":\"DataRange1d\"},\"y_scale\":{\"id\":\"2415\",\"type\":\"LinearScale\"}},\"id\":\"2406\",\"subtype\":\"Figure\",\"type\":\"Plot\"},{\"attributes\":{\"dimension\":1,\"grid_line_alpha\":0.3,\"ticker\":{\"id\":\"2423\",\"type\":\"BasicTicker\"}},\"id\":\"2426\",\"type\":\"Grid\"},{\"attributes\":{\"source\":{\"id\":\"2440\",\"type\":\"ColumnDataSource\"}},\"id\":\"2444\",\"type\":\"CDSView\"},{\"attributes\":{\"months\":[0,4,8]},\"id\":\"2569\",\"type\":\"MonthsTicker\"},{\"attributes\":{},\"id\":\"2423\",\"type\":\"BasicTicker\"},{\"attributes\":{\"axis_label\":\"SMAPE [%]\",\"axis_label_text_font_size\":{\"value\":\"14pt\"},\"formatter\":{\"id\":\"2559\",\"type\":\"BasicTickFormatter\"},\"major_label_text_font_size\":{\"value\":\"12pt\"},\"ticker\":{\"id\":\"2423\",\"type\":\"BasicTicker\"}},\"id\":\"2422\",\"type\":\"LinearAxis\"},{\"attributes\":{\"months\":[0,6]},\"id\":\"2570\",\"type\":\"MonthsTicker\"},{\"attributes\":{},\"id\":\"2573\",\"type\":\"Selection\"},{\"attributes\":{\"fill_alpha\":{\"value\":0.1},\"fill_color\":{\"value\":\"#1f77b4\"},\"line_alpha\":{\"value\":0.1},\"line_color\":{\"value\":\"#1f77b4\"},\"x\":{\"field\":\"x\"},\"y\":{\"field\":\"y\"}},\"id\":\"2442\",\"type\":\"Circle\"},{\"attributes\":{\"line_alpha\":0.1,\"line_color\":\"#1f77b4\",\"x\":{\"field\":\"x\"},\"y\":{\"field\":\"y\"}},\"id\":\"2447\",\"type\":\"Line\"},{\"attributes\":{},\"id\":\"2571\",\"type\":\"YearsTicker\"},{\"attributes\":{\"callback\":null},\"id\":\"2409\",\"type\":\"DataRange1d\"},{\"attributes\":{\"source\":{\"id\":\"2445\",\"type\":\"ColumnDataSource\"}},\"id\":\"2449\",\"type\":\"CDSView\"},{\"attributes\":{},\"id\":\"2572\",\"type\":\"UnionRenderers\"},{\"attributes\":{\"days\":[1,2,3,4,5,6,7,8,9,10,11,12,13,14,15,16,17,18,19,20,21,22,23,24,25,26,27,28,29,30,31]},\"id\":\"2563\",\"type\":\"DaysTicker\"},{\"attributes\":{},\"id\":\"2574\",\"type\":\"UnionRenderers\"},{\"attributes\":{},\"id\":\"2557\",\"type\":\"DatetimeTickFormatter\"},{\"attributes\":{\"active_drag\":\"auto\",\"active_inspect\":\"auto\",\"active_multi\":null,\"active_scroll\":\"auto\",\"active_tap\":\"auto\",\"tools\":[{\"id\":\"2427\",\"type\":\"PanTool\"},{\"id\":\"2428\",\"type\":\"WheelZoomTool\"},{\"id\":\"2429\",\"type\":\"BoxZoomTool\"},{\"id\":\"2430\",\"type\":\"SaveTool\"},{\"id\":\"2431\",\"type\":\"ResetTool\"},{\"id\":\"2432\",\"type\":\"HelpTool\"}]},\"id\":\"2433\",\"type\":\"Toolbar\"},{\"attributes\":{\"fill_color\":{\"value\":null},\"x\":{\"field\":\"x\"},\"y\":{\"field\":\"y\"}},\"id\":\"2441\",\"type\":\"Circle\"},{\"attributes\":{},\"id\":\"2575\",\"type\":\"Selection\"},{\"attributes\":{\"days\":[1,8,15,22]},\"id\":\"2565\",\"type\":\"DaysTicker\"},{\"attributes\":{\"x\":{\"field\":\"x\"},\"y\":{\"field\":\"y\"}},\"id\":\"2446\",\"type\":\"Line\"},{\"attributes\":{\"mantissas\":[1,2,5],\"max_interval\":500.0,\"num_minor_ticks\":0},\"id\":\"2560\",\"type\":\"AdaptiveTicker\"},{\"attributes\":{\"bottom_units\":\"screen\",\"fill_alpha\":{\"value\":0.5},\"fill_color\":{\"value\":\"lightgrey\"},\"left_units\":\"screen\",\"level\":\"overlay\",\"line_alpha\":{\"value\":1.0},\"line_color\":{\"value\":\"black\"},\"line_dash\":[4,4],\"line_width\":{\"value\":2},\"render_mode\":\"css\",\"right_units\":\"screen\",\"top_units\":\"screen\"},\"id\":\"2576\",\"type\":\"BoxAnnotation\"},{\"attributes\":{\"text\":\"BSCTRFM Performance: SMAPE for 28 Consecutive 24-hour Prediction Intervals.\",\"text_font_size\":{\"value\":\"14pt\"}},\"id\":\"2407\",\"type\":\"Title\"},{\"attributes\":{\"callback\":null,\"data\":{\"x\":{\"__ndarray__\":\"AACYHA42dkIAAFiCYDZ2QgAAGOiyNnZCAADYTQU3dkIAAJizVzd2QgAAWBmqN3ZCAAAYf/w3dkIAANjkTjh2QgAAmEqhOHZCAABYsPM4dkIAABgWRjl2QgAA2HuYOXZCAACY4eo5dkIAAFhHPTp2QgAAGK2POnZCAADYEuI6dkIAAJh4NDt2QgAAWN6GO3ZCAAAYRNk7dkIAANipKzx2QgAAmA9+PHZCAABYddA8dkIAABjbIj12QgAA2EB1PXZCAACYpsc9dkIAAFgMGj52QgAAGHJsPnZCAADY174+dkI=\",\"dtype\":\"float64\",\"shape\":[28]},\"y\":{\"__ndarray__\":\"vEeEgddlDECrUhk5yx8EQB06aUuzPRFAsVywkwNfBEBjQtQkbfUTQPbQSSuCjxJAu743t4Qd/j8Tzkin54gHQIFmNnP8hRFApOslEW2cEkBWEHYXPFkLQNaTa3EHw/8/bULILYlECUAJMY8gm5oVQFz/m//RDh1A2QljunO2IECjWnpwdpwXQCbXLDpjVBJA6jq2kmBBDkBFmLf3BlMFQBI3RuHK9AhAIgZvx4WAB0DjTajtt3MAQHXSX+xIJv0/Ui6gA2WHFkD3KAcpiDoTQPPMNyU5jwBA1IyfW27lCEA=\",\"dtype\":\"float64\",\"shape\":[28]}},\"selected\":{\"id\":\"2573\",\"type\":\"Selection\"},\"selection_policy\":{\"id\":\"2572\",\"type\":\"UnionRenderers\"}},\"id\":\"2440\",\"type\":\"ColumnDataSource\"},{\"attributes\":{},\"id\":\"2427\",\"type\":\"PanTool\"},{\"attributes\":{\"days\":[1,4,7,10,13,16,19,22,25,28]},\"id\":\"2564\",\"type\":\"DaysTicker\"},{\"attributes\":{},\"id\":\"2428\",\"type\":\"WheelZoomTool\"},{\"attributes\":{\"data_source\":{\"id\":\"2440\",\"type\":\"ColumnDataSource\"},\"glyph\":{\"id\":\"2441\",\"type\":\"Circle\"},\"hover_glyph\":null,\"muted_glyph\":null,\"nonselection_glyph\":{\"id\":\"2442\",\"type\":\"Circle\"},\"selection_glyph\":null,\"view\":{\"id\":\"2444\",\"type\":\"CDSView\"}},\"id\":\"2443\",\"type\":\"GlyphRenderer\"},{\"attributes\":{\"overlay\":{\"id\":\"2576\",\"type\":\"BoxAnnotation\"}},\"id\":\"2429\",\"type\":\"BoxZoomTool\"},{\"attributes\":{\"data_source\":{\"id\":\"2445\",\"type\":\"ColumnDataSource\"},\"glyph\":{\"id\":\"2446\",\"type\":\"Line\"},\"hover_glyph\":null,\"muted_glyph\":null,\"nonselection_glyph\":{\"id\":\"2447\",\"type\":\"Line\"},\"selection_glyph\":null,\"view\":{\"id\":\"2449\",\"type\":\"CDSView\"}},\"id\":\"2448\",\"type\":\"GlyphRenderer\"},{\"attributes\":{},\"id\":\"2413\",\"type\":\"LinearScale\"},{\"attributes\":{},\"id\":\"2430\",\"type\":\"SaveTool\"},{\"attributes\":{\"base\":24,\"mantissas\":[1,2,4,6,8,12],\"max_interval\":43200000.0,\"min_interval\":3600000.0,\"num_minor_ticks\":0},\"id\":\"2562\",\"type\":\"AdaptiveTicker\"},{\"attributes\":{\"days\":[1,15]},\"id\":\"2566\",\"type\":\"DaysTicker\"},{\"attributes\":{},\"id\":\"2559\",\"type\":\"BasicTickFormatter\"},{\"attributes\":{},\"id\":\"2431\",\"type\":\"ResetTool\"},{\"attributes\":{\"months\":[0,1,2,3,4,5,6,7,8,9,10,11]},\"id\":\"2567\",\"type\":\"MonthsTicker\"},{\"attributes\":{\"line_dash\":[6],\"line_width\":{\"value\":2},\"location\":3.819868460700571},\"id\":\"2450\",\"type\":\"Span\"},{\"attributes\":{\"callback\":null},\"id\":\"2411\",\"type\":\"DataRange1d\"},{\"attributes\":{\"callback\":null,\"data\":{\"x\":{\"__ndarray__\":\"AACYHA42dkIAAFiCYDZ2QgAAGOiyNnZCAADYTQU3dkIAAJizVzd2QgAAWBmqN3ZCAAAYf/w3dkIAANjkTjh2QgAAmEqhOHZCAABYsPM4dkIAABgWRjl2QgAA2HuYOXZCAACY4eo5dkIAAFhHPTp2QgAAGK2POnZCAADYEuI6dkIAAJh4NDt2QgAAWN6GO3ZCAAAYRNk7dkIAANipKzx2QgAAmA9+PHZCAABYddA8dkIAABjbIj12QgAA2EB1PXZCAACYpsc9dkIAAFgMGj52QgAAGHJsPnZCAADY174+dkI=\",\"dtype\":\"float64\",\"shape\":[28]},\"y\":{\"__ndarray__\":\"vEeEgddlDECrUhk5yx8EQB06aUuzPRFAsVywkwNfBEBjQtQkbfUTQPbQSSuCjxJAu743t4Qd/j8Tzkin54gHQIFmNnP8hRFApOslEW2cEkBWEHYXPFkLQNaTa3EHw/8/bULILYlECUAJMY8gm5oVQFz/m//RDh1A2QljunO2IECjWnpwdpwXQCbXLDpjVBJA6jq2kmBBDkBFmLf3BlMFQBI3RuHK9AhAIgZvx4WAB0DjTajtt3MAQHXSX+xIJv0/Ui6gA2WHFkD3KAcpiDoTQPPMNyU5jwBA1IyfW27lCEA=\",\"dtype\":\"float64\",\"shape\":[28]}},\"selected\":{\"id\":\"2575\",\"type\":\"Selection\"},\"selection_policy\":{\"id\":\"2574\",\"type\":\"UnionRenderers\"}},\"id\":\"2445\",\"type\":\"ColumnDataSource\"},{\"attributes\":{\"base\":60,\"mantissas\":[1,2,5,10,15,20,30],\"max_interval\":1800000.0,\"min_interval\":1000.0,\"num_minor_ticks\":0},\"id\":\"2561\",\"type\":\"AdaptiveTicker\"},{\"attributes\":{},\"id\":\"2432\",\"type\":\"HelpTool\"},{\"attributes\":{\"months\":[0,2,4,6,8,10]},\"id\":\"2568\",\"type\":\"MonthsTicker\"},{\"attributes\":{},\"id\":\"2415\",\"type\":\"LinearScale\"},{\"attributes\":{\"grid_line_alpha\":0.3,\"ticker\":{\"id\":\"2418\",\"type\":\"DatetimeTicker\"}},\"id\":\"2421\",\"type\":\"Grid\"},{\"attributes\":{\"axis_label\":\"Date\",\"axis_label_text_font_size\":{\"value\":\"14pt\"},\"formatter\":{\"id\":\"2557\",\"type\":\"DatetimeTickFormatter\"},\"major_label_text_font_size\":{\"value\":\"12pt\"},\"ticker\":{\"id\":\"2418\",\"type\":\"DatetimeTicker\"}},\"id\":\"2417\",\"type\":\"DatetimeAxis\"},{\"attributes\":{\"num_minor_ticks\":5,\"tickers\":[{\"id\":\"2560\",\"type\":\"AdaptiveTicker\"},{\"id\":\"2561\",\"type\":\"AdaptiveTicker\"},{\"id\":\"2562\",\"type\":\"AdaptiveTicker\"},{\"id\":\"2563\",\"type\":\"DaysTicker\"},{\"id\":\"2564\",\"type\":\"DaysTicker\"},{\"id\":\"2565\",\"type\":\"DaysTicker\"},{\"id\":\"2566\",\"type\":\"DaysTicker\"},{\"id\":\"2567\",\"type\":\"MonthsTicker\"},{\"id\":\"2568\",\"type\":\"MonthsTicker\"},{\"id\":\"2569\",\"type\":\"MonthsTicker\"},{\"id\":\"2570\",\"type\":\"MonthsTicker\"},{\"id\":\"2571\",\"type\":\"YearsTicker\"}]},\"id\":\"2418\",\"type\":\"DatetimeTicker\"}],\"root_ids\":[\"2406\"]},\"title\":\"Bokeh Application\",\"version\":\"1.4.0\"}};\n",
       "  var render_items = [{\"docid\":\"4accef1d-ede6-4f16-8fa4-79e90d59c31c\",\"roots\":{\"2406\":\"8ad3c308-db87-4af1-80af-94e37c1825e3\"}}];\n",
       "  root.Bokeh.embed.embed_items_notebook(docs_json, render_items);\n",
       "\n",
       "  }\n",
       "  if (root.Bokeh !== undefined) {\n",
       "    embed_document(root);\n",
       "  } else {\n",
       "    var attempts = 0;\n",
       "    var timer = setInterval(function(root) {\n",
       "      if (root.Bokeh !== undefined) {\n",
       "        clearInterval(timer);\n",
       "        embed_document(root);\n",
       "      } else {\n",
       "        attempts++;\n",
       "        if (attempts > 100) {\n",
       "          clearInterval(timer);\n",
       "          console.log(\"Bokeh: ERROR: Unable to run BokehJS code because BokehJS library is missing\");\n",
       "        }\n",
       "      }\n",
       "    }, 10, root)\n",
       "  }\n",
       "})(window);"
      ],
      "application/vnd.bokehjs_exec.v0+json": ""
     },
     "metadata": {
      "application/vnd.bokehjs_exec.v0+json": {
       "id": "2406"
      }
     },
     "output_type": "display_data"
    }
   ],
   "source": [
    "size = 4\n",
    "\n",
    "plots['bsctrfm_week_metric'] = figure(\n",
    "    x_axis_type='datetime',\n",
    "    plot_width=960,\n",
    "    plot_height=320,\n",
    "    title='BSCTRFM Performance: {} for {} Consecutive 24-hour Prediction Intervals.'\\\n",
    "    .format('SMAPE', num_days),\n",
    "    toolbar_location=None,\n",
    ")\n",
    "\n",
    "plots['bsctrfm_week_metric'].grid.grid_line_alpha=0.3\n",
    "\n",
    "# a custom x range to visuallly improve the the plot\n",
    "# plots['bsctrfm_week_metric'].x_range = Range1d(\n",
    "#     start=pd.to_datetime('2018-05-02 16:00:00'),\n",
    "#     end=pd.to_datetime('2018-06-01 16:00:00')\n",
    "# )\n",
    "\n",
    "plots['bsctrfm_week_metric'].title.text_font_size = '14pt'\n",
    "\n",
    "plots['bsctrfm_week_metric'].xaxis.axis_label_text_font_size = \"14pt\"\n",
    "plots['bsctrfm_week_metric'].yaxis.axis_label_text_font_size = \"14pt\"\n",
    "\n",
    "plots['bsctrfm_week_metric'].xaxis.major_label_text_font_size = \"12pt\"\n",
    "plots['bsctrfm_week_metric'].yaxis.major_label_text_font_size = \"12pt\"\n",
    "\n",
    "plots['bsctrfm_week_metric'].xaxis.axis_label = 'Date'\n",
    "plots['bsctrfm_week_metric'].yaxis.axis_label = 'SMAPE [%]'\n",
    "\n",
    "# adjust SMAPE for percentage value\n",
    "plots['bsctrfm_week_metric'].circle(\n",
    "    x=day_by_day_predictions_df.groupby(['start_timestamp']).mean().index,\n",
    "    y=100*day_by_day_predictions_df.groupby(['start_timestamp']).mean()['smape'],\n",
    "    color='black',\n",
    "    size=size,\n",
    "    fill_color=None,\n",
    ")\n",
    "# adjust SMAPE for percentage value\n",
    "plots['bsctrfm_week_metric'].line(\n",
    "    x=day_by_day_predictions_df.groupby(['start_timestamp']).mean().index,\n",
    "    y=100*day_by_day_predictions_df.groupby(['start_timestamp']).mean()['smape'],\n",
    "    color='black',\n",
    ")\n",
    "\n",
    "arima_one_week_smape_average = Span(\n",
    "    location=np.mean(np.array(arima_one_week_smape)),\n",
    "    dimension='width',\n",
    "    line_color='black',\n",
    "    line_dash='dashed',\n",
    "    line_width=2)\n",
    "\n",
    "plots['bsctrfm_week_metric'].add_layout(arima_one_week_smape_average)\n",
    "\n",
    "\n",
    "show(plots['bsctrfm_week_metric'])"
   ]
  },
  {
   "cell_type": "code",
   "execution_count": 63,
   "metadata": {},
   "outputs": [
    {
     "data": {
      "text/html": [
       "\n",
       "\n",
       "\n",
       "\n",
       "\n",
       "\n",
       "  <div class=\"bk-root\" id=\"d0b50de6-1439-448a-abed-c36891741aae\" data-root-id=\"2709\"></div>\n"
      ]
     },
     "metadata": {},
     "output_type": "display_data"
    },
    {
     "data": {
      "application/javascript": [
       "(function(root) {\n",
       "  function embed_document(root) {\n",
       "    \n",
       "  var docs_json = {\"9ae9d7b3-e44a-4618-9fe5-ecfc40fb803a\":{\"roots\":{\"references\":[{\"attributes\":{\"below\":[{\"id\":\"2720\",\"type\":\"DatetimeAxis\"}],\"center\":[{\"id\":\"2724\",\"type\":\"Grid\"},{\"id\":\"2729\",\"type\":\"Grid\"},{\"id\":\"2753\",\"type\":\"Span\"}],\"left\":[{\"id\":\"2725\",\"type\":\"LinearAxis\"}],\"plot_height\":320,\"plot_width\":960,\"renderers\":[{\"id\":\"2746\",\"type\":\"GlyphRenderer\"},{\"id\":\"2751\",\"type\":\"GlyphRenderer\"}],\"title\":{\"id\":\"2710\",\"type\":\"Title\"},\"toolbar\":{\"id\":\"2736\",\"type\":\"Toolbar\"},\"toolbar_location\":null,\"x_range\":{\"id\":\"2712\",\"type\":\"DataRange1d\"},\"x_scale\":{\"id\":\"2716\",\"type\":\"LinearScale\"},\"y_range\":{\"id\":\"2714\",\"type\":\"DataRange1d\"},\"y_scale\":{\"id\":\"2718\",\"type\":\"LinearScale\"}},\"id\":\"2709\",\"subtype\":\"Figure\",\"type\":\"Plot\"},{\"attributes\":{},\"id\":\"2726\",\"type\":\"BasicTicker\"},{\"attributes\":{\"axis_label\":\"MAE [KW]\",\"axis_label_text_font_size\":{\"value\":\"14pt\"},\"formatter\":{\"id\":\"2884\",\"type\":\"BasicTickFormatter\"},\"major_label_text_font_size\":{\"value\":\"12pt\"},\"ticker\":{\"id\":\"2726\",\"type\":\"BasicTicker\"}},\"id\":\"2725\",\"type\":\"LinearAxis\"},{\"attributes\":{\"fill_alpha\":{\"value\":0.1},\"fill_color\":{\"value\":\"#1f77b4\"},\"line_alpha\":{\"value\":0.1},\"line_color\":{\"value\":\"#1f77b4\"},\"x\":{\"field\":\"x\"},\"y\":{\"field\":\"y\"}},\"id\":\"2745\",\"type\":\"Circle\"},{\"attributes\":{\"x\":{\"field\":\"x\"},\"y\":{\"field\":\"y\"}},\"id\":\"2749\",\"type\":\"Line\"},{\"attributes\":{\"data_source\":{\"id\":\"2743\",\"type\":\"ColumnDataSource\"},\"glyph\":{\"id\":\"2744\",\"type\":\"Circle\"},\"hover_glyph\":null,\"muted_glyph\":null,\"nonselection_glyph\":{\"id\":\"2745\",\"type\":\"Circle\"},\"selection_glyph\":null,\"view\":{\"id\":\"2747\",\"type\":\"CDSView\"}},\"id\":\"2746\",\"type\":\"GlyphRenderer\"},{\"attributes\":{\"active_drag\":\"auto\",\"active_inspect\":\"auto\",\"active_multi\":null,\"active_scroll\":\"auto\",\"active_tap\":\"auto\",\"tools\":[{\"id\":\"2730\",\"type\":\"PanTool\"},{\"id\":\"2731\",\"type\":\"WheelZoomTool\"},{\"id\":\"2732\",\"type\":\"BoxZoomTool\"},{\"id\":\"2733\",\"type\":\"SaveTool\"},{\"id\":\"2734\",\"type\":\"ResetTool\"},{\"id\":\"2735\",\"type\":\"HelpTool\"}]},\"id\":\"2736\",\"type\":\"Toolbar\"},{\"attributes\":{\"days\":[1,2,3,4,5,6,7,8,9,10,11,12,13,14,15,16,17,18,19,20,21,22,23,24,25,26,27,28,29,30,31]},\"id\":\"2888\",\"type\":\"DaysTicker\"},{\"attributes\":{\"days\":[1,4,7,10,13,16,19,22,25,28]},\"id\":\"2889\",\"type\":\"DaysTicker\"},{\"attributes\":{},\"id\":\"2882\",\"type\":\"DatetimeTickFormatter\"},{\"attributes\":{\"line_alpha\":0.1,\"line_color\":\"#1f77b4\",\"x\":{\"field\":\"x\"},\"y\":{\"field\":\"y\"}},\"id\":\"2750\",\"type\":\"Line\"},{\"attributes\":{},\"id\":\"2730\",\"type\":\"PanTool\"},{\"attributes\":{\"days\":[1,8,15,22]},\"id\":\"2890\",\"type\":\"DaysTicker\"},{\"attributes\":{},\"id\":\"2731\",\"type\":\"WheelZoomTool\"},{\"attributes\":{\"days\":[1,15]},\"id\":\"2891\",\"type\":\"DaysTicker\"},{\"attributes\":{\"text\":\"BSCTRFM Performance: MAE for 672 Consecutive 1-hour Rolling Predictions.\",\"text_font_size\":{\"value\":\"14pt\"}},\"id\":\"2710\",\"type\":\"Title\"},{\"attributes\":{\"overlay\":{\"id\":\"2901\",\"type\":\"BoxAnnotation\"}},\"id\":\"2732\",\"type\":\"BoxZoomTool\"},{\"attributes\":{\"months\":[0,1,2,3,4,5,6,7,8,9,10,11]},\"id\":\"2892\",\"type\":\"MonthsTicker\"},{\"attributes\":{},\"id\":\"2716\",\"type\":\"LinearScale\"},{\"attributes\":{\"line_dash\":[6],\"line_width\":{\"value\":2},\"location\":96.03572718752135},\"id\":\"2753\",\"type\":\"Span\"},{\"attributes\":{\"callback\":null},\"id\":\"2712\",\"type\":\"DataRange1d\"},{\"attributes\":{\"source\":{\"id\":\"2748\",\"type\":\"ColumnDataSource\"}},\"id\":\"2752\",\"type\":\"CDSView\"},{\"attributes\":{},\"id\":\"2733\",\"type\":\"SaveTool\"},{\"attributes\":{\"callback\":null,\"data\":{\"x\":[1526338800000.0,1526342400000.0,1526346000000.0,1526349600000.0,1526353200000.0,1526356800000.0,1526360400000.0,1526364000000.0,1526367600000.0,1526371200000.0,1526374800000.0,1526378400000.0,1526382000000.0,1526385600000.0,1526389200000.0,1526392800000.0,1526396400000.0,1526400000000.0,1526403600000.0,1526407200000.0,1526410800000.0,1526414400000.0,1526418000000.0,1526421600000.0,1526425200000.0,1526428800000.0,1526432400000.0,1526436000000.0,1526439600000.0,1526443200000.0,1526446800000.0,1526450400000.0,1526454000000.0,1526457600000.0,1526461200000.0,1526464800000.0,1526468400000.0,1526472000000.0,1526475600000.0,1526479200000.0,1526482800000.0,1526486400000.0,1526490000000.0,1526493600000.0,1526497200000.0,1526500800000.0,1526504400000.0,1526508000000.0,1526511600000.0,1526515200000.0,1526518800000.0,1526522400000.0,1526526000000.0,1526529600000.0,1526533200000.0,1526536800000.0,1526540400000.0,1526544000000.0,1526547600000.0,1526551200000.0,1526554800000.0,1526558400000.0,1526562000000.0,1526565600000.0,1526569200000.0,1526572800000.0,1526576400000.0,1526580000000.0,1526583600000.0,1526587200000.0,1526590800000.0,1526594400000.0,1526598000000.0,1526601600000.0,1526605200000.0,1526608800000.0,1526612400000.0,1526616000000.0,1526619600000.0,1526623200000.0,1526626800000.0,1526630400000.0,1526634000000.0,1526637600000.0,1526641200000.0,1526644800000.0,1526648400000.0,1526652000000.0,1526655600000.0,1526659200000.0,1526662800000.0,1526666400000.0,1526670000000.0,1526673600000.0,1526677200000.0,1526680800000.0,1526684400000.0,1526688000000.0,1526691600000.0,1526695200000.0,1526698800000.0,1526702400000.0,1526706000000.0,1526709600000.0,1526713200000.0,1526716800000.0,1526720400000.0,1526724000000.0,1526727600000.0,1526731200000.0,1526734800000.0,1526738400000.0,1526742000000.0,1526745600000.0,1526749200000.0,1526752800000.0,1526756400000.0,1526760000000.0,1526763600000.0,1526767200000.0,1526770800000.0,1526774400000.0,1526778000000.0,1526781600000.0,1526785200000.0,1526788800000.0,1526792400000.0,1526796000000.0,1526799600000.0,1526803200000.0,1526806800000.0,1526810400000.0,1526814000000.0,1526817600000.0,1526821200000.0,1526824800000.0,1526828400000.0,1526832000000.0,1526835600000.0,1526839200000.0,1526842800000.0,1526846400000.0,1526850000000.0,1526853600000.0,1526857200000.0,1526860800000.0,1526864400000.0,1526868000000.0,1526871600000.0,1526875200000.0,1526878800000.0,1526882400000.0,1526886000000.0,1526889600000.0,1526893200000.0,1526896800000.0,1526900400000.0,1526904000000.0,1526907600000.0,1526911200000.0,1526914800000.0,1526918400000.0,1526922000000.0,1526925600000.0,1526929200000.0,1526932800000.0,1526936400000.0,1526940000000.0,1526943600000.0,1526947200000.0,1526950800000.0,1526954400000.0,1526958000000.0,1526961600000.0,1526965200000.0,1526968800000.0,1526972400000.0,1526976000000.0,1526979600000.0,1526983200000.0,1526986800000.0,1526990400000.0,1526994000000.0,1526997600000.0,1527001200000.0,1527004800000.0,1527008400000.0,1527012000000.0,1527015600000.0,1527019200000.0,1527022800000.0,1527026400000.0,1527030000000.0,1527033600000.0,1527037200000.0,1527040800000.0,1527044400000.0,1527048000000.0,1527051600000.0,1527055200000.0,1527058800000.0,1527062400000.0,1527066000000.0,1527069600000.0,1527073200000.0,1527076800000.0,1527080400000.0,1527084000000.0,1527087600000.0,1527091200000.0,1527094800000.0,1527098400000.0,1527102000000.0,1527105600000.0,1527109200000.0,1527112800000.0,1527116400000.0,1527120000000.0,1527123600000.0,1527127200000.0,1527130800000.0,1527134400000.0,1527138000000.0,1527141600000.0,1527145200000.0,1527148800000.0,1527152400000.0,1527156000000.0,1527159600000.0,1527163200000.0,1527166800000.0,1527170400000.0,1527174000000.0,1527177600000.0,1527181200000.0,1527184800000.0,1527188400000.0,1527192000000.0,1527195600000.0,1527199200000.0,1527202800000.0,1527206400000.0,1527210000000.0,1527213600000.0,1527217200000.0,1527220800000.0,1527224400000.0,1527228000000.0,1527231600000.0,1527235200000.0,1527238800000.0,1527242400000.0,1527246000000.0,1527249600000.0,1527253200000.0,1527256800000.0,1527260400000.0,1527264000000.0,1527267600000.0,1527271200000.0,1527274800000.0,1527278400000.0,1527282000000.0,1527285600000.0,1527289200000.0,1527292800000.0,1527296400000.0,1527300000000.0,1527303600000.0,1527307200000.0,1527310800000.0,1527314400000.0,1527318000000.0,1527321600000.0,1527325200000.0,1527328800000.0,1527332400000.0,1527336000000.0,1527339600000.0,1527343200000.0,1527346800000.0,1527350400000.0,1527354000000.0,1527357600000.0,1527361200000.0,1527364800000.0,1527368400000.0,1527372000000.0,1527375600000.0,1527379200000.0,1527382800000.0,1527386400000.0,1527390000000.0,1527393600000.0,1527397200000.0,1527400800000.0,1527404400000.0,1527408000000.0,1527411600000.0,1527415200000.0,1527418800000.0,1527422400000.0,1527426000000.0,1527429600000.0,1527433200000.0,1527436800000.0,1527440400000.0,1527444000000.0,1527447600000.0,1527451200000.0,1527454800000.0,1527458400000.0,1527462000000.0,1527465600000.0,1527469200000.0,1527472800000.0,1527476400000.0,1527480000000.0,1527483600000.0,1527487200000.0,1527490800000.0,1527494400000.0,1527498000000.0,1527501600000.0,1527505200000.0,1527508800000.0,1527512400000.0,1527516000000.0,1527519600000.0,1527523200000.0,1527526800000.0,1527530400000.0,1527534000000.0,1527537600000.0,1527541200000.0,1527544800000.0,1527548400000.0,1527552000000.0,1527555600000.0,1527559200000.0,1527562800000.0,1527566400000.0,1527570000000.0,1527573600000.0,1527577200000.0,1527580800000.0,1527584400000.0,1527588000000.0,1527591600000.0,1527595200000.0,1527598800000.0,1527602400000.0,1527606000000.0,1527609600000.0,1527613200000.0,1527616800000.0,1527620400000.0,1527624000000.0,1527627600000.0,1527631200000.0,1527634800000.0,1527638400000.0,1527642000000.0,1527645600000.0,1527649200000.0,1527652800000.0,1527656400000.0,1527660000000.0,1527663600000.0,1527667200000.0,1527670800000.0,1527674400000.0,1527678000000.0,1527681600000.0,1527685200000.0,1527688800000.0,1527692400000.0,1527696000000.0,1527699600000.0,1527703200000.0,1527706800000.0,1527710400000.0,1527714000000.0,1527717600000.0,1527721200000.0,1527724800000.0,1527728400000.0,1527732000000.0,1527735600000.0,1527739200000.0,1527742800000.0,1527746400000.0,1527750000000.0,1527753600000.0,1527757200000.0,1527760800000.0,1527764400000.0,1527768000000.0,1527771600000.0,1527775200000.0,1527778800000.0,1527782400000.0,1527786000000.0,1527789600000.0,1527793200000.0,1527796800000.0,1527800400000.0,1527804000000.0,1527807600000.0,1527811200000.0,1527814800000.0,1527818400000.0,1527822000000.0,1527825600000.0,1527829200000.0,1527832800000.0,1527836400000.0,1527840000000.0,1527843600000.0,1527847200000.0,1527850800000.0,1527854400000.0,1527858000000.0,1527861600000.0,1527865200000.0,1527868800000.0,1527872400000.0,1527876000000.0,1527879600000.0,1527883200000.0,1527886800000.0,1527890400000.0,1527894000000.0,1527897600000.0,1527901200000.0,1527904800000.0,1527908400000.0,1527912000000.0,1527915600000.0,1527919200000.0,1527922800000.0,1527926400000.0,1527930000000.0,1527933600000.0,1527937200000.0,1527940800000.0,1527944400000.0,1527948000000.0,1527951600000.0,1527955200000.0,1527958800000.0,1527962400000.0,1527966000000.0,1527969600000.0,1527973200000.0,1527976800000.0,1527980400000.0,1527984000000.0,1527987600000.0,1527991200000.0,1527994800000.0,1527998400000.0,1528002000000.0,1528005600000.0,1528009200000.0,1528012800000.0,1528016400000.0,1528020000000.0,1528023600000.0,1528027200000.0,1528030800000.0,1528034400000.0,1528038000000.0,1528041600000.0,1528045200000.0,1528048800000.0,1528052400000.0,1528056000000.0,1528059600000.0,1528063200000.0,1528066800000.0,1528070400000.0,1528074000000.0,1528077600000.0,1528081200000.0,1528084800000.0,1528088400000.0,1528092000000.0,1528095600000.0,1528099200000.0,1528102800000.0,1528106400000.0,1528110000000.0,1528113600000.0,1528117200000.0,1528120800000.0,1528124400000.0,1528128000000.0,1528131600000.0,1528135200000.0,1528138800000.0,1528142400000.0,1528146000000.0,1528149600000.0,1528153200000.0,1528156800000.0,1528160400000.0,1528164000000.0,1528167600000.0,1528171200000.0,1528174800000.0,1528178400000.0,1528182000000.0,1528185600000.0,1528189200000.0,1528192800000.0,1528196400000.0,1528200000000.0,1528203600000.0,1528207200000.0,1528210800000.0,1528214400000.0,1528218000000.0,1528221600000.0,1528225200000.0,1528228800000.0,1528232400000.0,1528236000000.0,1528239600000.0,1528243200000.0,1528246800000.0,1528250400000.0,1528254000000.0,1528257600000.0,1528261200000.0,1528264800000.0,1528268400000.0,1528272000000.0,1528275600000.0,1528279200000.0,1528282800000.0,1528286400000.0,1528290000000.0,1528293600000.0,1528297200000.0,1528300800000.0,1528304400000.0,1528308000000.0,1528311600000.0,1528315200000.0,1528318800000.0,1528322400000.0,1528326000000.0,1528329600000.0,1528333200000.0,1528336800000.0,1528340400000.0,1528344000000.0,1528347600000.0,1528351200000.0,1528354800000.0,1528358400000.0,1528362000000.0,1528365600000.0,1528369200000.0,1528372800000.0,1528376400000.0,1528380000000.0,1528383600000.0,1528387200000.0,1528390800000.0,1528394400000.0,1528398000000.0,1528401600000.0,1528405200000.0,1528408800000.0,1528412400000.0,1528416000000.0,1528419600000.0,1528423200000.0,1528426800000.0,1528430400000.0,1528434000000.0,1528437600000.0,1528441200000.0,1528444800000.0,1528448400000.0,1528452000000.0,1528455600000.0,1528459200000.0,1528462800000.0,1528466400000.0,1528470000000.0,1528473600000.0,1528477200000.0,1528480800000.0,1528484400000.0,1528488000000.0,1528491600000.0,1528495200000.0,1528498800000.0,1528502400000.0,1528506000000.0,1528509600000.0,1528513200000.0,1528516800000.0,1528520400000.0,1528524000000.0,1528527600000.0,1528531200000.0,1528534800000.0,1528538400000.0,1528542000000.0,1528545600000.0,1528549200000.0,1528552800000.0,1528556400000.0,1528560000000.0,1528563600000.0,1528567200000.0,1528570800000.0,1528574400000.0,1528578000000.0,1528581600000.0,1528585200000.0,1528588800000.0,1528592400000.0,1528596000000.0,1528599600000.0,1528603200000.0,1528606800000.0,1528610400000.0,1528614000000.0,1528617600000.0,1528621200000.0,1528624800000.0,1528628400000.0,1528632000000.0,1528635600000.0,1528639200000.0,1528642800000.0,1528646400000.0,1528650000000.0,1528653600000.0,1528657200000.0,1528660800000.0,1528664400000.0,1528668000000.0,1528671600000.0,1528675200000.0,1528678800000.0,1528682400000.0,1528686000000.0,1528689600000.0,1528693200000.0,1528696800000.0,1528700400000.0,1528704000000.0,1528707600000.0,1528711200000.0,1528714800000.0,1528718400000.0,1528722000000.0,1528725600000.0,1528729200000.0,1528732800000.0,1528736400000.0,1528740000000.0,1528743600000.0,1528747200000.0,1528750800000.0,1528754400000.0],\"y\":{\"__ndarray__\":\"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\",\"dtype\":\"float64\",\"shape\":[672]}},\"selected\":{\"id\":\"2898\",\"type\":\"Selection\"},\"selection_policy\":{\"id\":\"2897\",\"type\":\"UnionRenderers\"}},\"id\":\"2743\",\"type\":\"ColumnDataSource\"},{\"attributes\":{\"months\":[0,2,4,6,8,10]},\"id\":\"2893\",\"type\":\"MonthsTicker\"},{\"attributes\":{},\"id\":\"2734\",\"type\":\"ResetTool\"},{\"attributes\":{\"months\":[0,4,8]},\"id\":\"2894\",\"type\":\"MonthsTicker\"},{\"attributes\":{\"months\":[0,6]},\"id\":\"2895\",\"type\":\"MonthsTicker\"},{\"attributes\":{},\"id\":\"2735\",\"type\":\"HelpTool\"},{\"attributes\":{},\"id\":\"2898\",\"type\":\"Selection\"},{\"attributes\":{\"source\":{\"id\":\"2743\",\"type\":\"ColumnDataSource\"}},\"id\":\"2747\",\"type\":\"CDSView\"},{\"attributes\":{},\"id\":\"2896\",\"type\":\"YearsTicker\"},{\"attributes\":{\"callback\":null},\"id\":\"2714\",\"type\":\"DataRange1d\"},{\"attributes\":{},\"id\":\"2897\",\"type\":\"UnionRenderers\"},{\"attributes\":{},\"id\":\"2718\",\"type\":\"LinearScale\"},{\"attributes\":{},\"id\":\"2884\",\"type\":\"BasicTickFormatter\"},{\"attributes\":{\"base\":24,\"mantissas\":[1,2,4,6,8,12],\"max_interval\":43200000.0,\"min_interval\":3600000.0,\"num_minor_ticks\":0},\"id\":\"2887\",\"type\":\"AdaptiveTicker\"},{\"attributes\":{},\"id\":\"2899\",\"type\":\"UnionRenderers\"},{\"attributes\":{\"axis_label\":\"Date\",\"axis_label_text_font_size\":{\"value\":\"14pt\"},\"formatter\":{\"id\":\"2882\",\"type\":\"DatetimeTickFormatter\"},\"major_label_text_font_size\":{\"value\":\"12pt\"},\"ticker\":{\"id\":\"2721\",\"type\":\"DatetimeTicker\"}},\"id\":\"2720\",\"type\":\"DatetimeAxis\"},{\"attributes\":{},\"id\":\"2900\",\"type\":\"Selection\"},{\"attributes\":{\"dimension\":1,\"grid_line_alpha\":0.3,\"ticker\":{\"id\":\"2726\",\"type\":\"BasicTicker\"}},\"id\":\"2729\",\"type\":\"Grid\"},{\"attributes\":{\"fill_color\":{\"value\":null},\"x\":{\"field\":\"x\"},\"y\":{\"field\":\"y\"}},\"id\":\"2744\",\"type\":\"Circle\"},{\"attributes\":{\"mantissas\":[1,2,5],\"max_interval\":500.0,\"num_minor_ticks\":0},\"id\":\"2885\",\"type\":\"AdaptiveTicker\"},{\"attributes\":{\"num_minor_ticks\":5,\"tickers\":[{\"id\":\"2885\",\"type\":\"AdaptiveTicker\"},{\"id\":\"2886\",\"type\":\"AdaptiveTicker\"},{\"id\":\"2887\",\"type\":\"AdaptiveTicker\"},{\"id\":\"2888\",\"type\":\"DaysTicker\"},{\"id\":\"2889\",\"type\":\"DaysTicker\"},{\"id\":\"2890\",\"type\":\"DaysTicker\"},{\"id\":\"2891\",\"type\":\"DaysTicker\"},{\"id\":\"2892\",\"type\":\"MonthsTicker\"},{\"id\":\"2893\",\"type\":\"MonthsTicker\"},{\"id\":\"2894\",\"type\":\"MonthsTicker\"},{\"id\":\"2895\",\"type\":\"MonthsTicker\"},{\"id\":\"2896\",\"type\":\"YearsTicker\"}]},\"id\":\"2721\",\"type\":\"DatetimeTicker\"},{\"attributes\":{\"bottom_units\":\"screen\",\"fill_alpha\":{\"value\":0.5},\"fill_color\":{\"value\":\"lightgrey\"},\"left_units\":\"screen\",\"level\":\"overlay\",\"line_alpha\":{\"value\":1.0},\"line_color\":{\"value\":\"black\"},\"line_dash\":[4,4],\"line_width\":{\"value\":2},\"render_mode\":\"css\",\"right_units\":\"screen\",\"top_units\":\"screen\"},\"id\":\"2901\",\"type\":\"BoxAnnotation\"},{\"attributes\":{\"data_source\":{\"id\":\"2748\",\"type\":\"ColumnDataSource\"},\"glyph\":{\"id\":\"2749\",\"type\":\"Line\"},\"hover_glyph\":null,\"muted_glyph\":null,\"nonselection_glyph\":{\"id\":\"2750\",\"type\":\"Line\"},\"selection_glyph\":null,\"view\":{\"id\":\"2752\",\"type\":\"CDSView\"}},\"id\":\"2751\",\"type\":\"GlyphRenderer\"},{\"attributes\":{\"base\":60,\"mantissas\":[1,2,5,10,15,20,30],\"max_interval\":1800000.0,\"min_interval\":1000.0,\"num_minor_ticks\":0},\"id\":\"2886\",\"type\":\"AdaptiveTicker\"},{\"attributes\":{\"grid_line_alpha\":0.3,\"ticker\":{\"id\":\"2721\",\"type\":\"DatetimeTicker\"}},\"id\":\"2724\",\"type\":\"Grid\"},{\"attributes\":{\"callback\":null,\"data\":{\"x\":[1526338800000.0,1526342400000.0,1526346000000.0,1526349600000.0,1526353200000.0,1526356800000.0,1526360400000.0,1526364000000.0,1526367600000.0,1526371200000.0,1526374800000.0,1526378400000.0,1526382000000.0,1526385600000.0,1526389200000.0,1526392800000.0,1526396400000.0,1526400000000.0,1526403600000.0,1526407200000.0,1526410800000.0,1526414400000.0,1526418000000.0,1526421600000.0,1526425200000.0,1526428800000.0,1526432400000.0,1526436000000.0,1526439600000.0,1526443200000.0,1526446800000.0,1526450400000.0,1526454000000.0,1526457600000.0,1526461200000.0,1526464800000.0,1526468400000.0,1526472000000.0,1526475600000.0,1526479200000.0,1526482800000.0,1526486400000.0,1526490000000.0,1526493600000.0,1526497200000.0,1526500800000.0,1526504400000.0,1526508000000.0,1526511600000.0,1526515200000.0,1526518800000.0,1526522400000.0,1526526000000.0,1526529600000.0,1526533200000.0,1526536800000.0,1526540400000.0,1526544000000.0,1526547600000.0,1526551200000.0,1526554800000.0,1526558400000.0,1526562000000.0,1526565600000.0,1526569200000.0,1526572800000.0,1526576400000.0,1526580000000.0,1526583600000.0,1526587200000.0,1526590800000.0,1526594400000.0,1526598000000.0,1526601600000.0,1526605200000.0,1526608800000.0,1526612400000.0,1526616000000.0,1526619600000.0,1526623200000.0,1526626800000.0,1526630400000.0,1526634000000.0,1526637600000.0,1526641200000.0,1526644800000.0,1526648400000.0,1526652000000.0,1526655600000.0,1526659200000.0,1526662800000.0,1526666400000.0,1526670000000.0,1526673600000.0,1526677200000.0,1526680800000.0,1526684400000.0,1526688000000.0,1526691600000.0,1526695200000.0,1526698800000.0,1526702400000.0,1526706000000.0,1526709600000.0,1526713200000.0,1526716800000.0,1526720400000.0,1526724000000.0,1526727600000.0,1526731200000.0,1526734800000.0,1526738400000.0,1526742000000.0,1526745600000.0,1526749200000.0,1526752800000.0,1526756400000.0,1526760000000.0,1526763600000.0,1526767200000.0,1526770800000.0,1526774400000.0,1526778000000.0,1526781600000.0,1526785200000.0,1526788800000.0,1526792400000.0,1526796000000.0,1526799600000.0,1526803200000.0,1526806800000.0,1526810400000.0,1526814000000.0,1526817600000.0,1526821200000.0,1526824800000.0,1526828400000.0,1526832000000.0,1526835600000.0,1526839200000.0,1526842800000.0,1526846400000.0,1526850000000.0,1526853600000.0,1526857200000.0,1526860800000.0,1526864400000.0,1526868000000.0,1526871600000.0,1526875200000.0,1526878800000.0,1526882400000.0,1526886000000.0,1526889600000.0,1526893200000.0,1526896800000.0,1526900400000.0,1526904000000.0,1526907600000.0,1526911200000.0,1526914800000.0,1526918400000.0,1526922000000.0,1526925600000.0,1526929200000.0,1526932800000.0,1526936400000.0,1526940000000.0,1526943600000.0,1526947200000.0,1526950800000.0,1526954400000.0,1526958000000.0,1526961600000.0,1526965200000.0,1526968800000.0,1526972400000.0,1526976000000.0,1526979600000.0,1526983200000.0,1526986800000.0,1526990400000.0,1526994000000.0,1526997600000.0,1527001200000.0,1527004800000.0,1527008400000.0,1527012000000.0,1527015600000.0,1527019200000.0,1527022800000.0,1527026400000.0,1527030000000.0,1527033600000.0,1527037200000.0,1527040800000.0,1527044400000.0,1527048000000.0,1527051600000.0,1527055200000.0,1527058800000.0,1527062400000.0,1527066000000.0,1527069600000.0,1527073200000.0,1527076800000.0,1527080400000.0,1527084000000.0,1527087600000.0,1527091200000.0,1527094800000.0,1527098400000.0,1527102000000.0,1527105600000.0,1527109200000.0,1527112800000.0,1527116400000.0,1527120000000.0,1527123600000.0,1527127200000.0,1527130800000.0,1527134400000.0,1527138000000.0,1527141600000.0,1527145200000.0,1527148800000.0,1527152400000.0,1527156000000.0,1527159600000.0,1527163200000.0,1527166800000.0,1527170400000.0,1527174000000.0,1527177600000.0,1527181200000.0,1527184800000.0,1527188400000.0,1527192000000.0,1527195600000.0,1527199200000.0,1527202800000.0,1527206400000.0,1527210000000.0,1527213600000.0,1527217200000.0,1527220800000.0,1527224400000.0,1527228000000.0,1527231600000.0,1527235200000.0,1527238800000.0,1527242400000.0,1527246000000.0,1527249600000.0,1527253200000.0,1527256800000.0,1527260400000.0,1527264000000.0,1527267600000.0,1527271200000.0,1527274800000.0,1527278400000.0,1527282000000.0,1527285600000.0,1527289200000.0,1527292800000.0,1527296400000.0,1527300000000.0,1527303600000.0,1527307200000.0,1527310800000.0,1527314400000.0,1527318000000.0,1527321600000.0,1527325200000.0,1527328800000.0,1527332400000.0,1527336000000.0,1527339600000.0,1527343200000.0,1527346800000.0,1527350400000.0,1527354000000.0,1527357600000.0,1527361200000.0,1527364800000.0,1527368400000.0,1527372000000.0,1527375600000.0,1527379200000.0,1527382800000.0,1527386400000.0,1527390000000.0,1527393600000.0,1527397200000.0,1527400800000.0,1527404400000.0,1527408000000.0,1527411600000.0,1527415200000.0,1527418800000.0,1527422400000.0,1527426000000.0,1527429600000.0,1527433200000.0,1527436800000.0,1527440400000.0,1527444000000.0,1527447600000.0,1527451200000.0,1527454800000.0,1527458400000.0,1527462000000.0,1527465600000.0,1527469200000.0,1527472800000.0,1527476400000.0,1527480000000.0,1527483600000.0,1527487200000.0,1527490800000.0,1527494400000.0,1527498000000.0,1527501600000.0,1527505200000.0,1527508800000.0,1527512400000.0,1527516000000.0,1527519600000.0,1527523200000.0,1527526800000.0,1527530400000.0,1527534000000.0,1527537600000.0,1527541200000.0,1527544800000.0,1527548400000.0,1527552000000.0,1527555600000.0,1527559200000.0,1527562800000.0,1527566400000.0,1527570000000.0,1527573600000.0,1527577200000.0,1527580800000.0,1527584400000.0,1527588000000.0,1527591600000.0,1527595200000.0,1527598800000.0,1527602400000.0,1527606000000.0,1527609600000.0,1527613200000.0,1527616800000.0,1527620400000.0,1527624000000.0,1527627600000.0,1527631200000.0,1527634800000.0,1527638400000.0,1527642000000.0,1527645600000.0,1527649200000.0,1527652800000.0,1527656400000.0,1527660000000.0,1527663600000.0,1527667200000.0,1527670800000.0,1527674400000.0,1527678000000.0,1527681600000.0,1527685200000.0,1527688800000.0,1527692400000.0,1527696000000.0,1527699600000.0,1527703200000.0,1527706800000.0,1527710400000.0,1527714000000.0,1527717600000.0,1527721200000.0,1527724800000.0,1527728400000.0,1527732000000.0,1527735600000.0,1527739200000.0,1527742800000.0,1527746400000.0,1527750000000.0,1527753600000.0,1527757200000.0,1527760800000.0,1527764400000.0,1527768000000.0,1527771600000.0,1527775200000.0,1527778800000.0,1527782400000.0,1527786000000.0,1527789600000.0,1527793200000.0,1527796800000.0,1527800400000.0,1527804000000.0,1527807600000.0,1527811200000.0,1527814800000.0,1527818400000.0,1527822000000.0,1527825600000.0,1527829200000.0,1527832800000.0,1527836400000.0,1527840000000.0,1527843600000.0,1527847200000.0,1527850800000.0,1527854400000.0,1527858000000.0,1527861600000.0,1527865200000.0,1527868800000.0,1527872400000.0,1527876000000.0,1527879600000.0,1527883200000.0,1527886800000.0,1527890400000.0,1527894000000.0,1527897600000.0,1527901200000.0,1527904800000.0,1527908400000.0,1527912000000.0,1527915600000.0,1527919200000.0,1527922800000.0,1527926400000.0,1527930000000.0,1527933600000.0,1527937200000.0,1527940800000.0,1527944400000.0,1527948000000.0,1527951600000.0,1527955200000.0,1527958800000.0,1527962400000.0,1527966000000.0,1527969600000.0,1527973200000.0,1527976800000.0,1527980400000.0,1527984000000.0,1527987600000.0,1527991200000.0,1527994800000.0,1527998400000.0,1528002000000.0,1528005600000.0,1528009200000.0,1528012800000.0,1528016400000.0,1528020000000.0,1528023600000.0,1528027200000.0,1528030800000.0,1528034400000.0,1528038000000.0,1528041600000.0,1528045200000.0,1528048800000.0,1528052400000.0,1528056000000.0,1528059600000.0,1528063200000.0,1528066800000.0,1528070400000.0,1528074000000.0,1528077600000.0,1528081200000.0,1528084800000.0,1528088400000.0,1528092000000.0,1528095600000.0,1528099200000.0,1528102800000.0,1528106400000.0,1528110000000.0,1528113600000.0,1528117200000.0,1528120800000.0,1528124400000.0,1528128000000.0,1528131600000.0,1528135200000.0,1528138800000.0,1528142400000.0,1528146000000.0,1528149600000.0,1528153200000.0,1528156800000.0,1528160400000.0,1528164000000.0,1528167600000.0,1528171200000.0,1528174800000.0,1528178400000.0,1528182000000.0,1528185600000.0,1528189200000.0,1528192800000.0,1528196400000.0,1528200000000.0,1528203600000.0,1528207200000.0,1528210800000.0,1528214400000.0,1528218000000.0,1528221600000.0,1528225200000.0,1528228800000.0,1528232400000.0,1528236000000.0,1528239600000.0,1528243200000.0,1528246800000.0,1528250400000.0,1528254000000.0,1528257600000.0,1528261200000.0,1528264800000.0,1528268400000.0,1528272000000.0,1528275600000.0,1528279200000.0,1528282800000.0,1528286400000.0,1528290000000.0,1528293600000.0,1528297200000.0,1528300800000.0,1528304400000.0,1528308000000.0,1528311600000.0,1528315200000.0,1528318800000.0,1528322400000.0,1528326000000.0,1528329600000.0,1528333200000.0,1528336800000.0,1528340400000.0,1528344000000.0,1528347600000.0,1528351200000.0,1528354800000.0,1528358400000.0,1528362000000.0,1528365600000.0,1528369200000.0,1528372800000.0,1528376400000.0,1528380000000.0,1528383600000.0,1528387200000.0,1528390800000.0,1528394400000.0,1528398000000.0,1528401600000.0,1528405200000.0,1528408800000.0,1528412400000.0,1528416000000.0,1528419600000.0,1528423200000.0,1528426800000.0,1528430400000.0,1528434000000.0,1528437600000.0,1528441200000.0,1528444800000.0,1528448400000.0,1528452000000.0,1528455600000.0,1528459200000.0,1528462800000.0,1528466400000.0,1528470000000.0,1528473600000.0,1528477200000.0,1528480800000.0,1528484400000.0,1528488000000.0,1528491600000.0,1528495200000.0,1528498800000.0,1528502400000.0,1528506000000.0,1528509600000.0,1528513200000.0,1528516800000.0,1528520400000.0,1528524000000.0,1528527600000.0,1528531200000.0,1528534800000.0,1528538400000.0,1528542000000.0,1528545600000.0,1528549200000.0,1528552800000.0,1528556400000.0,1528560000000.0,1528563600000.0,1528567200000.0,1528570800000.0,1528574400000.0,1528578000000.0,1528581600000.0,1528585200000.0,1528588800000.0,1528592400000.0,1528596000000.0,1528599600000.0,1528603200000.0,1528606800000.0,1528610400000.0,1528614000000.0,1528617600000.0,1528621200000.0,1528624800000.0,1528628400000.0,1528632000000.0,1528635600000.0,1528639200000.0,1528642800000.0,1528646400000.0,1528650000000.0,1528653600000.0,1528657200000.0,1528660800000.0,1528664400000.0,1528668000000.0,1528671600000.0,1528675200000.0,1528678800000.0,1528682400000.0,1528686000000.0,1528689600000.0,1528693200000.0,1528696800000.0,1528700400000.0,1528704000000.0,1528707600000.0,1528711200000.0,1528714800000.0,1528718400000.0,1528722000000.0,1528725600000.0,1528729200000.0,1528732800000.0,1528736400000.0,1528740000000.0,1528743600000.0,1528747200000.0,1528750800000.0,1528754400000.0],\"y\":{\"__ndarray__\":\"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\",\"dtype\":\"float64\",\"shape\":[672]}},\"selected\":{\"id\":\"2900\",\"type\":\"Selection\"},\"selection_policy\":{\"id\":\"2899\",\"type\":\"UnionRenderers\"}},\"id\":\"2748\",\"type\":\"ColumnDataSource\"}],\"root_ids\":[\"2709\"]},\"title\":\"Bokeh Application\",\"version\":\"1.4.0\"}};\n",
       "  var render_items = [{\"docid\":\"9ae9d7b3-e44a-4618-9fe5-ecfc40fb803a\",\"roots\":{\"2709\":\"d0b50de6-1439-448a-abed-c36891741aae\"}}];\n",
       "  root.Bokeh.embed.embed_items_notebook(docs_json, render_items);\n",
       "\n",
       "  }\n",
       "  if (root.Bokeh !== undefined) {\n",
       "    embed_document(root);\n",
       "  } else {\n",
       "    var attempts = 0;\n",
       "    var timer = setInterval(function(root) {\n",
       "      if (root.Bokeh !== undefined) {\n",
       "        clearInterval(timer);\n",
       "        embed_document(root);\n",
       "      } else {\n",
       "        attempts++;\n",
       "        if (attempts > 100) {\n",
       "          clearInterval(timer);\n",
       "          console.log(\"Bokeh: ERROR: Unable to run BokehJS code because BokehJS library is missing\");\n",
       "        }\n",
       "      }\n",
       "    }, 10, root)\n",
       "  }\n",
       "})(window);"
      ],
      "application/vnd.bokehjs_exec.v0+json": ""
     },
     "metadata": {
      "application/vnd.bokehjs_exec.v0+json": {
       "id": "2709"
      }
     },
     "output_type": "display_data"
    }
   ],
   "source": [
    "# MAE, RMSE, and SMAPE for rolling predictions in 4 weeks\n",
    "# from global dataframe\n",
    "start, end = 0, 672\n",
    "size = 4\n",
    "\n",
    "plots['bsctrfm_metric'] = figure(\n",
    "    x_axis_type='datetime',\n",
    "    plot_width=960,\n",
    "    plot_height=320,\n",
    "    title='BSCTRFM Performance: {} for {} Consecutive 1-hour Rolling Predictions.'\\\n",
    "    .format('MAE', end),\n",
    "    toolbar_location=None,\n",
    ")\n",
    "\n",
    "plots['bsctrfm_metric'].grid.grid_line_alpha=0.3\n",
    "\n",
    "plots['bsctrfm_metric'].title.text_font_size = '14pt'\n",
    "\n",
    "plots['bsctrfm_metric'].xaxis.axis_label_text_font_size = \"14pt\"\n",
    "plots['bsctrfm_metric'].yaxis.axis_label_text_font_size = \"14pt\"\n",
    "\n",
    "plots['bsctrfm_metric'].xaxis.major_label_text_font_size = \"12pt\"\n",
    "plots['bsctrfm_metric'].yaxis.major_label_text_font_size = \"12pt\"\n",
    "\n",
    "plots['bsctrfm_metric'].xaxis.axis_label = 'Date'\n",
    "plots['bsctrfm_metric'].yaxis.axis_label = 'MAE [KW]'\n",
    "\n",
    "plots['bsctrfm_metric'].circle(\n",
    "    x=[pd.to_datetime(row[0]) for row in global_df['string_timestamps'][start:end]],\n",
    "    y=global_df['mae'][start:end],\n",
    "    color='black',\n",
    "    size=size,\n",
    "    fill_color=None,\n",
    ")\n",
    "plots['bsctrfm_metric'].line(\n",
    "    x=[pd.to_datetime(row[0]) for row in global_df['string_timestamps'][start:end]],\n",
    "    y=global_df['mae'][start:end],\n",
    "    color='black',\n",
    ")\n",
    "\n",
    "arima_one_week_mae_average = Span(\n",
    "    location=np.mean(np.array(arima_one_week_mae)),\n",
    "    dimension='width',\n",
    "    line_color='black',\n",
    "    line_dash='dashed',\n",
    "    line_width=2)\n",
    "\n",
    "plots['bsctrfm_metric'].add_layout(arima_one_week_mae_average)\n",
    "\n",
    "show(plots['bsctrfm_metric'])"
   ]
  },
  {
   "cell_type": "code",
   "execution_count": 64,
   "metadata": {},
   "outputs": [
    {
     "data": {
      "text/html": [
       "\n",
       "\n",
       "\n",
       "\n",
       "\n",
       "\n",
       "  <div class=\"bk-root\" id=\"1cb7a041-f05f-4fac-8583-37a79b57d61a\" data-root-id=\"3034\"></div>\n"
      ]
     },
     "metadata": {},
     "output_type": "display_data"
    },
    {
     "data": {
      "application/javascript": [
       "(function(root) {\n",
       "  function embed_document(root) {\n",
       "    \n",
       "  var docs_json = {\"4ec90ecb-5619-460d-8079-5d8872098ffb\":{\"roots\":{\"references\":[{\"attributes\":{\"below\":[{\"id\":\"3045\",\"type\":\"DatetimeAxis\"}],\"center\":[{\"id\":\"3049\",\"type\":\"Grid\"},{\"id\":\"3054\",\"type\":\"Grid\"},{\"id\":\"3078\",\"type\":\"Span\"}],\"left\":[{\"id\":\"3050\",\"type\":\"LinearAxis\"}],\"plot_height\":320,\"plot_width\":960,\"renderers\":[{\"id\":\"3071\",\"type\":\"GlyphRenderer\"},{\"id\":\"3076\",\"type\":\"GlyphRenderer\"}],\"title\":{\"id\":\"3035\",\"type\":\"Title\"},\"toolbar\":{\"id\":\"3061\",\"type\":\"Toolbar\"},\"toolbar_location\":null,\"x_range\":{\"id\":\"3037\",\"type\":\"DataRange1d\"},\"x_scale\":{\"id\":\"3041\",\"type\":\"LinearScale\"},\"y_range\":{\"id\":\"3039\",\"type\":\"DataRange1d\"},\"y_scale\":{\"id\":\"3043\",\"type\":\"LinearScale\"}},\"id\":\"3034\",\"subtype\":\"Figure\",\"type\":\"Plot\"},{\"attributes\":{},\"id\":\"3056\",\"type\":\"WheelZoomTool\"},{\"attributes\":{},\"id\":\"3041\",\"type\":\"LinearScale\"},{\"attributes\":{\"callback\":null},\"id\":\"3037\",\"type\":\"DataRange1d\"},{\"attributes\":{\"text\":\"BSCTRFM Performance: RMSE for 672 Consecutive 1-hour Rolling Predictions.\",\"text_font_size\":{\"value\":\"14pt\"}},\"id\":\"3035\",\"type\":\"Title\"},{\"attributes\":{\"overlay\":{\"id\":\"3248\",\"type\":\"BoxAnnotation\"}},\"id\":\"3057\",\"type\":\"BoxZoomTool\"},{\"attributes\":{},\"id\":\"3058\",\"type\":\"SaveTool\"},{\"attributes\":{\"days\":[1,15]},\"id\":\"3238\",\"type\":\"DaysTicker\"},{\"attributes\":{\"callback\":null,\"data\":{\"x\":[1526338800000.0,1526342400000.0,1526346000000.0,1526349600000.0,1526353200000.0,1526356800000.0,1526360400000.0,1526364000000.0,1526367600000.0,1526371200000.0,1526374800000.0,1526378400000.0,1526382000000.0,1526385600000.0,1526389200000.0,1526392800000.0,1526396400000.0,1526400000000.0,1526403600000.0,1526407200000.0,1526410800000.0,1526414400000.0,1526418000000.0,1526421600000.0,1526425200000.0,1526428800000.0,1526432400000.0,1526436000000.0,1526439600000.0,1526443200000.0,1526446800000.0,1526450400000.0,1526454000000.0,1526457600000.0,1526461200000.0,1526464800000.0,1526468400000.0,1526472000000.0,1526475600000.0,1526479200000.0,1526482800000.0,1526486400000.0,1526490000000.0,1526493600000.0,1526497200000.0,1526500800000.0,1526504400000.0,1526508000000.0,1526511600000.0,1526515200000.0,1526518800000.0,1526522400000.0,1526526000000.0,1526529600000.0,1526533200000.0,1526536800000.0,1526540400000.0,1526544000000.0,1526547600000.0,1526551200000.0,1526554800000.0,1526558400000.0,1526562000000.0,1526565600000.0,1526569200000.0,1526572800000.0,1526576400000.0,1526580000000.0,1526583600000.0,1526587200000.0,1526590800000.0,1526594400000.0,1526598000000.0,1526601600000.0,1526605200000.0,1526608800000.0,1526612400000.0,1526616000000.0,1526619600000.0,1526623200000.0,1526626800000.0,1526630400000.0,1526634000000.0,1526637600000.0,1526641200000.0,1526644800000.0,1526648400000.0,1526652000000.0,1526655600000.0,1526659200000.0,1526662800000.0,1526666400000.0,1526670000000.0,1526673600000.0,1526677200000.0,1526680800000.0,1526684400000.0,1526688000000.0,1526691600000.0,1526695200000.0,1526698800000.0,1526702400000.0,1526706000000.0,1526709600000.0,1526713200000.0,1526716800000.0,1526720400000.0,1526724000000.0,1526727600000.0,1526731200000.0,1526734800000.0,1526738400000.0,1526742000000.0,1526745600000.0,1526749200000.0,1526752800000.0,1526756400000.0,1526760000000.0,1526763600000.0,1526767200000.0,1526770800000.0,1526774400000.0,1526778000000.0,1526781600000.0,1526785200000.0,1526788800000.0,1526792400000.0,1526796000000.0,1526799600000.0,1526803200000.0,1526806800000.0,1526810400000.0,1526814000000.0,1526817600000.0,1526821200000.0,1526824800000.0,1526828400000.0,1526832000000.0,1526835600000.0,1526839200000.0,1526842800000.0,1526846400000.0,1526850000000.0,1526853600000.0,1526857200000.0,1526860800000.0,1526864400000.0,1526868000000.0,1526871600000.0,1526875200000.0,1526878800000.0,1526882400000.0,1526886000000.0,1526889600000.0,1526893200000.0,1526896800000.0,1526900400000.0,1526904000000.0,1526907600000.0,1526911200000.0,1526914800000.0,1526918400000.0,1526922000000.0,1526925600000.0,1526929200000.0,1526932800000.0,1526936400000.0,1526940000000.0,1526943600000.0,1526947200000.0,1526950800000.0,1526954400000.0,1526958000000.0,1526961600000.0,1526965200000.0,1526968800000.0,1526972400000.0,1526976000000.0,1526979600000.0,1526983200000.0,1526986800000.0,1526990400000.0,1526994000000.0,1526997600000.0,1527001200000.0,1527004800000.0,1527008400000.0,1527012000000.0,1527015600000.0,1527019200000.0,1527022800000.0,1527026400000.0,1527030000000.0,1527033600000.0,1527037200000.0,1527040800000.0,1527044400000.0,1527048000000.0,1527051600000.0,1527055200000.0,1527058800000.0,1527062400000.0,1527066000000.0,1527069600000.0,1527073200000.0,1527076800000.0,1527080400000.0,1527084000000.0,1527087600000.0,1527091200000.0,1527094800000.0,1527098400000.0,1527102000000.0,1527105600000.0,1527109200000.0,1527112800000.0,1527116400000.0,1527120000000.0,1527123600000.0,1527127200000.0,1527130800000.0,1527134400000.0,1527138000000.0,1527141600000.0,1527145200000.0,1527148800000.0,1527152400000.0,1527156000000.0,1527159600000.0,1527163200000.0,1527166800000.0,1527170400000.0,1527174000000.0,1527177600000.0,1527181200000.0,1527184800000.0,1527188400000.0,1527192000000.0,1527195600000.0,1527199200000.0,1527202800000.0,1527206400000.0,1527210000000.0,1527213600000.0,1527217200000.0,1527220800000.0,1527224400000.0,1527228000000.0,1527231600000.0,1527235200000.0,1527238800000.0,1527242400000.0,1527246000000.0,1527249600000.0,1527253200000.0,1527256800000.0,1527260400000.0,1527264000000.0,1527267600000.0,1527271200000.0,1527274800000.0,1527278400000.0,1527282000000.0,1527285600000.0,1527289200000.0,1527292800000.0,1527296400000.0,1527300000000.0,1527303600000.0,1527307200000.0,1527310800000.0,1527314400000.0,1527318000000.0,1527321600000.0,1527325200000.0,1527328800000.0,1527332400000.0,1527336000000.0,1527339600000.0,1527343200000.0,1527346800000.0,1527350400000.0,1527354000000.0,1527357600000.0,1527361200000.0,1527364800000.0,1527368400000.0,1527372000000.0,1527375600000.0,1527379200000.0,1527382800000.0,1527386400000.0,1527390000000.0,1527393600000.0,1527397200000.0,1527400800000.0,1527404400000.0,1527408000000.0,1527411600000.0,1527415200000.0,1527418800000.0,1527422400000.0,1527426000000.0,1527429600000.0,1527433200000.0,1527436800000.0,1527440400000.0,1527444000000.0,1527447600000.0,1527451200000.0,1527454800000.0,1527458400000.0,1527462000000.0,1527465600000.0,1527469200000.0,1527472800000.0,1527476400000.0,1527480000000.0,1527483600000.0,1527487200000.0,1527490800000.0,1527494400000.0,1527498000000.0,1527501600000.0,1527505200000.0,1527508800000.0,1527512400000.0,1527516000000.0,1527519600000.0,1527523200000.0,1527526800000.0,1527530400000.0,1527534000000.0,1527537600000.0,1527541200000.0,1527544800000.0,1527548400000.0,1527552000000.0,1527555600000.0,1527559200000.0,1527562800000.0,1527566400000.0,1527570000000.0,1527573600000.0,1527577200000.0,1527580800000.0,1527584400000.0,1527588000000.0,1527591600000.0,1527595200000.0,1527598800000.0,1527602400000.0,1527606000000.0,1527609600000.0,1527613200000.0,1527616800000.0,1527620400000.0,1527624000000.0,1527627600000.0,1527631200000.0,1527634800000.0,1527638400000.0,1527642000000.0,1527645600000.0,1527649200000.0,1527652800000.0,1527656400000.0,1527660000000.0,1527663600000.0,1527667200000.0,1527670800000.0,1527674400000.0,1527678000000.0,1527681600000.0,1527685200000.0,1527688800000.0,1527692400000.0,1527696000000.0,1527699600000.0,1527703200000.0,1527706800000.0,1527710400000.0,1527714000000.0,1527717600000.0,1527721200000.0,1527724800000.0,1527728400000.0,1527732000000.0,1527735600000.0,1527739200000.0,1527742800000.0,1527746400000.0,1527750000000.0,1527753600000.0,1527757200000.0,1527760800000.0,1527764400000.0,1527768000000.0,1527771600000.0,1527775200000.0,1527778800000.0,1527782400000.0,1527786000000.0,1527789600000.0,1527793200000.0,1527796800000.0,1527800400000.0,1527804000000.0,1527807600000.0,1527811200000.0,1527814800000.0,1527818400000.0,1527822000000.0,1527825600000.0,1527829200000.0,1527832800000.0,1527836400000.0,1527840000000.0,1527843600000.0,1527847200000.0,1527850800000.0,1527854400000.0,1527858000000.0,1527861600000.0,1527865200000.0,1527868800000.0,1527872400000.0,1527876000000.0,1527879600000.0,1527883200000.0,1527886800000.0,1527890400000.0,1527894000000.0,1527897600000.0,1527901200000.0,1527904800000.0,1527908400000.0,1527912000000.0,1527915600000.0,1527919200000.0,1527922800000.0,1527926400000.0,1527930000000.0,1527933600000.0,1527937200000.0,1527940800000.0,1527944400000.0,1527948000000.0,1527951600000.0,1527955200000.0,1527958800000.0,1527962400000.0,1527966000000.0,1527969600000.0,1527973200000.0,1527976800000.0,1527980400000.0,1527984000000.0,1527987600000.0,1527991200000.0,1527994800000.0,1527998400000.0,1528002000000.0,1528005600000.0,1528009200000.0,1528012800000.0,1528016400000.0,1528020000000.0,1528023600000.0,1528027200000.0,1528030800000.0,1528034400000.0,1528038000000.0,1528041600000.0,1528045200000.0,1528048800000.0,1528052400000.0,1528056000000.0,1528059600000.0,1528063200000.0,1528066800000.0,1528070400000.0,1528074000000.0,1528077600000.0,1528081200000.0,1528084800000.0,1528088400000.0,1528092000000.0,1528095600000.0,1528099200000.0,1528102800000.0,1528106400000.0,1528110000000.0,1528113600000.0,1528117200000.0,1528120800000.0,1528124400000.0,1528128000000.0,1528131600000.0,1528135200000.0,1528138800000.0,1528142400000.0,1528146000000.0,1528149600000.0,1528153200000.0,1528156800000.0,1528160400000.0,1528164000000.0,1528167600000.0,1528171200000.0,1528174800000.0,1528178400000.0,1528182000000.0,1528185600000.0,1528189200000.0,1528192800000.0,1528196400000.0,1528200000000.0,1528203600000.0,1528207200000.0,1528210800000.0,1528214400000.0,1528218000000.0,1528221600000.0,1528225200000.0,1528228800000.0,1528232400000.0,1528236000000.0,1528239600000.0,1528243200000.0,1528246800000.0,1528250400000.0,1528254000000.0,1528257600000.0,1528261200000.0,1528264800000.0,1528268400000.0,1528272000000.0,1528275600000.0,1528279200000.0,1528282800000.0,1528286400000.0,1528290000000.0,1528293600000.0,1528297200000.0,1528300800000.0,1528304400000.0,1528308000000.0,1528311600000.0,1528315200000.0,1528318800000.0,1528322400000.0,1528326000000.0,1528329600000.0,1528333200000.0,1528336800000.0,1528340400000.0,1528344000000.0,1528347600000.0,1528351200000.0,1528354800000.0,1528358400000.0,1528362000000.0,1528365600000.0,1528369200000.0,1528372800000.0,1528376400000.0,1528380000000.0,1528383600000.0,1528387200000.0,1528390800000.0,1528394400000.0,1528398000000.0,1528401600000.0,1528405200000.0,1528408800000.0,1528412400000.0,1528416000000.0,1528419600000.0,1528423200000.0,1528426800000.0,1528430400000.0,1528434000000.0,1528437600000.0,1528441200000.0,1528444800000.0,1528448400000.0,1528452000000.0,1528455600000.0,1528459200000.0,1528462800000.0,1528466400000.0,1528470000000.0,1528473600000.0,1528477200000.0,1528480800000.0,1528484400000.0,1528488000000.0,1528491600000.0,1528495200000.0,1528498800000.0,1528502400000.0,1528506000000.0,1528509600000.0,1528513200000.0,1528516800000.0,1528520400000.0,1528524000000.0,1528527600000.0,1528531200000.0,1528534800000.0,1528538400000.0,1528542000000.0,1528545600000.0,1528549200000.0,1528552800000.0,1528556400000.0,1528560000000.0,1528563600000.0,1528567200000.0,1528570800000.0,1528574400000.0,1528578000000.0,1528581600000.0,1528585200000.0,1528588800000.0,1528592400000.0,1528596000000.0,1528599600000.0,1528603200000.0,1528606800000.0,1528610400000.0,1528614000000.0,1528617600000.0,1528621200000.0,1528624800000.0,1528628400000.0,1528632000000.0,1528635600000.0,1528639200000.0,1528642800000.0,1528646400000.0,1528650000000.0,1528653600000.0,1528657200000.0,1528660800000.0,1528664400000.0,1528668000000.0,1528671600000.0,1528675200000.0,1528678800000.0,1528682400000.0,1528686000000.0,1528689600000.0,1528693200000.0,1528696800000.0,1528700400000.0,1528704000000.0,1528707600000.0,1528711200000.0,1528714800000.0,1528718400000.0,1528722000000.0,1528725600000.0,1528729200000.0,1528732800000.0,1528736400000.0,1528740000000.0,1528743600000.0,1528747200000.0,1528750800000.0,1528754400000.0],\"y\":{\"__ndarray__\":\"5Xdu45BPYkB1S3NKr0lgQOehXtnuwWJAe8SdsDV6YUAiB/l5clJiQHPsIZoiPGJALW58cpr3YUBgIX0UbNljQMDRXnUi72FAySnTVuI8YkBai/R/VDNhQIZbbEEKpGBAVm7m7K/QYkDHLaHHtsZgQA97ymrLhWFAzA5jekoTYEBk8xRfcatbQCyTnzazs1pAGjtZh8LgVkB20QkzgpVYQJ+cEjqa1VhAoGjdAbVQXED6pl07p1tYQK4NckEAu11Ax2hX53HsXEBcPJX4pOBdQP8FxT/DmWFAmfzf7yQ9WEDqL5NUDLZeQPSVDuLYNVpAO+IEHBNFYUA5e7oXMQ9bQBFt+sjXFl1AvqyAYW9KYEAVt+23qB1eQBEagLke2VxAvtT1NYaOWkDOp8APA6RXQJfFK5QtsWFAUu8mWr9zW0CbgT1a4PhgQC2PPfB3P2FAWCd4zzsVW0DkXZ/fmBNiQMB6H7Y8QGBAH+pzt/KbYUAwkhgpEYhjQJANoGMPw2NA2uTnJYzXYUD14JI2ugpjQFGe+n1eiWRAd/le4MiJZEAoziAzYtBlQOM9zCX/p2RAs8S3z2LqYkCJOlSWpz5lQKg5AMVg3WVA08UCi7nsY0A9x43YClZlQGBHim8aIWNAkTtnORoCZEBptgYADf5jQHct5zec+2RAzG8jT6aAYUBLbz/GtfteQCFTRPy1+FxAMj2vStgBXEATPeiYkgpfQEqBsW2sUFdAvRXF0ycZWEAbmY06CsFTQAUqS+bddlJAyO0iU59mUkDOZ/jo5DNWQKd3Ftyd7lBA0un2EZgRUkBYJOwPEEpUQL8l8e5bfVBAYDOllJnwUUBvj0GwH+VTQJnqNpDAXVRAhfyojRxvUkDqCJ978kVSQHPuFT8iSk9Ah4BlnKg6TUBzdBFECrlVQAO6jxxgJFdAU0V1wyhCYEC3gTNNEptcQLBx3bKrd2FA3isaXM/9Y0DoxUfd1DlnQLs8l8oVAmZAp7RfEzNUa0AjOylwM+VoQLm8AA3idGZAkUev6T74aUBTBpCzrQltQJA/HRq9LWlAO3HLYjMLa0DYnObQhC1uQLrX/m+ZpWtA2eGxmMPObkD011Rl9adtQBUBUpyAGWhAu8s53sOmbkAoupbgHIRpQCMH4YSkq25AxttCyU4tZ0BV4NsC08poQMvd0Oq/ymZAgg+xT24BZEB9Gz0UTV1gQBkevQneAmNAlYoPAQR+aEBSXRjhasdnQAlk3FtiJVpAjPaBDlvGaECpQUTtzsBqQHJK/hljsFhANFtMsih4VkDRWe5Z0xZmQEUcSqKTOF5ALjx0KmRNYEDoTYwYBJdmQC1uDMMzcWdAniWaFFekYED2ERgUxxdgQGwHVZIpildAWLAR5/ZPWEDOKTFCY4hcQEDgl5JIjVtAI3o7q9I8U0DqGhWzqB9SQKJRJx2WiVBA8cvM3mx+UEB6xpRfbJdPQB64FSoa1UFA5PUZoRF7UUDn/8V3+hFWQFL1furn30dA14zhEcJCTUCwcvMe3htGQG8YAWJm1UdAVgmE89K+Q0A39JwAJvtJQLwilr4hm0ZAo1afUQAGU0BYOY5L8qdGQBJNUfB48UlA9X6ijerPRkAH2tYkQ7VJQNMFPkTePlBAIsytNidBSEBpsjDdmNJKQJa+t4dzz01A/1m6z5IJVECglPRwoQFNQE7Prk4GfU5AEbQfNCtWVUBbtBdQQAFOQJtZfJ1h5FVAtQm8455OUkA9VxPMdY5XQHKWeZY5b1VAO5ED2hhjVEBJ3Gjpj75XQK5MRtzn+FpAjviRp6x1W0BdYB8lkURYQCr1kYmzcV5AISulQpdoXECcc4+A6sVgQOLi11UH019AboZ5o/ODYEDi7rUDEg9jQG99UzjMbmNA+mgCcFotY0D4tvdYw0FhQA5JwrXe+mRAeaPo5VSsX0DwHA4teVhfQFoSj9Sos1tAjj3n/9F3YEDHpVPRQbhdQCuBdwB2JWJAjMy8zZEbZEBAx202EPBcQIRlSC1WHlxAiU4UW2PDXEDFgPWjgj1ZQB/M4v/YTF1ATw/KBUU4XkAOrmddWWpcQAVUX3oz8VxAEySVjnadV0CtxrIU1chYQECXF23DAllAZXTl4clkWUAARhjuNm1ZQOH5wwyRWVhAy+Xza3jwWECTAcMgCPNYQEU98ASDnFhA/RS9eoIUXkAXFxoAFVZdQOiIR34FtV5AgpoP10fNWEDZ9B+X9MxaQCEXms2q82BABQ70kYlpXkCDqKkXBKtiQPsTH49oTWFAenGf1XgQZUD0IOVnYIpkQKO8n4wNx2RAs1PhVkb0YkDQ9XxQ18tiQEOxxNSzxWFAszwyuYVNYkAXqCQ+CpdkQKpIuH6KpGVAnCF2VFR0ZEDF3Vs+i/NhQBRRmNSkT2NA4Qqt2qDMYECQOU5Fy7NmQEbfb/BT+WJAqLUZyS4EZECBLVLUyfFhQDZbKfijdWRAU+7RH4OfXUBkYBHkvbNXQLL/m+HEMlhAXcYV6bzZTkCf0g1EE+lRQKfZMy6EBlNAGNiZo05jVEB3Iu51EHBaQFlci8dgo1lAAi0L653IV0AAk0jAcatWQD+OqWDkiVlAT7HotUQrWEAcMvNIy8VdQMPFs6AWdllAtO8j+/zpW0AL6rR/pF5ZQCs8PwezMFdAeTDkiokiXEAf2+DFj2JYQC9DlfPy51dAxr+BRYrVW0BT/R9m+WVZQKAOs0LPqFZAsu9fr1MlW0DlBtiaQTJVQA/Wqd39m1RAAvKmP+EjVECJBWVwtEdQQAfIedA5fU5AhQOx7y8USkAKXFzV+k9QQLQF3PjFsk5Alop1UP/ZVUBCKP6qyshMQNPb78VxoE5AuJ/OqYf8UECTSNUGT8pSQEl8FC5dp05A4ivDSV5NTkBAOjT6CaBQQLGIJX0GyFNARVTRvwikUECwb8OfFu5QQByWtChiuVFAiAQqsHiySkBYeRCZBTtPQGkCMtWUplBAuwGueBnpS0CMWm96A2BWQHQB4fm56VJAXTfayB+mUUAdkuwGZ25ZQN8tk7Xr1FhA1e7hoWU8WEBcxuPnDtdYQPfGVZ0kRFVA0qe7d1xMVUBQ7opPq1JVQCeCHtJMqVVA9P3lHa8JVkBNIGiRuE5UQFJA+wwgKlZAcr1T5wkyWEDO9FmMURNVQHe5e/M541NAn0gD+hUfVkC3wrvEDvRWQD4MPAzy61NAZyRq8UgbV0BKvojom6RVQKnVdtpQE1dAxA5HHZgdU0DwWqif5AtPQGIs19qbElJAfowdZPJWU0Djk7dlDw5aQMRuS+DrAF1Avu+ffC6uWkAtz/PUTeBgQPbxLuP6mGVAhCnr0Y3UZ0ArX3t++MJlQKtMW42EZmhAFHmIVn0iZUBLKv09Ro5mQBN9USZ4oGdA6q6++4IrZ0AGsOLwW2BqQDeku9VK92dAQst5egyLbUDkmR7etVxnQKrEc+Z9G2lAp9OHt6ZyaEAJKnQ+PHJpQEcH/dQ1pmtAM5MejkEaakAChADL7PlsQM9KnsIEtm1AWnGqfSqjbUBMVsQim8BuQC+ZxDmnEm1AXqI+11YgbEAXTPmC7S5wQMHsNfaSrm9ACJ299yJTcUBiI4qAuJZyQLutn8TfpG9AUx0+MgYHckCBa1FyvvtxQH9db7pdJnNAJnS4afnRckCkpyp2X+pwQLI7Yuru8XRASWH9OO0ZckC+B094H5txQNvWdAkZUXJA+wNy1pm1ckCkKM28WRxzQPMcQs7HAHRABA5nTuS1c0D0LM3E0yxwQK1RjxRGrXBAR+tF8PIKa0BrV9UDPPlqQK9luexhOm1AayVBygGSbEBtcnxg07xuQOoNmm+eQW9AgiU0KUSBbEBAssJecFtpQAsuBdsQWGtABCQASK9JcECR8/CBg9VrQFnTPf6FC21A+z92gIr3cEChr6bDPMhrQJRO5EdF2mtAMmrcqD6ra0AUFMPDvlprQNKrg017+mhATfPbgwJhaEBN+aPyvCRpQMV6rXgcfnBALEWo4//zb0AQ9o0R/chtQMOIk+NhuGpAec+NEzgvYUAbvQfA6DVoQA7vx3cNPmdAvWwJ7UsMbEDxOI/d949oQBzG0H6ZP2xA8YIqWdOmaEAGgVQptFJmQK/Lm8lDTGdAzgmuAa5aakDYKPbqD5tlQCZeYdjgg2ZAysDrGfY3ZkD6B6mKZk9pQMSxxVfMbWpAzu4nq6fnZ0DOIWpWxU1oQMK2zlLHAmZAc9NsFt4sZkCWxDotpW5jQAkrJ2m9nGdA/lHXd6QDZECYCsqcJGZlQIgNJjHiCWFAZiVVtYSGZUC4uofYxOtgQDXSeb2Qml5A2R/VusOpX0BDYvEw9cJbQILDSCaTxmBA0ASnPD+OYEBlNqulgYhfQGUlBH1mdl9Ae/2Qq3UTYEABvCbdGYxaQGBXMaUch15A5r23Qvk6XEDhEaD2XGZeQEVsTOZGiGJAXjwpXr7oWkAQBrx4p9xdQOQ/lMD2u1xAwYzR426lYECsSOFPx0hiQG3dhyqfhF5AfgYwj5hxX0BLlc4QgJhhQMnDhQJP6GBA3FOHLVQfX0D+rWyArSpgQJuU3Pgn2VlAggSMbCYEYkCQ+vWw69xbQKScqD7OBV9A/WNQI6lgW0DPMevJ9+JeQMJfSO2Lkl1AP7AidcpYXECJt7fZEa1fQDOItq7bf11A3y7DD2FvXEBq08yK5QtgQKvdF5VrG15ArsQhR4NlYUA71X/zH6NbQAsEuhVZ9GBAG7EqyeeNY0BK43nFzhBhQHhBGPiYCl1AzLgjLMXnXUCq8+s2z5BbQBYvdyXz/VVAHpxz0LDBVUA6J3flYMhVQKpL8NZuK1dAbDQI8WW9VEDWJRTs/JdRQLVI70wv1FJAIK15z7faVEBkG+PmAKtTQBY+xuI78lJAATqnvVawU0DeWg2ERwlYQKR4UkWVllNAAabg2HuxU0DLXGw8O0JSQHBVj+3oilZAZT5oOb1qUUBT6hYMIBxUQDl8ekj8bFRANBXDZJlFUUAkO3Eh3H5SQAxS6xtk9VZAqM2S/VSAXkBzlJ1UbMpUQBKf3ok48lRARObp7qegVkD/UQCgJ3FWQKOcl2cA6ldAbVjXl1iOV0B9/SHvnh1XQH0cf8KW8FdAmMgDQaexXUAaoFur6wdcQGHzxHKDFFxAibFksCUsVUAVdj4nlN9cQFzMl1ECl19AWaT3mlI+XkD9vR3kAzJfQH6Y5CZfKV1AOTlCNCmDYUCW7Zd/zwRaQK4fdteYfFxA2G9h1BaIXED5ZbiH2DReQMtNXfr1EmBA6PKzrNsXZEBWmyguOZdiQGwQoMjTYVxASkbsFCmAXkBxOWujzchRQBaqRWUk4FRARNqnJoOiUkCv26zODd5LQGA9KSzYwVBAwW1UNaXYU0CO3FfFKhVSQKju4HcfyklAY/OiahWITkClhw4FQx9HQPy3CroS4E9A/kypLehxSkBL1aQIm7lRQNq/+mWBM1FABfTJ8wI/UUBc3LT9tIJIQChTVq2Fh0lAkalFezTBTEBKf3IlErlKQN+AIP+Ef05AiuNO57cGTkC+Zd0rVG1SQHlTNPmxuFBAPRfw9RN+RkBtNuEf8exKQBohdNiAw0tALBGu9GKkUkAJmvjO2jdRQLAiVLRxHkpAgmscnVq0R0CiY8dw5PBLQOtu217RU0tAm855fv3/S0CZw1rw4HFHQApwoPjvH0pA+Nmgax8CSEBqLl62jTdJQP8gUjsHr1BAtdwX3R5nTECpFVRL5JNNQAIu+0D2aUxAfVU7R81ySEDmsmgeSGRKQP9Niukul0hAIMLumhy1RkAHRT3wyUFNQJlLtRpSGVFASkmLh7iGT0Amw6vVVINOQIMAWDvihk9A37zEb3NySkDcY65I3RNQQN41JZ3DS0xAjIYlOIY0UEB/5I+BVAFPQOtA9aSn8VFAsrodLHotVkBL3qGX6U1XQO4hyHMhE1hAlL6pG/A8V0Dw/PC4KBxXQKp6506jP1pAP+/XIOHEWEB0rS4zjFZYQHX80N1x5llAQ1szdRTTXUCuzkuOk65eQAV+/HFIQWJAJBBo5Lv7YUBocL91PZRkQBpKYxc2sGdAM3OUz06KZ0CrobJxlLVnQM5+qtaDj2hAp41wleCAZkBOpUaI9KBoQFYxBN4haWpADYc592VYaUBnX7Tls3poQAD+OgljW2tAA6I7UB33bUB9sBYwjI9sQF5CApaGTWlALxFxly4uaEAJpY+Pox1oQFMAFkTwl2hAZtYjnt64aUAGjI/jcV5mQFG9cUQT+2RA/Bj3HpjHZUA78K66FGdhQOdn4TNTLGJAW1ogOyiKXkDOwttUm+dZQEbJDGcyEllAsxJeY46CXUAmjbdCH0lbQEDeUKnU02BAx98PhAVsYkDeauX0nv9hQNPMczDWpmRAJEG4FkwQZkBaye3ahzdmQH1ObMP/rmdAX8lE8JC3ZECwky72z2liQFaY+iXqVmRAqJIRCHI1ZUB+9CCDHvhkQDLu5IIecmZAoXCBYjQQY0Cdwq5XVuZjQCWnNeuPoGRAPwSihXoaX0CnZ/wU3+1jQNQKrqRQ72JAt936tDmrX0AxXV8x+s9dQH8QIVWxrlVA6+Bo4tHRV0CBERMLJeRcQNEZAHab3llAXElKLACmX0Chtqf2I3tcQMSlZEsOhlRAdA6jEQV9UkAUba2X3j5OQLTZSQIGvVhA+wFHX1KBV0BbD5Sw4GdbQMXP7wguE1lAVqCIhebVV0DwvxzoYvxZQNc7kuhMg1pAhApTwNhHXkA4nYZQ40NVQAKI2M2GtFVAatOZVuQ0WUD/IiZqbfpUQK+/+1QzjldA29XvcYj9VEBcuLW34ExUQK5fzuXOmlVAfAOUOfzwWEBhlt/bKydYQIRj/hBZKlxApNiSqDt/XUBLvsHWdRJSQJG5vdHHmV1A9BovkTJyXUD8XMiMAp9WQOufp6qZnFlAX599aCgrUkBxQwyFOqdXQImgZ9ri71lAsfYtDWmwVED9amYuFg1XQAvmmdtJVVZAIidkO4GaWkANJmlfugdVQPQHJaWke1BAzdx+Nbb3UUDo+neYvN9RQLKembCY4VJAaJZ80rD5VkCZFkc4KZhdQCpgBHiJ6WJAcxqhQ64DY0DOMQoPYkZkQA+v0Fzcu2NA65rMSINfZ0AToQG4B1xlQO1NbE8WimNA\",\"dtype\":\"float64\",\"shape\":[672]}},\"selected\":{\"id\":\"3247\",\"type\":\"Selection\"},\"selection_policy\":{\"id\":\"3246\",\"type\":\"UnionRenderers\"}},\"id\":\"3073\",\"type\":\"ColumnDataSource\"},{\"attributes\":{},\"id\":\"3055\",\"type\":\"PanTool\"},{\"attributes\":{},\"id\":\"3059\",\"type\":\"ResetTool\"},{\"attributes\":{\"months\":[0,1,2,3,4,5,6,7,8,9,10,11]},\"id\":\"3239\",\"type\":\"MonthsTicker\"},{\"attributes\":{\"days\":[1,2,3,4,5,6,7,8,9,10,11,12,13,14,15,16,17,18,19,20,21,22,23,24,25,26,27,28,29,30,31]},\"id\":\"3235\",\"type\":\"DaysTicker\"},{\"attributes\":{\"months\":[0,2,4,6,8,10]},\"id\":\"3240\",\"type\":\"MonthsTicker\"},{\"attributes\":{\"callback\":null},\"id\":\"3039\",\"type\":\"DataRange1d\"},{\"attributes\":{\"data_source\":{\"id\":\"3068\",\"type\":\"ColumnDataSource\"},\"glyph\":{\"id\":\"3069\",\"type\":\"Circle\"},\"hover_glyph\":null,\"muted_glyph\":null,\"nonselection_glyph\":{\"id\":\"3070\",\"type\":\"Circle\"},\"selection_glyph\":null,\"view\":{\"id\":\"3072\",\"type\":\"CDSView\"}},\"id\":\"3071\",\"type\":\"GlyphRenderer\"},{\"attributes\":{},\"id\":\"3060\",\"type\":\"HelpTool\"},{\"attributes\":{\"months\":[0,4,8]},\"id\":\"3241\",\"type\":\"MonthsTicker\"},{\"attributes\":{},\"id\":\"3043\",\"type\":\"LinearScale\"},{\"attributes\":{},\"id\":\"3229\",\"type\":\"DatetimeTickFormatter\"},{\"attributes\":{\"months\":[0,6]},\"id\":\"3242\",\"type\":\"MonthsTicker\"},{\"attributes\":{\"axis_label\":\"Date\",\"axis_label_text_font_size\":{\"value\":\"14pt\"},\"formatter\":{\"id\":\"3229\",\"type\":\"DatetimeTickFormatter\"},\"major_label_text_font_size\":{\"value\":\"12pt\"},\"ticker\":{\"id\":\"3046\",\"type\":\"DatetimeTicker\"}},\"id\":\"3045\",\"type\":\"DatetimeAxis\"},{\"attributes\":{\"source\":{\"id\":\"3068\",\"type\":\"ColumnDataSource\"}},\"id\":\"3072\",\"type\":\"CDSView\"},{\"attributes\":{},\"id\":\"3245\",\"type\":\"Selection\"},{\"attributes\":{\"dimension\":1,\"grid_line_alpha\":0.3,\"ticker\":{\"id\":\"3051\",\"type\":\"BasicTicker\"}},\"id\":\"3054\",\"type\":\"Grid\"},{\"attributes\":{\"line_alpha\":0.1,\"line_color\":\"#1f77b4\",\"x\":{\"field\":\"x\"},\"y\":{\"field\":\"y\"}},\"id\":\"3075\",\"type\":\"Line\"},{\"attributes\":{},\"id\":\"3243\",\"type\":\"YearsTicker\"},{\"attributes\":{\"num_minor_ticks\":5,\"tickers\":[{\"id\":\"3232\",\"type\":\"AdaptiveTicker\"},{\"id\":\"3233\",\"type\":\"AdaptiveTicker\"},{\"id\":\"3234\",\"type\":\"AdaptiveTicker\"},{\"id\":\"3235\",\"type\":\"DaysTicker\"},{\"id\":\"3236\",\"type\":\"DaysTicker\"},{\"id\":\"3237\",\"type\":\"DaysTicker\"},{\"id\":\"3238\",\"type\":\"DaysTicker\"},{\"id\":\"3239\",\"type\":\"MonthsTicker\"},{\"id\":\"3240\",\"type\":\"MonthsTicker\"},{\"id\":\"3241\",\"type\":\"MonthsTicker\"},{\"id\":\"3242\",\"type\":\"MonthsTicker\"},{\"id\":\"3243\",\"type\":\"YearsTicker\"}]},\"id\":\"3046\",\"type\":\"DatetimeTicker\"},{\"attributes\":{\"line_dash\":[6],\"line_width\":{\"value\":2},\"location\":115.07131474356186},\"id\":\"3078\",\"type\":\"Span\"},{\"attributes\":{},\"id\":\"3244\",\"type\":\"UnionRenderers\"},{\"attributes\":{\"grid_line_alpha\":0.3,\"ticker\":{\"id\":\"3046\",\"type\":\"DatetimeTicker\"}},\"id\":\"3049\",\"type\":\"Grid\"},{\"attributes\":{},\"id\":\"3246\",\"type\":\"UnionRenderers\"},{\"attributes\":{},\"id\":\"3051\",\"type\":\"BasicTicker\"},{\"attributes\":{\"fill_alpha\":{\"value\":0.1},\"fill_color\":{\"value\":\"#1f77b4\"},\"line_alpha\":{\"value\":0.1},\"line_color\":{\"value\":\"#1f77b4\"},\"x\":{\"field\":\"x\"},\"y\":{\"field\":\"y\"}},\"id\":\"3070\",\"type\":\"Circle\"},{\"attributes\":{},\"id\":\"3247\",\"type\":\"Selection\"},{\"attributes\":{\"axis_label\":\"RMSE [KW]\",\"axis_label_text_font_size\":{\"value\":\"14pt\"},\"formatter\":{\"id\":\"3231\",\"type\":\"BasicTickFormatter\"},\"major_label_text_font_size\":{\"value\":\"12pt\"},\"ticker\":{\"id\":\"3051\",\"type\":\"BasicTicker\"}},\"id\":\"3050\",\"type\":\"LinearAxis\"},{\"attributes\":{\"mantissas\":[1,2,5],\"max_interval\":500.0,\"num_minor_ticks\":0},\"id\":\"3232\",\"type\":\"AdaptiveTicker\"},{\"attributes\":{\"bottom_units\":\"screen\",\"fill_alpha\":{\"value\":0.5},\"fill_color\":{\"value\":\"lightgrey\"},\"left_units\":\"screen\",\"level\":\"overlay\",\"line_alpha\":{\"value\":1.0},\"line_color\":{\"value\":\"black\"},\"line_dash\":[4,4],\"line_width\":{\"value\":2},\"render_mode\":\"css\",\"right_units\":\"screen\",\"top_units\":\"screen\"},\"id\":\"3248\",\"type\":\"BoxAnnotation\"},{\"attributes\":{\"days\":[1,8,15,22]},\"id\":\"3237\",\"type\":\"DaysTicker\"},{\"attributes\":{\"x\":{\"field\":\"x\"},\"y\":{\"field\":\"y\"}},\"id\":\"3074\",\"type\":\"Line\"},{\"attributes\":{\"days\":[1,4,7,10,13,16,19,22,25,28]},\"id\":\"3236\",\"type\":\"DaysTicker\"},{\"attributes\":{\"base\":24,\"mantissas\":[1,2,4,6,8,12],\"max_interval\":43200000.0,\"min_interval\":3600000.0,\"num_minor_ticks\":0},\"id\":\"3234\",\"type\":\"AdaptiveTicker\"},{\"attributes\":{\"source\":{\"id\":\"3073\",\"type\":\"ColumnDataSource\"}},\"id\":\"3077\",\"type\":\"CDSView\"},{\"attributes\":{\"base\":60,\"mantissas\":[1,2,5,10,15,20,30],\"max_interval\":1800000.0,\"min_interval\":1000.0,\"num_minor_ticks\":0},\"id\":\"3233\",\"type\":\"AdaptiveTicker\"},{\"attributes\":{\"active_drag\":\"auto\",\"active_inspect\":\"auto\",\"active_multi\":null,\"active_scroll\":\"auto\",\"active_tap\":\"auto\",\"tools\":[{\"id\":\"3055\",\"type\":\"PanTool\"},{\"id\":\"3056\",\"type\":\"WheelZoomTool\"},{\"id\":\"3057\",\"type\":\"BoxZoomTool\"},{\"id\":\"3058\",\"type\":\"SaveTool\"},{\"id\":\"3059\",\"type\":\"ResetTool\"},{\"id\":\"3060\",\"type\":\"HelpTool\"}]},\"id\":\"3061\",\"type\":\"Toolbar\"},{\"attributes\":{\"fill_color\":{\"value\":null},\"x\":{\"field\":\"x\"},\"y\":{\"field\":\"y\"}},\"id\":\"3069\",\"type\":\"Circle\"},{\"attributes\":{},\"id\":\"3231\",\"type\":\"BasicTickFormatter\"},{\"attributes\":{\"data_source\":{\"id\":\"3073\",\"type\":\"ColumnDataSource\"},\"glyph\":{\"id\":\"3074\",\"type\":\"Line\"},\"hover_glyph\":null,\"muted_glyph\":null,\"nonselection_glyph\":{\"id\":\"3075\",\"type\":\"Line\"},\"selection_glyph\":null,\"view\":{\"id\":\"3077\",\"type\":\"CDSView\"}},\"id\":\"3076\",\"type\":\"GlyphRenderer\"},{\"attributes\":{\"callback\":null,\"data\":{\"x\":[1526338800000.0,1526342400000.0,1526346000000.0,1526349600000.0,1526353200000.0,1526356800000.0,1526360400000.0,1526364000000.0,1526367600000.0,1526371200000.0,1526374800000.0,1526378400000.0,1526382000000.0,1526385600000.0,1526389200000.0,1526392800000.0,1526396400000.0,1526400000000.0,1526403600000.0,1526407200000.0,1526410800000.0,1526414400000.0,1526418000000.0,1526421600000.0,1526425200000.0,1526428800000.0,1526432400000.0,1526436000000.0,1526439600000.0,1526443200000.0,1526446800000.0,1526450400000.0,1526454000000.0,1526457600000.0,1526461200000.0,1526464800000.0,1526468400000.0,1526472000000.0,1526475600000.0,1526479200000.0,1526482800000.0,1526486400000.0,1526490000000.0,1526493600000.0,1526497200000.0,1526500800000.0,1526504400000.0,1526508000000.0,1526511600000.0,1526515200000.0,1526518800000.0,1526522400000.0,1526526000000.0,1526529600000.0,1526533200000.0,1526536800000.0,1526540400000.0,1526544000000.0,1526547600000.0,1526551200000.0,1526554800000.0,1526558400000.0,1526562000000.0,1526565600000.0,1526569200000.0,1526572800000.0,1526576400000.0,1526580000000.0,1526583600000.0,1526587200000.0,1526590800000.0,1526594400000.0,1526598000000.0,1526601600000.0,1526605200000.0,1526608800000.0,1526612400000.0,1526616000000.0,1526619600000.0,1526623200000.0,1526626800000.0,1526630400000.0,1526634000000.0,1526637600000.0,1526641200000.0,1526644800000.0,1526648400000.0,1526652000000.0,1526655600000.0,1526659200000.0,1526662800000.0,1526666400000.0,1526670000000.0,1526673600000.0,1526677200000.0,1526680800000.0,1526684400000.0,1526688000000.0,1526691600000.0,1526695200000.0,1526698800000.0,1526702400000.0,1526706000000.0,1526709600000.0,1526713200000.0,1526716800000.0,1526720400000.0,1526724000000.0,1526727600000.0,1526731200000.0,1526734800000.0,1526738400000.0,1526742000000.0,1526745600000.0,1526749200000.0,1526752800000.0,1526756400000.0,1526760000000.0,1526763600000.0,1526767200000.0,1526770800000.0,1526774400000.0,1526778000000.0,1526781600000.0,1526785200000.0,1526788800000.0,1526792400000.0,1526796000000.0,1526799600000.0,1526803200000.0,1526806800000.0,1526810400000.0,1526814000000.0,1526817600000.0,1526821200000.0,1526824800000.0,1526828400000.0,1526832000000.0,1526835600000.0,1526839200000.0,1526842800000.0,1526846400000.0,1526850000000.0,1526853600000.0,1526857200000.0,1526860800000.0,1526864400000.0,1526868000000.0,1526871600000.0,1526875200000.0,1526878800000.0,1526882400000.0,1526886000000.0,1526889600000.0,1526893200000.0,1526896800000.0,1526900400000.0,1526904000000.0,1526907600000.0,1526911200000.0,1526914800000.0,1526918400000.0,1526922000000.0,1526925600000.0,1526929200000.0,1526932800000.0,1526936400000.0,1526940000000.0,1526943600000.0,1526947200000.0,1526950800000.0,1526954400000.0,1526958000000.0,1526961600000.0,1526965200000.0,1526968800000.0,1526972400000.0,1526976000000.0,1526979600000.0,1526983200000.0,1526986800000.0,1526990400000.0,1526994000000.0,1526997600000.0,1527001200000.0,1527004800000.0,1527008400000.0,1527012000000.0,1527015600000.0,1527019200000.0,1527022800000.0,1527026400000.0,1527030000000.0,1527033600000.0,1527037200000.0,1527040800000.0,1527044400000.0,1527048000000.0,1527051600000.0,1527055200000.0,1527058800000.0,1527062400000.0,1527066000000.0,1527069600000.0,1527073200000.0,1527076800000.0,1527080400000.0,1527084000000.0,1527087600000.0,1527091200000.0,1527094800000.0,1527098400000.0,1527102000000.0,1527105600000.0,1527109200000.0,1527112800000.0,1527116400000.0,1527120000000.0,1527123600000.0,1527127200000.0,1527130800000.0,1527134400000.0,1527138000000.0,1527141600000.0,1527145200000.0,1527148800000.0,1527152400000.0,1527156000000.0,1527159600000.0,1527163200000.0,1527166800000.0,1527170400000.0,1527174000000.0,1527177600000.0,1527181200000.0,1527184800000.0,1527188400000.0,1527192000000.0,1527195600000.0,1527199200000.0,1527202800000.0,1527206400000.0,1527210000000.0,1527213600000.0,1527217200000.0,1527220800000.0,1527224400000.0,1527228000000.0,1527231600000.0,1527235200000.0,1527238800000.0,1527242400000.0,1527246000000.0,1527249600000.0,1527253200000.0,1527256800000.0,1527260400000.0,1527264000000.0,1527267600000.0,1527271200000.0,1527274800000.0,1527278400000.0,1527282000000.0,1527285600000.0,1527289200000.0,1527292800000.0,1527296400000.0,1527300000000.0,1527303600000.0,1527307200000.0,1527310800000.0,1527314400000.0,1527318000000.0,1527321600000.0,1527325200000.0,1527328800000.0,1527332400000.0,1527336000000.0,1527339600000.0,1527343200000.0,1527346800000.0,1527350400000.0,1527354000000.0,1527357600000.0,1527361200000.0,1527364800000.0,1527368400000.0,1527372000000.0,1527375600000.0,1527379200000.0,1527382800000.0,1527386400000.0,1527390000000.0,1527393600000.0,1527397200000.0,1527400800000.0,1527404400000.0,1527408000000.0,1527411600000.0,1527415200000.0,1527418800000.0,1527422400000.0,1527426000000.0,1527429600000.0,1527433200000.0,1527436800000.0,1527440400000.0,1527444000000.0,1527447600000.0,1527451200000.0,1527454800000.0,1527458400000.0,1527462000000.0,1527465600000.0,1527469200000.0,1527472800000.0,1527476400000.0,1527480000000.0,1527483600000.0,1527487200000.0,1527490800000.0,1527494400000.0,1527498000000.0,1527501600000.0,1527505200000.0,1527508800000.0,1527512400000.0,1527516000000.0,1527519600000.0,1527523200000.0,1527526800000.0,1527530400000.0,1527534000000.0,1527537600000.0,1527541200000.0,1527544800000.0,1527548400000.0,1527552000000.0,1527555600000.0,1527559200000.0,1527562800000.0,1527566400000.0,1527570000000.0,1527573600000.0,1527577200000.0,1527580800000.0,1527584400000.0,1527588000000.0,1527591600000.0,1527595200000.0,1527598800000.0,1527602400000.0,1527606000000.0,1527609600000.0,1527613200000.0,1527616800000.0,1527620400000.0,1527624000000.0,1527627600000.0,1527631200000.0,1527634800000.0,1527638400000.0,1527642000000.0,1527645600000.0,1527649200000.0,1527652800000.0,1527656400000.0,1527660000000.0,1527663600000.0,1527667200000.0,1527670800000.0,1527674400000.0,1527678000000.0,1527681600000.0,1527685200000.0,1527688800000.0,1527692400000.0,1527696000000.0,1527699600000.0,1527703200000.0,1527706800000.0,1527710400000.0,1527714000000.0,1527717600000.0,1527721200000.0,1527724800000.0,1527728400000.0,1527732000000.0,1527735600000.0,1527739200000.0,1527742800000.0,1527746400000.0,1527750000000.0,1527753600000.0,1527757200000.0,1527760800000.0,1527764400000.0,1527768000000.0,1527771600000.0,1527775200000.0,1527778800000.0,1527782400000.0,1527786000000.0,1527789600000.0,1527793200000.0,1527796800000.0,1527800400000.0,1527804000000.0,1527807600000.0,1527811200000.0,1527814800000.0,1527818400000.0,1527822000000.0,1527825600000.0,1527829200000.0,1527832800000.0,1527836400000.0,1527840000000.0,1527843600000.0,1527847200000.0,1527850800000.0,1527854400000.0,1527858000000.0,1527861600000.0,1527865200000.0,1527868800000.0,1527872400000.0,1527876000000.0,1527879600000.0,1527883200000.0,1527886800000.0,1527890400000.0,1527894000000.0,1527897600000.0,1527901200000.0,1527904800000.0,1527908400000.0,1527912000000.0,1527915600000.0,1527919200000.0,1527922800000.0,1527926400000.0,1527930000000.0,1527933600000.0,1527937200000.0,1527940800000.0,1527944400000.0,1527948000000.0,1527951600000.0,1527955200000.0,1527958800000.0,1527962400000.0,1527966000000.0,1527969600000.0,1527973200000.0,1527976800000.0,1527980400000.0,1527984000000.0,1527987600000.0,1527991200000.0,1527994800000.0,1527998400000.0,1528002000000.0,1528005600000.0,1528009200000.0,1528012800000.0,1528016400000.0,1528020000000.0,1528023600000.0,1528027200000.0,1528030800000.0,1528034400000.0,1528038000000.0,1528041600000.0,1528045200000.0,1528048800000.0,1528052400000.0,1528056000000.0,1528059600000.0,1528063200000.0,1528066800000.0,1528070400000.0,1528074000000.0,1528077600000.0,1528081200000.0,1528084800000.0,1528088400000.0,1528092000000.0,1528095600000.0,1528099200000.0,1528102800000.0,1528106400000.0,1528110000000.0,1528113600000.0,1528117200000.0,1528120800000.0,1528124400000.0,1528128000000.0,1528131600000.0,1528135200000.0,1528138800000.0,1528142400000.0,1528146000000.0,1528149600000.0,1528153200000.0,1528156800000.0,1528160400000.0,1528164000000.0,1528167600000.0,1528171200000.0,1528174800000.0,1528178400000.0,1528182000000.0,1528185600000.0,1528189200000.0,1528192800000.0,1528196400000.0,1528200000000.0,1528203600000.0,1528207200000.0,1528210800000.0,1528214400000.0,1528218000000.0,1528221600000.0,1528225200000.0,1528228800000.0,1528232400000.0,1528236000000.0,1528239600000.0,1528243200000.0,1528246800000.0,1528250400000.0,1528254000000.0,1528257600000.0,1528261200000.0,1528264800000.0,1528268400000.0,1528272000000.0,1528275600000.0,1528279200000.0,1528282800000.0,1528286400000.0,1528290000000.0,1528293600000.0,1528297200000.0,1528300800000.0,1528304400000.0,1528308000000.0,1528311600000.0,1528315200000.0,1528318800000.0,1528322400000.0,1528326000000.0,1528329600000.0,1528333200000.0,1528336800000.0,1528340400000.0,1528344000000.0,1528347600000.0,1528351200000.0,1528354800000.0,1528358400000.0,1528362000000.0,1528365600000.0,1528369200000.0,1528372800000.0,1528376400000.0,1528380000000.0,1528383600000.0,1528387200000.0,1528390800000.0,1528394400000.0,1528398000000.0,1528401600000.0,1528405200000.0,1528408800000.0,1528412400000.0,1528416000000.0,1528419600000.0,1528423200000.0,1528426800000.0,1528430400000.0,1528434000000.0,1528437600000.0,1528441200000.0,1528444800000.0,1528448400000.0,1528452000000.0,1528455600000.0,1528459200000.0,1528462800000.0,1528466400000.0,1528470000000.0,1528473600000.0,1528477200000.0,1528480800000.0,1528484400000.0,1528488000000.0,1528491600000.0,1528495200000.0,1528498800000.0,1528502400000.0,1528506000000.0,1528509600000.0,1528513200000.0,1528516800000.0,1528520400000.0,1528524000000.0,1528527600000.0,1528531200000.0,1528534800000.0,1528538400000.0,1528542000000.0,1528545600000.0,1528549200000.0,1528552800000.0,1528556400000.0,1528560000000.0,1528563600000.0,1528567200000.0,1528570800000.0,1528574400000.0,1528578000000.0,1528581600000.0,1528585200000.0,1528588800000.0,1528592400000.0,1528596000000.0,1528599600000.0,1528603200000.0,1528606800000.0,1528610400000.0,1528614000000.0,1528617600000.0,1528621200000.0,1528624800000.0,1528628400000.0,1528632000000.0,1528635600000.0,1528639200000.0,1528642800000.0,1528646400000.0,1528650000000.0,1528653600000.0,1528657200000.0,1528660800000.0,1528664400000.0,1528668000000.0,1528671600000.0,1528675200000.0,1528678800000.0,1528682400000.0,1528686000000.0,1528689600000.0,1528693200000.0,1528696800000.0,1528700400000.0,1528704000000.0,1528707600000.0,1528711200000.0,1528714800000.0,1528718400000.0,1528722000000.0,1528725600000.0,1528729200000.0,1528732800000.0,1528736400000.0,1528740000000.0,1528743600000.0,1528747200000.0,1528750800000.0,1528754400000.0],\"y\":{\"__ndarray__\":\"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\",\"dtype\":\"float64\",\"shape\":[672]}},\"selected\":{\"id\":\"3245\",\"type\":\"Selection\"},\"selection_policy\":{\"id\":\"3244\",\"type\":\"UnionRenderers\"}},\"id\":\"3068\",\"type\":\"ColumnDataSource\"}],\"root_ids\":[\"3034\"]},\"title\":\"Bokeh Application\",\"version\":\"1.4.0\"}};\n",
       "  var render_items = [{\"docid\":\"4ec90ecb-5619-460d-8079-5d8872098ffb\",\"roots\":{\"3034\":\"1cb7a041-f05f-4fac-8583-37a79b57d61a\"}}];\n",
       "  root.Bokeh.embed.embed_items_notebook(docs_json, render_items);\n",
       "\n",
       "  }\n",
       "  if (root.Bokeh !== undefined) {\n",
       "    embed_document(root);\n",
       "  } else {\n",
       "    var attempts = 0;\n",
       "    var timer = setInterval(function(root) {\n",
       "      if (root.Bokeh !== undefined) {\n",
       "        clearInterval(timer);\n",
       "        embed_document(root);\n",
       "      } else {\n",
       "        attempts++;\n",
       "        if (attempts > 100) {\n",
       "          clearInterval(timer);\n",
       "          console.log(\"Bokeh: ERROR: Unable to run BokehJS code because BokehJS library is missing\");\n",
       "        }\n",
       "      }\n",
       "    }, 10, root)\n",
       "  }\n",
       "})(window);"
      ],
      "application/vnd.bokehjs_exec.v0+json": ""
     },
     "metadata": {
      "application/vnd.bokehjs_exec.v0+json": {
       "id": "3034"
      }
     },
     "output_type": "display_data"
    }
   ],
   "source": [
    "# MAE, RMSE, and SMAPE for rolling predictions in 4 weeks\n",
    "# from global dataframe\n",
    "start, end = 0, 672\n",
    "size = 4\n",
    "\n",
    "plots['bsctrfm_metric'] = figure(\n",
    "    x_axis_type='datetime',\n",
    "    plot_width=960,\n",
    "    plot_height=320,\n",
    "    title='BSCTRFM Performance: {} for {} Consecutive 1-hour Rolling Predictions.'\\\n",
    "    .format('RMSE', end),\n",
    "    toolbar_location=None,\n",
    ")\n",
    "\n",
    "plots['bsctrfm_metric'].grid.grid_line_alpha=0.3\n",
    "\n",
    "plots['bsctrfm_metric'].title.text_font_size = '14pt'\n",
    "\n",
    "plots['bsctrfm_metric'].xaxis.axis_label_text_font_size = \"14pt\"\n",
    "plots['bsctrfm_metric'].yaxis.axis_label_text_font_size = \"14pt\"\n",
    "\n",
    "plots['bsctrfm_metric'].xaxis.major_label_text_font_size = \"12pt\"\n",
    "plots['bsctrfm_metric'].yaxis.major_label_text_font_size = \"12pt\"\n",
    "\n",
    "plots['bsctrfm_metric'].xaxis.axis_label = 'Date'\n",
    "plots['bsctrfm_metric'].yaxis.axis_label = 'RMSE [KW]'\n",
    "\n",
    "plots['bsctrfm_metric'].circle(\n",
    "    x=[pd.to_datetime(row[0]) for row in global_df['string_timestamps'][start:end]],\n",
    "    y=global_df['rmse'][start:end],\n",
    "    color='black',\n",
    "    size=size,\n",
    "    fill_color=None,\n",
    ")\n",
    "plots['bsctrfm_metric'].line(\n",
    "    x=[pd.to_datetime(row[0]) for row in global_df['string_timestamps'][start:end]],\n",
    "    y=global_df['rmse'][start:end],\n",
    "    color='black',\n",
    ")\n",
    "\n",
    "arima_one_week_rmse_average = Span(\n",
    "    location=np.mean(np.array(arima_one_week_rmse)),\n",
    "    dimension='width',\n",
    "    line_color='black',\n",
    "    line_dash='dashed',\n",
    "    line_width=2)\n",
    "\n",
    "plots['bsctrfm_metric'].add_layout(arima_one_week_rmse_average)\n",
    "\n",
    "show(plots['bsctrfm_metric'])"
   ]
  },
  {
   "cell_type": "code",
   "execution_count": 65,
   "metadata": {},
   "outputs": [
    {
     "data": {
      "text/html": [
       "\n",
       "\n",
       "\n",
       "\n",
       "\n",
       "\n",
       "  <div class=\"bk-root\" id=\"6e5de2d1-598d-485c-8d64-a9a24259315b\" data-root-id=\"3381\"></div>\n"
      ]
     },
     "metadata": {},
     "output_type": "display_data"
    },
    {
     "data": {
      "application/javascript": [
       "(function(root) {\n",
       "  function embed_document(root) {\n",
       "    \n",
       "  var docs_json = {\"9f297d25-7d1f-47d2-8d93-6f62654d146e\":{\"roots\":{\"references\":[{\"attributes\":{\"below\":[{\"id\":\"3392\",\"type\":\"DatetimeAxis\"}],\"center\":[{\"id\":\"3396\",\"type\":\"Grid\"},{\"id\":\"3401\",\"type\":\"Grid\"},{\"id\":\"3425\",\"type\":\"Span\"}],\"left\":[{\"id\":\"3397\",\"type\":\"LinearAxis\"}],\"plot_height\":320,\"plot_width\":960,\"renderers\":[{\"id\":\"3418\",\"type\":\"GlyphRenderer\"},{\"id\":\"3423\",\"type\":\"GlyphRenderer\"}],\"title\":{\"id\":\"3382\",\"type\":\"Title\"},\"toolbar\":{\"id\":\"3408\",\"type\":\"Toolbar\"},\"toolbar_location\":null,\"x_range\":{\"id\":\"3384\",\"type\":\"DataRange1d\"},\"x_scale\":{\"id\":\"3388\",\"type\":\"LinearScale\"},\"y_range\":{\"id\":\"3386\",\"type\":\"DataRange1d\"},\"y_scale\":{\"id\":\"3390\",\"type\":\"LinearScale\"}},\"id\":\"3381\",\"subtype\":\"Figure\",\"type\":\"Plot\"},{\"attributes\":{\"num_minor_ticks\":5,\"tickers\":[{\"id\":\"3601\",\"type\":\"AdaptiveTicker\"},{\"id\":\"3602\",\"type\":\"AdaptiveTicker\"},{\"id\":\"3603\",\"type\":\"AdaptiveTicker\"},{\"id\":\"3604\",\"type\":\"DaysTicker\"},{\"id\":\"3605\",\"type\":\"DaysTicker\"},{\"id\":\"3606\",\"type\":\"DaysTicker\"},{\"id\":\"3607\",\"type\":\"DaysTicker\"},{\"id\":\"3608\",\"type\":\"MonthsTicker\"},{\"id\":\"3609\",\"type\":\"MonthsTicker\"},{\"id\":\"3610\",\"type\":\"MonthsTicker\"},{\"id\":\"3611\",\"type\":\"MonthsTicker\"},{\"id\":\"3612\",\"type\":\"YearsTicker\"}]},\"id\":\"3393\",\"type\":\"DatetimeTicker\"},{\"attributes\":{\"callback\":null,\"data\":{\"x\":[1526338800000.0,1526342400000.0,1526346000000.0,1526349600000.0,1526353200000.0,1526356800000.0,1526360400000.0,1526364000000.0,1526367600000.0,1526371200000.0,1526374800000.0,1526378400000.0,1526382000000.0,1526385600000.0,1526389200000.0,1526392800000.0,1526396400000.0,1526400000000.0,1526403600000.0,1526407200000.0,1526410800000.0,1526414400000.0,1526418000000.0,1526421600000.0,1526425200000.0,1526428800000.0,1526432400000.0,1526436000000.0,1526439600000.0,1526443200000.0,1526446800000.0,1526450400000.0,1526454000000.0,1526457600000.0,1526461200000.0,1526464800000.0,1526468400000.0,1526472000000.0,1526475600000.0,1526479200000.0,1526482800000.0,1526486400000.0,1526490000000.0,1526493600000.0,1526497200000.0,1526500800000.0,1526504400000.0,1526508000000.0,1526511600000.0,1526515200000.0,1526518800000.0,1526522400000.0,1526526000000.0,1526529600000.0,1526533200000.0,1526536800000.0,1526540400000.0,1526544000000.0,1526547600000.0,1526551200000.0,1526554800000.0,1526558400000.0,1526562000000.0,1526565600000.0,1526569200000.0,1526572800000.0,1526576400000.0,1526580000000.0,1526583600000.0,1526587200000.0,1526590800000.0,1526594400000.0,1526598000000.0,1526601600000.0,1526605200000.0,1526608800000.0,1526612400000.0,1526616000000.0,1526619600000.0,1526623200000.0,1526626800000.0,1526630400000.0,1526634000000.0,1526637600000.0,1526641200000.0,1526644800000.0,1526648400000.0,1526652000000.0,1526655600000.0,1526659200000.0,1526662800000.0,1526666400000.0,1526670000000.0,1526673600000.0,1526677200000.0,1526680800000.0,1526684400000.0,1526688000000.0,1526691600000.0,1526695200000.0,1526698800000.0,1526702400000.0,1526706000000.0,1526709600000.0,1526713200000.0,1526716800000.0,1526720400000.0,1526724000000.0,1526727600000.0,1526731200000.0,1526734800000.0,1526738400000.0,1526742000000.0,1526745600000.0,1526749200000.0,1526752800000.0,1526756400000.0,1526760000000.0,1526763600000.0,1526767200000.0,1526770800000.0,1526774400000.0,1526778000000.0,1526781600000.0,1526785200000.0,1526788800000.0,1526792400000.0,1526796000000.0,1526799600000.0,1526803200000.0,1526806800000.0,1526810400000.0,1526814000000.0,1526817600000.0,1526821200000.0,1526824800000.0,1526828400000.0,1526832000000.0,1526835600000.0,1526839200000.0,1526842800000.0,1526846400000.0,1526850000000.0,1526853600000.0,1526857200000.0,1526860800000.0,1526864400000.0,1526868000000.0,1526871600000.0,1526875200000.0,1526878800000.0,1526882400000.0,1526886000000.0,1526889600000.0,1526893200000.0,1526896800000.0,1526900400000.0,1526904000000.0,1526907600000.0,1526911200000.0,1526914800000.0,1526918400000.0,1526922000000.0,1526925600000.0,1526929200000.0,1526932800000.0,1526936400000.0,1526940000000.0,1526943600000.0,1526947200000.0,1526950800000.0,1526954400000.0,1526958000000.0,1526961600000.0,1526965200000.0,1526968800000.0,1526972400000.0,1526976000000.0,1526979600000.0,1526983200000.0,1526986800000.0,1526990400000.0,1526994000000.0,1526997600000.0,1527001200000.0,1527004800000.0,1527008400000.0,1527012000000.0,1527015600000.0,1527019200000.0,1527022800000.0,1527026400000.0,1527030000000.0,1527033600000.0,1527037200000.0,1527040800000.0,1527044400000.0,1527048000000.0,1527051600000.0,1527055200000.0,1527058800000.0,1527062400000.0,1527066000000.0,1527069600000.0,1527073200000.0,1527076800000.0,1527080400000.0,1527084000000.0,1527087600000.0,1527091200000.0,1527094800000.0,1527098400000.0,1527102000000.0,1527105600000.0,1527109200000.0,1527112800000.0,1527116400000.0,1527120000000.0,1527123600000.0,1527127200000.0,1527130800000.0,1527134400000.0,1527138000000.0,1527141600000.0,1527145200000.0,1527148800000.0,1527152400000.0,1527156000000.0,1527159600000.0,1527163200000.0,1527166800000.0,1527170400000.0,1527174000000.0,1527177600000.0,1527181200000.0,1527184800000.0,1527188400000.0,1527192000000.0,1527195600000.0,1527199200000.0,1527202800000.0,1527206400000.0,1527210000000.0,1527213600000.0,1527217200000.0,1527220800000.0,1527224400000.0,1527228000000.0,1527231600000.0,1527235200000.0,1527238800000.0,1527242400000.0,1527246000000.0,1527249600000.0,1527253200000.0,1527256800000.0,1527260400000.0,1527264000000.0,1527267600000.0,1527271200000.0,1527274800000.0,1527278400000.0,1527282000000.0,1527285600000.0,1527289200000.0,1527292800000.0,1527296400000.0,1527300000000.0,1527303600000.0,1527307200000.0,1527310800000.0,1527314400000.0,1527318000000.0,1527321600000.0,1527325200000.0,1527328800000.0,1527332400000.0,1527336000000.0,1527339600000.0,1527343200000.0,1527346800000.0,1527350400000.0,1527354000000.0,1527357600000.0,1527361200000.0,1527364800000.0,1527368400000.0,1527372000000.0,1527375600000.0,1527379200000.0,1527382800000.0,1527386400000.0,1527390000000.0,1527393600000.0,1527397200000.0,1527400800000.0,1527404400000.0,1527408000000.0,1527411600000.0,1527415200000.0,1527418800000.0,1527422400000.0,1527426000000.0,1527429600000.0,1527433200000.0,1527436800000.0,1527440400000.0,1527444000000.0,1527447600000.0,1527451200000.0,1527454800000.0,1527458400000.0,1527462000000.0,1527465600000.0,1527469200000.0,1527472800000.0,1527476400000.0,1527480000000.0,1527483600000.0,1527487200000.0,1527490800000.0,1527494400000.0,1527498000000.0,1527501600000.0,1527505200000.0,1527508800000.0,1527512400000.0,1527516000000.0,1527519600000.0,1527523200000.0,1527526800000.0,1527530400000.0,1527534000000.0,1527537600000.0,1527541200000.0,1527544800000.0,1527548400000.0,1527552000000.0,1527555600000.0,1527559200000.0,1527562800000.0,1527566400000.0,1527570000000.0,1527573600000.0,1527577200000.0,1527580800000.0,1527584400000.0,1527588000000.0,1527591600000.0,1527595200000.0,1527598800000.0,1527602400000.0,1527606000000.0,1527609600000.0,1527613200000.0,1527616800000.0,1527620400000.0,1527624000000.0,1527627600000.0,1527631200000.0,1527634800000.0,1527638400000.0,1527642000000.0,1527645600000.0,1527649200000.0,1527652800000.0,1527656400000.0,1527660000000.0,1527663600000.0,1527667200000.0,1527670800000.0,1527674400000.0,1527678000000.0,1527681600000.0,1527685200000.0,1527688800000.0,1527692400000.0,1527696000000.0,1527699600000.0,1527703200000.0,1527706800000.0,1527710400000.0,1527714000000.0,1527717600000.0,1527721200000.0,1527724800000.0,1527728400000.0,1527732000000.0,1527735600000.0,1527739200000.0,1527742800000.0,1527746400000.0,1527750000000.0,1527753600000.0,1527757200000.0,1527760800000.0,1527764400000.0,1527768000000.0,1527771600000.0,1527775200000.0,1527778800000.0,1527782400000.0,1527786000000.0,1527789600000.0,1527793200000.0,1527796800000.0,1527800400000.0,1527804000000.0,1527807600000.0,1527811200000.0,1527814800000.0,1527818400000.0,1527822000000.0,1527825600000.0,1527829200000.0,1527832800000.0,1527836400000.0,1527840000000.0,1527843600000.0,1527847200000.0,1527850800000.0,1527854400000.0,1527858000000.0,1527861600000.0,1527865200000.0,1527868800000.0,1527872400000.0,1527876000000.0,1527879600000.0,1527883200000.0,1527886800000.0,1527890400000.0,1527894000000.0,1527897600000.0,1527901200000.0,1527904800000.0,1527908400000.0,1527912000000.0,1527915600000.0,1527919200000.0,1527922800000.0,1527926400000.0,1527930000000.0,1527933600000.0,1527937200000.0,1527940800000.0,1527944400000.0,1527948000000.0,1527951600000.0,1527955200000.0,1527958800000.0,1527962400000.0,1527966000000.0,1527969600000.0,1527973200000.0,1527976800000.0,1527980400000.0,1527984000000.0,1527987600000.0,1527991200000.0,1527994800000.0,1527998400000.0,1528002000000.0,1528005600000.0,1528009200000.0,1528012800000.0,1528016400000.0,1528020000000.0,1528023600000.0,1528027200000.0,1528030800000.0,1528034400000.0,1528038000000.0,1528041600000.0,1528045200000.0,1528048800000.0,1528052400000.0,1528056000000.0,1528059600000.0,1528063200000.0,1528066800000.0,1528070400000.0,1528074000000.0,1528077600000.0,1528081200000.0,1528084800000.0,1528088400000.0,1528092000000.0,1528095600000.0,1528099200000.0,1528102800000.0,1528106400000.0,1528110000000.0,1528113600000.0,1528117200000.0,1528120800000.0,1528124400000.0,1528128000000.0,1528131600000.0,1528135200000.0,1528138800000.0,1528142400000.0,1528146000000.0,1528149600000.0,1528153200000.0,1528156800000.0,1528160400000.0,1528164000000.0,1528167600000.0,1528171200000.0,1528174800000.0,1528178400000.0,1528182000000.0,1528185600000.0,1528189200000.0,1528192800000.0,1528196400000.0,1528200000000.0,1528203600000.0,1528207200000.0,1528210800000.0,1528214400000.0,1528218000000.0,1528221600000.0,1528225200000.0,1528228800000.0,1528232400000.0,1528236000000.0,1528239600000.0,1528243200000.0,1528246800000.0,1528250400000.0,1528254000000.0,1528257600000.0,1528261200000.0,1528264800000.0,1528268400000.0,1528272000000.0,1528275600000.0,1528279200000.0,1528282800000.0,1528286400000.0,1528290000000.0,1528293600000.0,1528297200000.0,1528300800000.0,1528304400000.0,1528308000000.0,1528311600000.0,1528315200000.0,1528318800000.0,1528322400000.0,1528326000000.0,1528329600000.0,1528333200000.0,1528336800000.0,1528340400000.0,1528344000000.0,1528347600000.0,1528351200000.0,1528354800000.0,1528358400000.0,1528362000000.0,1528365600000.0,1528369200000.0,1528372800000.0,1528376400000.0,1528380000000.0,1528383600000.0,1528387200000.0,1528390800000.0,1528394400000.0,1528398000000.0,1528401600000.0,1528405200000.0,1528408800000.0,1528412400000.0,1528416000000.0,1528419600000.0,1528423200000.0,1528426800000.0,1528430400000.0,1528434000000.0,1528437600000.0,1528441200000.0,1528444800000.0,1528448400000.0,1528452000000.0,1528455600000.0,1528459200000.0,1528462800000.0,1528466400000.0,1528470000000.0,1528473600000.0,1528477200000.0,1528480800000.0,1528484400000.0,1528488000000.0,1528491600000.0,1528495200000.0,1528498800000.0,1528502400000.0,1528506000000.0,1528509600000.0,1528513200000.0,1528516800000.0,1528520400000.0,1528524000000.0,1528527600000.0,1528531200000.0,1528534800000.0,1528538400000.0,1528542000000.0,1528545600000.0,1528549200000.0,1528552800000.0,1528556400000.0,1528560000000.0,1528563600000.0,1528567200000.0,1528570800000.0,1528574400000.0,1528578000000.0,1528581600000.0,1528585200000.0,1528588800000.0,1528592400000.0,1528596000000.0,1528599600000.0,1528603200000.0,1528606800000.0,1528610400000.0,1528614000000.0,1528617600000.0,1528621200000.0,1528624800000.0,1528628400000.0,1528632000000.0,1528635600000.0,1528639200000.0,1528642800000.0,1528646400000.0,1528650000000.0,1528653600000.0,1528657200000.0,1528660800000.0,1528664400000.0,1528668000000.0,1528671600000.0,1528675200000.0,1528678800000.0,1528682400000.0,1528686000000.0,1528689600000.0,1528693200000.0,1528696800000.0,1528700400000.0,1528704000000.0,1528707600000.0,1528711200000.0,1528714800000.0,1528718400000.0,1528722000000.0,1528725600000.0,1528729200000.0,1528732800000.0,1528736400000.0,1528740000000.0,1528743600000.0,1528747200000.0,1528750800000.0,1528754400000.0],\"y\":{\"__ndarray__\":\"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\",\"dtype\":\"float64\",\"shape\":[672]}},\"selected\":{\"id\":\"3614\",\"type\":\"Selection\"},\"selection_policy\":{\"id\":\"3613\",\"type\":\"UnionRenderers\"}},\"id\":\"3415\",\"type\":\"ColumnDataSource\"},{\"attributes\":{\"grid_line_alpha\":0.3,\"ticker\":{\"id\":\"3393\",\"type\":\"DatetimeTicker\"}},\"id\":\"3396\",\"type\":\"Grid\"},{\"attributes\":{},\"id\":\"3390\",\"type\":\"LinearScale\"},{\"attributes\":{\"fill_color\":{\"value\":null},\"x\":{\"field\":\"x\"},\"y\":{\"field\":\"y\"}},\"id\":\"3416\",\"type\":\"Circle\"},{\"attributes\":{\"months\":[0,6]},\"id\":\"3611\",\"type\":\"MonthsTicker\"},{\"attributes\":{\"dimension\":1,\"grid_line_alpha\":0.3,\"ticker\":{\"id\":\"3398\",\"type\":\"BasicTicker\"}},\"id\":\"3401\",\"type\":\"Grid\"},{\"attributes\":{},\"id\":\"3614\",\"type\":\"Selection\"},{\"attributes\":{\"axis_label\":\"Date\",\"axis_label_text_font_size\":{\"value\":\"14pt\"},\"formatter\":{\"id\":\"3598\",\"type\":\"DatetimeTickFormatter\"},\"major_label_text_font_size\":{\"value\":\"12pt\"},\"ticker\":{\"id\":\"3393\",\"type\":\"DatetimeTicker\"}},\"id\":\"3392\",\"type\":\"DatetimeAxis\"},{\"attributes\":{},\"id\":\"3612\",\"type\":\"YearsTicker\"},{\"attributes\":{\"text\":\"BSCTRFM Performance: SMAPE for 672 Consecutive 1-hour Rolling Predictions.\",\"text_font_size\":{\"value\":\"14pt\"}},\"id\":\"3382\",\"type\":\"Title\"},{\"attributes\":{\"callback\":null},\"id\":\"3384\",\"type\":\"DataRange1d\"},{\"attributes\":{\"callback\":null},\"id\":\"3386\",\"type\":\"DataRange1d\"},{\"attributes\":{},\"id\":\"3398\",\"type\":\"BasicTicker\"},{\"attributes\":{},\"id\":\"3613\",\"type\":\"UnionRenderers\"},{\"attributes\":{\"data_source\":{\"id\":\"3415\",\"type\":\"ColumnDataSource\"},\"glyph\":{\"id\":\"3416\",\"type\":\"Circle\"},\"hover_glyph\":null,\"muted_glyph\":null,\"nonselection_glyph\":{\"id\":\"3417\",\"type\":\"Circle\"},\"selection_glyph\":null,\"view\":{\"id\":\"3419\",\"type\":\"CDSView\"}},\"id\":\"3418\",\"type\":\"GlyphRenderer\"},{\"attributes\":{\"axis_label\":\"SMAPE [%]\",\"axis_label_text_font_size\":{\"value\":\"14pt\"},\"formatter\":{\"id\":\"3600\",\"type\":\"BasicTickFormatter\"},\"major_label_text_font_size\":{\"value\":\"12pt\"},\"ticker\":{\"id\":\"3398\",\"type\":\"BasicTicker\"}},\"id\":\"3397\",\"type\":\"LinearAxis\"},{\"attributes\":{},\"id\":\"3615\",\"type\":\"UnionRenderers\"},{\"attributes\":{\"x\":{\"field\":\"x\"},\"y\":{\"field\":\"y\"}},\"id\":\"3421\",\"type\":\"Line\"},{\"attributes\":{\"base\":60,\"mantissas\":[1,2,5,10,15,20,30],\"max_interval\":1800000.0,\"min_interval\":1000.0,\"num_minor_ticks\":0},\"id\":\"3602\",\"type\":\"AdaptiveTicker\"},{\"attributes\":{},\"id\":\"3616\",\"type\":\"Selection\"},{\"attributes\":{\"mantissas\":[1,2,5],\"max_interval\":500.0,\"num_minor_ticks\":0},\"id\":\"3601\",\"type\":\"AdaptiveTicker\"},{\"attributes\":{\"bottom_units\":\"screen\",\"fill_alpha\":{\"value\":0.5},\"fill_color\":{\"value\":\"lightgrey\"},\"left_units\":\"screen\",\"level\":\"overlay\",\"line_alpha\":{\"value\":1.0},\"line_color\":{\"value\":\"black\"},\"line_dash\":[4,4],\"line_width\":{\"value\":2},\"render_mode\":\"css\",\"right_units\":\"screen\",\"top_units\":\"screen\"},\"id\":\"3617\",\"type\":\"BoxAnnotation\"},{\"attributes\":{\"line_alpha\":0.1,\"line_color\":\"#1f77b4\",\"x\":{\"field\":\"x\"},\"y\":{\"field\":\"y\"}},\"id\":\"3422\",\"type\":\"Line\"},{\"attributes\":{\"source\":{\"id\":\"3420\",\"type\":\"ColumnDataSource\"}},\"id\":\"3424\",\"type\":\"CDSView\"},{\"attributes\":{\"active_drag\":\"auto\",\"active_inspect\":\"auto\",\"active_multi\":null,\"active_scroll\":\"auto\",\"active_tap\":\"auto\",\"tools\":[{\"id\":\"3402\",\"type\":\"PanTool\"},{\"id\":\"3403\",\"type\":\"WheelZoomTool\"},{\"id\":\"3404\",\"type\":\"BoxZoomTool\"},{\"id\":\"3405\",\"type\":\"SaveTool\"},{\"id\":\"3406\",\"type\":\"ResetTool\"},{\"id\":\"3407\",\"type\":\"HelpTool\"}]},\"id\":\"3408\",\"type\":\"Toolbar\"},{\"attributes\":{\"days\":[1,2,3,4,5,6,7,8,9,10,11,12,13,14,15,16,17,18,19,20,21,22,23,24,25,26,27,28,29,30,31]},\"id\":\"3604\",\"type\":\"DaysTicker\"},{\"attributes\":{},\"id\":\"3388\",\"type\":\"LinearScale\"},{\"attributes\":{\"data_source\":{\"id\":\"3420\",\"type\":\"ColumnDataSource\"},\"glyph\":{\"id\":\"3421\",\"type\":\"Line\"},\"hover_glyph\":null,\"muted_glyph\":null,\"nonselection_glyph\":{\"id\":\"3422\",\"type\":\"Line\"},\"selection_glyph\":null,\"view\":{\"id\":\"3424\",\"type\":\"CDSView\"}},\"id\":\"3423\",\"type\":\"GlyphRenderer\"},{\"attributes\":{},\"id\":\"3600\",\"type\":\"BasicTickFormatter\"},{\"attributes\":{},\"id\":\"3402\",\"type\":\"PanTool\"},{\"attributes\":{\"line_dash\":[6],\"line_width\":{\"value\":2},\"location\":3.819868460700571},\"id\":\"3425\",\"type\":\"Span\"},{\"attributes\":{},\"id\":\"3403\",\"type\":\"WheelZoomTool\"},{\"attributes\":{\"days\":[1,15]},\"id\":\"3607\",\"type\":\"DaysTicker\"},{\"attributes\":{\"overlay\":{\"id\":\"3617\",\"type\":\"BoxAnnotation\"}},\"id\":\"3404\",\"type\":\"BoxZoomTool\"},{\"attributes\":{\"base\":24,\"mantissas\":[1,2,4,6,8,12],\"max_interval\":43200000.0,\"min_interval\":3600000.0,\"num_minor_ticks\":0},\"id\":\"3603\",\"type\":\"AdaptiveTicker\"},{\"attributes\":{},\"id\":\"3405\",\"type\":\"SaveTool\"},{\"attributes\":{\"days\":[1,4,7,10,13,16,19,22,25,28]},\"id\":\"3605\",\"type\":\"DaysTicker\"},{\"attributes\":{\"months\":[0,1,2,3,4,5,6,7,8,9,10,11]},\"id\":\"3608\",\"type\":\"MonthsTicker\"},{\"attributes\":{\"callback\":null,\"data\":{\"x\":[1526338800000.0,1526342400000.0,1526346000000.0,1526349600000.0,1526353200000.0,1526356800000.0,1526360400000.0,1526364000000.0,1526367600000.0,1526371200000.0,1526374800000.0,1526378400000.0,1526382000000.0,1526385600000.0,1526389200000.0,1526392800000.0,1526396400000.0,1526400000000.0,1526403600000.0,1526407200000.0,1526410800000.0,1526414400000.0,1526418000000.0,1526421600000.0,1526425200000.0,1526428800000.0,1526432400000.0,1526436000000.0,1526439600000.0,1526443200000.0,1526446800000.0,1526450400000.0,1526454000000.0,1526457600000.0,1526461200000.0,1526464800000.0,1526468400000.0,1526472000000.0,1526475600000.0,1526479200000.0,1526482800000.0,1526486400000.0,1526490000000.0,1526493600000.0,1526497200000.0,1526500800000.0,1526504400000.0,1526508000000.0,1526511600000.0,1526515200000.0,1526518800000.0,1526522400000.0,1526526000000.0,1526529600000.0,1526533200000.0,1526536800000.0,1526540400000.0,1526544000000.0,1526547600000.0,1526551200000.0,1526554800000.0,1526558400000.0,1526562000000.0,1526565600000.0,1526569200000.0,1526572800000.0,1526576400000.0,1526580000000.0,1526583600000.0,1526587200000.0,1526590800000.0,1526594400000.0,1526598000000.0,1526601600000.0,1526605200000.0,1526608800000.0,1526612400000.0,1526616000000.0,1526619600000.0,1526623200000.0,1526626800000.0,1526630400000.0,1526634000000.0,1526637600000.0,1526641200000.0,1526644800000.0,1526648400000.0,1526652000000.0,1526655600000.0,1526659200000.0,1526662800000.0,1526666400000.0,1526670000000.0,1526673600000.0,1526677200000.0,1526680800000.0,1526684400000.0,1526688000000.0,1526691600000.0,1526695200000.0,1526698800000.0,1526702400000.0,1526706000000.0,1526709600000.0,1526713200000.0,1526716800000.0,1526720400000.0,1526724000000.0,1526727600000.0,1526731200000.0,1526734800000.0,1526738400000.0,1526742000000.0,1526745600000.0,1526749200000.0,1526752800000.0,1526756400000.0,1526760000000.0,1526763600000.0,1526767200000.0,1526770800000.0,1526774400000.0,1526778000000.0,1526781600000.0,1526785200000.0,1526788800000.0,1526792400000.0,1526796000000.0,1526799600000.0,1526803200000.0,1526806800000.0,1526810400000.0,1526814000000.0,1526817600000.0,1526821200000.0,1526824800000.0,1526828400000.0,1526832000000.0,1526835600000.0,1526839200000.0,1526842800000.0,1526846400000.0,1526850000000.0,1526853600000.0,1526857200000.0,1526860800000.0,1526864400000.0,1526868000000.0,1526871600000.0,1526875200000.0,1526878800000.0,1526882400000.0,1526886000000.0,1526889600000.0,1526893200000.0,1526896800000.0,1526900400000.0,1526904000000.0,1526907600000.0,1526911200000.0,1526914800000.0,1526918400000.0,1526922000000.0,1526925600000.0,1526929200000.0,1526932800000.0,1526936400000.0,1526940000000.0,1526943600000.0,1526947200000.0,1526950800000.0,1526954400000.0,1526958000000.0,1526961600000.0,1526965200000.0,1526968800000.0,1526972400000.0,1526976000000.0,1526979600000.0,1526983200000.0,1526986800000.0,1526990400000.0,1526994000000.0,1526997600000.0,1527001200000.0,1527004800000.0,1527008400000.0,1527012000000.0,1527015600000.0,1527019200000.0,1527022800000.0,1527026400000.0,1527030000000.0,1527033600000.0,1527037200000.0,1527040800000.0,1527044400000.0,1527048000000.0,1527051600000.0,1527055200000.0,1527058800000.0,1527062400000.0,1527066000000.0,1527069600000.0,1527073200000.0,1527076800000.0,1527080400000.0,1527084000000.0,1527087600000.0,1527091200000.0,1527094800000.0,1527098400000.0,1527102000000.0,1527105600000.0,1527109200000.0,1527112800000.0,1527116400000.0,1527120000000.0,1527123600000.0,1527127200000.0,1527130800000.0,1527134400000.0,1527138000000.0,1527141600000.0,1527145200000.0,1527148800000.0,1527152400000.0,1527156000000.0,1527159600000.0,1527163200000.0,1527166800000.0,1527170400000.0,1527174000000.0,1527177600000.0,1527181200000.0,1527184800000.0,1527188400000.0,1527192000000.0,1527195600000.0,1527199200000.0,1527202800000.0,1527206400000.0,1527210000000.0,1527213600000.0,1527217200000.0,1527220800000.0,1527224400000.0,1527228000000.0,1527231600000.0,1527235200000.0,1527238800000.0,1527242400000.0,1527246000000.0,1527249600000.0,1527253200000.0,1527256800000.0,1527260400000.0,1527264000000.0,1527267600000.0,1527271200000.0,1527274800000.0,1527278400000.0,1527282000000.0,1527285600000.0,1527289200000.0,1527292800000.0,1527296400000.0,1527300000000.0,1527303600000.0,1527307200000.0,1527310800000.0,1527314400000.0,1527318000000.0,1527321600000.0,1527325200000.0,1527328800000.0,1527332400000.0,1527336000000.0,1527339600000.0,1527343200000.0,1527346800000.0,1527350400000.0,1527354000000.0,1527357600000.0,1527361200000.0,1527364800000.0,1527368400000.0,1527372000000.0,1527375600000.0,1527379200000.0,1527382800000.0,1527386400000.0,1527390000000.0,1527393600000.0,1527397200000.0,1527400800000.0,1527404400000.0,1527408000000.0,1527411600000.0,1527415200000.0,1527418800000.0,1527422400000.0,1527426000000.0,1527429600000.0,1527433200000.0,1527436800000.0,1527440400000.0,1527444000000.0,1527447600000.0,1527451200000.0,1527454800000.0,1527458400000.0,1527462000000.0,1527465600000.0,1527469200000.0,1527472800000.0,1527476400000.0,1527480000000.0,1527483600000.0,1527487200000.0,1527490800000.0,1527494400000.0,1527498000000.0,1527501600000.0,1527505200000.0,1527508800000.0,1527512400000.0,1527516000000.0,1527519600000.0,1527523200000.0,1527526800000.0,1527530400000.0,1527534000000.0,1527537600000.0,1527541200000.0,1527544800000.0,1527548400000.0,1527552000000.0,1527555600000.0,1527559200000.0,1527562800000.0,1527566400000.0,1527570000000.0,1527573600000.0,1527577200000.0,1527580800000.0,1527584400000.0,1527588000000.0,1527591600000.0,1527595200000.0,1527598800000.0,1527602400000.0,1527606000000.0,1527609600000.0,1527613200000.0,1527616800000.0,1527620400000.0,1527624000000.0,1527627600000.0,1527631200000.0,1527634800000.0,1527638400000.0,1527642000000.0,1527645600000.0,1527649200000.0,1527652800000.0,1527656400000.0,1527660000000.0,1527663600000.0,1527667200000.0,1527670800000.0,1527674400000.0,1527678000000.0,1527681600000.0,1527685200000.0,1527688800000.0,1527692400000.0,1527696000000.0,1527699600000.0,1527703200000.0,1527706800000.0,1527710400000.0,1527714000000.0,1527717600000.0,1527721200000.0,1527724800000.0,1527728400000.0,1527732000000.0,1527735600000.0,1527739200000.0,1527742800000.0,1527746400000.0,1527750000000.0,1527753600000.0,1527757200000.0,1527760800000.0,1527764400000.0,1527768000000.0,1527771600000.0,1527775200000.0,1527778800000.0,1527782400000.0,1527786000000.0,1527789600000.0,1527793200000.0,1527796800000.0,1527800400000.0,1527804000000.0,1527807600000.0,1527811200000.0,1527814800000.0,1527818400000.0,1527822000000.0,1527825600000.0,1527829200000.0,1527832800000.0,1527836400000.0,1527840000000.0,1527843600000.0,1527847200000.0,1527850800000.0,1527854400000.0,1527858000000.0,1527861600000.0,1527865200000.0,1527868800000.0,1527872400000.0,1527876000000.0,1527879600000.0,1527883200000.0,1527886800000.0,1527890400000.0,1527894000000.0,1527897600000.0,1527901200000.0,1527904800000.0,1527908400000.0,1527912000000.0,1527915600000.0,1527919200000.0,1527922800000.0,1527926400000.0,1527930000000.0,1527933600000.0,1527937200000.0,1527940800000.0,1527944400000.0,1527948000000.0,1527951600000.0,1527955200000.0,1527958800000.0,1527962400000.0,1527966000000.0,1527969600000.0,1527973200000.0,1527976800000.0,1527980400000.0,1527984000000.0,1527987600000.0,1527991200000.0,1527994800000.0,1527998400000.0,1528002000000.0,1528005600000.0,1528009200000.0,1528012800000.0,1528016400000.0,1528020000000.0,1528023600000.0,1528027200000.0,1528030800000.0,1528034400000.0,1528038000000.0,1528041600000.0,1528045200000.0,1528048800000.0,1528052400000.0,1528056000000.0,1528059600000.0,1528063200000.0,1528066800000.0,1528070400000.0,1528074000000.0,1528077600000.0,1528081200000.0,1528084800000.0,1528088400000.0,1528092000000.0,1528095600000.0,1528099200000.0,1528102800000.0,1528106400000.0,1528110000000.0,1528113600000.0,1528117200000.0,1528120800000.0,1528124400000.0,1528128000000.0,1528131600000.0,1528135200000.0,1528138800000.0,1528142400000.0,1528146000000.0,1528149600000.0,1528153200000.0,1528156800000.0,1528160400000.0,1528164000000.0,1528167600000.0,1528171200000.0,1528174800000.0,1528178400000.0,1528182000000.0,1528185600000.0,1528189200000.0,1528192800000.0,1528196400000.0,1528200000000.0,1528203600000.0,1528207200000.0,1528210800000.0,1528214400000.0,1528218000000.0,1528221600000.0,1528225200000.0,1528228800000.0,1528232400000.0,1528236000000.0,1528239600000.0,1528243200000.0,1528246800000.0,1528250400000.0,1528254000000.0,1528257600000.0,1528261200000.0,1528264800000.0,1528268400000.0,1528272000000.0,1528275600000.0,1528279200000.0,1528282800000.0,1528286400000.0,1528290000000.0,1528293600000.0,1528297200000.0,1528300800000.0,1528304400000.0,1528308000000.0,1528311600000.0,1528315200000.0,1528318800000.0,1528322400000.0,1528326000000.0,1528329600000.0,1528333200000.0,1528336800000.0,1528340400000.0,1528344000000.0,1528347600000.0,1528351200000.0,1528354800000.0,1528358400000.0,1528362000000.0,1528365600000.0,1528369200000.0,1528372800000.0,1528376400000.0,1528380000000.0,1528383600000.0,1528387200000.0,1528390800000.0,1528394400000.0,1528398000000.0,1528401600000.0,1528405200000.0,1528408800000.0,1528412400000.0,1528416000000.0,1528419600000.0,1528423200000.0,1528426800000.0,1528430400000.0,1528434000000.0,1528437600000.0,1528441200000.0,1528444800000.0,1528448400000.0,1528452000000.0,1528455600000.0,1528459200000.0,1528462800000.0,1528466400000.0,1528470000000.0,1528473600000.0,1528477200000.0,1528480800000.0,1528484400000.0,1528488000000.0,1528491600000.0,1528495200000.0,1528498800000.0,1528502400000.0,1528506000000.0,1528509600000.0,1528513200000.0,1528516800000.0,1528520400000.0,1528524000000.0,1528527600000.0,1528531200000.0,1528534800000.0,1528538400000.0,1528542000000.0,1528545600000.0,1528549200000.0,1528552800000.0,1528556400000.0,1528560000000.0,1528563600000.0,1528567200000.0,1528570800000.0,1528574400000.0,1528578000000.0,1528581600000.0,1528585200000.0,1528588800000.0,1528592400000.0,1528596000000.0,1528599600000.0,1528603200000.0,1528606800000.0,1528610400000.0,1528614000000.0,1528617600000.0,1528621200000.0,1528624800000.0,1528628400000.0,1528632000000.0,1528635600000.0,1528639200000.0,1528642800000.0,1528646400000.0,1528650000000.0,1528653600000.0,1528657200000.0,1528660800000.0,1528664400000.0,1528668000000.0,1528671600000.0,1528675200000.0,1528678800000.0,1528682400000.0,1528686000000.0,1528689600000.0,1528693200000.0,1528696800000.0,1528700400000.0,1528704000000.0,1528707600000.0,1528711200000.0,1528714800000.0,1528718400000.0,1528722000000.0,1528725600000.0,1528729200000.0,1528732800000.0,1528736400000.0,1528740000000.0,1528743600000.0,1528747200000.0,1528750800000.0,1528754400000.0],\"y\":{\"__ndarray__\":\"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\",\"dtype\":\"float64\",\"shape\":[672]}},\"selected\":{\"id\":\"3616\",\"type\":\"Selection\"},\"selection_policy\":{\"id\":\"3615\",\"type\":\"UnionRenderers\"}},\"id\":\"3420\",\"type\":\"ColumnDataSource\"},{\"attributes\":{},\"id\":\"3406\",\"type\":\"ResetTool\"},{\"attributes\":{\"months\":[0,4,8]},\"id\":\"3610\",\"type\":\"MonthsTicker\"},{\"attributes\":{\"fill_alpha\":{\"value\":0.1},\"fill_color\":{\"value\":\"#1f77b4\"},\"line_alpha\":{\"value\":0.1},\"line_color\":{\"value\":\"#1f77b4\"},\"x\":{\"field\":\"x\"},\"y\":{\"field\":\"y\"}},\"id\":\"3417\",\"type\":\"Circle\"},{\"attributes\":{\"days\":[1,8,15,22]},\"id\":\"3606\",\"type\":\"DaysTicker\"},{\"attributes\":{},\"id\":\"3598\",\"type\":\"DatetimeTickFormatter\"},{\"attributes\":{\"months\":[0,2,4,6,8,10]},\"id\":\"3609\",\"type\":\"MonthsTicker\"},{\"attributes\":{},\"id\":\"3407\",\"type\":\"HelpTool\"},{\"attributes\":{\"source\":{\"id\":\"3415\",\"type\":\"ColumnDataSource\"}},\"id\":\"3419\",\"type\":\"CDSView\"}],\"root_ids\":[\"3381\"]},\"title\":\"Bokeh Application\",\"version\":\"1.4.0\"}};\n",
       "  var render_items = [{\"docid\":\"9f297d25-7d1f-47d2-8d93-6f62654d146e\",\"roots\":{\"3381\":\"6e5de2d1-598d-485c-8d64-a9a24259315b\"}}];\n",
       "  root.Bokeh.embed.embed_items_notebook(docs_json, render_items);\n",
       "\n",
       "  }\n",
       "  if (root.Bokeh !== undefined) {\n",
       "    embed_document(root);\n",
       "  } else {\n",
       "    var attempts = 0;\n",
       "    var timer = setInterval(function(root) {\n",
       "      if (root.Bokeh !== undefined) {\n",
       "        clearInterval(timer);\n",
       "        embed_document(root);\n",
       "      } else {\n",
       "        attempts++;\n",
       "        if (attempts > 100) {\n",
       "          clearInterval(timer);\n",
       "          console.log(\"Bokeh: ERROR: Unable to run BokehJS code because BokehJS library is missing\");\n",
       "        }\n",
       "      }\n",
       "    }, 10, root)\n",
       "  }\n",
       "})(window);"
      ],
      "application/vnd.bokehjs_exec.v0+json": ""
     },
     "metadata": {
      "application/vnd.bokehjs_exec.v0+json": {
       "id": "3381"
      }
     },
     "output_type": "display_data"
    }
   ],
   "source": [
    "# MAE, RMSE, and SMAPE for rolling predictions in 4 weeks\n",
    "# from global dataframe\n",
    "start, end = 0, 672\n",
    "size = 4\n",
    "\n",
    "plots['bsctrfm_metric'] = figure(\n",
    "    x_axis_type='datetime',\n",
    "    plot_width=960,\n",
    "    plot_height=320,\n",
    "    title='BSCTRFM Performance: {} for {} Consecutive 1-hour Rolling Predictions.'\\\n",
    "    .format('SMAPE', end),\n",
    "    toolbar_location=None,\n",
    ")\n",
    "\n",
    "plots['bsctrfm_metric'].grid.grid_line_alpha=0.3\n",
    "\n",
    "plots['bsctrfm_metric'].title.text_font_size = '14pt'\n",
    "\n",
    "plots['bsctrfm_metric'].xaxis.axis_label_text_font_size = \"14pt\"\n",
    "plots['bsctrfm_metric'].yaxis.axis_label_text_font_size = \"14pt\"\n",
    "\n",
    "plots['bsctrfm_metric'].xaxis.major_label_text_font_size = \"12pt\"\n",
    "plots['bsctrfm_metric'].yaxis.major_label_text_font_size = \"12pt\"\n",
    "\n",
    "plots['bsctrfm_metric'].xaxis.axis_label = 'Date'\n",
    "plots['bsctrfm_metric'].yaxis.axis_label = 'SMAPE [%]'\n",
    "\n",
    "# adjust SMAPE for percentage value\n",
    "plots['bsctrfm_metric'].circle(\n",
    "    x=[pd.to_datetime(row[0]) for row in global_df['string_timestamps'][start:end]],\n",
    "    y=100*global_df['smape'][start:end],\n",
    "    color='black',\n",
    "    size=size,\n",
    "    fill_color=None,\n",
    ")\n",
    "# adjust SMAPE for percentage value\n",
    "plots['bsctrfm_metric'].line(\n",
    "    x=[pd.to_datetime(row[0]) for row in global_df['string_timestamps'][start:end]],\n",
    "    y=100*global_df['smape'][start:end],\n",
    "    color='black',\n",
    ")\n",
    "\n",
    "arima_one_week_smape_average = Span(\n",
    "    location=np.mean(np.array(arima_one_week_smape)),\n",
    "    dimension='width',\n",
    "    line_color='black',\n",
    "    line_dash='dashed',\n",
    "    line_width=2)\n",
    "\n",
    "plots['bsctrfm_metric'].add_layout(arima_one_week_smape_average)\n",
    "\n",
    "show(plots['bsctrfm_metric'])"
   ]
  },
  {
   "cell_type": "code",
   "execution_count": null,
   "metadata": {},
   "outputs": [],
   "source": []
  },
  {
   "cell_type": "code",
   "execution_count": 61,
   "metadata": {},
   "outputs": [
    {
     "name": "stdout",
     "output_type": "stream",
     "text": [
      "total 408\r\n",
      "-rw-rw-r-- 1 developer developer    69 sep 22 13:48 BSCTRFM_TPU_010_09_eval.csv\r\n",
      "-rw-rw-r-- 1 developer developer 46229 sep 22 13:48 BSCTRFM_TPU_010_09_loss.csv\r\n",
      "-rw-rw-r-- 1 developer developer 46008 sep 22 13:48 BSCTRFM_TPU_010_09_lrs.csv\r\n",
      "-rw-rw-r-- 1 developer developer    69 sep 23 17:44 BSCTRFM_TPU_011_07_eval.csv\r\n",
      "-rw-rw-r-- 1 developer developer 45428 sep 23 17:44 BSCTRFM_TPU_011_07_loss.csv\r\n",
      "-rw-rw-r-- 1 developer developer 45874 sep 23 17:44 BSCTRFM_TPU_011_07_lrs.csv\r\n",
      "-rw-rw-r-- 1 developer developer 44853 sep 20 13:27 DMSLSTM_TPU_006_09_loss.csv\r\n",
      "-rw-rw-r-- 1 developer developer 44752 sep 20 13:27 DMSLSTM_TPU_006_09_lrs.csv\r\n",
      "-rw-rw-r-- 1 developer developer    68 sep 21 12:13 EDSLSTM_TPU_013_05_eval.csv\r\n",
      "-rw-rw-r-- 1 developer developer 44489 sep 21 12:13 EDSLSTM_TPU_013_05_loss.csv\r\n",
      "-rw-rw-r-- 1 developer developer 44597 sep 21 12:12 EDSLSTM_TPU_013_05_lrs.csv\r\n",
      "-rw-rw-r-- 1 developer developer 27526 may 23 11:05 transformer_metrics.ods\r\n"
     ]
    }
   ],
   "source": [
    "! ls -l /home/developer/DEPFIE-SCOM/ScD_Thesis/results"
   ]
  },
  {
   "cell_type": "code",
   "execution_count": 62,
   "metadata": {},
   "outputs": [],
   "source": [
    "eval_loss_df = pd.read_csv(\n",
    "    '/home/developer/DEPFIE-SCOM/ScD_Thesis/results/BSCTRFM_TPU_011_07_eval.csv'\n",
    ")"
   ]
  },
  {
   "cell_type": "code",
   "execution_count": 63,
   "metadata": {},
   "outputs": [
    {
     "data": {
      "text/html": [
       "<div>\n",
       "<style scoped>\n",
       "    .dataframe tbody tr th:only-of-type {\n",
       "        vertical-align: middle;\n",
       "    }\n",
       "\n",
       "    .dataframe tbody tr th {\n",
       "        vertical-align: top;\n",
       "    }\n",
       "\n",
       "    .dataframe thead th {\n",
       "        text-align: right;\n",
       "    }\n",
       "</style>\n",
       "<table border=\"1\" class=\"dataframe\">\n",
       "  <thead>\n",
       "    <tr style=\"text-align: right;\">\n",
       "      <th></th>\n",
       "      <th>Wall time</th>\n",
       "      <th>Step</th>\n",
       "      <th>Value</th>\n",
       "    </tr>\n",
       "  </thead>\n",
       "  <tbody>\n",
       "    <tr>\n",
       "      <th>0</th>\n",
       "      <td>1.627664e+09</td>\n",
       "      <td>2400</td>\n",
       "      <td>0.000305</td>\n",
       "    </tr>\n",
       "  </tbody>\n",
       "</table>\n",
       "</div>"
      ],
      "text/plain": [
       "      Wall time  Step     Value\n",
       "0  1.627664e+09  2400  0.000305"
      ]
     },
     "execution_count": 63,
     "metadata": {},
     "output_type": "execute_result"
    }
   ],
   "source": [
    "eval_loss_df"
   ]
  },
  {
   "cell_type": "code",
   "execution_count": 64,
   "metadata": {},
   "outputs": [],
   "source": [
    "loss_df = pd.read_csv(\n",
    "    '/home/developer/DEPFIE-SCOM/ScD_Thesis/results/BSCTRFM_TPU_011_07_loss.csv'\n",
    ")"
   ]
  },
  {
   "cell_type": "code",
   "execution_count": 65,
   "metadata": {},
   "outputs": [
    {
     "data": {
      "text/html": [
       "<div>\n",
       "<style scoped>\n",
       "    .dataframe tbody tr th:only-of-type {\n",
       "        vertical-align: middle;\n",
       "    }\n",
       "\n",
       "    .dataframe tbody tr th {\n",
       "        vertical-align: top;\n",
       "    }\n",
       "\n",
       "    .dataframe thead th {\n",
       "        text-align: right;\n",
       "    }\n",
       "</style>\n",
       "<table border=\"1\" class=\"dataframe\">\n",
       "  <thead>\n",
       "    <tr style=\"text-align: right;\">\n",
       "      <th></th>\n",
       "      <th>Wall time</th>\n",
       "      <th>Step</th>\n",
       "      <th>Value</th>\n",
       "    </tr>\n",
       "  </thead>\n",
       "  <tbody>\n",
       "    <tr>\n",
       "      <th>0</th>\n",
       "      <td>1.627664e+09</td>\n",
       "      <td>3</td>\n",
       "      <td>0.145125</td>\n",
       "    </tr>\n",
       "    <tr>\n",
       "      <th>1</th>\n",
       "      <td>1.627664e+09</td>\n",
       "      <td>4</td>\n",
       "      <td>0.151897</td>\n",
       "    </tr>\n",
       "    <tr>\n",
       "      <th>2</th>\n",
       "      <td>1.627664e+09</td>\n",
       "      <td>10</td>\n",
       "      <td>0.052871</td>\n",
       "    </tr>\n",
       "    <tr>\n",
       "      <th>3</th>\n",
       "      <td>1.627664e+09</td>\n",
       "      <td>14</td>\n",
       "      <td>0.036549</td>\n",
       "    </tr>\n",
       "    <tr>\n",
       "      <th>4</th>\n",
       "      <td>1.627664e+09</td>\n",
       "      <td>15</td>\n",
       "      <td>0.036463</td>\n",
       "    </tr>\n",
       "    <tr>\n",
       "      <th>...</th>\n",
       "      <td>...</td>\n",
       "      <td>...</td>\n",
       "      <td>...</td>\n",
       "    </tr>\n",
       "    <tr>\n",
       "      <th>995</th>\n",
       "      <td>1.627664e+09</td>\n",
       "      <td>2395</td>\n",
       "      <td>0.000319</td>\n",
       "    </tr>\n",
       "    <tr>\n",
       "      <th>996</th>\n",
       "      <td>1.627664e+09</td>\n",
       "      <td>2396</td>\n",
       "      <td>0.000369</td>\n",
       "    </tr>\n",
       "    <tr>\n",
       "      <th>997</th>\n",
       "      <td>1.627664e+09</td>\n",
       "      <td>2397</td>\n",
       "      <td>0.000379</td>\n",
       "    </tr>\n",
       "    <tr>\n",
       "      <th>998</th>\n",
       "      <td>1.627664e+09</td>\n",
       "      <td>2398</td>\n",
       "      <td>0.000337</td>\n",
       "    </tr>\n",
       "    <tr>\n",
       "      <th>999</th>\n",
       "      <td>1.627664e+09</td>\n",
       "      <td>2399</td>\n",
       "      <td>0.000364</td>\n",
       "    </tr>\n",
       "  </tbody>\n",
       "</table>\n",
       "<p>1000 rows × 3 columns</p>\n",
       "</div>"
      ],
      "text/plain": [
       "        Wall time  Step     Value\n",
       "0    1.627664e+09     3  0.145125\n",
       "1    1.627664e+09     4  0.151897\n",
       "2    1.627664e+09    10  0.052871\n",
       "3    1.627664e+09    14  0.036549\n",
       "4    1.627664e+09    15  0.036463\n",
       "..            ...   ...       ...\n",
       "995  1.627664e+09  2395  0.000319\n",
       "996  1.627664e+09  2396  0.000369\n",
       "997  1.627664e+09  2397  0.000379\n",
       "998  1.627664e+09  2398  0.000337\n",
       "999  1.627664e+09  2399  0.000364\n",
       "\n",
       "[1000 rows x 3 columns]"
      ]
     },
     "execution_count": 65,
     "metadata": {},
     "output_type": "execute_result"
    }
   ],
   "source": [
    "loss_df"
   ]
  },
  {
   "cell_type": "code",
   "execution_count": 66,
   "metadata": {},
   "outputs": [],
   "source": [
    "lrs_df = pd.read_csv(\n",
    "    '/home/developer/DEPFIE-SCOM/ScD_Thesis/results/BSCTRFM_TPU_011_07_lrs.csv'\n",
    ")"
   ]
  },
  {
   "cell_type": "code",
   "execution_count": 67,
   "metadata": {},
   "outputs": [
    {
     "data": {
      "text/html": [
       "<div>\n",
       "<style scoped>\n",
       "    .dataframe tbody tr th:only-of-type {\n",
       "        vertical-align: middle;\n",
       "    }\n",
       "\n",
       "    .dataframe tbody tr th {\n",
       "        vertical-align: top;\n",
       "    }\n",
       "\n",
       "    .dataframe thead th {\n",
       "        text-align: right;\n",
       "    }\n",
       "</style>\n",
       "<table border=\"1\" class=\"dataframe\">\n",
       "  <thead>\n",
       "    <tr style=\"text-align: right;\">\n",
       "      <th></th>\n",
       "      <th>Wall time</th>\n",
       "      <th>Step</th>\n",
       "      <th>Value</th>\n",
       "    </tr>\n",
       "  </thead>\n",
       "  <tbody>\n",
       "    <tr>\n",
       "      <th>0</th>\n",
       "      <td>1.627664e+09</td>\n",
       "      <td>3</td>\n",
       "      <td>0.000010</td>\n",
       "    </tr>\n",
       "    <tr>\n",
       "      <th>1</th>\n",
       "      <td>1.627664e+09</td>\n",
       "      <td>4</td>\n",
       "      <td>0.000014</td>\n",
       "    </tr>\n",
       "    <tr>\n",
       "      <th>2</th>\n",
       "      <td>1.627664e+09</td>\n",
       "      <td>10</td>\n",
       "      <td>0.000035</td>\n",
       "    </tr>\n",
       "    <tr>\n",
       "      <th>3</th>\n",
       "      <td>1.627664e+09</td>\n",
       "      <td>14</td>\n",
       "      <td>0.000048</td>\n",
       "    </tr>\n",
       "    <tr>\n",
       "      <th>4</th>\n",
       "      <td>1.627664e+09</td>\n",
       "      <td>15</td>\n",
       "      <td>0.000052</td>\n",
       "    </tr>\n",
       "    <tr>\n",
       "      <th>...</th>\n",
       "      <td>...</td>\n",
       "      <td>...</td>\n",
       "      <td>...</td>\n",
       "    </tr>\n",
       "    <tr>\n",
       "      <th>995</th>\n",
       "      <td>1.627664e+09</td>\n",
       "      <td>2395</td>\n",
       "      <td>0.000084</td>\n",
       "    </tr>\n",
       "    <tr>\n",
       "      <th>996</th>\n",
       "      <td>1.627664e+09</td>\n",
       "      <td>2396</td>\n",
       "      <td>0.000084</td>\n",
       "    </tr>\n",
       "    <tr>\n",
       "      <th>997</th>\n",
       "      <td>1.627664e+09</td>\n",
       "      <td>2397</td>\n",
       "      <td>0.000084</td>\n",
       "    </tr>\n",
       "    <tr>\n",
       "      <th>998</th>\n",
       "      <td>1.627664e+09</td>\n",
       "      <td>2398</td>\n",
       "      <td>0.000084</td>\n",
       "    </tr>\n",
       "    <tr>\n",
       "      <th>999</th>\n",
       "      <td>1.627664e+09</td>\n",
       "      <td>2399</td>\n",
       "      <td>0.000084</td>\n",
       "    </tr>\n",
       "  </tbody>\n",
       "</table>\n",
       "<p>1000 rows × 3 columns</p>\n",
       "</div>"
      ],
      "text/plain": [
       "        Wall time  Step     Value\n",
       "0    1.627664e+09     3  0.000010\n",
       "1    1.627664e+09     4  0.000014\n",
       "2    1.627664e+09    10  0.000035\n",
       "3    1.627664e+09    14  0.000048\n",
       "4    1.627664e+09    15  0.000052\n",
       "..            ...   ...       ...\n",
       "995  1.627664e+09  2395  0.000084\n",
       "996  1.627664e+09  2396  0.000084\n",
       "997  1.627664e+09  2397  0.000084\n",
       "998  1.627664e+09  2398  0.000084\n",
       "999  1.627664e+09  2399  0.000084\n",
       "\n",
       "[1000 rows x 3 columns]"
      ]
     },
     "execution_count": 67,
     "metadata": {},
     "output_type": "execute_result"
    }
   ],
   "source": [
    "lrs_df"
   ]
  },
  {
   "cell_type": "code",
   "execution_count": 72,
   "metadata": {},
   "outputs": [
    {
     "data": {
      "text/html": [
       "\n",
       "\n",
       "\n",
       "\n",
       "\n",
       "\n",
       "  <div class=\"bk-root\" id=\"dc903ccd-ed26-48e2-b179-9e8b1c919d68\" data-root-id=\"2537\"></div>\n"
      ]
     },
     "metadata": {},
     "output_type": "display_data"
    },
    {
     "data": {
      "application/javascript": [
       "(function(root) {\n",
       "  function embed_document(root) {\n",
       "    \n",
       "  var docs_json = {\"f1f58a19-c7d4-43b4-82ee-19fef972010d\":{\"roots\":{\"references\":[{\"attributes\":{\"below\":[{\"id\":\"2548\",\"type\":\"LinearAxis\"}],\"center\":[{\"id\":\"2552\",\"type\":\"Grid\"},{\"id\":\"2557\",\"type\":\"Grid\"}],\"left\":[{\"id\":\"2553\",\"type\":\"LinearAxis\"}],\"plot_height\":320,\"plot_width\":960,\"renderers\":[{\"id\":\"2575\",\"type\":\"GlyphRenderer\"}],\"title\":{\"id\":\"2538\",\"type\":\"Title\"},\"toolbar\":{\"id\":\"2564\",\"type\":\"Toolbar\"},\"toolbar_location\":null,\"x_range\":{\"id\":\"2571\",\"type\":\"Range1d\"},\"x_scale\":{\"id\":\"2544\",\"type\":\"LinearScale\"},\"y_range\":{\"id\":\"2542\",\"type\":\"DataRange1d\"},\"y_scale\":{\"id\":\"2546\",\"type\":\"LinearScale\"}},\"id\":\"2537\",\"subtype\":\"Figure\",\"type\":\"Plot\"},{\"attributes\":{\"active_drag\":\"auto\",\"active_inspect\":\"auto\",\"active_multi\":null,\"active_scroll\":\"auto\",\"active_tap\":\"auto\",\"tools\":[{\"id\":\"2558\",\"type\":\"PanTool\"},{\"id\":\"2559\",\"type\":\"WheelZoomTool\"},{\"id\":\"2560\",\"type\":\"BoxZoomTool\"},{\"id\":\"2561\",\"type\":\"SaveTool\"},{\"id\":\"2562\",\"type\":\"ResetTool\"},{\"id\":\"2563\",\"type\":\"HelpTool\"}]},\"id\":\"2564\",\"type\":\"Toolbar\"},{\"attributes\":{},\"id\":\"2563\",\"type\":\"HelpTool\"},{\"attributes\":{\"source\":{\"id\":\"2572\",\"type\":\"ColumnDataSource\"}},\"id\":\"2576\",\"type\":\"CDSView\"},{\"attributes\":{\"bottom_units\":\"screen\",\"fill_alpha\":{\"value\":0.5},\"fill_color\":{\"value\":\"lightgrey\"},\"left_units\":\"screen\",\"level\":\"overlay\",\"line_alpha\":{\"value\":1.0},\"line_color\":{\"value\":\"black\"},\"line_dash\":[4,4],\"line_width\":{\"value\":2},\"render_mode\":\"css\",\"right_units\":\"screen\",\"top_units\":\"screen\"},\"id\":\"2676\",\"type\":\"BoxAnnotation\"},{\"attributes\":{},\"id\":\"2671\",\"type\":\"BasicTickFormatter\"},{\"attributes\":{\"x\":{\"field\":\"x\"},\"y\":{\"field\":\"y\"}},\"id\":\"2573\",\"type\":\"Line\"},{\"attributes\":{\"callback\":null,\"end\":2550},\"id\":\"2571\",\"type\":\"Range1d\"},{\"attributes\":{},\"id\":\"2549\",\"type\":\"BasicTicker\"},{\"attributes\":{\"dimension\":1,\"grid_line_alpha\":0.3,\"ticker\":{\"id\":\"2554\",\"type\":\"BasicTicker\"}},\"id\":\"2557\",\"type\":\"Grid\"},{\"attributes\":{},\"id\":\"2558\",\"type\":\"PanTool\"},{\"attributes\":{},\"id\":\"2675\",\"type\":\"UnionRenderers\"},{\"attributes\":{\"text\":\"BSCTRFM Learning Rate Schedule.\",\"text_font_size\":{\"value\":\"14pt\"}},\"id\":\"2538\",\"type\":\"Title\"},{\"attributes\":{},\"id\":\"2674\",\"type\":\"Selection\"},{\"attributes\":{},\"id\":\"2544\",\"type\":\"LinearScale\"},{\"attributes\":{},\"id\":\"2559\",\"type\":\"WheelZoomTool\"},{\"attributes\":{\"data_source\":{\"id\":\"2572\",\"type\":\"ColumnDataSource\"},\"glyph\":{\"id\":\"2573\",\"type\":\"Line\"},\"hover_glyph\":null,\"muted_glyph\":null,\"nonselection_glyph\":{\"id\":\"2574\",\"type\":\"Line\"},\"selection_glyph\":null,\"view\":{\"id\":\"2576\",\"type\":\"CDSView\"}},\"id\":\"2575\",\"type\":\"GlyphRenderer\"},{\"attributes\":{},\"id\":\"2546\",\"type\":\"LinearScale\"},{\"attributes\":{},\"id\":\"2673\",\"type\":\"BasicTickFormatter\"},{\"attributes\":{},\"id\":\"2561\",\"type\":\"SaveTool\"},{\"attributes\":{\"axis_label\":\"Training Step\",\"axis_label_text_font_size\":{\"value\":\"14pt\"},\"formatter\":{\"id\":\"2671\",\"type\":\"BasicTickFormatter\"},\"major_label_text_font_size\":{\"value\":\"12pt\"},\"ticker\":{\"id\":\"2549\",\"type\":\"BasicTicker\"}},\"id\":\"2548\",\"type\":\"LinearAxis\"},{\"attributes\":{},\"id\":\"2562\",\"type\":\"ResetTool\"},{\"attributes\":{\"grid_line_alpha\":0.3,\"ticker\":{\"id\":\"2549\",\"type\":\"BasicTicker\"}},\"id\":\"2552\",\"type\":\"Grid\"},{\"attributes\":{\"callback\":null},\"id\":\"2542\",\"type\":\"DataRange1d\"},{\"attributes\":{\"line_alpha\":0.1,\"line_color\":\"#1f77b4\",\"x\":{\"field\":\"x\"},\"y\":{\"field\":\"y\"}},\"id\":\"2574\",\"type\":\"Line\"},{\"attributes\":{\"overlay\":{\"id\":\"2676\",\"type\":\"BoxAnnotation\"}},\"id\":\"2560\",\"type\":\"BoxZoomTool\"},{\"attributes\":{\"axis_label\":\"Learning Rate\",\"axis_label_text_font_size\":{\"value\":\"14pt\"},\"formatter\":{\"id\":\"2673\",\"type\":\"BasicTickFormatter\"},\"major_label_text_font_size\":{\"value\":\"12pt\"},\"ticker\":{\"id\":\"2554\",\"type\":\"BasicTicker\"}},\"id\":\"2553\",\"type\":\"LinearAxis\"},{\"attributes\":{\"callback\":null,\"data\":{\"x\":[3,4,10,14,15,18,19,20,22,23,26,27,33,38,40,47,48,49,51,54,57,60,61,62,63,65,66,67,68,70,71,77,79,80,82,85,89,90,99,100,103,106,107,109,116,121,125,126,128,130,131,136,137,144,146,147,150,157,159,160,162,164,170,171,172,175,176,177,181,184,185,186,190,191,192,195,199,200,202,203,204,205,207,209,211,213,215,216,219,220,221,222,224,229,237,238,239,241,244,245,246,247,253,254,258,259,260,262,270,271,274,276,278,280,282,283,285,287,288,290,295,296,297,298,306,308,309,312,316,318,319,322,324,329,331,332,337,338,340,343,345,346,350,352,353,354,358,362,363,364,365,366,367,374,377,378,386,390,391,392,393,394,397,402,404,408,409,413,414,415,418,421,422,425,426,430,435,436,437,439,440,441,443,444,445,446,450,451,452,453,454,456,458,460,461,465,466,468,470,474,475,478,479,480,481,483,484,487,488,489,491,494,498,502,503,506,509,510,511,512,513,514,517,518,519,520,523,530,533,534,536,537,538,539,540,542,544,546,547,550,552,555,556,562,563,564,568,571,573,576,580,584,585,586,588,590,591,592,594,596,597,598,599,602,603,605,608,610,613,614,616,618,620,622,623,626,628,629,633,637,640,641,642,643,644,649,651,652,653,654,655,658,660,667,670,675,676,677,680,682,683,684,687,692,694,696,697,699,702,703,705,709,710,712,715,717,720,721,723,725,726,728,729,731,732,733,738,742,743,744,755,756,758,764,765,768,769,772,775,776,778,779,780,781,782,788,791,799,804,805,806,807,810,818,819,821,823,827,828,832,833,835,836,837,839,840,843,845,850,851,854,857,860,862,865,866,870,871,884,885,886,888,890,892,895,897,898,901,902,904,907,908,910,911,914,918,919,921,923,927,928,930,931,932,933,935,939,941,942,945,949,952,955,956,960,962,963,965,967,968,971,976,978,979,981,982,986,990,992,994,996,998,999,1002,1003,1004,1006,1011,1013,1015,1016,1017,1022,1026,1028,1029,1035,1036,1037,1038,1039,1043,1046,1052,1053,1056,1058,1059,1060,1062,1065,1067,1069,1070,1071,1072,1073,1074,1077,1078,1080,1081,1082,1085,1086,1087,1091,1098,1100,1102,1103,1104,1107,1109,1111,1112,1114,1119,1121,1122,1125,1126,1128,1129,1131,1132,1134,1135,1136,1139,1142,1145,1146,1148,1150,1151,1152,1153,1160,1162,1164,1166,1167,1173,1174,1176,1177,1178,1182,1184,1186,1188,1189,1190,1193,1194,1195,1197,1198,1201,1205,1206,1207,1209,1213,1214,1215,1218,1223,1225,1229,1232,1233,1238,1240,1242,1243,1244,1246,1249,1250,1251,1252,1254,1256,1257,1260,1261,1267,1271,1276,1277,1278,1282,1285,1290,1293,1298,1299,1302,1306,1310,1315,1320,1322,1325,1326,1328,1335,1344,1345,1347,1348,1351,1352,1354,1358,1360,1364,1365,1366,1367,1368,1372,1373,1375,1376,1380,1385,1386,1390,1393,1397,1403,1416,1417,1421,1431,1432,1436,1438,1439,1440,1441,1444,1447,1449,1451,1452,1454,1455,1456,1457,1458,1459,1460,1461,1463,1470,1473,1474,1476,1483,1487,1489,1490,1493,1494,1498,1499,1500,1502,1509,1510,1511,1513,1515,1516,1523,1528,1534,1537,1538,1541,1548,1551,1552,1553,1562,1565,1566,1568,1570,1571,1572,1573,1576,1578,1580,1581,1582,1585,1590,1595,1596,1597,1601,1602,1603,1611,1613,1614,1616,1622,1624,1626,1627,1631,1635,1637,1640,1641,1646,1647,1649,1651,1652,1653,1654,1656,1658,1662,1664,1666,1669,1670,1674,1677,1679,1680,1682,1685,1686,1687,1688,1693,1694,1695,1697,1699,1700,1702,1704,1707,1709,1710,1711,1712,1718,1722,1723,1724,1725,1730,1738,1739,1743,1745,1748,1749,1750,1751,1753,1754,1757,1762,1763,1765,1768,1775,1776,1777,1780,1784,1785,1786,1789,1790,1792,1794,1796,1800,1802,1803,1808,1810,1814,1819,1823,1826,1827,1829,1830,1832,1833,1834,1836,1837,1838,1845,1846,1847,1848,1851,1860,1864,1865,1866,1867,1871,1872,1874,1875,1877,1880,1883,1884,1886,1888,1890,1895,1899,1902,1906,1908,1909,1910,1913,1918,1924,1925,1926,1929,1932,1935,1936,1940,1941,1942,1945,1947,1950,1951,1953,1956,1960,1961,1962,1963,1964,1966,1967,1968,1969,1975,1977,1979,1980,1981,1982,1983,1985,1987,1988,1991,1992,1995,2016,2017,2021,2022,2023,2025,2026,2028,2031,2032,2034,2035,2036,2040,2041,2043,2044,2047,2049,2054,2055,2056,2057,2067,2068,2070,2074,2078,2079,2084,2086,2087,2089,2090,2091,2095,2096,2097,2098,2100,2103,2104,2105,2106,2109,2110,2114,2115,2119,2120,2122,2123,2124,2126,2127,2134,2135,2136,2139,2143,2149,2150,2154,2155,2159,2160,2161,2162,2169,2173,2175,2176,2183,2185,2187,2189,2194,2199,2201,2202,2203,2206,2209,2211,2212,2214,2215,2216,2221,2222,2223,2225,2227,2233,2236,2239,2242,2244,2254,2257,2258,2264,2266,2267,2274,2276,2280,2281,2285,2291,2292,2293,2300,2305,2306,2307,2309,2311,2315,2316,2319,2324,2330,2332,2335,2340,2342,2343,2344,2346,2347,2348,2351,2352,2353,2357,2359,2362,2365,2368,2371,2373,2378,2384,2389,2391,2393,2394,2395,2396,2397,2398,2399],\"y\":{\"__ndarray__\":\"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\",\"dtype\":\"float64\",\"shape\":[1000]}},\"selected\":{\"id\":\"2674\",\"type\":\"Selection\"},\"selection_policy\":{\"id\":\"2675\",\"type\":\"UnionRenderers\"}},\"id\":\"2572\",\"type\":\"ColumnDataSource\"},{\"attributes\":{},\"id\":\"2554\",\"type\":\"BasicTicker\"}],\"root_ids\":[\"2537\"]},\"title\":\"Bokeh Application\",\"version\":\"1.4.0\"}};\n",
       "  var render_items = [{\"docid\":\"f1f58a19-c7d4-43b4-82ee-19fef972010d\",\"roots\":{\"2537\":\"dc903ccd-ed26-48e2-b179-9e8b1c919d68\"}}];\n",
       "  root.Bokeh.embed.embed_items_notebook(docs_json, render_items);\n",
       "\n",
       "  }\n",
       "  if (root.Bokeh !== undefined) {\n",
       "    embed_document(root);\n",
       "  } else {\n",
       "    var attempts = 0;\n",
       "    var timer = setInterval(function(root) {\n",
       "      if (root.Bokeh !== undefined) {\n",
       "        clearInterval(timer);\n",
       "        embed_document(root);\n",
       "      } else {\n",
       "        attempts++;\n",
       "        if (attempts > 100) {\n",
       "          clearInterval(timer);\n",
       "          console.log(\"Bokeh: ERROR: Unable to run BokehJS code because BokehJS library is missing\");\n",
       "        }\n",
       "      }\n",
       "    }, 10, root)\n",
       "  }\n",
       "})(window);"
      ],
      "application/vnd.bokehjs_exec.v0+json": ""
     },
     "metadata": {
      "application/vnd.bokehjs_exec.v0+json": {
       "id": "2537"
      }
     },
     "output_type": "display_data"
    }
   ],
   "source": [
    "\n",
    "plots['bsctrfm_lrs'] = figure(\n",
    "    plot_width=960,\n",
    "    plot_height=320,\n",
    "    title='BSCTRFM Learning Rate Schedule.',\n",
    "    toolbar_location=None,\n",
    ")\n",
    "\n",
    "plots['bsctrfm_lrs'].grid.grid_line_alpha=0.3\n",
    "\n",
    "# a custom x range to visuallly improve the the plot\n",
    "plots['bsctrfm_lrs'].x_range = Range1d(\n",
    "    start=0,\n",
    "    end=2550\n",
    ")\n",
    "\n",
    "plots['bsctrfm_lrs'].title.text_font_size = '14pt'\n",
    "\n",
    "plots['bsctrfm_lrs'].xaxis.axis_label_text_font_size = \"14pt\"\n",
    "plots['bsctrfm_lrs'].yaxis.axis_label_text_font_size = \"14pt\"\n",
    "\n",
    "plots['bsctrfm_lrs'].xaxis.major_label_text_font_size = \"12pt\"\n",
    "plots['bsctrfm_lrs'].yaxis.major_label_text_font_size = \"12pt\"\n",
    "\n",
    "plots['bsctrfm_lrs'].xaxis.axis_label = 'Training Step'\n",
    "plots['bsctrfm_lrs'].yaxis.axis_label = 'Learning Rate'\n",
    "\n",
    "# adjust SMAPE for percentage value\n",
    "plots['bsctrfm_lrs'].line(\n",
    "    x=lrs_df['Step'],\n",
    "    y=lrs_df['Value'],\n",
    "    color='black',\n",
    ")\n",
    "\n",
    "show(plots['bsctrfm_lrs'])"
   ]
  },
  {
   "cell_type": "code",
   "execution_count": 73,
   "metadata": {},
   "outputs": [],
   "source": [
    "eval_loss = 0.000305"
   ]
  },
  {
   "cell_type": "code",
   "execution_count": 76,
   "metadata": {},
   "outputs": [
    {
     "data": {
      "text/html": [
       "\n",
       "\n",
       "\n",
       "\n",
       "\n",
       "\n",
       "  <div class=\"bk-root\" id=\"25d15fc9-b0b9-4928-b1f6-83e47041d5d4\" data-root-id=\"3127\"></div>\n"
      ]
     },
     "metadata": {},
     "output_type": "display_data"
    },
    {
     "data": {
      "application/javascript": [
       "(function(root) {\n",
       "  function embed_document(root) {\n",
       "    \n",
       "  var docs_json = {\"ea428245-3f13-4d69-80b7-e1cb6d4d76e0\":{\"roots\":{\"references\":[{\"attributes\":{\"below\":[{\"id\":\"3138\",\"type\":\"LinearAxis\"}],\"center\":[{\"id\":\"3142\",\"type\":\"Grid\"},{\"id\":\"3147\",\"type\":\"Grid\"},{\"id\":\"3168\",\"type\":\"Span\"}],\"left\":[{\"id\":\"3143\",\"type\":\"LinearAxis\"}],\"plot_height\":320,\"plot_width\":960,\"renderers\":[{\"id\":\"3166\",\"type\":\"GlyphRenderer\"}],\"title\":{\"id\":\"3128\",\"type\":\"Title\"},\"toolbar\":{\"id\":\"3154\",\"type\":\"Toolbar\"},\"toolbar_location\":null,\"x_range\":{\"id\":\"3161\",\"type\":\"Range1d\"},\"x_scale\":{\"id\":\"3134\",\"type\":\"LinearScale\"},\"y_range\":{\"id\":\"3162\",\"type\":\"Range1d\"},\"y_scale\":{\"id\":\"3136\",\"type\":\"LinearScale\"}},\"id\":\"3127\",\"subtype\":\"Figure\",\"type\":\"Plot\"},{\"attributes\":{\"callback\":null,\"data\":{\"x\":[3,4,10,14,15,18,19,20,22,23,26,27,33,38,40,47,48,49,51,54,57,60,61,62,63,65,66,67,68,70,71,77,79,80,82,85,89,90,99,100,103,106,107,109,116,121,125,126,128,130,131,136,137,144,146,147,150,157,159,160,162,164,170,171,172,175,176,177,181,184,185,186,190,191,192,195,199,200,202,203,204,205,207,209,211,213,215,216,219,220,221,222,224,229,237,238,239,241,244,245,246,247,253,254,258,259,260,262,270,271,274,276,278,280,282,283,285,287,288,290,295,296,297,298,306,308,309,312,316,318,319,322,324,329,331,332,337,338,340,343,345,346,350,352,353,354,358,362,363,364,365,366,367,374,377,378,386,390,391,392,393,394,397,402,404,408,409,413,414,415,418,421,422,425,426,430,435,436,437,439,440,441,443,444,445,446,450,451,452,453,454,456,458,460,461,465,466,468,470,474,475,478,479,480,481,483,484,487,488,489,491,494,498,502,503,506,509,510,511,512,513,514,517,518,519,520,523,530,533,534,536,537,538,539,540,542,544,546,547,550,552,555,556,562,563,564,568,571,573,576,580,584,585,586,588,590,591,592,594,596,597,598,599,602,603,605,608,610,613,614,616,618,620,622,623,626,628,629,633,637,640,641,642,643,644,649,651,652,653,654,655,658,660,667,670,675,676,677,680,682,683,684,687,692,694,696,697,699,702,703,705,709,710,712,715,717,720,721,723,725,726,728,729,731,732,733,738,742,743,744,755,756,758,764,765,768,769,772,775,776,778,779,780,781,782,788,791,799,804,805,806,807,810,818,819,821,823,827,828,832,833,835,836,837,839,840,843,845,850,851,854,857,860,862,865,866,870,871,884,885,886,888,890,892,895,897,898,901,902,904,907,908,910,911,914,918,919,921,923,927,928,930,931,932,933,935,939,941,942,945,949,952,955,956,960,962,963,965,967,968,971,976,978,979,981,982,986,990,992,994,996,998,999,1002,1003,1004,1006,1011,1013,1015,1016,1017,1022,1026,1028,1029,1035,1036,1037,1038,1039,1043,1046,1052,1053,1056,1058,1059,1060,1062,1065,1067,1069,1070,1071,1072,1073,1074,1077,1078,1080,1081,1082,1085,1086,1087,1091,1098,1100,1102,1103,1104,1107,1109,1111,1112,1114,1119,1121,1122,1125,1126,1128,1129,1131,1132,1134,1135,1136,1139,1142,1145,1146,1148,1150,1151,1152,1153,1160,1162,1164,1166,1167,1173,1174,1176,1177,1178,1182,1184,1186,1188,1189,1190,1193,1194,1195,1197,1198,1201,1205,1206,1207,1209,1213,1214,1215,1218,1223,1225,1229,1232,1233,1238,1240,1242,1243,1244,1246,1249,1250,1251,1252,1254,1256,1257,1260,1261,1267,1271,1276,1277,1278,1282,1285,1290,1293,1298,1299,1302,1306,1310,1315,1320,1322,1325,1326,1328,1335,1344,1345,1347,1348,1351,1352,1354,1358,1360,1364,1365,1366,1367,1368,1372,1373,1375,1376,1380,1385,1386,1390,1393,1397,1403,1416,1417,1421,1431,1432,1436,1438,1439,1440,1441,1444,1447,1449,1451,1452,1454,1455,1456,1457,1458,1459,1460,1461,1463,1470,1473,1474,1476,1483,1487,1489,1490,1493,1494,1498,1499,1500,1502,1509,1510,1511,1513,1515,1516,1523,1528,1534,1537,1538,1541,1548,1551,1552,1553,1562,1565,1566,1568,1570,1571,1572,1573,1576,1578,1580,1581,1582,1585,1590,1595,1596,1597,1601,1602,1603,1611,1613,1614,1616,1622,1624,1626,1627,1631,1635,1637,1640,1641,1646,1647,1649,1651,1652,1653,1654,1656,1658,1662,1664,1666,1669,1670,1674,1677,1679,1680,1682,1685,1686,1687,1688,1693,1694,1695,1697,1699,1700,1702,1704,1707,1709,1710,1711,1712,1718,1722,1723,1724,1725,1730,1738,1739,1743,1745,1748,1749,1750,1751,1753,1754,1757,1762,1763,1765,1768,1775,1776,1777,1780,1784,1785,1786,1789,1790,1792,1794,1796,1800,1802,1803,1808,1810,1814,1819,1823,1826,1827,1829,1830,1832,1833,1834,1836,1837,1838,1845,1846,1847,1848,1851,1860,1864,1865,1866,1867,1871,1872,1874,1875,1877,1880,1883,1884,1886,1888,1890,1895,1899,1902,1906,1908,1909,1910,1913,1918,1924,1925,1926,1929,1932,1935,1936,1940,1941,1942,1945,1947,1950,1951,1953,1956,1960,1961,1962,1963,1964,1966,1967,1968,1969,1975,1977,1979,1980,1981,1982,1983,1985,1987,1988,1991,1992,1995,2016,2017,2021,2022,2023,2025,2026,2028,2031,2032,2034,2035,2036,2040,2041,2043,2044,2047,2049,2054,2055,2056,2057,2067,2068,2070,2074,2078,2079,2084,2086,2087,2089,2090,2091,2095,2096,2097,2098,2100,2103,2104,2105,2106,2109,2110,2114,2115,2119,2120,2122,2123,2124,2126,2127,2134,2135,2136,2139,2143,2149,2150,2154,2155,2159,2160,2161,2162,2169,2173,2175,2176,2183,2185,2187,2189,2194,2199,2201,2202,2203,2206,2209,2211,2212,2214,2215,2216,2221,2222,2223,2225,2227,2233,2236,2239,2242,2244,2254,2257,2258,2264,2266,2267,2274,2276,2280,2281,2285,2291,2292,2293,2300,2305,2306,2307,2309,2311,2315,2316,2319,2324,2330,2332,2335,2340,2342,2343,2344,2346,2347,2348,2351,2352,2353,2357,2359,2362,2365,2368,2371,2373,2378,2384,2389,2391,2393,2394,2395,2396,2397,2398,2399],\"y\":{\"__ndarray__\":\"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\",\"dtype\":\"float64\",\"shape\":[1000]}},\"selected\":{\"id\":\"3290\",\"type\":\"Selection\"},\"selection_policy\":{\"id\":\"3291\",\"type\":\"UnionRenderers\"}},\"id\":\"3163\",\"type\":\"ColumnDataSource\"},{\"attributes\":{},\"id\":\"3152\",\"type\":\"ResetTool\"},{\"attributes\":{\"bottom_units\":\"screen\",\"fill_alpha\":{\"value\":0.5},\"fill_color\":{\"value\":\"lightgrey\"},\"left_units\":\"screen\",\"level\":\"overlay\",\"line_alpha\":{\"value\":1.0},\"line_color\":{\"value\":\"black\"},\"line_dash\":[4,4],\"line_width\":{\"value\":2},\"render_mode\":\"css\",\"right_units\":\"screen\",\"top_units\":\"screen\"},\"id\":\"3292\",\"type\":\"BoxAnnotation\"},{\"attributes\":{\"source\":{\"id\":\"3163\",\"type\":\"ColumnDataSource\"}},\"id\":\"3167\",\"type\":\"CDSView\"},{\"attributes\":{},\"id\":\"3153\",\"type\":\"HelpTool\"},{\"attributes\":{},\"id\":\"3136\",\"type\":\"LinearScale\"},{\"attributes\":{\"active_drag\":\"auto\",\"active_inspect\":\"auto\",\"active_multi\":null,\"active_scroll\":\"auto\",\"active_tap\":\"auto\",\"tools\":[{\"id\":\"3148\",\"type\":\"PanTool\"},{\"id\":\"3149\",\"type\":\"WheelZoomTool\"},{\"id\":\"3150\",\"type\":\"BoxZoomTool\"},{\"id\":\"3151\",\"type\":\"SaveTool\"},{\"id\":\"3152\",\"type\":\"ResetTool\"},{\"id\":\"3153\",\"type\":\"HelpTool\"}]},\"id\":\"3154\",\"type\":\"Toolbar\"},{\"attributes\":{},\"id\":\"3289\",\"type\":\"BasicTickFormatter\"},{\"attributes\":{\"axis_label\":\"Training Step\",\"axis_label_text_font_size\":{\"value\":\"14pt\"},\"formatter\":{\"id\":\"3287\",\"type\":\"BasicTickFormatter\"},\"major_label_text_font_size\":{\"value\":\"12pt\"},\"ticker\":{\"id\":\"3139\",\"type\":\"BasicTicker\"}},\"id\":\"3138\",\"type\":\"LinearAxis\"},{\"attributes\":{},\"id\":\"3144\",\"type\":\"BasicTicker\"},{\"attributes\":{},\"id\":\"3139\",\"type\":\"BasicTicker\"},{\"attributes\":{},\"id\":\"3290\",\"type\":\"Selection\"},{\"attributes\":{\"grid_line_alpha\":0.3,\"ticker\":{\"id\":\"3139\",\"type\":\"BasicTicker\"}},\"id\":\"3142\",\"type\":\"Grid\"},{\"attributes\":{\"dimension\":1,\"grid_line_alpha\":0.3,\"ticker\":{\"id\":\"3144\",\"type\":\"BasicTicker\"}},\"id\":\"3147\",\"type\":\"Grid\"},{\"attributes\":{},\"id\":\"3291\",\"type\":\"UnionRenderers\"},{\"attributes\":{\"axis_label\":\"Loss\",\"axis_label_text_font_size\":{\"value\":\"14pt\"},\"formatter\":{\"id\":\"3289\",\"type\":\"BasicTickFormatter\"},\"major_label_text_font_size\":{\"value\":\"12pt\"},\"ticker\":{\"id\":\"3144\",\"type\":\"BasicTicker\"}},\"id\":\"3143\",\"type\":\"LinearAxis\"},{\"attributes\":{\"x\":{\"field\":\"x\"},\"y\":{\"field\":\"y\"}},\"id\":\"3164\",\"type\":\"Line\"},{\"attributes\":{\"line_alpha\":0.1,\"line_color\":\"#1f77b4\",\"x\":{\"field\":\"x\"},\"y\":{\"field\":\"y\"}},\"id\":\"3165\",\"type\":\"Line\"},{\"attributes\":{\"callback\":null,\"end\":0.003},\"id\":\"3162\",\"type\":\"Range1d\"},{\"attributes\":{\"callback\":null,\"end\":2600},\"id\":\"3161\",\"type\":\"Range1d\"},{\"attributes\":{\"line_dash\":[6],\"line_width\":{\"value\":2},\"location\":0.000305},\"id\":\"3168\",\"type\":\"Span\"},{\"attributes\":{},\"id\":\"3287\",\"type\":\"BasicTickFormatter\"},{\"attributes\":{},\"id\":\"3148\",\"type\":\"PanTool\"},{\"attributes\":{\"data_source\":{\"id\":\"3163\",\"type\":\"ColumnDataSource\"},\"glyph\":{\"id\":\"3164\",\"type\":\"Line\"},\"hover_glyph\":null,\"muted_glyph\":null,\"nonselection_glyph\":{\"id\":\"3165\",\"type\":\"Line\"},\"selection_glyph\":null,\"view\":{\"id\":\"3167\",\"type\":\"CDSView\"}},\"id\":\"3166\",\"type\":\"GlyphRenderer\"},{\"attributes\":{\"text\":\"BSCTRFM Training Loss.\",\"text_font_size\":{\"value\":\"14pt\"}},\"id\":\"3128\",\"type\":\"Title\"},{\"attributes\":{},\"id\":\"3149\",\"type\":\"WheelZoomTool\"},{\"attributes\":{},\"id\":\"3151\",\"type\":\"SaveTool\"},{\"attributes\":{\"overlay\":{\"id\":\"3292\",\"type\":\"BoxAnnotation\"}},\"id\":\"3150\",\"type\":\"BoxZoomTool\"},{\"attributes\":{},\"id\":\"3134\",\"type\":\"LinearScale\"}],\"root_ids\":[\"3127\"]},\"title\":\"Bokeh Application\",\"version\":\"1.4.0\"}};\n",
       "  var render_items = [{\"docid\":\"ea428245-3f13-4d69-80b7-e1cb6d4d76e0\",\"roots\":{\"3127\":\"25d15fc9-b0b9-4928-b1f6-83e47041d5d4\"}}];\n",
       "  root.Bokeh.embed.embed_items_notebook(docs_json, render_items);\n",
       "\n",
       "  }\n",
       "  if (root.Bokeh !== undefined) {\n",
       "    embed_document(root);\n",
       "  } else {\n",
       "    var attempts = 0;\n",
       "    var timer = setInterval(function(root) {\n",
       "      if (root.Bokeh !== undefined) {\n",
       "        clearInterval(timer);\n",
       "        embed_document(root);\n",
       "      } else {\n",
       "        attempts++;\n",
       "        if (attempts > 100) {\n",
       "          clearInterval(timer);\n",
       "          console.log(\"Bokeh: ERROR: Unable to run BokehJS code because BokehJS library is missing\");\n",
       "        }\n",
       "      }\n",
       "    }, 10, root)\n",
       "  }\n",
       "})(window);"
      ],
      "application/vnd.bokehjs_exec.v0+json": ""
     },
     "metadata": {
      "application/vnd.bokehjs_exec.v0+json": {
       "id": "3127"
      }
     },
     "output_type": "display_data"
    }
   ],
   "source": [
    "\n",
    "plots['bsctrfm_loss'] = figure(\n",
    "    plot_width=960,\n",
    "    plot_height=320,\n",
    "    title='BSCTRFM Training Loss.',\n",
    "    toolbar_location=None,\n",
    ")\n",
    "\n",
    "plots['bsctrfm_loss'].grid.grid_line_alpha=0.3\n",
    "\n",
    "# a custom x range to visuallly improve the the plot\n",
    "plots['bsctrfm_loss'].x_range = Range1d(\n",
    "    start=0,\n",
    "    end=2600\n",
    ")\n",
    "\n",
    "# a custom y range to visuallly improve the the plot\n",
    "plots['bsctrfm_loss'].y_range = Range1d (\n",
    "    start=0,\n",
    "    end=0.003\n",
    ")\n",
    "\n",
    "plots['bsctrfm_loss'].title.text_font_size = '14pt'\n",
    "\n",
    "plots['bsctrfm_loss'].xaxis.axis_label_text_font_size = \"14pt\"\n",
    "plots['bsctrfm_loss'].yaxis.axis_label_text_font_size = \"14pt\"\n",
    "\n",
    "plots['bsctrfm_loss'].xaxis.major_label_text_font_size = \"12pt\"\n",
    "plots['bsctrfm_loss'].yaxis.major_label_text_font_size = \"12pt\"\n",
    "\n",
    "plots['bsctrfm_loss'].xaxis.axis_label = 'Training Step'\n",
    "plots['bsctrfm_loss'].yaxis.axis_label = 'Loss'\n",
    "\n",
    "plots['bsctrfm_loss'].line(\n",
    "    x=loss_df['Step'],\n",
    "    y=loss_df['Value'],\n",
    "    color='black',\n",
    ")\n",
    "\n",
    "final_eval_loss = Span(\n",
    "    location=eval_loss,\n",
    "    dimension='width',\n",
    "    line_color='black',\n",
    "    line_dash='dashed',\n",
    "    line_width=2)\n",
    "\n",
    "plots['bsctrfm_loss'].add_layout(final_eval_loss)\n",
    "\n",
    "show(plots['bsctrfm_loss'])"
   ]
  },
  {
   "cell_type": "code",
   "execution_count": null,
   "metadata": {},
   "outputs": [],
   "source": []
  },
  {
   "cell_type": "code",
   "execution_count": 4,
   "metadata": {},
   "outputs": [],
   "source": [
    "from tensorboard.backend.event_processing import event_accumulator"
   ]
  },
  {
   "cell_type": "code",
   "execution_count": 5,
   "metadata": {},
   "outputs": [],
   "source": [
    "def get_wall_time(path_to_logdir):\n",
    "    '''\n",
    "    receives a UNIX path to a TensorBoard logdir of a model\n",
    "    returns the wall time for the model training process\n",
    "    '''\n",
    "    # an event accumulator to the logdir\n",
    "    ea = event_accumulator.EventAccumulator(path_to_logdir,\n",
    "                                            size_guidance={ # see below regarding this argument\n",
    "                                                # event_accumulator.COMPRESSED_HISTOGRAMS: 500, # not used\n",
    "                                                # event_accumulator.IMAGES: 4, # not used\n",
    "                                                # event_accumulator.AUDIO: 4, # not used\n",
    "                                                event_accumulator.SCALARS: 0, # retrieve all\n",
    "                                                event_accumulator.TENSORS: 0, # retrieve all\n",
    "                                                # event_accumulator.HISTOGRAMS: 1 # not used\n",
    "                                            }\n",
    "                                           )\n",
    "    # loads events from file\n",
    "    ea.Reload()\n",
    "    \n",
    "    # wall time is end time - start time\n",
    "    wall_time = ea.Tensors('loss')[-1][0] - ea.Tensors('loss')[0][0]\n",
    "    print(\"Wall time for model in '{}' is {} seconds.\".format(path_to_logdir,\n",
    "                                                            wall_time))\n",
    "    return wall_time"
   ]
  },
  {
   "cell_type": "code",
   "execution_count": 6,
   "metadata": {},
   "outputs": [],
   "source": [
    "models_list = [\n",
    "    '/home/developer/gcp/cbidmltsf/models/BSCTRFM_TPU_011_00',\n",
    "    '/home/developer/gcp/cbidmltsf/models/BSCTRFM_TPU_011_01',\n",
    "    '/home/developer/gcp/cbidmltsf/models/BSCTRFM_TPU_011_02',\n",
    "    '/home/developer/gcp/cbidmltsf/models/BSCTRFM_TPU_011_03',\n",
    "    '/home/developer/gcp/cbidmltsf/models/BSCTRFM_TPU_011_04',\n",
    "    '/home/developer/gcp/cbidmltsf/models/BSCTRFM_TPU_011_05',\n",
    "    '/home/developer/gcp/cbidmltsf/models/BSCTRFM_TPU_011_06',\n",
    "    '/home/developer/gcp/cbidmltsf/models/BSCTRFM_TPU_011_07',\n",
    "    '/home/developer/gcp/cbidmltsf/models/BSCTRFM_TPU_011_08',\n",
    "    '/home/developer/gcp/cbidmltsf/models/BSCTRFM_TPU_011_09',\n",
    "]"
   ]
  },
  {
   "cell_type": "code",
   "execution_count": 7,
   "metadata": {},
   "outputs": [
    {
     "name": "stderr",
     "output_type": "stream",
     "text": [
      "Found more than one graph event per run, or there was a metagraph containing a graph_def, as well as one or more graph events.  Overwriting the graph with the newest event.\n",
      "Found more than one metagraph event per run. Overwriting the metagraph with the newest event.\n",
      "Found more than one graph event per run, or there was a metagraph containing a graph_def, as well as one or more graph events.  Overwriting the graph with the newest event.\n",
      "Found more than one metagraph event per run. Overwriting the metagraph with the newest event.\n"
     ]
    },
    {
     "name": "stdout",
     "output_type": "stream",
     "text": [
      "Wall time for model in '/home/developer/gcp/cbidmltsf/models/BSCTRFM_TPU_011_00' is 28.331552028656006 seconds.\n"
     ]
    },
    {
     "name": "stderr",
     "output_type": "stream",
     "text": [
      "Found more than one graph event per run, or there was a metagraph containing a graph_def, as well as one or more graph events.  Overwriting the graph with the newest event.\n",
      "Found more than one metagraph event per run. Overwriting the metagraph with the newest event.\n"
     ]
    },
    {
     "name": "stdout",
     "output_type": "stream",
     "text": [
      "Wall time for model in '/home/developer/gcp/cbidmltsf/models/BSCTRFM_TPU_011_01' is 28.35389995574951 seconds.\n"
     ]
    },
    {
     "name": "stderr",
     "output_type": "stream",
     "text": [
      "Found more than one graph event per run, or there was a metagraph containing a graph_def, as well as one or more graph events.  Overwriting the graph with the newest event.\n",
      "Found more than one metagraph event per run. Overwriting the metagraph with the newest event.\n"
     ]
    },
    {
     "name": "stdout",
     "output_type": "stream",
     "text": [
      "Wall time for model in '/home/developer/gcp/cbidmltsf/models/BSCTRFM_TPU_011_02' is 28.35578989982605 seconds.\n"
     ]
    },
    {
     "name": "stderr",
     "output_type": "stream",
     "text": [
      "Found more than one graph event per run, or there was a metagraph containing a graph_def, as well as one or more graph events.  Overwriting the graph with the newest event.\n",
      "Found more than one metagraph event per run. Overwriting the metagraph with the newest event.\n"
     ]
    },
    {
     "name": "stdout",
     "output_type": "stream",
     "text": [
      "Wall time for model in '/home/developer/gcp/cbidmltsf/models/BSCTRFM_TPU_011_03' is 28.35229992866516 seconds.\n"
     ]
    },
    {
     "name": "stderr",
     "output_type": "stream",
     "text": [
      "Found more than one graph event per run, or there was a metagraph containing a graph_def, as well as one or more graph events.  Overwriting the graph with the newest event.\n",
      "Found more than one metagraph event per run. Overwriting the metagraph with the newest event.\n"
     ]
    },
    {
     "name": "stdout",
     "output_type": "stream",
     "text": [
      "Wall time for model in '/home/developer/gcp/cbidmltsf/models/BSCTRFM_TPU_011_04' is 28.35084581375122 seconds.\n"
     ]
    },
    {
     "name": "stderr",
     "output_type": "stream",
     "text": [
      "Found more than one graph event per run, or there was a metagraph containing a graph_def, as well as one or more graph events.  Overwriting the graph with the newest event.\n",
      "Found more than one metagraph event per run. Overwriting the metagraph with the newest event.\n"
     ]
    },
    {
     "name": "stdout",
     "output_type": "stream",
     "text": [
      "Wall time for model in '/home/developer/gcp/cbidmltsf/models/BSCTRFM_TPU_011_05' is 28.35304093360901 seconds.\n"
     ]
    },
    {
     "name": "stderr",
     "output_type": "stream",
     "text": [
      "Found more than one graph event per run, or there was a metagraph containing a graph_def, as well as one or more graph events.  Overwriting the graph with the newest event.\n",
      "Found more than one metagraph event per run. Overwriting the metagraph with the newest event.\n"
     ]
    },
    {
     "name": "stdout",
     "output_type": "stream",
     "text": [
      "Wall time for model in '/home/developer/gcp/cbidmltsf/models/BSCTRFM_TPU_011_06' is 28.351282119750977 seconds.\n"
     ]
    },
    {
     "name": "stderr",
     "output_type": "stream",
     "text": [
      "Found more than one graph event per run, or there was a metagraph containing a graph_def, as well as one or more graph events.  Overwriting the graph with the newest event.\n",
      "Found more than one metagraph event per run. Overwriting the metagraph with the newest event.\n"
     ]
    },
    {
     "name": "stdout",
     "output_type": "stream",
     "text": [
      "Wall time for model in '/home/developer/gcp/cbidmltsf/models/BSCTRFM_TPU_011_07' is 28.35225796699524 seconds.\n"
     ]
    },
    {
     "name": "stderr",
     "output_type": "stream",
     "text": [
      "Found more than one graph event per run, or there was a metagraph containing a graph_def, as well as one or more graph events.  Overwriting the graph with the newest event.\n",
      "Found more than one metagraph event per run. Overwriting the metagraph with the newest event.\n"
     ]
    },
    {
     "name": "stdout",
     "output_type": "stream",
     "text": [
      "Wall time for model in '/home/developer/gcp/cbidmltsf/models/BSCTRFM_TPU_011_08' is 28.351946115493774 seconds.\n",
      "Wall time for model in '/home/developer/gcp/cbidmltsf/models/BSCTRFM_TPU_011_09' is 28.351553916931152 seconds.\n"
     ]
    }
   ],
   "source": [
    "# a dataframe for wall times\n",
    "wall_times_list = [get_wall_time(model) for model in models_list\n",
    "    \n",
    "]"
   ]
  },
  {
   "cell_type": "code",
   "execution_count": 8,
   "metadata": {},
   "outputs": [
    {
     "data": {
      "text/plain": [
       "[28.331552028656006,\n",
       " 28.35389995574951,\n",
       " 28.35578989982605,\n",
       " 28.35229992866516,\n",
       " 28.35084581375122,\n",
       " 28.35304093360901,\n",
       " 28.351282119750977,\n",
       " 28.35225796699524,\n",
       " 28.351946115493774,\n",
       " 28.351553916931152]"
      ]
     },
     "execution_count": 8,
     "metadata": {},
     "output_type": "execute_result"
    }
   ],
   "source": [
    "wall_times_list"
   ]
  },
  {
   "cell_type": "code",
   "execution_count": 9,
   "metadata": {},
   "outputs": [
    {
     "name": "stdout",
     "output_type": "stream",
     "text": [
      "28.3504\n"
     ]
    }
   ],
   "source": [
    "print('{:0.4f}'.format(np.mean(wall_times_list)))"
   ]
  },
  {
   "cell_type": "code",
   "execution_count": 10,
   "metadata": {},
   "outputs": [
    {
     "name": "stdout",
     "output_type": "stream",
     "text": [
      "0.0064\n"
     ]
    }
   ],
   "source": [
    "print('{:0.4f}'.format(np.std(wall_times_list)))"
   ]
  },
  {
   "cell_type": "code",
   "execution_count": null,
   "metadata": {},
   "outputs": [],
   "source": []
  }
 ],
 "metadata": {
  "kernelspec": {
   "display_name": "Python 3",
   "language": "python",
   "name": "python3"
  },
  "language_info": {
   "codemirror_mode": {
    "name": "ipython",
    "version": 3
   },
   "file_extension": ".py",
   "mimetype": "text/x-python",
   "name": "python",
   "nbconvert_exporter": "python",
   "pygments_lexer": "ipython3",
   "version": "3.7.6"
  }
 },
 "nbformat": 4,
 "nbformat_minor": 4
}

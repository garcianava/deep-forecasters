{
 "cells": [
  {
   "cell_type": "code",
   "execution_count": 1,
   "metadata": {},
   "outputs": [],
   "source": [
    "import os"
   ]
  },
  {
   "cell_type": "code",
   "execution_count": 2,
   "metadata": {},
   "outputs": [],
   "source": [
    "import json"
   ]
  },
  {
   "cell_type": "code",
   "execution_count": 3,
   "metadata": {},
   "outputs": [],
   "source": [
    "import pandas as pd"
   ]
  },
  {
   "cell_type": "code",
   "execution_count": 4,
   "metadata": {},
   "outputs": [],
   "source": [
    "import numpy as np"
   ]
  },
  {
   "cell_type": "code",
   "execution_count": 5,
   "metadata": {},
   "outputs": [],
   "source": [
    "import tensorflow as tf"
   ]
  },
  {
   "cell_type": "code",
   "execution_count": 6,
   "metadata": {},
   "outputs": [
    {
     "data": {
      "text/plain": [
       "'2.4.1'"
      ]
     },
     "execution_count": 6,
     "metadata": {},
     "output_type": "execute_result"
    }
   ],
   "source": [
    "tf.__version__"
   ]
  },
  {
   "cell_type": "code",
   "execution_count": 7,
   "metadata": {},
   "outputs": [],
   "source": [
    "# define a identifier string to access to the preprocessed time series\n",
    "identifier = 'CPE04115_H_kw_20210526212214'"
   ]
  },
  {
   "cell_type": "code",
   "execution_count": 8,
   "metadata": {},
   "outputs": [],
   "source": [
    "# build the time series directory\n",
    "time_series_folder = '/home/developer/gcp/cbidmltsf/timeseries/{}'.format(identifier)"
   ]
  },
  {
   "cell_type": "code",
   "execution_count": 15,
   "metadata": {},
   "outputs": [],
   "source": [
    "stages = ['train', 'eval', 'test']"
   ]
  },
  {
   "cell_type": "code",
   "execution_count": 16,
   "metadata": {},
   "outputs": [],
   "source": [
    "# pass time series for ML stages to a dict\n",
    "ts = dict()"
   ]
  },
  {
   "cell_type": "code",
   "execution_count": 17,
   "metadata": {},
   "outputs": [],
   "source": [
    "for stage in stages:\n",
    "    ts[stage] = pd.read_pickle('{}/ts_{}.pkl'.format(time_series_folder, stage))"
   ]
  },
  {
   "cell_type": "code",
   "execution_count": 18,
   "metadata": {},
   "outputs": [
    {
     "name": "stdout",
     "output_type": "stream",
     "text": [
      "train time series loaded with 17542 rows\n",
      "eval time series loaded with 2879 rows\n",
      "test time series loaded with 2208 rows\n"
     ]
    }
   ],
   "source": [
    "# confirm the time series are now in the dictionary\n",
    "for stage in stages:\n",
    "    print('{} time series loaded with {} rows'.format(stage, ts[stage]['kw_scaled'].count()))"
   ]
  },
  {
   "cell_type": "code",
   "execution_count": 19,
   "metadata": {},
   "outputs": [],
   "source": [
    "# a dictionary to configure and describe the SLDB\n",
    "# add a boolean (binary) to state this SLDB is only functional to the transformer architecture\n",
    "\n",
    "sldb = {\n",
    "    'ts': 'CPE04115_H_kw_20210526212214',\n",
    "    'embedding': {\n",
    "        'hourly': 168\n",
    "    },\n",
    "    'tau': {\n",
    "        'hourly': 1\n",
    "    },\n",
    "    'no_targets': 168,\n",
    "    'BSCTRFM': 1\n",
    "}"
   ]
  },
  {
   "cell_type": "code",
   "execution_count": null,
   "metadata": {},
   "outputs": [],
   "source": []
  },
  {
   "cell_type": "markdown",
   "metadata": {},
   "source": [
    "### building positional encodings"
   ]
  },
  {
   "cell_type": "markdown",
   "metadata": {},
   "source": [
    "#### our template"
   ]
  },
  {
   "cell_type": "code",
   "execution_count": 20,
   "metadata": {},
   "outputs": [],
   "source": [
    "hours_in_day = 24\n",
    "days_in_week = 7\n",
    "weeks_in_year = 53\n",
    "\n",
    "# build positional encodings for time series in all stages\n",
    "for stage in ['train', 'eval', 'test']:\n",
    "\n",
    "    # hour of the day: 0-23\n",
    "    timestamp_hour_day = np.array(ts[stage].index.hour)\n",
    "    # day of the week: 0-6\n",
    "    day_week_list = [timestamp.weekday() for timestamp in ts[stage].index]\n",
    "    timestamp_day_week = np.array(day_week_list)\n",
    "    # pd.timestamp.week values go from 1 to 53\n",
    "    # adjust them to 0-52\n",
    "    week_values = ts[stage].index.week - 1\n",
    "    timestamp_week_year = np.array(week_values)\n",
    "\n",
    "    # build arrays with positional encoding components and cast them to float32\n",
    "    sin_hour_day = np.sin(2*np.pi*timestamp_hour_day/hours_in_day).astype(np.float32)\n",
    "    cos_hour_day = np.cos(2*np.pi*timestamp_hour_day/hours_in_day).astype(np.float32)\n",
    "\n",
    "    sin_day_week = np.sin(2*np.pi*timestamp_day_week/days_in_week).astype(np.float32)\n",
    "    cos_day_week = np.cos(2*np.pi*timestamp_day_week/days_in_week).astype(np.float32)\n",
    "\n",
    "    sin_week_year = np.sin(2*np.pi*timestamp_week_year/weeks_in_year).astype(np.float32)\n",
    "    cos_week_year = np.cos(2*np.pi*timestamp_week_year/weeks_in_year).astype(np.float32)\n",
    "\n",
    "    # now expand the time series dataframe with positional encoding components\n",
    "    # pass the pos encoding arrays to dataframe as lists\n",
    "    ts[stage]['sin_hour_day'] = list(sin_hour_day)\n",
    "    ts[stage]['cos_hour_day'] = list(cos_hour_day)\n",
    "    ts[stage]['sin_day_week'] = list(sin_day_week)\n",
    "    ts[stage]['cos_day_week'] = list(cos_day_week)\n",
    "    ts[stage]['sin_week_year'] = list(sin_week_year)\n",
    "    ts[stage]['cos_week_year'] = list(cos_week_year)"
   ]
  },
  {
   "cell_type": "code",
   "execution_count": 21,
   "metadata": {},
   "outputs": [
    {
     "name": "stdout",
     "output_type": "stream",
     "text": [
      "17542 lectures in train time series from 2016-01-01 00:00:00 to 2017-12-31 23:00:00\n",
      "2879 lectures in eval time series from 2018-01-01 00:00:00 to 2018-04-30 23:00:00\n",
      "2208 lectures in test time series from 2018-05-01 00:00:00 to 2018-07-31 23:00:00\n"
     ]
    }
   ],
   "source": [
    "# report results\n",
    "for stage in ['train', 'eval', 'test']:\n",
    "    print('{} lectures in {} time series from {} to {}'.format(ts[stage].count()[0],\n",
    "                                                               stage,\n",
    "                                                               ts[stage].index[0],\n",
    "                                                               ts[stage].index[-1]))"
   ]
  },
  {
   "cell_type": "code",
   "execution_count": 22,
   "metadata": {},
   "outputs": [
    {
     "data": {
      "text/html": [
       "<div>\n",
       "<style scoped>\n",
       "    .dataframe tbody tr th:only-of-type {\n",
       "        vertical-align: middle;\n",
       "    }\n",
       "\n",
       "    .dataframe tbody tr th {\n",
       "        vertical-align: top;\n",
       "    }\n",
       "\n",
       "    .dataframe thead th {\n",
       "        text-align: right;\n",
       "    }\n",
       "</style>\n",
       "<table border=\"1\" class=\"dataframe\">\n",
       "  <thead>\n",
       "    <tr style=\"text-align: right;\">\n",
       "      <th></th>\n",
       "      <th>kw_scaled</th>\n",
       "      <th>sin_hour_day</th>\n",
       "      <th>cos_hour_day</th>\n",
       "      <th>sin_day_week</th>\n",
       "      <th>cos_day_week</th>\n",
       "      <th>sin_week_year</th>\n",
       "      <th>cos_week_year</th>\n",
       "    </tr>\n",
       "    <tr>\n",
       "      <th>timestamp</th>\n",
       "      <th></th>\n",
       "      <th></th>\n",
       "      <th></th>\n",
       "      <th></th>\n",
       "      <th></th>\n",
       "      <th></th>\n",
       "      <th></th>\n",
       "    </tr>\n",
       "  </thead>\n",
       "  <tbody>\n",
       "    <tr>\n",
       "      <th>2016-01-01 00:00:00</th>\n",
       "      <td>0.274317</td>\n",
       "      <td>0.000000</td>\n",
       "      <td>1.000000</td>\n",
       "      <td>-0.433884</td>\n",
       "      <td>-0.900969</td>\n",
       "      <td>-0.118273</td>\n",
       "      <td>0.992981</td>\n",
       "    </tr>\n",
       "    <tr>\n",
       "      <th>2016-01-01 01:00:00</th>\n",
       "      <td>0.217363</td>\n",
       "      <td>0.258819</td>\n",
       "      <td>0.965926</td>\n",
       "      <td>-0.433884</td>\n",
       "      <td>-0.900969</td>\n",
       "      <td>-0.118273</td>\n",
       "      <td>0.992981</td>\n",
       "    </tr>\n",
       "    <tr>\n",
       "      <th>2016-01-01 02:00:00</th>\n",
       "      <td>0.168545</td>\n",
       "      <td>0.500000</td>\n",
       "      <td>0.866025</td>\n",
       "      <td>-0.433884</td>\n",
       "      <td>-0.900969</td>\n",
       "      <td>-0.118273</td>\n",
       "      <td>0.992981</td>\n",
       "    </tr>\n",
       "    <tr>\n",
       "      <th>2016-01-01 03:00:00</th>\n",
       "      <td>0.122996</td>\n",
       "      <td>0.707107</td>\n",
       "      <td>0.707107</td>\n",
       "      <td>-0.433884</td>\n",
       "      <td>-0.900969</td>\n",
       "      <td>-0.118273</td>\n",
       "      <td>0.992981</td>\n",
       "    </tr>\n",
       "    <tr>\n",
       "      <th>2016-01-01 04:00:00</th>\n",
       "      <td>0.080440</td>\n",
       "      <td>0.866025</td>\n",
       "      <td>0.500000</td>\n",
       "      <td>-0.433884</td>\n",
       "      <td>-0.900969</td>\n",
       "      <td>-0.118273</td>\n",
       "      <td>0.992981</td>\n",
       "    </tr>\n",
       "    <tr>\n",
       "      <th>...</th>\n",
       "      <td>...</td>\n",
       "      <td>...</td>\n",
       "      <td>...</td>\n",
       "      <td>...</td>\n",
       "      <td>...</td>\n",
       "      <td>...</td>\n",
       "      <td>...</td>\n",
       "    </tr>\n",
       "    <tr>\n",
       "      <th>2017-12-31 19:00:00</th>\n",
       "      <td>0.542273</td>\n",
       "      <td>-0.965926</td>\n",
       "      <td>0.258819</td>\n",
       "      <td>-0.781832</td>\n",
       "      <td>0.623490</td>\n",
       "      <td>-0.234886</td>\n",
       "      <td>0.972023</td>\n",
       "    </tr>\n",
       "    <tr>\n",
       "      <th>2017-12-31 20:00:00</th>\n",
       "      <td>0.478005</td>\n",
       "      <td>-0.866025</td>\n",
       "      <td>0.500000</td>\n",
       "      <td>-0.781832</td>\n",
       "      <td>0.623490</td>\n",
       "      <td>-0.234886</td>\n",
       "      <td>0.972023</td>\n",
       "    </tr>\n",
       "    <tr>\n",
       "      <th>2017-12-31 21:00:00</th>\n",
       "      <td>0.414886</td>\n",
       "      <td>-0.707107</td>\n",
       "      <td>0.707107</td>\n",
       "      <td>-0.781832</td>\n",
       "      <td>0.623490</td>\n",
       "      <td>-0.234886</td>\n",
       "      <td>0.972023</td>\n",
       "    </tr>\n",
       "    <tr>\n",
       "      <th>2017-12-31 22:00:00</th>\n",
       "      <td>0.358717</td>\n",
       "      <td>-0.500000</td>\n",
       "      <td>0.866025</td>\n",
       "      <td>-0.781832</td>\n",
       "      <td>0.623490</td>\n",
       "      <td>-0.234886</td>\n",
       "      <td>0.972023</td>\n",
       "    </tr>\n",
       "    <tr>\n",
       "      <th>2017-12-31 23:00:00</th>\n",
       "      <td>0.316557</td>\n",
       "      <td>-0.258819</td>\n",
       "      <td>0.965926</td>\n",
       "      <td>-0.781832</td>\n",
       "      <td>0.623490</td>\n",
       "      <td>-0.234886</td>\n",
       "      <td>0.972023</td>\n",
       "    </tr>\n",
       "  </tbody>\n",
       "</table>\n",
       "<p>17542 rows × 7 columns</p>\n",
       "</div>"
      ],
      "text/plain": [
       "                     kw_scaled  sin_hour_day  cos_hour_day  sin_day_week  \\\n",
       "timestamp                                                                  \n",
       "2016-01-01 00:00:00   0.274317      0.000000      1.000000     -0.433884   \n",
       "2016-01-01 01:00:00   0.217363      0.258819      0.965926     -0.433884   \n",
       "2016-01-01 02:00:00   0.168545      0.500000      0.866025     -0.433884   \n",
       "2016-01-01 03:00:00   0.122996      0.707107      0.707107     -0.433884   \n",
       "2016-01-01 04:00:00   0.080440      0.866025      0.500000     -0.433884   \n",
       "...                        ...           ...           ...           ...   \n",
       "2017-12-31 19:00:00   0.542273     -0.965926      0.258819     -0.781832   \n",
       "2017-12-31 20:00:00   0.478005     -0.866025      0.500000     -0.781832   \n",
       "2017-12-31 21:00:00   0.414886     -0.707107      0.707107     -0.781832   \n",
       "2017-12-31 22:00:00   0.358717     -0.500000      0.866025     -0.781832   \n",
       "2017-12-31 23:00:00   0.316557     -0.258819      0.965926     -0.781832   \n",
       "\n",
       "                     cos_day_week  sin_week_year  cos_week_year  \n",
       "timestamp                                                        \n",
       "2016-01-01 00:00:00     -0.900969      -0.118273       0.992981  \n",
       "2016-01-01 01:00:00     -0.900969      -0.118273       0.992981  \n",
       "2016-01-01 02:00:00     -0.900969      -0.118273       0.992981  \n",
       "2016-01-01 03:00:00     -0.900969      -0.118273       0.992981  \n",
       "2016-01-01 04:00:00     -0.900969      -0.118273       0.992981  \n",
       "...                           ...            ...            ...  \n",
       "2017-12-31 19:00:00      0.623490      -0.234886       0.972023  \n",
       "2017-12-31 20:00:00      0.623490      -0.234886       0.972023  \n",
       "2017-12-31 21:00:00      0.623490      -0.234886       0.972023  \n",
       "2017-12-31 22:00:00      0.623490      -0.234886       0.972023  \n",
       "2017-12-31 23:00:00      0.623490      -0.234886       0.972023  \n",
       "\n",
       "[17542 rows x 7 columns]"
      ]
     },
     "execution_count": 22,
     "metadata": {},
     "output_type": "execute_result"
    }
   ],
   "source": [
    "ts['train']"
   ]
  },
  {
   "cell_type": "code",
   "execution_count": null,
   "metadata": {},
   "outputs": [],
   "source": []
  },
  {
   "cell_type": "markdown",
   "metadata": {},
   "source": [
    "### review how the SLDB rows are built from time series (values and pos encodings)"
   ]
  },
  {
   "cell_type": "code",
   "execution_count": 23,
   "metadata": {},
   "outputs": [
    {
     "data": {
      "text/plain": [
       "(168, 168)"
      ]
     },
     "execution_count": 23,
     "metadata": {},
     "output_type": "execute_result"
    }
   ],
   "source": [
    "m, t = sldb['embedding']['hourly'], sldb['no_targets']\n",
    "m, t"
   ]
  },
  {
   "cell_type": "code",
   "execution_count": 24,
   "metadata": {},
   "outputs": [],
   "source": [
    "stage = 'train'"
   ]
  },
  {
   "cell_type": "code",
   "execution_count": 25,
   "metadata": {},
   "outputs": [],
   "source": [
    "start_index = 0"
   ]
  },
  {
   "cell_type": "code",
   "execution_count": 26,
   "metadata": {},
   "outputs": [],
   "source": [
    "end_index = start_index + (m+t)"
   ]
  },
  {
   "cell_type": "code",
   "execution_count": 27,
   "metadata": {},
   "outputs": [
    {
     "data": {
      "text/html": [
       "<div>\n",
       "<style scoped>\n",
       "    .dataframe tbody tr th:only-of-type {\n",
       "        vertical-align: middle;\n",
       "    }\n",
       "\n",
       "    .dataframe tbody tr th {\n",
       "        vertical-align: top;\n",
       "    }\n",
       "\n",
       "    .dataframe thead th {\n",
       "        text-align: right;\n",
       "    }\n",
       "</style>\n",
       "<table border=\"1\" class=\"dataframe\">\n",
       "  <thead>\n",
       "    <tr style=\"text-align: right;\">\n",
       "      <th></th>\n",
       "      <th>kw_scaled</th>\n",
       "      <th>sin_hour_day</th>\n",
       "      <th>cos_hour_day</th>\n",
       "      <th>sin_day_week</th>\n",
       "      <th>cos_day_week</th>\n",
       "      <th>sin_week_year</th>\n",
       "      <th>cos_week_year</th>\n",
       "    </tr>\n",
       "    <tr>\n",
       "      <th>timestamp</th>\n",
       "      <th></th>\n",
       "      <th></th>\n",
       "      <th></th>\n",
       "      <th></th>\n",
       "      <th></th>\n",
       "      <th></th>\n",
       "      <th></th>\n",
       "    </tr>\n",
       "  </thead>\n",
       "  <tbody>\n",
       "    <tr>\n",
       "      <th>2016-01-01 00:00:00</th>\n",
       "      <td>0.274317</td>\n",
       "      <td>0.000000</td>\n",
       "      <td>1.000000</td>\n",
       "      <td>-0.433884</td>\n",
       "      <td>-0.900969</td>\n",
       "      <td>-0.118273</td>\n",
       "      <td>0.992981</td>\n",
       "    </tr>\n",
       "    <tr>\n",
       "      <th>2016-01-01 01:00:00</th>\n",
       "      <td>0.217363</td>\n",
       "      <td>0.258819</td>\n",
       "      <td>0.965926</td>\n",
       "      <td>-0.433884</td>\n",
       "      <td>-0.900969</td>\n",
       "      <td>-0.118273</td>\n",
       "      <td>0.992981</td>\n",
       "    </tr>\n",
       "    <tr>\n",
       "      <th>2016-01-01 02:00:00</th>\n",
       "      <td>0.168545</td>\n",
       "      <td>0.500000</td>\n",
       "      <td>0.866025</td>\n",
       "      <td>-0.433884</td>\n",
       "      <td>-0.900969</td>\n",
       "      <td>-0.118273</td>\n",
       "      <td>0.992981</td>\n",
       "    </tr>\n",
       "    <tr>\n",
       "      <th>2016-01-01 03:00:00</th>\n",
       "      <td>0.122996</td>\n",
       "      <td>0.707107</td>\n",
       "      <td>0.707107</td>\n",
       "      <td>-0.433884</td>\n",
       "      <td>-0.900969</td>\n",
       "      <td>-0.118273</td>\n",
       "      <td>0.992981</td>\n",
       "    </tr>\n",
       "    <tr>\n",
       "      <th>2016-01-01 04:00:00</th>\n",
       "      <td>0.080440</td>\n",
       "      <td>0.866025</td>\n",
       "      <td>0.500000</td>\n",
       "      <td>-0.433884</td>\n",
       "      <td>-0.900969</td>\n",
       "      <td>-0.118273</td>\n",
       "      <td>0.992981</td>\n",
       "    </tr>\n",
       "    <tr>\n",
       "      <th>...</th>\n",
       "      <td>...</td>\n",
       "      <td>...</td>\n",
       "      <td>...</td>\n",
       "      <td>...</td>\n",
       "      <td>...</td>\n",
       "      <td>...</td>\n",
       "      <td>...</td>\n",
       "    </tr>\n",
       "    <tr>\n",
       "      <th>2016-01-14 19:00:00</th>\n",
       "      <td>0.661054</td>\n",
       "      <td>-0.965926</td>\n",
       "      <td>0.258819</td>\n",
       "      <td>0.433884</td>\n",
       "      <td>-0.900969</td>\n",
       "      <td>0.118273</td>\n",
       "      <td>0.992981</td>\n",
       "    </tr>\n",
       "    <tr>\n",
       "      <th>2016-01-14 20:00:00</th>\n",
       "      <td>0.633207</td>\n",
       "      <td>-0.866025</td>\n",
       "      <td>0.500000</td>\n",
       "      <td>0.433884</td>\n",
       "      <td>-0.900969</td>\n",
       "      <td>0.118273</td>\n",
       "      <td>0.992981</td>\n",
       "    </tr>\n",
       "    <tr>\n",
       "      <th>2016-01-14 21:00:00</th>\n",
       "      <td>0.599071</td>\n",
       "      <td>-0.707107</td>\n",
       "      <td>0.707107</td>\n",
       "      <td>0.433884</td>\n",
       "      <td>-0.900969</td>\n",
       "      <td>0.118273</td>\n",
       "      <td>0.992981</td>\n",
       "    </tr>\n",
       "    <tr>\n",
       "      <th>2016-01-14 22:00:00</th>\n",
       "      <td>0.495604</td>\n",
       "      <td>-0.500000</td>\n",
       "      <td>0.866025</td>\n",
       "      <td>0.433884</td>\n",
       "      <td>-0.900969</td>\n",
       "      <td>0.118273</td>\n",
       "      <td>0.992981</td>\n",
       "    </tr>\n",
       "    <tr>\n",
       "      <th>2016-01-14 23:00:00</th>\n",
       "      <td>0.349971</td>\n",
       "      <td>-0.258819</td>\n",
       "      <td>0.965926</td>\n",
       "      <td>0.433884</td>\n",
       "      <td>-0.900969</td>\n",
       "      <td>0.118273</td>\n",
       "      <td>0.992981</td>\n",
       "    </tr>\n",
       "  </tbody>\n",
       "</table>\n",
       "<p>336 rows × 7 columns</p>\n",
       "</div>"
      ],
      "text/plain": [
       "                     kw_scaled  sin_hour_day  cos_hour_day  sin_day_week  \\\n",
       "timestamp                                                                  \n",
       "2016-01-01 00:00:00   0.274317      0.000000      1.000000     -0.433884   \n",
       "2016-01-01 01:00:00   0.217363      0.258819      0.965926     -0.433884   \n",
       "2016-01-01 02:00:00   0.168545      0.500000      0.866025     -0.433884   \n",
       "2016-01-01 03:00:00   0.122996      0.707107      0.707107     -0.433884   \n",
       "2016-01-01 04:00:00   0.080440      0.866025      0.500000     -0.433884   \n",
       "...                        ...           ...           ...           ...   \n",
       "2016-01-14 19:00:00   0.661054     -0.965926      0.258819      0.433884   \n",
       "2016-01-14 20:00:00   0.633207     -0.866025      0.500000      0.433884   \n",
       "2016-01-14 21:00:00   0.599071     -0.707107      0.707107      0.433884   \n",
       "2016-01-14 22:00:00   0.495604     -0.500000      0.866025      0.433884   \n",
       "2016-01-14 23:00:00   0.349971     -0.258819      0.965926      0.433884   \n",
       "\n",
       "                     cos_day_week  sin_week_year  cos_week_year  \n",
       "timestamp                                                        \n",
       "2016-01-01 00:00:00     -0.900969      -0.118273       0.992981  \n",
       "2016-01-01 01:00:00     -0.900969      -0.118273       0.992981  \n",
       "2016-01-01 02:00:00     -0.900969      -0.118273       0.992981  \n",
       "2016-01-01 03:00:00     -0.900969      -0.118273       0.992981  \n",
       "2016-01-01 04:00:00     -0.900969      -0.118273       0.992981  \n",
       "...                           ...            ...            ...  \n",
       "2016-01-14 19:00:00     -0.900969       0.118273       0.992981  \n",
       "2016-01-14 20:00:00     -0.900969       0.118273       0.992981  \n",
       "2016-01-14 21:00:00     -0.900969       0.118273       0.992981  \n",
       "2016-01-14 22:00:00     -0.900969       0.118273       0.992981  \n",
       "2016-01-14 23:00:00     -0.900969       0.118273       0.992981  \n",
       "\n",
       "[336 rows x 7 columns]"
      ]
     },
     "execution_count": 27,
     "metadata": {},
     "output_type": "execute_result"
    }
   ],
   "source": [
    "sub_series = ts[stage][start_index:end_index]\n",
    "sub_series"
   ]
  },
  {
   "cell_type": "code",
   "execution_count": 28,
   "metadata": {},
   "outputs": [
    {
     "data": {
      "text/html": [
       "<div>\n",
       "<style scoped>\n",
       "    .dataframe tbody tr th:only-of-type {\n",
       "        vertical-align: middle;\n",
       "    }\n",
       "\n",
       "    .dataframe tbody tr th {\n",
       "        vertical-align: top;\n",
       "    }\n",
       "\n",
       "    .dataframe thead th {\n",
       "        text-align: right;\n",
       "    }\n",
       "</style>\n",
       "<table border=\"1\" class=\"dataframe\">\n",
       "  <thead>\n",
       "    <tr style=\"text-align: right;\">\n",
       "      <th></th>\n",
       "      <th>kw_scaled</th>\n",
       "      <th>sin_hour_day</th>\n",
       "      <th>cos_hour_day</th>\n",
       "      <th>sin_day_week</th>\n",
       "      <th>cos_day_week</th>\n",
       "      <th>sin_week_year</th>\n",
       "      <th>cos_week_year</th>\n",
       "    </tr>\n",
       "    <tr>\n",
       "      <th>timestamp</th>\n",
       "      <th></th>\n",
       "      <th></th>\n",
       "      <th></th>\n",
       "      <th></th>\n",
       "      <th></th>\n",
       "      <th></th>\n",
       "      <th></th>\n",
       "    </tr>\n",
       "  </thead>\n",
       "  <tbody>\n",
       "    <tr>\n",
       "      <th>2016-01-01 00:00:00</th>\n",
       "      <td>0.274317</td>\n",
       "      <td>0.000000</td>\n",
       "      <td>1.000000</td>\n",
       "      <td>-0.433884</td>\n",
       "      <td>-0.900969</td>\n",
       "      <td>-0.118273</td>\n",
       "      <td>0.992981</td>\n",
       "    </tr>\n",
       "    <tr>\n",
       "      <th>2016-01-01 01:00:00</th>\n",
       "      <td>0.217363</td>\n",
       "      <td>0.258819</td>\n",
       "      <td>0.965926</td>\n",
       "      <td>-0.433884</td>\n",
       "      <td>-0.900969</td>\n",
       "      <td>-0.118273</td>\n",
       "      <td>0.992981</td>\n",
       "    </tr>\n",
       "    <tr>\n",
       "      <th>2016-01-01 02:00:00</th>\n",
       "      <td>0.168545</td>\n",
       "      <td>0.500000</td>\n",
       "      <td>0.866025</td>\n",
       "      <td>-0.433884</td>\n",
       "      <td>-0.900969</td>\n",
       "      <td>-0.118273</td>\n",
       "      <td>0.992981</td>\n",
       "    </tr>\n",
       "    <tr>\n",
       "      <th>2016-01-01 03:00:00</th>\n",
       "      <td>0.122996</td>\n",
       "      <td>0.707107</td>\n",
       "      <td>0.707107</td>\n",
       "      <td>-0.433884</td>\n",
       "      <td>-0.900969</td>\n",
       "      <td>-0.118273</td>\n",
       "      <td>0.992981</td>\n",
       "    </tr>\n",
       "    <tr>\n",
       "      <th>2016-01-01 04:00:00</th>\n",
       "      <td>0.080440</td>\n",
       "      <td>0.866025</td>\n",
       "      <td>0.500000</td>\n",
       "      <td>-0.433884</td>\n",
       "      <td>-0.900969</td>\n",
       "      <td>-0.118273</td>\n",
       "      <td>0.992981</td>\n",
       "    </tr>\n",
       "    <tr>\n",
       "      <th>...</th>\n",
       "      <td>...</td>\n",
       "      <td>...</td>\n",
       "      <td>...</td>\n",
       "      <td>...</td>\n",
       "      <td>...</td>\n",
       "      <td>...</td>\n",
       "      <td>...</td>\n",
       "    </tr>\n",
       "    <tr>\n",
       "      <th>2016-01-07 19:00:00</th>\n",
       "      <td>0.659295</td>\n",
       "      <td>-0.965926</td>\n",
       "      <td>0.258819</td>\n",
       "      <td>0.433884</td>\n",
       "      <td>-0.900969</td>\n",
       "      <td>0.000000</td>\n",
       "      <td>1.000000</td>\n",
       "    </tr>\n",
       "    <tr>\n",
       "      <th>2016-01-07 20:00:00</th>\n",
       "      <td>0.616653</td>\n",
       "      <td>-0.866025</td>\n",
       "      <td>0.500000</td>\n",
       "      <td>0.433884</td>\n",
       "      <td>-0.900969</td>\n",
       "      <td>0.000000</td>\n",
       "      <td>1.000000</td>\n",
       "    </tr>\n",
       "    <tr>\n",
       "      <th>2016-01-07 21:00:00</th>\n",
       "      <td>0.577855</td>\n",
       "      <td>-0.707107</td>\n",
       "      <td>0.707107</td>\n",
       "      <td>0.433884</td>\n",
       "      <td>-0.900969</td>\n",
       "      <td>0.000000</td>\n",
       "      <td>1.000000</td>\n",
       "    </tr>\n",
       "    <tr>\n",
       "      <th>2016-01-07 22:00:00</th>\n",
       "      <td>0.468685</td>\n",
       "      <td>-0.500000</td>\n",
       "      <td>0.866025</td>\n",
       "      <td>0.433884</td>\n",
       "      <td>-0.900969</td>\n",
       "      <td>0.000000</td>\n",
       "      <td>1.000000</td>\n",
       "    </tr>\n",
       "    <tr>\n",
       "      <th>2016-01-07 23:00:00</th>\n",
       "      <td>0.317259</td>\n",
       "      <td>-0.258819</td>\n",
       "      <td>0.965926</td>\n",
       "      <td>0.433884</td>\n",
       "      <td>-0.900969</td>\n",
       "      <td>0.000000</td>\n",
       "      <td>1.000000</td>\n",
       "    </tr>\n",
       "  </tbody>\n",
       "</table>\n",
       "<p>168 rows × 7 columns</p>\n",
       "</div>"
      ],
      "text/plain": [
       "                     kw_scaled  sin_hour_day  cos_hour_day  sin_day_week  \\\n",
       "timestamp                                                                  \n",
       "2016-01-01 00:00:00   0.274317      0.000000      1.000000     -0.433884   \n",
       "2016-01-01 01:00:00   0.217363      0.258819      0.965926     -0.433884   \n",
       "2016-01-01 02:00:00   0.168545      0.500000      0.866025     -0.433884   \n",
       "2016-01-01 03:00:00   0.122996      0.707107      0.707107     -0.433884   \n",
       "2016-01-01 04:00:00   0.080440      0.866025      0.500000     -0.433884   \n",
       "...                        ...           ...           ...           ...   \n",
       "2016-01-07 19:00:00   0.659295     -0.965926      0.258819      0.433884   \n",
       "2016-01-07 20:00:00   0.616653     -0.866025      0.500000      0.433884   \n",
       "2016-01-07 21:00:00   0.577855     -0.707107      0.707107      0.433884   \n",
       "2016-01-07 22:00:00   0.468685     -0.500000      0.866025      0.433884   \n",
       "2016-01-07 23:00:00   0.317259     -0.258819      0.965926      0.433884   \n",
       "\n",
       "                     cos_day_week  sin_week_year  cos_week_year  \n",
       "timestamp                                                        \n",
       "2016-01-01 00:00:00     -0.900969      -0.118273       0.992981  \n",
       "2016-01-01 01:00:00     -0.900969      -0.118273       0.992981  \n",
       "2016-01-01 02:00:00     -0.900969      -0.118273       0.992981  \n",
       "2016-01-01 03:00:00     -0.900969      -0.118273       0.992981  \n",
       "2016-01-01 04:00:00     -0.900969      -0.118273       0.992981  \n",
       "...                           ...            ...            ...  \n",
       "2016-01-07 19:00:00     -0.900969       0.000000       1.000000  \n",
       "2016-01-07 20:00:00     -0.900969       0.000000       1.000000  \n",
       "2016-01-07 21:00:00     -0.900969       0.000000       1.000000  \n",
       "2016-01-07 22:00:00     -0.900969       0.000000       1.000000  \n",
       "2016-01-07 23:00:00     -0.900969       0.000000       1.000000  \n",
       "\n",
       "[168 rows x 7 columns]"
      ]
     },
     "execution_count": 28,
     "metadata": {},
     "output_type": "execute_result"
    }
   ],
   "source": [
    "# the encoder input\n",
    "sub_series[:m]"
   ]
  },
  {
   "cell_type": "code",
   "execution_count": 29,
   "metadata": {},
   "outputs": [
    {
     "data": {
      "text/html": [
       "<div>\n",
       "<style scoped>\n",
       "    .dataframe tbody tr th:only-of-type {\n",
       "        vertical-align: middle;\n",
       "    }\n",
       "\n",
       "    .dataframe tbody tr th {\n",
       "        vertical-align: top;\n",
       "    }\n",
       "\n",
       "    .dataframe thead th {\n",
       "        text-align: right;\n",
       "    }\n",
       "</style>\n",
       "<table border=\"1\" class=\"dataframe\">\n",
       "  <thead>\n",
       "    <tr style=\"text-align: right;\">\n",
       "      <th></th>\n",
       "      <th>kw_scaled</th>\n",
       "      <th>sin_hour_day</th>\n",
       "      <th>cos_hour_day</th>\n",
       "      <th>sin_day_week</th>\n",
       "      <th>cos_day_week</th>\n",
       "      <th>sin_week_year</th>\n",
       "      <th>cos_week_year</th>\n",
       "    </tr>\n",
       "    <tr>\n",
       "      <th>timestamp</th>\n",
       "      <th></th>\n",
       "      <th></th>\n",
       "      <th></th>\n",
       "      <th></th>\n",
       "      <th></th>\n",
       "      <th></th>\n",
       "      <th></th>\n",
       "    </tr>\n",
       "  </thead>\n",
       "  <tbody>\n",
       "    <tr>\n",
       "      <th>2016-01-07 23:00:00</th>\n",
       "      <td>0.317259</td>\n",
       "      <td>-0.258819</td>\n",
       "      <td>9.659258e-01</td>\n",
       "      <td>0.433884</td>\n",
       "      <td>-0.900969</td>\n",
       "      <td>0.000000</td>\n",
       "      <td>1.000000</td>\n",
       "    </tr>\n",
       "    <tr>\n",
       "      <th>2016-01-08 00:00:00</th>\n",
       "      <td>0.188947</td>\n",
       "      <td>0.000000</td>\n",
       "      <td>1.000000e+00</td>\n",
       "      <td>-0.433884</td>\n",
       "      <td>-0.900969</td>\n",
       "      <td>0.000000</td>\n",
       "      <td>1.000000</td>\n",
       "    </tr>\n",
       "    <tr>\n",
       "      <th>2016-01-08 01:00:00</th>\n",
       "      <td>0.114106</td>\n",
       "      <td>0.258819</td>\n",
       "      <td>9.659258e-01</td>\n",
       "      <td>-0.433884</td>\n",
       "      <td>-0.900969</td>\n",
       "      <td>0.000000</td>\n",
       "      <td>1.000000</td>\n",
       "    </tr>\n",
       "    <tr>\n",
       "      <th>2016-01-08 02:00:00</th>\n",
       "      <td>0.070324</td>\n",
       "      <td>0.500000</td>\n",
       "      <td>8.660254e-01</td>\n",
       "      <td>-0.433884</td>\n",
       "      <td>-0.900969</td>\n",
       "      <td>0.000000</td>\n",
       "      <td>1.000000</td>\n",
       "    </tr>\n",
       "    <tr>\n",
       "      <th>2016-01-08 03:00:00</th>\n",
       "      <td>0.065130</td>\n",
       "      <td>0.707107</td>\n",
       "      <td>7.071068e-01</td>\n",
       "      <td>-0.433884</td>\n",
       "      <td>-0.900969</td>\n",
       "      <td>0.000000</td>\n",
       "      <td>1.000000</td>\n",
       "    </tr>\n",
       "    <tr>\n",
       "      <th>...</th>\n",
       "      <td>...</td>\n",
       "      <td>...</td>\n",
       "      <td>...</td>\n",
       "      <td>...</td>\n",
       "      <td>...</td>\n",
       "      <td>...</td>\n",
       "      <td>...</td>\n",
       "    </tr>\n",
       "    <tr>\n",
       "      <th>2016-01-14 18:00:00</th>\n",
       "      <td>0.487971</td>\n",
       "      <td>-1.000000</td>\n",
       "      <td>-1.836970e-16</td>\n",
       "      <td>0.433884</td>\n",
       "      <td>-0.900969</td>\n",
       "      <td>0.118273</td>\n",
       "      <td>0.992981</td>\n",
       "    </tr>\n",
       "    <tr>\n",
       "      <th>2016-01-14 19:00:00</th>\n",
       "      <td>0.661054</td>\n",
       "      <td>-0.965926</td>\n",
       "      <td>2.588190e-01</td>\n",
       "      <td>0.433884</td>\n",
       "      <td>-0.900969</td>\n",
       "      <td>0.118273</td>\n",
       "      <td>0.992981</td>\n",
       "    </tr>\n",
       "    <tr>\n",
       "      <th>2016-01-14 20:00:00</th>\n",
       "      <td>0.633207</td>\n",
       "      <td>-0.866025</td>\n",
       "      <td>5.000000e-01</td>\n",
       "      <td>0.433884</td>\n",
       "      <td>-0.900969</td>\n",
       "      <td>0.118273</td>\n",
       "      <td>0.992981</td>\n",
       "    </tr>\n",
       "    <tr>\n",
       "      <th>2016-01-14 21:00:00</th>\n",
       "      <td>0.599071</td>\n",
       "      <td>-0.707107</td>\n",
       "      <td>7.071068e-01</td>\n",
       "      <td>0.433884</td>\n",
       "      <td>-0.900969</td>\n",
       "      <td>0.118273</td>\n",
       "      <td>0.992981</td>\n",
       "    </tr>\n",
       "    <tr>\n",
       "      <th>2016-01-14 22:00:00</th>\n",
       "      <td>0.495604</td>\n",
       "      <td>-0.500000</td>\n",
       "      <td>8.660254e-01</td>\n",
       "      <td>0.433884</td>\n",
       "      <td>-0.900969</td>\n",
       "      <td>0.118273</td>\n",
       "      <td>0.992981</td>\n",
       "    </tr>\n",
       "  </tbody>\n",
       "</table>\n",
       "<p>168 rows × 7 columns</p>\n",
       "</div>"
      ],
      "text/plain": [
       "                     kw_scaled  sin_hour_day  cos_hour_day  sin_day_week  \\\n",
       "timestamp                                                                  \n",
       "2016-01-07 23:00:00   0.317259     -0.258819  9.659258e-01      0.433884   \n",
       "2016-01-08 00:00:00   0.188947      0.000000  1.000000e+00     -0.433884   \n",
       "2016-01-08 01:00:00   0.114106      0.258819  9.659258e-01     -0.433884   \n",
       "2016-01-08 02:00:00   0.070324      0.500000  8.660254e-01     -0.433884   \n",
       "2016-01-08 03:00:00   0.065130      0.707107  7.071068e-01     -0.433884   \n",
       "...                        ...           ...           ...           ...   \n",
       "2016-01-14 18:00:00   0.487971     -1.000000 -1.836970e-16      0.433884   \n",
       "2016-01-14 19:00:00   0.661054     -0.965926  2.588190e-01      0.433884   \n",
       "2016-01-14 20:00:00   0.633207     -0.866025  5.000000e-01      0.433884   \n",
       "2016-01-14 21:00:00   0.599071     -0.707107  7.071068e-01      0.433884   \n",
       "2016-01-14 22:00:00   0.495604     -0.500000  8.660254e-01      0.433884   \n",
       "\n",
       "                     cos_day_week  sin_week_year  cos_week_year  \n",
       "timestamp                                                        \n",
       "2016-01-07 23:00:00     -0.900969       0.000000       1.000000  \n",
       "2016-01-08 00:00:00     -0.900969       0.000000       1.000000  \n",
       "2016-01-08 01:00:00     -0.900969       0.000000       1.000000  \n",
       "2016-01-08 02:00:00     -0.900969       0.000000       1.000000  \n",
       "2016-01-08 03:00:00     -0.900969       0.000000       1.000000  \n",
       "...                           ...            ...            ...  \n",
       "2016-01-14 18:00:00     -0.900969       0.118273       0.992981  \n",
       "2016-01-14 19:00:00     -0.900969       0.118273       0.992981  \n",
       "2016-01-14 20:00:00     -0.900969       0.118273       0.992981  \n",
       "2016-01-14 21:00:00     -0.900969       0.118273       0.992981  \n",
       "2016-01-14 22:00:00     -0.900969       0.118273       0.992981  \n",
       "\n",
       "[168 rows x 7 columns]"
      ]
     },
     "execution_count": 29,
     "metadata": {},
     "output_type": "execute_result"
    }
   ],
   "source": [
    "# the decoder input ERROR? does it have to be defined in terms of t instead of m?\n",
    "# no, it does not\n",
    "# as long as the subseries formation already uses t to define the end_index\n",
    "sub_series[m-1:-1]"
   ]
  },
  {
   "cell_type": "code",
   "execution_count": 30,
   "metadata": {},
   "outputs": [
    {
     "data": {
      "text/html": [
       "<div>\n",
       "<style scoped>\n",
       "    .dataframe tbody tr th:only-of-type {\n",
       "        vertical-align: middle;\n",
       "    }\n",
       "\n",
       "    .dataframe tbody tr th {\n",
       "        vertical-align: top;\n",
       "    }\n",
       "\n",
       "    .dataframe thead th {\n",
       "        text-align: right;\n",
       "    }\n",
       "</style>\n",
       "<table border=\"1\" class=\"dataframe\">\n",
       "  <thead>\n",
       "    <tr style=\"text-align: right;\">\n",
       "      <th></th>\n",
       "      <th>kw_scaled</th>\n",
       "      <th>sin_hour_day</th>\n",
       "      <th>cos_hour_day</th>\n",
       "      <th>sin_day_week</th>\n",
       "      <th>cos_day_week</th>\n",
       "      <th>sin_week_year</th>\n",
       "      <th>cos_week_year</th>\n",
       "    </tr>\n",
       "    <tr>\n",
       "      <th>timestamp</th>\n",
       "      <th></th>\n",
       "      <th></th>\n",
       "      <th></th>\n",
       "      <th></th>\n",
       "      <th></th>\n",
       "      <th></th>\n",
       "      <th></th>\n",
       "    </tr>\n",
       "  </thead>\n",
       "  <tbody>\n",
       "    <tr>\n",
       "      <th>2016-01-08 00:00:00</th>\n",
       "      <td>0.188947</td>\n",
       "      <td>0.000000</td>\n",
       "      <td>1.000000</td>\n",
       "      <td>-0.433884</td>\n",
       "      <td>-0.900969</td>\n",
       "      <td>0.000000</td>\n",
       "      <td>1.000000</td>\n",
       "    </tr>\n",
       "    <tr>\n",
       "      <th>2016-01-08 01:00:00</th>\n",
       "      <td>0.114106</td>\n",
       "      <td>0.258819</td>\n",
       "      <td>0.965926</td>\n",
       "      <td>-0.433884</td>\n",
       "      <td>-0.900969</td>\n",
       "      <td>0.000000</td>\n",
       "      <td>1.000000</td>\n",
       "    </tr>\n",
       "    <tr>\n",
       "      <th>2016-01-08 02:00:00</th>\n",
       "      <td>0.070324</td>\n",
       "      <td>0.500000</td>\n",
       "      <td>0.866025</td>\n",
       "      <td>-0.433884</td>\n",
       "      <td>-0.900969</td>\n",
       "      <td>0.000000</td>\n",
       "      <td>1.000000</td>\n",
       "    </tr>\n",
       "    <tr>\n",
       "      <th>2016-01-08 03:00:00</th>\n",
       "      <td>0.065130</td>\n",
       "      <td>0.707107</td>\n",
       "      <td>0.707107</td>\n",
       "      <td>-0.433884</td>\n",
       "      <td>-0.900969</td>\n",
       "      <td>0.000000</td>\n",
       "      <td>1.000000</td>\n",
       "    </tr>\n",
       "    <tr>\n",
       "      <th>2016-01-08 04:00:00</th>\n",
       "      <td>0.053664</td>\n",
       "      <td>0.866025</td>\n",
       "      <td>0.500000</td>\n",
       "      <td>-0.433884</td>\n",
       "      <td>-0.900969</td>\n",
       "      <td>0.000000</td>\n",
       "      <td>1.000000</td>\n",
       "    </tr>\n",
       "    <tr>\n",
       "      <th>...</th>\n",
       "      <td>...</td>\n",
       "      <td>...</td>\n",
       "      <td>...</td>\n",
       "      <td>...</td>\n",
       "      <td>...</td>\n",
       "      <td>...</td>\n",
       "      <td>...</td>\n",
       "    </tr>\n",
       "    <tr>\n",
       "      <th>2016-01-14 19:00:00</th>\n",
       "      <td>0.661054</td>\n",
       "      <td>-0.965926</td>\n",
       "      <td>0.258819</td>\n",
       "      <td>0.433884</td>\n",
       "      <td>-0.900969</td>\n",
       "      <td>0.118273</td>\n",
       "      <td>0.992981</td>\n",
       "    </tr>\n",
       "    <tr>\n",
       "      <th>2016-01-14 20:00:00</th>\n",
       "      <td>0.633207</td>\n",
       "      <td>-0.866025</td>\n",
       "      <td>0.500000</td>\n",
       "      <td>0.433884</td>\n",
       "      <td>-0.900969</td>\n",
       "      <td>0.118273</td>\n",
       "      <td>0.992981</td>\n",
       "    </tr>\n",
       "    <tr>\n",
       "      <th>2016-01-14 21:00:00</th>\n",
       "      <td>0.599071</td>\n",
       "      <td>-0.707107</td>\n",
       "      <td>0.707107</td>\n",
       "      <td>0.433884</td>\n",
       "      <td>-0.900969</td>\n",
       "      <td>0.118273</td>\n",
       "      <td>0.992981</td>\n",
       "    </tr>\n",
       "    <tr>\n",
       "      <th>2016-01-14 22:00:00</th>\n",
       "      <td>0.495604</td>\n",
       "      <td>-0.500000</td>\n",
       "      <td>0.866025</td>\n",
       "      <td>0.433884</td>\n",
       "      <td>-0.900969</td>\n",
       "      <td>0.118273</td>\n",
       "      <td>0.992981</td>\n",
       "    </tr>\n",
       "    <tr>\n",
       "      <th>2016-01-14 23:00:00</th>\n",
       "      <td>0.349971</td>\n",
       "      <td>-0.258819</td>\n",
       "      <td>0.965926</td>\n",
       "      <td>0.433884</td>\n",
       "      <td>-0.900969</td>\n",
       "      <td>0.118273</td>\n",
       "      <td>0.992981</td>\n",
       "    </tr>\n",
       "  </tbody>\n",
       "</table>\n",
       "<p>168 rows × 7 columns</p>\n",
       "</div>"
      ],
      "text/plain": [
       "                     kw_scaled  sin_hour_day  cos_hour_day  sin_day_week  \\\n",
       "timestamp                                                                  \n",
       "2016-01-08 00:00:00   0.188947      0.000000      1.000000     -0.433884   \n",
       "2016-01-08 01:00:00   0.114106      0.258819      0.965926     -0.433884   \n",
       "2016-01-08 02:00:00   0.070324      0.500000      0.866025     -0.433884   \n",
       "2016-01-08 03:00:00   0.065130      0.707107      0.707107     -0.433884   \n",
       "2016-01-08 04:00:00   0.053664      0.866025      0.500000     -0.433884   \n",
       "...                        ...           ...           ...           ...   \n",
       "2016-01-14 19:00:00   0.661054     -0.965926      0.258819      0.433884   \n",
       "2016-01-14 20:00:00   0.633207     -0.866025      0.500000      0.433884   \n",
       "2016-01-14 21:00:00   0.599071     -0.707107      0.707107      0.433884   \n",
       "2016-01-14 22:00:00   0.495604     -0.500000      0.866025      0.433884   \n",
       "2016-01-14 23:00:00   0.349971     -0.258819      0.965926      0.433884   \n",
       "\n",
       "                     cos_day_week  sin_week_year  cos_week_year  \n",
       "timestamp                                                        \n",
       "2016-01-08 00:00:00     -0.900969       0.000000       1.000000  \n",
       "2016-01-08 01:00:00     -0.900969       0.000000       1.000000  \n",
       "2016-01-08 02:00:00     -0.900969       0.000000       1.000000  \n",
       "2016-01-08 03:00:00     -0.900969       0.000000       1.000000  \n",
       "2016-01-08 04:00:00     -0.900969       0.000000       1.000000  \n",
       "...                           ...            ...            ...  \n",
       "2016-01-14 19:00:00     -0.900969       0.118273       0.992981  \n",
       "2016-01-14 20:00:00     -0.900969       0.118273       0.992981  \n",
       "2016-01-14 21:00:00     -0.900969       0.118273       0.992981  \n",
       "2016-01-14 22:00:00     -0.900969       0.118273       0.992981  \n",
       "2016-01-14 23:00:00     -0.900969       0.118273       0.992981  \n",
       "\n",
       "[168 rows x 7 columns]"
      ]
     },
     "execution_count": 30,
     "metadata": {},
     "output_type": "execute_result"
    }
   ],
   "source": [
    "# the target\n",
    "sub_series[m:]"
   ]
  },
  {
   "cell_type": "code",
   "execution_count": 31,
   "metadata": {},
   "outputs": [],
   "source": [
    "# then the SLDB is consistent with the Transformer definition"
   ]
  },
  {
   "cell_type": "code",
   "execution_count": null,
   "metadata": {},
   "outputs": [],
   "source": []
  },
  {
   "cell_type": "code",
   "execution_count": 32,
   "metadata": {},
   "outputs": [],
   "source": [
    "# initialize a sub-dictionary for SLDB stats\n",
    "sldb['stats'] = dict()"
   ]
  },
  {
   "cell_type": "markdown",
   "metadata": {},
   "source": [
    "### remove timestamps from SLDB, they are available at inference via time series"
   ]
  },
  {
   "cell_type": "code",
   "execution_count": 49,
   "metadata": {},
   "outputs": [
    {
     "name": "stdout",
     "output_type": "stream",
     "text": [
      "Dataset created for train stage with 17207 encoder input rows.\n",
      "Dataset created for train stage with 17207 decoder input rows.\n",
      "Dataset created for train stage with 17207 target rows.\n",
      "Dataset created for eval stage with 2544 encoder input rows.\n",
      "Dataset created for eval stage with 2544 decoder input rows.\n",
      "Dataset created for eval stage with 2544 target rows.\n",
      "Dataset created for test stage with 1873 encoder input rows.\n",
      "Dataset created for test stage with 1873 decoder input rows.\n",
      "Dataset created for test stage with 1873 target rows.\n"
     ]
    }
   ],
   "source": [
    "# a dictionary to store row arrays lists for all the stages\n",
    "results = dict()\n",
    "\n",
    "# pass the embedding dimension of the encoder\n",
    "m = sldb['embedding']['hourly']\n",
    "\n",
    "# pass the embedding dimension of the decoder (it is also the number of targets)\n",
    "t = sldb['no_targets']\n",
    "\n",
    "# iterate on stages\n",
    "for stage in ['train', 'eval', 'test']:\n",
    "    \n",
    "    # use a temporary list for each SLDB feature (column)\n",
    "    encoder_input_arrays_list = list()\n",
    "    decoder_input_arrays_list = list()\n",
    "    target_arrays_list = list()\n",
    "    # encoder_input_timestamp_arrays_list = list()\n",
    "    # target_timestamp_arrays_list = list()\n",
    "    \n",
    "    # slide a window to form a row array with m + t elements of the time series\n",
    "    # row_array[:m] is the encoder input, shape (m, 7)\n",
    "    # row_array[m-1:-1] is the decoder input, shape (t, 7)\n",
    "    # row_array[m:, :1] is the target, shape (t, 1)\n",
    "    \n",
    "    for start_index in range(ts[stage].shape[0] - (m+t) + 1):\n",
    "        # start_index, end_index are the indexes in the dataframe that define\n",
    "        # the sub-series in the sliding window\n",
    "        end_index = start_index + (m+t)\n",
    "        # get the time window sub-series\n",
    "        sub_series = ts[stage][start_index: end_index]\n",
    "\n",
    "        # pass the sub-series to a NumPy array\n",
    "        # discard the timestamp index when passing values\n",
    "        row_array = sub_series.reset_index(drop=True).to_numpy()\n",
    "        # and pass the timestamp index as string        \n",
    "        timestamps_array = sub_series.index.strftime(\"%Y-%m-%d %H:%M:%S\")        \n",
    "        \n",
    "        # build SLDB columns from the row array and the timestamp array\n",
    "        encoder_input_arrays_list.append(row_array[:m])                             # shape is [m, 7]\n",
    "        decoder_input_arrays_list.append(row_array[m-1:-1])                         # shape is [t, 7]\n",
    "        target_arrays_list.append(row_array[m:, :1])                                # shape is [t, 1]\n",
    "        # encoder_input_timestamp_arrays_list.append(timestamps_array[:m])            # shape is [m, 1]\n",
    "        # target_timestamp_arrays_list.append(timestamps_array[m:])                   # shape is [t, 1]\n",
    "        \n",
    "    # report stage completion\n",
    "    print('Dataset created for {} stage with {} encoder input rows.'\n",
    "          .format(stage, len(encoder_input_arrays_list)))\n",
    "    \n",
    "    print('Dataset created for {} stage with {} decoder input rows.'\n",
    "          .format(stage, len(decoder_input_arrays_list)))\n",
    "    \n",
    "    print('Dataset created for {} stage with {} target rows.'\n",
    "          .format(stage, len(target_arrays_list)))\n",
    "    \n",
    "    # print('Dataset created for {} stage with {} encoder input timestamps.'\n",
    "    #       .format(stage, len(encoder_input_timestamp_arrays_list)))\n",
    "    \n",
    "    # print('Dataset created for {} stage with {} target timestamps.'\n",
    "    #       .format(stage, len(target_timestamp_arrays_list)))\n",
    "    \n",
    "    \n",
    "    # add a sub-dictionary for stage results\n",
    "    results[stage] = dict()\n",
    "\n",
    "    results[stage]['encoder_input'] = encoder_input_arrays_list\n",
    "    results[stage]['decoder_input'] = decoder_input_arrays_list\n",
    "    results[stage]['target'] = target_arrays_list\n",
    "    # results[stage]['encoder_input_timestamps'] = encoder_input_timestamp_arrays_list\n",
    "    # results[stage]['target_timestamps'] = target_timestamp_arrays_list\n",
    "\n",
    "    # add a sub-dictionary for stage stats\n",
    "    sldb['stats'][stage] = dict()\n",
    "    # pass number of rows to SLDB statistics dictionary\n",
    "    \n",
    "    # the number of rows in the source list (any SLDB column works to get the number of rows)\n",
    "    sldb['stats'][stage]['n_rows'] = len(results[stage]['encoder_input'])"
   ]
  },
  {
   "cell_type": "code",
   "execution_count": 50,
   "metadata": {},
   "outputs": [],
   "source": [
    "# ToDo: code to calculate sldb[stats]"
   ]
  },
  {
   "cell_type": "code",
   "execution_count": 51,
   "metadata": {},
   "outputs": [
    {
     "data": {
      "text/plain": [
       "{'ts': 'CPE04115_H_kw_20210526212214',\n",
       " 'embedding': {'hourly': 168},\n",
       " 'tau': {'hourly': 1},\n",
       " 'no_targets': 168,\n",
       " 'BSCTRFM': 1,\n",
       " 'stats': {'train': {'n_rows': 17207},\n",
       "  'eval': {'n_rows': 2544},\n",
       "  'test': {'n_rows': 1873}}}"
      ]
     },
     "execution_count": 51,
     "metadata": {},
     "output_type": "execute_result"
    }
   ],
   "source": [
    "# the final sldb dictionary\n",
    "sldb"
   ]
  },
  {
   "cell_type": "code",
   "execution_count": 52,
   "metadata": {},
   "outputs": [
    {
     "data": {
      "text/plain": [
       "(168, 7)"
      ]
     },
     "execution_count": 52,
     "metadata": {},
     "output_type": "execute_result"
    }
   ],
   "source": [
    "# verify some SLDB columns before serializing to TFRecord files\n",
    "results['test']['encoder_input'][0].shape"
   ]
  },
  {
   "cell_type": "code",
   "execution_count": 53,
   "metadata": {},
   "outputs": [
    {
     "data": {
      "text/plain": [
       "(168, 7)"
      ]
     },
     "execution_count": 53,
     "metadata": {},
     "output_type": "execute_result"
    }
   ],
   "source": [
    "results['test']['decoder_input'][0].shape"
   ]
  },
  {
   "cell_type": "code",
   "execution_count": 54,
   "metadata": {},
   "outputs": [
    {
     "data": {
      "text/plain": [
       "(168, 1)"
      ]
     },
     "execution_count": 54,
     "metadata": {},
     "output_type": "execute_result"
    }
   ],
   "source": [
    "results['test']['target'][0].shape"
   ]
  },
  {
   "cell_type": "code",
   "execution_count": 55,
   "metadata": {},
   "outputs": [],
   "source": [
    "# results['test']['encoder_input_timestamps'][0].shape"
   ]
  },
  {
   "cell_type": "code",
   "execution_count": 56,
   "metadata": {},
   "outputs": [],
   "source": [
    "# results['test']['target_timestamps'][0].shape"
   ]
  },
  {
   "cell_type": "code",
   "execution_count": 57,
   "metadata": {},
   "outputs": [],
   "source": [
    "# results['test']['encoder_input_timestamps'][0][0], results['test']['encoder_input_timestamps'][0][-1]"
   ]
  },
  {
   "cell_type": "code",
   "execution_count": 58,
   "metadata": {},
   "outputs": [],
   "source": [
    "# results['test']['target_timestamps'][0][0], results['test']['target_timestamps'][0][-1]"
   ]
  },
  {
   "cell_type": "code",
   "execution_count": 59,
   "metadata": {},
   "outputs": [],
   "source": [
    "# use list comprehension to encode the timestamp array (Index dtype) into a list of bytes\n",
    "# [timestamp.encode() for timestamp in results['test']['timestamp'][0]]"
   ]
  },
  {
   "cell_type": "code",
   "execution_count": 60,
   "metadata": {},
   "outputs": [],
   "source": [
    "# a function to encode float values for serialized examples\n",
    "def _float_feature_from_list_of_values(list_of_values):\n",
    "    \"\"\"Returns a float_list from a list of floats / doubles.\"\"\"\n",
    "    return tf.train.Feature(float_list=tf.train.FloatList(value=list_of_values))"
   ]
  },
  {
   "cell_type": "code",
   "execution_count": 61,
   "metadata": {},
   "outputs": [],
   "source": [
    "# a function to encode byte values for serialized examples\n",
    "def _bytes_feature_from_list_of_values(list_of_values):\n",
    "    \"\"\"Returns a bytes_list from a list of strings / bytes.\"\"\"\n",
    "    return tf.train.Feature(bytes_list=tf.train.BytesList(value=list_of_values))"
   ]
  },
  {
   "cell_type": "code",
   "execution_count": 62,
   "metadata": {},
   "outputs": [
    {
     "data": {
      "text/plain": [
       "'BSCTRFM_168_168'"
      ]
     },
     "execution_count": 62,
     "metadata": {},
     "output_type": "execute_result"
    }
   ],
   "source": [
    "# a string with the basic specifications of the SLDB, as part of the SLDB identifier\n",
    "sldb_specs = 'BSCTRFM_{:03d}_{:03d}'.format(sldb['embedding']['hourly'], sldb['no_targets'])\n",
    "sldb_specs"
   ]
  },
  {
   "cell_type": "code",
   "execution_count": 63,
   "metadata": {},
   "outputs": [
    {
     "data": {
      "text/plain": [
       "'CPE04115_H_kw_20210526212214_BSCTRFM_168_168'"
      ]
     },
     "execution_count": 63,
     "metadata": {},
     "output_type": "execute_result"
    }
   ],
   "source": [
    "# get the time-based identifer for the SLDB\n",
    "sldb_identifier = '{}_{}'.format(sldb['ts'], sldb_specs)\n",
    "sldb_identifier"
   ]
  },
  {
   "cell_type": "code",
   "execution_count": 64,
   "metadata": {},
   "outputs": [
    {
     "data": {
      "text/plain": [
       "'/home/developer/gcp/cbidmltsf/sldbs/CPE04115_H_kw_20210526212214_BSCTRFM_168_168'"
      ]
     },
     "execution_count": 64,
     "metadata": {},
     "output_type": "execute_result"
    }
   ],
   "source": [
    "sldb_dir = '/home/developer/gcp/cbidmltsf/sldbs/{}'.format(sldb_identifier)\n",
    "sldb_dir"
   ]
  },
  {
   "cell_type": "code",
   "execution_count": 65,
   "metadata": {},
   "outputs": [
    {
     "name": "stdout",
     "output_type": "stream",
     "text": [
      "Directory /home/developer/gcp/cbidmltsf/sldbs/CPE04115_H_kw_20210526212214_BSCTRFM_168_168 was created.\n"
     ]
    }
   ],
   "source": [
    "try:\n",
    "    os.mkdir(sldb_dir)\n",
    "    print('Directory {} was created.'.format(sldb_dir))\n",
    "except FileExistsError:\n",
    "    print('Error: directory {} already exists.'.format(sldb_dir))"
   ]
  },
  {
   "cell_type": "code",
   "execution_count": null,
   "metadata": {},
   "outputs": [],
   "source": []
  },
  {
   "cell_type": "code",
   "execution_count": 66,
   "metadata": {},
   "outputs": [],
   "source": [
    "for stage in stages:\n",
    "    N_ROWS = sldb['stats'][stage]['n_rows']\n",
    "    filename = '{}/{}.tfrecord'.format(sldb_dir, stage)\n",
    "\n",
    "    with tf.io.TFRecordWriter(filename) as writer:\n",
    "        for row in np.arange(N_ROWS):\n",
    "            example = tf.train.Example(\n",
    "                # features within the example\n",
    "                features=tf.train.Features(\n",
    "                    # individual feature definition\n",
    "                    feature={'encoder_input':\n",
    "                             _float_feature_from_list_of_values(\n",
    "                                 results[stage]['encoder_input'][row].flatten()),\n",
    "                             'decoder_input':\n",
    "                             _float_feature_from_list_of_values(\n",
    "                                 results[stage]['decoder_input'][row].flatten()),\n",
    "                             'target':\n",
    "                             _float_feature_from_list_of_values(\n",
    "                                 results[stage]['target'][row].flatten())\n",
    "                             \n",
    "                             # use list comprehension to encode the timestamp array (dtype=Index)\n",
    "                             # into a list of bytes\n",
    "                             # 'encoder_input_timestamps':\n",
    "                             # _bytes_feature_from_list_of_values(\n",
    "                             #     [timestamp.encode() for timestamp in results[stage]['encoder_input_timestamps'][row]]),\n",
    "                             # 'target_timestamps':\n",
    "                             # _bytes_feature_from_list_of_values(\n",
    "                             #     [timestamp.encode() for timestamp in results[stage]['target_timestamps'][row]])\n",
    "                             }\n",
    "                )\n",
    "            )\n",
    "            serialized_example = example.SerializeToString()\n",
    "            writer.write(serialized_example)"
   ]
  },
  {
   "cell_type": "code",
   "execution_count": 67,
   "metadata": {},
   "outputs": [],
   "source": [
    "json_filename = '{}/sldb.json'.format(sldb_dir)"
   ]
  },
  {
   "cell_type": "code",
   "execution_count": 68,
   "metadata": {},
   "outputs": [],
   "source": [
    "with open(json_filename, 'w') as filename:\n",
    "    json.dump(sldb, filename, indent=4)"
   ]
  },
  {
   "cell_type": "code",
   "execution_count": null,
   "metadata": {},
   "outputs": [],
   "source": []
  },
  {
   "cell_type": "code",
   "execution_count": 69,
   "metadata": {},
   "outputs": [
    {
     "name": "stdout",
     "output_type": "stream",
     "text": [
      "Building synchronization state...\n",
      "Starting synchronization...\n",
      "Copying file:///home/developer/gcp/cbidmltsf/sldbs/CPE04115_H_kw_20210526212214_BSCTRFM_168_168/eval.tfrecord [Content-Type=application/octet-stream]...\n",
      "Copying file:///home/developer/gcp/cbidmltsf/sldbs/CPE04115_H_kw_20210526212214_BSCTRFM_168_168/sldb.json [Content-Type=application/json]...\n",
      "Copying file:///home/developer/gcp/cbidmltsf/sldbs/CPE04115_H_kw_20210526212214_BSCTRFM_168_168/test.tfrecord [Content-Type=application/octet-stream]...\n",
      "Copying file:///home/developer/gcp/cbidmltsf/sldbs/CPE04115_H_kw_20210526212214_BSCTRFM_168_168/train.tfrecord [Content-Type=application/octet-stream]...\n",
      "==> NOTE: You are uploading one or more large file(s), which would run          \n",
      "significantly faster if you enable parallel composite uploads. This\n",
      "feature can be enabled by editing the\n",
      "\"parallel_composite_upload_threshold\" value in your .boto\n",
      "configuration file. However, note that if you do this large files will\n",
      "be uploaded as `composite objects\n",
      "<https://cloud.google.com/storage/docs/composite-objects>`_,which\n",
      "means that any user who downloads such objects will need to have a\n",
      "compiled crcmod installed (see \"gsutil help crcmod\"). This is because\n",
      "without a compiled crcmod, computing checksums on composite objects is\n",
      "so slow that gsutil disables downloads of composite objects.\n",
      "\n",
      "/ [4 files][209.8 MiB/209.8 MiB]    3.9 MiB/s                                   \n",
      "Operation completed over 4 objects/209.8 MiB.                                    \n"
     ]
    }
   ],
   "source": [
    "# do not forget to sync sldbs/ from local to GS after the previous operations!\n",
    "!gsutil rsync -d -r /home/developer/gcp/cbidmltsf/sldbs gs://cbidmltsf/sldbs"
   ]
  },
  {
   "cell_type": "code",
   "execution_count": null,
   "metadata": {},
   "outputs": [],
   "source": []
  }
 ],
 "metadata": {
  "kernelspec": {
   "display_name": "Python 3",
   "language": "python",
   "name": "python3"
  },
  "language_info": {
   "codemirror_mode": {
    "name": "ipython",
    "version": 3
   },
   "file_extension": ".py",
   "mimetype": "text/x-python",
   "name": "python",
   "nbconvert_exporter": "python",
   "pygments_lexer": "ipython3",
   "version": "3.7.6"
  }
 },
 "nbformat": 4,
 "nbformat_minor": 4
}

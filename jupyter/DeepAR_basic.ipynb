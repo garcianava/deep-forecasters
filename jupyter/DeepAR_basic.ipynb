{
 "cells": [
  {
   "cell_type": "code",
   "execution_count": 1,
   "metadata": {},
   "outputs": [],
   "source": [
    "# https://sagemaker-examples.readthedocs.io/en/latest/introduction_to_amazon_algorithms/\n",
    "#         deepar_synthetic/deepar_synthetic.html"
   ]
  },
  {
   "cell_type": "code",
   "execution_count": 2,
   "metadata": {},
   "outputs": [],
   "source": [
    "import time\n",
    "import numpy as np\n",
    "import pandas as pd\n",
    "import json\n",
    "import matplotlib.pyplot as plt\n",
    "# import boto3\n",
    "# import sagemaker\n",
    "# from sagemaker import get_execution_role"
   ]
  },
  {
   "cell_type": "code",
   "execution_count": 3,
   "metadata": {},
   "outputs": [
    {
     "data": {
      "text/html": [
       "\n",
       "    <div class=\"bk-root\">\n",
       "        <a href=\"https://bokeh.org\" target=\"_blank\" class=\"bk-logo bk-logo-small bk-logo-notebook\"></a>\n",
       "        <span id=\"1001\">Loading BokehJS ...</span>\n",
       "    </div>"
      ]
     },
     "metadata": {},
     "output_type": "display_data"
    },
    {
     "data": {
      "application/javascript": [
       "\n",
       "(function(root) {\n",
       "  function now() {\n",
       "    return new Date();\n",
       "  }\n",
       "\n",
       "  var force = true;\n",
       "\n",
       "  if (typeof root._bokeh_onload_callbacks === \"undefined\" || force === true) {\n",
       "    root._bokeh_onload_callbacks = [];\n",
       "    root._bokeh_is_loading = undefined;\n",
       "  }\n",
       "\n",
       "  var JS_MIME_TYPE = 'application/javascript';\n",
       "  var HTML_MIME_TYPE = 'text/html';\n",
       "  var EXEC_MIME_TYPE = 'application/vnd.bokehjs_exec.v0+json';\n",
       "  var CLASS_NAME = 'output_bokeh rendered_html';\n",
       "\n",
       "  /**\n",
       "   * Render data to the DOM node\n",
       "   */\n",
       "  function render(props, node) {\n",
       "    var script = document.createElement(\"script\");\n",
       "    node.appendChild(script);\n",
       "  }\n",
       "\n",
       "  /**\n",
       "   * Handle when an output is cleared or removed\n",
       "   */\n",
       "  function handleClearOutput(event, handle) {\n",
       "    var cell = handle.cell;\n",
       "\n",
       "    var id = cell.output_area._bokeh_element_id;\n",
       "    var server_id = cell.output_area._bokeh_server_id;\n",
       "    // Clean up Bokeh references\n",
       "    if (id != null && id in Bokeh.index) {\n",
       "      Bokeh.index[id].model.document.clear();\n",
       "      delete Bokeh.index[id];\n",
       "    }\n",
       "\n",
       "    if (server_id !== undefined) {\n",
       "      // Clean up Bokeh references\n",
       "      var cmd = \"from bokeh.io.state import curstate; print(curstate().uuid_to_server['\" + server_id + \"'].get_sessions()[0].document.roots[0]._id)\";\n",
       "      cell.notebook.kernel.execute(cmd, {\n",
       "        iopub: {\n",
       "          output: function(msg) {\n",
       "            var id = msg.content.text.trim();\n",
       "            if (id in Bokeh.index) {\n",
       "              Bokeh.index[id].model.document.clear();\n",
       "              delete Bokeh.index[id];\n",
       "            }\n",
       "          }\n",
       "        }\n",
       "      });\n",
       "      // Destroy server and session\n",
       "      var cmd = \"import bokeh.io.notebook as ion; ion.destroy_server('\" + server_id + \"')\";\n",
       "      cell.notebook.kernel.execute(cmd);\n",
       "    }\n",
       "  }\n",
       "\n",
       "  /**\n",
       "   * Handle when a new output is added\n",
       "   */\n",
       "  function handleAddOutput(event, handle) {\n",
       "    var output_area = handle.output_area;\n",
       "    var output = handle.output;\n",
       "\n",
       "    // limit handleAddOutput to display_data with EXEC_MIME_TYPE content only\n",
       "    if ((output.output_type != \"display_data\") || (!output.data.hasOwnProperty(EXEC_MIME_TYPE))) {\n",
       "      return\n",
       "    }\n",
       "\n",
       "    var toinsert = output_area.element.find(\".\" + CLASS_NAME.split(' ')[0]);\n",
       "\n",
       "    if (output.metadata[EXEC_MIME_TYPE][\"id\"] !== undefined) {\n",
       "      toinsert[toinsert.length - 1].firstChild.textContent = output.data[JS_MIME_TYPE];\n",
       "      // store reference to embed id on output_area\n",
       "      output_area._bokeh_element_id = output.metadata[EXEC_MIME_TYPE][\"id\"];\n",
       "    }\n",
       "    if (output.metadata[EXEC_MIME_TYPE][\"server_id\"] !== undefined) {\n",
       "      var bk_div = document.createElement(\"div\");\n",
       "      bk_div.innerHTML = output.data[HTML_MIME_TYPE];\n",
       "      var script_attrs = bk_div.children[0].attributes;\n",
       "      for (var i = 0; i < script_attrs.length; i++) {\n",
       "        toinsert[toinsert.length - 1].firstChild.setAttribute(script_attrs[i].name, script_attrs[i].value);\n",
       "      }\n",
       "      // store reference to server id on output_area\n",
       "      output_area._bokeh_server_id = output.metadata[EXEC_MIME_TYPE][\"server_id\"];\n",
       "    }\n",
       "  }\n",
       "\n",
       "  function register_renderer(events, OutputArea) {\n",
       "\n",
       "    function append_mime(data, metadata, element) {\n",
       "      // create a DOM node to render to\n",
       "      var toinsert = this.create_output_subarea(\n",
       "        metadata,\n",
       "        CLASS_NAME,\n",
       "        EXEC_MIME_TYPE\n",
       "      );\n",
       "      this.keyboard_manager.register_events(toinsert);\n",
       "      // Render to node\n",
       "      var props = {data: data, metadata: metadata[EXEC_MIME_TYPE]};\n",
       "      render(props, toinsert[toinsert.length - 1]);\n",
       "      element.append(toinsert);\n",
       "      return toinsert\n",
       "    }\n",
       "\n",
       "    /* Handle when an output is cleared or removed */\n",
       "    events.on('clear_output.CodeCell', handleClearOutput);\n",
       "    events.on('delete.Cell', handleClearOutput);\n",
       "\n",
       "    /* Handle when a new output is added */\n",
       "    events.on('output_added.OutputArea', handleAddOutput);\n",
       "\n",
       "    /**\n",
       "     * Register the mime type and append_mime function with output_area\n",
       "     */\n",
       "    OutputArea.prototype.register_mime_type(EXEC_MIME_TYPE, append_mime, {\n",
       "      /* Is output safe? */\n",
       "      safe: true,\n",
       "      /* Index of renderer in `output_area.display_order` */\n",
       "      index: 0\n",
       "    });\n",
       "  }\n",
       "\n",
       "  // register the mime type if in Jupyter Notebook environment and previously unregistered\n",
       "  if (root.Jupyter !== undefined) {\n",
       "    var events = require('base/js/events');\n",
       "    var OutputArea = require('notebook/js/outputarea').OutputArea;\n",
       "\n",
       "    if (OutputArea.prototype.mime_types().indexOf(EXEC_MIME_TYPE) == -1) {\n",
       "      register_renderer(events, OutputArea);\n",
       "    }\n",
       "  }\n",
       "\n",
       "  \n",
       "  if (typeof (root._bokeh_timeout) === \"undefined\" || force === true) {\n",
       "    root._bokeh_timeout = Date.now() + 5000;\n",
       "    root._bokeh_failed_load = false;\n",
       "  }\n",
       "\n",
       "  var NB_LOAD_WARNING = {'data': {'text/html':\n",
       "     \"<div style='background-color: #fdd'>\\n\"+\n",
       "     \"<p>\\n\"+\n",
       "     \"BokehJS does not appear to have successfully loaded. If loading BokehJS from CDN, this \\n\"+\n",
       "     \"may be due to a slow or bad network connection. Possible fixes:\\n\"+\n",
       "     \"</p>\\n\"+\n",
       "     \"<ul>\\n\"+\n",
       "     \"<li>re-rerun `output_notebook()` to attempt to load from CDN again, or</li>\\n\"+\n",
       "     \"<li>use INLINE resources instead, as so:</li>\\n\"+\n",
       "     \"</ul>\\n\"+\n",
       "     \"<code>\\n\"+\n",
       "     \"from bokeh.resources import INLINE\\n\"+\n",
       "     \"output_notebook(resources=INLINE)\\n\"+\n",
       "     \"</code>\\n\"+\n",
       "     \"</div>\"}};\n",
       "\n",
       "  function display_loaded() {\n",
       "    var el = document.getElementById(\"1001\");\n",
       "    if (el != null) {\n",
       "      el.textContent = \"BokehJS is loading...\";\n",
       "    }\n",
       "    if (root.Bokeh !== undefined) {\n",
       "      if (el != null) {\n",
       "        el.textContent = \"BokehJS \" + root.Bokeh.version + \" successfully loaded.\";\n",
       "      }\n",
       "    } else if (Date.now() < root._bokeh_timeout) {\n",
       "      setTimeout(display_loaded, 100)\n",
       "    }\n",
       "  }\n",
       "\n",
       "\n",
       "  function run_callbacks() {\n",
       "    try {\n",
       "      root._bokeh_onload_callbacks.forEach(function(callback) {\n",
       "        if (callback != null)\n",
       "          callback();\n",
       "      });\n",
       "    } finally {\n",
       "      delete root._bokeh_onload_callbacks\n",
       "    }\n",
       "    console.debug(\"Bokeh: all callbacks have finished\");\n",
       "  }\n",
       "\n",
       "  function load_libs(css_urls, js_urls, callback) {\n",
       "    if (css_urls == null) css_urls = [];\n",
       "    if (js_urls == null) js_urls = [];\n",
       "\n",
       "    root._bokeh_onload_callbacks.push(callback);\n",
       "    if (root._bokeh_is_loading > 0) {\n",
       "      console.debug(\"Bokeh: BokehJS is being loaded, scheduling callback at\", now());\n",
       "      return null;\n",
       "    }\n",
       "    if (js_urls == null || js_urls.length === 0) {\n",
       "      run_callbacks();\n",
       "      return null;\n",
       "    }\n",
       "    console.debug(\"Bokeh: BokehJS not loaded, scheduling load and callback at\", now());\n",
       "    root._bokeh_is_loading = css_urls.length + js_urls.length;\n",
       "\n",
       "    function on_load() {\n",
       "      root._bokeh_is_loading--;\n",
       "      if (root._bokeh_is_loading === 0) {\n",
       "        console.debug(\"Bokeh: all BokehJS libraries/stylesheets loaded\");\n",
       "        run_callbacks()\n",
       "      }\n",
       "    }\n",
       "\n",
       "    function on_error() {\n",
       "      console.error(\"failed to load \" + url);\n",
       "    }\n",
       "\n",
       "    for (var i = 0; i < css_urls.length; i++) {\n",
       "      var url = css_urls[i];\n",
       "      const element = document.createElement(\"link\");\n",
       "      element.onload = on_load;\n",
       "      element.onerror = on_error;\n",
       "      element.rel = \"stylesheet\";\n",
       "      element.type = \"text/css\";\n",
       "      element.href = url;\n",
       "      console.debug(\"Bokeh: injecting link tag for BokehJS stylesheet: \", url);\n",
       "      document.body.appendChild(element);\n",
       "    }\n",
       "\n",
       "    for (var i = 0; i < js_urls.length; i++) {\n",
       "      var url = js_urls[i];\n",
       "      var element = document.createElement('script');\n",
       "      element.onload = on_load;\n",
       "      element.onerror = on_error;\n",
       "      element.async = false;\n",
       "      element.src = url;\n",
       "      console.debug(\"Bokeh: injecting script tag for BokehJS library: \", url);\n",
       "      document.head.appendChild(element);\n",
       "    }\n",
       "  };var element = document.getElementById(\"1001\");\n",
       "  if (element == null) {\n",
       "    console.error(\"Bokeh: ERROR: autoload.js configured with elementid '1001' but no matching script tag was found. \")\n",
       "    return false;\n",
       "  }\n",
       "\n",
       "  function inject_raw_css(css) {\n",
       "    const element = document.createElement(\"style\");\n",
       "    element.appendChild(document.createTextNode(css));\n",
       "    document.body.appendChild(element);\n",
       "  }\n",
       "\n",
       "  \n",
       "  var js_urls = [\"https://cdn.pydata.org/bokeh/release/bokeh-1.4.0.min.js\", \"https://cdn.pydata.org/bokeh/release/bokeh-widgets-1.4.0.min.js\", \"https://cdn.pydata.org/bokeh/release/bokeh-tables-1.4.0.min.js\", \"https://cdn.pydata.org/bokeh/release/bokeh-gl-1.4.0.min.js\"];\n",
       "  var css_urls = [];\n",
       "  \n",
       "\n",
       "  var inline_js = [\n",
       "    function(Bokeh) {\n",
       "      Bokeh.set_log_level(\"info\");\n",
       "    },\n",
       "    function(Bokeh) {\n",
       "    \n",
       "    \n",
       "    }\n",
       "  ];\n",
       "\n",
       "  function run_inline_js() {\n",
       "    \n",
       "    if (root.Bokeh !== undefined || force === true) {\n",
       "      \n",
       "    for (var i = 0; i < inline_js.length; i++) {\n",
       "      inline_js[i].call(root, root.Bokeh);\n",
       "    }\n",
       "    if (force === true) {\n",
       "        display_loaded();\n",
       "      }} else if (Date.now() < root._bokeh_timeout) {\n",
       "      setTimeout(run_inline_js, 100);\n",
       "    } else if (!root._bokeh_failed_load) {\n",
       "      console.log(\"Bokeh: BokehJS failed to load within specified timeout.\");\n",
       "      root._bokeh_failed_load = true;\n",
       "    } else if (force !== true) {\n",
       "      var cell = $(document.getElementById(\"1001\")).parents('.cell').data().cell;\n",
       "      cell.output_area.append_execute_result(NB_LOAD_WARNING)\n",
       "    }\n",
       "\n",
       "  }\n",
       "\n",
       "  if (root._bokeh_is_loading === 0) {\n",
       "    console.debug(\"Bokeh: BokehJS loaded, going straight to plotting\");\n",
       "    run_inline_js();\n",
       "  } else {\n",
       "    load_libs(css_urls, js_urls, function() {\n",
       "      console.debug(\"Bokeh: BokehJS plotting callback run at\", now());\n",
       "      run_inline_js();\n",
       "    });\n",
       "  }\n",
       "}(window));"
      ],
      "application/vnd.bokehjs_load.v0+json": "\n(function(root) {\n  function now() {\n    return new Date();\n  }\n\n  var force = true;\n\n  if (typeof root._bokeh_onload_callbacks === \"undefined\" || force === true) {\n    root._bokeh_onload_callbacks = [];\n    root._bokeh_is_loading = undefined;\n  }\n\n  \n\n  \n  if (typeof (root._bokeh_timeout) === \"undefined\" || force === true) {\n    root._bokeh_timeout = Date.now() + 5000;\n    root._bokeh_failed_load = false;\n  }\n\n  var NB_LOAD_WARNING = {'data': {'text/html':\n     \"<div style='background-color: #fdd'>\\n\"+\n     \"<p>\\n\"+\n     \"BokehJS does not appear to have successfully loaded. If loading BokehJS from CDN, this \\n\"+\n     \"may be due to a slow or bad network connection. Possible fixes:\\n\"+\n     \"</p>\\n\"+\n     \"<ul>\\n\"+\n     \"<li>re-rerun `output_notebook()` to attempt to load from CDN again, or</li>\\n\"+\n     \"<li>use INLINE resources instead, as so:</li>\\n\"+\n     \"</ul>\\n\"+\n     \"<code>\\n\"+\n     \"from bokeh.resources import INLINE\\n\"+\n     \"output_notebook(resources=INLINE)\\n\"+\n     \"</code>\\n\"+\n     \"</div>\"}};\n\n  function display_loaded() {\n    var el = document.getElementById(\"1001\");\n    if (el != null) {\n      el.textContent = \"BokehJS is loading...\";\n    }\n    if (root.Bokeh !== undefined) {\n      if (el != null) {\n        el.textContent = \"BokehJS \" + root.Bokeh.version + \" successfully loaded.\";\n      }\n    } else if (Date.now() < root._bokeh_timeout) {\n      setTimeout(display_loaded, 100)\n    }\n  }\n\n\n  function run_callbacks() {\n    try {\n      root._bokeh_onload_callbacks.forEach(function(callback) {\n        if (callback != null)\n          callback();\n      });\n    } finally {\n      delete root._bokeh_onload_callbacks\n    }\n    console.debug(\"Bokeh: all callbacks have finished\");\n  }\n\n  function load_libs(css_urls, js_urls, callback) {\n    if (css_urls == null) css_urls = [];\n    if (js_urls == null) js_urls = [];\n\n    root._bokeh_onload_callbacks.push(callback);\n    if (root._bokeh_is_loading > 0) {\n      console.debug(\"Bokeh: BokehJS is being loaded, scheduling callback at\", now());\n      return null;\n    }\n    if (js_urls == null || js_urls.length === 0) {\n      run_callbacks();\n      return null;\n    }\n    console.debug(\"Bokeh: BokehJS not loaded, scheduling load and callback at\", now());\n    root._bokeh_is_loading = css_urls.length + js_urls.length;\n\n    function on_load() {\n      root._bokeh_is_loading--;\n      if (root._bokeh_is_loading === 0) {\n        console.debug(\"Bokeh: all BokehJS libraries/stylesheets loaded\");\n        run_callbacks()\n      }\n    }\n\n    function on_error() {\n      console.error(\"failed to load \" + url);\n    }\n\n    for (var i = 0; i < css_urls.length; i++) {\n      var url = css_urls[i];\n      const element = document.createElement(\"link\");\n      element.onload = on_load;\n      element.onerror = on_error;\n      element.rel = \"stylesheet\";\n      element.type = \"text/css\";\n      element.href = url;\n      console.debug(\"Bokeh: injecting link tag for BokehJS stylesheet: \", url);\n      document.body.appendChild(element);\n    }\n\n    for (var i = 0; i < js_urls.length; i++) {\n      var url = js_urls[i];\n      var element = document.createElement('script');\n      element.onload = on_load;\n      element.onerror = on_error;\n      element.async = false;\n      element.src = url;\n      console.debug(\"Bokeh: injecting script tag for BokehJS library: \", url);\n      document.head.appendChild(element);\n    }\n  };var element = document.getElementById(\"1001\");\n  if (element == null) {\n    console.error(\"Bokeh: ERROR: autoload.js configured with elementid '1001' but no matching script tag was found. \")\n    return false;\n  }\n\n  function inject_raw_css(css) {\n    const element = document.createElement(\"style\");\n    element.appendChild(document.createTextNode(css));\n    document.body.appendChild(element);\n  }\n\n  \n  var js_urls = [\"https://cdn.pydata.org/bokeh/release/bokeh-1.4.0.min.js\", \"https://cdn.pydata.org/bokeh/release/bokeh-widgets-1.4.0.min.js\", \"https://cdn.pydata.org/bokeh/release/bokeh-tables-1.4.0.min.js\", \"https://cdn.pydata.org/bokeh/release/bokeh-gl-1.4.0.min.js\"];\n  var css_urls = [];\n  \n\n  var inline_js = [\n    function(Bokeh) {\n      Bokeh.set_log_level(\"info\");\n    },\n    function(Bokeh) {\n    \n    \n    }\n  ];\n\n  function run_inline_js() {\n    \n    if (root.Bokeh !== undefined || force === true) {\n      \n    for (var i = 0; i < inline_js.length; i++) {\n      inline_js[i].call(root, root.Bokeh);\n    }\n    if (force === true) {\n        display_loaded();\n      }} else if (Date.now() < root._bokeh_timeout) {\n      setTimeout(run_inline_js, 100);\n    } else if (!root._bokeh_failed_load) {\n      console.log(\"Bokeh: BokehJS failed to load within specified timeout.\");\n      root._bokeh_failed_load = true;\n    } else if (force !== true) {\n      var cell = $(document.getElementById(\"1001\")).parents('.cell').data().cell;\n      cell.output_area.append_execute_result(NB_LOAD_WARNING)\n    }\n\n  }\n\n  if (root._bokeh_is_loading === 0) {\n    console.debug(\"Bokeh: BokehJS loaded, going straight to plotting\");\n    run_inline_js();\n  } else {\n    load_libs(css_urls, js_urls, function() {\n      console.debug(\"Bokeh: BokehJS plotting callback run at\", now());\n      run_inline_js();\n    });\n  }\n}(window));"
     },
     "metadata": {},
     "output_type": "display_data"
    }
   ],
   "source": [
    "from bokeh.plotting import figure, show, output_file, save\n",
    "from bokeh.io import output_notebook\n",
    "from bokeh.palettes import d3\n",
    "output_notebook()"
   ]
  },
  {
   "cell_type": "code",
   "execution_count": 4,
   "metadata": {},
   "outputs": [],
   "source": [
    "np.random.seed(1)"
   ]
  },
  {
   "cell_type": "code",
   "execution_count": 5,
   "metadata": {},
   "outputs": [],
   "source": [
    "# generating synthetic data"
   ]
  },
  {
   "cell_type": "code",
   "execution_count": 6,
   "metadata": {},
   "outputs": [],
   "source": [
    "freq = \"H\"\n",
    "prediction_length = 48\n",
    "context_length = 72"
   ]
  },
  {
   "cell_type": "markdown",
   "metadata": {},
   "source": [
    "For this notebook, we will generate 200 noisy time series, each consisting of 400 data points and with seasonality of 24 hours. In our dummy example, all time series start at the same time point t0. When preparing your data, it is important to use the correct start point for each time series, because the model uses the time-point as a frame of reference, which enables it to learn e.g. that weekdays behave differently from weekends."
   ]
  },
  {
   "cell_type": "code",
   "execution_count": 7,
   "metadata": {},
   "outputs": [],
   "source": [
    "t0 = \"2016-01-01 00:00:00\"\n",
    "data_length = 400\n",
    "num_ts = 200\n",
    "period = 24"
   ]
  },
  {
   "cell_type": "code",
   "execution_count": 8,
   "metadata": {},
   "outputs": [],
   "source": [
    "time_series = []\n",
    "for k in range(num_ts):\n",
    "    level = 10 * np.random.rand()\n",
    "    seas_amplitude = (0.1 + 0.3 * np.random.rand()) * level\n",
    "    sig = 0.05 * level  # noise parameter (constant in time)\n",
    "    time_ticks = np.array(range(data_length))\n",
    "    source = level + seas_amplitude * np.sin(time_ticks * (2 * np.pi) / period)\n",
    "    noise = sig * np.random.randn(data_length)\n",
    "    data = source + noise\n",
    "    index = pd.date_range(start=t0, freq=freq, periods=data_length)\n",
    "    time_series.append(pd.Series(data=data, index=index))"
   ]
  },
  {
   "cell_type": "code",
   "execution_count": 9,
   "metadata": {},
   "outputs": [],
   "source": [
    "plots = dict()"
   ]
  },
  {
   "cell_type": "code",
   "execution_count": 10,
   "metadata": {},
   "outputs": [
    {
     "data": {
      "text/html": [
       "\n",
       "\n",
       "\n",
       "\n",
       "\n",
       "\n",
       "  <div class=\"bk-root\" id=\"66a28dff-d3d2-4a36-ac38-e29af00c732c\" data-root-id=\"1002\"></div>\n"
      ]
     },
     "metadata": {},
     "output_type": "display_data"
    },
    {
     "data": {
      "application/javascript": [
       "(function(root) {\n",
       "  function embed_document(root) {\n",
       "    \n",
       "  var docs_json = {\"35a43a96-b67a-46ce-a321-6df2dbc14b70\":{\"roots\":{\"references\":[{\"attributes\":{\"below\":[{\"id\":\"1013\",\"type\":\"DatetimeAxis\"}],\"center\":[{\"id\":\"1017\",\"type\":\"Grid\"},{\"id\":\"1022\",\"type\":\"Grid\"},{\"id\":\"1059\",\"type\":\"Legend\"}],\"left\":[{\"id\":\"1018\",\"type\":\"LinearAxis\"}],\"plot_height\":400,\"plot_width\":960,\"renderers\":[{\"id\":\"1039\",\"type\":\"GlyphRenderer\"},{\"id\":\"1064\",\"type\":\"GlyphRenderer\"},{\"id\":\"1090\",\"type\":\"GlyphRenderer\"},{\"id\":\"1118\",\"type\":\"GlyphRenderer\"},{\"id\":\"1148\",\"type\":\"GlyphRenderer\"},{\"id\":\"1180\",\"type\":\"GlyphRenderer\"},{\"id\":\"1214\",\"type\":\"GlyphRenderer\"},{\"id\":\"1250\",\"type\":\"GlyphRenderer\"},{\"id\":\"1288\",\"type\":\"GlyphRenderer\"},{\"id\":\"1328\",\"type\":\"GlyphRenderer\"}],\"title\":{\"id\":\"1003\",\"type\":\"Title\"},\"toolbar\":{\"id\":\"1029\",\"type\":\"Toolbar\"},\"x_range\":{\"id\":\"1005\",\"type\":\"DataRange1d\"},\"x_scale\":{\"id\":\"1009\",\"type\":\"LinearScale\"},\"y_range\":{\"id\":\"1007\",\"type\":\"DataRange1d\"},\"y_scale\":{\"id\":\"1011\",\"type\":\"LinearScale\"}},\"id\":\"1002\",\"subtype\":\"Figure\",\"type\":\"Plot\"},{\"attributes\":{\"callback\":null,\"data\":{\"x\":{\"__ndarray__\":\"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\",\"dtype\":\"float64\",\"shape\":[400]},\"y\":{\"__ndarray__\":\"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\",\"dtype\":\"float64\",\"shape\":[400]}},\"selected\":{\"id\":\"1311\",\"type\":\"Selection\"},\"selection_policy\":{\"id\":\"1310\",\"type\":\"UnionRenderers\"}},\"id\":\"1247\",\"type\":\"ColumnDataSource\"},{\"attributes\":{},\"id\":\"1233\",\"type\":\"Selection\"},{\"attributes\":{\"label\":{\"value\":\"006\"},\"renderers\":[{\"id\":\"1214\",\"type\":\"GlyphRenderer\"}]},\"id\":\"1246\",\"type\":\"LegendItem\"},{\"attributes\":{},\"id\":\"1232\",\"type\":\"UnionRenderers\"},{\"attributes\":{\"source\":{\"id\":\"1036\",\"type\":\"ColumnDataSource\"}},\"id\":\"1040\",\"type\":\"CDSView\"},{\"attributes\":{\"line_color\":\"#7f7f7f\",\"x\":{\"field\":\"x\"},\"y\":{\"field\":\"y\"}},\"id\":\"1248\",\"type\":\"Line\"},{\"attributes\":{\"label\":{\"value\":\"007\"},\"renderers\":[{\"id\":\"1250\",\"type\":\"GlyphRenderer\"}]},\"id\":\"1284\",\"type\":\"LegendItem\"},{\"attributes\":{\"source\":{\"id\":\"1247\",\"type\":\"ColumnDataSource\"}},\"id\":\"1251\",\"type\":\"CDSView\"},{\"attributes\":{\"callback\":null,\"data\":{\"x\":{\"__ndarray__\":\"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\",\"dtype\":\"float64\",\"shape\":[400]},\"y\":{\"__ndarray__\":\"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\",\"dtype\":\"float64\",\"shape\":[400]}},\"selected\":{\"id\":\"1353\",\"type\":\"Selection\"},\"selection_policy\":{\"id\":\"1352\",\"type\":\"UnionRenderers\"}},\"id\":\"1285\",\"type\":\"ColumnDataSource\"},{\"attributes\":{},\"id\":\"1270\",\"type\":\"UnionRenderers\"},{\"attributes\":{\"line_alpha\":0.1,\"line_color\":\"#1f77b4\",\"x\":{\"field\":\"x\"},\"y\":{\"field\":\"y\"}},\"id\":\"1249\",\"type\":\"Line\"},{\"attributes\":{\"data_source\":{\"id\":\"1036\",\"type\":\"ColumnDataSource\"},\"glyph\":{\"id\":\"1037\",\"type\":\"Line\"},\"hover_glyph\":null,\"muted_glyph\":null,\"nonselection_glyph\":{\"id\":\"1038\",\"type\":\"Line\"},\"selection_glyph\":null,\"view\":{\"id\":\"1040\",\"type\":\"CDSView\"}},\"id\":\"1039\",\"type\":\"GlyphRenderer\"},{\"attributes\":{\"data_source\":{\"id\":\"1247\",\"type\":\"ColumnDataSource\"},\"glyph\":{\"id\":\"1248\",\"type\":\"Line\"},\"hover_glyph\":null,\"muted_glyph\":null,\"nonselection_glyph\":{\"id\":\"1249\",\"type\":\"Line\"},\"selection_glyph\":null,\"view\":{\"id\":\"1251\",\"type\":\"CDSView\"}},\"id\":\"1250\",\"type\":\"GlyphRenderer\"},{\"attributes\":{\"label\":{\"value\":\"008\"},\"renderers\":[{\"id\":\"1288\",\"type\":\"GlyphRenderer\"}]},\"id\":\"1324\",\"type\":\"LegendItem\"},{\"attributes\":{},\"id\":\"1271\",\"type\":\"Selection\"},{\"attributes\":{\"source\":{\"id\":\"1285\",\"type\":\"ColumnDataSource\"}},\"id\":\"1289\",\"type\":\"CDSView\"},{\"attributes\":{},\"id\":\"1310\",\"type\":\"UnionRenderers\"},{\"attributes\":{\"line_color\":\"#bcbd22\",\"x\":{\"field\":\"x\"},\"y\":{\"field\":\"y\"}},\"id\":\"1286\",\"type\":\"Line\"},{\"attributes\":{\"callback\":null,\"data\":{\"x\":{\"__ndarray__\":\"AADAvacfdUIAAKgsqx91QgAAkJuuH3VCAAB4CrIfdUIAAGB5tR91QgAASOi4H3VCAAAwV7wfdUIAABjGvx91QgAAADXDH3VCAADoo8YfdUIAANASyh91QgAAuIHNH3VCAACg8NAfdUIAAIhf1B91QgAAcM7XH3VCAABYPdsfdUIAAECs3h91QgAAKBviH3VCAAAQiuUfdUIAAPj46B91QgAA4GfsH3VCAADI1u8fdUIAALBF8x91QgAAmLT2H3VCAACAI/ofdUIAAGiS/R91QgAAUAEBIHVCAAA4cAQgdUIAACDfByB1QgAACE4LIHVCAADwvA4gdUIAANgrEiB1QgAAwJoVIHVCAACoCRkgdUIAAJB4HCB1QgAAeOcfIHVCAABgViMgdUIAAEjFJiB1QgAAMDQqIHVCAAAYoy0gdUIAAAASMSB1QgAA6IA0IHVCAADQ7zcgdUIAALheOyB1QgAAoM0+IHVCAACIPEIgdUIAAHCrRSB1QgAAWBpJIHVCAABAiUwgdUIAACj4TyB1QgAAEGdTIHVCAAD41VYgdUIAAOBEWiB1QgAAyLNdIHVCAACwImEgdUIAAJiRZCB1QgAAgABoIHVCAABob2sgdUIAAFDebiB1QgAAOE1yIHVCAAAgvHUgdUIAAAgreSB1QgAA8Jl8IHVCAADYCIAgdUIAAMB3gyB1QgAAqOaGIHVCAACQVYogdUIAAHjEjSB1QgAAYDORIHVCAABIopQgdUIAADARmCB1QgAAGICbIHVCAAAA754gdUIAAOhdoiB1QgAA0MylIHVCAAC4O6kgdUIAAKCqrCB1QgAAiBmwIHVCAABwiLMgdUIAAFj3tiB1QgAAQGa6IHVCAAAo1b0gdUIAABBEwSB1QgAA+LLEIHVCAADgIcggdUIAAMiQyyB1QgAAsP/OIHVCAACYbtIgdUIAAIDd1SB1QgAAaEzZIHVCAABQu9wgdUIAADgq4CB1QgAAIJnjIHVCAAAICOcgdUIAAPB26iB1QgAA2OXtIHVCAADAVPEgdUIAAKjD9CB1QgAAkDL4IHVCAAB4ofsgdUIAAGAQ/yB1QgAASH8CIXVCAAAw7gUhdUIAABhdCSF1QgAAAMwMIXVCAADoOhAhdUIAANCpEyF1QgAAuBgXIXVCAACghxohdUIAAIj2HSF1QgAAcGUhIXVCAABY1CQhdUIAAEBDKCF1QgAAKLIrIXVCAAAQIS8hdUIAAPiPMiF1QgAA4P41IXVCAADIbTkhdUIAALDcPCF1QgAAmEtAIXVCAACAukMhdUIAAGgpRyF1QgAAUJhKIXVCAAA4B04hdUIAACB2USF1QgAACOVUIXVCAADwU1ghdUIAANjCWyF1QgAAwDFfIXVCAACooGIhdUIAAJAPZiF1QgAAeH5pIXVCAABg7WwhdUIAAEhccCF1QgAAMMtzIXVCAAAYOnchdUIAAACpeiF1QgAA6Bd+IXVCAADQhoEhdUIAALj1hCF1QgAAoGSIIXVCAACI04shdUIAAHBCjyF1QgAAWLGSIXVCAABAIJYhdUIAACiPmSF1QgAAEP6cIXVCAAD4bKAhdUIAAODboyF1QgAAyEqnIXVCAACwuaohdUIAAJgoriF1QgAAgJexIXVCAABoBrUhdUIAAFB1uCF1QgAAOOS7IXVCAAAgU78hdUIAAAjCwiF1QgAA8DDGIXVCAADYn8khdUIAAMAOzSF1QgAAqH3QIXVCAACQ7NMhdUIAAHhb1yF1QgAAYMraIXVCAABIOd4hdUIAADCo4SF1QgAAGBflIXVCAAAAhughdUIAAOj06yF1QgAA0GPvIXVCAAC40vIhdUIAAKBB9iF1QgAAiLD5IXVCAABwH/0hdUIAAFiOACJ1QgAAQP0DInVCAAAobAcidUIAABDbCiJ1QgAA+EkOInVCAADguBEidUIAAMgnFSJ1QgAAsJYYInVCAACYBRwidUIAAIB0HyJ1QgAAaOMiInVCAABQUiYidUIAADjBKSJ1QgAAIDAtInVCAAAInzAidUIAAPANNCJ1QgAA2Hw3InVCAADA6zoidUIAAKhaPiJ1QgAAkMlBInVCAAB4OEUidUIAAGCnSCJ1QgAASBZMInVCAAAwhU8idUIAABj0UiJ1QgAAAGNWInVCAADo0VkidUIAANBAXSJ1QgAAuK9gInVCAACgHmQidUIAAIiNZyJ1QgAAcPxqInVCAABYa24idUIAAEDacSJ1QgAAKEl1InVCAAAQuHgidUIAAPgmfCJ1QgAA4JV/InVCAADIBIMidUIAALBzhiJ1QgAAmOKJInVCAACAUY0idUIAAGjAkCJ1QgAAUC+UInVCAAA4npcidUIAACANmyJ1QgAACHyeInVCAADw6qEidUIAANhZpSJ1QgAAwMioInVCAACoN6widUIAAJCmryJ1QgAAeBWzInVCAABghLYidUIAAEjzuSJ1QgAAMGK9InVCAAAY0cAidUIAAABAxCJ1QgAA6K7HInVCAADQHcsidUIAALiMziJ1QgAAoPvRInVCAACIatUidUIAAHDZ2CJ1QgAAWEjcInVCAABAt98idUIAACgm4yJ1QgAAEJXmInVCAAD4A+oidUIAAOBy7SJ1QgAAyOHwInVCAACwUPQidUIAAJi/9yJ1QgAAgC77InVCAABonf4idUIAAFAMAiN1QgAAOHsFI3VCAAAg6ggjdUIAAAhZDCN1QgAA8McPI3VCAADYNhMjdUIAAMClFiN1QgAAqBQaI3VCAACQgx0jdUIAAHjyICN1QgAAYGEkI3VCAABI0CcjdUIAADA/KyN1QgAAGK4uI3VCAAAAHTIjdUIAAOiLNSN1QgAA0Po4I3VCAAC4aTwjdUIAAKDYPyN1QgAAiEdDI3VCAABwtkYjdUIAAFglSiN1QgAAQJRNI3VCAAAoA1EjdUIAABByVCN1QgAA+OBXI3VCAADgT1sjdUIAAMi+XiN1QgAAsC1iI3VCAACYnGUjdUIAAIALaSN1QgAAaHpsI3VCAABQ6W8jdUIAADhYcyN1QgAAIMd2I3VCAAAINnojdUIAAPCkfSN1QgAA2BOBI3VCAADAgoQjdUIAAKjxhyN1QgAAkGCLI3VCAAB4z44jdUIAAGA+kiN1QgAASK2VI3VCAAAwHJkjdUIAABiLnCN1QgAAAPqfI3VCAADoaKMjdUIAANDXpiN1QgAAuEaqI3VCAACgta0jdUIAAIgksSN1QgAAcJO0I3VCAABYArgjdUIAAEBxuyN1QgAAKOC+I3VCAAAQT8IjdUIAAPi9xSN1QgAA4CzJI3VCAADIm8wjdUIAALAK0CN1QgAAmHnTI3VCAACA6NYjdUIAAGhX2iN1QgAAUMbdI3VCAAA4NeEjdUIAACCk5CN1QgAACBPoI3VCAADwgesjdUIAANjw7iN1QgAAwF/yI3VCAACozvUjdUIAAJA9+SN1QgAAeKz8I3VCAABgGwAkdUIAAEiKAyR1QgAAMPkGJHVCAAAYaAokdUIAAADXDSR1QgAA6EURJHVCAADQtBQkdUIAALgjGCR1QgAAoJIbJHVCAACIAR8kdUIAAHBwIiR1QgAAWN8lJHVCAABATikkdUIAACi9LCR1QgAAECwwJHVCAAD4mjMkdUIAAOAJNyR1QgAAyHg6JHVCAACw5z0kdUIAAJhWQSR1QgAAgMVEJHVCAABoNEgkdUIAAFCjSyR1QgAAOBJPJHVCAAAggVIkdUIAAAjwVSR1QgAA8F5ZJHVCAADYzVwkdUIAAMA8YCR1QgAAqKtjJHVCAACQGmckdUIAAHiJaiR1QgAAYPhtJHVCAABIZ3EkdUIAADDWdCR1QgAAGEV4JHVCAAAAtHskdUIAAOgifyR1QgAA0JGCJHVCAAC4AIYkdUIAAKBviSR1QgAAiN6MJHVCAABwTZAkdUIAAFi8kyR1QgAAQCuXJHVCAAAompokdUIAABAJniR1QgAA+HehJHVCAADg5qQkdUIAAMhVqCR1QgAAsMSrJHVCAACYM68kdUIAAICisiR1QgAAaBG2JHVCAABQgLkkdUIAADjvvCR1QgAAIF7AJHVCAAAIzcMkdUIAAPA7xyR1QgAA2KrKJHVCAADAGc4kdUIAAKiI0SR1QgAAkPfUJHVCAAB4ZtgkdUIAAGDV2yR1QgAASETfJHVCAAAws+IkdUIAABgi5iR1QgAAAJHpJHVCAADo/+wkdUIAANBu8CR1QgAAuN3zJHVCAACgTPckdUIAAIi7+iR1QgAAcCr+JHVCAABYmQEldUI=\",\"dtype\":\"float64\",\"shape\":[400]},\"y\":{\"__ndarray__\":\"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\",\"dtype\":\"float64\",\"shape\":[400]}},\"selected\":{\"id\":\"1392\",\"type\":\"Selection\"},\"selection_policy\":{\"id\":\"1391\",\"type\":\"UnionRenderers\"}},\"id\":\"1325\",\"type\":\"ColumnDataSource\"},{\"attributes\":{\"line_alpha\":0.1,\"line_color\":\"#1f77b4\",\"x\":{\"field\":\"x\"},\"y\":{\"field\":\"y\"}},\"id\":\"1287\",\"type\":\"Line\"},{\"attributes\":{\"data_source\":{\"id\":\"1285\",\"type\":\"ColumnDataSource\"},\"glyph\":{\"id\":\"1286\",\"type\":\"Line\"},\"hover_glyph\":null,\"muted_glyph\":null,\"nonselection_glyph\":{\"id\":\"1287\",\"type\":\"Line\"},\"selection_glyph\":null,\"view\":{\"id\":\"1289\",\"type\":\"CDSView\"}},\"id\":\"1288\",\"type\":\"GlyphRenderer\"},{\"attributes\":{},\"id\":\"1311\",\"type\":\"Selection\"},{\"attributes\":{\"mantissas\":[1,2,5],\"max_interval\":500.0,\"num_minor_ticks\":0},\"id\":\"1047\",\"type\":\"AdaptiveTicker\"},{\"attributes\":{\"label\":{\"value\":\"009\"},\"renderers\":[{\"id\":\"1328\",\"type\":\"GlyphRenderer\"}]},\"id\":\"1366\",\"type\":\"LegendItem\"},{\"attributes\":{\"line_alpha\":0.1,\"line_color\":\"#1f77b4\",\"x\":{\"field\":\"x\"},\"y\":{\"field\":\"y\"}},\"id\":\"1327\",\"type\":\"Line\"},{\"attributes\":{\"data_source\":{\"id\":\"1325\",\"type\":\"ColumnDataSource\"},\"glyph\":{\"id\":\"1326\",\"type\":\"Line\"},\"hover_glyph\":null,\"muted_glyph\":null,\"nonselection_glyph\":{\"id\":\"1327\",\"type\":\"Line\"},\"selection_glyph\":null,\"view\":{\"id\":\"1329\",\"type\":\"CDSView\"}},\"id\":\"1328\",\"type\":\"GlyphRenderer\"},{\"attributes\":{\"line_color\":\"#1f77b4\",\"x\":{\"field\":\"x\"},\"y\":{\"field\":\"y\"}},\"id\":\"1037\",\"type\":\"Line\"},{\"attributes\":{\"source\":{\"id\":\"1325\",\"type\":\"ColumnDataSource\"}},\"id\":\"1329\",\"type\":\"CDSView\"},{\"attributes\":{\"callback\":null,\"data\":{\"x\":{\"__ndarray__\":\"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\",\"dtype\":\"float64\",\"shape\":[400]},\"y\":{\"__ndarray__\":\"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\",\"dtype\":\"float64\",\"shape\":[400]}},\"selected\":{\"id\":\"1073\",\"type\":\"Selection\"},\"selection_policy\":{\"id\":\"1072\",\"type\":\"UnionRenderers\"}},\"id\":\"1036\",\"type\":\"ColumnDataSource\"},{\"attributes\":{\"text\":\"DeepAR basic demo (synthetic).\"},\"id\":\"1003\",\"type\":\"Title\"},{\"attributes\":{\"grid_line_alpha\":0.3,\"ticker\":{\"id\":\"1014\",\"type\":\"DatetimeTicker\"}},\"id\":\"1017\",\"type\":\"Grid\"},{\"attributes\":{\"num_minor_ticks\":5,\"tickers\":[{\"id\":\"1047\",\"type\":\"AdaptiveTicker\"},{\"id\":\"1048\",\"type\":\"AdaptiveTicker\"},{\"id\":\"1049\",\"type\":\"AdaptiveTicker\"},{\"id\":\"1050\",\"type\":\"DaysTicker\"},{\"id\":\"1051\",\"type\":\"DaysTicker\"},{\"id\":\"1052\",\"type\":\"DaysTicker\"},{\"id\":\"1053\",\"type\":\"DaysTicker\"},{\"id\":\"1054\",\"type\":\"MonthsTicker\"},{\"id\":\"1055\",\"type\":\"MonthsTicker\"},{\"id\":\"1056\",\"type\":\"MonthsTicker\"},{\"id\":\"1057\",\"type\":\"MonthsTicker\"},{\"id\":\"1058\",\"type\":\"YearsTicker\"}]},\"id\":\"1014\",\"type\":\"DatetimeTicker\"},{\"attributes\":{},\"id\":\"1392\",\"type\":\"Selection\"},{\"attributes\":{},\"id\":\"1019\",\"type\":\"BasicTicker\"},{\"attributes\":{},\"id\":\"1353\",\"type\":\"Selection\"},{\"attributes\":{},\"id\":\"1391\",\"type\":\"UnionRenderers\"},{\"attributes\":{\"line_color\":\"#ff7f0e\",\"x\":{\"field\":\"x\"},\"y\":{\"field\":\"y\"}},\"id\":\"1062\",\"type\":\"Line\"},{\"attributes\":{\"axis_label\":\"Value\",\"formatter\":{\"id\":\"1045\",\"type\":\"BasicTickFormatter\"},\"ticker\":{\"id\":\"1019\",\"type\":\"BasicTicker\"}},\"id\":\"1018\",\"type\":\"LinearAxis\"},{\"attributes\":{},\"id\":\"1101\",\"type\":\"Selection\"},{\"attributes\":{\"dimension\":1,\"grid_line_alpha\":0.3,\"ticker\":{\"id\":\"1019\",\"type\":\"BasicTicker\"}},\"id\":\"1022\",\"type\":\"Grid\"},{\"attributes\":{\"callback\":null,\"data\":{\"x\":{\"__ndarray__\":\"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\",\"dtype\":\"float64\",\"shape\":[400]},\"y\":{\"__ndarray__\":\"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\",\"dtype\":\"float64\",\"shape\":[400]}},\"selected\":{\"id\":\"1197\",\"type\":\"Selection\"},\"selection_policy\":{\"id\":\"1196\",\"type\":\"UnionRenderers\"}},\"id\":\"1145\",\"type\":\"ColumnDataSource\"},{\"attributes\":{},\"id\":\"1162\",\"type\":\"UnionRenderers\"},{\"attributes\":{\"days\":[1,8,15,22]},\"id\":\"1052\",\"type\":\"DaysTicker\"},{\"attributes\":{\"line_color\":\"#d62728\",\"x\":{\"field\":\"x\"},\"y\":{\"field\":\"y\"}},\"id\":\"1116\",\"type\":\"Line\"},{\"attributes\":{\"label\":{\"value\":\"000\"},\"renderers\":[{\"id\":\"1039\",\"type\":\"GlyphRenderer\"}]},\"id\":\"1060\",\"type\":\"LegendItem\"},{\"attributes\":{\"callback\":null,\"data\":{\"x\":{\"__ndarray__\":\"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\",\"dtype\":\"float64\",\"shape\":[400]},\"y\":{\"__ndarray__\":\"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\",\"dtype\":\"float64\",\"shape\":[400]}},\"selected\":{\"id\":\"1163\",\"type\":\"Selection\"},\"selection_policy\":{\"id\":\"1162\",\"type\":\"UnionRenderers\"}},\"id\":\"1115\",\"type\":\"ColumnDataSource\"},{\"attributes\":{\"axis_label\":\"Date\",\"formatter\":{\"id\":\"1043\",\"type\":\"DatetimeTickFormatter\"},\"ticker\":{\"id\":\"1014\",\"type\":\"DatetimeTicker\"}},\"id\":\"1013\",\"type\":\"DatetimeAxis\"},{\"attributes\":{\"label\":{\"value\":\"003\"},\"renderers\":[{\"id\":\"1118\",\"type\":\"GlyphRenderer\"}]},\"id\":\"1144\",\"type\":\"LegendItem\"},{\"attributes\":{\"months\":[0,1,2,3,4,5,6,7,8,9,10,11]},\"id\":\"1054\",\"type\":\"MonthsTicker\"},{\"attributes\":{\"source\":{\"id\":\"1115\",\"type\":\"ColumnDataSource\"}},\"id\":\"1119\",\"type\":\"CDSView\"},{\"attributes\":{\"days\":[1,4,7,10,13,16,19,22,25,28]},\"id\":\"1051\",\"type\":\"DaysTicker\"},{\"attributes\":{\"active_drag\":\"auto\",\"active_inspect\":\"auto\",\"active_multi\":null,\"active_scroll\":\"auto\",\"active_tap\":\"auto\",\"tools\":[{\"id\":\"1023\",\"type\":\"PanTool\"},{\"id\":\"1024\",\"type\":\"WheelZoomTool\"},{\"id\":\"1025\",\"type\":\"BoxZoomTool\"},{\"id\":\"1026\",\"type\":\"SaveTool\"},{\"id\":\"1027\",\"type\":\"ResetTool\"},{\"id\":\"1028\",\"type\":\"HelpTool\"}]},\"id\":\"1029\",\"type\":\"Toolbar\"},{\"attributes\":{},\"id\":\"1130\",\"type\":\"UnionRenderers\"},{\"attributes\":{},\"id\":\"1352\",\"type\":\"UnionRenderers\"},{\"attributes\":{\"months\":[0,6]},\"id\":\"1057\",\"type\":\"MonthsTicker\"},{\"attributes\":{},\"id\":\"1023\",\"type\":\"PanTool\"},{\"attributes\":{\"line_alpha\":0.1,\"line_color\":\"#1f77b4\",\"x\":{\"field\":\"x\"},\"y\":{\"field\":\"y\"}},\"id\":\"1117\",\"type\":\"Line\"},{\"attributes\":{\"base\":60,\"mantissas\":[1,2,5,10,15,20,30],\"max_interval\":1800000.0,\"min_interval\":1000.0,\"num_minor_ticks\":0},\"id\":\"1048\",\"type\":\"AdaptiveTicker\"},{\"attributes\":{\"items\":[{\"id\":\"1060\",\"type\":\"LegendItem\"},{\"id\":\"1086\",\"type\":\"LegendItem\"},{\"id\":\"1114\",\"type\":\"LegendItem\"},{\"id\":\"1144\",\"type\":\"LegendItem\"},{\"id\":\"1176\",\"type\":\"LegendItem\"},{\"id\":\"1210\",\"type\":\"LegendItem\"},{\"id\":\"1246\",\"type\":\"LegendItem\"},{\"id\":\"1284\",\"type\":\"LegendItem\"},{\"id\":\"1324\",\"type\":\"LegendItem\"},{\"id\":\"1366\",\"type\":\"LegendItem\"}]},\"id\":\"1059\",\"type\":\"Legend\"},{\"attributes\":{\"data_source\":{\"id\":\"1115\",\"type\":\"ColumnDataSource\"},\"glyph\":{\"id\":\"1116\",\"type\":\"Line\"},\"hover_glyph\":null,\"muted_glyph\":null,\"nonselection_glyph\":{\"id\":\"1117\",\"type\":\"Line\"},\"selection_glyph\":null,\"view\":{\"id\":\"1119\",\"type\":\"CDSView\"}},\"id\":\"1118\",\"type\":\"GlyphRenderer\"},{\"attributes\":{},\"id\":\"1024\",\"type\":\"WheelZoomTool\"},{\"attributes\":{\"overlay\":{\"id\":\"1046\",\"type\":\"BoxAnnotation\"}},\"id\":\"1025\",\"type\":\"BoxZoomTool\"},{\"attributes\":{},\"id\":\"1026\",\"type\":\"SaveTool\"},{\"attributes\":{},\"id\":\"1027\",\"type\":\"ResetTool\"},{\"attributes\":{\"label\":{\"value\":\"004\"},\"renderers\":[{\"id\":\"1148\",\"type\":\"GlyphRenderer\"}]},\"id\":\"1176\",\"type\":\"LegendItem\"},{\"attributes\":{},\"id\":\"1131\",\"type\":\"Selection\"},{\"attributes\":{\"months\":[0,2,4,6,8,10]},\"id\":\"1055\",\"type\":\"MonthsTicker\"},{\"attributes\":{},\"id\":\"1028\",\"type\":\"HelpTool\"},{\"attributes\":{\"source\":{\"id\":\"1145\",\"type\":\"ColumnDataSource\"}},\"id\":\"1149\",\"type\":\"CDSView\"},{\"attributes\":{},\"id\":\"1163\",\"type\":\"Selection\"},{\"attributes\":{\"days\":[1,2,3,4,5,6,7,8,9,10,11,12,13,14,15,16,17,18,19,20,21,22,23,24,25,26,27,28,29,30,31]},\"id\":\"1050\",\"type\":\"DaysTicker\"},{\"attributes\":{\"line_alpha\":0.1,\"line_color\":\"#1f77b4\",\"x\":{\"field\":\"x\"},\"y\":{\"field\":\"y\"}},\"id\":\"1038\",\"type\":\"Line\"},{\"attributes\":{\"line_color\":\"#9467bd\",\"x\":{\"field\":\"x\"},\"y\":{\"field\":\"y\"}},\"id\":\"1146\",\"type\":\"Line\"},{\"attributes\":{\"callback\":null,\"data\":{\"x\":{\"__ndarray__\":\"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\",\"dtype\":\"float64\",\"shape\":[400]},\"y\":{\"__ndarray__\":\"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\",\"dtype\":\"float64\",\"shape\":[400]}},\"selected\":{\"id\":\"1101\",\"type\":\"Selection\"},\"selection_policy\":{\"id\":\"1100\",\"type\":\"UnionRenderers\"}},\"id\":\"1061\",\"type\":\"ColumnDataSource\"},{\"attributes\":{\"line_alpha\":0.1,\"line_color\":\"#1f77b4\",\"x\":{\"field\":\"x\"},\"y\":{\"field\":\"y\"}},\"id\":\"1147\",\"type\":\"Line\"},{\"attributes\":{\"base\":24,\"mantissas\":[1,2,4,6,8,12],\"max_interval\":43200000.0,\"min_interval\":3600000.0,\"num_minor_ticks\":0},\"id\":\"1049\",\"type\":\"AdaptiveTicker\"},{\"attributes\":{\"months\":[0,4,8]},\"id\":\"1056\",\"type\":\"MonthsTicker\"},{\"attributes\":{\"data_source\":{\"id\":\"1145\",\"type\":\"ColumnDataSource\"},\"glyph\":{\"id\":\"1146\",\"type\":\"Line\"},\"hover_glyph\":null,\"muted_glyph\":null,\"nonselection_glyph\":{\"id\":\"1147\",\"type\":\"Line\"},\"selection_glyph\":null,\"view\":{\"id\":\"1149\",\"type\":\"CDSView\"}},\"id\":\"1148\",\"type\":\"GlyphRenderer\"},{\"attributes\":{\"callback\":null},\"id\":\"1005\",\"type\":\"DataRange1d\"},{\"attributes\":{},\"id\":\"1058\",\"type\":\"YearsTicker\"},{\"attributes\":{\"line_color\":\"#8c564b\",\"x\":{\"field\":\"x\"},\"y\":{\"field\":\"y\"}},\"id\":\"1178\",\"type\":\"Line\"},{\"attributes\":{},\"id\":\"1196\",\"type\":\"UnionRenderers\"},{\"attributes\":{\"callback\":null,\"data\":{\"x\":{\"__ndarray__\":\"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\",\"dtype\":\"float64\",\"shape\":[400]},\"y\":{\"__ndarray__\":\"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\",\"dtype\":\"float64\",\"shape\":[400]}},\"selected\":{\"id\":\"1131\",\"type\":\"Selection\"},\"selection_policy\":{\"id\":\"1130\",\"type\":\"UnionRenderers\"}},\"id\":\"1087\",\"type\":\"ColumnDataSource\"},{\"attributes\":{\"source\":{\"id\":\"1061\",\"type\":\"ColumnDataSource\"}},\"id\":\"1065\",\"type\":\"CDSView\"},{\"attributes\":{\"line_alpha\":0.1,\"line_color\":\"#1f77b4\",\"x\":{\"field\":\"x\"},\"y\":{\"field\":\"y\"}},\"id\":\"1063\",\"type\":\"Line\"},{\"attributes\":{},\"id\":\"1045\",\"type\":\"BasicTickFormatter\"},{\"attributes\":{\"line_color\":\"#17becf\",\"x\":{\"field\":\"x\"},\"y\":{\"field\":\"y\"}},\"id\":\"1326\",\"type\":\"Line\"},{\"attributes\":{\"data_source\":{\"id\":\"1061\",\"type\":\"ColumnDataSource\"},\"glyph\":{\"id\":\"1062\",\"type\":\"Line\"},\"hover_glyph\":null,\"muted_glyph\":null,\"nonselection_glyph\":{\"id\":\"1063\",\"type\":\"Line\"},\"selection_glyph\":null,\"view\":{\"id\":\"1065\",\"type\":\"CDSView\"}},\"id\":\"1064\",\"type\":\"GlyphRenderer\"},{\"attributes\":{\"callback\":null,\"data\":{\"x\":{\"__ndarray__\":\"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\",\"dtype\":\"float64\",\"shape\":[400]},\"y\":{\"__ndarray__\":\"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\",\"dtype\":\"float64\",\"shape\":[400]}},\"selected\":{\"id\":\"1233\",\"type\":\"Selection\"},\"selection_policy\":{\"id\":\"1232\",\"type\":\"UnionRenderers\"}},\"id\":\"1177\",\"type\":\"ColumnDataSource\"},{\"attributes\":{\"label\":{\"value\":\"005\"},\"renderers\":[{\"id\":\"1180\",\"type\":\"GlyphRenderer\"}]},\"id\":\"1210\",\"type\":\"LegendItem\"},{\"attributes\":{},\"id\":\"1072\",\"type\":\"UnionRenderers\"},{\"attributes\":{\"days\":[1,15]},\"id\":\"1053\",\"type\":\"DaysTicker\"},{\"attributes\":{\"label\":{\"value\":\"001\"},\"renderers\":[{\"id\":\"1064\",\"type\":\"GlyphRenderer\"}]},\"id\":\"1086\",\"type\":\"LegendItem\"},{\"attributes\":{\"line_alpha\":0.1,\"line_color\":\"#1f77b4\",\"x\":{\"field\":\"x\"},\"y\":{\"field\":\"y\"}},\"id\":\"1179\",\"type\":\"Line\"},{\"attributes\":{},\"id\":\"1073\",\"type\":\"Selection\"},{\"attributes\":{\"source\":{\"id\":\"1177\",\"type\":\"ColumnDataSource\"}},\"id\":\"1181\",\"type\":\"CDSView\"},{\"attributes\":{\"data_source\":{\"id\":\"1177\",\"type\":\"ColumnDataSource\"},\"glyph\":{\"id\":\"1178\",\"type\":\"Line\"},\"hover_glyph\":null,\"muted_glyph\":null,\"nonselection_glyph\":{\"id\":\"1179\",\"type\":\"Line\"},\"selection_glyph\":null,\"view\":{\"id\":\"1181\",\"type\":\"CDSView\"}},\"id\":\"1180\",\"type\":\"GlyphRenderer\"},{\"attributes\":{\"line_color\":\"#2ca02c\",\"x\":{\"field\":\"x\"},\"y\":{\"field\":\"y\"}},\"id\":\"1088\",\"type\":\"Line\"},{\"attributes\":{\"callback\":null,\"data\":{\"x\":{\"__ndarray__\":\"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\",\"dtype\":\"float64\",\"shape\":[400]},\"y\":{\"__ndarray__\":\"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\",\"dtype\":\"float64\",\"shape\":[400]}},\"selected\":{\"id\":\"1271\",\"type\":\"Selection\"},\"selection_policy\":{\"id\":\"1270\",\"type\":\"UnionRenderers\"}},\"id\":\"1211\",\"type\":\"ColumnDataSource\"},{\"attributes\":{\"callback\":null},\"id\":\"1007\",\"type\":\"DataRange1d\"},{\"attributes\":{},\"id\":\"1009\",\"type\":\"LinearScale\"},{\"attributes\":{\"data_source\":{\"id\":\"1211\",\"type\":\"ColumnDataSource\"},\"glyph\":{\"id\":\"1212\",\"type\":\"Line\"},\"hover_glyph\":null,\"muted_glyph\":null,\"nonselection_glyph\":{\"id\":\"1213\",\"type\":\"Line\"},\"selection_glyph\":null,\"view\":{\"id\":\"1215\",\"type\":\"CDSView\"}},\"id\":\"1214\",\"type\":\"GlyphRenderer\"},{\"attributes\":{\"source\":{\"id\":\"1087\",\"type\":\"ColumnDataSource\"}},\"id\":\"1091\",\"type\":\"CDSView\"},{\"attributes\":{\"bottom_units\":\"screen\",\"fill_alpha\":{\"value\":0.5},\"fill_color\":{\"value\":\"lightgrey\"},\"left_units\":\"screen\",\"level\":\"overlay\",\"line_alpha\":{\"value\":1.0},\"line_color\":{\"value\":\"black\"},\"line_dash\":[4,4],\"line_width\":{\"value\":2},\"render_mode\":\"css\",\"right_units\":\"screen\",\"top_units\":\"screen\"},\"id\":\"1046\",\"type\":\"BoxAnnotation\"},{\"attributes\":{},\"id\":\"1197\",\"type\":\"Selection\"},{\"attributes\":{\"label\":{\"value\":\"002\"},\"renderers\":[{\"id\":\"1090\",\"type\":\"GlyphRenderer\"}]},\"id\":\"1114\",\"type\":\"LegendItem\"},{\"attributes\":{\"line_alpha\":0.1,\"line_color\":\"#1f77b4\",\"x\":{\"field\":\"x\"},\"y\":{\"field\":\"y\"}},\"id\":\"1089\",\"type\":\"Line\"},{\"attributes\":{},\"id\":\"1043\",\"type\":\"DatetimeTickFormatter\"},{\"attributes\":{\"source\":{\"id\":\"1211\",\"type\":\"ColumnDataSource\"}},\"id\":\"1215\",\"type\":\"CDSView\"},{\"attributes\":{},\"id\":\"1011\",\"type\":\"LinearScale\"},{\"attributes\":{\"line_alpha\":0.1,\"line_color\":\"#1f77b4\",\"x\":{\"field\":\"x\"},\"y\":{\"field\":\"y\"}},\"id\":\"1213\",\"type\":\"Line\"},{\"attributes\":{\"data_source\":{\"id\":\"1087\",\"type\":\"ColumnDataSource\"},\"glyph\":{\"id\":\"1088\",\"type\":\"Line\"},\"hover_glyph\":null,\"muted_glyph\":null,\"nonselection_glyph\":{\"id\":\"1089\",\"type\":\"Line\"},\"selection_glyph\":null,\"view\":{\"id\":\"1091\",\"type\":\"CDSView\"}},\"id\":\"1090\",\"type\":\"GlyphRenderer\"},{\"attributes\":{},\"id\":\"1100\",\"type\":\"UnionRenderers\"},{\"attributes\":{\"line_color\":\"#e377c2\",\"x\":{\"field\":\"x\"},\"y\":{\"field\":\"y\"}},\"id\":\"1212\",\"type\":\"Line\"}],\"root_ids\":[\"1002\"]},\"title\":\"Bokeh Application\",\"version\":\"1.4.0\"}};\n",
       "  var render_items = [{\"docid\":\"35a43a96-b67a-46ce-a321-6df2dbc14b70\",\"roots\":{\"1002\":\"66a28dff-d3d2-4a36-ac38-e29af00c732c\"}}];\n",
       "  root.Bokeh.embed.embed_items_notebook(docs_json, render_items);\n",
       "\n",
       "  }\n",
       "  if (root.Bokeh !== undefined) {\n",
       "    embed_document(root);\n",
       "  } else {\n",
       "    var attempts = 0;\n",
       "    var timer = setInterval(function(root) {\n",
       "      if (root.Bokeh !== undefined) {\n",
       "        clearInterval(timer);\n",
       "        embed_document(root);\n",
       "      } else {\n",
       "        attempts++;\n",
       "        if (attempts > 100) {\n",
       "          clearInterval(timer);\n",
       "          console.log(\"Bokeh: ERROR: Unable to run BokehJS code because BokehJS library is missing\");\n",
       "        }\n",
       "      }\n",
       "    }, 10, root)\n",
       "  }\n",
       "})(window);"
      ],
      "application/vnd.bokehjs_exec.v0+json": ""
     },
     "metadata": {
      "application/vnd.bokehjs_exec.v0+json": {
       "id": "1002"
      }
     },
     "output_type": "display_data"
    }
   ],
   "source": [
    "label = 'synthetic'\n",
    "\n",
    "plots[label] = figure(\n",
    "    x_axis_type='datetime',\n",
    "    plot_width=960,\n",
    "    plot_height=400,\n",
    "    title='DeepAR basic demo ({}).'.format(label))\n",
    "\n",
    "plots[label].grid.grid_line_alpha=0.3\n",
    "\n",
    "plots[label].xaxis.axis_label = 'Date'\n",
    "plots[label].yaxis.axis_label = 'Value'\n",
    "\n",
    "# plot a given number of time series\n",
    "for index, ts in enumerate(time_series[:10]):\n",
    "    plots[label].line(ts.index,\n",
    "                      ts.values,\n",
    "                      color=d3['Category10'][10][index],\n",
    "                      legend_label='{:03d}'.format(index))\n",
    "\n",
    "# uncomment the following two lines to save plot\n",
    "# output_file('/home/developer/gcp/cbidmltsf/datasets/cfe/{}_H_kw.html'.format(device))\n",
    "# save(fig_kw)\n",
    "\n",
    "# uncomment the following line to display plot\n",
    "show(plots[label])"
   ]
  },
  {
   "cell_type": "markdown",
   "metadata": {},
   "source": [
    "In this example, we will leave out the last section of each of the time series we just generated and use only the first part as training data. Here we will predict 48 data points, therefore we take out the trailing 48 points from each time series to define the training set. The test set contains the full range of each time series."
   ]
  },
  {
   "cell_type": "code",
   "execution_count": 11,
   "metadata": {},
   "outputs": [],
   "source": [
    "time_series_training = []\n",
    "for ts in time_series:\n",
    "    time_series_training.append(ts[:-prediction_length])"
   ]
  },
  {
   "cell_type": "code",
   "execution_count": 12,
   "metadata": {},
   "outputs": [
    {
     "data": {
      "text/plain": [
       "(400, 352)"
      ]
     },
     "execution_count": 12,
     "metadata": {},
     "output_type": "execute_result"
    }
   ],
   "source": [
    "len(time_series[0]), len(time_series_training[0])"
   ]
  },
  {
   "cell_type": "markdown",
   "metadata": {},
   "source": [
    "The following utility functions convert pandas.Series objects into the appropriate JSON strings that DeepAR can consume. We will use these to write the data to S3."
   ]
  },
  {
   "cell_type": "code",
   "execution_count": 13,
   "metadata": {},
   "outputs": [],
   "source": [
    "def series_to_obj(ts, cat=None):\n",
    "    obj = {\"start\": str(ts.index[0]), \"target\": list(ts)}\n",
    "    if cat is not None:\n",
    "        obj[\"cat\"] = cat\n",
    "    return obj"
   ]
  },
  {
   "cell_type": "code",
   "execution_count": 14,
   "metadata": {},
   "outputs": [],
   "source": [
    "def series_to_jsonline(ts, cat=None):\n",
    "    return json.dumps(series_to_obj(ts, cat))"
   ]
  },
  {
   "cell_type": "code",
   "execution_count": 15,
   "metadata": {},
   "outputs": [],
   "source": [
    "encoding = \"utf-8\"\n",
    "FILE_TRAIN = \"/home/developer/gcp/cbidmltsf/datasets/deepar_synthetic/train.json\"\n",
    "FILE_TEST = \"/home/developer/gcp/cbidmltsf/datasets/deepar_synthetic/test.json\""
   ]
  },
  {
   "cell_type": "code",
   "execution_count": 16,
   "metadata": {},
   "outputs": [],
   "source": [
    "with open(FILE_TRAIN, \"wb\") as f:\n",
    "    for ts in time_series_training:\n",
    "        f.write(series_to_jsonline(ts).encode(encoding))\n",
    "        f.write(\"\\n\".encode(encoding))"
   ]
  },
  {
   "cell_type": "code",
   "execution_count": 17,
   "metadata": {},
   "outputs": [],
   "source": [
    "with open(FILE_TEST, \"wb\") as f:\n",
    "    for ts in time_series:\n",
    "        f.write(series_to_jsonline(ts).encode(encoding))\n",
    "        f.write(\"\\n\".encode(encoding))"
   ]
  },
  {
   "cell_type": "markdown",
   "metadata": {},
   "source": [
    "If you provide the test data channel, as we do in this example, DeepAR will also calculate accuracy metrics for the trained model on this test data set. This is done by predicting the last prediction_length points of each time series in the test set and comparing this to the actual value of the time series. The computed error metrics will be included as part of the log output."
   ]
  },
  {
   "cell_type": "code",
   "execution_count": null,
   "metadata": {},
   "outputs": [],
   "source": []
  },
  {
   "cell_type": "code",
   "execution_count": 18,
   "metadata": {},
   "outputs": [],
   "source": [
    "num_test_windows = 4"
   ]
  },
  {
   "cell_type": "code",
   "execution_count": 19,
   "metadata": {},
   "outputs": [
    {
     "name": "stdout",
     "output_type": "stream",
     "text": [
      "1\n",
      "2\n",
      "3\n",
      "4\n"
     ]
    }
   ],
   "source": [
    "for k in range(1, num_test_windows + 1):\n",
    "    print(k)"
   ]
  },
  {
   "cell_type": "code",
   "execution_count": null,
   "metadata": {},
   "outputs": [],
   "source": []
  }
 ],
 "metadata": {
  "kernelspec": {
   "display_name": "Python 3",
   "language": "python",
   "name": "python3"
  },
  "language_info": {
   "codemirror_mode": {
    "name": "ipython",
    "version": 3
   },
   "file_extension": ".py",
   "mimetype": "text/x-python",
   "name": "python",
   "nbconvert_exporter": "python",
   "pygments_lexer": "ipython3",
   "version": "3.7.6"
  }
 },
 "nbformat": 4,
 "nbformat_minor": 4
}

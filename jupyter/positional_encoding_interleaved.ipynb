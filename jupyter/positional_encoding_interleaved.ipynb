{
 "cells": [
  {
   "cell_type": "code",
   "execution_count": null,
   "metadata": {},
   "outputs": [],
   "source": [
    "# from https://www.tensorflow.org/tutorials/text/transformer"
   ]
  },
  {
   "cell_type": "code",
   "execution_count": 1,
   "metadata": {},
   "outputs": [],
   "source": [
    "import numpy as np"
   ]
  },
  {
   "cell_type": "code",
   "execution_count": 12,
   "metadata": {},
   "outputs": [],
   "source": [
    "import tensorflow as tf"
   ]
  },
  {
   "cell_type": "code",
   "execution_count": 5,
   "metadata": {},
   "outputs": [],
   "source": [
    "def get_angles(pos, i, d_model):\n",
    "  angle_rates = 1 / np.power(10000, (2 * (i//2)) / np.float32(d_model))\n",
    "  return pos * angle_rates\n",
    "\n",
    "def positional_encoding(positions, d_model):\n",
    "  angle_rads = get_angles(np.arange(positions)[:, np.newaxis],\n",
    "                          np.arange(d_model)[np.newaxis, :],\n",
    "                          d_model)\n",
    "  \n",
    "  # apply sin to even indices in the array; 2i\n",
    "  angle_rads[:, 0::2] = np.sin(angle_rads[:, 0::2])\n",
    "  \n",
    "  # apply cos to odd indices in the array; 2i+1\n",
    "  angle_rads[:, 1::2] = np.cos(angle_rads[:, 1::2])\n",
    "    \n",
    "  pos_encoding = angle_rads[np.newaxis, ...]\n",
    "    \n",
    "  return pos_encoding"
   ]
  },
  {
   "cell_type": "code",
   "execution_count": 10,
   "metadata": {},
   "outputs": [],
   "source": [
    "pos_encoding = positional_encoding(positions=256, d_model=64)"
   ]
  },
  {
   "cell_type": "code",
   "execution_count": 14,
   "metadata": {},
   "outputs": [
    {
     "data": {
      "text/plain": [
       "array([[[ 0.00000000e+00,  1.00000000e+00,  0.00000000e+00, ...,\n",
       "          1.00000000e+00,  0.00000000e+00,  1.00000000e+00],\n",
       "        [ 8.41470985e-01,  5.40302306e-01,  6.81561350e-01, ...,\n",
       "          9.99999984e-01,  1.33352143e-04,  9.99999991e-01],\n",
       "        [ 9.09297427e-01, -4.16146837e-01,  9.97479998e-01, ...,\n",
       "          9.99999937e-01,  2.66704283e-04,  9.99999964e-01],\n",
       "        ...,\n",
       "        [ 9.94823729e-01, -1.01615692e-01,  9.41709403e-01, ...,\n",
       "          9.98988100e-01,  3.37316922e-02,  9.99430925e-01],\n",
       "        [ 4.51998898e-01, -8.92018495e-01,  9.18402109e-01, ...,\n",
       "          9.98980086e-01,  3.38649681e-02,  9.99426417e-01],\n",
       "        [-5.06391635e-01, -8.62303608e-01,  4.02392244e-01, ...,\n",
       "          9.98972041e-01,  3.39982435e-02,  9.99421893e-01]]])"
      ]
     },
     "execution_count": 14,
     "metadata": {},
     "output_type": "execute_result"
    }
   ],
   "source": [
    "pos_encoding"
   ]
  },
  {
   "cell_type": "code",
   "execution_count": 13,
   "metadata": {},
   "outputs": [
    {
     "data": {
      "text/plain": [
       "<tf.Tensor: shape=(256, 64), dtype=float64, numpy=\n",
       "array([[ 0.00000000e+00,  1.00000000e+00,  0.00000000e+00, ...,\n",
       "         1.00000000e+00,  0.00000000e+00,  1.00000000e+00],\n",
       "       [ 8.41470985e-01,  5.40302306e-01,  6.81561350e-01, ...,\n",
       "         9.99999984e-01,  1.33352143e-04,  9.99999991e-01],\n",
       "       [ 9.09297427e-01, -4.16146837e-01,  9.97479998e-01, ...,\n",
       "         9.99999937e-01,  2.66704283e-04,  9.99999964e-01],\n",
       "       ...,\n",
       "       [ 9.94823729e-01, -1.01615692e-01,  9.41709403e-01, ...,\n",
       "         9.98988100e-01,  3.37316922e-02,  9.99430925e-01],\n",
       "       [ 4.51998898e-01, -8.92018495e-01,  9.18402109e-01, ...,\n",
       "         9.98980086e-01,  3.38649681e-02,  9.99426417e-01],\n",
       "       [-5.06391635e-01, -8.62303608e-01,  4.02392244e-01, ...,\n",
       "         9.98972041e-01,  3.39982435e-02,  9.99421893e-01]])>"
      ]
     },
     "execution_count": 13,
     "metadata": {},
     "output_type": "execute_result"
    }
   ],
   "source": [
    "tf.squeeze(pos_encoding)"
   ]
  }
 ],
 "metadata": {
  "kernelspec": {
   "display_name": "Python 3",
   "language": "python",
   "name": "python3"
  },
  "language_info": {
   "codemirror_mode": {
    "name": "ipython",
    "version": 3
   },
   "file_extension": ".py",
   "mimetype": "text/x-python",
   "name": "python",
   "nbconvert_exporter": "python",
   "pygments_lexer": "ipython3",
   "version": "3.7.6"
  }
 },
 "nbformat": 4,
 "nbformat_minor": 4
}

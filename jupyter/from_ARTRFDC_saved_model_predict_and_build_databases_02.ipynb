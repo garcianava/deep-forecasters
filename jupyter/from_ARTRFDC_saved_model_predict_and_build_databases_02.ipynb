{
 "cells": [
  {
   "cell_type": "code",
   "execution_count": 1,
   "metadata": {},
   "outputs": [],
   "source": [
    "# Notebook for prediction and evaluation of multi-step forecasting ARTRFDC models"
   ]
  },
  {
   "cell_type": "code",
   "execution_count": 2,
   "metadata": {},
   "outputs": [],
   "source": [
    "import os\n",
    "import json\n",
    "import numpy as np\n",
    "import pandas as pd\n",
    "import joblib\n",
    "from datetime import datetime\n",
    "from math import sqrt\n",
    "from sklearn.metrics import mean_squared_error, mean_absolute_error\n",
    "\n",
    "# uncomment the following line for compatibility with TensorFlow 1.15 (on GCP)\n",
    "# import tensorflow.compat.v1 as tf\n",
    "# uncomment the following line for TensorFlow 2.X (local execution)\n",
    "import tensorflow as tf\n",
    "\n",
    "# forecast model was saved in TensorFlow 1.15\n",
    "# but, in order to make predictions locally, has to be loaded with TensorFlow 2\n",
    "from tensorflow.saved_model import load"
   ]
  },
  {
   "cell_type": "code",
   "execution_count": 3,
   "metadata": {},
   "outputs": [
    {
     "data": {
      "text/html": [
       "\n",
       "    <div class=\"bk-root\">\n",
       "        <a href=\"https://bokeh.org\" target=\"_blank\" class=\"bk-logo bk-logo-small bk-logo-notebook\"></a>\n",
       "        <span id=\"1001\">Loading BokehJS ...</span>\n",
       "    </div>"
      ]
     },
     "metadata": {},
     "output_type": "display_data"
    },
    {
     "data": {
      "application/javascript": [
       "\n",
       "(function(root) {\n",
       "  function now() {\n",
       "    return new Date();\n",
       "  }\n",
       "\n",
       "  var force = true;\n",
       "\n",
       "  if (typeof root._bokeh_onload_callbacks === \"undefined\" || force === true) {\n",
       "    root._bokeh_onload_callbacks = [];\n",
       "    root._bokeh_is_loading = undefined;\n",
       "  }\n",
       "\n",
       "  var JS_MIME_TYPE = 'application/javascript';\n",
       "  var HTML_MIME_TYPE = 'text/html';\n",
       "  var EXEC_MIME_TYPE = 'application/vnd.bokehjs_exec.v0+json';\n",
       "  var CLASS_NAME = 'output_bokeh rendered_html';\n",
       "\n",
       "  /**\n",
       "   * Render data to the DOM node\n",
       "   */\n",
       "  function render(props, node) {\n",
       "    var script = document.createElement(\"script\");\n",
       "    node.appendChild(script);\n",
       "  }\n",
       "\n",
       "  /**\n",
       "   * Handle when an output is cleared or removed\n",
       "   */\n",
       "  function handleClearOutput(event, handle) {\n",
       "    var cell = handle.cell;\n",
       "\n",
       "    var id = cell.output_area._bokeh_element_id;\n",
       "    var server_id = cell.output_area._bokeh_server_id;\n",
       "    // Clean up Bokeh references\n",
       "    if (id != null && id in Bokeh.index) {\n",
       "      Bokeh.index[id].model.document.clear();\n",
       "      delete Bokeh.index[id];\n",
       "    }\n",
       "\n",
       "    if (server_id !== undefined) {\n",
       "      // Clean up Bokeh references\n",
       "      var cmd = \"from bokeh.io.state import curstate; print(curstate().uuid_to_server['\" + server_id + \"'].get_sessions()[0].document.roots[0]._id)\";\n",
       "      cell.notebook.kernel.execute(cmd, {\n",
       "        iopub: {\n",
       "          output: function(msg) {\n",
       "            var id = msg.content.text.trim();\n",
       "            if (id in Bokeh.index) {\n",
       "              Bokeh.index[id].model.document.clear();\n",
       "              delete Bokeh.index[id];\n",
       "            }\n",
       "          }\n",
       "        }\n",
       "      });\n",
       "      // Destroy server and session\n",
       "      var cmd = \"import bokeh.io.notebook as ion; ion.destroy_server('\" + server_id + \"')\";\n",
       "      cell.notebook.kernel.execute(cmd);\n",
       "    }\n",
       "  }\n",
       "\n",
       "  /**\n",
       "   * Handle when a new output is added\n",
       "   */\n",
       "  function handleAddOutput(event, handle) {\n",
       "    var output_area = handle.output_area;\n",
       "    var output = handle.output;\n",
       "\n",
       "    // limit handleAddOutput to display_data with EXEC_MIME_TYPE content only\n",
       "    if ((output.output_type != \"display_data\") || (!output.data.hasOwnProperty(EXEC_MIME_TYPE))) {\n",
       "      return\n",
       "    }\n",
       "\n",
       "    var toinsert = output_area.element.find(\".\" + CLASS_NAME.split(' ')[0]);\n",
       "\n",
       "    if (output.metadata[EXEC_MIME_TYPE][\"id\"] !== undefined) {\n",
       "      toinsert[toinsert.length - 1].firstChild.textContent = output.data[JS_MIME_TYPE];\n",
       "      // store reference to embed id on output_area\n",
       "      output_area._bokeh_element_id = output.metadata[EXEC_MIME_TYPE][\"id\"];\n",
       "    }\n",
       "    if (output.metadata[EXEC_MIME_TYPE][\"server_id\"] !== undefined) {\n",
       "      var bk_div = document.createElement(\"div\");\n",
       "      bk_div.innerHTML = output.data[HTML_MIME_TYPE];\n",
       "      var script_attrs = bk_div.children[0].attributes;\n",
       "      for (var i = 0; i < script_attrs.length; i++) {\n",
       "        toinsert[toinsert.length - 1].firstChild.setAttribute(script_attrs[i].name, script_attrs[i].value);\n",
       "      }\n",
       "      // store reference to server id on output_area\n",
       "      output_area._bokeh_server_id = output.metadata[EXEC_MIME_TYPE][\"server_id\"];\n",
       "    }\n",
       "  }\n",
       "\n",
       "  function register_renderer(events, OutputArea) {\n",
       "\n",
       "    function append_mime(data, metadata, element) {\n",
       "      // create a DOM node to render to\n",
       "      var toinsert = this.create_output_subarea(\n",
       "        metadata,\n",
       "        CLASS_NAME,\n",
       "        EXEC_MIME_TYPE\n",
       "      );\n",
       "      this.keyboard_manager.register_events(toinsert);\n",
       "      // Render to node\n",
       "      var props = {data: data, metadata: metadata[EXEC_MIME_TYPE]};\n",
       "      render(props, toinsert[toinsert.length - 1]);\n",
       "      element.append(toinsert);\n",
       "      return toinsert\n",
       "    }\n",
       "\n",
       "    /* Handle when an output is cleared or removed */\n",
       "    events.on('clear_output.CodeCell', handleClearOutput);\n",
       "    events.on('delete.Cell', handleClearOutput);\n",
       "\n",
       "    /* Handle when a new output is added */\n",
       "    events.on('output_added.OutputArea', handleAddOutput);\n",
       "\n",
       "    /**\n",
       "     * Register the mime type and append_mime function with output_area\n",
       "     */\n",
       "    OutputArea.prototype.register_mime_type(EXEC_MIME_TYPE, append_mime, {\n",
       "      /* Is output safe? */\n",
       "      safe: true,\n",
       "      /* Index of renderer in `output_area.display_order` */\n",
       "      index: 0\n",
       "    });\n",
       "  }\n",
       "\n",
       "  // register the mime type if in Jupyter Notebook environment and previously unregistered\n",
       "  if (root.Jupyter !== undefined) {\n",
       "    var events = require('base/js/events');\n",
       "    var OutputArea = require('notebook/js/outputarea').OutputArea;\n",
       "\n",
       "    if (OutputArea.prototype.mime_types().indexOf(EXEC_MIME_TYPE) == -1) {\n",
       "      register_renderer(events, OutputArea);\n",
       "    }\n",
       "  }\n",
       "\n",
       "  \n",
       "  if (typeof (root._bokeh_timeout) === \"undefined\" || force === true) {\n",
       "    root._bokeh_timeout = Date.now() + 5000;\n",
       "    root._bokeh_failed_load = false;\n",
       "  }\n",
       "\n",
       "  var NB_LOAD_WARNING = {'data': {'text/html':\n",
       "     \"<div style='background-color: #fdd'>\\n\"+\n",
       "     \"<p>\\n\"+\n",
       "     \"BokehJS does not appear to have successfully loaded. If loading BokehJS from CDN, this \\n\"+\n",
       "     \"may be due to a slow or bad network connection. Possible fixes:\\n\"+\n",
       "     \"</p>\\n\"+\n",
       "     \"<ul>\\n\"+\n",
       "     \"<li>re-rerun `output_notebook()` to attempt to load from CDN again, or</li>\\n\"+\n",
       "     \"<li>use INLINE resources instead, as so:</li>\\n\"+\n",
       "     \"</ul>\\n\"+\n",
       "     \"<code>\\n\"+\n",
       "     \"from bokeh.resources import INLINE\\n\"+\n",
       "     \"output_notebook(resources=INLINE)\\n\"+\n",
       "     \"</code>\\n\"+\n",
       "     \"</div>\"}};\n",
       "\n",
       "  function display_loaded() {\n",
       "    var el = document.getElementById(\"1001\");\n",
       "    if (el != null) {\n",
       "      el.textContent = \"BokehJS is loading...\";\n",
       "    }\n",
       "    if (root.Bokeh !== undefined) {\n",
       "      if (el != null) {\n",
       "        el.textContent = \"BokehJS \" + root.Bokeh.version + \" successfully loaded.\";\n",
       "      }\n",
       "    } else if (Date.now() < root._bokeh_timeout) {\n",
       "      setTimeout(display_loaded, 100)\n",
       "    }\n",
       "  }\n",
       "\n",
       "\n",
       "  function run_callbacks() {\n",
       "    try {\n",
       "      root._bokeh_onload_callbacks.forEach(function(callback) {\n",
       "        if (callback != null)\n",
       "          callback();\n",
       "      });\n",
       "    } finally {\n",
       "      delete root._bokeh_onload_callbacks\n",
       "    }\n",
       "    console.debug(\"Bokeh: all callbacks have finished\");\n",
       "  }\n",
       "\n",
       "  function load_libs(css_urls, js_urls, callback) {\n",
       "    if (css_urls == null) css_urls = [];\n",
       "    if (js_urls == null) js_urls = [];\n",
       "\n",
       "    root._bokeh_onload_callbacks.push(callback);\n",
       "    if (root._bokeh_is_loading > 0) {\n",
       "      console.debug(\"Bokeh: BokehJS is being loaded, scheduling callback at\", now());\n",
       "      return null;\n",
       "    }\n",
       "    if (js_urls == null || js_urls.length === 0) {\n",
       "      run_callbacks();\n",
       "      return null;\n",
       "    }\n",
       "    console.debug(\"Bokeh: BokehJS not loaded, scheduling load and callback at\", now());\n",
       "    root._bokeh_is_loading = css_urls.length + js_urls.length;\n",
       "\n",
       "    function on_load() {\n",
       "      root._bokeh_is_loading--;\n",
       "      if (root._bokeh_is_loading === 0) {\n",
       "        console.debug(\"Bokeh: all BokehJS libraries/stylesheets loaded\");\n",
       "        run_callbacks()\n",
       "      }\n",
       "    }\n",
       "\n",
       "    function on_error() {\n",
       "      console.error(\"failed to load \" + url);\n",
       "    }\n",
       "\n",
       "    for (var i = 0; i < css_urls.length; i++) {\n",
       "      var url = css_urls[i];\n",
       "      const element = document.createElement(\"link\");\n",
       "      element.onload = on_load;\n",
       "      element.onerror = on_error;\n",
       "      element.rel = \"stylesheet\";\n",
       "      element.type = \"text/css\";\n",
       "      element.href = url;\n",
       "      console.debug(\"Bokeh: injecting link tag for BokehJS stylesheet: \", url);\n",
       "      document.body.appendChild(element);\n",
       "    }\n",
       "\n",
       "    for (var i = 0; i < js_urls.length; i++) {\n",
       "      var url = js_urls[i];\n",
       "      var element = document.createElement('script');\n",
       "      element.onload = on_load;\n",
       "      element.onerror = on_error;\n",
       "      element.async = false;\n",
       "      element.src = url;\n",
       "      console.debug(\"Bokeh: injecting script tag for BokehJS library: \", url);\n",
       "      document.head.appendChild(element);\n",
       "    }\n",
       "  };var element = document.getElementById(\"1001\");\n",
       "  if (element == null) {\n",
       "    console.error(\"Bokeh: ERROR: autoload.js configured with elementid '1001' but no matching script tag was found. \")\n",
       "    return false;\n",
       "  }\n",
       "\n",
       "  function inject_raw_css(css) {\n",
       "    const element = document.createElement(\"style\");\n",
       "    element.appendChild(document.createTextNode(css));\n",
       "    document.body.appendChild(element);\n",
       "  }\n",
       "\n",
       "  \n",
       "  var js_urls = [\"https://cdn.pydata.org/bokeh/release/bokeh-1.4.0.min.js\", \"https://cdn.pydata.org/bokeh/release/bokeh-widgets-1.4.0.min.js\", \"https://cdn.pydata.org/bokeh/release/bokeh-tables-1.4.0.min.js\", \"https://cdn.pydata.org/bokeh/release/bokeh-gl-1.4.0.min.js\"];\n",
       "  var css_urls = [];\n",
       "  \n",
       "\n",
       "  var inline_js = [\n",
       "    function(Bokeh) {\n",
       "      Bokeh.set_log_level(\"info\");\n",
       "    },\n",
       "    function(Bokeh) {\n",
       "    \n",
       "    \n",
       "    }\n",
       "  ];\n",
       "\n",
       "  function run_inline_js() {\n",
       "    \n",
       "    if (root.Bokeh !== undefined || force === true) {\n",
       "      \n",
       "    for (var i = 0; i < inline_js.length; i++) {\n",
       "      inline_js[i].call(root, root.Bokeh);\n",
       "    }\n",
       "    if (force === true) {\n",
       "        display_loaded();\n",
       "      }} else if (Date.now() < root._bokeh_timeout) {\n",
       "      setTimeout(run_inline_js, 100);\n",
       "    } else if (!root._bokeh_failed_load) {\n",
       "      console.log(\"Bokeh: BokehJS failed to load within specified timeout.\");\n",
       "      root._bokeh_failed_load = true;\n",
       "    } else if (force !== true) {\n",
       "      var cell = $(document.getElementById(\"1001\")).parents('.cell').data().cell;\n",
       "      cell.output_area.append_execute_result(NB_LOAD_WARNING)\n",
       "    }\n",
       "\n",
       "  }\n",
       "\n",
       "  if (root._bokeh_is_loading === 0) {\n",
       "    console.debug(\"Bokeh: BokehJS loaded, going straight to plotting\");\n",
       "    run_inline_js();\n",
       "  } else {\n",
       "    load_libs(css_urls, js_urls, function() {\n",
       "      console.debug(\"Bokeh: BokehJS plotting callback run at\", now());\n",
       "      run_inline_js();\n",
       "    });\n",
       "  }\n",
       "}(window));"
      ],
      "application/vnd.bokehjs_load.v0+json": "\n(function(root) {\n  function now() {\n    return new Date();\n  }\n\n  var force = true;\n\n  if (typeof root._bokeh_onload_callbacks === \"undefined\" || force === true) {\n    root._bokeh_onload_callbacks = [];\n    root._bokeh_is_loading = undefined;\n  }\n\n  \n\n  \n  if (typeof (root._bokeh_timeout) === \"undefined\" || force === true) {\n    root._bokeh_timeout = Date.now() + 5000;\n    root._bokeh_failed_load = false;\n  }\n\n  var NB_LOAD_WARNING = {'data': {'text/html':\n     \"<div style='background-color: #fdd'>\\n\"+\n     \"<p>\\n\"+\n     \"BokehJS does not appear to have successfully loaded. If loading BokehJS from CDN, this \\n\"+\n     \"may be due to a slow or bad network connection. Possible fixes:\\n\"+\n     \"</p>\\n\"+\n     \"<ul>\\n\"+\n     \"<li>re-rerun `output_notebook()` to attempt to load from CDN again, or</li>\\n\"+\n     \"<li>use INLINE resources instead, as so:</li>\\n\"+\n     \"</ul>\\n\"+\n     \"<code>\\n\"+\n     \"from bokeh.resources import INLINE\\n\"+\n     \"output_notebook(resources=INLINE)\\n\"+\n     \"</code>\\n\"+\n     \"</div>\"}};\n\n  function display_loaded() {\n    var el = document.getElementById(\"1001\");\n    if (el != null) {\n      el.textContent = \"BokehJS is loading...\";\n    }\n    if (root.Bokeh !== undefined) {\n      if (el != null) {\n        el.textContent = \"BokehJS \" + root.Bokeh.version + \" successfully loaded.\";\n      }\n    } else if (Date.now() < root._bokeh_timeout) {\n      setTimeout(display_loaded, 100)\n    }\n  }\n\n\n  function run_callbacks() {\n    try {\n      root._bokeh_onload_callbacks.forEach(function(callback) {\n        if (callback != null)\n          callback();\n      });\n    } finally {\n      delete root._bokeh_onload_callbacks\n    }\n    console.debug(\"Bokeh: all callbacks have finished\");\n  }\n\n  function load_libs(css_urls, js_urls, callback) {\n    if (css_urls == null) css_urls = [];\n    if (js_urls == null) js_urls = [];\n\n    root._bokeh_onload_callbacks.push(callback);\n    if (root._bokeh_is_loading > 0) {\n      console.debug(\"Bokeh: BokehJS is being loaded, scheduling callback at\", now());\n      return null;\n    }\n    if (js_urls == null || js_urls.length === 0) {\n      run_callbacks();\n      return null;\n    }\n    console.debug(\"Bokeh: BokehJS not loaded, scheduling load and callback at\", now());\n    root._bokeh_is_loading = css_urls.length + js_urls.length;\n\n    function on_load() {\n      root._bokeh_is_loading--;\n      if (root._bokeh_is_loading === 0) {\n        console.debug(\"Bokeh: all BokehJS libraries/stylesheets loaded\");\n        run_callbacks()\n      }\n    }\n\n    function on_error() {\n      console.error(\"failed to load \" + url);\n    }\n\n    for (var i = 0; i < css_urls.length; i++) {\n      var url = css_urls[i];\n      const element = document.createElement(\"link\");\n      element.onload = on_load;\n      element.onerror = on_error;\n      element.rel = \"stylesheet\";\n      element.type = \"text/css\";\n      element.href = url;\n      console.debug(\"Bokeh: injecting link tag for BokehJS stylesheet: \", url);\n      document.body.appendChild(element);\n    }\n\n    for (var i = 0; i < js_urls.length; i++) {\n      var url = js_urls[i];\n      var element = document.createElement('script');\n      element.onload = on_load;\n      element.onerror = on_error;\n      element.async = false;\n      element.src = url;\n      console.debug(\"Bokeh: injecting script tag for BokehJS library: \", url);\n      document.head.appendChild(element);\n    }\n  };var element = document.getElementById(\"1001\");\n  if (element == null) {\n    console.error(\"Bokeh: ERROR: autoload.js configured with elementid '1001' but no matching script tag was found. \")\n    return false;\n  }\n\n  function inject_raw_css(css) {\n    const element = document.createElement(\"style\");\n    element.appendChild(document.createTextNode(css));\n    document.body.appendChild(element);\n  }\n\n  \n  var js_urls = [\"https://cdn.pydata.org/bokeh/release/bokeh-1.4.0.min.js\", \"https://cdn.pydata.org/bokeh/release/bokeh-widgets-1.4.0.min.js\", \"https://cdn.pydata.org/bokeh/release/bokeh-tables-1.4.0.min.js\", \"https://cdn.pydata.org/bokeh/release/bokeh-gl-1.4.0.min.js\"];\n  var css_urls = [];\n  \n\n  var inline_js = [\n    function(Bokeh) {\n      Bokeh.set_log_level(\"info\");\n    },\n    function(Bokeh) {\n    \n    \n    }\n  ];\n\n  function run_inline_js() {\n    \n    if (root.Bokeh !== undefined || force === true) {\n      \n    for (var i = 0; i < inline_js.length; i++) {\n      inline_js[i].call(root, root.Bokeh);\n    }\n    if (force === true) {\n        display_loaded();\n      }} else if (Date.now() < root._bokeh_timeout) {\n      setTimeout(run_inline_js, 100);\n    } else if (!root._bokeh_failed_load) {\n      console.log(\"Bokeh: BokehJS failed to load within specified timeout.\");\n      root._bokeh_failed_load = true;\n    } else if (force !== true) {\n      var cell = $(document.getElementById(\"1001\")).parents('.cell').data().cell;\n      cell.output_area.append_execute_result(NB_LOAD_WARNING)\n    }\n\n  }\n\n  if (root._bokeh_is_loading === 0) {\n    console.debug(\"Bokeh: BokehJS loaded, going straight to plotting\");\n    run_inline_js();\n  } else {\n    load_libs(css_urls, js_urls, function() {\n      console.debug(\"Bokeh: BokehJS plotting callback run at\", now());\n      run_inline_js();\n    });\n  }\n}(window));"
     },
     "metadata": {},
     "output_type": "display_data"
    }
   ],
   "source": [
    "from bokeh.plotting import figure, show, output_file, save\n",
    "from bokeh.io import output_notebook\n",
    "# select a palette\n",
    "from bokeh.palettes import d3\n",
    "output_notebook()"
   ]
  },
  {
   "cell_type": "code",
   "execution_count": 4,
   "metadata": {},
   "outputs": [],
   "source": [
    "# symmetrical mean absolute percentage error\n",
    "def smape(targets, predictions):\n",
    "    '''\n",
    "    predictions: a list with the predicted values\n",
    "    targets: a list with the actual values\n",
    "    '''\n",
    "    import numpy as np\n",
    "    # lists to NumPy arrays\n",
    "    targets, predictions = np.array(targets), np.array(predictions)\n",
    "    # verify predictions and targets have the same shape\n",
    "    if predictions.shape == targets.shape:\n",
    "            return(np.sum(2*np.abs(predictions - targets) /\n",
    "                          (np.abs(targets) + np.abs(predictions)))/predictions.shape[0])"
   ]
  },
  {
   "cell_type": "code",
   "execution_count": 5,
   "metadata": {},
   "outputs": [],
   "source": [
    "def _parse_dataset_function(example_proto, objective_shapes, parse_timestamp):\n",
    "    # parse the input tf.Example proto using the dictionary above\n",
    "    row = tf.io.parse_single_example(example_proto, read_features)\n",
    "    \n",
    "    # pass objective shape as a list of lists\n",
    "    source_target = tf.reshape(row['source_target'].values, objective_shapes['source_target'])\n",
    "\n",
    "    # the parsed dataset have now the shape {features}, {labels}\n",
    "    # so:\n",
    "    features_dict = {\n",
    "        'source': source_target[:-1] # from the first value to the one before last\n",
    "    }\n",
    "    \n",
    "    labels_dict = {\n",
    "        'target': source_target[1:] # from the second value to the last one\n",
    "    }\n",
    "    \n",
    "    # do not parse the timestamp for training!!! Strings are not supported in TPUs!!!,\n",
    "    # (or parse it as a number, if required)\n",
    "    if parse_timestamp:\n",
    "        # AT THIS TIME, PASS ONLY THE FEATURE TIMESTAMP INSIDE THE FEATURES DICT\n",
    "        # AND CODE THE EQUIVALENT FUNCTIONALITY TO PASS THE TARGET TIMESTAMP INSIDE THE TARGETS DICT\n",
    "        \n",
    "        timestamp = tf.reshape(row['timestamp'].values, objective_shapes['timestamp'])\n",
    "        features_dict['timestamp'] = timestamp[:-1] # from the first value to the one before last\n",
    "        labels_dict['timestamp'] = timestamp[1:] # from the second value to the last one\n",
    "        \n",
    "    # ToDo: pass the target and the target timestamp as keys of a targets_dict, as in the features dict\n",
    "    # target = source_target[1:] # from the second value to the last one    \n",
    "\n",
    "    # _parse_dataset_function returns:\n",
    "    # features as a dictionary\n",
    "    # labels as a dictionary\n",
    "    return features_dict, labels_dict"
   ]
  },
  {
   "cell_type": "code",
   "execution_count": 6,
   "metadata": {},
   "outputs": [],
   "source": [
    "# a function to encode float values for serialized examples\n",
    "def _float_feature_from_list_of_values(list_of_values):\n",
    "    \"\"\"Returns a float_list from a list of floats / doubles.\"\"\"\n",
    "    return tf.train.Feature(float_list=tf.train.FloatList(value=list_of_values))"
   ]
  },
  {
   "cell_type": "code",
   "execution_count": 7,
   "metadata": {},
   "outputs": [],
   "source": [
    "def tensor_to_tensor_example(float_tensor):\n",
    "    # first, pass the float tensor to NumPy array, then flatten it\n",
    "    flat_array = float_tensor.numpy().flatten()\n",
    "    # second, build the protobuffer example\n",
    "    example = tf.train.Example(\n",
    "        # features within the example\n",
    "        features=tf.train.Features(\n",
    "            # individual feature definition\n",
    "            feature={'source': _float_feature_from_list_of_values(flat_array)}\n",
    "        )\n",
    "    )    \n",
    "    # third, serialize the example dictionary to a string\n",
    "    serialized_example = example.SerializeToString()\n",
    "    # fourth, wrap the serialized example as a NumPy-string array\n",
    "    numpy_example = np.array(serialized_example, dtype='S')\n",
    "    # fifth, wrap the NumPy-string array as a string tensor\n",
    "    tensor_example = tf.convert_to_tensor(numpy_example)\n",
    "\n",
    "    return tensor_example"
   ]
  },
  {
   "cell_type": "code",
   "execution_count": 8,
   "metadata": {},
   "outputs": [],
   "source": [
    "read_features = {\n",
    "    'source_target': tf.io.VarLenFeature(dtype=tf.float32),\n",
    "    'timestamp': tf.io.VarLenFeature(dtype=tf.string)\n",
    "}"
   ]
  },
  {
   "cell_type": "code",
   "execution_count": 9,
   "metadata": {},
   "outputs": [],
   "source": [
    "PROJECT_ROOT = '/home/developer/gcp/cbidmltsf'\n",
    "\n",
    "# during batch prediction, the SLDB identifier is obtained via Abseil Flags\n",
    "sldb_id = 'CPE04115_H_kw_20210526212214_ARTRFDC_168'"
   ]
  },
  {
   "cell_type": "code",
   "execution_count": 10,
   "metadata": {},
   "outputs": [],
   "source": [
    "# build a path to the SLDB json file\n",
    "data_dir = '{}/{}/{}'.format(PROJECT_ROOT, 'sldbs', sldb_id)\n",
    "\n",
    "# then get the ts_identifier from the json file in the sldb directory\n",
    "sldb_json_file = '{}/sldb.json'.format(data_dir)"
   ]
  },
  {
   "cell_type": "code",
   "execution_count": 11,
   "metadata": {},
   "outputs": [],
   "source": [
    "# open the json file\n",
    "with open(sldb_json_file, 'r') as inputfile:\n",
    "    sldb_dict = json.load(inputfile)"
   ]
  },
  {
   "cell_type": "code",
   "execution_count": 12,
   "metadata": {},
   "outputs": [],
   "source": [
    "# and get the time series identifier\n",
    "ts_identifier = sldb_dict['ts']"
   ]
  },
  {
   "cell_type": "code",
   "execution_count": 13,
   "metadata": {},
   "outputs": [
    {
     "name": "stdout",
     "output_type": "stream",
     "text": [
      "Scaler on test dataset loaded for time series CPE04115_H_kw_20210526212214\n"
     ]
    }
   ],
   "source": [
    "# use the time series identifier to obtain the SK-Learn scaler used on it\n",
    "# get the scaler used to normalize the test dataset (unseen)\n",
    "scaler_test = joblib.load('{}/{}/{}/scaler_test.save'.format(PROJECT_ROOT,\n",
    "                                                             'timeseries',\n",
    "                                                             ts_identifier))\n",
    "\n",
    "print('Scaler on test dataset loaded for time series {}'.format(ts_identifier))"
   ]
  },
  {
   "cell_type": "code",
   "execution_count": 14,
   "metadata": {},
   "outputs": [],
   "source": [
    "# pass all the code to a single notebook cell, then to a function, later..."
   ]
  },
  {
   "cell_type": "code",
   "execution_count": 15,
   "metadata": {},
   "outputs": [],
   "source": [
    "# during batch prediction, the model identifier is obtained via Abseil Flags\n",
    "model_id = 'ARTRFDC_TPU_000'"
   ]
  },
  {
   "cell_type": "code",
   "execution_count": 16,
   "metadata": {},
   "outputs": [],
   "source": [
    "# during batch prediction, the dataset name is obtained via Abseil Flags\n",
    "dataset = 'test'"
   ]
  },
  {
   "cell_type": "code",
   "execution_count": 17,
   "metadata": {},
   "outputs": [],
   "source": [
    "# during batch prediction, the execution identifier is obtained via Abseil Flags\n",
    "execution = 9"
   ]
  },
  {
   "cell_type": "code",
   "execution_count": 18,
   "metadata": {},
   "outputs": [],
   "source": [
    "# use model identifier and execution number to build the model directory string\n",
    "model_dir = '{}_{:02d}'.format(model_id, execution)"
   ]
  },
  {
   "cell_type": "code",
   "execution_count": 19,
   "metadata": {},
   "outputs": [],
   "source": [
    "# get the path to the saved model main directory\n",
    "saved_model_path = '{}/{}/{}/export/exporter'.format(PROJECT_ROOT,\n",
    "                                                     'models',\n",
    "                                                     model_dir)"
   ]
  },
  {
   "cell_type": "code",
   "execution_count": 20,
   "metadata": {},
   "outputs": [],
   "source": [
    "# get all the files in the saved model path, to find the most recent one\n",
    "all_files = os.listdir(saved_model_path)\n",
    "# get the path to the most recent saved model\n",
    "latest_saved_model_id = sorted(all_files)[-1]"
   ]
  },
  {
   "cell_type": "code",
   "execution_count": 21,
   "metadata": {},
   "outputs": [
    {
     "name": "stdout",
     "output_type": "stream",
     "text": [
      "Exported model path is /home/developer/gcp/cbidmltsf/models/ARTRFDC_TPU_000_09/export/exporter/1622212478\n"
     ]
    }
   ],
   "source": [
    "# build the full path for the latest saved model dir\n",
    "export_dir = '{}/{}'.format(saved_model_path, latest_saved_model_id)\n",
    "print ('Exported model path is {}'.format(export_dir))"
   ]
  },
  {
   "cell_type": "code",
   "execution_count": 57,
   "metadata": {},
   "outputs": [
    {
     "name": "stdout",
     "output_type": "stream",
     "text": [
      "2021-05-31 17:21:29.353487: W tensorflow/stream_executor/platform/default/dso_loader.cc:60] Could not load dynamic library 'libcudart.so.11.0'; dlerror: libcudart.so.11.0: cannot open shared object file: No such file or directory\n",
      "2021-05-31 17:21:29.353519: I tensorflow/stream_executor/cuda/cudart_stub.cc:29] Ignore above cudart dlerror if you do not have a GPU set up on your machine.\n",
      "The given SavedModel SignatureDef contains the following input(s):\n",
      "  inputs['example_bytes'] tensor_info:\n",
      "      dtype: DT_STRING\n",
      "      shape: ()\n",
      "      name: Placeholder:0\n",
      "The given SavedModel SignatureDef contains the following output(s):\n",
      "  outputs['forecast'] tensor_info:\n",
      "      dtype: DT_FLOAT\n",
      "      shape: (0, 169, 1)\n",
      "      name: time_distributed/Reshape_1:0\n",
      "Method name is: tensorflow/serving/predict\n"
     ]
    }
   ],
   "source": [
    "# let's review the saved model, the expert way\n",
    "! saved_model_cli show --dir /home/developer/gcp/cbidmltsf/models/ARTRFDC_TPU_000_09/export/exporter/1622212478 \\\n",
    "--tag_set serve --signature_def serving_default"
   ]
  },
  {
   "cell_type": "code",
   "execution_count": 58,
   "metadata": {},
   "outputs": [
    {
     "name": "stdout",
     "output_type": "stream",
     "text": [
      "2021-05-31 17:24:42.828943: W tensorflow/stream_executor/platform/default/dso_loader.cc:60] Could not load dynamic library 'libcudart.so.11.0'; dlerror: libcudart.so.11.0: cannot open shared object file: No such file or directory\n",
      "2021-05-31 17:24:42.828974: I tensorflow/stream_executor/cuda/cudart_stub.cc:29] Ignore above cudart dlerror if you do not have a GPU set up on your machine.\n",
      "The given SavedModel SignatureDef contains the following input(s):\n",
      "  inputs['example_bytes'] tensor_info:\n",
      "      dtype: DT_STRING\n",
      "      shape: ()\n",
      "      name: Placeholder:0\n",
      "The given SavedModel SignatureDef contains the following output(s):\n",
      "  outputs['forecast'] tensor_info:\n",
      "      dtype: DT_FLOAT\n",
      "      shape: (1, 24, 1)\n",
      "      name: time_distributed_3/Reshape_1:0\n",
      "Method name is: tensorflow/serving/predict\n"
     ]
    }
   ],
   "source": [
    "# and compare the previous output with the one of a fully functional serving instance\n",
    "! saved_model_cli show --dir /home/developer/gcp/cbidmltsf/models/EDSLSTM_TPU_000_09/export/exporter/1615317687 \\\n",
    "--tag_set serve --signature_def serving_default"
   ]
  },
  {
   "cell_type": "code",
   "execution_count": null,
   "metadata": {},
   "outputs": [],
   "source": [
    "# which makes evident that the serving signature of the ARTRFDC model is wrong!\n",
    "# therefore break the previous compact format of source_target tensor and get back to source, target"
   ]
  },
  {
   "cell_type": "code",
   "execution_count": 22,
   "metadata": {},
   "outputs": [],
   "source": [
    "# load the saved model and the prediction function\n",
    "imported = load(export_dir=export_dir, tags='serve')\n",
    "predict_fn = imported.signatures[\"serving_default\"]"
   ]
  },
  {
   "cell_type": "code",
   "execution_count": 23,
   "metadata": {},
   "outputs": [
    {
     "data": {
      "text/plain": [
       "<ConcreteFunction pruned(example_bytes) at 0x7F0758125A10>"
      ]
     },
     "execution_count": 23,
     "metadata": {},
     "output_type": "execute_result"
    }
   ],
   "source": [
    "predict_fn"
   ]
  },
  {
   "cell_type": "code",
   "execution_count": null,
   "metadata": {},
   "outputs": [],
   "source": []
  },
  {
   "cell_type": "code",
   "execution_count": 24,
   "metadata": {},
   "outputs": [],
   "source": [
    "# build a path to the dataset for prediction\n",
    "dataset_path = '{}/{}.tfrecord'.format(data_dir, dataset)\n",
    "\n",
    "# load the dataset\n",
    "tfrecord_dataset = tf.data.TFRecordDataset(dataset_path)"
   ]
  },
  {
   "cell_type": "code",
   "execution_count": 25,
   "metadata": {},
   "outputs": [
    {
     "data": {
      "text/plain": [
       "'/home/developer/gcp/cbidmltsf/sldbs/CPE04115_H_kw_20210526212214_ARTRFDC_168/test.tfrecord'"
      ]
     },
     "execution_count": 25,
     "metadata": {},
     "output_type": "execute_result"
    }
   ],
   "source": [
    "dataset_path"
   ]
  },
  {
   "cell_type": "code",
   "execution_count": 26,
   "metadata": {},
   "outputs": [],
   "source": [
    "# a list to temporarily store the rows in the dataset\n",
    "tfrecord_list = list()"
   ]
  },
  {
   "cell_type": "code",
   "execution_count": 27,
   "metadata": {},
   "outputs": [],
   "source": [
    "for serial_example in tfrecord_dataset:\n",
    "    tfrecord_list.append(serial_example)"
   ]
  },
  {
   "cell_type": "code",
   "execution_count": 28,
   "metadata": {},
   "outputs": [
    {
     "data": {
      "text/plain": [
       "2040"
      ]
     },
     "execution_count": 28,
     "metadata": {},
     "output_type": "execute_result"
    }
   ],
   "source": [
    "len(tfrecord_list)"
   ]
  },
  {
   "cell_type": "code",
   "execution_count": 30,
   "metadata": {},
   "outputs": [
    {
     "data": {
      "text/plain": [
       "<tf.Tensor: shape=(), dtype=string, numpy=b\"\\n\\x88A\\n\\xee\\x1b\\n\\ttimestamp\\x12\\xe0\\x1b\\n\\xdd\\x1b\\n\\x132018-05-01 00:00:00\\n\\x132018-05-01 01:00:00\\n\\x132018-05-01 02:00:00\\n\\x132018-05-01 03:00:00\\n\\x132018-05-01 04:00:00\\n\\x132018-05-01 05:00:00\\n\\x132018-05-01 06:00:00\\n\\x132018-05-01 07:00:00\\n\\x132018-05-01 08:00:00\\n\\x132018-05-01 09:00:00\\n\\x132018-05-01 10:00:00\\n\\x132018-05-01 11:00:00\\n\\x132018-05-01 12:00:00\\n\\x132018-05-01 13:00:00\\n\\x132018-05-01 14:00:00\\n\\x132018-05-01 15:00:00\\n\\x132018-05-01 16:00:00\\n\\x132018-05-01 17:00:00\\n\\x132018-05-01 18:00:00\\n\\x132018-05-01 19:00:00\\n\\x132018-05-01 20:00:00\\n\\x132018-05-01 21:00:00\\n\\x132018-05-01 22:00:00\\n\\x132018-05-01 23:00:00\\n\\x132018-05-02 00:00:00\\n\\x132018-05-02 01:00:00\\n\\x132018-05-02 02:00:00\\n\\x132018-05-02 03:00:00\\n\\x132018-05-02 04:00:00\\n\\x132018-05-02 05:00:00\\n\\x132018-05-02 06:00:00\\n\\x132018-05-02 07:00:00\\n\\x132018-05-02 08:00:00\\n\\x132018-05-02 09:00:00\\n\\x132018-05-02 10:00:00\\n\\x132018-05-02 11:00:00\\n\\x132018-05-02 12:00:00\\n\\x132018-05-02 13:00:00\\n\\x132018-05-02 14:00:00\\n\\x132018-05-02 15:00:00\\n\\x132018-05-02 16:00:00\\n\\x132018-05-02 17:00:00\\n\\x132018-05-02 18:00:00\\n\\x132018-05-02 19:00:00\\n\\x132018-05-02 20:00:00\\n\\x132018-05-02 21:00:00\\n\\x132018-05-02 22:00:00\\n\\x132018-05-02 23:00:00\\n\\x132018-05-03 00:00:00\\n\\x132018-05-03 01:00:00\\n\\x132018-05-03 02:00:00\\n\\x132018-05-03 03:00:00\\n\\x132018-05-03 04:00:00\\n\\x132018-05-03 05:00:00\\n\\x132018-05-03 06:00:00\\n\\x132018-05-03 07:00:00\\n\\x132018-05-03 08:00:00\\n\\x132018-05-03 09:00:00\\n\\x132018-05-03 10:00:00\\n\\x132018-05-03 11:00:00\\n\\x132018-05-03 12:00:00\\n\\x132018-05-03 13:00:00\\n\\x132018-05-03 14:00:00\\n\\x132018-05-03 15:00:00\\n\\x132018-05-03 16:00:00\\n\\x132018-05-03 17:00:00\\n\\x132018-05-03 18:00:00\\n\\x132018-05-03 19:00:00\\n\\x132018-05-03 20:00:00\\n\\x132018-05-03 21:00:00\\n\\x132018-05-03 22:00:00\\n\\x132018-05-03 23:00:00\\n\\x132018-05-04 00:00:00\\n\\x132018-05-04 01:00:00\\n\\x132018-05-04 02:00:00\\n\\x132018-05-04 03:00:00\\n\\x132018-05-04 04:00:00\\n\\x132018-05-04 05:00:00\\n\\x132018-05-04 06:00:00\\n\\x132018-05-04 07:00:00\\n\\x132018-05-04 08:00:00\\n\\x132018-05-04 09:00:00\\n\\x132018-05-04 10:00:00\\n\\x132018-05-04 11:00:00\\n\\x132018-05-04 12:00:00\\n\\x132018-05-04 13:00:00\\n\\x132018-05-04 14:00:00\\n\\x132018-05-04 15:00:00\\n\\x132018-05-04 16:00:00\\n\\x132018-05-04 17:00:00\\n\\x132018-05-04 18:00:00\\n\\x132018-05-04 19:00:00\\n\\x132018-05-04 20:00:00\\n\\x132018-05-04 21:00:00\\n\\x132018-05-04 22:00:00\\n\\x132018-05-04 23:00:00\\n\\x132018-05-05 00:00:00\\n\\x132018-05-05 01:00:00\\n\\x132018-05-05 02:00:00\\n\\x132018-05-05 03:00:00\\n\\x132018-05-05 04:00:00\\n\\x132018-05-05 05:00:00\\n\\x132018-05-05 06:00:00\\n\\x132018-05-05 07:00:00\\n\\x132018-05-05 08:00:00\\n\\x132018-05-05 09:00:00\\n\\x132018-05-05 10:00:00\\n\\x132018-05-05 11:00:00\\n\\x132018-05-05 12:00:00\\n\\x132018-05-05 13:00:00\\n\\x132018-05-05 14:00:00\\n\\x132018-05-05 15:00:00\\n\\x132018-05-05 16:00:00\\n\\x132018-05-05 17:00:00\\n\\x132018-05-05 18:00:00\\n\\x132018-05-05 19:00:00\\n\\x132018-05-05 20:00:00\\n\\x132018-05-05 21:00:00\\n\\x132018-05-05 22:00:00\\n\\x132018-05-05 23:00:00\\n\\x132018-05-06 00:00:00\\n\\x132018-05-06 01:00:00\\n\\x132018-05-06 02:00:00\\n\\x132018-05-06 03:00:00\\n\\x132018-05-06 04:00:00\\n\\x132018-05-06 05:00:00\\n\\x132018-05-06 06:00:00\\n\\x132018-05-06 07:00:00\\n\\x132018-05-06 08:00:00\\n\\x132018-05-06 09:00:00\\n\\x132018-05-06 10:00:00\\n\\x132018-05-06 11:00:00\\n\\x132018-05-06 12:00:00\\n\\x132018-05-06 13:00:00\\n\\x132018-05-06 14:00:00\\n\\x132018-05-06 15:00:00\\n\\x132018-05-06 16:00:00\\n\\x132018-05-06 17:00:00\\n\\x132018-05-06 18:00:00\\n\\x132018-05-06 19:00:00\\n\\x132018-05-06 20:00:00\\n\\x132018-05-06 21:00:00\\n\\x132018-05-06 22:00:00\\n\\x132018-05-06 23:00:00\\n\\x132018-05-07 00:00:00\\n\\x132018-05-07 01:00:00\\n\\x132018-05-07 02:00:00\\n\\x132018-05-07 03:00:00\\n\\x132018-05-07 04:00:00\\n\\x132018-05-07 05:00:00\\n\\x132018-05-07 06:00:00\\n\\x132018-05-07 07:00:00\\n\\x132018-05-07 08:00:00\\n\\x132018-05-07 09:00:00\\n\\x132018-05-07 10:00:00\\n\\x132018-05-07 11:00:00\\n\\x132018-05-07 12:00:00\\n\\x132018-05-07 13:00:00\\n\\x132018-05-07 14:00:00\\n\\x132018-05-07 15:00:00\\n\\x132018-05-07 16:00:00\\n\\x132018-05-07 17:00:00\\n\\x132018-05-07 18:00:00\\n\\x132018-05-07 19:00:00\\n\\x132018-05-07 20:00:00\\n\\x132018-05-07 21:00:00\\n\\x132018-05-07 22:00:00\\n\\x132018-05-07 23:00:00\\n\\x132018-05-08 00:00:00\\n\\x94%\\n\\rsource_target\\x12\\x82%\\x12\\xff$\\n\\xfc$\\xa0\\x1c\\x8e>\\x00\\x00\\x00\\x00\\x00\\x00\\x80?\\xcd\\xe6T>\\xe2gz?\\x00\\x00\\x00?\\xd7\\xb3]\\xbf\\x1fQ2>\\xee\\x83\\x84>\\xeaFw?\\xcd\\xe6T>\\xe2gz?\\x00\\x00\\x00?\\xd7\\xb3]\\xbf\\xf6\\x0b\\xeb=\\x00\\x00\\x00?\\xd7\\xb3]?\\xcd\\xe6T>\\xe2gz?\\x00\\x00\\x00?\\xd7\\xb3]\\xbf^\\x08\\xcc=\\xf3\\x045?\\xf3\\x045?\\xcd\\xe6T>\\xe2gz?\\x00\\x00\\x00?\\xd7\\xb3]\\xbf\\x0e&\\xa5=\\xd7\\xb3]?\\x00\\x00\\x00?\\xcd\\xe6T>\\xe2gz?\\x00\\x00\\x00?\\xd7\\xb3]\\xbf\\x92\\xa1\\xa9=\\xeaFw?\\xee\\x83\\x84>\\xcd\\xe6T>\\xe2gz?\\x00\\x00\\x00?\\xd7\\xb3]\\xbf\\xd2#*>\\x00\\x00\\x80?21\\x8d$\\xcd\\xe6T>\\xe2gz?\\x00\\x00\\x00?\\xd7\\xb3]\\xbf\\x1b\\xb0=>\\xeaFw?\\xee\\x83\\x84\\xbe\\xcd\\xe6T>\\xe2gz?\\x00\\x00\\x00?\\xd7\\xb3]\\xbf[~>>\\xd7\\xb3]?\\x00\\x00\\x00\\xbf\\xcd\\xe6T>\\xe2gz?\\x00\\x00\\x00?\\xd7\\xb3]\\xbf;\\xb2\\x82>\\xf3\\x045?\\xf3\\x045\\xbf\\xcd\\xe6T>\\xe2gz?\\x00\\x00\\x00?\\xd7\\xb3]\\xbf\\xcb\\xcf\\xc8>\\x00\\x00\\x00?\\xd7\\xb3]\\xbf\\xcd\\xe6T>\\xe2gz?\\x00\\x00\\x00?\\xd7\\xb3]\\xbfF7\\xf6>\\xee\\x83\\x84>\\xeaFw\\xbf\\xcd\\xe6T>\\xe2gz?\\x00\\x00\\x00?\\xd7\\xb3]\\xbfJ\\xb0\\x13?21\\r%\\x00\\x00\\x80\\xbf\\xcd\\xe6T>\\xe2gz?\\x00\\x00\\x00?\\xd7\\xb3]\\xbfV\\xf0+?\\xee\\x83\\x84\\xbe\\xeaFw\\xbf\\xcd\\xe6T>\\xe2gz?\\x00\\x00\\x00?\\xd7\\xb3]\\xbf\\xaf\\xbe0?\\x00\\x00\\x00\\xbf\\xd7\\xb3]\\xbf\\xcd\\xe6T>\\xe2gz?\\x00\\x00\\x00?\\xd7\\xb3]\\xbf\\xfc\\x90\\x1c?\\xf3\\x045\\xbf\\xf3\\x045\\xbf\\xcd\\xe6T>\\xe2gz?\\x00\\x00\\x00?\\xd7\\xb3]\\xbf\\x9b<\\n?\\xd7\\xb3]\\xbf\\x00\\x00\\x00\\xbf\\xcd\\xe6T>\\xe2gz?\\x00\\x00\\x00?\\xd7\\xb3]\\xbf\\x9a.\\x04?\\xeaFw\\xbf\\xee\\x83\\x84\\xbe\\xcd\\xe6T>\\xe2gz?\\x00\\x00\\x00?\\xd7\\xb3]\\xbfdV\\xef>\\x00\\x00\\x80\\xbf\\xca\\xc9S\\xa5\\xcd\\xe6T>\\xe2gz?\\x00\\x00\\x00?\\xd7\\xb3]\\xbf\\xaei\\xfb>\\xeaFw\\xbf\\xee\\x83\\x84>\\xcd\\xe6T>\\xe2gz?\\x00\\x00\\x00?\\xd7\\xb3]\\xbfo\\xec\\x0b?\\xd7\\xb3]\\xbf\\x00\\x00\\x00?\\xcd\\xe6T>\\xe2gz?\\x00\\x00\\x00?\\xd7\\xb3]\\xbf\\x91\\xce\\x0e?\\xf3\\x045\\xbf\\xf3\\x045?\\xcd\\xe6T>\\xe2gz?\\x00\\x00\\x00?\\xd7\\xb3]\\xbf\\xee\\x11\\x03?\\x00\\x00\\x00\\xbf\\xd7\\xb3]?\\xcd\\xe6T>\\xe2gz?\\x00\\x00\\x00?\\xd7\\xb3]\\xbf[\\x8b\\xb2>\\xee\\x83\\x84\\xbe\\xeaFw?\\xcd\\xe6T>\\xe2gz?\\x00\\x00\\x00?\\xd7\\xb3]\\xbfe\\x1a]>\\x00\\x00\\x00\\x00\\x00\\x00\\x80?\\xc9?\\xd0>\\x1d\\xdei?\\x00\\x00\\x00?\\xd7\\xb3]\\xbf\\x01\\xa3\\x05>\\xee\\x83\\x84>\\xeaFw?\\xc9?\\xd0>\\x1d\\xdei?\\x00\\x00\\x00?\\xd7\\xb3]\\xbf\\x03\\xd6\\xbc=\\x00\\x00\\x00?\\xd7\\xb3]?\\xc9?\\xd0>\\x1d\\xdei?\\x00\\x00\\x00?\\xd7\\xb3]\\xbf\\x06[\\xb2=\\xf3\\x045?\\xf3\\x045?\\xc9?\\xd0>\\x1d\\xdei?\\x00\\x00\\x00?\\xd7\\xb3]\\xbf\\x0e\\xb1\\x8f=\\xd7\\xb3]?\\x00\\x00\\x00?\\xc9?\\xd0>\\x1d\\xdei?\\x00\\x00\\x00?\\xd7\\xb3]\\xbf\\xb61\\xa3=\\xeaFw?\\xee\\x83\\x84>\\xc9?\\xd0>\\x1d\\xdei?\\x00\\x00\\x00?\\xd7\\xb3]\\xbf(wD>\\x00\\x00\\x80?21\\x8d$\\xc9?\\xd0>\\x1d\\xdei?\\x00\\x00\\x00?\\xd7\\xb3]\\xbf\\x90i\\x90>\\xeaFw?\\xee\\x83\\x84\\xbe\\xc9?\\xd0>\\x1d\\xdei?\\x00\\x00\\x00?\\xd7\\xb3]\\xbf\\x9cl\\xa2>\\xd7\\xb3]?\\x00\\x00\\x00\\xbf\\xc9?\\xd0>\\x1d\\xdei?\\x00\\x00\\x00?\\xd7\\xb3]\\xbf\\xe5\\x98\\xc1>\\xf3\\x045?\\xf3\\x045\\xbf\\xc9?\\xd0>\\x1d\\xdei?\\x00\\x00\\x00?\\xd7\\xb3]\\xbf\\xad<\\xee>\\x00\\x00\\x00?\\xd7\\xb3]\\xbf\\xc9?\\xd0>\\x1d\\xdei?\\x00\\x00\\x00?\\xd7\\xb3]\\xbf\\x13,\\x0e?\\xee\\x83\\x84>\\xeaFw\\xbf\\xc9?\\xd0>\\x1d\\xdei?\\x00\\x00\\x00?\\xd7\\xb3]\\xbf^x$?21\\r%\\x00\\x00\\x80\\xbf\\xc9?\\xd0>\\x1d\\xdei?\\x00\\x00\\x00?\\xd7\\xb3]\\xbfEh5?\\xee\\x83\\x84\\xbe\\xeaFw\\xbf\\xc9?\\xd0>\\x1d\\xdei?\\x00\\x00\\x00?\\xd7\\xb3]\\xbf\\xea\\x932?\\x00\\x00\\x00\\xbf\\xd7\\xb3]\\xbf\\xc9?\\xd0>\\x1d\\xdei?\\x00\\x00\\x00?\\xd7\\xb3]\\xbf\\x04\\xd6+?\\xf3\\x045\\xbf\\xf3\\x045\\xbf\\xc9?\\xd0>\\x1d\\xdei?\\x00\\x00\\x00?\\xd7\\xb3]\\xbf0|.?\\xd7\\xb3]\\xbf\\x00\\x00\\x00\\xbf\\xc9?\\xd0>\\x1d\\xdei?\\x00\\x00\\x00?\\xd7\\xb3]\\xbf\\xe0\\x1e#?\\xeaFw\\xbf\\xee\\x83\\x84\\xbe\\xc9?\\xd0>\\x1d\\xdei?\\x00\\x00\\x00?\\xd7\\xb3]\\xbf\\xab\\xce\\x15?\\x00\\x00\\x80\\xbf\\xca\\xc9S\\xa5\\xc9?\\xd0>\\x1d\\xdei?\\x00\\x00\\x00?\\xd7\\xb3]\\xbfh\\xf4\\x18?\\xeaFw\\xbf\\xee\\x83\\x84>\\xc9?\\xd0>\\x1d\\xdei?\\x00\\x00\\x00?\\xd7\\xb3]\\xbf\\xea\\x932?\\xd7\\xb3]\\xbf\\x00\\x00\\x00?\\xc9?\\xd0>\\x1d\\xdei?\\x00\\x00\\x00?\\xd7\\xb3]\\xbf\\x89\\xc5/?\\xf3\\x045\\xbf\\xf3\\x045?\\xc9?\\xd0>\\x1d\\xdei?\\x00\\x00\\x00?\\xd7\\xb3]\\xbf\\x9di\\x10?\\x00\\x00\\x00\\xbf\\xd7\\xb3]?\\xc9?\\xd0>\\x1d\\xdei?\\x00\\x00\\x00?\\xd7\\xb3]\\xbfe[\\xe5>\\xee\\x83\\x84\\xbe\\xeaFw?\\xc9?\\xd0>\\x1d\\xdei?\\x00\\x00\\x00?\\xd7\\xb3]\\xbf\\xed\\xae\\x9b>\\x00\\x00\\x00\\x00\\x00\\x00\\x80?\\x18y\\x16?\\xbd\\x1bO?\\x00\\x00\\x00?\\xd7\\xb3]\\xbf\\xe2\\xc93>\\xee\\x83\\x84>\\xeaFw?\\x18y\\x16?\\xbd\\x1bO?\\x00\\x00\\x00?\\xd7\\xb3]\\xbff\\x98\\xe7=\\x00\\x00\\x00?\\xd7\\xb3]?\\x18y\\x16?\\xbd\\x1bO?\\x00\\x00\\x00?\\xd7\\xb3]\\xbf\\x13\\x0cI=\\xf3\\x045?\\xf3\\x045?\\x18y\\x16?\\xbd\\x1bO?\\x00\\x00\\x00?\\xd7\\xb3]\\xbfJ\\xc3\\xae=\\xd7\\xb3]?\\x00\\x00\\x00?\\x18y\\x16?\\xbd\\x1bO?\\x00\\x00\\x00?\\xd7\\xb3]\\xbfJ8\\xc4=\\xeaFw?\\xee\\x83\\x84>\\x18y\\x16?\\xbd\\x1bO?\\x00\\x00\\x00?\\xd7\\xb3]\\xbf\\xdb\\x16c>\\x00\\x00\\x80?21\\x8d$\\x18y\\x16?\\xbd\\x1bO?\\x00\\x00\\x00?\\xd7\\xb3]\\xbf\\xd5\\xb4\\x95>\\xeaFw?\\xee\\x83\\x84\\xbe\\x18y\\x16?\\xbd\\x1bO?\\x00\\x00\\x00?\\xd7\\xb3]\\xbf\\x05\\x10\\xa3>\\xd7\\xb3]?\\x00\\x00\\x00\\xbf\\x18y\\x16?\\xbd\\x1bO?\\x00\\x00\\x00?\\xd7\\xb3]\\xbf\\xc4\\xab\\xbf>\\xf3\\x045?\\xf3\\x045\\xbf\\x18y\\x16?\\xbd\\x1bO?\\x00\\x00\\x00?\\xd7\\xb3]\\xbf*F\\xf4>\\x00\\x00\\x00?\\xd7\\xb3]\\xbf\\x18y\\x16?\\xbd\\x1bO?\\x00\\x00\\x00?\\xd7\\xb3]\\xbf9\\xb1\\x12?\\xee\\x83\\x84>\\xeaFw\\xbf\\x18y\\x16?\\xbd\\x1bO?\\x00\\x00\\x00?\\xd7\\xb3]\\xbf\\xd1\\x8b&?21\\r%\\x00\\x00\\x80\\xbf\\x18y\\x16?\\xbd\\x1bO?\\x00\\x00\\x00?\\xd7\\xb3]\\xbf\\xe6B=?\\xee\\x83\\x84\\xbe\\xeaFw\\xbf\\x18y\\x16?\\xbd\\x1bO?\\x00\\x00\\x00?\\xd7\\xb3]\\xbfe\\xb60?\\x00\\x00\\x00\\xbf\\xd7\\xb3]\\xbf\\x18y\\x16?\\xbd\\x1bO?\\x00\\x00\\x00?\\xd7\\xb3]\\xbfA\\x106?\\xf3\\x045\\xbf\\xf3\\x045\\xbf\\x18y\\x16?\\xbd\\x1bO?\\x00\\x00\\x00?\\xd7\\xb3]\\xbf\\xf6\\x0b+?\\xd7\\xb3]\\xbf\\x00\\x00\\x00\\xbf\\x18y\\x16?\\xbd\\x1bO?\\x00\\x00\\x00?\\xd7\\xb3]\\xbf\\xaa\\xc0\\x19?\\xeaFw\\xbf\\xee\\x83\\x84\\xbe\\x18y\\x16?\\xbd\\x1bO?\\x00\\x00\\x00?\\xd7\\xb3]\\xbf\\xe7\\xb8\\x13?\\x00\\x00\\x80\\xbf\\xca\\xc9S\\xa5\\x18y\\x16?\\xbd\\x1bO?\\x00\\x00\\x00?\\xd7\\xb3]\\xbfU\\xcc\\x13?\\xeaFw\\xbf\\xee\\x83\\x84>\\x18y\\x16?\\xbd\\x1bO?\\x00\\x00\\x00?\\xd7\\xb3]\\xbf\\xbe\\x07)?\\xd7\\xb3]\\xbf\\x00\\x00\\x00?\\x18y\\x16?\\xbd\\x1bO?\\x00\\x00\\x00?\\xd7\\xb3]\\xbf\\xa2\\x11-?\\xf3\\x045\\xbf\\xf3\\x045?\\x18y\\x16?\\xbd\\x1bO?\\x00\\x00\\x00?\\xd7\\xb3]\\xbfdE\\x10?\\x00\\x00\\x00\\xbf\\xd7\\xb3]?\\x18y\\x16?\\xbd\\x1bO?\\x00\\x00\\x00?\\xd7\\xb3]\\xbf\\xb2r\\xdb>\\xee\\x83\\x84\\xbe\\xeaFw?\\x18y\\x16?\\xbd\\x1bO?\\x00\\x00\\x00?\\xd7\\xb3]\\xbfm\\xd9\\xa3>\\x00\\x00\\x00\\x00\\x00\\x00\\x80?\\xbd>>?%L+?\\x00\\x00\\x00?\\xd7\\xb3]\\xbfPGG>\\xee\\x83\\x84>\\xeaFw?\\xbd>>?%L+?\\x00\\x00\\x00?\\xd7\\xb3]\\xbf\\x08Q\\xfb=\\x00\\x00\\x00?\\xd7\\xb3]?\\xbd>>?%L+?\\x00\\x00\\x00?\\xd7\\xb3]\\xbf\\xa6B\\xb5=\\xf3\\x045?\\xf3\\x045?\\xbd>>?%L+?\\x00\\x00\\x00?\\xd7\\xb3]\\xbf\\x98K\\xbb=\\xd7\\xb3]?\\x00\\x00\\x00?\\xbd>>?%L+?\\x00\\x00\\x00?\\xd7\\xb3]\\xbfrT\\xc7=\\xeaFw?\\xee\\x83\\x84>\\xbd>>?%L+?\\x00\\x00\\x00?\\xd7\\xb3]\\xbf\\x07uP>\\x00\\x00\\x80?21\\x8d$\\xbd>>?%L+?\\x00\\x00\\x00?\\xd7\\xb3]\\xbf\\xf5\\x9d\\x8b>\\xeaFw?\\xee\\x83\\x84\\xbe\\xbd>>?%L+?\\x00\\x00\\x00?\\xd7\\xb3]\\xbfeq\\x9f>\\xd7\\xb3]?\\x00\\x00\\x00\\xbf\\xbd>>?%L+?\\x00\\x00\\x00?\\xd7\\xb3]\\xbf\\\\\\x8c\\xc4>\\xf3\\x045?\\xf3\\x045\\xbf\\xbd>>?%L+?\\x00\\x00\\x00?\\xd7\\xb3]\\xbf=Q\\xee>\\x00\\x00\\x00?\\xd7\\xb3]\\xbf\\xbd>>?%L+?\\x00\\x00\\x00?\\xd7\\xb3]\\xbfJ\\x11\\x10?\\xee\\x83\\x84>\\xeaFw\\xbf\\xbd>>?%L+?\\x00\\x00\\x00?\\xd7\\xb3]\\xbf+\\x17'?21\\r%\\x00\\x00\\x80\\xbf\\xbd>>?%L+?\\x00\\x00\\x00?\\xd7\\xb3]\\xbf\\xc2&9?\\xee\\x83\\x84\\xbe\\xeaFw\\xbf\\xbd>>?%L+?\\x00\\x00\\x00?\\xd7\\xb3]\\xbf\\xc0\\xe4@?\\x00\\x00\\x00\\xbf\\xd7\\xb3]\\xbf\\xbd>>?%L+?\\x00\\x00\\x00?\\xd7\\xb3]\\xbf\\xf6BC?\\xf3\\x045\\xbf\\xf3\\x045\\xbf\\xbd>>?%L+?\\x00\\x00\\x00?\\xd7\\xb3]\\xbfv\\xb9A?\\xd7\\xb3]\\xbf\\x00\\x00\\x00\\xbf\\xbd>>?%L+?\\x00\\x00\\x00?\\xd7\\xb3]\\xbf\\xbf\\x9b7?\\xeaFw\\xbf\\xee\\x83\\x84\\xbe\\xbd>>?%L+?\\x00\\x00\\x00?\\xd7\\xb3]\\xbfG\\xf8)?\\x00\\x00\\x80\\xbf\\xca\\xc9S\\xa5\\xbd>>?%L+?\\x00\\x00\\x00?\\xd7\\xb3]\\xbfG\\xf8)?\\xeaFw\\xbf\\xee\\x83\\x84>\\xbd>>?%L+?\\x00\\x00\\x00?\\xd7\\xb3]\\xbf\\x97\\x11:?\\xd7\\xb3]\\xbf\\x00\\x00\\x00?\\xbd>>?%L+?\\x00\\x00\\x00?\\xd7\\xb3]\\xbf1\\x1c0?\\xf3\\x045\\xbf\\xf3\\x045?\\xbd>>?%L+?\\x00\\x00\\x00?\\xd7\\xb3]\\xbfx\\xef\\x17?\\x00\\x00\\x00\\xbf\\xd7\\xb3]?\\xbd>>?%L+?\\x00\\x00\\x00?\\xd7\\xb3]\\xbf\\xf2]\\x02?\\xee\\x83\\x84\\xbe\\xeaFw?\\xbd>>?%L+?\\x00\\x00\\x00?\\xd7\\xb3]\\xbf\\x1d\\xa4\\xb9>\\x00\\x00\\x00\\x00\\x00\\x00\\x80?\\xd7\\xb3]?\\x00\\x00\\x00?\\x00\\x00\\x00?\\xd7\\xb3]\\xbf\\x95\\x84u>\\xee\\x83\\x84>\\xeaFw?\\xd7\\xb3]?\\x00\\x00\\x00?\\x00\\x00\\x00?\\xd7\\xb3]\\xbf\\x8d\\x0cF>\\x00\\x00\\x00?\\xd7\\xb3]?\\xd7\\xb3]?\\x00\\x00\\x00?\\x00\\x00\\x00?\\xd7\\xb3]\\xbf\\xa4\\xe8\\x1a>\\xf3\\x045?\\xf3\\x045?\\xd7\\xb3]?\\x00\\x00\\x00?\\x00\\x00\\x00?\\xd7\\xb3]\\xbf+\\xb5\\x00>\\xd7\\xb3]?\\x00\\x00\\x00?\\xd7\\xb3]?\\x00\\x00\\x00?\\x00\\x00\\x00?\\xd7\\xb3]\\xbf^g\\x05>\\xeaFw?\\xee\\x83\\x84>\\xd7\\xb3]?\\x00\\x00\\x00?\\x00\\x00\\x00?\\xd7\\xb3]\\xbf\\x16\\x1aH>\\x00\\x00\\x80?21\\x8d$\\xd7\\xb3]?\\x00\\x00\\x00?\\x00\\x00\\x00?\\xd7\\xb3]\\xbf3\\xabU>\\xeaFw?\\xee\\x83\\x84\\xbe\\xd7\\xb3]?\\x00\\x00\\x00?\\x00\\x00\\x00?\\xd7\\xb3]\\xbf+\\xde\\x81>\\xd7\\xb3]?\\x00\\x00\\x00\\xbf\\xd7\\xb3]?\\x00\\x00\\x00?\\x00\\x00\\x00?\\xd7\\xb3]\\xbf\\xdb.\\xb4>\\xf3\\x045?\\xf3\\x045\\xbf\\xd7\\xb3]?\\x00\\x00\\x00?\\x00\\x00\\x00?\\xd7\\xb3]\\xbf\\xe9\\x88\\xe6>\\x00\\x00\\x00?\\xd7\\xb3]\\xbf\\xd7\\xb3]?\\x00\\x00\\x00?\\x00\\x00\\x00?\\xd7\\xb3]\\xbf\\xa3z\\x05?\\xee\\x83\\x84>\\xeaFw\\xbf\\xd7\\xb3]?\\x00\\x00\\x00?\\x00\\x00\\x00?\\xd7\\xb3]\\xbf\\xf2n\\x1a?21\\r%\\x00\\x00\\x80\\xbf\\xd7\\xb3]?\\x00\\x00\\x00?\\x00\\x00\\x00?\\xd7\\xb3]\\xbf\\xef\\xc8!?\\xee\\x83\\x84\\xbe\\xeaFw\\xbf\\xd7\\xb3]?\\x00\\x00\\x00?\\x00\\x00\\x00?\\xd7\\xb3]\\xbf\\xb6\\x82 ?\\x00\\x00\\x00\\xbf\\xd7\\xb3]\\xbf\\xd7\\xb3]?\\x00\\x00\\x00?\\x00\\x00\\x00?\\xd7\\xb3]\\xbfb|,?\\xf3\\x045\\xbf\\xf3\\x045\\xbf\\xd7\\xb3]?\\x00\\x00\\x00?\\x00\\x00\\x00?\\xd7\\xb3]\\xbf\\xab\\x82&?\\xd7\\xb3]\\xbf\\x00\\x00\\x00\\xbf\\xd7\\xb3]?\\x00\\x00\\x00?\\x00\\x00\\x00?\\xd7\\xb3]\\xbf\\xda=\\x17?\\xeaFw\\xbf\\xee\\x83\\x84\\xbe\\xd7\\xb3]?\\x00\\x00\\x00?\\x00\\x00\\x00?\\xd7\\xb3]\\xbfG\\xb6\\x19?\\x00\\x00\\x80\\xbf\\xca\\xc9S\\xa5\\xd7\\xb3]?\\x00\\x00\\x00?\\x00\\x00\\x00?\\xd7\\xb3]\\xbf\\xaf\\xf6\\x17?\\xeaFw\\xbf\\xee\\x83\\x84>\\xd7\\xb3]?\\x00\\x00\\x00?\\x00\\x00\\x00?\\xd7\\xb3]\\xbf\\x108#?\\xd7\\xb3]\\xbf\\x00\\x00\\x00?\\xd7\\xb3]?\\x00\\x00\\x00?\\x00\\x00\\x00?\\xd7\\xb3]\\xbf\\xf2`!?\\xf3\\x045\\xbf\\xf3\\x045?\\xd7\\xb3]?\\x00\\x00\\x00?\\x00\\x00\\x00?\\xd7\\xb3]\\xbfgY\\x14?\\x00\\x00\\x00\\xbf\\xd7\\xb3]?\\xd7\\xb3]?\\x00\\x00\\x00?\\x00\\x00\\x00?\\xd7\\xb3]\\xbf\\xcc\\xfa\\xed>\\xee\\x83\\x84\\xbe\\xeaFw?\\xd7\\xb3]?\\x00\\x00\\x00?\\x00\\x00\\x00?\\xd7\\xb3]\\xbf\\xd2\\x80\\xb8>\\x00\\x00\\x00\\x00\\x00\\x00\\x80?qxs?z7\\x9e>\\x00\\x00\\x00?\\xd7\\xb3]\\xbf\\x1fNg>\\xee\\x83\\x84>\\xeaFw?qxs?z7\\x9e>\\x00\\x00\\x00?\\xd7\\xb3]\\xbf\\xfd\\xb0.>\\x00\\x00\\x00?\\xd7\\xb3]?qxs?z7\\x9e>\\x00\\x00\\x00?\\xd7\\xb3]\\xbf\\x9cV\\x03>\\xf3\\x045?\\xf3\\x045?qxs?z7\\x9e>\\x00\\x00\\x00?\\xd7\\xb3]\\xbf\\x12\\x16\\xf9=\\xd7\\xb3]?\\x00\\x00\\x00?qxs?z7\\x9e>\\x00\\x00\\x00?\\xd7\\xb3]\\xbf\\x151\\x07>\\xeaFw?\\xee\\x83\\x84>qxs?z7\\x9e>\\x00\\x00\\x00?\\xd7\\xb3]\\xbf\\x8e\\\\#>\\x00\\x00\\x80?21\\x8d$qxs?z7\\x9e>\\x00\\x00\\x00?\\xd7\\xb3]\\xbf]PT>\\xeaFw?\\xee\\x83\\x84\\xbeqxs?z7\\x9e>\\x00\\x00\\x00?\\xd7\\xb3]\\xbf\\x0b\\xe9_>\\xd7\\xb3]?\\x00\\x00\\x00\\xbfqxs?z7\\x9e>\\x00\\x00\\x00?\\xd7\\xb3]\\xbf\\x9b\\xfc\\x90>\\xf3\\x045?\\xf3\\x045\\xbfqxs?z7\\x9e>\\x00\\x00\\x00?\\xd7\\xb3]\\xbf\\xb8\\xc4\\x98>\\x00\\x00\\x00?\\xd7\\xb3]\\xbfqxs?z7\\x9e>\\x00\\x00\\x00?\\xd7\\xb3]\\xbf\\xe9\\x11\\xba>\\xee\\x83\\x84>\\xeaFw\\xbfqxs?z7\\x9e>\\x00\\x00\\x00?\\xd7\\xb3]\\xbf\\xc6'\\xdb>21\\r%\\x00\\x00\\x80\\xbfqxs?z7\\x9e>\\x00\\x00\\x00?\\xd7\\xb3]\\xbf\\x13\\xc3\\xe4>\\xee\\x83\\x84\\xbe\\xeaFw\\xbfqxs?z7\\x9e>\\x00\\x00\\x00?\\xd7\\xb3]\\xbf\\x10\\x9d\\xf9>\\x00\\x00\\x00\\xbf\\xd7\\xb3]\\xbfqxs?z7\\x9e>\\x00\\x00\\x00?\\xd7\\xb3]\\xbf3V\\x05?\\xf3\\x045\\xbf\\xf3\\x045\\xbfqxs?z7\\x9e>\\x00\\x00\\x00?\\xd7\\xb3]\\xbfB\\xfd\\t?\\xd7\\xb3]\\xbf\\x00\\x00\\x00\\xbfqxs?z7\\x9e>\\x00\\x00\\x00?\\xd7\\xb3]\\xbfy\\xb5\\x08?\\xeaFw\\xbf\\xee\\x83\\x84\\xbeqxs?z7\\x9e>\\x00\\x00\\x00?\\xd7\\xb3]\\xbf\\x00\\x9e\\x05?\\x00\\x00\\x80\\xbf\\xca\\xc9S\\xa5qxs?z7\\x9e>\\x00\\x00\\x00?\\xd7\\xb3]\\xbf\\xbc%\\x03?\\xeaFw\\xbf\\xee\\x83\\x84>qxs?z7\\x9e>\\x00\\x00\\x00?\\xd7\\xb3]\\xbf\\xa9i\\x1e?\\xd7\\xb3]\\xbf\\x00\\x00\\x00?qxs?z7\\x9e>\\x00\\x00\\x00?\\xd7\\xb3]\\xbf\\xa7A\\x1f?\\xf3\\x045\\xbf\\xf3\\x045?qxs?z7\\x9e>\\x00\\x00\\x00?\\xd7\\xb3]\\xbf\\xaay\\x0c?\\x00\\x00\\x00\\xbf\\xd7\\xb3]?qxs?z7\\x9e>\\x00\\x00\\x00?\\xd7\\xb3]\\xbf\\xcd\\x01\\xcc>\\xee\\x83\\x84\\xbe\\xeaFw?qxs?z7\\x9e>\\x00\\x00\\x00?\\xd7\\xb3]\\xbf4\\xd3\\x80>\\x00\\x00\\x00\\x00\\x00\\x00\\x80?\\xfd\\x98~?\\x05\\x13\\xd6=\\x00\\x00\\x00?\\xd7\\xb3]\\xbf\\x13\\x00\\x1d>\\xee\\x83\\x84>\\xeaFw?\\xfd\\x98~?\\x05\\x13\\xd6=\\x00\\x00\\x00?\\xd7\\xb3]\\xbfG\\xf0\\xf2=\\x00\\x00\\x00?\\xd7\\xb3]?\\xfd\\x98~?\\x05\\x13\\xd6=\\x00\\x00\\x00?\\xd7\\xb3]\\xbf\\x99\\x89\\xbb=\\xf3\\x045?\\xf3\\x045?\\xfd\\x98~?\\x05\\x13\\xd6=\\x00\\x00\\x00?\\xd7\\xb3]\\xbf\\x8e\\xcf\\xbc=\\xd7\\xb3]?\\x00\\x00\\x00?\\xfd\\x98~?\\x05\\x13\\xd6=\\x00\\x00\\x00?\\xd7\\xb3]\\xbf\\xaa\\x14\\xa2=\\xeaFw?\\xee\\x83\\x84>\\xfd\\x98~?\\x05\\x13\\xd6=\\x00\\x00\\x00?\\xd7\\xb3]\\xbf/\\n+>\\x00\\x00\\x80?21\\x8d$\\xfd\\x98~?\\x05\\x13\\xd6=\\x00\\x00\\x00?\\xd7\\xb3]\\xbfEe{>\\xeaFw?\\xee\\x83\\x84\\xbe\\xfd\\x98~?\\x05\\x13\\xd6=\\x00\\x00\\x00?\\xd7\\xb3]\\xbfu\\x11\\x93>\\xd7\\xb3]?\\x00\\x00\\x00\\xbf\\xfd\\x98~?\\x05\\x13\\xd6=\\x00\\x00\\x00?\\xd7\\xb3]\\xbfE\\xf4\\xae>\\xf3\\x045?\\xf3\\x045\\xbf\\xfd\\x98~?\\x05\\x13\\xd6=\\x00\\x00\\x00?\\xd7\\xb3]\\xbf\\xd2\\x02\\xdd>\\x00\\x00\\x00?\\xd7\\xb3]\\xbf\\xfd\\x98~?\\x05\\x13\\xd6=\\x00\\x00\\x00?\\xd7\\xb3]\\xbf)\\xc3\\x07?\\xee\\x83\\x84>\\xeaFw\\xbf\\xfd\\x98~?\\x05\\x13\\xd6=\\x00\\x00\\x00?\\xd7\\xb3]\\xbf\\x13i\\x17?21\\r%\\x00\\x00\\x80\\xbf\\xfd\\x98~?\\x05\\x13\\xd6=\\x00\\x00\\x00?\\xd7\\xb3]\\xbf\\x92b\\x1d?\\xee\\x83\\x84\\xbe\\xeaFw\\xbf\\xfd\\x98~?\\x05\\x13\\xd6=\\x00\\x00\\x00?\\xd7\\xb3]\\xbf\\x86\\x83#?\\x00\\x00\\x00\\xbf\\xd7\\xb3]\\xbf\\xfd\\x98~?\\x05\\x13\\xd6=\\x00\\x00\\x00?\\xd7\\xb3]\\xbf2y&?\\xf3\\x045\\xbf\\xf3\\x045\\xbf\\xfd\\x98~?\\x05\\x13\\xd6=\\x00\\x00\\x00?\\xd7\\xb3]\\xbf\\x92\\xbb,?\\xd7\\xb3]\\xbf\\x00\\x00\\x00\\xbf\\xfd\\x98~?\\x05\\x13\\xd6=\\x00\\x00\\x00?\\xd7\\xb3]\\xbf\\xc4\\x80\\x1d?\\xeaFw\\xbf\\xee\\x83\\x84\\xbe\\xfd\\x98~?\\x05\\x13\\xd6=\\x00\\x00\\x00?\\xd7\\xb3]\\xbf\\x1d\\xf4\\x0c?\\x00\\x00\\x80\\xbf\\xca\\xc9S\\xa5\\xfd\\x98~?\\x05\\x13\\xd6=\\x00\\x00\\x00?\\xd7\\xb3]\\xbfq\\xbe\\x10?\\xeaFw\\xbf\\xee\\x83\\x84>\\xfd\\x98~?\\x05\\x13\\xd6=\\x00\\x00\\x00?\\xd7\\xb3]\\xbf\\xf2\\x81\\x1a?\\xd7\\xb3]\\xbf\\x00\\x00\\x00?\\xfd\\x98~?\\x05\\x13\\xd6=\\x00\\x00\\x00?\\xd7\\xb3]\\xbf4\\xcf\\x1c?\\xf3\\x045\\xbf\\xf3\\x045?\\xfd\\x98~?\\x05\\x13\\xd6=\\x00\\x00\\x00?\\xd7\\xb3]\\xbf\\x06\\x0c\\x02?\\x00\\x00\\x00\\xbf\\xd7\\xb3]?\\xfd\\x98~?\\x05\\x13\\xd6=\\x00\\x00\\x00?\\xd7\\xb3]\\xbf \\x01\\xc7>\\xee\\x83\\x84\\xbe\\xeaFw?\\xfd\\x98~?\\x05\\x13\\xd6=\\x00\\x00\\x00?\\xd7\\xb3]\\xbf]t\\x87>\\x00\\x00\\x00\\x00\\x00\\x00\\x80?\\xfd\\x98~?\\x05\\x13\\xd6\\xbd\\x00\\x00\\x00?\\xd7\\xb3]\\xbf\">"
      ]
     },
     "execution_count": 30,
     "metadata": {},
     "output_type": "execute_result"
    }
   ],
   "source": [
    "tfrecord_list[0]"
   ]
  },
  {
   "cell_type": "code",
   "execution_count": 31,
   "metadata": {},
   "outputs": [],
   "source": [
    "# get the SLDB parameters for the forecasting model\n",
    "config_json_file = '{}/{}/{}.json'.format(PROJECT_ROOT,\n",
    "                                          'parameters',\n",
    "                                          model_id)"
   ]
  },
  {
   "cell_type": "code",
   "execution_count": 32,
   "metadata": {},
   "outputs": [],
   "source": [
    "# recover the sldb dictionary from the json file in parameters/\n",
    "with open(config_json_file, 'r') as inputfile:\n",
    "    configuration = json.load(inputfile)"
   ]
  },
  {
   "cell_type": "code",
   "execution_count": 33,
   "metadata": {},
   "outputs": [
    {
     "data": {
      "text/plain": [
       "{'source_target': [169, 7], 'timestamp': [169, 1]}"
      ]
     },
     "execution_count": 33,
     "metadata": {},
     "output_type": "execute_result"
    }
   ],
   "source": [
    "# store the objective shapes for reshaping tensors in a dictionary\n",
    "_EXTRACTING_OBJECTIVE_SHAPES = {\n",
    "    'source_target': [configuration['num_timesteps'] + 1, configuration['model_dimension']],\n",
    "    'timestamp': [configuration['num_timesteps'] + 1, 1]\n",
    "}\n",
    "\n",
    "_EXTRACTING_OBJECTIVE_SHAPES"
   ]
  },
  {
   "cell_type": "code",
   "execution_count": 28,
   "metadata": {},
   "outputs": [],
   "source": [
    "# from now on, inferences for ARTRFDC are produced in a very different way\n",
    "# from the used for DMSLSTM or EDALSTM models (prediction process has to be iterative)"
   ]
  },
  {
   "cell_type": "code",
   "execution_count": 29,
   "metadata": {},
   "outputs": [],
   "source": [
    "# each predicted row is a sequence of n_timesteps values,\n",
    "# but only the first element in this sequence is used, as the first prediction,\n",
    "# then it is added (along with its positional encodings) to the end of the input sequence\n",
    "# (first entry of the input sequence is discarded to keep tensor shape)\n",
    "# to get the second prediction, and so on up to the n_timesteps-th prediction,\n",
    "# which completes the n_timesteps prediction sequence (the forecast window)\n",
    "# that starts immediately after the source input sequence ends (in time dimension)"
   ]
  },
  {
   "cell_type": "code",
   "execution_count": 30,
   "metadata": {},
   "outputs": [],
   "source": [
    "# the iterative process for inference over the ARTRFDC saved model can be initiated now:\n",
    "# source feature (?, 168, 7) (unseen data) is on parsed_dataset[0]['source']\n",
    "# target feature (?, 168, 7) (unseen data) is on parsed_dataset[1]\n",
    "\n",
    "# uncomment and run the following two cells to confirm that"
   ]
  },
  {
   "cell_type": "code",
   "execution_count": 31,
   "metadata": {},
   "outputs": [],
   "source": [
    "# it is not possible to iterate over a segment of a dataset, as required by iterative inference\n",
    "# then the complete test dataset will be passed to two NumPy arrays:\n",
    "\n",
    "# source_array, with shape (n_rows, n_timesteps, n_features), in this example (2095, 168, 7), and\n",
    "# target_array, with shape (n_rows, n_timesteps, n_features), in this example (2095, 168, 7)\n",
    "\n",
    "# remember source_array[1:, :, :] = target_array[:-2, :, :]"
   ]
  },
  {
   "cell_type": "code",
   "execution_count": 49,
   "metadata": {},
   "outputs": [],
   "source": [
    "# build temporary lists to store source (features) and target (labels) tensors\n",
    "source_list = list()\n",
    "source_timestamp_list = list()\n",
    "\n",
    "target_list = list()\n",
    "target_timestamp_list = list()\n",
    "\n",
    "# fill in the lists from the parsed dataset\n",
    "for element in parsed_dataset:\n",
    "    source_list.append(element[0]['source'])\n",
    "    # convert timestamps from bytes to strings to flat array to datetime\n",
    "    source_timestamp_list.append(pd.to_datetime(element[0]['timestamp'].numpy().astype(str).squeeze()))\n",
    "    \n",
    "    target_list.append(element[1]['target'])\n",
    "    # convert timestamps from bytes to strings to flat array to datetime\n",
    "    target_timestamp_list.append(pd.to_datetime(element[1]['timestamp'].numpy().astype(str).squeeze()))\n",
    "\n",
    "# from the temporary lists, build NumPy arrays to feed the model\n",
    "source_array = np.array(source_list)\n",
    "source_timestamp_array = np.array(source_timestamp_list)\n",
    "\n",
    "target_array = np.array(target_list)\n",
    "target_timestamp_array = np.array(target_timestamp_list)"
   ]
  },
  {
   "cell_type": "code",
   "execution_count": 50,
   "metadata": {},
   "outputs": [
    {
     "data": {
      "text/plain": [
       "((2040, 168, 7), (2040, 168), (2040, 168, 7), (2040, 168))"
      ]
     },
     "execution_count": 50,
     "metadata": {},
     "output_type": "execute_result"
    }
   ],
   "source": [
    "# verify shape of resulting arrays\n",
    "source_array.shape, source_timestamp_array.shape, target_array.shape, target_timestamp_array.shape"
   ]
  },
  {
   "cell_type": "code",
   "execution_count": 34,
   "metadata": {},
   "outputs": [],
   "source": [
    "# now follow the inference process detailed in Klingenbrunn to:\n",
    "# predict over the forecast window,\n",
    "# calculate prediction error metrics, and\n",
    "# plot prediction results"
   ]
  },
  {
   "cell_type": "code",
   "execution_count": 35,
   "metadata": {},
   "outputs": [],
   "source": [
    "# define a forecast window to guide the iterative prediction process\n",
    "# start with a hourly, day-ahead process\n",
    "forecast_window = 24"
   ]
  },
  {
   "cell_type": "code",
   "execution_count": 36,
   "metadata": {},
   "outputs": [
    {
     "name": "stdout",
     "output_type": "stream",
     "text": [
      "Given the current dataset and the number of timesteps in the input sequence,\n",
      "predictions can be made between row 0 and row 1871 of the source array.\n"
     ]
    }
   ],
   "source": [
    "# in the source array, the index of the last row that can be used\n",
    "# to build a forecast-window sized set of predictions\n",
    "max_row_index = len(source_list) - configuration['num_timesteps'] - 1\n",
    "\n",
    "print('Given the current dataset and the number of timesteps in the input sequence,')\n",
    "print('predictions can be made between row 0 and row {} of the source array.'.format(max_row_index))"
   ]
  },
  {
   "cell_type": "code",
   "execution_count": 37,
   "metadata": {},
   "outputs": [],
   "source": [
    "# the first source or input to the model is the first source row\n",
    "# that means, the true variable value, plus the six positional encodings for the timestamp\n",
    "# in the first row of the test dataset"
   ]
  },
  {
   "cell_type": "code",
   "execution_count": 38,
   "metadata": {},
   "outputs": [],
   "source": [
    "# uncomment the following line to get the source as a tensor with TensorShape([1, 168, 7])\n",
    "# source_tensor = tf.expand_dims(source_array[0, :, :], axis=0)"
   ]
  },
  {
   "cell_type": "code",
   "execution_count": 39,
   "metadata": {},
   "outputs": [],
   "source": [
    "# important, the inference cycle was coded for tensors, not for NumPy arrays\n",
    "# then use source and prediction tensors and translate to tensor examples from float tensors"
   ]
  },
  {
   "cell_type": "code",
   "execution_count": 40,
   "metadata": {},
   "outputs": [
    {
     "ename": "InvalidArgumentError",
     "evalue": " Input to reshape is a tensor with 0 values, but the requested shape has 1183\n\t [[node Reshape (defined at <ipython-input-22-fad56071c367>:2) ]] [Op:__inference_pruned_1423]\n\nFunction call stack:\npruned\n",
     "output_type": "error",
     "traceback": [
      "\u001b[0;31m---------------------------------------------------------------------------\u001b[0m",
      "\u001b[0;31mInvalidArgumentError\u001b[0m                      Traceback (most recent call last)",
      "\u001b[0;32m<ipython-input-40-f17861e0826b>\u001b[0m in \u001b[0;36m<module>\u001b[0;34m\u001b[0m\n\u001b[1;32m     31\u001b[0m         \u001b[0;31m# from the current next_input_model tensor (1, 168, 7)\u001b[0m\u001b[0;34m\u001b[0m\u001b[0;34m\u001b[0m\u001b[0;34m\u001b[0m\u001b[0m\n\u001b[1;32m     32\u001b[0m         \u001b[0;31m# get a prediction as NumPy array (1, 168, 1)\u001b[0m\u001b[0;34m\u001b[0m\u001b[0;34m\u001b[0m\u001b[0;34m\u001b[0m\u001b[0m\n\u001b[0;32m---> 33\u001b[0;31m         \u001b[0mprediction\u001b[0m \u001b[0;34m=\u001b[0m \u001b[0mpredict_fn\u001b[0m\u001b[0;34m(\u001b[0m\u001b[0mtensor_to_tensor_example\u001b[0m\u001b[0;34m(\u001b[0m\u001b[0mnext_input_model\u001b[0m\u001b[0;34m)\u001b[0m\u001b[0;34m)\u001b[0m\u001b[0;34m[\u001b[0m\u001b[0;34m'forecast'\u001b[0m\u001b[0;34m]\u001b[0m\u001b[0;34m.\u001b[0m\u001b[0mnumpy\u001b[0m\u001b[0;34m(\u001b[0m\u001b[0;34m)\u001b[0m\u001b[0;34m\u001b[0m\u001b[0;34m\u001b[0m\u001b[0m\n\u001b[0m\u001b[1;32m     34\u001b[0m \u001b[0;34m\u001b[0m\u001b[0m\n\u001b[1;32m     35\u001b[0m         \u001b[0;31m# get the value of the most recent prediction (last timestep) into the predictions list\u001b[0m\u001b[0;34m\u001b[0m\u001b[0;34m\u001b[0m\u001b[0;34m\u001b[0m\u001b[0m\n",
      "\u001b[0;32m~/anaconda3/lib/python3.7/site-packages/tensorflow/python/eager/function.py\u001b[0m in \u001b[0;36m__call__\u001b[0;34m(self, *args, **kwargs)\u001b[0m\n\u001b[1;32m   1667\u001b[0m       \u001b[0mTypeError\u001b[0m\u001b[0;34m:\u001b[0m \u001b[0mIf\u001b[0m \u001b[0mthe\u001b[0m \u001b[0marguments\u001b[0m \u001b[0mdo\u001b[0m \u001b[0;32mnot\u001b[0m \u001b[0mmatch\u001b[0m \u001b[0mthe\u001b[0m \u001b[0mfunction\u001b[0m\u001b[0;31m'\u001b[0m\u001b[0ms\u001b[0m \u001b[0msignature\u001b[0m\u001b[0;34m.\u001b[0m\u001b[0;34m\u001b[0m\u001b[0;34m\u001b[0m\u001b[0m\n\u001b[1;32m   1668\u001b[0m     \"\"\"\n\u001b[0;32m-> 1669\u001b[0;31m     \u001b[0;32mreturn\u001b[0m \u001b[0mself\u001b[0m\u001b[0;34m.\u001b[0m\u001b[0m_call_impl\u001b[0m\u001b[0;34m(\u001b[0m\u001b[0margs\u001b[0m\u001b[0;34m,\u001b[0m \u001b[0mkwargs\u001b[0m\u001b[0;34m)\u001b[0m\u001b[0;34m\u001b[0m\u001b[0;34m\u001b[0m\u001b[0m\n\u001b[0m\u001b[1;32m   1670\u001b[0m \u001b[0;34m\u001b[0m\u001b[0m\n\u001b[1;32m   1671\u001b[0m   \u001b[0;32mdef\u001b[0m \u001b[0m_call_impl\u001b[0m\u001b[0;34m(\u001b[0m\u001b[0mself\u001b[0m\u001b[0;34m,\u001b[0m \u001b[0margs\u001b[0m\u001b[0;34m,\u001b[0m \u001b[0mkwargs\u001b[0m\u001b[0;34m,\u001b[0m \u001b[0mcancellation_manager\u001b[0m\u001b[0;34m=\u001b[0m\u001b[0;32mNone\u001b[0m\u001b[0;34m)\u001b[0m\u001b[0;34m:\u001b[0m\u001b[0;34m\u001b[0m\u001b[0;34m\u001b[0m\u001b[0m\n",
      "\u001b[0;32m~/anaconda3/lib/python3.7/site-packages/tensorflow/python/eager/wrap_function.py\u001b[0m in \u001b[0;36m_call_impl\u001b[0;34m(self, args, kwargs, cancellation_manager)\u001b[0m\n\u001b[1;32m    245\u001b[0m     \u001b[0;32melse\u001b[0m\u001b[0;34m:\u001b[0m\u001b[0;34m\u001b[0m\u001b[0;34m\u001b[0m\u001b[0m\n\u001b[1;32m    246\u001b[0m       return super(WrappedFunction, self)._call_impl(\n\u001b[0;32m--> 247\u001b[0;31m           args, kwargs, cancellation_manager)\n\u001b[0m\u001b[1;32m    248\u001b[0m \u001b[0;34m\u001b[0m\u001b[0m\n\u001b[1;32m    249\u001b[0m   \u001b[0;32mdef\u001b[0m \u001b[0mprune\u001b[0m\u001b[0;34m(\u001b[0m\u001b[0mself\u001b[0m\u001b[0;34m,\u001b[0m \u001b[0mfeeds\u001b[0m\u001b[0;34m,\u001b[0m \u001b[0mfetches\u001b[0m\u001b[0;34m,\u001b[0m \u001b[0mname\u001b[0m\u001b[0;34m=\u001b[0m\u001b[0;32mNone\u001b[0m\u001b[0;34m,\u001b[0m \u001b[0minput_signature\u001b[0m\u001b[0;34m=\u001b[0m\u001b[0;32mNone\u001b[0m\u001b[0;34m)\u001b[0m\u001b[0;34m:\u001b[0m\u001b[0;34m\u001b[0m\u001b[0;34m\u001b[0m\u001b[0m\n",
      "\u001b[0;32m~/anaconda3/lib/python3.7/site-packages/tensorflow/python/eager/function.py\u001b[0m in \u001b[0;36m_call_impl\u001b[0;34m(self, args, kwargs, cancellation_manager)\u001b[0m\n\u001b[1;32m   1685\u001b[0m             \u001b[0;32mraise\u001b[0m \u001b[0mstructured_err\u001b[0m\u001b[0;34m\u001b[0m\u001b[0;34m\u001b[0m\u001b[0m\n\u001b[1;32m   1686\u001b[0m \u001b[0;34m\u001b[0m\u001b[0m\n\u001b[0;32m-> 1687\u001b[0;31m       \u001b[0;32mreturn\u001b[0m \u001b[0mself\u001b[0m\u001b[0;34m.\u001b[0m\u001b[0m_call_with_flat_signature\u001b[0m\u001b[0;34m(\u001b[0m\u001b[0margs\u001b[0m\u001b[0;34m,\u001b[0m \u001b[0mkwargs\u001b[0m\u001b[0;34m,\u001b[0m \u001b[0mcancellation_manager\u001b[0m\u001b[0;34m)\u001b[0m\u001b[0;34m\u001b[0m\u001b[0;34m\u001b[0m\u001b[0m\n\u001b[0m\u001b[1;32m   1688\u001b[0m \u001b[0;34m\u001b[0m\u001b[0m\n\u001b[1;32m   1689\u001b[0m   \u001b[0;32mdef\u001b[0m \u001b[0m_call_with_flat_signature\u001b[0m\u001b[0;34m(\u001b[0m\u001b[0mself\u001b[0m\u001b[0;34m,\u001b[0m \u001b[0margs\u001b[0m\u001b[0;34m,\u001b[0m \u001b[0mkwargs\u001b[0m\u001b[0;34m,\u001b[0m \u001b[0mcancellation_manager\u001b[0m\u001b[0;34m)\u001b[0m\u001b[0;34m:\u001b[0m\u001b[0;34m\u001b[0m\u001b[0;34m\u001b[0m\u001b[0m\n",
      "\u001b[0;32m~/anaconda3/lib/python3.7/site-packages/tensorflow/python/eager/function.py\u001b[0m in \u001b[0;36m_call_with_flat_signature\u001b[0;34m(self, args, kwargs, cancellation_manager)\u001b[0m\n\u001b[1;32m   1734\u001b[0m                         \"got {} ({})\".format(self._flat_signature_summary(), i,\n\u001b[1;32m   1735\u001b[0m                                              type(arg).__name__, str(arg)))\n\u001b[0;32m-> 1736\u001b[0;31m     \u001b[0;32mreturn\u001b[0m \u001b[0mself\u001b[0m\u001b[0;34m.\u001b[0m\u001b[0m_call_flat\u001b[0m\u001b[0;34m(\u001b[0m\u001b[0margs\u001b[0m\u001b[0;34m,\u001b[0m \u001b[0mself\u001b[0m\u001b[0;34m.\u001b[0m\u001b[0mcaptured_inputs\u001b[0m\u001b[0;34m,\u001b[0m \u001b[0mcancellation_manager\u001b[0m\u001b[0;34m)\u001b[0m\u001b[0;34m\u001b[0m\u001b[0;34m\u001b[0m\u001b[0m\n\u001b[0m\u001b[1;32m   1737\u001b[0m \u001b[0;34m\u001b[0m\u001b[0m\n\u001b[1;32m   1738\u001b[0m   \u001b[0;32mdef\u001b[0m \u001b[0m_call_with_structured_signature\u001b[0m\u001b[0;34m(\u001b[0m\u001b[0mself\u001b[0m\u001b[0;34m,\u001b[0m \u001b[0margs\u001b[0m\u001b[0;34m,\u001b[0m \u001b[0mkwargs\u001b[0m\u001b[0;34m,\u001b[0m \u001b[0mcancellation_manager\u001b[0m\u001b[0;34m)\u001b[0m\u001b[0;34m:\u001b[0m\u001b[0;34m\u001b[0m\u001b[0;34m\u001b[0m\u001b[0m\n",
      "\u001b[0;32m~/anaconda3/lib/python3.7/site-packages/tensorflow/python/eager/function.py\u001b[0m in \u001b[0;36m_call_flat\u001b[0;34m(self, args, captured_inputs, cancellation_manager)\u001b[0m\n\u001b[1;32m   1917\u001b[0m       \u001b[0;31m# No tape is watching; skip to running the function.\u001b[0m\u001b[0;34m\u001b[0m\u001b[0;34m\u001b[0m\u001b[0;34m\u001b[0m\u001b[0m\n\u001b[1;32m   1918\u001b[0m       return self._build_call_outputs(self._inference_function.call(\n\u001b[0;32m-> 1919\u001b[0;31m           ctx, args, cancellation_manager=cancellation_manager))\n\u001b[0m\u001b[1;32m   1920\u001b[0m     forward_backward = self._select_forward_and_backward_functions(\n\u001b[1;32m   1921\u001b[0m         \u001b[0margs\u001b[0m\u001b[0;34m,\u001b[0m\u001b[0;34m\u001b[0m\u001b[0;34m\u001b[0m\u001b[0m\n",
      "\u001b[0;32m~/anaconda3/lib/python3.7/site-packages/tensorflow/python/eager/function.py\u001b[0m in \u001b[0;36mcall\u001b[0;34m(self, ctx, args, cancellation_manager)\u001b[0m\n\u001b[1;32m    558\u001b[0m               \u001b[0minputs\u001b[0m\u001b[0;34m=\u001b[0m\u001b[0margs\u001b[0m\u001b[0;34m,\u001b[0m\u001b[0;34m\u001b[0m\u001b[0;34m\u001b[0m\u001b[0m\n\u001b[1;32m    559\u001b[0m               \u001b[0mattrs\u001b[0m\u001b[0;34m=\u001b[0m\u001b[0mattrs\u001b[0m\u001b[0;34m,\u001b[0m\u001b[0;34m\u001b[0m\u001b[0;34m\u001b[0m\u001b[0m\n\u001b[0;32m--> 560\u001b[0;31m               ctx=ctx)\n\u001b[0m\u001b[1;32m    561\u001b[0m         \u001b[0;32melse\u001b[0m\u001b[0;34m:\u001b[0m\u001b[0;34m\u001b[0m\u001b[0;34m\u001b[0m\u001b[0m\n\u001b[1;32m    562\u001b[0m           outputs = execute.execute_with_cancellation(\n",
      "\u001b[0;32m~/anaconda3/lib/python3.7/site-packages/tensorflow/python/eager/execute.py\u001b[0m in \u001b[0;36mquick_execute\u001b[0;34m(op_name, num_outputs, inputs, attrs, ctx, name)\u001b[0m\n\u001b[1;32m     58\u001b[0m     \u001b[0mctx\u001b[0m\u001b[0;34m.\u001b[0m\u001b[0mensure_initialized\u001b[0m\u001b[0;34m(\u001b[0m\u001b[0;34m)\u001b[0m\u001b[0;34m\u001b[0m\u001b[0;34m\u001b[0m\u001b[0m\n\u001b[1;32m     59\u001b[0m     tensors = pywrap_tfe.TFE_Py_Execute(ctx._handle, device_name, op_name,\n\u001b[0;32m---> 60\u001b[0;31m                                         inputs, attrs, num_outputs)\n\u001b[0m\u001b[1;32m     61\u001b[0m   \u001b[0;32mexcept\u001b[0m \u001b[0mcore\u001b[0m\u001b[0;34m.\u001b[0m\u001b[0m_NotOkStatusException\u001b[0m \u001b[0;32mas\u001b[0m \u001b[0me\u001b[0m\u001b[0;34m:\u001b[0m\u001b[0;34m\u001b[0m\u001b[0;34m\u001b[0m\u001b[0m\n\u001b[1;32m     62\u001b[0m     \u001b[0;32mif\u001b[0m \u001b[0mname\u001b[0m \u001b[0;32mis\u001b[0m \u001b[0;32mnot\u001b[0m \u001b[0;32mNone\u001b[0m\u001b[0;34m:\u001b[0m\u001b[0;34m\u001b[0m\u001b[0;34m\u001b[0m\u001b[0m\n",
      "\u001b[0;31mInvalidArgumentError\u001b[0m:  Input to reshape is a tensor with 0 values, but the requested shape has 1183\n\t [[node Reshape (defined at <ipython-input-22-fad56071c367>:2) ]] [Op:__inference_pruned_1423]\n\nFunction call stack:\npruned\n"
     ]
    }
   ],
   "source": [
    "# a columns list for the predictions detail dataframe\n",
    "pred_df_columns = ['model_id', 'execution', 'dataset', 'string_timestamps', 'predictions', 'targets']\n",
    "predictions_detail_df = pd.DataFrame(columns=pred_df_columns)\n",
    "\n",
    "for row in np.arange(max_row_index + 1):\n",
    "\n",
    "    # then again, build the initial source tensor\n",
    "    source_tensor = tf.expand_dims(source_array[row, :, :], axis=0)\n",
    "\n",
    "    # and build the initial prediction tensor\n",
    "    # a forecast-window-sized tensor (1, forecast_window, 7)\n",
    "    # formed with the forecast_window true values, starting at the end of the source tensor\n",
    "    # that means\n",
    "\n",
    "    prediction_tensor = tf.expand_dims(\n",
    "        source_array[row + configuration['num_timesteps'], :forecast_window, :],\n",
    "        axis=0)\n",
    "\n",
    "    # remember source_array is (?, timesteps, features), but source_timestamp_array is (?, timesteps) only\n",
    "    prediction_timestamps = source_timestamp_array[row + configuration['num_timesteps'], :forecast_window]\n",
    "\n",
    "\n",
    "    next_input_model = source_tensor\n",
    "\n",
    "    # re-initialize the prediction list previously used for prediction over TFRecords\n",
    "    predictions_list = list()\n",
    "\n",
    "    # fill the predictions list over the forecast window\n",
    "    for i in range(forecast_window):\n",
    "\n",
    "        # from the current next_input_model tensor (1, 168, 7)\n",
    "        # get a prediction as NumPy array (1, 168, 1)\n",
    "        prediction = predict_fn(tensor_to_tensor_example(next_input_model))['forecast'].numpy()\n",
    "\n",
    "        # get the value of the most recent prediction (last timestep) into the predictions list\n",
    "        predictions_list.append(prediction[:, -1, :][0][0])\n",
    "\n",
    "        # from the source tensor, get the positional encodings for ti+1 to t167 (that is 168-i-1 values)\n",
    "        pos_encoding_old_values = source_tensor[:, i+1:, 1:]\n",
    "\n",
    "        # from target tensor, get the positional encodings for t168 to t168+i (that is i+1 values)\n",
    "        pos_encoding_new_val = prediction_tensor[:, :i+1, 1:]\n",
    "\n",
    "        # build new positional encodings with 168 values\n",
    "        pos_encodings = tf.concat([pos_encoding_old_values, pos_encoding_new_val], axis=1)\n",
    "        pos_encodings = tf.cast(pos_encodings, dtype=tf.float32)\n",
    "\n",
    "        # build the values feature for the next input to the model\n",
    "        # pop i+1 values at the beginning of the previous input\n",
    "        value_feature_old_values = tf.expand_dims(source_tensor[:, i+1:, 0], axis=-1)\n",
    "        value_feature_old_values = tf.cast(value_feature_old_values, dtype=tf.float32)\n",
    "\n",
    "        # current predictions_list to NumPy array\n",
    "        value_feature_new_values = np.array(predictions_list[:i+1])\n",
    "\n",
    "        # current prediction array to tensor\n",
    "        value_feature_new_values = tf.convert_to_tensor(value_feature_new_values)\n",
    "\n",
    "        # expand dimensions of current prediction tensor to single-value feature\n",
    "        value_feature_new_values = tf.expand_dims(value_feature_new_values, axis=-1)\n",
    "\n",
    "        # expand dimensions of current prediction tensor to single-value batch\n",
    "        value_feature_new_values = tf.expand_dims(value_feature_new_values, axis=0)\n",
    "\n",
    "        # build the value feature tensor\n",
    "        next_input_model = tf.concat([value_feature_old_values, value_feature_new_values], axis=1)\n",
    "\n",
    "        # build the next input tensor for the model\n",
    "        next_input_model = tf.concat([next_input_model, pos_encodings], axis=2)\n",
    "\n",
    "\n",
    "    # iterative predictions over the forecast window reside in predictions_list\n",
    "    # convert list to array, then expand feature dimension with value 1\n",
    "    predicted_values = np.array(predictions_list).reshape(-1, 1)\n",
    "\n",
    "    # inverse-scale predictions\n",
    "    rescaled_predicted_values = scaler.inverse_transform(predicted_values)\n",
    "\n",
    "    # and the true values remain in the prediction tensor, pass them to a NumPy array\n",
    "    # for the true values array, expand feature dimension with value 1\n",
    "    true_values = prediction_tensor[0, :, 0].numpy().reshape(-1, 1)\n",
    "\n",
    "    # inverse-scale true values\n",
    "    rescaled_true_values = scaler.inverse_transform(true_values)\n",
    "\n",
    "    # a temporary dataframe built from the data in the current row\n",
    "    df = pd.DataFrame(columns=pred_df_columns)\n",
    "    df['model_id'] = [model_id]\n",
    "    df['execution'] = [execution]\n",
    "    df['dataset'] = [dataset]\n",
    "    df['string_timestamps']= [pd.to_datetime(prediction_timestamps).astype(str).tolist()]\n",
    "    df['predictions'] = [np.squeeze(rescaled_predicted_values).tolist()]\n",
    "    df['targets'] = [np.squeeze(rescaled_true_values).tolist()]\n",
    "    df['mae'] = mean_absolute_error(rescaled_true_values, rescaled_predicted_values)\n",
    "    df['rmse'] = sqrt(mean_squared_error(rescaled_true_values, rescaled_predicted_values))\n",
    "    df['smape'] = smape(rescaled_true_values, rescaled_predicted_values)\n",
    "\n",
    "    # append the temporary dataframe to the predictions detail dataframe\n",
    "    predictions_detail_df = pd.concat([predictions_detail_df, df])\n",
    "\n",
    "# reset the index of final dataframe\n",
    "predictions_detail_df = predictions_detail_df.reset_index(drop=True)"
   ]
  },
  {
   "cell_type": "code",
   "execution_count": null,
   "metadata": {},
   "outputs": [],
   "source": []
  },
  {
   "cell_type": "code",
   "execution_count": 164,
   "metadata": {},
   "outputs": [],
   "source": [
    "# build a predictions summary dataframe, reset index to avoid making a multi-column index when grouping by\n",
    "predictions_summary_df = predictions_detail_df.groupby(['model_id', 'execution', 'dataset']).mean().reset_index()"
   ]
  },
  {
   "cell_type": "code",
   "execution_count": 168,
   "metadata": {},
   "outputs": [],
   "source": [
    "# a range to iterate on prediction timesteps\n",
    "targets_range = np.arange(forecast_window)"
   ]
  },
  {
   "cell_type": "code",
   "execution_count": 170,
   "metadata": {},
   "outputs": [],
   "source": [
    "# vector metric (vector component to vector component)\n",
    "# an array forecast_window-d: metric for 1, 2,..., no_targets step-ahead (target versus prediction for rows in dataset)"
   ]
  },
  {
   "cell_type": "code",
   "execution_count": 171,
   "metadata": {},
   "outputs": [],
   "source": [
    "# for index, row in dataframe.iterrows()\n",
    "mae_vector = [\n",
    "    mean_absolute_error(\n",
    "        # a list with the n-rows target values for the n-th step ahead\n",
    "        [row.targets[n] for _, row in predictions_detail_df.iterrows()],\n",
    "        # a list with the n-rows prediction values for the n-th step ahead\n",
    "        [row.predictions[n] for _, row in predictions_detail_df.iterrows()]\n",
    "    ) for n in targets_range\n",
    "]\n",
    "predictions_summary_df['mae_vector'] = [mae_vector]"
   ]
  },
  {
   "cell_type": "code",
   "execution_count": 173,
   "metadata": {},
   "outputs": [],
   "source": [
    "# for index, row in dataframe.iterrows()\n",
    "rmse_vector = [\n",
    "    sqrt(mean_squared_error(\n",
    "        # a list with the n-rows target values for the n-th step ahead\n",
    "        [row.targets[n] for _, row in predictions_detail_df.iterrows()],\n",
    "        # a list with the n-rows prediction values for the n-th step ahead\n",
    "        [row.predictions[n] for _, row in predictions_detail_df.iterrows()]\n",
    "    )) for n in targets_range\n",
    "]\n",
    "predictions_summary_df['rmse_vector'] = [rmse_vector]"
   ]
  },
  {
   "cell_type": "code",
   "execution_count": 174,
   "metadata": {},
   "outputs": [],
   "source": [
    "# for index, row in dataframe.iterrows()\n",
    "smape_vector = [\n",
    "    smape(\n",
    "        [row.targets[n] for _, row in predictions_detail_df.iterrows()],\n",
    "        [row.predictions[n] for _, row in predictions_detail_df.iterrows()]\n",
    "    ) for n in targets_range\n",
    "]\n",
    "predictions_summary_df['smape_vector'] = [smape_vector]"
   ]
  },
  {
   "cell_type": "code",
   "execution_count": 175,
   "metadata": {},
   "outputs": [],
   "source": [
    "# insert count of rows as a column value\n",
    "predictions_summary_df.insert(3, 'count', max_row_index + 1)"
   ]
  },
  {
   "cell_type": "code",
   "execution_count": 187,
   "metadata": {},
   "outputs": [
    {
     "data": {
      "text/html": [
       "<div>\n",
       "<style scoped>\n",
       "    .dataframe tbody tr th:only-of-type {\n",
       "        vertical-align: middle;\n",
       "    }\n",
       "\n",
       "    .dataframe tbody tr th {\n",
       "        vertical-align: top;\n",
       "    }\n",
       "\n",
       "    .dataframe thead th {\n",
       "        text-align: right;\n",
       "    }\n",
       "</style>\n",
       "<table border=\"1\" class=\"dataframe\">\n",
       "  <thead>\n",
       "    <tr style=\"text-align: right;\">\n",
       "      <th></th>\n",
       "      <th>model_id</th>\n",
       "      <th>execution</th>\n",
       "      <th>dataset</th>\n",
       "      <th>count</th>\n",
       "      <th>mae</th>\n",
       "      <th>rmse</th>\n",
       "      <th>smape</th>\n",
       "      <th>mae_vector</th>\n",
       "      <th>rmse_vector</th>\n",
       "      <th>smape_vector</th>\n",
       "    </tr>\n",
       "  </thead>\n",
       "  <tbody>\n",
       "    <tr>\n",
       "      <th>0</th>\n",
       "      <td>ARTRFDC_TPU_001</td>\n",
       "      <td>0</td>\n",
       "      <td>test</td>\n",
       "      <td>1927</td>\n",
       "      <td>108.406593</td>\n",
       "      <td>134.492255</td>\n",
       "      <td>0.04288</td>\n",
       "      <td>[48.151058179205044, 69.42947142224394, 81.947...</td>\n",
       "      <td>[66.10266580277933, 92.11263279852528, 108.899...</td>\n",
       "      <td>[0.01919004221083813, 0.027874015071866175, 0....</td>\n",
       "    </tr>\n",
       "  </tbody>\n",
       "</table>\n",
       "</div>"
      ],
      "text/plain": [
       "          model_id  execution dataset  count         mae        rmse    smape  \\\n",
       "0  ARTRFDC_TPU_001          0    test   1927  108.406593  134.492255  0.04288   \n",
       "\n",
       "                                          mae_vector  \\\n",
       "0  [48.151058179205044, 69.42947142224394, 81.947...   \n",
       "\n",
       "                                         rmse_vector  \\\n",
       "0  [66.10266580277933, 92.11263279852528, 108.899...   \n",
       "\n",
       "                                        smape_vector  \n",
       "0  [0.01919004221083813, 0.027874015071866175, 0....  "
      ]
     },
     "execution_count": 187,
     "metadata": {},
     "output_type": "execute_result"
    }
   ],
   "source": [
    "predictions_summary_df"
   ]
  },
  {
   "cell_type": "code",
   "execution_count": 177,
   "metadata": {},
   "outputs": [],
   "source": [
    "# build a path to persist the dataframe to database/predictions_detail/\n",
    "detail_pickle_path = '{}/{}/{}/{}_{:02d}_on_{}_tfrecord.pkl'.format(\n",
    "    PROJECT_ROOT,\n",
    "    'database',\n",
    "    'predictions_detail',\n",
    "    model_id,\n",
    "    execution,\n",
    "    dataset)"
   ]
  },
  {
   "cell_type": "code",
   "execution_count": 179,
   "metadata": {},
   "outputs": [
    {
     "name": "stdout",
     "output_type": "stream",
     "text": [
      "Persisted Pandas dataframe for predictions detail of ARTRFDC_TPU_001_00 on test.tfrecord\n"
     ]
    }
   ],
   "source": [
    "# persist the Pandas dataframe to database/predictions_detail/\n",
    "predictions_detail_df.to_pickle(detail_pickle_path)\n",
    "print('Persisted Pandas dataframe for predictions detail of {}_{:02d} on {}.tfrecord'.format(model_id,\n",
    "                                                                                      execution,\n",
    "                                                                                      dataset))"
   ]
  },
  {
   "cell_type": "code",
   "execution_count": 180,
   "metadata": {},
   "outputs": [],
   "source": [
    "# build a path to persist the dataframe to database/predictions_summary/\n",
    "summary_pickle_path = '{}/{}/{}/{}_{:02d}_on_{}_tfrecord.pkl'.format(\n",
    "    PROJECT_ROOT,\n",
    "    'database',\n",
    "    'predictions_summary',\n",
    "    model_id,\n",
    "    execution,\n",
    "    dataset)"
   ]
  },
  {
   "cell_type": "code",
   "execution_count": 181,
   "metadata": {},
   "outputs": [
    {
     "name": "stdout",
     "output_type": "stream",
     "text": [
      "Persisted Pandas dataframe for predictions summary of ARTRFDC_TPU_001_00 on test.tfrecord\n"
     ]
    }
   ],
   "source": [
    "# persist the Pandas dataframe to database/predictions_summary/\n",
    "predictions_summary_df.to_pickle(summary_pickle_path)\n",
    "print('Persisted Pandas dataframe for predictions summary of {}_{:02d} on {}.tfrecord'.format(model_id,\n",
    "                                                                                      execution,\n",
    "                                                                                      dataset))"
   ]
  },
  {
   "cell_type": "code",
   "execution_count": 182,
   "metadata": {},
   "outputs": [],
   "source": [
    "# how does behave SMAPE on forecast_window-th-step-ahead predictions, over the test dataset\n",
    "# (as predictions go further from the training and evaluation datasets periods)"
   ]
  },
  {
   "cell_type": "code",
   "execution_count": 184,
   "metadata": {},
   "outputs": [
    {
     "data": {
      "text/html": [
       "\n",
       "\n",
       "\n",
       "\n",
       "\n",
       "\n",
       "  <div class=\"bk-root\" id=\"13208d97-5a94-41c2-b3dd-023a4d5dda7f\" data-root-id=\"4450\"></div>\n"
      ]
     },
     "metadata": {},
     "output_type": "display_data"
    },
    {
     "data": {
      "application/javascript": [
       "(function(root) {\n",
       "  function embed_document(root) {\n",
       "    \n",
       "  var docs_json = {\"46f2d178-0ac1-4c7e-8588-dd2341af1a77\":{\"roots\":{\"references\":[{\"attributes\":{\"below\":[{\"id\":\"4461\",\"type\":\"LinearAxis\"}],\"center\":[{\"id\":\"4465\",\"type\":\"Grid\"},{\"id\":\"4470\",\"type\":\"Grid\"},{\"id\":\"4495\",\"type\":\"Legend\"}],\"left\":[{\"id\":\"4466\",\"type\":\"LinearAxis\"}],\"plot_height\":400,\"plot_width\":960,\"renderers\":[{\"id\":\"4487\",\"type\":\"GlyphRenderer\"}],\"title\":{\"id\":\"4451\",\"type\":\"Title\"},\"toolbar\":{\"id\":\"4477\",\"type\":\"Toolbar\"},\"x_range\":{\"id\":\"4453\",\"type\":\"DataRange1d\"},\"x_scale\":{\"id\":\"4457\",\"type\":\"LinearScale\"},\"y_range\":{\"id\":\"4455\",\"type\":\"DataRange1d\"},\"y_scale\":{\"id\":\"4459\",\"type\":\"LinearScale\"}},\"id\":\"4450\",\"subtype\":\"Figure\",\"type\":\"Plot\"},{\"attributes\":{\"axis_label\":\"Row of test dataset\",\"formatter\":{\"id\":\"4492\",\"type\":\"BasicTickFormatter\"},\"ticker\":{\"id\":\"4462\",\"type\":\"BasicTicker\"}},\"id\":\"4461\",\"type\":\"LinearAxis\"},{\"attributes\":{\"dimension\":1,\"grid_line_alpha\":0.5,\"ticker\":{\"id\":\"4467\",\"type\":\"BasicTicker\"}},\"id\":\"4470\",\"type\":\"Grid\"},{\"attributes\":{},\"id\":\"4492\",\"type\":\"BasicTickFormatter\"},{\"attributes\":{},\"id\":\"4474\",\"type\":\"SaveTool\"},{\"attributes\":{\"callback\":null},\"id\":\"4453\",\"type\":\"DataRange1d\"},{\"attributes\":{\"active_drag\":\"auto\",\"active_inspect\":\"auto\",\"active_multi\":null,\"active_scroll\":\"auto\",\"active_tap\":\"auto\",\"tools\":[{\"id\":\"4471\",\"type\":\"PanTool\"},{\"id\":\"4472\",\"type\":\"WheelZoomTool\"},{\"id\":\"4473\",\"type\":\"BoxZoomTool\"},{\"id\":\"4474\",\"type\":\"SaveTool\"},{\"id\":\"4475\",\"type\":\"ResetTool\"},{\"id\":\"4476\",\"type\":\"HelpTool\"}]},\"id\":\"4477\",\"type\":\"Toolbar\"},{\"attributes\":{\"line_alpha\":0.1,\"line_color\":\"#1f77b4\",\"x\":{\"field\":\"x\"},\"y\":{\"field\":\"y\"}},\"id\":\"4486\",\"type\":\"Line\"},{\"attributes\":{},\"id\":\"4472\",\"type\":\"WheelZoomTool\"},{\"attributes\":{},\"id\":\"4476\",\"type\":\"HelpTool\"},{\"attributes\":{\"data_source\":{\"id\":\"4484\",\"type\":\"ColumnDataSource\"},\"glyph\":{\"id\":\"4485\",\"type\":\"Line\"},\"hover_glyph\":null,\"muted_glyph\":null,\"nonselection_glyph\":{\"id\":\"4486\",\"type\":\"Line\"},\"selection_glyph\":null,\"view\":{\"id\":\"4488\",\"type\":\"CDSView\"}},\"id\":\"4487\",\"type\":\"GlyphRenderer\"},{\"attributes\":{},\"id\":\"4459\",\"type\":\"LinearScale\"},{\"attributes\":{},\"id\":\"4471\",\"type\":\"PanTool\"},{\"attributes\":{\"source\":{\"id\":\"4484\",\"type\":\"ColumnDataSource\"}},\"id\":\"4488\",\"type\":\"CDSView\"},{\"attributes\":{},\"id\":\"4462\",\"type\":\"BasicTicker\"},{\"attributes\":{},\"id\":\"4457\",\"type\":\"LinearScale\"},{\"attributes\":{\"bottom_units\":\"screen\",\"fill_alpha\":{\"value\":0.5},\"fill_color\":{\"value\":\"lightgrey\"},\"left_units\":\"screen\",\"level\":\"overlay\",\"line_alpha\":{\"value\":1.0},\"line_color\":{\"value\":\"black\"},\"line_dash\":[4,4],\"line_width\":{\"value\":2},\"render_mode\":\"css\",\"right_units\":\"screen\",\"top_units\":\"screen\"},\"id\":\"4494\",\"type\":\"BoxAnnotation\"},{\"attributes\":{\"items\":[{\"id\":\"4496\",\"type\":\"LegendItem\"}]},\"id\":\"4495\",\"type\":\"Legend\"},{\"attributes\":{},\"id\":\"4722\",\"type\":\"UnionRenderers\"},{\"attributes\":{\"text\":\"SMAPE for model ARTRFDC_TPU_001, execution 0, on test dataset\"},\"id\":\"4451\",\"type\":\"Title\"},{\"attributes\":{\"line_color\":\"red\",\"x\":{\"field\":\"x\"},\"y\":{\"field\":\"y\"}},\"id\":\"4485\",\"type\":\"Line\"},{\"attributes\":{},\"id\":\"4723\",\"type\":\"Selection\"},{\"attributes\":{},\"id\":\"4490\",\"type\":\"BasicTickFormatter\"},{\"attributes\":{\"overlay\":{\"id\":\"4494\",\"type\":\"BoxAnnotation\"}},\"id\":\"4473\",\"type\":\"BoxZoomTool\"},{\"attributes\":{},\"id\":\"4475\",\"type\":\"ResetTool\"},{\"attributes\":{\"label\":{\"value\":\"SMAPE\"},\"renderers\":[{\"id\":\"4487\",\"type\":\"GlyphRenderer\"}]},\"id\":\"4496\",\"type\":\"LegendItem\"},{\"attributes\":{\"grid_line_alpha\":0.5,\"ticker\":{\"id\":\"4462\",\"type\":\"BasicTicker\"}},\"id\":\"4465\",\"type\":\"Grid\"},{\"attributes\":{\"callback\":null},\"id\":\"4455\",\"type\":\"DataRange1d\"},{\"attributes\":{\"callback\":null,\"data\":{\"x\":[0,1,2,3,4,5,6,7,8,9,10,11,12,13,14,15,16,17,18,19,20,21,22,23,24,25,26,27,28,29,30,31,32,33,34,35,36,37,38,39,40,41,42,43,44,45,46,47,48,49,50,51,52,53,54,55,56,57,58,59,60,61,62,63,64,65,66,67,68,69,70,71,72,73,74,75,76,77,78,79,80,81,82,83,84,85,86,87,88,89,90,91,92,93,94,95,96,97,98,99,100,101,102,103,104,105,106,107,108,109,110,111,112,113,114,115,116,117,118,119,120,121,122,123,124,125,126,127,128,129,130,131,132,133,134,135,136,137,138,139,140,141,142,143,144,145,146,147,148,149,150,151,152,153,154,155,156,157,158,159,160,161,162,163,164,165,166,167,168,169,170,171,172,173,174,175,176,177,178,179,180,181,182,183,184,185,186,187,188,189,190,191,192,193,194,195,196,197,198,199,200,201,202,203,204,205,206,207,208,209,210,211,212,213,214,215,216,217,218,219,220,221,222,223,224,225,226,227,228,229,230,231,232,233,234,235,236,237,238,239,240,241,242,243,244,245,246,247,248,249,250,251,252,253,254,255,256,257,258,259,260,261,262,263,264,265,266,267,268,269,270,271,272,273,274,275,276,277,278,279,280,281,282,283,284,285,286,287,288,289,290,291,292,293,294,295,296,297,298,299,300,301,302,303,304,305,306,307,308,309,310,311,312,313,314,315,316,317,318,319,320,321,322,323,324,325,326,327,328,329,330,331,332,333,334,335,336,337,338,339,340,341,342,343,344,345,346,347,348,349,350,351,352,353,354,355,356,357,358,359,360,361,362,363,364,365,366,367,368,369,370,371,372,373,374,375,376,377,378,379,380,381,382,383,384,385,386,387,388,389,390,391,392,393,394,395,396,397,398,399,400,401,402,403,404,405,406,407,408,409,410,411,412,413,414,415,416,417,418,419,420,421,422,423,424,425,426,427,428,429,430,431,432,433,434,435,436,437,438,439,440,441,442,443,444,445,446,447,448,449,450,451,452,453,454,455,456,457,458,459,460,461,462,463,464,465,466,467,468,469,470,471,472,473,474,475,476,477,478,479,480,481,482,483,484,485,486,487,488,489,490,491,492,493,494,495,496,497,498,499,500,501,502,503,504,505,506,507,508,509,510,511,512,513,514,515,516,517,518,519,520,521,522,523,524,525,526,527,528,529,530,531,532,533,534,535,536,537,538,539,540,541,542,543,544,545,546,547,548,549,550,551,552,553,554,555,556,557,558,559,560,561,562,563,564,565,566,567,568,569,570,571,572,573,574,575,576,577,578,579,580,581,582,583,584,585,586,587,588,589,590,591,592,593,594,595,596,597,598,599,600,601,602,603,604,605,606,607,608,609,610,611,612,613,614,615,616,617,618,619,620,621,622,623,624,625,626,627,628,629,630,631,632,633,634,635,636,637,638,639,640,641,642,643,644,645,646,647,648,649,650,651,652,653,654,655,656,657,658,659,660,661,662,663,664,665,666,667,668,669,670,671,672,673,674,675,676,677,678,679,680,681,682,683,684,685,686,687,688,689,690,691,692,693,694,695,696,697,698,699,700,701,702,703,704,705,706,707,708,709,710,711,712,713,714,715,716,717,718,719,720,721,722,723,724,725,726,727,728,729,730,731,732,733,734,735,736,737,738,739,740,741,742,743,744,745,746,747,748,749,750,751,752,753,754,755,756,757,758,759,760,761,762,763,764,765,766,767,768,769,770,771,772,773,774,775,776,777,778,779,780,781,782,783,784,785,786,787,788,789,790,791,792,793,794,795,796,797,798,799,800,801,802,803,804,805,806,807,808,809,810,811,812,813,814,815,816,817,818,819,820,821,822,823,824,825,826,827,828,829,830,831,832,833,834,835,836,837,838,839,840,841,842,843,844,845,846,847,848,849,850,851,852,853,854,855,856,857,858,859,860,861,862,863,864,865,866,867,868,869,870,871,872,873,874,875,876,877,878,879,880,881,882,883,884,885,886,887,888,889,890,891,892,893,894,895,896,897,898,899,900,901,902,903,904,905,906,907,908,909,910,911,912,913,914,915,916,917,918,919,920,921,922,923,924,925,926,927,928,929,930,931,932,933,934,935,936,937,938,939,940,941,942,943,944,945,946,947,948,949,950,951,952,953,954,955,956,957,958,959,960,961,962,963,964,965,966,967,968,969,970,971,972,973,974,975,976,977,978,979,980,981,982,983,984,985,986,987,988,989,990,991,992,993,994,995,996,997,998,999,1000,1001,1002,1003,1004,1005,1006,1007,1008,1009,1010,1011,1012,1013,1014,1015,1016,1017,1018,1019,1020,1021,1022,1023,1024,1025,1026,1027,1028,1029,1030,1031,1032,1033,1034,1035,1036,1037,1038,1039,1040,1041,1042,1043,1044,1045,1046,1047,1048,1049,1050,1051,1052,1053,1054,1055,1056,1057,1058,1059,1060,1061,1062,1063,1064,1065,1066,1067,1068,1069,1070,1071,1072,1073,1074,1075,1076,1077,1078,1079,1080,1081,1082,1083,1084,1085,1086,1087,1088,1089,1090,1091,1092,1093,1094,1095,1096,1097,1098,1099,1100,1101,1102,1103,1104,1105,1106,1107,1108,1109,1110,1111,1112,1113,1114,1115,1116,1117,1118,1119,1120,1121,1122,1123,1124,1125,1126,1127,1128,1129,1130,1131,1132,1133,1134,1135,1136,1137,1138,1139,1140,1141,1142,1143,1144,1145,1146,1147,1148,1149,1150,1151,1152,1153,1154,1155,1156,1157,1158,1159,1160,1161,1162,1163,1164,1165,1166,1167,1168,1169,1170,1171,1172,1173,1174,1175,1176,1177,1178,1179,1180,1181,1182,1183,1184,1185,1186,1187,1188,1189,1190,1191,1192,1193,1194,1195,1196,1197,1198,1199,1200,1201,1202,1203,1204,1205,1206,1207,1208,1209,1210,1211,1212,1213,1214,1215,1216,1217,1218,1219,1220,1221,1222,1223,1224,1225,1226,1227,1228,1229,1230,1231,1232,1233,1234,1235,1236,1237,1238,1239,1240,1241,1242,1243,1244,1245,1246,1247,1248,1249,1250,1251,1252,1253,1254,1255,1256,1257,1258,1259,1260,1261,1262,1263,1264,1265,1266,1267,1268,1269,1270,1271,1272,1273,1274,1275,1276,1277,1278,1279,1280,1281,1282,1283,1284,1285,1286,1287,1288,1289,1290,1291,1292,1293,1294,1295,1296,1297,1298,1299,1300,1301,1302,1303,1304,1305,1306,1307,1308,1309,1310,1311,1312,1313,1314,1315,1316,1317,1318,1319,1320,1321,1322,1323,1324,1325,1326,1327,1328,1329,1330,1331,1332,1333,1334,1335,1336,1337,1338,1339,1340,1341,1342,1343,1344,1345,1346,1347,1348,1349,1350,1351,1352,1353,1354,1355,1356,1357,1358,1359,1360,1361,1362,1363,1364,1365,1366,1367,1368,1369,1370,1371,1372,1373,1374,1375,1376,1377,1378,1379,1380,1381,1382,1383,1384,1385,1386,1387,1388,1389,1390,1391,1392,1393,1394,1395,1396,1397,1398,1399,1400,1401,1402,1403,1404,1405,1406,1407,1408,1409,1410,1411,1412,1413,1414,1415,1416,1417,1418,1419,1420,1421,1422,1423,1424,1425,1426,1427,1428,1429,1430,1431,1432,1433,1434,1435,1436,1437,1438,1439,1440,1441,1442,1443,1444,1445,1446,1447,1448,1449,1450,1451,1452,1453,1454,1455,1456,1457,1458,1459,1460,1461,1462,1463,1464,1465,1466,1467,1468,1469,1470,1471,1472,1473,1474,1475,1476,1477,1478,1479,1480,1481,1482,1483,1484,1485,1486,1487,1488,1489,1490,1491,1492,1493,1494,1495,1496,1497,1498,1499,1500,1501,1502,1503,1504,1505,1506,1507,1508,1509,1510,1511,1512,1513,1514,1515,1516,1517,1518,1519,1520,1521,1522,1523,1524,1525,1526,1527,1528,1529,1530,1531,1532,1533,1534,1535,1536,1537,1538,1539,1540,1541,1542,1543,1544,1545,1546,1547,1548,1549,1550,1551,1552,1553,1554,1555,1556,1557,1558,1559,1560,1561,1562,1563,1564,1565,1566,1567,1568,1569,1570,1571,1572,1573,1574,1575,1576,1577,1578,1579,1580,1581,1582,1583,1584,1585,1586,1587,1588,1589,1590,1591,1592,1593,1594,1595,1596,1597,1598,1599,1600,1601,1602,1603,1604,1605,1606,1607,1608,1609,1610,1611,1612,1613,1614,1615,1616,1617,1618,1619,1620,1621,1622,1623,1624,1625,1626,1627,1628,1629,1630,1631,1632,1633,1634,1635,1636,1637,1638,1639,1640,1641,1642,1643,1644,1645,1646,1647,1648,1649,1650,1651,1652,1653,1654,1655,1656,1657,1658,1659,1660,1661,1662,1663,1664,1665,1666,1667,1668,1669,1670,1671,1672,1673,1674,1675,1676,1677,1678,1679,1680,1681,1682,1683,1684,1685,1686,1687,1688,1689,1690,1691,1692,1693,1694,1695,1696,1697,1698,1699,1700,1701,1702,1703,1704,1705,1706,1707,1708,1709,1710,1711,1712,1713,1714,1715,1716,1717,1718,1719,1720,1721,1722,1723,1724,1725,1726,1727,1728,1729,1730,1731,1732,1733,1734,1735,1736,1737,1738,1739,1740,1741,1742,1743,1744,1745,1746,1747,1748,1749,1750,1751,1752,1753,1754,1755,1756,1757,1758,1759,1760,1761,1762,1763,1764,1765,1766,1767,1768,1769,1770,1771,1772,1773,1774,1775,1776,1777,1778,1779,1780,1781,1782,1783,1784,1785,1786,1787,1788,1789,1790,1791,1792,1793,1794,1795,1796,1797,1798,1799,1800,1801,1802,1803,1804,1805,1806,1807,1808,1809,1810,1811,1812,1813,1814,1815,1816,1817,1818,1819,1820,1821,1822,1823,1824,1825,1826,1827,1828,1829,1830,1831,1832,1833,1834,1835,1836,1837,1838,1839,1840,1841,1842,1843,1844,1845,1846,1847,1848,1849,1850,1851,1852,1853,1854,1855,1856,1857,1858,1859,1860,1861,1862,1863,1864,1865,1866,1867,1868,1869,1870,1871,1872,1873,1874,1875,1876,1877,1878,1879,1880,1881,1882,1883,1884,1885,1886,1887,1888,1889,1890,1891,1892,1893,1894,1895,1896,1897,1898,1899,1900,1901,1902,1903,1904,1905,1906,1907,1908,1909,1910,1911,1912,1913,1914,1915,1916,1917,1918,1919,1920,1921,1922,1923,1924,1925,1926],\"y\":{\"__ndarray__\":\"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\",\"dtype\":\"float64\",\"shape\":[1927]}},\"selected\":{\"id\":\"4723\",\"type\":\"Selection\"},\"selection_policy\":{\"id\":\"4722\",\"type\":\"UnionRenderers\"}},\"id\":\"4484\",\"type\":\"ColumnDataSource\"},{\"attributes\":{\"axis_label\":\"SMAPE for the forecast window\",\"formatter\":{\"id\":\"4490\",\"type\":\"BasicTickFormatter\"},\"ticker\":{\"id\":\"4467\",\"type\":\"BasicTicker\"}},\"id\":\"4466\",\"type\":\"LinearAxis\"},{\"attributes\":{},\"id\":\"4467\",\"type\":\"BasicTicker\"}],\"root_ids\":[\"4450\"]},\"title\":\"Bokeh Application\",\"version\":\"1.4.0\"}};\n",
       "  var render_items = [{\"docid\":\"46f2d178-0ac1-4c7e-8588-dd2341af1a77\",\"roots\":{\"4450\":\"13208d97-5a94-41c2-b3dd-023a4d5dda7f\"}}];\n",
       "  root.Bokeh.embed.embed_items_notebook(docs_json, render_items);\n",
       "\n",
       "  }\n",
       "  if (root.Bokeh !== undefined) {\n",
       "    embed_document(root);\n",
       "  } else {\n",
       "    var attempts = 0;\n",
       "    var timer = setInterval(function(root) {\n",
       "      if (root.Bokeh !== undefined) {\n",
       "        clearInterval(timer);\n",
       "        embed_document(root);\n",
       "      } else {\n",
       "        attempts++;\n",
       "        if (attempts > 100) {\n",
       "          clearInterval(timer);\n",
       "          console.log(\"Bokeh: ERROR: Unable to run BokehJS code because BokehJS library is missing\");\n",
       "        }\n",
       "      }\n",
       "    }, 10, root)\n",
       "  }\n",
       "})(window);"
      ],
      "application/vnd.bokehjs_exec.v0+json": ""
     },
     "metadata": {
      "application/vnd.bokehjs_exec.v0+json": {
       "id": "4450"
      }
     },
     "output_type": "display_data"
    }
   ],
   "source": [
    "smape = figure(\n",
    "    # x_axis_type='datetime',\n",
    "    plot_width=960,\n",
    "    plot_height=400,\n",
    "    title='SMAPE for model {}, execution {}, on {} dataset'.format(\n",
    "        model_id,\n",
    "        execution,\n",
    "        dataset))\n",
    "\n",
    "smape.grid.grid_line_alpha=0.5\n",
    "\n",
    "smape.xaxis.axis_label = 'Row of test dataset'\n",
    "smape.yaxis.axis_label = 'SMAPE for the forecast window'\n",
    "\n",
    "smape.line(\n",
    "    np.arange(max_row_index + 1),\n",
    "    predictions_detail_df['smape'],\n",
    "    color='red',\n",
    "    legend_label='SMAPE')\n",
    "\n",
    "# uncomment the following two lines to save plot\n",
    "# output_file('/home/developer/gcp/cbidmltsf/datasets/cfe/{}_H_kw.html'.format(device))\n",
    "# save(fig_kw)\n",
    "\n",
    "# uncomment the following line to display plot\n",
    "show(smape)"
   ]
  },
  {
   "cell_type": "code",
   "execution_count": 189,
   "metadata": {},
   "outputs": [
    {
     "data": {
      "text/html": [
       "\n",
       "\n",
       "\n",
       "\n",
       "\n",
       "\n",
       "  <div class=\"bk-root\" id=\"79f1a04b-e333-4b12-90bc-8dbf912e12ca\" data-root-id=\"6240\"></div>\n"
      ]
     },
     "metadata": {},
     "output_type": "display_data"
    },
    {
     "data": {
      "application/javascript": [
       "(function(root) {\n",
       "  function embed_document(root) {\n",
       "    \n",
       "  var docs_json = {\"8ca0afc2-d777-4366-b922-a2de240fa7c3\":{\"roots\":{\"references\":[{\"attributes\":{\"below\":[{\"id\":\"6251\",\"type\":\"DatetimeAxis\"}],\"center\":[{\"id\":\"6255\",\"type\":\"Grid\"},{\"id\":\"6260\",\"type\":\"Grid\"},{\"id\":\"6297\",\"type\":\"Legend\"}],\"left\":[{\"id\":\"6256\",\"type\":\"LinearAxis\"}],\"plot_height\":400,\"plot_width\":960,\"renderers\":[{\"id\":\"6277\",\"type\":\"GlyphRenderer\"},{\"id\":\"6302\",\"type\":\"GlyphRenderer\"}],\"title\":{\"id\":\"6241\",\"type\":\"Title\"},\"toolbar\":{\"id\":\"6267\",\"type\":\"Toolbar\"},\"x_range\":{\"id\":\"6243\",\"type\":\"DataRange1d\"},\"x_scale\":{\"id\":\"6247\",\"type\":\"LinearScale\"},\"y_range\":{\"id\":\"6245\",\"type\":\"DataRange1d\"},\"y_scale\":{\"id\":\"6249\",\"type\":\"LinearScale\"}},\"id\":\"6240\",\"subtype\":\"Figure\",\"type\":\"Plot\"},{\"attributes\":{\"items\":[{\"id\":\"6298\",\"type\":\"LegendItem\"},{\"id\":\"6324\",\"type\":\"LegendItem\"}]},\"id\":\"6297\",\"type\":\"Legend\"},{\"attributes\":{},\"id\":\"6249\",\"type\":\"LinearScale\"},{\"attributes\":{\"axis_label\":\"Timestamp\",\"formatter\":{\"id\":\"6282\",\"type\":\"DatetimeTickFormatter\"},\"ticker\":{\"id\":\"6252\",\"type\":\"DatetimeTicker\"}},\"id\":\"6251\",\"type\":\"DatetimeAxis\"},{\"attributes\":{\"months\":[0,4,8]},\"id\":\"6293\",\"type\":\"MonthsTicker\"},{\"attributes\":{\"dimension\":1,\"grid_line_alpha\":0.5,\"ticker\":{\"id\":\"6257\",\"type\":\"BasicTicker\"}},\"id\":\"6260\",\"type\":\"Grid\"},{\"attributes\":{},\"id\":\"6247\",\"type\":\"LinearScale\"},{\"attributes\":{\"source\":{\"id\":\"6299\",\"type\":\"ColumnDataSource\"}},\"id\":\"6303\",\"type\":\"CDSView\"},{\"attributes\":{\"grid_line_alpha\":0.5,\"ticker\":{\"id\":\"6252\",\"type\":\"DatetimeTicker\"}},\"id\":\"6255\",\"type\":\"Grid\"},{\"attributes\":{},\"id\":\"6639\",\"type\":\"Selection\"},{\"attributes\":{\"data_source\":{\"id\":\"6299\",\"type\":\"ColumnDataSource\"},\"glyph\":{\"id\":\"6300\",\"type\":\"Line\"},\"hover_glyph\":null,\"muted_glyph\":null,\"nonselection_glyph\":{\"id\":\"6301\",\"type\":\"Line\"},\"selection_glyph\":null,\"view\":{\"id\":\"6303\",\"type\":\"CDSView\"}},\"id\":\"6302\",\"type\":\"GlyphRenderer\"},{\"attributes\":{},\"id\":\"6280\",\"type\":\"BasicTickFormatter\"},{\"attributes\":{},\"id\":\"6257\",\"type\":\"BasicTicker\"},{\"attributes\":{\"text\":\"Multi-step prediction for model ARTRFDC_TPU_001, execution 0, on test dataset, SMAPE = 0.04447054862976074\"},\"id\":\"6241\",\"type\":\"Title\"},{\"attributes\":{\"axis_label\":\"Active Power [KW]\",\"formatter\":{\"id\":\"6280\",\"type\":\"BasicTickFormatter\"},\"ticker\":{\"id\":\"6257\",\"type\":\"BasicTicker\"}},\"id\":\"6256\",\"type\":\"LinearAxis\"},{\"attributes\":{},\"id\":\"6282\",\"type\":\"DatetimeTickFormatter\"},{\"attributes\":{},\"id\":\"6321\",\"type\":\"UnionRenderers\"},{\"attributes\":{\"num_minor_ticks\":5,\"tickers\":[{\"id\":\"6284\",\"type\":\"AdaptiveTicker\"},{\"id\":\"6285\",\"type\":\"AdaptiveTicker\"},{\"id\":\"6286\",\"type\":\"AdaptiveTicker\"},{\"id\":\"6287\",\"type\":\"DaysTicker\"},{\"id\":\"6288\",\"type\":\"DaysTicker\"},{\"id\":\"6289\",\"type\":\"DaysTicker\"},{\"id\":\"6290\",\"type\":\"DaysTicker\"},{\"id\":\"6291\",\"type\":\"MonthsTicker\"},{\"id\":\"6292\",\"type\":\"MonthsTicker\"},{\"id\":\"6293\",\"type\":\"MonthsTicker\"},{\"id\":\"6294\",\"type\":\"MonthsTicker\"},{\"id\":\"6295\",\"type\":\"YearsTicker\"}]},\"id\":\"6252\",\"type\":\"DatetimeTicker\"},{\"attributes\":{\"days\":[1,15]},\"id\":\"6290\",\"type\":\"DaysTicker\"},{\"attributes\":{\"label\":{\"value\":\"predicted\"},\"renderers\":[{\"id\":\"6302\",\"type\":\"GlyphRenderer\"}]},\"id\":\"6324\",\"type\":\"LegendItem\"},{\"attributes\":{\"mantissas\":[1,2,5],\"max_interval\":500.0,\"num_minor_ticks\":0},\"id\":\"6284\",\"type\":\"AdaptiveTicker\"},{\"attributes\":{\"callback\":null},\"id\":\"6243\",\"type\":\"DataRange1d\"},{\"attributes\":{},\"id\":\"6322\",\"type\":\"Selection\"},{\"attributes\":{\"source\":{\"id\":\"6274\",\"type\":\"ColumnDataSource\"}},\"id\":\"6278\",\"type\":\"CDSView\"},{\"attributes\":{\"active_drag\":\"auto\",\"active_inspect\":\"auto\",\"active_multi\":null,\"active_scroll\":\"auto\",\"active_tap\":\"auto\",\"tools\":[{\"id\":\"6261\",\"type\":\"PanTool\"},{\"id\":\"6262\",\"type\":\"WheelZoomTool\"},{\"id\":\"6263\",\"type\":\"BoxZoomTool\"},{\"id\":\"6264\",\"type\":\"SaveTool\"},{\"id\":\"6265\",\"type\":\"ResetTool\"},{\"id\":\"6266\",\"type\":\"HelpTool\"}]},\"id\":\"6267\",\"type\":\"Toolbar\"},{\"attributes\":{\"months\":[0,1,2,3,4,5,6,7,8,9,10,11]},\"id\":\"6291\",\"type\":\"MonthsTicker\"},{\"attributes\":{\"line_alpha\":0.1,\"line_color\":\"#1f77b4\",\"x\":{\"field\":\"x\"},\"y\":{\"field\":\"y\"}},\"id\":\"6276\",\"type\":\"Line\"},{\"attributes\":{\"base\":24,\"mantissas\":[1,2,4,6,8,12],\"max_interval\":43200000.0,\"min_interval\":3600000.0,\"num_minor_ticks\":0},\"id\":\"6286\",\"type\":\"AdaptiveTicker\"},{\"attributes\":{\"data_source\":{\"id\":\"6274\",\"type\":\"ColumnDataSource\"},\"glyph\":{\"id\":\"6275\",\"type\":\"Line\"},\"hover_glyph\":null,\"muted_glyph\":null,\"nonselection_glyph\":{\"id\":\"6276\",\"type\":\"Line\"},\"selection_glyph\":null,\"view\":{\"id\":\"6278\",\"type\":\"CDSView\"}},\"id\":\"6277\",\"type\":\"GlyphRenderer\"},{\"attributes\":{\"base\":60,\"mantissas\":[1,2,5,10,15,20,30],\"max_interval\":1800000.0,\"min_interval\":1000.0,\"num_minor_ticks\":0},\"id\":\"6285\",\"type\":\"AdaptiveTicker\"},{\"attributes\":{},\"id\":\"6638\",\"type\":\"UnionRenderers\"},{\"attributes\":{\"bottom_units\":\"screen\",\"fill_alpha\":{\"value\":0.5},\"fill_color\":{\"value\":\"lightgrey\"},\"left_units\":\"screen\",\"level\":\"overlay\",\"line_alpha\":{\"value\":1.0},\"line_color\":{\"value\":\"black\"},\"line_dash\":[4,4],\"line_width\":{\"value\":2},\"render_mode\":\"css\",\"right_units\":\"screen\",\"top_units\":\"screen\"},\"id\":\"6296\",\"type\":\"BoxAnnotation\"},{\"attributes\":{},\"id\":\"6261\",\"type\":\"PanTool\"},{\"attributes\":{},\"id\":\"6262\",\"type\":\"WheelZoomTool\"},{\"attributes\":{\"months\":[0,6]},\"id\":\"6294\",\"type\":\"MonthsTicker\"},{\"attributes\":{\"days\":[1,2,3,4,5,6,7,8,9,10,11,12,13,14,15,16,17,18,19,20,21,22,23,24,25,26,27,28,29,30,31]},\"id\":\"6287\",\"type\":\"DaysTicker\"},{\"attributes\":{\"overlay\":{\"id\":\"6296\",\"type\":\"BoxAnnotation\"}},\"id\":\"6263\",\"type\":\"BoxZoomTool\"},{\"attributes\":{\"months\":[0,2,4,6,8,10]},\"id\":\"6292\",\"type\":\"MonthsTicker\"},{\"attributes\":{\"days\":[1,4,7,10,13,16,19,22,25,28]},\"id\":\"6288\",\"type\":\"DaysTicker\"},{\"attributes\":{\"callback\":null,\"data\":{\"x\":{\"__ndarray__\":\"AAAoVWYzdkIAABDEaTN2QgAA+DJtM3ZCAADgoXAzdkIAAMgQdDN2QgAAsH93M3ZCAACY7nozdkIAAIBdfjN2QgAAaMyBM3ZCAABQO4UzdkIAADiqiDN2QgAAIBmMM3ZCAAAIiI8zdkIAAPD2kjN2QgAA2GWWM3ZCAADA1JkzdkIAAKhDnTN2QgAAkLKgM3ZCAAB4IaQzdkIAAGCQpzN2QgAASP+qM3ZCAAAwbq4zdkIAABjdsTN2QgAAAEy1M3ZC\",\"dtype\":\"float64\",\"shape\":[24]},\"y\":[2675.0625,2697.230712890625,2706.478759765625,2814.28857421875,2925.928466796875,2763.783935546875,2497.898681640625,2222.163818359375,2026.7796630859375,1905.017578125,1813.09130859375,1773.333740234375,1765.1920166015625,1864.1165771484375,1906.1854248046875,1936.24072265625,2072.613037109375,2305.4208984375,2488.63037109375,2660.50732421875,2745.230712890625,2785.4443359375,2764.768798828125,2717.56396484375]},\"selected\":{\"id\":\"6322\",\"type\":\"Selection\"},\"selection_policy\":{\"id\":\"6321\",\"type\":\"UnionRenderers\"}},\"id\":\"6274\",\"type\":\"ColumnDataSource\"},{\"attributes\":{},\"id\":\"6264\",\"type\":\"SaveTool\"},{\"attributes\":{\"line_color\":\"blue\",\"x\":{\"field\":\"x\"},\"y\":{\"field\":\"y\"}},\"id\":\"6300\",\"type\":\"Line\"},{\"attributes\":{\"days\":[1,8,15,22]},\"id\":\"6289\",\"type\":\"DaysTicker\"},{\"attributes\":{\"callback\":null,\"data\":{\"x\":{\"__ndarray__\":\"AAAoVWYzdkIAABDEaTN2QgAA+DJtM3ZCAADgoXAzdkIAAMgQdDN2QgAAsH93M3ZCAACY7nozdkIAAIBdfjN2QgAAaMyBM3ZCAABQO4UzdkIAADiqiDN2QgAAIBmMM3ZCAAAIiI8zdkIAAPD2kjN2QgAA2GWWM3ZCAADA1JkzdkIAAKhDnTN2QgAAkLKgM3ZCAAB4IaQzdkIAAGCQpzN2QgAASP+qM3ZCAAAwbq4zdkIAABjdsTN2QgAAAEy1M3ZC\",\"dtype\":\"float64\",\"shape\":[24]},\"y\":[2663.18505859375,2638.6767578125,2619.098388671875,2835.23486328125,2841.92333984375,2693.041748046875,2388.06982421875,2090.080078125,1890.61328125,1820.1983642578125,1765.3016357421875,1766.5633544921875,1740.07666015625,1918.4366455078125,2077.68505859375,2162.38818359375,2272.916748046875,2455.466552734375,2655.681640625,2779.726806640625,2827.08837890625,2875.671630859375,2899.13330078125,2948.751708984375]},\"selected\":{\"id\":\"6639\",\"type\":\"Selection\"},\"selection_policy\":{\"id\":\"6638\",\"type\":\"UnionRenderers\"}},\"id\":\"6299\",\"type\":\"ColumnDataSource\"},{\"attributes\":{},\"id\":\"6265\",\"type\":\"ResetTool\"},{\"attributes\":{\"label\":{\"value\":\"real\"},\"renderers\":[{\"id\":\"6277\",\"type\":\"GlyphRenderer\"}]},\"id\":\"6298\",\"type\":\"LegendItem\"},{\"attributes\":{},\"id\":\"6295\",\"type\":\"YearsTicker\"},{\"attributes\":{\"callback\":null},\"id\":\"6245\",\"type\":\"DataRange1d\"},{\"attributes\":{},\"id\":\"6266\",\"type\":\"HelpTool\"},{\"attributes\":{\"line_alpha\":0.1,\"line_color\":\"#1f77b4\",\"x\":{\"field\":\"x\"},\"y\":{\"field\":\"y\"}},\"id\":\"6301\",\"type\":\"Line\"},{\"attributes\":{\"line_color\":\"green\",\"x\":{\"field\":\"x\"},\"y\":{\"field\":\"y\"}},\"id\":\"6275\",\"type\":\"Line\"}],\"root_ids\":[\"6240\"]},\"title\":\"Bokeh Application\",\"version\":\"1.4.0\"}};\n",
       "  var render_items = [{\"docid\":\"8ca0afc2-d777-4366-b922-a2de240fa7c3\",\"roots\":{\"6240\":\"79f1a04b-e333-4b12-90bc-8dbf912e12ca\"}}];\n",
       "  root.Bokeh.embed.embed_items_notebook(docs_json, render_items);\n",
       "\n",
       "  }\n",
       "  if (root.Bokeh !== undefined) {\n",
       "    embed_document(root);\n",
       "  } else {\n",
       "    var attempts = 0;\n",
       "    var timer = setInterval(function(root) {\n",
       "      if (root.Bokeh !== undefined) {\n",
       "        clearInterval(timer);\n",
       "        embed_document(root);\n",
       "      } else {\n",
       "        attempts++;\n",
       "        if (attempts > 100) {\n",
       "          clearInterval(timer);\n",
       "          console.log(\"Bokeh: ERROR: Unable to run BokehJS code because BokehJS library is missing\");\n",
       "        }\n",
       "      }\n",
       "    }, 10, root)\n",
       "  }\n",
       "})(window);"
      ],
      "application/vnd.bokehjs_exec.v0+json": ""
     },
     "metadata": {
      "application/vnd.bokehjs_exec.v0+json": {
       "id": "6240"
      }
     },
     "output_type": "display_data"
    }
   ],
   "source": [
    "# a dictionary to manage plots\n",
    "plots = dict()\n",
    "\n",
    "# plot predictions for a single row in the test dataset\n",
    "# row = 266\n",
    "# row = 1377\n",
    "row = 24\n",
    "\n",
    "plots['identifier'] = figure(\n",
    "    x_axis_type='datetime',\n",
    "    plot_width=960,\n",
    "    plot_height=400,\n",
    "    title='Multi-step prediction for model {}, execution {}, on {} dataset, SMAPE = {}'.format(\n",
    "        model_id,\n",
    "        execution,\n",
    "        dataset,\n",
    "        predictions_detail_df.loc[row, 'smape']))\n",
    "\n",
    "plots['identifier'].grid.grid_line_alpha=0.5\n",
    "\n",
    "plots['identifier'].xaxis.axis_label = 'Timestamp'\n",
    "plots['identifier'].yaxis.axis_label = 'Active Power [KW]'\n",
    "\n",
    "plots['identifier'].line(\n",
    "    pd.to_datetime(predictions_detail_df.loc[row, 'string_timestamps']),\n",
    "    predictions_detail_df.loc[row, 'predictions'],\n",
    "    color='green',\n",
    "    legend_label='real')\n",
    "\n",
    "plots['identifier'].line(\n",
    "    pd.to_datetime(predictions_detail_df.loc[row, 'string_timestamps']),\n",
    "    predictions_detail_df.loc[row, 'targets'],\n",
    "    color='blue',\n",
    "    legend_label='predicted')\n",
    "\n",
    "# uncomment the following two lines to save plot\n",
    "# output_file('/home/developer/gcp/cbidmltsf/datasets/cfe/{}_H_kw.html'.format(device))\n",
    "# save(fig_kw)\n",
    "\n",
    "# uncomment the following line to display plot\n",
    "show(plots['identifier'])"
   ]
  },
  {
   "cell_type": "code",
   "execution_count": null,
   "metadata": {},
   "outputs": [],
   "source": []
  }
 ],
 "metadata": {
  "kernelspec": {
   "display_name": "Python 3",
   "language": "python",
   "name": "python3"
  },
  "language_info": {
   "codemirror_mode": {
    "name": "ipython",
    "version": 3
   },
   "file_extension": ".py",
   "mimetype": "text/x-python",
   "name": "python",
   "nbconvert_exporter": "python",
   "pygments_lexer": "ipython3",
   "version": "3.7.6"
  }
 },
 "nbformat": 4,
 "nbformat_minor": 4
}

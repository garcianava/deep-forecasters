{
 "cells": [
  {
   "cell_type": "code",
   "execution_count": 27,
   "metadata": {},
   "outputs": [],
   "source": [
    "import numpy as np"
   ]
  },
  {
   "cell_type": "code",
   "execution_count": 28,
   "metadata": {},
   "outputs": [],
   "source": [
    "config_json_file = {\n",
    "    \"lrs_weights\": [1.0, 0.1, 0.01, 0.001],    \n",
    "    \"lrs_steps\": [5, 30, 60, 80],\n",
    "    \"lrs_max_epochs\": 90,\n",
    "}"
   ]
  },
  {
   "cell_type": "code",
   "execution_count": 29,
   "metadata": {},
   "outputs": [],
   "source": [
    "def get_lr_schedule(train_steps, num_train_rows, train_batch_size):\n",
    "    \"\"\"learning rate schedule.\"\"\"\n",
    "    steps_per_epoch = np.floor(num_train_rows / train_batch_size)\n",
    "    train_epochs = train_steps / steps_per_epoch\n",
    "    return [  # (multiplier, epoch to start) tuples\n",
    "        (1.0, np.floor(5 / 90 * train_epochs)),\n",
    "        (0.1, np.floor(30 / 90 * train_epochs)),\n",
    "        (0.01, np.floor(60 / 90 * train_epochs)),\n",
    "        (0.001, np.floor(80 / 90 * train_epochs))\n",
    "    ]"
   ]
  },
  {
   "cell_type": "code",
   "execution_count": 30,
   "metadata": {},
   "outputs": [
    {
     "data": {
      "text/plain": [
       "[(1.0, 5.0), (0.1, 33.0), (0.01, 66.0), (0.001, 88.0)]"
      ]
     },
     "execution_count": 30,
     "metadata": {},
     "output_type": "execute_result"
    }
   ],
   "source": [
    "[(item[0], np.floor(item[1]/config_json_file['lrs_max_epochs']*train_epochs)) \\\n",
    " for item in zip(config_json_file['lrs_weights'], config_json_file['lrs_steps'])]"
   ]
  },
  {
   "cell_type": "code",
   "execution_count": 31,
   "metadata": {},
   "outputs": [],
   "source": [
    "def get_lr_schedule_from_config_dict(train_steps, num_train_rows, train_batch_size):\n",
    "    \"\"\"learning rate schedule.\"\"\"\n",
    "    steps_per_epoch = np.floor(num_train_rows / train_batch_size)\n",
    "    train_epochs = train_steps / steps_per_epoch\n",
    "    lrs_tuples_list = [(item[0], np.floor(item[1]/config_json_file['lrs_max_epochs']*train_epochs)) \\\n",
    "                       for item in zip(config_json_file['lrs_weights'], config_json_file['lrs_steps'])]\n",
    "    \n",
    "    return lrs_tuples_list"
   ]
  },
  {
   "cell_type": "code",
   "execution_count": 32,
   "metadata": {},
   "outputs": [
    {
     "data": {
      "text/plain": [
       "[(1.0, 5.0), (0.1, 33.0), (0.01, 66.0), (0.001, 88.0)]"
      ]
     },
     "execution_count": 32,
     "metadata": {},
     "output_type": "execute_result"
    }
   ],
   "source": [
    "train_steps, num_train_rows, train_batch_size = 400, 1024, 256\n",
    "get_lr_schedule(train_steps, num_train_rows, train_batch_size)"
   ]
  },
  {
   "cell_type": "code",
   "execution_count": 33,
   "metadata": {},
   "outputs": [
    {
     "data": {
      "text/plain": [
       "[(1.0, 5.0), (0.1, 33.0), (0.01, 66.0), (0.001, 88.0)]"
      ]
     },
     "execution_count": 33,
     "metadata": {},
     "output_type": "execute_result"
    }
   ],
   "source": [
    "train_steps, num_train_rows, train_batch_size = 400, 1024, 256\n",
    "get_lr_schedule_from_config_dict(train_steps, num_train_rows, train_batch_size)"
   ]
  },
  {
   "cell_type": "code",
   "execution_count": null,
   "metadata": {},
   "outputs": [],
   "source": []
  }
 ],
 "metadata": {
  "kernelspec": {
   "display_name": "Python 3",
   "language": "python",
   "name": "python3"
  },
  "language_info": {
   "codemirror_mode": {
    "name": "ipython",
    "version": 3
   },
   "file_extension": ".py",
   "mimetype": "text/x-python",
   "name": "python",
   "nbconvert_exporter": "python",
   "pygments_lexer": "ipython3",
   "version": "3.7.6"
  }
 },
 "nbformat": 4,
 "nbformat_minor": 4
}

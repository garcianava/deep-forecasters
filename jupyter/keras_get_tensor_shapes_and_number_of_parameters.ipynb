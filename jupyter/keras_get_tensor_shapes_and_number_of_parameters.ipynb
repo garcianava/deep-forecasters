{
 "cells": [
  {
   "cell_type": "code",
   "execution_count": 1,
   "metadata": {},
   "outputs": [],
   "source": [
    "# models are not sequential, change to Keras Functional as in early 2019\n",
    "from keras.models import Sequential"
   ]
  },
  {
   "cell_type": "code",
   "execution_count": 5,
   "metadata": {},
   "outputs": [],
   "source": [
    "from keras.layers import Input, LSTM"
   ]
  },
  {
   "cell_type": "code",
   "execution_count": 13,
   "metadata": {},
   "outputs": [
    {
     "name": "stdout",
     "output_type": "stream",
     "text": [
      "Tensor(\"input_2:0\", shape=(None, 8, 1), dtype=float32)\n"
     ]
    }
   ],
   "source": [
    "# the input layer, only for the hourly feature\n",
    "embedding, n_features = 8, 1\n",
    "input_hourly = Input(shape=(embedding, n_features))\n",
    "print(input_hourly)"
   ]
  },
  {
   "cell_type": "code",
   "execution_count": 14,
   "metadata": {},
   "outputs": [
    {
     "name": "stdout",
     "output_type": "stream",
     "text": [
      "Tensor(\"lstm_6/transpose_1:0\", shape=(None, 8, 64), dtype=float32)\n"
     ]
    }
   ],
   "source": [
    "# a typical deployment of the hourly feature in DMSLSTM\n",
    "n_hidden = 64\n",
    "hourly_1_stack_hidden = LSTM(\n",
    "    n_hidden,\n",
    "    activation='elu',\n",
    "    dropout=0.2,\n",
    "    recurrent_dropout=0.2,\n",
    "    return_sequences=True,\n",
    "    return_state=False)(input_hourly)\n",
    "\n",
    "print(hourly_1_stack_hidden)"
   ]
  },
  {
   "cell_type": "code",
   "execution_count": 16,
   "metadata": {},
   "outputs": [],
   "source": [
    "# with return_sequences=True, 8 timesteps are kept for input to the next stacked LSTM\n",
    "# (LSTM layers require timesteps to work)\n",
    "# and the 64 values in the hidden states ares passed as features"
   ]
  },
  {
   "cell_type": "code",
   "execution_count": 15,
   "metadata": {},
   "outputs": [
    {
     "name": "stdout",
     "output_type": "stream",
     "text": [
      "Tensor(\"lstm_7/strided_slice_3:0\", shape=(None, 128), dtype=float32)\n"
     ]
    }
   ],
   "source": [
    "n_hidden = 128\n",
    "hourly_2_hidden = LSTM(\n",
    "    n_hidden,\n",
    "    activation='elu',\n",
    "    dropout=0.2,\n",
    "    recurrent_dropout=0.2,\n",
    "    return_sequences=False,\n",
    "    return_state=False)(hourly_1_stack_hidden)\n",
    "\n",
    "print(hourly_2_hidden)"
   ]
  },
  {
   "cell_type": "code",
   "execution_count": null,
   "metadata": {},
   "outputs": [],
   "source": []
  }
 ],
 "metadata": {
  "kernelspec": {
   "display_name": "Python 3",
   "language": "python",
   "name": "python3"
  },
  "language_info": {
   "codemirror_mode": {
    "name": "ipython",
    "version": 3
   },
   "file_extension": ".py",
   "mimetype": "text/x-python",
   "name": "python",
   "nbconvert_exporter": "python",
   "pygments_lexer": "ipython3",
   "version": "3.7.6"
  }
 },
 "nbformat": 4,
 "nbformat_minor": 4
}

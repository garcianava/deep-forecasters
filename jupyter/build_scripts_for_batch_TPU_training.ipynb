{
 "cells": [
  {
   "cell_type": "code",
   "execution_count": 4,
   "metadata": {},
   "outputs": [],
   "source": [
    "import numpy as np"
   ]
  },
  {
   "cell_type": "code",
   "execution_count": 5,
   "metadata": {},
   "outputs": [],
   "source": [
    "# identify the architecture\n",
    "architecture = 'DMSLSTM'"
   ]
  },
  {
   "cell_type": "code",
   "execution_count": 6,
   "metadata": {},
   "outputs": [],
   "source": [
    "# identify the infrastructure\n",
    "infrastructure = 'TPU'"
   ]
  },
  {
   "cell_type": "code",
   "execution_count": 7,
   "metadata": {},
   "outputs": [],
   "source": [
    "# the required batch sizes, all multiples of 64, from 64 to 1024\n",
    "batch_sizes = list(np.arange(1, 17)*64)"
   ]
  },
  {
   "cell_type": "code",
   "execution_count": 8,
   "metadata": {},
   "outputs": [],
   "source": [
    "# the desired scaled learning rate for building the learning rate schedule\n",
    "scaled_learning_rate = 0.01"
   ]
  },
  {
   "cell_type": "code",
   "execution_count": 9,
   "metadata": {},
   "outputs": [],
   "source": [
    "# get the base learning rates to pass to training script, per batch size\n",
    "base_learning_rates = [scaled_learning_rate*256/batch_size for batch_size in batch_sizes]"
   ]
  },
  {
   "cell_type": "code",
   "execution_count": 10,
   "metadata": {},
   "outputs": [],
   "source": [
    "# the desired number of epochs (as in the 32/14062/0.08 combination)\n",
    "num_epochs = 14062*32/4938"
   ]
  },
  {
   "cell_type": "code",
   "execution_count": 17,
   "metadata": {},
   "outputs": [],
   "source": [
    "train_steps = list(np.round([num_epochs*4938/batch_size for batch_size in batch_sizes]).astype(int))"
   ]
  },
  {
   "cell_type": "code",
   "execution_count": 23,
   "metadata": {},
   "outputs": [],
   "source": [
    "# a list to store the basic training parameter combinations\n",
    "parameters = list()"
   ]
  },
  {
   "cell_type": "code",
   "execution_count": 25,
   "metadata": {},
   "outputs": [],
   "source": [
    "for row in zip(batch_sizes, train_steps, base_learning_rates):\n",
    "    parameters.append((row[0], row[1], float('%.8f'%(row[2]))))"
   ]
  },
  {
   "cell_type": "code",
   "execution_count": 26,
   "metadata": {},
   "outputs": [
    {
     "data": {
      "text/plain": [
       "[(64, 7031, 0.04),\n",
       " (128, 3516, 0.02),\n",
       " (192, 2344, 0.01333333),\n",
       " (256, 1758, 0.01),\n",
       " (320, 1406, 0.008),\n",
       " (384, 1172, 0.00666667),\n",
       " (448, 1004, 0.00571429),\n",
       " (512, 879, 0.005),\n",
       " (576, 781, 0.00444444),\n",
       " (640, 703, 0.004),\n",
       " (704, 639, 0.00363636),\n",
       " (768, 586, 0.00333333),\n",
       " (832, 541, 0.00307692),\n",
       " (896, 502, 0.00285714),\n",
       " (960, 469, 0.00266667),\n",
       " (1024, 439, 0.0025)]"
      ]
     },
     "execution_count": 26,
     "metadata": {},
     "output_type": "execute_result"
    }
   ],
   "source": [
    "parameters"
   ]
  },
  {
   "cell_type": "code",
   "execution_count": 27,
   "metadata": {},
   "outputs": [],
   "source": [
    "# some of the above combinations have already been executed as\n",
    "# parameters[0]: DMSLSTM_82\n",
    "# parameters[1]: DMSLSTM_83\n",
    "# parameters[3]: DMSLSTM_84\n",
    "# parameters[7]: DMSLSTM_85\n",
    "# parameters[15]: DMSLSTM_86"
   ]
  },
  {
   "cell_type": "code",
   "execution_count": 30,
   "metadata": {},
   "outputs": [],
   "source": [
    "# then iterate on the remaining items\n",
    "remaining_items = [2, 4, 5, 6, 8, 9, 10, 11, 12, 13, 14]"
   ]
  },
  {
   "cell_type": "code",
   "execution_count": 32,
   "metadata": {},
   "outputs": [],
   "source": [
    "combinations = [parameters[item] for item in remaining_items]"
   ]
  },
  {
   "cell_type": "code",
   "execution_count": 44,
   "metadata": {},
   "outputs": [
    {
     "data": {
      "text/plain": [
       "[(192, 2344, 0.01333333),\n",
       " (320, 1406, 0.008),\n",
       " (384, 1172, 0.00666667),\n",
       " (448, 1004, 0.00571429),\n",
       " (576, 781, 0.00444444),\n",
       " (640, 703, 0.004),\n",
       " (704, 639, 0.00363636),\n",
       " (768, 586, 0.00333333),\n",
       " (832, 541, 0.00307692),\n",
       " (896, 502, 0.00285714),\n",
       " (960, 469, 0.00266667)]"
      ]
     },
     "execution_count": 44,
     "metadata": {},
     "output_type": "execute_result"
    }
   ],
   "source": [
    "combinations"
   ]
  },
  {
   "cell_type": "code",
   "execution_count": 58,
   "metadata": {},
   "outputs": [],
   "source": [
    "# get the names for the experiments on the above combinations\n",
    "# skip 90 as it is already used\n",
    "experiment_range_list = [87, 88, 89, 91, 92, 93, 94, 95, 96, 97, 98]"
   ]
  },
  {
   "cell_type": "code",
   "execution_count": 37,
   "metadata": {},
   "outputs": [],
   "source": [
    "# define the experiment identifiers\n",
    "# experiment_range_list = [x for x in range(70, 80)]"
   ]
  },
  {
   "cell_type": "code",
   "execution_count": 59,
   "metadata": {},
   "outputs": [],
   "source": [
    "model_ids_list = ['{}_{}_{:02}'.format(architecture, infrastructure, item)\\\n",
    "                  for item in experiment_range_list]"
   ]
  },
  {
   "cell_type": "code",
   "execution_count": 60,
   "metadata": {},
   "outputs": [
    {
     "data": {
      "text/plain": [
       "['DMSLSTM_TPU_87',\n",
       " 'DMSLSTM_TPU_88',\n",
       " 'DMSLSTM_TPU_89',\n",
       " 'DMSLSTM_TPU_91',\n",
       " 'DMSLSTM_TPU_92',\n",
       " 'DMSLSTM_TPU_93',\n",
       " 'DMSLSTM_TPU_94',\n",
       " 'DMSLSTM_TPU_95',\n",
       " 'DMSLSTM_TPU_96',\n",
       " 'DMSLSTM_TPU_97',\n",
       " 'DMSLSTM_TPU_98']"
      ]
     },
     "execution_count": 60,
     "metadata": {},
     "output_type": "execute_result"
    }
   ],
   "source": [
    "model_ids_list"
   ]
  },
  {
   "cell_type": "code",
   "execution_count": 62,
   "metadata": {},
   "outputs": [],
   "source": [
    "experiments_list = list()\n",
    "for counter in range(len(model_ids_list)):\n",
    "    experiments_list.append([model_ids_list[counter], combinations[counter][0],\n",
    "                             combinations[counter][1],\n",
    "                             combinations[counter][2]])"
   ]
  },
  {
   "cell_type": "code",
   "execution_count": 63,
   "metadata": {},
   "outputs": [
    {
     "data": {
      "text/plain": [
       "[['DMSLSTM_TPU_87', 192, 2344, 0.01333333],\n",
       " ['DMSLSTM_TPU_88', 320, 1406, 0.008],\n",
       " ['DMSLSTM_TPU_89', 384, 1172, 0.00666667],\n",
       " ['DMSLSTM_TPU_91', 448, 1004, 0.00571429],\n",
       " ['DMSLSTM_TPU_92', 576, 781, 0.00444444],\n",
       " ['DMSLSTM_TPU_93', 640, 703, 0.004],\n",
       " ['DMSLSTM_TPU_94', 704, 639, 0.00363636],\n",
       " ['DMSLSTM_TPU_95', 768, 586, 0.00333333],\n",
       " ['DMSLSTM_TPU_96', 832, 541, 0.00307692],\n",
       " ['DMSLSTM_TPU_97', 896, 502, 0.00285714],\n",
       " ['DMSLSTM_TPU_98', 960, 469, 0.00266667]]"
      ]
     },
     "execution_count": 63,
     "metadata": {},
     "output_type": "execute_result"
    }
   ],
   "source": [
    "experiments_list"
   ]
  },
  {
   "cell_type": "code",
   "execution_count": 64,
   "metadata": {},
   "outputs": [],
   "source": [
    "num_executions = 10"
   ]
  },
  {
   "cell_type": "code",
   "execution_count": 65,
   "metadata": {},
   "outputs": [],
   "source": [
    "data_dir = 'gs://cbidmltsf/sldbs/CPE04015_desbI_H_2017-04-01_00:00:00_2018-02-28_23:00:00_H008001001_D008024001_W004168001'"
   ]
  },
  {
   "cell_type": "code",
   "execution_count": 66,
   "metadata": {},
   "outputs": [],
   "source": [
    "use_tpu = 'true'"
   ]
  },
  {
   "cell_type": "code",
   "execution_count": 67,
   "metadata": {},
   "outputs": [],
   "source": [
    "iterations_per_loop = 20000"
   ]
  },
  {
   "cell_type": "code",
   "execution_count": 68,
   "metadata": {},
   "outputs": [],
   "source": [
    "skip_host_call = 'false'"
   ]
  },
  {
   "cell_type": "code",
   "execution_count": 69,
   "metadata": {},
   "outputs": [],
   "source": [
    "save_summary_steps = 20000"
   ]
  },
  {
   "cell_type": "code",
   "execution_count": 70,
   "metadata": {},
   "outputs": [],
   "source": [
    "log_step_count_steps = 20000"
   ]
  },
  {
   "cell_type": "code",
   "execution_count": 71,
   "metadata": {},
   "outputs": [],
   "source": [
    "mode = 'train'"
   ]
  },
  {
   "cell_type": "code",
   "execution_count": 72,
   "metadata": {},
   "outputs": [],
   "source": [
    "precision = 'bfloat16'"
   ]
  },
  {
   "cell_type": "raw",
   "metadata": {},
   "source": [
    "python3 train.py\n",
    "--model_dir='gs://cbidmltsf/models/DMSLSTM_TPU_85_00'\n",
    "--data_dir='gs://cbidmltsf/sldbs/CPE04015_desbI_H_2017-04-01_00:00:00_2018-02-28_23:00:00_H008001001_D008024001_W004168001'\n",
    "--use_tpu=true\n",
    "--train_steps=879\n",
    "--train_batch_size=512\n",
    "--base_learning_rate=0.005\n",
    "--iterations_per_loop=20000\n",
    "--skip_host_call=false\n",
    "--save_summary_steps=20000\n",
    "--log_step_count_steps=20000\n",
    "--mode='train'\n",
    "--precision='bfloat16'\n",
    "--persist_parameters='true'\n",
    "1>../logs/DMSLSTM_TPU_85_00.txt 2>&1"
   ]
  },
  {
   "cell_type": "code",
   "execution_count": null,
   "metadata": {},
   "outputs": [],
   "source": [
    "# programmatically build the training commands"
   ]
  },
  {
   "cell_type": "code",
   "execution_count": 85,
   "metadata": {},
   "outputs": [
    {
     "name": "stdout",
     "output_type": "stream",
     "text": [
      "python3 train.py --model_dir='gs://cbidmltsf/models/DMSLSTM_TPU_87_00' --data_dir='gs://cbidmltsf/sldbs/CPE04015_desbI_H_2017-04-01_00:00:00_2018-02-28_23:00:00_H008001001_D008024001_W004168001' --use_tpu=true --train_batch_size=192 --train_steps=2344 --base_learning_rate=0.01333333 --iterations_per_loop=20000 --skip_host_call=false --save_summary_steps=20000 --log_step_count_steps=20000 --mode='train' --precision='bfloat16' --persist_parameters=True 1>../logs/DMSLSTM_TPU_87_00.txt 2>&1\n",
      "python3 train.py --model_dir='gs://cbidmltsf/models/DMSLSTM_TPU_87_01' --data_dir='gs://cbidmltsf/sldbs/CPE04015_desbI_H_2017-04-01_00:00:00_2018-02-28_23:00:00_H008001001_D008024001_W004168001' --use_tpu=true --train_batch_size=192 --train_steps=2344 --base_learning_rate=0.01333333 --iterations_per_loop=20000 --skip_host_call=false --save_summary_steps=20000 --log_step_count_steps=20000 --mode='train' --precision='bfloat16' --persist_parameters=False 1>../logs/DMSLSTM_TPU_87_01.txt 2>&1\n",
      "python3 train.py --model_dir='gs://cbidmltsf/models/DMSLSTM_TPU_87_02' --data_dir='gs://cbidmltsf/sldbs/CPE04015_desbI_H_2017-04-01_00:00:00_2018-02-28_23:00:00_H008001001_D008024001_W004168001' --use_tpu=true --train_batch_size=192 --train_steps=2344 --base_learning_rate=0.01333333 --iterations_per_loop=20000 --skip_host_call=false --save_summary_steps=20000 --log_step_count_steps=20000 --mode='train' --precision='bfloat16' --persist_parameters=False 1>../logs/DMSLSTM_TPU_87_02.txt 2>&1\n",
      "python3 train.py --model_dir='gs://cbidmltsf/models/DMSLSTM_TPU_87_03' --data_dir='gs://cbidmltsf/sldbs/CPE04015_desbI_H_2017-04-01_00:00:00_2018-02-28_23:00:00_H008001001_D008024001_W004168001' --use_tpu=true --train_batch_size=192 --train_steps=2344 --base_learning_rate=0.01333333 --iterations_per_loop=20000 --skip_host_call=false --save_summary_steps=20000 --log_step_count_steps=20000 --mode='train' --precision='bfloat16' --persist_parameters=False 1>../logs/DMSLSTM_TPU_87_03.txt 2>&1\n",
      "python3 train.py --model_dir='gs://cbidmltsf/models/DMSLSTM_TPU_87_04' --data_dir='gs://cbidmltsf/sldbs/CPE04015_desbI_H_2017-04-01_00:00:00_2018-02-28_23:00:00_H008001001_D008024001_W004168001' --use_tpu=true --train_batch_size=192 --train_steps=2344 --base_learning_rate=0.01333333 --iterations_per_loop=20000 --skip_host_call=false --save_summary_steps=20000 --log_step_count_steps=20000 --mode='train' --precision='bfloat16' --persist_parameters=False 1>../logs/DMSLSTM_TPU_87_04.txt 2>&1\n",
      "python3 train.py --model_dir='gs://cbidmltsf/models/DMSLSTM_TPU_87_05' --data_dir='gs://cbidmltsf/sldbs/CPE04015_desbI_H_2017-04-01_00:00:00_2018-02-28_23:00:00_H008001001_D008024001_W004168001' --use_tpu=true --train_batch_size=192 --train_steps=2344 --base_learning_rate=0.01333333 --iterations_per_loop=20000 --skip_host_call=false --save_summary_steps=20000 --log_step_count_steps=20000 --mode='train' --precision='bfloat16' --persist_parameters=False 1>../logs/DMSLSTM_TPU_87_05.txt 2>&1\n",
      "python3 train.py --model_dir='gs://cbidmltsf/models/DMSLSTM_TPU_87_06' --data_dir='gs://cbidmltsf/sldbs/CPE04015_desbI_H_2017-04-01_00:00:00_2018-02-28_23:00:00_H008001001_D008024001_W004168001' --use_tpu=true --train_batch_size=192 --train_steps=2344 --base_learning_rate=0.01333333 --iterations_per_loop=20000 --skip_host_call=false --save_summary_steps=20000 --log_step_count_steps=20000 --mode='train' --precision='bfloat16' --persist_parameters=False 1>../logs/DMSLSTM_TPU_87_06.txt 2>&1\n",
      "python3 train.py --model_dir='gs://cbidmltsf/models/DMSLSTM_TPU_87_07' --data_dir='gs://cbidmltsf/sldbs/CPE04015_desbI_H_2017-04-01_00:00:00_2018-02-28_23:00:00_H008001001_D008024001_W004168001' --use_tpu=true --train_batch_size=192 --train_steps=2344 --base_learning_rate=0.01333333 --iterations_per_loop=20000 --skip_host_call=false --save_summary_steps=20000 --log_step_count_steps=20000 --mode='train' --precision='bfloat16' --persist_parameters=False 1>../logs/DMSLSTM_TPU_87_07.txt 2>&1\n",
      "python3 train.py --model_dir='gs://cbidmltsf/models/DMSLSTM_TPU_87_08' --data_dir='gs://cbidmltsf/sldbs/CPE04015_desbI_H_2017-04-01_00:00:00_2018-02-28_23:00:00_H008001001_D008024001_W004168001' --use_tpu=true --train_batch_size=192 --train_steps=2344 --base_learning_rate=0.01333333 --iterations_per_loop=20000 --skip_host_call=false --save_summary_steps=20000 --log_step_count_steps=20000 --mode='train' --precision='bfloat16' --persist_parameters=False 1>../logs/DMSLSTM_TPU_87_08.txt 2>&1\n",
      "python3 train.py --model_dir='gs://cbidmltsf/models/DMSLSTM_TPU_87_09' --data_dir='gs://cbidmltsf/sldbs/CPE04015_desbI_H_2017-04-01_00:00:00_2018-02-28_23:00:00_H008001001_D008024001_W004168001' --use_tpu=true --train_batch_size=192 --train_steps=2344 --base_learning_rate=0.01333333 --iterations_per_loop=20000 --skip_host_call=false --save_summary_steps=20000 --log_step_count_steps=20000 --mode='train' --precision='bfloat16' --persist_parameters=False 1>../logs/DMSLSTM_TPU_87_09.txt 2>&1\n",
      "python3 train.py --model_dir='gs://cbidmltsf/models/DMSLSTM_TPU_88_00' --data_dir='gs://cbidmltsf/sldbs/CPE04015_desbI_H_2017-04-01_00:00:00_2018-02-28_23:00:00_H008001001_D008024001_W004168001' --use_tpu=true --train_batch_size=320 --train_steps=1406 --base_learning_rate=0.008 --iterations_per_loop=20000 --skip_host_call=false --save_summary_steps=20000 --log_step_count_steps=20000 --mode='train' --precision='bfloat16' --persist_parameters=True 1>../logs/DMSLSTM_TPU_88_00.txt 2>&1\n",
      "python3 train.py --model_dir='gs://cbidmltsf/models/DMSLSTM_TPU_88_01' --data_dir='gs://cbidmltsf/sldbs/CPE04015_desbI_H_2017-04-01_00:00:00_2018-02-28_23:00:00_H008001001_D008024001_W004168001' --use_tpu=true --train_batch_size=320 --train_steps=1406 --base_learning_rate=0.008 --iterations_per_loop=20000 --skip_host_call=false --save_summary_steps=20000 --log_step_count_steps=20000 --mode='train' --precision='bfloat16' --persist_parameters=False 1>../logs/DMSLSTM_TPU_88_01.txt 2>&1\n",
      "python3 train.py --model_dir='gs://cbidmltsf/models/DMSLSTM_TPU_88_02' --data_dir='gs://cbidmltsf/sldbs/CPE04015_desbI_H_2017-04-01_00:00:00_2018-02-28_23:00:00_H008001001_D008024001_W004168001' --use_tpu=true --train_batch_size=320 --train_steps=1406 --base_learning_rate=0.008 --iterations_per_loop=20000 --skip_host_call=false --save_summary_steps=20000 --log_step_count_steps=20000 --mode='train' --precision='bfloat16' --persist_parameters=False 1>../logs/DMSLSTM_TPU_88_02.txt 2>&1\n",
      "python3 train.py --model_dir='gs://cbidmltsf/models/DMSLSTM_TPU_88_03' --data_dir='gs://cbidmltsf/sldbs/CPE04015_desbI_H_2017-04-01_00:00:00_2018-02-28_23:00:00_H008001001_D008024001_W004168001' --use_tpu=true --train_batch_size=320 --train_steps=1406 --base_learning_rate=0.008 --iterations_per_loop=20000 --skip_host_call=false --save_summary_steps=20000 --log_step_count_steps=20000 --mode='train' --precision='bfloat16' --persist_parameters=False 1>../logs/DMSLSTM_TPU_88_03.txt 2>&1\n",
      "python3 train.py --model_dir='gs://cbidmltsf/models/DMSLSTM_TPU_88_04' --data_dir='gs://cbidmltsf/sldbs/CPE04015_desbI_H_2017-04-01_00:00:00_2018-02-28_23:00:00_H008001001_D008024001_W004168001' --use_tpu=true --train_batch_size=320 --train_steps=1406 --base_learning_rate=0.008 --iterations_per_loop=20000 --skip_host_call=false --save_summary_steps=20000 --log_step_count_steps=20000 --mode='train' --precision='bfloat16' --persist_parameters=False 1>../logs/DMSLSTM_TPU_88_04.txt 2>&1\n",
      "python3 train.py --model_dir='gs://cbidmltsf/models/DMSLSTM_TPU_88_05' --data_dir='gs://cbidmltsf/sldbs/CPE04015_desbI_H_2017-04-01_00:00:00_2018-02-28_23:00:00_H008001001_D008024001_W004168001' --use_tpu=true --train_batch_size=320 --train_steps=1406 --base_learning_rate=0.008 --iterations_per_loop=20000 --skip_host_call=false --save_summary_steps=20000 --log_step_count_steps=20000 --mode='train' --precision='bfloat16' --persist_parameters=False 1>../logs/DMSLSTM_TPU_88_05.txt 2>&1\n",
      "python3 train.py --model_dir='gs://cbidmltsf/models/DMSLSTM_TPU_88_06' --data_dir='gs://cbidmltsf/sldbs/CPE04015_desbI_H_2017-04-01_00:00:00_2018-02-28_23:00:00_H008001001_D008024001_W004168001' --use_tpu=true --train_batch_size=320 --train_steps=1406 --base_learning_rate=0.008 --iterations_per_loop=20000 --skip_host_call=false --save_summary_steps=20000 --log_step_count_steps=20000 --mode='train' --precision='bfloat16' --persist_parameters=False 1>../logs/DMSLSTM_TPU_88_06.txt 2>&1\n",
      "python3 train.py --model_dir='gs://cbidmltsf/models/DMSLSTM_TPU_88_07' --data_dir='gs://cbidmltsf/sldbs/CPE04015_desbI_H_2017-04-01_00:00:00_2018-02-28_23:00:00_H008001001_D008024001_W004168001' --use_tpu=true --train_batch_size=320 --train_steps=1406 --base_learning_rate=0.008 --iterations_per_loop=20000 --skip_host_call=false --save_summary_steps=20000 --log_step_count_steps=20000 --mode='train' --precision='bfloat16' --persist_parameters=False 1>../logs/DMSLSTM_TPU_88_07.txt 2>&1\n",
      "python3 train.py --model_dir='gs://cbidmltsf/models/DMSLSTM_TPU_88_08' --data_dir='gs://cbidmltsf/sldbs/CPE04015_desbI_H_2017-04-01_00:00:00_2018-02-28_23:00:00_H008001001_D008024001_W004168001' --use_tpu=true --train_batch_size=320 --train_steps=1406 --base_learning_rate=0.008 --iterations_per_loop=20000 --skip_host_call=false --save_summary_steps=20000 --log_step_count_steps=20000 --mode='train' --precision='bfloat16' --persist_parameters=False 1>../logs/DMSLSTM_TPU_88_08.txt 2>&1\n",
      "python3 train.py --model_dir='gs://cbidmltsf/models/DMSLSTM_TPU_88_09' --data_dir='gs://cbidmltsf/sldbs/CPE04015_desbI_H_2017-04-01_00:00:00_2018-02-28_23:00:00_H008001001_D008024001_W004168001' --use_tpu=true --train_batch_size=320 --train_steps=1406 --base_learning_rate=0.008 --iterations_per_loop=20000 --skip_host_call=false --save_summary_steps=20000 --log_step_count_steps=20000 --mode='train' --precision='bfloat16' --persist_parameters=False 1>../logs/DMSLSTM_TPU_88_09.txt 2>&1\n",
      "python3 train.py --model_dir='gs://cbidmltsf/models/DMSLSTM_TPU_89_00' --data_dir='gs://cbidmltsf/sldbs/CPE04015_desbI_H_2017-04-01_00:00:00_2018-02-28_23:00:00_H008001001_D008024001_W004168001' --use_tpu=true --train_batch_size=384 --train_steps=1172 --base_learning_rate=0.00666667 --iterations_per_loop=20000 --skip_host_call=false --save_summary_steps=20000 --log_step_count_steps=20000 --mode='train' --precision='bfloat16' --persist_parameters=True 1>../logs/DMSLSTM_TPU_89_00.txt 2>&1\n",
      "python3 train.py --model_dir='gs://cbidmltsf/models/DMSLSTM_TPU_89_01' --data_dir='gs://cbidmltsf/sldbs/CPE04015_desbI_H_2017-04-01_00:00:00_2018-02-28_23:00:00_H008001001_D008024001_W004168001' --use_tpu=true --train_batch_size=384 --train_steps=1172 --base_learning_rate=0.00666667 --iterations_per_loop=20000 --skip_host_call=false --save_summary_steps=20000 --log_step_count_steps=20000 --mode='train' --precision='bfloat16' --persist_parameters=False 1>../logs/DMSLSTM_TPU_89_01.txt 2>&1\n",
      "python3 train.py --model_dir='gs://cbidmltsf/models/DMSLSTM_TPU_89_02' --data_dir='gs://cbidmltsf/sldbs/CPE04015_desbI_H_2017-04-01_00:00:00_2018-02-28_23:00:00_H008001001_D008024001_W004168001' --use_tpu=true --train_batch_size=384 --train_steps=1172 --base_learning_rate=0.00666667 --iterations_per_loop=20000 --skip_host_call=false --save_summary_steps=20000 --log_step_count_steps=20000 --mode='train' --precision='bfloat16' --persist_parameters=False 1>../logs/DMSLSTM_TPU_89_02.txt 2>&1\n",
      "python3 train.py --model_dir='gs://cbidmltsf/models/DMSLSTM_TPU_89_03' --data_dir='gs://cbidmltsf/sldbs/CPE04015_desbI_H_2017-04-01_00:00:00_2018-02-28_23:00:00_H008001001_D008024001_W004168001' --use_tpu=true --train_batch_size=384 --train_steps=1172 --base_learning_rate=0.00666667 --iterations_per_loop=20000 --skip_host_call=false --save_summary_steps=20000 --log_step_count_steps=20000 --mode='train' --precision='bfloat16' --persist_parameters=False 1>../logs/DMSLSTM_TPU_89_03.txt 2>&1\n",
      "python3 train.py --model_dir='gs://cbidmltsf/models/DMSLSTM_TPU_89_04' --data_dir='gs://cbidmltsf/sldbs/CPE04015_desbI_H_2017-04-01_00:00:00_2018-02-28_23:00:00_H008001001_D008024001_W004168001' --use_tpu=true --train_batch_size=384 --train_steps=1172 --base_learning_rate=0.00666667 --iterations_per_loop=20000 --skip_host_call=false --save_summary_steps=20000 --log_step_count_steps=20000 --mode='train' --precision='bfloat16' --persist_parameters=False 1>../logs/DMSLSTM_TPU_89_04.txt 2>&1\n",
      "python3 train.py --model_dir='gs://cbidmltsf/models/DMSLSTM_TPU_89_05' --data_dir='gs://cbidmltsf/sldbs/CPE04015_desbI_H_2017-04-01_00:00:00_2018-02-28_23:00:00_H008001001_D008024001_W004168001' --use_tpu=true --train_batch_size=384 --train_steps=1172 --base_learning_rate=0.00666667 --iterations_per_loop=20000 --skip_host_call=false --save_summary_steps=20000 --log_step_count_steps=20000 --mode='train' --precision='bfloat16' --persist_parameters=False 1>../logs/DMSLSTM_TPU_89_05.txt 2>&1\n",
      "python3 train.py --model_dir='gs://cbidmltsf/models/DMSLSTM_TPU_89_06' --data_dir='gs://cbidmltsf/sldbs/CPE04015_desbI_H_2017-04-01_00:00:00_2018-02-28_23:00:00_H008001001_D008024001_W004168001' --use_tpu=true --train_batch_size=384 --train_steps=1172 --base_learning_rate=0.00666667 --iterations_per_loop=20000 --skip_host_call=false --save_summary_steps=20000 --log_step_count_steps=20000 --mode='train' --precision='bfloat16' --persist_parameters=False 1>../logs/DMSLSTM_TPU_89_06.txt 2>&1\n",
      "python3 train.py --model_dir='gs://cbidmltsf/models/DMSLSTM_TPU_89_07' --data_dir='gs://cbidmltsf/sldbs/CPE04015_desbI_H_2017-04-01_00:00:00_2018-02-28_23:00:00_H008001001_D008024001_W004168001' --use_tpu=true --train_batch_size=384 --train_steps=1172 --base_learning_rate=0.00666667 --iterations_per_loop=20000 --skip_host_call=false --save_summary_steps=20000 --log_step_count_steps=20000 --mode='train' --precision='bfloat16' --persist_parameters=False 1>../logs/DMSLSTM_TPU_89_07.txt 2>&1\n",
      "python3 train.py --model_dir='gs://cbidmltsf/models/DMSLSTM_TPU_89_08' --data_dir='gs://cbidmltsf/sldbs/CPE04015_desbI_H_2017-04-01_00:00:00_2018-02-28_23:00:00_H008001001_D008024001_W004168001' --use_tpu=true --train_batch_size=384 --train_steps=1172 --base_learning_rate=0.00666667 --iterations_per_loop=20000 --skip_host_call=false --save_summary_steps=20000 --log_step_count_steps=20000 --mode='train' --precision='bfloat16' --persist_parameters=False 1>../logs/DMSLSTM_TPU_89_08.txt 2>&1\n",
      "python3 train.py --model_dir='gs://cbidmltsf/models/DMSLSTM_TPU_89_09' --data_dir='gs://cbidmltsf/sldbs/CPE04015_desbI_H_2017-04-01_00:00:00_2018-02-28_23:00:00_H008001001_D008024001_W004168001' --use_tpu=true --train_batch_size=384 --train_steps=1172 --base_learning_rate=0.00666667 --iterations_per_loop=20000 --skip_host_call=false --save_summary_steps=20000 --log_step_count_steps=20000 --mode='train' --precision='bfloat16' --persist_parameters=False 1>../logs/DMSLSTM_TPU_89_09.txt 2>&1\n",
      "python3 train.py --model_dir='gs://cbidmltsf/models/DMSLSTM_TPU_91_00' --data_dir='gs://cbidmltsf/sldbs/CPE04015_desbI_H_2017-04-01_00:00:00_2018-02-28_23:00:00_H008001001_D008024001_W004168001' --use_tpu=true --train_batch_size=448 --train_steps=1004 --base_learning_rate=0.00571429 --iterations_per_loop=20000 --skip_host_call=false --save_summary_steps=20000 --log_step_count_steps=20000 --mode='train' --precision='bfloat16' --persist_parameters=True 1>../logs/DMSLSTM_TPU_91_00.txt 2>&1\n",
      "python3 train.py --model_dir='gs://cbidmltsf/models/DMSLSTM_TPU_91_01' --data_dir='gs://cbidmltsf/sldbs/CPE04015_desbI_H_2017-04-01_00:00:00_2018-02-28_23:00:00_H008001001_D008024001_W004168001' --use_tpu=true --train_batch_size=448 --train_steps=1004 --base_learning_rate=0.00571429 --iterations_per_loop=20000 --skip_host_call=false --save_summary_steps=20000 --log_step_count_steps=20000 --mode='train' --precision='bfloat16' --persist_parameters=False 1>../logs/DMSLSTM_TPU_91_01.txt 2>&1\n",
      "python3 train.py --model_dir='gs://cbidmltsf/models/DMSLSTM_TPU_91_02' --data_dir='gs://cbidmltsf/sldbs/CPE04015_desbI_H_2017-04-01_00:00:00_2018-02-28_23:00:00_H008001001_D008024001_W004168001' --use_tpu=true --train_batch_size=448 --train_steps=1004 --base_learning_rate=0.00571429 --iterations_per_loop=20000 --skip_host_call=false --save_summary_steps=20000 --log_step_count_steps=20000 --mode='train' --precision='bfloat16' --persist_parameters=False 1>../logs/DMSLSTM_TPU_91_02.txt 2>&1\n",
      "python3 train.py --model_dir='gs://cbidmltsf/models/DMSLSTM_TPU_91_03' --data_dir='gs://cbidmltsf/sldbs/CPE04015_desbI_H_2017-04-01_00:00:00_2018-02-28_23:00:00_H008001001_D008024001_W004168001' --use_tpu=true --train_batch_size=448 --train_steps=1004 --base_learning_rate=0.00571429 --iterations_per_loop=20000 --skip_host_call=false --save_summary_steps=20000 --log_step_count_steps=20000 --mode='train' --precision='bfloat16' --persist_parameters=False 1>../logs/DMSLSTM_TPU_91_03.txt 2>&1\n",
      "python3 train.py --model_dir='gs://cbidmltsf/models/DMSLSTM_TPU_91_04' --data_dir='gs://cbidmltsf/sldbs/CPE04015_desbI_H_2017-04-01_00:00:00_2018-02-28_23:00:00_H008001001_D008024001_W004168001' --use_tpu=true --train_batch_size=448 --train_steps=1004 --base_learning_rate=0.00571429 --iterations_per_loop=20000 --skip_host_call=false --save_summary_steps=20000 --log_step_count_steps=20000 --mode='train' --precision='bfloat16' --persist_parameters=False 1>../logs/DMSLSTM_TPU_91_04.txt 2>&1\n",
      "python3 train.py --model_dir='gs://cbidmltsf/models/DMSLSTM_TPU_91_05' --data_dir='gs://cbidmltsf/sldbs/CPE04015_desbI_H_2017-04-01_00:00:00_2018-02-28_23:00:00_H008001001_D008024001_W004168001' --use_tpu=true --train_batch_size=448 --train_steps=1004 --base_learning_rate=0.00571429 --iterations_per_loop=20000 --skip_host_call=false --save_summary_steps=20000 --log_step_count_steps=20000 --mode='train' --precision='bfloat16' --persist_parameters=False 1>../logs/DMSLSTM_TPU_91_05.txt 2>&1\n",
      "python3 train.py --model_dir='gs://cbidmltsf/models/DMSLSTM_TPU_91_06' --data_dir='gs://cbidmltsf/sldbs/CPE04015_desbI_H_2017-04-01_00:00:00_2018-02-28_23:00:00_H008001001_D008024001_W004168001' --use_tpu=true --train_batch_size=448 --train_steps=1004 --base_learning_rate=0.00571429 --iterations_per_loop=20000 --skip_host_call=false --save_summary_steps=20000 --log_step_count_steps=20000 --mode='train' --precision='bfloat16' --persist_parameters=False 1>../logs/DMSLSTM_TPU_91_06.txt 2>&1\n",
      "python3 train.py --model_dir='gs://cbidmltsf/models/DMSLSTM_TPU_91_07' --data_dir='gs://cbidmltsf/sldbs/CPE04015_desbI_H_2017-04-01_00:00:00_2018-02-28_23:00:00_H008001001_D008024001_W004168001' --use_tpu=true --train_batch_size=448 --train_steps=1004 --base_learning_rate=0.00571429 --iterations_per_loop=20000 --skip_host_call=false --save_summary_steps=20000 --log_step_count_steps=20000 --mode='train' --precision='bfloat16' --persist_parameters=False 1>../logs/DMSLSTM_TPU_91_07.txt 2>&1\n",
      "python3 train.py --model_dir='gs://cbidmltsf/models/DMSLSTM_TPU_91_08' --data_dir='gs://cbidmltsf/sldbs/CPE04015_desbI_H_2017-04-01_00:00:00_2018-02-28_23:00:00_H008001001_D008024001_W004168001' --use_tpu=true --train_batch_size=448 --train_steps=1004 --base_learning_rate=0.00571429 --iterations_per_loop=20000 --skip_host_call=false --save_summary_steps=20000 --log_step_count_steps=20000 --mode='train' --precision='bfloat16' --persist_parameters=False 1>../logs/DMSLSTM_TPU_91_08.txt 2>&1\n",
      "python3 train.py --model_dir='gs://cbidmltsf/models/DMSLSTM_TPU_91_09' --data_dir='gs://cbidmltsf/sldbs/CPE04015_desbI_H_2017-04-01_00:00:00_2018-02-28_23:00:00_H008001001_D008024001_W004168001' --use_tpu=true --train_batch_size=448 --train_steps=1004 --base_learning_rate=0.00571429 --iterations_per_loop=20000 --skip_host_call=false --save_summary_steps=20000 --log_step_count_steps=20000 --mode='train' --precision='bfloat16' --persist_parameters=False 1>../logs/DMSLSTM_TPU_91_09.txt 2>&1\n",
      "python3 train.py --model_dir='gs://cbidmltsf/models/DMSLSTM_TPU_92_00' --data_dir='gs://cbidmltsf/sldbs/CPE04015_desbI_H_2017-04-01_00:00:00_2018-02-28_23:00:00_H008001001_D008024001_W004168001' --use_tpu=true --train_batch_size=576 --train_steps=781 --base_learning_rate=0.00444444 --iterations_per_loop=20000 --skip_host_call=false --save_summary_steps=20000 --log_step_count_steps=20000 --mode='train' --precision='bfloat16' --persist_parameters=True 1>../logs/DMSLSTM_TPU_92_00.txt 2>&1\n",
      "python3 train.py --model_dir='gs://cbidmltsf/models/DMSLSTM_TPU_92_01' --data_dir='gs://cbidmltsf/sldbs/CPE04015_desbI_H_2017-04-01_00:00:00_2018-02-28_23:00:00_H008001001_D008024001_W004168001' --use_tpu=true --train_batch_size=576 --train_steps=781 --base_learning_rate=0.00444444 --iterations_per_loop=20000 --skip_host_call=false --save_summary_steps=20000 --log_step_count_steps=20000 --mode='train' --precision='bfloat16' --persist_parameters=False 1>../logs/DMSLSTM_TPU_92_01.txt 2>&1\n",
      "python3 train.py --model_dir='gs://cbidmltsf/models/DMSLSTM_TPU_92_02' --data_dir='gs://cbidmltsf/sldbs/CPE04015_desbI_H_2017-04-01_00:00:00_2018-02-28_23:00:00_H008001001_D008024001_W004168001' --use_tpu=true --train_batch_size=576 --train_steps=781 --base_learning_rate=0.00444444 --iterations_per_loop=20000 --skip_host_call=false --save_summary_steps=20000 --log_step_count_steps=20000 --mode='train' --precision='bfloat16' --persist_parameters=False 1>../logs/DMSLSTM_TPU_92_02.txt 2>&1\n",
      "python3 train.py --model_dir='gs://cbidmltsf/models/DMSLSTM_TPU_92_03' --data_dir='gs://cbidmltsf/sldbs/CPE04015_desbI_H_2017-04-01_00:00:00_2018-02-28_23:00:00_H008001001_D008024001_W004168001' --use_tpu=true --train_batch_size=576 --train_steps=781 --base_learning_rate=0.00444444 --iterations_per_loop=20000 --skip_host_call=false --save_summary_steps=20000 --log_step_count_steps=20000 --mode='train' --precision='bfloat16' --persist_parameters=False 1>../logs/DMSLSTM_TPU_92_03.txt 2>&1\n",
      "python3 train.py --model_dir='gs://cbidmltsf/models/DMSLSTM_TPU_92_04' --data_dir='gs://cbidmltsf/sldbs/CPE04015_desbI_H_2017-04-01_00:00:00_2018-02-28_23:00:00_H008001001_D008024001_W004168001' --use_tpu=true --train_batch_size=576 --train_steps=781 --base_learning_rate=0.00444444 --iterations_per_loop=20000 --skip_host_call=false --save_summary_steps=20000 --log_step_count_steps=20000 --mode='train' --precision='bfloat16' --persist_parameters=False 1>../logs/DMSLSTM_TPU_92_04.txt 2>&1\n",
      "python3 train.py --model_dir='gs://cbidmltsf/models/DMSLSTM_TPU_92_05' --data_dir='gs://cbidmltsf/sldbs/CPE04015_desbI_H_2017-04-01_00:00:00_2018-02-28_23:00:00_H008001001_D008024001_W004168001' --use_tpu=true --train_batch_size=576 --train_steps=781 --base_learning_rate=0.00444444 --iterations_per_loop=20000 --skip_host_call=false --save_summary_steps=20000 --log_step_count_steps=20000 --mode='train' --precision='bfloat16' --persist_parameters=False 1>../logs/DMSLSTM_TPU_92_05.txt 2>&1\n",
      "python3 train.py --model_dir='gs://cbidmltsf/models/DMSLSTM_TPU_92_06' --data_dir='gs://cbidmltsf/sldbs/CPE04015_desbI_H_2017-04-01_00:00:00_2018-02-28_23:00:00_H008001001_D008024001_W004168001' --use_tpu=true --train_batch_size=576 --train_steps=781 --base_learning_rate=0.00444444 --iterations_per_loop=20000 --skip_host_call=false --save_summary_steps=20000 --log_step_count_steps=20000 --mode='train' --precision='bfloat16' --persist_parameters=False 1>../logs/DMSLSTM_TPU_92_06.txt 2>&1\n",
      "python3 train.py --model_dir='gs://cbidmltsf/models/DMSLSTM_TPU_92_07' --data_dir='gs://cbidmltsf/sldbs/CPE04015_desbI_H_2017-04-01_00:00:00_2018-02-28_23:00:00_H008001001_D008024001_W004168001' --use_tpu=true --train_batch_size=576 --train_steps=781 --base_learning_rate=0.00444444 --iterations_per_loop=20000 --skip_host_call=false --save_summary_steps=20000 --log_step_count_steps=20000 --mode='train' --precision='bfloat16' --persist_parameters=False 1>../logs/DMSLSTM_TPU_92_07.txt 2>&1\n",
      "python3 train.py --model_dir='gs://cbidmltsf/models/DMSLSTM_TPU_92_08' --data_dir='gs://cbidmltsf/sldbs/CPE04015_desbI_H_2017-04-01_00:00:00_2018-02-28_23:00:00_H008001001_D008024001_W004168001' --use_tpu=true --train_batch_size=576 --train_steps=781 --base_learning_rate=0.00444444 --iterations_per_loop=20000 --skip_host_call=false --save_summary_steps=20000 --log_step_count_steps=20000 --mode='train' --precision='bfloat16' --persist_parameters=False 1>../logs/DMSLSTM_TPU_92_08.txt 2>&1\n",
      "python3 train.py --model_dir='gs://cbidmltsf/models/DMSLSTM_TPU_92_09' --data_dir='gs://cbidmltsf/sldbs/CPE04015_desbI_H_2017-04-01_00:00:00_2018-02-28_23:00:00_H008001001_D008024001_W004168001' --use_tpu=true --train_batch_size=576 --train_steps=781 --base_learning_rate=0.00444444 --iterations_per_loop=20000 --skip_host_call=false --save_summary_steps=20000 --log_step_count_steps=20000 --mode='train' --precision='bfloat16' --persist_parameters=False 1>../logs/DMSLSTM_TPU_92_09.txt 2>&1\n",
      "python3 train.py --model_dir='gs://cbidmltsf/models/DMSLSTM_TPU_93_00' --data_dir='gs://cbidmltsf/sldbs/CPE04015_desbI_H_2017-04-01_00:00:00_2018-02-28_23:00:00_H008001001_D008024001_W004168001' --use_tpu=true --train_batch_size=640 --train_steps=703 --base_learning_rate=0.004 --iterations_per_loop=20000 --skip_host_call=false --save_summary_steps=20000 --log_step_count_steps=20000 --mode='train' --precision='bfloat16' --persist_parameters=True 1>../logs/DMSLSTM_TPU_93_00.txt 2>&1\n",
      "python3 train.py --model_dir='gs://cbidmltsf/models/DMSLSTM_TPU_93_01' --data_dir='gs://cbidmltsf/sldbs/CPE04015_desbI_H_2017-04-01_00:00:00_2018-02-28_23:00:00_H008001001_D008024001_W004168001' --use_tpu=true --train_batch_size=640 --train_steps=703 --base_learning_rate=0.004 --iterations_per_loop=20000 --skip_host_call=false --save_summary_steps=20000 --log_step_count_steps=20000 --mode='train' --precision='bfloat16' --persist_parameters=False 1>../logs/DMSLSTM_TPU_93_01.txt 2>&1\n",
      "python3 train.py --model_dir='gs://cbidmltsf/models/DMSLSTM_TPU_93_02' --data_dir='gs://cbidmltsf/sldbs/CPE04015_desbI_H_2017-04-01_00:00:00_2018-02-28_23:00:00_H008001001_D008024001_W004168001' --use_tpu=true --train_batch_size=640 --train_steps=703 --base_learning_rate=0.004 --iterations_per_loop=20000 --skip_host_call=false --save_summary_steps=20000 --log_step_count_steps=20000 --mode='train' --precision='bfloat16' --persist_parameters=False 1>../logs/DMSLSTM_TPU_93_02.txt 2>&1\n",
      "python3 train.py --model_dir='gs://cbidmltsf/models/DMSLSTM_TPU_93_03' --data_dir='gs://cbidmltsf/sldbs/CPE04015_desbI_H_2017-04-01_00:00:00_2018-02-28_23:00:00_H008001001_D008024001_W004168001' --use_tpu=true --train_batch_size=640 --train_steps=703 --base_learning_rate=0.004 --iterations_per_loop=20000 --skip_host_call=false --save_summary_steps=20000 --log_step_count_steps=20000 --mode='train' --precision='bfloat16' --persist_parameters=False 1>../logs/DMSLSTM_TPU_93_03.txt 2>&1\n",
      "python3 train.py --model_dir='gs://cbidmltsf/models/DMSLSTM_TPU_93_04' --data_dir='gs://cbidmltsf/sldbs/CPE04015_desbI_H_2017-04-01_00:00:00_2018-02-28_23:00:00_H008001001_D008024001_W004168001' --use_tpu=true --train_batch_size=640 --train_steps=703 --base_learning_rate=0.004 --iterations_per_loop=20000 --skip_host_call=false --save_summary_steps=20000 --log_step_count_steps=20000 --mode='train' --precision='bfloat16' --persist_parameters=False 1>../logs/DMSLSTM_TPU_93_04.txt 2>&1\n",
      "python3 train.py --model_dir='gs://cbidmltsf/models/DMSLSTM_TPU_93_05' --data_dir='gs://cbidmltsf/sldbs/CPE04015_desbI_H_2017-04-01_00:00:00_2018-02-28_23:00:00_H008001001_D008024001_W004168001' --use_tpu=true --train_batch_size=640 --train_steps=703 --base_learning_rate=0.004 --iterations_per_loop=20000 --skip_host_call=false --save_summary_steps=20000 --log_step_count_steps=20000 --mode='train' --precision='bfloat16' --persist_parameters=False 1>../logs/DMSLSTM_TPU_93_05.txt 2>&1\n",
      "python3 train.py --model_dir='gs://cbidmltsf/models/DMSLSTM_TPU_93_06' --data_dir='gs://cbidmltsf/sldbs/CPE04015_desbI_H_2017-04-01_00:00:00_2018-02-28_23:00:00_H008001001_D008024001_W004168001' --use_tpu=true --train_batch_size=640 --train_steps=703 --base_learning_rate=0.004 --iterations_per_loop=20000 --skip_host_call=false --save_summary_steps=20000 --log_step_count_steps=20000 --mode='train' --precision='bfloat16' --persist_parameters=False 1>../logs/DMSLSTM_TPU_93_06.txt 2>&1\n",
      "python3 train.py --model_dir='gs://cbidmltsf/models/DMSLSTM_TPU_93_07' --data_dir='gs://cbidmltsf/sldbs/CPE04015_desbI_H_2017-04-01_00:00:00_2018-02-28_23:00:00_H008001001_D008024001_W004168001' --use_tpu=true --train_batch_size=640 --train_steps=703 --base_learning_rate=0.004 --iterations_per_loop=20000 --skip_host_call=false --save_summary_steps=20000 --log_step_count_steps=20000 --mode='train' --precision='bfloat16' --persist_parameters=False 1>../logs/DMSLSTM_TPU_93_07.txt 2>&1\n",
      "python3 train.py --model_dir='gs://cbidmltsf/models/DMSLSTM_TPU_93_08' --data_dir='gs://cbidmltsf/sldbs/CPE04015_desbI_H_2017-04-01_00:00:00_2018-02-28_23:00:00_H008001001_D008024001_W004168001' --use_tpu=true --train_batch_size=640 --train_steps=703 --base_learning_rate=0.004 --iterations_per_loop=20000 --skip_host_call=false --save_summary_steps=20000 --log_step_count_steps=20000 --mode='train' --precision='bfloat16' --persist_parameters=False 1>../logs/DMSLSTM_TPU_93_08.txt 2>&1\n",
      "python3 train.py --model_dir='gs://cbidmltsf/models/DMSLSTM_TPU_93_09' --data_dir='gs://cbidmltsf/sldbs/CPE04015_desbI_H_2017-04-01_00:00:00_2018-02-28_23:00:00_H008001001_D008024001_W004168001' --use_tpu=true --train_batch_size=640 --train_steps=703 --base_learning_rate=0.004 --iterations_per_loop=20000 --skip_host_call=false --save_summary_steps=20000 --log_step_count_steps=20000 --mode='train' --precision='bfloat16' --persist_parameters=False 1>../logs/DMSLSTM_TPU_93_09.txt 2>&1\n",
      "python3 train.py --model_dir='gs://cbidmltsf/models/DMSLSTM_TPU_94_00' --data_dir='gs://cbidmltsf/sldbs/CPE04015_desbI_H_2017-04-01_00:00:00_2018-02-28_23:00:00_H008001001_D008024001_W004168001' --use_tpu=true --train_batch_size=704 --train_steps=639 --base_learning_rate=0.00363636 --iterations_per_loop=20000 --skip_host_call=false --save_summary_steps=20000 --log_step_count_steps=20000 --mode='train' --precision='bfloat16' --persist_parameters=True 1>../logs/DMSLSTM_TPU_94_00.txt 2>&1\n",
      "python3 train.py --model_dir='gs://cbidmltsf/models/DMSLSTM_TPU_94_01' --data_dir='gs://cbidmltsf/sldbs/CPE04015_desbI_H_2017-04-01_00:00:00_2018-02-28_23:00:00_H008001001_D008024001_W004168001' --use_tpu=true --train_batch_size=704 --train_steps=639 --base_learning_rate=0.00363636 --iterations_per_loop=20000 --skip_host_call=false --save_summary_steps=20000 --log_step_count_steps=20000 --mode='train' --precision='bfloat16' --persist_parameters=False 1>../logs/DMSLSTM_TPU_94_01.txt 2>&1\n",
      "python3 train.py --model_dir='gs://cbidmltsf/models/DMSLSTM_TPU_94_02' --data_dir='gs://cbidmltsf/sldbs/CPE04015_desbI_H_2017-04-01_00:00:00_2018-02-28_23:00:00_H008001001_D008024001_W004168001' --use_tpu=true --train_batch_size=704 --train_steps=639 --base_learning_rate=0.00363636 --iterations_per_loop=20000 --skip_host_call=false --save_summary_steps=20000 --log_step_count_steps=20000 --mode='train' --precision='bfloat16' --persist_parameters=False 1>../logs/DMSLSTM_TPU_94_02.txt 2>&1\n",
      "python3 train.py --model_dir='gs://cbidmltsf/models/DMSLSTM_TPU_94_03' --data_dir='gs://cbidmltsf/sldbs/CPE04015_desbI_H_2017-04-01_00:00:00_2018-02-28_23:00:00_H008001001_D008024001_W004168001' --use_tpu=true --train_batch_size=704 --train_steps=639 --base_learning_rate=0.00363636 --iterations_per_loop=20000 --skip_host_call=false --save_summary_steps=20000 --log_step_count_steps=20000 --mode='train' --precision='bfloat16' --persist_parameters=False 1>../logs/DMSLSTM_TPU_94_03.txt 2>&1\n",
      "python3 train.py --model_dir='gs://cbidmltsf/models/DMSLSTM_TPU_94_04' --data_dir='gs://cbidmltsf/sldbs/CPE04015_desbI_H_2017-04-01_00:00:00_2018-02-28_23:00:00_H008001001_D008024001_W004168001' --use_tpu=true --train_batch_size=704 --train_steps=639 --base_learning_rate=0.00363636 --iterations_per_loop=20000 --skip_host_call=false --save_summary_steps=20000 --log_step_count_steps=20000 --mode='train' --precision='bfloat16' --persist_parameters=False 1>../logs/DMSLSTM_TPU_94_04.txt 2>&1\n",
      "python3 train.py --model_dir='gs://cbidmltsf/models/DMSLSTM_TPU_94_05' --data_dir='gs://cbidmltsf/sldbs/CPE04015_desbI_H_2017-04-01_00:00:00_2018-02-28_23:00:00_H008001001_D008024001_W004168001' --use_tpu=true --train_batch_size=704 --train_steps=639 --base_learning_rate=0.00363636 --iterations_per_loop=20000 --skip_host_call=false --save_summary_steps=20000 --log_step_count_steps=20000 --mode='train' --precision='bfloat16' --persist_parameters=False 1>../logs/DMSLSTM_TPU_94_05.txt 2>&1\n",
      "python3 train.py --model_dir='gs://cbidmltsf/models/DMSLSTM_TPU_94_06' --data_dir='gs://cbidmltsf/sldbs/CPE04015_desbI_H_2017-04-01_00:00:00_2018-02-28_23:00:00_H008001001_D008024001_W004168001' --use_tpu=true --train_batch_size=704 --train_steps=639 --base_learning_rate=0.00363636 --iterations_per_loop=20000 --skip_host_call=false --save_summary_steps=20000 --log_step_count_steps=20000 --mode='train' --precision='bfloat16' --persist_parameters=False 1>../logs/DMSLSTM_TPU_94_06.txt 2>&1\n",
      "python3 train.py --model_dir='gs://cbidmltsf/models/DMSLSTM_TPU_94_07' --data_dir='gs://cbidmltsf/sldbs/CPE04015_desbI_H_2017-04-01_00:00:00_2018-02-28_23:00:00_H008001001_D008024001_W004168001' --use_tpu=true --train_batch_size=704 --train_steps=639 --base_learning_rate=0.00363636 --iterations_per_loop=20000 --skip_host_call=false --save_summary_steps=20000 --log_step_count_steps=20000 --mode='train' --precision='bfloat16' --persist_parameters=False 1>../logs/DMSLSTM_TPU_94_07.txt 2>&1\n",
      "python3 train.py --model_dir='gs://cbidmltsf/models/DMSLSTM_TPU_94_08' --data_dir='gs://cbidmltsf/sldbs/CPE04015_desbI_H_2017-04-01_00:00:00_2018-02-28_23:00:00_H008001001_D008024001_W004168001' --use_tpu=true --train_batch_size=704 --train_steps=639 --base_learning_rate=0.00363636 --iterations_per_loop=20000 --skip_host_call=false --save_summary_steps=20000 --log_step_count_steps=20000 --mode='train' --precision='bfloat16' --persist_parameters=False 1>../logs/DMSLSTM_TPU_94_08.txt 2>&1\n",
      "python3 train.py --model_dir='gs://cbidmltsf/models/DMSLSTM_TPU_94_09' --data_dir='gs://cbidmltsf/sldbs/CPE04015_desbI_H_2017-04-01_00:00:00_2018-02-28_23:00:00_H008001001_D008024001_W004168001' --use_tpu=true --train_batch_size=704 --train_steps=639 --base_learning_rate=0.00363636 --iterations_per_loop=20000 --skip_host_call=false --save_summary_steps=20000 --log_step_count_steps=20000 --mode='train' --precision='bfloat16' --persist_parameters=False 1>../logs/DMSLSTM_TPU_94_09.txt 2>&1\n",
      "python3 train.py --model_dir='gs://cbidmltsf/models/DMSLSTM_TPU_95_00' --data_dir='gs://cbidmltsf/sldbs/CPE04015_desbI_H_2017-04-01_00:00:00_2018-02-28_23:00:00_H008001001_D008024001_W004168001' --use_tpu=true --train_batch_size=768 --train_steps=586 --base_learning_rate=0.00333333 --iterations_per_loop=20000 --skip_host_call=false --save_summary_steps=20000 --log_step_count_steps=20000 --mode='train' --precision='bfloat16' --persist_parameters=True 1>../logs/DMSLSTM_TPU_95_00.txt 2>&1\n",
      "python3 train.py --model_dir='gs://cbidmltsf/models/DMSLSTM_TPU_95_01' --data_dir='gs://cbidmltsf/sldbs/CPE04015_desbI_H_2017-04-01_00:00:00_2018-02-28_23:00:00_H008001001_D008024001_W004168001' --use_tpu=true --train_batch_size=768 --train_steps=586 --base_learning_rate=0.00333333 --iterations_per_loop=20000 --skip_host_call=false --save_summary_steps=20000 --log_step_count_steps=20000 --mode='train' --precision='bfloat16' --persist_parameters=False 1>../logs/DMSLSTM_TPU_95_01.txt 2>&1\n",
      "python3 train.py --model_dir='gs://cbidmltsf/models/DMSLSTM_TPU_95_02' --data_dir='gs://cbidmltsf/sldbs/CPE04015_desbI_H_2017-04-01_00:00:00_2018-02-28_23:00:00_H008001001_D008024001_W004168001' --use_tpu=true --train_batch_size=768 --train_steps=586 --base_learning_rate=0.00333333 --iterations_per_loop=20000 --skip_host_call=false --save_summary_steps=20000 --log_step_count_steps=20000 --mode='train' --precision='bfloat16' --persist_parameters=False 1>../logs/DMSLSTM_TPU_95_02.txt 2>&1\n",
      "python3 train.py --model_dir='gs://cbidmltsf/models/DMSLSTM_TPU_95_03' --data_dir='gs://cbidmltsf/sldbs/CPE04015_desbI_H_2017-04-01_00:00:00_2018-02-28_23:00:00_H008001001_D008024001_W004168001' --use_tpu=true --train_batch_size=768 --train_steps=586 --base_learning_rate=0.00333333 --iterations_per_loop=20000 --skip_host_call=false --save_summary_steps=20000 --log_step_count_steps=20000 --mode='train' --precision='bfloat16' --persist_parameters=False 1>../logs/DMSLSTM_TPU_95_03.txt 2>&1\n",
      "python3 train.py --model_dir='gs://cbidmltsf/models/DMSLSTM_TPU_95_04' --data_dir='gs://cbidmltsf/sldbs/CPE04015_desbI_H_2017-04-01_00:00:00_2018-02-28_23:00:00_H008001001_D008024001_W004168001' --use_tpu=true --train_batch_size=768 --train_steps=586 --base_learning_rate=0.00333333 --iterations_per_loop=20000 --skip_host_call=false --save_summary_steps=20000 --log_step_count_steps=20000 --mode='train' --precision='bfloat16' --persist_parameters=False 1>../logs/DMSLSTM_TPU_95_04.txt 2>&1\n",
      "python3 train.py --model_dir='gs://cbidmltsf/models/DMSLSTM_TPU_95_05' --data_dir='gs://cbidmltsf/sldbs/CPE04015_desbI_H_2017-04-01_00:00:00_2018-02-28_23:00:00_H008001001_D008024001_W004168001' --use_tpu=true --train_batch_size=768 --train_steps=586 --base_learning_rate=0.00333333 --iterations_per_loop=20000 --skip_host_call=false --save_summary_steps=20000 --log_step_count_steps=20000 --mode='train' --precision='bfloat16' --persist_parameters=False 1>../logs/DMSLSTM_TPU_95_05.txt 2>&1\n",
      "python3 train.py --model_dir='gs://cbidmltsf/models/DMSLSTM_TPU_95_06' --data_dir='gs://cbidmltsf/sldbs/CPE04015_desbI_H_2017-04-01_00:00:00_2018-02-28_23:00:00_H008001001_D008024001_W004168001' --use_tpu=true --train_batch_size=768 --train_steps=586 --base_learning_rate=0.00333333 --iterations_per_loop=20000 --skip_host_call=false --save_summary_steps=20000 --log_step_count_steps=20000 --mode='train' --precision='bfloat16' --persist_parameters=False 1>../logs/DMSLSTM_TPU_95_06.txt 2>&1\n",
      "python3 train.py --model_dir='gs://cbidmltsf/models/DMSLSTM_TPU_95_07' --data_dir='gs://cbidmltsf/sldbs/CPE04015_desbI_H_2017-04-01_00:00:00_2018-02-28_23:00:00_H008001001_D008024001_W004168001' --use_tpu=true --train_batch_size=768 --train_steps=586 --base_learning_rate=0.00333333 --iterations_per_loop=20000 --skip_host_call=false --save_summary_steps=20000 --log_step_count_steps=20000 --mode='train' --precision='bfloat16' --persist_parameters=False 1>../logs/DMSLSTM_TPU_95_07.txt 2>&1\n",
      "python3 train.py --model_dir='gs://cbidmltsf/models/DMSLSTM_TPU_95_08' --data_dir='gs://cbidmltsf/sldbs/CPE04015_desbI_H_2017-04-01_00:00:00_2018-02-28_23:00:00_H008001001_D008024001_W004168001' --use_tpu=true --train_batch_size=768 --train_steps=586 --base_learning_rate=0.00333333 --iterations_per_loop=20000 --skip_host_call=false --save_summary_steps=20000 --log_step_count_steps=20000 --mode='train' --precision='bfloat16' --persist_parameters=False 1>../logs/DMSLSTM_TPU_95_08.txt 2>&1\n",
      "python3 train.py --model_dir='gs://cbidmltsf/models/DMSLSTM_TPU_95_09' --data_dir='gs://cbidmltsf/sldbs/CPE04015_desbI_H_2017-04-01_00:00:00_2018-02-28_23:00:00_H008001001_D008024001_W004168001' --use_tpu=true --train_batch_size=768 --train_steps=586 --base_learning_rate=0.00333333 --iterations_per_loop=20000 --skip_host_call=false --save_summary_steps=20000 --log_step_count_steps=20000 --mode='train' --precision='bfloat16' --persist_parameters=False 1>../logs/DMSLSTM_TPU_95_09.txt 2>&1\n",
      "python3 train.py --model_dir='gs://cbidmltsf/models/DMSLSTM_TPU_96_00' --data_dir='gs://cbidmltsf/sldbs/CPE04015_desbI_H_2017-04-01_00:00:00_2018-02-28_23:00:00_H008001001_D008024001_W004168001' --use_tpu=true --train_batch_size=832 --train_steps=541 --base_learning_rate=0.00307692 --iterations_per_loop=20000 --skip_host_call=false --save_summary_steps=20000 --log_step_count_steps=20000 --mode='train' --precision='bfloat16' --persist_parameters=True 1>../logs/DMSLSTM_TPU_96_00.txt 2>&1\n",
      "python3 train.py --model_dir='gs://cbidmltsf/models/DMSLSTM_TPU_96_01' --data_dir='gs://cbidmltsf/sldbs/CPE04015_desbI_H_2017-04-01_00:00:00_2018-02-28_23:00:00_H008001001_D008024001_W004168001' --use_tpu=true --train_batch_size=832 --train_steps=541 --base_learning_rate=0.00307692 --iterations_per_loop=20000 --skip_host_call=false --save_summary_steps=20000 --log_step_count_steps=20000 --mode='train' --precision='bfloat16' --persist_parameters=False 1>../logs/DMSLSTM_TPU_96_01.txt 2>&1\n",
      "python3 train.py --model_dir='gs://cbidmltsf/models/DMSLSTM_TPU_96_02' --data_dir='gs://cbidmltsf/sldbs/CPE04015_desbI_H_2017-04-01_00:00:00_2018-02-28_23:00:00_H008001001_D008024001_W004168001' --use_tpu=true --train_batch_size=832 --train_steps=541 --base_learning_rate=0.00307692 --iterations_per_loop=20000 --skip_host_call=false --save_summary_steps=20000 --log_step_count_steps=20000 --mode='train' --precision='bfloat16' --persist_parameters=False 1>../logs/DMSLSTM_TPU_96_02.txt 2>&1\n",
      "python3 train.py --model_dir='gs://cbidmltsf/models/DMSLSTM_TPU_96_03' --data_dir='gs://cbidmltsf/sldbs/CPE04015_desbI_H_2017-04-01_00:00:00_2018-02-28_23:00:00_H008001001_D008024001_W004168001' --use_tpu=true --train_batch_size=832 --train_steps=541 --base_learning_rate=0.00307692 --iterations_per_loop=20000 --skip_host_call=false --save_summary_steps=20000 --log_step_count_steps=20000 --mode='train' --precision='bfloat16' --persist_parameters=False 1>../logs/DMSLSTM_TPU_96_03.txt 2>&1\n",
      "python3 train.py --model_dir='gs://cbidmltsf/models/DMSLSTM_TPU_96_04' --data_dir='gs://cbidmltsf/sldbs/CPE04015_desbI_H_2017-04-01_00:00:00_2018-02-28_23:00:00_H008001001_D008024001_W004168001' --use_tpu=true --train_batch_size=832 --train_steps=541 --base_learning_rate=0.00307692 --iterations_per_loop=20000 --skip_host_call=false --save_summary_steps=20000 --log_step_count_steps=20000 --mode='train' --precision='bfloat16' --persist_parameters=False 1>../logs/DMSLSTM_TPU_96_04.txt 2>&1\n",
      "python3 train.py --model_dir='gs://cbidmltsf/models/DMSLSTM_TPU_96_05' --data_dir='gs://cbidmltsf/sldbs/CPE04015_desbI_H_2017-04-01_00:00:00_2018-02-28_23:00:00_H008001001_D008024001_W004168001' --use_tpu=true --train_batch_size=832 --train_steps=541 --base_learning_rate=0.00307692 --iterations_per_loop=20000 --skip_host_call=false --save_summary_steps=20000 --log_step_count_steps=20000 --mode='train' --precision='bfloat16' --persist_parameters=False 1>../logs/DMSLSTM_TPU_96_05.txt 2>&1\n",
      "python3 train.py --model_dir='gs://cbidmltsf/models/DMSLSTM_TPU_96_06' --data_dir='gs://cbidmltsf/sldbs/CPE04015_desbI_H_2017-04-01_00:00:00_2018-02-28_23:00:00_H008001001_D008024001_W004168001' --use_tpu=true --train_batch_size=832 --train_steps=541 --base_learning_rate=0.00307692 --iterations_per_loop=20000 --skip_host_call=false --save_summary_steps=20000 --log_step_count_steps=20000 --mode='train' --precision='bfloat16' --persist_parameters=False 1>../logs/DMSLSTM_TPU_96_06.txt 2>&1\n",
      "python3 train.py --model_dir='gs://cbidmltsf/models/DMSLSTM_TPU_96_07' --data_dir='gs://cbidmltsf/sldbs/CPE04015_desbI_H_2017-04-01_00:00:00_2018-02-28_23:00:00_H008001001_D008024001_W004168001' --use_tpu=true --train_batch_size=832 --train_steps=541 --base_learning_rate=0.00307692 --iterations_per_loop=20000 --skip_host_call=false --save_summary_steps=20000 --log_step_count_steps=20000 --mode='train' --precision='bfloat16' --persist_parameters=False 1>../logs/DMSLSTM_TPU_96_07.txt 2>&1\n",
      "python3 train.py --model_dir='gs://cbidmltsf/models/DMSLSTM_TPU_96_08' --data_dir='gs://cbidmltsf/sldbs/CPE04015_desbI_H_2017-04-01_00:00:00_2018-02-28_23:00:00_H008001001_D008024001_W004168001' --use_tpu=true --train_batch_size=832 --train_steps=541 --base_learning_rate=0.00307692 --iterations_per_loop=20000 --skip_host_call=false --save_summary_steps=20000 --log_step_count_steps=20000 --mode='train' --precision='bfloat16' --persist_parameters=False 1>../logs/DMSLSTM_TPU_96_08.txt 2>&1\n",
      "python3 train.py --model_dir='gs://cbidmltsf/models/DMSLSTM_TPU_96_09' --data_dir='gs://cbidmltsf/sldbs/CPE04015_desbI_H_2017-04-01_00:00:00_2018-02-28_23:00:00_H008001001_D008024001_W004168001' --use_tpu=true --train_batch_size=832 --train_steps=541 --base_learning_rate=0.00307692 --iterations_per_loop=20000 --skip_host_call=false --save_summary_steps=20000 --log_step_count_steps=20000 --mode='train' --precision='bfloat16' --persist_parameters=False 1>../logs/DMSLSTM_TPU_96_09.txt 2>&1\n",
      "python3 train.py --model_dir='gs://cbidmltsf/models/DMSLSTM_TPU_97_00' --data_dir='gs://cbidmltsf/sldbs/CPE04015_desbI_H_2017-04-01_00:00:00_2018-02-28_23:00:00_H008001001_D008024001_W004168001' --use_tpu=true --train_batch_size=896 --train_steps=502 --base_learning_rate=0.00285714 --iterations_per_loop=20000 --skip_host_call=false --save_summary_steps=20000 --log_step_count_steps=20000 --mode='train' --precision='bfloat16' --persist_parameters=True 1>../logs/DMSLSTM_TPU_97_00.txt 2>&1\n",
      "python3 train.py --model_dir='gs://cbidmltsf/models/DMSLSTM_TPU_97_01' --data_dir='gs://cbidmltsf/sldbs/CPE04015_desbI_H_2017-04-01_00:00:00_2018-02-28_23:00:00_H008001001_D008024001_W004168001' --use_tpu=true --train_batch_size=896 --train_steps=502 --base_learning_rate=0.00285714 --iterations_per_loop=20000 --skip_host_call=false --save_summary_steps=20000 --log_step_count_steps=20000 --mode='train' --precision='bfloat16' --persist_parameters=False 1>../logs/DMSLSTM_TPU_97_01.txt 2>&1\n",
      "python3 train.py --model_dir='gs://cbidmltsf/models/DMSLSTM_TPU_97_02' --data_dir='gs://cbidmltsf/sldbs/CPE04015_desbI_H_2017-04-01_00:00:00_2018-02-28_23:00:00_H008001001_D008024001_W004168001' --use_tpu=true --train_batch_size=896 --train_steps=502 --base_learning_rate=0.00285714 --iterations_per_loop=20000 --skip_host_call=false --save_summary_steps=20000 --log_step_count_steps=20000 --mode='train' --precision='bfloat16' --persist_parameters=False 1>../logs/DMSLSTM_TPU_97_02.txt 2>&1\n",
      "python3 train.py --model_dir='gs://cbidmltsf/models/DMSLSTM_TPU_97_03' --data_dir='gs://cbidmltsf/sldbs/CPE04015_desbI_H_2017-04-01_00:00:00_2018-02-28_23:00:00_H008001001_D008024001_W004168001' --use_tpu=true --train_batch_size=896 --train_steps=502 --base_learning_rate=0.00285714 --iterations_per_loop=20000 --skip_host_call=false --save_summary_steps=20000 --log_step_count_steps=20000 --mode='train' --precision='bfloat16' --persist_parameters=False 1>../logs/DMSLSTM_TPU_97_03.txt 2>&1\n",
      "python3 train.py --model_dir='gs://cbidmltsf/models/DMSLSTM_TPU_97_04' --data_dir='gs://cbidmltsf/sldbs/CPE04015_desbI_H_2017-04-01_00:00:00_2018-02-28_23:00:00_H008001001_D008024001_W004168001' --use_tpu=true --train_batch_size=896 --train_steps=502 --base_learning_rate=0.00285714 --iterations_per_loop=20000 --skip_host_call=false --save_summary_steps=20000 --log_step_count_steps=20000 --mode='train' --precision='bfloat16' --persist_parameters=False 1>../logs/DMSLSTM_TPU_97_04.txt 2>&1\n",
      "python3 train.py --model_dir='gs://cbidmltsf/models/DMSLSTM_TPU_97_05' --data_dir='gs://cbidmltsf/sldbs/CPE04015_desbI_H_2017-04-01_00:00:00_2018-02-28_23:00:00_H008001001_D008024001_W004168001' --use_tpu=true --train_batch_size=896 --train_steps=502 --base_learning_rate=0.00285714 --iterations_per_loop=20000 --skip_host_call=false --save_summary_steps=20000 --log_step_count_steps=20000 --mode='train' --precision='bfloat16' --persist_parameters=False 1>../logs/DMSLSTM_TPU_97_05.txt 2>&1\n",
      "python3 train.py --model_dir='gs://cbidmltsf/models/DMSLSTM_TPU_97_06' --data_dir='gs://cbidmltsf/sldbs/CPE04015_desbI_H_2017-04-01_00:00:00_2018-02-28_23:00:00_H008001001_D008024001_W004168001' --use_tpu=true --train_batch_size=896 --train_steps=502 --base_learning_rate=0.00285714 --iterations_per_loop=20000 --skip_host_call=false --save_summary_steps=20000 --log_step_count_steps=20000 --mode='train' --precision='bfloat16' --persist_parameters=False 1>../logs/DMSLSTM_TPU_97_06.txt 2>&1\n",
      "python3 train.py --model_dir='gs://cbidmltsf/models/DMSLSTM_TPU_97_07' --data_dir='gs://cbidmltsf/sldbs/CPE04015_desbI_H_2017-04-01_00:00:00_2018-02-28_23:00:00_H008001001_D008024001_W004168001' --use_tpu=true --train_batch_size=896 --train_steps=502 --base_learning_rate=0.00285714 --iterations_per_loop=20000 --skip_host_call=false --save_summary_steps=20000 --log_step_count_steps=20000 --mode='train' --precision='bfloat16' --persist_parameters=False 1>../logs/DMSLSTM_TPU_97_07.txt 2>&1\n",
      "python3 train.py --model_dir='gs://cbidmltsf/models/DMSLSTM_TPU_97_08' --data_dir='gs://cbidmltsf/sldbs/CPE04015_desbI_H_2017-04-01_00:00:00_2018-02-28_23:00:00_H008001001_D008024001_W004168001' --use_tpu=true --train_batch_size=896 --train_steps=502 --base_learning_rate=0.00285714 --iterations_per_loop=20000 --skip_host_call=false --save_summary_steps=20000 --log_step_count_steps=20000 --mode='train' --precision='bfloat16' --persist_parameters=False 1>../logs/DMSLSTM_TPU_97_08.txt 2>&1\n",
      "python3 train.py --model_dir='gs://cbidmltsf/models/DMSLSTM_TPU_97_09' --data_dir='gs://cbidmltsf/sldbs/CPE04015_desbI_H_2017-04-01_00:00:00_2018-02-28_23:00:00_H008001001_D008024001_W004168001' --use_tpu=true --train_batch_size=896 --train_steps=502 --base_learning_rate=0.00285714 --iterations_per_loop=20000 --skip_host_call=false --save_summary_steps=20000 --log_step_count_steps=20000 --mode='train' --precision='bfloat16' --persist_parameters=False 1>../logs/DMSLSTM_TPU_97_09.txt 2>&1\n",
      "python3 train.py --model_dir='gs://cbidmltsf/models/DMSLSTM_TPU_98_00' --data_dir='gs://cbidmltsf/sldbs/CPE04015_desbI_H_2017-04-01_00:00:00_2018-02-28_23:00:00_H008001001_D008024001_W004168001' --use_tpu=true --train_batch_size=960 --train_steps=469 --base_learning_rate=0.00266667 --iterations_per_loop=20000 --skip_host_call=false --save_summary_steps=20000 --log_step_count_steps=20000 --mode='train' --precision='bfloat16' --persist_parameters=True 1>../logs/DMSLSTM_TPU_98_00.txt 2>&1\n",
      "python3 train.py --model_dir='gs://cbidmltsf/models/DMSLSTM_TPU_98_01' --data_dir='gs://cbidmltsf/sldbs/CPE04015_desbI_H_2017-04-01_00:00:00_2018-02-28_23:00:00_H008001001_D008024001_W004168001' --use_tpu=true --train_batch_size=960 --train_steps=469 --base_learning_rate=0.00266667 --iterations_per_loop=20000 --skip_host_call=false --save_summary_steps=20000 --log_step_count_steps=20000 --mode='train' --precision='bfloat16' --persist_parameters=False 1>../logs/DMSLSTM_TPU_98_01.txt 2>&1\n",
      "python3 train.py --model_dir='gs://cbidmltsf/models/DMSLSTM_TPU_98_02' --data_dir='gs://cbidmltsf/sldbs/CPE04015_desbI_H_2017-04-01_00:00:00_2018-02-28_23:00:00_H008001001_D008024001_W004168001' --use_tpu=true --train_batch_size=960 --train_steps=469 --base_learning_rate=0.00266667 --iterations_per_loop=20000 --skip_host_call=false --save_summary_steps=20000 --log_step_count_steps=20000 --mode='train' --precision='bfloat16' --persist_parameters=False 1>../logs/DMSLSTM_TPU_98_02.txt 2>&1\n",
      "python3 train.py --model_dir='gs://cbidmltsf/models/DMSLSTM_TPU_98_03' --data_dir='gs://cbidmltsf/sldbs/CPE04015_desbI_H_2017-04-01_00:00:00_2018-02-28_23:00:00_H008001001_D008024001_W004168001' --use_tpu=true --train_batch_size=960 --train_steps=469 --base_learning_rate=0.00266667 --iterations_per_loop=20000 --skip_host_call=false --save_summary_steps=20000 --log_step_count_steps=20000 --mode='train' --precision='bfloat16' --persist_parameters=False 1>../logs/DMSLSTM_TPU_98_03.txt 2>&1\n",
      "python3 train.py --model_dir='gs://cbidmltsf/models/DMSLSTM_TPU_98_04' --data_dir='gs://cbidmltsf/sldbs/CPE04015_desbI_H_2017-04-01_00:00:00_2018-02-28_23:00:00_H008001001_D008024001_W004168001' --use_tpu=true --train_batch_size=960 --train_steps=469 --base_learning_rate=0.00266667 --iterations_per_loop=20000 --skip_host_call=false --save_summary_steps=20000 --log_step_count_steps=20000 --mode='train' --precision='bfloat16' --persist_parameters=False 1>../logs/DMSLSTM_TPU_98_04.txt 2>&1\n",
      "python3 train.py --model_dir='gs://cbidmltsf/models/DMSLSTM_TPU_98_05' --data_dir='gs://cbidmltsf/sldbs/CPE04015_desbI_H_2017-04-01_00:00:00_2018-02-28_23:00:00_H008001001_D008024001_W004168001' --use_tpu=true --train_batch_size=960 --train_steps=469 --base_learning_rate=0.00266667 --iterations_per_loop=20000 --skip_host_call=false --save_summary_steps=20000 --log_step_count_steps=20000 --mode='train' --precision='bfloat16' --persist_parameters=False 1>../logs/DMSLSTM_TPU_98_05.txt 2>&1\n",
      "python3 train.py --model_dir='gs://cbidmltsf/models/DMSLSTM_TPU_98_06' --data_dir='gs://cbidmltsf/sldbs/CPE04015_desbI_H_2017-04-01_00:00:00_2018-02-28_23:00:00_H008001001_D008024001_W004168001' --use_tpu=true --train_batch_size=960 --train_steps=469 --base_learning_rate=0.00266667 --iterations_per_loop=20000 --skip_host_call=false --save_summary_steps=20000 --log_step_count_steps=20000 --mode='train' --precision='bfloat16' --persist_parameters=False 1>../logs/DMSLSTM_TPU_98_06.txt 2>&1\n",
      "python3 train.py --model_dir='gs://cbidmltsf/models/DMSLSTM_TPU_98_07' --data_dir='gs://cbidmltsf/sldbs/CPE04015_desbI_H_2017-04-01_00:00:00_2018-02-28_23:00:00_H008001001_D008024001_W004168001' --use_tpu=true --train_batch_size=960 --train_steps=469 --base_learning_rate=0.00266667 --iterations_per_loop=20000 --skip_host_call=false --save_summary_steps=20000 --log_step_count_steps=20000 --mode='train' --precision='bfloat16' --persist_parameters=False 1>../logs/DMSLSTM_TPU_98_07.txt 2>&1\n",
      "python3 train.py --model_dir='gs://cbidmltsf/models/DMSLSTM_TPU_98_08' --data_dir='gs://cbidmltsf/sldbs/CPE04015_desbI_H_2017-04-01_00:00:00_2018-02-28_23:00:00_H008001001_D008024001_W004168001' --use_tpu=true --train_batch_size=960 --train_steps=469 --base_learning_rate=0.00266667 --iterations_per_loop=20000 --skip_host_call=false --save_summary_steps=20000 --log_step_count_steps=20000 --mode='train' --precision='bfloat16' --persist_parameters=False 1>../logs/DMSLSTM_TPU_98_08.txt 2>&1\n",
      "python3 train.py --model_dir='gs://cbidmltsf/models/DMSLSTM_TPU_98_09' --data_dir='gs://cbidmltsf/sldbs/CPE04015_desbI_H_2017-04-01_00:00:00_2018-02-28_23:00:00_H008001001_D008024001_W004168001' --use_tpu=true --train_batch_size=960 --train_steps=469 --base_learning_rate=0.00266667 --iterations_per_loop=20000 --skip_host_call=false --save_summary_steps=20000 --log_step_count_steps=20000 --mode='train' --precision='bfloat16' --persist_parameters=False 1>../logs/DMSLSTM_TPU_98_09.txt 2>&1\n"
     ]
    }
   ],
   "source": [
    "for experiment in experiments_list:\n",
    "    for execution in range(num_executions):\n",
    "        print(\"python3 train.py --model_dir='gs://cbidmltsf/models/{}_{:02d}' --data_dir='{}' --use_tpu={} --train_batch_size={} --train_steps={} --base_learning_rate={} --iterations_per_loop={} --skip_host_call={} --save_summary_steps={} --log_step_count_steps={} --mode='{}' --precision='{}' --persist_parameters={} 1>../logs/{}_{:02d}.txt 2>&1\".\\\n",
    "              format(experiment[0],\n",
    "                     execution,\n",
    "                     data_dir,\n",
    "                     use_tpu,\n",
    "                     experiment[1],\n",
    "                     experiment[2],\n",
    "                     experiment[3],\n",
    "                     iterations_per_loop,\n",
    "                     skip_host_call,\n",
    "                     save_summary_steps,\n",
    "                     log_step_count_steps,\n",
    "                     mode,\n",
    "                     precision,\n",
    "                     # turn on persist_parameters only for the first execution\n",
    "                     execution==0,\n",
    "                     experiment[0],\n",
    "                     execution))"
   ]
  }
 ],
 "metadata": {
  "kernelspec": {
   "display_name": "Python 3",
   "language": "python",
   "name": "python3"
  },
  "language_info": {
   "codemirror_mode": {
    "name": "ipython",
    "version": 3
   },
   "file_extension": ".py",
   "mimetype": "text/x-python",
   "name": "python",
   "nbconvert_exporter": "python",
   "pygments_lexer": "ipython3",
   "version": "3.7.6"
  }
 },
 "nbformat": 4,
 "nbformat_minor": 4
}

{
 "cells": [
  {
   "cell_type": "code",
   "execution_count": 2,
   "metadata": {},
   "outputs": [
    {
     "name": "stdout",
     "output_type": "stream",
     "text": [
      "gs://cbidmltsf/models/008008004_064128_064128_016064_CPU_61_00\n",
      "gs://cbidmltsf/models/008008004_064128_064128_016064_CPU_61_01\n",
      "gs://cbidmltsf/models/008008004_064128_064128_016064_CPU_61_02\n",
      "gs://cbidmltsf/models/008008004_064128_064128_016064_CPU_61_03\n",
      "gs://cbidmltsf/models/008008004_064128_064128_016064_CPU_61_04\n"
     ]
    }
   ],
   "source": [
    "# build a model directories list to iterate on for training stage\n",
    "import numpy as np\n",
    "\n",
    "_PROCESS_ID = 'CPU_61'\n",
    "chromosome = [[8, 8, 4],\n",
    "              [64, 128],\n",
    "              [64, 128],\n",
    "              [16, 64],\n",
    "              True,\n",
    "              [512, 128, 8],\n",
    "              [0.008, 4000, 10000, 32]]\n",
    "\n",
    "key_string = ''\n",
    "for row in chromosome[0:4]:\n",
    "    for element in row:\n",
    "        key_string += '{:03d}'.format(element)\n",
    "    key_string += '_'\n",
    "    \n",
    "model_dirs = list()\n",
    "start, end = 0, 4\n",
    "for identifier in np.arange(start, end + 1):\n",
    "    model_dirs.append('gs://cbidmltsf/models/{}{}_{:02d}'.format(key_string, _PROCESS_ID, identifier))\n",
    "\n",
    "for model_dir in model_dirs:\n",
    "    print(model_dir)"
   ]
  },
  {
   "cell_type": "code",
   "execution_count": 3,
   "metadata": {},
   "outputs": [],
   "source": [
    "# find out what the flags module does"
   ]
  },
  {
   "cell_type": "code",
   "execution_count": 4,
   "metadata": {},
   "outputs": [],
   "source": [
    "from absl import flags\n",
    "\n",
    "def define_common_tpu_flags():\n",
    "  \"\"\"Define the flags related to TPU's.\"\"\"\n",
    "  flags.DEFINE_string(\n",
    "      'tpu', default=None,\n",
    "      help='The Cloud TPU to use for training. This should be either the name '\n",
    "      'used when creating the Cloud TPU, or a grpc://ip.address.of.tpu:8470 '\n",
    "      'url.')\n",
    "\n",
    "  flags.DEFINE_string(\n",
    "      'gcp_project', default=None,\n",
    "      help='Project name for the Cloud TPU-enabled project. If not specified, we '\n",
    "      'will attempt to automatically detect the GCE project from metadata.')\n",
    "\n",
    "  flags.DEFINE_string(\n",
    "      'tpu_zone', default=None,\n",
    "      help='GCE zone where the Cloud TPU is located in. If not specified, we '\n",
    "      'will attempt to automatically detect the GCE project from metadata.')\n",
    "\n",
    "  flags.DEFINE_string(\n",
    "      'eval_master', default=None,\n",
    "      help='GRPC URL of the eval master. Set to an appropiate value when running '\n",
    "      'on CPU/GPU.')"
   ]
  },
  {
   "cell_type": "code",
   "execution_count": 5,
   "metadata": {},
   "outputs": [],
   "source": [
    "define_common_tpu_flags()"
   ]
  },
  {
   "cell_type": "code",
   "execution_count": 6,
   "metadata": {},
   "outputs": [
    {
     "data": {
      "text/plain": [
       "<absl.flags._flagvalues.FlagValues at 0x7f2c10611ef0>"
      ]
     },
     "execution_count": 6,
     "metadata": {},
     "output_type": "execute_result"
    }
   ],
   "source": [
    "flags.FLAGS"
   ]
  },
  {
   "cell_type": "code",
   "execution_count": 8,
   "metadata": {},
   "outputs": [],
   "source": [
    "FLAGS = flags.FLAGS"
   ]
  },
  {
   "cell_type": "code",
   "execution_count": 9,
   "metadata": {},
   "outputs": [
    {
     "ename": "UnparsedFlagAccessError",
     "evalue": "Trying to access flag --tpu before flags were parsed.",
     "output_type": "error",
     "traceback": [
      "\u001b[0;31m---------------------------------------------------------------------------\u001b[0m",
      "\u001b[0;31mUnparsedFlagAccessError\u001b[0m                   Traceback (most recent call last)",
      "\u001b[0;32m<ipython-input-9-648bd169b2dd>\u001b[0m in \u001b[0;36m<module>\u001b[0;34m\u001b[0m\n\u001b[0;32m----> 1\u001b[0;31m \u001b[0mFLAGS\u001b[0m\u001b[0;34m.\u001b[0m\u001b[0mtpu\u001b[0m\u001b[0;34m\u001b[0m\u001b[0;34m\u001b[0m\u001b[0m\n\u001b[0m",
      "\u001b[0;32m~/anaconda3/envs/tensorflow/lib/python3.6/site-packages/absl/flags/_flagvalues.py\u001b[0m in \u001b[0;36m__getattr__\u001b[0;34m(self, name)\u001b[0m\n\u001b[1;32m    489\u001b[0m         \u001b[0;31m# get too much noise.\u001b[0m\u001b[0;34m\u001b[0m\u001b[0;34m\u001b[0m\u001b[0;34m\u001b[0m\u001b[0m\n\u001b[1;32m    490\u001b[0m         \u001b[0mlogging\u001b[0m\u001b[0;34m.\u001b[0m\u001b[0merror\u001b[0m\u001b[0;34m(\u001b[0m\u001b[0merror_message\u001b[0m\u001b[0;34m)\u001b[0m\u001b[0;34m\u001b[0m\u001b[0;34m\u001b[0m\u001b[0m\n\u001b[0;32m--> 491\u001b[0;31m       \u001b[0;32mraise\u001b[0m \u001b[0m_exceptions\u001b[0m\u001b[0;34m.\u001b[0m\u001b[0mUnparsedFlagAccessError\u001b[0m\u001b[0;34m(\u001b[0m\u001b[0merror_message\u001b[0m\u001b[0;34m)\u001b[0m\u001b[0;34m\u001b[0m\u001b[0;34m\u001b[0m\u001b[0m\n\u001b[0m\u001b[1;32m    492\u001b[0m \u001b[0;34m\u001b[0m\u001b[0m\n\u001b[1;32m    493\u001b[0m   \u001b[0;32mdef\u001b[0m \u001b[0m__setattr__\u001b[0m\u001b[0;34m(\u001b[0m\u001b[0mself\u001b[0m\u001b[0;34m,\u001b[0m \u001b[0mname\u001b[0m\u001b[0;34m,\u001b[0m \u001b[0mvalue\u001b[0m\u001b[0;34m)\u001b[0m\u001b[0;34m:\u001b[0m\u001b[0;34m\u001b[0m\u001b[0;34m\u001b[0m\u001b[0m\n",
      "\u001b[0;31mUnparsedFlagAccessError\u001b[0m: Trying to access flag --tpu before flags were parsed."
     ]
    }
   ],
   "source": [
    "FLAGS.tpu"
   ]
  },
  {
   "cell_type": "code",
   "execution_count": null,
   "metadata": {},
   "outputs": [],
   "source": [
    "# another session!"
   ]
  },
  {
   "cell_type": "code",
   "execution_count": 1,
   "metadata": {},
   "outputs": [],
   "source": [
    "import json"
   ]
  },
  {
   "cell_type": "code",
   "execution_count": 12,
   "metadata": {},
   "outputs": [],
   "source": [
    "with open('experiment.json', 'r') as filename:\n",
    "    experiment = json.load(filename)"
   ]
  },
  {
   "cell_type": "code",
   "execution_count": 17,
   "metadata": {},
   "outputs": [
    {
     "data": {
      "text/plain": [
       "False"
      ]
     },
     "execution_count": 17,
     "metadata": {},
     "output_type": "execute_result"
    }
   ],
   "source": [
    "not not experiment['training_parameters']['skip_host_call']"
   ]
  },
  {
   "cell_type": "code",
   "execution_count": 26,
   "metadata": {},
   "outputs": [
    {
     "data": {
      "text/plain": [
       "{'model_dir': 'CPU_63_use_this_tail_for_a_unique_time_based_id',\n",
       " 'base_learning_rate': 0.08,\n",
       " 'max_train_steps': 1000,\n",
       " 'iterations_per_loop': 5000,\n",
       " 'train_batch_size': 32,\n",
       " 'eval_interval': 300,\n",
       " 'keep_checkpoint_max': 3,\n",
       " 'eval_steps': 'None',\n",
       " 'start_delay_secs': 600,\n",
       " 'throttle_secs': 600,\n",
       " 'job-dir': 'junk',\n",
       " 'project': 'spheric-rhythm-234515',\n",
       " 'num_cores': 8,\n",
       " 'use_tpu': 0,\n",
       " 'tpu': 'tpu-v3-8-tensorflow-1-15',\n",
       " 'tpu_zone': 'us-central1-a',\n",
       " 'skip_host_call': 0}"
      ]
     },
     "execution_count": 26,
     "metadata": {},
     "output_type": "execute_result"
    }
   ],
   "source": [
    "experiment['training_parameters']"
   ]
  }
 ],
 "metadata": {
  "kernelspec": {
   "display_name": "Python 3",
   "language": "python",
   "name": "python3"
  },
  "language_info": {
   "codemirror_mode": {
    "name": "ipython",
    "version": 3
   },
   "file_extension": ".py",
   "mimetype": "text/x-python",
   "name": "python",
   "nbconvert_exporter": "python",
   "pygments_lexer": "ipython3",
   "version": "3.7.6"
  }
 },
 "nbformat": 4,
 "nbformat_minor": 2
}

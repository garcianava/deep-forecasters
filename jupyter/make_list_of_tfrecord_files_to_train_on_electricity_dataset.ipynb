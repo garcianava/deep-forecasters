{
 "cells": [
  {
   "cell_type": "code",
   "execution_count": 21,
   "metadata": {},
   "outputs": [],
   "source": [
    "import numpy as np"
   ]
  },
  {
   "cell_type": "code",
   "execution_count": 22,
   "metadata": {},
   "outputs": [],
   "source": [
    "# prepare a list with the TFRecord file names to store in the configuration dictionary"
   ]
  },
  {
   "cell_type": "code",
   "execution_count": 23,
   "metadata": {},
   "outputs": [],
   "source": [
    "start, end = 320, 330"
   ]
  },
  {
   "cell_type": "code",
   "execution_count": 24,
   "metadata": {},
   "outputs": [],
   "source": [
    "customer_ids = ['MT_{:03d}'.format(token_id) for token_id in np.arange(start, end + 1)]"
   ]
  },
  {
   "cell_type": "code",
   "execution_count": 25,
   "metadata": {},
   "outputs": [],
   "source": [
    "# use a fragment of the real configuration dictionary\n",
    "config_dict = {\n",
    "    'data_dir': 'gs://cbidmltsf/sldbs/LD2011-2014_FULL_BSCTRFM_168_168',\n",
    "    'customer_ids': ['MT_320', 'MT_321', 'MT_322', 'MT_323', 'MT_324',\n",
    "                     'MT_325', 'MT_326', 'MT_327', 'MT_328', 'MT_329', 'MT_330']\n",
    "}"
   ]
  },
  {
   "cell_type": "code",
   "execution_count": 26,
   "metadata": {},
   "outputs": [],
   "source": [
    "train_data_list = ['{}/{}/{}.tfrecord'.format(config_dict['data_dir'],\n",
    "                                              'train',\n",
    "                                              customer_id) for customer_id in config_dict['customer_ids']]"
   ]
  },
  {
   "cell_type": "code",
   "execution_count": 27,
   "metadata": {},
   "outputs": [
    {
     "data": {
      "text/plain": [
       "['gs://cbidmltsf/sldbs/LD2011-2014_FULL_BSCTRFM_168_168/train/MT_320.tfrecord',\n",
       " 'gs://cbidmltsf/sldbs/LD2011-2014_FULL_BSCTRFM_168_168/train/MT_321.tfrecord',\n",
       " 'gs://cbidmltsf/sldbs/LD2011-2014_FULL_BSCTRFM_168_168/train/MT_322.tfrecord',\n",
       " 'gs://cbidmltsf/sldbs/LD2011-2014_FULL_BSCTRFM_168_168/train/MT_323.tfrecord',\n",
       " 'gs://cbidmltsf/sldbs/LD2011-2014_FULL_BSCTRFM_168_168/train/MT_324.tfrecord',\n",
       " 'gs://cbidmltsf/sldbs/LD2011-2014_FULL_BSCTRFM_168_168/train/MT_325.tfrecord',\n",
       " 'gs://cbidmltsf/sldbs/LD2011-2014_FULL_BSCTRFM_168_168/train/MT_326.tfrecord',\n",
       " 'gs://cbidmltsf/sldbs/LD2011-2014_FULL_BSCTRFM_168_168/train/MT_327.tfrecord',\n",
       " 'gs://cbidmltsf/sldbs/LD2011-2014_FULL_BSCTRFM_168_168/train/MT_328.tfrecord',\n",
       " 'gs://cbidmltsf/sldbs/LD2011-2014_FULL_BSCTRFM_168_168/train/MT_329.tfrecord',\n",
       " 'gs://cbidmltsf/sldbs/LD2011-2014_FULL_BSCTRFM_168_168/train/MT_330.tfrecord']"
      ]
     },
     "execution_count": 27,
     "metadata": {},
     "output_type": "execute_result"
    }
   ],
   "source": [
    "train_data_list"
   ]
  },
  {
   "cell_type": "code",
   "execution_count": 28,
   "metadata": {},
   "outputs": [],
   "source": [
    "eval_data_list = ['{}/{}/{}.tfrecord'.format(config_dict['data_dir'],\n",
    "                                             'eval',\n",
    "                                             customer_id) for customer_id in config_dict['customer_ids']]"
   ]
  },
  {
   "cell_type": "code",
   "execution_count": 29,
   "metadata": {},
   "outputs": [
    {
     "data": {
      "text/plain": [
       "['gs://cbidmltsf/sldbs/LD2011-2014_FULL_BSCTRFM_168_168/eval/MT_320.tfrecord',\n",
       " 'gs://cbidmltsf/sldbs/LD2011-2014_FULL_BSCTRFM_168_168/eval/MT_321.tfrecord',\n",
       " 'gs://cbidmltsf/sldbs/LD2011-2014_FULL_BSCTRFM_168_168/eval/MT_322.tfrecord',\n",
       " 'gs://cbidmltsf/sldbs/LD2011-2014_FULL_BSCTRFM_168_168/eval/MT_323.tfrecord',\n",
       " 'gs://cbidmltsf/sldbs/LD2011-2014_FULL_BSCTRFM_168_168/eval/MT_324.tfrecord',\n",
       " 'gs://cbidmltsf/sldbs/LD2011-2014_FULL_BSCTRFM_168_168/eval/MT_325.tfrecord',\n",
       " 'gs://cbidmltsf/sldbs/LD2011-2014_FULL_BSCTRFM_168_168/eval/MT_326.tfrecord',\n",
       " 'gs://cbidmltsf/sldbs/LD2011-2014_FULL_BSCTRFM_168_168/eval/MT_327.tfrecord',\n",
       " 'gs://cbidmltsf/sldbs/LD2011-2014_FULL_BSCTRFM_168_168/eval/MT_328.tfrecord',\n",
       " 'gs://cbidmltsf/sldbs/LD2011-2014_FULL_BSCTRFM_168_168/eval/MT_329.tfrecord',\n",
       " 'gs://cbidmltsf/sldbs/LD2011-2014_FULL_BSCTRFM_168_168/eval/MT_330.tfrecord']"
      ]
     },
     "execution_count": 29,
     "metadata": {},
     "output_type": "execute_result"
    }
   ],
   "source": [
    "eval_data_list"
   ]
  },
  {
   "cell_type": "code",
   "execution_count": null,
   "metadata": {},
   "outputs": [],
   "source": []
  }
 ],
 "metadata": {
  "kernelspec": {
   "display_name": "Python 3",
   "language": "python",
   "name": "python3"
  },
  "language_info": {
   "codemirror_mode": {
    "name": "ipython",
    "version": 3
   },
   "file_extension": ".py",
   "mimetype": "text/x-python",
   "name": "python",
   "nbconvert_exporter": "python",
   "pygments_lexer": "ipython3",
   "version": "3.7.6"
  }
 },
 "nbformat": 4,
 "nbformat_minor": 4
}

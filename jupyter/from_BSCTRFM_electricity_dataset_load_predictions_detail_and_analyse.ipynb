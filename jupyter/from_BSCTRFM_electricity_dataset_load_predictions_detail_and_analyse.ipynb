{
 "cells": [
  {
   "cell_type": "markdown",
   "metadata": {},
   "source": [
    "## Recursive inference (multi-step) for BSCTRFM models\n",
    "\n",
    "### use time series instead of SLDB arrays for easier and more efficient timestamp management"
   ]
  },
  {
   "cell_type": "code",
   "execution_count": 1,
   "metadata": {},
   "outputs": [],
   "source": [
    "import os\n",
    "import json\n",
    "import numpy as np\n",
    "import pandas as pd\n",
    "import joblib\n",
    "from datetime import datetime\n",
    "from math import sqrt\n",
    "from sklearn.metrics import mean_squared_error, mean_absolute_error\n",
    "\n",
    "# uncomment the following line for compatibility with TensorFlow 1.15 (on GCP)\n",
    "# import tensorflow.compat.v1 as tf\n",
    "# uncomment the following line for TensorFlow 2.X (local execution)\n",
    "import tensorflow as tf\n",
    "\n",
    "# forecast model was saved in TensorFlow 1.15\n",
    "# but, in order to make predictions locally, has to be loaded with TensorFlow 2\n",
    "from tensorflow.saved_model import load"
   ]
  },
  {
   "cell_type": "code",
   "execution_count": 2,
   "metadata": {},
   "outputs": [
    {
     "data": {
      "text/html": [
       "\n",
       "    <div class=\"bk-root\">\n",
       "        <a href=\"https://bokeh.org\" target=\"_blank\" class=\"bk-logo bk-logo-small bk-logo-notebook\"></a>\n",
       "        <span id=\"1001\">Loading BokehJS ...</span>\n",
       "    </div>"
      ]
     },
     "metadata": {},
     "output_type": "display_data"
    },
    {
     "data": {
      "application/javascript": [
       "\n",
       "(function(root) {\n",
       "  function now() {\n",
       "    return new Date();\n",
       "  }\n",
       "\n",
       "  var force = true;\n",
       "\n",
       "  if (typeof root._bokeh_onload_callbacks === \"undefined\" || force === true) {\n",
       "    root._bokeh_onload_callbacks = [];\n",
       "    root._bokeh_is_loading = undefined;\n",
       "  }\n",
       "\n",
       "  var JS_MIME_TYPE = 'application/javascript';\n",
       "  var HTML_MIME_TYPE = 'text/html';\n",
       "  var EXEC_MIME_TYPE = 'application/vnd.bokehjs_exec.v0+json';\n",
       "  var CLASS_NAME = 'output_bokeh rendered_html';\n",
       "\n",
       "  /**\n",
       "   * Render data to the DOM node\n",
       "   */\n",
       "  function render(props, node) {\n",
       "    var script = document.createElement(\"script\");\n",
       "    node.appendChild(script);\n",
       "  }\n",
       "\n",
       "  /**\n",
       "   * Handle when an output is cleared or removed\n",
       "   */\n",
       "  function handleClearOutput(event, handle) {\n",
       "    var cell = handle.cell;\n",
       "\n",
       "    var id = cell.output_area._bokeh_element_id;\n",
       "    var server_id = cell.output_area._bokeh_server_id;\n",
       "    // Clean up Bokeh references\n",
       "    if (id != null && id in Bokeh.index) {\n",
       "      Bokeh.index[id].model.document.clear();\n",
       "      delete Bokeh.index[id];\n",
       "    }\n",
       "\n",
       "    if (server_id !== undefined) {\n",
       "      // Clean up Bokeh references\n",
       "      var cmd = \"from bokeh.io.state import curstate; print(curstate().uuid_to_server['\" + server_id + \"'].get_sessions()[0].document.roots[0]._id)\";\n",
       "      cell.notebook.kernel.execute(cmd, {\n",
       "        iopub: {\n",
       "          output: function(msg) {\n",
       "            var id = msg.content.text.trim();\n",
       "            if (id in Bokeh.index) {\n",
       "              Bokeh.index[id].model.document.clear();\n",
       "              delete Bokeh.index[id];\n",
       "            }\n",
       "          }\n",
       "        }\n",
       "      });\n",
       "      // Destroy server and session\n",
       "      var cmd = \"import bokeh.io.notebook as ion; ion.destroy_server('\" + server_id + \"')\";\n",
       "      cell.notebook.kernel.execute(cmd);\n",
       "    }\n",
       "  }\n",
       "\n",
       "  /**\n",
       "   * Handle when a new output is added\n",
       "   */\n",
       "  function handleAddOutput(event, handle) {\n",
       "    var output_area = handle.output_area;\n",
       "    var output = handle.output;\n",
       "\n",
       "    // limit handleAddOutput to display_data with EXEC_MIME_TYPE content only\n",
       "    if ((output.output_type != \"display_data\") || (!output.data.hasOwnProperty(EXEC_MIME_TYPE))) {\n",
       "      return\n",
       "    }\n",
       "\n",
       "    var toinsert = output_area.element.find(\".\" + CLASS_NAME.split(' ')[0]);\n",
       "\n",
       "    if (output.metadata[EXEC_MIME_TYPE][\"id\"] !== undefined) {\n",
       "      toinsert[toinsert.length - 1].firstChild.textContent = output.data[JS_MIME_TYPE];\n",
       "      // store reference to embed id on output_area\n",
       "      output_area._bokeh_element_id = output.metadata[EXEC_MIME_TYPE][\"id\"];\n",
       "    }\n",
       "    if (output.metadata[EXEC_MIME_TYPE][\"server_id\"] !== undefined) {\n",
       "      var bk_div = document.createElement(\"div\");\n",
       "      bk_div.innerHTML = output.data[HTML_MIME_TYPE];\n",
       "      var script_attrs = bk_div.children[0].attributes;\n",
       "      for (var i = 0; i < script_attrs.length; i++) {\n",
       "        toinsert[toinsert.length - 1].firstChild.setAttribute(script_attrs[i].name, script_attrs[i].value);\n",
       "      }\n",
       "      // store reference to server id on output_area\n",
       "      output_area._bokeh_server_id = output.metadata[EXEC_MIME_TYPE][\"server_id\"];\n",
       "    }\n",
       "  }\n",
       "\n",
       "  function register_renderer(events, OutputArea) {\n",
       "\n",
       "    function append_mime(data, metadata, element) {\n",
       "      // create a DOM node to render to\n",
       "      var toinsert = this.create_output_subarea(\n",
       "        metadata,\n",
       "        CLASS_NAME,\n",
       "        EXEC_MIME_TYPE\n",
       "      );\n",
       "      this.keyboard_manager.register_events(toinsert);\n",
       "      // Render to node\n",
       "      var props = {data: data, metadata: metadata[EXEC_MIME_TYPE]};\n",
       "      render(props, toinsert[toinsert.length - 1]);\n",
       "      element.append(toinsert);\n",
       "      return toinsert\n",
       "    }\n",
       "\n",
       "    /* Handle when an output is cleared or removed */\n",
       "    events.on('clear_output.CodeCell', handleClearOutput);\n",
       "    events.on('delete.Cell', handleClearOutput);\n",
       "\n",
       "    /* Handle when a new output is added */\n",
       "    events.on('output_added.OutputArea', handleAddOutput);\n",
       "\n",
       "    /**\n",
       "     * Register the mime type and append_mime function with output_area\n",
       "     */\n",
       "    OutputArea.prototype.register_mime_type(EXEC_MIME_TYPE, append_mime, {\n",
       "      /* Is output safe? */\n",
       "      safe: true,\n",
       "      /* Index of renderer in `output_area.display_order` */\n",
       "      index: 0\n",
       "    });\n",
       "  }\n",
       "\n",
       "  // register the mime type if in Jupyter Notebook environment and previously unregistered\n",
       "  if (root.Jupyter !== undefined) {\n",
       "    var events = require('base/js/events');\n",
       "    var OutputArea = require('notebook/js/outputarea').OutputArea;\n",
       "\n",
       "    if (OutputArea.prototype.mime_types().indexOf(EXEC_MIME_TYPE) == -1) {\n",
       "      register_renderer(events, OutputArea);\n",
       "    }\n",
       "  }\n",
       "\n",
       "  \n",
       "  if (typeof (root._bokeh_timeout) === \"undefined\" || force === true) {\n",
       "    root._bokeh_timeout = Date.now() + 5000;\n",
       "    root._bokeh_failed_load = false;\n",
       "  }\n",
       "\n",
       "  var NB_LOAD_WARNING = {'data': {'text/html':\n",
       "     \"<div style='background-color: #fdd'>\\n\"+\n",
       "     \"<p>\\n\"+\n",
       "     \"BokehJS does not appear to have successfully loaded. If loading BokehJS from CDN, this \\n\"+\n",
       "     \"may be due to a slow or bad network connection. Possible fixes:\\n\"+\n",
       "     \"</p>\\n\"+\n",
       "     \"<ul>\\n\"+\n",
       "     \"<li>re-rerun `output_notebook()` to attempt to load from CDN again, or</li>\\n\"+\n",
       "     \"<li>use INLINE resources instead, as so:</li>\\n\"+\n",
       "     \"</ul>\\n\"+\n",
       "     \"<code>\\n\"+\n",
       "     \"from bokeh.resources import INLINE\\n\"+\n",
       "     \"output_notebook(resources=INLINE)\\n\"+\n",
       "     \"</code>\\n\"+\n",
       "     \"</div>\"}};\n",
       "\n",
       "  function display_loaded() {\n",
       "    var el = document.getElementById(\"1001\");\n",
       "    if (el != null) {\n",
       "      el.textContent = \"BokehJS is loading...\";\n",
       "    }\n",
       "    if (root.Bokeh !== undefined) {\n",
       "      if (el != null) {\n",
       "        el.textContent = \"BokehJS \" + root.Bokeh.version + \" successfully loaded.\";\n",
       "      }\n",
       "    } else if (Date.now() < root._bokeh_timeout) {\n",
       "      setTimeout(display_loaded, 100)\n",
       "    }\n",
       "  }\n",
       "\n",
       "\n",
       "  function run_callbacks() {\n",
       "    try {\n",
       "      root._bokeh_onload_callbacks.forEach(function(callback) {\n",
       "        if (callback != null)\n",
       "          callback();\n",
       "      });\n",
       "    } finally {\n",
       "      delete root._bokeh_onload_callbacks\n",
       "    }\n",
       "    console.debug(\"Bokeh: all callbacks have finished\");\n",
       "  }\n",
       "\n",
       "  function load_libs(css_urls, js_urls, callback) {\n",
       "    if (css_urls == null) css_urls = [];\n",
       "    if (js_urls == null) js_urls = [];\n",
       "\n",
       "    root._bokeh_onload_callbacks.push(callback);\n",
       "    if (root._bokeh_is_loading > 0) {\n",
       "      console.debug(\"Bokeh: BokehJS is being loaded, scheduling callback at\", now());\n",
       "      return null;\n",
       "    }\n",
       "    if (js_urls == null || js_urls.length === 0) {\n",
       "      run_callbacks();\n",
       "      return null;\n",
       "    }\n",
       "    console.debug(\"Bokeh: BokehJS not loaded, scheduling load and callback at\", now());\n",
       "    root._bokeh_is_loading = css_urls.length + js_urls.length;\n",
       "\n",
       "    function on_load() {\n",
       "      root._bokeh_is_loading--;\n",
       "      if (root._bokeh_is_loading === 0) {\n",
       "        console.debug(\"Bokeh: all BokehJS libraries/stylesheets loaded\");\n",
       "        run_callbacks()\n",
       "      }\n",
       "    }\n",
       "\n",
       "    function on_error() {\n",
       "      console.error(\"failed to load \" + url);\n",
       "    }\n",
       "\n",
       "    for (var i = 0; i < css_urls.length; i++) {\n",
       "      var url = css_urls[i];\n",
       "      const element = document.createElement(\"link\");\n",
       "      element.onload = on_load;\n",
       "      element.onerror = on_error;\n",
       "      element.rel = \"stylesheet\";\n",
       "      element.type = \"text/css\";\n",
       "      element.href = url;\n",
       "      console.debug(\"Bokeh: injecting link tag for BokehJS stylesheet: \", url);\n",
       "      document.body.appendChild(element);\n",
       "    }\n",
       "\n",
       "    for (var i = 0; i < js_urls.length; i++) {\n",
       "      var url = js_urls[i];\n",
       "      var element = document.createElement('script');\n",
       "      element.onload = on_load;\n",
       "      element.onerror = on_error;\n",
       "      element.async = false;\n",
       "      element.src = url;\n",
       "      console.debug(\"Bokeh: injecting script tag for BokehJS library: \", url);\n",
       "      document.head.appendChild(element);\n",
       "    }\n",
       "  };var element = document.getElementById(\"1001\");\n",
       "  if (element == null) {\n",
       "    console.error(\"Bokeh: ERROR: autoload.js configured with elementid '1001' but no matching script tag was found. \")\n",
       "    return false;\n",
       "  }\n",
       "\n",
       "  function inject_raw_css(css) {\n",
       "    const element = document.createElement(\"style\");\n",
       "    element.appendChild(document.createTextNode(css));\n",
       "    document.body.appendChild(element);\n",
       "  }\n",
       "\n",
       "  \n",
       "  var js_urls = [\"https://cdn.pydata.org/bokeh/release/bokeh-1.4.0.min.js\", \"https://cdn.pydata.org/bokeh/release/bokeh-widgets-1.4.0.min.js\", \"https://cdn.pydata.org/bokeh/release/bokeh-tables-1.4.0.min.js\", \"https://cdn.pydata.org/bokeh/release/bokeh-gl-1.4.0.min.js\"];\n",
       "  var css_urls = [];\n",
       "  \n",
       "\n",
       "  var inline_js = [\n",
       "    function(Bokeh) {\n",
       "      Bokeh.set_log_level(\"info\");\n",
       "    },\n",
       "    function(Bokeh) {\n",
       "    \n",
       "    \n",
       "    }\n",
       "  ];\n",
       "\n",
       "  function run_inline_js() {\n",
       "    \n",
       "    if (root.Bokeh !== undefined || force === true) {\n",
       "      \n",
       "    for (var i = 0; i < inline_js.length; i++) {\n",
       "      inline_js[i].call(root, root.Bokeh);\n",
       "    }\n",
       "    if (force === true) {\n",
       "        display_loaded();\n",
       "      }} else if (Date.now() < root._bokeh_timeout) {\n",
       "      setTimeout(run_inline_js, 100);\n",
       "    } else if (!root._bokeh_failed_load) {\n",
       "      console.log(\"Bokeh: BokehJS failed to load within specified timeout.\");\n",
       "      root._bokeh_failed_load = true;\n",
       "    } else if (force !== true) {\n",
       "      var cell = $(document.getElementById(\"1001\")).parents('.cell').data().cell;\n",
       "      cell.output_area.append_execute_result(NB_LOAD_WARNING)\n",
       "    }\n",
       "\n",
       "  }\n",
       "\n",
       "  if (root._bokeh_is_loading === 0) {\n",
       "    console.debug(\"Bokeh: BokehJS loaded, going straight to plotting\");\n",
       "    run_inline_js();\n",
       "  } else {\n",
       "    load_libs(css_urls, js_urls, function() {\n",
       "      console.debug(\"Bokeh: BokehJS plotting callback run at\", now());\n",
       "      run_inline_js();\n",
       "    });\n",
       "  }\n",
       "}(window));"
      ],
      "application/vnd.bokehjs_load.v0+json": "\n(function(root) {\n  function now() {\n    return new Date();\n  }\n\n  var force = true;\n\n  if (typeof root._bokeh_onload_callbacks === \"undefined\" || force === true) {\n    root._bokeh_onload_callbacks = [];\n    root._bokeh_is_loading = undefined;\n  }\n\n  \n\n  \n  if (typeof (root._bokeh_timeout) === \"undefined\" || force === true) {\n    root._bokeh_timeout = Date.now() + 5000;\n    root._bokeh_failed_load = false;\n  }\n\n  var NB_LOAD_WARNING = {'data': {'text/html':\n     \"<div style='background-color: #fdd'>\\n\"+\n     \"<p>\\n\"+\n     \"BokehJS does not appear to have successfully loaded. If loading BokehJS from CDN, this \\n\"+\n     \"may be due to a slow or bad network connection. Possible fixes:\\n\"+\n     \"</p>\\n\"+\n     \"<ul>\\n\"+\n     \"<li>re-rerun `output_notebook()` to attempt to load from CDN again, or</li>\\n\"+\n     \"<li>use INLINE resources instead, as so:</li>\\n\"+\n     \"</ul>\\n\"+\n     \"<code>\\n\"+\n     \"from bokeh.resources import INLINE\\n\"+\n     \"output_notebook(resources=INLINE)\\n\"+\n     \"</code>\\n\"+\n     \"</div>\"}};\n\n  function display_loaded() {\n    var el = document.getElementById(\"1001\");\n    if (el != null) {\n      el.textContent = \"BokehJS is loading...\";\n    }\n    if (root.Bokeh !== undefined) {\n      if (el != null) {\n        el.textContent = \"BokehJS \" + root.Bokeh.version + \" successfully loaded.\";\n      }\n    } else if (Date.now() < root._bokeh_timeout) {\n      setTimeout(display_loaded, 100)\n    }\n  }\n\n\n  function run_callbacks() {\n    try {\n      root._bokeh_onload_callbacks.forEach(function(callback) {\n        if (callback != null)\n          callback();\n      });\n    } finally {\n      delete root._bokeh_onload_callbacks\n    }\n    console.debug(\"Bokeh: all callbacks have finished\");\n  }\n\n  function load_libs(css_urls, js_urls, callback) {\n    if (css_urls == null) css_urls = [];\n    if (js_urls == null) js_urls = [];\n\n    root._bokeh_onload_callbacks.push(callback);\n    if (root._bokeh_is_loading > 0) {\n      console.debug(\"Bokeh: BokehJS is being loaded, scheduling callback at\", now());\n      return null;\n    }\n    if (js_urls == null || js_urls.length === 0) {\n      run_callbacks();\n      return null;\n    }\n    console.debug(\"Bokeh: BokehJS not loaded, scheduling load and callback at\", now());\n    root._bokeh_is_loading = css_urls.length + js_urls.length;\n\n    function on_load() {\n      root._bokeh_is_loading--;\n      if (root._bokeh_is_loading === 0) {\n        console.debug(\"Bokeh: all BokehJS libraries/stylesheets loaded\");\n        run_callbacks()\n      }\n    }\n\n    function on_error() {\n      console.error(\"failed to load \" + url);\n    }\n\n    for (var i = 0; i < css_urls.length; i++) {\n      var url = css_urls[i];\n      const element = document.createElement(\"link\");\n      element.onload = on_load;\n      element.onerror = on_error;\n      element.rel = \"stylesheet\";\n      element.type = \"text/css\";\n      element.href = url;\n      console.debug(\"Bokeh: injecting link tag for BokehJS stylesheet: \", url);\n      document.body.appendChild(element);\n    }\n\n    for (var i = 0; i < js_urls.length; i++) {\n      var url = js_urls[i];\n      var element = document.createElement('script');\n      element.onload = on_load;\n      element.onerror = on_error;\n      element.async = false;\n      element.src = url;\n      console.debug(\"Bokeh: injecting script tag for BokehJS library: \", url);\n      document.head.appendChild(element);\n    }\n  };var element = document.getElementById(\"1001\");\n  if (element == null) {\n    console.error(\"Bokeh: ERROR: autoload.js configured with elementid '1001' but no matching script tag was found. \")\n    return false;\n  }\n\n  function inject_raw_css(css) {\n    const element = document.createElement(\"style\");\n    element.appendChild(document.createTextNode(css));\n    document.body.appendChild(element);\n  }\n\n  \n  var js_urls = [\"https://cdn.pydata.org/bokeh/release/bokeh-1.4.0.min.js\", \"https://cdn.pydata.org/bokeh/release/bokeh-widgets-1.4.0.min.js\", \"https://cdn.pydata.org/bokeh/release/bokeh-tables-1.4.0.min.js\", \"https://cdn.pydata.org/bokeh/release/bokeh-gl-1.4.0.min.js\"];\n  var css_urls = [];\n  \n\n  var inline_js = [\n    function(Bokeh) {\n      Bokeh.set_log_level(\"info\");\n    },\n    function(Bokeh) {\n    \n    \n    }\n  ];\n\n  function run_inline_js() {\n    \n    if (root.Bokeh !== undefined || force === true) {\n      \n    for (var i = 0; i < inline_js.length; i++) {\n      inline_js[i].call(root, root.Bokeh);\n    }\n    if (force === true) {\n        display_loaded();\n      }} else if (Date.now() < root._bokeh_timeout) {\n      setTimeout(run_inline_js, 100);\n    } else if (!root._bokeh_failed_load) {\n      console.log(\"Bokeh: BokehJS failed to load within specified timeout.\");\n      root._bokeh_failed_load = true;\n    } else if (force !== true) {\n      var cell = $(document.getElementById(\"1001\")).parents('.cell').data().cell;\n      cell.output_area.append_execute_result(NB_LOAD_WARNING)\n    }\n\n  }\n\n  if (root._bokeh_is_loading === 0) {\n    console.debug(\"Bokeh: BokehJS loaded, going straight to plotting\");\n    run_inline_js();\n  } else {\n    load_libs(css_urls, js_urls, function() {\n      console.debug(\"Bokeh: BokehJS plotting callback run at\", now());\n      run_inline_js();\n    });\n  }\n}(window));"
     },
     "metadata": {},
     "output_type": "display_data"
    }
   ],
   "source": [
    "from bokeh.plotting import figure, show, output_file, save\n",
    "from bokeh.io import output_notebook\n",
    "# select a palette\n",
    "from bokeh.palettes import d3\n",
    "output_notebook()"
   ]
  },
  {
   "cell_type": "code",
   "execution_count": 3,
   "metadata": {},
   "outputs": [],
   "source": [
    "# symmetrical mean absolute percentage error\n",
    "def smape(targets, predictions):\n",
    "    '''\n",
    "    predictions: a list with the predicted values\n",
    "    targets: a list with the actual values\n",
    "    '''\n",
    "    import numpy as np\n",
    "    # lists to NumPy arrays\n",
    "    targets, predictions = np.array(targets), np.array(predictions)\n",
    "    # verify predictions and targets have the same shape\n",
    "    if predictions.shape == targets.shape:\n",
    "            return(np.sum(2*np.abs(predictions - targets) /\n",
    "                          (np.abs(targets) + np.abs(predictions)))/predictions.shape[0])"
   ]
  },
  {
   "cell_type": "code",
   "execution_count": 4,
   "metadata": {},
   "outputs": [],
   "source": [
    "# a function to encode float values for serialized examples\n",
    "def _float_feature_from_list_of_values(list_of_values):\n",
    "    \"\"\"Returns a float_list from a list of floats / doubles.\"\"\"\n",
    "    return tf.train.Feature(float_list=tf.train.FloatList(value=list_of_values))"
   ]
  },
  {
   "cell_type": "code",
   "execution_count": 5,
   "metadata": {},
   "outputs": [],
   "source": [
    "# converts a set of tensors to a feature dict to a serialized example to pass it\n",
    "# to the prediction function of the saved model \n",
    "def input_tensors_to_serialized_example(encoder_input_float_tensor,\n",
    "                                        decoder_input_float_tensor,\n",
    "                                        id_float_tensor):\n",
    "    # first, pass the float tensors to NumPy array, then flatten them\n",
    "    encoder_input_flat_array = encoder_input_float_tensor.numpy().flatten()\n",
    "    decoder_input_flat_array = decoder_input_float_tensor.numpy().flatten()\n",
    "    id_flat_array = id_float_tensor.numpy().flatten()\n",
    "    \n",
    "    # second, build the protobuffer example\n",
    "    example = tf.train.Example(\n",
    "        # features within the example\n",
    "        features=tf.train.Features(\n",
    "            # feature definition\n",
    "            feature={\n",
    "                'encoder_input': _float_feature_from_list_of_values(encoder_input_flat_array),\n",
    "                'decoder_input': _float_feature_from_list_of_values(decoder_input_flat_array),\n",
    "                'id': _float_feature_from_list_of_values(id_flat_array)\n",
    "            }\n",
    "        )\n",
    "    )    \n",
    "    # third, serialize the example dictionary to a string\n",
    "    serialized_example = example.SerializeToString()\n",
    "    # fourth, wrap the serialized example as a NumPy-string array\n",
    "    numpy_example = np.array(serialized_example, dtype='S')\n",
    "    # fifth, wrap the NumPy-string array as a string tensor\n",
    "    serialized_example = tf.convert_to_tensor(numpy_example)\n",
    "\n",
    "    return serialized_example"
   ]
  },
  {
   "cell_type": "code",
   "execution_count": 6,
   "metadata": {},
   "outputs": [],
   "source": [
    "PROJECT_ROOT = '/home/developer/gcp/cbidmltsf'"
   ]
  },
  {
   "cell_type": "code",
   "execution_count": 7,
   "metadata": {},
   "outputs": [],
   "source": [
    "# during batch prediction, the model identifier is obtained via Abseil Flags\n",
    "# remember this notebook is based on local execution,\n",
    "# therefore model directory must be downloaded from GS before running the notebook\n",
    "model_id = 'BSCTRFM_TPU_014'"
   ]
  },
  {
   "cell_type": "code",
   "execution_count": 8,
   "metadata": {},
   "outputs": [],
   "source": [
    "# during batch prediction, the SLDB identifier is obtained via Abseil Flags\n",
    "# THE SLDB FOR INFERENCE MUST BE THE SAME USED FOR TRAINING! (THE ONE SETUP IN THE CONFIGURATION FILE)\n",
    "sldb_id = 'LD2011-2014_MT320-MT330_BSCTRFM_168_168'"
   ]
  },
  {
   "cell_type": "code",
   "execution_count": 9,
   "metadata": {},
   "outputs": [],
   "source": [
    "# during batch prediction, the dataset name is obtained via Abseil Flags\n",
    "dataset = 'test'"
   ]
  },
  {
   "cell_type": "code",
   "execution_count": 10,
   "metadata": {},
   "outputs": [],
   "source": [
    "# define a forecast window to guide the iterative prediction process\n",
    "# start with a hourly, day-ahead process\n",
    "forecast_window = 24"
   ]
  },
  {
   "cell_type": "code",
   "execution_count": 11,
   "metadata": {},
   "outputs": [],
   "source": [
    "# ADD AN INFERENCE IDENTIFIER, BECAUSE FOR TRANSFORMER-BASED MODELS, DIFFERENT INFERENCES\n",
    "# CAN BE PRODUCED FROM A SINGLE SAVED MODEL (USUALLY TO PRODUCE DIFFERENT FORECAST WINDOWS)\n",
    "# during batch prediction, the inference identifier should be obtained via Abseil Flags\n",
    "inference = '{:03d}'.format(forecast_window)"
   ]
  },
  {
   "cell_type": "code",
   "execution_count": 12,
   "metadata": {},
   "outputs": [],
   "source": [
    "# build a path to the SLDB json file\n",
    "data_dir = '{}/{}/{}'.format(PROJECT_ROOT, 'sldbs', sldb_id)\n",
    "\n",
    "# then get the ts_identifier from the json file in the sldb directory\n",
    "sldb_json_file = '{}/sldb.json'.format(data_dir)"
   ]
  },
  {
   "cell_type": "code",
   "execution_count": 13,
   "metadata": {},
   "outputs": [],
   "source": [
    "# open the json file\n",
    "with open(sldb_json_file, 'r') as inputfile:\n",
    "    sldb_dict = json.load(inputfile)"
   ]
  },
  {
   "cell_type": "code",
   "execution_count": 14,
   "metadata": {},
   "outputs": [
    {
     "data": {
      "text/plain": [
       "'LD2011-2014_MT320-MT330'"
      ]
     },
     "execution_count": 14,
     "metadata": {},
     "output_type": "execute_result"
    }
   ],
   "source": [
    "# and get the time series identifier\n",
    "ts_identifier = sldb_dict['ts']\n",
    "ts_identifier"
   ]
  },
  {
   "cell_type": "code",
   "execution_count": 15,
   "metadata": {},
   "outputs": [],
   "source": [
    "# get the SLDB parameters for the forecasting model\n",
    "config_json_file = '{}/{}/{}.json'.format(PROJECT_ROOT,\n",
    "                                          'parameters',\n",
    "                                          model_id)\n",
    "\n",
    "# recover the sldb dictionary from the json file in parameters/\n",
    "with open(config_json_file, 'r') as inputfile:\n",
    "    configuration = json.load(inputfile)"
   ]
  },
  {
   "cell_type": "code",
   "execution_count": 16,
   "metadata": {},
   "outputs": [
    {
     "data": {
      "text/plain": [
       "168"
      ]
     },
     "execution_count": 16,
     "metadata": {},
     "output_type": "execute_result"
    }
   ],
   "source": [
    "m = sldb_dict['embedding']['hourly']\n",
    "m"
   ]
  },
  {
   "cell_type": "code",
   "execution_count": 17,
   "metadata": {},
   "outputs": [
    {
     "data": {
      "text/plain": [
       "168"
      ]
     },
     "execution_count": 17,
     "metadata": {},
     "output_type": "execute_result"
    }
   ],
   "source": [
    "t = sldb_dict['no_targets']\n",
    "t"
   ]
  },
  {
   "cell_type": "code",
   "execution_count": 18,
   "metadata": {},
   "outputs": [
    {
     "data": {
      "text/plain": [
       "('BSCTRFM_TPU_014', 'test', '024')"
      ]
     },
     "execution_count": 18,
     "metadata": {},
     "output_type": "execute_result"
    }
   ],
   "source": [
    "# verify the values of the variables for batch inference\n",
    "model_id, dataset, inference"
   ]
  },
  {
   "cell_type": "code",
   "execution_count": 19,
   "metadata": {},
   "outputs": [],
   "source": [
    "encoder_input_columns = [\n",
    "    'kw_scaled',\n",
    "    'sin_hour_day',\n",
    "    'cos_hour_day',\n",
    "    'sin_day_week',\n",
    "    'cos_day_week',\n",
    "    'sin_day_month',\n",
    "    'cos_day_month',\n",
    "    'sin_day_year',\n",
    "    'cos_day_year'\n",
    "]"
   ]
  },
  {
   "cell_type": "code",
   "execution_count": 20,
   "metadata": {},
   "outputs": [],
   "source": [
    "decoder_input_columns = encoder_input_columns"
   ]
  },
  {
   "cell_type": "code",
   "execution_count": 21,
   "metadata": {},
   "outputs": [],
   "source": [
    "id_columns = ['token_id']"
   ]
  },
  {
   "cell_type": "code",
   "execution_count": 22,
   "metadata": {},
   "outputs": [],
   "source": [
    "# now get the time series for the test dataset (unseen data)"
   ]
  },
  {
   "cell_type": "code",
   "execution_count": 23,
   "metadata": {},
   "outputs": [],
   "source": [
    "# define a identifier string to access to the preprocessed time series\n",
    "identifier = 'LD2011-2014'"
   ]
  },
  {
   "cell_type": "code",
   "execution_count": 24,
   "metadata": {},
   "outputs": [],
   "source": [
    "# build the time series directory\n",
    "time_series_folder = '/home/developer/gcp/cbidmltsf/timeseries/{}'.format(identifier)"
   ]
  },
  {
   "cell_type": "code",
   "execution_count": 25,
   "metadata": {},
   "outputs": [],
   "source": [
    "# use a dictionary to remain the code consistent with the SLDB building process\n",
    "# most of the times, only ts['test'] will be used for inference\n",
    "# however, ts['eval'] might also be used, as it have not really been seen by training process\n",
    "# (no tranining modification resulted from evaluation stage)"
   ]
  },
  {
   "cell_type": "markdown",
   "metadata": {},
   "source": [
    "### rename the time series dictionary to ts_test, use the customer_id as key"
   ]
  },
  {
   "cell_type": "code",
   "execution_count": 46,
   "metadata": {},
   "outputs": [],
   "source": [
    "ts_test = dict()"
   ]
  },
  {
   "cell_type": "code",
   "execution_count": 47,
   "metadata": {},
   "outputs": [],
   "source": [
    "# a dictionary to store predictions detail dataframe per customer id\n",
    "predictions_detail = dict()"
   ]
  },
  {
   "cell_type": "code",
   "execution_count": 48,
   "metadata": {},
   "outputs": [],
   "source": [
    "# a dictionary to store predictions summary dataframe per customer id\n",
    "predictions_summary = dict()"
   ]
  },
  {
   "cell_type": "code",
   "execution_count": null,
   "metadata": {},
   "outputs": [],
   "source": []
  },
  {
   "cell_type": "code",
   "execution_count": null,
   "metadata": {},
   "outputs": [],
   "source": []
  },
  {
   "cell_type": "markdown",
   "metadata": {},
   "source": [
    "## skip the following code to avoid inference process"
   ]
  },
  {
   "cell_type": "code",
   "execution_count": null,
   "metadata": {},
   "outputs": [],
   "source": []
  },
  {
   "cell_type": "markdown",
   "metadata": {},
   "source": [
    "## load predictions detail dataframes from the database directory"
   ]
  },
  {
   "cell_type": "code",
   "execution_count": 49,
   "metadata": {},
   "outputs": [],
   "source": [
    "model_id = 'BSCTRFM_TPU_014'\n",
    "execution = 4\n",
    "saved_model_id = '1632841048'\n",
    "inference = '024'"
   ]
  },
  {
   "cell_type": "code",
   "execution_count": 50,
   "metadata": {},
   "outputs": [],
   "source": [
    "customer_ids = [\n",
    "    'MT_320', 'MT_321', 'MT_322', 'MT_323', 'MT_324', 'MT_325', 'MT_326', 'MT_327', 'MT_328', 'MT_329', 'MT_330'\n",
    "]"
   ]
  },
  {
   "cell_type": "code",
   "execution_count": 51,
   "metadata": {},
   "outputs": [],
   "source": [
    "for customer_id in customer_ids:\n",
    "    detail_pickle_path = '{}/{}/{}/{}_{:02d}_{}_{}_{}.pkl'.format(\n",
    "        PROJECT_ROOT,\n",
    "        'database',\n",
    "        'predictions_detail',\n",
    "        model_id,\n",
    "        execution,\n",
    "        saved_model_id,\n",
    "        # for electricity dataset, replace dataset with customer_id\n",
    "        customer_id,\n",
    "        inference)\n",
    "    \n",
    "    predictions_detail[customer_id] = pd.read_pickle(detail_pickle_path)"
   ]
  },
  {
   "cell_type": "code",
   "execution_count": null,
   "metadata": {},
   "outputs": [],
   "source": []
  },
  {
   "cell_type": "code",
   "execution_count": 52,
   "metadata": {},
   "outputs": [],
   "source": [
    "# a dictionary to manage Bokeh plots\n",
    "plots = dict()"
   ]
  },
  {
   "cell_type": "code",
   "execution_count": 53,
   "metadata": {
    "scrolled": false
   },
   "outputs": [
    {
     "data": {
      "text/html": [
       "\n",
       "\n",
       "\n",
       "\n",
       "\n",
       "\n",
       "  <div class=\"bk-root\" id=\"a0df83a9-9814-4700-a03d-cea48c44dd8b\" data-root-id=\"8724\"></div>\n"
      ]
     },
     "metadata": {},
     "output_type": "display_data"
    },
    {
     "data": {
      "application/javascript": [
       "(function(root) {\n",
       "  function embed_document(root) {\n",
       "    \n",
       "  var docs_json = {\"5b343602-db25-458b-8c5c-3729f1fefc36\":{\"roots\":{\"references\":[{\"attributes\":{\"below\":[{\"id\":\"8735\",\"type\":\"LinearAxis\"}],\"center\":[{\"id\":\"8739\",\"type\":\"Grid\"},{\"id\":\"8744\",\"type\":\"Grid\"},{\"id\":\"8769\",\"type\":\"Legend\"}],\"left\":[{\"id\":\"8740\",\"type\":\"LinearAxis\"}],\"plot_height\":320,\"plot_width\":960,\"renderers\":[{\"id\":\"8761\",\"type\":\"GlyphRenderer\"},{\"id\":\"8774\",\"type\":\"GlyphRenderer\"},{\"id\":\"8788\",\"type\":\"GlyphRenderer\"}],\"title\":{\"id\":\"8725\",\"type\":\"Title\"},\"toolbar\":{\"id\":\"8751\",\"type\":\"Toolbar\"},\"x_range\":{\"id\":\"8727\",\"type\":\"DataRange1d\"},\"x_scale\":{\"id\":\"8731\",\"type\":\"LinearScale\"},\"y_range\":{\"id\":\"8729\",\"type\":\"DataRange1d\"},\"y_scale\":{\"id\":\"8733\",\"type\":\"LinearScale\"}},\"id\":\"8724\",\"subtype\":\"Figure\",\"type\":\"Plot\"},{\"attributes\":{},\"id\":\"8750\",\"type\":\"HelpTool\"},{\"attributes\":{\"source\":{\"id\":\"8785\",\"type\":\"ColumnDataSource\"}},\"id\":\"8789\",\"type\":\"CDSView\"},{\"attributes\":{\"active_drag\":\"auto\",\"active_inspect\":\"auto\",\"active_multi\":null,\"active_scroll\":\"auto\",\"active_tap\":\"auto\",\"tools\":[{\"id\":\"8745\",\"type\":\"PanTool\"},{\"id\":\"8746\",\"type\":\"WheelZoomTool\"},{\"id\":\"8747\",\"type\":\"BoxZoomTool\"},{\"id\":\"8748\",\"type\":\"SaveTool\"},{\"id\":\"8749\",\"type\":\"ResetTool\"},{\"id\":\"8750\",\"type\":\"HelpTool\"}]},\"id\":\"8751\",\"type\":\"Toolbar\"},{\"attributes\":{\"line_alpha\":0.1,\"line_color\":\"#1f77b4\",\"x\":{\"field\":\"x\"},\"y\":{\"field\":\"y\"}},\"id\":\"8787\",\"type\":\"Line\"},{\"attributes\":{\"data_source\":{\"id\":\"8785\",\"type\":\"ColumnDataSource\"},\"glyph\":{\"id\":\"8786\",\"type\":\"Line\"},\"hover_glyph\":null,\"muted_glyph\":null,\"nonselection_glyph\":{\"id\":\"8787\",\"type\":\"Line\"},\"selection_glyph\":null,\"view\":{\"id\":\"8789\",\"type\":\"CDSView\"}},\"id\":\"8788\",\"type\":\"GlyphRenderer\"},{\"attributes\":{\"bottom_units\":\"screen\",\"fill_alpha\":{\"value\":0.5},\"fill_color\":{\"value\":\"lightgrey\"},\"left_units\":\"screen\",\"level\":\"overlay\",\"line_alpha\":{\"value\":1.0},\"line_color\":{\"value\":\"black\"},\"line_dash\":[4,4],\"line_width\":{\"value\":2},\"render_mode\":\"css\",\"right_units\":\"screen\",\"top_units\":\"screen\"},\"id\":\"8768\",\"type\":\"BoxAnnotation\"},{\"attributes\":{},\"id\":\"8764\",\"type\":\"BasicTickFormatter\"},{\"attributes\":{},\"id\":\"8797\",\"type\":\"UnionRenderers\"},{\"attributes\":{},\"id\":\"8766\",\"type\":\"BasicTickFormatter\"},{\"attributes\":{},\"id\":\"8741\",\"type\":\"BasicTicker\"},{\"attributes\":{},\"id\":\"8798\",\"type\":\"Selection\"},{\"attributes\":{\"axis_label\":\"Test Dataset Row Index\",\"formatter\":{\"id\":\"8766\",\"type\":\"BasicTickFormatter\"},\"ticker\":{\"id\":\"8736\",\"type\":\"BasicTicker\"}},\"id\":\"8735\",\"type\":\"LinearAxis\"},{\"attributes\":{\"text\":\"ND, NRMSE, and SMAPE over the test set for MT_320\"},\"id\":\"8725\",\"type\":\"Title\"},{\"attributes\":{\"line_alpha\":0.1,\"line_color\":\"#1f77b4\",\"x\":{\"field\":\"x\"},\"y\":{\"field\":\"y\"}},\"id\":\"8773\",\"type\":\"Line\"},{\"attributes\":{\"axis_label\":\"Error\",\"formatter\":{\"id\":\"8764\",\"type\":\"BasicTickFormatter\"},\"ticker\":{\"id\":\"8741\",\"type\":\"BasicTicker\"}},\"id\":\"8740\",\"type\":\"LinearAxis\"},{\"attributes\":{\"callback\":null},\"id\":\"8729\",\"type\":\"DataRange1d\"},{\"attributes\":{\"callback\":null,\"data\":{\"x\":[0,1,2,3,4,5,6,7,8,9,10,11,12,13,14,15,16,17,18,19,20,21,22,23,24,25,26,27,28,29,30,31,32,33,34,35,36,37,38,39,40,41,42,43,44,45,46,47,48,49,50,51,52,53,54,55,56,57,58,59,60,61,62,63,64,65,66,67,68,69,70,71,72,73,74,75,76,77,78,79,80,81,82,83,84,85,86,87,88,89,90,91,92,93,94,95,96,97,98,99,100,101,102,103,104,105,106,107,108,109,110,111,112,113,114,115,116,117,118,119,120,121,122,123,124,125,126,127,128,129,130,131,132,133,134,135,136,137,138,139,140,141,142,143,144],\"y\":{\"__ndarray__\":\"GTda1w8twD9Tx4caRc67PyZqu9pNDr8/cZBUcJfjvD+79MwqYgK/PzS6szLmhbs/AGlZq6jUvD9vmowm2De+P+RGlOpV+Lw/8StE+ypEvz/S6GJKsjrAP4CZRJ72DL0/rPnnzyGCvz9sKYS+2X68P447nFRk+ro/45+dJxsgtT84IH2l+MS1P3Sw97LFf7A/9bixEtJctD+eEcDFK/y0P1CY6Wr39LY/WkwjoJAQtz8YlP9qr4q1P9SOqVGtm7Y/K4fUZrvGtD8wNNEEgJOyPzkjh9ra27U/qBFbd4CSuD/QBYZK5y21P8l8+9gQerU/JETWTWuntT8njRRdTxO3P8xFdt9sR7U/mJve6UEdtj8d+eQWwcqzP1Ha2AR0ObQ/lIndofovtj8HyQf7YSq0P8MSFbvlBbQ/aeewNIpntj9+f32wU6y2P4AMwKYDuLc/lSIUM5ZYtz+MEpcrYbq3P4AyU2IwMbY/CtvdGUIztT+hi7g2x6O1P9hyFfvY0Lc/6lWwjzc+uD8b9pSqT/e1P0/AhKwhgLU/JGUuC8MUuT9vQIYJewS5P2BC+MchFrY/db0VEuC+tj9N1LTp+SS1Px/zcJ7bK7Y/rcVGoe9xuD8Tw+2sVrG2PxCatz3WyLc/i/F9l07xsT8bciL4Sye3P/P20uV3Wrg/YP8qaMEstz9w2QlaGU63P7lDGagGrLc/HG3pa0TTtj8avG0Dkiq1PwLnnq4/HLc/icSVy2potj8/wRTk4Za5P4cSf9Xkk7g/5Tb1E08Htz/l2AAzqFq2P8/O98I2qrc/xEvWQLcNuT/hKCEjtTG4P1/5TMzRXLk/H614Dxbktj9Tv72SIwG3P4gXqp7S77U/ECQCfT01tz9LFQm+Phu0P18YEWYQUbk/LsjbiH6EvD/G0vP21CS6Py7QVPGCj78/HtelB9xKvj89ZukOeVm9P1u43fY0Ur0/rchDyU0/vT8OrP8QLXu/P8Fxqb+RRcA/KL/FcnsrvD+cZNYYVRe8PwQzfvDN4r8/BXIsJpf9uz+60OfIOUG9PyaVaKosiLw/RNrGImhtvD9LtdE3kie8PySFgewQSrs/wRGDI+eDvD98r5pYsFG/P96gr/KPZb0/r3bsLvMcvT+WFwgtqZq+PzmYeSYDesA/RTydbcDavz/F5cJNe4+/P3+Jm1Vha8E/KEIALJ1ewT9kaQ+n+3XCPwOAki7exME/OW/VP74Rwz+0gISeVG/BP53RjYqTH8M/ht/k7fgnwz9koMy7GEfDP22pMv5hrcI/GX7Pjp4Xwj/78tp8lRPDP/dbnVnCZMI/127Mv2XZxD8qoQbv4LrCP35s5HtJFsM/5fjqO+VpxD8Jw/meCMrBP303Dev/r8M/GI80s+tfwz9xT2m0kpHBPzvDLCUC3sA/qhEWucocwT9zrZENkDfBP4EvV6QSpb8/MH2G4Qeduz8UnxjMlcG+P6z9cIf8Wb4/82plRdTvuT9qqWP2DhW8P4z+E7It178/FvU0JOa8wT+9cXirtAjBP+phi7B+psA/W9ZNTXF/wj8=\",\"dtype\":\"float64\",\"shape\":[145]}},\"selected\":{\"id\":\"8798\",\"type\":\"Selection\"},\"selection_policy\":{\"id\":\"8797\",\"type\":\"UnionRenderers\"}},\"id\":\"8771\",\"type\":\"ColumnDataSource\"},{\"attributes\":{\"callback\":null},\"id\":\"8727\",\"type\":\"DataRange1d\"},{\"attributes\":{\"callback\":null,\"data\":{\"x\":[0,1,2,3,4,5,6,7,8,9,10,11,12,13,14,15,16,17,18,19,20,21,22,23,24,25,26,27,28,29,30,31,32,33,34,35,36,37,38,39,40,41,42,43,44,45,46,47,48,49,50,51,52,53,54,55,56,57,58,59,60,61,62,63,64,65,66,67,68,69,70,71,72,73,74,75,76,77,78,79,80,81,82,83,84,85,86,87,88,89,90,91,92,93,94,95,96,97,98,99,100,101,102,103,104,105,106,107,108,109,110,111,112,113,114,115,116,117,118,119,120,121,122,123,124,125,126,127,128,129,130,131,132,133,134,135,136,137,138,139,140,141,142,143,144],\"y\":{\"__ndarray__\":\"i7CL62ZNtj/AZ3XoDnW1Pzm+LU8NGLU/3SmIncHitD8gqVKWPxq3P5sgory1WLU/jSkLeZU0tj8LqsyIc8i2P/+Gc1UncLY/s42b6r3Utz/L5oaD5sm3P7Vxl7Bt47U/JeyXYOAqtj9zKR+VJvC0Pxiz9jDQkrU/sIK0CFshsT+XPHCrx+mxP1tDiER1I6o//zWDl8stsD/zLciI30CwPz3huVRVvLA/hSaWjhYfsT/HOloPyKqxP5BDjkb2S7E/e7UoGdZpsD9rG3nDwdWsP2l653lNQrI/1DlYY5s9tD8gRcGLRm6yP6udATXHkbM/yCFzL4hpsz/1e7flHSiyPxg4BQfqy7E/o7/RIBPysT80BPb4o/ewPzEag8G00rI/gxEeNPiKsz+ppjfEgg2zPx1a19XfDrE/V4/9Vjmtsj/Cq8RTVhqzP5n6IuVxs7M/oZOhNX48tD8dxN49QB61P9Ue+B8tyLM/RziP7ALCsj8DmqVZiBWzPw0UOTGXmrU/U7neii+9tj+JRdkIqcqxP/NPr4Dq6bQ/8GOn8qejtz9B8lTYU5m2P/vVB8QAoLQ/XT8E8dAltD/c4cZcrcyyPwjAIeLHEbU/qCvEpENZtz+U64y2pV+0P5B87cM4Q7Y/wTy46Ia9sD8PmQAR+YS0P4Nx4jLcyrY/i5zResBGtD/T13c0fnS1P2gu3ut8jbY/vKzCk1t9sz8wgCDI0qyxP7xK3plBmbQ/l+EYTj63sz9cNRmjKie2PymOtnh6yrQ/r4YLj9XLtD/lbPQeT/axP48fGmhMRrU/A4vsuwShtD8F0U0JPJK0P3htj85/ILU/Jxi/g3BetD/15Qq3Fp+1P4aOWlpf87M/uyHlPe3itD8bs0C1/MOxP7yuBkohHbY/GX3GkI5VuT/4t1VAYay1P90MbTZ3ELw/NcnDXdzJtz8DLPLOcju5PwWwP+2VArk/GA/uv3mWtz8z8bZtJIW7P4A+1wlwJrs/WD5ukEWWtz8D1vgt/lK4P5CV7Bgk8Ls/43lifbsBuD/NnMekTie2P6GtzRKnALc/1R1O1Pj5tT8PMz19gU20PyGirUzpPbQ/mS92q2CUtD+BBYElp622P8vcjwyh/rQ/MI1S3dCFtT/LEurtKfC4P9zHXRzOArs/CfOP1gQOuT+QWTQ8RbG2P4dRIEBKVrk/kDzFSGDftz/EUtZYs8i7P8vvcdz5S7k/ka/H9cdNvD/RDeSqmIO4P93RXg8qjLs/83kiDTOmuj/nkgnS2p+7P7t6GT/b+Lo/v3z9Ja2PvD+gvq6Z4vW6P3vxqbp7k7k/UIWkWj/avz8s7pJNpwi9P7QIlmYVKrw/E+5JpuB/vz/rW1iPEBy8P8UxO5y2p74/pE9VQK90vz9B6rOW8kq8PwCI1Op/w7k/MKe9CHyCvD8tInwdWn67P09HzwPFOrg/h8acVNjstT9VVRZWLai3P40GypxQ47k/nOYAnOx6tj8f3fHJmUe4P/vmMAWtULY/gPLAIUVCvT8Qk2r/hE+8P7XlPbCl0rw/Mzp+VB++vj8=\",\"dtype\":\"float64\",\"shape\":[145]}},\"selected\":{\"id\":\"9185\",\"type\":\"Selection\"},\"selection_policy\":{\"id\":\"9184\",\"type\":\"UnionRenderers\"}},\"id\":\"8785\",\"type\":\"ColumnDataSource\"},{\"attributes\":{\"data_source\":{\"id\":\"8771\",\"type\":\"ColumnDataSource\"},\"glyph\":{\"id\":\"8772\",\"type\":\"Line\"},\"hover_glyph\":null,\"muted_glyph\":null,\"nonselection_glyph\":{\"id\":\"8773\",\"type\":\"Line\"},\"selection_glyph\":null,\"view\":{\"id\":\"8775\",\"type\":\"CDSView\"}},\"id\":\"8774\",\"type\":\"GlyphRenderer\"},{\"attributes\":{},\"id\":\"8733\",\"type\":\"LinearScale\"},{\"attributes\":{\"line_alpha\":0.1,\"line_color\":\"#1f77b4\",\"line_width\":2,\"x\":{\"field\":\"x\"},\"y\":{\"field\":\"y\"}},\"id\":\"8760\",\"type\":\"Line\"},{\"attributes\":{},\"id\":\"9185\",\"type\":\"Selection\"},{\"attributes\":{\"source\":{\"id\":\"8758\",\"type\":\"ColumnDataSource\"}},\"id\":\"8762\",\"type\":\"CDSView\"},{\"attributes\":{\"callback\":null,\"data\":{\"x\":[0,1,2,3,4,5,6,7,8,9,10,11,12,13,14,15,16,17,18,19,20,21,22,23,24,25,26,27,28,29,30,31,32,33,34,35,36,37,38,39,40,41,42,43,44,45,46,47,48,49,50,51,52,53,54,55,56,57,58,59,60,61,62,63,64,65,66,67,68,69,70,71,72,73,74,75,76,77,78,79,80,81,82,83,84,85,86,87,88,89,90,91,92,93,94,95,96,97,98,99,100,101,102,103,104,105,106,107,108,109,110,111,112,113,114,115,116,117,118,119,120,121,122,123,124,125,126,127,128,129,130,131,132,133,134,135,136,137,138,139,140,141,142,143,144],\"y\":{\"__ndarray__\":\"A0djSuD9tz/BCDj0dO+1P7XY1r8ZqbY/ulMsdHnItT+PnnXeOsy3P0OO5scq4bU/Yjlz+jeBtj+2L9lzm1a3P/3BtlnMY7Y/ZlraGVBxuD/KzkaJ6V24P+84Jc08dLY/6pFEe+Prtj8Yme7uRdS1P4c/xnEE77Q/RkQASARgsD/9dnaZFgyxPxtoWH7AKqg/KI88NWWTrj/2DCuDPB+wP7e9jcbj1bA/YVxEA3nlsD/aVVIuxb2wPxW2u5wDiLA/ed6VrnCfrj+PrLPhY6mrP8KiUMcEMLE/KbVUtwuVsj/EP4eJWTCxPxoQ4tP427E/P/mX0SaXsT/ZpPpD2ZywP3PWgvxvELA/qLfmvSOQsD8f15qNf0avP5RBP3aWs7A/UjMAwAoTsT91Ps6OYLSwP3zfoqfEH7A/zQTsejJksT8wfPKpjqiyP324ZL1UkLM/w01X+n87sz9vJWfthUGzP29tlwBqYrI/gatL7hbSsT8AtYyXNxiyP0mlOseY/bM/RQuQ5NfAtD8OJwEcG96xPzkCUy/xP7M/Vmy92F2ctT9cYlUuwKG0P1NpzlHPILM/dA8UOJrZsj/b82Baup2xP+eeQ44xdbM/5NtpuJ5mtT+DX7oroluzP4inNST7vLQ/UuJyk/klrz+M1vFDp0OzP8OXMj/Eq7U/Qi9uuAtasz8tnHCL2J6zP4ajdy8eALU/eZ66fgzysj8Ni1Gwv8CwP3vv9/p9SLM/9nxHaiS1sj+KWcRRvOu0P9Y3LB3JErQ/5VAgUiF1sz/qtUtyGL+xP/cuWAeuQbQ/d0zmJVf5sz8Po06SCsSzP1dgR1NC/rM/oCPHeZzssj/aDqgeQ8uzP/VLq72tgrI/GmEJGa45tD/20qzHVByxP5vD2/WUyrQ/oYDYEl8NuD9vO4GX2By1PyWkstAoQro/zCIZBiDptz/frMdrkWC4P5mRTYSn7bc/PzK3Hy63tj81dBmdLYu6Pw248nehqbo/hiJKGX7ktj+Ef1OdJzK3P41Br44m67o/BchN6Q9Jtz8QhjRm3Iy2P0ZwjvUNG7c/PFH6bfGAtj83fMjh0Oa1P7s9hMaPk7U/8j4J9VyjtT/T37kgcEC4P86KOs6bkrY/SauN5m9+tj93eF5bWmq5PwdcQd9eD7s/uxB56xLDuT9y5nJZr5G3Pz9RlQDl0bk/ydIY1B9TuT9sGoADup68P+oiMXqwnro/lkYDTLW8vT9oyvUHaVS6Pzex/gaNhL0/J9gKTtFOvD+NDh6rxbK8P/Izpc7jfbw/OgzKJLbAvD+JVbL2kla8P4x0OjDZ5ro/LDM7XsZnwD/r7oiV19C9PyTcEmC3Lb0/ntqZpVRHwD9t28xpTvy7Px8EOZy0Z78/rcWp6NdUvz9E78EKqMu7P6EE9a7Gkbk/64g+tWWjuz8H8HsQsja7P0yS1bEMZ7g/8rr4fmCbtD9LUg1QYvS3P/hLzVw04Lg/QEbTWEKdtT9Gd0Od5Ey3P/HQquafZrc/Y87O/8CTvD+lKYl2mOm7P6RKAQ2077s/OjFaOWZ0vj8=\",\"dtype\":\"float64\",\"shape\":[145]}},\"selected\":{\"id\":\"8782\",\"type\":\"Selection\"},\"selection_policy\":{\"id\":\"8781\",\"type\":\"UnionRenderers\"}},\"id\":\"8758\",\"type\":\"ColumnDataSource\"},{\"attributes\":{\"items\":[{\"id\":\"8770\",\"type\":\"LegendItem\"},{\"id\":\"8784\",\"type\":\"LegendItem\"},{\"id\":\"8800\",\"type\":\"LegendItem\"}]},\"id\":\"8769\",\"type\":\"Legend\"},{\"attributes\":{\"source\":{\"id\":\"8771\",\"type\":\"ColumnDataSource\"}},\"id\":\"8775\",\"type\":\"CDSView\"},{\"attributes\":{},\"id\":\"8745\",\"type\":\"PanTool\"},{\"attributes\":{\"label\":{\"value\":\"ND\"},\"renderers\":[{\"id\":\"8761\",\"type\":\"GlyphRenderer\"}]},\"id\":\"8770\",\"type\":\"LegendItem\"},{\"attributes\":{\"line_color\":\"green\",\"x\":{\"field\":\"x\"},\"y\":{\"field\":\"y\"}},\"id\":\"8772\",\"type\":\"Line\"},{\"attributes\":{},\"id\":\"8746\",\"type\":\"WheelZoomTool\"},{\"attributes\":{},\"id\":\"8781\",\"type\":\"UnionRenderers\"},{\"attributes\":{\"line_color\":\"orange\",\"line_width\":2,\"x\":{\"field\":\"x\"},\"y\":{\"field\":\"y\"}},\"id\":\"8759\",\"type\":\"Line\"},{\"attributes\":{\"overlay\":{\"id\":\"8768\",\"type\":\"BoxAnnotation\"}},\"id\":\"8747\",\"type\":\"BoxZoomTool\"},{\"attributes\":{\"label\":{\"value\":\"NRMSE\"},\"renderers\":[{\"id\":\"8774\",\"type\":\"GlyphRenderer\"}]},\"id\":\"8784\",\"type\":\"LegendItem\"},{\"attributes\":{},\"id\":\"8731\",\"type\":\"LinearScale\"},{\"attributes\":{},\"id\":\"8748\",\"type\":\"SaveTool\"},{\"attributes\":{},\"id\":\"8782\",\"type\":\"Selection\"},{\"attributes\":{\"data_source\":{\"id\":\"8758\",\"type\":\"ColumnDataSource\"},\"glyph\":{\"id\":\"8759\",\"type\":\"Line\"},\"hover_glyph\":null,\"muted_glyph\":null,\"nonselection_glyph\":{\"id\":\"8760\",\"type\":\"Line\"},\"selection_glyph\":null,\"view\":{\"id\":\"8762\",\"type\":\"CDSView\"}},\"id\":\"8761\",\"type\":\"GlyphRenderer\"},{\"attributes\":{},\"id\":\"9184\",\"type\":\"UnionRenderers\"},{\"attributes\":{},\"id\":\"8749\",\"type\":\"ResetTool\"},{\"attributes\":{\"ticker\":{\"id\":\"8736\",\"type\":\"BasicTicker\"}},\"id\":\"8739\",\"type\":\"Grid\"},{\"attributes\":{},\"id\":\"8736\",\"type\":\"BasicTicker\"},{\"attributes\":{\"label\":{\"value\":\"SMAPE\"},\"renderers\":[{\"id\":\"8788\",\"type\":\"GlyphRenderer\"}]},\"id\":\"8800\",\"type\":\"LegendItem\"},{\"attributes\":{\"dimension\":1,\"ticker\":{\"id\":\"8741\",\"type\":\"BasicTicker\"}},\"id\":\"8744\",\"type\":\"Grid\"},{\"attributes\":{\"line_color\":\"purple\",\"x\":{\"field\":\"x\"},\"y\":{\"field\":\"y\"}},\"id\":\"8786\",\"type\":\"Line\"}],\"root_ids\":[\"8724\"]},\"title\":\"Bokeh Application\",\"version\":\"1.4.0\"}};\n",
       "  var render_items = [{\"docid\":\"5b343602-db25-458b-8c5c-3729f1fefc36\",\"roots\":{\"8724\":\"a0df83a9-9814-4700-a03d-cea48c44dd8b\"}}];\n",
       "  root.Bokeh.embed.embed_items_notebook(docs_json, render_items);\n",
       "\n",
       "  }\n",
       "  if (root.Bokeh !== undefined) {\n",
       "    embed_document(root);\n",
       "  } else {\n",
       "    var attempts = 0;\n",
       "    var timer = setInterval(function(root) {\n",
       "      if (root.Bokeh !== undefined) {\n",
       "        clearInterval(timer);\n",
       "        embed_document(root);\n",
       "      } else {\n",
       "        attempts++;\n",
       "        if (attempts > 100) {\n",
       "          clearInterval(timer);\n",
       "          console.log(\"Bokeh: ERROR: Unable to run BokehJS code because BokehJS library is missing\");\n",
       "        }\n",
       "      }\n",
       "    }, 10, root)\n",
       "  }\n",
       "})(window);"
      ],
      "application/vnd.bokehjs_exec.v0+json": ""
     },
     "metadata": {
      "application/vnd.bokehjs_exec.v0+json": {
       "id": "8724"
      }
     },
     "output_type": "display_data"
    },
    {
     "data": {
      "text/html": [
       "\n",
       "\n",
       "\n",
       "\n",
       "\n",
       "\n",
       "  <div class=\"bk-root\" id=\"e1ef9052-09bf-4f15-acff-c66840d50a12\" data-root-id=\"9259\"></div>\n"
      ]
     },
     "metadata": {},
     "output_type": "display_data"
    },
    {
     "data": {
      "application/javascript": [
       "(function(root) {\n",
       "  function embed_document(root) {\n",
       "    \n",
       "  var docs_json = {\"fc00837d-e796-4aa0-8025-ad867acce4ad\":{\"roots\":{\"references\":[{\"attributes\":{\"below\":[{\"id\":\"9270\",\"type\":\"LinearAxis\"}],\"center\":[{\"id\":\"9274\",\"type\":\"Grid\"},{\"id\":\"9279\",\"type\":\"Grid\"},{\"id\":\"9304\",\"type\":\"Legend\"}],\"left\":[{\"id\":\"9275\",\"type\":\"LinearAxis\"}],\"plot_height\":320,\"plot_width\":960,\"renderers\":[{\"id\":\"9296\",\"type\":\"GlyphRenderer\"},{\"id\":\"9309\",\"type\":\"GlyphRenderer\"},{\"id\":\"9323\",\"type\":\"GlyphRenderer\"}],\"title\":{\"id\":\"9260\",\"type\":\"Title\"},\"toolbar\":{\"id\":\"9286\",\"type\":\"Toolbar\"},\"x_range\":{\"id\":\"9262\",\"type\":\"DataRange1d\"},\"x_scale\":{\"id\":\"9266\",\"type\":\"LinearScale\"},\"y_range\":{\"id\":\"9264\",\"type\":\"DataRange1d\"},\"y_scale\":{\"id\":\"9268\",\"type\":\"LinearScale\"}},\"id\":\"9259\",\"subtype\":\"Figure\",\"type\":\"Plot\"},{\"attributes\":{\"overlay\":{\"id\":\"9303\",\"type\":\"BoxAnnotation\"}},\"id\":\"9282\",\"type\":\"BoxZoomTool\"},{\"attributes\":{},\"id\":\"9271\",\"type\":\"BasicTicker\"},{\"attributes\":{},\"id\":\"9316\",\"type\":\"UnionRenderers\"},{\"attributes\":{\"dimension\":1,\"ticker\":{\"id\":\"9276\",\"type\":\"BasicTicker\"}},\"id\":\"9279\",\"type\":\"Grid\"},{\"attributes\":{},\"id\":\"9283\",\"type\":\"SaveTool\"},{\"attributes\":{\"axis_label\":\"Error\",\"formatter\":{\"id\":\"9299\",\"type\":\"BasicTickFormatter\"},\"ticker\":{\"id\":\"9276\",\"type\":\"BasicTicker\"}},\"id\":\"9275\",\"type\":\"LinearAxis\"},{\"attributes\":{},\"id\":\"9317\",\"type\":\"Selection\"},{\"attributes\":{},\"id\":\"9276\",\"type\":\"BasicTicker\"},{\"attributes\":{},\"id\":\"9284\",\"type\":\"ResetTool\"},{\"attributes\":{\"ticker\":{\"id\":\"9271\",\"type\":\"BasicTicker\"}},\"id\":\"9274\",\"type\":\"Grid\"},{\"attributes\":{\"line_alpha\":0.1,\"line_color\":\"#1f77b4\",\"line_width\":2,\"x\":{\"field\":\"x\"},\"y\":{\"field\":\"y\"}},\"id\":\"9295\",\"type\":\"Line\"},{\"attributes\":{\"source\":{\"id\":\"9320\",\"type\":\"ColumnDataSource\"}},\"id\":\"9324\",\"type\":\"CDSView\"},{\"attributes\":{},\"id\":\"9285\",\"type\":\"HelpTool\"},{\"attributes\":{\"callback\":null,\"data\":{\"x\":[0,1,2,3,4,5,6,7,8,9,10,11,12,13,14,15,16,17,18,19,20,21,22,23,24,25,26,27,28,29,30,31,32,33,34,35,36,37,38,39,40,41,42,43,44,45,46,47,48,49,50,51,52,53,54,55,56,57,58,59,60,61,62,63,64,65,66,67,68,69,70,71,72,73,74,75,76,77,78,79,80,81,82,83,84,85,86,87,88,89,90,91,92,93,94,95,96,97,98,99,100,101,102,103,104,105,106,107,108,109,110,111,112,113,114,115,116,117,118,119,120,121,122,123,124,125,126,127,128,129,130,131,132,133,134,135,136,137,138,139,140,141,142,143,144],\"y\":{\"__ndarray__\":\"SHhOPHmwsj8TQ2p6k4WzP3OFeIZM6LA/jp0xlTp1sz+ZvCFpg1KyPzXjgFVlurQ/TdkU426ssj+9dsM5huC2P5f6JJwYhrM/vqkI17OPsj8Zztp36vGxPyEr9Kv82bQ/ag0VlRPprj8HFdkS4uqyP0NvOjStArI/nqP2zESltD+GllHfUv+0P4iWTRPkQLM/Gkhfo2ngsD8I3Iim5cmuP2TT4MdC8a8/nPbGEStYtD/+c85NH+uxP7rdQzanerY/17t5JxyCsj/qIq9nIJOxP6rsjqdl77M/c4LZos+asT8QzrwIfEm0P6d02qshGrI/ddQDsuyjtD9O7PpckzC0P9VU4Dph5a8/NIAsAwnvsD9/hThCbkm0P23jCD5/bLE/f/i5kSgPsj/f9e1ZjLizPxQRsKTy77A/rxlSNeensj/lgLkJRd+yP+BFSApQWa8/pI5Buk5rrz+vfD2MiDmuPzjXkeAspqg/a2+cLEbtpD/kTlTMvrOrP+vLv4gpVaI/13zbv1xOpD/SVi204VGnP9Rc9XmDkqk/dQ82VY6jqj/w9e3ab1SpPyjmarQGmqU/IspjLax3rD/EGp8mAXamP80oUK8wDqo/8yPt5Mrzoz9mvqzQcx+rP9FEoadz56I/EWFSmz75pz/ITYiRG6SkP+OEvhOJ/6Q/Iw1n+34Foz+oCTTtK32jP3W1KdAepqU/WNqD5vMdpD8co+uDma2qPwWE4Kzxd6I/FSRnRmappz9JlQi5tsGmPz2EkedSXKU/xZ+3eL0+oj9TthLqVA+hP6jysbycl6Q/rWSJpPmBpj9uAqbPU3afP/6tbjRATaI/5X1JpB27nj+0WyADw9SkP/YcE3l07aA/RK1NrTZxoj8843s/SPahP8n1SNc2uJ8/MO2w8na9pT+kwr7BxZWhP9EAMwYOM6Q/bucvO1JZoD9eTIuD9P6oPzI17v2TErE/akXcfNRtrj8flLvOB56wP4qEmTWCC7E/jcLSZe+GsD97MmtXeEqxP8jpkD/r37M/MCtEUCMisz/ukwgTzZCzP9ewev/Iy7U/Heeh40PFtD8iSfXpRUy0P8iT3neWZ7M/COE3Qchpsz+sQg2Xvwe2P6LO+DJRDrI/L3S1lBDGtj+FVL8CDtm3PzDTsXKp9rk/iClw3WgnuT/xM0nodJ+5P5LDo/tBw7w/k2O3bKZSuj9ouMaty5O3P8Dfkf4iArM/gdW6RB9StT8EQCMSio22PyzEArkOM7Q/0CF5HBAztD8VimwFyuSyP2KlANZQm7U/TWCCbI+1tj8Z8T8ykQSyPzfZfQpYWbI/FBj5zsLGsz+qbxoSWPa1PySi9cOLt7I/q8E9f7xhtz96r/JzI9+xP8l3rIDmJ7Q/mzv0NblJtz8wESrcR021P6Fhd/kxxbU/yOhsWwlasD+MscaAlICxPxESrxysvbY/KnBe+E/yuT+cMgz3I9+3PyCe/9fhq7k/Yo+6wkW2tz/MMuOTVJe7P0ZTlsfU8L0/rATcTBVQuz9e/waFjEa8Pz9WVaXioLg/fuY2vlO6tz8=\",\"dtype\":\"float64\",\"shape\":[145]}},\"selected\":{\"id\":\"9317\",\"type\":\"Selection\"},\"selection_policy\":{\"id\":\"9316\",\"type\":\"UnionRenderers\"}},\"id\":\"9293\",\"type\":\"ColumnDataSource\"},{\"attributes\":{\"line_alpha\":0.1,\"line_color\":\"#1f77b4\",\"x\":{\"field\":\"x\"},\"y\":{\"field\":\"y\"}},\"id\":\"9322\",\"type\":\"Line\"},{\"attributes\":{\"axis_label\":\"Test Dataset Row Index\",\"formatter\":{\"id\":\"9301\",\"type\":\"BasicTickFormatter\"},\"ticker\":{\"id\":\"9271\",\"type\":\"BasicTicker\"}},\"id\":\"9270\",\"type\":\"LinearAxis\"},{\"attributes\":{},\"id\":\"9731\",\"type\":\"UnionRenderers\"},{\"attributes\":{\"data_source\":{\"id\":\"9320\",\"type\":\"ColumnDataSource\"},\"glyph\":{\"id\":\"9321\",\"type\":\"Line\"},\"hover_glyph\":null,\"muted_glyph\":null,\"nonselection_glyph\":{\"id\":\"9322\",\"type\":\"Line\"},\"selection_glyph\":null,\"view\":{\"id\":\"9324\",\"type\":\"CDSView\"}},\"id\":\"9323\",\"type\":\"GlyphRenderer\"},{\"attributes\":{\"source\":{\"id\":\"9306\",\"type\":\"ColumnDataSource\"}},\"id\":\"9310\",\"type\":\"CDSView\"},{\"attributes\":{},\"id\":\"9299\",\"type\":\"BasicTickFormatter\"},{\"attributes\":{\"callback\":null},\"id\":\"9262\",\"type\":\"DataRange1d\"},{\"attributes\":{\"active_drag\":\"auto\",\"active_inspect\":\"auto\",\"active_multi\":null,\"active_scroll\":\"auto\",\"active_tap\":\"auto\",\"tools\":[{\"id\":\"9280\",\"type\":\"PanTool\"},{\"id\":\"9281\",\"type\":\"WheelZoomTool\"},{\"id\":\"9282\",\"type\":\"BoxZoomTool\"},{\"id\":\"9283\",\"type\":\"SaveTool\"},{\"id\":\"9284\",\"type\":\"ResetTool\"},{\"id\":\"9285\",\"type\":\"HelpTool\"}]},\"id\":\"9286\",\"type\":\"Toolbar\"},{\"attributes\":{\"items\":[{\"id\":\"9305\",\"type\":\"LegendItem\"},{\"id\":\"9319\",\"type\":\"LegendItem\"},{\"id\":\"9335\",\"type\":\"LegendItem\"}]},\"id\":\"9304\",\"type\":\"Legend\"},{\"attributes\":{\"bottom_units\":\"screen\",\"fill_alpha\":{\"value\":0.5},\"fill_color\":{\"value\":\"lightgrey\"},\"left_units\":\"screen\",\"level\":\"overlay\",\"line_alpha\":{\"value\":1.0},\"line_color\":{\"value\":\"black\"},\"line_dash\":[4,4],\"line_width\":{\"value\":2},\"render_mode\":\"css\",\"right_units\":\"screen\",\"top_units\":\"screen\"},\"id\":\"9303\",\"type\":\"BoxAnnotation\"},{\"attributes\":{},\"id\":\"9266\",\"type\":\"LinearScale\"},{\"attributes\":{},\"id\":\"9301\",\"type\":\"BasicTickFormatter\"},{\"attributes\":{\"label\":{\"value\":\"NRMSE\"},\"renderers\":[{\"id\":\"9309\",\"type\":\"GlyphRenderer\"}]},\"id\":\"9319\",\"type\":\"LegendItem\"},{\"attributes\":{},\"id\":\"9333\",\"type\":\"Selection\"},{\"attributes\":{\"line_color\":\"orange\",\"line_width\":2,\"x\":{\"field\":\"x\"},\"y\":{\"field\":\"y\"}},\"id\":\"9294\",\"type\":\"Line\"},{\"attributes\":{\"line_alpha\":0.1,\"line_color\":\"#1f77b4\",\"x\":{\"field\":\"x\"},\"y\":{\"field\":\"y\"}},\"id\":\"9308\",\"type\":\"Line\"},{\"attributes\":{\"callback\":null},\"id\":\"9264\",\"type\":\"DataRange1d\"},{\"attributes\":{\"text\":\"ND, NRMSE, and SMAPE over the test set for MT_321\"},\"id\":\"9260\",\"type\":\"Title\"},{\"attributes\":{\"data_source\":{\"id\":\"9306\",\"type\":\"ColumnDataSource\"},\"glyph\":{\"id\":\"9307\",\"type\":\"Line\"},\"hover_glyph\":null,\"muted_glyph\":null,\"nonselection_glyph\":{\"id\":\"9308\",\"type\":\"Line\"},\"selection_glyph\":null,\"view\":{\"id\":\"9310\",\"type\":\"CDSView\"}},\"id\":\"9309\",\"type\":\"GlyphRenderer\"},{\"attributes\":{\"line_color\":\"purple\",\"x\":{\"field\":\"x\"},\"y\":{\"field\":\"y\"}},\"id\":\"9321\",\"type\":\"Line\"},{\"attributes\":{\"label\":{\"value\":\"ND\"},\"renderers\":[{\"id\":\"9296\",\"type\":\"GlyphRenderer\"}]},\"id\":\"9305\",\"type\":\"LegendItem\"},{\"attributes\":{\"callback\":null,\"data\":{\"x\":[0,1,2,3,4,5,6,7,8,9,10,11,12,13,14,15,16,17,18,19,20,21,22,23,24,25,26,27,28,29,30,31,32,33,34,35,36,37,38,39,40,41,42,43,44,45,46,47,48,49,50,51,52,53,54,55,56,57,58,59,60,61,62,63,64,65,66,67,68,69,70,71,72,73,74,75,76,77,78,79,80,81,82,83,84,85,86,87,88,89,90,91,92,93,94,95,96,97,98,99,100,101,102,103,104,105,106,107,108,109,110,111,112,113,114,115,116,117,118,119,120,121,122,123,124,125,126,127,128,129,130,131,132,133,134,135,136,137,138,139,140,141,142,143,144],\"y\":{\"__ndarray__\":\"xGI/NE6utz85/UewVDa3P6i/xxWv0rQ/DoztCBqBtj/N740WgRC3P1zxHng+cbo/sOe69PC9tj/ubATlQ8q6P8S/C2CCFbk/Vw3go52Btz9TRfdbhPO2P3dETd91F7k/IvQN4Cc5tT81JF1b6Yi3PyqHrVpehrc/6l3YQhUzuT/AVrfYr3a8P87G6ZnLJLw/fpBWjFuLuD+K6Xw1GjO3P12nsKc5Ebk/C03vPOqOvD9QIErrak+6PyxAy7p5Qr0/nd/xWby0uT9102wbgVO4P+Pl4dEBZbk/gSfFraFbtz+8QCZbr8G5P6+YzjkCCLk/GYxYzGyAvD/O8G9WRC26PyqZRrmzJ7k/blNcWLQhtz+6h7jZdjG6P3Oqtj8T8Lc/1lIpytMbuT9d8J95yZy6P0kwMnxAobg//i4J/CtOuT8jxNsJuVy3P2yIVKTuoLM/+e/hTCGdsT8BX8FjaSOxP4DzgmTEFq4/jdCUNaG9pz/+Fcam2bWxPy3a4JAPE6g/Kt9p1czWqT+4SRo+RMSrP7XuwlgtLK8/LdLopACPsD9g0K1GIKSwP7CcrCC5o6s/zQKpgzAmsT9uebthedGrP+COCn4YFLA/KUuA8fKSqD9AH8dnmr6vP6qNo21/n6g/3QVydcj8rT/ZtMm4k8OrP/P6CxEQba0/YRbTpCPtpT+GXVKw7RKoP8UzbC+jNao/AcZDCJ30pz8xkkB4U1uwP+gkG3nV16Y/xaNODyO0rD/MUpI7MkatP7i0YYiaRao/Vx0Ki8ofpz83toqbCi6mP7lUR3UaAqk/YACWmP/Dqz9iNEwZvYqiP5+tbMYbtaY/M4ke1gyKpT95VchjHUCnP/q4fzU8x6Y/wj8An7+Mpz+zGHCctnypPzXzsjCbfaQ/E/pNXO4Oqj8kjQmnH0+nP2pfxOnW3ag/x1UZKKFGpj/Fdhu57n+zPwr/ZP6UEcA/B7Ckdx7Lvj+ug1Y+ZrG+PzZt2H+FBsA/Hjg1IPMBwD9uI1oHDqS+P+/a1E/3HsA/FMp1uuJzwD9PU5S39FHAP1Fx25+/u8A/sg2b1JHHwT9LkkHRUvvAP0TM4Sg5z78//r3JZwGovz+sIIYzA0bBP4wnYVZTfcA/CoUQ0lyMwT8M2RnSaMTBP/cFb8CQs8I/SVeFk3dbwT/xyZGKvVXCP2zy3lkTqsI/iJQJb8wGwz9YcflJEeXAP1jLGTQNLLY/Yz+wO4FfuD9ShGh0ym25P2qIaiF767c/rk5iiMjItz8WQqlhhA63P4idQx3nuLk/ORftKJUfuj/8PTUVV6+1P1FsvqM5KbU/DzLbopmRtj/M5NDt5Zu4P8XO2OhvYbY/pXETOM87uT/OJGw6OzG2P1tiJ4RbxrY/dm+0YGvCuj/nIGqJihG4P76d0+tBaLg/NaUKw34Hsz9BYJksdje0P1IdVLZfybw/Q8dTbxl/wj9THvgCldDCP2TEybl2CMI/spTMcAFDwT8PZN1Xe2nDPx4I0koCv8Q/odD94QsMwz+RWrJoK6HDP7yYTmp1rsI/MwR5nCzjwj8=\",\"dtype\":\"float64\",\"shape\":[145]}},\"selected\":{\"id\":\"9333\",\"type\":\"Selection\"},\"selection_policy\":{\"id\":\"9332\",\"type\":\"UnionRenderers\"}},\"id\":\"9306\",\"type\":\"ColumnDataSource\"},{\"attributes\":{},\"id\":\"9268\",\"type\":\"LinearScale\"},{\"attributes\":{},\"id\":\"9281\",\"type\":\"WheelZoomTool\"},{\"attributes\":{},\"id\":\"9332\",\"type\":\"UnionRenderers\"},{\"attributes\":{\"data_source\":{\"id\":\"9293\",\"type\":\"ColumnDataSource\"},\"glyph\":{\"id\":\"9294\",\"type\":\"Line\"},\"hover_glyph\":null,\"muted_glyph\":null,\"nonselection_glyph\":{\"id\":\"9295\",\"type\":\"Line\"},\"selection_glyph\":null,\"view\":{\"id\":\"9297\",\"type\":\"CDSView\"}},\"id\":\"9296\",\"type\":\"GlyphRenderer\"},{\"attributes\":{\"line_color\":\"green\",\"x\":{\"field\":\"x\"},\"y\":{\"field\":\"y\"}},\"id\":\"9307\",\"type\":\"Line\"},{\"attributes\":{\"callback\":null,\"data\":{\"x\":[0,1,2,3,4,5,6,7,8,9,10,11,12,13,14,15,16,17,18,19,20,21,22,23,24,25,26,27,28,29,30,31,32,33,34,35,36,37,38,39,40,41,42,43,44,45,46,47,48,49,50,51,52,53,54,55,56,57,58,59,60,61,62,63,64,65,66,67,68,69,70,71,72,73,74,75,76,77,78,79,80,81,82,83,84,85,86,87,88,89,90,91,92,93,94,95,96,97,98,99,100,101,102,103,104,105,106,107,108,109,110,111,112,113,114,115,116,117,118,119,120,121,122,123,124,125,126,127,128,129,130,131,132,133,134,135,136,137,138,139,140,141,142,143,144],\"y\":{\"__ndarray__\":\"6rNuGNqXsD+V0vNr+x+yP8PcXJavcK8/uC8JVzBDsj/v9BcF8duwP79wRjZP9bE/2QHHeEBqsT/Azp0OIJ61P+wBppG/hbE/bJE/6F8fsT8qf6ILjI2wPwhoV9/a3rQ/uGTrC5VnrD/5KjPqpP+xP7W2m0hfOrE/J/CnJ8ytsz9hQSQh/c+yP1L+xGabSbE/G2h5zQnsrz8JI+m/OW+tPzcWnmlPgq0/ZW9tMMt4sj9Qwd4WLP2vP7g4S1sSlLQ/5sA4IxIzsT/bzLvn7pmwP5BQqV/+i7M/x9uaLtS4sT/oK8P1hSm1PwcmefAJALE/G71Z0cswsz/Rudzk3iCzP/gF9RbZjqs/Q7YEPOM9sD/YyD3fykW0P+lugLWWh7A/MShYRh+LsD8yl182Tcy0P8CETGere7A/vJFF277dsT84NRH4iyyzP5OhSg9a760/U/kPpx5Mrz/YaCYyW5evP8Adeeolbqg/QOb59/jnpT+FMyqJP6ytPzNWv6AbYqE/I9fHWD2poz/TjgKaN2OnP0BWm5Qp9Kk/WMvRD81Vqj+NYg+ibbWoP5AI/iftC6Y/ISTx1VRzrj9gZ542TRCmP7wHNxxb9Ko/xpkMqucOpT/Q88iiFFCsP9AEs0w+p6M/qJPOFY2Eqj+T8BTcKXWnP3VqMv4zh6c/RRL3SeeYoz+J2zyOm8akP7ViBUvmVKc/tP0LxMpUpD9g/Ih8lTOsP09QyA3166E/MJaXvzLGpj9NgM2VyFeoP7SDt4Cs8KU/YSkoHmFSoj+IIkWGb6OgPwP3LbHWl6M/rc3feQJLpj+lOzy3doGfPzWRoPqhjKE/OFX4jk3anT9R+EtZ8MCkP6BNE83S1Z8/lCR8rvNgoj8QGK8SfnyhP3NCroS1+Z4/Xzq/RXOupD/728GkQ6mgP6PD+a4Y8qM/+ER8K0/rnj/YKnYf43+mPxfNAIvBFK8/xIPJsybuqT9gBjSbkA+tP5ivsG7sy64/uWb3Pd8OrT88tky/OD2tP9ygwCA6yLE/Z1cpGcfBsD8B3KBUQZSyP05PyIQGcrQ/3JCMIoSpsj8LElWznPmyP2kSdl5Px7E/s+dn2g7Xsz8LR0JBP5i2Pz5NDjgzRbA/KwIlOzGKtT9bjmmU4ye3P2jA7lO2E7o/t3NaIoUbuD9H42ChP6G3P203TzK1/L0/A/howR5euT/M/lXU9Um2P6dSJJ0dGLQ/ELvBZk/StT9kmnDdZWi3P7MTd9jn97Q/pJ00zhcdtT+wIv+32RizP2VvwN49zLU/hGJO4wJwtj9jkVNx8oCxP/lmEwq7ELM/rqEhpOM1tD8VA4KOtIq3P9AnRjVWmLM/a+KMlYIhuj+RsFP7h06xP+2++diE4rQ/L5wudmE1uD8VGBMEufW2PxE2exqvk7c/5e2WIqSvsD8zvOetUp+yPwuGSCMxRbg/xXooUAhyuT+V3xYD1Ya2P2t5JJLlV7k/q2vqWlQGuD+gdj8K8hm8P2OdmssIQb4/SIs3mi32uj+D8P62oA67PwkPdXGNQrc/sRDGgydbtT8=\",\"dtype\":\"float64\",\"shape\":[145]}},\"selected\":{\"id\":\"9732\",\"type\":\"Selection\"},\"selection_policy\":{\"id\":\"9731\",\"type\":\"UnionRenderers\"}},\"id\":\"9320\",\"type\":\"ColumnDataSource\"},{\"attributes\":{},\"id\":\"9732\",\"type\":\"Selection\"},{\"attributes\":{},\"id\":\"9280\",\"type\":\"PanTool\"},{\"attributes\":{\"source\":{\"id\":\"9293\",\"type\":\"ColumnDataSource\"}},\"id\":\"9297\",\"type\":\"CDSView\"},{\"attributes\":{\"label\":{\"value\":\"SMAPE\"},\"renderers\":[{\"id\":\"9323\",\"type\":\"GlyphRenderer\"}]},\"id\":\"9335\",\"type\":\"LegendItem\"}],\"root_ids\":[\"9259\"]},\"title\":\"Bokeh Application\",\"version\":\"1.4.0\"}};\n",
       "  var render_items = [{\"docid\":\"fc00837d-e796-4aa0-8025-ad867acce4ad\",\"roots\":{\"9259\":\"e1ef9052-09bf-4f15-acff-c66840d50a12\"}}];\n",
       "  root.Bokeh.embed.embed_items_notebook(docs_json, render_items);\n",
       "\n",
       "  }\n",
       "  if (root.Bokeh !== undefined) {\n",
       "    embed_document(root);\n",
       "  } else {\n",
       "    var attempts = 0;\n",
       "    var timer = setInterval(function(root) {\n",
       "      if (root.Bokeh !== undefined) {\n",
       "        clearInterval(timer);\n",
       "        embed_document(root);\n",
       "      } else {\n",
       "        attempts++;\n",
       "        if (attempts > 100) {\n",
       "          clearInterval(timer);\n",
       "          console.log(\"Bokeh: ERROR: Unable to run BokehJS code because BokehJS library is missing\");\n",
       "        }\n",
       "      }\n",
       "    }, 10, root)\n",
       "  }\n",
       "})(window);"
      ],
      "application/vnd.bokehjs_exec.v0+json": ""
     },
     "metadata": {
      "application/vnd.bokehjs_exec.v0+json": {
       "id": "9259"
      }
     },
     "output_type": "display_data"
    },
    {
     "data": {
      "text/html": [
       "\n",
       "\n",
       "\n",
       "\n",
       "\n",
       "\n",
       "  <div class=\"bk-root\" id=\"905852ec-032a-47ef-b0e1-58c00b78202d\" data-root-id=\"9806\"></div>\n"
      ]
     },
     "metadata": {},
     "output_type": "display_data"
    },
    {
     "data": {
      "application/javascript": [
       "(function(root) {\n",
       "  function embed_document(root) {\n",
       "    \n",
       "  var docs_json = {\"7a55d646-b660-4f22-b6f1-b7bef17add3e\":{\"roots\":{\"references\":[{\"attributes\":{\"below\":[{\"id\":\"9817\",\"type\":\"LinearAxis\"}],\"center\":[{\"id\":\"9821\",\"type\":\"Grid\"},{\"id\":\"9826\",\"type\":\"Grid\"},{\"id\":\"9851\",\"type\":\"Legend\"}],\"left\":[{\"id\":\"9822\",\"type\":\"LinearAxis\"}],\"plot_height\":320,\"plot_width\":960,\"renderers\":[{\"id\":\"9843\",\"type\":\"GlyphRenderer\"},{\"id\":\"9856\",\"type\":\"GlyphRenderer\"},{\"id\":\"9870\",\"type\":\"GlyphRenderer\"}],\"title\":{\"id\":\"9807\",\"type\":\"Title\"},\"toolbar\":{\"id\":\"9833\",\"type\":\"Toolbar\"},\"x_range\":{\"id\":\"9809\",\"type\":\"DataRange1d\"},\"x_scale\":{\"id\":\"9813\",\"type\":\"LinearScale\"},\"y_range\":{\"id\":\"9811\",\"type\":\"DataRange1d\"},\"y_scale\":{\"id\":\"9815\",\"type\":\"LinearScale\"}},\"id\":\"9806\",\"subtype\":\"Figure\",\"type\":\"Plot\"},{\"attributes\":{},\"id\":\"9827\",\"type\":\"PanTool\"},{\"attributes\":{\"active_drag\":\"auto\",\"active_inspect\":\"auto\",\"active_multi\":null,\"active_scroll\":\"auto\",\"active_tap\":\"auto\",\"tools\":[{\"id\":\"9827\",\"type\":\"PanTool\"},{\"id\":\"9828\",\"type\":\"WheelZoomTool\"},{\"id\":\"9829\",\"type\":\"BoxZoomTool\"},{\"id\":\"9830\",\"type\":\"SaveTool\"},{\"id\":\"9831\",\"type\":\"ResetTool\"},{\"id\":\"9832\",\"type\":\"HelpTool\"}]},\"id\":\"9833\",\"type\":\"Toolbar\"},{\"attributes\":{\"callback\":null,\"data\":{\"x\":[0,1,2,3,4,5,6,7,8,9,10,11,12,13,14,15,16,17,18,19,20,21,22,23,24,25,26,27,28,29,30,31,32,33,34,35,36,37,38,39,40,41,42,43,44,45,46,47,48,49,50,51,52,53,54,55,56,57,58,59,60,61,62,63,64,65,66,67,68,69,70,71,72,73,74,75,76,77,78,79,80,81,82,83,84,85,86,87,88,89,90,91,92,93,94,95,96,97,98,99,100,101,102,103,104,105,106,107,108,109,110,111,112,113,114,115,116,117,118,119,120,121,122,123,124,125,126,127,128,129,130,131,132,133,134,135,136,137,138,139,140,141,142,143,144],\"y\":{\"__ndarray__\":\"myq4vNKxsD8DkUxuHFOtP+qNDOdqFa0/LXsh7cJbrz+OJej2BnCwP7KgFF3VtrA/+2U9yXRDrz/Rj4yu49yuP4AqzyKWA7I/uPQKVGv2sD9Z/3o2mtawP2/A4zw8FrM/OEESNbndsz8++tCG1MeyPz8iFwhTb7E/Xfw+beLdsT9Ef3gjwxmyP7MrlpkvobI/2Ot5C+ousD+bdLmIUKyuP3Ll5llJ/q4/0WpfaLI4rj8RKDrnE8WxP2iv2d64lLE/FhIuIr9UsD8POdQ7jeazPz2YDhtSvrI/AsLiPWOrsj92703wWDqzP0jQ1T5BgLk/ZB5bTPPisT8cMGcURLCwPzrMH9PuzbE/0QQhX9QisD93AZjiKpm3PxbKQlQqG7A/c0ciTgSgtD/llui4986yP+IjmL7fpbE/rj2/DbiksT8rgH3Y4IWuP7eKPl/wYbI/Dc/cCTFqsD8a1tMHdVCzPz8QGy6s/7A/NJjdIiditT92rA7WV3O3P+I+zEBk+bM/V/UK4u/+tj+3J5Z0CNCzP0AMDlwPnLc/hxna3FVttT8Mu5p8VZG1P5/RN2wJVrc/xVWF0d4ouj9HL3zALNO1P+o60YWkkL0/G+7ZnyghwT8grzZamGi6P5VbtvSq87Y/cVLM9lMxvT9Uei/GuRy6P5maScwJe7w/zIO0bzTzuT98wrzn/Hq6P533d3OfXMA/klcZYYijuD9Hfqz3aw67P4pep5Xk87w/xECumXsItz85j4QbFPi9P2HE1Q18uLY/ciP67J1AtT826u6tX26yPy+US7wtQLQ/RRDOPGfxrz+umHCRX8WxP5Ro1eMCc7M/qXvoWKivtT9Mq153XFeyPz7YuVfPo7M/5Zo7Q8BqtT++v5DznvG1P4PhU8VtyLQ/XXUlnLEGsz9FF9BTUruzP7IreoYSN7E/RgoI+U8Dsj9pulwCGpGzP/yg+ihPArI/fXmRJ+/itT9y2T+mB5qxP3RisFv/aLA/hjiqgsLWsT+hJAChR7a1P5B2PCMexrM/LfaTZSxtsT85Ir7uxo2wPzr9yVRRurA/PNstyew/sD9SOOMmwBGwP9RVDey1Wa4/dhnFY1OlsD93yLeBPT6xP/sQkpWWmLM/1fdpGl7Msz+o2HPJx0O0P7wxCOohp7I/xNvUK/vMsT+fxTYuPbO1P5stffOQ7rQ/gq+zvTznsD+k0pexINmxPxcpVQCrkrE/bgadE1V1sT/n0NvG3OqwPx4EdTtP8LE/tX1ngdeXrz8hcFEN/6ewPxaWMcI48rU/D6QPfcGosD+XmCCuJwSwP6oOUcQlLa0/VjmfAcv+sD/Vd7eqkMCwP8stxBpBR7I/LuM3mtb8sD+smvhiGt2zP0HBcfUmkLY/olaSmos/uT8kwydtCimxP3G31E0c77Q/b0FT49Kluz/QJ7n9dZC7P9pqwSdEcrk/EfDbXa6Btj9ddJ77CKS7P+E7Lr8Gm7o/92nLrkv5vT+1jboybBy1P39qJ7G9MLU/3GIFABN/uz8d4LKbq3e4PzyZEZSReL8/CDB4DgQKuT8=\",\"dtype\":\"float64\",\"shape\":[145]}},\"selected\":{\"id\":\"9864\",\"type\":\"Selection\"},\"selection_policy\":{\"id\":\"9863\",\"type\":\"UnionRenderers\"}},\"id\":\"9840\",\"type\":\"ColumnDataSource\"},{\"attributes\":{\"source\":{\"id\":\"9867\",\"type\":\"ColumnDataSource\"}},\"id\":\"9871\",\"type\":\"CDSView\"},{\"attributes\":{\"text\":\"ND, NRMSE, and SMAPE over the test set for MT_322\"},\"id\":\"9807\",\"type\":\"Title\"},{\"attributes\":{\"line_color\":\"orange\",\"line_width\":2,\"x\":{\"field\":\"x\"},\"y\":{\"field\":\"y\"}},\"id\":\"9841\",\"type\":\"Line\"},{\"attributes\":{\"line_alpha\":0.1,\"line_color\":\"#1f77b4\",\"x\":{\"field\":\"x\"},\"y\":{\"field\":\"y\"}},\"id\":\"9869\",\"type\":\"Line\"},{\"attributes\":{},\"id\":\"9846\",\"type\":\"BasicTickFormatter\"},{\"attributes\":{\"data_source\":{\"id\":\"9867\",\"type\":\"ColumnDataSource\"},\"glyph\":{\"id\":\"9868\",\"type\":\"Line\"},\"hover_glyph\":null,\"muted_glyph\":null,\"nonselection_glyph\":{\"id\":\"9869\",\"type\":\"Line\"},\"selection_glyph\":null,\"view\":{\"id\":\"9871\",\"type\":\"CDSView\"}},\"id\":\"9870\",\"type\":\"GlyphRenderer\"},{\"attributes\":{\"source\":{\"id\":\"9840\",\"type\":\"ColumnDataSource\"}},\"id\":\"9844\",\"type\":\"CDSView\"},{\"attributes\":{},\"id\":\"9863\",\"type\":\"UnionRenderers\"},{\"attributes\":{},\"id\":\"9880\",\"type\":\"Selection\"},{\"attributes\":{\"label\":{\"value\":\"SMAPE\"},\"renderers\":[{\"id\":\"9870\",\"type\":\"GlyphRenderer\"}]},\"id\":\"9882\",\"type\":\"LegendItem\"},{\"attributes\":{\"bottom_units\":\"screen\",\"fill_alpha\":{\"value\":0.5},\"fill_color\":{\"value\":\"lightgrey\"},\"left_units\":\"screen\",\"level\":\"overlay\",\"line_alpha\":{\"value\":1.0},\"line_color\":{\"value\":\"black\"},\"line_dash\":[4,4],\"line_width\":{\"value\":2},\"render_mode\":\"css\",\"right_units\":\"screen\",\"top_units\":\"screen\"},\"id\":\"9850\",\"type\":\"BoxAnnotation\"},{\"attributes\":{\"data_source\":{\"id\":\"9840\",\"type\":\"ColumnDataSource\"},\"glyph\":{\"id\":\"9841\",\"type\":\"Line\"},\"hover_glyph\":null,\"muted_glyph\":null,\"nonselection_glyph\":{\"id\":\"9842\",\"type\":\"Line\"},\"selection_glyph\":null,\"view\":{\"id\":\"9844\",\"type\":\"CDSView\"}},\"id\":\"9843\",\"type\":\"GlyphRenderer\"},{\"attributes\":{\"items\":[{\"id\":\"9852\",\"type\":\"LegendItem\"},{\"id\":\"9866\",\"type\":\"LegendItem\"},{\"id\":\"9882\",\"type\":\"LegendItem\"}]},\"id\":\"9851\",\"type\":\"Legend\"},{\"attributes\":{},\"id\":\"9879\",\"type\":\"UnionRenderers\"},{\"attributes\":{},\"id\":\"9823\",\"type\":\"BasicTicker\"},{\"attributes\":{},\"id\":\"9848\",\"type\":\"BasicTickFormatter\"},{\"attributes\":{\"dimension\":1,\"ticker\":{\"id\":\"9823\",\"type\":\"BasicTicker\"}},\"id\":\"9826\",\"type\":\"Grid\"},{\"attributes\":{},\"id\":\"9832\",\"type\":\"HelpTool\"},{\"attributes\":{\"axis_label\":\"Error\",\"formatter\":{\"id\":\"9846\",\"type\":\"BasicTickFormatter\"},\"ticker\":{\"id\":\"9823\",\"type\":\"BasicTicker\"}},\"id\":\"9822\",\"type\":\"LinearAxis\"},{\"attributes\":{},\"id\":\"9864\",\"type\":\"Selection\"},{\"attributes\":{\"ticker\":{\"id\":\"9818\",\"type\":\"BasicTicker\"}},\"id\":\"9821\",\"type\":\"Grid\"},{\"attributes\":{},\"id\":\"9831\",\"type\":\"ResetTool\"},{\"attributes\":{\"line_alpha\":0.1,\"line_color\":\"#1f77b4\",\"x\":{\"field\":\"x\"},\"y\":{\"field\":\"y\"}},\"id\":\"9855\",\"type\":\"Line\"},{\"attributes\":{},\"id\":\"10290\",\"type\":\"UnionRenderers\"},{\"attributes\":{},\"id\":\"9815\",\"type\":\"LinearScale\"},{\"attributes\":{},\"id\":\"9813\",\"type\":\"LinearScale\"},{\"attributes\":{\"line_color\":\"green\",\"x\":{\"field\":\"x\"},\"y\":{\"field\":\"y\"}},\"id\":\"9854\",\"type\":\"Line\"},{\"attributes\":{\"axis_label\":\"Test Dataset Row Index\",\"formatter\":{\"id\":\"9848\",\"type\":\"BasicTickFormatter\"},\"ticker\":{\"id\":\"9818\",\"type\":\"BasicTicker\"}},\"id\":\"9817\",\"type\":\"LinearAxis\"},{\"attributes\":{\"callback\":null,\"data\":{\"x\":[0,1,2,3,4,5,6,7,8,9,10,11,12,13,14,15,16,17,18,19,20,21,22,23,24,25,26,27,28,29,30,31,32,33,34,35,36,37,38,39,40,41,42,43,44,45,46,47,48,49,50,51,52,53,54,55,56,57,58,59,60,61,62,63,64,65,66,67,68,69,70,71,72,73,74,75,76,77,78,79,80,81,82,83,84,85,86,87,88,89,90,91,92,93,94,95,96,97,98,99,100,101,102,103,104,105,106,107,108,109,110,111,112,113,114,115,116,117,118,119,120,121,122,123,124,125,126,127,128,129,130,131,132,133,134,135,136,137,138,139,140,141,142,143,144],\"y\":{\"__ndarray__\":\"lQJCk29Etz/yJmbp6PezPyhA0EnT27U/nREppdgzsz+MVD7ZBgm3P+ptLpc+WbU/W9rCFZLdtD90R3Uf9l21P6a2p95flrc/Am6SxEKvtj/45vt1C3K2P++G589HlLc/ABPQ5hg2tz9WMuuHm8q2PyoZ+gY96rQ/5z4GNs4Btz/mHUVNt0C3Px0vCsrKxbc/OjIse/TntD8/QWWPUd2yP7zB9/kGPrI/FhKlaW2usz+OijeUZQ21PzueDKjdGrU/8QVRIUYLtD87wDPJhZu3P/flo3AyGbc/Ngr6knu1tj8ryPyTrP+2P48tIJgX9rw/HkbCEivwtD/MAHDWkUS0P1lfjWsKurQ/Rk2O0ufAsz/dVR/FWmC6P1HvxZ/byrI/mMO5a6Z1uD/uMguLG+G2P11Ny1wJ/rQ/iKLvuKGktD+AYrbleSO0PxylrQUbOLc//NJL2/4PtT9wy8G2Vjq3P3lRFVwoG7M/Kut/VwpduD+BPkmwqUe7PwkgI1IZ17c/HbdDwfrOuj9uvJ3rak24P0+MMmIwyr0/ZJhBqiBauj//S7it0pm5P0Ev8CWrObw/S6H9Tb8MwD84ZQb027a5P0aUCqaALcE/KQ2N8effwz9awawW2mO+P8QAXi6Z47s/RFGSndGfwD9P8HJzGBC+Pykv5qbHT8A/8fti7SiVvT8xXipP+Re+P8h7hgDi1MM/ki9oA29zvT/zYB+6vEe/P4a40IpAycA//GxFTvn9uT85dXMP697BP7bfnjxyErk/Netm7/JkuT8Mu/y7ynO2P6iwzTR+Erk/dgRTnEOktD+4IL4kM721P5QbInh86bY/+IonrsiwuT/qkROg7FK2PyduZTzFjbg/PErQ/QHRuT/zJW8++t66P6Z74JKE77g/ox5+auVFtj89N0wA1Ku3P24KeJXQnbY/mJy/3/0mtj9Zafq0eeK3PxYm7CqiUrc/6J17whekuj+GKycnRj21P/Tmh4sEbLU/JoWiFSUZtz/UYDJKluu5P8L1qScoPrg/ffQ43Lb3tT9iyQu+uli2P9oy0+1/+LU/pOPoZciZtT8Q399OzIi0P2End1kOWbY/ZNlQHE1Ttj/0+Yu2b0y1P81g9nXPGrg/Y6Dob4zbuD+ObUtkJ9W6P6NlCP+Ji7g/3fQTf/PStj8ctdhkyqm7PxLpi0iVRLk/3wYpCn8jtT/An5QPXsy1P76LD0elTbc/y94Lm7J/tj/TtFNPW2e3PwaRJs28E7g/3TN9pjf7tD8RoRS8Wou1P0CRcQFFRbk/mIG/bLN8tT/PBfgjk961PygYqJ66ubI/q6TOYtNAtj/Sm6E90pu1P67X41S3pLY/f6AiUFzbtD+oxzDZGHu5P5PVlUdAibo/q0RQW8rMvT+c12bWOBS1P7erXlJGO7k/qlExCwTLvz+u9VURylq/P5dFn/OBP70/VFHIxf4lvD/VXLBptl6+P3Xq3UbVDb4/CXKZdR9cwD+nTQ6uiES5Px6RXbFuuLg/5umfxmKRvj9tE+6rjL69P72BrBnN48E/6UxjYPDKvT8=\",\"dtype\":\"float64\",\"shape\":[145]}},\"selected\":{\"id\":\"9880\",\"type\":\"Selection\"},\"selection_policy\":{\"id\":\"9879\",\"type\":\"UnionRenderers\"}},\"id\":\"9853\",\"type\":\"ColumnDataSource\"},{\"attributes\":{},\"id\":\"9818\",\"type\":\"BasicTicker\"},{\"attributes\":{\"label\":{\"value\":\"ND\"},\"renderers\":[{\"id\":\"9843\",\"type\":\"GlyphRenderer\"}]},\"id\":\"9852\",\"type\":\"LegendItem\"},{\"attributes\":{},\"id\":\"10291\",\"type\":\"Selection\"},{\"attributes\":{\"data_source\":{\"id\":\"9853\",\"type\":\"ColumnDataSource\"},\"glyph\":{\"id\":\"9854\",\"type\":\"Line\"},\"hover_glyph\":null,\"muted_glyph\":null,\"nonselection_glyph\":{\"id\":\"9855\",\"type\":\"Line\"},\"selection_glyph\":null,\"view\":{\"id\":\"9857\",\"type\":\"CDSView\"}},\"id\":\"9856\",\"type\":\"GlyphRenderer\"},{\"attributes\":{\"line_alpha\":0.1,\"line_color\":\"#1f77b4\",\"line_width\":2,\"x\":{\"field\":\"x\"},\"y\":{\"field\":\"y\"}},\"id\":\"9842\",\"type\":\"Line\"},{\"attributes\":{\"source\":{\"id\":\"9853\",\"type\":\"ColumnDataSource\"}},\"id\":\"9857\",\"type\":\"CDSView\"},{\"attributes\":{\"callback\":null},\"id\":\"9811\",\"type\":\"DataRange1d\"},{\"attributes\":{\"line_color\":\"purple\",\"x\":{\"field\":\"x\"},\"y\":{\"field\":\"y\"}},\"id\":\"9868\",\"type\":\"Line\"},{\"attributes\":{\"label\":{\"value\":\"NRMSE\"},\"renderers\":[{\"id\":\"9856\",\"type\":\"GlyphRenderer\"}]},\"id\":\"9866\",\"type\":\"LegendItem\"},{\"attributes\":{\"callback\":null,\"data\":{\"x\":[0,1,2,3,4,5,6,7,8,9,10,11,12,13,14,15,16,17,18,19,20,21,22,23,24,25,26,27,28,29,30,31,32,33,34,35,36,37,38,39,40,41,42,43,44,45,46,47,48,49,50,51,52,53,54,55,56,57,58,59,60,61,62,63,64,65,66,67,68,69,70,71,72,73,74,75,76,77,78,79,80,81,82,83,84,85,86,87,88,89,90,91,92,93,94,95,96,97,98,99,100,101,102,103,104,105,106,107,108,109,110,111,112,113,114,115,116,117,118,119,120,121,122,123,124,125,126,127,128,129,130,131,132,133,134,135,136,137,138,139,140,141,142,143,144],\"y\":{\"__ndarray__\":\"bMsNeQtarz9FuHtuO1qtP9PaPx+sFqw//WkgkcB/sD9vJaHAmYqwPxGKVOwAQ7I/nTMLZHynsD9wWaYxqQWuPyxpiDHaQrI/9ROhhPbKsD9EOlMHCLaxPz3na3nYCbU/d71Iy/+ZtT+UzNHzqVi0P3zkxCtlsrM/0QJq0VLysT8PC3JTOwWyP29SqPfg+rM/UwOPVUEVsD/PTxucI8awP5/Ovdcu6LA/iZHEnzcGsj+HaVmoIa60P3RZea7j1bM/0Xh5qCJOsT8KbanVaKC0P88P7QOtubU/k9r+SCMgtT+wFZBjeLS2P7i6JYvt578/j6V3b7LptD/xGplOZwe0P9pqIK3LnLQ/5YUnh2yDsj+wfDXj6bq8P9MlQ7O/f7M/jBRK1sp6uT9AlVqfCAe4Pyt7EpI2XbU/eyBiNNVBtT/d5uGJugGzPyHpzrJW2rU/m56YEruqtD+tGVK8IHa3Pz/m4pf0DrQ/8Fg/p5/kuD9VUvByPri8P0y57C2bnLY/wUQN4LjmvD+IqaJLF0W2P6VwLGEXZrs/KLawoPQduj/061vNhNy5PyXyD7ifdr0/LR6Nyh7ywD/zVTlKVOS5P6mHlXX9GsM/dzrs3aICxj+n9Ej4vxTAP3gxbY66GLs/ys7LmZorwj/w5knqYsrAP3UP+6ibLMI/Nw8/xjWCwD89UgJm1i/BP63xLKW9jMU/r9w084qLwD/Auwlvm8rBP1+n32SxtsI/JHrrq2G5uz+nUM1WjtTDP39Cn8wHd7w/0Xjooo5nuD+fg2HxUq6zP8Rmk5URsrU/2Tz3F9xPsz8HqyqLUeOzP9e5venBqbY/BM6QxuS1uD8d5pRSPp61P92o1JTporY/LVPCRmZpuT8LSFtFuEy5P6vwshKlMbg/KfFrYvHttj9gGdkksfm4P0792tw7vbM/qdxRFYU4tT/7ceB5c/a3P5r6cjPpnrM/e6jn9nNzvD/83Pvc2q+0P3M0l5tTarI/WSXKP1nnsj8zd30zDw+7P19tkMY2Gbk/jN3STua/sz+3MDIJ82GxP1D2/wG3TrE/7NNbRy0Wsj8oFk1dtKixP6NRvRIUCK4/W6zP2w9tsT/hsgHjiXuzP9tXndUNTbU/TaYfpUebtT99MYANhwO2P+nOyYjyOLQ/XTqaVXmNsz/JuQ80R7W4P6hIvmex27c/B/g3P69hsz+l6QJ/b2GzPwBebLj9FbM/N9mjdL1Jsz+76yW5G/+wP8RMKuwcA7M/h0rEH4VEsT9zkpk7KpOxP+U1aceyrrk/dwNC37KusD9dRwxsJfywPzkKTCD+8LA/dFVjUvxFtD/+Hp/JywiyP5QCgsO3l7Y/zEsckbW+sz+A9WLceYq3PzEwLXvWu7k/rQavil5kvz/3bsns3NGzP7FymWkoFrc/1DYuFuqyvz/5avVB1hbAPygT+WOEd70/mGRzEQP5tT/bE3DECcu+P3erZMDqxrw/MCwR5vOhwT9DO8P4heO2P60CIrVt/LY/Y90NmrFzvz84kgyXoUy6P6Q4tYdpD8M/WyTmMWFPuz8=\",\"dtype\":\"float64\",\"shape\":[145]}},\"selected\":{\"id\":\"10291\",\"type\":\"Selection\"},\"selection_policy\":{\"id\":\"10290\",\"type\":\"UnionRenderers\"}},\"id\":\"9867\",\"type\":\"ColumnDataSource\"},{\"attributes\":{},\"id\":\"9828\",\"type\":\"WheelZoomTool\"},{\"attributes\":{},\"id\":\"9830\",\"type\":\"SaveTool\"},{\"attributes\":{\"overlay\":{\"id\":\"9850\",\"type\":\"BoxAnnotation\"}},\"id\":\"9829\",\"type\":\"BoxZoomTool\"},{\"attributes\":{\"callback\":null},\"id\":\"9809\",\"type\":\"DataRange1d\"}],\"root_ids\":[\"9806\"]},\"title\":\"Bokeh Application\",\"version\":\"1.4.0\"}};\n",
       "  var render_items = [{\"docid\":\"7a55d646-b660-4f22-b6f1-b7bef17add3e\",\"roots\":{\"9806\":\"905852ec-032a-47ef-b0e1-58c00b78202d\"}}];\n",
       "  root.Bokeh.embed.embed_items_notebook(docs_json, render_items);\n",
       "\n",
       "  }\n",
       "  if (root.Bokeh !== undefined) {\n",
       "    embed_document(root);\n",
       "  } else {\n",
       "    var attempts = 0;\n",
       "    var timer = setInterval(function(root) {\n",
       "      if (root.Bokeh !== undefined) {\n",
       "        clearInterval(timer);\n",
       "        embed_document(root);\n",
       "      } else {\n",
       "        attempts++;\n",
       "        if (attempts > 100) {\n",
       "          clearInterval(timer);\n",
       "          console.log(\"Bokeh: ERROR: Unable to run BokehJS code because BokehJS library is missing\");\n",
       "        }\n",
       "      }\n",
       "    }, 10, root)\n",
       "  }\n",
       "})(window);"
      ],
      "application/vnd.bokehjs_exec.v0+json": ""
     },
     "metadata": {
      "application/vnd.bokehjs_exec.v0+json": {
       "id": "9806"
      }
     },
     "output_type": "display_data"
    },
    {
     "data": {
      "text/html": [
       "\n",
       "\n",
       "\n",
       "\n",
       "\n",
       "\n",
       "  <div class=\"bk-root\" id=\"3dfca84e-eb84-48f1-86cd-e857ed6ddf4e\" data-root-id=\"10365\"></div>\n"
      ]
     },
     "metadata": {},
     "output_type": "display_data"
    },
    {
     "data": {
      "application/javascript": [
       "(function(root) {\n",
       "  function embed_document(root) {\n",
       "    \n",
       "  var docs_json = {\"911db231-3351-499e-87ec-068a08765098\":{\"roots\":{\"references\":[{\"attributes\":{\"below\":[{\"id\":\"10376\",\"type\":\"LinearAxis\"}],\"center\":[{\"id\":\"10380\",\"type\":\"Grid\"},{\"id\":\"10385\",\"type\":\"Grid\"},{\"id\":\"10410\",\"type\":\"Legend\"}],\"left\":[{\"id\":\"10381\",\"type\":\"LinearAxis\"}],\"plot_height\":320,\"plot_width\":960,\"renderers\":[{\"id\":\"10402\",\"type\":\"GlyphRenderer\"},{\"id\":\"10415\",\"type\":\"GlyphRenderer\"},{\"id\":\"10429\",\"type\":\"GlyphRenderer\"}],\"title\":{\"id\":\"10366\",\"type\":\"Title\"},\"toolbar\":{\"id\":\"10392\",\"type\":\"Toolbar\"},\"x_range\":{\"id\":\"10368\",\"type\":\"DataRange1d\"},\"x_scale\":{\"id\":\"10372\",\"type\":\"LinearScale\"},\"y_range\":{\"id\":\"10370\",\"type\":\"DataRange1d\"},\"y_scale\":{\"id\":\"10374\",\"type\":\"LinearScale\"}},\"id\":\"10365\",\"subtype\":\"Figure\",\"type\":\"Plot\"},{\"attributes\":{},\"id\":\"10387\",\"type\":\"WheelZoomTool\"},{\"attributes\":{\"overlay\":{\"id\":\"10409\",\"type\":\"BoxAnnotation\"}},\"id\":\"10388\",\"type\":\"BoxZoomTool\"},{\"attributes\":{\"callback\":null},\"id\":\"10368\",\"type\":\"DataRange1d\"},{\"attributes\":{\"data_source\":{\"id\":\"10412\",\"type\":\"ColumnDataSource\"},\"glyph\":{\"id\":\"10413\",\"type\":\"Line\"},\"hover_glyph\":null,\"muted_glyph\":null,\"nonselection_glyph\":{\"id\":\"10414\",\"type\":\"Line\"},\"selection_glyph\":null,\"view\":{\"id\":\"10416\",\"type\":\"CDSView\"}},\"id\":\"10415\",\"type\":\"GlyphRenderer\"},{\"attributes\":{},\"id\":\"10862\",\"type\":\"Selection\"},{\"attributes\":{},\"id\":\"10389\",\"type\":\"SaveTool\"},{\"attributes\":{\"source\":{\"id\":\"10412\",\"type\":\"ColumnDataSource\"}},\"id\":\"10416\",\"type\":\"CDSView\"},{\"attributes\":{\"label\":{\"value\":\"NRMSE\"},\"renderers\":[{\"id\":\"10415\",\"type\":\"GlyphRenderer\"}]},\"id\":\"10425\",\"type\":\"LegendItem\"},{\"attributes\":{\"line_alpha\":0.1,\"line_color\":\"#1f77b4\",\"x\":{\"field\":\"x\"},\"y\":{\"field\":\"y\"}},\"id\":\"10414\",\"type\":\"Line\"},{\"attributes\":{},\"id\":\"10390\",\"type\":\"ResetTool\"},{\"attributes\":{},\"id\":\"10422\",\"type\":\"UnionRenderers\"},{\"attributes\":{\"text\":\"ND, NRMSE, and SMAPE over the test set for MT_323\"},\"id\":\"10366\",\"type\":\"Title\"},{\"attributes\":{\"callback\":null},\"id\":\"10370\",\"type\":\"DataRange1d\"},{\"attributes\":{\"line_alpha\":0.1,\"line_color\":\"#1f77b4\",\"line_width\":2,\"x\":{\"field\":\"x\"},\"y\":{\"field\":\"y\"}},\"id\":\"10401\",\"type\":\"Line\"},{\"attributes\":{\"line_color\":\"purple\",\"x\":{\"field\":\"x\"},\"y\":{\"field\":\"y\"}},\"id\":\"10427\",\"type\":\"Line\"},{\"attributes\":{},\"id\":\"10391\",\"type\":\"HelpTool\"},{\"attributes\":{},\"id\":\"10372\",\"type\":\"LinearScale\"},{\"attributes\":{},\"id\":\"10386\",\"type\":\"PanTool\"},{\"attributes\":{},\"id\":\"10423\",\"type\":\"Selection\"},{\"attributes\":{},\"id\":\"10374\",\"type\":\"LinearScale\"},{\"attributes\":{\"callback\":null,\"data\":{\"x\":[0,1,2,3,4,5,6,7,8,9,10,11,12,13,14,15,16,17,18,19,20,21,22,23,24,25,26,27,28,29,30,31,32,33,34,35,36,37,38,39,40,41,42,43,44,45,46,47,48,49,50,51,52,53,54,55,56,57,58,59,60,61,62,63,64,65,66,67,68,69,70,71,72,73,74,75,76,77,78,79,80,81,82,83,84,85,86,87,88,89,90,91,92,93,94,95,96,97,98,99,100,101,102,103,104,105,106,107,108,109,110,111,112,113,114,115,116,117,118,119,120,121,122,123,124,125,126,127,128,129,130,131,132,133,134,135,136,137,138,139,140,141,142,143,144],\"y\":{\"__ndarray__\":\"FYhG76Pkpz/3DJ53g+usP/UlIQSR26Y/kd3CQ2Pfqz/LkKDkHSimP3ODlb+fdak/Te0eY/f9qz+l2xTESciuP40AI0q0g7A/W6kdPBYqsj95rJUuO6OsP+mRlO3CJ6o/taFv3kuprT9tjLbSaGOpP6snGIN8z64/gUjTp2IKpT9goD5xStCtP5dHek0Ita0/Ym/wELeIsD8eXN5ZSyWwP4v7lqg6tKk/QbImX0s0rj9zRtaTOgioP6DEgz4kDKc/yCU5a4UPpj/E0GtcZ2mgP2x3k682C6w/LTiQa0gxqD+105ylYnmoPyzSx1MaM6c/2J8eZ+dOpz9RAMHbsAinP3ibk8M82Z4/w/pvvym1pj8xMoY0ZiOoP4AzIYUlJ64/WIbpRuf0pj9A8uXASzGoP9j/954VP6c/qZnAZoMzqj8ogB/6HX2uP8AJr2XKc6Y/aEZQSrv8pj9ET6TPlxqiP+3dJpgVHbE/MUR8Dw5Xrj+8sTa5qDGyP7nWGTwQmbA/FeRr+dUyrj9tOdCDoAquP8PpgMFJIrQ/oZaHnq2isD9v5qBb7RCxP3EO34hNLa0/bfsfpK27rT/gfeZNiU6xP6kUC84m7bE/O4+W243QsD+BQKiiUaawP//88VJLFLI/k8PMtRIrsT+DOvM3D6uxP3yTobjFbLQ/VCn88q+lsD+NVOF9bqWyP4v8zh6FOLY/H219h4EBsT9vYnAXMxyyP/HIFreZBrA/IfWy8m5cqD+dxsyjAnyxP+V9MTto96k/NU6m1eiiqz94kTTSwKSoP/Cbry1REag/QBqFI6k7qT8Ny2H52MCnP0D2ja/Be6U/EPoVM2u5qz9ZqqljdbqrPzhXf/O8raY/zvuKvHp6oT8i9tc+IWOkPzkJEyl+j6U/Len7lwe9qT8x7j5yEMKlP9kiItCixaY/2KpiVxT1rD+txK1krp2rPwAPDCPR+6g/NPBHLlFAsj+Ae9RrP4OxPxiZIBXm9rE/KMQ07p+wtT9+Fq4v/we0P2eNP773D7U/74GgKJy/sz81QuxXRzSxPxgWqn7MtLE/SIFU5gQFsz/03nZEQzqxP3zScQvRS7Q/qSwaqZogtD89KIrwBGKzP3SixzciqrQ/v+kLPFiUtD+B90V4ljm0P8OYlKwFxrI/oEERJuAftj+47H87EJC2P1BHJu+7dLc/26I2+arwtT9zji/5qKi3PxMcHdXKcLk/+6O8RMoIvj8gMU9yuhW/P6XbFPoRJLk/Re+LMzeGuj+Tw/Mw84W3P+Di6+F22rg/b9l+nJMovD+TtjaZlR2/P4+6fdFiY7w/jQWUjt/ivj982XT8X5a8P3PdCO2dir8/ew+vNeKtuj9djhfb3Sq7P/VsAJ5VZbs/o/7gjHxjuT9tdG6fRQO4P3ERP91qO7w/W/L0rqKMtj9TQ/g9zni4P/lqEgzs8rQ/kt0TWXtWsT8sFRvhkdWyP70Ru+YHgLE/Qx0Xj7posj9dt74uZqqqP5TX6TzmZbA/u5kE9BFEqz/InuUPoYWuP56laRqGx6Q/gzwtY9wKrD8=\",\"dtype\":\"float64\",\"shape\":[145]}},\"selected\":{\"id\":\"10862\",\"type\":\"Selection\"},\"selection_policy\":{\"id\":\"10861\",\"type\":\"UnionRenderers\"}},\"id\":\"10426\",\"type\":\"ColumnDataSource\"},{\"attributes\":{\"axis_label\":\"Test Dataset Row Index\",\"formatter\":{\"id\":\"10407\",\"type\":\"BasicTickFormatter\"},\"ticker\":{\"id\":\"10377\",\"type\":\"BasicTicker\"}},\"id\":\"10376\",\"type\":\"LinearAxis\"},{\"attributes\":{\"source\":{\"id\":\"10399\",\"type\":\"ColumnDataSource\"}},\"id\":\"10403\",\"type\":\"CDSView\"},{\"attributes\":{\"source\":{\"id\":\"10426\",\"type\":\"ColumnDataSource\"}},\"id\":\"10430\",\"type\":\"CDSView\"},{\"attributes\":{\"dimension\":1,\"ticker\":{\"id\":\"10382\",\"type\":\"BasicTicker\"}},\"id\":\"10385\",\"type\":\"Grid\"},{\"attributes\":{\"data_source\":{\"id\":\"10426\",\"type\":\"ColumnDataSource\"},\"glyph\":{\"id\":\"10427\",\"type\":\"Line\"},\"hover_glyph\":null,\"muted_glyph\":null,\"nonselection_glyph\":{\"id\":\"10428\",\"type\":\"Line\"},\"selection_glyph\":null,\"view\":{\"id\":\"10430\",\"type\":\"CDSView\"}},\"id\":\"10429\",\"type\":\"GlyphRenderer\"},{\"attributes\":{},\"id\":\"10377\",\"type\":\"BasicTicker\"},{\"attributes\":{},\"id\":\"10405\",\"type\":\"BasicTickFormatter\"},{\"attributes\":{\"ticker\":{\"id\":\"10377\",\"type\":\"BasicTicker\"}},\"id\":\"10380\",\"type\":\"Grid\"},{\"attributes\":{\"items\":[{\"id\":\"10411\",\"type\":\"LegendItem\"},{\"id\":\"10425\",\"type\":\"LegendItem\"},{\"id\":\"10441\",\"type\":\"LegendItem\"}]},\"id\":\"10410\",\"type\":\"Legend\"},{\"attributes\":{\"line_alpha\":0.1,\"line_color\":\"#1f77b4\",\"x\":{\"field\":\"x\"},\"y\":{\"field\":\"y\"}},\"id\":\"10428\",\"type\":\"Line\"},{\"attributes\":{},\"id\":\"10382\",\"type\":\"BasicTicker\"},{\"attributes\":{\"axis_label\":\"Error\",\"formatter\":{\"id\":\"10405\",\"type\":\"BasicTickFormatter\"},\"ticker\":{\"id\":\"10382\",\"type\":\"BasicTicker\"}},\"id\":\"10381\",\"type\":\"LinearAxis\"},{\"attributes\":{\"line_color\":\"green\",\"x\":{\"field\":\"x\"},\"y\":{\"field\":\"y\"}},\"id\":\"10413\",\"type\":\"Line\"},{\"attributes\":{\"bottom_units\":\"screen\",\"fill_alpha\":{\"value\":0.5},\"fill_color\":{\"value\":\"lightgrey\"},\"left_units\":\"screen\",\"level\":\"overlay\",\"line_alpha\":{\"value\":1.0},\"line_color\":{\"value\":\"black\"},\"line_dash\":[4,4],\"line_width\":{\"value\":2},\"render_mode\":\"css\",\"right_units\":\"screen\",\"top_units\":\"screen\"},\"id\":\"10409\",\"type\":\"BoxAnnotation\"},{\"attributes\":{},\"id\":\"10407\",\"type\":\"BasicTickFormatter\"},{\"attributes\":{\"label\":{\"value\":\"SMAPE\"},\"renderers\":[{\"id\":\"10429\",\"type\":\"GlyphRenderer\"}]},\"id\":\"10441\",\"type\":\"LegendItem\"},{\"attributes\":{\"callback\":null,\"data\":{\"x\":[0,1,2,3,4,5,6,7,8,9,10,11,12,13,14,15,16,17,18,19,20,21,22,23,24,25,26,27,28,29,30,31,32,33,34,35,36,37,38,39,40,41,42,43,44,45,46,47,48,49,50,51,52,53,54,55,56,57,58,59,60,61,62,63,64,65,66,67,68,69,70,71,72,73,74,75,76,77,78,79,80,81,82,83,84,85,86,87,88,89,90,91,92,93,94,95,96,97,98,99,100,101,102,103,104,105,106,107,108,109,110,111,112,113,114,115,116,117,118,119,120,121,122,123,124,125,126,127,128,129,130,131,132,133,134,135,136,137,138,139,140,141,142,143,144],\"y\":{\"__ndarray__\":\"CxZcdRuApT+uES/35XiqP13FWWwaGKc/EIwNtfpPqD88wLIS2JGjP2hc2ekbTac/Z5sngw91qT/kVX9dHaOrPzqOr2B3Caw/dC/76ZY4sD/MOkZxflqpP9IE6M0BC6c/IpWX5tQaqj/CytXC9qmmP9YHdj2W8Kk/k5NYm2hRoz9t7nUCaX+oP7guMozpeak/Pg1Rul8vrT9j5cML7U6rP32BXRHDyaU/B8/QJYuqqj/KeLM2CcGkPzNAsB14XKQ/1fN7WmSupj8+9BVmCoycP4fYnJ/rSak/5OW0t+hnpD8SPh5Q1+SkPymvSHdFgaU/NR8JDTJrpT/nZo2DaT6kP6X1ku0XbJ0//vfFDdLPoj+qFx4wM7mkPxg4ta6mtak/IGGTHoHwpD/9l+y3GxKlP5wxgZJ4VKY/N5o1RuE7qT8cCaMEbKeqPw85ZhrW26U/M03GJCcapj8EuYOtOcGhP9x76/dPMrE/RdD2wyTFrz+ooqDG2TayP8/9B4A0k7A/mHqtgvYisD9UyWuuN06wP6z50o0JQ7Q/Cp4+NVuLsT8oq0mDZiaxP4avQYyD4K0/QQ1tgdawrj9yroOVc5GxP3YR4guhr7E/5ipDWarnsD/l6MWuQLWwP3rbnatlMLI/LSKHIW4jsT+LSVtj8qKxP79qF88kdbQ/wca83mG9sD8NibkXqXKyPxpPJMyPj7U/fN2GxHlVsT/BaDHAgKexP1IybcJX2a4/d6BCOFJzpD8eSfZk/eutP5Xn1sezI6Y/3DLCn5rzpz/0duN//tWnPyq8c4x1Gag/cJtG3804qD9txmoxif2mP4ov1fOpTaU/nrk4P26hqj/w+uO7FY2qP/SFf7dmdKY/eIhPQWJYoj86bKAt35ujPwiCySN+CqU/keQ999GvqD/sN5QoSUukPz9SfpaFaKY/9QkzwEt2rD8Bk0bQqXqrPyFNOtvFp6k/2ZKFkvUwsj+G+XEKuF+xP6d2C1FtSrI/anPYAZqztj96DKnlCyG1Pw0jYfD3QbU/8YPu14S5tD/YXji0G8KxPwbZCFEiwrI/7nDohiWHtD/uf6z/UdiyPxAuyMD91LQ/1hYshUPatD+e7GVHwWa1P2SU5EVSTrU/wgsmeOKetT/z1Wt+H8m0P+RVrWzqUbM/3ttBwnR9tj+/OL4LMhC4P1g0px7cTLg/e0b7YCI7tz8HdcsreZa5P/LbU0QxLLs/fykR2Ksavz+9E+Euej/AP0Bm5T7Mfrs/SE2BqLiLvD9xlCalKki5P73LDBV3LLo/DJDACABuvT/LE6Uq3PO/P3g7yQnGRL0/mynzLLAQvz+Lk1lNKsW9P6iONcjylb8/vqZCsVm8uz93kyxa4iy8PzqU5NdcE7w/mi0LOGdFuz/QRMOrAW25P+1WGwDlTb0/2N43dsvTtz/cEPhaFay4P+GXNbFc8rU/FifcqT08sj+bxs/hTCuzP01qwX6x1bA/bfSKluCSsT8ArgEh10yoP99IJsmAc64/RiJgvY2Oqz9XSICelLqtPzewMMHv2KU/XbmhVo4LrD8=\",\"dtype\":\"float64\",\"shape\":[145]}},\"selected\":{\"id\":\"10423\",\"type\":\"Selection\"},\"selection_policy\":{\"id\":\"10422\",\"type\":\"UnionRenderers\"}},\"id\":\"10399\",\"type\":\"ColumnDataSource\"},{\"attributes\":{},\"id\":\"10438\",\"type\":\"UnionRenderers\"},{\"attributes\":{\"label\":{\"value\":\"ND\"},\"renderers\":[{\"id\":\"10402\",\"type\":\"GlyphRenderer\"}]},\"id\":\"10411\",\"type\":\"LegendItem\"},{\"attributes\":{},\"id\":\"10439\",\"type\":\"Selection\"},{\"attributes\":{\"callback\":null,\"data\":{\"x\":[0,1,2,3,4,5,6,7,8,9,10,11,12,13,14,15,16,17,18,19,20,21,22,23,24,25,26,27,28,29,30,31,32,33,34,35,36,37,38,39,40,41,42,43,44,45,46,47,48,49,50,51,52,53,54,55,56,57,58,59,60,61,62,63,64,65,66,67,68,69,70,71,72,73,74,75,76,77,78,79,80,81,82,83,84,85,86,87,88,89,90,91,92,93,94,95,96,97,98,99,100,101,102,103,104,105,106,107,108,109,110,111,112,113,114,115,116,117,118,119,120,121,122,123,124,125,126,127,128,129,130,131,132,133,134,135,136,137,138,139,140,141,142,143,144],\"y\":{\"__ndarray__\":\"bYR10nlkqj9a8VJohLqwP6VKtcE6D64/Ogo7a1hWrz/0ovjofJKpPxddm/oomKw/FXIkDiNyrj9GNIaFQDWxPyeBNz+h+LE/tS/HIb6Ltj9szbWVVFGwP4MjtFN4Pa0/DTNxUJMZsD88PKBh3qisPwqtkFIazrA/pv19P2rcqT/JWGJcEPmuP/4Jyry1U68//XxAZ/w8sz82rwcmNKawP94ZCmAA9Ks/N0ofPgwOsT8lze3JTb2qP7dFqbfj2a8/CdXa7IBYsT/0LjR6KpGiP07+ZW9jULE/iIhtDs9xrD+RcTdXKk6tP54FW10AEK0/na24i/JJrT8v2n1dyEqoP6mdd9CwtaI/9HPJRPO3pz+JjuD7iCqpP4hY8zIjEa4/oyJKCM0bqj+JguvEKPCoPxJHOYL6D6s/eUXyF96ErT/mvHG5cyGvP7Z1KZVwaaw/9I674RbkrT9JY4Nlj5qrP2Tx7aciT7k/g78CXYT2uT/M/gfpXiC7P6cXD5Q87Lc/jV2N7WkMuj97CUtWSsi4Py1RPhVmFr0/mapupOqOuj+TPkjbfSG5P+1Cw3x0ULc/QVHovVdHuT9GpRo+dUu5P0VHS5UiA7o/68xO0uy7uD/Pa1Ty5ui3P6KEwLL0T7o/a/oxy+pKuD9KCd3i5MO6P+lhHPCUSLw/kDXnMvlpuT/zRmKpd8G5PwKZKnbYebs/q/b0hT6suT/yA/mu2J+3Pzw/PuQQn7I/XSpykeAPqj+HxwJLWaqxP3Bu/Y5J6q0/UGHVk9vcrD+YFuHp1TWwP0KIVAp6x60/+NXLIRj5rj921QZkLFivPwlChBZDV60/Xvw/ZcUgsT/1NzApZiqwP8h4oloOTq4/E84zRvg9pz+itdeh0DyqP95XGylFUqk/X10kpycFrj+nZGoNHYOrPz42JL2v/6k/E4iFmLI/sj9VzzCJKyuyPy4g6lEEwLE/jIB5MWHxtz9PHS9sJZa2Pxi3s7BIq7Y/uUQ1ChHOuz+xJYhHz8y7P1ym6ec63rk/qxGv8i6Xuj+sFCgjBkW3P+ecsq3Bhrk/1uCivyZjuj8DEmslxMG4P6v2hrsxMrs/BMW9qOPvuj9Tts38DZq7Py0grz4orLo/SZXYCNspuz/hU//unVO7P0iLfBlowbg/v+xmQZ9Luz8JCAyKuC6/PzyOlRm4o78/uNh3dCpAvT9/JCp4JPLBPyq0+A1DtME/TYMVq0Y8wz/yotjKAi7EP0Ras6Jus8E/dUM/W07nwj+SjLgen+zAP2Tda57ZPMA/TIl1w5Lwwj89ULZqGgrEP13CJAPt+ME/yiXv22l5wj+BWhIFZGPCP1vN+IVqQMM/iN81cYzYwT/7pwb+hM/BPyCubQYfo8E/NFw/VUi4wj+InKDuNXzAP4+jDvZWasI/Cb4ObxJmvz+vshDcDlS+P3WvtSJo0rw/zcSPI9FiuT/1VGgVFxG5P7H6FccYUrU/grbqy/2Qtj95Tv1Yrs+xP0Nx1FWAQLQ/E5LMk8NXsT96n+cRgIW0P9OtLP8pfa4/Mbhjc20+sz8=\",\"dtype\":\"float64\",\"shape\":[145]}},\"selected\":{\"id\":\"10439\",\"type\":\"Selection\"},\"selection_policy\":{\"id\":\"10438\",\"type\":\"UnionRenderers\"}},\"id\":\"10412\",\"type\":\"ColumnDataSource\"},{\"attributes\":{\"active_drag\":\"auto\",\"active_inspect\":\"auto\",\"active_multi\":null,\"active_scroll\":\"auto\",\"active_tap\":\"auto\",\"tools\":[{\"id\":\"10386\",\"type\":\"PanTool\"},{\"id\":\"10387\",\"type\":\"WheelZoomTool\"},{\"id\":\"10388\",\"type\":\"BoxZoomTool\"},{\"id\":\"10389\",\"type\":\"SaveTool\"},{\"id\":\"10390\",\"type\":\"ResetTool\"},{\"id\":\"10391\",\"type\":\"HelpTool\"}]},\"id\":\"10392\",\"type\":\"Toolbar\"},{\"attributes\":{},\"id\":\"10861\",\"type\":\"UnionRenderers\"},{\"attributes\":{\"line_color\":\"orange\",\"line_width\":2,\"x\":{\"field\":\"x\"},\"y\":{\"field\":\"y\"}},\"id\":\"10400\",\"type\":\"Line\"},{\"attributes\":{\"data_source\":{\"id\":\"10399\",\"type\":\"ColumnDataSource\"},\"glyph\":{\"id\":\"10400\",\"type\":\"Line\"},\"hover_glyph\":null,\"muted_glyph\":null,\"nonselection_glyph\":{\"id\":\"10401\",\"type\":\"Line\"},\"selection_glyph\":null,\"view\":{\"id\":\"10403\",\"type\":\"CDSView\"}},\"id\":\"10402\",\"type\":\"GlyphRenderer\"}],\"root_ids\":[\"10365\"]},\"title\":\"Bokeh Application\",\"version\":\"1.4.0\"}};\n",
       "  var render_items = [{\"docid\":\"911db231-3351-499e-87ec-068a08765098\",\"roots\":{\"10365\":\"3dfca84e-eb84-48f1-86cd-e857ed6ddf4e\"}}];\n",
       "  root.Bokeh.embed.embed_items_notebook(docs_json, render_items);\n",
       "\n",
       "  }\n",
       "  if (root.Bokeh !== undefined) {\n",
       "    embed_document(root);\n",
       "  } else {\n",
       "    var attempts = 0;\n",
       "    var timer = setInterval(function(root) {\n",
       "      if (root.Bokeh !== undefined) {\n",
       "        clearInterval(timer);\n",
       "        embed_document(root);\n",
       "      } else {\n",
       "        attempts++;\n",
       "        if (attempts > 100) {\n",
       "          clearInterval(timer);\n",
       "          console.log(\"Bokeh: ERROR: Unable to run BokehJS code because BokehJS library is missing\");\n",
       "        }\n",
       "      }\n",
       "    }, 10, root)\n",
       "  }\n",
       "})(window);"
      ],
      "application/vnd.bokehjs_exec.v0+json": ""
     },
     "metadata": {
      "application/vnd.bokehjs_exec.v0+json": {
       "id": "10365"
      }
     },
     "output_type": "display_data"
    },
    {
     "data": {
      "text/html": [
       "\n",
       "\n",
       "\n",
       "\n",
       "\n",
       "\n",
       "  <div class=\"bk-root\" id=\"cbb4afee-1e59-47a3-ba18-61c156cc1f29\" data-root-id=\"10936\"></div>\n"
      ]
     },
     "metadata": {},
     "output_type": "display_data"
    },
    {
     "data": {
      "application/javascript": [
       "(function(root) {\n",
       "  function embed_document(root) {\n",
       "    \n",
       "  var docs_json = {\"d6c640c3-5772-4163-84ae-490e17f86eda\":{\"roots\":{\"references\":[{\"attributes\":{\"below\":[{\"id\":\"10947\",\"type\":\"LinearAxis\"}],\"center\":[{\"id\":\"10951\",\"type\":\"Grid\"},{\"id\":\"10956\",\"type\":\"Grid\"},{\"id\":\"10981\",\"type\":\"Legend\"}],\"left\":[{\"id\":\"10952\",\"type\":\"LinearAxis\"}],\"plot_height\":320,\"plot_width\":960,\"renderers\":[{\"id\":\"10973\",\"type\":\"GlyphRenderer\"},{\"id\":\"10986\",\"type\":\"GlyphRenderer\"},{\"id\":\"11000\",\"type\":\"GlyphRenderer\"}],\"title\":{\"id\":\"10937\",\"type\":\"Title\"},\"toolbar\":{\"id\":\"10963\",\"type\":\"Toolbar\"},\"x_range\":{\"id\":\"10939\",\"type\":\"DataRange1d\"},\"x_scale\":{\"id\":\"10943\",\"type\":\"LinearScale\"},\"y_range\":{\"id\":\"10941\",\"type\":\"DataRange1d\"},\"y_scale\":{\"id\":\"10945\",\"type\":\"LinearScale\"}},\"id\":\"10936\",\"subtype\":\"Figure\",\"type\":\"Plot\"},{\"attributes\":{\"data_source\":{\"id\":\"10983\",\"type\":\"ColumnDataSource\"},\"glyph\":{\"id\":\"10984\",\"type\":\"Line\"},\"hover_glyph\":null,\"muted_glyph\":null,\"nonselection_glyph\":{\"id\":\"10985\",\"type\":\"Line\"},\"selection_glyph\":null,\"view\":{\"id\":\"10987\",\"type\":\"CDSView\"}},\"id\":\"10986\",\"type\":\"GlyphRenderer\"},{\"attributes\":{\"callback\":null},\"id\":\"10939\",\"type\":\"DataRange1d\"},{\"attributes\":{\"source\":{\"id\":\"10983\",\"type\":\"ColumnDataSource\"}},\"id\":\"10987\",\"type\":\"CDSView\"},{\"attributes\":{},\"id\":\"11010\",\"type\":\"Selection\"},{\"attributes\":{\"axis_label\":\"Error\",\"formatter\":{\"id\":\"10976\",\"type\":\"BasicTickFormatter\"},\"ticker\":{\"id\":\"10953\",\"type\":\"BasicTicker\"}},\"id\":\"10952\",\"type\":\"LinearAxis\"},{\"attributes\":{\"callback\":null,\"data\":{\"x\":[0,1,2,3,4,5,6,7,8,9,10,11,12,13,14,15,16,17,18,19,20,21,22,23,24,25,26,27,28,29,30,31,32,33,34,35,36,37,38,39,40,41,42,43,44,45,46,47,48,49,50,51,52,53,54,55,56,57,58,59,60,61,62,63,64,65,66,67,68,69,70,71,72,73,74,75,76,77,78,79,80,81,82,83,84,85,86,87,88,89,90,91,92,93,94,95,96,97,98,99,100,101,102,103,104,105,106,107,108,109,110,111,112,113,114,115,116,117,118,119,120,121,122,123,124,125,126,127,128,129,130,131,132,133,134,135,136,137,138,139,140,141,142,143,144],\"y\":{\"__ndarray__\":\"YOTlXr1swj+jjYvue7C5PyuD5KW3lbc/bSx/wpBhuj/1riu36Di0P6QGpqZ5ObY/ik+VIvj2tD80wNi4ZRq4P3SpRdva+bg/lSTLOm2xtz8ca//lyjS0P41c9IYAfbg/rLsHuPWgtz+JePy0p0e5P4CPW854XLo/S23fYkaCvT/rPxUag1C9P6dK+aQuir0/E3HX+K+bvD9AcuI2cM28P/mncRv1Qb8/1RoV1y1BvT8I1aRl52G9PyW5TvJSmr4/IyvIVFWXwD/geJZxirW6P3A8a8WTPr4/Tee5IcVnvT+o/WTNHeu+P6B9a7ohub4/jKjs0p67vz871frXil+/P3kqodKrgMA/d7KqEjotwD8oq4C5cDi+P13mVD5UHr0/sDsFsBc6vT/QPLZkQZK7P6XXrVw7drk/y72JmXVVvT84gS4R2WO6PzvtlOX/oLc/zXfA3O4luj8L+1E60py3PxDkaZDvtbc/VyyBLd5DtD9gkSHwgwS2P1CvJYYfNLU/wEKBcSfZtT+dsrqT+J6yP9MTdEDAwLI/KTxIQiN4sz/lStrmELa4P1nq83YY2bg/3enQKfqMvj+I0yahL5i8P03i82WKP78/Q1CHnQRVuz/YPGC73qi8P1R3RwzZxbw/S1MawDEBvD94xS65kT+8P8XERW9jILo/dP3tkZP3uj9XD4EcNNC5Pw/SJCkvI7o/CFkQMQwFvT+P3HZoFDy8P/sV5sU6nrw/IPEK1sMUvD/xHbUaHCm7PwsvBZKyMrg/OHYiOtDkuj9dTcJeGaa5PwR8dFJMcbg/zZVZzONdtT9thg2SFA60P3GicXUnw7I/dYzco8hwsD+TsCdR7wu0P1JWaw/jirE/v+EKmeJCsT/zXJMfFfWxP042VqlzD7I/tC8ZoLN5sj/ZskI2Sp2xP55w9qx4HLQ/0H2r7optsz8hObwaG62yP7ftJfVKqrI/OeGVTSotsD9X9CzLD2ivP2uEDnSfLaw/4dn9eA6Urj94/ZhEaZWuPwxoAxuUua8/rPe8yr5TrD+jf6learWoPw24pOZBEqg/IMXd+JKsrT+r0ZqqBfytPyC3+XkW6Kk/kV46TKZ1qz8F8ReAbh2uPxxj9wh2iKs/AALzOZtuqj8TcpvRzgmmP1Em+n3c7KI/iBoyTk1ooT/zXGnSQKqlP0NJDV+YC6w/fBy6FlXHqT+L342DL0anP6QBH68qnq4/X4zUupQrqz8cWs60mC+vPwV6FKztf6k/+8Arv6Y5rT/QLgLsQCWvP0jBvwH1g64/qw/zm2tprj/ky36QpW2pP1/7OKyQTaY/AeLEQJ6Tqj/QbUDIfuOvP/n6r9wksbA//dyCl7DYtD+dAtie5f2zP/k1Wla6qLM/1bmM5NqYsz/tEpPo09uzPydxlBrQirA/fX0ap62jsj81OxELaB22P9GjwKdj5bM/md4QC0L8tD9Y+Iv6UxOyP0QxRxpHH7M/8Kidhv4Bsz/ByKpbac+1P0XKj3fP5LE/fEtnqdT7sT/hJmcQjfGwP1tNloEyebM/czuZfGv5sj8=\",\"dtype\":\"float64\",\"shape\":[145]}},\"selected\":{\"id\":\"11445\",\"type\":\"Selection\"},\"selection_policy\":{\"id\":\"11444\",\"type\":\"UnionRenderers\"}},\"id\":\"10997\",\"type\":\"ColumnDataSource\"},{\"attributes\":{},\"id\":\"10962\",\"type\":\"HelpTool\"},{\"attributes\":{\"line_alpha\":0.1,\"line_color\":\"#1f77b4\",\"x\":{\"field\":\"x\"},\"y\":{\"field\":\"y\"}},\"id\":\"10985\",\"type\":\"Line\"},{\"attributes\":{\"line_color\":\"orange\",\"line_width\":2,\"x\":{\"field\":\"x\"},\"y\":{\"field\":\"y\"}},\"id\":\"10971\",\"type\":\"Line\"},{\"attributes\":{},\"id\":\"10961\",\"type\":\"ResetTool\"},{\"attributes\":{\"line_color\":\"green\",\"x\":{\"field\":\"x\"},\"y\":{\"field\":\"y\"}},\"id\":\"10984\",\"type\":\"Line\"},{\"attributes\":{\"callback\":null,\"data\":{\"x\":[0,1,2,3,4,5,6,7,8,9,10,11,12,13,14,15,16,17,18,19,20,21,22,23,24,25,26,27,28,29,30,31,32,33,34,35,36,37,38,39,40,41,42,43,44,45,46,47,48,49,50,51,52,53,54,55,56,57,58,59,60,61,62,63,64,65,66,67,68,69,70,71,72,73,74,75,76,77,78,79,80,81,82,83,84,85,86,87,88,89,90,91,92,93,94,95,96,97,98,99,100,101,102,103,104,105,106,107,108,109,110,111,112,113,114,115,116,117,118,119,120,121,122,123,124,125,126,127,128,129,130,131,132,133,134,135,136,137,138,139,140,141,142,143,144],\"y\":{\"__ndarray__\":\"+EEORBSTwD+oNXiLTsa5P1udQh66X7Y/C5gv7hS8uj91Ogl+6Vi0P8haCi+vibY/ndyv8LMitD+PJKLUp4W4Px2mzbUBFbo/3lllEGMjuD/dydKe3mm0P/vVrc9jsbg/xEPQ0nCAuD+SMT5Bmf25P057ltH3h7s/Nyx5vHrzvj+yfGCrChu/P0EOjKMFd78/fr74lyErvz+hLSGx1ya/P5yec7vVr8A/wdSJxV9OwD8obMAuo7m/P7f1GK9X9sA/+HTUug42wj+Ds2lP+t69Px1DRVQlbMA/dscPnv4MwD/T7nRBFc/APwdqiqjWUsA/nJN3rtcvwT87+SexOS7BP7I7TaX9vsE/BtHj+l2awT/rJt9ZS9vAP34WqwS7Jb8/5vCh0z7+vz8ZmGDiIqS8P7QDMtZq6Lo/dGcnfJNpvj8Mt40kTDq7P+u1fDfAPrg/U+dWaL7Puj/MoWPJ3wG4P6iOiHG027c/IfacCX1atD/pSYHzOua1P7sCc7/5ZbU/+FM55ZRMtj9usYx/PcKyP/Tvju+ZhrM/ixt7sJf7sz/7VQkXWJu3P07M03g/z7c/QPGPzKzauz/bol7irAO6P6MjhhzCb7w//ERHYWEguT/GD4fAi9a5P4bP2MMZqrk/0djex3WjuD/YeM5l7gu5P9OT9jEn77Y/nCAQHrn8tz9zoGhqbtK3P7FxKrAwILc/E1l4gitvuj/iMhYXVCe5P2L+Z0vV8Lk/GgkqWpdAuT+P0KH+VJy4P91/Dy5OZ7U/2G8hGbPQtz9aEMi1qce2P9jh2rIaKbY/l6uRcdaLsz9e40fNx/6yP8F+AoCXOrI/iEGxcMI/rz9HJMUKp4mzP9qJ6C8N47E/RtLfQGYEsT9xNLxdGPqxPwJnpmSPJLI/+cnD4qB1sj/lPJQtlwixP512gVzsnrM/psJH1Sn4sj8E1/rN+hOyP4IJUkV08bE/E9h0HvUtrz9BoFaiyOqtP46lRH8NV6o/MFjTFv4zrD9B2dEZgPurP0ksxwLfrq0/wTJcXdCXqj8TorDWVZSmPyyWM8uVvKc/PBLzNya0rD/IK160UeGsPyHY5UEW/ag//Zn0cS1Uqj8TG2XtdIysP1BH/COHWao/R40SkYTsqT+RLyYEyJqlP4EbK5jyoKE/1z6jpCUroT+3eOTWiCalP6TvS7OLa6s/1282iEVaqT9Eetj3H9OnP3H/gSUN6K0/iLE+Q+q4qz/SLyvlPcmuPyrpPI607Ko/DQSGzOjfrT/CLHUIwGKwP8Z5NkJyI68/Eor716cirz9GWwfTn3KrP5kKYVhRdKc/hasHVlP1qz+how/O3miwP9wU4prSr7A/5VE/DmBbtD/uVt5kpiCzP1n/MjIZ5LI/KEeXCvmusj94xGvFofyyPxCoyFLJAbA/ZqwYW77gsT9jS2ORLTy1PxTsbuXO2bI/6E/GMd21sz/WW2BNqeWwPzWyRSpbdrI/30PWBtaJsT++YbUuew21P97QdAXsurA/cpMXyYWMsD+ZwofWndKvP6mtDUNAvLI/fBk0j2TKsT8=\",\"dtype\":\"float64\",\"shape\":[145]}},\"selected\":{\"id\":\"10994\",\"type\":\"Selection\"},\"selection_policy\":{\"id\":\"10993\",\"type\":\"UnionRenderers\"}},\"id\":\"10970\",\"type\":\"ColumnDataSource\"},{\"attributes\":{},\"id\":\"10960\",\"type\":\"SaveTool\"},{\"attributes\":{},\"id\":\"11445\",\"type\":\"Selection\"},{\"attributes\":{\"text\":\"ND, NRMSE, and SMAPE over the test set for MT_324\"},\"id\":\"10937\",\"type\":\"Title\"},{\"attributes\":{\"callback\":null,\"data\":{\"x\":[0,1,2,3,4,5,6,7,8,9,10,11,12,13,14,15,16,17,18,19,20,21,22,23,24,25,26,27,28,29,30,31,32,33,34,35,36,37,38,39,40,41,42,43,44,45,46,47,48,49,50,51,52,53,54,55,56,57,58,59,60,61,62,63,64,65,66,67,68,69,70,71,72,73,74,75,76,77,78,79,80,81,82,83,84,85,86,87,88,89,90,91,92,93,94,95,96,97,98,99,100,101,102,103,104,105,106,107,108,109,110,111,112,113,114,115,116,117,118,119,120,121,122,123,124,125,126,127,128,129,130,131,132,133,134,135,136,137,138,139,140,141,142,143,144],\"y\":{\"__ndarray__\":\"11O+/gIHwj9gTeanv028P9cs76gM27g/MxXcRIc8vT+2bDiXLe23P2cTRO+cL7k/rB3FKr+Ytz8HQSD5IDG7P39G0aPuo7w/ljgT3Lrsuj+oRm76MAS4PxNg2RZcF7w/uarGZQisuz9POtvZikW+P+S3fTpJIr8/p6f+b74owT/hLJ1KEonBPx43FD9hvsE/NONpJPuhwT8RvBKJq6HBP6K0ASRPn8I/GDHBQpHrwj9aQVwBuOfBPwoLtdxlRsM/+kmP+MQhxD8s8ohy7U/BP3y9eAnpFsI/lYGx2wImwj/9aTvSvY/CPx3lovNDAcI/2S4Lyeugwj8pkY2bIQbDP1cNcqAL8cI/oS8GOeBCwz+yeURbfeTCPxOtDkTnTME/UAH3beX6wT8/Kfg3KYO/P0kGMkE5Yr4/LhjgxgPLwD/lcNAIS02+PzkY6iNeuLs/e5YGaF2xvT/k6BjAtM+7P4VwfOb49ro/wRXCqa2Ctz+0JLQYZTq5P7Vq/PKXh7g/6oIjQZPwuT8WA+o8awq2P1JUrf1wOLY/KkfUtrAltz+PVkkkUEa7PyYoCYIlG7w/KqtR9YVLvz+R6Qn50ki+P07DMi5sfsA/x7X4vIGMvD+6mtPRs/C9P0xOOUq8vbw/01rSZ0KMvD+izQdYb4C8P1ouUWH0VLs/Mfz8EduqvD+FJfYj0Ya6P29JVA64Vbs/taYmCH3xvT+gcPbMiCK9P7dWOk/fe70/+4j9azZWvT9rZn6XWnO8P0H/+WOT+rk/ZKjT59kKvD/HKCI6Aim7Px9YEMohg7k/s2c+nvpTtz92ouc4gry1Py7qHgftd7U/gxtZBGASsz+mHPvLFXO2Pxvce3Az77Q/fZ43qwIDtD9jPCfeMtm1Pwuvysh3z7U/Y0Gtns+Ttj9k9YJiCqO0P43RyuVzPbc/UqGIXsuStj9uzFDgDpu2P44K06QFobU/+UdoRJdLsz9z7l622A6zPx9szS6ci7E/hKLif12Hsj/Ibh/rn1mzP6mF9so1fbM/XepM1UGBsT/L7N7vNGGuPyplMM24sK8/pYnShVZssT8QD1bxWLWxPweT9qnaS7A/2lVJD5YSsT9tZDghqzWyP05gVl/0sbA/9Fq/Ne8zrz/Utc08SL6rPw5Th4/I0KU/ZzDi/bmCpj/Pi3VLlsupPx4JCyiyWrE/bS9qEG2wsD95SND/EAyxP1u6BZIEO7Q/fErOr3tVsj+KbqJ54LqzP419QCe5nLI/UQQ+33TDsj9dlx1nUP60PxDfwoU3L7Q/FDfzqLwWsz9sdRhqkwCzP/lzmVagYK4//3bUT/sUsz/hs/uJ9D20P9t8C+2wxrU/0DFcuxZPuD/G7bPzqOO1PxDPx2A1o7Y/aZsPsI+xtj/4r2OLmQS2P05Khj6GO7I/LO7Y7s4GtT9IqgZ/zIy4PwrhkQp3GbU/NcvdJ+w1tj/WYsi548OyP8pMXK6uurQ/AoMOTmY2tD/WlcCxTSS3P6hkiNeXqLM/nBOdQLd+sz9sL0ZOiVqyP7qtGlRvtbQ/2FZsFp5bsz8=\",\"dtype\":\"float64\",\"shape\":[145]}},\"selected\":{\"id\":\"11010\",\"type\":\"Selection\"},\"selection_policy\":{\"id\":\"11009\",\"type\":\"UnionRenderers\"}},\"id\":\"10983\",\"type\":\"ColumnDataSource\"},{\"attributes\":{},\"id\":\"10953\",\"type\":\"BasicTicker\"},{\"attributes\":{\"overlay\":{\"id\":\"10980\",\"type\":\"BoxAnnotation\"}},\"id\":\"10959\",\"type\":\"BoxZoomTool\"},{\"attributes\":{\"label\":{\"value\":\"ND\"},\"renderers\":[{\"id\":\"10973\",\"type\":\"GlyphRenderer\"}]},\"id\":\"10982\",\"type\":\"LegendItem\"},{\"attributes\":{},\"id\":\"10958\",\"type\":\"WheelZoomTool\"},{\"attributes\":{},\"id\":\"10945\",\"type\":\"LinearScale\"},{\"attributes\":{},\"id\":\"10957\",\"type\":\"PanTool\"},{\"attributes\":{},\"id\":\"10993\",\"type\":\"UnionRenderers\"},{\"attributes\":{\"axis_label\":\"Test Dataset Row Index\",\"formatter\":{\"id\":\"10978\",\"type\":\"BasicTickFormatter\"},\"ticker\":{\"id\":\"10948\",\"type\":\"BasicTicker\"}},\"id\":\"10947\",\"type\":\"LinearAxis\"},{\"attributes\":{\"line_alpha\":0.1,\"line_color\":\"#1f77b4\",\"line_width\":2,\"x\":{\"field\":\"x\"},\"y\":{\"field\":\"y\"}},\"id\":\"10972\",\"type\":\"Line\"},{\"attributes\":{},\"id\":\"10994\",\"type\":\"Selection\"},{\"attributes\":{\"data_source\":{\"id\":\"10970\",\"type\":\"ColumnDataSource\"},\"glyph\":{\"id\":\"10971\",\"type\":\"Line\"},\"hover_glyph\":null,\"muted_glyph\":null,\"nonselection_glyph\":{\"id\":\"10972\",\"type\":\"Line\"},\"selection_glyph\":null,\"view\":{\"id\":\"10974\",\"type\":\"CDSView\"}},\"id\":\"10973\",\"type\":\"GlyphRenderer\"},{\"attributes\":{\"ticker\":{\"id\":\"10948\",\"type\":\"BasicTicker\"}},\"id\":\"10951\",\"type\":\"Grid\"},{\"attributes\":{\"label\":{\"value\":\"NRMSE\"},\"renderers\":[{\"id\":\"10986\",\"type\":\"GlyphRenderer\"}]},\"id\":\"10996\",\"type\":\"LegendItem\"},{\"attributes\":{\"active_drag\":\"auto\",\"active_inspect\":\"auto\",\"active_multi\":null,\"active_scroll\":\"auto\",\"active_tap\":\"auto\",\"tools\":[{\"id\":\"10957\",\"type\":\"PanTool\"},{\"id\":\"10958\",\"type\":\"WheelZoomTool\"},{\"id\":\"10959\",\"type\":\"BoxZoomTool\"},{\"id\":\"10960\",\"type\":\"SaveTool\"},{\"id\":\"10961\",\"type\":\"ResetTool\"},{\"id\":\"10962\",\"type\":\"HelpTool\"}]},\"id\":\"10963\",\"type\":\"Toolbar\"},{\"attributes\":{},\"id\":\"10948\",\"type\":\"BasicTicker\"},{\"attributes\":{\"source\":{\"id\":\"10970\",\"type\":\"ColumnDataSource\"}},\"id\":\"10974\",\"type\":\"CDSView\"},{\"attributes\":{\"items\":[{\"id\":\"10982\",\"type\":\"LegendItem\"},{\"id\":\"10996\",\"type\":\"LegendItem\"},{\"id\":\"11012\",\"type\":\"LegendItem\"}]},\"id\":\"10981\",\"type\":\"Legend\"},{\"attributes\":{\"data_source\":{\"id\":\"10997\",\"type\":\"ColumnDataSource\"},\"glyph\":{\"id\":\"10998\",\"type\":\"Line\"},\"hover_glyph\":null,\"muted_glyph\":null,\"nonselection_glyph\":{\"id\":\"10999\",\"type\":\"Line\"},\"selection_glyph\":null,\"view\":{\"id\":\"11001\",\"type\":\"CDSView\"}},\"id\":\"11000\",\"type\":\"GlyphRenderer\"},{\"attributes\":{\"callback\":null},\"id\":\"10941\",\"type\":\"DataRange1d\"},{\"attributes\":{\"dimension\":1,\"ticker\":{\"id\":\"10953\",\"type\":\"BasicTicker\"}},\"id\":\"10956\",\"type\":\"Grid\"},{\"attributes\":{\"line_alpha\":0.1,\"line_color\":\"#1f77b4\",\"x\":{\"field\":\"x\"},\"y\":{\"field\":\"y\"}},\"id\":\"10999\",\"type\":\"Line\"},{\"attributes\":{},\"id\":\"10976\",\"type\":\"BasicTickFormatter\"},{\"attributes\":{\"source\":{\"id\":\"10997\",\"type\":\"ColumnDataSource\"}},\"id\":\"11001\",\"type\":\"CDSView\"},{\"attributes\":{},\"id\":\"10943\",\"type\":\"LinearScale\"},{\"attributes\":{\"line_color\":\"purple\",\"x\":{\"field\":\"x\"},\"y\":{\"field\":\"y\"}},\"id\":\"10998\",\"type\":\"Line\"},{\"attributes\":{},\"id\":\"10978\",\"type\":\"BasicTickFormatter\"},{\"attributes\":{},\"id\":\"11444\",\"type\":\"UnionRenderers\"},{\"attributes\":{},\"id\":\"11009\",\"type\":\"UnionRenderers\"},{\"attributes\":{\"bottom_units\":\"screen\",\"fill_alpha\":{\"value\":0.5},\"fill_color\":{\"value\":\"lightgrey\"},\"left_units\":\"screen\",\"level\":\"overlay\",\"line_alpha\":{\"value\":1.0},\"line_color\":{\"value\":\"black\"},\"line_dash\":[4,4],\"line_width\":{\"value\":2},\"render_mode\":\"css\",\"right_units\":\"screen\",\"top_units\":\"screen\"},\"id\":\"10980\",\"type\":\"BoxAnnotation\"},{\"attributes\":{\"label\":{\"value\":\"SMAPE\"},\"renderers\":[{\"id\":\"11000\",\"type\":\"GlyphRenderer\"}]},\"id\":\"11012\",\"type\":\"LegendItem\"}],\"root_ids\":[\"10936\"]},\"title\":\"Bokeh Application\",\"version\":\"1.4.0\"}};\n",
       "  var render_items = [{\"docid\":\"d6c640c3-5772-4163-84ae-490e17f86eda\",\"roots\":{\"10936\":\"cbb4afee-1e59-47a3-ba18-61c156cc1f29\"}}];\n",
       "  root.Bokeh.embed.embed_items_notebook(docs_json, render_items);\n",
       "\n",
       "  }\n",
       "  if (root.Bokeh !== undefined) {\n",
       "    embed_document(root);\n",
       "  } else {\n",
       "    var attempts = 0;\n",
       "    var timer = setInterval(function(root) {\n",
       "      if (root.Bokeh !== undefined) {\n",
       "        clearInterval(timer);\n",
       "        embed_document(root);\n",
       "      } else {\n",
       "        attempts++;\n",
       "        if (attempts > 100) {\n",
       "          clearInterval(timer);\n",
       "          console.log(\"Bokeh: ERROR: Unable to run BokehJS code because BokehJS library is missing\");\n",
       "        }\n",
       "      }\n",
       "    }, 10, root)\n",
       "  }\n",
       "})(window);"
      ],
      "application/vnd.bokehjs_exec.v0+json": ""
     },
     "metadata": {
      "application/vnd.bokehjs_exec.v0+json": {
       "id": "10936"
      }
     },
     "output_type": "display_data"
    },
    {
     "data": {
      "text/html": [
       "\n",
       "\n",
       "\n",
       "\n",
       "\n",
       "\n",
       "  <div class=\"bk-root\" id=\"9f0510cf-e6e8-4356-97ac-1b5e3661a8a5\" data-root-id=\"11519\"></div>\n"
      ]
     },
     "metadata": {},
     "output_type": "display_data"
    },
    {
     "data": {
      "application/javascript": [
       "(function(root) {\n",
       "  function embed_document(root) {\n",
       "    \n",
       "  var docs_json = {\"5d4e8f59-f7e4-48aa-8e64-de7d8825ff6b\":{\"roots\":{\"references\":[{\"attributes\":{\"below\":[{\"id\":\"11530\",\"type\":\"LinearAxis\"}],\"center\":[{\"id\":\"11534\",\"type\":\"Grid\"},{\"id\":\"11539\",\"type\":\"Grid\"},{\"id\":\"11564\",\"type\":\"Legend\"}],\"left\":[{\"id\":\"11535\",\"type\":\"LinearAxis\"}],\"plot_height\":320,\"plot_width\":960,\"renderers\":[{\"id\":\"11556\",\"type\":\"GlyphRenderer\"},{\"id\":\"11569\",\"type\":\"GlyphRenderer\"},{\"id\":\"11583\",\"type\":\"GlyphRenderer\"}],\"title\":{\"id\":\"11520\",\"type\":\"Title\"},\"toolbar\":{\"id\":\"11546\",\"type\":\"Toolbar\"},\"x_range\":{\"id\":\"11522\",\"type\":\"DataRange1d\"},\"x_scale\":{\"id\":\"11526\",\"type\":\"LinearScale\"},\"y_range\":{\"id\":\"11524\",\"type\":\"DataRange1d\"},\"y_scale\":{\"id\":\"11528\",\"type\":\"LinearScale\"}},\"id\":\"11519\",\"subtype\":\"Figure\",\"type\":\"Plot\"},{\"attributes\":{\"line_alpha\":0.1,\"line_color\":\"#1f77b4\",\"x\":{\"field\":\"x\"},\"y\":{\"field\":\"y\"}},\"id\":\"11582\",\"type\":\"Line\"},{\"attributes\":{\"bottom_units\":\"screen\",\"fill_alpha\":{\"value\":0.5},\"fill_color\":{\"value\":\"lightgrey\"},\"left_units\":\"screen\",\"level\":\"overlay\",\"line_alpha\":{\"value\":1.0},\"line_color\":{\"value\":\"black\"},\"line_dash\":[4,4],\"line_width\":{\"value\":2},\"render_mode\":\"css\",\"right_units\":\"screen\",\"top_units\":\"screen\"},\"id\":\"11563\",\"type\":\"BoxAnnotation\"},{\"attributes\":{\"data_source\":{\"id\":\"11580\",\"type\":\"ColumnDataSource\"},\"glyph\":{\"id\":\"11581\",\"type\":\"Line\"},\"hover_glyph\":null,\"muted_glyph\":null,\"nonselection_glyph\":{\"id\":\"11582\",\"type\":\"Line\"},\"selection_glyph\":null,\"view\":{\"id\":\"11584\",\"type\":\"CDSView\"}},\"id\":\"11583\",\"type\":\"GlyphRenderer\"},{\"attributes\":{},\"id\":\"11561\",\"type\":\"BasicTickFormatter\"},{\"attributes\":{\"ticker\":{\"id\":\"11531\",\"type\":\"BasicTicker\"}},\"id\":\"11534\",\"type\":\"Grid\"},{\"attributes\":{\"items\":[{\"id\":\"11565\",\"type\":\"LegendItem\"},{\"id\":\"11579\",\"type\":\"LegendItem\"},{\"id\":\"11595\",\"type\":\"LegendItem\"}]},\"id\":\"11564\",\"type\":\"Legend\"},{\"attributes\":{},\"id\":\"11536\",\"type\":\"BasicTicker\"},{\"attributes\":{},\"id\":\"11593\",\"type\":\"Selection\"},{\"attributes\":{\"callback\":null,\"data\":{\"x\":[0,1,2,3,4,5,6,7,8,9,10,11,12,13,14,15,16,17,18,19,20,21,22,23,24,25,26,27,28,29,30,31,32,33,34,35,36,37,38,39,40,41,42,43,44,45,46,47,48,49,50,51,52,53,54,55,56,57,58,59,60,61,62,63,64,65,66,67,68,69,70,71,72,73,74,75,76,77,78,79,80,81,82,83,84,85,86,87,88,89,90,91,92,93,94,95,96,97,98,99,100,101,102,103,104,105,106,107,108,109,110,111,112,113,114,115,116,117,118,119,120,121,122,123,124,125,126,127,128,129,130,131,132,133,134,135,136,137,138,139,140,141,142,143,144],\"y\":{\"__ndarray__\":\"24PhJLZTrT9m74S+sgCrP+7tcYA74q0/Rn97m4UPrT+VeASEbIqwPxzcX+WG3LA/rHJqIA/wsD8aFbQeEOS1P51TJgixTLI/ZbTcx+PWsj9jsbMZR8K0P5z2mg4G368//zbS/OwCsD9j1kkwJ5KtP0X73pM8Aqw/4X8KrGU7tD+UTCb3B06vPy2qlRLAT64/DjtkVQHprj8oq5NP8YexP/0bW/4r6rE/7YSCAOvgsT9bxBNHvBqwPz4d1MpNGrI/4KsDcGG1sz9kLjnncnqnP6bkNmFdqq4/RMzKibuqpj/sQnWVZZGrP7qTxw2WX6w/wCmkpoE0qz9623kI4sCmP/WqBmPnsq0/e7fajPoLrj9oaxZk2u+tP2FaNxb81qk//ZWe59rSqD8+NDNMpeqoPxhv1xcyAK0/EzEYoqQJqT8V9gO9HrGpP7ZOMKQel6g/WTwyLho2qz+L5n79yEyoPx5Miv+6fKo/+ApinUNdpz/SHMToO92mP3bvNc4klqk/LWeZScI4sD+4Kk59n76vP5laElIrC60/1QGN3nLjqz+Uv73Sqt+kP9ufJHI/D6o/kcA8f9ZosD/7pvmsZ2qsPz30RZk08bE/E+hEElKGrD9c8LUOHUuxP6DRkvm7ErI/NUlhCxVTrj8cHvrtNj6vP55b9ne/Aa8/L+nd7a+3sD9RnF7eHHGxPyuAMuyyJ7M/l6zjy2RWrz+xL3tCHUSxP+BUU05icLA/AHdF4h4isj9+Mhvzx1ixP1ahan4bHrM/8+bPCDlTtD8L3W9E9i6zP3cZxpS6tLE/d9mtmN3UsT+5COjfIvaxP1YNgBcjsrU/uaBbHF64sz80Vvn6mNWzPyi3jADS+7Q/yQSYPmAgtD+EPOlF+aKxP3u4VI5jlLI/y1yRiXLhtD+GILSiUgC2Pz7sX8nM6rE/JDbEf5zrsT+IcRgxTJuyP3d5LL+tlbE/52Ds+7cWrj+xBMcHqBCxP1+aDkwuwbE/fQoqO7JerT8phTDtKIGyP39/4eJmJLE/v8N7ei0etD8PMGHrcmmzPwbwwkag3rQ/h+ywRJ1Itz/73gLxxtC3P+a7HImkBrw/+K47F0YbvT8A+Ls9asC0Py3FVxk9lrk/wbWJ9Tyauz9FTNEZqQHAP2LgLtPIxro/XfttBwzxvD9ihJ1jOfO7P+PkZ0PVNb0/UzSs85ERuj9MVkvmq225P+D72VNNW78/LSSxM/g5vz9JrPduJqm9P8j0tYJut78/QUrHxrZjvz8EVRYq7p25P0wmIGTQw7M/x3V2Urg9tz9tdnj7csO1Pwxp6Y77ZrM/tXp9dmJyuj/A2RsO7O+4PxMcYMbP1LY/KNSI8/LeuD/xJnht2Ju2P2MjM/akkbY/LqaCnqh2uj/axJm5Sx21P1uN5Q2VE7U/EUG06I6htj/GzC+xd6G2PxVaHkWbE7M/x63oc26atT+7RgnwNZW1P+jxTf1tHbY/XbFB2pLtuD/mhat9niq1P7riUoXVULY/lC+WP222tD/BTnFnysa1P8PRQSuw6bA/Gi5X+/D9sD8=\",\"dtype\":\"float64\",\"shape\":[145]}},\"selected\":{\"id\":\"11593\",\"type\":\"Selection\"},\"selection_policy\":{\"id\":\"11592\",\"type\":\"UnionRenderers\"}},\"id\":\"11566\",\"type\":\"ColumnDataSource\"},{\"attributes\":{\"label\":{\"value\":\"ND\"},\"renderers\":[{\"id\":\"11556\",\"type\":\"GlyphRenderer\"}]},\"id\":\"11565\",\"type\":\"LegendItem\"},{\"attributes\":{\"label\":{\"value\":\"SMAPE\"},\"renderers\":[{\"id\":\"11583\",\"type\":\"GlyphRenderer\"}]},\"id\":\"11595\",\"type\":\"LegendItem\"},{\"attributes\":{\"text\":\"ND, NRMSE, and SMAPE over the test set for MT_325\"},\"id\":\"11520\",\"type\":\"Title\"},{\"attributes\":{},\"id\":\"12039\",\"type\":\"UnionRenderers\"},{\"attributes\":{\"line_color\":\"green\",\"x\":{\"field\":\"x\"},\"y\":{\"field\":\"y\"}},\"id\":\"11567\",\"type\":\"Line\"},{\"attributes\":{},\"id\":\"11531\",\"type\":\"BasicTicker\"},{\"attributes\":{\"source\":{\"id\":\"11553\",\"type\":\"ColumnDataSource\"}},\"id\":\"11557\",\"type\":\"CDSView\"},{\"attributes\":{\"dimension\":1,\"ticker\":{\"id\":\"11536\",\"type\":\"BasicTicker\"}},\"id\":\"11539\",\"type\":\"Grid\"},{\"attributes\":{\"axis_label\":\"Test Dataset Row Index\",\"formatter\":{\"id\":\"11561\",\"type\":\"BasicTickFormatter\"},\"ticker\":{\"id\":\"11531\",\"type\":\"BasicTicker\"}},\"id\":\"11530\",\"type\":\"LinearAxis\"},{\"attributes\":{},\"id\":\"11528\",\"type\":\"LinearScale\"},{\"attributes\":{},\"id\":\"11526\",\"type\":\"LinearScale\"},{\"attributes\":{\"callback\":null,\"data\":{\"x\":[0,1,2,3,4,5,6,7,8,9,10,11,12,13,14,15,16,17,18,19,20,21,22,23,24,25,26,27,28,29,30,31,32,33,34,35,36,37,38,39,40,41,42,43,44,45,46,47,48,49,50,51,52,53,54,55,56,57,58,59,60,61,62,63,64,65,66,67,68,69,70,71,72,73,74,75,76,77,78,79,80,81,82,83,84,85,86,87,88,89,90,91,92,93,94,95,96,97,98,99,100,101,102,103,104,105,106,107,108,109,110,111,112,113,114,115,116,117,118,119,120,121,122,123,124,125,126,127,128,129,130,131,132,133,134,135,136,137,138,139,140,141,142,143,144],\"y\":{\"__ndarray__\":\"GHNSHBgGpz/TuKV8KLKnP+xi0+tS0Kg/SAFVDO0WqD/FCpyD7MOtP2O/WbuOQK4/eJUTykiVrT/vqk/MAKuzP5ATvu9N77A/43c7MQhIsT8cpETI3aiyP8ETVRcA5as/2dAdVvsYrT+j6Q46l5uqP9ybuibt2Kg/Zdv8tM+fsj8rPa5YSyyrP33/RR79Wac/yGgPREO5qz8b0BOePgGwP1X6MJQ0wa8/sD8f+Xxerj+15XIb6ZKtP0DVG33BH7A/jt+blz0Csj99CxsjXUSjP6gNUPruyKc/ecjlwI8JpT/DEB8JYzOlP4/kM1hvg6U/HBv87HYopD9vaegVTe6gP5BLwfSxQqY/hWj1R09qpj9IEmFFQ3+nPxOlmpq9RaY/DL4htK/5pD+uJAhq0yOkP1hbhWtQoag/GAhuxu3Poj/wYNDhjtWkP6kIRkjce6U/Ow5jGGGJpj+f1B3iJ9qjP7/6DQa3qKQ/D83ClUjRoj8FHU3Gf1CjP6nHSxZ8aaM/J6qmk76xqj+DIz8IKGCnPyUPmKfH/qY/JYSZRyrVpT9bleCDGQeeP/N86UwE9aU/sMOVwgKIqj/+9mgkBP6kP2PFNcQfVqk/FwXROsZ5pj+PLifD0tKrP6vNVXHUnKs/gPL7wZyDqD88UyegKUypP5kZ9DNMX6k/41/ptsFlqT+BJ5CnuUqqPwMIqAfp1K0/81iAf6mJqD/tlGCqAAWsPzviPgWk7as/m8X3qNINrT9U6IqsdP6tP7xy3kMcNrA/TLAGQJkxsT/Ff8nksi6uP5Nijrr0i64/eAt+787hqj/zLBdU4s6qPz9180aXdrM/iF77JQ7Jrz9BuxnUlFCyPxwIExQ8+bI/QUejTY0Vsz9l1zBiN+GuP+Mk9ZUKIrI/Cj/CAtCIsz95iv4Ky+G0PwxKdouTxK0/7VuBOQg5rj/pvt6O1WqwP2wtM8x6xKw/s2JGX2tzpT+LC1A3I/+qP8FpQeR+e60/QYU5dmObpj/qguzCaaOwPwEA+lKDcak/4OojvZuSrj/Bam8z9bmsP3lnzHBhB7A/zzuRko8Gsz+PR6OOOaO0PzhdxiTT9Lk/EUmeFOHUuz+MFA2W/GeyP6P2sz/T3rc/kZt06tvKuj/DQ6pzMJe/Pw3nYgORDLk/lbKcnxtyvT81SboitJy7P4Dg6+u0N7w/yFkkKn3xuT9IQymalKW3P9V8y9hudMA/Q9DUgJMBwD9t4UDB4lO9P0OtpiNRPMA/gVtoDCtpwD8xrdUJmo64P9sk/d+HorA/eTsZ7SVPsz/XZ+Rud0iyPy0/bT1jTLE/42SDaRQjuD/DabfJnNK3P18lZXuu5rM/48KnviK7tj9h8Y5HZhS0P1iA9TZs8bQ/lHMAKb5WuD8RUuqXFNqxP+yrZBZMXbI/zFNSqpMytD/BC1QIAbazP/sqaMylLLA/5RmY5lCssj9/KwiTnyKyP5QJKcScNrI/91jkeNFZtT9QPld5i7+xP5HDQWWp67I/daBCSBtFsj/TPAK54LOyPwji8w+CKas/QMZCtgA5qz8=\",\"dtype\":\"float64\",\"shape\":[145]}},\"selected\":{\"id\":\"12040\",\"type\":\"Selection\"},\"selection_policy\":{\"id\":\"12039\",\"type\":\"UnionRenderers\"}},\"id\":\"11580\",\"type\":\"ColumnDataSource\"},{\"attributes\":{},\"id\":\"11544\",\"type\":\"ResetTool\"},{\"attributes\":{\"line_alpha\":0.1,\"line_color\":\"#1f77b4\",\"x\":{\"field\":\"x\"},\"y\":{\"field\":\"y\"}},\"id\":\"11568\",\"type\":\"Line\"},{\"attributes\":{},\"id\":\"12040\",\"type\":\"Selection\"},{\"attributes\":{\"source\":{\"id\":\"11566\",\"type\":\"ColumnDataSource\"}},\"id\":\"11570\",\"type\":\"CDSView\"},{\"attributes\":{},\"id\":\"11543\",\"type\":\"SaveTool\"},{\"attributes\":{\"data_source\":{\"id\":\"11566\",\"type\":\"ColumnDataSource\"},\"glyph\":{\"id\":\"11567\",\"type\":\"Line\"},\"hover_glyph\":null,\"muted_glyph\":null,\"nonselection_glyph\":{\"id\":\"11568\",\"type\":\"Line\"},\"selection_glyph\":null,\"view\":{\"id\":\"11570\",\"type\":\"CDSView\"}},\"id\":\"11569\",\"type\":\"GlyphRenderer\"},{\"attributes\":{\"callback\":null},\"id\":\"11524\",\"type\":\"DataRange1d\"},{\"attributes\":{},\"id\":\"11559\",\"type\":\"BasicTickFormatter\"},{\"attributes\":{\"callback\":null,\"data\":{\"x\":[0,1,2,3,4,5,6,7,8,9,10,11,12,13,14,15,16,17,18,19,20,21,22,23,24,25,26,27,28,29,30,31,32,33,34,35,36,37,38,39,40,41,42,43,44,45,46,47,48,49,50,51,52,53,54,55,56,57,58,59,60,61,62,63,64,65,66,67,68,69,70,71,72,73,74,75,76,77,78,79,80,81,82,83,84,85,86,87,88,89,90,91,92,93,94,95,96,97,98,99,100,101,102,103,104,105,106,107,108,109,110,111,112,113,114,115,116,117,118,119,120,121,122,123,124,125,126,127,128,129,130,131,132,133,134,135,136,137,138,139,140,141,142,143,144],\"y\":{\"__ndarray__\":\"RElTSd+Ipz/HUHjEkW2nP/ubzHYZQKk/D9oPEk2QqD+7kuYjJFurP6Sk3OFaJ60/Em6adIqZrT90hWrTF2KyP5xI2qgFR7A/Xq+NxqJwsD/4Prx8DDmxPxc3tOUDdKo/p6stAfhVqj8fd2IcU+CoP05rlUn+NKg/Oo28hVdisT8TG2qozFepPxNolih2Uqg/kdfZLJqeqj/8OGXCVcGtP7pqG9liDa0/QZsoU4+1rT8njc+RQ/GrP8TqtKB2Aa4/Qs0lqnUWsD9D9ARAAHiiP3zisCKQ7qg/Blesjr8ypD+nk7G0vAKmPwy0kwqRuaY/tcpWNlykpD+pg1fSMkihPzzIxrUNPqc/TNvGd2Ampz/+DxaopG+oP7KPhFFpHqY/r5o1kjzepD9k7OhCdbOkP0QL5O53h6c/tVTsX4bvoj+IPejpOKakP3bUQzTyMqU/JvBfAc2Hpj+Sihde4HyjP42tc3aZTKQ/dlCw7q+qoj+xE9y2j4aiPzdhWhJjPqM/HMAc16pmqT/1eBEjEQqnP7kUgR0jlKY/l9U0g2BwpT9tYg9Fp4ucP59HMLf9SaU/XrrTjuC6qT9kcyFpShWkP0/0ckaex6g/wKBbr+HCpT+1zprqpseqP5fgjd7Asqo/UAsZWTm8pz9Obw524gaoP7/QX1YKnqg/H3GW8+HKqD8VQotjH8upP1MG2iKCMa0/HwO4KSn4pz9p8w4+7SGrP6zitX6aPqs/yCSiTg7kqz/QJOH0m/msP3z8tSm83K4/jDbkBU9lsD/onb8tPTGuP6v26KipCa0/IkmLasDRqj/JMe/TyE6qP/rkSeh3SLI/UhUwM1jBrT/hI89M7buwP6EYd1dagLE/1c3C09eMsT/ixY/NRK6sP9Ha/wQ/GbA/mJJco6R7sT+x0uSL8XSyP3gd8SZ4Q60/9baCQpl1rD/bjTAnP46uP6zReUOas6o/IInN1nvVpD+mF9vhcbypP7tc+sTUl6s/I3OkyhFspj8N66pJuAyvP9sa/V1+OKk/C/rF281OrT9BRskHqYSrP/tcmgYEXa0/qZcKOLw5sT86jFY3GxeyP4DrHVE2BbY/Ix6YuLMctz+axf83xP6vP18zqn1uJrQ/dWYcwqXQtj83oj90NcC6P6PMxvI3wLU/hB9vbm4WuT8JMwgP/qC3P5G29xFYbrg/ZxLGByCjtj+Eg/WGQGu1P+5nuSxGbbs/ghLfQ98ouz8cbzk+g1K6Px8bSyNO7rs/sMxp5CJluz/jm+asrFe2P0YywvN+2a8/jQRr/s6Gsj9A2G1ioUixP6fNmul9vK8/GhgGqbQKtj8pTNs5apa0P2/i7/qN3bI/TXDBKC5CtD9XsfceaTCxP+qIorp23bI/3+Lm79jctT8qOnyXAImwP2RKD6wiL7E/CsSoq3u2sT9RpPQItXKxP20X8Y7nU64/FiAHtCCFsT/pHiGdvIawP+yLgXJbMrE/O52cj+hLsz+gOuMOVP2wP1FRk3rlf7E/O325zPEdsT+IikihDhqyP3wDnUtONKs/FPqy/amnqj8=\",\"dtype\":\"float64\",\"shape\":[145]}},\"selected\":{\"id\":\"11577\",\"type\":\"Selection\"},\"selection_policy\":{\"id\":\"11576\",\"type\":\"UnionRenderers\"}},\"id\":\"11553\",\"type\":\"ColumnDataSource\"},{\"attributes\":{},\"id\":\"11576\",\"type\":\"UnionRenderers\"},{\"attributes\":{},\"id\":\"11545\",\"type\":\"HelpTool\"},{\"attributes\":{},\"id\":\"11540\",\"type\":\"PanTool\"},{\"attributes\":{\"label\":{\"value\":\"NRMSE\"},\"renderers\":[{\"id\":\"11569\",\"type\":\"GlyphRenderer\"}]},\"id\":\"11579\",\"type\":\"LegendItem\"},{\"attributes\":{\"line_color\":\"purple\",\"x\":{\"field\":\"x\"},\"y\":{\"field\":\"y\"}},\"id\":\"11581\",\"type\":\"Line\"},{\"attributes\":{\"overlay\":{\"id\":\"11563\",\"type\":\"BoxAnnotation\"}},\"id\":\"11542\",\"type\":\"BoxZoomTool\"},{\"attributes\":{},\"id\":\"11577\",\"type\":\"Selection\"},{\"attributes\":{},\"id\":\"11541\",\"type\":\"WheelZoomTool\"},{\"attributes\":{},\"id\":\"11592\",\"type\":\"UnionRenderers\"},{\"attributes\":{\"data_source\":{\"id\":\"11553\",\"type\":\"ColumnDataSource\"},\"glyph\":{\"id\":\"11554\",\"type\":\"Line\"},\"hover_glyph\":null,\"muted_glyph\":null,\"nonselection_glyph\":{\"id\":\"11555\",\"type\":\"Line\"},\"selection_glyph\":null,\"view\":{\"id\":\"11557\",\"type\":\"CDSView\"}},\"id\":\"11556\",\"type\":\"GlyphRenderer\"},{\"attributes\":{\"line_alpha\":0.1,\"line_color\":\"#1f77b4\",\"line_width\":2,\"x\":{\"field\":\"x\"},\"y\":{\"field\":\"y\"}},\"id\":\"11555\",\"type\":\"Line\"},{\"attributes\":{\"line_color\":\"orange\",\"line_width\":2,\"x\":{\"field\":\"x\"},\"y\":{\"field\":\"y\"}},\"id\":\"11554\",\"type\":\"Line\"},{\"attributes\":{\"callback\":null},\"id\":\"11522\",\"type\":\"DataRange1d\"},{\"attributes\":{\"source\":{\"id\":\"11580\",\"type\":\"ColumnDataSource\"}},\"id\":\"11584\",\"type\":\"CDSView\"},{\"attributes\":{\"axis_label\":\"Error\",\"formatter\":{\"id\":\"11559\",\"type\":\"BasicTickFormatter\"},\"ticker\":{\"id\":\"11536\",\"type\":\"BasicTicker\"}},\"id\":\"11535\",\"type\":\"LinearAxis\"},{\"attributes\":{\"active_drag\":\"auto\",\"active_inspect\":\"auto\",\"active_multi\":null,\"active_scroll\":\"auto\",\"active_tap\":\"auto\",\"tools\":[{\"id\":\"11540\",\"type\":\"PanTool\"},{\"id\":\"11541\",\"type\":\"WheelZoomTool\"},{\"id\":\"11542\",\"type\":\"BoxZoomTool\"},{\"id\":\"11543\",\"type\":\"SaveTool\"},{\"id\":\"11544\",\"type\":\"ResetTool\"},{\"id\":\"11545\",\"type\":\"HelpTool\"}]},\"id\":\"11546\",\"type\":\"Toolbar\"}],\"root_ids\":[\"11519\"]},\"title\":\"Bokeh Application\",\"version\":\"1.4.0\"}};\n",
       "  var render_items = [{\"docid\":\"5d4e8f59-f7e4-48aa-8e64-de7d8825ff6b\",\"roots\":{\"11519\":\"9f0510cf-e6e8-4356-97ac-1b5e3661a8a5\"}}];\n",
       "  root.Bokeh.embed.embed_items_notebook(docs_json, render_items);\n",
       "\n",
       "  }\n",
       "  if (root.Bokeh !== undefined) {\n",
       "    embed_document(root);\n",
       "  } else {\n",
       "    var attempts = 0;\n",
       "    var timer = setInterval(function(root) {\n",
       "      if (root.Bokeh !== undefined) {\n",
       "        clearInterval(timer);\n",
       "        embed_document(root);\n",
       "      } else {\n",
       "        attempts++;\n",
       "        if (attempts > 100) {\n",
       "          clearInterval(timer);\n",
       "          console.log(\"Bokeh: ERROR: Unable to run BokehJS code because BokehJS library is missing\");\n",
       "        }\n",
       "      }\n",
       "    }, 10, root)\n",
       "  }\n",
       "})(window);"
      ],
      "application/vnd.bokehjs_exec.v0+json": ""
     },
     "metadata": {
      "application/vnd.bokehjs_exec.v0+json": {
       "id": "11519"
      }
     },
     "output_type": "display_data"
    },
    {
     "data": {
      "text/html": [
       "\n",
       "\n",
       "\n",
       "\n",
       "\n",
       "\n",
       "  <div class=\"bk-root\" id=\"9e695e54-371d-49ff-9fa4-d72a73f8c123\" data-root-id=\"12114\"></div>\n"
      ]
     },
     "metadata": {},
     "output_type": "display_data"
    },
    {
     "data": {
      "application/javascript": [
       "(function(root) {\n",
       "  function embed_document(root) {\n",
       "    \n",
       "  var docs_json = {\"f54989f1-d837-4b5c-8b8d-a6995de2bf5c\":{\"roots\":{\"references\":[{\"attributes\":{\"below\":[{\"id\":\"12125\",\"type\":\"LinearAxis\"}],\"center\":[{\"id\":\"12129\",\"type\":\"Grid\"},{\"id\":\"12134\",\"type\":\"Grid\"},{\"id\":\"12159\",\"type\":\"Legend\"}],\"left\":[{\"id\":\"12130\",\"type\":\"LinearAxis\"}],\"plot_height\":320,\"plot_width\":960,\"renderers\":[{\"id\":\"12151\",\"type\":\"GlyphRenderer\"},{\"id\":\"12164\",\"type\":\"GlyphRenderer\"},{\"id\":\"12178\",\"type\":\"GlyphRenderer\"}],\"title\":{\"id\":\"12115\",\"type\":\"Title\"},\"toolbar\":{\"id\":\"12141\",\"type\":\"Toolbar\"},\"x_range\":{\"id\":\"12117\",\"type\":\"DataRange1d\"},\"x_scale\":{\"id\":\"12121\",\"type\":\"LinearScale\"},\"y_range\":{\"id\":\"12119\",\"type\":\"DataRange1d\"},\"y_scale\":{\"id\":\"12123\",\"type\":\"LinearScale\"}},\"id\":\"12114\",\"subtype\":\"Figure\",\"type\":\"Plot\"},{\"attributes\":{\"axis_label\":\"Test Dataset Row Index\",\"formatter\":{\"id\":\"12156\",\"type\":\"BasicTickFormatter\"},\"ticker\":{\"id\":\"12126\",\"type\":\"BasicTicker\"}},\"id\":\"12125\",\"type\":\"LinearAxis\"},{\"attributes\":{\"source\":{\"id\":\"12148\",\"type\":\"ColumnDataSource\"}},\"id\":\"12152\",\"type\":\"CDSView\"},{\"attributes\":{\"callback\":null,\"data\":{\"x\":[0,1,2,3,4,5,6,7,8,9,10,11,12,13,14,15,16,17,18,19,20,21,22,23,24,25,26,27,28,29,30,31,32,33,34,35,36,37,38,39,40,41,42,43,44,45,46,47,48,49,50,51,52,53,54,55,56,57,58,59,60,61,62,63,64,65,66,67,68,69,70,71,72,73,74,75,76,77,78,79,80,81,82,83,84,85,86,87,88,89,90,91,92,93,94,95,96,97,98,99,100,101,102,103,104,105,106,107,108,109,110,111,112,113,114,115,116,117,118,119,120,121,122,123,124,125,126,127,128,129,130,131,132,133,134,135,136,137,138,139,140,141,142,143,144],\"y\":{\"__ndarray__\":\"mGJ29cCCpz/DxZlcQLeqP9rdy0IpgKs/4jipA5dcpD+wMdRut0ioP5MJ7oN7EKc/MEwHPbdRqz+JN1c339WnP6r0MZQoFKc/Ra4YFcekpj/16QnrlOOoP+lO22LzcKM/thMo310aoj9UmPOkU8GjP+ieqmQ7XqM/96cNP3Z9oj8L7BWOtrWiPykOnnAKdqI/p7PXsuItoD8OeR//zrumPzfKMryIO6o/RqnZd8hyqD+35/Vlo8WmP3R/LtdNsKc/shpbeqy7qD/vlacdTI2oPzTTrdUPcaw/maB6RvYUsD+WpMrSJQuvPyQhveNjias/UJ4uaQQyrz849lwPbxiyPwvFFW6dHrE/SUUTeSeurT8C1FYNDO2xP7DmghwOsLI/8p1myqtHsj/4kxvEt4KwPyXYRNwilqs/8RLswSIfsz9lu69U3kCtP9lXg5FjPqw/s1X6w37XsT/3IAAH1H+vP0/BpwpeYLI/ZdkzsBUdsT9oEhAadbatP/AU25FEOKc/at+P/LL6rD9SVWRhJIKpP78vZAZVf7A/fwMGfZ1Ppz87Cn9ZtaOsP/vRxPCi0q4/apLP8aNysD9bwyT6yo2qP1bK5A7vAq8/CTy9b2onsD+oK+iHmMCpP1ub72J6TrA//nKqvBMoqT9K4luZ546tP8foHxEV/bA/R1oOeJyXqT+E4r8E3XGuP6+GD8vbvK0/iyXflmk2sD+Erx/qCp6nP0fgCXOf464/Tw6wYrEnrD9+i7MkDAiuPzpfFkBE3qQ/bvIv6R6noz8q/s8hOd+pP2uOqq6sQKs/70/eGylToj9g6fVECe+qP3f7Lr2OvK4/0sb6ujmhqj/6OvBSqauqP5puArsCS68/UAWxQPW1rj8aaEo0iUeqP4q4GnvF5as/NJEr8bnzqT+G/+W6CJ6oP+3g/zUCzaY/wKMmJCmwpz8cVjOeLzquPyJGomcHebI/DoGTYJmwsT+M3BpulAuxP8LWcKwpyrI/vCwgahyxsD+LwLYtO/yyP5XQZXuqfLM/TCZkZGykrj+OFU5i3USsPwQex5oqqLE/V6AlesGJsT+bBiMF8P6vP6GB2d23/bA/ciPL9Wejqj+uHl7C9BmvPzmZSDxr/aw/CbHWqcm5rj9kdp5rMGWzP1U9cNCoybI/rSj0hSKosT83YRruTFSxP2QSzXX9mrI/hQdY7ahdsz86u91mlaqwPzXGiMgduLI/bpM9FzQhrz+rZZhW10WvP5zXV3HdSbA/Py2j+V6gsz/GPY00/DCwPzAA0WPWErI/ONZ13cuSsz/DqteD1CexP2QysCVa0bE/p5+U2m2FsT8fBZ92HI6yP0lVYlwlVbA/X36GO4P3sj9gpSfr3L20P9cYCcUTirM/191zeqjEtj+YyZDqL6azP8dm/34agLM/wtwgvJBUrz/1dxBFJUWyP1de/CkU3LE/7lyQoECmsT9BoyeOjC2xP99mhWymHbQ/2Ewy6S+osT+f3jsK+T+zP+eZ/RbNCbE/GynbrwTNrz8HW7caHEauP/ZZV1WkcbE/kJoCc+hoqj8=\",\"dtype\":\"float64\",\"shape\":[145]}},\"selected\":{\"id\":\"12172\",\"type\":\"Selection\"},\"selection_policy\":{\"id\":\"12171\",\"type\":\"UnionRenderers\"}},\"id\":\"12148\",\"type\":\"ColumnDataSource\"},{\"attributes\":{\"dimension\":1,\"ticker\":{\"id\":\"12131\",\"type\":\"BasicTicker\"}},\"id\":\"12134\",\"type\":\"Grid\"},{\"attributes\":{\"line_color\":\"purple\",\"x\":{\"field\":\"x\"},\"y\":{\"field\":\"y\"}},\"id\":\"12176\",\"type\":\"Line\"},{\"attributes\":{\"source\":{\"id\":\"12175\",\"type\":\"ColumnDataSource\"}},\"id\":\"12179\",\"type\":\"CDSView\"},{\"attributes\":{\"data_source\":{\"id\":\"12175\",\"type\":\"ColumnDataSource\"},\"glyph\":{\"id\":\"12176\",\"type\":\"Line\"},\"hover_glyph\":null,\"muted_glyph\":null,\"nonselection_glyph\":{\"id\":\"12177\",\"type\":\"Line\"},\"selection_glyph\":null,\"view\":{\"id\":\"12179\",\"type\":\"CDSView\"}},\"id\":\"12178\",\"type\":\"GlyphRenderer\"},{\"attributes\":{\"ticker\":{\"id\":\"12126\",\"type\":\"BasicTicker\"}},\"id\":\"12129\",\"type\":\"Grid\"},{\"attributes\":{},\"id\":\"12154\",\"type\":\"BasicTickFormatter\"},{\"attributes\":{},\"id\":\"12131\",\"type\":\"BasicTicker\"},{\"attributes\":{\"axis_label\":\"Error\",\"formatter\":{\"id\":\"12154\",\"type\":\"BasicTickFormatter\"},\"ticker\":{\"id\":\"12131\",\"type\":\"BasicTicker\"}},\"id\":\"12130\",\"type\":\"LinearAxis\"},{\"attributes\":{\"items\":[{\"id\":\"12160\",\"type\":\"LegendItem\"},{\"id\":\"12174\",\"type\":\"LegendItem\"},{\"id\":\"12190\",\"type\":\"LegendItem\"}]},\"id\":\"12159\",\"type\":\"Legend\"},{\"attributes\":{},\"id\":\"12172\",\"type\":\"Selection\"},{\"attributes\":{},\"id\":\"12187\",\"type\":\"UnionRenderers\"},{\"attributes\":{\"bottom_units\":\"screen\",\"fill_alpha\":{\"value\":0.5},\"fill_color\":{\"value\":\"lightgrey\"},\"left_units\":\"screen\",\"level\":\"overlay\",\"line_alpha\":{\"value\":1.0},\"line_color\":{\"value\":\"black\"},\"line_dash\":[4,4],\"line_width\":{\"value\":2},\"render_mode\":\"css\",\"right_units\":\"screen\",\"top_units\":\"screen\"},\"id\":\"12158\",\"type\":\"BoxAnnotation\"},{\"attributes\":{},\"id\":\"12156\",\"type\":\"BasicTickFormatter\"},{\"attributes\":{\"label\":{\"value\":\"SMAPE\"},\"renderers\":[{\"id\":\"12178\",\"type\":\"GlyphRenderer\"}]},\"id\":\"12190\",\"type\":\"LegendItem\"},{\"attributes\":{},\"id\":\"12188\",\"type\":\"Selection\"},{\"attributes\":{},\"id\":\"12140\",\"type\":\"HelpTool\"},{\"attributes\":{\"callback\":null},\"id\":\"12117\",\"type\":\"DataRange1d\"},{\"attributes\":{},\"id\":\"12123\",\"type\":\"LinearScale\"},{\"attributes\":{\"label\":{\"value\":\"ND\"},\"renderers\":[{\"id\":\"12151\",\"type\":\"GlyphRenderer\"}]},\"id\":\"12160\",\"type\":\"LegendItem\"},{\"attributes\":{\"callback\":null},\"id\":\"12119\",\"type\":\"DataRange1d\"},{\"attributes\":{\"callback\":null,\"data\":{\"x\":[0,1,2,3,4,5,6,7,8,9,10,11,12,13,14,15,16,17,18,19,20,21,22,23,24,25,26,27,28,29,30,31,32,33,34,35,36,37,38,39,40,41,42,43,44,45,46,47,48,49,50,51,52,53,54,55,56,57,58,59,60,61,62,63,64,65,66,67,68,69,70,71,72,73,74,75,76,77,78,79,80,81,82,83,84,85,86,87,88,89,90,91,92,93,94,95,96,97,98,99,100,101,102,103,104,105,106,107,108,109,110,111,112,113,114,115,116,117,118,119,120,121,122,123,124,125,126,127,128,129,130,131,132,133,134,135,136,137,138,139,140,141,142,143,144],\"y\":{\"__ndarray__\":\"kJC5vPQHsD9rz/sAgjuwP6rzEoMbx7E/LINSMg0CrD/hW4dAhxywP+PpQGX9W64/b98i0HBXsT/6rkgxjxquP99eCEDZcK0/Azbqp+F3rj+/e63rZnOvP3RgnVj+0qs/Pg72HTkfqT8noFUy6KerP+gqfruz6qY/aIEFjqljqD9PpwVaclSpP2yuvSXR3aU/92h2APVbpT9XTYLeR7WrPz3tvFjoxLA/IWlv+/P1rj/EnVciRd6qPx+0uU80Ra8/Uh7+cIzpsD/r78O7G7mxPzLw7aaFHrI/CBPlzmFusz+aHnJSIrWyP0vALQj2nLA/8c8Z69xMsj/DyPFf6p60P65zLa5y67I/xRAaYKJmsT+JvxgkLZG0PyDasHsMmLU/32pO0ExytD9iAqRZ0vWyP6e5o9CMi68/vUxH48K4tT+m/zI+ekiyP8ZIaaZ4E7A/ziZDf42atT9Pm80rW8OyP5Jrw33ENbU/HfG9f9U1tD+ZzyfinVqxPzco1M7c1qw/9vwFv8bqsT94a3dILNGvPyO2XS3L3LM/1RxEf2bkrT86gh7XMI2wPxOx/9nIn7M/QaTFPfucsz8crlBjQB6uP0hn/7oHU7I/XfSlxLq2sj/Ys2l1lSWwP+65aRNeBrM/8m9F9yc2rz8PcEEScYWxPwFuW1IADrM/wWhGXrxPsD9DD0KDnf+wP8+MupviZ7I/Tux2kXrQsz9j9fVN7i6sP2JbxBMqgbI/TeTzzyPvsD/kzNL59K+yP6P2RbZ0eqo/8ttmGYg4qD+UB3xyVNKtP3RrbbQeWLE/5jsLN136pj/KZ18qL1quP98j8LlAfbE/05AyFS8zrz9IU/O275WuP2Vs48ImxLE/Ep9FHVtksT8/VhVasKKuPwjjw+D0XbA/+TV/5nFIsD9DCqziBAeuPxT8VcZcVas/kgddnbsIrD8Nv7kRRKizPxxoAtCp3bQ/ceIC4YxFtj+eN9arlD20P2z+h0Tq3LU/XyHEo9RstD8+VyXE/MS1PzfeX35oe7U/BKgY3Ui2sj/ApTqZZiixPwgMl7YC7rU/RaFyVinRtT/vAy3UaSazP3IUP3/FnbQ/N3PGCXP2sD/oB02FoZWzP+RIG8VD3rA/y+GvadUrsz9S8MERXz23P0XxkBqJu7U/5FPutAX3tD942+H371u1PxcpGr+3QbY/lSuWhTBCtz/ZpzJqcPmzP6tEF1oAfrY/vUcw8JWqsj+jaI09YtKxP6DT3bcGHLU/N8eYg8K9uT+0DO1B4dC1PzTU2hSZ/bc/pA/xvRCFuT8KGcA8JGW3PzGlstJgSrg/1jIOO5rbtj9DwZLkT4G4P4IGiVSkLrY/PHJhhnRHuD/7sXq2WYW7P03NZfs8Nbo/eWLIEESXvT+xvmDUp0+6P0tjhRm8Bbo/nX5CSoCqtz9voLyjEQ+5PxED+T3x47c/lEMn8IHPuD8cQQnaiNe3P1lins9+dLo/H1R4/m/auD+xH8J4J6C5P4wyVF8+ELY/VvPX6YmUtD/uwTmEW5ezPxgRtjWEKbY/GqsFziM4sj8=\",\"dtype\":\"float64\",\"shape\":[145]}},\"selected\":{\"id\":\"12188\",\"type\":\"Selection\"},\"selection_policy\":{\"id\":\"12187\",\"type\":\"UnionRenderers\"}},\"id\":\"12161\",\"type\":\"ColumnDataSource\"},{\"attributes\":{},\"id\":\"12646\",\"type\":\"UnionRenderers\"},{\"attributes\":{\"active_drag\":\"auto\",\"active_inspect\":\"auto\",\"active_multi\":null,\"active_scroll\":\"auto\",\"active_tap\":\"auto\",\"tools\":[{\"id\":\"12135\",\"type\":\"PanTool\"},{\"id\":\"12136\",\"type\":\"WheelZoomTool\"},{\"id\":\"12137\",\"type\":\"BoxZoomTool\"},{\"id\":\"12138\",\"type\":\"SaveTool\"},{\"id\":\"12139\",\"type\":\"ResetTool\"},{\"id\":\"12140\",\"type\":\"HelpTool\"}]},\"id\":\"12141\",\"type\":\"Toolbar\"},{\"attributes\":{\"line_color\":\"orange\",\"line_width\":2,\"x\":{\"field\":\"x\"},\"y\":{\"field\":\"y\"}},\"id\":\"12149\",\"type\":\"Line\"},{\"attributes\":{\"data_source\":{\"id\":\"12148\",\"type\":\"ColumnDataSource\"},\"glyph\":{\"id\":\"12149\",\"type\":\"Line\"},\"hover_glyph\":null,\"muted_glyph\":null,\"nonselection_glyph\":{\"id\":\"12150\",\"type\":\"Line\"},\"selection_glyph\":null,\"view\":{\"id\":\"12152\",\"type\":\"CDSView\"}},\"id\":\"12151\",\"type\":\"GlyphRenderer\"},{\"attributes\":{\"line_color\":\"green\",\"x\":{\"field\":\"x\"},\"y\":{\"field\":\"y\"}},\"id\":\"12162\",\"type\":\"Line\"},{\"attributes\":{\"text\":\"ND, NRMSE, and SMAPE over the test set for MT_326\"},\"id\":\"12115\",\"type\":\"Title\"},{\"attributes\":{},\"id\":\"12135\",\"type\":\"PanTool\"},{\"attributes\":{},\"id\":\"12121\",\"type\":\"LinearScale\"},{\"attributes\":{\"source\":{\"id\":\"12161\",\"type\":\"ColumnDataSource\"}},\"id\":\"12165\",\"type\":\"CDSView\"},{\"attributes\":{\"line_alpha\":0.1,\"line_color\":\"#1f77b4\",\"x\":{\"field\":\"x\"},\"y\":{\"field\":\"y\"}},\"id\":\"12163\",\"type\":\"Line\"},{\"attributes\":{},\"id\":\"12136\",\"type\":\"WheelZoomTool\"},{\"attributes\":{},\"id\":\"12171\",\"type\":\"UnionRenderers\"},{\"attributes\":{},\"id\":\"12647\",\"type\":\"Selection\"},{\"attributes\":{\"overlay\":{\"id\":\"12158\",\"type\":\"BoxAnnotation\"}},\"id\":\"12137\",\"type\":\"BoxZoomTool\"},{\"attributes\":{\"data_source\":{\"id\":\"12161\",\"type\":\"ColumnDataSource\"},\"glyph\":{\"id\":\"12162\",\"type\":\"Line\"},\"hover_glyph\":null,\"muted_glyph\":null,\"nonselection_glyph\":{\"id\":\"12163\",\"type\":\"Line\"},\"selection_glyph\":null,\"view\":{\"id\":\"12165\",\"type\":\"CDSView\"}},\"id\":\"12164\",\"type\":\"GlyphRenderer\"},{\"attributes\":{},\"id\":\"12126\",\"type\":\"BasicTicker\"},{\"attributes\":{},\"id\":\"12138\",\"type\":\"SaveTool\"},{\"attributes\":{},\"id\":\"12139\",\"type\":\"ResetTool\"},{\"attributes\":{\"line_alpha\":0.1,\"line_color\":\"#1f77b4\",\"line_width\":2,\"x\":{\"field\":\"x\"},\"y\":{\"field\":\"y\"}},\"id\":\"12150\",\"type\":\"Line\"},{\"attributes\":{\"label\":{\"value\":\"NRMSE\"},\"renderers\":[{\"id\":\"12164\",\"type\":\"GlyphRenderer\"}]},\"id\":\"12174\",\"type\":\"LegendItem\"},{\"attributes\":{\"callback\":null,\"data\":{\"x\":[0,1,2,3,4,5,6,7,8,9,10,11,12,13,14,15,16,17,18,19,20,21,22,23,24,25,26,27,28,29,30,31,32,33,34,35,36,37,38,39,40,41,42,43,44,45,46,47,48,49,50,51,52,53,54,55,56,57,58,59,60,61,62,63,64,65,66,67,68,69,70,71,72,73,74,75,76,77,78,79,80,81,82,83,84,85,86,87,88,89,90,91,92,93,94,95,96,97,98,99,100,101,102,103,104,105,106,107,108,109,110,111,112,113,114,115,116,117,118,119,120,121,122,123,124,125,126,127,128,129,130,131,132,133,134,135,136,137,138,139,140,141,142,143,144],\"y\":{\"__ndarray__\":\"bMdhEVpmpz8bF+xvBgKrP+cgEJrlI64/7E99NjCGpD/IZpP7UEGnP3e2s2laYqY/A/3Aix6JrD+DjuGtFQSoP7xhdk/m/qc/R0y7AVGqpj9Po5zI5Z2qPwLUyZeCFaQ/tG97Ned0oj/k51dt6TqjP0OZ/GBh/qM/23VZwumapD8rVMv3HmSkPw0ujHUTr6M/YJEE4ijznz8Q15udJm6oP9jpQJJAS6s/+TB1KqajqD8IAR1J1rKmP9iGeJKAzaY/w5AZOfOrqj9hTl5OYcmrP/ORV2TPy68/bEeAAac3sT89Cts8CcSwPy3vrvBIV68/A1nf1wXlsj8ZkXMD2ta0P3l9kSoHPrQ/dSMQSwW1sD+VtVd7pKy1P5teF7QxKLc/goPghe0StT87mcBF7RO0PwPc/8K2HK0/wx962amitT87ow4rVpCwP22Ww16XEq4/3T74MU2htT8jHQHzWMeyPzyrQBP6gLY/O8isdN+PtD/7N9Ad3AquPxuyup9/HKg/NZCTaJE7rT94PxffcFmtPzx0ZC3R1bI/COdiLcXrpz9nycEH9g2wP7VdChxfhrI/NXzkNCjcsz8VloSn06quP945QOOgTrE/yilCL63tsT93z0ZgxmepP6A3pxEloLE/QVDkWR1GqT8lJRw2DPuvP8tQ5CVT0rI/8wbPsHJNqz+DYogvGK+wP0EaeT+udLE/zfrIkqVisj8V3p/AMNKoP6kzbbDPjbE/L4phUqhBsD9cEsVRTM+wPwvIcEqX4KU/ogZd3RZGpT9VLOFyCHOsP7Cos7RWB68/KWFnL/NTpD+9mv+iqxOuP7wqvVFL8rA/Wa9c3WAYsD+fxyzT5oqsP57JwCRZKbI/6/eMRigfsj/LpDbGUjivP7kUjFNBdbA/5ATtSFtqsD+JO3Ym24ysP1SwR7e8F6w/eMS4LzviqT8KA20szZqxPy1+UQKYT7U/YMtPYx8gsz/IJ20fpmayP2TJQkhtRLQ/VC71rHbnsT9nde9fLL20P1fdpXuEp7U/tQ8eytB6rj/kCBWumYutP77ltuV/W7E/8Bykspu9sD9KkAFLMQWwP7ccvnE/OLE/8Ita8YXxqj+1Wn5x/c2uP6ktx1fntq4/tJ+ygYnRrT9XkgNyLnezP7jsx5478bI/AG+yaOJdsT9EwwbgPZ+wP184yC56R7I/KZ74H7vlsj//EMo9tCCxP3EuFmOa8bI/kZhUlRkPrz+ieWkpwqGwP9keowHSxq8/B47gmp6psz/HC1rJjv+wP2OZ8KkVJ7I/V9fbq+Ezsz+CuG3cX2ixP6RCsVLMeLE/KDlM7irNsT9WpupA1bWyP9sbvBvJtq8/ETNuuL7tsj9+QYx8x2G0P8Raadl9fbM/zRzQyJdmtz+hVaJqviK0Pw7jWctilrM/Mi7SK7dKsD/rWm27MCmyP8guNlT3UrI/n1WVFdqQsj9072KU2R6xP9t8jJXgCbY/U008jc33sT8FlXTozwy0P8ovN5vO3rI/L9V5h+CEsD/tetmCWdawP5gWEG8nsbI/U7QvFubsrT8=\",\"dtype\":\"float64\",\"shape\":[145]}},\"selected\":{\"id\":\"12647\",\"type\":\"Selection\"},\"selection_policy\":{\"id\":\"12646\",\"type\":\"UnionRenderers\"}},\"id\":\"12175\",\"type\":\"ColumnDataSource\"},{\"attributes\":{\"line_alpha\":0.1,\"line_color\":\"#1f77b4\",\"x\":{\"field\":\"x\"},\"y\":{\"field\":\"y\"}},\"id\":\"12177\",\"type\":\"Line\"}],\"root_ids\":[\"12114\"]},\"title\":\"Bokeh Application\",\"version\":\"1.4.0\"}};\n",
       "  var render_items = [{\"docid\":\"f54989f1-d837-4b5c-8b8d-a6995de2bf5c\",\"roots\":{\"12114\":\"9e695e54-371d-49ff-9fa4-d72a73f8c123\"}}];\n",
       "  root.Bokeh.embed.embed_items_notebook(docs_json, render_items);\n",
       "\n",
       "  }\n",
       "  if (root.Bokeh !== undefined) {\n",
       "    embed_document(root);\n",
       "  } else {\n",
       "    var attempts = 0;\n",
       "    var timer = setInterval(function(root) {\n",
       "      if (root.Bokeh !== undefined) {\n",
       "        clearInterval(timer);\n",
       "        embed_document(root);\n",
       "      } else {\n",
       "        attempts++;\n",
       "        if (attempts > 100) {\n",
       "          clearInterval(timer);\n",
       "          console.log(\"Bokeh: ERROR: Unable to run BokehJS code because BokehJS library is missing\");\n",
       "        }\n",
       "      }\n",
       "    }, 10, root)\n",
       "  }\n",
       "})(window);"
      ],
      "application/vnd.bokehjs_exec.v0+json": ""
     },
     "metadata": {
      "application/vnd.bokehjs_exec.v0+json": {
       "id": "12114"
      }
     },
     "output_type": "display_data"
    },
    {
     "data": {
      "text/html": [
       "\n",
       "\n",
       "\n",
       "\n",
       "\n",
       "\n",
       "  <div class=\"bk-root\" id=\"6677b176-e306-4949-b886-f7613bb0cc0f\" data-root-id=\"12721\"></div>\n"
      ]
     },
     "metadata": {},
     "output_type": "display_data"
    },
    {
     "data": {
      "application/javascript": [
       "(function(root) {\n",
       "  function embed_document(root) {\n",
       "    \n",
       "  var docs_json = {\"2cfb8307-fb98-4241-81a8-fbb7ad4756ca\":{\"roots\":{\"references\":[{\"attributes\":{\"below\":[{\"id\":\"12732\",\"type\":\"LinearAxis\"}],\"center\":[{\"id\":\"12736\",\"type\":\"Grid\"},{\"id\":\"12741\",\"type\":\"Grid\"},{\"id\":\"12766\",\"type\":\"Legend\"}],\"left\":[{\"id\":\"12737\",\"type\":\"LinearAxis\"}],\"plot_height\":320,\"plot_width\":960,\"renderers\":[{\"id\":\"12758\",\"type\":\"GlyphRenderer\"},{\"id\":\"12771\",\"type\":\"GlyphRenderer\"},{\"id\":\"12785\",\"type\":\"GlyphRenderer\"}],\"title\":{\"id\":\"12722\",\"type\":\"Title\"},\"toolbar\":{\"id\":\"12748\",\"type\":\"Toolbar\"},\"x_range\":{\"id\":\"12724\",\"type\":\"DataRange1d\"},\"x_scale\":{\"id\":\"12728\",\"type\":\"LinearScale\"},\"y_range\":{\"id\":\"12726\",\"type\":\"DataRange1d\"},\"y_scale\":{\"id\":\"12730\",\"type\":\"LinearScale\"}},\"id\":\"12721\",\"subtype\":\"Figure\",\"type\":\"Plot\"},{\"attributes\":{\"label\":{\"value\":\"NRMSE\"},\"renderers\":[{\"id\":\"12771\",\"type\":\"GlyphRenderer\"}]},\"id\":\"12781\",\"type\":\"LegendItem\"},{\"attributes\":{\"callback\":null},\"id\":\"12724\",\"type\":\"DataRange1d\"},{\"attributes\":{},\"id\":\"12779\",\"type\":\"Selection\"},{\"attributes\":{},\"id\":\"12747\",\"type\":\"HelpTool\"},{\"attributes\":{},\"id\":\"12742\",\"type\":\"PanTool\"},{\"attributes\":{\"active_drag\":\"auto\",\"active_inspect\":\"auto\",\"active_multi\":null,\"active_scroll\":\"auto\",\"active_tap\":\"auto\",\"tools\":[{\"id\":\"12742\",\"type\":\"PanTool\"},{\"id\":\"12743\",\"type\":\"WheelZoomTool\"},{\"id\":\"12744\",\"type\":\"BoxZoomTool\"},{\"id\":\"12745\",\"type\":\"SaveTool\"},{\"id\":\"12746\",\"type\":\"ResetTool\"},{\"id\":\"12747\",\"type\":\"HelpTool\"}]},\"id\":\"12748\",\"type\":\"Toolbar\"},{\"attributes\":{\"callback\":null,\"data\":{\"x\":[0,1,2,3,4,5,6,7,8,9,10,11,12,13,14,15,16,17,18,19,20,21,22,23,24,25,26,27,28,29,30,31,32,33,34,35,36,37,38,39,40,41,42,43,44,45,46,47,48,49,50,51,52,53,54,55,56,57,58,59,60,61,62,63,64,65,66,67,68,69,70,71,72,73,74,75,76,77,78,79,80,81,82,83,84,85,86,87,88,89,90,91,92,93,94,95,96,97,98,99,100,101,102,103,104,105,106,107,108,109,110,111,112,113,114,115,116,117,118,119,120,121,122,123,124,125,126,127,128,129,130,131,132,133,134,135,136,137,138,139,140,141,142,143,144],\"y\":{\"__ndarray__\":\"rRcr6y4HsT9hbF1Ku4qyP08GMF6+l6s/J5OtyruWsD/YNG2kc5GtPwz4fvQi568/6m9BD6gpsT/9mtpZxACuPwS4ZN4Hja4/3Ks5TQJErz8Ls/MQE8yrP19P2rAkhKw/lyAvwPd4rT/0uhTytgOtP8HdFnyTKLA/DBQfxlhArD9sfa+yO3quP8Lq+xylRbA/kUiB322JsT/uapepBEKuPzmnFPXpWa4/NrGvHfL4sT+mX0YzUBGuP7Fygzf7VLE/a+F23kW8qz+YdomygwesP8NAPnJyurA/k+85jEqysj/YklxtwDmvPyMkw/VZErM/hcmiY8GOsT9E2ARhqPOtPxgL8jOXHbA/iDwXjDmUsD+lXTqZNf+uP2mpq/1/jKk/nj4FhYzNsD8fPFyMa3+xP1lIX3GxdK0/wuFNBPzFrz/LqzTNcSGvP4GWoEudVbA/dXZ11m0vrz/uvdzco+quPx3O/I1DIKo/nSxre4JEsD8eb8/SAHuvP6MRolrzErA/D5oeALUesT8Qtr3dlB6vP17GfwddEas/Ca1iYCoMrT/u5PCnZLuuP6Kgl5YlZrE/Z+QaBoXhsD/8otuF+uauPx3lj2PRT7E/vnywbUpbsD+6BXLDbXixP+eYa5Ez57M/A0GNv4ilsz8TlqhjgFSyP5kKGLotJ7U/w8YmAZcGtD/xIgsOsTWzPyLdB3uI5LM/gttQacTRtT/SqPTdHBK2P70dCX+QY7k/hgbDASLouz+E8kgdRze5P1/geVKe97k/T7WcTprBuD8dDFcxTpa2P0PcBwG/37k/H+Ry+ocKuD8W/bTQoqa4Px5ZwE6jWLg/tjTJtezVuz8Exr5qjLy6P87WacSnn7k/9K9/8Tbetz/yNv8Uage4P8LijJ/tibg/wwkViVWCtj/x1li53oC1PzWyVlgp1rc/++AzzQNGtz/YQ59YopW5P2xNu5TFH7k/Y5eRfGVmuj9necBYNbe8P3JbQUL3S7s/m2rG4387vT/JPoXee6bAP7r7j5b4NsE/OvLvunZswD+nqPFPPQDAP0Y3YmZdocA/O+TPMJHhwD/yru+nLLbAPx8ocm9PIME/VYKbezHnwD8CxUiWJOnAP6kOIzjnLsE/9L/NxNHkwD/GCjIh1FC+P5NcXLIm6sA/bOlJ7tsgwT+p061DGBm9PzRbdetYN70/9sKNS+RBuz+L+J41Y6C1PwWdQJYHBrU/BNd0mNmAtj8+sNHbJA+yP/MPu/POxLI/jWPUz6Avsz8StJio1iytP2O0PtjOgqw/nzQxknzMqT9avh7dtv2xP0JzWL4Bz7A/B2Calje1sD/MCvs4vAGxP1F6oseVLLE/PMFzWxlKsj+1RjMEBmCsPzXgeFt1ILI/Qm3Jzc9prD8HXzuyE+isP27cHCBjOK0/RZKPungksD8YPrSKRjitP6W8Lzl256k/bvZFgpXJqT/+OPrPllKtP/zExRHoKrE/yT+Z1wjSrj8gZhsMWu6wP0khSWCRc7A/gYEx/Mbjqj/BpnsOT+SvP9TNiHsqb6k/Ik/xQtzorT8=\",\"dtype\":\"float64\",\"shape\":[145]}},\"selected\":{\"id\":\"12779\",\"type\":\"Selection\"},\"selection_policy\":{\"id\":\"12778\",\"type\":\"UnionRenderers\"}},\"id\":\"12755\",\"type\":\"ColumnDataSource\"},{\"attributes\":{\"axis_label\":\"Error\",\"formatter\":{\"id\":\"12761\",\"type\":\"BasicTickFormatter\"},\"ticker\":{\"id\":\"12738\",\"type\":\"BasicTicker\"}},\"id\":\"12737\",\"type\":\"LinearAxis\"},{\"attributes\":{\"line_color\":\"purple\",\"x\":{\"field\":\"x\"},\"y\":{\"field\":\"y\"}},\"id\":\"12783\",\"type\":\"Line\"},{\"attributes\":{},\"id\":\"12761\",\"type\":\"BasicTickFormatter\"},{\"attributes\":{\"line_alpha\":0.1,\"line_color\":\"#1f77b4\",\"line_width\":2,\"x\":{\"field\":\"x\"},\"y\":{\"field\":\"y\"}},\"id\":\"12757\",\"type\":\"Line\"},{\"attributes\":{\"source\":{\"id\":\"12782\",\"type\":\"ColumnDataSource\"}},\"id\":\"12786\",\"type\":\"CDSView\"},{\"attributes\":{\"line_alpha\":0.1,\"line_color\":\"#1f77b4\",\"x\":{\"field\":\"x\"},\"y\":{\"field\":\"y\"}},\"id\":\"12784\",\"type\":\"Line\"},{\"attributes\":{\"items\":[{\"id\":\"12767\",\"type\":\"LegendItem\"},{\"id\":\"12781\",\"type\":\"LegendItem\"},{\"id\":\"12797\",\"type\":\"LegendItem\"}]},\"id\":\"12766\",\"type\":\"Legend\"},{\"attributes\":{\"line_color\":\"orange\",\"line_width\":2,\"x\":{\"field\":\"x\"},\"y\":{\"field\":\"y\"}},\"id\":\"12756\",\"type\":\"Line\"},{\"attributes\":{},\"id\":\"13265\",\"type\":\"UnionRenderers\"},{\"attributes\":{\"data_source\":{\"id\":\"12782\",\"type\":\"ColumnDataSource\"},\"glyph\":{\"id\":\"12783\",\"type\":\"Line\"},\"hover_glyph\":null,\"muted_glyph\":null,\"nonselection_glyph\":{\"id\":\"12784\",\"type\":\"Line\"},\"selection_glyph\":null,\"view\":{\"id\":\"12786\",\"type\":\"CDSView\"}},\"id\":\"12785\",\"type\":\"GlyphRenderer\"},{\"attributes\":{},\"id\":\"12738\",\"type\":\"BasicTicker\"},{\"attributes\":{\"source\":{\"id\":\"12755\",\"type\":\"ColumnDataSource\"}},\"id\":\"12759\",\"type\":\"CDSView\"},{\"attributes\":{\"bottom_units\":\"screen\",\"fill_alpha\":{\"value\":0.5},\"fill_color\":{\"value\":\"lightgrey\"},\"left_units\":\"screen\",\"level\":\"overlay\",\"line_alpha\":{\"value\":1.0},\"line_color\":{\"value\":\"black\"},\"line_dash\":[4,4],\"line_width\":{\"value\":2},\"render_mode\":\"css\",\"right_units\":\"screen\",\"top_units\":\"screen\"},\"id\":\"12765\",\"type\":\"BoxAnnotation\"},{\"attributes\":{\"axis_label\":\"Test Dataset Row Index\",\"formatter\":{\"id\":\"12763\",\"type\":\"BasicTickFormatter\"},\"ticker\":{\"id\":\"12733\",\"type\":\"BasicTicker\"}},\"id\":\"12732\",\"type\":\"LinearAxis\"},{\"attributes\":{},\"id\":\"12763\",\"type\":\"BasicTickFormatter\"},{\"attributes\":{},\"id\":\"12794\",\"type\":\"UnionRenderers\"},{\"attributes\":{},\"id\":\"12733\",\"type\":\"BasicTicker\"},{\"attributes\":{\"dimension\":1,\"ticker\":{\"id\":\"12738\",\"type\":\"BasicTicker\"}},\"id\":\"12741\",\"type\":\"Grid\"},{\"attributes\":{\"label\":{\"value\":\"ND\"},\"renderers\":[{\"id\":\"12758\",\"type\":\"GlyphRenderer\"}]},\"id\":\"12767\",\"type\":\"LegendItem\"},{\"attributes\":{\"label\":{\"value\":\"SMAPE\"},\"renderers\":[{\"id\":\"12785\",\"type\":\"GlyphRenderer\"}]},\"id\":\"12797\",\"type\":\"LegendItem\"},{\"attributes\":{\"ticker\":{\"id\":\"12733\",\"type\":\"BasicTicker\"}},\"id\":\"12736\",\"type\":\"Grid\"},{\"attributes\":{\"callback\":null,\"data\":{\"x\":[0,1,2,3,4,5,6,7,8,9,10,11,12,13,14,15,16,17,18,19,20,21,22,23,24,25,26,27,28,29,30,31,32,33,34,35,36,37,38,39,40,41,42,43,44,45,46,47,48,49,50,51,52,53,54,55,56,57,58,59,60,61,62,63,64,65,66,67,68,69,70,71,72,73,74,75,76,77,78,79,80,81,82,83,84,85,86,87,88,89,90,91,92,93,94,95,96,97,98,99,100,101,102,103,104,105,106,107,108,109,110,111,112,113,114,115,116,117,118,119,120,121,122,123,124,125,126,127,128,129,130,131,132,133,134,135,136,137,138,139,140,141,142,143,144],\"y\":{\"__ndarray__\":\"aOMuZA71tD9mCzyZNlG4P16AUDJRHLM/fZ/rfm9stj/6NlCVuLSyP7zk3p6ZaLQ/U+OUEyb7tD8IViVbsWqyP3DIm0B3trI/EEyJbQAltD+IfZLnSPSxP9JDoaqYw7I/gnDccagCsz9xrrgRWieyP5MWpxd7NrU/r7DJjguYsT/6SFWA5wuzP8duwRCDM7Y/MyEaWtwwtz9YZXdlew2zP0KeZfjKBLM/XUqNpPOEtj+C6/jiGbSyP90q2NCfu7g/nijAc+0vsj9LjqUeDcmxP4HsLqjMBLY/SKmSdV1stz/tFgZzVGOzP+uh88q36rY/GWu1bbEvtj9WnaU2XWOyP2Mdq+3gCrM/UPjHXjazsz9S/gOQuY2yPzmUkFy0/60/ejTrHWhOtT8uHC2zFue0P1b1oRDogrA/2sultloFtj845o5qdiu0Py6AFsqHa7Q/KHVjDa3ZtT8b4O465HmzP6jMoXUxJLM//ET7jc/7tD8ZSZKViQi1P3vNqsMQXLY/2SrwrlkKtz+hLur7MxW1P0QvGcpVwrM/xA+xGhuotD8zJFiGnqe0P/dGXyor4bY/gXEQGNLttT/lwYKZFnu0P5DQo+m/i7Y/wp6X74mdsz+EECh6Egy3P+HKv/BLKLk/m/ReD1VauD+WFSeEIVW3P27L5+WAsb4/pTaZyJM8vD9QIlKM/PC6Pyi85b7lS7k/r31u/QT5uz8eWRFOoyS8PwE+8xhsQsA/QWeOTw2IwT/vnY0CwSy/P3niYG4wxr8/9BQMOejavj9chx3+wZu8P04lUXEfIcA/jYOn1RiUvz/ZIjHmQqK/P5Ri2c2NG8A/zjPmdc7EwD89MG7Vi1XBP2W+e6UYEcA/bTQD4HRewD+k3oC0cZO+P1JDkO1C378/N1iAh2V6vj/W2pPXH9m8PydyXKahG8A/oe99sQDjvj+A6Lt1VrXAP7Yy34Zd6MA/415q9xSQwT/+SE5dLuXEP6pEaKF1qsM/Ot7U02omwz8Rf56kcPzFP903//3c78U/bSFMuJgVxT9kzln8FS/FPyNc52bMS8U/3ZnxqSfTxT+2DdVVGXbFP0RmYJD7BMY/lal46FxGxT80vJy/AlXFP0oTkpr8gMU/lUs1NK50xT/gTzXkqbnDPwly3Do+RsU/a9+B8uIgxT8UjPWQpivCP9MIWJKy3cA/oMgBKTuAwD83BNwt9e+8P7Xb/CIxFrw/iChwsfV+uz8vm44WMsy3PwuxXNg8Irc/KjrWtzjvtj/8RFKVLZyxP2HE4QIqFrM/vDWnNc9LsT8daytTrca1P832FtWIBrU/y/2M5Q7otD8z8pezqZ+0P8ZwAdcl9rU/zsFvuB1Ytj9dooWjL/KxP7+WbL/kFLc/Eg9ZoOhhsz9QCGsRFCayP1J7C02MSrQ/3Z7VuCg+sz+iUF813xezP4WFNYIyKLI/4WZFHt2Msj9STtXRKZayP3M25M7U57Q/Ep3H8SVxsz8ulKiXiba0P+VVNb0h77Q/Xm7h7/4gsj/rxYKWxKSzP78IVNNti7A/d4EONT2Gsz8=\",\"dtype\":\"float64\",\"shape\":[145]}},\"selected\":{\"id\":\"12795\",\"type\":\"Selection\"},\"selection_policy\":{\"id\":\"12794\",\"type\":\"UnionRenderers\"}},\"id\":\"12768\",\"type\":\"ColumnDataSource\"},{\"attributes\":{},\"id\":\"12795\",\"type\":\"Selection\"},{\"attributes\":{},\"id\":\"12746\",\"type\":\"ResetTool\"},{\"attributes\":{},\"id\":\"12730\",\"type\":\"LinearScale\"},{\"attributes\":{\"line_color\":\"green\",\"x\":{\"field\":\"x\"},\"y\":{\"field\":\"y\"}},\"id\":\"12769\",\"type\":\"Line\"},{\"attributes\":{},\"id\":\"12728\",\"type\":\"LinearScale\"},{\"attributes\":{},\"id\":\"13266\",\"type\":\"Selection\"},{\"attributes\":{\"source\":{\"id\":\"12768\",\"type\":\"ColumnDataSource\"}},\"id\":\"12772\",\"type\":\"CDSView\"},{\"attributes\":{\"data_source\":{\"id\":\"12755\",\"type\":\"ColumnDataSource\"},\"glyph\":{\"id\":\"12756\",\"type\":\"Line\"},\"hover_glyph\":null,\"muted_glyph\":null,\"nonselection_glyph\":{\"id\":\"12757\",\"type\":\"Line\"},\"selection_glyph\":null,\"view\":{\"id\":\"12759\",\"type\":\"CDSView\"}},\"id\":\"12758\",\"type\":\"GlyphRenderer\"},{\"attributes\":{\"callback\":null},\"id\":\"12726\",\"type\":\"DataRange1d\"},{\"attributes\":{\"line_alpha\":0.1,\"line_color\":\"#1f77b4\",\"x\":{\"field\":\"x\"},\"y\":{\"field\":\"y\"}},\"id\":\"12770\",\"type\":\"Line\"},{\"attributes\":{},\"id\":\"12745\",\"type\":\"SaveTool\"},{\"attributes\":{\"callback\":null,\"data\":{\"x\":[0,1,2,3,4,5,6,7,8,9,10,11,12,13,14,15,16,17,18,19,20,21,22,23,24,25,26,27,28,29,30,31,32,33,34,35,36,37,38,39,40,41,42,43,44,45,46,47,48,49,50,51,52,53,54,55,56,57,58,59,60,61,62,63,64,65,66,67,68,69,70,71,72,73,74,75,76,77,78,79,80,81,82,83,84,85,86,87,88,89,90,91,92,93,94,95,96,97,98,99,100,101,102,103,104,105,106,107,108,109,110,111,112,113,114,115,116,117,118,119,120,121,122,123,124,125,126,127,128,129,130,131,132,133,134,135,136,137,138,139,140,141,142,143,144],\"y\":{\"__ndarray__\":\"IJBmSRSAsD9noBX7GAKxP4VS0EU8J6o/pWQqgKbbrj8JPqUuJ3OsPxMy3yBgea4/fxgVZ0DXsT9gHpmwKKqtP6hrxyHMvK4/j68aH20Trj9Q17jBzdqpP/smwSRQO6w/s1biRe1NrD/1foP5/K2sPxteapmJPa8/D2+mLAD/rD/jixgOT/uuP1f85v6zO7A/VQatYVq5sD9LOXZyBgGuP22HRZpxkK0/34MrSJrRsT9cs0Mz+F2tPw8f0wK2S7A/37OtkU7Tqj9tZt5l5+eqP+CipG30HrA/ZXBKwdGCsj9TRjVUOdivP5nXcQeM1rM/zKw3lpMKsz9NH07ImdWvP8AsaBcmGLI/c3xzvTVhsD97PqavTmewP/zBczLlVKs/lOWsrtU2sj/lTUxnur+yP7ifgjh7P68/HnwrbahwsT+FneNdXNOwPwuHrFZ5F7E/IU1lwYoesD9MCW0Ez+ywP7Oh9Uor3qs/zL5BuVi2sD/TWJxo1YuwP3RqqyCgO7E/nc7eKINDsT8QvGdU3JqwP1WGlv/fuqo/zWy57P/5rT/TmZAy+1CuPytL9kTPAbI/Mcp6KOyWsD/cmcjl7muwP4e8RainvrE/GP4pJRZVsT81rkt3r0qyP0M51+EwHrU/B70+lIbnsz9Maot0jZ6yP8+O8JZUY7Q/shGV0rQesz+t/6c/+DmzPwGZV5cr9LM/LSqoQujrtD9hwk7GhS62P2VRQZ6iMbg/JHjQ0vIcuz8FNamvBOC4P6hYNJjFtbk/XIyseOLBuD9sn9kP7i21P8/IkgpBfrg/BD9OFqlEtj+FT8reorm2Pxf6/2SNQrY/xVtyfuuavD/FKpNTXc24P4DFfoe2HLg/65piiwl2tT81t0Hsp5W2PzQCz7SoWrc/wS0FL07PtD+0a0nBk4u0Pz2/yhoWa7Y/X9Jwc+BYtT8966UoPiG4PwNg1u38a7c/o31HSNgfuT9h+jzoK9e5P+MQ6wFBArg/fVexi+ZKuz/cSnvIQoe+P9woWZ41OMA/cQ940nKVvj9ZM+EmiQi9P1nrMXuYj74/QZ8uBPexvz8lWU7a/ze/PzWPKQSCAcA/M9fnicGJwD9v5aDd6RfAPwOmyOewhMA/5bgOVvYPwD8wocgI5Ou7Pw0pM27zEsA/E0pYnuQpwD8LDpVMxUG7P7QhAlRrVL0/pfQohycduz/vF6hJ2dyzPxOjApAtvrM/K8MXXXwqtj8EXH+/SUmxP2g/VGZD4LI/DouSrvNztD/1QbFD1H6uP2fyoRZWuqs/rHxArxebqT8BLze3Hz6zPwyu4FTnGrE/s2+/t7UssT9Zln1gK12xP1ujeqSS/bE/p5+ERBg7sj+E6o6J/j2uPx79d8yMKrI/TUqG9bwesD/RX0H/UJCvP1P4AhpE6q0/2Jqo2Hazsj8nm4kJsTiwP9U8LJ/QIqs/LU/kyS5VrD+vsaogGgiuP3/YmnnykLI/dVHHFHY0rz/pAO1DGCa0P3MEAg8NNLE/iAghmdj6qz+PO0/3PpCwP1soyKYUjao/ZXmGOkvnrD8=\",\"dtype\":\"float64\",\"shape\":[145]}},\"selected\":{\"id\":\"13266\",\"type\":\"Selection\"},\"selection_policy\":{\"id\":\"13265\",\"type\":\"UnionRenderers\"}},\"id\":\"12782\",\"type\":\"ColumnDataSource\"},{\"attributes\":{\"data_source\":{\"id\":\"12768\",\"type\":\"ColumnDataSource\"},\"glyph\":{\"id\":\"12769\",\"type\":\"Line\"},\"hover_glyph\":null,\"muted_glyph\":null,\"nonselection_glyph\":{\"id\":\"12770\",\"type\":\"Line\"},\"selection_glyph\":null,\"view\":{\"id\":\"12772\",\"type\":\"CDSView\"}},\"id\":\"12771\",\"type\":\"GlyphRenderer\"},{\"attributes\":{\"overlay\":{\"id\":\"12765\",\"type\":\"BoxAnnotation\"}},\"id\":\"12744\",\"type\":\"BoxZoomTool\"},{\"attributes\":{\"text\":\"ND, NRMSE, and SMAPE over the test set for MT_327\"},\"id\":\"12722\",\"type\":\"Title\"},{\"attributes\":{},\"id\":\"12743\",\"type\":\"WheelZoomTool\"},{\"attributes\":{},\"id\":\"12778\",\"type\":\"UnionRenderers\"}],\"root_ids\":[\"12721\"]},\"title\":\"Bokeh Application\",\"version\":\"1.4.0\"}};\n",
       "  var render_items = [{\"docid\":\"2cfb8307-fb98-4241-81a8-fbb7ad4756ca\",\"roots\":{\"12721\":\"6677b176-e306-4949-b886-f7613bb0cc0f\"}}];\n",
       "  root.Bokeh.embed.embed_items_notebook(docs_json, render_items);\n",
       "\n",
       "  }\n",
       "  if (root.Bokeh !== undefined) {\n",
       "    embed_document(root);\n",
       "  } else {\n",
       "    var attempts = 0;\n",
       "    var timer = setInterval(function(root) {\n",
       "      if (root.Bokeh !== undefined) {\n",
       "        clearInterval(timer);\n",
       "        embed_document(root);\n",
       "      } else {\n",
       "        attempts++;\n",
       "        if (attempts > 100) {\n",
       "          clearInterval(timer);\n",
       "          console.log(\"Bokeh: ERROR: Unable to run BokehJS code because BokehJS library is missing\");\n",
       "        }\n",
       "      }\n",
       "    }, 10, root)\n",
       "  }\n",
       "})(window);"
      ],
      "application/vnd.bokehjs_exec.v0+json": ""
     },
     "metadata": {
      "application/vnd.bokehjs_exec.v0+json": {
       "id": "12721"
      }
     },
     "output_type": "display_data"
    },
    {
     "data": {
      "text/html": [
       "\n",
       "\n",
       "\n",
       "\n",
       "\n",
       "\n",
       "  <div class=\"bk-root\" id=\"aee0b327-6e55-4fe3-8717-0c6a785dabdf\" data-root-id=\"13340\"></div>\n"
      ]
     },
     "metadata": {},
     "output_type": "display_data"
    },
    {
     "data": {
      "application/javascript": [
       "(function(root) {\n",
       "  function embed_document(root) {\n",
       "    \n",
       "  var docs_json = {\"065ec04b-82ab-4d99-92ad-bf0287eac32f\":{\"roots\":{\"references\":[{\"attributes\":{\"below\":[{\"id\":\"13351\",\"type\":\"LinearAxis\"}],\"center\":[{\"id\":\"13355\",\"type\":\"Grid\"},{\"id\":\"13360\",\"type\":\"Grid\"},{\"id\":\"13385\",\"type\":\"Legend\"}],\"left\":[{\"id\":\"13356\",\"type\":\"LinearAxis\"}],\"plot_height\":320,\"plot_width\":960,\"renderers\":[{\"id\":\"13377\",\"type\":\"GlyphRenderer\"},{\"id\":\"13390\",\"type\":\"GlyphRenderer\"},{\"id\":\"13404\",\"type\":\"GlyphRenderer\"}],\"title\":{\"id\":\"13341\",\"type\":\"Title\"},\"toolbar\":{\"id\":\"13367\",\"type\":\"Toolbar\"},\"x_range\":{\"id\":\"13343\",\"type\":\"DataRange1d\"},\"x_scale\":{\"id\":\"13347\",\"type\":\"LinearScale\"},\"y_range\":{\"id\":\"13345\",\"type\":\"DataRange1d\"},\"y_scale\":{\"id\":\"13349\",\"type\":\"LinearScale\"}},\"id\":\"13340\",\"subtype\":\"Figure\",\"type\":\"Plot\"},{\"attributes\":{\"ticker\":{\"id\":\"13352\",\"type\":\"BasicTicker\"}},\"id\":\"13355\",\"type\":\"Grid\"},{\"attributes\":{},\"id\":\"13896\",\"type\":\"UnionRenderers\"},{\"attributes\":{\"line_color\":\"green\",\"x\":{\"field\":\"x\"},\"y\":{\"field\":\"y\"}},\"id\":\"13388\",\"type\":\"Line\"},{\"attributes\":{\"callback\":null,\"data\":{\"x\":[0,1,2,3,4,5,6,7,8,9,10,11,12,13,14,15,16,17,18,19,20,21,22,23,24,25,26,27,28,29,30,31,32,33,34,35,36,37,38,39,40,41,42,43,44,45,46,47,48,49,50,51,52,53,54,55,56,57,58,59,60,61,62,63,64,65,66,67,68,69,70,71,72,73,74,75,76,77,78,79,80,81,82,83,84,85,86,87,88,89,90,91,92,93,94,95,96,97,98,99,100,101,102,103,104,105,106,107,108,109,110,111,112,113,114,115,116,117,118,119,120,121,122,123,124,125,126,127,128,129,130,131,132,133,134,135,136,137,138,139,140,141,142,143,144],\"y\":{\"__ndarray__\":\"kNgxblTouT+HMnqcClO4P1SxhaLU/bY/bx6FOpCHtz/h81aEeFi3PwnZwjs5Y7s/2S7bYa9gvT/jdaJR6ky6P0PdHDEIg7o/ZRkWvRZ4uz/pT1VNQpG7PwiePb/Y5rc/4M1LG/phuj85HXU6uMm7P8CrRF/WP7k/afw73vGPuj93yvk9mSW5P+ioXkXlgLg/QT61CtDquz97wcGqZXTBP0vsbZrlCL0/5nQEWUDKwj/DjaDbaqnBP8CjOWsBab4/vOaPxo55wD9kVBnHlLu/PyGfVMUUscA/25quwCdQwD8VoaVa9BXAP72vssIIjr4/ga2YpgZWxT9svQFwwPHAP+/5/aaGP8E/POgCmtUrwz+7BRXkBNvCPzaB+P/KW8E/gl2u6dyxwj+7xGwcZ4nCP9C255d2k74/FR9UWUVqwj9Ze7phI4S6P/1Z/Dvw8Lc/06bSoATXuT/tqkht1XW7P1Obc0x/q7k/+AHxTWxxuT/nxeP0x9y7P90KEE9s87g/qPe1L6L/uT/57nFiKhu1P7ujzjElVbQ/X7+DOsfAsD+Td7Oy/nOzP5Db6me1j7Y/8d8xaf6CtD+YYgMRZ++wP2gF9ilD87Y/RsMNXExHtD+47EH+Fje0P09+a+hTAbM/bbSTXCGqsz/nyATX3JuwP6mENiEwkLQ/ORgS9trhrT9tdNQ/7kaxPzkPZWgQFbM/QmMWOm7qsj9389GxCyawP5BhJKoeWa0/MBNm29xEsD81BkxvCoevP7FajyJQpKs/VSwH8PgSrz8VSHCr3Ua1P2GXxfX9oLQ/pOyI3H2ltT/YA72GG5WvP2neUPmm07A/lzyd2FkrsD/5X3ELQ/GsPwuAs6BQKbI/yOYqF9O1tT8d6rPyWpSyP08zubmLULA/yHEwao0urz8lX1mkz7q5P9H5x0aODLM/FwRRxcq9tT/U0yf31iqxP1Nxc5uY9rY/Y9ueBx/Tsj9vQB7NwLS1P0w8ICrfQ7Y/MfAeXDwbtD8cPHhtklSvP1MvRnvHjrE/RR4ZDs/HuT9lTefuSo61P9v286b/8Lc/gEwP4dvrtz8rHTvG1cW0PwlaHb5bI7Y/VPudTYF9sz9oILMWi0G1PxW+QTEfmLQ/TcZ/V86ttz8rMXfhWiK5Pyt66lGgTrY/+PYqMFBIsD/bwj4ulEmxP1vAdWUFtrM/M+wXNQuzrz9dpiZSlpG2Pxs4JGUY2LI/l6m9m1hytD/gntstVNW7PyVsE0Lvqrc/c2iiGCjRtD9Fe2hiQda1Py8Bm+Aq7bM/7BdkRcRtuT+1xFFmh3eyP6DUj2qj/rU/FTTE3FPDtj+E31OL3sqzP9EOnK0vJrk/BqbH7p7gwD8BUzNP05vDP2+ZYstifsE/7Oo9zOdYvT9oyBOUE9fBPyLmRABlPcI//Y5ycnoKxD/c+9XTyPHDP/Hqg3woMsU/kaZjyu9Rvj+LReghih+5P6WHOsNfqL8/0KdYQfj3wT/8+PzJ1b/EP6kfXmLJYsQ/BQiibsyQxj8ND3YkjsvDPw5KXJ0/RME/7e9Acqf9xD8=\",\"dtype\":\"float64\",\"shape\":[145]}},\"selected\":{\"id\":\"13897\",\"type\":\"Selection\"},\"selection_policy\":{\"id\":\"13896\",\"type\":\"UnionRenderers\"}},\"id\":\"13401\",\"type\":\"ColumnDataSource\"},{\"attributes\":{\"items\":[{\"id\":\"13386\",\"type\":\"LegendItem\"},{\"id\":\"13400\",\"type\":\"LegendItem\"},{\"id\":\"13416\",\"type\":\"LegendItem\"}]},\"id\":\"13385\",\"type\":\"Legend\"},{\"attributes\":{\"source\":{\"id\":\"13387\",\"type\":\"ColumnDataSource\"}},\"id\":\"13391\",\"type\":\"CDSView\"},{\"attributes\":{},\"id\":\"13897\",\"type\":\"Selection\"},{\"attributes\":{},\"id\":\"13352\",\"type\":\"BasicTicker\"},{\"attributes\":{\"data_source\":{\"id\":\"13387\",\"type\":\"ColumnDataSource\"},\"glyph\":{\"id\":\"13388\",\"type\":\"Line\"},\"hover_glyph\":null,\"muted_glyph\":null,\"nonselection_glyph\":{\"id\":\"13389\",\"type\":\"Line\"},\"selection_glyph\":null,\"view\":{\"id\":\"13391\",\"type\":\"CDSView\"}},\"id\":\"13390\",\"type\":\"GlyphRenderer\"},{\"attributes\":{\"dimension\":1,\"ticker\":{\"id\":\"13357\",\"type\":\"BasicTicker\"}},\"id\":\"13360\",\"type\":\"Grid\"},{\"attributes\":{\"line_alpha\":0.1,\"line_color\":\"#1f77b4\",\"x\":{\"field\":\"x\"},\"y\":{\"field\":\"y\"}},\"id\":\"13389\",\"type\":\"Line\"},{\"attributes\":{\"axis_label\":\"Test Dataset Row Index\",\"formatter\":{\"id\":\"13382\",\"type\":\"BasicTickFormatter\"},\"ticker\":{\"id\":\"13352\",\"type\":\"BasicTicker\"}},\"id\":\"13351\",\"type\":\"LinearAxis\"},{\"attributes\":{},\"id\":\"13365\",\"type\":\"ResetTool\"},{\"attributes\":{},\"id\":\"13349\",\"type\":\"LinearScale\"},{\"attributes\":{},\"id\":\"13366\",\"type\":\"HelpTool\"},{\"attributes\":{},\"id\":\"13397\",\"type\":\"UnionRenderers\"},{\"attributes\":{},\"id\":\"13347\",\"type\":\"LinearScale\"},{\"attributes\":{\"line_alpha\":0.1,\"line_color\":\"#1f77b4\",\"line_width\":2,\"x\":{\"field\":\"x\"},\"y\":{\"field\":\"y\"}},\"id\":\"13376\",\"type\":\"Line\"},{\"attributes\":{\"label\":{\"value\":\"NRMSE\"},\"renderers\":[{\"id\":\"13390\",\"type\":\"GlyphRenderer\"}]},\"id\":\"13400\",\"type\":\"LegendItem\"},{\"attributes\":{},\"id\":\"13398\",\"type\":\"Selection\"},{\"attributes\":{\"callback\":null},\"id\":\"13345\",\"type\":\"DataRange1d\"},{\"attributes\":{},\"id\":\"13364\",\"type\":\"SaveTool\"},{\"attributes\":{\"line_color\":\"purple\",\"x\":{\"field\":\"x\"},\"y\":{\"field\":\"y\"}},\"id\":\"13402\",\"type\":\"Line\"},{\"attributes\":{\"overlay\":{\"id\":\"13384\",\"type\":\"BoxAnnotation\"}},\"id\":\"13363\",\"type\":\"BoxZoomTool\"},{\"attributes\":{\"source\":{\"id\":\"13401\",\"type\":\"ColumnDataSource\"}},\"id\":\"13405\",\"type\":\"CDSView\"},{\"attributes\":{},\"id\":\"13362\",\"type\":\"WheelZoomTool\"},{\"attributes\":{\"line_alpha\":0.1,\"line_color\":\"#1f77b4\",\"x\":{\"field\":\"x\"},\"y\":{\"field\":\"y\"}},\"id\":\"13403\",\"type\":\"Line\"},{\"attributes\":{},\"id\":\"13380\",\"type\":\"BasicTickFormatter\"},{\"attributes\":{\"line_color\":\"orange\",\"line_width\":2,\"x\":{\"field\":\"x\"},\"y\":{\"field\":\"y\"}},\"id\":\"13375\",\"type\":\"Line\"},{\"attributes\":{\"source\":{\"id\":\"13374\",\"type\":\"ColumnDataSource\"}},\"id\":\"13378\",\"type\":\"CDSView\"},{\"attributes\":{\"data_source\":{\"id\":\"13401\",\"type\":\"ColumnDataSource\"},\"glyph\":{\"id\":\"13402\",\"type\":\"Line\"},\"hover_glyph\":null,\"muted_glyph\":null,\"nonselection_glyph\":{\"id\":\"13403\",\"type\":\"Line\"},\"selection_glyph\":null,\"view\":{\"id\":\"13405\",\"type\":\"CDSView\"}},\"id\":\"13404\",\"type\":\"GlyphRenderer\"},{\"attributes\":{\"active_drag\":\"auto\",\"active_inspect\":\"auto\",\"active_multi\":null,\"active_scroll\":\"auto\",\"active_tap\":\"auto\",\"tools\":[{\"id\":\"13361\",\"type\":\"PanTool\"},{\"id\":\"13362\",\"type\":\"WheelZoomTool\"},{\"id\":\"13363\",\"type\":\"BoxZoomTool\"},{\"id\":\"13364\",\"type\":\"SaveTool\"},{\"id\":\"13365\",\"type\":\"ResetTool\"},{\"id\":\"13366\",\"type\":\"HelpTool\"}]},\"id\":\"13367\",\"type\":\"Toolbar\"},{\"attributes\":{},\"id\":\"13382\",\"type\":\"BasicTickFormatter\"},{\"attributes\":{},\"id\":\"13361\",\"type\":\"PanTool\"},{\"attributes\":{\"data_source\":{\"id\":\"13374\",\"type\":\"ColumnDataSource\"},\"glyph\":{\"id\":\"13375\",\"type\":\"Line\"},\"hover_glyph\":null,\"muted_glyph\":null,\"nonselection_glyph\":{\"id\":\"13376\",\"type\":\"Line\"},\"selection_glyph\":null,\"view\":{\"id\":\"13378\",\"type\":\"CDSView\"}},\"id\":\"13377\",\"type\":\"GlyphRenderer\"},{\"attributes\":{},\"id\":\"13413\",\"type\":\"UnionRenderers\"},{\"attributes\":{\"bottom_units\":\"screen\",\"fill_alpha\":{\"value\":0.5},\"fill_color\":{\"value\":\"lightgrey\"},\"left_units\":\"screen\",\"level\":\"overlay\",\"line_alpha\":{\"value\":1.0},\"line_color\":{\"value\":\"black\"},\"line_dash\":[4,4],\"line_width\":{\"value\":2},\"render_mode\":\"css\",\"right_units\":\"screen\",\"top_units\":\"screen\"},\"id\":\"13384\",\"type\":\"BoxAnnotation\"},{\"attributes\":{\"axis_label\":\"Error\",\"formatter\":{\"id\":\"13380\",\"type\":\"BasicTickFormatter\"},\"ticker\":{\"id\":\"13357\",\"type\":\"BasicTicker\"}},\"id\":\"13356\",\"type\":\"LinearAxis\"},{\"attributes\":{\"label\":{\"value\":\"SMAPE\"},\"renderers\":[{\"id\":\"13404\",\"type\":\"GlyphRenderer\"}]},\"id\":\"13416\",\"type\":\"LegendItem\"},{\"attributes\":{\"callback\":null},\"id\":\"13343\",\"type\":\"DataRange1d\"},{\"attributes\":{\"callback\":null,\"data\":{\"x\":[0,1,2,3,4,5,6,7,8,9,10,11,12,13,14,15,16,17,18,19,20,21,22,23,24,25,26,27,28,29,30,31,32,33,34,35,36,37,38,39,40,41,42,43,44,45,46,47,48,49,50,51,52,53,54,55,56,57,58,59,60,61,62,63,64,65,66,67,68,69,70,71,72,73,74,75,76,77,78,79,80,81,82,83,84,85,86,87,88,89,90,91,92,93,94,95,96,97,98,99,100,101,102,103,104,105,106,107,108,109,110,111,112,113,114,115,116,117,118,119,120,121,122,123,124,125,126,127,128,129,130,131,132,133,134,135,136,137,138,139,140,141,142,143,144],\"y\":{\"__ndarray__\":\"6XIq1wdjwT/yPK22zxHBP23BW9ROk78/TP8bdCDwwT9vJvbXCRzDPz0HU7PB7MI/5z/mxozywz+/W5A/lUvCPy5MmpNFn8M/PHSmPHrdwj/QpnJolsbAP1oMC8AlUL8/09r34/QpwT/TViOIzGjDPzConax+R8E/BJX5BZaGxD/2aiDUe7HBP9Xxe4PC6ME/07eC/FRWxj/019KUmUPIP/kbXobd6MQ/E1EeuqSdyD+d3cceFfbJP7CYEw5Pk8g/EswclbW3yT8AXBFgXUrGP971E0j5D8s/hIAsXs07yD9opm223OLFP/StuWYJjMU/7NJVPGACzD8Ab1dNjjDGP+zBMEbNb8U/sDTMB/l0xz8M9iK9X5PGPys7cwqIecY/UmjxPcvHxT9i0VP1ekfGP4zZlhzWLMQ/Z8rxYPa1wz967BP5Sz2+P3i0bH7jtLg/g+OKtm4UvT+dMcLKqY+7PzbzeSqAurs/dCaP3X2Huj+SlO5PwdC8P5ybmJytCLs/Bhpq37Pfuz9mq69ACOu0P1HhEHfgA7g/XSUP+KmytT9juVXvU4a3P78XOLYVjro/yVw9wKCetj8WMPpQ3VqxP79pR2mAmbk/+3VA0MW9tT9DIq5Xzsa0PzLOC9LH57I/stUnVTdMsz9HYrtvYfqxP+0jcUIukLQ/1PS/EeVgrj96Cshx3FiwPxbBatCQqrM/fxNyhhQTsz80CeE4XxexP2QIL4Jwwq8/V0UmkO9WsT8QYIWAhUOwP60NG986Vqw/3xTsTnpysD88N0TmypS1P+/LPOhok7U/ioB+kvLPtT/46OJRBaiwP6CH1ekaBbI/tlop3JbusD9QjGkWxFKtP2jaZYmO0bA/9j23Q+DetD/Nm4s5B6yyP/y+2S7vQbE//KoRxhGysD+aGladT+G4P/MxRuhFCrQ/K9PiBE9Ctz/s7Qhx1nKyP4hHA/gDd7g/VzzNBP6Usz9sFnX/YNC0P3SMNeNiNLc/5cXdJtCetD/qxPFxHdSxP2+b3R5sKLM/5rVyA98YuD9tH67J6XW3P2zx7kVTlro/kGSc8qBLvD/AftnYYka3P8U7UPnt4bo/uTUzPfZntT+gIEpo67q3P6bQjPtgAbc/zUSBtVZ0uD8hQoQ0tKW6P+AAHxwEJbY/J+gXMiNhtD+RmC0ZKz+zP3Gq+YKlC7Y/zMBSGFrBsj/x5RP1pWi4P1lfxo6FALY/Uh1PLtCgtz+mPD3iEJq8P8eILonZa7k/cwT2tk56uz+eoJwDtVq4P71Z0NQPXLU/uxL1mrt3uj+v1537dha1P/9VapoJ/rg/1lEdEI3Zuj+h/0bKR8q2P/l2SHodlbw/28rpRvWJwz/1ncHZoG3FP/J3HIrgT8I//ZHzdcOcvj+ze78DL77CP6abo2HDS8M/dBT+Oe+qxD+wlB4agsDFP5yDXbDR28Y/Vh+7itEGwD83cxrn1U+9P7khcUKmRcA/hHxtIPnSwj9UnTsFq2zGPzWtXTccl8Q/O4SDlFBoxz/Qv2XcS1DEP605rqqAB8I/bGtDpqJrxT8=\",\"dtype\":\"float64\",\"shape\":[145]}},\"selected\":{\"id\":\"13414\",\"type\":\"Selection\"},\"selection_policy\":{\"id\":\"13413\",\"type\":\"UnionRenderers\"}},\"id\":\"13387\",\"type\":\"ColumnDataSource\"},{\"attributes\":{},\"id\":\"13414\",\"type\":\"Selection\"},{\"attributes\":{\"callback\":null,\"data\":{\"x\":[0,1,2,3,4,5,6,7,8,9,10,11,12,13,14,15,16,17,18,19,20,21,22,23,24,25,26,27,28,29,30,31,32,33,34,35,36,37,38,39,40,41,42,43,44,45,46,47,48,49,50,51,52,53,54,55,56,57,58,59,60,61,62,63,64,65,66,67,68,69,70,71,72,73,74,75,76,77,78,79,80,81,82,83,84,85,86,87,88,89,90,91,92,93,94,95,96,97,98,99,100,101,102,103,104,105,106,107,108,109,110,111,112,113,114,115,116,117,118,119,120,121,122,123,124,125,126,127,128,129,130,131,132,133,134,135,136,137,138,139,140,141,142,143,144],\"y\":{\"__ndarray__\":\"OQgY0ablvD+x+I+H6Zm7PzzJNMpXULo/gUGGsVyYvD+JrgWKoA69P60sTBbSoL8/au60bRhtwD+AsPK7CuG9P0/qHWwbVr8/c+DOQs84vz812R7LNyO9P+t3/7ZbPro/lDXkJ/v8vD8Iym8s1lW/PwxH8p01C7w/0YM8tyn5vj9ae+9nH3G8Pwq97SmTv7w/ZJM2TC/bwD+Wg/xEadvDP17RfsaE3sA/wa1AY0PRxD9PgaQSNgrFP2IZMPohEsM/pKMSAbH4wz/8GV+C5EDCP2Nr8+GQ/8Q/fjmrEKc3wz/Bcb28LDnCP+GX3DDaeME/w8bx1HJ9xz9bItjfE3/CP64qpf8DvcI/oLQl/nozxD8KFYxWVKvDP2FtJ6x5+8I/X7YeEEpOwz9VdHmkdFzDPxZYPfYMzMA/tzOB9WeuwT/PnF30//+5P3owpcqiyLU/7P4fnC2PuD/ndXXfROm3P/Ii+GK6/bc/DpM+Qi17tz/fo5xSSw+5P+XrQRo2Tbc/0Y6SrV/2tj+RvtUkrg2yP6jdHHsjT7M/Lcj3PxFlsD9QED5HVgOzPxiHkLHlnLY/j3RCLCzqsz/oihjSNUCvPw9F36Nng7Y/0rYqplp1sj8tPIOBrxuyP1J7kZixWbA/wbpnwgF4sD/tZMiqp9atP28I4tevNbI//IaAcPQGqj9EOnQQL+2sP4voDL52V64/4tCSGoRxrj8IugSyfu+pP/AXCtzV/ak/AqldClVdrT+P6RHub2OsP3EvSSMAq6c/3k5gPqaTrD/hLj5valmxP22uB9e7LbI/sALTEWUZsj/u1wJ87YqrP5ikSvCCs6s/qmvU2S7ZrD9I1+nERvuoP9OA8Ygmqaw/8If6Pw2+sT9HrUbxi4WvPzdxE9k+V6s/Q/pr39sfqj9fMYyuDXC0P8EAppkiArA/yEOH0ks/sz9MQuLXcdmuP+YAQOAkW7Q/ZLEFCjaxsD/fUuReYl6yP9uliJ4UH7Q/RDoSUvDKsT9TRWDcsrWtP/XEP8NHI7A/YwGurg+ftT+rP8hU5Z+zP05RLA7j8rY/pqlPOvUktz9TXIql5tezP45+7lwfbLY/5mfu5t4wsj/v3jmOEBu0P5CEfW4HD7Q/h/QyPqtbtD8l6Xmuvgy3P8iKADHeMbM/i3fucsi5rz+h1N7Lu1OwPxg9oHabzrE/QaUnpty4rD+lPPFYt9G0Py63Z2iwVbE/rTnmGDeFsz//DC2O2Gi5Pzcn0yAyJLY/7kob4tfvtT9NXvzv7du0P1NjlNSZG7M/OFkT4taotj9NkKWhMTixP46VC4tv77Q/JZlhvSKOtj/3tHNd5QiyP4I2e7rKarc/bJacNtoxvT/a1Cn75ILAPy2edlsycL0/7VOo1BSitz8OdrQtJu6+P66JgQoCvb4/g9BZ5XKowT829TL/+ITBP3qbcnAWD8I/1qcyvPuGuz8p9pM3g5i4P4SWOc2nWL0/qXfAp+rNvz8ogaBZhSTCP4QZV3htX8I/bxMlu4osxD8hcXICg6DBPwPZ0BtXEcA/PEjQUsgtwz8=\",\"dtype\":\"float64\",\"shape\":[145]}},\"selected\":{\"id\":\"13398\",\"type\":\"Selection\"},\"selection_policy\":{\"id\":\"13397\",\"type\":\"UnionRenderers\"}},\"id\":\"13374\",\"type\":\"ColumnDataSource\"},{\"attributes\":{\"label\":{\"value\":\"ND\"},\"renderers\":[{\"id\":\"13377\",\"type\":\"GlyphRenderer\"}]},\"id\":\"13386\",\"type\":\"LegendItem\"},{\"attributes\":{\"text\":\"ND, NRMSE, and SMAPE over the test set for MT_328\"},\"id\":\"13341\",\"type\":\"Title\"},{\"attributes\":{},\"id\":\"13357\",\"type\":\"BasicTicker\"}],\"root_ids\":[\"13340\"]},\"title\":\"Bokeh Application\",\"version\":\"1.4.0\"}};\n",
       "  var render_items = [{\"docid\":\"065ec04b-82ab-4d99-92ad-bf0287eac32f\",\"roots\":{\"13340\":\"aee0b327-6e55-4fe3-8717-0c6a785dabdf\"}}];\n",
       "  root.Bokeh.embed.embed_items_notebook(docs_json, render_items);\n",
       "\n",
       "  }\n",
       "  if (root.Bokeh !== undefined) {\n",
       "    embed_document(root);\n",
       "  } else {\n",
       "    var attempts = 0;\n",
       "    var timer = setInterval(function(root) {\n",
       "      if (root.Bokeh !== undefined) {\n",
       "        clearInterval(timer);\n",
       "        embed_document(root);\n",
       "      } else {\n",
       "        attempts++;\n",
       "        if (attempts > 100) {\n",
       "          clearInterval(timer);\n",
       "          console.log(\"Bokeh: ERROR: Unable to run BokehJS code because BokehJS library is missing\");\n",
       "        }\n",
       "      }\n",
       "    }, 10, root)\n",
       "  }\n",
       "})(window);"
      ],
      "application/vnd.bokehjs_exec.v0+json": ""
     },
     "metadata": {
      "application/vnd.bokehjs_exec.v0+json": {
       "id": "13340"
      }
     },
     "output_type": "display_data"
    },
    {
     "data": {
      "text/html": [
       "\n",
       "\n",
       "\n",
       "\n",
       "\n",
       "\n",
       "  <div class=\"bk-root\" id=\"42e10c98-926c-4c03-86a5-e3f8eaa494de\" data-root-id=\"13971\"></div>\n"
      ]
     },
     "metadata": {},
     "output_type": "display_data"
    },
    {
     "data": {
      "application/javascript": [
       "(function(root) {\n",
       "  function embed_document(root) {\n",
       "    \n",
       "  var docs_json = {\"aebc4f2b-fbcd-4b67-9f76-c0ef605845ab\":{\"roots\":{\"references\":[{\"attributes\":{\"below\":[{\"id\":\"13982\",\"type\":\"LinearAxis\"}],\"center\":[{\"id\":\"13986\",\"type\":\"Grid\"},{\"id\":\"13991\",\"type\":\"Grid\"},{\"id\":\"14016\",\"type\":\"Legend\"}],\"left\":[{\"id\":\"13987\",\"type\":\"LinearAxis\"}],\"plot_height\":320,\"plot_width\":960,\"renderers\":[{\"id\":\"14008\",\"type\":\"GlyphRenderer\"},{\"id\":\"14021\",\"type\":\"GlyphRenderer\"},{\"id\":\"14035\",\"type\":\"GlyphRenderer\"}],\"title\":{\"id\":\"13972\",\"type\":\"Title\"},\"toolbar\":{\"id\":\"13998\",\"type\":\"Toolbar\"},\"x_range\":{\"id\":\"13974\",\"type\":\"DataRange1d\"},\"x_scale\":{\"id\":\"13978\",\"type\":\"LinearScale\"},\"y_range\":{\"id\":\"13976\",\"type\":\"DataRange1d\"},\"y_scale\":{\"id\":\"13980\",\"type\":\"LinearScale\"}},\"id\":\"13971\",\"subtype\":\"Figure\",\"type\":\"Plot\"},{\"attributes\":{\"data_source\":{\"id\":\"14018\",\"type\":\"ColumnDataSource\"},\"glyph\":{\"id\":\"14019\",\"type\":\"Line\"},\"hover_glyph\":null,\"muted_glyph\":null,\"nonselection_glyph\":{\"id\":\"14020\",\"type\":\"Line\"},\"selection_glyph\":null,\"view\":{\"id\":\"14022\",\"type\":\"CDSView\"}},\"id\":\"14021\",\"type\":\"GlyphRenderer\"},{\"attributes\":{\"line_color\":\"orange\",\"line_width\":2,\"x\":{\"field\":\"x\"},\"y\":{\"field\":\"y\"}},\"id\":\"14006\",\"type\":\"Line\"},{\"attributes\":{\"callback\":null,\"data\":{\"x\":[0,1,2,3,4,5,6,7,8,9,10,11,12,13,14,15,16,17,18,19,20,21,22,23,24,25,26,27,28,29,30,31,32,33,34,35,36,37,38,39,40,41,42,43,44,45,46,47,48,49,50,51,52,53,54,55,56,57,58,59,60,61,62,63,64,65,66,67,68,69,70,71,72,73,74,75,76,77,78,79,80,81,82,83,84,85,86,87,88,89,90,91,92,93,94,95,96,97,98,99,100,101,102,103,104,105,106,107,108,109,110,111,112,113,114,115,116,117,118,119,120,121,122,123,124,125,126,127,128,129,130,131,132,133,134,135,136,137,138,139,140,141,142,143,144],\"y\":{\"__ndarray__\":\"Rcq2n8gKoz9shT22az2iP+HqEE+FRaY/2KCI7SdUpT+DpMrK94esP7xjUIXh2qk/ZXhH/Ey4pz8T70IQpQirP3jO+X+536I/q58klhoLqD/tjimaI0yrPx2vGaH0Oqg/AxYAxMc3rD/f4nxALfKrPyhnR0q7Nqg/9VMhnDObqT89V2or7xqmPzwTelMKyaY/hfG3oTfEpj9fNIRukGSlPynRQn8O36c/K8iXpG4bpj9zREeuv9KoPwAOuf6aMKk/d7QejrA4qj83roYatBKpP6njcbnFx6o/6B6qEzd3qT9GYG+ZPLGwPw2rHwvRZbI/MY06jPe1sj9KxcaZZgqyP2aJeF8EfLA/NBZ1ZEDbrz9aZbFZoJiwP4CKKZ+7PrE/edlOSVATsj8spK/tucayP83kaJ9QE7E/TNB+jIA5sT/9BY2/qLuxP5VS5EEezbI/jNlsCDP6sj84nONJL3y2P4XyEEU/ErI/TNtYnNEIsj88N4oLdOWwPwYauoNNE7I/V9Udy/iXsT91pgrOpIStP81G6m2GsK8/v0+5ZgassD94CR/959OuP+nbeWO2iLE/WHOwnH30sz/z0tzYfnGwP2Pb3Ovhaa8/26rVesUDsj8t2KS+wbizP3FMAIUkz7A/s/pu750qsj8DU1JYomGyP0cJAxsF+bE/E9KfZou1rD/AyrWcskKrP6OqGcYfFa8/LYIGSWofqz9FbunntlmvP8HjP11mRLE/ZOTwVC7IrD8Dkafb7YepP0zC7pzlna0/BRcdZ77trD8FljAbmKurP1wgAxME96o/8xjOjIfvqT+FWYdQ/6WqP3BswEsQSK0/8xgYgWrCrT+HSupnjc2wPxXWMg2MWqs/0KSXlESjrT8fUmyLHzmxPw+jJ2uxkK4/19QGXsi7sD97s4ZsukOpP9ikQ6M8GK8/lZs48/JaqD9vBaVPVUawPxGU5LRgYbI/cA+Lf6W9rz+tdU+QSeGvP6sZ/lp3AK4/QXC5UMMFrj8lzVWDvu+wP+GFGwxOPrE/6T86Z5RxrT8XPtpHtJ6kP9zgXq8Q2KM/Cb9przWxnD8YxT5e4fOgP50umVBzxqU/4x89aUFNqT+1xcc6CEWlP5GDhlT9vrE/6wu0BW7wrT/gBKOhWNuuP5AjAyotRq4/d3EiCizTrT8Lmivlc26vPxc7lg5/Oqc/of0NLHJIsD+x8qoheEyvP0DqUH4sorE/cb4XNJWzsz/U9pX3eE6yP3PkZzadQ7Q/iCOdGyNBrT8u9e0X25ixPx0MZU02+LM/gfk+wOUtsT/vgAvVts2yPwnNqr0TLrE/WBE+dsontD/zWwfShFGzP1gfJhRSVbI/wPjCTYstsD8vY/HBwkyxPzpFdf0wGbM/RO25uEcwsj8xBr7VpTuxP+mo6bj70q8/31h1L/XarT8gpQhndbqtP6U3qgY5w7E/iJqVAmlUrz8wR4mrTiWpP/BEtSSzc60/rT8PA5f+qT+LDVKfr7GoP5sCizegeqs/sQIksyePqD89gvfmYEaoP91YEFAdSKY/4w/YCLcAqD8=\",\"dtype\":\"float64\",\"shape\":[145]}},\"selected\":{\"id\":\"14540\",\"type\":\"Selection\"},\"selection_policy\":{\"id\":\"14539\",\"type\":\"UnionRenderers\"}},\"id\":\"14032\",\"type\":\"ColumnDataSource\"},{\"attributes\":{},\"id\":\"14045\",\"type\":\"Selection\"},{\"attributes\":{},\"id\":\"13988\",\"type\":\"BasicTicker\"},{\"attributes\":{\"line_alpha\":0.1,\"line_color\":\"#1f77b4\",\"x\":{\"field\":\"x\"},\"y\":{\"field\":\"y\"}},\"id\":\"14020\",\"type\":\"Line\"},{\"attributes\":{\"source\":{\"id\":\"14018\",\"type\":\"ColumnDataSource\"}},\"id\":\"14022\",\"type\":\"CDSView\"},{\"attributes\":{},\"id\":\"13997\",\"type\":\"HelpTool\"},{\"attributes\":{\"line_alpha\":0.1,\"line_color\":\"#1f77b4\",\"line_width\":2,\"x\":{\"field\":\"x\"},\"y\":{\"field\":\"y\"}},\"id\":\"14007\",\"type\":\"Line\"},{\"attributes\":{\"line_color\":\"green\",\"x\":{\"field\":\"x\"},\"y\":{\"field\":\"y\"}},\"id\":\"14019\",\"type\":\"Line\"},{\"attributes\":{},\"id\":\"14539\",\"type\":\"UnionRenderers\"},{\"attributes\":{},\"id\":\"13996\",\"type\":\"ResetTool\"},{\"attributes\":{\"callback\":null},\"id\":\"13974\",\"type\":\"DataRange1d\"},{\"attributes\":{\"axis_label\":\"Error\",\"formatter\":{\"id\":\"14011\",\"type\":\"BasicTickFormatter\"},\"ticker\":{\"id\":\"13988\",\"type\":\"BasicTicker\"}},\"id\":\"13987\",\"type\":\"LinearAxis\"},{\"attributes\":{\"callback\":null,\"data\":{\"x\":[0,1,2,3,4,5,6,7,8,9,10,11,12,13,14,15,16,17,18,19,20,21,22,23,24,25,26,27,28,29,30,31,32,33,34,35,36,37,38,39,40,41,42,43,44,45,46,47,48,49,50,51,52,53,54,55,56,57,58,59,60,61,62,63,64,65,66,67,68,69,70,71,72,73,74,75,76,77,78,79,80,81,82,83,84,85,86,87,88,89,90,91,92,93,94,95,96,97,98,99,100,101,102,103,104,105,106,107,108,109,110,111,112,113,114,115,116,117,118,119,120,121,122,123,124,125,126,127,128,129,130,131,132,133,134,135,136,137,138,139,140,141,142,143,144],\"y\":{\"__ndarray__\":\"+EJFv67qqz+27OQ/Cm6pP+Nnu6HwRa4/TJAZD+bSqz8/Tf/2RDywP5FrDtDDxqw/j7Mjnie/rz/RJUng89GuPz0Z9p4DS6k/GlYtpzYIqz90syFeENisP6a1uHCL9Ks/2QDbChl4rD9BtHbgwJ6sP/Fgv9edB6o/JbHfWFrEqz8YlRjWU7mpPzH1ETDURqo/DXGXg6xRqT+edwdyRCioP8ScZ3DRA60/luPgr53jpz9I3mbi9P6sP7NU1BmigKs/r5IszX5yrT8osG/+BtWuP6fenoLpxKw/pv7QAXjYrT+rWMLK6OKxPyixYIXorrI/LjblKdM2sj8OiT6zHa+yP660OuDfdbE/w+Tc005JsD/3ASOA0bGxP9SmofahnLE/j9gDj2M/sj+r9VyMvmCyPyTMQLtOMrI/ok8YVmC+sT+7aDE+t5CxP/xcdbJhtbI/Ut/KAkEnsz+fWW8fmmi2P61CElsRDrM/P6t/qTrWsT+ylQ+03sSxP5kMqtvmnLI/Q4hj6H+csj/X3kUujD6wP0ATTBq0HbE//n2RxLyssj9dvNnV9LKxP+Fql2wbPrI/F4ZNPD0etD/Za12I8b2xP+yL9Uxu/rA/5mWBmic5sj/6trRmvqu0P2N9QDnN+7A/7kb+xh2Qsj/jMm5Ry+uyP/q3oSYI67E/ev/RnZC1rT/iZoqUbxuuPzJCAQJIxrA/8s/BKG4urT+t77/6SNivP+a1sb59T7E/pS+OT3VIrj+fovG6LYGqP89Ly+rsV64/s889otnFrD/GFyCdpiasP94iqRPWf6w/yNXCV/vVqz/8tZK+9sirP6mAxhH6i64/ZpOqxNPArj8vBWz9aBmxPwBT0272vqs/kZGGtsdArz99bzuxvaGxP4CWaPfQNrA/XFItsTrlsD8Jw94H1r+qPxRm6xUdnK8/eIRJVcuWqT/MsoqHs3CwP2VwD8FGqbI/XlozsDmVsD8sct5GeEewP85VByF2860/mWxLDmZirj+Hd6rQTO2xP2bQWbxjRbE/D5Ka43SlrD9k0Uw3trOnP3w4hjqGtqY/RL/o4bDxoT+CFiWs4P+lPyk6FMWGw6c/UiR4woXOqj+W7CJ7lLqmP5xUF38gLbE/hZIwFKB+rj8zqM8ovnewP16Vj1iGNrE/5HkPWR41rz++GxpHGYOxP0RK0LN5/as/AybO4VsAsz+d/oB/tOyxPzR1o9C/qLM/P53Uw6IJtj+FwfgNOwi0PxUYzQLWCbU/reGJnd54sT9IUeOchPO0PxQEGFAcgrg/zKsEJn+PtD+vcHEH8se3P886xwrmorU/4r0k2fyHtz+W7nJq5ZC2P7qZFGv9qbU/VWELyf9PtD/9wNcohpe1P+k00oi2dbk/ElBQfsputz9y+IsX8Vi2P6mkF4FpTbM/2qeexSMbtD9PcYyWEoy0P3+Oj1XEpLU/FF8bLT4Hsz9GintrtemwPy+wamSJjLI/V15onW+tsD/JcaBpV1uwP0zQZhesJbI/kEzz7GIxrj+gNj9KgeSuPw6uUdz1fKk/RFrrfmtPrT8=\",\"dtype\":\"float64\",\"shape\":[145]}},\"selected\":{\"id\":\"14045\",\"type\":\"Selection\"},\"selection_policy\":{\"id\":\"14044\",\"type\":\"UnionRenderers\"}},\"id\":\"14018\",\"type\":\"ColumnDataSource\"},{\"attributes\":{},\"id\":\"13995\",\"type\":\"SaveTool\"},{\"attributes\":{},\"id\":\"14540\",\"type\":\"Selection\"},{\"attributes\":{\"ticker\":{\"id\":\"13983\",\"type\":\"BasicTicker\"}},\"id\":\"13986\",\"type\":\"Grid\"},{\"attributes\":{\"label\":{\"value\":\"ND\"},\"renderers\":[{\"id\":\"14008\",\"type\":\"GlyphRenderer\"}]},\"id\":\"14017\",\"type\":\"LegendItem\"},{\"attributes\":{\"overlay\":{\"id\":\"14015\",\"type\":\"BoxAnnotation\"}},\"id\":\"13994\",\"type\":\"BoxZoomTool\"},{\"attributes\":{},\"id\":\"13983\",\"type\":\"BasicTicker\"},{\"attributes\":{\"line_color\":\"purple\",\"x\":{\"field\":\"x\"},\"y\":{\"field\":\"y\"}},\"id\":\"14033\",\"type\":\"Line\"},{\"attributes\":{},\"id\":\"13993\",\"type\":\"WheelZoomTool\"},{\"attributes\":{},\"id\":\"13978\",\"type\":\"LinearScale\"},{\"attributes\":{},\"id\":\"13992\",\"type\":\"PanTool\"},{\"attributes\":{},\"id\":\"14029\",\"type\":\"Selection\"},{\"attributes\":{\"data_source\":{\"id\":\"14005\",\"type\":\"ColumnDataSource\"},\"glyph\":{\"id\":\"14006\",\"type\":\"Line\"},\"hover_glyph\":null,\"muted_glyph\":null,\"nonselection_glyph\":{\"id\":\"14007\",\"type\":\"Line\"},\"selection_glyph\":null,\"view\":{\"id\":\"14009\",\"type\":\"CDSView\"}},\"id\":\"14008\",\"type\":\"GlyphRenderer\"},{\"attributes\":{\"bottom_units\":\"screen\",\"fill_alpha\":{\"value\":0.5},\"fill_color\":{\"value\":\"lightgrey\"},\"left_units\":\"screen\",\"level\":\"overlay\",\"line_alpha\":{\"value\":1.0},\"line_color\":{\"value\":\"black\"},\"line_dash\":[4,4],\"line_width\":{\"value\":2},\"render_mode\":\"css\",\"right_units\":\"screen\",\"top_units\":\"screen\"},\"id\":\"14015\",\"type\":\"BoxAnnotation\"},{\"attributes\":{\"label\":{\"value\":\"NRMSE\"},\"renderers\":[{\"id\":\"14021\",\"type\":\"GlyphRenderer\"}]},\"id\":\"14031\",\"type\":\"LegendItem\"},{\"attributes\":{},\"id\":\"14044\",\"type\":\"UnionRenderers\"},{\"attributes\":{\"active_drag\":\"auto\",\"active_inspect\":\"auto\",\"active_multi\":null,\"active_scroll\":\"auto\",\"active_tap\":\"auto\",\"tools\":[{\"id\":\"13992\",\"type\":\"PanTool\"},{\"id\":\"13993\",\"type\":\"WheelZoomTool\"},{\"id\":\"13994\",\"type\":\"BoxZoomTool\"},{\"id\":\"13995\",\"type\":\"SaveTool\"},{\"id\":\"13996\",\"type\":\"ResetTool\"},{\"id\":\"13997\",\"type\":\"HelpTool\"}]},\"id\":\"13998\",\"type\":\"Toolbar\"},{\"attributes\":{\"callback\":null,\"data\":{\"x\":[0,1,2,3,4,5,6,7,8,9,10,11,12,13,14,15,16,17,18,19,20,21,22,23,24,25,26,27,28,29,30,31,32,33,34,35,36,37,38,39,40,41,42,43,44,45,46,47,48,49,50,51,52,53,54,55,56,57,58,59,60,61,62,63,64,65,66,67,68,69,70,71,72,73,74,75,76,77,78,79,80,81,82,83,84,85,86,87,88,89,90,91,92,93,94,95,96,97,98,99,100,101,102,103,104,105,106,107,108,109,110,111,112,113,114,115,116,117,118,119,120,121,122,123,124,125,126,127,128,129,130,131,132,133,134,135,136,137,138,139,140,141,142,143,144],\"y\":{\"__ndarray__\":\"4qneHJOEpD/+lFHATCCjP2moBqP7Cqg/Wl7fLAE2pj/Zzc95IVmsP1S0yx1RIKk/aU5+vVvVqD9NSZU/ZEeqP2KjxSDr1KM/EZMkK5wHpj/v+FbCmYCpP4wJYkecn6c/Dn7Qw5tzqT8x7sV/yAWqP2/wCmwXbKc/gyEevag3qD/l7vEfw8ClP5HMgj9N7KU/cd3JTC2IpT+uH+fFR+ykP69wrj1P6Kc/ASLBg6KEpT/w/rqfmQqoP+qN2tvb2qc/X2lGpMojqT/MxD4uUP6pP33llJD+yag/1T4jQlHepz8hlh1axbquP7Hye4I4S7A/5yamxKAXsD9Uz5lRyjWwP/E3EyZ/V6w/vkA73IGhqz+le6NtA3etP0CwZQtIHK0/Qmua8x/Drz9fkRQEFYiwPyqgZlLVha0/hYbIjnH+rT/eNfcr9VqvPywQamt0j7A/xj64qftBsD9Gju1i7O2zP0Jb+bgDLq8/6qaxXnnurz+T51NxBcmtP6bII2sIGrA/nqsxa8Hnrz9kZtvZ4D2sP3dIbF5bkK0/5TWrVeOVrz8CbPMMpJKtP+QyZjyxia8/iiEuxGPisT98KNtPgBGvPy7QluHpU6w/ZnOxgqZWsD+HAYsjcWSyPy8bgiPXBa8/oBM+T1CGsD8f8VKJZ+CwP4rja+cUR7A/jtWCSKsqqT/IS25JocSpP+lUv47Yw6s/NByYt6X0pz/s0+EinEKrP0DFRBB6q64/5UEMmkZYqj+TSJeMwx6mP+0UzQMo8qk/Pzc4TBRaqj9/+YzhQHCoP3oB2hU9U6g/4l5kxaL/pj/rErt7M2WnP9RRYOotmqo/B4cuHxZVqT/ltf9jrzCuP/6QjsxbJKc/nYuTBYUEqz/eD2jOtSCuP3musCMyxKs/lPR5IkTIrT/tU/GqvuSlP6gU+5nFSKs/a8p6o/37pT9o0nSrOjisP0bVkWx/UrA/uV+Kp6zqqz/9gvGqsdaqPwBoHgTLgqk/A6jWDbbkqT8LxHRn7qStP9Pl4myxea0/pQn2phoDqj8sn2Npv4+jP1Ju6aI7xKI/D3MHbupfnD9KxX7GwSqhPz0BlPLqf6M/920woahfpj8kx+iZOqWjP2QRDHVD2K4/ScYzxPwTqj8gqjjJt2mrP1UT0/xTgKs/7GAt/qaFqj+mItNAigetP4OijNSEuqU/RnH28cUorz/KRTTPK4utPxsmJfmay7A/9jOQhzO+sT9VwV7jaTaxPyEfd7nkE7M/1rrk8kt2rT+tQLMkPS6xP/ZJwbt0H7Q/JS0EgejfsD8NOfMXdN+yPww8U8dRILE/Y4SsOKzvsz9BIYP9XQezPx8aACqR87E/tnISD8MMsD+DtONZWJGxPyQFXvzQybM/QnP9btGEsj+CIp24eeSxPyTZThie/68/Zud0+kNgrj/oPn14+VGvPwL2fng8iLE/BVR1jzjZrj8zrdt5TMapP7gHzLtgN6w/bXaqwmBEqT+mRVVfswOoP3PF+n8zUas/WHFqTsd9pz8QHImmOuKmP1qp1bTkS6Q/0CLblOUfqD8=\",\"dtype\":\"float64\",\"shape\":[145]}},\"selected\":{\"id\":\"14029\",\"type\":\"Selection\"},\"selection_policy\":{\"id\":\"14028\",\"type\":\"UnionRenderers\"}},\"id\":\"14005\",\"type\":\"ColumnDataSource\"},{\"attributes\":{},\"id\":\"13980\",\"type\":\"LinearScale\"},{\"attributes\":{\"axis_label\":\"Test Dataset Row Index\",\"formatter\":{\"id\":\"14013\",\"type\":\"BasicTickFormatter\"},\"ticker\":{\"id\":\"13983\",\"type\":\"BasicTicker\"}},\"id\":\"13982\",\"type\":\"LinearAxis\"},{\"attributes\":{\"callback\":null},\"id\":\"13976\",\"type\":\"DataRange1d\"},{\"attributes\":{\"label\":{\"value\":\"SMAPE\"},\"renderers\":[{\"id\":\"14035\",\"type\":\"GlyphRenderer\"}]},\"id\":\"14047\",\"type\":\"LegendItem\"},{\"attributes\":{\"text\":\"ND, NRMSE, and SMAPE over the test set for MT_329\"},\"id\":\"13972\",\"type\":\"Title\"},{\"attributes\":{\"line_alpha\":0.1,\"line_color\":\"#1f77b4\",\"x\":{\"field\":\"x\"},\"y\":{\"field\":\"y\"}},\"id\":\"14034\",\"type\":\"Line\"},{\"attributes\":{},\"id\":\"14011\",\"type\":\"BasicTickFormatter\"},{\"attributes\":{\"source\":{\"id\":\"14005\",\"type\":\"ColumnDataSource\"}},\"id\":\"14009\",\"type\":\"CDSView\"},{\"attributes\":{\"source\":{\"id\":\"14032\",\"type\":\"ColumnDataSource\"}},\"id\":\"14036\",\"type\":\"CDSView\"},{\"attributes\":{\"data_source\":{\"id\":\"14032\",\"type\":\"ColumnDataSource\"},\"glyph\":{\"id\":\"14033\",\"type\":\"Line\"},\"hover_glyph\":null,\"muted_glyph\":null,\"nonselection_glyph\":{\"id\":\"14034\",\"type\":\"Line\"},\"selection_glyph\":null,\"view\":{\"id\":\"14036\",\"type\":\"CDSView\"}},\"id\":\"14035\",\"type\":\"GlyphRenderer\"},{\"attributes\":{\"dimension\":1,\"ticker\":{\"id\":\"13988\",\"type\":\"BasicTicker\"}},\"id\":\"13991\",\"type\":\"Grid\"},{\"attributes\":{},\"id\":\"14013\",\"type\":\"BasicTickFormatter\"},{\"attributes\":{},\"id\":\"14028\",\"type\":\"UnionRenderers\"},{\"attributes\":{\"items\":[{\"id\":\"14017\",\"type\":\"LegendItem\"},{\"id\":\"14031\",\"type\":\"LegendItem\"},{\"id\":\"14047\",\"type\":\"LegendItem\"}]},\"id\":\"14016\",\"type\":\"Legend\"}],\"root_ids\":[\"13971\"]},\"title\":\"Bokeh Application\",\"version\":\"1.4.0\"}};\n",
       "  var render_items = [{\"docid\":\"aebc4f2b-fbcd-4b67-9f76-c0ef605845ab\",\"roots\":{\"13971\":\"42e10c98-926c-4c03-86a5-e3f8eaa494de\"}}];\n",
       "  root.Bokeh.embed.embed_items_notebook(docs_json, render_items);\n",
       "\n",
       "  }\n",
       "  if (root.Bokeh !== undefined) {\n",
       "    embed_document(root);\n",
       "  } else {\n",
       "    var attempts = 0;\n",
       "    var timer = setInterval(function(root) {\n",
       "      if (root.Bokeh !== undefined) {\n",
       "        clearInterval(timer);\n",
       "        embed_document(root);\n",
       "      } else {\n",
       "        attempts++;\n",
       "        if (attempts > 100) {\n",
       "          clearInterval(timer);\n",
       "          console.log(\"Bokeh: ERROR: Unable to run BokehJS code because BokehJS library is missing\");\n",
       "        }\n",
       "      }\n",
       "    }, 10, root)\n",
       "  }\n",
       "})(window);"
      ],
      "application/vnd.bokehjs_exec.v0+json": ""
     },
     "metadata": {
      "application/vnd.bokehjs_exec.v0+json": {
       "id": "13971"
      }
     },
     "output_type": "display_data"
    },
    {
     "data": {
      "text/html": [
       "\n",
       "\n",
       "\n",
       "\n",
       "\n",
       "\n",
       "  <div class=\"bk-root\" id=\"c196cdcd-8848-4868-826b-156c0f48358d\" data-root-id=\"14614\"></div>\n"
      ]
     },
     "metadata": {},
     "output_type": "display_data"
    },
    {
     "data": {
      "application/javascript": [
       "(function(root) {\n",
       "  function embed_document(root) {\n",
       "    \n",
       "  var docs_json = {\"23884933-5f65-4bc3-a734-5a3b617b8a42\":{\"roots\":{\"references\":[{\"attributes\":{\"below\":[{\"id\":\"14625\",\"type\":\"LinearAxis\"}],\"center\":[{\"id\":\"14629\",\"type\":\"Grid\"},{\"id\":\"14634\",\"type\":\"Grid\"},{\"id\":\"14659\",\"type\":\"Legend\"}],\"left\":[{\"id\":\"14630\",\"type\":\"LinearAxis\"}],\"plot_height\":320,\"plot_width\":960,\"renderers\":[{\"id\":\"14651\",\"type\":\"GlyphRenderer\"},{\"id\":\"14664\",\"type\":\"GlyphRenderer\"},{\"id\":\"14678\",\"type\":\"GlyphRenderer\"}],\"title\":{\"id\":\"14615\",\"type\":\"Title\"},\"toolbar\":{\"id\":\"14641\",\"type\":\"Toolbar\"},\"x_range\":{\"id\":\"14617\",\"type\":\"DataRange1d\"},\"x_scale\":{\"id\":\"14621\",\"type\":\"LinearScale\"},\"y_range\":{\"id\":\"14619\",\"type\":\"DataRange1d\"},\"y_scale\":{\"id\":\"14623\",\"type\":\"LinearScale\"}},\"id\":\"14614\",\"subtype\":\"Figure\",\"type\":\"Plot\"},{\"attributes\":{\"label\":{\"value\":\"SMAPE\"},\"renderers\":[{\"id\":\"14678\",\"type\":\"GlyphRenderer\"}]},\"id\":\"14690\",\"type\":\"LegendItem\"},{\"attributes\":{\"data_source\":{\"id\":\"14675\",\"type\":\"ColumnDataSource\"},\"glyph\":{\"id\":\"14676\",\"type\":\"Line\"},\"hover_glyph\":null,\"muted_glyph\":null,\"nonselection_glyph\":{\"id\":\"14677\",\"type\":\"Line\"},\"selection_glyph\":null,\"view\":{\"id\":\"14679\",\"type\":\"CDSView\"}},\"id\":\"14678\",\"type\":\"GlyphRenderer\"},{\"attributes\":{\"ticker\":{\"id\":\"14626\",\"type\":\"BasicTicker\"}},\"id\":\"14629\",\"type\":\"Grid\"},{\"attributes\":{},\"id\":\"14656\",\"type\":\"BasicTickFormatter\"},{\"attributes\":{},\"id\":\"14687\",\"type\":\"UnionRenderers\"},{\"attributes\":{},\"id\":\"14631\",\"type\":\"BasicTicker\"},{\"attributes\":{\"source\":{\"id\":\"14675\",\"type\":\"ColumnDataSource\"}},\"id\":\"14679\",\"type\":\"CDSView\"},{\"attributes\":{},\"id\":\"14688\",\"type\":\"Selection\"},{\"attributes\":{\"source\":{\"id\":\"14648\",\"type\":\"ColumnDataSource\"}},\"id\":\"14652\",\"type\":\"CDSView\"},{\"attributes\":{\"callback\":null,\"data\":{\"x\":[0,1,2,3,4,5,6,7,8,9,10,11,12,13,14,15,16,17,18,19,20,21,22,23,24,25,26,27,28,29,30,31,32,33,34,35,36,37,38,39,40,41,42,43,44,45,46,47,48,49,50,51,52,53,54,55,56,57,58,59,60,61,62,63,64,65,66,67,68,69,70,71,72,73,74,75,76,77,78,79,80,81,82,83,84,85,86,87,88,89,90,91,92,93,94,95,96,97,98,99,100,101,102,103,104,105,106,107,108,109,110,111,112,113,114,115,116,117,118,119,120,121,122,123,124,125,126,127,128,129,130,131,132,133,134,135,136,137,138,139,140,141,142,143,144],\"y\":{\"__ndarray__\":\"u5+vssm9xT+2BkGOwvvHP0qnI/fOVsg/MGbbdvx6yD+J3+8Y/IrJP5Ar2+P6Zcc/DT52uHH+xz88utObQ0bGP7VtWI9m28c/BbMw3qbCyD9hcfrxquXHP3lcIvL5LMY/GsPEY6M+xz/1PtUvYQHFPx0uyEKRAsY/hah3iQnYwj8ITDwlC+XCP36KpIxAosE/CdHr1cpQwz8Z/SKVURLBP/4wA7MdN8I/RX1Q/OMUwD8RuBoVz2a+P1xdTn1NgL4/T1s7pUj/vz9MOJAM+Si8P+e56uXDCL4/7e1WACqqwD9lrJOf7++8P7s/0B26NcI/phxIWf87wT/l90YLXUK9P2qegqdUPL8/1nAG/eY5vz/AMNnoBLC9P9YBc0IWC74/BcfgjMnPvz8JSWX6bWS+P+2RfD+CRrs/7JyXq0y4tz8iMwezSay1PxM6KcDUx7I/8BOlKdcQsT/d/uQDUlKyP9yNJzfeurQ/1TmHjXrMsz8JAgZikBi0P97VF7C+krU/4AVWxqjCtz8Ci2b2Scq2P/Y2oJeSoLU/9CbuJQmCtz/MwQNpHEe4P//Av0ykTrU/Ai4jDntvuD9CCYj+mUm5PxXiqKfPgbk/vmBTGP5qtT+a35+9NYG5P1BtN+EMuLY/kO9ogXHNtz+T/pT69Yy0P4LyF4wah7U/F6m+aZ8wtj88//zJmgW2P3E0c4Zu4LQ/aMzvFVx1vD8wqmWkyOO6PyQX6F/QK70/yOkkDnazuz9SqQRQh1S7P9SE4BtIsb0/jtND4t5RvT8B3ahbbJq8P6MtjM6Yxbo/dtQWweAMvj9FZ5JSzq+7P134v2C0jro//ZbhW2ltuz9H5Kx4eO6+P8+mo9TBVb0/VlqYJkk7uT8Wvdds7A28P2jqj818cbs/cTWfLW0vvz+Ii51FeUTAP3SKiID4mb0/FeCMwDNRvj+sGx1tL+/AP8ERTcLqrsA/ikZh4bJLxD/t95037PjEP8y6FxrU0MU/BgoweMbixT/61KSRnK7FPw/1tYr258U/OgDv6sDlxT/fz9sZ11vFP50wp5aHfsU/Bb0cjhA9xz9Msp+fw+rGP3yjgU5E1MQ/QRdna2mhxT/IW8k82r/FPxi7m1OjeMY/OiBEkhSDxT82e5tfBfTHP4L55kUQu8Y/qKiBETCaxz8rABymckzIP49l1Ghml8c/+wTpLAj6xj8rFu+Yoi3GPyZuRLk6b8I/UVGEZvegwj9kKx2dbT7CP6OoMadTDsU/Xevrity9wj+mKDxfZ0/CP5c87yE9jsQ/rOi5YqCuwj+WRQPV4ITDPxvthGvonMI/kbu4bXG6wz/Cw/zjAXjBP8BuSXvX/MI/t1PySUwDwT/UepEwJW/CP/eHrZDzJLw/L93RaucUwz/fkX8qwIHAP35N+QBkPsE/s9Dyo921vz9PjXyZ0JnCP+ClquYexcE/FOpVPntYwz+aQgeIykTAP6TB4CPiAr0/SSMhBCuTwD8MFhV5Wa3BP4QWWyhsMsI//T0Iydi7wD/4yyw7/qDAP84kegqgjME/DXe48i0fvj8=\",\"dtype\":\"float64\",\"shape\":[145]}},\"selected\":{\"id\":\"14688\",\"type\":\"Selection\"},\"selection_policy\":{\"id\":\"14687\",\"type\":\"UnionRenderers\"}},\"id\":\"14661\",\"type\":\"ColumnDataSource\"},{\"attributes\":{\"text\":\"ND, NRMSE, and SMAPE over the test set for MT_330\"},\"id\":\"14615\",\"type\":\"Title\"},{\"attributes\":{\"bottom_units\":\"screen\",\"fill_alpha\":{\"value\":0.5},\"fill_color\":{\"value\":\"lightgrey\"},\"left_units\":\"screen\",\"level\":\"overlay\",\"line_alpha\":{\"value\":1.0},\"line_color\":{\"value\":\"black\"},\"line_dash\":[4,4],\"line_width\":{\"value\":2},\"render_mode\":\"css\",\"right_units\":\"screen\",\"top_units\":\"screen\"},\"id\":\"14658\",\"type\":\"BoxAnnotation\"},{\"attributes\":{},\"id\":\"14626\",\"type\":\"BasicTicker\"},{\"attributes\":{\"dimension\":1,\"ticker\":{\"id\":\"14631\",\"type\":\"BasicTicker\"}},\"id\":\"14634\",\"type\":\"Grid\"},{\"attributes\":{\"line_color\":\"green\",\"x\":{\"field\":\"x\"},\"y\":{\"field\":\"y\"}},\"id\":\"14662\",\"type\":\"Line\"},{\"attributes\":{\"axis_label\":\"Test Dataset Row Index\",\"formatter\":{\"id\":\"14656\",\"type\":\"BasicTickFormatter\"},\"ticker\":{\"id\":\"14626\",\"type\":\"BasicTicker\"}},\"id\":\"14625\",\"type\":\"LinearAxis\"},{\"attributes\":{\"items\":[{\"id\":\"14660\",\"type\":\"LegendItem\"},{\"id\":\"14674\",\"type\":\"LegendItem\"},{\"id\":\"14690\",\"type\":\"LegendItem\"}]},\"id\":\"14659\",\"type\":\"Legend\"},{\"attributes\":{},\"id\":\"15194\",\"type\":\"UnionRenderers\"},{\"attributes\":{},\"id\":\"14623\",\"type\":\"LinearScale\"},{\"attributes\":{\"source\":{\"id\":\"14661\",\"type\":\"ColumnDataSource\"}},\"id\":\"14665\",\"type\":\"CDSView\"},{\"attributes\":{},\"id\":\"14621\",\"type\":\"LinearScale\"},{\"attributes\":{\"line_alpha\":0.1,\"line_color\":\"#1f77b4\",\"x\":{\"field\":\"x\"},\"y\":{\"field\":\"y\"}},\"id\":\"14663\",\"type\":\"Line\"},{\"attributes\":{},\"id\":\"14654\",\"type\":\"BasicTickFormatter\"},{\"attributes\":{},\"id\":\"15195\",\"type\":\"Selection\"},{\"attributes\":{\"callback\":null,\"data\":{\"x\":[0,1,2,3,4,5,6,7,8,9,10,11,12,13,14,15,16,17,18,19,20,21,22,23,24,25,26,27,28,29,30,31,32,33,34,35,36,37,38,39,40,41,42,43,44,45,46,47,48,49,50,51,52,53,54,55,56,57,58,59,60,61,62,63,64,65,66,67,68,69,70,71,72,73,74,75,76,77,78,79,80,81,82,83,84,85,86,87,88,89,90,91,92,93,94,95,96,97,98,99,100,101,102,103,104,105,106,107,108,109,110,111,112,113,114,115,116,117,118,119,120,121,122,123,124,125,126,127,128,129,130,131,132,133,134,135,136,137,138,139,140,141,142,143,144],\"y\":{\"__ndarray__\":\"jfkGEiWzuz917TSb6a29Pwou2wkHAMA/paVtRlZ9wD+Em9dX2t6/P8HRQALRJr4/qFqGodAawD/Ql+lkRyu8P7DM8BMuNsA/n7aesB2kwD/Ibls1pV29PxRhptO2fbk/ixjj2FALuz9MgKTMfTi3P7eFAVfoTLo/SQTE1kELtj8jNVQysvi2P1udmJRArrU/F/fAavqxtz99Cp9cswq2P0sGtOdMSLY/i3eHI0jtsz+bY/RTnBmyP/KKb5qDWbM/BTLfPgDbsz9rs0x57n+yP2KBhwlgJrM/lVoekByJtD94f3GsH1izPwXb55sLR7Y/iy/swbrVtT/EncMcGs2zP30CQwgNiLY/d70EBQIutj+0Swt1MgW1P4sR6rGy47M/oPKItId4tj95QoYOzKm0P3AwYy6VCLQ/3NavGeWTsD+Dvg+YTdWvP8ArQ1mq9K0/WEPLdO2Tqj8tfvJM3IWsP0lo/zlOALE/X/e+oOk3rT9/I5PbSBuxPyfkfyYxnLA/qZL/6260sT/1yM9BvzqyP0xXxe6PYrE/x/U6/ixKtD+fvkLCE3u0Pxs2vwVcpq4/58pXYAFMsz8bRmLUnNWxP1OYrjydo7E/s/oEOWiosD8gfA6PyoS1P5gzweuOaLA/b9vnB6SNsD/1d7ZanTCwPxM/1dJjnLE/R+81Ccs5sj+zr/jszUmzP8NLrfffya4/hKfz7ls2tT+4NpOOO9WzP6HeXZ9GpbQ/O7hSqMTCsD/3la0+/iOyP77RhYQg4rE/wtOxDbUysj8TYOa77a+zPzVE5JSgb7A/pSA2tRyktD9F6vot+eixPytjMlcON7M/dcGbrsQKsz+FP3JRowa3P/csFOfhibQ/BwlrE54vsT9TiefQzHO0P/fC1rJnO7E/fajnhTP9tD/TN5cFGbW4PxHj3/sb47M/DPxCSzAatT/nX7tUgFC6P8cGKD6SH7c/GaTnZOxduD9pN4lCqBu6P/hhZI3Abbw/IUs8fjQCvD+dLOEVWZm6Pz2NICBH/bw/lyPSC+VFuj8r+EsCzzO6Px/TqgmQZrk/VYx2kRVXuz9FkEjzIqS8P+t/AnV+I7o/86KFMmTdvD89k96mUja9P9PUB/gO9r0/BS8j+hOQvD/93Odq4gq/P9WMAnkVcMA/Z9x/iSUmwT/phgKmKeXBP2qlfUM/vMA/mNeoVMdavz+38yGUZH6/P+FasMpk7rw/rYzaa3tUvD81XPuWggG+Pzv6qDEPd78/ydAD5Vddvz+P6omwlh+9PxCNY6vFfsA/UyX8bw9/vj8t7oaGT7S+P0x07yEqp74/q0hvO6/Zvz+v82uoHdC6PwfJB0fFyLs/5d4/ngwyuj+gf3Zqsfq6P4JoRe6bNbU/eamOxFdFuz+MuxYtbTK2P6Mvsl8zO7c/PYcgV4j6tT9l17Q3nIi6P7mCFjAzYbg/i7kW5wa5vD+9WVo41oO3P4vD7GASWrU/PY5t5K2xtz84q15TyEO5PxUVCBaOC7w/lc81Xkh5uD+1/jOzUQG4P0tiGmVTXbo/AP2OE50htj8=\",\"dtype\":\"float64\",\"shape\":[145]}},\"selected\":{\"id\":\"15195\",\"type\":\"Selection\"},\"selection_policy\":{\"id\":\"15194\",\"type\":\"UnionRenderers\"}},\"id\":\"14675\",\"type\":\"ColumnDataSource\"},{\"attributes\":{},\"id\":\"14639\",\"type\":\"ResetTool\"},{\"attributes\":{\"data_source\":{\"id\":\"14661\",\"type\":\"ColumnDataSource\"},\"glyph\":{\"id\":\"14662\",\"type\":\"Line\"},\"hover_glyph\":null,\"muted_glyph\":null,\"nonselection_glyph\":{\"id\":\"14663\",\"type\":\"Line\"},\"selection_glyph\":null,\"view\":{\"id\":\"14665\",\"type\":\"CDSView\"}},\"id\":\"14664\",\"type\":\"GlyphRenderer\"},{\"attributes\":{\"callback\":null},\"id\":\"14619\",\"type\":\"DataRange1d\"},{\"attributes\":{},\"id\":\"14638\",\"type\":\"SaveTool\"},{\"attributes\":{},\"id\":\"14671\",\"type\":\"UnionRenderers\"},{\"attributes\":{\"callback\":null,\"data\":{\"x\":[0,1,2,3,4,5,6,7,8,9,10,11,12,13,14,15,16,17,18,19,20,21,22,23,24,25,26,27,28,29,30,31,32,33,34,35,36,37,38,39,40,41,42,43,44,45,46,47,48,49,50,51,52,53,54,55,56,57,58,59,60,61,62,63,64,65,66,67,68,69,70,71,72,73,74,75,76,77,78,79,80,81,82,83,84,85,86,87,88,89,90,91,92,93,94,95,96,97,98,99,100,101,102,103,104,105,106,107,108,109,110,111,112,113,114,115,116,117,118,119,120,121,122,123,124,125,126,127,128,129,130,131,132,133,134,135,136,137,138,139,140,141,142,143,144],\"y\":{\"__ndarray__\":\"hKdIcGk5wD/KGaNb0ILBP2t7YrRaicI/IZuZuxW3wj9rgdl94VfCP1Ao5Qmbe8E/UuM6kt5Xwj8m+dHZNIfAP1jxbg0rV8I/mffDpbgAwz/rsXpZSz/BP39NkFteMb8/2Bs4XLkTwD9OWNAeHOW7P3KWXqZ/fL4/pTSTx7thuj8pIKPDZ7K6P1IA0483tbk/xXNJPH9cuz8Xqpggara4P+dJ+uUwRLo/lh+3pMbjtj+c/oO+nju0P/xPciHlRrU/SbPDSoFDtj9gy7AMUim0PxTdRNpHxLQ/ElR8fonVtj94j8Kvmh61Pw6MtgBuebg/nOSFgo/1tz9AbvriBPe0PwlfuQmI8rc/0BmRWjPntj/RGhiFEoe2P1Gy/JDb3rU/QUe/kF80tz8Zbe6BOx62P+ISiRw4MrQ/Kzpyfl3ssD9J/EjYM9SuP1EFdmEVGK0/Cr7XgQ44qj9Ww+Z/p6yrP5gfZjWaq7A/meBQ7wF6rT9/Mh1Ui7avPyHu4OyUUrA/dYFp2gMRsT8lX8kUBZqxP7nhuYnCPLA/+aR2C1jqsT+yFNA7A2WyP7JE2IcIJ64/P09UlEmSsj/X2whWmMSxP1nKWv/LSLI/Pu7se3VLsD8Rwq2GrBG0PxrN7iLotLA/lgi9MwoBsT/ea0X9hEetP0SGno7A6q8/uHkdO3HssD/gqLHf+dSxP6HQEJaAxK0/JGfsRpRbsz+LISzQyvWyPxbvWUj+3rQ/cmA02c3SsT/uyhprv7eyPx2uCzdcnrI/vfqvj0dksz9G5BJYfxu0Py3J0PGMxrE/7JKA+QERtT8VN+s9MliyPxqkySD4abM/6YiL4WQOsz/u1CWHJFm2Pz9ZZ/0oELU/vKc9kkIasT8wF86+uDu0P7Dna6WSEbI/HGyNx/gqtj/z+ILMwNO4P/JbnYd7ebU/VIj1vy0Ztj96JG8yskW7P/aBPvSPM7g/N+9nFNU5uj+Gyjjy8jm8P70NS4xY074/RYQX6OMfvj/GM2QXeau9P7WZlrYbgb8/4aKk3xrMvT8+jC8v2fS9Pxpjnt6fdr0/6RhHGeigvz8Ky8M7ZrG/P2QOWeDk37w/2lXWC7Ynvz/tlhFEEAC/P8zrINV0PcA/7rNLqS51vj+/6S2SX+3APyNAtl1YNME/ec1wkfrpwT+7za70/cPCPwReaIl/tsE/eqW3e+7wwD/L7mU8gc3AP0OeRNn+/L0/rWNj8hsBvj8fJTRehl++P9KUZi5mcMA/du8vVyl/vz//fj8S+9+9P3PxsgOJBcE/6FmDu6Ldvj/ZjggNg12/P0A4UuO8Pr8/DWdYKooHwD8eohQRGuO7PxK5UsQwzr0/nagfQLKPuz9EnB5tkiG9P20Saf1cZ7Y/g+/FkYV7vT/3xqTX1hC4P1qNvRvJn7k/qaYPgAqbtz/G6wh9JX28P3qF4Nzu/7o/E9EnvmSNvj8mZ4jk10G5P8qB2C1LnLY/ePpRszQeuT8uO6tNMny7PwxcPSjCjb0/qf6IabKouj9Ev0J1DYK6P4OUAdmmdrw/pe2N5TouuD8=\",\"dtype\":\"float64\",\"shape\":[145]}},\"selected\":{\"id\":\"14672\",\"type\":\"Selection\"},\"selection_policy\":{\"id\":\"14671\",\"type\":\"UnionRenderers\"}},\"id\":\"14648\",\"type\":\"ColumnDataSource\"},{\"attributes\":{},\"id\":\"14640\",\"type\":\"HelpTool\"},{\"attributes\":{\"label\":{\"value\":\"NRMSE\"},\"renderers\":[{\"id\":\"14664\",\"type\":\"GlyphRenderer\"}]},\"id\":\"14674\",\"type\":\"LegendItem\"},{\"attributes\":{},\"id\":\"14635\",\"type\":\"PanTool\"},{\"attributes\":{},\"id\":\"14672\",\"type\":\"Selection\"},{\"attributes\":{\"overlay\":{\"id\":\"14658\",\"type\":\"BoxAnnotation\"}},\"id\":\"14637\",\"type\":\"BoxZoomTool\"},{\"attributes\":{\"data_source\":{\"id\":\"14648\",\"type\":\"ColumnDataSource\"},\"glyph\":{\"id\":\"14649\",\"type\":\"Line\"},\"hover_glyph\":null,\"muted_glyph\":null,\"nonselection_glyph\":{\"id\":\"14650\",\"type\":\"Line\"},\"selection_glyph\":null,\"view\":{\"id\":\"14652\",\"type\":\"CDSView\"}},\"id\":\"14651\",\"type\":\"GlyphRenderer\"},{\"attributes\":{},\"id\":\"14636\",\"type\":\"WheelZoomTool\"},{\"attributes\":{\"callback\":null},\"id\":\"14617\",\"type\":\"DataRange1d\"},{\"attributes\":{\"line_alpha\":0.1,\"line_color\":\"#1f77b4\",\"line_width\":2,\"x\":{\"field\":\"x\"},\"y\":{\"field\":\"y\"}},\"id\":\"14650\",\"type\":\"Line\"},{\"attributes\":{\"line_color\":\"orange\",\"line_width\":2,\"x\":{\"field\":\"x\"},\"y\":{\"field\":\"y\"}},\"id\":\"14649\",\"type\":\"Line\"},{\"attributes\":{\"line_color\":\"purple\",\"x\":{\"field\":\"x\"},\"y\":{\"field\":\"y\"}},\"id\":\"14676\",\"type\":\"Line\"},{\"attributes\":{\"axis_label\":\"Error\",\"formatter\":{\"id\":\"14654\",\"type\":\"BasicTickFormatter\"},\"ticker\":{\"id\":\"14631\",\"type\":\"BasicTicker\"}},\"id\":\"14630\",\"type\":\"LinearAxis\"},{\"attributes\":{\"label\":{\"value\":\"ND\"},\"renderers\":[{\"id\":\"14651\",\"type\":\"GlyphRenderer\"}]},\"id\":\"14660\",\"type\":\"LegendItem\"},{\"attributes\":{\"line_alpha\":0.1,\"line_color\":\"#1f77b4\",\"x\":{\"field\":\"x\"},\"y\":{\"field\":\"y\"}},\"id\":\"14677\",\"type\":\"Line\"},{\"attributes\":{\"active_drag\":\"auto\",\"active_inspect\":\"auto\",\"active_multi\":null,\"active_scroll\":\"auto\",\"active_tap\":\"auto\",\"tools\":[{\"id\":\"14635\",\"type\":\"PanTool\"},{\"id\":\"14636\",\"type\":\"WheelZoomTool\"},{\"id\":\"14637\",\"type\":\"BoxZoomTool\"},{\"id\":\"14638\",\"type\":\"SaveTool\"},{\"id\":\"14639\",\"type\":\"ResetTool\"},{\"id\":\"14640\",\"type\":\"HelpTool\"}]},\"id\":\"14641\",\"type\":\"Toolbar\"}],\"root_ids\":[\"14614\"]},\"title\":\"Bokeh Application\",\"version\":\"1.4.0\"}};\n",
       "  var render_items = [{\"docid\":\"23884933-5f65-4bc3-a734-5a3b617b8a42\",\"roots\":{\"14614\":\"c196cdcd-8848-4868-826b-156c0f48358d\"}}];\n",
       "  root.Bokeh.embed.embed_items_notebook(docs_json, render_items);\n",
       "\n",
       "  }\n",
       "  if (root.Bokeh !== undefined) {\n",
       "    embed_document(root);\n",
       "  } else {\n",
       "    var attempts = 0;\n",
       "    var timer = setInterval(function(root) {\n",
       "      if (root.Bokeh !== undefined) {\n",
       "        clearInterval(timer);\n",
       "        embed_document(root);\n",
       "      } else {\n",
       "        attempts++;\n",
       "        if (attempts > 100) {\n",
       "          clearInterval(timer);\n",
       "          console.log(\"Bokeh: ERROR: Unable to run BokehJS code because BokehJS library is missing\");\n",
       "        }\n",
       "      }\n",
       "    }, 10, root)\n",
       "  }\n",
       "})(window);"
      ],
      "application/vnd.bokehjs_exec.v0+json": ""
     },
     "metadata": {
      "application/vnd.bokehjs_exec.v0+json": {
       "id": "14614"
      }
     },
     "output_type": "display_data"
    }
   ],
   "source": [
    "for customer_id in customer_ids:\n",
    "    # label the metrics plot per customer_id\n",
    "    label = '{}_metrics'.format(customer_id)\n",
    "    \n",
    "    plots[label] = figure(\n",
    "        title='ND, NRMSE, and SMAPE over the test set for {}'.format(customer_id),\n",
    "        width=960,\n",
    "        height=320,\n",
    "        x_axis_label='Test Dataset Row Index',\n",
    "        y_axis_label='Error')\n",
    "\n",
    "    plots[label].line(\n",
    "        x=predictions_detail[customer_id].index,\n",
    "        y=predictions_detail[customer_id]['nd'],\n",
    "        legend_label='ND',\n",
    "        color='orange',\n",
    "        line_width=2)\n",
    "\n",
    "    plots[label].line(\n",
    "        x=predictions_detail[customer_id].index,\n",
    "        y=predictions_detail[customer_id]['nrmse'],\n",
    "        legend_label='NRMSE',\n",
    "        color='green',\n",
    "        line_width=1)\n",
    "\n",
    "    plots[label].line(\n",
    "        x=predictions_detail[customer_id].index,\n",
    "        y=predictions_detail[customer_id]['smape'],\n",
    "        legend_label='SMAPE',\n",
    "        color='purple',\n",
    "        line_width=1)\n",
    "\n",
    "    show(plots[label])"
   ]
  },
  {
   "cell_type": "code",
   "execution_count": 54,
   "metadata": {},
   "outputs": [],
   "source": [
    "# now get a global, unique value for ND and NRSME for the 7 days in the test dataset"
   ]
  },
  {
   "cell_type": "code",
   "execution_count": 55,
   "metadata": {},
   "outputs": [],
   "source": [
    "global_df = pd.DataFrame(columns=['customer_id', 'timestamp', 'prediction', 'target'])"
   ]
  },
  {
   "cell_type": "code",
   "execution_count": 56,
   "metadata": {},
   "outputs": [],
   "source": [
    "# starting timestamps to predict over a complete day\n",
    "start_row_ids = [0, 24, 48, 72, 96, 120, 144]"
   ]
  },
  {
   "cell_type": "code",
   "execution_count": 57,
   "metadata": {},
   "outputs": [],
   "source": [
    "# iterate over customer_ids\n",
    "for customer_id in customer_ids:\n",
    "    \n",
    "    # for each customer, iterate on starting rows for each day\n",
    "    for start_row_id in start_row_ids:\n",
    "        # make a buffer dataframe for one-day predictions\n",
    "        buffer_df = pd.DataFrame()\n",
    "        # populate the buffer dataframe\n",
    "\n",
    "        # build a 24-time repeated list for the customer_id column\n",
    "        buffer_df['customer_id'] = 24*[customer_id]\n",
    "        # remember that predictions_detail dataframe stores lists,\n",
    "        # then the index required to retrieve the list contents is the row index (find out why, later...)\n",
    "        buffer_df['timestamp'] = pd.to_datetime(\n",
    "            predictions_detail[customer_id]['string_timestamps'][start_row_id:start_row_id+1][start_row_id]\n",
    "        )\n",
    "        buffer_df['prediction'] = \\\n",
    "            predictions_detail[customer_id]['predictions'][start_row_id:start_row_id+1][start_row_id]\n",
    "\n",
    "        buffer_df['target'] = \\\n",
    "            predictions_detail[customer_id]['targets'][start_row_id:start_row_id+1][start_row_id]\n",
    "\n",
    "        # buffer_df = buffer_df.set_index('timestamp')\n",
    "\n",
    "        global_df = pd.concat([global_df, buffer_df])"
   ]
  },
  {
   "cell_type": "code",
   "execution_count": 58,
   "metadata": {},
   "outputs": [
    {
     "data": {
      "text/html": [
       "<div>\n",
       "<style scoped>\n",
       "    .dataframe tbody tr th:only-of-type {\n",
       "        vertical-align: middle;\n",
       "    }\n",
       "\n",
       "    .dataframe tbody tr th {\n",
       "        vertical-align: top;\n",
       "    }\n",
       "\n",
       "    .dataframe thead th {\n",
       "        text-align: right;\n",
       "    }\n",
       "</style>\n",
       "<table border=\"1\" class=\"dataframe\">\n",
       "  <thead>\n",
       "    <tr style=\"text-align: right;\">\n",
       "      <th></th>\n",
       "      <th>customer_id</th>\n",
       "      <th>timestamp</th>\n",
       "      <th>prediction</th>\n",
       "      <th>target</th>\n",
       "    </tr>\n",
       "  </thead>\n",
       "  <tbody>\n",
       "    <tr>\n",
       "      <th>0</th>\n",
       "      <td>MT_320</td>\n",
       "      <td>2014-09-01 00:00:00</td>\n",
       "      <td>72.091568</td>\n",
       "      <td>74.781215</td>\n",
       "    </tr>\n",
       "    <tr>\n",
       "      <th>1</th>\n",
       "      <td>MT_320</td>\n",
       "      <td>2014-09-01 01:00:00</td>\n",
       "      <td>71.266380</td>\n",
       "      <td>69.396600</td>\n",
       "    </tr>\n",
       "    <tr>\n",
       "      <th>2</th>\n",
       "      <td>MT_320</td>\n",
       "      <td>2014-09-01 02:00:00</td>\n",
       "      <td>68.512970</td>\n",
       "      <td>63.776477</td>\n",
       "    </tr>\n",
       "    <tr>\n",
       "      <th>3</th>\n",
       "      <td>MT_320</td>\n",
       "      <td>2014-09-01 03:00:00</td>\n",
       "      <td>62.013844</td>\n",
       "      <td>64.335284</td>\n",
       "    </tr>\n",
       "    <tr>\n",
       "      <th>4</th>\n",
       "      <td>MT_320</td>\n",
       "      <td>2014-09-01 04:00:00</td>\n",
       "      <td>59.939304</td>\n",
       "      <td>61.266722</td>\n",
       "    </tr>\n",
       "    <tr>\n",
       "      <th>...</th>\n",
       "      <td>...</td>\n",
       "      <td>...</td>\n",
       "      <td>...</td>\n",
       "      <td>...</td>\n",
       "    </tr>\n",
       "    <tr>\n",
       "      <th>19</th>\n",
       "      <td>MT_330</td>\n",
       "      <td>2014-09-07 19:00:00</td>\n",
       "      <td>127.521690</td>\n",
       "      <td>141.406250</td>\n",
       "    </tr>\n",
       "    <tr>\n",
       "      <th>20</th>\n",
       "      <td>MT_330</td>\n",
       "      <td>2014-09-07 20:00:00</td>\n",
       "      <td>128.070511</td>\n",
       "      <td>130.750000</td>\n",
       "    </tr>\n",
       "    <tr>\n",
       "      <th>21</th>\n",
       "      <td>MT_330</td>\n",
       "      <td>2014-09-07 21:00:00</td>\n",
       "      <td>120.315918</td>\n",
       "      <td>134.042188</td>\n",
       "    </tr>\n",
       "    <tr>\n",
       "      <th>22</th>\n",
       "      <td>MT_330</td>\n",
       "      <td>2014-09-07 22:00:00</td>\n",
       "      <td>89.463257</td>\n",
       "      <td>100.467187</td>\n",
       "    </tr>\n",
       "    <tr>\n",
       "      <th>23</th>\n",
       "      <td>MT_330</td>\n",
       "      <td>2014-09-07 23:00:00</td>\n",
       "      <td>59.222801</td>\n",
       "      <td>56.967187</td>\n",
       "    </tr>\n",
       "  </tbody>\n",
       "</table>\n",
       "<p>1848 rows × 4 columns</p>\n",
       "</div>"
      ],
      "text/plain": [
       "   customer_id           timestamp  prediction      target\n",
       "0       MT_320 2014-09-01 00:00:00   72.091568   74.781215\n",
       "1       MT_320 2014-09-01 01:00:00   71.266380   69.396600\n",
       "2       MT_320 2014-09-01 02:00:00   68.512970   63.776477\n",
       "3       MT_320 2014-09-01 03:00:00   62.013844   64.335284\n",
       "4       MT_320 2014-09-01 04:00:00   59.939304   61.266722\n",
       "..         ...                 ...         ...         ...\n",
       "19      MT_330 2014-09-07 19:00:00  127.521690  141.406250\n",
       "20      MT_330 2014-09-07 20:00:00  128.070511  130.750000\n",
       "21      MT_330 2014-09-07 21:00:00  120.315918  134.042188\n",
       "22      MT_330 2014-09-07 22:00:00   89.463257  100.467187\n",
       "23      MT_330 2014-09-07 23:00:00   59.222801   56.967187\n",
       "\n",
       "[1848 rows x 4 columns]"
      ]
     },
     "execution_count": 58,
     "metadata": {},
     "output_type": "execute_result"
    }
   ],
   "source": [
    "global_df"
   ]
  },
  {
   "cell_type": "markdown",
   "metadata": {},
   "source": [
    "### over the 7 days of the test dataset, daily forecasting windows, starting at midnight (2014-09-0X 00:00:00)"
   ]
  },
  {
   "cell_type": "code",
   "execution_count": 59,
   "metadata": {},
   "outputs": [
    {
     "data": {
      "text/plain": [
       "38.146215024208715"
      ]
     },
     "execution_count": 59,
     "metadata": {},
     "output_type": "execute_result"
    }
   ],
   "source": [
    "# get a global value for MAE\n",
    "global_mae = mean_absolute_error(global_df['prediction'], global_df['target'])\n",
    "global_mae"
   ]
  },
  {
   "cell_type": "code",
   "execution_count": 60,
   "metadata": {},
   "outputs": [
    {
     "data": {
      "text/plain": [
       "498.16469337378595"
      ]
     },
     "execution_count": 60,
     "metadata": {},
     "output_type": "execute_result"
    }
   ],
   "source": [
    "# get a global average for true values\n",
    "global_true_values_average = np.mean(global_df['target'])\n",
    "global_true_values_average"
   ]
  },
  {
   "cell_type": "code",
   "execution_count": 61,
   "metadata": {},
   "outputs": [
    {
     "data": {
      "text/plain": [
       "0.07657350175875795"
      ]
     },
     "execution_count": 61,
     "metadata": {},
     "output_type": "execute_result"
    }
   ],
   "source": [
    "# get a global value for ND\n",
    "global_nd = global_mae/global_true_values_average\n",
    "global_nd"
   ]
  },
  {
   "cell_type": "code",
   "execution_count": 62,
   "metadata": {},
   "outputs": [
    {
     "data": {
      "text/plain": [
       "78.38095501489329"
      ]
     },
     "execution_count": 62,
     "metadata": {},
     "output_type": "execute_result"
    }
   ],
   "source": [
    "# get a global value for RMSE\n",
    "global_rmse = sqrt(mean_squared_error(global_df['prediction'], global_df['target']))\n",
    "global_rmse"
   ]
  },
  {
   "cell_type": "code",
   "execution_count": 63,
   "metadata": {},
   "outputs": [
    {
     "data": {
      "text/plain": [
       "0.15733944227171878"
      ]
     },
     "execution_count": 63,
     "metadata": {},
     "output_type": "execute_result"
    }
   ],
   "source": [
    "# get a global value for NRMSE\n",
    "global_nrmse = global_rmse/global_true_values_average\n",
    "global_nrmse"
   ]
  },
  {
   "cell_type": "code",
   "execution_count": 64,
   "metadata": {},
   "outputs": [
    {
     "data": {
      "text/plain": [
       "0.07620411616860134"
      ]
     },
     "execution_count": 64,
     "metadata": {},
     "output_type": "execute_result"
    }
   ],
   "source": [
    "# get a global vale for SMAPE\n",
    "global_smape = smape(global_df['prediction'], global_df['target'])\n",
    "global_smape"
   ]
  },
  {
   "cell_type": "code",
   "execution_count": 65,
   "metadata": {
    "scrolled": false
   },
   "outputs": [
    {
     "data": {
      "text/html": [
       "\n",
       "\n",
       "\n",
       "\n",
       "\n",
       "\n",
       "  <div class=\"bk-root\" id=\"52e30ef6-de64-4afa-a957-8f6778d5a8c8\" data-root-id=\"15269\"></div>\n"
      ]
     },
     "metadata": {},
     "output_type": "display_data"
    },
    {
     "data": {
      "application/javascript": [
       "(function(root) {\n",
       "  function embed_document(root) {\n",
       "    \n",
       "  var docs_json = {\"332334df-567c-43a3-aa21-fd05a29bf9de\":{\"roots\":{\"references\":[{\"attributes\":{\"below\":[{\"id\":\"15280\",\"type\":\"DatetimeAxis\"}],\"center\":[{\"id\":\"15284\",\"type\":\"Grid\"},{\"id\":\"15289\",\"type\":\"Grid\"},{\"id\":\"15326\",\"type\":\"Legend\"}],\"left\":[{\"id\":\"15285\",\"type\":\"LinearAxis\"}],\"plot_height\":320,\"plot_width\":960,\"renderers\":[{\"id\":\"15306\",\"type\":\"GlyphRenderer\"},{\"id\":\"15331\",\"type\":\"GlyphRenderer\"}],\"title\":{\"id\":\"15270\",\"type\":\"Title\"},\"toolbar\":{\"id\":\"15296\",\"type\":\"Toolbar\"},\"x_range\":{\"id\":\"15272\",\"type\":\"DataRange1d\"},\"x_scale\":{\"id\":\"15276\",\"type\":\"LinearScale\"},\"y_range\":{\"id\":\"15274\",\"type\":\"DataRange1d\"},\"y_scale\":{\"id\":\"15278\",\"type\":\"LinearScale\"}},\"id\":\"15269\",\"subtype\":\"Figure\",\"type\":\"Plot\"},{\"attributes\":{\"source\":{\"id\":\"15328\",\"type\":\"ColumnDataSource\"}},\"id\":\"15332\",\"type\":\"CDSView\"},{\"attributes\":{\"data_source\":{\"id\":\"15328\",\"type\":\"ColumnDataSource\"},\"glyph\":{\"id\":\"15329\",\"type\":\"Line\"},\"hover_glyph\":null,\"muted_glyph\":null,\"nonselection_glyph\":{\"id\":\"15330\",\"type\":\"Line\"},\"selection_glyph\":null,\"view\":{\"id\":\"15332\",\"type\":\"CDSView\"}},\"id\":\"15331\",\"type\":\"GlyphRenderer\"},{\"attributes\":{},\"id\":\"15338\",\"type\":\"UnionRenderers\"},{\"attributes\":{\"callback\":null,\"data\":{\"x\":{\"__ndarray__\":\"AACALeiCdEIAAGic64J0QgAAUAvvgnRCAAA4evKCdEIAACDp9YJ0QgAACFj5gnRCAADwxvyCdEIAANg1AIN0QgAAwKQDg3RCAACoEweDdEIAAJCCCoN0QgAAePENg3RCAABgYBGDdEIAAEjPFIN0QgAAMD4Yg3RCAAAYrRuDdEIAAAAcH4N0QgAA6Ioig3RCAADQ+SWDdEIAALhoKYN0QgAAoNcsg3RCAACIRjCDdEIAAHC1M4N0QgAAWCQ3g3RCAABAkzqDdEIAACgCPoN0QgAAEHFBg3RCAAD430SDdEIAAOBOSIN0QgAAyL1Lg3RCAACwLE+DdEIAAJibUoN0QgAAgApWg3RCAABoeVmDdEIAAFDoXIN0QgAAOFdgg3RCAAAgxmODdEIAAAg1Z4N0QgAA8KNqg3RCAADYEm6DdEIAAMCBcYN0QgAAqPB0g3RCAACQX3iDdEIAAHjOe4N0QgAAYD1/g3RCAABIrIKDdEIAADAbhoN0QgAAGIqJg3RCAAAA+YyDdEIAAOhnkIN0QgAA0NaTg3RCAAC4RZeDdEIAAKC0moN0QgAAiCOeg3RCAABwkqGDdEIAAFgBpYN0QgAAQHCog3RCAAAo36uDdEIAABBOr4N0QgAA+Lyyg3RCAADgK7aDdEIAAMiauYN0QgAAsAm9g3RCAACYeMCDdEIAAIDnw4N0QgAAaFbHg3RCAABQxcqDdEIAADg0zoN0QgAAIKPRg3RCAAAIEtWDdEIAAPCA2IN0QgAA2O/bg3RCAADAXt+DdEIAAKjN4oN0QgAAkDzmg3RCAAB4q+mDdEIAAGAa7YN0QgAASInwg3RCAAAw+PODdEIAABhn94N0QgAAANb6g3RCAADoRP6DdEIAANCzAYR0QgAAuCIFhHRCAACgkQiEdEIAAIgADIR0QgAAcG8PhHRCAABY3hKEdEIAAEBNFoR0QgAAKLwZhHRCAAAQKx2EdEIAAPiZIIR0QgAA4AgkhHRCAADIdyeEdEIAALDmKoR0QgAAmFUuhHRCAACAxDGEdEIAAGgzNYR0QgAAUKI4hHRCAAA4ETyEdEIAACCAP4R0QgAACO9ChHRCAADwXUaEdEIAANjMSYR0QgAAwDtNhHRCAACoqlCEdEIAAJAZVIR0QgAAeIhXhHRCAABg91qEdEIAAEhmXoR0QgAAMNVhhHRCAAAYRGWEdEIAAACzaIR0QgAA6CFshHRCAADQkG+EdEIAALj/coR0QgAAoG52hHRCAACI3XmEdEIAAHBMfYR0QgAAWLuAhHRCAABAKoSEdEIAACiZh4R0QgAAEAiLhHRCAAD4do6EdEIAAODlkYR0QgAAyFSVhHRCAACww5iEdEIAAJgynIR0QgAAgKGfhHRCAABoEKOEdEIAAFB/poR0QgAAOO6phHRCAAAgXa2EdEIAAAjMsIR0QgAA8Dq0hHRCAADYqbeEdEIAAMAYu4R0QgAAqIe+hHRCAACQ9sGEdEIAAHhlxYR0QgAAYNTIhHRCAABIQ8yEdEIAADCyz4R0QgAAGCHThHRCAAAAkNaEdEIAAOj+2YR0QgAA0G3dhHRCAAC43OCEdEIAAKBL5IR0QgAAiLrnhHRCAABwKeuEdEIAAFiY7oR0QgAAQAfyhHRCAAAodvWEdEIAABDl+IR0QgAA+FP8hHRCAADgwv+EdEIAAMgxA4V0QgAAsKAGhXRCAACYDwqFdEIAAIB+DYV0QgAAaO0QhXRCAABQXBSFdEIAADjLF4V0QgAAIDobhXRCAAAIqR6FdEIAAPAXIoV0QgAA2IYlhXRC\",\"dtype\":\"float64\",\"shape\":[168]},\"y\":{\"__ndarray__\":\"AAAAQNwFUkAAAABgDNFRQAAAAIDUIFFAAAAAoMUBT0AAAAAgO/hNQAAAAADB8UxAAAAAoMFjWEAAAACgAlhWQAAAAGDbDVZAAAAAIPdiW0AAAAAA66VeQAAAAMBbWWBAAAAAIEOKYUAAAACgP7JhQAAAAOAnX2BAAAAAgOpdYEAAAABA7wNiQAAAACDzM2JAAAAAoEfaYkAAAADgM+piQAAAAMCs4mFAAAAAQHoYYkAAAADgH6FfQAAAAADbCVhAAAAAgA76UkAAAAAA3SZTQAAAAADmGFJAAAAAgEgWUEAAAABgRuxNQAAAAAD0q0xAAAAAoExhVkAAAAAg9J9XQAAAAGCWOVdAAAAAgLf+XUAAAADAgFJgQAAAAMBKdmFAAAAAoJAMY0AAAADAPLNiQAAAACDYuWFAAAAAoNh0YkAAAAAAHupiQAAAAEBmQmNAAAAAICR2Y0AAAAAgbbFiQAAAAIBprmFAAAAAYKHkYUAAAABAsb9dQAAAAEApSFZAAAAAAJ5QVEAAAABAPE9UQAAAAAARClNAAAAAQKqyUEAAAACAhyNOQAAAAGD5b01AAAAAIMxsV0AAAAAg3LtXQAAAAGCFt1dAAAAAwMKfXkAAAAAAInBgQAAAAGB8kmFAAAAAAI7bYkAAAABgoYViQAAAAOAJpGFAAAAAQFOXYkAAAADAprpiQAAAACAelWNAAAAAYGZBY0AAAABgeHViQAAAAGCuLmFAAAAAgHRIYUAAAADgvgFgQAAAAIC0C1lAAAAAoHYmVUAAAAAgoYdUQAAAAEB3nFJAAAAAgBoFUUAAAAAgiSRPQAAAAEBLPk5AAAAAAFHBWEAAAABAIxtXQAAAAMBr+1hAAAAAwLLmXUAAAACAKgNhQAAAAEDfk2FAAAAAoGbnYUAAAADAYgJiQAAAAGALPGJAAAAAYFk7YkAAAAAgA4FiQAAAAKAP/2JAAAAAYPWNYkAAAABAjGZhQAAAAGBwamFAAAAAwLeCYUAAAACAfGFeQAAAACC05VdAAAAAILoRU0AAAACARH5SQAAAAOCIflFAAAAAAExWUEAAAACgDktOQAAAAIA75U1AAAAAYKv+V0AAAABgnURVQAAAAMCFzFhAAAAAAMYUXUAAAABgWBVgQAAAAMBItGBAAAAA4JclYUAAAABgsglhQAAAAGALOGFAAAAA4GldYUAAAABA92ZhQAAAACByumFAAAAAYEANYkAAAABA8lNhQAAAAKDkLWFAAAAAoCnKX0AAAAAAWGFcQAAAAMB4ZFZAAAAAIILqU0AAAACgdBxTQAAAAIBgg1FAAAAAYICUUEAAAADgsw1PQAAAAKAjhE5AAAAAoKe3V0AAAAAgJ4VWQAAAAABNFVdAAAAA4KexWkAAAABgtw1gQAAAAGAfP2FAAAAAgAnGYUAAAABAQzNhQAAAAEBgJWFAAAAAQEgvYEAAAABAOtpgQAAAAOCflGJAAAAA4FExYkAAAABA1rJhQAAAAMBW32BAAAAAIPQfYEAAAAAAi1haQAAAAECcC1NAAAAAgIPhU0AAAACgyXVSQAAAAGBKoFJAAAAAIC3tUUAAAACAINNQQAAAAGAb8U9AAAAAoMP9WEAAAABAJeBWQAAAAIDcWldAAAAAgAYcW0AAAADAKmhdQAAAAKB9JmBAAAAAYKU/YkAAAADAkBphQAAAACB7DGBAAAAAgB3HXkAAAABgqgpfQAAAAMBzgWFAAAAAwKoHYkAAAADgMZJhQAAAACAOGmBAAAAAIFiKYEAAAAAA+rRaQAAAAECur1NA\",\"dtype\":\"float64\",\"shape\":[168]}},\"selected\":{\"id\":\"15339\",\"type\":\"Selection\"},\"selection_policy\":{\"id\":\"15338\",\"type\":\"UnionRenderers\"}},\"id\":\"15303\",\"type\":\"ColumnDataSource\"},{\"attributes\":{},\"id\":\"15290\",\"type\":\"PanTool\"},{\"attributes\":{\"months\":[0,6]},\"id\":\"15323\",\"type\":\"MonthsTicker\"},{\"attributes\":{\"days\":[1,15]},\"id\":\"15319\",\"type\":\"DaysTicker\"},{\"attributes\":{\"line_alpha\":0.1,\"line_color\":\"#1f77b4\",\"x\":{\"field\":\"x\"},\"y\":{\"field\":\"y\"}},\"id\":\"15305\",\"type\":\"Line\"},{\"attributes\":{\"label\":{\"value\":\"predictions\"},\"renderers\":[{\"id\":\"15306\",\"type\":\"GlyphRenderer\"}]},\"id\":\"15327\",\"type\":\"LegendItem\"},{\"attributes\":{\"items\":[{\"id\":\"15327\",\"type\":\"LegendItem\"},{\"id\":\"15353\",\"type\":\"LegendItem\"}]},\"id\":\"15326\",\"type\":\"Legend\"},{\"attributes\":{\"overlay\":{\"id\":\"15325\",\"type\":\"BoxAnnotation\"}},\"id\":\"15292\",\"type\":\"BoxZoomTool\"},{\"attributes\":{\"source\":{\"id\":\"15303\",\"type\":\"ColumnDataSource\"}},\"id\":\"15307\",\"type\":\"CDSView\"},{\"attributes\":{\"data_source\":{\"id\":\"15303\",\"type\":\"ColumnDataSource\"},\"glyph\":{\"id\":\"15304\",\"type\":\"Line\"},\"hover_glyph\":null,\"muted_glyph\":null,\"nonselection_glyph\":{\"id\":\"15305\",\"type\":\"Line\"},\"selection_glyph\":null,\"view\":{\"id\":\"15307\",\"type\":\"CDSView\"}},\"id\":\"15306\",\"type\":\"GlyphRenderer\"},{\"attributes\":{\"months\":[0,1,2,3,4,5,6,7,8,9,10,11]},\"id\":\"15320\",\"type\":\"MonthsTicker\"},{\"attributes\":{\"active_drag\":\"auto\",\"active_inspect\":\"auto\",\"active_multi\":null,\"active_scroll\":\"auto\",\"active_tap\":\"auto\",\"tools\":[{\"id\":\"15290\",\"type\":\"PanTool\"},{\"id\":\"15291\",\"type\":\"WheelZoomTool\"},{\"id\":\"15292\",\"type\":\"BoxZoomTool\"},{\"id\":\"15293\",\"type\":\"SaveTool\"},{\"id\":\"15294\",\"type\":\"ResetTool\"},{\"id\":\"15295\",\"type\":\"HelpTool\"}]},\"id\":\"15296\",\"type\":\"Toolbar\"},{\"attributes\":{\"base\":60,\"mantissas\":[1,2,5,10,15,20,30],\"max_interval\":1800000.0,\"min_interval\":1000.0,\"num_minor_ticks\":0},\"id\":\"15314\",\"type\":\"AdaptiveTicker\"},{\"attributes\":{},\"id\":\"15867\",\"type\":\"UnionRenderers\"},{\"attributes\":{\"line_color\":\"red\",\"x\":{\"field\":\"x\"},\"y\":{\"field\":\"y\"}},\"id\":\"15304\",\"type\":\"Line\"},{\"attributes\":{\"months\":[0,4,8]},\"id\":\"15322\",\"type\":\"MonthsTicker\"},{\"attributes\":{},\"id\":\"15291\",\"type\":\"WheelZoomTool\"},{\"attributes\":{\"callback\":null},\"id\":\"15272\",\"type\":\"DataRange1d\"},{\"attributes\":{\"line_color\":\"blue\",\"x\":{\"field\":\"x\"},\"y\":{\"field\":\"y\"}},\"id\":\"15329\",\"type\":\"Line\"},{\"attributes\":{\"days\":[1,2,3,4,5,6,7,8,9,10,11,12,13,14,15,16,17,18,19,20,21,22,23,24,25,26,27,28,29,30,31]},\"id\":\"15316\",\"type\":\"DaysTicker\"},{\"attributes\":{},\"id\":\"15309\",\"type\":\"BasicTickFormatter\"},{\"attributes\":{},\"id\":\"15278\",\"type\":\"LinearScale\"},{\"attributes\":{},\"id\":\"15295\",\"type\":\"HelpTool\"},{\"attributes\":{},\"id\":\"15868\",\"type\":\"Selection\"},{\"attributes\":{\"text\":\"Predictions over the test dataset for MT_320\"},\"id\":\"15270\",\"type\":\"Title\"},{\"attributes\":{\"num_minor_ticks\":5,\"tickers\":[{\"id\":\"15313\",\"type\":\"AdaptiveTicker\"},{\"id\":\"15314\",\"type\":\"AdaptiveTicker\"},{\"id\":\"15315\",\"type\":\"AdaptiveTicker\"},{\"id\":\"15316\",\"type\":\"DaysTicker\"},{\"id\":\"15317\",\"type\":\"DaysTicker\"},{\"id\":\"15318\",\"type\":\"DaysTicker\"},{\"id\":\"15319\",\"type\":\"DaysTicker\"},{\"id\":\"15320\",\"type\":\"MonthsTicker\"},{\"id\":\"15321\",\"type\":\"MonthsTicker\"},{\"id\":\"15322\",\"type\":\"MonthsTicker\"},{\"id\":\"15323\",\"type\":\"MonthsTicker\"},{\"id\":\"15324\",\"type\":\"YearsTicker\"}]},\"id\":\"15281\",\"type\":\"DatetimeTicker\"},{\"attributes\":{\"mantissas\":[1,2,5],\"max_interval\":500.0,\"num_minor_ticks\":0},\"id\":\"15313\",\"type\":\"AdaptiveTicker\"},{\"attributes\":{\"days\":[1,8,15,22]},\"id\":\"15318\",\"type\":\"DaysTicker\"},{\"attributes\":{\"callback\":null},\"id\":\"15274\",\"type\":\"DataRange1d\"},{\"attributes\":{},\"id\":\"15294\",\"type\":\"ResetTool\"},{\"attributes\":{},\"id\":\"15339\",\"type\":\"Selection\"},{\"attributes\":{},\"id\":\"15293\",\"type\":\"SaveTool\"},{\"attributes\":{\"months\":[0,2,4,6,8,10]},\"id\":\"15321\",\"type\":\"MonthsTicker\"},{\"attributes\":{\"line_alpha\":0.1,\"line_color\":\"#1f77b4\",\"x\":{\"field\":\"x\"},\"y\":{\"field\":\"y\"}},\"id\":\"15330\",\"type\":\"Line\"},{\"attributes\":{},\"id\":\"15311\",\"type\":\"DatetimeTickFormatter\"},{\"attributes\":{\"axis_label\":\"Timestmap\",\"formatter\":{\"id\":\"15311\",\"type\":\"DatetimeTickFormatter\"},\"ticker\":{\"id\":\"15281\",\"type\":\"DatetimeTicker\"}},\"id\":\"15280\",\"type\":\"DatetimeAxis\"},{\"attributes\":{\"base\":24,\"mantissas\":[1,2,4,6,8,12],\"max_interval\":43200000.0,\"min_interval\":3600000.0,\"num_minor_ticks\":0},\"id\":\"15315\",\"type\":\"AdaptiveTicker\"},{\"attributes\":{},\"id\":\"15286\",\"type\":\"BasicTicker\"},{\"attributes\":{\"label\":{\"value\":\"targets\"},\"renderers\":[{\"id\":\"15331\",\"type\":\"GlyphRenderer\"}]},\"id\":\"15353\",\"type\":\"LegendItem\"},{\"attributes\":{\"days\":[1,4,7,10,13,16,19,22,25,28]},\"id\":\"15317\",\"type\":\"DaysTicker\"},{\"attributes\":{\"bottom_units\":\"screen\",\"fill_alpha\":{\"value\":0.5},\"fill_color\":{\"value\":\"lightgrey\"},\"left_units\":\"screen\",\"level\":\"overlay\",\"line_alpha\":{\"value\":1.0},\"line_color\":{\"value\":\"black\"},\"line_dash\":[4,4],\"line_width\":{\"value\":2},\"render_mode\":\"css\",\"right_units\":\"screen\",\"top_units\":\"screen\"},\"id\":\"15325\",\"type\":\"BoxAnnotation\"},{\"attributes\":{},\"id\":\"15276\",\"type\":\"LinearScale\"},{\"attributes\":{\"ticker\":{\"id\":\"15281\",\"type\":\"DatetimeTicker\"}},\"id\":\"15284\",\"type\":\"Grid\"},{\"attributes\":{},\"id\":\"15324\",\"type\":\"YearsTicker\"},{\"attributes\":{\"callback\":null,\"data\":{\"x\":{\"__ndarray__\":\"AACALeiCdEIAAGic64J0QgAAUAvvgnRCAAA4evKCdEIAACDp9YJ0QgAACFj5gnRCAADwxvyCdEIAANg1AIN0QgAAwKQDg3RCAACoEweDdEIAAJCCCoN0QgAAePENg3RCAABgYBGDdEIAAEjPFIN0QgAAMD4Yg3RCAAAYrRuDdEIAAAAcH4N0QgAA6Ioig3RCAADQ+SWDdEIAALhoKYN0QgAAoNcsg3RCAACIRjCDdEIAAHC1M4N0QgAAWCQ3g3RCAABAkzqDdEIAACgCPoN0QgAAEHFBg3RCAAD430SDdEIAAOBOSIN0QgAAyL1Lg3RCAACwLE+DdEIAAJibUoN0QgAAgApWg3RCAABoeVmDdEIAAFDoXIN0QgAAOFdgg3RCAAAgxmODdEIAAAg1Z4N0QgAA8KNqg3RCAADYEm6DdEIAAMCBcYN0QgAAqPB0g3RCAACQX3iDdEIAAHjOe4N0QgAAYD1/g3RCAABIrIKDdEIAADAbhoN0QgAAGIqJg3RCAAAA+YyDdEIAAOhnkIN0QgAA0NaTg3RCAAC4RZeDdEIAAKC0moN0QgAAiCOeg3RCAABwkqGDdEIAAFgBpYN0QgAAQHCog3RCAAAo36uDdEIAABBOr4N0QgAA+Lyyg3RCAADgK7aDdEIAAMiauYN0QgAAsAm9g3RCAACYeMCDdEIAAIDnw4N0QgAAaFbHg3RCAABQxcqDdEIAADg0zoN0QgAAIKPRg3RCAAAIEtWDdEIAAPCA2IN0QgAA2O/bg3RCAADAXt+DdEIAAKjN4oN0QgAAkDzmg3RCAAB4q+mDdEIAAGAa7YN0QgAASInwg3RCAAAw+PODdEIAABhn94N0QgAAANb6g3RCAADoRP6DdEIAANCzAYR0QgAAuCIFhHRCAACgkQiEdEIAAIgADIR0QgAAcG8PhHRCAABY3hKEdEIAAEBNFoR0QgAAKLwZhHRCAAAQKx2EdEIAAPiZIIR0QgAA4AgkhHRCAADIdyeEdEIAALDmKoR0QgAAmFUuhHRCAACAxDGEdEIAAGgzNYR0QgAAUKI4hHRCAAA4ETyEdEIAACCAP4R0QgAACO9ChHRCAADwXUaEdEIAANjMSYR0QgAAwDtNhHRCAACoqlCEdEIAAJAZVIR0QgAAeIhXhHRCAABg91qEdEIAAEhmXoR0QgAAMNVhhHRCAAAYRGWEdEIAAACzaIR0QgAA6CFshHRCAADQkG+EdEIAALj/coR0QgAAoG52hHRCAACI3XmEdEIAAHBMfYR0QgAAWLuAhHRCAABAKoSEdEIAACiZh4R0QgAAEAiLhHRCAAD4do6EdEIAAODlkYR0QgAAyFSVhHRCAACww5iEdEIAAJgynIR0QgAAgKGfhHRCAABoEKOEdEIAAFB/poR0QgAAOO6phHRCAAAgXa2EdEIAAAjMsIR0QgAA8Dq0hHRCAADYqbeEdEIAAMAYu4R0QgAAqIe+hHRCAACQ9sGEdEIAAHhlxYR0QgAAYNTIhHRCAABIQ8yEdEIAADCyz4R0QgAAGCHThHRCAAAAkNaEdEIAAOj+2YR0QgAA0G3dhHRCAAC43OCEdEIAAKBL5IR0QgAAiLrnhHRCAABwKeuEdEIAAFiY7oR0QgAAQAfyhHRCAAAodvWEdEIAABDl+IR0QgAA+FP8hHRCAADgwv+EdEIAAMgxA4V0QgAAsKAGhXRCAACYDwqFdEIAAIB+DYV0QgAAaO0QhXRCAABQXBSFdEIAADjLF4V0QgAAIDobhXRCAAAIqR6FdEIAAPAXIoV0QgAA2IYlhXRC\",\"dtype\":\"float64\",\"shape\":[168]},\"y\":{\"__ndarray__\":\"Qpvgbf+xUkC4/QfkYVlRQPArZppj409ACV8zTHUVUEDpyrn1I6JOQMXRoUn+xU5Aqg3Qp7Q3WkBAixiqrHNUQHNqC9iL9lNAEjuxEztRV0DlY6JHhZ1bQMjPKPEzemFAxa0fEcTJYkCgYaor5x5kQGiU+BklhmVAwXZgrh3gY0DBPiQB/BVkQLh2YK4d4GNA+nrRIoYaY0DWrR8RxKFiQLWkP6FL72BAthM7sRN7XkD9rKLGSMFbQPEjgjg6BFhAagvYixbhUkD/hqc1ROFSQIK777h4WVFAMkx15dwaUUDGyzZAnzJQQDBW0p/QZVBAVocm+ResWkBnFTVGCjxWQKLA3XdcXFVAsHTnVVPMWUCcSf4Fa5lhQFRpD8o8Y2FAQjytIYosY0CX7EMSwLdiQNQUN79ihmJAh68ZprrSYkDozqumuKFiQG1y7zm1bWBAyTJO7j33YUB57cBcO2hhQCALWchCpmFAVIWtoE0gYUB5NsHb/oNeQCXzrKLG2FpAUOjSnVf9VUAB/oanNcRUQAdnF66e5FNA9h0XL9vAU0CSg7MLV89SQB8ZqDPLKFNAtLaAvWjxXEDWcfGyDcBYQHLVFDe/QlhAjm2APqUdXUCU/oQu3elhQIRAHpbyZmJA3upJfclmZEAIPSpsBQ1kQAvUmWWcnGRAkIUsZCGzZEDSpTuvmsphQP90ZhknH2JAes+pLWAfYkBTXTm3fixjQLkr59aPAGJAkOrKufWrYEAavO0/II9cQNX0pje9OVhAWsRQZR1JUkBEjZECd39RQNwAfUp7kE5A+JjoUWErTUAvYC9axJBLQGUfkgD+ZkxA4eDswtUjXECwGx8TPVpXQGVwduHqOVhAi6munFuvW0D+AXlYyhtfQE5lHRmoI2JA586rpriBZEAk955TW1BkQIxCl+68ymFAiCxkIQvZYEBlwtcMU91gQIehyjoy4GJAgDg6NMmPYUANUeTg7OpgQJlpjo0QvmBAc80w1ZVjX0DPKmqMFMhdQGlu/YggrlhA+xFBHB0qUUDf9h+QhzVRQHJshDBWEk9AnORfsJaQS0DSp7QHZd5KQK8VtAnelkpApbaAvWjhWEBXUWOkwB1VQCgLWchCBlZA6VfMNMdWXkB/VlFjpAhjQDbNsRHCwGJAkHfd+JjAZEBfsJbwNbNjQN4Eb/sPuGJABWsJXzNEYUAXM82xEaJhQMhCFrKQfWNAXUGb4G1HY0Ak955TW5hiQOvk3nNqa2NACFnIQhbCYUBrhDBW0j9fQEX6E7p011dAIwXuvuPCUUC+6U1venNSQIybXzHTfFBAjBI/o8TvTUBrgD6lPahNQIGvGaa6ck1AUIWtoE0gW0D8pje96X1XQMCS/oQuPVlA586rprghYEAeZppjIwRjQPqIII4OxWRABHvRIobSZEAEbYK3/ZdmQK6unFs/qmNA8M6rprjJYkAIc+3AXENiQAIM1hK+rmJAtJhpjo0IY0CSAnffcVljQPDAXDsw12JAbIA+pT1gYEBw60cEcdReQDUs5V03rlhAPDJQZ5YBUkClvOvGxzRSQCvtQZln9U9AXbIPSQAfT0DRnVdNcRNOQGK2AfqUlk1Af2iSf8FKW0DF3/C0hnhYQH+lvOvG91ZA8ResJXxtX0AO3H3HxZNjQNZ142Oi/2JANtsAfUprZECPoco6MphkQBItYqiyXmJAuJCFLGQxYkADe9EihhpjQGl4WkMU6WNAy0xzbIRQYkBsnNx7TsViQDhYS/iaEWNAzJ/QpTtXYEBmwF60iCFeQGaMFLj7HlhA\",\"dtype\":\"float64\",\"shape\":[168]}},\"selected\":{\"id\":\"15868\",\"type\":\"Selection\"},\"selection_policy\":{\"id\":\"15867\",\"type\":\"UnionRenderers\"}},\"id\":\"15328\",\"type\":\"ColumnDataSource\"},{\"attributes\":{\"dimension\":1,\"ticker\":{\"id\":\"15286\",\"type\":\"BasicTicker\"}},\"id\":\"15289\",\"type\":\"Grid\"},{\"attributes\":{\"axis_label\":\"Value\",\"formatter\":{\"id\":\"15309\",\"type\":\"BasicTickFormatter\"},\"ticker\":{\"id\":\"15286\",\"type\":\"BasicTicker\"}},\"id\":\"15285\",\"type\":\"LinearAxis\"}],\"root_ids\":[\"15269\"]},\"title\":\"Bokeh Application\",\"version\":\"1.4.0\"}};\n",
       "  var render_items = [{\"docid\":\"332334df-567c-43a3-aa21-fd05a29bf9de\",\"roots\":{\"15269\":\"52e30ef6-de64-4afa-a957-8f6778d5a8c8\"}}];\n",
       "  root.Bokeh.embed.embed_items_notebook(docs_json, render_items);\n",
       "\n",
       "  }\n",
       "  if (root.Bokeh !== undefined) {\n",
       "    embed_document(root);\n",
       "  } else {\n",
       "    var attempts = 0;\n",
       "    var timer = setInterval(function(root) {\n",
       "      if (root.Bokeh !== undefined) {\n",
       "        clearInterval(timer);\n",
       "        embed_document(root);\n",
       "      } else {\n",
       "        attempts++;\n",
       "        if (attempts > 100) {\n",
       "          clearInterval(timer);\n",
       "          console.log(\"Bokeh: ERROR: Unable to run BokehJS code because BokehJS library is missing\");\n",
       "        }\n",
       "      }\n",
       "    }, 10, root)\n",
       "  }\n",
       "})(window);"
      ],
      "application/vnd.bokehjs_exec.v0+json": ""
     },
     "metadata": {
      "application/vnd.bokehjs_exec.v0+json": {
       "id": "15269"
      }
     },
     "output_type": "display_data"
    },
    {
     "data": {
      "text/html": [
       "\n",
       "\n",
       "\n",
       "\n",
       "\n",
       "\n",
       "  <div class=\"bk-root\" id=\"0f21ddf0-8fd4-45ca-a513-d091d4cf989d\" data-root-id=\"16014\"></div>\n"
      ]
     },
     "metadata": {},
     "output_type": "display_data"
    },
    {
     "data": {
      "application/javascript": [
       "(function(root) {\n",
       "  function embed_document(root) {\n",
       "    \n",
       "  var docs_json = {\"7c3976b6-d1b1-479a-a938-b983d1f104ac\":{\"roots\":{\"references\":[{\"attributes\":{\"below\":[{\"id\":\"16025\",\"type\":\"DatetimeAxis\"}],\"center\":[{\"id\":\"16029\",\"type\":\"Grid\"},{\"id\":\"16034\",\"type\":\"Grid\"},{\"id\":\"16071\",\"type\":\"Legend\"}],\"left\":[{\"id\":\"16030\",\"type\":\"LinearAxis\"}],\"plot_height\":320,\"plot_width\":960,\"renderers\":[{\"id\":\"16051\",\"type\":\"GlyphRenderer\"},{\"id\":\"16076\",\"type\":\"GlyphRenderer\"}],\"title\":{\"id\":\"16015\",\"type\":\"Title\"},\"toolbar\":{\"id\":\"16041\",\"type\":\"Toolbar\"},\"x_range\":{\"id\":\"16017\",\"type\":\"DataRange1d\"},\"x_scale\":{\"id\":\"16021\",\"type\":\"LinearScale\"},\"y_range\":{\"id\":\"16019\",\"type\":\"DataRange1d\"},\"y_scale\":{\"id\":\"16023\",\"type\":\"LinearScale\"}},\"id\":\"16014\",\"subtype\":\"Figure\",\"type\":\"Plot\"},{\"attributes\":{\"line_alpha\":0.1,\"line_color\":\"#1f77b4\",\"x\":{\"field\":\"x\"},\"y\":{\"field\":\"y\"}},\"id\":\"16050\",\"type\":\"Line\"},{\"attributes\":{\"source\":{\"id\":\"16048\",\"type\":\"ColumnDataSource\"}},\"id\":\"16052\",\"type\":\"CDSView\"},{\"attributes\":{},\"id\":\"16634\",\"type\":\"UnionRenderers\"},{\"attributes\":{\"mantissas\":[1,2,5],\"max_interval\":500.0,\"num_minor_ticks\":0},\"id\":\"16058\",\"type\":\"AdaptiveTicker\"},{\"attributes\":{\"items\":[{\"id\":\"16072\",\"type\":\"LegendItem\"},{\"id\":\"16098\",\"type\":\"LegendItem\"}]},\"id\":\"16071\",\"type\":\"Legend\"},{\"attributes\":{\"label\":{\"value\":\"predictions\"},\"renderers\":[{\"id\":\"16051\",\"type\":\"GlyphRenderer\"}]},\"id\":\"16072\",\"type\":\"LegendItem\"},{\"attributes\":{\"line_color\":\"red\",\"x\":{\"field\":\"x\"},\"y\":{\"field\":\"y\"}},\"id\":\"16049\",\"type\":\"Line\"},{\"attributes\":{\"line_alpha\":0.1,\"line_color\":\"#1f77b4\",\"x\":{\"field\":\"x\"},\"y\":{\"field\":\"y\"}},\"id\":\"16075\",\"type\":\"Line\"},{\"attributes\":{\"bottom_units\":\"screen\",\"fill_alpha\":{\"value\":0.5},\"fill_color\":{\"value\":\"lightgrey\"},\"left_units\":\"screen\",\"level\":\"overlay\",\"line_alpha\":{\"value\":1.0},\"line_color\":{\"value\":\"black\"},\"line_dash\":[4,4],\"line_width\":{\"value\":2},\"render_mode\":\"css\",\"right_units\":\"screen\",\"top_units\":\"screen\"},\"id\":\"16070\",\"type\":\"BoxAnnotation\"},{\"attributes\":{\"data_source\":{\"id\":\"16073\",\"type\":\"ColumnDataSource\"},\"glyph\":{\"id\":\"16074\",\"type\":\"Line\"},\"hover_glyph\":null,\"muted_glyph\":null,\"nonselection_glyph\":{\"id\":\"16075\",\"type\":\"Line\"},\"selection_glyph\":null,\"view\":{\"id\":\"16077\",\"type\":\"CDSView\"}},\"id\":\"16076\",\"type\":\"GlyphRenderer\"},{\"attributes\":{\"active_drag\":\"auto\",\"active_inspect\":\"auto\",\"active_multi\":null,\"active_scroll\":\"auto\",\"active_tap\":\"auto\",\"tools\":[{\"id\":\"16035\",\"type\":\"PanTool\"},{\"id\":\"16036\",\"type\":\"WheelZoomTool\"},{\"id\":\"16037\",\"type\":\"BoxZoomTool\"},{\"id\":\"16038\",\"type\":\"SaveTool\"},{\"id\":\"16039\",\"type\":\"ResetTool\"},{\"id\":\"16040\",\"type\":\"HelpTool\"}]},\"id\":\"16041\",\"type\":\"Toolbar\"},{\"attributes\":{},\"id\":\"16056\",\"type\":\"DatetimeTickFormatter\"},{\"attributes\":{\"ticker\":{\"id\":\"16026\",\"type\":\"DatetimeTicker\"}},\"id\":\"16029\",\"type\":\"Grid\"},{\"attributes\":{\"months\":[0,6]},\"id\":\"16068\",\"type\":\"MonthsTicker\"},{\"attributes\":{\"axis_label\":\"Timestmap\",\"formatter\":{\"id\":\"16056\",\"type\":\"DatetimeTickFormatter\"},\"ticker\":{\"id\":\"16026\",\"type\":\"DatetimeTicker\"}},\"id\":\"16025\",\"type\":\"DatetimeAxis\"},{\"attributes\":{\"overlay\":{\"id\":\"16070\",\"type\":\"BoxAnnotation\"}},\"id\":\"16037\",\"type\":\"BoxZoomTool\"},{\"attributes\":{},\"id\":\"16031\",\"type\":\"BasicTicker\"},{\"attributes\":{\"axis_label\":\"Value\",\"formatter\":{\"id\":\"16054\",\"type\":\"BasicTickFormatter\"},\"ticker\":{\"id\":\"16031\",\"type\":\"BasicTicker\"}},\"id\":\"16030\",\"type\":\"LinearAxis\"},{\"attributes\":{\"callback\":null,\"data\":{\"x\":{\"__ndarray__\":\"AACALeiCdEIAAGic64J0QgAAUAvvgnRCAAA4evKCdEIAACDp9YJ0QgAACFj5gnRCAADwxvyCdEIAANg1AIN0QgAAwKQDg3RCAACoEweDdEIAAJCCCoN0QgAAePENg3RCAABgYBGDdEIAAEjPFIN0QgAAMD4Yg3RCAAAYrRuDdEIAAAAcH4N0QgAA6Ioig3RCAADQ+SWDdEIAALhoKYN0QgAAoNcsg3RCAACIRjCDdEIAAHC1M4N0QgAAWCQ3g3RCAABAkzqDdEIAACgCPoN0QgAAEHFBg3RCAAD430SDdEIAAOBOSIN0QgAAyL1Lg3RCAACwLE+DdEIAAJibUoN0QgAAgApWg3RCAABoeVmDdEIAAFDoXIN0QgAAOFdgg3RCAAAgxmODdEIAAAg1Z4N0QgAA8KNqg3RCAADYEm6DdEIAAMCBcYN0QgAAqPB0g3RCAACQX3iDdEIAAHjOe4N0QgAAYD1/g3RCAABIrIKDdEIAADAbhoN0QgAAGIqJg3RCAAAA+YyDdEIAAOhnkIN0QgAA0NaTg3RCAAC4RZeDdEIAAKC0moN0QgAAiCOeg3RCAABwkqGDdEIAAFgBpYN0QgAAQHCog3RCAAAo36uDdEIAABBOr4N0QgAA+Lyyg3RCAADgK7aDdEIAAMiauYN0QgAAsAm9g3RCAACYeMCDdEIAAIDnw4N0QgAAaFbHg3RCAABQxcqDdEIAADg0zoN0QgAAIKPRg3RCAAAIEtWDdEIAAPCA2IN0QgAA2O/bg3RCAADAXt+DdEIAAKjN4oN0QgAAkDzmg3RCAAB4q+mDdEIAAGAa7YN0QgAASInwg3RCAAAw+PODdEIAABhn94N0QgAAANb6g3RCAADoRP6DdEIAANCzAYR0QgAAuCIFhHRCAACgkQiEdEIAAIgADIR0QgAAcG8PhHRCAABY3hKEdEIAAEBNFoR0QgAAKLwZhHRCAAAQKx2EdEIAAPiZIIR0QgAA4AgkhHRCAADIdyeEdEIAALDmKoR0QgAAmFUuhHRCAACAxDGEdEIAAGgzNYR0QgAAUKI4hHRCAAA4ETyEdEIAACCAP4R0QgAACO9ChHRCAADwXUaEdEIAANjMSYR0QgAAwDtNhHRCAACoqlCEdEIAAJAZVIR0QgAAeIhXhHRCAABg91qEdEIAAEhmXoR0QgAAMNVhhHRCAAAYRGWEdEIAAACzaIR0QgAA6CFshHRCAADQkG+EdEIAALj/coR0QgAAoG52hHRCAACI3XmEdEIAAHBMfYR0QgAAWLuAhHRCAABAKoSEdEIAACiZh4R0QgAAEAiLhHRCAAD4do6EdEIAAODlkYR0QgAAyFSVhHRCAACww5iEdEIAAJgynIR0QgAAgKGfhHRCAABoEKOEdEIAAFB/poR0QgAAOO6phHRCAAAgXa2EdEIAAAjMsIR0QgAA8Dq0hHRCAADYqbeEdEIAAMAYu4R0QgAAqIe+hHRCAACQ9sGEdEIAAHhlxYR0QgAAYNTIhHRCAABIQ8yEdEIAADCyz4R0QgAAGCHThHRCAAAAkNaEdEIAAOj+2YR0QgAA0G3dhHRCAAC43OCEdEIAAKBL5IR0QgAAiLrnhHRCAABwKeuEdEIAAFiY7oR0QgAAQAfyhHRCAAAodvWEdEIAABDl+IR0QgAA+FP8hHRCAADgwv+EdEIAAMgxA4V0QgAAsKAGhXRCAACYDwqFdEIAAIB+DYV0QgAAaO0QhXRCAABQXBSFdEIAADjLF4V0QgAAIDobhXRCAAAIqR6FdEIAAPAXIoV0QgAA2IYlhXRC\",\"dtype\":\"float64\",\"shape\":[168]},\"y\":{\"__ndarray__\":\"y+43yu6XVEA6eptpNARTQAuURzpOEFNAsA2CU5lwUUB8VJA2PTNRQK465GUjJ1FA6pCXjRxmU0Dayk+Is/JaQOCUc6XaqlxAr+uHHb2NX0CqnSJbhgVhQPdgUOkD/GJAA/eFL7HeY0BMQtF6/JliQBLGRwVpw2FAJLzWruqAZkB12r/nq4VlQPqfppwrlWNAxZdYN2kOY0DgKbJlWIxhQCADsKwxKmFAsDFqldS1YEAa/hH0oB1dQKytKPDEpVZAegU07tb5VEC+feFLrLtTQLvfKLvfKFNArAX/CHpwUUCAXBOBXDNRQGAkfneB0lFAbyoTtkGwVECqvxyRYkhbQPze/E9TrltAhwFY1hhVYUCNPsB94btgQI7o13CLA2RAczCo9AE+YkBPBWnTMzNjQFLWGLVKSmJAVvoA94VfZEClBvaOqSFoQOC+8CXWzWRAYcuw2Jx2Y0DQESmG+tthQKxL4YCRmGFAn8IBI/G7YEDyWcQkFC1cQKfaigJPXFZAmz3J97FaVEAQZ+UnxFlTQBt367wCWlNAKmuMWiWVUUCBkfjdBepQQDFzD6VElVFAxrHPIibhVECf5PtYzf5aQCl9gPvCV15AaCGZ5fIuYEA6chgfFSRhQCDgvvAlpmJAqU3PjPDKYkAab2hy43lhQMF94UusK2JAKmQAljWmYkAyKkibnuliQFBcSGa5fGNANhpCBmA5Y0C6W+cV0EhhQCve0OTGc2FAMBs5jI/aYECHJy4ksxxcQKp4Q5Mb71ZARYEnLiRzVEA7RbYMi01TQBt367wCWlNALKBxt85LUUAmArkmArlQQPq5HYjoV1FASHmk4wRzVEBTXT/s6M1aQHiacq5UG19APPZZxCQkYUDlObj6ljxhQJrm6WQs0WJA2mgIGYAlYkAgA7CsMSphQJTE7y5Q7mFAmrmHUqIaY0DA+Z+mnCtiQBv6NdziiGNAYBOBXBOxYUBmp8iWYWFhQIcuuuiiC2FAJvhH0IN2YEBRm54Z4ZVbQKfaigJPXFZAmT3J97FaVEDniBRD/WVTQOqQl40cZlNAMHMPpUSVUUAr1VYUeAJRQCfN08lYAlFAF9C4W+c1VEB1aHLjOXhaQKgq3tDk5l5AFhAGlT5AX0C6iEkoWv9gQPaykcP4aGJAFonfXaBcYkChnSJbhgVhQNDuN8ruV2NAgQzAssYYZkCly3vzP+1pQDsHV9+SZWRA9/////9/YUBy2chhfPRhQEvhgJH4HWFAJpf35n/aYEAtbXpmhNdbQNZWFHji4lZASlTFG5q8VEAQMgDLGqNTQPAuUB7p+FNAB5U+wH2hUUAyqPQB7ktRQGMkfneB0lFAPkxC0Xq8VEAIjrL7jVJdQNE0GkIGYGBArTNYoTPoYUCRWDdpnp5hQFBcSGa5fGNALu3f89WCY0Bu8z9NOddiQKF6MZ96gWJAeHpmhNeqYUDr13CLYx9iQMF94UusK2JAbvM/TTnXYkAb6TjBdEdgQGVQ6QPcF2FAIYfxUUEqYUBghsXmtN9bQIKacq5U+1ZAIEEP2ikSVUBG6/HnduBTQMaxzyIm4VRA5vLe/E/TUkBgurO9LmVSQGXuoZSoilNARBdddNEFVUBSrJs0T8dfQKJmT/J9HGBAwnNw9S35YEBrwT+CHkRiQFdHbzONdmNA+yPoQTuVY0BSMN3ZXldnQIkdvc00WmlAV/CPoActY0DWpXDASIxhQFh00UUXLWNApciWYbEpZUAml/fmf8pmQMU2CE5lkmFA1U6RLcNCYUCJOCs/IS5dQGBi3aR5mldA\",\"dtype\":\"float64\",\"shape\":[168]}},\"selected\":{\"id\":\"16635\",\"type\":\"Selection\"},\"selection_policy\":{\"id\":\"16634\",\"type\":\"UnionRenderers\"}},\"id\":\"16073\",\"type\":\"ColumnDataSource\"},{\"attributes\":{\"dimension\":1,\"ticker\":{\"id\":\"16031\",\"type\":\"BasicTicker\"}},\"id\":\"16034\",\"type\":\"Grid\"},{\"attributes\":{\"num_minor_ticks\":5,\"tickers\":[{\"id\":\"16058\",\"type\":\"AdaptiveTicker\"},{\"id\":\"16059\",\"type\":\"AdaptiveTicker\"},{\"id\":\"16060\",\"type\":\"AdaptiveTicker\"},{\"id\":\"16061\",\"type\":\"DaysTicker\"},{\"id\":\"16062\",\"type\":\"DaysTicker\"},{\"id\":\"16063\",\"type\":\"DaysTicker\"},{\"id\":\"16064\",\"type\":\"DaysTicker\"},{\"id\":\"16065\",\"type\":\"MonthsTicker\"},{\"id\":\"16066\",\"type\":\"MonthsTicker\"},{\"id\":\"16067\",\"type\":\"MonthsTicker\"},{\"id\":\"16068\",\"type\":\"MonthsTicker\"},{\"id\":\"16069\",\"type\":\"YearsTicker\"}]},\"id\":\"16026\",\"type\":\"DatetimeTicker\"},{\"attributes\":{},\"id\":\"16036\",\"type\":\"WheelZoomTool\"},{\"attributes\":{\"base\":60,\"mantissas\":[1,2,5,10,15,20,30],\"max_interval\":1800000.0,\"min_interval\":1000.0,\"num_minor_ticks\":0},\"id\":\"16059\",\"type\":\"AdaptiveTicker\"},{\"attributes\":{},\"id\":\"16023\",\"type\":\"LinearScale\"},{\"attributes\":{},\"id\":\"16038\",\"type\":\"SaveTool\"},{\"attributes\":{},\"id\":\"16084\",\"type\":\"Selection\"},{\"attributes\":{\"base\":24,\"mantissas\":[1,2,4,6,8,12],\"max_interval\":43200000.0,\"min_interval\":3600000.0,\"num_minor_ticks\":0},\"id\":\"16060\",\"type\":\"AdaptiveTicker\"},{\"attributes\":{},\"id\":\"16069\",\"type\":\"YearsTicker\"},{\"attributes\":{},\"id\":\"16021\",\"type\":\"LinearScale\"},{\"attributes\":{\"line_color\":\"blue\",\"x\":{\"field\":\"x\"},\"y\":{\"field\":\"y\"}},\"id\":\"16074\",\"type\":\"Line\"},{\"attributes\":{\"source\":{\"id\":\"16073\",\"type\":\"ColumnDataSource\"}},\"id\":\"16077\",\"type\":\"CDSView\"},{\"attributes\":{\"months\":[0,4,8]},\"id\":\"16067\",\"type\":\"MonthsTicker\"},{\"attributes\":{},\"id\":\"16039\",\"type\":\"ResetTool\"},{\"attributes\":{\"label\":{\"value\":\"targets\"},\"renderers\":[{\"id\":\"16076\",\"type\":\"GlyphRenderer\"}]},\"id\":\"16098\",\"type\":\"LegendItem\"},{\"attributes\":{\"callback\":null},\"id\":\"16019\",\"type\":\"DataRange1d\"},{\"attributes\":{\"months\":[0,2,4,6,8,10]},\"id\":\"16066\",\"type\":\"MonthsTicker\"},{\"attributes\":{},\"id\":\"16083\",\"type\":\"UnionRenderers\"},{\"attributes\":{\"days\":[1,2,3,4,5,6,7,8,9,10,11,12,13,14,15,16,17,18,19,20,21,22,23,24,25,26,27,28,29,30,31]},\"id\":\"16061\",\"type\":\"DaysTicker\"},{\"attributes\":{},\"id\":\"16035\",\"type\":\"PanTool\"},{\"attributes\":{\"months\":[0,1,2,3,4,5,6,7,8,9,10,11]},\"id\":\"16065\",\"type\":\"MonthsTicker\"},{\"attributes\":{\"callback\":null,\"data\":{\"x\":{\"__ndarray__\":\"AACALeiCdEIAAGic64J0QgAAUAvvgnRCAAA4evKCdEIAACDp9YJ0QgAACFj5gnRCAADwxvyCdEIAANg1AIN0QgAAwKQDg3RCAACoEweDdEIAAJCCCoN0QgAAePENg3RCAABgYBGDdEIAAEjPFIN0QgAAMD4Yg3RCAAAYrRuDdEIAAAAcH4N0QgAA6Ioig3RCAADQ+SWDdEIAALhoKYN0QgAAoNcsg3RCAACIRjCDdEIAAHC1M4N0QgAAWCQ3g3RCAABAkzqDdEIAACgCPoN0QgAAEHFBg3RCAAD430SDdEIAAOBOSIN0QgAAyL1Lg3RCAACwLE+DdEIAAJibUoN0QgAAgApWg3RCAABoeVmDdEIAAFDoXIN0QgAAOFdgg3RCAAAgxmODdEIAAAg1Z4N0QgAA8KNqg3RCAADYEm6DdEIAAMCBcYN0QgAAqPB0g3RCAACQX3iDdEIAAHjOe4N0QgAAYD1/g3RCAABIrIKDdEIAADAbhoN0QgAAGIqJg3RCAAAA+YyDdEIAAOhnkIN0QgAA0NaTg3RCAAC4RZeDdEIAAKC0moN0QgAAiCOeg3RCAABwkqGDdEIAAFgBpYN0QgAAQHCog3RCAAAo36uDdEIAABBOr4N0QgAA+Lyyg3RCAADgK7aDdEIAAMiauYN0QgAAsAm9g3RCAACYeMCDdEIAAIDnw4N0QgAAaFbHg3RCAABQxcqDdEIAADg0zoN0QgAAIKPRg3RCAAAIEtWDdEIAAPCA2IN0QgAA2O/bg3RCAADAXt+DdEIAAKjN4oN0QgAAkDzmg3RCAAB4q+mDdEIAAGAa7YN0QgAASInwg3RCAAAw+PODdEIAABhn94N0QgAAANb6g3RCAADoRP6DdEIAANCzAYR0QgAAuCIFhHRCAACgkQiEdEIAAIgADIR0QgAAcG8PhHRCAABY3hKEdEIAAEBNFoR0QgAAKLwZhHRCAAAQKx2EdEIAAPiZIIR0QgAA4AgkhHRCAADIdyeEdEIAALDmKoR0QgAAmFUuhHRCAACAxDGEdEIAAGgzNYR0QgAAUKI4hHRCAAA4ETyEdEIAACCAP4R0QgAACO9ChHRCAADwXUaEdEIAANjMSYR0QgAAwDtNhHRCAACoqlCEdEIAAJAZVIR0QgAAeIhXhHRCAABg91qEdEIAAEhmXoR0QgAAMNVhhHRCAAAYRGWEdEIAAACzaIR0QgAA6CFshHRCAADQkG+EdEIAALj/coR0QgAAoG52hHRCAACI3XmEdEIAAHBMfYR0QgAAWLuAhHRCAABAKoSEdEIAACiZh4R0QgAAEAiLhHRCAAD4do6EdEIAAODlkYR0QgAAyFSVhHRCAACww5iEdEIAAJgynIR0QgAAgKGfhHRCAABoEKOEdEIAAFB/poR0QgAAOO6phHRCAAAgXa2EdEIAAAjMsIR0QgAA8Dq0hHRCAADYqbeEdEIAAMAYu4R0QgAAqIe+hHRCAACQ9sGEdEIAAHhlxYR0QgAAYNTIhHRCAABIQ8yEdEIAADCyz4R0QgAAGCHThHRCAAAAkNaEdEIAAOj+2YR0QgAA0G3dhHRCAAC43OCEdEIAAKBL5IR0QgAAiLrnhHRCAABwKeuEdEIAAFiY7oR0QgAAQAfyhHRCAAAodvWEdEIAABDl+IR0QgAA+FP8hHRCAADgwv+EdEIAAMgxA4V0QgAAsKAGhXRCAACYDwqFdEIAAIB+DYV0QgAAaO0QhXRCAABQXBSFdEIAADjLF4V0QgAAIDobhXRCAAAIqR6FdEIAAPAXIoV0QgAA2IYlhXRC\",\"dtype\":\"float64\",\"shape\":[168]},\"y\":{\"__ndarray__\":\"AAAAQBPaVEAAAABAFdZSQAAAAGBXP1JAAAAAACu0UEAAAABAqF1QQAAAAMB7y09AAAAA4G26UkAAAACAJ11cQAAAACCWXV9AAAAAoIxcYUAAAADgFj5iQAAAAEA/EWRAAAAAwO/iZEAAAADAS0lkQAAAAOBUr2NAAAAAIJMHY0AAAACgChVjQAAAACDatWVAAAAAQIWDZEAAAAAgaoVjQAAAAOCSW2JAAAAAgJZEYUAAAACgghtdQAAAAGDV+VZAAAAAwFQkVUAAAAAgx55TQAAAAKAn/lFAAAAAgA8PUUAAAADAMCpRQAAAAODYUVBAAAAAAPKNUkAAAACAx1pbQAAAAOA9719AAAAAIPniYEAAAABAgxpiQAAAAEAYrmNAAAAAACk8ZEAAAAAA915kQAAAAKCHamNAAAAAgLnaYkAAAAAA2A5jQAAAAIDHnGRAAAAAgKJ3ZUAAAADALLNjQAAAAEBVu2JAAAAAgCl3YUAAAABA1kJeQAAAAABlgllAAAAAQIQxVUAAAABAWKBTQAAAAEBEDVNAAAAAwCosUkAAAABgfyJRQAAAAGC5LVFAAAAAYPfCU0AAAADAtypcQAAAACAAZGBAAAAAAGFLYUAAAACgyo1iQAAAAACAHGJAAAAAYI7aYkAAAADAAMBiQAAAAEBuG2JAAAAAwMWZY0AAAACADcljQAAAAKCleWRAAAAAgEAeY0AAAAAAgWdiQAAAACDjmWFAAAAAYEqOYEAAAAAggWtcQAAAAIARf1lAAAAAwMtaVUAAAABgOZRTQAAAAEArRVJAAAAA4JzuUUAAAAAA/zBRQAAAAKB2qFFAAAAAQETWVEAAAAAAOIBcQAAAAAD7r19AAAAAQA6tYEAAAABAS4xhQAAAAODP52FAAAAAgNoZYkAAAACg8vthQAAAAACo2mJAAAAAwEonYkAAAAAARApjQAAAAKBhlGNAAAAAoFQZY0AAAABARGlhQAAAAKDcrGFAAAAAQMqiYEAAAAAAAzNcQAAAAMBMRFlAAAAAQNxvVEAAAADgM91TQAAAAED3kFJAAAAAQAACUkAAAABAXAdRQAAAACC9NVFAAAAAACyHU0AAAABgptxZQAAAAEApWVxAAAAAQD2pX0AAAAAg9VBhQAAAAAAJrmFAAAAAwKbIYkAAAADAivBhQAAAAOCmImJAAAAA4MKWYUAAAACg1qRiQAAAAIDr92JAAAAA4PnRYkAAAABgjcZgQAAAAOCzxGBAAAAA4HiVXUAAAACgNXtZQAAAAAB2slRAAAAAoENmVEAAAABgTOtSQAAAACACw1JAAAAAQIz4UEAAAAAArpdQQAAAAGDqqFBAAAAAwAMFU0AAAACgCMdYQAAAAEBaDF1AAAAAwA3qX0AAAAAARq5gQAAAACBz1mBAAAAAgE/gYUAAAAAA9F9gQAAAAOD6cGBAAAAAQGE1YEAAAACAgDlhQAAAAIB+dGNAAAAA4N1eZEAAAAAA/btiQAAAACDQtWBAAAAA4DE2X0AAAADAWjVYQAAAAKDcU1RAAAAAQPiUVEAAAAAgFMNUQAAAAMBa2FRAAAAAgObSU0AAAADA9tRSQAAAAIAxm1FAAAAAINk/VEAAAABgZFdcQAAAAAAHp1xAAAAAYDx3X0AAAADgxURhQAAAAADtdGJAAAAAIIcfY0AAAADAy15iQAAAAIB7ZGFAAAAAgAZ6YkAAAAAgumFjQAAAAACgYWVAAAAAoNmcY0AAAAAANvphQAAAAODwIWFAAAAAYJhOYEAAAACAI6VcQAAAAGAcx1dA\",\"dtype\":\"float64\",\"shape\":[168]}},\"selected\":{\"id\":\"16084\",\"type\":\"Selection\"},\"selection_policy\":{\"id\":\"16083\",\"type\":\"UnionRenderers\"}},\"id\":\"16048\",\"type\":\"ColumnDataSource\"},{\"attributes\":{\"data_source\":{\"id\":\"16048\",\"type\":\"ColumnDataSource\"},\"glyph\":{\"id\":\"16049\",\"type\":\"Line\"},\"hover_glyph\":null,\"muted_glyph\":null,\"nonselection_glyph\":{\"id\":\"16050\",\"type\":\"Line\"},\"selection_glyph\":null,\"view\":{\"id\":\"16052\",\"type\":\"CDSView\"}},\"id\":\"16051\",\"type\":\"GlyphRenderer\"},{\"attributes\":{\"days\":[1,15]},\"id\":\"16064\",\"type\":\"DaysTicker\"},{\"attributes\":{\"text\":\"Predictions over the test dataset for MT_321\"},\"id\":\"16015\",\"type\":\"Title\"},{\"attributes\":{\"callback\":null},\"id\":\"16017\",\"type\":\"DataRange1d\"},{\"attributes\":{},\"id\":\"16635\",\"type\":\"Selection\"},{\"attributes\":{\"days\":[1,8,15,22]},\"id\":\"16063\",\"type\":\"DaysTicker\"},{\"attributes\":{},\"id\":\"16040\",\"type\":\"HelpTool\"},{\"attributes\":{\"days\":[1,4,7,10,13,16,19,22,25,28]},\"id\":\"16062\",\"type\":\"DaysTicker\"},{\"attributes\":{},\"id\":\"16054\",\"type\":\"BasicTickFormatter\"}],\"root_ids\":[\"16014\"]},\"title\":\"Bokeh Application\",\"version\":\"1.4.0\"}};\n",
       "  var render_items = [{\"docid\":\"7c3976b6-d1b1-479a-a938-b983d1f104ac\",\"roots\":{\"16014\":\"0f21ddf0-8fd4-45ca-a513-d091d4cf989d\"}}];\n",
       "  root.Bokeh.embed.embed_items_notebook(docs_json, render_items);\n",
       "\n",
       "  }\n",
       "  if (root.Bokeh !== undefined) {\n",
       "    embed_document(root);\n",
       "  } else {\n",
       "    var attempts = 0;\n",
       "    var timer = setInterval(function(root) {\n",
       "      if (root.Bokeh !== undefined) {\n",
       "        clearInterval(timer);\n",
       "        embed_document(root);\n",
       "      } else {\n",
       "        attempts++;\n",
       "        if (attempts > 100) {\n",
       "          clearInterval(timer);\n",
       "          console.log(\"Bokeh: ERROR: Unable to run BokehJS code because BokehJS library is missing\");\n",
       "        }\n",
       "      }\n",
       "    }, 10, root)\n",
       "  }\n",
       "})(window);"
      ],
      "application/vnd.bokehjs_exec.v0+json": ""
     },
     "metadata": {
      "application/vnd.bokehjs_exec.v0+json": {
       "id": "16014"
      }
     },
     "output_type": "display_data"
    },
    {
     "data": {
      "text/html": [
       "\n",
       "\n",
       "\n",
       "\n",
       "\n",
       "\n",
       "  <div class=\"bk-root\" id=\"02e2acc7-9a4f-4962-9f48-4b9b0e1be22c\" data-root-id=\"16781\"></div>\n"
      ]
     },
     "metadata": {},
     "output_type": "display_data"
    },
    {
     "data": {
      "application/javascript": [
       "(function(root) {\n",
       "  function embed_document(root) {\n",
       "    \n",
       "  var docs_json = {\"810c7c53-7963-432b-9058-10deea5c5eae\":{\"roots\":{\"references\":[{\"attributes\":{\"below\":[{\"id\":\"16792\",\"type\":\"DatetimeAxis\"}],\"center\":[{\"id\":\"16796\",\"type\":\"Grid\"},{\"id\":\"16801\",\"type\":\"Grid\"},{\"id\":\"16838\",\"type\":\"Legend\"}],\"left\":[{\"id\":\"16797\",\"type\":\"LinearAxis\"}],\"plot_height\":320,\"plot_width\":960,\"renderers\":[{\"id\":\"16818\",\"type\":\"GlyphRenderer\"},{\"id\":\"16843\",\"type\":\"GlyphRenderer\"}],\"title\":{\"id\":\"16782\",\"type\":\"Title\"},\"toolbar\":{\"id\":\"16808\",\"type\":\"Toolbar\"},\"x_range\":{\"id\":\"16784\",\"type\":\"DataRange1d\"},\"x_scale\":{\"id\":\"16788\",\"type\":\"LinearScale\"},\"y_range\":{\"id\":\"16786\",\"type\":\"DataRange1d\"},\"y_scale\":{\"id\":\"16790\",\"type\":\"LinearScale\"}},\"id\":\"16781\",\"subtype\":\"Figure\",\"type\":\"Plot\"},{\"attributes\":{\"line_color\":\"blue\",\"x\":{\"field\":\"x\"},\"y\":{\"field\":\"y\"}},\"id\":\"16841\",\"type\":\"Line\"},{\"attributes\":{},\"id\":\"16798\",\"type\":\"BasicTicker\"},{\"attributes\":{\"axis_label\":\"Timestmap\",\"formatter\":{\"id\":\"16823\",\"type\":\"DatetimeTickFormatter\"},\"ticker\":{\"id\":\"16793\",\"type\":\"DatetimeTicker\"}},\"id\":\"16792\",\"type\":\"DatetimeAxis\"},{\"attributes\":{},\"id\":\"16790\",\"type\":\"LinearScale\"},{\"attributes\":{\"callback\":null,\"data\":{\"x\":{\"__ndarray__\":\"AACALeiCdEIAAGic64J0QgAAUAvvgnRCAAA4evKCdEIAACDp9YJ0QgAACFj5gnRCAADwxvyCdEIAANg1AIN0QgAAwKQDg3RCAACoEweDdEIAAJCCCoN0QgAAePENg3RCAABgYBGDdEIAAEjPFIN0QgAAMD4Yg3RCAAAYrRuDdEIAAAAcH4N0QgAA6Ioig3RCAADQ+SWDdEIAALhoKYN0QgAAoNcsg3RCAACIRjCDdEIAAHC1M4N0QgAAWCQ3g3RCAABAkzqDdEIAACgCPoN0QgAAEHFBg3RCAAD430SDdEIAAOBOSIN0QgAAyL1Lg3RCAACwLE+DdEIAAJibUoN0QgAAgApWg3RCAABoeVmDdEIAAFDoXIN0QgAAOFdgg3RCAAAgxmODdEIAAAg1Z4N0QgAA8KNqg3RCAADYEm6DdEIAAMCBcYN0QgAAqPB0g3RCAACQX3iDdEIAAHjOe4N0QgAAYD1/g3RCAABIrIKDdEIAADAbhoN0QgAAGIqJg3RCAAAA+YyDdEIAAOhnkIN0QgAA0NaTg3RCAAC4RZeDdEIAAKC0moN0QgAAiCOeg3RCAABwkqGDdEIAAFgBpYN0QgAAQHCog3RCAAAo36uDdEIAABBOr4N0QgAA+Lyyg3RCAADgK7aDdEIAAMiauYN0QgAAsAm9g3RCAACYeMCDdEIAAIDnw4N0QgAAaFbHg3RCAABQxcqDdEIAADg0zoN0QgAAIKPRg3RCAAAIEtWDdEIAAPCA2IN0QgAA2O/bg3RCAADAXt+DdEIAAKjN4oN0QgAAkDzmg3RCAAB4q+mDdEIAAGAa7YN0QgAASInwg3RCAAAw+PODdEIAABhn94N0QgAAANb6g3RCAADoRP6DdEIAANCzAYR0QgAAuCIFhHRCAACgkQiEdEIAAIgADIR0QgAAcG8PhHRCAABY3hKEdEIAAEBNFoR0QgAAKLwZhHRCAAAQKx2EdEIAAPiZIIR0QgAA4AgkhHRCAADIdyeEdEIAALDmKoR0QgAAmFUuhHRCAACAxDGEdEIAAGgzNYR0QgAAUKI4hHRCAAA4ETyEdEIAACCAP4R0QgAACO9ChHRCAADwXUaEdEIAANjMSYR0QgAAwDtNhHRCAACoqlCEdEIAAJAZVIR0QgAAeIhXhHRCAABg91qEdEIAAEhmXoR0QgAAMNVhhHRCAAAYRGWEdEIAAACzaIR0QgAA6CFshHRCAADQkG+EdEIAALj/coR0QgAAoG52hHRCAACI3XmEdEIAAHBMfYR0QgAAWLuAhHRCAABAKoSEdEIAACiZh4R0QgAAEAiLhHRCAAD4do6EdEIAAODlkYR0QgAAyFSVhHRCAACww5iEdEIAAJgynIR0QgAAgKGfhHRCAABoEKOEdEIAAFB/poR0QgAAOO6phHRCAAAgXa2EdEIAAAjMsIR0QgAA8Dq0hHRCAADYqbeEdEIAAMAYu4R0QgAAqIe+hHRCAACQ9sGEdEIAAHhlxYR0QgAAYNTIhHRCAABIQ8yEdEIAADCyz4R0QgAAGCHThHRCAAAAkNaEdEIAAOj+2YR0QgAA0G3dhHRCAAC43OCEdEIAAKBL5IR0QgAAiLrnhHRCAABwKeuEdEIAAFiY7oR0QgAAQAfyhHRCAAAodvWEdEIAABDl+IR0QgAA+FP8hHRCAADgwv+EdEIAAMgxA4V0QgAAsKAGhXRCAACYDwqFdEIAAIB+DYV0QgAAaO0QhXRCAABQXBSFdEIAADjLF4V0QgAAIDobhXRCAAAIqR6FdEIAAPAXIoV0QgAA2IYlhXRC\",\"dtype\":\"float64\",\"shape\":[168]},\"y\":{\"__ndarray__\":\"t8arVTDiR0AEs/OMYj9HQP+y84xiP0dAMLW8qKI8SECuo837FJdIQMoxaLA1BU9AliFYR5t3U0D8mqmMFKJUQBdLkfR2ulVA6+C+cb58W0DNUZMWxG1gQNKjdMqhUmBA4PgIcgwaXkBGY4LDURNgQEUYmJ1nVGFAXLgWa7zaXUCaW+/6Kr9gQB/QEs7wwGFAgjEaExxOYEDY3pwkCztiQI0JDkdN2mBAogTg1JmxYEDxMqAlnGFbQB5MIptQW0pAYNpjHv6ESEAttbyoojxIQC21vKiiPEhAs8arVTDiR0BvOGrSgrhJQCF5A6hfs1FAcE6ShR0UU0CKrSnge+hYQC2pl6j77VZA+ps6M+5CWUCQut+G/NdeQBxt3qe4ZGBASumUQ6W6YEAsy+RbPZhhQAY4dWbcRWNAGCci9IHOYUAk/xUos1piQCcuGYJ19GJACX4xGhPcYUAcViVORGhiQLgL12KN12FAarxaBSMeYUDggri9OUlaQDrlUKk+d01AlyLp7XQYSEAxtbyoojxIQLTGq1Uw4kdAy0eQY9BgSECmgO+h+UtJQGUTaiu0K1FA5hnFfnQjVEBCKny2m2xXQG39QXgZ0FdAxQ35r0AZW0AMeu1/rJheQMVRkxbEbWBARkzJad0WYkDVr5nKSKFhQFjNrXd9lWJA9tluslcSYkA/WO5phGVjQIhsQm2FNmJADyci9IHOYUCTRDahtsJiQKPtJnsltWJAM3TVNayKYUDQJLIJtRVZQHRbSCyeA0lAGTTYmgK+R0CDoQTg1JlHQC21vKiiPEhAZf1BeBnQR0DgyHRxcN9IQPlWDyaRTU9AUp6qHbv7UUD2d8sy+VZVQBY02JoCvldAOc0GqfDZWkAiFs+BJ1dgQAvVQECk6WFAtdzTCMs9YUBIb6fD+GFhQH63LJNv9WBACckbQP2aYEASyRtA/ZpgQK4z4y5cS2FAb9SkBXG7Y0DLjLtwLVZiQA8ERJpmg2JAio8gx6CBYUDi4L5xvnxbQOwmeyX1EkpATVl/EF4GSEAZNNiaAr5HQJci6e10GEhA5etSy4sqSEBe2mMe/oRIQPpho39e+0tASVjuaYRlU0A371NcMoRVQBhvAPVrpllAtrsX/GI0W0By8z7FJcNfQBOhD3QuJ2FAoOEBe35mYUBwQm2FdsVhQJAVM0f0KGJAf7csk2/1YEBSe8zDn7BiQFJHm/cp7mFAr+j4CHKMYkCTeGdtLIVjQC/657X/MWJAvqiiPFV7YEBgfe4QU/JbQP1ho39e+0tA9mw32SupSED5bDfZK6lIQMdHkGPQYEhA1qWWF1WUSUDYpZYXVZRJQAbVQECk6VFApouD+8b5VUARBdVAQCRXQOkOMSWndVdAe1C00tBVXEAFTy7AUEJhQClR99uQP2JAaJl8qwfTYUC8hcTiOTBhQFxqeVFFOWFAR2+nw/hhYUBUU8D30DxjQAytNHTVdWJAuGrH7l7wX0ByZUvfkRBhQMhduBZrvGFAR7qR6eIgYEAmTCKbUFtaQKFdEUjeAEpAYNpjHv6ESED2bDfZK6lIQOLrUsuLKkhAV7eFxOI5SUAP7hvnyydJQOv4CHIMGk5AivJU7djdUkA7EjK2Tc9UQHqhBODUmVdAWcQ7a2MpX0CIO8SUnFZfQPgfK2aOqGBAzru+yu/vYkD6vYfmL+1jQM3jypa+Y2JAPCnrD8LLYkD4sWLmiJ5iQL+R6eLgfmJAgsNRkxZEYkDqX4Eyq7liQJ0cKtXnTmNATfW5Q0wJYkBXoMxqbj1bQE5xyRCso0pA\",\"dtype\":\"float64\",\"shape\":[168]}},\"selected\":{\"id\":\"17424\",\"type\":\"Selection\"},\"selection_policy\":{\"id\":\"17423\",\"type\":\"UnionRenderers\"}},\"id\":\"16840\",\"type\":\"ColumnDataSource\"},{\"attributes\":{},\"id\":\"16788\",\"type\":\"LinearScale\"},{\"attributes\":{},\"id\":\"16807\",\"type\":\"HelpTool\"},{\"attributes\":{},\"id\":\"17423\",\"type\":\"UnionRenderers\"},{\"attributes\":{\"mantissas\":[1,2,5],\"max_interval\":500.0,\"num_minor_ticks\":0},\"id\":\"16825\",\"type\":\"AdaptiveTicker\"},{\"attributes\":{\"line_alpha\":0.1,\"line_color\":\"#1f77b4\",\"x\":{\"field\":\"x\"},\"y\":{\"field\":\"y\"}},\"id\":\"16817\",\"type\":\"Line\"},{\"attributes\":{\"days\":[1,2,3,4,5,6,7,8,9,10,11,12,13,14,15,16,17,18,19,20,21,22,23,24,25,26,27,28,29,30,31]},\"id\":\"16828\",\"type\":\"DaysTicker\"},{\"attributes\":{\"days\":[1,4,7,10,13,16,19,22,25,28]},\"id\":\"16829\",\"type\":\"DaysTicker\"},{\"attributes\":{\"callback\":null},\"id\":\"16786\",\"type\":\"DataRange1d\"},{\"attributes\":{\"overlay\":{\"id\":\"16837\",\"type\":\"BoxAnnotation\"}},\"id\":\"16804\",\"type\":\"BoxZoomTool\"},{\"attributes\":{},\"id\":\"16851\",\"type\":\"Selection\"},{\"attributes\":{\"days\":[1,8,15,22]},\"id\":\"16830\",\"type\":\"DaysTicker\"},{\"attributes\":{},\"id\":\"16805\",\"type\":\"SaveTool\"},{\"attributes\":{\"days\":[1,15]},\"id\":\"16831\",\"type\":\"DaysTicker\"},{\"attributes\":{\"callback\":null},\"id\":\"16784\",\"type\":\"DataRange1d\"},{\"attributes\":{},\"id\":\"16806\",\"type\":\"ResetTool\"},{\"attributes\":{\"callback\":null,\"data\":{\"x\":{\"__ndarray__\":\"AACALeiCdEIAAGic64J0QgAAUAvvgnRCAAA4evKCdEIAACDp9YJ0QgAACFj5gnRCAADwxvyCdEIAANg1AIN0QgAAwKQDg3RCAACoEweDdEIAAJCCCoN0QgAAePENg3RCAABgYBGDdEIAAEjPFIN0QgAAMD4Yg3RCAAAYrRuDdEIAAAAcH4N0QgAA6Ioig3RCAADQ+SWDdEIAALhoKYN0QgAAoNcsg3RCAACIRjCDdEIAAHC1M4N0QgAAWCQ3g3RCAABAkzqDdEIAACgCPoN0QgAAEHFBg3RCAAD430SDdEIAAOBOSIN0QgAAyL1Lg3RCAACwLE+DdEIAAJibUoN0QgAAgApWg3RCAABoeVmDdEIAAFDoXIN0QgAAOFdgg3RCAAAgxmODdEIAAAg1Z4N0QgAA8KNqg3RCAADYEm6DdEIAAMCBcYN0QgAAqPB0g3RCAACQX3iDdEIAAHjOe4N0QgAAYD1/g3RCAABIrIKDdEIAADAbhoN0QgAAGIqJg3RCAAAA+YyDdEIAAOhnkIN0QgAA0NaTg3RCAAC4RZeDdEIAAKC0moN0QgAAiCOeg3RCAABwkqGDdEIAAFgBpYN0QgAAQHCog3RCAAAo36uDdEIAABBOr4N0QgAA+Lyyg3RCAADgK7aDdEIAAMiauYN0QgAAsAm9g3RCAACYeMCDdEIAAIDnw4N0QgAAaFbHg3RCAABQxcqDdEIAADg0zoN0QgAAIKPRg3RCAAAIEtWDdEIAAPCA2IN0QgAA2O/bg3RCAADAXt+DdEIAAKjN4oN0QgAAkDzmg3RCAAB4q+mDdEIAAGAa7YN0QgAASInwg3RCAAAw+PODdEIAABhn94N0QgAAANb6g3RCAADoRP6DdEIAANCzAYR0QgAAuCIFhHRCAACgkQiEdEIAAIgADIR0QgAAcG8PhHRCAABY3hKEdEIAAEBNFoR0QgAAKLwZhHRCAAAQKx2EdEIAAPiZIIR0QgAA4AgkhHRCAADIdyeEdEIAALDmKoR0QgAAmFUuhHRCAACAxDGEdEIAAGgzNYR0QgAAUKI4hHRCAAA4ETyEdEIAACCAP4R0QgAACO9ChHRCAADwXUaEdEIAANjMSYR0QgAAwDtNhHRCAACoqlCEdEIAAJAZVIR0QgAAeIhXhHRCAABg91qEdEIAAEhmXoR0QgAAMNVhhHRCAAAYRGWEdEIAAACzaIR0QgAA6CFshHRCAADQkG+EdEIAALj/coR0QgAAoG52hHRCAACI3XmEdEIAAHBMfYR0QgAAWLuAhHRCAABAKoSEdEIAACiZh4R0QgAAEAiLhHRCAAD4do6EdEIAAODlkYR0QgAAyFSVhHRCAACww5iEdEIAAJgynIR0QgAAgKGfhHRCAABoEKOEdEIAAFB/poR0QgAAOO6phHRCAAAgXa2EdEIAAAjMsIR0QgAA8Dq0hHRCAADYqbeEdEIAAMAYu4R0QgAAqIe+hHRCAACQ9sGEdEIAAHhlxYR0QgAAYNTIhHRCAABIQ8yEdEIAADCyz4R0QgAAGCHThHRCAAAAkNaEdEIAAOj+2YR0QgAA0G3dhHRCAAC43OCEdEIAAKBL5IR0QgAAiLrnhHRCAABwKeuEdEIAAFiY7oR0QgAAQAfyhHRCAAAodvWEdEIAABDl+IR0QgAA+FP8hHRCAADgwv+EdEIAAMgxA4V0QgAAsKAGhXRCAACYDwqFdEIAAIB+DYV0QgAAaO0QhXRCAABQXBSFdEIAADjLF4V0QgAAIDobhXRCAAAIqR6FdEIAAPAXIoV0QgAA2IYlhXRC\",\"dtype\":\"float64\",\"shape\":[168]},\"y\":{\"__ndarray__\":\"AAAAIMGXSEAAAAAAo/NIQAAAAABraElAAAAAIB3fSEAAAACAeexHQAAAAIBk3ExAAAAAwBCiUkAAAADArqdVQAAAAICFyFdAAAAAQL04XEAAAABglEFfQAAAAMDPrWBAAAAAgEZIYkAAAABgX11iQAAAAIBb+GFAAAAAYCR8YUAAAABgQpFhQAAAAOAi/WBAAAAAwPq6YUAAAAAAsEJiQAAAAMAAJmFAAAAAABjHX0AAAABgsRlZQAAAAOBm+UpAAAAAAAf8SUAAAACAD85JQAAAAID0KUpAAAAAYNjDSkAAAACg64dJQAAAAIA/L01AAAAAQLdTUkAAAABgRodWQAAAAICgq1lAAAAAYM2ZXUAAAACgkOpfQAAAAECmxGFAAAAA4FYEYkAAAAAgavdhQAAAAKDDvGBAAAAAQLkPYUAAAAAAbfNhQAAAAGCHQ2JAAAAA4BfjYkAAAADAPBxiQAAAAGDBQGFAAAAAgHpPYEAAAABgNCJZQAAAAOAv7k5AAAAAgJZsTUAAAABAuPNOQAAAACBkjlBAAAAAAKowUEAAAAAgm8JPQAAAAED5eVFAAAAAYBohVkAAAABgFm1YQAAAACCXj1pAAAAAoCXOXUAAAAAgl3hfQAAAAKAK5GBAAAAAYOiiYUAAAADARRxhQAAAAIBYcGBAAAAAYBzkYEAAAACAKAdhQAAAAODZcmJAAAAAYKmMYkAAAABAgvZhQAAAAMDk4GBAAAAAgLpPYEAAAAAAmgpaQAAAAKDVi1FAAAAAQOi2TUAAAAAgmH9NQAAAAGDTRU1AAAAAgIEwTEAAAACA4DFMQAAAACALNlBAAAAAQENVVEAAAABAxblWQAAAAGBvuFhAAAAAoGyiXEAAAADA0qtfQAAAAEB9mWBAAAAAIOcpYUAAAABAXldhQAAAAEDGC2BAAAAAYBy1X0AAAADgzhZhQAAAAKDsCmJAAAAAIKB2YUAAAAAgoJxgQAAAAAAgDmBAAAAAYJc2XkAAAABAGuxWQAAAAKC5mktAAAAAoHixTEAAAACgt4NLQAAAAEBA3UtAAAAA4E5eSkAAAABgf55KQAAAAODW3lBAAAAAoPmXU0AAAAAgWWBVQAAAAOCIW1dAAAAAQHB8W0AAAADgCQZgQAAAACCIlWFAAAAAAN+SYUAAAABgSt1hQAAAAACtfWBAAAAAwFJ3YEAAAACAv/hgQAAAAECOdWJAAAAAYMtSYUAAAABgTGNhQAAAAIBd+V9AAAAA4NgtXkAAAAAA/MRXQAAAAKApNU1AAAAAgCJhS0AAAAAAGg5JQAAAAABcOElAAAAAYN9QSUAAAABgxz1JQAAAAADMpU5AAAAA4PxcU0AAAAAAW0lWQAAAAAArnVhAAAAAQNZEX0AAAABAVIxhQAAAAMCqK2JAAAAAADR3YkAAAABAPjJiQAAAAIDi3GBAAAAAgKSBYEAAAADgUhBhQAAAAMCRuWJAAAAAYBuiYkAAAABgwu9hQAAAAGCgAGBAAAAAwCiNXUAAAAAA0OBWQAAAACDquktAAAAAAMOJSkAAAADAKw9LQAAAAEAGaEtAAAAAQKshTUAAAAAApFlPQAAAAGCBmFFAAAAAAPavVUAAAACAzetYQAAAAODmA1xAAAAA4LVwYEAAAADAszdiQAAAAIDTjWJAAAAAQLaMYkAAAADA5ntiQAAAAOC/BmJAAAAAIPdqYUAAAAAg8SVhQAAAAIDDDmJAAAAAYFmDYkAAAACAMhpiQAAAAMDLbGBAAAAAIHdfXUAAAABg7sJWQAAAAECBDUxA\",\"dtype\":\"float64\",\"shape\":[168]}},\"selected\":{\"id\":\"16851\",\"type\":\"Selection\"},\"selection_policy\":{\"id\":\"16850\",\"type\":\"UnionRenderers\"}},\"id\":\"16815\",\"type\":\"ColumnDataSource\"},{\"attributes\":{\"months\":[0,1,2,3,4,5,6,7,8,9,10,11]},\"id\":\"16832\",\"type\":\"MonthsTicker\"},{\"attributes\":{},\"id\":\"16803\",\"type\":\"WheelZoomTool\"},{\"attributes\":{\"months\":[0,2,4,6,8,10]},\"id\":\"16833\",\"type\":\"MonthsTicker\"},{\"attributes\":{},\"id\":\"16802\",\"type\":\"PanTool\"},{\"attributes\":{\"source\":{\"id\":\"16815\",\"type\":\"ColumnDataSource\"}},\"id\":\"16819\",\"type\":\"CDSView\"},{\"attributes\":{\"months\":[0,4,8]},\"id\":\"16834\",\"type\":\"MonthsTicker\"},{\"attributes\":{\"label\":{\"value\":\"predictions\"},\"renderers\":[{\"id\":\"16818\",\"type\":\"GlyphRenderer\"}]},\"id\":\"16839\",\"type\":\"LegendItem\"},{\"attributes\":{},\"id\":\"17424\",\"type\":\"Selection\"},{\"attributes\":{},\"id\":\"16821\",\"type\":\"BasicTickFormatter\"},{\"attributes\":{\"months\":[0,6]},\"id\":\"16835\",\"type\":\"MonthsTicker\"},{\"attributes\":{\"data_source\":{\"id\":\"16815\",\"type\":\"ColumnDataSource\"},\"glyph\":{\"id\":\"16816\",\"type\":\"Line\"},\"hover_glyph\":null,\"muted_glyph\":null,\"nonselection_glyph\":{\"id\":\"16817\",\"type\":\"Line\"},\"selection_glyph\":null,\"view\":{\"id\":\"16819\",\"type\":\"CDSView\"}},\"id\":\"16818\",\"type\":\"GlyphRenderer\"},{\"attributes\":{\"active_drag\":\"auto\",\"active_inspect\":\"auto\",\"active_multi\":null,\"active_scroll\":\"auto\",\"active_tap\":\"auto\",\"tools\":[{\"id\":\"16802\",\"type\":\"PanTool\"},{\"id\":\"16803\",\"type\":\"WheelZoomTool\"},{\"id\":\"16804\",\"type\":\"BoxZoomTool\"},{\"id\":\"16805\",\"type\":\"SaveTool\"},{\"id\":\"16806\",\"type\":\"ResetTool\"},{\"id\":\"16807\",\"type\":\"HelpTool\"}]},\"id\":\"16808\",\"type\":\"Toolbar\"},{\"attributes\":{},\"id\":\"16836\",\"type\":\"YearsTicker\"},{\"attributes\":{\"line_color\":\"red\",\"x\":{\"field\":\"x\"},\"y\":{\"field\":\"y\"}},\"id\":\"16816\",\"type\":\"Line\"},{\"attributes\":{\"num_minor_ticks\":5,\"tickers\":[{\"id\":\"16825\",\"type\":\"AdaptiveTicker\"},{\"id\":\"16826\",\"type\":\"AdaptiveTicker\"},{\"id\":\"16827\",\"type\":\"AdaptiveTicker\"},{\"id\":\"16828\",\"type\":\"DaysTicker\"},{\"id\":\"16829\",\"type\":\"DaysTicker\"},{\"id\":\"16830\",\"type\":\"DaysTicker\"},{\"id\":\"16831\",\"type\":\"DaysTicker\"},{\"id\":\"16832\",\"type\":\"MonthsTicker\"},{\"id\":\"16833\",\"type\":\"MonthsTicker\"},{\"id\":\"16834\",\"type\":\"MonthsTicker\"},{\"id\":\"16835\",\"type\":\"MonthsTicker\"},{\"id\":\"16836\",\"type\":\"YearsTicker\"}]},\"id\":\"16793\",\"type\":\"DatetimeTicker\"},{\"attributes\":{\"items\":[{\"id\":\"16839\",\"type\":\"LegendItem\"},{\"id\":\"16865\",\"type\":\"LegendItem\"}]},\"id\":\"16838\",\"type\":\"Legend\"},{\"attributes\":{\"bottom_units\":\"screen\",\"fill_alpha\":{\"value\":0.5},\"fill_color\":{\"value\":\"lightgrey\"},\"left_units\":\"screen\",\"level\":\"overlay\",\"line_alpha\":{\"value\":1.0},\"line_color\":{\"value\":\"black\"},\"line_dash\":[4,4],\"line_width\":{\"value\":2},\"render_mode\":\"css\",\"right_units\":\"screen\",\"top_units\":\"screen\"},\"id\":\"16837\",\"type\":\"BoxAnnotation\"},{\"attributes\":{\"base\":24,\"mantissas\":[1,2,4,6,8,12],\"max_interval\":43200000.0,\"min_interval\":3600000.0,\"num_minor_ticks\":0},\"id\":\"16827\",\"type\":\"AdaptiveTicker\"},{\"attributes\":{\"text\":\"Predictions over the test dataset for MT_322\"},\"id\":\"16782\",\"type\":\"Title\"},{\"attributes\":{},\"id\":\"16850\",\"type\":\"UnionRenderers\"},{\"attributes\":{\"axis_label\":\"Value\",\"formatter\":{\"id\":\"16821\",\"type\":\"BasicTickFormatter\"},\"ticker\":{\"id\":\"16798\",\"type\":\"BasicTicker\"}},\"id\":\"16797\",\"type\":\"LinearAxis\"},{\"attributes\":{\"label\":{\"value\":\"targets\"},\"renderers\":[{\"id\":\"16843\",\"type\":\"GlyphRenderer\"}]},\"id\":\"16865\",\"type\":\"LegendItem\"},{\"attributes\":{\"dimension\":1,\"ticker\":{\"id\":\"16798\",\"type\":\"BasicTicker\"}},\"id\":\"16801\",\"type\":\"Grid\"},{\"attributes\":{},\"id\":\"16823\",\"type\":\"DatetimeTickFormatter\"},{\"attributes\":{\"data_source\":{\"id\":\"16840\",\"type\":\"ColumnDataSource\"},\"glyph\":{\"id\":\"16841\",\"type\":\"Line\"},\"hover_glyph\":null,\"muted_glyph\":null,\"nonselection_glyph\":{\"id\":\"16842\",\"type\":\"Line\"},\"selection_glyph\":null,\"view\":{\"id\":\"16844\",\"type\":\"CDSView\"}},\"id\":\"16843\",\"type\":\"GlyphRenderer\"},{\"attributes\":{\"ticker\":{\"id\":\"16793\",\"type\":\"DatetimeTicker\"}},\"id\":\"16796\",\"type\":\"Grid\"},{\"attributes\":{\"line_alpha\":0.1,\"line_color\":\"#1f77b4\",\"x\":{\"field\":\"x\"},\"y\":{\"field\":\"y\"}},\"id\":\"16842\",\"type\":\"Line\"},{\"attributes\":{\"base\":60,\"mantissas\":[1,2,5,10,15,20,30],\"max_interval\":1800000.0,\"min_interval\":1000.0,\"num_minor_ticks\":0},\"id\":\"16826\",\"type\":\"AdaptiveTicker\"},{\"attributes\":{\"source\":{\"id\":\"16840\",\"type\":\"ColumnDataSource\"}},\"id\":\"16844\",\"type\":\"CDSView\"}],\"root_ids\":[\"16781\"]},\"title\":\"Bokeh Application\",\"version\":\"1.4.0\"}};\n",
       "  var render_items = [{\"docid\":\"810c7c53-7963-432b-9058-10deea5c5eae\",\"roots\":{\"16781\":\"02e2acc7-9a4f-4962-9f48-4b9b0e1be22c\"}}];\n",
       "  root.Bokeh.embed.embed_items_notebook(docs_json, render_items);\n",
       "\n",
       "  }\n",
       "  if (root.Bokeh !== undefined) {\n",
       "    embed_document(root);\n",
       "  } else {\n",
       "    var attempts = 0;\n",
       "    var timer = setInterval(function(root) {\n",
       "      if (root.Bokeh !== undefined) {\n",
       "        clearInterval(timer);\n",
       "        embed_document(root);\n",
       "      } else {\n",
       "        attempts++;\n",
       "        if (attempts > 100) {\n",
       "          clearInterval(timer);\n",
       "          console.log(\"Bokeh: ERROR: Unable to run BokehJS code because BokehJS library is missing\");\n",
       "        }\n",
       "      }\n",
       "    }, 10, root)\n",
       "  }\n",
       "})(window);"
      ],
      "application/vnd.bokehjs_exec.v0+json": ""
     },
     "metadata": {
      "application/vnd.bokehjs_exec.v0+json": {
       "id": "16781"
      }
     },
     "output_type": "display_data"
    },
    {
     "data": {
      "text/html": [
       "\n",
       "\n",
       "\n",
       "\n",
       "\n",
       "\n",
       "  <div class=\"bk-root\" id=\"eecac003-9d9f-4f21-b083-661238ef1abb\" data-root-id=\"17570\"></div>\n"
      ]
     },
     "metadata": {},
     "output_type": "display_data"
    },
    {
     "data": {
      "application/javascript": [
       "(function(root) {\n",
       "  function embed_document(root) {\n",
       "    \n",
       "  var docs_json = {\"397aeae5-24df-4ae9-a899-7e13225f3243\":{\"roots\":{\"references\":[{\"attributes\":{\"below\":[{\"id\":\"17581\",\"type\":\"DatetimeAxis\"}],\"center\":[{\"id\":\"17585\",\"type\":\"Grid\"},{\"id\":\"17590\",\"type\":\"Grid\"},{\"id\":\"17627\",\"type\":\"Legend\"}],\"left\":[{\"id\":\"17586\",\"type\":\"LinearAxis\"}],\"plot_height\":320,\"plot_width\":960,\"renderers\":[{\"id\":\"17607\",\"type\":\"GlyphRenderer\"},{\"id\":\"17632\",\"type\":\"GlyphRenderer\"}],\"title\":{\"id\":\"17571\",\"type\":\"Title\"},\"toolbar\":{\"id\":\"17597\",\"type\":\"Toolbar\"},\"x_range\":{\"id\":\"17573\",\"type\":\"DataRange1d\"},\"x_scale\":{\"id\":\"17577\",\"type\":\"LinearScale\"},\"y_range\":{\"id\":\"17575\",\"type\":\"DataRange1d\"},\"y_scale\":{\"id\":\"17579\",\"type\":\"LinearScale\"}},\"id\":\"17570\",\"subtype\":\"Figure\",\"type\":\"Plot\"},{\"attributes\":{\"ticker\":{\"id\":\"17582\",\"type\":\"DatetimeTicker\"}},\"id\":\"17585\",\"type\":\"Grid\"},{\"attributes\":{},\"id\":\"18234\",\"type\":\"UnionRenderers\"},{\"attributes\":{},\"id\":\"17579\",\"type\":\"LinearScale\"},{\"attributes\":{\"axis_label\":\"Value\",\"formatter\":{\"id\":\"17610\",\"type\":\"BasicTickFormatter\"},\"ticker\":{\"id\":\"17587\",\"type\":\"BasicTicker\"}},\"id\":\"17586\",\"type\":\"LinearAxis\"},{\"attributes\":{\"dimension\":1,\"ticker\":{\"id\":\"17587\",\"type\":\"BasicTicker\"}},\"id\":\"17590\",\"type\":\"Grid\"},{\"attributes\":{},\"id\":\"17587\",\"type\":\"BasicTicker\"},{\"attributes\":{},\"id\":\"17610\",\"type\":\"BasicTickFormatter\"},{\"attributes\":{\"data_source\":{\"id\":\"17604\",\"type\":\"ColumnDataSource\"},\"glyph\":{\"id\":\"17605\",\"type\":\"Line\"},\"hover_glyph\":null,\"muted_glyph\":null,\"nonselection_glyph\":{\"id\":\"17606\",\"type\":\"Line\"},\"selection_glyph\":null,\"view\":{\"id\":\"17608\",\"type\":\"CDSView\"}},\"id\":\"17607\",\"type\":\"GlyphRenderer\"},{\"attributes\":{},\"id\":\"18235\",\"type\":\"Selection\"},{\"attributes\":{\"months\":[0,1,2,3,4,5,6,7,8,9,10,11]},\"id\":\"17621\",\"type\":\"MonthsTicker\"},{\"attributes\":{\"months\":[0,4,8]},\"id\":\"17623\",\"type\":\"MonthsTicker\"},{\"attributes\":{\"months\":[0,2,4,6,8,10]},\"id\":\"17622\",\"type\":\"MonthsTicker\"},{\"attributes\":{\"months\":[0,6]},\"id\":\"17624\",\"type\":\"MonthsTicker\"},{\"attributes\":{\"line_color\":\"red\",\"x\":{\"field\":\"x\"},\"y\":{\"field\":\"y\"}},\"id\":\"17605\",\"type\":\"Line\"},{\"attributes\":{\"days\":[1,15]},\"id\":\"17620\",\"type\":\"DaysTicker\"},{\"attributes\":{},\"id\":\"17625\",\"type\":\"YearsTicker\"},{\"attributes\":{\"axis_label\":\"Timestmap\",\"formatter\":{\"id\":\"17612\",\"type\":\"DatetimeTickFormatter\"},\"ticker\":{\"id\":\"17582\",\"type\":\"DatetimeTicker\"}},\"id\":\"17581\",\"type\":\"DatetimeAxis\"},{\"attributes\":{\"overlay\":{\"id\":\"17626\",\"type\":\"BoxAnnotation\"}},\"id\":\"17593\",\"type\":\"BoxZoomTool\"},{\"attributes\":{\"bottom_units\":\"screen\",\"fill_alpha\":{\"value\":0.5},\"fill_color\":{\"value\":\"lightgrey\"},\"left_units\":\"screen\",\"level\":\"overlay\",\"line_alpha\":{\"value\":1.0},\"line_color\":{\"value\":\"black\"},\"line_dash\":[4,4],\"line_width\":{\"value\":2},\"render_mode\":\"css\",\"right_units\":\"screen\",\"top_units\":\"screen\"},\"id\":\"17626\",\"type\":\"BoxAnnotation\"},{\"attributes\":{},\"id\":\"17592\",\"type\":\"WheelZoomTool\"},{\"attributes\":{\"callback\":null},\"id\":\"17575\",\"type\":\"DataRange1d\"},{\"attributes\":{\"num_minor_ticks\":5,\"tickers\":[{\"id\":\"17614\",\"type\":\"AdaptiveTicker\"},{\"id\":\"17615\",\"type\":\"AdaptiveTicker\"},{\"id\":\"17616\",\"type\":\"AdaptiveTicker\"},{\"id\":\"17617\",\"type\":\"DaysTicker\"},{\"id\":\"17618\",\"type\":\"DaysTicker\"},{\"id\":\"17619\",\"type\":\"DaysTicker\"},{\"id\":\"17620\",\"type\":\"DaysTicker\"},{\"id\":\"17621\",\"type\":\"MonthsTicker\"},{\"id\":\"17622\",\"type\":\"MonthsTicker\"},{\"id\":\"17623\",\"type\":\"MonthsTicker\"},{\"id\":\"17624\",\"type\":\"MonthsTicker\"},{\"id\":\"17625\",\"type\":\"YearsTicker\"}]},\"id\":\"17582\",\"type\":\"DatetimeTicker\"},{\"attributes\":{},\"id\":\"17591\",\"type\":\"PanTool\"},{\"attributes\":{\"base\":60,\"mantissas\":[1,2,5,10,15,20,30],\"max_interval\":1800000.0,\"min_interval\":1000.0,\"num_minor_ticks\":0},\"id\":\"17615\",\"type\":\"AdaptiveTicker\"},{\"attributes\":{\"source\":{\"id\":\"17604\",\"type\":\"ColumnDataSource\"}},\"id\":\"17608\",\"type\":\"CDSView\"},{\"attributes\":{\"items\":[{\"id\":\"17628\",\"type\":\"LegendItem\"},{\"id\":\"17654\",\"type\":\"LegendItem\"}]},\"id\":\"17627\",\"type\":\"Legend\"},{\"attributes\":{\"callback\":null},\"id\":\"17573\",\"type\":\"DataRange1d\"},{\"attributes\":{\"line_color\":\"blue\",\"x\":{\"field\":\"x\"},\"y\":{\"field\":\"y\"}},\"id\":\"17630\",\"type\":\"Line\"},{\"attributes\":{\"data_source\":{\"id\":\"17629\",\"type\":\"ColumnDataSource\"},\"glyph\":{\"id\":\"17630\",\"type\":\"Line\"},\"hover_glyph\":null,\"muted_glyph\":null,\"nonselection_glyph\":{\"id\":\"17631\",\"type\":\"Line\"},\"selection_glyph\":null,\"view\":{\"id\":\"17633\",\"type\":\"CDSView\"}},\"id\":\"17632\",\"type\":\"GlyphRenderer\"},{\"attributes\":{\"active_drag\":\"auto\",\"active_inspect\":\"auto\",\"active_multi\":null,\"active_scroll\":\"auto\",\"active_tap\":\"auto\",\"tools\":[{\"id\":\"17591\",\"type\":\"PanTool\"},{\"id\":\"17592\",\"type\":\"WheelZoomTool\"},{\"id\":\"17593\",\"type\":\"BoxZoomTool\"},{\"id\":\"17594\",\"type\":\"SaveTool\"},{\"id\":\"17595\",\"type\":\"ResetTool\"},{\"id\":\"17596\",\"type\":\"HelpTool\"}]},\"id\":\"17597\",\"type\":\"Toolbar\"},{\"attributes\":{\"line_alpha\":0.1,\"line_color\":\"#1f77b4\",\"x\":{\"field\":\"x\"},\"y\":{\"field\":\"y\"}},\"id\":\"17631\",\"type\":\"Line\"},{\"attributes\":{},\"id\":\"17612\",\"type\":\"DatetimeTickFormatter\"},{\"attributes\":{\"text\":\"Predictions over the test dataset for MT_323\"},\"id\":\"17571\",\"type\":\"Title\"},{\"attributes\":{},\"id\":\"17595\",\"type\":\"ResetTool\"},{\"attributes\":{\"days\":[1,4,7,10,13,16,19,22,25,28]},\"id\":\"17618\",\"type\":\"DaysTicker\"},{\"attributes\":{\"source\":{\"id\":\"17629\",\"type\":\"ColumnDataSource\"}},\"id\":\"17633\",\"type\":\"CDSView\"},{\"attributes\":{\"mantissas\":[1,2,5],\"max_interval\":500.0,\"num_minor_ticks\":0},\"id\":\"17614\",\"type\":\"AdaptiveTicker\"},{\"attributes\":{},\"id\":\"17639\",\"type\":\"UnionRenderers\"},{\"attributes\":{},\"id\":\"17594\",\"type\":\"SaveTool\"},{\"attributes\":{\"callback\":null,\"data\":{\"x\":{\"__ndarray__\":\"AACALeiCdEIAAGic64J0QgAAUAvvgnRCAAA4evKCdEIAACDp9YJ0QgAACFj5gnRCAADwxvyCdEIAANg1AIN0QgAAwKQDg3RCAACoEweDdEIAAJCCCoN0QgAAePENg3RCAABgYBGDdEIAAEjPFIN0QgAAMD4Yg3RCAAAYrRuDdEIAAAAcH4N0QgAA6Ioig3RCAADQ+SWDdEIAALhoKYN0QgAAoNcsg3RCAACIRjCDdEIAAHC1M4N0QgAAWCQ3g3RCAABAkzqDdEIAACgCPoN0QgAAEHFBg3RCAAD430SDdEIAAOBOSIN0QgAAyL1Lg3RCAACwLE+DdEIAAJibUoN0QgAAgApWg3RCAABoeVmDdEIAAFDoXIN0QgAAOFdgg3RCAAAgxmODdEIAAAg1Z4N0QgAA8KNqg3RCAADYEm6DdEIAAMCBcYN0QgAAqPB0g3RCAACQX3iDdEIAAHjOe4N0QgAAYD1/g3RCAABIrIKDdEIAADAbhoN0QgAAGIqJg3RCAAAA+YyDdEIAAOhnkIN0QgAA0NaTg3RCAAC4RZeDdEIAAKC0moN0QgAAiCOeg3RCAABwkqGDdEIAAFgBpYN0QgAAQHCog3RCAAAo36uDdEIAABBOr4N0QgAA+Lyyg3RCAADgK7aDdEIAAMiauYN0QgAAsAm9g3RCAACYeMCDdEIAAIDnw4N0QgAAaFbHg3RCAABQxcqDdEIAADg0zoN0QgAAIKPRg3RCAAAIEtWDdEIAAPCA2IN0QgAA2O/bg3RCAADAXt+DdEIAAKjN4oN0QgAAkDzmg3RCAAB4q+mDdEIAAGAa7YN0QgAASInwg3RCAAAw+PODdEIAABhn94N0QgAAANb6g3RCAADoRP6DdEIAANCzAYR0QgAAuCIFhHRCAACgkQiEdEIAAIgADIR0QgAAcG8PhHRCAABY3hKEdEIAAEBNFoR0QgAAKLwZhHRCAAAQKx2EdEIAAPiZIIR0QgAA4AgkhHRCAADIdyeEdEIAALDmKoR0QgAAmFUuhHRCAACAxDGEdEIAAGgzNYR0QgAAUKI4hHRCAAA4ETyEdEIAACCAP4R0QgAACO9ChHRCAADwXUaEdEIAANjMSYR0QgAAwDtNhHRCAACoqlCEdEIAAJAZVIR0QgAAeIhXhHRCAABg91qEdEIAAEhmXoR0QgAAMNVhhHRCAAAYRGWEdEIAAACzaIR0QgAA6CFshHRCAADQkG+EdEIAALj/coR0QgAAoG52hHRCAACI3XmEdEIAAHBMfYR0QgAAWLuAhHRCAABAKoSEdEIAACiZh4R0QgAAEAiLhHRCAAD4do6EdEIAAODlkYR0QgAAyFSVhHRCAACww5iEdEIAAJgynIR0QgAAgKGfhHRCAABoEKOEdEIAAFB/poR0QgAAOO6phHRCAAAgXa2EdEIAAAjMsIR0QgAA8Dq0hHRCAADYqbeEdEIAAMAYu4R0QgAAqIe+hHRCAACQ9sGEdEIAAHhlxYR0QgAAYNTIhHRCAABIQ8yEdEIAADCyz4R0QgAAGCHThHRCAAAAkNaEdEIAAOj+2YR0QgAA0G3dhHRCAAC43OCEdEIAAKBL5IR0QgAAiLrnhHRCAABwKeuEdEIAAFiY7oR0QgAAQAfyhHRCAAAodvWEdEIAABDl+IR0QgAA+FP8hHRCAADgwv+EdEIAAMgxA4V0QgAAsKAGhXRCAACYDwqFdEIAAIB+DYV0QgAAaO0QhXRCAABQXBSFdEIAADjLF4V0QgAAIDobhXRCAAAIqR6FdEIAAPAXIoV0QgAA2IYlhXRC\",\"dtype\":\"float64\",\"shape\":[168]},\"y\":{\"__ndarray__\":\"1MfgfAxmkEB7JWpXooqQQFO7ErUrZpBA8ErUrkQ1kEC4RO1K1BSPQJaoXYnajY1AxuB8DM55mkD/5mNwPs+cQAAAAAAAPZ1AfSVqV6KznkBWonYlaq6jQORjcD4GzaNAbD4G5+MupEBsPgbn45ykQCw4H4PznKRAicH5GBzapEDsMTgfA0KlQHQMzsfg2qVAkKhdidoEpUA6BudjcE2kQN58DM5HR6RA5GNwPgYEpEBwV6J2JbubQKpdidqVc5VAGrUrUbspk0C4K1G7ElqRQNh8DM7HfpFAnI/B+RgdkUBYcD4G5xCRQBjnY3A+cpBA9f////9lnECOwfkYnIKeQPpjcD4G+Z5AVLsStSuIoUDkY3A+BjukQEHtStQuQaRAELUrUbtfpEAzH4PzseujQMnH4HwMbKRAu/kYnI8ppUA87UrUrpelQHIlalciHqZAdAzOx+BspUClXYnaFamkQKVdidoVcqRA8zE4H4N9o0A3OB+D8/+aQHUMzsfg7JJA6Ricj8G7kUDilahdibuQQI/B+Ricx5BAtitRuxIpkEDDK1G7EimQQLhE7UrUFI9AZz4G52PDmEBGBudjcGaeQOGuRO1Kcp1AYqJ2JWrAn0A5H4PzscekQJ52JWpXR6RACc7H4Pw0pEAH52NwvrOiQFaidiVqd6NApV2J2hXNo0DJx+B8DDWkQMjH4HwMo6RAnI/B+RiPokDarkTtyp+gQGlwPgZnLKFAxvkYnI8yoUDVrkTtSoWZQHQMzsfg7JJA9uZjcD4RkkDjY3A+BqOQQLkStStR7JBATR+D8zHYj0AwOB+D89ePQCyD8zE4LY9AuCtRuxLomUArUbsStX6eQBjnY3A+7J1AU9SuRO0GoECADM7H4OOhQA3Ox+B8wqVA0K5E7crxo0A5H4PzMZWiQKxE7UrUiaNASNSuRO39o0AsOB+D82WkQC04H4PzZaRAsytRu5Lro0CI2pWo3SGjQLIrUbuSfaNAvhK1K9GsoUAPtStRu8+cQI3alahdc5RAyq5E7UrIkkDIx+B8DAWSQGglaleiu5FAIjgfg/PHkUDEErUrUeyQQCtRuxK1UY5APdSuRO3zmEC3RO1K1FGeQGOidiVqBJ1AHJyPwXkloEBB7UrULkGkQFaidiVqrqNAjsH5GJyDo0BcidqVKKKjQCpRuxI1cqRAsitRu5K0o0CzK1G7kn2jQNaVqF2JHKRAz65E7coopEAkalei9syjQGVXonYlqaRAXYnalSg0o0AM52NwPs6YQOZK1K5El5JArhK1K1EdkkBI1K5E7dOQQBq1K1G7x5BARQbnY3B+kEDJx+B8DGaQQI6oXYnaWZBArhK1K1F6mUAwUbsSNbKgQEfUrkTtjp5A4K5E7UrHnUD3MTgfA/ChQGpXonalbaZApF2J2hU7pEDzMTgfg0ajQFyJ2pUoa6NAegzOx2Coo0CsRO1K1ImjQOtK1K7EiaNAI2pXovaVo0BdidqVKDSjQLgrUbsSuaFATtSuRG3LoUBwV6J2JeibQHBXonYlpJRAu/kYnI/gkkAcnI/B+YqRQKaoXYnaWZBAmqhdidpZkEDTx+B8DGaQQGS7ErUrp49ABLUrUbvDmUB/JWpXov2fQPBjcD4GAJ1AWInalagsnUBO1K5EbTmiQI/B+RicFaNAE87H4Px0oECFDM7HYFagQCKD8zG43aFAIoPzMbimoUCUwfkYHPahQIbzMTifoKFAnY/B+RiPokB4JWpXIl6iQNWuRO1Km6JAeCVqVyJeokAog/MxOHmZQKFE7UrUNZJA\",\"dtype\":\"float64\",\"shape\":[168]}},\"selected\":{\"id\":\"18235\",\"type\":\"Selection\"},\"selection_policy\":{\"id\":\"18234\",\"type\":\"UnionRenderers\"}},\"id\":\"17629\",\"type\":\"ColumnDataSource\"},{\"attributes\":{},\"id\":\"17596\",\"type\":\"HelpTool\"},{\"attributes\":{\"days\":[1,2,3,4,5,6,7,8,9,10,11,12,13,14,15,16,17,18,19,20,21,22,23,24,25,26,27,28,29,30,31]},\"id\":\"17617\",\"type\":\"DaysTicker\"},{\"attributes\":{\"line_alpha\":0.1,\"line_color\":\"#1f77b4\",\"x\":{\"field\":\"x\"},\"y\":{\"field\":\"y\"}},\"id\":\"17606\",\"type\":\"Line\"},{\"attributes\":{\"base\":24,\"mantissas\":[1,2,4,6,8,12],\"max_interval\":43200000.0,\"min_interval\":3600000.0,\"num_minor_ticks\":0},\"id\":\"17616\",\"type\":\"AdaptiveTicker\"},{\"attributes\":{},\"id\":\"17577\",\"type\":\"LinearScale\"},{\"attributes\":{\"label\":{\"value\":\"predictions\"},\"renderers\":[{\"id\":\"17607\",\"type\":\"GlyphRenderer\"}]},\"id\":\"17628\",\"type\":\"LegendItem\"},{\"attributes\":{},\"id\":\"17640\",\"type\":\"Selection\"},{\"attributes\":{\"callback\":null,\"data\":{\"x\":{\"__ndarray__\":\"AACALeiCdEIAAGic64J0QgAAUAvvgnRCAAA4evKCdEIAACDp9YJ0QgAACFj5gnRCAADwxvyCdEIAANg1AIN0QgAAwKQDg3RCAACoEweDdEIAAJCCCoN0QgAAePENg3RCAABgYBGDdEIAAEjPFIN0QgAAMD4Yg3RCAAAYrRuDdEIAAAAcH4N0QgAA6Ioig3RCAADQ+SWDdEIAALhoKYN0QgAAoNcsg3RCAACIRjCDdEIAAHC1M4N0QgAAWCQ3g3RCAABAkzqDdEIAACgCPoN0QgAAEHFBg3RCAAD430SDdEIAAOBOSIN0QgAAyL1Lg3RCAACwLE+DdEIAAJibUoN0QgAAgApWg3RCAABoeVmDdEIAAFDoXIN0QgAAOFdgg3RCAAAgxmODdEIAAAg1Z4N0QgAA8KNqg3RCAADYEm6DdEIAAMCBcYN0QgAAqPB0g3RCAACQX3iDdEIAAHjOe4N0QgAAYD1/g3RCAABIrIKDdEIAADAbhoN0QgAAGIqJg3RCAAAA+YyDdEIAAOhnkIN0QgAA0NaTg3RCAAC4RZeDdEIAAKC0moN0QgAAiCOeg3RCAABwkqGDdEIAAFgBpYN0QgAAQHCog3RCAAAo36uDdEIAABBOr4N0QgAA+Lyyg3RCAADgK7aDdEIAAMiauYN0QgAAsAm9g3RCAACYeMCDdEIAAIDnw4N0QgAAaFbHg3RCAABQxcqDdEIAADg0zoN0QgAAIKPRg3RCAAAIEtWDdEIAAPCA2IN0QgAA2O/bg3RCAADAXt+DdEIAAKjN4oN0QgAAkDzmg3RCAAB4q+mDdEIAAGAa7YN0QgAASInwg3RCAAAw+PODdEIAABhn94N0QgAAANb6g3RCAADoRP6DdEIAANCzAYR0QgAAuCIFhHRCAACgkQiEdEIAAIgADIR0QgAAcG8PhHRCAABY3hKEdEIAAEBNFoR0QgAAKLwZhHRCAAAQKx2EdEIAAPiZIIR0QgAA4AgkhHRCAADIdyeEdEIAALDmKoR0QgAAmFUuhHRCAACAxDGEdEIAAGgzNYR0QgAAUKI4hHRCAAA4ETyEdEIAACCAP4R0QgAACO9ChHRCAADwXUaEdEIAANjMSYR0QgAAwDtNhHRCAACoqlCEdEIAAJAZVIR0QgAAeIhXhHRCAABg91qEdEIAAEhmXoR0QgAAMNVhhHRCAAAYRGWEdEIAAACzaIR0QgAA6CFshHRCAADQkG+EdEIAALj/coR0QgAAoG52hHRCAACI3XmEdEIAAHBMfYR0QgAAWLuAhHRCAABAKoSEdEIAACiZh4R0QgAAEAiLhHRCAAD4do6EdEIAAODlkYR0QgAAyFSVhHRCAACww5iEdEIAAJgynIR0QgAAgKGfhHRCAABoEKOEdEIAAFB/poR0QgAAOO6phHRCAAAgXa2EdEIAAAjMsIR0QgAA8Dq0hHRCAADYqbeEdEIAAMAYu4R0QgAAqIe+hHRCAACQ9sGEdEIAAHhlxYR0QgAAYNTIhHRCAABIQ8yEdEIAADCyz4R0QgAAGCHThHRCAAAAkNaEdEIAAOj+2YR0QgAA0G3dhHRCAAC43OCEdEIAAKBL5IR0QgAAiLrnhHRCAABwKeuEdEIAAFiY7oR0QgAAQAfyhHRCAAAodvWEdEIAABDl+IR0QgAA+FP8hHRCAADgwv+EdEIAAMgxA4V0QgAAsKAGhXRCAACYDwqFdEIAAIB+DYV0QgAAaO0QhXRCAABQXBSFdEIAADjLF4V0QgAAIDobhXRCAAAIqR6FdEIAAPAXIoV0QgAA2IYlhXRC\",\"dtype\":\"float64\",\"shape\":[168]},\"y\":{\"__ndarray__\":\"AAAAwG9+kUAAAAAA4RiQQAAAAADZXY9AAAAAoM51jkAAAAAgyRuPQAAAACBggY9AAAAA4AT8mEAAAABAszaeQAAAAKBVpJ5AAAAAAKdIoUAAAABAJVKjQAAAAKCL3aNAAAAAwKg5pEAAAAAAdWukQAAAAACHJqRAAAAAoEngo0AAAADgqY+kQAAAAMCy9qRAAAAAoDRbpEAAAACAHN+kQAAAAMDoOKVAAAAAYHDaokAAAACgLByaQAAAAIAq4ZFAAAAA4GwRk0AAAADAxCKSQAAAAIAog5FAAAAAYPLhkEAAAADgSB2RQAAAAIAlJY9AAAAAQEDplUAAAACgMDedQAAAAABQ555AAAAAwOKXoUAAAABgcjKjQAAAAEC4Z6NAAAAAIHgmpEAAAADA8DijQAAAAED4rqNAAAAAIN2Vo0AAAAAgQDukQAAAAGBbP6NAAAAAwAaipEAAAABgmWylQAAAAMAkKKRAAAAAwE3eokAAAACAmSSbQAAAACDATpNAAAAAgAYwkkAAAABgmwOSQAAAAIAZJJJAAAAAQIFXkUAAAABA1eeQQAAAAOAqfZBAAAAAABLwmEAAAAAg6gmfQAAAAEA+Pp5AAAAAgDvCoEAAAAAAgCWjQAAAAOBHaqRAAAAAgNxbo0AAAAAgO82iQAAAAAB68aNAAAAA4J0RpEAAAACg9p6kQAAAAACmQ6VAAAAAAMbXpUAAAABgwKalQAAAAECRc6RAAAAAwEWHokAAAACgKbCZQAAAAMB65ZNAAAAAANwkk0AAAABgDbuSQAAAAIBM7pFAAAAAADE8kkAAAACgZf+QQAAAAIBvYJFAAAAAIKctnEAAAACgAXieQAAAAKANjJ1AAAAAIOpAoUAAAADAkxmjQAAAACBEfKRAAAAAgL34o0AAAACAS9CjQAAAAABl5aNAAAAAAH9fo0AAAADg0FWjQAAAAEBkDKRAAAAAAGsxpEAAAADAM2CjQAAAAKBcfaNAAAAA4OShoEAAAAAASzqZQAAAACBCdpNAAAAAABurk0AAAADA1Z+SQAAAAKBnFpFAAAAAANAmkUAAAACgfHGQQAAAACAhx5BAAAAAAOokm0AAAADAermdQAAAAACNs5tAAAAAAESFoEAAAAAAs1mhQAAAAACG4aJAAAAAQEARo0AAAACA5wWhQAAAAGD056FAAAAAYL/JoUAAAADgcgWiQAAAAEAKqqFAAAAAgKLwokAAAADgxY+iQAAAAMA4QKJAAAAAIFLpnkAAAACgkV+WQAAAAAA0MpJAAAAAIMrTkUAAAADAnjqRQAAAAGBhHpBAAAAAgOoVjkAAAACgD1WOQAAAAGBEGJBAAAAAYEx8mUAAAABAC4CdQAAAACB37JpAAAAA4HJVnkAAAADgrA2hQAAAAABW3qFAAAAAwH6UoUAAAAAAZJyfQAAAAOA7s51AAAAA4NVIn0AAAABg9VmgQAAAAEDZxqBAAAAAICSvoUAAAACgHfyhQAAAAIAxF6FAAAAAgJNVnkAAAADgdWuXQAAAAEAgJ5JAAAAAIIZDk0AAAADAhDqSQAAAACD6S5FAAAAAYBs3kUAAAAAATT+RQAAAAEA2kpJAAAAAYO/xmUAAAABARB2eQAAAAKD/xJxAAAAAoH+aoEAAAADgw+OiQAAAAECL/KJAAAAAQLoUo0AAAAAgEUCgQAAAAGAVwqBAAAAAwOk9oEAAAADggl+iQAAAAIDPBKJAAAAAIOQuokAAAADgv82hQAAAAIBiLKFAAAAAoMahn0AAAABgDueXQAAAAMADKJJA\",\"dtype\":\"float64\",\"shape\":[168]}},\"selected\":{\"id\":\"17640\",\"type\":\"Selection\"},\"selection_policy\":{\"id\":\"17639\",\"type\":\"UnionRenderers\"}},\"id\":\"17604\",\"type\":\"ColumnDataSource\"},{\"attributes\":{\"label\":{\"value\":\"targets\"},\"renderers\":[{\"id\":\"17632\",\"type\":\"GlyphRenderer\"}]},\"id\":\"17654\",\"type\":\"LegendItem\"},{\"attributes\":{\"days\":[1,8,15,22]},\"id\":\"17619\",\"type\":\"DaysTicker\"}],\"root_ids\":[\"17570\"]},\"title\":\"Bokeh Application\",\"version\":\"1.4.0\"}};\n",
       "  var render_items = [{\"docid\":\"397aeae5-24df-4ae9-a899-7e13225f3243\",\"roots\":{\"17570\":\"eecac003-9d9f-4f21-b083-661238ef1abb\"}}];\n",
       "  root.Bokeh.embed.embed_items_notebook(docs_json, render_items);\n",
       "\n",
       "  }\n",
       "  if (root.Bokeh !== undefined) {\n",
       "    embed_document(root);\n",
       "  } else {\n",
       "    var attempts = 0;\n",
       "    var timer = setInterval(function(root) {\n",
       "      if (root.Bokeh !== undefined) {\n",
       "        clearInterval(timer);\n",
       "        embed_document(root);\n",
       "      } else {\n",
       "        attempts++;\n",
       "        if (attempts > 100) {\n",
       "          clearInterval(timer);\n",
       "          console.log(\"Bokeh: ERROR: Unable to run BokehJS code because BokehJS library is missing\");\n",
       "        }\n",
       "      }\n",
       "    }, 10, root)\n",
       "  }\n",
       "})(window);"
      ],
      "application/vnd.bokehjs_exec.v0+json": ""
     },
     "metadata": {
      "application/vnd.bokehjs_exec.v0+json": {
       "id": "17570"
      }
     },
     "output_type": "display_data"
    },
    {
     "data": {
      "text/html": [
       "\n",
       "\n",
       "\n",
       "\n",
       "\n",
       "\n",
       "  <div class=\"bk-root\" id=\"4e140f44-5718-4ae0-aaf0-451e250b15d4\" data-root-id=\"18381\"></div>\n"
      ]
     },
     "metadata": {},
     "output_type": "display_data"
    },
    {
     "data": {
      "application/javascript": [
       "(function(root) {\n",
       "  function embed_document(root) {\n",
       "    \n",
       "  var docs_json = {\"5c45ff2f-f53f-4091-8425-d4a06ef0fa9b\":{\"roots\":{\"references\":[{\"attributes\":{\"below\":[{\"id\":\"18392\",\"type\":\"DatetimeAxis\"}],\"center\":[{\"id\":\"18396\",\"type\":\"Grid\"},{\"id\":\"18401\",\"type\":\"Grid\"},{\"id\":\"18438\",\"type\":\"Legend\"}],\"left\":[{\"id\":\"18397\",\"type\":\"LinearAxis\"}],\"plot_height\":320,\"plot_width\":960,\"renderers\":[{\"id\":\"18418\",\"type\":\"GlyphRenderer\"},{\"id\":\"18443\",\"type\":\"GlyphRenderer\"}],\"title\":{\"id\":\"18382\",\"type\":\"Title\"},\"toolbar\":{\"id\":\"18408\",\"type\":\"Toolbar\"},\"x_range\":{\"id\":\"18384\",\"type\":\"DataRange1d\"},\"x_scale\":{\"id\":\"18388\",\"type\":\"LinearScale\"},\"y_range\":{\"id\":\"18386\",\"type\":\"DataRange1d\"},\"y_scale\":{\"id\":\"18390\",\"type\":\"LinearScale\"}},\"id\":\"18381\",\"subtype\":\"Figure\",\"type\":\"Plot\"},{\"attributes\":{},\"id\":\"19068\",\"type\":\"Selection\"},{\"attributes\":{},\"id\":\"18398\",\"type\":\"BasicTicker\"},{\"attributes\":{},\"id\":\"18403\",\"type\":\"WheelZoomTool\"},{\"attributes\":{\"source\":{\"id\":\"18440\",\"type\":\"ColumnDataSource\"}},\"id\":\"18444\",\"type\":\"CDSView\"},{\"attributes\":{\"data_source\":{\"id\":\"18440\",\"type\":\"ColumnDataSource\"},\"glyph\":{\"id\":\"18441\",\"type\":\"Line\"},\"hover_glyph\":null,\"muted_glyph\":null,\"nonselection_glyph\":{\"id\":\"18442\",\"type\":\"Line\"},\"selection_glyph\":null,\"view\":{\"id\":\"18444\",\"type\":\"CDSView\"}},\"id\":\"18443\",\"type\":\"GlyphRenderer\"},{\"attributes\":{\"overlay\":{\"id\":\"18437\",\"type\":\"BoxAnnotation\"}},\"id\":\"18404\",\"type\":\"BoxZoomTool\"},{\"attributes\":{\"callback\":null,\"data\":{\"x\":{\"__ndarray__\":\"AACALeiCdEIAAGic64J0QgAAUAvvgnRCAAA4evKCdEIAACDp9YJ0QgAACFj5gnRCAADwxvyCdEIAANg1AIN0QgAAwKQDg3RCAACoEweDdEIAAJCCCoN0QgAAePENg3RCAABgYBGDdEIAAEjPFIN0QgAAMD4Yg3RCAAAYrRuDdEIAAAAcH4N0QgAA6Ioig3RCAADQ+SWDdEIAALhoKYN0QgAAoNcsg3RCAACIRjCDdEIAAHC1M4N0QgAAWCQ3g3RCAABAkzqDdEIAACgCPoN0QgAAEHFBg3RCAAD430SDdEIAAOBOSIN0QgAAyL1Lg3RCAACwLE+DdEIAAJibUoN0QgAAgApWg3RCAABoeVmDdEIAAFDoXIN0QgAAOFdgg3RCAAAgxmODdEIAAAg1Z4N0QgAA8KNqg3RCAADYEm6DdEIAAMCBcYN0QgAAqPB0g3RCAACQX3iDdEIAAHjOe4N0QgAAYD1/g3RCAABIrIKDdEIAADAbhoN0QgAAGIqJg3RCAAAA+YyDdEIAAOhnkIN0QgAA0NaTg3RCAAC4RZeDdEIAAKC0moN0QgAAiCOeg3RCAABwkqGDdEIAAFgBpYN0QgAAQHCog3RCAAAo36uDdEIAABBOr4N0QgAA+Lyyg3RCAADgK7aDdEIAAMiauYN0QgAAsAm9g3RCAACYeMCDdEIAAIDnw4N0QgAAaFbHg3RCAABQxcqDdEIAADg0zoN0QgAAIKPRg3RCAAAIEtWDdEIAAPCA2IN0QgAA2O/bg3RCAADAXt+DdEIAAKjN4oN0QgAAkDzmg3RCAAB4q+mDdEIAAGAa7YN0QgAASInwg3RCAAAw+PODdEIAABhn94N0QgAAANb6g3RCAADoRP6DdEIAANCzAYR0QgAAuCIFhHRCAACgkQiEdEIAAIgADIR0QgAAcG8PhHRCAABY3hKEdEIAAEBNFoR0QgAAKLwZhHRCAAAQKx2EdEIAAPiZIIR0QgAA4AgkhHRCAADIdyeEdEIAALDmKoR0QgAAmFUuhHRCAACAxDGEdEIAAGgzNYR0QgAAUKI4hHRCAAA4ETyEdEIAACCAP4R0QgAACO9ChHRCAADwXUaEdEIAANjMSYR0QgAAwDtNhHRCAACoqlCEdEIAAJAZVIR0QgAAeIhXhHRCAABg91qEdEIAAEhmXoR0QgAAMNVhhHRCAAAYRGWEdEIAAACzaIR0QgAA6CFshHRCAADQkG+EdEIAALj/coR0QgAAoG52hHRCAACI3XmEdEIAAHBMfYR0QgAAWLuAhHRCAABAKoSEdEIAACiZh4R0QgAAEAiLhHRCAAD4do6EdEIAAODlkYR0QgAAyFSVhHRCAACww5iEdEIAAJgynIR0QgAAgKGfhHRCAABoEKOEdEIAAFB/poR0QgAAOO6phHRCAAAgXa2EdEIAAAjMsIR0QgAA8Dq0hHRCAADYqbeEdEIAAMAYu4R0QgAAqIe+hHRCAACQ9sGEdEIAAHhlxYR0QgAAYNTIhHRCAABIQ8yEdEIAADCyz4R0QgAAGCHThHRCAAAAkNaEdEIAAOj+2YR0QgAA0G3dhHRCAAC43OCEdEIAAKBL5IR0QgAAiLrnhHRCAABwKeuEdEIAAFiY7oR0QgAAQAfyhHRCAAAodvWEdEIAABDl+IR0QgAA+FP8hHRCAADgwv+EdEIAAMgxA4V0QgAAsKAGhXRCAACYDwqFdEIAAIB+DYV0QgAAaO0QhXRCAABQXBSFdEIAADjLF4V0QgAAIDobhXRCAAAIqR6FdEIAAPAXIoV0QgAA2IYlhXRC\",\"dtype\":\"float64\",\"shape\":[168]},\"y\":{\"__ndarray__\":\"58n47VLzbUD07VJPxh9tQDRsDiRabWpAdTJ+u9QTZkAdSLTC5nhlQDgHEq2w3WRAmvHbpZ7UaEAe0QqbA4t0QFxhcyDRyHFAf7vUk/FCdkBj/HapJ+B5QCZsDiRaonxAt8LmQKLFfEB4qSfjt1t8QF7qyfjtjntA1hxItMItekAyfrvUk3t6QEg9Gb9dwHtA4i71ZPwre0ARNgcSrR96QJ6M3y71QnpAFK2wOZCgeUBJPRm/Xd52QCtsDiRa3nJA1ZPx26W4bkAQrbA5kKpuQHIg0QqbA21AboXNgUTLbECCzYFEKxRsQPXtUk/Gs2pA+9ulnozba0B5Mn671Et1QEYrbA4kG3JAVE/Gb5fcd0CQ8dulnk14QJ6M3y71d3xA3S71ZPyzekC5Sz0Zv5d6QPp2qSfj/3tAMPVk/HZ0ekBfcyDRCtl5QHIg0Qqbp3lASLTC5kBBe0CssDmQaJJ5QMXmQKIVaHlA1pPx26U2eUAAAAAAACV3QPNk/Hap+nJAdyDRCpsacEB+Mn671EduQJJ6Mn67kG1A4i71ZPy6bUC/OZBohfVsQHMg0QqbzWtASLTC5kAub0ADEq2wOe51QEi0wuZAsnNAtsLmQKJrd0Ap47dLPXZ5QKSejN8uyXpAxuZAohWde0DbHEi0wmJ8QNwcSLTC6ntA1hxItMItekBcYXMg0VJ5QCz1ZPx27HpA+3apJ+OHe0AyfrvUk/N6QF5zINEK2XlA3rdLPRl2eUDbHEi0wgh3QOVAohU2I3RAs8LmQKL+cEByINEKmxpwQFVPxm+XWmxA/napJ+NxaEBjcyDRCuVnQGX8dqkn2WZAXGFzINFCcEDC5kCiFQ50QInfLvVkonRAwF3qyfizdkDft0s9GYZ4QEIrbA4kwnpAyoFEK2zlekDx26WejIJ6QGoOJFphIXlA8VJPxm+LeUB7u9ST8Xd4QDqQaIXNvHlA5LdLPRkze0CjFTYHEkp6QD4Zv13qw3lA5ECiFTYFeUD7/////yR3QI/fLvVklXJADyRaYXO2b0DI+O1ST7ZvQGT8dqknDW9AU8Zvl3qcbkDxUk/Gbx1uQLlLPRm/A21AnYzfLvUVcEBLtMLmQLJzQDJ+u9STnHJABBKtsDl2dUCMVtgcSH15QLnUk/HbnnpAR7TC5kCEeUDI+O1ST2Z6QOVAohU2BXlAaPx2qSfgeUCQaIXNgfN6QDgHEq2w6ntA0oFEK2wafUBNPRm/XcB7QAmbA4lWT3tARaIVNge7ekBqDiRaYSF5QL/Uk/HbRHVAR7TC5kAub0AUrbA5kBNwQE/Gb5d6oHBAOZBohc1hb0DI+O1ST4BuQLSwOZBoy2xAY3Mg0QrjbkAGiVbYHPd0QJp6Mn67YnRA9napJ+Mdd0ACiVbYHFF6QH4yfrvUtXlAPAcSrbBye0DQCpsDiZl9QFDGb5d6P3xA5sn47VIxfEBZT8ZvlxF6QJ2M3y71ynlAPZBohc1pfECO3y71ZJl9QLI5kGiFRnxAbA4kWmHeekAdSLTC5nB4QMBd6sn4fnRAs8LmQKKGcECAu9ST8VJwQPLbpZ6MN29A78n47VLzbUDZLvVk/IRsQILNgUQrFGxAfjJ+u9QRbUB6Mn671At0QEorbA4kM3NAlfHbpZ4YdkAx9WT8dux6QAAAAAAA93xAx2+XejKUfEDHb5d6Mhx8QOBAohU2sntApJ6M3y7JekAJmwOJVk97QF1hcyDR/3tATLTC5kBBe0BIPRm/XUh7QNAKmwOJZHtAOhm/Xeo7ekAubA4kWsB3QJTx26WeG3NA\",\"dtype\":\"float64\",\"shape\":[168]}},\"selected\":{\"id\":\"19068\",\"type\":\"Selection\"},\"selection_policy\":{\"id\":\"19067\",\"type\":\"UnionRenderers\"}},\"id\":\"18440\",\"type\":\"ColumnDataSource\"},{\"attributes\":{},\"id\":\"18450\",\"type\":\"UnionRenderers\"},{\"attributes\":{\"axis_label\":\"Value\",\"formatter\":{\"id\":\"18421\",\"type\":\"BasicTickFormatter\"},\"ticker\":{\"id\":\"18398\",\"type\":\"BasicTicker\"}},\"id\":\"18397\",\"type\":\"LinearAxis\"},{\"attributes\":{\"line_alpha\":0.1,\"line_color\":\"#1f77b4\",\"x\":{\"field\":\"x\"},\"y\":{\"field\":\"y\"}},\"id\":\"18417\",\"type\":\"Line\"},{\"attributes\":{},\"id\":\"18423\",\"type\":\"DatetimeTickFormatter\"},{\"attributes\":{},\"id\":\"18407\",\"type\":\"HelpTool\"},{\"attributes\":{\"base\":24,\"mantissas\":[1,2,4,6,8,12],\"max_interval\":43200000.0,\"min_interval\":3600000.0,\"num_minor_ticks\":0},\"id\":\"18427\",\"type\":\"AdaptiveTicker\"},{\"attributes\":{\"months\":[0,6]},\"id\":\"18435\",\"type\":\"MonthsTicker\"},{\"attributes\":{},\"id\":\"18406\",\"type\":\"ResetTool\"},{\"attributes\":{\"callback\":null,\"data\":{\"x\":{\"__ndarray__\":\"AACALeiCdEIAAGic64J0QgAAUAvvgnRCAAA4evKCdEIAACDp9YJ0QgAACFj5gnRCAADwxvyCdEIAANg1AIN0QgAAwKQDg3RCAACoEweDdEIAAJCCCoN0QgAAePENg3RCAABgYBGDdEIAAEjPFIN0QgAAMD4Yg3RCAAAYrRuDdEIAAAAcH4N0QgAA6Ioig3RCAADQ+SWDdEIAALhoKYN0QgAAoNcsg3RCAACIRjCDdEIAAHC1M4N0QgAAWCQ3g3RCAABAkzqDdEIAACgCPoN0QgAAEHFBg3RCAAD430SDdEIAAOBOSIN0QgAAyL1Lg3RCAACwLE+DdEIAAJibUoN0QgAAgApWg3RCAABoeVmDdEIAAFDoXIN0QgAAOFdgg3RCAAAgxmODdEIAAAg1Z4N0QgAA8KNqg3RCAADYEm6DdEIAAMCBcYN0QgAAqPB0g3RCAACQX3iDdEIAAHjOe4N0QgAAYD1/g3RCAABIrIKDdEIAADAbhoN0QgAAGIqJg3RCAAAA+YyDdEIAAOhnkIN0QgAA0NaTg3RCAAC4RZeDdEIAAKC0moN0QgAAiCOeg3RCAABwkqGDdEIAAFgBpYN0QgAAQHCog3RCAAAo36uDdEIAABBOr4N0QgAA+Lyyg3RCAADgK7aDdEIAAMiauYN0QgAAsAm9g3RCAACYeMCDdEIAAIDnw4N0QgAAaFbHg3RCAABQxcqDdEIAADg0zoN0QgAAIKPRg3RCAAAIEtWDdEIAAPCA2IN0QgAA2O/bg3RCAADAXt+DdEIAAKjN4oN0QgAAkDzmg3RCAAB4q+mDdEIAAGAa7YN0QgAASInwg3RCAAAw+PODdEIAABhn94N0QgAAANb6g3RCAADoRP6DdEIAANCzAYR0QgAAuCIFhHRCAACgkQiEdEIAAIgADIR0QgAAcG8PhHRCAABY3hKEdEIAAEBNFoR0QgAAKLwZhHRCAAAQKx2EdEIAAPiZIIR0QgAA4AgkhHRCAADIdyeEdEIAALDmKoR0QgAAmFUuhHRCAACAxDGEdEIAAGgzNYR0QgAAUKI4hHRCAAA4ETyEdEIAACCAP4R0QgAACO9ChHRCAADwXUaEdEIAANjMSYR0QgAAwDtNhHRCAACoqlCEdEIAAJAZVIR0QgAAeIhXhHRCAABg91qEdEIAAEhmXoR0QgAAMNVhhHRCAAAYRGWEdEIAAACzaIR0QgAA6CFshHRCAADQkG+EdEIAALj/coR0QgAAoG52hHRCAACI3XmEdEIAAHBMfYR0QgAAWLuAhHRCAABAKoSEdEIAACiZh4R0QgAAEAiLhHRCAAD4do6EdEIAAODlkYR0QgAAyFSVhHRCAACww5iEdEIAAJgynIR0QgAAgKGfhHRCAABoEKOEdEIAAFB/poR0QgAAOO6phHRCAAAgXa2EdEIAAAjMsIR0QgAA8Dq0hHRCAADYqbeEdEIAAMAYu4R0QgAAqIe+hHRCAACQ9sGEdEIAAHhlxYR0QgAAYNTIhHRCAABIQ8yEdEIAADCyz4R0QgAAGCHThHRCAAAAkNaEdEIAAOj+2YR0QgAA0G3dhHRCAAC43OCEdEIAAKBL5IR0QgAAiLrnhHRCAABwKeuEdEIAAFiY7oR0QgAAQAfyhHRCAAAodvWEdEIAABDl+IR0QgAA+FP8hHRCAADgwv+EdEIAAMgxA4V0QgAAsKAGhXRCAACYDwqFdEIAAIB+DYV0QgAAaO0QhXRCAABQXBSFdEIAADjLF4V0QgAAIDobhXRCAAAIqR6FdEIAAPAXIoV0QgAA2IYlhXRC\",\"dtype\":\"float64\",\"shape\":[168]},\"y\":{\"__ndarray__\":\"AAAA4HXbckAAAABgMTtxQAAAAIAP/XBAAAAAIFlJcEAAAAAAqVJwQAAAACC6imxAAAAA4O/gbkAAAABgHBF1QAAAAMAz63RAAAAAICNieEAAAABg/sB7QAAAAABkJH5AAAAAQJKKfkAAAAAAYJt+QAAAAACaaH5AAAAA4NTGfEAAAAAgnrF9QAAAACCmyn1AAAAAINP6fUAAAAAAVCN+QAAAAEDoR31AAAAAQIOkekAAAACgXn94QAAAAMD8GHVAAAAAABKBcUAAAABgyxZxQAAAAICV+nBAAAAAYMmhcEAAAADAR7JvQAAAAED10GtAAAAAgJ1tbkAAAACAypR1QAAAAAD/V3VAAAAAABLtekAAAADAQmF+QAAAAACgSn9AAAAA4LClf0AAAADAfF5+QAAAAKBcq35AAAAAIIT2fkAAAACAHuR+QAAAAKD4GX5AAAAA4MSRfkAAAABAiIN+QAAAAOA2k31AAAAAIOiMe0AAAACAwk55QAAAAMBJKHdAAAAAACtzcEAAAABgFwhxQAAAAIDO7XBAAAAAIAvYcEAAAADA8WZwQAAAAMAXb21AAAAAoEsKcUAAAACAzG52QAAAAEBrgHhAAAAAQLdxekAAAAAgPzF+QAAAAKDGMX5AAAAAoCGqfEAAAABgKbV6QAAAACDq9npAAAAAYJ/ee0AAAAAgsAd8QAAAAMBpRXxAAAAA4BlbfUAAAAAAZb58QAAAAMA7zXxAAAAAQGmMekAAAAAAoLh4QAAAAIAw0HRAAAAAgMSackAAAADAZbdxQAAAAECL8HBAAAAAwAcLcUAAAAAgWmlwQAAAAICux29AAAAAYIkqckAAAACgnNZ1QAAAAEBp1nZAAAAA4AmLeUAAAADA82p6QAAAAMAZfntAAAAAQHL5ekAAAAAA+F55QAAAAKDAvXlAAAAAIPr8ekAAAABA7Td7QAAAAEBkWHxAAAAA4BRvfEAAAACgPBF8QAAAAMAHnXpAAAAAwGFueUAAAACATD94QAAAAGBdT3VAAAAAYGwPckAAAACgirZwQAAAAIAPAHFAAAAA4L/NcEAAAAAAUiFwQAAAAMBcZm5AAAAA4IkVcEAAAADgBtd0QAAAAOBlFHVAAAAAIDeBeUAAAAAAx0R5QAAAACDUFXpAAAAAQIq9eUAAAACA+PF3QAAAAICmfnlAAAAAwNyteUAAAACADrl6QAAAAIDLyntAAAAAwCuOe0AAAACguDN7QAAAAMDdr3pAAAAA4K+UeUAAAADAYFl2QAAAAMAEC3RAAAAAoLY3ckAAAAAgoxxxQAAAAKBLmHBAAAAAAKGscEAAAABAvQhvQAAAAKDX4mxAAAAAoArwbUAAAADA1w10QAAAAID2knRAAAAAwNKDeEAAAAAgFOx6QAAAAOAIWXtAAAAAoCUxekAAAADgwW17QAAAAKAdGXlAAAAAwEbUeEAAAAAAQG55QAAAAAAfN3xAAAAAoAXHfEAAAAAA3rx7QAAAACCiEHtAAAAAIB5ReEAAAADgNdF1QAAAAKCF7XJAAAAAQDZ8cUAAAADgkudwQAAAAGDi7XBAAAAAoGu+cEAAAABgCI5wQAAAAGDPdG9AAAAAIF80cUAAAAAgHbh0QAAAAKCfF3VAAAAAQO7Rd0AAAAAANIl5QAAAAEA7XHtAAAAAwM94ekAAAABAbqR6QAAAACCWxnpAAAAAwOLNeEAAAACgTQB5QAAAAIBYZ3pAAAAAIK9Ie0AAAABgaCd8QAAAAKDGW3lAAAAAoNtbeEAAAACgD+F0QAAAAECHI3JA\",\"dtype\":\"float64\",\"shape\":[168]}},\"selected\":{\"id\":\"18451\",\"type\":\"Selection\"},\"selection_policy\":{\"id\":\"18450\",\"type\":\"UnionRenderers\"}},\"id\":\"18415\",\"type\":\"ColumnDataSource\"},{\"attributes\":{},\"id\":\"18405\",\"type\":\"SaveTool\"},{\"attributes\":{\"label\":{\"value\":\"targets\"},\"renderers\":[{\"id\":\"18443\",\"type\":\"GlyphRenderer\"}]},\"id\":\"18465\",\"type\":\"LegendItem\"},{\"attributes\":{\"months\":[0,1,2,3,4,5,6,7,8,9,10,11]},\"id\":\"18432\",\"type\":\"MonthsTicker\"},{\"attributes\":{},\"id\":\"18402\",\"type\":\"PanTool\"},{\"attributes\":{},\"id\":\"18451\",\"type\":\"Selection\"},{\"attributes\":{\"line_alpha\":0.1,\"line_color\":\"#1f77b4\",\"x\":{\"field\":\"x\"},\"y\":{\"field\":\"y\"}},\"id\":\"18442\",\"type\":\"Line\"},{\"attributes\":{\"ticker\":{\"id\":\"18393\",\"type\":\"DatetimeTicker\"}},\"id\":\"18396\",\"type\":\"Grid\"},{\"attributes\":{\"line_color\":\"blue\",\"x\":{\"field\":\"x\"},\"y\":{\"field\":\"y\"}},\"id\":\"18441\",\"type\":\"Line\"},{\"attributes\":{},\"id\":\"18388\",\"type\":\"LinearScale\"},{\"attributes\":{},\"id\":\"18390\",\"type\":\"LinearScale\"},{\"attributes\":{\"label\":{\"value\":\"predictions\"},\"renderers\":[{\"id\":\"18418\",\"type\":\"GlyphRenderer\"}]},\"id\":\"18439\",\"type\":\"LegendItem\"},{\"attributes\":{},\"id\":\"18436\",\"type\":\"YearsTicker\"},{\"attributes\":{\"source\":{\"id\":\"18415\",\"type\":\"ColumnDataSource\"}},\"id\":\"18419\",\"type\":\"CDSView\"},{\"attributes\":{\"days\":[1,2,3,4,5,6,7,8,9,10,11,12,13,14,15,16,17,18,19,20,21,22,23,24,25,26,27,28,29,30,31]},\"id\":\"18428\",\"type\":\"DaysTicker\"},{\"attributes\":{\"days\":[1,4,7,10,13,16,19,22,25,28]},\"id\":\"18429\",\"type\":\"DaysTicker\"},{\"attributes\":{},\"id\":\"19067\",\"type\":\"UnionRenderers\"},{\"attributes\":{\"mantissas\":[1,2,5],\"max_interval\":500.0,\"num_minor_ticks\":0},\"id\":\"18425\",\"type\":\"AdaptiveTicker\"},{\"attributes\":{\"months\":[0,4,8]},\"id\":\"18434\",\"type\":\"MonthsTicker\"},{\"attributes\":{\"line_color\":\"red\",\"x\":{\"field\":\"x\"},\"y\":{\"field\":\"y\"}},\"id\":\"18416\",\"type\":\"Line\"},{\"attributes\":{\"active_drag\":\"auto\",\"active_inspect\":\"auto\",\"active_multi\":null,\"active_scroll\":\"auto\",\"active_tap\":\"auto\",\"tools\":[{\"id\":\"18402\",\"type\":\"PanTool\"},{\"id\":\"18403\",\"type\":\"WheelZoomTool\"},{\"id\":\"18404\",\"type\":\"BoxZoomTool\"},{\"id\":\"18405\",\"type\":\"SaveTool\"},{\"id\":\"18406\",\"type\":\"ResetTool\"},{\"id\":\"18407\",\"type\":\"HelpTool\"}]},\"id\":\"18408\",\"type\":\"Toolbar\"},{\"attributes\":{\"days\":[1,8,15,22]},\"id\":\"18430\",\"type\":\"DaysTicker\"},{\"attributes\":{\"axis_label\":\"Timestmap\",\"formatter\":{\"id\":\"18423\",\"type\":\"DatetimeTickFormatter\"},\"ticker\":{\"id\":\"18393\",\"type\":\"DatetimeTicker\"}},\"id\":\"18392\",\"type\":\"DatetimeAxis\"},{\"attributes\":{\"base\":60,\"mantissas\":[1,2,5,10,15,20,30],\"max_interval\":1800000.0,\"min_interval\":1000.0,\"num_minor_ticks\":0},\"id\":\"18426\",\"type\":\"AdaptiveTicker\"},{\"attributes\":{\"days\":[1,15]},\"id\":\"18431\",\"type\":\"DaysTicker\"},{\"attributes\":{\"callback\":null},\"id\":\"18384\",\"type\":\"DataRange1d\"},{\"attributes\":{\"months\":[0,2,4,6,8,10]},\"id\":\"18433\",\"type\":\"MonthsTicker\"},{\"attributes\":{\"data_source\":{\"id\":\"18415\",\"type\":\"ColumnDataSource\"},\"glyph\":{\"id\":\"18416\",\"type\":\"Line\"},\"hover_glyph\":null,\"muted_glyph\":null,\"nonselection_glyph\":{\"id\":\"18417\",\"type\":\"Line\"},\"selection_glyph\":null,\"view\":{\"id\":\"18419\",\"type\":\"CDSView\"}},\"id\":\"18418\",\"type\":\"GlyphRenderer\"},{\"attributes\":{\"dimension\":1,\"ticker\":{\"id\":\"18398\",\"type\":\"BasicTicker\"}},\"id\":\"18401\",\"type\":\"Grid\"},{\"attributes\":{\"items\":[{\"id\":\"18439\",\"type\":\"LegendItem\"},{\"id\":\"18465\",\"type\":\"LegendItem\"}]},\"id\":\"18438\",\"type\":\"Legend\"},{\"attributes\":{\"num_minor_ticks\":5,\"tickers\":[{\"id\":\"18425\",\"type\":\"AdaptiveTicker\"},{\"id\":\"18426\",\"type\":\"AdaptiveTicker\"},{\"id\":\"18427\",\"type\":\"AdaptiveTicker\"},{\"id\":\"18428\",\"type\":\"DaysTicker\"},{\"id\":\"18429\",\"type\":\"DaysTicker\"},{\"id\":\"18430\",\"type\":\"DaysTicker\"},{\"id\":\"18431\",\"type\":\"DaysTicker\"},{\"id\":\"18432\",\"type\":\"MonthsTicker\"},{\"id\":\"18433\",\"type\":\"MonthsTicker\"},{\"id\":\"18434\",\"type\":\"MonthsTicker\"},{\"id\":\"18435\",\"type\":\"MonthsTicker\"},{\"id\":\"18436\",\"type\":\"YearsTicker\"}]},\"id\":\"18393\",\"type\":\"DatetimeTicker\"},{\"attributes\":{\"bottom_units\":\"screen\",\"fill_alpha\":{\"value\":0.5},\"fill_color\":{\"value\":\"lightgrey\"},\"left_units\":\"screen\",\"level\":\"overlay\",\"line_alpha\":{\"value\":1.0},\"line_color\":{\"value\":\"black\"},\"line_dash\":[4,4],\"line_width\":{\"value\":2},\"render_mode\":\"css\",\"right_units\":\"screen\",\"top_units\":\"screen\"},\"id\":\"18437\",\"type\":\"BoxAnnotation\"},{\"attributes\":{},\"id\":\"18421\",\"type\":\"BasicTickFormatter\"},{\"attributes\":{\"callback\":null},\"id\":\"18386\",\"type\":\"DataRange1d\"},{\"attributes\":{\"text\":\"Predictions over the test dataset for MT_324\"},\"id\":\"18382\",\"type\":\"Title\"}],\"root_ids\":[\"18381\"]},\"title\":\"Bokeh Application\",\"version\":\"1.4.0\"}};\n",
       "  var render_items = [{\"docid\":\"5c45ff2f-f53f-4091-8425-d4a06ef0fa9b\",\"roots\":{\"18381\":\"4e140f44-5718-4ae0-aaf0-451e250b15d4\"}}];\n",
       "  root.Bokeh.embed.embed_items_notebook(docs_json, render_items);\n",
       "\n",
       "  }\n",
       "  if (root.Bokeh !== undefined) {\n",
       "    embed_document(root);\n",
       "  } else {\n",
       "    var attempts = 0;\n",
       "    var timer = setInterval(function(root) {\n",
       "      if (root.Bokeh !== undefined) {\n",
       "        clearInterval(timer);\n",
       "        embed_document(root);\n",
       "      } else {\n",
       "        attempts++;\n",
       "        if (attempts > 100) {\n",
       "          clearInterval(timer);\n",
       "          console.log(\"Bokeh: ERROR: Unable to run BokehJS code because BokehJS library is missing\");\n",
       "        }\n",
       "      }\n",
       "    }, 10, root)\n",
       "  }\n",
       "})(window);"
      ],
      "application/vnd.bokehjs_exec.v0+json": ""
     },
     "metadata": {
      "application/vnd.bokehjs_exec.v0+json": {
       "id": "18381"
      }
     },
     "output_type": "display_data"
    },
    {
     "data": {
      "text/html": [
       "\n",
       "\n",
       "\n",
       "\n",
       "\n",
       "\n",
       "  <div class=\"bk-root\" id=\"686b5292-e89b-468d-bc19-1908b0e67257\" data-root-id=\"19214\"></div>\n"
      ]
     },
     "metadata": {},
     "output_type": "display_data"
    },
    {
     "data": {
      "application/javascript": [
       "(function(root) {\n",
       "  function embed_document(root) {\n",
       "    \n",
       "  var docs_json = {\"221d5b51-5369-4f88-938b-42feedd7e9ad\":{\"roots\":{\"references\":[{\"attributes\":{\"below\":[{\"id\":\"19225\",\"type\":\"DatetimeAxis\"}],\"center\":[{\"id\":\"19229\",\"type\":\"Grid\"},{\"id\":\"19234\",\"type\":\"Grid\"},{\"id\":\"19271\",\"type\":\"Legend\"}],\"left\":[{\"id\":\"19230\",\"type\":\"LinearAxis\"}],\"plot_height\":320,\"plot_width\":960,\"renderers\":[{\"id\":\"19251\",\"type\":\"GlyphRenderer\"},{\"id\":\"19276\",\"type\":\"GlyphRenderer\"}],\"title\":{\"id\":\"19215\",\"type\":\"Title\"},\"toolbar\":{\"id\":\"19241\",\"type\":\"Toolbar\"},\"x_range\":{\"id\":\"19217\",\"type\":\"DataRange1d\"},\"x_scale\":{\"id\":\"19221\",\"type\":\"LinearScale\"},\"y_range\":{\"id\":\"19219\",\"type\":\"DataRange1d\"},\"y_scale\":{\"id\":\"19223\",\"type\":\"LinearScale\"}},\"id\":\"19214\",\"subtype\":\"Figure\",\"type\":\"Plot\"},{\"attributes\":{\"source\":{\"id\":\"19248\",\"type\":\"ColumnDataSource\"}},\"id\":\"19252\",\"type\":\"CDSView\"},{\"attributes\":{\"overlay\":{\"id\":\"19270\",\"type\":\"BoxAnnotation\"}},\"id\":\"19237\",\"type\":\"BoxZoomTool\"},{\"attributes\":{},\"id\":\"19284\",\"type\":\"Selection\"},{\"attributes\":{\"days\":[1,8,15,22]},\"id\":\"19263\",\"type\":\"DaysTicker\"},{\"attributes\":{},\"id\":\"19240\",\"type\":\"HelpTool\"},{\"attributes\":{},\"id\":\"19922\",\"type\":\"UnionRenderers\"},{\"attributes\":{\"days\":[1,15]},\"id\":\"19264\",\"type\":\"DaysTicker\"},{\"attributes\":{\"active_drag\":\"auto\",\"active_inspect\":\"auto\",\"active_multi\":null,\"active_scroll\":\"auto\",\"active_tap\":\"auto\",\"tools\":[{\"id\":\"19235\",\"type\":\"PanTool\"},{\"id\":\"19236\",\"type\":\"WheelZoomTool\"},{\"id\":\"19237\",\"type\":\"BoxZoomTool\"},{\"id\":\"19238\",\"type\":\"SaveTool\"},{\"id\":\"19239\",\"type\":\"ResetTool\"},{\"id\":\"19240\",\"type\":\"HelpTool\"}]},\"id\":\"19241\",\"type\":\"Toolbar\"},{\"attributes\":{\"months\":[0,1,2,3,4,5,6,7,8,9,10,11]},\"id\":\"19265\",\"type\":\"MonthsTicker\"},{\"attributes\":{\"num_minor_ticks\":5,\"tickers\":[{\"id\":\"19258\",\"type\":\"AdaptiveTicker\"},{\"id\":\"19259\",\"type\":\"AdaptiveTicker\"},{\"id\":\"19260\",\"type\":\"AdaptiveTicker\"},{\"id\":\"19261\",\"type\":\"DaysTicker\"},{\"id\":\"19262\",\"type\":\"DaysTicker\"},{\"id\":\"19263\",\"type\":\"DaysTicker\"},{\"id\":\"19264\",\"type\":\"DaysTicker\"},{\"id\":\"19265\",\"type\":\"MonthsTicker\"},{\"id\":\"19266\",\"type\":\"MonthsTicker\"},{\"id\":\"19267\",\"type\":\"MonthsTicker\"},{\"id\":\"19268\",\"type\":\"MonthsTicker\"},{\"id\":\"19269\",\"type\":\"YearsTicker\"}]},\"id\":\"19226\",\"type\":\"DatetimeTicker\"},{\"attributes\":{\"axis_label\":\"Timestmap\",\"formatter\":{\"id\":\"19256\",\"type\":\"DatetimeTickFormatter\"},\"ticker\":{\"id\":\"19226\",\"type\":\"DatetimeTicker\"}},\"id\":\"19225\",\"type\":\"DatetimeAxis\"},{\"attributes\":{\"months\":[0,4,8]},\"id\":\"19267\",\"type\":\"MonthsTicker\"},{\"attributes\":{\"label\":{\"value\":\"predictions\"},\"renderers\":[{\"id\":\"19251\",\"type\":\"GlyphRenderer\"}]},\"id\":\"19272\",\"type\":\"LegendItem\"},{\"attributes\":{},\"id\":\"19236\",\"type\":\"WheelZoomTool\"},{\"attributes\":{\"months\":[0,6]},\"id\":\"19268\",\"type\":\"MonthsTicker\"},{\"attributes\":{\"data_source\":{\"id\":\"19248\",\"type\":\"ColumnDataSource\"},\"glyph\":{\"id\":\"19249\",\"type\":\"Line\"},\"hover_glyph\":null,\"muted_glyph\":null,\"nonselection_glyph\":{\"id\":\"19250\",\"type\":\"Line\"},\"selection_glyph\":null,\"view\":{\"id\":\"19252\",\"type\":\"CDSView\"}},\"id\":\"19251\",\"type\":\"GlyphRenderer\"},{\"attributes\":{\"axis_label\":\"Value\",\"formatter\":{\"id\":\"19254\",\"type\":\"BasicTickFormatter\"},\"ticker\":{\"id\":\"19231\",\"type\":\"BasicTicker\"}},\"id\":\"19230\",\"type\":\"LinearAxis\"},{\"attributes\":{},\"id\":\"19269\",\"type\":\"YearsTicker\"},{\"attributes\":{\"line_alpha\":0.1,\"line_color\":\"#1f77b4\",\"x\":{\"field\":\"x\"},\"y\":{\"field\":\"y\"}},\"id\":\"19250\",\"type\":\"Line\"},{\"attributes\":{},\"id\":\"19254\",\"type\":\"BasicTickFormatter\"},{\"attributes\":{},\"id\":\"19923\",\"type\":\"Selection\"},{\"attributes\":{\"bottom_units\":\"screen\",\"fill_alpha\":{\"value\":0.5},\"fill_color\":{\"value\":\"lightgrey\"},\"left_units\":\"screen\",\"level\":\"overlay\",\"line_alpha\":{\"value\":1.0},\"line_color\":{\"value\":\"black\"},\"line_dash\":[4,4],\"line_width\":{\"value\":2},\"render_mode\":\"css\",\"right_units\":\"screen\",\"top_units\":\"screen\"},\"id\":\"19270\",\"type\":\"BoxAnnotation\"},{\"attributes\":{},\"id\":\"19235\",\"type\":\"PanTool\"},{\"attributes\":{\"months\":[0,2,4,6,8,10]},\"id\":\"19266\",\"type\":\"MonthsTicker\"},{\"attributes\":{\"items\":[{\"id\":\"19272\",\"type\":\"LegendItem\"},{\"id\":\"19298\",\"type\":\"LegendItem\"}]},\"id\":\"19271\",\"type\":\"Legend\"},{\"attributes\":{\"ticker\":{\"id\":\"19226\",\"type\":\"DatetimeTicker\"}},\"id\":\"19229\",\"type\":\"Grid\"},{\"attributes\":{\"callback\":null,\"data\":{\"x\":{\"__ndarray__\":\"AACALeiCdEIAAGic64J0QgAAUAvvgnRCAAA4evKCdEIAACDp9YJ0QgAACFj5gnRCAADwxvyCdEIAANg1AIN0QgAAwKQDg3RCAACoEweDdEIAAJCCCoN0QgAAePENg3RCAABgYBGDdEIAAEjPFIN0QgAAMD4Yg3RCAAAYrRuDdEIAAAAcH4N0QgAA6Ioig3RCAADQ+SWDdEIAALhoKYN0QgAAoNcsg3RCAACIRjCDdEIAAHC1M4N0QgAAWCQ3g3RCAABAkzqDdEIAACgCPoN0QgAAEHFBg3RCAAD430SDdEIAAOBOSIN0QgAAyL1Lg3RCAACwLE+DdEIAAJibUoN0QgAAgApWg3RCAABoeVmDdEIAAFDoXIN0QgAAOFdgg3RCAAAgxmODdEIAAAg1Z4N0QgAA8KNqg3RCAADYEm6DdEIAAMCBcYN0QgAAqPB0g3RCAACQX3iDdEIAAHjOe4N0QgAAYD1/g3RCAABIrIKDdEIAADAbhoN0QgAAGIqJg3RCAAAA+YyDdEIAAOhnkIN0QgAA0NaTg3RCAAC4RZeDdEIAAKC0moN0QgAAiCOeg3RCAABwkqGDdEIAAFgBpYN0QgAAQHCog3RCAAAo36uDdEIAABBOr4N0QgAA+Lyyg3RCAADgK7aDdEIAAMiauYN0QgAAsAm9g3RCAACYeMCDdEIAAIDnw4N0QgAAaFbHg3RCAABQxcqDdEIAADg0zoN0QgAAIKPRg3RCAAAIEtWDdEIAAPCA2IN0QgAA2O/bg3RCAADAXt+DdEIAAKjN4oN0QgAAkDzmg3RCAAB4q+mDdEIAAGAa7YN0QgAASInwg3RCAAAw+PODdEIAABhn94N0QgAAANb6g3RCAADoRP6DdEIAANCzAYR0QgAAuCIFhHRCAACgkQiEdEIAAIgADIR0QgAAcG8PhHRCAABY3hKEdEIAAEBNFoR0QgAAKLwZhHRCAAAQKx2EdEIAAPiZIIR0QgAA4AgkhHRCAADIdyeEdEIAALDmKoR0QgAAmFUuhHRCAACAxDGEdEIAAGgzNYR0QgAAUKI4hHRCAAA4ETyEdEIAACCAP4R0QgAACO9ChHRCAADwXUaEdEIAANjMSYR0QgAAwDtNhHRCAACoqlCEdEIAAJAZVIR0QgAAeIhXhHRCAABg91qEdEIAAEhmXoR0QgAAMNVhhHRCAAAYRGWEdEIAAACzaIR0QgAA6CFshHRCAADQkG+EdEIAALj/coR0QgAAoG52hHRCAACI3XmEdEIAAHBMfYR0QgAAWLuAhHRCAABAKoSEdEIAACiZh4R0QgAAEAiLhHRCAAD4do6EdEIAAODlkYR0QgAAyFSVhHRCAACww5iEdEIAAJgynIR0QgAAgKGfhHRCAABoEKOEdEIAAFB/poR0QgAAOO6phHRCAAAgXa2EdEIAAAjMsIR0QgAA8Dq0hHRCAADYqbeEdEIAAMAYu4R0QgAAqIe+hHRCAACQ9sGEdEIAAHhlxYR0QgAAYNTIhHRCAABIQ8yEdEIAADCyz4R0QgAAGCHThHRCAAAAkNaEdEIAAOj+2YR0QgAA0G3dhHRCAAC43OCEdEIAAKBL5IR0QgAAiLrnhHRCAABwKeuEdEIAAFiY7oR0QgAAQAfyhHRCAAAodvWEdEIAABDl+IR0QgAA+FP8hHRCAADgwv+EdEIAAMgxA4V0QgAAsKAGhXRCAACYDwqFdEIAAIB+DYV0QgAAaO0QhXRCAABQXBSFdEIAADjLF4V0QgAAIDobhXRCAAAIqR6FdEIAAPAXIoV0QgAA2IYlhXRC\",\"dtype\":\"float64\",\"shape\":[168]},\"y\":{\"__ndarray__\":\"AAAAgJQ2c0AAAABAGCRyQAAAAICxiHBAAAAA4LORcEAAAABgUFxxQAAAAKDTsHJAAAAAwAJSd0AAAABALVp4QAAAAADti3hAAAAAAOTKeUAAAACgYKJ7QAAAAOAdlnxAAAAAwM/sfEAAAABAx0R9QAAAAKB7NX1AAAAA4GVtfUAAAAAg1DN+QAAAAMCfDX5AAAAAQMk8fkAAAACAlnV+QAAAAICk6HtAAAAAQNxHekAAAACAZwZ4QAAAAECzU3VAAAAAgJZkc0AAAABAEqxzQAAAAMCN4nJAAAAAIOJNc0AAAADA+LxyQAAAAKDBh3RAAAAAQMljd0AAAABAeSh4QAAAAKCnX3hAAAAAwDEPekAAAACg71N6QAAAACBZbXxAAAAAgD+sfEAAAADAUpZ9QAAAAMCP6HxAAAAAIA+SfkAAAAAAU7R9QAAAAEBYNX1AAAAAgITcfEAAAACAUC9+QAAAAMDd8XxAAAAAoMTNekAAAACgOJF4QAAAAADWfnVAAAAAAG8ldUAAAAAAaqJ0QAAAAMAnU3RAAAAAwFdockAAAABAbcRzQAAAAICgPHRAAAAAwMdZdUAAAACA+Jd2QAAAAEDAuXdAAAAAoEM3ekAAAADAPg96QAAAAEBlDntAAAAAwPZ8fEAAAAAAkQJ9QAAAACDM4HpAAAAAAL6ce0AAAADAq1N7QAAAAKBfU3xAAAAAQNMefEAAAACg8Sl8QAAAAIAh2HlAAAAAQFtieUAAAAAg77h2QAAAAIAY+XNAAAAAAAgrdEAAAAAgAe1yQAAAAIBeuHJAAAAAoGDzckAAAAAgXyRyQAAAACAJrXJAAAAAgMG+dUAAAACgLG12QAAAAAAUCndAAAAAwK/meEAAAAAgpl55QAAAAKCMNHlAAAAAQD+Ke0AAAACgT+Z6QAAAAKA913pAAAAAwOjAekAAAADA+SZ6QAAAAADTrHpAAAAAQLSKe0AAAACgHWJ6QAAAACBBYHpAAAAA4BOWeEAAAACA97x1QAAAACDHXHNAAAAAQOrIcUAAAACgTo1wQAAAAMCop3BAAAAAwChKcUAAAACA7/RxQAAAAEDzJ3JAAAAAoM8qdkAAAADADvZ2QAAAAMATknZAAAAAoCYAeUAAAADA4I96QAAAAACO0XtAAAAAIL3dfEAAAACg0MZ8QAAAAEAW+ntAAAAAwKBLe0AAAAAAnQd7QAAAACA93HpAAAAAIHHefEAAAABAdN17QAAAAABXc3lAAAAAYNQJeEAAAADAUOd0QAAAAEBkFXFAAAAA4E/EcUAAAAAg3WpxQAAAAGAwPXFAAAAAQB7ycUAAAABge9xxQAAAAMCijXFAAAAAIKROdkAAAABAQdB3QAAAAOAqzHdAAAAAYPMOeEAAAACgG6B4QAAAAABuMHpAAAAA4IIse0AAAAAgOCR7QAAAAMB86XpAAAAA4BXdeUAAAACAzd16QAAAAECw2HtAAAAAAHMXfUAAAACAOhN7QAAAAEDbM3pAAAAAwIv9d0AAAABgMMt0QAAAAMCuSHFAAAAAYGXMcUAAAADgEwxxQAAAAOCRqnFAAAAAAI5icUAAAABg5bhyQAAAAOAC03NAAAAA4P1rd0AAAADgsct4QAAAAMCU6HhAAAAAALuwekAAAABgF9p7QAAAAOAFWX1AAAAAoLbgfEAAAABgqHl8QAAAAGDcXHxAAAAA4CeIe0AAAABgF8J7QAAAAOB8cntAAAAAYHMdfUAAAADAf2V9QAAAAOCRuHpAAAAAoMopeUAAAABgK2J2QAAAAAAjgnNA\",\"dtype\":\"float64\",\"shape\":[168]}},\"selected\":{\"id\":\"19284\",\"type\":\"Selection\"},\"selection_policy\":{\"id\":\"19283\",\"type\":\"UnionRenderers\"}},\"id\":\"19248\",\"type\":\"ColumnDataSource\"},{\"attributes\":{},\"id\":\"19256\",\"type\":\"DatetimeTickFormatter\"},{\"attributes\":{\"line_color\":\"red\",\"x\":{\"field\":\"x\"},\"y\":{\"field\":\"y\"}},\"id\":\"19249\",\"type\":\"Line\"},{\"attributes\":{\"data_source\":{\"id\":\"19273\",\"type\":\"ColumnDataSource\"},\"glyph\":{\"id\":\"19274\",\"type\":\"Line\"},\"hover_glyph\":null,\"muted_glyph\":null,\"nonselection_glyph\":{\"id\":\"19275\",\"type\":\"Line\"},\"selection_glyph\":null,\"view\":{\"id\":\"19277\",\"type\":\"CDSView\"}},\"id\":\"19276\",\"type\":\"GlyphRenderer\"},{\"attributes\":{},\"id\":\"19221\",\"type\":\"LinearScale\"},{\"attributes\":{\"mantissas\":[1,2,5],\"max_interval\":500.0,\"num_minor_ticks\":0},\"id\":\"19258\",\"type\":\"AdaptiveTicker\"},{\"attributes\":{},\"id\":\"19223\",\"type\":\"LinearScale\"},{\"attributes\":{\"callback\":null},\"id\":\"19217\",\"type\":\"DataRange1d\"},{\"attributes\":{\"line_alpha\":0.1,\"line_color\":\"#1f77b4\",\"x\":{\"field\":\"x\"},\"y\":{\"field\":\"y\"}},\"id\":\"19275\",\"type\":\"Line\"},{\"attributes\":{\"source\":{\"id\":\"19273\",\"type\":\"ColumnDataSource\"}},\"id\":\"19277\",\"type\":\"CDSView\"},{\"attributes\":{\"line_color\":\"blue\",\"x\":{\"field\":\"x\"},\"y\":{\"field\":\"y\"}},\"id\":\"19274\",\"type\":\"Line\"},{\"attributes\":{},\"id\":\"19231\",\"type\":\"BasicTicker\"},{\"attributes\":{\"text\":\"Predictions over the test dataset for MT_325\"},\"id\":\"19215\",\"type\":\"Title\"},{\"attributes\":{\"base\":24,\"mantissas\":[1,2,4,6,8,12],\"max_interval\":43200000.0,\"min_interval\":3600000.0,\"num_minor_ticks\":0},\"id\":\"19260\",\"type\":\"AdaptiveTicker\"},{\"attributes\":{\"base\":60,\"mantissas\":[1,2,5,10,15,20,30],\"max_interval\":1800000.0,\"min_interval\":1000.0,\"num_minor_ticks\":0},\"id\":\"19259\",\"type\":\"AdaptiveTicker\"},{\"attributes\":{\"callback\":null},\"id\":\"19219\",\"type\":\"DataRange1d\"},{\"attributes\":{\"callback\":null,\"data\":{\"x\":{\"__ndarray__\":\"AACALeiCdEIAAGic64J0QgAAUAvvgnRCAAA4evKCdEIAACDp9YJ0QgAACFj5gnRCAADwxvyCdEIAANg1AIN0QgAAwKQDg3RCAACoEweDdEIAAJCCCoN0QgAAePENg3RCAABgYBGDdEIAAEjPFIN0QgAAMD4Yg3RCAAAYrRuDdEIAAAAcH4N0QgAA6Ioig3RCAADQ+SWDdEIAALhoKYN0QgAAoNcsg3RCAACIRjCDdEIAAHC1M4N0QgAAWCQ3g3RCAABAkzqDdEIAACgCPoN0QgAAEHFBg3RCAAD430SDdEIAAOBOSIN0QgAAyL1Lg3RCAACwLE+DdEIAAJibUoN0QgAAgApWg3RCAABoeVmDdEIAAFDoXIN0QgAAOFdgg3RCAAAgxmODdEIAAAg1Z4N0QgAA8KNqg3RCAADYEm6DdEIAAMCBcYN0QgAAqPB0g3RCAACQX3iDdEIAAHjOe4N0QgAAYD1/g3RCAABIrIKDdEIAADAbhoN0QgAAGIqJg3RCAAAA+YyDdEIAAOhnkIN0QgAA0NaTg3RCAAC4RZeDdEIAAKC0moN0QgAAiCOeg3RCAABwkqGDdEIAAFgBpYN0QgAAQHCog3RCAAAo36uDdEIAABBOr4N0QgAA+Lyyg3RCAADgK7aDdEIAAMiauYN0QgAAsAm9g3RCAACYeMCDdEIAAIDnw4N0QgAAaFbHg3RCAABQxcqDdEIAADg0zoN0QgAAIKPRg3RCAAAIEtWDdEIAAPCA2IN0QgAA2O/bg3RCAADAXt+DdEIAAKjN4oN0QgAAkDzmg3RCAAB4q+mDdEIAAGAa7YN0QgAASInwg3RCAAAw+PODdEIAABhn94N0QgAAANb6g3RCAADoRP6DdEIAANCzAYR0QgAAuCIFhHRCAACgkQiEdEIAAIgADIR0QgAAcG8PhHRCAABY3hKEdEIAAEBNFoR0QgAAKLwZhHRCAAAQKx2EdEIAAPiZIIR0QgAA4AgkhHRCAADIdyeEdEIAALDmKoR0QgAAmFUuhHRCAACAxDGEdEIAAGgzNYR0QgAAUKI4hHRCAAA4ETyEdEIAACCAP4R0QgAACO9ChHRCAADwXUaEdEIAANjMSYR0QgAAwDtNhHRCAACoqlCEdEIAAJAZVIR0QgAAeIhXhHRCAABg91qEdEIAAEhmXoR0QgAAMNVhhHRCAAAYRGWEdEIAAACzaIR0QgAA6CFshHRCAADQkG+EdEIAALj/coR0QgAAoG52hHRCAACI3XmEdEIAAHBMfYR0QgAAWLuAhHRCAABAKoSEdEIAACiZh4R0QgAAEAiLhHRCAAD4do6EdEIAAODlkYR0QgAAyFSVhHRCAACww5iEdEIAAJgynIR0QgAAgKGfhHRCAABoEKOEdEIAAFB/poR0QgAAOO6phHRCAAAgXa2EdEIAAAjMsIR0QgAA8Dq0hHRCAADYqbeEdEIAAMAYu4R0QgAAqIe+hHRCAACQ9sGEdEIAAHhlxYR0QgAAYNTIhHRCAABIQ8yEdEIAADCyz4R0QgAAGCHThHRCAAAAkNaEdEIAAOj+2YR0QgAA0G3dhHRCAAC43OCEdEIAAKBL5IR0QgAAiLrnhHRCAABwKeuEdEIAAFiY7oR0QgAAQAfyhHRCAAAodvWEdEIAABDl+IR0QgAA+FP8hHRCAADgwv+EdEIAAMgxA4V0QgAAsKAGhXRCAACYDwqFdEIAAIB+DYV0QgAAaO0QhXRCAABQXBSFdEIAADjLF4V0QgAAIDobhXRCAAAIqR6FdEIAAPAXIoV0QgAA2IYlhXRC\",\"dtype\":\"float64\",\"shape\":[168]},\"y\":{\"__ndarray__\":\"22hMhRMncEArEEnXulNxQMT9i2+oRnFAWaf8UafMcEDZnQ8s8/RxQH4r1oArlnJA/MAyTxYoeUA/H1jmycJ3QKilpaWl5XdABQUFBQWVeUCeDyzzZIF7QD7NsOl3y3tA1F5Cewl9e0BM+aNO+WN8QNsWpYjB/3tAYdj0uy1ae0DoWnc+sGx8QEBBQUFB4XtA5P7FN1QrfEBAtdGYCvd7QIIr1oArZnpAzEFeJZeDeUB0Vo8dAep3QGXd+cAyr3VAEaCDvEpOcEAVoIO8Sk5wQEhjKpy4X3BAqjEVTtyfb0DrCNBBXtVwQI065Y86NXFArsyTBSJZdkBnEr1nEn13QEJ7Ce0lBHhAjfsX31C9ekBZfEO10Rh7QK4jQAd5RXxA5P7FN1QrfEB97AjQQR58QLZnEr1nsnxAZvDTDJsue0C4C2G2C3F8QPWeSfSe2XxAHVPhxP1LfkAmes8ker98QAEi6Vp3jntAaEyFE/dve0DfbVGKGBx6QPijTvmjLndAdecDyzwpckD2gWWeLBBzQO4ltJfQznJARoAO8ipZckCWJwtE0oVzQDn9botSpHNAu7m5ubmpeEDfxP2Lbzh4QHLKH3XK/3dAO8ir5HKmeUCBSLrWnV98QBLaS2gvEXxAVjhx/+KrekCwr6+vry98QP+tWAOueHtAatj0uy1ae0Anes8ker98QJAAHeRV4nxAGjb9botSfEBwqDYaU7F7QFPE4KcZlnpAds8kes8kekCfZtj0u515QLwQZrsQxnZA8nxgmSfrcECfZtj0u81xQAGRdK07r3FAYF9fX19PcUC0BlyxBnxyQEj0nkn0bnJANfhphk1PeUC+FWvAFet4QAroIK+Sm3dAOFQbjamQeUAQ8iq5nOV7QCGSrnXnk3xA2i6E2S7Ue0AGCgoKCrp7QGRMhRP3b3tA/sU3VBtNe0DwtihFDK58QAzaS2gvEXxADn6aYdPPe0Cig7xKLpd7QEe10ZgK93tAai+hvYR2eUBvF8JsF6J5QBAPDw8PD3ZAtUUpYvDDcEA24Io14KpxQGovob2EpnFAHsx2IczmcEDSKX/UKd9xQNO17nxgyXFAvLm5ubmpeEAkWObJAqF4QG9ubm5uvndAOFQbjamQeUB7YJknCzR8QPtphk2/C3tA6j2T6D1zekCaJwtE0lV7QKxT/qhT7ntAJF3rzgfGekAm6Vp3PrB6QMgCkXStO3tAw76+vr7OekDS6rEjQGd7QFY4cf/iq3pAdP/iG6rNeUA9PDw8PLx5QKxYA65YQ3ZA5iCvksupcECafrdFKaJxQHJzc3NzE3JAz83Nzc2dcUDzDdVGY/pyQCyhvYT2YnNAX19fX18feUB9mmHT71Z4QBaIpGvdSXhA57EjQAeJekA+zbDpd8t7QP9ui1LEMH1A4oo14IoVfED6hmqjMQV9QCxi8NMM63xAtPOBZZ6cfEAies8ker98QKhr3fnAwntACAoKCgq6e0A8QUFBQeF7QFogkq5113pAUsTgpxmWekCqHjsCdCB6QHchzHYhHHZAifYS2kvIcEAy4Io14KpxQGijMRVOvHFAXtPvtihlcUD+NMOm321xQOfE/YtvaHBACLNdCLPNdUCrcOL+xRd2QMH4hmqj8XZAEKCDvEoeeEDoVXI5q0d6QJbQXkJ7OX1A41p3PrBsfEBR+aNO+WN8QGrd+cAyf31A09LS0tKSe0A4/W6LUnR7QI3jOI7j6HpAUFBQUFCAekD3aYZNvwt7QHdblCIGD3pADLhiDbjyd0DiOI7jOE54QLp/8Q3VtnRA\",\"dtype\":\"float64\",\"shape\":[168]}},\"selected\":{\"id\":\"19923\",\"type\":\"Selection\"},\"selection_policy\":{\"id\":\"19922\",\"type\":\"UnionRenderers\"}},\"id\":\"19273\",\"type\":\"ColumnDataSource\"},{\"attributes\":{},\"id\":\"19239\",\"type\":\"ResetTool\"},{\"attributes\":{\"days\":[1,4,7,10,13,16,19,22,25,28]},\"id\":\"19262\",\"type\":\"DaysTicker\"},{\"attributes\":{\"dimension\":1,\"ticker\":{\"id\":\"19231\",\"type\":\"BasicTicker\"}},\"id\":\"19234\",\"type\":\"Grid\"},{\"attributes\":{\"label\":{\"value\":\"targets\"},\"renderers\":[{\"id\":\"19276\",\"type\":\"GlyphRenderer\"}]},\"id\":\"19298\",\"type\":\"LegendItem\"},{\"attributes\":{\"days\":[1,2,3,4,5,6,7,8,9,10,11,12,13,14,15,16,17,18,19,20,21,22,23,24,25,26,27,28,29,30,31]},\"id\":\"19261\",\"type\":\"DaysTicker\"},{\"attributes\":{},\"id\":\"19283\",\"type\":\"UnionRenderers\"},{\"attributes\":{},\"id\":\"19238\",\"type\":\"SaveTool\"}],\"root_ids\":[\"19214\"]},\"title\":\"Bokeh Application\",\"version\":\"1.4.0\"}};\n",
       "  var render_items = [{\"docid\":\"221d5b51-5369-4f88-938b-42feedd7e9ad\",\"roots\":{\"19214\":\"686b5292-e89b-468d-bc19-1908b0e67257\"}}];\n",
       "  root.Bokeh.embed.embed_items_notebook(docs_json, render_items);\n",
       "\n",
       "  }\n",
       "  if (root.Bokeh !== undefined) {\n",
       "    embed_document(root);\n",
       "  } else {\n",
       "    var attempts = 0;\n",
       "    var timer = setInterval(function(root) {\n",
       "      if (root.Bokeh !== undefined) {\n",
       "        clearInterval(timer);\n",
       "        embed_document(root);\n",
       "      } else {\n",
       "        attempts++;\n",
       "        if (attempts > 100) {\n",
       "          clearInterval(timer);\n",
       "          console.log(\"Bokeh: ERROR: Unable to run BokehJS code because BokehJS library is missing\");\n",
       "        }\n",
       "      }\n",
       "    }, 10, root)\n",
       "  }\n",
       "})(window);"
      ],
      "application/vnd.bokehjs_exec.v0+json": ""
     },
     "metadata": {
      "application/vnd.bokehjs_exec.v0+json": {
       "id": "19214"
      }
     },
     "output_type": "display_data"
    },
    {
     "data": {
      "text/html": [
       "\n",
       "\n",
       "\n",
       "\n",
       "\n",
       "\n",
       "  <div class=\"bk-root\" id=\"23e0622d-17c9-4985-ad0b-854622809108\" data-root-id=\"20069\"></div>\n"
      ]
     },
     "metadata": {},
     "output_type": "display_data"
    },
    {
     "data": {
      "application/javascript": [
       "(function(root) {\n",
       "  function embed_document(root) {\n",
       "    \n",
       "  var docs_json = {\"bad6323d-9bf7-4f77-b766-b5c91b023f24\":{\"roots\":{\"references\":[{\"attributes\":{\"below\":[{\"id\":\"20080\",\"type\":\"DatetimeAxis\"}],\"center\":[{\"id\":\"20084\",\"type\":\"Grid\"},{\"id\":\"20089\",\"type\":\"Grid\"},{\"id\":\"20126\",\"type\":\"Legend\"}],\"left\":[{\"id\":\"20085\",\"type\":\"LinearAxis\"}],\"plot_height\":320,\"plot_width\":960,\"renderers\":[{\"id\":\"20106\",\"type\":\"GlyphRenderer\"},{\"id\":\"20131\",\"type\":\"GlyphRenderer\"}],\"title\":{\"id\":\"20070\",\"type\":\"Title\"},\"toolbar\":{\"id\":\"20096\",\"type\":\"Toolbar\"},\"x_range\":{\"id\":\"20072\",\"type\":\"DataRange1d\"},\"x_scale\":{\"id\":\"20076\",\"type\":\"LinearScale\"},\"y_range\":{\"id\":\"20074\",\"type\":\"DataRange1d\"},\"y_scale\":{\"id\":\"20078\",\"type\":\"LinearScale\"}},\"id\":\"20069\",\"subtype\":\"Figure\",\"type\":\"Plot\"},{\"attributes\":{\"months\":[0,2,4,6,8,10]},\"id\":\"20121\",\"type\":\"MonthsTicker\"},{\"attributes\":{\"axis_label\":\"Value\",\"formatter\":{\"id\":\"20109\",\"type\":\"BasicTickFormatter\"},\"ticker\":{\"id\":\"20086\",\"type\":\"BasicTicker\"}},\"id\":\"20085\",\"type\":\"LinearAxis\"},{\"attributes\":{},\"id\":\"20111\",\"type\":\"DatetimeTickFormatter\"},{\"attributes\":{\"days\":[1,2,3,4,5,6,7,8,9,10,11,12,13,14,15,16,17,18,19,20,21,22,23,24,25,26,27,28,29,30,31]},\"id\":\"20116\",\"type\":\"DaysTicker\"},{\"attributes\":{\"callback\":null,\"data\":{\"x\":{\"__ndarray__\":\"AACALeiCdEIAAGic64J0QgAAUAvvgnRCAAA4evKCdEIAACDp9YJ0QgAACFj5gnRCAADwxvyCdEIAANg1AIN0QgAAwKQDg3RCAACoEweDdEIAAJCCCoN0QgAAePENg3RCAABgYBGDdEIAAEjPFIN0QgAAMD4Yg3RCAAAYrRuDdEIAAAAcH4N0QgAA6Ioig3RCAADQ+SWDdEIAALhoKYN0QgAAoNcsg3RCAACIRjCDdEIAAHC1M4N0QgAAWCQ3g3RCAABAkzqDdEIAACgCPoN0QgAAEHFBg3RCAAD430SDdEIAAOBOSIN0QgAAyL1Lg3RCAACwLE+DdEIAAJibUoN0QgAAgApWg3RCAABoeVmDdEIAAFDoXIN0QgAAOFdgg3RCAAAgxmODdEIAAAg1Z4N0QgAA8KNqg3RCAADYEm6DdEIAAMCBcYN0QgAAqPB0g3RCAACQX3iDdEIAAHjOe4N0QgAAYD1/g3RCAABIrIKDdEIAADAbhoN0QgAAGIqJg3RCAAAA+YyDdEIAAOhnkIN0QgAA0NaTg3RCAAC4RZeDdEIAAKC0moN0QgAAiCOeg3RCAABwkqGDdEIAAFgBpYN0QgAAQHCog3RCAAAo36uDdEIAABBOr4N0QgAA+Lyyg3RCAADgK7aDdEIAAMiauYN0QgAAsAm9g3RCAACYeMCDdEIAAIDnw4N0QgAAaFbHg3RCAABQxcqDdEIAADg0zoN0QgAAIKPRg3RCAAAIEtWDdEIAAPCA2IN0QgAA2O/bg3RCAADAXt+DdEIAAKjN4oN0QgAAkDzmg3RCAAB4q+mDdEIAAGAa7YN0QgAASInwg3RCAAAw+PODdEIAABhn94N0QgAAANb6g3RCAADoRP6DdEIAANCzAYR0QgAAuCIFhHRCAACgkQiEdEIAAIgADIR0QgAAcG8PhHRCAABY3hKEdEIAAEBNFoR0QgAAKLwZhHRCAAAQKx2EdEIAAPiZIIR0QgAA4AgkhHRCAADIdyeEdEIAALDmKoR0QgAAmFUuhHRCAACAxDGEdEIAAGgzNYR0QgAAUKI4hHRCAAA4ETyEdEIAACCAP4R0QgAACO9ChHRCAADwXUaEdEIAANjMSYR0QgAAwDtNhHRCAACoqlCEdEIAAJAZVIR0QgAAeIhXhHRCAABg91qEdEIAAEhmXoR0QgAAMNVhhHRCAAAYRGWEdEIAAACzaIR0QgAA6CFshHRCAADQkG+EdEIAALj/coR0QgAAoG52hHRCAACI3XmEdEIAAHBMfYR0QgAAWLuAhHRCAABAKoSEdEIAACiZh4R0QgAAEAiLhHRCAAD4do6EdEIAAODlkYR0QgAAyFSVhHRCAACww5iEdEIAAJgynIR0QgAAgKGfhHRCAABoEKOEdEIAAFB/poR0QgAAOO6phHRCAAAgXa2EdEIAAAjMsIR0QgAA8Dq0hHRCAADYqbeEdEIAAMAYu4R0QgAAqIe+hHRCAACQ9sGEdEIAAHhlxYR0QgAAYNTIhHRCAABIQ8yEdEIAADCyz4R0QgAAGCHThHRCAAAAkNaEdEIAAOj+2YR0QgAA0G3dhHRCAAC43OCEdEIAAKBL5IR0QgAAiLrnhHRCAABwKeuEdEIAAFiY7oR0QgAAQAfyhHRCAAAodvWEdEIAABDl+IR0QgAA+FP8hHRCAADgwv+EdEIAAMgxA4V0QgAAsKAGhXRCAACYDwqFdEIAAIB+DYV0QgAAaO0QhXRCAABQXBSFdEIAADjLF4V0QgAAIDobhXRCAAAIqR6FdEIAAPAXIoV0QgAA2IYlhXRC\",\"dtype\":\"float64\",\"shape\":[168]},\"y\":{\"__ndarray__\":\"AAAAID9nYkAAAADgcDtiQAAAACCc2GFAAAAA4IY4YkAAAAAAncdhQAAAAMCpm2BAAAAAQF2oZkAAAABgnAJwQAAAAMBwdW9AAAAAQBx8cUAAAAAgaIhyQAAAAEBJnHRAAAAAIMsgdUAAAAAgkPV2QAAAAGCnJ3hAAAAAAKbid0AAAAAg7/l4QAAAAKAmT3hAAAAAQJ4ldkAAAADgH2B0QAAAAKAtl3JAAAAAgNaEcUAAAADA1xhvQAAAAMAs02VAAAAAwL9ZYkAAAAAA8hViQAAAAICPUGJAAAAAAET4YUAAAADA3J5hQAAAAGCZXWFAAAAAoLgkaEAAAACAtAdvQAAAAAAZhG1AAAAAYFQbckAAAABAKxJ0QAAAACBGpXRAAAAAIC3ZdUAAAAAg1Nh3QAAAAEBel3dAAAAAACJ2eEAAAADAQfR4QAAAAIAjpnhAAAAAoMIndkAAAACAeTZ2QAAAAADuhHJAAAAAIDjScUAAAABgU3lvQAAAAKCwn2ZAAAAAQA6+YkAAAACgxPRiQAAAAGAsKWNAAAAAgCgxYkAAAAAAZPNiQAAAAKB31WFAAAAA4AdFbEAAAACAWKduQAAAAMASR21AAAAAwGfqcUAAAAAgC/NzQAAAAKBcqHRAAAAAQIzedUAAAACgqIN1QAAAAIDlc3ZAAAAAADzPd0AAAAAAeO13QAAAAMB0XXdAAAAAADoqdkAAAAAAG5x0QAAAACDxl3JAAAAAYNxhckAAAACA/j1wQAAAAIBDn2hAAAAAoPCjZEAAAABAy1BkQAAAAAA1cWNAAAAA4JXBYkAAAACAm31iQAAAAGD32WJAAAAAYJ5TakAAAAAAuclvQAAAAGALzGtAAAAAIOWbckAAAADgaZBzQAAAAAAFAXVAAAAAYO6wdEAAAABgScN0QAAAAMD4+nRAAAAAgOdedkAAAADA4zF2QAAAAABQ9HVAAAAAQJEhdUAAAADgd+ZyQAAAACDR+3FAAAAAwJ+VcUAAAAAABGtsQAAAAMBFGWVAAAAAgCMhY0AAAAAgwX5hQAAAAGDg2WFAAAAAgJhyYUAAAAAA0u1hQAAAAGCLeGJAAAAAwCfSaUAAAAAA/kxuQAAAAEDT+WxAAAAAwF3BcEAAAACgohhzQAAAAGCfdnNAAAAAYA6vdEAAAADARRl1QAAAAMA0+3RAAAAAgP8edUAAAADAp7d1QAAAAOBBgXVAAAAAQEEZc0AAAAAA1xFyQAAAAGDMo3BAAAAAIIREcEAAAACg3fFqQAAAAKAt/2JAAAAAYM5VY0AAAACAgRxjQAAAAIB9KWJAAAAAgFwJYkAAAADAc/RhQAAAAAA4/mFAAAAAYKBxaEAAAADAGZRtQAAAAICSM2tAAAAAIJjwb0AAAAAgSYpxQAAAACDJcHNAAAAAYDfEc0AAAACgPtt0QAAAAIBaT3VAAAAAwMvJdUAAAADgeFF2QAAAAMBrP3ZAAAAA4I63ckAAAADAJ8FxQAAAAMAJzG9AAAAAAHQGcEAAAABgQLZqQAAAAGDdhWJAAAAAAMZ7YkAAAAAAYqpjQAAAAKC8ZGNAAAAAYABsY0AAAADAMLNjQAAAAICQLmRAAAAAQOOLbUAAAABgE7hvQAAAAKB1z21AAAAAQKBrcUAAAABAQ150QAAAAEBEZ3VAAAAAoDPjdUAAAABgkI92QAAAAIBRjXZAAAAAQE/RdkAAAADAecR2QAAAAIAfjXZAAAAAQBysdUAAAACAr1tzQAAAAODadXFAAAAAYNZ1cEAAAADghPtrQAAAAOAzh2RA\",\"dtype\":\"float64\",\"shape\":[168]}},\"selected\":{\"id\":\"20139\",\"type\":\"Selection\"},\"selection_policy\":{\"id\":\"20138\",\"type\":\"UnionRenderers\"}},\"id\":\"20103\",\"type\":\"ColumnDataSource\"},{\"attributes\":{\"base\":60,\"mantissas\":[1,2,5,10,15,20,30],\"max_interval\":1800000.0,\"min_interval\":1000.0,\"num_minor_ticks\":0},\"id\":\"20114\",\"type\":\"AdaptiveTicker\"},{\"attributes\":{\"axis_label\":\"Timestmap\",\"formatter\":{\"id\":\"20111\",\"type\":\"DatetimeTickFormatter\"},\"ticker\":{\"id\":\"20081\",\"type\":\"DatetimeTicker\"}},\"id\":\"20080\",\"type\":\"DatetimeAxis\"},{\"attributes\":{\"line_alpha\":0.1,\"line_color\":\"#1f77b4\",\"x\":{\"field\":\"x\"},\"y\":{\"field\":\"y\"}},\"id\":\"20130\",\"type\":\"Line\"},{\"attributes\":{\"data_source\":{\"id\":\"20128\",\"type\":\"ColumnDataSource\"},\"glyph\":{\"id\":\"20129\",\"type\":\"Line\"},\"hover_glyph\":null,\"muted_glyph\":null,\"nonselection_glyph\":{\"id\":\"20130\",\"type\":\"Line\"},\"selection_glyph\":null,\"view\":{\"id\":\"20132\",\"type\":\"CDSView\"}},\"id\":\"20131\",\"type\":\"GlyphRenderer\"},{\"attributes\":{\"months\":[0,4,8]},\"id\":\"20122\",\"type\":\"MonthsTicker\"},{\"attributes\":{},\"id\":\"20086\",\"type\":\"BasicTicker\"},{\"attributes\":{\"label\":{\"value\":\"predictions\"},\"renderers\":[{\"id\":\"20106\",\"type\":\"GlyphRenderer\"}]},\"id\":\"20127\",\"type\":\"LegendItem\"},{\"attributes\":{},\"id\":\"20076\",\"type\":\"LinearScale\"},{\"attributes\":{\"base\":24,\"mantissas\":[1,2,4,6,8,12],\"max_interval\":43200000.0,\"min_interval\":3600000.0,\"num_minor_ticks\":0},\"id\":\"20115\",\"type\":\"AdaptiveTicker\"},{\"attributes\":{},\"id\":\"20078\",\"type\":\"LinearScale\"},{\"attributes\":{\"line_color\":\"blue\",\"x\":{\"field\":\"x\"},\"y\":{\"field\":\"y\"}},\"id\":\"20129\",\"type\":\"Line\"},{\"attributes\":{\"overlay\":{\"id\":\"20125\",\"type\":\"BoxAnnotation\"}},\"id\":\"20092\",\"type\":\"BoxZoomTool\"},{\"attributes\":{\"source\":{\"id\":\"20128\",\"type\":\"ColumnDataSource\"}},\"id\":\"20132\",\"type\":\"CDSView\"},{\"attributes\":{},\"id\":\"20093\",\"type\":\"SaveTool\"},{\"attributes\":{},\"id\":\"20090\",\"type\":\"PanTool\"},{\"attributes\":{\"data_source\":{\"id\":\"20103\",\"type\":\"ColumnDataSource\"},\"glyph\":{\"id\":\"20104\",\"type\":\"Line\"},\"hover_glyph\":null,\"muted_glyph\":null,\"nonselection_glyph\":{\"id\":\"20105\",\"type\":\"Line\"},\"selection_glyph\":null,\"view\":{\"id\":\"20107\",\"type\":\"CDSView\"}},\"id\":\"20106\",\"type\":\"GlyphRenderer\"},{\"attributes\":{\"callback\":null},\"id\":\"20074\",\"type\":\"DataRange1d\"},{\"attributes\":{\"callback\":null,\"data\":{\"x\":{\"__ndarray__\":\"AACALeiCdEIAAGic64J0QgAAUAvvgnRCAAA4evKCdEIAACDp9YJ0QgAACFj5gnRCAADwxvyCdEIAANg1AIN0QgAAwKQDg3RCAACoEweDdEIAAJCCCoN0QgAAePENg3RCAABgYBGDdEIAAEjPFIN0QgAAMD4Yg3RCAAAYrRuDdEIAAAAcH4N0QgAA6Ioig3RCAADQ+SWDdEIAALhoKYN0QgAAoNcsg3RCAACIRjCDdEIAAHC1M4N0QgAAWCQ3g3RCAABAkzqDdEIAACgCPoN0QgAAEHFBg3RCAAD430SDdEIAAOBOSIN0QgAAyL1Lg3RCAACwLE+DdEIAAJibUoN0QgAAgApWg3RCAABoeVmDdEIAAFDoXIN0QgAAOFdgg3RCAAAgxmODdEIAAAg1Z4N0QgAA8KNqg3RCAADYEm6DdEIAAMCBcYN0QgAAqPB0g3RCAACQX3iDdEIAAHjOe4N0QgAAYD1/g3RCAABIrIKDdEIAADAbhoN0QgAAGIqJg3RCAAAA+YyDdEIAAOhnkIN0QgAA0NaTg3RCAAC4RZeDdEIAAKC0moN0QgAAiCOeg3RCAABwkqGDdEIAAFgBpYN0QgAAQHCog3RCAAAo36uDdEIAABBOr4N0QgAA+Lyyg3RCAADgK7aDdEIAAMiauYN0QgAAsAm9g3RCAACYeMCDdEIAAIDnw4N0QgAAaFbHg3RCAABQxcqDdEIAADg0zoN0QgAAIKPRg3RCAAAIEtWDdEIAAPCA2IN0QgAA2O/bg3RCAADAXt+DdEIAAKjN4oN0QgAAkDzmg3RCAAB4q+mDdEIAAGAa7YN0QgAASInwg3RCAAAw+PODdEIAABhn94N0QgAAANb6g3RCAADoRP6DdEIAANCzAYR0QgAAuCIFhHRCAACgkQiEdEIAAIgADIR0QgAAcG8PhHRCAABY3hKEdEIAAEBNFoR0QgAAKLwZhHRCAAAQKx2EdEIAAPiZIIR0QgAA4AgkhHRCAADIdyeEdEIAALDmKoR0QgAAmFUuhHRCAACAxDGEdEIAAGgzNYR0QgAAUKI4hHRCAAA4ETyEdEIAACCAP4R0QgAACO9ChHRCAADwXUaEdEIAANjMSYR0QgAAwDtNhHRCAACoqlCEdEIAAJAZVIR0QgAAeIhXhHRCAABg91qEdEIAAEhmXoR0QgAAMNVhhHRCAAAYRGWEdEIAAACzaIR0QgAA6CFshHRCAADQkG+EdEIAALj/coR0QgAAoG52hHRCAACI3XmEdEIAAHBMfYR0QgAAWLuAhHRCAABAKoSEdEIAACiZh4R0QgAAEAiLhHRCAAD4do6EdEIAAODlkYR0QgAAyFSVhHRCAACww5iEdEIAAJgynIR0QgAAgKGfhHRCAABoEKOEdEIAAFB/poR0QgAAOO6phHRCAAAgXa2EdEIAAAjMsIR0QgAA8Dq0hHRCAADYqbeEdEIAAMAYu4R0QgAAqIe+hHRCAACQ9sGEdEIAAHhlxYR0QgAAYNTIhHRCAABIQ8yEdEIAADCyz4R0QgAAGCHThHRCAAAAkNaEdEIAAOj+2YR0QgAA0G3dhHRCAAC43OCEdEIAAKBL5IR0QgAAiLrnhHRCAABwKeuEdEIAAFiY7oR0QgAAQAfyhHRCAAAodvWEdEIAABDl+IR0QgAA+FP8hHRCAADgwv+EdEIAAMgxA4V0QgAAsKAGhXRCAACYDwqFdEIAAIB+DYV0QgAAaO0QhXRCAABQXBSFdEIAADjLF4V0QgAAIDobhXRCAAAIqR6FdEIAAPAXIoV0QgAA2IYlhXRC\",\"dtype\":\"float64\",\"shape\":[168]},\"y\":{\"__ndarray__\":\"thwjuf6BYUDYdDlGcl1iQCy5/uG+vWFAvxwjuf5ZYUCmpssxkitiQIxOtaQeKGFA8CYTwtDJZkDl42tnfhpvQMRtFOAR3GtAlesf7ltocUCLVdoKf7FzQOAv5YmoZHVAzt7zYpUydUD0tTM/TSd5QNvsPS9WRXpAGec2CvDMeUAti8a5jdZ4QLdRgEeQXnlAlAlh6FSvdkDS3vNilX50QJXrH+5bzHFArtJW+EsJcUBKAR5B+rBrQBiUmIFlwWJAkVz/cN+6Y0AkwCNIHy9jQO/FKm2Ft2JADW8yIQwlY0DYdDlGcoViQDDliah4e2JAlOT6h/tmaEAhstl7XuxvQAhh6FRL2m1A2HQ5RnLpckB2bqMAj9RzQNLe82KV4nRAnBCGTrW0dUBi6FRL6r14QDYK8AjSj3dAcYzk+ofbd0AA0sfXzqh3QKphd3XITndAhL+UJ6K+dUCPVdoKf/1yQNYKfylPQHFAZbP3vFj1cEBdJNc/3MdqQOSgxAwsG2NAqtJW+EsRY0Aiuf7hvg1iQFFb4S/lqWFAm5+myzEKYUAUaA27qytiQPDqkM3es2FA9tqZn6bzakB+mi7HSApwQGDROLdRcG5AeATp42srckBybqMAj2B0QObFKm2F+3RAQjZ7z4tRdED2vFilrVR4QNaZn6bLmXdAYNE4t1FUd0Cu8JfyRLR2QLT3vFilWXZAzd7zYpWmdEDAjQI8gvxzQMEjSB9fd3FANXvPi1UicUDqkM3e81psQJ6IijeZUGRAqtJW+EsRY0Ajm73nxQpkQC7AI0gfV2NAIpSYgWXBYkAgbzIhDE1jQHopT0TF22FA1gp/KU+caUB6mi7HSL5wQGDROLdREG9AIJSYgWX5cUDrxSpthed0QLT3vFilpXVAgL+UJ6JGdUBUh2z2nq91QP4WHJSYGXVAyEiuf7gTdkDygNawu4Z2QCK5/uG+bXZA/RYclJgFdUCoPBEVbz5zQNoKfylPyHBAl4Fl0ThzcEAOM7AsGgdrQF2HbPaeP2JAkXpAa9iVYUBgrNJW+GNhQAph6FRL4mBAz5J6QGuwYECRekBr2L1hQKrwl/JE7GBARJA+vnbGZUDBQYkZWAZvQIROtaQekGxABUOnWlI7cUDUdDlGcjlzQBb+Up6IVnRAzt7zYpVCdEDHSK5/uNt2QLxBiRlYNndAQKA17K4idkBS8SYTwlh3QKphd3XIwnZAzt7zYpUKdUCepssxkqdzQJDrH+5bCHJAqDwRFW8SckAPM7AsGudsQDnsrg7ZxGNAjTB0qiUlY0CSgWXROAdjQHgE6eNrZ2JAXGIGlkXzYkB6Cw5KzLBjQMVP0+UYYWNAgmXROLdBZ0D/YOhUS0JvQGDROLdRWG1AHJSYgWWZckAW/lKeiH50QLD3vFilkXVA5sUqbYVHdEDHSK5/uIt2QE6AR5A+vnZAPKA17K4idkCw97xYpeF1QIm/lCeilnVAnabLMZK/dEApT0TFm5x0QObFKm2F93NAHJSYgWU1ckCqltQDWoNsQEA9oDXspmNAVYds9p4/YkCepssxklNiQFSHbPaeF2JA/RYclJghYkAuwCNIHy9jQJJ6QGvYvWFARnL9w30LZkC4QYkZWD5uQJIgfXzt1GpAZbP3vFhtcUApT0TFm2R1QJ6myzGSv3RAQjZ7z4tldEDISK5/uHd2QNWZn6bLDXdAcozk+oeLd0DygNawu3J2QJIQhk61VHZADGgNu6vDdUAW/lKeiAZ0QI9V2gp/nXNA7FtwUGLqcUC9E1HxJvtsQJyBZdE4B2NA\",\"dtype\":\"float64\",\"shape\":[168]}},\"selected\":{\"id\":\"20800\",\"type\":\"Selection\"},\"selection_policy\":{\"id\":\"20799\",\"type\":\"UnionRenderers\"}},\"id\":\"20128\",\"type\":\"ColumnDataSource\"},{\"attributes\":{},\"id\":\"20138\",\"type\":\"UnionRenderers\"},{\"attributes\":{},\"id\":\"20799\",\"type\":\"UnionRenderers\"},{\"attributes\":{\"source\":{\"id\":\"20103\",\"type\":\"ColumnDataSource\"}},\"id\":\"20107\",\"type\":\"CDSView\"},{\"attributes\":{\"label\":{\"value\":\"targets\"},\"renderers\":[{\"id\":\"20131\",\"type\":\"GlyphRenderer\"}]},\"id\":\"20153\",\"type\":\"LegendItem\"},{\"attributes\":{\"line_alpha\":0.1,\"line_color\":\"#1f77b4\",\"x\":{\"field\":\"x\"},\"y\":{\"field\":\"y\"}},\"id\":\"20105\",\"type\":\"Line\"},{\"attributes\":{\"bottom_units\":\"screen\",\"fill_alpha\":{\"value\":0.5},\"fill_color\":{\"value\":\"lightgrey\"},\"left_units\":\"screen\",\"level\":\"overlay\",\"line_alpha\":{\"value\":1.0},\"line_color\":{\"value\":\"black\"},\"line_dash\":[4,4],\"line_width\":{\"value\":2},\"render_mode\":\"css\",\"right_units\":\"screen\",\"top_units\":\"screen\"},\"id\":\"20125\",\"type\":\"BoxAnnotation\"},{\"attributes\":{\"days\":[1,4,7,10,13,16,19,22,25,28]},\"id\":\"20117\",\"type\":\"DaysTicker\"},{\"attributes\":{\"callback\":null},\"id\":\"20072\",\"type\":\"DataRange1d\"},{\"attributes\":{},\"id\":\"20124\",\"type\":\"YearsTicker\"},{\"attributes\":{\"text\":\"Predictions over the test dataset for MT_326\"},\"id\":\"20070\",\"type\":\"Title\"},{\"attributes\":{},\"id\":\"20139\",\"type\":\"Selection\"},{\"attributes\":{\"months\":[0,6]},\"id\":\"20123\",\"type\":\"MonthsTicker\"},{\"attributes\":{},\"id\":\"20091\",\"type\":\"WheelZoomTool\"},{\"attributes\":{\"items\":[{\"id\":\"20127\",\"type\":\"LegendItem\"},{\"id\":\"20153\",\"type\":\"LegendItem\"}]},\"id\":\"20126\",\"type\":\"Legend\"},{\"attributes\":{\"ticker\":{\"id\":\"20081\",\"type\":\"DatetimeTicker\"}},\"id\":\"20084\",\"type\":\"Grid\"},{\"attributes\":{},\"id\":\"20094\",\"type\":\"ResetTool\"},{\"attributes\":{\"days\":[1,8,15,22]},\"id\":\"20118\",\"type\":\"DaysTicker\"},{\"attributes\":{\"active_drag\":\"auto\",\"active_inspect\":\"auto\",\"active_multi\":null,\"active_scroll\":\"auto\",\"active_tap\":\"auto\",\"tools\":[{\"id\":\"20090\",\"type\":\"PanTool\"},{\"id\":\"20091\",\"type\":\"WheelZoomTool\"},{\"id\":\"20092\",\"type\":\"BoxZoomTool\"},{\"id\":\"20093\",\"type\":\"SaveTool\"},{\"id\":\"20094\",\"type\":\"ResetTool\"},{\"id\":\"20095\",\"type\":\"HelpTool\"}]},\"id\":\"20096\",\"type\":\"Toolbar\"},{\"attributes\":{},\"id\":\"20095\",\"type\":\"HelpTool\"},{\"attributes\":{\"days\":[1,15]},\"id\":\"20119\",\"type\":\"DaysTicker\"},{\"attributes\":{\"num_minor_ticks\":5,\"tickers\":[{\"id\":\"20113\",\"type\":\"AdaptiveTicker\"},{\"id\":\"20114\",\"type\":\"AdaptiveTicker\"},{\"id\":\"20115\",\"type\":\"AdaptiveTicker\"},{\"id\":\"20116\",\"type\":\"DaysTicker\"},{\"id\":\"20117\",\"type\":\"DaysTicker\"},{\"id\":\"20118\",\"type\":\"DaysTicker\"},{\"id\":\"20119\",\"type\":\"DaysTicker\"},{\"id\":\"20120\",\"type\":\"MonthsTicker\"},{\"id\":\"20121\",\"type\":\"MonthsTicker\"},{\"id\":\"20122\",\"type\":\"MonthsTicker\"},{\"id\":\"20123\",\"type\":\"MonthsTicker\"},{\"id\":\"20124\",\"type\":\"YearsTicker\"}]},\"id\":\"20081\",\"type\":\"DatetimeTicker\"},{\"attributes\":{\"dimension\":1,\"ticker\":{\"id\":\"20086\",\"type\":\"BasicTicker\"}},\"id\":\"20089\",\"type\":\"Grid\"},{\"attributes\":{\"line_color\":\"red\",\"x\":{\"field\":\"x\"},\"y\":{\"field\":\"y\"}},\"id\":\"20104\",\"type\":\"Line\"},{\"attributes\":{},\"id\":\"20800\",\"type\":\"Selection\"},{\"attributes\":{\"mantissas\":[1,2,5],\"max_interval\":500.0,\"num_minor_ticks\":0},\"id\":\"20113\",\"type\":\"AdaptiveTicker\"},{\"attributes\":{\"months\":[0,1,2,3,4,5,6,7,8,9,10,11]},\"id\":\"20120\",\"type\":\"MonthsTicker\"},{\"attributes\":{},\"id\":\"20109\",\"type\":\"BasicTickFormatter\"}],\"root_ids\":[\"20069\"]},\"title\":\"Bokeh Application\",\"version\":\"1.4.0\"}};\n",
       "  var render_items = [{\"docid\":\"bad6323d-9bf7-4f77-b766-b5c91b023f24\",\"roots\":{\"20069\":\"23e0622d-17c9-4985-ad0b-854622809108\"}}];\n",
       "  root.Bokeh.embed.embed_items_notebook(docs_json, render_items);\n",
       "\n",
       "  }\n",
       "  if (root.Bokeh !== undefined) {\n",
       "    embed_document(root);\n",
       "  } else {\n",
       "    var attempts = 0;\n",
       "    var timer = setInterval(function(root) {\n",
       "      if (root.Bokeh !== undefined) {\n",
       "        clearInterval(timer);\n",
       "        embed_document(root);\n",
       "      } else {\n",
       "        attempts++;\n",
       "        if (attempts > 100) {\n",
       "          clearInterval(timer);\n",
       "          console.log(\"Bokeh: ERROR: Unable to run BokehJS code because BokehJS library is missing\");\n",
       "        }\n",
       "      }\n",
       "    }, 10, root)\n",
       "  }\n",
       "})(window);"
      ],
      "application/vnd.bokehjs_exec.v0+json": ""
     },
     "metadata": {
      "application/vnd.bokehjs_exec.v0+json": {
       "id": "20069"
      }
     },
     "output_type": "display_data"
    },
    {
     "data": {
      "text/html": [
       "\n",
       "\n",
       "\n",
       "\n",
       "\n",
       "\n",
       "  <div class=\"bk-root\" id=\"3f32d0a0-33ef-48fd-9376-2b3fda0cf7ef\" data-root-id=\"20946\"></div>\n"
      ]
     },
     "metadata": {},
     "output_type": "display_data"
    },
    {
     "data": {
      "application/javascript": [
       "(function(root) {\n",
       "  function embed_document(root) {\n",
       "    \n",
       "  var docs_json = {\"bfa32e26-ed23-4ea7-870a-0bf529ad0d5b\":{\"roots\":{\"references\":[{\"attributes\":{\"below\":[{\"id\":\"20957\",\"type\":\"DatetimeAxis\"}],\"center\":[{\"id\":\"20961\",\"type\":\"Grid\"},{\"id\":\"20966\",\"type\":\"Grid\"},{\"id\":\"21003\",\"type\":\"Legend\"}],\"left\":[{\"id\":\"20962\",\"type\":\"LinearAxis\"}],\"plot_height\":320,\"plot_width\":960,\"renderers\":[{\"id\":\"20983\",\"type\":\"GlyphRenderer\"},{\"id\":\"21008\",\"type\":\"GlyphRenderer\"}],\"title\":{\"id\":\"20947\",\"type\":\"Title\"},\"toolbar\":{\"id\":\"20973\",\"type\":\"Toolbar\"},\"x_range\":{\"id\":\"20949\",\"type\":\"DataRange1d\"},\"x_scale\":{\"id\":\"20953\",\"type\":\"LinearScale\"},\"y_range\":{\"id\":\"20951\",\"type\":\"DataRange1d\"},\"y_scale\":{\"id\":\"20955\",\"type\":\"LinearScale\"}},\"id\":\"20946\",\"subtype\":\"Figure\",\"type\":\"Plot\"},{\"attributes\":{},\"id\":\"20971\",\"type\":\"ResetTool\"},{\"attributes\":{},\"id\":\"21699\",\"type\":\"Selection\"},{\"attributes\":{},\"id\":\"20955\",\"type\":\"LinearScale\"},{\"attributes\":{\"line_alpha\":0.1,\"line_color\":\"#1f77b4\",\"x\":{\"field\":\"x\"},\"y\":{\"field\":\"y\"}},\"id\":\"20982\",\"type\":\"Line\"},{\"attributes\":{\"source\":{\"id\":\"21005\",\"type\":\"ColumnDataSource\"}},\"id\":\"21009\",\"type\":\"CDSView\"},{\"attributes\":{},\"id\":\"20972\",\"type\":\"HelpTool\"},{\"attributes\":{},\"id\":\"20970\",\"type\":\"SaveTool\"},{\"attributes\":{\"days\":[1,15]},\"id\":\"20996\",\"type\":\"DaysTicker\"},{\"attributes\":{\"label\":{\"value\":\"predictions\"},\"renderers\":[{\"id\":\"20983\",\"type\":\"GlyphRenderer\"}]},\"id\":\"21004\",\"type\":\"LegendItem\"},{\"attributes\":{\"days\":[1,2,3,4,5,6,7,8,9,10,11,12,13,14,15,16,17,18,19,20,21,22,23,24,25,26,27,28,29,30,31]},\"id\":\"20993\",\"type\":\"DaysTicker\"},{\"attributes\":{\"axis_label\":\"Timestmap\",\"formatter\":{\"id\":\"20988\",\"type\":\"DatetimeTickFormatter\"},\"ticker\":{\"id\":\"20958\",\"type\":\"DatetimeTicker\"}},\"id\":\"20957\",\"type\":\"DatetimeAxis\"},{\"attributes\":{\"months\":[0,1,2,3,4,5,6,7,8,9,10,11]},\"id\":\"20997\",\"type\":\"MonthsTicker\"},{\"attributes\":{},\"id\":\"20963\",\"type\":\"BasicTicker\"},{\"attributes\":{},\"id\":\"20953\",\"type\":\"LinearScale\"},{\"attributes\":{\"num_minor_ticks\":5,\"tickers\":[{\"id\":\"20990\",\"type\":\"AdaptiveTicker\"},{\"id\":\"20991\",\"type\":\"AdaptiveTicker\"},{\"id\":\"20992\",\"type\":\"AdaptiveTicker\"},{\"id\":\"20993\",\"type\":\"DaysTicker\"},{\"id\":\"20994\",\"type\":\"DaysTicker\"},{\"id\":\"20995\",\"type\":\"DaysTicker\"},{\"id\":\"20996\",\"type\":\"DaysTicker\"},{\"id\":\"20997\",\"type\":\"MonthsTicker\"},{\"id\":\"20998\",\"type\":\"MonthsTicker\"},{\"id\":\"20999\",\"type\":\"MonthsTicker\"},{\"id\":\"21000\",\"type\":\"MonthsTicker\"},{\"id\":\"21001\",\"type\":\"YearsTicker\"}]},\"id\":\"20958\",\"type\":\"DatetimeTicker\"},{\"attributes\":{\"callback\":null,\"data\":{\"x\":{\"__ndarray__\":\"AACALeiCdEIAAGic64J0QgAAUAvvgnRCAAA4evKCdEIAACDp9YJ0QgAACFj5gnRCAADwxvyCdEIAANg1AIN0QgAAwKQDg3RCAACoEweDdEIAAJCCCoN0QgAAePENg3RCAABgYBGDdEIAAEjPFIN0QgAAMD4Yg3RCAAAYrRuDdEIAAAAcH4N0QgAA6Ioig3RCAADQ+SWDdEIAALhoKYN0QgAAoNcsg3RCAACIRjCDdEIAAHC1M4N0QgAAWCQ3g3RCAABAkzqDdEIAACgCPoN0QgAAEHFBg3RCAAD430SDdEIAAOBOSIN0QgAAyL1Lg3RCAACwLE+DdEIAAJibUoN0QgAAgApWg3RCAABoeVmDdEIAAFDoXIN0QgAAOFdgg3RCAAAgxmODdEIAAAg1Z4N0QgAA8KNqg3RCAADYEm6DdEIAAMCBcYN0QgAAqPB0g3RCAACQX3iDdEIAAHjOe4N0QgAAYD1/g3RCAABIrIKDdEIAADAbhoN0QgAAGIqJg3RCAAAA+YyDdEIAAOhnkIN0QgAA0NaTg3RCAAC4RZeDdEIAAKC0moN0QgAAiCOeg3RCAABwkqGDdEIAAFgBpYN0QgAAQHCog3RCAAAo36uDdEIAABBOr4N0QgAA+Lyyg3RCAADgK7aDdEIAAMiauYN0QgAAsAm9g3RCAACYeMCDdEIAAIDnw4N0QgAAaFbHg3RCAABQxcqDdEIAADg0zoN0QgAAIKPRg3RCAAAIEtWDdEIAAPCA2IN0QgAA2O/bg3RCAADAXt+DdEIAAKjN4oN0QgAAkDzmg3RCAAB4q+mDdEIAAGAa7YN0QgAASInwg3RCAAAw+PODdEIAABhn94N0QgAAANb6g3RCAADoRP6DdEIAANCzAYR0QgAAuCIFhHRCAACgkQiEdEIAAIgADIR0QgAAcG8PhHRCAABY3hKEdEIAAEBNFoR0QgAAKLwZhHRCAAAQKx2EdEIAAPiZIIR0QgAA4AgkhHRCAADIdyeEdEIAALDmKoR0QgAAmFUuhHRCAACAxDGEdEIAAGgzNYR0QgAAUKI4hHRCAAA4ETyEdEIAACCAP4R0QgAACO9ChHRCAADwXUaEdEIAANjMSYR0QgAAwDtNhHRCAACoqlCEdEIAAJAZVIR0QgAAeIhXhHRCAABg91qEdEIAAEhmXoR0QgAAMNVhhHRCAAAYRGWEdEIAAACzaIR0QgAA6CFshHRCAADQkG+EdEIAALj/coR0QgAAoG52hHRCAACI3XmEdEIAAHBMfYR0QgAAWLuAhHRCAABAKoSEdEIAACiZh4R0QgAAEAiLhHRCAAD4do6EdEIAAODlkYR0QgAAyFSVhHRCAACww5iEdEIAAJgynIR0QgAAgKGfhHRCAABoEKOEdEIAAFB/poR0QgAAOO6phHRCAAAgXa2EdEIAAAjMsIR0QgAA8Dq0hHRCAADYqbeEdEIAAMAYu4R0QgAAqIe+hHRCAACQ9sGEdEIAAHhlxYR0QgAAYNTIhHRCAABIQ8yEdEIAADCyz4R0QgAAGCHThHRCAAAAkNaEdEIAAOj+2YR0QgAA0G3dhHRCAAC43OCEdEIAAKBL5IR0QgAAiLrnhHRCAABwKeuEdEIAAFiY7oR0QgAAQAfyhHRCAAAodvWEdEIAABDl+IR0QgAA+FP8hHRCAADgwv+EdEIAAMgxA4V0QgAAsKAGhXRCAACYDwqFdEIAAIB+DYV0QgAAaO0QhXRCAABQXBSFdEIAADjLF4V0QgAAIDobhXRCAAAIqR6FdEIAAPAXIoV0QgAA2IYlhXRC\",\"dtype\":\"float64\",\"shape\":[168]},\"y\":{\"__ndarray__\":\"AAAAIJjedEAAAAAgUX9zQAAAAEBMd3JAAAAAoPeGckAAAAAA+2dxQAAAAECckHNAAAAAIC4AeUAAAADAuHCAQAAAAMDNKoJAAAAAwOTLgkAAAAAg+nGDQAAAAABW6oRAAAAA4AR4h0AAAAAgXbyHQAAAAKBGeYdAAAAAAGmChkAAAACgNmSIQAAAAGCURYlAAAAAwHhIikAAAADA+muJQAAAAIBdXIdAAAAAoKMuhkAAAACAkrCCQAAAAKCAoXxAAAAAYF48dEAAAABgNZZ0QAAAAKCr/HNAAAAAoLhIckAAAADAg0ZxQAAAAOC1y3RAAAAAgPcBeUAAAAAAKyeBQAAAAEDc+4FAAAAAoJpSg0AAAABAMviEQAAAAGAPVodAAAAA4Gpgh0AAAACgRXqGQAAAAKCMS4ZAAAAAwFFzhkAAAACg6jyHQAAAAEApRolAAAAAANz0iUAAAACABJ+IQAAAAEB6aIdAAAAAwJilhUAAAAAgpxyDQAAAAGCcz31AAAAAgHSvc0AAAACgUi90QAAAAKDEanJAAAAAYBRmc0AAAAAgQbpxQAAAAOA4FXZAAAAAQACLfEAAAACgyMaAQAAAAIAYfYJAAAAAYD9+g0AAAACAxdCEQAAAAGB+lIVAAAAAgD4AhkAAAACA9rWEQAAAAOC01YJAAAAAYKDHgkAAAADA2oKEQAAAAGDBK4dAAAAAgGBth0AAAAAg7U6FQAAAAMAF2YNAAAAA4AWihEAAAAAglteCQAAAAECIRHxAAAAAQGcvdUAAAADAinF1QAAAAMDLcXRAAAAAYCTFc0AAAADgPHpzQAAAAOAcjXVAAAAA4GAKe0AAAABAkcmBQAAAAOB244JAAAAAIAHPgkAAAACAQIKDQAAAAACJj4RAAAAAwE5dhEAAAADAix2EQAAAAEBTcINAAAAAwLlnhEAAAACgfYCFQAAAACAA+4RAAAAAoJTOhEAAAABgLQyFQAAAAABPKoVAAAAAQEGYhEAAAADgJACDQAAAAABUqn5AAAAAwAIpdUAAAACgNaF1QAAAAKCNAnRAAAAAAFnPckAAAAAgz2NyQAAAAOCilXVAAAAA4NM8eUAAAADAmqmAQAAAAKCMM4JAAAAAoPBgg0AAAABA3d+DQAAAAIA0b4RAAAAAYJv+g0AAAADgEfODQAAAAOB0FYRAAAAA4D9Jg0AAAACA8m+EQAAAAGDOpoRAAAAAIA65hEAAAAAASkiEQAAAAICpeYRAAAAAADcihEAAAADA03uBQAAAAOCBwXtAAAAAQOLddEAAAABA6odzQAAAAIBq1XJAAAAAgIqtckAAAADAfKBzQAAAAMC2g3ZAAAAA4KbOeUAAAAAgNCOAQAAAAECNBIJAAAAAICK+gkAAAACAOAiDQAAAAIBE84NAAAAAwIachEAAAADgx6aDQAAAAICQFoNAAAAAAK/pgkAAAACADr+CQAAAAMD304RAAAAAoNxOhUAAAADAlL+EQAAAAEAHAYRAAAAAgN1ng0AAAACAOCOBQAAAAICkC3xAAAAAYPSedEAAAACgwI91QAAAACCMqHRAAAAA4P7Wc0AAAABgcZNyQAAAAOD5/3VAAAAAwB4/e0AAAADg0WKAQAAAAGAosoJAAAAAIP2rg0AAAABgoR+FQAAAAKCd+4ZAAAAAoBkbh0AAAABAon2GQAAAAKCVHoRAAAAAIGdYhEAAAADAoruFQAAAAIBd9IVAAAAAAD0qhUAAAAAAWmmFQAAAAAAi+oNAAAAAYN8/g0AAAAAgsJ2AQAAAAKAbm3tA\",\"dtype\":\"float64\",\"shape\":[168]}},\"selected\":{\"id\":\"21016\",\"type\":\"Selection\"},\"selection_policy\":{\"id\":\"21015\",\"type\":\"UnionRenderers\"}},\"id\":\"20980\",\"type\":\"ColumnDataSource\"},{\"attributes\":{},\"id\":\"21016\",\"type\":\"Selection\"},{\"attributes\":{\"months\":[0,2,4,6,8,10]},\"id\":\"20998\",\"type\":\"MonthsTicker\"},{\"attributes\":{\"ticker\":{\"id\":\"20958\",\"type\":\"DatetimeTicker\"}},\"id\":\"20961\",\"type\":\"Grid\"},{\"attributes\":{\"line_color\":\"red\",\"x\":{\"field\":\"x\"},\"y\":{\"field\":\"y\"}},\"id\":\"20981\",\"type\":\"Line\"},{\"attributes\":{\"label\":{\"value\":\"targets\"},\"renderers\":[{\"id\":\"21008\",\"type\":\"GlyphRenderer\"}]},\"id\":\"21030\",\"type\":\"LegendItem\"},{\"attributes\":{\"months\":[0,4,8]},\"id\":\"20999\",\"type\":\"MonthsTicker\"},{\"attributes\":{\"dimension\":1,\"ticker\":{\"id\":\"20963\",\"type\":\"BasicTicker\"}},\"id\":\"20966\",\"type\":\"Grid\"},{\"attributes\":{\"axis_label\":\"Value\",\"formatter\":{\"id\":\"20986\",\"type\":\"BasicTickFormatter\"},\"ticker\":{\"id\":\"20963\",\"type\":\"BasicTicker\"}},\"id\":\"20962\",\"type\":\"LinearAxis\"},{\"attributes\":{},\"id\":\"20986\",\"type\":\"BasicTickFormatter\"},{\"attributes\":{\"months\":[0,6]},\"id\":\"21000\",\"type\":\"MonthsTicker\"},{\"attributes\":{\"items\":[{\"id\":\"21004\",\"type\":\"LegendItem\"},{\"id\":\"21030\",\"type\":\"LegendItem\"}]},\"id\":\"21003\",\"type\":\"Legend\"},{\"attributes\":{\"mantissas\":[1,2,5],\"max_interval\":500.0,\"num_minor_ticks\":0},\"id\":\"20990\",\"type\":\"AdaptiveTicker\"},{\"attributes\":{\"bottom_units\":\"screen\",\"fill_alpha\":{\"value\":0.5},\"fill_color\":{\"value\":\"lightgrey\"},\"left_units\":\"screen\",\"level\":\"overlay\",\"line_alpha\":{\"value\":1.0},\"line_color\":{\"value\":\"black\"},\"line_dash\":[4,4],\"line_width\":{\"value\":2},\"render_mode\":\"css\",\"right_units\":\"screen\",\"top_units\":\"screen\"},\"id\":\"21002\",\"type\":\"BoxAnnotation\"},{\"attributes\":{\"data_source\":{\"id\":\"20980\",\"type\":\"ColumnDataSource\"},\"glyph\":{\"id\":\"20981\",\"type\":\"Line\"},\"hover_glyph\":null,\"muted_glyph\":null,\"nonselection_glyph\":{\"id\":\"20982\",\"type\":\"Line\"},\"selection_glyph\":null,\"view\":{\"id\":\"20984\",\"type\":\"CDSView\"}},\"id\":\"20983\",\"type\":\"GlyphRenderer\"},{\"attributes\":{},\"id\":\"20988\",\"type\":\"DatetimeTickFormatter\"},{\"attributes\":{},\"id\":\"21698\",\"type\":\"UnionRenderers\"},{\"attributes\":{\"active_drag\":\"auto\",\"active_inspect\":\"auto\",\"active_multi\":null,\"active_scroll\":\"auto\",\"active_tap\":\"auto\",\"tools\":[{\"id\":\"20967\",\"type\":\"PanTool\"},{\"id\":\"20968\",\"type\":\"WheelZoomTool\"},{\"id\":\"20969\",\"type\":\"BoxZoomTool\"},{\"id\":\"20970\",\"type\":\"SaveTool\"},{\"id\":\"20971\",\"type\":\"ResetTool\"},{\"id\":\"20972\",\"type\":\"HelpTool\"}]},\"id\":\"20973\",\"type\":\"Toolbar\"},{\"attributes\":{\"source\":{\"id\":\"20980\",\"type\":\"ColumnDataSource\"}},\"id\":\"20984\",\"type\":\"CDSView\"},{\"attributes\":{\"line_color\":\"blue\",\"x\":{\"field\":\"x\"},\"y\":{\"field\":\"y\"}},\"id\":\"21006\",\"type\":\"Line\"},{\"attributes\":{\"callback\":null,\"data\":{\"x\":{\"__ndarray__\":\"AACALeiCdEIAAGic64J0QgAAUAvvgnRCAAA4evKCdEIAACDp9YJ0QgAACFj5gnRCAADwxvyCdEIAANg1AIN0QgAAwKQDg3RCAACoEweDdEIAAJCCCoN0QgAAePENg3RCAABgYBGDdEIAAEjPFIN0QgAAMD4Yg3RCAAAYrRuDdEIAAAAcH4N0QgAA6Ioig3RCAADQ+SWDdEIAALhoKYN0QgAAoNcsg3RCAACIRjCDdEIAAHC1M4N0QgAAWCQ3g3RCAABAkzqDdEIAACgCPoN0QgAAEHFBg3RCAAD430SDdEIAAOBOSIN0QgAAyL1Lg3RCAACwLE+DdEIAAJibUoN0QgAAgApWg3RCAABoeVmDdEIAAFDoXIN0QgAAOFdgg3RCAAAgxmODdEIAAAg1Z4N0QgAA8KNqg3RCAADYEm6DdEIAAMCBcYN0QgAAqPB0g3RCAACQX3iDdEIAAHjOe4N0QgAAYD1/g3RCAABIrIKDdEIAADAbhoN0QgAAGIqJg3RCAAAA+YyDdEIAAOhnkIN0QgAA0NaTg3RCAAC4RZeDdEIAAKC0moN0QgAAiCOeg3RCAABwkqGDdEIAAFgBpYN0QgAAQHCog3RCAAAo36uDdEIAABBOr4N0QgAA+Lyyg3RCAADgK7aDdEIAAMiauYN0QgAAsAm9g3RCAACYeMCDdEIAAIDnw4N0QgAAaFbHg3RCAABQxcqDdEIAADg0zoN0QgAAIKPRg3RCAAAIEtWDdEIAAPCA2IN0QgAA2O/bg3RCAADAXt+DdEIAAKjN4oN0QgAAkDzmg3RCAAB4q+mDdEIAAGAa7YN0QgAASInwg3RCAAAw+PODdEIAABhn94N0QgAAANb6g3RCAADoRP6DdEIAANCzAYR0QgAAuCIFhHRCAACgkQiEdEIAAIgADIR0QgAAcG8PhHRCAABY3hKEdEIAAEBNFoR0QgAAKLwZhHRCAAAQKx2EdEIAAPiZIIR0QgAA4AgkhHRCAADIdyeEdEIAALDmKoR0QgAAmFUuhHRCAACAxDGEdEIAAGgzNYR0QgAAUKI4hHRCAAA4ETyEdEIAACCAP4R0QgAACO9ChHRCAADwXUaEdEIAANjMSYR0QgAAwDtNhHRCAACoqlCEdEIAAJAZVIR0QgAAeIhXhHRCAABg91qEdEIAAEhmXoR0QgAAMNVhhHRCAAAYRGWEdEIAAACzaIR0QgAA6CFshHRCAADQkG+EdEIAALj/coR0QgAAoG52hHRCAACI3XmEdEIAAHBMfYR0QgAAWLuAhHRCAABAKoSEdEIAACiZh4R0QgAAEAiLhHRCAAD4do6EdEIAAODlkYR0QgAAyFSVhHRCAACww5iEdEIAAJgynIR0QgAAgKGfhHRCAABoEKOEdEIAAFB/poR0QgAAOO6phHRCAAAgXa2EdEIAAAjMsIR0QgAA8Dq0hHRCAADYqbeEdEIAAMAYu4R0QgAAqIe+hHRCAACQ9sGEdEIAAHhlxYR0QgAAYNTIhHRCAABIQ8yEdEIAADCyz4R0QgAAGCHThHRCAAAAkNaEdEIAAOj+2YR0QgAA0G3dhHRCAAC43OCEdEIAAKBL5IR0QgAAiLrnhHRCAABwKeuEdEIAAFiY7oR0QgAAQAfyhHRCAAAodvWEdEIAABDl+IR0QgAA+FP8hHRCAADgwv+EdEIAAMgxA4V0QgAAsKAGhXRCAACYDwqFdEIAAIB+DYV0QgAAaO0QhXRCAABQXBSFdEIAADjLF4V0QgAAIDobhXRCAAAIqR6FdEIAAPAXIoV0QgAA2IYlhXRC\",\"dtype\":\"float64\",\"shape\":[168]},\"y\":{\"__ndarray__\":\"XP4NCTOGc0Dk+6KWf9NzQOIzx2K4+HJAs5+ykam2cUBjTW5WoVxxQNrIVK+t83VAPI8+7KcMeEDSXeL7omZ+QE58X9TyO4BAeXvmWAxvg0AZLngCa/aDQB0EXWmANIZAFliTm1V0iUBVNjLVa9uJQD1zLIYLzolAkhTRDoJCikAqoh0EXfGKQNR59GE/nYpAHH3YT9lgiUDjgiewJmeJQGiOxXDBv4hAgrw9cyxSiEB+ykamej2EQFt3ie+Lcn9A0wB5e+Y4c0Ak6EoD5EVzQK8mN6tQEnNACiVFtIPQcUDk7ZljMRxxQIULnsCaLHdAxPdFLf8eeUBzie+LWg5/QLxLfF/UvoFAdwJrcrNOg0DaT9nIVMeCQFY2MtVrd4RArkJJEe3IhkAG1uRmFTKIQICuNEDeRolA6NGH/ZTxh0BTRDsIuh6IQK67xPdF9YlAsvwbEmbkh0B9X9Tyb8SHQEQt/4aE8YdAq0JJEe0AhkDIcMETWAOEQMjpPPqw135Ahq40QN7eckDzEt8XtYRyQLf8GxJmRHJAl/i+qOVPcUDrIOhKA9xwQLd1l/i+oHdABiVFtIPweUDBE1iTmx2BQHn0YT9l/4FAnM6jD/u1g0C/IWHG6fyDQG/rLvF9sYRAz5UGyNsPh0BB0JUGyNOFQObfkDDjsIdAhCewJjdbhkC9L2r5N9yGQCXaQdCVqodANLlZhZJuhkC6WYWSIi6GQM8Ogq40oIVAGLX8GxIuhkDE6Tz6sFuDQNXWXeL7sn9AXP4NCTOGc0CvJjerUBJzQED6sJ+ykXJAZqrX1l3qcUBAcyyGCzZxQMhUr627LHdA3kHQlQb4eEBUr627xOd+QPB9Ucu/yYBA5O2ZYzHUgkDrPPqwn6KDQLrgCazJDYZAOo8+7Kfkh0DDBU9gTVKIQISuNEDeyodAWgwXPIG1hkDDBU9gTYqHQCuGC57ABolAkhTRDoL+h0Aci+GCJ6SHQPTow37KjoZANjLVa+v+hEBtZKrX1kGDQPewn7KR2X9AmBTRDoLGc0B7bd0lvl9zQOs8+rCfUnNAnsCa3KwqckAkYcbpPOpxQCASZpzOE3RA5jz6sJ+yd0DmPPqwn/J9QMZiuOAJJIFADpC3Z44hg0BKEe0g6MKDQPAS3xe1GIVAMmr5NyR0iUBwOo8+7FOJQAZdaYC82YhA7SDoSgMwh0AXPIE1uZ2HQLbuEt8XtYlAshgueAK7iUCvJjerUMaIQISgKw2Qv4hA50oD5O1Jh0CXBsjbM4+DQNZd4vuiBoBAEdEOgq6UdED2YT9lI7t0QBJ0pQHyBnRAJFO9tu6Sc0DsPPqwn1JzQEa0g6Ar9XZAhzW5WYVieUAE5O2ZY/2AQDFc8ATWwIJA2E/ZyFTHgkCIaAdBV0qEQE9uVqGk4IVAzr8hYcbRhEByswolRRCEQJcGyNszj4NAB7rSAHk7g0CSt2eOxVCEQD6BNblZBYVAAnl75liEhEDTh/2UjTCEQOyZYzFciIZAEWaczqNfhUCGGafz6HuDQKzJzSqUQIBArNfWXeI7dUBpjsVwwTt1QCRvzxyLoXRAX1t3ie8TdECo5d+QMJNzQIPKRqZ6NXdATXxf1PKveUBPUkQ7CCKAQHj0YT9lN4FA3xe1/BsmgkAslBTRDvKEQGHU8m9ITIVAL+N0Hn3AhUCDoCsNkLOFQKZ6bd0l2oVAX9Tyb0gUhkBrcrMKJVmFQK5CSRHtOIVAxfdFLf9yhUCipIh2ECyFQJzcrEJJzYVAAAAAAAD0hUCtu8T3RcmDQOB0Hn3Yv39A\",\"dtype\":\"float64\",\"shape\":[168]}},\"selected\":{\"id\":\"21699\",\"type\":\"Selection\"},\"selection_policy\":{\"id\":\"21698\",\"type\":\"UnionRenderers\"}},\"id\":\"21005\",\"type\":\"ColumnDataSource\"},{\"attributes\":{\"days\":[1,8,15,22]},\"id\":\"20995\",\"type\":\"DaysTicker\"},{\"attributes\":{},\"id\":\"20967\",\"type\":\"PanTool\"},{\"attributes\":{},\"id\":\"21001\",\"type\":\"YearsTicker\"},{\"attributes\":{\"base\":24,\"mantissas\":[1,2,4,6,8,12],\"max_interval\":43200000.0,\"min_interval\":3600000.0,\"num_minor_ticks\":0},\"id\":\"20992\",\"type\":\"AdaptiveTicker\"},{\"attributes\":{\"callback\":null},\"id\":\"20951\",\"type\":\"DataRange1d\"},{\"attributes\":{\"line_alpha\":0.1,\"line_color\":\"#1f77b4\",\"x\":{\"field\":\"x\"},\"y\":{\"field\":\"y\"}},\"id\":\"21007\",\"type\":\"Line\"},{\"attributes\":{},\"id\":\"20968\",\"type\":\"WheelZoomTool\"},{\"attributes\":{\"base\":60,\"mantissas\":[1,2,5,10,15,20,30],\"max_interval\":1800000.0,\"min_interval\":1000.0,\"num_minor_ticks\":0},\"id\":\"20991\",\"type\":\"AdaptiveTicker\"},{\"attributes\":{\"callback\":null},\"id\":\"20949\",\"type\":\"DataRange1d\"},{\"attributes\":{\"data_source\":{\"id\":\"21005\",\"type\":\"ColumnDataSource\"},\"glyph\":{\"id\":\"21006\",\"type\":\"Line\"},\"hover_glyph\":null,\"muted_glyph\":null,\"nonselection_glyph\":{\"id\":\"21007\",\"type\":\"Line\"},\"selection_glyph\":null,\"view\":{\"id\":\"21009\",\"type\":\"CDSView\"}},\"id\":\"21008\",\"type\":\"GlyphRenderer\"},{\"attributes\":{\"overlay\":{\"id\":\"21002\",\"type\":\"BoxAnnotation\"}},\"id\":\"20969\",\"type\":\"BoxZoomTool\"},{\"attributes\":{},\"id\":\"21015\",\"type\":\"UnionRenderers\"},{\"attributes\":{\"text\":\"Predictions over the test dataset for MT_327\"},\"id\":\"20947\",\"type\":\"Title\"},{\"attributes\":{\"days\":[1,4,7,10,13,16,19,22,25,28]},\"id\":\"20994\",\"type\":\"DaysTicker\"}],\"root_ids\":[\"20946\"]},\"title\":\"Bokeh Application\",\"version\":\"1.4.0\"}};\n",
       "  var render_items = [{\"docid\":\"bfa32e26-ed23-4ea7-870a-0bf529ad0d5b\",\"roots\":{\"20946\":\"3f32d0a0-33ef-48fd-9376-2b3fda0cf7ef\"}}];\n",
       "  root.Bokeh.embed.embed_items_notebook(docs_json, render_items);\n",
       "\n",
       "  }\n",
       "  if (root.Bokeh !== undefined) {\n",
       "    embed_document(root);\n",
       "  } else {\n",
       "    var attempts = 0;\n",
       "    var timer = setInterval(function(root) {\n",
       "      if (root.Bokeh !== undefined) {\n",
       "        clearInterval(timer);\n",
       "        embed_document(root);\n",
       "      } else {\n",
       "        attempts++;\n",
       "        if (attempts > 100) {\n",
       "          clearInterval(timer);\n",
       "          console.log(\"Bokeh: ERROR: Unable to run BokehJS code because BokehJS library is missing\");\n",
       "        }\n",
       "      }\n",
       "    }, 10, root)\n",
       "  }\n",
       "})(window);"
      ],
      "application/vnd.bokehjs_exec.v0+json": ""
     },
     "metadata": {
      "application/vnd.bokehjs_exec.v0+json": {
       "id": "20946"
      }
     },
     "output_type": "display_data"
    },
    {
     "data": {
      "text/html": [
       "\n",
       "\n",
       "\n",
       "\n",
       "\n",
       "\n",
       "  <div class=\"bk-root\" id=\"0bb41936-29c6-4db5-ac07-4bf88352f63c\" data-root-id=\"21845\"></div>\n"
      ]
     },
     "metadata": {},
     "output_type": "display_data"
    },
    {
     "data": {
      "application/javascript": [
       "(function(root) {\n",
       "  function embed_document(root) {\n",
       "    \n",
       "  var docs_json = {\"4f8b29c0-1f06-4a3c-a8c9-7bcea7254ed4\":{\"roots\":{\"references\":[{\"attributes\":{\"below\":[{\"id\":\"21856\",\"type\":\"DatetimeAxis\"}],\"center\":[{\"id\":\"21860\",\"type\":\"Grid\"},{\"id\":\"21865\",\"type\":\"Grid\"},{\"id\":\"21902\",\"type\":\"Legend\"}],\"left\":[{\"id\":\"21861\",\"type\":\"LinearAxis\"}],\"plot_height\":320,\"plot_width\":960,\"renderers\":[{\"id\":\"21882\",\"type\":\"GlyphRenderer\"},{\"id\":\"21907\",\"type\":\"GlyphRenderer\"}],\"title\":{\"id\":\"21846\",\"type\":\"Title\"},\"toolbar\":{\"id\":\"21872\",\"type\":\"Toolbar\"},\"x_range\":{\"id\":\"21848\",\"type\":\"DataRange1d\"},\"x_scale\":{\"id\":\"21852\",\"type\":\"LinearScale\"},\"y_range\":{\"id\":\"21850\",\"type\":\"DataRange1d\"},\"y_scale\":{\"id\":\"21854\",\"type\":\"LinearScale\"}},\"id\":\"21845\",\"subtype\":\"Figure\",\"type\":\"Plot\"},{\"attributes\":{\"line_color\":\"red\",\"x\":{\"field\":\"x\"},\"y\":{\"field\":\"y\"}},\"id\":\"21880\",\"type\":\"Line\"},{\"attributes\":{\"dimension\":1,\"ticker\":{\"id\":\"21862\",\"type\":\"BasicTicker\"}},\"id\":\"21865\",\"type\":\"Grid\"},{\"attributes\":{\"text\":\"Predictions over the test dataset for MT_328\"},\"id\":\"21846\",\"type\":\"Title\"},{\"attributes\":{},\"id\":\"21885\",\"type\":\"BasicTickFormatter\"},{\"attributes\":{\"items\":[{\"id\":\"21903\",\"type\":\"LegendItem\"},{\"id\":\"21929\",\"type\":\"LegendItem\"}]},\"id\":\"21902\",\"type\":\"Legend\"},{\"attributes\":{\"bottom_units\":\"screen\",\"fill_alpha\":{\"value\":0.5},\"fill_color\":{\"value\":\"lightgrey\"},\"left_units\":\"screen\",\"level\":\"overlay\",\"line_alpha\":{\"value\":1.0},\"line_color\":{\"value\":\"black\"},\"line_dash\":[4,4],\"line_width\":{\"value\":2},\"render_mode\":\"css\",\"right_units\":\"screen\",\"top_units\":\"screen\"},\"id\":\"21901\",\"type\":\"BoxAnnotation\"},{\"attributes\":{\"axis_label\":\"Value\",\"formatter\":{\"id\":\"21885\",\"type\":\"BasicTickFormatter\"},\"ticker\":{\"id\":\"21862\",\"type\":\"BasicTicker\"}},\"id\":\"21861\",\"type\":\"LinearAxis\"},{\"attributes\":{\"data_source\":{\"id\":\"21879\",\"type\":\"ColumnDataSource\"},\"glyph\":{\"id\":\"21880\",\"type\":\"Line\"},\"hover_glyph\":null,\"muted_glyph\":null,\"nonselection_glyph\":{\"id\":\"21881\",\"type\":\"Line\"},\"selection_glyph\":null,\"view\":{\"id\":\"21883\",\"type\":\"CDSView\"}},\"id\":\"21882\",\"type\":\"GlyphRenderer\"},{\"attributes\":{\"mantissas\":[1,2,5],\"max_interval\":500.0,\"num_minor_ticks\":0},\"id\":\"21889\",\"type\":\"AdaptiveTicker\"},{\"attributes\":{},\"id\":\"21862\",\"type\":\"BasicTicker\"},{\"attributes\":{},\"id\":\"21887\",\"type\":\"DatetimeTickFormatter\"},{\"attributes\":{\"active_drag\":\"auto\",\"active_inspect\":\"auto\",\"active_multi\":null,\"active_scroll\":\"auto\",\"active_tap\":\"auto\",\"tools\":[{\"id\":\"21866\",\"type\":\"PanTool\"},{\"id\":\"21867\",\"type\":\"WheelZoomTool\"},{\"id\":\"21868\",\"type\":\"BoxZoomTool\"},{\"id\":\"21869\",\"type\":\"SaveTool\"},{\"id\":\"21870\",\"type\":\"ResetTool\"},{\"id\":\"21871\",\"type\":\"HelpTool\"}]},\"id\":\"21872\",\"type\":\"Toolbar\"},{\"attributes\":{},\"id\":\"21852\",\"type\":\"LinearScale\"},{\"attributes\":{\"data_source\":{\"id\":\"21904\",\"type\":\"ColumnDataSource\"},\"glyph\":{\"id\":\"21905\",\"type\":\"Line\"},\"hover_glyph\":null,\"muted_glyph\":null,\"nonselection_glyph\":{\"id\":\"21906\",\"type\":\"Line\"},\"selection_glyph\":null,\"view\":{\"id\":\"21908\",\"type\":\"CDSView\"}},\"id\":\"21907\",\"type\":\"GlyphRenderer\"},{\"attributes\":{\"source\":{\"id\":\"21879\",\"type\":\"ColumnDataSource\"}},\"id\":\"21883\",\"type\":\"CDSView\"},{\"attributes\":{\"line_alpha\":0.1,\"line_color\":\"#1f77b4\",\"x\":{\"field\":\"x\"},\"y\":{\"field\":\"y\"}},\"id\":\"21906\",\"type\":\"Line\"},{\"attributes\":{},\"id\":\"21866\",\"type\":\"PanTool\"},{\"attributes\":{},\"id\":\"22619\",\"type\":\"UnionRenderers\"},{\"attributes\":{\"label\":{\"value\":\"predictions\"},\"renderers\":[{\"id\":\"21882\",\"type\":\"GlyphRenderer\"}]},\"id\":\"21903\",\"type\":\"LegendItem\"},{\"attributes\":{\"base\":24,\"mantissas\":[1,2,4,6,8,12],\"max_interval\":43200000.0,\"min_interval\":3600000.0,\"num_minor_ticks\":0},\"id\":\"21891\",\"type\":\"AdaptiveTicker\"},{\"attributes\":{\"source\":{\"id\":\"21904\",\"type\":\"ColumnDataSource\"}},\"id\":\"21908\",\"type\":\"CDSView\"},{\"attributes\":{},\"id\":\"21867\",\"type\":\"WheelZoomTool\"},{\"attributes\":{\"base\":60,\"mantissas\":[1,2,5,10,15,20,30],\"max_interval\":1800000.0,\"min_interval\":1000.0,\"num_minor_ticks\":0},\"id\":\"21890\",\"type\":\"AdaptiveTicker\"},{\"attributes\":{\"months\":[0,6]},\"id\":\"21899\",\"type\":\"MonthsTicker\"},{\"attributes\":{\"line_color\":\"blue\",\"x\":{\"field\":\"x\"},\"y\":{\"field\":\"y\"}},\"id\":\"21905\",\"type\":\"Line\"},{\"attributes\":{},\"id\":\"21854\",\"type\":\"LinearScale\"},{\"attributes\":{\"overlay\":{\"id\":\"21901\",\"type\":\"BoxAnnotation\"}},\"id\":\"21868\",\"type\":\"BoxZoomTool\"},{\"attributes\":{\"callback\":null},\"id\":\"21850\",\"type\":\"DataRange1d\"},{\"attributes\":{\"callback\":null,\"data\":{\"x\":{\"__ndarray__\":\"AACALeiCdEIAAGic64J0QgAAUAvvgnRCAAA4evKCdEIAACDp9YJ0QgAACFj5gnRCAADwxvyCdEIAANg1AIN0QgAAwKQDg3RCAACoEweDdEIAAJCCCoN0QgAAePENg3RCAABgYBGDdEIAAEjPFIN0QgAAMD4Yg3RCAAAYrRuDdEIAAAAcH4N0QgAA6Ioig3RCAADQ+SWDdEIAALhoKYN0QgAAoNcsg3RCAACIRjCDdEIAAHC1M4N0QgAAWCQ3g3RCAABAkzqDdEIAACgCPoN0QgAAEHFBg3RCAAD430SDdEIAAOBOSIN0QgAAyL1Lg3RCAACwLE+DdEIAAJibUoN0QgAAgApWg3RCAABoeVmDdEIAAFDoXIN0QgAAOFdgg3RCAAAgxmODdEIAAAg1Z4N0QgAA8KNqg3RCAADYEm6DdEIAAMCBcYN0QgAAqPB0g3RCAACQX3iDdEIAAHjOe4N0QgAAYD1/g3RCAABIrIKDdEIAADAbhoN0QgAAGIqJg3RCAAAA+YyDdEIAAOhnkIN0QgAA0NaTg3RCAAC4RZeDdEIAAKC0moN0QgAAiCOeg3RCAABwkqGDdEIAAFgBpYN0QgAAQHCog3RCAAAo36uDdEIAABBOr4N0QgAA+Lyyg3RCAADgK7aDdEIAAMiauYN0QgAAsAm9g3RCAACYeMCDdEIAAIDnw4N0QgAAaFbHg3RCAABQxcqDdEIAADg0zoN0QgAAIKPRg3RCAAAIEtWDdEIAAPCA2IN0QgAA2O/bg3RCAADAXt+DdEIAAKjN4oN0QgAAkDzmg3RCAAB4q+mDdEIAAGAa7YN0QgAASInwg3RCAAAw+PODdEIAABhn94N0QgAAANb6g3RCAADoRP6DdEIAANCzAYR0QgAAuCIFhHRCAACgkQiEdEIAAIgADIR0QgAAcG8PhHRCAABY3hKEdEIAAEBNFoR0QgAAKLwZhHRCAAAQKx2EdEIAAPiZIIR0QgAA4AgkhHRCAADIdyeEdEIAALDmKoR0QgAAmFUuhHRCAACAxDGEdEIAAGgzNYR0QgAAUKI4hHRCAAA4ETyEdEIAACCAP4R0QgAACO9ChHRCAADwXUaEdEIAANjMSYR0QgAAwDtNhHRCAACoqlCEdEIAAJAZVIR0QgAAeIhXhHRCAABg91qEdEIAAEhmXoR0QgAAMNVhhHRCAAAYRGWEdEIAAACzaIR0QgAA6CFshHRCAADQkG+EdEIAALj/coR0QgAAoG52hHRCAACI3XmEdEIAAHBMfYR0QgAAWLuAhHRCAABAKoSEdEIAACiZh4R0QgAAEAiLhHRCAAD4do6EdEIAAODlkYR0QgAAyFSVhHRCAACww5iEdEIAAJgynIR0QgAAgKGfhHRCAABoEKOEdEIAAFB/poR0QgAAOO6phHRCAAAgXa2EdEIAAAjMsIR0QgAA8Dq0hHRCAADYqbeEdEIAAMAYu4R0QgAAqIe+hHRCAACQ9sGEdEIAAHhlxYR0QgAAYNTIhHRCAABIQ8yEdEIAADCyz4R0QgAAGCHThHRCAAAAkNaEdEIAAOj+2YR0QgAA0G3dhHRCAAC43OCEdEIAAKBL5IR0QgAAiLrnhHRCAABwKeuEdEIAAFiY7oR0QgAAQAfyhHRCAAAodvWEdEIAABDl+IR0QgAA+FP8hHRCAADgwv+EdEIAAMgxA4V0QgAAsKAGhXRCAACYDwqFdEIAAIB+DYV0QgAAaO0QhXRCAABQXBSFdEIAADjLF4V0QgAAIDobhXRCAAAIqR6FdEIAAPAXIoV0QgAA2IYlhXRC\",\"dtype\":\"float64\",\"shape\":[168]},\"y\":{\"__ndarray__\":\"2EtoL6EdiUCW0F5Ce2mFQOQ4juM4noNA5TiO4zieg0C0l9BeQvuCQNpLaC+h3YJAVlVVVVW1gUBfL6G9hLaPQF9CewntHZBAzXEcx3FElUDgOI7jOIaXQA3aS2gvuZlAPo7jOI7TmEAltJfQXqqZQJiqqqqqQplALKG9hPZqmkBfL6G9hM6bQAAAAAAA6JxAu4T2EtrDmkByHMdxHDeaQOgltJfQDplAOnsJ7SVcmkBYQnsJ7e2XQPEltJfQzpJA7CW0l9CeikAax3Ecx7GJQFRVVVVV1YRAN47jOI4jhEAJ7SW0l4CDQCa0l9BeMoRAxnEcx3HsgkAEAAAAAGiQQM9eQnsJjZBA9CW0l9AmlUAsob2E9hKYQMleQnsJ7ZlAtJfQXkKrl0CuqqqqqnqYQB/HcRzHIZhAJrSX0F4amEAsob2E9hKYQHscx3EcN5pAS2gvob1UmkAN2ktoL4GaQM1xHMdxZJhAaS+hvYR2mUAktJfQXlKXQPX/////h5NA0F5Cewl9i0C1l9BeQquHQJjQXkJ72YNAcBzHcRz3g0AI7SW0l4CDQIL2EtpL6INAVlVVVVVFg0A8juM4jjuQQD57Ce0l1I9AWEJ7Ce2VlUD//////2+XQLyE9hLaa5hAWEJ7Ce3tl0DhOI7jOBaZQOYltJfQfpdAcBzHcRynmEBYQnsJ7X2ZQFdoL6G9HJtAN6G9hPZqmkBqL6G9hD6aQNBLaC+hHZlA2ktoL6EdmUBLaC+hvTSXQB/HcRzHcZNAai+hvYQmjkDuJbSX0L6NQK2qqqqq6oZAVlVVVVXVhEA5juM4jiOEQFxCewntBYRAQHsJ7SVUg0A1ob2E9gqRQJ69hPYSspBAZRzHcRyHlUDDcRzHcZyXQAAAAAAAkJpAWEJ7Ce21mED5EtpLaD+YQIvQXkJ7iZhAcRzHcRynmEAex3Ecx+mYQOE4juM4pppALKG9hPaimUDCcRzHcSyZQAbtJbSX+JhAUlVVVVW9mEDuEtpLaK+WQDWhvYT2mpJACO0ltJfAiUBCewntJZSJQJfQXkJ7aYVACe0ltJcQhUAvob2E9mKDQBzHcRzHcYNAHMdxHMdxg0BOVVVVVSWQQGBCewntHZBAXy+hvYRWlkBlHMdxHBeXQDKO4ziOm5lApKqqqqpCmUCW0F5Ce8GXQIMJ7SW015dA7hLaS2g/mEDIXkJ7CSWZQKmX0F5CA5pAXFVVVVWFmUCuqqqqqgqaQNBLaC+hHZlAggntJbQvmkBeL6G9hOaXQHgJ7SW075NAv4T2EtobjUDaS2gvoT2MQLOX0F5CG4ZA3EtoL6H9hUBfQnsJ7ZWFQOoltJfQ7oVATmgvob0UhECmqqqqqqqQQFxCewnt5ZBABu0ltJfYlUB3Ce0ltNeXQKm9hPYSEppA+hLaS2gHmUAsob2E9kqXQCiO4ziOe5ZAltBeQnuJmEC0l9BeQjuZQM1xHMdxvJpAN6G9hPaimUDKXkJ7Ce2ZQGYcx3Ecp5hAFMdxHMd5mkA/aC+hvTSXQC+0l9BeopJA0F5CewntiUCE9hLaSyiKQAntJbSXEIVA9hLaS2gfhUAS2ktoL0GEQFZVVVVV1YRA4ziO4zieg0CxqqqqqqqQQCa0l9BeEpFAltBeQnv5lkB2Ce0ltJ+YQOgltJfQDplAZEJ7Ce3tl0BRVVVVVb2YQAAAAAAAqJZAtZfQXkKrl0CJ9hLaS2CZQITjOI7jIJpA4TiO4zjemUAex3Ecx2GeQK+qqqqqYpxAyF5CewkNnUAG7SW0l/iYQKS9hPYSCpNA\",\"dtype\":\"float64\",\"shape\":[168]}},\"selected\":{\"id\":\"22620\",\"type\":\"Selection\"},\"selection_policy\":{\"id\":\"22619\",\"type\":\"UnionRenderers\"}},\"id\":\"21904\",\"type\":\"ColumnDataSource\"},{\"attributes\":{},\"id\":\"21869\",\"type\":\"SaveTool\"},{\"attributes\":{\"days\":[1,2,3,4,5,6,7,8,9,10,11,12,13,14,15,16,17,18,19,20,21,22,23,24,25,26,27,28,29,30,31]},\"id\":\"21892\",\"type\":\"DaysTicker\"},{\"attributes\":{},\"id\":\"21870\",\"type\":\"ResetTool\"},{\"attributes\":{\"days\":[1,4,7,10,13,16,19,22,25,28]},\"id\":\"21893\",\"type\":\"DaysTicker\"},{\"attributes\":{},\"id\":\"21914\",\"type\":\"UnionRenderers\"},{\"attributes\":{\"line_alpha\":0.1,\"line_color\":\"#1f77b4\",\"x\":{\"field\":\"x\"},\"y\":{\"field\":\"y\"}},\"id\":\"21881\",\"type\":\"Line\"},{\"attributes\":{\"axis_label\":\"Timestmap\",\"formatter\":{\"id\":\"21887\",\"type\":\"DatetimeTickFormatter\"},\"ticker\":{\"id\":\"21857\",\"type\":\"DatetimeTicker\"}},\"id\":\"21856\",\"type\":\"DatetimeAxis\"},{\"attributes\":{\"ticker\":{\"id\":\"21857\",\"type\":\"DatetimeTicker\"}},\"id\":\"21860\",\"type\":\"Grid\"},{\"attributes\":{\"days\":[1,8,15,22]},\"id\":\"21894\",\"type\":\"DaysTicker\"},{\"attributes\":{},\"id\":\"21871\",\"type\":\"HelpTool\"},{\"attributes\":{\"label\":{\"value\":\"targets\"},\"renderers\":[{\"id\":\"21907\",\"type\":\"GlyphRenderer\"}]},\"id\":\"21929\",\"type\":\"LegendItem\"},{\"attributes\":{\"num_minor_ticks\":5,\"tickers\":[{\"id\":\"21889\",\"type\":\"AdaptiveTicker\"},{\"id\":\"21890\",\"type\":\"AdaptiveTicker\"},{\"id\":\"21891\",\"type\":\"AdaptiveTicker\"},{\"id\":\"21892\",\"type\":\"DaysTicker\"},{\"id\":\"21893\",\"type\":\"DaysTicker\"},{\"id\":\"21894\",\"type\":\"DaysTicker\"},{\"id\":\"21895\",\"type\":\"DaysTicker\"},{\"id\":\"21896\",\"type\":\"MonthsTicker\"},{\"id\":\"21897\",\"type\":\"MonthsTicker\"},{\"id\":\"21898\",\"type\":\"MonthsTicker\"},{\"id\":\"21899\",\"type\":\"MonthsTicker\"},{\"id\":\"21900\",\"type\":\"YearsTicker\"}]},\"id\":\"21857\",\"type\":\"DatetimeTicker\"},{\"attributes\":{},\"id\":\"21915\",\"type\":\"Selection\"},{\"attributes\":{\"days\":[1,15]},\"id\":\"21895\",\"type\":\"DaysTicker\"},{\"attributes\":{\"months\":[0,1,2,3,4,5,6,7,8,9,10,11]},\"id\":\"21896\",\"type\":\"MonthsTicker\"},{\"attributes\":{\"callback\":null},\"id\":\"21848\",\"type\":\"DataRange1d\"},{\"attributes\":{},\"id\":\"22620\",\"type\":\"Selection\"},{\"attributes\":{\"months\":[0,2,4,6,8,10]},\"id\":\"21897\",\"type\":\"MonthsTicker\"},{\"attributes\":{},\"id\":\"21900\",\"type\":\"YearsTicker\"},{\"attributes\":{\"months\":[0,4,8]},\"id\":\"21898\",\"type\":\"MonthsTicker\"},{\"attributes\":{\"callback\":null,\"data\":{\"x\":{\"__ndarray__\":\"AACALeiCdEIAAGic64J0QgAAUAvvgnRCAAA4evKCdEIAACDp9YJ0QgAACFj5gnRCAADwxvyCdEIAANg1AIN0QgAAwKQDg3RCAACoEweDdEIAAJCCCoN0QgAAePENg3RCAABgYBGDdEIAAEjPFIN0QgAAMD4Yg3RCAAAYrRuDdEIAAAAcH4N0QgAA6Ioig3RCAADQ+SWDdEIAALhoKYN0QgAAoNcsg3RCAACIRjCDdEIAAHC1M4N0QgAAWCQ3g3RCAABAkzqDdEIAACgCPoN0QgAAEHFBg3RCAAD430SDdEIAAOBOSIN0QgAAyL1Lg3RCAACwLE+DdEIAAJibUoN0QgAAgApWg3RCAABoeVmDdEIAAFDoXIN0QgAAOFdgg3RCAAAgxmODdEIAAAg1Z4N0QgAA8KNqg3RCAADYEm6DdEIAAMCBcYN0QgAAqPB0g3RCAACQX3iDdEIAAHjOe4N0QgAAYD1/g3RCAABIrIKDdEIAADAbhoN0QgAAGIqJg3RCAAAA+YyDdEIAAOhnkIN0QgAA0NaTg3RCAAC4RZeDdEIAAKC0moN0QgAAiCOeg3RCAABwkqGDdEIAAFgBpYN0QgAAQHCog3RCAAAo36uDdEIAABBOr4N0QgAA+Lyyg3RCAADgK7aDdEIAAMiauYN0QgAAsAm9g3RCAACYeMCDdEIAAIDnw4N0QgAAaFbHg3RCAABQxcqDdEIAADg0zoN0QgAAIKPRg3RCAAAIEtWDdEIAAPCA2IN0QgAA2O/bg3RCAADAXt+DdEIAAKjN4oN0QgAAkDzmg3RCAAB4q+mDdEIAAGAa7YN0QgAASInwg3RCAAAw+PODdEIAABhn94N0QgAAANb6g3RCAADoRP6DdEIAANCzAYR0QgAAuCIFhHRCAACgkQiEdEIAAIgADIR0QgAAcG8PhHRCAABY3hKEdEIAAEBNFoR0QgAAKLwZhHRCAAAQKx2EdEIAAPiZIIR0QgAA4AgkhHRCAADIdyeEdEIAALDmKoR0QgAAmFUuhHRCAACAxDGEdEIAAGgzNYR0QgAAUKI4hHRCAAA4ETyEdEIAACCAP4R0QgAACO9ChHRCAADwXUaEdEIAANjMSYR0QgAAwDtNhHRCAACoqlCEdEIAAJAZVIR0QgAAeIhXhHRCAABg91qEdEIAAEhmXoR0QgAAMNVhhHRCAAAYRGWEdEIAAACzaIR0QgAA6CFshHRCAADQkG+EdEIAALj/coR0QgAAoG52hHRCAACI3XmEdEIAAHBMfYR0QgAAWLuAhHRCAABAKoSEdEIAACiZh4R0QgAAEAiLhHRCAAD4do6EdEIAAODlkYR0QgAAyFSVhHRCAACww5iEdEIAAJgynIR0QgAAgKGfhHRCAABoEKOEdEIAAFB/poR0QgAAOO6phHRCAAAgXa2EdEIAAAjMsIR0QgAA8Dq0hHRCAADYqbeEdEIAAMAYu4R0QgAAqIe+hHRCAACQ9sGEdEIAAHhlxYR0QgAAYNTIhHRCAABIQ8yEdEIAADCyz4R0QgAAGCHThHRCAAAAkNaEdEIAAOj+2YR0QgAA0G3dhHRCAAC43OCEdEIAAKBL5IR0QgAAiLrnhHRCAABwKeuEdEIAAFiY7oR0QgAAQAfyhHRCAAAodvWEdEIAABDl+IR0QgAA+FP8hHRCAADgwv+EdEIAAMgxA4V0QgAAsKAGhXRCAACYDwqFdEIAAIB+DYV0QgAAaO0QhXRCAABQXBSFdEIAADjLF4V0QgAAIDobhXRCAAAIqR6FdEIAAPAXIoV0QgAA2IYlhXRC\",\"dtype\":\"float64\",\"shape\":[168]},\"y\":{\"__ndarray__\":\"AAAA4HdYikAAAABAFYKIQAAAAEA+qIVAAAAAwDAvhUAAAACAosOEQAAAAMDQgYRAAAAAwGGTg0AAAAAAc1CQQAAAAGCTU5JAAAAAIJv+lkAAAABA2fCaQAAAAAAj351AAAAAgPZ7nUAAAAAAGUWdQAAAAMAgyJ1AAAAAwAotnkAAAACgfLOeQAAAAECCf59AAAAAQM09n0AAAAAgsLWeQAAAAOAusptAAAAAIPOdmUAAAADgoTSXQAAAAGCxOJNAAAAAYF4CikAAAAAgYKuLQAAAAABwOopAAAAAIHtrhkAAAABAvD6FQAAAAECaZYRAAAAAQLlQhEAAAACA/YaQQAAAAKBbcZJAAAAAgCwRmUAAAAAAmEadQAAAAECi+J5AAAAA4P+VnkAAAAAgVBqeQAAAACD+4Z1AAAAA4IZinUAAAABg1HyeQAAAAOBMSaBAAAAAQH5SoEAAAAAAByifQAAAAABucJtAAAAAILOqmUAAAACgM1SXQAAAAEA9YpNAAAAAoFQri0AAAAAgYp+MQAAAAAAYyopAAAAAoEJAikAAAAAAE1eIQAAAAAB5PodAAAAAAONDhUAAAADAekaRQAAAACCLqZNAAAAAgODTl0AAAACAkK2bQAAAAOAPGpxAAAAAACCImkAAAACgv7WZQAAAAGCSY5lAAAAAwJF1mUAAAABA9X2aQAAAAMCdIZxAAAAAgNsvnEAAAACANuubQAAAACAvXZlAAAAA4EpjmUAAAADgSFGXQAAAAEAec5RAAAAA4IBSjUAAAADAXaSNQAAAAOCsOYpAAAAAYJC1h0AAAABgtw+GQAAAAIA/J4VAAAAAwMZChkAAAABAGd6SQAAAAEB6v5JAAAAAQG6Kl0AAAACAB6+ZQAAAAEBv7JhAAAAA4ElFmUAAAACggkqZQAAAAGAYI5lAAAAAIBximUAAAAAgkKaaQAAAAIA/3ZtAAAAAwLWDm0AAAACgrvmZQAAAACD//ZlAAAAAAKn/mEAAAAAgkpGWQAAAAMDmApJAAAAAIM4LjUAAAADACuyMQAAAAABIiotAAAAAIKqEikAAAADgyW+IQAAAACC1/IhAAAAAgG+0h0AAAAAAZNiQQAAAACCY6JFAAAAAIKZHl0AAAADAG9uYQAAAACDC3JlAAAAAIFHemkAAAADAQeWaQAAAAEC39plAAAAAYO8KmkAAAACAUbeZQAAAAMAYnJtAAAAAYDDOmkAAAADgSj+aQAAAAGCAiZhAAAAAAArTmEAAAABAUk6WQAAAAIBkuZFAAAAAAPh6jUAAAABAl62MQAAAAACvgYtAAAAAgND8iUAAAABATnyLQAAAAKB8aYtAAAAAoBJZjEAAAABAw/SRQAAAAKBtTZJAAAAAgFK6lUAAAABAkhGZQAAAACDOeJpAAAAAoPosmkAAAAAAAXSaQAAAAEAZM5pAAAAA4NtPmkAAAACAjIWaQAAAAADhhpxAAAAAoPLMm0AAAADAUfiaQAAAAMA6tJlAAAAAAJvSl0AAAACgqYCVQAAAAABGCZFAAAAAAOH3iUAAAABg6LeKQAAAAODgZY1AAAAA4HQqjkAAAACAxeGNQAAAAODAu41AAAAAgDFyjkAAAAAAFB2UQAAAAOCsnpNAAAAA4FKXlkAAAACALeeZQAAAAIBdZptAAAAAoAHamkAAAAAAHR2bQAAAAID7nJpAAAAAoJ1OmkAAAAAgqR2cQAAAAADJupxAAAAAwFrZnUAAAAAAkHScQAAAACBWEplAAAAAgDtDl0AAAABAjqmUQAAAACBFIJBA\",\"dtype\":\"float64\",\"shape\":[168]}},\"selected\":{\"id\":\"21915\",\"type\":\"Selection\"},\"selection_policy\":{\"id\":\"21914\",\"type\":\"UnionRenderers\"}},\"id\":\"21879\",\"type\":\"ColumnDataSource\"}],\"root_ids\":[\"21845\"]},\"title\":\"Bokeh Application\",\"version\":\"1.4.0\"}};\n",
       "  var render_items = [{\"docid\":\"4f8b29c0-1f06-4a3c-a8c9-7bcea7254ed4\",\"roots\":{\"21845\":\"0bb41936-29c6-4db5-ac07-4bf88352f63c\"}}];\n",
       "  root.Bokeh.embed.embed_items_notebook(docs_json, render_items);\n",
       "\n",
       "  }\n",
       "  if (root.Bokeh !== undefined) {\n",
       "    embed_document(root);\n",
       "  } else {\n",
       "    var attempts = 0;\n",
       "    var timer = setInterval(function(root) {\n",
       "      if (root.Bokeh !== undefined) {\n",
       "        clearInterval(timer);\n",
       "        embed_document(root);\n",
       "      } else {\n",
       "        attempts++;\n",
       "        if (attempts > 100) {\n",
       "          clearInterval(timer);\n",
       "          console.log(\"Bokeh: ERROR: Unable to run BokehJS code because BokehJS library is missing\");\n",
       "        }\n",
       "      }\n",
       "    }, 10, root)\n",
       "  }\n",
       "})(window);"
      ],
      "application/vnd.bokehjs_exec.v0+json": ""
     },
     "metadata": {
      "application/vnd.bokehjs_exec.v0+json": {
       "id": "21845"
      }
     },
     "output_type": "display_data"
    },
    {
     "data": {
      "text/html": [
       "\n",
       "\n",
       "\n",
       "\n",
       "\n",
       "\n",
       "  <div class=\"bk-root\" id=\"dd7bd1b5-0ec7-4eb9-ad17-ce4a534b5eb5\" data-root-id=\"22766\"></div>\n"
      ]
     },
     "metadata": {},
     "output_type": "display_data"
    },
    {
     "data": {
      "application/javascript": [
       "(function(root) {\n",
       "  function embed_document(root) {\n",
       "    \n",
       "  var docs_json = {\"63f6e9a2-3fde-463e-9a62-9a5584b88122\":{\"roots\":{\"references\":[{\"attributes\":{\"below\":[{\"id\":\"22777\",\"type\":\"DatetimeAxis\"}],\"center\":[{\"id\":\"22781\",\"type\":\"Grid\"},{\"id\":\"22786\",\"type\":\"Grid\"},{\"id\":\"22823\",\"type\":\"Legend\"}],\"left\":[{\"id\":\"22782\",\"type\":\"LinearAxis\"}],\"plot_height\":320,\"plot_width\":960,\"renderers\":[{\"id\":\"22803\",\"type\":\"GlyphRenderer\"},{\"id\":\"22828\",\"type\":\"GlyphRenderer\"}],\"title\":{\"id\":\"22767\",\"type\":\"Title\"},\"toolbar\":{\"id\":\"22793\",\"type\":\"Toolbar\"},\"x_range\":{\"id\":\"22769\",\"type\":\"DataRange1d\"},\"x_scale\":{\"id\":\"22773\",\"type\":\"LinearScale\"},\"y_range\":{\"id\":\"22771\",\"type\":\"DataRange1d\"},\"y_scale\":{\"id\":\"22775\",\"type\":\"LinearScale\"}},\"id\":\"22766\",\"subtype\":\"Figure\",\"type\":\"Plot\"},{\"attributes\":{},\"id\":\"22787\",\"type\":\"PanTool\"},{\"attributes\":{\"days\":[1,4,7,10,13,16,19,22,25,28]},\"id\":\"22814\",\"type\":\"DaysTicker\"},{\"attributes\":{\"callback\":null,\"data\":{\"x\":{\"__ndarray__\":\"AACALeiCdEIAAGic64J0QgAAUAvvgnRCAAA4evKCdEIAACDp9YJ0QgAACFj5gnRCAADwxvyCdEIAANg1AIN0QgAAwKQDg3RCAACoEweDdEIAAJCCCoN0QgAAePENg3RCAABgYBGDdEIAAEjPFIN0QgAAMD4Yg3RCAAAYrRuDdEIAAAAcH4N0QgAA6Ioig3RCAADQ+SWDdEIAALhoKYN0QgAAoNcsg3RCAACIRjCDdEIAAHC1M4N0QgAAWCQ3g3RCAABAkzqDdEIAACgCPoN0QgAAEHFBg3RCAAD430SDdEIAAOBOSIN0QgAAyL1Lg3RCAACwLE+DdEIAAJibUoN0QgAAgApWg3RCAABoeVmDdEIAAFDoXIN0QgAAOFdgg3RCAAAgxmODdEIAAAg1Z4N0QgAA8KNqg3RCAADYEm6DdEIAAMCBcYN0QgAAqPB0g3RCAACQX3iDdEIAAHjOe4N0QgAAYD1/g3RCAABIrIKDdEIAADAbhoN0QgAAGIqJg3RCAAAA+YyDdEIAAOhnkIN0QgAA0NaTg3RCAAC4RZeDdEIAAKC0moN0QgAAiCOeg3RCAABwkqGDdEIAAFgBpYN0QgAAQHCog3RCAAAo36uDdEIAABBOr4N0QgAA+Lyyg3RCAADgK7aDdEIAAMiauYN0QgAAsAm9g3RCAACYeMCDdEIAAIDnw4N0QgAAaFbHg3RCAABQxcqDdEIAADg0zoN0QgAAIKPRg3RCAAAIEtWDdEIAAPCA2IN0QgAA2O/bg3RCAADAXt+DdEIAAKjN4oN0QgAAkDzmg3RCAAB4q+mDdEIAAGAa7YN0QgAASInwg3RCAAAw+PODdEIAABhn94N0QgAAANb6g3RCAADoRP6DdEIAANCzAYR0QgAAuCIFhHRCAACgkQiEdEIAAIgADIR0QgAAcG8PhHRCAABY3hKEdEIAAEBNFoR0QgAAKLwZhHRCAAAQKx2EdEIAAPiZIIR0QgAA4AgkhHRCAADIdyeEdEIAALDmKoR0QgAAmFUuhHRCAACAxDGEdEIAAGgzNYR0QgAAUKI4hHRCAAA4ETyEdEIAACCAP4R0QgAACO9ChHRCAADwXUaEdEIAANjMSYR0QgAAwDtNhHRCAACoqlCEdEIAAJAZVIR0QgAAeIhXhHRCAABg91qEdEIAAEhmXoR0QgAAMNVhhHRCAAAYRGWEdEIAAACzaIR0QgAA6CFshHRCAADQkG+EdEIAALj/coR0QgAAoG52hHRCAACI3XmEdEIAAHBMfYR0QgAAWLuAhHRCAABAKoSEdEIAACiZh4R0QgAAEAiLhHRCAAD4do6EdEIAAODlkYR0QgAAyFSVhHRCAACww5iEdEIAAJgynIR0QgAAgKGfhHRCAABoEKOEdEIAAFB/poR0QgAAOO6phHRCAAAgXa2EdEIAAAjMsIR0QgAA8Dq0hHRCAADYqbeEdEIAAMAYu4R0QgAAqIe+hHRCAACQ9sGEdEIAAHhlxYR0QgAAYNTIhHRCAABIQ8yEdEIAADCyz4R0QgAAGCHThHRCAAAAkNaEdEIAAOj+2YR0QgAA0G3dhHRCAAC43OCEdEIAAKBL5IR0QgAAiLrnhHRCAABwKeuEdEIAAFiY7oR0QgAAQAfyhHRCAAAodvWEdEIAABDl+IR0QgAA+FP8hHRCAADgwv+EdEIAAMgxA4V0QgAAsKAGhXRCAACYDwqFdEIAAIB+DYV0QgAAaO0QhXRCAABQXBSFdEIAADjLF4V0QgAAIDobhXRCAAAIqR6FdEIAAPAXIoV0QgAA2IYlhXRC\",\"dtype\":\"float64\",\"shape\":[168]},\"y\":{\"__ndarray__\":\"AAAAQFnsYEAAAAAANXNgQAAAAMDSxl9AAAAAYOZzXkAAAABg3WxdQAAAAABnxlxAAAAAQO/rYkAAAADAknZnQAAAAKAqIWpAAAAAAKYKb0AAAABAKj5wQAAAAADEq3BAAAAAYONgcEAAAAAgVAhwQAAAAKApNW5AAAAAoKZyb0AAAADgJVNwQAAAAOAE23BAAAAAoGDecEAAAACAaQhxQAAAAMBbIHFAAAAAIMCvcEAAAABgestsQAAAAAC+V2JAAAAAIBFIYUAAAABg2fRgQAAAAKDmBWFAAAAA4JxlYEAAAAAglp5fQAAAAOAxPl9AAAAAoABRYkAAAAAgESppQAAAAADgJGpAAAAAwKqibkAAAACA0kdwQAAAAMCVOXBAAAAAgPGfb0AAAADAE/luQAAAAMBJd29AAAAAwBj/b0AAAABAjLRwQAAAAKB0B3FAAAAAwEjpcEAAAADgyllxQAAAACDvBXFAAAAAgL5scEAAAADgsmJrQAAAAMAFZ2NAAAAAIMmPYUAAAADAxQZiQAAAAKB1Y2JAAAAAgLD+YUAAAACA1WlhQAAAACAS0GBAAAAA4HejZEAAAAAgueBoQAAAAODKUmxAAAAAQG8dcEAAAACATZdwQAAAAEDVjnBAAAAAoCbhb0AAAACAollwQAAAAABfm25AAAAAIJxFcEAAAADA00pwQAAAACAZoXBAAAAAoBspcUAAAACgeWJxQAAAAOCoxXBAAAAA4Pz/bkAAAABAk0NsQAAAAAD8RmVAAAAAoJSgYUAAAAAAtoJiQAAAAKCzZmFAAAAAQCRGYUAAAACgp0xhQAAAAECLd2BAAAAAAH8GZkAAAADgUD5oQAAAACCJB2tAAAAAAGp2b0AAAAAAhJZwQAAAAGCumG9AAAAAYGBWbkAAAADgs4dvQAAAAGB19G5AAAAAYA7kbkAAAAAgk5VvQAAAAKCjhnBAAAAAgFK3cEAAAAAgR+lwQAAAAGAaanFAAAAAYFvGcEAAAABgv8hrQAAAAIC+vmNAAAAAwClRYkAAAACAh3ZiQAAAAKDa1mFAAAAAYAX3YEAAAADg80ZgQAAAAOD8619AAAAA4HT+Y0AAAAAAsgxpQAAAAMCcnmpAAAAA4LYPb0AAAACA08xvQAAAAABSC3BAAAAA4JGmb0AAAADgJxxuQAAAACBVoW5AAAAAQKywbUAAAABgaItuQAAAAEAmLHBAAAAAAK1icEAAAAAgXGJwQAAAAICUeXBAAAAAAL3fb0AAAADgooRqQAAAAIBNs2JAAAAAIEggY0AAAADgycliQAAAAODTkGJAAAAAgBkfYUAAAADgO7dgQAAAAEBFE19AAAAAwNjgYUAAAABAPkxpQAAAACDSZ2xAAAAAQIwDcEAAAACAqntwQAAAAEAKVXBAAAAAYENfb0AAAAAAp3JuQAAAAIBecm1AAAAAYE4/bUAAAACAJSJvQAAAACCRdXBAAAAAoHJKcEAAAABgPwZwQAAAAIAhW3BAAAAAoGWub0AAAABAT3hqQAAAAACiPWJAAAAA4BuHYUAAAABg9XlhQAAAAICQj2FAAAAAYAbXYUAAAAAAiedgQAAAAIAHlmBAAAAAwFjmY0AAAACAzthnQAAAAIAXX2tAAAAA4IBWcEAAAABAOklwQAAAAABLvXBAAAAAoFt/cEAAAABAgspuQAAAACBnFm5AAAAAYLxJbUAAAABAWY1vQAAAAGCSQHBAAAAAoK1TcUAAAACgiW5xQAAAACDomXBAAAAA4CqvbUAAAACAGsZpQAAAAMB9xWFA\",\"dtype\":\"float64\",\"shape\":[168]}},\"selected\":{\"id\":\"22836\",\"type\":\"Selection\"},\"selection_policy\":{\"id\":\"22835\",\"type\":\"UnionRenderers\"}},\"id\":\"22800\",\"type\":\"ColumnDataSource\"},{\"attributes\":{\"dimension\":1,\"ticker\":{\"id\":\"22783\",\"type\":\"BasicTicker\"}},\"id\":\"22786\",\"type\":\"Grid\"},{\"attributes\":{\"source\":{\"id\":\"22825\",\"type\":\"ColumnDataSource\"}},\"id\":\"22829\",\"type\":\"CDSView\"},{\"attributes\":{},\"id\":\"22791\",\"type\":\"ResetTool\"},{\"attributes\":{},\"id\":\"23562\",\"type\":\"UnionRenderers\"},{\"attributes\":{},\"id\":\"22792\",\"type\":\"HelpTool\"},{\"attributes\":{\"source\":{\"id\":\"22800\",\"type\":\"ColumnDataSource\"}},\"id\":\"22804\",\"type\":\"CDSView\"},{\"attributes\":{},\"id\":\"22835\",\"type\":\"UnionRenderers\"},{\"attributes\":{\"days\":[1,2,3,4,5,6,7,8,9,10,11,12,13,14,15,16,17,18,19,20,21,22,23,24,25,26,27,28,29,30,31]},\"id\":\"22813\",\"type\":\"DaysTicker\"},{\"attributes\":{\"base\":24,\"mantissas\":[1,2,4,6,8,12],\"max_interval\":43200000.0,\"min_interval\":3600000.0,\"num_minor_ticks\":0},\"id\":\"22812\",\"type\":\"AdaptiveTicker\"},{\"attributes\":{},\"id\":\"22788\",\"type\":\"WheelZoomTool\"},{\"attributes\":{\"label\":{\"value\":\"predictions\"},\"renderers\":[{\"id\":\"22803\",\"type\":\"GlyphRenderer\"}]},\"id\":\"22824\",\"type\":\"LegendItem\"},{\"attributes\":{\"label\":{\"value\":\"targets\"},\"renderers\":[{\"id\":\"22828\",\"type\":\"GlyphRenderer\"}]},\"id\":\"22850\",\"type\":\"LegendItem\"},{\"attributes\":{\"ticker\":{\"id\":\"22778\",\"type\":\"DatetimeTicker\"}},\"id\":\"22781\",\"type\":\"Grid\"},{\"attributes\":{},\"id\":\"22836\",\"type\":\"Selection\"},{\"attributes\":{\"days\":[1,8,15,22]},\"id\":\"22815\",\"type\":\"DaysTicker\"},{\"attributes\":{},\"id\":\"22783\",\"type\":\"BasicTicker\"},{\"attributes\":{\"active_drag\":\"auto\",\"active_inspect\":\"auto\",\"active_multi\":null,\"active_scroll\":\"auto\",\"active_tap\":\"auto\",\"tools\":[{\"id\":\"22787\",\"type\":\"PanTool\"},{\"id\":\"22788\",\"type\":\"WheelZoomTool\"},{\"id\":\"22789\",\"type\":\"BoxZoomTool\"},{\"id\":\"22790\",\"type\":\"SaveTool\"},{\"id\":\"22791\",\"type\":\"ResetTool\"},{\"id\":\"22792\",\"type\":\"HelpTool\"}]},\"id\":\"22793\",\"type\":\"Toolbar\"},{\"attributes\":{\"line_alpha\":0.1,\"line_color\":\"#1f77b4\",\"x\":{\"field\":\"x\"},\"y\":{\"field\":\"y\"}},\"id\":\"22802\",\"type\":\"Line\"},{\"attributes\":{\"overlay\":{\"id\":\"22822\",\"type\":\"BoxAnnotation\"}},\"id\":\"22789\",\"type\":\"BoxZoomTool\"},{\"attributes\":{},\"id\":\"23563\",\"type\":\"Selection\"},{\"attributes\":{\"days\":[1,15]},\"id\":\"22816\",\"type\":\"DaysTicker\"},{\"attributes\":{\"axis_label\":\"Value\",\"formatter\":{\"id\":\"22806\",\"type\":\"BasicTickFormatter\"},\"ticker\":{\"id\":\"22783\",\"type\":\"BasicTicker\"}},\"id\":\"22782\",\"type\":\"LinearAxis\"},{\"attributes\":{\"line_color\":\"red\",\"x\":{\"field\":\"x\"},\"y\":{\"field\":\"y\"}},\"id\":\"22801\",\"type\":\"Line\"},{\"attributes\":{},\"id\":\"22790\",\"type\":\"SaveTool\"},{\"attributes\":{},\"id\":\"22806\",\"type\":\"BasicTickFormatter\"},{\"attributes\":{\"num_minor_ticks\":5,\"tickers\":[{\"id\":\"22810\",\"type\":\"AdaptiveTicker\"},{\"id\":\"22811\",\"type\":\"AdaptiveTicker\"},{\"id\":\"22812\",\"type\":\"AdaptiveTicker\"},{\"id\":\"22813\",\"type\":\"DaysTicker\"},{\"id\":\"22814\",\"type\":\"DaysTicker\"},{\"id\":\"22815\",\"type\":\"DaysTicker\"},{\"id\":\"22816\",\"type\":\"DaysTicker\"},{\"id\":\"22817\",\"type\":\"MonthsTicker\"},{\"id\":\"22818\",\"type\":\"MonthsTicker\"},{\"id\":\"22819\",\"type\":\"MonthsTicker\"},{\"id\":\"22820\",\"type\":\"MonthsTicker\"},{\"id\":\"22821\",\"type\":\"YearsTicker\"}]},\"id\":\"22778\",\"type\":\"DatetimeTicker\"},{\"attributes\":{\"months\":[0,6]},\"id\":\"22820\",\"type\":\"MonthsTicker\"},{\"attributes\":{},\"id\":\"22773\",\"type\":\"LinearScale\"},{\"attributes\":{\"line_color\":\"blue\",\"x\":{\"field\":\"x\"},\"y\":{\"field\":\"y\"}},\"id\":\"22826\",\"type\":\"Line\"},{\"attributes\":{\"months\":[0,4,8]},\"id\":\"22819\",\"type\":\"MonthsTicker\"},{\"attributes\":{\"data_source\":{\"id\":\"22825\",\"type\":\"ColumnDataSource\"},\"glyph\":{\"id\":\"22826\",\"type\":\"Line\"},\"hover_glyph\":null,\"muted_glyph\":null,\"nonselection_glyph\":{\"id\":\"22827\",\"type\":\"Line\"},\"selection_glyph\":null,\"view\":{\"id\":\"22829\",\"type\":\"CDSView\"}},\"id\":\"22828\",\"type\":\"GlyphRenderer\"},{\"attributes\":{},\"id\":\"22775\",\"type\":\"LinearScale\"},{\"attributes\":{\"axis_label\":\"Timestmap\",\"formatter\":{\"id\":\"22808\",\"type\":\"DatetimeTickFormatter\"},\"ticker\":{\"id\":\"22778\",\"type\":\"DatetimeTicker\"}},\"id\":\"22777\",\"type\":\"DatetimeAxis\"},{\"attributes\":{\"months\":[0,1,2,3,4,5,6,7,8,9,10,11]},\"id\":\"22817\",\"type\":\"MonthsTicker\"},{\"attributes\":{\"data_source\":{\"id\":\"22800\",\"type\":\"ColumnDataSource\"},\"glyph\":{\"id\":\"22801\",\"type\":\"Line\"},\"hover_glyph\":null,\"muted_glyph\":null,\"nonselection_glyph\":{\"id\":\"22802\",\"type\":\"Line\"},\"selection_glyph\":null,\"view\":{\"id\":\"22804\",\"type\":\"CDSView\"}},\"id\":\"22803\",\"type\":\"GlyphRenderer\"},{\"attributes\":{\"callback\":null},\"id\":\"22771\",\"type\":\"DataRange1d\"},{\"attributes\":{\"callback\":null},\"id\":\"22769\",\"type\":\"DataRange1d\"},{\"attributes\":{},\"id\":\"22821\",\"type\":\"YearsTicker\"},{\"attributes\":{\"line_alpha\":0.1,\"line_color\":\"#1f77b4\",\"x\":{\"field\":\"x\"},\"y\":{\"field\":\"y\"}},\"id\":\"22827\",\"type\":\"Line\"},{\"attributes\":{\"items\":[{\"id\":\"22824\",\"type\":\"LegendItem\"},{\"id\":\"22850\",\"type\":\"LegendItem\"}]},\"id\":\"22823\",\"type\":\"Legend\"},{\"attributes\":{\"months\":[0,2,4,6,8,10]},\"id\":\"22818\",\"type\":\"MonthsTicker\"},{\"attributes\":{\"bottom_units\":\"screen\",\"fill_alpha\":{\"value\":0.5},\"fill_color\":{\"value\":\"lightgrey\"},\"left_units\":\"screen\",\"level\":\"overlay\",\"line_alpha\":{\"value\":1.0},\"line_color\":{\"value\":\"black\"},\"line_dash\":[4,4],\"line_width\":{\"value\":2},\"render_mode\":\"css\",\"right_units\":\"screen\",\"top_units\":\"screen\"},\"id\":\"22822\",\"type\":\"BoxAnnotation\"},{\"attributes\":{\"base\":60,\"mantissas\":[1,2,5,10,15,20,30],\"max_interval\":1800000.0,\"min_interval\":1000.0,\"num_minor_ticks\":0},\"id\":\"22811\",\"type\":\"AdaptiveTicker\"},{\"attributes\":{\"text\":\"Predictions over the test dataset for MT_329\"},\"id\":\"22767\",\"type\":\"Title\"},{\"attributes\":{\"callback\":null,\"data\":{\"x\":{\"__ndarray__\":\"AACALeiCdEIAAGic64J0QgAAUAvvgnRCAAA4evKCdEIAACDp9YJ0QgAACFj5gnRCAADwxvyCdEIAANg1AIN0QgAAwKQDg3RCAACoEweDdEIAAJCCCoN0QgAAePENg3RCAABgYBGDdEIAAEjPFIN0QgAAMD4Yg3RCAAAYrRuDdEIAAAAcH4N0QgAA6Ioig3RCAADQ+SWDdEIAALhoKYN0QgAAoNcsg3RCAACIRjCDdEIAAHC1M4N0QgAAWCQ3g3RCAABAkzqDdEIAACgCPoN0QgAAEHFBg3RCAAD430SDdEIAAOBOSIN0QgAAyL1Lg3RCAACwLE+DdEIAAJibUoN0QgAAgApWg3RCAABoeVmDdEIAAFDoXIN0QgAAOFdgg3RCAAAgxmODdEIAAAg1Z4N0QgAA8KNqg3RCAADYEm6DdEIAAMCBcYN0QgAAqPB0g3RCAACQX3iDdEIAAHjOe4N0QgAAYD1/g3RCAABIrIKDdEIAADAbhoN0QgAAGIqJg3RCAAAA+YyDdEIAAOhnkIN0QgAA0NaTg3RCAAC4RZeDdEIAAKC0moN0QgAAiCOeg3RCAABwkqGDdEIAAFgBpYN0QgAAQHCog3RCAAAo36uDdEIAABBOr4N0QgAA+Lyyg3RCAADgK7aDdEIAAMiauYN0QgAAsAm9g3RCAACYeMCDdEIAAIDnw4N0QgAAaFbHg3RCAABQxcqDdEIAADg0zoN0QgAAIKPRg3RCAAAIEtWDdEIAAPCA2IN0QgAA2O/bg3RCAADAXt+DdEIAAKjN4oN0QgAAkDzmg3RCAAB4q+mDdEIAAGAa7YN0QgAASInwg3RCAAAw+PODdEIAABhn94N0QgAAANb6g3RCAADoRP6DdEIAANCzAYR0QgAAuCIFhHRCAACgkQiEdEIAAIgADIR0QgAAcG8PhHRCAABY3hKEdEIAAEBNFoR0QgAAKLwZhHRCAAAQKx2EdEIAAPiZIIR0QgAA4AgkhHRCAADIdyeEdEIAALDmKoR0QgAAmFUuhHRCAACAxDGEdEIAAGgzNYR0QgAAUKI4hHRCAAA4ETyEdEIAACCAP4R0QgAACO9ChHRCAADwXUaEdEIAANjMSYR0QgAAwDtNhHRCAACoqlCEdEIAAJAZVIR0QgAAeIhXhHRCAABg91qEdEIAAEhmXoR0QgAAMNVhhHRCAAAYRGWEdEIAAACzaIR0QgAA6CFshHRCAADQkG+EdEIAALj/coR0QgAAoG52hHRCAACI3XmEdEIAAHBMfYR0QgAAWLuAhHRCAABAKoSEdEIAACiZh4R0QgAAEAiLhHRCAAD4do6EdEIAAODlkYR0QgAAyFSVhHRCAACww5iEdEIAAJgynIR0QgAAgKGfhHRCAABoEKOEdEIAAFB/poR0QgAAOO6phHRCAAAgXa2EdEIAAAjMsIR0QgAA8Dq0hHRCAADYqbeEdEIAAMAYu4R0QgAAqIe+hHRCAACQ9sGEdEIAAHhlxYR0QgAAYNTIhHRCAABIQ8yEdEIAADCyz4R0QgAAGCHThHRCAAAAkNaEdEIAAOj+2YR0QgAA0G3dhHRCAAC43OCEdEIAAKBL5IR0QgAAiLrnhHRCAABwKeuEdEIAAFiY7oR0QgAAQAfyhHRCAAAodvWEdEIAABDl+IR0QgAA+FP8hHRCAADgwv+EdEIAAMgxA4V0QgAAsKAGhXRCAACYDwqFdEIAAIB+DYV0QgAAaO0QhXRCAABQXBSFdEIAADjLF4V0QgAAIDobhXRCAAAIqR6FdEIAAPAXIoV0QgAA2IYlhXRC\",\"dtype\":\"float64\",\"shape\":[168]},\"y\":{\"__ndarray__\":\"9/////8zYEBeaWlpaU1fQG9paWlpeV5AQy0tLS29XUB7eHh4eBhdQNjh4eHh0VxAe3h4eHjiYkCRlpaWlsRlQJCWlpaW2GhA4eHh4eF/bEB2eHh4eDVwQEhLS0tLBW5ALS0tLS2CcEC6w8PDw8VvQLe0tLS0NG5AhoeHh4dbb0DEw8PDw09vQC4tLS0tDHBAr7S0tLQUb0AaHh4eHgxwQC4tLS0tgnBAfHh4eHiib0BIS0tLS0FrQCEtLS0taWJAPjw8PDySYECvtLS0tHpgQCAtLS0tTV9Ae3h4eHioXkDJtLS0tNRdQK2lpaWlpV1A9vDw8PBmZEAAAAAAALJnQGhpaWlpt2tAXFpaWlqib0ByeHh4eOZwQPbw8PDwim9A3eHh4eFYcEDl8PDw8PRvQB4eHh4eTG5AMi0tLS2HbkCGh4eHh29uQAAAAAAABHFAcnh4eHiWb0BSWlpaWixvQDk8PDw8fHBAOTw8PDx8cEBeaWlpaYFqQBYeHh4e0GFAwsPDw8OpYEBAWlpaWvJfQBYeHh4eHl9AcGlpaWl5XkDf0tLS0jJeQODS0tLSMl5ApKWlpaWtZEDM0tLS0m5oQJmWlpaWcGtA8fDw8PBScEAKDw8PD8NwQPbw8PDwkm5Ab2lpaWlnb0AjHh4eHhJwQBMPDw8PMW1A4uHh4eFjbkCFh4eHh29uQGtpaWlpAHBAenh4eHiWb0Dr8PDw8H5vQHt4eHh4cHBAIx4eHh6IcECQlpaWloRqQB4eHh4eOmJAFh4eHh78YEA/S0tLS1dgQMzS0tLS2l9AAAAAAADAXkAAAAAAAMBeQE88PDw87F1AFA8PDw/xY0BcWlpaWvxoQJmWlpaWDmpAhoeHh4dvbkBnaWlpaWdvQCAeHh4eTG5AjoeHh4dbb0BcWlpaWkBuQOrh4eHhY25AwsPDw8NjbkBbWlpaWkBuQFNaWlpaO3BA4eHh4eFDb0APDw8PDxJwQGZpaWlpO3BA4eHh4eGTcEADDw8PD9dqQI6Hh4eHUWJA2OHh4eGdYECbpaWlpTVfQJKWlpaWBl9Ab2lpaWl5XkA9PDw8POxdQAwPDw8PX11A4uHh4eFvY0BIS0tLS0toQKulpaWlUWlA9/////9LbkCFh4eHh+VuQCceHh4e4m1Ae3h4eHhAbkDs8PDw8JJuQAoPDw8PJW1AuLS0tLSebkDN0tLS0jBtQOHh4eHhCXFAhoeHh4cvcEDHw8PDwyNwQOzw8PDwA3FAAAAAAADJcEBwaWlpabdrQNbS0tLSHGRAKS0tLS09Y0A9PDw8PJhiQAsPDw8PC2JAUUtLS0vzYUAoHh4eHjpiQP7w8PDwCmJAhYeHh4f5Y0BTWlpaWlRtQCktLS0tj21A0tLS0tKZcEDi4eHh4fVxQIaHh4eHpXBA8fDw8PDIcEC0tLS0tJ9wQLe0tLS0ZHBAx8PDw8OZcEDh4eHh4R1wQKSlpaWli3FACw8PDw/+cEBIS0tLS3NvQKSlpaWli3FALi0tLS1ackBwaWlpabdrQBQPDw8P02JAZmlpaWnzYUB6eHh4ePBgQJulpaWltWBASEtLS0tjYEBTWlpaWihgQJulpaWlNV9AU1paWloAZUA0PDw8PBBoQF1aWlpapGlAIB4eHh6ub0DHw8PDw9pwQB8eHh4eEnBA0tLS0tLOcEDt8PDw8JNwQAAAAAAARG9A4eHh4eFjbkCQlpaWljRuQMPDw8PDmXBALi0tLS1HcED28PDw8H5vQOHh4eHhznBASEtLS0u3cECGh4eHh79qQI6Hh4eHUWJA\",\"dtype\":\"float64\",\"shape\":[168]}},\"selected\":{\"id\":\"23563\",\"type\":\"Selection\"},\"selection_policy\":{\"id\":\"23562\",\"type\":\"UnionRenderers\"}},\"id\":\"22825\",\"type\":\"ColumnDataSource\"},{\"attributes\":{\"mantissas\":[1,2,5],\"max_interval\":500.0,\"num_minor_ticks\":0},\"id\":\"22810\",\"type\":\"AdaptiveTicker\"},{\"attributes\":{},\"id\":\"22808\",\"type\":\"DatetimeTickFormatter\"}],\"root_ids\":[\"22766\"]},\"title\":\"Bokeh Application\",\"version\":\"1.4.0\"}};\n",
       "  var render_items = [{\"docid\":\"63f6e9a2-3fde-463e-9a62-9a5584b88122\",\"roots\":{\"22766\":\"dd7bd1b5-0ec7-4eb9-ad17-ce4a534b5eb5\"}}];\n",
       "  root.Bokeh.embed.embed_items_notebook(docs_json, render_items);\n",
       "\n",
       "  }\n",
       "  if (root.Bokeh !== undefined) {\n",
       "    embed_document(root);\n",
       "  } else {\n",
       "    var attempts = 0;\n",
       "    var timer = setInterval(function(root) {\n",
       "      if (root.Bokeh !== undefined) {\n",
       "        clearInterval(timer);\n",
       "        embed_document(root);\n",
       "      } else {\n",
       "        attempts++;\n",
       "        if (attempts > 100) {\n",
       "          clearInterval(timer);\n",
       "          console.log(\"Bokeh: ERROR: Unable to run BokehJS code because BokehJS library is missing\");\n",
       "        }\n",
       "      }\n",
       "    }, 10, root)\n",
       "  }\n",
       "})(window);"
      ],
      "application/vnd.bokehjs_exec.v0+json": ""
     },
     "metadata": {
      "application/vnd.bokehjs_exec.v0+json": {
       "id": "22766"
      }
     },
     "output_type": "display_data"
    },
    {
     "data": {
      "text/html": [
       "\n",
       "\n",
       "\n",
       "\n",
       "\n",
       "\n",
       "  <div class=\"bk-root\" id=\"ea3fe1ea-4bc1-4ac6-93f5-8ea1be1b0988\" data-root-id=\"23709\"></div>\n"
      ]
     },
     "metadata": {},
     "output_type": "display_data"
    },
    {
     "data": {
      "application/javascript": [
       "(function(root) {\n",
       "  function embed_document(root) {\n",
       "    \n",
       "  var docs_json = {\"82545d23-0fdb-43f4-b1b0-71cdb0ecd775\":{\"roots\":{\"references\":[{\"attributes\":{\"below\":[{\"id\":\"23720\",\"type\":\"DatetimeAxis\"}],\"center\":[{\"id\":\"23724\",\"type\":\"Grid\"},{\"id\":\"23729\",\"type\":\"Grid\"},{\"id\":\"23766\",\"type\":\"Legend\"}],\"left\":[{\"id\":\"23725\",\"type\":\"LinearAxis\"}],\"plot_height\":320,\"plot_width\":960,\"renderers\":[{\"id\":\"23746\",\"type\":\"GlyphRenderer\"},{\"id\":\"23771\",\"type\":\"GlyphRenderer\"}],\"title\":{\"id\":\"23710\",\"type\":\"Title\"},\"toolbar\":{\"id\":\"23736\",\"type\":\"Toolbar\"},\"x_range\":{\"id\":\"23712\",\"type\":\"DataRange1d\"},\"x_scale\":{\"id\":\"23716\",\"type\":\"LinearScale\"},\"y_range\":{\"id\":\"23714\",\"type\":\"DataRange1d\"},\"y_scale\":{\"id\":\"23718\",\"type\":\"LinearScale\"}},\"id\":\"23709\",\"subtype\":\"Figure\",\"type\":\"Plot\"},{\"attributes\":{\"months\":[0,4,8]},\"id\":\"23762\",\"type\":\"MonthsTicker\"},{\"attributes\":{\"label\":{\"value\":\"predictions\"},\"renderers\":[{\"id\":\"23746\",\"type\":\"GlyphRenderer\"}]},\"id\":\"23767\",\"type\":\"LegendItem\"},{\"attributes\":{\"months\":[0,6]},\"id\":\"23763\",\"type\":\"MonthsTicker\"},{\"attributes\":{\"source\":{\"id\":\"23743\",\"type\":\"ColumnDataSource\"}},\"id\":\"23747\",\"type\":\"CDSView\"},{\"attributes\":{\"data_source\":{\"id\":\"23743\",\"type\":\"ColumnDataSource\"},\"glyph\":{\"id\":\"23744\",\"type\":\"Line\"},\"hover_glyph\":null,\"muted_glyph\":null,\"nonselection_glyph\":{\"id\":\"23745\",\"type\":\"Line\"},\"selection_glyph\":null,\"view\":{\"id\":\"23747\",\"type\":\"CDSView\"}},\"id\":\"23746\",\"type\":\"GlyphRenderer\"},{\"attributes\":{\"months\":[0,2,4,6,8,10]},\"id\":\"23761\",\"type\":\"MonthsTicker\"},{\"attributes\":{},\"id\":\"23764\",\"type\":\"YearsTicker\"},{\"attributes\":{},\"id\":\"23749\",\"type\":\"BasicTickFormatter\"},{\"attributes\":{\"bottom_units\":\"screen\",\"fill_alpha\":{\"value\":0.5},\"fill_color\":{\"value\":\"lightgrey\"},\"left_units\":\"screen\",\"level\":\"overlay\",\"line_alpha\":{\"value\":1.0},\"line_color\":{\"value\":\"black\"},\"line_dash\":[4,4],\"line_width\":{\"value\":2},\"render_mode\":\"css\",\"right_units\":\"screen\",\"top_units\":\"screen\"},\"id\":\"23765\",\"type\":\"BoxAnnotation\"},{\"attributes\":{\"active_drag\":\"auto\",\"active_inspect\":\"auto\",\"active_multi\":null,\"active_scroll\":\"auto\",\"active_tap\":\"auto\",\"tools\":[{\"id\":\"23730\",\"type\":\"PanTool\"},{\"id\":\"23731\",\"type\":\"WheelZoomTool\"},{\"id\":\"23732\",\"type\":\"BoxZoomTool\"},{\"id\":\"23733\",\"type\":\"SaveTool\"},{\"id\":\"23734\",\"type\":\"ResetTool\"},{\"id\":\"23735\",\"type\":\"HelpTool\"}]},\"id\":\"23736\",\"type\":\"Toolbar\"},{\"attributes\":{\"ticker\":{\"id\":\"23721\",\"type\":\"DatetimeTicker\"}},\"id\":\"23724\",\"type\":\"Grid\"},{\"attributes\":{\"items\":[{\"id\":\"23767\",\"type\":\"LegendItem\"},{\"id\":\"23793\",\"type\":\"LegendItem\"}]},\"id\":\"23766\",\"type\":\"Legend\"},{\"attributes\":{\"axis_label\":\"Timestmap\",\"formatter\":{\"id\":\"23751\",\"type\":\"DatetimeTickFormatter\"},\"ticker\":{\"id\":\"23721\",\"type\":\"DatetimeTicker\"}},\"id\":\"23720\",\"type\":\"DatetimeAxis\"},{\"attributes\":{},\"id\":\"23751\",\"type\":\"DatetimeTickFormatter\"},{\"attributes\":{\"mantissas\":[1,2,5],\"max_interval\":500.0,\"num_minor_ticks\":0},\"id\":\"23753\",\"type\":\"AdaptiveTicker\"},{\"attributes\":{},\"id\":\"23726\",\"type\":\"BasicTicker\"},{\"attributes\":{\"data_source\":{\"id\":\"23768\",\"type\":\"ColumnDataSource\"},\"glyph\":{\"id\":\"23769\",\"type\":\"Line\"},\"hover_glyph\":null,\"muted_glyph\":null,\"nonselection_glyph\":{\"id\":\"23770\",\"type\":\"Line\"},\"selection_glyph\":null,\"view\":{\"id\":\"23772\",\"type\":\"CDSView\"}},\"id\":\"23771\",\"type\":\"GlyphRenderer\"},{\"attributes\":{\"line_alpha\":0.1,\"line_color\":\"#1f77b4\",\"x\":{\"field\":\"x\"},\"y\":{\"field\":\"y\"}},\"id\":\"23745\",\"type\":\"Line\"},{\"attributes\":{\"axis_label\":\"Value\",\"formatter\":{\"id\":\"23749\",\"type\":\"BasicTickFormatter\"},\"ticker\":{\"id\":\"23726\",\"type\":\"BasicTicker\"}},\"id\":\"23725\",\"type\":\"LinearAxis\"},{\"attributes\":{\"line_alpha\":0.1,\"line_color\":\"#1f77b4\",\"x\":{\"field\":\"x\"},\"y\":{\"field\":\"y\"}},\"id\":\"23770\",\"type\":\"Line\"},{\"attributes\":{\"dimension\":1,\"ticker\":{\"id\":\"23726\",\"type\":\"BasicTicker\"}},\"id\":\"23729\",\"type\":\"Grid\"},{\"attributes\":{},\"id\":\"23733\",\"type\":\"SaveTool\"},{\"attributes\":{\"source\":{\"id\":\"23768\",\"type\":\"ColumnDataSource\"}},\"id\":\"23772\",\"type\":\"CDSView\"},{\"attributes\":{\"num_minor_ticks\":5,\"tickers\":[{\"id\":\"23753\",\"type\":\"AdaptiveTicker\"},{\"id\":\"23754\",\"type\":\"AdaptiveTicker\"},{\"id\":\"23755\",\"type\":\"AdaptiveTicker\"},{\"id\":\"23756\",\"type\":\"DaysTicker\"},{\"id\":\"23757\",\"type\":\"DaysTicker\"},{\"id\":\"23758\",\"type\":\"DaysTicker\"},{\"id\":\"23759\",\"type\":\"DaysTicker\"},{\"id\":\"23760\",\"type\":\"MonthsTicker\"},{\"id\":\"23761\",\"type\":\"MonthsTicker\"},{\"id\":\"23762\",\"type\":\"MonthsTicker\"},{\"id\":\"23763\",\"type\":\"MonthsTicker\"},{\"id\":\"23764\",\"type\":\"YearsTicker\"}]},\"id\":\"23721\",\"type\":\"DatetimeTicker\"},{\"attributes\":{},\"id\":\"23734\",\"type\":\"ResetTool\"},{\"attributes\":{\"base\":24,\"mantissas\":[1,2,4,6,8,12],\"max_interval\":43200000.0,\"min_interval\":3600000.0,\"num_minor_ticks\":0},\"id\":\"23755\",\"type\":\"AdaptiveTicker\"},{\"attributes\":{},\"id\":\"23718\",\"type\":\"LinearScale\"},{\"attributes\":{\"line_color\":\"blue\",\"x\":{\"field\":\"x\"},\"y\":{\"field\":\"y\"}},\"id\":\"23769\",\"type\":\"Line\"},{\"attributes\":{\"base\":60,\"mantissas\":[1,2,5,10,15,20,30],\"max_interval\":1800000.0,\"min_interval\":1000.0,\"num_minor_ticks\":0},\"id\":\"23754\",\"type\":\"AdaptiveTicker\"},{\"attributes\":{},\"id\":\"23716\",\"type\":\"LinearScale\"},{\"attributes\":{\"callback\":null,\"data\":{\"x\":{\"__ndarray__\":\"AACALeiCdEIAAGic64J0QgAAUAvvgnRCAAA4evKCdEIAACDp9YJ0QgAACFj5gnRCAADwxvyCdEIAANg1AIN0QgAAwKQDg3RCAACoEweDdEIAAJCCCoN0QgAAePENg3RCAABgYBGDdEIAAEjPFIN0QgAAMD4Yg3RCAAAYrRuDdEIAAAAcH4N0QgAA6Ioig3RCAADQ+SWDdEIAALhoKYN0QgAAoNcsg3RCAACIRjCDdEIAAHC1M4N0QgAAWCQ3g3RCAABAkzqDdEIAACgCPoN0QgAAEHFBg3RCAAD430SDdEIAAOBOSIN0QgAAyL1Lg3RCAACwLE+DdEIAAJibUoN0QgAAgApWg3RCAABoeVmDdEIAAFDoXIN0QgAAOFdgg3RCAAAgxmODdEIAAAg1Z4N0QgAA8KNqg3RCAADYEm6DdEIAAMCBcYN0QgAAqPB0g3RCAACQX3iDdEIAAHjOe4N0QgAAYD1/g3RCAABIrIKDdEIAADAbhoN0QgAAGIqJg3RCAAAA+YyDdEIAAOhnkIN0QgAA0NaTg3RCAAC4RZeDdEIAAKC0moN0QgAAiCOeg3RCAABwkqGDdEIAAFgBpYN0QgAAQHCog3RCAAAo36uDdEIAABBOr4N0QgAA+Lyyg3RCAADgK7aDdEIAAMiauYN0QgAAsAm9g3RCAACYeMCDdEIAAIDnw4N0QgAAaFbHg3RCAABQxcqDdEIAADg0zoN0QgAAIKPRg3RCAAAIEtWDdEIAAPCA2IN0QgAA2O/bg3RCAADAXt+DdEIAAKjN4oN0QgAAkDzmg3RCAAB4q+mDdEIAAGAa7YN0QgAASInwg3RCAAAw+PODdEIAABhn94N0QgAAANb6g3RCAADoRP6DdEIAANCzAYR0QgAAuCIFhHRCAACgkQiEdEIAAIgADIR0QgAAcG8PhHRCAABY3hKEdEIAAEBNFoR0QgAAKLwZhHRCAAAQKx2EdEIAAPiZIIR0QgAA4AgkhHRCAADIdyeEdEIAALDmKoR0QgAAmFUuhHRCAACAxDGEdEIAAGgzNYR0QgAAUKI4hHRCAAA4ETyEdEIAACCAP4R0QgAACO9ChHRCAADwXUaEdEIAANjMSYR0QgAAwDtNhHRCAACoqlCEdEIAAJAZVIR0QgAAeIhXhHRCAABg91qEdEIAAEhmXoR0QgAAMNVhhHRCAAAYRGWEdEIAAACzaIR0QgAA6CFshHRCAADQkG+EdEIAALj/coR0QgAAoG52hHRCAACI3XmEdEIAAHBMfYR0QgAAWLuAhHRCAABAKoSEdEIAACiZh4R0QgAAEAiLhHRCAAD4do6EdEIAAODlkYR0QgAAyFSVhHRCAACww5iEdEIAAJgynIR0QgAAgKGfhHRCAABoEKOEdEIAAFB/poR0QgAAOO6phHRCAAAgXa2EdEIAAAjMsIR0QgAA8Dq0hHRCAADYqbeEdEIAAMAYu4R0QgAAqIe+hHRCAACQ9sGEdEIAAHhlxYR0QgAAYNTIhHRCAABIQ8yEdEIAADCyz4R0QgAAGCHThHRCAAAAkNaEdEIAAOj+2YR0QgAA0G3dhHRCAAC43OCEdEIAAKBL5IR0QgAAiLrnhHRCAABwKeuEdEIAAFiY7oR0QgAAQAfyhHRCAAAodvWEdEIAABDl+IR0QgAA+FP8hHRCAADgwv+EdEIAAMgxA4V0QgAAsKAGhXRCAACYDwqFdEIAAIB+DYV0QgAAaO0QhXRCAABQXBSFdEIAADjLF4V0QgAAIDobhXRCAAAIqR6FdEIAAPAXIoV0QgAA2IYlhXRC\",\"dtype\":\"float64\",\"shape\":[168]},\"y\":{\"__ndarray__\":\"mpmZmZlTTEAyMzMzM6tJQDMzMzMzR0lAMzMzMzMPSkBoZmZmZtdKQDMzMzMzp0hAZ2ZmZmYQT0DNzMzMzL5XQGZmZmbm/VVAmpmZmRlvX0AAAAAAAPhiQDQzMzOzhGVAmpmZmdlcZUBmZmZmJiBjQM3MzMwMDGNAZmZmZmbAY0CamZmZ2epnQJqZmZlZ7GlAzczMzEzDaEBmZmZmpmJmQAAAAACAk2JAzczMzIyEYkAzMzMzM21bQM3MzMxMAFBAMzMzMzP0TEDOzMzMzCtMQGhmZmZmr0pAzczMzMzHS0CbmZmZmRdMQDMzMzMzv0lAMzMzMzPkTUBmZmZmZulXQMzMzMxMU1VAAAAAAACxXEBmZmZm5oRhQDMzMzMzdWNAzMzMzAyOZEDNzMzMTAdiQM3MzMyMXGJAmpmZmRmnY0BmZmZm5oBmQAAAAACAJmdAZmZmZiZYZkBmZmZm5sViQM3MzMxMwWBAMjMzM/OOYUD+////f9dYQJqZmZmZJE9AzMzMzMxTTEBnZmZmZptKQJqZmZmZJ0tAAAAAAAD0TEAAAAAAABxNQGZmZmZmT0tAZmZmZmZkUEAAAAAAgIRZQDQzMzOzKldAMzMzMzMkXkCamZmZ2WZhQGZmZmYmk2NAMzMzM7PZYkAzMzMz85NhQAAAAAAAmWFAzczMzIxhYkAAAAAAQIBlQAAAAACAYWVAZmZmZub3Y0BmZmZmpmFiQGZmZmbmIGBAZmZmZuYlYEBmZmZm5idZQJqZmZmZi0tAzczMzMzvS0AzMzMzMyNKQDIzMzMzq0lAmpmZmZmfS0AzMzMzM5tKQDUzMzMzl0lAMzMzMzMQT0DMzMzMTEtYQJqZmZmZ+FZANDMzM7PsXkDNzMzMDLdhQAAAAAAADGNAzczMzIxSYkA0MzMz84lhQJqZmZkZxmFAAAAAAMCOYkBmZmZmZqNlQAAAAABAPmVAAAAAAADuY0A0MzMzs39iQAAAAABAmWBAMzMzM7M5YUDNzMzMTCNYQM3MzMzMn0tAZmZmZmbTSUAzMzMzM/dIQDMzMzMzl0lAmpmZmZlzSkBmZmZmZl9KQDQzMzMzC0lAMjMzMzOETkAAAAAAgAdYQJqZmZkZWFZAMjMzMzMuXkAzMzMz84RhQDMzMzOzxWJAMzMzM7OYYkDNzMzMDLxhQMzMzMwMqGFAZ2ZmZqZ6YkDMzMzMDJVmQMzMzMxMbGZAAAAAAIAvZUAzMzMzs7tiQM3MzMxMt2BAAAAAAIAMYUDLzMzMzCdZQAAAAAAAME1AmpmZmZmLS0CamZmZmddKQGZmZmZmO0tAzczMzMy3TEAAAAAAABxNQMzMzMzMT0tAZmZmZmZGUEAAAAAAALJYQDMzMzOzy1VAmpmZmRmNX0CamZmZ2XVhQJqZmZmZa2JAMzMzMzPVYUBnZmZmZr9fQAAAAACAnF5AZmZmZibfYUCZmZmZ2R9jQGdmZmbmu2JAMzMzM/OEYUBmZmZmJopgQJqZmZkZdmBAAAAAAID4YEA0MzMzs9dYQJqZmZmZ20tAmpmZmZmLS0AzMzMzM5tKQJqZmZmZc0pAmpmZmZmfS0CZmZmZmWNLQGdmZmZml0lAZmZmZmZcTkBmZmZmZhRXQM3MzMzMllVAZmZmZuZGX0DNzMzMzGFhQJmZmZkZL2NAMzMzM7MpY0AzMzMz845hQJqZmZmZIGFAAAAAAED4YUA0MzMzs95jQAAAAADAJGRAMzMzM/MVY0AAAAAAAK1hQAAAAAAAWGBAmpmZmVnBYEBmZmZm5h1ZQMzMzMzMe0xA\",\"dtype\":\"float64\",\"shape\":[168]}},\"selected\":{\"id\":\"24528\",\"type\":\"Selection\"},\"selection_policy\":{\"id\":\"24527\",\"type\":\"UnionRenderers\"}},\"id\":\"23768\",\"type\":\"ColumnDataSource\"},{\"attributes\":{},\"id\":\"23731\",\"type\":\"WheelZoomTool\"},{\"attributes\":{\"days\":[1,2,3,4,5,6,7,8,9,10,11,12,13,14,15,16,17,18,19,20,21,22,23,24,25,26,27,28,29,30,31]},\"id\":\"23756\",\"type\":\"DaysTicker\"},{\"attributes\":{\"callback\":null},\"id\":\"23714\",\"type\":\"DataRange1d\"},{\"attributes\":{},\"id\":\"23730\",\"type\":\"PanTool\"},{\"attributes\":{},\"id\":\"23779\",\"type\":\"Selection\"},{\"attributes\":{\"line_color\":\"red\",\"x\":{\"field\":\"x\"},\"y\":{\"field\":\"y\"}},\"id\":\"23744\",\"type\":\"Line\"},{\"attributes\":{\"days\":[1,4,7,10,13,16,19,22,25,28]},\"id\":\"23757\",\"type\":\"DaysTicker\"},{\"attributes\":{\"callback\":null,\"data\":{\"x\":{\"__ndarray__\":\"AACALeiCdEIAAGic64J0QgAAUAvvgnRCAAA4evKCdEIAACDp9YJ0QgAACFj5gnRCAADwxvyCdEIAANg1AIN0QgAAwKQDg3RCAACoEweDdEIAAJCCCoN0QgAAePENg3RCAABgYBGDdEIAAEjPFIN0QgAAMD4Yg3RCAAAYrRuDdEIAAAAcH4N0QgAA6Ioig3RCAADQ+SWDdEIAALhoKYN0QgAAoNcsg3RCAACIRjCDdEIAAHC1M4N0QgAAWCQ3g3RCAABAkzqDdEIAACgCPoN0QgAAEHFBg3RCAAD430SDdEIAAOBOSIN0QgAAyL1Lg3RCAACwLE+DdEIAAJibUoN0QgAAgApWg3RCAABoeVmDdEIAAFDoXIN0QgAAOFdgg3RCAAAgxmODdEIAAAg1Z4N0QgAA8KNqg3RCAADYEm6DdEIAAMCBcYN0QgAAqPB0g3RCAACQX3iDdEIAAHjOe4N0QgAAYD1/g3RCAABIrIKDdEIAADAbhoN0QgAAGIqJg3RCAAAA+YyDdEIAAOhnkIN0QgAA0NaTg3RCAAC4RZeDdEIAAKC0moN0QgAAiCOeg3RCAABwkqGDdEIAAFgBpYN0QgAAQHCog3RCAAAo36uDdEIAABBOr4N0QgAA+Lyyg3RCAADgK7aDdEIAAMiauYN0QgAAsAm9g3RCAACYeMCDdEIAAIDnw4N0QgAAaFbHg3RCAABQxcqDdEIAADg0zoN0QgAAIKPRg3RCAAAIEtWDdEIAAPCA2IN0QgAA2O/bg3RCAADAXt+DdEIAAKjN4oN0QgAAkDzmg3RCAAB4q+mDdEIAAGAa7YN0QgAASInwg3RCAAAw+PODdEIAABhn94N0QgAAANb6g3RCAADoRP6DdEIAANCzAYR0QgAAuCIFhHRCAACgkQiEdEIAAIgADIR0QgAAcG8PhHRCAABY3hKEdEIAAEBNFoR0QgAAKLwZhHRCAAAQKx2EdEIAAPiZIIR0QgAA4AgkhHRCAADIdyeEdEIAALDmKoR0QgAAmFUuhHRCAACAxDGEdEIAAGgzNYR0QgAAUKI4hHRCAAA4ETyEdEIAACCAP4R0QgAACO9ChHRCAADwXUaEdEIAANjMSYR0QgAAwDtNhHRCAACoqlCEdEIAAJAZVIR0QgAAeIhXhHRCAABg91qEdEIAAEhmXoR0QgAAMNVhhHRCAAAYRGWEdEIAAACzaIR0QgAA6CFshHRCAADQkG+EdEIAALj/coR0QgAAoG52hHRCAACI3XmEdEIAAHBMfYR0QgAAWLuAhHRCAABAKoSEdEIAACiZh4R0QgAAEAiLhHRCAAD4do6EdEIAAODlkYR0QgAAyFSVhHRCAACww5iEdEIAAJgynIR0QgAAgKGfhHRCAABoEKOEdEIAAFB/poR0QgAAOO6phHRCAAAgXa2EdEIAAAjMsIR0QgAA8Dq0hHRCAADYqbeEdEIAAMAYu4R0QgAAqIe+hHRCAACQ9sGEdEIAAHhlxYR0QgAAYNTIhHRCAABIQ8yEdEIAADCyz4R0QgAAGCHThHRCAAAAkNaEdEIAAOj+2YR0QgAA0G3dhHRCAAC43OCEdEIAAKBL5IR0QgAAiLrnhHRCAABwKeuEdEIAAFiY7oR0QgAAQAfyhHRCAAAodvWEdEIAABDl+IR0QgAA+FP8hHRCAADgwv+EdEIAAMgxA4V0QgAAsKAGhXRCAACYDwqFdEIAAIB+DYV0QgAAaO0QhXRCAABQXBSFdEIAADjLF4V0QgAAIDobhXRCAAAIqR6FdEIAAPAXIoV0QgAA2IYlhXRC\",\"dtype\":\"float64\",\"shape\":[168]},\"y\":{\"__ndarray__\":\"AAAAYM/YTUAAAAAAq01KQAAAAGD8jElAAAAAwOUVSUAAAAAAsHpJQAAAAKDVvkhAAAAAAA+hTEAAAABALOZVQAAAAAB0wFRAAAAAYIxJXEAAAADgTZ1gQAAAAMB53mFAAAAA4H/2YUAAAABAI2NhQAAAAIB8XmFAAAAAAAA1YUAAAABA6bRiQAAAAGCwqmNAAAAAICuqZEAAAAAAwrJiQAAAAADZMGBAAAAAQDt3YEAAAABATPNXQAAAAIAK1U9AAAAAIBm3TUAAAACA1qBMQAAAAICG0UpAAAAAwGdOSkAAAACAvIJJQAAAAGCt+EhAAAAAoNHtTEAAAAAAJPtUQAAAAKCML1ZAAAAAgEugXkAAAACgs31hQAAAAOCBNGJAAAAAIAr2YUAAAADAq9BgQAAAAEAvQGFAAAAAYN2uYEAAAADgLfxhQAAAAACR12JAAAAAAEc9Y0AAAADgwr1hQAAAAKDQI2BAAAAAoFKyYEAAAACg81RXQAAAAEC4sExAAAAAwAoGUEAAAAAAGlNOQAAAAOBYRExAAAAAwP1AS0AAAADA+2tKQAAAAEALlkpAAAAAIDn4T0AAAABgXkpWQAAAAADl8FVAAAAA4PD/XkAAAABgQTFiQAAAAIB8XWJAAAAAgJAoYkAAAABAmJRhQAAAAKBbfWBAAAAAAHwwYUAAAACg8QliQAAAACCz1GFAAAAAIOZwYkAAAABgAcpiQAAAAIBCa2BAAAAAoHGkX0AAAABA/uNYQAAAAMCZFVBAAAAAgNbvTUAAAADAC3RLQAAAAADKyEpAAAAAgMTCSUAAAABAD6NKQAAAAGCmoklAAAAAQGh9TkAAAADAptlVQAAAACAQHVZAAAAAoNhpYEAAAADggiBhQAAAAEBOwmFAAAAAAMmOYUAAAADgCSdhQAAAAECxIGFAAAAAoOlGYUAAAADg9NJgQAAAAOC1FWFAAAAAoNylYUAAAADgMH1hQAAAAKBg6WBAAAAAAIr1X0AAAABAVONXQAAAAMC6TFFAAAAAQHosTkAAAADAY6VKQAAAAIARk0lAAAAAIEPMSUAAAABAJWNKQAAAAOBSY0pAAAAAIMUFUEAAAACAVDNXQAAAAACOslZAAAAAwHdRXkAAAABgpAdgQAAAACCCj2BAAAAAgAR3YUAAAADAuIdgQAAAAAD2619AAAAAYFVKYEAAAADAQFdgQAAAAOC/6WBAAAAAgElwYEAAAABg91RgQAAAAGCGc19AAAAAgCtRW0AAAADgl8pUQAAAAIAT501AAAAAwOzOTUAAAADAe5JLQAAAAECvp0lAAAAA4HkHSUAAAABgQRNKQAAAAMCfqEhAAAAAgEc7TEAAAAAArRpVQAAAACAUnlVAAAAAQAYsXEAAAAAAkZZcQAAAAABdZl9AAAAAQHYpX0AAAADgszpdQAAAAAB9Fl1AAAAA4BVHXUAAAADAGS5fQAAAAADY1F9AAAAAQGq4X0AAAABg3/9eQAAAAMAX8F1AAAAAYEQvW0AAAAAAkuNTQAAAAECgskxAAAAAIC+ES0AAAAAAsC1JQAAAACDdA0lAAAAA4NVuSUAAAABArFhJQAAAACD2xklAAAAA4EtDUEAAAADA2mRWQAAAAKC1slRAAAAAwG+2XEAAAAAgUSheQAAAAID8p2BAAAAAQG29YEAAAAAA9npfQAAAACAU9F1AAAAAQNx6YEAAAADAQHhhQAAAAAAB+mBAAAAAgAeqYEAAAABgY+FfQAAAAKBBAmBAAAAAADgUXkAAAAAApl1WQAAAAMCEnE1A\",\"dtype\":\"float64\",\"shape\":[168]}},\"selected\":{\"id\":\"23779\",\"type\":\"Selection\"},\"selection_policy\":{\"id\":\"23778\",\"type\":\"UnionRenderers\"}},\"id\":\"23743\",\"type\":\"ColumnDataSource\"},{\"attributes\":{\"label\":{\"value\":\"targets\"},\"renderers\":[{\"id\":\"23771\",\"type\":\"GlyphRenderer\"}]},\"id\":\"23793\",\"type\":\"LegendItem\"},{\"attributes\":{\"days\":[1,8,15,22]},\"id\":\"23758\",\"type\":\"DaysTicker\"},{\"attributes\":{\"days\":[1,15]},\"id\":\"23759\",\"type\":\"DaysTicker\"},{\"attributes\":{\"text\":\"Predictions over the test dataset for MT_330\"},\"id\":\"23710\",\"type\":\"Title\"},{\"attributes\":{\"overlay\":{\"id\":\"23765\",\"type\":\"BoxAnnotation\"}},\"id\":\"23732\",\"type\":\"BoxZoomTool\"},{\"attributes\":{},\"id\":\"24528\",\"type\":\"Selection\"},{\"attributes\":{\"months\":[0,1,2,3,4,5,6,7,8,9,10,11]},\"id\":\"23760\",\"type\":\"MonthsTicker\"},{\"attributes\":{\"callback\":null},\"id\":\"23712\",\"type\":\"DataRange1d\"},{\"attributes\":{},\"id\":\"24527\",\"type\":\"UnionRenderers\"},{\"attributes\":{},\"id\":\"23735\",\"type\":\"HelpTool\"},{\"attributes\":{},\"id\":\"23778\",\"type\":\"UnionRenderers\"}],\"root_ids\":[\"23709\"]},\"title\":\"Bokeh Application\",\"version\":\"1.4.0\"}};\n",
       "  var render_items = [{\"docid\":\"82545d23-0fdb-43f4-b1b0-71cdb0ecd775\",\"roots\":{\"23709\":\"ea3fe1ea-4bc1-4ac6-93f5-8ea1be1b0988\"}}];\n",
       "  root.Bokeh.embed.embed_items_notebook(docs_json, render_items);\n",
       "\n",
       "  }\n",
       "  if (root.Bokeh !== undefined) {\n",
       "    embed_document(root);\n",
       "  } else {\n",
       "    var attempts = 0;\n",
       "    var timer = setInterval(function(root) {\n",
       "      if (root.Bokeh !== undefined) {\n",
       "        clearInterval(timer);\n",
       "        embed_document(root);\n",
       "      } else {\n",
       "        attempts++;\n",
       "        if (attempts > 100) {\n",
       "          clearInterval(timer);\n",
       "          console.log(\"Bokeh: ERROR: Unable to run BokehJS code because BokehJS library is missing\");\n",
       "        }\n",
       "      }\n",
       "    }, 10, root)\n",
       "  }\n",
       "})(window);"
      ],
      "application/vnd.bokehjs_exec.v0+json": ""
     },
     "metadata": {
      "application/vnd.bokehjs_exec.v0+json": {
       "id": "23709"
      }
     },
     "output_type": "display_data"
    }
   ],
   "source": [
    "for customer_id in customer_ids:\n",
    "    \n",
    "    label = '{}_predictions'.format(customer_id)\n",
    "\n",
    "    plots[label] = figure(\n",
    "        title='Predictions over the test dataset for {}'.format(customer_id),\n",
    "        width=960,\n",
    "        height=320,\n",
    "        x_axis_type='datetime',\n",
    "        x_axis_label='Timestmap',\n",
    "        y_axis_label='Value')\n",
    "\n",
    "    plots[label].line(\n",
    "        x=global_df[global_df['customer_id'] == customer_id]['timestamp'],\n",
    "        y=global_df[global_df['customer_id'] == customer_id]['prediction'],\n",
    "        legend_label='predictions',\n",
    "        color='red',\n",
    "        line_width=1)\n",
    "\n",
    "    plots[label].line(\n",
    "        x=global_df[global_df['customer_id'] == customer_id]['timestamp'],\n",
    "        y=global_df[global_df['customer_id'] == customer_id]['target'],\n",
    "        legend_label='targets',\n",
    "        color='blue',\n",
    "        line_width=1)\n",
    "\n",
    "    show(plots[label])"
   ]
  },
  {
   "cell_type": "code",
   "execution_count": 104,
   "metadata": {},
   "outputs": [],
   "source": []
  }
 ],
 "metadata": {
  "kernelspec": {
   "display_name": "Python 3",
   "language": "python",
   "name": "python3"
  },
  "language_info": {
   "codemirror_mode": {
    "name": "ipython",
    "version": 3
   },
   "file_extension": ".py",
   "mimetype": "text/x-python",
   "name": "python",
   "nbconvert_exporter": "python",
   "pygments_lexer": "ipython3",
   "version": "3.7.6"
  }
 },
 "nbformat": 4,
 "nbformat_minor": 4
}

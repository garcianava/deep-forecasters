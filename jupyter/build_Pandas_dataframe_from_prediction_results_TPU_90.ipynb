{
 "cells": [
  {
   "cell_type": "code",
   "execution_count": 1,
   "metadata": {},
   "outputs": [],
   "source": [
    "import pandas as pd"
   ]
  },
  {
   "cell_type": "code",
   "execution_count": 2,
   "metadata": {},
   "outputs": [],
   "source": [
    "import numpy as np"
   ]
  },
  {
   "cell_type": "code",
   "execution_count": 3,
   "metadata": {},
   "outputs": [],
   "source": [
    "import json"
   ]
  },
  {
   "cell_type": "code",
   "execution_count": 4,
   "metadata": {},
   "outputs": [],
   "source": [
    "# use the notebook build_Pandas_dataframe_from_prediction_results_TPU_10_to_TPU_52\n",
    "# as a reference to work with results from TPU_70 to TPU_79"
   ]
  },
  {
   "cell_type": "code",
   "execution_count": 5,
   "metadata": {},
   "outputs": [],
   "source": [
    "# build a list with the model identifiers\n",
    "architecture = 'DMSLSTM'\n",
    "infrastructure = 'TPU'\n",
    "exp_range_list = [x for x in range(90, 91)]"
   ]
  },
  {
   "cell_type": "code",
   "execution_count": 6,
   "metadata": {},
   "outputs": [],
   "source": [
    "model_ids_list = ['{}_{}_{:02}'.format(architecture, infrastructure, item)\\\n",
    "                  for item in exp_range_list]"
   ]
  },
  {
   "cell_type": "code",
   "execution_count": 7,
   "metadata": {},
   "outputs": [
    {
     "data": {
      "text/plain": [
       "['DMSLSTM_TPU_90']"
      ]
     },
     "execution_count": 7,
     "metadata": {},
     "output_type": "execute_result"
    }
   ],
   "source": [
    "model_ids_list"
   ]
  },
  {
   "cell_type": "code",
   "execution_count": 8,
   "metadata": {},
   "outputs": [],
   "source": [
    "# the experiments in the model_ids_list were trained for the same number of times, then\n",
    "num_executions = 10"
   ]
  },
  {
   "cell_type": "code",
   "execution_count": 9,
   "metadata": {},
   "outputs": [],
   "source": [
    "# so far, only predictions for test.tfrecord have been produced, then \n",
    "datasets = ['test']"
   ]
  },
  {
   "cell_type": "code",
   "execution_count": 10,
   "metadata": {},
   "outputs": [],
   "source": [
    "columns=['model_id', 'counter', 'dataset', 'string_timestamp', 'prediction', 'target']\n",
    "prediction_results_df = pd.DataFrame(\\\n",
    "                                     columns=columns)"
   ]
  },
  {
   "cell_type": "code",
   "execution_count": 11,
   "metadata": {},
   "outputs": [
    {
     "data": {
      "text/html": [
       "<div>\n",
       "<style scoped>\n",
       "    .dataframe tbody tr th:only-of-type {\n",
       "        vertical-align: middle;\n",
       "    }\n",
       "\n",
       "    .dataframe tbody tr th {\n",
       "        vertical-align: top;\n",
       "    }\n",
       "\n",
       "    .dataframe thead th {\n",
       "        text-align: right;\n",
       "    }\n",
       "</style>\n",
       "<table border=\"1\" class=\"dataframe\">\n",
       "  <thead>\n",
       "    <tr style=\"text-align: right;\">\n",
       "      <th></th>\n",
       "      <th>model_id</th>\n",
       "      <th>counter</th>\n",
       "      <th>dataset</th>\n",
       "      <th>string_timestamp</th>\n",
       "      <th>prediction</th>\n",
       "      <th>target</th>\n",
       "    </tr>\n",
       "  </thead>\n",
       "  <tbody>\n",
       "  </tbody>\n",
       "</table>\n",
       "</div>"
      ],
      "text/plain": [
       "Empty DataFrame\n",
       "Columns: [model_id, counter, dataset, string_timestamp, prediction, target]\n",
       "Index: []"
      ]
     },
     "execution_count": 11,
     "metadata": {},
     "output_type": "execute_result"
    }
   ],
   "source": [
    "prediction_results_df"
   ]
  },
  {
   "cell_type": "code",
   "execution_count": 12,
   "metadata": {},
   "outputs": [],
   "source": [
    "for model_id in model_ids_list:\n",
    "    for counter in np.arange(num_executions):\n",
    "        for dataset in datasets:\n",
    "            # build a path to JSON files, that is\n",
    "            # ../stats/model_id_counter/prediction_results_on_dataset_tfrecord.json\n",
    "            path = '../stats/{}_{:02d}/prediction_results_on_{}_tfrecord.json'.format(model_id, counter, dataset)\n",
    "            # print(path)\n",
    "            # load json file to dictionary\n",
    "            with open(path, 'r') as json_file:\n",
    "                prediction_results = json.load(json_file)\n",
    "            # how many predictions in the dataset?\n",
    "            length = len(prediction_results['predictions'])\n",
    "            # a list with model_id repeated length times\n",
    "            model_id_repeat_list = [model_id]*length\n",
    "            # same for counter\n",
    "            counter_repeat_list = [counter]*length\n",
    "            # same for dataset\n",
    "            dataset_repeat_list = [dataset]*length\n",
    "            # buffer dataframe\n",
    "            df = pd.DataFrame(list(zip(model_id_repeat_list,\n",
    "                                       counter_repeat_list,\n",
    "                                       dataset_repeat_list,\n",
    "                                       prediction_results['string_timestamps'],\n",
    "                                       prediction_results['predictions'],\n",
    "                                       prediction_results['targets'])), columns = columns)\n",
    "            # append buffer to final dataframe\n",
    "            prediction_results_df = prediction_results_df.append(df, ignore_index=True)            "
   ]
  },
  {
   "cell_type": "code",
   "execution_count": 13,
   "metadata": {},
   "outputs": [
    {
     "data": {
      "text/html": [
       "<div>\n",
       "<style scoped>\n",
       "    .dataframe tbody tr th:only-of-type {\n",
       "        vertical-align: middle;\n",
       "    }\n",
       "\n",
       "    .dataframe tbody tr th {\n",
       "        vertical-align: top;\n",
       "    }\n",
       "\n",
       "    .dataframe thead th {\n",
       "        text-align: right;\n",
       "    }\n",
       "</style>\n",
       "<table border=\"1\" class=\"dataframe\">\n",
       "  <thead>\n",
       "    <tr style=\"text-align: right;\">\n",
       "      <th></th>\n",
       "      <th>model_id</th>\n",
       "      <th>counter</th>\n",
       "      <th>dataset</th>\n",
       "      <th>string_timestamp</th>\n",
       "      <th>prediction</th>\n",
       "      <th>target</th>\n",
       "    </tr>\n",
       "  </thead>\n",
       "  <tbody>\n",
       "    <tr>\n",
       "      <th>0</th>\n",
       "      <td>DMSLSTM_TPU_90</td>\n",
       "      <td>0</td>\n",
       "      <td>test</td>\n",
       "      <td>2018-02-23 14:00:00</td>\n",
       "      <td>6.240105</td>\n",
       "      <td>6.213650</td>\n",
       "    </tr>\n",
       "    <tr>\n",
       "      <th>1</th>\n",
       "      <td>DMSLSTM_TPU_90</td>\n",
       "      <td>0</td>\n",
       "      <td>test</td>\n",
       "      <td>2018-02-23 15:00:00</td>\n",
       "      <td>6.240105</td>\n",
       "      <td>8.161867</td>\n",
       "    </tr>\n",
       "    <tr>\n",
       "      <th>2</th>\n",
       "      <td>DMSLSTM_TPU_90</td>\n",
       "      <td>0</td>\n",
       "      <td>test</td>\n",
       "      <td>2018-02-23 16:00:00</td>\n",
       "      <td>6.240105</td>\n",
       "      <td>6.752000</td>\n",
       "    </tr>\n",
       "    <tr>\n",
       "      <th>3</th>\n",
       "      <td>DMSLSTM_TPU_90</td>\n",
       "      <td>0</td>\n",
       "      <td>test</td>\n",
       "      <td>2018-02-23 17:00:00</td>\n",
       "      <td>6.240105</td>\n",
       "      <td>5.244833</td>\n",
       "    </tr>\n",
       "    <tr>\n",
       "      <th>4</th>\n",
       "      <td>DMSLSTM_TPU_90</td>\n",
       "      <td>0</td>\n",
       "      <td>test</td>\n",
       "      <td>2018-02-23 18:00:00</td>\n",
       "      <td>6.240105</td>\n",
       "      <td>7.247250</td>\n",
       "    </tr>\n",
       "    <tr>\n",
       "      <th>...</th>\n",
       "      <td>...</td>\n",
       "      <td>...</td>\n",
       "      <td>...</td>\n",
       "      <td>...</td>\n",
       "      <td>...</td>\n",
       "      <td>...</td>\n",
       "    </tr>\n",
       "    <tr>\n",
       "      <th>1295</th>\n",
       "      <td>DMSLSTM_TPU_90</td>\n",
       "      <td>9</td>\n",
       "      <td>test</td>\n",
       "      <td>2018-02-28 19:00:00</td>\n",
       "      <td>6.239985</td>\n",
       "      <td>9.289534</td>\n",
       "    </tr>\n",
       "    <tr>\n",
       "      <th>1296</th>\n",
       "      <td>DMSLSTM_TPU_90</td>\n",
       "      <td>9</td>\n",
       "      <td>test</td>\n",
       "      <td>2018-02-28 20:00:00</td>\n",
       "      <td>6.239985</td>\n",
       "      <td>9.598534</td>\n",
       "    </tr>\n",
       "    <tr>\n",
       "      <th>1297</th>\n",
       "      <td>DMSLSTM_TPU_90</td>\n",
       "      <td>9</td>\n",
       "      <td>test</td>\n",
       "      <td>2018-02-28 21:00:00</td>\n",
       "      <td>6.239985</td>\n",
       "      <td>6.592383</td>\n",
       "    </tr>\n",
       "    <tr>\n",
       "      <th>1298</th>\n",
       "      <td>DMSLSTM_TPU_90</td>\n",
       "      <td>9</td>\n",
       "      <td>test</td>\n",
       "      <td>2018-02-28 22:00:00</td>\n",
       "      <td>6.239985</td>\n",
       "      <td>6.462183</td>\n",
       "    </tr>\n",
       "    <tr>\n",
       "      <th>1299</th>\n",
       "      <td>DMSLSTM_TPU_90</td>\n",
       "      <td>9</td>\n",
       "      <td>test</td>\n",
       "      <td>2018-02-28 23:00:00</td>\n",
       "      <td>6.239985</td>\n",
       "      <td>3.636467</td>\n",
       "    </tr>\n",
       "  </tbody>\n",
       "</table>\n",
       "<p>1300 rows × 6 columns</p>\n",
       "</div>"
      ],
      "text/plain": [
       "            model_id counter dataset     string_timestamp  prediction  \\\n",
       "0     DMSLSTM_TPU_90       0    test  2018-02-23 14:00:00    6.240105   \n",
       "1     DMSLSTM_TPU_90       0    test  2018-02-23 15:00:00    6.240105   \n",
       "2     DMSLSTM_TPU_90       0    test  2018-02-23 16:00:00    6.240105   \n",
       "3     DMSLSTM_TPU_90       0    test  2018-02-23 17:00:00    6.240105   \n",
       "4     DMSLSTM_TPU_90       0    test  2018-02-23 18:00:00    6.240105   \n",
       "...              ...     ...     ...                  ...         ...   \n",
       "1295  DMSLSTM_TPU_90       9    test  2018-02-28 19:00:00    6.239985   \n",
       "1296  DMSLSTM_TPU_90       9    test  2018-02-28 20:00:00    6.239985   \n",
       "1297  DMSLSTM_TPU_90       9    test  2018-02-28 21:00:00    6.239985   \n",
       "1298  DMSLSTM_TPU_90       9    test  2018-02-28 22:00:00    6.239985   \n",
       "1299  DMSLSTM_TPU_90       9    test  2018-02-28 23:00:00    6.239985   \n",
       "\n",
       "        target  \n",
       "0     6.213650  \n",
       "1     8.161867  \n",
       "2     6.752000  \n",
       "3     5.244833  \n",
       "4     7.247250  \n",
       "...        ...  \n",
       "1295  9.289534  \n",
       "1296  9.598534  \n",
       "1297  6.592383  \n",
       "1298  6.462183  \n",
       "1299  3.636467  \n",
       "\n",
       "[1300 rows x 6 columns]"
      ]
     },
     "execution_count": 13,
     "metadata": {},
     "output_type": "execute_result"
    }
   ],
   "source": [
    "prediction_results_df"
   ]
  },
  {
   "cell_type": "code",
   "execution_count": 14,
   "metadata": {},
   "outputs": [],
   "source": [
    "# persist the Pandas dataframe to avoid re-calculating\n",
    "prediction_results_df.to_pickle('../database/prediction_results_TPU_90.pkl')"
   ]
  },
  {
   "cell_type": "code",
   "execution_count": 15,
   "metadata": {},
   "outputs": [],
   "source": [
    "# start here to read the persisted dataframe\n",
    "prediction_results_TPU_90_df = pd.read_pickle('../database/prediction_results_TPU_90.pkl')"
   ]
  },
  {
   "cell_type": "code",
   "execution_count": 16,
   "metadata": {},
   "outputs": [],
   "source": [
    "# symmetrical mean absolute percentage error\n",
    "def smape(predictions, targets):\n",
    "    '''\n",
    "    predictions: a NumPy array with the predicted values\n",
    "    targets: a NumPy array with the actual values\n",
    "    '''\n",
    "    # verify predictions and targets have the same shape\n",
    "    if predictions.shape == targets.shape:\n",
    "            return(np.sum(2*np.abs(predictions - targets) /\n",
    "                          (np.abs(targets) + np.abs(predictions)))/predictions.shape[0])"
   ]
  },
  {
   "cell_type": "code",
   "execution_count": 17,
   "metadata": {},
   "outputs": [],
   "source": [
    "# an empty dataframe to store smape values per model execution\n",
    "smape_values_df = pd.DataFrame(columns=['model_id', 'counter', 'dataset', 'smape'])"
   ]
  },
  {
   "cell_type": "code",
   "execution_count": 18,
   "metadata": {},
   "outputs": [
    {
     "data": {
      "text/html": [
       "<div>\n",
       "<style scoped>\n",
       "    .dataframe tbody tr th:only-of-type {\n",
       "        vertical-align: middle;\n",
       "    }\n",
       "\n",
       "    .dataframe tbody tr th {\n",
       "        vertical-align: top;\n",
       "    }\n",
       "\n",
       "    .dataframe thead th {\n",
       "        text-align: right;\n",
       "    }\n",
       "</style>\n",
       "<table border=\"1\" class=\"dataframe\">\n",
       "  <thead>\n",
       "    <tr style=\"text-align: right;\">\n",
       "      <th></th>\n",
       "      <th>model_id</th>\n",
       "      <th>counter</th>\n",
       "      <th>dataset</th>\n",
       "      <th>smape</th>\n",
       "    </tr>\n",
       "  </thead>\n",
       "  <tbody>\n",
       "  </tbody>\n",
       "</table>\n",
       "</div>"
      ],
      "text/plain": [
       "Empty DataFrame\n",
       "Columns: [model_id, counter, dataset, smape]\n",
       "Index: []"
      ]
     },
     "execution_count": 18,
     "metadata": {},
     "output_type": "execute_result"
    }
   ],
   "source": [
    "smape_values_df"
   ]
  },
  {
   "cell_type": "code",
   "execution_count": 19,
   "metadata": {},
   "outputs": [],
   "source": [
    "for model_id in model_ids_list:\n",
    "    for counter in np.arange(num_executions):\n",
    "        for dataset in datasets:\n",
    "            # get a boolean to filter prediction_results_df on the model_id, counter, and dataset\n",
    "            flag = \\\n",
    "            prediction_results_df.model_id.eq(model_id) & \\\n",
    "            prediction_results_df.counter.eq(counter) & \\\n",
    "            prediction_results_df.dataset.eq(dataset)\n",
    "            \n",
    "            filtered_df = prediction_results_df[flag]\n",
    "            # a row dataframe to calculate smape for a given model_id, counter, and dataset\n",
    "            row_df = pd.DataFrame([[model_id,\n",
    "                                    counter,\n",
    "                                    dataset,\n",
    "                                    smape(filtered_df.prediction, filtered_df.target)]],\n",
    "                                  columns=['model_id', 'counter', 'dataset', 'smape'])\n",
    "            \n",
    "            smape_values_df = smape_values_df.append(row_df, ignore_index=True)"
   ]
  },
  {
   "cell_type": "code",
   "execution_count": 20,
   "metadata": {},
   "outputs": [],
   "source": [
    "# persist Pandas dataframe, to avoid re-calculating\n",
    "smape_values_df.to_pickle('../database/smape_values_TPU_90.pkl')"
   ]
  },
  {
   "cell_type": "code",
   "execution_count": 21,
   "metadata": {},
   "outputs": [],
   "source": [
    "# once persisted, the dataframe can be recovered here\n",
    "smape_values_TPU_90_df = pd.read_pickle('../database/smape_values_TPU_90.pkl')"
   ]
  },
  {
   "cell_type": "code",
   "execution_count": 22,
   "metadata": {},
   "outputs": [
    {
     "data": {
      "text/html": [
       "<div>\n",
       "<style scoped>\n",
       "    .dataframe tbody tr th:only-of-type {\n",
       "        vertical-align: middle;\n",
       "    }\n",
       "\n",
       "    .dataframe tbody tr th {\n",
       "        vertical-align: top;\n",
       "    }\n",
       "\n",
       "    .dataframe thead th {\n",
       "        text-align: right;\n",
       "    }\n",
       "</style>\n",
       "<table border=\"1\" class=\"dataframe\">\n",
       "  <thead>\n",
       "    <tr style=\"text-align: right;\">\n",
       "      <th></th>\n",
       "      <th>model_id</th>\n",
       "      <th>counter</th>\n",
       "      <th>dataset</th>\n",
       "      <th>smape</th>\n",
       "    </tr>\n",
       "  </thead>\n",
       "  <tbody>\n",
       "    <tr>\n",
       "      <th>0</th>\n",
       "      <td>DMSLSTM_TPU_90</td>\n",
       "      <td>0</td>\n",
       "      <td>test</td>\n",
       "      <td>0.261949</td>\n",
       "    </tr>\n",
       "    <tr>\n",
       "      <th>1</th>\n",
       "      <td>DMSLSTM_TPU_90</td>\n",
       "      <td>1</td>\n",
       "      <td>test</td>\n",
       "      <td>0.261948</td>\n",
       "    </tr>\n",
       "    <tr>\n",
       "      <th>2</th>\n",
       "      <td>DMSLSTM_TPU_90</td>\n",
       "      <td>2</td>\n",
       "      <td>test</td>\n",
       "      <td>0.261946</td>\n",
       "    </tr>\n",
       "    <tr>\n",
       "      <th>3</th>\n",
       "      <td>DMSLSTM_TPU_90</td>\n",
       "      <td>3</td>\n",
       "      <td>test</td>\n",
       "      <td>0.261945</td>\n",
       "    </tr>\n",
       "    <tr>\n",
       "      <th>4</th>\n",
       "      <td>DMSLSTM_TPU_90</td>\n",
       "      <td>4</td>\n",
       "      <td>test</td>\n",
       "      <td>0.907818</td>\n",
       "    </tr>\n",
       "    <tr>\n",
       "      <th>5</th>\n",
       "      <td>DMSLSTM_TPU_90</td>\n",
       "      <td>5</td>\n",
       "      <td>test</td>\n",
       "      <td>0.261946</td>\n",
       "    </tr>\n",
       "    <tr>\n",
       "      <th>6</th>\n",
       "      <td>DMSLSTM_TPU_90</td>\n",
       "      <td>6</td>\n",
       "      <td>test</td>\n",
       "      <td>0.907818</td>\n",
       "    </tr>\n",
       "    <tr>\n",
       "      <th>7</th>\n",
       "      <td>DMSLSTM_TPU_90</td>\n",
       "      <td>7</td>\n",
       "      <td>test</td>\n",
       "      <td>0.261946</td>\n",
       "    </tr>\n",
       "    <tr>\n",
       "      <th>8</th>\n",
       "      <td>DMSLSTM_TPU_90</td>\n",
       "      <td>8</td>\n",
       "      <td>test</td>\n",
       "      <td>2.000000</td>\n",
       "    </tr>\n",
       "    <tr>\n",
       "      <th>9</th>\n",
       "      <td>DMSLSTM_TPU_90</td>\n",
       "      <td>9</td>\n",
       "      <td>test</td>\n",
       "      <td>0.261949</td>\n",
       "    </tr>\n",
       "  </tbody>\n",
       "</table>\n",
       "</div>"
      ],
      "text/plain": [
       "         model_id counter dataset     smape\n",
       "0  DMSLSTM_TPU_90       0    test  0.261949\n",
       "1  DMSLSTM_TPU_90       1    test  0.261948\n",
       "2  DMSLSTM_TPU_90       2    test  0.261946\n",
       "3  DMSLSTM_TPU_90       3    test  0.261945\n",
       "4  DMSLSTM_TPU_90       4    test  0.907818\n",
       "5  DMSLSTM_TPU_90       5    test  0.261946\n",
       "6  DMSLSTM_TPU_90       6    test  0.907818\n",
       "7  DMSLSTM_TPU_90       7    test  0.261946\n",
       "8  DMSLSTM_TPU_90       8    test  2.000000\n",
       "9  DMSLSTM_TPU_90       9    test  0.261949"
      ]
     },
     "execution_count": 22,
     "metadata": {},
     "output_type": "execute_result"
    }
   ],
   "source": [
    "smape_values_TPU_90_df[:10]"
   ]
  },
  {
   "cell_type": "code",
   "execution_count": 23,
   "metadata": {},
   "outputs": [],
   "source": [
    "# smape_values_df.groupby(['model_id', 'dataset'])[['smape']].mean()"
   ]
  },
  {
   "cell_type": "code",
   "execution_count": 24,
   "metadata": {},
   "outputs": [
    {
     "data": {
      "text/html": [
       "<div>\n",
       "<style scoped>\n",
       "    .dataframe tbody tr th:only-of-type {\n",
       "        vertical-align: middle;\n",
       "    }\n",
       "\n",
       "    .dataframe tbody tr th {\n",
       "        vertical-align: top;\n",
       "    }\n",
       "\n",
       "    .dataframe thead tr th {\n",
       "        text-align: left;\n",
       "    }\n",
       "\n",
       "    .dataframe thead tr:last-of-type th {\n",
       "        text-align: right;\n",
       "    }\n",
       "</style>\n",
       "<table border=\"1\" class=\"dataframe\">\n",
       "  <thead>\n",
       "    <tr>\n",
       "      <th></th>\n",
       "      <th colspan=\"8\" halign=\"left\">smape</th>\n",
       "    </tr>\n",
       "    <tr>\n",
       "      <th></th>\n",
       "      <th>count</th>\n",
       "      <th>mean</th>\n",
       "      <th>std</th>\n",
       "      <th>min</th>\n",
       "      <th>25%</th>\n",
       "      <th>50%</th>\n",
       "      <th>75%</th>\n",
       "      <th>max</th>\n",
       "    </tr>\n",
       "    <tr>\n",
       "      <th>model_id</th>\n",
       "      <th></th>\n",
       "      <th></th>\n",
       "      <th></th>\n",
       "      <th></th>\n",
       "      <th></th>\n",
       "      <th></th>\n",
       "      <th></th>\n",
       "      <th></th>\n",
       "    </tr>\n",
       "  </thead>\n",
       "  <tbody>\n",
       "    <tr>\n",
       "      <th>DMSLSTM_TPU_90</th>\n",
       "      <td>10.0</td>\n",
       "      <td>0.564927</td>\n",
       "      <td>0.571272</td>\n",
       "      <td>0.261945</td>\n",
       "      <td>0.261946</td>\n",
       "      <td>0.261949</td>\n",
       "      <td>0.746351</td>\n",
       "      <td>2.0</td>\n",
       "    </tr>\n",
       "  </tbody>\n",
       "</table>\n",
       "</div>"
      ],
      "text/plain": [
       "               smape                                                    \\\n",
       "               count      mean       std       min       25%       50%   \n",
       "model_id                                                                 \n",
       "DMSLSTM_TPU_90  10.0  0.564927  0.571272  0.261945  0.261946  0.261949   \n",
       "\n",
       "                               \n",
       "                     75%  max  \n",
       "model_id                       \n",
       "DMSLSTM_TPU_90  0.746351  2.0  "
      ]
     },
     "execution_count": 24,
     "metadata": {},
     "output_type": "execute_result"
    }
   ],
   "source": [
    "# recover statistics for the dataset that renders the best predictive performance\n",
    "is_test = smape_values_TPU_90_df.dataset.eq('test')\n",
    "smape_values_TPU_90_df[is_test].groupby(['model_id']).describe()"
   ]
  },
  {
   "cell_type": "code",
   "execution_count": null,
   "metadata": {},
   "outputs": [],
   "source": []
  }
 ],
 "metadata": {
  "kernelspec": {
   "display_name": "Python 3",
   "language": "python",
   "name": "python3"
  },
  "language_info": {
   "codemirror_mode": {
    "name": "ipython",
    "version": 3
   },
   "file_extension": ".py",
   "mimetype": "text/x-python",
   "name": "python",
   "nbconvert_exporter": "python",
   "pygments_lexer": "ipython3",
   "version": "3.7.6"
  }
 },
 "nbformat": 4,
 "nbformat_minor": 4
}

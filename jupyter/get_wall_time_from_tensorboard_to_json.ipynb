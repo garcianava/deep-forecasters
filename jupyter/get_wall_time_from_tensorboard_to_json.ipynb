{
 "cells": [
  {
   "cell_type": "raw",
   "metadata": {},
   "source": [
    "https://stackoverflow.com/questions/41074688/how-do-you-read-tensorboard-files-programmatically"
   ]
  },
  {
   "cell_type": "code",
   "execution_count": 1,
   "metadata": {},
   "outputs": [],
   "source": [
    "import os\n",
    "import json\n",
    "import numpy as np\n",
    "import time\n",
    "from tensorboard.backend.event_processing import event_accumulator"
   ]
  },
  {
   "cell_type": "code",
   "execution_count": 2,
   "metadata": {},
   "outputs": [],
   "source": [
    "# first round of models set skip_host_call to true, then they have no summaries\n",
    "# build a script to set wall_time to None"
   ]
  },
  {
   "cell_type": "code",
   "execution_count": 3,
   "metadata": {},
   "outputs": [],
   "source": [
    "# second round of models set skip_host_call to false\n",
    "# and recorded wall times as Tensor Events of TensorBoard\n",
    "# get them as a list"
   ]
  },
  {
   "cell_type": "code",
   "execution_count": 4,
   "metadata": {},
   "outputs": [],
   "source": [
    "models_list = os.listdir('/home/developer/gcp/cbidmltsf/models')\n",
    "models_list.sort()"
   ]
  },
  {
   "cell_type": "code",
   "execution_count": 5,
   "metadata": {},
   "outputs": [
    {
     "data": {
      "text/plain": [
       "908"
      ]
     },
     "execution_count": 5,
     "metadata": {},
     "output_type": "execute_result"
    }
   ],
   "source": [
    "len(models_list)"
   ]
  },
  {
   "cell_type": "code",
   "execution_count": 6,
   "metadata": {},
   "outputs": [
    {
     "data": {
      "text/plain": [
       "'ARTRFDC_CPU_000_00'"
      ]
     },
     "execution_count": 6,
     "metadata": {},
     "output_type": "execute_result"
    }
   ],
   "source": [
    "# find the row that separates first and second training rounds\n",
    "models_list[379]"
   ]
  },
  {
   "cell_type": "code",
   "execution_count": 7,
   "metadata": {},
   "outputs": [],
   "source": [
    "first_round_list = models_list[:379]"
   ]
  },
  {
   "cell_type": "code",
   "execution_count": 8,
   "metadata": {},
   "outputs": [
    {
     "data": {
      "text/plain": [
       "379"
      ]
     },
     "execution_count": 8,
     "metadata": {},
     "output_type": "execute_result"
    }
   ],
   "source": [
    "len(first_round_list)"
   ]
  },
  {
   "cell_type": "code",
   "execution_count": 9,
   "metadata": {},
   "outputs": [],
   "source": [
    "# build a snippet to produce json files for models in the first training round, from TPU_10 to TPU_52"
   ]
  },
  {
   "cell_type": "code",
   "execution_count": 10,
   "metadata": {},
   "outputs": [],
   "source": [
    "# data structure: names of model directories and number of executions for each model\n",
    "# to build the paths to all of the model directories\n",
    "targets = [\n",
    "    ['166404_083202_043201_TPU_10', 10],\n",
    "    ['086404_043202_043201_TPU_11', 10],\n",
    "    ['086404_043202_043201_TPU_13', 10],\n",
    "    ['086404_086402_043201_TPU_14', 10],\n",
    "    ['086404_086402_043201_TPU_15', 10],\n",
    "    ['086403_083202_043201_TPU_16', 10],\n",
    "    ['086401_083201_043201_TPU_17', 10],    \n",
    "    ['086404_086404_043202_TPU_18', 10],\n",
    "    ['086404_086404_043202_TPU_19', 10],\n",
    "    ['086404_086404_043202_TPU_20', 10],\n",
    "    ['086404_086404_046404_TPU_21', 10],\n",
    "    ['086404_086404_043202_TPU_22', 10],\n",
    "    ['086404_086404_043202_TPU_23', 10],\n",
    "    ['086404_086404_043202_TPU_24', 10],\n",
    "    ['089604_089604_043202_TPU_25', 10],\n",
    "    ['084804_084804_043202_TPU_26', 10],\n",
    "    ['0812804_0812804_046402_TPU_27', 10],\n",
    "    ['0812804_0812804_046402_TPU_30', 10],\n",
    "    ['0812804_0812804_046402_TPU_31', 10],\n",
    "    ['0812804_0812804_046402_TPU_32', 10],\n",
    "    ['0812804_0812804_046402_TPU_33', 10],\n",
    "    ['0812804_0812804_046402_TPU_34', 10],\n",
    "    ['0812804_0812804_046402_TPU_35', 10],\n",
    "    ['0812804_0812804_046402_TPU_36', 9],\n",
    "    ['0812804_0812804_046402_TPU_37', 10],\n",
    "    ['0812804_0812804_046402_TPU_38', 10],\n",
    "    ['0812804_0812804_046402_TPU_39', 10],\n",
    "    ['0812804_0812804_046402_TPU_40', 10],\n",
    "    ['0812804_0812804_046402_TPU_41', 10],\n",
    "    ['0812804_0812804_046402_TPU_42', 10],\n",
    "    ['0812804_0812804_046402_TPU_50', 30],\n",
    "    ['0812804_0812804_046402_TPU_51', 30],\n",
    "    ['0812804_0812804_046402_TPU_52', 20],\n",
    "]"
   ]
  },
  {
   "cell_type": "code",
   "execution_count": 11,
   "metadata": {},
   "outputs": [],
   "source": [
    "def get_wall_time(path_to_logdir):\n",
    "    '''\n",
    "    receives a UNIX path to a TensorBoard logdir of a model\n",
    "    returns the wall time for the model training process\n",
    "    '''\n",
    "    # an event accumulator to the logdir\n",
    "    ea = event_accumulator.EventAccumulator(path_to_logdir,\n",
    "                                            size_guidance={ # see below regarding this argument\n",
    "                                                # event_accumulator.COMPRESSED_HISTOGRAMS: 500, # not used\n",
    "                                                # event_accumulator.IMAGES: 4, # not used\n",
    "                                                # event_accumulator.AUDIO: 4, # not used\n",
    "                                                event_accumulator.SCALARS: 0, # retrieve all\n",
    "                                                event_accumulator.TENSORS: 0, # retrieve all\n",
    "                                                # event_accumulator.HISTOGRAMS: 1 # not used\n",
    "                                            }\n",
    "                                           )\n",
    "    # loads events from file\n",
    "    ea.Reload()\n",
    "    \n",
    "    # wall time is end time - start time\n",
    "    wall_time = ea.Tensors('loss')[-1][0] - ea.Tensors('loss')[0][0]\n",
    "    print(\"Wall time for model in '{}' is {} seconds.\".format(path_to_logdir,\n",
    "                                                            wall_time))\n",
    "    return wall_time"
   ]
  },
  {
   "cell_type": "code",
   "execution_count": 15,
   "metadata": {},
   "outputs": [
    {
     "name": "stderr",
     "output_type": "stream",
     "text": [
      "Found more than one graph event per run, or there was a metagraph containing a graph_def, as well as one or more graph events.  Overwriting the graph with the newest event.\n",
      "Found more than one metagraph event per run. Overwriting the metagraph with the newest event.\n"
     ]
    },
    {
     "name": "stdout",
     "output_type": "stream",
     "text": [
      "Wall time for model in '/home/developer/gcp/cbidmltsf/models/DMSLSTM_TPU_007_00' is 25.48059105873108 seconds.\n"
     ]
    },
    {
     "data": {
      "text/plain": [
       "25.48059105873108"
      ]
     },
     "execution_count": 15,
     "metadata": {},
     "output_type": "execute_result"
    }
   ],
   "source": [
    "# test the above function\n",
    "get_wall_time('/home/developer/gcp/cbidmltsf/models/DMSLSTM_TPU_007_00')"
   ]
  },
  {
   "cell_type": "raw",
   "metadata": {},
   "source": [
    "_ROOT = '/home/developer/gcp/cbidmltsf/models'\n",
    "\n",
    "for target in targets:\n",
    "    # the TensorBoard logdir\n",
    "    model_dir = '{}/{}'.format(_ROOT, target[0])\n",
    "    # get 'TPU_XX' as model identifier\n",
    "    model_id = target[0][-6:]\n",
    "    # add the execution counter\n",
    "    for execution in np.arange(target[1]):\n",
    "        # create a Python dictionary with wall_time as null\n",
    "        wt_dictionary = {\n",
    "            'wall_time': None\n",
    "        }\n",
    "        # build a path to stats/training_wall_times/ to persist the json file\n",
    "        local_bucket_path = '/home/developer/gcp/cbidmltsf'\n",
    "        output_file_name = '{}/stats/training_wall_times/DMSLSTM_{}_{:02d}.json'.format(local_bucket_path,\n",
    "                                                                                        model_id,\n",
    "                                                                                        execution)\n",
    "        print('Written {}'.format(output_file_name))\n",
    "        # and persist the dictionary as json file\n",
    "        with open(output_file_name, 'w') as outfile:\n",
    "            json.dump(wt_dictionary, outfile, indent=4)"
   ]
  },
  {
   "cell_type": "raw",
   "metadata": {},
   "source": [
    "second_round_list = models_list[379:]"
   ]
  },
  {
   "cell_type": "raw",
   "metadata": {},
   "source": [
    "len(second_round_list)"
   ]
  },
  {
   "cell_type": "raw",
   "metadata": {},
   "source": [
    "second_round_list"
   ]
  },
  {
   "cell_type": "code",
   "execution_count": 43,
   "metadata": {},
   "outputs": [],
   "source": [
    "# build a Python script that inputs the flag --model_dir to produce and persist the json files\n",
    "# use the following snippet as a base"
   ]
  },
  {
   "cell_type": "code",
   "execution_count": null,
   "metadata": {},
   "outputs": [],
   "source": [
    "# update wall times interactively, code the Python script later..."
   ]
  },
  {
   "cell_type": "code",
   "execution_count": 16,
   "metadata": {},
   "outputs": [],
   "source": [
    "current_list = [\n",
    "    'ARTRFDC_TPU_000_00',\n",
    "    'ARTRFDC_TPU_000_01',\n",
    "    'ARTRFDC_TPU_000_02',\n",
    "    'ARTRFDC_TPU_000_03',\n",
    "    'ARTRFDC_TPU_000_04',\n",
    "    'ARTRFDC_TPU_000_05',\n",
    "    'ARTRFDC_TPU_000_06',\n",
    "    'ARTRFDC_TPU_000_07',\n",
    "    'ARTRFDC_TPU_000_08',\n",
    "    'ARTRFDC_TPU_000_09',\n",
    "    'DMSLSTM_TPU_006_00',\n",
    "    'DMSLSTM_TPU_006_01',\n",
    "    'DMSLSTM_TPU_006_02',\n",
    "    'DMSLSTM_TPU_006_03',\n",
    "    'DMSLSTM_TPU_006_04',\n",
    "    'DMSLSTM_TPU_006_05',\n",
    "    'DMSLSTM_TPU_006_06',\n",
    "    'DMSLSTM_TPU_006_07',\n",
    "    'DMSLSTM_TPU_006_08',\n",
    "    'DMSLSTM_TPU_006_09',\n",
    "    'EDSLSTM_TPU_013_00',\n",
    "    'EDSLSTM_TPU_013_01',\n",
    "    'EDSLSTM_TPU_013_02',\n",
    "    'EDSLSTM_TPU_013_03',\n",
    "    'EDSLSTM_TPU_013_04',\n",
    "    'EDSLSTM_TPU_013_05',\n",
    "    'EDSLSTM_TPU_013_06',\n",
    "    'EDSLSTM_TPU_013_07',\n",
    "    'EDSLSTM_TPU_013_08',\n",
    "    'EDSLSTM_TPU_013_09',\n",
    "               ]"
   ]
  },
  {
   "cell_type": "code",
   "execution_count": 17,
   "metadata": {},
   "outputs": [],
   "source": [
    "model_dirs = ['/home/developer/gcp/cbidmltsf/models/{}'.format(model_id) for model_id in current_list]"
   ]
  },
  {
   "cell_type": "code",
   "execution_count": 18,
   "metadata": {},
   "outputs": [
    {
     "data": {
      "text/plain": [
       "['/home/developer/gcp/cbidmltsf/models/ARTRFDC_TPU_000_00',\n",
       " '/home/developer/gcp/cbidmltsf/models/ARTRFDC_TPU_000_01',\n",
       " '/home/developer/gcp/cbidmltsf/models/ARTRFDC_TPU_000_02',\n",
       " '/home/developer/gcp/cbidmltsf/models/ARTRFDC_TPU_000_03',\n",
       " '/home/developer/gcp/cbidmltsf/models/ARTRFDC_TPU_000_04',\n",
       " '/home/developer/gcp/cbidmltsf/models/ARTRFDC_TPU_000_05',\n",
       " '/home/developer/gcp/cbidmltsf/models/ARTRFDC_TPU_000_06',\n",
       " '/home/developer/gcp/cbidmltsf/models/ARTRFDC_TPU_000_07',\n",
       " '/home/developer/gcp/cbidmltsf/models/ARTRFDC_TPU_000_08',\n",
       " '/home/developer/gcp/cbidmltsf/models/ARTRFDC_TPU_000_09',\n",
       " '/home/developer/gcp/cbidmltsf/models/DMSLSTM_TPU_006_00',\n",
       " '/home/developer/gcp/cbidmltsf/models/DMSLSTM_TPU_006_01',\n",
       " '/home/developer/gcp/cbidmltsf/models/DMSLSTM_TPU_006_02',\n",
       " '/home/developer/gcp/cbidmltsf/models/DMSLSTM_TPU_006_03',\n",
       " '/home/developer/gcp/cbidmltsf/models/DMSLSTM_TPU_006_04',\n",
       " '/home/developer/gcp/cbidmltsf/models/DMSLSTM_TPU_006_05',\n",
       " '/home/developer/gcp/cbidmltsf/models/DMSLSTM_TPU_006_06',\n",
       " '/home/developer/gcp/cbidmltsf/models/DMSLSTM_TPU_006_07',\n",
       " '/home/developer/gcp/cbidmltsf/models/DMSLSTM_TPU_006_08',\n",
       " '/home/developer/gcp/cbidmltsf/models/DMSLSTM_TPU_006_09',\n",
       " '/home/developer/gcp/cbidmltsf/models/EDSLSTM_TPU_013_00',\n",
       " '/home/developer/gcp/cbidmltsf/models/EDSLSTM_TPU_013_01',\n",
       " '/home/developer/gcp/cbidmltsf/models/EDSLSTM_TPU_013_02',\n",
       " '/home/developer/gcp/cbidmltsf/models/EDSLSTM_TPU_013_03',\n",
       " '/home/developer/gcp/cbidmltsf/models/EDSLSTM_TPU_013_04',\n",
       " '/home/developer/gcp/cbidmltsf/models/EDSLSTM_TPU_013_05',\n",
       " '/home/developer/gcp/cbidmltsf/models/EDSLSTM_TPU_013_06',\n",
       " '/home/developer/gcp/cbidmltsf/models/EDSLSTM_TPU_013_07',\n",
       " '/home/developer/gcp/cbidmltsf/models/EDSLSTM_TPU_013_08',\n",
       " '/home/developer/gcp/cbidmltsf/models/EDSLSTM_TPU_013_09']"
      ]
     },
     "execution_count": 18,
     "metadata": {},
     "output_type": "execute_result"
    }
   ],
   "source": [
    "model_dirs"
   ]
  },
  {
   "cell_type": "code",
   "execution_count": 19,
   "metadata": {},
   "outputs": [
    {
     "name": "stderr",
     "output_type": "stream",
     "text": [
      "Found more than one graph event per run, or there was a metagraph containing a graph_def, as well as one or more graph events.  Overwriting the graph with the newest event.\n",
      "Found more than one metagraph event per run. Overwriting the metagraph with the newest event.\n",
      "Found more than one graph event per run, or there was a metagraph containing a graph_def, as well as one or more graph events.  Overwriting the graph with the newest event.\n",
      "Found more than one metagraph event per run. Overwriting the metagraph with the newest event.\n"
     ]
    },
    {
     "name": "stdout",
     "output_type": "stream",
     "text": [
      "Wall time for model in '/home/developer/gcp/cbidmltsf/models/ARTRFDC_TPU_000_00' is 66.73649597167969 seconds.\n"
     ]
    },
    {
     "name": "stderr",
     "output_type": "stream",
     "text": [
      "Found more than one graph event per run, or there was a metagraph containing a graph_def, as well as one or more graph events.  Overwriting the graph with the newest event.\n",
      "Found more than one metagraph event per run. Overwriting the metagraph with the newest event.\n"
     ]
    },
    {
     "name": "stdout",
     "output_type": "stream",
     "text": [
      "Wall time for model in '/home/developer/gcp/cbidmltsf/models/ARTRFDC_TPU_000_01' is 66.11948895454407 seconds.\n"
     ]
    },
    {
     "name": "stderr",
     "output_type": "stream",
     "text": [
      "Found more than one graph event per run, or there was a metagraph containing a graph_def, as well as one or more graph events.  Overwriting the graph with the newest event.\n",
      "Found more than one metagraph event per run. Overwriting the metagraph with the newest event.\n"
     ]
    },
    {
     "name": "stdout",
     "output_type": "stream",
     "text": [
      "Wall time for model in '/home/developer/gcp/cbidmltsf/models/ARTRFDC_TPU_000_02' is 67.497230052948 seconds.\n"
     ]
    },
    {
     "name": "stderr",
     "output_type": "stream",
     "text": [
      "Found more than one graph event per run, or there was a metagraph containing a graph_def, as well as one or more graph events.  Overwriting the graph with the newest event.\n",
      "Found more than one metagraph event per run. Overwriting the metagraph with the newest event.\n"
     ]
    },
    {
     "name": "stdout",
     "output_type": "stream",
     "text": [
      "Wall time for model in '/home/developer/gcp/cbidmltsf/models/ARTRFDC_TPU_000_03' is 66.49502611160278 seconds.\n"
     ]
    },
    {
     "name": "stderr",
     "output_type": "stream",
     "text": [
      "Found more than one graph event per run, or there was a metagraph containing a graph_def, as well as one or more graph events.  Overwriting the graph with the newest event.\n",
      "Found more than one metagraph event per run. Overwriting the metagraph with the newest event.\n"
     ]
    },
    {
     "name": "stdout",
     "output_type": "stream",
     "text": [
      "Wall time for model in '/home/developer/gcp/cbidmltsf/models/ARTRFDC_TPU_000_04' is 65.9960880279541 seconds.\n"
     ]
    },
    {
     "name": "stderr",
     "output_type": "stream",
     "text": [
      "Found more than one graph event per run, or there was a metagraph containing a graph_def, as well as one or more graph events.  Overwriting the graph with the newest event.\n",
      "Found more than one metagraph event per run. Overwriting the metagraph with the newest event.\n"
     ]
    },
    {
     "name": "stdout",
     "output_type": "stream",
     "text": [
      "Wall time for model in '/home/developer/gcp/cbidmltsf/models/ARTRFDC_TPU_000_05' is 69.26961302757263 seconds.\n"
     ]
    },
    {
     "name": "stderr",
     "output_type": "stream",
     "text": [
      "Found more than one graph event per run, or there was a metagraph containing a graph_def, as well as one or more graph events.  Overwriting the graph with the newest event.\n",
      "Found more than one metagraph event per run. Overwriting the metagraph with the newest event.\n"
     ]
    },
    {
     "name": "stdout",
     "output_type": "stream",
     "text": [
      "Wall time for model in '/home/developer/gcp/cbidmltsf/models/ARTRFDC_TPU_000_06' is 68.42630100250244 seconds.\n"
     ]
    },
    {
     "name": "stderr",
     "output_type": "stream",
     "text": [
      "Found more than one graph event per run, or there was a metagraph containing a graph_def, as well as one or more graph events.  Overwriting the graph with the newest event.\n",
      "Found more than one metagraph event per run. Overwriting the metagraph with the newest event.\n"
     ]
    },
    {
     "name": "stdout",
     "output_type": "stream",
     "text": [
      "Wall time for model in '/home/developer/gcp/cbidmltsf/models/ARTRFDC_TPU_000_07' is 65.96745014190674 seconds.\n"
     ]
    },
    {
     "name": "stderr",
     "output_type": "stream",
     "text": [
      "Found more than one graph event per run, or there was a metagraph containing a graph_def, as well as one or more graph events.  Overwriting the graph with the newest event.\n",
      "Found more than one metagraph event per run. Overwriting the metagraph with the newest event.\n"
     ]
    },
    {
     "name": "stdout",
     "output_type": "stream",
     "text": [
      "Wall time for model in '/home/developer/gcp/cbidmltsf/models/ARTRFDC_TPU_000_08' is 66.14505696296692 seconds.\n"
     ]
    },
    {
     "name": "stderr",
     "output_type": "stream",
     "text": [
      "Found more than one graph event per run, or there was a metagraph containing a graph_def, as well as one or more graph events.  Overwriting the graph with the newest event.\n",
      "Found more than one metagraph event per run. Overwriting the metagraph with the newest event.\n"
     ]
    },
    {
     "name": "stdout",
     "output_type": "stream",
     "text": [
      "Wall time for model in '/home/developer/gcp/cbidmltsf/models/ARTRFDC_TPU_000_09' is 65.80707907676697 seconds.\n",
      "Wall time for model in '/home/developer/gcp/cbidmltsf/models/DMSLSTM_TPU_006_00' is 24.622194051742554 seconds.\n"
     ]
    },
    {
     "name": "stderr",
     "output_type": "stream",
     "text": [
      "Found more than one graph event per run, or there was a metagraph containing a graph_def, as well as one or more graph events.  Overwriting the graph with the newest event.\n",
      "Found more than one metagraph event per run. Overwriting the metagraph with the newest event.\n",
      "Found more than one graph event per run, or there was a metagraph containing a graph_def, as well as one or more graph events.  Overwriting the graph with the newest event.\n",
      "Found more than one metagraph event per run. Overwriting the metagraph with the newest event.\n"
     ]
    },
    {
     "name": "stdout",
     "output_type": "stream",
     "text": [
      "Wall time for model in '/home/developer/gcp/cbidmltsf/models/DMSLSTM_TPU_006_01' is 25.001632928848267 seconds.\n",
      "Wall time for model in '/home/developer/gcp/cbidmltsf/models/DMSLSTM_TPU_006_02' is 24.876068115234375 seconds.\n"
     ]
    },
    {
     "name": "stderr",
     "output_type": "stream",
     "text": [
      "Found more than one graph event per run, or there was a metagraph containing a graph_def, as well as one or more graph events.  Overwriting the graph with the newest event.\n",
      "Found more than one metagraph event per run. Overwriting the metagraph with the newest event.\n",
      "Found more than one graph event per run, or there was a metagraph containing a graph_def, as well as one or more graph events.  Overwriting the graph with the newest event.\n",
      "Found more than one metagraph event per run. Overwriting the metagraph with the newest event.\n"
     ]
    },
    {
     "name": "stdout",
     "output_type": "stream",
     "text": [
      "Wall time for model in '/home/developer/gcp/cbidmltsf/models/DMSLSTM_TPU_006_03' is 24.82333493232727 seconds.\n",
      "Wall time for model in '/home/developer/gcp/cbidmltsf/models/DMSLSTM_TPU_006_04' is 24.68921685218811 seconds.\n"
     ]
    },
    {
     "name": "stderr",
     "output_type": "stream",
     "text": [
      "Found more than one graph event per run, or there was a metagraph containing a graph_def, as well as one or more graph events.  Overwriting the graph with the newest event.\n",
      "Found more than one metagraph event per run. Overwriting the metagraph with the newest event.\n",
      "Found more than one graph event per run, or there was a metagraph containing a graph_def, as well as one or more graph events.  Overwriting the graph with the newest event.\n",
      "Found more than one metagraph event per run. Overwriting the metagraph with the newest event.\n"
     ]
    },
    {
     "name": "stdout",
     "output_type": "stream",
     "text": [
      "Wall time for model in '/home/developer/gcp/cbidmltsf/models/DMSLSTM_TPU_006_05' is 24.5868980884552 seconds.\n",
      "Wall time for model in '/home/developer/gcp/cbidmltsf/models/DMSLSTM_TPU_006_06' is 24.339043855667114 seconds.\n"
     ]
    },
    {
     "name": "stderr",
     "output_type": "stream",
     "text": [
      "Found more than one graph event per run, or there was a metagraph containing a graph_def, as well as one or more graph events.  Overwriting the graph with the newest event.\n",
      "Found more than one metagraph event per run. Overwriting the metagraph with the newest event.\n",
      "Found more than one graph event per run, or there was a metagraph containing a graph_def, as well as one or more graph events.  Overwriting the graph with the newest event.\n",
      "Found more than one metagraph event per run. Overwriting the metagraph with the newest event.\n"
     ]
    },
    {
     "name": "stdout",
     "output_type": "stream",
     "text": [
      "Wall time for model in '/home/developer/gcp/cbidmltsf/models/DMSLSTM_TPU_006_07' is 24.257344007492065 seconds.\n"
     ]
    },
    {
     "name": "stderr",
     "output_type": "stream",
     "text": [
      "Found more than one graph event per run, or there was a metagraph containing a graph_def, as well as one or more graph events.  Overwriting the graph with the newest event.\n",
      "Found more than one metagraph event per run. Overwriting the metagraph with the newest event.\n"
     ]
    },
    {
     "name": "stdout",
     "output_type": "stream",
     "text": [
      "Wall time for model in '/home/developer/gcp/cbidmltsf/models/DMSLSTM_TPU_006_08' is 24.316033124923706 seconds.\n"
     ]
    },
    {
     "name": "stderr",
     "output_type": "stream",
     "text": [
      "Found more than one graph event per run, or there was a metagraph containing a graph_def, as well as one or more graph events.  Overwriting the graph with the newest event.\n",
      "Found more than one metagraph event per run. Overwriting the metagraph with the newest event.\n"
     ]
    },
    {
     "name": "stdout",
     "output_type": "stream",
     "text": [
      "Wall time for model in '/home/developer/gcp/cbidmltsf/models/DMSLSTM_TPU_006_09' is 24.376765966415405 seconds.\n",
      "Wall time for model in '/home/developer/gcp/cbidmltsf/models/EDSLSTM_TPU_013_00' is 28.576439142227173 seconds.\n"
     ]
    },
    {
     "name": "stderr",
     "output_type": "stream",
     "text": [
      "Found more than one graph event per run, or there was a metagraph containing a graph_def, as well as one or more graph events.  Overwriting the graph with the newest event.\n",
      "Found more than one metagraph event per run. Overwriting the metagraph with the newest event.\n",
      "Found more than one graph event per run, or there was a metagraph containing a graph_def, as well as one or more graph events.  Overwriting the graph with the newest event.\n",
      "Found more than one metagraph event per run. Overwriting the metagraph with the newest event.\n"
     ]
    },
    {
     "name": "stdout",
     "output_type": "stream",
     "text": [
      "Wall time for model in '/home/developer/gcp/cbidmltsf/models/EDSLSTM_TPU_013_01' is 28.590346097946167 seconds.\n",
      "Wall time for model in '/home/developer/gcp/cbidmltsf/models/EDSLSTM_TPU_013_02' is 28.598254919052124 seconds.\n"
     ]
    },
    {
     "name": "stderr",
     "output_type": "stream",
     "text": [
      "Found more than one graph event per run, or there was a metagraph containing a graph_def, as well as one or more graph events.  Overwriting the graph with the newest event.\n",
      "Found more than one metagraph event per run. Overwriting the metagraph with the newest event.\n",
      "Found more than one graph event per run, or there was a metagraph containing a graph_def, as well as one or more graph events.  Overwriting the graph with the newest event.\n",
      "Found more than one metagraph event per run. Overwriting the metagraph with the newest event.\n"
     ]
    },
    {
     "name": "stdout",
     "output_type": "stream",
     "text": [
      "Wall time for model in '/home/developer/gcp/cbidmltsf/models/EDSLSTM_TPU_013_03' is 28.64410400390625 seconds.\n",
      "Wall time for model in '/home/developer/gcp/cbidmltsf/models/EDSLSTM_TPU_013_04' is 28.65162682533264 seconds.\n"
     ]
    },
    {
     "name": "stderr",
     "output_type": "stream",
     "text": [
      "Found more than one graph event per run, or there was a metagraph containing a graph_def, as well as one or more graph events.  Overwriting the graph with the newest event.\n",
      "Found more than one metagraph event per run. Overwriting the metagraph with the newest event.\n",
      "Found more than one graph event per run, or there was a metagraph containing a graph_def, as well as one or more graph events.  Overwriting the graph with the newest event.\n",
      "Found more than one metagraph event per run. Overwriting the metagraph with the newest event.\n"
     ]
    },
    {
     "name": "stdout",
     "output_type": "stream",
     "text": [
      "Wall time for model in '/home/developer/gcp/cbidmltsf/models/EDSLSTM_TPU_013_05' is 28.654091119766235 seconds.\n",
      "Wall time for model in '/home/developer/gcp/cbidmltsf/models/EDSLSTM_TPU_013_06' is 28.659013032913208 seconds.\n"
     ]
    },
    {
     "name": "stderr",
     "output_type": "stream",
     "text": [
      "Found more than one graph event per run, or there was a metagraph containing a graph_def, as well as one or more graph events.  Overwriting the graph with the newest event.\n",
      "Found more than one metagraph event per run. Overwriting the metagraph with the newest event.\n",
      "Found more than one graph event per run, or there was a metagraph containing a graph_def, as well as one or more graph events.  Overwriting the graph with the newest event.\n",
      "Found more than one metagraph event per run. Overwriting the metagraph with the newest event.\n"
     ]
    },
    {
     "name": "stdout",
     "output_type": "stream",
     "text": [
      "Wall time for model in '/home/developer/gcp/cbidmltsf/models/EDSLSTM_TPU_013_07' is 28.676450967788696 seconds.\n",
      "Wall time for model in '/home/developer/gcp/cbidmltsf/models/EDSLSTM_TPU_013_08' is 28.672755002975464 seconds.\n"
     ]
    },
    {
     "name": "stderr",
     "output_type": "stream",
     "text": [
      "Found more than one graph event per run, or there was a metagraph containing a graph_def, as well as one or more graph events.  Overwriting the graph with the newest event.\n",
      "Found more than one metagraph event per run. Overwriting the metagraph with the newest event.\n"
     ]
    },
    {
     "name": "stdout",
     "output_type": "stream",
     "text": [
      "Wall time for model in '/home/developer/gcp/cbidmltsf/models/EDSLSTM_TPU_013_09' is 28.656620979309082 seconds.\n"
     ]
    }
   ],
   "source": [
    "for model_dir in model_dirs:\n",
    "    # get 'TPU_XX_XX' as model identifier\n",
    "    model_id = model_dir[-18:]\n",
    "\n",
    "    wall_time = get_wall_time(model_dir)\n",
    "\n",
    "    # create a Python dictionary with wall_time as null\n",
    "    wt_dictionary = {\n",
    "        'wall_time': wall_time\n",
    "    }\n",
    "    # build a path to stats/training_wall_times/ to persist the json file\n",
    "    local_bucket_path = '/home/developer/gcp/cbidmltsf'\n",
    "    output_file_name = '{}/stats/training_wall_times/{}.json'.format(local_bucket_path,\n",
    "                                                                     model_id)\n",
    "    # and persist the dictionary as json file\n",
    "    with open(output_file_name, 'w') as outfile:\n",
    "        json.dump(wt_dictionary, outfile, indent=4)"
   ]
  },
  {
   "cell_type": "code",
   "execution_count": null,
   "metadata": {},
   "outputs": [],
   "source": []
  }
 ],
 "metadata": {
  "kernelspec": {
   "display_name": "Python 3",
   "language": "python",
   "name": "python3"
  },
  "language_info": {
   "codemirror_mode": {
    "name": "ipython",
    "version": 3
   },
   "file_extension": ".py",
   "mimetype": "text/x-python",
   "name": "python",
   "nbconvert_exporter": "python",
   "pygments_lexer": "ipython3",
   "version": "3.7.6"
  }
 },
 "nbformat": 4,
 "nbformat_minor": 4
}

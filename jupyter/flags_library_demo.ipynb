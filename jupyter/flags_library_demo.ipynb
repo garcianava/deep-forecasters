{
 "cells": [
  {
   "cell_type": "code",
   "execution_count": 2,
   "metadata": {},
   "outputs": [],
   "source": [
    "from absl import app\n",
    "from absl import flags"
   ]
  },
  {
   "cell_type": "code",
   "execution_count": 3,
   "metadata": {},
   "outputs": [],
   "source": [
    "FLAGS = flags.FLAGS"
   ]
  },
  {
   "cell_type": "code",
   "execution_count": 5,
   "metadata": {},
   "outputs": [
    {
     "data": {
      "text/plain": [
       "<absl.flags._flagvalues.FlagHolder at 0x7f939817e210>"
      ]
     },
     "execution_count": 5,
     "metadata": {},
     "output_type": "execute_result"
    }
   ],
   "source": [
    "# Flag names are globally defined!  So in general, we need to be\n",
    "# careful to pick names that are unlikely to be used by other libraries.\n",
    "# If there is a conflict, we'll get an error at import time.\n",
    "flags.DEFINE_string('name', 'Jane Random', 'Your name.')\n",
    "flags.DEFINE_integer('age', None, 'Your age in years.', lower_bound=0)\n",
    "flags.DEFINE_boolean('debug', False, 'Produces debugging output.')\n",
    "flags.DEFINE_enum('job', 'running', ['running', 'stopped'], 'Job status.')"
   ]
  },
  {
   "cell_type": "code",
   "execution_count": 6,
   "metadata": {},
   "outputs": [],
   "source": [
    "def main(argv):\n",
    "  if FLAGS.debug:\n",
    "    print('non-flag arguments:', argv)\n",
    "  print('Happy Birthday', FLAGS.name)\n",
    "  if FLAGS.age is not None:\n",
    "    print('You are %d years old, and your job is %s' % (FLAGS.age, FLAGS.job))"
   ]
  },
  {
   "cell_type": "code",
   "execution_count": null,
   "metadata": {},
   "outputs": [],
   "source": []
  }
 ],
 "metadata": {
  "kernelspec": {
   "display_name": "Python 3",
   "language": "python",
   "name": "python3"
  },
  "language_info": {
   "codemirror_mode": {
    "name": "ipython",
    "version": 3
   },
   "file_extension": ".py",
   "mimetype": "text/x-python",
   "name": "python",
   "nbconvert_exporter": "python",
   "pygments_lexer": "ipython3",
   "version": "3.7.6"
  }
 },
 "nbformat": 4,
 "nbformat_minor": 4
}

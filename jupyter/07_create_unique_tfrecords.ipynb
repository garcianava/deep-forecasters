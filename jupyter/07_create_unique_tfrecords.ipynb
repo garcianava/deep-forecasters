{
 "cells": [
  {
   "cell_type": "code",
   "execution_count": 4,
   "metadata": {},
   "outputs": [],
   "source": [
    "import numpy as np\n",
    "import pandas as pd\n",
    "from datetime import datetime, timedelta"
   ]
  },
  {
   "cell_type": "code",
   "execution_count": 5,
   "metadata": {},
   "outputs": [],
   "source": [
    "# Feature engineering: from time series to a supervised-learning database\n",
    "#### current dataset is hourly-based"
   ]
  },
  {
   "cell_type": "code",
   "execution_count": 6,
   "metadata": {},
   "outputs": [],
   "source": [
    "# define each experiment with a description (header) and components (body) dictionary\n",
    "# NOT REQUIRED: THE DICTIONARY IS ALREADY PERSISTED AS JSON\n",
    "# experiment = {\n",
    "#     'description': { # useful to build the time series from the appropriate Parquet files\n",
    "#         'equipment': 'CPE04015',\n",
    "#         # 'variables': ['Van', 'Vbn', 'Vcn', 'ia', 'ib', 'ic', 'kw', 'kvar','desbI'],\n",
    "#         'resolution': 'hourly',\n",
    "#         'variables': ['desbI'],\n",
    "#         'start': '2017-04-01 00:00:00',\n",
    "#         'end': '2018-02-28 23:00:00'\n",
    "#     },\n",
    "#     'components': {\n",
    "#        'hourly': {\n",
    "#             'm': 24,\n",
    "#             'tau': 1,\n",
    "#             'no_targets': 1\n",
    "#         },\n",
    "#         'daily': {\n",
    "#             'm': 7,\n",
    "#             'tau': 24,\n",
    "#             'no_targets': 1            \n",
    "#         },\n",
    "#         'weekly': {\n",
    "#             'm': 4,\n",
    "#             'tau': 168,\n",
    "#             'no_targets': 1\n",
    "#         }\n",
    "#     }\n",
    "#     \n",
    "# }"
   ]
  },
  {
   "cell_type": "code",
   "execution_count": 7,
   "metadata": {},
   "outputs": [],
   "source": [
    "import json"
   ]
  },
  {
   "cell_type": "code",
   "execution_count": 8,
   "metadata": {},
   "outputs": [],
   "source": [
    "# experiment must be defined as a json file, then load it from disk\n",
    "with open('/home/jupyter/gcp/cbidmltsf/data/json/experiment.json', 'r') as filename:\n",
    "    experiment = json.load(filename)"
   ]
  },
  {
   "cell_type": "code",
   "execution_count": 9,
   "metadata": {},
   "outputs": [
    {
     "data": {
      "text/plain": [
       "{'end': '2018-02-28 23:00:00',\n",
       " 'equipment': 'CPE04015',\n",
       " 'resolution': 'hourly',\n",
       " 'start': '2017-04-01 00:00:00',\n",
       " 'variables': ['desbI']}"
      ]
     },
     "execution_count": 9,
     "metadata": {},
     "output_type": "execute_result"
    }
   ],
   "source": [
    "experiment['description']"
   ]
  },
  {
   "cell_type": "code",
   "execution_count": 10,
   "metadata": {},
   "outputs": [
    {
     "data": {
      "text/plain": [
       "{'daily': {'m': 7, 'no_targets': 1, 'tau': 24},\n",
       " 'hourly': {'m': 24, 'no_targets': 1, 'tau': 1},\n",
       " 'weekly': {'m': 4, 'no_targets': 1, 'tau': 168}}"
      ]
     },
     "execution_count": 10,
     "metadata": {},
     "output_type": "execute_result"
    }
   ],
   "source": [
    "experiment['components']"
   ]
  },
  {
   "cell_type": "code",
   "execution_count": 11,
   "metadata": {},
   "outputs": [
    {
     "name": "stderr",
     "output_type": "stream",
     "text": [
      "/usr/local/lib/python3.5/dist-packages/sklearn/externals/joblib/__init__.py:15: DeprecationWarning: sklearn.externals.joblib is deprecated in 0.21 and will be removed in 0.23. Please import this functionality directly from joblib, which can be installed with: pip install joblib. If this warning is raised when loading pickled models, you may need to re-serialize those models with scikit-learn 0.21+.\n",
      "  warnings.warn(msg, category=DeprecationWarning)\n"
     ]
    }
   ],
   "source": [
    "# tracing a working path\n",
    "from os import listdir\n",
    "from os.path import dirname, join\n",
    "import sys\n",
    "\n",
    "# pathlib library to manage paths as Posix path objects instead of as strings\n",
    "from pathlib import Path\n",
    "\n",
    "# Parquet support for Pandas\n",
    "import pyarrow\n",
    "\n",
    "# scale datasets to improve LSTM network performance\n",
    "from sklearn.preprocessing import MinMaxScaler\n",
    "\n",
    "# persistence for scaler\n",
    "from sklearn.externals import joblib"
   ]
  },
  {
   "cell_type": "code",
   "execution_count": 12,
   "metadata": {},
   "outputs": [
    {
     "data": {
      "text/html": [
       "\n",
       "    <div class=\"bk-root\">\n",
       "        <a href=\"https://bokeh.org\" target=\"_blank\" class=\"bk-logo bk-logo-small bk-logo-notebook\"></a>\n",
       "        <span id=\"1001\">Loading BokehJS ...</span>\n",
       "    </div>"
      ]
     },
     "metadata": {},
     "output_type": "display_data"
    },
    {
     "data": {
      "application/javascript": [
       "\n",
       "(function(root) {\n",
       "  function now() {\n",
       "    return new Date();\n",
       "  }\n",
       "\n",
       "  var force = true;\n",
       "\n",
       "  if (typeof root._bokeh_onload_callbacks === \"undefined\" || force === true) {\n",
       "    root._bokeh_onload_callbacks = [];\n",
       "    root._bokeh_is_loading = undefined;\n",
       "  }\n",
       "\n",
       "  var JS_MIME_TYPE = 'application/javascript';\n",
       "  var HTML_MIME_TYPE = 'text/html';\n",
       "  var EXEC_MIME_TYPE = 'application/vnd.bokehjs_exec.v0+json';\n",
       "  var CLASS_NAME = 'output_bokeh rendered_html';\n",
       "\n",
       "  /**\n",
       "   * Render data to the DOM node\n",
       "   */\n",
       "  function render(props, node) {\n",
       "    var script = document.createElement(\"script\");\n",
       "    node.appendChild(script);\n",
       "  }\n",
       "\n",
       "  /**\n",
       "   * Handle when an output is cleared or removed\n",
       "   */\n",
       "  function handleClearOutput(event, handle) {\n",
       "    var cell = handle.cell;\n",
       "\n",
       "    var id = cell.output_area._bokeh_element_id;\n",
       "    var server_id = cell.output_area._bokeh_server_id;\n",
       "    // Clean up Bokeh references\n",
       "    if (id != null && id in Bokeh.index) {\n",
       "      Bokeh.index[id].model.document.clear();\n",
       "      delete Bokeh.index[id];\n",
       "    }\n",
       "\n",
       "    if (server_id !== undefined) {\n",
       "      // Clean up Bokeh references\n",
       "      var cmd = \"from bokeh.io.state import curstate; print(curstate().uuid_to_server['\" + server_id + \"'].get_sessions()[0].document.roots[0]._id)\";\n",
       "      cell.notebook.kernel.execute(cmd, {\n",
       "        iopub: {\n",
       "          output: function(msg) {\n",
       "            var id = msg.content.text.trim();\n",
       "            if (id in Bokeh.index) {\n",
       "              Bokeh.index[id].model.document.clear();\n",
       "              delete Bokeh.index[id];\n",
       "            }\n",
       "          }\n",
       "        }\n",
       "      });\n",
       "      // Destroy server and session\n",
       "      var cmd = \"import bokeh.io.notebook as ion; ion.destroy_server('\" + server_id + \"')\";\n",
       "      cell.notebook.kernel.execute(cmd);\n",
       "    }\n",
       "  }\n",
       "\n",
       "  /**\n",
       "   * Handle when a new output is added\n",
       "   */\n",
       "  function handleAddOutput(event, handle) {\n",
       "    var output_area = handle.output_area;\n",
       "    var output = handle.output;\n",
       "\n",
       "    // limit handleAddOutput to display_data with EXEC_MIME_TYPE content only\n",
       "    if ((output.output_type != \"display_data\") || (!output.data.hasOwnProperty(EXEC_MIME_TYPE))) {\n",
       "      return\n",
       "    }\n",
       "\n",
       "    var toinsert = output_area.element.find(\".\" + CLASS_NAME.split(' ')[0]);\n",
       "\n",
       "    if (output.metadata[EXEC_MIME_TYPE][\"id\"] !== undefined) {\n",
       "      toinsert[toinsert.length - 1].firstChild.textContent = output.data[JS_MIME_TYPE];\n",
       "      // store reference to embed id on output_area\n",
       "      output_area._bokeh_element_id = output.metadata[EXEC_MIME_TYPE][\"id\"];\n",
       "    }\n",
       "    if (output.metadata[EXEC_MIME_TYPE][\"server_id\"] !== undefined) {\n",
       "      var bk_div = document.createElement(\"div\");\n",
       "      bk_div.innerHTML = output.data[HTML_MIME_TYPE];\n",
       "      var script_attrs = bk_div.children[0].attributes;\n",
       "      for (var i = 0; i < script_attrs.length; i++) {\n",
       "        toinsert[toinsert.length - 1].firstChild.setAttribute(script_attrs[i].name, script_attrs[i].value);\n",
       "      }\n",
       "      // store reference to server id on output_area\n",
       "      output_area._bokeh_server_id = output.metadata[EXEC_MIME_TYPE][\"server_id\"];\n",
       "    }\n",
       "  }\n",
       "\n",
       "  function register_renderer(events, OutputArea) {\n",
       "\n",
       "    function append_mime(data, metadata, element) {\n",
       "      // create a DOM node to render to\n",
       "      var toinsert = this.create_output_subarea(\n",
       "        metadata,\n",
       "        CLASS_NAME,\n",
       "        EXEC_MIME_TYPE\n",
       "      );\n",
       "      this.keyboard_manager.register_events(toinsert);\n",
       "      // Render to node\n",
       "      var props = {data: data, metadata: metadata[EXEC_MIME_TYPE]};\n",
       "      render(props, toinsert[toinsert.length - 1]);\n",
       "      element.append(toinsert);\n",
       "      return toinsert\n",
       "    }\n",
       "\n",
       "    /* Handle when an output is cleared or removed */\n",
       "    events.on('clear_output.CodeCell', handleClearOutput);\n",
       "    events.on('delete.Cell', handleClearOutput);\n",
       "\n",
       "    /* Handle when a new output is added */\n",
       "    events.on('output_added.OutputArea', handleAddOutput);\n",
       "\n",
       "    /**\n",
       "     * Register the mime type and append_mime function with output_area\n",
       "     */\n",
       "    OutputArea.prototype.register_mime_type(EXEC_MIME_TYPE, append_mime, {\n",
       "      /* Is output safe? */\n",
       "      safe: true,\n",
       "      /* Index of renderer in `output_area.display_order` */\n",
       "      index: 0\n",
       "    });\n",
       "  }\n",
       "\n",
       "  // register the mime type if in Jupyter Notebook environment and previously unregistered\n",
       "  if (root.Jupyter !== undefined) {\n",
       "    var events = require('base/js/events');\n",
       "    var OutputArea = require('notebook/js/outputarea').OutputArea;\n",
       "\n",
       "    if (OutputArea.prototype.mime_types().indexOf(EXEC_MIME_TYPE) == -1) {\n",
       "      register_renderer(events, OutputArea);\n",
       "    }\n",
       "  }\n",
       "\n",
       "  \n",
       "  if (typeof (root._bokeh_timeout) === \"undefined\" || force === true) {\n",
       "    root._bokeh_timeout = Date.now() + 5000;\n",
       "    root._bokeh_failed_load = false;\n",
       "  }\n",
       "\n",
       "  var NB_LOAD_WARNING = {'data': {'text/html':\n",
       "     \"<div style='background-color: #fdd'>\\n\"+\n",
       "     \"<p>\\n\"+\n",
       "     \"BokehJS does not appear to have successfully loaded. If loading BokehJS from CDN, this \\n\"+\n",
       "     \"may be due to a slow or bad network connection. Possible fixes:\\n\"+\n",
       "     \"</p>\\n\"+\n",
       "     \"<ul>\\n\"+\n",
       "     \"<li>re-rerun `output_notebook()` to attempt to load from CDN again, or</li>\\n\"+\n",
       "     \"<li>use INLINE resources instead, as so:</li>\\n\"+\n",
       "     \"</ul>\\n\"+\n",
       "     \"<code>\\n\"+\n",
       "     \"from bokeh.resources import INLINE\\n\"+\n",
       "     \"output_notebook(resources=INLINE)\\n\"+\n",
       "     \"</code>\\n\"+\n",
       "     \"</div>\"}};\n",
       "\n",
       "  function display_loaded() {\n",
       "    var el = document.getElementById(\"1001\");\n",
       "    if (el != null) {\n",
       "      el.textContent = \"BokehJS is loading...\";\n",
       "    }\n",
       "    if (root.Bokeh !== undefined) {\n",
       "      if (el != null) {\n",
       "        el.textContent = \"BokehJS \" + root.Bokeh.version + \" successfully loaded.\";\n",
       "      }\n",
       "    } else if (Date.now() < root._bokeh_timeout) {\n",
       "      setTimeout(display_loaded, 100)\n",
       "    }\n",
       "  }\n",
       "\n",
       "\n",
       "  function run_callbacks() {\n",
       "    try {\n",
       "      root._bokeh_onload_callbacks.forEach(function(callback) {\n",
       "        if (callback != null)\n",
       "          callback();\n",
       "      });\n",
       "    } finally {\n",
       "      delete root._bokeh_onload_callbacks\n",
       "    }\n",
       "    console.debug(\"Bokeh: all callbacks have finished\");\n",
       "  }\n",
       "\n",
       "  function load_libs(css_urls, js_urls, callback) {\n",
       "    if (css_urls == null) css_urls = [];\n",
       "    if (js_urls == null) js_urls = [];\n",
       "\n",
       "    root._bokeh_onload_callbacks.push(callback);\n",
       "    if (root._bokeh_is_loading > 0) {\n",
       "      console.debug(\"Bokeh: BokehJS is being loaded, scheduling callback at\", now());\n",
       "      return null;\n",
       "    }\n",
       "    if (js_urls == null || js_urls.length === 0) {\n",
       "      run_callbacks();\n",
       "      return null;\n",
       "    }\n",
       "    console.debug(\"Bokeh: BokehJS not loaded, scheduling load and callback at\", now());\n",
       "    root._bokeh_is_loading = css_urls.length + js_urls.length;\n",
       "\n",
       "    function on_load() {\n",
       "      root._bokeh_is_loading--;\n",
       "      if (root._bokeh_is_loading === 0) {\n",
       "        console.debug(\"Bokeh: all BokehJS libraries/stylesheets loaded\");\n",
       "        run_callbacks()\n",
       "      }\n",
       "    }\n",
       "\n",
       "    function on_error() {\n",
       "      console.error(\"failed to load \" + url);\n",
       "    }\n",
       "\n",
       "    for (var i = 0; i < css_urls.length; i++) {\n",
       "      var url = css_urls[i];\n",
       "      const element = document.createElement(\"link\");\n",
       "      element.onload = on_load;\n",
       "      element.onerror = on_error;\n",
       "      element.rel = \"stylesheet\";\n",
       "      element.type = \"text/css\";\n",
       "      element.href = url;\n",
       "      console.debug(\"Bokeh: injecting link tag for BokehJS stylesheet: \", url);\n",
       "      document.body.appendChild(element);\n",
       "    }\n",
       "\n",
       "    for (var i = 0; i < js_urls.length; i++) {\n",
       "      var url = js_urls[i];\n",
       "      var element = document.createElement('script');\n",
       "      element.onload = on_load;\n",
       "      element.onerror = on_error;\n",
       "      element.async = false;\n",
       "      element.src = url;\n",
       "      console.debug(\"Bokeh: injecting script tag for BokehJS library: \", url);\n",
       "      document.head.appendChild(element);\n",
       "    }\n",
       "  };var element = document.getElementById(\"1001\");\n",
       "  if (element == null) {\n",
       "    console.error(\"Bokeh: ERROR: autoload.js configured with elementid '1001' but no matching script tag was found. \")\n",
       "    return false;\n",
       "  }\n",
       "\n",
       "  function inject_raw_css(css) {\n",
       "    const element = document.createElement(\"style\");\n",
       "    element.appendChild(document.createTextNode(css));\n",
       "    document.body.appendChild(element);\n",
       "  }\n",
       "\n",
       "  \n",
       "  var js_urls = [\"https://cdn.pydata.org/bokeh/release/bokeh-1.4.0.min.js\", \"https://cdn.pydata.org/bokeh/release/bokeh-widgets-1.4.0.min.js\", \"https://cdn.pydata.org/bokeh/release/bokeh-tables-1.4.0.min.js\", \"https://cdn.pydata.org/bokeh/release/bokeh-gl-1.4.0.min.js\"];\n",
       "  var css_urls = [];\n",
       "  \n",
       "\n",
       "  var inline_js = [\n",
       "    function(Bokeh) {\n",
       "      Bokeh.set_log_level(\"info\");\n",
       "    },\n",
       "    function(Bokeh) {\n",
       "    \n",
       "    \n",
       "    }\n",
       "  ];\n",
       "\n",
       "  function run_inline_js() {\n",
       "    \n",
       "    if (root.Bokeh !== undefined || force === true) {\n",
       "      \n",
       "    for (var i = 0; i < inline_js.length; i++) {\n",
       "      inline_js[i].call(root, root.Bokeh);\n",
       "    }\n",
       "    if (force === true) {\n",
       "        display_loaded();\n",
       "      }} else if (Date.now() < root._bokeh_timeout) {\n",
       "      setTimeout(run_inline_js, 100);\n",
       "    } else if (!root._bokeh_failed_load) {\n",
       "      console.log(\"Bokeh: BokehJS failed to load within specified timeout.\");\n",
       "      root._bokeh_failed_load = true;\n",
       "    } else if (force !== true) {\n",
       "      var cell = $(document.getElementById(\"1001\")).parents('.cell').data().cell;\n",
       "      cell.output_area.append_execute_result(NB_LOAD_WARNING)\n",
       "    }\n",
       "\n",
       "  }\n",
       "\n",
       "  if (root._bokeh_is_loading === 0) {\n",
       "    console.debug(\"Bokeh: BokehJS loaded, going straight to plotting\");\n",
       "    run_inline_js();\n",
       "  } else {\n",
       "    load_libs(css_urls, js_urls, function() {\n",
       "      console.debug(\"Bokeh: BokehJS plotting callback run at\", now());\n",
       "      run_inline_js();\n",
       "    });\n",
       "  }\n",
       "}(window));"
      ],
      "application/vnd.bokehjs_load.v0+json": "\n(function(root) {\n  function now() {\n    return new Date();\n  }\n\n  var force = true;\n\n  if (typeof root._bokeh_onload_callbacks === \"undefined\" || force === true) {\n    root._bokeh_onload_callbacks = [];\n    root._bokeh_is_loading = undefined;\n  }\n\n  \n\n  \n  if (typeof (root._bokeh_timeout) === \"undefined\" || force === true) {\n    root._bokeh_timeout = Date.now() + 5000;\n    root._bokeh_failed_load = false;\n  }\n\n  var NB_LOAD_WARNING = {'data': {'text/html':\n     \"<div style='background-color: #fdd'>\\n\"+\n     \"<p>\\n\"+\n     \"BokehJS does not appear to have successfully loaded. If loading BokehJS from CDN, this \\n\"+\n     \"may be due to a slow or bad network connection. Possible fixes:\\n\"+\n     \"</p>\\n\"+\n     \"<ul>\\n\"+\n     \"<li>re-rerun `output_notebook()` to attempt to load from CDN again, or</li>\\n\"+\n     \"<li>use INLINE resources instead, as so:</li>\\n\"+\n     \"</ul>\\n\"+\n     \"<code>\\n\"+\n     \"from bokeh.resources import INLINE\\n\"+\n     \"output_notebook(resources=INLINE)\\n\"+\n     \"</code>\\n\"+\n     \"</div>\"}};\n\n  function display_loaded() {\n    var el = document.getElementById(\"1001\");\n    if (el != null) {\n      el.textContent = \"BokehJS is loading...\";\n    }\n    if (root.Bokeh !== undefined) {\n      if (el != null) {\n        el.textContent = \"BokehJS \" + root.Bokeh.version + \" successfully loaded.\";\n      }\n    } else if (Date.now() < root._bokeh_timeout) {\n      setTimeout(display_loaded, 100)\n    }\n  }\n\n\n  function run_callbacks() {\n    try {\n      root._bokeh_onload_callbacks.forEach(function(callback) {\n        if (callback != null)\n          callback();\n      });\n    } finally {\n      delete root._bokeh_onload_callbacks\n    }\n    console.debug(\"Bokeh: all callbacks have finished\");\n  }\n\n  function load_libs(css_urls, js_urls, callback) {\n    if (css_urls == null) css_urls = [];\n    if (js_urls == null) js_urls = [];\n\n    root._bokeh_onload_callbacks.push(callback);\n    if (root._bokeh_is_loading > 0) {\n      console.debug(\"Bokeh: BokehJS is being loaded, scheduling callback at\", now());\n      return null;\n    }\n    if (js_urls == null || js_urls.length === 0) {\n      run_callbacks();\n      return null;\n    }\n    console.debug(\"Bokeh: BokehJS not loaded, scheduling load and callback at\", now());\n    root._bokeh_is_loading = css_urls.length + js_urls.length;\n\n    function on_load() {\n      root._bokeh_is_loading--;\n      if (root._bokeh_is_loading === 0) {\n        console.debug(\"Bokeh: all BokehJS libraries/stylesheets loaded\");\n        run_callbacks()\n      }\n    }\n\n    function on_error() {\n      console.error(\"failed to load \" + url);\n    }\n\n    for (var i = 0; i < css_urls.length; i++) {\n      var url = css_urls[i];\n      const element = document.createElement(\"link\");\n      element.onload = on_load;\n      element.onerror = on_error;\n      element.rel = \"stylesheet\";\n      element.type = \"text/css\";\n      element.href = url;\n      console.debug(\"Bokeh: injecting link tag for BokehJS stylesheet: \", url);\n      document.body.appendChild(element);\n    }\n\n    for (var i = 0; i < js_urls.length; i++) {\n      var url = js_urls[i];\n      var element = document.createElement('script');\n      element.onload = on_load;\n      element.onerror = on_error;\n      element.async = false;\n      element.src = url;\n      console.debug(\"Bokeh: injecting script tag for BokehJS library: \", url);\n      document.head.appendChild(element);\n    }\n  };var element = document.getElementById(\"1001\");\n  if (element == null) {\n    console.error(\"Bokeh: ERROR: autoload.js configured with elementid '1001' but no matching script tag was found. \")\n    return false;\n  }\n\n  function inject_raw_css(css) {\n    const element = document.createElement(\"style\");\n    element.appendChild(document.createTextNode(css));\n    document.body.appendChild(element);\n  }\n\n  \n  var js_urls = [\"https://cdn.pydata.org/bokeh/release/bokeh-1.4.0.min.js\", \"https://cdn.pydata.org/bokeh/release/bokeh-widgets-1.4.0.min.js\", \"https://cdn.pydata.org/bokeh/release/bokeh-tables-1.4.0.min.js\", \"https://cdn.pydata.org/bokeh/release/bokeh-gl-1.4.0.min.js\"];\n  var css_urls = [];\n  \n\n  var inline_js = [\n    function(Bokeh) {\n      Bokeh.set_log_level(\"info\");\n    },\n    function(Bokeh) {\n    \n    \n    }\n  ];\n\n  function run_inline_js() {\n    \n    if (root.Bokeh !== undefined || force === true) {\n      \n    for (var i = 0; i < inline_js.length; i++) {\n      inline_js[i].call(root, root.Bokeh);\n    }\n    if (force === true) {\n        display_loaded();\n      }} else if (Date.now() < root._bokeh_timeout) {\n      setTimeout(run_inline_js, 100);\n    } else if (!root._bokeh_failed_load) {\n      console.log(\"Bokeh: BokehJS failed to load within specified timeout.\");\n      root._bokeh_failed_load = true;\n    } else if (force !== true) {\n      var cell = $(document.getElementById(\"1001\")).parents('.cell').data().cell;\n      cell.output_area.append_execute_result(NB_LOAD_WARNING)\n    }\n\n  }\n\n  if (root._bokeh_is_loading === 0) {\n    console.debug(\"Bokeh: BokehJS loaded, going straight to plotting\");\n    run_inline_js();\n  } else {\n    load_libs(css_urls, js_urls, function() {\n      console.debug(\"Bokeh: BokehJS plotting callback run at\", now());\n      run_inline_js();\n    });\n  }\n}(window));"
     },
     "metadata": {},
     "output_type": "display_data"
    }
   ],
   "source": [
    "# Anaconda Interactive Visualization\n",
    "from bokeh.plotting import figure, show\n",
    "from bokeh.plotting import output_file, save\n",
    "from bokeh.io import output_notebook\n",
    "from bokeh.models import ColumnDataSource\n",
    "from bokeh.models import Span\n",
    "output_notebook()"
   ]
  },
  {
   "cell_type": "code",
   "execution_count": 13,
   "metadata": {},
   "outputs": [],
   "source": [
    "import os"
   ]
  },
  {
   "cell_type": "code",
   "execution_count": 14,
   "metadata": {},
   "outputs": [],
   "source": [
    "# prepare the path to raw data\n",
    "RAW_DATA_DIR = '{0}/gcp/cbidmltsf/data/raw'.format(os.getenv('HOME'))"
   ]
  },
  {
   "cell_type": "code",
   "execution_count": 15,
   "metadata": {},
   "outputs": [
    {
     "data": {
      "text/plain": [
       "'/home/jupyter/gcp/cbidmltsf/data/raw'"
      ]
     },
     "execution_count": 15,
     "metadata": {},
     "output_type": "execute_result"
    }
   ],
   "source": [
    "RAW_DATA_DIR"
   ]
  },
  {
   "cell_type": "code",
   "execution_count": 16,
   "metadata": {},
   "outputs": [],
   "source": [
    "data_path = '{0}/{1}/{2}.parquet'.format(RAW_DATA_DIR,\n",
    "                                         experiment['description']['resolution'],\n",
    "                                         experiment['description']['equipment'])"
   ]
  },
  {
   "cell_type": "code",
   "execution_count": 17,
   "metadata": {},
   "outputs": [
    {
     "data": {
      "text/plain": [
       "'/home/jupyter/gcp/cbidmltsf/data/raw/hourly/CPE04015.parquet'"
      ]
     },
     "execution_count": 17,
     "metadata": {},
     "output_type": "execute_result"
    }
   ],
   "source": [
    "data_path"
   ]
  },
  {
   "cell_type": "code",
   "execution_count": 18,
   "metadata": {},
   "outputs": [
    {
     "data": {
      "text/plain": [
       "PosixPath('/home/jupyter/gcp/cbidmltsf/data/raw/hourly/CPE04015.parquet')"
      ]
     },
     "execution_count": 18,
     "metadata": {},
     "output_type": "execute_result"
    }
   ],
   "source": [
    "path_to_equipment_dir = Path(data_path)\n",
    "path_to_equipment_dir"
   ]
  },
  {
   "cell_type": "code",
   "execution_count": 19,
   "metadata": {},
   "outputs": [
    {
     "data": {
      "text/plain": [
       "[PosixPath('/home/jupyter/gcp/cbidmltsf/data/raw/hourly/CPE04015.parquet/part-00081-4794e0f0-278e-45db-938b-4f17b96b00e7-c000.snappy.parquet'),\n",
       " PosixPath('/home/jupyter/gcp/cbidmltsf/data/raw/hourly/CPE04015.parquet/part-00038-4794e0f0-278e-45db-938b-4f17b96b00e7-c000.snappy.parquet'),\n",
       " PosixPath('/home/jupyter/gcp/cbidmltsf/data/raw/hourly/CPE04015.parquet/part-00106-4794e0f0-278e-45db-938b-4f17b96b00e7-c000.snappy.parquet'),\n",
       " PosixPath('/home/jupyter/gcp/cbidmltsf/data/raw/hourly/CPE04015.parquet/part-00024-4794e0f0-278e-45db-938b-4f17b96b00e7-c000.snappy.parquet'),\n",
       " PosixPath('/home/jupyter/gcp/cbidmltsf/data/raw/hourly/CPE04015.parquet/part-00000-4794e0f0-278e-45db-938b-4f17b96b00e7-c000.snappy.parquet')]"
      ]
     },
     "execution_count": 19,
     "metadata": {},
     "output_type": "execute_result"
    }
   ],
   "source": [
    "# a list with the initial Posix paths to Parquet files containing the required time series\n",
    "# just to make sure they are there\n",
    "[parquet_file for parquet_file in path_to_equipment_dir.rglob('*.parquet')][:5]"
   ]
  },
  {
   "cell_type": "code",
   "execution_count": 20,
   "metadata": {},
   "outputs": [],
   "source": [
    "# how to read a set of parquet files by pointing at the folder containing them?\n",
    "# start passing equipment id, time resolution, and a list of variables as criteria\n",
    "# add date interval later...\n",
    "def load_equipment(path, equipment, resolution, variables):\n",
    "    # build the path to data\n",
    "    data_path = '{0}/{1}/{2}.parquet'.format(path,\n",
    "                                             resolution,\n",
    "                                             equipment)\n",
    "    # get the corresponding Posix path\n",
    "    path_to_equipment_dir = Path(data_path)\n",
    "\n",
    "    # rglob: recursively explores all subdirectories in main directory\n",
    "    # and collect the selected resolution parquet files\n",
    "    # timestamp must be always extracted!!!\n",
    "    columns = ['timestamp'] + variables\n",
    "    data = pd.concat(\n",
    "        pd.read_parquet(parquet_file, columns=columns,\n",
    "                        engine='pyarrow')\n",
    "        for parquet_file in path_to_equipment_dir.rglob('*.parquet')\n",
    "    )\n",
    "\n",
    "    # need to change timestamp column from string to datetime\n",
    "    data['timestamp'] = pd.to_datetime(data['timestamp'])\n",
    "    # sort values by timestamp\n",
    "    data = data.sort_values(by=['timestamp'])\n",
    "    # re-index data on timestamp column\n",
    "    data = data.set_index('timestamp')\n",
    "    return data"
   ]
  },
  {
   "cell_type": "code",
   "execution_count": 21,
   "metadata": {},
   "outputs": [],
   "source": [
    "# build equipment dataframe\n",
    "equipment_df = load_equipment(RAW_DATA_DIR,\n",
    "                              experiment['description']['equipment'],\n",
    "                              experiment['description']['resolution'],\n",
    "                              experiment['description']['variables'])"
   ]
  },
  {
   "cell_type": "code",
   "execution_count": 22,
   "metadata": {},
   "outputs": [
    {
     "data": {
      "text/html": [
       "<div>\n",
       "<style scoped>\n",
       "    .dataframe tbody tr th:only-of-type {\n",
       "        vertical-align: middle;\n",
       "    }\n",
       "\n",
       "    .dataframe tbody tr th {\n",
       "        vertical-align: top;\n",
       "    }\n",
       "\n",
       "    .dataframe thead th {\n",
       "        text-align: right;\n",
       "    }\n",
       "</style>\n",
       "<table border=\"1\" class=\"dataframe\">\n",
       "  <thead>\n",
       "    <tr style=\"text-align: right;\">\n",
       "      <th></th>\n",
       "      <th>desbI</th>\n",
       "    </tr>\n",
       "    <tr>\n",
       "      <th>timestamp</th>\n",
       "      <th></th>\n",
       "    </tr>\n",
       "  </thead>\n",
       "  <tbody>\n",
       "    <tr>\n",
       "      <th>2016-01-01 00:00:00</th>\n",
       "      <td>0.009983</td>\n",
       "    </tr>\n",
       "    <tr>\n",
       "      <th>2016-01-01 01:00:00</th>\n",
       "      <td>0.010467</td>\n",
       "    </tr>\n",
       "    <tr>\n",
       "      <th>2016-01-01 02:00:00</th>\n",
       "      <td>0.010833</td>\n",
       "    </tr>\n",
       "    <tr>\n",
       "      <th>2016-01-01 03:00:00</th>\n",
       "      <td>0.010783</td>\n",
       "    </tr>\n",
       "    <tr>\n",
       "      <th>2016-01-01 04:00:00</th>\n",
       "      <td>0.010267</td>\n",
       "    </tr>\n",
       "    <tr>\n",
       "      <th>...</th>\n",
       "      <td>...</td>\n",
       "    </tr>\n",
       "    <tr>\n",
       "      <th>2018-08-09 06:00:00</th>\n",
       "      <td>7.282050</td>\n",
       "    </tr>\n",
       "    <tr>\n",
       "      <th>2018-08-09 07:00:00</th>\n",
       "      <td>6.001550</td>\n",
       "    </tr>\n",
       "    <tr>\n",
       "      <th>2018-08-09 08:00:00</th>\n",
       "      <td>5.907033</td>\n",
       "    </tr>\n",
       "    <tr>\n",
       "      <th>2018-08-09 09:00:00</th>\n",
       "      <td>6.906083</td>\n",
       "    </tr>\n",
       "    <tr>\n",
       "      <th>2018-08-09 10:00:00</th>\n",
       "      <td>4.627467</td>\n",
       "    </tr>\n",
       "  </tbody>\n",
       "</table>\n",
       "<p>22832 rows × 1 columns</p>\n",
       "</div>"
      ],
      "text/plain": [
       "                        desbI\n",
       "timestamp                    \n",
       "2016-01-01 00:00:00  0.009983\n",
       "2016-01-01 01:00:00  0.010467\n",
       "2016-01-01 02:00:00  0.010833\n",
       "2016-01-01 03:00:00  0.010783\n",
       "2016-01-01 04:00:00  0.010267\n",
       "...                       ...\n",
       "2018-08-09 06:00:00  7.282050\n",
       "2018-08-09 07:00:00  6.001550\n",
       "2018-08-09 08:00:00  5.907033\n",
       "2018-08-09 09:00:00  6.906083\n",
       "2018-08-09 10:00:00  4.627467\n",
       "\n",
       "[22832 rows x 1 columns]"
      ]
     },
     "execution_count": 22,
     "metadata": {},
     "output_type": "execute_result"
    }
   ],
   "source": [
    "# the resulting Pandas dataframe contains the complete dataset\n",
    "equipment_df"
   ]
  },
  {
   "cell_type": "code",
   "execution_count": 23,
   "metadata": {},
   "outputs": [
    {
     "data": {
      "text/html": [
       "<div>\n",
       "<style scoped>\n",
       "    .dataframe tbody tr th:only-of-type {\n",
       "        vertical-align: middle;\n",
       "    }\n",
       "\n",
       "    .dataframe tbody tr th {\n",
       "        vertical-align: top;\n",
       "    }\n",
       "\n",
       "    .dataframe thead th {\n",
       "        text-align: right;\n",
       "    }\n",
       "</style>\n",
       "<table border=\"1\" class=\"dataframe\">\n",
       "  <thead>\n",
       "    <tr style=\"text-align: right;\">\n",
       "      <th></th>\n",
       "      <th>desbI</th>\n",
       "    </tr>\n",
       "    <tr>\n",
       "      <th>timestamp</th>\n",
       "      <th></th>\n",
       "    </tr>\n",
       "  </thead>\n",
       "  <tbody>\n",
       "    <tr>\n",
       "      <th>2017-04-01 00:00:00</th>\n",
       "      <td>2.112517</td>\n",
       "    </tr>\n",
       "    <tr>\n",
       "      <th>2017-04-01 01:00:00</th>\n",
       "      <td>1.454733</td>\n",
       "    </tr>\n",
       "    <tr>\n",
       "      <th>2017-04-01 02:00:00</th>\n",
       "      <td>1.950333</td>\n",
       "    </tr>\n",
       "    <tr>\n",
       "      <th>2017-04-01 03:00:00</th>\n",
       "      <td>2.809450</td>\n",
       "    </tr>\n",
       "    <tr>\n",
       "      <th>2017-04-01 04:00:00</th>\n",
       "      <td>2.415650</td>\n",
       "    </tr>\n",
       "    <tr>\n",
       "      <th>...</th>\n",
       "      <td>...</td>\n",
       "    </tr>\n",
       "    <tr>\n",
       "      <th>2018-02-28 19:00:00</th>\n",
       "      <td>9.289533</td>\n",
       "    </tr>\n",
       "    <tr>\n",
       "      <th>2018-02-28 20:00:00</th>\n",
       "      <td>9.598533</td>\n",
       "    </tr>\n",
       "    <tr>\n",
       "      <th>2018-02-28 21:00:00</th>\n",
       "      <td>6.592383</td>\n",
       "    </tr>\n",
       "    <tr>\n",
       "      <th>2018-02-28 22:00:00</th>\n",
       "      <td>6.462183</td>\n",
       "    </tr>\n",
       "    <tr>\n",
       "      <th>2018-02-28 23:00:00</th>\n",
       "      <td>3.636467</td>\n",
       "    </tr>\n",
       "  </tbody>\n",
       "</table>\n",
       "<p>8015 rows × 1 columns</p>\n",
       "</div>"
      ],
      "text/plain": [
       "                        desbI\n",
       "timestamp                    \n",
       "2017-04-01 00:00:00  2.112517\n",
       "2017-04-01 01:00:00  1.454733\n",
       "2017-04-01 02:00:00  1.950333\n",
       "2017-04-01 03:00:00  2.809450\n",
       "2017-04-01 04:00:00  2.415650\n",
       "...                       ...\n",
       "2018-02-28 19:00:00  9.289533\n",
       "2018-02-28 20:00:00  9.598533\n",
       "2018-02-28 21:00:00  6.592383\n",
       "2018-02-28 22:00:00  6.462183\n",
       "2018-02-28 23:00:00  3.636467\n",
       "\n",
       "[8015 rows x 1 columns]"
      ]
     },
     "execution_count": 23,
     "metadata": {},
     "output_type": "execute_result"
    }
   ],
   "source": [
    "# manually get a data set with adequate behavior for the experiment\n",
    "# no regime change, no visible outlliers\n",
    "# ToDo: use number of row or index value\n",
    "# ci_df = equipment_df.iloc[8783:]['desbI']\n",
    "# uncomment the following line to get a dataframe based on the time interval in the experiment dictionary\n",
    "\n",
    "# date interval is defined and persisted as string, then change it to datetime\n",
    "start = pd.to_datetime(experiment['description']['start'])\n",
    "end = pd.to_datetime(experiment['description']['end'])\n",
    "ci_df = equipment_df.loc[start:end]\n",
    "# uncomment the following line to get a series\n",
    "# ci_df = equipment_df.loc['2017-01-01 00:00:00':]['desbI']\n",
    "ci_df"
   ]
  },
  {
   "cell_type": "code",
   "execution_count": 24,
   "metadata": {},
   "outputs": [],
   "source": [
    "# change the column data source to the final data set\n",
    "source = ColumnDataSource(data=ci_df)"
   ]
  },
  {
   "cell_type": "code",
   "execution_count": 25,
   "metadata": {},
   "outputs": [
    {
     "data": {
      "text/plain": [
       "'2017-04-01T00:00:00'"
      ]
     },
     "execution_count": 25,
     "metadata": {},
     "output_type": "execute_result"
    }
   ],
   "source": [
    "# how to get the required timestamp format from string?\n",
    "str(source.data['timestamp'][0])[:19]"
   ]
  },
  {
   "cell_type": "code",
   "execution_count": 26,
   "metadata": {},
   "outputs": [
    {
     "name": "stderr",
     "output_type": "stream",
     "text": [
      "BokehDeprecationWarning: 'legend' keyword is deprecated, use explicit 'legend_label', 'legend_field', or 'legend_group' keywords instead\n"
     ]
    },
    {
     "data": {
      "text/html": [
       "\n",
       "\n",
       "\n",
       "\n",
       "\n",
       "\n",
       "  <div class=\"bk-root\" id=\"c2d869cf-45dc-4e51-94d5-6dc13ede6aed\" data-root-id=\"1003\"></div>\n"
      ]
     },
     "metadata": {},
     "output_type": "display_data"
    },
    {
     "data": {
      "application/javascript": [
       "(function(root) {\n",
       "  function embed_document(root) {\n",
       "    \n",
       "  var docs_json = {\"2933467a-3675-4e49-98af-7d469b3fd521\":{\"roots\":{\"references\":[{\"attributes\":{\"overlay\":{\"id\":\"1047\",\"type\":\"BoxAnnotation\"}},\"id\":\"1026\",\"type\":\"BoxZoomTool\"},{\"attributes\":{\"months\":[0,4,8]},\"id\":\"1057\",\"type\":\"MonthsTicker\"},{\"attributes\":{\"base\":60,\"mantissas\":[1,2,5,10,15,20,30],\"max_interval\":1800000.0,\"min_interval\":1000.0,\"num_minor_ticks\":0},\"id\":\"1049\",\"type\":\"AdaptiveTicker\"},{\"attributes\":{\"background_fill_color\":{\"value\":\"#E8DDCB\"},\"below\":[{\"id\":\"1014\",\"type\":\"DatetimeAxis\"}],\"center\":[{\"id\":\"1018\",\"type\":\"Grid\"},{\"id\":\"1023\",\"type\":\"Grid\"},{\"id\":\"1060\",\"type\":\"Legend\"},{\"id\":\"1062\",\"type\":\"Span\"}],\"left\":[{\"id\":\"1019\",\"type\":\"LinearAxis\"}],\"plot_height\":400,\"plot_width\":800,\"renderers\":[{\"id\":\"1040\",\"type\":\"GlyphRenderer\"}],\"title\":{\"id\":\"1004\",\"type\":\"Title\"},\"toolbar\":{\"id\":\"1030\",\"type\":\"Toolbar\"},\"x_range\":{\"id\":\"1006\",\"type\":\"DataRange1d\"},\"x_scale\":{\"id\":\"1010\",\"type\":\"LinearScale\"},\"y_range\":{\"id\":\"1008\",\"type\":\"DataRange1d\"},\"y_scale\":{\"id\":\"1012\",\"type\":\"LinearScale\"}},\"id\":\"1003\",\"subtype\":\"Figure\",\"type\":\"Plot\"},{\"attributes\":{\"months\":[0,2,4,6,8,10]},\"id\":\"1056\",\"type\":\"MonthsTicker\"},{\"attributes\":{\"line_alpha\":0.1,\"line_color\":\"#1f77b4\",\"x\":{\"field\":\"x\"},\"y\":{\"field\":\"y\"}},\"id\":\"1039\",\"type\":\"Line\"},{\"attributes\":{},\"id\":\"1010\",\"type\":\"LinearScale\"},{\"attributes\":{\"line_color\":{\"value\":\"red\"},\"location\":15.0},\"id\":\"1062\",\"type\":\"Span\"},{\"attributes\":{\"callback\":null},\"id\":\"1006\",\"type\":\"DataRange1d\"},{\"attributes\":{\"bottom_units\":\"screen\",\"fill_alpha\":{\"value\":0.5},\"fill_color\":{\"value\":\"lightgrey\"},\"left_units\":\"screen\",\"level\":\"overlay\",\"line_alpha\":{\"value\":1.0},\"line_color\":{\"value\":\"black\"},\"line_dash\":[4,4],\"line_width\":{\"value\":2},\"render_mode\":\"css\",\"right_units\":\"screen\",\"top_units\":\"screen\"},\"id\":\"1047\",\"type\":\"BoxAnnotation\"},{\"attributes\":{\"data_source\":{\"id\":\"1037\",\"type\":\"ColumnDataSource\"},\"glyph\":{\"id\":\"1038\",\"type\":\"Line\"},\"hover_glyph\":null,\"muted_glyph\":null,\"nonselection_glyph\":{\"id\":\"1039\",\"type\":\"Line\"},\"selection_glyph\":null,\"view\":{\"id\":\"1041\",\"type\":\"CDSView\"}},\"id\":\"1040\",\"type\":\"GlyphRenderer\"},{\"attributes\":{\"num_minor_ticks\":5,\"tickers\":[{\"id\":\"1048\",\"type\":\"AdaptiveTicker\"},{\"id\":\"1049\",\"type\":\"AdaptiveTicker\"},{\"id\":\"1050\",\"type\":\"AdaptiveTicker\"},{\"id\":\"1051\",\"type\":\"DaysTicker\"},{\"id\":\"1052\",\"type\":\"DaysTicker\"},{\"id\":\"1053\",\"type\":\"DaysTicker\"},{\"id\":\"1054\",\"type\":\"DaysTicker\"},{\"id\":\"1055\",\"type\":\"MonthsTicker\"},{\"id\":\"1056\",\"type\":\"MonthsTicker\"},{\"id\":\"1057\",\"type\":\"MonthsTicker\"},{\"id\":\"1058\",\"type\":\"MonthsTicker\"},{\"id\":\"1059\",\"type\":\"YearsTicker\"}]},\"id\":\"1015\",\"type\":\"DatetimeTicker\"},{\"attributes\":{\"ticker\":{\"id\":\"1015\",\"type\":\"DatetimeTicker\"}},\"id\":\"1018\",\"type\":\"Grid\"},{\"attributes\":{\"mantissas\":[1,2,5],\"max_interval\":500.0,\"num_minor_ticks\":0},\"id\":\"1048\",\"type\":\"AdaptiveTicker\"},{\"attributes\":{\"days\":[1,4,7,10,13,16,19,22,25,28]},\"id\":\"1052\",\"type\":\"DaysTicker\"},{\"attributes\":{},\"id\":\"1024\",\"type\":\"PanTool\"},{\"attributes\":{},\"id\":\"1028\",\"type\":\"ResetTool\"},{\"attributes\":{\"axis_label\":\"Current Imbalance [%]\",\"formatter\":{\"id\":\"1045\",\"type\":\"BasicTickFormatter\"},\"ticker\":{\"id\":\"1020\",\"type\":\"BasicTicker\"}},\"id\":\"1019\",\"type\":\"LinearAxis\"},{\"attributes\":{\"active_drag\":\"auto\",\"active_inspect\":\"auto\",\"active_multi\":null,\"active_scroll\":\"auto\",\"active_tap\":\"auto\",\"tools\":[{\"id\":\"1024\",\"type\":\"PanTool\"},{\"id\":\"1025\",\"type\":\"WheelZoomTool\"},{\"id\":\"1026\",\"type\":\"BoxZoomTool\"},{\"id\":\"1027\",\"type\":\"SaveTool\"},{\"id\":\"1028\",\"type\":\"ResetTool\"},{\"id\":\"1029\",\"type\":\"HelpTool\"}]},\"id\":\"1030\",\"type\":\"Toolbar\"},{\"attributes\":{\"callback\":null,\"data\":{\"x\":{\"__ndarray__\":\"AADA+2yydUIAAKhqcLJ1QgAAkNlzsnVCAAB4SHeydUIAAGC3erJ1QgAASCZ+snVCAAAwlYGydUIAABgEhbJ1QgAAAHOIsnVCAADo4YuydUIAANBQj7J1QgAAuL+SsnVCAACgLpaydUIAAIidmbJ1QgAAcAydsnVCAABYe6CydUIAAEDqo7J1QgAAKFmnsnVCAAAQyKqydUIAAPg2rrJ1QgAA4KWxsnVCAADIFLWydUIAALCDuLJ1QgAAmPK7snVCAACAYb+ydUIAAGjQwrJ1QgAAOK7JsnVCAAAgHc2ydUIAAAiM0LJ1QgAA8PrTsnVCAADYadeydUIAAMDY2rJ1QgAAqEfesnVCAACQtuGydUIAAHgl5bJ1QgAAYJTosnVCAABIA+yydUIAADBy77J1QgAAGOHysnVCAAAAUPaydUIAAOi++bJ1QgAA0C39snVCAAC4nACzdUIAAKALBLN1QgAAiHoHs3VCAABw6QqzdUIAAFhYDrN1QgAAQMcRs3VCAAAoNhWzdUIAABClGLN1QgAA+BMcs3VCAADggh+zdUIAAMjxIrN1QgAAsGAms3VCAACYzymzdUIAAIA+LbN1QgAAaK0ws3VCAABQHDSzdUIAADiLN7N1QgAAIPo6s3VCAAAIaT6zdUIAAPDXQbN1QgAA2EZFs3VCAADAtUizdUIAAKgkTLN1QgAAkJNPs3VCAAB4AlOzdUIAAGBxVrN1QgAASOBZs3VCAAAwT12zdUIAABi+YLN1QgAAAC1ks3VCAADom2ezdUIAANAKa7N1QgAAuHlus3VCAACg6HGzdUIAAIhXdbN1QgAAcMZ4s3VCAABYNXyzdUIAAECkf7N1QgAAKBODs3VCAAAQgoazdUIAAPjwibN1QgAA4F+Ns3VCAADIzpCzdUIAALA9lLN1QgAAmKyXs3VCAACAG5uzdUIAAGiKnrN1QgAAUPmhs3VCAAA4aKWzdUIAACDXqLN1QgAACEass3VCAADwtK+zdUIAANgjs7N1QgAAwJK2s3VCAACoAbqzdUIAAJBwvbN1QgAAeN/As3VCAABgTsSzdUIAAEi9x7N1QgAAMCzLs3VCAAAYm86zdUIAAAAK0rN1QgAA6HjVs3VCAADQ59izdUIAALhW3LN1QgAAoMXfs3VCAACINOOzdUIAAHCj5rN1QgAAWBLqs3VCAABAge2zdUIAACjw8LN1QgAAEF/0s3VCAAD4zfezdUIAAOA8+7N1QgAAyKv+s3VCAACwGgK0dUIAAJiJBbR1QgAAgPgItHVCAABoZwy0dUIAAFDWD7R1QgAAOEUTtHVCAAAgtBa0dUIAAAgjGrR1QgAA8JEdtHVCAADYACG0dUIAAMBvJLR1QgAAqN4ntHVCAACQTSu0dUIAAHi8LrR1QgAAYCsytHVCAABImjW0dUIAADAJObR1QgAAGHg8tHVCAAAA5z+0dUIAAOhVQ7R1QgAA0MRGtHVCAAC4M0q0dUIAAKCiTbR1QgAAiBFRtHVCAABwgFS0dUIAAFjvV7R1QgAAQF5btHVCAAAozV60dUIAABA8YrR1QgAA+KpltHVCAADgGWm0dUIAAMiIbLR1QgAAsPdvtHVCAACYZnO0dUIAAIDVdrR1QgAAaER6tHVCAABQs320dUIAADgigbR1QgAAIJGEtHVCAAAIAIi0dUIAAPBui7R1QgAA2N2OtHVCAADATJK0dUIAAKi7lbR1QgAAkCqZtHVCAAB4mZy0dUIAAGAIoLR1QgAASHejtHVCAAAw5qa0dUIAABhVqrR1QgAAAMSttHVCAADoMrG0dUIAANChtLR1QgAAuBC4tHVCAACgf7u0dUIAAIjuvrR1QgAAcF3CtHVCAABYzMW0dUIAAEA7ybR1QgAAKKrMtHVCAAAQGdC0dUIAAPiH07R1QgAA4PbWtHVCAADIZdq0dUIAALDU3bR1QgAAmEPhtHVCAACAsuS0dUIAAGgh6LR1QgAAUJDrtHVCAAA4/+60dUIAACBu8rR1QgAACN31tHVCAADwS/m0dUIAANi6/LR1QgAAwCkAtXVCAAComAO1dUIAAJAHB7V1QgAAeHYKtXVCAABg5Q21dUIAAEhUEbV1QgAAMMMUtXVCAAAYMhi1dUIAAAChG7V1QgAA6A8ftXVCAADQfiK1dUIAALjtJbV1QgAAoFwptXVCAACIyyy1dUIAAHA6MLV1QgAAWKkztXVCAABAGDe1dUIAACiHOrV1QgAAEPY9tXVCAAD4ZEG1dUIAAODTRLV1QgAAyEJItXVCAACwsUu1dUIAAJggT7V1QgAAgI9StXVCAABo/lW1dUIAAFBtWbV1QgAAONxctXVCAAAgS2C1dUIAAAi6Y7V1QgAA8ChntXVCAADYl2q1dUIAAMAGbrV1QgAAqHVxtXVCAACQ5HS1dUIAAHhTeLV1QgAAYMJ7tXVCAABIMX+1dUIAADCggrV1QgAAGA+GtXVCAAAAfom1dUIAAOjsjLV1QgAA0FuQtXVCAAC4ypO1dUIAAKA5l7V1QgAAiKiatXVCAABwF561dUIAAFiGobV1QgAAQPWktXVCAAAoZKi1dUIAABDTq7V1QgAA+EGvtXVCAADgsLK1dUIAAMgftrV1QgAAsI65tXVCAACY/by1dUIAAIBswLV1QgAAaNvDtXVCAABQSse1dUIAADi5yrV1QgAAICjOtXVCAAAIl9G1dUIAAPAF1bV1QgAA2HTYtXVCAADA49u1dUIAAKhS37V1QgAAkMHitXVCAAB4MOa1dUIAAGCf6bV1QgAASA7ttXVCAAAwffC1dUIAABjs87V1QgAAAFv3tXVCAADoyfq1dUIAANA4/rV1QgAAuKcBtnVCAACgFgW2dUIAAIiFCLZ1QgAAcPQLtnVCAABYYw+2dUIAAEDSErZ1QgAAKEEWtnVCAAAQsBm2dUIAAPgeHbZ1QgAA4I0gtnVCAADI/CO2dUIAALBrJ7Z1QgAAmNoqtnVCAACASS62dUIAAGi4MbZ1QgAAUCc1tnVCAAA4lji2dUIAACAFPLZ1QgAACHQ/tnVCAADw4kK2dUIAANhRRrZ1QgAAwMBJtnVCAACoL022dUIAAJCeULZ1QgAAeA1UtnVCAABgfFe2dUIAAEjrWrZ1QgAAMFpetnVCAAAYyWG2dUIAAAA4ZbZ1QgAA6KZotnVCAADQFWy2dUIAALiEb7Z1QgAAoPNytnVCAACIYna2dUIAAHDRebZ1QgAAWEB9tnVCAABAr4C2dUIAACgehLZ1QgAAEI2HtnVCAAD4+4q2dUIAAOBqjrZ1QgAAyNmRtnVCAACwSJW2dUIAAJi3mLZ1QgAAgCactnVCAABolZ+2dUIAAFAEo7Z1QgAAOHOmtnVCAAAg4qm2dUIAAAhRrbZ1QgAA8L+wtnVCAADYLrS2dUIAAMCdt7Z1QgAAqAy7tnVCAACQe762dUIAAHjqwbZ1QgAAYFnFtnVCAABIyMi2dUIAADA3zLZ1QgAAGKbPtnVCAAAAFdO2dUIAAOiD1rZ1QgAA0PLZtnVCAAC4Yd22dUIAAKDQ4LZ1QgAAiD/ktnVCAABwrue2dUIAAFgd67Z1QgAAQIzutnVCAAAo+/G2dUIAABBq9bZ1QgAA+Nj4tnVCAADgR/y2dUIAAMi2/7Z1QgAAsCUDt3VCAACYlAa3dUIAAIADCrd1QgAAaHINt3VCAABQ4RC3dUIAADhQFLd1QgAAIL8Xt3VCAAAILhu3dUIAAPCcHrd1QgAA2Asit3VCAADAeiW3dUIAAKjpKLd1QgAAkFgst3VCAAB4xy+3dUIAAGA2M7d1QgAASKU2t3VCAAAwFDq3dUIAABiDPbd1QgAAAPJAt3VCAADoYES3dUIAANDPR7d1QgAAuD5Lt3VCAACgrU63dUIAAIgcUrd1QgAAcItVt3VCAABY+li3dUIAAEBpXLd1QgAAKNhft3VCAAAQR2O3dUIAAPi1Zrd1QgAA4CRqt3VCAADIk223dUIAALACcbd1QgAAmHF0t3VCAACA4He3dUIAAGhPe7d1QgAAUL5+t3VCAAA4LYK3dUIAACCchbd1QgAACAuJt3VCAADweYy3dUIAANjoj7d1QgAAwFeTt3VCAACoxpa3dUIAAJA1mrd1QgAAeKSdt3VCAABgE6G3dUIAAEiCpLd1QgAAMPGnt3VCAAAYYKu3dUIAAADPrrd1QgAA6D2yt3VCAADQrLW3dUIAALgbubd1QgAAoIq8t3VCAACI+b+3dUIAAHBow7d1QgAAWNfGt3VCAABARsq3dUIAACi1zbd1QgAAECTRt3VCAAD4ktS3dUIAAOAB2Ld1QgAAyHDbt3VCAACw3963dUIAAJhO4rd1QgAAgL3lt3VCAABoLOm3dUIAAFCb7Ld1QgAAOArwt3VCAAAgefO3dUIAAAjo9rd1QgAA8Fb6t3VCAADYxf23dUIAAMA0Abh1QgAAqKMEuHVCAACQEgi4dUIAAHiBC7h1QgAAYPAOuHVCAABIXxK4dUIAADDOFbh1QgAAGD0ZuHVCAAAArBy4dUIAAOgaILh1QgAA0IkjuHVCAAC4+Ca4dUIAAKBnKrh1QgAAiNYtuHVCAABwRTG4dUIAAFi0NLh1QgAAQCM4uHVCAAAokju4dUIAABABP7h1QgAA+G9CuHVCAADg3kW4dUIAAMhNSbh1QgAAsLxMuHVCAACYK1C4dUIAAICaU7h1QgAAaAlXuHVCAABQeFq4dUIAADjnXbh1QgAAIFZhuHVCAAAIxWS4dUIAAPAzaLh1QgAA2KJruHVCAADAEW+4dUIAAKiAcrh1QgAAkO91uHVCAAB4Xnm4dUIAAGDNfLh1QgAASDyAuHVCAAAwq4O4dUIAABgah7h1QgAAAImKuHVCAADo9424dUIAANBmkbh1QgAAuNWUuHVCAACgRJi4dUIAAIizm7h1QgAAcCKfuHVCAABYkaK4dUIAAEAAprh1QgAAKG+puHVCAAAQ3qy4dUIAAPhMsLh1QgAA4LuzuHVCAADIKre4dUIAALCZurh1QgAAmAi+uHVCAACAd8G4dUIAAGjmxLh1QgAAUFXIuHVCAAA4xMu4dUIAACAzz7h1QgAACKLSuHVCAADwENa4dUIAANh/2bh1QgAAwO7cuHVCAACoXeC4dUIAAJDM47h1QgAAeDvnuHVCAABgquq4dUIAAEgZ7rh1QgAAMIjxuHVCAAAY9/S4dUIAAABm+Lh1QgAA6NT7uHVCAADQQ/+4dUIAALiyArl1QgAAoCEGuXVCAACIkAm5dUIAAHD/DLl1QgAAWG4QuXVCAABA3RO5dUIAAChMF7l1QgAAELsauXVCAAD4KR65dUIAAOCYIbl1QgAAyAcluXVCAACwdii5dUIAAJjlK7l1QgAAgFQvuXVCAABowzK5dUIAAFAyNrl1QgAAOKE5uXVCAAAgED25dUIAAAh/QLl1QgAA8O1DuXVCAADYXEe5dUIAAMDLSrl1QgAAqDpOuXVCAACQqVG5dUIAAHgYVbl1QgAAYIdYuXVCAABI9lu5dUIAADBlX7l1QgAAGNRiuXVCAAAAQ2a5dUIAAOixabl1QgAA0CBtuXVCAAC4j3C5dUIAAKD+c7l1QgAAiG13uXVCAABw3Hq5dUIAAFhLfrl1QgAAQLqBuXVCAAAoKYW5dUIAABCYiLl1QgAA+AaMuXVCAADgdY+5dUIAAMjkkrl1QgAAsFOWuXVCAACYwpm5dUIAAIAxnbl1QgAAaKCguXVCAABQD6S5dUIAADh+p7l1QgAAIO2quXVCAAAIXK65dUIAAPDKsbl1QgAA2Dm1uXVCAADAqLi5dUIAAKgXvLl1QgAAkIa/uXVCAAB49cK5dUIAAGBkxrl1QgAASNPJuXVCAAAwQs25dUIAABix0Ll1QgAAACDUuXVCAADojte5dUIAAND92rl1QgAAuGzeuXVCAACg2+G5dUIAAIhK5bl1QgAAcLnouXVCAABYKOy5dUIAAECX77l1QgAAKAbzuXVCAAAQdfa5dUIAAPjj+bl1QgAA4FL9uXVCAADIwQC6dUIAALAwBLp1QgAAmJ8HunVCAACADgu6dUIAAGh9Drp1QgAAUOwRunVCAAA4WxW6dUIAACDKGLp1QgAACDkcunVCAADwpx+6dUIAANgWI7p1QgAAwIUmunVCAACo9Cm6dUIAAJBjLbp1QgAAeNIwunVCAABgQTS6dUIAAEiwN7p1QgAAMB87unVCAAAYjj66dUIAAAD9Qbp1QgAA6GtFunVCAADQ2ki6dUIAALhJTLp1QgAAoLhPunVCAACIJ1O6dUIAAHCWVrp1QgAAWAVaunVCAABAdF26dUIAACjjYLp1QgAAEFJkunVCAAD4wGe6dUIAAOAva7p1QgAAyJ5uunVCAACwDXK6dUIAAJh8dbp1QgAAgOt4unVCAABoWny6dUIAAFDJf7p1QgAAODiDunVCAAAgp4a6dUIAAAgWirp1QgAA8ISNunVCAADY85C6dUIAAMBilLp1QgAAqNGXunVCAACQQJu6dUIAAHivnrp1QgAAYB6iunVCAABIjaW6dUIAADD8qLp1QgAAGGusunVCAAAA2q+6dUIAAOhIs7p1QgAA0Le2unVCAAC4Jrq6dUIAAKCVvbp1QgAAiATBunVCAABwc8S6dUIAAFjix7p1QgAAQFHLunVCAAAowM66dUIAABAv0rp1QgAA+J3VunVCAADgDNm6dUIAAMh73Lp1QgAAsOrfunVCAACYWeO6dUIAAIDI5rp1QgAAaDfqunVCAABQpu26dUIAADgV8bp1QgAAIIT0unVCAAAI8/e6dUIAAPBh+7p1QgAA2ND+unVCAADAPwK7dUIAAKiuBbt1QgAAkB0Ju3VCAAB4jAy7dUIAAGD7D7t1QgAASGoTu3VCAAAw2Ra7dUIAABhIGrt1QgAAALcdu3VCAADoJSG7dUIAANCUJLt1QgAAuAMou3VCAACgciu7dUIAAIjhLrt1QgAAcFAyu3VCAABYvzW7dUIAAEAuObt1QgAAKJ08u3VCAAAQDEC7dUIAAPh6Q7t1QgAA4OlGu3VCAADIWEq7dUIAALDHTbt1QgAAmDZRu3VCAACApVS7dUIAAGgUWLt1QgAAUINbu3VCAAA48l67dUIAACBhYrt1QgAACNBlu3VCAADwPmm7dUIAANitbLt1QgAAwBxwu3VCAACoi3O7dUIAAJD6drt1QgAAeGl6u3VCAABg2H27dUIAAEhHgbt1QgAAMLaEu3VCAAAYJYi7dUIAAACUi7t1QgAA6AKPu3VCAADQcZK7dUIAALjglbt1QgAAoE+Zu3VCAACIvpy7dUIAAHAtoLt1QgAAWJyju3VCAABAC6e7dUIAACh6qrt1QgAAEOmtu3VCAAD4V7G7dUIAAODGtLt1QgAAyDW4u3VCAACwpLu7dUIAAJgTv7t1QgAAgILCu3VCAABo8cW7dUIAAFBgybt1QgAAOM/Mu3VCAAAgPtC7dUIAAAit07t1QgAA8BvXu3VCAADYitq7dUIAAMD53bt1QgAAqGjhu3VCAACQ1+S7dUIAAHhG6Lt1QgAAYLXru3VCAABIJO+7dUIAADCT8rt1QgAAGAL2u3VCAAAAcfm7dUIAAOjf/Lt1QgAA0E4AvHVCAAC4vQO8dUIAAKAsB7x1QgAAiJsKvHVCAABwCg68dUIAAFh5Ebx1QgAAQOgUvHVCAAAoVxi8dUIAABDGG7x1QgAA+DQfvHVCAADgoyK8dUIAAMgSJrx1QgAAsIEpvHVCAACY8Cy8dUIAAIBfMLx1QgAAaM4zvHVCAABQPTe8dUIAADisOrx1QgAAIBs+vHVCAAAIikG8dUIAAPD4RLx1QgAA2GdIvHVCAADA1ku8dUIAAKhFT7x1QgAAkLRSvHVCAAB4I1a8dUIAAGCSWbx1QgAASAFdvHVCAAAwcGC8dUIAABjfY7x1QgAAAE5nvHVCAADovGq8dUIAANArbrx1QgAAuJpxvHVCAACgCXW8dUIAAIh4eLx1QgAAcOd7vHVCAABYVn+8dUIAAEDFgrx1QgAAKDSGvHVCAAAQo4m8dUIAAPgRjbx1QgAA4ICQvHVCAADI75O8dUIAALBel7x1QgAAmM2avHVCAACAPJ68dUIAAGirobx1QgAAUBqlvHVCAAA4iai8dUIAACD4q7x1QgAACGevvHVCAADw1bK8dUIAANhEtrx1QgAAwLO5vHVCAACoIr28dUIAAJCRwLx1QgAAeADEvHVCAABgb8e8dUIAAEjeyrx1QgAAME3OvHVCAAAYvNG8dUIAAAAr1bx1QgAA6JnYvHVCAADQCNy8dUIAALh337x1QgAAoObivHVCAACIVea8dUIAAHDE6bx1QgAAWDPtvHVCAABAovC8dUIAACgR9Lx1QgAAEID3vHVCAAD47vq8dUIAAOBd/rx1QgAAyMwBvXVCAACwOwW9dUIAAJiqCL11QgAAgBkMvXVCAABoiA+9dUIAAFD3Er11QgAAOGYWvXVCAAAg1Rm9dUIAAAhEHb11QgAA8LIgvXVCAADYISS9dUIAAMCQJ711QgAAqP8qvXVCAACQbi69dUIAAHjdMb11QgAAYEw1vXVCAABIuzi9dUIAADAqPL11QgAAGJk/vXVCAAAACEO9dUIAAOh2Rr11QgAA0OVJvXVCAAC4VE29dUIAAKDDUL11QgAAiDJUvXVCAABwoVe9dUIAAFgQW711QgAAQH9evXVCAAAo7mG9dUIAABBdZb11QgAA+MtovXVCAADgOmy9dUIAAMipb711QgAAsBhzvXVCAACYh3a9dUIAAID2eb11QgAAaGV9vXVCAABQ1IC9dUIAADhDhL11QgAAILKHvXVCAAAIIYu9dUIAAPCPjr11QgAA2P6RvXVCAADAbZW9dUIAAKjcmL11QgAAkEucvXVCAAB4up+9dUIAAGApo711QgAASJimvXVCAAAwB6q9dUIAABh2rb11QgAAAOWwvXVCAADoU7S9dUIAANDCt711QgAAuDG7vXVCAACgoL69dUIAAIgPwr11QgAAcH7FvXVCAABY7ci9dUIAAEBczL11QgAAKMvPvXVCAAAQOtO9dUIAAPio1r11QgAA4BfavXVCAADIht29dUIAALD14L11QgAAmGTkvXVCAACA0+e9dUIAAGhC6711QgAAULHuvXVCAAA4IPK9dUIAACCP9b11QgAACP74vXVCAADwbPy9dUIAANjb/711QgAAwEoDvnVCAACouQa+dUIAAJAoCr51QgAAeJcNvnVCAABgBhG+dUIAAEh1FL51QgAAMOQXvnVCAAAYUxu+dUIAAADCHr51QgAA6DAivnVCAADQnyW+dUIAALgOKb51QgAAoH0svnVCAACI7C++dUIAAHBbM751QgAAWMo2vnVCAABAOTq+dUIAACioPb51QgAAEBdBvnVCAAD4hUS+dUIAAOD0R751QgAAyGNLvnVCAACw0k6+dUIAAJhBUr51QgAAgLBVvnVCAABoH1m+dUIAAFCOXL51QgAAOP1fvnVCAAAgbGO+dUIAAAjbZr51QgAA8ElqvnVCAADYuG2+dUIAAMAncb51QgAAqJZ0vnVCAACQBXi+dUIAAHh0e751QgAAYON+vnVCAABIUoK+dUIAADDBhb51QgAAGDCJvnVCAAAAn4y+dUIAAOgNkL51QgAA0HyTvnVCAAC465a+dUIAAKBamr51QgAAiMmdvnVCAABwOKG+dUIAAFinpL51QgAAQBaovnVCAAAohau+dUIAABD0rr51QgAA+GKyvnVCAADg0bW+dUIAAMhAub51QgAAsK+8vnVCAACYHsC+dUIAAICNw751QgAAaPzGvnVCAABQa8q+dUIAADjazb51QgAAIEnRvnVCAAAIuNS+dUIAAPAm2L51QgAA2JXbvnVCAADABN++dUIAAKhz4r51QgAAkOLlvnVCAAB4Uem+dUIAAGDA7L51QgAASC/wvnVCAAAwnvO+dUIAABgN9751QgAAAHz6vnVCAADo6v2+dUIAANBZAb91QgAAuMgEv3VCAACgNwi/dUIAAIimC791QgAAcBUPv3VCAABYhBK/dUIAAEDzFb91QgAAKGIZv3VCAAAQ0Ry/dUIAAPg/IL91QgAA4K4jv3VCAADIHSe/dUIAALCMKr91QgAAmPstv3VCAACAajG/dUIAAGjZNL91QgAAUEg4v3VCAAA4tzu/dUIAACAmP791QgAACJVCv3VCAADwA0a/dUIAANhySb91QgAAwOFMv3VCAACoUFC/dUIAAJC/U791QgAAeC5Xv3VCAABgnVq/dUIAAEgMXr91QgAAMHthv3VCAAAY6mS/dUIAAABZaL91QgAA6Mdrv3VCAADQNm+/dUIAALilcr91QgAAoBR2v3VCAACIg3m/dUIAAHDyfL91QgAAWGGAv3VCAABA0IO/dUIAACg/h791QgAAEK6Kv3VCAAD4HI6/dUIAAOCLkb91QgAAyPqUv3VCAACwaZi/dUIAAJjYm791QgAAgEefv3VCAABotqK/dUIAAFAlpr91QgAAOJSpv3VCAAAgA62/dUIAAAhysL91QgAA8OCzv3VCAADYT7e/dUIAAMC+ur91QgAAqC2+v3VCAACQnMG/dUIAAHgLxb91QgAAYHrIv3VCAABI6cu/dUIAADBYz791QgAAGMfSv3VCAAAANta/dUIAAOik2b91QgAA0BPdv3VCAAC4guC/dUIAAKDx4791QgAAiGDnv3VCAABwz+q/dUIAAFg+7r91QgAAQK3xv3VCAAAoHPW/dUIAABCL+L91QgAA+Pn7v3VCAADgaP+/dUIAAMjXAsB1QgAAsEYGwHVCAACYtQnAdUIAAIAkDcB1QgAAaJMQwHVCAABQAhTAdUIAADhxF8B1QgAAIOAawHVCAAAITx7AdUIAAPC9IcB1QgAA2CwlwHVCAADAmyjAdUIAAKgKLMB1QgAAkHkvwHVCAAB46DLAdUIAAGBXNsB1QgAASMY5wHVCAAAwNT3AdUIAABikQMB1QgAAABNEwHVCAADogUfAdUIAANDwSsB1QgAAuF9OwHVCAACgzlHAdUIAAIg9VcB1QgAAcKxYwHVCAABYG1zAdUIAAECKX8B1QgAAKPliwHVCAAAQaGbAdUIAAPjWacB1QgAA4EVtwHVCAADItHDAdUIAALAjdMB1QgAAmJJ3wHVCAACAAXvAdUIAAGhwfsB1QgAAUN+BwHVCAAA4ToXAdUIAACC9iMB1QgAACCyMwHVCAADwmo/AdUIAANgJk8B1QgAAwHiWwHVCAACo55nAdUIAAJBWncB1QgAAeMWgwHVCAABgNKTAdUIAAEijp8B1QgAAMBKrwHVCAAAYga7AdUIAAADwscB1QgAA6F61wHVCAADQzbjAdUIAALg8vMB1QgAAoKu/wHVCAACIGsPAdUIAAHCJxsB1QgAAWPjJwHVCAABAZ83AdUIAACjW0MB1QgAAEEXUwHVCAAD4s9fAdUIAAOAi28B1QgAAyJHewHVCAACwAOLAdUIAAJhv5cB1QgAAgN7owHVCAABoTezAdUIAAFC878B1QgAAOCvzwHVCAAAgmvbAdUIAAAgJ+sB1QgAA8Hf9wHVCAADY5gDBdUIAAMBVBMF1QgAAqMQHwXVCAACQMwvBdUIAAHiiDsF1QgAAYBESwXVCAABIgBXBdUIAADDvGMF1QgAAGF4cwXVCAAAAzR/BdUIAAOg7I8F1QgAA0KomwXVCAAC4GSrBdUIAAKCILcF1QgAAiPcwwXVCAABwZjTBdUIAAFjVN8F1QgAAQEQ7wXVCAAAosz7BdUIAABAiQsF1QgAA+JBFwXVCAADg/0jBdUIAAMhuTMF1QgAAsN1PwXVCAACYTFPBdUIAAIC7VsF1QgAAaCpawXVCAABQmV3BdUIAADgIYcF1QgAAIHdkwXVCAAAI5mfBdUIAAPBUa8F1QgAA2MNuwXVCAADAMnLBdUIAAKihdcF1QgAAkBB5wXVCAAB4f3zBdUIAAGDuf8F1QgAASF2DwXVCAAAwzIbBdUIAABg7isF1QgAAAKqNwXVCAADoGJHBdUIAANCHlMF1QgAAuPaXwXVCAACgZZvBdUIAAIjUnsF1QgAAcEOiwXVCAABYsqXBdUIAAEAhqcF1QgAAKJCswXVCAAAQ/6/BdUIAAPhts8F1QgAA4Ny2wXVCAADIS7rBdUIAALC6vcF1QgAAmCnBwXVCAACAmMTBdUIAAGgHyMF1QgAAUHbLwXVCAAA45c7BdUIAACBU0sF1QgAACMPVwXVCAADwMdnBdUIAANig3MF1QgAAwA/gwXVCAACofuPBdUIAAJDt5sF1QgAAeFzqwXVCAABgy+3BdUIAAEg68cF1QgAAMKn0wXVCAAAYGPjBdUIAAACH+8F1QgAA6PX+wXVCAADQZALCdUIAALjTBcJ1QgAAoEIJwnVCAACIsQzCdUIAAHAgEMJ1QgAAWI8TwnVCAABA/hbCdUIAAChtGsJ1QgAAENwdwnVCAAD4SiHCdUIAAOC5JMJ1QgAAyCgownVCAACwlyvCdUIAAJgGL8J1QgAAgHUywnVCAABo5DXCdUIAAFBTOcJ1QgAAOMI8wnVCAAAgMUDCdUIAAAigQ8J1QgAA8A5HwnVCAADYfUrCdUIAAMDsTcJ1QgAAqFtRwnVCAACQylTCdUIAAHg5WMJ1QgAAYKhbwnVCAABIF1/CdUIAADCGYsJ1QgAAGPVlwnVCAAAAZGnCdUIAAOjSbMJ1QgAA0EFwwnVCAAC4sHPCdUIAAKAfd8J1QgAAiI56wnVCAABw/X3CdUIAAFhsgcJ1QgAAQNuEwnVCAAAoSojCdUIAABC5i8J1QgAA+CePwnVCAADglpLCdUIAAMgFlsJ1QgAAsHSZwnVCAACY45zCdUIAAIBSoMJ1QgAAaMGjwnVCAABQMKfCdUIAADifqsJ1QgAAIA6uwnVCAAAIfbHCdUIAAPDrtMJ1QgAA2Fq4wnVCAADAybvCdUIAAKg4v8J1QgAAkKfCwnVCAAB4FsbCdUIAAGCFycJ1QgAASPTMwnVCAAAwY9DCdUIAABjS08J1QgAAAEHXwnVCAADor9rCdUIAANAe3sJ1QgAAuI3hwnVCAACg/OTCdUIAAIhr6MJ1QgAAcNrrwnVCAABYSe/CdUIAAEC48sJ1QgAAKCf2wnVCAAAQlvnCdUIAAPgE/cJ1QgAA4HMAw3VCAADI4gPDdUIAALBRB8N1QgAAmMAKw3VCAACALw7DdUIAAGieEcN1QgAAUA0Vw3VCAAA4fBjDdUIAACDrG8N1QgAACFofw3VCAADwyCLDdUIAANg3JsN1QgAAwKYpw3VCAACoFS3DdUIAAJCEMMN1QgAAePMzw3VCAABgYjfDdUIAAEjROsN1QgAAMEA+w3VCAAAYr0HDdUIAAAAeRcN1QgAA6IxIw3VCAADQ+0vDdUIAALhqT8N1QgAAoNlSw3VCAACISFbDdUIAAHC3WcN1QgAAWCZdw3VCAABAlWDDdUIAACgEZMN1QgAAEHNnw3VCAAD44WrDdUIAAOBQbsN1QgAAyL9xw3VCAACwLnXDdUIAAJideMN1QgAAgAx8w3VCAABoe3/DdUIAAFDqgsN1QgAAOFmGw3VCAAAgyInDdUIAAAg3jcN1QgAA8KWQw3VCAADYFJTDdUIAAMCDl8N1QgAAqPKaw3VCAACQYZ7DdUIAAHjQocN1QgAAYD+lw3VCAABIrqjDdUIAADAdrMN1QgAAGIyvw3VCAAAA+7LDdUIAAOhptsN1QgAA0Ni5w3VCAAC4R73DdUIAAKC2wMN1QgAAiCXEw3VCAABwlMfDdUIAAFgDy8N1QgAAQHLOw3VCAAAo4dHDdUIAABBQ1cN1QgAA+L7Yw3VCAADgLdzDdUIAAMic38N1QgAAsAvjw3VCAACYeubDdUIAAIDp6cN1QgAAaFjtw3VCAABQx/DDdUIAADg29MN1QgAAIKX3w3VCAAAIFPvDdUIAAPCC/sN1QgAA2PEBxHVCAADAYAXEdUIAAKjPCMR1QgAAkD4MxHVCAAB4rQ/EdUIAAGAcE8R1QgAASIsWxHVCAAAw+hnEdUIAABhpHcR1QgAAANggxHVCAADoRiTEdUIAANC1J8R1QgAAuCQrxHVCAACgky7EdUIAAIgCMsR1QgAAcHE1xHVCAABY4DjEdUIAAEBPPMR1QgAAKL4/xHVCAAAQLUPEdUIAAPibRsR1QgAA4ApKxHVCAADIeU3EdUIAALDoUMR1QgAAmFdUxHVCAACAxlfEdUIAAGg1W8R1QgAAUKRexHVCAAA4E2LEdUIAACCCZcR1QgAACPFoxHVCAADwX2zEdUIAANjOb8R1QgAAwD1zxHVCAACorHbEdUIAAJAbesR1QgAAeIp9xHVCAABg+YDEdUIAAEhohMR1QgAAMNeHxHVCAAAYRovEdUIAAAC1jsR1QgAA6COSxHVCAADQkpXEdUIAALgBmcR1QgAAoHCcxHVCAACI35/EdUIAAHBOo8R1QgAAWL2mxHVCAABALKrEdUIAACibrcR1QgAAEAqxxHVCAAD4eLTEdUIAAODnt8R1QgAAyFa7xHVCAACwxb7EdUIAAJg0wsR1QgAAgKPFxHVCAABoEsnEdUIAAFCBzMR1QgAAOPDPxHVCAAAgX9PEdUIAAAjO1sR1QgAA8DzaxHVCAADYq93EdUIAAMAa4cR1QgAAqInkxHVCAACQ+OfEdUIAAHhn68R1QgAAYNbuxHVCAABIRfLEdUIAADC09cR1QgAAGCP5xHVCAAAAkvzEdUIAAOgAAMV1QgAA0G8DxXVCAAC43gbFdUIAAKBNCsV1QgAAiLwNxXVCAABwKxHFdUIAAFiaFMV1QgAAQAkYxXVCAAAoeBvFdUIAABDnHsV1QgAA+FUixXVCAADgxCXFdUIAAMgzKcV1QgAAsKIsxXVCAACYETDFdUIAAICAM8V1QgAAaO82xXVCAABQXjrFdUIAADjNPcV1QgAAIDxBxXVCAAAIq0TFdUIAAPAZSMV1QgAA2IhLxXVCAADA907FdUIAAKhmUsV1QgAAkNVVxXVCAAB4RFnFdUIAAGCzXMV1QgAASCJgxXVCAAAwkWPFdUIAABgAZ8V1QgAAAG9qxXVCAADo3W3FdUIAANBMccV1QgAAuLt0xXVCAACgKnjFdUIAAIiZe8V1QgAAcAh/xXVCAABYd4LFdUIAAEDmhcV1QgAAKFWJxXVCAAAQxIzFdUIAAPgykMV1QgAA4KGTxXVCAADIEJfFdUIAALB/msV1QgAAmO6dxXVCAACAXaHFdUIAAGjMpMV1QgAAUDuoxXVCAAA4qqvFdUIAACAZr8V1QgAACIiyxXVCAADw9rXFdUIAANhlucV1QgAAwNS8xXVCAACoQ8DFdUIAAJCyw8V1QgAAeCHHxXVCAABgkMrFdUIAAEj/zcV1QgAAMG7RxXVCAAAY3dTFdUIAAABM2MV1QgAA6LrbxXVCAADQKd/FdUIAALiY4sV1QgAAoAfmxXVCAACIdunFdUIAAHDl7MV1QgAAWFTwxXVCAABAw/PFdUIAACgy98V1QgAAEKH6xXVCAAD4D/7FdUIAAOB+AcZ1QgAAyO0ExnVCAACwXAjGdUIAAJjLC8Z1QgAAgDoPxnVCAABoqRLGdUIAAFAYFsZ1QgAAOIcZxnVCAAAg9hzGdUIAAAhlIMZ1QgAA8NMjxnVCAADYQifGdUIAAMCxKsZ1QgAAqCAuxnVCAACQjzHGdUIAAHj+NMZ1QgAAYG04xnVCAABI3DvGdUIAADBLP8Z1QgAAGLpCxnVCAAAAKUbGdUIAAOiXScZ1QgAA0AZNxnVCAAC4dVDGdUIAAKDkU8Z1QgAAiFNXxnVCAABwwlrGdUIAAFgxXsZ1QgAAQKBhxnVCAAAoD2XGdUIAABB+aMZ1QgAA+OxrxnVCAADgW2/GdUIAAMjKcsZ1QgAAsDl2xnVCAACYqHnGdUIAAIAXfcZ1QgAAaIaAxnVCAABQ9YPGdUIAADhkh8Z1QgAAINOKxnVCAAAIQo7GdUIAAPCwkcZ1QgAA2B+VxnVCAADAjpjGdUIAAKj9m8Z1QgAAkGyfxnVCAAB426LGdUIAAGBKpsZ1QgAASLmpxnVCAAAwKK3GdUIAABiXsMZ1QgAAAAa0xnVCAADodLfGdUIAANDjusZ1QgAAuFK+xnVCAACgwcHGdUIAAIgwxcZ1QgAAcJ/IxnVCAABYDszGdUIAAEB9z8Z1QgAAKOzSxnVCAAAQW9bGdUIAAPjJ2cZ1QgAA4DjdxnVCAADIp+DGdUIAALAW5MZ1QgAAmIXnxnVCAACA9OrGdUIAAGhj7sZ1QgAAUNLxxnVCAAA4QfXGdUIAACCw+MZ1QgAACB/8xnVCAADwjf/GdUIAANj8Asd1QgAAwGsGx3VCAACo2gnHdUIAAJBJDcd1QgAAeLgQx3VCAABgJxTHdUIAAEiWF8d1QgAAMAUbx3VCAAAYdB7HdUIAAADjIcd1QgAA6FElx3VCAADQwCjHdUIAALgvLMd1QgAAoJ4vx3VCAACIDTPHdUIAAHB8Nsd1QgAAWOs5x3VCAABAWj3HdUIAACjJQMd1QgAAEDhEx3VCAAD4pkfHdUIAAOAVS8d1QgAAyIROx3VCAACw81HHdUIAAJhiVcd1QgAAgNFYx3VCAABoQFzHdUIAAFCvX8d1QgAAOB5jx3VCAAAgjWbHdUIAAAj8acd1QgAA8Gptx3VCAADY2XDHdUIAAMBIdMd1QgAAqLd3x3VCAACQJnvHdUIAAHiVfsd1QgAAYASCx3VCAABIc4XHdUIAADDiiMd1QgAAGFGMx3VCAAAAwI/HdUIAAOguk8d1QgAA0J2Wx3VCAAC4DJrHdUIAAKB7ncd1QgAAiOqgx3VCAABwWaTHdUIAAFjIp8d1QgAAQDerx3VCAAAopq7HdUIAABAVssd1QgAA+IO1x3VCAADg8rjHdUIAAMhhvMd1QgAAsNC/x3VCAACYP8PHdUIAAICuxsd1QgAAaB3Kx3VCAABQjM3HdUIAADj70Md1QgAAIGrUx3VCAAAI2dfHdUIAAPBH28d1QgAA2Lbex3VCAADAJeLHdUIAAKiU5cd1QgAAkAPpx3VCAAB4cuzHdUIAAGDh78d1QgAASFDzx3VCAAAwv/bHdUIAABgu+sd1QgAAAJ39x3VCAADoCwHIdUIAANB6BMh1QgAAuOkHyHVCAACgWAvIdUIAAIjHDsh1QgAAcDYSyHVCAABYpRXIdUIAAEAUGch1QgAAKIMcyHVCAAAQ8h/IdUIAAPhgI8h1QgAA4M8myHVCAADIPirIdUIAALCtLch1QgAAmBwxyHVCAACAizTIdUIAAGj6N8h1QgAAUGk7yHVCAAA42D7IdUIAACBHQsh1QgAACLZFyHVCAADwJEnIdUIAANiTTMh1QgAAwAJQyHVCAACocVPIdUIAAJDgVsh1QgAAeE9ayHVCAABgvl3IdUIAAEgtYch1QgAAMJxkyHVCAAAYC2jIdUIAAAB6a8h1QgAA6OhuyHVCAADQV3LIdUIAALjGdch1QgAAoDV5yHVCAACIpHzIdUIAAHATgMh1QgAAWIKDyHVCAABA8YbIdUIAAChgish1QgAAEM+NyHVCAAD4PZHIdUIAAOCslMh1QgAAyBuYyHVCAACwipvIdUIAAJj5nsh1QgAAgGiiyHVCAABo16XIdUIAAFBGqch1QgAAOLWsyHVCAAAgJLDIdUIAAAiTs8h1QgAA8AG3yHVCAADYcLrIdUIAAMDfvch1QgAAqE7ByHVCAACQvcTIdUIAAHgsyMh1QgAAYJvLyHVCAABICs/IdUIAADB50sh1QgAAGOjVyHVCAAAAV9nIdUIAAOjF3Mh1QgAA0DTgyHVCAAC4o+PIdUIAAKAS58h1QgAAiIHqyHVCAABw8O3IdUIAAFhf8ch1QgAAQM70yHVCAAAoPfjIdUIAABCs+8h1QgAA+Br/yHVCAADgiQLJdUIAAMj4Bcl1QgAAsGcJyXVCAACY1gzJdUIAAIBFEMl1QgAAaLQTyXVCAABQIxfJdUIAADiSGsl1QgAAIAEeyXVCAAAIcCHJdUIAAPDeJMl1QgAA2E0oyXVCAADAvCvJdUIAAKgrL8l1QgAAkJoyyXVCAAB4CTbJdUIAAGB4Ocl1QgAASOc8yXVCAAAwVkDJdUIAABjFQ8l1QgAAADRHyXVCAADookrJdUIAANARTsl1QgAAuIBRyXVCAACg71TJdUIAAIheWMl1QgAAcM1byXVCAABYPF/JdUIAAECrYsl1QgAAKBpmyXVCAAAQiWnJdUIAAPj3bMl1QgAA4GZwyXVCAADI1XPJdUIAALBEd8l1QgAAmLN6yXVCAACAIn7JdUIAAGiRgcl1QgAAUACFyXVCAAA4b4jJdUIAACDei8l1QgAACE2PyXVCAADwu5LJdUIAANgqlsl1QgAAwJmZyXVCAACoCJ3JdUIAAJB3oMl1QgAAeOajyXVCAABgVafJdUIAAEjEqsl1QgAAMDOuyXVCAAAYorHJdUIAAAARtcl1QgAA6H+4yXVCAADQ7rvJdUIAALhdv8l1QgAAoMzCyXVCAACIO8bJdUIAAHCqycl1QgAAWBnNyXVCAABAiNDJdUIAACj308l1QgAAEGbXyXVCAAD41NrJdUIAAOBD3sl1QgAAyLLhyXVCAACwIeXJdUIAAJiQ6Ml1QgAAgP/ryXVCAABobu/JdUIAAFDd8sl1QgAAOEz2yXVCAAAgu/nJdUIAAAgq/cl1QgAA8JgAynVCAADYBwTKdUIAAMB2B8p1QgAAqOUKynVCAACQVA7KdUIAAHjDEcp1QgAAYDIVynVCAABIoRjKdUIAADAQHMp1QgAAGH8fynVCAAAA7iLKdUIAAOhcJsp1QgAA0MspynVCAAC4Oi3KdUIAAKCpMMp1QgAAiBg0ynVCAABwhzfKdUIAAFj2Osp1QgAAQGU+ynVCAAAo1EHKdUIAABBDRcp1QgAA+LFIynVCAADgIEzKdUIAAMiPT8p1QgAAsP5SynVCAACYbVbKdUIAAIDcWcp1QgAAaEtdynVCAABQumDKdUIAADgpZMp1QgAAIJhnynVCAAAIB2vKdUIAAPB1bsp1QgAA2ORxynVCAADAU3XKdUIAAKjCeMp1QgAAkDF8ynVCAAB4oH/KdUIAAGAPg8p1QgAASH6GynVCAAAw7YnKdUIAABhcjcp1QgAAAMuQynVCAADoOZTKdUIAANCol8p1QgAAuBebynVCAACghp7KdUIAAIj1ocp1QgAAcGSlynVCAABY06jKdUIAAEBCrMp1QgAAKLGvynVCAAAQILPKdUIAAPiOtsp1QgAA4P25ynVCAADIbL3KdUIAALDbwMp1QgAAmErEynVCAACAucfKdUIAAGgoy8p1QgAAUJfOynVCAAA4BtLKdUIAACB11cp1QgAACOTYynVCAADwUtzKdUIAANjB38p1QgAAwDDjynVCAACon+bKdUIAAJAO6sp1QgAAeH3tynVCAABg7PDKdUIAAEhb9Mp1QgAAMMr3ynVCAAAYOfvKdUIAAACo/sp1QgAA6BYCy3VCAADQhQXLdUIAALj0CMt1QgAAoGMMy3VCAACI0g/LdUIAAHBBE8t1QgAAWLAWy3VCAABAHxrLdUIAACiOHct1QgAAEP0gy3VCAAD4ayTLdUIAAODaJ8t1QgAAyEkry3VCAACwuC7LdUIAAJgnMst1QgAAgJY1y3VCAABoBTnLdUIAAFB0PMt1QgAAOOM/y3VCAAAgUkPLdUIAAAjBRst1QgAA8C9Ky3VCAADYnk3LdUIAAMANUct1QgAAqHxUy3VCAACQ61fLdUIAAHhaW8t1QgAAYMley3VCAABIOGLLdUIAADCnZct1QgAAGBZpy3VCAAAAhWzLdUIAAOjzb8t1QgAA0GJzy3VCAAC40XbLdUIAAKBAest1QgAAiK99y3VCAABwHoHLdUIAAFiNhMt1QgAAQPyHy3VCAAAoa4vLdUIAABDajst1QgAA+EiSy3VCAADgt5XLdUIAAMgmmct1QgAAsJWcy3VCAACYBKDLdUIAAIBzo8t1QgAAaOKmy3VCAABQUarLdUIAADjArct1QgAAIC+xy3VCAAAInrTLdUIAAPAMuMt1QgAA2Hu7y3VCAADA6r7LdUIAAKhZwst1QgAAkMjFy3VCAAB4N8nLdUIAAGCmzMt1QgAASBXQy3VCAAAwhNPLdUIAABjz1st1QgAAAGLay3VCAADo0N3LdUIAANA/4ct1QgAAuK7ky3VCAACgHejLdUIAAIiM68t1QgAAcPvuy3VCAABYavLLdUIAAEDZ9ct1QgAAKEj5y3VCAAAQt/zLdUIAAPglAMx1QgAA4JQDzHVCAADIAwfMdUIAALByCsx1QgAAmOENzHVCAACAUBHMdUIAAGi/FMx1QgAAUC4YzHVCAAA4nRvMdUIAACAMH8x1QgAACHsizHVCAADw6SXMdUIAANhYKcx1QgAAwMcszHVCAACoNjDMdUIAAJClM8x1QgAAeBQ3zHVCAABggzrMdUIAAEjyPcx1QgAAMGFBzHVCAAAY0ETMdUIAAAA/SMx1QgAA6K1LzHVCAADQHE/MdUIAALiLUsx1QgAAoPpVzHVCAACIaVnMdUIAAHDYXMx1QgAAWEdgzHVCAABAtmPMdUIAACglZ8x1QgAAEJRqzHVCAAD4Am7MdUIAAOBxccx1QgAAyOB0zHVCAACwT3jMdUIAAJi+e8x1QgAAgC1/zHVCAABonILMdUIAAFALhsx1QgAAOHqJzHVCAAAg6YzMdUIAAAhYkMx1QgAA8MaTzHVCAADYNZfMdUIAAMCkmsx1QgAAqBOezHVCAACQgqHMdUIAAHjxpMx1QgAAYGCozHVCAABIz6vMdUIAADA+r8x1QgAAGK2yzHVCAAAAHLbMdUIAAOiKucx1QgAA0Pm8zHVCAAC4aMDMdUIAAKDXw8x1QgAAiEbHzHVCAABwtcrMdUIAAFgkzsx1QgAAQJPRzHVCAAAoAtXMdUIAABBx2Mx1QgAA+N/bzHVCAADgTt/MdUIAAMi94sx1QgAAsCzmzHVCAACYm+nMdUIAAIAK7cx1QgAAaHnwzHVCAABQ6PPMdUIAADhX98x1QgAAIMb6zHVCAAAINf7MdUIAAPCjAc11QgAA2BIFzXVCAADAgQjNdUIAAKjwC811QgAAkF8PzXVCAAB4zhLNdUIAAGA9Fs11QgAASKwZzXVCAAAwGx3NdUIAABiKIM11QgAAAPkjzXVCAADoZyfNdUIAANDWKs11QgAAuEUuzXVCAACgtDHNdUIAAIgjNc11QgAAcJI4zXVCAABYATzNdUIAAEBwP811QgAAKN9CzXVCAAAQTkbNdUIAAPi8Sc11QgAA4CtNzXVCAADImlDNdUIAALAJVM11QgAAmHhXzXVCAACA51rNdUIAAGhWXs11QgAAUMVhzXVCAAA4NGXNdUIAACCjaM11QgAACBJszXVCAADwgG/NdUIAANjvcs11QgAAwF52zXVCAACozXnNdUIAAJA8fc11QgAAeKuAzXVCAABgGoTNdUIAAEiJh811QgAAMPiKzXVCAAAYZ47NdUIAAADWkc11QgAA6ESVzXVCAADQs5jNdUIAALginM11QgAAoJGfzXVCAACIAKPNdUIAAHBvps11QgAAWN6pzXVCAABATa3NdUIAACi8sM11QgAAECu0zXVCAAD4mbfNdUIAAOAIu811QgAAyHe+zXVCAACw5sHNdUIAAJhVxc11QgAAgMTIzXVCAABoM8zNdUIAAFCiz811QgAAOBHTzXVCAAAggNbNdUIAAAjv2c11QgAA8F3dzXVCAADYzODNdUIAAMA75M11QgAAqKrnzXVCAACQGevNdUIAAHiI7s11QgAAYPfxzXVCAABIZvXNdUIAADDV+M11QgAAGET8zXVCAAAAs//NdUIAAOghA851QgAA0JAGznVCAAC4/wnOdUIAAKBuDc51QgAAiN0QznVCAABwTBTOdUIAAFi7F851QgAAQCobznVCAAAomR7OdUIAABAIIs51QgAA+HYlznVCAADg5SjOdUIAAMhULM51QgAAsMMvznVCAACYMjPOdUIAAIChNs51QgAAaBA6znVCAABQfz3OdUIAADjuQM51QgAAIF1EznVCAAAIzEfOdUIAAPA6S851QgAA2KlOznVCAADAGFLOdUIAAKiHVc51QgAAkPZYznVCAAB4ZVzOdUIAAGDUX851QgAASENjznVCAAAwsmbOdUIAABghas51QgAAAJBtznVCAADo/nDOdUIAANBtdM51QgAAuNx3znVCAACgS3vOdUIAAIi6fs51QgAAcCmCznVCAABYmIXOdUIAAEAHic51QgAAKHaMznVCAAAQ5Y/OdUIAAPhTk851QgAA4MKWznVCAADIMZrOdUIAALCgnc51QgAAmA+hznVCAACAfqTOdUIAAGjtp851QgAAUFyrznVCAAA4y67OdUIAACA6ss51QgAACKm1znVCAADwF7nOdUIAANiGvM51QgAAwPW/znVCAACoZMPOdUIAAJDTxs51QgAAeELKznVCAABgsc3OdUIAAEgg0c51QgAAMI/UznVCAAAY/tfOdUIAAABt2851QgAA6NveznVCAADQSuLOdUIAALi55c51QgAAoCjpznVCAACIl+zOdUIAAHAG8M51QgAAWHXzznVCAABA5PbOdUIAAChT+s51QgAAEML9znVCAAD4MAHPdUIAAOCfBM91QgAAyA4Iz3VCAACwfQvPdUIAAJjsDs91QgAAgFsSz3VCAABoyhXPdUIAAFA5Gc91QgAAOKgcz3VCAAAgFyDPdUIAAAiGI891QgAA8PQmz3VCAADYYyrPdUIAAMDSLc91QgAAqEExz3VCAACQsDTPdUIAAHgfOM91QgAAYI47z3VCAABI/T7PdUIAADBsQs91QgAAGNtFz3VCAAAASknPdUIAAOi4TM91QgAA0CdQz3VCAAC4llPPdUIAAKAFV891QgAAiHRaz3VCAABw413PdUIAAFhSYc91QgAAQMFkz3VCAAAoMGjPdUIAABCfa891QgAA+A1vz3VCAADgfHLPdUIAAMjrdc91QgAAsFp5z3VCAACYyXzPdUIAAIA4gM91QgAAaKeDz3VCAABQFofPdUIAADiFis91QgAAIPSNz3VCAAAIY5HPdUIAAPDRlM91QgAA2ECYz3VCAADAr5vPdUIAAKgen891QgAAkI2iz3VCAAB4/KXPdUIAAGBrqc91QgAASNqsz3VCAAAwSbDPdUIAABi4s891QgAAACe3z3VCAADolbrPdUIAANAEvs91QgAAuHPBz3VCAACg4sTPdUIAAIhRyM91QgAAcMDLz3VCAABYL8/PdUIAAECe0s91QgAAKA3Wz3VCAAAQfNnPdUIAAPjq3M91QgAA4Fngz3VCAADIyOPPdUIAALA35891QgAAmKbqz3VCAACAFe7PdUIAAGiE8c91QgAAUPP0z3VCAAA4YvjPdUIAACDR+891QgAACED/z3VCAADwrgLQdUIAANgdBtB1QgAAwIwJ0HVCAACo+wzQdUIAAJBqENB1QgAAeNkT0HVCAABgSBfQdUIAAEi3GtB1QgAAMCYe0HVCAAAYlSHQdUIAAAAEJdB1QgAA6HIo0HVCAADQ4SvQdUIAALhQL9B1QgAAoL8y0HVCAACILjbQdUIAAHCdOdB1QgAAWAw90HVCAABAe0DQdUIAACjqQ9B1QgAAEFlH0HVCAAD4x0rQdUIAAOA2TtB1QgAAyKVR0HVCAACwFFXQdUIAAJiDWNB1QgAAgPJb0HVCAABoYV/QdUIAAFDQYtB1QgAAOD9m0HVCAAAgrmnQdUIAAAgdbdB1QgAA8Itw0HVCAADY+nPQdUIAAMBpd9B1QgAAqNh60HVCAACQR37QdUIAAHi2gdB1QgAAYCWF0HVCAABIlIjQdUIAADADjNB1QgAAGHKP0HVCAAAA4ZLQdUIAAOhPltB1QgAA0L6Z0HVCAAC4LZ3QdUIAAKCcoNB1QgAAiAuk0HVCAABweqfQdUIAAFjpqtB1QgAAQFiu0HVCAAAox7HQdUIAABA2tdB1QgAA+KS40HVCAADgE7zQdUIAAMiCv9B1QgAAsPHC0HVCAACYYMbQdUIAAIDPydB1QgAAaD7N0HVCAABQrdDQdUIAADgc1NB1QgAAIIvX0HVCAAAI+trQdUIAAPBo3tB1QgAA2Nfh0HVCAADARuXQdUIAAKi16NB1QgAAkCTs0HVCAAB4k+/QdUIAAGAC89B1QgAASHH20HVCAAAw4PnQdUIAABhP/dB1QgAAAL4A0XVCAADoLATRdUIAANCbB9F1QgAAuAoL0XVCAACgeQ7RdUIAAIjoEdF1QgAAcFcV0XVCAABYxhjRdUIAAEA1HNF1QgAAKKQf0XVCAAAQEyPRdUIAAPiBJtF1QgAA4PAp0XVCAADIXy3RdUIAALDOMNF1QgAAmD000XVCAACArDfRdUIAAGgbO9F1QgAAUIo+0XVCAAA4+UHRdUIAACBoRdF1QgAACNdI0XVCAADwRUzRdUIAANi0T9F1QgAAwCNT0XVCAACoklbRdUIAAJABWtF1QgAAeHBd0XVCAABg32DRdUIAAEhOZNF1QgAAML1n0XVCAAAYLGvRdUIAAACbbtF1QgAA6Aly0XVCAADQeHXRdUIAALjneNF1QgAAoFZ80XVCAACIxX/RdUIAAHA0g9F1QgAAWKOG0XVCAABAEorRdUIAACiBjdF1QgAAEPCQ0XVCAAD4XpTRdUIAAODNl9F1QgAAyDyb0XVCAACwq57RdUIAAJgaotF1QgAAgIml0XVCAABo+KjRdUIAAFBnrNF1QgAAONav0XVCAAAgRbPRdUIAAAi0ttF1QgAA8CK60XVCAADYkb3RdUIAAMAAwdF1QgAAqG/E0XVCAACQ3sfRdUIAAHhNy9F1QgAAYLzO0XVCAABIK9LRdUIAADCa1dF1QgAAGAnZ0XVCAAAAeNzRdUIAAOjm39F1QgAA0FXj0XVCAAC4xObRdUIAAKAz6tF1QgAAiKLt0XVCAABwEfHRdUIAAFiA9NF1QgAAQO/30XVCAAAoXvvRdUIAABDN/tF1QgAA+DsC0nVCAADgqgXSdUIAAMgZCdJ1QgAAsIgM0nVCAACY9w/SdUIAAIBmE9J1QgAAaNUW0nVCAABQRBrSdUIAADizHdJ1QgAAICIh0nVCAAAIkSTSdUIAAPD/J9J1QgAA2G4r0nVCAADA3S7SdUIAAKhMMtJ1QgAAkLs10nVCAAB4KjnSdUIAAGCZPNJ1QgAASAhA0nVCAAAwd0PSdUIAABjmRtJ1QgAAAFVK0nVCAADow03SdUIAANAyUdJ1QgAAuKFU0nVCAACgEFjSdUIAAIh/W9J1QgAAcO5e0nVCAABYXWLSdUIAAEDMZdJ1QgAAKDtp0nVCAAAQqmzSdUIAAPgYcNJ1QgAA4Idz0nVCAADI9nbSdUIAALBletJ1QgAAmNR90nVCAACAQ4HSdUIAAGiyhNJ1QgAAUCGI0nVCAAA4kIvSdUIAACD/jtJ1QgAACG6S0nVCAADw3JXSdUIAANhLmdJ1QgAAwLqc0nVCAACoKaDSdUIAAJCYo9J1QgAAeAen0nVCAABgdqrSdUIAAEjlrdJ1QgAAMFSx0nVCAAAYw7TSdUIAAAAyuNJ1QgAA6KC70nVCAADQD7/SdUIAALh+wtJ1QgAAoO3F0nVCAACIXMnSdUIAAHDLzNJ1QgAAWDrQ0nVCAABAqdPSdUIAACgY19J1QgAAEIfa0nVCAAD49d3SdUIAAOBk4dJ1QgAAyNPk0nVCAACwQujSdUIAAJix69J1QgAAgCDv0nVCAABoj/LSdUIAAFD+9dJ1QgAAOG350nVCAAAg3PzSdUIAAAhLANN1QgAA8LkD03VCAADYKAfTdUIAAMCXCtN1QgAAqAYO03VCAACQdRHTdUIAAHjkFNN1QgAAYFMY03VCAABIwhvTdUIAADAxH9N1QgAAGKAi03VCAAAADybTdUIAAOh9KdN1QgAA0Ows03VCAAC4WzDTdUIAAKDKM9N1QgAAiDk303VCAABwqDrTdUIAAFgXPtN1QgAAQIZB03VCAAAo9UTTdUIAABBkSNN1QgAA+NJL03VCAADgQU/TdUIAAMiwUtN1QgAAsB9W03VCAACYjlnTdUIAAID9XNN1QgAAaGxg03VCAABQ22PTdUIAADhKZ9N1QgAAILlq03VCAAAIKG7TdUIAAPCWcdN1QgAA2AV103VCAADAdHjTdUIAAKjje9N1QgAAkFJ/03VCAAB4wYLTdUIAAGAwhtN1QgAASJ+J03VCAAAwDo3TdUIAABh9kNN1QgAAAOyT03VCAADoWpfTdUIAANDJmtN1QgAAuDie03VCAACgp6HTdUIAAIgWpdN1QgAAcIWo03VCAABY9KvTdUIAAEBjr9N1QgAAKNKy03VCAAAQQbbTdUIAAPivudN1QgAA4B6903VCAADIjcDTdUIAALD8w9N1QgAAmGvH03VCAACA2srTdUIAAGhJztN1QgAAULjR03VCAAA4J9XTdUIAACCW2NN1QgAACAXc03VCAADwc9/TdUIAANji4tN1QgAAwFHm03VCAACowOnTdUIAAJAv7dN1QgAAeJ7w03VCAABgDfTTdUIAAEh899N1QgAAMOv603VCAAAYWv7TdUIAAADJAdR1QgAA6DcF1HVCAADQpgjUdUIAALgVDNR1QgAAoIQP1HVCAACI8xLUdUIAAHBiFtR1QgAAWNEZ1HVCAABAQB3UdUIAACivINR1QgAAEB4k1HVCAAD4jCfUdUIAAOD7KtR1QgAAyGou1HVCAACw2THUdUIAAJhINdR1QgAAgLc41HVCAABoJjzUdUIAAFCVP9R1QgAAOARD1HVCAAAgc0bUdUIAAAjiSdR1QgAA8FBN1HVCAADYv1DUdUIAAMAuVNR1QgAAqJ1X1HVCAACQDFvUdUIAAHh7XtR1QgAAYOph1HVCAABIWWXUdUIAADDIaNR1QgAAGDds1HVCAAAApm/UdUIAAOgUc9R1QgAA0IN21HVCAAC48nnUdUIAAKBhfdR1QgAAiNCA1HVCAABwP4TUdUIAAFiuh9R1QgAAQB2L1HVCAAAojI7UdUIAABD7kdR1QgAA+GmV1HVCAADg2JjUdUIAAMhHnNR1QgAAsLaf1HVCAACYJaPUdUIAAICUptR1QgAAaAOq1HVCAABQcq3UdUIAADjhsNR1QgAAIFC01HVCAAAIv7fUdUIAAPAtu9R1QgAA2Jy+1HVCAADAC8LUdUIAAKh6xdR1QgAAkOnI1HVCAAB4WMzUdUIAAGDHz9R1QgAASDbT1HVCAAAwpdbUdUIAABgU2tR1QgAAAIPd1HVCAADo8eDUdUIAANBg5NR1QgAAuM/n1HVCAACgPuvUdUIAAIit7tR1QgAAcBzy1HVCAABYi/XUdUIAAED6+NR1QgAAKGn81HVCAAAQ2P/UdUIAAPhGA9V1QgAA4LUG1XVCAADIJArVdUIAALCTDdV1QgAAmAIR1XVCAACAcRTVdUIAAGjgF9V1QgAAUE8b1XVCAAA4vh7VdUIAACAtItV1QgAACJwl1XVCAADwCinVdUIAANh5LNV1QgAAwOgv1XVCAACoVzPVdUIAAJDGNtV1QgAAeDU61XVCAABgpD3VdUIAAEgTQdV1QgAAMIJE1XVCAAAY8UfVdUIAAABgS9V1QgAA6M5O1XVCAADQPVLVdUIAALisVdV1QgAAoBtZ1XVCAACIilzVdUIAAHD5X9V1QgAAWGhj1XVCAABA12bVdUIAAChGatV1QgAAELVt1XVCAAD4I3HVdUIAAOCSdNV1QgAAyAF41XVCAACwcHvVdUIAAJjfftV1QgAAgE6C1XVCAABovYXVdUIAAFAsidV1QgAAOJuM1XVCAAAgCpDVdUIAAAh5k9V1QgAA8OeW1XVCAADYVprVdUIAAMDFndV1QgAAqDSh1XVCAACQo6TVdUIAAHgSqNV1QgAAYIGr1XVCAABI8K7VdUIAADBfstV1QgAAGM611XVCAAAAPbnVdUIAAOirvNV1QgAA0BrA1XVCAAC4icPVdUIAAKD4xtV1QgAAiGfK1XVCAABw1s3VdUIAAFhF0dV1QgAAQLTU1XVCAAAoI9jVdUIAABCS29V1QgAA+ADf1XVCAADgb+LVdUIAAMje5dV1QgAAsE3p1XVCAACYvOzVdUIAAIAr8NV1QgAAaJrz1XVCAABQCffVdUIAADh4+tV1QgAAIOf91XVCAAAIVgHWdUIAAPDEBNZ1QgAA2DMI1nVCAADAogvWdUIAAKgRD9Z1QgAAkIAS1nVCAAB47xXWdUIAAGBeGdZ1QgAASM0c1nVCAAAwPCDWdUIAABirI9Z1QgAAABon1nVCAADoiCrWdUIAAND3LdZ1QgAAuGYx1nVCAACg1TTWdUIAAIhEONZ1QgAAcLM71nVCAABYIj/WdUIAAECRQtZ1QgAAKABG1nVCAAAQb0nWdUIAAPjdTNZ1QgAA4ExQ1nVCAADIu1PWdUIAALAqV9Z1QgAAmJla1nVCAACACF7WdUIAAGh3YdZ1QgAAUOZk1nVCAAA4VWjWdUIAACDEa9Z1QgAACDNv1nVCAADwoXLWdUIAANgQdtZ1QgAAwH951nVCAACo7nzWdUIAAJBdgNZ1QgAAeMyD1nVCAABgO4fWdUIAAEiqitZ1QgAAMBmO1nVCAAAYiJHWdUIAAAD3lNZ1QgAA6GWY1nVCAADQ1JvWdUIAALhDn9Z1QgAAoLKi1nVCAACIIabWdUIAAHCQqdZ1QgAAWP+s1nVCAABAbrDWdUIAACjds9Z1QgAAEEy31nVCAAD4urrWdUIAAOApvtZ1QgAAyJjB1nVCAACwB8XWdUIAAJh2yNZ1QgAAgOXL1nVCAABoVM/WdUIAAFDD0tZ1QgAAODLW1nVCAAAgodnWdUIAAAgQ3dZ1QgAA8H7g1nVCAADY7ePWdUIAAMBc59Z1QgAAqMvq1nVCAACQOu7WdUIAAHip8dZ1QgAAYBj11nVCAABIh/jWdUIAADD2+9Z1QgAAGGX/1nVCAAAA1ALXdUIAAOhCBtd1QgAA0LEJ13VCAAC4IA3XdUIAAKCPENd1QgAAiP4T13VCAABwbRfXdUIAAFjcGtd1QgAAQEse13VCAAAouiHXdUIAABApJdd1QgAA+Jco13VCAADgBizXdUIAAMh1L9d1QgAAsOQy13VCAACYUzbXdUIAAIDCOdd1QgAAaDE913VCAABQoEDXdUIAADgPRNd1QgAAIH5H13VCAAAI7UrXdUIAAPBbTtd1QgAA2MpR13VCAADAOVXXdUIAAKioWNd1QgAAkBdc13VCAAB4hl/XdUIAAGD1Ytd1QgAASGRm13VCAAAw02nXdUIAABhCbdd1QgAAALFw13VCAADoH3TXdUIAANCOd9d1QgAAuP1613VCAACgbH7XdUIAAIjbgdd1QgAAcEqF13VCAABYuYjXdUIAAEAojNd1QgAAKJeP13VCAAAQBpPXdUIAAPh0ltd1QgAA4OOZ13VCAADIUp3XdUIAALDBoNd1QgAAmDCk13VCAACAn6fXdUIAAGgOq9d1QgAAUH2u13VCAAA47LHXdUIAACBbtdd1QgAACMq413VCAADwOLzXdUIAANinv9d1QgAAwBbD13VCAACohcbXdUIAAJD0ydd1QgAAeGPN13VCAABg0tDXdUIAAEhB1Nd1QgAAMLDX13VCAAAYH9vXdUIAAACO3td1QgAA6Pzh13VCAADQa+XXdUIAALja6Nd1QgAAoEns13VCAACIuO/XdUIAAHAn89d1QgAAWJb213VCAABABfrXdUIAACh0/dd1QgAAEOMA2HVCAAD4UQTYdUIAAODAB9h1QgAAyC8L2HVCAACwng7YdUIAAJgNEth1QgAAgHwV2HVCAABo6xjYdUIAAFBaHNh1QgAAOMkf2HVCAAAgOCPYdUIAAAinJth1QgAA8BUq2HVCAADYhC3YdUIAAMDzMNh1QgAAqGI02HVCAACQ0TfYdUIAAHhAO9h1QgAAYK8+2HVCAABIHkLYdUIAADCNRdh1QgAAGPxI2HVCAAAAa0zYdUIAAOjZT9h1QgAA0EhT2HVCAAC4t1bYdUIAAKAmWth1QgAAiJVd2HVCAABwBGHYdUIAAFhzZNh1QgAAQOJn2HVCAAAoUWvYdUIAABDAbth1QgAA+C5y2HVCAADgnXXYdUIAAMgMedh1QgAAsHt82HVCAACY6n/YdUIAAIBZg9h1QgAAaMiG2HVCAABQN4rYdUIAADimjdh1QgAAIBWR2HVCAAAIhJTYdUIAAPDyl9h1QgAA2GGb2HVCAADA0J7YdUIAAKg/oth1QgAAkK6l2HVCAAB4HanYdUIAAGCMrNh1QgAASPuv2HVCAAAwarPYdUIAABjZtth1QgAAAEi62HVCAADotr3YdUIAANAlwdh1QgAAuJTE2HVCAACgA8jYdUIAAIhyy9h1QgAAcOHO2HVCAABYUNLYdUIAAEC/1dh1QgAAKC7Z2HVCAAAQndzYdUIAAPgL4Nh1QgAA4Hrj2HVCAADI6ebYdUIAALBY6th1QgAAmMft2HVCAACANvHYdUIAAGil9Nh1QgAAUBT42HVCAAA4g/vYdUIAACDy/th1QgAACGEC2XVCAADwzwXZdUIAANg+Cdl1QgAAwK0M2XVCAACoHBDZdUIAAJCLE9l1QgAAePoW2XVCAABgaRrZdUIAAEjYHdl1QgAAMEch2XVCAAAYtiTZdUIAAAAlKNl1QgAA6JMr2XVCAADQAi/ZdUIAALhxMtl1QgAAoOA12XVCAACITznZdUIAAHC+PNl1QgAAWC1A2XVCAABAnEPZdUIAACgLR9l1QgAAEHpK2XVCAAD46E3ZdUIAAOBXUdl1QgAAyMZU2XVCAACwNVjZdUIAAJikW9l1QgAAgBNf2XVCAABogmLZdUIAAFDxZdl1QgAAOGBp2XVCAAAgz2zZdUIAAAg+cNl1QgAA8Kxz2XVCAADYG3fZdUIAAMCKetl1QgAAqPl92XVCAACQaIHZdUIAAHjXhNl1QgAAYEaI2XVCAABItYvZdUIAADAkj9l1QgAAGJOS2XVCAAAAApbZdUIAAOhwmdl1QgAA0N+c2XVCAAC4TqDZdUIAAKC9o9l1QgAAiCyn2XVCAABwm6rZdUIAAFgKrtl1QgAAQHmx2XVCAAAo6LTZdUIAABBXuNl1QgAA+MW72XVCAADgNL/ZdUIAAMijwtl1QgAAsBLG2XVCAACYgcnZdUIAAIDwzNl1QgAAaF/Q2XVCAABQztPZdUIAADg919l1QgAAIKza2XVCAAAIG97ZdUIAAPCJ4dl1QgAA2Pjk2XVCAADAZ+jZdUIAAKjW69l1QgAAkEXv2XVCAAB4tPLZdUIAAGAj9tl1QgAASJL52XVCAAAwAf3ZdUIAABhwANp1QgAAAN8D2nVCAADoTQfadUIAANC8Ctp1QgAAuCsO2nVCAACgmhHadUIAAIgJFdp1QgAAcHgY2nVCAABY5xvadUIAAEBWH9p1QgAAKMUi2nVCAAAQNCbadUIAAPiiKdp1QgAA4BEt2nVCAADIgDDadUIAALDvM9p1QgAAmF432nVCAACAzTradUIAAGg8Ptp1QgAAUKtB2nVCAAA4GkXadUIAACCJSNp1QgAACPhL2nVCAADwZk/adUIAANjVUtp1QgAAwERW2nVCAACos1nadUIAAJAiXdp1QgAAeJFg2nVCAABgAGTadUIAAEhvZ9p1QgAAMN5q2nVCAAAYTW7adUIAAAC8cdp1QgAA6Cp12nVCAADQmXjadUIAALgIfNp1QgAAoHd/2nVCAACI5oLadUIAAHBVhtp1QgAAWMSJ2nVCAABAM43adUIAACiikNp1QgAAEBGU2nVCAAD4f5fadUIAAODumtp1QgAAyF2e2nVCAACwzKHadUIAAJg7pdp1QgAAgKqo2nVCAABoGazadUIAAFCIr9p1QgAAOPey2nVCAAAgZrbadUIAAAjVudp1QgAA8EO92nVCAADYssDadUIAAMAhxNp1QgAAqJDH2nVCAACQ/8radUIAAHhuztp1QgAAYN3R2nVCAABITNXadUIAADC72Np1QgAAGCrc2nVCAAAAmd/adUIAAOgH49p1QgAA0Hbm2nVCAAC45enadUIAAKBU7dp1QgAAiMPw2nVCAABwMvTadUIAAFih99p1QgAAQBD72nVCAAAof/7adUIAABDuAdt1QgAA+FwF23VCAADgywjbdUIAAMg6DNt1QgAAsKkP23VCAACYGBPbdUIAAICHFtt1QgAAaPYZ23VCAABQZR3bdUIAADjUINt1QgAAIEMk23VCAAAIsifbdUIAAPAgK9t1QgAA2I8u23VCAADA/jHbdUIAAKhtNdt1QgAAkNw423VCAAB4SzzbdUIAAGC6P9t1QgAASClD23VCAAAwmEbbdUIAABgHStt1QgAAAHZN23VCAADo5FDbdUIAANBTVNt1QgAAuMJX23VCAACgMVvbdUIAAIigXtt1QgAAcA9i23VCAABYfmXbdUIAAEDtaNt1QgAAKFxs23VCAAAQy2/bdUIAAPg5c9t1QgAA4Kh223VCAADIF3rbdUIAALCGfdt1QgAAmPWA23VCAACAZITbdUIAAGjTh9t1QgAAUEKL23VCAAA4sY7bdUIAACAgktt1QgAACI+V23VCAADw/ZjbdUIAANhsnNt1QgAAwNuf23VCAACoSqPbdUIAAJC5ptt1QgAAeCiq23VCAABgl63bdUIAAEgGsdt1QgAAMHW023VCAAAY5LfbdUIAAABTu9t1QgAA6MG+23VCAADQMMLbdUIAALifxdt1QgAAoA7J23VCAACIfczbdUIAAHDsz9t1QgAAWFvT23VCAABAytbbdUIAACg52tt1QgAAEKjd23VCAAD4FuHbdUIAAOCF5Nt1QgAAyPTn23VCAACwY+vbdUIAAJjS7tt1QgAAgEHy23VCAABosPXbdUIAAFAf+dt1QgAAOI7823VCAAAg/f/bdUIAAAhsA9x1QgAA8NoG3HVCAADYSQrcdUIAAMC4Ddx1QgAAqCcR3HVCAACQlhTcdUIAAHgFGNx1QgAAYHQb3HVCAABI4x7cdUIAADBSItx1QgAAGMEl3HVCAAAAMCncdUIAAOieLNx1QgAA0A0w3HVCAAC4fDPcdUIAAKDrNtx1QgAAiFo63HVCAABwyT3cdUIAAFg4Qdx1QgAAQKdE3HVCAAAoFkjcdUIAABCFS9x1QgAA+PNO3HVCAADgYlLcdUIAAMjRVdx1QgAAsEBZ3HVCAACYr1zcdUIAAIAeYNx1QgAAaI1j3HVCAABQ/GbcdUIAADhratx1QgAAINpt3HVCAAAISXHcdUIAAPC3dNx1QgAA2CZ43HVCAADAlXvcdUIAAKgEf9x1QgAAkHOC3HVCAAB44oXcdUIAAGBRidx1QgAASMCM3HVCAAAwL5DcdUIAABiek9x1QgAAAA2X3HVCAADoe5rcdUIAANDqndx1QgAAuFmh3HVCAACgyKTcdUIAAIg3qNx1QgAAcKar3HVCAABYFa/cdUIAAECEstx1QgAAKPO13HVCAAAQYrncdUIAAPjQvNx1QgAA4D/A3HVCAADIrsPcdUIAALAdx9x1QgAAmIzK3HVCAACA+83cdUIAAGhq0dx1QgAAUNnU3HVCAAA4SNjcdUIAACC329x1QgAACCbf3HVCAADwlOLcdUIAANgD5tx1QgAAwHLp3HVCAACo4ezcdUIAAJBQ8Nx1QgAAeL/z3HVCAABgLvfcdUIAAEid+tx1QgAAMAz+3HVCAAAYewHddUIAAADqBN11QgAA6FgI3XVCAADQxwvddUIAALg2D911QgAAoKUS3XVCAACIFBbddUIAAHCDGd11QgAAWPIc3XVCAABAYSDddUIAACjQI911QgAAED8n3XVCAAD4rSrddUIAAOAcLt11QgAAyIsx3XVCAACw+jTddUIAAJhpON11QgAAgNg73XVCAABoRz/ddUIAAFC2Qt11QgAAOCVG3XVCAAAglEnddUIAAAgDTd11QgAA8HFQ3XVCAADY4FPddUIAAMBPV911QgAAqL5a3XVCAACQLV7ddUIAAHicYd11QgAAYAtl3XVCAABIemjddUIAADDpa911QgAAGFhv3XVCAAAAx3LddUIAAOg1dt11QgAA0KR53XVCAAC4E33ddUIAAKCCgN11QgAAiPGD3XVCAABwYIfddUIAAFjPit11QgAAQD6O3XVCAAAorZHddUIAABAcld11QgAA+IqY3XVCAADg+ZvddUIAAMhon911QgAAsNei3XVCAACYRqbddUIAAIC1qd11QgAAaCSt3XVCAABQk7DddUIAADgCtN11QgAAIHG33XVCAAAI4LrddUIAAPBOvt11QgAA2L3B3XVCAADALMXddUIAAKibyN11QgAAkArM3XVCAAB4ec/ddUIAAGDo0t11QgAASFfW3XVCAAAwxtnddUIAABg13d11QgAAAKTg3XVCAADoEuTddUIAANCB5911QgAAuPDq3XVCAACgX+7ddUIAAIjO8d11QgAAcD313XVCAABYrPjddUIAAEAb/N11QgAAKIr/3XVCAAAQ+QLedUIAAPhnBt51QgAA4NYJ3nVCAADIRQ3edUIAALC0EN51QgAAmCMU3nVCAACAkhfedUIAAGgBG951QgAAUHAe3nVCAAA43yHedUIAACBOJd51QgAACL0o3nVCAADwKyzedUIAANiaL951QgAAwAkz3nVCAACoeDbedUIAAJDnOd51QgAAeFY93nVCAABgxUDedUIAAEg0RN51QgAAMKNH3nVCAAAYEkvedUIAAACBTt51QgAA6O9R3nVCAADQXlXedUIAALjNWN51QgAAoDxc3nVCAACIq1/edUIAAHAaY951QgAAWIlm3nVCAABA+GnedUIAAChnbd51QgAAENZw3nVCAAD4RHTedUIAAOCzd951QgAAyCJ73nVCAACwkX7edUIAAJgAgt51QgAAgG+F3nVCAABo3ojedUIAAFBNjN51QgAAOLyP3nVCAAAgK5PedUIAAAialt51QgAA8Aia3nVCAADYd53edUIAAMDmoN51QgAAqFWk3nVCAACQxKfedUIAAHgzq951QgAAYKKu3nVCAABIEbLedUIAADCAtd51QgAAGO+43nVCAAAAXrzedUIAAOjMv951QgAA0DvD3nVCAAC4qsbedUIAAKAZyt51QgAAiIjN3nVCAABw99DedUIAAFhm1N51QgAAQNXX3nVCAAAoRNvedUIAABCz3t51QgAA+CHi3nVCAADgkOXedUIAAMj/6N51QgAAsG7s3nVCAACY3e/edUIAAIBM8951QgAAaLv23nVCAABQKvredUIAADiZ/d51QgAAIAgB33VCAAAIdwTfdUIAAPDlB991QgAA2FQL33VCAADAww7fdUIAAKgyEt91QgAAkKEV33VCAAB4EBnfdUIAAGB/HN91QgAASO4f33VCAAAwXSPfdUIAABjMJt91QgAAADsq33VCAADoqS3fdUIAANAYMd91QgAAuIc033VCAACg9jffdUIAAIhlO991QgAAcNQ+33VCAABYQ0LfdUIAAECyRd91QgAAKCFJ33VCAAAQkEzfdUIAAPj+T991QgAA4G1T33VCAADI3FbfdUIAALBLWt91QgAAmLpd33VCAACAKWHfdUIAAGiYZN91QgAAUAdo33VCAAA4dmvfdUIAACDlbt91QgAACFRy33VCAADwwnXfdUIAANgxed91QgAAwKB833VCAACoD4DfdUIAAJB+g991QgAAeO2G33VCAABgXIrfdUIAAEjLjd91QgAAMDqR33VCAAAYqZTfdUIAAAAYmN91QgAA6Iab33VCAADQ9Z7fdUIAALhkot91QgAAoNOl33VCAACIQqnfdUIAAHCxrN91QgAAWCCw33VCAABAj7PfdUIAACj+tt91QgAAEG2633VCAAD4273fdUIAAOBKwd91QgAAyLnE33VCAACwKMjfdUIAAJiXy991QgAAgAbP33VCAABoddLfdUIAAFDk1d91QgAAOFPZ33VCAAAgwtzfdUIAAAgx4N91QgAA8J/j33VCAADYDuffdUIAAMB96t91QgAAqOzt33VCAACQW/HfdUIAAHjK9N91QgAAYDn433VCAABIqPvfdUIAADAX/991QgAAGIYC4HVCAAAA9QXgdUIAAOhjCeB1QgAA0NIM4HVCAAC4QRDgdUIAAKCwE+B1QgAAiB8X4HVCAABwjhrgdUIAAFj9HeB1QgAAQGwh4HVCAAAo2yTgdUIAABBKKOB1QgAA+Lgr4HVCAADgJy/gdUIAAMiWMuB1QgAAsAU24HVCAACYdDngdUIAAIDjPOB1QgAAaFJA4HVCAABQwUPgdUIAADgwR+B1QgAAIJ9K4HVCAAAIDk7gdUIAAPB8UeB1QgAA2OtU4HVCAADAWljgdUIAAKjJW+B1QgAAkDhf4HVCAAB4p2LgdUIAAGAWZuB1QgAASIVp4HVCAAAw9GzgdUIAABhjcOB1QgAAANJz4HVCAADoQHfgdUIAANCveuB1QgAAuB5+4HVCAACgjYHgdUIAAIj8hOB1QgAAcGuI4HVCAABY2ovgdUIAAEBJj+B1QgAAKLiS4HVCAAAQJ5bgdUIAAPiVmeB1QgAA4ASd4HVCAADIc6DgdUIAALDio+B1QgAAmFGn4HVCAACAwKrgdUIAAGgvruB1QgAAUJ6x4HVCAAA4DbXgdUIAACB8uOB1QgAACOu74HVCAADwWb/gdUIAANjIwuB1QgAAwDfG4HVCAACopsngdUIAAJAVzeB1QgAAeITQ4HVCAABg89PgdUIAAEhi1+B1QgAAMNHa4HVCAAAYQN7gdUIAAACv4eB1QgAA6B3l4HVCAADQjOjgdUIAALj76+B1QgAAoGrv4HVCAACI2fLgdUIAAHBI9uB1QgAAWLf54HVCAABAJv3gdUIAACiVAOF1QgAAEAQE4XVCAAD4cgfhdUIAAODhCuF1QgAAyFAO4XVCAACwvxHhdUIAAJguFeF1QgAAgJ0Y4XVCAABoDBzhdUIAAFB7H+F1QgAAOOoi4XVCAAAgWSbhdUIAAAjIKeF1QgAA8DYt4XVCAADYpTDhdUIAAMAUNOF1QgAAqIM34XVCAACQ8jrhdUIAAHhhPuF1QgAAYNBB4XVCAABIP0XhdUIAADCuSOF1QgAAGB1M4XVCAAAAjE/hdUIAAOj6UuF1QgAA0GlW4XVCAAC42FnhdUIAAKBHXeF1QgAAiLZg4XVCAABwJWThdUIAAFiUZ+F1QgAAQANr4XVCAAAocm7hdUIAABDhceF1QgAA+E914XVCAADgvnjhdUIAAMgtfOF1QgAAsJx/4XVCAACYC4PhdUIAAIB6huF1QgAAaOmJ4XVCAABQWI3hdUIAADjHkOF1QgAAIDaU4XVCAAAIpZfhdUIAAPATm+F1QgAA2IKe4XVCAADA8aHhdUIAAKhgpeF1QgAAkM+o4XVCAAB4PqzhdUIAAGCtr+F1QgAASByz4XVCAAAwi7bhdUIAABj6ueF1QgAAAGm94XVCAADo18DhdUIAANBGxOF1QgAAuLXH4XVCAACgJMvhdUIAAIiTzuF1QgAAcALS4XVCAABYcdXhdUIAAEDg2OF1QgAAKE/c4XVCAAAQvt/hdUIAAPgs4+F1QgAA4Jvm4XVCAADICurhdUIAALB57eF1QgAAmOjw4XVCAACAV/ThdUIAAGjG9+F1QgAAUDX74XVCAAA4pP7hdUIAACATAuJ1QgAACIIF4nVCAADw8AjidUIAANhfDOJ1QgAAwM4P4nVCAACoPRPidUIAAJCsFuJ1QgAAeBsa4nVCAABgih3idUIAAEj5IOJ1QgAAMGgk4nVCAAAY1yfidUIAAABGK+J1QgAA6LQu4nVCAADQIzLidUIAALiSNeJ1QgAAoAE54nVCAACIcDzidUIAAHDfP+J1QgAAWE5D4nVCAABAvUbidUIAACgsSuJ1QgAAEJtN4nVCAAD4CVHidUIAAOB4VOJ1QgAAyOdX4nVCAACwVlvidUIAAJjFXuJ1QgAAgDRi4nVCAABoo2XidUIAAFASaeJ1QgAAOIFs4nVCAAAg8G/idUIAAAhfc+J1QgAA8M124nVCAADYPHridUIAAMCrfeJ1QgAAqBqB4nVCAACQiYTidUIAAHj4h+J1QgAAYGeL4nVCAABI1o7idUIAADBFkuJ1QgAAGLSV4nVCAAAAI5nidUIAAOiRnOJ1QgAA0ACg4nVCAAC4b6PidUIAAKDepuJ1QgAAiE2q4nVCAABwvK3idUIAAFgrseJ1QgAAQJq04nVCAAAoCbjidUIAABB4u+J1QgAA+Oa+4nVCAADgVcLidUIAAMjExeJ1QgAAsDPJ4nVCAACYoszidUIAAIAR0OJ1QgAAaIDT4nVCAABQ79bidUIAADhe2uJ1QgAAIM3d4nVCAAAIPOHidUIAAPCq5OJ1QgAA2Bno4nVCAADAiOvidUIAAKj37uJ1QgAAkGby4nVCAAB41fXidUIAAGBE+eJ1QgAASLP84nVCAAAwIgDjdUIAABiRA+N1QgAAAAAH43VCAADobgrjdUIAANDdDeN1QgAAuEwR43VCAACguxTjdUIAAIgqGON1QgAAcJkb43VCAABYCB/jdUIAAEB3IuN1QgAAKOYl43VCAAAQVSnjdUIAAPjDLON1QgAA4DIw43VCAADIoTPjdUIAALAQN+N1QgAAmH8643VCAACA7j3jdUIAAGhdQeN1QgAAUMxE43VCAAA4O0jjdUIAACCqS+N1QgAACBlP43VCAADwh1LjdUIAANj2VeN1QgAAwGVZ43VCAACo1FzjdUIAAJBDYON1QgAAeLJj43VCAABgIWfjdUIAAEiQauN1QgAAMP9t43VCAAAYbnHjdUIAAADddON1QgAA6Et443VCAADQunvjdUIAALgpf+N1QgAAoJiC43VCAACIB4bjdUIAAHB2ieN1QgAAWOWM43VCAABAVJDjdUIAACjDk+N1QgAAEDKX43VCAAD4oJrjdUIAAOAPnuN1QgAAyH6h43VCAACw7aTjdUIAAJhcqON1QgAAgMur43VCAABoOq/jdUIAAFCpsuN1QgAAOBi243VCAAAgh7njdUIAAAj2vON1QgAA8GTA43VCAADY08PjdUIAAMBCx+N1QgAAqLHK43VCAACQIM7jdUIAAHiP0eN1QgAAYP7U43VCAABIbdjjdUIAADDc2+N1QgAAGEvf43VCAAAAuuLjdUIAAOgo5uN1QgAA0Jfp43VCAAC4Bu3jdUIAAKB18ON1QgAAiOTz43VCAABwU/fjdUIAAFjC+uN1QgAAQDH+43VCAAAooAHkdUIAABAPBeR1QgAA+H0I5HVCAADg7AvkdUIAAMhbD+R1QgAAsMoS5HVCAACYORbkdUIAAICoGeR1QgAAaBcd5HVCAABQhiDkdUIAADj1I+R1QgAAIGQn5HVCAAAI0yrkdUIAAPBBLuR1QgAA2LAx5HVCAADAHzXkdUIAAKiOOOR1QgAAkP075HVCAAB4bD/kdUIAAGDbQuR1QgAASEpG5HVCAAAwuUnkdUIAABgoTeR1QgAAAJdQ5HVCAADoBVTkdUIAANB0V+R1QgAAuONa5HVCAACgUl7kdUIAAIjBYeR1QgAAcDBl5HVCAABYn2jkdUIAAEAObOR1QgAAKH1v5HVCAAAQ7HLkdUIAAPhaduR1QgAA4Ml55HVCAADIOH3kdUIAALCngOR1QgAAmBaE5HVCAACAhYfkdUIAAGj0iuR1QgAAUGOO5HVCAAA40pHkdUIAACBBleR1QgAACLCY5HVCAADwHpzkdUIAANiNn+R1QgAAwPyi5HVCAACoa6bkdUIAAJDaqeR1QgAAeEmt5HVCAABguLDkdUIAAEgntOR1QgAAMJa35HVCAAAYBbvkdUIAAAB0vuR1QgAA6OLB5HVCAADQUcXkdUIAALjAyOR1QgAAoC/M5HVCAACIns/kdUIAAHAN0+R1QgAAWHzW5HVCAABA69nkdUIAACha3eR1QgAAEMng5HVCAAD4N+TkdUIAAOCm5+R1QgAAyBXr5HVCAACwhO7kdUIAAJjz8eR1QgAAgGL15HVCAABo0fjkdUIAAFBA/OR1QgAAOK//5HVCAAAgHgPldUIAAAiNBuV1QgAA8PsJ5XVCAADYag3ldUIAAMDZEOV1QgAAqEgU5XVCAACQtxfldUIAAHgmG+V1QgAAYJUe5XVCAABIBCLldUIAADBzJeV1QgAAGOIo5XVCAAAAUSzldUIAAOi/L+V1QgAA0C4z5XVCAAC4nTbldUIAAKAMOuV1QgAAiHs95XVCAABw6kDldUIAAFhZROV1QgAAQMhH5XVCAAAoN0vldUIAABCmTuV1QgAA+BRS5XVCAADgg1XldUIAAMjyWOV1QgAAsGFc5XVCAACY0F/ldUIAAIA/Y+V1QgAAaK5m5XVCAABQHWrldUIAADiMbeV1QgAAIPtw5XVCAAAIanTldUIAAPDYd+V1QgAA2Ed75XVCAADAtn7ldUIAAKglguV1QgAAkJSF5XVCAAB4A4nldUIAAGByjOV1QgAASOGP5XVCAAAwUJPldUIAABi/luV1QgAAAC6a5XVCAADonJ3ldUIAANALoeV1QgAAuHqk5XVCAACg6afldUIAAIhYq+V1QgAAcMeu5XVCAABYNrLldUIAAEClteV1QgAAKBS55XVCAAAQg7zldUIAAPjxv+V1QgAA4GDD5XVCAADIz8bldUIAALA+yuV1QgAAmK3N5XVCAACAHNHldUIAAGiL1OV1QgAAUPrX5XVCAAA4advldUIAACDY3uV1QgAACEfi5XVCAADwteXldUIAANgk6eV1QgAAwJPs5XVCAACoAvDldUIAAJBx8+V1QgAAeOD25XVCAABgT/rldUIAAEi+/eV1QgAAMC0B5nVCAAAYnATmdUIAAAALCOZ1QgAA6HkL5nVCAADQ6A7mdUIAALhXEuZ1QgAAoMYV5nVCAACINRnmdUIAAHCkHOZ1QgAAWBMg5nVCAABAgiPmdUIAACjxJuZ1QgAAEGAq5nVCAAD4zi3mdUIAAOA9MeZ1QgAAyKw05nVCAACwGzjmdUIAAJiKO+Z1QgAAgPk+5nVCAABoaELmdUIAAFDXReZ1QgAAOEZJ5nVCAAAgtUzmdUIAAAgkUOZ1QgAA8JJT5nVCAADYAVfmdUIAAMBwWuZ1QgAAqN9d5nVCAACQTmHmdUIAAHi9ZOZ1QgAAYCxo5nVCAABIm2vmdUIAADAKb+Z1QgAAGHly5nVCAAAA6HXmdUIAAOhWeeZ1QgAA0MV85nVCAAC4NIDmdUIAAKCjg+Z1QgAAiBKH5nVCAABwgYrmdUIAAFjwjeZ1QgAAQF+R5nVCAAAozpTmdUIAABA9mOZ1QgAA+Kub5nVCAADgGp/mdUIAAMiJouZ1QgAAsPil5nVCAACYZ6nmdUIAAIDWrOZ1QgAAaEWw5nVCAABQtLPmdUIAADgjt+Z1QgAAIJK65nVCAAAIAb7mdUIAAPBvweZ1QgAA2N7E5nVCAADATcjmdUIAAKi8y+Z1QgAAkCvP5nVCAAB4mtLmdUIAAGAJ1uZ1QgAASHjZ5nVCAAAw59zmdUIAABhW4OZ1QgAAAMXj5nVCAADoM+fmdUIAANCi6uZ1QgAAuBHu5nVCAACggPHmdUIAAIjv9OZ1QgAAcF745nVCAABYzfvmdUIAAEA8/+Z1QgAAKKsC53VCAAAQGgbndUIAAPiICed1QgAA4PcM53VCAADIZhDndUIAALDVE+d1QgAAmEQX53VCAACAsxrndUIAAGgiHud1QgAAUJEh53VCAAA4ACXndUIAACBvKOd1QgAACN4r53VCAADwTC/ndUIAANi7Mud1QgAAwCo253VCAAComTnndUIAAJAIPed1QgAAeHdA53VCAABg5kPndUIAAEhVR+d1QgAAMMRK53VCAAAYM07ndUIAAACiUed1QgAA6BBV53VCAADQf1jndUIAALjuW+d1QgAAoF1f53VCAACIzGLndUIAAHA7Zud1QgAAWKpp53VCAABAGW3ndUIAACiIcOd1QgAAEPdz53VCAAD4ZXfndUIAAODUeud1QgAAyEN+53VCAACwsoHndUIAAJghhed1QgAAgJCI53VCAABo/4vndUIAAFBuj+d1QgAAON2S53VCAAAgTJbndUIAAAi7med1QgAA8Cmd53VCAADYmKDndUIAAMAHpOd1QgAAqHan53VCAACQ5arndUIAAHhUrud1QgAAYMOx53VCAABIMrXndUIAADChuOd1QgAAGBC853VCAAAAf7/ndUIAAOjtwud1QgAA0FzG53VCAAC4y8nndUIAAKA6zed1QgAAiKnQ53VCAABwGNTndUIAAFiH1+d1QgAAQPba53VCAAAoZd7ndUIAABDU4ed1QgAA+ELl53VCAADgsejndUIAAMgg7Od1QgAAsI/v53VCAACY/vLndUIAAIBt9ud1QgAAaNz553VCAABQS/3ndUIAADi6AOh1QgAAICkE6HVCAAAImAfodUIAAPAGC+h1QgAA2HUO6HVCAADA5BHodUIAAKhTFeh1QgAAkMIY6HVCAAB4MRzodUIAAGCgH+h1QgAASA8j6HVCAAAwfibodUIAABjtKeh1QgAAAFwt6HVCAADoyjDodUIAANA5NOh1QgAAuKg36HVCAACgFzvodUIAAIiGPuh1QgAAcPVB6HVCAABYZEXodUIAAEDTSOh1QgAAKEJM6HVCAAAQsU/odUIAAPgfU+h1QgAA4I5W6HVCAADI/VnodUIAALBsXeh1QgAAmNtg6HVCAACASmTodUIAAGi5Z+h1QgAAUChr6HVCAAA4l27odUIAACAGcuh1QgAACHV16HVCAADw43jodUIAANhSfOh1QgAAwMF/6HVCAACoMIPodUIAAJCfhuh1QgAAeA6K6HVCAABgfY3odUIAAEjskOh1QgAAMFuU6HVCAAAYypfodUIAAAA5m+h1QgAA6Kee6HVCAADQFqLodUIAALiFpeh1QgAAoPSo6HVCAACIY6zodUIAAHDSr+h1QgAAWEGz6HVCAABAsLbodUIAACgfuuh1QgAAEI696HVCAAD4/MDodUIAAOBrxOh1QgAAyNrH6HVCAACwScvodUIAAJi4zuh1QgAAgCfS6HVCAABoltXodUIAAFAF2eh1QgAAOHTc6HVCAAAg49/odUIAAAhS4+h1QgAA8MDm6HVCAADYL+rodUIAAMCe7eh1QgAAqA3x6HVCAACQfPTodUIAAHjr9+h1QgAAYFr76HVCAABIyf7odUIAADA4Aul1QgAAGKcF6XVCAAAAFgnpdUIAAOiEDOl1QgAA0PMP6XVCAAC4YhPpdUIAAKDRFul1QgAAiEAa6XVCAABwrx3pdUIAAFgeIel1QgAAQI0k6XVCAAAo/CfpdUIAABBrK+l1QgAA+Nku6XVCAADgSDLpdUIAAMi3Nel1QgAAsCY56XVCAACYlTzpdUIAAIAEQOl1QgAAaHND6XVCAABQ4kbpdUIAADhRSul1QgAAIMBN6XVCAAAIL1HpdUIAAPCdVOl1QgAA2AxY6XVCAADAe1vpdUIAAKjqXul1QgAAkFli6XVCAAB4yGXpdUIAAGA3ael1QgAASKZs6XVCAAAwFXDpdUIAABiEc+l1QgAAAPN26XVCAADoYXrpdUIAANDQfel1QgAAuD+B6XVCAACgroTpdUIAAIgdiOl1QgAAcIyL6XVCAABY+47pdUIAAEBqkul1QgAAKNmV6XVCAAAQSJnpdUIAAPi2nOl1QgAA4CWg6XVCAADIlKPpdUIAALADp+l1QgAAmHKq6XVCAACA4a3pdUIAAGhQsel1QgAAUL+06XVCAAA4LrjpdUIAACCdu+l1QgAACAy/6XVCAADwesLpdUIAANjpxel1QgAAwFjJ6XVCAACox8zpdUIAAJA20Ol1QgAAeKXT6XVCAABgFNfpdUIAAEiD2ul1QgAAMPLd6XVCAAAYYeHpdUIAAADQ5Ol1QgAA6D7o6XVCAADQrevpdUIAALgc7+l1QgAAoIvy6XVCAACI+vXpdUIAAHBp+el1QgAAWNj86XVCAABARwDqdUIAACi2A+p1QgAAECUH6nVCAAD4kwrqdUIAAOACDup1QgAAyHER6nVCAACw4BTqdUIAAJhPGOp1QgAAgL4b6nVCAABoLR/qdUIAAFCcIup1QgAAOAsm6nVCAAAgeinqdUIAAAjpLOp1QgAA8Fcw6nVCAADYxjPqdUIAAMA1N+p1QgAAqKQ66nVCAACQEz7qdUIAAHiCQep1QgAAYPFE6nVCAABIYEjqdUIAADDPS+p1QgAAGD5P6nVCAAAArVLqdUIAAOgbVup1QgAA0IpZ6nVCAAC4+VzqdUIAAKBoYOp1QgAAiNdj6nVCAABwRmfqdUIAAFi1aup1QgAAQCRu6nVCAAAok3HqdUIAABACdep1QgAA+HB46nVCAADg33vqdUIAAMhOf+p1QgAAsL2C6nVCAACYLIbqdUIAAICbiep1QgAAaAqN6nVCAABQeZDqdUIAADjok+p1QgAAIFeX6nVCAAAIxprqdUIAAPA0nup1QgAA2KOh6nVCAADAEqXqdUIAAKiBqOp1QgAAkPCr6nVCAAB4X6/qdUIAAGDOsup1QgAASD226nVCAAAwrLnqdUIAABgbvep1QgAAAIrA6nVCAADo+MPqdUIAANBnx+p1QgAAuNbK6nVCAACgRc7qdUIAAIi00ep1QgAAcCPV6nVCAABYktjqdUIAAEAB3Op1QgAAKHDf6nVCAAAQ3+LqdUIAAPhN5up1QgAA4Lzp6nVCAADIK+3qdUIAALCa8Op1QgAAmAn06nVCAACAePfqdUIAAGjn+up1QgAAUFb+6nVCAAA4xQHrdUIAACA0Bet1QgAACKMI63VCAADwEQzrdUIAANiAD+t1QgAAwO8S63VCAACoXhbrdUIAAJDNGet1QgAAeDwd63VCAABgqyDrdUIAAEgaJOt1QgAAMIkn63VCAAAY+CrrdUIAAABnLut1QgAA6NUx63VCAADQRDXrdUIAALizOOt1QgAAoCI863VCAACIkT/rdUIAAHAAQ+t1QgAAWG9G63VCAABA3knrdUIAAChNTet1QgAAELxQ63VCAAD4KlTrdUIAAOCZV+t1QgAAyAhb63VCAACwd17rdUIAAJjmYet1QgAAgFVl63VCAABoxGjrdUIAAFAzbOt1QgAAOKJv63VCAAAgEXPrdUIAAAiAdut1QgAA8O5563VCAADYXX3rdUIAAMDMgOt1QgAAqDuE63VCAACQqofrdUIAAHgZi+t1QgAAYIiO63VCAABI95HrdUIAADBmlet1QgAAGNWY63VCAAAARJzrdUIAAOiyn+t1QgAA0CGj63VCAAC4kKbrdUIAAKD/qet1QgAAiG6t63VCAABw3bDrdUIAAFhMtOt1QgAAQLu363VCAAAoKrvrdUIAABCZvut1QgAA+AfC63VCAADgdsXrdUIAAMjlyOt1QgAAsFTM63VCAACYw8/rdUIAAIAy0+t1QgAAaKHW63VCAABQENrrdUIAADh/3et1QgAAIO7g63VCAAAIXeTrdUIAAPDL5+t1QgAA2Drr63VCAADAqe7rdUIAAKgY8ut1QgAAkIf163VCAAB49vjrdUIAAGBl/Ot1QgAASNT/63VCAAAwQwPsdUIAABiyBux1QgAAACEK7HVCAADojw3sdUIAAND+EOx1QgAAuG0U7HVCAACg3BfsdUIAAIhLG+x1QgAAcLoe7HVCAABYKSLsdUIAAECYJex1QgAAKAcp7HVCAAAQdizsdUIAAPjkL+x1QgAA4FMz7HVCAADIwjbsdUIAALAxOux1QgAAmKA97HVCAACAD0HsdUIAAGh+ROx1QgAAUO1H7HVCAAA4XEvsdUIAACDLTux1QgAACDpS7HVCAADwqFXsdUIAANgXWex1QgAAwIZc7HVCAACo9V/sdUIAAJBkY+x1QgAAeNNm7HVCAABgQmrsdUIAAEixbex1QgAAMCBx7HVCAAAYj3TsdUIAAAD+d+x1QgAA6Gx77HVCAADQ237sdUIAALhKgux1QgAAoLmF7HVCAACIKInsdUIAAHCXjOx1QgAAWAaQ7HVCAABAdZPsdUIAACjklux1QgAAEFOa7HVCAAD4wZ3sdUIAAOAwoex1QgAAyJ+k7HVCAACwDqjsdUIAAJh9q+x1QgAAgOyu7HVCAABoW7LsdUIAAFDKtex1QgAAODm57HVCAAAgqLzsdUIAAAgXwOx1QgAA8IXD7HVCAADY9MbsdUIAAMBjyux1QgAAqNLN7HVCAACQQdHsdUIAAHiw1Ox1QgAAYB/Y7HVCAABIjtvsdUIAADD93ux1QgAAGGzi7HVCAAAA2+XsdUIAAOhJ6ex1QgAA0Ljs7HVCAAC4J/DsdUIAAKCW8+x1QgAAiAX37HVCAABwdPrsdUIAAFjj/ex1QgAAQFIB7XVCAAAowQTtdUIAABAwCO11QgAA+J4L7XVCAADgDQ/tdUIAAMh8Eu11QgAAsOsV7XVCAACYWhntdUIAAIDJHO11QgAAaDgg7XVCAABQpyPtdUIAADgWJ+11QgAAIIUq7XVCAAAI9C3tdUIAAPBiMe11QgAA2NE07XVCAADAQDjtdUIAAKivO+11QgAAkB4/7XVCAAB4jULtdUIAAGD8Re11QgAASGtJ7XVCAAAw2kztdUIAABhJUO11QgAAALhT7XVCAADoJlftdUIAANCVWu11QgAAuARe7XVCAACgc2HtdUIAAIjiZO11QgAAcFFo7XVCAABYwGvtdUIAAEAvb+11QgAAKJ5y7XVCAAAQDXbtdUIAAPh7ee11QgAA4Op87XVCAADIWYDtdUIAALDIg+11QgAAmDeH7XVCAACAportdUIAAGgVju11QgAAUISR7XVCAAA485TtdUIAACBimO11QgAACNGb7XVCAADwP5/tdUIAANiuou11QgAAwB2m7XVCAACojKntdUIAAJD7rO11QgAAeGqw7XVCAABg2bPtdUIAAEhIt+11QgAAMLe67XVCAAAYJr7tdUIAAACVwe11QgAA6APF7XVCAADQcsjtdUIAALjhy+11QgAAoFDP7XVCAACIv9LtdUIAAHAu1u11QgAAWJ3Z7XVCAABADN3tdUIAACh74O11QgAAEOrj7XVCAAD4WOftdUIAAODH6u11QgAAyDbu7XVCAACwpfHtdUIAAJgU9e11QgAAgIP47XVCAABo8vvtdUIAAFBh/+11QgAAONAC7nVCAAAgPwbudUIAAAiuCe51QgAA8BwN7nVCAADYixDudUIAAMD6E+51QgAAqGkX7nVCAACQ2BrudUIAAHhHHu51QgAAYLYh7nVCAABIJSXudUIAADCUKO51QgAAGAMs7nVCAAAAci/udUIAAOjgMu51QgAA0E827nVCAAC4vjnudUIAAKAtPe51QgAAiJxA7nVCAABwC0TudUIAAFh6R+51QgAAQOlK7nVCAAAoWE7udUIAABDHUe51QgAA+DVV7nVCAADgpFjudUIAAMgTXO51QgAAsIJf7nVCAACY8WLudUIAAIBgZu51QgAAaM9p7nVCAABQPm3udUIAADitcO51QgAAIBx07nVCAAAIi3fudUIAAPD5eu51QgAA2Gh+7nVCAADA14HudUIAAKhGhe51QgAAkLWI7nVCAAB4JIzudUIAAGCTj+51QgAASAKT7nVCAAAwcZbudUIAABjgme51QgAAAE+d7nVCAADovaDudUIAANAspO51QgAAuJun7nVCAACgCqvudUIAAIh5ru51QgAAcOix7nVCAABYV7XudUIAAEDGuO51QgAAKDW87nVCAAAQpL/udUIAAPgSw+51QgAA4IHG7nVCAADI8MnudUIAALBfze51QgAAmM7Q7nVCAACAPdTudUIAAGis1+51QgAAUBvb7nVCAAA4it7udUIAACD54e51QgAACGjl7nVCAADw1ujudUIAANhF7O51QgAAwLTv7nVCAACoI/PudUIAAJCS9u51QgAAeAH67nVCAABgcP3udUIAAEjfAO91QgAAME4E73VCAAAYvQfvdUIAAAAsC+91QgAA6JoO73VCAADQCRLvdUIAALh4Fe91QgAAoOcY73VCAACIVhzvdUIAAHDFH+91QgAAWDQj73VCAABAoybvdUIAACgSKu91QgAAEIEt73VCAAD47zDvdUIAAOBeNO91QgAAyM0373VCAACwPDvvdUIAAJirPu91QgAAgBpC73VCAABoiUXvdUIAAFD4SO91QgAAOGdM73VCAAAg1k/vdUIAAAhFU+91QgAA8LNW73VCAADYIlrvdUIAAMCRXe91QgAAqABh73VCAACQb2TvdUIAAHjeZ+91QgAAYE1r73VCAABIvG7vdUIAADArcu91QgAAGJp173VCAAAACXnvdUIAAOh3fO91QgAA0OZ/73VCAAC4VYPvdUIAAKDEhu91QgAAiDOK73VCAABwoo3vdUIAAFgRke91QgAAQICU73VCAAAo75fvdUIAABBem+91QgAA+Mye73VCAADgO6LvdUIAAMiqpe91QgAAsBmp73VCAACYiKzvdUIAAID3r+91QgAAaGaz73VCAABQ1bbvdUIAADhEuu91QgAAILO973VCAAAIIsHvdUIAAPCQxO91QgAA2P/H73VCAADAbsvvdUIAAKjdzu91QgAAkEzS73VCAAB4u9XvdUIAAGAq2e91QgAASJnc73VCAAAwCODvdUIAABh34+91QgAAAObm73VCAADoVOrvdUIAANDD7e91QgAAuDLx73VCAACgofTvdUIAAIgQ+O91QgAAcH/773VCAABY7v7vdUIAAEBdAvB1QgAAKMwF8HVCAAAQOwnwdUIAAPipDPB1QgAA4BgQ8HVCAADIhxPwdUIAALD2FvB1QgAAmGUa8HVCAACA1B3wdUIAAGhDIfB1QgAAULIk8HVCAAA4ISjwdUIAACCQK/B1QgAACP8u8HVCAADwbTLwdUIAANjcNfB1QgAAwEs58HVCAACoujzwdUIAAJApQPB1QgAAeJhD8HVCAABgB0fwdUIAAEh2SvB1QgAAMOVN8HVCAAAYVFHwdUIAAADDVPB1QgAA6DFY8HVCAADQoFvwdUIAALgPX/B1QgAAoH5i8HVCAACI7WXwdUIAAHBcafB1QgAAWMts8HVCAABAOnDwdUIAACipc/B1QgAAEBh38HVCAAD4hnrwdUIAAOD1ffB1QgAAyGSB8HVCAACw04TwdUIAAJhCiPB1QgAAgLGL8HVCAABoII/wdUIAAFCPkvB1QgAAOP6V8HVCAAAgbZnwdUIAAAjcnPB1QgAA8Eqg8HVCAADYuaPwdUIAAMAop/B1QgAAqJeq8HVCAACQBq7wdUIAAHh1sfB1QgAAYOS08HVCAABIU7jwdUIAADDCu/B1QgAAGDG/8HVCAAAAoMLwdUIAAOgOxvB1QgAA0H3J8HVCAAC47MzwdUIAAKBb0PB1QgAAiMrT8HVCAABwOdfwdUIAAFio2vB1QgAAQBfe8HVCAAAohuHwdUIAABD15PB1QgAA+GPo8HVCAADg0uvwdUIAAMhB7/B1QgAAsLDy8HVCAACYH/bwdUIAAICO+fB1QgAAaP388HVCAABQbADxdUIAADjbA/F1QgAAIEoH8XVCAAAIuQrxdUIAAPAnDvF1QgAA2JYR8XVCAADABRXxdUIAAKh0GPF1QgAAkOMb8XVCAAB4Uh/xdUIAAGDBIvF1QgAASDAm8XVCAAAwnynxdUIAABgOLfF1QgAAAH0w8XVCAADo6zPxdUIAANBaN/F1QgAAuMk68XVCAACgOD7xdUIAAIinQfF1QgAAcBZF8XVCAABYhUjxdUIAAED0S/F1QgAAKGNP8XVCAAAQ0lLxdUIAAPhAVvF1QgAA4K9Z8XVCAADIHl3xdUIAALCNYPF1QgAAmPxj8XVCAACAa2fxdUIAAGjaavF1QgAAUElu8XVCAAA4uHHxdUIAACAndfF1QgAACJZ48XVCAADwBHzxdUIAANhzf/F1QgAAwOKC8XVCAACoUYbxdUIAAJDAifF1QgAAeC+N8XVCAABgnpDxdUIAAEgNlPF1QgAAMHyX8XVCAAAY65rxdUIAAABanvF1QgAA6Mih8XVCAADQN6XxdUIAALimqPF1QgAAoBWs8XVCAACIhK/xdUIAAHDzsvF1QgAAWGK28XVCAABA0bnxdUIAAChAvfF1QgAAEK/A8XVCAAD4HcTxdUIAAOCMx/F1QgAAyPvK8XVCAACwas7xdUIAAJjZ0fF1QgAAgEjV8XVCAABot9jxdUIAAFAm3PF1QgAAOJXf8XVCAAAgBOPxdUIAAAhz5vF1QgAA8OHp8XVCAADYUO3xdUIAAMC/8PF1QgAAqC708XVCAACQnffxdUIAAHgM+/F1QgAAYHv+8XVCAABI6gHydUIAADBZBfJ1QgAAGMgI8nVCAAAANwzydUIAAOilD/J1QgAA0BQT8nVCAAC4gxbydUIAAKDyGfJ1QgAAiGEd8nVCAABw0CDydUIAAFg/JPJ1QgAAQK4n8nVCAAAoHSvydUIAABCMLvJ1QgAA+Pox8nVCAADgaTXydUIAAMjYOPJ1QgAAsEc88nVCAACYtj/ydUIAAIAlQ/J1QgAAaJRG8nVCAABQA0rydUIAADhyTfJ1QgAAIOFQ8nVCAAAIUFTydUIAAPC+V/J1QgAA2C1b8nVCAADAnF7ydUIAAKgLYvJ1QgAAkHpl8nVCAAB46WjydUIAAGBYbPJ1QgAASMdv8nVCAAAwNnPydUIAABildvJ1QgAAABR68nVCAADogn3ydUIAANDxgPJ1QgAAuGCE8nVCAACgz4fydUIAAIg+i/J1QgAAcK2O8nVCAABYHJLydUIAAECLlfJ1QgAAKPqY8nVCAAAQaZzydUIAAPjXn/J1QgAA4Eaj8nVCAADItabydUIAALAkqvJ1QgAAmJOt8nVCAACAArHydUIAAGhxtPJ1QgAAUOC38nVCAAA4T7vydUIAACC+vvJ1QgAACC3C8nVCAADwm8XydUIAANgKyfJ1QgAAwHnM8nVCAACo6M/ydUIAAJBX0/J1QgAAeMbW8nVCAABgNdrydUIAAEik3fJ1QgAAMBPh8nVCAAAYguTydUIAAADx5/J1QgAA6F/r8nVCAADQzu7ydUIAALg98vJ1QgAAoKz18nVCAACIG/nydUIAAHCK/PJ1QgAAWPn/8nVCAABAaAPzdUIAACjXBvN1QgAAEEYK83VCAAD4tA3zdUIAAOAjEfN1QgAAyJIU83VCAACwARjzdUIAAJhwG/N1QgAAgN8e83VCAABoTiLzdUIAAFC9JfN1QgAAOCwp83VCAAAgmyzzdUIAAAgKMPN1QgAA8Hgz83VCAADY5zbzdUIAAMBWOvN1QgAAqMU983VCAACQNEHzdUIAAHijRPN1QgAAYBJI83VCAABIgUvzdUIAADDwTvN1QgAAGF9S83VCAAAAzlXzdUIAAOg8WfN1QgAA0Ktc83VCAAC4GmDzdUIAAKCJY/N1QgAAiPhm83VCAABwZ2rzdUIAAFjWbfN1QgAAQEVx83VCAAAotHTzdUIAABAjePN1QgAA+JF783VCAADgAH/zdUIAAMhvgvN1QgAAsN6F83VCAACYTYnzdUIAAIC8jPN1QgAAaCuQ83VCAABQmpPzdUIAADgJl/N1QgAAIHia83VCAAAI553zdUIAAPBVofN1QgAA2MSk83VCAADAM6jzdUIAAKiiq/N1QgAAkBGv83VCAAB4gLLzdUIAAGDvtfN1QgAASF6583VCAAAwzbzzdUIAABg8wPN1QgAAAKvD83VCAADoGcfzdUIAANCIyvN1QgAAuPfN83VCAACgZtHzdUIAAIjV1PN1QgAAcETY83VCAABYs9vzdUIAAEAi3/N1QgAAKJHi83VCAAAQAObzdUIAAPhu6fN1QgAA4N3s83VCAADITPDzdUIAALC78/N1QgAAmCr383VCAACAmfrzdUIAAGgI/vN1QgAAUHcB9HVCAAA45gT0dUIAACBVCPR1QgAACMQL9HVCAADwMg/0dUIAANihEvR1QgAAwBAW9HVCAACofxn0dUIAAJDuHPR1QgAAeF0g9HVCAABgzCP0dUIAAEg7J/R1QgAAMKoq9HVCAAAYGS70dUIAAACIMfR1QgAA6PY09HVCAADQZTj0dUIAALjUO/R1QgAAoEM/9HVCAACIskL0dUIAAHAhRvR1QgAAWJBJ9HVCAABA/0z0dUIAAChuUPR1QgAAEN1T9HVCAAD4S1f0dUIAAOC6WvR1QgAAyCle9HVCAACwmGH0dUIAAJgHZfR1QgAAgHZo9HVCAABo5Wv0dUIAAFBUb/R1QgAAOMNy9HVCAAAgMnb0dUIAAAihefR1QgAA8A999HVCAADYfoD0dUIAAMDtg/R1QgAAqFyH9HVCAACQy4r0dUIAAHg6jvR1QgAAYKmR9HVCAABIGJX0dUIAADCHmPR1QgAAGPab9HVCAAAAZZ/0dUIAAOjTovR1QgAA0EKm9HVCAAC4san0dUIAAKAgrfR1QgAAiI+w9HVCAABw/rP0dUIAAFhtt/R1QgAAQNy69HVCAAAoS770dUIAABC6wfR1QgAA+CjF9HVCAADgl8j0dUIAAMgGzPR1QgAAsHXP9HVCAACY5NL0dUIAAIBT1vR1QgAAaMLZ9HVCAABQMd30dUIAADig4PR1QgAAIA/k9HVCAAAIfuf0dUIAAPDs6vR1QgAA2Fvu9HVCAADAyvH0dUIAAKg59fR1QgAAkKj49HVCAAB4F/z0dUIAAGCG//R1QgAASPUC9XVCAAAwZAb1dUIAABjTCfV1QgAAAEIN9XVCAADosBD1dUIAANAfFPV1QgAAuI4X9XVCAACg/Rr1dUIAAIhsHvV1QgAAcNsh9XVCAABYSiX1dUIAAEC5KPV1QgAAKCgs9XVCAAAQly/1dUIAAPgFM/V1QgAA4HQ29XVCAADI4zn1dUIAALBSPfV1QgAAmMFA9XVCAACAMET1dUIAAGifR/V1QgAAUA5L9XVCAAA4fU71dUIAACDsUfV1QgAACFtV9XVCAADwyVj1dUIAANg4XPV1QgAAwKdf9XVCAACoFmP1dUIAAJCFZvV1QgAAePRp9XVCAABgY231dUIAAEjScPV1QgAAMEF09XVCAAAYsHf1dUIAAAAfe/V1QgAA6I1+9XVCAADQ/IH1dUIAALhrhfV1QgAAoNqI9XVCAACISYz1dUIAAHC4j/V1QgAAWCeT9XVCAABAlpb1dUIAACgFmvV1QgAAEHSd9XVCAAD44qD1dUIAAOBRpPV1QgAAyMCn9XVCAACwL6v1dUIAAJiervV1QgAAgA2y9XVCAABofLX1dUIAAFDruPV1QgAAOFq89XVCAAAgyb/1dUIAAAg4w/V1QgAA8KbG9XVCAADYFcr1dUIAAMCEzfV1QgAAqPPQ9XVCAACQYtT1dUIAAHjR1/V1QgAAYEDb9XVCAABIr971dUIAADAe4vV1QgAAGI3l9XVCAAAA/Oj1dUIAAOhq7PV1QgAA0Nnv9XVCAAC4SPP1dUIAAKC39vV1QgAAiCb69XVCAABwlf31dUIAAFgEAfZ1QgAAQHME9nVCAAAo4gf2dUIAABBRC/Z1QgAA+L8O9nVCAADgLhL2dUIAAMidFfZ1QgAAsAwZ9nVCAACYexz2dUIAAIDqH/Z1QgAAaFkj9nVCAABQyCb2dUIAADg3KvZ1QgAAIKYt9nVCAAAIFTH2dUIAAPCDNPZ1QgAA2PI39nVCAADAYTv2dUIAAKjQPvZ1QgAAkD9C9nVCAAB4rkX2dUIAAGAdSfZ1QgAASIxM9nVCAAAw+0/2dUIAABhqU/Z1QgAAANlW9nVCAADoR1r2dUIAANC2XfZ1QgAAuCVh9nVCAACglGT2dUIAAIgDaPZ1QgAAcHJr9nVCAABY4W72dUIAAEBQcvZ1QgAAKL919nVCAAAQLnn2dUIAAPicfPZ1QgAA4AuA9nVCAADIeoP2dUIAALDphvZ1QgAAmFiK9nVCAACAx432dUIAAGg2kfZ1QgAAUKWU9nVCAAA4FJj2dUIAACCDm/Z1QgAACPKe9nVCAADwYKL2dUIAANjPpfZ1QgAAwD6p9nVCAACoraz2dUIAAJAcsPZ1QgAAeIuz9nVCAABg+rb2dUIAAEhpuvZ1QgAAMNi99nVCAAAYR8H2dUIAAAC2xPZ1QgAA6CTI9nVCAADQk8v2dUIAALgCz/Z1QgAAoHHS9nVCAACI4NX2dUIAAHBP2fZ1QgAAWL7c9nVCAABALeD2dUIAACic4/Z1QgAAEAvn9nVCAAD4eer2dUIAAODo7fZ1QgAAyFfx9nVCAACwxvT2dUIAAJg1+PZ1QgAAgKT79nVCAABoE//2dUIAAFCCAvd1QgAAOPEF93VCAAAgYAn3dUIAAAjPDPd1QgAA8D0Q93VCAADYrBP3dUIAAMAbF/d1QgAAqIoa93VCAACQ+R33dUIAAHhoIfd1QgAAYNck93VCAABIRij3dUIAADC1K/d1QgAAGCQv93VCAAAAkzL3dUIAAOgBNvd1QgAA0HA593VCAAC43zz3dUIAAKBOQPd1QgAAiL1D93VCAABwLEf3dUIAAFibSvd1QgAAQApO93VCAAAoeVH3dUIAABDoVPd1QgAA+FZY93VCAADgxVv3dUIAAMg0X/d1QgAAsKNi93VCAACYEmb3dUIAAICBafd1QgAAaPBs93VCAABQX3D3dUIAADjOc/d1QgAAID1393VCAAAIrHr3dUIAAPAafvd1QgAA2ImB93VCAADA+IT3dUIAAKhniPd1QgAAkNaL93VCAAB4RY/3dUIAAGC0kvd1QgAASCOW93VCAAAwkpn3dUIAABgBnfd1QgAAAHCg93VCAADo3qP3dUIAANBNp/d1QgAAuLyq93VCAACgK673dUIAAIiasfd1QgAAcAm193VCAABYeLj3dUIAAEDnu/d1QgAAKFa/93VCAAAQxcL3dUIAAPgzxvd1QgAA4KLJ93VCAADIEc33dUIAALCA0Pd1QgAAmO/T93VCAACAXtf3dUIAAGjN2vd1QgAAUDze93VCAAA4q+H3dUIAACAa5fd1QgAACIno93VCAADw9+v3dUIAANhm7/d1QgAAwNXy93VCAACoRPb3dUIAAJCz+fd1QgAAeCL993VCAABgkQD4dUIAAEgABPh1QgAAMG8H+HVCAAAY3gr4dUIAAABNDvh1QgAA6LsR+HVCAADQKhX4dUIAALiZGPh1QgAAoAgc+HVCAACIdx/4dUIAAHDmIvh1QgAAWFUm+HVCAABAxCn4dUIAACgzLfh1QgAAEKIw+HVCAAD4EDT4dUIAAOB/N/h1QgAAyO46+HVCAACwXT74dUIAAJjMQfh1QgAAgDtF+HVCAABoqkj4dUIAAFAZTPh1QgAAOIhP+HVCAAAg91L4dUIAAAhmVvh1QgAA8NRZ+HVCAADYQ134dUIAAMCyYPh1QgAAqCFk+HVCAACQkGf4dUIAAHj/avh1QgAAYG5u+HVCAABI3XH4dUIAADBMdfh1QgAAGLt4+HVCAAAAKnz4dUIAAOiYf/h1QgAA0AeD+HVCAAC4dob4dUIAAKDlifh1QgAAiFSN+HVCAABww5D4dUIAAFgylPh1QgAAQKGX+HVCAAAoEJv4dUIAABB/nvh1QgAA+O2h+HVCAADgXKX4dUIAAMjLqPh1QgAAsDqs+HVCAACYqa/4dUIAAIAYs/h1QgAAaIe2+HVCAABQ9rn4dUIAADhlvfh1QgAAINTA+HVCAAAIQ8T4dUIAAPCxx/h1QgAA2CDL+HVCAADAj874dUIAAKj+0fh1QgAAkG3V+HVCAAB43Nj4dUIAAGBL3Ph1QgAASLrf+HVCAAAwKeP4dUIAABiY5vh1QgAAAAfq+HVCAADode34dUIAANDk8Ph1QgAAuFP0+HVCAACgwvf4dUIAAIgx+/h1QgAAcKD++HVCAABYDwL5dUIAAEB+Bfl1QgAAKO0I+XVCAAAQXAz5dUIAAPjKD/l1QgAA4DkT+XVCAADIqBb5dUIAALAXGvl1QgAAmIYd+XVCAACA9SD5dUIAAGhkJPl1QgAAUNMn+XVCAAA4Qiv5dUIAACCxLvl1QgAACCAy+XVCAADwjjX5dUIAANj9OPl1QgAAwGw8+XVCAACo2z/5dUIAAJBKQ/l1QgAAeLlG+XVCAABgKEr5dUIAAEiXTfl1QgAAMAZR+XVCAAAYdVT5dUIAAADkV/l1QgAA6FJb+XVCAADQwV75dUIAALgwYvl1QgAAoJ9l+XVCAACIDmn5dUIAAHB9bPl1QgAAWOxv+XVCAABAW3P5dUIAACjKdvl1QgAAEDl6+XVCAAD4p335dUIAAOAWgfl1QgAAyIWE+XVCAACw9If5dUIAAJhji/l1QgAAgNKO+XVCAABoQZL5dUIAAFCwlfl1QgAAOB+Z+XVCAAAgjpz5dUIAAAj9n/l1QgAA8Guj+XVCAADY2qb5dUIAAMBJqvl1QgAAqLit+XVCAACQJ7H5dUIAAHiWtPl1QgAAYAW4+XVCAABIdLv5dUIAADDjvvl1QgAAGFLC+XVCAAAAwcX5dUIAAOgvyfl1QgAA0J7M+XVCAAC4DdD5dUIAAKB80/l1QgAAiOvW+XVCAABwWtr5dUIAAFjJ3fl1QgAAQDjh+XVCAAAop+T5dUIAABAW6Pl1QgAA+ITr+XVCAADg8+75dUIAAMhi8vl1QgAAsNH1+XVCAACYQPn5dUIAAICv/Pl1QgAAaB4A+nVCAABQjQP6dUIAADj8Bvp1QgAAIGsK+nVCAAAI2g36dUIAAPBIEfp1QgAA2LcU+nVCAADAJhj6dUIAAKiVG/p1QgAAkAQf+nVCAAB4cyL6dUIAAGDiJfp1QgAASFEp+nVCAAAwwCz6dUIAABgvMPp1QgAAAJ4z+nVCAADoDDf6dUIAANB7Ovp1QgAAuOo9+nVCAACgWUH6dUIAAIjIRPp1QgAAcDdI+nVCAABYpkv6dUIAAEAVT/p1QgAAKIRS+nVCAAAQ81X6dUIAAPhhWfp1QgAA4NBc+nVCAADIP2D6dUIAALCuY/p1QgAAmB1n+nVCAACAjGr6dUIAAGj7bfp1QgAAUGpx+nVCAAA42XT6dUIAACBIePp1QgAACLd7+nVCAADwJX/6dUIAANiUgvp1QgAAwAOG+nVCAACocon6dUIAAJDhjPp1QgAAeFCQ+nVCAABgv5P6dUIAAEgul/p1QgAAMJ2a+nVCAAAYDJ76dUIAAAB7ofp1QgAA6Omk+nVCAADQWKj6dUIAALjHq/p1QgAAoDav+nVCAACIpbL6dUIAAHAUtvp1QgAAWIO5+nVCAABA8rz6dUIAAChhwPp1QgAAENDD+nVCAAD4Psf6dUIAAOCtyvp1QgAAyBzO+nVCAACwi9H6dUIAAJj61Pp1QgAAgGnY+nVCAABo2Nv6dUIAAFBH3/p1QgAAOLbi+nVCAAAgJeb6dUIAAAiU6fp1QgAA8ALt+nVCAADYcfD6dUIAAMDg8/p1QgAAqE/3+nVCAACQvvr6dUIAAHgt/vp1QgAAYJwB+3VCAABICwX7dUIAADB6CPt1QgAAGOkL+3VCAAAAWA/7dUIAAOjGEvt1QgAA0DUW+3VCAAC4pBn7dUIAAKATHft1QgAAiIIg+3VCAABw8SP7dUIAAFhgJ/t1QgAAQM8q+3VCAAAoPi77dUIAABCtMft1QgAA+Bs1+3VCAADgijj7dUIAAMj5O/t1QgAAsGg/+3VCAACY10L7dUIAAIBGRvt1QgAAaLVJ+3VCAABQJE37dUIAADiTUPt1QgAAIAJU+3VCAAAIcVf7dUIAAPDfWvt1QgAA2E5e+3VCAADAvWH7dUIAAKgsZft1QgAAkJto+3VCAAB4Cmz7dUIAAGB5b/t1QgAASOhy+3VCAAAwV3b7dUIAABjGeft1QgAAADV9+3VCAADoo4D7dUIAANAShPt1QgAAuIGH+3VCAACg8Ir7dUIAAIhfjvt1QgAAcM6R+3VCAABYPZX7dUIAAECsmPt1QgAAKBuc+3VCAAAQip/7dUIAAPj4ovt1QgAA4Gem+3VCAADI1qn7dUIAALBFrft1QgAAmLSw+3VCAACAI7T7dUIAAGiSt/t1QgAAUAG7+3VCAAA4cL77dUIAACDfwft1QgAACE7F+3VCAADwvMj7dUIAANgrzPt1QgAAwJrP+3VCAACoCdP7dUIAAJB41vt1QgAAeOfZ+3VCAABgVt37dUIAAEjF4Pt1QgAAMDTk+3VCAAAYo+f7dUIAAAAS6/t1QgAA6IDu+3VCAADQ7/H7dUIAALhe9ft1QgAAoM34+3VCAACIPPz7dUIAAHCr//t1QgAAWBoD/HVCAABAiQb8dUIAACj4Cfx1QgAAEGcN/HVCAAD41RD8dUIAAOBEFPx1QgAAyLMX/HVCAACwIhv8dUIAAJiRHvx1QgAAgAAi/HVCAABobyX8dUIAAFDeKPx1QgAAOE0s/HVCAAAgvC/8dUIAAAgrM/x1QgAA8Jk2/HVCAADYCDr8dUIAAMB3Pfx1QgAAqOZA/HVCAACQVUT8dUIAAHjER/x1QgAAYDNL/HVCAABIok78dUIAADARUvx1QgAAGIBV/HVCAAAA71j8dUIAAOhdXPx1QgAA0Mxf/HVCAAC4O2P8dUIAAKCqZvx1QgAAiBlq/HVCAABwiG38dUIAAFj3cPx1QgAAQGZ0/HVCAAAo1Xf8dUIAABBEe/x1QgAA+LJ+/HVCAADgIYL8dUIAAMiQhfx1QgAAsP+I/HVCAACYboz8dUIAAIDdj/x1QgAAaEyT/HVCAABQu5b8dUIAADgqmvx1QgAAIJmd/HVCAAAICKH8dUIAAPB2pPx1QgAA2OWn/HVCAADAVKv8dUIAAKjDrvx1QgAAkDKy/HVCAAB4obX8dUIAAGAQufx1QgAASH+8/HVCAAAw7r/8dUIAABhdw/x1QgAAAMzG/HVCAADoOsr8dUIAANCpzfx1QgAAuBjR/HVCAACgh9T8dUIAAIj21/x1QgAAcGXb/HVCAABY1N78dUIAAEBD4vx1QgAAKLLl/HVCAAAQIen8dUIAAPiP7Px1QgAA4P7v/HVCAADIbfP8dUIAALDc9vx1QgAAmEv6/HVCAACAuv38dUIAAGgpAf11QgAAUJgE/XVCAAA4Bwj9dUIAACB2C/11QgAACOUO/XVCAADwUxL9dUIAANjCFf11QgAAwDEZ/XVCAACooBz9dUIAAJAPIP11QgAAeH4j/XVCAABg7Sb9dUIAAEhcKv11QgAAMMst/XVCAAAYOjH9dUIAAACpNP11QgAA6Bc4/XVCAADQhjv9dUIAALj1Pv11QgAAoGRC/XVCAACI00X9dUIAAHBCSf11QgAAWLFM/XVCAABAIFD9dUIAACiPU/11QgAAEP5W/XVCAAD4bFr9dUIAAODbXf11QgAAyEph/XVCAACwuWT9dUIAAJgoaP11QgAAgJdr/XVCAABoBm/9dUIAAFB1cv11QgAAOOR1/XVCAAAgU3n9dUIAAAjCfP11QgAA8DCA/XVCAADYn4P9dUIAAMAOh/11QgAAqH2K/XVCAACQ7I39dUIAAHhbkf11QgAAYMqU/XVCAABIOZj9dUIAADCom/11QgAAGBef/XVCAAAAhqL9dUIAAOj0pf11QgAA0GOp/XVCAAC40qz9dUIAAKBBsP11QgAAiLCz/XVCAABwH7f9dUIAAFiOuv11QgAAQP29/XVCAAAobMH9dUIAABDbxP11QgAA+EnI/XVCAADguMv9dUIAAMgnz/11QgAAsJbS/XVCAACYBdb9dUIAAIB02f11QgAAaOPc/XVCAABQUuD9dUIAADjB4/11QgAAIDDn/XVCAAAIn+r9dUIAAPAN7v11QgAA2Hzx/XVCAADA6/T9dUIAAKha+P11QgAAkMn7/XVCAAB4OP/9dUIAAGCnAv51QgAASBYG/nVCAAAwhQn+dUIAABj0DP51QgAAAGMQ/nVCAADo0RP+dUIAANBAF/51QgAAuK8a/nVCAACgHh7+dUIAAIiNIf51QgAAcPwk/nVCAABYayj+dUIAAEDaK/51QgAAKEkv/nVCAAAQuDL+dUIAAPgmNv51QgAA4JU5/nVCAADIBD3+dUIAALBzQP51QgAAmOJD/nVCAACAUUf+dUIAAGjASv51QgAAUC9O/nVCAAA4nlH+dUIAACANVf51QgAACHxY/nVCAADw6lv+dUIAANhZX/51QgAAwMhi/nVCAACoN2b+dUIAAJCmaf51QgAAeBVt/nVCAABghHD+dUIAAEjzc/51QgAAMGJ3/nVCAAAY0Xr+dUIAAABAfv51QgAA6K6B/nVCAADQHYX+dUIAALiMiP51QgAAoPuL/nVCAACIao/+dUIAAHDZkv51QgAAWEiW/nVCAABAt5n+dUIAACgmnf51QgAAEJWg/nVCAAD4A6T+dUIAAOByp/51QgAAyOGq/nVCAACwUK7+dUIAAJi/sf51QgAAgC61/nVCAABonbj+dUIAAFAMvP51QgAAOHu//nVCAAAg6sL+dUIAAAhZxv51QgAA8MfJ/nVCAADYNs3+dUIAAMCl0P51QgAAqBTU/nVCAACQg9f+dUIAAHjy2v51QgAAYGHe/nVCAABI0OH+dUIAADA/5f51QgAAGK7o/nVCAAAAHez+dUIAAOiL7/51QgAA0Pry/nVCAAC4afb+dUIAAKDY+f51QgAAiEf9/nVCAABwtgD/dUIAAFglBP91QgAAQJQH/3VCAAAoAwv/dUIAABByDv91QgAA+OAR/3VCAADgTxX/dUIAAMi+GP91QgAAsC0c/3VCAACYnB//dUIAAIALI/91QgAAaHom/3VCAABQ6Sn/dUIAADhYLf91QgAAIMcw/3VCAAAINjT/dUIAAPCkN/91QgAA2BM7/3VCAADAgj7/dUIAAKjxQf91QgAAkGBF/3VCAAB4z0j/dUIAAGA+TP91QgAASK1P/3VCAAAwHFP/dUIAABiLVv91QgAAAPpZ/3VCAADoaF3/dUIAANDXYP91QgAAuEZk/3VCAACgtWf/dUIAAIgka/91QgAAcJNu/3VCAABYAnL/dUIAAEBxdf91QgAAKOB4/3VCAAAQT3z/dUIAAPi9f/91QgAA4CyD/3VCAADIm4b/dUIAALAKiv91QgAAmHmN/3VCAACA6JD/dUIAAGhXlP91QgAAUMaX/3VCAAA4NZv/dUIAACCknv91QgAACBOi/3VCAADwgaX/dUIAANjwqP91QgAAwF+s/3VCAACozq//dUIAAJA9s/91QgAAeKy2/3VCAABgG7r/dUIAAEiKvf91QgAAMPnA/3VCAAAYaMT/dUIAAADXx/91QgAA6EXL/3VCAADQtM7/dUIAALgj0v91QgAAoJLV/3VCAACIAdn/dUIAAHBw3P91QgAAWN/f/3VCAABATuP/dUIAACi95v91QgAAECzq/3VCAAD4mu3/dUIAAOAJ8f91QgAAyHj0/3VCAACw5/f/dUIAAJhW+/91QgAAgMX+/3VCAABoNAIAdkIAAFCjBQB2QgAAOBIJAHZCAAAggQwAdkIAAAjwDwB2QgAA8F4TAHZCAADYzRYAdkIAAMA8GgB2QgAAqKsdAHZCAACQGiEAdkIAAHiJJAB2QgAAYPgnAHZCAABIZysAdkIAADDWLgB2QgAAGEUyAHZCAAAAtDUAdkIAAOgiOQB2QgAA0JE8AHZCAAC4AEAAdkIAAKBvQwB2QgAAiN5GAHZCAABwTUoAdkIAAFi8TQB2QgAAQCtRAHZCAAAomlQAdkIAABAJWAB2QgAA+HdbAHZCAADg5l4AdkIAAMhVYgB2QgAAsMRlAHZCAACYM2kAdkIAAICibAB2QgAAaBFwAHZCAABQgHMAdkIAADjvdgB2QgAAIF56AHZCAAAIzX0AdkIAAPA7gQB2QgAA2KqEAHZCAADAGYgAdkIAAKiIiwB2QgAAkPeOAHZCAAB4ZpIAdkIAAGDVlQB2QgAASESZAHZCAAAws5wAdkIAABgioAB2QgAAAJGjAHZCAADo/6YAdkIAANBuqgB2QgAAuN2tAHZCAACgTLEAdkIAAIi7tAB2QgAAcCq4AHZCAABYmbsAdkIAAEAIvwB2QgAAKHfCAHZCAAAQ5sUAdkIAAPhUyQB2QgAA4MPMAHZCAADIMtAAdkIAALCh0wB2QgAAmBDXAHZCAACAf9oAdkIAAGju3QB2QgAAUF3hAHZCAAA4zOQAdkIAACA76AB2QgAACKrrAHZCAADwGO8AdkIAANiH8gB2QgAAwPb1AHZCAACoZfkAdkIAAJDU/AB2QgAAeEMAAXZCAABgsgMBdkIAAEghBwF2QgAAMJAKAXZCAAAY/w0BdkIAAABuEQF2QgAA6NwUAXZCAADQSxgBdkIAALi6GwF2QgAAoCkfAXZCAACImCIBdkIAAHAHJgF2QgAAWHYpAXZCAABA5SwBdkIAAChUMAF2QgAAEMMzAXZCAAD4MTcBdkIAAOCgOgF2QgAAyA8+AXZCAACwfkEBdkIAAJjtRAF2QgAAgFxIAXZCAABoy0sBdkIAAFA6TwF2QgAAOKlSAXZCAAAgGFYBdkIAAAiHWQF2QgAA8PVcAXZCAADYZGABdkIAAMDTYwF2QgAAqEJnAXZCAACQsWoBdkIAAHggbgF2QgAAYI9xAXZCAABI/nQBdkIAADBteAF2QgAAGNx7AXZCAAAAS38BdkIAAOi5ggF2QgAA0CiGAXZCAAC4l4kBdkIAAKAGjQF2QgAAiHWQAXZCAABw5JMBdkIAAFhTlwF2QgAAQMKaAXZCAAAoMZ4BdkIAABCgoQF2QgAA+A6lAXZCAADgfagBdkIAAMjsqwF2QgAAsFuvAXZCAACYyrIBdkIAAIA5tgF2QgAAaKi5AXZCAABQF70BdkIAADiGwAF2QgAAIPXDAXZCAAAIZMcBdkIAAPDSygF2QgAA2EHOAXZCAADAsNEBdkIAAKgf1QF2QgAAkI7YAXZCAAB4/dsBdkIAAGBs3wF2QgAASNviAXZCAAAwSuYBdkIAABi56QF2QgAAACjtAXZCAADolvABdkIAANAF9AF2QgAAuHT3AXZCAACg4/oBdkIAAIhS/gF2QgAAcMEBAnZCAABYMAUCdkIAAECfCAJ2QgAAKA4MAnZCAAAQfQ8CdkIAAPjrEgJ2QgAA4FoWAnZCAADIyRkCdkIAALA4HQJ2QgAAmKcgAnZCAACAFiQCdkIAAGiFJwJ2QgAAUPQqAnZCAAA4Yy4CdkIAACDSMQJ2QgAACEE1AnZCAADwrzgCdkIAANgePAJ2QgAAwI0/AnZCAACo/EICdkIAAJBrRgJ2QgAAeNpJAnZCAABgSU0CdkIAAEi4UAJ2QgAAMCdUAnZCAAAYllcCdkIAAAAFWwJ2QgAA6HNeAnZCAADQ4mECdkIAALhRZQJ2QgAAoMBoAnZCAACIL2wCdkIAAHCebwJ2QgAAWA1zAnZCAABAfHYCdkIAACjreQJ2QgAAEFp9AnZCAAD4yIACdkIAAOA3hAJ2QgAAyKaHAnZCAACwFYsCdkIAAJiEjgJ2QgAAgPORAnZCAABoYpUCdkIAAFDRmAJ2QgAAOECcAnZCAAAgr58CdkIAAAgeowJ2QgAA8IymAnZCAADY+6kCdkIAAMBqrQJ2QgAAqNmwAnZCAACQSLQCdkIAAHi3twJ2QgAAYCa7AnZCAABIlb4CdkIAADAEwgJ2QgAAGHPFAnZCAAAA4sgCdkIAAOhQzAJ2QgAA0L/PAnZCAAC4LtMCdkIAAKCd1gJ2QgAAiAzaAnZCAABwe90CdkIAAFjq4AJ2QgAAQFnkAnZCAAAoyOcCdkIAABA36wJ2QgAA+KXuAnZCAADgFPICdkIAAMiD9QJ2QgAAsPL4AnZCAACYYfwCdkIAAIDQ/wJ2QgAAaD8DA3ZCAABQrgYDdkIAADgdCgN2QgAAIIwNA3ZCAAAI+xADdkIAAPBpFAN2QgAA2NgXA3ZCAADARxsDdkIAAKi2HgN2QgAAkCUiA3ZCAAB4lCUDdkIAAGADKQN2QgAASHIsA3ZCAAAw4S8DdkIAABhQMwN2QgAAAL82A3ZCAADoLToDdkIAANCcPQN2QgAAuAtBA3ZCAACgekQDdkIAAIjpRwN2QgAAcFhLA3ZCAABYx04DdkIAAEA2UgN2QgAAKKVVA3ZCAAAQFFkDdkIAAPiCXAN2QgAA4PFfA3ZCAADIYGMDdkIAALDPZgN2QgAAmD5qA3ZCAACArW0DdkIAAGgccQN2QgAAUIt0A3ZCAAA4+ncDdkIAACBpewN2QgAACNh+A3ZCAADwRoIDdkIAANi1hQN2QgAAwCSJA3ZCAACok4wDdkIAAJACkAN2QgAAeHGTA3ZCAABg4JYDdkIAAEhPmgN2QgAAML6dA3ZCAAAYLaEDdkIAAACcpAN2QgAA6AqoA3ZCAADQeasDdkIAALjorgN2QgAAoFeyA3ZCAACIxrUDdkIAAHA1uQN2QgAAWKS8A3ZCAABAE8ADdkIAACiCwwN2QgAAEPHGA3ZCAAD4X8oDdkIAAODOzQN2QgAAyD3RA3ZCAACwrNQDdkIAAJgb2AN2QgAAgIrbA3ZCAABo+d4DdkIAAFBo4gN2QgAAONflA3ZCAAAgRukDdkIAAAi17AN2QgAA8CPwA3ZCAADYkvMDdkIAAMAB9wN2QgAAqHD6A3ZCAACQ3/0DdkIAAHhOAQR2QgAAYL0EBHZCAABILAgEdkIAADCbCwR2QgAAGAoPBHZCAAAAeRIEdkIAAOjnFQR2QgAA0FYZBHZCAAC4xRwEdkIAAKA0IAR2QgAAiKMjBHZCAABwEicEdkIAAFiBKgR2QgAAQPAtBHZCAAAoXzEEdkIAABDONAR2QgAA+Dw4BHZCAADgqzsEdkIAAMgaPwR2QgAAsIlCBHZCAACY+EUEdkIAAIBnSQR2QgAAaNZMBHZCAABQRVAEdkIAADi0UwR2QgAAICNXBHZCAAAIkloEdkIAAPAAXgR2QgAA2G9hBHZCAADA3mQEdkIAAKhNaAR2QgAAkLxrBHZCAAB4K28EdkIAAGCacgR2QgAASAl2BHZCAAAweHkEdkIAABjnfAR2QgAAAFaABHZCAADoxIMEdkIAANAzhwR2QgAAuKKKBHZCAACgEY4EdkIAAIiAkQR2QgAAcO+UBHZCAABYXpgEdkIAAEDNmwR2QgAAKDyfBHZCAAAQq6IEdkIAAPgZpgR2QgAA4IipBHZCAADI96wEdkIAALBmsAR2QgAAmNWzBHZCAACARLcEdkIAAGizugR2QgAAUCK+BHZCAAA4kcEEdkIAACAAxQR2QgAACG/IBHZCAADw3csEdkIAANhMzwR2QgAAwLvSBHZCAACoKtYEdkIAAJCZ2QR2QgAAeAjdBHZCAABgd+AEdkIAAEjm4wR2QgAAMFXnBHZCAAAYxOoEdkIAAAAz7gR2QgAA6KHxBHZCAADQEPUEdkIAALh/+AR2QgAAoO77BHZCAACIXf8EdkIAAHDMAgV2QgAAWDsGBXZCAABAqgkFdkIAACgZDQV2QgAAEIgQBXZCAAD49hMFdkIAAOBlFwV2QgAAyNQaBXZCAACwQx4FdkIAAJiyIQV2QgAAgCElBXZCAABokCgFdkIAAFD/KwV2QgAAOG4vBXZCAAAg3TIFdkIAAAhMNgV2QgAA8Lo5BXZCAADYKT0FdkIAAMCYQAV2QgAAqAdEBXZCAACQdkcFdkIAAHjlSgV2QgAAYFROBXZCAABIw1EFdkIAADAyVQV2QgAAGKFYBXZCAAAAEFwFdkIAAOh+XwV2QgAA0O1iBXZCAAC4XGYFdkIAAKDLaQV2QgAAiDptBXZCAABwqXAFdkIAAFgYdAV2QgAAQId3BXZCAAAo9noFdkIAABBlfgV2QgAA+NOBBXZCAADgQoUFdkIAAMixiAV2QgAAsCCMBXZCAACYj48FdkIAAID+kgV2QgAAaG2WBXZCAABQ3JkFdkIAADhLnQV2QgAAILqgBXZCAAAIKaQFdkIAAPCXpwV2QgAA2AarBXZCAADAda4FdkIAAKjksQV2QgAAkFO1BXZCAAB4wrgFdkIAAGAxvAV2QgAASKC/BXZCAAAwD8MFdkIAABh+xgV2QgAAAO3JBXZCAADoW80FdkIAANDK0AV2QgAAuDnUBXZCAACgqNcFdkIAAIgX2wV2QgAAcIbeBXZCAABY9eEFdkIAAEBk5QV2QgAAKNPoBXZCAAAQQuwFdkIAAPiw7wV2QgAA4B/zBXZCAADIjvYFdkIAALD9+QV2QgAAmGz9BXZCAACA2wAGdkIAAGhKBAZ2QgAAULkHBnZCAAA4KAsGdkIAACCXDgZ2QgAACAYSBnZCAADwdBUGdkIAANjjGAZ2QgAAwFIcBnZCAACowR8GdkIAAJAwIwZ2QgAAeJ8mBnZCAABgDioGdkIAAEh9LQZ2QgAAMOwwBnZCAAAYWzQGdkIAAADKNwZ2QgAA6Dg7BnZCAADQpz4GdkIAALgWQgZ2QgAAoIVFBnZCAACI9EgGdkIAAHBjTAZ2QgAAWNJPBnZCAABAQVMGdkIAACiwVgZ2QgAAEB9aBnZCAAD4jV0GdkIAAOD8YAZ2QgAAyGtkBnZCAACw2mcGdkIAAJhJawZ2QgAAgLhuBnZCAABoJ3IGdkIAAFCWdQZ2QgAAOAV5BnZCAAAgdHwGdkIAAAjjfwZ2QgAA8FGDBnZCAADYwIYGdkIAAMAvigZ2QgAAqJ6NBnZCAACQDZEGdkIAAHh8lAZ2QgAAYOuXBnZCAABIWpsGdkIAADDJngZ2QgAAGDiiBnZCAAAAp6UGdkIAAOgVqQZ2QgAA0ISsBnZCAAC4868GdkIAAKBiswZ2QgAAiNG2BnZCAABwQLoGdkIAAFivvQZ2QgAAQB7BBnZCAAAojcQGdkIAABD8xwZ2QgAA+GrLBnZCAADg2c4GdkIAAMhI0gZ2QgAAsLfVBnZCAACYJtkGdkIAAICV3AZ2QgAAaATgBnZCAABQc+MGdkIAADji5gZ2QgAAIFHqBnZCAAAIwO0GdkIAAPAu8QZ2QgAA2J30BnZCAADADPgGdkIAAKh7+wZ2QgAAkOr+BnZCAAB4WQIHdkIAAGDIBQd2QgAASDcJB3ZCAAAwpgwHdkIAABgVEAd2QgAAAIQTB3ZCAADo8hYHdkIAANBhGgd2QgAAuNAdB3ZCAACgPyEHdkIAAIiuJAd2QgAAcB0oB3ZCAABYjCsHdkIAAED7Lgd2QgAAKGoyB3ZCAAAQ2TUHdkIAAPhHOQd2QgAA4LY8B3ZCAADIJUAHdkIAALCUQwd2QgAAmANHB3ZCAACAckoHdkIAAGjhTQd2QgAAUFBRB3ZCAAA4v1QHdkIAACAuWAd2QgAACJ1bB3ZCAADwC18HdkIAANh6Ygd2QgAAwOllB3ZCAACoWGkHdkIAAJDHbAd2QgAAeDZwB3ZCAABgpXMHdkIAAEgUdwd2QgAAMIN6B3ZCAAAY8n0HdkIAAABhgQd2QgAA6M+EB3ZCAADQPogHdkIAALitiwd2QgAAoByPB3ZCAACIi5IHdkIAAHD6lQd2QgAAWGmZB3ZCAABA2JwHdkIAAChHoAd2QgAAELajB3ZCAAD4JKcHdkIAAOCTqgd2QgAAyAKuB3ZCAACwcbEHdkIAAJjgtAd2QgAAgE+4B3ZCAABovrsHdkIAAFAtvwd2QgAAOJzCB3ZCAAAgC8YHdkIAAAh6yQd2QgAA8OjMB3ZCAADYV9AHdkIAAMDG0wd2QgAAqDXXB3ZCAACQpNoHdkIAAHgT3gd2QgAAYILhB3ZCAABI8eQHdkIAADBg6Ad2QgAAGM/rB3ZCAAAAPu8HdkIAAOis8gd2QgAA0Bv2B3ZCAAC4ivkHdkIAAKD5/Ad2QgAAiGgACHZCAABw1wMIdkIAAFhGBwh2QgAAQLUKCHZCAAAoJA4IdkIAABCTEQh2QgAA+AEVCHZCAADgcBgIdkIAAMjfGwh2QgAAsE4fCHZCAACYvSIIdkIAAIAsJgh2QgAAaJspCHZCAABQCi0IdkIAADh5MAh2QgAAIOgzCHZCAAAIVzcIdkIAAPDFOgh2QgAA2DQ+CHZCAADAo0EIdkIAAKgSRQh2QgAAkIFICHZCAAB48EsIdkIAAGBfTwh2QgAASM5SCHZCAAAwPVYIdkIAABisWQh2QgAAABtdCHZCAADoiWAIdkIAAND4Ywh2QgAAuGdnCHZCAACg1moIdkIAAIhFbgh2QgAAcLRxCHZCAABYI3UIdkIAAECSeAh2QgAAKAF8CHZCAAAQcH8IdkIAAPjeggh2QgAA4E2GCHZCAADIvIkIdkIAALArjQh2QgAAmJqQCHZCAACACZQIdkIAAGh4lwh2QgAAUOeaCHZCAAA4Vp4IdkIAACDFoQh2QgAACDSlCHZCAADwoqgIdkIAANgRrAh2QgAAwICvCHZCAACo77IIdkIAAJBetgh2QgAAeM25CHZCAABgPL0IdkIAAEirwAh2QgAAMBrECHZCAAAYiccIdkIAAAD4ygh2QgAA6GbOCHZCAADQ1dEIdkIAALhE1Qh2QgAAoLPYCHZCAACIItwIdkIAAHCR3wh2QgAAWADjCHZCAABAb+YIdkIAACje6Qh2QgAAEE3tCHZCAAD4u/AIdkIAAOAq9Ah2QgAAyJn3CHZCAACwCPsIdkIAAJh3/gh2QgAAgOYBCXZCAABoVQUJdkIAAFDECAl2QgAAODMMCXZCAAAgog8JdkIAAAgREwl2QgAA8H8WCXZCAADY7hkJdkIAAMBdHQl2QgAAqMwgCXZCAACQOyQJdkIAAHiqJwl2QgAAYBkrCXZCAABIiC4JdkIAADD3MQl2QgAAGGY1CXZCAAAA1TgJdkIAAOhDPAl2QgAA0LI/CXZCAAC4IUMJdkIAAKCQRgl2QgAAiP9JCXZCAABwbk0JdkIAAFjdUAl2QgAAQExUCXZCAAAou1cJdkIAABAqWwl2QgAA+JheCXZCAADgB2IJdkIAAMh2ZQl2QgAAsOVoCXZCAACYVGwJdkIAAIDDbwl2QgAAaDJzCXZCAABQoXYJdkIAADgQegl2QgAAIH99CXZCAAAI7oAJdkIAAPBchAl2QgAA2MuHCXZCAADAOosJdkIAAKipjgl2QgAAkBiSCXZCAAB4h5UJdkIAAGD2mAl2QgAASGWcCXZCAAAw1J8JdkIAABhDowl2QgAAALKmCXZCAADoIKoJdkIAANCPrQl2QgAAuP6wCXZCAACgbbQJdkIAAIjctwl2QgAAcEu7CXZCAABYur4JdkIAAEApwgl2QgAAKJjFCXZCAAAQB8kJdkIAAPh1zAl2QgAA4OTPCXZCAADIU9MJdkIAALDC1gl2QgAAmDHaCXZCAACAoN0JdkIAAGgP4Ql2QgAAUH7kCXZCAAA47ecJdkIAACBc6wl2QgAACMvuCXZCAADwOfIJdkIAANio9Ql2QgAAwBf5CXZCAACohvwJdkIAAJD1/wl2QgAAeGQDCnZCAABg0wYKdkIAAEhCCgp2QgAAMLENCnZCAAAYIBEKdkIAAACPFAp2QgAA6P0XCnZCAADQbBsKdkIAALjbHgp2QgAAoEoiCnZCAACIuSUKdkIAAHAoKQp2QgAAWJcsCnZCAABABjAKdkIAACh1Mwp2QgAAEOQ2CnZCAAD4UjoKdkIAAODBPQp2QgAAyDBBCnZCAACwn0QKdkIAAJgOSAp2QgAAgH1LCnZCAABo7E4KdkIAAFBbUgp2QgAAOMpVCnZCAAAgOVkKdkIAAAioXAp2QgAA8BZgCnZCAADYhWMKdkIAAMD0Zgp2QgAAqGNqCnZCAACQ0m0KdkIAAHhBcQp2QgAAYLB0CnZCAABIH3gKdkIAADCOewp2QgAAGP1+CnZCAAAAbIIKdkIAAOjahQp2QgAA0EmJCnZCAAC4uIwKdkIAAKAnkAp2QgAAiJaTCnZCAABwBZcKdkIAAFh0mgp2QgAAQOOdCnZCAAAoUqEKdkIAABDBpAp2QgAA+C+oCnZCAADgnqsKdkIAAMgNrwp2QgAAsHyyCnZCAACY67UKdkIAAIBauQp2QgAAaMm8CnZCAABQOMAKdkIAADinwwp2QgAAIBbHCnZCAAAIhcoKdkIAAPDzzQp2QgAA2GLRCnZCAADA0dQKdkIAAKhA2Ap2QgAAkK/bCnZCAAB4Ht8KdkIAAGCN4gp2QgAASPzlCnZCAAAwa+kKdkIAABja7Ap2QgAAAEnwCnZCAADot/MKdkIAANAm9wp2QgAAuJX6CnZCAACgBP4KdkIAAIhzAQt2QgAAcOIEC3ZCAABYUQgLdkIAAEDACwt2QgAAKC8PC3ZCAAAQnhILdkIAAPgMFgt2QgAA4HsZC3ZCAADI6hwLdkIAALBZIAt2QgAAmMgjC3ZCAACANycLdkIAAGimKgt2QgAAUBUuC3ZCAAA4hDELdkIAACDzNAt2QgAACGI4C3ZCAADw0DsLdkIAANg/Pwt2QgAAwK5CC3ZCAACoHUYLdkIAAJCMSQt2QgAAePtMC3ZCAABgalALdkIAAEjZUwt2QgAAMEhXC3ZCAAAYt1oLdkIAAAAmXgt2QgAA6JRhC3ZCAADQA2ULdkIAALhyaAt2QgAAoOFrC3ZCAACIUG8LdkIAAHC/cgt2QgAAWC52C3ZCAABAnXkLdkIAACgMfQt2QgAAEHuAC3ZCAAD46YMLdkIAAOBYhwt2QgAAyMeKC3ZCAACwNo4LdkIAAJilkQt2QgAAgBSVC3ZCAABog5gLdkIAAFDymwt2QgAAOGGfC3ZCAAAg0KILdkIAAAg/pgt2QgAA8K2pC3ZCAADYHK0LdkIAAMCLsAt2QgAAqPqzC3ZCAACQabcLdkIAAHjYugt2QgAAYEe+C3ZCAABItsELdkIAADAlxQt2QgAAGJTIC3ZCAAAAA8wLdkIAAOhxzwt2QgAA0ODSC3ZCAAC4T9YLdkIAAKC+2Qt2QgAAiC3dC3ZCAABwnOALdkIAAFgL5At2QgAAQHrnC3ZCAAAo6eoLdkIAABBY7gt2QgAA+MbxC3ZCAADgNfULdkIAAMik+At2QgAAsBP8C3ZCAACYgv8LdkIAAIDxAgx2QgAAaGAGDHZCAABQzwkMdkIAADg+DQx2QgAAIK0QDHZCAAAIHBQMdkIAAPCKFwx2QgAA2PkaDHZCAADAaB4MdkIAAKjXIQx2QgAAkEYlDHZCAAB4tSgMdkIAAGAkLAx2QgAASJMvDHZCAAAwAjMMdkIAABhxNgx2QgAAAOA5DHZCAADoTj0MdkIAANC9QAx2QgAAuCxEDHZCAACgm0cMdkIAAIgKSwx2QgAAcHlODHZCAABY6FEMdkIAAEBXVQx2QgAAKMZYDHZCAAAQNVwMdkIAAPijXwx2QgAA4BJjDHZCAADIgWYMdkIAALDwaQx2QgAAmF9tDHZCAACAznAMdkIAAGg9dAx2QgAAUKx3DHZCAAA4G3sMdkIAACCKfgx2QgAACPmBDHZCAADwZ4UMdkIAANjWiAx2QgAAwEWMDHZCAACotI8MdkIAAJAjkwx2QgAAeJKWDHZCAABgAZoMdkIAAEhwnQx2QgAAMN+gDHZCAAAYTqQMdkIAAAC9pwx2QgAA6CurDHZCAADQmq4MdkIAALgJsgx2QgAAoHi1DHZCAACI57gMdkIAAHBWvAx2QgAAWMW/DHZCAABANMMMdkIAACijxgx2QgAAEBLKDHZCAAD4gM0MdkIAAODv0Ax2QgAAyF7UDHZCAACwzdcMdkIAAJg82wx2QgAAgKveDHZCAABoGuIMdkIAAFCJ5Qx2QgAAOPjoDHZCAAAgZ+wMdkIAAAjW7wx2QgAA8ETzDHZCAADYs/YMdkIAAMAi+gx2QgAAqJH9DHZCAACQAAENdkIAAHhvBA12QgAAYN4HDXZCAABITQsNdkIAADC8Dg12QgAAGCsSDXZCAAAAmhUNdkIAAOgIGQ12QgAA0HccDXZCAAC45h8NdkIAAKBVIw12QgAAiMQmDXZCAABwMyoNdkIAAFiiLQ12QgAAQBExDXZCAAAogDQNdkIAABDvNw12QgAA+F07DXZCAADgzD4NdkIAAMg7Qg12QgAAsKpFDXZCAACYGUkNdkIAAICITA12QgAAaPdPDXZCAABQZlMNdkIAADjVVg12QgAAIERaDXZCAAAIs10NdkIAAPAhYQ12QgAA2JBkDXZCAADA/2cNdkIAAKhuaw12QgAAkN1uDXZCAAB4THINdkIAAGC7dQ12QgAASCp5DXZCAAAwmXwNdkIAABgIgA12QgAAAHeDDXZCAADo5YYNdkIAANBUig12QgAAuMONDXZCAACgMpENdkIAAIihlA12QgAAcBCYDXZCAABYf5sNdkIAAEDung12QgAAKF2iDXZCAAAQzKUNdkIAAPg6qQ12QgAA4KmsDXZCAADIGLANdkIAALCHsw12QgAAmPa2DXZCAACAZboNdkIAAGjUvQ12QgAAUEPBDXZCAAA4ssQNdkIAACAhyA12QgAACJDLDXZCAADw/s4NdkIAANht0g12QgAAwNzVDXZCAACoS9kNdkIAAJC63A12QgAAeCngDXZCAABgmOMNdkIAAEgH5w12QgAAMHbqDXZCAAAY5e0NdkIAAABU8Q12QgAA6ML0DXZCAADQMfgNdkIAALig+w12QgAAoA//DXZCAACIfgIOdkIAAHDtBQ52QgAAWFwJDnZCAABAywwOdkIAACg6EA52QgAAEKkTDnZCAAD4FxcOdkIAAOCGGg52QgAAyPUdDnZCAACwZCEOdkIAAJjTJA52QgAAgEIoDnZCAABosSsOdkIAAFAgLw52QgAAOI8yDnZCAAAg/jUOdkIAAAhtOQ52QgAA8Ns8DnZCAADYSkAOdkIAAMC5Qw52QgAAqChHDnZCAACQl0oOdkIAAHgGTg52QgAAYHVRDnZCAABI5FQOdkIAADBTWA52QgAAGMJbDnZCAAAAMV8OdkIAAOifYg52QgAA0A5mDnZCAAC4fWkOdkIAAKDsbA52QgAAiFtwDnZCAABwynMOdkIAAFg5dw52QgAAQKh6DnZCAAAoF34OdkIAABCGgQ52QgAA+PSEDnZCAADgY4gOdkIAAMjSiw52QgAAsEGPDnZCAACYsJIOdkIAAIAflg52QgAAaI6ZDnZCAABQ/ZwOdkIAADhsoA52QgAAINujDnZCAAAISqcOdkIAAPC4qg52QgAA2CeuDnZCAADAlrEOdkIAAKgFtQ52QgAAkHS4DnZCAAB447sOdkIAAGBSvw52QgAASMHCDnZCAAAwMMYOdkIAABifyQ52QgAAAA7NDnZCAADofNAOdkIAANDr0w52QgAAuFrXDnZCAACgydoOdkIAAIg43g52QgAAcKfhDnZCAABYFuUOdkIAAECF6A52QgAAKPTrDnZCAAAQY+8OdkIAAPjR8g52QgAA4ED2DnZCAADIr/kOdkIAALAe/Q52QgAAmI0AD3ZCAACA/AMPdkIAAGhrBw92QgAAUNoKD3ZCAAA4SQ4PdkIAACC4EQ92QgAACCcVD3ZCAADwlRgPdkIAANgEHA92QgAAwHMfD3ZCAACo4iIPdkIAAJBRJg92QgAAeMApD3ZCAABgLy0PdkIAAEieMA92QgAAMA00D3ZCAAAYfDcPdkIAAADrOg92QgAA6Fk+D3ZCAADQyEEPdkIAALg3RQ92QgAAoKZID3ZCAACIFUwPdkIAAHCETw92QgAAWPNSD3ZCAABAYlYPdkIAACjRWQ92QgAAEEBdD3ZCAAD4rmAPdkIAAOAdZA92QgAAyIxnD3ZCAACw+2oPdkIAAJhqbg92QgAAgNlxD3ZCAABoSHUPdkIAAFC3eA92QgAAOCZ8D3ZCAAAglX8PdkIAAAgEgw92QgAA8HKGD3ZCAADY4YkPdkIAAMBQjQ92QgAAqL+QD3ZCAACQLpQPdkIAAHidlw92QgAAYAybD3ZCAABIe54PdkIAADDqoQ92QgAAGFmlD3ZCAAAAyKgPdkIAAOg2rA92QgAA0KWvD3ZCAAC4FLMPdkIAAKCDtg92QgAAiPK5D3ZCAABwYb0PdkIAAFjQwA92QgAAQD/ED3ZCAAAorscPdkIAABAdyw92QgAA+IvOD3ZCAADg+tEPdkIAAMhp1Q92QgAAsNjYD3ZCAACYR9wPdkIAAIC23w92QgAAaCXjD3ZCAABQlOYPdkIAADgD6g92QgAAIHLtD3ZCAAAI4fAPdkIAAPBP9A92QgAA2L73D3ZCAADALfsPdkIAAKic/g92QgAAkAsCEHZCAAB4egUQdkIAAGDpCBB2QgAASFgMEHZCAAAwxw8QdkIAABg2ExB2QgAAAKUWEHZCAADoExoQdkIAANCCHRB2QgAAuPEgEHZCAACgYCQQdkIAAIjPJxB2QgAAcD4rEHZCAABYrS4QdkIAAEAcMhB2QgAAKIs1EHZCAAAQ+jgQdkIAAPhoPBB2QgAA4Nc/EHZCAADIRkMQdkIAALC1RhB2QgAAmCRKEHZCAACAk00QdkIAAGgCURB2QgAAUHFUEHZCAAA44FcQdkIAACBPWxB2QgAACL5eEHZCAADwLGIQdkIAANibZRB2QgAAwAppEHZCAACoeWwQdkIAAJDobxB2QgAAeFdzEHZCAABgxnYQdkIAAEg1ehB2QgAAMKR9EHZCAAAYE4EQdkIAAACChBB2QgAA6PCHEHZCAADQX4sQdkIAALjOjhB2QgAAoD2SEHZCAACIrJUQdkIAAHAbmRB2QgAAWIqcEHZCAABA+Z8QdkIAAChooxB2QgAAENemEHZCAAD4RaoQdkIAAOC0rRB2QgAAyCOxEHZCAACwkrQQdkIAAJgBuBB2QgAAgHC7EHZCAABo374QdkIAAFBOwhB2QgAAOL3FEHZCAAAgLMkQdkIAAAibzBB2QgAA8AnQEHZCAADYeNMQdkIAAMDn1hB2QgAAqFbaEHZCAACQxd0QdkIAAHg04RB2QgAAYKPkEHZCAABIEugQdkIAADCB6xB2QgAAGPDuEHZCAAAAX/IQdkIAAOjN9RB2QgAA0Dz5EHZCAAC4q/wQdkIAAKAaABF2QgAAiIkDEXZCAABw+AYRdkIAAFhnChF2QgAAQNYNEXZCAAAoRRERdkIAABC0FBF2QgAA+CIYEXZCAADgkRsRdkIAAMgAHxF2QgAAsG8iEXZCAACY3iURdkIAAIBNKRF2QgAAaLwsEXZCAABQKzARdkIAADiaMxF2QgAAIAk3EXZCAAAIeDoRdkIAAPDmPRF2QgAA2FVBEXZCAADAxEQRdkIAAKgzSBF2QgAAkKJLEXZCAAB4EU8RdkIAAGCAUhF2QgAASO9VEXZCAAAwXlkRdkIAABjNXBF2QgAAADxgEXZCAADoqmMRdkIAANAZZxF2QgAAuIhqEXZCAACg920RdkIAAIhmcRF2QgAAcNV0EXZCAABYRHgRdkIAAECzexF2QgAAKCJ/EXZCAAAQkYIRdkIAAPj/hRF2QgAA4G6JEXZCAADI3YwRdkIAALBMkBF2QgAAmLuTEXZCAACAKpcRdkIAAGiZmhF2QgAAUAieEXZCAAA4d6ERdkIAACDmpBF2QgAACFWoEXZCAADww6sRdkIAANgyrxF2QgAAwKGyEXZCAACoELYRdkIAAJB/uRF2QgAAeO68EXZCAABgXcARdkIAAEjMwxF2QgAAMDvHEXZCAAAYqsoRdkIAAAAZzhF2QgAA6IfREXZCAADQ9tQRdkIAALhl2BF2QgAAoNTbEXZCAACIQ98RdkIAAHCy4hF2QgAAWCHmEXZCAABAkOkRdkIAACj/7BF2QgAAEG7wEXZCAAD43PMRdkIAAOBL9xF2QgAAyLr6EXZCAACwKf4RdkIAAJiYARJ2QgAAgAcFEnZCAABodggSdkIAAFDlCxJ2QgAAOFQPEnZCAAAgwxISdkIAAAgyFhJ2QgAA8KAZEnZCAADYDx0SdkIAAMB+IBJ2QgAAqO0jEnZCAACQXCcSdkIAAHjLKhJ2QgAAYDouEnZCAABIqTESdkIAADAYNRJ2QgAAGIc4EnZCAAAA9jsSdkIAAOhkPxJ2QgAA0NNCEnZCAAC4QkYSdkIAAKCxSRJ2QgAAiCBNEnZCAABwj1ASdkIAAFj+UxJ2QgAAQG1XEnZCAAAo3FoSdkIAABBLXhJ2QgAA+LlhEnZCAADgKGUSdkIAAMiXaBJ2QgAAsAZsEnZCAACYdW8SdkIAAIDkchJ2QgAAaFN2EnZCAABQwnkSdkIAADgxfRJ2QgAAIKCAEnZCAAAID4QSdkIAAPB9hxJ2QgAA2OyKEnZCAADAW44SdkIAAKjKkRJ2QgAAkDmVEnZCAAB4qJgSdkIAAGAXnBJ2QgAASIafEnZCAAAw9aISdkIAABhkphJ2QgAAANOpEnZCAADoQa0SdkIAANCwsBJ2QgAAuB+0EnZCAACgjrcSdkIAAIj9uhJ2QgAAcGy+EnZCAABY28ESdkIAAEBKxRJ2QgAAKLnIEnZCAAAQKMwSdkIAAPiWzxJ2QgAA4AXTEnZCAADIdNYSdkIAALDj2RJ2QgAAmFLdEnZCAACAweASdkIAAGgw5BJ2QgAAUJ/nEnZCAAA4DusSdkIAACB97hJ2QgAACOzxEnZCAADwWvUSdkIAANjJ+BJ2QgAAwDj8EnZCAACop/8SdkIAAJAWAxN2QgAAeIUGE3ZCAABg9AkTdkIAAEhjDRN2QgAAMNIQE3ZCAAAYQRQTdkIAAACwFxN2QgAA6B4bE3ZCAADQjR4TdkIAALj8IRN2QgAAoGslE3ZCAACI2igTdkIAAHBJLBN2QgAAWLgvE3ZCAABAJzMTdkIAACiWNhN2QgAAEAU6E3ZCAAD4cz0TdkIAAODiQBN2QgAAyFFEE3ZCAACwwEcTdkIAAJgvSxN2QgAAgJ5OE3ZCAABoDVITdkIAAFB8VRN2QgAAOOtYE3ZCAAAgWlwTdkIAAAjJXxN2QgAA8DdjE3ZCAADYpmYTdkIAAMAVahN2QgAAqIRtE3ZCAACQ83ATdkIAAHhidBN2QgAAYNF3E3ZCAABIQHsTdkIAADCvfhN2QgAAGB6CE3ZCAAAAjYUTdkIAAOj7iBN2QgAA0GqME3ZCAAC42Y8TdkIAAKBIkxN2QgAAiLeWE3ZCAABwJpoTdkIAAFiVnRN2QgAAQAShE3ZCAAAoc6QTdkIAABDipxN2QgAA+FCrE3ZCAADgv64TdkIAAMgushN2QgAAsJ21E3ZCAACYDLkTdkIAAIB7vBN2QgAAaOq/E3ZCAABQWcMTdkIAADjIxhN2QgAAIDfKE3ZCAAAIps0TdkIAAPAU0RN2QgAA2IPUE3ZCAADA8tcTdkIAAKhh2xN2QgAAkNDeE3ZCAAB4P+ITdkIAAGCu5RN2QgAASB3pE3ZCAAAwjOwTdkIAABj77xN2QgAAAGrzE3ZCAADo2PYTdkIAANBH+hN2QgAAuLb9E3ZCAACgJQEUdkIAAIiUBBR2QgAAcAMIFHZCAABYcgsUdkIAAEDhDhR2QgAAKFASFHZCAAAQvxUUdkIAAPgtGRR2QgAA4JwcFHZCAADICyAUdkIAALB6IxR2QgAAmOkmFHZCAACAWCoUdkIAAGjHLRR2QgAAUDYxFHZCAAA4pTQUdkIAACAUOBR2QgAACIM7FHZCAADw8T4UdkIAANhgQhR2QgAAwM9FFHZCAACoPkkUdkIAAJCtTBR2QgAAeBxQFHZCAABgi1MUdkIAAEj6VhR2QgAAMGlaFHZCAAAY2F0UdkIAAABHYRR2QgAA6LVkFHZCAADQJGgUdkIAALiTaxR2QgAAoAJvFHZCAACIcXIUdkIAAHDgdRR2QgAAWE95FHZCAABAvnwUdkIAACgtgBR2QgAAEJyDFHZCAAD4CocUdkIAAOB5ihR2QgAAyOiNFHZCAACwV5EUdkIAAJjGlBR2QgAAgDWYFHZCAABopJsUdkIAAFATnxR2QgAAOIKiFHZCAAAg8aUUdkIAAAhgqRR2QgAA8M6sFHZCAADYPbAUdkIAAMCssxR2QgAAqBu3FHZCAACQiroUdkIAAHj5vRR2QgAAYGjBFHZCAABI18QUdkIAADBGyBR2QgAAGLXLFHZCAAAAJM8UdkIAAOiS0hR2QgAA0AHWFHZCAAC4cNkUdkIAAKDf3BR2QgAAiE7gFHZCAABwveMUdkIAAFgs5xR2QgAAQJvqFHZCAAAoCu4UdkIAABB58RR2QgAA+Of0FHZCAADgVvgUdkIAAMjF+xR2QgAAsDT/FHZCAACYowIVdkIAAIASBhV2QgAAaIEJFXZCAABQ8AwVdkIAADhfEBV2QgAAIM4TFXZCAAAIPRcVdkIAAPCrGhV2QgAA2BoeFXZCAADAiSEVdkIAAKj4JBV2QgAAkGcoFXZCAAB41isVdkIAAGBFLxV2QgAASLQyFXZCAAAwIzYVdkIAABiSORV2QgAAAAE9FXZCAADob0AVdkIAANDeQxV2QgAAuE1HFXZCAACgvEoVdkIAAIgrThV2QgAAcJpRFXZCAABYCVUVdkIAAEB4WBV2QgAAKOdbFXZCAAAQVl8VdkIAAPjEYhV2QgAA4DNmFXZCAADIomkVdkIAALARbRV2QgAAmIBwFXZCAACA73MVdkIAAGhedxV2QgAAUM16FXZCAAA4PH4VdkIAACCrgRV2QgAACBqFFXZCAADwiIgVdkIAANj3ixV2QgAAwGaPFXZCAACo1ZIVdkIAAJBElhV2QgAAeLOZFXZCAABgIp0VdkIAAEiRoBV2QgAAMACkFXZCAAAYb6cVdkIAAADeqhV2QgAA6EyuFXZCAADQu7EVdkIAALgqtRV2QgAAoJm4FXZCAACICLwVdkIAAHB3vxV2QgAAWObCFXZCAABAVcYVdkIAACjEyRV2QgAAEDPNFXZCAAD4odAVdkIAAOAQ1BV2QgAAyH/XFXZCAACw7toVdkIAAJhd3hV2QgAAgMzhFXZCAABoO+UVdkIAAFCq6BV2QgAAOBnsFXZCAAAgiO8VdkIAAAj38hV2QgAA8GX2FXZCAADY1PkVdkIAAMBD/RV2QgAAqLIAFnZCAACQIQQWdkIAAHiQBxZ2QgAAYP8KFnZCAABIbg4WdkIAADDdERZ2QgAAGEwVFnZCAAAAuxgWdkIAAOgpHBZ2QgAA0JgfFnZCAAC4ByMWdkIAAKB2JhZ2QgAAiOUpFnZCAABwVC0WdkIAAFjDMBZ2QgAAQDI0FnZCAAAooTcWdkIAABAQOxZ2QgAA+H4+FnZCAADg7UEWdkIAAMhcRRZ2QgAAsMtIFnZCAACYOkwWdkIAAICpTxZ2QgAAaBhTFnZCAABQh1YWdkIAADj2WRZ2QgAAIGVdFnZCAAAI1GAWdkIAAPBCZBZ2QgAA2LFnFnZCAADAIGsWdkIAAKiPbhZ2QgAAkP5xFnZCAAB4bXUWdkIAAGDceBZ2QgAASEt8FnZCAAAwun8WdkIAABgpgxZ2QgAAAJiGFnZCAADoBooWdkIAANB1jRZ2QgAAuOSQFnZCAACgU5QWdkIAAIjClxZ2QgAAcDGbFnZCAABYoJ4WdkIAAEAPohZ2QgAAKH6lFnZCAAAQ7agWdkIAAPhbrBZ2QgAA4MqvFnZCAADIObMWdkIAALCothZ2QgAAmBe6FnZCAACAhr0WdkIAAGj1wBZ2QgAAUGTEFnZCAAA408cWdkIAACBCyxZ2QgAACLHOFnZCAADwH9IWdkIAANiO1RZ2QgAAwP3YFnZCAACobNwWdkIAAJDb3xZ2QgAAeErjFnZCAABgueYWdkIAAEgo6hZ2QgAAMJftFnZCAAAYBvEWdkIAAAB19BZ2QgAA6OP3FnZCAADQUvsWdkIAALjB/hZ2QgAAoDACF3ZCAACInwUXdkIAAHAOCRd2QgAAWH0MF3ZCAABA7A8XdkIAAChbExd2QgAAEMoWF3ZCAAD4OBoXdkIAAOCnHRd2QgAAyBYhF3ZCAACwhSQXdkIAAJj0Jxd2QgAAgGMrF3ZCAABo0i4XdkIAAFBBMhd2QgAAOLA1F3ZCAAAgHzkXdkIAAAiOPBd2QgAA8Pw/F3ZCAADYa0MXdkIAAMDaRhd2QgAAqElKF3ZCAACQuE0XdkIAAHgnURd2QgAAYJZUF3ZCAABIBVgXdkIAADB0Wxd2QgAAGONeF3ZCAAAAUmIXdkIAAOjAZRd2QgAA0C9pF3ZCAAC4nmwXdkIAAKANcBd2QgAAiHxzF3ZCAABw63YXdkIAAFhaehd2QgAAQMl9F3ZCAAAoOIEXdkIAABCnhBd2QgAA+BWIF3ZCAADghIsXdkIAAMjzjhd2QgAAsGKSF3ZCAACY0ZUXdkIAAIBAmRd2QgAAaK+cF3ZCAABQHqAXdkIAADiNoxd2QgAAIPymF3ZCAAAIa6oXdkIAAPDZrRd2QgAA2EixF3ZCAADAt7QXdkIAAKgmuBd2QgAAkJW7F3ZCAAB4BL8XdkIAAGBzwhd2QgAASOLFF3ZCAAAwUckXdkIAABjAzBd2QgAAAC/QF3ZCAADondMXdkIAANAM1xd2QgAAuHvaF3ZCAACg6t0XdkIAAIhZ4Rd2QgAAcMjkF3ZCAABYN+gXdkIAAECm6xd2QgAAKBXvF3ZCAAAQhPIXdkIAAPjy9Rd2QgAA4GH5F3ZCAADI0PwXdkIAALA/ABh2QgAAmK4DGHZCAACAHQcYdkIAAGiMChh2QgAAUPsNGHZCAAA4ahEYdkIAACDZFBh2QgAACEgYGHZCAADwthsYdkIAANglHxh2QgAAwJQiGHZCAACoAyYYdkIAAJByKRh2QgAAeOEsGHZCAABgUDAYdkIAAEi/Mxh2QgAAMC43GHZCAAAYnToYdkIAAAAMPhh2QgAA6HpBGHZCAADQ6UQYdkIAALhYSBh2QgAAoMdLGHZCAACINk8YdkIAAHClUhh2QgAAWBRWGHZCAABAg1kYdkIAACjyXBh2QgAAEGFgGHZCAAD4z2MYdkIAAOA+Zxh2QgAAyK1qGHZCAACwHG4YdkIAAJiLcRh2QgAAgPp0GHZCAABoaXgYdkIAAFDYexh2QgAAOEd/GHZCAAAgtoIYdkIAAAglhhh2QgAA8JOJGHZCAADYAo0YdkIAAMBxkBh2QgAAqOCTGHZCAACQT5cYdkIAAHi+mhh2QgAAYC2eGHZCAABInKEYdkIAADALpRh2QgAAGHqoGHZCAAAA6asYdkIAAOhXrxh2QgAA0MayGHZCAAC4NbYYdkIAAKCkuRh2QgAAiBO9GHZCAABwgsAYdkIAAFjxwxh2QgAAQGDHGHZCAAAoz8oYdkIAABA+zhh2QgAA+KzRGHZCAADgG9UYdkIAAMiK2Bh2QgAAsPnbGHZCAACYaN8YdkIAAIDX4hh2QgAAaEbmGHZCAABQtekYdkIAADgk7Rh2QgAAIJPwGHZCAAAIAvQYdkIAAPBw9xh2QgAA2N/6GHZCAADATv4YdkIAAKi9ARl2QgAAkCwFGXZCAAB4mwgZdkIAAGAKDBl2QgAASHkPGXZCAAAw6BIZdkIAABhXFhl2QgAAAMYZGXZCAADoNB0ZdkIAANCjIBl2QgAAuBIkGXZCAACggScZdkIAAIjwKhl2QgAAcF8uGXZCAABYzjEZdkIAAEA9NRl2QgAAKKw4GXZCAAAQGzwZdkIAAPiJPxl2QgAA4PhCGXZCAADIZ0YZdkIAALDWSRl2QgAAmEVNGXZCAACAtFAZdkIAAGgjVBl2QgAAUJJXGXZCAAA4AVsZdkIAACBwXhl2QgAACN9hGXZCAADwTWUZdkIAANi8aBl2QgAAwCtsGXZCAAComm8ZdkIAAJAJcxl2QgAAeHh2GXZCAABg53kZdkIAAEhWfRl2QgAAMMWAGXZCAAAYNIQZdkIAAACjhxl2QgAA6BGLGXZCAADQgI4ZdkIAALjvkRl2QgAAoF6VGXZCAACIzZgZdkIAAHA8nBl2QgAAWKufGXZCAABAGqMZdkIAACiJphl2QgAAEPipGXZCAAD4Zq0ZdkIAAODVsBl2QgAAyES0GXZCAACws7cZdkIAAJgiuxl2QgAAgJG+GXZCAABoAMIZdkIAAFBvxRl2QgAAON7IGXZCAAAgTcwZdkIAAAi8zxl2QgAA8CrTGXZCAADYmdYZdkIAAMAI2hl2QgAAqHfdGXZCAACQ5uAZdkIAAHhV5Bl2QgAAYMTnGXZCAABIM+sZdkIAADCi7hl2QgAAGBHyGXZCAAAAgPUZdkIAAOju+Bl2QgAA0F38GXZCAAC4zP8ZdkIAAKA7Axp2QgAAiKoGGnZCAABwGQoadkIAAFiIDRp2QgAAQPcQGnZCAAAoZhQadkIAABDVFxp2QgAA+EMbGnZCAADgsh4adkIAAMghIhp2QgAAsJAlGnZCAACY/ygadkIAAIBuLBp2QgAAaN0vGnZCAABQTDMadkIAADi7Nhp2QgAAICo6GnZCAAAImT0adkIAAPAHQRp2QgAA2HZEGnZCAADA5UcadkIAAKhUSxp2QgAAkMNOGnZCAAB4MlIadkIAAGChVRp2QgAASBBZGnZCAAAwf1wadkIAABjuXxp2QgAAAF1jGnZCAADoy2YadkIAANA6ahp2QgAAuKltGnZCAACgGHEadkIAAIiHdBp2QgAAcPZ3GnZCAABYZXsadkIAAEDUfhp2QgAAKEOCGnZCAAAQsoUadkIAAPggiRp2QgAA4I+MGnZCAADI/o8adkIAALBtkxp2QgAAmNyWGnZCAACAS5oadkIAAGi6nRp2QgAAUCmhGnZCAAA4mKQadkIAACAHqBp2QgAACHarGnZCAADw5K4adkIAANhTshp2QgAAwMK1GnZCAACoMbkadkIAAJCgvBp2QgAAeA/AGnZCAABgfsMadkIAAEjtxhp2QgAAMFzKGnZCAAAYy80adkIAAAA60Rp2QgAA6KjUGnZCAADQF9gadkIAALiG2xp2QgAAoPXeGnZCAACIZOIadkIAAHDT5Rp2QgAAWELpGnZCAABAsewadkIAACgg8Bp2QgAAEI/zGnZCAAD4/fYadkIAAOBs+hp2QgAAyNv9GnZCAACwSgEbdkIAAJi5BBt2QgAAgCgIG3ZCAABolwsbdkIAAFAGDxt2QgAAOHUSG3ZCAAAg5BUbdkIAAAhTGRt2QgAA8MEcG3ZCAADYMCAbdkIAAMCfIxt2QgAAqA4nG3ZCAACQfSobdkIAAHjsLRt2QgAAYFsxG3ZCAABIyjQbdkIAADA5OBt2QgAAGKg7G3ZCAAAAFz8bdkIAAOiFQht2QgAA0PRFG3ZCAAC4Y0kbdkIAAKDSTBt2QgAAiEFQG3ZCAABwsFMbdkIAAFgfVxt2QgAAQI5aG3ZCAAAo/V0bdkIAABBsYRt2QgAA+NpkG3ZCAADgSWgbdkIAAMi4axt2QgAAsCdvG3ZCAACYlnIbdkIAAIAFdht2QgAAaHR5G3ZCAABQ43wbdkIAADhSgBt2QgAAIMGDG3ZCAAAIMIcbdkIAAPCeiht2QgAA2A2OG3ZCAADAfJEbdkIAAKjrlBt2QgAAkFqYG3ZCAAB4yZsbdkIAAGA4nxt2QgAASKeiG3ZCAAAwFqYbdkIAABiFqRt2QgAAAPSsG3ZCAADoYrAbdkIAANDRsxt2QgAAuEC3G3ZCAACgr7obdkIAAIgevht2QgAAcI3BG3ZCAABY/MQbdkIAAEBryBt2QgAAKNrLG3ZCAAAQSc8bdkIAAPi30ht2QgAA4CbWG3ZCAADIldkbdkIAALAE3Rt2QgAAmHPgG3ZCAACA4uMbdkIAAGhR5xt2QgAAUMDqG3ZCAAA4L+4bdkIAACCe8Rt2QgAACA31G3ZCAADwe/gbdkIAANjq+xt2QgAAwFn/G3ZCAACoyAIcdkIAAJA3Bhx2QgAAeKYJHHZCAABgFQ0cdkIAAEiEEBx2QgAAMPMTHHZCAAAYYhccdkIAAADRGhx2QgAA6D8eHHZCAADQriEcdkIAALgdJRx2QgAAoIwoHHZCAACI+yscdkIAAHBqLxx2QgAAWNkyHHZCAABASDYcdkIAACi3ORx2QgAAECY9HHZCAAD4lEAcdkIAAOADRBx2QgAAyHJHHHZCAACw4UocdkIAAJhQThx2QgAAgL9RHHZCAABoLlUcdkIAAFCdWBx2QgAAOAxcHHZCAAAge18cdkIAAAjqYhx2QgAA8FhmHHZCAADYx2kcdkIAAMA2bRx2QgAAqKVwHHZCAACQFHQcdkIAAHiDdxx2QgAAYPJ6HHZCAABIYX4cdkIAADDQgRx2QgAAGD+FHHZCAAAArogcdkIAAOgcjBx2QgAA0IuPHHZCAAC4+pIcdkIAAKBplhx2QgAAiNiZHHZCAABwR50cdkIAAFi2oBx2QgAAQCWkHHZCAAAolKccdkIAABADqxx2QgAA+HGuHHZCAADg4LEcdkIAAMhPtRx2QgAAsL64HHZCAACYLbwcdkIAAICcvxx2QgAAaAvDHHZCAABQesYcdkIAADjpyRx2QgAAIFjNHHZCAAAIx9AcdkIAAPA11Bx2QgAA2KTXHHZCAADAE9scdkIAAKiC3hx2QgAAkPHhHHZCAAB4YOUcdkIAAGDP6Bx2QgAASD7sHHZCAAAwre8cdkIAABgc8xx2QgAAAIv2HHZCAADo+fkcdkIAANBo/Rx2QgAAuNcAHXZCAACgRgQddkIAAIi1Bx12QgAAcCQLHXZCAABYkw4ddkIAAEACEh12QgAAKHEVHXZCAAAQ4BgddkIAAPhOHB12QgAA4L0fHXZCAADILCMddkIAALCbJh12QgAAmAoqHXZCAACAeS0ddkIAAGjoMB12QgAAUFc0HXZCAAA4xjcddkIAACA1Ox12QgAACKQ+HXZCAADwEkIddkIAANiBRR12QgAAwPBIHXZCAACoX0wddkIAAJDOTx12QgAAeD1THXZCAABgrFYddkIAAEgbWh12QgAAMIpdHXZCAAAY+WAddkIAAABoZB12QgAA6NZnHXZCAADQRWsddkIAALi0bh12QgAAoCNyHXZCAACIknUddkIAAHABeR12QgAAWHB8HXZCAABA338ddkIAAChOgx12QgAAEL2GHXZCAAD4K4oddkIAAOCajR12QgAAyAmRHXZCAACweJQddkIAAJjnlx12QgAAgFabHXZCAABoxZ4ddkIAAFA0oh12QgAAOKOlHXZCAAAgEqkddkIAAAiBrB12QgAA8O+vHXZCAADYXrMddkIAAMDNth12QgAAqDy6HXZCAACQq70ddkIAAHgawR12QgAAYInEHXZCAABI+McddkIAADBnyx12QgAAGNbOHXZCAAAARdIddkIAAOiz1R12QgAA0CLZHXZCAAC4kdwddkIAAKAA4B12QgAAiG/jHXZCAABw3uYddkIAAFhN6h12Qg==\",\"dtype\":\"float64\",\"shape\":[8015]},\"y\":{\"__ndarray__\":\"xbRcI2/mAEBwFbF1lkb3PwFyr7mQNP8/Rfrt68B5BkDBqKROQFMDQA0FWTzifQxA87BQa5pXFEAZTqxmsLwYQJi4aNtDFRhAyCk6ksvfHEDTAN4CCYofQAFyr7mQBCNAeTN9iYtGIEDpJjEIrBwfQL2+6XCHICNAvODmZ/3wJ0CZ4ME8UX8lQAip7qSYRiJA3biyMZwIIUBDPujZrAokQGDl0CLb6SJAFiD3mguZIUDTAwy41G4YQH2utmJ/ORFApw102kDnEED1b4QyejsTQA/BXk72HBVA3t3d3d3dFEANKoToI6MWQJF++zpw7hVAt6mnfPV+E0C9nOx5EUAVQAFvgQTFfyBAn14pyxBnI0CPe82FpBkiQC9JeFV6oBpAD59hV4A8IUDaQKcNdHojQGJ8q4itsyJAjSjtDb6gJEDVmuYdpwggQM8cf4/nYB5AH4gZB4RjIED029eBc6YeQHWWRrkhsyRABci95kLCJEBUUiegidAgQOOibQ9VixhAMw4Ih/FtFECvALnXXIgPQH3T4Q7BngpACPNE/RuhB0BQtfDPH+0PQKUsQxzrAhVAw9MrZRmiIEBwGN8qYisfQEiXJLwqnSFAyL3mQtI0IUCqFv75ozUhQDxz/D2eIxxAiPTb14HzH0CJHDU5j+0hQAoezBP13yFAWag1zTt+IkAu2vZQtZAjQJBTdCSX/yNA698IZfS2J0A2GsBbIGEgQHeZdG7t5yBAv1jyiyU/F0C3rwPnjGgOQIU1qBCibxBAtFbHBA8mCEDFagbL6/sSQFvTvOMU3RJA6t8IZfT2EkCLR7xPaGwKQAMrhxbZrhNAEcrobVmLHkDdSTEt16gcQLPCGlQIERxAFfidOf6eHkCxUGuadxwfQF9w87N+gCJA6I9WotnyKEAoDwu1phEwQAc6baDTZixAGAEoWWFdKkB/RZHIUdMrQC35xZJfnCNArdhfdk+eH0BMpgpGJUUgQAnUdbtxlSBAuSGzoB1dHEBQ/Bhz19IcQC3880cr8RJA7saVjeGEEECvSg8w4FISQHzysFBrGhNAvw6cM6KUFUCSEqjrdmMQQBgpgbputw1AyQprUCHEGUC4+Vk/EFMVQIyUQF23Ox1ApNyQWdAOHEArGJXUCegXQJdGuSGzQBZANFuMlECdHkANuwLkXnMiQJvB8vqmUyNA4Z8/WolmJEAkA1Pgd8YiQL1SliGOVR5A63CHYC8nG0A4jG8VsbUdQJlMFYxKCiJAvU9obMKQG0As0WwxUuISQLTtoWrhnxFA3SQGgZWDCkAiaUrF2ScRQIc41sVtlBJAg8DKoUXWEEC4rwPnjGgSQO9dcPOz/hFACa9KDzBAF0BBGb0ta7UOQFlkO99PTQxA5RdLfrEkDUCDVHdSTMsYQGM1g+X1XSFAgNxrLiT9I0DhC5OpgjEjQC0hH/RsdiJA59Z+RZEII0CXtTomeKAgQFTBqKRO4BZANheSplRcE0C/nxov3WQZQGHo/temvhdASjEt18gbIUCBAZfaZVIUQIddAXKv+QtAlPPYqcxHEEAUiRw1OU8LQE8b6LSB7hNA4cE8Uf+mEUCYTBWMSqoLQN0kBoGVwwlAHaS6k2K6FUAgPsOuAHkdQE6sZrC8biRAwH0dOGeEHEBhVFInoAkbQNyNKxvDKR1ArrM0yg05I0CvbAwnVgMiQA2ZBe3owidAzBP1b4TSIkAbw4nVDAYiQLC5kDSlQhpAnA53CPYSHEBqTfOOUwQhQJ6DVHdSrCFAZc+LAJSMHEAv3SQGgdUVQMeVjeHE6hRAnjn+Hs8BE0DPiNLe4CsQQB/PQao7qQ5AUENBFo94EEDQH61Es0UPQGt1TPBg/hdA91C18M//G0DHuriNBiAhQBDpt68DRyRAYzixmsEyHkBY711w89MgQNCOLkl4xSFATxvotIGOHUAvbqMBvIUaQOXyH9JvPx1Aa95xio6EHEDAx3OQ6m4VQIWkKRVnXxdAoD9aiWYrF0BjWq6RNxMaQE0Yuv+1CSJAN9BpA50WIEDLf0i/fT0VQFUL//zRCgdARIts5/upBEATF217qDoRQIBqvHSTmBZA/WLJL5Y8EkCAkhXWoGISQH2riK2z9AxABcWPMXfNE0DdJAaBlSMUQH+x5BdLPhdAmZZr5M10FkBfcPOzfiAdQG/tVxSJnB5AV8TWWRpFGEBE/RuhjI4iQMi95kLSlB5AJXUCmggbIECUGzIL2rEZQB01OY+dKhRAJZ1b+xWlFkDoINWdFJMeQD+hsQlDlyBAWYlmi5EyHUA17zhFRzISQEVHcvkPqQ9AHe4Q7OVkDUCCc0aU9sYQQNhcSJpSkRFAveMUHcmlEECaKhiV1KkSQCusQYUQ/Q9Ah8lUwajkHECpOPvwGTYkQNXkPHYqcyRAERERERGBIUCjt2WtjnkhQOCcEaW94RxA41gXt9FQIED5fmq8dPMeQA/BXk72bCZABqOSOgHdJEABcq+5kMQgQHAY3ypiyxxAtO2hauGfHkBHBqbA7zwhQKUHGHCpHSFA6W1Zq2PiI0DAM8ff47kfQJ+rrdhfNh5A/MvuycOCHEAlK6xBhXAdQMvuycNCrR9AHA3gLZAgHEDvOEVHclkcQMh2vp8a7xpATMgHPZs1G0DnjCjtDT4YQGlv8IXJFCBAxEXbHqp2GkDF/rJ78hAjQJfdk4eFSiVANfJm+hL3LUDrc7UV+wsqQPSOU3QkdyRAxY8xdy3hIUC1pnnHKcomQOPKxnBiBSZAzRYjJVC3I0BKoK7bjQsiQG00gLdAgh5AVVInoImQG0CIiIiIiIgKQMib6UtcNA5AZ2M4sZphFkDb+X5qvHQWQKW6k2JabhNArWnecYpuEEDNFiMlUJcMQKha+OePFgdAad5xio4EHECfPCzUmkYkQKAaL90kNihAPzIwBX4HF0D029eBc2YWQGtKxdmH7xtA9SUu2vZQI0B5fdPhDiEWQImw4emVgiJA2qz6XG2lIUAUiRw1OR8gQGIQWDm0yCBAI0dNzmPnH0B4CyQofowfQKk4+/AZtiBAt4rYOkvjGkCT89ipzMcQQDTH3+M5CBBAeexU5tOQDUDrLI1yQwYQQATFjzF3LRRARdseqhY+CEDziyW/WPILQGTPiwCUrBJAw0Ktad6xE0BheX3T4c4TQIv9ZffkoR9AH/E+obFJGUBrBsvrm04dQOkmMQisTCFA5FtFbJ1FHUDoaiv2l50fQIzbaABvIRZAveDmZ/3AHkCZu5aQD8okQEGnDXTasCBA5yDVnRRTIkDAokjkqJkhQMwT9W+Ech1AVDAqqRMwG0D/snvysBAXQEeU9gZfmAtAt2J/2T25CEA9LwJQsgINQF23G1c2xg9AYQr8zhwfFEBjggfzRP0TQJ2AJsKGxxBASVMqzj58D0DpS1y07eEYQMsyxLEuDhxAN2dEaW/QIEAl4VXpAZYgQLdif9k9GRpAaNgVIPc6H0CwBhVC9HEcQLQ0yg2ZRSBAOyZ4ME+UH0Db0SUJr+oaQJvB8vqmAxxAxPUoXI9iH0DcHqoW/jkZQMGopE5AkyBADwu1pnnHIEBwYjWD5bUVQHPU5Dx2ihdAL0ymCkYlFUAnwoanV0oVQHP8PZ6DtBVA+MJkqmBUE0CZu5aQD3oTQEi8T2hsYhhApZvEILDyFUCtszTKDdkWQNNQkMUj/iFA9eEz7ArQH0C1Es0WI4UaQDu6JOFVGSJAwFsgQfHjJEAAkX77OgAlQLlo20PVUidApeLsw2fIKEDBXk72vBgqQPw6cM6IUiZAJANT4Hd2JkDU4Q7BXh4hQIfJVMGopCBAlkOLbOebIUBdTva8CCAYQDTH3+M56BJA/mX35GFBEkAMtaZ5xykRQEjhehSuBxdABOeMKO2tF0CQD3o2q/4YQEMc6+I2uhJAO07RkVxeE0BImlJx9qEVQN3/2tRTfh1AQRaPeJ9gIED8zhx/j4chQMM/f7QSLRtAu924sjGMIEAgrUSzxRgiQPkx5q4lRCFA48eYu5agKEBPimm5Rh4hQJ/Q2IShyyBATPBgnqjfIkDbiv1l9+QfQMQgsHJoMSFA9NvXgXPmHkCyU5lPQ6ETQC2NckNmQRFANcoNmQVNF0Bo2BUg93oTQCnLEMe6GBRAfDwHqe7EEECxdZZGuaEUQFJMyzXyZhRA431CYxOmHEDXXEiaUkEgQO2ePCzUOiVADzDgUrt8IEBt5/up8RIgQA/mifo38iBAk+18PzV+J0BxGN8qYlsiQFlhDSqEGClAf/s6cM44LEBvEoPAyqElQEgJ1HW7cRxAc9cS8kHfJEBLyAc9mwUlQFy07aFqISVAIbOgHV2CIUAXbXuoWjgYQLtuN65sLBpAv+lwh2DvGECsGSyvb1oVQI28mb7ExQ5A4xQdyeV/DUDnHafoSE4RQN8CCYofQxRA4QuTqYIxI0AnnVv7FWUlQP/Xpp7yNSRARIts5/upI0DkOUh1J2UgQEvIBz2b9R9AdZMYBFbOHECHz7ArQL4gQPfhM+wK8B1Av58aL93EGUARoo8MTDEgQFlhDSqE2CNAhHzQs1llJUBBqjsppkUiQB8ZmAK/YyNAXWqXSed2GEBEREREREQMQBCfYVeA3A9ADXTaQKdNC0CVQ4ts5xsTQLtJDAIr5xJAlmi2GCnhEECFfNCzWbUOQKwfiBkHBAxAVebTUJAFG0A/6Nms+rwQQIlEjpqcJxxA5WTPiwAUFEADULLCGtQNQLCXkz0voh1AuUOwl5OdI0CooSCLR+wkQNejcD0KdyRAJgmvSg8wJUCxvL7pcHclQIiqhX/+yCVA4Ahl9LYsIECzU5lPQ0EZQBm9LWt1rB5AuEbeTF8iG0DP1VbsLzsOQGzC0P2vDQBA9LN+IGZcCEBiodY077gQQE3OY6cyXw1AwOyePCxUDEAZwFsgQTEIQMe95kLStBRARyijt2UtF0DobVmrYwIZQFiDCiH6qB9AVQ4tsp2PG0B3LSEf9GwVQMnobVmr4xxAqcl57FS2I0BAf7QSzcYhQPZysudFQCRAiGAvJ3veJEABl9pl0qkkQEB/tBLNdh1AF0hQ/BhTFUDRJQmvSg8fQL8zx9/j6SNAslOZT0PRIEDziyW/WLIWQCCIGQeEQxdACBueXinLDEBcapdJ5xYKQMsQx7q4TQpAdLhDsJcTDkBhMlUwKgkSQBSJHDU5jxVAR5T2Bl+YIUAE6rrduBIdQAV+Z46/VyRANFhe33RIIUBr5M30JX4oQBNelR5g8CZAAbnXXEi6IkCN3pa1OtYgQAXqut24MhtA5M30JS4KJUCXRrkhs0AjQObTUJDF0yBA3dqvKBK5HEBdbcX+snsgQJ+GgiwesSJAe6UsQxwLIUAJih9j7noWQJtVn6utmAhA5IBwGN8qDEC1XCNvpu8KQFDaG3xhsgtA84slv1jyCUAd7hDs5WQPQPjnj1aiWRVAyeU/pN++FEChZ7PqcxUSQEl4VXqA4R5A8rBQa5onIEBIBqbA7+wlQFkXt9EADidApw102kC3I0C1Es0WI8UeQKla+OePpiNAKhiV1AmYJECNTRi6/yUnQO+nxks36SBAHKGM3pZlIkAPMOBSu2wgQDGcWM1gmSBArbM0yg2ZGkAJih9j7poWQI8JHswTdQdA22XSubVfCkDzH9JvXycQQD7DrgC5dxJAZq2OCR5sEkA84n1CY1MSQPMiACUrDBRA2az6XG0lHUCxLm6jAXwZQKyL22gAPyNAGsBbIEFxIUC9LWt1TPAZQHPXEvJBTxZA3f/a1FNOIUDlGnkzfQkbQC3/If32NRlAYVRSJ6DZIECM22gAb4EfQB+IGQeEMyJAtTomeDAvIkBBguLHmMsiQNfqmODBnCJAu7iNBvCmI0B14JwRpb0XQGCeqH8j1AxA9bas1TEBDkC9UpYhjvUOQJf/kH77+gtACGLGAeEQEEDTco28mT4SQDWD5fVNJxxAMLsnDwuVH0D//NFKNNsYQFVVVVVVtRhAE6jrduO6IECTzq39ihIiQM30JS7a9h9Apw102kC3IEDbQ9XCP38gQD12KvNpiCNAyAc9m1WPIkAxLdfIm9kiQO1Cc51GWhVAzRYjJVC3D0AAAAAAAAAAAD81XrpJ/CJARNjw9Eq5H0AMJCh+jJkVQBfZzvdT4xNAoGFXgNwLEkCv240rG2MTQO3rwDkj6hJA+8vuycPiFUDx93gOUn0TQDu39iuKRBRAFfidOf7+GUCRXP5D+m0LQJ1YzWB5/Q9A1AY6baATG0AFEhQ/xnwXQGGeqH8jlBNAF5KmVJwdH0BLfrHkF8sfQFs/EDMOCCBAlGJarpG3I0A6/h7PQUohQHh3d3d3xyFAETY8vVI2IED5MeauJWQhQMmb6UtctCBAI0dNzmOnGkAPMOBSu0wNQLG/7J487BFAZ62OCR7MEED0RyvRbLEIQD0K16NwPQhAaI6/x3PQBUC5awn5oOcQQMA29ZSvvhNAk6mCUUndF0CFoftfmxoYQAv8zhx/jx9ACR7ME/VfIUDVvxHK6O0ZQBlz1xLyYSJA0SLb+X7aI0A/MjAFfqcjQCg0NmHofhxASS7/If3WG0DHcGI1g6UhQOdC0pSKUyFAcMtaHROcGkA9dirzacgdQCGOdXEbLR1Arf2KIpEjFkDQji5JePUSQAlAyQprUAtA7Xw/NV76C0AIrBxaZDsSQFuxv+yevA1ANIC3QIKiDUAr82koyCIMQLu1X1Ek8gxANcoNmQXtGUCF61G4HmUTQA27AuRecxdA7cNn2BUgEECWjeHEaoYQQCRKe4MvTAxABeq63biSGkAdzBP1b8QVQHw8B6nuhBxAoftfm3qaIUAzxLEubgMcQGtQIUQfWRVArwPnjCgtE0Cc6UtctG0VQARWDi2yvRxAPJgn6t9IGUBQRm/LWp0PQOELk6mC0Q1A1+dqK/ZXDkB4nKIjuTwMQGXV52ordgpA9NvXgXOGCkCnL3HRtkcOQEoPMOBSuxNARbbz/dRYFkChIItHvK8ZQHz13gU3nyJA2RhOrGawFEAPVQv//JESQM04IBzGFxpAn++nxkt3FUBni5ESqEsXQCNHTc5jpyVAgd+Z4+8xI0CrqqqqqgoYQCThVekBxglAiGNd3EajE0D4U+Olm6QWQAip7qSYdiFAMb5VxNYZGkCUrLAGFWITQFDaG3xhsg9Ah/Tb14EzCEBBO7ok4ZUIQLErQO41VwNASLxPaGyCDUAXIyVQ160JQD+hsQlDFxJAcBjfKmJLEUB4VXqAAbcUQAEoWWENyhxA0duyVscEF0DvpJiWawQeQFeA3GsuZAlAYVeA3GuOEkAQWDm0yHYZQDmPncp82hdA240rG8PpGUBFi2zn+4kcQFNx9uEzDB1Ar2wMJ1azHUCPCR7ME7UUQNg3He4QzB5A3ZOHhVpzGkCzv+yePGwWQKoW/vmjFRBA6Nms+lytDkCEns2qz5UGQO0y6dzaLw9A5h2n6EgOE0CxcmiR7RwUQHMeO5X5VBJAWF7fdLjDBUC4rwPnjOgOQPxcbcX+chpAkQ96Nqu+EkDlPHYq82kTQNjIm+lLHAhA9UpZhjh2EUD9G6GM3oYgQGM4sZrBIiJAB8vrmw43IEBkOLGawVIaQMP4VhFbJyJA65jgwTyxHUA3ZBa0o2sUQNXkPHYqIyBAj1BGb8saH0DXD8SMA6IVQNdcSJpSsQtAz4jS3uBLE0C8u7u7u/sSQBmYAr8zpxRAvHSTGAT2FECTXyz5xZIUQEmdgCbCRhRAjZduEoNgHkAXSFD8GLMfQEvtMunc2iJAzMmeFwHoHkD1mgtJU+oZQI7hxGoGyxRA9LN+IGbcFUC73biyMVwcQHFiNYPlZSFAk4eFWtPsIEAnoImw4bkiQJF++zpwXiJAgXAY3yqSIkDnHafoSP4iQLlo20PVwiRAbJp3nKJjHkD1JS7a9vAWQDVeukkMwhdA05e4aNtDE0DfLZCg+NEQQOpLXLTt4RFArWnecYouEUAjA1PgdyYTQMvJnhcByBdAYTJVMCqpHUDs5WTPi6AYQO84RUdy2RpA5Rp5M33pGkBQHhZqTVMWQP7UeOkmESNACYfxrSJ2IEC5IbOgHQ0iQI1QRm/L2iFAC7WmeccpKUB5WKg1zVsnQGTMXUvINyBApNyQWdBuHUC18M8frYQdQGBRJHLUxBtAcIQyelsWHUDY7caVjWERQFO7TDq39hBAScKr0gMsEEDTTWIQWLkFQFioNc07TgtAifTb14FzDkAV+J05/h4DQOXKxnBiNQ5AKxiV1AkIEUCbC0lTKs4MQCcPC7WmGRNAZx8+w66gFUCRWdCOLkkcQPAWSFD8GB9AJ+SDns3KHUDzRyvRbLEcQGTxiPcJbSRAMZ+GgizuJUC3rNUxwSMeQMdLN4lBgBhAawn5oGezGED4U+Olm+QgQON9QmMTdiJAP3yGXQGSHEC94xQdyUUTQFsdEzyYJwpAE4buf22KEUBsv6JI5OgOQNEDDLjU7g1AQYLix5h7EEAkl/+QfpsQQB3J5T+k/xNAeVioNc3rIECXIY51cbseQJlxQDiMTyRASVZYgwoRI0DX6pjgwfwSQFV3UkzL1R5AjSjtDb6gJkBo/UDMODAnQPymwx2CHSlAqzsppuV6JUBn9+RhoTYhQH9t6ilf3R1Aklz+Q/rtE0D9qfHSTZIhQDSitDf4IiFAKzqSy3/IHECBKfA7c3wRQIQyelvWaglAEce6uI0GAUCeXinLEAcDQOQ5SHUnRQRA2D15WKj1DUCMlEBdt1sTQI1NGLr/NRFAMTAFfmdOD0DAokjkqMkGQF8EoGSF9Q5AiWaLkRJoAkAx44BwGB8VQDU2Yej+Vx1AEH1kYAr8HEDMpHNrv7IgQD0Hqe6k2CRAQWDl0CJ7I0DpbVmrY0IhQP+1qad8NRlAu7iNBvB2EEDkg57Nqg8XQAGUrLAG9RlARGZBO7qkDkDvycNCrYkRQAC2qad89QtArD5XW7H/CkDt5WTPi4ALQFjKMsSxrgdAHxzGt4qYCUChRbbz/VQRQBXWoEKIPhJABX5njr+HD0BHvE9obOISQNXqmODBfBhA5WGh1jQvB0CYkz0vAtD3P5NfLPnFUg9A/T2eg1QXGUC7k2JaroEhQK3SAwy4FB1AuWjbQ9WSIkCrglFJnQAeQExZhjjWBR5AfKha+OdvH0BLDzDgUvseQLfO0ig3hCFAgEvtMul8HUBdbcX+snsUQL/mQtKUCgxAYzixmsFyA0AwuycPC/UBQCxlGeJY1wdAHRAO41tFCUBg5dAi2/kJQJckvCo9gA9ASAnUdbsxAkCHFtnO9xMKQIuREqjrNhJA2Kae8tXbFkCcoiO5/EcPQD8vAlCywgdAm3rKV+/dEUCb5h2n6IgbQCP99nXgvB5AFYxK6gSEIUAhsHJokY0hQOcg1Z0UIyBA07zjFB15I0CopE5AEwEeQHCpXSad2xxA4Ahl9LbsFUAgrUSzxQgMQLuTYlquMRFAVQ4tsp0vDEB0kxgEVg4PQNH9r009ZQRAID7DrgA5B0CzMZxYzeAHQIrVDJbX9xFA4Hfm+HusIkAlUwWjkoonQHFlYzix6iFAjy5JeFVaIEB/j+cg1W0hQKV2mXRuPSFAYQ0qhOhDIEBmiGNd3JYhQKxjggfzNCZAgI/nINWtKUBZ0I4uSagmQIObn/UDkSBAifcJjU1YHED8GHPXErIYQI8uSXhViiBAVzNYXt8UHkARoo8MTAEVQH2Ji7Y91A9AF3CpXSadCkAPVQv//JEGQF+9d8HNzwVA4jPsCpA7BUADCYofYy4EQN/gC5OpohJA8fRKWYb4GEDEILByaPEaQPrIwBT4HSFAB6bA78xhJECLH2PuWgIcQAfL65sOtxhAXZUeYMCFJUDlYaHWNH8qQC1rdUzwECpAIWlKxdknHUBm9+RhoTYgQJ3seRGAkhlAm8Hy+qajHEC9d8HNz1ocQPYDMeOA8CFAGw3gLZAgH0Ac6LSBThsWQMXWWRrlBhRAeX3T4Q5BD0CTEqjrduMNQKO0N/jCZA1AY1qukTdTEEAp7Q2+MNkLQLEJQ/e/NhBAG3YFyL3mDEC7bjeubAwRQE3OY6cyDyFAEFg5tMhWIEAgYMCldpkcQJ3seRGA8iNAXGqXSeemJ0CgZIU1qFAqQGsoyOIRLydAuY0G8BboIUC3G1c2hvMhQAdcapdJNyZAiD4yMAWuJUDnQtKUitMlQJSv3rvg9idAGsBbIEFxIkD4DLsC5B4VQAeEw/hW0QtAWYY41sVtEEDj7MNn2BURQN3arygSORNAxfuExibMEkAhaUrF2ecQQIKYcUA4jBNAt6zVMcEDGkBbrpE305cYQAGUrLAGJSFA/9emnvJVHEA5Z0Rpb1AQQOu9C25+9h9AT0NBFo/YIUBIv30dOMccQIfMgnZ0CRtAEaKPDEzRIEAhjnVxG80fQGf6EhdtayFAC//80UqUHUBQssIaVEgaQHa7cWVjSCNA/RuhjN72HkBD0pSKsw8VQAR4CyQo/g1AKFlhDSrEDUBlz4sAlAwRQN++DpwzwhNAT0NBFo+4DEAFNBE2PB0RQN0qYussjQ9Ae6UsQxyLF0BV5tNQkMUbQNsbfGEylSVA6+Vkz4vAJkCT89ipzEcZQFS+eu+COxtAzFodEzyoIECr9AADLhUgQHwX3Pys3x1AKOrfCGUEIUCVaLYYKWEdQISezarPtR5AREEWj3j/HUDP91PjpZsgQI28mb7ERSdASAN4CyToG0B77FTm0zARQEdKoK7bjQlArUSzxUhJCEAR7xMam/AIQKVUnH34jAVABci95kISC0DDg3mi/o0HQC8kTak4+wxAtYFOG+i0DEDLWh0TPBgMQJtVn6utmBlAn4NUd1K8IEB9PzVeupkgQAnUdbtxNSVAYxBYObQoJ0AjbHh6pYwiQFyMlEBdBypAuZA0peKsIUBR/0Yoo1cjQAxJUyrOriBANRRk8YgXIEB1cRsN4G0iQPMiACUrrCJAibDh6ZUyGUB0RpT2Bn8VQC0kTak4uw9AR03OY6eyD0B7pSxDHKsJQAc3P+sHIgxAu5A0peIsBUDt6JKEV6UBQMmb6Utc9AJALSRNqTi7B0AxVTAqqdMGQAPkXnMhyRtA4Jnj7/F8IEBx9uEz7MoZQDzfT42X7hlA1w/EjAPCHkCfq63YX3YbQCXChqdXih1AxCPeJzS2H0Bn+hIXbZsbQI9TdCSXnxxAblmrY4IHFECD5fVNh1saQGj9QMw4IB5AxwHhML51HkB8hl0Bcg8VQKnupJiWKw5AzF1LyAe9CEBns+pztdUCQPxiyS+WfAhAC9rRJQmvAUBflR5gwKUEQLZif9k9ORJA+Ay7AuTeFUA3GsBbICEgQLtJDAIrByRAgZhxQDiMG0B4M32Ji1YZQP3zRyvRvCBAa3h6pSwzJUD7Ehdte+gnQFS+eu+Cyy9Ak1z+Q/o9LkBHcvkP6ecmQJ2AJsKGxx5AScXZh88QH0DEsS5uo0EgQGj6Ehdtex9AhTWoEKJPHUAJ+aBns+oUQMW0XCNvZhFAZMxdS8jnEEB/seQXSz4UQGEQWDm0KBVAZ/oSF207EUDUK2UZ4pgNQC1rdUzwgBJABVxql0mHHUDXfkWRyPEbQI11cRsNgB5AJ6CJsOG5I0BDPujZrFolQC+4+Vk/oChAd3RJwqtCKkCMSuoENHElQENjE4buLyRAdbtxZWP4JUA305e4aKsnQIEp8DtzPCBAf9YPxIzjGkAo6t8IZZQgQFCywhpU+CJA1nsX3Py8IEDq3whl9DYRQJeN4cRqhgVANFhe33R4B0B4ME/Uv5EQQPZysudFwANAo0W28/0UDkAYIyVQ1y0MQC7880crkRJAdSrzaShIGkDFSAnUdRscQA902kCnLRtAHWDApXb5F0DSAN4CCZoiQEQfGZgCHxZArdhfdk9uIUBvN65sDOcmQFDUvxHKuCdAseHplbI8JEAxvlXE1lkpQHcLJCh+bCNAorQ3+MJUIEBUmU9DQZYeQBvlhsyCdiFAG+WGzIJ2GkDIc5DqTmoUQEH0kYEpsBJAg3NGlPYGEUDVwj9/tNITQOEwvlXEVhJAmzB0/2vTDkCIhVrTvGMOQE+pOPvwORhAGeJYF7cBIEAQxIwDwgEfQFhhDSqEKBZA097gC5OJFkAEVg4tsv0XQCcM3f/aFB9AQKTfvg4cGkAfFmpN844dQAmsHFpk+x9ANReSplQ8H0Bd2RhOrGYQQH1CYxOGrg9A6I9WotmiCkAPUt1JMe0VQJotRkqgPiBAHDU5j53KHUD129eBc4YOQHBfB84ZUQVAmN2Th4Xa/j+VirMPn2EMQDu39iuKZBBA5M30JS6aDkDXoEKIPvIKQOeMKO0NXhVAw0Ktad5xIECAI5TR2+IjQCti6yyNAiNAB84ZUdobEkCijwxMgf8RQJvB8vqmQxBAkst/SL+dEkDM7snDQo0ZQKsZLK9v+iBA5/up8dKNGUDhxGoGyysXQBgBKFlhzQ1AzPH3eA6SGECRfvs6cO4cQDerPldbYSVAy39Iv33dIEAfPsOuAHkTQPuBmHFAuAxABORecyHpD0DqlbIMccwQQNyNKxvDyQ9Ai9g6S6NcC0BHuSGzoJ0EQNmHz7ArwBBABRIUP8bcD0DT27JWx4QLQPVNhzsE+xhA+1xtxf7yEEBHvE9obAIEQGDl0CLbuQ9AhcYmDN1/FEBrch47lbkdQEB/tBLNlhhAoNDYhKEbGkC41C6Tzg0YQJlPQ0EWrxRAFbF1lkY5EkBNGLr/tekSQHteBKBkhSBAlfk0FGQRG0Af8T6hsUkSQPfhM+wK0AVAbC4kTan4DkBl9Las1XESQJNc/kP6bRBAQYLix5i7DkC10QDeAgkLQMHy+qbDnQRAjU0Yuv/1A0AVZPGI94n5P10mnVv7FQVARSJHTc4jD0DbHqoW/nkFQN9MX+KibQhAI0p7gy9sEEApXI/C9agWQA93CPZyEhlAEFg5tMiWHUDxPqGxCSMWQPcrikSO2hVAGNz8rB8oEkDdk4eFWpMNQLeHqoV/nhlAGSmBum63FECcDncI9jIHQDyYJ+rfCAJAVVVVVVVV/T/lYaHWNK8CQEt7gy9MJgJAjPo3Qhk9/z+OmpzHTiUAQErqBDQRlhBAhVelBxhwH0DgML5VxDYZQMX+snvy0BdA3PysH4g5FEAhIiIiImIeQC8ne14EABlACEDJCmvwHUBlpzKfhoIdQJZGuSGz4CFABFYOLbJNI0A/xty1hGwiQI0rG8OJJSBAezwHqe4kHkCY/5B++5obQENERERExB9ANTy9UpahFUAjufyH9PsQQLFTmU9DAQ5AdSfFtFwjD0DteRGAktUSQF2S8Kr0gA5Agwoh+siABEC3QILixxgGQPtcbcX+Mg5Aj3if0NjEDEAAlKywBpULQCdWM1heHxhAiK2zNMqND0A7kst/SP8PQGsGy+ubDhRAbHh6pSwDGECfg1R3UmwYQOu9C25+xiFAZ7C8vulQJkCtRLPFSNklQHONvJm+FCFAx5WN4cSqF0CTXP5D+q0VQAVcapdJpxhAoNDYhKE7GkDQ/a9NPeURQNGzWfW52g9AEA7jW0VsEkBgm3rKV68UQBGlvcEXJhFAn/LVexecCkA4Z0Rpb1ARQIABl9pl8hNAmS1GSqCOGUCnV8oyxPEcQOmShFelRxdAJngwT9R/FEB1ApoIG34bQCO2ztIo1xtAEzlqch47I0DEHYK9nAwjQNftxpWN4SJAxyk6kst/GkB3TPBgnugXQEeXJLwqHR5AOYxvFbFFIUCgrtuNK5sbQKH+jVBGjx9AtFn1udrKGUDazvdT4wUVQOC+DpwzIhNAuY0G8BbIE0C1WfW52soLQH7WD8SMAwVAPcCAS+0yBUCBvZzseREJQFnQji5JuAhA0B+tRLOFF0A2hhOrGewAQItHvE9oLBJAd5yiI7ncE0C8k2JarhEdQEcoo7dlTSFAnMQgsHJIJEBJnYAmwiYiQAEDLrXLhBtAYnyriK2jIkCu2F92T84hQN2Th4VaUx5AmZmZmZk5IUCvbAwnVuMgQAip7qSY1h5AnIAmwoanFkDjM+wKkDsNQBnAWyBBcf4/qRPQRNiwAkDsLI1yQ+b0P/yExiYM3fc/8T6hsQnD+D9HuSGzoN0CQIIH80T9+xFAGXPXEvKBE0BNOrf2K6oVQP9GKKO3RRlAWFuxv+zeHkBz/D2eg9QiQG6jAbwFYiJA+MJkqmDUHkCT7Xw/Nd4cQBVqTfOOcyJA4cE8Uf/2IUCQe82FpKkeQBB6Nqs+Nx9A2KNwPQrHIEAwcdG2h7ohQEFdtxtXRiRAo5VothgpHUAK+aBnsyoTQOwKkHvNBRNAfDwHqe5kC0DAWyBB8eMNQMOJ1QyWVw1AUdobfGHyD0BQ1L8RyugNQHUCmggbng9ATaYKRiU1D0BYNoYTq/kYQG8Sg8DKYRpA2Kae8tW7FkByio7k8r8hQCs9wIBL3SRA5mTPiwDUIECSplScfWgjQB3uEOzl9CJArNIDDLj0G0BBYOXQIpsgQCMofoy5SyNAxbRcI292IUBeS8gHPRshQKd89d4FByNAK4cW2c7HI0BLfrHkFwsXQJe1OiZ4MBJAEVg5tMjWEUBsCfmgZ7MPQAqNTRi6nxBAdLUV+8vuEUDPHH+P50ATQDQ2Yej+lwpAE2HD0ytFEkA/MjAFfkcQQB9j7lpCPhhA3PysH4h5GUDnjCjtDR4cQND9r009hRpAOEIZvS1rHEDwgpuf9aMdQNOXuGjbQyJA97wIQMlqI0CdEaW9wecgQJSHhVrTPBxA5FtFbJ3FG0D/aCWaLQYiQP9rU0/5+iJAa5dJ59a+IEDE+4TGJkwVQP2sH4gZBxhA33S4Q7AXE0C8cWVjOHELQA102kCnzQVAnTOitDf4CUCQ5yDVnZQOQG5c2RhObBFA52f9QMy4G0BQ2ht8YTIZQOQXS36xhBtAsZeTPS9CIkDh6ZWyDNEcQFFJnYAm4iNA3biyMZx4JkBNzmOnMj8mQK+UZYhjzSJAQF23G1dmIEC9nOx5EbAjQB+IGQeE0yNAm3rKV++NJEDyHKS6kwIlQFk84n1CQyRAY+ssjXKDHkDIuriNBjAPQKcHGHCpHQxAdb6fGi+dBkAXbXuoWrgGQOPHmLuWUARAmQXt6JIEAkDyQc9m1ScEQF0mnVv7NRFAYMCldpn0HUD0bFZ9rtYRQEkMAiuHdhZAgynwO3NcGEB9rrZif0kgQIcW2c73wyRA3f/a1FOOJECL/WX35DEiQLjULpPO/SJAoGSFNajAIkA0gLdAgpIgQNmpzKehoBlAkHvNhaQJF0Bl8Yj3Ca0fQD0vAlCy8iRASFMqzj68H0C2X1EkcpQTQBMUP8bc9RBA8KfGSzdpEUBb+OePViIOQKcKRiV1IhFAMXT/a1NvEUC+5kLSlGoRQLCXkz0vYhRAcPOzfiCmHUCJ9wmNTdgJQNg6S6PcMBJA606KabnGGEBZ8oslv5gTQCgPC7Wm6SBAF9z8rB+4KEAjufyH9MskQKGM3pa1GiNAayjI4hGvHUCvbAwnVtMfQNAfrUSzxRxAMQisHFrEIkCX/5B+++ogQDzfT42X/iJA35nj7/FMIED9jVBGb8sNQOPKxnBiNQ1Az639iiKRCECsZrC8vqkKQEEWj3ifkApAUUZvy1qdBkBdkvCq9MAGQPqjlWi2uBBAibDh6ZWyF0BcapdJ51YRQEeU9gZfmCFADbsC5F7THUBNX+Kibe8YQJ020GkD/RpAg3mi/o0QIUABl9pl0kkhQC5rdUzwECNAVZ+rrdg/IUDXfkWRyDEiQJe1OiZ4oCBAkzoBTYSNG0DLf0i/fd0hQLUYKYG6XiVAF7SjSxJ+IEAZUdobfAEVQOWGzIJ2dBFANaXi7MPnCUB5DlLdSXENQKCu240rmxBAMN0kBoGVDEA1g+X1TQcLQFPdSTEt9xFA1ZrmHadoIUDr4jYawKskQAva0SUJjyRAGLr/tannHUAjA1Pgd6YcQLMMcayLmyJAzKehIItnH0AnxbRcIw8bQKuqqqqqCiFARR8ZmAIvIEAvSXhVeiAlQLAoEjlqciBAmQXt6JL0IkCBbeopX30iQBHK6G1ZSyRAy+ubDnfoHUCL2DpLo5wQQKV2mXRuLQRAsCgSOWry+T8zelvW6lgBQB/xPqGxCQJAanIeO5UZEECASL99HbgIQFAhRB8ZGAlAsytA7jVXDED2udqK/cUQQCVQ1+3GFQdAcdG2h6qFFEApgbpuN84TQNVW7C+7xx9AyFGT89iJIkB2KvNpKIgiQCwe8T6hoSVAn6ut2F9GKUAPnDOitBcoQJxYzWB5LSpAv1jyiyWvKEDL7snDQk0lQIeFWtO88yZAcM6I0t4QIUCDeaL+jRAhQPsVRSJHTRhAD3o2qz63E0AmLtr2UHUQQD3DrgC51wlA+4TGJgzdC0D1b4QyepsBQA+cM6K09xJA8DhFR3LZF0C8Jw8LtSYVQJA0peLsYxhACPZysuclF0A405e4aJsYQPeX3ZOHpRZAWDm0yHbeGkAkTak4+xAhQNFKNFuMVCFARIts5/uZIEDEsS5uo+EgQCvOPnyGnRpAtamnfPVeFkA9noNUd8IgQBNelR5gECFA9LN+IGacH0DsduPKxlAUQOHmZ/1AzA1AnaIjufzHCUC3G1c2htMJQAVZPOJ9wgJAApfaZdJ5AkAM3f/a1BMIQLbO0ig3JBRACyQofoyZHUCMlEBdt6shQMoyxLEuDiVAmG4Sg8DqKEBl9+RhoYYlQBODwMqhBSdA7xDs5WTvJkDbQKcNdJokQADb1FO+qiZAtIFOG+ikK0D4CY1NGKomQPKtIrbOsiBAOwR7OdlDIECkLEMc68IcQJUeYMCl1h9A8BMamzB0G0DB8vqmw70SQGEyVTAqaQtAGARWDi1yCUDlGnkzfQkKQC+QoPgx5gtA7cNn2BXgDEB9iYu2PdQJQIjS3uALMxNAm3ecoiPZIkCCKfA7cywkQMBbIEHx0yVAGEUiR02OKEBBFo94nzAqQHh6pSxDTChAxf6ye/JQKkCs0gMMuOQiQPOzfiBmnCVAFUL0kYEpJkDNFiMlUGchQCCIGQeEEyBAI/32deBcF0BxGw3gLVAfQEYldQKaSCRAdCfFtFzDHEAzWF7fdPgLQCWX/5B+uwFAGCZTBaNSBUAx44BwGN/7P+7rwDkjCgVAQ61p3nHKAEAtIR/0bNYHQGi2GCmBOg9AjSjtDb4wG0AYKYG6bjcYQCcM3f/atCBAYcPTK2XZE0DV52or9pccQIy2PVQt3B1ATPBgnqhfG0AXkqZUnD0aQLtMOrf2uyJAYS8ne15kJ0DN8fd4DvIgQOhtWatjAhpAJ+exU5kvEUC/xEXbHsoYQCyvbzrccSJAXSadW/t1GkB3CPZysmcDQLGd76fGy/M/c9cS8kEPA0DTKDdkFrQGQPedOf4ezwhAHHxhMlUw/D/FI94nNHYCQMARyuhtmRBAD+aJ+jdiHkCHWtO847QcQOeJ+jdCiSBA1+dqK/a3G0B1lka5IZMaQBT1b4Qy+iBAa+GfP1rpJkAN4C2QoJggQL10kxgEliNA9LN+IGYsI0BDZkE7ukQcQCxoR5cknBhApCbnsVN5EkCbd5yiI7kcQIDcay4kPSNA1XjpJjGIGECJ9wmNTTgQQErqBDQRtgNA46WbxCAwBEC9LWt1TPABQIQNT6+UZQtADSdWM1heBkAsQxzr4nYNQF0jb6YvMRJAuK8D54xIFkA95av3LqggQIgW2c73QyBAhxOrGSyvHUAh1Z0U03IcQBxXNoYTqxpAMb5VxNY5F0BlGeJYF5ciQLGXkz0vAiJAAd4CCYofIkDwqvQAA44UQMHy+qbDPRRACmgibHj6EkDPsCtA7jUZQCGzoB1dciJA+TdCGb0NGEAIYsYB4XAIQE1f4qJtjwJAn4aCLB7x+D+K1QyW1/cBQJSHhVrTvAVAAShZYQ2q/z8YkqZUnD0HQKxmsLy+aQ1AtHvysFArBEBJ59Z+RZH3P1jsL7snTwxAB2LGAeFwBEBNqTj78FkFQNsbfGEy1RJAcKldJp3bCUA0OY+dyrwbQLMxnFjNECBArwC511xIIkADwmF8q6gTQFCywhpU6BZA6ilfvXchE0BobMLQ/U8hQHe+nxovbSRAwvL6psP9I0BUd1JMyzUaQPH0SlmGuBNAsE095as3E0CTGARWDu0TQGAK/M4cfw5A4Hfm+Ht8BUDAfR04Z8QIQGewvL7pcARAuB6F61G4/T/E+4TGJowMQPGtIrbOchBADeAtkKC4FECIOwR7OZkTQMOr0gMMuBdAWx0TPJiHFkDhnz9aibYgQI1NGLr/VRlAJ+rfCGUUGUAhs6AdXRIWQLxPaGzCkBlAh6QpFWffG0DFI94nNDYdQKXi7MNnCCVAIiIiIiISIEBYqDXNO84VQJ8XAShZIRFAPcCAS+0yBEDpSC7/IT0QQC2QoPgxJgtAwH0dOGdEBkBtyCxoR1cKQE8b6LSBLhVA03KNvJkeHUBs5/up8ZIPQHif0NiE4QhAWYY41sXNEkCPCR7ME3UVQCHVnRTTsiVA+TQUZPHIKkCDns2qz+UkQKvMp6Eg6ydAvAUSFD/GJ0B1JJf/kG4sQMt/SL99rSRA1QyW1zcdJECcWM1geT0bQHP5D+m3TxxAGJKmVJzdGUAg0m9fB64WQCo6kst/KBRAriK2ztKoEUBgmEwVjIoPQIN5ov6NEA5Ap1fKMsSREEBFR3L5D+kKQLQ3+MJk6hZAL0ymCkZFJUC7AuRec8EiQL99HThnBCRABaOSOgGtIECUYlqukfciQAfL65sOhypAD+aJ+jcSKEDVwj9/tFIkQLU3+MJkyiZAiUSOmpx3KUBswtD9r90nQBuhjN6WFR9AQvSRgSlwIECLSuoENPEbQIPAyqFFJiFAWOwvuydPHEAeOGdEae8SQCW/WPKLRRBAP6GxCUM3DEBpuUbeTJ8KQNGUirMPnwtAYzixmsHyCUCZJ+rfCOUPQBWxdZZGWRJALPNpKMjiGkBns+pztdUfQO/u7u7uLiVAP3yGXQGiIUAThu5/bZoiQOzlZM+LYChAn6h/I5QhJkBfS8gHPVseQGdBO7okcSVAadtD1cLvIkCgrtuNK1slQAv//NFKlCVADQIrhxYJIUBAE2HD0ysjQFo/EDMOSCJAkct/SL+9HEDo+6nx0q0QQOWDns2qjwJA001iEFg5B0BLEl6VHiAHQPi/NvWU7whAHV2S8Kq0CkCv240rG8MKQOTKxnBitQ9AgQGX2mUSH0DnZM+LAOQgQD8QMw4IRxtAjCKRoyZnGUDNYHl908EXQAtGJXUCehhAYxOG7n8tG0D91HjpJqEjQOcdp+hIPiZAgAGX2mVSJUA4+MJkqoAjQCQGgZVDCyNAv+ZC0pRqHEDA7J48LDQZQGm5Rt5MPyBA8GPMXUuIGUCl4uzDZ5gQQC3UmuYdJwJAU0/56r0LBUBcapdJ55YFQFGT89ipjAlA7Q2+MJkqBUBvyCxoRxcLQJ7Nqs/VlhJAzxx/j+cAHUB5M32Ji9YbQBt5M32J6xtAYJt6ylfvEUAfz0GqOykSQKldJp1buxNA0UcGpsAvF0CI0t7gCxMZQMNhfKuIXSNAbcX+snsCI0AHpsDvzOEgQJ3KfBoK8h5ApS9x0bZHHUBYpQcYcAkYQCpfvXfBPSBA9QMx44DQIEB7OdnzIkAZQGOCB/NEHRFADVLdSTFtCUDbZdK5tZ8CQJTz2KnMp/o/1cI/f7SSBEB0bu1XFAn7P2CbespXbwdAoImw4emVEkDoaiv2l30TQGzn+6nxUhdAv1XE1lkaEkC52or9ZVcaQNk6S6Pc0BpARWlv8IXJIEDkOUh1J+UfQHH24TPsyhxAq/HSTWJwHUDjfUJjEyYaQE0Yuv+1yRhAiM+wK0CuHUBXotlipKQaQLFTmU9DIRhAKcsQx7rYFUCXkz0vAvASQAn5oGezagpAVZx9+Az7CkD2vAhAyQoFQMfctYR80ABAQTu6JOHVAkAjkaMm5zEIQMOr0gMM+AxAAAMutcukBkAphOgjA5MaQKNLEl6VbiJADN3/2tQzGkAboYzelvURQC3XyJvpaxtAu5aQD3o2IkCzLm6jAewlQGSCB/NE7SZAvAUSFD9WJkBz/D2egwQnQMw4IBzG5yNAmJZr5M30GkDLxnBiNeMXQKbi7MNnCCFAoIaCLB6RIkCZBe3okgQYQCL99nXgPBNA71pCPuiZFUBO9rwIQOkSQP2vTT3lqwlAOPjCZKqgB0A2PL1SlqEQQIPl9U2HGxRA87BQa5oXGECdpVFuyGwZQPQlLtr28BtAy1fvXXCTG0DHcGI1g6UXQDZh6P7XJiFARdseqhZeJED/If32dYAgQIyUQF232yhAK1+9d8F9KEA9LwJQsnIlQLcYKYG6Lh9APXYq82m4IEA1NmHo/jcdQB2kupNiKiJAfvgMuwJUIkCjauGfP9oZQL1SliGONRJAm8Hy+qaDFEBbiWaLkZITQEGFEH1kgBRAl9pl0rm1FECpNc07TrERQBfZzvdTwxJA001iEFhZF0A1peLswycGQMyCdnRJQhtAia2zNMr9IUDd/KwfiMkiQLlo20PVkiFAFYxK6gTEI0AjjnVxG30kQIjMgnZ0qR9Ao20PVQuvI0C8cWVjOLEkQAPkXnMhOSFANBE2PL0SGkAnDN3/2tQfQMXZh8+wOyFA+VYRW2eJHED7psMdgn0LQLEubqMB/AlAaGzC0P1PEUBFIkdNzqMTQIXrUbgexQxASb99HTjnDkBhnqh/I/QSQBNelR5ggBRA7zUXkqYUGEDVexfc/KwbQPsVRSJHjRtAoGez6nOVHEDvp8ZLN4kbQNc07zhFVyNA6LSBThs4IkBjDSqE6CMfQPgMuwLkHiRAX072vAhQJUBFIkdNziMjQBkpgbpuZyRAh3/+aCW6HUAtaEeXJLwaQD15WKg17R5A6wQ0ETZ8GkBGJXUCmsgQQFUwKqkTEBFAWIMKIfpoEkC9vulwh6APQA9S3UkxLRJA/yH99nXAEUA3GsBbICEQQGmUGzILmhNAfKha+Od/IEAJQ/e/NrUeQGU+DQVZnBxAz639iiLREUB5ov6NUMYIQJgCvzPHvxhALY1yQ2bBGEC84OZn/cAcQKzSAwy4lCFA7MNn2BVgHEBlGeJYFxcgQLXLpHNrfxRAke18PzW+EkDo2az6XK0iQE+KablGHiNAFdNyjbw5GUCvJeSDni0UQBvDidUMFhZAGU6sZrD8E0BxYjWD5TUWQEuj3JBZUA9A1XsX3PxsCkBoaZQbMksGQHkOUt1JcQhAV6LZYqQEGUB0uEOwlxMeQDB0/2tTbx1Am+Pv8RzkF0CYbhKDwIoOQJB4n9DY5BdASQwCK4f2FkAnDN3/2kQgQGq8dJMYBCJAbFNP+eotIEBwXwfOGbETQAjzRP0bIRpAVebTUJAFGkBXNoYTq7kWQBhLfrHkhyBAEMSMA8IhIkB0bu1XFCkZQIMKIfrIABBAwxpUCNHHEUBbiWaLkTIUQFNx9uEzjBJACKwcWmR7DUA7t/YriqQQQLwqPcCA6xNA/ITGJgx9F0AfY+5aQj4RQDjWxW00ABVA2YSh+1+bD0B9rrZif5kDQHYFyL3mQhJAYFEkctQEIUAPUt1JMZ0jQEsPMOBS+yRALR7xPqERKED9YskvlhwiQN+74OZnHR5AeOb4ezzHIEC3rNUxwZMkQIhgLyd7riZAtMh2vp/6JUDr4jYawLsdQKoW/vmjVRJAawbL65tOCUD9h/Tb1wENQHfjysZw4g9AIwAlK6yhE0A4Z0Rpb1AUQLAoEjlqsgxAwRcmUwUDEUA/eVioNU0OQCusQYUQHSFAzWB5fdNBIUD5yMAU+D0WQG+BBMWPcRJAaSjI4hEvGEB//mglmo0hQKGM3pa1yiNAfR04Z0RpHUBoRGlv8KUgQPP6psMdAhZA89V7F9ycGECkAbwFElQhQNiBc0aU5iFAxSPeJzQ2H0Br4Z8/WmkYQGSnMp+GohFA2PD0SlkGE0BbZDvfTw0OQOSAcBjfqg9AvVKWIY41FEArrEGFEH0KQCfFtFwjbxJA2FxImlJxGUBLoK7bjSsRQCNvpi9xMRdAUSRy1OR8FkCI9NvXgYMmQDkgHMa3GiFAEMSMA8JhH0AjJVDX7aYiQCrOPnyGzSJAzs/6gZgBI0A0DgiH8d0kQGhHlyS8miFA+HgOUt2JG0BJVliDCsEdQEkGpsDv7B9ASXUnxbS8FEBPimm5Rh4EQKh5xyk6UglA8/qmwx1CCECYbhKDwIoJQBVnHz7DLhBApOLsw2dY/j//kH77OnADQNvRJQmvygpAqOhILv+BHUDJdr6fGm8QQCfq3whlNBlAYXyriK0TFED9Hs9BqvsbQFZ6gAGXOiBAeccpOpLLI0DXyJvpS5wkQNv5fmq8FChASN5MX+JyKkB5WKg1zaskQMt8GgqyWBtAF5KmVJxdG0CsQYUQfWQfQKcNdNpAxyJAYC8ne14kGkC/wRcmU6UWQIS9nOx50Q1ADwiH8a0iCEDrLI1yQ+YIQIPl9U2HOwlA9yuKRI7aD0AbdgXIvWYJQK1sDCdWkxRAoyO5/Ie0H0CvbzrcIRgcQIFL7TLpbCFAEaW9wRcGFkDHuriNBrAcQCs9wIBLnSJAf4/nINU9I0CLbOf7qXEjQPeX3ZOH1SRAwaV2mXQ+KkA1PL1SlmEoQK/bjSsbkyZAM8ff4zmIJEC41C6Tzi0kQNuvKBI56iFAoImw4eklIECZu5aQD/oTQJXUCWgiDBBAVVInoIkwBkANvjCZKpgQQCdZYQ0qhBBA7hDs5WSPE0BHAEpWWKMUQIfMgnZ0CRBAAQMutctUIECzne+nxisYQKRwPQrXIx1AKxvDidXsHUAZB4TD+KYgQJ2DVHdSTB9AJCh+jLm7IEAIPZtVn+sfQHdSTMs1UidAGQRWDi2CKkBni5ESqFslQDCW/GLJ/yJAYleA3GtuIUBtVn2utmIiQKkT0ETYECJArK3YX3YvGkCg+1+besoNQHIeO5X59ABArWnecYrODUD//NFKNNsEQHjBzc/6oRFAK2LrLI0yDED1l92Th4UJQJQ9LwJQ8g1AWRrlhsziGEDgvg6cM2IdQDLmriXk4yBAL90kBoH1FkBZGuWGzCIcQLRZ9bna6h9Af4y5awl5IkC/7J48LBQgQL0IQMkKOyJADbsC5F4zH0AV1qBCiM4lQO7okoRXJSVAq2OCB/MUIEClvcEXJhMjQI3elrU6ViJAuR6F61HYHkCdFNNyjZwWQA0Ih/GtogtAzO7Jw0LtCkBBpw102oAKQDDgUrtMOghAldQJaCKsA0AViRw1OU8MQPs6cM6IchFAW9bqmODBAkC2qad89V4QQHW7cWVjOA5AhTWoEKLPF0AdoYzelnUdQFRSJ6CJQCBANe84RUdSIUABSlZYgzokQKhXyjLEsSRAKFyPwvUYJ0DtDb4wmUokQGSFNagQoh5ANYC3QIIiIEAlDN3/2jQWQGVjOLGawRdAQBNhw9PLFkATg8DKoeUQQO0Q7OVkTwhAa+GfP1qJAkC9CEDJCusDQLByaJHtfAZAJ6CJsOHpA0DzaSjI4hEIQCjI4hHvkwJAAy61y6QzBEBmrY4JHgwEQFG7TDq3dh9A41gXt9EAGkDTco28mT4aQCD3mgtJEwxA5DlIdSdFG0DJ5T+k304iQHii/o1QRhxABMJhfKtoHkCLIpGjJucRQKh/I5TRmxdA3W5c2RhuFkDHAeEwvhUZQJckvCo9QCFA+8jAFPj9GkAB3gIJit8IQOwHYsYB4fk/LWt1TPBg/D/kXnMhaUoKQCmpE9BEmApA2BUg95oLAED0/dR46aYDQD3lq/cuuBBAM8SxLm5DIUBeKcsQxxogQE/RkVz+MyFAxEXbHqrGIECLablG3mwdQI+/x3OQ+iRAeQ5S3UnxHkCLRI6anAcYQEE7uiThZSBASwwCK4fWI0AkvCo9wGAcQPk0FGTxaB5AnYAmwoaHH0BVnH34DJsgQJ1YzWB5HR5ApXaZdG5tFUA3rmwMJ1YEQMsQx7q4TQNAmePv8RykBUBjWq6RN9MDQNVW7C+75wlAdNpApw10BUCA/mglmu0FQGEyVTAqKRNAHDU5j52qF0CofyOU0dsYQGOnMp+Gwh1AOEIZvS1LG0ARgJIV1iAfQERmQTu6tCRAd+PKxnBiIEBQQ0EWjyghQEzLNfJm2h1AtDGcWM0AH0BjNYPl9e0WQJlPQ0EWrxhA1ZrmHafIIECFfNCzWUUiQG/ILGhH9yBA37vg5md9HEDmZM+LABQVQBClvcEX5g5AX7pJDAKrBEBvOtwh2KsRQC35xZJfrBJAyQprUCEEBkCh+DHmriUEQJTz2KnMJw1Atz1ULfzTG0BpJZotRooRQIyREqjrNgtAysNCrWneAkDcaABvgcQOQKuqqqqqChdAdLUV+8uuGkBHA3gLJOgbQHnsVObTUBlAbTeubAxnGkDFt4rYOqsfQJmZmZmZeSFA6ELSlIqTHUAAAAAAAAAeQNhfdk8elh9AI7bO0ii3GkDYOkuj3NAMQDEt18ibaQ1AAQMutcskBUDHcGI1g+UOQPWUr967oAtA2KnMp6EgC0C/6XCHYG8LQE2EDU+vlA9A0IsAlKxwGUBVMCqpE7AUQN8FNz/r5xhAd3d3d3dXE0AIh/GtIpYXQCH6yMAUuBdAsLy+6XBnG0AU9W+EMhonQFMFo5I6kSFAwKV2mXRuHEDRRwamwO8bQOQXS36xRBhAkYEp8DvTGUCFONbFbZQeQCGwcmiRLR9A3UkxLdeoGUBA7jUXkkYQQMdOZT4NhQtA0yg3ZBb0BEAEoGSFNWgAQBE2PL1SFgJAyp4XAShZAEAxKqkT0MQJQMueFwEoeRFAO22g0wYaFEDwqvQAA64dQLByaJHtvBtAe82FpClVGUDfJzQ2YegZQGsoyOIRzyVAeekmMQjMIED0JS7a9tAbQBt2Bci95hlASVMqzj4cJkCQMXctIQ8jQKAdXZLwyh9Aqz5XW7EfHkAHhMP4VgEgQL8zx9/jOSBAZMxdS8inGEAxvlXE1rkQQOuY4ME8UQdA/UP67euADUDA6XCHYC8KQKV2mXRubQdA9LN+IGZcCUBP0ZFc/kMKQAlAyQprcBBA5/h7PAdpEEDDidUMlrcSQLfz/dR4KRhAGE6sZrDcFUDRtoeqhV8YQOq3rwPnzBNAjb/Hc5CKFkCoE9BE2LAaQH1CYxOGjhxAsVOZT0PBGkD/If32deASQO+Cm5/1QxNAL7j5WT/wGUAQxIwDwiEdQK2zNMoNCSBAVcGopE4gGUAH80T9G0ETQOkBBlxqFxRA37vg5medFUBYzWB5ffMWQHVM8GCeCBhAZUE7uiRhFkDBzc/6gfgSQABsU0/5yhVAvS1rdUzwD0B7OdnzIuAXQFhe33S4oxhArUfhehQuFkBcI2+mL5EZQJ2ofyOUURxAGEt+seS3HkDQHH+P5yAkQMT7hMYmLCFAmCfq3wh1KED7psMdgr0iQBX4nTn+/ipAkKD4MeZuIUBRJHLU5CwjQO3DZ9gVQCNAlKywBhUiFEBBhRB9ZKAHQF0mnVv7VQdAaGmUGzJLCUBVn6ut2J8CQNSa5h2n6P8/e1vW6pjgAEAF7eiShFcKQNEA3gIJ6hZAhOgjA1MgG0CvSg8w4OIiQAfL65sOFyNAyXa+nxrvGkBdJp1b+zUgQPe8CEDJiiBA8O7u7u7uG0CLH2PuWrIiQBVC9JGBqSdAsHJoke08JEB7W9bqmJApQDF0/2tT7yRA/UDMOCD8IUBTKs4+fJYjQMkHPZtVHyJAgCOU0duyHUDVwj9/tNITQHBiNYPltQlAkBKo63YjDkAH8BZIUDwMQLN4xPuExv8/d5ZGuSGz+T/4oGez6vP9P/gMuwLkXgRAL3HRtofqGEDOqs/VVmwgQIRUd1JMyyJABVxql0lHG0CXjeHEakYaQHlVeoABlx9A4zYawFuwIkBN845TdCQbQEgGpsDvHCRAOymm5RoZIEAqOpLLfzghQFv7FUUiJxpAmLuWkA86HkBWfa62Yr8hQNtApw10SiRAy8ZwYjWjHEDXNO84RUcKQF+YTBWMSvo/a7lG3kwfBkD7psMdgj0BQJPOrf2K4gNA7Z48LNQaCEBTAnXdblwSQJSHhVrTPA5A3GXSubV/GEAxmSoYlXQSQCupE9BE6CJARLCXkz0PGkBsU0/56v0WQJ3vp8ZLhyJAxbRcI2+WJkAEWTzifeIaQGlHlyS8GiJAY1qukTcjJECfXinLENchQKPckFnQziBAHV2S8Kr0IEBpuUbeTC8gQJ2lUW7ILBtAmJZr5M1UGUDhVekBBlwEQLUV+8vuye4/qMl57FTm+z9cIEHxY8zxP0HxY8xdy/c/SS7/If32BEAa4lgXt7ERQIv9ZffkwRNA7OVkz4ugHkDV52or9jchQDiMbxWx1R1ACKnupJh2HUCTqYJRST0eQJVothgp4SFAhOLHmLtWH0AJ1HW7cdUgQNqs+lxtRSJAfvgMuwJkIUAI9nKy5zUgQHvvgpuf9R9AsLy+6XBnIkAFxY8xdw0gQNGUirMP3x9AWMoyxLHuFkBb+OePVuIGQBi0o0sS3v4/k/Cq9ABDCUCYJ+rfCGX8P2DD0ytlmfw/RLCXkz0vAECUYlqukbf7P/mgZ7Pqsw9AmAK/M8f/HEBlqmBUUichQO15EYCSpSNAb6YvcdH2G0B9rrZifxkfQBt5M32JGyFAbTFSAnU9I0ClvcEXJsMnQJhuEoPAOiVAy6Rza7/iI0A5jG8VseUgQBwyC9rRtSFAXZUeYMBFH0DFbTSAt+AdQK+RN9OX+B1ATBJelR5AGECBmHFAOEwJQKCu240rmwZAZMxdS8jHBECFoftfm7oLQB1/j+cgFQdALwJQssKaDkDkzfQlLtoMQOPsw2fYVRlA2ISh+1/7EECTgSnwO7MVQK3VMcGDmRZAlY3hxGrmFUCn5Rp5M/0VQIXJVMGoRCBAbxKDwMphHUBHb8taHbMcQLcYKYG6rh9A+35qvHRTIkBAyQprUEEhQGM4sZrBYiVAQmMThu5fJEBsLiRNqaggQIMp8DtzvB9AVQv//NEKHEDEsS5uowEVQBOG7n9tChRADbsC5F5zCEDHKTqSy78KQEcDeAskyBJA/x7PQaqbEUAXcKldJh0KQFg5tMh2/gtA5/h7PAdJF0D56r0Lbq4gQCNHTc5jRxtAwzxR/0ZoG0DF1lka5ZYlQHyGXQFy7yJA8IKbn/UTIECqglFJndAgQJTR27JW9yNAYZ6ofyN0IEBL6gQ0EYYkQEmaUnH24SpAWWENKoQoIUCNKO0NvsAhQDeJQWDlICRANs07TtHRIEDQGVHaG7wPQNsbfGEy1QdAWDzifUIjB0B8zYWkKdUIQFmrY4IHMwNAOPvwGXaFDUBPQ0EWjzgPQP32deCc0RdAHDIL2tHFFkCkSxJelV4dQIBIv30d2CNAq4V//milFUDZzvdT44UUQF8EoGSFlRlAUGhswtDdIUDDrgC51/wbQEeU9gZfeB5AGCZTBaMCJUBDi2zn+5koQC7a9lC14CBA1FCQxSMOJEAlK6xBhQAgQHFDZkE7ehxA+Qy7AuT+F0B/RZHIUbMUQAWgZIU1KAdAW/jnj1biBkBrLiRNqfgKQEgGpsDvDBFArwC511zoFUAhRB8ZmMIHQNBpA502EAhAEFUL//zxGEDoRQBKVvggQOf4ezwHqSRA1b8RyugNIkDQAN4CCUofQGVjOLGakSJABxVC9JFhJkBBFo94nzAkQBRhw9MrRSNAnoNUd1JMI0AZvS1rdbwnQMOGp1fK8h5AIWYcEA7jIEAcVzaGE9siQCfFtFwjjxdAULLCGlToFUBoaZQbMksNQKTfvg6ccwZALSEf9GwWDkCMbOf7qXEOQLtJDAIrBwdA03KNvJm+BkD880cr0awEQL9bIEHxYxFAfM2FpCnVGUBAf7QSzaYiQIn3CY1NqCNA/RuhjN42HkDJwBT4nTkXQAjRRwamoB9Aa3IeO5VZIUCxdZZGuSEjQJe4aNtDtR9Azc/6gZiRHUDUK2UZ4jgaQO81F5Km1BNAHe4Q7OV0IUDjysZwYuUjQMEXJlMF4xpAyCxoR5dEGUDz1XsX3LwEQEVsnaVR7v0/+THmriVk9T8ViRw1OY8BQAQMuNQuUwFA7Q2+MJmq+j+9CEDJCmv+P8hOZT4NJRVAZ7C8vunQFEBP1L8RyoggQOjc2q8oEh5AUI2XbhLjEkB0/2tTT3kZQG1Wfa62MiBAMQisHFrUIEAwcdG2h+oXQI0o7Q2+0CJANMff4zlYJEBZzWB5fbMgQJdr5M30JRNAYxBYObRID0BhV4Dca64VQJ3y1XsXvBpAK2LrLI2yGECh2WKkBKoLQKFCiD4yMPo/jbyZvsTF+D+0oB1dknD7P5Nc/kP6bfU/qzsppuWa+j/zRyvRbDEBQK8D54wo7QFAoBov3SRGEEBQIUQfGZgZQBOG7n9t6h1AA1Pgd+a4HEAta3VM8OAYQOM2GsBbABtAh8yCdnSpEUBEsJeTPc8WQMeYu5aQbxJAkRKo63bjDkBRSZ2AJkIKQCrOPnyG3RNAzFodEzzYFEC0WfW52oocQPlWEVtnSSNAZ9Xnait2HkDEHYK9nOwDQINUd1JMSwxAAy61y6TzCUBobMLQ/U8VQLF4xPuERghAyehtWatjBUAvSXhVegAPQBKAkhXWABFAD+aJ+jfCBUDflrU6JjgHQJ3HTmU+DQ1AxW00gLcABkAVQvSRgYkRQHVxGw3g7R1AnVv7FUViI0A/6wdixnEgQBB9ZGAKfBxAmb7ERdvuI0DNOCAcxpcaQKg1zTtO4SFAsCgSOWpSF0C8Jw8LtWYdQG9c2RhObCBAKRVnHz7DEkCPv8dzkCoRQGm2GCmB+gJAMw4Ih/EtA0B88rBQa9oJQPP6psMdgglAW2dplBvyAUBjxgHhMH4GQHs2qz5XmxFAXdxGA3iLB0DDP3+0Ek0NQOtztRX7ywlAFWpN846TDEDkPHYq8+kIQAzd/9rUkxFAbQwnVjOYF0D1lK/eu+AZQBlR2ht8ARlAjG8VsXW2HUDkqMl57HQZQIvYOkujnBtAJeSDns1KGUDYFSD3musYQJHFI94ndB5AAU2EDU8vIkD7N0IZvW0QQJDFI94n9AdAMcGDeaI+BUBNX+KibY8CQK+UZYhjXQVAI7n8h/S7EUAx44BwGD8VQFtCPujZzBZAjJRAXbdbIECJ9wmNTRgZQHYq82ko+CFAa1AhRB9ZGkDMyZ4XAUgcQBB6Nqs+ZyBA0B+tRLOVIEB6xyk6klshQNv5fmq81BhAE2HD0yvFIUC5IbOgHd0eQFk84n1CMyJAVekBBly6I0CX1zcd7rAhQAxJUyrODiJAT4ppuUa+GkARFD/G3DUEQIC3QILihwZAJN4nNDYhBUA2zTtO0ZEDQGAs+cWS3wJA3PysH4gZBkBLoK7bjesNQFOWIY51ERRAL90kBoE1HUBNzmOnMl8QQBQamzB0fw9AL5POrf1KBEDz+qbDHYIPQAQx44Bw2ApAibDh6ZXSG0BHuSGzoN0cQCfChqdXqhdAfa62Yn9ZHECcffgMu2IWQMCAS+0yqRhABeq63bjSGEAbDeAtkKAbQHulLEMcSx5AS1ZYgwqBFUDNqs/VVuwHQHcI9nKy5wJAeTarPlcbC0CFV6UHGHAGQCDSb18HDgFArgC511xIAEBHb8taHZMDQHgI9nKy5w5AKRVnHz5jFkAlv1jyi4UdQKjrduPK5iRA7uiShFf1IUDZGE6sZjAcQNmHz7ArMCRAoBov3SSGKUDfJzQ2YVglQPSRgSnwiydAhxbZzvcjIkD6fmq8dLMhQJ1b+xVFMiBAXUiaUnE2H0CLR7xPaAweQA9S3UkxTRtAoUKIPjKQFECJrbM0yo0CQLnXXEiaUvY/qV0mnVv79D/Jm+lLXLT4P+hILv8h/fk/yAc9m1Wf8j/1crLnRQD6P1yxv+yenBRAeDBP1L/xH0CQVqLZYuQYQHMbDeAtEBtARyijt2XtF0A0DgiH8S0UQEi8T2hsAhZACNFHBqZAE0DQsCtA7vUWQCMlUNftxg9A3bvg5mddHUCz6nO1FfscQBksr286vBZAyFGT89jpFUBh6P7Xpp4hQCGzoB1d8hlA+FC18M9/GkBaPxAzDkgBQDEwBX5njvs/V+wvuyeP9T+/VcTWWZr2P00VjErqxABACUDJCmuQAEDx93gOUl0FQEdy+Q/ptxNAla/eu+CGFkA/xty1hLwSQG1Wfa62AiFAW4yUQF0XJECzVscED1YhQFNMyzXyphhAt/YrikROI0B7gAGX2lUnQHP8PZ6DBCJAqRPQRNigIUAEoGSFNYgXQGEyVTAqyR5AO0uj3JAJIUC9MJkqGLUbQNejcD0KVxlAqRPQRNjwEkCHXQFyr7n7PwUP5on6t/g/idUMltc37D+/x3OQ6k76P/w9noNU9/0/K1+9d8HN9T87lfk0FCQSQIQNT6+UxRVAd+PKxnACF0B7PAep7uQYQGQ4sZrB8h1AME/UvxFKHEA9m1Wfq40TQOlLXLTtIRpAU+B35vhbIEAYIyVQ120WQFAhRB8ZGBdAWPKLJb/4FkA07zhFR3IfQHyriK2ztBdA+8vuycPCIEC9wRcmU6UaQA27AuReQyJAHA3gLZBAH0ANJ1YzWF4aQOQ8dirzaQZANReSplQc+T8XIyVQ1231P13ZGE6s5gJAexSuR+H6/T9VM1he3/T2P/P6psMdwgJAwaikTkBTCUBJUyrOPnz/PxOo63bjyg1AY6QE6rrdGkAzxLEubgMeQDuV+TQUhCRAFdNyjbz5JUBrch47lVkoQGAs+cWS3yhAU0zLNfLWJ0AD4TC+VWQlQPzzRyvR/CNAuwLkXnPBH0CyLm6jAXwhQI+dynwa6iNAqRCijwzMIEA/f7QSzVYTQEM+6NmsehJA3PysH4hZEED0IgAlK+wFQJeQD3o2qwZA54n6N0LZCkB8YTJVMOoHQGcfPsOuABVAXLTtoWohHEAsG8OJ1awYQIBt6ilf/RxAaU3zjlO0GEBY711w87MaQMRF2x6qlhpA7AqQe83lGkA1peLsw0cjQLTIdr6faiRAvVXE1ln6I0AJr0oPMGAjQEtctO2hGiBAC7WmecdJH0AIh/GtIhYjQC1DHOvi9iNAi7MPn2G3HkB3UkzLNZITQC+1y6RzKw9AFYkcNTkPD0Dgvg6cM2IFQHmi/o1QhgNAxIwDwmH8BEC4G1c2hhMEQIc41sVtVBZAMHT/a1MvHUBgLPnFkv8XQHcI9nKytyBA+VYRW2fpFEBgmEwVjGocQE2pOPvwySBATMs18mb6IkDdblzZGG4gQLtJDAIrtyRAMS3XyJvZJUCTOgFNhC0jQOSoyXnsNBxALmt1TPBAFUCxBhVC9CEhQKoW/vmjtSRAlPk0FGQxHkDvzPH3eM4RQE/56r0LbghAUGhswtAdEEDDidUMlhcMQLsC5F5z4QhAw/UoXI9CB0B7pSxDHCsIQLHh6ZWyDBZAgNxrLiQtFkDP91PjpZsdQL2ZvsRFex9AjQPCYXxLE0ATYcPTKwUVQFQt/PNHeyBAXW3F/rLbIUAIGHCpXYYaQCcM3f/aZCBAvODmZ/1QIUBxh2AvJxsfQA4tsp3vZyBAZF3cRgP4HEB7ylfvXeAlQJPLf0i/fRxAXSNvpi9xGkCbd5yiIzkRQEFdtxtXNv8/yQprUCFEA0BbQj7o2ewDQIBIv30duARAxSPeJzT2CEBjEFg5tMgSQJHIUZPzWBdAI7bO0ijXIEBvN65sDAcdQJSKsw+foSlABVk84n1yJkA1zTtO0TEiQLtMOrf22yRA46JtD1XLKEAtjXJDZsEqQLG8vulwpypAibDh6ZWCJUB4xPuExuYcQGMQWDm06BxA1zTvOEXHGEB0/2tTT3kbQESIPjIwZRxA9NipzKchGkBb9bnail0SQCnwO3P8vQBAW0I+6NlsA0CYcUA4jO/+P0ku/yH9tgNAY3/ZPXlY/j+RyFGT89gAQCO2ztIotwdAwz9/tBJNEUAx5q4l5EMPQCVNqTj7EBRALY1yQ2YhF0AA2Kae8nUeQCdTBaOS2htAvZzseRGwJEC4Q7CXk80jQOnc2q8o0iBACD2bVZ8LI0BIlyS8Kk0jQGU+DQVZ3CNAseHplbK8IkBHcvkP6TcgQAPCYXyrWCBADEyB35lDGEAAvAUSFH8PQFG18M8fbQFAZdK5tV8RB0A0x9/jOUgAQEoPMOBSuwRA7+7u7u7uC0BZGuWGzMIIQPhQtfDP3wlAiKqFf/4oGUD7N0IZvY0hQCs6kst/aB9AZYU1qBCCIkBDHxmYAp8cQK36XG3F7iRAe1vW6phQIEALJCh+jGkgQN8FNz/rdyRAC//80UpkIECK1QyW1wchQOQUHcnlTyFApy9x0bYXIkDw8RykulMeQL2c7HkR0CBA5WTPiwD0HUCZBe3okiQbQOU8dirzqQlArEGFEH2kCECxCUP3v/YBQFz7FUUiRwNAgr2c7HnRAUBA7jUXkqYHQGf6EhdtewxAXNbqmOCBCkAnwoanVwoLQCBj7lpC/hhAmJM9LwJwIEANKoToI9MjQLGawfL6diFA2KNwPQoXJUA9TtGRXD4jQDeJQWDl4CJAOiNKe4PPIUDvf23qKV8dQAEoWWENqiBA8KfGSzd5I0BYpQcYcOkaQGsr9pfdgyRAAEcoo7elHUDEZ9gVIBcTQDeubAwnlg1AKV+9d8FNDEDlZM+LANQJQNr2ULXwDwNAFBqbMHT/AUAO4C2QoDgEQNO5tV9RZA1ABTptoNNGHkD880cr0awZQHDOiNLeIB5AbTFSAnVdEUADnTbQaaMbQNPe4AuTGSFATRi6/7VJGkA7uiThVakeQIiqhX/+2CJA3CHYy8l+JEDTKDdkFtQjQNjw9EpZliBA/RuhjN42IkA7S6PckEkhQFO7TDq31iFAF/75o5UIHEDIUZPz2OkNQE+pOPvwWQlA8BZIUPwYDEAVQvSRgakNQNimnvLV+wdAfBSuR+E6A0BNGLr/tSkGQAxMgd+ZwxNAbxKDwMoBG0B/+zpwzhggQLfRAN4C6RVAbVmrY4KnFUDBXk72vKgVQGrecYqOxCBAn82qz9X2I0CkSxJelV4kQFBobMLQPStAvVXE1lkaI0A3iUFg5VAkQJNfLPnFYiFAqOhILv8BH0AGpsDvzIEhQJuZmZmZeSVAG3YFyL3WIUDg4zlIdQcVQOzlZM+LAApAEqW9wRdmEECMSuoENNEQQM07TtGRfBBA698IZfR2DEB4CyQofswLQA96Nqs+9xZADZbXNx2OG0DNp6EgiycYQElQ/Bhz1xhAzarP1VYsFUBEsJeTPY8TQBhOrGaw/BxAN9OXuGjLIUBrCfmgZ0MjQGxTT/nqXR5ArY4JHsxzFEC/7J48LBQMQDm0yHa+PxNAfPKwUGu6HUAdWmQ7358kQEtWWIMKkSVA7xMamzC0HEDgBTc/68cJQLBKDzDgkgVAoWez6nN1BUA62fMiAOUDQEOqOymmZf4/ZtK5tV9RBUDLyZ4XASgGQG3F/rJ7sgdAtFn1udpqE0C5tV9RJHIOQLeHqoV/fgpA+xVFIkftEECWQ4ts57sDQNyNKxvD6RNA2O3GlY2hGEBA8WPMXWsbQMHKoUW2cw9Avw6cM6IUE0CN4cRqBisTQP2vTT3lKxhA4TC+VcT2GUA5anIeO9UXQGsJ+aBnkxhAUrgehevRFEAtQxzr4jYIQDOfhoIs3gJAILByaJHt+z8TFD/G3DX+P7epp3z13v4/ZIIH80T9/z+riK2zNMr6P/VKWYY4lghAToc7BHvZFEChHV2S8EoVQJzpS1y0bRNA7eiShFclCUCj/o1QRk8TQERHcvkPqQ5A20CnDXRaE0BBz2bV5woaQCcxCKwcOiNA9W+EMnr7HkArG8OJ1awUQHuoWvjnDxpAOB3uEOylGUC3h6qFf14cQANT4HfmWCFAVXqAAZf6FkCNKxvDidUEQDm0yHa+n+o/ke18PzXe8z+cWM1geb0BQFFJnYAmwgJAq8/VVuwvAEDNFiMlUJcDQD9XW7G/rBJAkX77OnCOFEB4xPuExmYbQFHdSTEttx1AfdPhDsHeHUBxr7mQNAUaQNweqhb+uR9A0GkDnTZgIkBFJXUCmhglQNFvXwfOiSVA7xMamzBkIkAwTKYKRqUeQOcdp+hIHiVAi47k8h+yIUAPUt1JMc0gQE2sZrC83h9Au7iNBvAmIECFpCkVZx8UQFilBxhwaQpAfKuIrbM0BkAjACUrrMH9P11txf6yuwRABC61y6SzCUA4+MJkqmAQQOj+16aecg1AZRa0o0tyEkB8YTJVMKoPQDRbjJRAPRNAJ51b+xVlFUC7Jw8LtQYTQPuExiYMPRxAIPrIwBSYFkDDq9IDDNgdQNlfdk8eRiRAWYY41sXdIUDDHYK9nAwcQDEt18ibCRxAaUrF2YfPIEBXM1he3zQYQG3F/rJ78hxAMCqpE9BEF0ARW2dplBsDQJ9khTWoUAhAKfA7c/w9+T9MN4lBYOX6P6+5kDSlogVADN3/2tSTAkBAfIZdAXIJQFuukTfTNxJAY6HWNO+4GUDDq9IDDFgbQMWPMXctsSJAO7f2K4qkF0BQ+eq9C44dQP/Xpp7yxSJAuycPC7VGI0Cw3rvg5ucfQM2qz9VWjB5AT4c7BHs5GUCcM6K0NxgiQJ6lUW7IjCFAkHvNhaTZIUAPejarPlceQHKKjuTyHyBADHGsi9vIGUD0RyvRbPEFQNCwK0DutQZAMgva0SUJAkDP0ig3ZFYBQM30JS7a9gBAX072vAhAAkB/Z46/xzMEQPs6cM6I0glAVOB35vhbHEAwcdG2h+okQFy07aFqcSRAcRsN4C0AIkAH7eiShLcdQEcASlZYIxtAXwSgZIXVGECvbAwnVlMaQODjOUh1hx5ArWnecYqOHkDhehSuR0EhQKNq4Z8/qiBAw9D9r00tJEC30QDeAqkkQPRsVn2udiJANc07TtFxFkAHX5hMFUwGQGtQIUQf2QJAg3mi/o1QA0DQ+oGYcYAHQBSrGSyv7wJAVL5674Kb/j8lKH6MuWsDQLcYKYG67gpAU7tMOrcWFEDILGhHl8QbQGt1TPBgXh1As3jE+4RGIkBPZT4NBRkcQMtX711wMx5AqVr45482IkDnQtKUirMWQKJq4Z8/GiJAMb5VxNb5IkBfvXfBzW8jQFDaG3xhMh1ABcvrmw73GUD0JS7a9jAfQKtgVFIngCFAgd+Z4+9RF0DYqcynoaALQL/pcIdgL/g/LWUZ4liXAkCvALnXXMj1P/OOU3QkF/M/rNIDDLhU+T+EVHdSTMsAQMBY8oslvwZAXf5D+u07IEDMOCAcxqciQBNhw9MrpRtAsL/snjxsD0BLo9yQWRANQCsYldQJqA1AeQ5S3UkxH0AFEhQ/xvwbQCigibDhaR9A4XoUrkeBH0DDP3+0Eg0bQJ/Nqs/VVh1AmePv8RzUIUAg0m9fB54hQMbZh8+wGyFArmwMJ1aTFEA/V1uxvywHQIuO5PIf0gBA2az6XG1F+j/b/KwfiNkBQOmShFelB/s/TO0y6dxa/z8QVQv//NH9P7naiv1ldw9Av+lwh2DfIEBQIUQfGYggQA93CPZyshJAV8oyxLFuEEA84n1CY5MMQLC8vulwBxRALY1yQ2ahG0C3GCmBui4bQIxvFbF1JipAQ7CXkz3fKEApFWcfPiMpQN+4sjGceCRA3PysH4jZIEC0Es0WI9UjQDmPncp8qiZAqOt248pmI0AT9W+EMnoZQOdn/UDMeAdArWnecYoOAECzVscEDyYKQPDu7u7u7v0//PAZdgUIBkAPMOBSu+wSQO2hauGfvxFA8BZIUPyYFkDDhqdXyvIYQGGh1jTvOBdAsy5uowH8G0CfqH8jlFEiQAWjkjoB/SNA71pCPui5HkAp7Q2+MLkeQCuHFtnONyBAPJgn6t/IIUCXkA96NksjQMvrmw53WCdAZ2ZmZmaWIUB7pSxDHIsjQGI1g+X1DSNA3ZOHhVrTGEA5+/AZdsUNQNdZGuWGzAdAsXWWRrmhBEC7kDSl4mz9P5BZ0I4uyfs/QV23G1d2B0CVaLYYKUEIQMfctYR8UAtA0IsAlKwwDEAoX713wc0KQKVza7+iCA9AhTjWxW20GkDkFB3J5Z8eQLuTYlquUR9AMAV+Z47fHUDPGVHaG/wfQAY3P+sHwhBAQcw4IBxmE0B7OdnzIhAhQE2mCkYllSJA30+Nl27SHkAUZPGI9ykbQFHaG3xhMh5AM5+GgizeFkDcQ9XCP18QQLWmeccpWhBATfOOU3TkDkDdtYR80PMOQPVKWYY4lgVAtFn1udrKBUDF3LWEfBAGQAuQe82FJB1ARGlv8IWpGUAbnl4py5AeQJdGuSGzYB9ASQwCK4e2GEBVMCqpEzAaQGwMJ1YzaCJAEBERERGRIUD0aSjI4tEdQH/WD8SM4yNAc0aU9gbfJUBAOIxvFSEjQMsyxLEu/iNAN4YTqxnsI0BdtxtXNmYaQKSVaLYYeSBAEaKPDEyhG0BN845TdKQDQCMAJSusAQFAwMdzkOoOCkD9h/Tb1wEIQCvRbDFSggBAfa62Yn9Z/T+zDHGsi9sFQG1+1g/EjBFAYAfOGVF6GUBLDzDgUtsUQCAf9GxWvRdA0PqBmHHACUBlrY4JHmwaQAqyeMT7xCFAjACUrLB2IEDxiPcJjf0iQE/OY6cyHx9AF7fRAN6iH0BLxdmHz5AZQKS6k2JajhdAKz3AgEutFUDdblzZGC4fQMl2vp8azyJAc0aU9ga/IEAVZx8+wy4VQHmf0NiEYQ5A03KNvJleEUAzWF7fdHgPQO+Cm5/1Qw9A8Mzx93jODEBTBaOSOoEPQLwC5F5zQRJACWX0tqy1G0CxLm6jAVwVQA9S3UkxzRVAH8wT9W9kFUAHzhlR2jsbQANT4HfmGCNA3NeBc0YEJUCDdnRJwtsgQEyB35njPyNAu2sJ+aDHIUBIv30dOBckQDtwzojSHiFA1ZrmHafoHUDGt4rYOmsjQLKd76fGuyJA80T9G6FsH0BhVFInoCkSQPk0FGTxyBRA268oEjlqFkAPnDOitPcQQCHVnRTTMhFA9yuKRI6aD0DJ5T+k394QQB3uEOzl5AtAuPlZPxCTGkCze/KwUOsYQFhe33S4IxNAOf4ez0EqEECfhoIsHrEQQHlb1uqYIBdAX3Dzs35AH0AVak3zjvMZQIrVDJbXVyRAcBWxdZbWIED8h/Tb10EXQABHKKO3BRNAe8pX711wEUDput24srEbQE9lPg0FWSJAKxiV1AmIHECpFv75oxUPQGQ730+NlwpA5WGh1jTvDECFyVTBqCQPQG80gLdAgg1Ap3nHKTpSCEAxT9S/EUoPQIAgZhwQTg9AQF23G1f2HEA7uiThVakeQBa0o0sSXhJA27JWxwQPDkBYYQ0qhOgWQEPSlIqzDxpACRueXilbIEAcMgva0eUcQDXyZvoSNxxAxreK2DpLIEA1OY+dypwRQJ3vp8ZLdxlAUNS/EcqoHUCAt0CC4ocfQI7hxGoGGyBA9QADLrWLH0AEeAskKH4VQCUu2vZQtRdAPVQt/PPnGEBr4Z8/WukeQLkk4VXpIRxAiR9j7lpiGkCw3rvg5ocbQNO5tV9RZB5APXYq82lIHUC30QDeAmkWQHsUrkfhehNAnX34DLuiGkAzWF7fdPgXQNO5tV9RZBlAqMMdgr1cG0BNhA1Pr2QkQGatjgkePCFAudqK/WXXGkBHTc5jp1IQQPTb14FzJhZA6Ugu/yG9FEBwh2AvJxseQMxdS8gHbSNAWatjggcjIUAkA1Pgd8YcQIR5ov6NUBVA93Ky50UAE0BzsudFACoUQGB5fdPhTg5AOLGawfL6CEC1qad89d4PQL1SliGO9RJAbOGfP1rJCUBRRm/LWl0QQO3rwDkjShtAILByaJEtHUBrmnecoqMWQCBj7lpCnhpAbzrcIdibJEBxh2AvJ0spQN9PjZduEiFAvHFlYziRHEAzwYN5oh4bQNsbfGEyNR5AfIZdAXKvHEArPcCAS60aQK0fiBkHRB5ABQ/mifrXGkDOqs/VVswQQIgW2c73Uw9AA8JhfKtIEECTOgFNhI0MQIBt6ilffQxAgG3qKV9dEEBfTva8COATQBNhw9MrpRtAPy8CULJiF0AAkX77OpATQOgg1Z0UIyFA7HbjysYwHUBjyS+W/LIjQL/pcIdgLyNA9JGBKfAbI0CcffgMu6IgQLVcI2+m7x1AQBNhw9PrIUA1W4yUQG0hQIXoIwNTkCBAZvfkYaEWIEAKHswT9c8kQLm1X1EkgiBAmJZr5M10F0Cr8dJNYpANQOb1TYc7RBBASsXZh8/QEkDuxpWN4YQRQBksr286HApAP6GxCUP3C0BSk/PYqYwQQK6RN9OXOBVArRxaZDv/HkB1bu1XFEkiQOGfP1qJZh1A135FkchRGEAne14EoDQgQBMXbXuomiBAJ6CJsOHJI0DfUrtMOuchQL0ta3VMYCRAdbhDsJfDIUBDYxOG7g8iQBt5M32JWyJAEHo2qz4XHUBxGN8qYusgQFk84n1CoxdAt9EA3gJpFUAJQMkKa5ALQBAREREREf0/k18s+cXSCEBYObTIdv4HQNdZGuWGTAhA9ZSv3rugCUBl9+RhodYOQAFNhA1PTxBA5Tx2KvNpGEAsG8OJ1SwRQKQE6rrdOBJAeTN9iYs2FEDgLZCg+PETQHulLEMcSyBA/RuhjN42F0ALjU0Yun8TQIMKIfrIQBhAe4ABl9qFEkAxdP9rU48eQDAqqRPQpBxAQBNhw9PLHEA4He4Q7KUgQKldJp1b+x5Abu1XFImcFECNTRi6//UEQNv8rB+Imfs/gJIV1qDCBEAKaCJseDoDQMeSXyz5xQdAY3yriK0z+z9LxdmHz3ADQJ1b+xVFYglAyg2ZBe0IEUCL22gAb4EHQBsv3SQGAfo/hRB9ZGAK/j9cj8L1KFwKQLMPn2FXQAtAa+GfP1ppE0BwzojS3kAZQEtWWIMKIRZAiPTb14GTFED9iiKRo3YiQA2ZBe3ochxAJ1YzWF7fFkA4He4Q7KUaQBhte6ha2BlAu+DmZ/0gEEDaG3xhMhUAQAG511xI2gRAK/NpKMhiB0B8zYWkKdUGQNiBc0aU9vM/t9EA3gIJ9j+Qe82FpCkIQGfV52ordgpA0GbV52rrFEBE1cI/f3QHQI8JHswTNQJAJQmvSg8wB0DT3uALk6kJQIaCLB7xPhNAubVfUSRyH0D129eBcwYdQODjOUh1Zx5Afoy5awnpIEAREREREfEZQFBJnYAm4htA8x/Sb18HF0DfcYqO5LIZQIy5awn58CJAJLn8h/SbG0CavsRF294UQC3XyJvpywlAYessjXLDC0Cp7qSYlusHQGNd3EYDeA1A9GxWfa62C0BcapdJ5xYOQA27AuRe8xVAQWDl0CI7GEAnDN3/2tQIQPCFyVTBaApAu924sjF8FEBY711w8xMYQFBrmnecQhpAX+KibQ/VHECYu5aQD7oUQI4G8BZIICNAcRsN4C3gIUDn01CQxTMhQAU0ETY8vSFAYHMhaUpFHkCS8Kr0ADMiQD1O0ZFcLiRARZHIUZNzJEDN8fd4DtIXQOWGzIJ2FBFAcKldJp0bDkBMN4lBYCUIQGwJ+aBnswFAw64AudecCkBpJZotRgoGQAgYcKldJglASzeJQWAlC0DI4hHvE1oKQBhLfrHk1xpAQ7CXkz1vHEAIh/GtIvYYQE/2vAhAKRhAQ61p3nEaIkAwLdfIm6kdQLPqc7UVGyFAI9v5fmp8GUD9r0095QsYQIg+MjAF/hxAfWRgCvwOHkCnwx2CvZwZQPdysudFwBxA0IsAlKwQHEDdblzZGA4XQIvYOkujnA1AHVpkO98PCUBjEFg5tMgDQBtUCNFHxglA29ElCa9KBUCnVJx9+IwNQFUL//zRyhZAGEt+seQXH0A3qz5XW1ESQIMsHvE+ARpA3Pl+aryUH0CB3GsuJA0gQOuVsgxxzB5AeOkmMQjsH0ADU+B35oggQHlYqDXN+yJA4+/xHKSaH0D+iiKRo1YjQNv5fmq89BxAuB6F61FYJkAbL90kBsElQLnXXEiawiFACBhwqV1mGkDz0k1iEFgZQLf2K4pE7hFAlyGOdXHbBkAxMAV+Z44FQEzLNfJmug9AR7xPaGwCEUBpuUbeTF8JQJmZmZmZ+RRA8IKbn/XjHEBBE2HD06sVQIuLtj1UrQ1AO9wh2MtJD0AcEzyYJ6obQO3DZ9gVAB1APb1SliGuHUBEi2zn+8kfQDWoEKKPnCBApATqut2YGUCZmZmZmRkaQJTz2KnMpxtAXSadW/uVHEAhZhwQDhMjQKcvcdG2VyJAcfbhM+wKHkANKoToI2MUQNsYTqxmsA5AIBmYAr/zDkDDHYK9nMwTQB3J5T+kHwlAOUVHcvkPD0C0fiBmHJASQHh3d3d3VxZAJU2pOPswGEDtVObTUBAQQAva0SUJTxdAJGx4eqWsC0BTT/nqvQsQQOHmZ/1ADBlAa7lG3kw/G0DdblzZGM4WQHyriK2zFBxAzV1LyAcdIUAFyL3mQpIgQBWPeJ/QWB5AH6foSC4fGkBqvHSTGKQiQAmsHFpkGyRATTeJQWAFG0A5SHUnxXQLQCFEHxmYAg5Amk9DQRZPEkDzH9JvX+cQQLXz/dR46QZAyAc9m1WfC0DMp6Egi8cOQBMXbXuo2hhAN9BpA51WGkAFEhQ/xpwUQF1txf6ymxVARwN4CyRoBEArhOgjA9P/P8+LAJSssABAaGzC0P3PGkAZmAK/M3ckQMdwYjWDVSRA4emVsgzRIUDR27JWxwQeQEPPZtXnyhRAEezlZM+rGUA+6Nms+nwgQNfIm+lLPB9AObTIdr4fHkBbrpE301cDQL/Hc5DqTvo/z2bV52qrA0CEDU+vlOUGQNfFbTSAt/0/pVFuyCyoAUB1kxgEVo4AQMt8GgqyWBVAne+nxkv3HUB7FK5H4aohQHQhaUrFWRlAu/+1qae8FkAIh/GtIoYkQG/LWh0THCdAPzIwBX6nKUC7AuRecwEjQL0Lbn7W/ydAf2q8dJOoIUBHb8taHdMeQJUeYMClViJAYHZPHhZaJUBrch47lcknQH9qvHST6CZAUt1JMS0HIkBXNoYTq/kVQMgHPZtVnw9APXYq82koCUDtL7snD0sQQIKYcUA4LBBAW4lmi5FSDUCR7Xw/NZ4IQAjzRP0bYRJACKnupJj2FUB3Tx4Wak0FQNeBc0aUthRAQ9KUirPvGUDmriXkg74RQNFKNFuMFApAs8h2vp9aFEBrLiRNqbgYQNXnaiv2dxVAvS1rdUwQIECIz7ArQD4gQLXtoWrhfyBABcWPMXd9IEBQssIaVCgfQAyTqYJRaSNA8WPMXUuoIkDlP6Tfvq4bQM6FpCkVhxRAWPKLJb94EUAkR03OY+cNQMGopE5AkwJAbHVM8GDeCkCMbxWxdRYFQLcbVzaGUxFAy3waCrLYE0AdpLqTYvoYQDXyZvoS1xVA74Kbn/XjEEAll/+QfnsSQOiShFelRwxAswxxrIsbB0AN41tFbL0aQA3gLZCgGBZAvlXE1llqIUAN4C2QoBghQA2+MJkqOBxARUREREQkIUCtZrC8vmkfQL0IQMkK2yFA2BhOrGbQGkCPCR7MEzUUQA3jW0VsnQ9AOB3uEOylAEBVVVVVVZUFQFDX7caVDfs/AEpWWIMK/z8cfGEyVbD7P4Obn/UDkRJAi5ESqOsGIkDwqvQAA24eQFuxv+yeLCFARZHIUZPTFkAAJSusQeUfQEL0kYEpsCFAKRI5anI+IEA2hhOrGSwhQIljXdxGoxxAcGI1g+W1GkAsZRniWPcYQI9QRm/LehlAiRw1OY+dHEDlYaHWNM8cQCk6kst/mCBARbbz/dS4F0CEDU+vlGUUQJzpS1y0LQxATfOOU3RkBkBMpgpGJbUCQPuBmHFAeAdAdwj2crLnA0BXfa62Yj8BQJB++zpwzg5ACBhwqV3GG0CeXinLEAcUQKCJsOHpFRVAjysbw4mVGEBJUyrOPnwiQOxU5tNQcCVAThi6/7UpJUAWsXWWRjkjQGF8q4itsyNAA5oIG56eJEDLNfJm+jIkQA8w4FK7nCJAgUvtMukcHUD8GHPXEmIqQLtG3kxfIiZAVxFbZ2nkIUBhnqh/I9QQQBVnHz7DrgtAlx5gwKU2CkCQDEyB35kNQJFZ0I4uCRJAqcl57FSmBkBdkvCq9EARQOx248rGsA9AjW8VsXW2FEDwzPH3eM4EQMzMzMzMjBFAa3VM8GDeCkCTqYJRSd0SQI8JHswTdR5AINJvXwcuHUA9LNSa5j0dQNXnaiv2dxxAWYY41sVtGEBdtO2hauEZQFUL//zR6hhAXXDzs34gG0CUh4Va05wfQNms+lxtRR5Aw4wDwmHcGEDHSzeJQeAHQFg2hhOrWQhAPVQt/PNHCECMSuoENJEMQBHs5WTPSwZACM4ZUdqbCkDo2az6XK0IQJUbMgvaMRFArEGFEH3EGEBRk/PYqUwQQM/6gZhxgBJAbC4kTalYEUBNpgpGJXUIQM/3U+OluxdAyQprUCHEGUBXDi2ync8lQBDpt68DByRAmeDBPFEfF0BdbcX+srsTQAg9m1WfaxZAFo94n9A4IEAfPsOuAMkkQD4vAlCygiJAK84+fIa9F0AsG8OJ1YwJQJF++zpwzv0/T/nqvQtuAEDo/temnvL7Pzy9UpYhjvs/5WTPiwDUAUDYgXNGlLYKQEs3iUFghRJA3yc0NmGIHUCDw/hWEZsPQJM6AU2EDQ9A7cNn2BXAFkBvEoPAyuETQHwX3PysHw9AxUgJ1HU7GEAfY+5aQo4hQDuSy39IjyVAS6PckFnQF0CbLUZKoG4UQL4wmSoYdRBAqFfKMsQxFkAdFmpN8+4XQJ/Nqs/V9hZANYC3QIKCE0DPhaQpFecMQHlYqDXNu/s/pSkVZx+++D8730+Nl274PygSOWpyHv0/KYG6bjeuAkA94n1CY5P7P3TaQKcNNBJAx9/jOUg1EUDnjCjtDV4QQHMhaUrFmR5A95oLSVOqJUAB3gIJio8gQDcawFsgISRAS+oENBG2HUDZFSD3mnsgQOltWatjUiBAScKr0gOsIkAFfmeOv9cjQA1S3UkxfShAbTFSAnWdI0Bx1OQ8duoeQNejcD0KZyBAUf9GKKNXF0Avk86t/WoQQC2yne+nRgtAZ46/x3NQB0BD1cI/f7QDQGsGy+ubzgpA0yg3ZBY0BkBRk/PYqUwJQAc6baDThhVAKfNpKMjiGUAlmi1GSqAOQINzRpT2Bh9AfdCzWfVZIED3vzb1lC8SQIFOG+i0AR9AfIMvTKZaJUCDB/NE/aslQNmHz7Ar8CJA2anMp6EAIkD4CY1NGEohQLfz/dR4iR9AU+B35vgbIUBb1uqY4MEgQKSYlmvkzR1A2Kae8tVbGUBIUyrOPvwQQKMjufyHVBJAA02EDU/vDUAjR03OY+cGQPguuPlZfwVAZIIH80S9B0AYBFYOLTIKQNmpzKehYBFAJS7a9lD1IEBoke18PxUSQNxrLiRN6RBA63O1FfvLE0D4mgtJU+oYQOQ2GsBbABlA3ypi6ywtGUBFA3gLJKgcQKCJsOHp1R9AK/NpKMgCHkBVwaikTuAkQNSXuGjbMyVALGUZ4liHIkDXEvJBzwYlQE/56r0LjiJAQ0EWj3i/F0CkmJZr5A0LQOWoyXnsFAhAW0I+6NnsDEArqRPQRNgMQB7xPqGxCQVAK6xBhRD9C0DvoWrhnz8NQJF++zpwThdAEYCSFdZgHUDhwTxR/4YSQPdQtfDPnwlAzczMzMwMBUDSb18HzpkUQAtGJXUCOhJAxSCwcmjRIEA3Yej+12YbQKywBhVCtBtA+Q/pt69DEkAUqxksrw8YQLWjSxJe1RlAfUJjE4ZuIEA+noNUdyIiQP4ez0GquyBAuycPC7XGFUB7qFr4508LQO8Q7OVkDwZA4C2QoPhxDkArzj58ht38P3uAAZfa5fg/bQ9VC//8/T8JG55eKcsCQPP3eA5SnQpAnTn+Hs+BGECqXSadW3sSQB+qFv75YwxArUSzxUiJDUC411xImpIaQC1GSqCuGxxA8WPMXUtoF0BQ1+3Glc0eQHl90+EO4R5A7cA5I0q7HUDxGXYFyN0VQCCIGQeEIx5Am3ecoiMZH0CE61G4HlUjQIUyelvW2iFAGw3gLZAgGUBUT/nqvcsHQKGM3pa1ugZAMJPOrf3KBUCIHDU5jx0KQABsU0/5aglAq9IDDLgUDkC4Za2OCZ4PQFWfq63YnxBALWhHlyQ8G0AV+8vuyUMCQEWU9gZfGANAca+5kDQl8z/FjzF3LSH1P/OOU3QkFwFAFPvL7snDDEBl1edqK1YdQHsUrkfhWhRA8oj3CY2NBEDJVMGopM79P92NKxvDaRNA4eZn/UBsEkDT4Q7BXk4YQKP+jVBGbyBAVLtMOre2HUDb+X5qvJQRQOjWfkWRCAlAG1QI0UcGDECEns2qzxUMQAemwO/MsQxAdEnCq9IDC0ABuddcSFoCQOAtkKD4cRBAaU3zjlP0GECNKO0NvnAVQCNKe4MvbBBA/ITGJgzdBEDSb18HzhkBQLCXkz0vAvU/MS3XyJvpBUDh6ZWyDPETQMDsnjwstB9AoGSFNahwF0DEjAPCYRwcQK0its7SSBlAYVRSJ6CJFUCJZouREmgTQGQ4sZrBshpADSqE6CMDIEDuNReSpvQTQGB2Tx4W6hNAm+Pv8RxkDEAsG8OJ1YwFQNfqmODBvANAZdK5tV/RBEDkpZvEIDAGQH2x5BdLXhVA57SBThsIGEB90+EOwV4TQGf6EhdtuwlAJQaBlUOLBUCYkz0vAtABQJ85/h7PQQ1A1+3GlY1BE0CvKBI5atIUQASgZIU1KBFAPS8CULKCGED4nTn+Hs8LQEjhehSuhxVAfWeOv8dzF0AUZx8+w44aQL8OnDOitBxAcfbhM+wKHkBLNFuMlKATQOspX713QQ1AJQaBlUMLDkB/j+cg1R0MQAO8BRIU/whAZYU1qBBiEkBB8WPMXUsJQKEgi0e8Tw1AqTj78Bm2EUCJi7Y9VG0GQGM1g+X1zQ5ARQBKVlgjGkDfBTc/68cOQL8zx9/jGRBAFSD3mgupGEADULLCGqQgQJMV1qBCSB1AhX/+aCW6GkB7gAGX2uUMQOtRuB6FaxtAAwmKH2POHUC7bjeubEwWQAjzRP0bwRlAn6h/I5SxGEA1W4yUQF0WQEATYcPT6xBARB8ZmAI/BECNKO0NvtARQMzJnhcB6AdAnxcBKFnhAkClnvLVe9cMQE3wYJ6ovw1ABX5njr+HHEBbjJRAXZcQQN3/2tRTHhBAMCd7XgSgFkCtY4IH88QPQLiHqoV//hhA54wo7Q2eFUAbVAjRRyYVQJckvCo9wA5ALf8h/faVGUBVWIMKIRoXQImtszTKrR5A0QDeAglqH0CNBvAWSCAhQNZ7F9z8DCJAgNxrLiRNG0Bj7lpCPmgRQMe3itg6ywlAoYzelrX6A0B674Kbn3UDQJ3KfBoKMv8/hROrGSzvBUAXSFD8GLMKQIXuf23qyRVAy1odEzz4IkCsz9VW7G8eQJ8XAShZIQhAhclUwaikB0CvtmJ/2f0RQBSrGSyvjx5AnX34DLviHEBZGuWGzCIeQOkjA1PgtyRAJzEIrBwaJEBX7C+7Jw8dQAv//NFKtB1AIUQfGZiiHUDL65sOd2gjQN1JMS3X6CJANV66SQwiGkDLpHNrv4IQQD0Hqe6kGApAMQisHFpkA0CrqqqqquoGQMvGcGI1QwNAExQ/xtw1+z+HpCkVZ58IQDIt18ibyRNAZT4NBVmMIEA1OY+dytwZQPnFkl8seRBAjbyZvsTFB0As+cWSX6wZQMUgsHJowSJAw9MrZRmCJ0AtRkqgrnsmQAep7qSYtiFAseHplbK8IEDrc7UV+4sfQP2H9NvX4RtAB6nupJj2H0C5awn5oFcjQO0y6dzazyBA3SQGgZXjGEBXgNxrLiQKQPRE/RuhDP8/ETlqch77BECMAJSssEYHQIUTqxksbwVAEaW9wRdmAkBwGN8qYqsAQIBwGN8qYglAIR/0bFadHEAbVAjRR2YRQIn3CY1NWA1AGcBbIEGxGEBgLPnFkl8fQFRP+eq9uydAF9nO91NTIkAEoGSFNegXQE3zjlN05BxAKO0NvjC5HEAJih9j7sohQNzXgXNGtBdA0UcGpsDvG0AIQMkKa9AcQBx8YTJVMBlATKYKRiVVEECFE6sZLC/4PwEGXGqXCQFAM5+Ggiye+j/nZ/1AzHgHQNseqhb++QJAEJ9hV4DcAEA8TtGRXH4AQHHzs34gRhNAObf2K4qEG0AcxreK2LoWQG9Zq2OC5xBAQ0EWj3h/FkCYcUA4jI8XQEvIBz2blRJAF5KmVJydFkBTmU9DQbYdQFxFbJ2l0RtAsZeTPS9SIEArYussjVIgQFCywhpUWCFAlWWIY10cIEAmwoanVwokQCMAJSus8SNAE80WIyXQHUAl5IOezSoZQIGYcUA4jAxAD3o2qz7X8j9oRGlv8IX+P1ei2WKkhAJAQ9KUirPPAkAJQ/e/NvUGQMDHc5DqDhNAJbwqPcCgGECfhoIsHtEbQPcrikSOCiJA1sVtNIB3IECX1zcd7qAhQGhswtD9fyBAQDVeuknMJkA0ETY8vZIkQP9rU0/5iiNAp+hILv9RIUB5ov6NUAYhQEsxLdfIux9AsZrB8voGHkChQog+MhAeQIkcNTmPHSBAgI/nINW9GkB348rGcIIUQMW0XCNvpglAO7f2K4oEDEB8PAep7mQHQCEf9GxWfQtAMS3XyJuJEECDThvotMELQK1p3nGKLhRAY6cyn4bCFUCLsw+fYZcEQPk0FGTxyAdA1edqK/a3GUDwGXYFyD0dQJzHTmU+bRZAwDb1lK9+GUCJ1QyW1zcbQMHvzPH3+B9AQ2MThu6/G0CHgiwe8f4eQFcRW2dpdBlA8ar0AAPOFUCs9y64+fkdQIO6bjeu7BxAd3RJwqsyFkBEQRaPeB8LQJVothgpgQdAs1bHBA9mB0BhNYPl9Y0FQHXgnBGlPf0/JXUCmggb/j/Tco28mf4DQNV46SYxCBBArdUxwYN5G0DwO3P8Pb4QQMvobVmrwxBAQH+0Es02EkCT8Kr0AKMSQOopX713ISBAsQYVQvSRGEBF2x6qFp4cQLAl5IOeTRhAC5B7zYXEGECs9y64+VkYQLPCGlQIMRhA0P2vTT0FIkAR7xMam/AmQBiYAr8zVyVAtRX7y+4pIECtZrC8vokQQLXtoWrh3wdABDHjgHAYBkCECiH6yMAJQE+KablGHgtAeJyiI7l8C0DP0ig3ZBYOQEugrtuNaxJADSqE6CNjHUAaUdobfGERQFzW6pjggQlA+6OVaLZYAkAXSFD8GNMUQGPuWkI+6BdAKTdkFrRjFkCkKRVnHx4aQLkhs6Ad3RxA82b6EhetF0DYy8meF+EaQNV46SYxyB1AdNpApw1kIUBTAnXdbrwjQEl4VXqAQSFAvzPH3+M5GUCNl24Sg0AJQLEGFUL00QRAnzws1JqmA0DZFSD3mksAQGBUUiegSQNAq/HSTWIQ/D90a7+iSCQBQAOX2mXSeQpAwBHK6G0JIkA3Qhm9LcshQKuFf/5oxRlAhYIsHvG+CUCt/YoikUMVQGPJL5b8gh1AGzIL2tF1IUCFNagQou8eQH5njr/HsyBAvL7pcIewJUAQ6bevAzcgQLhAguLHeB5AR5HIUZNzI0Af9GxWfW4kQMVqBsvr6yJAXSadW/sVGkDU4Q7BXo4KQDF3LSEftA1ASLkhs6CdBkDhM+wKkDsFQNNyjbyZvvw/nRGlvcHXBUD/16ae8lUCQPDJw0Kt6QxAU3H24TM8IUBt6ilfvZccQOnc2q8o8hpAA3gLJCj+HUB5M32JizYeQCyvbzrcgRxAu924sjGcGUCAcBjfKqIXQD9XW7G/HCFAtaZ5xykaIEDDjAPCYbwdQCRKe4MvfCNAJbwqPcDAJEAdEzyYJ2oiQC3a9lC1kCNAYcYB4TD+H0AFyL3mQtISQIBL7TLpXAlAWKg1zTtO+j93dEnCq9L0P3OQ6k6KKQJAV8oyxLGu/T+hZ7PqczUFQHsX3Pys3w1AS3uDL0wGFEBULfzzR+sVQNhfdk8e1hlAlY3hxGqGGUCWsgxxrDsgQG17qFr4Bx9AXY/C9ShcIUAgQfFjzH0ZQOhqK/aXTSdAfRfc/KzfIUCYAr8zx18gQFXBqKROwBVAExdte6j6FUDDZKpgVEIkQKHZYqQEuiJAHMa3itgKIUCopE5AEyEWQPUoXI/CdQZAlR5gwKX2BECBvZzseVEGQOEz7AqQewNAI2x4eqUsBEDfKmLrLM0IQEgGpsDvDApAYXyriK0zFkBpuUbeTB8KQChZYQ0qJBRADCdWM1jeE0Cb6UtctH0hQNtl0rm1vx1AuPlZPxDTE0DoSC7/IV0ZQMSxLm6jQRNAo9lipATKEkC5HoXrUdgXQGUcEA7j2xJAMVICdd2uFEBB8WPMXYseQBE2PL1S1iFAC41NGLo/GUCZKhiV1IkCQPOwUGua9/k/Ke0NvjCZ9j/1Bl+YTJX+P5OpglFJnQVAGuWGzIIWEkCJY13cRsMAQIEExY8xtwBA9y64+Vl/CEB02kCnDZQVQFuMlEBd9w9A80HPZtWHGUA/noNUdxIQQM9m1edqSxNAzarP1VYMHEAAlKywBgUjQNcxwYN5Ah5AkAxMgd/ZF0AzMzMzM7MgQFyxv+ye/CZAa5dJ59Z+G0BdtO2haqEfQO0vuycPayJAVOOlm8SgHEBQbsgsaAcPQH+0Es0WI/s/4L4OnDOi/j8p8Dtz/D0HQKfA78zx9/o/7saVjeEEAEAFNBE2PL0JQJGjJuexsxNArUfhehSuIUALRiV1AsoiQMDvzPH3uB9AAr8zx99DE0D1Bl+YTHUXQH0aCrJ4xBtAcRsN4C0QHEClwO/M8dccQLN4xPuEZh9AW0I+6NmMJEB3dEnCqzIjQLvduLIxfCNAKMW0XCP/JkCXIY51casmQBGAkhXWMCBAJZotRkogGUDc+X5qvPQLQGDApXaZNAdAQH+0Es0WCEC8u7u7u7sAQCyKRI6anAZAseQXS37xCEDduLIxnNgEQKEdXZLwKg9AHfE+obEJG0DkpZvEIFAiQPl+arx0gyNA74Kbn/XjHkAwlvxiyc8cQP+ye/KwUCFAwYN5ov79IUA/EDMOCFcgQGawvL7pkCJApnnHKToiIECYJLwqPYAbQO3GlY3hBBlAy+ubDneoHUAk3ic0NoEjQFO4HoXrkRpAO22g0wY6G0D1udqK/eUOQKMjufyHtBBAjE0Yuv81EEAJr0oPMCAUQA+cM6K0NxNAEezlZM8rEkCOUEZvyzoUQG0xUgJ1/RRAUbgehetRGkDvpJiWa+QIQLtMOrf2CxNAUXH24TNsE0A9VC388wcaQJRiWq6RNxdAYzWD5fVtE0BlqmBUUscTQJ8U03KNnBdAy6FFtvP9H0BLxdmHz7AcQM/VVuwvOxVAeJ/Q2IQBHkD5fmq8dKMjQPOLJb9Ykh5AVccED+aJG0DpIwNT4FcQQI+dynwaiv0/wOyePCyUBUC4sjGcWI0LQDvfT42Xbg9AYQ0qhOgjC0CYAr8zxx8OQOjZrPpc7RJAVHdSTMtVHUBDGb0ta3UbQLUV+8vuSR5ASTRbjJSAF0CY3ZOHhTofQGgAb4EEZR1A7HbjysYwIkCL/WX35MEiQILix5i7ZiRAla/eu+CWI0AIrBxaZMsgQIC6bjeu7ApA7cNn2BUAEUD0IgAlK1wgQOn+16aeUhtArPcuuPl5F0AFEhQ/xhwGQEHxY8xdiwZAlIeFWtP8BUDfKmLrLE0KQLvduLIxHA5A2RhOrGYwDUDDQq1p3vEKQH3T4Q7BHg5AnRTTco08H0DNY6cyn6YmQLXqc7UVSyRAm1Wfq604IkAA29RTvhonQOjZrPpcvSdAsCtA7jW3KUCQxSPeJ5QmQK9vOtwhKCdAwIBL7TK5JEA3F5KmVNwfQMh57FTmEw1A7xMamzD0CkA18mb6EpcgQDuV+TQUlCBAvE9obMJQGUAg0m9fBy4TQJsLSVMqzg1AxW00gLcADkAZLK9vOhwMQFKWIY51MRBAqzsppuUaDkBHcvkP6bcQQCh+jLlriRhAWx0TPJinH0B1TPBgnmgbQNyyVscETxpAF7SjSxJeFkA4Qhm9LesWQHdSTMs1MhVARSV1AprIDUCQ6k6KaZkcQDXyZvoSFxxApeUaeTO9G0AEeAskKJ4fQKnP1Vbsjx1AcPCFyVThEkDEQq1p3tEgQOhFAEpWuBxAqxksr2/6GkCneccpOpISQJdGuSGzIARArfcuuPmZAUBnsLy+6fAJQGAHzhlR2g5AGLfRAN6CC0AIGHCpXaYRQPo0FGTxaBBAWRSJHDXZEkCMtj1ULXwJQKH4MeauJQVAhXzQs1m1DUBwzojS3sASQHGKjuTynwlAmXFAOIwPE0DSSjRbjOQhQPzOHH+PZyJAIbOgHV1SIUD3vAhAyTonQPH0SlmGGBxAXQFyr7kwF0CnV8oyxHEWQFwjb6YvER5AdNcS8kGvGkC94xQdyQUQQGhHlyS86gFA670Lbn5WCUDjpZvEIPAHQIDZPXlY6AtA564l5IOeCUC3ztIoN+QOQD8NBVk8QhNAcM6I0t6AFkD7FUUiRy0TQHfjysZwghpAx7eK2DpLIkDM7snDQu0lQHP/a1NP+SxA4zYawFvAIEAgp+hILh8fQCAcxreKeBxAWc1geX1zHEC7Jw8LtZYgQMgED+aJSiBAuriNBvDmI0DKnhcBKKkjQEFg5dAimx5A05e4aNsDG0CvbzrcIfgSQMDHc5DqzghAcWVjOLFaDEAdOGdEae8HQIUQfWRgygdA2A/EjAMCCUD/Riijt+ULQOGfP1qJZhNAR5T2Bl/YHEBFs8VICVQUQDIwBX5nHiBAQxzr4jaqIUDA7J48LBQfQM3x93gOAiZAZa2OCR6MKUD46r0Lbv4eQOdC0pSK4yZAV+wvuye/KEDl8h/Sbx8jQMwruGrKDAtA97wIQMlaEEDarPpcbW0YQNrRJQmveiBAy6FFtvNdGkAooImw4ekXQA0qhOgjgxFAqxksr28aEED90Uo0WwwLQNtl0rm1Hw9AP+jZrPpcD0DTl7ho20MLQHuAAZfaJRBAv+lwh2BPF0D4vzb1lK8MQFfKMsSx7g9AowG8BRJUBkDBYXyriG0YQKSVaLYYyRtA7evAOSPKFkAhH/RsVl0hQPjCZKpgVB1AUwWjkjqxIEDXNO84RYcUQNBBqjspJhdA+Ay7AuTeHkDNO07RkQwiQGklmi1GGiFAgXAY3ypiGkDEGlQI0QcZQJiQD3o26wlAH2PuWkL+DUCNA8JhfCsQQM9Bqjsppg1Apy9x0bYHEEAdpLqTYjoTQLkhs6AdvRVA374OnDMCHkA9wIBL7fIPQLu4jQbwVglArGawvL6pA0DxHKS6k0IQQPVNhzsE+wtAUENBFo/4E0AdEzyYJzogQBBVC//8kSRA9UpZhjgGIkDlq/cuuLkaQIvbaABvYRRA8F1w87NeGkCRxSPeJzQjQLmQNKXiLCFA5a4l5IP+GkDnZ/1AzPgIQKDNqs/V1g1Aa5p3nKJDEkDDZ9gVINcQQGRd3EYD2BBA8O7u7u7uDUArr2863OEQQGCbespXTxFAlSGOdXE7G0AXSFD8GPMTQN+74OZnHRRAxSYM3f+aGUDQH61Es9UgQJckvCo9ICFAT9GRXP7jI0Dek4eFWjMkQFyPwvUofCZAoEKIPjJwJ0ClKRVnHz4eQCW8Kj3AwBNAMAV+Z46fHEAj2/l+agwiQN2QWdCOfiNAjNg6S6O8HUB9HThnREkVQIjPsCtAThJAfK62Yn9ZCkBwOtwh2AsIQFKWIY518RBATx4Wak1zCkAdOGdEaU8VQHNGlPYGHxlAlUBdtxu3IEAmUwWjkpoRQLQPn2FXwBxAmNpl0rnVGUAASlZYg6ocQKHWNO84RSFAbsgsaEf3I0CLsw+fYQcjQPUlLtr24CRAp3nHKTpSJkDuNReSplQjQHNoke18/yNA76SYlmv0JkC4Za2OCe4kQHAY3ypiOyZAeHqlLEMsJEAYuv+1qQceQHBfB84ZURVAP1dbsb+sCUCvvL7pcEcEQHD24TPsig5AeDBP1L9RCUDRbDFSAjUNQEHMOCAcxgVA7zhFR3I5FkAoDN3/2lQPQHvNhaQpVQ9AO7f2K4p0I0Ax44BwGA8mQMff4zlI9R9AMXctIR/UI0D/jVBGbysgQDu6JOFVOSFA1HW7cWUjIUBzsudFAIoaQAF13W5cKSBA7RDs5WSPGEBMgd+Z408dQOOibQ9VuyBAuPlZPxAzIUAgGZgCv/MZQHNoke183xVAx05lPg3FCkB56SYxCEwQQOHjOUh1BxJA4Q7BXk62EEBVd1JMyxUTQN0CCYofgxdAx3BiNYMVJECjAbwFElQVQPrqvQtuPhNAuEOwl5M9GUAQn2FXgBwZQL+fGi/dNCFAcdG2h6plJ0DAWyBB8dMkQFtnaZQbMh5Ap8Mdgr0sKEAFNBE2PG0kQAkezBP1LyBALfzzRysxIUDUmuYdp/gjQKH4MeaulSBASJ2AJsImHkDcRgN4C0QUQK8l5IOeTRRAIUQfGZjiEkDgdLhDsLcUQCkSOWpy3gtA74Kbn/WDFECT89ipzEcVQIeFWtO8YxhAxf6ye/JwHUBLo9yQWZAVQCD3mgtJExdAiBkHhMNYFUC5sjGcWM0aQEsPMOBSGxpA8Rl2Bcg9HECk374OnMMiQDvfT42XHiZAdP9rU09pIUCUYlqukachQODBPFH/ph1AEHo2qz6XIkBHKKO3ZT0iQJ3pS1y07SJAKIG6bjfOHkBITc5jp/IXQAtrUCFE/xZA5MrGcGI1E0CIPjIwBb4XQCwbw4nVTBRAX5hMFYyqFkCQ5yDVndQTQN9PjZduMhlAz4jS3uDLHUDRAN4CCWocQD/G3LWEnCBAd5l0bu13FkBwy1odE/wbQK/bjSsb4xtANaXi7MMHH0BobMLQ/U8aQDsBTYQNbyFAB6nupJgGIkAjlNHbsqYhQMFhfKuIvSBAuGWtjgkOI0AAkX77OpAkQHKvuZA0JSNAq/QAAy7VIEDYX3ZPHjYXQCKOdXEbjRNAuriNBvBWEEAYSFD8GDMPQHXaQKcNtApAffs6cM4IBkDfblzZGA4LQM+LAJSssBNAMJb8YskPHkDYPXlYqHUeQKMm57FT2R5APEuj3JB5F0AtRkqgrpsaQLEJQ/e/lhxAzfQlLto2HkALtaZ5x9koQIEp8DtzrClA4emVsgwBIEAT0ETY8MQhQBGijwxMUSFASS7/If3WIECWsgxxrCshQP6vTT3l+yJA5av3LrgZHEDkXnMhaWoSQMsQx7q4zRNAR+F6FK5nEUAfp+hILn8RQKJI5KjJuRBAvVKWIY51EEDkg57Nqs8GQOaJ+jdCGQJARdjw9Er5GUCzwhpUCGEgQAv5oGezKh5A76SYlmukGUALa1AhRP8fQOM2GsBbgB5Ap57y1Xt3F0CFEH1kYOoYQNg3He4QTCNAPHP8PZ6jIEDJLGhHlyQOQD12KvNp6CBADAIrhxbZIUCLIpGjJocdQAdfmEwV/CBANOwKkHvtHUBBQRaPeJ8NQA96Nqs+1/w/H/RsVn0uBkBo20PVwv8PQJsLSVMqTg5ASFD8GHOXE0B56SYxCGwKQPNE/RuhbBRARBm9LWs1DEDZX3ZPHpYPQND9r009pRFA9LN+IGbcD0AjR03OY6cHQBiV1AloohhACPNE/RuhHEABuddcSLohQOlILv8hfSRAKMjiEe9DIkAHhMP4VjEYQJ2lUW7ITBBATT3lq/duHUD1AzHjgFAkQINRSZ2AZh9AEYCSFdbAH0C0MZxYzeAaQKK0N/jCBBJA606KabmmE0BJeFV6gMESQL/Hc5DqjhFAZxwQDuMbDUC+nOx5ESAQQDvcIdjLKRFAS6Cu240LGUDPiwCUrHALQGQ730+NFxZAJwzd/9rkIEA9m1Wfq80aQKh89d4FFxJAfImLtj20GUBhLyd7XvQhQBI5anIeCyBA1XjpJjGIHED99nXgnFEeQCvzaSjIgh5AGlQI0UeGIUCAI5TR2/IfQHVM8GCeaB5Ay3waCrKYFkC1pnnHKfoSQC3880cr0Q5ARUREREREDUCB4seYu1YNQI0DwmF8KwhAN4YTqxlsC0BVUiegifAOQBfZzvdT4xhAu5NiWq4xHECbCBueXukZQNH6gZhxsCNA07m1X1HkCUCNKO0NvpAbQEdNzmOnwiBA0gDeAgkqIEBT4Hfm+BsdQPNBz2bVBxRAXQSgZIWVHkDwhclUwUgiQNlfdk8eNiZA3W5c2RjeJkBzr7mQNOUjQCjtDb4wGRxAAwmKH2MuFUAjR03OYycOQLwqPcCAiwlAO3DOiNLeB0BfBKBkhbUHQETY8PRKWQlAdCfFtFwjCkDs5WTPi0AOQFuMlEBddw9AuPlZPxATIED+G6GM3rYUQEHJCmtQIQxAdy0hH/SsDUAw44BwGP8dQIiqhX/+yBdA6XO1FftLGEDxPqGxCYMaQGwuJE2peCZABOq63biiIkAvbqMBvMUSQMSxLm6jISRAWTzifUIzKkCdEaW9wYclQCyHFtnOtx5AwxpUCNEHGUAdpLqTYroSQMDHc5DqbhFAfBfc/KwfC0CrPldbsX8RQAfL65sONw1AkVz+Q/otCEDA6XCHYK8HQPPYqcynwRRAubVfUSTSIUAoo7dlrc4WQO/u7u7urhNAVXqAAZc6FkD+G6GM3jYUQJTR27JWBx1AMuauJeQDI0BQRm/LWr0kQKVOQBNhYxpAn82qz9V2HUDDGlQI0XchQLErQO41FyRAg3Z0ScJLJ0AxmSoYlTQmQH/ZPXlYKCRAHRAO41vFIUA7JngwT9QYQCXhVekBBg1AidLe4AtzEEDYpp7y1TsRQPnqvQtu3hBAt/YrikTOE0BF2PD0SlkLQPgx5q4lxBdAs6AdXZKwIUCyeMT7hIYhQJotRkqgPiNAhOgjA1OgHkC5tV9RJBIZQAc6baDTph1AkFai2WLEHUDvgpuf9SMkQB6n6Egu3yNAONbFbTRQIUAxwYN5ot4fQPuBmHFAWCVAI0p7gy/sJUAvbqMBvDUgQHd0ScKrgiBAGJXUCWjiIUDPs1n1ubocQMlRk/PYiRlADQVZPOK9FEBLe4MvTOYWQLC5kDSlwhhAtTomeDDPFECFf/5oJboWQIuLtj1UTR1APcCAS+3yHEC8Jw8LtXYjQEvF2YfPsChAnl4pyxDHI0CHNagQoq8bQCRy1OQ8Fh9AfT81XrqpI0BN845TdKQiQItpuUberCRAVMGopE7ALEBZq2OCB1MqQJNfLPnFsiRA59NQkMUjJUBjpATqus0jQEgr0WwxwiBAdLhDsJdzG0DXxW00gPcWQGXxiPcJ7RpAJ8KGp1dKC0CtQYUQfUQQQAdfmEwVzApAUWuad5yCEUDvOEVHcjkRQGEyVTAqCRZALPnFkl+MFUDfTF/ios0WQCJseHqlHCFAqjsppuVqIUAr82koyFIjQJX8YskvFilAYAfOGVF6JECWIY51cRslQIu2PVQt3ChAiM+wK0D+JECP5PIf0o8iQCfFtFwjbyFAwRcmUwUjI0BRJHLU5FwgQMdLN4lB0CJABMJhfKvIH0B4eqUsQ9wZQFmoNc07LhVAY3/ZPXl4EkCt1THBg1kWQIV//mglmhBAiBw1OY+dDEBM8GCeqL8PQBzr4jYaQBZAzWB5fdNhGECpyXnsVEYbQGsoyOIRLxVAj1N0JJd/GED0IgAlK0wTQND6gZhx4CJAFYxK6gTUI0BjyS+W/AIkQGvkzfQlXiVApgcYcKnNIUC8BRIUP+YgQMCldpl07iBAOdwh2MspJkDBzc/6gbghQNmpzKehECFAkOcg1Z2UHEB7gy9MpioUQL+fGi/dRBNAX3MhaUolFEA/V1uxv2wSQEH0kYEp0BVAJG+mL3HRDkANuwLkXnMOQHjBzc/6wRhAp+UaeTMdG0AZwFsgQdEeQPVvhDJ6iyBALPaX3ZMXIkCMuWsJ+aAmQJNfLPnFQipAJN4nNDYBKEBbQj7o2RwiQDTH3+M5KCZAI7bO0ig3IEC1y6Rza88kQA/mifo3oh1AMQva0SWZJUBqlBsyC4okQBm9LWt1jCNAFR3J5T9kIED/Q/rt63AgQCS8Kj3AoBhA+FPjpZukIkDLoUW2890mQNmEoftfSyZAGHCpXSY9JUCq8dJNYgAgQGhKxdmH7xpALNSa5h1HH0CVr9674PYkQFk84n1C8yZAMJb8Ysk/KkB6xyk6koskQJHqToppiSNAnzn+Hs9BJ0Aw44BwGP8oQD2eg1R3AiZAQFdbsb8sJkA8c/w9nuMdQKQm57FT+RdAWKg1zTteIkCJi7Y9VE0lQGklmi1GCiFAQO41F5IGGEAofoy5a0kXQN21hHzQcxRAnaVRbsisFUBBguLHmLsWQERpb/CFyRdA0W9fB855FkCC4seYuxYRQIWh+1+bGhVA2anMp6HgGEB57FTm03AXQCRKe4MvzBhA87BQa5o3E0D7psMdgj0XQDu39iuKJB9A1L8RyugNJkCZ4+/xHJQlQPeaC0lTSiFAFdagQog+HUDPHH+P5yAaQHuGXQFyLx9AdG7tVxQJJkCHONbFbXQmQO0NvjCZOiJAf9k9eVjYIEBbZDvfT20VQKH7X5t6ShRAVAjRRwYmFED67evAOQMTQHVM8GCeKBNA3B6qFv6ZEkBUCNFHBmYSQIObn/UDkRhADN3/2tQTGkCze/KwUGsOQCEf9GxWvRRA7eiShFdFEECxdZZGueEKQKfrduPKBhNATTq39itKF0CZT0NBFs8fQLhlrY4JPhpAsS5uowFcFUATg8DKoSUaQI3hxGoGyx5AF5KmVJxdJEA1OY+dyiwkQN3arygS+SBAp1ScffiMGkBheX3T4Q4ZQMlUwaikDhRAUNobfGFyC0DDGlQI0YcEQHGHYC8nOwxAWT8QMw4ICEDH3LWEfBARQIeFWtO8AxJA89V7F9x8G0AcxreK2HoXQADeAgmKnxlAf4y5awk5EECxvL7pcAcCQAnUdbtxBRNAEezlZM8LGUCTYlqukQckQBgpgbpuByZA9+Ez7ApQIUBPhzsEe/kXQK0fiBkH5B9AhRB9ZGDqIkDpJjEIrHwiQFfHBA/mOSJA2O3GlY0BH0DgUrtMOpcYQMkvlvxi6RVA9JSv3rtAGUCHXQFyr3kVQKUHGHCpvR5ADG5+1g+kHEAZmzB0/2sZQHulLEMcyxZABOq63biyFkBk8Yj3CW0aQPd14JwRpRJAk86t/YoiC0ALtaZ5xykQQPGI9wmNnSBAfWRgCvzuIUAMJ1YzWK4mQH1kYAr8riJABaOSOgEtHEBMyzXyZoohQIeCLB7xXiBApLqTYlp+JkAbw4nVDKYnQBAw4FK7HCdAUkmdgCbyI0D/If32dRAiQD1ULfzzNyBAk6ZUnH34GECLIpGjJicXQJngwTxR3xdAj3if0NjkFkCXJLwqPcAXQCOzoB1d8hpAY8YB4TA+FECCLB7xPgERQB+qFv75MyJAcWVjOLH6GUCzLm6jAfwYQBgHhMP4thxA5/h7PAdJIUBA7jUXknYkQJKBKfA7AyJAZGM4sZqBH0DTBjptoDMgQN0h2MvJ7iJAkJ3KfBrKHUBkzF1LyMcdQCFmHBAOoxlAAlCywhp0FEC2OiZ4ME8VQDhkFrSjixRA5YbMgnbUGUBNGLr/tUkYQCHYy8meVxdA/Bhz1xJSE0AJZfS2rBUTQN3arygSeRlAeOb4ezxHHEDrBDQRNnwSQOOibQ9VKxNAXwfOGVE6FUCrYFRSJ+AYQAAlK6xBJRtAcPCFyVShIkC/DpwzogQhQM8+fIZdESJAzYJ2dEmiJEAhi0e8T1ggQN0kBoGVUyFAGHCpXSb9JkBhDSqE6BMlQNXkPHYqIyNAscIaVAhxG0D0jlN0JFcZQAWmwO/MER1A59NQkMXDH0APdwj2cgIgQBksr286jCBA4+zDZ9gVGkA9wIBL7XIXQDtIdSfFFBpAvALkXnOBGUC5IbOgHd0UQDnZ8yIARRRAB/AWSFAcE0Aj2/l+atwdQDU5j53KPCNAk1z+Q/qNJ0D8zhx/j/clQJyiI7n8JyNAWfKLJb/4FUCQwvUoXA8NQMkHPZtVHxxA9Ecr0WxxJUBxYjWD5SUgQMAU+J05nhVAIbByaJENGED5xZJfLHkXQAMJih9jThtAGJgCvzMnGkBjpATqul0aQL8wmSoY9RdAr5E305fYF0B3mXRu7TcWQMX+snvy8BZAd8HNz/pBIUBVnH34DHsVQBHvExqbMAtAi9g6S6O8FUAUZPGI9+kgQFyMlEBd9yNAy+ubDndIIUAVIPeaC/kmQOPHmLuW0CRAwoanV8piI0DYgXNGlPYcQK9vOtwhuCVAdW7tVxR5JkCLtj1ULTwlQKyL22gAfyBAZdK5tV8RGkB9rrZifxkPQO0vuycPyw5Aa1AhRB8ZDEAB4TC+VcQLQKOSOgFNhAtA6EUASlZ4EUBwqV0mndsMQL/ERdseChVAQFqJZotxH0ChjwxMgd8LQJl0bu1XlBhAy6Rza78CG0ArhxbZzncYQCtA7jUXciBA4JwRpb0BJUCpOPvwGUYhQOF35vh7XCRA59NQkMVjFEAgH/RsVj0JQHnHKTqSiwNAaEeXJLxaIUDR/a9NPXUjQJkF7eiSdCJAR9seqhYeGkA4Qhm9LWsLQI8JHswTtQtAJZf/kH57D0AtjXJDZsEQQJX5NBRkERJAvgtuftbPEUD5oGez6rMSQJj/kH77uhZALdfIm+lbIECL2DpLo/wWQI2XbhKDAAZA59Z+RZFoEUBDhRB9ZIAaQPP91HjpBiFAiUFg5dBCHEDb14FzRkQgQIcTqxksbx5AmzB0/2uTHECvSg8w4JIRQLGXkz0vYhxACvmgZ7PaIUCSXP5D+i0iQGWFNagQohhACR7ME/VvE0BF2PD0StkRQIBt6ilfPRFAPL1SliHOCECJQWDl0GIHQJ1b+xVFogpATx4Wak2TEEDTAN4CCcoLQOM2GsBbYBpAIM9BqjupHUBXM1he37QVQH8gZhwQjhVAjN6WtTomFkC1N/jCZEoQQM+t/YoikRVAexSuR+F6IUAQDuNbRawiQFWfq63Y/x5AP8bctYRsIEAFNz/rB8IiQF3cRgN4qyNA5vh7PAf5I0AJQMkKa/AkQK2OCR7MwyNAgwoh+sigHUCR7Xw/NU4hQKwcWmQ7HxlAAJSssAYVFkCZKhiV1OkQQGHD0ytluRVAi5ESqOt2EkDxQc9m1ecOQFjyiyW/mB1AAwmKH2MuGUAzelvW6vgSQPAWSFD8+BRAwavSAwwoIEBO9rwIQLkiQFtCPujZHCRAh2AvJ3ueJUDLxnBiNcMnQJDnINWdpC1ANOwKkHs9KEBLDzDgUrsoQDFSAnXdHiBAfyBmHBDOJEBTKs4+fJYgQNdZGuWGDBlAmuPv8RwkFUCRfvs6cM4bQKebxCCwkhZAyCk6ksufFkDkysZwYjUYQIHfmePvERRACUP3vzZ1FEBaq2OCB7MUQMOr0gMMGBhAOG2g0wa6H0D/If32daAhQOXQItv5HhtAUW7ILGhnIkARgJIV1mAZQCGLR7xP6CFA/awfiBmXIUBs5M30JR4iQFS+eu+COyVAkHvNhaSJIUDoSC7/IX0hQNSa5h2naCBAXpLwqvSQIkBDHOviNnocQNGzWfW5uiBAmzB0/2szHUDrKV+9dyEUQN4CCYofgxNAI5TR27JWGEC5tV9RJBIYQABvgQTF7xlAkct/SL89E0DUvxHK6E0UQD12KvNpSBpASAN4CySIH0AdNTmPncoVQM04IBzG9wdAG1HaG3wBGkDwOEVHctkaQGjbQ9XCPyBAiD4yMAW+HEBlqmBUUjchQJhuEoPAih5Ai0e8T2gMGkA/fIZdAXIbQImw4emVshlAOW2g0wb6HkDqut24spEhQPujlWi2uBtAj7/Hc5BqHECxmsHy+mYTQHMhaUrFeRBAFWpN847TE0B9jLlrCTkXQIDZPXlY6BVAXQFyr7nwE0DNqs/VVowQQH6utmJ/eRRARmydpVFuEUBD97829ZQTQKPZYqQEqhJAnFjNYHn9H0D4CY1NGDocQKgQoo8MDBRA+JoLSVPqHUAh1Z0U09IdQIJzRpT2hiJA4Hfm+Ht8F0DDP3+0Eu0UQMT7hMYmbBpAAU2EDU/fJUDrKV+9d+EiQCmE6CMDMyFArY4JHsxzGUA/WolmizERQJvEILByKAlAdwj2crKnAkAED+aJ+rf6Pz8K16Nwvfc/FGHD0ytl/D+3ztIoN2T9PwN4CyQoHhBAA+RecyHpFUD8qfHSTeIMQHvvgpuf9RFAA+RecyFpDkDX6pjgwbwCQEOwl5M9zxJA9UpZhjj2GEDrLI1yQ6YdQBPvExqbgCRARbPFSAkEIEDbQ9XCP38WQM8cf4/nwBlAX0vIBz0bG0DEP3+0Eq0dQOgg1Z0UExpAHRM8mCdqBkBYF7fRAF74PxGlvcEXJgNAlmi2GCmBAUDlGnkzfYkDQPWUr9674P0/dLUV+8tu9z8gGZgCv7MFQLtJDAIrhxFAbaDTBjptEUBZPxAzDogKQH/7OnDOCAdAiIIsHvG+CkDD0ytlGSIKQFXE1lkaJRNAZxwQDuPbD0Dz1XsX3LwVQOVkz4sAVAxA0GkDnTZwG0BHAEpWWMMJQMh2vp8aDxNA05e4aNsjIkB9rrZif9kkQAg9m1Wf+yFADElTKs7+EUA39ZSv3rsTQCegibDhaQtAHcwT9W8E+z+FDU+vlGX+P1z+Q/rt6+Y/cx47lfk09D9wy1odEzzsP31CYxOGrgNANRrAWyBBDkDRItv5fooTQBDEjAPCIRFAd08eFmqtGEC41C6Tzq0OQBhOrGaw3BZAWDm0yHaOI0C5SQwCK4cfQOzlZM+LUCFA3SQGgZWDG0Bni5ESqCsTQFUL//zRKhZAV8TWWRolHUCIz7ArQE4hQDTsCpB7zRtAdrtxZWPYEkABuddcSNoQQG00gLdAAvw/b1zZGE6s8j/7y+7Jw8L0Px2kupNiWvo/+TQUZPHIBUAgZhwQDuP2P7PCGlQI0QVAHKGM3pY1BkDYqcynoaAKQGTMXUvIRw9AV6LZYqSEHEAA3gIJij8fQOnc2q8oMh5AScKr0gMMHEBo2BUg91ohQPTYqcyn8SdA1QyW1zedHUB/tBLNFkMbQEGnDXTa0CBARGlv8IXJI0BVn6ut2C8iQNCOLkl4VRdAhcYmDN2/BUDvOEVHcnkDQIXrUbgehQJAEHo2qz4XC0BUdCSX/xAOQBQ/xty1RA9AvzCZKhhVEkDn+6nx0s36Py6QoPgxBhJA8KfGSzfJHkD7yMAU+D0RQEDJCmtQ4RBAXXMhaUqFFUD8GHPXEpIeQM1geX3TASZAHThnRGm/I0Ddu+DmZ70XQNWdFNNyTSFAXEVsnaVhKUCBc0aU9gYcQNxrLiRNKR5Apb3BFyazI0DpcIdgL0caQFNP+eq9Cw1Agd+Z4+8xBkDday4kTekBQNkYTqxm8AZA3riyMZyYAEB1ApoIG14AQLg9VC38MwlA2dElCa8qFEAPdwj2crIJQMVF2x6qlgRA+Q/pt6+DGECQMXctIT8aQLF1lka5gRZAgZVDi2ynAkCo63bjygYMQGwuJE2pOB1AwV5O9rzoIEDKV+9dcJMgQBB6Nqs+txlAz2bV52qLH0BsMVICdV0PQOGfP1qJZgZAFBqbMHTfFkBHlPYGX9gUQGX0tqzVURNAEsrobVlrAEA84n1CY5P1P4V//mglmuM/YL13wc1P9z/VMcGDeeIEQKtjggfzBAVAMHHRtoeq9T/ZqcynoSDyPyz2l92TRwpAHcwT9W9EF0AX2c73UyMVQDdkFrSjSxlAvXSTGAQ2G0CUirMPnwEcQItpuUbebBlAgdxrLiQNIEAzETY8vVIZQMnlP6TfXhRAdgXIveaiIUDj7MNn2HUWQHNDZkE7mhVAvQhAyQrrIkCFMnpb1joiQEgJ1HW7cRtAlKmCUUkdFUBothgpgToPQKvP1VbsrwVAtTomeDDPBkDUvxHK6C0IQDojSnuDbwFAW4lmi5ES/T8giBkHhGMQQIDcay4kzRJAla/eu+DmHkAdgr2c7DkXQOiPVqLZohJAxNZZGuWGDECdqH8jlHEUQBksr286HBNAi0e8T2g8IUBkzF1LyKciQME5I0p70yRADLWmeccJGUCr9AADLtUQQPi/NvWU7wtAcYdgLyfbGkChauGfP5odQL3mQtKUahlA2z15WKj1C0BgCvzOHP8GQHhVeoABl/A/ZIU1qBCi+j9pKMjiEW/6P3Qkl/+Q/vE/fyBmHBCO+T+dpVFuyKzzP8yCdnRJwgZAPeJ9QmOTA0CRgSnwO/MAQCH6yMAUeApAbOf7qfHSD0Dl9U2HO8QTQPzzRyvRrBNA29RTvnrvEEBW6QEGXEogQKOVaLYYCR1AmQgbnl7JFkBgw9MrZVkOQIMsHvE+IQdAWDaGE6tZFUDIveZC0vQXQBdte6haWBNA48rGcGL1CEBpA5020GkCQIbJVMGo5ABAcF8HzhlR9z8Q6bevA+fqP1HaG3xhMvU/si5uowE88T9ApN++DlwBQOdn/UDMmBJApG0PVQs/CEAAuddcSNoKQJjdk4eF2hJAq4V//mjlG0BV5tNQkBUgQH313gU3PxdA8IXJVMEIH0CV9gZfmOwcQHz13gU3byJAsS5uowF8H0CgZIU1qCAhQEkJ1HW7MRxAsXWWRrlRIEC+MJkqGIUgQCTeJzQ2gRZAUUZvy1rdEUD3ULXwzx/3P2t1TPBg3gNAz6rP1VYsB0DXD8SMA0IEQM/3U+Olm/8/IfrIwBT4AkBwOtwh2Mv8P7VfUSRylA5Al/+Qfvt6AEBANV66ScwAQIiqhX/+6AVAgwoh+sigGEAAAAAAAMAOQByhjN6WVRNA1Vka5YYsGEB90LNZ9XkhQGOkBOq6fR1ApeLsw2e4FEAYKYG6brcXQG3n+6nxshRAe++Cm591FkBtDCdWM7gRQDdkFrSjiwpAQ4ts5/vpAkAD4TC+VcT3P8gED+aJevU/jLlrCfmg9j/fBTc/60cCQB1aZDvfjwRAMZxYzWA5CUBzjbyZvgQGQB+qFv754wZAD5wzorTXEUAAtqmnfPX6P804IBzGdwNAZcxdS8gHBEDoHafoSG4KQAFvgQTFLxFAQRaPeJ+wGECtIrbO0pghQBsKsnjEextAPeWr9y64FkD7N0IZvQ0YQG1Zq2OCJyBAMVICdd0OGEDkXnMhaaoXQMe6uI0GsABADU+vlGWI/D/Cg3mi/g0CQIXGJgzdf/8/iwCUrLAGBUBNyzXyZjoBQIU1qBCiD/c/7aFq4Z8/6D/4nTn+Hs/vP636XG3Ffvo/++3rwDljCED0bFZ9rnYPQAy41C6TLhRAC9rRJQmvEkB9QmMThi4dQAAAAAAAYBpAGei0gU77HUAzDgiH8a0RQBX7y+7JQxZAi0e8T2gsFEBDhRB9ZIAWQOoENBE2XBFAj7/Hc5DKGUD3ULXwz98RQHgwT9S/0Q1AJuSDns3qA0C08M8frUT9PzN3LSEftApATKYKRiX1AkD9G6GM3hb6P4ToIwNTYP8/1cI/f7RSAUDjNhrAW6ADQL3ERdse6glA029fB855FkDjDsFeTvYIQDtwzojSHgdA/yH99nUgAUBFR3L5D2kNQI4rG8OJVRFASZpScfYBIEAPwV5O9iwgQOQUHcnlTyBAsCtA7jVXDEBc1uqY4MH+Pz+hsQlDtwxAL/8h/fZ1GUBjpATqup0SQHl90+EOAQdAJJTR27IWDUBNrGawvD77P/zwGXYFSPA/bOTN9CWu8D/tfD81Xjr7PzDgUrtMOvE/4+zDZ9gV6z/MWh0TPJjtP3WTGARWjgBAoGez6nO1/j+oNc07TpEAQCH99nXgHA5Abef7qfESCUAnoImw4WkRQJm7lpAPmhhAA+EwvlX0IkA9wIBL7WIjQFCQxSPeZx9AACL99nWAF0DR27JWx8QaQNV46SYxKBRAtxtXNobzEUBBzDggHOYQQGF5fdPhThRANFuMlEAdCEABuddcSBoAQIzYOkujXP4/ffXeBTc/CUAwT9S/EQoGQMDHc5Dqzvk/c2iR7Xz/BEB4nKIjubwGQNyyVscETwNA3+ALk6mC9z+tZrC8vun3P+Wr9y64uQ1AmHFAOIxPE0DA78zx93gNQHDOiNLeIBdAhHzQs1n1FUACmggbnl4gQLtrCfmgdyhAEjlqch6LIkChRbbz/cQmQCsYldQJaBhAX990uEOwEkDVCWgibHgNQOhtWatjwhlAk8t/SL9dEUDxYJ6of+MEQNFpA502kA1AtBLNFiPlB0AAlKywBpUHQCyHFtnO9+4/QckKa1AhBEDjEe8TGhvzP0T9G6GMXg9AVX2utmJ/C0AZmzB0/ysMQIfMgnZ0qRdAnRTTco0cGEBTKs4+fOYcQCUu2vZQFRdA71pCPujZH0CBS+0y6dwdQAV7OdnzQhRA5T+k375OCEBA7jUXkqYCQPd14JwRZQhA7AqQe81FDEAjR03OY2cCQF3cRgN46xJAdU8eFmpNDUB3KvNpKIgMQCkVZx8+QwRAoyO5/Id0+z9nsLy+6fAEQMcB4TC+tRFAMQV+Z44fFkAnVjNYXp8OQLOgHV2SUBNA9CIAJSvMEkDzaSjI4pEQQK0its7SqBNAbMLQ/a+NCEBVnH34DPsKQKIjufyHVBJAtRLNFiPFF0AXIPeaC+kjQApoImx4aiBA029fB86JIkA1XrpJDJIhQDBMpgpGRRZAWWENKoQoE0DxGXYFyL0LQK2L22gADxJADwu1pnkHAUDApXaZdG4AQOltWatjwgFADSqE6CNDCUC3rNUxwcMHQHkzfYmLNgxAqe6kmJYrDEDILGhHl4QQQL9674KbXxJABJ020GnDBUBmi5ESqOsRQOGcEaW9YRdAdd1uXNnYFUDv7u7u7m4HQCOU0duyVgtABOeMKO1NG0BrK/aX3TMUQLmNBvAW6BRANV66SQxSIEArQO41FzIhQJgF7eiSxA1A+xIXbXtoHkDWxW00gFcgQDj4wmSqoBdALfzzRyvR/z/jom0PVQsLQJi1OiZ4cAtAoGSFNaiQDkCjJuexU/kQQKtdJp1b+w5AYOKibQ8VCkAVQvSRgWkGQJ9hV4Dca/k/4VXpAQZc/z8V1qBCiL4HQPxfm3rKNxJAIPeaC0mTDkAFWTzifYISQH77OnDOiBJAbcX+snvyEkADvzPH3+MYQKWbxCCwUhNA84slv1gSGECt1THBg1kWQJ3HTmU+zRZAoR1dkvCKEUAEwmF8q4gNQMzJnhcBqAtAVDAqqRPQ+D+FWtO845T+P9ftxpWNIQVAecT7hMaGEEAFo5I6AU0SQN1uXNkYzgRAaPoSF227DkAz6dzar6gFQO9/beopnwJA5Tx2KvOpAUAegr2c7DkFQF8EoGSFdRhAPXYq82koFECze/KwUKsRQGXSubVf0fk/8KfGSzdJD0DUU75674INQMT7hMYmDA9A3SQGgZUDDkAXt9EA3iITQHpb1uqYoBJAfkJjE4YOEkDo+6nx0g0VQC+Tzq39ygxAxNMrZRkiCUCzwhpUCFEFQAlD9782tQhAanIeO5U5AkAVjErqBLQBQEsPMOBSewFAQRNhw9PrA0BPQBNhw9P2P5yiI7n8B/8/y8ZwYjXDCUDVVuwvuycJQPUlLtr2kBRArtuNKxuDAkAmnVv7FQUAQECnDXTagAxA8BZIUPx4FkDjNhrAW6AVQJLwqvQAwxRAkA96NqseE0CvuZA0pWITQPzOHH+PxxBA82b6EhcNHUBoRGlv8EUWQKPZYqQEKgtASzEt18jbDkDg4zlIdScIQAmNTRi6fwVAwTkjSnuDCEAYuv+1qWcGQLmyMZxYjQxA6LFTmU9DCUAs0WwxUoIIQIBt6ilfvfY/ZYU1qBCi9j/nsVOZT0MUQGgAb4EEhQtA93XgnBGlBUCvALnXXEgGQPjCZKpgNBJAw4anV8pCIUCA3GsuJJ0hQNz5fmq8tBdABMJhfKuoG0D4549WopkZQODjOUh1xxdAdAKaCBt+FkCt1THBgxkhQK0fiBkHtCFApb3BFybzEkBRkMUj3qcOQI/C9ShcrxBA698IZfS2DUCJH2PuWgIEQOj+16aesghAn4NUd1KMDUB12kCnDbQFQLO/7J48LPg/y1fvXXAzDECXaLYYKWEQQDML2tElyQJAM+nc2q8o9D/gLZCg+HEKQIPAyqFF9hNA4OM5SHXHE0ANTIHfmWMdQGHl0CLbiSBAC/zOHH9PG0AvtcukcwsWQIUyelvWKhxAxIwDwmF8HUC0o0sSXtUaQF8pyxDHmhlAkRKo63YjFUDwgpuf9aMWQEOFEH1k4AtAGEt+seRXA0DJ4hHvExoAQOspX713AQNAwjxR/0Yo8D+RD3o2qz7nP+0KkHvNRQpA3PysH4hZAEDnZ/1AzHgDQNEA3gIJ6hJAOSNKe4OvCEAX2c73U0MUQPvL7snDwglAlR5gwKV2CEC5/If021cRQAjRRwamYB1AejarPld7EkAxLdfIm2kFQMdLN4lBIAxAOGdEaW/wGEA/fIZdAXIMQNweqhb+eQdA8dJNYhD4E0DdJAaBlYMDQM1jpzKfhvk/ASuHFtnO7j+nCkYldQL3P8X+snvyMPA/aSjI4hHv9j8/WolmixH8P7zg5mf9QARApEsSXpVeFECze/KwUGsJQC3XyJvpiw9AnH34DLviEUDZhKH7XzsSQN/gC5OpgglAyzLEsS5uCEBQaGzC0B0UQPDxHKS6ExdAhVrTvOMkIkAlv1jyi5UgQPcGX5hMtSJA65sOdwiWJEAxT9S/EZogQO1XFIkc1RpAlWi2GCnBB0BMyzXyZvoSQBt5M32JSwtAa2/whcmUCkBLN4lBYGUOQDSitDf4QhNAmwgbnl7pBUDTTWIQWHkCQHTdblzZ2AxAMwva0SXJC0CjAbwFEpQKQGEyVTAqaQRAm1Wfq61YAEAMkHvNhaQHQIlEjpqcpxNA07m1X1GEGECn5Rp5M50RQHmi/o1QJhRAOSAcxrdKBkDHuriNBjAXQKuIrbM0Ch9AFKsZLK+PHkBLNFuMlKAWQK/eu+DmpxBA/x7PQap7DUDTubVfUaT+P6d5xyk6EglAplScffgMAUDXfkWRyFEMQNuK/WX3JA9Au7u7u7v7AEDkzfQlLtr5PzmPncp82gZA78nDQq3pCECzoB1dktASQKsZLK9v2hJAV32utmJfF0CIPjIwBf4WQPP3eA5SHRZAlRsyC9pxGkAHgZVDizwhQMt8GgqyuCBAen3T4Q4RIkBn0rm1X3EfQBAw4FK77BZANagQoo+cIUD0JS7a9jAbQPw9noNUdxBAyXa+nxovA0ArOpLLf0j2P9yNKxvDCRFAJVDX7cZVD0BbjJRAXZcSQPzL7snDAg5ADXTaQKcNBkC9mb7ERdsAQPfeBTc/awVATxvotIGODEA4IBzGt6oUQB0QDuNbZRJA7zhFR3K5BEAbw4nVDNYGQNHYhKH7nxFANagQoo8MIEAL2tElCS8cQLkhs6Ad3R1A097gC5MpFkAPdNpAp20bQKk4+/AZFhpA549WotlSIUDZqcynoWATQJ3vp8ZL9xhAiUFg5dCiA0C84OZn/UD+P7Gd76fGywBAgG3qKV99A0CCThvotGERQA8tsp3vJxJAV32utmI/B0DhwTxR/wYEQDhCGb0tqwFA9W+EMnq7EUANT6+UZegQQACUrLAGFQhAg3Z0ScILEUDDP3+0Eq0TQBPyQc9mNSFA+6nx0k1iHEBBFo94n1AhQE0Yuv+1yRpARNXCP3/0FUDRb18HztkJQBAzDgiHURFAMLsnDwuVGUAt/PNHK7ESQJE305e4qAZAhDJ6W9bqAUCCc0aU9oYEQHSQ6k6K6Q1AT42XbhJDDEA1g+X1TYcOQAdfmEwVzAZAP+sHYsYBAUCqzKehIMsBQPs3Qhm9Lf8/kMUj3ic09z97WKg1zbv9P1kXt9EA3gpAYzWD5fXtFUD4DLsC5L4gQH313gU3Hx9AoY8MTIFPIEBcRWydpXEmQOEwvlXEFiRAKcjiEe9zGkB3KvNpKAgfQBWxdZZGKSJAqX8jlNEbIEBsMVICdb0XQO3GlY3hpBxA3ZOHhVqTGkAqX713wQ0TQDFP1L8RyhBA/9R46SaxB0BsU0/56r0GQBjfKmLrLPc/INJvXwdO/z+Q7Xw/NV78P+x5EYCSlQBA8c8frURzAECbespX750BQAfzRP0bwRBAPJtVn6tNGEB3vp8aL/0eQJB7zYWkaR1AW2Q730/NH0BPrGawvD4dQGydpVFu2CBAWmENKoRYIUAkvCo9wAAcQGEK/M4cHx9A1HW7cWXjEkCTplScfbgJQPl+arx0UxJA0wMMuNQOFkAg9GxWfe4QQMWMA8JhfAJAo0jkqMn5+D9txf6ye3IGQCEf9GxWvQBALdfIm+nL9z/LoUW28/30PzDgUrtMuvY/dXEbDeDtDUBLfrHkFysTQAy41C6TbhlA1OQ8dipTIkBJdSfFtNwjQP2H9NvXAR1AIBzGt4ooIECHXQFyr/kgQIakKRVnDyNA0duyVsfUI0Dbiv1l98QjQF2S8Kr0YCJAi47k8h+yI0BbZ2mUG/IhQHMhaUrFmRlAkxgEVg6tF0AWRSJHTQ4QQFD8GHPXEvs/q9IDDLiUA0DRubVfUST+P4MKIfrIgAFAu243rmyM9T/AokjkqEn2P3fBzc/6QQJAVcGopE5gEEANBVk84p0aQIJRSZ2A5hNAMxE2PL1SFkCBlUOLbFchQPEZdgXIfR9AV+wvuyefJECrHFpkOy8hQB8+w64ACSFADElTKs7+HUCFNagQog8fQBx8YTJV0CRA3UkxLdcoJ0AzVTAqqSMhQPBgnqh/AyBAY56ofyM0GUDQ1VbsLzsFQAgYcKldpgVAS+oENBG29j9/arx0kxj5P3EbDeAtEPY/BDHjgHAY8T9PG+i0gU73PyOzoB1dEgxA76fGSzdJEkD02KnMpyEZQH2utmJ/WRJAYVRSJ6CJHkD/a1NP+eocQEcDeAskqCFAJCh+jLnrIkDXDJbXNx0fQGuXSefWLiRAJ1MFo5L6JECLkRKo67YfQIEExY8xtxtAM3pb1upYF0BOG+i0gU4RQNc3He4Q7BJA80T9G6FMCUCtH4gZB4TyPztwzojSngJApzKfhoJsAkCl4uzDZ9j1P6Z2mXRubfI/c2iR7Xy/+D990LNZ9TkEQAg9m1Wfqw9Amd2Th4WaEkAlUNftxvUTQO9dcPOzHhVAS6Cu242LEEDJ5T+k3z4YQGwMJ1YzuBlAQOsHYsZRIUDyiyW/WLIiQGGeqH8jtBZA+Ay7AuQ+FkAgi0e8T4gXQE1iEFg5FBNA9QMx44AQH0BFtvP91DgcQKuqqqqqihlAGSyvbzpcEECF7n9t6ikIQF5w87N+oBFA/UDMOCCc/T+ZBe3okgT1Pz1ULfzzx/Y/135FkchR9T9j7lpCPmjwP0zwYJ6ovwVAiD4yMAW+FkADmggbnt4YQO3GlY3hJBJARtseqhYeFUABvAUSFL8UQNijcD0KNyNAsVBrmndMIkCkJuexU+kqQC2QoPgxph9As+QXS36RH0B3Bci95kIXQBVnHz7DzhxAofgx5q51I0AHpsDvzBEhQLvduLIxnBlAQKTfvg58GkDNFiMlUFcJQCjI4hHvUwhAfIZdAXIvC0BKeFV6gOERQNDSKDdkVg1Ag8DKoUX2CEBS3UkxLZcDQN0kBoGVAw5ACNFHBqYAFkCU1AloIqwJQOTN9CUuOhlAtz1ULfzzFEAZwFsgQbEeQHuAAZfa5SRAVOOlm8QQIkAcDeAtkOAmQFuMlEBdVydAg5hxQDhMI0AAbFNP+SocQPdQtfDPzyJAVukBBlz6IkAZBFYOLXIaQDeJQWDlsBhAH6oW/vljF0BEREREREQMQI0DwmF8K/s/m+Ydp+hI7D8NT6+UZQj9P4uREqjrdvo/0I4uSXjVBUAywYN5oj4FQMDKoUW2cwVAkoEp8DuzEEBwqV0mnVv3PwR4CyQofgxAOfvwGXblIkBLNFuMlOAaQO3okoRXhR5Ay+7Jw0JdIkAJr0oPMNAnQIPAyqFF5iFAbaDTBjqNIkDteRGAkjUjQOF6FK5HASNAxUXbHqrWGUCrY4IH86QRQCQofoy5KxRA1cVtNIC3DEBnRGlv8EUOQBM8mCfqHxBAthgpgbrOEUD1b4QyepsMQIXuf23qqQVA/Bhz1xLyCkDYOkuj3BD4Py+Tzq39igBAZ/fkYaHW+T/9GHPXEjIQQC3XyJvpywtAz9IoN2RWA0BdkvCq9MAVQAdixgHh8BJAg1FJnYCmEEBMEl6VHuAPQLQ0yg2ZpRBAa7lG3kwfDECxvL7pcKcTQET3vzb11BJAY8YB4TAeFkCkJuexU/kWQIakKRVnfxNAy+ubDncIEUBpAG+BBMXrP50U03KNPPQ/4L4OnDOi9D94VXqAAZfxP+m3rwPnDPE/R03OY6cy7D8va3VM8OD0PzWoEKKPDAdAs34gZhzQD0BIBqbA70waQGX0tqzV4SBAzF1LyAe9IUBwOtwh2EsYQM0T9W+EkhZAcmVjOLGaIUCTplScfVgfQJAMTIHfuR9AuIrYOkuTIUBhnqh/I2QgQKPZYqQECh9AUbXwzx8tIUDfBTc/67chQFCNl24SIx1AUwJ13W58HkBYqDXNO04KQIUQfWRgygFAxCPeJzQ2/j+HFtnO97MQQHUkl/+QfgdA8PEcpLpTBUAnwoanV0oGQFWi2WKkRA5Ab6YvcdF2GEA8TtGRXD4ZQLFTmU9DoRdA1aBCiD6SFkBJ59Z+RXEZQJngwTxRTyBA3Pl+arz0IkBecPOzfrAiQFhe33S4wx9AdU8eFmqtFUDTSjRbjFQYQFuxv+yePB1AriK2ztJYIED5D+m3r9MgQNThDsFerhRA9gMx44BwEECn5Rp5Mz0FQMCldpl07vg/2V92Tx6W9D8dEzyYJ+r4P4O9nOx5kfE/6wdixgFh/j+DUUmdgCYPQNhcSJpSMQtAgCOU0dtSE0BjyS+W/KIJQAiH8a0i9gtAoB1dkvAq/T8wTKYKRuUMQBxXNoYTKwZAxWoGy+vbFkBgLyd7XsQZQGlKxdmHDxtAf9k9eVioFkCtH4gZB8QSQJhJ59Z+ZRdAr7Zif9n9HEBkFrSjS/IfQPs3Qhm97R1Az4jS3uDLC0DDrgC519z0P2UcEA7jW/k/k18s+cWS7z/N9CUu2vbrP2iwvL7p8Pc/Sb99HTjn8T/PiNLe4Iv6PwiH8a0idgVAL7XLpHPrE0CEdnRJwusGQCUGgZVDyxJApZiWa+QNEUC3PVQt/LMVQM6qz9VWDBJAveMUHcnlFkBn1edqKxYgQGU+DQVZHBVAR3L5D+kXFkAT0ETY8LQUQHCEMnpb1hhAW0I+6NmMHUBoHz7DroAbQHs52fMi4BFAQ4ts5/tpDUAXIPeaCwkIQCd7XgSg5AFAA3XdblzZ6j+b5h2n6EjvPwuQe82FJPU/59Z+RZFI9D+nL3HRtocGQAO/M8ffYwdAk4RXpQcYD0ARx7q4jcYOQFjvXXDz8wtAKcjiEe+TD0C3PVQt/HMZQH+x5BdLfhpA/WX35GEhGkCMbxWxdfYdQGAK/M4cnyFAEYCSFdZgHkBnjr/HczAgQNPhDsFeXiBA739t6ilvIkCbMHT/a/MgQD2bVZ+rjR9Au924sjE8FUAgGZgCv9MSQMGopE5A0w9AKYToIwPTEUCCvZzsedEDQGewvL7pMAJA05SKsw9fC0Ab6LSBTlsGQA+cM6K0twBA52f9QMz4AUBni5ESqGsHQIAjlNHbcgFAe6UsQxyrFkBw8IXJVGEeQCh+jLlrCRpAVOOlm8SAG0CZmZmZmRkdQO0y6dzaryJA8a0its5SGkCsiK2zNCoYQBlLfrHklx5Ate2hauEfIkDt6JKEV0UcQLPCGlQI0RZA7TLp3NqvCUC9BRIUPwYBQPhWEVtn6f0/+35qvHST6T9J5KjJeWzzP7vduLIxHPM/t87SKDdk6D+lm8QgsPL1P2dBO7okoQdACfZysuelGEBlGeJYF3cSQMTQ/a9NvQdAiIVa07xjCUCBmHFAOAwMQCg0NmHofg9ADr4wmSpYEEDz93gOUl0ZQC0e8T6hsRVAcIQyelvWEEBswtD9r00TQEsPMOBSiyFADQVZPOJdIEBBzDggHIYdQKvP1VbsbxRAz9IoN2RWCEDErgC519z8P4V80LNZ9QpAnaVRbsgsBUDrut24sjEHQNBE2PD0CgxAWz8QMw6I+D+Ykz0vAlAFQDIL2tElyRBA5Rp5M33pEkAHzhlR2lsQQOCcEaW9QQpAWdCOLkl4AEAL//zRSpQRQD8QMw4IBxRAxf6ye/LQGEDH3+M5SNUbQKUKRiV1whlAo7EJQ/f/HUARMw4IhzETQNjIm+lL3BdAjy5JeFVaG0ARNjy9UjYbQGcfPsOugBJAnhTTco18EkD13gU3P2sHQGm5Rt5M3/o/a3h6pSxD7z/nQtKUirP9Py3XyJvpS+0//a9NPeWr9z/j7MNn2BUAQKmCUUmdgAVAZfGI9wnNDkCNKxvDiRUPQGx4eqUsQwxAR95MX+ICEEB0kOpOiikMQMJhfKuIDRBApHA9CtfjE0C1pnnHKToeQLfO0ig3hBVA5RdLfrHEFUDs4jYawNsHQOx5EYCSdRRAtRX7y+6pGkC9xEXbHuodQK5sDCdWExVAuSGzoB0dDEDE1lka5Qb2P21+1g/EDPw/dSfFtFwj+T88B6nupBj4P/WRgSnw+wFABOq63bgy9D+ooSCLR7wDQA8tsp3vpw5AHOviNhogEEB8qFr45w8HQKh89d4F9wdAeTN9iYt2DUAZ4lgXtxEUQDWAt0CCgh1AOB3uEOyFJECEns2qzxUkQBPyQc9m9RpA6yYxCKx8FkARyuhtWSsPQOf7qfHSzRpAAEpWWIPKHUDjNhrAW4AdQAN4CyQo/hdAJ51b+xXFC0CwvL7pcAf7P3VJwqvSA+8/29RTvnrv+D9gdk8eFmr7Pz9XW7G/bPo/BxVC9JHBAEDTubVfUWQDQA2ZBe3okv0/5M30JS7aE0BNqTj78NkQQKblGnkzPQVAZRa0o0uSAUC5kDSl4qwEQIR5ov6N0AlAvQtuftZPDUBhfKuIrbMYQKha+OePthtA6pWyDHGsEkCvtmJ/2X0FQFMCdd1uPBFAejarPlc7EUAkufyH9NsSQMksaEeX5BRAvHSTGATWDECMbxWxddYBQBpR2ht84QJA20YDeAsk+z9HSqCu2w35P9sbfGEyVfA/UEZvy1od+T+FEH1kYAr6P374DLsCpAFAdwj2crLnBUDXD8SMA0IVQFwgQfFjzAlAONOXuGhbBkCXJLwqPcASQJeQD3o2KxRAO0uj3JDZAUCtjgkezFMGQMCopE5AMx1AZKcyn4ZiG0A73CHYy2kQQJt6ylfvHRZAu5NiWq4xGkDrKV+9dwETQAg9m1WfKxdAIM9BqjuJFUD9h/Tb18EQQN1rLiRN6QFA//zRSjRb9j/45GGh1rT1P1s/EDMOiP0/gywe8T6h8z+8cWVjODEEQJWv3rvgpghAULLCGlRIAECj3JBZ0M4LQKtjggfzxBBArBxaZDsfBUBz/D2eg9T1PwXt6JKEVwJAU5YhjnURGECYcUA4jM8fQAlAyQprECBAe14EoGTFFUBPQBNhw9MTQDlFR3L5rxRAVaLZYqQkGkDsLI1yQ8YdQJ+rrdhf9hZAV32utmJ/A0BZrpE30xf9P3icoiO5vAdAWIDcay5EEED1JS7a9lAJQGccEA7j2wdABTQRNjx9BEBXM1he33QAQLMxnFjNoAJAcfOzfiAmBUC5IbOgHZ0EQKvP1Vbsbw5Ak2JarpF3D0CjSOSoyfkGQFjvXXDz8wxAdW7tVxTpEkCIGQeEw5gTQNz8rB+IWQxA1CtlGeKYEkCOl24Sg0AFQHMhaUrFGQVAV8oyxLHuEEA4rmwMJzYcQOsENBE2fAtADgiH8a0i9D+cffgMu4IGQCmBum43ThFAGXYFyL1mEEDBXk72vIgGQKFCiD4ysAFAwxpUCNHHCUBcjJRAXbcOQHbgnBGlfQJAL5POrf0K9j83ZBa0o4sVQKsW/vmjFQ5A2cvJnhfBAUAxLdfIm+kTQMCopE5AkxpAMzZh6P5X+j8Y3ypi6+wKQAY3P+sHohBAw2SqYFSSAUAAtqmnfHULQD3DrgC5txdAJQaBlUPrGkC/eu+Cm78YQJx9+Ay7YhNAnMdOZT6NDECvtmJ/2f0DQOELk6mCkQdAmXRu7VcUBECtRLPFSMkNQBGDwMqhxQdAv8RF2x7qBEBjpATqut3+Pw1Mgd+Z4wNApzKfhoLsBED8qfHSTeIIQFMqzj585hdAlZAPejbrDECdynwaCrIMQMRF2x6qlg5AFNNyjbzZG0D8hMYmDF0ZQCO2ztIoVxtADN3/2tSTHEBbQj7o2YwVQDtLo9yQuRhARwN4CyQYIECdOf4ez4EMQJdGuSGzIAFAmw53CPZy/T+pWvjnj1b9PwCRfvs68AZA11ka5YYMDEDYy8meF0ENQOFV6QEGfBBAbXuoWvinDUDQH61Es8UFQHa7cWVjOAJAyS+W/GJJAkAIr0oPMGAGQKfoSC7/IRJAjACUrLAGBUDotIFOG+gLQET67evA+RZAAAMutcukGUATYcPTK4UjQCJHTc5jdyFATRi6/7XpG0D/ZffkYYEbQKBns+pz1RhA9CUu2vYQG0Cxv+yePIwQQNftxpWNoQdA+8vuycOCDEB0bu1XFAkNQCQDU+B3pgZAhOtRuB5FCUB9Z46/x/MPQOSoyXns1BFAONOXuGibEED4DLsC5F4FQBVnHz7DLgJAFD/G3LXED0CQVqLZYuQZQFtnaZQb8hpAk4RXpQfYDUAEeznZ8yIBQDtwzojSHgVAF9nO91NjEkD7Ehdte+gZQLXIdr6fGhNAZT4NBVkcGUArG8OJ1SwQQNUMltc3nQtAginwO3N8EEAdWmQ73+8RQOkjA1Pg9w9AmLho20OVEUCVirMPn+H3P0dy+Q/pt+o/bXuoWvjn8j8Iqe6kmBb2PzMwBX5njvM/o2rhnz9a/T/rvQtuftb7P11LyAc9GwxAmCoYldRJC0CD4seYu3YVQFbpAQZcahNA3dqvKBK5BUD5xZJfLLkWQLGawfL6BhhA9+Ez7AowIECMlEBdtwsjQKdXyjLEESdA135FkciBIUCOKxvDiVUiQP2sH4gZlyBAKvNpKMhCEkD78Bl2BcgTQEw3iUFgRRdAgXAY3yqCFUBbIEHxYwwRQNEA3gIJygNA/fNHK9Fs+D8DvzPH3+P1PwisHFpku/8/FfidOf5eBECI8a0itk4PQBniWBe3Ufk/9wZfmEwV9D8TzRYjJVAEQMvrmw53iANATj3lq/dOEEABcq+5kLQRQCNKe4MvTBxAokW28/00IEBHkchRk/MaQHNDZkE7+hlAQmMThu5fEUDXNO84RecTQOm3rwPnTBRAKH6MuWvpEEBDQRaPeJ8KQMiYu5aQDwlAtRX7y+7J9j/1AAMutUsAQEPPZtXnqgRAJANT4HcmDkDI4hHvExr6PxWPeJ/QWPw/g+gjA1Ng/D+8dJMYBFYHQPWUr9674AVAtxgpgbpu/T+YAr8zx18PQACRfvs6UBZA30kxLddID0BZiWaLkVIHQJXR27JWhxlAgywe8T4RIEDtxpWN4eQeQEB/tBLNdhlA/0Yoo7cFGEDL6G1ZqwMZQKQm57FTORtAIUQfGZjiHEDQH61EswUYQMGDeaL+rRRA5FtFbJ1lDkBb1uqY4AEEQAHeAgmK3wBAVTAqqRNQ+z/NPnyGXYH6PwgVQvSRgew/fdPhDsFe7D/ME/VvhDLzP83x93gOEgFAxYwDwmH8C0CTzq39iqISQBvAWyBBsRdAio7k8h+yEkDLpHNrv+ITQCRNqTj7cA9Ae4MvTKYqHEC38/3UeKkdQOcaeTN9KR5ApwpGJXWCHkBXDi2ync8dQPnFkl8seR5Atcukc2uPIUCFfNCzWVUdQPNm+hIXbRVAyS+W/GIJA0ALuNQukw4AQB/0bFZ9rvQ/hRbZzvdT6z9E1cI/f7TtP8cB4TC+VfU/G+i0gU4b+z+t1THBg/n2P8SJ1QyW1/0/6NzaryhSCkA9m1Wfqw0QQOF6FK5HIRRArBxaZDt/E0AIrBxaZFsWQBHvExqb0BtAXQFyr7kwH0Cp8dJNYlAiQEmaUnH2MSBAUWuad5yyJEAX+8vuycMcQJkF7eiSJCBAr5RliGNtIECThFelB9gWQOKibQ9V6xFAAVCywhqUBkB7qFr454/7P14mnVv7FQJAC9rRJQmvAkBvyCxoR9cBQNimnvLVOwJAhTJ6W9bq/T8h+sjAFDgEQFuukTfTFwtADEyB35nDGUCu2F92T74TQK1msLy+KRVATMgHPZu1FUDDq9IDDHgNQOB35vh7PPo/bMLQ/a+NCkCVjeHEagYQQKA/WolmyxRA9JGBKfD7DUD78Bl2BagRQHgOUt1JsQ1AFD/G3LVkEkA/xty1hPwHQESLbOf7qQdAzhlR2hscEEA52fMiAGUFQJiTPS8C0PI/JANT4Hfm9T9x87N+IObzP8dwYjWD5ew/3bWEfNAz+j/NFiMlUFf7P+m63biyMfw/ZWZmZmaGEEAoo7dlra4YQF2S8Kr0QBxAubVfUSQSGEC/nOx5EUAdQMSMA8Jh/BZAdd1uXNn4HkBIUyrOPtwZQHk2qz5XeyJAX5hMFYwaJEDAEcrobRkZQBQ/xty1hBlA0ZFc/kM6IkDjx5i7liAgQBVC9JGB6RZAGSZTBaMSFUAV03KNvNkCQN90uEOwF/0/B8vrmw538T/vNReSplTyP2t1TPBgngRAh2AvJ3teCkAhaUrF2Yf9P3pb1uqYIAJA6Ugu/yF9/T/02KnMpyEVQJvj7/EcBB1AdSrzaSgIGkDApXaZdA4iQIToIwNT8CJAHYK9nOx5IEAcw4nVDPYiQNXnaiv2hyNAawOdNtCJJUAhRB8ZmMIiQGsr9pfdsx5A65sOdwhWGEDD0P2vTT0WQNBE2PD0yhZAZKpgVFJnD0CqqqqqqqoEQB7xPqGxyQFATKYKRiU1CUBVxNZZGuX+Pzgd7hDs5fE/awn5oGez7j+TqYJRSZ3/P8oNmQXtaABATV/iom0vEUB0kOpOiukLQNXCP3+0UhdA76SYlmuEFkDxhclUwegTQD8yMAV+RxZAiGAvJ3sOIEBQRm/LWr0gQLiNBvAW6CBACWX0tqyVFUC0xUgJ1LUZQDlFR3L5LxFAF494n9B4E0DQHH+P5yAMQIsikaMmZwFA3I0rG8MJ8D8AJSusQQX2PwMrhxbZTv0/Ca9KDzAgAkAPwV5O9vwGQL8wmSoYlQtApHA9CtfjCEAd7hDs5WQEQBsKsnjEOwNAKxvDidXMDEDEZ9gVILcDQE72vAhA6RRAj1N0JJe/FEAxLdfIm4kXQJ/Q2IShGxdAaEeXJLzqFEBnZmZmZkYTQAyTqYJRCRhAG1QI0UfGF0CZlmvkzfQRQMhzkOpOqhtACWgibHjaEEAXkqZUnD0NQEM+6NmsOgxA6tzarygSA0AYAShZYQ36PxlOrGawfANAGwqyeMT7A0CEfNCzWXUJQFk84n1CIwZAUyrOPnxGD0CQoPgx5s4QQFBDQRaPOAVAq8ynoSCLBkB1cRsN4C0MQHH24TPsihBA2WKkBOq6C0CnVJx9+AwHQFnQji5JGBZA0ETY8PSqHkBQ+eq9C64VQG9c2RhO7A9A8BZIUPy4EUBHcvkP6TcFQJWQD3o26wdA4eZn/UCMAEA3GsBbIIEAQG3C0P2vzfY/kOpOimm5+D//aCWaLcYJQGlKxdmHzwxAQmMThu6fEUBwXwfOGTEXQLHkF0t+8RJA5RdLfrEkE0DiWBe30SATQJ8XAShZYQpAecT7hMYmAECjSOSoyXn9P2GeqH8jFBFAmG4Sg8DKDEBApN++DhwWQBT1b4QyOhpAV+wvuycPE0Agi0e8TwgYQDuPncp8Gh5A1cVtNIB3C0Cx4emVsowLQItEjpqcBw5Atcukc2s/EEAuSXhVeoASQP+ye/KwEAJAAEcoo7fl+j81W4yUQL0UQE2EDU+vdBJAqz5XW7G/EUDUUJDFI54SQOVhodY0Lw9AQH+0Es12FEBzQ2ZBO7oUQBjiWBe3EQhAH4XrUbie/D8JHswT9e8RQISh+1+bOhtAAJSssAY1F0DFAeEwvhUfQJZDi2znSyBASXhVeoCBI0B9ZGAK/M4gQDLBg3mijiFAubIxnFiNHUDDrgC519wUQFWfq63Y/xBALZPOrf1qGkAsZRniWDcWQOBPjZdushFA95oLSVPqCEAP5on6N8IQQPWUr967gBBAY1qukTeTC0D9Q/rt6wAXQJkqGJXUaRJA1S6Tzq1dEkAtkKD4MUYQQGWLkRKoKwtAdJDqToppA0DDGlQI0ccSQPWOU3Qk1xtAS6Cu242rFUBgvXfBzQ8bQGPJL5b8IhtAKssQx7pIIkC1N/jCZEojQMzJnhcBaChAxK4AudecJkDbZdK5td8eQPeX3ZOHJRlAdCfFtFyDG0AU+J05/h4ZQE095av3zhNASAamwO8MFECENagQog8OQGx4eqUswwVAeHd3d3c3CEDg4zlIdaf4P4sAlKywhvo/FR3J5T+k7T9NqTj78BnvP+B0uEOwFwRAVp+rrdi/EUB0/2tTTzkLQCVNqTj7cABAYFEkctTkA0C1pnnHKXoQQH+P5yDVXRtANIC3QIICHEDwO3P8PX4VQI1yQ2ZB2yFAPeWr9y5YIEDBXk72vKgaQHCHYC8nOx5AFIkcNTnPHEDQiwCUrBAYQJtVn6uteBVAsJRliGNdEUDVLpPOrX0NQFTgd+b4e/8/r7mQNKVi9T/1b4QyepsCQO3rwDkjCg5Ap57y1XsXCUCzU5lPQwEIQASgZIU1KA1AU5lPQ0E2GUAI0UcGpkAIQAft6JKElwdAWYMKIfpoGkDpt68D58wXQMxdS8gHXRtA03KNvJm+IEB88rBQa8oiQO/u7u7uTh1AtfP91HjJH0DsCpB7zWUTQOzlZM+LwBFAvEw6t/bLGkD4DLsC5N4UQBEzDgiHsQ9ASeSoyXmsBECQD3o2qz4BQEMc6+I2GvU/EMSMA8Jh6T8LsnjE+wT6P7AD54wobfU/zfH3eA5S8T/LWh0TPBjzP1UL//zRigFAUf9GKKN3B0CfPCzUmkYaQMX+snvy0BVAKV+9d8HtGEBfKcsQx1oaQLsnDwu1JhpAA5oIG55eFECAI5TR21IWQAvXo3A9Kh9AWWENKoSoGEBf33S4QxATQOELk6mC8RFALWhHlyScHkDYy8meF+EeQEuj3JBZEBlAY6QE6rpdE0BBXbcbV/YAQJl0bu1XFPk/lNHbslbHAEDc/KwfiFkEQEoPMOBSewNAuddcSJrSA0DZFSD3mosFQKnMp6EgywpAvZzseRHAEECjSOSoyZkQQBx8YTJV8AxAdUzwYJ7oBEChIItHvM8PQE0VjErqhA1A80HPZtWnF0D//NFKNFsRQCDPQao7aRtAgJVDi2zHHkDuEOzlZN8hQMhzkOpOuiZA2fMiACWrHECQe82FpMkaQEdsnaVRzhtA59Z+RZFICkBtNIC3QAL/PwMGXGqXyQhAvQtuftYPCUCUYlqukTcJQAfL65sOtwVAF/75o5UoC0A7t/YrigQIQJwOdwj2shVAbjSAt0DCEEDtw2fYFSAWQBM8mCfq3xZApCkVZx8+F0D1AAMutQsUQKL7X5t6ihRATFy07aHKFEC06nO1FXshQGQThu5/rRxAmLho20PVHED/If32daAhQPtfm3rKZyRAvVKWIY61H0DFjzF3LXEgQIlBYOXQYh5AsN674OYHGkAcxreK2JoVQIBIv30deAVAC/zOHH/PB0B7xyk6ksv+PzwppuUaOQZAI7n8h/RbBkDwFkhQ/NgBQI8MTIHfuRRANagQoo8MEUDcJAaBlQMdQIPl9U2HOxRAqMZLN4lhFUArQO41F1IXQBNhw9MrpRdAvcEXJlMFGUDYXEiaUnEWQPYDMeOAkBFAg8DKoUX2GEAV1qBCiL4ZQPd14JwRxRpAgGq8dJO4HkBzsudFACocQLNTmU9DwR5ARbbz/dQ4GEDPiwCUrLAKQCpfvXfBjRBAfRoKsniEAkCIrbM0yg34P4tEjpqcR/c/D8FeTva88j8dxreK2PoAQM/3U+OlGwJA6ZKEV6XnEEBpAG+BBOUUQKgyn4aCLBNAuPlZPxBzFECQ5yDVnVQcQIPAyqFFthpAi9g6S6PcGEA52fMiAOUTQNkbfGEyVRZAseQXS35RGUA5+/AZduUcQOi0gU4bSBxA0bm1X1FkHkDVeOkmMYgYQDhCGb0tCxdAi9g6S6P8GEBUnH34DPsOQCuE6CMD0whAYXyriK2zCkC4rwPnjGgEQEVvy1odEwhATT3lq/duC0C9LWt1TPAFQAjRRwamQAVARGZBO7okFUDxhclUwagRQNZ7F9z8DCBAvQ6cM6I0G0Dw8RykupMUQLmQNKXijBVAz2bV52prHUA39ZSv3lsgQDdh6P7XdiBAWGENKoToGED8OnDOiLIYQAGX2mXS2SBAhJ7Nqs/1HEBEjpqcx64dQIg+MjAFfh9ARwBKVlgjFUBb9bnaiv0PQGRgCvzOXAVAkVnQji7J/z91lka5IbMEQEw3iUFgZf8/FUL0kYEp9z8U+J05/h7zP/p+arx0k/M/4cE8Uf9G9D8h+sjAFLgHQMCldpl0bhJA+4GYcUC4EUCV0duyVqcQQGydpVFuSBRAC0YldQK6GUD/snvysJAeQJ+rrdhfth5ACSH6yMC0GkB4ME/Uv1EYQAaEw/hWcRJA6CYxCKycHUCcDncI9rIYQEvIBz2bNRlAUbgehesxFkDAEcrobRkPQC0hH/RsFg1AJCh+jLlrAkCIhVrTvGP8P+eJ+jdCGew/RB8ZmAI/8j+neccpOhL2P13+Q/rt6wdAyQ2ZBe2oD0C9dJMYBJYVQMOr0gMMeBhAALnXXEgqIkDteRGAkoUkQNz8rB+I2SZAa5dJ59ZOJECX/5B++/olQCtlGeJYdyZAMXT/a1M/IEDYy8meF9EgQE+KablGHidA1qBCiD7yIkBNpgpGJaUiQMxaHRM8WBpAmQXt6JLECUDl01CQxWMGQD9XW7G/7P8/c5DqToqpBECBJsKGp1cBQECk374OXAtASVZYgwphAkATF217qJoAQFei2WKkRAVAIdWdFNMSFUCdzarP1RYNQKXi7MNnGBVAd7txZWN4GkBlO99PjacgQBRk8Yj3eSNAMCd7XgTwJ0Aj2/l+avwfQEt7gy9MpidAn2FXgNyrJUBT3UkxLacnQNRyjbyZviVAF0hQ/BijKUCt/YoikYMmQAEDLrXL1CVACyQofoyZE0DR2ISh+x8SQKbA78zxFxBAHJ5eKcvQEUBpAG+BBMURQGAEoGSFdQlA3GsuJE2p9z9VDi2ynW/8P/zOHH+PJwlArEGFEH2EE0DLV+9dcBMeQBvotIFOmyZARWlv8IW5I0AfzBP1b2QoQJgn6t8IBS5AJJf/kH57LkAWj3if0MgjQOVecyFpSiVAnBGlvcHHI0C8u7u7u5sfQGFXgNxrzhlANcoNmQXNGkCwlGWIY90fQKV2mXRurRpASw8w4FL7EEDb0SUJrwoGQPmgZ7Pq8/Y/46JtD1WLCUCASL99HXgKQFmrY4IHswpAvVKWIY41BUBhMlUwKukNQKuFf/5o5RRAjXVxGw0gB0AjSnuDL+wSQGpN845TtBRAIGPuWkKeE0DRkVz+Q/oNQJGjJuexUxVA1CtlGeIoJEBnRGlv8LUhQN1JMS3XyB5AbaDTBjptH0DvzPH3eM4bQP+NUEZvqxZABVYOLbIdIUBBguLHmPsaQHl90+EOoR1At9EA3gLJGkBIBqbA7wwNQKut2F92TwFAgZVDi2ynBED8OnDOiNIFQKBkhTWokABAnMQgsHJoAEAc6+I2GgAOQAAlK6xBZRVAjQPCYXxLEUB8YTJVMAoRQA2W1zcdDhdA739t6ikfD0ApyOIR75MTQCMDU+B3Zg5ArNIDDLh0FECRWdCOLkkVQM9jpzKfZhpAI5TR27LWIUCwbzrcIXgdQDj78Bl2BSJA4emVsgzxJUDW6pjgwfwiQGN/2T15mCBAzczMzMxsHEB8rrZif5kbQG9+1g/EzBBAaJQbMguaDUB9ZGAK/E4RQG3C0P2vjQtAVOOlm8QAEEAsikSOmhwWQIV//mglWhtAS36x5BeLEUBb1uqY4OETQAUSFD/GPBVAFYkcNTkvFUB67FTm03AUQKVRbsgsaBtADW5+1g/EFEDYX3ZPHhYZQF5LyAc9uyFAU+Olm8SwIUA5+/AZdgUlQBZFIkdNLiVAi0SOmpxHJUDBFyZTBSMkQEvtMunceiFAfauIrbNUHEDtxpWN4cQUQFHaG3xhchFAb37WD8RMDUB4eqUsQ5wDQFczWF7f1BFA+Vk/EDNuEEATYcPTK4UUQKdRbsgsKBhA+C64+Vk/GEDvpJiWayQKQPVKWYY4NhpARm/LWh0zEUCWa+TN9MUUQGSqYFRSpxtA3+M5SHW3IEATqOt246oiQAY3P+sH4iBAO5LLf0i/HkBLVliDCkEbQOiPVqLZEiBACfZysuflHkADK4cW2a4fQNUxwYN5QhxAk18s+cXyFUBiNYPl9e0UQOkBBlxqVxNAyJWN4cSqF0DBOSNKe8MVQGt1TPBg3hZA097gC5PpGkAX/vmjlegcQAz//NFKlBdA+J05/h4PHEB8zYWkKXUbQJAMTIHfWRlAxfuExiYMBEA3Yej+12YOQI51cRsNQBFAhXzQs1n1IEDLNfJm+rIhQBt5M32JWyBAPzVeuklMIUCxeMT7hOYfQH+P5yDVnRtAVHQkl/9QIUD4U+Olm+QcQGiz6nO1VRtAMzAFfmcuGEDkzfQlLpoWQGNd3EYDuBFAHFpkO99PEkBxr7mQNEUQQAnUdbtxpRRAH4gZB4SjEkB9QmMTho4WQOxU5tNQUBlA9U2HOwQbHkChauGfP9oZQOwHYsYBISNA95fdk4dlGkAIQMkKazAZQKnJeexUpiNANFuMlEDNI0COLkl4VXojQLmyMZxYXSNAW4yUQF03JUBfKcsQxxodQPjCZKpgNBlA6UtctO3BI0DjDsFeThYfQO81F5KmhCBA7TLp3NoPH0DUmuYdp2gaQKFns+pzlRdAn/LVexc8EEBl1edqK9YSQFfHBA/miRFAI7n8h/T7EECWRrkhs4ATQLn/tamnHBZANMff4zkIHkCVQF23G7cVQNUMltc3PRZA+HXgnBFlG0D029eBc6YaQIMsHvE+wRpAa3IeO5XJIEDNO07RkQwjQA0qhOgjIxxAuUOwl5N9H0CXjeHEasYfQAVZPOJ90iFA3wU3P+t3IkA5sZrB8nogQEE+6NmsOhxAYHZPHhbKF0A5IBzGtyoXQJt6ylfvXRNALSRNqTh7FUBrCfmgZ5MSQEl4VXqAARJAXUvIBz2bFEB9HThnRMkVQNEi2/l+ahdABMJhfKvIH0A1qBCij+wcQOtztRX7KxZAYcYB4TBeHEC3qad89T4dQFMFo5I6YRxAsStA7jU3IUADvzPH3+MhQJl0bu1XVCdAUdftxpUtHkBXgNxrLuQgQO3DZ9gVoBVAxf6ye/IQHkDSAN4CCbogQAsh+sjA1CFAd3RJwqsSGUBFJXUCmsgXQNvUU756LxJApuUaeTOdEEDhDsFeTvYMQE3LNfJm+g5AfR04Z0RJEUDgVekBBhwXQLlrCfmgBxdAeekmMQjMG0B7EYCSFTYcQF3ZGE6shiBAjpqcx06VI0CLJb9Y8oskQBOo63bjCh9AYZ6ofyPUIEBfKcsQx9oYQK9KDzDgUiBANV66SQwCG0ChjN6WtfoUQHW+nxov/RxAoImw4el1IUBfdk8eFrohQAnUdbtxZR9AS6PckFlwHEDysFBrmvcTQPDxHKS60xJAFRqbMHS/D0B++Ay7AkQRQAn5oGezqg5AUf9GKKN3EEAMbn7WD0QNQD2eg1R3shlA/fZ14JzxHUCzDHGsi5sVQFei2WKkZB9A5RdLfrHEGkDBXk72vGgYQMksaEeXJCBA3ZBZ0I6OFUBt6ilfvXcfQIMKIfrIAB9A1XjpJjFIGEClwO/M8VcUQI2XbhKDoB5ACUP3vzZ1HkCmLEMc6/IgQAWjkjoBDR9A6CMDU+C3GEDfBTc/66cbQO18PzVe+hJADd3/2tRzEECh0wY6bYARQIGYcUA4jA1ACPNE/RthD0D3mgtJUyoPQD/G3LWEHBNA26z6XG2FGUCv240rG+MSQDiMbxWx1RhAL26jAbxFEECD4seYuzYTQH0/NV666RRAXyz5xZIPIECN4cRqBisbQJjdk4eFWhxAK4ToIwOTHEDwO3P8Pb4eQKgQoo8MHCFAYxOG7n9tIUDjfUJjE8YeQFr1udqKHSJA+L829ZRvIECFEH1kYEoYQPgx5q4lZA9ACR7ME/XvEUBfvXfBzQ8RQG83rmwM5w9A6CDVnRQzEUBCrWnecWoTQAtGJXUC2hVAkDF3LSG/HEBVM1he35QaQGXSubVfERRANe84RUeSE0AZdgXIvSYeQGDApXaZNCJAFdagQoheHUCj/o1QRg8eQMlUwaikXiJA4Ahl9LacIEBKDAIrh9YgQPNE/RuhTCFAxGfYFSBHJEBpSsXZhz8hQAFyr7mQlBxAb6YvcdFWE0DmGnkzfSkTQI/nINWdFAtA1QloImzYEkBni5ESqEsSQHcI9nKyRxRA029fB85ZFUADwmF8qwgPQLtJDAIrBw5AidUMltd3F0AzC9rRJYkSQJX2Bl+YzAdAA3XdblzZBkCEoftfmzoZQGt1TPBgLiBAhX/+aCV6HUAPdwj2cpIgQB3J5T+k3xdA8xl2BcgdGUA405e4aLsTQEnn1n5FMR5At/P91HgJIkAfqhb++TMiQNCwK0Du1SBAz4sAlKzQGUAbL90kBmETQI9TdCSXPxNAe6UsQxyrDUBwrIvbaMAOQGTMXUvIBwxAcWVjOLEaCUCnfPXeBVcRQO/u7u7u7hNAw/hWEVvnGEDtVObTUJAXQME5I0p7wxxAGAEoWWHNDUD1kYEp8HsIQIMvTKYKBhpAK6xBhRBtIEDI3+M5SHUaQIUQfWRgqhlA+eq9C26+FUCl4uzDZzgjQFd9rrZinyBAfYmLtj2UIkAPdwj2cjIjQNNyjbyZXhpAFbF1lkbZGUCnnvLVexcNQA==\",\"dtype\":\"float64\",\"shape\":[8015]}},\"selected\":{\"id\":\"1081\",\"type\":\"Selection\"},\"selection_policy\":{\"id\":\"1082\",\"type\":\"UnionRenderers\"}},\"id\":\"1037\",\"type\":\"ColumnDataSource\"},{\"attributes\":{},\"id\":\"1059\",\"type\":\"YearsTicker\"},{\"attributes\":{},\"id\":\"1025\",\"type\":\"WheelZoomTool\"},{\"attributes\":{\"days\":[1,8,15,22]},\"id\":\"1053\",\"type\":\"DaysTicker\"},{\"attributes\":{\"dimension\":1,\"ticker\":{\"id\":\"1020\",\"type\":\"BasicTicker\"}},\"id\":\"1023\",\"type\":\"Grid\"},{\"attributes\":{\"days\":[1,15]},\"id\":\"1054\",\"type\":\"DaysTicker\"},{\"attributes\":{\"source\":{\"id\":\"1037\",\"type\":\"ColumnDataSource\"}},\"id\":\"1041\",\"type\":\"CDSView\"},{\"attributes\":{\"base\":24,\"mantissas\":[1,2,4,6,8,12],\"max_interval\":43200000.0,\"min_interval\":3600000.0,\"num_minor_ticks\":0},\"id\":\"1050\",\"type\":\"AdaptiveTicker\"},{\"attributes\":{\"line_alpha\":0.7,\"line_color\":\"#4444D9\",\"x\":{\"field\":\"x\"},\"y\":{\"field\":\"y\"}},\"id\":\"1038\",\"type\":\"Line\"},{\"attributes\":{},\"id\":\"1029\",\"type\":\"HelpTool\"},{\"attributes\":{},\"id\":\"1045\",\"type\":\"BasicTickFormatter\"},{\"attributes\":{},\"id\":\"1082\",\"type\":\"UnionRenderers\"},{\"attributes\":{},\"id\":\"1012\",\"type\":\"LinearScale\"},{\"attributes\":{\"months\":[0,1,2,3,4,5,6,7,8,9,10,11]},\"id\":\"1055\",\"type\":\"MonthsTicker\"},{\"attributes\":{\"callback\":null},\"id\":\"1008\",\"type\":\"DataRange1d\"},{\"attributes\":{},\"id\":\"1043\",\"type\":\"DatetimeTickFormatter\"},{\"attributes\":{},\"id\":\"1081\",\"type\":\"Selection\"},{\"attributes\":{\"months\":[0,6]},\"id\":\"1058\",\"type\":\"MonthsTicker\"},{\"attributes\":{\"background_fill_color\":{\"value\":\"darkgrey\"},\"items\":[{\"id\":\"1061\",\"type\":\"LegendItem\"}],\"location\":\"center_right\"},\"id\":\"1060\",\"type\":\"Legend\"},{\"attributes\":{},\"id\":\"1027\",\"type\":\"SaveTool\"},{\"attributes\":{\"axis_label\":\"Timestamp\",\"formatter\":{\"id\":\"1043\",\"type\":\"DatetimeTickFormatter\"},\"ticker\":{\"id\":\"1015\",\"type\":\"DatetimeTicker\"}},\"id\":\"1014\",\"type\":\"DatetimeAxis\"},{\"attributes\":{\"days\":[1,2,3,4,5,6,7,8,9,10,11,12,13,14,15,16,17,18,19,20,21,22,23,24,25,26,27,28,29,30,31]},\"id\":\"1051\",\"type\":\"DaysTicker\"},{\"attributes\":{\"label\":{\"value\":\"desbI\"},\"renderers\":[{\"id\":\"1040\",\"type\":\"GlyphRenderer\"}]},\"id\":\"1061\",\"type\":\"LegendItem\"},{\"attributes\":{},\"id\":\"1020\",\"type\":\"BasicTicker\"},{\"attributes\":{\"text\":\"Current imbalance for CPE04015, from 2017-04-01T00:00:00 to 2018-02-28T23:00:00\"},\"id\":\"1004\",\"type\":\"Title\"}],\"root_ids\":[\"1003\"]},\"title\":\"Bokeh Application\",\"version\":\"1.4.0\"}};\n",
       "  var render_items = [{\"docid\":\"2933467a-3675-4e49-98af-7d469b3fd521\",\"roots\":{\"1003\":\"c2d869cf-45dc-4e51-94d5-6dc13ede6aed\"}}];\n",
       "  root.Bokeh.embed.embed_items_notebook(docs_json, render_items);\n",
       "\n",
       "  }\n",
       "  if (root.Bokeh !== undefined) {\n",
       "    embed_document(root);\n",
       "  } else {\n",
       "    var attempts = 0;\n",
       "    var timer = setInterval(function(root) {\n",
       "      if (root.Bokeh !== undefined) {\n",
       "        clearInterval(timer);\n",
       "        embed_document(root);\n",
       "      } else {\n",
       "        attempts++;\n",
       "        if (attempts > 100) {\n",
       "          clearInterval(timer);\n",
       "          console.log(\"Bokeh: ERROR: Unable to run BokehJS code because BokehJS library is missing\");\n",
       "        }\n",
       "      }\n",
       "    }, 10, root)\n",
       "  }\n",
       "})(window);"
      ],
      "application/vnd.bokehjs_exec.v0+json": ""
     },
     "metadata": {
      "application/vnd.bokehjs_exec.v0+json": {
       "id": "1003"
      }
     },
     "output_type": "display_data"
    }
   ],
   "source": [
    "# plot the desbI time series\n",
    "desbI = figure(title='Current imbalance for {0}, from {1} to {2}'.format(experiment['description']['equipment'],\n",
    "                                                                        str(source.data['timestamp'][0])[:19],\n",
    "                                                                        str(source.data['timestamp'][-1])[:19]),\n",
    "               background_fill_color='#E8DDCB',\n",
    "               plot_width=800, plot_height=400, x_axis_type='datetime')\n",
    "\n",
    "desbI.line(source.data['timestamp'], source.data['desbI'], line_color=\"#4444D9\",\n",
    "           line_width=1, alpha=0.7, legend=\"desbI\")\n",
    "\n",
    "desbI_threshold = Span(location=15.0, dimension='width', line_color='red', line_width=1)\n",
    "\n",
    "desbI.add_layout(desbI_threshold)\n",
    "\n",
    "desbI.legend.location = \"center_right\"\n",
    "desbI.legend.background_fill_color = \"darkgrey\"\n",
    "desbI.xaxis.axis_label = 'Timestamp'\n",
    "desbI.yaxis.axis_label = 'Current Imbalance [%]'\n",
    "\n",
    "show(desbI)"
   ]
  },
  {
   "cell_type": "code",
   "execution_count": 27,
   "metadata": {},
   "outputs": [],
   "source": [
    "# produce a second Pandas dataframe for desbI scaled values\n",
    "ci_df_scaled = ci_df.copy()"
   ]
  },
  {
   "cell_type": "code",
   "execution_count": 28,
   "metadata": {},
   "outputs": [],
   "source": [
    "# Scale the time series to [0, 1]\n",
    "scaler = MinMaxScaler(feature_range=(0, 1))\n",
    "ci_df_scaled['desbI'] = scaler.fit_transform(np.array(ci_df['desbI']).reshape(-1, 1))\n",
    "# ci_df_scaled"
   ]
  },
  {
   "cell_type": "code",
   "execution_count": 29,
   "metadata": {},
   "outputs": [],
   "source": [
    "# ToDo: refine scaler name, add variables in variables list"
   ]
  },
  {
   "cell_type": "code",
   "execution_count": 30,
   "metadata": {},
   "outputs": [
    {
     "data": {
      "text/plain": [
       "['../data/scalers/LSTM_scaler_desbI_CPE04015.save']"
      ]
     },
     "execution_count": 30,
     "metadata": {},
     "output_type": "execute_result"
    }
   ],
   "source": [
    "# persist fitted scaler to disk\n",
    "scaler_path = '../data/scalers/LSTM_scaler_desbI_{0}.save'.format(experiment['description']['equipment'])\n",
    "joblib.dump(scaler, scaler_path)"
   ]
  },
  {
   "cell_type": "code",
   "execution_count": 31,
   "metadata": {},
   "outputs": [],
   "source": [
    "# a ColumnDataSource object for plots over scaled dataframe\n",
    "source_scaled = ColumnDataSource(data=ci_df_scaled)"
   ]
  },
  {
   "cell_type": "code",
   "execution_count": 32,
   "metadata": {},
   "outputs": [
    {
     "name": "stderr",
     "output_type": "stream",
     "text": [
      "BokehDeprecationWarning: 'legend' keyword is deprecated, use explicit 'legend_label', 'legend_field', or 'legend_group' keywords instead\n"
     ]
    },
    {
     "data": {
      "text/html": [
       "\n",
       "\n",
       "\n",
       "\n",
       "\n",
       "\n",
       "  <div class=\"bk-root\" id=\"5cc94ef8-5913-42c2-84b2-c846287622c2\" data-root-id=\"1204\"></div>\n"
      ]
     },
     "metadata": {},
     "output_type": "display_data"
    },
    {
     "data": {
      "application/javascript": [
       "(function(root) {\n",
       "  function embed_document(root) {\n",
       "    \n",
       "  var docs_json = {\"5e48934d-7637-4f7e-9c3c-5e1a2104fb72\":{\"roots\":{\"references\":[{\"attributes\":{\"source\":{\"id\":\"1238\",\"type\":\"ColumnDataSource\"}},\"id\":\"1242\",\"type\":\"CDSView\"},{\"attributes\":{\"days\":[1,2,3,4,5,6,7,8,9,10,11,12,13,14,15,16,17,18,19,20,21,22,23,24,25,26,27,28,29,30,31]},\"id\":\"1252\",\"type\":\"DaysTicker\"},{\"attributes\":{\"ticker\":{\"id\":\"1216\",\"type\":\"DatetimeTicker\"}},\"id\":\"1219\",\"type\":\"Grid\"},{\"attributes\":{\"mantissas\":[1,2,5],\"max_interval\":500.0,\"num_minor_ticks\":0},\"id\":\"1249\",\"type\":\"AdaptiveTicker\"},{\"attributes\":{\"background_fill_color\":{\"value\":\"#E8DDCB\"},\"below\":[{\"id\":\"1215\",\"type\":\"DatetimeAxis\"}],\"center\":[{\"id\":\"1219\",\"type\":\"Grid\"},{\"id\":\"1224\",\"type\":\"Grid\"},{\"id\":\"1261\",\"type\":\"Legend\"}],\"left\":[{\"id\":\"1220\",\"type\":\"LinearAxis\"}],\"plot_height\":400,\"plot_width\":800,\"renderers\":[{\"id\":\"1241\",\"type\":\"GlyphRenderer\"}],\"title\":{\"id\":\"1205\",\"type\":\"Title\"},\"toolbar\":{\"id\":\"1231\",\"type\":\"Toolbar\"},\"x_range\":{\"id\":\"1207\",\"type\":\"DataRange1d\"},\"x_scale\":{\"id\":\"1211\",\"type\":\"LinearScale\"},\"y_range\":{\"id\":\"1209\",\"type\":\"DataRange1d\"},\"y_scale\":{\"id\":\"1213\",\"type\":\"LinearScale\"}},\"id\":\"1204\",\"subtype\":\"Figure\",\"type\":\"Plot\"},{\"attributes\":{\"days\":[1,8,15,22]},\"id\":\"1254\",\"type\":\"DaysTicker\"},{\"attributes\":{\"active_drag\":\"auto\",\"active_inspect\":\"auto\",\"active_multi\":null,\"active_scroll\":\"auto\",\"active_tap\":\"auto\",\"tools\":[{\"id\":\"1225\",\"type\":\"PanTool\"},{\"id\":\"1226\",\"type\":\"WheelZoomTool\"},{\"id\":\"1227\",\"type\":\"BoxZoomTool\"},{\"id\":\"1228\",\"type\":\"SaveTool\"},{\"id\":\"1229\",\"type\":\"ResetTool\"},{\"id\":\"1230\",\"type\":\"HelpTool\"}]},\"id\":\"1231\",\"type\":\"Toolbar\"},{\"attributes\":{\"months\":[0,4,8]},\"id\":\"1258\",\"type\":\"MonthsTicker\"},{\"attributes\":{\"callback\":null},\"id\":\"1209\",\"type\":\"DataRange1d\"},{\"attributes\":{\"text\":\"Scaled current imbalance for CPE04015, from 2017-04-01T00:00:00 to 2018-02-28T23:00:00\"},\"id\":\"1205\",\"type\":\"Title\"},{\"attributes\":{\"months\":[0,2,4,6,8,10]},\"id\":\"1257\",\"type\":\"MonthsTicker\"},{\"attributes\":{\"axis_label\":\"Scaled Current Imbalance [unit]\",\"formatter\":{\"id\":\"1246\",\"type\":\"BasicTickFormatter\"},\"ticker\":{\"id\":\"1221\",\"type\":\"BasicTicker\"}},\"id\":\"1220\",\"type\":\"LinearAxis\"},{\"attributes\":{\"line_alpha\":0.1,\"line_color\":\"#1f77b4\",\"x\":{\"field\":\"x\"},\"y\":{\"field\":\"y\"}},\"id\":\"1240\",\"type\":\"Line\"},{\"attributes\":{},\"id\":\"1260\",\"type\":\"YearsTicker\"},{\"attributes\":{\"data_source\":{\"id\":\"1238\",\"type\":\"ColumnDataSource\"},\"glyph\":{\"id\":\"1239\",\"type\":\"Line\"},\"hover_glyph\":null,\"muted_glyph\":null,\"nonselection_glyph\":{\"id\":\"1240\",\"type\":\"Line\"},\"selection_glyph\":null,\"view\":{\"id\":\"1242\",\"type\":\"CDSView\"}},\"id\":\"1241\",\"type\":\"GlyphRenderer\"},{\"attributes\":{},\"id\":\"1229\",\"type\":\"ResetTool\"},{\"attributes\":{},\"id\":\"1226\",\"type\":\"WheelZoomTool\"},{\"attributes\":{},\"id\":\"1230\",\"type\":\"HelpTool\"},{\"attributes\":{},\"id\":\"1228\",\"type\":\"SaveTool\"},{\"attributes\":{},\"id\":\"1301\",\"type\":\"Selection\"},{\"attributes\":{\"months\":[0,1,2,3,4,5,6,7,8,9,10,11]},\"id\":\"1256\",\"type\":\"MonthsTicker\"},{\"attributes\":{\"label\":{\"value\":\"Scaled Current Imbalance\"},\"renderers\":[{\"id\":\"1241\",\"type\":\"GlyphRenderer\"}]},\"id\":\"1262\",\"type\":\"LegendItem\"},{\"attributes\":{\"months\":[0,6]},\"id\":\"1259\",\"type\":\"MonthsTicker\"},{\"attributes\":{\"callback\":null},\"id\":\"1207\",\"type\":\"DataRange1d\"},{\"attributes\":{\"days\":[1,15]},\"id\":\"1255\",\"type\":\"DaysTicker\"},{\"attributes\":{\"base\":24,\"mantissas\":[1,2,4,6,8,12],\"max_interval\":43200000.0,\"min_interval\":3600000.0,\"num_minor_ticks\":0},\"id\":\"1251\",\"type\":\"AdaptiveTicker\"},{\"attributes\":{\"axis_label\":\"Timestamp\",\"formatter\":{\"id\":\"1244\",\"type\":\"DatetimeTickFormatter\"},\"ticker\":{\"id\":\"1216\",\"type\":\"DatetimeTicker\"}},\"id\":\"1215\",\"type\":\"DatetimeAxis\"},{\"attributes\":{\"base\":60,\"mantissas\":[1,2,5,10,15,20,30],\"max_interval\":1800000.0,\"min_interval\":1000.0,\"num_minor_ticks\":0},\"id\":\"1250\",\"type\":\"AdaptiveTicker\"},{\"attributes\":{\"dimension\":1,\"ticker\":{\"id\":\"1221\",\"type\":\"BasicTicker\"}},\"id\":\"1224\",\"type\":\"Grid\"},{\"attributes\":{},\"id\":\"1213\",\"type\":\"LinearScale\"},{\"attributes\":{\"days\":[1,4,7,10,13,16,19,22,25,28]},\"id\":\"1253\",\"type\":\"DaysTicker\"},{\"attributes\":{\"overlay\":{\"id\":\"1248\",\"type\":\"BoxAnnotation\"}},\"id\":\"1227\",\"type\":\"BoxZoomTool\"},{\"attributes\":{},\"id\":\"1302\",\"type\":\"UnionRenderers\"},{\"attributes\":{},\"id\":\"1244\",\"type\":\"DatetimeTickFormatter\"},{\"attributes\":{},\"id\":\"1211\",\"type\":\"LinearScale\"},{\"attributes\":{\"bottom_units\":\"screen\",\"fill_alpha\":{\"value\":0.5},\"fill_color\":{\"value\":\"lightgrey\"},\"left_units\":\"screen\",\"level\":\"overlay\",\"line_alpha\":{\"value\":1.0},\"line_color\":{\"value\":\"black\"},\"line_dash\":[4,4],\"line_width\":{\"value\":2},\"render_mode\":\"css\",\"right_units\":\"screen\",\"top_units\":\"screen\"},\"id\":\"1248\",\"type\":\"BoxAnnotation\"},{\"attributes\":{},\"id\":\"1225\",\"type\":\"PanTool\"},{\"attributes\":{\"background_fill_color\":{\"value\":\"darkgrey\"},\"items\":[{\"id\":\"1262\",\"type\":\"LegendItem\"}]},\"id\":\"1261\",\"type\":\"Legend\"},{\"attributes\":{\"callback\":null,\"data\":{\"x\":{\"__ndarray__\":\"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\",\"dtype\":\"float64\",\"shape\":[8015]},\"y\":{\"__ndarray__\":\"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\",\"dtype\":\"float64\",\"shape\":[8015]}},\"selected\":{\"id\":\"1301\",\"type\":\"Selection\"},\"selection_policy\":{\"id\":\"1302\",\"type\":\"UnionRenderers\"}},\"id\":\"1238\",\"type\":\"ColumnDataSource\"},{\"attributes\":{\"num_minor_ticks\":5,\"tickers\":[{\"id\":\"1249\",\"type\":\"AdaptiveTicker\"},{\"id\":\"1250\",\"type\":\"AdaptiveTicker\"},{\"id\":\"1251\",\"type\":\"AdaptiveTicker\"},{\"id\":\"1252\",\"type\":\"DaysTicker\"},{\"id\":\"1253\",\"type\":\"DaysTicker\"},{\"id\":\"1254\",\"type\":\"DaysTicker\"},{\"id\":\"1255\",\"type\":\"DaysTicker\"},{\"id\":\"1256\",\"type\":\"MonthsTicker\"},{\"id\":\"1257\",\"type\":\"MonthsTicker\"},{\"id\":\"1258\",\"type\":\"MonthsTicker\"},{\"id\":\"1259\",\"type\":\"MonthsTicker\"},{\"id\":\"1260\",\"type\":\"YearsTicker\"}]},\"id\":\"1216\",\"type\":\"DatetimeTicker\"},{\"attributes\":{\"line_alpha\":0.7,\"line_color\":\"blue\",\"x\":{\"field\":\"x\"},\"y\":{\"field\":\"y\"}},\"id\":\"1239\",\"type\":\"Line\"},{\"attributes\":{},\"id\":\"1246\",\"type\":\"BasicTickFormatter\"},{\"attributes\":{},\"id\":\"1221\",\"type\":\"BasicTicker\"}],\"root_ids\":[\"1204\"]},\"title\":\"Bokeh Application\",\"version\":\"1.4.0\"}};\n",
       "  var render_items = [{\"docid\":\"5e48934d-7637-4f7e-9c3c-5e1a2104fb72\",\"roots\":{\"1204\":\"5cc94ef8-5913-42c2-84b2-c846287622c2\"}}];\n",
       "  root.Bokeh.embed.embed_items_notebook(docs_json, render_items);\n",
       "\n",
       "  }\n",
       "  if (root.Bokeh !== undefined) {\n",
       "    embed_document(root);\n",
       "  } else {\n",
       "    var attempts = 0;\n",
       "    var timer = setInterval(function(root) {\n",
       "      if (root.Bokeh !== undefined) {\n",
       "        clearInterval(timer);\n",
       "        embed_document(root);\n",
       "      } else {\n",
       "        attempts++;\n",
       "        if (attempts > 100) {\n",
       "          clearInterval(timer);\n",
       "          console.log(\"Bokeh: ERROR: Unable to run BokehJS code because BokehJS library is missing\");\n",
       "        }\n",
       "      }\n",
       "    }, 10, root)\n",
       "  }\n",
       "})(window);"
      ],
      "application/vnd.bokehjs_exec.v0+json": ""
     },
     "metadata": {
      "application/vnd.bokehjs_exec.v0+json": {
       "id": "1204"
      }
     },
     "output_type": "display_data"
    }
   ],
   "source": [
    "# plot scaled active power, directly from NumPy array\n",
    "ci_scaled_fig = figure(title='Scaled current imbalance for {0}, from {1} to {2}'.format(experiment['description']['equipment'],\n",
    "                                                                                        str(source.data['timestamp'][0])[:19],\n",
    "                                                                                        str(source.data['timestamp'][-1])[:19]),\n",
    "                       background_fill_color='#E8DDCB',\n",
    "                       plot_width=800, plot_height=400, x_axis_type='datetime')\n",
    "\n",
    "ci_scaled_fig.line(source_scaled.data['timestamp'], source_scaled.data['desbI'], line_color='blue',\n",
    "                      line_width=1, alpha=0.7, legend='Scaled Current Imbalance')\n",
    "\n",
    "ci_scaled_fig.legend.location = \"top_right\"\n",
    "ci_scaled_fig.legend.background_fill_color = \"darkgrey\"\n",
    "\n",
    "ci_scaled_fig.xaxis.axis_label = 'Timestamp'\n",
    "ci_scaled_fig.yaxis.axis_label = 'Scaled Current Imbalance [unit]'\n",
    "\n",
    "show(ci_scaled_fig)"
   ]
  },
  {
   "cell_type": "code",
   "execution_count": 33,
   "metadata": {},
   "outputs": [],
   "source": [
    "# process the time series to get the full experiment dictionary\n",
    "# ToDo: should the experiment dictionary store information about train, eval, predict stages?"
   ]
  },
  {
   "cell_type": "code",
   "execution_count": 34,
   "metadata": {},
   "outputs": [
    {
     "data": {
      "text/plain": [
       "timestamp\n",
       "2017-04-01 00:00:00    0.131466\n",
       "2017-04-01 01:00:00    0.090531\n",
       "2017-04-01 02:00:00    0.121373\n",
       "2017-04-01 03:00:00    0.174837\n",
       "2017-04-01 04:00:00    0.150330\n",
       "Name: desbI, dtype: float64"
      ]
     },
     "execution_count": 34,
     "metadata": {},
     "output_type": "execute_result"
    }
   ],
   "source": [
    "# get some values from the selected time series\n",
    "ci_df_scaled['desbI'][:5]"
   ]
  },
  {
   "cell_type": "code",
   "execution_count": 35,
   "metadata": {},
   "outputs": [],
   "source": [
    "# timestamp is required for correct alignment!\n",
    "# ToDo: add timestamp to either features or labels\n",
    "# also arrange dataset split criteria for training stages into the experiment dictionary"
   ]
  },
  {
   "cell_type": "code",
   "execution_count": 36,
   "metadata": {},
   "outputs": [],
   "source": [
    "# modify makeXyMulti to work only on lists until TFRecords are created\n",
    "# avoid NumPy arrays"
   ]
  },
  {
   "cell_type": "code",
   "execution_count": 37,
   "metadata": {},
   "outputs": [
    {
     "data": {
      "text/plain": [
       "timestamp\n",
       "2017-04-01 00:00:00    0.131466\n",
       "2017-04-01 01:00:00    0.090531\n",
       "2017-04-01 02:00:00    0.121373\n",
       "2017-04-01 03:00:00    0.174837\n",
       "2017-04-01 04:00:00    0.150330\n",
       "Name: desbI, dtype: float64"
      ]
     },
     "execution_count": 37,
     "metadata": {},
     "output_type": "execute_result"
    }
   ],
   "source": [
    "test_time_series = ci_df_scaled['desbI'][0:5]\n",
    "test_time_series"
   ]
  },
  {
   "cell_type": "code",
   "execution_count": 38,
   "metadata": {},
   "outputs": [],
   "source": [
    "# split data set into train/validation/test at time series level\n",
    "# to avoid data overlapping between train/eval/test SLDBs"
   ]
  },
  {
   "cell_type": "code",
   "execution_count": 39,
   "metadata": {},
   "outputs": [],
   "source": [
    "# global data set is splitted into train, validation, and test data sets, initially at (0.7, 0.2, 0.1)\n",
    "split = np.array([0.7, 0.9, 1.0])"
   ]
  },
  {
   "cell_type": "code",
   "execution_count": 40,
   "metadata": {},
   "outputs": [
    {
     "data": {
      "text/plain": [
       "(5610, 7213)"
      ]
     },
     "execution_count": 40,
     "metadata": {},
     "output_type": "execute_result"
    }
   ],
   "source": [
    "# get indexes of ci_scaled time series for train, validation, and test thresholds\n",
    "train_eval_limit = np.int(ci_df_scaled.count()*split[0])\n",
    "eval_test_limit = np.int(ci_df_scaled.count()*split[1])\n",
    "train_eval_limit, eval_test_limit"
   ]
  },
  {
   "cell_type": "code",
   "execution_count": 41,
   "metadata": {},
   "outputs": [],
   "source": [
    "# keep the train, eval, and test segments of time series in a dictionary"
   ]
  },
  {
   "cell_type": "code",
   "execution_count": 42,
   "metadata": {},
   "outputs": [],
   "source": [
    "ts = dict()"
   ]
  },
  {
   "cell_type": "code",
   "execution_count": 43,
   "metadata": {},
   "outputs": [
    {
     "name": "stdout",
     "output_type": "stream",
     "text": [
      "5610 lectures in train time series from 2017-04-01 00:00:00 to 2017-11-20 18:00:00\n"
     ]
    }
   ],
   "source": [
    "# get the time series portion for train set\n",
    "ts['train'] = ci_df_scaled[:train_eval_limit]\n",
    "print('{0} lectures in train time series from {1} to {2}'.format(ts['train'].count()[0],\n",
    "                                                                 ts['train'].index[0],\n",
    "                                                                 ts['train'].index[-1]))"
   ]
  },
  {
   "cell_type": "code",
   "execution_count": 44,
   "metadata": {},
   "outputs": [
    {
     "data": {
      "text/html": [
       "<div>\n",
       "<style scoped>\n",
       "    .dataframe tbody tr th:only-of-type {\n",
       "        vertical-align: middle;\n",
       "    }\n",
       "\n",
       "    .dataframe tbody tr th {\n",
       "        vertical-align: top;\n",
       "    }\n",
       "\n",
       "    .dataframe thead th {\n",
       "        text-align: right;\n",
       "    }\n",
       "</style>\n",
       "<table border=\"1\" class=\"dataframe\">\n",
       "  <thead>\n",
       "    <tr style=\"text-align: right;\">\n",
       "      <th></th>\n",
       "      <th>desbI</th>\n",
       "    </tr>\n",
       "    <tr>\n",
       "      <th>timestamp</th>\n",
       "      <th></th>\n",
       "    </tr>\n",
       "  </thead>\n",
       "  <tbody>\n",
       "    <tr>\n",
       "      <th>2017-04-01 00:00:00</th>\n",
       "      <td>0.131466</td>\n",
       "    </tr>\n",
       "    <tr>\n",
       "      <th>2017-04-01 01:00:00</th>\n",
       "      <td>0.090531</td>\n",
       "    </tr>\n",
       "    <tr>\n",
       "      <th>2017-04-01 02:00:00</th>\n",
       "      <td>0.121373</td>\n",
       "    </tr>\n",
       "    <tr>\n",
       "      <th>2017-04-01 03:00:00</th>\n",
       "      <td>0.174837</td>\n",
       "    </tr>\n",
       "    <tr>\n",
       "      <th>2017-04-01 04:00:00</th>\n",
       "      <td>0.150330</td>\n",
       "    </tr>\n",
       "    <tr>\n",
       "      <th>...</th>\n",
       "      <td>...</td>\n",
       "    </tr>\n",
       "    <tr>\n",
       "      <th>2017-11-20 14:00:00</th>\n",
       "      <td>0.563751</td>\n",
       "    </tr>\n",
       "    <tr>\n",
       "      <th>2017-11-20 15:00:00</th>\n",
       "      <td>0.660668</td>\n",
       "    </tr>\n",
       "    <tr>\n",
       "      <th>2017-11-20 16:00:00</th>\n",
       "      <td>0.545700</td>\n",
       "    </tr>\n",
       "    <tr>\n",
       "      <th>2017-11-20 17:00:00</th>\n",
       "      <td>0.544180</td>\n",
       "    </tr>\n",
       "    <tr>\n",
       "      <th>2017-11-20 18:00:00</th>\n",
       "      <td>0.510575</td>\n",
       "    </tr>\n",
       "  </tbody>\n",
       "</table>\n",
       "<p>5610 rows × 1 columns</p>\n",
       "</div>"
      ],
      "text/plain": [
       "                        desbI\n",
       "timestamp                    \n",
       "2017-04-01 00:00:00  0.131466\n",
       "2017-04-01 01:00:00  0.090531\n",
       "2017-04-01 02:00:00  0.121373\n",
       "2017-04-01 03:00:00  0.174837\n",
       "2017-04-01 04:00:00  0.150330\n",
       "...                       ...\n",
       "2017-11-20 14:00:00  0.563751\n",
       "2017-11-20 15:00:00  0.660668\n",
       "2017-11-20 16:00:00  0.545700\n",
       "2017-11-20 17:00:00  0.544180\n",
       "2017-11-20 18:00:00  0.510575\n",
       "\n",
       "[5610 rows x 1 columns]"
      ]
     },
     "execution_count": 44,
     "metadata": {},
     "output_type": "execute_result"
    }
   ],
   "source": [
    "ts['train']"
   ]
  },
  {
   "cell_type": "code",
   "execution_count": 45,
   "metadata": {},
   "outputs": [
    {
     "name": "stdout",
     "output_type": "stream",
     "text": [
      "1603 lectures in eval time series from 2017-11-20 19:00:00 to 2018-01-26 13:00:00\n"
     ]
    }
   ],
   "source": [
    "# get the time series portion for eval set\n",
    "ts['eval'] = ci_df_scaled[train_eval_limit:eval_test_limit]\n",
    "print('{0} lectures in eval time series from {1} to {2}'.format(ts['eval'].count()[0],\n",
    "                                                                ts['eval'].index[0],\n",
    "                                                                ts['eval'].index[-1]))"
   ]
  },
  {
   "cell_type": "code",
   "execution_count": 46,
   "metadata": {},
   "outputs": [
    {
     "name": "stdout",
     "output_type": "stream",
     "text": [
      "802 lectures in test time series from 2018-01-26 14:00:00 to 2018-02-28 23:00:00\n"
     ]
    }
   ],
   "source": [
    "# get the time series portion for test set\n",
    "ts['test'] = ci_df_scaled[eval_test_limit:]\n",
    "print('{0} lectures in test time series from {1} to {2}'.format(ts['test'].count()[0],\n",
    "                                                                ts['test'].index[0],\n",
    "                                                                ts['test'].index[-1]))"
   ]
  },
  {
   "cell_type": "code",
   "execution_count": 47,
   "metadata": {},
   "outputs": [],
   "source": [
    "### Define training, validation, and test (based on timestamp interval)"
   ]
  },
  {
   "cell_type": "code",
   "execution_count": 48,
   "metadata": {},
   "outputs": [],
   "source": [
    "def make_features_labels_timestamps(time_series, m, tau, n_targets):\n",
    "    \"\"\"\n",
    "    Input: \n",
    "           time series: original time series\n",
    "           m: embedding dimension\n",
    "           tau: lag\n",
    "    Output: \n",
    "           features: list of features\n",
    "           labels: list of labels\n",
    "           timestamps: list of target (label) timestamps\n",
    "    \"\"\"\n",
    "    # a couple of empty lists to store feature vectors and targets\n",
    "    features = []\n",
    "    labels = []\n",
    "    timestamps = []\n",
    "    sequence = range(m*tau, time_series.shape[0] - n_targets + 1)\n",
    "    for i in sequence:\n",
    "        features.append(list(time_series.iloc[(i - m*tau):i:tau]))\n",
    "        labels.append(list(time_series.iloc[i:(i + n_targets):1]))\n",
    "        timestamps.append(list(time_series.index[i:(i + n_targets):1]))\n",
    "      \n",
    "    # uncomment the following line to return NumPy arrays instead of Python lists\n",
    "    # features, labels, timestamps = np.array(features), np.array(labels), np.array(timestamps)\n",
    "        \n",
    "    return features, labels, timestamps"
   ]
  },
  {
   "cell_type": "code",
   "execution_count": null,
   "metadata": {},
   "outputs": [],
   "source": [
    "def make_features_labels_timestamps_ohvs(time_series, m, tau, n_targets):\n",
    "    \"\"\"\n",
    "    Input: \n",
    "           time series: original time series\n",
    "           m: embedding dimension\n",
    "           tau: lag\n",
    "    Output: \n",
    "           features: list of features\n",
    "           labels: list of labels\n",
    "           timestamps: list of target (label) timestamps\n",
    "           oh_wds: list of one-hot vectors describing weekday of timestamp\n",
    "           oh_dhs: list of one-hot vectors describing hour of the day of timestamp\n",
    "    \"\"\"\n",
    "    # a couple of empty lists to store feature vectors and targets\n",
    "    features = []\n",
    "    labels = []\n",
    "    timestamps = []\n",
    "    oh_wds = []\n",
    "    oh_dhs = []\n",
    "    sequence = range(m*tau, time_series.shape[0] - n_targets + 1)\n",
    "    for i in sequence:\n",
    "        features.append(list(time_series.iloc[(i - m*tau):i:tau]))\n",
    "        labels.append(list(time_series.iloc[i:(i + n_targets):1]))\n",
    "        timestamps.append(list(time_series.index[i:(i + n_targets):1]))\n",
    "      \n",
    "    # uncomment the following line to return NumPy arrays instead of Python lists\n",
    "    # features, labels, timestamps = np.array(features), np.array(labels), np.array(timestamps)\n",
    "        \n",
    "    return features, labels, timestamps"
   ]
  },
  {
   "cell_type": "code",
   "execution_count": 61,
   "metadata": {},
   "outputs": [],
   "source": [
    "# create a dictionary to temporarily store the following SLDBs:\n",
    "# train (hourly, daily, weekly, targets, timestamps)\n",
    "# eval (hourly, daily, weekly, targets, timestamps)\n",
    "# test (hourly, daily, weekly, targets, timestamps)"
   ]
  },
  {
   "cell_type": "code",
   "execution_count": 63,
   "metadata": {},
   "outputs": [],
   "source": [
    "sldb = {\n",
    "    'train': {\n",
    "        'hourly': {},\n",
    "        'daily': {},\n",
    "        'weekly': {}\n",
    "    },\n",
    "    'eval': {\n",
    "        'hourly': {},\n",
    "        'daily': {},\n",
    "        'weekly': {}\n",
    "    },\n",
    "    'test': {\n",
    "        'hourly': {},\n",
    "        'daily': {},\n",
    "        'weekly': {}\n",
    "    }\n",
    "}"
   ]
  },
  {
   "cell_type": "code",
   "execution_count": 64,
   "metadata": {},
   "outputs": [],
   "source": [
    "stages = ['train', 'eval', 'test']"
   ]
  },
  {
   "cell_type": "code",
   "execution_count": 66,
   "metadata": {},
   "outputs": [
    {
     "data": {
      "text/plain": [
       "'desbI'"
      ]
     },
     "execution_count": 66,
     "metadata": {},
     "output_type": "execute_result"
    }
   ],
   "source": [
    "variable = experiment['description']['variables'][0]\n",
    "variable"
   ]
  },
  {
   "cell_type": "code",
   "execution_count": 67,
   "metadata": {},
   "outputs": [
    {
     "data": {
      "text/plain": [
       "timestamp\n",
       "2017-04-01 00:00:00    0.131466\n",
       "2017-04-01 01:00:00    0.090531\n",
       "2017-04-01 02:00:00    0.121373\n",
       "2017-04-01 03:00:00    0.174837\n",
       "2017-04-01 04:00:00    0.150330\n",
       "                         ...   \n",
       "2017-11-20 14:00:00    0.563751\n",
       "2017-11-20 15:00:00    0.660668\n",
       "2017-11-20 16:00:00    0.545700\n",
       "2017-11-20 17:00:00    0.544180\n",
       "2017-11-20 18:00:00    0.510575\n",
       "Name: desbI, Length: 5610, dtype: float64"
      ]
     },
     "execution_count": 67,
     "metadata": {},
     "output_type": "execute_result"
    }
   ],
   "source": [
    "ts['train'][variable]"
   ]
  },
  {
   "cell_type": "code",
   "execution_count": 68,
   "metadata": {},
   "outputs": [],
   "source": [
    "# BUILD ALL THE SLDBs!!!\n",
    "for stage in stages:\n",
    "    for component_key in experiment['components'].keys():\n",
    "        sldb[stage][component_key]['features'], sldb[stage][component_key]['labels'], sldb[stage][component_key]['timestamps'] = make_features_labels_timestamps(\n",
    "            ts[stage][variable],\n",
    "            experiment['components'][component_key]['m'],\n",
    "            experiment['components'][component_key]['tau'],\n",
    "            experiment['components'][component_key]['no_targets'])"
   ]
  },
  {
   "cell_type": "code",
   "execution_count": 76,
   "metadata": {},
   "outputs": [],
   "source": [
    "intervals = ['hourly', 'daily', 'weekly']"
   ]
  },
  {
   "cell_type": "code",
   "execution_count": 77,
   "metadata": {},
   "outputs": [],
   "source": [
    "items = ['features', 'labels', 'timestamps']"
   ]
  },
  {
   "cell_type": "code",
   "execution_count": 88,
   "metadata": {},
   "outputs": [],
   "source": [
    "# define the structure of a useful dictionary\n",
    "experiment['stats'] = {\n",
    "    'train': {\n",
    "        'hourly': {},\n",
    "        'daily': {},\n",
    "        'weekly': {},\n",
    "    },\n",
    "    'eval': {\n",
    "        'hourly': {},\n",
    "        'daily': {},\n",
    "        'weekly': {}        \n",
    "    },\n",
    "    'test': {\n",
    "        'hourly': {},\n",
    "        'daily': {},\n",
    "        'weekly': {}\n",
    "    }\n",
    "}"
   ]
  },
  {
   "cell_type": "code",
   "execution_count": 102,
   "metadata": {},
   "outputs": [
    {
     "name": "stdout",
     "output_type": "stream",
     "text": [
      "5586 features / train / hourly from 2017-04-02 00:00:00 to 2017-11-20 18:00:00\n",
      "5586 labels / train / hourly from 2017-04-02 00:00:00 to 2017-11-20 18:00:00\n",
      "5586 timestamps / train / hourly from 2017-04-02 00:00:00 to 2017-11-20 18:00:00\n",
      "5442 features / train / daily from 2017-04-08 01:00:00 to 2017-11-20 18:00:00\n",
      "5442 labels / train / daily from 2017-04-08 01:00:00 to 2017-11-20 18:00:00\n",
      "5442 timestamps / train / daily from 2017-04-08 01:00:00 to 2017-11-20 18:00:00\n",
      "4938 features / train / weekly from 2017-04-29 01:00:00 to 2017-11-20 18:00:00\n",
      "4938 labels / train / weekly from 2017-04-29 01:00:00 to 2017-11-20 18:00:00\n",
      "4938 timestamps / train / weekly from 2017-04-29 01:00:00 to 2017-11-20 18:00:00\n",
      "1579 features / eval / hourly from 2017-11-21 19:00:00 to 2018-01-26 13:00:00\n",
      "1579 labels / eval / hourly from 2017-11-21 19:00:00 to 2018-01-26 13:00:00\n",
      "1579 timestamps / eval / hourly from 2017-11-21 19:00:00 to 2018-01-26 13:00:00\n",
      "1435 features / eval / daily from 2017-11-27 19:00:00 to 2018-01-26 13:00:00\n",
      "1435 labels / eval / daily from 2017-11-27 19:00:00 to 2018-01-26 13:00:00\n",
      "1435 timestamps / eval / daily from 2017-11-27 19:00:00 to 2018-01-26 13:00:00\n",
      "931 features / eval / weekly from 2017-12-18 19:00:00 to 2018-01-26 13:00:00\n",
      "931 labels / eval / weekly from 2017-12-18 19:00:00 to 2018-01-26 13:00:00\n",
      "931 timestamps / eval / weekly from 2017-12-18 19:00:00 to 2018-01-26 13:00:00\n",
      "778 features / test / hourly from 2018-01-27 14:00:00 to 2018-02-28 23:00:00\n",
      "778 labels / test / hourly from 2018-01-27 14:00:00 to 2018-02-28 23:00:00\n",
      "778 timestamps / test / hourly from 2018-01-27 14:00:00 to 2018-02-28 23:00:00\n",
      "634 features / test / daily from 2018-02-02 14:00:00 to 2018-02-28 23:00:00\n",
      "634 labels / test / daily from 2018-02-02 14:00:00 to 2018-02-28 23:00:00\n",
      "634 timestamps / test / daily from 2018-02-02 14:00:00 to 2018-02-28 23:00:00\n",
      "130 features / test / weekly from 2018-02-23 14:00:00 to 2018-02-28 23:00:00\n",
      "130 labels / test / weekly from 2018-02-23 14:00:00 to 2018-02-28 23:00:00\n",
      "130 timestamps / test / weekly from 2018-02-23 14:00:00 to 2018-02-28 23:00:00\n"
     ]
    }
   ],
   "source": [
    "# report statistics on stages and intervals of SLDBs\n",
    "# and persist them to the experiment['stats'] level\n",
    "for stage in stages:\n",
    "    for interval in intervals:\n",
    "        for item in items:\n",
    "            # fill the values in the stats sub-dictionary\n",
    "            experiment['stats'][stage][interval][item] = len(sldb[stage][interval][item])\n",
    "            experiment['stats'][stage][interval]['from'] = sldb[stage][interval]['timestamps'][0][0]\n",
    "            experiment['stats'][stage][interval]['to'] = sldb[stage][interval]['timestamps'][-1][0]           \n",
    "            # and log them\n",
    "            print('{0} {3} / {1} / {2} from {4} to {5}'.format(len(sldb[stage][interval][item]),\n",
    "                                                               stage,\n",
    "                                                               interval,\n",
    "                                                               item,\n",
    "                                                               sldb[stage][interval]['timestamps'][0][0],\n",
    "                                                               sldb[stage][interval]['timestamps'][-1][0]))"
   ]
  },
  {
   "cell_type": "code",
   "execution_count": 119,
   "metadata": {},
   "outputs": [
    {
     "data": {
      "text/plain": [
       "True"
      ]
     },
     "execution_count": 119,
     "metadata": {},
     "output_type": "execute_result"
    }
   ],
   "source": [
    "# in train set, verify resolution-based datasets end in the same timestamp\n",
    "experiment['stats']['train']['hourly']['to'] == experiment['stats']['train']['daily']['to'] == experiment['stats']['train']['weekly']['to']"
   ]
  },
  {
   "cell_type": "code",
   "execution_count": 120,
   "metadata": {},
   "outputs": [
    {
     "data": {
      "text/plain": [
       "True"
      ]
     },
     "execution_count": 120,
     "metadata": {},
     "output_type": "execute_result"
    }
   ],
   "source": [
    "# in eval set, verify resolution-based datasets end in the same timestamp\n",
    "experiment['stats']['eval']['hourly']['to'] == experiment['stats']['eval']['daily']['to'] == experiment['stats']['eval']['weekly']['to']"
   ]
  },
  {
   "cell_type": "code",
   "execution_count": 121,
   "metadata": {},
   "outputs": [
    {
     "data": {
      "text/plain": [
       "True"
      ]
     },
     "execution_count": 121,
     "metadata": {},
     "output_type": "execute_result"
    }
   ],
   "source": [
    "# in test set, verify resolution-based datasets end in the same timestamp\n",
    "experiment['stats']['test']['hourly']['to'] == experiment['stats']['test']['daily']['to'] == experiment['stats']['test']['weekly']['to']"
   ]
  },
  {
   "cell_type": "code",
   "execution_count": 132,
   "metadata": {},
   "outputs": [],
   "source": [
    "# get the number of rows in the smaller resolution-based dataset, for alignment purposes\n",
    "for stage in stages:\n",
    "    experiment['stats'][stage]['trimmed_to'] = min([experiment['stats'][stage][interval]['features'] for interval in intervals])"
   ]
  },
  {
   "cell_type": "code",
   "execution_count": 143,
   "metadata": {},
   "outputs": [
    {
     "data": {
      "text/plain": [
       "(4938, 931, 130)"
      ]
     },
     "execution_count": 143,
     "metadata": {},
     "output_type": "execute_result"
    }
   ],
   "source": [
    "experiment['stats']['train']['trimmed_to'], experiment['stats']['eval']['trimmed_to'], experiment['stats']['test']['trimmed_to']"
   ]
  },
  {
   "cell_type": "code",
   "execution_count": 136,
   "metadata": {},
   "outputs": [
    {
     "data": {
      "text/plain": [
       "(['train', 'eval', 'test'],\n",
       " ['hourly', 'daily', 'weekly'],\n",
       " ['features', 'labels', 'timestamps'])"
      ]
     },
     "execution_count": 136,
     "metadata": {},
     "output_type": "execute_result"
    }
   ],
   "source": [
    "stages, intervals, items"
   ]
  },
  {
   "cell_type": "code",
   "execution_count": 138,
   "metadata": {},
   "outputs": [],
   "source": [
    "# a new dictionary with final, trimmed data\n",
    "tfrecords = {\n",
    "    'train': {}, # hourly, daily, weekly, labels, timestamps to be added\n",
    "    'eval': {}, # hourly, daily, weekly, labels, timestamps to be added\n",
    "    'test': {}, # hourly, daily, weekly, labels, timestamps to be added\n",
    "}"
   ]
  },
  {
   "cell_type": "code",
   "execution_count": 151,
   "metadata": {},
   "outputs": [],
   "source": [
    "for stage in stages:\n",
    "    # isolate this value, just for readability\n",
    "    value_to_trim = experiment['stats'][stage]['trimmed_to']\n",
    "    tfrecords[stage]['hourly'] = sldb[stage]['hourly']['features'][-value_to_trim:]\n",
    "    tfrecords[stage]['daily'] = sldb[stage]['daily']['features'][-value_to_trim:]\n",
    "    tfrecords[stage]['weekly'] = sldb[stage]['weekly']['features'][-value_to_trim:]\n",
    "    # labels and timestamps can be acquired from any resolution-based, temporary dataset (hourly, daily, weekly)\n",
    "    tfrecords[stage]['labels'] = sldb[stage]['hourly']['labels'][-value_to_trim:]\n",
    "    tfrecords[stage]['timestamps'] = sldb[stage]['hourly']['timestamps'][-value_to_trim:]"
   ]
  },
  {
   "cell_type": "code",
   "execution_count": 66,
   "metadata": {},
   "outputs": [],
   "source": [
    "# build and serialize examples"
   ]
  },
  {
   "cell_type": "code",
   "execution_count": 163,
   "metadata": {},
   "outputs": [],
   "source": [
    "# get the first row (list) of features at hourly resolution to test the functions already built\n",
    "list_of_features = tfrecords['train']['hourly'][0]"
   ]
  },
  {
   "cell_type": "code",
   "execution_count": 165,
   "metadata": {},
   "outputs": [
    {
     "data": {
      "text/plain": [
       "[0.23604218072742778,\n",
       " 0.21965654258679004,\n",
       " 0.20584419019288747,\n",
       " 0.20633893315991397,\n",
       " 0.23554847495739714,\n",
       " 0.3069854180474351,\n",
       " 0.3476736189981299,\n",
       " 0.3996288909148803,\n",
       " 0.5794383993146202,\n",
       " 0.3218795669080224,\n",
       " 0.28891537198551653,\n",
       " 0.40595164380165893,\n",
       " 0.33396706069780546,\n",
       " 0.3624308578552633,\n",
       " 0.6737797636642926,\n",
       " 0.5972719644614821,\n",
       " 0.3740391666329578,\n",
       " 0.2004912164972405,\n",
       " 0.3055240074802647,\n",
       " 0.35227877365975996,\n",
       " 0.5433854317384356,\n",
       " 0.40607714463815825,\n",
       " 0.3015619149560695,\n",
       " 0.24656869303843745]"
      ]
     },
     "execution_count": 165,
     "metadata": {},
     "output_type": "execute_result"
    }
   ],
   "source": [
    "list_of_features"
   ]
  },
  {
   "cell_type": "code",
   "execution_count": 166,
   "metadata": {},
   "outputs": [],
   "source": [
    "# starting this point, transfer code to JupyterLab to test it on TensorFlow 1.15 Enterprise"
   ]
  },
  {
   "cell_type": "code",
   "execution_count": 167,
   "metadata": {},
   "outputs": [],
   "source": [
    "import tensorflow as tf"
   ]
  },
  {
   "cell_type": "code",
   "execution_count": 168,
   "metadata": {},
   "outputs": [],
   "source": [
    "# modified to run on TF 2.X\n",
    "sess = tf.compat.v1.InteractiveSession()"
   ]
  },
  {
   "cell_type": "code",
   "execution_count": 169,
   "metadata": {},
   "outputs": [],
   "source": [
    "def _float_feature_from_list_of_values(list_of_values):\n",
    "  \"\"\"Returns a float_list from a list of floats / doubles.\"\"\"\n",
    "  return tf.train.Feature(float_list=tf.train.FloatList(value=list_of_values))"
   ]
  },
  {
   "cell_type": "code",
   "execution_count": 170,
   "metadata": {},
   "outputs": [
    {
     "data": {
      "text/plain": [
       "float_list {\n",
       "  value: 0.23604218661785126\n",
       "  value: 0.2196565419435501\n",
       "  value: 0.2058441936969757\n",
       "  value: 0.20633892714977264\n",
       "  value: 0.2355484813451767\n",
       "  value: 0.30698540806770325\n",
       "  value: 0.347673624753952\n",
       "  value: 0.3996288776397705\n",
       "  value: 0.5794383883476257\n",
       "  value: 0.3218795657157898\n",
       "  value: 0.28891536593437195\n",
       "  value: 0.4059516489505768\n",
       "  value: 0.33396705985069275\n",
       "  value: 0.3624308705329895\n",
       "  value: 0.6737797856330872\n",
       "  value: 0.5972719788551331\n",
       "  value: 0.3740391731262207\n",
       "  value: 0.20049121975898743\n",
       "  value: 0.3055240213871002\n",
       "  value: 0.35227876901626587\n",
       "  value: 0.5433854460716248\n",
       "  value: 0.40607714653015137\n",
       "  value: 0.3015619218349457\n",
       "  value: 0.2465686947107315\n",
       "}"
      ]
     },
     "execution_count": 170,
     "metadata": {},
     "output_type": "execute_result"
    }
   ],
   "source": [
    "# the first features row in training set (24 lectures) as a float list\n",
    "hourly = _float_feature_from_list_of_values(list_of_features)\n",
    "hourly"
   ]
  },
  {
   "cell_type": "code",
   "execution_count": 171,
   "metadata": {},
   "outputs": [],
   "source": [
    "# get the first row (list) of labels at hourly resolution to test the functions already built\n",
    "list_of_labels = tfrecords['train']['labels'][0]"
   ]
  },
  {
   "cell_type": "code",
   "execution_count": 172,
   "metadata": {},
   "outputs": [
    {
     "data": {
      "text/plain": [
       "float_list {\n",
       "  value: 0.18826058506965637\n",
       "}"
      ]
     },
     "execution_count": 172,
     "metadata": {},
     "output_type": "execute_result"
    }
   ],
   "source": [
    "# the first label row in training set as a float list\n",
    "target = _float_feature_from_list_of_values(list_of_labels)\n",
    "target"
   ]
  },
  {
   "cell_type": "code",
   "execution_count": 193,
   "metadata": {},
   "outputs": [
    {
     "data": {
      "text/plain": [
       "Timestamp('2017-04-29 01:00:00')"
      ]
     },
     "execution_count": 193,
     "metadata": {},
     "output_type": "execute_result"
    }
   ],
   "source": [
    "# get the first row (list) of timestamps at hourly resolution to test the functions already built\n",
    "timestamp_demo = tfrecords['train']['timestamps'][0][0]\n",
    "timestamp_demo"
   ]
  },
  {
   "cell_type": "code",
   "execution_count": 188,
   "metadata": {},
   "outputs": [],
   "source": [
    "# one-hot encode here and persist two extra features (_int or _byte?) to tfrecord files"
   ]
  },
  {
   "cell_type": "code",
   "execution_count": 189,
   "metadata": {},
   "outputs": [],
   "source": [
    "# recover the one-hot encoding process"
   ]
  },
  {
   "cell_type": "code",
   "execution_count": 190,
   "metadata": {},
   "outputs": [],
   "source": [
    "# from estimator/create_datasets_as_numpy.ipynb"
   ]
  },
  {
   "cell_type": "code",
   "execution_count": 191,
   "metadata": {},
   "outputs": [],
   "source": [
    "# build timestamp-related features vectors:\n",
    "# X_ts_weekday: one-hot encoder for weekday identification\n",
    "# X_ts_hour: one-hot encoder for hour identification\n",
    "# over train, val, and test target timestamps"
   ]
  },
  {
   "cell_type": "code",
   "execution_count": 195,
   "metadata": {},
   "outputs": [],
   "source": [
    "def one_hot_encode(timestamp):\n",
    "    fv_weekday = np.zeros(7)\n",
    "    fv_hour = np.zeros(24)\n",
    "    fv_weekday[timestamp.weekday()] = 1.\n",
    "    fv_hour[timestamp.hour] = 1.\n",
    "    return list(fv_weekday), list(fv_hour)"
   ]
  },
  {
   "cell_type": "code",
   "execution_count": 196,
   "metadata": {},
   "outputs": [
    {
     "data": {
      "text/plain": [
       "([0.0, 0.0, 0.0, 0.0, 0.0, 1.0, 0.0],\n",
       " [0.0,\n",
       "  1.0,\n",
       "  0.0,\n",
       "  0.0,\n",
       "  0.0,\n",
       "  0.0,\n",
       "  0.0,\n",
       "  0.0,\n",
       "  0.0,\n",
       "  0.0,\n",
       "  0.0,\n",
       "  0.0,\n",
       "  0.0,\n",
       "  0.0,\n",
       "  0.0,\n",
       "  0.0,\n",
       "  0.0,\n",
       "  0.0,\n",
       "  0.0,\n",
       "  0.0,\n",
       "  0.0,\n",
       "  0.0,\n",
       "  0.0,\n",
       "  0.0])"
      ]
     },
     "execution_count": 196,
     "metadata": {},
     "output_type": "execute_result"
    }
   ],
   "source": [
    "# 2017-04-29 was Saturday!\n",
    "one_hot_encode(timestamp_demo)"
   ]
  },
  {
   "cell_type": "code",
   "execution_count": null,
   "metadata": {},
   "outputs": [],
   "source": [
    "# the first timestamp row in training set as a string list\n",
    "target = _float_feature_from_list_of_values(list_of_labels)\n",
    "target"
   ]
  },
  {
   "cell_type": "code",
   "execution_count": 175,
   "metadata": {},
   "outputs": [
    {
     "name": "stdout",
     "output_type": "stream",
     "text": [
      "features {\n",
      "  feature {\n",
      "    key: \"daily\"\n",
      "    value {\n",
      "      float_list {\n",
      "        value: 0.21911409497261047\n",
      "        value: 0.20516172051429749\n",
      "        value: 0.23340561985969543\n",
      "        value: 0.28076404333114624\n",
      "        value: 0.2613321542739868\n",
      "        value: 0.2176402360200882\n",
      "        value: 0.23604218661785126\n",
      "      }\n",
      "    }\n",
      "  }\n",
      "  feature {\n",
      "    key: \"hourly\"\n",
      "    value {\n",
      "      float_list {\n",
      "        value: 0.23604218661785126\n",
      "        value: 0.2196565419435501\n",
      "        value: 0.2058441936969757\n",
      "        value: 0.20633892714977264\n",
      "        value: 0.2355484813451767\n",
      "        value: 0.30698540806770325\n",
      "        value: 0.347673624753952\n",
      "        value: 0.3996288776397705\n",
      "        value: 0.5794383883476257\n",
      "        value: 0.3218795657157898\n",
      "        value: 0.28891536593437195\n",
      "        value: 0.4059516489505768\n",
      "        value: 0.33396705985069275\n",
      "        value: 0.3624308705329895\n",
      "        value: 0.6737797856330872\n",
      "        value: 0.5972719788551331\n",
      "        value: 0.3740391731262207\n",
      "        value: 0.20049121975898743\n",
      "        value: 0.3055240213871002\n",
      "        value: 0.35227876901626587\n",
      "        value: 0.5433854460716248\n",
      "        value: 0.40607714653015137\n",
      "        value: 0.3015619218349457\n",
      "        value: 0.2465686947107315\n",
      "      }\n",
      "    }\n",
      "  }\n",
      "  feature {\n",
      "    key: \"target\"\n",
      "    value {\n",
      "      float_list {\n",
      "        value: 0.18826058506965637\n",
      "      }\n",
      "    }\n",
      "  }\n",
      "  feature {\n",
      "    key: \"weekly\"\n",
      "    value {\n",
      "      float_list {\n",
      "        value: 0.13146576285362244\n",
      "        value: 0.29571110010147095\n",
      "        value: 0.32898229360580444\n",
      "        value: 0.21911409497261047\n",
      "      }\n",
      "    }\n",
      "  }\n",
      "}\n",
      "\n"
     ]
    }
   ],
   "source": [
    "# create a TFRecord example for just the first row in the dataset\n",
    "example = tf.train.Example(\n",
    "    # features within the example\n",
    "    features=tf.train.Features(\n",
    "        # individual feature definition\n",
    "        feature={'hourly': _float_feature_from_list_of_values(tfrecords['train']['hourly'][0]),\n",
    "                 'daily': _float_feature_from_list_of_values(tfrecords['train']['daily'][0]),\n",
    "                 'weekly': _float_feature_from_list_of_values(tfrecords['train']['weekly'][0]),\n",
    "                 'target': _float_feature_from_list_of_values(tfrecords['train']['labels'][0]),\n",
    "                 # timestamps to be incorporated later as _byte_feature???\n",
    "                 # or passed as one-hot encoded vectors: hour of the day (0-23) / day of the week (0-6)\n",
    "                 # 'timestamp': _float_feature_from_list_of_values(tfrecords['train']['timestamps'][0])\n",
    "                }\n",
    "    )\n",
    ")\n",
    "\n",
    "print(example)"
   ]
  },
  {
   "cell_type": "code",
   "execution_count": 179,
   "metadata": {},
   "outputs": [
    {
     "data": {
      "text/plain": [
       "b'\\n\\xcf\\x01\\nn\\n\\x06hourly\\x12d\\x12b\\n`\\x0b\\xb5q>\\xa5\\xed`>\\xd2\\xc8R>\\x83JS>\\x9f3q>1-\\x9d>G\\x02\\xb2>(\\x9c\\xcc>\\x13V\\x14?f\\xcd\\xa4>\\xb7\\xec\\x93>\\xe5\\xd8\\xcf>\\xbb\\xfd\\xaa>\\x8a\\x90\\xb9>\\xd5|,?\\xd1\\xe6\\x18?\\x10\\x82\\xbf>\\x92MM>\\xa5m\\x9c>\\xe2]\\xb4>O\\x1b\\x0b?X\\xe9\\xcf>Sf\\x9a>\\x81||>\\n)\\n\\x05daily\\x12 \\x12\\x1e\\n\\x1cr_`>\\xea\\x15R>\\xe2\\x01o>N\\xc0\\x8f>T\\xcd\\x85>\\x15\\xdd^>\\x0b\\xb5q>\\n\\x1e\\n\\x06weekly\\x12\\x14\\x12\\x12\\n\\x10\\xf6\\x9e\\x06>rg\\x97>^p\\xa8>r_`>\\n\\x12\\n\\x06target\\x12\\x08\\x12\\x06\\n\\x04b\\xc7@>'"
      ]
     },
     "execution_count": 179,
     "metadata": {},
     "output_type": "execute_result"
    }
   ],
   "source": [
    "# serialize the single example\n",
    "example.SerializeToString()"
   ]
  },
  {
   "cell_type": "code",
   "execution_count": 180,
   "metadata": {},
   "outputs": [],
   "source": [
    "# write the basic `tf.Example` to a file\n",
    "with tf.io.TFRecordWriter('../data/tfrecord/first_row.tfrecord') as writer:\n",
    "    serialized_example = example.SerializeToString()\n",
    "    writer.write(serialized_example)"
   ]
  },
  {
   "cell_type": "code",
   "execution_count": 181,
   "metadata": {},
   "outputs": [
    {
     "data": {
      "text/plain": [
       "<TFRecordDatasetV1 shapes: (), types: tf.string>"
      ]
     },
     "execution_count": 181,
     "metadata": {},
     "output_type": "execute_result"
    }
   ],
   "source": [
    "_float_feature_from_list_of_values# now read the dataset from TFRecord file using non-deprecated methods from tf.data module\n",
    "first_row_train_raw_dataset = tf.compat.v1.data.TFRecordDataset('../data/tfrecord/first_row.tfrecord')\n",
    "first_row_train_raw_dataset"
   ]
  },
  {
   "cell_type": "code",
   "execution_count": 182,
   "metadata": {},
   "outputs": [
    {
     "data": {
      "text/plain": [
       "tf.string"
      ]
     },
     "execution_count": 182,
     "metadata": {},
     "output_type": "execute_result"
    }
   ],
   "source": [
    "# first_row_train_raw_dataset.output_types\n",
    "tf.compat.v1.data.get_output_types(first_row_train_raw_dataset)"
   ]
  },
  {
   "cell_type": "code",
   "execution_count": 183,
   "metadata": {},
   "outputs": [
    {
     "data": {
      "text/plain": [
       "TensorShape([])"
      ]
     },
     "execution_count": 183,
     "metadata": {},
     "output_type": "execute_result"
    }
   ],
   "source": [
    "# first_row_train_raw_dataset.output_shapes\n",
    "tf.compat.v1.data.get_output_shapes(first_row_train_raw_dataset)"
   ]
  },
  {
   "cell_type": "code",
   "execution_count": 184,
   "metadata": {},
   "outputs": [
    {
     "name": "stdout",
     "output_type": "stream",
     "text": [
      "WARNING:tensorflow:From <ipython-input-184-b4459af94b27>:2: DatasetV1.make_one_shot_iterator (from tensorflow.python.data.ops.dataset_ops) is deprecated and will be removed in a future version.\n",
      "Instructions for updating:\n",
      "Use `for ... in dataset:` to iterate over a dataset. If using `tf.estimator`, return the `Dataset` object directly from your input function. As a last resort, you can use `tf.compat.v1.data.make_one_shot_iterator(dataset)`.\n",
      "b'\\n\\xcf\\x01\\nn\\n\\x06hourly\\x12d\\x12b\\n`\\x0b\\xb5q>\\xa5\\xed`>\\xd2\\xc8R>\\x83JS>\\x9f3q>1-\\x9d>G\\x02\\xb2>(\\x9c\\xcc>\\x13V\\x14?f\\xcd\\xa4>\\xb7\\xec\\x93>\\xe5\\xd8\\xcf>\\xbb\\xfd\\xaa>\\x8a\\x90\\xb9>\\xd5|,?\\xd1\\xe6\\x18?\\x10\\x82\\xbf>\\x92MM>\\xa5m\\x9c>\\xe2]\\xb4>O\\x1b\\x0b?X\\xe9\\xcf>Sf\\x9a>\\x81||>\\n)\\n\\x05daily\\x12 \\x12\\x1e\\n\\x1cr_`>\\xea\\x15R>\\xe2\\x01o>N\\xc0\\x8f>T\\xcd\\x85>\\x15\\xdd^>\\x0b\\xb5q>\\n\\x1e\\n\\x06weekly\\x12\\x14\\x12\\x12\\n\\x10\\xf6\\x9e\\x06>rg\\x97>^p\\xa8>r_`>\\n\\x12\\n\\x06target\\x12\\x08\\x12\\x06\\n\\x04b\\xc7@>'\n"
     ]
    }
   ],
   "source": [
    "# can I access to the binary, string-based, raw dataset using a one-shot iterator?\n",
    "iterator = first_row_train_raw_dataset.make_one_shot_iterator()\n",
    "next_element = iterator.get_next()\n",
    "\n",
    "# there is only one row in the raw dataset\n",
    "value = sess.run(next_element)\n",
    "print(value)"
   ]
  },
  {
   "cell_type": "code",
   "execution_count": 84,
   "metadata": {},
   "outputs": [],
   "source": [
    "# persist examples as tfrecord files"
   ]
  },
  {
   "cell_type": "code",
   "execution_count": 86,
   "metadata": {},
   "outputs": [],
   "source": [
    "# based on lstm_estimator_11_build_tfrecord_files.ipynb"
   ]
  },
  {
   "cell_type": "code",
   "execution_count": null,
   "metadata": {},
   "outputs": [],
   "source": []
  },
  {
   "cell_type": "code",
   "execution_count": null,
   "metadata": {},
   "outputs": [],
   "source": []
  },
  {
   "cell_type": "code",
   "execution_count": null,
   "metadata": {},
   "outputs": [],
   "source": []
  },
  {
   "cell_type": "code",
   "execution_count": 185,
   "metadata": {},
   "outputs": [
    {
     "data": {
      "text/plain": [
       "{'components': {'daily': {'m': 7, 'no_targets': 1, 'tau': 24},\n",
       "  'hourly': {'m': 24, 'no_targets': 1, 'tau': 1},\n",
       "  'weekly': {'m': 4, 'no_targets': 1, 'tau': 168}},\n",
       " 'description': {'end': '2018-02-28 23:00:00',\n",
       "  'equipment': 'CPE04015',\n",
       "  'resolution': 'hourly',\n",
       "  'start': '2017-04-01 00:00:00',\n",
       "  'variables': ['desbI']},\n",
       " 'stats': {'eval': {'daily': {'features': 1435,\n",
       "    'from': Timestamp('2017-11-27 19:00:00'),\n",
       "    'labels': 1435,\n",
       "    'timestamps': 1435,\n",
       "    'to': Timestamp('2018-01-26 13:00:00')},\n",
       "   'hourly': {'features': 1579,\n",
       "    'from': Timestamp('2017-11-21 19:00:00'),\n",
       "    'labels': 1579,\n",
       "    'timestamps': 1579,\n",
       "    'to': Timestamp('2018-01-26 13:00:00')},\n",
       "   'to_trim': 931,\n",
       "   'trimmed_to': 931,\n",
       "   'weekly': {'features': 931,\n",
       "    'from': Timestamp('2017-12-18 19:00:00'),\n",
       "    'labels': 931,\n",
       "    'timestamps': 931,\n",
       "    'to': Timestamp('2018-01-26 13:00:00')}},\n",
       "  'test': {'daily': {'features': 634,\n",
       "    'from': Timestamp('2018-02-02 14:00:00'),\n",
       "    'labels': 634,\n",
       "    'timestamps': 634,\n",
       "    'to': Timestamp('2018-02-28 23:00:00')},\n",
       "   'hourly': {'features': 778,\n",
       "    'from': Timestamp('2018-01-27 14:00:00'),\n",
       "    'labels': 778,\n",
       "    'timestamps': 778,\n",
       "    'to': Timestamp('2018-02-28 23:00:00')},\n",
       "   'to_trim': 130,\n",
       "   'trimmed_to': 130,\n",
       "   'weekly': {'features': 130,\n",
       "    'from': Timestamp('2018-02-23 14:00:00'),\n",
       "    'labels': 130,\n",
       "    'timestamps': 130,\n",
       "    'to': Timestamp('2018-02-28 23:00:00')}},\n",
       "  'train': {'daily': {'features': 5442,\n",
       "    'from': Timestamp('2017-04-08 01:00:00'),\n",
       "    'labels': 5442,\n",
       "    'timestamps': 5442,\n",
       "    'to': Timestamp('2017-11-20 18:00:00')},\n",
       "   'hourly': {'features': 5586,\n",
       "    'from': Timestamp('2017-04-02 00:00:00'),\n",
       "    'labels': 5586,\n",
       "    'timestamps': 5586,\n",
       "    'to': Timestamp('2017-11-20 18:00:00')},\n",
       "   'to_trim': 4938,\n",
       "   'trimmed_to': 4938,\n",
       "   'weekly': {'features': 4938,\n",
       "    'from': Timestamp('2017-04-29 01:00:00'),\n",
       "    'labels': 4938,\n",
       "    'timestamps': 4938,\n",
       "    'to': Timestamp('2017-11-20 18:00:00')}}}}"
      ]
     },
     "execution_count": 185,
     "metadata": {},
     "output_type": "execute_result"
    }
   ],
   "source": [
    "experiment"
   ]
  },
  {
   "cell_type": "code",
   "execution_count": 186,
   "metadata": {},
   "outputs": [
    {
     "ename": "TypeError",
     "evalue": "Timestamp('2017-11-20 18:00:00') is not JSON serializable",
     "output_type": "error",
     "traceback": [
      "\u001b[0;31m---------------------------------------------------------------------------\u001b[0m",
      "\u001b[0;31mTypeError\u001b[0m                                 Traceback (most recent call last)",
      "\u001b[0;32m<ipython-input-186-514538ff0dff>\u001b[0m in \u001b[0;36m<module>\u001b[0;34m\u001b[0m\n\u001b[1;32m      1\u001b[0m \u001b[0;31m# persist the final, compact dictionary to JSON\u001b[0m\u001b[0;34m\u001b[0m\u001b[0;34m\u001b[0m\u001b[0m\n\u001b[1;32m      2\u001b[0m \u001b[0;32mwith\u001b[0m \u001b[0mopen\u001b[0m\u001b[0;34m(\u001b[0m\u001b[0;34m'experiment.json'\u001b[0m\u001b[0;34m,\u001b[0m \u001b[0;34m'w'\u001b[0m\u001b[0;34m)\u001b[0m \u001b[0;32mas\u001b[0m \u001b[0mfilename\u001b[0m\u001b[0;34m:\u001b[0m\u001b[0;34m\u001b[0m\u001b[0m\n\u001b[0;32m----> 3\u001b[0;31m     \u001b[0mjson\u001b[0m\u001b[0;34m.\u001b[0m\u001b[0mdump\u001b[0m\u001b[0;34m(\u001b[0m\u001b[0mexperiment\u001b[0m\u001b[0;34m,\u001b[0m \u001b[0mfilename\u001b[0m\u001b[0;34m,\u001b[0m \u001b[0mindent\u001b[0m\u001b[0;34m=\u001b[0m\u001b[0;36m4\u001b[0m\u001b[0;34m)\u001b[0m\u001b[0;34m\u001b[0m\u001b[0m\n\u001b[0m",
      "\u001b[0;32m/usr/lib/python3.5/json/__init__.py\u001b[0m in \u001b[0;36mdump\u001b[0;34m(obj, fp, skipkeys, ensure_ascii, check_circular, allow_nan, cls, indent, separators, default, sort_keys, **kw)\u001b[0m\n\u001b[1;32m    176\u001b[0m     \u001b[0;31m# could accelerate with writelines in some versions of Python, at\u001b[0m\u001b[0;34m\u001b[0m\u001b[0;34m\u001b[0m\u001b[0m\n\u001b[1;32m    177\u001b[0m     \u001b[0;31m# a debuggability cost\u001b[0m\u001b[0;34m\u001b[0m\u001b[0;34m\u001b[0m\u001b[0m\n\u001b[0;32m--> 178\u001b[0;31m     \u001b[0;32mfor\u001b[0m \u001b[0mchunk\u001b[0m \u001b[0;32min\u001b[0m \u001b[0miterable\u001b[0m\u001b[0;34m:\u001b[0m\u001b[0;34m\u001b[0m\u001b[0m\n\u001b[0m\u001b[1;32m    179\u001b[0m         \u001b[0mfp\u001b[0m\u001b[0;34m.\u001b[0m\u001b[0mwrite\u001b[0m\u001b[0;34m(\u001b[0m\u001b[0mchunk\u001b[0m\u001b[0;34m)\u001b[0m\u001b[0;34m\u001b[0m\u001b[0m\n\u001b[1;32m    180\u001b[0m \u001b[0;34m\u001b[0m\u001b[0m\n",
      "\u001b[0;32m/usr/lib/python3.5/json/encoder.py\u001b[0m in \u001b[0;36m_iterencode\u001b[0;34m(o, _current_indent_level)\u001b[0m\n\u001b[1;32m    427\u001b[0m             \u001b[0;32myield\u001b[0m \u001b[0;32mfrom\u001b[0m \u001b[0m_iterencode_list\u001b[0m\u001b[0;34m(\u001b[0m\u001b[0mo\u001b[0m\u001b[0;34m,\u001b[0m \u001b[0m_current_indent_level\u001b[0m\u001b[0;34m)\u001b[0m\u001b[0;34m\u001b[0m\u001b[0m\n\u001b[1;32m    428\u001b[0m         \u001b[0;32melif\u001b[0m \u001b[0misinstance\u001b[0m\u001b[0;34m(\u001b[0m\u001b[0mo\u001b[0m\u001b[0;34m,\u001b[0m \u001b[0mdict\u001b[0m\u001b[0;34m)\u001b[0m\u001b[0;34m:\u001b[0m\u001b[0;34m\u001b[0m\u001b[0m\n\u001b[0;32m--> 429\u001b[0;31m             \u001b[0;32myield\u001b[0m \u001b[0;32mfrom\u001b[0m \u001b[0m_iterencode_dict\u001b[0m\u001b[0;34m(\u001b[0m\u001b[0mo\u001b[0m\u001b[0;34m,\u001b[0m \u001b[0m_current_indent_level\u001b[0m\u001b[0;34m)\u001b[0m\u001b[0;34m\u001b[0m\u001b[0m\n\u001b[0m\u001b[1;32m    430\u001b[0m         \u001b[0;32melse\u001b[0m\u001b[0;34m:\u001b[0m\u001b[0;34m\u001b[0m\u001b[0m\n\u001b[1;32m    431\u001b[0m             \u001b[0;32mif\u001b[0m \u001b[0mmarkers\u001b[0m \u001b[0;32mis\u001b[0m \u001b[0;32mnot\u001b[0m \u001b[0;32mNone\u001b[0m\u001b[0;34m:\u001b[0m\u001b[0;34m\u001b[0m\u001b[0m\n",
      "\u001b[0;32m/usr/lib/python3.5/json/encoder.py\u001b[0m in \u001b[0;36m_iterencode_dict\u001b[0;34m(dct, _current_indent_level)\u001b[0m\n\u001b[1;32m    401\u001b[0m                 \u001b[0;32melse\u001b[0m\u001b[0;34m:\u001b[0m\u001b[0;34m\u001b[0m\u001b[0m\n\u001b[1;32m    402\u001b[0m                     \u001b[0mchunks\u001b[0m \u001b[0;34m=\u001b[0m \u001b[0m_iterencode\u001b[0m\u001b[0;34m(\u001b[0m\u001b[0mvalue\u001b[0m\u001b[0;34m,\u001b[0m \u001b[0m_current_indent_level\u001b[0m\u001b[0;34m)\u001b[0m\u001b[0;34m\u001b[0m\u001b[0m\n\u001b[0;32m--> 403\u001b[0;31m                 \u001b[0;32myield\u001b[0m \u001b[0;32mfrom\u001b[0m \u001b[0mchunks\u001b[0m\u001b[0;34m\u001b[0m\u001b[0m\n\u001b[0m\u001b[1;32m    404\u001b[0m         \u001b[0;32mif\u001b[0m \u001b[0mnewline_indent\u001b[0m \u001b[0;32mis\u001b[0m \u001b[0;32mnot\u001b[0m \u001b[0;32mNone\u001b[0m\u001b[0;34m:\u001b[0m\u001b[0;34m\u001b[0m\u001b[0m\n\u001b[1;32m    405\u001b[0m             \u001b[0m_current_indent_level\u001b[0m \u001b[0;34m-=\u001b[0m \u001b[0;36m1\u001b[0m\u001b[0;34m\u001b[0m\u001b[0m\n",
      "\u001b[0;32m/usr/lib/python3.5/json/encoder.py\u001b[0m in \u001b[0;36m_iterencode_dict\u001b[0;34m(dct, _current_indent_level)\u001b[0m\n\u001b[1;32m    401\u001b[0m                 \u001b[0;32melse\u001b[0m\u001b[0;34m:\u001b[0m\u001b[0;34m\u001b[0m\u001b[0m\n\u001b[1;32m    402\u001b[0m                     \u001b[0mchunks\u001b[0m \u001b[0;34m=\u001b[0m \u001b[0m_iterencode\u001b[0m\u001b[0;34m(\u001b[0m\u001b[0mvalue\u001b[0m\u001b[0;34m,\u001b[0m \u001b[0m_current_indent_level\u001b[0m\u001b[0;34m)\u001b[0m\u001b[0;34m\u001b[0m\u001b[0m\n\u001b[0;32m--> 403\u001b[0;31m                 \u001b[0;32myield\u001b[0m \u001b[0;32mfrom\u001b[0m \u001b[0mchunks\u001b[0m\u001b[0;34m\u001b[0m\u001b[0m\n\u001b[0m\u001b[1;32m    404\u001b[0m         \u001b[0;32mif\u001b[0m \u001b[0mnewline_indent\u001b[0m \u001b[0;32mis\u001b[0m \u001b[0;32mnot\u001b[0m \u001b[0;32mNone\u001b[0m\u001b[0;34m:\u001b[0m\u001b[0;34m\u001b[0m\u001b[0m\n\u001b[1;32m    405\u001b[0m             \u001b[0m_current_indent_level\u001b[0m \u001b[0;34m-=\u001b[0m \u001b[0;36m1\u001b[0m\u001b[0;34m\u001b[0m\u001b[0m\n",
      "\u001b[0;32m/usr/lib/python3.5/json/encoder.py\u001b[0m in \u001b[0;36m_iterencode_dict\u001b[0;34m(dct, _current_indent_level)\u001b[0m\n\u001b[1;32m    401\u001b[0m                 \u001b[0;32melse\u001b[0m\u001b[0;34m:\u001b[0m\u001b[0;34m\u001b[0m\u001b[0m\n\u001b[1;32m    402\u001b[0m                     \u001b[0mchunks\u001b[0m \u001b[0;34m=\u001b[0m \u001b[0m_iterencode\u001b[0m\u001b[0;34m(\u001b[0m\u001b[0mvalue\u001b[0m\u001b[0;34m,\u001b[0m \u001b[0m_current_indent_level\u001b[0m\u001b[0;34m)\u001b[0m\u001b[0;34m\u001b[0m\u001b[0m\n\u001b[0;32m--> 403\u001b[0;31m                 \u001b[0;32myield\u001b[0m \u001b[0;32mfrom\u001b[0m \u001b[0mchunks\u001b[0m\u001b[0;34m\u001b[0m\u001b[0m\n\u001b[0m\u001b[1;32m    404\u001b[0m         \u001b[0;32mif\u001b[0m \u001b[0mnewline_indent\u001b[0m \u001b[0;32mis\u001b[0m \u001b[0;32mnot\u001b[0m \u001b[0;32mNone\u001b[0m\u001b[0;34m:\u001b[0m\u001b[0;34m\u001b[0m\u001b[0m\n\u001b[1;32m    405\u001b[0m             \u001b[0m_current_indent_level\u001b[0m \u001b[0;34m-=\u001b[0m \u001b[0;36m1\u001b[0m\u001b[0;34m\u001b[0m\u001b[0m\n",
      "\u001b[0;32m/usr/lib/python3.5/json/encoder.py\u001b[0m in \u001b[0;36m_iterencode_dict\u001b[0;34m(dct, _current_indent_level)\u001b[0m\n\u001b[1;32m    401\u001b[0m                 \u001b[0;32melse\u001b[0m\u001b[0;34m:\u001b[0m\u001b[0;34m\u001b[0m\u001b[0m\n\u001b[1;32m    402\u001b[0m                     \u001b[0mchunks\u001b[0m \u001b[0;34m=\u001b[0m \u001b[0m_iterencode\u001b[0m\u001b[0;34m(\u001b[0m\u001b[0mvalue\u001b[0m\u001b[0;34m,\u001b[0m \u001b[0m_current_indent_level\u001b[0m\u001b[0;34m)\u001b[0m\u001b[0;34m\u001b[0m\u001b[0m\n\u001b[0;32m--> 403\u001b[0;31m                 \u001b[0;32myield\u001b[0m \u001b[0;32mfrom\u001b[0m \u001b[0mchunks\u001b[0m\u001b[0;34m\u001b[0m\u001b[0m\n\u001b[0m\u001b[1;32m    404\u001b[0m         \u001b[0;32mif\u001b[0m \u001b[0mnewline_indent\u001b[0m \u001b[0;32mis\u001b[0m \u001b[0;32mnot\u001b[0m \u001b[0;32mNone\u001b[0m\u001b[0;34m:\u001b[0m\u001b[0;34m\u001b[0m\u001b[0m\n\u001b[1;32m    405\u001b[0m             \u001b[0m_current_indent_level\u001b[0m \u001b[0;34m-=\u001b[0m \u001b[0;36m1\u001b[0m\u001b[0;34m\u001b[0m\u001b[0m\n",
      "\u001b[0;32m/usr/lib/python3.5/json/encoder.py\u001b[0m in \u001b[0;36m_iterencode\u001b[0;34m(o, _current_indent_level)\u001b[0m\n\u001b[1;32m    434\u001b[0m                     \u001b[0;32mraise\u001b[0m \u001b[0mValueError\u001b[0m\u001b[0;34m(\u001b[0m\u001b[0;34m\"Circular reference detected\"\u001b[0m\u001b[0;34m)\u001b[0m\u001b[0;34m\u001b[0m\u001b[0m\n\u001b[1;32m    435\u001b[0m                 \u001b[0mmarkers\u001b[0m\u001b[0;34m[\u001b[0m\u001b[0mmarkerid\u001b[0m\u001b[0;34m]\u001b[0m \u001b[0;34m=\u001b[0m \u001b[0mo\u001b[0m\u001b[0;34m\u001b[0m\u001b[0m\n\u001b[0;32m--> 436\u001b[0;31m             \u001b[0mo\u001b[0m \u001b[0;34m=\u001b[0m \u001b[0m_default\u001b[0m\u001b[0;34m(\u001b[0m\u001b[0mo\u001b[0m\u001b[0;34m)\u001b[0m\u001b[0;34m\u001b[0m\u001b[0m\n\u001b[0m\u001b[1;32m    437\u001b[0m             \u001b[0;32myield\u001b[0m \u001b[0;32mfrom\u001b[0m \u001b[0m_iterencode\u001b[0m\u001b[0;34m(\u001b[0m\u001b[0mo\u001b[0m\u001b[0;34m,\u001b[0m \u001b[0m_current_indent_level\u001b[0m\u001b[0;34m)\u001b[0m\u001b[0;34m\u001b[0m\u001b[0m\n\u001b[1;32m    438\u001b[0m             \u001b[0;32mif\u001b[0m \u001b[0mmarkers\u001b[0m \u001b[0;32mis\u001b[0m \u001b[0;32mnot\u001b[0m \u001b[0;32mNone\u001b[0m\u001b[0;34m:\u001b[0m\u001b[0;34m\u001b[0m\u001b[0m\n",
      "\u001b[0;32m/usr/lib/python3.5/json/encoder.py\u001b[0m in \u001b[0;36mdefault\u001b[0;34m(self, o)\u001b[0m\n\u001b[1;32m    177\u001b[0m \u001b[0;34m\u001b[0m\u001b[0m\n\u001b[1;32m    178\u001b[0m         \"\"\"\n\u001b[0;32m--> 179\u001b[0;31m         \u001b[0;32mraise\u001b[0m \u001b[0mTypeError\u001b[0m\u001b[0;34m(\u001b[0m\u001b[0mrepr\u001b[0m\u001b[0;34m(\u001b[0m\u001b[0mo\u001b[0m\u001b[0;34m)\u001b[0m \u001b[0;34m+\u001b[0m \u001b[0;34m\" is not JSON serializable\"\u001b[0m\u001b[0;34m)\u001b[0m\u001b[0;34m\u001b[0m\u001b[0m\n\u001b[0m\u001b[1;32m    180\u001b[0m \u001b[0;34m\u001b[0m\u001b[0m\n\u001b[1;32m    181\u001b[0m     \u001b[0;32mdef\u001b[0m \u001b[0mencode\u001b[0m\u001b[0;34m(\u001b[0m\u001b[0mself\u001b[0m\u001b[0;34m,\u001b[0m \u001b[0mo\u001b[0m\u001b[0;34m)\u001b[0m\u001b[0;34m:\u001b[0m\u001b[0;34m\u001b[0m\u001b[0m\n",
      "\u001b[0;31mTypeError\u001b[0m: Timestamp('2017-11-20 18:00:00') is not JSON serializable"
     ]
    }
   ],
   "source": [
    "# persist the final, compact dictionary to JSON\n",
    "with open('experiment.json', 'w') as filename:\n",
    "    json.dump(experiment, filename, indent=4)"
   ]
  },
  {
   "cell_type": "code",
   "execution_count": null,
   "metadata": {},
   "outputs": [],
   "source": [
    "# upload a folder with tfrecord and json files to Google Storage"
   ]
  }
 ],
 "metadata": {
  "kernelspec": {
   "display_name": "Python 3",
   "language": "python",
   "name": "python3"
  },
  "language_info": {
   "codemirror_mode": {
    "name": "ipython",
    "version": 3
   },
   "file_extension": ".py",
   "mimetype": "text/x-python",
   "name": "python",
   "nbconvert_exporter": "python",
   "pygments_lexer": "ipython3",
   "version": "3.5.3"
  }
 },
 "nbformat": 4,
 "nbformat_minor": 4
}

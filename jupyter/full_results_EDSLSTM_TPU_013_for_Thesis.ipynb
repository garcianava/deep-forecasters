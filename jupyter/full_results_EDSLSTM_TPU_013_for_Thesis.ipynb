{
 "cells": [
  {
   "cell_type": "code",
   "execution_count": 1,
   "metadata": {},
   "outputs": [],
   "source": [
    "import json\n",
    "import numpy as np\n",
    "import pandas as pd\n",
    "import os"
   ]
  },
  {
   "cell_type": "code",
   "execution_count": 2,
   "metadata": {},
   "outputs": [],
   "source": [
    "from datetime import timedelta"
   ]
  },
  {
   "cell_type": "code",
   "execution_count": 3,
   "metadata": {},
   "outputs": [],
   "source": [
    "from math import sqrt\n",
    "from sklearn.metrics import mean_squared_error, mean_absolute_error"
   ]
  },
  {
   "cell_type": "code",
   "execution_count": 4,
   "metadata": {},
   "outputs": [
    {
     "data": {
      "text/html": [
       "\n",
       "    <div class=\"bk-root\">\n",
       "        <a href=\"https://bokeh.org\" target=\"_blank\" class=\"bk-logo bk-logo-small bk-logo-notebook\"></a>\n",
       "        <span id=\"1001\">Loading BokehJS ...</span>\n",
       "    </div>"
      ]
     },
     "metadata": {},
     "output_type": "display_data"
    },
    {
     "data": {
      "application/javascript": [
       "\n",
       "(function(root) {\n",
       "  function now() {\n",
       "    return new Date();\n",
       "  }\n",
       "\n",
       "  var force = true;\n",
       "\n",
       "  if (typeof root._bokeh_onload_callbacks === \"undefined\" || force === true) {\n",
       "    root._bokeh_onload_callbacks = [];\n",
       "    root._bokeh_is_loading = undefined;\n",
       "  }\n",
       "\n",
       "  var JS_MIME_TYPE = 'application/javascript';\n",
       "  var HTML_MIME_TYPE = 'text/html';\n",
       "  var EXEC_MIME_TYPE = 'application/vnd.bokehjs_exec.v0+json';\n",
       "  var CLASS_NAME = 'output_bokeh rendered_html';\n",
       "\n",
       "  /**\n",
       "   * Render data to the DOM node\n",
       "   */\n",
       "  function render(props, node) {\n",
       "    var script = document.createElement(\"script\");\n",
       "    node.appendChild(script);\n",
       "  }\n",
       "\n",
       "  /**\n",
       "   * Handle when an output is cleared or removed\n",
       "   */\n",
       "  function handleClearOutput(event, handle) {\n",
       "    var cell = handle.cell;\n",
       "\n",
       "    var id = cell.output_area._bokeh_element_id;\n",
       "    var server_id = cell.output_area._bokeh_server_id;\n",
       "    // Clean up Bokeh references\n",
       "    if (id != null && id in Bokeh.index) {\n",
       "      Bokeh.index[id].model.document.clear();\n",
       "      delete Bokeh.index[id];\n",
       "    }\n",
       "\n",
       "    if (server_id !== undefined) {\n",
       "      // Clean up Bokeh references\n",
       "      var cmd = \"from bokeh.io.state import curstate; print(curstate().uuid_to_server['\" + server_id + \"'].get_sessions()[0].document.roots[0]._id)\";\n",
       "      cell.notebook.kernel.execute(cmd, {\n",
       "        iopub: {\n",
       "          output: function(msg) {\n",
       "            var id = msg.content.text.trim();\n",
       "            if (id in Bokeh.index) {\n",
       "              Bokeh.index[id].model.document.clear();\n",
       "              delete Bokeh.index[id];\n",
       "            }\n",
       "          }\n",
       "        }\n",
       "      });\n",
       "      // Destroy server and session\n",
       "      var cmd = \"import bokeh.io.notebook as ion; ion.destroy_server('\" + server_id + \"')\";\n",
       "      cell.notebook.kernel.execute(cmd);\n",
       "    }\n",
       "  }\n",
       "\n",
       "  /**\n",
       "   * Handle when a new output is added\n",
       "   */\n",
       "  function handleAddOutput(event, handle) {\n",
       "    var output_area = handle.output_area;\n",
       "    var output = handle.output;\n",
       "\n",
       "    // limit handleAddOutput to display_data with EXEC_MIME_TYPE content only\n",
       "    if ((output.output_type != \"display_data\") || (!output.data.hasOwnProperty(EXEC_MIME_TYPE))) {\n",
       "      return\n",
       "    }\n",
       "\n",
       "    var toinsert = output_area.element.find(\".\" + CLASS_NAME.split(' ')[0]);\n",
       "\n",
       "    if (output.metadata[EXEC_MIME_TYPE][\"id\"] !== undefined) {\n",
       "      toinsert[toinsert.length - 1].firstChild.textContent = output.data[JS_MIME_TYPE];\n",
       "      // store reference to embed id on output_area\n",
       "      output_area._bokeh_element_id = output.metadata[EXEC_MIME_TYPE][\"id\"];\n",
       "    }\n",
       "    if (output.metadata[EXEC_MIME_TYPE][\"server_id\"] !== undefined) {\n",
       "      var bk_div = document.createElement(\"div\");\n",
       "      bk_div.innerHTML = output.data[HTML_MIME_TYPE];\n",
       "      var script_attrs = bk_div.children[0].attributes;\n",
       "      for (var i = 0; i < script_attrs.length; i++) {\n",
       "        toinsert[toinsert.length - 1].firstChild.setAttribute(script_attrs[i].name, script_attrs[i].value);\n",
       "      }\n",
       "      // store reference to server id on output_area\n",
       "      output_area._bokeh_server_id = output.metadata[EXEC_MIME_TYPE][\"server_id\"];\n",
       "    }\n",
       "  }\n",
       "\n",
       "  function register_renderer(events, OutputArea) {\n",
       "\n",
       "    function append_mime(data, metadata, element) {\n",
       "      // create a DOM node to render to\n",
       "      var toinsert = this.create_output_subarea(\n",
       "        metadata,\n",
       "        CLASS_NAME,\n",
       "        EXEC_MIME_TYPE\n",
       "      );\n",
       "      this.keyboard_manager.register_events(toinsert);\n",
       "      // Render to node\n",
       "      var props = {data: data, metadata: metadata[EXEC_MIME_TYPE]};\n",
       "      render(props, toinsert[toinsert.length - 1]);\n",
       "      element.append(toinsert);\n",
       "      return toinsert\n",
       "    }\n",
       "\n",
       "    /* Handle when an output is cleared or removed */\n",
       "    events.on('clear_output.CodeCell', handleClearOutput);\n",
       "    events.on('delete.Cell', handleClearOutput);\n",
       "\n",
       "    /* Handle when a new output is added */\n",
       "    events.on('output_added.OutputArea', handleAddOutput);\n",
       "\n",
       "    /**\n",
       "     * Register the mime type and append_mime function with output_area\n",
       "     */\n",
       "    OutputArea.prototype.register_mime_type(EXEC_MIME_TYPE, append_mime, {\n",
       "      /* Is output safe? */\n",
       "      safe: true,\n",
       "      /* Index of renderer in `output_area.display_order` */\n",
       "      index: 0\n",
       "    });\n",
       "  }\n",
       "\n",
       "  // register the mime type if in Jupyter Notebook environment and previously unregistered\n",
       "  if (root.Jupyter !== undefined) {\n",
       "    var events = require('base/js/events');\n",
       "    var OutputArea = require('notebook/js/outputarea').OutputArea;\n",
       "\n",
       "    if (OutputArea.prototype.mime_types().indexOf(EXEC_MIME_TYPE) == -1) {\n",
       "      register_renderer(events, OutputArea);\n",
       "    }\n",
       "  }\n",
       "\n",
       "  \n",
       "  if (typeof (root._bokeh_timeout) === \"undefined\" || force === true) {\n",
       "    root._bokeh_timeout = Date.now() + 5000;\n",
       "    root._bokeh_failed_load = false;\n",
       "  }\n",
       "\n",
       "  var NB_LOAD_WARNING = {'data': {'text/html':\n",
       "     \"<div style='background-color: #fdd'>\\n\"+\n",
       "     \"<p>\\n\"+\n",
       "     \"BokehJS does not appear to have successfully loaded. If loading BokehJS from CDN, this \\n\"+\n",
       "     \"may be due to a slow or bad network connection. Possible fixes:\\n\"+\n",
       "     \"</p>\\n\"+\n",
       "     \"<ul>\\n\"+\n",
       "     \"<li>re-rerun `output_notebook()` to attempt to load from CDN again, or</li>\\n\"+\n",
       "     \"<li>use INLINE resources instead, as so:</li>\\n\"+\n",
       "     \"</ul>\\n\"+\n",
       "     \"<code>\\n\"+\n",
       "     \"from bokeh.resources import INLINE\\n\"+\n",
       "     \"output_notebook(resources=INLINE)\\n\"+\n",
       "     \"</code>\\n\"+\n",
       "     \"</div>\"}};\n",
       "\n",
       "  function display_loaded() {\n",
       "    var el = document.getElementById(\"1001\");\n",
       "    if (el != null) {\n",
       "      el.textContent = \"BokehJS is loading...\";\n",
       "    }\n",
       "    if (root.Bokeh !== undefined) {\n",
       "      if (el != null) {\n",
       "        el.textContent = \"BokehJS \" + root.Bokeh.version + \" successfully loaded.\";\n",
       "      }\n",
       "    } else if (Date.now() < root._bokeh_timeout) {\n",
       "      setTimeout(display_loaded, 100)\n",
       "    }\n",
       "  }\n",
       "\n",
       "\n",
       "  function run_callbacks() {\n",
       "    try {\n",
       "      root._bokeh_onload_callbacks.forEach(function(callback) {\n",
       "        if (callback != null)\n",
       "          callback();\n",
       "      });\n",
       "    } finally {\n",
       "      delete root._bokeh_onload_callbacks\n",
       "    }\n",
       "    console.debug(\"Bokeh: all callbacks have finished\");\n",
       "  }\n",
       "\n",
       "  function load_libs(css_urls, js_urls, callback) {\n",
       "    if (css_urls == null) css_urls = [];\n",
       "    if (js_urls == null) js_urls = [];\n",
       "\n",
       "    root._bokeh_onload_callbacks.push(callback);\n",
       "    if (root._bokeh_is_loading > 0) {\n",
       "      console.debug(\"Bokeh: BokehJS is being loaded, scheduling callback at\", now());\n",
       "      return null;\n",
       "    }\n",
       "    if (js_urls == null || js_urls.length === 0) {\n",
       "      run_callbacks();\n",
       "      return null;\n",
       "    }\n",
       "    console.debug(\"Bokeh: BokehJS not loaded, scheduling load and callback at\", now());\n",
       "    root._bokeh_is_loading = css_urls.length + js_urls.length;\n",
       "\n",
       "    function on_load() {\n",
       "      root._bokeh_is_loading--;\n",
       "      if (root._bokeh_is_loading === 0) {\n",
       "        console.debug(\"Bokeh: all BokehJS libraries/stylesheets loaded\");\n",
       "        run_callbacks()\n",
       "      }\n",
       "    }\n",
       "\n",
       "    function on_error() {\n",
       "      console.error(\"failed to load \" + url);\n",
       "    }\n",
       "\n",
       "    for (var i = 0; i < css_urls.length; i++) {\n",
       "      var url = css_urls[i];\n",
       "      const element = document.createElement(\"link\");\n",
       "      element.onload = on_load;\n",
       "      element.onerror = on_error;\n",
       "      element.rel = \"stylesheet\";\n",
       "      element.type = \"text/css\";\n",
       "      element.href = url;\n",
       "      console.debug(\"Bokeh: injecting link tag for BokehJS stylesheet: \", url);\n",
       "      document.body.appendChild(element);\n",
       "    }\n",
       "\n",
       "    for (var i = 0; i < js_urls.length; i++) {\n",
       "      var url = js_urls[i];\n",
       "      var element = document.createElement('script');\n",
       "      element.onload = on_load;\n",
       "      element.onerror = on_error;\n",
       "      element.async = false;\n",
       "      element.src = url;\n",
       "      console.debug(\"Bokeh: injecting script tag for BokehJS library: \", url);\n",
       "      document.head.appendChild(element);\n",
       "    }\n",
       "  };var element = document.getElementById(\"1001\");\n",
       "  if (element == null) {\n",
       "    console.error(\"Bokeh: ERROR: autoload.js configured with elementid '1001' but no matching script tag was found. \")\n",
       "    return false;\n",
       "  }\n",
       "\n",
       "  function inject_raw_css(css) {\n",
       "    const element = document.createElement(\"style\");\n",
       "    element.appendChild(document.createTextNode(css));\n",
       "    document.body.appendChild(element);\n",
       "  }\n",
       "\n",
       "  \n",
       "  var js_urls = [\"https://cdn.pydata.org/bokeh/release/bokeh-1.4.0.min.js\", \"https://cdn.pydata.org/bokeh/release/bokeh-widgets-1.4.0.min.js\", \"https://cdn.pydata.org/bokeh/release/bokeh-tables-1.4.0.min.js\", \"https://cdn.pydata.org/bokeh/release/bokeh-gl-1.4.0.min.js\"];\n",
       "  var css_urls = [];\n",
       "  \n",
       "\n",
       "  var inline_js = [\n",
       "    function(Bokeh) {\n",
       "      Bokeh.set_log_level(\"info\");\n",
       "    },\n",
       "    function(Bokeh) {\n",
       "    \n",
       "    \n",
       "    }\n",
       "  ];\n",
       "\n",
       "  function run_inline_js() {\n",
       "    \n",
       "    if (root.Bokeh !== undefined || force === true) {\n",
       "      \n",
       "    for (var i = 0; i < inline_js.length; i++) {\n",
       "      inline_js[i].call(root, root.Bokeh);\n",
       "    }\n",
       "    if (force === true) {\n",
       "        display_loaded();\n",
       "      }} else if (Date.now() < root._bokeh_timeout) {\n",
       "      setTimeout(run_inline_js, 100);\n",
       "    } else if (!root._bokeh_failed_load) {\n",
       "      console.log(\"Bokeh: BokehJS failed to load within specified timeout.\");\n",
       "      root._bokeh_failed_load = true;\n",
       "    } else if (force !== true) {\n",
       "      var cell = $(document.getElementById(\"1001\")).parents('.cell').data().cell;\n",
       "      cell.output_area.append_execute_result(NB_LOAD_WARNING)\n",
       "    }\n",
       "\n",
       "  }\n",
       "\n",
       "  if (root._bokeh_is_loading === 0) {\n",
       "    console.debug(\"Bokeh: BokehJS loaded, going straight to plotting\");\n",
       "    run_inline_js();\n",
       "  } else {\n",
       "    load_libs(css_urls, js_urls, function() {\n",
       "      console.debug(\"Bokeh: BokehJS plotting callback run at\", now());\n",
       "      run_inline_js();\n",
       "    });\n",
       "  }\n",
       "}(window));"
      ],
      "application/vnd.bokehjs_load.v0+json": "\n(function(root) {\n  function now() {\n    return new Date();\n  }\n\n  var force = true;\n\n  if (typeof root._bokeh_onload_callbacks === \"undefined\" || force === true) {\n    root._bokeh_onload_callbacks = [];\n    root._bokeh_is_loading = undefined;\n  }\n\n  \n\n  \n  if (typeof (root._bokeh_timeout) === \"undefined\" || force === true) {\n    root._bokeh_timeout = Date.now() + 5000;\n    root._bokeh_failed_load = false;\n  }\n\n  var NB_LOAD_WARNING = {'data': {'text/html':\n     \"<div style='background-color: #fdd'>\\n\"+\n     \"<p>\\n\"+\n     \"BokehJS does not appear to have successfully loaded. If loading BokehJS from CDN, this \\n\"+\n     \"may be due to a slow or bad network connection. Possible fixes:\\n\"+\n     \"</p>\\n\"+\n     \"<ul>\\n\"+\n     \"<li>re-rerun `output_notebook()` to attempt to load from CDN again, or</li>\\n\"+\n     \"<li>use INLINE resources instead, as so:</li>\\n\"+\n     \"</ul>\\n\"+\n     \"<code>\\n\"+\n     \"from bokeh.resources import INLINE\\n\"+\n     \"output_notebook(resources=INLINE)\\n\"+\n     \"</code>\\n\"+\n     \"</div>\"}};\n\n  function display_loaded() {\n    var el = document.getElementById(\"1001\");\n    if (el != null) {\n      el.textContent = \"BokehJS is loading...\";\n    }\n    if (root.Bokeh !== undefined) {\n      if (el != null) {\n        el.textContent = \"BokehJS \" + root.Bokeh.version + \" successfully loaded.\";\n      }\n    } else if (Date.now() < root._bokeh_timeout) {\n      setTimeout(display_loaded, 100)\n    }\n  }\n\n\n  function run_callbacks() {\n    try {\n      root._bokeh_onload_callbacks.forEach(function(callback) {\n        if (callback != null)\n          callback();\n      });\n    } finally {\n      delete root._bokeh_onload_callbacks\n    }\n    console.debug(\"Bokeh: all callbacks have finished\");\n  }\n\n  function load_libs(css_urls, js_urls, callback) {\n    if (css_urls == null) css_urls = [];\n    if (js_urls == null) js_urls = [];\n\n    root._bokeh_onload_callbacks.push(callback);\n    if (root._bokeh_is_loading > 0) {\n      console.debug(\"Bokeh: BokehJS is being loaded, scheduling callback at\", now());\n      return null;\n    }\n    if (js_urls == null || js_urls.length === 0) {\n      run_callbacks();\n      return null;\n    }\n    console.debug(\"Bokeh: BokehJS not loaded, scheduling load and callback at\", now());\n    root._bokeh_is_loading = css_urls.length + js_urls.length;\n\n    function on_load() {\n      root._bokeh_is_loading--;\n      if (root._bokeh_is_loading === 0) {\n        console.debug(\"Bokeh: all BokehJS libraries/stylesheets loaded\");\n        run_callbacks()\n      }\n    }\n\n    function on_error() {\n      console.error(\"failed to load \" + url);\n    }\n\n    for (var i = 0; i < css_urls.length; i++) {\n      var url = css_urls[i];\n      const element = document.createElement(\"link\");\n      element.onload = on_load;\n      element.onerror = on_error;\n      element.rel = \"stylesheet\";\n      element.type = \"text/css\";\n      element.href = url;\n      console.debug(\"Bokeh: injecting link tag for BokehJS stylesheet: \", url);\n      document.body.appendChild(element);\n    }\n\n    for (var i = 0; i < js_urls.length; i++) {\n      var url = js_urls[i];\n      var element = document.createElement('script');\n      element.onload = on_load;\n      element.onerror = on_error;\n      element.async = false;\n      element.src = url;\n      console.debug(\"Bokeh: injecting script tag for BokehJS library: \", url);\n      document.head.appendChild(element);\n    }\n  };var element = document.getElementById(\"1001\");\n  if (element == null) {\n    console.error(\"Bokeh: ERROR: autoload.js configured with elementid '1001' but no matching script tag was found. \")\n    return false;\n  }\n\n  function inject_raw_css(css) {\n    const element = document.createElement(\"style\");\n    element.appendChild(document.createTextNode(css));\n    document.body.appendChild(element);\n  }\n\n  \n  var js_urls = [\"https://cdn.pydata.org/bokeh/release/bokeh-1.4.0.min.js\", \"https://cdn.pydata.org/bokeh/release/bokeh-widgets-1.4.0.min.js\", \"https://cdn.pydata.org/bokeh/release/bokeh-tables-1.4.0.min.js\", \"https://cdn.pydata.org/bokeh/release/bokeh-gl-1.4.0.min.js\"];\n  var css_urls = [];\n  \n\n  var inline_js = [\n    function(Bokeh) {\n      Bokeh.set_log_level(\"info\");\n    },\n    function(Bokeh) {\n    \n    \n    }\n  ];\n\n  function run_inline_js() {\n    \n    if (root.Bokeh !== undefined || force === true) {\n      \n    for (var i = 0; i < inline_js.length; i++) {\n      inline_js[i].call(root, root.Bokeh);\n    }\n    if (force === true) {\n        display_loaded();\n      }} else if (Date.now() < root._bokeh_timeout) {\n      setTimeout(run_inline_js, 100);\n    } else if (!root._bokeh_failed_load) {\n      console.log(\"Bokeh: BokehJS failed to load within specified timeout.\");\n      root._bokeh_failed_load = true;\n    } else if (force !== true) {\n      var cell = $(document.getElementById(\"1001\")).parents('.cell').data().cell;\n      cell.output_area.append_execute_result(NB_LOAD_WARNING)\n    }\n\n  }\n\n  if (root._bokeh_is_loading === 0) {\n    console.debug(\"Bokeh: BokehJS loaded, going straight to plotting\");\n    run_inline_js();\n  } else {\n    load_libs(css_urls, js_urls, function() {\n      console.debug(\"Bokeh: BokehJS plotting callback run at\", now());\n      run_inline_js();\n    });\n  }\n}(window));"
     },
     "metadata": {},
     "output_type": "display_data"
    }
   ],
   "source": [
    "from bokeh.plotting import figure, show, output_file, save\n",
    "\n",
    "from bokeh.io import output_notebook\n",
    "\n",
    "from bokeh.models import Span, Range1d\n",
    "\n",
    "from bokeh.palettes import d3\n",
    "\n",
    "output_notebook()"
   ]
  },
  {
   "cell_type": "code",
   "execution_count": 5,
   "metadata": {},
   "outputs": [],
   "source": [
    "pd.set_option('display.max_rows', 20)"
   ]
  },
  {
   "cell_type": "code",
   "execution_count": 6,
   "metadata": {},
   "outputs": [],
   "source": [
    "def symmetric_mean_absolute_percentage_error(targets, predictions):\n",
    "    '''\n",
    "    predictions: a list with the predicted values\n",
    "    targets: a list with the actual values\n",
    "    '''\n",
    "    import numpy as np\n",
    "    # lists to NumPy arrays\n",
    "    targets, predictions = np.array(targets), np.array(predictions)\n",
    "    # verify predictions and targets have the same shape\n",
    "    if predictions.shape == targets.shape:\n",
    "            return(np.sum(2*np.abs(predictions - targets) /\n",
    "                          (np.abs(targets) + np.abs(predictions)))/predictions.shape[0])"
   ]
  },
  {
   "cell_type": "code",
   "execution_count": 7,
   "metadata": {},
   "outputs": [],
   "source": [
    "# build a list to select specific pickle files per model architecture\n",
    "selected_pkl_list = [\n",
    "    # 'DMSLSTM_TPU_006_00_test_024.pkl',\n",
    "    # 'DMSLSTM_TPU_006_01_test_024.pkl',\n",
    "    # 'DMSLSTM_TPU_006_02_test_024.pkl',\n",
    "    # 'DMSLSTM_TPU_006_03_test_024.pkl',\n",
    "    # 'DMSLSTM_TPU_006_04_test_024.pkl',\n",
    "    # 'DMSLSTM_TPU_006_05_test_024.pkl',\n",
    "    # 'DMSLSTM_TPU_006_06_test_024.pkl',\n",
    "    # 'DMSLSTM_TPU_006_07_test_024.pkl',\n",
    "    # 'DMSLSTM_TPU_006_08_test_024.pkl',\n",
    "    # 'DMSLSTM_TPU_006_09_test_024.pkl',\n",
    "    'EDSLSTM_TPU_013_00_test_024.pkl',\n",
    "    'EDSLSTM_TPU_013_01_test_024.pkl',\n",
    "    'EDSLSTM_TPU_013_02_test_024.pkl',\n",
    "    'EDSLSTM_TPU_013_03_test_024.pkl',\n",
    "    'EDSLSTM_TPU_013_04_test_024.pkl',\n",
    "    'EDSLSTM_TPU_013_05_test_024.pkl',\n",
    "    'EDSLSTM_TPU_013_06_test_024.pkl',\n",
    "    'EDSLSTM_TPU_013_07_test_024.pkl',\n",
    "    'EDSLSTM_TPU_013_08_test_024.pkl',\n",
    "    'EDSLSTM_TPU_013_09_test_024.pkl',\n",
    "    # 'BSCTRFM_TPU_010_00_test_024.pkl',\n",
    "    # 'BSCTRFM_TPU_010_01_test_024.pkl',\n",
    "    # 'BSCTRFM_TPU_010_02_test_024.pkl',\n",
    "    # 'BSCTRFM_TPU_010_03_test_024.pkl',\n",
    "    # 'BSCTRFM_TPU_010_04_test_024.pkl',\n",
    "    # 'BSCTRFM_TPU_010_05_test_024.pkl',\n",
    "    # 'BSCTRFM_TPU_010_06_test_024.pkl',\n",
    "    # 'BSCTRFM_TPU_010_07_test_024.pkl',\n",
    "    # 'BSCTRFM_TPU_010_08_test_024.pkl',\n",
    "    # 'BSCTRFM_TPU_010_09_test_024.pkl',\n",
    "]"
   ]
  },
  {
   "cell_type": "code",
   "execution_count": 8,
   "metadata": {},
   "outputs": [],
   "source": [
    "# a Pandas dataframe to store all predictions detail items\n",
    "global_df_columns = [\n",
    "    'model_id', 'execution', 'dataset',\n",
    "    'string_timestamps', 'predictions', 'targets',\n",
    "    'mae', 'rmse', 'smape'\n",
    "]\n",
    "\n",
    "global_df = pd.DataFrame(columns=global_df_columns)"
   ]
  },
  {
   "cell_type": "code",
   "execution_count": 9,
   "metadata": {},
   "outputs": [
    {
     "data": {
      "text/html": [
       "<div>\n",
       "<style scoped>\n",
       "    .dataframe tbody tr th:only-of-type {\n",
       "        vertical-align: middle;\n",
       "    }\n",
       "\n",
       "    .dataframe tbody tr th {\n",
       "        vertical-align: top;\n",
       "    }\n",
       "\n",
       "    .dataframe thead th {\n",
       "        text-align: right;\n",
       "    }\n",
       "</style>\n",
       "<table border=\"1\" class=\"dataframe\">\n",
       "  <thead>\n",
       "    <tr style=\"text-align: right;\">\n",
       "      <th></th>\n",
       "      <th>model_id</th>\n",
       "      <th>execution</th>\n",
       "      <th>dataset</th>\n",
       "      <th>string_timestamps</th>\n",
       "      <th>predictions</th>\n",
       "      <th>targets</th>\n",
       "      <th>mae</th>\n",
       "      <th>rmse</th>\n",
       "      <th>smape</th>\n",
       "    </tr>\n",
       "  </thead>\n",
       "  <tbody>\n",
       "  </tbody>\n",
       "</table>\n",
       "</div>"
      ],
      "text/plain": [
       "Empty DataFrame\n",
       "Columns: [model_id, execution, dataset, string_timestamps, predictions, targets, mae, rmse, smape]\n",
       "Index: []"
      ]
     },
     "execution_count": 9,
     "metadata": {},
     "output_type": "execute_result"
    }
   ],
   "source": [
    "global_df"
   ]
  },
  {
   "cell_type": "code",
   "execution_count": 10,
   "metadata": {},
   "outputs": [],
   "source": [
    "# collect prediction items from all available pickle files into a single dataframe\n",
    "# for available_pickle in avail_pkl_list:\n",
    "#     buffer_df = pd.read_pickle('../database/predictions_detail/{}'.format(available_pickle))\n",
    "#     # append buffer to final dataframe\n",
    "#     df = df.append(buffer_df, ignore_index=True)  "
   ]
  },
  {
   "cell_type": "code",
   "execution_count": 11,
   "metadata": {},
   "outputs": [],
   "source": [
    "# collect prediction items from all available pickle files into a single dataframe\n",
    "for selected_pickle in selected_pkl_list:\n",
    "    buffer_df = pd.read_pickle('../database/predictions_detail/{}'.format(selected_pickle))\n",
    "    # append buffer to final dataframe\n",
    "    global_df = global_df.append(buffer_df, ignore_index=True)  "
   ]
  },
  {
   "cell_type": "code",
   "execution_count": 12,
   "metadata": {},
   "outputs": [
    {
     "data": {
      "text/html": [
       "<div>\n",
       "<style scoped>\n",
       "    .dataframe tbody tr th:only-of-type {\n",
       "        vertical-align: middle;\n",
       "    }\n",
       "\n",
       "    .dataframe tbody tr th {\n",
       "        vertical-align: top;\n",
       "    }\n",
       "\n",
       "    .dataframe thead th {\n",
       "        text-align: right;\n",
       "    }\n",
       "</style>\n",
       "<table border=\"1\" class=\"dataframe\">\n",
       "  <thead>\n",
       "    <tr style=\"text-align: right;\">\n",
       "      <th></th>\n",
       "      <th>model_id</th>\n",
       "      <th>execution</th>\n",
       "      <th>dataset</th>\n",
       "      <th>string_timestamps</th>\n",
       "      <th>predictions</th>\n",
       "      <th>targets</th>\n",
       "      <th>mae</th>\n",
       "      <th>rmse</th>\n",
       "      <th>smape</th>\n",
       "      <th>inference</th>\n",
       "    </tr>\n",
       "  </thead>\n",
       "  <tbody>\n",
       "    <tr>\n",
       "      <th>0</th>\n",
       "      <td>EDSLSTM_TPU_013</td>\n",
       "      <td>0</td>\n",
       "      <td>test</td>\n",
       "      <td>[2018-05-03 16:00:00, 2018-05-03 17:00:00, 201...</td>\n",
       "      <td>[2994.7255859375, 2945.77197265625, 2856.72216...</td>\n",
       "      <td>[2935.38671875, 2798.293212890625, 2750.489990...</td>\n",
       "      <td>54.286067</td>\n",
       "      <td>70.648563</td>\n",
       "      <td>0.020626</td>\n",
       "      <td>024</td>\n",
       "    </tr>\n",
       "    <tr>\n",
       "      <th>1</th>\n",
       "      <td>EDSLSTM_TPU_013</td>\n",
       "      <td>0</td>\n",
       "      <td>test</td>\n",
       "      <td>[2018-05-03 17:00:00, 2018-05-03 18:00:00, 201...</td>\n",
       "      <td>[2919.458984375, 2855.485107421875, 2812.19750...</td>\n",
       "      <td>[2798.293212890625, 2750.489990234375, 2751.09...</td>\n",
       "      <td>57.175028</td>\n",
       "      <td>79.449794</td>\n",
       "      <td>0.021461</td>\n",
       "      <td>024</td>\n",
       "    </tr>\n",
       "    <tr>\n",
       "      <th>2</th>\n",
       "      <td>EDSLSTM_TPU_013</td>\n",
       "      <td>0</td>\n",
       "      <td>test</td>\n",
       "      <td>[2018-05-03 18:00:00, 2018-05-03 19:00:00, 201...</td>\n",
       "      <td>[2825.159912109375, 2809.958251953125, 2908.29...</td>\n",
       "      <td>[2750.489990234375, 2751.091552734375, 2919.40...</td>\n",
       "      <td>61.477341</td>\n",
       "      <td>90.464846</td>\n",
       "      <td>0.022772</td>\n",
       "      <td>024</td>\n",
       "    </tr>\n",
       "    <tr>\n",
       "      <th>3</th>\n",
       "      <td>EDSLSTM_TPU_013</td>\n",
       "      <td>0</td>\n",
       "      <td>test</td>\n",
       "      <td>[2018-05-03 19:00:00, 2018-05-03 20:00:00, 201...</td>\n",
       "      <td>[2808.2451171875, 2912.028564453125, 2964.9411...</td>\n",
       "      <td>[2751.091552734375, 2919.401611328125, 2951.41...</td>\n",
       "      <td>66.452530</td>\n",
       "      <td>99.042837</td>\n",
       "      <td>0.024317</td>\n",
       "      <td>024</td>\n",
       "    </tr>\n",
       "    <tr>\n",
       "      <th>4</th>\n",
       "      <td>EDSLSTM_TPU_013</td>\n",
       "      <td>0</td>\n",
       "      <td>test</td>\n",
       "      <td>[2018-05-03 20:00:00, 2018-05-03 21:00:00, 201...</td>\n",
       "      <td>[2862.04541015625, 2951.86279296875, 2746.2924...</td>\n",
       "      <td>[2919.401611328125, 2951.41650390625, 2723.131...</td>\n",
       "      <td>71.849614</td>\n",
       "      <td>104.112965</td>\n",
       "      <td>0.026099</td>\n",
       "      <td>024</td>\n",
       "    </tr>\n",
       "    <tr>\n",
       "      <th>...</th>\n",
       "      <td>...</td>\n",
       "      <td>...</td>\n",
       "      <td>...</td>\n",
       "      <td>...</td>\n",
       "      <td>...</td>\n",
       "      <td>...</td>\n",
       "      <td>...</td>\n",
       "      <td>...</td>\n",
       "      <td>...</td>\n",
       "      <td>...</td>\n",
       "    </tr>\n",
       "    <tr>\n",
       "      <th>21205</th>\n",
       "      <td>EDSLSTM_TPU_013</td>\n",
       "      <td>9</td>\n",
       "      <td>test</td>\n",
       "      <td>[2018-07-30 20:00:00, 2018-07-30 21:00:00, 201...</td>\n",
       "      <td>[3057.451171875, 2844.880859375, 2518.390625, ...</td>\n",
       "      <td>[2799.75, 2921.840087890625, 2782.763427734375...</td>\n",
       "      <td>92.538940</td>\n",
       "      <td>126.555024</td>\n",
       "      <td>0.038371</td>\n",
       "      <td>024</td>\n",
       "    </tr>\n",
       "    <tr>\n",
       "      <th>21206</th>\n",
       "      <td>EDSLSTM_TPU_013</td>\n",
       "      <td>9</td>\n",
       "      <td>test</td>\n",
       "      <td>[2018-07-30 21:00:00, 2018-07-30 22:00:00, 201...</td>\n",
       "      <td>[2891.31884765625, 2521.29443359375, 2162.1452...</td>\n",
       "      <td>[2921.840087890625, 2782.763427734375, 2480.18...</td>\n",
       "      <td>80.237335</td>\n",
       "      <td>112.259492</td>\n",
       "      <td>0.034319</td>\n",
       "      <td>024</td>\n",
       "    </tr>\n",
       "    <tr>\n",
       "      <th>21207</th>\n",
       "      <td>EDSLSTM_TPU_013</td>\n",
       "      <td>9</td>\n",
       "      <td>test</td>\n",
       "      <td>[2018-07-30 22:00:00, 2018-07-30 23:00:00, 201...</td>\n",
       "      <td>[2589.351318359375, 2176.74658203125, 1943.031...</td>\n",
       "      <td>[2782.763427734375, 2480.181640625, 2127.68823...</td>\n",
       "      <td>79.562047</td>\n",
       "      <td>107.152354</td>\n",
       "      <td>0.033709</td>\n",
       "      <td>024</td>\n",
       "    </tr>\n",
       "    <tr>\n",
       "      <th>21208</th>\n",
       "      <td>EDSLSTM_TPU_013</td>\n",
       "      <td>9</td>\n",
       "      <td>test</td>\n",
       "      <td>[2018-07-30 23:00:00, 2018-07-31 00:00:00, 201...</td>\n",
       "      <td>[2267.000732421875, 1967.896484375, 1818.34655...</td>\n",
       "      <td>[2480.181640625, 2127.688232421875, 1933.56994...</td>\n",
       "      <td>67.925257</td>\n",
       "      <td>91.302114</td>\n",
       "      <td>0.028471</td>\n",
       "      <td>024</td>\n",
       "    </tr>\n",
       "    <tr>\n",
       "      <th>21209</th>\n",
       "      <td>EDSLSTM_TPU_013</td>\n",
       "      <td>9</td>\n",
       "      <td>test</td>\n",
       "      <td>[2018-07-31 00:00:00, 2018-07-31 01:00:00, 201...</td>\n",
       "      <td>[2039.9705810546875, 1852.930419921875, 1757.6...</td>\n",
       "      <td>[2127.688232421875, 1933.5699462890625, 1841.4...</td>\n",
       "      <td>56.538839</td>\n",
       "      <td>74.304370</td>\n",
       "      <td>0.023009</td>\n",
       "      <td>024</td>\n",
       "    </tr>\n",
       "  </tbody>\n",
       "</table>\n",
       "<p>21210 rows × 10 columns</p>\n",
       "</div>"
      ],
      "text/plain": [
       "              model_id execution dataset  \\\n",
       "0      EDSLSTM_TPU_013         0    test   \n",
       "1      EDSLSTM_TPU_013         0    test   \n",
       "2      EDSLSTM_TPU_013         0    test   \n",
       "3      EDSLSTM_TPU_013         0    test   \n",
       "4      EDSLSTM_TPU_013         0    test   \n",
       "...                ...       ...     ...   \n",
       "21205  EDSLSTM_TPU_013         9    test   \n",
       "21206  EDSLSTM_TPU_013         9    test   \n",
       "21207  EDSLSTM_TPU_013         9    test   \n",
       "21208  EDSLSTM_TPU_013         9    test   \n",
       "21209  EDSLSTM_TPU_013         9    test   \n",
       "\n",
       "                                       string_timestamps  \\\n",
       "0      [2018-05-03 16:00:00, 2018-05-03 17:00:00, 201...   \n",
       "1      [2018-05-03 17:00:00, 2018-05-03 18:00:00, 201...   \n",
       "2      [2018-05-03 18:00:00, 2018-05-03 19:00:00, 201...   \n",
       "3      [2018-05-03 19:00:00, 2018-05-03 20:00:00, 201...   \n",
       "4      [2018-05-03 20:00:00, 2018-05-03 21:00:00, 201...   \n",
       "...                                                  ...   \n",
       "21205  [2018-07-30 20:00:00, 2018-07-30 21:00:00, 201...   \n",
       "21206  [2018-07-30 21:00:00, 2018-07-30 22:00:00, 201...   \n",
       "21207  [2018-07-30 22:00:00, 2018-07-30 23:00:00, 201...   \n",
       "21208  [2018-07-30 23:00:00, 2018-07-31 00:00:00, 201...   \n",
       "21209  [2018-07-31 00:00:00, 2018-07-31 01:00:00, 201...   \n",
       "\n",
       "                                             predictions  \\\n",
       "0      [2994.7255859375, 2945.77197265625, 2856.72216...   \n",
       "1      [2919.458984375, 2855.485107421875, 2812.19750...   \n",
       "2      [2825.159912109375, 2809.958251953125, 2908.29...   \n",
       "3      [2808.2451171875, 2912.028564453125, 2964.9411...   \n",
       "4      [2862.04541015625, 2951.86279296875, 2746.2924...   \n",
       "...                                                  ...   \n",
       "21205  [3057.451171875, 2844.880859375, 2518.390625, ...   \n",
       "21206  [2891.31884765625, 2521.29443359375, 2162.1452...   \n",
       "21207  [2589.351318359375, 2176.74658203125, 1943.031...   \n",
       "21208  [2267.000732421875, 1967.896484375, 1818.34655...   \n",
       "21209  [2039.9705810546875, 1852.930419921875, 1757.6...   \n",
       "\n",
       "                                                 targets        mae  \\\n",
       "0      [2935.38671875, 2798.293212890625, 2750.489990...  54.286067   \n",
       "1      [2798.293212890625, 2750.489990234375, 2751.09...  57.175028   \n",
       "2      [2750.489990234375, 2751.091552734375, 2919.40...  61.477341   \n",
       "3      [2751.091552734375, 2919.401611328125, 2951.41...  66.452530   \n",
       "4      [2919.401611328125, 2951.41650390625, 2723.131...  71.849614   \n",
       "...                                                  ...        ...   \n",
       "21205  [2799.75, 2921.840087890625, 2782.763427734375...  92.538940   \n",
       "21206  [2921.840087890625, 2782.763427734375, 2480.18...  80.237335   \n",
       "21207  [2782.763427734375, 2480.181640625, 2127.68823...  79.562047   \n",
       "21208  [2480.181640625, 2127.688232421875, 1933.56994...  67.925257   \n",
       "21209  [2127.688232421875, 1933.5699462890625, 1841.4...  56.538839   \n",
       "\n",
       "             rmse     smape inference  \n",
       "0       70.648563  0.020626       024  \n",
       "1       79.449794  0.021461       024  \n",
       "2       90.464846  0.022772       024  \n",
       "3       99.042837  0.024317       024  \n",
       "4      104.112965  0.026099       024  \n",
       "...           ...       ...       ...  \n",
       "21205  126.555024  0.038371       024  \n",
       "21206  112.259492  0.034319       024  \n",
       "21207  107.152354  0.033709       024  \n",
       "21208   91.302114  0.028471       024  \n",
       "21209   74.304370  0.023009       024  \n",
       "\n",
       "[21210 rows x 10 columns]"
      ]
     },
     "execution_count": 12,
     "metadata": {},
     "output_type": "execute_result"
    }
   ],
   "source": [
    "global_df"
   ]
  },
  {
   "cell_type": "code",
   "execution_count": 13,
   "metadata": {},
   "outputs": [
    {
     "data": {
      "text/plain": [
       "array(['2018-05-03 16:00:00', '2018-05-03 17:00:00',\n",
       "       '2018-05-03 18:00:00', '2018-05-03 19:00:00',\n",
       "       '2018-05-03 20:00:00', '2018-05-03 21:00:00',\n",
       "       '2018-05-03 22:00:00', '2018-05-03 23:00:00',\n",
       "       '2018-05-04 00:00:00', '2018-05-04 01:00:00',\n",
       "       '2018-05-04 02:00:00', '2018-05-04 03:00:00',\n",
       "       '2018-05-04 04:00:00', '2018-05-04 05:00:00',\n",
       "       '2018-05-04 06:00:00', '2018-05-04 07:00:00',\n",
       "       '2018-05-04 08:00:00', '2018-05-04 09:00:00',\n",
       "       '2018-05-04 10:00:00', '2018-05-04 11:00:00',\n",
       "       '2018-05-04 12:00:00', '2018-05-04 13:00:00',\n",
       "       '2018-05-04 14:00:00', '2018-05-04 15:00:00'], dtype='<U19')"
      ]
     },
     "execution_count": 13,
     "metadata": {},
     "output_type": "execute_result"
    }
   ],
   "source": [
    "# day-1 predictions for this model\n",
    "global_df['string_timestamps'][0]"
   ]
  },
  {
   "cell_type": "code",
   "execution_count": 14,
   "metadata": {},
   "outputs": [
    {
     "data": {
      "text/plain": [
       "array(['2018-05-09 16:00:00', '2018-05-09 17:00:00',\n",
       "       '2018-05-09 18:00:00', '2018-05-09 19:00:00',\n",
       "       '2018-05-09 20:00:00', '2018-05-09 21:00:00',\n",
       "       '2018-05-09 22:00:00', '2018-05-09 23:00:00',\n",
       "       '2018-05-10 00:00:00', '2018-05-10 01:00:00',\n",
       "       '2018-05-10 02:00:00', '2018-05-10 03:00:00',\n",
       "       '2018-05-10 04:00:00', '2018-05-10 05:00:00',\n",
       "       '2018-05-10 06:00:00', '2018-05-10 07:00:00',\n",
       "       '2018-05-10 08:00:00', '2018-05-10 09:00:00',\n",
       "       '2018-05-10 10:00:00', '2018-05-10 11:00:00',\n",
       "       '2018-05-10 12:00:00', '2018-05-10 13:00:00',\n",
       "       '2018-05-10 14:00:00', '2018-05-10 15:00:00'], dtype='<U19')"
      ]
     },
     "execution_count": 14,
     "metadata": {},
     "output_type": "execute_result"
    }
   ],
   "source": [
    "# day-7 predictions for this model\n",
    "global_df['string_timestamps'][144]"
   ]
  },
  {
   "cell_type": "code",
   "execution_count": 15,
   "metadata": {},
   "outputs": [],
   "source": [
    "# a Pandas dataframe to store all predictions detail items\n",
    "buffer_df_columns = [\n",
    "    'timestamp',\n",
    "    'model_id', 'execution',\n",
    "    'prediction', 'target']\n",
    "\n",
    "predictions_df = pd.DataFrame(columns=buffer_df_columns)"
   ]
  },
  {
   "cell_type": "code",
   "execution_count": 16,
   "metadata": {},
   "outputs": [
    {
     "data": {
      "text/html": [
       "<div>\n",
       "<style scoped>\n",
       "    .dataframe tbody tr th:only-of-type {\n",
       "        vertical-align: middle;\n",
       "    }\n",
       "\n",
       "    .dataframe tbody tr th {\n",
       "        vertical-align: top;\n",
       "    }\n",
       "\n",
       "    .dataframe thead th {\n",
       "        text-align: right;\n",
       "    }\n",
       "</style>\n",
       "<table border=\"1\" class=\"dataframe\">\n",
       "  <thead>\n",
       "    <tr style=\"text-align: right;\">\n",
       "      <th></th>\n",
       "      <th>timestamp</th>\n",
       "      <th>model_id</th>\n",
       "      <th>execution</th>\n",
       "      <th>prediction</th>\n",
       "      <th>target</th>\n",
       "    </tr>\n",
       "  </thead>\n",
       "  <tbody>\n",
       "  </tbody>\n",
       "</table>\n",
       "</div>"
      ],
      "text/plain": [
       "Empty DataFrame\n",
       "Columns: [timestamp, model_id, execution, prediction, target]\n",
       "Index: []"
      ]
     },
     "execution_count": 16,
     "metadata": {},
     "output_type": "execute_result"
    }
   ],
   "source": [
    "predictions_df"
   ]
  },
  {
   "cell_type": "code",
   "execution_count": 17,
   "metadata": {},
   "outputs": [],
   "source": [
    "# use the prediction values for the three architectures for local forecasting comparison\n",
    "# plot a number of 24-hour ahead predictions, starting the first prediction available,\n",
    "# against ground thruth"
   ]
  },
  {
   "cell_type": "code",
   "execution_count": 18,
   "metadata": {},
   "outputs": [],
   "source": [
    "# get a filtered dataframe from a given model-execution-dataset-inference combination\n",
    "dataset, inference = 'test', '024'\n",
    "\n",
    "for model_id in ['EDSLSTM_TPU_013']:\n",
    "    for execution in [0, 1, 2, 3, 4, 5, 6, 7, 8, 9]:\n",
    "        flag = \\\n",
    "        global_df.model_id.eq(model_id) & \\\n",
    "        global_df.execution.eq(execution) & \\\n",
    "        global_df.dataset.eq(dataset) & \\\n",
    "        global_df.inference.eq(inference)\n",
    "        # reset index to use the same row, drop the index column\n",
    "        filtered_df = global_df[flag].reset_index(drop=True)\n",
    "\n",
    "        # pass the array predictions and array targets for selected intervals to dataframe columns\n",
    "        start_indexes = [0, 24, 48, 72, 96, 120, 144]\n",
    "        for start_index in start_indexes: \n",
    "\n",
    "            buffer_df = pd.DataFrame(columns=buffer_df_columns)\n",
    "\n",
    "            buffer_df['timestamp'] = pd.to_datetime(filtered_df.iloc[start_index]['string_timestamps'])\n",
    "            buffer_df['model_id'] = filtered_df.iloc[start_index]['model_id']\n",
    "            buffer_df['execution'] = filtered_df.iloc[start_index]['execution']\n",
    "            buffer_df['prediction'] = filtered_df.iloc[start_index]['predictions']\n",
    "            buffer_df['target'] = filtered_df.iloc[start_index]['targets']\n",
    "\n",
    "            predictions_df = pd.concat([predictions_df, buffer_df])\n",
    "\n",
    "# reset index to use the same row, drop the index column\n",
    "predictions_df = predictions_df.reset_index(drop=True)"
   ]
  },
  {
   "cell_type": "code",
   "execution_count": 19,
   "metadata": {},
   "outputs": [
    {
     "data": {
      "text/html": [
       "<div>\n",
       "<style scoped>\n",
       "    .dataframe tbody tr th:only-of-type {\n",
       "        vertical-align: middle;\n",
       "    }\n",
       "\n",
       "    .dataframe tbody tr th {\n",
       "        vertical-align: top;\n",
       "    }\n",
       "\n",
       "    .dataframe thead th {\n",
       "        text-align: right;\n",
       "    }\n",
       "</style>\n",
       "<table border=\"1\" class=\"dataframe\">\n",
       "  <thead>\n",
       "    <tr style=\"text-align: right;\">\n",
       "      <th></th>\n",
       "      <th>timestamp</th>\n",
       "      <th>model_id</th>\n",
       "      <th>execution</th>\n",
       "      <th>prediction</th>\n",
       "      <th>target</th>\n",
       "    </tr>\n",
       "  </thead>\n",
       "  <tbody>\n",
       "    <tr>\n",
       "      <th>0</th>\n",
       "      <td>2018-05-03 16:00:00</td>\n",
       "      <td>EDSLSTM_TPU_013</td>\n",
       "      <td>0</td>\n",
       "      <td>2994.725586</td>\n",
       "      <td>2935.386719</td>\n",
       "    </tr>\n",
       "    <tr>\n",
       "      <th>1</th>\n",
       "      <td>2018-05-03 17:00:00</td>\n",
       "      <td>EDSLSTM_TPU_013</td>\n",
       "      <td>0</td>\n",
       "      <td>2945.771973</td>\n",
       "      <td>2798.293213</td>\n",
       "    </tr>\n",
       "    <tr>\n",
       "      <th>2</th>\n",
       "      <td>2018-05-03 18:00:00</td>\n",
       "      <td>EDSLSTM_TPU_013</td>\n",
       "      <td>0</td>\n",
       "      <td>2856.722168</td>\n",
       "      <td>2750.489990</td>\n",
       "    </tr>\n",
       "    <tr>\n",
       "      <th>3</th>\n",
       "      <td>2018-05-03 19:00:00</td>\n",
       "      <td>EDSLSTM_TPU_013</td>\n",
       "      <td>0</td>\n",
       "      <td>2810.001953</td>\n",
       "      <td>2751.091553</td>\n",
       "    </tr>\n",
       "    <tr>\n",
       "      <th>4</th>\n",
       "      <td>2018-05-03 20:00:00</td>\n",
       "      <td>EDSLSTM_TPU_013</td>\n",
       "      <td>0</td>\n",
       "      <td>2944.323242</td>\n",
       "      <td>2919.401611</td>\n",
       "    </tr>\n",
       "    <tr>\n",
       "      <th>...</th>\n",
       "      <td>...</td>\n",
       "      <td>...</td>\n",
       "      <td>...</td>\n",
       "      <td>...</td>\n",
       "      <td>...</td>\n",
       "    </tr>\n",
       "    <tr>\n",
       "      <th>1675</th>\n",
       "      <td>2018-05-10 11:00:00</td>\n",
       "      <td>EDSLSTM_TPU_013</td>\n",
       "      <td>9</td>\n",
       "      <td>2617.711670</td>\n",
       "      <td>2599.053223</td>\n",
       "    </tr>\n",
       "    <tr>\n",
       "      <th>1676</th>\n",
       "      <td>2018-05-10 12:00:00</td>\n",
       "      <td>EDSLSTM_TPU_013</td>\n",
       "      <td>9</td>\n",
       "      <td>2698.030029</td>\n",
       "      <td>2709.363281</td>\n",
       "    </tr>\n",
       "    <tr>\n",
       "      <th>1677</th>\n",
       "      <td>2018-05-10 13:00:00</td>\n",
       "      <td>EDSLSTM_TPU_013</td>\n",
       "      <td>9</td>\n",
       "      <td>2742.030762</td>\n",
       "      <td>2810.871582</td>\n",
       "    </tr>\n",
       "    <tr>\n",
       "      <th>1678</th>\n",
       "      <td>2018-05-10 14:00:00</td>\n",
       "      <td>EDSLSTM_TPU_013</td>\n",
       "      <td>9</td>\n",
       "      <td>2760.031006</td>\n",
       "      <td>2839.586426</td>\n",
       "    </tr>\n",
       "    <tr>\n",
       "      <th>1679</th>\n",
       "      <td>2018-05-10 15:00:00</td>\n",
       "      <td>EDSLSTM_TPU_013</td>\n",
       "      <td>9</td>\n",
       "      <td>2757.304199</td>\n",
       "      <td>2773.398193</td>\n",
       "    </tr>\n",
       "  </tbody>\n",
       "</table>\n",
       "<p>1680 rows × 5 columns</p>\n",
       "</div>"
      ],
      "text/plain": [
       "               timestamp         model_id execution   prediction       target\n",
       "0    2018-05-03 16:00:00  EDSLSTM_TPU_013         0  2994.725586  2935.386719\n",
       "1    2018-05-03 17:00:00  EDSLSTM_TPU_013         0  2945.771973  2798.293213\n",
       "2    2018-05-03 18:00:00  EDSLSTM_TPU_013         0  2856.722168  2750.489990\n",
       "3    2018-05-03 19:00:00  EDSLSTM_TPU_013         0  2810.001953  2751.091553\n",
       "4    2018-05-03 20:00:00  EDSLSTM_TPU_013         0  2944.323242  2919.401611\n",
       "...                  ...              ...       ...          ...          ...\n",
       "1675 2018-05-10 11:00:00  EDSLSTM_TPU_013         9  2617.711670  2599.053223\n",
       "1676 2018-05-10 12:00:00  EDSLSTM_TPU_013         9  2698.030029  2709.363281\n",
       "1677 2018-05-10 13:00:00  EDSLSTM_TPU_013         9  2742.030762  2810.871582\n",
       "1678 2018-05-10 14:00:00  EDSLSTM_TPU_013         9  2760.031006  2839.586426\n",
       "1679 2018-05-10 15:00:00  EDSLSTM_TPU_013         9  2757.304199  2773.398193\n",
       "\n",
       "[1680 rows x 5 columns]"
      ]
     },
     "execution_count": 19,
     "metadata": {},
     "output_type": "execute_result"
    }
   ],
   "source": [
    "predictions_df"
   ]
  },
  {
   "cell_type": "code",
   "execution_count": null,
   "metadata": {},
   "outputs": [],
   "source": []
  },
  {
   "cell_type": "code",
   "execution_count": 20,
   "metadata": {},
   "outputs": [],
   "source": [
    "bigquery_arima_columns = [\n",
    "    'forecast_timestamp',\n",
    "    'forecast_value',\n",
    "    'standard_error',\n",
    "    'confidence_level',\n",
    "    'prediction_interval_lower_bound',\n",
    "    'prediction_interval_upper_bound',\n",
    "    'confidence_interval_lower_bound',\n",
    "    'confidence_interval_upper_bound'\n",
    "]"
   ]
  },
  {
   "cell_type": "code",
   "execution_count": 21,
   "metadata": {},
   "outputs": [],
   "source": [
    "bigquery_edslstm_df = pd.DataFrame(columns=bigquery_arima_columns)"
   ]
  },
  {
   "cell_type": "code",
   "execution_count": 22,
   "metadata": {},
   "outputs": [
    {
     "data": {
      "text/html": [
       "<div>\n",
       "<style scoped>\n",
       "    .dataframe tbody tr th:only-of-type {\n",
       "        vertical-align: middle;\n",
       "    }\n",
       "\n",
       "    .dataframe tbody tr th {\n",
       "        vertical-align: top;\n",
       "    }\n",
       "\n",
       "    .dataframe thead th {\n",
       "        text-align: right;\n",
       "    }\n",
       "</style>\n",
       "<table border=\"1\" class=\"dataframe\">\n",
       "  <thead>\n",
       "    <tr style=\"text-align: right;\">\n",
       "      <th></th>\n",
       "      <th>forecast_timestamp</th>\n",
       "      <th>forecast_value</th>\n",
       "      <th>standard_error</th>\n",
       "      <th>confidence_level</th>\n",
       "      <th>prediction_interval_lower_bound</th>\n",
       "      <th>prediction_interval_upper_bound</th>\n",
       "      <th>confidence_interval_lower_bound</th>\n",
       "      <th>confidence_interval_upper_bound</th>\n",
       "    </tr>\n",
       "  </thead>\n",
       "  <tbody>\n",
       "  </tbody>\n",
       "</table>\n",
       "</div>"
      ],
      "text/plain": [
       "Empty DataFrame\n",
       "Columns: [forecast_timestamp, forecast_value, standard_error, confidence_level, prediction_interval_lower_bound, prediction_interval_upper_bound, confidence_interval_lower_bound, confidence_interval_upper_bound]\n",
       "Index: []"
      ]
     },
     "execution_count": 22,
     "metadata": {},
     "output_type": "execute_result"
    }
   ],
   "source": [
    "bigquery_edslstm_df"
   ]
  },
  {
   "cell_type": "code",
   "execution_count": 23,
   "metadata": {},
   "outputs": [],
   "source": [
    "csv_files = [\n",
    "    'arima_edslstm_forecast_01.csv',\n",
    "    'arima_edslstm_forecast_02.csv',\n",
    "    'arima_edslstm_forecast_03.csv',\n",
    "    'arima_edslstm_forecast_04.csv',\n",
    "    'arima_edslstm_forecast_05.csv',\n",
    "    'arima_edslstm_forecast_06.csv',\n",
    "    'arima_edslstm_forecast_07.csv',\n",
    "]"
   ]
  },
  {
   "cell_type": "code",
   "execution_count": 24,
   "metadata": {},
   "outputs": [],
   "source": [
    "for csv_file in csv_files:\n",
    "    buffer_bigquery_edslstm_df = pd.read_csv(\n",
    "        '/home/developer/gcp/cbidmltsf/database/bigquery/{}'.format(csv_file)\n",
    "    )\n",
    "    bigquery_edslstm_df = pd.concat([bigquery_edslstm_df, buffer_bigquery_edslstm_df])\n",
    "\n",
    "\n",
    "bigquery_edslstm_df = bigquery_edslstm_df.reset_index(drop=True)"
   ]
  },
  {
   "cell_type": "code",
   "execution_count": 25,
   "metadata": {},
   "outputs": [
    {
     "data": {
      "text/html": [
       "<div>\n",
       "<style scoped>\n",
       "    .dataframe tbody tr th:only-of-type {\n",
       "        vertical-align: middle;\n",
       "    }\n",
       "\n",
       "    .dataframe tbody tr th {\n",
       "        vertical-align: top;\n",
       "    }\n",
       "\n",
       "    .dataframe thead th {\n",
       "        text-align: right;\n",
       "    }\n",
       "</style>\n",
       "<table border=\"1\" class=\"dataframe\">\n",
       "  <thead>\n",
       "    <tr style=\"text-align: right;\">\n",
       "      <th></th>\n",
       "      <th>forecast_timestamp</th>\n",
       "      <th>forecast_value</th>\n",
       "      <th>standard_error</th>\n",
       "      <th>confidence_level</th>\n",
       "      <th>prediction_interval_lower_bound</th>\n",
       "      <th>prediction_interval_upper_bound</th>\n",
       "      <th>confidence_interval_lower_bound</th>\n",
       "      <th>confidence_interval_upper_bound</th>\n",
       "    </tr>\n",
       "  </thead>\n",
       "  <tbody>\n",
       "    <tr>\n",
       "      <th>0</th>\n",
       "      <td>2018-05-03T16:00:00Z</td>\n",
       "      <td>2954.026482</td>\n",
       "      <td>60.669203</td>\n",
       "      <td>0.9</td>\n",
       "      <td>2854.342663</td>\n",
       "      <td>3053.710301</td>\n",
       "      <td>2854.342663</td>\n",
       "      <td>3053.710301</td>\n",
       "    </tr>\n",
       "    <tr>\n",
       "      <th>1</th>\n",
       "      <td>2018-05-03T17:00:00Z</td>\n",
       "      <td>2866.280454</td>\n",
       "      <td>70.187800</td>\n",
       "      <td>0.9</td>\n",
       "      <td>2750.956902</td>\n",
       "      <td>2981.604005</td>\n",
       "      <td>2750.956902</td>\n",
       "      <td>2981.604005</td>\n",
       "    </tr>\n",
       "    <tr>\n",
       "      <th>2</th>\n",
       "      <td>2018-05-03T18:00:00Z</td>\n",
       "      <td>2813.009191</td>\n",
       "      <td>74.943120</td>\n",
       "      <td>0.9</td>\n",
       "      <td>2689.872311</td>\n",
       "      <td>2936.146071</td>\n",
       "      <td>2689.872311</td>\n",
       "      <td>2936.146071</td>\n",
       "    </tr>\n",
       "    <tr>\n",
       "      <th>3</th>\n",
       "      <td>2018-05-03T19:00:00Z</td>\n",
       "      <td>2814.260236</td>\n",
       "      <td>84.105707</td>\n",
       "      <td>0.9</td>\n",
       "      <td>2676.068573</td>\n",
       "      <td>2952.451899</td>\n",
       "      <td>2676.068573</td>\n",
       "      <td>2952.451899</td>\n",
       "    </tr>\n",
       "    <tr>\n",
       "      <th>4</th>\n",
       "      <td>2018-05-03T20:00:00Z</td>\n",
       "      <td>2920.222781</td>\n",
       "      <td>88.824318</td>\n",
       "      <td>0.9</td>\n",
       "      <td>2774.278104</td>\n",
       "      <td>3066.167458</td>\n",
       "      <td>2774.278104</td>\n",
       "      <td>3066.167458</td>\n",
       "    </tr>\n",
       "    <tr>\n",
       "      <th>...</th>\n",
       "      <td>...</td>\n",
       "      <td>...</td>\n",
       "      <td>...</td>\n",
       "      <td>...</td>\n",
       "      <td>...</td>\n",
       "      <td>...</td>\n",
       "      <td>...</td>\n",
       "      <td>...</td>\n",
       "    </tr>\n",
       "    <tr>\n",
       "      <th>163</th>\n",
       "      <td>2018-05-10T11:00:00Z</td>\n",
       "      <td>2612.015469</td>\n",
       "      <td>118.201405</td>\n",
       "      <td>0.9</td>\n",
       "      <td>2417.802148</td>\n",
       "      <td>2806.228790</td>\n",
       "      <td>2417.802148</td>\n",
       "      <td>2806.228790</td>\n",
       "    </tr>\n",
       "    <tr>\n",
       "      <th>164</th>\n",
       "      <td>2018-05-10T12:00:00Z</td>\n",
       "      <td>2719.695063</td>\n",
       "      <td>119.546664</td>\n",
       "      <td>0.9</td>\n",
       "      <td>2523.271385</td>\n",
       "      <td>2916.118741</td>\n",
       "      <td>2523.271385</td>\n",
       "      <td>2916.118741</td>\n",
       "    </tr>\n",
       "    <tr>\n",
       "      <th>165</th>\n",
       "      <td>2018-05-10T13:00:00Z</td>\n",
       "      <td>2798.355831</td>\n",
       "      <td>120.876834</td>\n",
       "      <td>0.9</td>\n",
       "      <td>2599.746588</td>\n",
       "      <td>2996.965073</td>\n",
       "      <td>2599.746588</td>\n",
       "      <td>2996.965073</td>\n",
       "    </tr>\n",
       "    <tr>\n",
       "      <th>166</th>\n",
       "      <td>2018-05-10T14:00:00Z</td>\n",
       "      <td>2821.522553</td>\n",
       "      <td>122.192457</td>\n",
       "      <td>0.9</td>\n",
       "      <td>2620.751648</td>\n",
       "      <td>3022.293457</td>\n",
       "      <td>2620.751648</td>\n",
       "      <td>3022.293457</td>\n",
       "    </tr>\n",
       "    <tr>\n",
       "      <th>167</th>\n",
       "      <td>2018-05-10T15:00:00Z</td>\n",
       "      <td>2828.089483</td>\n",
       "      <td>123.494026</td>\n",
       "      <td>0.9</td>\n",
       "      <td>2625.180007</td>\n",
       "      <td>3030.998958</td>\n",
       "      <td>2625.180007</td>\n",
       "      <td>3030.998958</td>\n",
       "    </tr>\n",
       "  </tbody>\n",
       "</table>\n",
       "<p>168 rows × 8 columns</p>\n",
       "</div>"
      ],
      "text/plain": [
       "       forecast_timestamp  forecast_value  standard_error  confidence_level  \\\n",
       "0    2018-05-03T16:00:00Z     2954.026482       60.669203               0.9   \n",
       "1    2018-05-03T17:00:00Z     2866.280454       70.187800               0.9   \n",
       "2    2018-05-03T18:00:00Z     2813.009191       74.943120               0.9   \n",
       "3    2018-05-03T19:00:00Z     2814.260236       84.105707               0.9   \n",
       "4    2018-05-03T20:00:00Z     2920.222781       88.824318               0.9   \n",
       "..                    ...             ...             ...               ...   \n",
       "163  2018-05-10T11:00:00Z     2612.015469      118.201405               0.9   \n",
       "164  2018-05-10T12:00:00Z     2719.695063      119.546664               0.9   \n",
       "165  2018-05-10T13:00:00Z     2798.355831      120.876834               0.9   \n",
       "166  2018-05-10T14:00:00Z     2821.522553      122.192457               0.9   \n",
       "167  2018-05-10T15:00:00Z     2828.089483      123.494026               0.9   \n",
       "\n",
       "     prediction_interval_lower_bound  prediction_interval_upper_bound  \\\n",
       "0                        2854.342663                      3053.710301   \n",
       "1                        2750.956902                      2981.604005   \n",
       "2                        2689.872311                      2936.146071   \n",
       "3                        2676.068573                      2952.451899   \n",
       "4                        2774.278104                      3066.167458   \n",
       "..                               ...                              ...   \n",
       "163                      2417.802148                      2806.228790   \n",
       "164                      2523.271385                      2916.118741   \n",
       "165                      2599.746588                      2996.965073   \n",
       "166                      2620.751648                      3022.293457   \n",
       "167                      2625.180007                      3030.998958   \n",
       "\n",
       "     confidence_interval_lower_bound  confidence_interval_upper_bound  \n",
       "0                        2854.342663                      3053.710301  \n",
       "1                        2750.956902                      2981.604005  \n",
       "2                        2689.872311                      2936.146071  \n",
       "3                        2676.068573                      2952.451899  \n",
       "4                        2774.278104                      3066.167458  \n",
       "..                               ...                              ...  \n",
       "163                      2417.802148                      2806.228790  \n",
       "164                      2523.271385                      2916.118741  \n",
       "165                      2599.746588                      2996.965073  \n",
       "166                      2620.751648                      3022.293457  \n",
       "167                      2625.180007                      3030.998958  \n",
       "\n",
       "[168 rows x 8 columns]"
      ]
     },
     "execution_count": 25,
     "metadata": {},
     "output_type": "execute_result"
    }
   ],
   "source": [
    "bigquery_edslstm_df"
   ]
  },
  {
   "cell_type": "code",
   "execution_count": null,
   "metadata": {},
   "outputs": [],
   "source": []
  },
  {
   "cell_type": "code",
   "execution_count": 26,
   "metadata": {},
   "outputs": [],
   "source": [
    "# timestamp for EDSLSTM_TPU_006 first prediction is '2018-06-26 00:00:00'\n",
    "# daily interval endings are '2018-06-26 23:00:00', '2018-06-27 23:00:00', ..., '2018-07-02 23:00:00'\n",
    "# BigQuery ARIMA is fed with the 8 previous weeks,\n",
    "# starting on '2018-05-01 00:00:00' - '2018-06-25 23:00:00' (for the first 24-hour ahead prediction)\n",
    "\n",
    "\n",
    "# timestamp for EDSLSTM_TPU_013 first prediction is '2018-05-03 16:00:00'\n",
    "# daily interval endings are '2018-05-04 15:00:00', '2018-05-05 15:00:00', ..., '2018-05-10 15:00:00'\n",
    "# BigQuery ARIMA is fed with the 8 previous weeks,\n",
    "# prediction for day 1 is based on a model trained from '2018-03-08 16:00:00' to '2018-05-03 15:00:00'\n",
    "# prediction for day 2 is based on a model trained from '2018-03-09 16:00:00' to '2018-05-04 15:00:00'\n",
    "# prediction for day 3 is based on a model trained from '2018-03-10 16:00:00' to '2018-05-05 15:00:00'\n",
    "# prediction for day 4 is based on a model trained from '2018-03-11 16:00:00' to '2018-05-06 15:00:00'\n",
    "# prediction for day 5 is based on a model trained from '2018-03-12 16:00:00' to '2018-05-07 15:00:00'\n",
    "# prediction for day 6 is based on a model trained from '2018-03-13 16:00:00' to '2018-05-08 15:00:00'\n",
    "# prediction for day 7 is based on a model trained from '2018-03-14 16:00:00' to '2018-05-09 15:00:00'\n",
    "\n",
    "\n",
    "# timestamp for BSCTRFM_TPU_010 first prediction is '2018-05-14 23:00:00'\n",
    "# daily interval endings are '2018-05-15 22:00:00', '2018-05-16 22:00:00', ..., '2018-05-21 22:00:00'"
   ]
  },
  {
   "cell_type": "code",
   "execution_count": 27,
   "metadata": {},
   "outputs": [],
   "source": [
    "# build separated dataframes with metrics per model and date interval"
   ]
  },
  {
   "cell_type": "code",
   "execution_count": 28,
   "metadata": {},
   "outputs": [],
   "source": [
    "metrics_columns = [\n",
    "    'model_id', 'execution', 'start_timestamp', 'end_timestamp', 'mae', 'rmse', 'smape'\n",
    "]"
   ]
  },
  {
   "cell_type": "code",
   "execution_count": 29,
   "metadata": {},
   "outputs": [
    {
     "data": {
      "text/html": [
       "<div>\n",
       "<style scoped>\n",
       "    .dataframe tbody tr th:only-of-type {\n",
       "        vertical-align: middle;\n",
       "    }\n",
       "\n",
       "    .dataframe tbody tr th {\n",
       "        vertical-align: top;\n",
       "    }\n",
       "\n",
       "    .dataframe thead th {\n",
       "        text-align: right;\n",
       "    }\n",
       "</style>\n",
       "<table border=\"1\" class=\"dataframe\">\n",
       "  <thead>\n",
       "    <tr style=\"text-align: right;\">\n",
       "      <th></th>\n",
       "      <th>model_id</th>\n",
       "      <th>execution</th>\n",
       "      <th>start_timestamp</th>\n",
       "      <th>end_timestamp</th>\n",
       "      <th>mae</th>\n",
       "      <th>rmse</th>\n",
       "      <th>smape</th>\n",
       "    </tr>\n",
       "  </thead>\n",
       "  <tbody>\n",
       "  </tbody>\n",
       "</table>\n",
       "</div>"
      ],
      "text/plain": [
       "Empty DataFrame\n",
       "Columns: [model_id, execution, start_timestamp, end_timestamp, mae, rmse, smape]\n",
       "Index: []"
      ]
     },
     "execution_count": 29,
     "metadata": {},
     "output_type": "execute_result"
    }
   ],
   "source": [
    "edslstm_metrics_df = pd.DataFrame(columns=metrics_columns)\n",
    "edslstm_metrics_df"
   ]
  },
  {
   "cell_type": "code",
   "execution_count": 30,
   "metadata": {},
   "outputs": [],
   "source": [
    "# The next cell calculates performace metrics for 1-day, 2-day, ..., up to 7-day periods\n",
    "# which is not really useful as all predictions are produced on a 24-hour basis,\n",
    "# then markdown the cell and change metrics calculation to a day 1, day 2, ... up to day 7 scheme"
   ]
  },
  {
   "cell_type": "markdown",
   "metadata": {},
   "source": [
    "model_id = 'DMSLSTM_TPU_006'\n",
    "\n",
    "executions = [0, 1, 2, 3, 4, 5, 6, 7, 8, 9]\n",
    "\n",
    "start_timestamp = '2018-06-26 00:00:00'\n",
    "\n",
    "end_timestamps = [\n",
    "    '2018-06-26 23:00:00',\n",
    "    '2018-06-27 23:00:00',\n",
    "    '2018-06-28 23:00:00',\n",
    "    '2018-06-29 23:00:00',\n",
    "    '2018-06-30 23:00:00',\n",
    "    '2018-07-01 23:00:00',\n",
    "    '2018-07-02 23:00:00',\n",
    "]\n",
    "\n",
    "for execution in executions:\n",
    "    \n",
    "    for end_timestamp in end_timestamps:\n",
    "\n",
    "        flag = \\\n",
    "        predictions_df.model_id.eq(model_id) & \\\n",
    "        predictions_df.execution.eq(execution) & \\\n",
    "        predictions_df.timestamp.ge(start_timestamp) & \\\n",
    "        predictions_df.timestamp.le(end_timestamp)\n",
    "        \n",
    "        results_df = predictions_df[flag].reset_index(drop=True)\n",
    "        \n",
    "        mae = mean_absolute_error(results_df.target, results_df.prediction)\n",
    "        rmse = sqrt(mean_squared_error(results_df.target, results_df.prediction))\n",
    "        smape =  symmetric_mean_absolute_percentage_error(results_df.target, results_df.prediction)\n",
    "\n",
    "        row_list = [\n",
    "            model_id, execution,\n",
    "            start_timestamp, end_timestamp,\n",
    "            mae, rmse, smape\n",
    "        ]\n",
    "        row_metrics_df = pd.DataFrame([row_list], columns=metrics_columns)\n",
    "        \n",
    "        dmslstm_metrics_df = pd.concat([dmslstm_metrics_df, row_metrics_df])"
   ]
  },
  {
   "cell_type": "code",
   "execution_count": 31,
   "metadata": {},
   "outputs": [],
   "source": [
    "# execution with best metrics over all intervals\n",
    "# dmslstm_metrics_df.groupby(['execution']).mean().style.highlight_min(color = 'lightgreen', axis = 0)"
   ]
  },
  {
   "cell_type": "code",
   "execution_count": 32,
   "metadata": {},
   "outputs": [],
   "source": [
    "# execution with worst metrics over all intervals\n",
    "# dmslstm_metrics_df.groupby(['execution']).mean().style.highlight_max(color = 'yellow', axis = 0)"
   ]
  },
  {
   "cell_type": "code",
   "execution_count": 33,
   "metadata": {},
   "outputs": [],
   "source": [
    "# metrics average for 10 executions on different intervals\n",
    "# dmslstm_metrics_df.groupby(['end_timestamp']).mean()"
   ]
  },
  {
   "cell_type": "code",
   "execution_count": 34,
   "metadata": {},
   "outputs": [],
   "source": [
    "# metrics standard deviation for 10 executions on different intervals\n",
    "# dmslstm_metrics_df.groupby(['end_timestamp']).std()"
   ]
  },
  {
   "cell_type": "code",
   "execution_count": 35,
   "metadata": {},
   "outputs": [],
   "source": [
    "# now get metrics from BigQuery ARIMA\n",
    "# use target values from results_df with execution = 0 (they are the same across executions)"
   ]
  },
  {
   "cell_type": "code",
   "execution_count": 36,
   "metadata": {},
   "outputs": [
    {
     "name": "stdout",
     "output_type": "stream",
     "text": [
      "ARIMA MAE for 0 to 24 interval is: 42.7504\n",
      "ARIMA MAE for 24 to 48 interval is: 94.4938\n",
      "ARIMA MAE for 48 to 72 interval is: 146.2935\n",
      "ARIMA MAE for 72 to 96 interval is: 160.2514\n",
      "ARIMA MAE for 96 to 120 interval is: 104.5032\n",
      "ARIMA MAE for 120 to 144 interval is: 71.7451\n",
      "ARIMA MAE for 144 to 168 interval is: 81.3132\n"
     ]
    }
   ],
   "source": [
    "arima_one_week_mae = list()\n",
    "\n",
    "for start_index in [0, 24, 48, 72, 96, 120, 144]:\n",
    "    end_index = start_index + 24\n",
    "    mae = mean_absolute_error(\n",
    "        predictions_df.target[start_index:end_index],\n",
    "        bigquery_edslstm_df.forecast_value[start_index:end_index]\n",
    "    )\n",
    "    \n",
    "    arima_one_week_mae.append(mae)\n",
    "    print('ARIMA MAE for {} to {} interval is: {:.4f}'.format(start_index, end_index, mae))"
   ]
  },
  {
   "cell_type": "code",
   "execution_count": 37,
   "metadata": {},
   "outputs": [
    {
     "name": "stdout",
     "output_type": "stream",
     "text": [
      "ARIMA RMSE for 0 to 24 interval is: 54.8031\n",
      "ARIMA RMSE for 24 to 48 interval is: 112.5502\n",
      "ARIMA RMSE for 48 to 72 interval is: 199.6776\n",
      "ARIMA RMSE for 72 to 96 interval is: 167.9489\n",
      "ARIMA RMSE for 96 to 120 interval is: 164.4347\n",
      "ARIMA RMSE for 120 to 144 interval is: 94.2247\n",
      "ARIMA RMSE for 144 to 168 interval is: 102.9821\n"
     ]
    }
   ],
   "source": [
    "arima_one_week_rmse = list()\n",
    "\n",
    "for start_index in [0, 24, 48, 72, 96, 120, 144]:\n",
    "    end_index = start_index + 24\n",
    "    rmse = sqrt(mean_squared_error(\n",
    "        predictions_df.target[start_index:end_index],\n",
    "        bigquery_edslstm_df.forecast_value[start_index:end_index]\n",
    "    ))\n",
    "    \n",
    "    arima_one_week_rmse.append(rmse)\n",
    "    print('ARIMA RMSE for {} to {} interval is: {:.4f}'.format(start_index, end_index, rmse))"
   ]
  },
  {
   "cell_type": "code",
   "execution_count": 38,
   "metadata": {},
   "outputs": [
    {
     "name": "stdout",
     "output_type": "stream",
     "text": [
      "ARIMA SMAPE for 0 to 24 interval is: 1.7587\n",
      "ARIMA SMAPE for 24 to 48 interval is: 3.6541\n",
      "ARIMA SMAPE for 48 to 72 interval is: 6.0585\n",
      "ARIMA SMAPE for 72 to 96 interval is: 7.2724\n",
      "ARIMA SMAPE for 96 to 120 interval is: 4.2612\n",
      "ARIMA SMAPE for 120 to 144 interval is: 2.9962\n",
      "ARIMA SMAPE for 144 to 168 interval is: 3.6075\n"
     ]
    }
   ],
   "source": [
    "arima_one_week_smape = list()\n",
    "\n",
    "for start_index in [0, 24, 48, 72, 96, 120, 144]:\n",
    "    end_index = start_index + 24\n",
    "    \n",
    "    # adjust SMAPE to percentage value\n",
    "    smape = 100*symmetric_mean_absolute_percentage_error(\n",
    "        predictions_df.target[start_index:end_index],\n",
    "        bigquery_edslstm_df.forecast_value[start_index:end_index]\n",
    "    )\n",
    "    \n",
    "    arima_one_week_smape.append(smape)\n",
    "    print('ARIMA SMAPE for {} to {} interval is: {:.4f}'.format(start_index, end_index, smape))"
   ]
  },
  {
   "cell_type": "code",
   "execution_count": null,
   "metadata": {},
   "outputs": [],
   "source": []
  },
  {
   "cell_type": "markdown",
   "metadata": {},
   "source": [
    "for end_index in [24, 48, 72, 96, 120, 144, 168]:\n",
    "    mae = mean_absolute_error(\n",
    "        predictions_df.target[:end_index],\n",
    "        bigquery_dmslstm_df.forecast_value[:end_index]\n",
    "    )\n",
    "    print('ARIMA MAE for {}-hour interval is: {:.4f}'.format(end_index, mae))"
   ]
  },
  {
   "cell_type": "markdown",
   "metadata": {},
   "source": [
    "for end_index in [24, 48, 72, 96, 120, 144, 168]:\n",
    "    rmse = sqrt(mean_squared_error(\n",
    "        predictions_df.target[:end_index],\n",
    "        bigquery_dmslstm_df.forecast_value[:end_index]\n",
    "    ))\n",
    "    print('ARIMA RMSE for {}-hour interval is: {:.4f}'.format(end_index, rmse))"
   ]
  },
  {
   "cell_type": "markdown",
   "metadata": {},
   "source": [
    "for end_index in [24, 48, 72, 96, 120, 144, 168]:\n",
    "    smape = symmetric_mean_absolute_percentage_error(\n",
    "        predictions_df.target[:end_index],\n",
    "        bigquery_dmslstm_df.forecast_value[:end_index]\n",
    "    )\n",
    "    print('ARIMA SMAPE for {}-hour interval is: {:.4f}'.format(end_index, smape))"
   ]
  },
  {
   "cell_type": "code",
   "execution_count": null,
   "metadata": {},
   "outputs": [],
   "source": []
  },
  {
   "cell_type": "code",
   "execution_count": 39,
   "metadata": {},
   "outputs": [],
   "source": [
    "# a flag to isolate all pairs prediction-target for a given model in predictions_df\n",
    "selected_model = 'EDSLSTM_TPU_013'\n",
    "flag = predictions_df['model_id'] == selected_model"
   ]
  },
  {
   "cell_type": "code",
   "execution_count": 40,
   "metadata": {},
   "outputs": [],
   "source": [
    "average_predictions_df = predictions_df[flag].groupby(['timestamp']).mean()"
   ]
  },
  {
   "cell_type": "code",
   "execution_count": 41,
   "metadata": {},
   "outputs": [
    {
     "data": {
      "text/html": [
       "<div>\n",
       "<style scoped>\n",
       "    .dataframe tbody tr th:only-of-type {\n",
       "        vertical-align: middle;\n",
       "    }\n",
       "\n",
       "    .dataframe tbody tr th {\n",
       "        vertical-align: top;\n",
       "    }\n",
       "\n",
       "    .dataframe thead th {\n",
       "        text-align: right;\n",
       "    }\n",
       "</style>\n",
       "<table border=\"1\" class=\"dataframe\">\n",
       "  <thead>\n",
       "    <tr style=\"text-align: right;\">\n",
       "      <th></th>\n",
       "      <th>prediction</th>\n",
       "      <th>target</th>\n",
       "    </tr>\n",
       "    <tr>\n",
       "      <th>timestamp</th>\n",
       "      <th></th>\n",
       "      <th></th>\n",
       "    </tr>\n",
       "  </thead>\n",
       "  <tbody>\n",
       "    <tr>\n",
       "      <th>2018-05-03 16:00:00</th>\n",
       "      <td>2979.469702</td>\n",
       "      <td>2935.386719</td>\n",
       "    </tr>\n",
       "    <tr>\n",
       "      <th>2018-05-03 17:00:00</th>\n",
       "      <td>2934.481934</td>\n",
       "      <td>2798.293213</td>\n",
       "    </tr>\n",
       "    <tr>\n",
       "      <th>2018-05-03 18:00:00</th>\n",
       "      <td>2860.230493</td>\n",
       "      <td>2750.489990</td>\n",
       "    </tr>\n",
       "    <tr>\n",
       "      <th>2018-05-03 19:00:00</th>\n",
       "      <td>2817.940405</td>\n",
       "      <td>2751.091553</td>\n",
       "    </tr>\n",
       "    <tr>\n",
       "      <th>2018-05-03 20:00:00</th>\n",
       "      <td>2965.644092</td>\n",
       "      <td>2919.401611</td>\n",
       "    </tr>\n",
       "    <tr>\n",
       "      <th>...</th>\n",
       "      <td>...</td>\n",
       "      <td>...</td>\n",
       "    </tr>\n",
       "    <tr>\n",
       "      <th>2018-05-10 11:00:00</th>\n",
       "      <td>2618.650732</td>\n",
       "      <td>2599.053223</td>\n",
       "    </tr>\n",
       "    <tr>\n",
       "      <th>2018-05-10 12:00:00</th>\n",
       "      <td>2711.556079</td>\n",
       "      <td>2709.363281</td>\n",
       "    </tr>\n",
       "    <tr>\n",
       "      <th>2018-05-10 13:00:00</th>\n",
       "      <td>2763.647900</td>\n",
       "      <td>2810.871582</td>\n",
       "    </tr>\n",
       "    <tr>\n",
       "      <th>2018-05-10 14:00:00</th>\n",
       "      <td>2780.691431</td>\n",
       "      <td>2839.586426</td>\n",
       "    </tr>\n",
       "    <tr>\n",
       "      <th>2018-05-10 15:00:00</th>\n",
       "      <td>2772.117407</td>\n",
       "      <td>2773.398193</td>\n",
       "    </tr>\n",
       "  </tbody>\n",
       "</table>\n",
       "<p>168 rows × 2 columns</p>\n",
       "</div>"
      ],
      "text/plain": [
       "                      prediction       target\n",
       "timestamp                                    \n",
       "2018-05-03 16:00:00  2979.469702  2935.386719\n",
       "2018-05-03 17:00:00  2934.481934  2798.293213\n",
       "2018-05-03 18:00:00  2860.230493  2750.489990\n",
       "2018-05-03 19:00:00  2817.940405  2751.091553\n",
       "2018-05-03 20:00:00  2965.644092  2919.401611\n",
       "...                          ...          ...\n",
       "2018-05-10 11:00:00  2618.650732  2599.053223\n",
       "2018-05-10 12:00:00  2711.556079  2709.363281\n",
       "2018-05-10 13:00:00  2763.647900  2810.871582\n",
       "2018-05-10 14:00:00  2780.691431  2839.586426\n",
       "2018-05-10 15:00:00  2772.117407  2773.398193\n",
       "\n",
       "[168 rows x 2 columns]"
      ]
     },
     "execution_count": 41,
     "metadata": {},
     "output_type": "execute_result"
    }
   ],
   "source": [
    "average_predictions_df"
   ]
  },
  {
   "cell_type": "code",
   "execution_count": 42,
   "metadata": {},
   "outputs": [],
   "source": [
    "plots = dict()"
   ]
  },
  {
   "cell_type": "code",
   "execution_count": 43,
   "metadata": {},
   "outputs": [],
   "source": [
    "# a datetime range for the prediction interval\n",
    "# for datetime in pd.date_range(start='2018-07-02 00:00:00', end='2018-07-02 23:00:00', freq='H'):\n",
    "#     print(datetime)"
   ]
  },
  {
   "cell_type": "code",
   "execution_count": null,
   "metadata": {},
   "outputs": [],
   "source": []
  },
  {
   "cell_type": "code",
   "execution_count": 44,
   "metadata": {},
   "outputs": [
    {
     "data": {
      "text/html": [
       "\n",
       "\n",
       "\n",
       "\n",
       "\n",
       "\n",
       "  <div class=\"bk-root\" id=\"e856907f-957f-47ed-b3b1-c87697e971f6\" data-root-id=\"1002\"></div>\n"
      ]
     },
     "metadata": {},
     "output_type": "display_data"
    },
    {
     "data": {
      "application/javascript": [
       "(function(root) {\n",
       "  function embed_document(root) {\n",
       "    \n",
       "  var docs_json = {\"fbd414b2-7957-4830-b8c3-759fd4eaf99e\":{\"roots\":{\"references\":[{\"attributes\":{\"below\":[{\"id\":\"1013\",\"type\":\"DatetimeAxis\"}],\"center\":[{\"id\":\"1017\",\"type\":\"Grid\"},{\"id\":\"1022\",\"type\":\"Grid\"},{\"id\":\"1060\",\"type\":\"Legend\"}],\"left\":[{\"id\":\"1018\",\"type\":\"LinearAxis\"}],\"plot_height\":320,\"plot_width\":960,\"renderers\":[{\"id\":\"1040\",\"type\":\"GlyphRenderer\"},{\"id\":\"1065\",\"type\":\"GlyphRenderer\"},{\"id\":\"1090\",\"type\":\"GlyphRenderer\"},{\"id\":\"1118\",\"type\":\"GlyphRenderer\"},{\"id\":\"1147\",\"type\":\"GlyphRenderer\"},{\"id\":\"1179\",\"type\":\"GlyphRenderer\"}],\"title\":{\"id\":\"1003\",\"type\":\"Title\"},\"toolbar\":{\"id\":\"1029\",\"type\":\"Toolbar\"},\"toolbar_location\":null,\"x_range\":{\"id\":\"1036\",\"type\":\"Range1d\"},\"x_scale\":{\"id\":\"1009\",\"type\":\"LinearScale\"},\"y_range\":{\"id\":\"1007\",\"type\":\"DataRange1d\"},\"y_scale\":{\"id\":\"1011\",\"type\":\"LinearScale\"}},\"id\":\"1002\",\"subtype\":\"Figure\",\"type\":\"Plot\"},{\"attributes\":{\"callback\":null,\"data\":{\"x\":{\"__ndarray__\":\"AACAF1o0dkIAAGiGXTR2QgAAUPVgNHZCAAA4ZGQ0dkIAACDTZzR2QgAACEJrNHZCAADwsG40dkIAANgfcjR2QgAAwI51NHZCAACo/Xg0dkIAAJBsfDR2QgAAeNt/NHZCAABgSoM0dkIAAEi5hjR2QgAAMCiKNHZCAAAYl400dkIAAAAGkTR2QgAA6HSUNHZCAADQ45c0dkIAALhSmzR2QgAAoMGeNHZCAACIMKI0dkIAAHCfpTR2QgAAWA6pNHZC\",\"dtype\":\"float64\",\"shape\":[24]},\"y\":{\"__ndarray__\":\"mpmZiTOopUBmZmZ2OmylQDMzM9O6LqVAZmZmBuZnpUAAAACwep+mQM3MzLzefKZAZmZmNq0BpUCamZnJwtqiQJqZmSkQzKBAMzMzAwbPnkAAAAAAtB2dQJqZmcn56ZtAzczMjMGqm0CamZmpigycQDMzM/MC755AMzMz8wGOoECamZkJ7g6hQDMzM8OyNKJAAAAAMD93o0DNzMwsTXWkQGZmZrYcL6VAmpmZuUuXpUAzMzMDYrmlQM3MzBw8qKVA\",\"dtype\":\"float64\",\"shape\":[24]}},\"selected\":{\"id\":\"1085\",\"type\":\"Selection\"},\"selection_policy\":{\"id\":\"1086\",\"type\":\"UnionRenderers\"}},\"id\":\"1037\",\"type\":\"ColumnDataSource\"},{\"attributes\":{\"source\":{\"id\":\"1062\",\"type\":\"ColumnDataSource\"}},\"id\":\"1066\",\"type\":\"CDSView\"},{\"attributes\":{},\"id\":\"1044\",\"type\":\"BasicTickFormatter\"},{\"attributes\":{\"active_drag\":\"auto\",\"active_inspect\":\"auto\",\"active_multi\":null,\"active_scroll\":\"auto\",\"active_tap\":\"auto\",\"tools\":[{\"id\":\"1023\",\"type\":\"PanTool\"},{\"id\":\"1024\",\"type\":\"WheelZoomTool\"},{\"id\":\"1025\",\"type\":\"BoxZoomTool\"},{\"id\":\"1026\",\"type\":\"SaveTool\"},{\"id\":\"1027\",\"type\":\"ResetTool\"},{\"id\":\"1028\",\"type\":\"HelpTool\"}]},\"id\":\"1029\",\"type\":\"Toolbar\"},{\"attributes\":{\"data_source\":{\"id\":\"1062\",\"type\":\"ColumnDataSource\"},\"glyph\":{\"id\":\"1063\",\"type\":\"Line\"},\"hover_glyph\":null,\"muted_glyph\":null,\"nonselection_glyph\":{\"id\":\"1064\",\"type\":\"Line\"},\"selection_glyph\":null,\"view\":{\"id\":\"1066\",\"type\":\"CDSView\"}},\"id\":\"1065\",\"type\":\"GlyphRenderer\"},{\"attributes\":{},\"id\":\"1046\",\"type\":\"DatetimeTickFormatter\"},{\"attributes\":{\"fill_color\":{\"value\":null},\"size\":{\"units\":\"screen\",\"value\":8},\"x\":{\"field\":\"x\"},\"y\":{\"field\":\"y\"}},\"id\":\"1088\",\"type\":\"Triangle\"},{\"attributes\":{\"months\":[0,2,4,6,8,10]},\"id\":\"1055\",\"type\":\"MonthsTicker\"},{\"attributes\":{\"label\":{\"value\":\"EDSLSTM\"},\"renderers\":[{\"id\":\"1040\",\"type\":\"GlyphRenderer\"},{\"id\":\"1065\",\"type\":\"GlyphRenderer\"}]},\"id\":\"1061\",\"type\":\"LegendItem\"},{\"attributes\":{\"data_source\":{\"id\":\"1037\",\"type\":\"ColumnDataSource\"},\"glyph\":{\"id\":\"1038\",\"type\":\"Square\"},\"hover_glyph\":null,\"muted_glyph\":null,\"nonselection_glyph\":{\"id\":\"1039\",\"type\":\"Square\"},\"selection_glyph\":null,\"view\":{\"id\":\"1041\",\"type\":\"CDSView\"}},\"id\":\"1040\",\"type\":\"GlyphRenderer\"},{\"attributes\":{\"items\":[{\"id\":\"1061\",\"type\":\"LegendItem\"},{\"id\":\"1114\",\"type\":\"LegendItem\"},{\"id\":\"1175\",\"type\":\"LegendItem\"}],\"label_text_font_size\":{\"value\":\"12pt\"},\"location\":\"bottom_left\"},\"id\":\"1060\",\"type\":\"Legend\"},{\"attributes\":{},\"id\":\"1023\",\"type\":\"PanTool\"},{\"attributes\":{\"months\":[0,4,8]},\"id\":\"1056\",\"type\":\"MonthsTicker\"},{\"attributes\":{},\"id\":\"1085\",\"type\":\"Selection\"},{\"attributes\":{},\"id\":\"1024\",\"type\":\"WheelZoomTool\"},{\"attributes\":{\"months\":[0,6]},\"id\":\"1057\",\"type\":\"MonthsTicker\"},{\"attributes\":{\"mantissas\":[1,2,5],\"max_interval\":500.0,\"num_minor_ticks\":0},\"id\":\"1047\",\"type\":\"AdaptiveTicker\"},{\"attributes\":{\"fill_alpha\":{\"value\":0.1},\"fill_color\":{\"value\":\"#1f77b4\"},\"line_alpha\":{\"value\":0.1},\"line_color\":{\"value\":\"#1f77b4\"},\"size\":{\"units\":\"screen\",\"value\":8},\"x\":{\"field\":\"x\"},\"y\":{\"field\":\"y\"}},\"id\":\"1039\",\"type\":\"Square\"},{\"attributes\":{\"overlay\":{\"id\":\"1059\",\"type\":\"BoxAnnotation\"}},\"id\":\"1025\",\"type\":\"BoxZoomTool\"},{\"attributes\":{},\"id\":\"1058\",\"type\":\"YearsTicker\"},{\"attributes\":{\"fill_alpha\":{\"value\":0.1},\"fill_color\":{\"value\":\"#1f77b4\"},\"line_alpha\":{\"value\":0.1},\"line_color\":{\"value\":\"#1f77b4\"},\"size\":{\"units\":\"screen\",\"value\":8},\"x\":{\"field\":\"x\"},\"y\":{\"field\":\"y\"}},\"id\":\"1089\",\"type\":\"Triangle\"},{\"attributes\":{},\"id\":\"1026\",\"type\":\"SaveTool\"},{\"attributes\":{\"bottom_units\":\"screen\",\"fill_alpha\":{\"value\":0.5},\"fill_color\":{\"value\":\"lightgrey\"},\"left_units\":\"screen\",\"level\":\"overlay\",\"line_alpha\":{\"value\":1.0},\"line_color\":{\"value\":\"black\"},\"line_dash\":[4,4],\"line_width\":{\"value\":2},\"render_mode\":\"css\",\"right_units\":\"screen\",\"top_units\":\"screen\"},\"id\":\"1059\",\"type\":\"BoxAnnotation\"},{\"attributes\":{\"fill_color\":{\"value\":null},\"size\":{\"units\":\"screen\",\"value\":8},\"x\":{\"field\":\"x\"},\"y\":{\"field\":\"y\"}},\"id\":\"1038\",\"type\":\"Square\"},{\"attributes\":{\"base\":24,\"mantissas\":[1,2,4,6,8,12],\"max_interval\":43200000.0,\"min_interval\":3600000.0,\"num_minor_ticks\":0},\"id\":\"1049\",\"type\":\"AdaptiveTicker\"},{\"attributes\":{\"axis_label\":\"Active Power [KW]\",\"axis_label_text_font_size\":{\"value\":\"14pt\"},\"formatter\":{\"id\":\"1044\",\"type\":\"BasicTickFormatter\"},\"major_label_text_font_size\":{\"value\":\"12pt\"},\"ticker\":{\"id\":\"1019\",\"type\":\"BasicTicker\"}},\"id\":\"1018\",\"type\":\"LinearAxis\"},{\"attributes\":{},\"id\":\"1027\",\"type\":\"ResetTool\"},{\"attributes\":{\"x\":{\"field\":\"x\"},\"y\":{\"field\":\"y\"}},\"id\":\"1063\",\"type\":\"Line\"},{\"attributes\":{},\"id\":\"1086\",\"type\":\"UnionRenderers\"},{\"attributes\":{\"days\":[1,2,3,4,5,6,7,8,9,10,11,12,13,14,15,16,17,18,19,20,21,22,23,24,25,26,27,28,29,30,31]},\"id\":\"1050\",\"type\":\"DaysTicker\"},{\"attributes\":{\"source\":{\"id\":\"1037\",\"type\":\"ColumnDataSource\"}},\"id\":\"1041\",\"type\":\"CDSView\"},{\"attributes\":{},\"id\":\"1028\",\"type\":\"HelpTool\"},{\"attributes\":{\"callback\":null,\"data\":{\"x\":{\"__ndarray__\":\"AACAF1o0dkIAAGiGXTR2QgAAUPVgNHZCAAA4ZGQ0dkIAACDTZzR2QgAACEJrNHZCAADwsG40dkIAANgfcjR2QgAAwI51NHZCAACo/Xg0dkIAAJBsfDR2QgAAeNt/NHZCAABgSoM0dkIAAEi5hjR2QgAAMCiKNHZCAAAYl400dkIAAAAGkTR2QgAA6HSUNHZCAADQ45c0dkIAALhSmzR2QgAAoMGeNHZCAACIMKI0dkIAAHCfpTR2QgAAWA6pNHZC\",\"dtype\":\"float64\",\"shape\":[24]},\"y\":{\"__ndarray__\":\"mpmZiTOopUBmZmZ2OmylQDMzM9O6LqVAZmZmBuZnpUAAAACwep+mQM3MzLzefKZAZmZmNq0BpUCamZnJwtqiQJqZmSkQzKBAMzMzAwbPnkAAAAAAtB2dQJqZmcn56ZtAzczMjMGqm0CamZmpigycQDMzM/MC755AMzMz8wGOoECamZkJ7g6hQDMzM8OyNKJAAAAAMD93o0DNzMwsTXWkQGZmZrYcL6VAmpmZuUuXpUAzMzMDYrmlQM3MzBw8qKVA\",\"dtype\":\"float64\",\"shape\":[24]}},\"selected\":{\"id\":\"1112\",\"type\":\"Selection\"},\"selection_policy\":{\"id\":\"1113\",\"type\":\"UnionRenderers\"}},\"id\":\"1062\",\"type\":\"ColumnDataSource\"},{\"attributes\":{\"days\":[1,4,7,10,13,16,19,22,25,28]},\"id\":\"1051\",\"type\":\"DaysTicker\"},{\"attributes\":{\"months\":[0,1,2,3,4,5,6,7,8,9,10,11]},\"id\":\"1054\",\"type\":\"MonthsTicker\"},{\"attributes\":{\"callback\":null,\"data\":{\"x\":{\"__ndarray__\":\"AACAF1o0dkIAAGiGXTR2QgAAUPVgNHZCAAA4ZGQ0dkIAACDTZzR2QgAACEJrNHZCAADwsG40dkIAANgfcjR2QgAAwI51NHZCAACo/Xg0dkIAAJBsfDR2QgAAeNt/NHZCAABgSoM0dkIAAEi5hjR2QgAAMCiKNHZCAAAYl400dkIAAAAGkTR2QgAA6HSUNHZCAADQ45c0dkIAALhSmzR2QgAAoMGeNHZCAACIMKI0dkIAAHCfpTR2QgAAWA6pNHZC\",\"dtype\":\"float64\",\"shape\":[24]},\"y\":{\"__ndarray__\":\"inwexQW3pkANz6wEvSemQOfaHN/ZgaVACcM1qQd/pUAA/dEzc52mQLgcRIqFp6ZAlzB1+MlrpUCjD3Yqdm2jQIy0YIFDVqFArH+CS20kn0BcdAQfCo+dQDrr0XZCo5xAgeRQ7Fp1nEBRGKNrxKCcQLF66hG4GJ9A/o0LC+mfoUCF+Tlo+EChQOzBO+6xRKJA0mkBC5U7o0AkJ4/rB2ikQPMLUN9jP6VAcxZvL7bcpUAF2wCMCwumQGAUp9AtGKZA\",\"dtype\":\"float64\",\"shape\":[24]}},\"selected\":{\"id\":\"1142\",\"type\":\"Selection\"},\"selection_policy\":{\"id\":\"1143\",\"type\":\"UnionRenderers\"}},\"id\":\"1087\",\"type\":\"ColumnDataSource\"},{\"attributes\":{\"days\":[1,8,15,22]},\"id\":\"1052\",\"type\":\"DaysTicker\"},{\"attributes\":{\"days\":[1,15]},\"id\":\"1053\",\"type\":\"DaysTicker\"},{\"attributes\":{\"line_alpha\":0.1,\"line_color\":\"#1f77b4\",\"x\":{\"field\":\"x\"},\"y\":{\"field\":\"y\"}},\"id\":\"1064\",\"type\":\"Line\"},{\"attributes\":{},\"id\":\"1011\",\"type\":\"LinearScale\"},{\"attributes\":{\"data_source\":{\"id\":\"1087\",\"type\":\"ColumnDataSource\"},\"glyph\":{\"id\":\"1088\",\"type\":\"Triangle\"},\"hover_glyph\":null,\"muted_glyph\":null,\"nonselection_glyph\":{\"id\":\"1089\",\"type\":\"Triangle\"},\"selection_glyph\":null,\"view\":{\"id\":\"1091\",\"type\":\"CDSView\"}},\"id\":\"1090\",\"type\":\"GlyphRenderer\"},{\"attributes\":{\"data_source\":{\"id\":\"1144\",\"type\":\"ColumnDataSource\"},\"glyph\":{\"id\":\"1145\",\"type\":\"Circle\"},\"hover_glyph\":null,\"muted_glyph\":null,\"nonselection_glyph\":{\"id\":\"1146\",\"type\":\"Circle\"},\"selection_glyph\":null,\"view\":{\"id\":\"1148\",\"type\":\"CDSView\"}},\"id\":\"1147\",\"type\":\"GlyphRenderer\"},{\"attributes\":{\"source\":{\"id\":\"1115\",\"type\":\"ColumnDataSource\"}},\"id\":\"1119\",\"type\":\"CDSView\"},{\"attributes\":{\"source\":{\"id\":\"1176\",\"type\":\"ColumnDataSource\"}},\"id\":\"1180\",\"type\":\"CDSView\"},{\"attributes\":{\"data_source\":{\"id\":\"1115\",\"type\":\"ColumnDataSource\"},\"glyph\":{\"id\":\"1116\",\"type\":\"Line\"},\"hover_glyph\":null,\"muted_glyph\":null,\"nonselection_glyph\":{\"id\":\"1117\",\"type\":\"Line\"},\"selection_glyph\":null,\"view\":{\"id\":\"1119\",\"type\":\"CDSView\"}},\"id\":\"1118\",\"type\":\"GlyphRenderer\"},{\"attributes\":{\"data_source\":{\"id\":\"1176\",\"type\":\"ColumnDataSource\"},\"glyph\":{\"id\":\"1177\",\"type\":\"Line\"},\"hover_glyph\":null,\"muted_glyph\":null,\"nonselection_glyph\":{\"id\":\"1178\",\"type\":\"Line\"},\"selection_glyph\":null,\"view\":{\"id\":\"1180\",\"type\":\"CDSView\"}},\"id\":\"1179\",\"type\":\"GlyphRenderer\"},{\"attributes\":{\"source\":{\"id\":\"1087\",\"type\":\"ColumnDataSource\"}},\"id\":\"1091\",\"type\":\"CDSView\"},{\"attributes\":{\"source\":{\"id\":\"1144\",\"type\":\"ColumnDataSource\"}},\"id\":\"1148\",\"type\":\"CDSView\"},{\"attributes\":{},\"id\":\"1009\",\"type\":\"LinearScale\"},{\"attributes\":{\"callback\":null},\"id\":\"1007\",\"type\":\"DataRange1d\"},{\"attributes\":{\"base\":60,\"mantissas\":[1,2,5,10,15,20,30],\"max_interval\":1800000.0,\"min_interval\":1000.0,\"num_minor_ticks\":0},\"id\":\"1048\",\"type\":\"AdaptiveTicker\"},{\"attributes\":{},\"id\":\"1019\",\"type\":\"BasicTicker\"},{\"attributes\":{\"fill_color\":{\"value\":null},\"size\":{\"units\":\"screen\",\"value\":8},\"x\":{\"field\":\"x\"},\"y\":{\"field\":\"y\"}},\"id\":\"1145\",\"type\":\"Circle\"},{\"attributes\":{\"axis_label\":\"Date\",\"axis_label_text_font_size\":{\"value\":\"14pt\"},\"formatter\":{\"id\":\"1046\",\"type\":\"DatetimeTickFormatter\"},\"major_label_text_font_size\":{\"value\":\"12pt\"},\"ticker\":{\"id\":\"1014\",\"type\":\"DatetimeTicker\"}},\"id\":\"1013\",\"type\":\"DatetimeAxis\"},{\"attributes\":{},\"id\":\"1112\",\"type\":\"Selection\"},{\"attributes\":{},\"id\":\"1143\",\"type\":\"UnionRenderers\"},{\"attributes\":{},\"id\":\"1208\",\"type\":\"UnionRenderers\"},{\"attributes\":{\"grid_line_alpha\":0.3,\"ticker\":{\"id\":\"1014\",\"type\":\"DatetimeTicker\"}},\"id\":\"1017\",\"type\":\"Grid\"},{\"attributes\":{\"callback\":null,\"data\":{\"x\":{\"__ndarray__\":\"AACAF1o0dkIAAGiGXTR2QgAAUPVgNHZCAAA4ZGQ0dkIAACDTZzR2QgAACEJrNHZCAADwsG40dkIAANgfcjR2QgAAwI51NHZCAACo/Xg0dkIAAJBsfDR2QgAAeNt/NHZCAABgSoM0dkIAAEi5hjR2QgAAMCiKNHZCAAAYl400dkIAAAAGkTR2QgAA6HSUNHZCAADQ45c0dkIAALhSmzR2QgAAoMGeNHZCAACIMKI0dkIAAHCfpTR2QgAAWA6pNHZC\",\"dtype\":\"float64\",\"shape\":[24]},\"y\":{\"__ndarray__\":\"inwexQW3pkANz6wEvSemQOfaHN/ZgaVACcM1qQd/pUAA/dEzc52mQLgcRIqFp6ZAlzB1+MlrpUCjD3Yqdm2jQIy0YIFDVqFArH+CS20kn0BcdAQfCo+dQDrr0XZCo5xAgeRQ7Fp1nEBRGKNrxKCcQLF66hG4GJ9A/o0LC+mfoUCF+Tlo+EChQOzBO+6xRKJA0mkBC5U7o0AkJ4/rB2ikQPMLUN9jP6VAcxZvL7bcpUAF2wCMCwumQGAUp9AtGKZA\",\"dtype\":\"float64\",\"shape\":[24]}},\"selected\":{\"id\":\"1173\",\"type\":\"Selection\"},\"selection_policy\":{\"id\":\"1174\",\"type\":\"UnionRenderers\"}},\"id\":\"1115\",\"type\":\"ColumnDataSource\"},{\"attributes\":{\"callback\":null,\"data\":{\"x\":{\"__ndarray__\":\"AACAF1o0dkIAAGiGXTR2QgAAUPVgNHZCAAA4ZGQ0dkIAACDTZzR2QgAACEJrNHZCAADwsG40dkIAANgfcjR2QgAAwI51NHZCAACo/Xg0dkIAAJBsfDR2QgAAeNt/NHZCAABgSoM0dkIAAEi5hjR2QgAAMCiKNHZCAAAYl400dkIAAAAGkTR2QgAA6HSUNHZCAADQ45c0dkIAALhSmzR2QgAAoMGeNHZCAACIMKI0dkIAAHCfpTR2QgAAWA6pNHZC\",\"dtype\":\"float64\",\"shape\":[24]},\"y\":{\"__ndarray__\":\"AAAAwOlJpkAAAADAwDSmQAAAAMD1Y6VAAAAAgMizpUAAAAAAjKKlQAAAAGDUQKVAAAAAIPMTpEAAAAAgotKhQAAAAOC6KaBAAAAAoPBAnUAAAACAJbCbQAAAAEC4MZtAAAAAgJQdm0AAAACgqjybQAAAAMDYaJ5AAAAAYLgaoEAAAAAgVuGgQAAAAEA+gqFAAAAAYFoao0AAAABAG06kQAAAAAC6KqVAAAAAQL71pUAAAABALC+mQAAAAODLqqVA\",\"dtype\":\"float64\",\"shape\":[24]}},\"selected\":{\"id\":\"1237\",\"type\":\"Selection\"},\"selection_policy\":{\"id\":\"1238\",\"type\":\"UnionRenderers\"}},\"id\":\"1176\",\"type\":\"ColumnDataSource\"},{\"attributes\":{},\"id\":\"1142\",\"type\":\"Selection\"},{\"attributes\":{},\"id\":\"1207\",\"type\":\"Selection\"},{\"attributes\":{\"num_minor_ticks\":5,\"tickers\":[{\"id\":\"1047\",\"type\":\"AdaptiveTicker\"},{\"id\":\"1048\",\"type\":\"AdaptiveTicker\"},{\"id\":\"1049\",\"type\":\"AdaptiveTicker\"},{\"id\":\"1050\",\"type\":\"DaysTicker\"},{\"id\":\"1051\",\"type\":\"DaysTicker\"},{\"id\":\"1052\",\"type\":\"DaysTicker\"},{\"id\":\"1053\",\"type\":\"DaysTicker\"},{\"id\":\"1054\",\"type\":\"MonthsTicker\"},{\"id\":\"1055\",\"type\":\"MonthsTicker\"},{\"id\":\"1056\",\"type\":\"MonthsTicker\"},{\"id\":\"1057\",\"type\":\"MonthsTicker\"},{\"id\":\"1058\",\"type\":\"YearsTicker\"}]},\"id\":\"1014\",\"type\":\"DatetimeTicker\"},{\"attributes\":{\"label\":{\"value\":\"ARIMA\"},\"renderers\":[{\"id\":\"1090\",\"type\":\"GlyphRenderer\"},{\"id\":\"1118\",\"type\":\"GlyphRenderer\"}]},\"id\":\"1114\",\"type\":\"LegendItem\"},{\"attributes\":{\"label\":{\"value\":\"Real\"},\"renderers\":[{\"id\":\"1147\",\"type\":\"GlyphRenderer\"},{\"id\":\"1179\",\"type\":\"GlyphRenderer\"}]},\"id\":\"1175\",\"type\":\"LegendItem\"},{\"attributes\":{\"line_alpha\":0.1,\"line_color\":\"#1f77b4\",\"x\":{\"field\":\"x\"},\"y\":{\"field\":\"y\"}},\"id\":\"1117\",\"type\":\"Line\"},{\"attributes\":{\"line_alpha\":0.1,\"line_color\":\"#1f77b4\",\"x\":{\"field\":\"x\"},\"y\":{\"field\":\"y\"}},\"id\":\"1178\",\"type\":\"Line\"},{\"attributes\":{},\"id\":\"1173\",\"type\":\"Selection\"},{\"attributes\":{\"fill_alpha\":{\"value\":0.1},\"fill_color\":{\"value\":\"#1f77b4\"},\"line_alpha\":{\"value\":0.1},\"line_color\":{\"value\":\"#1f77b4\"},\"size\":{\"units\":\"screen\",\"value\":8},\"x\":{\"field\":\"x\"},\"y\":{\"field\":\"y\"}},\"id\":\"1146\",\"type\":\"Circle\"},{\"attributes\":{},\"id\":\"1113\",\"type\":\"UnionRenderers\"},{\"attributes\":{},\"id\":\"1174\",\"type\":\"UnionRenderers\"},{\"attributes\":{},\"id\":\"1238\",\"type\":\"UnionRenderers\"},{\"attributes\":{\"x\":{\"field\":\"x\"},\"y\":{\"field\":\"y\"}},\"id\":\"1116\",\"type\":\"Line\"},{\"attributes\":{\"dimension\":1,\"grid_line_alpha\":0.3,\"ticker\":{\"id\":\"1019\",\"type\":\"BasicTicker\"}},\"id\":\"1022\",\"type\":\"Grid\"},{\"attributes\":{\"text\":\"EDSLSTM (average) vs. ARIMA vs. Real / Day 7.\",\"text_font_size\":{\"value\":\"14pt\"}},\"id\":\"1003\",\"type\":\"Title\"},{\"attributes\":{\"x\":{\"field\":\"x\"},\"y\":{\"field\":\"y\"}},\"id\":\"1177\",\"type\":\"Line\"},{\"attributes\":{},\"id\":\"1237\",\"type\":\"Selection\"},{\"attributes\":{\"callback\":null,\"end\":1525971600000.0,\"start\":1525878000000.0},\"id\":\"1036\",\"type\":\"Range1d\"},{\"attributes\":{\"callback\":null,\"data\":{\"x\":{\"__ndarray__\":\"AACAF1o0dkIAAGiGXTR2QgAAUPVgNHZCAAA4ZGQ0dkIAACDTZzR2QgAACEJrNHZCAADwsG40dkIAANgfcjR2QgAAwI51NHZCAACo/Xg0dkIAAJBsfDR2QgAAeNt/NHZCAABgSoM0dkIAAEi5hjR2QgAAMCiKNHZCAAAYl400dkIAAAAGkTR2QgAA6HSUNHZCAADQ45c0dkIAALhSmzR2QgAAoMGeNHZCAACIMKI0dkIAAHCfpTR2QgAAWA6pNHZC\",\"dtype\":\"float64\",\"shape\":[24]},\"y\":{\"__ndarray__\":\"AAAAwOlJpkAAAADAwDSmQAAAAMD1Y6VAAAAAgMizpUAAAAAAjKKlQAAAAGDUQKVAAAAAIPMTpEAAAAAgotKhQAAAAOC6KaBAAAAAoPBAnUAAAACAJbCbQAAAAEC4MZtAAAAAgJQdm0AAAACgqjybQAAAAMDYaJ5AAAAAYLgaoEAAAAAgVuGgQAAAAEA+gqFAAAAAYFoao0AAAABAG06kQAAAAAC6KqVAAAAAQL71pUAAAABALC+mQAAAAODLqqVA\",\"dtype\":\"float64\",\"shape\":[24]}},\"selected\":{\"id\":\"1207\",\"type\":\"Selection\"},\"selection_policy\":{\"id\":\"1208\",\"type\":\"UnionRenderers\"}},\"id\":\"1144\",\"type\":\"ColumnDataSource\"}],\"root_ids\":[\"1002\"]},\"title\":\"Bokeh Application\",\"version\":\"1.4.0\"}};\n",
       "  var render_items = [{\"docid\":\"fbd414b2-7957-4830-b8c3-759fd4eaf99e\",\"roots\":{\"1002\":\"e856907f-957f-47ed-b3b1-c87697e971f6\"}}];\n",
       "  root.Bokeh.embed.embed_items_notebook(docs_json, render_items);\n",
       "\n",
       "  }\n",
       "  if (root.Bokeh !== undefined) {\n",
       "    embed_document(root);\n",
       "  } else {\n",
       "    var attempts = 0;\n",
       "    var timer = setInterval(function(root) {\n",
       "      if (root.Bokeh !== undefined) {\n",
       "        clearInterval(timer);\n",
       "        embed_document(root);\n",
       "      } else {\n",
       "        attempts++;\n",
       "        if (attempts > 100) {\n",
       "          clearInterval(timer);\n",
       "          console.log(\"Bokeh: ERROR: Unable to run BokehJS code because BokehJS library is missing\");\n",
       "        }\n",
       "      }\n",
       "    }, 10, root)\n",
       "  }\n",
       "})(window);"
      ],
      "application/vnd.bokehjs_exec.v0+json": ""
     },
     "metadata": {
      "application/vnd.bokehjs_exec.v0+json": {
       "id": "1002"
      }
     },
     "output_type": "display_data"
    }
   ],
   "source": [
    "day = 7\n",
    "start, end = 24*(day - 1), 24*day\n",
    "\n",
    "size = 8\n",
    "\n",
    "plots['edslstm'] = figure(\n",
    "    x_axis_type='datetime',\n",
    "    plot_width=960,\n",
    "    plot_height=320,\n",
    "    title='EDSLSTM (average) vs. ARIMA vs. Real / Day {}.'.format(day),\n",
    "    toolbar_location=None,\n",
    ")\n",
    "\n",
    "plots['edslstm'].grid.grid_line_alpha=0.3\n",
    "\n",
    "plots['edslstm'].xaxis.axis_label = 'Date'\n",
    "plots['edslstm'].yaxis.axis_label = 'Active Power [KW]'\n",
    "\n",
    "plots['edslstm'].title.text_font_size = '14pt'\n",
    "\n",
    "plots['edslstm'].xaxis.axis_label_text_font_size = \"14pt\"\n",
    "plots['edslstm'].yaxis.axis_label_text_font_size = \"14pt\"\n",
    "\n",
    "plots['edslstm'].xaxis.major_label_text_font_size = \"12pt\"\n",
    "plots['edslstm'].yaxis.major_label_text_font_size = \"12pt\"\n",
    "\n",
    "# a custom x range to visuallly improve the the plot\n",
    "plots['edslstm'].x_range = Range1d(\n",
    "    start=average_predictions_df.index[start] - timedelta(hours=1),\n",
    "    end=average_predictions_df.index[end-1] + timedelta(hours=2)\n",
    ")\n",
    "\n",
    "# the target value in average_predictions_df is the average of targets, then the only target\n",
    "plots['edslstm'].square(\n",
    "    x=average_predictions_df.index[start:end],\n",
    "    y=average_predictions_df.prediction[start:end],\n",
    "    size=size,\n",
    "    fill_color=None,\n",
    "    color='black',\n",
    "    legend_label='EDSLSTM'\n",
    ")\n",
    "plots['edslstm'].line(\n",
    "    x=average_predictions_df.index[start:end],\n",
    "    y=average_predictions_df.prediction[start:end],\n",
    "    color='black',\n",
    "    legend_label='EDSLSTM'\n",
    ")\n",
    "\n",
    "plots['edslstm'].triangle(\n",
    "    x=pd.to_datetime(bigquery_edslstm_df.forecast_timestamp)[start:end],\n",
    "    y=bigquery_edslstm_df.forecast_value[start:end],\n",
    "    size=size,\n",
    "    fill_color=None,\n",
    "    color='black',\n",
    "    legend_label='ARIMA'\n",
    ")\n",
    "plots['edslstm'].line(\n",
    "    x=pd.to_datetime(bigquery_edslstm_df.forecast_timestamp)[start:end],\n",
    "    y=bigquery_edslstm_df.forecast_value[start:end],\n",
    "    color='black',\n",
    "    legend_label='ARIMA'\n",
    ")\n",
    "\n",
    "plots['edslstm'].circle(\n",
    "    x=average_predictions_df.index[start:end],\n",
    "    y=average_predictions_df.target[start:end],\n",
    "    size=size,\n",
    "    fill_color=None,\n",
    "    color='black',\n",
    "    legend_label='Real'\n",
    ")\n",
    "plots['edslstm'].line(\n",
    "    x=average_predictions_df.index[start:end],\n",
    "    y=average_predictions_df.target[start:end],\n",
    "    color='black',\n",
    "    legend_label='Real'\n",
    ")\n",
    "\n",
    "plots['edslstm'].legend.label_text_font_size = '12pt'\n",
    "plots['edslstm'].legend.location = 'bottom_left'\n",
    "\n",
    "# uncomment the following two lines to save plot\n",
    "# output_file('/home/developer/gcp/cbidmltsf/datasets/cfe/{}_H_kw.html'.format(device))\n",
    "# save(fig_kw)\n",
    "\n",
    "# uncomment the following line to display plot\n",
    "show(plots['edslstm'])"
   ]
  },
  {
   "cell_type": "code",
   "execution_count": null,
   "metadata": {},
   "outputs": [],
   "source": []
  },
  {
   "cell_type": "code",
   "execution_count": 45,
   "metadata": {},
   "outputs": [],
   "source": [
    "# a Pandas dataframe to store all predictions detail items\n",
    "buffer_df_columns = [\n",
    "    'start_timestamp',\n",
    "    'end_timestamp',\n",
    "    'model_id',\n",
    "    'execution',\n",
    "    'mae',\n",
    "    'rmse',\n",
    "    'smape'\n",
    "]\n",
    "\n",
    "day_by_day_predictions_df = pd.DataFrame(columns=buffer_df_columns)"
   ]
  },
  {
   "cell_type": "code",
   "execution_count": 46,
   "metadata": {},
   "outputs": [
    {
     "data": {
      "text/html": [
       "<div>\n",
       "<style scoped>\n",
       "    .dataframe tbody tr th:only-of-type {\n",
       "        vertical-align: middle;\n",
       "    }\n",
       "\n",
       "    .dataframe tbody tr th {\n",
       "        vertical-align: top;\n",
       "    }\n",
       "\n",
       "    .dataframe thead th {\n",
       "        text-align: right;\n",
       "    }\n",
       "</style>\n",
       "<table border=\"1\" class=\"dataframe\">\n",
       "  <thead>\n",
       "    <tr style=\"text-align: right;\">\n",
       "      <th></th>\n",
       "      <th>start_timestamp</th>\n",
       "      <th>end_timestamp</th>\n",
       "      <th>model_id</th>\n",
       "      <th>execution</th>\n",
       "      <th>mae</th>\n",
       "      <th>rmse</th>\n",
       "      <th>smape</th>\n",
       "    </tr>\n",
       "  </thead>\n",
       "  <tbody>\n",
       "  </tbody>\n",
       "</table>\n",
       "</div>"
      ],
      "text/plain": [
       "Empty DataFrame\n",
       "Columns: [start_timestamp, end_timestamp, model_id, execution, mae, rmse, smape]\n",
       "Index: []"
      ]
     },
     "execution_count": 46,
     "metadata": {},
     "output_type": "execute_result"
    }
   ],
   "source": [
    "day_by_day_predictions_df"
   ]
  },
  {
   "cell_type": "code",
   "execution_count": 47,
   "metadata": {},
   "outputs": [],
   "source": [
    "\n",
    "model_id, dataset, inference = 'EDSLSTM_TPU_013', 'test', '024'\n",
    "executions = [0, 1, 2, 3, 4, 5, 6, 7, 8, 9]\n",
    "\n",
    "num_days = 28\n",
    "start_indexes = 24*np.arange(num_days)\n",
    "\n",
    "for execution in executions:\n",
    "    \n",
    "    flag = \\\n",
    "    global_df.model_id.eq(model_id) & \\\n",
    "    global_df.execution.eq(execution) & \\\n",
    "    global_df.dataset.eq(dataset) & \\\n",
    "    global_df.inference.eq(inference)\n",
    "\n",
    "    # reset index to use the same row, drop the index column\n",
    "    filtered_df = global_df[flag].reset_index(drop=True)\n",
    "    \n",
    "    for start_index in start_indexes:\n",
    "        \n",
    "        list_to_row = [\n",
    "            pd.to_datetime(filtered_df.iloc[start_index]['string_timestamps'][0]),\n",
    "            pd.to_datetime(filtered_df.iloc[start_index]['string_timestamps'][-1]),\n",
    "            filtered_df.iloc[start_index]['model_id'],\n",
    "            filtered_df.iloc[start_index]['execution'],\n",
    "            filtered_df.iloc[start_index]['mae'],\n",
    "            filtered_df.iloc[start_index]['rmse'],\n",
    "            filtered_df.iloc[start_index]['smape']\n",
    "        ]\n",
    "        \n",
    "        list_to_row_df = pd.DataFrame([list_to_row], columns=buffer_df_columns)\n",
    "\n",
    "        day_by_day_predictions_df = pd.concat([day_by_day_predictions_df, list_to_row_df])\n",
    "\n",
    "day_by_day_predictions_df = day_by_day_predictions_df.reset_index(drop=True)"
   ]
  },
  {
   "cell_type": "code",
   "execution_count": 48,
   "metadata": {},
   "outputs": [
    {
     "data": {
      "text/html": [
       "<div>\n",
       "<style scoped>\n",
       "    .dataframe tbody tr th:only-of-type {\n",
       "        vertical-align: middle;\n",
       "    }\n",
       "\n",
       "    .dataframe tbody tr th {\n",
       "        vertical-align: top;\n",
       "    }\n",
       "\n",
       "    .dataframe thead th {\n",
       "        text-align: right;\n",
       "    }\n",
       "</style>\n",
       "<table border=\"1\" class=\"dataframe\">\n",
       "  <thead>\n",
       "    <tr style=\"text-align: right;\">\n",
       "      <th></th>\n",
       "      <th>start_timestamp</th>\n",
       "      <th>end_timestamp</th>\n",
       "      <th>model_id</th>\n",
       "      <th>execution</th>\n",
       "      <th>mae</th>\n",
       "      <th>rmse</th>\n",
       "      <th>smape</th>\n",
       "    </tr>\n",
       "  </thead>\n",
       "  <tbody>\n",
       "    <tr>\n",
       "      <th>0</th>\n",
       "      <td>2018-05-03 16:00:00</td>\n",
       "      <td>2018-05-04 15:00:00</td>\n",
       "      <td>EDSLSTM_TPU_013</td>\n",
       "      <td>0</td>\n",
       "      <td>54.286067</td>\n",
       "      <td>70.648563</td>\n",
       "      <td>0.020626</td>\n",
       "    </tr>\n",
       "    <tr>\n",
       "      <th>1</th>\n",
       "      <td>2018-05-04 16:00:00</td>\n",
       "      <td>2018-05-05 15:00:00</td>\n",
       "      <td>EDSLSTM_TPU_013</td>\n",
       "      <td>0</td>\n",
       "      <td>65.790395</td>\n",
       "      <td>72.422381</td>\n",
       "      <td>0.026387</td>\n",
       "    </tr>\n",
       "    <tr>\n",
       "      <th>2</th>\n",
       "      <td>2018-05-05 16:00:00</td>\n",
       "      <td>2018-05-06 15:00:00</td>\n",
       "      <td>EDSLSTM_TPU_013</td>\n",
       "      <td>0</td>\n",
       "      <td>68.757655</td>\n",
       "      <td>101.250896</td>\n",
       "      <td>0.027657</td>\n",
       "    </tr>\n",
       "    <tr>\n",
       "      <th>3</th>\n",
       "      <td>2018-05-06 16:00:00</td>\n",
       "      <td>2018-05-07 15:00:00</td>\n",
       "      <td>EDSLSTM_TPU_013</td>\n",
       "      <td>0</td>\n",
       "      <td>46.927139</td>\n",
       "      <td>53.531686</td>\n",
       "      <td>0.019349</td>\n",
       "    </tr>\n",
       "    <tr>\n",
       "      <th>4</th>\n",
       "      <td>2018-05-07 16:00:00</td>\n",
       "      <td>2018-05-08 15:00:00</td>\n",
       "      <td>EDSLSTM_TPU_013</td>\n",
       "      <td>0</td>\n",
       "      <td>121.353363</td>\n",
       "      <td>172.418498</td>\n",
       "      <td>0.047132</td>\n",
       "    </tr>\n",
       "    <tr>\n",
       "      <th>...</th>\n",
       "      <td>...</td>\n",
       "      <td>...</td>\n",
       "      <td>...</td>\n",
       "      <td>...</td>\n",
       "      <td>...</td>\n",
       "      <td>...</td>\n",
       "      <td>...</td>\n",
       "    </tr>\n",
       "    <tr>\n",
       "      <th>275</th>\n",
       "      <td>2018-05-26 16:00:00</td>\n",
       "      <td>2018-05-27 15:00:00</td>\n",
       "      <td>EDSLSTM_TPU_013</td>\n",
       "      <td>9</td>\n",
       "      <td>62.703659</td>\n",
       "      <td>78.526338</td>\n",
       "      <td>0.023223</td>\n",
       "    </tr>\n",
       "    <tr>\n",
       "      <th>276</th>\n",
       "      <td>2018-05-27 16:00:00</td>\n",
       "      <td>2018-05-28 15:00:00</td>\n",
       "      <td>EDSLSTM_TPU_013</td>\n",
       "      <td>9</td>\n",
       "      <td>75.656754</td>\n",
       "      <td>84.783441</td>\n",
       "      <td>0.027857</td>\n",
       "    </tr>\n",
       "    <tr>\n",
       "      <th>277</th>\n",
       "      <td>2018-05-28 16:00:00</td>\n",
       "      <td>2018-05-29 15:00:00</td>\n",
       "      <td>EDSLSTM_TPU_013</td>\n",
       "      <td>9</td>\n",
       "      <td>119.990946</td>\n",
       "      <td>143.788272</td>\n",
       "      <td>0.040315</td>\n",
       "    </tr>\n",
       "    <tr>\n",
       "      <th>278</th>\n",
       "      <td>2018-05-29 16:00:00</td>\n",
       "      <td>2018-05-30 15:00:00</td>\n",
       "      <td>EDSLSTM_TPU_013</td>\n",
       "      <td>9</td>\n",
       "      <td>136.834112</td>\n",
       "      <td>149.032396</td>\n",
       "      <td>0.047717</td>\n",
       "    </tr>\n",
       "    <tr>\n",
       "      <th>279</th>\n",
       "      <td>2018-05-30 16:00:00</td>\n",
       "      <td>2018-05-31 15:00:00</td>\n",
       "      <td>EDSLSTM_TPU_013</td>\n",
       "      <td>9</td>\n",
       "      <td>97.485387</td>\n",
       "      <td>124.886094</td>\n",
       "      <td>0.032118</td>\n",
       "    </tr>\n",
       "  </tbody>\n",
       "</table>\n",
       "<p>280 rows × 7 columns</p>\n",
       "</div>"
      ],
      "text/plain": [
       "        start_timestamp       end_timestamp         model_id execution  \\\n",
       "0   2018-05-03 16:00:00 2018-05-04 15:00:00  EDSLSTM_TPU_013         0   \n",
       "1   2018-05-04 16:00:00 2018-05-05 15:00:00  EDSLSTM_TPU_013         0   \n",
       "2   2018-05-05 16:00:00 2018-05-06 15:00:00  EDSLSTM_TPU_013         0   \n",
       "3   2018-05-06 16:00:00 2018-05-07 15:00:00  EDSLSTM_TPU_013         0   \n",
       "4   2018-05-07 16:00:00 2018-05-08 15:00:00  EDSLSTM_TPU_013         0   \n",
       "..                  ...                 ...              ...       ...   \n",
       "275 2018-05-26 16:00:00 2018-05-27 15:00:00  EDSLSTM_TPU_013         9   \n",
       "276 2018-05-27 16:00:00 2018-05-28 15:00:00  EDSLSTM_TPU_013         9   \n",
       "277 2018-05-28 16:00:00 2018-05-29 15:00:00  EDSLSTM_TPU_013         9   \n",
       "278 2018-05-29 16:00:00 2018-05-30 15:00:00  EDSLSTM_TPU_013         9   \n",
       "279 2018-05-30 16:00:00 2018-05-31 15:00:00  EDSLSTM_TPU_013         9   \n",
       "\n",
       "            mae        rmse     smape  \n",
       "0     54.286067   70.648563  0.020626  \n",
       "1     65.790395   72.422381  0.026387  \n",
       "2     68.757655  101.250896  0.027657  \n",
       "3     46.927139   53.531686  0.019349  \n",
       "4    121.353363  172.418498  0.047132  \n",
       "..          ...         ...       ...  \n",
       "275   62.703659   78.526338  0.023223  \n",
       "276   75.656754   84.783441  0.027857  \n",
       "277  119.990946  143.788272  0.040315  \n",
       "278  136.834112  149.032396  0.047717  \n",
       "279   97.485387  124.886094  0.032118  \n",
       "\n",
       "[280 rows x 7 columns]"
      ]
     },
     "execution_count": 48,
     "metadata": {},
     "output_type": "execute_result"
    }
   ],
   "source": [
    "day_by_day_predictions_df"
   ]
  },
  {
   "cell_type": "code",
   "execution_count": null,
   "metadata": {},
   "outputs": [],
   "source": []
  },
  {
   "cell_type": "code",
   "execution_count": 49,
   "metadata": {},
   "outputs": [
    {
     "data": {
      "text/html": [
       "<div>\n",
       "<style scoped>\n",
       "    .dataframe tbody tr th:only-of-type {\n",
       "        vertical-align: middle;\n",
       "    }\n",
       "\n",
       "    .dataframe tbody tr th {\n",
       "        vertical-align: top;\n",
       "    }\n",
       "\n",
       "    .dataframe thead th {\n",
       "        text-align: right;\n",
       "    }\n",
       "</style>\n",
       "<table border=\"1\" class=\"dataframe\">\n",
       "  <thead>\n",
       "    <tr style=\"text-align: right;\">\n",
       "      <th></th>\n",
       "      <th>mae</th>\n",
       "      <th>rmse</th>\n",
       "      <th>smape</th>\n",
       "    </tr>\n",
       "    <tr>\n",
       "      <th>execution</th>\n",
       "      <th></th>\n",
       "      <th></th>\n",
       "      <th></th>\n",
       "    </tr>\n",
       "  </thead>\n",
       "  <tbody>\n",
       "    <tr>\n",
       "      <th>0</th>\n",
       "      <td>80.537360</td>\n",
       "      <td>98.370960</td>\n",
       "      <td>0.031397</td>\n",
       "    </tr>\n",
       "    <tr>\n",
       "      <th>1</th>\n",
       "      <td>81.680708</td>\n",
       "      <td>98.814697</td>\n",
       "      <td>0.032065</td>\n",
       "    </tr>\n",
       "    <tr>\n",
       "      <th>2</th>\n",
       "      <td>83.215136</td>\n",
       "      <td>101.496831</td>\n",
       "      <td>0.032688</td>\n",
       "    </tr>\n",
       "    <tr>\n",
       "      <th>3</th>\n",
       "      <td>79.282793</td>\n",
       "      <td>97.205786</td>\n",
       "      <td>0.031045</td>\n",
       "    </tr>\n",
       "    <tr>\n",
       "      <th>4</th>\n",
       "      <td>81.806174</td>\n",
       "      <td>99.327310</td>\n",
       "      <td>0.032085</td>\n",
       "    </tr>\n",
       "    <tr>\n",
       "      <th>5</th>\n",
       "      <td>78.879657</td>\n",
       "      <td>95.051772</td>\n",
       "      <td>0.031144</td>\n",
       "    </tr>\n",
       "    <tr>\n",
       "      <th>6</th>\n",
       "      <td>81.165047</td>\n",
       "      <td>99.060400</td>\n",
       "      <td>0.031852</td>\n",
       "    </tr>\n",
       "    <tr>\n",
       "      <th>7</th>\n",
       "      <td>81.871259</td>\n",
       "      <td>99.181595</td>\n",
       "      <td>0.032242</td>\n",
       "    </tr>\n",
       "    <tr>\n",
       "      <th>8</th>\n",
       "      <td>86.678961</td>\n",
       "      <td>105.540888</td>\n",
       "      <td>0.033974</td>\n",
       "    </tr>\n",
       "    <tr>\n",
       "      <th>9</th>\n",
       "      <td>84.665324</td>\n",
       "      <td>102.069780</td>\n",
       "      <td>0.033103</td>\n",
       "    </tr>\n",
       "  </tbody>\n",
       "</table>\n",
       "</div>"
      ],
      "text/plain": [
       "                 mae        rmse     smape\n",
       "execution                                 \n",
       "0          80.537360   98.370960  0.031397\n",
       "1          81.680708   98.814697  0.032065\n",
       "2          83.215136  101.496831  0.032688\n",
       "3          79.282793   97.205786  0.031045\n",
       "4          81.806174   99.327310  0.032085\n",
       "5          78.879657   95.051772  0.031144\n",
       "6          81.165047   99.060400  0.031852\n",
       "7          81.871259   99.181595  0.032242\n",
       "8          86.678961  105.540888  0.033974\n",
       "9          84.665324  102.069780  0.033103"
      ]
     },
     "execution_count": 49,
     "metadata": {},
     "output_type": "execute_result"
    }
   ],
   "source": [
    "# locating the model execution with the best performance\n",
    "day_by_day_predictions_df.groupby(['execution']).mean()"
   ]
  },
  {
   "cell_type": "code",
   "execution_count": 50,
   "metadata": {},
   "outputs": [],
   "source": [
    "# execution 5 presents the best error metrics!"
   ]
  },
  {
   "cell_type": "code",
   "execution_count": null,
   "metadata": {},
   "outputs": [],
   "source": []
  },
  {
   "cell_type": "code",
   "execution_count": 51,
   "metadata": {},
   "outputs": [
    {
     "data": {
      "text/plain": [
       "DatetimeIndex(['2018-05-03 16:00:00', '2018-05-04 16:00:00',\n",
       "               '2018-05-05 16:00:00', '2018-05-06 16:00:00',\n",
       "               '2018-05-07 16:00:00', '2018-05-08 16:00:00',\n",
       "               '2018-05-09 16:00:00', '2018-05-10 16:00:00',\n",
       "               '2018-05-11 16:00:00', '2018-05-12 16:00:00',\n",
       "               '2018-05-13 16:00:00', '2018-05-14 16:00:00',\n",
       "               '2018-05-15 16:00:00', '2018-05-16 16:00:00',\n",
       "               '2018-05-17 16:00:00', '2018-05-18 16:00:00',\n",
       "               '2018-05-19 16:00:00', '2018-05-20 16:00:00',\n",
       "               '2018-05-21 16:00:00', '2018-05-22 16:00:00',\n",
       "               '2018-05-23 16:00:00', '2018-05-24 16:00:00',\n",
       "               '2018-05-25 16:00:00', '2018-05-26 16:00:00',\n",
       "               '2018-05-27 16:00:00', '2018-05-28 16:00:00',\n",
       "               '2018-05-29 16:00:00', '2018-05-30 16:00:00'],\n",
       "              dtype='datetime64[ns]', name='start_timestamp', freq=None)"
      ]
     },
     "execution_count": 51,
     "metadata": {},
     "output_type": "execute_result"
    }
   ],
   "source": [
    "# get the time line, on a daily basis, from the grouped dataframe\n",
    "day_by_day_predictions_df.groupby(['start_timestamp']).mean().index"
   ]
  },
  {
   "cell_type": "code",
   "execution_count": null,
   "metadata": {},
   "outputs": [],
   "source": []
  },
  {
   "cell_type": "code",
   "execution_count": 66,
   "metadata": {},
   "outputs": [],
   "source": [
    "# compare metrics: EDSLSTM average predictions vs. ARIMA\n",
    "# express them as percentage for tabulation"
   ]
  },
  {
   "cell_type": "code",
   "execution_count": 86,
   "metadata": {},
   "outputs": [],
   "source": [
    "# get a metric average (on the 10 executions) for a given 24-hour interval\n",
    "edslstm_average_one_week_mae_mean = day_by_day_predictions_df.groupby(['start_timestamp']).mean()['mae'][:7]"
   ]
  },
  {
   "cell_type": "code",
   "execution_count": 87,
   "metadata": {},
   "outputs": [
    {
     "name": "stdout",
     "output_type": "stream",
     "text": [
      "54.5234\n",
      "63.8401\n",
      "65.6171\n",
      "55.0586\n",
      "118.6643\n",
      "55.7155\n",
      "66.2347\n"
     ]
    }
   ],
   "source": [
    "for x in edslstm_average_one_week_mae_mean:\n",
    "    print('{:0.4f}'.format(x))"
   ]
  },
  {
   "cell_type": "code",
   "execution_count": 88,
   "metadata": {},
   "outputs": [],
   "source": [
    "edslstm_average_one_week_mae_std = day_by_day_predictions_df.groupby(['start_timestamp']).std()['mae'][:7]"
   ]
  },
  {
   "cell_type": "code",
   "execution_count": 89,
   "metadata": {},
   "outputs": [
    {
     "name": "stdout",
     "output_type": "stream",
     "text": [
      "2.3951\n",
      "4.0132\n",
      "4.4611\n",
      "5.6558\n",
      "4.6559\n",
      "16.8942\n",
      "4.3673\n"
     ]
    }
   ],
   "source": [
    "for x in edslstm_average_one_week_mae_std:\n",
    "    print('{:0.4f}'.format(x))"
   ]
  },
  {
   "cell_type": "code",
   "execution_count": 90,
   "metadata": {},
   "outputs": [],
   "source": [
    "edslstm_average_one_week_rmse_mean = day_by_day_predictions_df.groupby(['start_timestamp']).mean()['rmse'][:7]"
   ]
  },
  {
   "cell_type": "code",
   "execution_count": 91,
   "metadata": {},
   "outputs": [
    {
     "name": "stdout",
     "output_type": "stream",
     "text": [
      "73.7896\n",
      "70.4892\n",
      "92.3386\n",
      "66.9185\n",
      "168.3410\n",
      "67.6061\n",
      "78.0422\n"
     ]
    }
   ],
   "source": [
    "for x in edslstm_average_one_week_rmse_mean:\n",
    "    print('{:0.4f}'.format(x))"
   ]
  },
  {
   "cell_type": "code",
   "execution_count": 92,
   "metadata": {},
   "outputs": [],
   "source": [
    "edslstm_average_one_week_rmse_std = day_by_day_predictions_df.groupby(['start_timestamp']).std()['rmse'][:7]"
   ]
  },
  {
   "cell_type": "code",
   "execution_count": 93,
   "metadata": {},
   "outputs": [
    {
     "name": "stdout",
     "output_type": "stream",
     "text": [
      "2.5624\n",
      "3.7769\n",
      "11.6959\n",
      "6.9864\n",
      "4.4768\n",
      "18.6421\n",
      "5.2829\n"
     ]
    }
   ],
   "source": [
    "for x in edslstm_average_one_week_rmse_std:\n",
    "    print('{:0.4f}'.format(x))"
   ]
  },
  {
   "cell_type": "code",
   "execution_count": 94,
   "metadata": {},
   "outputs": [],
   "source": [
    "edslstm_average_one_week_smape_mean = 100*day_by_day_predictions_df.groupby(['start_timestamp']).mean()['smape'][:7]"
   ]
  },
  {
   "cell_type": "code",
   "execution_count": 95,
   "metadata": {},
   "outputs": [
    {
     "name": "stdout",
     "output_type": "stream",
     "text": [
      "2.0528\n",
      "2.5696\n",
      "2.6614\n",
      "2.3029\n",
      "4.6691\n",
      "2.2712\n",
      "2.8146\n"
     ]
    }
   ],
   "source": [
    "for x in edslstm_average_one_week_smape_mean:\n",
    "    print('{:0.4f}'.format(x))"
   ]
  },
  {
   "cell_type": "code",
   "execution_count": 96,
   "metadata": {},
   "outputs": [],
   "source": [
    "edslstm_average_one_week_smape_std = 100*day_by_day_predictions_df.groupby(['start_timestamp']).std()['smape'][:7]"
   ]
  },
  {
   "cell_type": "code",
   "execution_count": 97,
   "metadata": {},
   "outputs": [
    {
     "name": "stdout",
     "output_type": "stream",
     "text": [
      "0.0971\n",
      "0.1727\n",
      "0.1491\n",
      "0.2539\n",
      "0.1741\n",
      "0.7302\n",
      "0.1797\n"
     ]
    }
   ],
   "source": [
    "for x in edslstm_average_one_week_smape_std:\n",
    "    print('{:0.4f}'.format(x))"
   ]
  },
  {
   "cell_type": "code",
   "execution_count": null,
   "metadata": {},
   "outputs": [],
   "source": []
  },
  {
   "cell_type": "code",
   "execution_count": 98,
   "metadata": {},
   "outputs": [],
   "source": [
    "baseline_mae_pct = -100*(arima_one_week_mae - edslstm_average_one_week_mae_mean)/arima_one_week_mae"
   ]
  },
  {
   "cell_type": "code",
   "execution_count": 99,
   "metadata": {},
   "outputs": [
    {
     "name": "stdout",
     "output_type": "stream",
     "text": [
      "27.54\n",
      "-32.44\n",
      "-55.15\n",
      "-65.64\n",
      "13.55\n",
      "-22.34\n",
      "-18.54\n"
     ]
    }
   ],
   "source": [
    "for x in baseline_mae_pct:\n",
    "    print('{:0.2f}'.format(x))"
   ]
  },
  {
   "cell_type": "code",
   "execution_count": 100,
   "metadata": {},
   "outputs": [],
   "source": [
    "baseline_rmse_pct = -100*(arima_one_week_rmse - edslstm_average_one_week_rmse_mean)/arima_one_week_rmse"
   ]
  },
  {
   "cell_type": "code",
   "execution_count": 101,
   "metadata": {},
   "outputs": [
    {
     "name": "stdout",
     "output_type": "stream",
     "text": [
      "34.64\n",
      "-37.37\n",
      "-53.76\n",
      "-60.16\n",
      "2.38\n",
      "-28.25\n",
      "-24.22\n"
     ]
    }
   ],
   "source": [
    "for x in baseline_rmse_pct:\n",
    "    print('{:0.2f}'.format(x))"
   ]
  },
  {
   "cell_type": "code",
   "execution_count": 102,
   "metadata": {},
   "outputs": [],
   "source": [
    "baseline_smape_pct = -100*(arima_one_week_smape - edslstm_average_one_week_smape_mean)/arima_one_week_smape"
   ]
  },
  {
   "cell_type": "code",
   "execution_count": 103,
   "metadata": {},
   "outputs": [
    {
     "name": "stdout",
     "output_type": "stream",
     "text": [
      "16.72\n",
      "-29.68\n",
      "-56.07\n",
      "-68.33\n",
      "9.57\n",
      "-24.20\n",
      "-21.98\n"
     ]
    }
   ],
   "source": [
    "for x in baseline_smape_pct:\n",
    "    print('{:0.2f}'.format(x))"
   ]
  },
  {
   "cell_type": "code",
   "execution_count": null,
   "metadata": {},
   "outputs": [],
   "source": []
  },
  {
   "cell_type": "code",
   "execution_count": 102,
   "metadata": {},
   "outputs": [
    {
     "data": {
      "text/html": [
       "\n",
       "\n",
       "\n",
       "\n",
       "\n",
       "\n",
       "  <div class=\"bk-root\" id=\"ab8c649f-edc7-4560-8bbe-fcd18e4f9426\" data-root-id=\"13946\"></div>\n"
      ]
     },
     "metadata": {},
     "output_type": "display_data"
    },
    {
     "data": {
      "application/javascript": [
       "(function(root) {\n",
       "  function embed_document(root) {\n",
       "    \n",
       "  var docs_json = {\"6eceb150-1efa-4a8e-81c2-c61aeeca637d\":{\"roots\":{\"references\":[{\"attributes\":{\"below\":[{\"id\":\"13957\",\"type\":\"DatetimeAxis\"}],\"center\":[{\"id\":\"13961\",\"type\":\"Grid\"},{\"id\":\"13966\",\"type\":\"Grid\"},{\"id\":\"13991\",\"type\":\"Span\"}],\"left\":[{\"id\":\"13962\",\"type\":\"LinearAxis\"}],\"plot_height\":320,\"plot_width\":960,\"renderers\":[{\"id\":\"13984\",\"type\":\"GlyphRenderer\"},{\"id\":\"13989\",\"type\":\"GlyphRenderer\"}],\"title\":{\"id\":\"13947\",\"type\":\"Title\"},\"toolbar\":{\"id\":\"13973\",\"type\":\"Toolbar\"},\"toolbar_location\":null,\"x_range\":{\"id\":\"13980\",\"type\":\"Range1d\"},\"x_scale\":{\"id\":\"13953\",\"type\":\"LinearScale\"},\"y_range\":{\"id\":\"13951\",\"type\":\"DataRange1d\"},\"y_scale\":{\"id\":\"13955\",\"type\":\"LinearScale\"}},\"id\":\"13946\",\"subtype\":\"Figure\",\"type\":\"Plot\"},{\"attributes\":{},\"id\":\"13963\",\"type\":\"BasicTicker\"},{\"attributes\":{\"months\":[0,6]},\"id\":\"14559\",\"type\":\"MonthsTicker\"},{\"attributes\":{\"axis_label\":\"MAE [KW]\",\"axis_label_text_font_size\":{\"value\":\"14pt\"},\"formatter\":{\"id\":\"14546\",\"type\":\"BasicTickFormatter\"},\"major_label_text_font_size\":{\"value\":\"12pt\"},\"ticker\":{\"id\":\"13963\",\"type\":\"BasicTicker\"}},\"id\":\"13962\",\"type\":\"LinearAxis\"},{\"attributes\":{},\"id\":\"14562\",\"type\":\"Selection\"},{\"attributes\":{},\"id\":\"14548\",\"type\":\"DatetimeTickFormatter\"},{\"attributes\":{},\"id\":\"14560\",\"type\":\"YearsTicker\"},{\"attributes\":{\"grid_line_alpha\":0.3,\"ticker\":{\"id\":\"13958\",\"type\":\"DatetimeTicker\"}},\"id\":\"13961\",\"type\":\"Grid\"},{\"attributes\":{},\"id\":\"14561\",\"type\":\"UnionRenderers\"},{\"attributes\":{\"data_source\":{\"id\":\"13986\",\"type\":\"ColumnDataSource\"},\"glyph\":{\"id\":\"13987\",\"type\":\"Line\"},\"hover_glyph\":null,\"muted_glyph\":null,\"nonselection_glyph\":{\"id\":\"13988\",\"type\":\"Line\"},\"selection_glyph\":null,\"view\":{\"id\":\"13990\",\"type\":\"CDSView\"}},\"id\":\"13989\",\"type\":\"GlyphRenderer\"},{\"attributes\":{},\"id\":\"14546\",\"type\":\"BasicTickFormatter\"},{\"attributes\":{},\"id\":\"14563\",\"type\":\"UnionRenderers\"},{\"attributes\":{\"source\":{\"id\":\"13986\",\"type\":\"ColumnDataSource\"}},\"id\":\"13990\",\"type\":\"CDSView\"},{\"attributes\":{\"days\":[1,2,3,4,5,6,7,8,9,10,11,12,13,14,15,16,17,18,19,20,21,22,23,24,25,26,27,28,29,30,31]},\"id\":\"14552\",\"type\":\"DaysTicker\"},{\"attributes\":{\"base\":60,\"mantissas\":[1,2,5,10,15,20,30],\"max_interval\":1800000.0,\"min_interval\":1000.0,\"num_minor_ticks\":0},\"id\":\"14550\",\"type\":\"AdaptiveTicker\"},{\"attributes\":{},\"id\":\"14564\",\"type\":\"Selection\"},{\"attributes\":{\"active_drag\":\"auto\",\"active_inspect\":\"auto\",\"active_multi\":null,\"active_scroll\":\"auto\",\"active_tap\":\"auto\",\"tools\":[{\"id\":\"13967\",\"type\":\"PanTool\"},{\"id\":\"13968\",\"type\":\"WheelZoomTool\"},{\"id\":\"13969\",\"type\":\"BoxZoomTool\"},{\"id\":\"13970\",\"type\":\"SaveTool\"},{\"id\":\"13971\",\"type\":\"ResetTool\"},{\"id\":\"13972\",\"type\":\"HelpTool\"}]},\"id\":\"13973\",\"type\":\"Toolbar\"},{\"attributes\":{\"callback\":null,\"end\":1527868800000.0,\"start\":1525276800000.0},\"id\":\"13980\",\"type\":\"Range1d\"},{\"attributes\":{\"fill_alpha\":{\"value\":0.1},\"fill_color\":{\"value\":\"#1f77b4\"},\"line_alpha\":{\"value\":0.1},\"line_color\":{\"value\":\"#1f77b4\"},\"x\":{\"field\":\"x\"},\"y\":{\"field\":\"y\"}},\"id\":\"13983\",\"type\":\"Circle\"},{\"attributes\":{\"bottom_units\":\"screen\",\"fill_alpha\":{\"value\":0.5},\"fill_color\":{\"value\":\"lightgrey\"},\"left_units\":\"screen\",\"level\":\"overlay\",\"line_alpha\":{\"value\":1.0},\"line_color\":{\"value\":\"black\"},\"line_dash\":[4,4],\"line_width\":{\"value\":2},\"render_mode\":\"css\",\"right_units\":\"screen\",\"top_units\":\"screen\"},\"id\":\"14565\",\"type\":\"BoxAnnotation\"},{\"attributes\":{},\"id\":\"13967\",\"type\":\"PanTool\"},{\"attributes\":{\"mantissas\":[1,2,5],\"max_interval\":500.0,\"num_minor_ticks\":0},\"id\":\"14549\",\"type\":\"AdaptiveTicker\"},{\"attributes\":{\"text\":\"EDSLSTM Performance: MAE for 28 Consecutive 24-hour Prediction Intervals.\",\"text_font_size\":{\"value\":\"14pt\"}},\"id\":\"13947\",\"type\":\"Title\"},{\"attributes\":{},\"id\":\"13968\",\"type\":\"WheelZoomTool\"},{\"attributes\":{\"base\":24,\"mantissas\":[1,2,4,6,8,12],\"max_interval\":43200000.0,\"min_interval\":3600000.0,\"num_minor_ticks\":0},\"id\":\"14551\",\"type\":\"AdaptiveTicker\"},{\"attributes\":{},\"id\":\"13953\",\"type\":\"LinearScale\"},{\"attributes\":{\"overlay\":{\"id\":\"14565\",\"type\":\"BoxAnnotation\"}},\"id\":\"13969\",\"type\":\"BoxZoomTool\"},{\"attributes\":{\"line_dash\":[6],\"line_width\":{\"value\":2},\"location\":100.19295372623812},\"id\":\"13991\",\"type\":\"Span\"},{\"attributes\":{\"fill_color\":{\"value\":null},\"x\":{\"field\":\"x\"},\"y\":{\"field\":\"y\"}},\"id\":\"13982\",\"type\":\"Circle\"},{\"attributes\":{},\"id\":\"13970\",\"type\":\"SaveTool\"},{\"attributes\":{},\"id\":\"13971\",\"type\":\"ResetTool\"},{\"attributes\":{\"days\":[1,4,7,10,13,16,19,22,25,28]},\"id\":\"14553\",\"type\":\"DaysTicker\"},{\"attributes\":{\"months\":[0,4,8]},\"id\":\"14558\",\"type\":\"MonthsTicker\"},{\"attributes\":{\"callback\":null},\"id\":\"13951\",\"type\":\"DataRange1d\"},{\"attributes\":{},\"id\":\"13972\",\"type\":\"HelpTool\"},{\"attributes\":{\"days\":[1,8,15,22]},\"id\":\"14554\",\"type\":\"DaysTicker\"},{\"attributes\":{},\"id\":\"13955\",\"type\":\"LinearScale\"},{\"attributes\":{\"callback\":null,\"data\":{\"x\":{\"__ndarray__\":\"AAAAtWsydkIAAMAavjJ2QgAAgIAQM3ZCAABA5mIzdkIAAABMtTN2QgAAwLEHNHZCAACAF1o0dkIAAEB9rDR2QgAAAOP+NHZCAADASFE1dkIAAICuozV2QgAAQBT2NXZCAAAAekg2dkIAAMDfmjZ2QgAAgEXtNnZCAABAqz83dkIAAAARkjd2QgAAwHbkN3ZCAACA3DY4dkIAAEBCiTh2QgAAAKjbOHZCAADADS45dkIAAIBzgDl2QgAAQNnSOXZCAAAAPyU6dkIAAMCkdzp2QgAAgArKOnZCAABAcBw7dkI=\",\"dtype\":\"float64\",\"shape\":[28]},\"y\":{\"__ndarray__\":\"zczMzP1CS0CIiIhIh+tPQKuqqkp+Z1BAZmZmJoCHS0BlZmZGhKpdQIiIiIiW20tAVlVVdQWPUEDOzMwMsJ5SQN3d3d3/iV1AiIiIyFblV0BFRERkDp9bQN7d3d0UZVFA7+7u7lCQR0BmZmYmrGVKQO7u7i4H8U1A7+7uzqc8U0B3d3c3EzBIQAAAAGBhUldA/v//f2LMTUBmZmaGOu5fQN7d3Y15qGFAioiISI9cVkDe3d09YMdYQGZmZiZXO01AREREhE6yUUDe3d3dig9eQGZmZgbZjltAq6qqSsEKV0A=\",\"dtype\":\"float64\",\"shape\":[28]}},\"selected\":{\"id\":\"14564\",\"type\":\"Selection\"},\"selection_policy\":{\"id\":\"14563\",\"type\":\"UnionRenderers\"}},\"id\":\"13986\",\"type\":\"ColumnDataSource\"},{\"attributes\":{\"days\":[1,15]},\"id\":\"14555\",\"type\":\"DaysTicker\"},{\"attributes\":{\"axis_label\":\"Date\",\"axis_label_text_font_size\":{\"value\":\"14pt\"},\"formatter\":{\"id\":\"14548\",\"type\":\"DatetimeTickFormatter\"},\"major_label_text_font_size\":{\"value\":\"12pt\"},\"ticker\":{\"id\":\"13958\",\"type\":\"DatetimeTicker\"}},\"id\":\"13957\",\"type\":\"DatetimeAxis\"},{\"attributes\":{\"months\":[0,1,2,3,4,5,6,7,8,9,10,11]},\"id\":\"14556\",\"type\":\"MonthsTicker\"},{\"attributes\":{\"dimension\":1,\"grid_line_alpha\":0.3,\"ticker\":{\"id\":\"13963\",\"type\":\"BasicTicker\"}},\"id\":\"13966\",\"type\":\"Grid\"},{\"attributes\":{\"line_alpha\":0.1,\"line_color\":\"#1f77b4\",\"x\":{\"field\":\"x\"},\"y\":{\"field\":\"y\"}},\"id\":\"13988\",\"type\":\"Line\"},{\"attributes\":{\"num_minor_ticks\":5,\"tickers\":[{\"id\":\"14549\",\"type\":\"AdaptiveTicker\"},{\"id\":\"14550\",\"type\":\"AdaptiveTicker\"},{\"id\":\"14551\",\"type\":\"AdaptiveTicker\"},{\"id\":\"14552\",\"type\":\"DaysTicker\"},{\"id\":\"14553\",\"type\":\"DaysTicker\"},{\"id\":\"14554\",\"type\":\"DaysTicker\"},{\"id\":\"14555\",\"type\":\"DaysTicker\"},{\"id\":\"14556\",\"type\":\"MonthsTicker\"},{\"id\":\"14557\",\"type\":\"MonthsTicker\"},{\"id\":\"14558\",\"type\":\"MonthsTicker\"},{\"id\":\"14559\",\"type\":\"MonthsTicker\"},{\"id\":\"14560\",\"type\":\"YearsTicker\"}]},\"id\":\"13958\",\"type\":\"DatetimeTicker\"},{\"attributes\":{\"source\":{\"id\":\"13981\",\"type\":\"ColumnDataSource\"}},\"id\":\"13985\",\"type\":\"CDSView\"},{\"attributes\":{\"x\":{\"field\":\"x\"},\"y\":{\"field\":\"y\"}},\"id\":\"13987\",\"type\":\"Line\"},{\"attributes\":{\"months\":[0,2,4,6,8,10]},\"id\":\"14557\",\"type\":\"MonthsTicker\"},{\"attributes\":{\"callback\":null,\"data\":{\"x\":{\"__ndarray__\":\"AAAAtWsydkIAAMAavjJ2QgAAgIAQM3ZCAABA5mIzdkIAAABMtTN2QgAAwLEHNHZCAACAF1o0dkIAAEB9rDR2QgAAAOP+NHZCAADASFE1dkIAAICuozV2QgAAQBT2NXZCAAAAekg2dkIAAMDfmjZ2QgAAgEXtNnZCAABAqz83dkIAAAARkjd2QgAAwHbkN3ZCAACA3DY4dkIAAEBCiTh2QgAAAKjbOHZCAADADS45dkIAAIBzgDl2QgAAQNnSOXZCAAAAPyU6dkIAAMCkdzp2QgAAgArKOnZCAABAcBw7dkI=\",\"dtype\":\"float64\",\"shape\":[28]},\"y\":{\"__ndarray__\":\"zczMzP1CS0CIiIhIh+tPQKuqqkp+Z1BAZmZmJoCHS0BlZmZGhKpdQIiIiIiW20tAVlVVdQWPUEDOzMwMsJ5SQN3d3d3/iV1AiIiIyFblV0BFRERkDp9bQN7d3d0UZVFA7+7u7lCQR0BmZmYmrGVKQO7u7i4H8U1A7+7uzqc8U0B3d3c3EzBIQAAAAGBhUldA/v//f2LMTUBmZmaGOu5fQN7d3Y15qGFAioiISI9cVkDe3d09YMdYQGZmZiZXO01AREREhE6yUUDe3d3dig9eQGZmZgbZjltAq6qqSsEKV0A=\",\"dtype\":\"float64\",\"shape\":[28]}},\"selected\":{\"id\":\"14562\",\"type\":\"Selection\"},\"selection_policy\":{\"id\":\"14561\",\"type\":\"UnionRenderers\"}},\"id\":\"13981\",\"type\":\"ColumnDataSource\"},{\"attributes\":{\"data_source\":{\"id\":\"13981\",\"type\":\"ColumnDataSource\"},\"glyph\":{\"id\":\"13982\",\"type\":\"Circle\"},\"hover_glyph\":null,\"muted_glyph\":null,\"nonselection_glyph\":{\"id\":\"13983\",\"type\":\"Circle\"},\"selection_glyph\":null,\"view\":{\"id\":\"13985\",\"type\":\"CDSView\"}},\"id\":\"13984\",\"type\":\"GlyphRenderer\"}],\"root_ids\":[\"13946\"]},\"title\":\"Bokeh Application\",\"version\":\"1.4.0\"}};\n",
       "  var render_items = [{\"docid\":\"6eceb150-1efa-4a8e-81c2-c61aeeca637d\",\"roots\":{\"13946\":\"ab8c649f-edc7-4560-8bbe-fcd18e4f9426\"}}];\n",
       "  root.Bokeh.embed.embed_items_notebook(docs_json, render_items);\n",
       "\n",
       "  }\n",
       "  if (root.Bokeh !== undefined) {\n",
       "    embed_document(root);\n",
       "  } else {\n",
       "    var attempts = 0;\n",
       "    var timer = setInterval(function(root) {\n",
       "      if (root.Bokeh !== undefined) {\n",
       "        clearInterval(timer);\n",
       "        embed_document(root);\n",
       "      } else {\n",
       "        attempts++;\n",
       "        if (attempts > 100) {\n",
       "          clearInterval(timer);\n",
       "          console.log(\"Bokeh: ERROR: Unable to run BokehJS code because BokehJS library is missing\");\n",
       "        }\n",
       "      }\n",
       "    }, 10, root)\n",
       "  }\n",
       "})(window);"
      ],
      "application/vnd.bokehjs_exec.v0+json": ""
     },
     "metadata": {
      "application/vnd.bokehjs_exec.v0+json": {
       "id": "13946"
      }
     },
     "output_type": "display_data"
    }
   ],
   "source": [
    "size = 4\n",
    "\n",
    "plots['edslstm_week_metric'] = figure(\n",
    "    x_axis_type='datetime',\n",
    "    plot_width=960,\n",
    "    plot_height=320,\n",
    "    title='EDSLSTM Performance: {} for {} Consecutive 24-hour Prediction Intervals.'\\\n",
    "    .format('MAE', num_days),\n",
    "    toolbar_location=None,\n",
    ")\n",
    "\n",
    "plots['edslstm_week_metric'].grid.grid_line_alpha=0.3\n",
    "\n",
    "# a custom x range to visuallly improve the the plot\n",
    "plots['edslstm_week_metric'].x_range = Range1d(\n",
    "    start=pd.to_datetime('2018-05-02 16:00:00'),\n",
    "    end=pd.to_datetime('2018-06-01 16:00:00')\n",
    ")\n",
    "\n",
    "plots['edslstm_week_metric'].xaxis.axis_label = 'Date'\n",
    "plots['edslstm_week_metric'].yaxis.axis_label = 'MAE [KW]'\n",
    "\n",
    "plots['edslstm_week_metric'].title.text_font_size = '14pt'\n",
    "\n",
    "plots['edslstm_week_metric'].xaxis.axis_label_text_font_size = \"14pt\"\n",
    "plots['edslstm_week_metric'].yaxis.axis_label_text_font_size = \"14pt\"\n",
    "\n",
    "plots['edslstm_week_metric'].xaxis.major_label_text_font_size = \"12pt\"\n",
    "plots['edslstm_week_metric'].yaxis.major_label_text_font_size = \"12pt\"\n",
    "\n",
    "\n",
    "plots['edslstm_week_metric'].circle(\n",
    "    x=day_by_day_predictions_df.groupby(['start_timestamp']).mean().index,\n",
    "    y=day_by_day_predictions_df.groupby(['start_timestamp']).mean()['mae'],\n",
    "    color='black',\n",
    "    size=size,\n",
    "    fill_color=None,\n",
    ")\n",
    "plots['edslstm_week_metric'].line(\n",
    "    x=day_by_day_predictions_df.groupby(['start_timestamp']).mean().index,\n",
    "    y=day_by_day_predictions_df.groupby(['start_timestamp']).mean()['mae'],\n",
    "    color='black',\n",
    ")\n",
    "\n",
    "arima_one_week_mae_average = Span(\n",
    "    location=np.mean(np.array(arima_one_week_mae)),\n",
    "    dimension='width',\n",
    "    line_color='black',\n",
    "    line_dash='dashed',\n",
    "    line_width=2)\n",
    "\n",
    "plots['edslstm_week_metric'].add_layout(arima_one_week_mae_average)\n",
    "\n",
    "show(plots['edslstm_week_metric'])"
   ]
  },
  {
   "cell_type": "code",
   "execution_count": 103,
   "metadata": {},
   "outputs": [
    {
     "data": {
      "text/html": [
       "\n",
       "\n",
       "\n",
       "\n",
       "\n",
       "\n",
       "  <div class=\"bk-root\" id=\"c5ec52c7-ccc6-40b4-bdb4-c823db96e4e7\" data-root-id=\"14698\"></div>\n"
      ]
     },
     "metadata": {},
     "output_type": "display_data"
    },
    {
     "data": {
      "application/javascript": [
       "(function(root) {\n",
       "  function embed_document(root) {\n",
       "    \n",
       "  var docs_json = {\"1cfb22a8-0cb1-4690-b99e-8cf19f2e6705\":{\"roots\":{\"references\":[{\"attributes\":{\"below\":[{\"id\":\"14709\",\"type\":\"DatetimeAxis\"}],\"center\":[{\"id\":\"14713\",\"type\":\"Grid\"},{\"id\":\"14718\",\"type\":\"Grid\"},{\"id\":\"14743\",\"type\":\"Span\"}],\"left\":[{\"id\":\"14714\",\"type\":\"LinearAxis\"}],\"plot_height\":320,\"plot_width\":960,\"renderers\":[{\"id\":\"14736\",\"type\":\"GlyphRenderer\"},{\"id\":\"14741\",\"type\":\"GlyphRenderer\"}],\"title\":{\"id\":\"14699\",\"type\":\"Title\"},\"toolbar\":{\"id\":\"14725\",\"type\":\"Toolbar\"},\"toolbar_location\":null,\"x_range\":{\"id\":\"14732\",\"type\":\"Range1d\"},\"x_scale\":{\"id\":\"14705\",\"type\":\"LinearScale\"},\"y_range\":{\"id\":\"14703\",\"type\":\"DataRange1d\"},\"y_scale\":{\"id\":\"14707\",\"type\":\"LinearScale\"}},\"id\":\"14698\",\"subtype\":\"Figure\",\"type\":\"Plot\"},{\"attributes\":{\"source\":{\"id\":\"14738\",\"type\":\"ColumnDataSource\"}},\"id\":\"14742\",\"type\":\"CDSView\"},{\"attributes\":{\"base\":60,\"mantissas\":[1,2,5,10,15,20,30],\"max_interval\":1800000.0,\"min_interval\":1000.0,\"num_minor_ticks\":0},\"id\":\"15324\",\"type\":\"AdaptiveTicker\"},{\"attributes\":{},\"id\":\"15338\",\"type\":\"Selection\"},{\"attributes\":{\"active_drag\":\"auto\",\"active_inspect\":\"auto\",\"active_multi\":null,\"active_scroll\":\"auto\",\"active_tap\":\"auto\",\"tools\":[{\"id\":\"14719\",\"type\":\"PanTool\"},{\"id\":\"14720\",\"type\":\"WheelZoomTool\"},{\"id\":\"14721\",\"type\":\"BoxZoomTool\"},{\"id\":\"14722\",\"type\":\"SaveTool\"},{\"id\":\"14723\",\"type\":\"ResetTool\"},{\"id\":\"14724\",\"type\":\"HelpTool\"}]},\"id\":\"14725\",\"type\":\"Toolbar\"},{\"attributes\":{\"mantissas\":[1,2,5],\"max_interval\":500.0,\"num_minor_ticks\":0},\"id\":\"15323\",\"type\":\"AdaptiveTicker\"},{\"attributes\":{\"callback\":null,\"end\":1527868800000.0,\"start\":1525276800000.0},\"id\":\"14732\",\"type\":\"Range1d\"},{\"attributes\":{\"bottom_units\":\"screen\",\"fill_alpha\":{\"value\":0.5},\"fill_color\":{\"value\":\"lightgrey\"},\"left_units\":\"screen\",\"level\":\"overlay\",\"line_alpha\":{\"value\":1.0},\"line_color\":{\"value\":\"black\"},\"line_dash\":[4,4],\"line_width\":{\"value\":2},\"render_mode\":\"css\",\"right_units\":\"screen\",\"top_units\":\"screen\"},\"id\":\"15339\",\"type\":\"BoxAnnotation\"},{\"attributes\":{\"line_alpha\":0.1,\"line_color\":\"#1f77b4\",\"x\":{\"field\":\"x\"},\"y\":{\"field\":\"y\"}},\"id\":\"14740\",\"type\":\"Line\"},{\"attributes\":{},\"id\":\"14719\",\"type\":\"PanTool\"},{\"attributes\":{\"text\":\"EDSLSTM Performance: RMSE for 28 Consecutive 24-hour Prediction Intervals.\",\"text_font_size\":{\"value\":\"14pt\"}},\"id\":\"14699\",\"type\":\"Title\"},{\"attributes\":{},\"id\":\"14720\",\"type\":\"WheelZoomTool\"},{\"attributes\":{},\"id\":\"14705\",\"type\":\"LinearScale\"},{\"attributes\":{\"source\":{\"id\":\"14733\",\"type\":\"ColumnDataSource\"}},\"id\":\"14737\",\"type\":\"CDSView\"},{\"attributes\":{\"overlay\":{\"id\":\"15339\",\"type\":\"BoxAnnotation\"}},\"id\":\"14721\",\"type\":\"BoxZoomTool\"},{\"attributes\":{\"days\":[1,2,3,4,5,6,7,8,9,10,11,12,13,14,15,16,17,18,19,20,21,22,23,24,25,26,27,28,29,30,31]},\"id\":\"15326\",\"type\":\"DaysTicker\"},{\"attributes\":{\"base\":24,\"mantissas\":[1,2,4,6,8,12],\"max_interval\":43200000.0,\"min_interval\":3600000.0,\"num_minor_ticks\":0},\"id\":\"15325\",\"type\":\"AdaptiveTicker\"},{\"attributes\":{},\"id\":\"14722\",\"type\":\"SaveTool\"},{\"attributes\":{\"days\":[1,4,7,10,13,16,19,22,25,28]},\"id\":\"15327\",\"type\":\"DaysTicker\"},{\"attributes\":{\"x\":{\"field\":\"x\"},\"y\":{\"field\":\"y\"}},\"id\":\"14739\",\"type\":\"Line\"},{\"attributes\":{},\"id\":\"14723\",\"type\":\"ResetTool\"},{\"attributes\":{\"days\":[1,8,15,22]},\"id\":\"15328\",\"type\":\"DaysTicker\"},{\"attributes\":{},\"id\":\"15337\",\"type\":\"UnionRenderers\"},{\"attributes\":{\"callback\":null,\"data\":{\"x\":{\"__ndarray__\":\"AAAAtWsydkIAAMAavjJ2QgAAgIAQM3ZCAABA5mIzdkIAAABMtTN2QgAAwLEHNHZCAACAF1o0dkIAAEB9rDR2QgAAAOP+NHZCAADASFE1dkIAAICuozV2QgAAQBT2NXZCAAAAekg2dkIAAMDfmjZ2QgAAgEXtNnZCAABAqz83dkIAAAARkjd2QgAAwHbkN3ZCAACA3DY4dkIAAEBCiTh2QgAAAKjbOHZCAADADS45dkIAAIBzgDl2QgAAQNnSOXZCAAAAPyU6dkIAAMCkdzp2QgAAgArKOnZCAABAcBw7dkI=\",\"dtype\":\"float64\",\"shape\":[28]},\"y\":{\"__ndarray__\":\"MKDDHYhyUkDUeafCT59RQErw6IKrFVdACxDOgsm6UECfAUUc6QplQPva2y/K5lBAHfdsq7KCU0D8mkTQkupVQK3h47LybmBAnU+4z+WdXUBiIHxptD9gQG3Hl//ON1ZASHKcl9jLTUC14sjGxqNQQNLcS2v2dVJAvmJWJyseV0BojfCJoq1NQC2L6TBSj1xAL+7I4g7oUkABNwZVQZBhQLAR8i2R7mRA5TtinR4uW0BuMOBbLwFdQAqMqgWzkVJA/uh9pnU7VEBjGuia1lJiQK5/2c2z4l5A2Ecjj//aXEA=\",\"dtype\":\"float64\",\"shape\":[28]}},\"selected\":{\"id\":\"15336\",\"type\":\"Selection\"},\"selection_policy\":{\"id\":\"15335\",\"type\":\"UnionRenderers\"}},\"id\":\"14733\",\"type\":\"ColumnDataSource\"},{\"attributes\":{\"days\":[1,15]},\"id\":\"15329\",\"type\":\"DaysTicker\"},{\"attributes\":{\"callback\":null},\"id\":\"14703\",\"type\":\"DataRange1d\"},{\"attributes\":{},\"id\":\"14724\",\"type\":\"HelpTool\"},{\"attributes\":{\"months\":[0,1,2,3,4,5,6,7,8,9,10,11]},\"id\":\"15330\",\"type\":\"MonthsTicker\"},{\"attributes\":{},\"id\":\"14707\",\"type\":\"LinearScale\"},{\"attributes\":{\"data_source\":{\"id\":\"14738\",\"type\":\"ColumnDataSource\"},\"glyph\":{\"id\":\"14739\",\"type\":\"Line\"},\"hover_glyph\":null,\"muted_glyph\":null,\"nonselection_glyph\":{\"id\":\"14740\",\"type\":\"Line\"},\"selection_glyph\":null,\"view\":{\"id\":\"14742\",\"type\":\"CDSView\"}},\"id\":\"14741\",\"type\":\"GlyphRenderer\"},{\"attributes\":{\"fill_color\":{\"value\":null},\"x\":{\"field\":\"x\"},\"y\":{\"field\":\"y\"}},\"id\":\"14734\",\"type\":\"Circle\"},{\"attributes\":{\"months\":[0,2,4,6,8,10]},\"id\":\"15331\",\"type\":\"MonthsTicker\"},{\"attributes\":{\"line_dash\":[6],\"line_width\":{\"value\":2},\"location\":128.0887731259797},\"id\":\"14743\",\"type\":\"Span\"},{\"attributes\":{\"axis_label\":\"Date\",\"axis_label_text_font_size\":{\"value\":\"14pt\"},\"formatter\":{\"id\":\"15322\",\"type\":\"DatetimeTickFormatter\"},\"major_label_text_font_size\":{\"value\":\"12pt\"},\"ticker\":{\"id\":\"14710\",\"type\":\"DatetimeTicker\"}},\"id\":\"14709\",\"type\":\"DatetimeAxis\"},{\"attributes\":{\"dimension\":1,\"grid_line_alpha\":0.3,\"ticker\":{\"id\":\"14715\",\"type\":\"BasicTicker\"}},\"id\":\"14718\",\"type\":\"Grid\"},{\"attributes\":{\"months\":[0,4,8]},\"id\":\"15332\",\"type\":\"MonthsTicker\"},{\"attributes\":{\"num_minor_ticks\":5,\"tickers\":[{\"id\":\"15323\",\"type\":\"AdaptiveTicker\"},{\"id\":\"15324\",\"type\":\"AdaptiveTicker\"},{\"id\":\"15325\",\"type\":\"AdaptiveTicker\"},{\"id\":\"15326\",\"type\":\"DaysTicker\"},{\"id\":\"15327\",\"type\":\"DaysTicker\"},{\"id\":\"15328\",\"type\":\"DaysTicker\"},{\"id\":\"15329\",\"type\":\"DaysTicker\"},{\"id\":\"15330\",\"type\":\"MonthsTicker\"},{\"id\":\"15331\",\"type\":\"MonthsTicker\"},{\"id\":\"15332\",\"type\":\"MonthsTicker\"},{\"id\":\"15333\",\"type\":\"MonthsTicker\"},{\"id\":\"15334\",\"type\":\"YearsTicker\"}]},\"id\":\"14710\",\"type\":\"DatetimeTicker\"},{\"attributes\":{\"months\":[0,6]},\"id\":\"15333\",\"type\":\"MonthsTicker\"},{\"attributes\":{\"grid_line_alpha\":0.3,\"ticker\":{\"id\":\"14710\",\"type\":\"DatetimeTicker\"}},\"id\":\"14713\",\"type\":\"Grid\"},{\"attributes\":{},\"id\":\"14715\",\"type\":\"BasicTicker\"},{\"attributes\":{},\"id\":\"15320\",\"type\":\"BasicTickFormatter\"},{\"attributes\":{\"axis_label\":\"RMSE [KW]\",\"axis_label_text_font_size\":{\"value\":\"14pt\"},\"formatter\":{\"id\":\"15320\",\"type\":\"BasicTickFormatter\"},\"major_label_text_font_size\":{\"value\":\"12pt\"},\"ticker\":{\"id\":\"14715\",\"type\":\"BasicTicker\"}},\"id\":\"14714\",\"type\":\"LinearAxis\"},{\"attributes\":{\"callback\":null,\"data\":{\"x\":{\"__ndarray__\":\"AAAAtWsydkIAAMAavjJ2QgAAgIAQM3ZCAABA5mIzdkIAAABMtTN2QgAAwLEHNHZCAACAF1o0dkIAAEB9rDR2QgAAAOP+NHZCAADASFE1dkIAAICuozV2QgAAQBT2NXZCAAAAekg2dkIAAMDfmjZ2QgAAgEXtNnZCAABAqz83dkIAAAARkjd2QgAAwHbkN3ZCAACA3DY4dkIAAEBCiTh2QgAAAKjbOHZCAADADS45dkIAAIBzgDl2QgAAQNnSOXZCAAAAPyU6dkIAAMCkdzp2QgAAgArKOnZCAABAcBw7dkI=\",\"dtype\":\"float64\",\"shape\":[28]},\"y\":{\"__ndarray__\":\"MKDDHYhyUkDUeafCT59RQErw6IKrFVdACxDOgsm6UECfAUUc6QplQPva2y/K5lBAHfdsq7KCU0D8mkTQkupVQK3h47LybmBAnU+4z+WdXUBiIHxptD9gQG3Hl//ON1ZASHKcl9jLTUC14sjGxqNQQNLcS2v2dVJAvmJWJyseV0BojfCJoq1NQC2L6TBSj1xAL+7I4g7oUkABNwZVQZBhQLAR8i2R7mRA5TtinR4uW0BuMOBbLwFdQAqMqgWzkVJA/uh9pnU7VEBjGuia1lJiQK5/2c2z4l5A2Ecjj//aXEA=\",\"dtype\":\"float64\",\"shape\":[28]}},\"selected\":{\"id\":\"15338\",\"type\":\"Selection\"},\"selection_policy\":{\"id\":\"15337\",\"type\":\"UnionRenderers\"}},\"id\":\"14738\",\"type\":\"ColumnDataSource\"},{\"attributes\":{},\"id\":\"15336\",\"type\":\"Selection\"},{\"attributes\":{\"data_source\":{\"id\":\"14733\",\"type\":\"ColumnDataSource\"},\"glyph\":{\"id\":\"14734\",\"type\":\"Circle\"},\"hover_glyph\":null,\"muted_glyph\":null,\"nonselection_glyph\":{\"id\":\"14735\",\"type\":\"Circle\"},\"selection_glyph\":null,\"view\":{\"id\":\"14737\",\"type\":\"CDSView\"}},\"id\":\"14736\",\"type\":\"GlyphRenderer\"},{\"attributes\":{},\"id\":\"15334\",\"type\":\"YearsTicker\"},{\"attributes\":{\"fill_alpha\":{\"value\":0.1},\"fill_color\":{\"value\":\"#1f77b4\"},\"line_alpha\":{\"value\":0.1},\"line_color\":{\"value\":\"#1f77b4\"},\"x\":{\"field\":\"x\"},\"y\":{\"field\":\"y\"}},\"id\":\"14735\",\"type\":\"Circle\"},{\"attributes\":{},\"id\":\"15335\",\"type\":\"UnionRenderers\"},{\"attributes\":{},\"id\":\"15322\",\"type\":\"DatetimeTickFormatter\"}],\"root_ids\":[\"14698\"]},\"title\":\"Bokeh Application\",\"version\":\"1.4.0\"}};\n",
       "  var render_items = [{\"docid\":\"1cfb22a8-0cb1-4690-b99e-8cf19f2e6705\",\"roots\":{\"14698\":\"c5ec52c7-ccc6-40b4-bdb4-c823db96e4e7\"}}];\n",
       "  root.Bokeh.embed.embed_items_notebook(docs_json, render_items);\n",
       "\n",
       "  }\n",
       "  if (root.Bokeh !== undefined) {\n",
       "    embed_document(root);\n",
       "  } else {\n",
       "    var attempts = 0;\n",
       "    var timer = setInterval(function(root) {\n",
       "      if (root.Bokeh !== undefined) {\n",
       "        clearInterval(timer);\n",
       "        embed_document(root);\n",
       "      } else {\n",
       "        attempts++;\n",
       "        if (attempts > 100) {\n",
       "          clearInterval(timer);\n",
       "          console.log(\"Bokeh: ERROR: Unable to run BokehJS code because BokehJS library is missing\");\n",
       "        }\n",
       "      }\n",
       "    }, 10, root)\n",
       "  }\n",
       "})(window);"
      ],
      "application/vnd.bokehjs_exec.v0+json": ""
     },
     "metadata": {
      "application/vnd.bokehjs_exec.v0+json": {
       "id": "14698"
      }
     },
     "output_type": "display_data"
    }
   ],
   "source": [
    "size = 4\n",
    "\n",
    "plots['edslstm_week_metric'] = figure(\n",
    "    x_axis_type='datetime',\n",
    "    plot_width=960,\n",
    "    plot_height=320,\n",
    "    title='EDSLSTM Performance: {} for {} Consecutive 24-hour Prediction Intervals.'\\\n",
    "    .format('RMSE', num_days),\n",
    "    toolbar_location=None,\n",
    ")\n",
    "\n",
    "plots['edslstm_week_metric'].grid.grid_line_alpha=0.3\n",
    "\n",
    "# a custom x range to visuallly improve the the plot\n",
    "plots['edslstm_week_metric'].x_range = Range1d(\n",
    "    start=pd.to_datetime('2018-05-02 16:00:00'),\n",
    "    end=pd.to_datetime('2018-06-01 16:00:00')\n",
    ")\n",
    "\n",
    "plots['edslstm_week_metric'].title.text_font_size = '14pt'\n",
    "\n",
    "plots['edslstm_week_metric'].xaxis.axis_label_text_font_size = \"14pt\"\n",
    "plots['edslstm_week_metric'].yaxis.axis_label_text_font_size = \"14pt\"\n",
    "\n",
    "plots['edslstm_week_metric'].xaxis.major_label_text_font_size = \"12pt\"\n",
    "plots['edslstm_week_metric'].yaxis.major_label_text_font_size = \"12pt\"\n",
    "\n",
    "plots['edslstm_week_metric'].xaxis.axis_label = 'Date'\n",
    "plots['edslstm_week_metric'].yaxis.axis_label = 'RMSE [KW]'\n",
    "\n",
    "plots['edslstm_week_metric'].circle(\n",
    "    x=day_by_day_predictions_df.groupby(['start_timestamp']).mean().index,\n",
    "    y=day_by_day_predictions_df.groupby(['start_timestamp']).mean()['rmse'],\n",
    "    color='black',\n",
    "    size=size,\n",
    "    fill_color=None,\n",
    ")\n",
    "plots['edslstm_week_metric'].line(\n",
    "    x=day_by_day_predictions_df.groupby(['start_timestamp']).mean().index,\n",
    "    y=day_by_day_predictions_df.groupby(['start_timestamp']).mean()['rmse'],\n",
    "    color='black',\n",
    ")\n",
    "\n",
    "arima_one_week_rmse_average = Span(\n",
    "    location=np.mean(np.array(arima_one_week_rmse)),\n",
    "    dimension='width',\n",
    "    line_color='black',\n",
    "    line_dash='dashed',\n",
    "    line_width=2)\n",
    "\n",
    "plots['edslstm_week_metric'].add_layout(arima_one_week_rmse_average)\n",
    "\n",
    "\n",
    "show(plots['edslstm_week_metric'])"
   ]
  },
  {
   "cell_type": "code",
   "execution_count": 104,
   "metadata": {},
   "outputs": [
    {
     "data": {
      "text/html": [
       "\n",
       "\n",
       "\n",
       "\n",
       "\n",
       "\n",
       "  <div class=\"bk-root\" id=\"a12ebce4-8123-4432-becc-c4964b4fec21\" data-root-id=\"15472\"></div>\n"
      ]
     },
     "metadata": {},
     "output_type": "display_data"
    },
    {
     "data": {
      "application/javascript": [
       "(function(root) {\n",
       "  function embed_document(root) {\n",
       "    \n",
       "  var docs_json = {\"bbaba29e-d039-4210-9a19-a027904884a3\":{\"roots\":{\"references\":[{\"attributes\":{\"below\":[{\"id\":\"15483\",\"type\":\"DatetimeAxis\"}],\"center\":[{\"id\":\"15487\",\"type\":\"Grid\"},{\"id\":\"15492\",\"type\":\"Grid\"},{\"id\":\"15517\",\"type\":\"Span\"}],\"left\":[{\"id\":\"15488\",\"type\":\"LinearAxis\"}],\"plot_height\":320,\"plot_width\":960,\"renderers\":[{\"id\":\"15510\",\"type\":\"GlyphRenderer\"},{\"id\":\"15515\",\"type\":\"GlyphRenderer\"}],\"title\":{\"id\":\"15473\",\"type\":\"Title\"},\"toolbar\":{\"id\":\"15499\",\"type\":\"Toolbar\"},\"toolbar_location\":null,\"x_range\":{\"id\":\"15506\",\"type\":\"Range1d\"},\"x_scale\":{\"id\":\"15479\",\"type\":\"LinearScale\"},\"y_range\":{\"id\":\"15477\",\"type\":\"DataRange1d\"},\"y_scale\":{\"id\":\"15481\",\"type\":\"LinearScale\"}},\"id\":\"15472\",\"subtype\":\"Figure\",\"type\":\"Plot\"},{\"attributes\":{\"bottom_units\":\"screen\",\"fill_alpha\":{\"value\":0.5},\"fill_color\":{\"value\":\"lightgrey\"},\"left_units\":\"screen\",\"level\":\"overlay\",\"line_alpha\":{\"value\":1.0},\"line_color\":{\"value\":\"black\"},\"line_dash\":[4,4],\"line_width\":{\"value\":2},\"render_mode\":\"css\",\"right_units\":\"screen\",\"top_units\":\"screen\"},\"id\":\"16135\",\"type\":\"BoxAnnotation\"},{\"attributes\":{\"active_drag\":\"auto\",\"active_inspect\":\"auto\",\"active_multi\":null,\"active_scroll\":\"auto\",\"active_tap\":\"auto\",\"tools\":[{\"id\":\"15493\",\"type\":\"PanTool\"},{\"id\":\"15494\",\"type\":\"WheelZoomTool\"},{\"id\":\"15495\",\"type\":\"BoxZoomTool\"},{\"id\":\"15496\",\"type\":\"SaveTool\"},{\"id\":\"15497\",\"type\":\"ResetTool\"},{\"id\":\"15498\",\"type\":\"HelpTool\"}]},\"id\":\"15499\",\"type\":\"Toolbar\"},{\"attributes\":{\"callback\":null,\"data\":{\"x\":{\"__ndarray__\":\"AAAAtWsydkIAAMAavjJ2QgAAgIAQM3ZCAABA5mIzdkIAAABMtTN2QgAAwLEHNHZCAACAF1o0dkIAAEB9rDR2QgAAAOP+NHZCAADASFE1dkIAAICuozV2QgAAQBT2NXZCAAAAekg2dkIAAMDfmjZ2QgAAgEXtNnZCAABAqz83dkIAAAARkjd2QgAAwHbkN3ZCAACA3DY4dkIAAEBCiTh2QgAAAKjbOHZCAADADS45dkIAAIBzgDl2QgAAQNnSOXZCAAAAPyU6dkIAAMCkdzp2QgAAgArKOnZCAABAcBw7dkI=\",\"dtype\":\"float64\",\"shape\":[28]},\"y\":{\"__ndarray__\":\"dKPUjB1sAECCUEwsdY4EQEMmbt6eSgVAxm7BLFlsAkBfkWPpJq0SQHAbx253KwJAA9/yUUmEBkA49Pj+f3UKQIS6Dh3a3RRAohQsQqxUEECOTWtfmfQSQAHeToZhLgVAc1Caxxfr+z9zd9uL4w3/P2DjgDARzQJAXgVzlPsKCUAavEYDCC7/P7DvjRdxnw5ADGrQtiIuAkDdKEKChaoVQDQUAVJreBVA3W7/yv7ECUBfM1fDoW0OQJnizMUAXwFAp8FpW7AqBUCzQYop4gwQQGRBtpG7bQ5A+PtbAndvCEA=\",\"dtype\":\"float64\",\"shape\":[28]}},\"selected\":{\"id\":\"16134\",\"type\":\"Selection\"},\"selection_policy\":{\"id\":\"16133\",\"type\":\"UnionRenderers\"}},\"id\":\"15512\",\"type\":\"ColumnDataSource\"},{\"attributes\":{\"callback\":null,\"end\":1527868800000.0,\"start\":1525276800000.0},\"id\":\"15506\",\"type\":\"Range1d\"},{\"attributes\":{},\"id\":\"15493\",\"type\":\"PanTool\"},{\"attributes\":{\"base\":24,\"mantissas\":[1,2,4,6,8,12],\"max_interval\":43200000.0,\"min_interval\":3600000.0,\"num_minor_ticks\":0},\"id\":\"16121\",\"type\":\"AdaptiveTicker\"},{\"attributes\":{\"base\":60,\"mantissas\":[1,2,5,10,15,20,30],\"max_interval\":1800000.0,\"min_interval\":1000.0,\"num_minor_ticks\":0},\"id\":\"16120\",\"type\":\"AdaptiveTicker\"},{\"attributes\":{\"text\":\"EDSLSTM Performance: SMAPE for 28 Consecutive 24-hour Prediction Intervals.\",\"text_font_size\":{\"value\":\"14pt\"}},\"id\":\"15473\",\"type\":\"Title\"},{\"attributes\":{\"x\":{\"field\":\"x\"},\"y\":{\"field\":\"y\"}},\"id\":\"15513\",\"type\":\"Line\"},{\"attributes\":{},\"id\":\"15494\",\"type\":\"WheelZoomTool\"},{\"attributes\":{},\"id\":\"15479\",\"type\":\"LinearScale\"},{\"attributes\":{\"line_alpha\":0.1,\"line_color\":\"#1f77b4\",\"x\":{\"field\":\"x\"},\"y\":{\"field\":\"y\"}},\"id\":\"15514\",\"type\":\"Line\"},{\"attributes\":{\"overlay\":{\"id\":\"16135\",\"type\":\"BoxAnnotation\"}},\"id\":\"15495\",\"type\":\"BoxZoomTool\"},{\"attributes\":{\"source\":{\"id\":\"15507\",\"type\":\"ColumnDataSource\"}},\"id\":\"15511\",\"type\":\"CDSView\"},{\"attributes\":{\"days\":[1,2,3,4,5,6,7,8,9,10,11,12,13,14,15,16,17,18,19,20,21,22,23,24,25,26,27,28,29,30,31]},\"id\":\"16122\",\"type\":\"DaysTicker\"},{\"attributes\":{},\"id\":\"15496\",\"type\":\"SaveTool\"},{\"attributes\":{\"days\":[1,4,7,10,13,16,19,22,25,28]},\"id\":\"16123\",\"type\":\"DaysTicker\"},{\"attributes\":{},\"id\":\"15497\",\"type\":\"ResetTool\"},{\"attributes\":{\"data_source\":{\"id\":\"15507\",\"type\":\"ColumnDataSource\"},\"glyph\":{\"id\":\"15508\",\"type\":\"Circle\"},\"hover_glyph\":null,\"muted_glyph\":null,\"nonselection_glyph\":{\"id\":\"15509\",\"type\":\"Circle\"},\"selection_glyph\":null,\"view\":{\"id\":\"15511\",\"type\":\"CDSView\"}},\"id\":\"15510\",\"type\":\"GlyphRenderer\"},{\"attributes\":{\"days\":[1,8,15,22]},\"id\":\"16124\",\"type\":\"DaysTicker\"},{\"attributes\":{\"callback\":null},\"id\":\"15477\",\"type\":\"DataRange1d\"},{\"attributes\":{},\"id\":\"15498\",\"type\":\"HelpTool\"},{\"attributes\":{\"days\":[1,15]},\"id\":\"16125\",\"type\":\"DaysTicker\"},{\"attributes\":{},\"id\":\"15481\",\"type\":\"LinearScale\"},{\"attributes\":{\"source\":{\"id\":\"15512\",\"type\":\"ColumnDataSource\"}},\"id\":\"15516\",\"type\":\"CDSView\"},{\"attributes\":{\"months\":[0,1,2,3,4,5,6,7,8,9,10,11]},\"id\":\"16126\",\"type\":\"MonthsTicker\"},{\"attributes\":{\"axis_label\":\"Date\",\"axis_label_text_font_size\":{\"value\":\"14pt\"},\"formatter\":{\"id\":\"16118\",\"type\":\"DatetimeTickFormatter\"},\"major_label_text_font_size\":{\"value\":\"12pt\"},\"ticker\":{\"id\":\"15484\",\"type\":\"DatetimeTicker\"}},\"id\":\"15483\",\"type\":\"DatetimeAxis\"},{\"attributes\":{\"months\":[0,2,4,6,8,10]},\"id\":\"16127\",\"type\":\"MonthsTicker\"},{\"attributes\":{\"dimension\":1,\"grid_line_alpha\":0.3,\"ticker\":{\"id\":\"15489\",\"type\":\"BasicTicker\"}},\"id\":\"15492\",\"type\":\"Grid\"},{\"attributes\":{\"line_dash\":[6],\"line_width\":{\"value\":2},\"location\":4.229812299109854},\"id\":\"15517\",\"type\":\"Span\"},{\"attributes\":{\"fill_alpha\":{\"value\":0.1},\"fill_color\":{\"value\":\"#1f77b4\"},\"line_alpha\":{\"value\":0.1},\"line_color\":{\"value\":\"#1f77b4\"},\"x\":{\"field\":\"x\"},\"y\":{\"field\":\"y\"}},\"id\":\"15509\",\"type\":\"Circle\"},{\"attributes\":{\"num_minor_ticks\":5,\"tickers\":[{\"id\":\"16119\",\"type\":\"AdaptiveTicker\"},{\"id\":\"16120\",\"type\":\"AdaptiveTicker\"},{\"id\":\"16121\",\"type\":\"AdaptiveTicker\"},{\"id\":\"16122\",\"type\":\"DaysTicker\"},{\"id\":\"16123\",\"type\":\"DaysTicker\"},{\"id\":\"16124\",\"type\":\"DaysTicker\"},{\"id\":\"16125\",\"type\":\"DaysTicker\"},{\"id\":\"16126\",\"type\":\"MonthsTicker\"},{\"id\":\"16127\",\"type\":\"MonthsTicker\"},{\"id\":\"16128\",\"type\":\"MonthsTicker\"},{\"id\":\"16129\",\"type\":\"MonthsTicker\"},{\"id\":\"16130\",\"type\":\"YearsTicker\"}]},\"id\":\"15484\",\"type\":\"DatetimeTicker\"},{\"attributes\":{\"months\":[0,4,8]},\"id\":\"16128\",\"type\":\"MonthsTicker\"},{\"attributes\":{},\"id\":\"16116\",\"type\":\"BasicTickFormatter\"},{\"attributes\":{\"grid_line_alpha\":0.3,\"ticker\":{\"id\":\"15484\",\"type\":\"DatetimeTicker\"}},\"id\":\"15487\",\"type\":\"Grid\"},{\"attributes\":{\"months\":[0,6]},\"id\":\"16129\",\"type\":\"MonthsTicker\"},{\"attributes\":{\"data_source\":{\"id\":\"15512\",\"type\":\"ColumnDataSource\"},\"glyph\":{\"id\":\"15513\",\"type\":\"Line\"},\"hover_glyph\":null,\"muted_glyph\":null,\"nonselection_glyph\":{\"id\":\"15514\",\"type\":\"Line\"},\"selection_glyph\":null,\"view\":{\"id\":\"15516\",\"type\":\"CDSView\"}},\"id\":\"15515\",\"type\":\"GlyphRenderer\"},{\"attributes\":{},\"id\":\"16132\",\"type\":\"Selection\"},{\"attributes\":{},\"id\":\"15489\",\"type\":\"BasicTicker\"},{\"attributes\":{\"callback\":null,\"data\":{\"x\":{\"__ndarray__\":\"AAAAtWsydkIAAMAavjJ2QgAAgIAQM3ZCAABA5mIzdkIAAABMtTN2QgAAwLEHNHZCAACAF1o0dkIAAEB9rDR2QgAAAOP+NHZCAADASFE1dkIAAICuozV2QgAAQBT2NXZCAAAAekg2dkIAAMDfmjZ2QgAAgEXtNnZCAABAqz83dkIAAAARkjd2QgAAwHbkN3ZCAACA3DY4dkIAAEBCiTh2QgAAAKjbOHZCAADADS45dkIAAIBzgDl2QgAAQNnSOXZCAAAAPyU6dkIAAMCkdzp2QgAAgArKOnZCAABAcBw7dkI=\",\"dtype\":\"float64\",\"shape\":[28]},\"y\":{\"__ndarray__\":\"dKPUjB1sAECCUEwsdY4EQEMmbt6eSgVAxm7BLFlsAkBfkWPpJq0SQHAbx253KwJAA9/yUUmEBkA49Pj+f3UKQIS6Dh3a3RRAohQsQqxUEECOTWtfmfQSQAHeToZhLgVAc1Caxxfr+z9zd9uL4w3/P2DjgDARzQJAXgVzlPsKCUAavEYDCC7/P7DvjRdxnw5ADGrQtiIuAkDdKEKChaoVQDQUAVJreBVA3W7/yv7ECUBfM1fDoW0OQJnizMUAXwFAp8FpW7AqBUCzQYop4gwQQGRBtpG7bQ5A+PtbAndvCEA=\",\"dtype\":\"float64\",\"shape\":[28]}},\"selected\":{\"id\":\"16132\",\"type\":\"Selection\"},\"selection_policy\":{\"id\":\"16131\",\"type\":\"UnionRenderers\"}},\"id\":\"15507\",\"type\":\"ColumnDataSource\"},{\"attributes\":{},\"id\":\"16130\",\"type\":\"YearsTicker\"},{\"attributes\":{\"axis_label\":\"SMAPE [%]\",\"axis_label_text_font_size\":{\"value\":\"14pt\"},\"formatter\":{\"id\":\"16116\",\"type\":\"BasicTickFormatter\"},\"major_label_text_font_size\":{\"value\":\"12pt\"},\"ticker\":{\"id\":\"15489\",\"type\":\"BasicTicker\"}},\"id\":\"15488\",\"type\":\"LinearAxis\"},{\"attributes\":{\"fill_color\":{\"value\":null},\"x\":{\"field\":\"x\"},\"y\":{\"field\":\"y\"}},\"id\":\"15508\",\"type\":\"Circle\"},{\"attributes\":{},\"id\":\"16118\",\"type\":\"DatetimeTickFormatter\"},{\"attributes\":{},\"id\":\"16131\",\"type\":\"UnionRenderers\"},{\"attributes\":{},\"id\":\"16133\",\"type\":\"UnionRenderers\"},{\"attributes\":{\"mantissas\":[1,2,5],\"max_interval\":500.0,\"num_minor_ticks\":0},\"id\":\"16119\",\"type\":\"AdaptiveTicker\"},{\"attributes\":{},\"id\":\"16134\",\"type\":\"Selection\"}],\"root_ids\":[\"15472\"]},\"title\":\"Bokeh Application\",\"version\":\"1.4.0\"}};\n",
       "  var render_items = [{\"docid\":\"bbaba29e-d039-4210-9a19-a027904884a3\",\"roots\":{\"15472\":\"a12ebce4-8123-4432-becc-c4964b4fec21\"}}];\n",
       "  root.Bokeh.embed.embed_items_notebook(docs_json, render_items);\n",
       "\n",
       "  }\n",
       "  if (root.Bokeh !== undefined) {\n",
       "    embed_document(root);\n",
       "  } else {\n",
       "    var attempts = 0;\n",
       "    var timer = setInterval(function(root) {\n",
       "      if (root.Bokeh !== undefined) {\n",
       "        clearInterval(timer);\n",
       "        embed_document(root);\n",
       "      } else {\n",
       "        attempts++;\n",
       "        if (attempts > 100) {\n",
       "          clearInterval(timer);\n",
       "          console.log(\"Bokeh: ERROR: Unable to run BokehJS code because BokehJS library is missing\");\n",
       "        }\n",
       "      }\n",
       "    }, 10, root)\n",
       "  }\n",
       "})(window);"
      ],
      "application/vnd.bokehjs_exec.v0+json": ""
     },
     "metadata": {
      "application/vnd.bokehjs_exec.v0+json": {
       "id": "15472"
      }
     },
     "output_type": "display_data"
    }
   ],
   "source": [
    "size = 4\n",
    "\n",
    "plots['edslstm_week_metric'] = figure(\n",
    "    x_axis_type='datetime',\n",
    "    plot_width=960,\n",
    "    plot_height=320,\n",
    "    title='EDSLSTM Performance: {} for {} Consecutive 24-hour Prediction Intervals.'\\\n",
    "    .format('SMAPE', num_days),\n",
    "    toolbar_location=None,\n",
    ")\n",
    "\n",
    "plots['edslstm_week_metric'].grid.grid_line_alpha=0.3\n",
    "\n",
    "# a custom x range to visuallly improve the the plot\n",
    "plots['edslstm_week_metric'].x_range = Range1d(\n",
    "    start=pd.to_datetime('2018-05-02 16:00:00'),\n",
    "    end=pd.to_datetime('2018-06-01 16:00:00')\n",
    ")\n",
    "\n",
    "plots['edslstm_week_metric'].title.text_font_size = '14pt'\n",
    "\n",
    "plots['edslstm_week_metric'].xaxis.axis_label_text_font_size = \"14pt\"\n",
    "plots['edslstm_week_metric'].yaxis.axis_label_text_font_size = \"14pt\"\n",
    "\n",
    "plots['edslstm_week_metric'].xaxis.major_label_text_font_size = \"12pt\"\n",
    "plots['edslstm_week_metric'].yaxis.major_label_text_font_size = \"12pt\"\n",
    "\n",
    "plots['edslstm_week_metric'].xaxis.axis_label = 'Date'\n",
    "plots['edslstm_week_metric'].yaxis.axis_label = 'SMAPE [%]'\n",
    "\n",
    "# adjust SMAPE for percentage value\n",
    "plots['edslstm_week_metric'].circle(\n",
    "    x=day_by_day_predictions_df.groupby(['start_timestamp']).mean().index,\n",
    "    y=100*day_by_day_predictions_df.groupby(['start_timestamp']).mean()['smape'],\n",
    "    color='black',\n",
    "    size=size,\n",
    "    fill_color=None,\n",
    ")\n",
    "# adjust SMAPE for percentage value\n",
    "plots['edslstm_week_metric'].line(\n",
    "    x=day_by_day_predictions_df.groupby(['start_timestamp']).mean().index,\n",
    "    y=100*day_by_day_predictions_df.groupby(['start_timestamp']).mean()['smape'],\n",
    "    color='black',\n",
    ")\n",
    "\n",
    "arima_one_week_smape_average = Span(\n",
    "    location=np.mean(np.array(arima_one_week_smape)),\n",
    "    dimension='width',\n",
    "    line_color='black',\n",
    "    line_dash='dashed',\n",
    "    line_width=2)\n",
    "\n",
    "plots['edslstm_week_metric'].add_layout(arima_one_week_smape_average)\n",
    "\n",
    "\n",
    "show(plots['edslstm_week_metric'])"
   ]
  },
  {
   "cell_type": "code",
   "execution_count": 70,
   "metadata": {},
   "outputs": [
    {
     "data": {
      "text/html": [
       "\n",
       "\n",
       "\n",
       "\n",
       "\n",
       "\n",
       "  <div class=\"bk-root\" id=\"5b635250-80ef-4940-9002-edd12bc24793\" data-root-id=\"2473\"></div>\n"
      ]
     },
     "metadata": {},
     "output_type": "display_data"
    },
    {
     "data": {
      "application/javascript": [
       "(function(root) {\n",
       "  function embed_document(root) {\n",
       "    \n",
       "  var docs_json = {\"8c7504ee-6d9a-4dc4-aa02-83c6dc735a14\":{\"roots\":{\"references\":[{\"attributes\":{\"below\":[{\"id\":\"2484\",\"type\":\"DatetimeAxis\"}],\"center\":[{\"id\":\"2488\",\"type\":\"Grid\"},{\"id\":\"2493\",\"type\":\"Grid\"},{\"id\":\"2517\",\"type\":\"Span\"}],\"left\":[{\"id\":\"2489\",\"type\":\"LinearAxis\"}],\"plot_height\":320,\"plot_width\":960,\"renderers\":[{\"id\":\"2510\",\"type\":\"GlyphRenderer\"},{\"id\":\"2515\",\"type\":\"GlyphRenderer\"}],\"title\":{\"id\":\"2474\",\"type\":\"Title\"},\"toolbar\":{\"id\":\"2500\",\"type\":\"Toolbar\"},\"toolbar_location\":null,\"x_range\":{\"id\":\"2476\",\"type\":\"DataRange1d\"},\"x_scale\":{\"id\":\"2480\",\"type\":\"LinearScale\"},\"y_range\":{\"id\":\"2478\",\"type\":\"DataRange1d\"},\"y_scale\":{\"id\":\"2482\",\"type\":\"LinearScale\"}},\"id\":\"2473\",\"subtype\":\"Figure\",\"type\":\"Plot\"},{\"attributes\":{\"days\":[1,8,15,22]},\"id\":\"2624\",\"type\":\"DaysTicker\"},{\"attributes\":{},\"id\":\"2498\",\"type\":\"ResetTool\"},{\"attributes\":{\"callback\":null},\"id\":\"2478\",\"type\":\"DataRange1d\"},{\"attributes\":{\"days\":[1,15]},\"id\":\"2625\",\"type\":\"DaysTicker\"},{\"attributes\":{},\"id\":\"2499\",\"type\":\"HelpTool\"},{\"attributes\":{},\"id\":\"2482\",\"type\":\"LinearScale\"},{\"attributes\":{\"months\":[0,1,2,3,4,5,6,7,8,9,10,11]},\"id\":\"2626\",\"type\":\"MonthsTicker\"},{\"attributes\":{\"active_drag\":\"auto\",\"active_inspect\":\"auto\",\"active_multi\":null,\"active_scroll\":\"auto\",\"active_tap\":\"auto\",\"tools\":[{\"id\":\"2494\",\"type\":\"PanTool\"},{\"id\":\"2495\",\"type\":\"WheelZoomTool\"},{\"id\":\"2496\",\"type\":\"BoxZoomTool\"},{\"id\":\"2497\",\"type\":\"SaveTool\"},{\"id\":\"2498\",\"type\":\"ResetTool\"},{\"id\":\"2499\",\"type\":\"HelpTool\"}]},\"id\":\"2500\",\"type\":\"Toolbar\"},{\"attributes\":{\"months\":[0,4,8]},\"id\":\"2628\",\"type\":\"MonthsTicker\"},{\"attributes\":{\"axis_label\":\"Date\",\"axis_label_text_font_size\":{\"value\":\"14pt\"},\"formatter\":{\"id\":\"2618\",\"type\":\"DatetimeTickFormatter\"},\"major_label_text_font_size\":{\"value\":\"12pt\"},\"ticker\":{\"id\":\"2485\",\"type\":\"DatetimeTicker\"}},\"id\":\"2484\",\"type\":\"DatetimeAxis\"},{\"attributes\":{\"months\":[0,2,4,6,8,10]},\"id\":\"2627\",\"type\":\"MonthsTicker\"},{\"attributes\":{\"dimension\":1,\"grid_line_alpha\":0.3,\"ticker\":{\"id\":\"2490\",\"type\":\"BasicTicker\"}},\"id\":\"2493\",\"type\":\"Grid\"},{\"attributes\":{\"fill_color\":{\"value\":null},\"x\":{\"field\":\"x\"},\"y\":{\"field\":\"y\"}},\"id\":\"2508\",\"type\":\"Circle\"},{\"attributes\":{\"months\":[0,6]},\"id\":\"2629\",\"type\":\"MonthsTicker\"},{\"attributes\":{\"num_minor_ticks\":5,\"tickers\":[{\"id\":\"2619\",\"type\":\"AdaptiveTicker\"},{\"id\":\"2620\",\"type\":\"AdaptiveTicker\"},{\"id\":\"2621\",\"type\":\"AdaptiveTicker\"},{\"id\":\"2622\",\"type\":\"DaysTicker\"},{\"id\":\"2623\",\"type\":\"DaysTicker\"},{\"id\":\"2624\",\"type\":\"DaysTicker\"},{\"id\":\"2625\",\"type\":\"DaysTicker\"},{\"id\":\"2626\",\"type\":\"MonthsTicker\"},{\"id\":\"2627\",\"type\":\"MonthsTicker\"},{\"id\":\"2628\",\"type\":\"MonthsTicker\"},{\"id\":\"2629\",\"type\":\"MonthsTicker\"},{\"id\":\"2630\",\"type\":\"YearsTicker\"}]},\"id\":\"2485\",\"type\":\"DatetimeTicker\"},{\"attributes\":{\"grid_line_alpha\":0.3,\"ticker\":{\"id\":\"2485\",\"type\":\"DatetimeTicker\"}},\"id\":\"2488\",\"type\":\"Grid\"},{\"attributes\":{},\"id\":\"2632\",\"type\":\"Selection\"},{\"attributes\":{},\"id\":\"2490\",\"type\":\"BasicTicker\"},{\"attributes\":{\"x\":{\"field\":\"x\"},\"y\":{\"field\":\"y\"}},\"id\":\"2513\",\"type\":\"Line\"},{\"attributes\":{},\"id\":\"2630\",\"type\":\"YearsTicker\"},{\"attributes\":{\"axis_label\":\"MAE [KW]\",\"axis_label_text_font_size\":{\"value\":\"14pt\"},\"formatter\":{\"id\":\"2616\",\"type\":\"BasicTickFormatter\"},\"major_label_text_font_size\":{\"value\":\"12pt\"},\"ticker\":{\"id\":\"2490\",\"type\":\"BasicTicker\"}},\"id\":\"2489\",\"type\":\"LinearAxis\"},{\"attributes\":{\"data_source\":{\"id\":\"2507\",\"type\":\"ColumnDataSource\"},\"glyph\":{\"id\":\"2508\",\"type\":\"Circle\"},\"hover_glyph\":null,\"muted_glyph\":null,\"nonselection_glyph\":{\"id\":\"2509\",\"type\":\"Circle\"},\"selection_glyph\":null,\"view\":{\"id\":\"2511\",\"type\":\"CDSView\"}},\"id\":\"2510\",\"type\":\"GlyphRenderer\"},{\"attributes\":{},\"id\":\"2616\",\"type\":\"BasicTickFormatter\"},{\"attributes\":{},\"id\":\"2631\",\"type\":\"UnionRenderers\"},{\"attributes\":{\"data_source\":{\"id\":\"2512\",\"type\":\"ColumnDataSource\"},\"glyph\":{\"id\":\"2513\",\"type\":\"Line\"},\"hover_glyph\":null,\"muted_glyph\":null,\"nonselection_glyph\":{\"id\":\"2514\",\"type\":\"Line\"},\"selection_glyph\":null,\"view\":{\"id\":\"2516\",\"type\":\"CDSView\"}},\"id\":\"2515\",\"type\":\"GlyphRenderer\"},{\"attributes\":{},\"id\":\"2633\",\"type\":\"UnionRenderers\"},{\"attributes\":{\"callback\":null,\"data\":{\"x\":[1525363200000.0,1525366800000.0,1525370400000.0,1525374000000.0,1525377600000.0,1525381200000.0,1525384800000.0,1525388400000.0,1525392000000.0,1525395600000.0,1525399200000.0,1525402800000.0,1525406400000.0,1525410000000.0,1525413600000.0,1525417200000.0,1525420800000.0,1525424400000.0,1525428000000.0,1525431600000.0,1525435200000.0,1525438800000.0,1525442400000.0,1525446000000.0,1525449600000.0,1525453200000.0,1525456800000.0,1525460400000.0,1525464000000.0,1525467600000.0,1525471200000.0,1525474800000.0,1525478400000.0,1525482000000.0,1525485600000.0,1525489200000.0,1525492800000.0,1525496400000.0,1525500000000.0,1525503600000.0,1525507200000.0,1525510800000.0,1525514400000.0,1525518000000.0,1525521600000.0,1525525200000.0,1525528800000.0,1525532400000.0,1525536000000.0,1525539600000.0,1525543200000.0,1525546800000.0,1525550400000.0,1525554000000.0,1525557600000.0,1525561200000.0,1525564800000.0,1525568400000.0,1525572000000.0,1525575600000.0,1525579200000.0,1525582800000.0,1525586400000.0,1525590000000.0,1525593600000.0,1525597200000.0,1525600800000.0,1525604400000.0,1525608000000.0,1525611600000.0,1525615200000.0,1525618800000.0,1525622400000.0,1525626000000.0,1525629600000.0,1525633200000.0,1525636800000.0,1525640400000.0,1525644000000.0,1525647600000.0,1525651200000.0,1525654800000.0,1525658400000.0,1525662000000.0,1525665600000.0,1525669200000.0,1525672800000.0,1525676400000.0,1525680000000.0,1525683600000.0,1525687200000.0,1525690800000.0,1525694400000.0,1525698000000.0,1525701600000.0,1525705200000.0,1525708800000.0,1525712400000.0,1525716000000.0,1525719600000.0,1525723200000.0,1525726800000.0,1525730400000.0,1525734000000.0,1525737600000.0,1525741200000.0,1525744800000.0,1525748400000.0,1525752000000.0,1525755600000.0,1525759200000.0,1525762800000.0,1525766400000.0,1525770000000.0,1525773600000.0,1525777200000.0,1525780800000.0,1525784400000.0,1525788000000.0,1525791600000.0,1525795200000.0,1525798800000.0,1525802400000.0,1525806000000.0,1525809600000.0,1525813200000.0,1525816800000.0,1525820400000.0,1525824000000.0,1525827600000.0,1525831200000.0,1525834800000.0,1525838400000.0,1525842000000.0,1525845600000.0,1525849200000.0,1525852800000.0,1525856400000.0,1525860000000.0,1525863600000.0,1525867200000.0,1525870800000.0,1525874400000.0,1525878000000.0,1525881600000.0,1525885200000.0,1525888800000.0,1525892400000.0,1525896000000.0,1525899600000.0,1525903200000.0,1525906800000.0,1525910400000.0,1525914000000.0,1525917600000.0,1525921200000.0,1525924800000.0,1525928400000.0,1525932000000.0,1525935600000.0,1525939200000.0,1525942800000.0,1525946400000.0,1525950000000.0,1525953600000.0,1525957200000.0,1525960800000.0,1525964400000.0,1525968000000.0,1525971600000.0,1525975200000.0,1525978800000.0,1525982400000.0,1525986000000.0,1525989600000.0,1525993200000.0,1525996800000.0,1526000400000.0,1526004000000.0,1526007600000.0,1526011200000.0,1526014800000.0,1526018400000.0,1526022000000.0,1526025600000.0,1526029200000.0,1526032800000.0,1526036400000.0,1526040000000.0,1526043600000.0,1526047200000.0,1526050800000.0,1526054400000.0,1526058000000.0,1526061600000.0,1526065200000.0,1526068800000.0,1526072400000.0,1526076000000.0,1526079600000.0,1526083200000.0,1526086800000.0,1526090400000.0,1526094000000.0,1526097600000.0,1526101200000.0,1526104800000.0,1526108400000.0,1526112000000.0,1526115600000.0,1526119200000.0,1526122800000.0,1526126400000.0,1526130000000.0,1526133600000.0,1526137200000.0,1526140800000.0,1526144400000.0,1526148000000.0,1526151600000.0,1526155200000.0,1526158800000.0,1526162400000.0,1526166000000.0,1526169600000.0,1526173200000.0,1526176800000.0,1526180400000.0,1526184000000.0,1526187600000.0,1526191200000.0,1526194800000.0,1526198400000.0,1526202000000.0,1526205600000.0,1526209200000.0,1526212800000.0,1526216400000.0,1526220000000.0,1526223600000.0,1526227200000.0,1526230800000.0,1526234400000.0,1526238000000.0,1526241600000.0,1526245200000.0,1526248800000.0,1526252400000.0,1526256000000.0,1526259600000.0,1526263200000.0,1526266800000.0,1526270400000.0,1526274000000.0,1526277600000.0,1526281200000.0,1526284800000.0,1526288400000.0,1526292000000.0,1526295600000.0,1526299200000.0,1526302800000.0,1526306400000.0,1526310000000.0,1526313600000.0,1526317200000.0,1526320800000.0,1526324400000.0,1526328000000.0,1526331600000.0,1526335200000.0,1526338800000.0,1526342400000.0,1526346000000.0,1526349600000.0,1526353200000.0,1526356800000.0,1526360400000.0,1526364000000.0,1526367600000.0,1526371200000.0,1526374800000.0,1526378400000.0,1526382000000.0,1526385600000.0,1526389200000.0,1526392800000.0,1526396400000.0,1526400000000.0,1526403600000.0,1526407200000.0,1526410800000.0,1526414400000.0,1526418000000.0,1526421600000.0,1526425200000.0,1526428800000.0,1526432400000.0,1526436000000.0,1526439600000.0,1526443200000.0,1526446800000.0,1526450400000.0,1526454000000.0,1526457600000.0,1526461200000.0,1526464800000.0,1526468400000.0,1526472000000.0,1526475600000.0,1526479200000.0,1526482800000.0,1526486400000.0,1526490000000.0,1526493600000.0,1526497200000.0,1526500800000.0,1526504400000.0,1526508000000.0,1526511600000.0,1526515200000.0,1526518800000.0,1526522400000.0,1526526000000.0,1526529600000.0,1526533200000.0,1526536800000.0,1526540400000.0,1526544000000.0,1526547600000.0,1526551200000.0,1526554800000.0,1526558400000.0,1526562000000.0,1526565600000.0,1526569200000.0,1526572800000.0,1526576400000.0,1526580000000.0,1526583600000.0,1526587200000.0,1526590800000.0,1526594400000.0,1526598000000.0,1526601600000.0,1526605200000.0,1526608800000.0,1526612400000.0,1526616000000.0,1526619600000.0,1526623200000.0,1526626800000.0,1526630400000.0,1526634000000.0,1526637600000.0,1526641200000.0,1526644800000.0,1526648400000.0,1526652000000.0,1526655600000.0,1526659200000.0,1526662800000.0,1526666400000.0,1526670000000.0,1526673600000.0,1526677200000.0,1526680800000.0,1526684400000.0,1526688000000.0,1526691600000.0,1526695200000.0,1526698800000.0,1526702400000.0,1526706000000.0,1526709600000.0,1526713200000.0,1526716800000.0,1526720400000.0,1526724000000.0,1526727600000.0,1526731200000.0,1526734800000.0,1526738400000.0,1526742000000.0,1526745600000.0,1526749200000.0,1526752800000.0,1526756400000.0,1526760000000.0,1526763600000.0,1526767200000.0,1526770800000.0,1526774400000.0,1526778000000.0,1526781600000.0,1526785200000.0,1526788800000.0,1526792400000.0,1526796000000.0,1526799600000.0,1526803200000.0,1526806800000.0,1526810400000.0,1526814000000.0,1526817600000.0,1526821200000.0,1526824800000.0,1526828400000.0,1526832000000.0,1526835600000.0,1526839200000.0,1526842800000.0,1526846400000.0,1526850000000.0,1526853600000.0,1526857200000.0,1526860800000.0,1526864400000.0,1526868000000.0,1526871600000.0,1526875200000.0,1526878800000.0,1526882400000.0,1526886000000.0,1526889600000.0,1526893200000.0,1526896800000.0,1526900400000.0,1526904000000.0,1526907600000.0,1526911200000.0,1526914800000.0,1526918400000.0,1526922000000.0,1526925600000.0,1526929200000.0,1526932800000.0,1526936400000.0,1526940000000.0,1526943600000.0,1526947200000.0,1526950800000.0,1526954400000.0,1526958000000.0,1526961600000.0,1526965200000.0,1526968800000.0,1526972400000.0,1526976000000.0,1526979600000.0,1526983200000.0,1526986800000.0,1526990400000.0,1526994000000.0,1526997600000.0,1527001200000.0,1527004800000.0,1527008400000.0,1527012000000.0,1527015600000.0,1527019200000.0,1527022800000.0,1527026400000.0,1527030000000.0,1527033600000.0,1527037200000.0,1527040800000.0,1527044400000.0,1527048000000.0,1527051600000.0,1527055200000.0,1527058800000.0,1527062400000.0,1527066000000.0,1527069600000.0,1527073200000.0,1527076800000.0,1527080400000.0,1527084000000.0,1527087600000.0,1527091200000.0,1527094800000.0,1527098400000.0,1527102000000.0,1527105600000.0,1527109200000.0,1527112800000.0,1527116400000.0,1527120000000.0,1527123600000.0,1527127200000.0,1527130800000.0,1527134400000.0,1527138000000.0,1527141600000.0,1527145200000.0,1527148800000.0,1527152400000.0,1527156000000.0,1527159600000.0,1527163200000.0,1527166800000.0,1527170400000.0,1527174000000.0,1527177600000.0,1527181200000.0,1527184800000.0,1527188400000.0,1527192000000.0,1527195600000.0,1527199200000.0,1527202800000.0,1527206400000.0,1527210000000.0,1527213600000.0,1527217200000.0,1527220800000.0,1527224400000.0,1527228000000.0,1527231600000.0,1527235200000.0,1527238800000.0,1527242400000.0,1527246000000.0,1527249600000.0,1527253200000.0,1527256800000.0,1527260400000.0,1527264000000.0,1527267600000.0,1527271200000.0,1527274800000.0,1527278400000.0,1527282000000.0,1527285600000.0,1527289200000.0,1527292800000.0,1527296400000.0,1527300000000.0,1527303600000.0,1527307200000.0,1527310800000.0,1527314400000.0,1527318000000.0,1527321600000.0,1527325200000.0,1527328800000.0,1527332400000.0,1527336000000.0,1527339600000.0,1527343200000.0,1527346800000.0,1527350400000.0,1527354000000.0,1527357600000.0,1527361200000.0,1527364800000.0,1527368400000.0,1527372000000.0,1527375600000.0,1527379200000.0,1527382800000.0,1527386400000.0,1527390000000.0,1527393600000.0,1527397200000.0,1527400800000.0,1527404400000.0,1527408000000.0,1527411600000.0,1527415200000.0,1527418800000.0,1527422400000.0,1527426000000.0,1527429600000.0,1527433200000.0,1527436800000.0,1527440400000.0,1527444000000.0,1527447600000.0,1527451200000.0,1527454800000.0,1527458400000.0,1527462000000.0,1527465600000.0,1527469200000.0,1527472800000.0,1527476400000.0,1527480000000.0,1527483600000.0,1527487200000.0,1527490800000.0,1527494400000.0,1527498000000.0,1527501600000.0,1527505200000.0,1527508800000.0,1527512400000.0,1527516000000.0,1527519600000.0,1527523200000.0,1527526800000.0,1527530400000.0,1527534000000.0,1527537600000.0,1527541200000.0,1527544800000.0,1527548400000.0,1527552000000.0,1527555600000.0,1527559200000.0,1527562800000.0,1527566400000.0,1527570000000.0,1527573600000.0,1527577200000.0,1527580800000.0,1527584400000.0,1527588000000.0,1527591600000.0,1527595200000.0,1527598800000.0,1527602400000.0,1527606000000.0,1527609600000.0,1527613200000.0,1527616800000.0,1527620400000.0,1527624000000.0,1527627600000.0,1527631200000.0,1527634800000.0,1527638400000.0,1527642000000.0,1527645600000.0,1527649200000.0,1527652800000.0,1527656400000.0,1527660000000.0,1527663600000.0,1527667200000.0,1527670800000.0,1527674400000.0,1527678000000.0,1527681600000.0,1527685200000.0,1527688800000.0,1527692400000.0,1527696000000.0,1527699600000.0,1527703200000.0,1527706800000.0,1527710400000.0,1527714000000.0,1527717600000.0,1527721200000.0,1527724800000.0,1527728400000.0,1527732000000.0,1527735600000.0,1527739200000.0,1527742800000.0,1527746400000.0,1527750000000.0,1527753600000.0,1527757200000.0,1527760800000.0,1527764400000.0,1527768000000.0,1527771600000.0,1527775200000.0,1527778800000.0],\"y\":{\"__ndarray__\":\"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\",\"dtype\":\"float64\",\"shape\":[672]}},\"selected\":{\"id\":\"2632\",\"type\":\"Selection\"},\"selection_policy\":{\"id\":\"2631\",\"type\":\"UnionRenderers\"}},\"id\":\"2507\",\"type\":\"ColumnDataSource\"},{\"attributes\":{\"base\":60,\"mantissas\":[1,2,5,10,15,20,30],\"max_interval\":1800000.0,\"min_interval\":1000.0,\"num_minor_ticks\":0},\"id\":\"2620\",\"type\":\"AdaptiveTicker\"},{\"attributes\":{},\"id\":\"2634\",\"type\":\"Selection\"},{\"attributes\":{\"mantissas\":[1,2,5],\"max_interval\":500.0,\"num_minor_ticks\":0},\"id\":\"2619\",\"type\":\"AdaptiveTicker\"},{\"attributes\":{\"bottom_units\":\"screen\",\"fill_alpha\":{\"value\":0.5},\"fill_color\":{\"value\":\"lightgrey\"},\"left_units\":\"screen\",\"level\":\"overlay\",\"line_alpha\":{\"value\":1.0},\"line_color\":{\"value\":\"black\"},\"line_dash\":[4,4],\"line_width\":{\"value\":2},\"render_mode\":\"css\",\"right_units\":\"screen\",\"top_units\":\"screen\"},\"id\":\"2635\",\"type\":\"BoxAnnotation\"},{\"attributes\":{},\"id\":\"2497\",\"type\":\"SaveTool\"},{\"attributes\":{},\"id\":\"2618\",\"type\":\"DatetimeTickFormatter\"},{\"attributes\":{\"source\":{\"id\":\"2512\",\"type\":\"ColumnDataSource\"}},\"id\":\"2516\",\"type\":\"CDSView\"},{\"attributes\":{\"base\":24,\"mantissas\":[1,2,4,6,8,12],\"max_interval\":43200000.0,\"min_interval\":3600000.0,\"num_minor_ticks\":0},\"id\":\"2621\",\"type\":\"AdaptiveTicker\"},{\"attributes\":{},\"id\":\"2494\",\"type\":\"PanTool\"},{\"attributes\":{\"days\":[1,2,3,4,5,6,7,8,9,10,11,12,13,14,15,16,17,18,19,20,21,22,23,24,25,26,27,28,29,30,31]},\"id\":\"2622\",\"type\":\"DaysTicker\"},{\"attributes\":{\"line_alpha\":0.1,\"line_color\":\"#1f77b4\",\"x\":{\"field\":\"x\"},\"y\":{\"field\":\"y\"}},\"id\":\"2514\",\"type\":\"Line\"},{\"attributes\":{\"line_dash\":[6],\"line_width\":{\"value\":2},\"location\":100.19295372623812},\"id\":\"2517\",\"type\":\"Span\"},{\"attributes\":{\"text\":\"EDSLSTM Performance: MAE for 672 Consecutive 1-hour Rolling Predictions.\",\"text_font_size\":{\"value\":\"14pt\"}},\"id\":\"2474\",\"type\":\"Title\"},{\"attributes\":{\"source\":{\"id\":\"2507\",\"type\":\"ColumnDataSource\"}},\"id\":\"2511\",\"type\":\"CDSView\"},{\"attributes\":{},\"id\":\"2495\",\"type\":\"WheelZoomTool\"},{\"attributes\":{},\"id\":\"2480\",\"type\":\"LinearScale\"},{\"attributes\":{\"callback\":null},\"id\":\"2476\",\"type\":\"DataRange1d\"},{\"attributes\":{\"callback\":null,\"data\":{\"x\":[1525363200000.0,1525366800000.0,1525370400000.0,1525374000000.0,1525377600000.0,1525381200000.0,1525384800000.0,1525388400000.0,1525392000000.0,1525395600000.0,1525399200000.0,1525402800000.0,1525406400000.0,1525410000000.0,1525413600000.0,1525417200000.0,1525420800000.0,1525424400000.0,1525428000000.0,1525431600000.0,1525435200000.0,1525438800000.0,1525442400000.0,1525446000000.0,1525449600000.0,1525453200000.0,1525456800000.0,1525460400000.0,1525464000000.0,1525467600000.0,1525471200000.0,1525474800000.0,1525478400000.0,1525482000000.0,1525485600000.0,1525489200000.0,1525492800000.0,1525496400000.0,1525500000000.0,1525503600000.0,1525507200000.0,1525510800000.0,1525514400000.0,1525518000000.0,1525521600000.0,1525525200000.0,1525528800000.0,1525532400000.0,1525536000000.0,1525539600000.0,1525543200000.0,1525546800000.0,1525550400000.0,1525554000000.0,1525557600000.0,1525561200000.0,1525564800000.0,1525568400000.0,1525572000000.0,1525575600000.0,1525579200000.0,1525582800000.0,1525586400000.0,1525590000000.0,1525593600000.0,1525597200000.0,1525600800000.0,1525604400000.0,1525608000000.0,1525611600000.0,1525615200000.0,1525618800000.0,1525622400000.0,1525626000000.0,1525629600000.0,1525633200000.0,1525636800000.0,1525640400000.0,1525644000000.0,1525647600000.0,1525651200000.0,1525654800000.0,1525658400000.0,1525662000000.0,1525665600000.0,1525669200000.0,1525672800000.0,1525676400000.0,1525680000000.0,1525683600000.0,1525687200000.0,1525690800000.0,1525694400000.0,1525698000000.0,1525701600000.0,1525705200000.0,1525708800000.0,1525712400000.0,1525716000000.0,1525719600000.0,1525723200000.0,1525726800000.0,1525730400000.0,1525734000000.0,1525737600000.0,1525741200000.0,1525744800000.0,1525748400000.0,1525752000000.0,1525755600000.0,1525759200000.0,1525762800000.0,1525766400000.0,1525770000000.0,1525773600000.0,1525777200000.0,1525780800000.0,1525784400000.0,1525788000000.0,1525791600000.0,1525795200000.0,1525798800000.0,1525802400000.0,1525806000000.0,1525809600000.0,1525813200000.0,1525816800000.0,1525820400000.0,1525824000000.0,1525827600000.0,1525831200000.0,1525834800000.0,1525838400000.0,1525842000000.0,1525845600000.0,1525849200000.0,1525852800000.0,1525856400000.0,1525860000000.0,1525863600000.0,1525867200000.0,1525870800000.0,1525874400000.0,1525878000000.0,1525881600000.0,1525885200000.0,1525888800000.0,1525892400000.0,1525896000000.0,1525899600000.0,1525903200000.0,1525906800000.0,1525910400000.0,1525914000000.0,1525917600000.0,1525921200000.0,1525924800000.0,1525928400000.0,1525932000000.0,1525935600000.0,1525939200000.0,1525942800000.0,1525946400000.0,1525950000000.0,1525953600000.0,1525957200000.0,1525960800000.0,1525964400000.0,1525968000000.0,1525971600000.0,1525975200000.0,1525978800000.0,1525982400000.0,1525986000000.0,1525989600000.0,1525993200000.0,1525996800000.0,1526000400000.0,1526004000000.0,1526007600000.0,1526011200000.0,1526014800000.0,1526018400000.0,1526022000000.0,1526025600000.0,1526029200000.0,1526032800000.0,1526036400000.0,1526040000000.0,1526043600000.0,1526047200000.0,1526050800000.0,1526054400000.0,1526058000000.0,1526061600000.0,1526065200000.0,1526068800000.0,1526072400000.0,1526076000000.0,1526079600000.0,1526083200000.0,1526086800000.0,1526090400000.0,1526094000000.0,1526097600000.0,1526101200000.0,1526104800000.0,1526108400000.0,1526112000000.0,1526115600000.0,1526119200000.0,1526122800000.0,1526126400000.0,1526130000000.0,1526133600000.0,1526137200000.0,1526140800000.0,1526144400000.0,1526148000000.0,1526151600000.0,1526155200000.0,1526158800000.0,1526162400000.0,1526166000000.0,1526169600000.0,1526173200000.0,1526176800000.0,1526180400000.0,1526184000000.0,1526187600000.0,1526191200000.0,1526194800000.0,1526198400000.0,1526202000000.0,1526205600000.0,1526209200000.0,1526212800000.0,1526216400000.0,1526220000000.0,1526223600000.0,1526227200000.0,1526230800000.0,1526234400000.0,1526238000000.0,1526241600000.0,1526245200000.0,1526248800000.0,1526252400000.0,1526256000000.0,1526259600000.0,1526263200000.0,1526266800000.0,1526270400000.0,1526274000000.0,1526277600000.0,1526281200000.0,1526284800000.0,1526288400000.0,1526292000000.0,1526295600000.0,1526299200000.0,1526302800000.0,1526306400000.0,1526310000000.0,1526313600000.0,1526317200000.0,1526320800000.0,1526324400000.0,1526328000000.0,1526331600000.0,1526335200000.0,1526338800000.0,1526342400000.0,1526346000000.0,1526349600000.0,1526353200000.0,1526356800000.0,1526360400000.0,1526364000000.0,1526367600000.0,1526371200000.0,1526374800000.0,1526378400000.0,1526382000000.0,1526385600000.0,1526389200000.0,1526392800000.0,1526396400000.0,1526400000000.0,1526403600000.0,1526407200000.0,1526410800000.0,1526414400000.0,1526418000000.0,1526421600000.0,1526425200000.0,1526428800000.0,1526432400000.0,1526436000000.0,1526439600000.0,1526443200000.0,1526446800000.0,1526450400000.0,1526454000000.0,1526457600000.0,1526461200000.0,1526464800000.0,1526468400000.0,1526472000000.0,1526475600000.0,1526479200000.0,1526482800000.0,1526486400000.0,1526490000000.0,1526493600000.0,1526497200000.0,1526500800000.0,1526504400000.0,1526508000000.0,1526511600000.0,1526515200000.0,1526518800000.0,1526522400000.0,1526526000000.0,1526529600000.0,1526533200000.0,1526536800000.0,1526540400000.0,1526544000000.0,1526547600000.0,1526551200000.0,1526554800000.0,1526558400000.0,1526562000000.0,1526565600000.0,1526569200000.0,1526572800000.0,1526576400000.0,1526580000000.0,1526583600000.0,1526587200000.0,1526590800000.0,1526594400000.0,1526598000000.0,1526601600000.0,1526605200000.0,1526608800000.0,1526612400000.0,1526616000000.0,1526619600000.0,1526623200000.0,1526626800000.0,1526630400000.0,1526634000000.0,1526637600000.0,1526641200000.0,1526644800000.0,1526648400000.0,1526652000000.0,1526655600000.0,1526659200000.0,1526662800000.0,1526666400000.0,1526670000000.0,1526673600000.0,1526677200000.0,1526680800000.0,1526684400000.0,1526688000000.0,1526691600000.0,1526695200000.0,1526698800000.0,1526702400000.0,1526706000000.0,1526709600000.0,1526713200000.0,1526716800000.0,1526720400000.0,1526724000000.0,1526727600000.0,1526731200000.0,1526734800000.0,1526738400000.0,1526742000000.0,1526745600000.0,1526749200000.0,1526752800000.0,1526756400000.0,1526760000000.0,1526763600000.0,1526767200000.0,1526770800000.0,1526774400000.0,1526778000000.0,1526781600000.0,1526785200000.0,1526788800000.0,1526792400000.0,1526796000000.0,1526799600000.0,1526803200000.0,1526806800000.0,1526810400000.0,1526814000000.0,1526817600000.0,1526821200000.0,1526824800000.0,1526828400000.0,1526832000000.0,1526835600000.0,1526839200000.0,1526842800000.0,1526846400000.0,1526850000000.0,1526853600000.0,1526857200000.0,1526860800000.0,1526864400000.0,1526868000000.0,1526871600000.0,1526875200000.0,1526878800000.0,1526882400000.0,1526886000000.0,1526889600000.0,1526893200000.0,1526896800000.0,1526900400000.0,1526904000000.0,1526907600000.0,1526911200000.0,1526914800000.0,1526918400000.0,1526922000000.0,1526925600000.0,1526929200000.0,1526932800000.0,1526936400000.0,1526940000000.0,1526943600000.0,1526947200000.0,1526950800000.0,1526954400000.0,1526958000000.0,1526961600000.0,1526965200000.0,1526968800000.0,1526972400000.0,1526976000000.0,1526979600000.0,1526983200000.0,1526986800000.0,1526990400000.0,1526994000000.0,1526997600000.0,1527001200000.0,1527004800000.0,1527008400000.0,1527012000000.0,1527015600000.0,1527019200000.0,1527022800000.0,1527026400000.0,1527030000000.0,1527033600000.0,1527037200000.0,1527040800000.0,1527044400000.0,1527048000000.0,1527051600000.0,1527055200000.0,1527058800000.0,1527062400000.0,1527066000000.0,1527069600000.0,1527073200000.0,1527076800000.0,1527080400000.0,1527084000000.0,1527087600000.0,1527091200000.0,1527094800000.0,1527098400000.0,1527102000000.0,1527105600000.0,1527109200000.0,1527112800000.0,1527116400000.0,1527120000000.0,1527123600000.0,1527127200000.0,1527130800000.0,1527134400000.0,1527138000000.0,1527141600000.0,1527145200000.0,1527148800000.0,1527152400000.0,1527156000000.0,1527159600000.0,1527163200000.0,1527166800000.0,1527170400000.0,1527174000000.0,1527177600000.0,1527181200000.0,1527184800000.0,1527188400000.0,1527192000000.0,1527195600000.0,1527199200000.0,1527202800000.0,1527206400000.0,1527210000000.0,1527213600000.0,1527217200000.0,1527220800000.0,1527224400000.0,1527228000000.0,1527231600000.0,1527235200000.0,1527238800000.0,1527242400000.0,1527246000000.0,1527249600000.0,1527253200000.0,1527256800000.0,1527260400000.0,1527264000000.0,1527267600000.0,1527271200000.0,1527274800000.0,1527278400000.0,1527282000000.0,1527285600000.0,1527289200000.0,1527292800000.0,1527296400000.0,1527300000000.0,1527303600000.0,1527307200000.0,1527310800000.0,1527314400000.0,1527318000000.0,1527321600000.0,1527325200000.0,1527328800000.0,1527332400000.0,1527336000000.0,1527339600000.0,1527343200000.0,1527346800000.0,1527350400000.0,1527354000000.0,1527357600000.0,1527361200000.0,1527364800000.0,1527368400000.0,1527372000000.0,1527375600000.0,1527379200000.0,1527382800000.0,1527386400000.0,1527390000000.0,1527393600000.0,1527397200000.0,1527400800000.0,1527404400000.0,1527408000000.0,1527411600000.0,1527415200000.0,1527418800000.0,1527422400000.0,1527426000000.0,1527429600000.0,1527433200000.0,1527436800000.0,1527440400000.0,1527444000000.0,1527447600000.0,1527451200000.0,1527454800000.0,1527458400000.0,1527462000000.0,1527465600000.0,1527469200000.0,1527472800000.0,1527476400000.0,1527480000000.0,1527483600000.0,1527487200000.0,1527490800000.0,1527494400000.0,1527498000000.0,1527501600000.0,1527505200000.0,1527508800000.0,1527512400000.0,1527516000000.0,1527519600000.0,1527523200000.0,1527526800000.0,1527530400000.0,1527534000000.0,1527537600000.0,1527541200000.0,1527544800000.0,1527548400000.0,1527552000000.0,1527555600000.0,1527559200000.0,1527562800000.0,1527566400000.0,1527570000000.0,1527573600000.0,1527577200000.0,1527580800000.0,1527584400000.0,1527588000000.0,1527591600000.0,1527595200000.0,1527598800000.0,1527602400000.0,1527606000000.0,1527609600000.0,1527613200000.0,1527616800000.0,1527620400000.0,1527624000000.0,1527627600000.0,1527631200000.0,1527634800000.0,1527638400000.0,1527642000000.0,1527645600000.0,1527649200000.0,1527652800000.0,1527656400000.0,1527660000000.0,1527663600000.0,1527667200000.0,1527670800000.0,1527674400000.0,1527678000000.0,1527681600000.0,1527685200000.0,1527688800000.0,1527692400000.0,1527696000000.0,1527699600000.0,1527703200000.0,1527706800000.0,1527710400000.0,1527714000000.0,1527717600000.0,1527721200000.0,1527724800000.0,1527728400000.0,1527732000000.0,1527735600000.0,1527739200000.0,1527742800000.0,1527746400000.0,1527750000000.0,1527753600000.0,1527757200000.0,1527760800000.0,1527764400000.0,1527768000000.0,1527771600000.0,1527775200000.0,1527778800000.0],\"y\":{\"__ndarray__\":\"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\",\"dtype\":\"float64\",\"shape\":[672]}},\"selected\":{\"id\":\"2634\",\"type\":\"Selection\"},\"selection_policy\":{\"id\":\"2633\",\"type\":\"UnionRenderers\"}},\"id\":\"2512\",\"type\":\"ColumnDataSource\"},{\"attributes\":{\"overlay\":{\"id\":\"2635\",\"type\":\"BoxAnnotation\"}},\"id\":\"2496\",\"type\":\"BoxZoomTool\"},{\"attributes\":{\"fill_alpha\":{\"value\":0.1},\"fill_color\":{\"value\":\"#1f77b4\"},\"line_alpha\":{\"value\":0.1},\"line_color\":{\"value\":\"#1f77b4\"},\"x\":{\"field\":\"x\"},\"y\":{\"field\":\"y\"}},\"id\":\"2509\",\"type\":\"Circle\"},{\"attributes\":{\"days\":[1,4,7,10,13,16,19,22,25,28]},\"id\":\"2623\",\"type\":\"DaysTicker\"}],\"root_ids\":[\"2473\"]},\"title\":\"Bokeh Application\",\"version\":\"1.4.0\"}};\n",
       "  var render_items = [{\"docid\":\"8c7504ee-6d9a-4dc4-aa02-83c6dc735a14\",\"roots\":{\"2473\":\"5b635250-80ef-4940-9002-edd12bc24793\"}}];\n",
       "  root.Bokeh.embed.embed_items_notebook(docs_json, render_items);\n",
       "\n",
       "  }\n",
       "  if (root.Bokeh !== undefined) {\n",
       "    embed_document(root);\n",
       "  } else {\n",
       "    var attempts = 0;\n",
       "    var timer = setInterval(function(root) {\n",
       "      if (root.Bokeh !== undefined) {\n",
       "        clearInterval(timer);\n",
       "        embed_document(root);\n",
       "      } else {\n",
       "        attempts++;\n",
       "        if (attempts > 100) {\n",
       "          clearInterval(timer);\n",
       "          console.log(\"Bokeh: ERROR: Unable to run BokehJS code because BokehJS library is missing\");\n",
       "        }\n",
       "      }\n",
       "    }, 10, root)\n",
       "  }\n",
       "})(window);"
      ],
      "application/vnd.bokehjs_exec.v0+json": ""
     },
     "metadata": {
      "application/vnd.bokehjs_exec.v0+json": {
       "id": "2473"
      }
     },
     "output_type": "display_data"
    }
   ],
   "source": [
    "# MAE, RMSE, and SMAPE for rolling predictions in 4 weeks\n",
    "# from global dataframe\n",
    "start, end = 0, 672\n",
    "size = 4\n",
    "\n",
    "plots['edslstm_metric'] = figure(\n",
    "    x_axis_type='datetime',\n",
    "    plot_width=960,\n",
    "    plot_height=320,\n",
    "    title='EDSLSTM Performance: {} for {} Consecutive 1-hour Rolling Predictions.'\\\n",
    "    .format('MAE', end),\n",
    "    toolbar_location=None,\n",
    ")\n",
    "\n",
    "plots['edslstm_metric'].grid.grid_line_alpha=0.3\n",
    "\n",
    "plots['edslstm_metric'].title.text_font_size = '14pt'\n",
    "\n",
    "plots['edslstm_metric'].xaxis.axis_label_text_font_size = \"14pt\"\n",
    "plots['edslstm_metric'].yaxis.axis_label_text_font_size = \"14pt\"\n",
    "\n",
    "plots['edslstm_metric'].xaxis.major_label_text_font_size = \"12pt\"\n",
    "plots['edslstm_metric'].yaxis.major_label_text_font_size = \"12pt\"\n",
    "\n",
    "plots['edslstm_metric'].xaxis.axis_label = 'Date'\n",
    "plots['edslstm_metric'].yaxis.axis_label = 'MAE [KW]'\n",
    "\n",
    "plots['edslstm_metric'].circle(\n",
    "    x=[pd.to_datetime(row[0]) for row in global_df['string_timestamps'][start:end]],\n",
    "    y=global_df['mae'][start:end],\n",
    "    color='black',\n",
    "    size=size,\n",
    "    fill_color=None,\n",
    ")\n",
    "plots['edslstm_metric'].line(\n",
    "    x=[pd.to_datetime(row[0]) for row in global_df['string_timestamps'][start:end]],\n",
    "    y=global_df['mae'][start:end],\n",
    "    color='black',\n",
    ")\n",
    "\n",
    "arima_one_week_mae_average = Span(\n",
    "    location=np.mean(np.array(arima_one_week_mae)),\n",
    "    dimension='width',\n",
    "    line_color='black',\n",
    "    line_dash='dashed',\n",
    "    line_width=2)\n",
    "\n",
    "plots['edslstm_metric'].add_layout(arima_one_week_mae_average)\n",
    "\n",
    "show(plots['edslstm_metric'])"
   ]
  },
  {
   "cell_type": "code",
   "execution_count": 71,
   "metadata": {},
   "outputs": [
    {
     "data": {
      "text/html": [
       "\n",
       "\n",
       "\n",
       "\n",
       "\n",
       "\n",
       "  <div class=\"bk-root\" id=\"9fceb5a2-13e9-4bda-ae2d-b002a523006c\" data-root-id=\"2768\"></div>\n"
      ]
     },
     "metadata": {},
     "output_type": "display_data"
    },
    {
     "data": {
      "application/javascript": [
       "(function(root) {\n",
       "  function embed_document(root) {\n",
       "    \n",
       "  var docs_json = {\"444e2d52-5b0d-47e6-ad32-6e23f85845bc\":{\"roots\":{\"references\":[{\"attributes\":{\"below\":[{\"id\":\"2779\",\"type\":\"DatetimeAxis\"}],\"center\":[{\"id\":\"2783\",\"type\":\"Grid\"},{\"id\":\"2788\",\"type\":\"Grid\"},{\"id\":\"2812\",\"type\":\"Span\"}],\"left\":[{\"id\":\"2784\",\"type\":\"LinearAxis\"}],\"plot_height\":320,\"plot_width\":960,\"renderers\":[{\"id\":\"2805\",\"type\":\"GlyphRenderer\"},{\"id\":\"2810\",\"type\":\"GlyphRenderer\"}],\"title\":{\"id\":\"2769\",\"type\":\"Title\"},\"toolbar\":{\"id\":\"2795\",\"type\":\"Toolbar\"},\"toolbar_location\":null,\"x_range\":{\"id\":\"2771\",\"type\":\"DataRange1d\"},\"x_scale\":{\"id\":\"2775\",\"type\":\"LinearScale\"},\"y_range\":{\"id\":\"2773\",\"type\":\"DataRange1d\"},\"y_scale\":{\"id\":\"2777\",\"type\":\"LinearScale\"}},\"id\":\"2768\",\"subtype\":\"Figure\",\"type\":\"Plot\"},{\"attributes\":{\"dimension\":1,\"grid_line_alpha\":0.3,\"ticker\":{\"id\":\"2785\",\"type\":\"BasicTicker\"}},\"id\":\"2788\",\"type\":\"Grid\"},{\"attributes\":{},\"id\":\"2949\",\"type\":\"Selection\"},{\"attributes\":{\"num_minor_ticks\":5,\"tickers\":[{\"id\":\"2936\",\"type\":\"AdaptiveTicker\"},{\"id\":\"2937\",\"type\":\"AdaptiveTicker\"},{\"id\":\"2938\",\"type\":\"AdaptiveTicker\"},{\"id\":\"2939\",\"type\":\"DaysTicker\"},{\"id\":\"2940\",\"type\":\"DaysTicker\"},{\"id\":\"2941\",\"type\":\"DaysTicker\"},{\"id\":\"2942\",\"type\":\"DaysTicker\"},{\"id\":\"2943\",\"type\":\"MonthsTicker\"},{\"id\":\"2944\",\"type\":\"MonthsTicker\"},{\"id\":\"2945\",\"type\":\"MonthsTicker\"},{\"id\":\"2946\",\"type\":\"MonthsTicker\"},{\"id\":\"2947\",\"type\":\"YearsTicker\"}]},\"id\":\"2780\",\"type\":\"DatetimeTicker\"},{\"attributes\":{},\"id\":\"2947\",\"type\":\"YearsTicker\"},{\"attributes\":{\"data_source\":{\"id\":\"2802\",\"type\":\"ColumnDataSource\"},\"glyph\":{\"id\":\"2803\",\"type\":\"Circle\"},\"hover_glyph\":null,\"muted_glyph\":null,\"nonselection_glyph\":{\"id\":\"2804\",\"type\":\"Circle\"},\"selection_glyph\":null,\"view\":{\"id\":\"2806\",\"type\":\"CDSView\"}},\"id\":\"2805\",\"type\":\"GlyphRenderer\"},{\"attributes\":{\"data_source\":{\"id\":\"2807\",\"type\":\"ColumnDataSource\"},\"glyph\":{\"id\":\"2808\",\"type\":\"Line\"},\"hover_glyph\":null,\"muted_glyph\":null,\"nonselection_glyph\":{\"id\":\"2809\",\"type\":\"Line\"},\"selection_glyph\":null,\"view\":{\"id\":\"2811\",\"type\":\"CDSView\"}},\"id\":\"2810\",\"type\":\"GlyphRenderer\"},{\"attributes\":{\"grid_line_alpha\":0.3,\"ticker\":{\"id\":\"2780\",\"type\":\"DatetimeTicker\"}},\"id\":\"2783\",\"type\":\"Grid\"},{\"attributes\":{},\"id\":\"2933\",\"type\":\"BasicTickFormatter\"},{\"attributes\":{},\"id\":\"2948\",\"type\":\"UnionRenderers\"},{\"attributes\":{\"line_dash\":[6],\"line_width\":{\"value\":2},\"location\":128.0887731259797},\"id\":\"2812\",\"type\":\"Span\"},{\"attributes\":{},\"id\":\"2950\",\"type\":\"UnionRenderers\"},{\"attributes\":{},\"id\":\"2785\",\"type\":\"BasicTicker\"},{\"attributes\":{\"source\":{\"id\":\"2802\",\"type\":\"ColumnDataSource\"}},\"id\":\"2806\",\"type\":\"CDSView\"},{\"attributes\":{\"base\":60,\"mantissas\":[1,2,5,10,15,20,30],\"max_interval\":1800000.0,\"min_interval\":1000.0,\"num_minor_ticks\":0},\"id\":\"2937\",\"type\":\"AdaptiveTicker\"},{\"attributes\":{\"axis_label\":\"RMSE [KW]\",\"axis_label_text_font_size\":{\"value\":\"14pt\"},\"formatter\":{\"id\":\"2933\",\"type\":\"BasicTickFormatter\"},\"major_label_text_font_size\":{\"value\":\"12pt\"},\"ticker\":{\"id\":\"2785\",\"type\":\"BasicTicker\"}},\"id\":\"2784\",\"type\":\"LinearAxis\"},{\"attributes\":{},\"id\":\"2951\",\"type\":\"Selection\"},{\"attributes\":{\"mantissas\":[1,2,5],\"max_interval\":500.0,\"num_minor_ticks\":0},\"id\":\"2936\",\"type\":\"AdaptiveTicker\"},{\"attributes\":{\"line_alpha\":0.1,\"line_color\":\"#1f77b4\",\"x\":{\"field\":\"x\"},\"y\":{\"field\":\"y\"}},\"id\":\"2809\",\"type\":\"Line\"},{\"attributes\":{\"bottom_units\":\"screen\",\"fill_alpha\":{\"value\":0.5},\"fill_color\":{\"value\":\"lightgrey\"},\"left_units\":\"screen\",\"level\":\"overlay\",\"line_alpha\":{\"value\":1.0},\"line_color\":{\"value\":\"black\"},\"line_dash\":[4,4],\"line_width\":{\"value\":2},\"render_mode\":\"css\",\"right_units\":\"screen\",\"top_units\":\"screen\"},\"id\":\"2952\",\"type\":\"BoxAnnotation\"},{\"attributes\":{\"callback\":null,\"data\":{\"x\":[1525363200000.0,1525366800000.0,1525370400000.0,1525374000000.0,1525377600000.0,1525381200000.0,1525384800000.0,1525388400000.0,1525392000000.0,1525395600000.0,1525399200000.0,1525402800000.0,1525406400000.0,1525410000000.0,1525413600000.0,1525417200000.0,1525420800000.0,1525424400000.0,1525428000000.0,1525431600000.0,1525435200000.0,1525438800000.0,1525442400000.0,1525446000000.0,1525449600000.0,1525453200000.0,1525456800000.0,1525460400000.0,1525464000000.0,1525467600000.0,1525471200000.0,1525474800000.0,1525478400000.0,1525482000000.0,1525485600000.0,1525489200000.0,1525492800000.0,1525496400000.0,1525500000000.0,1525503600000.0,1525507200000.0,1525510800000.0,1525514400000.0,1525518000000.0,1525521600000.0,1525525200000.0,1525528800000.0,1525532400000.0,1525536000000.0,1525539600000.0,1525543200000.0,1525546800000.0,1525550400000.0,1525554000000.0,1525557600000.0,1525561200000.0,1525564800000.0,1525568400000.0,1525572000000.0,1525575600000.0,1525579200000.0,1525582800000.0,1525586400000.0,1525590000000.0,1525593600000.0,1525597200000.0,1525600800000.0,1525604400000.0,1525608000000.0,1525611600000.0,1525615200000.0,1525618800000.0,1525622400000.0,1525626000000.0,1525629600000.0,1525633200000.0,1525636800000.0,1525640400000.0,1525644000000.0,1525647600000.0,1525651200000.0,1525654800000.0,1525658400000.0,1525662000000.0,1525665600000.0,1525669200000.0,1525672800000.0,1525676400000.0,1525680000000.0,1525683600000.0,1525687200000.0,1525690800000.0,1525694400000.0,1525698000000.0,1525701600000.0,1525705200000.0,1525708800000.0,1525712400000.0,1525716000000.0,1525719600000.0,1525723200000.0,1525726800000.0,1525730400000.0,1525734000000.0,1525737600000.0,1525741200000.0,1525744800000.0,1525748400000.0,1525752000000.0,1525755600000.0,1525759200000.0,1525762800000.0,1525766400000.0,1525770000000.0,1525773600000.0,1525777200000.0,1525780800000.0,1525784400000.0,1525788000000.0,1525791600000.0,1525795200000.0,1525798800000.0,1525802400000.0,1525806000000.0,1525809600000.0,1525813200000.0,1525816800000.0,1525820400000.0,1525824000000.0,1525827600000.0,1525831200000.0,1525834800000.0,1525838400000.0,1525842000000.0,1525845600000.0,1525849200000.0,1525852800000.0,1525856400000.0,1525860000000.0,1525863600000.0,1525867200000.0,1525870800000.0,1525874400000.0,1525878000000.0,1525881600000.0,1525885200000.0,1525888800000.0,1525892400000.0,1525896000000.0,1525899600000.0,1525903200000.0,1525906800000.0,1525910400000.0,1525914000000.0,1525917600000.0,1525921200000.0,1525924800000.0,1525928400000.0,1525932000000.0,1525935600000.0,1525939200000.0,1525942800000.0,1525946400000.0,1525950000000.0,1525953600000.0,1525957200000.0,1525960800000.0,1525964400000.0,1525968000000.0,1525971600000.0,1525975200000.0,1525978800000.0,1525982400000.0,1525986000000.0,1525989600000.0,1525993200000.0,1525996800000.0,1526000400000.0,1526004000000.0,1526007600000.0,1526011200000.0,1526014800000.0,1526018400000.0,1526022000000.0,1526025600000.0,1526029200000.0,1526032800000.0,1526036400000.0,1526040000000.0,1526043600000.0,1526047200000.0,1526050800000.0,1526054400000.0,1526058000000.0,1526061600000.0,1526065200000.0,1526068800000.0,1526072400000.0,1526076000000.0,1526079600000.0,1526083200000.0,1526086800000.0,1526090400000.0,1526094000000.0,1526097600000.0,1526101200000.0,1526104800000.0,1526108400000.0,1526112000000.0,1526115600000.0,1526119200000.0,1526122800000.0,1526126400000.0,1526130000000.0,1526133600000.0,1526137200000.0,1526140800000.0,1526144400000.0,1526148000000.0,1526151600000.0,1526155200000.0,1526158800000.0,1526162400000.0,1526166000000.0,1526169600000.0,1526173200000.0,1526176800000.0,1526180400000.0,1526184000000.0,1526187600000.0,1526191200000.0,1526194800000.0,1526198400000.0,1526202000000.0,1526205600000.0,1526209200000.0,1526212800000.0,1526216400000.0,1526220000000.0,1526223600000.0,1526227200000.0,1526230800000.0,1526234400000.0,1526238000000.0,1526241600000.0,1526245200000.0,1526248800000.0,1526252400000.0,1526256000000.0,1526259600000.0,1526263200000.0,1526266800000.0,1526270400000.0,1526274000000.0,1526277600000.0,1526281200000.0,1526284800000.0,1526288400000.0,1526292000000.0,1526295600000.0,1526299200000.0,1526302800000.0,1526306400000.0,1526310000000.0,1526313600000.0,1526317200000.0,1526320800000.0,1526324400000.0,1526328000000.0,1526331600000.0,1526335200000.0,1526338800000.0,1526342400000.0,1526346000000.0,1526349600000.0,1526353200000.0,1526356800000.0,1526360400000.0,1526364000000.0,1526367600000.0,1526371200000.0,1526374800000.0,1526378400000.0,1526382000000.0,1526385600000.0,1526389200000.0,1526392800000.0,1526396400000.0,1526400000000.0,1526403600000.0,1526407200000.0,1526410800000.0,1526414400000.0,1526418000000.0,1526421600000.0,1526425200000.0,1526428800000.0,1526432400000.0,1526436000000.0,1526439600000.0,1526443200000.0,1526446800000.0,1526450400000.0,1526454000000.0,1526457600000.0,1526461200000.0,1526464800000.0,1526468400000.0,1526472000000.0,1526475600000.0,1526479200000.0,1526482800000.0,1526486400000.0,1526490000000.0,1526493600000.0,1526497200000.0,1526500800000.0,1526504400000.0,1526508000000.0,1526511600000.0,1526515200000.0,1526518800000.0,1526522400000.0,1526526000000.0,1526529600000.0,1526533200000.0,1526536800000.0,1526540400000.0,1526544000000.0,1526547600000.0,1526551200000.0,1526554800000.0,1526558400000.0,1526562000000.0,1526565600000.0,1526569200000.0,1526572800000.0,1526576400000.0,1526580000000.0,1526583600000.0,1526587200000.0,1526590800000.0,1526594400000.0,1526598000000.0,1526601600000.0,1526605200000.0,1526608800000.0,1526612400000.0,1526616000000.0,1526619600000.0,1526623200000.0,1526626800000.0,1526630400000.0,1526634000000.0,1526637600000.0,1526641200000.0,1526644800000.0,1526648400000.0,1526652000000.0,1526655600000.0,1526659200000.0,1526662800000.0,1526666400000.0,1526670000000.0,1526673600000.0,1526677200000.0,1526680800000.0,1526684400000.0,1526688000000.0,1526691600000.0,1526695200000.0,1526698800000.0,1526702400000.0,1526706000000.0,1526709600000.0,1526713200000.0,1526716800000.0,1526720400000.0,1526724000000.0,1526727600000.0,1526731200000.0,1526734800000.0,1526738400000.0,1526742000000.0,1526745600000.0,1526749200000.0,1526752800000.0,1526756400000.0,1526760000000.0,1526763600000.0,1526767200000.0,1526770800000.0,1526774400000.0,1526778000000.0,1526781600000.0,1526785200000.0,1526788800000.0,1526792400000.0,1526796000000.0,1526799600000.0,1526803200000.0,1526806800000.0,1526810400000.0,1526814000000.0,1526817600000.0,1526821200000.0,1526824800000.0,1526828400000.0,1526832000000.0,1526835600000.0,1526839200000.0,1526842800000.0,1526846400000.0,1526850000000.0,1526853600000.0,1526857200000.0,1526860800000.0,1526864400000.0,1526868000000.0,1526871600000.0,1526875200000.0,1526878800000.0,1526882400000.0,1526886000000.0,1526889600000.0,1526893200000.0,1526896800000.0,1526900400000.0,1526904000000.0,1526907600000.0,1526911200000.0,1526914800000.0,1526918400000.0,1526922000000.0,1526925600000.0,1526929200000.0,1526932800000.0,1526936400000.0,1526940000000.0,1526943600000.0,1526947200000.0,1526950800000.0,1526954400000.0,1526958000000.0,1526961600000.0,1526965200000.0,1526968800000.0,1526972400000.0,1526976000000.0,1526979600000.0,1526983200000.0,1526986800000.0,1526990400000.0,1526994000000.0,1526997600000.0,1527001200000.0,1527004800000.0,1527008400000.0,1527012000000.0,1527015600000.0,1527019200000.0,1527022800000.0,1527026400000.0,1527030000000.0,1527033600000.0,1527037200000.0,1527040800000.0,1527044400000.0,1527048000000.0,1527051600000.0,1527055200000.0,1527058800000.0,1527062400000.0,1527066000000.0,1527069600000.0,1527073200000.0,1527076800000.0,1527080400000.0,1527084000000.0,1527087600000.0,1527091200000.0,1527094800000.0,1527098400000.0,1527102000000.0,1527105600000.0,1527109200000.0,1527112800000.0,1527116400000.0,1527120000000.0,1527123600000.0,1527127200000.0,1527130800000.0,1527134400000.0,1527138000000.0,1527141600000.0,1527145200000.0,1527148800000.0,1527152400000.0,1527156000000.0,1527159600000.0,1527163200000.0,1527166800000.0,1527170400000.0,1527174000000.0,1527177600000.0,1527181200000.0,1527184800000.0,1527188400000.0,1527192000000.0,1527195600000.0,1527199200000.0,1527202800000.0,1527206400000.0,1527210000000.0,1527213600000.0,1527217200000.0,1527220800000.0,1527224400000.0,1527228000000.0,1527231600000.0,1527235200000.0,1527238800000.0,1527242400000.0,1527246000000.0,1527249600000.0,1527253200000.0,1527256800000.0,1527260400000.0,1527264000000.0,1527267600000.0,1527271200000.0,1527274800000.0,1527278400000.0,1527282000000.0,1527285600000.0,1527289200000.0,1527292800000.0,1527296400000.0,1527300000000.0,1527303600000.0,1527307200000.0,1527310800000.0,1527314400000.0,1527318000000.0,1527321600000.0,1527325200000.0,1527328800000.0,1527332400000.0,1527336000000.0,1527339600000.0,1527343200000.0,1527346800000.0,1527350400000.0,1527354000000.0,1527357600000.0,1527361200000.0,1527364800000.0,1527368400000.0,1527372000000.0,1527375600000.0,1527379200000.0,1527382800000.0,1527386400000.0,1527390000000.0,1527393600000.0,1527397200000.0,1527400800000.0,1527404400000.0,1527408000000.0,1527411600000.0,1527415200000.0,1527418800000.0,1527422400000.0,1527426000000.0,1527429600000.0,1527433200000.0,1527436800000.0,1527440400000.0,1527444000000.0,1527447600000.0,1527451200000.0,1527454800000.0,1527458400000.0,1527462000000.0,1527465600000.0,1527469200000.0,1527472800000.0,1527476400000.0,1527480000000.0,1527483600000.0,1527487200000.0,1527490800000.0,1527494400000.0,1527498000000.0,1527501600000.0,1527505200000.0,1527508800000.0,1527512400000.0,1527516000000.0,1527519600000.0,1527523200000.0,1527526800000.0,1527530400000.0,1527534000000.0,1527537600000.0,1527541200000.0,1527544800000.0,1527548400000.0,1527552000000.0,1527555600000.0,1527559200000.0,1527562800000.0,1527566400000.0,1527570000000.0,1527573600000.0,1527577200000.0,1527580800000.0,1527584400000.0,1527588000000.0,1527591600000.0,1527595200000.0,1527598800000.0,1527602400000.0,1527606000000.0,1527609600000.0,1527613200000.0,1527616800000.0,1527620400000.0,1527624000000.0,1527627600000.0,1527631200000.0,1527634800000.0,1527638400000.0,1527642000000.0,1527645600000.0,1527649200000.0,1527652800000.0,1527656400000.0,1527660000000.0,1527663600000.0,1527667200000.0,1527670800000.0,1527674400000.0,1527678000000.0,1527681600000.0,1527685200000.0,1527688800000.0,1527692400000.0,1527696000000.0,1527699600000.0,1527703200000.0,1527706800000.0,1527710400000.0,1527714000000.0,1527717600000.0,1527721200000.0,1527724800000.0,1527728400000.0,1527732000000.0,1527735600000.0,1527739200000.0,1527742800000.0,1527746400000.0,1527750000000.0,1527753600000.0,1527757200000.0,1527760800000.0,1527764400000.0,1527768000000.0,1527771600000.0,1527775200000.0,1527778800000.0],\"y\":{\"__ndarray__\":\"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\",\"dtype\":\"float64\",\"shape\":[672]}},\"selected\":{\"id\":\"2949\",\"type\":\"Selection\"},\"selection_policy\":{\"id\":\"2948\",\"type\":\"UnionRenderers\"}},\"id\":\"2802\",\"type\":\"ColumnDataSource\"},{\"attributes\":{\"active_drag\":\"auto\",\"active_inspect\":\"auto\",\"active_multi\":null,\"active_scroll\":\"auto\",\"active_tap\":\"auto\",\"tools\":[{\"id\":\"2789\",\"type\":\"PanTool\"},{\"id\":\"2790\",\"type\":\"WheelZoomTool\"},{\"id\":\"2791\",\"type\":\"BoxZoomTool\"},{\"id\":\"2792\",\"type\":\"SaveTool\"},{\"id\":\"2793\",\"type\":\"ResetTool\"},{\"id\":\"2794\",\"type\":\"HelpTool\"}]},\"id\":\"2795\",\"type\":\"Toolbar\"},{\"attributes\":{},\"id\":\"2935\",\"type\":\"DatetimeTickFormatter\"},{\"attributes\":{\"months\":[0,6]},\"id\":\"2946\",\"type\":\"MonthsTicker\"},{\"attributes\":{\"base\":24,\"mantissas\":[1,2,4,6,8,12],\"max_interval\":43200000.0,\"min_interval\":3600000.0,\"num_minor_ticks\":0},\"id\":\"2938\",\"type\":\"AdaptiveTicker\"},{\"attributes\":{\"days\":[1,2,3,4,5,6,7,8,9,10,11,12,13,14,15,16,17,18,19,20,21,22,23,24,25,26,27,28,29,30,31]},\"id\":\"2939\",\"type\":\"DaysTicker\"},{\"attributes\":{\"source\":{\"id\":\"2807\",\"type\":\"ColumnDataSource\"}},\"id\":\"2811\",\"type\":\"CDSView\"},{\"attributes\":{},\"id\":\"2789\",\"type\":\"PanTool\"},{\"attributes\":{\"days\":[1,4,7,10,13,16,19,22,25,28]},\"id\":\"2940\",\"type\":\"DaysTicker\"},{\"attributes\":{\"fill_alpha\":{\"value\":0.1},\"fill_color\":{\"value\":\"#1f77b4\"},\"line_alpha\":{\"value\":0.1},\"line_color\":{\"value\":\"#1f77b4\"},\"x\":{\"field\":\"x\"},\"y\":{\"field\":\"y\"}},\"id\":\"2804\",\"type\":\"Circle\"},{\"attributes\":{},\"id\":\"2790\",\"type\":\"WheelZoomTool\"},{\"attributes\":{\"days\":[1,8,15,22]},\"id\":\"2941\",\"type\":\"DaysTicker\"},{\"attributes\":{},\"id\":\"2775\",\"type\":\"LinearScale\"},{\"attributes\":{\"text\":\"EDSLSTM Performance: RMSE for 672 Consecutive 1-hour Rolling Predictions.\",\"text_font_size\":{\"value\":\"14pt\"}},\"id\":\"2769\",\"type\":\"Title\"},{\"attributes\":{\"overlay\":{\"id\":\"2952\",\"type\":\"BoxAnnotation\"}},\"id\":\"2791\",\"type\":\"BoxZoomTool\"},{\"attributes\":{\"days\":[1,15]},\"id\":\"2942\",\"type\":\"DaysTicker\"},{\"attributes\":{},\"id\":\"2777\",\"type\":\"LinearScale\"},{\"attributes\":{\"fill_color\":{\"value\":null},\"x\":{\"field\":\"x\"},\"y\":{\"field\":\"y\"}},\"id\":\"2803\",\"type\":\"Circle\"},{\"attributes\":{\"callback\":null},\"id\":\"2771\",\"type\":\"DataRange1d\"},{\"attributes\":{},\"id\":\"2792\",\"type\":\"SaveTool\"},{\"attributes\":{\"months\":[0,1,2,3,4,5,6,7,8,9,10,11]},\"id\":\"2943\",\"type\":\"MonthsTicker\"},{\"attributes\":{},\"id\":\"2793\",\"type\":\"ResetTool\"},{\"attributes\":{\"months\":[0,2,4,6,8,10]},\"id\":\"2944\",\"type\":\"MonthsTicker\"},{\"attributes\":{},\"id\":\"2794\",\"type\":\"HelpTool\"},{\"attributes\":{\"callback\":null},\"id\":\"2773\",\"type\":\"DataRange1d\"},{\"attributes\":{\"x\":{\"field\":\"x\"},\"y\":{\"field\":\"y\"}},\"id\":\"2808\",\"type\":\"Line\"},{\"attributes\":{\"months\":[0,4,8]},\"id\":\"2945\",\"type\":\"MonthsTicker\"},{\"attributes\":{\"callback\":null,\"data\":{\"x\":[1525363200000.0,1525366800000.0,1525370400000.0,1525374000000.0,1525377600000.0,1525381200000.0,1525384800000.0,1525388400000.0,1525392000000.0,1525395600000.0,1525399200000.0,1525402800000.0,1525406400000.0,1525410000000.0,1525413600000.0,1525417200000.0,1525420800000.0,1525424400000.0,1525428000000.0,1525431600000.0,1525435200000.0,1525438800000.0,1525442400000.0,1525446000000.0,1525449600000.0,1525453200000.0,1525456800000.0,1525460400000.0,1525464000000.0,1525467600000.0,1525471200000.0,1525474800000.0,1525478400000.0,1525482000000.0,1525485600000.0,1525489200000.0,1525492800000.0,1525496400000.0,1525500000000.0,1525503600000.0,1525507200000.0,1525510800000.0,1525514400000.0,1525518000000.0,1525521600000.0,1525525200000.0,1525528800000.0,1525532400000.0,1525536000000.0,1525539600000.0,1525543200000.0,1525546800000.0,1525550400000.0,1525554000000.0,1525557600000.0,1525561200000.0,1525564800000.0,1525568400000.0,1525572000000.0,1525575600000.0,1525579200000.0,1525582800000.0,1525586400000.0,1525590000000.0,1525593600000.0,1525597200000.0,1525600800000.0,1525604400000.0,1525608000000.0,1525611600000.0,1525615200000.0,1525618800000.0,1525622400000.0,1525626000000.0,1525629600000.0,1525633200000.0,1525636800000.0,1525640400000.0,1525644000000.0,1525647600000.0,1525651200000.0,1525654800000.0,1525658400000.0,1525662000000.0,1525665600000.0,1525669200000.0,1525672800000.0,1525676400000.0,1525680000000.0,1525683600000.0,1525687200000.0,1525690800000.0,1525694400000.0,1525698000000.0,1525701600000.0,1525705200000.0,1525708800000.0,1525712400000.0,1525716000000.0,1525719600000.0,1525723200000.0,1525726800000.0,1525730400000.0,1525734000000.0,1525737600000.0,1525741200000.0,1525744800000.0,1525748400000.0,1525752000000.0,1525755600000.0,1525759200000.0,1525762800000.0,1525766400000.0,1525770000000.0,1525773600000.0,1525777200000.0,1525780800000.0,1525784400000.0,1525788000000.0,1525791600000.0,1525795200000.0,1525798800000.0,1525802400000.0,1525806000000.0,1525809600000.0,1525813200000.0,1525816800000.0,1525820400000.0,1525824000000.0,1525827600000.0,1525831200000.0,1525834800000.0,1525838400000.0,1525842000000.0,1525845600000.0,1525849200000.0,1525852800000.0,1525856400000.0,1525860000000.0,1525863600000.0,1525867200000.0,1525870800000.0,1525874400000.0,1525878000000.0,1525881600000.0,1525885200000.0,1525888800000.0,1525892400000.0,1525896000000.0,1525899600000.0,1525903200000.0,1525906800000.0,1525910400000.0,1525914000000.0,1525917600000.0,1525921200000.0,1525924800000.0,1525928400000.0,1525932000000.0,1525935600000.0,1525939200000.0,1525942800000.0,1525946400000.0,1525950000000.0,1525953600000.0,1525957200000.0,1525960800000.0,1525964400000.0,1525968000000.0,1525971600000.0,1525975200000.0,1525978800000.0,1525982400000.0,1525986000000.0,1525989600000.0,1525993200000.0,1525996800000.0,1526000400000.0,1526004000000.0,1526007600000.0,1526011200000.0,1526014800000.0,1526018400000.0,1526022000000.0,1526025600000.0,1526029200000.0,1526032800000.0,1526036400000.0,1526040000000.0,1526043600000.0,1526047200000.0,1526050800000.0,1526054400000.0,1526058000000.0,1526061600000.0,1526065200000.0,1526068800000.0,1526072400000.0,1526076000000.0,1526079600000.0,1526083200000.0,1526086800000.0,1526090400000.0,1526094000000.0,1526097600000.0,1526101200000.0,1526104800000.0,1526108400000.0,1526112000000.0,1526115600000.0,1526119200000.0,1526122800000.0,1526126400000.0,1526130000000.0,1526133600000.0,1526137200000.0,1526140800000.0,1526144400000.0,1526148000000.0,1526151600000.0,1526155200000.0,1526158800000.0,1526162400000.0,1526166000000.0,1526169600000.0,1526173200000.0,1526176800000.0,1526180400000.0,1526184000000.0,1526187600000.0,1526191200000.0,1526194800000.0,1526198400000.0,1526202000000.0,1526205600000.0,1526209200000.0,1526212800000.0,1526216400000.0,1526220000000.0,1526223600000.0,1526227200000.0,1526230800000.0,1526234400000.0,1526238000000.0,1526241600000.0,1526245200000.0,1526248800000.0,1526252400000.0,1526256000000.0,1526259600000.0,1526263200000.0,1526266800000.0,1526270400000.0,1526274000000.0,1526277600000.0,1526281200000.0,1526284800000.0,1526288400000.0,1526292000000.0,1526295600000.0,1526299200000.0,1526302800000.0,1526306400000.0,1526310000000.0,1526313600000.0,1526317200000.0,1526320800000.0,1526324400000.0,1526328000000.0,1526331600000.0,1526335200000.0,1526338800000.0,1526342400000.0,1526346000000.0,1526349600000.0,1526353200000.0,1526356800000.0,1526360400000.0,1526364000000.0,1526367600000.0,1526371200000.0,1526374800000.0,1526378400000.0,1526382000000.0,1526385600000.0,1526389200000.0,1526392800000.0,1526396400000.0,1526400000000.0,1526403600000.0,1526407200000.0,1526410800000.0,1526414400000.0,1526418000000.0,1526421600000.0,1526425200000.0,1526428800000.0,1526432400000.0,1526436000000.0,1526439600000.0,1526443200000.0,1526446800000.0,1526450400000.0,1526454000000.0,1526457600000.0,1526461200000.0,1526464800000.0,1526468400000.0,1526472000000.0,1526475600000.0,1526479200000.0,1526482800000.0,1526486400000.0,1526490000000.0,1526493600000.0,1526497200000.0,1526500800000.0,1526504400000.0,1526508000000.0,1526511600000.0,1526515200000.0,1526518800000.0,1526522400000.0,1526526000000.0,1526529600000.0,1526533200000.0,1526536800000.0,1526540400000.0,1526544000000.0,1526547600000.0,1526551200000.0,1526554800000.0,1526558400000.0,1526562000000.0,1526565600000.0,1526569200000.0,1526572800000.0,1526576400000.0,1526580000000.0,1526583600000.0,1526587200000.0,1526590800000.0,1526594400000.0,1526598000000.0,1526601600000.0,1526605200000.0,1526608800000.0,1526612400000.0,1526616000000.0,1526619600000.0,1526623200000.0,1526626800000.0,1526630400000.0,1526634000000.0,1526637600000.0,1526641200000.0,1526644800000.0,1526648400000.0,1526652000000.0,1526655600000.0,1526659200000.0,1526662800000.0,1526666400000.0,1526670000000.0,1526673600000.0,1526677200000.0,1526680800000.0,1526684400000.0,1526688000000.0,1526691600000.0,1526695200000.0,1526698800000.0,1526702400000.0,1526706000000.0,1526709600000.0,1526713200000.0,1526716800000.0,1526720400000.0,1526724000000.0,1526727600000.0,1526731200000.0,1526734800000.0,1526738400000.0,1526742000000.0,1526745600000.0,1526749200000.0,1526752800000.0,1526756400000.0,1526760000000.0,1526763600000.0,1526767200000.0,1526770800000.0,1526774400000.0,1526778000000.0,1526781600000.0,1526785200000.0,1526788800000.0,1526792400000.0,1526796000000.0,1526799600000.0,1526803200000.0,1526806800000.0,1526810400000.0,1526814000000.0,1526817600000.0,1526821200000.0,1526824800000.0,1526828400000.0,1526832000000.0,1526835600000.0,1526839200000.0,1526842800000.0,1526846400000.0,1526850000000.0,1526853600000.0,1526857200000.0,1526860800000.0,1526864400000.0,1526868000000.0,1526871600000.0,1526875200000.0,1526878800000.0,1526882400000.0,1526886000000.0,1526889600000.0,1526893200000.0,1526896800000.0,1526900400000.0,1526904000000.0,1526907600000.0,1526911200000.0,1526914800000.0,1526918400000.0,1526922000000.0,1526925600000.0,1526929200000.0,1526932800000.0,1526936400000.0,1526940000000.0,1526943600000.0,1526947200000.0,1526950800000.0,1526954400000.0,1526958000000.0,1526961600000.0,1526965200000.0,1526968800000.0,1526972400000.0,1526976000000.0,1526979600000.0,1526983200000.0,1526986800000.0,1526990400000.0,1526994000000.0,1526997600000.0,1527001200000.0,1527004800000.0,1527008400000.0,1527012000000.0,1527015600000.0,1527019200000.0,1527022800000.0,1527026400000.0,1527030000000.0,1527033600000.0,1527037200000.0,1527040800000.0,1527044400000.0,1527048000000.0,1527051600000.0,1527055200000.0,1527058800000.0,1527062400000.0,1527066000000.0,1527069600000.0,1527073200000.0,1527076800000.0,1527080400000.0,1527084000000.0,1527087600000.0,1527091200000.0,1527094800000.0,1527098400000.0,1527102000000.0,1527105600000.0,1527109200000.0,1527112800000.0,1527116400000.0,1527120000000.0,1527123600000.0,1527127200000.0,1527130800000.0,1527134400000.0,1527138000000.0,1527141600000.0,1527145200000.0,1527148800000.0,1527152400000.0,1527156000000.0,1527159600000.0,1527163200000.0,1527166800000.0,1527170400000.0,1527174000000.0,1527177600000.0,1527181200000.0,1527184800000.0,1527188400000.0,1527192000000.0,1527195600000.0,1527199200000.0,1527202800000.0,1527206400000.0,1527210000000.0,1527213600000.0,1527217200000.0,1527220800000.0,1527224400000.0,1527228000000.0,1527231600000.0,1527235200000.0,1527238800000.0,1527242400000.0,1527246000000.0,1527249600000.0,1527253200000.0,1527256800000.0,1527260400000.0,1527264000000.0,1527267600000.0,1527271200000.0,1527274800000.0,1527278400000.0,1527282000000.0,1527285600000.0,1527289200000.0,1527292800000.0,1527296400000.0,1527300000000.0,1527303600000.0,1527307200000.0,1527310800000.0,1527314400000.0,1527318000000.0,1527321600000.0,1527325200000.0,1527328800000.0,1527332400000.0,1527336000000.0,1527339600000.0,1527343200000.0,1527346800000.0,1527350400000.0,1527354000000.0,1527357600000.0,1527361200000.0,1527364800000.0,1527368400000.0,1527372000000.0,1527375600000.0,1527379200000.0,1527382800000.0,1527386400000.0,1527390000000.0,1527393600000.0,1527397200000.0,1527400800000.0,1527404400000.0,1527408000000.0,1527411600000.0,1527415200000.0,1527418800000.0,1527422400000.0,1527426000000.0,1527429600000.0,1527433200000.0,1527436800000.0,1527440400000.0,1527444000000.0,1527447600000.0,1527451200000.0,1527454800000.0,1527458400000.0,1527462000000.0,1527465600000.0,1527469200000.0,1527472800000.0,1527476400000.0,1527480000000.0,1527483600000.0,1527487200000.0,1527490800000.0,1527494400000.0,1527498000000.0,1527501600000.0,1527505200000.0,1527508800000.0,1527512400000.0,1527516000000.0,1527519600000.0,1527523200000.0,1527526800000.0,1527530400000.0,1527534000000.0,1527537600000.0,1527541200000.0,1527544800000.0,1527548400000.0,1527552000000.0,1527555600000.0,1527559200000.0,1527562800000.0,1527566400000.0,1527570000000.0,1527573600000.0,1527577200000.0,1527580800000.0,1527584400000.0,1527588000000.0,1527591600000.0,1527595200000.0,1527598800000.0,1527602400000.0,1527606000000.0,1527609600000.0,1527613200000.0,1527616800000.0,1527620400000.0,1527624000000.0,1527627600000.0,1527631200000.0,1527634800000.0,1527638400000.0,1527642000000.0,1527645600000.0,1527649200000.0,1527652800000.0,1527656400000.0,1527660000000.0,1527663600000.0,1527667200000.0,1527670800000.0,1527674400000.0,1527678000000.0,1527681600000.0,1527685200000.0,1527688800000.0,1527692400000.0,1527696000000.0,1527699600000.0,1527703200000.0,1527706800000.0,1527710400000.0,1527714000000.0,1527717600000.0,1527721200000.0,1527724800000.0,1527728400000.0,1527732000000.0,1527735600000.0,1527739200000.0,1527742800000.0,1527746400000.0,1527750000000.0,1527753600000.0,1527757200000.0,1527760800000.0,1527764400000.0,1527768000000.0,1527771600000.0,1527775200000.0,1527778800000.0],\"y\":{\"__ndarray__\":\"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\",\"dtype\":\"float64\",\"shape\":[672]}},\"selected\":{\"id\":\"2951\",\"type\":\"Selection\"},\"selection_policy\":{\"id\":\"2950\",\"type\":\"UnionRenderers\"}},\"id\":\"2807\",\"type\":\"ColumnDataSource\"},{\"attributes\":{\"axis_label\":\"Date\",\"axis_label_text_font_size\":{\"value\":\"14pt\"},\"formatter\":{\"id\":\"2935\",\"type\":\"DatetimeTickFormatter\"},\"major_label_text_font_size\":{\"value\":\"12pt\"},\"ticker\":{\"id\":\"2780\",\"type\":\"DatetimeTicker\"}},\"id\":\"2779\",\"type\":\"DatetimeAxis\"}],\"root_ids\":[\"2768\"]},\"title\":\"Bokeh Application\",\"version\":\"1.4.0\"}};\n",
       "  var render_items = [{\"docid\":\"444e2d52-5b0d-47e6-ad32-6e23f85845bc\",\"roots\":{\"2768\":\"9fceb5a2-13e9-4bda-ae2d-b002a523006c\"}}];\n",
       "  root.Bokeh.embed.embed_items_notebook(docs_json, render_items);\n",
       "\n",
       "  }\n",
       "  if (root.Bokeh !== undefined) {\n",
       "    embed_document(root);\n",
       "  } else {\n",
       "    var attempts = 0;\n",
       "    var timer = setInterval(function(root) {\n",
       "      if (root.Bokeh !== undefined) {\n",
       "        clearInterval(timer);\n",
       "        embed_document(root);\n",
       "      } else {\n",
       "        attempts++;\n",
       "        if (attempts > 100) {\n",
       "          clearInterval(timer);\n",
       "          console.log(\"Bokeh: ERROR: Unable to run BokehJS code because BokehJS library is missing\");\n",
       "        }\n",
       "      }\n",
       "    }, 10, root)\n",
       "  }\n",
       "})(window);"
      ],
      "application/vnd.bokehjs_exec.v0+json": ""
     },
     "metadata": {
      "application/vnd.bokehjs_exec.v0+json": {
       "id": "2768"
      }
     },
     "output_type": "display_data"
    }
   ],
   "source": [
    "# MAE, RMSE, and SMAPE for rolling predictions in 4 weeks\n",
    "# from global dataframe\n",
    "start, end = 0, 672\n",
    "size = 4\n",
    "\n",
    "plots['edslstm_metric'] = figure(\n",
    "    x_axis_type='datetime',\n",
    "    plot_width=960,\n",
    "    plot_height=320,\n",
    "    title='EDSLSTM Performance: {} for {} Consecutive 1-hour Rolling Predictions.'\\\n",
    "    .format('RMSE', end),\n",
    "    toolbar_location=None,\n",
    ")\n",
    "\n",
    "plots['edslstm_metric'].grid.grid_line_alpha=0.3\n",
    "\n",
    "plots['edslstm_metric'].title.text_font_size = '14pt'\n",
    "\n",
    "plots['edslstm_metric'].xaxis.axis_label_text_font_size = \"14pt\"\n",
    "plots['edslstm_metric'].yaxis.axis_label_text_font_size = \"14pt\"\n",
    "\n",
    "plots['edslstm_metric'].xaxis.major_label_text_font_size = \"12pt\"\n",
    "plots['edslstm_metric'].yaxis.major_label_text_font_size = \"12pt\"\n",
    "\n",
    "plots['edslstm_metric'].xaxis.axis_label = 'Date'\n",
    "plots['edslstm_metric'].yaxis.axis_label = 'RMSE [KW]'\n",
    "\n",
    "plots['edslstm_metric'].circle(\n",
    "    x=[pd.to_datetime(row[0]) for row in global_df['string_timestamps'][start:end]],\n",
    "    y=global_df['rmse'][start:end],\n",
    "    color='black',\n",
    "    size=size,\n",
    "    fill_color=None,\n",
    ")\n",
    "plots['edslstm_metric'].line(\n",
    "    x=[pd.to_datetime(row[0]) for row in global_df['string_timestamps'][start:end]],\n",
    "    y=global_df['rmse'][start:end],\n",
    "    color='black',\n",
    ")\n",
    "\n",
    "arima_one_week_rmse_average = Span(\n",
    "    location=np.mean(np.array(arima_one_week_rmse)),\n",
    "    dimension='width',\n",
    "    line_color='black',\n",
    "    line_dash='dashed',\n",
    "    line_width=2)\n",
    "\n",
    "plots['edslstm_metric'].add_layout(arima_one_week_rmse_average)\n",
    "\n",
    "show(plots['edslstm_metric'])"
   ]
  },
  {
   "cell_type": "code",
   "execution_count": 72,
   "metadata": {},
   "outputs": [
    {
     "data": {
      "text/html": [
       "\n",
       "\n",
       "\n",
       "\n",
       "\n",
       "\n",
       "  <div class=\"bk-root\" id=\"b3952b81-a4f9-4f8a-8298-5059b8ba0d86\" data-root-id=\"3085\"></div>\n"
      ]
     },
     "metadata": {},
     "output_type": "display_data"
    },
    {
     "data": {
      "application/javascript": [
       "(function(root) {\n",
       "  function embed_document(root) {\n",
       "    \n",
       "  var docs_json = {\"5c5d6c7e-55cc-46c5-a50d-6a1350137ba8\":{\"roots\":{\"references\":[{\"attributes\":{\"below\":[{\"id\":\"3096\",\"type\":\"DatetimeAxis\"}],\"center\":[{\"id\":\"3100\",\"type\":\"Grid\"},{\"id\":\"3105\",\"type\":\"Grid\"},{\"id\":\"3129\",\"type\":\"Span\"}],\"left\":[{\"id\":\"3101\",\"type\":\"LinearAxis\"}],\"plot_height\":320,\"plot_width\":960,\"renderers\":[{\"id\":\"3122\",\"type\":\"GlyphRenderer\"},{\"id\":\"3127\",\"type\":\"GlyphRenderer\"}],\"title\":{\"id\":\"3086\",\"type\":\"Title\"},\"toolbar\":{\"id\":\"3112\",\"type\":\"Toolbar\"},\"toolbar_location\":null,\"x_range\":{\"id\":\"3088\",\"type\":\"DataRange1d\"},\"x_scale\":{\"id\":\"3092\",\"type\":\"LinearScale\"},\"y_range\":{\"id\":\"3090\",\"type\":\"DataRange1d\"},\"y_scale\":{\"id\":\"3094\",\"type\":\"LinearScale\"}},\"id\":\"3085\",\"subtype\":\"Figure\",\"type\":\"Plot\"},{\"attributes\":{},\"id\":\"3102\",\"type\":\"BasicTicker\"},{\"attributes\":{\"axis_label\":\"SMAPE [%]\",\"axis_label_text_font_size\":{\"value\":\"14pt\"},\"formatter\":{\"id\":\"3272\",\"type\":\"BasicTickFormatter\"},\"major_label_text_font_size\":{\"value\":\"12pt\"},\"ticker\":{\"id\":\"3102\",\"type\":\"BasicTicker\"}},\"id\":\"3101\",\"type\":\"LinearAxis\"},{\"attributes\":{\"line_dash\":[6],\"line_width\":{\"value\":2},\"location\":4.229812299109854},\"id\":\"3129\",\"type\":\"Span\"},{\"attributes\":{\"data_source\":{\"id\":\"3119\",\"type\":\"ColumnDataSource\"},\"glyph\":{\"id\":\"3120\",\"type\":\"Circle\"},\"hover_glyph\":null,\"muted_glyph\":null,\"nonselection_glyph\":{\"id\":\"3121\",\"type\":\"Circle\"},\"selection_glyph\":null,\"view\":{\"id\":\"3123\",\"type\":\"CDSView\"}},\"id\":\"3122\",\"type\":\"GlyphRenderer\"},{\"attributes\":{\"mantissas\":[1,2,5],\"max_interval\":500.0,\"num_minor_ticks\":0},\"id\":\"3275\",\"type\":\"AdaptiveTicker\"},{\"attributes\":{\"days\":[1,4,7,10,13,16,19,22,25,28]},\"id\":\"3279\",\"type\":\"DaysTicker\"},{\"attributes\":{\"callback\":null,\"data\":{\"x\":[1525363200000.0,1525366800000.0,1525370400000.0,1525374000000.0,1525377600000.0,1525381200000.0,1525384800000.0,1525388400000.0,1525392000000.0,1525395600000.0,1525399200000.0,1525402800000.0,1525406400000.0,1525410000000.0,1525413600000.0,1525417200000.0,1525420800000.0,1525424400000.0,1525428000000.0,1525431600000.0,1525435200000.0,1525438800000.0,1525442400000.0,1525446000000.0,1525449600000.0,1525453200000.0,1525456800000.0,1525460400000.0,1525464000000.0,1525467600000.0,1525471200000.0,1525474800000.0,1525478400000.0,1525482000000.0,1525485600000.0,1525489200000.0,1525492800000.0,1525496400000.0,1525500000000.0,1525503600000.0,1525507200000.0,1525510800000.0,1525514400000.0,1525518000000.0,1525521600000.0,1525525200000.0,1525528800000.0,1525532400000.0,1525536000000.0,1525539600000.0,1525543200000.0,1525546800000.0,1525550400000.0,1525554000000.0,1525557600000.0,1525561200000.0,1525564800000.0,1525568400000.0,1525572000000.0,1525575600000.0,1525579200000.0,1525582800000.0,1525586400000.0,1525590000000.0,1525593600000.0,1525597200000.0,1525600800000.0,1525604400000.0,1525608000000.0,1525611600000.0,1525615200000.0,1525618800000.0,1525622400000.0,1525626000000.0,1525629600000.0,1525633200000.0,1525636800000.0,1525640400000.0,1525644000000.0,1525647600000.0,1525651200000.0,1525654800000.0,1525658400000.0,1525662000000.0,1525665600000.0,1525669200000.0,1525672800000.0,1525676400000.0,1525680000000.0,1525683600000.0,1525687200000.0,1525690800000.0,1525694400000.0,1525698000000.0,1525701600000.0,1525705200000.0,1525708800000.0,1525712400000.0,1525716000000.0,1525719600000.0,1525723200000.0,1525726800000.0,1525730400000.0,1525734000000.0,1525737600000.0,1525741200000.0,1525744800000.0,1525748400000.0,1525752000000.0,1525755600000.0,1525759200000.0,1525762800000.0,1525766400000.0,1525770000000.0,1525773600000.0,1525777200000.0,1525780800000.0,1525784400000.0,1525788000000.0,1525791600000.0,1525795200000.0,1525798800000.0,1525802400000.0,1525806000000.0,1525809600000.0,1525813200000.0,1525816800000.0,1525820400000.0,1525824000000.0,1525827600000.0,1525831200000.0,1525834800000.0,1525838400000.0,1525842000000.0,1525845600000.0,1525849200000.0,1525852800000.0,1525856400000.0,1525860000000.0,1525863600000.0,1525867200000.0,1525870800000.0,1525874400000.0,1525878000000.0,1525881600000.0,1525885200000.0,1525888800000.0,1525892400000.0,1525896000000.0,1525899600000.0,1525903200000.0,1525906800000.0,1525910400000.0,1525914000000.0,1525917600000.0,1525921200000.0,1525924800000.0,1525928400000.0,1525932000000.0,1525935600000.0,1525939200000.0,1525942800000.0,1525946400000.0,1525950000000.0,1525953600000.0,1525957200000.0,1525960800000.0,1525964400000.0,1525968000000.0,1525971600000.0,1525975200000.0,1525978800000.0,1525982400000.0,1525986000000.0,1525989600000.0,1525993200000.0,1525996800000.0,1526000400000.0,1526004000000.0,1526007600000.0,1526011200000.0,1526014800000.0,1526018400000.0,1526022000000.0,1526025600000.0,1526029200000.0,1526032800000.0,1526036400000.0,1526040000000.0,1526043600000.0,1526047200000.0,1526050800000.0,1526054400000.0,1526058000000.0,1526061600000.0,1526065200000.0,1526068800000.0,1526072400000.0,1526076000000.0,1526079600000.0,1526083200000.0,1526086800000.0,1526090400000.0,1526094000000.0,1526097600000.0,1526101200000.0,1526104800000.0,1526108400000.0,1526112000000.0,1526115600000.0,1526119200000.0,1526122800000.0,1526126400000.0,1526130000000.0,1526133600000.0,1526137200000.0,1526140800000.0,1526144400000.0,1526148000000.0,1526151600000.0,1526155200000.0,1526158800000.0,1526162400000.0,1526166000000.0,1526169600000.0,1526173200000.0,1526176800000.0,1526180400000.0,1526184000000.0,1526187600000.0,1526191200000.0,1526194800000.0,1526198400000.0,1526202000000.0,1526205600000.0,1526209200000.0,1526212800000.0,1526216400000.0,1526220000000.0,1526223600000.0,1526227200000.0,1526230800000.0,1526234400000.0,1526238000000.0,1526241600000.0,1526245200000.0,1526248800000.0,1526252400000.0,1526256000000.0,1526259600000.0,1526263200000.0,1526266800000.0,1526270400000.0,1526274000000.0,1526277600000.0,1526281200000.0,1526284800000.0,1526288400000.0,1526292000000.0,1526295600000.0,1526299200000.0,1526302800000.0,1526306400000.0,1526310000000.0,1526313600000.0,1526317200000.0,1526320800000.0,1526324400000.0,1526328000000.0,1526331600000.0,1526335200000.0,1526338800000.0,1526342400000.0,1526346000000.0,1526349600000.0,1526353200000.0,1526356800000.0,1526360400000.0,1526364000000.0,1526367600000.0,1526371200000.0,1526374800000.0,1526378400000.0,1526382000000.0,1526385600000.0,1526389200000.0,1526392800000.0,1526396400000.0,1526400000000.0,1526403600000.0,1526407200000.0,1526410800000.0,1526414400000.0,1526418000000.0,1526421600000.0,1526425200000.0,1526428800000.0,1526432400000.0,1526436000000.0,1526439600000.0,1526443200000.0,1526446800000.0,1526450400000.0,1526454000000.0,1526457600000.0,1526461200000.0,1526464800000.0,1526468400000.0,1526472000000.0,1526475600000.0,1526479200000.0,1526482800000.0,1526486400000.0,1526490000000.0,1526493600000.0,1526497200000.0,1526500800000.0,1526504400000.0,1526508000000.0,1526511600000.0,1526515200000.0,1526518800000.0,1526522400000.0,1526526000000.0,1526529600000.0,1526533200000.0,1526536800000.0,1526540400000.0,1526544000000.0,1526547600000.0,1526551200000.0,1526554800000.0,1526558400000.0,1526562000000.0,1526565600000.0,1526569200000.0,1526572800000.0,1526576400000.0,1526580000000.0,1526583600000.0,1526587200000.0,1526590800000.0,1526594400000.0,1526598000000.0,1526601600000.0,1526605200000.0,1526608800000.0,1526612400000.0,1526616000000.0,1526619600000.0,1526623200000.0,1526626800000.0,1526630400000.0,1526634000000.0,1526637600000.0,1526641200000.0,1526644800000.0,1526648400000.0,1526652000000.0,1526655600000.0,1526659200000.0,1526662800000.0,1526666400000.0,1526670000000.0,1526673600000.0,1526677200000.0,1526680800000.0,1526684400000.0,1526688000000.0,1526691600000.0,1526695200000.0,1526698800000.0,1526702400000.0,1526706000000.0,1526709600000.0,1526713200000.0,1526716800000.0,1526720400000.0,1526724000000.0,1526727600000.0,1526731200000.0,1526734800000.0,1526738400000.0,1526742000000.0,1526745600000.0,1526749200000.0,1526752800000.0,1526756400000.0,1526760000000.0,1526763600000.0,1526767200000.0,1526770800000.0,1526774400000.0,1526778000000.0,1526781600000.0,1526785200000.0,1526788800000.0,1526792400000.0,1526796000000.0,1526799600000.0,1526803200000.0,1526806800000.0,1526810400000.0,1526814000000.0,1526817600000.0,1526821200000.0,1526824800000.0,1526828400000.0,1526832000000.0,1526835600000.0,1526839200000.0,1526842800000.0,1526846400000.0,1526850000000.0,1526853600000.0,1526857200000.0,1526860800000.0,1526864400000.0,1526868000000.0,1526871600000.0,1526875200000.0,1526878800000.0,1526882400000.0,1526886000000.0,1526889600000.0,1526893200000.0,1526896800000.0,1526900400000.0,1526904000000.0,1526907600000.0,1526911200000.0,1526914800000.0,1526918400000.0,1526922000000.0,1526925600000.0,1526929200000.0,1526932800000.0,1526936400000.0,1526940000000.0,1526943600000.0,1526947200000.0,1526950800000.0,1526954400000.0,1526958000000.0,1526961600000.0,1526965200000.0,1526968800000.0,1526972400000.0,1526976000000.0,1526979600000.0,1526983200000.0,1526986800000.0,1526990400000.0,1526994000000.0,1526997600000.0,1527001200000.0,1527004800000.0,1527008400000.0,1527012000000.0,1527015600000.0,1527019200000.0,1527022800000.0,1527026400000.0,1527030000000.0,1527033600000.0,1527037200000.0,1527040800000.0,1527044400000.0,1527048000000.0,1527051600000.0,1527055200000.0,1527058800000.0,1527062400000.0,1527066000000.0,1527069600000.0,1527073200000.0,1527076800000.0,1527080400000.0,1527084000000.0,1527087600000.0,1527091200000.0,1527094800000.0,1527098400000.0,1527102000000.0,1527105600000.0,1527109200000.0,1527112800000.0,1527116400000.0,1527120000000.0,1527123600000.0,1527127200000.0,1527130800000.0,1527134400000.0,1527138000000.0,1527141600000.0,1527145200000.0,1527148800000.0,1527152400000.0,1527156000000.0,1527159600000.0,1527163200000.0,1527166800000.0,1527170400000.0,1527174000000.0,1527177600000.0,1527181200000.0,1527184800000.0,1527188400000.0,1527192000000.0,1527195600000.0,1527199200000.0,1527202800000.0,1527206400000.0,1527210000000.0,1527213600000.0,1527217200000.0,1527220800000.0,1527224400000.0,1527228000000.0,1527231600000.0,1527235200000.0,1527238800000.0,1527242400000.0,1527246000000.0,1527249600000.0,1527253200000.0,1527256800000.0,1527260400000.0,1527264000000.0,1527267600000.0,1527271200000.0,1527274800000.0,1527278400000.0,1527282000000.0,1527285600000.0,1527289200000.0,1527292800000.0,1527296400000.0,1527300000000.0,1527303600000.0,1527307200000.0,1527310800000.0,1527314400000.0,1527318000000.0,1527321600000.0,1527325200000.0,1527328800000.0,1527332400000.0,1527336000000.0,1527339600000.0,1527343200000.0,1527346800000.0,1527350400000.0,1527354000000.0,1527357600000.0,1527361200000.0,1527364800000.0,1527368400000.0,1527372000000.0,1527375600000.0,1527379200000.0,1527382800000.0,1527386400000.0,1527390000000.0,1527393600000.0,1527397200000.0,1527400800000.0,1527404400000.0,1527408000000.0,1527411600000.0,1527415200000.0,1527418800000.0,1527422400000.0,1527426000000.0,1527429600000.0,1527433200000.0,1527436800000.0,1527440400000.0,1527444000000.0,1527447600000.0,1527451200000.0,1527454800000.0,1527458400000.0,1527462000000.0,1527465600000.0,1527469200000.0,1527472800000.0,1527476400000.0,1527480000000.0,1527483600000.0,1527487200000.0,1527490800000.0,1527494400000.0,1527498000000.0,1527501600000.0,1527505200000.0,1527508800000.0,1527512400000.0,1527516000000.0,1527519600000.0,1527523200000.0,1527526800000.0,1527530400000.0,1527534000000.0,1527537600000.0,1527541200000.0,1527544800000.0,1527548400000.0,1527552000000.0,1527555600000.0,1527559200000.0,1527562800000.0,1527566400000.0,1527570000000.0,1527573600000.0,1527577200000.0,1527580800000.0,1527584400000.0,1527588000000.0,1527591600000.0,1527595200000.0,1527598800000.0,1527602400000.0,1527606000000.0,1527609600000.0,1527613200000.0,1527616800000.0,1527620400000.0,1527624000000.0,1527627600000.0,1527631200000.0,1527634800000.0,1527638400000.0,1527642000000.0,1527645600000.0,1527649200000.0,1527652800000.0,1527656400000.0,1527660000000.0,1527663600000.0,1527667200000.0,1527670800000.0,1527674400000.0,1527678000000.0,1527681600000.0,1527685200000.0,1527688800000.0,1527692400000.0,1527696000000.0,1527699600000.0,1527703200000.0,1527706800000.0,1527710400000.0,1527714000000.0,1527717600000.0,1527721200000.0,1527724800000.0,1527728400000.0,1527732000000.0,1527735600000.0,1527739200000.0,1527742800000.0,1527746400000.0,1527750000000.0,1527753600000.0,1527757200000.0,1527760800000.0,1527764400000.0,1527768000000.0,1527771600000.0,1527775200000.0,1527778800000.0],\"y\":{\"__ndarray__\":\"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\",\"dtype\":\"float64\",\"shape\":[672]}},\"selected\":{\"id\":\"3288\",\"type\":\"Selection\"},\"selection_policy\":{\"id\":\"3287\",\"type\":\"UnionRenderers\"}},\"id\":\"3119\",\"type\":\"ColumnDataSource\"},{\"attributes\":{\"days\":[1,8,15,22]},\"id\":\"3280\",\"type\":\"DaysTicker\"},{\"attributes\":{\"active_drag\":\"auto\",\"active_inspect\":\"auto\",\"active_multi\":null,\"active_scroll\":\"auto\",\"active_tap\":\"auto\",\"tools\":[{\"id\":\"3106\",\"type\":\"PanTool\"},{\"id\":\"3107\",\"type\":\"WheelZoomTool\"},{\"id\":\"3108\",\"type\":\"BoxZoomTool\"},{\"id\":\"3109\",\"type\":\"SaveTool\"},{\"id\":\"3110\",\"type\":\"ResetTool\"},{\"id\":\"3111\",\"type\":\"HelpTool\"}]},\"id\":\"3112\",\"type\":\"Toolbar\"},{\"attributes\":{},\"id\":\"3272\",\"type\":\"BasicTickFormatter\"},{\"attributes\":{\"days\":[1,15]},\"id\":\"3281\",\"type\":\"DaysTicker\"},{\"attributes\":{},\"id\":\"3274\",\"type\":\"DatetimeTickFormatter\"},{\"attributes\":{\"data_source\":{\"id\":\"3124\",\"type\":\"ColumnDataSource\"},\"glyph\":{\"id\":\"3125\",\"type\":\"Line\"},\"hover_glyph\":null,\"muted_glyph\":null,\"nonselection_glyph\":{\"id\":\"3126\",\"type\":\"Line\"},\"selection_glyph\":null,\"view\":{\"id\":\"3128\",\"type\":\"CDSView\"}},\"id\":\"3127\",\"type\":\"GlyphRenderer\"},{\"attributes\":{\"source\":{\"id\":\"3119\",\"type\":\"ColumnDataSource\"}},\"id\":\"3123\",\"type\":\"CDSView\"},{\"attributes\":{},\"id\":\"3106\",\"type\":\"PanTool\"},{\"attributes\":{\"months\":[0,1,2,3,4,5,6,7,8,9,10,11]},\"id\":\"3282\",\"type\":\"MonthsTicker\"},{\"attributes\":{\"fill_color\":{\"value\":null},\"x\":{\"field\":\"x\"},\"y\":{\"field\":\"y\"}},\"id\":\"3120\",\"type\":\"Circle\"},{\"attributes\":{\"x\":{\"field\":\"x\"},\"y\":{\"field\":\"y\"}},\"id\":\"3125\",\"type\":\"Line\"},{\"attributes\":{\"text\":\"EDSLSTM Performance: SMAPE for 672 Consecutive 1-hour Rolling Predictions.\",\"text_font_size\":{\"value\":\"14pt\"}},\"id\":\"3086\",\"type\":\"Title\"},{\"attributes\":{},\"id\":\"3107\",\"type\":\"WheelZoomTool\"},{\"attributes\":{\"months\":[0,2,4,6,8,10]},\"id\":\"3283\",\"type\":\"MonthsTicker\"},{\"attributes\":{},\"id\":\"3092\",\"type\":\"LinearScale\"},{\"attributes\":{\"callback\":null},\"id\":\"3088\",\"type\":\"DataRange1d\"},{\"attributes\":{\"overlay\":{\"id\":\"3291\",\"type\":\"BoxAnnotation\"}},\"id\":\"3108\",\"type\":\"BoxZoomTool\"},{\"attributes\":{\"months\":[0,4,8]},\"id\":\"3284\",\"type\":\"MonthsTicker\"},{\"attributes\":{},\"id\":\"3109\",\"type\":\"SaveTool\"},{\"attributes\":{\"months\":[0,6]},\"id\":\"3285\",\"type\":\"MonthsTicker\"},{\"attributes\":{},\"id\":\"3288\",\"type\":\"Selection\"},{\"attributes\":{},\"id\":\"3110\",\"type\":\"ResetTool\"},{\"attributes\":{},\"id\":\"3286\",\"type\":\"YearsTicker\"},{\"attributes\":{},\"id\":\"3287\",\"type\":\"UnionRenderers\"},{\"attributes\":{\"callback\":null},\"id\":\"3090\",\"type\":\"DataRange1d\"},{\"attributes\":{\"source\":{\"id\":\"3124\",\"type\":\"ColumnDataSource\"}},\"id\":\"3128\",\"type\":\"CDSView\"},{\"attributes\":{},\"id\":\"3111\",\"type\":\"HelpTool\"},{\"attributes\":{},\"id\":\"3289\",\"type\":\"UnionRenderers\"},{\"attributes\":{\"fill_alpha\":{\"value\":0.1},\"fill_color\":{\"value\":\"#1f77b4\"},\"line_alpha\":{\"value\":0.1},\"line_color\":{\"value\":\"#1f77b4\"},\"x\":{\"field\":\"x\"},\"y\":{\"field\":\"y\"}},\"id\":\"3121\",\"type\":\"Circle\"},{\"attributes\":{\"days\":[1,2,3,4,5,6,7,8,9,10,11,12,13,14,15,16,17,18,19,20,21,22,23,24,25,26,27,28,29,30,31]},\"id\":\"3278\",\"type\":\"DaysTicker\"},{\"attributes\":{},\"id\":\"3094\",\"type\":\"LinearScale\"},{\"attributes\":{\"line_alpha\":0.1,\"line_color\":\"#1f77b4\",\"x\":{\"field\":\"x\"},\"y\":{\"field\":\"y\"}},\"id\":\"3126\",\"type\":\"Line\"},{\"attributes\":{},\"id\":\"3290\",\"type\":\"Selection\"},{\"attributes\":{\"axis_label\":\"Date\",\"axis_label_text_font_size\":{\"value\":\"14pt\"},\"formatter\":{\"id\":\"3274\",\"type\":\"DatetimeTickFormatter\"},\"major_label_text_font_size\":{\"value\":\"12pt\"},\"ticker\":{\"id\":\"3097\",\"type\":\"DatetimeTicker\"}},\"id\":\"3096\",\"type\":\"DatetimeAxis\"},{\"attributes\":{\"bottom_units\":\"screen\",\"fill_alpha\":{\"value\":0.5},\"fill_color\":{\"value\":\"lightgrey\"},\"left_units\":\"screen\",\"level\":\"overlay\",\"line_alpha\":{\"value\":1.0},\"line_color\":{\"value\":\"black\"},\"line_dash\":[4,4],\"line_width\":{\"value\":2},\"render_mode\":\"css\",\"right_units\":\"screen\",\"top_units\":\"screen\"},\"id\":\"3291\",\"type\":\"BoxAnnotation\"},{\"attributes\":{\"dimension\":1,\"grid_line_alpha\":0.3,\"ticker\":{\"id\":\"3102\",\"type\":\"BasicTicker\"}},\"id\":\"3105\",\"type\":\"Grid\"},{\"attributes\":{\"callback\":null,\"data\":{\"x\":[1525363200000.0,1525366800000.0,1525370400000.0,1525374000000.0,1525377600000.0,1525381200000.0,1525384800000.0,1525388400000.0,1525392000000.0,1525395600000.0,1525399200000.0,1525402800000.0,1525406400000.0,1525410000000.0,1525413600000.0,1525417200000.0,1525420800000.0,1525424400000.0,1525428000000.0,1525431600000.0,1525435200000.0,1525438800000.0,1525442400000.0,1525446000000.0,1525449600000.0,1525453200000.0,1525456800000.0,1525460400000.0,1525464000000.0,1525467600000.0,1525471200000.0,1525474800000.0,1525478400000.0,1525482000000.0,1525485600000.0,1525489200000.0,1525492800000.0,1525496400000.0,1525500000000.0,1525503600000.0,1525507200000.0,1525510800000.0,1525514400000.0,1525518000000.0,1525521600000.0,1525525200000.0,1525528800000.0,1525532400000.0,1525536000000.0,1525539600000.0,1525543200000.0,1525546800000.0,1525550400000.0,1525554000000.0,1525557600000.0,1525561200000.0,1525564800000.0,1525568400000.0,1525572000000.0,1525575600000.0,1525579200000.0,1525582800000.0,1525586400000.0,1525590000000.0,1525593600000.0,1525597200000.0,1525600800000.0,1525604400000.0,1525608000000.0,1525611600000.0,1525615200000.0,1525618800000.0,1525622400000.0,1525626000000.0,1525629600000.0,1525633200000.0,1525636800000.0,1525640400000.0,1525644000000.0,1525647600000.0,1525651200000.0,1525654800000.0,1525658400000.0,1525662000000.0,1525665600000.0,1525669200000.0,1525672800000.0,1525676400000.0,1525680000000.0,1525683600000.0,1525687200000.0,1525690800000.0,1525694400000.0,1525698000000.0,1525701600000.0,1525705200000.0,1525708800000.0,1525712400000.0,1525716000000.0,1525719600000.0,1525723200000.0,1525726800000.0,1525730400000.0,1525734000000.0,1525737600000.0,1525741200000.0,1525744800000.0,1525748400000.0,1525752000000.0,1525755600000.0,1525759200000.0,1525762800000.0,1525766400000.0,1525770000000.0,1525773600000.0,1525777200000.0,1525780800000.0,1525784400000.0,1525788000000.0,1525791600000.0,1525795200000.0,1525798800000.0,1525802400000.0,1525806000000.0,1525809600000.0,1525813200000.0,1525816800000.0,1525820400000.0,1525824000000.0,1525827600000.0,1525831200000.0,1525834800000.0,1525838400000.0,1525842000000.0,1525845600000.0,1525849200000.0,1525852800000.0,1525856400000.0,1525860000000.0,1525863600000.0,1525867200000.0,1525870800000.0,1525874400000.0,1525878000000.0,1525881600000.0,1525885200000.0,1525888800000.0,1525892400000.0,1525896000000.0,1525899600000.0,1525903200000.0,1525906800000.0,1525910400000.0,1525914000000.0,1525917600000.0,1525921200000.0,1525924800000.0,1525928400000.0,1525932000000.0,1525935600000.0,1525939200000.0,1525942800000.0,1525946400000.0,1525950000000.0,1525953600000.0,1525957200000.0,1525960800000.0,1525964400000.0,1525968000000.0,1525971600000.0,1525975200000.0,1525978800000.0,1525982400000.0,1525986000000.0,1525989600000.0,1525993200000.0,1525996800000.0,1526000400000.0,1526004000000.0,1526007600000.0,1526011200000.0,1526014800000.0,1526018400000.0,1526022000000.0,1526025600000.0,1526029200000.0,1526032800000.0,1526036400000.0,1526040000000.0,1526043600000.0,1526047200000.0,1526050800000.0,1526054400000.0,1526058000000.0,1526061600000.0,1526065200000.0,1526068800000.0,1526072400000.0,1526076000000.0,1526079600000.0,1526083200000.0,1526086800000.0,1526090400000.0,1526094000000.0,1526097600000.0,1526101200000.0,1526104800000.0,1526108400000.0,1526112000000.0,1526115600000.0,1526119200000.0,1526122800000.0,1526126400000.0,1526130000000.0,1526133600000.0,1526137200000.0,1526140800000.0,1526144400000.0,1526148000000.0,1526151600000.0,1526155200000.0,1526158800000.0,1526162400000.0,1526166000000.0,1526169600000.0,1526173200000.0,1526176800000.0,1526180400000.0,1526184000000.0,1526187600000.0,1526191200000.0,1526194800000.0,1526198400000.0,1526202000000.0,1526205600000.0,1526209200000.0,1526212800000.0,1526216400000.0,1526220000000.0,1526223600000.0,1526227200000.0,1526230800000.0,1526234400000.0,1526238000000.0,1526241600000.0,1526245200000.0,1526248800000.0,1526252400000.0,1526256000000.0,1526259600000.0,1526263200000.0,1526266800000.0,1526270400000.0,1526274000000.0,1526277600000.0,1526281200000.0,1526284800000.0,1526288400000.0,1526292000000.0,1526295600000.0,1526299200000.0,1526302800000.0,1526306400000.0,1526310000000.0,1526313600000.0,1526317200000.0,1526320800000.0,1526324400000.0,1526328000000.0,1526331600000.0,1526335200000.0,1526338800000.0,1526342400000.0,1526346000000.0,1526349600000.0,1526353200000.0,1526356800000.0,1526360400000.0,1526364000000.0,1526367600000.0,1526371200000.0,1526374800000.0,1526378400000.0,1526382000000.0,1526385600000.0,1526389200000.0,1526392800000.0,1526396400000.0,1526400000000.0,1526403600000.0,1526407200000.0,1526410800000.0,1526414400000.0,1526418000000.0,1526421600000.0,1526425200000.0,1526428800000.0,1526432400000.0,1526436000000.0,1526439600000.0,1526443200000.0,1526446800000.0,1526450400000.0,1526454000000.0,1526457600000.0,1526461200000.0,1526464800000.0,1526468400000.0,1526472000000.0,1526475600000.0,1526479200000.0,1526482800000.0,1526486400000.0,1526490000000.0,1526493600000.0,1526497200000.0,1526500800000.0,1526504400000.0,1526508000000.0,1526511600000.0,1526515200000.0,1526518800000.0,1526522400000.0,1526526000000.0,1526529600000.0,1526533200000.0,1526536800000.0,1526540400000.0,1526544000000.0,1526547600000.0,1526551200000.0,1526554800000.0,1526558400000.0,1526562000000.0,1526565600000.0,1526569200000.0,1526572800000.0,1526576400000.0,1526580000000.0,1526583600000.0,1526587200000.0,1526590800000.0,1526594400000.0,1526598000000.0,1526601600000.0,1526605200000.0,1526608800000.0,1526612400000.0,1526616000000.0,1526619600000.0,1526623200000.0,1526626800000.0,1526630400000.0,1526634000000.0,1526637600000.0,1526641200000.0,1526644800000.0,1526648400000.0,1526652000000.0,1526655600000.0,1526659200000.0,1526662800000.0,1526666400000.0,1526670000000.0,1526673600000.0,1526677200000.0,1526680800000.0,1526684400000.0,1526688000000.0,1526691600000.0,1526695200000.0,1526698800000.0,1526702400000.0,1526706000000.0,1526709600000.0,1526713200000.0,1526716800000.0,1526720400000.0,1526724000000.0,1526727600000.0,1526731200000.0,1526734800000.0,1526738400000.0,1526742000000.0,1526745600000.0,1526749200000.0,1526752800000.0,1526756400000.0,1526760000000.0,1526763600000.0,1526767200000.0,1526770800000.0,1526774400000.0,1526778000000.0,1526781600000.0,1526785200000.0,1526788800000.0,1526792400000.0,1526796000000.0,1526799600000.0,1526803200000.0,1526806800000.0,1526810400000.0,1526814000000.0,1526817600000.0,1526821200000.0,1526824800000.0,1526828400000.0,1526832000000.0,1526835600000.0,1526839200000.0,1526842800000.0,1526846400000.0,1526850000000.0,1526853600000.0,1526857200000.0,1526860800000.0,1526864400000.0,1526868000000.0,1526871600000.0,1526875200000.0,1526878800000.0,1526882400000.0,1526886000000.0,1526889600000.0,1526893200000.0,1526896800000.0,1526900400000.0,1526904000000.0,1526907600000.0,1526911200000.0,1526914800000.0,1526918400000.0,1526922000000.0,1526925600000.0,1526929200000.0,1526932800000.0,1526936400000.0,1526940000000.0,1526943600000.0,1526947200000.0,1526950800000.0,1526954400000.0,1526958000000.0,1526961600000.0,1526965200000.0,1526968800000.0,1526972400000.0,1526976000000.0,1526979600000.0,1526983200000.0,1526986800000.0,1526990400000.0,1526994000000.0,1526997600000.0,1527001200000.0,1527004800000.0,1527008400000.0,1527012000000.0,1527015600000.0,1527019200000.0,1527022800000.0,1527026400000.0,1527030000000.0,1527033600000.0,1527037200000.0,1527040800000.0,1527044400000.0,1527048000000.0,1527051600000.0,1527055200000.0,1527058800000.0,1527062400000.0,1527066000000.0,1527069600000.0,1527073200000.0,1527076800000.0,1527080400000.0,1527084000000.0,1527087600000.0,1527091200000.0,1527094800000.0,1527098400000.0,1527102000000.0,1527105600000.0,1527109200000.0,1527112800000.0,1527116400000.0,1527120000000.0,1527123600000.0,1527127200000.0,1527130800000.0,1527134400000.0,1527138000000.0,1527141600000.0,1527145200000.0,1527148800000.0,1527152400000.0,1527156000000.0,1527159600000.0,1527163200000.0,1527166800000.0,1527170400000.0,1527174000000.0,1527177600000.0,1527181200000.0,1527184800000.0,1527188400000.0,1527192000000.0,1527195600000.0,1527199200000.0,1527202800000.0,1527206400000.0,1527210000000.0,1527213600000.0,1527217200000.0,1527220800000.0,1527224400000.0,1527228000000.0,1527231600000.0,1527235200000.0,1527238800000.0,1527242400000.0,1527246000000.0,1527249600000.0,1527253200000.0,1527256800000.0,1527260400000.0,1527264000000.0,1527267600000.0,1527271200000.0,1527274800000.0,1527278400000.0,1527282000000.0,1527285600000.0,1527289200000.0,1527292800000.0,1527296400000.0,1527300000000.0,1527303600000.0,1527307200000.0,1527310800000.0,1527314400000.0,1527318000000.0,1527321600000.0,1527325200000.0,1527328800000.0,1527332400000.0,1527336000000.0,1527339600000.0,1527343200000.0,1527346800000.0,1527350400000.0,1527354000000.0,1527357600000.0,1527361200000.0,1527364800000.0,1527368400000.0,1527372000000.0,1527375600000.0,1527379200000.0,1527382800000.0,1527386400000.0,1527390000000.0,1527393600000.0,1527397200000.0,1527400800000.0,1527404400000.0,1527408000000.0,1527411600000.0,1527415200000.0,1527418800000.0,1527422400000.0,1527426000000.0,1527429600000.0,1527433200000.0,1527436800000.0,1527440400000.0,1527444000000.0,1527447600000.0,1527451200000.0,1527454800000.0,1527458400000.0,1527462000000.0,1527465600000.0,1527469200000.0,1527472800000.0,1527476400000.0,1527480000000.0,1527483600000.0,1527487200000.0,1527490800000.0,1527494400000.0,1527498000000.0,1527501600000.0,1527505200000.0,1527508800000.0,1527512400000.0,1527516000000.0,1527519600000.0,1527523200000.0,1527526800000.0,1527530400000.0,1527534000000.0,1527537600000.0,1527541200000.0,1527544800000.0,1527548400000.0,1527552000000.0,1527555600000.0,1527559200000.0,1527562800000.0,1527566400000.0,1527570000000.0,1527573600000.0,1527577200000.0,1527580800000.0,1527584400000.0,1527588000000.0,1527591600000.0,1527595200000.0,1527598800000.0,1527602400000.0,1527606000000.0,1527609600000.0,1527613200000.0,1527616800000.0,1527620400000.0,1527624000000.0,1527627600000.0,1527631200000.0,1527634800000.0,1527638400000.0,1527642000000.0,1527645600000.0,1527649200000.0,1527652800000.0,1527656400000.0,1527660000000.0,1527663600000.0,1527667200000.0,1527670800000.0,1527674400000.0,1527678000000.0,1527681600000.0,1527685200000.0,1527688800000.0,1527692400000.0,1527696000000.0,1527699600000.0,1527703200000.0,1527706800000.0,1527710400000.0,1527714000000.0,1527717600000.0,1527721200000.0,1527724800000.0,1527728400000.0,1527732000000.0,1527735600000.0,1527739200000.0,1527742800000.0,1527746400000.0,1527750000000.0,1527753600000.0,1527757200000.0,1527760800000.0,1527764400000.0,1527768000000.0,1527771600000.0,1527775200000.0,1527778800000.0],\"y\":{\"__ndarray__\":\"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\",\"dtype\":\"float64\",\"shape\":[672]}},\"selected\":{\"id\":\"3290\",\"type\":\"Selection\"},\"selection_policy\":{\"id\":\"3289\",\"type\":\"UnionRenderers\"}},\"id\":\"3124\",\"type\":\"ColumnDataSource\"},{\"attributes\":{\"base\":60,\"mantissas\":[1,2,5,10,15,20,30],\"max_interval\":1800000.0,\"min_interval\":1000.0,\"num_minor_ticks\":0},\"id\":\"3276\",\"type\":\"AdaptiveTicker\"},{\"attributes\":{\"num_minor_ticks\":5,\"tickers\":[{\"id\":\"3275\",\"type\":\"AdaptiveTicker\"},{\"id\":\"3276\",\"type\":\"AdaptiveTicker\"},{\"id\":\"3277\",\"type\":\"AdaptiveTicker\"},{\"id\":\"3278\",\"type\":\"DaysTicker\"},{\"id\":\"3279\",\"type\":\"DaysTicker\"},{\"id\":\"3280\",\"type\":\"DaysTicker\"},{\"id\":\"3281\",\"type\":\"DaysTicker\"},{\"id\":\"3282\",\"type\":\"MonthsTicker\"},{\"id\":\"3283\",\"type\":\"MonthsTicker\"},{\"id\":\"3284\",\"type\":\"MonthsTicker\"},{\"id\":\"3285\",\"type\":\"MonthsTicker\"},{\"id\":\"3286\",\"type\":\"YearsTicker\"}]},\"id\":\"3097\",\"type\":\"DatetimeTicker\"},{\"attributes\":{\"grid_line_alpha\":0.3,\"ticker\":{\"id\":\"3097\",\"type\":\"DatetimeTicker\"}},\"id\":\"3100\",\"type\":\"Grid\"},{\"attributes\":{\"base\":24,\"mantissas\":[1,2,4,6,8,12],\"max_interval\":43200000.0,\"min_interval\":3600000.0,\"num_minor_ticks\":0},\"id\":\"3277\",\"type\":\"AdaptiveTicker\"}],\"root_ids\":[\"3085\"]},\"title\":\"Bokeh Application\",\"version\":\"1.4.0\"}};\n",
       "  var render_items = [{\"docid\":\"5c5d6c7e-55cc-46c5-a50d-6a1350137ba8\",\"roots\":{\"3085\":\"b3952b81-a4f9-4f8a-8298-5059b8ba0d86\"}}];\n",
       "  root.Bokeh.embed.embed_items_notebook(docs_json, render_items);\n",
       "\n",
       "  }\n",
       "  if (root.Bokeh !== undefined) {\n",
       "    embed_document(root);\n",
       "  } else {\n",
       "    var attempts = 0;\n",
       "    var timer = setInterval(function(root) {\n",
       "      if (root.Bokeh !== undefined) {\n",
       "        clearInterval(timer);\n",
       "        embed_document(root);\n",
       "      } else {\n",
       "        attempts++;\n",
       "        if (attempts > 100) {\n",
       "          clearInterval(timer);\n",
       "          console.log(\"Bokeh: ERROR: Unable to run BokehJS code because BokehJS library is missing\");\n",
       "        }\n",
       "      }\n",
       "    }, 10, root)\n",
       "  }\n",
       "})(window);"
      ],
      "application/vnd.bokehjs_exec.v0+json": ""
     },
     "metadata": {
      "application/vnd.bokehjs_exec.v0+json": {
       "id": "3085"
      }
     },
     "output_type": "display_data"
    }
   ],
   "source": [
    "# MAE, RMSE, and SMAPE for rolling predictions in 4 weeks\n",
    "# from global dataframe\n",
    "start, end = 0, 672\n",
    "size = 4\n",
    "\n",
    "plots['edslstm_metric'] = figure(\n",
    "    x_axis_type='datetime',\n",
    "    plot_width=960,\n",
    "    plot_height=320,\n",
    "    title='EDSLSTM Performance: {} for {} Consecutive 1-hour Rolling Predictions.'\\\n",
    "    .format('SMAPE', end),\n",
    "    toolbar_location=None,\n",
    ")\n",
    "\n",
    "plots['edslstm_metric'].grid.grid_line_alpha=0.3\n",
    "\n",
    "plots['edslstm_metric'].title.text_font_size = '14pt'\n",
    "\n",
    "plots['edslstm_metric'].xaxis.axis_label_text_font_size = \"14pt\"\n",
    "plots['edslstm_metric'].yaxis.axis_label_text_font_size = \"14pt\"\n",
    "\n",
    "plots['edslstm_metric'].xaxis.major_label_text_font_size = \"12pt\"\n",
    "plots['edslstm_metric'].yaxis.major_label_text_font_size = \"12pt\"\n",
    "\n",
    "plots['edslstm_metric'].xaxis.axis_label = 'Date'\n",
    "plots['edslstm_metric'].yaxis.axis_label = 'SMAPE [%]'\n",
    "\n",
    "# adjust SMAPE for percentage value\n",
    "plots['edslstm_metric'].circle(\n",
    "    x=[pd.to_datetime(row[0]) for row in global_df['string_timestamps'][start:end]],\n",
    "    y=100*global_df['smape'][start:end],\n",
    "    color='black',\n",
    "    size=size,\n",
    "    fill_color=None,\n",
    ")\n",
    "# adjust SMAPE for percentage value\n",
    "plots['edslstm_metric'].line(\n",
    "    x=[pd.to_datetime(row[0]) for row in global_df['string_timestamps'][start:end]],\n",
    "    y=100*global_df['smape'][start:end],\n",
    "    color='black',\n",
    ")\n",
    "\n",
    "arima_one_week_smape_average = Span(\n",
    "    location=np.mean(np.array(arima_one_week_smape)),\n",
    "    dimension='width',\n",
    "    line_color='black',\n",
    "    line_dash='dashed',\n",
    "    line_width=2)\n",
    "\n",
    "plots['edslstm_metric'].add_layout(arima_one_week_smape_average)\n",
    "\n",
    "show(plots['edslstm_metric'])"
   ]
  },
  {
   "cell_type": "code",
   "execution_count": null,
   "metadata": {},
   "outputs": [],
   "source": []
  },
  {
   "cell_type": "code",
   "execution_count": 75,
   "metadata": {},
   "outputs": [
    {
     "name": "stdout",
     "output_type": "stream",
     "text": [
      "total 208\r\n",
      "-rw-rw-r-- 1 developer developer 44853 sep 20 13:27 DMSLSTM_TPU_006_09_loss.csv\r\n",
      "-rw-rw-r-- 1 developer developer 44752 sep 20 13:27 DMSLSTM_TPU_006_09_lrs.csv\r\n",
      "-rw-rw-r-- 1 developer developer    68 sep 21 12:13 EDSLSTM_TPU_013_05_eval.csv\r\n",
      "-rw-rw-r-- 1 developer developer 44489 sep 21 12:13 EDSLSTM_TPU_013_05_loss.csv\r\n",
      "-rw-rw-r-- 1 developer developer 44597 sep 21 12:12 EDSLSTM_TPU_013_05_lrs.csv\r\n",
      "-rw-rw-r-- 1 developer developer 27526 may 23 11:05 transformer_metrics.ods\r\n"
     ]
    }
   ],
   "source": [
    "! ls -l /home/developer/DEPFIE-SCOM/ScD_Thesis/results"
   ]
  },
  {
   "cell_type": "code",
   "execution_count": 76,
   "metadata": {},
   "outputs": [],
   "source": [
    "eval_loss_df = pd.read_csv(\n",
    "    '/home/developer/DEPFIE-SCOM/ScD_Thesis/results/EDSLSTM_TPU_013_05_eval.csv'\n",
    ")"
   ]
  },
  {
   "cell_type": "code",
   "execution_count": 77,
   "metadata": {},
   "outputs": [
    {
     "data": {
      "text/html": [
       "<div>\n",
       "<style scoped>\n",
       "    .dataframe tbody tr th:only-of-type {\n",
       "        vertical-align: middle;\n",
       "    }\n",
       "\n",
       "    .dataframe tbody tr th {\n",
       "        vertical-align: top;\n",
       "    }\n",
       "\n",
       "    .dataframe thead th {\n",
       "        text-align: right;\n",
       "    }\n",
       "</style>\n",
       "<table border=\"1\" class=\"dataframe\">\n",
       "  <thead>\n",
       "    <tr style=\"text-align: right;\">\n",
       "      <th></th>\n",
       "      <th>Wall time</th>\n",
       "      <th>Step</th>\n",
       "      <th>Value</th>\n",
       "    </tr>\n",
       "  </thead>\n",
       "  <tbody>\n",
       "    <tr>\n",
       "      <th>0</th>\n",
       "      <td>1.624464e+09</td>\n",
       "      <td>1340</td>\n",
       "      <td>0.000988</td>\n",
       "    </tr>\n",
       "  </tbody>\n",
       "</table>\n",
       "</div>"
      ],
      "text/plain": [
       "      Wall time  Step     Value\n",
       "0  1.624464e+09  1340  0.000988"
      ]
     },
     "execution_count": 77,
     "metadata": {},
     "output_type": "execute_result"
    }
   ],
   "source": [
    "eval_loss_df"
   ]
  },
  {
   "cell_type": "code",
   "execution_count": 78,
   "metadata": {},
   "outputs": [],
   "source": [
    "loss_df = pd.read_csv(\n",
    "    '/home/developer/DEPFIE-SCOM/ScD_Thesis/results/EDSLSTM_TPU_013_05_loss.csv'\n",
    ")"
   ]
  },
  {
   "cell_type": "code",
   "execution_count": 79,
   "metadata": {},
   "outputs": [
    {
     "data": {
      "text/html": [
       "<div>\n",
       "<style scoped>\n",
       "    .dataframe tbody tr th:only-of-type {\n",
       "        vertical-align: middle;\n",
       "    }\n",
       "\n",
       "    .dataframe tbody tr th {\n",
       "        vertical-align: top;\n",
       "    }\n",
       "\n",
       "    .dataframe thead th {\n",
       "        text-align: right;\n",
       "    }\n",
       "</style>\n",
       "<table border=\"1\" class=\"dataframe\">\n",
       "  <thead>\n",
       "    <tr style=\"text-align: right;\">\n",
       "      <th></th>\n",
       "      <th>Wall time</th>\n",
       "      <th>Step</th>\n",
       "      <th>Value</th>\n",
       "    </tr>\n",
       "  </thead>\n",
       "  <tbody>\n",
       "    <tr>\n",
       "      <th>0</th>\n",
       "      <td>1.624463e+09</td>\n",
       "      <td>0</td>\n",
       "      <td>0.044428</td>\n",
       "    </tr>\n",
       "    <tr>\n",
       "      <th>1</th>\n",
       "      <td>1.624463e+09</td>\n",
       "      <td>2</td>\n",
       "      <td>0.048627</td>\n",
       "    </tr>\n",
       "    <tr>\n",
       "      <th>2</th>\n",
       "      <td>1.624463e+09</td>\n",
       "      <td>3</td>\n",
       "      <td>0.048322</td>\n",
       "    </tr>\n",
       "    <tr>\n",
       "      <th>3</th>\n",
       "      <td>1.624463e+09</td>\n",
       "      <td>4</td>\n",
       "      <td>0.047089</td>\n",
       "    </tr>\n",
       "    <tr>\n",
       "      <th>4</th>\n",
       "      <td>1.624463e+09</td>\n",
       "      <td>7</td>\n",
       "      <td>0.048250</td>\n",
       "    </tr>\n",
       "    <tr>\n",
       "      <th>...</th>\n",
       "      <td>...</td>\n",
       "      <td>...</td>\n",
       "      <td>...</td>\n",
       "    </tr>\n",
       "    <tr>\n",
       "      <th>995</th>\n",
       "      <td>1.624464e+09</td>\n",
       "      <td>1333</td>\n",
       "      <td>0.001345</td>\n",
       "    </tr>\n",
       "    <tr>\n",
       "      <th>996</th>\n",
       "      <td>1.624464e+09</td>\n",
       "      <td>1334</td>\n",
       "      <td>0.001301</td>\n",
       "    </tr>\n",
       "    <tr>\n",
       "      <th>997</th>\n",
       "      <td>1.624464e+09</td>\n",
       "      <td>1335</td>\n",
       "      <td>0.001125</td>\n",
       "    </tr>\n",
       "    <tr>\n",
       "      <th>998</th>\n",
       "      <td>1.624464e+09</td>\n",
       "      <td>1338</td>\n",
       "      <td>0.001690</td>\n",
       "    </tr>\n",
       "    <tr>\n",
       "      <th>999</th>\n",
       "      <td>1.624464e+09</td>\n",
       "      <td>1339</td>\n",
       "      <td>0.001133</td>\n",
       "    </tr>\n",
       "  </tbody>\n",
       "</table>\n",
       "<p>1000 rows × 3 columns</p>\n",
       "</div>"
      ],
      "text/plain": [
       "        Wall time  Step     Value\n",
       "0    1.624463e+09     0  0.044428\n",
       "1    1.624463e+09     2  0.048627\n",
       "2    1.624463e+09     3  0.048322\n",
       "3    1.624463e+09     4  0.047089\n",
       "4    1.624463e+09     7  0.048250\n",
       "..            ...   ...       ...\n",
       "995  1.624464e+09  1333  0.001345\n",
       "996  1.624464e+09  1334  0.001301\n",
       "997  1.624464e+09  1335  0.001125\n",
       "998  1.624464e+09  1338  0.001690\n",
       "999  1.624464e+09  1339  0.001133\n",
       "\n",
       "[1000 rows x 3 columns]"
      ]
     },
     "execution_count": 79,
     "metadata": {},
     "output_type": "execute_result"
    }
   ],
   "source": [
    "loss_df"
   ]
  },
  {
   "cell_type": "code",
   "execution_count": 80,
   "metadata": {},
   "outputs": [],
   "source": [
    "lrs_df = pd.read_csv(\n",
    "    '/home/developer/DEPFIE-SCOM/ScD_Thesis/results/EDSLSTM_TPU_013_05_lrs.csv'\n",
    ")"
   ]
  },
  {
   "cell_type": "code",
   "execution_count": 81,
   "metadata": {},
   "outputs": [
    {
     "data": {
      "text/html": [
       "<div>\n",
       "<style scoped>\n",
       "    .dataframe tbody tr th:only-of-type {\n",
       "        vertical-align: middle;\n",
       "    }\n",
       "\n",
       "    .dataframe tbody tr th {\n",
       "        vertical-align: top;\n",
       "    }\n",
       "\n",
       "    .dataframe thead th {\n",
       "        text-align: right;\n",
       "    }\n",
       "</style>\n",
       "<table border=\"1\" class=\"dataframe\">\n",
       "  <thead>\n",
       "    <tr style=\"text-align: right;\">\n",
       "      <th></th>\n",
       "      <th>Wall time</th>\n",
       "      <th>Step</th>\n",
       "      <th>Value</th>\n",
       "    </tr>\n",
       "  </thead>\n",
       "  <tbody>\n",
       "    <tr>\n",
       "      <th>0</th>\n",
       "      <td>1.624463e+09</td>\n",
       "      <td>0</td>\n",
       "      <td>0.000000</td>\n",
       "    </tr>\n",
       "    <tr>\n",
       "      <th>1</th>\n",
       "      <td>1.624463e+09</td>\n",
       "      <td>2</td>\n",
       "      <td>0.000022</td>\n",
       "    </tr>\n",
       "    <tr>\n",
       "      <th>2</th>\n",
       "      <td>1.624463e+09</td>\n",
       "      <td>3</td>\n",
       "      <td>0.000033</td>\n",
       "    </tr>\n",
       "    <tr>\n",
       "      <th>3</th>\n",
       "      <td>1.624463e+09</td>\n",
       "      <td>4</td>\n",
       "      <td>0.000044</td>\n",
       "    </tr>\n",
       "    <tr>\n",
       "      <th>4</th>\n",
       "      <td>1.624463e+09</td>\n",
       "      <td>7</td>\n",
       "      <td>0.000077</td>\n",
       "    </tr>\n",
       "    <tr>\n",
       "      <th>...</th>\n",
       "      <td>...</td>\n",
       "      <td>...</td>\n",
       "      <td>...</td>\n",
       "    </tr>\n",
       "    <tr>\n",
       "      <th>995</th>\n",
       "      <td>1.624464e+09</td>\n",
       "      <td>1333</td>\n",
       "      <td>0.000003</td>\n",
       "    </tr>\n",
       "    <tr>\n",
       "      <th>996</th>\n",
       "      <td>1.624464e+09</td>\n",
       "      <td>1334</td>\n",
       "      <td>0.000003</td>\n",
       "    </tr>\n",
       "    <tr>\n",
       "      <th>997</th>\n",
       "      <td>1.624464e+09</td>\n",
       "      <td>1335</td>\n",
       "      <td>0.000003</td>\n",
       "    </tr>\n",
       "    <tr>\n",
       "      <th>998</th>\n",
       "      <td>1.624464e+09</td>\n",
       "      <td>1338</td>\n",
       "      <td>0.000003</td>\n",
       "    </tr>\n",
       "    <tr>\n",
       "      <th>999</th>\n",
       "      <td>1.624464e+09</td>\n",
       "      <td>1339</td>\n",
       "      <td>0.000003</td>\n",
       "    </tr>\n",
       "  </tbody>\n",
       "</table>\n",
       "<p>1000 rows × 3 columns</p>\n",
       "</div>"
      ],
      "text/plain": [
       "        Wall time  Step     Value\n",
       "0    1.624463e+09     0  0.000000\n",
       "1    1.624463e+09     2  0.000022\n",
       "2    1.624463e+09     3  0.000033\n",
       "3    1.624463e+09     4  0.000044\n",
       "4    1.624463e+09     7  0.000077\n",
       "..            ...   ...       ...\n",
       "995  1.624464e+09  1333  0.000003\n",
       "996  1.624464e+09  1334  0.000003\n",
       "997  1.624464e+09  1335  0.000003\n",
       "998  1.624464e+09  1338  0.000003\n",
       "999  1.624464e+09  1339  0.000003\n",
       "\n",
       "[1000 rows x 3 columns]"
      ]
     },
     "execution_count": 81,
     "metadata": {},
     "output_type": "execute_result"
    }
   ],
   "source": [
    "lrs_df"
   ]
  },
  {
   "cell_type": "code",
   "execution_count": 109,
   "metadata": {},
   "outputs": [
    {
     "data": {
      "text/html": [
       "\n",
       "\n",
       "\n",
       "\n",
       "\n",
       "\n",
       "  <div class=\"bk-root\" id=\"9bf58ef8-ab0e-4e55-bc31-cc3b2db83db3\" data-root-id=\"17704\"></div>\n"
      ]
     },
     "metadata": {},
     "output_type": "display_data"
    },
    {
     "data": {
      "application/javascript": [
       "(function(root) {\n",
       "  function embed_document(root) {\n",
       "    \n",
       "  var docs_json = {\"15c16a6c-8ad1-4809-b4f0-ee1de9d9eb80\":{\"roots\":{\"references\":[{\"attributes\":{\"below\":[{\"id\":\"17715\",\"type\":\"LinearAxis\"}],\"center\":[{\"id\":\"17719\",\"type\":\"Grid\"},{\"id\":\"17724\",\"type\":\"Grid\"}],\"left\":[{\"id\":\"17720\",\"type\":\"LinearAxis\"}],\"plot_height\":320,\"plot_width\":960,\"renderers\":[{\"id\":\"17742\",\"type\":\"GlyphRenderer\"}],\"title\":{\"id\":\"17705\",\"type\":\"Title\"},\"toolbar\":{\"id\":\"17731\",\"type\":\"Toolbar\"},\"toolbar_location\":null,\"x_range\":{\"id\":\"17738\",\"type\":\"Range1d\"},\"x_scale\":{\"id\":\"17711\",\"type\":\"LinearScale\"},\"y_range\":{\"id\":\"17709\",\"type\":\"DataRange1d\"},\"y_scale\":{\"id\":\"17713\",\"type\":\"LinearScale\"}},\"id\":\"17704\",\"subtype\":\"Figure\",\"type\":\"Plot\"},{\"attributes\":{\"active_drag\":\"auto\",\"active_inspect\":\"auto\",\"active_multi\":null,\"active_scroll\":\"auto\",\"active_tap\":\"auto\",\"tools\":[{\"id\":\"17725\",\"type\":\"PanTool\"},{\"id\":\"17726\",\"type\":\"WheelZoomTool\"},{\"id\":\"17727\",\"type\":\"BoxZoomTool\"},{\"id\":\"17728\",\"type\":\"SaveTool\"},{\"id\":\"17729\",\"type\":\"ResetTool\"},{\"id\":\"17730\",\"type\":\"HelpTool\"}]},\"id\":\"17731\",\"type\":\"Toolbar\"},{\"attributes\":{\"callback\":null,\"end\":1440},\"id\":\"17738\",\"type\":\"Range1d\"},{\"attributes\":{\"x\":{\"field\":\"x\"},\"y\":{\"field\":\"y\"}},\"id\":\"17740\",\"type\":\"Line\"},{\"attributes\":{},\"id\":\"17725\",\"type\":\"PanTool\"},{\"attributes\":{\"data_source\":{\"id\":\"17739\",\"type\":\"ColumnDataSource\"},\"glyph\":{\"id\":\"17740\",\"type\":\"Line\"},\"hover_glyph\":null,\"muted_glyph\":null,\"nonselection_glyph\":{\"id\":\"17741\",\"type\":\"Line\"},\"selection_glyph\":null,\"view\":{\"id\":\"17743\",\"type\":\"CDSView\"}},\"id\":\"17742\",\"type\":\"GlyphRenderer\"},{\"attributes\":{\"text\":\"EDSLSTM Learning Rate Schedule.\",\"text_font_size\":{\"value\":\"14pt\"}},\"id\":\"17705\",\"type\":\"Title\"},{\"attributes\":{},\"id\":\"17726\",\"type\":\"WheelZoomTool\"},{\"attributes\":{\"overlay\":{\"id\":\"18385\",\"type\":\"BoxAnnotation\"}},\"id\":\"17727\",\"type\":\"BoxZoomTool\"},{\"attributes\":{},\"id\":\"17711\",\"type\":\"LinearScale\"},{\"attributes\":{},\"id\":\"17728\",\"type\":\"SaveTool\"},{\"attributes\":{},\"id\":\"18384\",\"type\":\"Selection\"},{\"attributes\":{},\"id\":\"18380\",\"type\":\"BasicTickFormatter\"},{\"attributes\":{},\"id\":\"17729\",\"type\":\"ResetTool\"},{\"attributes\":{\"callback\":null},\"id\":\"17709\",\"type\":\"DataRange1d\"},{\"attributes\":{\"callback\":null,\"data\":{\"x\":[0,2,3,4,7,9,10,11,14,15,16,18,19,20,22,23,26,27,28,29,30,31,32,33,34,36,37,38,39,40,42,43,47,48,49,50,51,52,53,54,55,57,60,61,62,63,65,66,67,68,70,71,73,75,77,78,79,80,81,82,83,85,86,87,89,90,92,94,95,96,99,100,103,104,106,107,108,109,110,111,112,114,115,116,117,119,120,121,125,126,127,128,129,130,131,132,134,136,137,138,139,140,141,143,144,145,146,147,148,150,154,156,157,158,159,160,161,162,163,164,166,168,169,170,171,172,174,175,176,177,178,180,181,182,183,184,185,186,189,190,191,192,193,195,197,198,199,200,202,203,204,205,206,207,208,209,210,211,213,215,216,218,219,220,221,222,224,225,226,229,231,232,233,234,235,236,237,238,239,241,242,244,245,246,247,248,249,252,253,254,255,257,258,259,260,262,263,265,268,270,271,273,274,275,276,278,279,280,281,282,283,284,285,286,287,288,290,291,295,296,297,298,299,300,303,304,305,306,307,308,309,311,312,313,314,315,316,318,319,320,321,322,324,327,329,330,331,332,333,334,336,337,338,340,342,343,344,345,346,347,348,349,350,352,353,354,355,357,358,360,361,362,363,364,365,366,367,368,369,373,374,375,377,378,381,382,384,385,386,389,390,391,392,393,394,395,396,397,398,399,400,401,402,403,404,405,406,407,408,409,412,413,414,415,418,419,421,422,424,425,426,427,429,430,431,434,435,436,437,438,439,440,441,443,444,445,446,450,451,452,453,454,455,456,458,460,461,462,463,464,465,466,468,469,470,471,473,474,475,478,479,480,481,482,483,484,486,487,488,489,490,491,494,495,497,498,499,501,502,503,506,507,508,509,510,511,512,513,514,516,517,518,519,520,521,523,526,527,530,532,533,534,535,536,537,538,539,540,541,542,543,544,546,547,548,550,552,553,554,555,556,558,559,561,562,563,564,566,567,568,569,571,573,575,576,577,580,584,585,586,588,589,590,591,592,593,594,595,596,597,598,599,601,602,603,604,605,607,608,609,610,613,614,616,617,618,619,620,621,622,623,625,626,627,628,629,632,633,634,635,636,637,640,641,642,643,644,645,648,649,651,652,653,654,655,658,659,660,661,663,665,667,669,670,671,672,673,675,676,677,678,679,680,682,683,684,685,687,688,689,690,692,693,694,695,696,697,699,700,702,703,705,708,709,710,712,713,715,716,717,719,720,721,722,723,724,725,726,727,728,729,730,731,732,733,734,735,736,738,739,740,742,743,744,745,746,751,752,753,755,756,757,758,759,762,763,764,765,766,767,768,769,770,771,772,773,775,776,777,778,779,780,781,782,783,786,787,788,789,790,791,793,794,795,796,797,799,800,804,805,806,807,808,810,811,813,814,815,817,818,819,820,821,822,823,824,825,826,827,828,829,830,832,833,834,835,836,837,839,840,842,843,845,847,850,851,854,856,857,858,860,861,862,865,866,868,869,870,871,874,876,877,878,880,881,882,883,884,885,886,887,888,889,890,892,893,895,897,898,901,902,904,905,906,907,908,910,911,913,914,916,917,918,919,920,921,922,923,924,926,927,928,929,930,931,932,933,934,935,939,940,941,942,943,945,946,947,949,950,952,954,955,956,957,959,960,961,962,963,964,965,967,968,971,972,976,977,978,979,980,981,982,983,986,987,988,989,990,992,994,995,996,998,999,1000,1001,1002,1003,1004,1005,1006,1007,1011,1013,1014,1015,1016,1017,1020,1022,1023,1025,1026,1028,1029,1031,1035,1036,1037,1038,1039,1043,1045,1046,1048,1049,1050,1052,1053,1054,1056,1058,1059,1060,1062,1063,1065,1066,1067,1068,1069,1070,1071,1072,1073,1074,1077,1078,1080,1081,1082,1083,1085,1086,1087,1088,1091,1092,1093,1098,1100,1102,1103,1104,1106,1107,1108,1109,1110,1111,1112,1113,1114,1116,1117,1119,1120,1121,1122,1125,1126,1128,1129,1130,1131,1132,1133,1134,1135,1136,1137,1139,1140,1142,1143,1145,1146,1148,1149,1150,1151,1152,1153,1155,1156,1157,1159,1160,1162,1163,1164,1165,1166,1167,1168,1172,1173,1174,1176,1177,1178,1180,1181,1182,1184,1186,1188,1189,1190,1191,1193,1194,1195,1196,1197,1198,1201,1202,1205,1206,1207,1209,1210,1213,1214,1215,1217,1218,1219,1220,1221,1222,1223,1225,1228,1229,1232,1233,1234,1235,1236,1238,1240,1241,1242,1243,1244,1245,1246,1247,1248,1249,1250,1251,1252,1253,1254,1256,1257,1260,1261,1263,1264,1265,1266,1267,1268,1271,1272,1275,1276,1277,1278,1279,1280,1282,1283,1285,1286,1288,1290,1291,1292,1293,1295,1296,1298,1299,1300,1301,1302,1304,1305,1306,1307,1309,1310,1311,1312,1313,1314,1315,1318,1319,1320,1321,1322,1323,1324,1325,1326,1327,1328,1329,1330,1333,1334,1335,1338,1339],\"y\":{\"__ndarray__\":\"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\",\"dtype\":\"float64\",\"shape\":[1000]}},\"selected\":{\"id\":\"18384\",\"type\":\"Selection\"},\"selection_policy\":{\"id\":\"18383\",\"type\":\"UnionRenderers\"}},\"id\":\"17739\",\"type\":\"ColumnDataSource\"},{\"attributes\":{\"source\":{\"id\":\"17739\",\"type\":\"ColumnDataSource\"}},\"id\":\"17743\",\"type\":\"CDSView\"},{\"attributes\":{},\"id\":\"17713\",\"type\":\"LinearScale\"},{\"attributes\":{},\"id\":\"17730\",\"type\":\"HelpTool\"},{\"attributes\":{\"axis_label\":\"Training Step\",\"axis_label_text_font_size\":{\"value\":\"14pt\"},\"formatter\":{\"id\":\"18382\",\"type\":\"BasicTickFormatter\"},\"major_label_text_font_size\":{\"value\":\"12pt\"},\"ticker\":{\"id\":\"17716\",\"type\":\"BasicTicker\"}},\"id\":\"17715\",\"type\":\"LinearAxis\"},{\"attributes\":{},\"id\":\"17721\",\"type\":\"BasicTicker\"},{\"attributes\":{},\"id\":\"17716\",\"type\":\"BasicTicker\"},{\"attributes\":{},\"id\":\"18383\",\"type\":\"UnionRenderers\"},{\"attributes\":{\"grid_line_alpha\":0.3,\"ticker\":{\"id\":\"17716\",\"type\":\"BasicTicker\"}},\"id\":\"17719\",\"type\":\"Grid\"},{\"attributes\":{\"dimension\":1,\"grid_line_alpha\":0.3,\"ticker\":{\"id\":\"17721\",\"type\":\"BasicTicker\"}},\"id\":\"17724\",\"type\":\"Grid\"},{\"attributes\":{\"axis_label\":\"Learning Rate\",\"axis_label_text_font_size\":{\"value\":\"14pt\"},\"formatter\":{\"id\":\"18380\",\"type\":\"BasicTickFormatter\"},\"major_label_text_font_size\":{\"value\":\"12pt\"},\"ticker\":{\"id\":\"17721\",\"type\":\"BasicTicker\"}},\"id\":\"17720\",\"type\":\"LinearAxis\"},{\"attributes\":{},\"id\":\"18382\",\"type\":\"BasicTickFormatter\"},{\"attributes\":{\"bottom_units\":\"screen\",\"fill_alpha\":{\"value\":0.5},\"fill_color\":{\"value\":\"lightgrey\"},\"left_units\":\"screen\",\"level\":\"overlay\",\"line_alpha\":{\"value\":1.0},\"line_color\":{\"value\":\"black\"},\"line_dash\":[4,4],\"line_width\":{\"value\":2},\"render_mode\":\"css\",\"right_units\":\"screen\",\"top_units\":\"screen\"},\"id\":\"18385\",\"type\":\"BoxAnnotation\"},{\"attributes\":{\"line_alpha\":0.1,\"line_color\":\"#1f77b4\",\"x\":{\"field\":\"x\"},\"y\":{\"field\":\"y\"}},\"id\":\"17741\",\"type\":\"Line\"}],\"root_ids\":[\"17704\"]},\"title\":\"Bokeh Application\",\"version\":\"1.4.0\"}};\n",
       "  var render_items = [{\"docid\":\"15c16a6c-8ad1-4809-b4f0-ee1de9d9eb80\",\"roots\":{\"17704\":\"9bf58ef8-ab0e-4e55-bc31-cc3b2db83db3\"}}];\n",
       "  root.Bokeh.embed.embed_items_notebook(docs_json, render_items);\n",
       "\n",
       "  }\n",
       "  if (root.Bokeh !== undefined) {\n",
       "    embed_document(root);\n",
       "  } else {\n",
       "    var attempts = 0;\n",
       "    var timer = setInterval(function(root) {\n",
       "      if (root.Bokeh !== undefined) {\n",
       "        clearInterval(timer);\n",
       "        embed_document(root);\n",
       "      } else {\n",
       "        attempts++;\n",
       "        if (attempts > 100) {\n",
       "          clearInterval(timer);\n",
       "          console.log(\"Bokeh: ERROR: Unable to run BokehJS code because BokehJS library is missing\");\n",
       "        }\n",
       "      }\n",
       "    }, 10, root)\n",
       "  }\n",
       "})(window);"
      ],
      "application/vnd.bokehjs_exec.v0+json": ""
     },
     "metadata": {
      "application/vnd.bokehjs_exec.v0+json": {
       "id": "17704"
      }
     },
     "output_type": "display_data"
    }
   ],
   "source": [
    "\n",
    "plots['edslstm_lrs'] = figure(\n",
    "    plot_width=960,\n",
    "    plot_height=320,\n",
    "    title='EDSLSTM Learning Rate Schedule.',\n",
    "    toolbar_location=None,\n",
    ")\n",
    "\n",
    "plots['edslstm_lrs'].grid.grid_line_alpha=0.3\n",
    "\n",
    "# a custom x range to visuallly improve the the plot\n",
    "plots['edslstm_lrs'].x_range = Range1d(\n",
    "    start=0,\n",
    "    end=1440\n",
    ")\n",
    "\n",
    "plots['edslstm_lrs'].title.text_font_size = '14pt'\n",
    "\n",
    "plots['edslstm_lrs'].xaxis.axis_label_text_font_size = \"14pt\"\n",
    "plots['edslstm_lrs'].yaxis.axis_label_text_font_size = \"14pt\"\n",
    "\n",
    "plots['edslstm_lrs'].xaxis.major_label_text_font_size = \"12pt\"\n",
    "plots['edslstm_lrs'].yaxis.major_label_text_font_size = \"12pt\"\n",
    "\n",
    "plots['edslstm_lrs'].xaxis.axis_label = 'Training Step'\n",
    "plots['edslstm_lrs'].yaxis.axis_label = 'Learning Rate'\n",
    "\n",
    "# adjust SMAPE for percentage value\n",
    "plots['edslstm_lrs'].line(\n",
    "    x=lrs_df['Step'],\n",
    "    y=lrs_df['Value'],\n",
    "    color='black',\n",
    ")\n",
    "\n",
    "show(plots['edslstm_lrs'])"
   ]
  },
  {
   "cell_type": "code",
   "execution_count": 84,
   "metadata": {},
   "outputs": [],
   "source": [
    "eval_loss = 0.000988"
   ]
  },
  {
   "cell_type": "code",
   "execution_count": 113,
   "metadata": {},
   "outputs": [
    {
     "data": {
      "text/html": [
       "\n",
       "\n",
       "\n",
       "\n",
       "\n",
       "\n",
       "  <div class=\"bk-root\" id=\"83009147-26bc-44f0-9098-49d9bf138414\" data-root-id=\"22628\"></div>\n"
      ]
     },
     "metadata": {},
     "output_type": "display_data"
    },
    {
     "data": {
      "application/javascript": [
       "(function(root) {\n",
       "  function embed_document(root) {\n",
       "    \n",
       "  var docs_json = {\"eab93a98-5ba2-44ca-934c-7ed58180dbb8\":{\"roots\":{\"references\":[{\"attributes\":{\"below\":[{\"id\":\"22639\",\"type\":\"LinearAxis\"}],\"center\":[{\"id\":\"22643\",\"type\":\"Grid\"},{\"id\":\"22648\",\"type\":\"Grid\"},{\"id\":\"22669\",\"type\":\"Span\"}],\"left\":[{\"id\":\"22644\",\"type\":\"LinearAxis\"}],\"plot_height\":320,\"plot_width\":960,\"renderers\":[{\"id\":\"22667\",\"type\":\"GlyphRenderer\"}],\"title\":{\"id\":\"22629\",\"type\":\"Title\"},\"toolbar\":{\"id\":\"22655\",\"type\":\"Toolbar\"},\"toolbar_location\":null,\"x_range\":{\"id\":\"22662\",\"type\":\"Range1d\"},\"x_scale\":{\"id\":\"22635\",\"type\":\"LinearScale\"},\"y_range\":{\"id\":\"22663\",\"type\":\"Range1d\"},\"y_scale\":{\"id\":\"22637\",\"type\":\"LinearScale\"}},\"id\":\"22628\",\"subtype\":\"Figure\",\"type\":\"Plot\"},{\"attributes\":{},\"id\":\"22640\",\"type\":\"BasicTicker\"},{\"attributes\":{},\"id\":\"22650\",\"type\":\"WheelZoomTool\"},{\"attributes\":{\"bottom_units\":\"screen\",\"fill_alpha\":{\"value\":0.5},\"fill_color\":{\"value\":\"lightgrey\"},\"left_units\":\"screen\",\"level\":\"overlay\",\"line_alpha\":{\"value\":1.0},\"line_color\":{\"value\":\"black\"},\"line_dash\":[4,4],\"line_width\":{\"value\":2},\"render_mode\":\"css\",\"right_units\":\"screen\",\"top_units\":\"screen\"},\"id\":\"23343\",\"type\":\"BoxAnnotation\"},{\"attributes\":{},\"id\":\"22649\",\"type\":\"PanTool\"},{\"attributes\":{\"callback\":null,\"end\":0.02},\"id\":\"22663\",\"type\":\"Range1d\"},{\"attributes\":{\"axis_label\":\"Training Step\",\"axis_label_text_font_size\":{\"value\":\"14pt\"},\"formatter\":{\"id\":\"23340\",\"type\":\"BasicTickFormatter\"},\"major_label_text_font_size\":{\"value\":\"12pt\"},\"ticker\":{\"id\":\"22640\",\"type\":\"BasicTicker\"}},\"id\":\"22639\",\"type\":\"LinearAxis\"},{\"attributes\":{\"overlay\":{\"id\":\"23343\",\"type\":\"BoxAnnotation\"}},\"id\":\"22651\",\"type\":\"BoxZoomTool\"},{\"attributes\":{\"dimension\":1,\"grid_line_alpha\":0.3,\"ticker\":{\"id\":\"22645\",\"type\":\"BasicTicker\"}},\"id\":\"22648\",\"type\":\"Grid\"},{\"attributes\":{\"x\":{\"field\":\"x\"},\"y\":{\"field\":\"y\"}},\"id\":\"22665\",\"type\":\"Line\"},{\"attributes\":{},\"id\":\"22635\",\"type\":\"LinearScale\"},{\"attributes\":{\"active_drag\":\"auto\",\"active_inspect\":\"auto\",\"active_multi\":null,\"active_scroll\":\"auto\",\"active_tap\":\"auto\",\"tools\":[{\"id\":\"22649\",\"type\":\"PanTool\"},{\"id\":\"22650\",\"type\":\"WheelZoomTool\"},{\"id\":\"22651\",\"type\":\"BoxZoomTool\"},{\"id\":\"22652\",\"type\":\"SaveTool\"},{\"id\":\"22653\",\"type\":\"ResetTool\"},{\"id\":\"22654\",\"type\":\"HelpTool\"}]},\"id\":\"22655\",\"type\":\"Toolbar\"},{\"attributes\":{\"axis_label\":\"Loss\",\"axis_label_text_font_size\":{\"value\":\"14pt\"},\"formatter\":{\"id\":\"23338\",\"type\":\"BasicTickFormatter\"},\"major_label_text_font_size\":{\"value\":\"12pt\"},\"ticker\":{\"id\":\"22645\",\"type\":\"BasicTicker\"}},\"id\":\"22644\",\"type\":\"LinearAxis\"},{\"attributes\":{\"text\":\"EDSLSTM Training Loss.\",\"text_font_size\":{\"value\":\"14pt\"}},\"id\":\"22629\",\"type\":\"Title\"},{\"attributes\":{},\"id\":\"23341\",\"type\":\"UnionRenderers\"},{\"attributes\":{\"line_dash\":[6],\"line_width\":{\"value\":2},\"location\":0.000988},\"id\":\"22669\",\"type\":\"Span\"},{\"attributes\":{\"source\":{\"id\":\"22664\",\"type\":\"ColumnDataSource\"}},\"id\":\"22668\",\"type\":\"CDSView\"},{\"attributes\":{\"line_alpha\":0.1,\"line_color\":\"#1f77b4\",\"x\":{\"field\":\"x\"},\"y\":{\"field\":\"y\"}},\"id\":\"22666\",\"type\":\"Line\"},{\"attributes\":{},\"id\":\"22654\",\"type\":\"HelpTool\"},{\"attributes\":{},\"id\":\"23340\",\"type\":\"BasicTickFormatter\"},{\"attributes\":{},\"id\":\"22653\",\"type\":\"ResetTool\"},{\"attributes\":{\"callback\":null,\"data\":{\"x\":[0,2,3,4,7,9,10,11,14,15,16,18,19,20,22,23,26,27,28,29,30,31,32,33,34,36,37,38,39,40,42,43,47,48,49,50,51,52,53,54,55,57,60,61,62,63,65,66,67,68,70,71,73,75,77,78,79,80,81,82,83,85,86,87,89,90,92,94,95,96,99,100,103,104,106,107,108,109,110,111,112,114,115,116,117,119,120,121,125,126,127,128,129,130,131,132,134,136,137,138,139,140,141,143,144,145,146,147,148,150,154,156,157,158,159,160,161,162,163,164,166,168,169,170,171,172,174,175,176,177,178,180,181,182,183,184,185,186,189,190,191,192,193,195,197,198,199,200,202,203,204,205,206,207,208,209,210,211,213,215,216,218,219,220,221,222,224,225,226,229,231,232,233,234,235,236,237,238,239,241,242,244,245,246,247,248,249,252,253,254,255,257,258,259,260,262,263,265,268,270,271,273,274,275,276,278,279,280,281,282,283,284,285,286,287,288,290,291,295,296,297,298,299,300,303,304,305,306,307,308,309,311,312,313,314,315,316,318,319,320,321,322,324,327,329,330,331,332,333,334,336,337,338,340,342,343,344,345,346,347,348,349,350,352,353,354,355,357,358,360,361,362,363,364,365,366,367,368,369,373,374,375,377,378,381,382,384,385,386,389,390,391,392,393,394,395,396,397,398,399,400,401,402,403,404,405,406,407,408,409,412,413,414,415,418,419,421,422,424,425,426,427,429,430,431,434,435,436,437,438,439,440,441,443,444,445,446,450,451,452,453,454,455,456,458,460,461,462,463,464,465,466,468,469,470,471,473,474,475,478,479,480,481,482,483,484,486,487,488,489,490,491,494,495,497,498,499,501,502,503,506,507,508,509,510,511,512,513,514,516,517,518,519,520,521,523,526,527,530,532,533,534,535,536,537,538,539,540,541,542,543,544,546,547,548,550,552,553,554,555,556,558,559,561,562,563,564,566,567,568,569,571,573,575,576,577,580,584,585,586,588,589,590,591,592,593,594,595,596,597,598,599,601,602,603,604,605,607,608,609,610,613,614,616,617,618,619,620,621,622,623,625,626,627,628,629,632,633,634,635,636,637,640,641,642,643,644,645,648,649,651,652,653,654,655,658,659,660,661,663,665,667,669,670,671,672,673,675,676,677,678,679,680,682,683,684,685,687,688,689,690,692,693,694,695,696,697,699,700,702,703,705,708,709,710,712,713,715,716,717,719,720,721,722,723,724,725,726,727,728,729,730,731,732,733,734,735,736,738,739,740,742,743,744,745,746,751,752,753,755,756,757,758,759,762,763,764,765,766,767,768,769,770,771,772,773,775,776,777,778,779,780,781,782,783,786,787,788,789,790,791,793,794,795,796,797,799,800,804,805,806,807,808,810,811,813,814,815,817,818,819,820,821,822,823,824,825,826,827,828,829,830,832,833,834,835,836,837,839,840,842,843,845,847,850,851,854,856,857,858,860,861,862,865,866,868,869,870,871,874,876,877,878,880,881,882,883,884,885,886,887,888,889,890,892,893,895,897,898,901,902,904,905,906,907,908,910,911,913,914,916,917,918,919,920,921,922,923,924,926,927,928,929,930,931,932,933,934,935,939,940,941,942,943,945,946,947,949,950,952,954,955,956,957,959,960,961,962,963,964,965,967,968,971,972,976,977,978,979,980,981,982,983,986,987,988,989,990,992,994,995,996,998,999,1000,1001,1002,1003,1004,1005,1006,1007,1011,1013,1014,1015,1016,1017,1020,1022,1023,1025,1026,1028,1029,1031,1035,1036,1037,1038,1039,1043,1045,1046,1048,1049,1050,1052,1053,1054,1056,1058,1059,1060,1062,1063,1065,1066,1067,1068,1069,1070,1071,1072,1073,1074,1077,1078,1080,1081,1082,1083,1085,1086,1087,1088,1091,1092,1093,1098,1100,1102,1103,1104,1106,1107,1108,1109,1110,1111,1112,1113,1114,1116,1117,1119,1120,1121,1122,1125,1126,1128,1129,1130,1131,1132,1133,1134,1135,1136,1137,1139,1140,1142,1143,1145,1146,1148,1149,1150,1151,1152,1153,1155,1156,1157,1159,1160,1162,1163,1164,1165,1166,1167,1168,1172,1173,1174,1176,1177,1178,1180,1181,1182,1184,1186,1188,1189,1190,1191,1193,1194,1195,1196,1197,1198,1201,1202,1205,1206,1207,1209,1210,1213,1214,1215,1217,1218,1219,1220,1221,1222,1223,1225,1228,1229,1232,1233,1234,1235,1236,1238,1240,1241,1242,1243,1244,1245,1246,1247,1248,1249,1250,1251,1252,1253,1254,1256,1257,1260,1261,1263,1264,1265,1266,1267,1268,1271,1272,1275,1276,1277,1278,1279,1280,1282,1283,1285,1286,1288,1290,1291,1292,1293,1295,1296,1298,1299,1300,1301,1302,1304,1305,1306,1307,1309,1310,1311,1312,1313,1314,1315,1318,1319,1320,1321,1322,1323,1324,1325,1326,1327,1328,1329,1330,1333,1334,1335,1338,1339],\"y\":{\"__ndarray__\":\"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\",\"dtype\":\"float64\",\"shape\":[1000]}},\"selected\":{\"id\":\"23342\",\"type\":\"Selection\"},\"selection_policy\":{\"id\":\"23341\",\"type\":\"UnionRenderers\"}},\"id\":\"22664\",\"type\":\"ColumnDataSource\"},{\"attributes\":{},\"id\":\"23338\",\"type\":\"BasicTickFormatter\"},{\"attributes\":{},\"id\":\"23342\",\"type\":\"Selection\"},{\"attributes\":{\"data_source\":{\"id\":\"22664\",\"type\":\"ColumnDataSource\"},\"glyph\":{\"id\":\"22665\",\"type\":\"Line\"},\"hover_glyph\":null,\"muted_glyph\":null,\"nonselection_glyph\":{\"id\":\"22666\",\"type\":\"Line\"},\"selection_glyph\":null,\"view\":{\"id\":\"22668\",\"type\":\"CDSView\"}},\"id\":\"22667\",\"type\":\"GlyphRenderer\"},{\"attributes\":{\"callback\":null,\"end\":1440},\"id\":\"22662\",\"type\":\"Range1d\"},{\"attributes\":{},\"id\":\"22652\",\"type\":\"SaveTool\"},{\"attributes\":{\"grid_line_alpha\":0.3,\"ticker\":{\"id\":\"22640\",\"type\":\"BasicTicker\"}},\"id\":\"22643\",\"type\":\"Grid\"},{\"attributes\":{},\"id\":\"22637\",\"type\":\"LinearScale\"},{\"attributes\":{},\"id\":\"22645\",\"type\":\"BasicTicker\"}],\"root_ids\":[\"22628\"]},\"title\":\"Bokeh Application\",\"version\":\"1.4.0\"}};\n",
       "  var render_items = [{\"docid\":\"eab93a98-5ba2-44ca-934c-7ed58180dbb8\",\"roots\":{\"22628\":\"83009147-26bc-44f0-9098-49d9bf138414\"}}];\n",
       "  root.Bokeh.embed.embed_items_notebook(docs_json, render_items);\n",
       "\n",
       "  }\n",
       "  if (root.Bokeh !== undefined) {\n",
       "    embed_document(root);\n",
       "  } else {\n",
       "    var attempts = 0;\n",
       "    var timer = setInterval(function(root) {\n",
       "      if (root.Bokeh !== undefined) {\n",
       "        clearInterval(timer);\n",
       "        embed_document(root);\n",
       "      } else {\n",
       "        attempts++;\n",
       "        if (attempts > 100) {\n",
       "          clearInterval(timer);\n",
       "          console.log(\"Bokeh: ERROR: Unable to run BokehJS code because BokehJS library is missing\");\n",
       "        }\n",
       "      }\n",
       "    }, 10, root)\n",
       "  }\n",
       "})(window);"
      ],
      "application/vnd.bokehjs_exec.v0+json": ""
     },
     "metadata": {
      "application/vnd.bokehjs_exec.v0+json": {
       "id": "22628"
      }
     },
     "output_type": "display_data"
    }
   ],
   "source": [
    "\n",
    "plots['edslstm_loss'] = figure(\n",
    "    plot_width=960,\n",
    "    plot_height=320,\n",
    "    title='EDSLSTM Training Loss.',\n",
    "    toolbar_location=None,\n",
    ")\n",
    "\n",
    "plots['edslstm_loss'].grid.grid_line_alpha=0.3\n",
    "\n",
    "# a custom x range to visuallly improve the the plot\n",
    "plots['edslstm_loss'].x_range = Range1d(\n",
    "    start=0,\n",
    "    end=1440\n",
    ")\n",
    "\n",
    "# a custom y range to visuallly improve the the plot\n",
    "plots['edslstm_loss'].y_range = Range1d (\n",
    "    start=0,\n",
    "    end=0.02\n",
    ")\n",
    "\n",
    "plots['edslstm_loss'].title.text_font_size = '14pt'\n",
    "\n",
    "plots['edslstm_loss'].xaxis.axis_label_text_font_size = \"14pt\"\n",
    "plots['edslstm_loss'].yaxis.axis_label_text_font_size = \"14pt\"\n",
    "\n",
    "plots['edslstm_loss'].xaxis.major_label_text_font_size = \"12pt\"\n",
    "plots['edslstm_loss'].yaxis.major_label_text_font_size = \"12pt\"\n",
    "\n",
    "plots['edslstm_loss'].xaxis.axis_label = 'Training Step'\n",
    "plots['edslstm_loss'].yaxis.axis_label = 'Loss'\n",
    "\n",
    "plots['edslstm_loss'].line(\n",
    "    x=loss_df['Step'],\n",
    "    y=loss_df['Value'],\n",
    "    color='black',\n",
    ")\n",
    "\n",
    "final_eval_loss = Span(\n",
    "    location=eval_loss,\n",
    "    dimension='width',\n",
    "    line_color='black',\n",
    "    line_dash='dashed',\n",
    "    line_width=2)\n",
    "\n",
    "plots['edslstm_loss'].add_layout(final_eval_loss)\n",
    "\n",
    "show(plots['edslstm_loss'])"
   ]
  },
  {
   "cell_type": "code",
   "execution_count": null,
   "metadata": {},
   "outputs": [],
   "source": []
  },
  {
   "cell_type": "code",
   "execution_count": 4,
   "metadata": {},
   "outputs": [],
   "source": [
    "from tensorboard.backend.event_processing import event_accumulator"
   ]
  },
  {
   "cell_type": "code",
   "execution_count": 5,
   "metadata": {},
   "outputs": [],
   "source": [
    "def get_wall_time(path_to_logdir):\n",
    "    '''\n",
    "    receives a UNIX path to a TensorBoard logdir of a model\n",
    "    returns the wall time for the model training process\n",
    "    '''\n",
    "    # an event accumulator to the logdir\n",
    "    ea = event_accumulator.EventAccumulator(path_to_logdir,\n",
    "                                            size_guidance={ # see below regarding this argument\n",
    "                                                # event_accumulator.COMPRESSED_HISTOGRAMS: 500, # not used\n",
    "                                                # event_accumulator.IMAGES: 4, # not used\n",
    "                                                # event_accumulator.AUDIO: 4, # not used\n",
    "                                                event_accumulator.SCALARS: 0, # retrieve all\n",
    "                                                event_accumulator.TENSORS: 0, # retrieve all\n",
    "                                                # event_accumulator.HISTOGRAMS: 1 # not used\n",
    "                                            }\n",
    "                                           )\n",
    "    # loads events from file\n",
    "    ea.Reload()\n",
    "    \n",
    "    # wall time is end time - start time\n",
    "    wall_time = ea.Tensors('loss')[-1][0] - ea.Tensors('loss')[0][0]\n",
    "    print(\"Wall time for model in '{}' is {} seconds.\".format(path_to_logdir,\n",
    "                                                            wall_time))\n",
    "    return wall_time"
   ]
  },
  {
   "cell_type": "code",
   "execution_count": 6,
   "metadata": {},
   "outputs": [],
   "source": [
    "models_list = [\n",
    "    '/home/developer/gcp/cbidmltsf/models/EDSLSTM_TPU_013_00',\n",
    "    '/home/developer/gcp/cbidmltsf/models/EDSLSTM_TPU_013_01',\n",
    "    '/home/developer/gcp/cbidmltsf/models/EDSLSTM_TPU_013_02',\n",
    "    '/home/developer/gcp/cbidmltsf/models/EDSLSTM_TPU_013_03',\n",
    "    '/home/developer/gcp/cbidmltsf/models/EDSLSTM_TPU_013_04',\n",
    "    '/home/developer/gcp/cbidmltsf/models/EDSLSTM_TPU_013_05',\n",
    "    '/home/developer/gcp/cbidmltsf/models/EDSLSTM_TPU_013_06',\n",
    "    '/home/developer/gcp/cbidmltsf/models/EDSLSTM_TPU_013_07',\n",
    "    '/home/developer/gcp/cbidmltsf/models/EDSLSTM_TPU_013_08',\n",
    "    '/home/developer/gcp/cbidmltsf/models/EDSLSTM_TPU_013_09',\n",
    "]"
   ]
  },
  {
   "cell_type": "code",
   "execution_count": 7,
   "metadata": {},
   "outputs": [
    {
     "name": "stderr",
     "output_type": "stream",
     "text": [
      "Found more than one graph event per run, or there was a metagraph containing a graph_def, as well as one or more graph events.  Overwriting the graph with the newest event.\n",
      "Found more than one metagraph event per run. Overwriting the metagraph with the newest event.\n",
      "Found more than one graph event per run, or there was a metagraph containing a graph_def, as well as one or more graph events.  Overwriting the graph with the newest event.\n",
      "Found more than one metagraph event per run. Overwriting the metagraph with the newest event.\n"
     ]
    },
    {
     "name": "stdout",
     "output_type": "stream",
     "text": [
      "Wall time for model in '/home/developer/gcp/cbidmltsf/models/EDSLSTM_TPU_013_00' is 28.576439142227173 seconds.\n",
      "Wall time for model in '/home/developer/gcp/cbidmltsf/models/EDSLSTM_TPU_013_01' is 28.590346097946167 seconds.\n"
     ]
    },
    {
     "name": "stderr",
     "output_type": "stream",
     "text": [
      "Found more than one graph event per run, or there was a metagraph containing a graph_def, as well as one or more graph events.  Overwriting the graph with the newest event.\n",
      "Found more than one metagraph event per run. Overwriting the metagraph with the newest event.\n",
      "Found more than one graph event per run, or there was a metagraph containing a graph_def, as well as one or more graph events.  Overwriting the graph with the newest event.\n",
      "Found more than one metagraph event per run. Overwriting the metagraph with the newest event.\n"
     ]
    },
    {
     "name": "stdout",
     "output_type": "stream",
     "text": [
      "Wall time for model in '/home/developer/gcp/cbidmltsf/models/EDSLSTM_TPU_013_02' is 28.598254919052124 seconds.\n",
      "Wall time for model in '/home/developer/gcp/cbidmltsf/models/EDSLSTM_TPU_013_03' is 28.64410400390625 seconds.\n"
     ]
    },
    {
     "name": "stderr",
     "output_type": "stream",
     "text": [
      "Found more than one graph event per run, or there was a metagraph containing a graph_def, as well as one or more graph events.  Overwriting the graph with the newest event.\n",
      "Found more than one metagraph event per run. Overwriting the metagraph with the newest event.\n",
      "Found more than one graph event per run, or there was a metagraph containing a graph_def, as well as one or more graph events.  Overwriting the graph with the newest event.\n",
      "Found more than one metagraph event per run. Overwriting the metagraph with the newest event.\n"
     ]
    },
    {
     "name": "stdout",
     "output_type": "stream",
     "text": [
      "Wall time for model in '/home/developer/gcp/cbidmltsf/models/EDSLSTM_TPU_013_04' is 28.65162682533264 seconds.\n",
      "Wall time for model in '/home/developer/gcp/cbidmltsf/models/EDSLSTM_TPU_013_05' is 28.654091119766235 seconds.\n"
     ]
    },
    {
     "name": "stderr",
     "output_type": "stream",
     "text": [
      "Found more than one graph event per run, or there was a metagraph containing a graph_def, as well as one or more graph events.  Overwriting the graph with the newest event.\n",
      "Found more than one metagraph event per run. Overwriting the metagraph with the newest event.\n",
      "Found more than one graph event per run, or there was a metagraph containing a graph_def, as well as one or more graph events.  Overwriting the graph with the newest event.\n",
      "Found more than one metagraph event per run. Overwriting the metagraph with the newest event.\n"
     ]
    },
    {
     "name": "stdout",
     "output_type": "stream",
     "text": [
      "Wall time for model in '/home/developer/gcp/cbidmltsf/models/EDSLSTM_TPU_013_06' is 28.659013032913208 seconds.\n",
      "Wall time for model in '/home/developer/gcp/cbidmltsf/models/EDSLSTM_TPU_013_07' is 28.676450967788696 seconds.\n"
     ]
    },
    {
     "name": "stderr",
     "output_type": "stream",
     "text": [
      "Found more than one graph event per run, or there was a metagraph containing a graph_def, as well as one or more graph events.  Overwriting the graph with the newest event.\n",
      "Found more than one metagraph event per run. Overwriting the metagraph with the newest event.\n",
      "Found more than one graph event per run, or there was a metagraph containing a graph_def, as well as one or more graph events.  Overwriting the graph with the newest event.\n",
      "Found more than one metagraph event per run. Overwriting the metagraph with the newest event.\n"
     ]
    },
    {
     "name": "stdout",
     "output_type": "stream",
     "text": [
      "Wall time for model in '/home/developer/gcp/cbidmltsf/models/EDSLSTM_TPU_013_08' is 28.672755002975464 seconds.\n",
      "Wall time for model in '/home/developer/gcp/cbidmltsf/models/EDSLSTM_TPU_013_09' is 28.656620979309082 seconds.\n"
     ]
    }
   ],
   "source": [
    "# a dataframe for wall times\n",
    "wall_times_list = [get_wall_time(model) for model in models_list\n",
    "    \n",
    "]"
   ]
  },
  {
   "cell_type": "code",
   "execution_count": 8,
   "metadata": {},
   "outputs": [
    {
     "data": {
      "text/plain": [
       "[28.576439142227173,\n",
       " 28.590346097946167,\n",
       " 28.598254919052124,\n",
       " 28.64410400390625,\n",
       " 28.65162682533264,\n",
       " 28.654091119766235,\n",
       " 28.659013032913208,\n",
       " 28.676450967788696,\n",
       " 28.672755002975464,\n",
       " 28.656620979309082]"
      ]
     },
     "execution_count": 8,
     "metadata": {},
     "output_type": "execute_result"
    }
   ],
   "source": [
    "wall_times_list"
   ]
  },
  {
   "cell_type": "code",
   "execution_count": 9,
   "metadata": {},
   "outputs": [
    {
     "name": "stdout",
     "output_type": "stream",
     "text": [
      "28.6380\n"
     ]
    }
   ],
   "source": [
    "print('{:0.4f}'.format(np.mean(wall_times_list)))"
   ]
  },
  {
   "cell_type": "code",
   "execution_count": 10,
   "metadata": {},
   "outputs": [
    {
     "name": "stdout",
     "output_type": "stream",
     "text": [
      "0.0341\n"
     ]
    }
   ],
   "source": [
    "print('{:0.4f}'.format(np.std(wall_times_list)))"
   ]
  },
  {
   "cell_type": "code",
   "execution_count": null,
   "metadata": {},
   "outputs": [],
   "source": []
  }
 ],
 "metadata": {
  "kernelspec": {
   "display_name": "Python 3",
   "language": "python",
   "name": "python3"
  },
  "language_info": {
   "codemirror_mode": {
    "name": "ipython",
    "version": 3
   },
   "file_extension": ".py",
   "mimetype": "text/x-python",
   "name": "python",
   "nbconvert_exporter": "python",
   "pygments_lexer": "ipython3",
   "version": "3.7.6"
  }
 },
 "nbformat": 4,
 "nbformat_minor": 4
}
